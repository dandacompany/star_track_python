{
  "cells": [
    {
      "cell_type": "markdown",
      "metadata": {
        "id": "o8gREODUUiLQ"
      },
      "source": [
        "## 🐍 파이썬 텍스트 분석: Chapter 7. 비지도 학습 (토픽 모델링과 군집화)\n",
        "\n",
        "이 노트북에서는 정해진 정답(레이블) 없이 데이터 자체의 특성만으로 숨겨진 구조를 찾아내는 **비지도 학습(Unsupervised Learning)** 기법을 배웁니다.\n",
        "\n",
        "텍스트 데이터의 주요 주제들을 자동으로 추출하는 **토픽 모델링(Topic Modeling)** 과 유사한 문서들을 그룹으로 묶는 **군집화(Clustering)** 를 실습합니다.\n",
        "\n",
        "---"
      ]
    },
    {
      "cell_type": "markdown",
      "metadata": {},
      "source": [
        "\n",
        "### 🤔 비지도 학습(Unsupervised Learning)이란 무엇일까요?\n",
        "\n",
        "**비지도 학습**은 말 그대로 '지도'(supervision)나 '정답'이 없는 데이터를 가지고 학습하는 방법입니다.\n",
        "\n",
        "이해를 돕기 위해 쉬운 비유를 들어보겠습니다. 🍎🍇🍊\n",
        "\n",
        "여러분 앞에 이름표가 없는 온갖 종류의 과일이 담긴 상자가 있다고 상상해 보세요. 사과, 오렌지, 포도, 바나나가 뒤죽박죽 섞여 있습니다. 여러분은 각 과일의 이름은 모르지만, **색깔, 모양, 크기**와 같은 특징을 보고 비슷한 것끼리 그룹으로 나눌 수는 있습니다.\n",
        "\n",
        "* \"동그랗고 빨간 것들은 이쪽에 모아두자.\" (아마도 사과 그룹)\n",
        "* \"길고 노란 것들은 저쪽에 모으자.\" (아마도 바나나 그룹)\n",
        "* \"작고 동그란 알맹이가 많이 달린 건 여기 두자.\" (아마도 포도 그룹)\n",
        "\n",
        "이렇게 정답(과일 이름)을 모르는 상태에서 데이터의 **내재된 특성(색, 모양, 크기)**만을 이용해 스스로 패턴이나 구조를 찾아내 그룹으로 나누는 과정이 바로 **비지도 학습**입니다.\n",
        "\n",
        "텍스트 분석에서의 비지도 학습도 마찬가지입니다. 수많은 뉴스 기사가 있을 때, 우리는 각 기사에 '스포츠', '정치', '경제' 같은 딱지를 붙여주지 않아도, 기사에 사용된 **단어들의 패턴**을 분석하여 비슷한 내용의 기사들을 그룹으로 묶거나(군집화), 전체 기사들을 관통하는 숨겨진 주제들(토픽 모델링)을 발견할 수 있습니다.\n",
        "\n",
        "* **지도 학습(Supervised Learning)과의 차이점:** 지도 학습은 \"이건 사과야\", \"이건 바나나야\"라고 이름표가 붙은 과일 사진(정답 데이터)을 먼저 학습한 뒤, 새로운 과일 사진을 보고 이름을 맞추는 방식입니다. 반면 비지도 학습은 이름표 없이 비슷한 것끼리 분류하는 방식이죠.\n",
        "\n",
        "이번 챕터에서는 텍스트 데이터의 숨겨진 구조를 파헤치는 두 가지 대표적인 비지도 학습 기법, **토픽 모델링**과 **군집화**를 실습해 보겠습니다.\n",
        "\n",
        "---\n",
        "\n",
        "### 💡 시작 전 준비: 토픽 분석용 데이터셋 생성 및 전처리\n",
        "\n",
        "토픽 모델링과 군집화는 여러 주제가 섞인 데이터에서 그 진가를 발휘합니다. 실습을 위해 다양한 분야의 뉴스 기사 제목으로 구성된 샘플 데이터셋을 만들고, **Kiwipiepy**를 사용하여 전처리합니다."
      ]
    },
    {
      "cell_type": "code",
      "execution_count": 11,
      "metadata": {
        "id": "2QfsO5OYUiLR"
      },
      "outputs": [
        {
          "data": {
            "text/html": [
              "<div>\n",
              "<style scoped>\n",
              "    .dataframe tbody tr th:only-of-type {\n",
              "        vertical-align: middle;\n",
              "    }\n",
              "\n",
              "    .dataframe tbody tr th {\n",
              "        vertical-align: top;\n",
              "    }\n",
              "\n",
              "    .dataframe thead th {\n",
              "        text-align: right;\n",
              "    }\n",
              "</style>\n",
              "<table border=\"1\" class=\"dataframe\">\n",
              "  <thead>\n",
              "    <tr style=\"text-align: right;\">\n",
              "      <th></th>\n",
              "      <th>category</th>\n",
              "      <th>document</th>\n",
              "    </tr>\n",
              "  </thead>\n",
              "  <tbody>\n",
              "    <tr>\n",
              "      <th>0</th>\n",
              "      <td>IT</td>\n",
              "      <td>과기부, 데이터-AI 기반 신규 서비스 개발 사업 공모</td>\n",
              "    </tr>\n",
              "    <tr>\n",
              "      <th>1</th>\n",
              "      <td>IT</td>\n",
              "      <td>구글, 차세대 인공지능 모델 제미나이 프로 공개</td>\n",
              "    </tr>\n",
              "    <tr>\n",
              "      <th>2</th>\n",
              "      <td>IT</td>\n",
              "      <td>오픈AI 라이벌 등장, 미스트랄AI 거대언어모델 공개</td>\n",
              "    </tr>\n",
              "    <tr>\n",
              "      <th>3</th>\n",
              "      <td>IT</td>\n",
              "      <td>네이버, 생성형 AI 하이퍼클로바X 기술 컨퍼런스 개최</td>\n",
              "    </tr>\n",
              "    <tr>\n",
              "      <th>4</th>\n",
              "      <td>정치</td>\n",
              "      <td>여야, 내년도 예산안 처리 막판 협상 돌입</td>\n",
              "    </tr>\n",
              "    <tr>\n",
              "      <th>5</th>\n",
              "      <td>정치</td>\n",
              "      <td>대통령, 국무회의 주재하며 민생 안정 대책 논의</td>\n",
              "    </tr>\n",
              "    <tr>\n",
              "      <th>6</th>\n",
              "      <td>정치</td>\n",
              "      <td>국회, 본회의 열어 법안 처리 예정</td>\n",
              "    </tr>\n",
              "    <tr>\n",
              "      <th>7</th>\n",
              "      <td>스포츠</td>\n",
              "      <td>손흥민, 리그 10호골 기록하며 팀 승리 이끌어</td>\n",
              "    </tr>\n",
              "    <tr>\n",
              "      <th>8</th>\n",
              "      <td>스포츠</td>\n",
              "      <td>프로농구 플레이오프, 4강 대진표 확정</td>\n",
              "    </tr>\n",
              "    <tr>\n",
              "      <th>9</th>\n",
              "      <td>스포츠</td>\n",
              "      <td>이정후, 메이저리그 샌프란시스코 자이언츠와 계약</td>\n",
              "    </tr>\n",
              "    <tr>\n",
              "      <th>10</th>\n",
              "      <td>경제</td>\n",
              "      <td>한국은행, 기준금리 3.5%로 동결 결정</td>\n",
              "    </tr>\n",
              "    <tr>\n",
              "      <th>11</th>\n",
              "      <td>경제</td>\n",
              "      <td>코스피, 외인 매수세에 힘입어 소폭 상승 마감</td>\n",
              "    </tr>\n",
              "  </tbody>\n",
              "</table>\n",
              "</div>"
            ],
            "text/plain": [
              "   category                        document\n",
              "0        IT  과기부, 데이터-AI 기반 신규 서비스 개발 사업 공모\n",
              "1        IT      구글, 차세대 인공지능 모델 제미나이 프로 공개\n",
              "2        IT   오픈AI 라이벌 등장, 미스트랄AI 거대언어모델 공개\n",
              "3        IT  네이버, 생성형 AI 하이퍼클로바X 기술 컨퍼런스 개최\n",
              "4        정치         여야, 내년도 예산안 처리 막판 협상 돌입\n",
              "5        정치      대통령, 국무회의 주재하며 민생 안정 대책 논의\n",
              "6        정치             국회, 본회의 열어 법안 처리 예정\n",
              "7       스포츠      손흥민, 리그 10호골 기록하며 팀 승리 이끌어\n",
              "8       스포츠           프로농구 플레이오프, 4강 대진표 확정\n",
              "9       스포츠      이정후, 메이저리그 샌프란시스코 자이언츠와 계약\n",
              "10       경제          한국은행, 기준금리 3.5%로 동결 결정\n",
              "11       경제       코스피, 외인 매수세에 힘입어 소폭 상승 마감"
            ]
          },
          "execution_count": 11,
          "metadata": {},
          "output_type": "execute_result"
        }
      ],
      "source": [
        "# 필요 라이브러리 설치\n",
        "# !pip install kiwipiepy scikit-learn pandas plotly pyldavis\n",
        "\n",
        "import pandas as pd\n",
        "import re\n",
        "from kiwipiepy import Kiwi\n",
        "from sklearn.feature_extraction.text import CountVectorizer, TfidfVectorizer\n",
        "\n",
        "# 여러 주제를 가진 샘플 뉴스 데이터\n",
        "raw_news_data = {\n",
        "    'category': ['IT', 'IT', 'IT', 'IT', '정치', '정치', '정치', '스포츠', '스포츠', '스포츠', '경제', '경제'],\n",
        "    'document': [\n",
        "        '과기부, 데이터-AI 기반 신규 서비스 개발 사업 공모',\n",
        "        '구글, 차세대 인공지능 모델 제미나이 프로 공개',\n",
        "        '오픈AI 라이벌 등장, 미스트랄AI 거대언어모델 공개',\n",
        "        '네이버, 생성형 AI 하이퍼클로바X 기술 컨퍼런스 개최',\n",
        "        '여야, 내년도 예산안 처리 막판 협상 돌입',\n",
        "        '대통령, 국무회의 주재하며 민생 안정 대책 논의',\n",
        "        '국회, 본회의 열어 법안 처리 예정',\n",
        "        '손흥민, 리그 10호골 기록하며 팀 승리 이끌어',\n",
        "        '프로농구 플레이오프, 4강 대진표 확정',\n",
        "        '이정후, 메이저리그 샌프란시스코 자이언츠와 계약',\n",
        "        '한국은행, 기준금리 3.5%로 동결 결정',\n",
        "        '코스피, 외인 매수세에 힘입어 소폭 상승 마감'\n",
        "    ]\n",
        "}\n",
        "news_df = pd.DataFrame(raw_news_data)\n",
        "news_df"
      ]
    },
    {
      "cell_type": "code",
      "execution_count": 17,
      "metadata": {},
      "outputs": [
        {
          "data": {
            "text/html": [
              "<div>\n",
              "<style scoped>\n",
              "    .dataframe tbody tr th:only-of-type {\n",
              "        vertical-align: middle;\n",
              "    }\n",
              "\n",
              "    .dataframe tbody tr th {\n",
              "        vertical-align: top;\n",
              "    }\n",
              "\n",
              "    .dataframe thead th {\n",
              "        text-align: right;\n",
              "    }\n",
              "</style>\n",
              "<table border=\"1\" class=\"dataframe\">\n",
              "  <thead>\n",
              "    <tr style=\"text-align: right;\">\n",
              "      <th></th>\n",
              "      <th>category</th>\n",
              "      <th>document</th>\n",
              "      <th>processed</th>\n",
              "    </tr>\n",
              "  </thead>\n",
              "  <tbody>\n",
              "    <tr>\n",
              "      <th>0</th>\n",
              "      <td>IT</td>\n",
              "      <td>과기부, 데이터-AI 기반 신규 서비스 개발 사업 공모</td>\n",
              "      <td>과기부 데이터 기반 신규 서비스 개발 사업 공모</td>\n",
              "    </tr>\n",
              "    <tr>\n",
              "      <th>1</th>\n",
              "      <td>IT</td>\n",
              "      <td>구글, 차세대 인공지능 모델 제미나이 프로 공개</td>\n",
              "      <td>구글 차세대 인공지능 모델 제미나 프로 공개</td>\n",
              "    </tr>\n",
              "    <tr>\n",
              "      <th>2</th>\n",
              "      <td>IT</td>\n",
              "      <td>오픈AI 라이벌 등장, 미스트랄AI 거대언어모델 공개</td>\n",
              "      <td>오픈 라이벌 등장 미스트 거대 언어 모델 공개</td>\n",
              "    </tr>\n",
              "    <tr>\n",
              "      <th>3</th>\n",
              "      <td>IT</td>\n",
              "      <td>네이버, 생성형 AI 하이퍼클로바X 기술 컨퍼런스 개최</td>\n",
              "      <td>네이버 생성 하이퍼 클로 기술 컨퍼런스 개최</td>\n",
              "    </tr>\n",
              "    <tr>\n",
              "      <th>4</th>\n",
              "      <td>정치</td>\n",
              "      <td>여야, 내년도 예산안 처리 막판 협상 돌입</td>\n",
              "      <td>여야 내년도 예산안 처리 막판 협상 돌입</td>\n",
              "    </tr>\n",
              "  </tbody>\n",
              "</table>\n",
              "</div>"
            ],
            "text/plain": [
              "  category                        document                   processed\n",
              "0       IT  과기부, 데이터-AI 기반 신규 서비스 개발 사업 공모  과기부 데이터 기반 신규 서비스 개발 사업 공모\n",
              "1       IT      구글, 차세대 인공지능 모델 제미나이 프로 공개    구글 차세대 인공지능 모델 제미나 프로 공개\n",
              "2       IT   오픈AI 라이벌 등장, 미스트랄AI 거대언어모델 공개   오픈 라이벌 등장 미스트 거대 언어 모델 공개\n",
              "3       IT  네이버, 생성형 AI 하이퍼클로바X 기술 컨퍼런스 개최    네이버 생성 하이퍼 클로 기술 컨퍼런스 개최\n",
              "4       정치         여야, 내년도 예산안 처리 막판 협상 돌입      여야 내년도 예산안 처리 막판 협상 돌입"
            ]
          },
          "execution_count": 17,
          "metadata": {},
          "output_type": "execute_result"
        }
      ],
      "source": [
        "kiwi = Kiwi()\n",
        "# 사용자 단어 추가\n",
        "kiwi.add_user_word('과기부', 'NNG')\n",
        "kiwi.add_user_word('미스트랄AI', 'NNP')\n",
        "kiwi.add_user_word('네이버', 'NNP')\n",
        "kiwi.add_user_word('하이퍼클로바X', 'NNP')\n",
        "kiwi.add_user_word('여야', 'NNP')\n",
        "kiwi.add_user_word('대통령', 'NNP')\n",
        "kiwi.add_user_word('국회', 'NNP')\n",
        "kiwi.add_user_word('손흥민', 'NNP')\n",
        "\n",
        "# kiwi.tokenize를 사용하여 명사를 추출합니다.\n",
        "# 토큰(token) 객체에서 품사(tag)가 'NNG'(일반명사), 'NNP'(고유명사)인 경우만 선택합니다.\n",
        "def news_preprocess(text):\n",
        "    text = re.sub(r'[^가-힣\\s]', '', str(text))\n",
        "    tokens = kiwi.tokenize(text)\n",
        "    # 명사만 추출하여 토픽 분석에 더 적합하게 만듭니다.\n",
        "    nouns = [token.form for token in tokens if token.tag in ['NNG', 'NNP']]\n",
        "    return ' '.join([word for word in nouns if len(word) > 1])\n",
        "\n",
        "news_df['processed'] = news_df['document'].apply(news_preprocess)\n",
        "news_df.head()"
      ]
    },
    {
      "cell_type": "markdown",
      "metadata": {},
      "source": [
        "벡터화"
      ]
    },
    {
      "cell_type": "code",
      "execution_count": 18,
      "metadata": {},
      "outputs": [
        {
          "data": {
            "text/plain": [
              "<12x5 sparse matrix of type '<class 'numpy.int64'>'\n",
              "\twith 10 stored elements in Compressed Sparse Row format>"
            ]
          },
          "execution_count": 18,
          "metadata": {},
          "output_type": "execute_result"
        }
      ],
      "source": [
        "# 1. LDA 토픽 모델링을 위한 DTM(단어 빈도 행렬) 생성\n",
        "# 너무 자주 등장하거나(max_df) 너무 드물게 등장하는(min_df) 단어는 제외합니다.\n",
        "count_vectorizer = CountVectorizer(max_df=0.85, min_df=2)\n",
        "dtm = count_vectorizer.fit_transform(news_df['processed'])\n",
        "dtm"
      ]
    },
    {
      "cell_type": "code",
      "execution_count": 19,
      "metadata": {},
      "outputs": [
        {
          "name": "stdout",
          "output_type": "stream",
          "text": [
            "데이터 준비 및 벡터화 완료.\n",
            "DTM 형태: (12, 5)\n",
            "TF-IDF 행렬 형태: (12, 5)\n",
            "\n",
            "[전처리 후 데이터 샘플]\n",
            "                         document                   processed\n",
            "0  과기부, 데이터-AI 기반 신규 서비스 개발 사업 공모  과기부 데이터 기반 신규 서비스 개발 사업 공모\n",
            "1      구글, 차세대 인공지능 모델 제미나이 프로 공개    구글 차세대 인공지능 모델 제미나 프로 공개\n",
            "2   오픈AI 라이벌 등장, 미스트랄AI 거대언어모델 공개   오픈 라이벌 등장 미스트 거대 언어 모델 공개\n",
            "3  네이버, 생성형 AI 하이퍼클로바X 기술 컨퍼런스 개최    네이버 생성 하이퍼 클로 기술 컨퍼런스 개최\n",
            "4         여야, 내년도 예산안 처리 막판 협상 돌입      여야 내년도 예산안 처리 막판 협상 돌입\n"
          ]
        }
      ],
      "source": [
        "# 2. 군집화를 위한 TF-IDF 행렬 생성\n",
        "tfidf_vectorizer = TfidfVectorizer(max_df=0.85, min_df=2)\n",
        "tfidf_matrix = tfidf_vectorizer.fit_transform(news_df['processed'])\n",
        "\n",
        "print(\"데이터 준비 및 벡터화 완료.\")\n",
        "print(\"DTM 형태:\", dtm.shape)\n",
        "print(\"TF-IDF 행렬 형태:\", tfidf_matrix.shape)\n",
        "print(\"\\n[전처리 후 데이터 샘플]\")\n",
        "print(news_df[['document', 'processed']].head())"
      ]
    },
    {
      "cell_type": "code",
      "execution_count": 20,
      "metadata": {},
      "outputs": [
        {
          "data": {
            "text/plain": [
              "<12x5 sparse matrix of type '<class 'numpy.float64'>'\n",
              "\twith 10 stored elements in Compressed Sparse Row format>"
            ]
          },
          "execution_count": 20,
          "metadata": {},
          "output_type": "execute_result"
        }
      ],
      "source": [
        "tfidf_matrix"
      ]
    },
    {
      "cell_type": "markdown",
      "metadata": {
        "id": "rJC95PoaUiLS"
      },
      "source": [
        "---\n",
        "\n",
        "### 1. 토픽 모델링 (Topic Modeling) with LDA\n",
        "\n",
        "#### 💡 개념 (Concept)\n",
        "\n",
        "**토픽 모델링** 은 대량의 문서 집합에서 숨겨진 주요 주제(Topic)들을 자동으로 발견하는 기술입니다. \n",
        "\n",
        "가장 널리 사용되는 알고리즘 중 하나인 **LDA(Latent Dirichlet Allocation, 잠재 디리클레 할당)** 는 다음과 같은 가정에 기반합니다.\n",
        "\n",
        "* **모든 문서는 여러 토픽의 혼합으로 구성되어 있다.** (예: 한 IT 기사는 70%의 'AI' 토픽과 30%의 '기업' 토픽으로 이루어짐)\n",
        "* **모든 토픽은 여러 단어의 혼합으로 구성되어 있다.** (예: 'AI' 토픽은 '인공지능', '데이터', '모델' 등의 단어를 높은 확률로 포함함)\n",
        "\n",
        "LDA는 이 가정을 바탕으로, 각 문서가 어떤 토픽 분포를 가지는지, 그리고 각 토픽이 어떤 단어 분포를 가지는지를 역으로 추적합니다. \n",
        "\n",
        "우리는 모델에 전체 토픽의 개수(`n_components`)를 미리 알려주어야 합니다.\n",
        "\n",
        "#### 💻 예시 코드 (Example Code)"
      ]
    },
    {
      "cell_type": "code",
      "execution_count": 41,
      "metadata": {
        "id": "G61TBSBmUiLS"
      },
      "outputs": [
        {
          "data": {
            "text/html": [
              "<style>#sk-container-id-7 {\n",
              "  /* Definition of color scheme common for light and dark mode */\n",
              "  --sklearn-color-text: #000;\n",
              "  --sklearn-color-text-muted: #666;\n",
              "  --sklearn-color-line: gray;\n",
              "  /* Definition of color scheme for unfitted estimators */\n",
              "  --sklearn-color-unfitted-level-0: #fff5e6;\n",
              "  --sklearn-color-unfitted-level-1: #f6e4d2;\n",
              "  --sklearn-color-unfitted-level-2: #ffe0b3;\n",
              "  --sklearn-color-unfitted-level-3: chocolate;\n",
              "  /* Definition of color scheme for fitted estimators */\n",
              "  --sklearn-color-fitted-level-0: #f0f8ff;\n",
              "  --sklearn-color-fitted-level-1: #d4ebff;\n",
              "  --sklearn-color-fitted-level-2: #b3dbfd;\n",
              "  --sklearn-color-fitted-level-3: cornflowerblue;\n",
              "\n",
              "  /* Specific color for light theme */\n",
              "  --sklearn-color-text-on-default-background: var(--sg-text-color, var(--theme-code-foreground, var(--jp-content-font-color1, black)));\n",
              "  --sklearn-color-background: var(--sg-background-color, var(--theme-background, var(--jp-layout-color0, white)));\n",
              "  --sklearn-color-border-box: var(--sg-text-color, var(--theme-code-foreground, var(--jp-content-font-color1, black)));\n",
              "  --sklearn-color-icon: #696969;\n",
              "\n",
              "  @media (prefers-color-scheme: dark) {\n",
              "    /* Redefinition of color scheme for dark theme */\n",
              "    --sklearn-color-text-on-default-background: var(--sg-text-color, var(--theme-code-foreground, var(--jp-content-font-color1, white)));\n",
              "    --sklearn-color-background: var(--sg-background-color, var(--theme-background, var(--jp-layout-color0, #111)));\n",
              "    --sklearn-color-border-box: var(--sg-text-color, var(--theme-code-foreground, var(--jp-content-font-color1, white)));\n",
              "    --sklearn-color-icon: #878787;\n",
              "  }\n",
              "}\n",
              "\n",
              "#sk-container-id-7 {\n",
              "  color: var(--sklearn-color-text);\n",
              "}\n",
              "\n",
              "#sk-container-id-7 pre {\n",
              "  padding: 0;\n",
              "}\n",
              "\n",
              "#sk-container-id-7 input.sk-hidden--visually {\n",
              "  border: 0;\n",
              "  clip: rect(1px 1px 1px 1px);\n",
              "  clip: rect(1px, 1px, 1px, 1px);\n",
              "  height: 1px;\n",
              "  margin: -1px;\n",
              "  overflow: hidden;\n",
              "  padding: 0;\n",
              "  position: absolute;\n",
              "  width: 1px;\n",
              "}\n",
              "\n",
              "#sk-container-id-7 div.sk-dashed-wrapped {\n",
              "  border: 1px dashed var(--sklearn-color-line);\n",
              "  margin: 0 0.4em 0.5em 0.4em;\n",
              "  box-sizing: border-box;\n",
              "  padding-bottom: 0.4em;\n",
              "  background-color: var(--sklearn-color-background);\n",
              "}\n",
              "\n",
              "#sk-container-id-7 div.sk-container {\n",
              "  /* jupyter's `normalize.less` sets `[hidden] { display: none; }`\n",
              "     but bootstrap.min.css set `[hidden] { display: none !important; }`\n",
              "     so we also need the `!important` here to be able to override the\n",
              "     default hidden behavior on the sphinx rendered scikit-learn.org.\n",
              "     See: https://github.com/scikit-learn/scikit-learn/issues/21755 */\n",
              "  display: inline-block !important;\n",
              "  position: relative;\n",
              "}\n",
              "\n",
              "#sk-container-id-7 div.sk-text-repr-fallback {\n",
              "  display: none;\n",
              "}\n",
              "\n",
              "div.sk-parallel-item,\n",
              "div.sk-serial,\n",
              "div.sk-item {\n",
              "  /* draw centered vertical line to link estimators */\n",
              "  background-image: linear-gradient(var(--sklearn-color-text-on-default-background), var(--sklearn-color-text-on-default-background));\n",
              "  background-size: 2px 100%;\n",
              "  background-repeat: no-repeat;\n",
              "  background-position: center center;\n",
              "}\n",
              "\n",
              "/* Parallel-specific style estimator block */\n",
              "\n",
              "#sk-container-id-7 div.sk-parallel-item::after {\n",
              "  content: \"\";\n",
              "  width: 100%;\n",
              "  border-bottom: 2px solid var(--sklearn-color-text-on-default-background);\n",
              "  flex-grow: 1;\n",
              "}\n",
              "\n",
              "#sk-container-id-7 div.sk-parallel {\n",
              "  display: flex;\n",
              "  align-items: stretch;\n",
              "  justify-content: center;\n",
              "  background-color: var(--sklearn-color-background);\n",
              "  position: relative;\n",
              "}\n",
              "\n",
              "#sk-container-id-7 div.sk-parallel-item {\n",
              "  display: flex;\n",
              "  flex-direction: column;\n",
              "}\n",
              "\n",
              "#sk-container-id-7 div.sk-parallel-item:first-child::after {\n",
              "  align-self: flex-end;\n",
              "  width: 50%;\n",
              "}\n",
              "\n",
              "#sk-container-id-7 div.sk-parallel-item:last-child::after {\n",
              "  align-self: flex-start;\n",
              "  width: 50%;\n",
              "}\n",
              "\n",
              "#sk-container-id-7 div.sk-parallel-item:only-child::after {\n",
              "  width: 0;\n",
              "}\n",
              "\n",
              "/* Serial-specific style estimator block */\n",
              "\n",
              "#sk-container-id-7 div.sk-serial {\n",
              "  display: flex;\n",
              "  flex-direction: column;\n",
              "  align-items: center;\n",
              "  background-color: var(--sklearn-color-background);\n",
              "  padding-right: 1em;\n",
              "  padding-left: 1em;\n",
              "}\n",
              "\n",
              "\n",
              "/* Toggleable style: style used for estimator/Pipeline/ColumnTransformer box that is\n",
              "clickable and can be expanded/collapsed.\n",
              "- Pipeline and ColumnTransformer use this feature and define the default style\n",
              "- Estimators will overwrite some part of the style using the `sk-estimator` class\n",
              "*/\n",
              "\n",
              "/* Pipeline and ColumnTransformer style (default) */\n",
              "\n",
              "#sk-container-id-7 div.sk-toggleable {\n",
              "  /* Default theme specific background. It is overwritten whether we have a\n",
              "  specific estimator or a Pipeline/ColumnTransformer */\n",
              "  background-color: var(--sklearn-color-background);\n",
              "}\n",
              "\n",
              "/* Toggleable label */\n",
              "#sk-container-id-7 label.sk-toggleable__label {\n",
              "  cursor: pointer;\n",
              "  display: flex;\n",
              "  width: 100%;\n",
              "  margin-bottom: 0;\n",
              "  padding: 0.5em;\n",
              "  box-sizing: border-box;\n",
              "  text-align: center;\n",
              "  align-items: start;\n",
              "  justify-content: space-between;\n",
              "  gap: 0.5em;\n",
              "}\n",
              "\n",
              "#sk-container-id-7 label.sk-toggleable__label .caption {\n",
              "  font-size: 0.6rem;\n",
              "  font-weight: lighter;\n",
              "  color: var(--sklearn-color-text-muted);\n",
              "}\n",
              "\n",
              "#sk-container-id-7 label.sk-toggleable__label-arrow:before {\n",
              "  /* Arrow on the left of the label */\n",
              "  content: \"▸\";\n",
              "  float: left;\n",
              "  margin-right: 0.25em;\n",
              "  color: var(--sklearn-color-icon);\n",
              "}\n",
              "\n",
              "#sk-container-id-7 label.sk-toggleable__label-arrow:hover:before {\n",
              "  color: var(--sklearn-color-text);\n",
              "}\n",
              "\n",
              "/* Toggleable content - dropdown */\n",
              "\n",
              "#sk-container-id-7 div.sk-toggleable__content {\n",
              "  max-height: 0;\n",
              "  max-width: 0;\n",
              "  overflow: hidden;\n",
              "  text-align: left;\n",
              "  /* unfitted */\n",
              "  background-color: var(--sklearn-color-unfitted-level-0);\n",
              "}\n",
              "\n",
              "#sk-container-id-7 div.sk-toggleable__content.fitted {\n",
              "  /* fitted */\n",
              "  background-color: var(--sklearn-color-fitted-level-0);\n",
              "}\n",
              "\n",
              "#sk-container-id-7 div.sk-toggleable__content pre {\n",
              "  margin: 0.2em;\n",
              "  border-radius: 0.25em;\n",
              "  color: var(--sklearn-color-text);\n",
              "  /* unfitted */\n",
              "  background-color: var(--sklearn-color-unfitted-level-0);\n",
              "}\n",
              "\n",
              "#sk-container-id-7 div.sk-toggleable__content.fitted pre {\n",
              "  /* unfitted */\n",
              "  background-color: var(--sklearn-color-fitted-level-0);\n",
              "}\n",
              "\n",
              "#sk-container-id-7 input.sk-toggleable__control:checked~div.sk-toggleable__content {\n",
              "  /* Expand drop-down */\n",
              "  max-height: 200px;\n",
              "  max-width: 100%;\n",
              "  overflow: auto;\n",
              "}\n",
              "\n",
              "#sk-container-id-7 input.sk-toggleable__control:checked~label.sk-toggleable__label-arrow:before {\n",
              "  content: \"▾\";\n",
              "}\n",
              "\n",
              "/* Pipeline/ColumnTransformer-specific style */\n",
              "\n",
              "#sk-container-id-7 div.sk-label input.sk-toggleable__control:checked~label.sk-toggleable__label {\n",
              "  color: var(--sklearn-color-text);\n",
              "  background-color: var(--sklearn-color-unfitted-level-2);\n",
              "}\n",
              "\n",
              "#sk-container-id-7 div.sk-label.fitted input.sk-toggleable__control:checked~label.sk-toggleable__label {\n",
              "  background-color: var(--sklearn-color-fitted-level-2);\n",
              "}\n",
              "\n",
              "/* Estimator-specific style */\n",
              "\n",
              "/* Colorize estimator box */\n",
              "#sk-container-id-7 div.sk-estimator input.sk-toggleable__control:checked~label.sk-toggleable__label {\n",
              "  /* unfitted */\n",
              "  background-color: var(--sklearn-color-unfitted-level-2);\n",
              "}\n",
              "\n",
              "#sk-container-id-7 div.sk-estimator.fitted input.sk-toggleable__control:checked~label.sk-toggleable__label {\n",
              "  /* fitted */\n",
              "  background-color: var(--sklearn-color-fitted-level-2);\n",
              "}\n",
              "\n",
              "#sk-container-id-7 div.sk-label label.sk-toggleable__label,\n",
              "#sk-container-id-7 div.sk-label label {\n",
              "  /* The background is the default theme color */\n",
              "  color: var(--sklearn-color-text-on-default-background);\n",
              "}\n",
              "\n",
              "/* On hover, darken the color of the background */\n",
              "#sk-container-id-7 div.sk-label:hover label.sk-toggleable__label {\n",
              "  color: var(--sklearn-color-text);\n",
              "  background-color: var(--sklearn-color-unfitted-level-2);\n",
              "}\n",
              "\n",
              "/* Label box, darken color on hover, fitted */\n",
              "#sk-container-id-7 div.sk-label.fitted:hover label.sk-toggleable__label.fitted {\n",
              "  color: var(--sklearn-color-text);\n",
              "  background-color: var(--sklearn-color-fitted-level-2);\n",
              "}\n",
              "\n",
              "/* Estimator label */\n",
              "\n",
              "#sk-container-id-7 div.sk-label label {\n",
              "  font-family: monospace;\n",
              "  font-weight: bold;\n",
              "  display: inline-block;\n",
              "  line-height: 1.2em;\n",
              "}\n",
              "\n",
              "#sk-container-id-7 div.sk-label-container {\n",
              "  text-align: center;\n",
              "}\n",
              "\n",
              "/* Estimator-specific */\n",
              "#sk-container-id-7 div.sk-estimator {\n",
              "  font-family: monospace;\n",
              "  border: 1px dotted var(--sklearn-color-border-box);\n",
              "  border-radius: 0.25em;\n",
              "  box-sizing: border-box;\n",
              "  margin-bottom: 0.5em;\n",
              "  /* unfitted */\n",
              "  background-color: var(--sklearn-color-unfitted-level-0);\n",
              "}\n",
              "\n",
              "#sk-container-id-7 div.sk-estimator.fitted {\n",
              "  /* fitted */\n",
              "  background-color: var(--sklearn-color-fitted-level-0);\n",
              "}\n",
              "\n",
              "/* on hover */\n",
              "#sk-container-id-7 div.sk-estimator:hover {\n",
              "  /* unfitted */\n",
              "  background-color: var(--sklearn-color-unfitted-level-2);\n",
              "}\n",
              "\n",
              "#sk-container-id-7 div.sk-estimator.fitted:hover {\n",
              "  /* fitted */\n",
              "  background-color: var(--sklearn-color-fitted-level-2);\n",
              "}\n",
              "\n",
              "/* Specification for estimator info (e.g. \"i\" and \"?\") */\n",
              "\n",
              "/* Common style for \"i\" and \"?\" */\n",
              "\n",
              ".sk-estimator-doc-link,\n",
              "a:link.sk-estimator-doc-link,\n",
              "a:visited.sk-estimator-doc-link {\n",
              "  float: right;\n",
              "  font-size: smaller;\n",
              "  line-height: 1em;\n",
              "  font-family: monospace;\n",
              "  background-color: var(--sklearn-color-background);\n",
              "  border-radius: 1em;\n",
              "  height: 1em;\n",
              "  width: 1em;\n",
              "  text-decoration: none !important;\n",
              "  margin-left: 0.5em;\n",
              "  text-align: center;\n",
              "  /* unfitted */\n",
              "  border: var(--sklearn-color-unfitted-level-1) 1pt solid;\n",
              "  color: var(--sklearn-color-unfitted-level-1);\n",
              "}\n",
              "\n",
              ".sk-estimator-doc-link.fitted,\n",
              "a:link.sk-estimator-doc-link.fitted,\n",
              "a:visited.sk-estimator-doc-link.fitted {\n",
              "  /* fitted */\n",
              "  border: var(--sklearn-color-fitted-level-1) 1pt solid;\n",
              "  color: var(--sklearn-color-fitted-level-1);\n",
              "}\n",
              "\n",
              "/* On hover */\n",
              "div.sk-estimator:hover .sk-estimator-doc-link:hover,\n",
              ".sk-estimator-doc-link:hover,\n",
              "div.sk-label-container:hover .sk-estimator-doc-link:hover,\n",
              ".sk-estimator-doc-link:hover {\n",
              "  /* unfitted */\n",
              "  background-color: var(--sklearn-color-unfitted-level-3);\n",
              "  color: var(--sklearn-color-background);\n",
              "  text-decoration: none;\n",
              "}\n",
              "\n",
              "div.sk-estimator.fitted:hover .sk-estimator-doc-link.fitted:hover,\n",
              ".sk-estimator-doc-link.fitted:hover,\n",
              "div.sk-label-container:hover .sk-estimator-doc-link.fitted:hover,\n",
              ".sk-estimator-doc-link.fitted:hover {\n",
              "  /* fitted */\n",
              "  background-color: var(--sklearn-color-fitted-level-3);\n",
              "  color: var(--sklearn-color-background);\n",
              "  text-decoration: none;\n",
              "}\n",
              "\n",
              "/* Span, style for the box shown on hovering the info icon */\n",
              ".sk-estimator-doc-link span {\n",
              "  display: none;\n",
              "  z-index: 9999;\n",
              "  position: relative;\n",
              "  font-weight: normal;\n",
              "  right: .2ex;\n",
              "  padding: .5ex;\n",
              "  margin: .5ex;\n",
              "  width: min-content;\n",
              "  min-width: 20ex;\n",
              "  max-width: 50ex;\n",
              "  color: var(--sklearn-color-text);\n",
              "  box-shadow: 2pt 2pt 4pt #999;\n",
              "  /* unfitted */\n",
              "  background: var(--sklearn-color-unfitted-level-0);\n",
              "  border: .5pt solid var(--sklearn-color-unfitted-level-3);\n",
              "}\n",
              "\n",
              ".sk-estimator-doc-link.fitted span {\n",
              "  /* fitted */\n",
              "  background: var(--sklearn-color-fitted-level-0);\n",
              "  border: var(--sklearn-color-fitted-level-3);\n",
              "}\n",
              "\n",
              ".sk-estimator-doc-link:hover span {\n",
              "  display: block;\n",
              "}\n",
              "\n",
              "/* \"?\"-specific style due to the `<a>` HTML tag */\n",
              "\n",
              "#sk-container-id-7 a.estimator_doc_link {\n",
              "  float: right;\n",
              "  font-size: 1rem;\n",
              "  line-height: 1em;\n",
              "  font-family: monospace;\n",
              "  background-color: var(--sklearn-color-background);\n",
              "  border-radius: 1rem;\n",
              "  height: 1rem;\n",
              "  width: 1rem;\n",
              "  text-decoration: none;\n",
              "  /* unfitted */\n",
              "  color: var(--sklearn-color-unfitted-level-1);\n",
              "  border: var(--sklearn-color-unfitted-level-1) 1pt solid;\n",
              "}\n",
              "\n",
              "#sk-container-id-7 a.estimator_doc_link.fitted {\n",
              "  /* fitted */\n",
              "  border: var(--sklearn-color-fitted-level-1) 1pt solid;\n",
              "  color: var(--sklearn-color-fitted-level-1);\n",
              "}\n",
              "\n",
              "/* On hover */\n",
              "#sk-container-id-7 a.estimator_doc_link:hover {\n",
              "  /* unfitted */\n",
              "  background-color: var(--sklearn-color-unfitted-level-3);\n",
              "  color: var(--sklearn-color-background);\n",
              "  text-decoration: none;\n",
              "}\n",
              "\n",
              "#sk-container-id-7 a.estimator_doc_link.fitted:hover {\n",
              "  /* fitted */\n",
              "  background-color: var(--sklearn-color-fitted-level-3);\n",
              "}\n",
              "</style><div id=\"sk-container-id-7\" class=\"sk-top-container\"><div class=\"sk-text-repr-fallback\"><pre>LatentDirichletAllocation(n_components=4, random_state=42)</pre><b>In a Jupyter environment, please rerun this cell to show the HTML representation or trust the notebook. <br />On GitHub, the HTML representation is unable to render, please try loading this page with nbviewer.org.</b></div><div class=\"sk-container\" hidden><div class=\"sk-item\"><div class=\"sk-estimator fitted sk-toggleable\"><input class=\"sk-toggleable__control sk-hidden--visually\" id=\"sk-estimator-id-7\" type=\"checkbox\" checked><label for=\"sk-estimator-id-7\" class=\"sk-toggleable__label fitted sk-toggleable__label-arrow\"><div><div>LatentDirichletAllocation</div></div><div><a class=\"sk-estimator-doc-link fitted\" rel=\"noreferrer\" target=\"_blank\" href=\"https://scikit-learn.org/1.6/modules/generated/sklearn.decomposition.LatentDirichletAllocation.html\">?<span>Documentation for LatentDirichletAllocation</span></a><span class=\"sk-estimator-doc-link fitted\">i<span>Fitted</span></span></div></label><div class=\"sk-toggleable__content fitted\"><pre>LatentDirichletAllocation(n_components=4, random_state=42)</pre></div> </div></div></div></div>"
            ],
            "text/plain": [
              "LatentDirichletAllocation(n_components=4, random_state=42)"
            ]
          },
          "execution_count": 41,
          "metadata": {},
          "output_type": "execute_result"
        }
      ],
      "source": [
        "from sklearn.decomposition import LatentDirichletAllocation\n",
        "\n",
        "# LDA 모델 생성 및 학습\n",
        "# n_components는 추출할 토픽의 개수를 의미합니다.\n",
        "# 데이터의 실제 카테고리 수인 4개로 설정해봅니다.\n",
        "lda  = LatentDirichletAllocation(n_components=4, random_state=42)\n",
        "lda.fit(dtm) # LDA는 TF-IDF가 아닌 DTM(단어 빈도)을 입력으로 받습니다.\n"
      ]
    },
    {
      "cell_type": "code",
      "execution_count": 22,
      "metadata": {},
      "outputs": [
        {
          "data": {
            "text/plain": [
              "array(['공개', '리그', '모델', '처리', '프로'], dtype=object)"
            ]
          },
          "execution_count": 22,
          "metadata": {},
          "output_type": "execute_result"
        }
      ],
      "source": [
        "count_vectorizer.get_feature_names_out()"
      ]
    },
    {
      "cell_type": "code",
      "execution_count": 42,
      "metadata": {},
      "outputs": [
        {
          "data": {
            "text/plain": [
              "array([[2.24847962, 0.25012398, 2.24847962, 0.25012398, 2.24731233],\n",
              "       [0.2502745 , 0.25030414, 0.2502745 , 2.24850271, 0.25048189],\n",
              "       [0.2502745 , 2.2485027 , 0.2502745 , 0.25030414, 0.25048189],\n",
              "       [0.25097138, 0.25106918, 0.25097138, 0.25106917, 0.25172388]])"
            ]
          },
          "execution_count": 42,
          "metadata": {},
          "output_type": "execute_result"
        }
      ],
      "source": [
        "lda.components_\n",
        "# [2.24847962, 0.25012398, 2.24847962, 0.25012398, 2.24731233],\n",
        "# [0.2502745 , 0.25030414, 0.2502745 , 2.24850271, 0.25048189],\n",
        "# [0.2502745 , 2.2485027 , 0.2502745 , 0.25030414, 0.25048189],\n",
        "# [0.25097138, 0.25106918, 0.25097138, 0.25106917, 0.25172388]\n",
        "\n"
      ]
    },
    {
      "cell_type": "code",
      "execution_count": 43,
      "metadata": {},
      "outputs": [
        {
          "name": "stdout",
          "output_type": "stream",
          "text": [
            "LDA 토픽별 주요 단어:\n",
            "Topic #1: 모델 공개 프로 리그 처리\n",
            "Topic #2: 처리 프로 리그 모델 공개\n",
            "Topic #3: 리그 프로 처리 모델 공개\n",
            "Topic #4: 프로 리그 처리 모델 공개\n"
          ]
        }
      ],
      "source": [
        "def display_topics(model, feature_names, n_top_words):\n",
        "    \"\"\"LDA 모델의 토픽별 상위 단어를 출력하는 함수\"\"\"\n",
        "    for topic_idx, topic in enumerate(model.components_):\n",
        "        print(f\"Topic #{topic_idx+1}:\", \" \".join([feature_names[i]\n",
        "                        for i in topic.argsort()[:-n_top_words - 1:-1]]))\n",
        "\n",
        "# 토픽별 상위 5개 단어 출력\n",
        "n_top_words = 5\n",
        "feature_names = count_vectorizer.get_feature_names_out()\n",
        "print(\"LDA 토픽별 주요 단어:\")\n",
        "display_topics(lda, feature_names, n_top_words)"
      ]
    },
    {
      "cell_type": "markdown",
      "metadata": {
        "id": "rgwKF2wuUiLS"
      },
      "source": [
        "#### ✏️ 연습 문제 (Practice Problems)\n",
        "\n",
        "1.  `LatentDirichletAllocation` 모델을 `n_components=3`으로 설정하여 다시 학습시키고, 토픽별 주요 단어의 변화를 관찰해 보세요. 토픽의 개수가 줄어들면서 각 토픽이 어떻게 합쳐지거나 재구성되었나요?\n"
      ]
    },
    {
      "cell_type": "code",
      "execution_count": null,
      "metadata": {},
      "outputs": [],
      "source": [
        "# 코드 작성"
      ]
    },
    {
      "cell_type": "markdown",
      "metadata": {},
      "source": [
        "2.  위 예제에서 `n_components=4`로 학습한 결과(4개의 토픽)를 보고, 각 토픽에 어울리는 이름(예: 'IT/기술', '정치/사회')을 직접 붙여보세요."
      ]
    },
    {
      "cell_type": "code",
      "execution_count": null,
      "metadata": {},
      "outputs": [],
      "source": [
        "# 코드 작성"
      ]
    },
    {
      "cell_type": "markdown",
      "metadata": {},
      "source": [
        "\n",
        "---\n",
        "\n",
        "### 2. LDA 결과 시각화 (Visualizing LDA with pyLDAvis)\n",
        "\n",
        "#### 💡 개념 (Concept)\n",
        "\n",
        "단어 목록만으로 토픽을 해석하는 것은 때로 어렵습니다. **pyLDAvis**는 LDA 모델의 결과를 인터랙티브 시각화로 보여주는 강력한 도구입니다. 이 시각화는 다음 정보를 제공합니다.\n",
        "\n",
        "* **좌측 (토픽 분포도)**: 각 원은 하나의 토픽을 의미하며, 원의 크기는 해당 토픽의 비중을 나타냅니다. 원 사이의 거리는 토픽 간의 유사도를 보여줍니다. (가까울수록 유사)\n",
        "* **우측 (단어 막대그래프)**: 특정 토픽을 선택했을 때, 해당 토픽을 구성하는 주요 단어들과 그 중요도를 보여줍니다.\n",
        "\n",
        "#### 💻 예시 코드 (Example Code)"
      ]
    },
    {
      "cell_type": "code",
      "execution_count": null,
      "metadata": {},
      "outputs": [],
      "source": [
        " !pip install pyldavis"
      ]
    },
    {
      "cell_type": "code",
      "execution_count": 44,
      "metadata": {
        "id": "Zp1ZGa7PUiLS"
      },
      "outputs": [
        {
          "data": {
            "text/html": [
              "\n",
              "<link rel=\"stylesheet\" type=\"text/css\" href=\"https://cdn.jsdelivr.net/gh/bmabey/pyLDAvis@3.4.0/pyLDAvis/js/ldavis.v1.0.0.css\">\n",
              "\n",
              "\n",
              "<div id=\"ldavis_el4217356498733609290347566\" style=\"background-color:white;\"></div>\n",
              "<script type=\"text/javascript\">\n",
              "\n",
              "var ldavis_el4217356498733609290347566_data = {\"mdsDat\": {\"x\": [-0.1712120340347964, 0.09288706261087336, 0.09288705864270713, -0.014562087218784011], \"y\": [2.3617176096034938e-09, 0.14135956969701177, -0.1413595714743674, -5.843619673827427e-10], \"topics\": [1, 2, 3, 4], \"cluster\": [1, 1, 1, 1], \"Freq\": [50.5899967221336, 19.79218721382461, 19.79218721321932, 9.825628850822463]}, \"tinfo\": {\"Term\": [\"\\ub9ac\\uadf8\", \"\\ucc98\\ub9ac\", \"\\ud504\\ub85c\", \"\\uacf5\\uac1c\", \"\\ubaa8\\ub378\", \"\\uacf5\\uac1c\", \"\\ubaa8\\ub378\", \"\\ud504\\ub85c\", \"\\ucc98\\ub9ac\", \"\\ub9ac\\uadf8\", \"\\ucc98\\ub9ac\", \"\\ub9ac\\uadf8\", \"\\ud504\\ub85c\", \"\\uacf5\\uac1c\", \"\\ubaa8\\ub378\", \"\\ub9ac\\uadf8\", \"\\ucc98\\ub9ac\", \"\\ud504\\ub85c\", \"\\uacf5\\uac1c\", \"\\ubaa8\\ub378\", \"\\ub9ac\\uadf8\", \"\\ucc98\\ub9ac\", \"\\ud504\\ub85c\", \"\\uacf5\\uac1c\", \"\\ubaa8\\ub378\"], \"Freq\": [1.0, 1.0, 2.0, 2.0, 2.0, 1.5701603972801472, 1.5701603972801472, 1.5693452517782502, 0.1746668129170185, 0.1746668129577978, 1.3693848781317057, 0.15244042262813237, 0.15254867785311338, 0.15242237138475492, 0.15242237138475492, 1.3693848769292352, 0.15244042281279926, 0.1525486781698663, 0.15242237170501596, 0.15242237170501596, 0.19644073629821546, 0.19644073125238593, 0.19695298915452256, 0.19636421418856126, 0.19636421418856126], \"Total\": [1.0, 1.0, 2.0, 2.0, 2.0, 2.0713693545584793, 2.0713693545584793, 2.0713955969557527, 1.8929328451139096, 1.8929328488133808, 1.8929328451139096, 1.8929328488133808, 2.0713955969557527, 2.0713693545584793, 2.0713693545584793, 1.8929328488133808, 1.8929328451139096, 2.0713955969557527, 2.0713693545584793, 2.0713693545584793, 1.8929328488133808, 1.8929328451139096, 2.0713955969557527, 2.0713693545584793, 2.0713693545584793], \"Category\": [\"Default\", \"Default\", \"Default\", \"Default\", \"Default\", \"Topic1\", \"Topic1\", \"Topic1\", \"Topic1\", \"Topic1\", \"Topic2\", \"Topic2\", \"Topic2\", \"Topic2\", \"Topic2\", \"Topic3\", \"Topic3\", \"Topic3\", \"Topic3\", \"Topic3\", \"Topic4\", \"Topic4\", \"Topic4\", \"Topic4\", \"Topic4\"], \"logprob\": [5.0, 4.0, 3.0, 2.0, 1.0, -1.17, -1.17, -1.1705, -3.366, -3.366, -0.3683, -2.5637, -2.563, -2.5638, -2.5638, -0.3683, -2.5637, -2.563, -2.5638, -2.5638, -1.6098, -1.6098, -1.6072, -1.6102, -1.6102], \"loglift\": [5.0, 4.0, 3.0, 2.0, 1.0, 0.4044, 0.4044, 0.4039, -1.7016, -1.7016, 1.2961, -0.8992, -0.9886, -0.9894, -0.9894, 1.2961, -0.8992, -0.9886, -0.9894, -0.9894, 0.0547, 0.0547, -0.0328, -0.0358, -0.0358]}, \"token.table\": {\"Topic\": [1, 3, 1, 2, 1], \"Freq\": [0.9655448438486279, 0.5282807578868253, 0.9655448438486279, 0.5282807589192757, 0.9655326114139279], \"Term\": [\"\\uacf5\\uac1c\", \"\\ub9ac\\uadf8\", \"\\ubaa8\\ub378\", \"\\ucc98\\ub9ac\", \"\\ud504\\ub85c\"]}, \"R\": 5, \"lambda.step\": 0.01, \"plot.opts\": {\"xlab\": \"PC1\", \"ylab\": \"PC2\"}, \"topic.order\": [1, 2, 3, 4]};\n",
              "\n",
              "function LDAvis_load_lib(url, callback){\n",
              "  var s = document.createElement('script');\n",
              "  s.src = url;\n",
              "  s.async = true;\n",
              "  s.onreadystatechange = s.onload = callback;\n",
              "  s.onerror = function(){console.warn(\"failed to load library \" + url);};\n",
              "  document.getElementsByTagName(\"head\")[0].appendChild(s);\n",
              "}\n",
              "\n",
              "if(typeof(LDAvis) !== \"undefined\"){\n",
              "   // already loaded: just create the visualization\n",
              "   !function(LDAvis){\n",
              "       new LDAvis(\"#\" + \"ldavis_el4217356498733609290347566\", ldavis_el4217356498733609290347566_data);\n",
              "   }(LDAvis);\n",
              "}else if(typeof define === \"function\" && define.amd){\n",
              "   // require.js is available: use it to load d3/LDAvis\n",
              "   require.config({paths: {d3: \"https://d3js.org/d3.v5\"}});\n",
              "   require([\"d3\"], function(d3){\n",
              "      window.d3 = d3;\n",
              "      LDAvis_load_lib(\"https://cdn.jsdelivr.net/gh/bmabey/pyLDAvis@3.4.0/pyLDAvis/js/ldavis.v3.0.0.js\", function(){\n",
              "        new LDAvis(\"#\" + \"ldavis_el4217356498733609290347566\", ldavis_el4217356498733609290347566_data);\n",
              "      });\n",
              "    });\n",
              "}else{\n",
              "    // require.js not available: dynamically load d3 & LDAvis\n",
              "    LDAvis_load_lib(\"https://d3js.org/d3.v5.js\", function(){\n",
              "         LDAvis_load_lib(\"https://cdn.jsdelivr.net/gh/bmabey/pyLDAvis@3.4.0/pyLDAvis/js/ldavis.v3.0.0.js\", function(){\n",
              "                 new LDAvis(\"#\" + \"ldavis_el4217356498733609290347566\", ldavis_el4217356498733609290347566_data);\n",
              "            })\n",
              "         });\n",
              "}\n",
              "</script>"
            ],
            "text/plain": [
              "<IPython.core.display.HTML object>"
            ]
          },
          "execution_count": 44,
          "metadata": {},
          "output_type": "execute_result"
        }
      ],
      "source": [
        "from pyLDAvis import lda_model\n",
        "import pyLDAvis.lda_model\n",
        "\n",
        "# pyLDAvis를 위한 데이터 준비\n",
        "# 이전에 n_components=4로 학습한 lda_model, dtm, count_vectorizer를 사용합니다.\n",
        "pyLDAvis.enable_notebook()\n",
        "vis = pyLDAvis.lda_model.prepare(lda, dtm, count_vectorizer)\n",
        "pyLDAvis.display(vis)"
      ]
    },
    {
      "cell_type": "markdown",
      "metadata": {
        "id": "ewCzGLEuUiLS"
      },
      "source": [
        "#### ✏️ 연습 문제 (Practice Problems)\n",
        "\n",
        "1.  위에서 생성된 `pyLDAvis` 시각화 결과에서, 1번 토픽(Topic 1) 원을 클릭해 보세요. 우측 막대그래프에 나타나는 주요 단어들은 무엇인가요? "
      ]
    },
    {
      "cell_type": "markdown",
      "metadata": {},
      "source": [
        "> 작성해보기"
      ]
    },
    {
      "cell_type": "markdown",
      "metadata": {},
      "source": [
        "  2.  우측 상단의 슬라이더 `λ`(람다) 값을 0에 가깝게, 그리고 1에 가깝게 조절해 보세요. `λ=0`일 때와 `λ=1`일 때 나타나는 단어 목록의 특징은 각각 무엇인지 설명해 보세요. (힌트: `λ=0`은 토픽 내 단어 빈도, `λ=1`은 토픽 고유 단어에 가중치를 둡니다.)"
      ]
    },
    {
      "cell_type": "markdown",
      "metadata": {},
      "source": [
        "> 작성해보기"
      ]
    },
    {
      "cell_type": "markdown",
      "metadata": {},
      "source": [
        "\n",
        "---\n",
        "\n",
        "### 3. 텍스트 군집화 (Text Clustering) with K-Means\n",
        "\n",
        "#### 💡 개념 (Concept)\n",
        "\n",
        "**군집화(Clustering)** 는 레이블이 없는 문서들을 내용의 유사도에 따라 여러 개의 그룹(군집, Cluster)으로 묶는 작업입니다. **K-평균(K-Means)** 알고리즘은 가장 대중적인 군집화 방법 중 하나입니다.\n",
        "\n",
        "1.  먼저, 우리가 지정한 K개의 임의의 중심점(Centroid)을 설정합니다.\n",
        "2.  모든 문서는 K개의 중심점 중 가장 가까운 곳에 소속됩니다.\n",
        "3.  각 군집의 평균 위치로 중심점을 이동시킵니다.\n",
        "4.  중심점의 위치에 더 이상 변화가 없을 때까지 2~3번 과정을 반복합니다.\n",
        "\n",
        "이때 문서 간의 거리는 보통 TF-IDF 벡터를 이용하여 계산합니다."
      ]
    },
    {
      "cell_type": "markdown",
      "metadata": {},
      "source": [
        "\n",
        "#### 💻 예시 코드 (Example Code)"
      ]
    },
    {
      "cell_type": "code",
      "execution_count": 45,
      "metadata": {
        "id": "NE7R7l34UiLS"
      },
      "outputs": [
        {
          "data": {
            "text/html": [
              "<style>#sk-container-id-8 {\n",
              "  /* Definition of color scheme common for light and dark mode */\n",
              "  --sklearn-color-text: #000;\n",
              "  --sklearn-color-text-muted: #666;\n",
              "  --sklearn-color-line: gray;\n",
              "  /* Definition of color scheme for unfitted estimators */\n",
              "  --sklearn-color-unfitted-level-0: #fff5e6;\n",
              "  --sklearn-color-unfitted-level-1: #f6e4d2;\n",
              "  --sklearn-color-unfitted-level-2: #ffe0b3;\n",
              "  --sklearn-color-unfitted-level-3: chocolate;\n",
              "  /* Definition of color scheme for fitted estimators */\n",
              "  --sklearn-color-fitted-level-0: #f0f8ff;\n",
              "  --sklearn-color-fitted-level-1: #d4ebff;\n",
              "  --sklearn-color-fitted-level-2: #b3dbfd;\n",
              "  --sklearn-color-fitted-level-3: cornflowerblue;\n",
              "\n",
              "  /* Specific color for light theme */\n",
              "  --sklearn-color-text-on-default-background: var(--sg-text-color, var(--theme-code-foreground, var(--jp-content-font-color1, black)));\n",
              "  --sklearn-color-background: var(--sg-background-color, var(--theme-background, var(--jp-layout-color0, white)));\n",
              "  --sklearn-color-border-box: var(--sg-text-color, var(--theme-code-foreground, var(--jp-content-font-color1, black)));\n",
              "  --sklearn-color-icon: #696969;\n",
              "\n",
              "  @media (prefers-color-scheme: dark) {\n",
              "    /* Redefinition of color scheme for dark theme */\n",
              "    --sklearn-color-text-on-default-background: var(--sg-text-color, var(--theme-code-foreground, var(--jp-content-font-color1, white)));\n",
              "    --sklearn-color-background: var(--sg-background-color, var(--theme-background, var(--jp-layout-color0, #111)));\n",
              "    --sklearn-color-border-box: var(--sg-text-color, var(--theme-code-foreground, var(--jp-content-font-color1, white)));\n",
              "    --sklearn-color-icon: #878787;\n",
              "  }\n",
              "}\n",
              "\n",
              "#sk-container-id-8 {\n",
              "  color: var(--sklearn-color-text);\n",
              "}\n",
              "\n",
              "#sk-container-id-8 pre {\n",
              "  padding: 0;\n",
              "}\n",
              "\n",
              "#sk-container-id-8 input.sk-hidden--visually {\n",
              "  border: 0;\n",
              "  clip: rect(1px 1px 1px 1px);\n",
              "  clip: rect(1px, 1px, 1px, 1px);\n",
              "  height: 1px;\n",
              "  margin: -1px;\n",
              "  overflow: hidden;\n",
              "  padding: 0;\n",
              "  position: absolute;\n",
              "  width: 1px;\n",
              "}\n",
              "\n",
              "#sk-container-id-8 div.sk-dashed-wrapped {\n",
              "  border: 1px dashed var(--sklearn-color-line);\n",
              "  margin: 0 0.4em 0.5em 0.4em;\n",
              "  box-sizing: border-box;\n",
              "  padding-bottom: 0.4em;\n",
              "  background-color: var(--sklearn-color-background);\n",
              "}\n",
              "\n",
              "#sk-container-id-8 div.sk-container {\n",
              "  /* jupyter's `normalize.less` sets `[hidden] { display: none; }`\n",
              "     but bootstrap.min.css set `[hidden] { display: none !important; }`\n",
              "     so we also need the `!important` here to be able to override the\n",
              "     default hidden behavior on the sphinx rendered scikit-learn.org.\n",
              "     See: https://github.com/scikit-learn/scikit-learn/issues/21755 */\n",
              "  display: inline-block !important;\n",
              "  position: relative;\n",
              "}\n",
              "\n",
              "#sk-container-id-8 div.sk-text-repr-fallback {\n",
              "  display: none;\n",
              "}\n",
              "\n",
              "div.sk-parallel-item,\n",
              "div.sk-serial,\n",
              "div.sk-item {\n",
              "  /* draw centered vertical line to link estimators */\n",
              "  background-image: linear-gradient(var(--sklearn-color-text-on-default-background), var(--sklearn-color-text-on-default-background));\n",
              "  background-size: 2px 100%;\n",
              "  background-repeat: no-repeat;\n",
              "  background-position: center center;\n",
              "}\n",
              "\n",
              "/* Parallel-specific style estimator block */\n",
              "\n",
              "#sk-container-id-8 div.sk-parallel-item::after {\n",
              "  content: \"\";\n",
              "  width: 100%;\n",
              "  border-bottom: 2px solid var(--sklearn-color-text-on-default-background);\n",
              "  flex-grow: 1;\n",
              "}\n",
              "\n",
              "#sk-container-id-8 div.sk-parallel {\n",
              "  display: flex;\n",
              "  align-items: stretch;\n",
              "  justify-content: center;\n",
              "  background-color: var(--sklearn-color-background);\n",
              "  position: relative;\n",
              "}\n",
              "\n",
              "#sk-container-id-8 div.sk-parallel-item {\n",
              "  display: flex;\n",
              "  flex-direction: column;\n",
              "}\n",
              "\n",
              "#sk-container-id-8 div.sk-parallel-item:first-child::after {\n",
              "  align-self: flex-end;\n",
              "  width: 50%;\n",
              "}\n",
              "\n",
              "#sk-container-id-8 div.sk-parallel-item:last-child::after {\n",
              "  align-self: flex-start;\n",
              "  width: 50%;\n",
              "}\n",
              "\n",
              "#sk-container-id-8 div.sk-parallel-item:only-child::after {\n",
              "  width: 0;\n",
              "}\n",
              "\n",
              "/* Serial-specific style estimator block */\n",
              "\n",
              "#sk-container-id-8 div.sk-serial {\n",
              "  display: flex;\n",
              "  flex-direction: column;\n",
              "  align-items: center;\n",
              "  background-color: var(--sklearn-color-background);\n",
              "  padding-right: 1em;\n",
              "  padding-left: 1em;\n",
              "}\n",
              "\n",
              "\n",
              "/* Toggleable style: style used for estimator/Pipeline/ColumnTransformer box that is\n",
              "clickable and can be expanded/collapsed.\n",
              "- Pipeline and ColumnTransformer use this feature and define the default style\n",
              "- Estimators will overwrite some part of the style using the `sk-estimator` class\n",
              "*/\n",
              "\n",
              "/* Pipeline and ColumnTransformer style (default) */\n",
              "\n",
              "#sk-container-id-8 div.sk-toggleable {\n",
              "  /* Default theme specific background. It is overwritten whether we have a\n",
              "  specific estimator or a Pipeline/ColumnTransformer */\n",
              "  background-color: var(--sklearn-color-background);\n",
              "}\n",
              "\n",
              "/* Toggleable label */\n",
              "#sk-container-id-8 label.sk-toggleable__label {\n",
              "  cursor: pointer;\n",
              "  display: flex;\n",
              "  width: 100%;\n",
              "  margin-bottom: 0;\n",
              "  padding: 0.5em;\n",
              "  box-sizing: border-box;\n",
              "  text-align: center;\n",
              "  align-items: start;\n",
              "  justify-content: space-between;\n",
              "  gap: 0.5em;\n",
              "}\n",
              "\n",
              "#sk-container-id-8 label.sk-toggleable__label .caption {\n",
              "  font-size: 0.6rem;\n",
              "  font-weight: lighter;\n",
              "  color: var(--sklearn-color-text-muted);\n",
              "}\n",
              "\n",
              "#sk-container-id-8 label.sk-toggleable__label-arrow:before {\n",
              "  /* Arrow on the left of the label */\n",
              "  content: \"▸\";\n",
              "  float: left;\n",
              "  margin-right: 0.25em;\n",
              "  color: var(--sklearn-color-icon);\n",
              "}\n",
              "\n",
              "#sk-container-id-8 label.sk-toggleable__label-arrow:hover:before {\n",
              "  color: var(--sklearn-color-text);\n",
              "}\n",
              "\n",
              "/* Toggleable content - dropdown */\n",
              "\n",
              "#sk-container-id-8 div.sk-toggleable__content {\n",
              "  max-height: 0;\n",
              "  max-width: 0;\n",
              "  overflow: hidden;\n",
              "  text-align: left;\n",
              "  /* unfitted */\n",
              "  background-color: var(--sklearn-color-unfitted-level-0);\n",
              "}\n",
              "\n",
              "#sk-container-id-8 div.sk-toggleable__content.fitted {\n",
              "  /* fitted */\n",
              "  background-color: var(--sklearn-color-fitted-level-0);\n",
              "}\n",
              "\n",
              "#sk-container-id-8 div.sk-toggleable__content pre {\n",
              "  margin: 0.2em;\n",
              "  border-radius: 0.25em;\n",
              "  color: var(--sklearn-color-text);\n",
              "  /* unfitted */\n",
              "  background-color: var(--sklearn-color-unfitted-level-0);\n",
              "}\n",
              "\n",
              "#sk-container-id-8 div.sk-toggleable__content.fitted pre {\n",
              "  /* unfitted */\n",
              "  background-color: var(--sklearn-color-fitted-level-0);\n",
              "}\n",
              "\n",
              "#sk-container-id-8 input.sk-toggleable__control:checked~div.sk-toggleable__content {\n",
              "  /* Expand drop-down */\n",
              "  max-height: 200px;\n",
              "  max-width: 100%;\n",
              "  overflow: auto;\n",
              "}\n",
              "\n",
              "#sk-container-id-8 input.sk-toggleable__control:checked~label.sk-toggleable__label-arrow:before {\n",
              "  content: \"▾\";\n",
              "}\n",
              "\n",
              "/* Pipeline/ColumnTransformer-specific style */\n",
              "\n",
              "#sk-container-id-8 div.sk-label input.sk-toggleable__control:checked~label.sk-toggleable__label {\n",
              "  color: var(--sklearn-color-text);\n",
              "  background-color: var(--sklearn-color-unfitted-level-2);\n",
              "}\n",
              "\n",
              "#sk-container-id-8 div.sk-label.fitted input.sk-toggleable__control:checked~label.sk-toggleable__label {\n",
              "  background-color: var(--sklearn-color-fitted-level-2);\n",
              "}\n",
              "\n",
              "/* Estimator-specific style */\n",
              "\n",
              "/* Colorize estimator box */\n",
              "#sk-container-id-8 div.sk-estimator input.sk-toggleable__control:checked~label.sk-toggleable__label {\n",
              "  /* unfitted */\n",
              "  background-color: var(--sklearn-color-unfitted-level-2);\n",
              "}\n",
              "\n",
              "#sk-container-id-8 div.sk-estimator.fitted input.sk-toggleable__control:checked~label.sk-toggleable__label {\n",
              "  /* fitted */\n",
              "  background-color: var(--sklearn-color-fitted-level-2);\n",
              "}\n",
              "\n",
              "#sk-container-id-8 div.sk-label label.sk-toggleable__label,\n",
              "#sk-container-id-8 div.sk-label label {\n",
              "  /* The background is the default theme color */\n",
              "  color: var(--sklearn-color-text-on-default-background);\n",
              "}\n",
              "\n",
              "/* On hover, darken the color of the background */\n",
              "#sk-container-id-8 div.sk-label:hover label.sk-toggleable__label {\n",
              "  color: var(--sklearn-color-text);\n",
              "  background-color: var(--sklearn-color-unfitted-level-2);\n",
              "}\n",
              "\n",
              "/* Label box, darken color on hover, fitted */\n",
              "#sk-container-id-8 div.sk-label.fitted:hover label.sk-toggleable__label.fitted {\n",
              "  color: var(--sklearn-color-text);\n",
              "  background-color: var(--sklearn-color-fitted-level-2);\n",
              "}\n",
              "\n",
              "/* Estimator label */\n",
              "\n",
              "#sk-container-id-8 div.sk-label label {\n",
              "  font-family: monospace;\n",
              "  font-weight: bold;\n",
              "  display: inline-block;\n",
              "  line-height: 1.2em;\n",
              "}\n",
              "\n",
              "#sk-container-id-8 div.sk-label-container {\n",
              "  text-align: center;\n",
              "}\n",
              "\n",
              "/* Estimator-specific */\n",
              "#sk-container-id-8 div.sk-estimator {\n",
              "  font-family: monospace;\n",
              "  border: 1px dotted var(--sklearn-color-border-box);\n",
              "  border-radius: 0.25em;\n",
              "  box-sizing: border-box;\n",
              "  margin-bottom: 0.5em;\n",
              "  /* unfitted */\n",
              "  background-color: var(--sklearn-color-unfitted-level-0);\n",
              "}\n",
              "\n",
              "#sk-container-id-8 div.sk-estimator.fitted {\n",
              "  /* fitted */\n",
              "  background-color: var(--sklearn-color-fitted-level-0);\n",
              "}\n",
              "\n",
              "/* on hover */\n",
              "#sk-container-id-8 div.sk-estimator:hover {\n",
              "  /* unfitted */\n",
              "  background-color: var(--sklearn-color-unfitted-level-2);\n",
              "}\n",
              "\n",
              "#sk-container-id-8 div.sk-estimator.fitted:hover {\n",
              "  /* fitted */\n",
              "  background-color: var(--sklearn-color-fitted-level-2);\n",
              "}\n",
              "\n",
              "/* Specification for estimator info (e.g. \"i\" and \"?\") */\n",
              "\n",
              "/* Common style for \"i\" and \"?\" */\n",
              "\n",
              ".sk-estimator-doc-link,\n",
              "a:link.sk-estimator-doc-link,\n",
              "a:visited.sk-estimator-doc-link {\n",
              "  float: right;\n",
              "  font-size: smaller;\n",
              "  line-height: 1em;\n",
              "  font-family: monospace;\n",
              "  background-color: var(--sklearn-color-background);\n",
              "  border-radius: 1em;\n",
              "  height: 1em;\n",
              "  width: 1em;\n",
              "  text-decoration: none !important;\n",
              "  margin-left: 0.5em;\n",
              "  text-align: center;\n",
              "  /* unfitted */\n",
              "  border: var(--sklearn-color-unfitted-level-1) 1pt solid;\n",
              "  color: var(--sklearn-color-unfitted-level-1);\n",
              "}\n",
              "\n",
              ".sk-estimator-doc-link.fitted,\n",
              "a:link.sk-estimator-doc-link.fitted,\n",
              "a:visited.sk-estimator-doc-link.fitted {\n",
              "  /* fitted */\n",
              "  border: var(--sklearn-color-fitted-level-1) 1pt solid;\n",
              "  color: var(--sklearn-color-fitted-level-1);\n",
              "}\n",
              "\n",
              "/* On hover */\n",
              "div.sk-estimator:hover .sk-estimator-doc-link:hover,\n",
              ".sk-estimator-doc-link:hover,\n",
              "div.sk-label-container:hover .sk-estimator-doc-link:hover,\n",
              ".sk-estimator-doc-link:hover {\n",
              "  /* unfitted */\n",
              "  background-color: var(--sklearn-color-unfitted-level-3);\n",
              "  color: var(--sklearn-color-background);\n",
              "  text-decoration: none;\n",
              "}\n",
              "\n",
              "div.sk-estimator.fitted:hover .sk-estimator-doc-link.fitted:hover,\n",
              ".sk-estimator-doc-link.fitted:hover,\n",
              "div.sk-label-container:hover .sk-estimator-doc-link.fitted:hover,\n",
              ".sk-estimator-doc-link.fitted:hover {\n",
              "  /* fitted */\n",
              "  background-color: var(--sklearn-color-fitted-level-3);\n",
              "  color: var(--sklearn-color-background);\n",
              "  text-decoration: none;\n",
              "}\n",
              "\n",
              "/* Span, style for the box shown on hovering the info icon */\n",
              ".sk-estimator-doc-link span {\n",
              "  display: none;\n",
              "  z-index: 9999;\n",
              "  position: relative;\n",
              "  font-weight: normal;\n",
              "  right: .2ex;\n",
              "  padding: .5ex;\n",
              "  margin: .5ex;\n",
              "  width: min-content;\n",
              "  min-width: 20ex;\n",
              "  max-width: 50ex;\n",
              "  color: var(--sklearn-color-text);\n",
              "  box-shadow: 2pt 2pt 4pt #999;\n",
              "  /* unfitted */\n",
              "  background: var(--sklearn-color-unfitted-level-0);\n",
              "  border: .5pt solid var(--sklearn-color-unfitted-level-3);\n",
              "}\n",
              "\n",
              ".sk-estimator-doc-link.fitted span {\n",
              "  /* fitted */\n",
              "  background: var(--sklearn-color-fitted-level-0);\n",
              "  border: var(--sklearn-color-fitted-level-3);\n",
              "}\n",
              "\n",
              ".sk-estimator-doc-link:hover span {\n",
              "  display: block;\n",
              "}\n",
              "\n",
              "/* \"?\"-specific style due to the `<a>` HTML tag */\n",
              "\n",
              "#sk-container-id-8 a.estimator_doc_link {\n",
              "  float: right;\n",
              "  font-size: 1rem;\n",
              "  line-height: 1em;\n",
              "  font-family: monospace;\n",
              "  background-color: var(--sklearn-color-background);\n",
              "  border-radius: 1rem;\n",
              "  height: 1rem;\n",
              "  width: 1rem;\n",
              "  text-decoration: none;\n",
              "  /* unfitted */\n",
              "  color: var(--sklearn-color-unfitted-level-1);\n",
              "  border: var(--sklearn-color-unfitted-level-1) 1pt solid;\n",
              "}\n",
              "\n",
              "#sk-container-id-8 a.estimator_doc_link.fitted {\n",
              "  /* fitted */\n",
              "  border: var(--sklearn-color-fitted-level-1) 1pt solid;\n",
              "  color: var(--sklearn-color-fitted-level-1);\n",
              "}\n",
              "\n",
              "/* On hover */\n",
              "#sk-container-id-8 a.estimator_doc_link:hover {\n",
              "  /* unfitted */\n",
              "  background-color: var(--sklearn-color-unfitted-level-3);\n",
              "  color: var(--sklearn-color-background);\n",
              "  text-decoration: none;\n",
              "}\n",
              "\n",
              "#sk-container-id-8 a.estimator_doc_link.fitted:hover {\n",
              "  /* fitted */\n",
              "  background-color: var(--sklearn-color-fitted-level-3);\n",
              "}\n",
              "</style><div id=\"sk-container-id-8\" class=\"sk-top-container\"><div class=\"sk-text-repr-fallback\"><pre>KMeans(n_clusters=4, random_state=42)</pre><b>In a Jupyter environment, please rerun this cell to show the HTML representation or trust the notebook. <br />On GitHub, the HTML representation is unable to render, please try loading this page with nbviewer.org.</b></div><div class=\"sk-container\" hidden><div class=\"sk-item\"><div class=\"sk-estimator fitted sk-toggleable\"><input class=\"sk-toggleable__control sk-hidden--visually\" id=\"sk-estimator-id-8\" type=\"checkbox\" checked><label for=\"sk-estimator-id-8\" class=\"sk-toggleable__label fitted sk-toggleable__label-arrow\"><div><div>KMeans</div></div><div><a class=\"sk-estimator-doc-link fitted\" rel=\"noreferrer\" target=\"_blank\" href=\"https://scikit-learn.org/1.6/modules/generated/sklearn.cluster.KMeans.html\">?<span>Documentation for KMeans</span></a><span class=\"sk-estimator-doc-link fitted\">i<span>Fitted</span></span></div></label><div class=\"sk-toggleable__content fitted\"><pre>KMeans(n_clusters=4, random_state=42)</pre></div> </div></div></div></div>"
            ],
            "text/plain": [
              "KMeans(n_clusters=4, random_state=42)"
            ]
          },
          "execution_count": 45,
          "metadata": {},
          "output_type": "execute_result"
        }
      ],
      "source": [
        "from sklearn.cluster import KMeans\n",
        "\n",
        "# K-Means 군집화 수행\n",
        "# n_clusters는 생성할 군집의 개수입니다. 샘플 데이터의 카테고리 수와 동일하게 4로 설정합니다.\n",
        "kmeans = KMeans(n_clusters=4, random_state=42, n_init='auto') # n_init 기본값이 'auto'로 변경되었습니다.\n",
        "kmeans.fit(tfidf_matrix) # 군집화는 보통 TF-IDF 행렬을 사용합니다.\n"
      ]
    },
    {
      "cell_type": "code",
      "execution_count": 46,
      "metadata": {},
      "outputs": [
        {
          "data": {
            "text/plain": [
              "array([1, 2, 2, 1, 0, 1, 0, 3, 2, 3, 1, 1], dtype=int32)"
            ]
          },
          "execution_count": 46,
          "metadata": {},
          "output_type": "execute_result"
        }
      ],
      "source": [
        "kmeans.labels_"
      ]
    },
    {
      "cell_type": "code",
      "execution_count": 48,
      "metadata": {},
      "outputs": [
        {
          "name": "stdout",
          "output_type": "stream",
          "text": [
            "문서별 군집 할당 결과:\n",
            "                          document category  cluster_id\n",
            "4          여야, 내년도 예산안 처리 막판 협상 돌입       정치           0\n",
            "6              국회, 본회의 열어 법안 처리 예정       정치           0\n",
            "0   과기부, 데이터-AI 기반 신규 서비스 개발 사업 공모       IT           1\n",
            "3   네이버, 생성형 AI 하이퍼클로바X 기술 컨퍼런스 개최       IT           1\n",
            "5       대통령, 국무회의 주재하며 민생 안정 대책 논의       정치           1\n",
            "10          한국은행, 기준금리 3.5%로 동결 결정       경제           1\n",
            "11       코스피, 외인 매수세에 힘입어 소폭 상승 마감       경제           1\n",
            "1       구글, 차세대 인공지능 모델 제미나이 프로 공개       IT           2\n",
            "2    오픈AI 라이벌 등장, 미스트랄AI 거대언어모델 공개       IT           2\n",
            "8            프로농구 플레이오프, 4강 대진표 확정      스포츠           2\n",
            "7       손흥민, 리그 10호골 기록하며 팀 승리 이끌어      스포츠           3\n",
            "9       이정후, 메이저리그 샌프란시스코 자이언츠와 계약      스포츠           3\n"
          ]
        }
      ],
      "source": [
        "\n",
        "# 각 문서가 어떤 군집에 속하는지 확인\n",
        "news_df['cluster_id'] = kmeans.labels_\n",
        "print(\"문서별 군집 할당 결과:\")\n",
        "print(news_df[['document', 'category', 'cluster_id']].sort_values(by='cluster_id'))"
      ]
    },
    {
      "cell_type": "markdown",
      "metadata": {
        "id": "tvHJ34UBUiLS"
      },
      "source": [
        "#### ✏️ 연습 문제 (Practice Problems)\n",
        "\n",
        "1.  `KMeans` 모델을 `n_clusters=3`으로 설정하여 다시 군집화를 수행해 보세요. 기존의 4개 카테고리가 3개의 군집으로 어떻게 재편성되었는지 결과를 확인하고 분석해 보세요."
      ]
    },
    {
      "cell_type": "code",
      "execution_count": 9,
      "metadata": {},
      "outputs": [],
      "source": [
        "# 코드 작성"
      ]
    },
    {
      "cell_type": "markdown",
      "metadata": {},
      "source": [
        "2.  각 군집의 중심(centroid)에 가장 가까운 단어들을 찾아, 각 군집의 특징을 파악해 보세요. (힌트: `kmeans.cluster_centers_`는 각 군집의 중심 벡터입니다. `argsort()`를 사용하여 각 중심 벡터에서 값이 가장 큰 단어의 인덱스를 찾고, 이를 `tfidf_vectorizer.get_feature_names_out()`에 매핑할 수 있습니다.)\n"
      ]
    },
    {
      "cell_type": "code",
      "execution_count": null,
      "metadata": {},
      "outputs": [],
      "source": [
        "# 코드 작성"
      ]
    },
    {
      "cell_type": "markdown",
      "metadata": {},
      "source": [
        "---\n",
        "\n",
        "### 4. 군집 결과 시각화 (Visualizing Clustering Results)\n",
        "\n",
        "#### 💡 개념 (Concept)\n",
        "\n",
        "수천 차원의 TF-IDF 벡터를 직접 시각화하는 것은 불가능합니다. \n",
        "\n",
        "따라서 **차원 축소(Dimensionality Reduction)** 기법을 사용하여 고차원 벡터를 2차원으로 압축한 뒤, \n",
        "\n",
        "산점도(Scatter Plot)로 시각화합니다. \n",
        "\n",
        "**t-SNE(t-Distributed Stochastic Neighbor Embedding)** 는 고차원 데이터의 지역적 구조를 잘 보존하면서 2차원으로 변환하는 비선형 차원 축소 기법으로, 특히 군집화 결과를 시각화할 때 매우 효과적입니다.\n",
        "\n",
        "#### 💻 예시 코드 (Example Code)"
      ]
    },
    {
      "cell_type": "code",
      "execution_count": 49,
      "metadata": {
        "id": "fvOJrjAbUiLS"
      },
      "outputs": [
        {
          "data": {
            "application/vnd.plotly.v1+json": {
              "config": {
                "plotlyServerURL": "https://plot.ly"
              },
              "data": [
                {
                  "customdata": [
                    [
                      "과기부, 데이터-AI 기반 신규 서비스 개발 사업 공모",
                      "IT"
                    ],
                    [
                      "구글, 차세대 인공지능 모델 제미나이 프로 공개",
                      "IT"
                    ],
                    [
                      "오픈AI 라이벌 등장, 미스트랄AI 거대언어모델 공개",
                      "IT"
                    ],
                    [
                      "네이버, 생성형 AI 하이퍼클로바X 기술 컨퍼런스 개최",
                      "IT"
                    ],
                    [
                      "여야, 내년도 예산안 처리 막판 협상 돌입",
                      "정치"
                    ],
                    [
                      "대통령, 국무회의 주재하며 민생 안정 대책 논의",
                      "정치"
                    ],
                    [
                      "국회, 본회의 열어 법안 처리 예정",
                      "정치"
                    ],
                    [
                      "손흥민, 리그 10호골 기록하며 팀 승리 이끌어",
                      "스포츠"
                    ],
                    [
                      "프로농구 플레이오프, 4강 대진표 확정",
                      "스포츠"
                    ],
                    [
                      "이정후, 메이저리그 샌프란시스코 자이언츠와 계약",
                      "스포츠"
                    ],
                    [
                      "한국은행, 기준금리 3.5%로 동결 결정",
                      "경제"
                    ],
                    [
                      "코스피, 외인 매수세에 힘입어 소폭 상승 마감",
                      "경제"
                    ]
                  ],
                  "hovertemplate": "t-SNE Component 1=%{x}<br>t-SNE Component 2=%{y}<br>document=%{customdata[0]}<br>category=%{customdata[1]}<br>군집 ID=%{marker.color}<extra></extra>",
                  "legendgroup": "",
                  "marker": {
                    "color": {
                      "bdata": "AQAAAAIAAAACAAAAAQAAAAAAAAABAAAAAAAAAAMAAAACAAAAAwAAAAEAAAABAAAA",
                      "dtype": "i4"
                    },
                    "coloraxis": "coloraxis",
                    "symbol": "circle"
                  },
                  "mode": "markers",
                  "name": "",
                  "orientation": "v",
                  "showlegend": false,
                  "type": "scatter",
                  "x": {
                    "bdata": "7aWZxDR6MkSDbZtE7aWZxD3qlcPtpZnEQqfcQyEpy0RvpyzCISnLRO2lmcTtpZnE",
                    "dtype": "f4"
                  },
                  "xaxis": "x",
                  "y": {
                    "bdata": "taEcwXu308Il1uxDtaEcwUEB7ES1oRzBnXX+RJ/4tMSBxbTEn/i0xLWhHMG1oRzB",
                    "dtype": "f4"
                  },
                  "yaxis": "y"
                }
              ],
              "layout": {
                "coloraxis": {
                  "colorbar": {
                    "title": {
                      "text": "군집 ID"
                    }
                  },
                  "colorscale": [
                    [
                      0,
                      "#0d0887"
                    ],
                    [
                      0.1111111111111111,
                      "#46039f"
                    ],
                    [
                      0.2222222222222222,
                      "#7201a8"
                    ],
                    [
                      0.3333333333333333,
                      "#9c179e"
                    ],
                    [
                      0.4444444444444444,
                      "#bd3786"
                    ],
                    [
                      0.5555555555555556,
                      "#d8576b"
                    ],
                    [
                      0.6666666666666666,
                      "#ed7953"
                    ],
                    [
                      0.7777777777777778,
                      "#fb9f3a"
                    ],
                    [
                      0.8888888888888888,
                      "#fdca26"
                    ],
                    [
                      1,
                      "#f0f921"
                    ]
                  ]
                },
                "legend": {
                  "tracegroupgap": 0
                },
                "template": {
                  "data": {
                    "bar": [
                      {
                        "error_x": {
                          "color": "#2a3f5f"
                        },
                        "error_y": {
                          "color": "#2a3f5f"
                        },
                        "marker": {
                          "line": {
                            "color": "#E5ECF6",
                            "width": 0.5
                          },
                          "pattern": {
                            "fillmode": "overlay",
                            "size": 10,
                            "solidity": 0.2
                          }
                        },
                        "type": "bar"
                      }
                    ],
                    "barpolar": [
                      {
                        "marker": {
                          "line": {
                            "color": "#E5ECF6",
                            "width": 0.5
                          },
                          "pattern": {
                            "fillmode": "overlay",
                            "size": 10,
                            "solidity": 0.2
                          }
                        },
                        "type": "barpolar"
                      }
                    ],
                    "carpet": [
                      {
                        "aaxis": {
                          "endlinecolor": "#2a3f5f",
                          "gridcolor": "white",
                          "linecolor": "white",
                          "minorgridcolor": "white",
                          "startlinecolor": "#2a3f5f"
                        },
                        "baxis": {
                          "endlinecolor": "#2a3f5f",
                          "gridcolor": "white",
                          "linecolor": "white",
                          "minorgridcolor": "white",
                          "startlinecolor": "#2a3f5f"
                        },
                        "type": "carpet"
                      }
                    ],
                    "choropleth": [
                      {
                        "colorbar": {
                          "outlinewidth": 0,
                          "ticks": ""
                        },
                        "type": "choropleth"
                      }
                    ],
                    "contour": [
                      {
                        "colorbar": {
                          "outlinewidth": 0,
                          "ticks": ""
                        },
                        "colorscale": [
                          [
                            0,
                            "#0d0887"
                          ],
                          [
                            0.1111111111111111,
                            "#46039f"
                          ],
                          [
                            0.2222222222222222,
                            "#7201a8"
                          ],
                          [
                            0.3333333333333333,
                            "#9c179e"
                          ],
                          [
                            0.4444444444444444,
                            "#bd3786"
                          ],
                          [
                            0.5555555555555556,
                            "#d8576b"
                          ],
                          [
                            0.6666666666666666,
                            "#ed7953"
                          ],
                          [
                            0.7777777777777778,
                            "#fb9f3a"
                          ],
                          [
                            0.8888888888888888,
                            "#fdca26"
                          ],
                          [
                            1,
                            "#f0f921"
                          ]
                        ],
                        "type": "contour"
                      }
                    ],
                    "contourcarpet": [
                      {
                        "colorbar": {
                          "outlinewidth": 0,
                          "ticks": ""
                        },
                        "type": "contourcarpet"
                      }
                    ],
                    "heatmap": [
                      {
                        "colorbar": {
                          "outlinewidth": 0,
                          "ticks": ""
                        },
                        "colorscale": [
                          [
                            0,
                            "#0d0887"
                          ],
                          [
                            0.1111111111111111,
                            "#46039f"
                          ],
                          [
                            0.2222222222222222,
                            "#7201a8"
                          ],
                          [
                            0.3333333333333333,
                            "#9c179e"
                          ],
                          [
                            0.4444444444444444,
                            "#bd3786"
                          ],
                          [
                            0.5555555555555556,
                            "#d8576b"
                          ],
                          [
                            0.6666666666666666,
                            "#ed7953"
                          ],
                          [
                            0.7777777777777778,
                            "#fb9f3a"
                          ],
                          [
                            0.8888888888888888,
                            "#fdca26"
                          ],
                          [
                            1,
                            "#f0f921"
                          ]
                        ],
                        "type": "heatmap"
                      }
                    ],
                    "histogram": [
                      {
                        "marker": {
                          "pattern": {
                            "fillmode": "overlay",
                            "size": 10,
                            "solidity": 0.2
                          }
                        },
                        "type": "histogram"
                      }
                    ],
                    "histogram2d": [
                      {
                        "colorbar": {
                          "outlinewidth": 0,
                          "ticks": ""
                        },
                        "colorscale": [
                          [
                            0,
                            "#0d0887"
                          ],
                          [
                            0.1111111111111111,
                            "#46039f"
                          ],
                          [
                            0.2222222222222222,
                            "#7201a8"
                          ],
                          [
                            0.3333333333333333,
                            "#9c179e"
                          ],
                          [
                            0.4444444444444444,
                            "#bd3786"
                          ],
                          [
                            0.5555555555555556,
                            "#d8576b"
                          ],
                          [
                            0.6666666666666666,
                            "#ed7953"
                          ],
                          [
                            0.7777777777777778,
                            "#fb9f3a"
                          ],
                          [
                            0.8888888888888888,
                            "#fdca26"
                          ],
                          [
                            1,
                            "#f0f921"
                          ]
                        ],
                        "type": "histogram2d"
                      }
                    ],
                    "histogram2dcontour": [
                      {
                        "colorbar": {
                          "outlinewidth": 0,
                          "ticks": ""
                        },
                        "colorscale": [
                          [
                            0,
                            "#0d0887"
                          ],
                          [
                            0.1111111111111111,
                            "#46039f"
                          ],
                          [
                            0.2222222222222222,
                            "#7201a8"
                          ],
                          [
                            0.3333333333333333,
                            "#9c179e"
                          ],
                          [
                            0.4444444444444444,
                            "#bd3786"
                          ],
                          [
                            0.5555555555555556,
                            "#d8576b"
                          ],
                          [
                            0.6666666666666666,
                            "#ed7953"
                          ],
                          [
                            0.7777777777777778,
                            "#fb9f3a"
                          ],
                          [
                            0.8888888888888888,
                            "#fdca26"
                          ],
                          [
                            1,
                            "#f0f921"
                          ]
                        ],
                        "type": "histogram2dcontour"
                      }
                    ],
                    "mesh3d": [
                      {
                        "colorbar": {
                          "outlinewidth": 0,
                          "ticks": ""
                        },
                        "type": "mesh3d"
                      }
                    ],
                    "parcoords": [
                      {
                        "line": {
                          "colorbar": {
                            "outlinewidth": 0,
                            "ticks": ""
                          }
                        },
                        "type": "parcoords"
                      }
                    ],
                    "pie": [
                      {
                        "automargin": true,
                        "type": "pie"
                      }
                    ],
                    "scatter": [
                      {
                        "fillpattern": {
                          "fillmode": "overlay",
                          "size": 10,
                          "solidity": 0.2
                        },
                        "type": "scatter"
                      }
                    ],
                    "scatter3d": [
                      {
                        "line": {
                          "colorbar": {
                            "outlinewidth": 0,
                            "ticks": ""
                          }
                        },
                        "marker": {
                          "colorbar": {
                            "outlinewidth": 0,
                            "ticks": ""
                          }
                        },
                        "type": "scatter3d"
                      }
                    ],
                    "scattercarpet": [
                      {
                        "marker": {
                          "colorbar": {
                            "outlinewidth": 0,
                            "ticks": ""
                          }
                        },
                        "type": "scattercarpet"
                      }
                    ],
                    "scattergeo": [
                      {
                        "marker": {
                          "colorbar": {
                            "outlinewidth": 0,
                            "ticks": ""
                          }
                        },
                        "type": "scattergeo"
                      }
                    ],
                    "scattergl": [
                      {
                        "marker": {
                          "colorbar": {
                            "outlinewidth": 0,
                            "ticks": ""
                          }
                        },
                        "type": "scattergl"
                      }
                    ],
                    "scattermap": [
                      {
                        "marker": {
                          "colorbar": {
                            "outlinewidth": 0,
                            "ticks": ""
                          }
                        },
                        "type": "scattermap"
                      }
                    ],
                    "scattermapbox": [
                      {
                        "marker": {
                          "colorbar": {
                            "outlinewidth": 0,
                            "ticks": ""
                          }
                        },
                        "type": "scattermapbox"
                      }
                    ],
                    "scatterpolar": [
                      {
                        "marker": {
                          "colorbar": {
                            "outlinewidth": 0,
                            "ticks": ""
                          }
                        },
                        "type": "scatterpolar"
                      }
                    ],
                    "scatterpolargl": [
                      {
                        "marker": {
                          "colorbar": {
                            "outlinewidth": 0,
                            "ticks": ""
                          }
                        },
                        "type": "scatterpolargl"
                      }
                    ],
                    "scatterternary": [
                      {
                        "marker": {
                          "colorbar": {
                            "outlinewidth": 0,
                            "ticks": ""
                          }
                        },
                        "type": "scatterternary"
                      }
                    ],
                    "surface": [
                      {
                        "colorbar": {
                          "outlinewidth": 0,
                          "ticks": ""
                        },
                        "colorscale": [
                          [
                            0,
                            "#0d0887"
                          ],
                          [
                            0.1111111111111111,
                            "#46039f"
                          ],
                          [
                            0.2222222222222222,
                            "#7201a8"
                          ],
                          [
                            0.3333333333333333,
                            "#9c179e"
                          ],
                          [
                            0.4444444444444444,
                            "#bd3786"
                          ],
                          [
                            0.5555555555555556,
                            "#d8576b"
                          ],
                          [
                            0.6666666666666666,
                            "#ed7953"
                          ],
                          [
                            0.7777777777777778,
                            "#fb9f3a"
                          ],
                          [
                            0.8888888888888888,
                            "#fdca26"
                          ],
                          [
                            1,
                            "#f0f921"
                          ]
                        ],
                        "type": "surface"
                      }
                    ],
                    "table": [
                      {
                        "cells": {
                          "fill": {
                            "color": "#EBF0F8"
                          },
                          "line": {
                            "color": "white"
                          }
                        },
                        "header": {
                          "fill": {
                            "color": "#C8D4E3"
                          },
                          "line": {
                            "color": "white"
                          }
                        },
                        "type": "table"
                      }
                    ]
                  },
                  "layout": {
                    "annotationdefaults": {
                      "arrowcolor": "#2a3f5f",
                      "arrowhead": 0,
                      "arrowwidth": 1
                    },
                    "autotypenumbers": "strict",
                    "coloraxis": {
                      "colorbar": {
                        "outlinewidth": 0,
                        "ticks": ""
                      }
                    },
                    "colorscale": {
                      "diverging": [
                        [
                          0,
                          "#8e0152"
                        ],
                        [
                          0.1,
                          "#c51b7d"
                        ],
                        [
                          0.2,
                          "#de77ae"
                        ],
                        [
                          0.3,
                          "#f1b6da"
                        ],
                        [
                          0.4,
                          "#fde0ef"
                        ],
                        [
                          0.5,
                          "#f7f7f7"
                        ],
                        [
                          0.6,
                          "#e6f5d0"
                        ],
                        [
                          0.7,
                          "#b8e186"
                        ],
                        [
                          0.8,
                          "#7fbc41"
                        ],
                        [
                          0.9,
                          "#4d9221"
                        ],
                        [
                          1,
                          "#276419"
                        ]
                      ],
                      "sequential": [
                        [
                          0,
                          "#0d0887"
                        ],
                        [
                          0.1111111111111111,
                          "#46039f"
                        ],
                        [
                          0.2222222222222222,
                          "#7201a8"
                        ],
                        [
                          0.3333333333333333,
                          "#9c179e"
                        ],
                        [
                          0.4444444444444444,
                          "#bd3786"
                        ],
                        [
                          0.5555555555555556,
                          "#d8576b"
                        ],
                        [
                          0.6666666666666666,
                          "#ed7953"
                        ],
                        [
                          0.7777777777777778,
                          "#fb9f3a"
                        ],
                        [
                          0.8888888888888888,
                          "#fdca26"
                        ],
                        [
                          1,
                          "#f0f921"
                        ]
                      ],
                      "sequentialminus": [
                        [
                          0,
                          "#0d0887"
                        ],
                        [
                          0.1111111111111111,
                          "#46039f"
                        ],
                        [
                          0.2222222222222222,
                          "#7201a8"
                        ],
                        [
                          0.3333333333333333,
                          "#9c179e"
                        ],
                        [
                          0.4444444444444444,
                          "#bd3786"
                        ],
                        [
                          0.5555555555555556,
                          "#d8576b"
                        ],
                        [
                          0.6666666666666666,
                          "#ed7953"
                        ],
                        [
                          0.7777777777777778,
                          "#fb9f3a"
                        ],
                        [
                          0.8888888888888888,
                          "#fdca26"
                        ],
                        [
                          1,
                          "#f0f921"
                        ]
                      ]
                    },
                    "colorway": [
                      "#636efa",
                      "#EF553B",
                      "#00cc96",
                      "#ab63fa",
                      "#FFA15A",
                      "#19d3f3",
                      "#FF6692",
                      "#B6E880",
                      "#FF97FF",
                      "#FECB52"
                    ],
                    "font": {
                      "color": "#2a3f5f"
                    },
                    "geo": {
                      "bgcolor": "white",
                      "lakecolor": "white",
                      "landcolor": "#E5ECF6",
                      "showlakes": true,
                      "showland": true,
                      "subunitcolor": "white"
                    },
                    "hoverlabel": {
                      "align": "left"
                    },
                    "hovermode": "closest",
                    "mapbox": {
                      "style": "light"
                    },
                    "paper_bgcolor": "white",
                    "plot_bgcolor": "#E5ECF6",
                    "polar": {
                      "angularaxis": {
                        "gridcolor": "white",
                        "linecolor": "white",
                        "ticks": ""
                      },
                      "bgcolor": "#E5ECF6",
                      "radialaxis": {
                        "gridcolor": "white",
                        "linecolor": "white",
                        "ticks": ""
                      }
                    },
                    "scene": {
                      "xaxis": {
                        "backgroundcolor": "#E5ECF6",
                        "gridcolor": "white",
                        "gridwidth": 2,
                        "linecolor": "white",
                        "showbackground": true,
                        "ticks": "",
                        "zerolinecolor": "white"
                      },
                      "yaxis": {
                        "backgroundcolor": "#E5ECF6",
                        "gridcolor": "white",
                        "gridwidth": 2,
                        "linecolor": "white",
                        "showbackground": true,
                        "ticks": "",
                        "zerolinecolor": "white"
                      },
                      "zaxis": {
                        "backgroundcolor": "#E5ECF6",
                        "gridcolor": "white",
                        "gridwidth": 2,
                        "linecolor": "white",
                        "showbackground": true,
                        "ticks": "",
                        "zerolinecolor": "white"
                      }
                    },
                    "shapedefaults": {
                      "line": {
                        "color": "#2a3f5f"
                      }
                    },
                    "ternary": {
                      "aaxis": {
                        "gridcolor": "white",
                        "linecolor": "white",
                        "ticks": ""
                      },
                      "baxis": {
                        "gridcolor": "white",
                        "linecolor": "white",
                        "ticks": ""
                      },
                      "bgcolor": "#E5ECF6",
                      "caxis": {
                        "gridcolor": "white",
                        "linecolor": "white",
                        "ticks": ""
                      }
                    },
                    "title": {
                      "x": 0.05
                    },
                    "xaxis": {
                      "automargin": true,
                      "gridcolor": "white",
                      "linecolor": "white",
                      "ticks": "",
                      "title": {
                        "standoff": 15
                      },
                      "zerolinecolor": "white",
                      "zerolinewidth": 2
                    },
                    "yaxis": {
                      "automargin": true,
                      "gridcolor": "white",
                      "linecolor": "white",
                      "ticks": "",
                      "title": {
                        "standoff": 15
                      },
                      "zerolinecolor": "white",
                      "zerolinewidth": 2
                    }
                  }
                },
                "title": {
                  "text": "K-Means 군집화 결과 (2D t-SNE)"
                },
                "xaxis": {
                  "anchor": "y",
                  "domain": [
                    0,
                    1
                  ],
                  "title": {
                    "text": "t-SNE Component 1"
                  }
                },
                "yaxis": {
                  "anchor": "x",
                  "domain": [
                    0,
                    1
                  ],
                  "title": {
                    "text": "t-SNE Component 2"
                  }
                }
              }
            }
          },
          "metadata": {},
          "output_type": "display_data"
        }
      ],
      "source": [
        "from sklearn.manifold import TSNE\n",
        "import plotly.express as px\n",
        "\n",
        "# t-SNE를 사용하여 2차원으로 차원 축소\n",
        "tsne = TSNE(n_components=2, random_state=42, perplexity=3)\n",
        "tsne_components = tsne.fit_transform(tfidf_matrix.toarray())\n",
        "\n",
        "# 데이터프레임에 t-SNE 결과 추가\n",
        "news_df['tsne_x'] = tsne_components[:, 0]\n",
        "news_df['tsne_y'] = tsne_components[:, 1]\n",
        "\n",
        "# 인터랙티브 산점도 시각화\n",
        "fig = px.scatter(news_df,\n",
        "                 x='tsne_x',\n",
        "                 y='tsne_y',\n",
        "                 color='cluster_id',\n",
        "                 hover_data=['document', 'category'],\n",
        "                 title='K-Means 군집화 결과 (2D t-SNE)',\n",
        "                 labels={'tsne_x': 't-SNE Component 1', 'tsne_y': 't-SNE Component 2', 'cluster_id': '군집 ID'}\n",
        ")\n",
        "fig.show()"
      ]
    },
    {
      "cell_type": "markdown",
      "metadata": {
        "id": "91ddu8IOUiLS"
      },
      "source": [
        "#### ✏️ 연습 문제 (Practice Problems)\n",
        "\n",
        "1.  PCA 대신 또 다른 차원 축소 기법인 **t-SNE** (`sklearn.manifold.TSNE`)를 사용하여 2차원으로 축소하고, 그 결과를 산점도로 시각화해 보세요. PCA 결과와 어떤 차이가 있는지 비교해 보세요.\n"
      ]
    },
    {
      "cell_type": "code",
      "execution_count": null,
      "metadata": {},
      "outputs": [],
      "source": []
    },
    {
      "cell_type": "markdown",
      "metadata": {},
      "source": [
        "2.  위 예시 코드의 `px.scatter`에서 `color` 인자를 `'cluster_id'` 대신 실제 카테고리인 `'category'`로 변경하여 시각화해 보세요. K-Means가 얼마나 실제 카테고리를 잘 분리해냈는지 시각적으로 확인할 수 있습니다."
      ]
    },
    {
      "cell_type": "code",
      "execution_count": null,
      "metadata": {},
      "outputs": [],
      "source": [
        "# 코드 작성"
      ]
    },
    {
      "cell_type": "markdown",
      "metadata": {},
      "source": [
        "\n",
        "---\n"
      ]
    },
    {
      "cell_type": "markdown",
      "metadata": {},
      "source": [
        "### 🏆 최종 실습 과제: 실제 도서 리뷰 데이터로 숨은 목소리 찾기\n",
        "\n",
        "지금까지 배운 토픽 모델링과 군집화 기법을 실제 데이터에 적용하여 독자들이 남긴 리뷰 속에 숨겨진 다양한 목소리와 주제를 발견해 봅시다.\n",
        "\n",
        "**과제 목표:**\n",
        "교보문고의 특정 베스트셀러 도서에 대한 리뷰를 직접 수집(크롤링)하고, 비지도 학습을 통해 리뷰들을 주제별로 묶고(토픽 모델링), 비슷한 내용의 리뷰들을 그룹화(군집화)하여 인사이트를 도출합니다.\n",
        "\n",
        "#### 📚 1단계: 데이터 수집 (웹 크롤링)\n",
        "\n",
        "먼저 분석할 리뷰 데이터를 수집해야 합니다. 제가 알려드리는 방식으로 수집을 해보세요(별도 교육)\n",
        "\n",
        "* **대상 도서:** 밑바닥부터 시작하는 딥러닝\n",
        "* **대상 URL:** `https://product.kyobobook.co.kr/detail/S000001057805`\n",
        "* **수집 내용:** 리뷰 텍스트"
      ]
    },
    {
      "cell_type": "code",
      "execution_count": 52,
      "metadata": {},
      "outputs": [],
      "source": [
        "url = f\"https://product.kyobobook.co.kr/api/review/list?page={1}&pageLimit=10&reviewSort=001&revwPatrCode=002&saleCmdtid=S000001057805\"\n",
        "    \n",
        "headers = {\n",
        "    \"accept\": \"*/*\",\n",
        "    \"accept-language\": \"ko-KR,ko;q=0.9,en-US;q=0.8,en;q=0.7\",\n",
        "    \"cache-control\": \"no-cache\",\n",
        "    \"pragma\": \"no-cache\",\n",
        "    \"priority\": \"u=1, i\",\n",
        "    \"sec-ch-ua\": \"\\\"Google Chrome\\\";v=\\\"137\\\", \\\"Chromium\\\";v=\\\"137\\\", \\\"Not/A)Brand\\\";v=\\\"24\\\"\",\n",
        "    \"sec-ch-ua-mobile\": \"?0\",\n",
        "    \"sec-ch-ua-platform\": \"\\\"macOS\\\"\",\n",
        "    \"sec-fetch-dest\": \"empty\",\n",
        "    \"sec-fetch-mode\": \"cors\",\n",
        "    \"sec-fetch-site\": \"same-origin\",\n",
        "    \"User-Agent\": \"Mozilla/5.0 (Macintosh; Intel Mac OS X 10_15_7) AppleWebKit/537.36 (KHTML, like Gecko) Chrome/137.0.0.0 Safari/537.36\"\n",
        "}\n",
        "response = requests.get(url, headers=headers)"
      ]
    },
    {
      "cell_type": "code",
      "execution_count": 54,
      "metadata": {},
      "outputs": [
        {
          "data": {
            "text/plain": [
              "{'data': {'reviewList': [{'revwNum': 2400121,\n",
              "    'kbcSiteCode': '001',\n",
              "    'revwKindCode': '001',\n",
              "    'revwPatrCode': '002',\n",
              "    'mmbrNum': '62018267237',\n",
              "    'mmbrId': 'ji********',\n",
              "    'cretDttm': '2021-02-11 16:53:10.306',\n",
              "    'revwCntt': '딥러닝 아무것도 모르는데 이거 읽고 깨우쳤음.',\n",
              "    'revwEmtnKywrPatrCode': '002',\n",
              "    'revwEmtnKywrCode': '001',\n",
              "    'revwEmtnKywrName': '집중돼요',\n",
              "    'revwRvgr': 4,\n",
              "    'splrInclYsno': 'N',\n",
              "    'hdngYsno': 'N',\n",
              "    'cttsHdngRsnCode': None,\n",
              "    'hdngRsn': None,\n",
              "    'attndChekTrgtYsno': 'N',\n",
              "    'ordrId': None,\n",
              "    'rewardEvcAmnt': 0,\n",
              "    'rewardEvcIsncYsno': None,\n",
              "    'rewardEvcIsncDate': None,\n",
              "    'mgrRewardEvcIsncYsno': None,\n",
              "    'mgrRewardEvcIsncRsn': None,\n",
              "    'evntId': '0',\n",
              "    'dltYsno': 'N',\n",
              "    'saleCmdtid': 'S000001057805',\n",
              "    'saleCmdtDvsnCode': 'KOR',\n",
              "    'cmdtName': '밑바닥부터 시작하는 딥러닝',\n",
              "    'cmdtcode': '9788968484636',\n",
              "    'saleLmttAge': '0',\n",
              "    'recdcode': None,\n",
              "    'saleCmdtGrpDvsnCode': None,\n",
              "    'imgUrl': None,\n",
              "    'crtrId': '62*********',\n",
              "    'amnrId': '50*********',\n",
              "    'reviewAtacList': [],\n",
              "    'reviewAtacCount': 0,\n",
              "    'atacFileNum': 0,\n",
              "    'reviewRecommendCount': 2,\n",
              "    'reviewCommentCount': 0,\n",
              "    'reviewDeclarationCount': 0,\n",
              "    'reviewRecommendUserYsno': 'N',\n",
              "    'declaration5timesYsno': 'N',\n",
              "    'declarationUserYsno': 'N',\n",
              "    'blockUserYsno': 'N',\n",
              "    'firstRevwNum': '',\n",
              "    'oneMonthRevwNum': None,\n",
              "    'chrcList': [],\n",
              "    'fndgPrjtSrmb': 0,\n",
              "    'turnSrmb': None},\n",
              "   {'revwNum': 15291814,\n",
              "    'kbcSiteCode': '001',\n",
              "    'revwKindCode': '001',\n",
              "    'revwPatrCode': '002',\n",
              "    'mmbrNum': '62020250042',\n",
              "    'mmbrId': 'ql****',\n",
              "    'cretDttm': '2025-01-24 22:59:13.290737',\n",
              "    'revwCntt': '딥러닝에 대한 기본을 배울 수 있는 좋은 책이라고 생각합니다',\n",
              "    'revwEmtnKywrPatrCode': '002',\n",
              "    'revwEmtnKywrCode': '002',\n",
              "    'revwEmtnKywrName': '도움돼요',\n",
              "    'revwRvgr': 4,\n",
              "    'splrInclYsno': 'N',\n",
              "    'hdngYsno': 'N',\n",
              "    'cttsHdngRsnCode': None,\n",
              "    'hdngRsn': None,\n",
              "    'attndChekTrgtYsno': 'N',\n",
              "    'ordrId': None,\n",
              "    'rewardEvcAmnt': 0,\n",
              "    'rewardEvcIsncYsno': None,\n",
              "    'rewardEvcIsncDate': None,\n",
              "    'mgrRewardEvcIsncYsno': None,\n",
              "    'mgrRewardEvcIsncRsn': None,\n",
              "    'evntId': None,\n",
              "    'dltYsno': 'N',\n",
              "    'saleCmdtid': 'S000001057805',\n",
              "    'saleCmdtDvsnCode': 'KOR',\n",
              "    'cmdtName': '밑바닥부터 시작하는 딥러닝',\n",
              "    'cmdtcode': '9788968484636',\n",
              "    'saleLmttAge': '0',\n",
              "    'recdcode': None,\n",
              "    'saleCmdtGrpDvsnCode': None,\n",
              "    'imgUrl': None,\n",
              "    'crtrId': 'AP****************',\n",
              "    'amnrId': 'AP****************',\n",
              "    'reviewAtacList': [],\n",
              "    'reviewAtacCount': 0,\n",
              "    'atacFileNum': 0,\n",
              "    'reviewRecommendCount': 0,\n",
              "    'reviewCommentCount': 0,\n",
              "    'reviewDeclarationCount': 0,\n",
              "    'reviewRecommendUserYsno': 'N',\n",
              "    'declaration5timesYsno': 'N',\n",
              "    'declarationUserYsno': 'N',\n",
              "    'blockUserYsno': 'N',\n",
              "    'firstRevwNum': '',\n",
              "    'oneMonthRevwNum': None,\n",
              "    'chrcList': [],\n",
              "    'fndgPrjtSrmb': 0,\n",
              "    'turnSrmb': None},\n",
              "   {'revwNum': 15261466,\n",
              "    'kbcSiteCode': '001',\n",
              "    'revwKindCode': '001',\n",
              "    'revwPatrCode': '002',\n",
              "    'mmbrNum': '62009130793',\n",
              "    'mmbrId': 'ma*****',\n",
              "    'cretDttm': '2025-01-17 01:25:16.218177',\n",
              "    'revwCntt': '자세하게 알려줘서 이해하기 쉬워요',\n",
              "    'revwEmtnKywrPatrCode': '002',\n",
              "    'revwEmtnKywrCode': '004',\n",
              "    'revwEmtnKywrName': '최고예요',\n",
              "    'revwRvgr': 4,\n",
              "    'splrInclYsno': 'N',\n",
              "    'hdngYsno': 'N',\n",
              "    'cttsHdngRsnCode': None,\n",
              "    'hdngRsn': None,\n",
              "    'attndChekTrgtYsno': 'N',\n",
              "    'ordrId': None,\n",
              "    'rewardEvcAmnt': 0,\n",
              "    'rewardEvcIsncYsno': None,\n",
              "    'rewardEvcIsncDate': None,\n",
              "    'mgrRewardEvcIsncYsno': None,\n",
              "    'mgrRewardEvcIsncRsn': None,\n",
              "    'evntId': None,\n",
              "    'dltYsno': 'N',\n",
              "    'saleCmdtid': 'S000001057805',\n",
              "    'saleCmdtDvsnCode': 'KOR',\n",
              "    'cmdtName': '밑바닥부터 시작하는 딥러닝',\n",
              "    'cmdtcode': '9788968484636',\n",
              "    'saleLmttAge': '0',\n",
              "    'recdcode': None,\n",
              "    'saleCmdtGrpDvsnCode': None,\n",
              "    'imgUrl': None,\n",
              "    'crtrId': 'AP****************',\n",
              "    'amnrId': 'AP****************',\n",
              "    'reviewAtacList': [],\n",
              "    'reviewAtacCount': 0,\n",
              "    'atacFileNum': 0,\n",
              "    'reviewRecommendCount': 0,\n",
              "    'reviewCommentCount': 0,\n",
              "    'reviewDeclarationCount': 0,\n",
              "    'reviewRecommendUserYsno': 'N',\n",
              "    'declaration5timesYsno': 'N',\n",
              "    'declarationUserYsno': 'N',\n",
              "    'blockUserYsno': 'N',\n",
              "    'firstRevwNum': '',\n",
              "    'oneMonthRevwNum': None,\n",
              "    'chrcList': [],\n",
              "    'fndgPrjtSrmb': 0,\n",
              "    'turnSrmb': None},\n",
              "   {'revwNum': 14976673,\n",
              "    'kbcSiteCode': '001',\n",
              "    'revwKindCode': '001',\n",
              "    'revwPatrCode': '002',\n",
              "    'mmbrNum': '52017039668',\n",
              "    'mmbrId': 'rb******',\n",
              "    'cretDttm': '2024-11-03 09:15:45.987704',\n",
              "    'revwCntt': '잘볼게요 감사합니다',\n",
              "    'revwEmtnKywrPatrCode': '002',\n",
              "    'revwEmtnKywrCode': '002',\n",
              "    'revwEmtnKywrName': '도움돼요',\n",
              "    'revwRvgr': 4,\n",
              "    'splrInclYsno': 'N',\n",
              "    'hdngYsno': 'N',\n",
              "    'cttsHdngRsnCode': None,\n",
              "    'hdngRsn': None,\n",
              "    'attndChekTrgtYsno': 'N',\n",
              "    'ordrId': None,\n",
              "    'rewardEvcAmnt': 0,\n",
              "    'rewardEvcIsncYsno': None,\n",
              "    'rewardEvcIsncDate': None,\n",
              "    'mgrRewardEvcIsncYsno': None,\n",
              "    'mgrRewardEvcIsncRsn': None,\n",
              "    'evntId': None,\n",
              "    'dltYsno': 'N',\n",
              "    'saleCmdtid': 'S000001057805',\n",
              "    'saleCmdtDvsnCode': 'KOR',\n",
              "    'cmdtName': '밑바닥부터 시작하는 딥러닝',\n",
              "    'cmdtcode': '9788968484636',\n",
              "    'saleLmttAge': '0',\n",
              "    'recdcode': None,\n",
              "    'saleCmdtGrpDvsnCode': None,\n",
              "    'imgUrl': None,\n",
              "    'crtrId': 'AP****************',\n",
              "    'amnrId': 'AP****************',\n",
              "    'reviewAtacList': [],\n",
              "    'reviewAtacCount': 0,\n",
              "    'atacFileNum': 0,\n",
              "    'reviewRecommendCount': 0,\n",
              "    'reviewCommentCount': 0,\n",
              "    'reviewDeclarationCount': 0,\n",
              "    'reviewRecommendUserYsno': 'N',\n",
              "    'declaration5timesYsno': 'N',\n",
              "    'declarationUserYsno': 'N',\n",
              "    'blockUserYsno': 'N',\n",
              "    'firstRevwNum': '',\n",
              "    'oneMonthRevwNum': None,\n",
              "    'chrcList': [],\n",
              "    'fndgPrjtSrmb': 0,\n",
              "    'turnSrmb': None},\n",
              "   {'revwNum': 14375360,\n",
              "    'kbcSiteCode': '001',\n",
              "    'revwKindCode': '001',\n",
              "    'revwPatrCode': '002',\n",
              "    'mmbrNum': '62005299929',\n",
              "    'mmbrId': 'js*****',\n",
              "    'cretDttm': '2024-08-12 14:12:38.291326',\n",
              "    'revwCntt': '시리즈물로 되어있어서 좋아요',\n",
              "    'revwEmtnKywrPatrCode': '002',\n",
              "    'revwEmtnKywrCode': '004',\n",
              "    'revwEmtnKywrName': '최고예요',\n",
              "    'revwRvgr': 4,\n",
              "    'splrInclYsno': 'N',\n",
              "    'hdngYsno': 'N',\n",
              "    'cttsHdngRsnCode': None,\n",
              "    'hdngRsn': None,\n",
              "    'attndChekTrgtYsno': 'N',\n",
              "    'ordrId': None,\n",
              "    'rewardEvcAmnt': 0,\n",
              "    'rewardEvcIsncYsno': None,\n",
              "    'rewardEvcIsncDate': None,\n",
              "    'mgrRewardEvcIsncYsno': None,\n",
              "    'mgrRewardEvcIsncRsn': None,\n",
              "    'evntId': None,\n",
              "    'dltYsno': 'N',\n",
              "    'saleCmdtid': 'S000001057805',\n",
              "    'saleCmdtDvsnCode': 'KOR',\n",
              "    'cmdtName': '밑바닥부터 시작하는 딥러닝',\n",
              "    'cmdtcode': '9788968484636',\n",
              "    'saleLmttAge': '0',\n",
              "    'recdcode': None,\n",
              "    'saleCmdtGrpDvsnCode': None,\n",
              "    'imgUrl': None,\n",
              "    'crtrId': 'AP****************',\n",
              "    'amnrId': 'AP****************',\n",
              "    'reviewAtacList': [],\n",
              "    'reviewAtacCount': 0,\n",
              "    'atacFileNum': 0,\n",
              "    'reviewRecommendCount': 0,\n",
              "    'reviewCommentCount': 0,\n",
              "    'reviewDeclarationCount': 0,\n",
              "    'reviewRecommendUserYsno': 'N',\n",
              "    'declaration5timesYsno': 'N',\n",
              "    'declarationUserYsno': 'N',\n",
              "    'blockUserYsno': 'N',\n",
              "    'firstRevwNum': '',\n",
              "    'oneMonthRevwNum': None,\n",
              "    'chrcList': [],\n",
              "    'fndgPrjtSrmb': 0,\n",
              "    'turnSrmb': None},\n",
              "   {'revwNum': 14323243,\n",
              "    'kbcSiteCode': '001',\n",
              "    'revwKindCode': '001',\n",
              "    'revwPatrCode': '002',\n",
              "    'mmbrNum': '62017054292',\n",
              "    'mmbrId': 'sw********',\n",
              "    'cretDttm': '2024-08-04 13:17:53.344136',\n",
              "    'revwCntt': '딥러닝 혼공에 도움됩니다',\n",
              "    'revwEmtnKywrPatrCode': '002',\n",
              "    'revwEmtnKywrCode': '005',\n",
              "    'revwEmtnKywrName': '추천해요',\n",
              "    'revwRvgr': 4,\n",
              "    'splrInclYsno': 'N',\n",
              "    'hdngYsno': 'N',\n",
              "    'cttsHdngRsnCode': None,\n",
              "    'hdngRsn': None,\n",
              "    'attndChekTrgtYsno': 'N',\n",
              "    'ordrId': None,\n",
              "    'rewardEvcAmnt': 0,\n",
              "    'rewardEvcIsncYsno': None,\n",
              "    'rewardEvcIsncDate': None,\n",
              "    'mgrRewardEvcIsncYsno': None,\n",
              "    'mgrRewardEvcIsncRsn': None,\n",
              "    'evntId': None,\n",
              "    'dltYsno': 'N',\n",
              "    'saleCmdtid': 'S000001057805',\n",
              "    'saleCmdtDvsnCode': 'KOR',\n",
              "    'cmdtName': '밑바닥부터 시작하는 딥러닝',\n",
              "    'cmdtcode': '9788968484636',\n",
              "    'saleLmttAge': '0',\n",
              "    'recdcode': None,\n",
              "    'saleCmdtGrpDvsnCode': None,\n",
              "    'imgUrl': None,\n",
              "    'crtrId': 'AP****************',\n",
              "    'amnrId': 'AP****************',\n",
              "    'reviewAtacList': [],\n",
              "    'reviewAtacCount': 0,\n",
              "    'atacFileNum': 0,\n",
              "    'reviewRecommendCount': 0,\n",
              "    'reviewCommentCount': 0,\n",
              "    'reviewDeclarationCount': 0,\n",
              "    'reviewRecommendUserYsno': 'N',\n",
              "    'declaration5timesYsno': 'N',\n",
              "    'declarationUserYsno': 'N',\n",
              "    'blockUserYsno': 'N',\n",
              "    'firstRevwNum': '',\n",
              "    'oneMonthRevwNum': None,\n",
              "    'chrcList': [],\n",
              "    'fndgPrjtSrmb': 0,\n",
              "    'turnSrmb': None},\n",
              "   {'revwNum': 13869522,\n",
              "    'kbcSiteCode': '001',\n",
              "    'revwKindCode': '001',\n",
              "    'revwPatrCode': '002',\n",
              "    'mmbrNum': '62018755562',\n",
              "    'mmbrId': 'cu*******',\n",
              "    'cretDttm': '2024-05-31 16:30:41.07304',\n",
              "    'revwCntt': '공부를 위해 구매했습니다. 감사합니다.',\n",
              "    'revwEmtnKywrPatrCode': '002',\n",
              "    'revwEmtnKywrCode': '002',\n",
              "    'revwEmtnKywrName': '도움돼요',\n",
              "    'revwRvgr': 4,\n",
              "    'splrInclYsno': 'N',\n",
              "    'hdngYsno': 'N',\n",
              "    'cttsHdngRsnCode': None,\n",
              "    'hdngRsn': None,\n",
              "    'attndChekTrgtYsno': 'N',\n",
              "    'ordrId': None,\n",
              "    'rewardEvcAmnt': 0,\n",
              "    'rewardEvcIsncYsno': None,\n",
              "    'rewardEvcIsncDate': None,\n",
              "    'mgrRewardEvcIsncYsno': None,\n",
              "    'mgrRewardEvcIsncRsn': None,\n",
              "    'evntId': None,\n",
              "    'dltYsno': 'N',\n",
              "    'saleCmdtid': 'S000001057805',\n",
              "    'saleCmdtDvsnCode': 'KOR',\n",
              "    'cmdtName': '밑바닥부터 시작하는 딥러닝',\n",
              "    'cmdtcode': '9788968484636',\n",
              "    'saleLmttAge': '0',\n",
              "    'recdcode': None,\n",
              "    'saleCmdtGrpDvsnCode': None,\n",
              "    'imgUrl': None,\n",
              "    'crtrId': 'AP****************',\n",
              "    'amnrId': 'AP****************',\n",
              "    'reviewAtacList': [],\n",
              "    'reviewAtacCount': 0,\n",
              "    'atacFileNum': 0,\n",
              "    'reviewRecommendCount': 0,\n",
              "    'reviewCommentCount': 0,\n",
              "    'reviewDeclarationCount': 0,\n",
              "    'reviewRecommendUserYsno': 'N',\n",
              "    'declaration5timesYsno': 'N',\n",
              "    'declarationUserYsno': 'N',\n",
              "    'blockUserYsno': 'N',\n",
              "    'firstRevwNum': '',\n",
              "    'oneMonthRevwNum': '14092980',\n",
              "    'chrcList': [],\n",
              "    'fndgPrjtSrmb': 0,\n",
              "    'turnSrmb': None},\n",
              "   {'revwNum': 13132223,\n",
              "    'kbcSiteCode': '001',\n",
              "    'revwKindCode': '001',\n",
              "    'revwPatrCode': '002',\n",
              "    'mmbrNum': '62210388173',\n",
              "    'mmbrId': 'kw*****',\n",
              "    'cretDttm': '2024-02-14 22:02:56.283654',\n",
              "    'revwCntt': '딥러닝시리즈중 단연 최고',\n",
              "    'revwEmtnKywrPatrCode': '002',\n",
              "    'revwEmtnKywrCode': '002',\n",
              "    'revwEmtnKywrName': '도움돼요',\n",
              "    'revwRvgr': 4,\n",
              "    'splrInclYsno': 'N',\n",
              "    'hdngYsno': 'N',\n",
              "    'cttsHdngRsnCode': None,\n",
              "    'hdngRsn': None,\n",
              "    'attndChekTrgtYsno': 'N',\n",
              "    'ordrId': None,\n",
              "    'rewardEvcAmnt': 0,\n",
              "    'rewardEvcIsncYsno': None,\n",
              "    'rewardEvcIsncDate': None,\n",
              "    'mgrRewardEvcIsncYsno': None,\n",
              "    'mgrRewardEvcIsncRsn': None,\n",
              "    'evntId': None,\n",
              "    'dltYsno': 'N',\n",
              "    'saleCmdtid': 'S000001057805',\n",
              "    'saleCmdtDvsnCode': 'KOR',\n",
              "    'cmdtName': '밑바닥부터 시작하는 딥러닝',\n",
              "    'cmdtcode': '9788968484636',\n",
              "    'saleLmttAge': '0',\n",
              "    'recdcode': None,\n",
              "    'saleCmdtGrpDvsnCode': None,\n",
              "    'imgUrl': None,\n",
              "    'crtrId': 'AP****************',\n",
              "    'amnrId': 'AP****************',\n",
              "    'reviewAtacList': [],\n",
              "    'reviewAtacCount': 0,\n",
              "    'atacFileNum': 0,\n",
              "    'reviewRecommendCount': 0,\n",
              "    'reviewCommentCount': 0,\n",
              "    'reviewDeclarationCount': 0,\n",
              "    'reviewRecommendUserYsno': 'N',\n",
              "    'declaration5timesYsno': 'N',\n",
              "    'declarationUserYsno': 'N',\n",
              "    'blockUserYsno': 'N',\n",
              "    'firstRevwNum': '',\n",
              "    'oneMonthRevwNum': None,\n",
              "    'chrcList': [],\n",
              "    'fndgPrjtSrmb': 0,\n",
              "    'turnSrmb': None},\n",
              "   {'revwNum': 12832595,\n",
              "    'kbcSiteCode': '001',\n",
              "    'revwKindCode': '001',\n",
              "    'revwPatrCode': '002',\n",
              "    'mmbrNum': '62016223253',\n",
              "    'mmbrId': 'pu*******',\n",
              "    'cretDttm': '2024-01-02 09:39:41.835805',\n",
              "    'revwCntt': '잘 읽힙니다, 꼼꼼히 읽어보겠습니다.',\n",
              "    'revwEmtnKywrPatrCode': '002',\n",
              "    'revwEmtnKywrCode': '002',\n",
              "    'revwEmtnKywrName': '도움돼요',\n",
              "    'revwRvgr': 4,\n",
              "    'splrInclYsno': 'N',\n",
              "    'hdngYsno': 'N',\n",
              "    'cttsHdngRsnCode': None,\n",
              "    'hdngRsn': None,\n",
              "    'attndChekTrgtYsno': 'N',\n",
              "    'ordrId': None,\n",
              "    'rewardEvcAmnt': 0,\n",
              "    'rewardEvcIsncYsno': None,\n",
              "    'rewardEvcIsncDate': None,\n",
              "    'mgrRewardEvcIsncYsno': None,\n",
              "    'mgrRewardEvcIsncRsn': None,\n",
              "    'evntId': None,\n",
              "    'dltYsno': 'N',\n",
              "    'saleCmdtid': 'S000001057805',\n",
              "    'saleCmdtDvsnCode': 'KOR',\n",
              "    'cmdtName': '밑바닥부터 시작하는 딥러닝',\n",
              "    'cmdtcode': '9788968484636',\n",
              "    'saleLmttAge': '0',\n",
              "    'recdcode': None,\n",
              "    'saleCmdtGrpDvsnCode': None,\n",
              "    'imgUrl': None,\n",
              "    'crtrId': 'AP****************',\n",
              "    'amnrId': 'AP****************',\n",
              "    'reviewAtacList': [],\n",
              "    'reviewAtacCount': 0,\n",
              "    'atacFileNum': 0,\n",
              "    'reviewRecommendCount': 0,\n",
              "    'reviewCommentCount': 0,\n",
              "    'reviewDeclarationCount': 0,\n",
              "    'reviewRecommendUserYsno': 'N',\n",
              "    'declaration5timesYsno': 'N',\n",
              "    'declarationUserYsno': 'N',\n",
              "    'blockUserYsno': 'N',\n",
              "    'firstRevwNum': '',\n",
              "    'oneMonthRevwNum': None,\n",
              "    'chrcList': [],\n",
              "    'fndgPrjtSrmb': 0,\n",
              "    'turnSrmb': None},\n",
              "   {'revwNum': 12017432,\n",
              "    'kbcSiteCode': '001',\n",
              "    'revwKindCode': '001',\n",
              "    'revwPatrCode': '002',\n",
              "    'mmbrNum': '62015478889',\n",
              "    'mmbrId': 'gy******',\n",
              "    'cretDttm': '2023-08-09 13:49:12.161319',\n",
              "    'revwCntt': '딥러닝을 하나하나 파이썬으로 만들어가면서 개념을 배우는 일은 정말 즐겁습니다.',\n",
              "    'revwEmtnKywrPatrCode': '002',\n",
              "    'revwEmtnKywrCode': '004',\n",
              "    'revwEmtnKywrName': '최고예요',\n",
              "    'revwRvgr': 4,\n",
              "    'splrInclYsno': 'N',\n",
              "    'hdngYsno': 'N',\n",
              "    'cttsHdngRsnCode': None,\n",
              "    'hdngRsn': None,\n",
              "    'attndChekTrgtYsno': 'N',\n",
              "    'ordrId': None,\n",
              "    'rewardEvcAmnt': 0,\n",
              "    'rewardEvcIsncYsno': None,\n",
              "    'rewardEvcIsncDate': None,\n",
              "    'mgrRewardEvcIsncYsno': None,\n",
              "    'mgrRewardEvcIsncRsn': None,\n",
              "    'evntId': None,\n",
              "    'dltYsno': 'N',\n",
              "    'saleCmdtid': 'S000001057805',\n",
              "    'saleCmdtDvsnCode': 'KOR',\n",
              "    'cmdtName': '밑바닥부터 시작하는 딥러닝',\n",
              "    'cmdtcode': '9788968484636',\n",
              "    'saleLmttAge': '0',\n",
              "    'recdcode': None,\n",
              "    'saleCmdtGrpDvsnCode': None,\n",
              "    'imgUrl': None,\n",
              "    'crtrId': 'AP****************',\n",
              "    'amnrId': 'AP****************',\n",
              "    'reviewAtacList': [],\n",
              "    'reviewAtacCount': 0,\n",
              "    'atacFileNum': 0,\n",
              "    'reviewRecommendCount': 0,\n",
              "    'reviewCommentCount': 0,\n",
              "    'reviewDeclarationCount': 0,\n",
              "    'reviewRecommendUserYsno': 'N',\n",
              "    'declaration5timesYsno': 'N',\n",
              "    'declarationUserYsno': 'N',\n",
              "    'blockUserYsno': 'N',\n",
              "    'firstRevwNum': '',\n",
              "    'oneMonthRevwNum': None,\n",
              "    'chrcList': [],\n",
              "    'fndgPrjtSrmb': 0,\n",
              "    'turnSrmb': None}],\n",
              "  'reviewWrite': 'Y',\n",
              "  'reviewPageOpenYsno': 'Y',\n",
              "  'totalCount': 143},\n",
              " 'statusCode': 200,\n",
              " 'resultCode': '000000',\n",
              " 'resultMessage': 'OK',\n",
              " 'detailMessage': None}"
            ]
          },
          "execution_count": 54,
          "metadata": {},
          "output_type": "execute_result"
        }
      ],
      "source": [
        "response.json()"
      ]
    },
    {
      "cell_type": "code",
      "execution_count": 55,
      "metadata": {},
      "outputs": [
        {
          "name": "stdout",
          "output_type": "stream",
          "text": [
            "페이지 1 수집 완료 - 현재까지 10개 리뷰\n",
            "페이지 2 수집 완료 - 현재까지 20개 리뷰\n",
            "페이지 3 수집 완료 - 현재까지 30개 리뷰\n",
            "페이지 4 수집 완료 - 현재까지 40개 리뷰\n",
            "페이지 5 수집 완료 - 현재까지 50개 리뷰\n",
            "페이지 6 수집 완료 - 현재까지 60개 리뷰\n",
            "페이지 7 수집 완료 - 현재까지 70개 리뷰\n",
            "페이지 8 수집 완료 - 현재까지 80개 리뷰\n",
            "페이지 9 수집 완료 - 현재까지 90개 리뷰\n",
            "페이지 10 수집 완료 - 현재까지 100개 리뷰\n",
            "\n",
            "총 100개의 리뷰를 수집했습니다.\n",
            "                         review_text  rating                        date\n",
            "0          딥러닝 아무것도 모르는데 이거 읽고 깨우쳤음.       4     2021-02-11 16:53:10.306\n",
            "1  딥러닝에 대한 기본을 배울 수 있는 좋은 책이라고 생각합니다       4  2025-01-24 22:59:13.290737\n",
            "2                 자세하게 알려줘서 이해하기 쉬워요       4  2025-01-17 01:25:16.218177\n",
            "3                         잘볼게요 감사합니다       4  2024-11-03 09:15:45.987704\n",
            "4                    시리즈물로 되어있어서 좋아요       4  2024-08-12 14:12:38.291326\n",
            "\n",
            "전처리 후 100개의 리뷰가 남았습니다.\n"
          ]
        }
      ],
      "source": [
        "\"\"\"\n",
        "fetch(\"https://product.kyobobook.co.kr/api/review/list?page=3&pageLimit=10&reviewSort=001&revwPatrCode=002&saleCmdtid=S000001057805\", {\n",
        "  \"headers\": {\n",
        "    \"accept\": \"*/*\",\n",
        "    \"accept-language\": \"ko-KR,ko;q=0.9,en-US;q=0.8,en;q=0.7\",\n",
        "    \"cache-control\": \"no-cache\",\n",
        "    \"pragma\": \"no-cache\",\n",
        "    \"priority\": \"u=1, i\",\n",
        "    \"sec-ch-ua\": \"\\\"Google Chrome\\\";v=\\\"137\\\", \\\"Chromium\\\";v=\\\"137\\\", \\\"Not/A)Brand\\\";v=\\\"24\\\"\",\n",
        "    \"sec-ch-ua-mobile\": \"?0\",\n",
        "    \"sec-ch-ua-platform\": \"\\\"macOS\\\"\",\n",
        "    \"sec-fetch-dest\": \"empty\",\n",
        "    \"sec-fetch-mode\": \"cors\",\n",
        "    \"sec-fetch-site\": \"same-origin\"\n",
        "  },\n",
        "  \"referrer\": \"https://product.kyobobook.co.kr/detail/S000001057805\",\n",
        "  \"referrerPolicy\": \"strict-origin-when-cross-origin\",\n",
        "  \"body\": null,\n",
        "  \"method\": \"GET\",\n",
        "  \"mode\": \"cors\",\n",
        "  \"credentials\": \"include\"\n",
        "});\n",
        "\"\"\"\n",
        "\n",
        "# 교보문고 API를 통한 리뷰 데이터 수집\n",
        "import requests\n",
        "import pandas as pd\n",
        "import json\n",
        "import time\n",
        "\n",
        "# 리뷰 데이터를 저장할 리스트\n",
        "all_reviews = []\n",
        "\n",
        "# 여러 페이지에서 리뷰 수집 (1~10페이지)\n",
        "for page in range(1, 11):\n",
        "    url = f\"https://product.kyobobook.co.kr/api/review/list?page={page}&pageLimit=10&reviewSort=001&revwPatrCode=002&saleCmdtid=S000001057805\"\n",
        "    \n",
        "    headers = {\n",
        "        \"accept\": \"*/*\",\n",
        "        \"accept-language\": \"ko-KR,ko;q=0.9,en-US;q=0.8,en;q=0.7\",\n",
        "        \"cache-control\": \"no-cache\",\n",
        "        \"pragma\": \"no-cache\",\n",
        "        \"priority\": \"u=1, i\",\n",
        "        \"sec-ch-ua\": \"\\\"Google Chrome\\\";v=\\\"137\\\", \\\"Chromium\\\";v=\\\"137\\\", \\\"Not/A)Brand\\\";v=\\\"24\\\"\",\n",
        "        \"sec-ch-ua-mobile\": \"?0\",\n",
        "        \"sec-ch-ua-platform\": \"\\\"macOS\\\"\",\n",
        "        \"sec-fetch-dest\": \"empty\",\n",
        "        \"sec-fetch-mode\": \"cors\",\n",
        "        \"sec-fetch-site\": \"same-origin\",\n",
        "        \"User-Agent\": \"Mozilla/5.0 (Macintosh; Intel Mac OS X 10_15_7) AppleWebKit/537.36 (KHTML, like Gecko) Chrome/137.0.0.0 Safari/537.36\"\n",
        "    }\n",
        "    try:\n",
        "        response = requests.get(url, headers=headers)\n",
        "        if response.status_code == 200:\n",
        "            data = response.json()\n",
        "            \n",
        "            # 리뷰 데이터 추출 - API 응답 구조에 맞게 수정\n",
        "            if 'data' in data and 'reviewList' in data['data']:\n",
        "                reviews = data['data']['reviewList']\n",
        "                for review in reviews:\n",
        "                    review_text = review.get('revwCntt', '').strip()\n",
        "                    if review_text:  # 빈 리뷰가 아닌 경우만 추가\n",
        "                        all_reviews.append({\n",
        "                            'review_text': review_text,\n",
        "                            'rating': review.get('revwRvgr', 0),\n",
        "                            'date': review.get('cretDttm', '')\n",
        "                        })\n",
        "            \n",
        "            print(f\"페이지 {page} 수집 완료 - 현재까지 {len(all_reviews)}개 리뷰\")\n",
        "            \n",
        "        else:\n",
        "            print(f\"페이지 {page} 요청 실패: {response.status_code}\")\n",
        "            \n",
        "    except Exception as e:\n",
        "        print(f\"페이지 {page} 수집 중 오류 발생: {e}\")\n",
        "    \n",
        "    # 서버 부하 방지를 위한 대기\n",
        "    time.sleep(1)\n",
        "\n",
        "# DataFrame으로 변환\n",
        "review_df = pd.DataFrame(all_reviews)\n",
        "print(f\"\\n총 {len(review_df)}개의 리뷰를 수집했습니다.\")\n",
        "print(review_df.head())\n",
        "\n",
        "# 빈 리뷰 제거\n",
        "review_df = review_df[review_df['review_text'].str.strip() != '']\n",
        "print(f\"\\n전처리 후 {len(review_df)}개의 리뷰가 남았습니다.\")\n"
      ]
    },
    {
      "cell_type": "code",
      "execution_count": null,
      "metadata": {},
      "outputs": [],
      "source": []
    },
    {
      "cell_type": "code",
      "execution_count": null,
      "metadata": {},
      "outputs": [],
      "source": [
        "# 웹 크롤링을 위한 예시 코드\n",
        "import requests\n",
        "import pandas as pd\n",
        "\n",
        "# 리뷰 수집\n",
        "\n",
        "# Kiwipiepy를 사용하여 명사만 추출합니다.\n",
        "kiwi = Kiwi()"
      ]
    },
    {
      "cell_type": "markdown",
      "metadata": {},
      "source": [
        "\n",
        "#### 🔍 2단계: 토픽 모델링 (LDA)으로 리뷰 주제 파악하기\n",
        "\n",
        "수집한 리뷰들에는 어떤 숨겨진 주제들이 있을지 LDA를 통해 분석해 봅시다.\n",
        "\n",
        "1.  **DTM 생성:** 전처리된 'processed' 데이터를 `CountVectorizer`를 사용하여 DTM(단어-문서 행렬)으로 변환하세요.\n",
        "2.  **LDA 모델 학습:** `LatentDirichletAllocation`을 사용해 **4개의 토픽**을 추출해 보세요.\n",
        "3.  **결과 해석:**\n",
        "    * 각 토픽을 대표하는 상위 5~7개의 키워드를 출력하세요.\n",
        "    * 키워드를 바탕으로 각 토픽에 **이름을 붙여보세요.** 예를 들어, \"실천과 변화\", \"선물 및 추천\", \"번역 및 가독성\" 등과 같이 해석할 수 있습니다. 이를 통해 독자들이 어떤 관점에서 이 책을 평가하는지 파악할 수 있습니다."
      ]
    },
    {
      "cell_type": "markdown",
      "metadata": {},
      "source": [
        "\n",
        "#### 🧩 3단계: K-Means 군집화로 유사 리뷰 그룹화하기\n",
        "\n",
        "비슷한 내용을 담고 있는 리뷰들을 그룹으로 묶어 봅시다.\n",
        "\n",
        "1.  **TF-IDF 행렬 생성:** 전처리된 'processed' 데이터를 `TfidfVectorizer`를 사용하여 TF-IDF 행렬로 변환하세요.\n",
        "2.  **K-Means 모델 학습:** `KMeans`를 사용하여 **4개의 군집**으로 리뷰들을 나누세요.\n",
        "3.  **결과 분석:**\n",
        "    * 원본 `review_df`에 'cluster\\_id' 컬럼을 추가하여 각 리뷰가 어떤 군집에 속하는지 확인하세요.\n",
        "    * 각 군집별로 리뷰 내용을 몇 개씩 출력하여, 그룹이 어떤 기준으로 묶였는지(e.g., 긍정적 실천 후기, 책의 구성 칭찬, 배송 관련 등) 그 특징을 분석해 보세요.\n"
      ]
    },
    {
      "cell_type": "markdown",
      "metadata": {},
      "source": [
        "#### 📊 4단계: 시각화로 군집 결과 확인하기\n",
        "\n",
        "군집화 결과를 PCA나 t-SNE를 이용해 2차원 공간에 시각화하여 그룹이 잘 형성되었는지 확인합니다.\n",
        "\n",
        "1.  **차원 축소:** `PCA`나 `t-SNE`를 사용해 TF-IDF 행렬을 2개의 주성분으로 축소하세요.\n",
        "2.  **산점도 시각화:** `plotly.express`를 사용해 결과를 산점도로 그리세요.\n",
        "    * 각 점의 색상은 `cluster_id`로 구분합니다.\n",
        "    * 마우스를 점 위에 올렸을 때 원본 리뷰(`review`)가 표시되도록 설정하여, 각 군집의 분포와 특징을 시각적으로 탐색해 보세요."
      ]
    },
    {
      "cell_type": "markdown",
      "metadata": {},
      "source": [
        "\n",
        "#### ✨ 도전 과제\n",
        "\n",
        "* 토픽과 군집의 개수(`n_components`, `n_clusters`)를 3, 5 등 다른 숫자로 변경하며 결과를 비교해 보세요. 어떤 개수가 가장 해석하기 좋은 결과를 도출하나요?\n",
        "* 다른 책(예: 소설, 에세이)의 리뷰를 수집하여 동일한 분석을 수행하고, 책의 장르에 따라 리뷰의 주제와 군집이 어떻게 달라지는지 비교 분석해 보세요."
      ]
    }
  ],
  "metadata": {
    "colab": {
      "provenance": []
    },
    "kernelspec": {
      "display_name": ".venv",
      "language": "python",
      "name": "python3"
    },
    "language_info": {
      "codemirror_mode": {
        "name": "ipython",
        "version": 3
      },
      "file_extension": ".py",
      "mimetype": "text/x-python",
      "name": "python",
      "nbconvert_exporter": "python",
      "pygments_lexer": "ipython3",
      "version": "3.12.9"
    }
  },
  "nbformat": 4,
  "nbformat_minor": 0
}
