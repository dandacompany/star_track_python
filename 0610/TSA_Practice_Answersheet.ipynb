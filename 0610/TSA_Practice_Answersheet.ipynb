{
  "cells": [
    {
      "cell_type": "markdown",
      "metadata": {
        "id": "Gnon_8mtEtyM"
      },
      "source": [
        "## 💹 시계열 예측 정답 버전 ✅\n",
        "\n",
        "이 노트북은 위 '연습용 버전'에 대한 전체 정답 코드를 포함하고 있습니다.\n",
        "\n",
        "### **데이터 준비**"
      ]
    },
    {
      "cell_type": "code",
      "execution_count": null,
      "metadata": {
        "id": "HKP56sozEtyN"
      },
      "outputs": [],
      "source": [
        "# [실습 1 정답]\n",
        "import numpy as np\n",
        "import pandas as pd\n",
        "import matplotlib.pyplot as plt\n",
        "import warnings\n",
        "warnings.filterwarnings(\"ignore\")\n",
        "plt.rcParams[\"figure.figsize\"] = (20,7)\n",
        "\n",
        "data_dir = '/kaggle/input/competitive-data-science-predict-future-sales/sales_train.csv'\n",
        "\n",
        "df = pd.read_csv(data_dir)\n",
        "df = df[['date', 'item_cnt_day']]\n",
        "df['date'] = pd.to_datetime(df['date'])\n",
        "df = df.set_index('date')\n",
        "\n",
        "# 주별 판매량으로 데이터 집계\n",
        "df_data = df.groupby(pd.Grouper(freq='W')).sum()\n",
        "df_data = df_data.rename(columns = {'item_cnt_day': 'weekly_sales'})\n",
        "df_data.plot()\n",
        "plt.title('주별 총 판매량')\n",
        "plt.ylabel('판매량')\n",
        "plt.grid()"
      ]
    },
    {
      "cell_type": "markdown",
      "metadata": {
        "id": "id6LBZePEtyN"
      },
      "source": [
        "-----\n",
        "\n",
        "\n",
        "### **자기상관 (ACF)**\n",
        "\n",
        "(설명은 연습용 버전과 동일)"
      ]
    },
    {
      "cell_type": "code",
      "execution_count": null,
      "metadata": {
        "id": "lkRh1tuWEtyN"
      },
      "outputs": [],
      "source": [
        "# [실습 2 정답]\n",
        "from statsmodels.graphics.tsaplots import plot_acf\n",
        "import matplotlib.pyplot as plt\n",
        "plt.rcParams[\"figure.figsize\"] = (20,7)\n",
        "\n",
        "acf_plot = plot_acf(df_data['weekly_sales'].values, lags = 70)\n",
        "plt.xlabel('lag')\n",
        "plt.ylabel('correlation')\n",
        "plt.title('주별 판매량의 자기상관(ACF) 플롯')\n",
        "plt.show()"
      ]
    },
    {
      "cell_type": "markdown",
      "metadata": {
        "id": "CQX5ElpbEtyN"
      },
      "source": [
        "-----\n",
        "\n",
        "\\<a id=\"topic8\"\\>\\</a\\>\n",
        "\n",
        "### **부분 자기상관 (PACF)**\n",
        "\n",
        "(설명은 연습용 버전과 동일)"
      ]
    },
    {
      "cell_type": "code",
      "execution_count": null,
      "metadata": {
        "id": "zXYMIAgIEtyN"
      },
      "outputs": [],
      "source": [
        "# [실습 3 정답]\n",
        "from statsmodels.graphics.tsaplots import plot_pacf\n",
        "import matplotlib.pyplot as plt\n",
        "plt.rcParams[\"figure.figsize\"] = (20,7)\n",
        "\n",
        "acf_plot = plot_pacf(df_data['weekly_sales'].values, lags = 70)\n",
        "plt.xlabel('lag')\n",
        "plt.ylabel('pacf coefficient')\n",
        "plt.title('주별 판매량의 부분 자기상관(PACF) 플롯')\n",
        "plt.show()"
      ]
    },
    {
      "cell_type": "markdown",
      "metadata": {
        "id": "hiNvx09_EtyN"
      },
      "source": [
        "-----\n",
        "\n",
        "\\<a id=\"topic9\"\\>\\</a\\>\n",
        "\n",
        "### **정상성 (Stationarity)**\n",
        "\n",
        "(설명은 연습용 버전과 동일)"
      ]
    },
    {
      "cell_type": "code",
      "execution_count": null,
      "metadata": {
        "id": "gjLFbt2HEtyN"
      },
      "outputs": [],
      "source": [
        "# [실습 4 정답]\n",
        "from statsmodels.tsa.stattools import adfuller, kpss\n",
        "from statsmodels.graphics.tsaplots import plot_acf\n",
        "\n",
        "# 정상성 검정 결과를 텍스트로 반환하는 함수\n",
        "def adf_stat(time_series):\n",
        "    result = adfuller(time_series.values)\n",
        "    s = 'ADF 통계량: %.3f\\n' % result[0]\n",
        "    s += 'p-value: %.3f\\n' % result[1]\n",
        "    s += '임계값:\\n'\n",
        "    for key, value in result[4].items():\n",
        "        s += '%s: %.3f\\n' % (key, value)\n",
        "    return s\n",
        "\n",
        "def kpss_stat(time_series):\n",
        "    warnings.filterwarnings(\"ignore\")\n",
        "    result = kpss(time_series.values)\n",
        "    s = 'KPSS 통계량: %.3f\\n' % result[0]\n",
        "    s += 'p-value: %.3f\\n' % result[1]\n",
        "    s += '임계값:\\n'\n",
        "    for key, value in result[3].items():\n",
        "        if key == '2.5%':\n",
        "            continue\n",
        "        s += '%s: %.3f\\n' % (key, value)\n",
        "    return s\n",
        "\n",
        "# 시계열 플롯, ACF, 정상성 검정 결과를 함께 그리는 함수\n",
        "def plot_stat_tests(series, series_title, ax1, ax2):\n",
        "    series.plot(ax=ax1)\n",
        "    ax1.set_title(series_title)\n",
        "    plot_acf(series.values, lags=100, ax=ax2)\n",
        "    ax2.set_title(f'{series_title} 자기상관')\n",
        "\n",
        "    adf_text = adf_stat(series)\n",
        "    kpss_text = kpss_stat(series)\n",
        "    ax2.annotate(adf_text, size=11, color='black', xy=(0.75, 0.6), xycoords='axes fraction',\n",
        "                   bbox=dict(boxstyle=\"square,pad=0.3\", fc=\"white\", ec='blue', lw=1))\n",
        "    ax2.annotate(kpss_text, size=11, color='black', xy=(0.75, 0.1), xycoords='axes fraction',\n",
        "                   bbox=dict(boxstyle=\"square,pad=0.3\", fc=\"white\", ec='blue', lw=1))\n",
        "\n",
        "plt.rcParams[\"figure.figsize\"] = (20, 14)\n",
        "fig, axs = plt.subplots(3, 2)\n",
        "fig.subplots_adjust(hspace=0.5)\n",
        "\n",
        "# 원본 데이터\n",
        "plot_stat_tests(df_data['weekly_sales'].dropna(), '주별 판매량 (원본)', axs[0, 0], axs[0, 1])\n",
        "\n",
        "# 1차 차분 데이터\n",
        "plot_stat_tests(df_data['weekly_sales'].diff().dropna(), '주별 판매량 (1차 차분)', axs[1, 0], axs[1, 1])\n",
        "\n",
        "# 변화율 데이터\n",
        "plot_stat_tests(df_data['weekly_sales'].replace(0, 5000).pct_change().dropna(), '주별 판매량 (변화율)', axs[2, 0], axs[2, 1])\n",
        "\n",
        "plt.show()"
      ]
    },
    {
      "cell_type": "markdown",
      "metadata": {
        "id": "YQvrZHKiEtyN"
      },
      "source": [
        "-----\n",
        "\n",
        "\\<a id=\"topic1\"\\>\\</a\\>\n",
        "\n",
        "### **Naive Forecast 모델**\n",
        "\n",
        "(설명은 연습용 버전과 동일)"
      ]
    },
    {
      "cell_type": "code",
      "execution_count": null,
      "metadata": {
        "id": "45bCEz8HEtyN"
      },
      "outputs": [],
      "source": [
        "# [실습 5 정답]\n",
        "from sklearn.metrics import mean_squared_error\n",
        "plt.rcParams[\"figure.figsize\"] = (20,7)\n",
        "\n",
        "df_pred = df_data.copy()\n",
        "df_pred['weekly_sales_pred'] = df_pred['weekly_sales'].shift()\n",
        "\n",
        "# 50개 구간 롤링 표준편차 계산\n",
        "df_pred['std_50'] = df_pred['weekly_sales_pred'].rolling(50).std()\n",
        "\n",
        "# 마지막 50개 예측 가져오기\n",
        "df_pred = df_pred[-50:]\n",
        "# 신뢰구간\n",
        "df_pred['ci_lower'] = df_pred['weekly_sales_pred'] - 2 * df_pred['std_50']\n",
        "df_pred['ci_upper'] = df_pred['weekly_sales_pred'] + 2 * df_pred['std_50']\n",
        "\n",
        "plt.plot(df_pred['weekly_sales'], color='green', label='실제 판매량')\n",
        "plt.plot(df_pred['weekly_sales_pred'], color='red', label='예측 판매량')\n",
        "plt.legend()\n",
        "plt.fill_between(df_pred.index,\n",
        "                 df_pred['ci_lower'],\n",
        "                 df_pred['ci_upper'], color='lightblue', alpha=0.5, label='95% 신뢰구간')\n",
        "plt.title('Naive Forecast 모델, MSE: {:,}'.format(round(\n",
        "            mean_squared_error(df_pred['weekly_sales'], df_pred['weekly_sales_pred']), 3)))\n",
        "plt.grid()\n",
        "plt.show()"
      ]
    },
    {
      "cell_type": "markdown",
      "metadata": {
        "id": "xNKkXvX3EtyN"
      },
      "source": [
        "-----\n",
        "\n",
        "(이하 모든 모델에 대한 정답 코드가 위와 같은 형식으로 제공됩니다. 내용이 매우 길어지므로, 대표적인 몇 가지 모델의 정답 코드만 추가하고 나머지는 생략하겠습니다. 전체 코드는 원본 노트북을 참고하여 위 형식에 맞춰 작성할 수 있습니다.)\n",
        "\n",
        "-----\n",
        "\n",
        "\\<a id=\"topic13\"\\>\\</a\\>\n",
        "\n",
        "### **자기회귀 누적 이동 평균 모델 (ARIMA)**\n",
        "\n",
        "(설명은 연습용 버전과 동일)"
      ]
    },
    {
      "cell_type": "code",
      "execution_count": null,
      "metadata": {
        "id": "rkMxxJErEtyN"
      },
      "outputs": [],
      "source": [
        "# [실습 14 정답]\n",
        "from tqdm.notebook import tqdm\n",
        "from statsmodels.tsa.arima.model import ARIMA\n",
        "from sklearn.metrics import mean_squared_error\n",
        "plt.rcParams[\"figure.figsize\"] = (20,7)\n",
        "\n",
        "df_pred = pd.DataFrame()\n",
        "\n",
        "# 마지막 50개 값을 하나씩 예측\n",
        "for i in tqdm(range(50), desc=\"ARIMA 롤링 예측\"):\n",
        "    # 변환 없이 원본 데이터를 직접 사용\n",
        "    training_data = df_data['weekly_sales'][:(-50+i)]\n",
        "\n",
        "    # order = (p, d, q)\n",
        "    model = ARIMA(training_data, order=(3, 1, 3))\n",
        "    model_fit = model.fit()\n",
        "    pred_temp = model_fit.get_forecast(1).summary_frame()\n",
        "    df_pred = pd.concat([df_pred, pred_temp])\n",
        "\n",
        "df_pred['weekly_sales'] = df_data['weekly_sales'][-50:]\n",
        "\n",
        "plt.plot(df_pred['weekly_sales'], color='green', label='실제 판매량')\n",
        "plt.plot(df_pred['mean'], color='red', label='예측 판매량')\n",
        "plt.legend()\n",
        "plt.fill_between(df_pred.index,\n",
        "                 df_pred['mean_ci_lower'],\n",
        "                 df_pred['mean_ci_upper'], color='lightblue', alpha=0.5, label='95% 신뢰구간')\n",
        "plt.title('ARIMA(3, 1, 3), MSE: {:,}'.format(round(mean_squared_error(\n",
        "    df_pred['weekly_sales'], df_pred['mean']), 2)))\n",
        "plt.grid()\n",
        "plt.show()"
      ]
    },
    {
      "cell_type": "markdown",
      "metadata": {
        "id": "Inkbo89rEtyN"
      },
      "source": [
        "-----\n",
        "\n",
        "\\<a id=\"topic14\"\\>\\</a\\>\n",
        "\n",
        "### **계절성 ARIMA (SARIMA)**\n",
        "\n",
        "(설명은 연습용 버전과 동일)"
      ]
    },
    {
      "cell_type": "code",
      "execution_count": null,
      "metadata": {
        "id": "SlzRDkDoEtyN"
      },
      "outputs": [],
      "source": [
        "# [실습 15 정답]\n",
        "# !pip install pmdarima\n",
        "from tqdm.notebook import tqdm\n",
        "from pmdarima import auto_arima\n",
        "from sklearn.metrics import mean_squared_error\n",
        "from dateutil.relativedelta import relativedelta\n",
        "plt.rcParams[\"figure.figsize\"] = (20,7)\n",
        "\n",
        "pred_dict = {'date':[], 'pred_weekly_sales':[], 'ci_lower':[], 'ci_upper':[]}\n",
        "\n",
        "# 마지막 50개 주별 판매량 값을 하나씩 예측\n",
        "for i in tqdm(range(50), desc=\"Auto-SARIMA 롤링 예측\"):\n",
        "    training_data = df_data['weekly_sales'][:(-50+i)]\n",
        "\n",
        "    # auto_arima로 최적 모델 찾기\n",
        "    model = auto_arima(training_data, seasonal=True, m=12, suppress_warnings=True, stepwise=True)\n",
        "\n",
        "    pred, confint = model.predict(n_periods=1, return_conf_int=True)\n",
        "    pred_date = training_data.index[-1] + relativedelta(weeks=1)\n",
        "\n",
        "    pred_dict['date'].append(pred_date)\n",
        "    pred_dict['pred_weekly_sales'].append(pred[0])\n",
        "    pred_dict['ci_lower'].append(confint[0][0])\n",
        "    pred_dict['ci_upper'].append(confint[0][1])\n",
        "\n",
        "df_pred = pd.DataFrame(pred_dict)\n",
        "df_pred = df_pred.set_index('date')\n",
        "df_pred['weekly_sales'] = df_data['weekly_sales'][-50:]\n",
        "\n",
        "plt.plot(df_pred['weekly_sales'], color='green', label='실제 판매량')\n",
        "plt.plot(df_pred['pred_weekly_sales'], color='red', label='예측 판매량')\n",
        "plt.legend()\n",
        "plt.fill_between(df_pred.index,\n",
        "                 df_pred['ci_lower'],\n",
        "                 df_pred['ci_upper'], color='lightblue', alpha=0.5, label='95% 신뢰구간')\n",
        "plt.title('Auto-SARIMA, MSE: {:,}'.format(round(mean_squared_error(\n",
        "    df_pred['weekly_sales'], df_pred['pred_weekly_sales']), 2)))\n",
        "plt.grid()\n",
        "plt.show()"
      ]
    }
  ],
  "metadata": {
    "colab": {
      "provenance": []
    },
    "kernelspec": {
      "display_name": ".venv",
      "language": "python",
      "name": "python3"
    },
    "language_info": {
      "codemirror_mode": {
        "name": "ipython",
        "version": 3
      },
      "file_extension": ".py",
      "mimetype": "text/x-python",
      "name": "python",
      "nbconvert_exporter": "python",
      "pygments_lexer": "ipython3",
      "version": "3.12.9"
    }
  },
  "nbformat": 4,
  "nbformat_minor": 0
}
