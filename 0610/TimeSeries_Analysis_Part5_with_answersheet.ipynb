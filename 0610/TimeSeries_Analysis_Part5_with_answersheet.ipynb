{
  "cells": [
    {
      "cell_type": "markdown",
      "metadata": {
        "id": "kOVoCH545s_2"
      },
      "source": [
        "## 1\\. 시계열 데이터의 이해와 정상성 (Understanding Time Series & Stationarity)\n",
        "\n",
        "### 💡 개념 (Concept)\n",
        "\n",
        "\\*\\*시계열 데이터(Time Series Data)\\*\\*란 일정 시간 간격으로 측정된 데이터의 순차적인 집합을 의미합니다. 주식 가격, 월별 강수량, 일일 웹사이트 방문자 수 등이 모두 시계열 데이터의 예입니다.\n",
        "\n",
        "시계열 분석의 핵심 목표는 데이터에 숨겨진 패턴을 발견하고 이를 바탕으로 미래 값을 예측하는 것입니다. 대부분의 시계열 예측 모델은 데이터가 \\*\\*정상성(Stationarity)\\*\\*을 갖는다고 가정합니다.\n",
        "\n",
        "**정상성이란?**\n",
        "시간이 흘러도 데이터의 통계적 특성(평균, 분산 등)이 변하지 않는 상태를 의미합니다. 즉, 시계열 데이터의 분포가 시간에 따라 일정해야 합니다.\n",
        "\n",
        "  * **왜 정상성이 중요한가?**: 데이터의 패턴이 시간과 관계없이 일정해야 과거의 패턴을 기반으로 미래를 안정적으로 예측할 수 있기 때문입니다.\n",
        "  * **비정상 데이터**: 주가처럼 지속적으로 상승하는 추세(Trend)가 있거나, 아이스크림 판매량처럼 계절에 따라 주기적으로 변동하는 계절성(Seasonality)이 있는 데이터는 비정상 시계열입니다.\n",
        "\n",
        "**정상성 확인 방법: ADF 검정 (Augmented Dickey-Fuller Test)**\n",
        "ADF 검정은 시계열 데이터의 정상성을 통계적으로 확인하는 대표적인 방법입니다. 가설은 다음과 같습니다.\n",
        "\n",
        "  * **귀무가설(Null Hypothesis)**: 데이터에 단위근(unit root)이 존재한다. (즉, 비정상 시계열이다)\n",
        "  * **대립가설(Alternative Hypothesis)**: 데이터가 정상성을 만족한다.\n",
        "\n",
        "검정 결과로 나오는 **p-value**가 특정 유의수준(보통 0.05)보다 작으면 귀무가설을 기각하고, 데이터가 정상성을 갖는다고 판단할 수 있습니다.\n",
        "\n",
        "**비정상 데이터를 정상 데이터로 변환하기: 차분 (Differencing)**\n",
        "대부분의 비정상 시계열은 **차분**을 통해 정상성을 만족하는 데이터로 변환할 수 있습니다. 차분은 현재 시점의 데이터에서 바로 이전 시점의 데이터를 빼주는 간단한 과정입니다. 이를 통해 데이터의 추세를 제거하는 효과를 얻을 수 있습니다.\n",
        "\n",
        "$$Y'_t = Y_t - Y_{t-1}$$\n",
        "\n",
        "### 💻 예시 코드 (Example Code)\n",
        "\n",
        "항공 승객 수 데이터를 활용하여 시계열 데이터의 특징을 시각화하고, ADF 검정과 차분을 실습해 보겠습니다."
      ]
    },
    {
      "cell_type": "code",
      "execution_count": 10,
      "metadata": {
        "id": "-IDkbQVb5s_4"
      },
      "outputs": [
        {
          "data": {
            "application/vnd.plotly.v1+json": {
              "config": {
                "plotlyServerURL": "https://plot.ly"
              },
              "data": [
                {
                  "hovertemplate": "Month=%{x}<br>Passengers=%{y}<extra></extra>",
                  "legendgroup": "",
                  "line": {
                    "color": "#636efa",
                    "dash": "solid"
                  },
                  "marker": {
                    "symbol": "circle"
                  },
                  "mode": "lines",
                  "name": "",
                  "orientation": "v",
                  "showlegend": false,
                  "type": "scatter",
                  "x": [
                    "1949-01-01T00:00:00",
                    "1949-02-01T00:00:00",
                    "1949-03-01T00:00:00",
                    "1949-04-01T00:00:00",
                    "1949-05-01T00:00:00",
                    "1949-06-01T00:00:00",
                    "1949-07-01T00:00:00",
                    "1949-08-01T00:00:00",
                    "1949-09-01T00:00:00",
                    "1949-10-01T00:00:00",
                    "1949-11-01T00:00:00",
                    "1949-12-01T00:00:00",
                    "1950-01-01T00:00:00",
                    "1950-02-01T00:00:00",
                    "1950-03-01T00:00:00",
                    "1950-04-01T00:00:00",
                    "1950-05-01T00:00:00",
                    "1950-06-01T00:00:00",
                    "1950-07-01T00:00:00",
                    "1950-08-01T00:00:00",
                    "1950-09-01T00:00:00",
                    "1950-10-01T00:00:00",
                    "1950-11-01T00:00:00",
                    "1950-12-01T00:00:00",
                    "1951-01-01T00:00:00",
                    "1951-02-01T00:00:00",
                    "1951-03-01T00:00:00",
                    "1951-04-01T00:00:00",
                    "1951-05-01T00:00:00",
                    "1951-06-01T00:00:00",
                    "1951-07-01T00:00:00",
                    "1951-08-01T00:00:00",
                    "1951-09-01T00:00:00",
                    "1951-10-01T00:00:00",
                    "1951-11-01T00:00:00",
                    "1951-12-01T00:00:00",
                    "1952-01-01T00:00:00",
                    "1952-02-01T00:00:00",
                    "1952-03-01T00:00:00",
                    "1952-04-01T00:00:00",
                    "1952-05-01T00:00:00",
                    "1952-06-01T00:00:00",
                    "1952-07-01T00:00:00",
                    "1952-08-01T00:00:00",
                    "1952-09-01T00:00:00",
                    "1952-10-01T00:00:00",
                    "1952-11-01T00:00:00",
                    "1952-12-01T00:00:00",
                    "1953-01-01T00:00:00",
                    "1953-02-01T00:00:00",
                    "1953-03-01T00:00:00",
                    "1953-04-01T00:00:00",
                    "1953-05-01T00:00:00",
                    "1953-06-01T00:00:00",
                    "1953-07-01T00:00:00",
                    "1953-08-01T00:00:00",
                    "1953-09-01T00:00:00",
                    "1953-10-01T00:00:00",
                    "1953-11-01T00:00:00",
                    "1953-12-01T00:00:00",
                    "1954-01-01T00:00:00",
                    "1954-02-01T00:00:00",
                    "1954-03-01T00:00:00",
                    "1954-04-01T00:00:00",
                    "1954-05-01T00:00:00",
                    "1954-06-01T00:00:00",
                    "1954-07-01T00:00:00",
                    "1954-08-01T00:00:00",
                    "1954-09-01T00:00:00",
                    "1954-10-01T00:00:00",
                    "1954-11-01T00:00:00",
                    "1954-12-01T00:00:00",
                    "1955-01-01T00:00:00",
                    "1955-02-01T00:00:00",
                    "1955-03-01T00:00:00",
                    "1955-04-01T00:00:00",
                    "1955-05-01T00:00:00",
                    "1955-06-01T00:00:00",
                    "1955-07-01T00:00:00",
                    "1955-08-01T00:00:00",
                    "1955-09-01T00:00:00",
                    "1955-10-01T00:00:00",
                    "1955-11-01T00:00:00",
                    "1955-12-01T00:00:00",
                    "1956-01-01T00:00:00",
                    "1956-02-01T00:00:00",
                    "1956-03-01T00:00:00",
                    "1956-04-01T00:00:00",
                    "1956-05-01T00:00:00",
                    "1956-06-01T00:00:00",
                    "1956-07-01T00:00:00",
                    "1956-08-01T00:00:00",
                    "1956-09-01T00:00:00",
                    "1956-10-01T00:00:00",
                    "1956-11-01T00:00:00",
                    "1956-12-01T00:00:00",
                    "1957-01-01T00:00:00",
                    "1957-02-01T00:00:00",
                    "1957-03-01T00:00:00",
                    "1957-04-01T00:00:00",
                    "1957-05-01T00:00:00",
                    "1957-06-01T00:00:00",
                    "1957-07-01T00:00:00",
                    "1957-08-01T00:00:00",
                    "1957-09-01T00:00:00",
                    "1957-10-01T00:00:00",
                    "1957-11-01T00:00:00",
                    "1957-12-01T00:00:00",
                    "1958-01-01T00:00:00",
                    "1958-02-01T00:00:00",
                    "1958-03-01T00:00:00",
                    "1958-04-01T00:00:00",
                    "1958-05-01T00:00:00",
                    "1958-06-01T00:00:00",
                    "1958-07-01T00:00:00",
                    "1958-08-01T00:00:00",
                    "1958-09-01T00:00:00",
                    "1958-10-01T00:00:00",
                    "1958-11-01T00:00:00",
                    "1958-12-01T00:00:00",
                    "1959-01-01T00:00:00",
                    "1959-02-01T00:00:00",
                    "1959-03-01T00:00:00",
                    "1959-04-01T00:00:00",
                    "1959-05-01T00:00:00",
                    "1959-06-01T00:00:00",
                    "1959-07-01T00:00:00",
                    "1959-08-01T00:00:00",
                    "1959-09-01T00:00:00",
                    "1959-10-01T00:00:00",
                    "1959-11-01T00:00:00",
                    "1959-12-01T00:00:00",
                    "1960-01-01T00:00:00",
                    "1960-02-01T00:00:00",
                    "1960-03-01T00:00:00",
                    "1960-04-01T00:00:00",
                    "1960-05-01T00:00:00",
                    "1960-06-01T00:00:00",
                    "1960-07-01T00:00:00",
                    "1960-08-01T00:00:00",
                    "1960-09-01T00:00:00",
                    "1960-10-01T00:00:00",
                    "1960-11-01T00:00:00",
                    "1960-12-01T00:00:00"
                  ],
                  "xaxis": "x",
                  "y": {
                    "bdata": "cAB2AIQAgQB5AIcAlACUAIgAdwBoAHYAcwB+AI0AhwB9AJUAqgCqAJ4AhQByAIwAkQCWALIAowCsALIAxwDHALgAogCSAKYAqwC0AMEAtQC3ANoA5gDyANEAvwCsAMIAxADEAOwA6wDlAPMACAEQAe0A0wC0AMkAzAC8AOsA4wDqAAgBLgElAQMB5QDLAOUA8gDpAAsBDQEOATsBbAFbATgBEgHtABYBHAEVAT0BOQE+AXYBnQGVAWMBMgEPATIBOwEtAWQBXAFjAaYB0QHTAZQBWwExAVABVAE+AWoBXAFrAbMB6wH5AZQBZwE2AVEBaAFWAZYBjAGkAdgBJAIvAs8BlwFqAZUBoQGHAaMBzQHYARcCbgJeAvwBzQGGAbAB",
                    "dtype": "i2"
                  },
                  "yaxis": "y"
                }
              ],
              "layout": {
                "legend": {
                  "tracegroupgap": 0
                },
                "template": {
                  "data": {
                    "bar": [
                      {
                        "error_x": {
                          "color": "#2a3f5f"
                        },
                        "error_y": {
                          "color": "#2a3f5f"
                        },
                        "marker": {
                          "line": {
                            "color": "#E5ECF6",
                            "width": 0.5
                          },
                          "pattern": {
                            "fillmode": "overlay",
                            "size": 10,
                            "solidity": 0.2
                          }
                        },
                        "type": "bar"
                      }
                    ],
                    "barpolar": [
                      {
                        "marker": {
                          "line": {
                            "color": "#E5ECF6",
                            "width": 0.5
                          },
                          "pattern": {
                            "fillmode": "overlay",
                            "size": 10,
                            "solidity": 0.2
                          }
                        },
                        "type": "barpolar"
                      }
                    ],
                    "carpet": [
                      {
                        "aaxis": {
                          "endlinecolor": "#2a3f5f",
                          "gridcolor": "white",
                          "linecolor": "white",
                          "minorgridcolor": "white",
                          "startlinecolor": "#2a3f5f"
                        },
                        "baxis": {
                          "endlinecolor": "#2a3f5f",
                          "gridcolor": "white",
                          "linecolor": "white",
                          "minorgridcolor": "white",
                          "startlinecolor": "#2a3f5f"
                        },
                        "type": "carpet"
                      }
                    ],
                    "choropleth": [
                      {
                        "colorbar": {
                          "outlinewidth": 0,
                          "ticks": ""
                        },
                        "type": "choropleth"
                      }
                    ],
                    "contour": [
                      {
                        "colorbar": {
                          "outlinewidth": 0,
                          "ticks": ""
                        },
                        "colorscale": [
                          [
                            0,
                            "#0d0887"
                          ],
                          [
                            0.1111111111111111,
                            "#46039f"
                          ],
                          [
                            0.2222222222222222,
                            "#7201a8"
                          ],
                          [
                            0.3333333333333333,
                            "#9c179e"
                          ],
                          [
                            0.4444444444444444,
                            "#bd3786"
                          ],
                          [
                            0.5555555555555556,
                            "#d8576b"
                          ],
                          [
                            0.6666666666666666,
                            "#ed7953"
                          ],
                          [
                            0.7777777777777778,
                            "#fb9f3a"
                          ],
                          [
                            0.8888888888888888,
                            "#fdca26"
                          ],
                          [
                            1,
                            "#f0f921"
                          ]
                        ],
                        "type": "contour"
                      }
                    ],
                    "contourcarpet": [
                      {
                        "colorbar": {
                          "outlinewidth": 0,
                          "ticks": ""
                        },
                        "type": "contourcarpet"
                      }
                    ],
                    "heatmap": [
                      {
                        "colorbar": {
                          "outlinewidth": 0,
                          "ticks": ""
                        },
                        "colorscale": [
                          [
                            0,
                            "#0d0887"
                          ],
                          [
                            0.1111111111111111,
                            "#46039f"
                          ],
                          [
                            0.2222222222222222,
                            "#7201a8"
                          ],
                          [
                            0.3333333333333333,
                            "#9c179e"
                          ],
                          [
                            0.4444444444444444,
                            "#bd3786"
                          ],
                          [
                            0.5555555555555556,
                            "#d8576b"
                          ],
                          [
                            0.6666666666666666,
                            "#ed7953"
                          ],
                          [
                            0.7777777777777778,
                            "#fb9f3a"
                          ],
                          [
                            0.8888888888888888,
                            "#fdca26"
                          ],
                          [
                            1,
                            "#f0f921"
                          ]
                        ],
                        "type": "heatmap"
                      }
                    ],
                    "histogram": [
                      {
                        "marker": {
                          "pattern": {
                            "fillmode": "overlay",
                            "size": 10,
                            "solidity": 0.2
                          }
                        },
                        "type": "histogram"
                      }
                    ],
                    "histogram2d": [
                      {
                        "colorbar": {
                          "outlinewidth": 0,
                          "ticks": ""
                        },
                        "colorscale": [
                          [
                            0,
                            "#0d0887"
                          ],
                          [
                            0.1111111111111111,
                            "#46039f"
                          ],
                          [
                            0.2222222222222222,
                            "#7201a8"
                          ],
                          [
                            0.3333333333333333,
                            "#9c179e"
                          ],
                          [
                            0.4444444444444444,
                            "#bd3786"
                          ],
                          [
                            0.5555555555555556,
                            "#d8576b"
                          ],
                          [
                            0.6666666666666666,
                            "#ed7953"
                          ],
                          [
                            0.7777777777777778,
                            "#fb9f3a"
                          ],
                          [
                            0.8888888888888888,
                            "#fdca26"
                          ],
                          [
                            1,
                            "#f0f921"
                          ]
                        ],
                        "type": "histogram2d"
                      }
                    ],
                    "histogram2dcontour": [
                      {
                        "colorbar": {
                          "outlinewidth": 0,
                          "ticks": ""
                        },
                        "colorscale": [
                          [
                            0,
                            "#0d0887"
                          ],
                          [
                            0.1111111111111111,
                            "#46039f"
                          ],
                          [
                            0.2222222222222222,
                            "#7201a8"
                          ],
                          [
                            0.3333333333333333,
                            "#9c179e"
                          ],
                          [
                            0.4444444444444444,
                            "#bd3786"
                          ],
                          [
                            0.5555555555555556,
                            "#d8576b"
                          ],
                          [
                            0.6666666666666666,
                            "#ed7953"
                          ],
                          [
                            0.7777777777777778,
                            "#fb9f3a"
                          ],
                          [
                            0.8888888888888888,
                            "#fdca26"
                          ],
                          [
                            1,
                            "#f0f921"
                          ]
                        ],
                        "type": "histogram2dcontour"
                      }
                    ],
                    "mesh3d": [
                      {
                        "colorbar": {
                          "outlinewidth": 0,
                          "ticks": ""
                        },
                        "type": "mesh3d"
                      }
                    ],
                    "parcoords": [
                      {
                        "line": {
                          "colorbar": {
                            "outlinewidth": 0,
                            "ticks": ""
                          }
                        },
                        "type": "parcoords"
                      }
                    ],
                    "pie": [
                      {
                        "automargin": true,
                        "type": "pie"
                      }
                    ],
                    "scatter": [
                      {
                        "fillpattern": {
                          "fillmode": "overlay",
                          "size": 10,
                          "solidity": 0.2
                        },
                        "type": "scatter"
                      }
                    ],
                    "scatter3d": [
                      {
                        "line": {
                          "colorbar": {
                            "outlinewidth": 0,
                            "ticks": ""
                          }
                        },
                        "marker": {
                          "colorbar": {
                            "outlinewidth": 0,
                            "ticks": ""
                          }
                        },
                        "type": "scatter3d"
                      }
                    ],
                    "scattercarpet": [
                      {
                        "marker": {
                          "colorbar": {
                            "outlinewidth": 0,
                            "ticks": ""
                          }
                        },
                        "type": "scattercarpet"
                      }
                    ],
                    "scattergeo": [
                      {
                        "marker": {
                          "colorbar": {
                            "outlinewidth": 0,
                            "ticks": ""
                          }
                        },
                        "type": "scattergeo"
                      }
                    ],
                    "scattergl": [
                      {
                        "marker": {
                          "colorbar": {
                            "outlinewidth": 0,
                            "ticks": ""
                          }
                        },
                        "type": "scattergl"
                      }
                    ],
                    "scattermap": [
                      {
                        "marker": {
                          "colorbar": {
                            "outlinewidth": 0,
                            "ticks": ""
                          }
                        },
                        "type": "scattermap"
                      }
                    ],
                    "scattermapbox": [
                      {
                        "marker": {
                          "colorbar": {
                            "outlinewidth": 0,
                            "ticks": ""
                          }
                        },
                        "type": "scattermapbox"
                      }
                    ],
                    "scatterpolar": [
                      {
                        "marker": {
                          "colorbar": {
                            "outlinewidth": 0,
                            "ticks": ""
                          }
                        },
                        "type": "scatterpolar"
                      }
                    ],
                    "scatterpolargl": [
                      {
                        "marker": {
                          "colorbar": {
                            "outlinewidth": 0,
                            "ticks": ""
                          }
                        },
                        "type": "scatterpolargl"
                      }
                    ],
                    "scatterternary": [
                      {
                        "marker": {
                          "colorbar": {
                            "outlinewidth": 0,
                            "ticks": ""
                          }
                        },
                        "type": "scatterternary"
                      }
                    ],
                    "surface": [
                      {
                        "colorbar": {
                          "outlinewidth": 0,
                          "ticks": ""
                        },
                        "colorscale": [
                          [
                            0,
                            "#0d0887"
                          ],
                          [
                            0.1111111111111111,
                            "#46039f"
                          ],
                          [
                            0.2222222222222222,
                            "#7201a8"
                          ],
                          [
                            0.3333333333333333,
                            "#9c179e"
                          ],
                          [
                            0.4444444444444444,
                            "#bd3786"
                          ],
                          [
                            0.5555555555555556,
                            "#d8576b"
                          ],
                          [
                            0.6666666666666666,
                            "#ed7953"
                          ],
                          [
                            0.7777777777777778,
                            "#fb9f3a"
                          ],
                          [
                            0.8888888888888888,
                            "#fdca26"
                          ],
                          [
                            1,
                            "#f0f921"
                          ]
                        ],
                        "type": "surface"
                      }
                    ],
                    "table": [
                      {
                        "cells": {
                          "fill": {
                            "color": "#EBF0F8"
                          },
                          "line": {
                            "color": "white"
                          }
                        },
                        "header": {
                          "fill": {
                            "color": "#C8D4E3"
                          },
                          "line": {
                            "color": "white"
                          }
                        },
                        "type": "table"
                      }
                    ]
                  },
                  "layout": {
                    "annotationdefaults": {
                      "arrowcolor": "#2a3f5f",
                      "arrowhead": 0,
                      "arrowwidth": 1
                    },
                    "autotypenumbers": "strict",
                    "coloraxis": {
                      "colorbar": {
                        "outlinewidth": 0,
                        "ticks": ""
                      }
                    },
                    "colorscale": {
                      "diverging": [
                        [
                          0,
                          "#8e0152"
                        ],
                        [
                          0.1,
                          "#c51b7d"
                        ],
                        [
                          0.2,
                          "#de77ae"
                        ],
                        [
                          0.3,
                          "#f1b6da"
                        ],
                        [
                          0.4,
                          "#fde0ef"
                        ],
                        [
                          0.5,
                          "#f7f7f7"
                        ],
                        [
                          0.6,
                          "#e6f5d0"
                        ],
                        [
                          0.7,
                          "#b8e186"
                        ],
                        [
                          0.8,
                          "#7fbc41"
                        ],
                        [
                          0.9,
                          "#4d9221"
                        ],
                        [
                          1,
                          "#276419"
                        ]
                      ],
                      "sequential": [
                        [
                          0,
                          "#0d0887"
                        ],
                        [
                          0.1111111111111111,
                          "#46039f"
                        ],
                        [
                          0.2222222222222222,
                          "#7201a8"
                        ],
                        [
                          0.3333333333333333,
                          "#9c179e"
                        ],
                        [
                          0.4444444444444444,
                          "#bd3786"
                        ],
                        [
                          0.5555555555555556,
                          "#d8576b"
                        ],
                        [
                          0.6666666666666666,
                          "#ed7953"
                        ],
                        [
                          0.7777777777777778,
                          "#fb9f3a"
                        ],
                        [
                          0.8888888888888888,
                          "#fdca26"
                        ],
                        [
                          1,
                          "#f0f921"
                        ]
                      ],
                      "sequentialminus": [
                        [
                          0,
                          "#0d0887"
                        ],
                        [
                          0.1111111111111111,
                          "#46039f"
                        ],
                        [
                          0.2222222222222222,
                          "#7201a8"
                        ],
                        [
                          0.3333333333333333,
                          "#9c179e"
                        ],
                        [
                          0.4444444444444444,
                          "#bd3786"
                        ],
                        [
                          0.5555555555555556,
                          "#d8576b"
                        ],
                        [
                          0.6666666666666666,
                          "#ed7953"
                        ],
                        [
                          0.7777777777777778,
                          "#fb9f3a"
                        ],
                        [
                          0.8888888888888888,
                          "#fdca26"
                        ],
                        [
                          1,
                          "#f0f921"
                        ]
                      ]
                    },
                    "colorway": [
                      "#636efa",
                      "#EF553B",
                      "#00cc96",
                      "#ab63fa",
                      "#FFA15A",
                      "#19d3f3",
                      "#FF6692",
                      "#B6E880",
                      "#FF97FF",
                      "#FECB52"
                    ],
                    "font": {
                      "color": "#2a3f5f"
                    },
                    "geo": {
                      "bgcolor": "white",
                      "lakecolor": "white",
                      "landcolor": "#E5ECF6",
                      "showlakes": true,
                      "showland": true,
                      "subunitcolor": "white"
                    },
                    "hoverlabel": {
                      "align": "left"
                    },
                    "hovermode": "closest",
                    "mapbox": {
                      "style": "light"
                    },
                    "paper_bgcolor": "white",
                    "plot_bgcolor": "#E5ECF6",
                    "polar": {
                      "angularaxis": {
                        "gridcolor": "white",
                        "linecolor": "white",
                        "ticks": ""
                      },
                      "bgcolor": "#E5ECF6",
                      "radialaxis": {
                        "gridcolor": "white",
                        "linecolor": "white",
                        "ticks": ""
                      }
                    },
                    "scene": {
                      "xaxis": {
                        "backgroundcolor": "#E5ECF6",
                        "gridcolor": "white",
                        "gridwidth": 2,
                        "linecolor": "white",
                        "showbackground": true,
                        "ticks": "",
                        "zerolinecolor": "white"
                      },
                      "yaxis": {
                        "backgroundcolor": "#E5ECF6",
                        "gridcolor": "white",
                        "gridwidth": 2,
                        "linecolor": "white",
                        "showbackground": true,
                        "ticks": "",
                        "zerolinecolor": "white"
                      },
                      "zaxis": {
                        "backgroundcolor": "#E5ECF6",
                        "gridcolor": "white",
                        "gridwidth": 2,
                        "linecolor": "white",
                        "showbackground": true,
                        "ticks": "",
                        "zerolinecolor": "white"
                      }
                    },
                    "shapedefaults": {
                      "line": {
                        "color": "#2a3f5f"
                      }
                    },
                    "ternary": {
                      "aaxis": {
                        "gridcolor": "white",
                        "linecolor": "white",
                        "ticks": ""
                      },
                      "baxis": {
                        "gridcolor": "white",
                        "linecolor": "white",
                        "ticks": ""
                      },
                      "bgcolor": "#E5ECF6",
                      "caxis": {
                        "gridcolor": "white",
                        "linecolor": "white",
                        "ticks": ""
                      }
                    },
                    "title": {
                      "x": 0.05
                    },
                    "xaxis": {
                      "automargin": true,
                      "gridcolor": "white",
                      "linecolor": "white",
                      "ticks": "",
                      "title": {
                        "standoff": 15
                      },
                      "zerolinecolor": "white",
                      "zerolinewidth": 2
                    },
                    "yaxis": {
                      "automargin": true,
                      "gridcolor": "white",
                      "linecolor": "white",
                      "ticks": "",
                      "title": {
                        "standoff": 15
                      },
                      "zerolinecolor": "white",
                      "zerolinewidth": 2
                    }
                  }
                },
                "title": {
                  "text": "월별 항공 승객 수 (1949-1960)"
                },
                "xaxis": {
                  "anchor": "y",
                  "domain": [
                    0,
                    1
                  ],
                  "title": {
                    "text": "Month"
                  }
                },
                "yaxis": {
                  "anchor": "x",
                  "domain": [
                    0,
                    1
                  ],
                  "title": {
                    "text": "Passengers"
                  }
                }
              }
            }
          },
          "metadata": {},
          "output_type": "display_data"
        },
        {
          "name": "stdout",
          "output_type": "stream",
          "text": [
            ">>> Original ADF Test <<<\n",
            "ADF Test Statistic : 0.815368879206053\n",
            "p-value : 0.9918802434376411\n",
            "#Lags Used : 13\n",
            "Number of Observations Used : 130\n",
            "=> p-value가 0.05보다 크므로, 귀무가설을 기각할 수 없습니다. 데이터는 비정상 시계열입니다.\n",
            "\n"
          ]
        },
        {
          "data": {
            "application/vnd.plotly.v1+json": {
              "config": {
                "plotlyServerURL": "https://plot.ly"
              },
              "data": [
                {
                  "hovertemplate": "Month=%{x}<br>Passengers_diff=%{y}<extra></extra>",
                  "legendgroup": "",
                  "line": {
                    "color": "#636efa",
                    "dash": "solid"
                  },
                  "marker": {
                    "symbol": "circle"
                  },
                  "mode": "lines",
                  "name": "",
                  "orientation": "v",
                  "showlegend": false,
                  "type": "scatter",
                  "x": [
                    "1949-01-01T00:00:00",
                    "1949-02-01T00:00:00",
                    "1949-03-01T00:00:00",
                    "1949-04-01T00:00:00",
                    "1949-05-01T00:00:00",
                    "1949-06-01T00:00:00",
                    "1949-07-01T00:00:00",
                    "1949-08-01T00:00:00",
                    "1949-09-01T00:00:00",
                    "1949-10-01T00:00:00",
                    "1949-11-01T00:00:00",
                    "1949-12-01T00:00:00",
                    "1950-01-01T00:00:00",
                    "1950-02-01T00:00:00",
                    "1950-03-01T00:00:00",
                    "1950-04-01T00:00:00",
                    "1950-05-01T00:00:00",
                    "1950-06-01T00:00:00",
                    "1950-07-01T00:00:00",
                    "1950-08-01T00:00:00",
                    "1950-09-01T00:00:00",
                    "1950-10-01T00:00:00",
                    "1950-11-01T00:00:00",
                    "1950-12-01T00:00:00",
                    "1951-01-01T00:00:00",
                    "1951-02-01T00:00:00",
                    "1951-03-01T00:00:00",
                    "1951-04-01T00:00:00",
                    "1951-05-01T00:00:00",
                    "1951-06-01T00:00:00",
                    "1951-07-01T00:00:00",
                    "1951-08-01T00:00:00",
                    "1951-09-01T00:00:00",
                    "1951-10-01T00:00:00",
                    "1951-11-01T00:00:00",
                    "1951-12-01T00:00:00",
                    "1952-01-01T00:00:00",
                    "1952-02-01T00:00:00",
                    "1952-03-01T00:00:00",
                    "1952-04-01T00:00:00",
                    "1952-05-01T00:00:00",
                    "1952-06-01T00:00:00",
                    "1952-07-01T00:00:00",
                    "1952-08-01T00:00:00",
                    "1952-09-01T00:00:00",
                    "1952-10-01T00:00:00",
                    "1952-11-01T00:00:00",
                    "1952-12-01T00:00:00",
                    "1953-01-01T00:00:00",
                    "1953-02-01T00:00:00",
                    "1953-03-01T00:00:00",
                    "1953-04-01T00:00:00",
                    "1953-05-01T00:00:00",
                    "1953-06-01T00:00:00",
                    "1953-07-01T00:00:00",
                    "1953-08-01T00:00:00",
                    "1953-09-01T00:00:00",
                    "1953-10-01T00:00:00",
                    "1953-11-01T00:00:00",
                    "1953-12-01T00:00:00",
                    "1954-01-01T00:00:00",
                    "1954-02-01T00:00:00",
                    "1954-03-01T00:00:00",
                    "1954-04-01T00:00:00",
                    "1954-05-01T00:00:00",
                    "1954-06-01T00:00:00",
                    "1954-07-01T00:00:00",
                    "1954-08-01T00:00:00",
                    "1954-09-01T00:00:00",
                    "1954-10-01T00:00:00",
                    "1954-11-01T00:00:00",
                    "1954-12-01T00:00:00",
                    "1955-01-01T00:00:00",
                    "1955-02-01T00:00:00",
                    "1955-03-01T00:00:00",
                    "1955-04-01T00:00:00",
                    "1955-05-01T00:00:00",
                    "1955-06-01T00:00:00",
                    "1955-07-01T00:00:00",
                    "1955-08-01T00:00:00",
                    "1955-09-01T00:00:00",
                    "1955-10-01T00:00:00",
                    "1955-11-01T00:00:00",
                    "1955-12-01T00:00:00",
                    "1956-01-01T00:00:00",
                    "1956-02-01T00:00:00",
                    "1956-03-01T00:00:00",
                    "1956-04-01T00:00:00",
                    "1956-05-01T00:00:00",
                    "1956-06-01T00:00:00",
                    "1956-07-01T00:00:00",
                    "1956-08-01T00:00:00",
                    "1956-09-01T00:00:00",
                    "1956-10-01T00:00:00",
                    "1956-11-01T00:00:00",
                    "1956-12-01T00:00:00",
                    "1957-01-01T00:00:00",
                    "1957-02-01T00:00:00",
                    "1957-03-01T00:00:00",
                    "1957-04-01T00:00:00",
                    "1957-05-01T00:00:00",
                    "1957-06-01T00:00:00",
                    "1957-07-01T00:00:00",
                    "1957-08-01T00:00:00",
                    "1957-09-01T00:00:00",
                    "1957-10-01T00:00:00",
                    "1957-11-01T00:00:00",
                    "1957-12-01T00:00:00",
                    "1958-01-01T00:00:00",
                    "1958-02-01T00:00:00",
                    "1958-03-01T00:00:00",
                    "1958-04-01T00:00:00",
                    "1958-05-01T00:00:00",
                    "1958-06-01T00:00:00",
                    "1958-07-01T00:00:00",
                    "1958-08-01T00:00:00",
                    "1958-09-01T00:00:00",
                    "1958-10-01T00:00:00",
                    "1958-11-01T00:00:00",
                    "1958-12-01T00:00:00",
                    "1959-01-01T00:00:00",
                    "1959-02-01T00:00:00",
                    "1959-03-01T00:00:00",
                    "1959-04-01T00:00:00",
                    "1959-05-01T00:00:00",
                    "1959-06-01T00:00:00",
                    "1959-07-01T00:00:00",
                    "1959-08-01T00:00:00",
                    "1959-09-01T00:00:00",
                    "1959-10-01T00:00:00",
                    "1959-11-01T00:00:00",
                    "1959-12-01T00:00:00",
                    "1960-01-01T00:00:00",
                    "1960-02-01T00:00:00",
                    "1960-03-01T00:00:00",
                    "1960-04-01T00:00:00",
                    "1960-05-01T00:00:00",
                    "1960-06-01T00:00:00",
                    "1960-07-01T00:00:00",
                    "1960-08-01T00:00:00",
                    "1960-09-01T00:00:00",
                    "1960-10-01T00:00:00",
                    "1960-11-01T00:00:00",
                    "1960-12-01T00:00:00"
                  ],
                  "xaxis": "x",
                  "y": {
                    "bdata": "AAAAAAAA+H8AAAAAAAAYQAAAAAAAACxAAAAAAAAACMAAAAAAAAAgwAAAAAAAACxAAAAAAAAAKkAAAAAAAAAAAAAAAAAAACjAAAAAAAAAMcAAAAAAAAAuwAAAAAAAACxAAAAAAAAACMAAAAAAAAAmQAAAAAAAAC5AAAAAAAAAGMAAAAAAAAAkwAAAAAAAADhAAAAAAAAANUAAAAAAAAAAAAAAAAAAACjAAAAAAAAAOcAAAAAAAAAzwAAAAAAAADpAAAAAAAAAFEAAAAAAAAAUQAAAAAAAADxAAAAAAAAALsAAAAAAAAAiQAAAAAAAABhAAAAAAAAANUAAAAAAAAAAAAAAAAAAAC7AAAAAAAAANsAAAAAAAAAwwAAAAAAAADRAAAAAAAAAFEAAAAAAAAAiQAAAAAAAACpAAAAAAAAAKMAAAAAAAAAAQAAAAAAAgEFAAAAAAAAAKEAAAAAAAAAoQAAAAAAAgEDAAAAAAAAAMsAAAAAAAAAzwAAAAAAAADZAAAAAAAAAAEAAAAAAAAAAAAAAAAAAAERAAAAAAAAA8L8AAAAAAAAYwAAAAAAAACxAAAAAAAAANUAAAAAAAAAgQAAAAAAAgEHAAAAAAAAAOsAAAAAAAAA/wAAAAAAAADVAAAAAAAAACEAAAAAAAAAwwAAAAAAAgEdAAAAAAAAAIMAAAAAAAAAcQAAAAAAAAD5AAAAAAAAAQ0AAAAAAAAAiwAAAAAAAAEHAAAAAAAAAPsAAAAAAAAA6wAAAAAAAADpAAAAAAAAAKkAAAAAAAAAiwAAAAAAAAEFAAAAAAAAAAEAAAAAAAADwPwAAAAAAgEZAAAAAAACASEAAAAAAAAAxwAAAAAAAgEHAAAAAAAAAQ8AAAAAAAIBCwAAAAAAAgERAAAAAAAAAGEAAAAAAAAAcwAAAAAAAAERAAAAAAAAAEMAAAAAAAAAUQAAAAAAAAExAAAAAAACAQ0AAAAAAAAAgwAAAAAAAAEnAAAAAAACASMAAAAAAAIBBwAAAAAAAgEFAAAAAAAAAIkAAAAAAAAAswAAAAAAAgEtAAAAAAAAAIMAAAAAAAAAcQAAAAAAAwFBAAAAAAACARUAAAAAAAAAAQAAAAAAAgE/AAAAAAACATMAAAAAAAABFwAAAAAAAAD9AAAAAAAAAEEAAAAAAAAA2wAAAAAAAAEZAAAAAAAAALMAAAAAAAAAuQAAAAAAAAFJAAAAAAAAATEAAAAAAAAAsQAAAAAAAQFnAAAAAAACARsAAAAAAAIBIwAAAAAAAADtAAAAAAAAAN0AAAAAAAAAywAAAAAAAAFBAAAAAAAAAJMAAAAAAAAA4QAAAAAAAAEpAAAAAAAAAU0AAAAAAAAAmQAAAAAAAAFjAAAAAAAAATMAAAAAAAIBGwAAAAAAAgEVAAAAAAAAAKEAAAAAAAAA6wAAAAAAAADxAAAAAAAAARUAAAAAAAAAmQAAAAAAAgE9AAAAAAADAVUAAAAAAAAAwwAAAAAAAgFjAAAAAAACAR8AAAAAAAMBRwAAAAAAAAEVA",
                    "dtype": "f8"
                  },
                  "yaxis": "y"
                }
              ],
              "layout": {
                "legend": {
                  "tracegroupgap": 0
                },
                "template": {
                  "data": {
                    "bar": [
                      {
                        "error_x": {
                          "color": "#2a3f5f"
                        },
                        "error_y": {
                          "color": "#2a3f5f"
                        },
                        "marker": {
                          "line": {
                            "color": "#E5ECF6",
                            "width": 0.5
                          },
                          "pattern": {
                            "fillmode": "overlay",
                            "size": 10,
                            "solidity": 0.2
                          }
                        },
                        "type": "bar"
                      }
                    ],
                    "barpolar": [
                      {
                        "marker": {
                          "line": {
                            "color": "#E5ECF6",
                            "width": 0.5
                          },
                          "pattern": {
                            "fillmode": "overlay",
                            "size": 10,
                            "solidity": 0.2
                          }
                        },
                        "type": "barpolar"
                      }
                    ],
                    "carpet": [
                      {
                        "aaxis": {
                          "endlinecolor": "#2a3f5f",
                          "gridcolor": "white",
                          "linecolor": "white",
                          "minorgridcolor": "white",
                          "startlinecolor": "#2a3f5f"
                        },
                        "baxis": {
                          "endlinecolor": "#2a3f5f",
                          "gridcolor": "white",
                          "linecolor": "white",
                          "minorgridcolor": "white",
                          "startlinecolor": "#2a3f5f"
                        },
                        "type": "carpet"
                      }
                    ],
                    "choropleth": [
                      {
                        "colorbar": {
                          "outlinewidth": 0,
                          "ticks": ""
                        },
                        "type": "choropleth"
                      }
                    ],
                    "contour": [
                      {
                        "colorbar": {
                          "outlinewidth": 0,
                          "ticks": ""
                        },
                        "colorscale": [
                          [
                            0,
                            "#0d0887"
                          ],
                          [
                            0.1111111111111111,
                            "#46039f"
                          ],
                          [
                            0.2222222222222222,
                            "#7201a8"
                          ],
                          [
                            0.3333333333333333,
                            "#9c179e"
                          ],
                          [
                            0.4444444444444444,
                            "#bd3786"
                          ],
                          [
                            0.5555555555555556,
                            "#d8576b"
                          ],
                          [
                            0.6666666666666666,
                            "#ed7953"
                          ],
                          [
                            0.7777777777777778,
                            "#fb9f3a"
                          ],
                          [
                            0.8888888888888888,
                            "#fdca26"
                          ],
                          [
                            1,
                            "#f0f921"
                          ]
                        ],
                        "type": "contour"
                      }
                    ],
                    "contourcarpet": [
                      {
                        "colorbar": {
                          "outlinewidth": 0,
                          "ticks": ""
                        },
                        "type": "contourcarpet"
                      }
                    ],
                    "heatmap": [
                      {
                        "colorbar": {
                          "outlinewidth": 0,
                          "ticks": ""
                        },
                        "colorscale": [
                          [
                            0,
                            "#0d0887"
                          ],
                          [
                            0.1111111111111111,
                            "#46039f"
                          ],
                          [
                            0.2222222222222222,
                            "#7201a8"
                          ],
                          [
                            0.3333333333333333,
                            "#9c179e"
                          ],
                          [
                            0.4444444444444444,
                            "#bd3786"
                          ],
                          [
                            0.5555555555555556,
                            "#d8576b"
                          ],
                          [
                            0.6666666666666666,
                            "#ed7953"
                          ],
                          [
                            0.7777777777777778,
                            "#fb9f3a"
                          ],
                          [
                            0.8888888888888888,
                            "#fdca26"
                          ],
                          [
                            1,
                            "#f0f921"
                          ]
                        ],
                        "type": "heatmap"
                      }
                    ],
                    "histogram": [
                      {
                        "marker": {
                          "pattern": {
                            "fillmode": "overlay",
                            "size": 10,
                            "solidity": 0.2
                          }
                        },
                        "type": "histogram"
                      }
                    ],
                    "histogram2d": [
                      {
                        "colorbar": {
                          "outlinewidth": 0,
                          "ticks": ""
                        },
                        "colorscale": [
                          [
                            0,
                            "#0d0887"
                          ],
                          [
                            0.1111111111111111,
                            "#46039f"
                          ],
                          [
                            0.2222222222222222,
                            "#7201a8"
                          ],
                          [
                            0.3333333333333333,
                            "#9c179e"
                          ],
                          [
                            0.4444444444444444,
                            "#bd3786"
                          ],
                          [
                            0.5555555555555556,
                            "#d8576b"
                          ],
                          [
                            0.6666666666666666,
                            "#ed7953"
                          ],
                          [
                            0.7777777777777778,
                            "#fb9f3a"
                          ],
                          [
                            0.8888888888888888,
                            "#fdca26"
                          ],
                          [
                            1,
                            "#f0f921"
                          ]
                        ],
                        "type": "histogram2d"
                      }
                    ],
                    "histogram2dcontour": [
                      {
                        "colorbar": {
                          "outlinewidth": 0,
                          "ticks": ""
                        },
                        "colorscale": [
                          [
                            0,
                            "#0d0887"
                          ],
                          [
                            0.1111111111111111,
                            "#46039f"
                          ],
                          [
                            0.2222222222222222,
                            "#7201a8"
                          ],
                          [
                            0.3333333333333333,
                            "#9c179e"
                          ],
                          [
                            0.4444444444444444,
                            "#bd3786"
                          ],
                          [
                            0.5555555555555556,
                            "#d8576b"
                          ],
                          [
                            0.6666666666666666,
                            "#ed7953"
                          ],
                          [
                            0.7777777777777778,
                            "#fb9f3a"
                          ],
                          [
                            0.8888888888888888,
                            "#fdca26"
                          ],
                          [
                            1,
                            "#f0f921"
                          ]
                        ],
                        "type": "histogram2dcontour"
                      }
                    ],
                    "mesh3d": [
                      {
                        "colorbar": {
                          "outlinewidth": 0,
                          "ticks": ""
                        },
                        "type": "mesh3d"
                      }
                    ],
                    "parcoords": [
                      {
                        "line": {
                          "colorbar": {
                            "outlinewidth": 0,
                            "ticks": ""
                          }
                        },
                        "type": "parcoords"
                      }
                    ],
                    "pie": [
                      {
                        "automargin": true,
                        "type": "pie"
                      }
                    ],
                    "scatter": [
                      {
                        "fillpattern": {
                          "fillmode": "overlay",
                          "size": 10,
                          "solidity": 0.2
                        },
                        "type": "scatter"
                      }
                    ],
                    "scatter3d": [
                      {
                        "line": {
                          "colorbar": {
                            "outlinewidth": 0,
                            "ticks": ""
                          }
                        },
                        "marker": {
                          "colorbar": {
                            "outlinewidth": 0,
                            "ticks": ""
                          }
                        },
                        "type": "scatter3d"
                      }
                    ],
                    "scattercarpet": [
                      {
                        "marker": {
                          "colorbar": {
                            "outlinewidth": 0,
                            "ticks": ""
                          }
                        },
                        "type": "scattercarpet"
                      }
                    ],
                    "scattergeo": [
                      {
                        "marker": {
                          "colorbar": {
                            "outlinewidth": 0,
                            "ticks": ""
                          }
                        },
                        "type": "scattergeo"
                      }
                    ],
                    "scattergl": [
                      {
                        "marker": {
                          "colorbar": {
                            "outlinewidth": 0,
                            "ticks": ""
                          }
                        },
                        "type": "scattergl"
                      }
                    ],
                    "scattermap": [
                      {
                        "marker": {
                          "colorbar": {
                            "outlinewidth": 0,
                            "ticks": ""
                          }
                        },
                        "type": "scattermap"
                      }
                    ],
                    "scattermapbox": [
                      {
                        "marker": {
                          "colorbar": {
                            "outlinewidth": 0,
                            "ticks": ""
                          }
                        },
                        "type": "scattermapbox"
                      }
                    ],
                    "scatterpolar": [
                      {
                        "marker": {
                          "colorbar": {
                            "outlinewidth": 0,
                            "ticks": ""
                          }
                        },
                        "type": "scatterpolar"
                      }
                    ],
                    "scatterpolargl": [
                      {
                        "marker": {
                          "colorbar": {
                            "outlinewidth": 0,
                            "ticks": ""
                          }
                        },
                        "type": "scatterpolargl"
                      }
                    ],
                    "scatterternary": [
                      {
                        "marker": {
                          "colorbar": {
                            "outlinewidth": 0,
                            "ticks": ""
                          }
                        },
                        "type": "scatterternary"
                      }
                    ],
                    "surface": [
                      {
                        "colorbar": {
                          "outlinewidth": 0,
                          "ticks": ""
                        },
                        "colorscale": [
                          [
                            0,
                            "#0d0887"
                          ],
                          [
                            0.1111111111111111,
                            "#46039f"
                          ],
                          [
                            0.2222222222222222,
                            "#7201a8"
                          ],
                          [
                            0.3333333333333333,
                            "#9c179e"
                          ],
                          [
                            0.4444444444444444,
                            "#bd3786"
                          ],
                          [
                            0.5555555555555556,
                            "#d8576b"
                          ],
                          [
                            0.6666666666666666,
                            "#ed7953"
                          ],
                          [
                            0.7777777777777778,
                            "#fb9f3a"
                          ],
                          [
                            0.8888888888888888,
                            "#fdca26"
                          ],
                          [
                            1,
                            "#f0f921"
                          ]
                        ],
                        "type": "surface"
                      }
                    ],
                    "table": [
                      {
                        "cells": {
                          "fill": {
                            "color": "#EBF0F8"
                          },
                          "line": {
                            "color": "white"
                          }
                        },
                        "header": {
                          "fill": {
                            "color": "#C8D4E3"
                          },
                          "line": {
                            "color": "white"
                          }
                        },
                        "type": "table"
                      }
                    ]
                  },
                  "layout": {
                    "annotationdefaults": {
                      "arrowcolor": "#2a3f5f",
                      "arrowhead": 0,
                      "arrowwidth": 1
                    },
                    "autotypenumbers": "strict",
                    "coloraxis": {
                      "colorbar": {
                        "outlinewidth": 0,
                        "ticks": ""
                      }
                    },
                    "colorscale": {
                      "diverging": [
                        [
                          0,
                          "#8e0152"
                        ],
                        [
                          0.1,
                          "#c51b7d"
                        ],
                        [
                          0.2,
                          "#de77ae"
                        ],
                        [
                          0.3,
                          "#f1b6da"
                        ],
                        [
                          0.4,
                          "#fde0ef"
                        ],
                        [
                          0.5,
                          "#f7f7f7"
                        ],
                        [
                          0.6,
                          "#e6f5d0"
                        ],
                        [
                          0.7,
                          "#b8e186"
                        ],
                        [
                          0.8,
                          "#7fbc41"
                        ],
                        [
                          0.9,
                          "#4d9221"
                        ],
                        [
                          1,
                          "#276419"
                        ]
                      ],
                      "sequential": [
                        [
                          0,
                          "#0d0887"
                        ],
                        [
                          0.1111111111111111,
                          "#46039f"
                        ],
                        [
                          0.2222222222222222,
                          "#7201a8"
                        ],
                        [
                          0.3333333333333333,
                          "#9c179e"
                        ],
                        [
                          0.4444444444444444,
                          "#bd3786"
                        ],
                        [
                          0.5555555555555556,
                          "#d8576b"
                        ],
                        [
                          0.6666666666666666,
                          "#ed7953"
                        ],
                        [
                          0.7777777777777778,
                          "#fb9f3a"
                        ],
                        [
                          0.8888888888888888,
                          "#fdca26"
                        ],
                        [
                          1,
                          "#f0f921"
                        ]
                      ],
                      "sequentialminus": [
                        [
                          0,
                          "#0d0887"
                        ],
                        [
                          0.1111111111111111,
                          "#46039f"
                        ],
                        [
                          0.2222222222222222,
                          "#7201a8"
                        ],
                        [
                          0.3333333333333333,
                          "#9c179e"
                        ],
                        [
                          0.4444444444444444,
                          "#bd3786"
                        ],
                        [
                          0.5555555555555556,
                          "#d8576b"
                        ],
                        [
                          0.6666666666666666,
                          "#ed7953"
                        ],
                        [
                          0.7777777777777778,
                          "#fb9f3a"
                        ],
                        [
                          0.8888888888888888,
                          "#fdca26"
                        ],
                        [
                          1,
                          "#f0f921"
                        ]
                      ]
                    },
                    "colorway": [
                      "#636efa",
                      "#EF553B",
                      "#00cc96",
                      "#ab63fa",
                      "#FFA15A",
                      "#19d3f3",
                      "#FF6692",
                      "#B6E880",
                      "#FF97FF",
                      "#FECB52"
                    ],
                    "font": {
                      "color": "#2a3f5f"
                    },
                    "geo": {
                      "bgcolor": "white",
                      "lakecolor": "white",
                      "landcolor": "#E5ECF6",
                      "showlakes": true,
                      "showland": true,
                      "subunitcolor": "white"
                    },
                    "hoverlabel": {
                      "align": "left"
                    },
                    "hovermode": "closest",
                    "mapbox": {
                      "style": "light"
                    },
                    "paper_bgcolor": "white",
                    "plot_bgcolor": "#E5ECF6",
                    "polar": {
                      "angularaxis": {
                        "gridcolor": "white",
                        "linecolor": "white",
                        "ticks": ""
                      },
                      "bgcolor": "#E5ECF6",
                      "radialaxis": {
                        "gridcolor": "white",
                        "linecolor": "white",
                        "ticks": ""
                      }
                    },
                    "scene": {
                      "xaxis": {
                        "backgroundcolor": "#E5ECF6",
                        "gridcolor": "white",
                        "gridwidth": 2,
                        "linecolor": "white",
                        "showbackground": true,
                        "ticks": "",
                        "zerolinecolor": "white"
                      },
                      "yaxis": {
                        "backgroundcolor": "#E5ECF6",
                        "gridcolor": "white",
                        "gridwidth": 2,
                        "linecolor": "white",
                        "showbackground": true,
                        "ticks": "",
                        "zerolinecolor": "white"
                      },
                      "zaxis": {
                        "backgroundcolor": "#E5ECF6",
                        "gridcolor": "white",
                        "gridwidth": 2,
                        "linecolor": "white",
                        "showbackground": true,
                        "ticks": "",
                        "zerolinecolor": "white"
                      }
                    },
                    "shapedefaults": {
                      "line": {
                        "color": "#2a3f5f"
                      }
                    },
                    "ternary": {
                      "aaxis": {
                        "gridcolor": "white",
                        "linecolor": "white",
                        "ticks": ""
                      },
                      "baxis": {
                        "gridcolor": "white",
                        "linecolor": "white",
                        "ticks": ""
                      },
                      "bgcolor": "#E5ECF6",
                      "caxis": {
                        "gridcolor": "white",
                        "linecolor": "white",
                        "ticks": ""
                      }
                    },
                    "title": {
                      "x": 0.05
                    },
                    "xaxis": {
                      "automargin": true,
                      "gridcolor": "white",
                      "linecolor": "white",
                      "ticks": "",
                      "title": {
                        "standoff": 15
                      },
                      "zerolinecolor": "white",
                      "zerolinewidth": 2
                    },
                    "yaxis": {
                      "automargin": true,
                      "gridcolor": "white",
                      "linecolor": "white",
                      "ticks": "",
                      "title": {
                        "standoff": 15
                      },
                      "zerolinecolor": "white",
                      "zerolinewidth": 2
                    }
                  }
                },
                "title": {
                  "text": "1차 차분된 항공 승객 수"
                },
                "xaxis": {
                  "anchor": "y",
                  "domain": [
                    0,
                    1
                  ],
                  "title": {
                    "text": "Month"
                  }
                },
                "yaxis": {
                  "anchor": "x",
                  "domain": [
                    0,
                    1
                  ],
                  "title": {
                    "text": "Passengers_diff"
                  }
                }
              }
            }
          },
          "metadata": {},
          "output_type": "display_data"
        },
        {
          "name": "stdout",
          "output_type": "stream",
          "text": [
            ">>> 1st Differenced ADF Test <<<\n",
            "ADF Test Statistic : -2.8292668241700034\n",
            "p-value : 0.054213290283824954\n",
            "#Lags Used : 12\n",
            "Number of Observations Used : 130\n",
            "=> p-value가 0.05보다 크므로, 귀무가설을 기각할 수 없습니다. 데이터는 비정상 시계열입니다.\n",
            "\n"
          ]
        }
      ],
      "source": [
        "import pandas as pd\n",
        "import plotly.express as px\n",
        "from statsmodels.tsa.stattools import adfuller\n",
        "\n",
        "# 1. 데이터 로드 및 시각화\n",
        "# 웹에서 바로 데이터를 불러옵니다.\n",
        "url = 'https://raw.githubusercontent.com/jbrownlee/Datasets/master/airline-passengers.csv'\n",
        "df = pd.read_csv(url, index_col='Month', parse_dates=True)\n",
        "df.columns = ['Passengers']\n",
        "\n",
        "# 시계열 데이터 플롯\n",
        "fig = px.line(df, x=df.index, y='Passengers', title='월별 항공 승객 수 (1949-1960)')\n",
        "fig.show()\n",
        "\n",
        "# 2. ADF 검정 함수 정의 및 정상성 확인\n",
        "def adf_test(series, name=''):\n",
        "    \"\"\"주어진 시계열에 대해 ADF 검정을 수행하고 결과를 출력합니다.\"\"\"\n",
        "    print(f'>>> {name} ADF Test <<<')\n",
        "    result = adfuller(series.dropna()) # NaN 값을 제외하고 검정 수행\n",
        "    labels = ['ADF Test Statistic', 'p-value', '#Lags Used', 'Number of Observations Used']\n",
        "    for value, label in zip(result, labels):\n",
        "        print(label + ' : ' + str(value))\n",
        "\n",
        "    if result[1] <= 0.05:\n",
        "        print(\"=> p-value가 0.05보다 작으므로, 귀무가설을 기각합니다. 데이터는 정상성을 만족합니다.\\n\")\n",
        "    else:\n",
        "        print(\"=> p-value가 0.05보다 크므로, 귀무가설을 기각할 수 없습니다. 데이터는 비정상 시계열입니다.\\n\")\n",
        "\n",
        "# 원본 데이터에 대한 ADF 검정\n",
        "adf_test(df['Passengers'], name='Original')\n",
        "\n",
        "# 3. 1차 차분을 통한 정상성 확보\n",
        "df['Passengers_diff'] = df['Passengers'].diff()\n",
        "\n",
        "# 1차 차분 데이터 플롯\n",
        "fig_diff = px.line(df, x=df.index, y='Passengers_diff', title='1차 차분된 항공 승객 수')\n",
        "fig_diff.show()\n",
        "\n",
        "# 1차 차분 데이터에 대한 ADF 검정\n",
        "adf_test(df['Passengers_diff'], name='1st Differenced')"
      ]
    },
    {
      "cell_type": "code",
      "execution_count": 11,
      "metadata": {},
      "outputs": [
        {
          "data": {
            "application/vnd.plotly.v1+json": {
              "config": {
                "plotlyServerURL": "https://plot.ly"
              },
              "data": [
                {
                  "hovertemplate": "Month=%{x}<br>Natural Gas Sales=%{y}<extra></extra>",
                  "legendgroup": "",
                  "line": {
                    "color": "#636efa",
                    "dash": "solid"
                  },
                  "marker": {
                    "symbol": "circle"
                  },
                  "mode": "lines",
                  "name": "",
                  "orientation": "v",
                  "showlegend": false,
                  "type": "scatter",
                  "x": [
                    "2000-01-01T00:00:00",
                    "2000-02-01T00:00:00",
                    "2000-03-01T00:00:00",
                    "2000-04-01T00:00:00",
                    "2000-05-01T00:00:00",
                    "2000-06-01T00:00:00",
                    "2000-07-01T00:00:00",
                    "2000-08-01T00:00:00",
                    "2000-09-01T00:00:00",
                    "2000-10-01T00:00:00",
                    "2000-11-01T00:00:00",
                    "2000-12-01T00:00:00",
                    "2001-01-01T00:00:00",
                    "2001-02-01T00:00:00",
                    "2001-03-01T00:00:00",
                    "2001-04-01T00:00:00",
                    "2001-05-01T00:00:00",
                    "2001-06-01T00:00:00",
                    "2001-07-01T00:00:00",
                    "2001-08-01T00:00:00",
                    "2001-09-01T00:00:00",
                    "2001-10-01T00:00:00",
                    "2001-11-01T00:00:00",
                    "2001-12-01T00:00:00",
                    "2002-01-01T00:00:00",
                    "2002-02-01T00:00:00",
                    "2002-03-01T00:00:00",
                    "2002-04-01T00:00:00",
                    "2002-05-01T00:00:00",
                    "2002-06-01T00:00:00",
                    "2002-07-01T00:00:00",
                    "2002-08-01T00:00:00",
                    "2002-09-01T00:00:00",
                    "2002-10-01T00:00:00",
                    "2002-11-01T00:00:00",
                    "2002-12-01T00:00:00",
                    "2003-01-01T00:00:00",
                    "2003-02-01T00:00:00",
                    "2003-03-01T00:00:00",
                    "2003-04-01T00:00:00",
                    "2003-05-01T00:00:00",
                    "2003-06-01T00:00:00",
                    "2003-07-01T00:00:00",
                    "2003-08-01T00:00:00",
                    "2003-09-01T00:00:00",
                    "2003-10-01T00:00:00",
                    "2003-11-01T00:00:00",
                    "2003-12-01T00:00:00",
                    "2004-01-01T00:00:00",
                    "2004-02-01T00:00:00",
                    "2004-03-01T00:00:00",
                    "2004-04-01T00:00:00",
                    "2004-05-01T00:00:00",
                    "2004-06-01T00:00:00",
                    "2004-07-01T00:00:00",
                    "2004-08-01T00:00:00",
                    "2004-09-01T00:00:00",
                    "2004-10-01T00:00:00",
                    "2004-11-01T00:00:00",
                    "2004-12-01T00:00:00",
                    "2005-01-01T00:00:00",
                    "2005-02-01T00:00:00",
                    "2005-03-01T00:00:00",
                    "2005-04-01T00:00:00",
                    "2005-05-01T00:00:00",
                    "2005-06-01T00:00:00",
                    "2005-07-01T00:00:00",
                    "2005-08-01T00:00:00",
                    "2005-09-01T00:00:00",
                    "2005-10-01T00:00:00",
                    "2005-11-01T00:00:00",
                    "2005-12-01T00:00:00",
                    "2006-01-01T00:00:00",
                    "2006-02-01T00:00:00",
                    "2006-03-01T00:00:00",
                    "2006-04-01T00:00:00",
                    "2006-05-01T00:00:00",
                    "2006-06-01T00:00:00",
                    "2006-07-01T00:00:00",
                    "2006-08-01T00:00:00",
                    "2006-09-01T00:00:00",
                    "2006-10-01T00:00:00",
                    "2006-11-01T00:00:00",
                    "2006-12-01T00:00:00",
                    "2007-01-01T00:00:00",
                    "2007-02-01T00:00:00",
                    "2007-03-01T00:00:00",
                    "2007-04-01T00:00:00",
                    "2007-05-01T00:00:00",
                    "2007-06-01T00:00:00",
                    "2007-07-01T00:00:00",
                    "2007-08-01T00:00:00",
                    "2007-09-01T00:00:00",
                    "2007-10-01T00:00:00",
                    "2007-11-01T00:00:00",
                    "2007-12-01T00:00:00",
                    "2008-01-01T00:00:00",
                    "2008-02-01T00:00:00",
                    "2008-03-01T00:00:00",
                    "2008-04-01T00:00:00",
                    "2008-05-01T00:00:00",
                    "2008-06-01T00:00:00",
                    "2008-07-01T00:00:00",
                    "2008-08-01T00:00:00",
                    "2008-09-01T00:00:00",
                    "2008-10-01T00:00:00",
                    "2008-11-01T00:00:00",
                    "2008-12-01T00:00:00",
                    "2009-01-01T00:00:00",
                    "2009-02-01T00:00:00",
                    "2009-03-01T00:00:00",
                    "2009-04-01T00:00:00",
                    "2009-05-01T00:00:00",
                    "2009-06-01T00:00:00",
                    "2009-07-01T00:00:00",
                    "2009-08-01T00:00:00",
                    "2009-09-01T00:00:00",
                    "2009-10-01T00:00:00",
                    "2009-11-01T00:00:00",
                    "2009-12-01T00:00:00",
                    "2010-01-01T00:00:00",
                    "2010-02-01T00:00:00",
                    "2010-03-01T00:00:00",
                    "2010-04-01T00:00:00",
                    "2010-05-01T00:00:00",
                    "2010-06-01T00:00:00",
                    "2010-07-01T00:00:00",
                    "2010-08-01T00:00:00",
                    "2010-09-01T00:00:00",
                    "2010-10-01T00:00:00",
                    "2010-11-01T00:00:00",
                    "2010-12-01T00:00:00",
                    "2011-01-01T00:00:00",
                    "2011-02-01T00:00:00",
                    "2011-03-01T00:00:00",
                    "2011-04-01T00:00:00",
                    "2011-05-01T00:00:00",
                    "2011-06-01T00:00:00",
                    "2011-07-01T00:00:00",
                    "2011-08-01T00:00:00",
                    "2011-09-01T00:00:00",
                    "2011-10-01T00:00:00",
                    "2011-11-01T00:00:00",
                    "2011-12-01T00:00:00",
                    "2012-01-01T00:00:00",
                    "2012-02-01T00:00:00",
                    "2012-03-01T00:00:00",
                    "2012-04-01T00:00:00",
                    "2012-05-01T00:00:00",
                    "2012-06-01T00:00:00",
                    "2012-07-01T00:00:00",
                    "2012-08-01T00:00:00",
                    "2012-09-01T00:00:00",
                    "2012-10-01T00:00:00",
                    "2012-11-01T00:00:00",
                    "2012-12-01T00:00:00",
                    "2013-01-01T00:00:00",
                    "2013-02-01T00:00:00",
                    "2013-03-01T00:00:00",
                    "2013-04-01T00:00:00",
                    "2013-05-01T00:00:00",
                    "2013-06-01T00:00:00",
                    "2013-07-01T00:00:00",
                    "2013-08-01T00:00:00",
                    "2013-09-01T00:00:00",
                    "2013-10-01T00:00:00",
                    "2013-11-01T00:00:00",
                    "2013-12-01T00:00:00",
                    "2014-01-01T00:00:00",
                    "2014-02-01T00:00:00",
                    "2014-03-01T00:00:00",
                    "2014-04-01T00:00:00",
                    "2014-05-01T00:00:00",
                    "2014-06-01T00:00:00",
                    "2014-07-01T00:00:00",
                    "2014-08-01T00:00:00",
                    "2014-09-01T00:00:00",
                    "2014-10-01T00:00:00",
                    "2014-11-01T00:00:00",
                    "2014-12-01T00:00:00",
                    "2015-01-01T00:00:00",
                    "2015-02-01T00:00:00",
                    "2015-03-01T00:00:00",
                    "2015-04-01T00:00:00",
                    "2015-05-01T00:00:00",
                    "2015-06-01T00:00:00",
                    "2015-07-01T00:00:00",
                    "2015-08-01T00:00:00",
                    "2015-09-01T00:00:00",
                    "2015-10-01T00:00:00",
                    "2015-11-01T00:00:00",
                    "2015-12-01T00:00:00",
                    "2016-01-01T00:00:00",
                    "2016-02-01T00:00:00",
                    "2016-03-01T00:00:00",
                    "2016-04-01T00:00:00",
                    "2016-05-01T00:00:00",
                    "2016-06-01T00:00:00",
                    "2016-07-01T00:00:00",
                    "2016-08-01T00:00:00",
                    "2016-09-01T00:00:00",
                    "2016-10-01T00:00:00",
                    "2016-11-01T00:00:00",
                    "2016-12-01T00:00:00",
                    "2017-01-01T00:00:00",
                    "2017-02-01T00:00:00",
                    "2017-03-01T00:00:00",
                    "2017-04-01T00:00:00",
                    "2017-05-01T00:00:00",
                    "2017-06-01T00:00:00",
                    "2017-07-01T00:00:00",
                    "2017-08-01T00:00:00",
                    "2017-09-01T00:00:00",
                    "2017-10-01T00:00:00",
                    "2017-11-01T00:00:00",
                    "2017-12-01T00:00:00",
                    "2018-01-01T00:00:00",
                    "2018-02-01T00:00:00",
                    "2018-03-01T00:00:00",
                    "2018-04-01T00:00:00",
                    "2018-05-01T00:00:00",
                    "2018-06-01T00:00:00",
                    "2018-07-01T00:00:00",
                    "2018-08-01T00:00:00",
                    "2018-09-01T00:00:00",
                    "2018-10-01T00:00:00",
                    "2018-11-01T00:00:00",
                    "2018-12-01T00:00:00",
                    "2019-01-01T00:00:00",
                    "2019-02-01T00:00:00",
                    "2019-03-01T00:00:00",
                    "2019-04-01T00:00:00",
                    "2019-05-01T00:00:00",
                    "2019-06-01T00:00:00",
                    "2019-07-01T00:00:00",
                    "2019-08-01T00:00:00",
                    "2019-09-01T00:00:00",
                    "2019-10-01T00:00:00",
                    "2019-11-01T00:00:00",
                    "2019-12-01T00:00:00",
                    "2020-01-01T00:00:00",
                    "2020-02-01T00:00:00",
                    "2020-03-01T00:00:00",
                    "2020-04-01T00:00:00",
                    "2020-05-01T00:00:00",
                    "2020-06-01T00:00:00",
                    "2020-07-01T00:00:00",
                    "2020-08-01T00:00:00",
                    "2020-09-01T00:00:00",
                    "2020-10-01T00:00:00",
                    "2020-11-01T00:00:00",
                    "2020-12-01T00:00:00",
                    "2021-01-01T00:00:00",
                    "2021-02-01T00:00:00",
                    "2021-03-01T00:00:00",
                    "2021-04-01T00:00:00",
                    "2021-05-01T00:00:00",
                    "2021-06-01T00:00:00",
                    "2021-07-01T00:00:00",
                    "2021-08-01T00:00:00",
                    "2021-09-01T00:00:00",
                    "2021-10-01T00:00:00",
                    "2021-11-01T00:00:00",
                    "2021-12-01T00:00:00",
                    "2022-01-01T00:00:00",
                    "2022-02-01T00:00:00",
                    "2022-03-01T00:00:00",
                    "2022-04-01T00:00:00",
                    "2022-05-01T00:00:00",
                    "2022-06-01T00:00:00",
                    "2022-07-01T00:00:00",
                    "2022-08-01T00:00:00",
                    "2022-09-01T00:00:00",
                    "2022-10-01T00:00:00",
                    "2022-11-01T00:00:00",
                    "2022-12-01T00:00:00",
                    "2023-01-01T00:00:00",
                    "2023-02-01T00:00:00",
                    "2023-03-01T00:00:00",
                    "2023-04-01T00:00:00",
                    "2023-05-01T00:00:00",
                    "2023-06-01T00:00:00",
                    "2023-07-01T00:00:00",
                    "2023-08-01T00:00:00",
                    "2023-09-01T00:00:00",
                    "2023-10-01T00:00:00",
                    "2023-11-01T00:00:00",
                    "2023-12-01T00:00:00",
                    "2024-01-01T00:00:00",
                    "2024-02-01T00:00:00",
                    "2024-03-01T00:00:00",
                    "2024-04-01T00:00:00",
                    "2024-05-01T00:00:00",
                    "2024-06-01T00:00:00",
                    "2024-07-01T00:00:00",
                    "2024-08-01T00:00:00",
                    "2024-09-01T00:00:00",
                    "2024-10-01T00:00:00",
                    "2024-11-01T00:00:00",
                    "2024-12-01T00:00:00",
                    "2025-01-01T00:00:00",
                    "2025-02-01T00:00:00",
                    "2025-03-01T00:00:00"
                  ],
                  "xaxis": "x",
                  "y": {
                    "bdata": "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",
                    "dtype": "f8"
                  },
                  "yaxis": "y"
                }
              ],
              "layout": {
                "legend": {
                  "tracegroupgap": 0
                },
                "template": {
                  "data": {
                    "bar": [
                      {
                        "error_x": {
                          "color": "#2a3f5f"
                        },
                        "error_y": {
                          "color": "#2a3f5f"
                        },
                        "marker": {
                          "line": {
                            "color": "#E5ECF6",
                            "width": 0.5
                          },
                          "pattern": {
                            "fillmode": "overlay",
                            "size": 10,
                            "solidity": 0.2
                          }
                        },
                        "type": "bar"
                      }
                    ],
                    "barpolar": [
                      {
                        "marker": {
                          "line": {
                            "color": "#E5ECF6",
                            "width": 0.5
                          },
                          "pattern": {
                            "fillmode": "overlay",
                            "size": 10,
                            "solidity": 0.2
                          }
                        },
                        "type": "barpolar"
                      }
                    ],
                    "carpet": [
                      {
                        "aaxis": {
                          "endlinecolor": "#2a3f5f",
                          "gridcolor": "white",
                          "linecolor": "white",
                          "minorgridcolor": "white",
                          "startlinecolor": "#2a3f5f"
                        },
                        "baxis": {
                          "endlinecolor": "#2a3f5f",
                          "gridcolor": "white",
                          "linecolor": "white",
                          "minorgridcolor": "white",
                          "startlinecolor": "#2a3f5f"
                        },
                        "type": "carpet"
                      }
                    ],
                    "choropleth": [
                      {
                        "colorbar": {
                          "outlinewidth": 0,
                          "ticks": ""
                        },
                        "type": "choropleth"
                      }
                    ],
                    "contour": [
                      {
                        "colorbar": {
                          "outlinewidth": 0,
                          "ticks": ""
                        },
                        "colorscale": [
                          [
                            0,
                            "#0d0887"
                          ],
                          [
                            0.1111111111111111,
                            "#46039f"
                          ],
                          [
                            0.2222222222222222,
                            "#7201a8"
                          ],
                          [
                            0.3333333333333333,
                            "#9c179e"
                          ],
                          [
                            0.4444444444444444,
                            "#bd3786"
                          ],
                          [
                            0.5555555555555556,
                            "#d8576b"
                          ],
                          [
                            0.6666666666666666,
                            "#ed7953"
                          ],
                          [
                            0.7777777777777778,
                            "#fb9f3a"
                          ],
                          [
                            0.8888888888888888,
                            "#fdca26"
                          ],
                          [
                            1,
                            "#f0f921"
                          ]
                        ],
                        "type": "contour"
                      }
                    ],
                    "contourcarpet": [
                      {
                        "colorbar": {
                          "outlinewidth": 0,
                          "ticks": ""
                        },
                        "type": "contourcarpet"
                      }
                    ],
                    "heatmap": [
                      {
                        "colorbar": {
                          "outlinewidth": 0,
                          "ticks": ""
                        },
                        "colorscale": [
                          [
                            0,
                            "#0d0887"
                          ],
                          [
                            0.1111111111111111,
                            "#46039f"
                          ],
                          [
                            0.2222222222222222,
                            "#7201a8"
                          ],
                          [
                            0.3333333333333333,
                            "#9c179e"
                          ],
                          [
                            0.4444444444444444,
                            "#bd3786"
                          ],
                          [
                            0.5555555555555556,
                            "#d8576b"
                          ],
                          [
                            0.6666666666666666,
                            "#ed7953"
                          ],
                          [
                            0.7777777777777778,
                            "#fb9f3a"
                          ],
                          [
                            0.8888888888888888,
                            "#fdca26"
                          ],
                          [
                            1,
                            "#f0f921"
                          ]
                        ],
                        "type": "heatmap"
                      }
                    ],
                    "histogram": [
                      {
                        "marker": {
                          "pattern": {
                            "fillmode": "overlay",
                            "size": 10,
                            "solidity": 0.2
                          }
                        },
                        "type": "histogram"
                      }
                    ],
                    "histogram2d": [
                      {
                        "colorbar": {
                          "outlinewidth": 0,
                          "ticks": ""
                        },
                        "colorscale": [
                          [
                            0,
                            "#0d0887"
                          ],
                          [
                            0.1111111111111111,
                            "#46039f"
                          ],
                          [
                            0.2222222222222222,
                            "#7201a8"
                          ],
                          [
                            0.3333333333333333,
                            "#9c179e"
                          ],
                          [
                            0.4444444444444444,
                            "#bd3786"
                          ],
                          [
                            0.5555555555555556,
                            "#d8576b"
                          ],
                          [
                            0.6666666666666666,
                            "#ed7953"
                          ],
                          [
                            0.7777777777777778,
                            "#fb9f3a"
                          ],
                          [
                            0.8888888888888888,
                            "#fdca26"
                          ],
                          [
                            1,
                            "#f0f921"
                          ]
                        ],
                        "type": "histogram2d"
                      }
                    ],
                    "histogram2dcontour": [
                      {
                        "colorbar": {
                          "outlinewidth": 0,
                          "ticks": ""
                        },
                        "colorscale": [
                          [
                            0,
                            "#0d0887"
                          ],
                          [
                            0.1111111111111111,
                            "#46039f"
                          ],
                          [
                            0.2222222222222222,
                            "#7201a8"
                          ],
                          [
                            0.3333333333333333,
                            "#9c179e"
                          ],
                          [
                            0.4444444444444444,
                            "#bd3786"
                          ],
                          [
                            0.5555555555555556,
                            "#d8576b"
                          ],
                          [
                            0.6666666666666666,
                            "#ed7953"
                          ],
                          [
                            0.7777777777777778,
                            "#fb9f3a"
                          ],
                          [
                            0.8888888888888888,
                            "#fdca26"
                          ],
                          [
                            1,
                            "#f0f921"
                          ]
                        ],
                        "type": "histogram2dcontour"
                      }
                    ],
                    "mesh3d": [
                      {
                        "colorbar": {
                          "outlinewidth": 0,
                          "ticks": ""
                        },
                        "type": "mesh3d"
                      }
                    ],
                    "parcoords": [
                      {
                        "line": {
                          "colorbar": {
                            "outlinewidth": 0,
                            "ticks": ""
                          }
                        },
                        "type": "parcoords"
                      }
                    ],
                    "pie": [
                      {
                        "automargin": true,
                        "type": "pie"
                      }
                    ],
                    "scatter": [
                      {
                        "fillpattern": {
                          "fillmode": "overlay",
                          "size": 10,
                          "solidity": 0.2
                        },
                        "type": "scatter"
                      }
                    ],
                    "scatter3d": [
                      {
                        "line": {
                          "colorbar": {
                            "outlinewidth": 0,
                            "ticks": ""
                          }
                        },
                        "marker": {
                          "colorbar": {
                            "outlinewidth": 0,
                            "ticks": ""
                          }
                        },
                        "type": "scatter3d"
                      }
                    ],
                    "scattercarpet": [
                      {
                        "marker": {
                          "colorbar": {
                            "outlinewidth": 0,
                            "ticks": ""
                          }
                        },
                        "type": "scattercarpet"
                      }
                    ],
                    "scattergeo": [
                      {
                        "marker": {
                          "colorbar": {
                            "outlinewidth": 0,
                            "ticks": ""
                          }
                        },
                        "type": "scattergeo"
                      }
                    ],
                    "scattergl": [
                      {
                        "marker": {
                          "colorbar": {
                            "outlinewidth": 0,
                            "ticks": ""
                          }
                        },
                        "type": "scattergl"
                      }
                    ],
                    "scattermap": [
                      {
                        "marker": {
                          "colorbar": {
                            "outlinewidth": 0,
                            "ticks": ""
                          }
                        },
                        "type": "scattermap"
                      }
                    ],
                    "scattermapbox": [
                      {
                        "marker": {
                          "colorbar": {
                            "outlinewidth": 0,
                            "ticks": ""
                          }
                        },
                        "type": "scattermapbox"
                      }
                    ],
                    "scatterpolar": [
                      {
                        "marker": {
                          "colorbar": {
                            "outlinewidth": 0,
                            "ticks": ""
                          }
                        },
                        "type": "scatterpolar"
                      }
                    ],
                    "scatterpolargl": [
                      {
                        "marker": {
                          "colorbar": {
                            "outlinewidth": 0,
                            "ticks": ""
                          }
                        },
                        "type": "scatterpolargl"
                      }
                    ],
                    "scatterternary": [
                      {
                        "marker": {
                          "colorbar": {
                            "outlinewidth": 0,
                            "ticks": ""
                          }
                        },
                        "type": "scatterternary"
                      }
                    ],
                    "surface": [
                      {
                        "colorbar": {
                          "outlinewidth": 0,
                          "ticks": ""
                        },
                        "colorscale": [
                          [
                            0,
                            "#0d0887"
                          ],
                          [
                            0.1111111111111111,
                            "#46039f"
                          ],
                          [
                            0.2222222222222222,
                            "#7201a8"
                          ],
                          [
                            0.3333333333333333,
                            "#9c179e"
                          ],
                          [
                            0.4444444444444444,
                            "#bd3786"
                          ],
                          [
                            0.5555555555555556,
                            "#d8576b"
                          ],
                          [
                            0.6666666666666666,
                            "#ed7953"
                          ],
                          [
                            0.7777777777777778,
                            "#fb9f3a"
                          ],
                          [
                            0.8888888888888888,
                            "#fdca26"
                          ],
                          [
                            1,
                            "#f0f921"
                          ]
                        ],
                        "type": "surface"
                      }
                    ],
                    "table": [
                      {
                        "cells": {
                          "fill": {
                            "color": "#EBF0F8"
                          },
                          "line": {
                            "color": "white"
                          }
                        },
                        "header": {
                          "fill": {
                            "color": "#C8D4E3"
                          },
                          "line": {
                            "color": "white"
                          }
                        },
                        "type": "table"
                      }
                    ]
                  },
                  "layout": {
                    "annotationdefaults": {
                      "arrowcolor": "#2a3f5f",
                      "arrowhead": 0,
                      "arrowwidth": 1
                    },
                    "autotypenumbers": "strict",
                    "coloraxis": {
                      "colorbar": {
                        "outlinewidth": 0,
                        "ticks": ""
                      }
                    },
                    "colorscale": {
                      "diverging": [
                        [
                          0,
                          "#8e0152"
                        ],
                        [
                          0.1,
                          "#c51b7d"
                        ],
                        [
                          0.2,
                          "#de77ae"
                        ],
                        [
                          0.3,
                          "#f1b6da"
                        ],
                        [
                          0.4,
                          "#fde0ef"
                        ],
                        [
                          0.5,
                          "#f7f7f7"
                        ],
                        [
                          0.6,
                          "#e6f5d0"
                        ],
                        [
                          0.7,
                          "#b8e186"
                        ],
                        [
                          0.8,
                          "#7fbc41"
                        ],
                        [
                          0.9,
                          "#4d9221"
                        ],
                        [
                          1,
                          "#276419"
                        ]
                      ],
                      "sequential": [
                        [
                          0,
                          "#0d0887"
                        ],
                        [
                          0.1111111111111111,
                          "#46039f"
                        ],
                        [
                          0.2222222222222222,
                          "#7201a8"
                        ],
                        [
                          0.3333333333333333,
                          "#9c179e"
                        ],
                        [
                          0.4444444444444444,
                          "#bd3786"
                        ],
                        [
                          0.5555555555555556,
                          "#d8576b"
                        ],
                        [
                          0.6666666666666666,
                          "#ed7953"
                        ],
                        [
                          0.7777777777777778,
                          "#fb9f3a"
                        ],
                        [
                          0.8888888888888888,
                          "#fdca26"
                        ],
                        [
                          1,
                          "#f0f921"
                        ]
                      ],
                      "sequentialminus": [
                        [
                          0,
                          "#0d0887"
                        ],
                        [
                          0.1111111111111111,
                          "#46039f"
                        ],
                        [
                          0.2222222222222222,
                          "#7201a8"
                        ],
                        [
                          0.3333333333333333,
                          "#9c179e"
                        ],
                        [
                          0.4444444444444444,
                          "#bd3786"
                        ],
                        [
                          0.5555555555555556,
                          "#d8576b"
                        ],
                        [
                          0.6666666666666666,
                          "#ed7953"
                        ],
                        [
                          0.7777777777777778,
                          "#fb9f3a"
                        ],
                        [
                          0.8888888888888888,
                          "#fdca26"
                        ],
                        [
                          1,
                          "#f0f921"
                        ]
                      ]
                    },
                    "colorway": [
                      "#636efa",
                      "#EF553B",
                      "#00cc96",
                      "#ab63fa",
                      "#FFA15A",
                      "#19d3f3",
                      "#FF6692",
                      "#B6E880",
                      "#FF97FF",
                      "#FECB52"
                    ],
                    "font": {
                      "color": "#2a3f5f"
                    },
                    "geo": {
                      "bgcolor": "white",
                      "lakecolor": "white",
                      "landcolor": "#E5ECF6",
                      "showlakes": true,
                      "showland": true,
                      "subunitcolor": "white"
                    },
                    "hoverlabel": {
                      "align": "left"
                    },
                    "hovermode": "closest",
                    "mapbox": {
                      "style": "light"
                    },
                    "paper_bgcolor": "white",
                    "plot_bgcolor": "#E5ECF6",
                    "polar": {
                      "angularaxis": {
                        "gridcolor": "white",
                        "linecolor": "white",
                        "ticks": ""
                      },
                      "bgcolor": "#E5ECF6",
                      "radialaxis": {
                        "gridcolor": "white",
                        "linecolor": "white",
                        "ticks": ""
                      }
                    },
                    "scene": {
                      "xaxis": {
                        "backgroundcolor": "#E5ECF6",
                        "gridcolor": "white",
                        "gridwidth": 2,
                        "linecolor": "white",
                        "showbackground": true,
                        "ticks": "",
                        "zerolinecolor": "white"
                      },
                      "yaxis": {
                        "backgroundcolor": "#E5ECF6",
                        "gridcolor": "white",
                        "gridwidth": 2,
                        "linecolor": "white",
                        "showbackground": true,
                        "ticks": "",
                        "zerolinecolor": "white"
                      },
                      "zaxis": {
                        "backgroundcolor": "#E5ECF6",
                        "gridcolor": "white",
                        "gridwidth": 2,
                        "linecolor": "white",
                        "showbackground": true,
                        "ticks": "",
                        "zerolinecolor": "white"
                      }
                    },
                    "shapedefaults": {
                      "line": {
                        "color": "#2a3f5f"
                      }
                    },
                    "ternary": {
                      "aaxis": {
                        "gridcolor": "white",
                        "linecolor": "white",
                        "ticks": ""
                      },
                      "baxis": {
                        "gridcolor": "white",
                        "linecolor": "white",
                        "ticks": ""
                      },
                      "bgcolor": "#E5ECF6",
                      "caxis": {
                        "gridcolor": "white",
                        "linecolor": "white",
                        "ticks": ""
                      }
                    },
                    "title": {
                      "x": 0.05
                    },
                    "xaxis": {
                      "automargin": true,
                      "gridcolor": "white",
                      "linecolor": "white",
                      "ticks": "",
                      "title": {
                        "standoff": 15
                      },
                      "zerolinecolor": "white",
                      "zerolinewidth": 2
                    },
                    "yaxis": {
                      "automargin": true,
                      "gridcolor": "white",
                      "linecolor": "white",
                      "ticks": "",
                      "title": {
                        "standoff": 15
                      },
                      "zerolinecolor": "white",
                      "zerolinewidth": 2
                    }
                  }
                },
                "title": {
                  "text": "미국 월별 천연가스 판매량 시계열"
                },
                "xaxis": {
                  "anchor": "y",
                  "domain": [
                    0,
                    1
                  ],
                  "title": {
                    "text": "Month"
                  }
                },
                "yaxis": {
                  "anchor": "x",
                  "domain": [
                    0,
                    1
                  ],
                  "title": {
                    "text": "Natural Gas Sales"
                  }
                }
              }
            }
          },
          "metadata": {},
          "output_type": "display_data"
        }
      ],
      "source": [
        "import pandas as pd\n",
        "url = \"https://fred.stlouisfed.org/data/NATURALGAS.txt\"\n",
        "df = pd.read_html(url)\n",
        "df_gas = df[1]\n",
        "df_gas.columns = ['Month', 'Natural Gas Sales']\n",
        "df_gas['Month'] = pd.to_datetime(df_gas['Month'])\n",
        "df_gas.set_index('Month', inplace=True)\n",
        "\n",
        "fig = px.line(df_gas, x=df_gas.index, y='Natural Gas Sales', title='미국 월별 천연가스 판매량 시계열')\n",
        "fig.show()"
      ]
    },
    {
      "cell_type": "markdown",
      "metadata": {
        "id": "STAELnVh5s_5"
      },
      "source": [
        "### ✏️ 연습 문제 (Practice Problems)\n",
        "\n",
        "1.  미국 월별 천연가스 판매량 데이터를 불러와 시계열 그래프로 시각화하고, 데이터의 특징(추세, 계절성)을 설명해보세요.\n",
        "      * 데이터셋 URL: `https://fred.stlouisfed.org/data/NATURALGAS.txt`\n",
        "2.  위 데이터에 대해 ADF 검정을 수행하고 정상성을 만족하는지 확인하세요.\n",
        "3.  데이터가 비정상 시계열이라면, 정상성을 만족할 때까지 차분을 수행하고, 매 차분 단계마다 ADF 검정 결과와 시계열 그래프를 확인하여 비교 설명하세요."
      ]
    },
    {
      "cell_type": "code",
      "execution_count": 12,
      "metadata": {
        "id": "LqIBQiVR5s_5"
      },
      "outputs": [
        {
          "data": {
            "application/vnd.plotly.v1+json": {
              "config": {
                "plotlyServerURL": "https://plot.ly"
              },
              "data": [
                {
                  "hovertemplate": "Month=%{x}<br>Natural Gas Sales=%{y}<extra></extra>",
                  "legendgroup": "",
                  "line": {
                    "color": "#636efa",
                    "dash": "solid"
                  },
                  "marker": {
                    "symbol": "circle"
                  },
                  "mode": "lines",
                  "name": "",
                  "orientation": "v",
                  "showlegend": false,
                  "type": "scatter",
                  "x": [
                    "2000-01-01T00:00:00",
                    "2000-02-01T00:00:00",
                    "2000-03-01T00:00:00",
                    "2000-04-01T00:00:00",
                    "2000-05-01T00:00:00",
                    "2000-06-01T00:00:00",
                    "2000-07-01T00:00:00",
                    "2000-08-01T00:00:00",
                    "2000-09-01T00:00:00",
                    "2000-10-01T00:00:00",
                    "2000-11-01T00:00:00",
                    "2000-12-01T00:00:00",
                    "2001-01-01T00:00:00",
                    "2001-02-01T00:00:00",
                    "2001-03-01T00:00:00",
                    "2001-04-01T00:00:00",
                    "2001-05-01T00:00:00",
                    "2001-06-01T00:00:00",
                    "2001-07-01T00:00:00",
                    "2001-08-01T00:00:00",
                    "2001-09-01T00:00:00",
                    "2001-10-01T00:00:00",
                    "2001-11-01T00:00:00",
                    "2001-12-01T00:00:00",
                    "2002-01-01T00:00:00",
                    "2002-02-01T00:00:00",
                    "2002-03-01T00:00:00",
                    "2002-04-01T00:00:00",
                    "2002-05-01T00:00:00",
                    "2002-06-01T00:00:00",
                    "2002-07-01T00:00:00",
                    "2002-08-01T00:00:00",
                    "2002-09-01T00:00:00",
                    "2002-10-01T00:00:00",
                    "2002-11-01T00:00:00",
                    "2002-12-01T00:00:00",
                    "2003-01-01T00:00:00",
                    "2003-02-01T00:00:00",
                    "2003-03-01T00:00:00",
                    "2003-04-01T00:00:00",
                    "2003-05-01T00:00:00",
                    "2003-06-01T00:00:00",
                    "2003-07-01T00:00:00",
                    "2003-08-01T00:00:00",
                    "2003-09-01T00:00:00",
                    "2003-10-01T00:00:00",
                    "2003-11-01T00:00:00",
                    "2003-12-01T00:00:00",
                    "2004-01-01T00:00:00",
                    "2004-02-01T00:00:00",
                    "2004-03-01T00:00:00",
                    "2004-04-01T00:00:00",
                    "2004-05-01T00:00:00",
                    "2004-06-01T00:00:00",
                    "2004-07-01T00:00:00",
                    "2004-08-01T00:00:00",
                    "2004-09-01T00:00:00",
                    "2004-10-01T00:00:00",
                    "2004-11-01T00:00:00",
                    "2004-12-01T00:00:00",
                    "2005-01-01T00:00:00",
                    "2005-02-01T00:00:00",
                    "2005-03-01T00:00:00",
                    "2005-04-01T00:00:00",
                    "2005-05-01T00:00:00",
                    "2005-06-01T00:00:00",
                    "2005-07-01T00:00:00",
                    "2005-08-01T00:00:00",
                    "2005-09-01T00:00:00",
                    "2005-10-01T00:00:00",
                    "2005-11-01T00:00:00",
                    "2005-12-01T00:00:00",
                    "2006-01-01T00:00:00",
                    "2006-02-01T00:00:00",
                    "2006-03-01T00:00:00",
                    "2006-04-01T00:00:00",
                    "2006-05-01T00:00:00",
                    "2006-06-01T00:00:00",
                    "2006-07-01T00:00:00",
                    "2006-08-01T00:00:00",
                    "2006-09-01T00:00:00",
                    "2006-10-01T00:00:00",
                    "2006-11-01T00:00:00",
                    "2006-12-01T00:00:00",
                    "2007-01-01T00:00:00",
                    "2007-02-01T00:00:00",
                    "2007-03-01T00:00:00",
                    "2007-04-01T00:00:00",
                    "2007-05-01T00:00:00",
                    "2007-06-01T00:00:00",
                    "2007-07-01T00:00:00",
                    "2007-08-01T00:00:00",
                    "2007-09-01T00:00:00",
                    "2007-10-01T00:00:00",
                    "2007-11-01T00:00:00",
                    "2007-12-01T00:00:00",
                    "2008-01-01T00:00:00",
                    "2008-02-01T00:00:00",
                    "2008-03-01T00:00:00",
                    "2008-04-01T00:00:00",
                    "2008-05-01T00:00:00",
                    "2008-06-01T00:00:00",
                    "2008-07-01T00:00:00",
                    "2008-08-01T00:00:00",
                    "2008-09-01T00:00:00",
                    "2008-10-01T00:00:00",
                    "2008-11-01T00:00:00",
                    "2008-12-01T00:00:00",
                    "2009-01-01T00:00:00",
                    "2009-02-01T00:00:00",
                    "2009-03-01T00:00:00",
                    "2009-04-01T00:00:00",
                    "2009-05-01T00:00:00",
                    "2009-06-01T00:00:00",
                    "2009-07-01T00:00:00",
                    "2009-08-01T00:00:00",
                    "2009-09-01T00:00:00",
                    "2009-10-01T00:00:00",
                    "2009-11-01T00:00:00",
                    "2009-12-01T00:00:00",
                    "2010-01-01T00:00:00",
                    "2010-02-01T00:00:00",
                    "2010-03-01T00:00:00",
                    "2010-04-01T00:00:00",
                    "2010-05-01T00:00:00",
                    "2010-06-01T00:00:00",
                    "2010-07-01T00:00:00",
                    "2010-08-01T00:00:00",
                    "2010-09-01T00:00:00",
                    "2010-10-01T00:00:00",
                    "2010-11-01T00:00:00",
                    "2010-12-01T00:00:00",
                    "2011-01-01T00:00:00",
                    "2011-02-01T00:00:00",
                    "2011-03-01T00:00:00",
                    "2011-04-01T00:00:00",
                    "2011-05-01T00:00:00",
                    "2011-06-01T00:00:00",
                    "2011-07-01T00:00:00",
                    "2011-08-01T00:00:00",
                    "2011-09-01T00:00:00",
                    "2011-10-01T00:00:00",
                    "2011-11-01T00:00:00",
                    "2011-12-01T00:00:00",
                    "2012-01-01T00:00:00",
                    "2012-02-01T00:00:00",
                    "2012-03-01T00:00:00",
                    "2012-04-01T00:00:00",
                    "2012-05-01T00:00:00",
                    "2012-06-01T00:00:00",
                    "2012-07-01T00:00:00",
                    "2012-08-01T00:00:00",
                    "2012-09-01T00:00:00",
                    "2012-10-01T00:00:00",
                    "2012-11-01T00:00:00",
                    "2012-12-01T00:00:00",
                    "2013-01-01T00:00:00",
                    "2013-02-01T00:00:00",
                    "2013-03-01T00:00:00",
                    "2013-04-01T00:00:00",
                    "2013-05-01T00:00:00",
                    "2013-06-01T00:00:00",
                    "2013-07-01T00:00:00",
                    "2013-08-01T00:00:00",
                    "2013-09-01T00:00:00",
                    "2013-10-01T00:00:00",
                    "2013-11-01T00:00:00",
                    "2013-12-01T00:00:00",
                    "2014-01-01T00:00:00",
                    "2014-02-01T00:00:00",
                    "2014-03-01T00:00:00",
                    "2014-04-01T00:00:00",
                    "2014-05-01T00:00:00",
                    "2014-06-01T00:00:00",
                    "2014-07-01T00:00:00",
                    "2014-08-01T00:00:00",
                    "2014-09-01T00:00:00",
                    "2014-10-01T00:00:00",
                    "2014-11-01T00:00:00",
                    "2014-12-01T00:00:00",
                    "2015-01-01T00:00:00",
                    "2015-02-01T00:00:00",
                    "2015-03-01T00:00:00",
                    "2015-04-01T00:00:00",
                    "2015-05-01T00:00:00",
                    "2015-06-01T00:00:00",
                    "2015-07-01T00:00:00",
                    "2015-08-01T00:00:00",
                    "2015-09-01T00:00:00",
                    "2015-10-01T00:00:00",
                    "2015-11-01T00:00:00",
                    "2015-12-01T00:00:00",
                    "2016-01-01T00:00:00",
                    "2016-02-01T00:00:00",
                    "2016-03-01T00:00:00",
                    "2016-04-01T00:00:00",
                    "2016-05-01T00:00:00",
                    "2016-06-01T00:00:00",
                    "2016-07-01T00:00:00",
                    "2016-08-01T00:00:00",
                    "2016-09-01T00:00:00",
                    "2016-10-01T00:00:00",
                    "2016-11-01T00:00:00",
                    "2016-12-01T00:00:00",
                    "2017-01-01T00:00:00",
                    "2017-02-01T00:00:00",
                    "2017-03-01T00:00:00",
                    "2017-04-01T00:00:00",
                    "2017-05-01T00:00:00",
                    "2017-06-01T00:00:00",
                    "2017-07-01T00:00:00",
                    "2017-08-01T00:00:00",
                    "2017-09-01T00:00:00",
                    "2017-10-01T00:00:00",
                    "2017-11-01T00:00:00",
                    "2017-12-01T00:00:00",
                    "2018-01-01T00:00:00",
                    "2018-02-01T00:00:00",
                    "2018-03-01T00:00:00",
                    "2018-04-01T00:00:00",
                    "2018-05-01T00:00:00",
                    "2018-06-01T00:00:00",
                    "2018-07-01T00:00:00",
                    "2018-08-01T00:00:00",
                    "2018-09-01T00:00:00",
                    "2018-10-01T00:00:00",
                    "2018-11-01T00:00:00",
                    "2018-12-01T00:00:00",
                    "2019-01-01T00:00:00",
                    "2019-02-01T00:00:00",
                    "2019-03-01T00:00:00",
                    "2019-04-01T00:00:00",
                    "2019-05-01T00:00:00",
                    "2019-06-01T00:00:00",
                    "2019-07-01T00:00:00",
                    "2019-08-01T00:00:00",
                    "2019-09-01T00:00:00",
                    "2019-10-01T00:00:00",
                    "2019-11-01T00:00:00",
                    "2019-12-01T00:00:00",
                    "2020-01-01T00:00:00",
                    "2020-02-01T00:00:00",
                    "2020-03-01T00:00:00",
                    "2020-04-01T00:00:00",
                    "2020-05-01T00:00:00",
                    "2020-06-01T00:00:00",
                    "2020-07-01T00:00:00",
                    "2020-08-01T00:00:00",
                    "2020-09-01T00:00:00",
                    "2020-10-01T00:00:00",
                    "2020-11-01T00:00:00",
                    "2020-12-01T00:00:00",
                    "2021-01-01T00:00:00",
                    "2021-02-01T00:00:00",
                    "2021-03-01T00:00:00",
                    "2021-04-01T00:00:00",
                    "2021-05-01T00:00:00",
                    "2021-06-01T00:00:00",
                    "2021-07-01T00:00:00",
                    "2021-08-01T00:00:00",
                    "2021-09-01T00:00:00",
                    "2021-10-01T00:00:00",
                    "2021-11-01T00:00:00",
                    "2021-12-01T00:00:00",
                    "2022-01-01T00:00:00",
                    "2022-02-01T00:00:00",
                    "2022-03-01T00:00:00",
                    "2022-04-01T00:00:00",
                    "2022-05-01T00:00:00",
                    "2022-06-01T00:00:00",
                    "2022-07-01T00:00:00",
                    "2022-08-01T00:00:00",
                    "2022-09-01T00:00:00",
                    "2022-10-01T00:00:00",
                    "2022-11-01T00:00:00",
                    "2022-12-01T00:00:00",
                    "2023-01-01T00:00:00",
                    "2023-02-01T00:00:00",
                    "2023-03-01T00:00:00",
                    "2023-04-01T00:00:00",
                    "2023-05-01T00:00:00",
                    "2023-06-01T00:00:00",
                    "2023-07-01T00:00:00",
                    "2023-08-01T00:00:00",
                    "2023-09-01T00:00:00",
                    "2023-10-01T00:00:00",
                    "2023-11-01T00:00:00",
                    "2023-12-01T00:00:00",
                    "2024-01-01T00:00:00",
                    "2024-02-01T00:00:00",
                    "2024-03-01T00:00:00",
                    "2024-04-01T00:00:00",
                    "2024-05-01T00:00:00",
                    "2024-06-01T00:00:00",
                    "2024-07-01T00:00:00",
                    "2024-08-01T00:00:00",
                    "2024-09-01T00:00:00",
                    "2024-10-01T00:00:00",
                    "2024-11-01T00:00:00",
                    "2024-12-01T00:00:00",
                    "2025-01-01T00:00:00",
                    "2025-02-01T00:00:00",
                    "2025-03-01T00:00:00"
                  ],
                  "xaxis": "x",
                  "y": {
                    "bdata": "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",
                    "dtype": "f8"
                  },
                  "yaxis": "y"
                }
              ],
              "layout": {
                "legend": {
                  "tracegroupgap": 0
                },
                "template": {
                  "data": {
                    "bar": [
                      {
                        "error_x": {
                          "color": "#2a3f5f"
                        },
                        "error_y": {
                          "color": "#2a3f5f"
                        },
                        "marker": {
                          "line": {
                            "color": "#E5ECF6",
                            "width": 0.5
                          },
                          "pattern": {
                            "fillmode": "overlay",
                            "size": 10,
                            "solidity": 0.2
                          }
                        },
                        "type": "bar"
                      }
                    ],
                    "barpolar": [
                      {
                        "marker": {
                          "line": {
                            "color": "#E5ECF6",
                            "width": 0.5
                          },
                          "pattern": {
                            "fillmode": "overlay",
                            "size": 10,
                            "solidity": 0.2
                          }
                        },
                        "type": "barpolar"
                      }
                    ],
                    "carpet": [
                      {
                        "aaxis": {
                          "endlinecolor": "#2a3f5f",
                          "gridcolor": "white",
                          "linecolor": "white",
                          "minorgridcolor": "white",
                          "startlinecolor": "#2a3f5f"
                        },
                        "baxis": {
                          "endlinecolor": "#2a3f5f",
                          "gridcolor": "white",
                          "linecolor": "white",
                          "minorgridcolor": "white",
                          "startlinecolor": "#2a3f5f"
                        },
                        "type": "carpet"
                      }
                    ],
                    "choropleth": [
                      {
                        "colorbar": {
                          "outlinewidth": 0,
                          "ticks": ""
                        },
                        "type": "choropleth"
                      }
                    ],
                    "contour": [
                      {
                        "colorbar": {
                          "outlinewidth": 0,
                          "ticks": ""
                        },
                        "colorscale": [
                          [
                            0,
                            "#0d0887"
                          ],
                          [
                            0.1111111111111111,
                            "#46039f"
                          ],
                          [
                            0.2222222222222222,
                            "#7201a8"
                          ],
                          [
                            0.3333333333333333,
                            "#9c179e"
                          ],
                          [
                            0.4444444444444444,
                            "#bd3786"
                          ],
                          [
                            0.5555555555555556,
                            "#d8576b"
                          ],
                          [
                            0.6666666666666666,
                            "#ed7953"
                          ],
                          [
                            0.7777777777777778,
                            "#fb9f3a"
                          ],
                          [
                            0.8888888888888888,
                            "#fdca26"
                          ],
                          [
                            1,
                            "#f0f921"
                          ]
                        ],
                        "type": "contour"
                      }
                    ],
                    "contourcarpet": [
                      {
                        "colorbar": {
                          "outlinewidth": 0,
                          "ticks": ""
                        },
                        "type": "contourcarpet"
                      }
                    ],
                    "heatmap": [
                      {
                        "colorbar": {
                          "outlinewidth": 0,
                          "ticks": ""
                        },
                        "colorscale": [
                          [
                            0,
                            "#0d0887"
                          ],
                          [
                            0.1111111111111111,
                            "#46039f"
                          ],
                          [
                            0.2222222222222222,
                            "#7201a8"
                          ],
                          [
                            0.3333333333333333,
                            "#9c179e"
                          ],
                          [
                            0.4444444444444444,
                            "#bd3786"
                          ],
                          [
                            0.5555555555555556,
                            "#d8576b"
                          ],
                          [
                            0.6666666666666666,
                            "#ed7953"
                          ],
                          [
                            0.7777777777777778,
                            "#fb9f3a"
                          ],
                          [
                            0.8888888888888888,
                            "#fdca26"
                          ],
                          [
                            1,
                            "#f0f921"
                          ]
                        ],
                        "type": "heatmap"
                      }
                    ],
                    "histogram": [
                      {
                        "marker": {
                          "pattern": {
                            "fillmode": "overlay",
                            "size": 10,
                            "solidity": 0.2
                          }
                        },
                        "type": "histogram"
                      }
                    ],
                    "histogram2d": [
                      {
                        "colorbar": {
                          "outlinewidth": 0,
                          "ticks": ""
                        },
                        "colorscale": [
                          [
                            0,
                            "#0d0887"
                          ],
                          [
                            0.1111111111111111,
                            "#46039f"
                          ],
                          [
                            0.2222222222222222,
                            "#7201a8"
                          ],
                          [
                            0.3333333333333333,
                            "#9c179e"
                          ],
                          [
                            0.4444444444444444,
                            "#bd3786"
                          ],
                          [
                            0.5555555555555556,
                            "#d8576b"
                          ],
                          [
                            0.6666666666666666,
                            "#ed7953"
                          ],
                          [
                            0.7777777777777778,
                            "#fb9f3a"
                          ],
                          [
                            0.8888888888888888,
                            "#fdca26"
                          ],
                          [
                            1,
                            "#f0f921"
                          ]
                        ],
                        "type": "histogram2d"
                      }
                    ],
                    "histogram2dcontour": [
                      {
                        "colorbar": {
                          "outlinewidth": 0,
                          "ticks": ""
                        },
                        "colorscale": [
                          [
                            0,
                            "#0d0887"
                          ],
                          [
                            0.1111111111111111,
                            "#46039f"
                          ],
                          [
                            0.2222222222222222,
                            "#7201a8"
                          ],
                          [
                            0.3333333333333333,
                            "#9c179e"
                          ],
                          [
                            0.4444444444444444,
                            "#bd3786"
                          ],
                          [
                            0.5555555555555556,
                            "#d8576b"
                          ],
                          [
                            0.6666666666666666,
                            "#ed7953"
                          ],
                          [
                            0.7777777777777778,
                            "#fb9f3a"
                          ],
                          [
                            0.8888888888888888,
                            "#fdca26"
                          ],
                          [
                            1,
                            "#f0f921"
                          ]
                        ],
                        "type": "histogram2dcontour"
                      }
                    ],
                    "mesh3d": [
                      {
                        "colorbar": {
                          "outlinewidth": 0,
                          "ticks": ""
                        },
                        "type": "mesh3d"
                      }
                    ],
                    "parcoords": [
                      {
                        "line": {
                          "colorbar": {
                            "outlinewidth": 0,
                            "ticks": ""
                          }
                        },
                        "type": "parcoords"
                      }
                    ],
                    "pie": [
                      {
                        "automargin": true,
                        "type": "pie"
                      }
                    ],
                    "scatter": [
                      {
                        "fillpattern": {
                          "fillmode": "overlay",
                          "size": 10,
                          "solidity": 0.2
                        },
                        "type": "scatter"
                      }
                    ],
                    "scatter3d": [
                      {
                        "line": {
                          "colorbar": {
                            "outlinewidth": 0,
                            "ticks": ""
                          }
                        },
                        "marker": {
                          "colorbar": {
                            "outlinewidth": 0,
                            "ticks": ""
                          }
                        },
                        "type": "scatter3d"
                      }
                    ],
                    "scattercarpet": [
                      {
                        "marker": {
                          "colorbar": {
                            "outlinewidth": 0,
                            "ticks": ""
                          }
                        },
                        "type": "scattercarpet"
                      }
                    ],
                    "scattergeo": [
                      {
                        "marker": {
                          "colorbar": {
                            "outlinewidth": 0,
                            "ticks": ""
                          }
                        },
                        "type": "scattergeo"
                      }
                    ],
                    "scattergl": [
                      {
                        "marker": {
                          "colorbar": {
                            "outlinewidth": 0,
                            "ticks": ""
                          }
                        },
                        "type": "scattergl"
                      }
                    ],
                    "scattermap": [
                      {
                        "marker": {
                          "colorbar": {
                            "outlinewidth": 0,
                            "ticks": ""
                          }
                        },
                        "type": "scattermap"
                      }
                    ],
                    "scattermapbox": [
                      {
                        "marker": {
                          "colorbar": {
                            "outlinewidth": 0,
                            "ticks": ""
                          }
                        },
                        "type": "scattermapbox"
                      }
                    ],
                    "scatterpolar": [
                      {
                        "marker": {
                          "colorbar": {
                            "outlinewidth": 0,
                            "ticks": ""
                          }
                        },
                        "type": "scatterpolar"
                      }
                    ],
                    "scatterpolargl": [
                      {
                        "marker": {
                          "colorbar": {
                            "outlinewidth": 0,
                            "ticks": ""
                          }
                        },
                        "type": "scatterpolargl"
                      }
                    ],
                    "scatterternary": [
                      {
                        "marker": {
                          "colorbar": {
                            "outlinewidth": 0,
                            "ticks": ""
                          }
                        },
                        "type": "scatterternary"
                      }
                    ],
                    "surface": [
                      {
                        "colorbar": {
                          "outlinewidth": 0,
                          "ticks": ""
                        },
                        "colorscale": [
                          [
                            0,
                            "#0d0887"
                          ],
                          [
                            0.1111111111111111,
                            "#46039f"
                          ],
                          [
                            0.2222222222222222,
                            "#7201a8"
                          ],
                          [
                            0.3333333333333333,
                            "#9c179e"
                          ],
                          [
                            0.4444444444444444,
                            "#bd3786"
                          ],
                          [
                            0.5555555555555556,
                            "#d8576b"
                          ],
                          [
                            0.6666666666666666,
                            "#ed7953"
                          ],
                          [
                            0.7777777777777778,
                            "#fb9f3a"
                          ],
                          [
                            0.8888888888888888,
                            "#fdca26"
                          ],
                          [
                            1,
                            "#f0f921"
                          ]
                        ],
                        "type": "surface"
                      }
                    ],
                    "table": [
                      {
                        "cells": {
                          "fill": {
                            "color": "#EBF0F8"
                          },
                          "line": {
                            "color": "white"
                          }
                        },
                        "header": {
                          "fill": {
                            "color": "#C8D4E3"
                          },
                          "line": {
                            "color": "white"
                          }
                        },
                        "type": "table"
                      }
                    ]
                  },
                  "layout": {
                    "annotationdefaults": {
                      "arrowcolor": "#2a3f5f",
                      "arrowhead": 0,
                      "arrowwidth": 1
                    },
                    "autotypenumbers": "strict",
                    "coloraxis": {
                      "colorbar": {
                        "outlinewidth": 0,
                        "ticks": ""
                      }
                    },
                    "colorscale": {
                      "diverging": [
                        [
                          0,
                          "#8e0152"
                        ],
                        [
                          0.1,
                          "#c51b7d"
                        ],
                        [
                          0.2,
                          "#de77ae"
                        ],
                        [
                          0.3,
                          "#f1b6da"
                        ],
                        [
                          0.4,
                          "#fde0ef"
                        ],
                        [
                          0.5,
                          "#f7f7f7"
                        ],
                        [
                          0.6,
                          "#e6f5d0"
                        ],
                        [
                          0.7,
                          "#b8e186"
                        ],
                        [
                          0.8,
                          "#7fbc41"
                        ],
                        [
                          0.9,
                          "#4d9221"
                        ],
                        [
                          1,
                          "#276419"
                        ]
                      ],
                      "sequential": [
                        [
                          0,
                          "#0d0887"
                        ],
                        [
                          0.1111111111111111,
                          "#46039f"
                        ],
                        [
                          0.2222222222222222,
                          "#7201a8"
                        ],
                        [
                          0.3333333333333333,
                          "#9c179e"
                        ],
                        [
                          0.4444444444444444,
                          "#bd3786"
                        ],
                        [
                          0.5555555555555556,
                          "#d8576b"
                        ],
                        [
                          0.6666666666666666,
                          "#ed7953"
                        ],
                        [
                          0.7777777777777778,
                          "#fb9f3a"
                        ],
                        [
                          0.8888888888888888,
                          "#fdca26"
                        ],
                        [
                          1,
                          "#f0f921"
                        ]
                      ],
                      "sequentialminus": [
                        [
                          0,
                          "#0d0887"
                        ],
                        [
                          0.1111111111111111,
                          "#46039f"
                        ],
                        [
                          0.2222222222222222,
                          "#7201a8"
                        ],
                        [
                          0.3333333333333333,
                          "#9c179e"
                        ],
                        [
                          0.4444444444444444,
                          "#bd3786"
                        ],
                        [
                          0.5555555555555556,
                          "#d8576b"
                        ],
                        [
                          0.6666666666666666,
                          "#ed7953"
                        ],
                        [
                          0.7777777777777778,
                          "#fb9f3a"
                        ],
                        [
                          0.8888888888888888,
                          "#fdca26"
                        ],
                        [
                          1,
                          "#f0f921"
                        ]
                      ]
                    },
                    "colorway": [
                      "#636efa",
                      "#EF553B",
                      "#00cc96",
                      "#ab63fa",
                      "#FFA15A",
                      "#19d3f3",
                      "#FF6692",
                      "#B6E880",
                      "#FF97FF",
                      "#FECB52"
                    ],
                    "font": {
                      "color": "#2a3f5f"
                    },
                    "geo": {
                      "bgcolor": "white",
                      "lakecolor": "white",
                      "landcolor": "#E5ECF6",
                      "showlakes": true,
                      "showland": true,
                      "subunitcolor": "white"
                    },
                    "hoverlabel": {
                      "align": "left"
                    },
                    "hovermode": "closest",
                    "mapbox": {
                      "style": "light"
                    },
                    "paper_bgcolor": "white",
                    "plot_bgcolor": "#E5ECF6",
                    "polar": {
                      "angularaxis": {
                        "gridcolor": "white",
                        "linecolor": "white",
                        "ticks": ""
                      },
                      "bgcolor": "#E5ECF6",
                      "radialaxis": {
                        "gridcolor": "white",
                        "linecolor": "white",
                        "ticks": ""
                      }
                    },
                    "scene": {
                      "xaxis": {
                        "backgroundcolor": "#E5ECF6",
                        "gridcolor": "white",
                        "gridwidth": 2,
                        "linecolor": "white",
                        "showbackground": true,
                        "ticks": "",
                        "zerolinecolor": "white"
                      },
                      "yaxis": {
                        "backgroundcolor": "#E5ECF6",
                        "gridcolor": "white",
                        "gridwidth": 2,
                        "linecolor": "white",
                        "showbackground": true,
                        "ticks": "",
                        "zerolinecolor": "white"
                      },
                      "zaxis": {
                        "backgroundcolor": "#E5ECF6",
                        "gridcolor": "white",
                        "gridwidth": 2,
                        "linecolor": "white",
                        "showbackground": true,
                        "ticks": "",
                        "zerolinecolor": "white"
                      }
                    },
                    "shapedefaults": {
                      "line": {
                        "color": "#2a3f5f"
                      }
                    },
                    "ternary": {
                      "aaxis": {
                        "gridcolor": "white",
                        "linecolor": "white",
                        "ticks": ""
                      },
                      "baxis": {
                        "gridcolor": "white",
                        "linecolor": "white",
                        "ticks": ""
                      },
                      "bgcolor": "#E5ECF6",
                      "caxis": {
                        "gridcolor": "white",
                        "linecolor": "white",
                        "ticks": ""
                      }
                    },
                    "title": {
                      "x": 0.05
                    },
                    "xaxis": {
                      "automargin": true,
                      "gridcolor": "white",
                      "linecolor": "white",
                      "ticks": "",
                      "title": {
                        "standoff": 15
                      },
                      "zerolinecolor": "white",
                      "zerolinewidth": 2
                    },
                    "yaxis": {
                      "automargin": true,
                      "gridcolor": "white",
                      "linecolor": "white",
                      "ticks": "",
                      "title": {
                        "standoff": 15
                      },
                      "zerolinecolor": "white",
                      "zerolinewidth": 2
                    }
                  }
                },
                "title": {
                  "text": "미국 월별 천연가스 판매량 시계열"
                },
                "xaxis": {
                  "anchor": "y",
                  "domain": [
                    0,
                    1
                  ],
                  "title": {
                    "text": "날짜"
                  }
                },
                "yaxis": {
                  "anchor": "x",
                  "domain": [
                    0,
                    1
                  ],
                  "title": {
                    "text": "천연가스 판매량"
                  }
                }
              }
            }
          },
          "metadata": {},
          "output_type": "display_data"
        }
      ],
      "source": [
        "# 연습 문제 1, 2, 3번 풀이 공간\n",
        "import pandas as pd\n",
        "import plotly.express as px\n",
        "from statsmodels.tsa.stattools import adfuller\n",
        "\n",
        "# 1. 데이터 로드 및 시각화\n",
        "url = \"https://fred.stlouisfed.org/data/NATURALGAS.txt\"\n",
        "dfs = pd.read_html(url)\n",
        "df_gas = dfs[1]\n",
        "df_gas.columns = ['Month', 'Natural Gas Sales']\n",
        "df_gas['Month'] = pd.to_datetime(df_gas['Month'])\n",
        "df_gas.set_index('Month', inplace=True)\n",
        "xf"
      ]
    },
    {
      "cell_type": "code",
      "execution_count": 15,
      "metadata": {},
      "outputs": [
        {
          "name": "stdout",
          "output_type": "stream",
          "text": [
            "=== 천연가스 판매량 데이터 정상성 검정 ===\n",
            "\n",
            "원본 천연가스 판매량 데이터 ADF 검정 결과:\n",
            "ADF 통계량: 0.701901\n",
            "p-value: 0.989876\n",
            "임계값:\n",
            "  1%: -3.453262\n",
            "  5%: -2.871628\n",
            "  10%: -2.572146\n",
            "→ p-value > 0.05이므로 비정상시계열입니다. 차분이 필요합니다.\n"
          ]
        }
      ],
      "source": [
        "# 연습 문제 2, 3번 풀이 공간\n",
        "# ADF 검정 및 차분을 통한 정상성 확보\n",
        "from statsmodels.tsa.stattools import adfuller\n",
        "import numpy as np\n",
        "import plotly.express as px\n",
        "import plotly.graph_objects as go\n",
        "from plotly.subplots import make_subplots\n",
        "\n",
        "print(\"=== 천연가스 판매량 데이터 정상성 검정 ===\")\n",
        "\n",
        "# 2. 원본 데이터에 대한 ADF 검정\n",
        "def adf_test(series, title):\n",
        "    \"\"\"ADF 검정을 수행하고 결과를 출력하는 함수\"\"\"\n",
        "    result = adfuller(series.dropna())\n",
        "    print(f\"\\n{title} ADF 검정 결과:\")\n",
        "    print(f\"ADF 통계량: {result[0]:.6f}\")\n",
        "    print(f\"p-value: {result[1]:.6f}\")\n",
        "    print(\"임계값:\")\n",
        "    for key, value in result[4].items():\n",
        "        print(f\"  {key}: {value:.6f}\")\n",
        "    \n",
        "    if result[1] <= 0.05:\n",
        "        print(\"→ p-value < 0.05이므로 정상시계열입니다.\")\n",
        "        return True\n",
        "    else:\n",
        "        print(\"→ p-value > 0.05이므로 비정상시계열입니다. 차분이 필요합니다.\")\n",
        "        return False\n",
        "\n",
        "# 원본 데이터 정상성 검정\n",
        "original_stationary = adf_test(df_gas['Natural Gas Sales'], \"원본 천연가스 판매량 데이터\")"
      ]
    },
    {
      "cell_type": "code",
      "execution_count": 24,
      "metadata": {},
      "outputs": [
        {
          "name": "stdout",
          "output_type": "stream",
          "text": [
            "\n",
            "1차 차분 후:\n",
            "\n",
            "1차 차분된 천연가스 판매량 ADF 검정 결과:\n",
            "ADF 통계량: -6.294504\n",
            "p-value: 0.000000\n",
            "임계값:\n",
            "  1%: -3.453262\n",
            "  5%: -2.871628\n",
            "  10%: -2.572146\n",
            "→ p-value < 0.05이므로 정상시계열입니다.\n"
          ]
        }
      ],
      "source": [
        "# 3. 차분을 통한 정상성 확보\n",
        "# 1차 차분\n",
        "gas_diff1 = df_gas['Natural Gas Sales'].diff().dropna()\n",
        "print(\"\\n1차 차분 후:\")\n",
        "diff1_stationary = adf_test(gas_diff1, \"1차 차분된 천연가스 판매량\")"
      ]
    },
    {
      "cell_type": "code",
      "execution_count": null,
      "metadata": {},
      "outputs": [
        {
          "data": {
            "application/vnd.plotly.v1+json": {
              "config": {
                "plotlyServerURL": "https://plot.ly"
              },
              "data": [
                {
                  "line": {
                    "color": "blue"
                  },
                  "name": "원본 데이터",
                  "type": "scatter",
                  "x": [
                    "2000-01-01T00:00:00",
                    "2000-02-01T00:00:00",
                    "2000-03-01T00:00:00",
                    "2000-04-01T00:00:00",
                    "2000-05-01T00:00:00",
                    "2000-06-01T00:00:00",
                    "2000-07-01T00:00:00",
                    "2000-08-01T00:00:00",
                    "2000-09-01T00:00:00",
                    "2000-10-01T00:00:00",
                    "2000-11-01T00:00:00",
                    "2000-12-01T00:00:00",
                    "2001-01-01T00:00:00",
                    "2001-02-01T00:00:00",
                    "2001-03-01T00:00:00",
                    "2001-04-01T00:00:00",
                    "2001-05-01T00:00:00",
                    "2001-06-01T00:00:00",
                    "2001-07-01T00:00:00",
                    "2001-08-01T00:00:00",
                    "2001-09-01T00:00:00",
                    "2001-10-01T00:00:00",
                    "2001-11-01T00:00:00",
                    "2001-12-01T00:00:00",
                    "2002-01-01T00:00:00",
                    "2002-02-01T00:00:00",
                    "2002-03-01T00:00:00",
                    "2002-04-01T00:00:00",
                    "2002-05-01T00:00:00",
                    "2002-06-01T00:00:00",
                    "2002-07-01T00:00:00",
                    "2002-08-01T00:00:00",
                    "2002-09-01T00:00:00",
                    "2002-10-01T00:00:00",
                    "2002-11-01T00:00:00",
                    "2002-12-01T00:00:00",
                    "2003-01-01T00:00:00",
                    "2003-02-01T00:00:00",
                    "2003-03-01T00:00:00",
                    "2003-04-01T00:00:00",
                    "2003-05-01T00:00:00",
                    "2003-06-01T00:00:00",
                    "2003-07-01T00:00:00",
                    "2003-08-01T00:00:00",
                    "2003-09-01T00:00:00",
                    "2003-10-01T00:00:00",
                    "2003-11-01T00:00:00",
                    "2003-12-01T00:00:00",
                    "2004-01-01T00:00:00",
                    "2004-02-01T00:00:00",
                    "2004-03-01T00:00:00",
                    "2004-04-01T00:00:00",
                    "2004-05-01T00:00:00",
                    "2004-06-01T00:00:00",
                    "2004-07-01T00:00:00",
                    "2004-08-01T00:00:00",
                    "2004-09-01T00:00:00",
                    "2004-10-01T00:00:00",
                    "2004-11-01T00:00:00",
                    "2004-12-01T00:00:00",
                    "2005-01-01T00:00:00",
                    "2005-02-01T00:00:00",
                    "2005-03-01T00:00:00",
                    "2005-04-01T00:00:00",
                    "2005-05-01T00:00:00",
                    "2005-06-01T00:00:00",
                    "2005-07-01T00:00:00",
                    "2005-08-01T00:00:00",
                    "2005-09-01T00:00:00",
                    "2005-10-01T00:00:00",
                    "2005-11-01T00:00:00",
                    "2005-12-01T00:00:00",
                    "2006-01-01T00:00:00",
                    "2006-02-01T00:00:00",
                    "2006-03-01T00:00:00",
                    "2006-04-01T00:00:00",
                    "2006-05-01T00:00:00",
                    "2006-06-01T00:00:00",
                    "2006-07-01T00:00:00",
                    "2006-08-01T00:00:00",
                    "2006-09-01T00:00:00",
                    "2006-10-01T00:00:00",
                    "2006-11-01T00:00:00",
                    "2006-12-01T00:00:00",
                    "2007-01-01T00:00:00",
                    "2007-02-01T00:00:00",
                    "2007-03-01T00:00:00",
                    "2007-04-01T00:00:00",
                    "2007-05-01T00:00:00",
                    "2007-06-01T00:00:00",
                    "2007-07-01T00:00:00",
                    "2007-08-01T00:00:00",
                    "2007-09-01T00:00:00",
                    "2007-10-01T00:00:00",
                    "2007-11-01T00:00:00",
                    "2007-12-01T00:00:00",
                    "2008-01-01T00:00:00",
                    "2008-02-01T00:00:00",
                    "2008-03-01T00:00:00",
                    "2008-04-01T00:00:00",
                    "2008-05-01T00:00:00",
                    "2008-06-01T00:00:00",
                    "2008-07-01T00:00:00",
                    "2008-08-01T00:00:00",
                    "2008-09-01T00:00:00",
                    "2008-10-01T00:00:00",
                    "2008-11-01T00:00:00",
                    "2008-12-01T00:00:00",
                    "2009-01-01T00:00:00",
                    "2009-02-01T00:00:00",
                    "2009-03-01T00:00:00",
                    "2009-04-01T00:00:00",
                    "2009-05-01T00:00:00",
                    "2009-06-01T00:00:00",
                    "2009-07-01T00:00:00",
                    "2009-08-01T00:00:00",
                    "2009-09-01T00:00:00",
                    "2009-10-01T00:00:00",
                    "2009-11-01T00:00:00",
                    "2009-12-01T00:00:00",
                    "2010-01-01T00:00:00",
                    "2010-02-01T00:00:00",
                    "2010-03-01T00:00:00",
                    "2010-04-01T00:00:00",
                    "2010-05-01T00:00:00",
                    "2010-06-01T00:00:00",
                    "2010-07-01T00:00:00",
                    "2010-08-01T00:00:00",
                    "2010-09-01T00:00:00",
                    "2010-10-01T00:00:00",
                    "2010-11-01T00:00:00",
                    "2010-12-01T00:00:00",
                    "2011-01-01T00:00:00",
                    "2011-02-01T00:00:00",
                    "2011-03-01T00:00:00",
                    "2011-04-01T00:00:00",
                    "2011-05-01T00:00:00",
                    "2011-06-01T00:00:00",
                    "2011-07-01T00:00:00",
                    "2011-08-01T00:00:00",
                    "2011-09-01T00:00:00",
                    "2011-10-01T00:00:00",
                    "2011-11-01T00:00:00",
                    "2011-12-01T00:00:00",
                    "2012-01-01T00:00:00",
                    "2012-02-01T00:00:00",
                    "2012-03-01T00:00:00",
                    "2012-04-01T00:00:00",
                    "2012-05-01T00:00:00",
                    "2012-06-01T00:00:00",
                    "2012-07-01T00:00:00",
                    "2012-08-01T00:00:00",
                    "2012-09-01T00:00:00",
                    "2012-10-01T00:00:00",
                    "2012-11-01T00:00:00",
                    "2012-12-01T00:00:00",
                    "2013-01-01T00:00:00",
                    "2013-02-01T00:00:00",
                    "2013-03-01T00:00:00",
                    "2013-04-01T00:00:00",
                    "2013-05-01T00:00:00",
                    "2013-06-01T00:00:00",
                    "2013-07-01T00:00:00",
                    "2013-08-01T00:00:00",
                    "2013-09-01T00:00:00",
                    "2013-10-01T00:00:00",
                    "2013-11-01T00:00:00",
                    "2013-12-01T00:00:00",
                    "2014-01-01T00:00:00",
                    "2014-02-01T00:00:00",
                    "2014-03-01T00:00:00",
                    "2014-04-01T00:00:00",
                    "2014-05-01T00:00:00",
                    "2014-06-01T00:00:00",
                    "2014-07-01T00:00:00",
                    "2014-08-01T00:00:00",
                    "2014-09-01T00:00:00",
                    "2014-10-01T00:00:00",
                    "2014-11-01T00:00:00",
                    "2014-12-01T00:00:00",
                    "2015-01-01T00:00:00",
                    "2015-02-01T00:00:00",
                    "2015-03-01T00:00:00",
                    "2015-04-01T00:00:00",
                    "2015-05-01T00:00:00",
                    "2015-06-01T00:00:00",
                    "2015-07-01T00:00:00",
                    "2015-08-01T00:00:00",
                    "2015-09-01T00:00:00",
                    "2015-10-01T00:00:00",
                    "2015-11-01T00:00:00",
                    "2015-12-01T00:00:00",
                    "2016-01-01T00:00:00",
                    "2016-02-01T00:00:00",
                    "2016-03-01T00:00:00",
                    "2016-04-01T00:00:00",
                    "2016-05-01T00:00:00",
                    "2016-06-01T00:00:00",
                    "2016-07-01T00:00:00",
                    "2016-08-01T00:00:00",
                    "2016-09-01T00:00:00",
                    "2016-10-01T00:00:00",
                    "2016-11-01T00:00:00",
                    "2016-12-01T00:00:00",
                    "2017-01-01T00:00:00",
                    "2017-02-01T00:00:00",
                    "2017-03-01T00:00:00",
                    "2017-04-01T00:00:00",
                    "2017-05-01T00:00:00",
                    "2017-06-01T00:00:00",
                    "2017-07-01T00:00:00",
                    "2017-08-01T00:00:00",
                    "2017-09-01T00:00:00",
                    "2017-10-01T00:00:00",
                    "2017-11-01T00:00:00",
                    "2017-12-01T00:00:00",
                    "2018-01-01T00:00:00",
                    "2018-02-01T00:00:00",
                    "2018-03-01T00:00:00",
                    "2018-04-01T00:00:00",
                    "2018-05-01T00:00:00",
                    "2018-06-01T00:00:00",
                    "2018-07-01T00:00:00",
                    "2018-08-01T00:00:00",
                    "2018-09-01T00:00:00",
                    "2018-10-01T00:00:00",
                    "2018-11-01T00:00:00",
                    "2018-12-01T00:00:00",
                    "2019-01-01T00:00:00",
                    "2019-02-01T00:00:00",
                    "2019-03-01T00:00:00",
                    "2019-04-01T00:00:00",
                    "2019-05-01T00:00:00",
                    "2019-06-01T00:00:00",
                    "2019-07-01T00:00:00",
                    "2019-08-01T00:00:00",
                    "2019-09-01T00:00:00",
                    "2019-10-01T00:00:00",
                    "2019-11-01T00:00:00",
                    "2019-12-01T00:00:00",
                    "2020-01-01T00:00:00",
                    "2020-02-01T00:00:00",
                    "2020-03-01T00:00:00",
                    "2020-04-01T00:00:00",
                    "2020-05-01T00:00:00",
                    "2020-06-01T00:00:00",
                    "2020-07-01T00:00:00",
                    "2020-08-01T00:00:00",
                    "2020-09-01T00:00:00",
                    "2020-10-01T00:00:00",
                    "2020-11-01T00:00:00",
                    "2020-12-01T00:00:00",
                    "2021-01-01T00:00:00",
                    "2021-02-01T00:00:00",
                    "2021-03-01T00:00:00",
                    "2021-04-01T00:00:00",
                    "2021-05-01T00:00:00",
                    "2021-06-01T00:00:00",
                    "2021-07-01T00:00:00",
                    "2021-08-01T00:00:00",
                    "2021-09-01T00:00:00",
                    "2021-10-01T00:00:00",
                    "2021-11-01T00:00:00",
                    "2021-12-01T00:00:00",
                    "2022-01-01T00:00:00",
                    "2022-02-01T00:00:00",
                    "2022-03-01T00:00:00",
                    "2022-04-01T00:00:00",
                    "2022-05-01T00:00:00",
                    "2022-06-01T00:00:00",
                    "2022-07-01T00:00:00",
                    "2022-08-01T00:00:00",
                    "2022-09-01T00:00:00",
                    "2022-10-01T00:00:00",
                    "2022-11-01T00:00:00",
                    "2022-12-01T00:00:00",
                    "2023-01-01T00:00:00",
                    "2023-02-01T00:00:00",
                    "2023-03-01T00:00:00",
                    "2023-04-01T00:00:00",
                    "2023-05-01T00:00:00",
                    "2023-06-01T00:00:00",
                    "2023-07-01T00:00:00",
                    "2023-08-01T00:00:00",
                    "2023-09-01T00:00:00",
                    "2023-10-01T00:00:00",
                    "2023-11-01T00:00:00",
                    "2023-12-01T00:00:00",
                    "2024-01-01T00:00:00",
                    "2024-02-01T00:00:00",
                    "2024-03-01T00:00:00",
                    "2024-04-01T00:00:00",
                    "2024-05-01T00:00:00",
                    "2024-06-01T00:00:00",
                    "2024-07-01T00:00:00",
                    "2024-08-01T00:00:00",
                    "2024-09-01T00:00:00",
                    "2024-10-01T00:00:00",
                    "2024-11-01T00:00:00",
                    "2024-12-01T00:00:00",
                    "2025-01-01T00:00:00",
                    "2025-02-01T00:00:00",
                    "2025-03-01T00:00:00"
                  ],
                  "xaxis": "x",
                  "y": {
                    "bdata": "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",
                    "dtype": "f8"
                  },
                  "yaxis": "y"
                },
                {
                  "line": {
                    "color": "red"
                  },
                  "name": "1차 차분",
                  "type": "scatter",
                  "x": [
                    "2000-02-01T00:00:00",
                    "2000-03-01T00:00:00",
                    "2000-04-01T00:00:00",
                    "2000-05-01T00:00:00",
                    "2000-06-01T00:00:00",
                    "2000-07-01T00:00:00",
                    "2000-08-01T00:00:00",
                    "2000-09-01T00:00:00",
                    "2000-10-01T00:00:00",
                    "2000-11-01T00:00:00",
                    "2000-12-01T00:00:00",
                    "2001-01-01T00:00:00",
                    "2001-02-01T00:00:00",
                    "2001-03-01T00:00:00",
                    "2001-04-01T00:00:00",
                    "2001-05-01T00:00:00",
                    "2001-06-01T00:00:00",
                    "2001-07-01T00:00:00",
                    "2001-08-01T00:00:00",
                    "2001-09-01T00:00:00",
                    "2001-10-01T00:00:00",
                    "2001-11-01T00:00:00",
                    "2001-12-01T00:00:00",
                    "2002-01-01T00:00:00",
                    "2002-02-01T00:00:00",
                    "2002-03-01T00:00:00",
                    "2002-04-01T00:00:00",
                    "2002-05-01T00:00:00",
                    "2002-06-01T00:00:00",
                    "2002-07-01T00:00:00",
                    "2002-08-01T00:00:00",
                    "2002-09-01T00:00:00",
                    "2002-10-01T00:00:00",
                    "2002-11-01T00:00:00",
                    "2002-12-01T00:00:00",
                    "2003-01-01T00:00:00",
                    "2003-02-01T00:00:00",
                    "2003-03-01T00:00:00",
                    "2003-04-01T00:00:00",
                    "2003-05-01T00:00:00",
                    "2003-06-01T00:00:00",
                    "2003-07-01T00:00:00",
                    "2003-08-01T00:00:00",
                    "2003-09-01T00:00:00",
                    "2003-10-01T00:00:00",
                    "2003-11-01T00:00:00",
                    "2003-12-01T00:00:00",
                    "2004-01-01T00:00:00",
                    "2004-02-01T00:00:00",
                    "2004-03-01T00:00:00",
                    "2004-04-01T00:00:00",
                    "2004-05-01T00:00:00",
                    "2004-06-01T00:00:00",
                    "2004-07-01T00:00:00",
                    "2004-08-01T00:00:00",
                    "2004-09-01T00:00:00",
                    "2004-10-01T00:00:00",
                    "2004-11-01T00:00:00",
                    "2004-12-01T00:00:00",
                    "2005-01-01T00:00:00",
                    "2005-02-01T00:00:00",
                    "2005-03-01T00:00:00",
                    "2005-04-01T00:00:00",
                    "2005-05-01T00:00:00",
                    "2005-06-01T00:00:00",
                    "2005-07-01T00:00:00",
                    "2005-08-01T00:00:00",
                    "2005-09-01T00:00:00",
                    "2005-10-01T00:00:00",
                    "2005-11-01T00:00:00",
                    "2005-12-01T00:00:00",
                    "2006-01-01T00:00:00",
                    "2006-02-01T00:00:00",
                    "2006-03-01T00:00:00",
                    "2006-04-01T00:00:00",
                    "2006-05-01T00:00:00",
                    "2006-06-01T00:00:00",
                    "2006-07-01T00:00:00",
                    "2006-08-01T00:00:00",
                    "2006-09-01T00:00:00",
                    "2006-10-01T00:00:00",
                    "2006-11-01T00:00:00",
                    "2006-12-01T00:00:00",
                    "2007-01-01T00:00:00",
                    "2007-02-01T00:00:00",
                    "2007-03-01T00:00:00",
                    "2007-04-01T00:00:00",
                    "2007-05-01T00:00:00",
                    "2007-06-01T00:00:00",
                    "2007-07-01T00:00:00",
                    "2007-08-01T00:00:00",
                    "2007-09-01T00:00:00",
                    "2007-10-01T00:00:00",
                    "2007-11-01T00:00:00",
                    "2007-12-01T00:00:00",
                    "2008-01-01T00:00:00",
                    "2008-02-01T00:00:00",
                    "2008-03-01T00:00:00",
                    "2008-04-01T00:00:00",
                    "2008-05-01T00:00:00",
                    "2008-06-01T00:00:00",
                    "2008-07-01T00:00:00",
                    "2008-08-01T00:00:00",
                    "2008-09-01T00:00:00",
                    "2008-10-01T00:00:00",
                    "2008-11-01T00:00:00",
                    "2008-12-01T00:00:00",
                    "2009-01-01T00:00:00",
                    "2009-02-01T00:00:00",
                    "2009-03-01T00:00:00",
                    "2009-04-01T00:00:00",
                    "2009-05-01T00:00:00",
                    "2009-06-01T00:00:00",
                    "2009-07-01T00:00:00",
                    "2009-08-01T00:00:00",
                    "2009-09-01T00:00:00",
                    "2009-10-01T00:00:00",
                    "2009-11-01T00:00:00",
                    "2009-12-01T00:00:00",
                    "2010-01-01T00:00:00",
                    "2010-02-01T00:00:00",
                    "2010-03-01T00:00:00",
                    "2010-04-01T00:00:00",
                    "2010-05-01T00:00:00",
                    "2010-06-01T00:00:00",
                    "2010-07-01T00:00:00",
                    "2010-08-01T00:00:00",
                    "2010-09-01T00:00:00",
                    "2010-10-01T00:00:00",
                    "2010-11-01T00:00:00",
                    "2010-12-01T00:00:00",
                    "2011-01-01T00:00:00",
                    "2011-02-01T00:00:00",
                    "2011-03-01T00:00:00",
                    "2011-04-01T00:00:00",
                    "2011-05-01T00:00:00",
                    "2011-06-01T00:00:00",
                    "2011-07-01T00:00:00",
                    "2011-08-01T00:00:00",
                    "2011-09-01T00:00:00",
                    "2011-10-01T00:00:00",
                    "2011-11-01T00:00:00",
                    "2011-12-01T00:00:00",
                    "2012-01-01T00:00:00",
                    "2012-02-01T00:00:00",
                    "2012-03-01T00:00:00",
                    "2012-04-01T00:00:00",
                    "2012-05-01T00:00:00",
                    "2012-06-01T00:00:00",
                    "2012-07-01T00:00:00",
                    "2012-08-01T00:00:00",
                    "2012-09-01T00:00:00",
                    "2012-10-01T00:00:00",
                    "2012-11-01T00:00:00",
                    "2012-12-01T00:00:00",
                    "2013-01-01T00:00:00",
                    "2013-02-01T00:00:00",
                    "2013-03-01T00:00:00",
                    "2013-04-01T00:00:00",
                    "2013-05-01T00:00:00",
                    "2013-06-01T00:00:00",
                    "2013-07-01T00:00:00",
                    "2013-08-01T00:00:00",
                    "2013-09-01T00:00:00",
                    "2013-10-01T00:00:00",
                    "2013-11-01T00:00:00",
                    "2013-12-01T00:00:00",
                    "2014-01-01T00:00:00",
                    "2014-02-01T00:00:00",
                    "2014-03-01T00:00:00",
                    "2014-04-01T00:00:00",
                    "2014-05-01T00:00:00",
                    "2014-06-01T00:00:00",
                    "2014-07-01T00:00:00",
                    "2014-08-01T00:00:00",
                    "2014-09-01T00:00:00",
                    "2014-10-01T00:00:00",
                    "2014-11-01T00:00:00",
                    "2014-12-01T00:00:00",
                    "2015-01-01T00:00:00",
                    "2015-02-01T00:00:00",
                    "2015-03-01T00:00:00",
                    "2015-04-01T00:00:00",
                    "2015-05-01T00:00:00",
                    "2015-06-01T00:00:00",
                    "2015-07-01T00:00:00",
                    "2015-08-01T00:00:00",
                    "2015-09-01T00:00:00",
                    "2015-10-01T00:00:00",
                    "2015-11-01T00:00:00",
                    "2015-12-01T00:00:00",
                    "2016-01-01T00:00:00",
                    "2016-02-01T00:00:00",
                    "2016-03-01T00:00:00",
                    "2016-04-01T00:00:00",
                    "2016-05-01T00:00:00",
                    "2016-06-01T00:00:00",
                    "2016-07-01T00:00:00",
                    "2016-08-01T00:00:00",
                    "2016-09-01T00:00:00",
                    "2016-10-01T00:00:00",
                    "2016-11-01T00:00:00",
                    "2016-12-01T00:00:00",
                    "2017-01-01T00:00:00",
                    "2017-02-01T00:00:00",
                    "2017-03-01T00:00:00",
                    "2017-04-01T00:00:00",
                    "2017-05-01T00:00:00",
                    "2017-06-01T00:00:00",
                    "2017-07-01T00:00:00",
                    "2017-08-01T00:00:00",
                    "2017-09-01T00:00:00",
                    "2017-10-01T00:00:00",
                    "2017-11-01T00:00:00",
                    "2017-12-01T00:00:00",
                    "2018-01-01T00:00:00",
                    "2018-02-01T00:00:00",
                    "2018-03-01T00:00:00",
                    "2018-04-01T00:00:00",
                    "2018-05-01T00:00:00",
                    "2018-06-01T00:00:00",
                    "2018-07-01T00:00:00",
                    "2018-08-01T00:00:00",
                    "2018-09-01T00:00:00",
                    "2018-10-01T00:00:00",
                    "2018-11-01T00:00:00",
                    "2018-12-01T00:00:00",
                    "2019-01-01T00:00:00",
                    "2019-02-01T00:00:00",
                    "2019-03-01T00:00:00",
                    "2019-04-01T00:00:00",
                    "2019-05-01T00:00:00",
                    "2019-06-01T00:00:00",
                    "2019-07-01T00:00:00",
                    "2019-08-01T00:00:00",
                    "2019-09-01T00:00:00",
                    "2019-10-01T00:00:00",
                    "2019-11-01T00:00:00",
                    "2019-12-01T00:00:00",
                    "2020-01-01T00:00:00",
                    "2020-02-01T00:00:00",
                    "2020-03-01T00:00:00",
                    "2020-04-01T00:00:00",
                    "2020-05-01T00:00:00",
                    "2020-06-01T00:00:00",
                    "2020-07-01T00:00:00",
                    "2020-08-01T00:00:00",
                    "2020-09-01T00:00:00",
                    "2020-10-01T00:00:00",
                    "2020-11-01T00:00:00",
                    "2020-12-01T00:00:00",
                    "2021-01-01T00:00:00",
                    "2021-02-01T00:00:00",
                    "2021-03-01T00:00:00",
                    "2021-04-01T00:00:00",
                    "2021-05-01T00:00:00",
                    "2021-06-01T00:00:00",
                    "2021-07-01T00:00:00",
                    "2021-08-01T00:00:00",
                    "2021-09-01T00:00:00",
                    "2021-10-01T00:00:00",
                    "2021-11-01T00:00:00",
                    "2021-12-01T00:00:00",
                    "2022-01-01T00:00:00",
                    "2022-02-01T00:00:00",
                    "2022-03-01T00:00:00",
                    "2022-04-01T00:00:00",
                    "2022-05-01T00:00:00",
                    "2022-06-01T00:00:00",
                    "2022-07-01T00:00:00",
                    "2022-08-01T00:00:00",
                    "2022-09-01T00:00:00",
                    "2022-10-01T00:00:00",
                    "2022-11-01T00:00:00",
                    "2022-12-01T00:00:00",
                    "2023-01-01T00:00:00",
                    "2023-02-01T00:00:00",
                    "2023-03-01T00:00:00",
                    "2023-04-01T00:00:00",
                    "2023-05-01T00:00:00",
                    "2023-06-01T00:00:00",
                    "2023-07-01T00:00:00",
                    "2023-08-01T00:00:00",
                    "2023-09-01T00:00:00",
                    "2023-10-01T00:00:00",
                    "2023-11-01T00:00:00",
                    "2023-12-01T00:00:00",
                    "2024-01-01T00:00:00",
                    "2024-02-01T00:00:00",
                    "2024-03-01T00:00:00",
                    "2024-04-01T00:00:00",
                    "2024-05-01T00:00:00",
                    "2024-06-01T00:00:00",
                    "2024-07-01T00:00:00",
                    "2024-08-01T00:00:00",
                    "2024-09-01T00:00:00",
                    "2024-10-01T00:00:00",
                    "2024-11-01T00:00:00",
                    "2024-12-01T00:00:00",
                    "2025-01-01T00:00:00",
                    "2025-02-01T00:00:00",
                    "2025-03-01T00:00:00"
                  ],
                  "xaxis": "x2",
                  "y": {
                    "bdata": "oJmZmZl5ZsCYmZmZmYFxwMzMzMzMtHDAyMzMzMzMYsBAMzMzM/NdwAAAAAAAAClAAAAAAADgX0AwMzMzM0NmwDAzMzMzM1dANDMzMzNLdUAAAAAAADiFQAAAAAAAYFZAAAAAAAD4dsBAMzMzM3NPwGRmZmZmdnvAzMzMzMzMccAAAAAAAIBTwGBmZmZmNmNAcGZmZmbGUUA4MzMzM+NlwAAAAAAAYGNAQDMzMzPzSUAwMzMzMzN6QGhmZmZm9nZAYGZmZmambsAAAAAAAAAwQGhmZmZmlnfAmJmZmZnZcMAAAAAAAAA0wAAAAAAAoGNAQDMzMzOzNsAAAAAAAPBmwNDMzMzM7FlAMDMzMzO7cEDQzMzMzBR9QJiZmZmZGXRAYGZmZmYGacBoZmZmZuZywGhmZmZmZnzAmJmZmZmZbMCYmZmZmUliwDAzMzMzA21AwMzMzMyMSUAAAAAAAOBrwHBmZmZmJl9AyMzMzMwMaUCYmZmZmeF/QKCZmZmZwXlAcGZmZmaWZMAwMzMzM6N5wDQzMzMzO3bAaGZmZmaGZcAwMzMzM1NWwNDMzMzMTFlAAJqZmZmZG8AwMzMzM/NXwAAAAAAAwFJAMDMzMzMzbEAyMzMzMweBQHBmZmZmRm1AaGZmZmbuc8CAmZmZmZlCwGhmZmZmDn7AoJmZmZlJacAAAAAAAAAnQAAAAAAAEGNAAAAAAAAAIUCYmZmZmQlxwADNzMzMzBZAaGZmZmZmbUAAAAAAALiEQDAzMzMzI2TAgGZmZmbmNMAAAAAAAAAywGhmZmZm1nvAaGZmZmZWY8DAmZmZmZk4QJiZmZmZ+WlAAAAAAAAAHMCcmZmZmRlywDgzMzMzw2ZA0MzMzMxMXkBoZmZmZlZ2QMjMzMzMDHZAoJmZmZnZVkAwMzMzM2N7wDgzMzMz63PAAAAAAABgb8AAMjMzMzMPwNDMzMzMLFpAYGZmZmaGbUCYmZmZmRlzwGBmZmZmpkJAaGZmZmbWaUCYmZmZmaWBQNDMzMzM7HRAMDMzMzPTbMBwZmZmZiZswMjMzMzMZHzAAAAAAADwbsDAzMzMzMw7QJCZmZmZGVpAADMzMzOzOcAAAAAAAMBrwMjMzMzM3GVAaGZmZmYmbUCYmZmZmZWAQAAAAAAAoHRAMDMzMzPTeMCgmZmZmTlkwGRmZmZm1nrAmJmZmZmpbcDAzMzMzMw3QGhmZmZmRmBAAAAAAACgU0AAAAAAADBkwAAAAAAA4FZA0MzMzMxsW0CamZmZmV2GQGhmZmZm3nNA0MzMzMyMdMCYmZmZmSF1wJyZmZmZMXzAAAAAAACgUsCgmZmZmRlAQJiZmZmZCWZA4MzMzMyMSkDQzMzMzCxuwIBmZmZmZjtAZGZmZmZGc0CamZmZmSWHQDAzMzMz02VAMDMzMzNDe8DQzMzMzLxrwAAAAAAAWHnAMDMzMzOzY8CAMzMzMzMkwGhmZmZmJm1AAMzMzMzM9D9oZmZmZoZtwEAzMzMzM1ZAAAAAAAD4cUAAAAAAAOB/QJCZmZmZyWpAMDMzMzPzb8DIzMzMzEx3wHBmZmZm1mXAMDMzMzPTU8AAmZmZmZkVwNDMzMzMLGlAIAAAAACATsAwMzMzMzNpwJCZmZmZeVdAODMzMzOrcECYmZmZmQF1QGhmZmZmbndAoJmZmZl5c8DAzMzMzAxHwMzMzMzMTIHAAAAAAADgasAAMzMzMzMjwMjMzMzM7GZAAJyZmZmZ8T/QzMzMzAxkwDAzMzMz81hAnJmZmZkhfEA0MzMzM9+CQMjMzMzMtHFAaGZmZmbufMCQmZmZmelmwJqZmZmZoYLAAAAAAADwYsAwMzMzMzNQwDAzMzMz82BAwMzMzMwMSkAwMzMzM/NewAAAAAAA4FlANDMzMzPLe0AwMzMzMxt0QNDMzMzMPHtAoJmZmZm5Z8BgZmZmZt50wDQzMzMzO4LAaGZmZma2YsCgmZmZmdlEQJCZmZmZ+WRAAAAAAAAALsDIzMzMzOxiwAAAAAAAgFVAzMzMzMxccECYmZmZmTF1QAAAAAAAeH9AYGZmZmZ2e8AAAAAAAIBywAAAAAAACHHAEAAAAACAXcBAMzMzM3NBQMjMzMzMPGdAAM3MzMzMNUCcmZmZmUlwwICZmZmZmTbAaGZmZmZGbUA0MzMzMxeGQAAAAAAAwEdA0MzMzMzsgcBAMzMzM+NmQGhmZmZmeoLAAAAAAAAARMCAZmZmZmYyQGBmZmZm5mxAQGZmZmbmR8CgmZmZmallwAAAAAAAwFtA0MzMzMxcdECYmZmZmcWGQNDMzMzM3G9AnJmZmZmxg8AAAAAAAIBVQDAzMzMz43vAAAAAAAB4csAAMzMzMzMgQJiZmZmZ+XFAADMzMzNzQsBwZmZmZrZjwHBmZmZmNmBAmJmZmZnhekCYmZmZmblxQNDMzMzMjHpAODMzMzNTecAgMzMzM9NWwDQzMzMzW4bAoJmZmZmZU8AAZmZmZmYtwJiZmZmZKXFAAAAAAAAAREBwZmZmZnZswEAzMzMzE1lA0MzMzMzUfUBgZmZmZi54QAAAAAAAkGNAYGZmZmaOcMDQzMzMzAx1wGhmZmZm3nzA0MzMzMxcZ8AAAAAAAMBMQKCZmZmZ4XRAAAAAAAAAUMCgmZmZmeluwAAAAAAAcGRAYGZmZmaGX0DMzMzMzCyHQAAAAAAAYGJAAAAAAADwbcCYmZmZmXl8wAAAAAAACHfAYGZmZmZmY8BgZmZmZmZfQDAzMzMz82VAgDMzMzOzMkCgmZmZmaFywIBmZmZmRl5AMDMzMzObekAwMzMzMzN0QDQzMzMz74FAmJmZmZmNgMCYmZmZmelwwKCZmZmZeXrAAAAAAACAXcCgmZmZmTlTQAAAAAAACHFAgGZmZmbmNsAwMzMzMxNxwKCZmZmZOVFAmJmZmZlpeUA0MzMzMw+DQMDMzMzMDEzA0MzMzMxkdsBAMzMzM/NOQMzMzMzMsILAgGZmZmYGW8BAMzMzM3NIQNDMzMzM9HJAADIzMzMzGUCYmZmZmZFywKCZmZmZOVBAMDMzMzMLeEAAAAAAAKh1QJyZmZmZSYFAnJmZmZmRh8CQmZmZmVllwAAAAAAAKHnAwJmZmZnZT8CgmZmZmVlYQGhmZmZmtnNAgJmZmZmZPsBoZmZmZq5ywACamZmZmSpAyMzMzMx8cUBoZmZmZiqEQMzMzMzMrIFAAAAAAABYhcDQzMzMzHR9wA==",
                    "dtype": "f8"
                  },
                  "yaxis": "y2"
                }
              ],
              "layout": {
                "annotations": [
                  {
                    "font": {
                      "size": 16
                    },
                    "showarrow": false,
                    "text": "원본 데이터",
                    "x": 0.225,
                    "xanchor": "center",
                    "xref": "paper",
                    "y": 1,
                    "yanchor": "bottom",
                    "yref": "paper"
                  },
                  {
                    "font": {
                      "size": 16
                    },
                    "showarrow": false,
                    "text": "1차 차분",
                    "x": 0.775,
                    "xanchor": "center",
                    "xref": "paper",
                    "y": 1,
                    "yanchor": "bottom",
                    "yref": "paper"
                  }
                ],
                "height": 400,
                "showlegend": true,
                "template": {
                  "data": {
                    "bar": [
                      {
                        "error_x": {
                          "color": "#2a3f5f"
                        },
                        "error_y": {
                          "color": "#2a3f5f"
                        },
                        "marker": {
                          "line": {
                            "color": "#E5ECF6",
                            "width": 0.5
                          },
                          "pattern": {
                            "fillmode": "overlay",
                            "size": 10,
                            "solidity": 0.2
                          }
                        },
                        "type": "bar"
                      }
                    ],
                    "barpolar": [
                      {
                        "marker": {
                          "line": {
                            "color": "#E5ECF6",
                            "width": 0.5
                          },
                          "pattern": {
                            "fillmode": "overlay",
                            "size": 10,
                            "solidity": 0.2
                          }
                        },
                        "type": "barpolar"
                      }
                    ],
                    "carpet": [
                      {
                        "aaxis": {
                          "endlinecolor": "#2a3f5f",
                          "gridcolor": "white",
                          "linecolor": "white",
                          "minorgridcolor": "white",
                          "startlinecolor": "#2a3f5f"
                        },
                        "baxis": {
                          "endlinecolor": "#2a3f5f",
                          "gridcolor": "white",
                          "linecolor": "white",
                          "minorgridcolor": "white",
                          "startlinecolor": "#2a3f5f"
                        },
                        "type": "carpet"
                      }
                    ],
                    "choropleth": [
                      {
                        "colorbar": {
                          "outlinewidth": 0,
                          "ticks": ""
                        },
                        "type": "choropleth"
                      }
                    ],
                    "contour": [
                      {
                        "colorbar": {
                          "outlinewidth": 0,
                          "ticks": ""
                        },
                        "colorscale": [
                          [
                            0,
                            "#0d0887"
                          ],
                          [
                            0.1111111111111111,
                            "#46039f"
                          ],
                          [
                            0.2222222222222222,
                            "#7201a8"
                          ],
                          [
                            0.3333333333333333,
                            "#9c179e"
                          ],
                          [
                            0.4444444444444444,
                            "#bd3786"
                          ],
                          [
                            0.5555555555555556,
                            "#d8576b"
                          ],
                          [
                            0.6666666666666666,
                            "#ed7953"
                          ],
                          [
                            0.7777777777777778,
                            "#fb9f3a"
                          ],
                          [
                            0.8888888888888888,
                            "#fdca26"
                          ],
                          [
                            1,
                            "#f0f921"
                          ]
                        ],
                        "type": "contour"
                      }
                    ],
                    "contourcarpet": [
                      {
                        "colorbar": {
                          "outlinewidth": 0,
                          "ticks": ""
                        },
                        "type": "contourcarpet"
                      }
                    ],
                    "heatmap": [
                      {
                        "colorbar": {
                          "outlinewidth": 0,
                          "ticks": ""
                        },
                        "colorscale": [
                          [
                            0,
                            "#0d0887"
                          ],
                          [
                            0.1111111111111111,
                            "#46039f"
                          ],
                          [
                            0.2222222222222222,
                            "#7201a8"
                          ],
                          [
                            0.3333333333333333,
                            "#9c179e"
                          ],
                          [
                            0.4444444444444444,
                            "#bd3786"
                          ],
                          [
                            0.5555555555555556,
                            "#d8576b"
                          ],
                          [
                            0.6666666666666666,
                            "#ed7953"
                          ],
                          [
                            0.7777777777777778,
                            "#fb9f3a"
                          ],
                          [
                            0.8888888888888888,
                            "#fdca26"
                          ],
                          [
                            1,
                            "#f0f921"
                          ]
                        ],
                        "type": "heatmap"
                      }
                    ],
                    "histogram": [
                      {
                        "marker": {
                          "pattern": {
                            "fillmode": "overlay",
                            "size": 10,
                            "solidity": 0.2
                          }
                        },
                        "type": "histogram"
                      }
                    ],
                    "histogram2d": [
                      {
                        "colorbar": {
                          "outlinewidth": 0,
                          "ticks": ""
                        },
                        "colorscale": [
                          [
                            0,
                            "#0d0887"
                          ],
                          [
                            0.1111111111111111,
                            "#46039f"
                          ],
                          [
                            0.2222222222222222,
                            "#7201a8"
                          ],
                          [
                            0.3333333333333333,
                            "#9c179e"
                          ],
                          [
                            0.4444444444444444,
                            "#bd3786"
                          ],
                          [
                            0.5555555555555556,
                            "#d8576b"
                          ],
                          [
                            0.6666666666666666,
                            "#ed7953"
                          ],
                          [
                            0.7777777777777778,
                            "#fb9f3a"
                          ],
                          [
                            0.8888888888888888,
                            "#fdca26"
                          ],
                          [
                            1,
                            "#f0f921"
                          ]
                        ],
                        "type": "histogram2d"
                      }
                    ],
                    "histogram2dcontour": [
                      {
                        "colorbar": {
                          "outlinewidth": 0,
                          "ticks": ""
                        },
                        "colorscale": [
                          [
                            0,
                            "#0d0887"
                          ],
                          [
                            0.1111111111111111,
                            "#46039f"
                          ],
                          [
                            0.2222222222222222,
                            "#7201a8"
                          ],
                          [
                            0.3333333333333333,
                            "#9c179e"
                          ],
                          [
                            0.4444444444444444,
                            "#bd3786"
                          ],
                          [
                            0.5555555555555556,
                            "#d8576b"
                          ],
                          [
                            0.6666666666666666,
                            "#ed7953"
                          ],
                          [
                            0.7777777777777778,
                            "#fb9f3a"
                          ],
                          [
                            0.8888888888888888,
                            "#fdca26"
                          ],
                          [
                            1,
                            "#f0f921"
                          ]
                        ],
                        "type": "histogram2dcontour"
                      }
                    ],
                    "mesh3d": [
                      {
                        "colorbar": {
                          "outlinewidth": 0,
                          "ticks": ""
                        },
                        "type": "mesh3d"
                      }
                    ],
                    "parcoords": [
                      {
                        "line": {
                          "colorbar": {
                            "outlinewidth": 0,
                            "ticks": ""
                          }
                        },
                        "type": "parcoords"
                      }
                    ],
                    "pie": [
                      {
                        "automargin": true,
                        "type": "pie"
                      }
                    ],
                    "scatter": [
                      {
                        "fillpattern": {
                          "fillmode": "overlay",
                          "size": 10,
                          "solidity": 0.2
                        },
                        "type": "scatter"
                      }
                    ],
                    "scatter3d": [
                      {
                        "line": {
                          "colorbar": {
                            "outlinewidth": 0,
                            "ticks": ""
                          }
                        },
                        "marker": {
                          "colorbar": {
                            "outlinewidth": 0,
                            "ticks": ""
                          }
                        },
                        "type": "scatter3d"
                      }
                    ],
                    "scattercarpet": [
                      {
                        "marker": {
                          "colorbar": {
                            "outlinewidth": 0,
                            "ticks": ""
                          }
                        },
                        "type": "scattercarpet"
                      }
                    ],
                    "scattergeo": [
                      {
                        "marker": {
                          "colorbar": {
                            "outlinewidth": 0,
                            "ticks": ""
                          }
                        },
                        "type": "scattergeo"
                      }
                    ],
                    "scattergl": [
                      {
                        "marker": {
                          "colorbar": {
                            "outlinewidth": 0,
                            "ticks": ""
                          }
                        },
                        "type": "scattergl"
                      }
                    ],
                    "scattermap": [
                      {
                        "marker": {
                          "colorbar": {
                            "outlinewidth": 0,
                            "ticks": ""
                          }
                        },
                        "type": "scattermap"
                      }
                    ],
                    "scattermapbox": [
                      {
                        "marker": {
                          "colorbar": {
                            "outlinewidth": 0,
                            "ticks": ""
                          }
                        },
                        "type": "scattermapbox"
                      }
                    ],
                    "scatterpolar": [
                      {
                        "marker": {
                          "colorbar": {
                            "outlinewidth": 0,
                            "ticks": ""
                          }
                        },
                        "type": "scatterpolar"
                      }
                    ],
                    "scatterpolargl": [
                      {
                        "marker": {
                          "colorbar": {
                            "outlinewidth": 0,
                            "ticks": ""
                          }
                        },
                        "type": "scatterpolargl"
                      }
                    ],
                    "scatterternary": [
                      {
                        "marker": {
                          "colorbar": {
                            "outlinewidth": 0,
                            "ticks": ""
                          }
                        },
                        "type": "scatterternary"
                      }
                    ],
                    "surface": [
                      {
                        "colorbar": {
                          "outlinewidth": 0,
                          "ticks": ""
                        },
                        "colorscale": [
                          [
                            0,
                            "#0d0887"
                          ],
                          [
                            0.1111111111111111,
                            "#46039f"
                          ],
                          [
                            0.2222222222222222,
                            "#7201a8"
                          ],
                          [
                            0.3333333333333333,
                            "#9c179e"
                          ],
                          [
                            0.4444444444444444,
                            "#bd3786"
                          ],
                          [
                            0.5555555555555556,
                            "#d8576b"
                          ],
                          [
                            0.6666666666666666,
                            "#ed7953"
                          ],
                          [
                            0.7777777777777778,
                            "#fb9f3a"
                          ],
                          [
                            0.8888888888888888,
                            "#fdca26"
                          ],
                          [
                            1,
                            "#f0f921"
                          ]
                        ],
                        "type": "surface"
                      }
                    ],
                    "table": [
                      {
                        "cells": {
                          "fill": {
                            "color": "#EBF0F8"
                          },
                          "line": {
                            "color": "white"
                          }
                        },
                        "header": {
                          "fill": {
                            "color": "#C8D4E3"
                          },
                          "line": {
                            "color": "white"
                          }
                        },
                        "type": "table"
                      }
                    ]
                  },
                  "layout": {
                    "annotationdefaults": {
                      "arrowcolor": "#2a3f5f",
                      "arrowhead": 0,
                      "arrowwidth": 1
                    },
                    "autotypenumbers": "strict",
                    "coloraxis": {
                      "colorbar": {
                        "outlinewidth": 0,
                        "ticks": ""
                      }
                    },
                    "colorscale": {
                      "diverging": [
                        [
                          0,
                          "#8e0152"
                        ],
                        [
                          0.1,
                          "#c51b7d"
                        ],
                        [
                          0.2,
                          "#de77ae"
                        ],
                        [
                          0.3,
                          "#f1b6da"
                        ],
                        [
                          0.4,
                          "#fde0ef"
                        ],
                        [
                          0.5,
                          "#f7f7f7"
                        ],
                        [
                          0.6,
                          "#e6f5d0"
                        ],
                        [
                          0.7,
                          "#b8e186"
                        ],
                        [
                          0.8,
                          "#7fbc41"
                        ],
                        [
                          0.9,
                          "#4d9221"
                        ],
                        [
                          1,
                          "#276419"
                        ]
                      ],
                      "sequential": [
                        [
                          0,
                          "#0d0887"
                        ],
                        [
                          0.1111111111111111,
                          "#46039f"
                        ],
                        [
                          0.2222222222222222,
                          "#7201a8"
                        ],
                        [
                          0.3333333333333333,
                          "#9c179e"
                        ],
                        [
                          0.4444444444444444,
                          "#bd3786"
                        ],
                        [
                          0.5555555555555556,
                          "#d8576b"
                        ],
                        [
                          0.6666666666666666,
                          "#ed7953"
                        ],
                        [
                          0.7777777777777778,
                          "#fb9f3a"
                        ],
                        [
                          0.8888888888888888,
                          "#fdca26"
                        ],
                        [
                          1,
                          "#f0f921"
                        ]
                      ],
                      "sequentialminus": [
                        [
                          0,
                          "#0d0887"
                        ],
                        [
                          0.1111111111111111,
                          "#46039f"
                        ],
                        [
                          0.2222222222222222,
                          "#7201a8"
                        ],
                        [
                          0.3333333333333333,
                          "#9c179e"
                        ],
                        [
                          0.4444444444444444,
                          "#bd3786"
                        ],
                        [
                          0.5555555555555556,
                          "#d8576b"
                        ],
                        [
                          0.6666666666666666,
                          "#ed7953"
                        ],
                        [
                          0.7777777777777778,
                          "#fb9f3a"
                        ],
                        [
                          0.8888888888888888,
                          "#fdca26"
                        ],
                        [
                          1,
                          "#f0f921"
                        ]
                      ]
                    },
                    "colorway": [
                      "#636efa",
                      "#EF553B",
                      "#00cc96",
                      "#ab63fa",
                      "#FFA15A",
                      "#19d3f3",
                      "#FF6692",
                      "#B6E880",
                      "#FF97FF",
                      "#FECB52"
                    ],
                    "font": {
                      "color": "#2a3f5f"
                    },
                    "geo": {
                      "bgcolor": "white",
                      "lakecolor": "white",
                      "landcolor": "#E5ECF6",
                      "showlakes": true,
                      "showland": true,
                      "subunitcolor": "white"
                    },
                    "hoverlabel": {
                      "align": "left"
                    },
                    "hovermode": "closest",
                    "mapbox": {
                      "style": "light"
                    },
                    "paper_bgcolor": "white",
                    "plot_bgcolor": "#E5ECF6",
                    "polar": {
                      "angularaxis": {
                        "gridcolor": "white",
                        "linecolor": "white",
                        "ticks": ""
                      },
                      "bgcolor": "#E5ECF6",
                      "radialaxis": {
                        "gridcolor": "white",
                        "linecolor": "white",
                        "ticks": ""
                      }
                    },
                    "scene": {
                      "xaxis": {
                        "backgroundcolor": "#E5ECF6",
                        "gridcolor": "white",
                        "gridwidth": 2,
                        "linecolor": "white",
                        "showbackground": true,
                        "ticks": "",
                        "zerolinecolor": "white"
                      },
                      "yaxis": {
                        "backgroundcolor": "#E5ECF6",
                        "gridcolor": "white",
                        "gridwidth": 2,
                        "linecolor": "white",
                        "showbackground": true,
                        "ticks": "",
                        "zerolinecolor": "white"
                      },
                      "zaxis": {
                        "backgroundcolor": "#E5ECF6",
                        "gridcolor": "white",
                        "gridwidth": 2,
                        "linecolor": "white",
                        "showbackground": true,
                        "ticks": "",
                        "zerolinecolor": "white"
                      }
                    },
                    "shapedefaults": {
                      "line": {
                        "color": "#2a3f5f"
                      }
                    },
                    "ternary": {
                      "aaxis": {
                        "gridcolor": "white",
                        "linecolor": "white",
                        "ticks": ""
                      },
                      "baxis": {
                        "gridcolor": "white",
                        "linecolor": "white",
                        "ticks": ""
                      },
                      "bgcolor": "#E5ECF6",
                      "caxis": {
                        "gridcolor": "white",
                        "linecolor": "white",
                        "ticks": ""
                      }
                    },
                    "title": {
                      "x": 0.05
                    },
                    "xaxis": {
                      "automargin": true,
                      "gridcolor": "white",
                      "linecolor": "white",
                      "ticks": "",
                      "title": {
                        "standoff": 15
                      },
                      "zerolinecolor": "white",
                      "zerolinewidth": 2
                    },
                    "yaxis": {
                      "automargin": true,
                      "gridcolor": "white",
                      "linecolor": "white",
                      "ticks": "",
                      "title": {
                        "standoff": 15
                      },
                      "zerolinecolor": "white",
                      "zerolinewidth": 2
                    }
                  }
                },
                "title": {
                  "text": "천연가스 판매량 데이터 정상성 변환 과정"
                },
                "xaxis": {
                  "anchor": "y",
                  "domain": [
                    0,
                    0.45
                  ],
                  "title": {
                    "text": "날짜"
                  }
                },
                "xaxis2": {
                  "anchor": "y2",
                  "domain": [
                    0.55,
                    1
                  ],
                  "title": {
                    "text": "날짜"
                  }
                },
                "yaxis": {
                  "anchor": "x",
                  "domain": [
                    0,
                    1
                  ],
                  "title": {
                    "text": "천연가스 판매량"
                  }
                },
                "yaxis2": {
                  "anchor": "x2",
                  "domain": [
                    0,
                    1
                  ],
                  "title": {
                    "text": "1차 차분값"
                  }
                }
              }
            }
          },
          "metadata": {},
          "output_type": "display_data"
        }
      ],
      "source": [
        "# 시각화를 위한 서브플롯 생성\n",
        "fig = make_subplots(\n",
        "    rows=2 if not diff1_stationary else 1, cols=2,\n",
        "    subplot_titles=('원본 데이터', '1차 차분', '2차 차분 (필요시)', 'ACF/PACF'),\n",
        ")\n",
        "\n",
        "# 원본 데이터 플롯\n",
        "fig.add_trace(\n",
        "    go.Scatter(x=df_gas.index, y=df_gas['Natural Gas Sales'], \n",
        "               name='원본 데이터', line=dict(color='blue')),\n",
        "    row=1, col=1\n",
        ")\n",
        "\n",
        "# 1차 차분 플롯\n",
        "fig.add_trace(\n",
        "    go.Scatter(x=gas_diff1.index, y=gas_diff1, \n",
        "               name='1차 차분', line=dict(color='red')),\n",
        "    row=1, col=2\n",
        ")\n",
        "\n",
        "# 2차 차분이 필요한 경우\n",
        "if not diff1_stationary:\n",
        "    gas_diff2 = gas_diff1.diff().dropna()\n",
        "    print(\"\\n2차 차분 후:\")\n",
        "    diff2_stationary = adf_test(gas_diff2, \"2차 차분된 천연가스 판매량\")\n",
        "    \n",
        "    # 2차 차분 플롯 추가\n",
        "    fig.add_trace(\n",
        "        go.Scatter(x=gas_diff2.index, y=gas_diff2, \n",
        "                   name='2차 차분', line=dict(color='green')),\n",
        "        row=2, col=1\n",
        "    )\n",
        "    \n",
        "    final_data = gas_diff2\n",
        "    final_title = \"2차 차분된 데이터\"\n",
        "    fig.update_xaxes(title_text=\"날짜\", row=2, col=1)\n",
        "    fig.update_yaxes(title_text=\"2차 차분값\", row=2, col=1)\n",
        "    \n",
        "else:\n",
        "    final_data = gas_diff1\n",
        "    final_title = \"1차 차분된 데이터\"\n",
        "\n",
        "# 레이아웃 업데이트\n",
        "fig.update_layout(\n",
        "    title_text=\"천연가스 판매량 데이터 정상성 변환 과정\",\n",
        "    height=800 if not diff1_stationary else 400,\n",
        "    showlegend=True\n",
        ")\n",
        "\n",
        "fig.update_xaxes(title_text=\"날짜\", row=1, col=1)\n",
        "fig.update_yaxes(title_text=\"천연가스 판매량\", row=1, col=1)\n",
        "fig.update_xaxes(title_text=\"날짜\", row=1, col=2)\n",
        "fig.update_yaxes(title_text=\"1차 차분값\", row=1, col=2)\n",
        "\n",
        "\n",
        "fig.show()"
      ]
    },
    {
      "cell_type": "code",
      "execution_count": 18,
      "metadata": {},
      "outputs": [
        {
          "name": "stdout",
          "output_type": "stream",
          "text": [
            "\n",
            "============================================================\n",
            "=== 최종 정상성 확인 결과 ===\n",
            "사용할 데이터: 1차 차분된 데이터\n",
            "데이터 포인트 수: 302\n",
            "데이터 기간: 2000-02-01 00:00:00 ~ 2025-03-01 00:00:00\n",
            "\n",
            "기술통계량:\n",
            "평균: 0.8682\n",
            "표준편차: 301.9288\n",
            "최솟값: -754.2000\n",
            "최댓값: 741.6000\n"
          ]
        }
      ],
      "source": [
        "# 최종 정상성 확인\n",
        "print(f\"\\n\" + \"=\"*60)\n",
        "print(\"=== 최종 정상성 확인 결과 ===\")\n",
        "print(f\"사용할 데이터: {final_title}\")\n",
        "print(f\"데이터 포인트 수: {len(final_data)}\")\n",
        "print(f\"데이터 기간: {final_data.index[0]} ~ {final_data.index[-1]}\")\n",
        "\n",
        "# 기술통계량 출력\n",
        "print(f\"\\n기술통계량:\")\n",
        "print(f\"평균: {final_data.mean():.4f}\")\n",
        "print(f\"표준편차: {final_data.std():.4f}\")\n",
        "print(f\"최솟값: {final_data.min():.4f}\")\n",
        "print(f\"최댓값: {final_data.max():.4f}\")\n"
      ]
    },
    {
      "cell_type": "markdown",
      "metadata": {
        "id": "u00FYsuQ5s_5"
      },
      "source": [
        "-----\n",
        "\n",
        "## 2\\. 단변량 시계열 분석 (Univariate Analysis): ARIMA\n",
        "\n",
        "### 💡 개념 (Concept)\n",
        "\n",
        "**ARIMA(AutoRegressive Integrated Moving Average)** 모델은 가장 대표적인 단변량 시계열 예측 모델입니다. 즉, 하나의 변수(y)의 과거 데이터 패턴과 오차를 학습하여 미래 값을 예측합니다. ARIMA는 세 가지 핵심 요소로 구성됩니다.\n",
        "\n",
        "  * **AR (AutoRegressive, 자기회귀)**: **과거의 값**이 현재의 값에 영향을 미친다는 아이디어에 기반합니다.\n",
        "\n",
        "      * `p`는 참고할 과거 시점의 개수를 의미합니다. (예: `p=3`이면 3개월 전 데이터까지 참고)\n",
        "      * 메타포: \"이번 달 매출은 지난달과 지지난달 매출과 비슷할 거야.\"\n",
        "        $$Y_t = \\phi_1 Y_{t-1} + \\phi_2 Y_{t-2} + \\cdots + \\phi_p Y_{t-p} + \\epsilon_t$$\n",
        "\n",
        "  * **I (Integrated, 통합)**: 비정상 시계열을 정상 시계열로 만들기 위해 필요한 **차분 횟수**를 의미합니다.\n",
        "\n",
        "      * `d`는 차분을 적용한 횟수를 나타냅니다. (d=1이면 1차 차분)\n",
        "\n",
        "  * **MA (Moving Average, 이동평균)**: **과거의 예측 오차**가 현재의 값에 영향을 미친다는 개념입니다.\n",
        "\n",
        "      * `q`는 참고할 과거 예측 오차의 개수를 의미합니다.\n",
        "      * 메타포: \"지난달 매출 예측이 빗나갔으니, 그 오차를 반영해서 이번 달 예측을 보정해야 해.\"\n",
        "        $$Y_t = \\epsilon_t + \\theta_1 \\epsilon_{t-1} + \\theta_2 \\epsilon_{t-2} + \\cdots + \\theta_q \\epsilon_{t-q}$$\n",
        "\n",
        "**ACF와 PACF: p와 q 정하기**\n",
        "ARIMA 모델의 차수 `p`와 `q`를 결정하기 위해 \\*\\*ACF(자기상관함수)\\*\\*와 **PACF(부분자기상관함수)** 플롯을 활용합니다.\n",
        "\n",
        "  * **ACF (Autocorrelation Function)**: 시점 t의 데이터와 그 이전 시점들(t-1, t-2, ...)의 데이터 간의 상관관계를 보여줍니다. **MA 모델의 차수 q를 결정**하는 데 사용됩니다.\n",
        "  * **PACF (Partial Autocorrelation Function)**: 다른 시점들의 영향을 제외하고, 오직 두 시점(t와 t-k)의 데이터 간 순수한 상관관계를 보여줍니다. **AR 모델의 차수 p를 결정**하는 데 사용됩니다.\n",
        "\n",
        "| 모델 | ACF 플롯 특징 | PACF 플롯 특징 |\n",
        "| :--- | :--- | :--- |\n",
        "| **AR(p)** | 점차 감소하며 0에 수렴 | `p` 시점 이후 급격히 0으로 절단 |\n",
        "| **MA(q)** | `q` 시점 이후 급격히 0으로 절단 | 점차 감소하며 0에 수렴 |\n",
        "\n",
        "### 💻 예시 코드 (Example Code)\n",
        "\n",
        "이번에는 `moneystock-spending-series.csv` 데이터셋을 사용하여 ARIMA 모델을 구축하고 예측을 수행합니다. 이 데이터는 M2 통화량과 개인 소비 지출 데이터로 구성되어 있습니다."
      ]
    },
    {
      "cell_type": "code",
      "execution_count": null,
      "metadata": {
        "id": "uAvqnLrJ5s_5"
      },
      "outputs": [],
      "source": [
        "import pandas as pd\n",
        "import plotly.graph_objects as go\n",
        "from plotly.subplots import make_subplots\n",
        "from statsmodels.tsa.stattools import adfuller, acf, pacf\n",
        "from statsmodels.graphics.tsaplots import plot_acf, plot_pacf\n",
        "from statsmodels.tsa.arima.model import ARIMA\n",
        "import matplotlib.pyplot as plt\n",
        "\n",
        "# 데이터 로드 (money stock spending)\n",
        "df_money = pd.read_csv('../datasets/tsa/moneystock-spending-series.csv', index_col=0, parse_dates=True)\n",
        "df_money.index.freq = 'MS' # 월별 데이터 주파수 설정\n",
        "\n",
        "# 'Money' 변수에 대해 분석 진행\n",
        "money_series = df_money['Money']\n",
        "\n",
        "# 1. 정상성 확인 및 차분\n",
        "# ADF 검정 결과 p-value가 1.0으로 비정상 시계열임 (위에서 실습)\n",
        "# 2차 차분을 통해 정상성 확보\n",
        "money_diff2 = money_series.diff().diff().dropna()\n",
        "# adf_test(money_diff2) # p-value가 매우 작게 나와 정상성 만족\n",
        "\n",
        "# 2. ACF, PACF 플롯으로 p, q 추정\n",
        "fig, (ax1, ax2) = plt.subplots(1, 2, figsize=(12, 4))\n",
        "plot_acf(money_diff2, ax=ax1)\n",
        "plot_pacf(money_diff2, ax=ax2)\n",
        "plt.show()\n",
        "# PACF 플롯을 보면 lag 1 이후에 값이 급격히 감소하므로 p=1로 추정 가능\n",
        "# ACF 플롯을 보면 lag 1 이후에 값이 급격히 감소하므로 q=1로 추정 가능\n",
        "\n",
        "# 3. ARIMA(1, 2, 1) 모델 구축 및 학습\n",
        "# p=1, d=2(2차 차분), q=1\n",
        "model = ARIMA(money_series, order=(1, 2, 1))\n",
        "fitted_model = model.fit()\n",
        "print(fitted_model.summary())\n",
        "\n",
        "# 4. 예측 및 시각화\n",
        "# 학습 데이터 분할 (마지막 12개월을 테스트 데이터로)\n",
        "train_data = money_series[:-12]\n",
        "test_data = money_series[-12:]\n",
        "\n",
        "# ARIMA(1, 2, 1) 모델 재학습\n",
        "model_train = ARIMA(train_data, order=(1, 2, 1))\n",
        "fitted_train_model = model_train.fit()\n",
        "\n",
        "# 예측 (12개월)\n",
        "forecast = fitted_train_model.forecast(steps=12)\n",
        "\n",
        "# 결과 시각화\n",
        "fig = go.Figure()\n",
        "fig.add_trace(go.Scatter(x=train_data.index, y=train_data, name='Train'))\n",
        "fig.add_trace(go.Scatter(x=test_data.index, y=test_data, name='Test'))\n",
        "fig.add_trace(go.Scatter(x=forecast.index, y=forecast, name='Forecast'))\n",
        "fig.update_layout(title='M2 통화량: 실제값 vs 예측값 (ARIMA)', xaxis_title='날짜', yaxis_title='통화량')\n",
        "fig.show()"
      ]
    },
    {
      "cell_type": "markdown",
      "metadata": {
        "id": "LPqk3Xs35s_6"
      },
      "source": [
        "### ✏️ 연습 문제 (Practice Problems)\n",
        "\n",
        "1.  미국 월별 주택 판매량 데이터를 사용하여 미래 12개월을 예측하는 ARIMA 모델을 만들어보세요.\n",
        "      * 데이터셋 경로: `datasets/tsa/HOUST.csv`\n",
        "2.  데이터를 로드하고 시각화하여 패턴을 확인한 후, 정상성을 확보하기 위해 몇 번의 차분이 필요한지 결정하세요.\n",
        "3.  정상화된 데이터에 대해 ACF, PACF 플롯을 그려보고, 적절한 `p`와 `q` 값을 추론해보세요.\n",
        "4.  추론한 `p, d, q` 값을 사용하여 ARIMA 모델을 구축하고, 예측 결과를 실제값과 함께 그래프로 비교해보세요.\n"
      ]
    },
    {
      "cell_type": "code",
      "execution_count": 32,
      "metadata": {
        "id": "0P3D2mDB5s_6"
      },
      "outputs": [
        {
          "data": {
            "text/html": [
              "<div>\n",
              "<style scoped>\n",
              "    .dataframe tbody tr th:only-of-type {\n",
              "        vertical-align: middle;\n",
              "    }\n",
              "\n",
              "    .dataframe tbody tr th {\n",
              "        vertical-align: top;\n",
              "    }\n",
              "\n",
              "    .dataframe thead th {\n",
              "        text-align: right;\n",
              "    }\n",
              "</style>\n",
              "<table border=\"1\" class=\"dataframe\">\n",
              "  <thead>\n",
              "    <tr style=\"text-align: right;\">\n",
              "      <th></th>\n",
              "      <th>Starts</th>\n",
              "    </tr>\n",
              "    <tr>\n",
              "      <th>observation_date</th>\n",
              "      <th></th>\n",
              "    </tr>\n",
              "  </thead>\n",
              "  <tbody>\n",
              "    <tr>\n",
              "      <th>1959-01-01</th>\n",
              "      <td>1657</td>\n",
              "    </tr>\n",
              "    <tr>\n",
              "      <th>1959-02-01</th>\n",
              "      <td>1667</td>\n",
              "    </tr>\n",
              "    <tr>\n",
              "      <th>1959-03-01</th>\n",
              "      <td>1620</td>\n",
              "    </tr>\n",
              "    <tr>\n",
              "      <th>1959-04-01</th>\n",
              "      <td>1590</td>\n",
              "    </tr>\n",
              "    <tr>\n",
              "      <th>1959-05-01</th>\n",
              "      <td>1498</td>\n",
              "    </tr>\n",
              "  </tbody>\n",
              "</table>\n",
              "</div>"
            ],
            "text/plain": [
              "                  Starts\n",
              "observation_date        \n",
              "1959-01-01          1657\n",
              "1959-02-01          1667\n",
              "1959-03-01          1620\n",
              "1959-04-01          1590\n",
              "1959-05-01          1498"
            ]
          },
          "execution_count": 32,
          "metadata": {},
          "output_type": "execute_result"
        }
      ],
      "source": [
        "\n",
        "# 연습 문제 1, 2, 3, 4번 풀이 공간\n",
        "import pandas as pd\n",
        "import plotly.graph_objects as go\n",
        "from statsmodels.tsa.arima.model import ARIMA\n",
        "from statsmodels.graphics.tsaplots import plot_acf, plot_pacf\n",
        "import matplotlib.pyplot as plt\n",
        "\n",
        "# 1. 데이터 로드\n",
        "df_housing = pd.read_csv('../datasets/tsa/HOUST.csv', index_col=0, parse_dates=True)\n",
        "df_housing.columns = ['Starts']\n",
        "df_housing.head()\n"
      ]
    },
    {
      "cell_type": "code",
      "execution_count": 33,
      "metadata": {},
      "outputs": [
        {
          "data": {
            "application/vnd.plotly.v1+json": {
              "config": {
                "plotlyServerURL": "https://plot.ly"
              },
              "data": [
                {
                  "mode": "lines",
                  "name": "주택 판매량",
                  "type": "scatter",
                  "x": [
                    "1959-01-01T00:00:00",
                    "1959-02-01T00:00:00",
                    "1959-03-01T00:00:00",
                    "1959-04-01T00:00:00",
                    "1959-05-01T00:00:00",
                    "1959-06-01T00:00:00",
                    "1959-07-01T00:00:00",
                    "1959-08-01T00:00:00",
                    "1959-09-01T00:00:00",
                    "1959-10-01T00:00:00",
                    "1959-11-01T00:00:00",
                    "1959-12-01T00:00:00",
                    "1960-01-01T00:00:00",
                    "1960-02-01T00:00:00",
                    "1960-03-01T00:00:00",
                    "1960-04-01T00:00:00",
                    "1960-05-01T00:00:00",
                    "1960-06-01T00:00:00",
                    "1960-07-01T00:00:00",
                    "1960-08-01T00:00:00",
                    "1960-09-01T00:00:00",
                    "1960-10-01T00:00:00",
                    "1960-11-01T00:00:00",
                    "1960-12-01T00:00:00",
                    "1961-01-01T00:00:00",
                    "1961-02-01T00:00:00",
                    "1961-03-01T00:00:00",
                    "1961-04-01T00:00:00",
                    "1961-05-01T00:00:00",
                    "1961-06-01T00:00:00",
                    "1961-07-01T00:00:00",
                    "1961-08-01T00:00:00",
                    "1961-09-01T00:00:00",
                    "1961-10-01T00:00:00",
                    "1961-11-01T00:00:00",
                    "1961-12-01T00:00:00",
                    "1962-01-01T00:00:00",
                    "1962-02-01T00:00:00",
                    "1962-03-01T00:00:00",
                    "1962-04-01T00:00:00",
                    "1962-05-01T00:00:00",
                    "1962-06-01T00:00:00",
                    "1962-07-01T00:00:00",
                    "1962-08-01T00:00:00",
                    "1962-09-01T00:00:00",
                    "1962-10-01T00:00:00",
                    "1962-11-01T00:00:00",
                    "1962-12-01T00:00:00",
                    "1963-01-01T00:00:00",
                    "1963-02-01T00:00:00",
                    "1963-03-01T00:00:00",
                    "1963-04-01T00:00:00",
                    "1963-05-01T00:00:00",
                    "1963-06-01T00:00:00",
                    "1963-07-01T00:00:00",
                    "1963-08-01T00:00:00",
                    "1963-09-01T00:00:00",
                    "1963-10-01T00:00:00",
                    "1963-11-01T00:00:00",
                    "1963-12-01T00:00:00",
                    "1964-01-01T00:00:00",
                    "1964-02-01T00:00:00",
                    "1964-03-01T00:00:00",
                    "1964-04-01T00:00:00",
                    "1964-05-01T00:00:00",
                    "1964-06-01T00:00:00",
                    "1964-07-01T00:00:00",
                    "1964-08-01T00:00:00",
                    "1964-09-01T00:00:00",
                    "1964-10-01T00:00:00",
                    "1964-11-01T00:00:00",
                    "1964-12-01T00:00:00",
                    "1965-01-01T00:00:00",
                    "1965-02-01T00:00:00",
                    "1965-03-01T00:00:00",
                    "1965-04-01T00:00:00",
                    "1965-05-01T00:00:00",
                    "1965-06-01T00:00:00",
                    "1965-07-01T00:00:00",
                    "1965-08-01T00:00:00",
                    "1965-09-01T00:00:00",
                    "1965-10-01T00:00:00",
                    "1965-11-01T00:00:00",
                    "1965-12-01T00:00:00",
                    "1966-01-01T00:00:00",
                    "1966-02-01T00:00:00",
                    "1966-03-01T00:00:00",
                    "1966-04-01T00:00:00",
                    "1966-05-01T00:00:00",
                    "1966-06-01T00:00:00",
                    "1966-07-01T00:00:00",
                    "1966-08-01T00:00:00",
                    "1966-09-01T00:00:00",
                    "1966-10-01T00:00:00",
                    "1966-11-01T00:00:00",
                    "1966-12-01T00:00:00",
                    "1967-01-01T00:00:00",
                    "1967-02-01T00:00:00",
                    "1967-03-01T00:00:00",
                    "1967-04-01T00:00:00",
                    "1967-05-01T00:00:00",
                    "1967-06-01T00:00:00",
                    "1967-07-01T00:00:00",
                    "1967-08-01T00:00:00",
                    "1967-09-01T00:00:00",
                    "1967-10-01T00:00:00",
                    "1967-11-01T00:00:00",
                    "1967-12-01T00:00:00",
                    "1968-01-01T00:00:00",
                    "1968-02-01T00:00:00",
                    "1968-03-01T00:00:00",
                    "1968-04-01T00:00:00",
                    "1968-05-01T00:00:00",
                    "1968-06-01T00:00:00",
                    "1968-07-01T00:00:00",
                    "1968-08-01T00:00:00",
                    "1968-09-01T00:00:00",
                    "1968-10-01T00:00:00",
                    "1968-11-01T00:00:00",
                    "1968-12-01T00:00:00",
                    "1969-01-01T00:00:00",
                    "1969-02-01T00:00:00",
                    "1969-03-01T00:00:00",
                    "1969-04-01T00:00:00",
                    "1969-05-01T00:00:00",
                    "1969-06-01T00:00:00",
                    "1969-07-01T00:00:00",
                    "1969-08-01T00:00:00",
                    "1969-09-01T00:00:00",
                    "1969-10-01T00:00:00",
                    "1969-11-01T00:00:00",
                    "1969-12-01T00:00:00",
                    "1970-01-01T00:00:00",
                    "1970-02-01T00:00:00",
                    "1970-03-01T00:00:00",
                    "1970-04-01T00:00:00",
                    "1970-05-01T00:00:00",
                    "1970-06-01T00:00:00",
                    "1970-07-01T00:00:00",
                    "1970-08-01T00:00:00",
                    "1970-09-01T00:00:00",
                    "1970-10-01T00:00:00",
                    "1970-11-01T00:00:00",
                    "1970-12-01T00:00:00",
                    "1971-01-01T00:00:00",
                    "1971-02-01T00:00:00",
                    "1971-03-01T00:00:00",
                    "1971-04-01T00:00:00",
                    "1971-05-01T00:00:00",
                    "1971-06-01T00:00:00",
                    "1971-07-01T00:00:00",
                    "1971-08-01T00:00:00",
                    "1971-09-01T00:00:00",
                    "1971-10-01T00:00:00",
                    "1971-11-01T00:00:00",
                    "1971-12-01T00:00:00",
                    "1972-01-01T00:00:00",
                    "1972-02-01T00:00:00",
                    "1972-03-01T00:00:00",
                    "1972-04-01T00:00:00",
                    "1972-05-01T00:00:00",
                    "1972-06-01T00:00:00",
                    "1972-07-01T00:00:00",
                    "1972-08-01T00:00:00",
                    "1972-09-01T00:00:00",
                    "1972-10-01T00:00:00",
                    "1972-11-01T00:00:00",
                    "1972-12-01T00:00:00",
                    "1973-01-01T00:00:00",
                    "1973-02-01T00:00:00",
                    "1973-03-01T00:00:00",
                    "1973-04-01T00:00:00",
                    "1973-05-01T00:00:00",
                    "1973-06-01T00:00:00",
                    "1973-07-01T00:00:00",
                    "1973-08-01T00:00:00",
                    "1973-09-01T00:00:00",
                    "1973-10-01T00:00:00",
                    "1973-11-01T00:00:00",
                    "1973-12-01T00:00:00",
                    "1974-01-01T00:00:00",
                    "1974-02-01T00:00:00",
                    "1974-03-01T00:00:00",
                    "1974-04-01T00:00:00",
                    "1974-05-01T00:00:00",
                    "1974-06-01T00:00:00",
                    "1974-07-01T00:00:00",
                    "1974-08-01T00:00:00",
                    "1974-09-01T00:00:00",
                    "1974-10-01T00:00:00",
                    "1974-11-01T00:00:00",
                    "1974-12-01T00:00:00",
                    "1975-01-01T00:00:00",
                    "1975-02-01T00:00:00",
                    "1975-03-01T00:00:00",
                    "1975-04-01T00:00:00",
                    "1975-05-01T00:00:00",
                    "1975-06-01T00:00:00",
                    "1975-07-01T00:00:00",
                    "1975-08-01T00:00:00",
                    "1975-09-01T00:00:00",
                    "1975-10-01T00:00:00",
                    "1975-11-01T00:00:00",
                    "1975-12-01T00:00:00",
                    "1976-01-01T00:00:00",
                    "1976-02-01T00:00:00",
                    "1976-03-01T00:00:00",
                    "1976-04-01T00:00:00",
                    "1976-05-01T00:00:00",
                    "1976-06-01T00:00:00",
                    "1976-07-01T00:00:00",
                    "1976-08-01T00:00:00",
                    "1976-09-01T00:00:00",
                    "1976-10-01T00:00:00",
                    "1976-11-01T00:00:00",
                    "1976-12-01T00:00:00",
                    "1977-01-01T00:00:00",
                    "1977-02-01T00:00:00",
                    "1977-03-01T00:00:00",
                    "1977-04-01T00:00:00",
                    "1977-05-01T00:00:00",
                    "1977-06-01T00:00:00",
                    "1977-07-01T00:00:00",
                    "1977-08-01T00:00:00",
                    "1977-09-01T00:00:00",
                    "1977-10-01T00:00:00",
                    "1977-11-01T00:00:00",
                    "1977-12-01T00:00:00",
                    "1978-01-01T00:00:00",
                    "1978-02-01T00:00:00",
                    "1978-03-01T00:00:00",
                    "1978-04-01T00:00:00",
                    "1978-05-01T00:00:00",
                    "1978-06-01T00:00:00",
                    "1978-07-01T00:00:00",
                    "1978-08-01T00:00:00",
                    "1978-09-01T00:00:00",
                    "1978-10-01T00:00:00",
                    "1978-11-01T00:00:00",
                    "1978-12-01T00:00:00",
                    "1979-01-01T00:00:00",
                    "1979-02-01T00:00:00",
                    "1979-03-01T00:00:00",
                    "1979-04-01T00:00:00",
                    "1979-05-01T00:00:00",
                    "1979-06-01T00:00:00",
                    "1979-07-01T00:00:00",
                    "1979-08-01T00:00:00",
                    "1979-09-01T00:00:00",
                    "1979-10-01T00:00:00",
                    "1979-11-01T00:00:00",
                    "1979-12-01T00:00:00",
                    "1980-01-01T00:00:00",
                    "1980-02-01T00:00:00",
                    "1980-03-01T00:00:00",
                    "1980-04-01T00:00:00",
                    "1980-05-01T00:00:00",
                    "1980-06-01T00:00:00",
                    "1980-07-01T00:00:00",
                    "1980-08-01T00:00:00",
                    "1980-09-01T00:00:00",
                    "1980-10-01T00:00:00",
                    "1980-11-01T00:00:00",
                    "1980-12-01T00:00:00",
                    "1981-01-01T00:00:00",
                    "1981-02-01T00:00:00",
                    "1981-03-01T00:00:00",
                    "1981-04-01T00:00:00",
                    "1981-05-01T00:00:00",
                    "1981-06-01T00:00:00",
                    "1981-07-01T00:00:00",
                    "1981-08-01T00:00:00",
                    "1981-09-01T00:00:00",
                    "1981-10-01T00:00:00",
                    "1981-11-01T00:00:00",
                    "1981-12-01T00:00:00",
                    "1982-01-01T00:00:00",
                    "1982-02-01T00:00:00",
                    "1982-03-01T00:00:00",
                    "1982-04-01T00:00:00",
                    "1982-05-01T00:00:00",
                    "1982-06-01T00:00:00",
                    "1982-07-01T00:00:00",
                    "1982-08-01T00:00:00",
                    "1982-09-01T00:00:00",
                    "1982-10-01T00:00:00",
                    "1982-11-01T00:00:00",
                    "1982-12-01T00:00:00",
                    "1983-01-01T00:00:00",
                    "1983-02-01T00:00:00",
                    "1983-03-01T00:00:00",
                    "1983-04-01T00:00:00",
                    "1983-05-01T00:00:00",
                    "1983-06-01T00:00:00",
                    "1983-07-01T00:00:00",
                    "1983-08-01T00:00:00",
                    "1983-09-01T00:00:00",
                    "1983-10-01T00:00:00",
                    "1983-11-01T00:00:00",
                    "1983-12-01T00:00:00",
                    "1984-01-01T00:00:00",
                    "1984-02-01T00:00:00",
                    "1984-03-01T00:00:00",
                    "1984-04-01T00:00:00",
                    "1984-05-01T00:00:00",
                    "1984-06-01T00:00:00",
                    "1984-07-01T00:00:00",
                    "1984-08-01T00:00:00",
                    "1984-09-01T00:00:00",
                    "1984-10-01T00:00:00",
                    "1984-11-01T00:00:00",
                    "1984-12-01T00:00:00",
                    "1985-01-01T00:00:00",
                    "1985-02-01T00:00:00",
                    "1985-03-01T00:00:00",
                    "1985-04-01T00:00:00",
                    "1985-05-01T00:00:00",
                    "1985-06-01T00:00:00",
                    "1985-07-01T00:00:00",
                    "1985-08-01T00:00:00",
                    "1985-09-01T00:00:00",
                    "1985-10-01T00:00:00",
                    "1985-11-01T00:00:00",
                    "1985-12-01T00:00:00",
                    "1986-01-01T00:00:00",
                    "1986-02-01T00:00:00",
                    "1986-03-01T00:00:00",
                    "1986-04-01T00:00:00",
                    "1986-05-01T00:00:00",
                    "1986-06-01T00:00:00",
                    "1986-07-01T00:00:00",
                    "1986-08-01T00:00:00",
                    "1986-09-01T00:00:00",
                    "1986-10-01T00:00:00",
                    "1986-11-01T00:00:00",
                    "1986-12-01T00:00:00",
                    "1987-01-01T00:00:00",
                    "1987-02-01T00:00:00",
                    "1987-03-01T00:00:00",
                    "1987-04-01T00:00:00",
                    "1987-05-01T00:00:00",
                    "1987-06-01T00:00:00",
                    "1987-07-01T00:00:00",
                    "1987-08-01T00:00:00",
                    "1987-09-01T00:00:00",
                    "1987-10-01T00:00:00",
                    "1987-11-01T00:00:00",
                    "1987-12-01T00:00:00",
                    "1988-01-01T00:00:00",
                    "1988-02-01T00:00:00",
                    "1988-03-01T00:00:00",
                    "1988-04-01T00:00:00",
                    "1988-05-01T00:00:00",
                    "1988-06-01T00:00:00",
                    "1988-07-01T00:00:00",
                    "1988-08-01T00:00:00",
                    "1988-09-01T00:00:00",
                    "1988-10-01T00:00:00",
                    "1988-11-01T00:00:00",
                    "1988-12-01T00:00:00",
                    "1989-01-01T00:00:00",
                    "1989-02-01T00:00:00",
                    "1989-03-01T00:00:00",
                    "1989-04-01T00:00:00",
                    "1989-05-01T00:00:00",
                    "1989-06-01T00:00:00",
                    "1989-07-01T00:00:00",
                    "1989-08-01T00:00:00",
                    "1989-09-01T00:00:00",
                    "1989-10-01T00:00:00",
                    "1989-11-01T00:00:00",
                    "1989-12-01T00:00:00",
                    "1990-01-01T00:00:00",
                    "1990-02-01T00:00:00",
                    "1990-03-01T00:00:00",
                    "1990-04-01T00:00:00",
                    "1990-05-01T00:00:00",
                    "1990-06-01T00:00:00",
                    "1990-07-01T00:00:00",
                    "1990-08-01T00:00:00",
                    "1990-09-01T00:00:00",
                    "1990-10-01T00:00:00",
                    "1990-11-01T00:00:00",
                    "1990-12-01T00:00:00",
                    "1991-01-01T00:00:00",
                    "1991-02-01T00:00:00",
                    "1991-03-01T00:00:00",
                    "1991-04-01T00:00:00",
                    "1991-05-01T00:00:00",
                    "1991-06-01T00:00:00",
                    "1991-07-01T00:00:00",
                    "1991-08-01T00:00:00",
                    "1991-09-01T00:00:00",
                    "1991-10-01T00:00:00",
                    "1991-11-01T00:00:00",
                    "1991-12-01T00:00:00",
                    "1992-01-01T00:00:00",
                    "1992-02-01T00:00:00",
                    "1992-03-01T00:00:00",
                    "1992-04-01T00:00:00",
                    "1992-05-01T00:00:00",
                    "1992-06-01T00:00:00",
                    "1992-07-01T00:00:00",
                    "1992-08-01T00:00:00",
                    "1992-09-01T00:00:00",
                    "1992-10-01T00:00:00",
                    "1992-11-01T00:00:00",
                    "1992-12-01T00:00:00",
                    "1993-01-01T00:00:00",
                    "1993-02-01T00:00:00",
                    "1993-03-01T00:00:00",
                    "1993-04-01T00:00:00",
                    "1993-05-01T00:00:00",
                    "1993-06-01T00:00:00",
                    "1993-07-01T00:00:00",
                    "1993-08-01T00:00:00",
                    "1993-09-01T00:00:00",
                    "1993-10-01T00:00:00",
                    "1993-11-01T00:00:00",
                    "1993-12-01T00:00:00",
                    "1994-01-01T00:00:00",
                    "1994-02-01T00:00:00",
                    "1994-03-01T00:00:00",
                    "1994-04-01T00:00:00",
                    "1994-05-01T00:00:00",
                    "1994-06-01T00:00:00",
                    "1994-07-01T00:00:00",
                    "1994-08-01T00:00:00",
                    "1994-09-01T00:00:00",
                    "1994-10-01T00:00:00",
                    "1994-11-01T00:00:00",
                    "1994-12-01T00:00:00",
                    "1995-01-01T00:00:00",
                    "1995-02-01T00:00:00",
                    "1995-03-01T00:00:00",
                    "1995-04-01T00:00:00",
                    "1995-05-01T00:00:00",
                    "1995-06-01T00:00:00",
                    "1995-07-01T00:00:00",
                    "1995-08-01T00:00:00",
                    "1995-09-01T00:00:00",
                    "1995-10-01T00:00:00",
                    "1995-11-01T00:00:00",
                    "1995-12-01T00:00:00",
                    "1996-01-01T00:00:00",
                    "1996-02-01T00:00:00",
                    "1996-03-01T00:00:00",
                    "1996-04-01T00:00:00",
                    "1996-05-01T00:00:00",
                    "1996-06-01T00:00:00",
                    "1996-07-01T00:00:00",
                    "1996-08-01T00:00:00",
                    "1996-09-01T00:00:00",
                    "1996-10-01T00:00:00",
                    "1996-11-01T00:00:00",
                    "1996-12-01T00:00:00",
                    "1997-01-01T00:00:00",
                    "1997-02-01T00:00:00",
                    "1997-03-01T00:00:00",
                    "1997-04-01T00:00:00",
                    "1997-05-01T00:00:00",
                    "1997-06-01T00:00:00",
                    "1997-07-01T00:00:00",
                    "1997-08-01T00:00:00",
                    "1997-09-01T00:00:00",
                    "1997-10-01T00:00:00",
                    "1997-11-01T00:00:00",
                    "1997-12-01T00:00:00",
                    "1998-01-01T00:00:00",
                    "1998-02-01T00:00:00",
                    "1998-03-01T00:00:00",
                    "1998-04-01T00:00:00",
                    "1998-05-01T00:00:00",
                    "1998-06-01T00:00:00",
                    "1998-07-01T00:00:00",
                    "1998-08-01T00:00:00",
                    "1998-09-01T00:00:00",
                    "1998-10-01T00:00:00",
                    "1998-11-01T00:00:00",
                    "1998-12-01T00:00:00",
                    "1999-01-01T00:00:00",
                    "1999-02-01T00:00:00",
                    "1999-03-01T00:00:00",
                    "1999-04-01T00:00:00",
                    "1999-05-01T00:00:00",
                    "1999-06-01T00:00:00",
                    "1999-07-01T00:00:00",
                    "1999-08-01T00:00:00",
                    "1999-09-01T00:00:00",
                    "1999-10-01T00:00:00",
                    "1999-11-01T00:00:00",
                    "1999-12-01T00:00:00",
                    "2000-01-01T00:00:00",
                    "2000-02-01T00:00:00",
                    "2000-03-01T00:00:00",
                    "2000-04-01T00:00:00",
                    "2000-05-01T00:00:00",
                    "2000-06-01T00:00:00",
                    "2000-07-01T00:00:00",
                    "2000-08-01T00:00:00",
                    "2000-09-01T00:00:00",
                    "2000-10-01T00:00:00",
                    "2000-11-01T00:00:00",
                    "2000-12-01T00:00:00",
                    "2001-01-01T00:00:00",
                    "2001-02-01T00:00:00",
                    "2001-03-01T00:00:00",
                    "2001-04-01T00:00:00",
                    "2001-05-01T00:00:00",
                    "2001-06-01T00:00:00",
                    "2001-07-01T00:00:00",
                    "2001-08-01T00:00:00",
                    "2001-09-01T00:00:00",
                    "2001-10-01T00:00:00",
                    "2001-11-01T00:00:00",
                    "2001-12-01T00:00:00",
                    "2002-01-01T00:00:00",
                    "2002-02-01T00:00:00",
                    "2002-03-01T00:00:00",
                    "2002-04-01T00:00:00",
                    "2002-05-01T00:00:00",
                    "2002-06-01T00:00:00",
                    "2002-07-01T00:00:00",
                    "2002-08-01T00:00:00",
                    "2002-09-01T00:00:00",
                    "2002-10-01T00:00:00",
                    "2002-11-01T00:00:00",
                    "2002-12-01T00:00:00",
                    "2003-01-01T00:00:00",
                    "2003-02-01T00:00:00",
                    "2003-03-01T00:00:00",
                    "2003-04-01T00:00:00",
                    "2003-05-01T00:00:00",
                    "2003-06-01T00:00:00",
                    "2003-07-01T00:00:00",
                    "2003-08-01T00:00:00",
                    "2003-09-01T00:00:00",
                    "2003-10-01T00:00:00",
                    "2003-11-01T00:00:00",
                    "2003-12-01T00:00:00",
                    "2004-01-01T00:00:00",
                    "2004-02-01T00:00:00",
                    "2004-03-01T00:00:00",
                    "2004-04-01T00:00:00",
                    "2004-05-01T00:00:00",
                    "2004-06-01T00:00:00",
                    "2004-07-01T00:00:00",
                    "2004-08-01T00:00:00",
                    "2004-09-01T00:00:00",
                    "2004-10-01T00:00:00",
                    "2004-11-01T00:00:00",
                    "2004-12-01T00:00:00",
                    "2005-01-01T00:00:00",
                    "2005-02-01T00:00:00",
                    "2005-03-01T00:00:00",
                    "2005-04-01T00:00:00",
                    "2005-05-01T00:00:00",
                    "2005-06-01T00:00:00",
                    "2005-07-01T00:00:00",
                    "2005-08-01T00:00:00",
                    "2005-09-01T00:00:00",
                    "2005-10-01T00:00:00",
                    "2005-11-01T00:00:00",
                    "2005-12-01T00:00:00",
                    "2006-01-01T00:00:00",
                    "2006-02-01T00:00:00",
                    "2006-03-01T00:00:00",
                    "2006-04-01T00:00:00",
                    "2006-05-01T00:00:00",
                    "2006-06-01T00:00:00",
                    "2006-07-01T00:00:00",
                    "2006-08-01T00:00:00",
                    "2006-09-01T00:00:00",
                    "2006-10-01T00:00:00",
                    "2006-11-01T00:00:00",
                    "2006-12-01T00:00:00",
                    "2007-01-01T00:00:00",
                    "2007-02-01T00:00:00",
                    "2007-03-01T00:00:00",
                    "2007-04-01T00:00:00",
                    "2007-05-01T00:00:00",
                    "2007-06-01T00:00:00",
                    "2007-07-01T00:00:00",
                    "2007-08-01T00:00:00",
                    "2007-09-01T00:00:00",
                    "2007-10-01T00:00:00",
                    "2007-11-01T00:00:00",
                    "2007-12-01T00:00:00",
                    "2008-01-01T00:00:00",
                    "2008-02-01T00:00:00",
                    "2008-03-01T00:00:00",
                    "2008-04-01T00:00:00",
                    "2008-05-01T00:00:00",
                    "2008-06-01T00:00:00",
                    "2008-07-01T00:00:00",
                    "2008-08-01T00:00:00",
                    "2008-09-01T00:00:00",
                    "2008-10-01T00:00:00",
                    "2008-11-01T00:00:00",
                    "2008-12-01T00:00:00",
                    "2009-01-01T00:00:00",
                    "2009-02-01T00:00:00",
                    "2009-03-01T00:00:00",
                    "2009-04-01T00:00:00",
                    "2009-05-01T00:00:00",
                    "2009-06-01T00:00:00",
                    "2009-07-01T00:00:00",
                    "2009-08-01T00:00:00",
                    "2009-09-01T00:00:00",
                    "2009-10-01T00:00:00",
                    "2009-11-01T00:00:00",
                    "2009-12-01T00:00:00",
                    "2010-01-01T00:00:00",
                    "2010-02-01T00:00:00",
                    "2010-03-01T00:00:00",
                    "2010-04-01T00:00:00",
                    "2010-05-01T00:00:00",
                    "2010-06-01T00:00:00",
                    "2010-07-01T00:00:00",
                    "2010-08-01T00:00:00",
                    "2010-09-01T00:00:00",
                    "2010-10-01T00:00:00",
                    "2010-11-01T00:00:00",
                    "2010-12-01T00:00:00",
                    "2011-01-01T00:00:00",
                    "2011-02-01T00:00:00",
                    "2011-03-01T00:00:00",
                    "2011-04-01T00:00:00",
                    "2011-05-01T00:00:00",
                    "2011-06-01T00:00:00",
                    "2011-07-01T00:00:00",
                    "2011-08-01T00:00:00",
                    "2011-09-01T00:00:00",
                    "2011-10-01T00:00:00",
                    "2011-11-01T00:00:00",
                    "2011-12-01T00:00:00",
                    "2012-01-01T00:00:00",
                    "2012-02-01T00:00:00",
                    "2012-03-01T00:00:00",
                    "2012-04-01T00:00:00",
                    "2012-05-01T00:00:00",
                    "2012-06-01T00:00:00",
                    "2012-07-01T00:00:00",
                    "2012-08-01T00:00:00",
                    "2012-09-01T00:00:00",
                    "2012-10-01T00:00:00",
                    "2012-11-01T00:00:00",
                    "2012-12-01T00:00:00",
                    "2013-01-01T00:00:00",
                    "2013-02-01T00:00:00",
                    "2013-03-01T00:00:00",
                    "2013-04-01T00:00:00",
                    "2013-05-01T00:00:00",
                    "2013-06-01T00:00:00",
                    "2013-07-01T00:00:00",
                    "2013-08-01T00:00:00",
                    "2013-09-01T00:00:00",
                    "2013-10-01T00:00:00",
                    "2013-11-01T00:00:00",
                    "2013-12-01T00:00:00",
                    "2014-01-01T00:00:00",
                    "2014-02-01T00:00:00",
                    "2014-03-01T00:00:00",
                    "2014-04-01T00:00:00",
                    "2014-05-01T00:00:00",
                    "2014-06-01T00:00:00",
                    "2014-07-01T00:00:00",
                    "2014-08-01T00:00:00",
                    "2014-09-01T00:00:00",
                    "2014-10-01T00:00:00",
                    "2014-11-01T00:00:00",
                    "2014-12-01T00:00:00",
                    "2015-01-01T00:00:00",
                    "2015-02-01T00:00:00",
                    "2015-03-01T00:00:00",
                    "2015-04-01T00:00:00",
                    "2015-05-01T00:00:00",
                    "2015-06-01T00:00:00",
                    "2015-07-01T00:00:00",
                    "2015-08-01T00:00:00",
                    "2015-09-01T00:00:00",
                    "2015-10-01T00:00:00",
                    "2015-11-01T00:00:00",
                    "2015-12-01T00:00:00",
                    "2016-01-01T00:00:00",
                    "2016-02-01T00:00:00",
                    "2016-03-01T00:00:00",
                    "2016-04-01T00:00:00",
                    "2016-05-01T00:00:00",
                    "2016-06-01T00:00:00",
                    "2016-07-01T00:00:00",
                    "2016-08-01T00:00:00",
                    "2016-09-01T00:00:00",
                    "2016-10-01T00:00:00",
                    "2016-11-01T00:00:00",
                    "2016-12-01T00:00:00",
                    "2017-01-01T00:00:00",
                    "2017-02-01T00:00:00",
                    "2017-03-01T00:00:00",
                    "2017-04-01T00:00:00",
                    "2017-05-01T00:00:00",
                    "2017-06-01T00:00:00",
                    "2017-07-01T00:00:00",
                    "2017-08-01T00:00:00",
                    "2017-09-01T00:00:00",
                    "2017-10-01T00:00:00",
                    "2017-11-01T00:00:00",
                    "2017-12-01T00:00:00",
                    "2018-01-01T00:00:00",
                    "2018-02-01T00:00:00",
                    "2018-03-01T00:00:00",
                    "2018-04-01T00:00:00",
                    "2018-05-01T00:00:00",
                    "2018-06-01T00:00:00",
                    "2018-07-01T00:00:00",
                    "2018-08-01T00:00:00",
                    "2018-09-01T00:00:00",
                    "2018-10-01T00:00:00",
                    "2018-11-01T00:00:00",
                    "2018-12-01T00:00:00",
                    "2019-01-01T00:00:00",
                    "2019-02-01T00:00:00",
                    "2019-03-01T00:00:00",
                    "2019-04-01T00:00:00",
                    "2019-05-01T00:00:00",
                    "2019-06-01T00:00:00",
                    "2019-07-01T00:00:00",
                    "2019-08-01T00:00:00",
                    "2019-09-01T00:00:00",
                    "2019-10-01T00:00:00",
                    "2019-11-01T00:00:00",
                    "2019-12-01T00:00:00",
                    "2020-01-01T00:00:00",
                    "2020-02-01T00:00:00",
                    "2020-03-01T00:00:00",
                    "2020-04-01T00:00:00",
                    "2020-05-01T00:00:00",
                    "2020-06-01T00:00:00",
                    "2020-07-01T00:00:00",
                    "2020-08-01T00:00:00",
                    "2020-09-01T00:00:00",
                    "2020-10-01T00:00:00",
                    "2020-11-01T00:00:00",
                    "2020-12-01T00:00:00",
                    "2021-01-01T00:00:00",
                    "2021-02-01T00:00:00",
                    "2021-03-01T00:00:00",
                    "2021-04-01T00:00:00",
                    "2021-05-01T00:00:00",
                    "2021-06-01T00:00:00",
                    "2021-07-01T00:00:00",
                    "2021-08-01T00:00:00",
                    "2021-09-01T00:00:00",
                    "2021-10-01T00:00:00",
                    "2021-11-01T00:00:00",
                    "2021-12-01T00:00:00",
                    "2022-01-01T00:00:00",
                    "2022-02-01T00:00:00",
                    "2022-03-01T00:00:00",
                    "2022-04-01T00:00:00",
                    "2022-05-01T00:00:00",
                    "2022-06-01T00:00:00",
                    "2022-07-01T00:00:00",
                    "2022-08-01T00:00:00",
                    "2022-09-01T00:00:00",
                    "2022-10-01T00:00:00",
                    "2022-11-01T00:00:00",
                    "2022-12-01T00:00:00",
                    "2023-01-01T00:00:00",
                    "2023-02-01T00:00:00",
                    "2023-03-01T00:00:00",
                    "2023-04-01T00:00:00",
                    "2023-05-01T00:00:00",
                    "2023-06-01T00:00:00",
                    "2023-07-01T00:00:00",
                    "2023-08-01T00:00:00",
                    "2023-09-01T00:00:00",
                    "2023-10-01T00:00:00",
                    "2023-11-01T00:00:00",
                    "2023-12-01T00:00:00",
                    "2024-01-01T00:00:00",
                    "2024-02-01T00:00:00",
                    "2024-03-01T00:00:00",
                    "2024-04-01T00:00:00",
                    "2024-05-01T00:00:00",
                    "2024-06-01T00:00:00",
                    "2024-07-01T00:00:00",
                    "2024-08-01T00:00:00",
                    "2024-09-01T00:00:00",
                    "2024-10-01T00:00:00",
                    "2024-11-01T00:00:00",
                    "2024-12-01T00:00:00",
                    "2025-01-01T00:00:00",
                    "2025-02-01T00:00:00",
                    "2025-03-01T00:00:00",
                    "2025-04-01T00:00:00"
                  ],
                  "y": {
                    "bdata": "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",
                    "dtype": "i2"
                  }
                }
              ],
              "layout": {
                "template": {
                  "data": {
                    "bar": [
                      {
                        "error_x": {
                          "color": "#2a3f5f"
                        },
                        "error_y": {
                          "color": "#2a3f5f"
                        },
                        "marker": {
                          "line": {
                            "color": "#E5ECF6",
                            "width": 0.5
                          },
                          "pattern": {
                            "fillmode": "overlay",
                            "size": 10,
                            "solidity": 0.2
                          }
                        },
                        "type": "bar"
                      }
                    ],
                    "barpolar": [
                      {
                        "marker": {
                          "line": {
                            "color": "#E5ECF6",
                            "width": 0.5
                          },
                          "pattern": {
                            "fillmode": "overlay",
                            "size": 10,
                            "solidity": 0.2
                          }
                        },
                        "type": "barpolar"
                      }
                    ],
                    "carpet": [
                      {
                        "aaxis": {
                          "endlinecolor": "#2a3f5f",
                          "gridcolor": "white",
                          "linecolor": "white",
                          "minorgridcolor": "white",
                          "startlinecolor": "#2a3f5f"
                        },
                        "baxis": {
                          "endlinecolor": "#2a3f5f",
                          "gridcolor": "white",
                          "linecolor": "white",
                          "minorgridcolor": "white",
                          "startlinecolor": "#2a3f5f"
                        },
                        "type": "carpet"
                      }
                    ],
                    "choropleth": [
                      {
                        "colorbar": {
                          "outlinewidth": 0,
                          "ticks": ""
                        },
                        "type": "choropleth"
                      }
                    ],
                    "contour": [
                      {
                        "colorbar": {
                          "outlinewidth": 0,
                          "ticks": ""
                        },
                        "colorscale": [
                          [
                            0,
                            "#0d0887"
                          ],
                          [
                            0.1111111111111111,
                            "#46039f"
                          ],
                          [
                            0.2222222222222222,
                            "#7201a8"
                          ],
                          [
                            0.3333333333333333,
                            "#9c179e"
                          ],
                          [
                            0.4444444444444444,
                            "#bd3786"
                          ],
                          [
                            0.5555555555555556,
                            "#d8576b"
                          ],
                          [
                            0.6666666666666666,
                            "#ed7953"
                          ],
                          [
                            0.7777777777777778,
                            "#fb9f3a"
                          ],
                          [
                            0.8888888888888888,
                            "#fdca26"
                          ],
                          [
                            1,
                            "#f0f921"
                          ]
                        ],
                        "type": "contour"
                      }
                    ],
                    "contourcarpet": [
                      {
                        "colorbar": {
                          "outlinewidth": 0,
                          "ticks": ""
                        },
                        "type": "contourcarpet"
                      }
                    ],
                    "heatmap": [
                      {
                        "colorbar": {
                          "outlinewidth": 0,
                          "ticks": ""
                        },
                        "colorscale": [
                          [
                            0,
                            "#0d0887"
                          ],
                          [
                            0.1111111111111111,
                            "#46039f"
                          ],
                          [
                            0.2222222222222222,
                            "#7201a8"
                          ],
                          [
                            0.3333333333333333,
                            "#9c179e"
                          ],
                          [
                            0.4444444444444444,
                            "#bd3786"
                          ],
                          [
                            0.5555555555555556,
                            "#d8576b"
                          ],
                          [
                            0.6666666666666666,
                            "#ed7953"
                          ],
                          [
                            0.7777777777777778,
                            "#fb9f3a"
                          ],
                          [
                            0.8888888888888888,
                            "#fdca26"
                          ],
                          [
                            1,
                            "#f0f921"
                          ]
                        ],
                        "type": "heatmap"
                      }
                    ],
                    "histogram": [
                      {
                        "marker": {
                          "pattern": {
                            "fillmode": "overlay",
                            "size": 10,
                            "solidity": 0.2
                          }
                        },
                        "type": "histogram"
                      }
                    ],
                    "histogram2d": [
                      {
                        "colorbar": {
                          "outlinewidth": 0,
                          "ticks": ""
                        },
                        "colorscale": [
                          [
                            0,
                            "#0d0887"
                          ],
                          [
                            0.1111111111111111,
                            "#46039f"
                          ],
                          [
                            0.2222222222222222,
                            "#7201a8"
                          ],
                          [
                            0.3333333333333333,
                            "#9c179e"
                          ],
                          [
                            0.4444444444444444,
                            "#bd3786"
                          ],
                          [
                            0.5555555555555556,
                            "#d8576b"
                          ],
                          [
                            0.6666666666666666,
                            "#ed7953"
                          ],
                          [
                            0.7777777777777778,
                            "#fb9f3a"
                          ],
                          [
                            0.8888888888888888,
                            "#fdca26"
                          ],
                          [
                            1,
                            "#f0f921"
                          ]
                        ],
                        "type": "histogram2d"
                      }
                    ],
                    "histogram2dcontour": [
                      {
                        "colorbar": {
                          "outlinewidth": 0,
                          "ticks": ""
                        },
                        "colorscale": [
                          [
                            0,
                            "#0d0887"
                          ],
                          [
                            0.1111111111111111,
                            "#46039f"
                          ],
                          [
                            0.2222222222222222,
                            "#7201a8"
                          ],
                          [
                            0.3333333333333333,
                            "#9c179e"
                          ],
                          [
                            0.4444444444444444,
                            "#bd3786"
                          ],
                          [
                            0.5555555555555556,
                            "#d8576b"
                          ],
                          [
                            0.6666666666666666,
                            "#ed7953"
                          ],
                          [
                            0.7777777777777778,
                            "#fb9f3a"
                          ],
                          [
                            0.8888888888888888,
                            "#fdca26"
                          ],
                          [
                            1,
                            "#f0f921"
                          ]
                        ],
                        "type": "histogram2dcontour"
                      }
                    ],
                    "mesh3d": [
                      {
                        "colorbar": {
                          "outlinewidth": 0,
                          "ticks": ""
                        },
                        "type": "mesh3d"
                      }
                    ],
                    "parcoords": [
                      {
                        "line": {
                          "colorbar": {
                            "outlinewidth": 0,
                            "ticks": ""
                          }
                        },
                        "type": "parcoords"
                      }
                    ],
                    "pie": [
                      {
                        "automargin": true,
                        "type": "pie"
                      }
                    ],
                    "scatter": [
                      {
                        "fillpattern": {
                          "fillmode": "overlay",
                          "size": 10,
                          "solidity": 0.2
                        },
                        "type": "scatter"
                      }
                    ],
                    "scatter3d": [
                      {
                        "line": {
                          "colorbar": {
                            "outlinewidth": 0,
                            "ticks": ""
                          }
                        },
                        "marker": {
                          "colorbar": {
                            "outlinewidth": 0,
                            "ticks": ""
                          }
                        },
                        "type": "scatter3d"
                      }
                    ],
                    "scattercarpet": [
                      {
                        "marker": {
                          "colorbar": {
                            "outlinewidth": 0,
                            "ticks": ""
                          }
                        },
                        "type": "scattercarpet"
                      }
                    ],
                    "scattergeo": [
                      {
                        "marker": {
                          "colorbar": {
                            "outlinewidth": 0,
                            "ticks": ""
                          }
                        },
                        "type": "scattergeo"
                      }
                    ],
                    "scattergl": [
                      {
                        "marker": {
                          "colorbar": {
                            "outlinewidth": 0,
                            "ticks": ""
                          }
                        },
                        "type": "scattergl"
                      }
                    ],
                    "scattermap": [
                      {
                        "marker": {
                          "colorbar": {
                            "outlinewidth": 0,
                            "ticks": ""
                          }
                        },
                        "type": "scattermap"
                      }
                    ],
                    "scattermapbox": [
                      {
                        "marker": {
                          "colorbar": {
                            "outlinewidth": 0,
                            "ticks": ""
                          }
                        },
                        "type": "scattermapbox"
                      }
                    ],
                    "scatterpolar": [
                      {
                        "marker": {
                          "colorbar": {
                            "outlinewidth": 0,
                            "ticks": ""
                          }
                        },
                        "type": "scatterpolar"
                      }
                    ],
                    "scatterpolargl": [
                      {
                        "marker": {
                          "colorbar": {
                            "outlinewidth": 0,
                            "ticks": ""
                          }
                        },
                        "type": "scatterpolargl"
                      }
                    ],
                    "scatterternary": [
                      {
                        "marker": {
                          "colorbar": {
                            "outlinewidth": 0,
                            "ticks": ""
                          }
                        },
                        "type": "scatterternary"
                      }
                    ],
                    "surface": [
                      {
                        "colorbar": {
                          "outlinewidth": 0,
                          "ticks": ""
                        },
                        "colorscale": [
                          [
                            0,
                            "#0d0887"
                          ],
                          [
                            0.1111111111111111,
                            "#46039f"
                          ],
                          [
                            0.2222222222222222,
                            "#7201a8"
                          ],
                          [
                            0.3333333333333333,
                            "#9c179e"
                          ],
                          [
                            0.4444444444444444,
                            "#bd3786"
                          ],
                          [
                            0.5555555555555556,
                            "#d8576b"
                          ],
                          [
                            0.6666666666666666,
                            "#ed7953"
                          ],
                          [
                            0.7777777777777778,
                            "#fb9f3a"
                          ],
                          [
                            0.8888888888888888,
                            "#fdca26"
                          ],
                          [
                            1,
                            "#f0f921"
                          ]
                        ],
                        "type": "surface"
                      }
                    ],
                    "table": [
                      {
                        "cells": {
                          "fill": {
                            "color": "#EBF0F8"
                          },
                          "line": {
                            "color": "white"
                          }
                        },
                        "header": {
                          "fill": {
                            "color": "#C8D4E3"
                          },
                          "line": {
                            "color": "white"
                          }
                        },
                        "type": "table"
                      }
                    ]
                  },
                  "layout": {
                    "annotationdefaults": {
                      "arrowcolor": "#2a3f5f",
                      "arrowhead": 0,
                      "arrowwidth": 1
                    },
                    "autotypenumbers": "strict",
                    "coloraxis": {
                      "colorbar": {
                        "outlinewidth": 0,
                        "ticks": ""
                      }
                    },
                    "colorscale": {
                      "diverging": [
                        [
                          0,
                          "#8e0152"
                        ],
                        [
                          0.1,
                          "#c51b7d"
                        ],
                        [
                          0.2,
                          "#de77ae"
                        ],
                        [
                          0.3,
                          "#f1b6da"
                        ],
                        [
                          0.4,
                          "#fde0ef"
                        ],
                        [
                          0.5,
                          "#f7f7f7"
                        ],
                        [
                          0.6,
                          "#e6f5d0"
                        ],
                        [
                          0.7,
                          "#b8e186"
                        ],
                        [
                          0.8,
                          "#7fbc41"
                        ],
                        [
                          0.9,
                          "#4d9221"
                        ],
                        [
                          1,
                          "#276419"
                        ]
                      ],
                      "sequential": [
                        [
                          0,
                          "#0d0887"
                        ],
                        [
                          0.1111111111111111,
                          "#46039f"
                        ],
                        [
                          0.2222222222222222,
                          "#7201a8"
                        ],
                        [
                          0.3333333333333333,
                          "#9c179e"
                        ],
                        [
                          0.4444444444444444,
                          "#bd3786"
                        ],
                        [
                          0.5555555555555556,
                          "#d8576b"
                        ],
                        [
                          0.6666666666666666,
                          "#ed7953"
                        ],
                        [
                          0.7777777777777778,
                          "#fb9f3a"
                        ],
                        [
                          0.8888888888888888,
                          "#fdca26"
                        ],
                        [
                          1,
                          "#f0f921"
                        ]
                      ],
                      "sequentialminus": [
                        [
                          0,
                          "#0d0887"
                        ],
                        [
                          0.1111111111111111,
                          "#46039f"
                        ],
                        [
                          0.2222222222222222,
                          "#7201a8"
                        ],
                        [
                          0.3333333333333333,
                          "#9c179e"
                        ],
                        [
                          0.4444444444444444,
                          "#bd3786"
                        ],
                        [
                          0.5555555555555556,
                          "#d8576b"
                        ],
                        [
                          0.6666666666666666,
                          "#ed7953"
                        ],
                        [
                          0.7777777777777778,
                          "#fb9f3a"
                        ],
                        [
                          0.8888888888888888,
                          "#fdca26"
                        ],
                        [
                          1,
                          "#f0f921"
                        ]
                      ]
                    },
                    "colorway": [
                      "#636efa",
                      "#EF553B",
                      "#00cc96",
                      "#ab63fa",
                      "#FFA15A",
                      "#19d3f3",
                      "#FF6692",
                      "#B6E880",
                      "#FF97FF",
                      "#FECB52"
                    ],
                    "font": {
                      "color": "#2a3f5f"
                    },
                    "geo": {
                      "bgcolor": "white",
                      "lakecolor": "white",
                      "landcolor": "#E5ECF6",
                      "showlakes": true,
                      "showland": true,
                      "subunitcolor": "white"
                    },
                    "hoverlabel": {
                      "align": "left"
                    },
                    "hovermode": "closest",
                    "mapbox": {
                      "style": "light"
                    },
                    "paper_bgcolor": "white",
                    "plot_bgcolor": "#E5ECF6",
                    "polar": {
                      "angularaxis": {
                        "gridcolor": "white",
                        "linecolor": "white",
                        "ticks": ""
                      },
                      "bgcolor": "#E5ECF6",
                      "radialaxis": {
                        "gridcolor": "white",
                        "linecolor": "white",
                        "ticks": ""
                      }
                    },
                    "scene": {
                      "xaxis": {
                        "backgroundcolor": "#E5ECF6",
                        "gridcolor": "white",
                        "gridwidth": 2,
                        "linecolor": "white",
                        "showbackground": true,
                        "ticks": "",
                        "zerolinecolor": "white"
                      },
                      "yaxis": {
                        "backgroundcolor": "#E5ECF6",
                        "gridcolor": "white",
                        "gridwidth": 2,
                        "linecolor": "white",
                        "showbackground": true,
                        "ticks": "",
                        "zerolinecolor": "white"
                      },
                      "zaxis": {
                        "backgroundcolor": "#E5ECF6",
                        "gridcolor": "white",
                        "gridwidth": 2,
                        "linecolor": "white",
                        "showbackground": true,
                        "ticks": "",
                        "zerolinecolor": "white"
                      }
                    },
                    "shapedefaults": {
                      "line": {
                        "color": "#2a3f5f"
                      }
                    },
                    "ternary": {
                      "aaxis": {
                        "gridcolor": "white",
                        "linecolor": "white",
                        "ticks": ""
                      },
                      "baxis": {
                        "gridcolor": "white",
                        "linecolor": "white",
                        "ticks": ""
                      },
                      "bgcolor": "#E5ECF6",
                      "caxis": {
                        "gridcolor": "white",
                        "linecolor": "white",
                        "ticks": ""
                      }
                    },
                    "title": {
                      "x": 0.05
                    },
                    "xaxis": {
                      "automargin": true,
                      "gridcolor": "white",
                      "linecolor": "white",
                      "ticks": "",
                      "title": {
                        "standoff": 15
                      },
                      "zerolinecolor": "white",
                      "zerolinewidth": 2
                    },
                    "yaxis": {
                      "automargin": true,
                      "gridcolor": "white",
                      "linecolor": "white",
                      "ticks": "",
                      "title": {
                        "standoff": 15
                      },
                      "zerolinecolor": "white",
                      "zerolinewidth": 2
                    }
                  }
                },
                "title": {
                  "text": "미국 월별 주택 판매량 시계열 데이터"
                },
                "xaxis": {
                  "title": {
                    "text": "날짜"
                  }
                },
                "yaxis": {
                  "title": {
                    "text": "주택 판매량"
                  }
                }
              }
            }
          },
          "metadata": {},
          "output_type": "display_data"
        }
      ],
      "source": [
        "# 여기에 2, 3, 4번 문제에 대한 코드를 작성하세요.\n",
        "# 2. 데이터 시각화 및 패턴 확인\n",
        "fig = go.Figure()\n",
        "fig.add_trace(go.Scatter(x=df_housing.index, y=df_housing['Starts'], mode='lines', name='주택 판매량'))\n",
        "fig.update_layout(title='미국 월별 주택 판매량 시계열 데이터', xaxis_title='날짜', yaxis_title='주택 판매량')\n",
        "fig.show()\n"
      ]
    },
    {
      "cell_type": "code",
      "execution_count": 35,
      "metadata": {},
      "outputs": [],
      "source": [
        "# 정상성 검정 (ADF 테스트)\n",
        "from statsmodels.tsa.stattools import adfuller\n",
        "\n",
        "def check_stationarity(timeseries, title):\n",
        "    result = adfuller(timeseries, autolag='AIC')\n",
        "    print(f'{title}:')\n",
        "    print(f'ADF 통계량: {result[0]:.6f}')\n",
        "    print(f'p-value: {result[1]:.6f}')\n",
        "    print(f'임계값:')\n",
        "    for key, value in result[4].items():\n",
        "        print(f'\\t{key}: {value:.3f}')\n",
        "    \n",
        "    if result[1] <= 0.05:\n",
        "        print(\"결과: 정상 시계열입니다 (귀무가설 기각)\")\n",
        "    else:\n",
        "        print(\"결과: 비정상 시계열입니다 (귀무가설 채택)\")\n",
        "    print('-' * 50)"
      ]
    },
    {
      "cell_type": "code",
      "execution_count": 36,
      "metadata": {},
      "outputs": [
        {
          "name": "stdout",
          "output_type": "stream",
          "text": [
            "원본 데이터:\n",
            "ADF 통계량: -3.839472\n",
            "p-value: 0.002528\n",
            "임계값:\n",
            "\t1%: -3.439\n",
            "\t5%: -2.865\n",
            "\t10%: -2.569\n",
            "결과: 정상 시계열입니다 (귀무가설 기각)\n",
            "--------------------------------------------------\n"
          ]
        }
      ],
      "source": [
        "# 원본 데이터 정상성 검정\n",
        "check_stationarity(df_housing['Starts'].dropna(), \"원본 데이터\")"
      ]
    },
    {
      "cell_type": "code",
      "execution_count": 37,
      "metadata": {},
      "outputs": [
        {
          "name": "stdout",
          "output_type": "stream",
          "text": [
            "1차 차분 데이터:\n",
            "ADF 통계량: -7.298139\n",
            "p-value: 0.000000\n",
            "임계값:\n",
            "\t1%: -3.439\n",
            "\t5%: -2.865\n",
            "\t10%: -2.569\n",
            "결과: 정상 시계열입니다 (귀무가설 기각)\n",
            "--------------------------------------------------\n"
          ]
        }
      ],
      "source": [
        "# 1차 차분\n",
        "df_housing['diff1'] = df_housing['Starts'].diff()\n",
        "check_stationarity(df_housing['diff1'].dropna(), \"1차 차분 데이터\")"
      ]
    },
    {
      "cell_type": "code",
      "execution_count": 38,
      "metadata": {},
      "outputs": [
        {
          "name": "stdout",
          "output_type": "stream",
          "text": [
            "2차 차분 데이터:\n",
            "ADF 통계량: -12.542518\n",
            "p-value: 0.000000\n",
            "임계값:\n",
            "\t1%: -3.439\n",
            "\t5%: -2.865\n",
            "\t10%: -2.569\n",
            "결과: 정상 시계열입니다 (귀무가설 기각)\n",
            "--------------------------------------------------\n"
          ]
        }
      ],
      "source": [
        "# 2차 차분 (필요한 경우)\n",
        "df_housing['diff2'] = df_housing['diff1'].diff()\n",
        "check_stationarity(df_housing['diff2'].dropna(), \"2차 차분 데이터\")"
      ]
    },
    {
      "cell_type": "code",
      "execution_count": 39,
      "metadata": {},
      "outputs": [
        {
          "data": {
            "image/png": "[encoded data removed]",
            "text/plain": [
              "<Figure size 1200x800 with 2 Axes>"
            ]
          },
          "metadata": {},
          "output_type": "display_data"
        }
      ],
      "source": [
        "# 3. ACF, PACF 플롯으로 p, q 값 추론\n",
        "from statsmodels.graphics.tsaplots import plot_acf, plot_pacf\n",
        "\n",
        "# 1차 차분 데이터에 대한 ACF, PACF 플롯\n",
        "fig, axes = plt.subplots(2, 1, figsize=(12, 8))\n",
        "plot_acf(df_housing['diff1'].dropna(), ax=axes[0], lags=40)\n",
        "plot_pacf(df_housing['diff1'].dropna(), ax=axes[1], lags=40)\n",
        "plt.tight_layout()\n",
        "plt.show()"
      ]
    },
    {
      "cell_type": "code",
      "execution_count": 40,
      "metadata": {},
      "outputs": [
        {
          "name": "stderr",
          "output_type": "stream",
          "text": [
            "/Users/dante/workspace/dante-code/class/star_track_python/.venv/lib/python3.12/site-packages/statsmodels/tsa/base/tsa_model.py:473: ValueWarning:\n",
            "\n",
            "No frequency information was provided, so inferred frequency MS will be used.\n",
            "\n",
            "/Users/dante/workspace/dante-code/class/star_track_python/.venv/lib/python3.12/site-packages/statsmodels/tsa/base/tsa_model.py:473: ValueWarning:\n",
            "\n",
            "No frequency information was provided, so inferred frequency MS will be used.\n",
            "\n",
            "/Users/dante/workspace/dante-code/class/star_track_python/.venv/lib/python3.12/site-packages/statsmodels/tsa/base/tsa_model.py:473: ValueWarning:\n",
            "\n",
            "No frequency information was provided, so inferred frequency MS will be used.\n",
            "\n"
          ]
        },
        {
          "name": "stdout",
          "output_type": "stream",
          "text": [
            "                               SARIMAX Results                                \n",
            "==============================================================================\n",
            "Dep. Variable:                 Starts   No. Observations:                  784\n",
            "Model:                 ARIMA(2, 1, 2)   Log Likelihood               -4776.362\n",
            "Date:                Tue, 10 Jun 2025   AIC                           9562.725\n",
            "Time:                        06:40:36   BIC                           9586.040\n",
            "Sample:                    01-01-1959   HQIC                          9571.691\n",
            "                         - 04-01-2024                                         \n",
            "Covariance Type:                  opg                                         \n",
            "==============================================================================\n",
            "                 coef    std err          z      P>|z|      [0.025      0.975]\n",
            "------------------------------------------------------------------------------\n",
            "ar.L1          0.8562      0.122      7.031      0.000       0.618       1.095\n",
            "ar.L2         -0.2069      0.091     -2.284      0.022      -0.384      -0.029\n",
            "ma.L1         -1.2178      0.118    -10.325      0.000      -1.449      -0.987\n",
            "ma.L2          0.4988      0.074      6.755      0.000       0.354       0.644\n",
            "sigma2      1.164e+04    454.771     25.590      0.000    1.07e+04    1.25e+04\n",
            "===================================================================================\n",
            "Ljung-Box (L1) (Q):                   0.01   Jarque-Bera (JB):                86.92\n",
            "Prob(Q):                              0.91   Prob(JB):                         0.00\n",
            "Heteroskedasticity (H):               0.66   Skew:                            -0.28\n",
            "Prob(H) (two-sided):                  0.00   Kurtosis:                         4.54\n",
            "===================================================================================\n",
            "\n",
            "Warnings:\n",
            "[1] Covariance matrix calculated using the outer product of gradients (complex-step).\n"
          ]
        }
      ],
      "source": [
        "# 4. ARIMA 모델 구축 및 예측\n",
        "# 학습/테스트 데이터 분할 (마지막 12개월을 테스트용으로)\n",
        "train_housing = df_housing['Starts'][:-12]\n",
        "test_housing = df_housing['Starts'][-12:]\n",
        "\n",
        "# ARIMA 모델 구축 (ACF, PACF 분석 결과를 바탕으로 p=2, d=1, q=2로 설정)\n",
        "model_housing = ARIMA(train_housing, order=(2, 1, 2))\n",
        "fitted_housing_model = model_housing.fit()\n",
        "\n",
        "print(fitted_housing_model.summary())"
      ]
    },
    {
      "cell_type": "markdown",
      "metadata": {},
      "source": [
        "* ARIMA 모델 결과 해석\n",
        "\n",
        "    **모델 정보:**\n",
        "    - 모델: ARIMA(2, 1, 2) - AR 차수 2, 차분 1회, MA 차수 2\n",
        "    - 관측치 수: 784개 (약 65년간의 월별 데이터)\n",
        "    - AIC: 9562.725 (모델 선택 기준, 낮을수록 좋음)\n",
        "    \n",
        "    **계수 해석:**\n",
        "    - ar.L1 (0.8562): 1개월 전 값이 현재 값에 양의 영향 (통계적으로 유의)\n",
        "    - ar.L2 (-0.2069): 2개월 전 값이 현재 값에 음의 영향 (통계적으로 유의)\n",
        "    - ma.L1 (-1.2178): 1개월 전 예측 오차가 현재 값에 음의 영향\n",
        "    - ma.L2 (0.4988): 2개월 전 예측 오차가 현재 값에 양의 영향\n",
        "    \n",
        "    **모델 진단:**\n",
        "    - Ljung-Box 검정 (Q=0.01, p=0.91): 잔차에 자기상관이 없음 (좋은 결과)\n",
        "    - Jarque-Bera 검정 (JB=86.92, p=0.00): 잔차가 정규분포를 따르지 않음\n",
        "    - 이분산성 검정 (H=0.66, p=0.00): 잔차의 분산이 일정하지 않음\n",
        "    \n",
        "    **결론:** 모델이 시계열의 자기상관 구조를 잘 포착했지만, 잔차의 정규성과 등분산성 가정은 만족하지 않음\n"
      ]
    },
    {
      "cell_type": "markdown",
      "metadata": {},
      "source": [
        "* 잔차 검정에 대한 추가 지침 (학습 범위 외 참고 사항)\n",
        "  1. 정규성 위반 (Jarque-Bera 검정 p=0.00):\n",
        "     - 잔차가 정규분포를 따르지 않음을 의미\n",
        "     - 모델이 극값(outlier)이나 비대칭적 패턴을 완전히 포착하지 못함\n",
        "     - 신뢰구간과 예측구간의 정확도가 떨어질 수 있음\n",
        "     - 통계적 추론(가설검정)의 신뢰성이 감소\n",
        "\n",
        "  2. 등분산성 위반 (이분산성, H=0.66, p=0.00):\n",
        "     - 잔차의 분산이 시간에 따라 일정하지 않음\n",
        "     - 특정 시점에서 예측 오차가 더 크거나 작을 수 있음\n",
        "     - 예측 불확실성이 시간에 따라 변함\n",
        "     - 표준오차 추정이 부정확할 수 있음\n",
        "\n",
        "  3. 실무적 영향:\n",
        "     - 모델의 예측력 자체는 여전히 유용할 수 있음\n",
        "     - 다만 예측구간의 신뢰도는 낮아짐\n",
        "     - 더 복잡한 모델(GARCH, 비선형 모델 등) 고려 필요\n",
        "     - 로그 변환이나 Box-Cox 변환으로 개선 가능\n",
        "\n",
        "  4. 개선 방안:\n",
        "     - 데이터 변환 (로그, 제곱근, Box-Cox)\n",
        "     - 더 복잡한 모델 사용 (SARIMA, GARCH)\n",
        "     - 이상치 제거 또는 처리\n",
        "     - 추가 설명변수 포함 (ARIMAX)"
      ]
    },
    {
      "cell_type": "code",
      "execution_count": 41,
      "metadata": {},
      "outputs": [],
      "source": [
        "# 예측 수행\n",
        "forecast_housing = fitted_housing_model.forecast(steps=12)\n"
      ]
    },
    {
      "cell_type": "code",
      "execution_count": 42,
      "metadata": {},
      "outputs": [
        {
          "data": {
            "application/vnd.plotly.v1+json": {
              "config": {
                "plotlyServerURL": "https://plot.ly"
              },
              "data": [
                {
                  "mode": "lines",
                  "name": "훈련 데이터",
                  "type": "scatter",
                  "x": [
                    "1959-01-01T00:00:00",
                    "1959-02-01T00:00:00",
                    "1959-03-01T00:00:00",
                    "1959-04-01T00:00:00",
                    "1959-05-01T00:00:00",
                    "1959-06-01T00:00:00",
                    "1959-07-01T00:00:00",
                    "1959-08-01T00:00:00",
                    "1959-09-01T00:00:00",
                    "1959-10-01T00:00:00",
                    "1959-11-01T00:00:00",
                    "1959-12-01T00:00:00",
                    "1960-01-01T00:00:00",
                    "1960-02-01T00:00:00",
                    "1960-03-01T00:00:00",
                    "1960-04-01T00:00:00",
                    "1960-05-01T00:00:00",
                    "1960-06-01T00:00:00",
                    "1960-07-01T00:00:00",
                    "1960-08-01T00:00:00",
                    "1960-09-01T00:00:00",
                    "1960-10-01T00:00:00",
                    "1960-11-01T00:00:00",
                    "1960-12-01T00:00:00",
                    "1961-01-01T00:00:00",
                    "1961-02-01T00:00:00",
                    "1961-03-01T00:00:00",
                    "1961-04-01T00:00:00",
                    "1961-05-01T00:00:00",
                    "1961-06-01T00:00:00",
                    "1961-07-01T00:00:00",
                    "1961-08-01T00:00:00",
                    "1961-09-01T00:00:00",
                    "1961-10-01T00:00:00",
                    "1961-11-01T00:00:00",
                    "1961-12-01T00:00:00",
                    "1962-01-01T00:00:00",
                    "1962-02-01T00:00:00",
                    "1962-03-01T00:00:00",
                    "1962-04-01T00:00:00",
                    "1962-05-01T00:00:00",
                    "1962-06-01T00:00:00",
                    "1962-07-01T00:00:00",
                    "1962-08-01T00:00:00",
                    "1962-09-01T00:00:00",
                    "1962-10-01T00:00:00",
                    "1962-11-01T00:00:00",
                    "1962-12-01T00:00:00",
                    "1963-01-01T00:00:00",
                    "1963-02-01T00:00:00",
                    "1963-03-01T00:00:00",
                    "1963-04-01T00:00:00",
                    "1963-05-01T00:00:00",
                    "1963-06-01T00:00:00",
                    "1963-07-01T00:00:00",
                    "1963-08-01T00:00:00",
                    "1963-09-01T00:00:00",
                    "1963-10-01T00:00:00",
                    "1963-11-01T00:00:00",
                    "1963-12-01T00:00:00",
                    "1964-01-01T00:00:00",
                    "1964-02-01T00:00:00",
                    "1964-03-01T00:00:00",
                    "1964-04-01T00:00:00",
                    "1964-05-01T00:00:00",
                    "1964-06-01T00:00:00",
                    "1964-07-01T00:00:00",
                    "1964-08-01T00:00:00",
                    "1964-09-01T00:00:00",
                    "1964-10-01T00:00:00",
                    "1964-11-01T00:00:00",
                    "1964-12-01T00:00:00",
                    "1965-01-01T00:00:00",
                    "1965-02-01T00:00:00",
                    "1965-03-01T00:00:00",
                    "1965-04-01T00:00:00",
                    "1965-05-01T00:00:00",
                    "1965-06-01T00:00:00",
                    "1965-07-01T00:00:00",
                    "1965-08-01T00:00:00",
                    "1965-09-01T00:00:00",
                    "1965-10-01T00:00:00",
                    "1965-11-01T00:00:00",
                    "1965-12-01T00:00:00",
                    "1966-01-01T00:00:00",
                    "1966-02-01T00:00:00",
                    "1966-03-01T00:00:00",
                    "1966-04-01T00:00:00",
                    "1966-05-01T00:00:00",
                    "1966-06-01T00:00:00",
                    "1966-07-01T00:00:00",
                    "1966-08-01T00:00:00",
                    "1966-09-01T00:00:00",
                    "1966-10-01T00:00:00",
                    "1966-11-01T00:00:00",
                    "1966-12-01T00:00:00",
                    "1967-01-01T00:00:00",
                    "1967-02-01T00:00:00",
                    "1967-03-01T00:00:00",
                    "1967-04-01T00:00:00",
                    "1967-05-01T00:00:00",
                    "1967-06-01T00:00:00",
                    "1967-07-01T00:00:00",
                    "1967-08-01T00:00:00",
                    "1967-09-01T00:00:00",
                    "1967-10-01T00:00:00",
                    "1967-11-01T00:00:00",
                    "1967-12-01T00:00:00",
                    "1968-01-01T00:00:00",
                    "1968-02-01T00:00:00",
                    "1968-03-01T00:00:00",
                    "1968-04-01T00:00:00",
                    "1968-05-01T00:00:00",
                    "1968-06-01T00:00:00",
                    "1968-07-01T00:00:00",
                    "1968-08-01T00:00:00",
                    "1968-09-01T00:00:00",
                    "1968-10-01T00:00:00",
                    "1968-11-01T00:00:00",
                    "1968-12-01T00:00:00",
                    "1969-01-01T00:00:00",
                    "1969-02-01T00:00:00",
                    "1969-03-01T00:00:00",
                    "1969-04-01T00:00:00",
                    "1969-05-01T00:00:00",
                    "1969-06-01T00:00:00",
                    "1969-07-01T00:00:00",
                    "1969-08-01T00:00:00",
                    "1969-09-01T00:00:00",
                    "1969-10-01T00:00:00",
                    "1969-11-01T00:00:00",
                    "1969-12-01T00:00:00",
                    "1970-01-01T00:00:00",
                    "1970-02-01T00:00:00",
                    "1970-03-01T00:00:00",
                    "1970-04-01T00:00:00",
                    "1970-05-01T00:00:00",
                    "1970-06-01T00:00:00",
                    "1970-07-01T00:00:00",
                    "1970-08-01T00:00:00",
                    "1970-09-01T00:00:00",
                    "1970-10-01T00:00:00",
                    "1970-11-01T00:00:00",
                    "1970-12-01T00:00:00",
                    "1971-01-01T00:00:00",
                    "1971-02-01T00:00:00",
                    "1971-03-01T00:00:00",
                    "1971-04-01T00:00:00",
                    "1971-05-01T00:00:00",
                    "1971-06-01T00:00:00",
                    "1971-07-01T00:00:00",
                    "1971-08-01T00:00:00",
                    "1971-09-01T00:00:00",
                    "1971-10-01T00:00:00",
                    "1971-11-01T00:00:00",
                    "1971-12-01T00:00:00",
                    "1972-01-01T00:00:00",
                    "1972-02-01T00:00:00",
                    "1972-03-01T00:00:00",
                    "1972-04-01T00:00:00",
                    "1972-05-01T00:00:00",
                    "1972-06-01T00:00:00",
                    "1972-07-01T00:00:00",
                    "1972-08-01T00:00:00",
                    "1972-09-01T00:00:00",
                    "1972-10-01T00:00:00",
                    "1972-11-01T00:00:00",
                    "1972-12-01T00:00:00",
                    "1973-01-01T00:00:00",
                    "1973-02-01T00:00:00",
                    "1973-03-01T00:00:00",
                    "1973-04-01T00:00:00",
                    "1973-05-01T00:00:00",
                    "1973-06-01T00:00:00",
                    "1973-07-01T00:00:00",
                    "1973-08-01T00:00:00",
                    "1973-09-01T00:00:00",
                    "1973-10-01T00:00:00",
                    "1973-11-01T00:00:00",
                    "1973-12-01T00:00:00",
                    "1974-01-01T00:00:00",
                    "1974-02-01T00:00:00",
                    "1974-03-01T00:00:00",
                    "1974-04-01T00:00:00",
                    "1974-05-01T00:00:00",
                    "1974-06-01T00:00:00",
                    "1974-07-01T00:00:00",
                    "1974-08-01T00:00:00",
                    "1974-09-01T00:00:00",
                    "1974-10-01T00:00:00",
                    "1974-11-01T00:00:00",
                    "1974-12-01T00:00:00",
                    "1975-01-01T00:00:00",
                    "1975-02-01T00:00:00",
                    "1975-03-01T00:00:00",
                    "1975-04-01T00:00:00",
                    "1975-05-01T00:00:00",
                    "1975-06-01T00:00:00",
                    "1975-07-01T00:00:00",
                    "1975-08-01T00:00:00",
                    "1975-09-01T00:00:00",
                    "1975-10-01T00:00:00",
                    "1975-11-01T00:00:00",
                    "1975-12-01T00:00:00",
                    "1976-01-01T00:00:00",
                    "1976-02-01T00:00:00",
                    "1976-03-01T00:00:00",
                    "1976-04-01T00:00:00",
                    "1976-05-01T00:00:00",
                    "1976-06-01T00:00:00",
                    "1976-07-01T00:00:00",
                    "1976-08-01T00:00:00",
                    "1976-09-01T00:00:00",
                    "1976-10-01T00:00:00",
                    "1976-11-01T00:00:00",
                    "1976-12-01T00:00:00",
                    "1977-01-01T00:00:00",
                    "1977-02-01T00:00:00",
                    "1977-03-01T00:00:00",
                    "1977-04-01T00:00:00",
                    "1977-05-01T00:00:00",
                    "1977-06-01T00:00:00",
                    "1977-07-01T00:00:00",
                    "1977-08-01T00:00:00",
                    "1977-09-01T00:00:00",
                    "1977-10-01T00:00:00",
                    "1977-11-01T00:00:00",
                    "1977-12-01T00:00:00",
                    "1978-01-01T00:00:00",
                    "1978-02-01T00:00:00",
                    "1978-03-01T00:00:00",
                    "1978-04-01T00:00:00",
                    "1978-05-01T00:00:00",
                    "1978-06-01T00:00:00",
                    "1978-07-01T00:00:00",
                    "1978-08-01T00:00:00",
                    "1978-09-01T00:00:00",
                    "1978-10-01T00:00:00",
                    "1978-11-01T00:00:00",
                    "1978-12-01T00:00:00",
                    "1979-01-01T00:00:00",
                    "1979-02-01T00:00:00",
                    "1979-03-01T00:00:00",
                    "1979-04-01T00:00:00",
                    "1979-05-01T00:00:00",
                    "1979-06-01T00:00:00",
                    "1979-07-01T00:00:00",
                    "1979-08-01T00:00:00",
                    "1979-09-01T00:00:00",
                    "1979-10-01T00:00:00",
                    "1979-11-01T00:00:00",
                    "1979-12-01T00:00:00",
                    "1980-01-01T00:00:00",
                    "1980-02-01T00:00:00",
                    "1980-03-01T00:00:00",
                    "1980-04-01T00:00:00",
                    "1980-05-01T00:00:00",
                    "1980-06-01T00:00:00",
                    "1980-07-01T00:00:00",
                    "1980-08-01T00:00:00",
                    "1980-09-01T00:00:00",
                    "1980-10-01T00:00:00",
                    "1980-11-01T00:00:00",
                    "1980-12-01T00:00:00",
                    "1981-01-01T00:00:00",
                    "1981-02-01T00:00:00",
                    "1981-03-01T00:00:00",
                    "1981-04-01T00:00:00",
                    "1981-05-01T00:00:00",
                    "1981-06-01T00:00:00",
                    "1981-07-01T00:00:00",
                    "1981-08-01T00:00:00",
                    "1981-09-01T00:00:00",
                    "1981-10-01T00:00:00",
                    "1981-11-01T00:00:00",
                    "1981-12-01T00:00:00",
                    "1982-01-01T00:00:00",
                    "1982-02-01T00:00:00",
                    "1982-03-01T00:00:00",
                    "1982-04-01T00:00:00",
                    "1982-05-01T00:00:00",
                    "1982-06-01T00:00:00",
                    "1982-07-01T00:00:00",
                    "1982-08-01T00:00:00",
                    "1982-09-01T00:00:00",
                    "1982-10-01T00:00:00",
                    "1982-11-01T00:00:00",
                    "1982-12-01T00:00:00",
                    "1983-01-01T00:00:00",
                    "1983-02-01T00:00:00",
                    "1983-03-01T00:00:00",
                    "1983-04-01T00:00:00",
                    "1983-05-01T00:00:00",
                    "1983-06-01T00:00:00",
                    "1983-07-01T00:00:00",
                    "1983-08-01T00:00:00",
                    "1983-09-01T00:00:00",
                    "1983-10-01T00:00:00",
                    "1983-11-01T00:00:00",
                    "1983-12-01T00:00:00",
                    "1984-01-01T00:00:00",
                    "1984-02-01T00:00:00",
                    "1984-03-01T00:00:00",
                    "1984-04-01T00:00:00",
                    "1984-05-01T00:00:00",
                    "1984-06-01T00:00:00",
                    "1984-07-01T00:00:00",
                    "1984-08-01T00:00:00",
                    "1984-09-01T00:00:00",
                    "1984-10-01T00:00:00",
                    "1984-11-01T00:00:00",
                    "1984-12-01T00:00:00",
                    "1985-01-01T00:00:00",
                    "1985-02-01T00:00:00",
                    "1985-03-01T00:00:00",
                    "1985-04-01T00:00:00",
                    "1985-05-01T00:00:00",
                    "1985-06-01T00:00:00",
                    "1985-07-01T00:00:00",
                    "1985-08-01T00:00:00",
                    "1985-09-01T00:00:00",
                    "1985-10-01T00:00:00",
                    "1985-11-01T00:00:00",
                    "1985-12-01T00:00:00",
                    "1986-01-01T00:00:00",
                    "1986-02-01T00:00:00",
                    "1986-03-01T00:00:00",
                    "1986-04-01T00:00:00",
                    "1986-05-01T00:00:00",
                    "1986-06-01T00:00:00",
                    "1986-07-01T00:00:00",
                    "1986-08-01T00:00:00",
                    "1986-09-01T00:00:00",
                    "1986-10-01T00:00:00",
                    "1986-11-01T00:00:00",
                    "1986-12-01T00:00:00",
                    "1987-01-01T00:00:00",
                    "1987-02-01T00:00:00",
                    "1987-03-01T00:00:00",
                    "1987-04-01T00:00:00",
                    "1987-05-01T00:00:00",
                    "1987-06-01T00:00:00",
                    "1987-07-01T00:00:00",
                    "1987-08-01T00:00:00",
                    "1987-09-01T00:00:00",
                    "1987-10-01T00:00:00",
                    "1987-11-01T00:00:00",
                    "1987-12-01T00:00:00",
                    "1988-01-01T00:00:00",
                    "1988-02-01T00:00:00",
                    "1988-03-01T00:00:00",
                    "1988-04-01T00:00:00",
                    "1988-05-01T00:00:00",
                    "1988-06-01T00:00:00",
                    "1988-07-01T00:00:00",
                    "1988-08-01T00:00:00",
                    "1988-09-01T00:00:00",
                    "1988-10-01T00:00:00",
                    "1988-11-01T00:00:00",
                    "1988-12-01T00:00:00",
                    "1989-01-01T00:00:00",
                    "1989-02-01T00:00:00",
                    "1989-03-01T00:00:00",
                    "1989-04-01T00:00:00",
                    "1989-05-01T00:00:00",
                    "1989-06-01T00:00:00",
                    "1989-07-01T00:00:00",
                    "1989-08-01T00:00:00",
                    "1989-09-01T00:00:00",
                    "1989-10-01T00:00:00",
                    "1989-11-01T00:00:00",
                    "1989-12-01T00:00:00",
                    "1990-01-01T00:00:00",
                    "1990-02-01T00:00:00",
                    "1990-03-01T00:00:00",
                    "1990-04-01T00:00:00",
                    "1990-05-01T00:00:00",
                    "1990-06-01T00:00:00",
                    "1990-07-01T00:00:00",
                    "1990-08-01T00:00:00",
                    "1990-09-01T00:00:00",
                    "1990-10-01T00:00:00",
                    "1990-11-01T00:00:00",
                    "1990-12-01T00:00:00",
                    "1991-01-01T00:00:00",
                    "1991-02-01T00:00:00",
                    "1991-03-01T00:00:00",
                    "1991-04-01T00:00:00",
                    "1991-05-01T00:00:00",
                    "1991-06-01T00:00:00",
                    "1991-07-01T00:00:00",
                    "1991-08-01T00:00:00",
                    "1991-09-01T00:00:00",
                    "1991-10-01T00:00:00",
                    "1991-11-01T00:00:00",
                    "1991-12-01T00:00:00",
                    "1992-01-01T00:00:00",
                    "1992-02-01T00:00:00",
                    "1992-03-01T00:00:00",
                    "1992-04-01T00:00:00",
                    "1992-05-01T00:00:00",
                    "1992-06-01T00:00:00",
                    "1992-07-01T00:00:00",
                    "1992-08-01T00:00:00",
                    "1992-09-01T00:00:00",
                    "1992-10-01T00:00:00",
                    "1992-11-01T00:00:00",
                    "1992-12-01T00:00:00",
                    "1993-01-01T00:00:00",
                    "1993-02-01T00:00:00",
                    "1993-03-01T00:00:00",
                    "1993-04-01T00:00:00",
                    "1993-05-01T00:00:00",
                    "1993-06-01T00:00:00",
                    "1993-07-01T00:00:00",
                    "1993-08-01T00:00:00",
                    "1993-09-01T00:00:00",
                    "1993-10-01T00:00:00",
                    "1993-11-01T00:00:00",
                    "1993-12-01T00:00:00",
                    "1994-01-01T00:00:00",
                    "1994-02-01T00:00:00",
                    "1994-03-01T00:00:00",
                    "1994-04-01T00:00:00",
                    "1994-05-01T00:00:00",
                    "1994-06-01T00:00:00",
                    "1994-07-01T00:00:00",
                    "1994-08-01T00:00:00",
                    "1994-09-01T00:00:00",
                    "1994-10-01T00:00:00",
                    "1994-11-01T00:00:00",
                    "1994-12-01T00:00:00",
                    "1995-01-01T00:00:00",
                    "1995-02-01T00:00:00",
                    "1995-03-01T00:00:00",
                    "1995-04-01T00:00:00",
                    "1995-05-01T00:00:00",
                    "1995-06-01T00:00:00",
                    "1995-07-01T00:00:00",
                    "1995-08-01T00:00:00",
                    "1995-09-01T00:00:00",
                    "1995-10-01T00:00:00",
                    "1995-11-01T00:00:00",
                    "1995-12-01T00:00:00",
                    "1996-01-01T00:00:00",
                    "1996-02-01T00:00:00",
                    "1996-03-01T00:00:00",
                    "1996-04-01T00:00:00",
                    "1996-05-01T00:00:00",
                    "1996-06-01T00:00:00",
                    "1996-07-01T00:00:00",
                    "1996-08-01T00:00:00",
                    "1996-09-01T00:00:00",
                    "1996-10-01T00:00:00",
                    "1996-11-01T00:00:00",
                    "1996-12-01T00:00:00",
                    "1997-01-01T00:00:00",
                    "1997-02-01T00:00:00",
                    "1997-03-01T00:00:00",
                    "1997-04-01T00:00:00",
                    "1997-05-01T00:00:00",
                    "1997-06-01T00:00:00",
                    "1997-07-01T00:00:00",
                    "1997-08-01T00:00:00",
                    "1997-09-01T00:00:00",
                    "1997-10-01T00:00:00",
                    "1997-11-01T00:00:00",
                    "1997-12-01T00:00:00",
                    "1998-01-01T00:00:00",
                    "1998-02-01T00:00:00",
                    "1998-03-01T00:00:00",
                    "1998-04-01T00:00:00",
                    "1998-05-01T00:00:00",
                    "1998-06-01T00:00:00",
                    "1998-07-01T00:00:00",
                    "1998-08-01T00:00:00",
                    "1998-09-01T00:00:00",
                    "1998-10-01T00:00:00",
                    "1998-11-01T00:00:00",
                    "1998-12-01T00:00:00",
                    "1999-01-01T00:00:00",
                    "1999-02-01T00:00:00",
                    "1999-03-01T00:00:00",
                    "1999-04-01T00:00:00",
                    "1999-05-01T00:00:00",
                    "1999-06-01T00:00:00",
                    "1999-07-01T00:00:00",
                    "1999-08-01T00:00:00",
                    "1999-09-01T00:00:00",
                    "1999-10-01T00:00:00",
                    "1999-11-01T00:00:00",
                    "1999-12-01T00:00:00",
                    "2000-01-01T00:00:00",
                    "2000-02-01T00:00:00",
                    "2000-03-01T00:00:00",
                    "2000-04-01T00:00:00",
                    "2000-05-01T00:00:00",
                    "2000-06-01T00:00:00",
                    "2000-07-01T00:00:00",
                    "2000-08-01T00:00:00",
                    "2000-09-01T00:00:00",
                    "2000-10-01T00:00:00",
                    "2000-11-01T00:00:00",
                    "2000-12-01T00:00:00",
                    "2001-01-01T00:00:00",
                    "2001-02-01T00:00:00",
                    "2001-03-01T00:00:00",
                    "2001-04-01T00:00:00",
                    "2001-05-01T00:00:00",
                    "2001-06-01T00:00:00",
                    "2001-07-01T00:00:00",
                    "2001-08-01T00:00:00",
                    "2001-09-01T00:00:00",
                    "2001-10-01T00:00:00",
                    "2001-11-01T00:00:00",
                    "2001-12-01T00:00:00",
                    "2002-01-01T00:00:00",
                    "2002-02-01T00:00:00",
                    "2002-03-01T00:00:00",
                    "2002-04-01T00:00:00",
                    "2002-05-01T00:00:00",
                    "2002-06-01T00:00:00",
                    "2002-07-01T00:00:00",
                    "2002-08-01T00:00:00",
                    "2002-09-01T00:00:00",
                    "2002-10-01T00:00:00",
                    "2002-11-01T00:00:00",
                    "2002-12-01T00:00:00",
                    "2003-01-01T00:00:00",
                    "2003-02-01T00:00:00",
                    "2003-03-01T00:00:00",
                    "2003-04-01T00:00:00",
                    "2003-05-01T00:00:00",
                    "2003-06-01T00:00:00",
                    "2003-07-01T00:00:00",
                    "2003-08-01T00:00:00",
                    "2003-09-01T00:00:00",
                    "2003-10-01T00:00:00",
                    "2003-11-01T00:00:00",
                    "2003-12-01T00:00:00",
                    "2004-01-01T00:00:00",
                    "2004-02-01T00:00:00",
                    "2004-03-01T00:00:00",
                    "2004-04-01T00:00:00",
                    "2004-05-01T00:00:00",
                    "2004-06-01T00:00:00",
                    "2004-07-01T00:00:00",
                    "2004-08-01T00:00:00",
                    "2004-09-01T00:00:00",
                    "2004-10-01T00:00:00",
                    "2004-11-01T00:00:00",
                    "2004-12-01T00:00:00",
                    "2005-01-01T00:00:00",
                    "2005-02-01T00:00:00",
                    "2005-03-01T00:00:00",
                    "2005-04-01T00:00:00",
                    "2005-05-01T00:00:00",
                    "2005-06-01T00:00:00",
                    "2005-07-01T00:00:00",
                    "2005-08-01T00:00:00",
                    "2005-09-01T00:00:00",
                    "2005-10-01T00:00:00",
                    "2005-11-01T00:00:00",
                    "2005-12-01T00:00:00",
                    "2006-01-01T00:00:00",
                    "2006-02-01T00:00:00",
                    "2006-03-01T00:00:00",
                    "2006-04-01T00:00:00",
                    "2006-05-01T00:00:00",
                    "2006-06-01T00:00:00",
                    "2006-07-01T00:00:00",
                    "2006-08-01T00:00:00",
                    "2006-09-01T00:00:00",
                    "2006-10-01T00:00:00",
                    "2006-11-01T00:00:00",
                    "2006-12-01T00:00:00",
                    "2007-01-01T00:00:00",
                    "2007-02-01T00:00:00",
                    "2007-03-01T00:00:00",
                    "2007-04-01T00:00:00",
                    "2007-05-01T00:00:00",
                    "2007-06-01T00:00:00",
                    "2007-07-01T00:00:00",
                    "2007-08-01T00:00:00",
                    "2007-09-01T00:00:00",
                    "2007-10-01T00:00:00",
                    "2007-11-01T00:00:00",
                    "2007-12-01T00:00:00",
                    "2008-01-01T00:00:00",
                    "2008-02-01T00:00:00",
                    "2008-03-01T00:00:00",
                    "2008-04-01T00:00:00",
                    "2008-05-01T00:00:00",
                    "2008-06-01T00:00:00",
                    "2008-07-01T00:00:00",
                    "2008-08-01T00:00:00",
                    "2008-09-01T00:00:00",
                    "2008-10-01T00:00:00",
                    "2008-11-01T00:00:00",
                    "2008-12-01T00:00:00",
                    "2009-01-01T00:00:00",
                    "2009-02-01T00:00:00",
                    "2009-03-01T00:00:00",
                    "2009-04-01T00:00:00",
                    "2009-05-01T00:00:00",
                    "2009-06-01T00:00:00",
                    "2009-07-01T00:00:00",
                    "2009-08-01T00:00:00",
                    "2009-09-01T00:00:00",
                    "2009-10-01T00:00:00",
                    "2009-11-01T00:00:00",
                    "2009-12-01T00:00:00",
                    "2010-01-01T00:00:00",
                    "2010-02-01T00:00:00",
                    "2010-03-01T00:00:00",
                    "2010-04-01T00:00:00",
                    "2010-05-01T00:00:00",
                    "2010-06-01T00:00:00",
                    "2010-07-01T00:00:00",
                    "2010-08-01T00:00:00",
                    "2010-09-01T00:00:00",
                    "2010-10-01T00:00:00",
                    "2010-11-01T00:00:00",
                    "2010-12-01T00:00:00",
                    "2011-01-01T00:00:00",
                    "2011-02-01T00:00:00",
                    "2011-03-01T00:00:00",
                    "2011-04-01T00:00:00",
                    "2011-05-01T00:00:00",
                    "2011-06-01T00:00:00",
                    "2011-07-01T00:00:00",
                    "2011-08-01T00:00:00",
                    "2011-09-01T00:00:00",
                    "2011-10-01T00:00:00",
                    "2011-11-01T00:00:00",
                    "2011-12-01T00:00:00",
                    "2012-01-01T00:00:00",
                    "2012-02-01T00:00:00",
                    "2012-03-01T00:00:00",
                    "2012-04-01T00:00:00",
                    "2012-05-01T00:00:00",
                    "2012-06-01T00:00:00",
                    "2012-07-01T00:00:00",
                    "2012-08-01T00:00:00",
                    "2012-09-01T00:00:00",
                    "2012-10-01T00:00:00",
                    "2012-11-01T00:00:00",
                    "2012-12-01T00:00:00",
                    "2013-01-01T00:00:00",
                    "2013-02-01T00:00:00",
                    "2013-03-01T00:00:00",
                    "2013-04-01T00:00:00",
                    "2013-05-01T00:00:00",
                    "2013-06-01T00:00:00",
                    "2013-07-01T00:00:00",
                    "2013-08-01T00:00:00",
                    "2013-09-01T00:00:00",
                    "2013-10-01T00:00:00",
                    "2013-11-01T00:00:00",
                    "2013-12-01T00:00:00",
                    "2014-01-01T00:00:00",
                    "2014-02-01T00:00:00",
                    "2014-03-01T00:00:00",
                    "2014-04-01T00:00:00",
                    "2014-05-01T00:00:00",
                    "2014-06-01T00:00:00",
                    "2014-07-01T00:00:00",
                    "2014-08-01T00:00:00",
                    "2014-09-01T00:00:00",
                    "2014-10-01T00:00:00",
                    "2014-11-01T00:00:00",
                    "2014-12-01T00:00:00",
                    "2015-01-01T00:00:00",
                    "2015-02-01T00:00:00",
                    "2015-03-01T00:00:00",
                    "2015-04-01T00:00:00",
                    "2015-05-01T00:00:00",
                    "2015-06-01T00:00:00",
                    "2015-07-01T00:00:00",
                    "2015-08-01T00:00:00",
                    "2015-09-01T00:00:00",
                    "2015-10-01T00:00:00",
                    "2015-11-01T00:00:00",
                    "2015-12-01T00:00:00",
                    "2016-01-01T00:00:00",
                    "2016-02-01T00:00:00",
                    "2016-03-01T00:00:00",
                    "2016-04-01T00:00:00",
                    "2016-05-01T00:00:00",
                    "2016-06-01T00:00:00",
                    "2016-07-01T00:00:00",
                    "2016-08-01T00:00:00",
                    "2016-09-01T00:00:00",
                    "2016-10-01T00:00:00",
                    "2016-11-01T00:00:00",
                    "2016-12-01T00:00:00",
                    "2017-01-01T00:00:00",
                    "2017-02-01T00:00:00",
                    "2017-03-01T00:00:00",
                    "2017-04-01T00:00:00",
                    "2017-05-01T00:00:00",
                    "2017-06-01T00:00:00",
                    "2017-07-01T00:00:00",
                    "2017-08-01T00:00:00",
                    "2017-09-01T00:00:00",
                    "2017-10-01T00:00:00",
                    "2017-11-01T00:00:00",
                    "2017-12-01T00:00:00",
                    "2018-01-01T00:00:00",
                    "2018-02-01T00:00:00",
                    "2018-03-01T00:00:00",
                    "2018-04-01T00:00:00",
                    "2018-05-01T00:00:00",
                    "2018-06-01T00:00:00",
                    "2018-07-01T00:00:00",
                    "2018-08-01T00:00:00",
                    "2018-09-01T00:00:00",
                    "2018-10-01T00:00:00",
                    "2018-11-01T00:00:00",
                    "2018-12-01T00:00:00",
                    "2019-01-01T00:00:00",
                    "2019-02-01T00:00:00",
                    "2019-03-01T00:00:00",
                    "2019-04-01T00:00:00",
                    "2019-05-01T00:00:00",
                    "2019-06-01T00:00:00",
                    "2019-07-01T00:00:00",
                    "2019-08-01T00:00:00",
                    "2019-09-01T00:00:00",
                    "2019-10-01T00:00:00",
                    "2019-11-01T00:00:00",
                    "2019-12-01T00:00:00",
                    "2020-01-01T00:00:00",
                    "2020-02-01T00:00:00",
                    "2020-03-01T00:00:00",
                    "2020-04-01T00:00:00",
                    "2020-05-01T00:00:00",
                    "2020-06-01T00:00:00",
                    "2020-07-01T00:00:00",
                    "2020-08-01T00:00:00",
                    "2020-09-01T00:00:00",
                    "2020-10-01T00:00:00",
                    "2020-11-01T00:00:00",
                    "2020-12-01T00:00:00",
                    "2021-01-01T00:00:00",
                    "2021-02-01T00:00:00",
                    "2021-03-01T00:00:00",
                    "2021-04-01T00:00:00",
                    "2021-05-01T00:00:00",
                    "2021-06-01T00:00:00",
                    "2021-07-01T00:00:00",
                    "2021-08-01T00:00:00",
                    "2021-09-01T00:00:00",
                    "2021-10-01T00:00:00",
                    "2021-11-01T00:00:00",
                    "2021-12-01T00:00:00",
                    "2022-01-01T00:00:00",
                    "2022-02-01T00:00:00",
                    "2022-03-01T00:00:00",
                    "2022-04-01T00:00:00",
                    "2022-05-01T00:00:00",
                    "2022-06-01T00:00:00",
                    "2022-07-01T00:00:00",
                    "2022-08-01T00:00:00",
                    "2022-09-01T00:00:00",
                    "2022-10-01T00:00:00",
                    "2022-11-01T00:00:00",
                    "2022-12-01T00:00:00",
                    "2023-01-01T00:00:00",
                    "2023-02-01T00:00:00",
                    "2023-03-01T00:00:00",
                    "2023-04-01T00:00:00",
                    "2023-05-01T00:00:00",
                    "2023-06-01T00:00:00",
                    "2023-07-01T00:00:00",
                    "2023-08-01T00:00:00",
                    "2023-09-01T00:00:00",
                    "2023-10-01T00:00:00",
                    "2023-11-01T00:00:00",
                    "2023-12-01T00:00:00",
                    "2024-01-01T00:00:00",
                    "2024-02-01T00:00:00",
                    "2024-03-01T00:00:00",
                    "2024-04-01T00:00:00"
                  ],
                  "y": {
                    "bdata": "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",
                    "dtype": "i2"
                  }
                },
                {
                  "mode": "lines",
                  "name": "실제값",
                  "type": "scatter",
                  "x": [
                    "2024-05-01T00:00:00",
                    "2024-06-01T00:00:00",
                    "2024-07-01T00:00:00",
                    "2024-08-01T00:00:00",
                    "2024-09-01T00:00:00",
                    "2024-10-01T00:00:00",
                    "2024-11-01T00:00:00",
                    "2024-12-01T00:00:00",
                    "2025-01-01T00:00:00",
                    "2025-02-01T00:00:00",
                    "2025-03-01T00:00:00",
                    "2025-04-01T00:00:00"
                  ],
                  "y": {
                    "bdata": "JAUvBfEEbwVNBUgFDwXqBU4F0gU7BVEF",
                    "dtype": "i2"
                  }
                },
                {
                  "mode": "lines",
                  "name": "예측값",
                  "type": "scatter",
                  "x": [
                    "2024-05-01T00:00:00",
                    "2024-06-01T00:00:00",
                    "2024-07-01T00:00:00",
                    "2024-08-01T00:00:00",
                    "2024-09-01T00:00:00",
                    "2024-10-01T00:00:00",
                    "2024-11-01T00:00:00",
                    "2024-12-01T00:00:00",
                    "2025-01-01T00:00:00",
                    "2025-02-01T00:00:00",
                    "2025-03-01T00:00:00",
                    "2025-04-01T00:00:00"
                  ],
                  "y": {
                    "bdata": "4b2tkRzOlUAYBPELHbSVQMncv20jlZVAmmVo+P5/lUCwW9l4TXSVQHQT5lCqbpVA1Ex+EkJslUAqBl8NXWuVQBAtzXkYa5VAYIIzJg1rlUCBskCkEWuVQCeMANUXa5VA",
                    "dtype": "f8"
                  }
                }
              ],
              "layout": {
                "template": {
                  "data": {
                    "bar": [
                      {
                        "error_x": {
                          "color": "#2a3f5f"
                        },
                        "error_y": {
                          "color": "#2a3f5f"
                        },
                        "marker": {
                          "line": {
                            "color": "#E5ECF6",
                            "width": 0.5
                          },
                          "pattern": {
                            "fillmode": "overlay",
                            "size": 10,
                            "solidity": 0.2
                          }
                        },
                        "type": "bar"
                      }
                    ],
                    "barpolar": [
                      {
                        "marker": {
                          "line": {
                            "color": "#E5ECF6",
                            "width": 0.5
                          },
                          "pattern": {
                            "fillmode": "overlay",
                            "size": 10,
                            "solidity": 0.2
                          }
                        },
                        "type": "barpolar"
                      }
                    ],
                    "carpet": [
                      {
                        "aaxis": {
                          "endlinecolor": "#2a3f5f",
                          "gridcolor": "white",
                          "linecolor": "white",
                          "minorgridcolor": "white",
                          "startlinecolor": "#2a3f5f"
                        },
                        "baxis": {
                          "endlinecolor": "#2a3f5f",
                          "gridcolor": "white",
                          "linecolor": "white",
                          "minorgridcolor": "white",
                          "startlinecolor": "#2a3f5f"
                        },
                        "type": "carpet"
                      }
                    ],
                    "choropleth": [
                      {
                        "colorbar": {
                          "outlinewidth": 0,
                          "ticks": ""
                        },
                        "type": "choropleth"
                      }
                    ],
                    "contour": [
                      {
                        "colorbar": {
                          "outlinewidth": 0,
                          "ticks": ""
                        },
                        "colorscale": [
                          [
                            0,
                            "#0d0887"
                          ],
                          [
                            0.1111111111111111,
                            "#46039f"
                          ],
                          [
                            0.2222222222222222,
                            "#7201a8"
                          ],
                          [
                            0.3333333333333333,
                            "#9c179e"
                          ],
                          [
                            0.4444444444444444,
                            "#bd3786"
                          ],
                          [
                            0.5555555555555556,
                            "#d8576b"
                          ],
                          [
                            0.6666666666666666,
                            "#ed7953"
                          ],
                          [
                            0.7777777777777778,
                            "#fb9f3a"
                          ],
                          [
                            0.8888888888888888,
                            "#fdca26"
                          ],
                          [
                            1,
                            "#f0f921"
                          ]
                        ],
                        "type": "contour"
                      }
                    ],
                    "contourcarpet": [
                      {
                        "colorbar": {
                          "outlinewidth": 0,
                          "ticks": ""
                        },
                        "type": "contourcarpet"
                      }
                    ],
                    "heatmap": [
                      {
                        "colorbar": {
                          "outlinewidth": 0,
                          "ticks": ""
                        },
                        "colorscale": [
                          [
                            0,
                            "#0d0887"
                          ],
                          [
                            0.1111111111111111,
                            "#46039f"
                          ],
                          [
                            0.2222222222222222,
                            "#7201a8"
                          ],
                          [
                            0.3333333333333333,
                            "#9c179e"
                          ],
                          [
                            0.4444444444444444,
                            "#bd3786"
                          ],
                          [
                            0.5555555555555556,
                            "#d8576b"
                          ],
                          [
                            0.6666666666666666,
                            "#ed7953"
                          ],
                          [
                            0.7777777777777778,
                            "#fb9f3a"
                          ],
                          [
                            0.8888888888888888,
                            "#fdca26"
                          ],
                          [
                            1,
                            "#f0f921"
                          ]
                        ],
                        "type": "heatmap"
                      }
                    ],
                    "histogram": [
                      {
                        "marker": {
                          "pattern": {
                            "fillmode": "overlay",
                            "size": 10,
                            "solidity": 0.2
                          }
                        },
                        "type": "histogram"
                      }
                    ],
                    "histogram2d": [
                      {
                        "colorbar": {
                          "outlinewidth": 0,
                          "ticks": ""
                        },
                        "colorscale": [
                          [
                            0,
                            "#0d0887"
                          ],
                          [
                            0.1111111111111111,
                            "#46039f"
                          ],
                          [
                            0.2222222222222222,
                            "#7201a8"
                          ],
                          [
                            0.3333333333333333,
                            "#9c179e"
                          ],
                          [
                            0.4444444444444444,
                            "#bd3786"
                          ],
                          [
                            0.5555555555555556,
                            "#d8576b"
                          ],
                          [
                            0.6666666666666666,
                            "#ed7953"
                          ],
                          [
                            0.7777777777777778,
                            "#fb9f3a"
                          ],
                          [
                            0.8888888888888888,
                            "#fdca26"
                          ],
                          [
                            1,
                            "#f0f921"
                          ]
                        ],
                        "type": "histogram2d"
                      }
                    ],
                    "histogram2dcontour": [
                      {
                        "colorbar": {
                          "outlinewidth": 0,
                          "ticks": ""
                        },
                        "colorscale": [
                          [
                            0,
                            "#0d0887"
                          ],
                          [
                            0.1111111111111111,
                            "#46039f"
                          ],
                          [
                            0.2222222222222222,
                            "#7201a8"
                          ],
                          [
                            0.3333333333333333,
                            "#9c179e"
                          ],
                          [
                            0.4444444444444444,
                            "#bd3786"
                          ],
                          [
                            0.5555555555555556,
                            "#d8576b"
                          ],
                          [
                            0.6666666666666666,
                            "#ed7953"
                          ],
                          [
                            0.7777777777777778,
                            "#fb9f3a"
                          ],
                          [
                            0.8888888888888888,
                            "#fdca26"
                          ],
                          [
                            1,
                            "#f0f921"
                          ]
                        ],
                        "type": "histogram2dcontour"
                      }
                    ],
                    "mesh3d": [
                      {
                        "colorbar": {
                          "outlinewidth": 0,
                          "ticks": ""
                        },
                        "type": "mesh3d"
                      }
                    ],
                    "parcoords": [
                      {
                        "line": {
                          "colorbar": {
                            "outlinewidth": 0,
                            "ticks": ""
                          }
                        },
                        "type": "parcoords"
                      }
                    ],
                    "pie": [
                      {
                        "automargin": true,
                        "type": "pie"
                      }
                    ],
                    "scatter": [
                      {
                        "fillpattern": {
                          "fillmode": "overlay",
                          "size": 10,
                          "solidity": 0.2
                        },
                        "type": "scatter"
                      }
                    ],
                    "scatter3d": [
                      {
                        "line": {
                          "colorbar": {
                            "outlinewidth": 0,
                            "ticks": ""
                          }
                        },
                        "marker": {
                          "colorbar": {
                            "outlinewidth": 0,
                            "ticks": ""
                          }
                        },
                        "type": "scatter3d"
                      }
                    ],
                    "scattercarpet": [
                      {
                        "marker": {
                          "colorbar": {
                            "outlinewidth": 0,
                            "ticks": ""
                          }
                        },
                        "type": "scattercarpet"
                      }
                    ],
                    "scattergeo": [
                      {
                        "marker": {
                          "colorbar": {
                            "outlinewidth": 0,
                            "ticks": ""
                          }
                        },
                        "type": "scattergeo"
                      }
                    ],
                    "scattergl": [
                      {
                        "marker": {
                          "colorbar": {
                            "outlinewidth": 0,
                            "ticks": ""
                          }
                        },
                        "type": "scattergl"
                      }
                    ],
                    "scattermap": [
                      {
                        "marker": {
                          "colorbar": {
                            "outlinewidth": 0,
                            "ticks": ""
                          }
                        },
                        "type": "scattermap"
                      }
                    ],
                    "scattermapbox": [
                      {
                        "marker": {
                          "colorbar": {
                            "outlinewidth": 0,
                            "ticks": ""
                          }
                        },
                        "type": "scattermapbox"
                      }
                    ],
                    "scatterpolar": [
                      {
                        "marker": {
                          "colorbar": {
                            "outlinewidth": 0,
                            "ticks": ""
                          }
                        },
                        "type": "scatterpolar"
                      }
                    ],
                    "scatterpolargl": [
                      {
                        "marker": {
                          "colorbar": {
                            "outlinewidth": 0,
                            "ticks": ""
                          }
                        },
                        "type": "scatterpolargl"
                      }
                    ],
                    "scatterternary": [
                      {
                        "marker": {
                          "colorbar": {
                            "outlinewidth": 0,
                            "ticks": ""
                          }
                        },
                        "type": "scatterternary"
                      }
                    ],
                    "surface": [
                      {
                        "colorbar": {
                          "outlinewidth": 0,
                          "ticks": ""
                        },
                        "colorscale": [
                          [
                            0,
                            "#0d0887"
                          ],
                          [
                            0.1111111111111111,
                            "#46039f"
                          ],
                          [
                            0.2222222222222222,
                            "#7201a8"
                          ],
                          [
                            0.3333333333333333,
                            "#9c179e"
                          ],
                          [
                            0.4444444444444444,
                            "#bd3786"
                          ],
                          [
                            0.5555555555555556,
                            "#d8576b"
                          ],
                          [
                            0.6666666666666666,
                            "#ed7953"
                          ],
                          [
                            0.7777777777777778,
                            "#fb9f3a"
                          ],
                          [
                            0.8888888888888888,
                            "#fdca26"
                          ],
                          [
                            1,
                            "#f0f921"
                          ]
                        ],
                        "type": "surface"
                      }
                    ],
                    "table": [
                      {
                        "cells": {
                          "fill": {
                            "color": "#EBF0F8"
                          },
                          "line": {
                            "color": "white"
                          }
                        },
                        "header": {
                          "fill": {
                            "color": "#C8D4E3"
                          },
                          "line": {
                            "color": "white"
                          }
                        },
                        "type": "table"
                      }
                    ]
                  },
                  "layout": {
                    "annotationdefaults": {
                      "arrowcolor": "#2a3f5f",
                      "arrowhead": 0,
                      "arrowwidth": 1
                    },
                    "autotypenumbers": "strict",
                    "coloraxis": {
                      "colorbar": {
                        "outlinewidth": 0,
                        "ticks": ""
                      }
                    },
                    "colorscale": {
                      "diverging": [
                        [
                          0,
                          "#8e0152"
                        ],
                        [
                          0.1,
                          "#c51b7d"
                        ],
                        [
                          0.2,
                          "#de77ae"
                        ],
                        [
                          0.3,
                          "#f1b6da"
                        ],
                        [
                          0.4,
                          "#fde0ef"
                        ],
                        [
                          0.5,
                          "#f7f7f7"
                        ],
                        [
                          0.6,
                          "#e6f5d0"
                        ],
                        [
                          0.7,
                          "#b8e186"
                        ],
                        [
                          0.8,
                          "#7fbc41"
                        ],
                        [
                          0.9,
                          "#4d9221"
                        ],
                        [
                          1,
                          "#276419"
                        ]
                      ],
                      "sequential": [
                        [
                          0,
                          "#0d0887"
                        ],
                        [
                          0.1111111111111111,
                          "#46039f"
                        ],
                        [
                          0.2222222222222222,
                          "#7201a8"
                        ],
                        [
                          0.3333333333333333,
                          "#9c179e"
                        ],
                        [
                          0.4444444444444444,
                          "#bd3786"
                        ],
                        [
                          0.5555555555555556,
                          "#d8576b"
                        ],
                        [
                          0.6666666666666666,
                          "#ed7953"
                        ],
                        [
                          0.7777777777777778,
                          "#fb9f3a"
                        ],
                        [
                          0.8888888888888888,
                          "#fdca26"
                        ],
                        [
                          1,
                          "#f0f921"
                        ]
                      ],
                      "sequentialminus": [
                        [
                          0,
                          "#0d0887"
                        ],
                        [
                          0.1111111111111111,
                          "#46039f"
                        ],
                        [
                          0.2222222222222222,
                          "#7201a8"
                        ],
                        [
                          0.3333333333333333,
                          "#9c179e"
                        ],
                        [
                          0.4444444444444444,
                          "#bd3786"
                        ],
                        [
                          0.5555555555555556,
                          "#d8576b"
                        ],
                        [
                          0.6666666666666666,
                          "#ed7953"
                        ],
                        [
                          0.7777777777777778,
                          "#fb9f3a"
                        ],
                        [
                          0.8888888888888888,
                          "#fdca26"
                        ],
                        [
                          1,
                          "#f0f921"
                        ]
                      ]
                    },
                    "colorway": [
                      "#636efa",
                      "#EF553B",
                      "#00cc96",
                      "#ab63fa",
                      "#FFA15A",
                      "#19d3f3",
                      "#FF6692",
                      "#B6E880",
                      "#FF97FF",
                      "#FECB52"
                    ],
                    "font": {
                      "color": "#2a3f5f"
                    },
                    "geo": {
                      "bgcolor": "white",
                      "lakecolor": "white",
                      "landcolor": "#E5ECF6",
                      "showlakes": true,
                      "showland": true,
                      "subunitcolor": "white"
                    },
                    "hoverlabel": {
                      "align": "left"
                    },
                    "hovermode": "closest",
                    "mapbox": {
                      "style": "light"
                    },
                    "paper_bgcolor": "white",
                    "plot_bgcolor": "#E5ECF6",
                    "polar": {
                      "angularaxis": {
                        "gridcolor": "white",
                        "linecolor": "white",
                        "ticks": ""
                      },
                      "bgcolor": "#E5ECF6",
                      "radialaxis": {
                        "gridcolor": "white",
                        "linecolor": "white",
                        "ticks": ""
                      }
                    },
                    "scene": {
                      "xaxis": {
                        "backgroundcolor": "#E5ECF6",
                        "gridcolor": "white",
                        "gridwidth": 2,
                        "linecolor": "white",
                        "showbackground": true,
                        "ticks": "",
                        "zerolinecolor": "white"
                      },
                      "yaxis": {
                        "backgroundcolor": "#E5ECF6",
                        "gridcolor": "white",
                        "gridwidth": 2,
                        "linecolor": "white",
                        "showbackground": true,
                        "ticks": "",
                        "zerolinecolor": "white"
                      },
                      "zaxis": {
                        "backgroundcolor": "#E5ECF6",
                        "gridcolor": "white",
                        "gridwidth": 2,
                        "linecolor": "white",
                        "showbackground": true,
                        "ticks": "",
                        "zerolinecolor": "white"
                      }
                    },
                    "shapedefaults": {
                      "line": {
                        "color": "#2a3f5f"
                      }
                    },
                    "ternary": {
                      "aaxis": {
                        "gridcolor": "white",
                        "linecolor": "white",
                        "ticks": ""
                      },
                      "baxis": {
                        "gridcolor": "white",
                        "linecolor": "white",
                        "ticks": ""
                      },
                      "bgcolor": "#E5ECF6",
                      "caxis": {
                        "gridcolor": "white",
                        "linecolor": "white",
                        "ticks": ""
                      }
                    },
                    "title": {
                      "x": 0.05
                    },
                    "xaxis": {
                      "automargin": true,
                      "gridcolor": "white",
                      "linecolor": "white",
                      "ticks": "",
                      "title": {
                        "standoff": 15
                      },
                      "zerolinecolor": "white",
                      "zerolinewidth": 2
                    },
                    "yaxis": {
                      "automargin": true,
                      "gridcolor": "white",
                      "linecolor": "white",
                      "ticks": "",
                      "title": {
                        "standoff": 15
                      },
                      "zerolinecolor": "white",
                      "zerolinewidth": 2
                    }
                  }
                },
                "title": {
                  "text": "미국 주택 판매량: 실제값 vs 예측값 (ARIMA)"
                },
                "xaxis": {
                  "title": {
                    "text": "날짜"
                  }
                },
                "yaxis": {
                  "title": {
                    "text": "주택 판매량"
                  }
                }
              }
            }
          },
          "metadata": {},
          "output_type": "display_data"
        }
      ],
      "source": [
        "# 결과 시각화\n",
        "fig = go.Figure()\n",
        "fig.add_trace(go.Scatter(x=train_housing.index, y=train_housing, mode='lines', name='훈련 데이터'))\n",
        "fig.add_trace(go.Scatter(x=test_housing.index, y=test_housing, mode='lines', name='실제값'))\n",
        "fig.add_trace(go.Scatter(x=test_housing.index, y=forecast_housing, mode='lines', name='예측값'))\n",
        "fig.update_layout(title='미국 주택 판매량: 실제값 vs 예측값 (ARIMA)', xaxis_title='날짜', yaxis_title='주택 판매량')\n",
        "fig.show()"
      ]
    },
    {
      "cell_type": "code",
      "execution_count": 43,
      "metadata": {},
      "outputs": [
        {
          "name": "stdout",
          "output_type": "stream",
          "text": [
            "평균 절대 오차 (MAE): 58.45\n",
            "평균 제곱근 오차 (RMSE): 74.35\n"
          ]
        }
      ],
      "source": [
        "# 예측 성능 평가\n",
        "from sklearn.metrics import mean_absolute_error, mean_squared_error\n",
        "import numpy as np\n",
        "\n",
        "mae = mean_absolute_error(test_housing, forecast_housing)\n",
        "rmse = np.sqrt(mean_squared_error(test_housing, forecast_housing))\n",
        "\n",
        "print(f\"평균 절대 오차 (MAE): {mae:.2f}\")\n",
        "print(f\"평균 제곱근 오차 (RMSE): {rmse:.2f}\")\n"
      ]
    },
    {
      "cell_type": "markdown",
      "metadata": {},
      "source": [
        "## 별첨. pmdarima 라이브러리 소개\n",
        "\n",
        "**pmdarima**는 Python에서 ARIMA 및 SARIMA 모델링을 위한 강력한 라이브러리입니다. R의 `forecast` 패키지에서 영감을 받아 개발되었으며, 시계열 분석을 보다 쉽고 효율적으로 수행할 수 있도록 도와줍니다.\n",
        "\n",
        "### 주요 기능\n",
        "\n",
        "1. **auto_arima**: 최적의 ARIMA/SARIMA 모델을 자동으로 탐색\n",
        "   - 다양한 (p,d,q)(P,D,Q,s) 조합을 체계적으로 테스트\n",
        "   - AIC, BIC 등의 정보 기준을 사용하여 최적 모델 선택\n",
        "   - 계절성 자동 감지 및 처리\n",
        "\n",
        "2. **정상성 검정**: \n",
        "   - KPSS, ADF 검정을 통한 차분 차수(d, D) 자동 결정\n",
        "   - 데이터의 정상성 여부를 자동으로 판단\n",
        "\n",
        "3. **계절성 처리**:\n",
        "   - 계절성 패턴 자동 감지\n",
        "   - 계절 차분 및 계절 ARIMA 파라미터 최적화\n",
        "\n",
        "4. **모델 진단**:\n",
        "   - 잔차 분석 도구 제공\n",
        "   - 모델 적합도 평가 지표"
      ]
    },
    {
      "cell_type": "code",
      "execution_count": null,
      "metadata": {},
      "outputs": [],
      "source": [
        "!pip install pmdarima"
      ]
    },
    {
      "cell_type": "markdown",
      "metadata": {},
      "source": [
        "### 💻 예시 코드 (Example Code)"
      ]
    },
    {
      "cell_type": "markdown",
      "metadata": {
        "id": "m1sqhdc85s_6"
      },
      "source": [
        "-----\n",
        "\n",
        "## 3\\. 계절성을 고려한 시계열 분석 (Seasonal Analysis): SARIMA\n",
        "\n",
        "### 💡 개념 (Concept)\n",
        "\n",
        "현실의 많은 시계열 데이터는 **계절성(Seasonality)**, 즉 특정 기간(주, 월, 분기, 년 등)을 주기로 반복되는 패턴을 가집니다. **SARIMA(Seasonal ARIMA)** 모델은 기존 ARIMA 모델에 이러한 계절적 요인을 추가하여 예측 성능을 높인 모델입니다.\n",
        "\n",
        "SARIMA 모델은 `ARIMA(p,d,q)`에 계절성 요소를 나타내는 `(P,D,Q,s)`가 추가됩니다.\n",
        "\n",
        "  * **`s`**: 계절 주기를 의미합니다. (예: 월별 데이터면 `s=12`, 분기별 데이터면 `s=4`)\n",
        "  * **`P`**: 계절성 자기회귀(Seasonal AR) 차수. `s` 기간 전의 과거 값이 현재 값에 미치는 영향을 나타냅니다.\n",
        "  * **`D`**: 계절성 차분(Seasonal Differencing) 횟수. 계절성 패턴을 제거하기 위해 필요한 차분 횟수입니다.\n",
        "  * **`Q`**: 계절성 이동평균(Seasonal MA) 차수. `s` 기간 전의 과거 예측 오차가 현재 값에 미치는 영향을 나타냅니다.\n",
        "\n",
        "메타포: \"올해 8월의 아이스크림 판매량은 작년 8월 판매량과 작년 예측 오차에 영향을 받을 것이다.\"\n",
        "\n",
        "**Auto-ARIMA: 최적의 파라미터 자동 탐색**\n",
        "SARIMA 모델은 `(p,d,q)(P,D,Q,s)`라는 7개의 파라미터를 결정해야 하므로, ACF/PACF만으로 최적의 조합을 찾기 어렵습니다. 이때 **`auto_arima`** 함수를 사용하면 매우 편리합니다. `auto_arima`는 주어진 데이터에 대해 다양한 파라미터 조합을 시도하고, **AIC(Akaike Information Criterion)** 값이 가장 낮은 최적의 모델을 자동으로 찾아줍니다.\n",
        "\n",
        "### 💻 예시 코드 (Example Code)\n",
        "\n",
        "`auto_arima`를 사용하여 월별 항공 승객 수 데이터에 대한 최적의 SARIMA 모델을 찾고, 예측을 수행해 보겠습니다."
      ]
    },
    {
      "cell_type": "code",
      "execution_count": null,
      "metadata": {},
      "outputs": [],
      "source": [
        "# pmdarima 라이브러리는 numpy 버전 2.0 이하에서 작동하여 넘파이를 재설치합니다."
      ]
    },
    {
      "cell_type": "code",
      "execution_count": 49,
      "metadata": {},
      "outputs": [
        {
          "name": "stdout",
          "output_type": "stream",
          "text": [
            "Collecting numpy==1.26.4\n",
            "  Using cached numpy-1.26.4-cp312-cp312-macosx_11_0_arm64.whl.metadata (61 kB)\n",
            "Using cached numpy-1.26.4-cp312-cp312-macosx_11_0_arm64.whl (13.7 MB)\n",
            "Installing collected packages: numpy\n",
            "  Attempting uninstall: numpy\n",
            "    Found existing installation: numpy 2.2.6\n",
            "    Uninstalling numpy-2.2.6:\n",
            "      Successfully uninstalled numpy-2.2.6\n",
            "Successfully installed numpy-1.26.4\n"
          ]
        }
      ],
      "source": [
        "!pip install \"numpy==1.26.4\""
      ]
    },
    {
      "cell_type": "code",
      "execution_count": 2,
      "metadata": {},
      "outputs": [],
      "source": [
        "import warnings\n",
        "warnings.filterwarnings('ignore')"
      ]
    },
    {
      "cell_type": "code",
      "execution_count": 4,
      "metadata": {
        "id": "hsTQlxkb5s_7"
      },
      "outputs": [
        {
          "name": "stdout",
          "output_type": "stream",
          "text": [
            "Performing stepwise search to minimize aic\n",
            " ARIMA(1,1,1)(0,1,1)[12]             : AIC=902.221, Time=0.11 sec\n",
            " ARIMA(0,1,0)(0,1,0)[12]             : AIC=905.065, Time=0.01 sec\n",
            " ARIMA(1,1,0)(1,1,0)[12]             : AIC=900.823, Time=0.04 sec\n",
            " ARIMA(0,1,1)(0,1,1)[12]             : AIC=901.721, Time=0.05 sec\n",
            " ARIMA(1,1,0)(0,1,0)[12]             : AIC=899.902, Time=0.01 sec\n",
            " ARIMA(1,1,0)(0,1,1)[12]             : AIC=901.052, Time=0.08 sec\n",
            " ARIMA(1,1,0)(1,1,1)[12]             : AIC=inf, Time=0.27 sec\n",
            " ARIMA(2,1,0)(0,1,0)[12]             : AIC=901.337, Time=0.02 sec\n",
            " ARIMA(1,1,1)(0,1,0)[12]             : AIC=900.971, Time=0.02 sec\n",
            " ARIMA(0,1,1)(0,1,0)[12]             : AIC=900.685, Time=0.01 sec\n",
            " ARIMA(2,1,1)(0,1,0)[12]             : AIC=902.967, Time=0.05 sec\n",
            " ARIMA(1,1,0)(0,1,0)[12] intercept   : AIC=901.457, Time=0.03 sec\n",
            "\n",
            "Best model:  ARIMA(1,1,0)(0,1,0)[12]          \n",
            "Total fit time: 0.698 seconds\n",
            "                                     SARIMAX Results                                      \n",
            "==========================================================================================\n",
            "Dep. Variable:                                  y   No. Observations:                  132\n",
            "Model:             SARIMAX(1, 1, 0)x(0, 1, 0, 12)   Log Likelihood                -447.951\n",
            "Date:                            Tue, 10 Jun 2025   AIC                            899.902\n",
            "Time:                                    07:11:10   BIC                            905.460\n",
            "Sample:                                01-01-1949   HQIC                           902.159\n",
            "                                     - 12-01-1959                                         \n",
            "Covariance Type:                              opg                                         \n",
            "==============================================================================\n",
            "                 coef    std err          z      P>|z|      [0.025      0.975]\n",
            "------------------------------------------------------------------------------\n",
            "ar.L1         -0.2431      0.090     -2.697      0.007      -0.420      -0.066\n",
            "sigma2       108.8757     13.306      8.183      0.000      82.797     134.954\n",
            "===================================================================================\n",
            "Ljung-Box (L1) (Q):                   0.02   Jarque-Bera (JB):                 0.57\n",
            "Prob(Q):                              0.89   Prob(JB):                         0.75\n",
            "Heteroskedasticity (H):               1.47   Skew:                            -0.03\n",
            "Prob(H) (two-sided):                  0.23   Kurtosis:                         3.33\n",
            "===================================================================================\n",
            "\n",
            "Warnings:\n",
            "[1] Covariance matrix calculated using the outer product of gradients (complex-step).\n"
          ]
        }
      ],
      "source": [
        "import pandas as pd\n",
        "import plotly.graph_objects as go\n",
        "import pmdarima as pm\n",
        "from pmdarima.model_selection import train_test_split\n",
        "\n",
        "# 데이터 로드\n",
        "url = 'https://raw.githubusercontent.com/jbrownlee/Datasets/master/airline-passengers.csv'\n",
        "df = pd.read_csv(url, index_col='Month', parse_dates=True)\n",
        "df.columns = ['Passengers']\n",
        "\n",
        "# 학습 데이터와 테스트 데이터 분리\n",
        "train_auto, test_auto = train_test_split(df['Passengers'], train_size=len(df)-12)\n",
        "\n",
        "# auto_arima로 최적 모델 탐색\n",
        "# 계절 주기는 월별 데이터이므로 m=12로 설정합니다.\n",
        "sarima_model = pm.auto_arima(train_auto,\n",
        "                             start_p=1, start_q=1,\n",
        "                             test='adf',       # adf 검정으로 d 결정\n",
        "                             max_p=3, max_q=3,  # p, q 최대값\n",
        "                             m=12,             # 계절 주기\n",
        "                             d=None,           # d는 자동으로 찾도록 설정\n",
        "                             seasonal=True,    # 계절성 모델 사용\n",
        "                             start_P=0,\n",
        "                             D=1,              # 계절성 차분은 1로 고정 (일반적)\n",
        "                             trace=True,       # 모델 탐색 과정 출력\n",
        "                             error_action='ignore',\n",
        "                             suppress_warnings=True,\n",
        "                             stepwise=True)     # 최적 파라미터를 효율적으로 찾음\n",
        "\n",
        "print(sarima_model.summary())"
      ]
    },
    {
      "cell_type": "markdown",
      "metadata": {},
      "source": [
        "## auto_arima 결과 해석\n",
        "\n",
        "위의 출력 결과를 통해 다음과 같이 해석할 수 있습니다:\n",
        "\n",
        "### 모델 탐색 과정\n",
        "- `auto_arima`는 다양한 SARIMA 모델을 시도하여 AIC(Akaike Information Criterion) 값이 가장 낮은 모델을 찾습니다\n",
        "- 총 12개의 모델을 시도했으며, 그 중 **ARIMA(1,1,0)(0,1,0)[12]** 모델이 AIC=899.902로 가장 좋은 성능을 보였습니다\n",
        "\n",
        "### 최적 모델: SARIMA(1,1,0)(0,1,0)[12]\n",
        "- **p=1, d=1, q=0**: 비계절성 부분에서 AR(1) 모델, 1차 차분 적용\n",
        "- **P=0, D=1, Q=0**: 계절성 부분에서는 1차 계절 차분만 적용\n",
        "- **계절 주기 = 12**: 월별 데이터의 연간 계절성\n",
        "\n",
        "### 모델 계수 해석\n",
        "- **ar.L1 = -0.2431**: AR(1) 계수로, 이전 시점의 값이 현재 값에 음의 영향을 미침\n",
        "- **sigma2 = 108.8757**: 오차항의 분산\n",
        "\n",
        "### 모델 진단\n",
        "- **Ljung-Box 검정 (Q=0.02, p=0.89)**: 잔차에 자기상관이 없음을 의미 (좋은 결과)\n",
        "- **Jarque-Bera 검정 (JB=0.57, p=0.75)**: 잔차가 정규분포를 따름을 의미 (좋은 결과)\n",
        "- **이분산성 검정 (H=1.47, p=0.23)**: 등분산성 가정을 만족함 (좋은 결과)\n",
        "\n",
        "이 모델은 통계적으로 적절하며 항공 승객 데이터의 패턴을 잘 포착하고 있습니다."
      ]
    },
    {
      "cell_type": "code",
      "execution_count": 5,
      "metadata": {},
      "outputs": [
        {
          "data": {
            "application/vnd.plotly.v1+json": {
              "config": {
                "plotlyServerURL": "https://plot.ly"
              },
              "data": [
                {
                  "name": "Actual",
                  "type": "scatter",
                  "x": [
                    "1949-01-01T00:00:00",
                    "1949-02-01T00:00:00",
                    "1949-03-01T00:00:00",
                    "1949-04-01T00:00:00",
                    "1949-05-01T00:00:00",
                    "1949-06-01T00:00:00",
                    "1949-07-01T00:00:00",
                    "1949-08-01T00:00:00",
                    "1949-09-01T00:00:00",
                    "1949-10-01T00:00:00",
                    "1949-11-01T00:00:00",
                    "1949-12-01T00:00:00",
                    "1950-01-01T00:00:00",
                    "1950-02-01T00:00:00",
                    "1950-03-01T00:00:00",
                    "1950-04-01T00:00:00",
                    "1950-05-01T00:00:00",
                    "1950-06-01T00:00:00",
                    "1950-07-01T00:00:00",
                    "1950-08-01T00:00:00",
                    "1950-09-01T00:00:00",
                    "1950-10-01T00:00:00",
                    "1950-11-01T00:00:00",
                    "1950-12-01T00:00:00",
                    "1951-01-01T00:00:00",
                    "1951-02-01T00:00:00",
                    "1951-03-01T00:00:00",
                    "1951-04-01T00:00:00",
                    "1951-05-01T00:00:00",
                    "1951-06-01T00:00:00",
                    "1951-07-01T00:00:00",
                    "1951-08-01T00:00:00",
                    "1951-09-01T00:00:00",
                    "1951-10-01T00:00:00",
                    "1951-11-01T00:00:00",
                    "1951-12-01T00:00:00",
                    "1952-01-01T00:00:00",
                    "1952-02-01T00:00:00",
                    "1952-03-01T00:00:00",
                    "1952-04-01T00:00:00",
                    "1952-05-01T00:00:00",
                    "1952-06-01T00:00:00",
                    "1952-07-01T00:00:00",
                    "1952-08-01T00:00:00",
                    "1952-09-01T00:00:00",
                    "1952-10-01T00:00:00",
                    "1952-11-01T00:00:00",
                    "1952-12-01T00:00:00",
                    "1953-01-01T00:00:00",
                    "1953-02-01T00:00:00",
                    "1953-03-01T00:00:00",
                    "1953-04-01T00:00:00",
                    "1953-05-01T00:00:00",
                    "1953-06-01T00:00:00",
                    "1953-07-01T00:00:00",
                    "1953-08-01T00:00:00",
                    "1953-09-01T00:00:00",
                    "1953-10-01T00:00:00",
                    "1953-11-01T00:00:00",
                    "1953-12-01T00:00:00",
                    "1954-01-01T00:00:00",
                    "1954-02-01T00:00:00",
                    "1954-03-01T00:00:00",
                    "1954-04-01T00:00:00",
                    "1954-05-01T00:00:00",
                    "1954-06-01T00:00:00",
                    "1954-07-01T00:00:00",
                    "1954-08-01T00:00:00",
                    "1954-09-01T00:00:00",
                    "1954-10-01T00:00:00",
                    "1954-11-01T00:00:00",
                    "1954-12-01T00:00:00",
                    "1955-01-01T00:00:00",
                    "1955-02-01T00:00:00",
                    "1955-03-01T00:00:00",
                    "1955-04-01T00:00:00",
                    "1955-05-01T00:00:00",
                    "1955-06-01T00:00:00",
                    "1955-07-01T00:00:00",
                    "1955-08-01T00:00:00",
                    "1955-09-01T00:00:00",
                    "1955-10-01T00:00:00",
                    "1955-11-01T00:00:00",
                    "1955-12-01T00:00:00",
                    "1956-01-01T00:00:00",
                    "1956-02-01T00:00:00",
                    "1956-03-01T00:00:00",
                    "1956-04-01T00:00:00",
                    "1956-05-01T00:00:00",
                    "1956-06-01T00:00:00",
                    "1956-07-01T00:00:00",
                    "1956-08-01T00:00:00",
                    "1956-09-01T00:00:00",
                    "1956-10-01T00:00:00",
                    "1956-11-01T00:00:00",
                    "1956-12-01T00:00:00",
                    "1957-01-01T00:00:00",
                    "1957-02-01T00:00:00",
                    "1957-03-01T00:00:00",
                    "1957-04-01T00:00:00",
                    "1957-05-01T00:00:00",
                    "1957-06-01T00:00:00",
                    "1957-07-01T00:00:00",
                    "1957-08-01T00:00:00",
                    "1957-09-01T00:00:00",
                    "1957-10-01T00:00:00",
                    "1957-11-01T00:00:00",
                    "1957-12-01T00:00:00",
                    "1958-01-01T00:00:00",
                    "1958-02-01T00:00:00",
                    "1958-03-01T00:00:00",
                    "1958-04-01T00:00:00",
                    "1958-05-01T00:00:00",
                    "1958-06-01T00:00:00",
                    "1958-07-01T00:00:00",
                    "1958-08-01T00:00:00",
                    "1958-09-01T00:00:00",
                    "1958-10-01T00:00:00",
                    "1958-11-01T00:00:00",
                    "1958-12-01T00:00:00",
                    "1959-01-01T00:00:00",
                    "1959-02-01T00:00:00",
                    "1959-03-01T00:00:00",
                    "1959-04-01T00:00:00",
                    "1959-05-01T00:00:00",
                    "1959-06-01T00:00:00",
                    "1959-07-01T00:00:00",
                    "1959-08-01T00:00:00",
                    "1959-09-01T00:00:00",
                    "1959-10-01T00:00:00",
                    "1959-11-01T00:00:00",
                    "1959-12-01T00:00:00",
                    "1960-01-01T00:00:00",
                    "1960-02-01T00:00:00",
                    "1960-03-01T00:00:00",
                    "1960-04-01T00:00:00",
                    "1960-05-01T00:00:00",
                    "1960-06-01T00:00:00",
                    "1960-07-01T00:00:00",
                    "1960-08-01T00:00:00",
                    "1960-09-01T00:00:00",
                    "1960-10-01T00:00:00",
                    "1960-11-01T00:00:00",
                    "1960-12-01T00:00:00"
                  ],
                  "y": {
                    "bdata": "cAB2AIQAgQB5AIcAlACUAIgAdwBoAHYAcwB+AI0AhwB9AJUAqgCqAJ4AhQByAIwAkQCWALIAowCsALIAxwDHALgAogCSAKYAqwC0AMEAtQC3ANoA5gDyANEAvwCsAMIAxADEAOwA6wDlAPMACAEQAe0A0wC0AMkAzAC8AOsA4wDqAAgBLgElAQMB5QDLAOUA8gDpAAsBDQEOATsBbAFbATgBEgHtABYBHAEVAT0BOQE+AXYBnQGVAWMBMgEPATIBOwEtAWQBXAFjAaYB0QHTAZQBWwExAVABVAE+AWoBXAFrAbMB6wH5AZQBZwE2AVEBaAFWAZYBjAGkAdgBJAIvAs8BlwFqAZUBoQGHAaMBzQHYARcCbgJeAvwBzQGGAbAB",
                    "dtype": "i2"
                  }
                },
                {
                  "name": "Forecast",
                  "type": "scatter",
                  "x": [
                    "1960-01-01T00:00:00",
                    "1960-02-01T00:00:00",
                    "1960-03-01T00:00:00",
                    "1960-04-01T00:00:00",
                    "1960-05-01T00:00:00",
                    "1960-06-01T00:00:00",
                    "1960-07-01T00:00:00",
                    "1960-08-01T00:00:00",
                    "1960-09-01T00:00:00",
                    "1960-10-01T00:00:00",
                    "1960-11-01T00:00:00",
                    "1960-12-01T00:00:00"
                  ],
                  "y": {
                    "bdata": "u8jc3MGBekBq4fYE5HB5QK8Y5xI2bX1AzNQoGBvOfEAXNExp401+QIHQlHn4xoBApGA+1PYmg0B/lK86936DQHZMxyH3foBAKTOrT+59fUA4VblM7q16QPSfcE3uXX1A",
                    "dtype": "f8"
                  }
                },
                {
                  "fill": "tonexty",
                  "line": {
                    "color": "rgba(255,0,0,0.1)"
                  },
                  "mode": "lines",
                  "name": "Lower CI",
                  "type": "scatter",
                  "x": [
                    "1960-01-01T00:00:00",
                    "1960-02-01T00:00:00",
                    "1960-03-01T00:00:00",
                    "1960-04-01T00:00:00",
                    "1960-05-01T00:00:00",
                    "1960-06-01T00:00:00",
                    "1960-07-01T00:00:00",
                    "1960-08-01T00:00:00",
                    "1960-09-01T00:00:00",
                    "1960-10-01T00:00:00",
                    "1960-11-01T00:00:00",
                    "1960-12-01T00:00:00"
                  ],
                  "y": {
                    "bdata": "J7GivYo6eUAQ9uoahdZ3QImNGUSgg3tAoB4kAq+iekBIGksSKOd7QNY4v5Q/8X5AGu+XKKW/gUA9T46dTQCCQHME8iKb1H1AoI1N7uAqekCDuc14GjN3QGaMEKQHvXlA",
                    "dtype": "f8"
                  }
                },
                {
                  "fill": "tonexty",
                  "line": {
                    "color": "rgba(255,0,0,0.1)"
                  },
                  "mode": "lines",
                  "name": "Upper CI",
                  "type": "scatter",
                  "x": [
                    "1960-01-01T00:00:00",
                    "1960-02-01T00:00:00",
                    "1960-03-01T00:00:00",
                    "1960-04-01T00:00:00",
                    "1960-05-01T00:00:00",
                    "1960-06-01T00:00:00",
                    "1960-07-01T00:00:00",
                    "1960-08-01T00:00:00",
                    "1960-09-01T00:00:00",
                    "1960-10-01T00:00:00",
                    "1960-11-01T00:00:00",
                    "1960-12-01T00:00:00"
                  ],
                  "y": {
                    "bdata": "T+AW/PjIe0DEzALvQgt7QNWjtOHLVn9A+IotLof5fkDzpiZgT1qAQJcEyihRFYJALtLkf0iOhEDB2dDXoP2EQLKWFbKgE4JAWWyE2H1ogEDt8KQgwih+QMFZaHtqf4BA",
                    "dtype": "f8"
                  }
                }
              ],
              "layout": {
                "template": {
                  "data": {
                    "bar": [
                      {
                        "error_x": {
                          "color": "#2a3f5f"
                        },
                        "error_y": {
                          "color": "#2a3f5f"
                        },
                        "marker": {
                          "line": {
                            "color": "#E5ECF6",
                            "width": 0.5
                          },
                          "pattern": {
                            "fillmode": "overlay",
                            "size": 10,
                            "solidity": 0.2
                          }
                        },
                        "type": "bar"
                      }
                    ],
                    "barpolar": [
                      {
                        "marker": {
                          "line": {
                            "color": "#E5ECF6",
                            "width": 0.5
                          },
                          "pattern": {
                            "fillmode": "overlay",
                            "size": 10,
                            "solidity": 0.2
                          }
                        },
                        "type": "barpolar"
                      }
                    ],
                    "carpet": [
                      {
                        "aaxis": {
                          "endlinecolor": "#2a3f5f",
                          "gridcolor": "white",
                          "linecolor": "white",
                          "minorgridcolor": "white",
                          "startlinecolor": "#2a3f5f"
                        },
                        "baxis": {
                          "endlinecolor": "#2a3f5f",
                          "gridcolor": "white",
                          "linecolor": "white",
                          "minorgridcolor": "white",
                          "startlinecolor": "#2a3f5f"
                        },
                        "type": "carpet"
                      }
                    ],
                    "choropleth": [
                      {
                        "colorbar": {
                          "outlinewidth": 0,
                          "ticks": ""
                        },
                        "type": "choropleth"
                      }
                    ],
                    "contour": [
                      {
                        "colorbar": {
                          "outlinewidth": 0,
                          "ticks": ""
                        },
                        "colorscale": [
                          [
                            0,
                            "#0d0887"
                          ],
                          [
                            0.1111111111111111,
                            "#46039f"
                          ],
                          [
                            0.2222222222222222,
                            "#7201a8"
                          ],
                          [
                            0.3333333333333333,
                            "#9c179e"
                          ],
                          [
                            0.4444444444444444,
                            "#bd3786"
                          ],
                          [
                            0.5555555555555556,
                            "#d8576b"
                          ],
                          [
                            0.6666666666666666,
                            "#ed7953"
                          ],
                          [
                            0.7777777777777778,
                            "#fb9f3a"
                          ],
                          [
                            0.8888888888888888,
                            "#fdca26"
                          ],
                          [
                            1,
                            "#f0f921"
                          ]
                        ],
                        "type": "contour"
                      }
                    ],
                    "contourcarpet": [
                      {
                        "colorbar": {
                          "outlinewidth": 0,
                          "ticks": ""
                        },
                        "type": "contourcarpet"
                      }
                    ],
                    "heatmap": [
                      {
                        "colorbar": {
                          "outlinewidth": 0,
                          "ticks": ""
                        },
                        "colorscale": [
                          [
                            0,
                            "#0d0887"
                          ],
                          [
                            0.1111111111111111,
                            "#46039f"
                          ],
                          [
                            0.2222222222222222,
                            "#7201a8"
                          ],
                          [
                            0.3333333333333333,
                            "#9c179e"
                          ],
                          [
                            0.4444444444444444,
                            "#bd3786"
                          ],
                          [
                            0.5555555555555556,
                            "#d8576b"
                          ],
                          [
                            0.6666666666666666,
                            "#ed7953"
                          ],
                          [
                            0.7777777777777778,
                            "#fb9f3a"
                          ],
                          [
                            0.8888888888888888,
                            "#fdca26"
                          ],
                          [
                            1,
                            "#f0f921"
                          ]
                        ],
                        "type": "heatmap"
                      }
                    ],
                    "histogram": [
                      {
                        "marker": {
                          "pattern": {
                            "fillmode": "overlay",
                            "size": 10,
                            "solidity": 0.2
                          }
                        },
                        "type": "histogram"
                      }
                    ],
                    "histogram2d": [
                      {
                        "colorbar": {
                          "outlinewidth": 0,
                          "ticks": ""
                        },
                        "colorscale": [
                          [
                            0,
                            "#0d0887"
                          ],
                          [
                            0.1111111111111111,
                            "#46039f"
                          ],
                          [
                            0.2222222222222222,
                            "#7201a8"
                          ],
                          [
                            0.3333333333333333,
                            "#9c179e"
                          ],
                          [
                            0.4444444444444444,
                            "#bd3786"
                          ],
                          [
                            0.5555555555555556,
                            "#d8576b"
                          ],
                          [
                            0.6666666666666666,
                            "#ed7953"
                          ],
                          [
                            0.7777777777777778,
                            "#fb9f3a"
                          ],
                          [
                            0.8888888888888888,
                            "#fdca26"
                          ],
                          [
                            1,
                            "#f0f921"
                          ]
                        ],
                        "type": "histogram2d"
                      }
                    ],
                    "histogram2dcontour": [
                      {
                        "colorbar": {
                          "outlinewidth": 0,
                          "ticks": ""
                        },
                        "colorscale": [
                          [
                            0,
                            "#0d0887"
                          ],
                          [
                            0.1111111111111111,
                            "#46039f"
                          ],
                          [
                            0.2222222222222222,
                            "#7201a8"
                          ],
                          [
                            0.3333333333333333,
                            "#9c179e"
                          ],
                          [
                            0.4444444444444444,
                            "#bd3786"
                          ],
                          [
                            0.5555555555555556,
                            "#d8576b"
                          ],
                          [
                            0.6666666666666666,
                            "#ed7953"
                          ],
                          [
                            0.7777777777777778,
                            "#fb9f3a"
                          ],
                          [
                            0.8888888888888888,
                            "#fdca26"
                          ],
                          [
                            1,
                            "#f0f921"
                          ]
                        ],
                        "type": "histogram2dcontour"
                      }
                    ],
                    "mesh3d": [
                      {
                        "colorbar": {
                          "outlinewidth": 0,
                          "ticks": ""
                        },
                        "type": "mesh3d"
                      }
                    ],
                    "parcoords": [
                      {
                        "line": {
                          "colorbar": {
                            "outlinewidth": 0,
                            "ticks": ""
                          }
                        },
                        "type": "parcoords"
                      }
                    ],
                    "pie": [
                      {
                        "automargin": true,
                        "type": "pie"
                      }
                    ],
                    "scatter": [
                      {
                        "fillpattern": {
                          "fillmode": "overlay",
                          "size": 10,
                          "solidity": 0.2
                        },
                        "type": "scatter"
                      }
                    ],
                    "scatter3d": [
                      {
                        "line": {
                          "colorbar": {
                            "outlinewidth": 0,
                            "ticks": ""
                          }
                        },
                        "marker": {
                          "colorbar": {
                            "outlinewidth": 0,
                            "ticks": ""
                          }
                        },
                        "type": "scatter3d"
                      }
                    ],
                    "scattercarpet": [
                      {
                        "marker": {
                          "colorbar": {
                            "outlinewidth": 0,
                            "ticks": ""
                          }
                        },
                        "type": "scattercarpet"
                      }
                    ],
                    "scattergeo": [
                      {
                        "marker": {
                          "colorbar": {
                            "outlinewidth": 0,
                            "ticks": ""
                          }
                        },
                        "type": "scattergeo"
                      }
                    ],
                    "scattergl": [
                      {
                        "marker": {
                          "colorbar": {
                            "outlinewidth": 0,
                            "ticks": ""
                          }
                        },
                        "type": "scattergl"
                      }
                    ],
                    "scattermap": [
                      {
                        "marker": {
                          "colorbar": {
                            "outlinewidth": 0,
                            "ticks": ""
                          }
                        },
                        "type": "scattermap"
                      }
                    ],
                    "scattermapbox": [
                      {
                        "marker": {
                          "colorbar": {
                            "outlinewidth": 0,
                            "ticks": ""
                          }
                        },
                        "type": "scattermapbox"
                      }
                    ],
                    "scatterpolar": [
                      {
                        "marker": {
                          "colorbar": {
                            "outlinewidth": 0,
                            "ticks": ""
                          }
                        },
                        "type": "scatterpolar"
                      }
                    ],
                    "scatterpolargl": [
                      {
                        "marker": {
                          "colorbar": {
                            "outlinewidth": 0,
                            "ticks": ""
                          }
                        },
                        "type": "scatterpolargl"
                      }
                    ],
                    "scatterternary": [
                      {
                        "marker": {
                          "colorbar": {
                            "outlinewidth": 0,
                            "ticks": ""
                          }
                        },
                        "type": "scatterternary"
                      }
                    ],
                    "surface": [
                      {
                        "colorbar": {
                          "outlinewidth": 0,
                          "ticks": ""
                        },
                        "colorscale": [
                          [
                            0,
                            "#0d0887"
                          ],
                          [
                            0.1111111111111111,
                            "#46039f"
                          ],
                          [
                            0.2222222222222222,
                            "#7201a8"
                          ],
                          [
                            0.3333333333333333,
                            "#9c179e"
                          ],
                          [
                            0.4444444444444444,
                            "#bd3786"
                          ],
                          [
                            0.5555555555555556,
                            "#d8576b"
                          ],
                          [
                            0.6666666666666666,
                            "#ed7953"
                          ],
                          [
                            0.7777777777777778,
                            "#fb9f3a"
                          ],
                          [
                            0.8888888888888888,
                            "#fdca26"
                          ],
                          [
                            1,
                            "#f0f921"
                          ]
                        ],
                        "type": "surface"
                      }
                    ],
                    "table": [
                      {
                        "cells": {
                          "fill": {
                            "color": "#EBF0F8"
                          },
                          "line": {
                            "color": "white"
                          }
                        },
                        "header": {
                          "fill": {
                            "color": "#C8D4E3"
                          },
                          "line": {
                            "color": "white"
                          }
                        },
                        "type": "table"
                      }
                    ]
                  },
                  "layout": {
                    "annotationdefaults": {
                      "arrowcolor": "#2a3f5f",
                      "arrowhead": 0,
                      "arrowwidth": 1
                    },
                    "autotypenumbers": "strict",
                    "coloraxis": {
                      "colorbar": {
                        "outlinewidth": 0,
                        "ticks": ""
                      }
                    },
                    "colorscale": {
                      "diverging": [
                        [
                          0,
                          "#8e0152"
                        ],
                        [
                          0.1,
                          "#c51b7d"
                        ],
                        [
                          0.2,
                          "#de77ae"
                        ],
                        [
                          0.3,
                          "#f1b6da"
                        ],
                        [
                          0.4,
                          "#fde0ef"
                        ],
                        [
                          0.5,
                          "#f7f7f7"
                        ],
                        [
                          0.6,
                          "#e6f5d0"
                        ],
                        [
                          0.7,
                          "#b8e186"
                        ],
                        [
                          0.8,
                          "#7fbc41"
                        ],
                        [
                          0.9,
                          "#4d9221"
                        ],
                        [
                          1,
                          "#276419"
                        ]
                      ],
                      "sequential": [
                        [
                          0,
                          "#0d0887"
                        ],
                        [
                          0.1111111111111111,
                          "#46039f"
                        ],
                        [
                          0.2222222222222222,
                          "#7201a8"
                        ],
                        [
                          0.3333333333333333,
                          "#9c179e"
                        ],
                        [
                          0.4444444444444444,
                          "#bd3786"
                        ],
                        [
                          0.5555555555555556,
                          "#d8576b"
                        ],
                        [
                          0.6666666666666666,
                          "#ed7953"
                        ],
                        [
                          0.7777777777777778,
                          "#fb9f3a"
                        ],
                        [
                          0.8888888888888888,
                          "#fdca26"
                        ],
                        [
                          1,
                          "#f0f921"
                        ]
                      ],
                      "sequentialminus": [
                        [
                          0,
                          "#0d0887"
                        ],
                        [
                          0.1111111111111111,
                          "#46039f"
                        ],
                        [
                          0.2222222222222222,
                          "#7201a8"
                        ],
                        [
                          0.3333333333333333,
                          "#9c179e"
                        ],
                        [
                          0.4444444444444444,
                          "#bd3786"
                        ],
                        [
                          0.5555555555555556,
                          "#d8576b"
                        ],
                        [
                          0.6666666666666666,
                          "#ed7953"
                        ],
                        [
                          0.7777777777777778,
                          "#fb9f3a"
                        ],
                        [
                          0.8888888888888888,
                          "#fdca26"
                        ],
                        [
                          1,
                          "#f0f921"
                        ]
                      ]
                    },
                    "colorway": [
                      "#636efa",
                      "#EF553B",
                      "#00cc96",
                      "#ab63fa",
                      "#FFA15A",
                      "#19d3f3",
                      "#FF6692",
                      "#B6E880",
                      "#FF97FF",
                      "#FECB52"
                    ],
                    "font": {
                      "color": "#2a3f5f"
                    },
                    "geo": {
                      "bgcolor": "white",
                      "lakecolor": "white",
                      "landcolor": "#E5ECF6",
                      "showlakes": true,
                      "showland": true,
                      "subunitcolor": "white"
                    },
                    "hoverlabel": {
                      "align": "left"
                    },
                    "hovermode": "closest",
                    "mapbox": {
                      "style": "light"
                    },
                    "paper_bgcolor": "white",
                    "plot_bgcolor": "#E5ECF6",
                    "polar": {
                      "angularaxis": {
                        "gridcolor": "white",
                        "linecolor": "white",
                        "ticks": ""
                      },
                      "bgcolor": "#E5ECF6",
                      "radialaxis": {
                        "gridcolor": "white",
                        "linecolor": "white",
                        "ticks": ""
                      }
                    },
                    "scene": {
                      "xaxis": {
                        "backgroundcolor": "#E5ECF6",
                        "gridcolor": "white",
                        "gridwidth": 2,
                        "linecolor": "white",
                        "showbackground": true,
                        "ticks": "",
                        "zerolinecolor": "white"
                      },
                      "yaxis": {
                        "backgroundcolor": "#E5ECF6",
                        "gridcolor": "white",
                        "gridwidth": 2,
                        "linecolor": "white",
                        "showbackground": true,
                        "ticks": "",
                        "zerolinecolor": "white"
                      },
                      "zaxis": {
                        "backgroundcolor": "#E5ECF6",
                        "gridcolor": "white",
                        "gridwidth": 2,
                        "linecolor": "white",
                        "showbackground": true,
                        "ticks": "",
                        "zerolinecolor": "white"
                      }
                    },
                    "shapedefaults": {
                      "line": {
                        "color": "#2a3f5f"
                      }
                    },
                    "ternary": {
                      "aaxis": {
                        "gridcolor": "white",
                        "linecolor": "white",
                        "ticks": ""
                      },
                      "baxis": {
                        "gridcolor": "white",
                        "linecolor": "white",
                        "ticks": ""
                      },
                      "bgcolor": "#E5ECF6",
                      "caxis": {
                        "gridcolor": "white",
                        "linecolor": "white",
                        "ticks": ""
                      }
                    },
                    "title": {
                      "x": 0.05
                    },
                    "xaxis": {
                      "automargin": true,
                      "gridcolor": "white",
                      "linecolor": "white",
                      "ticks": "",
                      "title": {
                        "standoff": 15
                      },
                      "zerolinecolor": "white",
                      "zerolinewidth": 2
                    },
                    "yaxis": {
                      "automargin": true,
                      "gridcolor": "white",
                      "linecolor": "white",
                      "ticks": "",
                      "title": {
                        "standoff": 15
                      },
                      "zerolinecolor": "white",
                      "zerolinewidth": 2
                    }
                  }
                },
                "title": {
                  "text": "항공 승객 수 예측 (SARIMA with auto_arima)"
                },
                "xaxis": {
                  "title": {
                    "text": "날짜"
                  }
                },
                "yaxis": {
                  "title": {
                    "text": "승객 수"
                  }
                }
              }
            }
          },
          "metadata": {},
          "output_type": "display_data"
        }
      ],
      "source": [
        "# 테스트 데이터에 대한 예측\n",
        "n_periods = 12\n",
        "forecast_auto, conf_int = sarima_model.predict(n_periods=n_periods, return_conf_int=True)\n",
        "\n",
        "# 예측 결과 시각화\n",
        "forecast_index = pd.date_range(start=train_auto.index[-1] + pd.DateOffset(months=1), periods=n_periods, freq='MS')\n",
        "\n",
        "fig = go.Figure()\n",
        "fig.add_trace(go.Scatter(x=df.index, y=df['Passengers'], name='Actual'))\n",
        "fig.add_trace(go.Scatter(x=forecast_index, y=forecast_auto, name='Forecast'))\n",
        "\n",
        "# 신뢰구간 추가\n",
        "fig.add_trace(go.Scatter(x=forecast_index, y=conf_int[:, 0], fill='tonexty',\n",
        "                         mode='lines', line_color='rgba(255,0,0,0.1)', name='Lower CI'))\n",
        "fig.add_trace(go.Scatter(x=forecast_index, y=conf_int[:, 1], fill='tonexty',\n",
        "                         mode='lines', line_color='rgba(255,0,0,0.1)', name='Upper CI'))\n",
        "\n",
        "fig.update_layout(title='항공 승객 수 예측 (SARIMA with auto_arima)', xaxis_title='날짜', yaxis_title='승객 수')\n",
        "fig.show()"
      ]
    },
    {
      "cell_type": "markdown",
      "metadata": {
        "id": "uZ85q9sp5s_7"
      },
      "source": [
        "### ✏️ 연습 문제 (Practice Problems)\n",
        "\n",
        "1.  샴푸 판매량 데이터는 36개월간의 월별 판매량을 기록하고 있습니다. 이 데이터를 사용하여 SARIMA 모델을 구축해보세요.\n",
        "      * 데이터셋 URL: `https://raw.githubusercontent.com/jbrownlee/Datasets/master/shampoo.csv`\n",
        "2.  데이터에 계절성이 있는지 시각적으로 확인해보세요. (힌트: 12개월 주기로 패턴이 나타나는지 확인)\n",
        "3.  `auto_arima`를 사용하여 최적의 SARIMA 모델을 찾고, 그 결과를 해석해보세요. (계절 주기는 12로 설정)\n",
        "4.  마지막 6개월을 예측하고, 실제 데이터와 비교하여 모델의 성능을 시각적으로 평가해보세요.\n",
        "\n",
        "<!-- end list -->"
      ]
    },
    {
      "cell_type": "code",
      "execution_count": 17,
      "metadata": {
        "id": "oZakUvZ35s_7"
      },
      "outputs": [
        {
          "name": "stdout",
          "output_type": "stream",
          "text": [
            "샴푸 판매량 데이터 기본 정보:\n",
            "       Sales\n",
            "Month       \n",
            "1-01   266.0\n",
            "1-02   145.9\n",
            "1-03   183.1\n",
            "1-04   119.3\n",
            "1-05   180.3\n",
            "데이터 크기: (36, 1)\n"
          ]
        }
      ],
      "source": [
        "# 연습 문제 1, 2, 3, 4번 풀이 공간\n",
        "import pandas as pd\n",
        "import plotly.graph_objects as go\n",
        "import pmdarima as pm\n",
        "from pmdarima.model_selection import train_test_split\n",
        "\n",
        "# 1. 데이터 로드\n",
        "url_shampoo = 'https://raw.githubusercontent.com/jbrownlee/Datasets/master/shampoo.csv'\n",
        "df_shampoo = pd.read_csv(url_shampoo, index_col='Month', parse_dates=True)\n",
        "df_shampoo.columns = ['Sales']\n",
        "\n",
        "\n",
        "# 여기에 2, 3, 4번 문제에 대한 코드를 작성하세요.\n",
        "# 2. 데이터 시각화 및 계절성 확인\n",
        "print(\"샴푸 판매량 데이터 기본 정보:\")\n",
        "print(df_shampoo.head())\n",
        "print(f\"데이터 크기: {df_shampoo.shape}\")"
      ]
    },
    {
      "cell_type": "code",
      "execution_count": 19,
      "metadata": {},
      "outputs": [
        {
          "data": {
            "application/vnd.plotly.v1+json": {
              "config": {
                "plotlyServerURL": "https://plot.ly"
              },
              "data": [
                {
                  "mode": "lines+markers",
                  "name": "샴푸 판매량",
                  "type": "scatter",
                  "x": [
                    "1-01",
                    "1-02",
                    "1-03",
                    "1-04",
                    "1-05",
                    "1-06",
                    "1-07",
                    "1-08",
                    "1-09",
                    "1-10",
                    "1-11",
                    "1-12",
                    "2-01",
                    "2-02",
                    "2-03",
                    "2-04",
                    "2-05",
                    "2-06",
                    "2-07",
                    "2-08",
                    "2-09",
                    "2-10",
                    "2-11",
                    "2-12",
                    "3-01",
                    "3-02",
                    "3-03",
                    "3-04",
                    "3-05",
                    "3-06",
                    "3-07",
                    "3-08",
                    "3-09",
                    "3-10",
                    "3-11",
                    "3-12"
                  ],
                  "y": {
                    "bdata": "AAAAAACgcEDNzMzMzDxiQDMzMzMz42ZAMzMzMzPTXUCamZmZmYlmQAAAAAAAEGVAmpmZmZn5bEAAAAAAABBsQJqZmZmZGWhAmpmZmZm5XkAAAAAAAAh1QM3MzMzMPGdAmpmZmZlJaEAAAAAAALBiQDMzMzMzQ2pAzczMzMwUcUDNzMzMzOxnQAAAAAAA8HFAAAAAAABAbECamZmZmflyQGZmZmZmHnJAmpmZmZlZekAAAAAAAIhwQM3MzMzMZHVAMzMzMzM7dUBmZmZmZoZ7QGZmZmZmvnNAzczMzMx0e0DNzMzMzBR5QGZmZmZmVntAAAAAAAD8gUCamZmZmXl5QAAAAAAAUIVAzczMzMy0fUBmZmZmZiqCQDMzMzMzN4RA",
                    "dtype": "f8"
                  }
                }
              ],
              "layout": {
                "template": {
                  "data": {
                    "bar": [
                      {
                        "error_x": {
                          "color": "#2a3f5f"
                        },
                        "error_y": {
                          "color": "#2a3f5f"
                        },
                        "marker": {
                          "line": {
                            "color": "#E5ECF6",
                            "width": 0.5
                          },
                          "pattern": {
                            "fillmode": "overlay",
                            "size": 10,
                            "solidity": 0.2
                          }
                        },
                        "type": "bar"
                      }
                    ],
                    "barpolar": [
                      {
                        "marker": {
                          "line": {
                            "color": "#E5ECF6",
                            "width": 0.5
                          },
                          "pattern": {
                            "fillmode": "overlay",
                            "size": 10,
                            "solidity": 0.2
                          }
                        },
                        "type": "barpolar"
                      }
                    ],
                    "carpet": [
                      {
                        "aaxis": {
                          "endlinecolor": "#2a3f5f",
                          "gridcolor": "white",
                          "linecolor": "white",
                          "minorgridcolor": "white",
                          "startlinecolor": "#2a3f5f"
                        },
                        "baxis": {
                          "endlinecolor": "#2a3f5f",
                          "gridcolor": "white",
                          "linecolor": "white",
                          "minorgridcolor": "white",
                          "startlinecolor": "#2a3f5f"
                        },
                        "type": "carpet"
                      }
                    ],
                    "choropleth": [
                      {
                        "colorbar": {
                          "outlinewidth": 0,
                          "ticks": ""
                        },
                        "type": "choropleth"
                      }
                    ],
                    "contour": [
                      {
                        "colorbar": {
                          "outlinewidth": 0,
                          "ticks": ""
                        },
                        "colorscale": [
                          [
                            0,
                            "#0d0887"
                          ],
                          [
                            0.1111111111111111,
                            "#46039f"
                          ],
                          [
                            0.2222222222222222,
                            "#7201a8"
                          ],
                          [
                            0.3333333333333333,
                            "#9c179e"
                          ],
                          [
                            0.4444444444444444,
                            "#bd3786"
                          ],
                          [
                            0.5555555555555556,
                            "#d8576b"
                          ],
                          [
                            0.6666666666666666,
                            "#ed7953"
                          ],
                          [
                            0.7777777777777778,
                            "#fb9f3a"
                          ],
                          [
                            0.8888888888888888,
                            "#fdca26"
                          ],
                          [
                            1,
                            "#f0f921"
                          ]
                        ],
                        "type": "contour"
                      }
                    ],
                    "contourcarpet": [
                      {
                        "colorbar": {
                          "outlinewidth": 0,
                          "ticks": ""
                        },
                        "type": "contourcarpet"
                      }
                    ],
                    "heatmap": [
                      {
                        "colorbar": {
                          "outlinewidth": 0,
                          "ticks": ""
                        },
                        "colorscale": [
                          [
                            0,
                            "#0d0887"
                          ],
                          [
                            0.1111111111111111,
                            "#46039f"
                          ],
                          [
                            0.2222222222222222,
                            "#7201a8"
                          ],
                          [
                            0.3333333333333333,
                            "#9c179e"
                          ],
                          [
                            0.4444444444444444,
                            "#bd3786"
                          ],
                          [
                            0.5555555555555556,
                            "#d8576b"
                          ],
                          [
                            0.6666666666666666,
                            "#ed7953"
                          ],
                          [
                            0.7777777777777778,
                            "#fb9f3a"
                          ],
                          [
                            0.8888888888888888,
                            "#fdca26"
                          ],
                          [
                            1,
                            "#f0f921"
                          ]
                        ],
                        "type": "heatmap"
                      }
                    ],
                    "histogram": [
                      {
                        "marker": {
                          "pattern": {
                            "fillmode": "overlay",
                            "size": 10,
                            "solidity": 0.2
                          }
                        },
                        "type": "histogram"
                      }
                    ],
                    "histogram2d": [
                      {
                        "colorbar": {
                          "outlinewidth": 0,
                          "ticks": ""
                        },
                        "colorscale": [
                          [
                            0,
                            "#0d0887"
                          ],
                          [
                            0.1111111111111111,
                            "#46039f"
                          ],
                          [
                            0.2222222222222222,
                            "#7201a8"
                          ],
                          [
                            0.3333333333333333,
                            "#9c179e"
                          ],
                          [
                            0.4444444444444444,
                            "#bd3786"
                          ],
                          [
                            0.5555555555555556,
                            "#d8576b"
                          ],
                          [
                            0.6666666666666666,
                            "#ed7953"
                          ],
                          [
                            0.7777777777777778,
                            "#fb9f3a"
                          ],
                          [
                            0.8888888888888888,
                            "#fdca26"
                          ],
                          [
                            1,
                            "#f0f921"
                          ]
                        ],
                        "type": "histogram2d"
                      }
                    ],
                    "histogram2dcontour": [
                      {
                        "colorbar": {
                          "outlinewidth": 0,
                          "ticks": ""
                        },
                        "colorscale": [
                          [
                            0,
                            "#0d0887"
                          ],
                          [
                            0.1111111111111111,
                            "#46039f"
                          ],
                          [
                            0.2222222222222222,
                            "#7201a8"
                          ],
                          [
                            0.3333333333333333,
                            "#9c179e"
                          ],
                          [
                            0.4444444444444444,
                            "#bd3786"
                          ],
                          [
                            0.5555555555555556,
                            "#d8576b"
                          ],
                          [
                            0.6666666666666666,
                            "#ed7953"
                          ],
                          [
                            0.7777777777777778,
                            "#fb9f3a"
                          ],
                          [
                            0.8888888888888888,
                            "#fdca26"
                          ],
                          [
                            1,
                            "#f0f921"
                          ]
                        ],
                        "type": "histogram2dcontour"
                      }
                    ],
                    "mesh3d": [
                      {
                        "colorbar": {
                          "outlinewidth": 0,
                          "ticks": ""
                        },
                        "type": "mesh3d"
                      }
                    ],
                    "parcoords": [
                      {
                        "line": {
                          "colorbar": {
                            "outlinewidth": 0,
                            "ticks": ""
                          }
                        },
                        "type": "parcoords"
                      }
                    ],
                    "pie": [
                      {
                        "automargin": true,
                        "type": "pie"
                      }
                    ],
                    "scatter": [
                      {
                        "fillpattern": {
                          "fillmode": "overlay",
                          "size": 10,
                          "solidity": 0.2
                        },
                        "type": "scatter"
                      }
                    ],
                    "scatter3d": [
                      {
                        "line": {
                          "colorbar": {
                            "outlinewidth": 0,
                            "ticks": ""
                          }
                        },
                        "marker": {
                          "colorbar": {
                            "outlinewidth": 0,
                            "ticks": ""
                          }
                        },
                        "type": "scatter3d"
                      }
                    ],
                    "scattercarpet": [
                      {
                        "marker": {
                          "colorbar": {
                            "outlinewidth": 0,
                            "ticks": ""
                          }
                        },
                        "type": "scattercarpet"
                      }
                    ],
                    "scattergeo": [
                      {
                        "marker": {
                          "colorbar": {
                            "outlinewidth": 0,
                            "ticks": ""
                          }
                        },
                        "type": "scattergeo"
                      }
                    ],
                    "scattergl": [
                      {
                        "marker": {
                          "colorbar": {
                            "outlinewidth": 0,
                            "ticks": ""
                          }
                        },
                        "type": "scattergl"
                      }
                    ],
                    "scattermap": [
                      {
                        "marker": {
                          "colorbar": {
                            "outlinewidth": 0,
                            "ticks": ""
                          }
                        },
                        "type": "scattermap"
                      }
                    ],
                    "scattermapbox": [
                      {
                        "marker": {
                          "colorbar": {
                            "outlinewidth": 0,
                            "ticks": ""
                          }
                        },
                        "type": "scattermapbox"
                      }
                    ],
                    "scatterpolar": [
                      {
                        "marker": {
                          "colorbar": {
                            "outlinewidth": 0,
                            "ticks": ""
                          }
                        },
                        "type": "scatterpolar"
                      }
                    ],
                    "scatterpolargl": [
                      {
                        "marker": {
                          "colorbar": {
                            "outlinewidth": 0,
                            "ticks": ""
                          }
                        },
                        "type": "scatterpolargl"
                      }
                    ],
                    "scatterternary": [
                      {
                        "marker": {
                          "colorbar": {
                            "outlinewidth": 0,
                            "ticks": ""
                          }
                        },
                        "type": "scatterternary"
                      }
                    ],
                    "surface": [
                      {
                        "colorbar": {
                          "outlinewidth": 0,
                          "ticks": ""
                        },
                        "colorscale": [
                          [
                            0,
                            "#0d0887"
                          ],
                          [
                            0.1111111111111111,
                            "#46039f"
                          ],
                          [
                            0.2222222222222222,
                            "#7201a8"
                          ],
                          [
                            0.3333333333333333,
                            "#9c179e"
                          ],
                          [
                            0.4444444444444444,
                            "#bd3786"
                          ],
                          [
                            0.5555555555555556,
                            "#d8576b"
                          ],
                          [
                            0.6666666666666666,
                            "#ed7953"
                          ],
                          [
                            0.7777777777777778,
                            "#fb9f3a"
                          ],
                          [
                            0.8888888888888888,
                            "#fdca26"
                          ],
                          [
                            1,
                            "#f0f921"
                          ]
                        ],
                        "type": "surface"
                      }
                    ],
                    "table": [
                      {
                        "cells": {
                          "fill": {
                            "color": "#EBF0F8"
                          },
                          "line": {
                            "color": "white"
                          }
                        },
                        "header": {
                          "fill": {
                            "color": "#C8D4E3"
                          },
                          "line": {
                            "color": "white"
                          }
                        },
                        "type": "table"
                      }
                    ]
                  },
                  "layout": {
                    "annotationdefaults": {
                      "arrowcolor": "#2a3f5f",
                      "arrowhead": 0,
                      "arrowwidth": 1
                    },
                    "autotypenumbers": "strict",
                    "coloraxis": {
                      "colorbar": {
                        "outlinewidth": 0,
                        "ticks": ""
                      }
                    },
                    "colorscale": {
                      "diverging": [
                        [
                          0,
                          "#8e0152"
                        ],
                        [
                          0.1,
                          "#c51b7d"
                        ],
                        [
                          0.2,
                          "#de77ae"
                        ],
                        [
                          0.3,
                          "#f1b6da"
                        ],
                        [
                          0.4,
                          "#fde0ef"
                        ],
                        [
                          0.5,
                          "#f7f7f7"
                        ],
                        [
                          0.6,
                          "#e6f5d0"
                        ],
                        [
                          0.7,
                          "#b8e186"
                        ],
                        [
                          0.8,
                          "#7fbc41"
                        ],
                        [
                          0.9,
                          "#4d9221"
                        ],
                        [
                          1,
                          "#276419"
                        ]
                      ],
                      "sequential": [
                        [
                          0,
                          "#0d0887"
                        ],
                        [
                          0.1111111111111111,
                          "#46039f"
                        ],
                        [
                          0.2222222222222222,
                          "#7201a8"
                        ],
                        [
                          0.3333333333333333,
                          "#9c179e"
                        ],
                        [
                          0.4444444444444444,
                          "#bd3786"
                        ],
                        [
                          0.5555555555555556,
                          "#d8576b"
                        ],
                        [
                          0.6666666666666666,
                          "#ed7953"
                        ],
                        [
                          0.7777777777777778,
                          "#fb9f3a"
                        ],
                        [
                          0.8888888888888888,
                          "#fdca26"
                        ],
                        [
                          1,
                          "#f0f921"
                        ]
                      ],
                      "sequentialminus": [
                        [
                          0,
                          "#0d0887"
                        ],
                        [
                          0.1111111111111111,
                          "#46039f"
                        ],
                        [
                          0.2222222222222222,
                          "#7201a8"
                        ],
                        [
                          0.3333333333333333,
                          "#9c179e"
                        ],
                        [
                          0.4444444444444444,
                          "#bd3786"
                        ],
                        [
                          0.5555555555555556,
                          "#d8576b"
                        ],
                        [
                          0.6666666666666666,
                          "#ed7953"
                        ],
                        [
                          0.7777777777777778,
                          "#fb9f3a"
                        ],
                        [
                          0.8888888888888888,
                          "#fdca26"
                        ],
                        [
                          1,
                          "#f0f921"
                        ]
                      ]
                    },
                    "colorway": [
                      "#636efa",
                      "#EF553B",
                      "#00cc96",
                      "#ab63fa",
                      "#FFA15A",
                      "#19d3f3",
                      "#FF6692",
                      "#B6E880",
                      "#FF97FF",
                      "#FECB52"
                    ],
                    "font": {
                      "color": "#2a3f5f"
                    },
                    "geo": {
                      "bgcolor": "white",
                      "lakecolor": "white",
                      "landcolor": "#E5ECF6",
                      "showlakes": true,
                      "showland": true,
                      "subunitcolor": "white"
                    },
                    "hoverlabel": {
                      "align": "left"
                    },
                    "hovermode": "closest",
                    "mapbox": {
                      "style": "light"
                    },
                    "paper_bgcolor": "white",
                    "plot_bgcolor": "#E5ECF6",
                    "polar": {
                      "angularaxis": {
                        "gridcolor": "white",
                        "linecolor": "white",
                        "ticks": ""
                      },
                      "bgcolor": "#E5ECF6",
                      "radialaxis": {
                        "gridcolor": "white",
                        "linecolor": "white",
                        "ticks": ""
                      }
                    },
                    "scene": {
                      "xaxis": {
                        "backgroundcolor": "#E5ECF6",
                        "gridcolor": "white",
                        "gridwidth": 2,
                        "linecolor": "white",
                        "showbackground": true,
                        "ticks": "",
                        "zerolinecolor": "white"
                      },
                      "yaxis": {
                        "backgroundcolor": "#E5ECF6",
                        "gridcolor": "white",
                        "gridwidth": 2,
                        "linecolor": "white",
                        "showbackground": true,
                        "ticks": "",
                        "zerolinecolor": "white"
                      },
                      "zaxis": {
                        "backgroundcolor": "#E5ECF6",
                        "gridcolor": "white",
                        "gridwidth": 2,
                        "linecolor": "white",
                        "showbackground": true,
                        "ticks": "",
                        "zerolinecolor": "white"
                      }
                    },
                    "shapedefaults": {
                      "line": {
                        "color": "#2a3f5f"
                      }
                    },
                    "ternary": {
                      "aaxis": {
                        "gridcolor": "white",
                        "linecolor": "white",
                        "ticks": ""
                      },
                      "baxis": {
                        "gridcolor": "white",
                        "linecolor": "white",
                        "ticks": ""
                      },
                      "bgcolor": "#E5ECF6",
                      "caxis": {
                        "gridcolor": "white",
                        "linecolor": "white",
                        "ticks": ""
                      }
                    },
                    "title": {
                      "x": 0.05
                    },
                    "xaxis": {
                      "automargin": true,
                      "gridcolor": "white",
                      "linecolor": "white",
                      "ticks": "",
                      "title": {
                        "standoff": 15
                      },
                      "zerolinecolor": "white",
                      "zerolinewidth": 2
                    },
                    "yaxis": {
                      "automargin": true,
                      "gridcolor": "white",
                      "linecolor": "white",
                      "ticks": "",
                      "title": {
                        "standoff": 15
                      },
                      "zerolinecolor": "white",
                      "zerolinewidth": 2
                    }
                  }
                },
                "title": {
                  "text": "샴푸 월별 판매량 시계열 데이터"
                },
                "xaxis": {
                  "title": {
                    "text": "날짜"
                  }
                },
                "yaxis": {
                  "title": {
                    "text": "판매량"
                  }
                }
              }
            }
          },
          "metadata": {},
          "output_type": "display_data"
        }
      ],
      "source": [
        "# 시계열 데이터 시각화\n",
        "fig = go.Figure()\n",
        "fig.add_trace(go.Scatter(x=df_shampoo.index, y=df_shampoo['Sales'], \n",
        "                         mode='lines+markers', name='샴푸 판매량'))\n",
        "fig.update_layout(title='샴푸 월별 판매량 시계열 데이터', \n",
        "                  xaxis_title='날짜', yaxis_title='판매량')\n",
        "fig.show()"
      ]
    },
    {
      "cell_type": "code",
      "execution_count": 24,
      "metadata": {},
      "outputs": [
        {
          "name": "stdout",
          "output_type": "stream",
          "text": [
            "최적 SARIMA 모델 탐색 중...\n",
            "최적 SARIMA 모델:\n",
            "                                     SARIMAX Results                                      \n",
            "==========================================================================================\n",
            "Dep. Variable:                                  y   No. Observations:                   36\n",
            "Model:             SARIMAX(1, 1, 1)x(0, 0, 1, 12)   Log Likelihood                -194.732\n",
            "Date:                            Tue, 10 Jun 2025   AIC                            399.463\n",
            "Time:                                    07:18:18   BIC                            407.240\n",
            "Sample:                                         0   HQIC                           402.148\n",
            "                                             - 36                                         \n",
            "Covariance Type:                              opg                                         \n",
            "==============================================================================\n",
            "                 coef    std err          z      P>|z|      [0.025      0.975]\n",
            "------------------------------------------------------------------------------\n",
            "intercept     19.8117      4.265      4.645      0.000      11.452      28.172\n",
            "ar.L1         -0.5472      0.183     -2.983      0.003      -0.907      -0.188\n",
            "ma.L1         -0.4831      0.225     -2.151      0.031      -0.923      -0.043\n",
            "ma.S.L12      -0.7452      0.831     -0.897      0.370      -2.374       0.883\n",
            "sigma2      3040.3268   1698.522      1.790      0.073    -288.715    6369.368\n",
            "===================================================================================\n",
            "Ljung-Box (L1) (Q):                   0.00   Jarque-Bera (JB):                 3.39\n",
            "Prob(Q):                              0.97   Prob(JB):                         0.18\n",
            "Heteroskedasticity (H):               1.23   Skew:                             0.68\n",
            "Prob(H) (two-sided):                  0.72   Kurtosis:                         3.69\n",
            "===================================================================================\n",
            "\n",
            "Warnings:\n",
            "[1] Covariance matrix calculated using the outer product of gradients (complex-step).\n"
          ]
        }
      ],
      "source": [
        "# 3. auto_arima를 사용한 최적 SARIMA 모델 찾기\n",
        "print(\"최적 SARIMA 모델 탐색 중...\")\n",
        "sarima_model_shampoo = pm.auto_arima(df_shampoo['Sales'], \n",
        "                                     seasonal=True, \n",
        "                                     m=12,  # 계절 주기 12개월\n",
        "                                     stepwise=True,\n",
        "                                     suppress_warnings=True,\n",
        "                                     error_action='ignore')\n",
        "\n",
        "print(\"최적 SARIMA 모델:\")\n",
        "print(sarima_model_shampoo.summary())"
      ]
    },
    {
      "cell_type": "code",
      "execution_count": 25,
      "metadata": {},
      "outputs": [],
      "source": [
        "# 3. 마지막 6개월 예측 및 성능 평가\n",
        "# 데이터를 학습용과 테스트용으로 분리\n",
        "train_data = df_shampoo['Sales'][:-6]\n",
        "test_data = df_shampoo['Sales'][-6:]\n",
        "\n",
        "# 학습 데이터로 모델 재학습\n",
        "sarima_model_train = pm.auto_arima(train_data, \n",
        "                                   seasonal=True, \n",
        "                                   m=12,\n",
        "                                   stepwise=True,\n",
        "                                   suppress_warnings=True,\n",
        "                                   error_action='ignore')"
      ]
    },
    {
      "cell_type": "code",
      "execution_count": 38,
      "metadata": {},
      "outputs": [
        {
          "data": {
            "application/vnd.plotly.v1+json": {
              "config": {
                "plotlyServerURL": "https://plot.ly"
              },
              "data": [
                {
                  "line": {
                    "color": "blue"
                  },
                  "name": "실제 데이터",
                  "type": "scatter",
                  "x": [
                    "1-01",
                    "1-02",
                    "1-03",
                    "1-04",
                    "1-05",
                    "1-06",
                    "1-07",
                    "1-08",
                    "1-09",
                    "1-10",
                    "1-11",
                    "1-12",
                    "2-01",
                    "2-02",
                    "2-03",
                    "2-04",
                    "2-05",
                    "2-06",
                    "2-07",
                    "2-08",
                    "2-09",
                    "2-10",
                    "2-11",
                    "2-12",
                    "3-01",
                    "3-02",
                    "3-03",
                    "3-04",
                    "3-05",
                    "3-06",
                    "3-07",
                    "3-08",
                    "3-09",
                    "3-10",
                    "3-11",
                    "3-12"
                  ],
                  "y": {
                    "bdata": "AAAAAACgcEDNzMzMzDxiQDMzMzMz42ZAMzMzMzPTXUCamZmZmYlmQAAAAAAAEGVAmpmZmZn5bEAAAAAAABBsQJqZmZmZGWhAmpmZmZm5XkAAAAAAAAh1QM3MzMzMPGdAmpmZmZlJaEAAAAAAALBiQDMzMzMzQ2pAzczMzMwUcUDNzMzMzOxnQAAAAAAA8HFAAAAAAABAbECamZmZmflyQGZmZmZmHnJAmpmZmZlZekAAAAAAAIhwQM3MzMzMZHVAMzMzMzM7dUBmZmZmZoZ7QGZmZmZmvnNAzczMzMx0e0DNzMzMzBR5QGZmZmZmVntAAAAAAAD8gUCamZmZmXl5QAAAAAAAUIVAzczMzMy0fUBmZmZmZiqCQDMzMzMzN4RA",
                    "dtype": "f8"
                  }
                },
                {
                  "line": {
                    "color": "red"
                  },
                  "name": "예측 데이터",
                  "type": "scatter",
                  "x": [
                    "3-07",
                    "3-08",
                    "3-09",
                    "3-10",
                    "3-11",
                    "3-12"
                  ],
                  "y": {
                    "bdata": "2KaXZ/1OekBk+h6hX1l6QFTB7OrwvnpAJQM/UnQNd0CF6iVTYtp9QEPuGbgp3ntA",
                    "dtype": "f8"
                  }
                },
                {
                  "line": {
                    "color": "rgba(255,0,0,0.1)"
                  },
                  "mode": "lines",
                  "showlegend": false,
                  "type": "scatter",
                  "x": [
                    "3-07",
                    "3-08",
                    "3-09",
                    "3-10",
                    "3-11",
                    "3-12"
                  ],
                  "y": {
                    "bdata": "fp6IoBWkdED/cDVFp3x0QKZBEpIdiXRA2eKBJtzVcEB5O77ZLod3QDGayDUlgHVA",
                    "dtype": "f8"
                  }
                },
                {
                  "fill": "tonexty",
                  "line": {
                    "color": "rgba(255,0,0,0.1)"
                  },
                  "mode": "lines",
                  "name": "신뢰구간",
                  "type": "scatter",
                  "x": [
                    "3-07",
                    "3-08",
                    "3-09",
                    "3-10",
                    "3-11",
                    "3-12"
                  ],
                  "y": {
                    "bdata": "Mq+mLuX5f0DkQYT+CxuAQIGg4yFieoBAcSP8fQxFfUDIzEbmyhaCQCuhNR0XHoFA",
                    "dtype": "f8"
                  }
                }
              ],
              "layout": {
                "template": {
                  "data": {
                    "bar": [
                      {
                        "error_x": {
                          "color": "#2a3f5f"
                        },
                        "error_y": {
                          "color": "#2a3f5f"
                        },
                        "marker": {
                          "line": {
                            "color": "#E5ECF6",
                            "width": 0.5
                          },
                          "pattern": {
                            "fillmode": "overlay",
                            "size": 10,
                            "solidity": 0.2
                          }
                        },
                        "type": "bar"
                      }
                    ],
                    "barpolar": [
                      {
                        "marker": {
                          "line": {
                            "color": "#E5ECF6",
                            "width": 0.5
                          },
                          "pattern": {
                            "fillmode": "overlay",
                            "size": 10,
                            "solidity": 0.2
                          }
                        },
                        "type": "barpolar"
                      }
                    ],
                    "carpet": [
                      {
                        "aaxis": {
                          "endlinecolor": "#2a3f5f",
                          "gridcolor": "white",
                          "linecolor": "white",
                          "minorgridcolor": "white",
                          "startlinecolor": "#2a3f5f"
                        },
                        "baxis": {
                          "endlinecolor": "#2a3f5f",
                          "gridcolor": "white",
                          "linecolor": "white",
                          "minorgridcolor": "white",
                          "startlinecolor": "#2a3f5f"
                        },
                        "type": "carpet"
                      }
                    ],
                    "choropleth": [
                      {
                        "colorbar": {
                          "outlinewidth": 0,
                          "ticks": ""
                        },
                        "type": "choropleth"
                      }
                    ],
                    "contour": [
                      {
                        "colorbar": {
                          "outlinewidth": 0,
                          "ticks": ""
                        },
                        "colorscale": [
                          [
                            0,
                            "#0d0887"
                          ],
                          [
                            0.1111111111111111,
                            "#46039f"
                          ],
                          [
                            0.2222222222222222,
                            "#7201a8"
                          ],
                          [
                            0.3333333333333333,
                            "#9c179e"
                          ],
                          [
                            0.4444444444444444,
                            "#bd3786"
                          ],
                          [
                            0.5555555555555556,
                            "#d8576b"
                          ],
                          [
                            0.6666666666666666,
                            "#ed7953"
                          ],
                          [
                            0.7777777777777778,
                            "#fb9f3a"
                          ],
                          [
                            0.8888888888888888,
                            "#fdca26"
                          ],
                          [
                            1,
                            "#f0f921"
                          ]
                        ],
                        "type": "contour"
                      }
                    ],
                    "contourcarpet": [
                      {
                        "colorbar": {
                          "outlinewidth": 0,
                          "ticks": ""
                        },
                        "type": "contourcarpet"
                      }
                    ],
                    "heatmap": [
                      {
                        "colorbar": {
                          "outlinewidth": 0,
                          "ticks": ""
                        },
                        "colorscale": [
                          [
                            0,
                            "#0d0887"
                          ],
                          [
                            0.1111111111111111,
                            "#46039f"
                          ],
                          [
                            0.2222222222222222,
                            "#7201a8"
                          ],
                          [
                            0.3333333333333333,
                            "#9c179e"
                          ],
                          [
                            0.4444444444444444,
                            "#bd3786"
                          ],
                          [
                            0.5555555555555556,
                            "#d8576b"
                          ],
                          [
                            0.6666666666666666,
                            "#ed7953"
                          ],
                          [
                            0.7777777777777778,
                            "#fb9f3a"
                          ],
                          [
                            0.8888888888888888,
                            "#fdca26"
                          ],
                          [
                            1,
                            "#f0f921"
                          ]
                        ],
                        "type": "heatmap"
                      }
                    ],
                    "histogram": [
                      {
                        "marker": {
                          "pattern": {
                            "fillmode": "overlay",
                            "size": 10,
                            "solidity": 0.2
                          }
                        },
                        "type": "histogram"
                      }
                    ],
                    "histogram2d": [
                      {
                        "colorbar": {
                          "outlinewidth": 0,
                          "ticks": ""
                        },
                        "colorscale": [
                          [
                            0,
                            "#0d0887"
                          ],
                          [
                            0.1111111111111111,
                            "#46039f"
                          ],
                          [
                            0.2222222222222222,
                            "#7201a8"
                          ],
                          [
                            0.3333333333333333,
                            "#9c179e"
                          ],
                          [
                            0.4444444444444444,
                            "#bd3786"
                          ],
                          [
                            0.5555555555555556,
                            "#d8576b"
                          ],
                          [
                            0.6666666666666666,
                            "#ed7953"
                          ],
                          [
                            0.7777777777777778,
                            "#fb9f3a"
                          ],
                          [
                            0.8888888888888888,
                            "#fdca26"
                          ],
                          [
                            1,
                            "#f0f921"
                          ]
                        ],
                        "type": "histogram2d"
                      }
                    ],
                    "histogram2dcontour": [
                      {
                        "colorbar": {
                          "outlinewidth": 0,
                          "ticks": ""
                        },
                        "colorscale": [
                          [
                            0,
                            "#0d0887"
                          ],
                          [
                            0.1111111111111111,
                            "#46039f"
                          ],
                          [
                            0.2222222222222222,
                            "#7201a8"
                          ],
                          [
                            0.3333333333333333,
                            "#9c179e"
                          ],
                          [
                            0.4444444444444444,
                            "#bd3786"
                          ],
                          [
                            0.5555555555555556,
                            "#d8576b"
                          ],
                          [
                            0.6666666666666666,
                            "#ed7953"
                          ],
                          [
                            0.7777777777777778,
                            "#fb9f3a"
                          ],
                          [
                            0.8888888888888888,
                            "#fdca26"
                          ],
                          [
                            1,
                            "#f0f921"
                          ]
                        ],
                        "type": "histogram2dcontour"
                      }
                    ],
                    "mesh3d": [
                      {
                        "colorbar": {
                          "outlinewidth": 0,
                          "ticks": ""
                        },
                        "type": "mesh3d"
                      }
                    ],
                    "parcoords": [
                      {
                        "line": {
                          "colorbar": {
                            "outlinewidth": 0,
                            "ticks": ""
                          }
                        },
                        "type": "parcoords"
                      }
                    ],
                    "pie": [
                      {
                        "automargin": true,
                        "type": "pie"
                      }
                    ],
                    "scatter": [
                      {
                        "fillpattern": {
                          "fillmode": "overlay",
                          "size": 10,
                          "solidity": 0.2
                        },
                        "type": "scatter"
                      }
                    ],
                    "scatter3d": [
                      {
                        "line": {
                          "colorbar": {
                            "outlinewidth": 0,
                            "ticks": ""
                          }
                        },
                        "marker": {
                          "colorbar": {
                            "outlinewidth": 0,
                            "ticks": ""
                          }
                        },
                        "type": "scatter3d"
                      }
                    ],
                    "scattercarpet": [
                      {
                        "marker": {
                          "colorbar": {
                            "outlinewidth": 0,
                            "ticks": ""
                          }
                        },
                        "type": "scattercarpet"
                      }
                    ],
                    "scattergeo": [
                      {
                        "marker": {
                          "colorbar": {
                            "outlinewidth": 0,
                            "ticks": ""
                          }
                        },
                        "type": "scattergeo"
                      }
                    ],
                    "scattergl": [
                      {
                        "marker": {
                          "colorbar": {
                            "outlinewidth": 0,
                            "ticks": ""
                          }
                        },
                        "type": "scattergl"
                      }
                    ],
                    "scattermap": [
                      {
                        "marker": {
                          "colorbar": {
                            "outlinewidth": 0,
                            "ticks": ""
                          }
                        },
                        "type": "scattermap"
                      }
                    ],
                    "scattermapbox": [
                      {
                        "marker": {
                          "colorbar": {
                            "outlinewidth": 0,
                            "ticks": ""
                          }
                        },
                        "type": "scattermapbox"
                      }
                    ],
                    "scatterpolar": [
                      {
                        "marker": {
                          "colorbar": {
                            "outlinewidth": 0,
                            "ticks": ""
                          }
                        },
                        "type": "scatterpolar"
                      }
                    ],
                    "scatterpolargl": [
                      {
                        "marker": {
                          "colorbar": {
                            "outlinewidth": 0,
                            "ticks": ""
                          }
                        },
                        "type": "scatterpolargl"
                      }
                    ],
                    "scatterternary": [
                      {
                        "marker": {
                          "colorbar": {
                            "outlinewidth": 0,
                            "ticks": ""
                          }
                        },
                        "type": "scatterternary"
                      }
                    ],
                    "surface": [
                      {
                        "colorbar": {
                          "outlinewidth": 0,
                          "ticks": ""
                        },
                        "colorscale": [
                          [
                            0,
                            "#0d0887"
                          ],
                          [
                            0.1111111111111111,
                            "#46039f"
                          ],
                          [
                            0.2222222222222222,
                            "#7201a8"
                          ],
                          [
                            0.3333333333333333,
                            "#9c179e"
                          ],
                          [
                            0.4444444444444444,
                            "#bd3786"
                          ],
                          [
                            0.5555555555555556,
                            "#d8576b"
                          ],
                          [
                            0.6666666666666666,
                            "#ed7953"
                          ],
                          [
                            0.7777777777777778,
                            "#fb9f3a"
                          ],
                          [
                            0.8888888888888888,
                            "#fdca26"
                          ],
                          [
                            1,
                            "#f0f921"
                          ]
                        ],
                        "type": "surface"
                      }
                    ],
                    "table": [
                      {
                        "cells": {
                          "fill": {
                            "color": "#EBF0F8"
                          },
                          "line": {
                            "color": "white"
                          }
                        },
                        "header": {
                          "fill": {
                            "color": "#C8D4E3"
                          },
                          "line": {
                            "color": "white"
                          }
                        },
                        "type": "table"
                      }
                    ]
                  },
                  "layout": {
                    "annotationdefaults": {
                      "arrowcolor": "#2a3f5f",
                      "arrowhead": 0,
                      "arrowwidth": 1
                    },
                    "autotypenumbers": "strict",
                    "coloraxis": {
                      "colorbar": {
                        "outlinewidth": 0,
                        "ticks": ""
                      }
                    },
                    "colorscale": {
                      "diverging": [
                        [
                          0,
                          "#8e0152"
                        ],
                        [
                          0.1,
                          "#c51b7d"
                        ],
                        [
                          0.2,
                          "#de77ae"
                        ],
                        [
                          0.3,
                          "#f1b6da"
                        ],
                        [
                          0.4,
                          "#fde0ef"
                        ],
                        [
                          0.5,
                          "#f7f7f7"
                        ],
                        [
                          0.6,
                          "#e6f5d0"
                        ],
                        [
                          0.7,
                          "#b8e186"
                        ],
                        [
                          0.8,
                          "#7fbc41"
                        ],
                        [
                          0.9,
                          "#4d9221"
                        ],
                        [
                          1,
                          "#276419"
                        ]
                      ],
                      "sequential": [
                        [
                          0,
                          "#0d0887"
                        ],
                        [
                          0.1111111111111111,
                          "#46039f"
                        ],
                        [
                          0.2222222222222222,
                          "#7201a8"
                        ],
                        [
                          0.3333333333333333,
                          "#9c179e"
                        ],
                        [
                          0.4444444444444444,
                          "#bd3786"
                        ],
                        [
                          0.5555555555555556,
                          "#d8576b"
                        ],
                        [
                          0.6666666666666666,
                          "#ed7953"
                        ],
                        [
                          0.7777777777777778,
                          "#fb9f3a"
                        ],
                        [
                          0.8888888888888888,
                          "#fdca26"
                        ],
                        [
                          1,
                          "#f0f921"
                        ]
                      ],
                      "sequentialminus": [
                        [
                          0,
                          "#0d0887"
                        ],
                        [
                          0.1111111111111111,
                          "#46039f"
                        ],
                        [
                          0.2222222222222222,
                          "#7201a8"
                        ],
                        [
                          0.3333333333333333,
                          "#9c179e"
                        ],
                        [
                          0.4444444444444444,
                          "#bd3786"
                        ],
                        [
                          0.5555555555555556,
                          "#d8576b"
                        ],
                        [
                          0.6666666666666666,
                          "#ed7953"
                        ],
                        [
                          0.7777777777777778,
                          "#fb9f3a"
                        ],
                        [
                          0.8888888888888888,
                          "#fdca26"
                        ],
                        [
                          1,
                          "#f0f921"
                        ]
                      ]
                    },
                    "colorway": [
                      "#636efa",
                      "#EF553B",
                      "#00cc96",
                      "#ab63fa",
                      "#FFA15A",
                      "#19d3f3",
                      "#FF6692",
                      "#B6E880",
                      "#FF97FF",
                      "#FECB52"
                    ],
                    "font": {
                      "color": "#2a3f5f"
                    },
                    "geo": {
                      "bgcolor": "white",
                      "lakecolor": "white",
                      "landcolor": "#E5ECF6",
                      "showlakes": true,
                      "showland": true,
                      "subunitcolor": "white"
                    },
                    "hoverlabel": {
                      "align": "left"
                    },
                    "hovermode": "closest",
                    "mapbox": {
                      "style": "light"
                    },
                    "paper_bgcolor": "white",
                    "plot_bgcolor": "#E5ECF6",
                    "polar": {
                      "angularaxis": {
                        "gridcolor": "white",
                        "linecolor": "white",
                        "ticks": ""
                      },
                      "bgcolor": "#E5ECF6",
                      "radialaxis": {
                        "gridcolor": "white",
                        "linecolor": "white",
                        "ticks": ""
                      }
                    },
                    "scene": {
                      "xaxis": {
                        "backgroundcolor": "#E5ECF6",
                        "gridcolor": "white",
                        "gridwidth": 2,
                        "linecolor": "white",
                        "showbackground": true,
                        "ticks": "",
                        "zerolinecolor": "white"
                      },
                      "yaxis": {
                        "backgroundcolor": "#E5ECF6",
                        "gridcolor": "white",
                        "gridwidth": 2,
                        "linecolor": "white",
                        "showbackground": true,
                        "ticks": "",
                        "zerolinecolor": "white"
                      },
                      "zaxis": {
                        "backgroundcolor": "#E5ECF6",
                        "gridcolor": "white",
                        "gridwidth": 2,
                        "linecolor": "white",
                        "showbackground": true,
                        "ticks": "",
                        "zerolinecolor": "white"
                      }
                    },
                    "shapedefaults": {
                      "line": {
                        "color": "#2a3f5f"
                      }
                    },
                    "ternary": {
                      "aaxis": {
                        "gridcolor": "white",
                        "linecolor": "white",
                        "ticks": ""
                      },
                      "baxis": {
                        "gridcolor": "white",
                        "linecolor": "white",
                        "ticks": ""
                      },
                      "bgcolor": "#E5ECF6",
                      "caxis": {
                        "gridcolor": "white",
                        "linecolor": "white",
                        "ticks": ""
                      }
                    },
                    "title": {
                      "x": 0.05
                    },
                    "xaxis": {
                      "automargin": true,
                      "gridcolor": "white",
                      "linecolor": "white",
                      "ticks": "",
                      "title": {
                        "standoff": 15
                      },
                      "zerolinecolor": "white",
                      "zerolinewidth": 2
                    },
                    "yaxis": {
                      "automargin": true,
                      "gridcolor": "white",
                      "linecolor": "white",
                      "ticks": "",
                      "title": {
                        "standoff": 15
                      },
                      "zerolinecolor": "white",
                      "zerolinewidth": 2
                    }
                  }
                },
                "title": {
                  "text": "샴푸 판매량 예측 결과 (마지막 6개월)"
                },
                "xaxis": {
                  "title": {
                    "text": "날짜"
                  }
                },
                "yaxis": {
                  "title": {
                    "text": "판매량"
                  }
                }
              }
            }
          },
          "metadata": {},
          "output_type": "display_data"
        }
      ],
      "source": [
        "# 6개월 예측\n",
        "forecast_shampoo, conf_int_shampoo = sarima_model_train.predict(n_periods=6, return_conf_int=True)\n",
        "\n",
        "# 예측 결과 시각화\n",
        "forecast_index = test_data.index\n",
        "forecast_shampoo.index = test_data.index\n",
        "\n",
        "fig_forecast = go.Figure()\n",
        "\n",
        "# 전체 실제 데이터\n",
        "fig_forecast.add_trace(go.Scatter(x=df_shampoo.index, y=df_shampoo['Sales'], \n",
        "                                  name='실제 데이터', line=dict(color='blue')))\n",
        "\n",
        "# 예측 데이터\n",
        "fig_forecast.add_trace(go.Scatter(x=forecast_index, y=forecast_shampoo, \n",
        "                                  name='예측 데이터', line=dict(color='red')))\n",
        "\n",
        "# 신뢰구간\n",
        "fig_forecast.add_trace(go.Scatter(x=forecast_index, y=conf_int_shampoo[:, 0], \n",
        "                                  fill=None, mode='lines', \n",
        "                                  line_color='rgba(255,0,0,0.1)', \n",
        "                                  showlegend=False))\n",
        "fig_forecast.add_trace(go.Scatter(x=forecast_index, y=conf_int_shampoo[:, 1], \n",
        "                                  fill='tonexty', mode='lines', \n",
        "                                  line_color='rgba(255,0,0,0.1)', \n",
        "                                  name='신뢰구간'))\n",
        "\n",
        "fig_forecast.update_layout(title='샴푸 판매량 예측 결과 (마지막 6개월)', \n",
        "                          xaxis_title='날짜', yaxis_title='판매량')\n",
        "fig_forecast.show()"
      ]
    },
    {
      "cell_type": "code",
      "execution_count": 37,
      "metadata": {},
      "outputs": [
        {
          "name": "stdout",
          "output_type": "stream",
          "text": [
            "예측 성능 평가:\n",
            "MAE (평균 절대 오차): 138.96\n",
            "RMSE (평균 제곱근 오차): 158.70\n",
            "MAPE (평균 절대 백분율 오차): 23.14%\n"
          ]
        }
      ],
      "source": [
        "# 예측 성능 평가\n",
        "from sklearn.metrics import mean_absolute_error, mean_squared_error\n",
        "import numpy as np\n",
        "mae = mean_absolute_error(test_data, forecast_shampoo)\n",
        "rmse = np.sqrt(mean_squared_error(test_data, forecast_shampoo))\n",
        "mape = np.mean(np.abs((test_data - forecast_shampoo) / test_data)) * 100\n",
        "\n",
        "print(f\"예측 성능 평가:\")\n",
        "print(f\"MAE (평균 절대 오차): {mae:.2f}\")\n",
        "print(f\"RMSE (평균 제곱근 오차): {rmse:.2f}\")\n",
        "print(f\"MAPE (평균 절대 백분율 오차): {mape:.2f}%\")"
      ]
    },
    {
      "cell_type": "code",
      "execution_count": 40,
      "metadata": {},
      "outputs": [
        {
          "name": "stdout",
          "output_type": "stream",
          "text": [
            "실제값 vs 예측값 비교:\n"
          ]
        },
        {
          "data": {
            "text/html": [
              "<div>\n",
              "<style scoped>\n",
              "    .dataframe tbody tr th:only-of-type {\n",
              "        vertical-align: middle;\n",
              "    }\n",
              "\n",
              "    .dataframe tbody tr th {\n",
              "        vertical-align: top;\n",
              "    }\n",
              "\n",
              "    .dataframe thead th {\n",
              "        text-align: right;\n",
              "    }\n",
              "</style>\n",
              "<table border=\"1\" class=\"dataframe\">\n",
              "  <thead>\n",
              "    <tr style=\"text-align: right;\">\n",
              "      <th></th>\n",
              "      <th>실제값</th>\n",
              "      <th>예측값</th>\n",
              "      <th>오차</th>\n",
              "    </tr>\n",
              "    <tr>\n",
              "      <th>Month</th>\n",
              "      <th></th>\n",
              "      <th></th>\n",
              "      <th></th>\n",
              "    </tr>\n",
              "  </thead>\n",
              "  <tbody>\n",
              "    <tr>\n",
              "      <th>3-07</th>\n",
              "      <td>575.5</td>\n",
              "      <td>420.94</td>\n",
              "      <td>154.56</td>\n",
              "    </tr>\n",
              "    <tr>\n",
              "      <th>3-08</th>\n",
              "      <td>407.6</td>\n",
              "      <td>421.59</td>\n",
              "      <td>-13.99</td>\n",
              "    </tr>\n",
              "    <tr>\n",
              "      <th>3-09</th>\n",
              "      <td>682.0</td>\n",
              "      <td>427.93</td>\n",
              "      <td>254.07</td>\n",
              "    </tr>\n",
              "    <tr>\n",
              "      <th>3-10</th>\n",
              "      <td>475.3</td>\n",
              "      <td>368.84</td>\n",
              "      <td>106.46</td>\n",
              "    </tr>\n",
              "    <tr>\n",
              "      <th>3-11</th>\n",
              "      <td>581.3</td>\n",
              "      <td>477.65</td>\n",
              "      <td>103.65</td>\n",
              "    </tr>\n",
              "    <tr>\n",
              "      <th>3-12</th>\n",
              "      <td>646.9</td>\n",
              "      <td>445.89</td>\n",
              "      <td>201.01</td>\n",
              "    </tr>\n",
              "  </tbody>\n",
              "</table>\n",
              "</div>"
            ],
            "text/plain": [
              "         실제값     예측값      오차\n",
              "Month                       \n",
              "3-07   575.5  420.94  154.56\n",
              "3-08   407.6  421.59  -13.99\n",
              "3-09   682.0  427.93  254.07\n",
              "3-10   475.3  368.84  106.46\n",
              "3-11   581.3  477.65  103.65\n",
              "3-12   646.9  445.89  201.01"
            ]
          },
          "execution_count": 40,
          "metadata": {},
          "output_type": "execute_result"
        }
      ],
      "source": [
        "# 실제값과 예측값 비교 테이블\n",
        "comparison_df = pd.DataFrame({\n",
        "    '실제값': test_data.values,\n",
        "    '예측값': forecast_shampoo,\n",
        "    '오차': test_data.values - forecast_shampoo,\n",
        "}, index=test_data.index)\n",
        "\n",
        "print(\"실제값 vs 예측값 비교:\")\n",
        "comparison_df.round(2)\n"
      ]
    },
    {
      "cell_type": "markdown",
      "metadata": {
        "id": "WNvR9rlU5s_7"
      },
      "source": [
        "-----\n",
        "\n",
        "## 4\\. 다변량 시계열 분석 (Multivariate Analysis): VAR\n",
        "\n",
        "### 💡 개념 (Concept)\n",
        "\n",
        "**VAR(Vector AutoRegression, 벡터 자기회귀)** 모델은 **여러 개의 시계열 변수**가 서로 영향을 주고받는 관계를 모델링하는 **다변량(Multivariate)** 시계열 분석 기법입니다.\n",
        "\n",
        "단변량 분석(ARIMA 등)이 하나의 변수(y)의 과거만을 보고 미래를 예측했다면, VAR은 여러 변수(y1, y2, ...)의 과거 값들이 서로의 현재 값에 어떻게 영향을 미치는지를 동시에 분석합니다.\n",
        "\n",
        "메타포: \"오늘의 기온(y1)은 어제의 기온뿐만 아니라 어제의 풍속(y2)과 습도(y3)에도 영향을 받는다.\"\n",
        "\n",
        "**VAR 모델의 특징**:\n",
        "\n",
        "  * **내생성**: 모델에 포함된 모든 변수는 서로에게 영향을 주는 내생변수(endogenous variable)로 취급됩니다.\n",
        "  * **방정식 시스템**: 각 변수에 대해 별도의 회귀 방정식이 만들어집니다. 예를 들어, 변수가 2개(y1, y2)인 VAR(1) 모델은 다음과 같은 두 개의 방정식으로 구성됩니다.\n",
        "    $$y_{1,t} = c_1 + \\phi_{11,1}y_{1,t-1} + \\phi_{12,1}y_{2,t-1} + \\epsilon_{1,t}$$\n",
        "    $$y_{2,t} = c_2 + \\phi_{21,1}y_{1,t-1} + \\phi_{22,1}y_{2,t-1} + \\epsilon_{2,t}$$\n",
        "  * **정상성**: VAR 모델 역시 모든 시계열 데이터가 정상성을 만족해야 합니다. 따라서 모델링 전에 각 변수에 대해 ADF 검정 및 차분을 수행해야 합니다.\n",
        "  * **최적 시차(p) 결정**: AIC, BIC 등의 정보 기준을 사용하여 최적의 시차 `p`를 결정합니다.\n",
        "\n",
        "**VARMA, VARMAX 란?**\n",
        "\n",
        "  * **VARMA**: VAR 모델에 이동평균(MA) 항을 추가하여, 각 변수의 예측 오차 또한 다른 변수들에게 영향을 미치는 관계를 모델링합니다.\n",
        "  * **VARMAX**: VARMA 모델에 외생변수(eXogenous variable, X)를 추가한 모델입니다. 모델 외부에서 결정되지만 모델 내 변수들에게 영향을 주는 변수(예: 정책, 이벤트)를 분석에 포함시킬 수 있습니다.\n",
        "\n",
        "### 💻 예시 코드 (Example Code)\n",
        "\n",
        "`moneystock-spending-series.csv` 데이터의 'Money'와 'Spending' 두 변수가 서로에게 미치는 영향을 VAR 모델로 분석해 보겠습니다."
      ]
    },
    {
      "cell_type": "code",
      "execution_count": 45,
      "metadata": {
        "id": "JD4VI_gE5s_7"
      },
      "outputs": [
        {
          "name": "stdout",
          "output_type": "stream",
          "text": [
            " VAR Order Selection (* highlights the minimums)  \n",
            "==================================================\n",
            "       AIC         BIC         FPE         HQIC   \n",
            "--------------------------------------------------\n",
            "0        14.84       14.87   2.789e+06       14.85\n",
            "1        14.26       14.36   1.567e+06       14.30\n",
            "2        14.04       14.20   1.255e+06       14.10\n",
            "3        13.93      14.15*   1.123e+06       14.02\n",
            "4        13.91       14.18   1.096e+06       14.02\n",
            "5        13.87       14.20   1.052e+06      14.00*\n",
            "6        13.87       14.27   1.058e+06       14.03\n",
            "7        13.86       14.32   1.048e+06       14.05\n",
            "8       13.81*       14.33  9.920e+05*       14.02\n",
            "9        13.82       14.40   1.006e+06       14.05\n",
            "10       13.85       14.49   1.037e+06       14.11\n",
            "11       13.89       14.59   1.074e+06       14.17\n",
            "12       13.91       14.68   1.105e+06       14.22\n",
            "13       13.91       14.73   1.101e+06       14.24\n",
            "14       13.94       14.83   1.137e+06       14.30\n",
            "15       13.92       14.87   1.117e+06       14.31\n",
            "--------------------------------------------------\n"
          ]
        }
      ],
      "source": [
        "import pandas as pd\n",
        "import plotly.graph_objects as go\n",
        "from statsmodels.tsa.api import VAR\n",
        "from statsmodels.tsa.stattools import adfuller\n",
        "\n",
        "# 데이터 로드 및 2차 차분 (정상성 확보)\n",
        "df_money = pd.read_csv('../datasets/tsa/moneystock-spending-series.csv', index_col=0, parse_dates=True)\n",
        "df_money.index.freq = 'MS'\n",
        "df_diff2 = df_money.diff().diff().dropna()\n",
        "\n",
        "# 학습 데이터와 테스트 데이터 분리\n",
        "nobs = 12 # 마지막 12개를 테스트 데이터로 사용\n",
        "train_var = df_diff2[:-nobs]\n",
        "test_var = df_diff2[-nobs:]\n",
        "\n",
        "# 1. 최적의 시차 p 찾기\n",
        "model_var = VAR(train_var)\n",
        "lag_selection_results = model_var.select_order(maxlags=15)\n",
        "print(lag_selection_results.summary())"
      ]
    },
    {
      "cell_type": "code",
      "execution_count": 48,
      "metadata": {},
      "outputs": [
        {
          "data": {
            "text/plain": [
              "  Summary of Regression Results   \n",
              "==================================\n",
              "Model:                         VAR\n",
              "Method:                        OLS\n",
              "Date:           Tue, 10, Jun, 2025\n",
              "Time:                     07:32:17\n",
              "--------------------------------------------------------------------\n",
              "No. of Equations:         2.00000    BIC:                    14.2554\n",
              "Nobs:                     230.000    HQIC:                   13.9522\n",
              "Log likelihood:          -2199.64    FPE:                    934476.\n",
              "AIC:                      13.7472    Det(Omega_mle):         810270.\n",
              "--------------------------------------------------------------------\n",
              "Results for equation Money\n",
              "==============================================================================\n",
              "                 coefficient       std. error           t-stat            prob\n",
              "------------------------------------------------------------------------------\n",
              "const               0.920234         1.774714            0.519           0.604\n",
              "L1.Money           -0.711320         0.070127          -10.143           0.000\n",
              "L1.Spending        -0.130975         0.053364           -2.454           0.014\n",
              "L2.Money           -0.612552         0.083940           -7.297           0.000\n",
              "L2.Spending        -0.266791         0.073721           -3.619           0.000\n",
              "L3.Money           -0.395012         0.091249           -4.329           0.000\n",
              "L3.Spending        -0.308592         0.084633           -3.646           0.000\n",
              "L4.Money           -0.470576         0.090874           -5.178           0.000\n",
              "L4.Spending        -0.192881         0.088192           -2.187           0.029\n",
              "L5.Money           -0.385605         0.092524           -4.168           0.000\n",
              "L5.Spending        -0.223629         0.086860           -2.575           0.010\n",
              "L6.Money           -0.286764         0.090003           -3.186           0.001\n",
              "L6.Spending        -0.183544         0.083654           -2.194           0.028\n",
              "L7.Money           -0.233421         0.081687           -2.857           0.004\n",
              "L7.Spending        -0.128528         0.073882           -1.740           0.082\n",
              "L8.Money           -0.142264         0.068651           -2.072           0.038\n",
              "L8.Spending        -0.098299         0.052967           -1.856           0.063\n",
              "==============================================================================\n",
              "\n",
              "Results for equation Spending\n",
              "==============================================================================\n",
              "                 coefficient       std. error           t-stat            prob\n",
              "------------------------------------------------------------------------------\n",
              "const               0.273453         2.306590            0.119           0.906\n",
              "L1.Money            0.181685         0.091144            1.993           0.046\n",
              "L1.Spending        -0.941509         0.069358          -13.575           0.000\n",
              "L2.Money            0.080311         0.109097            0.736           0.462\n",
              "L2.Spending        -0.704406         0.095815           -7.352           0.000\n",
              "L3.Money            0.024989         0.118596            0.211           0.833\n",
              "L3.Spending        -0.477907         0.109997           -4.345           0.000\n",
              "L4.Money           -0.127957         0.118109           -1.083           0.279\n",
              "L4.Spending        -0.361932         0.114623           -3.158           0.002\n",
              "L5.Money           -0.062684         0.120253           -0.521           0.602\n",
              "L5.Spending        -0.391344         0.112891           -3.467           0.001\n",
              "L6.Money            0.140130         0.116977            1.198           0.231\n",
              "L6.Spending        -0.303289         0.108724           -2.790           0.005\n",
              "L7.Money            0.294338         0.106169            2.772           0.006\n",
              "L7.Spending        -0.249151         0.096024           -2.595           0.009\n",
              "L8.Money            0.214705         0.089226            2.406           0.016\n",
              "L8.Spending        -0.153144         0.068841           -2.225           0.026\n",
              "==============================================================================\n",
              "\n",
              "Correlation matrix of residuals\n",
              "               Money  Spending\n",
              "Money       1.000000 -0.281210\n",
              "Spending   -0.281210  1.000000\n",
              "\n"
            ]
          },
          "execution_count": 48,
          "metadata": {},
          "output_type": "execute_result"
        }
      ],
      "source": [
        "# AIC 기준 최적 시차는 8로 나타남 (AIC: 13.81*)\n",
        "# 2. VAR(8) 모델 구축 및 학습\n",
        "model_fitted = model_var.fit(8)\n",
        "model_fitted.summary()"
      ]
    },
    {
      "cell_type": "code",
      "execution_count": 49,
      "metadata": {},
      "outputs": [
        {
          "data": {
            "text/html": [
              "<div>\n",
              "<style scoped>\n",
              "    .dataframe tbody tr th:only-of-type {\n",
              "        vertical-align: middle;\n",
              "    }\n",
              "\n",
              "    .dataframe tbody tr th {\n",
              "        vertical-align: top;\n",
              "    }\n",
              "\n",
              "    .dataframe thead th {\n",
              "        text-align: right;\n",
              "    }\n",
              "</style>\n",
              "<table border=\"1\" class=\"dataframe\">\n",
              "  <thead>\n",
              "    <tr style=\"text-align: right;\">\n",
              "      <th></th>\n",
              "      <th>Money_2d</th>\n",
              "      <th>Spending_2d</th>\n",
              "    </tr>\n",
              "    <tr>\n",
              "      <th>Date</th>\n",
              "      <th></th>\n",
              "      <th></th>\n",
              "    </tr>\n",
              "  </thead>\n",
              "  <tbody>\n",
              "    <tr>\n",
              "      <th>2015-01-01</th>\n",
              "      <td>-11.394798</td>\n",
              "      <td>38.520197</td>\n",
              "    </tr>\n",
              "    <tr>\n",
              "      <th>2015-02-01</th>\n",
              "      <td>-1.207837</td>\n",
              "      <td>-14.664302</td>\n",
              "    </tr>\n",
              "    <tr>\n",
              "      <th>2015-03-01</th>\n",
              "      <td>0.742118</td>\n",
              "      <td>-2.075852</td>\n",
              "    </tr>\n",
              "    <tr>\n",
              "      <th>2015-04-01</th>\n",
              "      <td>-9.283600</td>\n",
              "      <td>5.075886</td>\n",
              "    </tr>\n",
              "    <tr>\n",
              "      <th>2015-05-01</th>\n",
              "      <td>5.031139</td>\n",
              "      <td>9.066290</td>\n",
              "    </tr>\n",
              "    <tr>\n",
              "      <th>2015-06-01</th>\n",
              "      <td>-7.084891</td>\n",
              "      <td>-8.189636</td>\n",
              "    </tr>\n",
              "    <tr>\n",
              "      <th>2015-07-01</th>\n",
              "      <td>3.380938</td>\n",
              "      <td>8.433085</td>\n",
              "    </tr>\n",
              "    <tr>\n",
              "      <th>2015-08-01</th>\n",
              "      <td>-0.404858</td>\n",
              "      <td>-3.408926</td>\n",
              "    </tr>\n",
              "    <tr>\n",
              "      <th>2015-09-01</th>\n",
              "      <td>1.157634</td>\n",
              "      <td>-8.166147</td>\n",
              "    </tr>\n",
              "    <tr>\n",
              "      <th>2015-10-01</th>\n",
              "      <td>2.769460</td>\n",
              "      <td>6.484220</td>\n",
              "    </tr>\n",
              "  </tbody>\n",
              "</table>\n",
              "</div>"
            ],
            "text/plain": [
              "             Money_2d  Spending_2d\n",
              "Date                              \n",
              "2015-01-01 -11.394798    38.520197\n",
              "2015-02-01  -1.207837   -14.664302\n",
              "2015-03-01   0.742118    -2.075852\n",
              "2015-04-01  -9.283600     5.075886\n",
              "2015-05-01   5.031139     9.066290\n",
              "2015-06-01  -7.084891    -8.189636\n",
              "2015-07-01   3.380938     8.433085\n",
              "2015-08-01  -0.404858    -3.408926\n",
              "2015-09-01   1.157634    -8.166147\n",
              "2015-10-01   2.769460     6.484220"
            ]
          },
          "execution_count": 49,
          "metadata": {},
          "output_type": "execute_result"
        }
      ],
      "source": [
        "# 3. 예측\n",
        "lag_order = model_fitted.k_ar\n",
        "forecast_input = train_var.values[-lag_order:]\n",
        "forecast_var = model_fitted.forecast(y=forecast_input, steps=nobs)\n",
        "df_forecast = pd.DataFrame(forecast_var, index=test_var.index, columns=train_var.columns + '_2d')\n",
        "df_forecast.head(10)\n"
      ]
    },
    {
      "cell_type": "code",
      "execution_count": 51,
      "metadata": {},
      "outputs": [
        {
          "name": "stdout",
          "output_type": "stream",
          "text": [
            "=== 1차 차분 복원 과정 ===\n",
            "원본 데이터의 마지막 두 값:\n",
            "Money(T-1): 12277.40\n",
            "Money(T): 12335.90\n",
            "마지막 1차 차분값: 58.50\n",
            "\n",
            "2차 차분 예측값들:\n",
            "Money_2d[1]: -11.39\n",
            "Money_2d[2]: -1.21\n",
            "Money_2d[3]: 0.74\n",
            "\n",
            "1차 차분 복원 결과:\n",
            "Money_1d[1]: 58.50 + -11.39 = 47.11\n",
            "Money_1d[2]: 58.50 + -12.60 = 45.90\n",
            "Money_1d[3]: 58.50 + -11.86 = 46.64\n"
          ]
        }
      ],
      "source": [
        "# 차분 복원 과정 상세 설명\n",
        "\n",
        "## 2차 차분된 데이터를 원본으로 복원하는 과정\n",
        "\n",
        "### 1단계: 1차 차분 복원\n",
        "# 2차 차분: Y''(t) = Y'(t) - Y'(t-1)\n",
        "# 따라서 Y'(t) = Y'(t-1) + Y''(t)\n",
        "# \n",
        "# 마지막 1차 차분값: Y'(T) = Y(T) - Y(T-1)\n",
        "# 예측된 1차 차분값들:\n",
        "# Y'(T+1) = Y'(T) + Y''(T+1)\n",
        "# Y'(T+2) = Y'(T+1) + Y''(T+2) = Y'(T) + Y''(T+1) + Y''(T+2)\n",
        "# ...\n",
        "# 즉, Y'(T+h) = Y'(T) + Σ(Y''(T+i)) for i=1 to h\n",
        "\n",
        "print(\"=== 1차 차분 복원 과정 ===\")\n",
        "print(\"원본 데이터의 마지막 두 값:\")\n",
        "print(f\"Money(T-1): {df_money['Money'].iloc[-2]:.2f}\")\n",
        "print(f\"Money(T): {df_money['Money'].iloc[-1]:.2f}\")\n",
        "print(f\"마지막 1차 차분값: {df_money['Money'].iloc[-1] - df_money['Money'].iloc[-2]:.2f}\")\n",
        "print()\n",
        "\n",
        "print(\"2차 차분 예측값들:\")\n",
        "for i in range(3):\n",
        "    print(f\"Money_2d[{i+1}]: {df_forecast['Money_2d'].iloc[i]:.2f}\")\n",
        "print()\n",
        "\n",
        "print(\"1차 차분 복원 결과:\")\n",
        "last_diff = df_money['Money'].iloc[-1] - df_money['Money'].iloc[-2]\n",
        "cumsum_2d = df_forecast['Money_2d'].cumsum()\n",
        "for i in range(3):\n",
        "    restored_1d = last_diff + cumsum_2d.iloc[i]\n",
        "    print(f\"Money_1d[{i+1}]: {last_diff:.2f} + {cumsum_2d.iloc[i]:.2f} = {restored_1d:.2f}\")"
      ]
    },
    {
      "cell_type": "code",
      "execution_count": 52,
      "metadata": {},
      "outputs": [
        {
          "name": "stdout",
          "output_type": "stream",
          "text": [
            "\n",
            "=== 원본 값 복원 과정 ===\n",
            "마지막 원본값: 12335.90\n",
            "\n",
            "복원된 1차 차분값들:\n",
            "Money_1d[1]: 47.11\n",
            "Money_1d[2]: 45.90\n",
            "Money_1d[3]: 46.64\n",
            "\n",
            "원본 값 복원 결과:\n",
            "Money_forecast[1]: 12335.90 + 47.11 = 12383.01\n",
            "Money_forecast[2]: 12335.90 + 93.00 = 12428.90\n",
            "Money_forecast[3]: 12335.90 + 139.64 = 12475.54\n",
            "\n",
            "=== 수식 정리 ===\n",
            "2차 차분 → 1차 차분: Y'(T+h) = Y'(T) + Σ(Y''(T+i)) for i=1 to h\n",
            "1차 차분 → 원본값: Y(T+h) = Y(T) + Σ(Y'(T+i)) for i=1 to h\n",
            "여기서 Σ는 누적합(cumsum)을 의미합니다.\n"
          ]
        }
      ],
      "source": [
        "### 2단계: 원본 값 복원\n",
        "# 1차 차분: Y'(t) = Y(t) - Y(t-1)\n",
        "# 따라서 Y(t) = Y(t-1) + Y'(t)\n",
        "#\n",
        "# 마지막 원본값: Y(T)\n",
        "# 예측된 원본값들:\n",
        "# Y(T+1) = Y(T) + Y'(T+1)\n",
        "# Y(T+2) = Y(T+1) + Y'(T+2) = Y(T) + Y'(T+1) + Y'(T+2)\n",
        "# ...\n",
        "# 즉, Y(T+h) = Y(T) + Σ(Y'(T+i)) for i=1 to h\n",
        "\n",
        "print(\"\\n=== 원본 값 복원 과정 ===\")\n",
        "print(f\"마지막 원본값: {df_money['Money'].iloc[-1]:.2f}\")\n",
        "print()\n",
        "\n",
        "print(\"복원된 1차 차분값들:\")\n",
        "for i in range(3):\n",
        "    print(f\"Money_1d[{i+1}]: {df_results['Money_1d'].iloc[i]:.2f}\")\n",
        "print()\n",
        "\n",
        "print(\"원본 값 복원 결과:\")\n",
        "last_value = df_money['Money'].iloc[-1]\n",
        "cumsum_1d = df_results['Money_1d'].cumsum()\n",
        "for i in range(3):\n",
        "    restored_original = last_value + cumsum_1d.iloc[i]\n",
        "    print(f\"Money_forecast[{i+1}]: {last_value:.2f} + {cumsum_1d.iloc[i]:.2f} = {restored_original:.2f}\")\n",
        "\n",
        "print(\"\\n=== 수식 정리 ===\")\n",
        "print(\"2차 차분 → 1차 차분: Y'(T+h) = Y'(T) + Σ(Y''(T+i)) for i=1 to h\")\n",
        "print(\"1차 차분 → 원본값: Y(T+h) = Y(T) + Σ(Y'(T+i)) for i=1 to h\")\n",
        "print(\"여기서 Σ는 누적합(cumsum)을 의미합니다.\")\n"
      ]
    },
    {
      "cell_type": "code",
      "execution_count": 50,
      "metadata": {},
      "outputs": [
        {
          "data": {
            "text/html": [
              "<div>\n",
              "<style scoped>\n",
              "    .dataframe tbody tr th:only-of-type {\n",
              "        vertical-align: middle;\n",
              "    }\n",
              "\n",
              "    .dataframe tbody tr th {\n",
              "        vertical-align: top;\n",
              "    }\n",
              "\n",
              "    .dataframe thead th {\n",
              "        text-align: right;\n",
              "    }\n",
              "</style>\n",
              "<table border=\"1\" class=\"dataframe\">\n",
              "  <thead>\n",
              "    <tr style=\"text-align: right;\">\n",
              "      <th></th>\n",
              "      <th>Money_2d</th>\n",
              "      <th>Spending_2d</th>\n",
              "      <th>Money_1d</th>\n",
              "      <th>Money_forecast</th>\n",
              "      <th>Spending_1d</th>\n",
              "      <th>Spending_forecast</th>\n",
              "    </tr>\n",
              "    <tr>\n",
              "      <th>Date</th>\n",
              "      <th></th>\n",
              "      <th></th>\n",
              "      <th></th>\n",
              "      <th></th>\n",
              "      <th></th>\n",
              "      <th></th>\n",
              "    </tr>\n",
              "  </thead>\n",
              "  <tbody>\n",
              "    <tr>\n",
              "      <th>2015-01-01</th>\n",
              "      <td>-11.394798</td>\n",
              "      <td>38.520197</td>\n",
              "      <td>47.105202</td>\n",
              "      <td>12383.005202</td>\n",
              "      <td>57.520197</td>\n",
              "      <td>12526.620197</td>\n",
              "    </tr>\n",
              "    <tr>\n",
              "      <th>2015-02-01</th>\n",
              "      <td>-1.207837</td>\n",
              "      <td>-14.664302</td>\n",
              "      <td>45.897366</td>\n",
              "      <td>12428.902568</td>\n",
              "      <td>42.855895</td>\n",
              "      <td>12569.476092</td>\n",
              "    </tr>\n",
              "    <tr>\n",
              "      <th>2015-03-01</th>\n",
              "      <td>0.742118</td>\n",
              "      <td>-2.075852</td>\n",
              "      <td>46.639484</td>\n",
              "      <td>12475.542052</td>\n",
              "      <td>40.780042</td>\n",
              "      <td>12610.256134</td>\n",
              "    </tr>\n",
              "    <tr>\n",
              "      <th>2015-04-01</th>\n",
              "      <td>-9.283600</td>\n",
              "      <td>5.075886</td>\n",
              "      <td>37.355884</td>\n",
              "      <td>12512.897936</td>\n",
              "      <td>45.855929</td>\n",
              "      <td>12656.112063</td>\n",
              "    </tr>\n",
              "    <tr>\n",
              "      <th>2015-05-01</th>\n",
              "      <td>5.031139</td>\n",
              "      <td>9.066290</td>\n",
              "      <td>42.387023</td>\n",
              "      <td>12555.284958</td>\n",
              "      <td>54.922219</td>\n",
              "      <td>12711.034282</td>\n",
              "    </tr>\n",
              "    <tr>\n",
              "      <th>2015-06-01</th>\n",
              "      <td>-7.084891</td>\n",
              "      <td>-8.189636</td>\n",
              "      <td>35.302131</td>\n",
              "      <td>12590.587089</td>\n",
              "      <td>46.732583</td>\n",
              "      <td>12757.766865</td>\n",
              "    </tr>\n",
              "    <tr>\n",
              "      <th>2015-07-01</th>\n",
              "      <td>3.380938</td>\n",
              "      <td>8.433085</td>\n",
              "      <td>38.683070</td>\n",
              "      <td>12629.270159</td>\n",
              "      <td>55.165668</td>\n",
              "      <td>12812.932533</td>\n",
              "    </tr>\n",
              "    <tr>\n",
              "      <th>2015-08-01</th>\n",
              "      <td>-0.404858</td>\n",
              "      <td>-3.408926</td>\n",
              "      <td>38.278212</td>\n",
              "      <td>12667.548371</td>\n",
              "      <td>51.756742</td>\n",
              "      <td>12864.689274</td>\n",
              "    </tr>\n",
              "    <tr>\n",
              "      <th>2015-09-01</th>\n",
              "      <td>1.157634</td>\n",
              "      <td>-8.166147</td>\n",
              "      <td>39.435845</td>\n",
              "      <td>12706.984216</td>\n",
              "      <td>43.590595</td>\n",
              "      <td>12908.279869</td>\n",
              "    </tr>\n",
              "    <tr>\n",
              "      <th>2015-10-01</th>\n",
              "      <td>2.769460</td>\n",
              "      <td>6.484220</td>\n",
              "      <td>42.205305</td>\n",
              "      <td>12749.189521</td>\n",
              "      <td>50.074815</td>\n",
              "      <td>12958.354684</td>\n",
              "    </tr>\n",
              "  </tbody>\n",
              "</table>\n",
              "</div>"
            ],
            "text/plain": [
              "             Money_2d  Spending_2d   Money_1d  Money_forecast  Spending_1d  \\\n",
              "Date                                                                         \n",
              "2015-01-01 -11.394798    38.520197  47.105202    12383.005202    57.520197   \n",
              "2015-02-01  -1.207837   -14.664302  45.897366    12428.902568    42.855895   \n",
              "2015-03-01   0.742118    -2.075852  46.639484    12475.542052    40.780042   \n",
              "2015-04-01  -9.283600     5.075886  37.355884    12512.897936    45.855929   \n",
              "2015-05-01   5.031139     9.066290  42.387023    12555.284958    54.922219   \n",
              "2015-06-01  -7.084891    -8.189636  35.302131    12590.587089    46.732583   \n",
              "2015-07-01   3.380938     8.433085  38.683070    12629.270159    55.165668   \n",
              "2015-08-01  -0.404858    -3.408926  38.278212    12667.548371    51.756742   \n",
              "2015-09-01   1.157634    -8.166147  39.435845    12706.984216    43.590595   \n",
              "2015-10-01   2.769460     6.484220  42.205305    12749.189521    50.074815   \n",
              "\n",
              "            Spending_forecast  \n",
              "Date                           \n",
              "2015-01-01       12526.620197  \n",
              "2015-02-01       12569.476092  \n",
              "2015-03-01       12610.256134  \n",
              "2015-04-01       12656.112063  \n",
              "2015-05-01       12711.034282  \n",
              "2015-06-01       12757.766865  \n",
              "2015-07-01       12812.932533  \n",
              "2015-08-01       12864.689274  \n",
              "2015-09-01       12908.279869  \n",
              "2015-10-01       12958.354684  "
            ]
          },
          "execution_count": 50,
          "metadata": {},
          "output_type": "execute_result"
        }
      ],
      "source": [
        "# 4. 예측 결과 역변환 (Invert Differencing)\n",
        "def invert_transformation(df_train, df_forecast, second_diff=False):\n",
        "    \"\"\"차분된 예측값을 원본 스케일로 복원합니다.\"\"\"\n",
        "    df_fc = df_forecast.copy()\n",
        "    columns = df_train.columns\n",
        "    for col in columns:\n",
        "        # 1차 차분 복원\n",
        "        df_fc[str(col)+'_1d'] = (df_train[col].iloc[-1] - df_train[col].iloc[-2]) + df_fc[str(col)+'_2d'].cumsum()\n",
        "        # 2차 차분 복원\n",
        "        df_fc[str(col)+'_forecast'] = df_train[col].iloc[-1] + df_fc[str(col)+'_1d'].cumsum()\n",
        "    return df_fc\n",
        "\n",
        "df_results = invert_transformation(df_money[['Money', 'Spending']], df_forecast)\n",
        "df_results.head(10)\n"
      ]
    },
    {
      "cell_type": "code",
      "execution_count": 53,
      "metadata": {},
      "outputs": [
        {
          "data": {
            "application/vnd.plotly.v1+json": {
              "config": {
                "plotlyServerURL": "https://plot.ly"
              },
              "data": [
                {
                  "name": "Money Actual",
                  "type": "scatter",
                  "x": [
                    "1995-01-01T00:00:00",
                    "1995-02-01T00:00:00",
                    "1995-03-01T00:00:00",
                    "1995-04-01T00:00:00",
                    "1995-05-01T00:00:00",
                    "1995-06-01T00:00:00",
                    "1995-07-01T00:00:00",
                    "1995-08-01T00:00:00",
                    "1995-09-01T00:00:00",
                    "1995-10-01T00:00:00",
                    "1995-11-01T00:00:00",
                    "1995-12-01T00:00:00",
                    "1996-01-01T00:00:00",
                    "1996-02-01T00:00:00",
                    "1996-03-01T00:00:00",
                    "1996-04-01T00:00:00",
                    "1996-05-01T00:00:00",
                    "1996-06-01T00:00:00",
                    "1996-07-01T00:00:00",
                    "1996-08-01T00:00:00",
                    "1996-09-01T00:00:00",
                    "1996-10-01T00:00:00",
                    "1996-11-01T00:00:00",
                    "1996-12-01T00:00:00",
                    "1997-01-01T00:00:00",
                    "1997-02-01T00:00:00",
                    "1997-03-01T00:00:00",
                    "1997-04-01T00:00:00",
                    "1997-05-01T00:00:00",
                    "1997-06-01T00:00:00",
                    "1997-07-01T00:00:00",
                    "1997-08-01T00:00:00",
                    "1997-09-01T00:00:00",
                    "1997-10-01T00:00:00",
                    "1997-11-01T00:00:00",
                    "1997-12-01T00:00:00",
                    "1998-01-01T00:00:00",
                    "1998-02-01T00:00:00",
                    "1998-03-01T00:00:00",
                    "1998-04-01T00:00:00",
                    "1998-05-01T00:00:00",
                    "1998-06-01T00:00:00",
                    "1998-07-01T00:00:00",
                    "1998-08-01T00:00:00",
                    "1998-09-01T00:00:00",
                    "1998-10-01T00:00:00",
                    "1998-11-01T00:00:00",
                    "1998-12-01T00:00:00",
                    "1999-01-01T00:00:00",
                    "1999-02-01T00:00:00",
                    "1999-03-01T00:00:00",
                    "1999-04-01T00:00:00",
                    "1999-05-01T00:00:00",
                    "1999-06-01T00:00:00",
                    "1999-07-01T00:00:00",
                    "1999-08-01T00:00:00",
                    "1999-09-01T00:00:00",
                    "1999-10-01T00:00:00",
                    "1999-11-01T00:00:00",
                    "1999-12-01T00:00:00",
                    "2000-01-01T00:00:00",
                    "2000-02-01T00:00:00",
                    "2000-03-01T00:00:00",
                    "2000-04-01T00:00:00",
                    "2000-05-01T00:00:00",
                    "2000-06-01T00:00:00",
                    "2000-07-01T00:00:00",
                    "2000-08-01T00:00:00",
                    "2000-09-01T00:00:00",
                    "2000-10-01T00:00:00",
                    "2000-11-01T00:00:00",
                    "2000-12-01T00:00:00",
                    "2001-01-01T00:00:00",
                    "2001-02-01T00:00:00",
                    "2001-03-01T00:00:00",
                    "2001-04-01T00:00:00",
                    "2001-05-01T00:00:00",
                    "2001-06-01T00:00:00",
                    "2001-07-01T00:00:00",
                    "2001-08-01T00:00:00",
                    "2001-09-01T00:00:00",
                    "2001-10-01T00:00:00",
                    "2001-11-01T00:00:00",
                    "2001-12-01T00:00:00",
                    "2002-01-01T00:00:00",
                    "2002-02-01T00:00:00",
                    "2002-03-01T00:00:00",
                    "2002-04-01T00:00:00",
                    "2002-05-01T00:00:00",
                    "2002-06-01T00:00:00",
                    "2002-07-01T00:00:00",
                    "2002-08-01T00:00:00",
                    "2002-09-01T00:00:00",
                    "2002-10-01T00:00:00",
                    "2002-11-01T00:00:00",
                    "2002-12-01T00:00:00",
                    "2003-01-01T00:00:00",
                    "2003-02-01T00:00:00",
                    "2003-03-01T00:00:00",
                    "2003-04-01T00:00:00",
                    "2003-05-01T00:00:00",
                    "2003-06-01T00:00:00",
                    "2003-07-01T00:00:00",
                    "2003-08-01T00:00:00",
                    "2003-09-01T00:00:00",
                    "2003-10-01T00:00:00",
                    "2003-11-01T00:00:00",
                    "2003-12-01T00:00:00",
                    "2004-01-01T00:00:00",
                    "2004-02-01T00:00:00",
                    "2004-03-01T00:00:00",
                    "2004-04-01T00:00:00",
                    "2004-05-01T00:00:00",
                    "2004-06-01T00:00:00",
                    "2004-07-01T00:00:00",
                    "2004-08-01T00:00:00",
                    "2004-09-01T00:00:00",
                    "2004-10-01T00:00:00",
                    "2004-11-01T00:00:00",
                    "2004-12-01T00:00:00",
                    "2005-01-01T00:00:00",
                    "2005-02-01T00:00:00",
                    "2005-03-01T00:00:00",
                    "2005-04-01T00:00:00",
                    "2005-05-01T00:00:00",
                    "2005-06-01T00:00:00",
                    "2005-07-01T00:00:00",
                    "2005-08-01T00:00:00",
                    "2005-09-01T00:00:00",
                    "2005-10-01T00:00:00",
                    "2005-11-01T00:00:00",
                    "2005-12-01T00:00:00",
                    "2006-01-01T00:00:00",
                    "2006-02-01T00:00:00",
                    "2006-03-01T00:00:00",
                    "2006-04-01T00:00:00",
                    "2006-05-01T00:00:00",
                    "2006-06-01T00:00:00",
                    "2006-07-01T00:00:00",
                    "2006-08-01T00:00:00",
                    "2006-09-01T00:00:00",
                    "2006-10-01T00:00:00",
                    "2006-11-01T00:00:00",
                    "2006-12-01T00:00:00",
                    "2007-01-01T00:00:00",
                    "2007-02-01T00:00:00",
                    "2007-03-01T00:00:00",
                    "2007-04-01T00:00:00",
                    "2007-05-01T00:00:00",
                    "2007-06-01T00:00:00",
                    "2007-07-01T00:00:00",
                    "2007-08-01T00:00:00",
                    "2007-09-01T00:00:00",
                    "2007-10-01T00:00:00",
                    "2007-11-01T00:00:00",
                    "2007-12-01T00:00:00",
                    "2008-01-01T00:00:00",
                    "2008-02-01T00:00:00",
                    "2008-03-01T00:00:00",
                    "2008-04-01T00:00:00",
                    "2008-05-01T00:00:00",
                    "2008-06-01T00:00:00",
                    "2008-07-01T00:00:00",
                    "2008-08-01T00:00:00",
                    "2008-09-01T00:00:00",
                    "2008-10-01T00:00:00",
                    "2008-11-01T00:00:00",
                    "2008-12-01T00:00:00",
                    "2009-01-01T00:00:00",
                    "2009-02-01T00:00:00",
                    "2009-03-01T00:00:00",
                    "2009-04-01T00:00:00",
                    "2009-05-01T00:00:00",
                    "2009-06-01T00:00:00",
                    "2009-07-01T00:00:00",
                    "2009-08-01T00:00:00",
                    "2009-09-01T00:00:00",
                    "2009-10-01T00:00:00",
                    "2009-11-01T00:00:00",
                    "2009-12-01T00:00:00",
                    "2010-01-01T00:00:00",
                    "2010-02-01T00:00:00",
                    "2010-03-01T00:00:00",
                    "2010-04-01T00:00:00",
                    "2010-05-01T00:00:00",
                    "2010-06-01T00:00:00",
                    "2010-07-01T00:00:00",
                    "2010-08-01T00:00:00",
                    "2010-09-01T00:00:00",
                    "2010-10-01T00:00:00",
                    "2010-11-01T00:00:00",
                    "2010-12-01T00:00:00",
                    "2011-01-01T00:00:00",
                    "2011-02-01T00:00:00",
                    "2011-03-01T00:00:00",
                    "2011-04-01T00:00:00",
                    "2011-05-01T00:00:00",
                    "2011-06-01T00:00:00",
                    "2011-07-01T00:00:00",
                    "2011-08-01T00:00:00",
                    "2011-09-01T00:00:00",
                    "2011-10-01T00:00:00",
                    "2011-11-01T00:00:00",
                    "2011-12-01T00:00:00",
                    "2012-01-01T00:00:00",
                    "2012-02-01T00:00:00",
                    "2012-03-01T00:00:00",
                    "2012-04-01T00:00:00",
                    "2012-05-01T00:00:00",
                    "2012-06-01T00:00:00",
                    "2012-07-01T00:00:00",
                    "2012-08-01T00:00:00",
                    "2012-09-01T00:00:00",
                    "2012-10-01T00:00:00",
                    "2012-11-01T00:00:00",
                    "2012-12-01T00:00:00",
                    "2013-01-01T00:00:00",
                    "2013-02-01T00:00:00",
                    "2013-03-01T00:00:00",
                    "2013-04-01T00:00:00",
                    "2013-05-01T00:00:00",
                    "2013-06-01T00:00:00",
                    "2013-07-01T00:00:00",
                    "2013-08-01T00:00:00",
                    "2013-09-01T00:00:00",
                    "2013-10-01T00:00:00",
                    "2013-11-01T00:00:00",
                    "2013-12-01T00:00:00",
                    "2014-01-01T00:00:00",
                    "2014-02-01T00:00:00",
                    "2014-03-01T00:00:00",
                    "2014-04-01T00:00:00",
                    "2014-05-01T00:00:00",
                    "2014-06-01T00:00:00",
                    "2014-07-01T00:00:00",
                    "2014-08-01T00:00:00",
                    "2014-09-01T00:00:00",
                    "2014-10-01T00:00:00",
                    "2014-11-01T00:00:00",
                    "2014-12-01T00:00:00",
                    "2015-01-01T00:00:00",
                    "2015-02-01T00:00:00",
                    "2015-03-01T00:00:00",
                    "2015-04-01T00:00:00",
                    "2015-05-01T00:00:00",
                    "2015-06-01T00:00:00",
                    "2015-07-01T00:00:00",
                    "2015-08-01T00:00:00",
                    "2015-09-01T00:00:00",
                    "2015-10-01T00:00:00",
                    "2015-11-01T00:00:00",
                    "2015-12-01T00:00:00"
                  ],
                  "y": {
                    "bdata": "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",
                    "dtype": "f8"
                  }
                },
                {
                  "line": {
                    "dash": "dot"
                  },
                  "name": "Money Forecast",
                  "type": "scatter",
                  "x": [
                    "2015-01-01T00:00:00",
                    "2015-02-01T00:00:00",
                    "2015-03-01T00:00:00",
                    "2015-04-01T00:00:00",
                    "2015-05-01T00:00:00",
                    "2015-06-01T00:00:00",
                    "2015-07-01T00:00:00",
                    "2015-08-01T00:00:00",
                    "2015-09-01T00:00:00",
                    "2015-10-01T00:00:00",
                    "2015-11-01T00:00:00",
                    "2015-12-01T00:00:00"
                  ],
                  "y": {
                    "bdata": "yeF4qoAvyEDjT1mHc0bIQGxn9WHFXchA2giO73JwyECdo4J5pIXIQEc1vyVLl8hAX6+SlKKqyEB/UwMxxr3IQN9wyvp90chAgr45QpjmyECKwXPBA/zIQEAQkecJEclA",
                    "dtype": "f8"
                  }
                },
                {
                  "name": "Spending Actual",
                  "type": "scatter",
                  "x": [
                    "1995-01-01T00:00:00",
                    "1995-02-01T00:00:00",
                    "1995-03-01T00:00:00",
                    "1995-04-01T00:00:00",
                    "1995-05-01T00:00:00",
                    "1995-06-01T00:00:00",
                    "1995-07-01T00:00:00",
                    "1995-08-01T00:00:00",
                    "1995-09-01T00:00:00",
                    "1995-10-01T00:00:00",
                    "1995-11-01T00:00:00",
                    "1995-12-01T00:00:00",
                    "1996-01-01T00:00:00",
                    "1996-02-01T00:00:00",
                    "1996-03-01T00:00:00",
                    "1996-04-01T00:00:00",
                    "1996-05-01T00:00:00",
                    "1996-06-01T00:00:00",
                    "1996-07-01T00:00:00",
                    "1996-08-01T00:00:00",
                    "1996-09-01T00:00:00",
                    "1996-10-01T00:00:00",
                    "1996-11-01T00:00:00",
                    "1996-12-01T00:00:00",
                    "1997-01-01T00:00:00",
                    "1997-02-01T00:00:00",
                    "1997-03-01T00:00:00",
                    "1997-04-01T00:00:00",
                    "1997-05-01T00:00:00",
                    "1997-06-01T00:00:00",
                    "1997-07-01T00:00:00",
                    "1997-08-01T00:00:00",
                    "1997-09-01T00:00:00",
                    "1997-10-01T00:00:00",
                    "1997-11-01T00:00:00",
                    "1997-12-01T00:00:00",
                    "1998-01-01T00:00:00",
                    "1998-02-01T00:00:00",
                    "1998-03-01T00:00:00",
                    "1998-04-01T00:00:00",
                    "1998-05-01T00:00:00",
                    "1998-06-01T00:00:00",
                    "1998-07-01T00:00:00",
                    "1998-08-01T00:00:00",
                    "1998-09-01T00:00:00",
                    "1998-10-01T00:00:00",
                    "1998-11-01T00:00:00",
                    "1998-12-01T00:00:00",
                    "1999-01-01T00:00:00",
                    "1999-02-01T00:00:00",
                    "1999-03-01T00:00:00",
                    "1999-04-01T00:00:00",
                    "1999-05-01T00:00:00",
                    "1999-06-01T00:00:00",
                    "1999-07-01T00:00:00",
                    "1999-08-01T00:00:00",
                    "1999-09-01T00:00:00",
                    "1999-10-01T00:00:00",
                    "1999-11-01T00:00:00",
                    "1999-12-01T00:00:00",
                    "2000-01-01T00:00:00",
                    "2000-02-01T00:00:00",
                    "2000-03-01T00:00:00",
                    "2000-04-01T00:00:00",
                    "2000-05-01T00:00:00",
                    "2000-06-01T00:00:00",
                    "2000-07-01T00:00:00",
                    "2000-08-01T00:00:00",
                    "2000-09-01T00:00:00",
                    "2000-10-01T00:00:00",
                    "2000-11-01T00:00:00",
                    "2000-12-01T00:00:00",
                    "2001-01-01T00:00:00",
                    "2001-02-01T00:00:00",
                    "2001-03-01T00:00:00",
                    "2001-04-01T00:00:00",
                    "2001-05-01T00:00:00",
                    "2001-06-01T00:00:00",
                    "2001-07-01T00:00:00",
                    "2001-08-01T00:00:00",
                    "2001-09-01T00:00:00",
                    "2001-10-01T00:00:00",
                    "2001-11-01T00:00:00",
                    "2001-12-01T00:00:00",
                    "2002-01-01T00:00:00",
                    "2002-02-01T00:00:00",
                    "2002-03-01T00:00:00",
                    "2002-04-01T00:00:00",
                    "2002-05-01T00:00:00",
                    "2002-06-01T00:00:00",
                    "2002-07-01T00:00:00",
                    "2002-08-01T00:00:00",
                    "2002-09-01T00:00:00",
                    "2002-10-01T00:00:00",
                    "2002-11-01T00:00:00",
                    "2002-12-01T00:00:00",
                    "2003-01-01T00:00:00",
                    "2003-02-01T00:00:00",
                    "2003-03-01T00:00:00",
                    "2003-04-01T00:00:00",
                    "2003-05-01T00:00:00",
                    "2003-06-01T00:00:00",
                    "2003-07-01T00:00:00",
                    "2003-08-01T00:00:00",
                    "2003-09-01T00:00:00",
                    "2003-10-01T00:00:00",
                    "2003-11-01T00:00:00",
                    "2003-12-01T00:00:00",
                    "2004-01-01T00:00:00",
                    "2004-02-01T00:00:00",
                    "2004-03-01T00:00:00",
                    "2004-04-01T00:00:00",
                    "2004-05-01T00:00:00",
                    "2004-06-01T00:00:00",
                    "2004-07-01T00:00:00",
                    "2004-08-01T00:00:00",
                    "2004-09-01T00:00:00",
                    "2004-10-01T00:00:00",
                    "2004-11-01T00:00:00",
                    "2004-12-01T00:00:00",
                    "2005-01-01T00:00:00",
                    "2005-02-01T00:00:00",
                    "2005-03-01T00:00:00",
                    "2005-04-01T00:00:00",
                    "2005-05-01T00:00:00",
                    "2005-06-01T00:00:00",
                    "2005-07-01T00:00:00",
                    "2005-08-01T00:00:00",
                    "2005-09-01T00:00:00",
                    "2005-10-01T00:00:00",
                    "2005-11-01T00:00:00",
                    "2005-12-01T00:00:00",
                    "2006-01-01T00:00:00",
                    "2006-02-01T00:00:00",
                    "2006-03-01T00:00:00",
                    "2006-04-01T00:00:00",
                    "2006-05-01T00:00:00",
                    "2006-06-01T00:00:00",
                    "2006-07-01T00:00:00",
                    "2006-08-01T00:00:00",
                    "2006-09-01T00:00:00",
                    "2006-10-01T00:00:00",
                    "2006-11-01T00:00:00",
                    "2006-12-01T00:00:00",
                    "2007-01-01T00:00:00",
                    "2007-02-01T00:00:00",
                    "2007-03-01T00:00:00",
                    "2007-04-01T00:00:00",
                    "2007-05-01T00:00:00",
                    "2007-06-01T00:00:00",
                    "2007-07-01T00:00:00",
                    "2007-08-01T00:00:00",
                    "2007-09-01T00:00:00",
                    "2007-10-01T00:00:00",
                    "2007-11-01T00:00:00",
                    "2007-12-01T00:00:00",
                    "2008-01-01T00:00:00",
                    "2008-02-01T00:00:00",
                    "2008-03-01T00:00:00",
                    "2008-04-01T00:00:00",
                    "2008-05-01T00:00:00",
                    "2008-06-01T00:00:00",
                    "2008-07-01T00:00:00",
                    "2008-08-01T00:00:00",
                    "2008-09-01T00:00:00",
                    "2008-10-01T00:00:00",
                    "2008-11-01T00:00:00",
                    "2008-12-01T00:00:00",
                    "2009-01-01T00:00:00",
                    "2009-02-01T00:00:00",
                    "2009-03-01T00:00:00",
                    "2009-04-01T00:00:00",
                    "2009-05-01T00:00:00",
                    "2009-06-01T00:00:00",
                    "2009-07-01T00:00:00",
                    "2009-08-01T00:00:00",
                    "2009-09-01T00:00:00",
                    "2009-10-01T00:00:00",
                    "2009-11-01T00:00:00",
                    "2009-12-01T00:00:00",
                    "2010-01-01T00:00:00",
                    "2010-02-01T00:00:00",
                    "2010-03-01T00:00:00",
                    "2010-04-01T00:00:00",
                    "2010-05-01T00:00:00",
                    "2010-06-01T00:00:00",
                    "2010-07-01T00:00:00",
                    "2010-08-01T00:00:00",
                    "2010-09-01T00:00:00",
                    "2010-10-01T00:00:00",
                    "2010-11-01T00:00:00",
                    "2010-12-01T00:00:00",
                    "2011-01-01T00:00:00",
                    "2011-02-01T00:00:00",
                    "2011-03-01T00:00:00",
                    "2011-04-01T00:00:00",
                    "2011-05-01T00:00:00",
                    "2011-06-01T00:00:00",
                    "2011-07-01T00:00:00",
                    "2011-08-01T00:00:00",
                    "2011-09-01T00:00:00",
                    "2011-10-01T00:00:00",
                    "2011-11-01T00:00:00",
                    "2011-12-01T00:00:00",
                    "2012-01-01T00:00:00",
                    "2012-02-01T00:00:00",
                    "2012-03-01T00:00:00",
                    "2012-04-01T00:00:00",
                    "2012-05-01T00:00:00",
                    "2012-06-01T00:00:00",
                    "2012-07-01T00:00:00",
                    "2012-08-01T00:00:00",
                    "2012-09-01T00:00:00",
                    "2012-10-01T00:00:00",
                    "2012-11-01T00:00:00",
                    "2012-12-01T00:00:00",
                    "2013-01-01T00:00:00",
                    "2013-02-01T00:00:00",
                    "2013-03-01T00:00:00",
                    "2013-04-01T00:00:00",
                    "2013-05-01T00:00:00",
                    "2013-06-01T00:00:00",
                    "2013-07-01T00:00:00",
                    "2013-08-01T00:00:00",
                    "2013-09-01T00:00:00",
                    "2013-10-01T00:00:00",
                    "2013-11-01T00:00:00",
                    "2013-12-01T00:00:00",
                    "2014-01-01T00:00:00",
                    "2014-02-01T00:00:00",
                    "2014-03-01T00:00:00",
                    "2014-04-01T00:00:00",
                    "2014-05-01T00:00:00",
                    "2014-06-01T00:00:00",
                    "2014-07-01T00:00:00",
                    "2014-08-01T00:00:00",
                    "2014-09-01T00:00:00",
                    "2014-10-01T00:00:00",
                    "2014-11-01T00:00:00",
                    "2014-12-01T00:00:00",
                    "2015-01-01T00:00:00",
                    "2015-02-01T00:00:00",
                    "2015-03-01T00:00:00",
                    "2015-04-01T00:00:00",
                    "2015-05-01T00:00:00",
                    "2015-06-01T00:00:00",
                    "2015-07-01T00:00:00",
                    "2015-08-01T00:00:00",
                    "2015-09-01T00:00:00",
                    "2015-10-01T00:00:00",
                    "2015-11-01T00:00:00",
                    "2015-12-01T00:00:00"
                  ],
                  "y": {
                    "bdata": "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",
                    "dtype": "f8"
                  }
                },
                {
                  "line": {
                    "dash": "dot"
                  },
                  "name": "Spending Forecast",
                  "type": "scatter",
                  "x": [
                    "2015-01-01T00:00:00",
                    "2015-02-01T00:00:00",
                    "2015-03-01T00:00:00",
                    "2015-04-01T00:00:00",
                    "2015-05-01T00:00:00",
                    "2015-06-01T00:00:00",
                    "2015-07-01T00:00:00",
                    "2015-08-01T00:00:00",
                    "2015-09-01T00:00:00",
                    "2015-10-01T00:00:00",
                    "2015-11-01T00:00:00",
                    "2015-12-01T00:00:00"
                  ],
                  "y": {
                    "bdata": "eRWdYk93yEANSZPwvIzIQFsYAckgochAt4oUWA64yEBba1tjhNPIQDa9oSji6shAFos6XXcGyUAq0iI6WCDJQNSrvdIjNslAiH1FZi1PyUAVQFshlWbJQHd9MLlefclA",
                    "dtype": "f8"
                  }
                }
              ],
              "layout": {
                "template": {
                  "data": {
                    "bar": [
                      {
                        "error_x": {
                          "color": "#2a3f5f"
                        },
                        "error_y": {
                          "color": "#2a3f5f"
                        },
                        "marker": {
                          "line": {
                            "color": "#E5ECF6",
                            "width": 0.5
                          },
                          "pattern": {
                            "fillmode": "overlay",
                            "size": 10,
                            "solidity": 0.2
                          }
                        },
                        "type": "bar"
                      }
                    ],
                    "barpolar": [
                      {
                        "marker": {
                          "line": {
                            "color": "#E5ECF6",
                            "width": 0.5
                          },
                          "pattern": {
                            "fillmode": "overlay",
                            "size": 10,
                            "solidity": 0.2
                          }
                        },
                        "type": "barpolar"
                      }
                    ],
                    "carpet": [
                      {
                        "aaxis": {
                          "endlinecolor": "#2a3f5f",
                          "gridcolor": "white",
                          "linecolor": "white",
                          "minorgridcolor": "white",
                          "startlinecolor": "#2a3f5f"
                        },
                        "baxis": {
                          "endlinecolor": "#2a3f5f",
                          "gridcolor": "white",
                          "linecolor": "white",
                          "minorgridcolor": "white",
                          "startlinecolor": "#2a3f5f"
                        },
                        "type": "carpet"
                      }
                    ],
                    "choropleth": [
                      {
                        "colorbar": {
                          "outlinewidth": 0,
                          "ticks": ""
                        },
                        "type": "choropleth"
                      }
                    ],
                    "contour": [
                      {
                        "colorbar": {
                          "outlinewidth": 0,
                          "ticks": ""
                        },
                        "colorscale": [
                          [
                            0,
                            "#0d0887"
                          ],
                          [
                            0.1111111111111111,
                            "#46039f"
                          ],
                          [
                            0.2222222222222222,
                            "#7201a8"
                          ],
                          [
                            0.3333333333333333,
                            "#9c179e"
                          ],
                          [
                            0.4444444444444444,
                            "#bd3786"
                          ],
                          [
                            0.5555555555555556,
                            "#d8576b"
                          ],
                          [
                            0.6666666666666666,
                            "#ed7953"
                          ],
                          [
                            0.7777777777777778,
                            "#fb9f3a"
                          ],
                          [
                            0.8888888888888888,
                            "#fdca26"
                          ],
                          [
                            1,
                            "#f0f921"
                          ]
                        ],
                        "type": "contour"
                      }
                    ],
                    "contourcarpet": [
                      {
                        "colorbar": {
                          "outlinewidth": 0,
                          "ticks": ""
                        },
                        "type": "contourcarpet"
                      }
                    ],
                    "heatmap": [
                      {
                        "colorbar": {
                          "outlinewidth": 0,
                          "ticks": ""
                        },
                        "colorscale": [
                          [
                            0,
                            "#0d0887"
                          ],
                          [
                            0.1111111111111111,
                            "#46039f"
                          ],
                          [
                            0.2222222222222222,
                            "#7201a8"
                          ],
                          [
                            0.3333333333333333,
                            "#9c179e"
                          ],
                          [
                            0.4444444444444444,
                            "#bd3786"
                          ],
                          [
                            0.5555555555555556,
                            "#d8576b"
                          ],
                          [
                            0.6666666666666666,
                            "#ed7953"
                          ],
                          [
                            0.7777777777777778,
                            "#fb9f3a"
                          ],
                          [
                            0.8888888888888888,
                            "#fdca26"
                          ],
                          [
                            1,
                            "#f0f921"
                          ]
                        ],
                        "type": "heatmap"
                      }
                    ],
                    "histogram": [
                      {
                        "marker": {
                          "pattern": {
                            "fillmode": "overlay",
                            "size": 10,
                            "solidity": 0.2
                          }
                        },
                        "type": "histogram"
                      }
                    ],
                    "histogram2d": [
                      {
                        "colorbar": {
                          "outlinewidth": 0,
                          "ticks": ""
                        },
                        "colorscale": [
                          [
                            0,
                            "#0d0887"
                          ],
                          [
                            0.1111111111111111,
                            "#46039f"
                          ],
                          [
                            0.2222222222222222,
                            "#7201a8"
                          ],
                          [
                            0.3333333333333333,
                            "#9c179e"
                          ],
                          [
                            0.4444444444444444,
                            "#bd3786"
                          ],
                          [
                            0.5555555555555556,
                            "#d8576b"
                          ],
                          [
                            0.6666666666666666,
                            "#ed7953"
                          ],
                          [
                            0.7777777777777778,
                            "#fb9f3a"
                          ],
                          [
                            0.8888888888888888,
                            "#fdca26"
                          ],
                          [
                            1,
                            "#f0f921"
                          ]
                        ],
                        "type": "histogram2d"
                      }
                    ],
                    "histogram2dcontour": [
                      {
                        "colorbar": {
                          "outlinewidth": 0,
                          "ticks": ""
                        },
                        "colorscale": [
                          [
                            0,
                            "#0d0887"
                          ],
                          [
                            0.1111111111111111,
                            "#46039f"
                          ],
                          [
                            0.2222222222222222,
                            "#7201a8"
                          ],
                          [
                            0.3333333333333333,
                            "#9c179e"
                          ],
                          [
                            0.4444444444444444,
                            "#bd3786"
                          ],
                          [
                            0.5555555555555556,
                            "#d8576b"
                          ],
                          [
                            0.6666666666666666,
                            "#ed7953"
                          ],
                          [
                            0.7777777777777778,
                            "#fb9f3a"
                          ],
                          [
                            0.8888888888888888,
                            "#fdca26"
                          ],
                          [
                            1,
                            "#f0f921"
                          ]
                        ],
                        "type": "histogram2dcontour"
                      }
                    ],
                    "mesh3d": [
                      {
                        "colorbar": {
                          "outlinewidth": 0,
                          "ticks": ""
                        },
                        "type": "mesh3d"
                      }
                    ],
                    "parcoords": [
                      {
                        "line": {
                          "colorbar": {
                            "outlinewidth": 0,
                            "ticks": ""
                          }
                        },
                        "type": "parcoords"
                      }
                    ],
                    "pie": [
                      {
                        "automargin": true,
                        "type": "pie"
                      }
                    ],
                    "scatter": [
                      {
                        "fillpattern": {
                          "fillmode": "overlay",
                          "size": 10,
                          "solidity": 0.2
                        },
                        "type": "scatter"
                      }
                    ],
                    "scatter3d": [
                      {
                        "line": {
                          "colorbar": {
                            "outlinewidth": 0,
                            "ticks": ""
                          }
                        },
                        "marker": {
                          "colorbar": {
                            "outlinewidth": 0,
                            "ticks": ""
                          }
                        },
                        "type": "scatter3d"
                      }
                    ],
                    "scattercarpet": [
                      {
                        "marker": {
                          "colorbar": {
                            "outlinewidth": 0,
                            "ticks": ""
                          }
                        },
                        "type": "scattercarpet"
                      }
                    ],
                    "scattergeo": [
                      {
                        "marker": {
                          "colorbar": {
                            "outlinewidth": 0,
                            "ticks": ""
                          }
                        },
                        "type": "scattergeo"
                      }
                    ],
                    "scattergl": [
                      {
                        "marker": {
                          "colorbar": {
                            "outlinewidth": 0,
                            "ticks": ""
                          }
                        },
                        "type": "scattergl"
                      }
                    ],
                    "scattermap": [
                      {
                        "marker": {
                          "colorbar": {
                            "outlinewidth": 0,
                            "ticks": ""
                          }
                        },
                        "type": "scattermap"
                      }
                    ],
                    "scattermapbox": [
                      {
                        "marker": {
                          "colorbar": {
                            "outlinewidth": 0,
                            "ticks": ""
                          }
                        },
                        "type": "scattermapbox"
                      }
                    ],
                    "scatterpolar": [
                      {
                        "marker": {
                          "colorbar": {
                            "outlinewidth": 0,
                            "ticks": ""
                          }
                        },
                        "type": "scatterpolar"
                      }
                    ],
                    "scatterpolargl": [
                      {
                        "marker": {
                          "colorbar": {
                            "outlinewidth": 0,
                            "ticks": ""
                          }
                        },
                        "type": "scatterpolargl"
                      }
                    ],
                    "scatterternary": [
                      {
                        "marker": {
                          "colorbar": {
                            "outlinewidth": 0,
                            "ticks": ""
                          }
                        },
                        "type": "scatterternary"
                      }
                    ],
                    "surface": [
                      {
                        "colorbar": {
                          "outlinewidth": 0,
                          "ticks": ""
                        },
                        "colorscale": [
                          [
                            0,
                            "#0d0887"
                          ],
                          [
                            0.1111111111111111,
                            "#46039f"
                          ],
                          [
                            0.2222222222222222,
                            "#7201a8"
                          ],
                          [
                            0.3333333333333333,
                            "#9c179e"
                          ],
                          [
                            0.4444444444444444,
                            "#bd3786"
                          ],
                          [
                            0.5555555555555556,
                            "#d8576b"
                          ],
                          [
                            0.6666666666666666,
                            "#ed7953"
                          ],
                          [
                            0.7777777777777778,
                            "#fb9f3a"
                          ],
                          [
                            0.8888888888888888,
                            "#fdca26"
                          ],
                          [
                            1,
                            "#f0f921"
                          ]
                        ],
                        "type": "surface"
                      }
                    ],
                    "table": [
                      {
                        "cells": {
                          "fill": {
                            "color": "#EBF0F8"
                          },
                          "line": {
                            "color": "white"
                          }
                        },
                        "header": {
                          "fill": {
                            "color": "#C8D4E3"
                          },
                          "line": {
                            "color": "white"
                          }
                        },
                        "type": "table"
                      }
                    ]
                  },
                  "layout": {
                    "annotationdefaults": {
                      "arrowcolor": "#2a3f5f",
                      "arrowhead": 0,
                      "arrowwidth": 1
                    },
                    "autotypenumbers": "strict",
                    "coloraxis": {
                      "colorbar": {
                        "outlinewidth": 0,
                        "ticks": ""
                      }
                    },
                    "colorscale": {
                      "diverging": [
                        [
                          0,
                          "#8e0152"
                        ],
                        [
                          0.1,
                          "#c51b7d"
                        ],
                        [
                          0.2,
                          "#de77ae"
                        ],
                        [
                          0.3,
                          "#f1b6da"
                        ],
                        [
                          0.4,
                          "#fde0ef"
                        ],
                        [
                          0.5,
                          "#f7f7f7"
                        ],
                        [
                          0.6,
                          "#e6f5d0"
                        ],
                        [
                          0.7,
                          "#b8e186"
                        ],
                        [
                          0.8,
                          "#7fbc41"
                        ],
                        [
                          0.9,
                          "#4d9221"
                        ],
                        [
                          1,
                          "#276419"
                        ]
                      ],
                      "sequential": [
                        [
                          0,
                          "#0d0887"
                        ],
                        [
                          0.1111111111111111,
                          "#46039f"
                        ],
                        [
                          0.2222222222222222,
                          "#7201a8"
                        ],
                        [
                          0.3333333333333333,
                          "#9c179e"
                        ],
                        [
                          0.4444444444444444,
                          "#bd3786"
                        ],
                        [
                          0.5555555555555556,
                          "#d8576b"
                        ],
                        [
                          0.6666666666666666,
                          "#ed7953"
                        ],
                        [
                          0.7777777777777778,
                          "#fb9f3a"
                        ],
                        [
                          0.8888888888888888,
                          "#fdca26"
                        ],
                        [
                          1,
                          "#f0f921"
                        ]
                      ],
                      "sequentialminus": [
                        [
                          0,
                          "#0d0887"
                        ],
                        [
                          0.1111111111111111,
                          "#46039f"
                        ],
                        [
                          0.2222222222222222,
                          "#7201a8"
                        ],
                        [
                          0.3333333333333333,
                          "#9c179e"
                        ],
                        [
                          0.4444444444444444,
                          "#bd3786"
                        ],
                        [
                          0.5555555555555556,
                          "#d8576b"
                        ],
                        [
                          0.6666666666666666,
                          "#ed7953"
                        ],
                        [
                          0.7777777777777778,
                          "#fb9f3a"
                        ],
                        [
                          0.8888888888888888,
                          "#fdca26"
                        ],
                        [
                          1,
                          "#f0f921"
                        ]
                      ]
                    },
                    "colorway": [
                      "#636efa",
                      "#EF553B",
                      "#00cc96",
                      "#ab63fa",
                      "#FFA15A",
                      "#19d3f3",
                      "#FF6692",
                      "#B6E880",
                      "#FF97FF",
                      "#FECB52"
                    ],
                    "font": {
                      "color": "#2a3f5f"
                    },
                    "geo": {
                      "bgcolor": "white",
                      "lakecolor": "white",
                      "landcolor": "#E5ECF6",
                      "showlakes": true,
                      "showland": true,
                      "subunitcolor": "white"
                    },
                    "hoverlabel": {
                      "align": "left"
                    },
                    "hovermode": "closest",
                    "mapbox": {
                      "style": "light"
                    },
                    "paper_bgcolor": "white",
                    "plot_bgcolor": "#E5ECF6",
                    "polar": {
                      "angularaxis": {
                        "gridcolor": "white",
                        "linecolor": "white",
                        "ticks": ""
                      },
                      "bgcolor": "#E5ECF6",
                      "radialaxis": {
                        "gridcolor": "white",
                        "linecolor": "white",
                        "ticks": ""
                      }
                    },
                    "scene": {
                      "xaxis": {
                        "backgroundcolor": "#E5ECF6",
                        "gridcolor": "white",
                        "gridwidth": 2,
                        "linecolor": "white",
                        "showbackground": true,
                        "ticks": "",
                        "zerolinecolor": "white"
                      },
                      "yaxis": {
                        "backgroundcolor": "#E5ECF6",
                        "gridcolor": "white",
                        "gridwidth": 2,
                        "linecolor": "white",
                        "showbackground": true,
                        "ticks": "",
                        "zerolinecolor": "white"
                      },
                      "zaxis": {
                        "backgroundcolor": "#E5ECF6",
                        "gridcolor": "white",
                        "gridwidth": 2,
                        "linecolor": "white",
                        "showbackground": true,
                        "ticks": "",
                        "zerolinecolor": "white"
                      }
                    },
                    "shapedefaults": {
                      "line": {
                        "color": "#2a3f5f"
                      }
                    },
                    "ternary": {
                      "aaxis": {
                        "gridcolor": "white",
                        "linecolor": "white",
                        "ticks": ""
                      },
                      "baxis": {
                        "gridcolor": "white",
                        "linecolor": "white",
                        "ticks": ""
                      },
                      "bgcolor": "#E5ECF6",
                      "caxis": {
                        "gridcolor": "white",
                        "linecolor": "white",
                        "ticks": ""
                      }
                    },
                    "title": {
                      "x": 0.05
                    },
                    "xaxis": {
                      "automargin": true,
                      "gridcolor": "white",
                      "linecolor": "white",
                      "ticks": "",
                      "title": {
                        "standoff": 15
                      },
                      "zerolinecolor": "white",
                      "zerolinewidth": 2
                    },
                    "yaxis": {
                      "automargin": true,
                      "gridcolor": "white",
                      "linecolor": "white",
                      "ticks": "",
                      "title": {
                        "standoff": 15
                      },
                      "zerolinecolor": "white",
                      "zerolinewidth": 2
                    }
                  }
                },
                "title": {
                  "text": "M2 통화량 및 개인 소비 지출 예측 (VAR)"
                },
                "xaxis": {
                  "title": {
                    "text": "날짜"
                  }
                }
              }
            }
          },
          "metadata": {},
          "output_type": "display_data"
        }
      ],
      "source": [
        "# 5. 결과 시각화\n",
        "fig = go.Figure()\n",
        "# Money 변수\n",
        "fig.add_trace(go.Scatter(x=df_money.index, y=df_money['Money'], name='Money Actual'))\n",
        "fig.add_trace(go.Scatter(x=df_results.index, y=df_results['Money_forecast'], name='Money Forecast', line=dict(dash='dot')))\n",
        "# Spending 변수\n",
        "fig.add_trace(go.Scatter(x=df_money.index, y=df_money['Spending'], name='Spending Actual'))\n",
        "fig.add_trace(go.Scatter(x=df_results.index, y=df_results['Spending_forecast'], name='Spending Forecast', line=dict(dash='dot')))\n",
        "\n",
        "fig.update_layout(title='M2 통화량 및 개인 소비 지출 예측 (VAR)', xaxis_title='날짜')\n",
        "fig.show()"
      ]
    },
    {
      "cell_type": "markdown",
      "metadata": {
        "id": "DC0iJYgy5s_7"
      },
      "source": [
        "### ✏️ 연습 문제 (Practice Problems)\n",
        "\n",
        "1.  미국의 거시경제 데이터(고용, 생산성, 실업률, 인구)를 사용하여 VAR 모델을 구축해보세요.\n",
        "      * 데이터셋 URL: `https://raw.githubusercontent.com/statsmodels/statsmodels/main/statsmodels/datasets/macrodata/macrodata.csv`\n",
        "      * 데이터셋은 분기별 데이터입니다. 'year'와 'quarter' 열을 조합하여 시계열 인덱스를 만드세요.\n",
        "2.  모델에 사용할 변수('realgdp', 'realcons', 'unemp', 'pop')를 선택하고, 각 변수의 정상성을 확인한 후 필요하다면 차분을 적용하세요.\n",
        "3.  `select_order()`를 사용하여 최적의 시차(lag)를 결정하세요.\n",
        "4.  결정된 시차로 VAR 모델을 학습하고, 향후 8분기(2년)를 예측해보세요. 예측 결과를 역변환하여 원본 스케일로 만들고, 그래프로 시각화하여 실제 데이터의 추세와 비교해보세요."
      ]
    },
    {
      "cell_type": "code",
      "execution_count": 55,
      "metadata": {
        "id": "Cj59mD6o5s_7"
      },
      "outputs": [
        {
          "name": "stdout",
          "output_type": "stream",
          "text": [
            "데이터 형태: (203, 14)\n",
            "첫 5행:\n"
          ]
        },
        {
          "data": {
            "text/html": [
              "<div>\n",
              "<style scoped>\n",
              "    .dataframe tbody tr th:only-of-type {\n",
              "        vertical-align: middle;\n",
              "    }\n",
              "\n",
              "    .dataframe tbody tr th {\n",
              "        vertical-align: top;\n",
              "    }\n",
              "\n",
              "    .dataframe thead th {\n",
              "        text-align: right;\n",
              "    }\n",
              "</style>\n",
              "<table border=\"1\" class=\"dataframe\">\n",
              "  <thead>\n",
              "    <tr style=\"text-align: right;\">\n",
              "      <th></th>\n",
              "      <th>year</th>\n",
              "      <th>quarter</th>\n",
              "      <th>realgdp</th>\n",
              "      <th>realcons</th>\n",
              "      <th>realinv</th>\n",
              "      <th>realgovt</th>\n",
              "      <th>realdpi</th>\n",
              "      <th>cpi</th>\n",
              "      <th>m1</th>\n",
              "      <th>tbilrate</th>\n",
              "      <th>unemp</th>\n",
              "      <th>pop</th>\n",
              "      <th>infl</th>\n",
              "      <th>realint</th>\n",
              "    </tr>\n",
              "    <tr>\n",
              "      <th>date</th>\n",
              "      <th></th>\n",
              "      <th></th>\n",
              "      <th></th>\n",
              "      <th></th>\n",
              "      <th></th>\n",
              "      <th></th>\n",
              "      <th></th>\n",
              "      <th></th>\n",
              "      <th></th>\n",
              "      <th></th>\n",
              "      <th></th>\n",
              "      <th></th>\n",
              "      <th></th>\n",
              "      <th></th>\n",
              "    </tr>\n",
              "  </thead>\n",
              "  <tbody>\n",
              "    <tr>\n",
              "      <th>1959-01-01</th>\n",
              "      <td>1959</td>\n",
              "      <td>1</td>\n",
              "      <td>2710.349</td>\n",
              "      <td>1707.4</td>\n",
              "      <td>286.898</td>\n",
              "      <td>470.045</td>\n",
              "      <td>1886.9</td>\n",
              "      <td>28.98</td>\n",
              "      <td>139.7</td>\n",
              "      <td>2.82</td>\n",
              "      <td>5.8</td>\n",
              "      <td>177.146</td>\n",
              "      <td>0.00</td>\n",
              "      <td>0.00</td>\n",
              "    </tr>\n",
              "    <tr>\n",
              "      <th>1959-04-01</th>\n",
              "      <td>1959</td>\n",
              "      <td>2</td>\n",
              "      <td>2778.801</td>\n",
              "      <td>1733.7</td>\n",
              "      <td>310.859</td>\n",
              "      <td>481.301</td>\n",
              "      <td>1919.7</td>\n",
              "      <td>29.15</td>\n",
              "      <td>141.7</td>\n",
              "      <td>3.08</td>\n",
              "      <td>5.1</td>\n",
              "      <td>177.830</td>\n",
              "      <td>2.34</td>\n",
              "      <td>0.74</td>\n",
              "    </tr>\n",
              "    <tr>\n",
              "      <th>1959-07-01</th>\n",
              "      <td>1959</td>\n",
              "      <td>3</td>\n",
              "      <td>2775.488</td>\n",
              "      <td>1751.8</td>\n",
              "      <td>289.226</td>\n",
              "      <td>491.260</td>\n",
              "      <td>1916.4</td>\n",
              "      <td>29.35</td>\n",
              "      <td>140.5</td>\n",
              "      <td>3.82</td>\n",
              "      <td>5.3</td>\n",
              "      <td>178.657</td>\n",
              "      <td>2.74</td>\n",
              "      <td>1.09</td>\n",
              "    </tr>\n",
              "    <tr>\n",
              "      <th>1959-10-01</th>\n",
              "      <td>1959</td>\n",
              "      <td>4</td>\n",
              "      <td>2785.204</td>\n",
              "      <td>1753.7</td>\n",
              "      <td>299.356</td>\n",
              "      <td>484.052</td>\n",
              "      <td>1931.3</td>\n",
              "      <td>29.37</td>\n",
              "      <td>140.0</td>\n",
              "      <td>4.33</td>\n",
              "      <td>5.6</td>\n",
              "      <td>179.386</td>\n",
              "      <td>0.27</td>\n",
              "      <td>4.06</td>\n",
              "    </tr>\n",
              "    <tr>\n",
              "      <th>1960-01-01</th>\n",
              "      <td>1960</td>\n",
              "      <td>1</td>\n",
              "      <td>2847.699</td>\n",
              "      <td>1770.5</td>\n",
              "      <td>331.722</td>\n",
              "      <td>462.199</td>\n",
              "      <td>1955.5</td>\n",
              "      <td>29.54</td>\n",
              "      <td>139.6</td>\n",
              "      <td>3.50</td>\n",
              "      <td>5.2</td>\n",
              "      <td>180.007</td>\n",
              "      <td>2.31</td>\n",
              "      <td>1.19</td>\n",
              "    </tr>\n",
              "  </tbody>\n",
              "</table>\n",
              "</div>"
            ],
            "text/plain": [
              "            year  quarter   realgdp  realcons  realinv  realgovt  realdpi  \\\n",
              "date                                                                        \n",
              "1959-01-01  1959        1  2710.349    1707.4  286.898   470.045   1886.9   \n",
              "1959-04-01  1959        2  2778.801    1733.7  310.859   481.301   1919.7   \n",
              "1959-07-01  1959        3  2775.488    1751.8  289.226   491.260   1916.4   \n",
              "1959-10-01  1959        4  2785.204    1753.7  299.356   484.052   1931.3   \n",
              "1960-01-01  1960        1  2847.699    1770.5  331.722   462.199   1955.5   \n",
              "\n",
              "              cpi     m1  tbilrate  unemp      pop  infl  realint  \n",
              "date                                                               \n",
              "1959-01-01  28.98  139.7      2.82    5.8  177.146  0.00     0.00  \n",
              "1959-04-01  29.15  141.7      3.08    5.1  177.830  2.34     0.74  \n",
              "1959-07-01  29.35  140.5      3.82    5.3  178.657  2.74     1.09  \n",
              "1959-10-01  29.37  140.0      4.33    5.6  179.386  0.27     4.06  \n",
              "1960-01-01  29.54  139.6      3.50    5.2  180.007  2.31     1.19  "
            ]
          },
          "execution_count": 55,
          "metadata": {},
          "output_type": "execute_result"
        }
      ],
      "source": [
        "# 연습 문제 1, 2, 3, 4번 풀이 공간\n",
        "import pandas as pd\n",
        "import plotly.graph_objects as go\n",
        "from statsmodels.tsa.api import VAR\n",
        "from statsmodels.tsa.stattools import adfuller\n",
        "import numpy as np\n",
        "\n",
        "# 1. 데이터 로드 및 인덱스 설정\n",
        "url_macro = 'https://raw.githubusercontent.com/statsmodels/statsmodels/main/statsmodels/datasets/macrodata/macrodata.csv'\n",
        "df_macro = pd.read_csv(url_macro)\n",
        "\n",
        "# year와 quarter를 조합하여 시계열 인덱스 생성\n",
        "df_macro['date'] = pd.to_datetime(df_macro['year'].astype(str) + '-Q' + df_macro['quarter'].astype(str))\n",
        "df_macro.set_index('date', inplace=True)\n",
        "print(\"데이터 형태:\", df_macro.shape)\n",
        "print(\"첫 5행:\")\n",
        "df_macro.head()\n"
      ]
    },
    {
      "cell_type": "code",
      "execution_count": 57,
      "metadata": {},
      "outputs": [
        {
          "name": "stdout",
          "output_type": "stream",
          "text": [
            "선택된 변수들의 첫 5행:\n"
          ]
        },
        {
          "data": {
            "text/html": [
              "<div>\n",
              "<style scoped>\n",
              "    .dataframe tbody tr th:only-of-type {\n",
              "        vertical-align: middle;\n",
              "    }\n",
              "\n",
              "    .dataframe tbody tr th {\n",
              "        vertical-align: top;\n",
              "    }\n",
              "\n",
              "    .dataframe thead th {\n",
              "        text-align: right;\n",
              "    }\n",
              "</style>\n",
              "<table border=\"1\" class=\"dataframe\">\n",
              "  <thead>\n",
              "    <tr style=\"text-align: right;\">\n",
              "      <th></th>\n",
              "      <th>realgdp</th>\n",
              "      <th>realcons</th>\n",
              "      <th>unemp</th>\n",
              "      <th>pop</th>\n",
              "    </tr>\n",
              "    <tr>\n",
              "      <th>date</th>\n",
              "      <th></th>\n",
              "      <th></th>\n",
              "      <th></th>\n",
              "      <th></th>\n",
              "    </tr>\n",
              "  </thead>\n",
              "  <tbody>\n",
              "    <tr>\n",
              "      <th>1959-01-01</th>\n",
              "      <td>2710.349</td>\n",
              "      <td>1707.4</td>\n",
              "      <td>5.8</td>\n",
              "      <td>177.146</td>\n",
              "    </tr>\n",
              "    <tr>\n",
              "      <th>1959-04-01</th>\n",
              "      <td>2778.801</td>\n",
              "      <td>1733.7</td>\n",
              "      <td>5.1</td>\n",
              "      <td>177.830</td>\n",
              "    </tr>\n",
              "    <tr>\n",
              "      <th>1959-07-01</th>\n",
              "      <td>2775.488</td>\n",
              "      <td>1751.8</td>\n",
              "      <td>5.3</td>\n",
              "      <td>178.657</td>\n",
              "    </tr>\n",
              "    <tr>\n",
              "      <th>1959-10-01</th>\n",
              "      <td>2785.204</td>\n",
              "      <td>1753.7</td>\n",
              "      <td>5.6</td>\n",
              "      <td>179.386</td>\n",
              "    </tr>\n",
              "    <tr>\n",
              "      <th>1960-01-01</th>\n",
              "      <td>2847.699</td>\n",
              "      <td>1770.5</td>\n",
              "      <td>5.2</td>\n",
              "      <td>180.007</td>\n",
              "    </tr>\n",
              "  </tbody>\n",
              "</table>\n",
              "</div>"
            ],
            "text/plain": [
              "             realgdp  realcons  unemp      pop\n",
              "date                                          \n",
              "1959-01-01  2710.349    1707.4    5.8  177.146\n",
              "1959-04-01  2778.801    1733.7    5.1  177.830\n",
              "1959-07-01  2775.488    1751.8    5.3  178.657\n",
              "1959-10-01  2785.204    1753.7    5.6  179.386\n",
              "1960-01-01  2847.699    1770.5    5.2  180.007"
            ]
          },
          "execution_count": 57,
          "metadata": {},
          "output_type": "execute_result"
        }
      ],
      "source": [
        "print(\"선택된 변수들의 첫 5행:\")\n",
        "df_macro[['realgdp', 'realcons', 'unemp', 'pop']].head()\n"
      ]
    },
    {
      "cell_type": "code",
      "execution_count": 58,
      "metadata": {},
      "outputs": [
        {
          "name": "stdout",
          "output_type": "stream",
          "text": [
            "=== 원본 데이터 정상성 검정 ===\n",
            "\n",
            "realgdp ADF 검정 결과:\n",
            "ADF 통계량: 1.750463\n",
            "p-value: 0.998246\n",
            "정상성: 비정상\n",
            "\n",
            "realcons ADF 검정 결과:\n",
            "ADF 통계량: 1.549912\n",
            "p-value: 0.997699\n",
            "정상성: 비정상\n",
            "\n",
            "unemp ADF 검정 결과:\n",
            "ADF 통계량: -2.536458\n",
            "p-value: 0.106854\n",
            "정상성: 비정상\n",
            "\n",
            "pop ADF 검정 결과:\n",
            "ADF 통계량: 1.730647\n",
            "p-value: 0.998201\n",
            "정상성: 비정상\n"
          ]
        }
      ],
      "source": [
        "# 2. 변수 선택 및 정상성 확인/차분\n",
        "variables = ['realgdp', 'realcons', 'unemp', 'pop']\n",
        "df_selected = df_macro[variables].copy()\n",
        "\n",
        "# 정상성 검정 함수\n",
        "def check_stationarity(series, name):\n",
        "    result = adfuller(series.dropna())\n",
        "    print(f'\\n{name} ADF 검정 결과:')\n",
        "    print(f'ADF 통계량: {result[0]:.6f}')\n",
        "    print(f'p-value: {result[1]:.6f}')\n",
        "    print(f'정상성: {\"정상\" if result[1] < 0.05 else \"비정상\"}')\n",
        "    return result[1] < 0.05\n",
        "\n",
        "# 각 변수의 정상성 확인\n",
        "print(\"=== 원본 데이터 정상성 검정 ===\")\n",
        "stationarity_results = {}\n",
        "for var in variables:\n",
        "    stationarity_results[var] = check_stationarity(df_selected[var], var)"
      ]
    },
    {
      "cell_type": "code",
      "execution_count": 59,
      "metadata": {},
      "outputs": [
        {
          "name": "stdout",
          "output_type": "stream",
          "text": [
            "\n",
            "realgdp 변수에 1차 차분 적용\n",
            "\n",
            "realcons 변수에 1차 차분 적용\n",
            "\n",
            "unemp 변수에 1차 차분 적용\n",
            "\n",
            "pop 변수에 1차 차분 적용\n",
            "\n",
            "=== 차분 후 정상성 검정 ===\n",
            "\n",
            "realgdp_diff ADF 검정 결과:\n",
            "ADF 통계량: -6.305696\n",
            "p-value: 0.000000\n",
            "정상성: 정상\n",
            "\n",
            "realcons_diff ADF 검정 결과:\n",
            "ADF 통계량: -4.204306\n",
            "p-value: 0.000648\n",
            "정상성: 정상\n",
            "\n",
            "unemp_diff ADF 검정 결과:\n",
            "ADF 통계량: -4.168475\n",
            "p-value: 0.000745\n",
            "정상성: 정상\n",
            "\n",
            "pop_diff ADF 검정 결과:\n",
            "ADF 통계량: -1.615825\n",
            "p-value: 0.474919\n",
            "정상성: 비정상\n"
          ]
        }
      ],
      "source": [
        "# 비정상 변수에 대해 1차 차분 적용\n",
        "df_diff = df_selected.copy()\n",
        "for var in variables:\n",
        "    if not stationarity_results[var]:\n",
        "        df_diff[var] = df_selected[var].diff()\n",
        "        print(f\"\\n{var} 변수에 1차 차분 적용\")\n",
        "\n",
        "# 차분 후 정상성 재확인\n",
        "print(\"\\n=== 차분 후 정상성 검정 ===\")\n",
        "for var in variables:\n",
        "    if not stationarity_results[var]:\n",
        "        check_stationarity(df_diff[var], f\"{var}_diff\")"
      ]
    },
    {
      "cell_type": "code",
      "execution_count": 60,
      "metadata": {},
      "outputs": [
        {
          "name": "stdout",
          "output_type": "stream",
          "text": [
            "차분 후 데이터 형태: (202, 4)\n"
          ]
        }
      ],
      "source": [
        "# 결측값 제거\n",
        "df_diff = df_diff.dropna()\n",
        "print(f\"차분 후 데이터 형태: {df_diff.shape}\")"
      ]
    },
    {
      "cell_type": "code",
      "execution_count": 61,
      "metadata": {},
      "outputs": [
        {
          "name": "stdout",
          "output_type": "stream",
          "text": [
            "=== 최적 시차 선택 결과 ===\n",
            " VAR Order Selection (* highlights the minimums) \n",
            "=================================================\n",
            "      AIC         BIC         FPE         HQIC   \n",
            "-------------------------------------------------\n",
            "0       7.838       7.905       2535.       7.865\n",
            "1       6.339       6.676       566.3       6.475\n",
            "2       6.295       6.901       542.0       6.541\n",
            "3       5.133      6.009*       169.7       5.488\n",
            "4       5.035       6.180       153.9       5.499\n",
            "5       4.640       6.055      103.9*      5.213*\n",
            "6       4.684       6.369       108.9       5.366\n",
            "7       4.706       6.660       111.6       5.497\n",
            "8      4.637*       6.861       104.6       5.537\n",
            "-------------------------------------------------\n",
            "AIC 기준 최적 시차: 8\n"
          ]
        }
      ],
      "source": [
        "# 3. 최적 시차 결정\n",
        "model = VAR(df_diff)\n",
        "lag_order_results = model.select_order(maxlags=8)\n",
        "print(\"=== 최적 시차 선택 결과 ===\")\n",
        "print(lag_order_results.summary())\n",
        "\n",
        "# AIC 기준으로 최적 시차 선택\n",
        "optimal_lag = lag_order_results.aic\n",
        "print(f\"AIC 기준 최적 시차: {optimal_lag}\")"
      ]
    },
    {
      "cell_type": "code",
      "execution_count": 63,
      "metadata": {},
      "outputs": [
        {
          "name": "stdout",
          "output_type": "stream",
          "text": [
            "=== VAR(8) 모델 요약 ===\n",
            "  Summary of Regression Results   \n",
            "==================================\n",
            "Model:                         VAR\n",
            "Method:                        OLS\n",
            "Date:           Tue, 10, Jun, 2025\n",
            "Time:                     07:57:36\n",
            "--------------------------------------------------------------------\n",
            "No. of Equations:         4.00000    BIC:                    6.86053\n",
            "Nobs:                     194.000    HQIC:                   5.53739\n",
            "Log likelihood:          -1418.89    FPE:                    104.627\n",
            "AIC:                      4.63704    Det(Omega_mle):         55.8144\n",
            "--------------------------------------------------------------------\n",
            "Results for equation realgdp\n",
            "==============================================================================\n",
            "                 coefficient       std. error           t-stat            prob\n",
            "------------------------------------------------------------------------------\n",
            "const               8.599424        20.615688            0.417           0.677\n",
            "L1.realgdp         -0.343363         0.098498           -3.486           0.000\n",
            "L1.realcons         1.017736         0.150533            6.761           0.000\n",
            "L1.unemp          -40.547938        17.223265           -2.354           0.019\n",
            "L1.pop            -82.551329        97.863424           -0.844           0.399\n",
            "L2.realgdp         -0.238227         0.101144           -2.355           0.019\n",
            "L2.realcons         0.873317         0.169799            5.143           0.000\n",
            "L2.unemp           17.799049        19.237684            0.925           0.355\n",
            "L2.pop            -20.897663       120.078077           -0.174           0.862\n",
            "L3.realgdp         -0.359140         0.104550           -3.435           0.001\n",
            "L3.realcons         0.571010         0.179720            3.177           0.001\n",
            "L3.unemp          -35.836074        19.300701           -1.857           0.063\n",
            "L3.pop            188.405916       117.373581            1.605           0.108\n",
            "L4.realgdp         -0.137807         0.105873           -1.302           0.193\n",
            "L4.realcons         0.143991         0.183229            0.786           0.432\n",
            "L4.unemp          -10.255961        19.423632           -0.528           0.597\n",
            "L4.pop             95.427864       108.046806            0.883           0.377\n",
            "L5.realgdp         -0.303173         0.105982           -2.861           0.004\n",
            "L5.realcons         0.183832         0.182881            1.005           0.315\n",
            "L5.unemp          -32.545902        19.005234           -1.712           0.087\n",
            "L5.pop             40.367047       106.676337            0.378           0.705\n",
            "L6.realgdp         -0.246929         0.108665           -2.272           0.023\n",
            "L6.realcons         0.219418         0.174760            1.256           0.209\n",
            "L6.unemp          -25.330150        19.137230           -1.324           0.186\n",
            "L6.pop             44.858271       114.689160            0.391           0.696\n",
            "L7.realgdp         -0.278797         0.109099           -2.555           0.011\n",
            "L7.realcons         0.028000         0.171887            0.163           0.871\n",
            "L7.unemp          -32.095614        19.324936           -1.661           0.097\n",
            "L7.pop           -181.946393       117.426905           -1.549           0.121\n",
            "L8.realgdp         -0.217784         0.105222           -2.070           0.038\n",
            "L8.realcons        -0.072428         0.168733           -0.429           0.668\n",
            "L8.unemp            1.300151        15.794639            0.082           0.934\n",
            "L8.pop            -14.242283        96.472139           -0.148           0.883\n",
            "==============================================================================\n",
            "\n",
            "Results for equation realcons\n",
            "==============================================================================\n",
            "                 coefficient       std. error           t-stat            prob\n",
            "------------------------------------------------------------------------------\n",
            "const              -3.630222        12.866538           -0.282           0.778\n",
            "L1.realgdp         -0.060346         0.061474           -0.982           0.326\n",
            "L1.realcons         0.330757         0.093949            3.521           0.000\n",
            "L1.unemp            3.932117        10.749280            0.366           0.715\n",
            "L1.pop           -111.003327        61.077926           -1.817           0.069\n",
            "L2.realgdp         -0.041827         0.063125           -0.663           0.508\n",
            "L2.realcons         0.322289         0.105974            3.041           0.002\n",
            "L2.unemp           15.353328        12.006507            1.279           0.201\n",
            "L2.pop            124.763432        74.942401            1.665           0.096\n",
            "L3.realgdp         -0.092258         0.065251           -1.414           0.157\n",
            "L3.realcons         0.439637         0.112166            3.920           0.000\n",
            "L3.unemp           -9.977244        12.045836           -0.828           0.408\n",
            "L3.pop            -49.778245        73.254487           -0.680           0.497\n",
            "L4.realgdp         -0.020381         0.066077           -0.308           0.758\n",
            "L4.realcons        -0.087554         0.114356           -0.766           0.444\n",
            "L4.unemp            0.447635        12.122559            0.037           0.971\n",
            "L4.pop             83.083377        67.433517            1.232           0.218\n",
            "L5.realgdp          0.027922         0.066145            0.422           0.673\n",
            "L5.realcons         0.023973         0.114138            0.210           0.834\n",
            "L5.unemp           -6.690506        11.861431           -0.564           0.573\n",
            "L5.pop             45.224472        66.578188            0.679           0.497\n",
            "L6.realgdp          0.016558         0.067819            0.244           0.807\n",
            "L6.realcons         0.031674         0.109070            0.290           0.772\n",
            "L6.unemp           17.491021        11.943812            1.464           0.143\n",
            "L6.pop            -53.055967        71.579103           -0.741           0.459\n",
            "L7.realgdp         -0.113954         0.068090           -1.674           0.094\n",
            "L7.realcons         0.065797         0.107277            0.613           0.540\n",
            "L7.unemp          -21.552847        12.060962           -1.787           0.074\n",
            "L7.pop            -29.384461        73.287767           -0.401           0.688\n",
            "L8.realgdp          0.082140         0.065670            1.251           0.211\n",
            "L8.realcons        -0.163845         0.105309           -1.556           0.120\n",
            "L8.unemp           16.128618         9.857654            1.636           0.102\n",
            "L8.pop             14.921554        60.209606            0.248           0.804\n",
            "==============================================================================\n",
            "\n",
            "Results for equation unemp\n",
            "==============================================================================\n",
            "                 coefficient       std. error           t-stat            prob\n",
            "------------------------------------------------------------------------------\n",
            "const              -0.018122         0.101579           -0.178           0.858\n",
            "L1.realgdp          0.000288         0.000485            0.593           0.553\n",
            "L1.realcons        -0.002957         0.000742           -3.987           0.000\n",
            "L1.unemp            0.478320         0.084863            5.636           0.000\n",
            "L1.pop              0.266267         0.482197            0.552           0.581\n",
            "L2.realgdp         -0.000016         0.000498           -0.032           0.975\n",
            "L2.realcons        -0.001007         0.000837           -1.204           0.229\n",
            "L2.unemp           -0.042800         0.094789           -0.452           0.652\n",
            "L2.pop              0.519723         0.591655            0.878           0.380\n",
            "L3.realgdp          0.000645         0.000515            1.252           0.210\n",
            "L3.realcons        -0.001333         0.000886           -1.506           0.132\n",
            "L3.unemp            0.076566         0.095099            0.805           0.421\n",
            "L3.pop             -0.499020         0.578329           -0.863           0.388\n",
            "L4.realgdp          0.000544         0.000522            1.043           0.297\n",
            "L4.realcons        -0.001068         0.000903           -1.182           0.237\n",
            "L4.unemp           -0.068764         0.095705           -0.718           0.472\n",
            "L4.pop             -0.578201         0.532374           -1.086           0.277\n",
            "L5.realgdp          0.001321         0.000522            2.529           0.011\n",
            "L5.realcons        -0.001354         0.000901           -1.503           0.133\n",
            "L5.unemp            0.096432         0.093644            1.030           0.303\n",
            "L5.pop             -0.311578         0.525621           -0.593           0.553\n",
            "L6.realgdp          0.001272         0.000535            2.375           0.018\n",
            "L6.realcons        -0.001114         0.000861           -1.294           0.196\n",
            "L6.unemp            0.253657         0.094294            2.690           0.007\n",
            "L6.pop             -0.396645         0.565102           -0.702           0.483\n",
            "L7.realgdp          0.001240         0.000538            2.306           0.021\n",
            "L7.realcons         0.000718         0.000847            0.848           0.397\n",
            "L7.unemp            0.200551         0.095219            2.106           0.035\n",
            "L7.pop              0.494262         0.578592            0.854           0.393\n",
            "L8.realgdp          0.001029         0.000518            1.986           0.047\n",
            "L8.realcons         0.000717         0.000831            0.862           0.388\n",
            "L8.unemp           -0.124368         0.077824           -1.598           0.110\n",
            "L8.pop              0.452383         0.475342            0.952           0.341\n",
            "==============================================================================\n",
            "\n",
            "Results for equation pop\n",
            "==============================================================================\n",
            "                 coefficient       std. error           t-stat            prob\n",
            "------------------------------------------------------------------------------\n",
            "const               0.028297         0.016337            1.732           0.083\n",
            "L1.realgdp          0.000035         0.000078            0.447           0.655\n",
            "L1.realcons         0.000008         0.000119            0.068           0.946\n",
            "L1.unemp            0.027370         0.013649            2.005           0.045\n",
            "L1.pop              0.696812         0.077555            8.985           0.000\n",
            "L2.realgdp          0.000052         0.000080            0.653           0.514\n",
            "L2.realcons         0.000113         0.000135            0.843           0.399\n",
            "L2.unemp           -0.016243         0.015245           -1.065           0.287\n",
            "L2.pop              0.092532         0.095159            0.972           0.331\n",
            "L3.realgdp          0.000015         0.000083            0.182           0.856\n",
            "L3.realcons         0.000049         0.000142            0.346           0.730\n",
            "L3.unemp            0.000889         0.015295            0.058           0.954\n",
            "L3.pop              0.150926         0.093016            1.623           0.105\n",
            "L4.realgdp          0.000080         0.000084            0.949           0.343\n",
            "L4.realcons        -0.000250         0.000145           -1.724           0.085\n",
            "L4.unemp           -0.023829         0.015393           -1.548           0.122\n",
            "L4.pop              0.558157         0.085625            6.519           0.000\n",
            "L5.realgdp          0.000131         0.000084            1.557           0.120\n",
            "L5.realcons        -0.000255         0.000145           -1.763           0.078\n",
            "L5.unemp            0.013914         0.015061            0.924           0.356\n",
            "L5.pop             -0.470018         0.084539           -5.560           0.000\n",
            "L6.realgdp         -0.000057         0.000086           -0.657           0.511\n",
            "L6.realcons        -0.000050         0.000138           -0.362           0.717\n",
            "L6.unemp            0.004954         0.015166            0.327           0.744\n",
            "L6.pop             -0.302487         0.090889           -3.328           0.001\n",
            "L7.realgdp         -0.000092         0.000086           -1.061           0.289\n",
            "L7.realcons         0.000147         0.000136            1.076           0.282\n",
            "L7.unemp           -0.006374         0.015315           -0.416           0.677\n",
            "L7.pop              0.038099         0.093058            0.409           0.682\n",
            "L8.realgdp          0.000038         0.000083            0.460           0.646\n",
            "L8.realcons         0.000131         0.000134            0.983           0.326\n",
            "L8.unemp           -0.002670         0.012517           -0.213           0.831\n",
            "L8.pop              0.180700         0.076452            2.364           0.018\n",
            "==============================================================================\n",
            "\n",
            "Correlation matrix of residuals\n",
            "             realgdp  realcons     unemp       pop\n",
            "realgdp     1.000000  0.579518 -0.414038 -0.018803\n",
            "realcons    0.579518  1.000000 -0.334891 -0.011964\n",
            "unemp      -0.414038 -0.334891  1.000000  0.095818\n",
            "pop        -0.018803 -0.011964  0.095818  1.000000\n",
            "\n",
            "\n",
            "\n"
          ]
        }
      ],
      "source": [
        "# 4. 모델링, 예측, 역변환 및 시각화\n",
        "# VAR 모델 학습\n",
        "model_fitted = model.fit(optimal_lag)\n",
        "print(f\"=== VAR({optimal_lag}) 모델 요약 ===\")\n",
        "print(model_fitted.summary())\n"
      ]
    },
    {
      "cell_type": "code",
      "execution_count": 64,
      "metadata": {},
      "outputs": [
        {
          "name": "stdout",
          "output_type": "stream",
          "text": [
            "=== 예측 결과 (차분값) ===\n"
          ]
        },
        {
          "data": {
            "text/html": [
              "<div>\n",
              "<style scoped>\n",
              "    .dataframe tbody tr th:only-of-type {\n",
              "        vertical-align: middle;\n",
              "    }\n",
              "\n",
              "    .dataframe tbody tr th {\n",
              "        vertical-align: top;\n",
              "    }\n",
              "\n",
              "    .dataframe thead th {\n",
              "        text-align: right;\n",
              "    }\n",
              "</style>\n",
              "<table border=\"1\" class=\"dataframe\">\n",
              "  <thead>\n",
              "    <tr style=\"text-align: right;\">\n",
              "      <th></th>\n",
              "      <th>realgdp</th>\n",
              "      <th>realcons</th>\n",
              "      <th>unemp</th>\n",
              "      <th>pop</th>\n",
              "    </tr>\n",
              "  </thead>\n",
              "  <tbody>\n",
              "    <tr>\n",
              "      <th>2009-12-31</th>\n",
              "      <td>81.683205</td>\n",
              "      <td>70.918256</td>\n",
              "      <td>0.088086</td>\n",
              "      <td>0.679698</td>\n",
              "    </tr>\n",
              "    <tr>\n",
              "      <th>2010-03-31</th>\n",
              "      <td>92.164720</td>\n",
              "      <td>20.966301</td>\n",
              "      <td>-0.190985</td>\n",
              "      <td>0.555713</td>\n",
              "    </tr>\n",
              "    <tr>\n",
              "      <th>2010-06-30</th>\n",
              "      <td>115.189916</td>\n",
              "      <td>56.313031</td>\n",
              "      <td>-0.508883</td>\n",
              "      <td>0.630319</td>\n",
              "    </tr>\n",
              "    <tr>\n",
              "      <th>2010-09-30</th>\n",
              "      <td>139.997752</td>\n",
              "      <td>64.906400</td>\n",
              "      <td>-0.797341</td>\n",
              "      <td>0.735495</td>\n",
              "    </tr>\n",
              "    <tr>\n",
              "      <th>2010-12-31</th>\n",
              "      <td>109.703631</td>\n",
              "      <td>55.336187</td>\n",
              "      <td>-0.700527</td>\n",
              "      <td>0.629369</td>\n",
              "    </tr>\n",
              "    <tr>\n",
              "      <th>2011-03-31</th>\n",
              "      <td>87.818220</td>\n",
              "      <td>29.092831</td>\n",
              "      <td>-0.548347</td>\n",
              "      <td>0.509437</td>\n",
              "    </tr>\n",
              "    <tr>\n",
              "      <th>2011-06-30</th>\n",
              "      <td>44.055112</td>\n",
              "      <td>45.146815</td>\n",
              "      <td>-0.219050</td>\n",
              "      <td>0.602613</td>\n",
              "    </tr>\n",
              "    <tr>\n",
              "      <th>2011-09-30</th>\n",
              "      <td>33.805556</td>\n",
              "      <td>37.659072</td>\n",
              "      <td>0.046957</td>\n",
              "      <td>0.734824</td>\n",
              "    </tr>\n",
              "  </tbody>\n",
              "</table>\n",
              "</div>"
            ],
            "text/plain": [
              "               realgdp   realcons     unemp       pop\n",
              "2009-12-31   81.683205  70.918256  0.088086  0.679698\n",
              "2010-03-31   92.164720  20.966301 -0.190985  0.555713\n",
              "2010-06-30  115.189916  56.313031 -0.508883  0.630319\n",
              "2010-09-30  139.997752  64.906400 -0.797341  0.735495\n",
              "2010-12-31  109.703631  55.336187 -0.700527  0.629369\n",
              "2011-03-31   87.818220  29.092831 -0.548347  0.509437\n",
              "2011-06-30   44.055112  45.146815 -0.219050  0.602613\n",
              "2011-09-30   33.805556  37.659072  0.046957  0.734824"
            ]
          },
          "execution_count": 64,
          "metadata": {},
          "output_type": "execute_result"
        }
      ],
      "source": [
        "# 8분기(2년) 예측\n",
        "forecast_steps = 8\n",
        "forecast = model_fitted.forecast(df_diff.values[-optimal_lag:], steps=forecast_steps)\n",
        "forecast_df = pd.DataFrame(forecast, columns=variables)\n",
        "\n",
        "# 예측 기간 인덱스 생성\n",
        "last_date = df_diff.index[-1]\n",
        "forecast_dates = pd.date_range(start=last_date + pd.DateOffset(months=3), \n",
        "                              periods=forecast_steps, freq='Q')\n",
        "forecast_df.index = forecast_dates\n",
        "\n",
        "print(\"=== 예측 결과 (차분값) ===\")\n",
        "forecast_df"
      ]
    },
    {
      "cell_type": "code",
      "execution_count": 65,
      "metadata": {},
      "outputs": [
        {
          "name": "stdout",
          "output_type": "stream",
          "text": [
            "\n",
            "=== 예측 결과 (원본 스케일) ===\n"
          ]
        },
        {
          "data": {
            "text/html": [
              "<div>\n",
              "<style scoped>\n",
              "    .dataframe tbody tr th:only-of-type {\n",
              "        vertical-align: middle;\n",
              "    }\n",
              "\n",
              "    .dataframe tbody tr th {\n",
              "        vertical-align: top;\n",
              "    }\n",
              "\n",
              "    .dataframe thead th {\n",
              "        text-align: right;\n",
              "    }\n",
              "</style>\n",
              "<table border=\"1\" class=\"dataframe\">\n",
              "  <thead>\n",
              "    <tr style=\"text-align: right;\">\n",
              "      <th></th>\n",
              "      <th>realgdp</th>\n",
              "      <th>realcons</th>\n",
              "      <th>unemp</th>\n",
              "      <th>pop</th>\n",
              "    </tr>\n",
              "  </thead>\n",
              "  <tbody>\n",
              "    <tr>\n",
              "      <th>2009-12-31</th>\n",
              "      <td>13072.024205</td>\n",
              "      <td>9326.918256</td>\n",
              "      <td>9.688086</td>\n",
              "      <td>308.692698</td>\n",
              "    </tr>\n",
              "    <tr>\n",
              "      <th>2010-03-31</th>\n",
              "      <td>13164.188925</td>\n",
              "      <td>9347.884557</td>\n",
              "      <td>9.497101</td>\n",
              "      <td>309.248411</td>\n",
              "    </tr>\n",
              "    <tr>\n",
              "      <th>2010-06-30</th>\n",
              "      <td>13279.378841</td>\n",
              "      <td>9404.197588</td>\n",
              "      <td>8.988218</td>\n",
              "      <td>309.878730</td>\n",
              "    </tr>\n",
              "    <tr>\n",
              "      <th>2010-09-30</th>\n",
              "      <td>13419.376593</td>\n",
              "      <td>9469.103987</td>\n",
              "      <td>8.190876</td>\n",
              "      <td>310.614225</td>\n",
              "    </tr>\n",
              "    <tr>\n",
              "      <th>2010-12-31</th>\n",
              "      <td>13529.080224</td>\n",
              "      <td>9524.440174</td>\n",
              "      <td>7.490349</td>\n",
              "      <td>311.243594</td>\n",
              "    </tr>\n",
              "    <tr>\n",
              "      <th>2011-03-31</th>\n",
              "      <td>13616.898444</td>\n",
              "      <td>9553.533005</td>\n",
              "      <td>6.942002</td>\n",
              "      <td>311.753031</td>\n",
              "    </tr>\n",
              "    <tr>\n",
              "      <th>2011-06-30</th>\n",
              "      <td>13660.953555</td>\n",
              "      <td>9598.679820</td>\n",
              "      <td>6.722953</td>\n",
              "      <td>312.355644</td>\n",
              "    </tr>\n",
              "    <tr>\n",
              "      <th>2011-09-30</th>\n",
              "      <td>13694.759112</td>\n",
              "      <td>9636.338892</td>\n",
              "      <td>6.769910</td>\n",
              "      <td>313.090468</td>\n",
              "    </tr>\n",
              "  </tbody>\n",
              "</table>\n",
              "</div>"
            ],
            "text/plain": [
              "                 realgdp     realcons     unemp         pop\n",
              "2009-12-31  13072.024205  9326.918256  9.688086  308.692698\n",
              "2010-03-31  13164.188925  9347.884557  9.497101  309.248411\n",
              "2010-06-30  13279.378841  9404.197588  8.988218  309.878730\n",
              "2010-09-30  13419.376593  9469.103987  8.190876  310.614225\n",
              "2010-12-31  13529.080224  9524.440174  7.490349  311.243594\n",
              "2011-03-31  13616.898444  9553.533005  6.942002  311.753031\n",
              "2011-06-30  13660.953555  9598.679820  6.722953  312.355644\n",
              "2011-09-30  13694.759112  9636.338892  6.769910  313.090468"
            ]
          },
          "execution_count": 65,
          "metadata": {},
          "output_type": "execute_result"
        }
      ],
      "source": [
        "# 역변환 함수 (차분 복원)\n",
        "def invert_diff_forecast(original_data, diff_forecast, variables):\n",
        "    \"\"\"차분된 예측값을 원본 스케일로 복원\"\"\"\n",
        "    inverted_forecast = pd.DataFrame(index=diff_forecast.index, columns=variables)\n",
        "    \n",
        "    for var in variables:\n",
        "        # 마지막 원본값에서 시작하여 차분값을 누적합\n",
        "        last_original_value = original_data[var].iloc[-1]\n",
        "        inverted_forecast[var] = last_original_value + diff_forecast[var].cumsum()\n",
        "    \n",
        "    return inverted_forecast\n",
        "\n",
        "# 예측값 역변환\n",
        "forecast_original = invert_diff_forecast(df_selected, forecast_df, variables)\n",
        "print(\"\\n=== 예측 결과 (원본 스케일) ===\")\n",
        "forecast_original"
      ]
    },
    {
      "cell_type": "code",
      "execution_count": 66,
      "metadata": {},
      "outputs": [
        {
          "data": {
            "application/vnd.plotly.v1+json": {
              "config": {
                "plotlyServerURL": "https://plot.ly"
              },
              "data": [
                {
                  "line": {
                    "color": "blue"
                  },
                  "name": "realgdp 실제값",
                  "type": "scatter",
                  "x": [
                    "1959-01-01T00:00:00",
                    "1959-04-01T00:00:00",
                    "1959-07-01T00:00:00",
                    "1959-10-01T00:00:00",
                    "1960-01-01T00:00:00",
                    "1960-04-01T00:00:00",
                    "1960-07-01T00:00:00",
                    "1960-10-01T00:00:00",
                    "1961-01-01T00:00:00",
                    "1961-04-01T00:00:00",
                    "1961-07-01T00:00:00",
                    "1961-10-01T00:00:00",
                    "1962-01-01T00:00:00",
                    "1962-04-01T00:00:00",
                    "1962-07-01T00:00:00",
                    "1962-10-01T00:00:00",
                    "1963-01-01T00:00:00",
                    "1963-04-01T00:00:00",
                    "1963-07-01T00:00:00",
                    "1963-10-01T00:00:00",
                    "1964-01-01T00:00:00",
                    "1964-04-01T00:00:00",
                    "1964-07-01T00:00:00",
                    "1964-10-01T00:00:00",
                    "1965-01-01T00:00:00",
                    "1965-04-01T00:00:00",
                    "1965-07-01T00:00:00",
                    "1965-10-01T00:00:00",
                    "1966-01-01T00:00:00",
                    "1966-04-01T00:00:00",
                    "1966-07-01T00:00:00",
                    "1966-10-01T00:00:00",
                    "1967-01-01T00:00:00",
                    "1967-04-01T00:00:00",
                    "1967-07-01T00:00:00",
                    "1967-10-01T00:00:00",
                    "1968-01-01T00:00:00",
                    "1968-04-01T00:00:00",
                    "1968-07-01T00:00:00",
                    "1968-10-01T00:00:00",
                    "1969-01-01T00:00:00",
                    "1969-04-01T00:00:00",
                    "1969-07-01T00:00:00",
                    "1969-10-01T00:00:00",
                    "1970-01-01T00:00:00",
                    "1970-04-01T00:00:00",
                    "1970-07-01T00:00:00",
                    "1970-10-01T00:00:00",
                    "1971-01-01T00:00:00",
                    "1971-04-01T00:00:00",
                    "1971-07-01T00:00:00",
                    "1971-10-01T00:00:00",
                    "1972-01-01T00:00:00",
                    "1972-04-01T00:00:00",
                    "1972-07-01T00:00:00",
                    "1972-10-01T00:00:00",
                    "1973-01-01T00:00:00",
                    "1973-04-01T00:00:00",
                    "1973-07-01T00:00:00",
                    "1973-10-01T00:00:00",
                    "1974-01-01T00:00:00",
                    "1974-04-01T00:00:00",
                    "1974-07-01T00:00:00",
                    "1974-10-01T00:00:00",
                    "1975-01-01T00:00:00",
                    "1975-04-01T00:00:00",
                    "1975-07-01T00:00:00",
                    "1975-10-01T00:00:00",
                    "1976-01-01T00:00:00",
                    "1976-04-01T00:00:00",
                    "1976-07-01T00:00:00",
                    "1976-10-01T00:00:00",
                    "1977-01-01T00:00:00",
                    "1977-04-01T00:00:00",
                    "1977-07-01T00:00:00",
                    "1977-10-01T00:00:00",
                    "1978-01-01T00:00:00",
                    "1978-04-01T00:00:00",
                    "1978-07-01T00:00:00",
                    "1978-10-01T00:00:00",
                    "1979-01-01T00:00:00",
                    "1979-04-01T00:00:00",
                    "1979-07-01T00:00:00",
                    "1979-10-01T00:00:00",
                    "1980-01-01T00:00:00",
                    "1980-04-01T00:00:00",
                    "1980-07-01T00:00:00",
                    "1980-10-01T00:00:00",
                    "1981-01-01T00:00:00",
                    "1981-04-01T00:00:00",
                    "1981-07-01T00:00:00",
                    "1981-10-01T00:00:00",
                    "1982-01-01T00:00:00",
                    "1982-04-01T00:00:00",
                    "1982-07-01T00:00:00",
                    "1982-10-01T00:00:00",
                    "1983-01-01T00:00:00",
                    "1983-04-01T00:00:00",
                    "1983-07-01T00:00:00",
                    "1983-10-01T00:00:00",
                    "1984-01-01T00:00:00",
                    "1984-04-01T00:00:00",
                    "1984-07-01T00:00:00",
                    "1984-10-01T00:00:00",
                    "1985-01-01T00:00:00",
                    "1985-04-01T00:00:00",
                    "1985-07-01T00:00:00",
                    "1985-10-01T00:00:00",
                    "1986-01-01T00:00:00",
                    "1986-04-01T00:00:00",
                    "1986-07-01T00:00:00",
                    "1986-10-01T00:00:00",
                    "1987-01-01T00:00:00",
                    "1987-04-01T00:00:00",
                    "1987-07-01T00:00:00",
                    "1987-10-01T00:00:00",
                    "1988-01-01T00:00:00",
                    "1988-04-01T00:00:00",
                    "1988-07-01T00:00:00",
                    "1988-10-01T00:00:00",
                    "1989-01-01T00:00:00",
                    "1989-04-01T00:00:00",
                    "1989-07-01T00:00:00",
                    "1989-10-01T00:00:00",
                    "1990-01-01T00:00:00",
                    "1990-04-01T00:00:00",
                    "1990-07-01T00:00:00",
                    "1990-10-01T00:00:00",
                    "1991-01-01T00:00:00",
                    "1991-04-01T00:00:00",
                    "1991-07-01T00:00:00",
                    "1991-10-01T00:00:00",
                    "1992-01-01T00:00:00",
                    "1992-04-01T00:00:00",
                    "1992-07-01T00:00:00",
                    "1992-10-01T00:00:00",
                    "1993-01-01T00:00:00",
                    "1993-04-01T00:00:00",
                    "1993-07-01T00:00:00",
                    "1993-10-01T00:00:00",
                    "1994-01-01T00:00:00",
                    "1994-04-01T00:00:00",
                    "1994-07-01T00:00:00",
                    "1994-10-01T00:00:00",
                    "1995-01-01T00:00:00",
                    "1995-04-01T00:00:00",
                    "1995-07-01T00:00:00",
                    "1995-10-01T00:00:00",
                    "1996-01-01T00:00:00",
                    "1996-04-01T00:00:00",
                    "1996-07-01T00:00:00",
                    "1996-10-01T00:00:00",
                    "1997-01-01T00:00:00",
                    "1997-04-01T00:00:00",
                    "1997-07-01T00:00:00",
                    "1997-10-01T00:00:00",
                    "1998-01-01T00:00:00",
                    "1998-04-01T00:00:00",
                    "1998-07-01T00:00:00",
                    "1998-10-01T00:00:00",
                    "1999-01-01T00:00:00",
                    "1999-04-01T00:00:00",
                    "1999-07-01T00:00:00",
                    "1999-10-01T00:00:00",
                    "2000-01-01T00:00:00",
                    "2000-04-01T00:00:00",
                    "2000-07-01T00:00:00",
                    "2000-10-01T00:00:00",
                    "2001-01-01T00:00:00",
                    "2001-04-01T00:00:00",
                    "2001-07-01T00:00:00",
                    "2001-10-01T00:00:00",
                    "2002-01-01T00:00:00",
                    "2002-04-01T00:00:00",
                    "2002-07-01T00:00:00",
                    "2002-10-01T00:00:00",
                    "2003-01-01T00:00:00",
                    "2003-04-01T00:00:00",
                    "2003-07-01T00:00:00",
                    "2003-10-01T00:00:00",
                    "2004-01-01T00:00:00",
                    "2004-04-01T00:00:00",
                    "2004-07-01T00:00:00",
                    "2004-10-01T00:00:00",
                    "2005-01-01T00:00:00",
                    "2005-04-01T00:00:00",
                    "2005-07-01T00:00:00",
                    "2005-10-01T00:00:00",
                    "2006-01-01T00:00:00",
                    "2006-04-01T00:00:00",
                    "2006-07-01T00:00:00",
                    "2006-10-01T00:00:00",
                    "2007-01-01T00:00:00",
                    "2007-04-01T00:00:00",
                    "2007-07-01T00:00:00",
                    "2007-10-01T00:00:00",
                    "2008-01-01T00:00:00",
                    "2008-04-01T00:00:00",
                    "2008-07-01T00:00:00",
                    "2008-10-01T00:00:00",
                    "2009-01-01T00:00:00",
                    "2009-04-01T00:00:00",
                    "2009-07-01T00:00:00"
                  ],
                  "y": {
                    "bdata": "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",
                    "dtype": "f8"
                  }
                },
                {
                  "line": {
                    "color": "blue",
                    "dash": "dot"
                  },
                  "mode": "lines+markers",
                  "name": "realgdp 예측값",
                  "type": "scatter",
                  "x": [
                    "2009-12-31T00:00:00",
                    "2010-03-31T00:00:00",
                    "2010-06-30T00:00:00",
                    "2010-09-30T00:00:00",
                    "2010-12-31T00:00:00",
                    "2011-03-31T00:00:00",
                    "2011-06-30T00:00:00",
                    "2011-09-30T00:00:00"
                  ],
                  "y": {
                    "bdata": "o6cnGQOIyUBLpbAuGLbJQGnT2H2w78lAo7QxNLA1ykAjrMhEimzKQEZzMwBzmMpASp4YDnquykCMb5EqYb/KQA==",
                    "dtype": "f8"
                  }
                },
                {
                  "line": {
                    "color": "red"
                  },
                  "name": "realcons 실제값",
                  "type": "scatter",
                  "x": [
                    "1959-01-01T00:00:00",
                    "1959-04-01T00:00:00",
                    "1959-07-01T00:00:00",
                    "1959-10-01T00:00:00",
                    "1960-01-01T00:00:00",
                    "1960-04-01T00:00:00",
                    "1960-07-01T00:00:00",
                    "1960-10-01T00:00:00",
                    "1961-01-01T00:00:00",
                    "1961-04-01T00:00:00",
                    "1961-07-01T00:00:00",
                    "1961-10-01T00:00:00",
                    "1962-01-01T00:00:00",
                    "1962-04-01T00:00:00",
                    "1962-07-01T00:00:00",
                    "1962-10-01T00:00:00",
                    "1963-01-01T00:00:00",
                    "1963-04-01T00:00:00",
                    "1963-07-01T00:00:00",
                    "1963-10-01T00:00:00",
                    "1964-01-01T00:00:00",
                    "1964-04-01T00:00:00",
                    "1964-07-01T00:00:00",
                    "1964-10-01T00:00:00",
                    "1965-01-01T00:00:00",
                    "1965-04-01T00:00:00",
                    "1965-07-01T00:00:00",
                    "1965-10-01T00:00:00",
                    "1966-01-01T00:00:00",
                    "1966-04-01T00:00:00",
                    "1966-07-01T00:00:00",
                    "1966-10-01T00:00:00",
                    "1967-01-01T00:00:00",
                    "1967-04-01T00:00:00",
                    "1967-07-01T00:00:00",
                    "1967-10-01T00:00:00",
                    "1968-01-01T00:00:00",
                    "1968-04-01T00:00:00",
                    "1968-07-01T00:00:00",
                    "1968-10-01T00:00:00",
                    "1969-01-01T00:00:00",
                    "1969-04-01T00:00:00",
                    "1969-07-01T00:00:00",
                    "1969-10-01T00:00:00",
                    "1970-01-01T00:00:00",
                    "1970-04-01T00:00:00",
                    "1970-07-01T00:00:00",
                    "1970-10-01T00:00:00",
                    "1971-01-01T00:00:00",
                    "1971-04-01T00:00:00",
                    "1971-07-01T00:00:00",
                    "1971-10-01T00:00:00",
                    "1972-01-01T00:00:00",
                    "1972-04-01T00:00:00",
                    "1972-07-01T00:00:00",
                    "1972-10-01T00:00:00",
                    "1973-01-01T00:00:00",
                    "1973-04-01T00:00:00",
                    "1973-07-01T00:00:00",
                    "1973-10-01T00:00:00",
                    "1974-01-01T00:00:00",
                    "1974-04-01T00:00:00",
                    "1974-07-01T00:00:00",
                    "1974-10-01T00:00:00",
                    "1975-01-01T00:00:00",
                    "1975-04-01T00:00:00",
                    "1975-07-01T00:00:00",
                    "1975-10-01T00:00:00",
                    "1976-01-01T00:00:00",
                    "1976-04-01T00:00:00",
                    "1976-07-01T00:00:00",
                    "1976-10-01T00:00:00",
                    "1977-01-01T00:00:00",
                    "1977-04-01T00:00:00",
                    "1977-07-01T00:00:00",
                    "1977-10-01T00:00:00",
                    "1978-01-01T00:00:00",
                    "1978-04-01T00:00:00",
                    "1978-07-01T00:00:00",
                    "1978-10-01T00:00:00",
                    "1979-01-01T00:00:00",
                    "1979-04-01T00:00:00",
                    "1979-07-01T00:00:00",
                    "1979-10-01T00:00:00",
                    "1980-01-01T00:00:00",
                    "1980-04-01T00:00:00",
                    "1980-07-01T00:00:00",
                    "1980-10-01T00:00:00",
                    "1981-01-01T00:00:00",
                    "1981-04-01T00:00:00",
                    "1981-07-01T00:00:00",
                    "1981-10-01T00:00:00",
                    "1982-01-01T00:00:00",
                    "1982-04-01T00:00:00",
                    "1982-07-01T00:00:00",
                    "1982-10-01T00:00:00",
                    "1983-01-01T00:00:00",
                    "1983-04-01T00:00:00",
                    "1983-07-01T00:00:00",
                    "1983-10-01T00:00:00",
                    "1984-01-01T00:00:00",
                    "1984-04-01T00:00:00",
                    "1984-07-01T00:00:00",
                    "1984-10-01T00:00:00",
                    "1985-01-01T00:00:00",
                    "1985-04-01T00:00:00",
                    "1985-07-01T00:00:00",
                    "1985-10-01T00:00:00",
                    "1986-01-01T00:00:00",
                    "1986-04-01T00:00:00",
                    "1986-07-01T00:00:00",
                    "1986-10-01T00:00:00",
                    "1987-01-01T00:00:00",
                    "1987-04-01T00:00:00",
                    "1987-07-01T00:00:00",
                    "1987-10-01T00:00:00",
                    "1988-01-01T00:00:00",
                    "1988-04-01T00:00:00",
                    "1988-07-01T00:00:00",
                    "1988-10-01T00:00:00",
                    "1989-01-01T00:00:00",
                    "1989-04-01T00:00:00",
                    "1989-07-01T00:00:00",
                    "1989-10-01T00:00:00",
                    "1990-01-01T00:00:00",
                    "1990-04-01T00:00:00",
                    "1990-07-01T00:00:00",
                    "1990-10-01T00:00:00",
                    "1991-01-01T00:00:00",
                    "1991-04-01T00:00:00",
                    "1991-07-01T00:00:00",
                    "1991-10-01T00:00:00",
                    "1992-01-01T00:00:00",
                    "1992-04-01T00:00:00",
                    "1992-07-01T00:00:00",
                    "1992-10-01T00:00:00",
                    "1993-01-01T00:00:00",
                    "1993-04-01T00:00:00",
                    "1993-07-01T00:00:00",
                    "1993-10-01T00:00:00",
                    "1994-01-01T00:00:00",
                    "1994-04-01T00:00:00",
                    "1994-07-01T00:00:00",
                    "1994-10-01T00:00:00",
                    "1995-01-01T00:00:00",
                    "1995-04-01T00:00:00",
                    "1995-07-01T00:00:00",
                    "1995-10-01T00:00:00",
                    "1996-01-01T00:00:00",
                    "1996-04-01T00:00:00",
                    "1996-07-01T00:00:00",
                    "1996-10-01T00:00:00",
                    "1997-01-01T00:00:00",
                    "1997-04-01T00:00:00",
                    "1997-07-01T00:00:00",
                    "1997-10-01T00:00:00",
                    "1998-01-01T00:00:00",
                    "1998-04-01T00:00:00",
                    "1998-07-01T00:00:00",
                    "1998-10-01T00:00:00",
                    "1999-01-01T00:00:00",
                    "1999-04-01T00:00:00",
                    "1999-07-01T00:00:00",
                    "1999-10-01T00:00:00",
                    "2000-01-01T00:00:00",
                    "2000-04-01T00:00:00",
                    "2000-07-01T00:00:00",
                    "2000-10-01T00:00:00",
                    "2001-01-01T00:00:00",
                    "2001-04-01T00:00:00",
                    "2001-07-01T00:00:00",
                    "2001-10-01T00:00:00",
                    "2002-01-01T00:00:00",
                    "2002-04-01T00:00:00",
                    "2002-07-01T00:00:00",
                    "2002-10-01T00:00:00",
                    "2003-01-01T00:00:00",
                    "2003-04-01T00:00:00",
                    "2003-07-01T00:00:00",
                    "2003-10-01T00:00:00",
                    "2004-01-01T00:00:00",
                    "2004-04-01T00:00:00",
                    "2004-07-01T00:00:00",
                    "2004-10-01T00:00:00",
                    "2005-01-01T00:00:00",
                    "2005-04-01T00:00:00",
                    "2005-07-01T00:00:00",
                    "2005-10-01T00:00:00",
                    "2006-01-01T00:00:00",
                    "2006-04-01T00:00:00",
                    "2006-07-01T00:00:00",
                    "2006-10-01T00:00:00",
                    "2007-01-01T00:00:00",
                    "2007-04-01T00:00:00",
                    "2007-07-01T00:00:00",
                    "2007-10-01T00:00:00",
                    "2008-01-01T00:00:00",
                    "2008-04-01T00:00:00",
                    "2008-07-01T00:00:00",
                    "2008-10-01T00:00:00",
                    "2009-01-01T00:00:00",
                    "2009-04-01T00:00:00",
                    "2009-07-01T00:00:00"
                  ],
                  "y": {
                    "bdata": "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",
                    "dtype": "f8"
                  }
                },
                {
                  "line": {
                    "color": "red",
                    "dash": "dot"
                  },
                  "mode": "lines+markers",
                  "name": "realcons 예측값",
                  "type": "scatter",
                  "x": [
                    "2009-12-31T00:00:00",
                    "2010-03-31T00:00:00",
                    "2010-06-30T00:00:00",
                    "2010-09-30T00:00:00",
                    "2010-12-31T00:00:00",
                    "2011-03-31T00:00:00",
                    "2011-06-30T00:00:00",
                    "2011-09-30T00:00:00"
                  ],
                  "y": {
                    "bdata": "xeBoiXU3wkCynik58UHCQLZVjkoZXsJAZTN1T41+wkCD8KFXOJrCQPqGhTnEqMJA6EhZBFe/wkA/mc9gK9LCQA==",
                    "dtype": "f8"
                  }
                },
                {
                  "line": {
                    "color": "green"
                  },
                  "name": "unemp 실제값",
                  "type": "scatter",
                  "x": [
                    "1959-01-01T00:00:00",
                    "1959-04-01T00:00:00",
                    "1959-07-01T00:00:00",
                    "1959-10-01T00:00:00",
                    "1960-01-01T00:00:00",
                    "1960-04-01T00:00:00",
                    "1960-07-01T00:00:00",
                    "1960-10-01T00:00:00",
                    "1961-01-01T00:00:00",
                    "1961-04-01T00:00:00",
                    "1961-07-01T00:00:00",
                    "1961-10-01T00:00:00",
                    "1962-01-01T00:00:00",
                    "1962-04-01T00:00:00",
                    "1962-07-01T00:00:00",
                    "1962-10-01T00:00:00",
                    "1963-01-01T00:00:00",
                    "1963-04-01T00:00:00",
                    "1963-07-01T00:00:00",
                    "1963-10-01T00:00:00",
                    "1964-01-01T00:00:00",
                    "1964-04-01T00:00:00",
                    "1964-07-01T00:00:00",
                    "1964-10-01T00:00:00",
                    "1965-01-01T00:00:00",
                    "1965-04-01T00:00:00",
                    "1965-07-01T00:00:00",
                    "1965-10-01T00:00:00",
                    "1966-01-01T00:00:00",
                    "1966-04-01T00:00:00",
                    "1966-07-01T00:00:00",
                    "1966-10-01T00:00:00",
                    "1967-01-01T00:00:00",
                    "1967-04-01T00:00:00",
                    "1967-07-01T00:00:00",
                    "1967-10-01T00:00:00",
                    "1968-01-01T00:00:00",
                    "1968-04-01T00:00:00",
                    "1968-07-01T00:00:00",
                    "1968-10-01T00:00:00",
                    "1969-01-01T00:00:00",
                    "1969-04-01T00:00:00",
                    "1969-07-01T00:00:00",
                    "1969-10-01T00:00:00",
                    "1970-01-01T00:00:00",
                    "1970-04-01T00:00:00",
                    "1970-07-01T00:00:00",
                    "1970-10-01T00:00:00",
                    "1971-01-01T00:00:00",
                    "1971-04-01T00:00:00",
                    "1971-07-01T00:00:00",
                    "1971-10-01T00:00:00",
                    "1972-01-01T00:00:00",
                    "1972-04-01T00:00:00",
                    "1972-07-01T00:00:00",
                    "1972-10-01T00:00:00",
                    "1973-01-01T00:00:00",
                    "1973-04-01T00:00:00",
                    "1973-07-01T00:00:00",
                    "1973-10-01T00:00:00",
                    "1974-01-01T00:00:00",
                    "1974-04-01T00:00:00",
                    "1974-07-01T00:00:00",
                    "1974-10-01T00:00:00",
                    "1975-01-01T00:00:00",
                    "1975-04-01T00:00:00",
                    "1975-07-01T00:00:00",
                    "1975-10-01T00:00:00",
                    "1976-01-01T00:00:00",
                    "1976-04-01T00:00:00",
                    "1976-07-01T00:00:00",
                    "1976-10-01T00:00:00",
                    "1977-01-01T00:00:00",
                    "1977-04-01T00:00:00",
                    "1977-07-01T00:00:00",
                    "1977-10-01T00:00:00",
                    "1978-01-01T00:00:00",
                    "1978-04-01T00:00:00",
                    "1978-07-01T00:00:00",
                    "1978-10-01T00:00:00",
                    "1979-01-01T00:00:00",
                    "1979-04-01T00:00:00",
                    "1979-07-01T00:00:00",
                    "1979-10-01T00:00:00",
                    "1980-01-01T00:00:00",
                    "1980-04-01T00:00:00",
                    "1980-07-01T00:00:00",
                    "1980-10-01T00:00:00",
                    "1981-01-01T00:00:00",
                    "1981-04-01T00:00:00",
                    "1981-07-01T00:00:00",
                    "1981-10-01T00:00:00",
                    "1982-01-01T00:00:00",
                    "1982-04-01T00:00:00",
                    "1982-07-01T00:00:00",
                    "1982-10-01T00:00:00",
                    "1983-01-01T00:00:00",
                    "1983-04-01T00:00:00",
                    "1983-07-01T00:00:00",
                    "1983-10-01T00:00:00",
                    "1984-01-01T00:00:00",
                    "1984-04-01T00:00:00",
                    "1984-07-01T00:00:00",
                    "1984-10-01T00:00:00",
                    "1985-01-01T00:00:00",
                    "1985-04-01T00:00:00",
                    "1985-07-01T00:00:00",
                    "1985-10-01T00:00:00",
                    "1986-01-01T00:00:00",
                    "1986-04-01T00:00:00",
                    "1986-07-01T00:00:00",
                    "1986-10-01T00:00:00",
                    "1987-01-01T00:00:00",
                    "1987-04-01T00:00:00",
                    "1987-07-01T00:00:00",
                    "1987-10-01T00:00:00",
                    "1988-01-01T00:00:00",
                    "1988-04-01T00:00:00",
                    "1988-07-01T00:00:00",
                    "1988-10-01T00:00:00",
                    "1989-01-01T00:00:00",
                    "1989-04-01T00:00:00",
                    "1989-07-01T00:00:00",
                    "1989-10-01T00:00:00",
                    "1990-01-01T00:00:00",
                    "1990-04-01T00:00:00",
                    "1990-07-01T00:00:00",
                    "1990-10-01T00:00:00",
                    "1991-01-01T00:00:00",
                    "1991-04-01T00:00:00",
                    "1991-07-01T00:00:00",
                    "1991-10-01T00:00:00",
                    "1992-01-01T00:00:00",
                    "1992-04-01T00:00:00",
                    "1992-07-01T00:00:00",
                    "1992-10-01T00:00:00",
                    "1993-01-01T00:00:00",
                    "1993-04-01T00:00:00",
                    "1993-07-01T00:00:00",
                    "1993-10-01T00:00:00",
                    "1994-01-01T00:00:00",
                    "1994-04-01T00:00:00",
                    "1994-07-01T00:00:00",
                    "1994-10-01T00:00:00",
                    "1995-01-01T00:00:00",
                    "1995-04-01T00:00:00",
                    "1995-07-01T00:00:00",
                    "1995-10-01T00:00:00",
                    "1996-01-01T00:00:00",
                    "1996-04-01T00:00:00",
                    "1996-07-01T00:00:00",
                    "1996-10-01T00:00:00",
                    "1997-01-01T00:00:00",
                    "1997-04-01T00:00:00",
                    "1997-07-01T00:00:00",
                    "1997-10-01T00:00:00",
                    "1998-01-01T00:00:00",
                    "1998-04-01T00:00:00",
                    "1998-07-01T00:00:00",
                    "1998-10-01T00:00:00",
                    "1999-01-01T00:00:00",
                    "1999-04-01T00:00:00",
                    "1999-07-01T00:00:00",
                    "1999-10-01T00:00:00",
                    "2000-01-01T00:00:00",
                    "2000-04-01T00:00:00",
                    "2000-07-01T00:00:00",
                    "2000-10-01T00:00:00",
                    "2001-01-01T00:00:00",
                    "2001-04-01T00:00:00",
                    "2001-07-01T00:00:00",
                    "2001-10-01T00:00:00",
                    "2002-01-01T00:00:00",
                    "2002-04-01T00:00:00",
                    "2002-07-01T00:00:00",
                    "2002-10-01T00:00:00",
                    "2003-01-01T00:00:00",
                    "2003-04-01T00:00:00",
                    "2003-07-01T00:00:00",
                    "2003-10-01T00:00:00",
                    "2004-01-01T00:00:00",
                    "2004-04-01T00:00:00",
                    "2004-07-01T00:00:00",
                    "2004-10-01T00:00:00",
                    "2005-01-01T00:00:00",
                    "2005-04-01T00:00:00",
                    "2005-07-01T00:00:00",
                    "2005-10-01T00:00:00",
                    "2006-01-01T00:00:00",
                    "2006-04-01T00:00:00",
                    "2006-07-01T00:00:00",
                    "2006-10-01T00:00:00",
                    "2007-01-01T00:00:00",
                    "2007-04-01T00:00:00",
                    "2007-07-01T00:00:00",
                    "2007-10-01T00:00:00",
                    "2008-01-01T00:00:00",
                    "2008-04-01T00:00:00",
                    "2008-07-01T00:00:00",
                    "2008-10-01T00:00:00",
                    "2009-01-01T00:00:00",
                    "2009-04-01T00:00:00",
                    "2009-07-01T00:00:00"
                  ],
                  "y": {
                    "bdata": "MzMzMzMzF0BmZmZmZmYUQDMzMzMzMxVAZmZmZmZmFkDNzMzMzMwUQM3MzMzMzBRAZmZmZmZmFkAzMzMzMzMZQDMzMzMzMxtAAAAAAAAAHEAzMzMzMzMbQM3MzMzMzBhAZmZmZmZmFkAAAAAAAAAWQGZmZmZmZhZAAAAAAAAAFkAzMzMzMzMXQM3MzMzMzBZAAAAAAAAAFkBmZmZmZmYWQAAAAAAAABZAzczMzMzMFEAAAAAAAAAUQAAAAAAAABRAmpmZmZmZE0DNzMzMzMwSQJqZmZmZmRFAZmZmZmZmEEAzMzMzMzMPQGZmZmZmZg5AZmZmZmZmDkCamZmZmZkNQGZmZmZmZg5AZmZmZmZmDkBmZmZmZmYOQDMzMzMzMw9AmpmZmZmZDUAAAAAAAAAMQAAAAAAAAAxAMzMzMzMzC0AzMzMzMzMLQDMzMzMzMwtAzczMzMzMDEDNzMzMzMwMQM3MzMzMzBBAMzMzMzMzE0DNzMzMzMwUQDMzMzMzMxdAmpmZmZmZF0CamZmZmZkXQAAAAAAAABhAAAAAAAAAGEAzMzMzMzMXQM3MzMzMzBZAZmZmZmZmFkAzMzMzMzMVQAAAAAAAABRAmpmZmZmZE0AzMzMzMzMTQDMzMzMzMxNAZmZmZmZmFEDNzMzMzMwUQGZmZmZmZhZAZmZmZmZmGkBmZmZmZmYgQM3MzMzMzCFAAAAAAAAAIUCamZmZmZkgQM3MzMzMzB5AZmZmZmZmHkDNzMzMzMweQDMzMzMzMx9AAAAAAAAAHkBmZmZmZmYcQJqZmZmZmRtAZmZmZmZmGkAzMzMzMzMZQAAAAAAAABhAAAAAAAAAGECamZmZmZkXQJqZmZmZmRdAzczMzMzMFkCamZmZmZkXQJqZmZmZmRdAMzMzMzMzGUAzMzMzMzMdQM3MzMzMzB5AmpmZmZmZHUCamZmZmZkdQJqZmZmZmR1AmpmZmZmZHUBmZmZmZmYgQJqZmZmZmSFAzczMzMzMIkDNzMzMzMwjQGZmZmZmZiVAzczMzMzMJEAzMzMzMzMkQM3MzMzMzCJAAAAAAAAAIUCamZmZmZkfQAAAAAAAAB5AmpmZmZmZHUAzMzMzMzMdQDMzMzMzMx1AMzMzMzMzHUDNzMzMzMwcQAAAAAAAABxAAAAAAAAAHEDNzMzMzMwcQAAAAAAAABxAMzMzMzMzG0BmZmZmZmYaQDMzMzMzMxlAAAAAAAAAGECamZmZmZkXQM3MzMzMzBZAAAAAAAAAFkAAAAAAAAAWQDMzMzMzMxVAzczMzMzMFEDNzMzMzMwUQDMzMzMzMxVAmpmZmZmZFUAzMzMzMzMVQDMzMzMzMxVAzczMzMzMFkBmZmZmZmYYQGZmZmZmZhpAMzMzMzMzG0CamZmZmZkbQGZmZmZmZhxAmpmZmZmZHUBmZmZmZmYeQGZmZmZmZh5AmpmZmZmZHUDNzMzMzMwcQGZmZmZmZhxAMzMzMzMzG0BmZmZmZmYaQGZmZmZmZhpAzczMzMzMGEAAAAAAAAAYQGZmZmZmZhZAAAAAAAAAFkDNzMzMzMwWQM3MzMzMzBZAZmZmZmZmFkAAAAAAAAAWQAAAAAAAABZAMzMzMzMzFUAzMzMzMzMVQM3MzMzMzBRAAAAAAAAAFECamZmZmZkTQM3MzMzMzBJAZmZmZmZmEkCamZmZmZkRQAAAAAAAABJAmpmZmZmZEUAzMzMzMzMRQDMzMzMzMxFAzczMzMzMEEBmZmZmZmYQQAAAAAAAABBAMzMzMzMzD0AAAAAAAAAQQDMzMzMzMw9AzczMzMzMEECamZmZmZkRQDMzMzMzMxNAAAAAAAAAFkDNzMzMzMwWQDMzMzMzMxdAzczMzMzMFkAzMzMzMzMXQJqZmZmZmRdAzczMzMzMGEBmZmZmZmYYQDMzMzMzMxdAzczMzMzMFkBmZmZmZmYWQJqZmZmZmRVAmpmZmZmZFUAzMzMzMzMVQGZmZmZmZhRAAAAAAAAAFECamZmZmZkTQM3MzMzMzBJAzczMzMzMEkDNzMzMzMwSQJqZmZmZmRFAAAAAAAAAEkAAAAAAAAASQM3MzMzMzBJAMzMzMzMzE0CamZmZmZkTQJqZmZmZmRVAAAAAAAAAGECamZmZmZkbQDMzMzMzMyBAZmZmZmZmIkAzMzMzMzMjQA==",
                    "dtype": "f8"
                  }
                },
                {
                  "line": {
                    "color": "green",
                    "dash": "dot"
                  },
                  "mode": "lines+markers",
                  "name": "unemp 예측값",
                  "type": "scatter",
                  "x": [
                    "2009-12-31T00:00:00",
                    "2010-03-31T00:00:00",
                    "2010-06-30T00:00:00",
                    "2010-09-30T00:00:00",
                    "2010-12-31T00:00:00",
                    "2011-03-31T00:00:00",
                    "2011-06-30T00:00:00",
                    "2011-09-30T00:00:00"
                  ],
                  "y": {
                    "bdata": "3HZg10xgI0CLMMkJhP4iQKAy2633+SFA94YkjLphIEAivlEYHvYdQBmf/DKcxBtAlirxrE3kGkDGvftLYxQbQA==",
                    "dtype": "f8"
                  }
                },
                {
                  "line": {
                    "color": "orange"
                  },
                  "name": "pop 실제값",
                  "type": "scatter",
                  "x": [
                    "1959-01-01T00:00:00",
                    "1959-04-01T00:00:00",
                    "1959-07-01T00:00:00",
                    "1959-10-01T00:00:00",
                    "1960-01-01T00:00:00",
                    "1960-04-01T00:00:00",
                    "1960-07-01T00:00:00",
                    "1960-10-01T00:00:00",
                    "1961-01-01T00:00:00",
                    "1961-04-01T00:00:00",
                    "1961-07-01T00:00:00",
                    "1961-10-01T00:00:00",
                    "1962-01-01T00:00:00",
                    "1962-04-01T00:00:00",
                    "1962-07-01T00:00:00",
                    "1962-10-01T00:00:00",
                    "1963-01-01T00:00:00",
                    "1963-04-01T00:00:00",
                    "1963-07-01T00:00:00",
                    "1963-10-01T00:00:00",
                    "1964-01-01T00:00:00",
                    "1964-04-01T00:00:00",
                    "1964-07-01T00:00:00",
                    "1964-10-01T00:00:00",
                    "1965-01-01T00:00:00",
                    "1965-04-01T00:00:00",
                    "1965-07-01T00:00:00",
                    "1965-10-01T00:00:00",
                    "1966-01-01T00:00:00",
                    "1966-04-01T00:00:00",
                    "1966-07-01T00:00:00",
                    "1966-10-01T00:00:00",
                    "1967-01-01T00:00:00",
                    "1967-04-01T00:00:00",
                    "1967-07-01T00:00:00",
                    "1967-10-01T00:00:00",
                    "1968-01-01T00:00:00",
                    "1968-04-01T00:00:00",
                    "1968-07-01T00:00:00",
                    "1968-10-01T00:00:00",
                    "1969-01-01T00:00:00",
                    "1969-04-01T00:00:00",
                    "1969-07-01T00:00:00",
                    "1969-10-01T00:00:00",
                    "1970-01-01T00:00:00",
                    "1970-04-01T00:00:00",
                    "1970-07-01T00:00:00",
                    "1970-10-01T00:00:00",
                    "1971-01-01T00:00:00",
                    "1971-04-01T00:00:00",
                    "1971-07-01T00:00:00",
                    "1971-10-01T00:00:00",
                    "1972-01-01T00:00:00",
                    "1972-04-01T00:00:00",
                    "1972-07-01T00:00:00",
                    "1972-10-01T00:00:00",
                    "1973-01-01T00:00:00",
                    "1973-04-01T00:00:00",
                    "1973-07-01T00:00:00",
                    "1973-10-01T00:00:00",
                    "1974-01-01T00:00:00",
                    "1974-04-01T00:00:00",
                    "1974-07-01T00:00:00",
                    "1974-10-01T00:00:00",
                    "1975-01-01T00:00:00",
                    "1975-04-01T00:00:00",
                    "1975-07-01T00:00:00",
                    "1975-10-01T00:00:00",
                    "1976-01-01T00:00:00",
                    "1976-04-01T00:00:00",
                    "1976-07-01T00:00:00",
                    "1976-10-01T00:00:00",
                    "1977-01-01T00:00:00",
                    "1977-04-01T00:00:00",
                    "1977-07-01T00:00:00",
                    "1977-10-01T00:00:00",
                    "1978-01-01T00:00:00",
                    "1978-04-01T00:00:00",
                    "1978-07-01T00:00:00",
                    "1978-10-01T00:00:00",
                    "1979-01-01T00:00:00",
                    "1979-04-01T00:00:00",
                    "1979-07-01T00:00:00",
                    "1979-10-01T00:00:00",
                    "1980-01-01T00:00:00",
                    "1980-04-01T00:00:00",
                    "1980-07-01T00:00:00",
                    "1980-10-01T00:00:00",
                    "1981-01-01T00:00:00",
                    "1981-04-01T00:00:00",
                    "1981-07-01T00:00:00",
                    "1981-10-01T00:00:00",
                    "1982-01-01T00:00:00",
                    "1982-04-01T00:00:00",
                    "1982-07-01T00:00:00",
                    "1982-10-01T00:00:00",
                    "1983-01-01T00:00:00",
                    "1983-04-01T00:00:00",
                    "1983-07-01T00:00:00",
                    "1983-10-01T00:00:00",
                    "1984-01-01T00:00:00",
                    "1984-04-01T00:00:00",
                    "1984-07-01T00:00:00",
                    "1984-10-01T00:00:00",
                    "1985-01-01T00:00:00",
                    "1985-04-01T00:00:00",
                    "1985-07-01T00:00:00",
                    "1985-10-01T00:00:00",
                    "1986-01-01T00:00:00",
                    "1986-04-01T00:00:00",
                    "1986-07-01T00:00:00",
                    "1986-10-01T00:00:00",
                    "1987-01-01T00:00:00",
                    "1987-04-01T00:00:00",
                    "1987-07-01T00:00:00",
                    "1987-10-01T00:00:00",
                    "1988-01-01T00:00:00",
                    "1988-04-01T00:00:00",
                    "1988-07-01T00:00:00",
                    "1988-10-01T00:00:00",
                    "1989-01-01T00:00:00",
                    "1989-04-01T00:00:00",
                    "1989-07-01T00:00:00",
                    "1989-10-01T00:00:00",
                    "1990-01-01T00:00:00",
                    "1990-04-01T00:00:00",
                    "1990-07-01T00:00:00",
                    "1990-10-01T00:00:00",
                    "1991-01-01T00:00:00",
                    "1991-04-01T00:00:00",
                    "1991-07-01T00:00:00",
                    "1991-10-01T00:00:00",
                    "1992-01-01T00:00:00",
                    "1992-04-01T00:00:00",
                    "1992-07-01T00:00:00",
                    "1992-10-01T00:00:00",
                    "1993-01-01T00:00:00",
                    "1993-04-01T00:00:00",
                    "1993-07-01T00:00:00",
                    "1993-10-01T00:00:00",
                    "1994-01-01T00:00:00",
                    "1994-04-01T00:00:00",
                    "1994-07-01T00:00:00",
                    "1994-10-01T00:00:00",
                    "1995-01-01T00:00:00",
                    "1995-04-01T00:00:00",
                    "1995-07-01T00:00:00",
                    "1995-10-01T00:00:00",
                    "1996-01-01T00:00:00",
                    "1996-04-01T00:00:00",
                    "1996-07-01T00:00:00",
                    "1996-10-01T00:00:00",
                    "1997-01-01T00:00:00",
                    "1997-04-01T00:00:00",
                    "1997-07-01T00:00:00",
                    "1997-10-01T00:00:00",
                    "1998-01-01T00:00:00",
                    "1998-04-01T00:00:00",
                    "1998-07-01T00:00:00",
                    "1998-10-01T00:00:00",
                    "1999-01-01T00:00:00",
                    "1999-04-01T00:00:00",
                    "1999-07-01T00:00:00",
                    "1999-10-01T00:00:00",
                    "2000-01-01T00:00:00",
                    "2000-04-01T00:00:00",
                    "2000-07-01T00:00:00",
                    "2000-10-01T00:00:00",
                    "2001-01-01T00:00:00",
                    "2001-04-01T00:00:00",
                    "2001-07-01T00:00:00",
                    "2001-10-01T00:00:00",
                    "2002-01-01T00:00:00",
                    "2002-04-01T00:00:00",
                    "2002-07-01T00:00:00",
                    "2002-10-01T00:00:00",
                    "2003-01-01T00:00:00",
                    "2003-04-01T00:00:00",
                    "2003-07-01T00:00:00",
                    "2003-10-01T00:00:00",
                    "2004-01-01T00:00:00",
                    "2004-04-01T00:00:00",
                    "2004-07-01T00:00:00",
                    "2004-10-01T00:00:00",
                    "2005-01-01T00:00:00",
                    "2005-04-01T00:00:00",
                    "2005-07-01T00:00:00",
                    "2005-10-01T00:00:00",
                    "2006-01-01T00:00:00",
                    "2006-04-01T00:00:00",
                    "2006-07-01T00:00:00",
                    "2006-10-01T00:00:00",
                    "2007-01-01T00:00:00",
                    "2007-04-01T00:00:00",
                    "2007-07-01T00:00:00",
                    "2007-10-01T00:00:00",
                    "2008-01-01T00:00:00",
                    "2008-04-01T00:00:00",
                    "2008-07-01T00:00:00",
                    "2008-10-01T00:00:00",
                    "2009-01-01T00:00:00",
                    "2009-04-01T00:00:00",
                    "2009-07-01T00:00:00"
                  ],
                  "y": {
                    "bdata": "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",
                    "dtype": "f8"
                  }
                },
                {
                  "line": {
                    "color": "orange",
                    "dash": "dot"
                  },
                  "mode": "lines+markers",
                  "name": "pop 예측값",
                  "type": "scatter",
                  "x": [
                    "2009-12-31T00:00:00",
                    "2010-03-31T00:00:00",
                    "2010-06-30T00:00:00",
                    "2010-09-30T00:00:00",
                    "2010-12-31T00:00:00",
                    "2011-03-31T00:00:00",
                    "2011-06-30T00:00:00",
                    "2011-09-30T00:00:00"
                  ],
                  "y": {
                    "bdata": "HOtAShVLc0AxIGV9+VNzQAvoF0cPXnNAsHLH3dNpc0Bj0iTD5XNzQIMnf2oMfHNAQaA8uLCFc0APlt6OcpFzQA==",
                    "dtype": "f8"
                  }
                }
              ],
              "layout": {
                "height": 600,
                "hovermode": "x unified",
                "template": {
                  "data": {
                    "bar": [
                      {
                        "error_x": {
                          "color": "#2a3f5f"
                        },
                        "error_y": {
                          "color": "#2a3f5f"
                        },
                        "marker": {
                          "line": {
                            "color": "#E5ECF6",
                            "width": 0.5
                          },
                          "pattern": {
                            "fillmode": "overlay",
                            "size": 10,
                            "solidity": 0.2
                          }
                        },
                        "type": "bar"
                      }
                    ],
                    "barpolar": [
                      {
                        "marker": {
                          "line": {
                            "color": "#E5ECF6",
                            "width": 0.5
                          },
                          "pattern": {
                            "fillmode": "overlay",
                            "size": 10,
                            "solidity": 0.2
                          }
                        },
                        "type": "barpolar"
                      }
                    ],
                    "carpet": [
                      {
                        "aaxis": {
                          "endlinecolor": "#2a3f5f",
                          "gridcolor": "white",
                          "linecolor": "white",
                          "minorgridcolor": "white",
                          "startlinecolor": "#2a3f5f"
                        },
                        "baxis": {
                          "endlinecolor": "#2a3f5f",
                          "gridcolor": "white",
                          "linecolor": "white",
                          "minorgridcolor": "white",
                          "startlinecolor": "#2a3f5f"
                        },
                        "type": "carpet"
                      }
                    ],
                    "choropleth": [
                      {
                        "colorbar": {
                          "outlinewidth": 0,
                          "ticks": ""
                        },
                        "type": "choropleth"
                      }
                    ],
                    "contour": [
                      {
                        "colorbar": {
                          "outlinewidth": 0,
                          "ticks": ""
                        },
                        "colorscale": [
                          [
                            0,
                            "#0d0887"
                          ],
                          [
                            0.1111111111111111,
                            "#46039f"
                          ],
                          [
                            0.2222222222222222,
                            "#7201a8"
                          ],
                          [
                            0.3333333333333333,
                            "#9c179e"
                          ],
                          [
                            0.4444444444444444,
                            "#bd3786"
                          ],
                          [
                            0.5555555555555556,
                            "#d8576b"
                          ],
                          [
                            0.6666666666666666,
                            "#ed7953"
                          ],
                          [
                            0.7777777777777778,
                            "#fb9f3a"
                          ],
                          [
                            0.8888888888888888,
                            "#fdca26"
                          ],
                          [
                            1,
                            "#f0f921"
                          ]
                        ],
                        "type": "contour"
                      }
                    ],
                    "contourcarpet": [
                      {
                        "colorbar": {
                          "outlinewidth": 0,
                          "ticks": ""
                        },
                        "type": "contourcarpet"
                      }
                    ],
                    "heatmap": [
                      {
                        "colorbar": {
                          "outlinewidth": 0,
                          "ticks": ""
                        },
                        "colorscale": [
                          [
                            0,
                            "#0d0887"
                          ],
                          [
                            0.1111111111111111,
                            "#46039f"
                          ],
                          [
                            0.2222222222222222,
                            "#7201a8"
                          ],
                          [
                            0.3333333333333333,
                            "#9c179e"
                          ],
                          [
                            0.4444444444444444,
                            "#bd3786"
                          ],
                          [
                            0.5555555555555556,
                            "#d8576b"
                          ],
                          [
                            0.6666666666666666,
                            "#ed7953"
                          ],
                          [
                            0.7777777777777778,
                            "#fb9f3a"
                          ],
                          [
                            0.8888888888888888,
                            "#fdca26"
                          ],
                          [
                            1,
                            "#f0f921"
                          ]
                        ],
                        "type": "heatmap"
                      }
                    ],
                    "histogram": [
                      {
                        "marker": {
                          "pattern": {
                            "fillmode": "overlay",
                            "size": 10,
                            "solidity": 0.2
                          }
                        },
                        "type": "histogram"
                      }
                    ],
                    "histogram2d": [
                      {
                        "colorbar": {
                          "outlinewidth": 0,
                          "ticks": ""
                        },
                        "colorscale": [
                          [
                            0,
                            "#0d0887"
                          ],
                          [
                            0.1111111111111111,
                            "#46039f"
                          ],
                          [
                            0.2222222222222222,
                            "#7201a8"
                          ],
                          [
                            0.3333333333333333,
                            "#9c179e"
                          ],
                          [
                            0.4444444444444444,
                            "#bd3786"
                          ],
                          [
                            0.5555555555555556,
                            "#d8576b"
                          ],
                          [
                            0.6666666666666666,
                            "#ed7953"
                          ],
                          [
                            0.7777777777777778,
                            "#fb9f3a"
                          ],
                          [
                            0.8888888888888888,
                            "#fdca26"
                          ],
                          [
                            1,
                            "#f0f921"
                          ]
                        ],
                        "type": "histogram2d"
                      }
                    ],
                    "histogram2dcontour": [
                      {
                        "colorbar": {
                          "outlinewidth": 0,
                          "ticks": ""
                        },
                        "colorscale": [
                          [
                            0,
                            "#0d0887"
                          ],
                          [
                            0.1111111111111111,
                            "#46039f"
                          ],
                          [
                            0.2222222222222222,
                            "#7201a8"
                          ],
                          [
                            0.3333333333333333,
                            "#9c179e"
                          ],
                          [
                            0.4444444444444444,
                            "#bd3786"
                          ],
                          [
                            0.5555555555555556,
                            "#d8576b"
                          ],
                          [
                            0.6666666666666666,
                            "#ed7953"
                          ],
                          [
                            0.7777777777777778,
                            "#fb9f3a"
                          ],
                          [
                            0.8888888888888888,
                            "#fdca26"
                          ],
                          [
                            1,
                            "#f0f921"
                          ]
                        ],
                        "type": "histogram2dcontour"
                      }
                    ],
                    "mesh3d": [
                      {
                        "colorbar": {
                          "outlinewidth": 0,
                          "ticks": ""
                        },
                        "type": "mesh3d"
                      }
                    ],
                    "parcoords": [
                      {
                        "line": {
                          "colorbar": {
                            "outlinewidth": 0,
                            "ticks": ""
                          }
                        },
                        "type": "parcoords"
                      }
                    ],
                    "pie": [
                      {
                        "automargin": true,
                        "type": "pie"
                      }
                    ],
                    "scatter": [
                      {
                        "fillpattern": {
                          "fillmode": "overlay",
                          "size": 10,
                          "solidity": 0.2
                        },
                        "type": "scatter"
                      }
                    ],
                    "scatter3d": [
                      {
                        "line": {
                          "colorbar": {
                            "outlinewidth": 0,
                            "ticks": ""
                          }
                        },
                        "marker": {
                          "colorbar": {
                            "outlinewidth": 0,
                            "ticks": ""
                          }
                        },
                        "type": "scatter3d"
                      }
                    ],
                    "scattercarpet": [
                      {
                        "marker": {
                          "colorbar": {
                            "outlinewidth": 0,
                            "ticks": ""
                          }
                        },
                        "type": "scattercarpet"
                      }
                    ],
                    "scattergeo": [
                      {
                        "marker": {
                          "colorbar": {
                            "outlinewidth": 0,
                            "ticks": ""
                          }
                        },
                        "type": "scattergeo"
                      }
                    ],
                    "scattergl": [
                      {
                        "marker": {
                          "colorbar": {
                            "outlinewidth": 0,
                            "ticks": ""
                          }
                        },
                        "type": "scattergl"
                      }
                    ],
                    "scattermap": [
                      {
                        "marker": {
                          "colorbar": {
                            "outlinewidth": 0,
                            "ticks": ""
                          }
                        },
                        "type": "scattermap"
                      }
                    ],
                    "scattermapbox": [
                      {
                        "marker": {
                          "colorbar": {
                            "outlinewidth": 0,
                            "ticks": ""
                          }
                        },
                        "type": "scattermapbox"
                      }
                    ],
                    "scatterpolar": [
                      {
                        "marker": {
                          "colorbar": {
                            "outlinewidth": 0,
                            "ticks": ""
                          }
                        },
                        "type": "scatterpolar"
                      }
                    ],
                    "scatterpolargl": [
                      {
                        "marker": {
                          "colorbar": {
                            "outlinewidth": 0,
                            "ticks": ""
                          }
                        },
                        "type": "scatterpolargl"
                      }
                    ],
                    "scatterternary": [
                      {
                        "marker": {
                          "colorbar": {
                            "outlinewidth": 0,
                            "ticks": ""
                          }
                        },
                        "type": "scatterternary"
                      }
                    ],
                    "surface": [
                      {
                        "colorbar": {
                          "outlinewidth": 0,
                          "ticks": ""
                        },
                        "colorscale": [
                          [
                            0,
                            "#0d0887"
                          ],
                          [
                            0.1111111111111111,
                            "#46039f"
                          ],
                          [
                            0.2222222222222222,
                            "#7201a8"
                          ],
                          [
                            0.3333333333333333,
                            "#9c179e"
                          ],
                          [
                            0.4444444444444444,
                            "#bd3786"
                          ],
                          [
                            0.5555555555555556,
                            "#d8576b"
                          ],
                          [
                            0.6666666666666666,
                            "#ed7953"
                          ],
                          [
                            0.7777777777777778,
                            "#fb9f3a"
                          ],
                          [
                            0.8888888888888888,
                            "#fdca26"
                          ],
                          [
                            1,
                            "#f0f921"
                          ]
                        ],
                        "type": "surface"
                      }
                    ],
                    "table": [
                      {
                        "cells": {
                          "fill": {
                            "color": "#EBF0F8"
                          },
                          "line": {
                            "color": "white"
                          }
                        },
                        "header": {
                          "fill": {
                            "color": "#C8D4E3"
                          },
                          "line": {
                            "color": "white"
                          }
                        },
                        "type": "table"
                      }
                    ]
                  },
                  "layout": {
                    "annotationdefaults": {
                      "arrowcolor": "#2a3f5f",
                      "arrowhead": 0,
                      "arrowwidth": 1
                    },
                    "autotypenumbers": "strict",
                    "coloraxis": {
                      "colorbar": {
                        "outlinewidth": 0,
                        "ticks": ""
                      }
                    },
                    "colorscale": {
                      "diverging": [
                        [
                          0,
                          "#8e0152"
                        ],
                        [
                          0.1,
                          "#c51b7d"
                        ],
                        [
                          0.2,
                          "#de77ae"
                        ],
                        [
                          0.3,
                          "#f1b6da"
                        ],
                        [
                          0.4,
                          "#fde0ef"
                        ],
                        [
                          0.5,
                          "#f7f7f7"
                        ],
                        [
                          0.6,
                          "#e6f5d0"
                        ],
                        [
                          0.7,
                          "#b8e186"
                        ],
                        [
                          0.8,
                          "#7fbc41"
                        ],
                        [
                          0.9,
                          "#4d9221"
                        ],
                        [
                          1,
                          "#276419"
                        ]
                      ],
                      "sequential": [
                        [
                          0,
                          "#0d0887"
                        ],
                        [
                          0.1111111111111111,
                          "#46039f"
                        ],
                        [
                          0.2222222222222222,
                          "#7201a8"
                        ],
                        [
                          0.3333333333333333,
                          "#9c179e"
                        ],
                        [
                          0.4444444444444444,
                          "#bd3786"
                        ],
                        [
                          0.5555555555555556,
                          "#d8576b"
                        ],
                        [
                          0.6666666666666666,
                          "#ed7953"
                        ],
                        [
                          0.7777777777777778,
                          "#fb9f3a"
                        ],
                        [
                          0.8888888888888888,
                          "#fdca26"
                        ],
                        [
                          1,
                          "#f0f921"
                        ]
                      ],
                      "sequentialminus": [
                        [
                          0,
                          "#0d0887"
                        ],
                        [
                          0.1111111111111111,
                          "#46039f"
                        ],
                        [
                          0.2222222222222222,
                          "#7201a8"
                        ],
                        [
                          0.3333333333333333,
                          "#9c179e"
                        ],
                        [
                          0.4444444444444444,
                          "#bd3786"
                        ],
                        [
                          0.5555555555555556,
                          "#d8576b"
                        ],
                        [
                          0.6666666666666666,
                          "#ed7953"
                        ],
                        [
                          0.7777777777777778,
                          "#fb9f3a"
                        ],
                        [
                          0.8888888888888888,
                          "#fdca26"
                        ],
                        [
                          1,
                          "#f0f921"
                        ]
                      ]
                    },
                    "colorway": [
                      "#636efa",
                      "#EF553B",
                      "#00cc96",
                      "#ab63fa",
                      "#FFA15A",
                      "#19d3f3",
                      "#FF6692",
                      "#B6E880",
                      "#FF97FF",
                      "#FECB52"
                    ],
                    "font": {
                      "color": "#2a3f5f"
                    },
                    "geo": {
                      "bgcolor": "white",
                      "lakecolor": "white",
                      "landcolor": "#E5ECF6",
                      "showlakes": true,
                      "showland": true,
                      "subunitcolor": "white"
                    },
                    "hoverlabel": {
                      "align": "left"
                    },
                    "hovermode": "closest",
                    "mapbox": {
                      "style": "light"
                    },
                    "paper_bgcolor": "white",
                    "plot_bgcolor": "#E5ECF6",
                    "polar": {
                      "angularaxis": {
                        "gridcolor": "white",
                        "linecolor": "white",
                        "ticks": ""
                      },
                      "bgcolor": "#E5ECF6",
                      "radialaxis": {
                        "gridcolor": "white",
                        "linecolor": "white",
                        "ticks": ""
                      }
                    },
                    "scene": {
                      "xaxis": {
                        "backgroundcolor": "#E5ECF6",
                        "gridcolor": "white",
                        "gridwidth": 2,
                        "linecolor": "white",
                        "showbackground": true,
                        "ticks": "",
                        "zerolinecolor": "white"
                      },
                      "yaxis": {
                        "backgroundcolor": "#E5ECF6",
                        "gridcolor": "white",
                        "gridwidth": 2,
                        "linecolor": "white",
                        "showbackground": true,
                        "ticks": "",
                        "zerolinecolor": "white"
                      },
                      "zaxis": {
                        "backgroundcolor": "#E5ECF6",
                        "gridcolor": "white",
                        "gridwidth": 2,
                        "linecolor": "white",
                        "showbackground": true,
                        "ticks": "",
                        "zerolinecolor": "white"
                      }
                    },
                    "shapedefaults": {
                      "line": {
                        "color": "#2a3f5f"
                      }
                    },
                    "ternary": {
                      "aaxis": {
                        "gridcolor": "white",
                        "linecolor": "white",
                        "ticks": ""
                      },
                      "baxis": {
                        "gridcolor": "white",
                        "linecolor": "white",
                        "ticks": ""
                      },
                      "bgcolor": "#E5ECF6",
                      "caxis": {
                        "gridcolor": "white",
                        "linecolor": "white",
                        "ticks": ""
                      }
                    },
                    "title": {
                      "x": 0.05
                    },
                    "xaxis": {
                      "automargin": true,
                      "gridcolor": "white",
                      "linecolor": "white",
                      "ticks": "",
                      "title": {
                        "standoff": 15
                      },
                      "zerolinecolor": "white",
                      "zerolinewidth": 2
                    },
                    "yaxis": {
                      "automargin": true,
                      "gridcolor": "white",
                      "linecolor": "white",
                      "ticks": "",
                      "title": {
                        "standoff": 15
                      },
                      "zerolinecolor": "white",
                      "zerolinewidth": 2
                    }
                  }
                },
                "title": {
                  "text": "캐나다 거시경제 지표 VAR(8) 모델 예측"
                },
                "width": 1200,
                "xaxis": {
                  "title": {
                    "text": "날짜"
                  }
                },
                "yaxis": {
                  "title": {
                    "text": "값"
                  }
                }
              }
            }
          },
          "metadata": {},
          "output_type": "display_data"
        }
      ],
      "source": [
        "# 시각화\n",
        "fig = go.Figure()\n",
        "\n",
        "colors = ['blue', 'red', 'green', 'orange']\n",
        "for i, var in enumerate(variables):\n",
        "    # 실제 데이터\n",
        "    fig.add_trace(go.Scatter(\n",
        "        x=df_selected.index, \n",
        "        y=df_selected[var], \n",
        "        name=f'{var} 실제값',\n",
        "        line=dict(color=colors[i])\n",
        "    ))\n",
        "    \n",
        "    # 예측 데이터\n",
        "    fig.add_trace(go.Scatter(\n",
        "        x=forecast_original.index, \n",
        "        y=forecast_original[var], \n",
        "        name=f'{var} 예측값',\n",
        "        line=dict(color=colors[i], dash='dot'),\n",
        "        mode='lines+markers'\n",
        "    ))\n",
        "\n",
        "fig.update_layout(\n",
        "    title=f'캐나다 거시경제 지표 VAR({optimal_lag}) 모델 예측',\n",
        "    xaxis_title='날짜',\n",
        "    yaxis_title='값',\n",
        "    hovermode='x unified',\n",
        "    width=1200,\n",
        "    height=600\n",
        ")\n",
        "\n",
        "fig.show()"
      ]
    }
  ],
  "metadata": {
    "colab": {
      "provenance": []
    },
    "kernelspec": {
      "display_name": ".venv",
      "language": "python",
      "name": "python3"
    },
    "language_info": {
      "codemirror_mode": {
        "name": "ipython",
        "version": 3
      },
      "file_extension": ".py",
      "mimetype": "text/x-python",
      "name": "python",
      "nbconvert_exporter": "python",
      "pygments_lexer": "ipython3",
      "version": "3.12.9"
    }
  },
  "nbformat": 4,
  "nbformat_minor": 0
}
