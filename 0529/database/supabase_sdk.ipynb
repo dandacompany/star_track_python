{
 "cells": [
  {
   "cell_type": "code",
   "execution_count": null,
   "metadata": {},
   "outputs": [],
   "source": [
    "%%writefile .env \n",
    "SUPABASE_URL = \"\"\n",
    "SUPABASE_ANON_KEY = \"\""
   ]
  },
  {
   "cell_type": "code",
   "execution_count": 1,
   "metadata": {},
   "outputs": [],
   "source": [
    "!pip install python-dotenv # .env에 저장된 환경변수 로드해주는 패키지\n",
    "!pip install supabase # 수파베이스 SDK"
   ]
  },
  {
   "cell_type": "code",
   "execution_count": null,
   "metadata": {},
   "outputs": [],
   "source": []
  },
  {
   "cell_type": "code",
   "execution_count": 1,
   "metadata": {},
   "outputs": [],
   "source": [
    "# 환경 변수 로드\n",
    "from dotenv import load_dotenv\n",
    "import os\n",
    "load_dotenv(\".env\")\n",
    "SUPABASE_URL = os.getenv(\"SUPABASE_URL\")\n",
    "SUPABASE_ANON_KEY = os.getenv(\"SUPABASE_ANON_KEY\")"
   ]
  },
  {
   "cell_type": "code",
   "execution_count": 3,
   "metadata": {},
   "outputs": [],
   "source": [
    "# 수파베이스 접속\n",
    "import supabase\n",
    "sb = supabase.create_client(SUPABASE_URL, SUPABASE_ANON_KEY)"
   ]
  },
  {
   "cell_type": "code",
   "execution_count": 9,
   "metadata": {},
   "outputs": [
    {
     "data": {
      "text/plain": [
       "APIResponse[TypeVar](data=[], count=None)"
      ]
     },
     "execution_count": 9,
     "metadata": {},
     "output_type": "execute_result"
    }
   ],
   "source": [
    "# 빈테이블 조회\n",
    "sb.table('links').select('*').execute()\n",
    "# '''select url from public.links;'''\n"
   ]
  },
  {
   "cell_type": "code",
   "execution_count": 10,
   "metadata": {},
   "outputs": [
    {
     "data": {
      "text/plain": [
       "APIResponse[TypeVar](data=[{'id': 1, 'created_at': '2024-05-02T22:37:40.122463+00:00', 'url': 'https://www.naver.com'}, {'id': 2, 'created_at': '2024-05-02T22:37:40.122463+00:00', 'url': 'https://www.naver.com'}, {'id': 3, 'created_at': '2024-05-02T22:37:40.122463+00:00', 'url': 'https://www.naver.com'}], count=None)"
      ]
     },
     "execution_count": 10,
     "metadata": {},
     "output_type": "execute_result"
    }
   ],
   "source": [
    "# 데이터 삽입\n",
    "sb.table('links').insert([{'url': 'https://www.naver.com'},{'url': 'https://www.naver.com'},{'url': 'https://www.naver.com'}]).execute()"
   ]
  },
  {
   "cell_type": "code",
   "execution_count": 17,
   "metadata": {},
   "outputs": [
    {
     "name": "stdout",
     "output_type": "stream",
     "text": [
      "Empty DataFrame\n",
      "Columns: []\n",
      "Index: []\n"
     ]
    }
   ],
   "source": [
    "# 데이터 다시 조회해서 데이터 프레임에 담기\n",
    "import pandas as pd\n",
    "data = sb.table('links').select('*').execute().data\n",
    "df = pd.DataFrame(data)\n",
    "print(df)"
   ]
  },
  {
   "cell_type": "code",
   "execution_count": 16,
   "metadata": {},
   "outputs": [
    {
     "data": {
      "text/plain": [
       "APIResponse[TypeVar](data=[{'id': 3, 'created_at': '2024-05-02T22:37:40.122463+00:00', 'url': 'https://www.naver.com'}], count=None)"
      ]
     },
     "execution_count": 16,
     "metadata": {},
     "output_type": "execute_result"
    }
   ],
   "source": [
    "# 데이터 삭제 (id 값 확인할것)\n",
    "sb.table('links').delete().eq('id', 1).execute()"
   ]
  },
  {
   "cell_type": "markdown",
   "metadata": {},
   "source": [
    "___\n",
    "데이터베이스 준비 끝\n",
    "___"
   ]
  },
  {
   "cell_type": "markdown",
   "metadata": {},
   "source": [
    "###  더미 데이터 생성 & 삽입"
   ]
  },
  {
   "cell_type": "code",
   "execution_count": null,
   "metadata": {},
   "outputs": [],
   "source": [
    "!pip install sentence-transformers"
   ]
  },
  {
   "cell_type": "code",
   "execution_count": 15,
   "metadata": {},
   "outputs": [
    {
     "name": "stdout",
     "output_type": "stream",
     "text": [
      "Inserted 20 rows ✅\n"
     ]
    }
   ],
   "source": [
    "from sentence_transformers import SentenceTransformer\n",
    "from supabase import create_client\n",
    "import os, random, dotenv\n",
    "\n",
    "# --- 설정 -------------------------------------------------------------\n",
    "dotenv.load_dotenv()                       # .env 읽기\n",
    "supabase = create_client(os.environ[\"SUPABASE_URL\"],\n",
    "                         os.environ[\"SUPABASE_ANON_KEY\"])\n",
    "model = SentenceTransformer(\"all-MiniLM-L6-v2\")\n",
    "\n",
    "dummy_texts = [\n",
    "    \"STATRACK 1기 AI엔지니어 양성과정\",\n",
    "    \"맛집 추천 챗봇을 위한 레시피 임베딩\",\n",
    "    \"한국 프로야구 2025 시즌 미디어 가이드\",\n",
    "    \"초보자를 위한 Docker 입문서\",\n",
    "    \"고양이를 위한 스마트 캣타워 개발기\",\n",
    "    \"제주도 2박 3일 여행 코스\",\n",
    "    \"MCP 서버 구축 자동화 튜토리얼\",\n",
    "    \"SQL로 하는 시계열 데이터 예측\",\n",
    "    \"n8n으로 만드는 Slack 알림 봇\",\n",
    "    \"Python 데이터 클래스 활용법\",\n",
    "] * 2  # 20개\n",
    "\n",
    "rows = []\n",
    "for text in dummy_texts:\n",
    "    vec = model.encode(text).tolist()       # numpy → list\n",
    "    rows.append({\"content\": text, \"embedding\": vec})\n",
    "\n",
    "# --- 삽입 -------------------------------------------------------------\n",
    "inserted = supabase.table(\"embeddings\").insert(rows).execute()\n",
    "print(f\"Inserted {len(inserted.data)} rows ✅\")\n"
   ]
  },
  {
   "cell_type": "code",
   "execution_count": null,
   "metadata": {},
   "outputs": [],
   "source": [
    "%%writefile query_rpc.py\n",
    "\n",
    "\"\"\"\n",
    "$ python query_rpc.py \"검색할 문장\"\n",
    "\"\"\"\n",
    "import sys, os, dotenv\n",
    "from sentence_transformers import SentenceTransformer\n",
    "from supabase import create_client\n",
    "\n",
    "dotenv.load_dotenv()\n",
    "supabase = create_client(os.environ[\"SUPABASE_URL\"],\n",
    "                         os.environ[\"SUPABASE_ANON_KEY\"])\n",
    "model = SentenceTransformer(\"all-MiniLM-L6-v2\")\n",
    "\n",
    "query = sys.argv[1] if len(sys.argv) > 1 else \"AI 엔지니어 과정\"\n",
    "qvec  = model.encode(query).tolist()\n",
    "\n",
    "resp = supabase.rpc(\"match_embeddings\", {\n",
    "    \"query_embedding\": qvec,\n",
    "    \"match_threshold\": 0.5,\n",
    "    \"match_count\": 3\n",
    "}).execute()\n",
    "\n",
    "print(f\"\\n🔍  Query: {query}\\n\")\n",
    "for r in resp.data:\n",
    "    print(f\"{r['similarity']:.3f}\\t{r['content']}\")\n"
   ]
  }
 ],
 "metadata": {
  "kernelspec": {
   "display_name": "base",
   "language": "python",
   "name": "python3"
  },
  "language_info": {
   "codemirror_mode": {
    "name": "ipython",
    "version": 3
   },
   "file_extension": ".py",
   "mimetype": "text/x-python",
   "name": "python",
   "nbconvert_exporter": "python",
   "pygments_lexer": "ipython3",
   "version": "3.12.2"
  }
 },
 "nbformat": 4,
 "nbformat_minor": 2
}
