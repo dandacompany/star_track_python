{
 "cells": [
  {
   "cell_type": "code",
   "execution_count": 27,
   "metadata": {},
   "outputs": [
    {
     "name": "stdout",
     "output_type": "stream",
     "text": [
      "Overwriting .env.example\n"
     ]
    }
   ],
   "source": [
    "%%writefile .env.example\n",
    "SUPABASE_URL = \"\"\n",
    "SUPABASE_ANON_KEY = \"\""
   ]
  },
  {
   "cell_type": "code",
   "execution_count": null,
   "metadata": {},
   "outputs": [],
   "source": [
    "!pip install python-dotenv\n",
    "!pip install supabase"
   ]
  },
  {
   "cell_type": "code",
   "execution_count": 30,
   "metadata": {},
   "outputs": [],
   "source": [
    "# 환경 변수 로드\n",
    "from dotenv import load_dotenv\n",
    "import os\n",
    "load_dotenv(\".env\")\n",
    "SUPABASE_URL = os.getenv(\"SUPABASE_URL\")\n",
    "SUPABASE_ANON_KEY = os.getenv(\"SUPABASE_ANON_KEY\")"
   ]
  },
  {
   "cell_type": "code",
   "execution_count": 31,
   "metadata": {},
   "outputs": [],
   "source": [
    "# 수파베이스 접속\n",
    "import supabase\n",
    "sb = supabase.create_client(SUPABASE_URL, SUPABASE_ANON_KEY)"
   ]
  },
  {
   "cell_type": "code",
   "execution_count": 32,
   "metadata": {},
   "outputs": [
    {
     "data": {
      "text/plain": [
       "APIResponse[TypeVar](data=[], count=None)"
      ]
     },
     "execution_count": 32,
     "metadata": {},
     "output_type": "execute_result"
    }
   ],
   "source": [
    "# 빈테이블 조회\n",
    "sb.table('links').select('*').execute()\n",
    "# '''select url from public.links;'''\n"
   ]
  },
  {
   "cell_type": "code",
   "execution_count": 33,
   "metadata": {},
   "outputs": [
    {
     "data": {
      "text/plain": [
       "APIResponse[TypeVar](data=[{'id': 1, 'created_at': '2025-05-29T09:09:33.214358+00:00', 'url': 'https://www.naver.com'}, {'id': 2, 'created_at': '2025-05-29T09:09:33.214358+00:00', 'url': 'https://www.naver.com'}, {'id': 3, 'created_at': '2025-05-29T09:09:33.214358+00:00', 'url': 'https://www.naver.com'}], count=None)"
      ]
     },
     "execution_count": 33,
     "metadata": {},
     "output_type": "execute_result"
    }
   ],
   "source": [
    "# 데이터 삽입\n",
    "sb.table('links').insert([\n",
    "    {'url': 'https://www.naver.com'},\n",
    "    {'url': 'https://www.naver.com'},\n",
    "    {'url': 'https://www.naver.com'}\n",
    "]).execute()"
   ]
  },
  {
   "cell_type": "code",
   "execution_count": 34,
   "metadata": {},
   "outputs": [
    {
     "name": "stdout",
     "output_type": "stream",
     "text": [
      "   id                        created_at                    url\n",
      "0   1  2025-05-29T09:09:33.214358+00:00  https://www.naver.com\n",
      "1   2  2025-05-29T09:09:33.214358+00:00  https://www.naver.com\n",
      "2   3  2025-05-29T09:09:33.214358+00:00  https://www.naver.com\n"
     ]
    }
   ],
   "source": [
    "# 데이터 다시 조회해서 데이터 프레임에 담기\n",
    "import pandas as pd\n",
    "data = sb.table('links').select('*').execute().data\n",
    "df = pd.DataFrame(data)\n",
    "print(df)"
   ]
  },
  {
   "cell_type": "code",
   "execution_count": 35,
   "metadata": {},
   "outputs": [
    {
     "data": {
      "text/plain": [
       "APIResponse[TypeVar](data=[{'id': 1, 'created_at': '2025-05-29T09:09:33.214358+00:00', 'url': 'https://www.naver.com'}], count=None)"
      ]
     },
     "execution_count": 35,
     "metadata": {},
     "output_type": "execute_result"
    }
   ],
   "source": [
    "# 데이터 삭제 (id 값 확인할것)\n",
    "sb.table('links').delete().eq('id', 1).execute()"
   ]
  },
  {
   "cell_type": "markdown",
   "metadata": {},
   "source": [
    "___\n",
    "데이터베이스 준비 끝\n",
    "___"
   ]
  },
  {
   "cell_type": "markdown",
   "metadata": {},
   "source": [
    "###  더미 데이터 생성 & 삽입"
   ]
  },
  {
   "cell_type": "code",
   "execution_count": 36,
   "metadata": {},
   "outputs": [
    {
     "name": "stderr",
     "output_type": "stream",
     "text": [
      "huggingface/tokenizers: The current process just got forked, after parallelism has already been used. Disabling parallelism to avoid deadlocks...\n",
      "To disable this warning, you can either:\n",
      "\t- Avoid using `tokenizers` before the fork if possible\n",
      "\t- Explicitly set the environment variable TOKENIZERS_PARALLELISM=(true | false)\n"
     ]
    },
    {
     "name": "stdout",
     "output_type": "stream",
     "text": [
      "Requirement already satisfied: sentence-transformers in /Users/dante/miniconda3/lib/python3.12/site-packages (3.3.1)\n",
      "Requirement already satisfied: transformers<5.0.0,>=4.41.0 in /Users/dante/miniconda3/lib/python3.12/site-packages (from sentence-transformers) (4.51.1)\n",
      "Requirement already satisfied: tqdm in /Users/dante/miniconda3/lib/python3.12/site-packages (from sentence-transformers) (4.66.5)\n",
      "Requirement already satisfied: torch>=1.11.0 in /Users/dante/miniconda3/lib/python3.12/site-packages (from sentence-transformers) (2.6.0)\n",
      "Requirement already satisfied: scikit-learn in /Users/dante/miniconda3/lib/python3.12/site-packages (from sentence-transformers) (1.5.2)\n",
      "Requirement already satisfied: scipy in /Users/dante/miniconda3/lib/python3.12/site-packages (from sentence-transformers) (1.14.1)\n",
      "Requirement already satisfied: huggingface-hub>=0.20.0 in /Users/dante/miniconda3/lib/python3.12/site-packages (from sentence-transformers) (0.30.2)\n",
      "Requirement already satisfied: Pillow in /Users/dante/miniconda3/lib/python3.12/site-packages (from sentence-transformers) (10.4.0)\n",
      "Requirement already satisfied: filelock in /Users/dante/miniconda3/lib/python3.12/site-packages (from transformers<5.0.0,>=4.41.0->sentence-transformers) (3.18.0)\n",
      "Requirement already satisfied: numpy>=1.17 in /Users/dante/miniconda3/lib/python3.12/site-packages (from transformers<5.0.0,>=4.41.0->sentence-transformers) (1.26.4)\n",
      "Requirement already satisfied: packaging>=20.0 in /Users/dante/miniconda3/lib/python3.12/site-packages (from transformers<5.0.0,>=4.41.0->sentence-transformers) (23.2)\n",
      "Requirement already satisfied: pyyaml>=5.1 in /Users/dante/miniconda3/lib/python3.12/site-packages (from transformers<5.0.0,>=4.41.0->sentence-transformers) (6.0.2)\n",
      "Requirement already satisfied: regex!=2019.12.17 in /Users/dante/miniconda3/lib/python3.12/site-packages (from transformers<5.0.0,>=4.41.0->sentence-transformers) (2024.11.6)\n",
      "Requirement already satisfied: requests in /Users/dante/miniconda3/lib/python3.12/site-packages (from transformers<5.0.0,>=4.41.0->sentence-transformers) (2.32.3)\n",
      "Requirement already satisfied: tokenizers<0.22,>=0.21 in /Users/dante/miniconda3/lib/python3.12/site-packages (from transformers<5.0.0,>=4.41.0->sentence-transformers) (0.21.1)\n",
      "Requirement already satisfied: safetensors>=0.4.3 in /Users/dante/miniconda3/lib/python3.12/site-packages (from transformers<5.0.0,>=4.41.0->sentence-transformers) (0.5.3)\n",
      "Requirement already satisfied: fsspec>=2023.5.0 in /Users/dante/miniconda3/lib/python3.12/site-packages (from huggingface-hub>=0.20.0->sentence-transformers) (2024.10.0)\n",
      "Requirement already satisfied: typing-extensions>=3.7.4.3 in /Users/dante/miniconda3/lib/python3.12/site-packages (from huggingface-hub>=0.20.0->sentence-transformers) (4.13.2)\n",
      "Requirement already satisfied: networkx in /Users/dante/miniconda3/lib/python3.12/site-packages (from torch>=1.11.0->sentence-transformers) (3.4.2)\n",
      "Requirement already satisfied: jinja2 in /Users/dante/miniconda3/lib/python3.12/site-packages (from torch>=1.11.0->sentence-transformers) (3.1.4)\n",
      "Requirement already satisfied: setuptools in /Users/dante/miniconda3/lib/python3.12/site-packages (from torch>=1.11.0->sentence-transformers) (75.1.0)\n",
      "Requirement already satisfied: sympy==1.13.1 in /Users/dante/miniconda3/lib/python3.12/site-packages (from torch>=1.11.0->sentence-transformers) (1.13.1)\n",
      "Requirement already satisfied: mpmath<1.4,>=1.1.0 in /Users/dante/miniconda3/lib/python3.12/site-packages (from sympy==1.13.1->torch>=1.11.0->sentence-transformers) (1.3.0)\n",
      "Requirement already satisfied: MarkupSafe>=2.0 in /Users/dante/miniconda3/lib/python3.12/site-packages (from jinja2->torch>=1.11.0->sentence-transformers) (2.1.5)\n",
      "Requirement already satisfied: charset-normalizer<4,>=2 in /Users/dante/miniconda3/lib/python3.12/site-packages (from requests->transformers<5.0.0,>=4.41.0->sentence-transformers) (3.3.2)\n",
      "Requirement already satisfied: idna<4,>=2.5 in /Users/dante/miniconda3/lib/python3.12/site-packages (from requests->transformers<5.0.0,>=4.41.0->sentence-transformers) (3.7)\n",
      "Requirement already satisfied: urllib3<3,>=1.21.1 in /Users/dante/miniconda3/lib/python3.12/site-packages (from requests->transformers<5.0.0,>=4.41.0->sentence-transformers) (2.2.3)\n",
      "Requirement already satisfied: certifi>=2017.4.17 in /Users/dante/miniconda3/lib/python3.12/site-packages (from requests->transformers<5.0.0,>=4.41.0->sentence-transformers) (2025.1.31)\n",
      "Requirement already satisfied: joblib>=1.2.0 in /Users/dante/miniconda3/lib/python3.12/site-packages (from scikit-learn->sentence-transformers) (1.4.2)\n",
      "Requirement already satisfied: threadpoolctl>=3.1.0 in /Users/dante/miniconda3/lib/python3.12/site-packages (from scikit-learn->sentence-transformers) (3.5.0)\n"
     ]
    }
   ],
   "source": [
    "!pip install sentence-transformers"
   ]
  },
  {
   "cell_type": "code",
   "execution_count": null,
   "metadata": {},
   "outputs": [],
   "source": [
    "from sentence_transformers import SentenceTransformer\n",
    "from supabase import create_client\n",
    "import os, random, dotenv\n",
    "\n",
    "# --- 설정 -------------------------------------------------------------\n",
    "dotenv.load_dotenv()                       # .env 읽기\n",
    "sb = create_client(os.environ[\"SUPABASE_URL\"], os.environ[\"SUPABASE_ANON_KEY\"])\n",
    "model = SentenceTransformer(\"all-MiniLM-L6-v2\")"
   ]
  },
  {
   "cell_type": "code",
   "execution_count": 38,
   "metadata": {},
   "outputs": [
    {
     "name": "stdout",
     "output_type": "stream",
     "text": [
      "Inserted 20 rows ✅\n"
     ]
    }
   ],
   "source": [
    "dummy_texts = [\n",
    "    \"STATRACK 1기 AI엔지니어 양성과정\",\n",
    "    \"맛집 추천 챗봇을 위한 레시피 임베딩\",\n",
    "    \"한국 프로야구 2025 시즌 미디어 가이드\",\n",
    "    \"초보자를 위한 Docker 입문서\",\n",
    "    \"고양이를 위한 스마트 캣타워 개발기\",\n",
    "    \"제주도 2박 3일 여행 코스\",\n",
    "    \"MCP 서버 구축 자동화 튜토리얼\",\n",
    "    \"SQL로 하는 시계열 데이터 예측\",\n",
    "    \"n8n으로 만드는 Slack 알림 봇\",\n",
    "    \"Python 데이터 클래스 활용법\",\n",
    "] * 2  # 20개\n",
    "\n",
    "rows = [{\"content\": text, \"embedding\": model.encode(text).tolist()} for text in dummy_texts]\n",
    "\n",
    "# --- 삽입 -------------------------------------------------------------\n",
    "inserted = sb.table(\"embeddings\").insert(rows).execute()\n",
    "print(f\"Inserted {len(inserted.data)} rows ✅\")\n"
   ]
  },
  {
   "cell_type": "code",
   "execution_count": 40,
   "metadata": {},
   "outputs": [],
   "source": [
    "vec = model.encode(\"토스뱅크 데이터분석가\").tolist()"
   ]
  },
  {
   "cell_type": "code",
   "execution_count": 41,
   "metadata": {},
   "outputs": [],
   "source": [
    "resp = sb.rpc(\"match_embeddings\", {\n",
    "    \"query_embedding\": vec,\n",
    "    \"match_threshold\": 0.5,\n",
    "    \"match_count\": 3\n",
    "}).execute()"
   ]
  },
  {
   "cell_type": "code",
   "execution_count": 43,
   "metadata": {},
   "outputs": [
    {
     "name": "stdout",
     "output_type": "stream",
     "text": [
      "0.717\t맛집 추천 챗봇을 위한 레시피 임베딩\n",
      "0.717\t맛집 추천 챗봇을 위한 레시피 임베딩\n",
      "0.612\t제주도 2박 3일 여행 코스\n"
     ]
    }
   ],
   "source": [
    "for r in resp.data:\n",
    "    print(f\"{r['similarity']:.3f}\\t{r['content']}\")"
   ]
  },
  {
   "cell_type": "code",
   "execution_count": null,
   "metadata": {},
   "outputs": [],
   "source": [
    "%%writefile query_rpc.py\n",
    "\n",
    "\"\"\"\n",
    "$ python query_rpc.py \"검색할 문장\"\n",
    "\"\"\"\n",
    "import sys, os, dotenv\n",
    "from sentence_transformers import SentenceTransformer\n",
    "from supabase import create_client\n",
    "\n",
    "dotenv.load_dotenv()\n",
    "supabase = create_client(os.environ[\"SUPABASE_URL\"],\n",
    "                         os.environ[\"SUPABASE_ANON_KEY\"])\n",
    "model = SentenceTransformer(\"all-MiniLM-L6-v2\")\n",
    "\n",
    "query = sys.argv[1] if len(sys.argv) > 1 else \"AI 엔지니어 과정\"\n",
    "qvec  = model.encode(query).tolist()\n",
    "\n",
    "resp = supabase.rpc(\"match_embeddings\", {\n",
    "    \"query_embedding\": qvec,\n",
    "    \"match_threshold\": 0.5,\n",
    "    \"match_count\": 3\n",
    "}).execute()\n",
    "\n",
    "print(f\"\\n🔍  Query: {query}\\n\")\n",
    "for r in resp.data:\n",
    "    print(f\"{r['similarity']:.3f}\\t{r['content']}\")\n"
   ]
  }
 ],
 "metadata": {
  "kernelspec": {
   "display_name": "base",
   "language": "python",
   "name": "python3"
  },
  "language_info": {
   "codemirror_mode": {
    "name": "ipython",
    "version": 3
   },
   "file_extension": ".py",
   "mimetype": "text/x-python",
   "name": "python",
   "nbconvert_exporter": "python",
   "pygments_lexer": "ipython3",
   "version": "3.12.2"
  }
 },
 "nbformat": 4,
 "nbformat_minor": 2
}
