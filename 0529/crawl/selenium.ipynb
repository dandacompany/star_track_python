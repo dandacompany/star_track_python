{
 "cells": [
  {
   "cell_type": "markdown",
   "metadata": {},
   "source": [
    "###  셀레니움 크롤러 메뉴얼\n",
    "____"
   ]
  },
  {
   "cell_type": "code",
   "execution_count": null,
   "metadata": {},
   "outputs": [],
   "source": [
    "# 추가 패키지 설치\n",
    "# !pip install supabase # 수파베이스 SDK 설치\n",
    "# !pip install selenium # 헤드리스 브라우저를 위한 테스트 자동화 툴\n",
    "# !pip install beautifulsoup4 # html 파싱 툴\n",
    "# !pip install tqdm # 프로그래스 표시 "
   ]
  },
  {
   "cell_type": "markdown",
   "metadata": {},
   "source": [
    "* 크롬 브라우저 버전 확인\n",
    "  * 크롬 화면 우상단 ... 메뉴 버튼 클릭 > 설정 클릭 > 우하단 Chrome 정보 클릭\n",
    "  \n",
    "<img src=\"./images/chrome1.png\" width=\"800\">\n",
    "\n",
    "___\n",
    "\n",
    "\n",
    "<img src=\"./images/chrome2.png\" width=\"800\">\n",
    "\n",
    "124.0 버전 확인 (여러분은 다른 버전일수 있음)\n",
    "\n"
   ]
  },
  {
   "cell_type": "markdown",
   "metadata": {},
   "source": [
    "* 크롬 드라이버 다운로드\n",
    "  * 아래 코드로 자신의 운영체제 및 아키텍처 확인\n",
    "  * https://googlechromelabs.github.io/chrome-for-testing/#stable \n",
    "  \n",
    "  <img src=\"./images/chrome3.png\" width=\"800\">  \n"
   ]
  },
  {
   "cell_type": "code",
   "execution_count": 3,
   "metadata": {},
   "outputs": [
    {
     "name": "stdout",
     "output_type": "stream",
     "text": [
      "운영체제: macOS, 아키텍처: ARM64\n"
     ]
    }
   ],
   "source": [
    "import platform\n",
    "import sys, os, requests, zipfile\n",
    "\n",
    "# 운영체제 및 아키텍처 확인\n",
    "os_name = platform.system().lower()\n",
    "architecture = platform.machine()\n",
    "\n",
    "if os_name == 'darwin':\n",
    "    if architecture == 'arm64':\n",
    "        print(\"운영체제: macOS, 아키텍처: ARM64\")\n",
    "    elif architecture == 'x86_64':\n",
    "        print(\"운영체제: macOS, 아키텍처: x64\")\n",
    "elif os_name == 'windows':\n",
    "    if sys.maxsize > 2**32:\n",
    "        print(\"운영체제: Windows, 아키텍처: 64-bit\")\n",
    "    else:\n",
    "        print(\"운영체제: Windows, 아키텍처: 32-bit\")\n",
    "else:\n",
    "    print(f\"운영체제: {os_name}, 아키텍처: {architecture}\")\n"
   ]
  },
  {
   "cell_type": "code",
   "execution_count": 4,
   "metadata": {},
   "outputs": [],
   "source": [
    "chrome_driver_url = 'https://storage.googleapis.com/chrome-for-testing-public/124.0.6367.91/mac-arm64/chromedriver-mac-arm64.zip'"
   ]
  },
  {
   "cell_type": "markdown",
   "metadata": {},
   "source": [
    "* 크롬 드라이버 설치 및 작동해보기"
   ]
  },
  {
   "cell_type": "code",
   "execution_count": 9,
   "metadata": {},
   "outputs": [],
   "source": [
    "# 다운로드\n",
    "os.makedirs('./driver', exist_ok=True)\n",
    "with requests.get(chrome_driver_url) as response:\n",
    "    with open('./driver/chromedriver.zip', 'wb') as file:\n",
    "        file.write(response.content)\n",
    "\n",
    "\n",
    "# 압축해제\n",
    "with zipfile.ZipFile('./driver/chromedriver.zip') as zip_ref:\n",
    "    zip_ref.extractall('./driver')\n",
    "os.remove('./driver/chromedriver.zip')"
   ]
  },
  {
   "cell_type": "code",
   "execution_count": 5,
   "metadata": {},
   "outputs": [
    {
     "data": {
      "text/plain": [
       "'./driver/chromedriver-mac-arm64/chromedriver'"
      ]
     },
     "execution_count": 5,
     "metadata": {},
     "output_type": "execute_result"
    }
   ],
   "source": [
    "from glob import glob\n",
    "\n",
    "driver_path = None\n",
    "if os_name == 'darwin': # 맥 사용자\n",
    "    driver_path = glob('./driver/**/chromedriver', recursive=True)[0]\n",
    "else: # 윈도우 사용자\n",
    "    driver_path = glob('./driver/**/chromedriver.exe', recursive=True)[0]\n",
    "\n",
    "driver_path"
   ]
  },
  {
   "cell_type": "code",
   "execution_count": 16,
   "metadata": {},
   "outputs": [],
   "source": [
    "# 드라이버 파일의 권한을 확인하고 수정\n",
    "if os_name == 'darwin':  # 맥 사용자\n",
    "    driver_permissions = os.stat(driver_path).st_mode\n",
    "    if not (driver_permissions & 0o100):  # 실행 권한 확인\n",
    "        os.chmod(driver_path, driver_permissions | 0o111)  # 실행 권한 추가\n",
    "else:  # 윈도우 사용자\n",
    "    driver_permissions = os.stat(driver_path).st_mode\n",
    "    if not (driver_permissions & 0o100):  # 실행 권한 확인\n",
    "        os.chmod(driver_path, driver_permissions | 0o111)  # 실행 권한 추가\n"
   ]
  },
  {
   "cell_type": "code",
   "execution_count": 8,
   "metadata": {},
   "outputs": [],
   "source": [
    "from selenium import webdriver\n",
    "from selenium.webdriver.chrome.service import Service\n",
    "from bs4 import BeautifulSoup\n",
    "service = Service(executable_path=driver_path)\n",
    "chrome_options =  webdriver.ChromeOptions()\n",
    "chrome_options.add_argument('--headless')\n",
    "chrome_options.add_argument('--disable-gpu')\n",
    "chrome_options.add_argument('--disable-dev-shm-usage')\n",
    "chrome_options.add_argument('--no-sandbox')\n",
    "chrome_options.add_argument('--blink-settings=imagesEnabled=false')\n",
    "\n",
    "driver = webdriver.Chrome(service=service, options=chrome_options)\n",
    "driver.get('https://mba.kookmin.ac.kr/mba/ai-data/ai-data-intro.do') # 국민대학교 경영대학원 AI빅데이터 전공소개 페이지\n",
    "\n"
   ]
  },
  {
   "cell_type": "code",
   "execution_count": 10,
   "metadata": {},
   "outputs": [],
   "source": [
    "# 파싱\n",
    "soup = BeautifulSoup(driver.page_source, 'html.parser')"
   ]
  },
  {
   "cell_type": "code",
   "execution_count": 27,
   "metadata": {},
   "outputs": [
    {
     "data": {
      "text/plain": [
       "'전공소개 | 국민대학교 경영대학원'"
      ]
     },
     "execution_count": 27,
     "metadata": {},
     "output_type": "execute_result"
    }
   ],
   "source": [
    "# 사이트 제목\n",
    "soup.select_one('title').text\n",
    "\n"
   ]
  },
  {
   "cell_type": "markdown",
   "metadata": {},
   "source": [
    "* 크롤링해보기\n",
    "  * 크롬 우상단 ... 버튼 클릭 > 도구 더보기 > 개발자 도구 로 진입\n",
    "  * 개발자도구 탭메뉴[요소] 를 통해서 수집하고자 하는 태그(엘리먼트) 확인\n",
    "  \n",
    "  <img src=\"./images/chrome4.png\" width=\"800\">\n",
    "\n"
   ]
  },
  {
   "cell_type": "markdown",
   "metadata": {},
   "source": [
    "id는 #\n",
    "class는 .\n",
    "tag text"
   ]
  },
  {
   "cell_type": "code",
   "execution_count": 13,
   "metadata": {},
   "outputs": [],
   "source": [
    "title_selector = '.con-info h5' # CSS 셀렉터 문법 (더 배우기 : https://developer.mozilla.org/ko/docs/Web/CSS/CSS_selectors)\n",
    "content_selector = '.con-info p'"
   ]
  },
  {
   "cell_type": "code",
   "execution_count": 14,
   "metadata": {},
   "outputs": [
    {
     "data": {
      "text/plain": [
       "[<h5>수요자 중심 맞춤형 커리큘럼</h5>,\n",
       " <h5>국내 최고의 AI빅데이터 전문 교수진</h5>,\n",
       " <h5>최첨단 실습 환경과 최적의 온·오프라인 강의</h5>,\n",
       " <h5>학위와 함께 자격증도 취득, 급변하는 기술은 특강으로!</h5>,\n",
       " <h5>국내 최초의 자부심을 반영하는 우수한 교육 성과</h5>,\n",
       " <h5>현장실무 중심의 산학협력 교육</h5>]"
      ]
     },
     "execution_count": 14,
     "metadata": {},
     "output_type": "execute_result"
    }
   ],
   "source": [
    "soup.select(title_selector)"
   ]
  },
  {
   "cell_type": "code",
   "execution_count": 15,
   "metadata": {},
   "outputs": [
    {
     "data": {
      "text/plain": [
       "[<p>AI빅데이터 기술의 실용적 활용에 필요한 기초 역량부터 프로젝트 수행까지 교육을 제공합니다.<br/>수업 연한(1년/1.5년/2년) 및 수여 학위(경영학/공학)를 선택할 수 있어 수요자 필요에 맞춤화된 교육 과정을 설계할 수 있습니다.</p>,\n",
       " <p>AI빅데이터 분야의 국내 최고 산학연 전문가들로 구성된 전임 교수진이 함께 합니다.<br/>국내 AI빅데이터 분야를 선도하는 산학연 겸임교수, 인적 네트워크를 통해 Program Advisory Group을 운영하여 수준 높은 교육을 제공합니다.</p>,\n",
       " <p>최신 GPU가 탑재된 딥러닝 교육 서버를 구축하여 최대 120명이 동시에 딥러닝 실습이 가능한 실습 환경을 제공합니다. 수준 높은 비대면 강의 컨텐츠 제작을 위한 K*STUDIO, 모빌리티가 강화된 최첨단 멀티미디어 계단식 강의실로 최적의 온·오프라인 강의 환경을 경험할 수 있습니다.</p>,\n",
       " <p>교과과정과 연계하여 국가공인 자격증인 빅데이터분석기사, ADsP, ADP, SQLD의 취득이 가능합니다. 산학연 전문가의 특강을 수시로 개설하여 정규 교과과정에서 다루기 어려운 최신 기술 및 실무 노하우를 습득할 수 있습니다. 또한, 업무협약을 통해 프로그래밍 등 신입생의 기초학업 능력 배양을 위한 무료 예비학교를 운영하고 있습니다.</p>,\n",
       " <p>2013년 데이터사이언스 양성을 위한 국내 최초의 대학원 석사과정을 개설한 이후로 AI빅데이터 분야 국내 최다 졸업생을 배출하였고 현재 졸업생들은 금융, 의료, 마케팅 등 다양한 분야에서 데이터 사이언티스트로 활동하고 있습니다. 이러한 교육 노하우를 인정받아 국내 대표 기업들로부터 AI빅데이터 교육을 위탁받아 진행하고 있습니다.</p>,\n",
       " <p>AI빅데이터 기술이나 데이터를 확보하고 있는 기업, 공공기관 과의 업무협약을 통해 현장문제 발굴, 실제 데이터 활용, 실무 노하우 전수 등 산학협력 기반의 실무 중심 교육을 실시하고 있습니다.</p>]"
      ]
     },
     "execution_count": 15,
     "metadata": {},
     "output_type": "execute_result"
    }
   ],
   "source": [
    "soup.select(content_selector)"
   ]
  },
  {
   "cell_type": "code",
   "execution_count": 18,
   "metadata": {},
   "outputs": [
    {
     "data": {
      "text/html": [
       "<div>\n",
       "<style scoped>\n",
       "    .dataframe tbody tr th:only-of-type {\n",
       "        vertical-align: middle;\n",
       "    }\n",
       "\n",
       "    .dataframe tbody tr th {\n",
       "        vertical-align: top;\n",
       "    }\n",
       "\n",
       "    .dataframe thead th {\n",
       "        text-align: right;\n",
       "    }\n",
       "</style>\n",
       "<table border=\"1\" class=\"dataframe\">\n",
       "  <thead>\n",
       "    <tr style=\"text-align: right;\">\n",
       "      <th></th>\n",
       "      <th>title</th>\n",
       "      <th>content</th>\n",
       "    </tr>\n",
       "  </thead>\n",
       "  <tbody>\n",
       "    <tr>\n",
       "      <th>0</th>\n",
       "      <td>수요자 중심 맞춤형 커리큘럼</td>\n",
       "      <td>AI빅데이터 기술의 실용적 활용에 필요한 기초 역량부터 프로젝트 수행까지 교육을 제...</td>\n",
       "    </tr>\n",
       "    <tr>\n",
       "      <th>1</th>\n",
       "      <td>국내 최고의 AI빅데이터 전문 교수진</td>\n",
       "      <td>AI빅데이터 분야의 국내 최고 산학연 전문가들로 구성된 전임 교수진이 함께 합니다....</td>\n",
       "    </tr>\n",
       "    <tr>\n",
       "      <th>2</th>\n",
       "      <td>최첨단 실습 환경과 최적의 온·오프라인 강의</td>\n",
       "      <td>최신 GPU가 탑재된 딥러닝 교육 서버를 구축하여 최대 120명이 동시에 딥러닝 실...</td>\n",
       "    </tr>\n",
       "    <tr>\n",
       "      <th>3</th>\n",
       "      <td>학위와 함께 자격증도 취득, 급변하는 기술은 특강으로!</td>\n",
       "      <td>교과과정과 연계하여 국가공인 자격증인 빅데이터분석기사, ADsP, ADP, SQLD...</td>\n",
       "    </tr>\n",
       "    <tr>\n",
       "      <th>4</th>\n",
       "      <td>국내 최초의 자부심을 반영하는 우수한 교육 성과</td>\n",
       "      <td>2013년 데이터사이언스 양성을 위한 국내 최초의 대학원 석사과정을 개설한 이후로 ...</td>\n",
       "    </tr>\n",
       "    <tr>\n",
       "      <th>5</th>\n",
       "      <td>현장실무 중심의 산학협력 교육</td>\n",
       "      <td>AI빅데이터 기술이나 데이터를 확보하고 있는 기업, 공공기관 과의 업무협약을 통해 ...</td>\n",
       "    </tr>\n",
       "  </tbody>\n",
       "</table>\n",
       "</div>"
      ],
      "text/plain": [
       "                            title  \\\n",
       "0                 수요자 중심 맞춤형 커리큘럼   \n",
       "1            국내 최고의 AI빅데이터 전문 교수진   \n",
       "2        최첨단 실습 환경과 최적의 온·오프라인 강의   \n",
       "3  학위와 함께 자격증도 취득, 급변하는 기술은 특강으로!   \n",
       "4      국내 최초의 자부심을 반영하는 우수한 교육 성과   \n",
       "5                현장실무 중심의 산학협력 교육   \n",
       "\n",
       "                                             content  \n",
       "0  AI빅데이터 기술의 실용적 활용에 필요한 기초 역량부터 프로젝트 수행까지 교육을 제...  \n",
       "1  AI빅데이터 분야의 국내 최고 산학연 전문가들로 구성된 전임 교수진이 함께 합니다....  \n",
       "2  최신 GPU가 탑재된 딥러닝 교육 서버를 구축하여 최대 120명이 동시에 딥러닝 실...  \n",
       "3  교과과정과 연계하여 국가공인 자격증인 빅데이터분석기사, ADsP, ADP, SQLD...  \n",
       "4  2013년 데이터사이언스 양성을 위한 국내 최초의 대학원 석사과정을 개설한 이후로 ...  \n",
       "5  AI빅데이터 기술이나 데이터를 확보하고 있는 기업, 공공기관 과의 업무협약을 통해 ...  "
      ]
     },
     "execution_count": 18,
     "metadata": {},
     "output_type": "execute_result"
    }
   ],
   "source": [
    "import pandas as pd\n",
    "scrap_df = pd.DataFrame({\n",
    "    'title': [tag.text for tag in soup.select(title_selector)],\n",
    "    'content': [tag.text for tag in soup.select(content_selector)]\n",
    "})\n",
    "scrap_df"
   ]
  },
  {
   "cell_type": "code",
   "execution_count": 19,
   "metadata": {},
   "outputs": [],
   "source": [
    "# 크롤링이 끝난후 반드시 브라우저 자원을 반납해야함.\n",
    "driver.close()\n",
    "driver.quit()"
   ]
  },
  {
   "cell_type": "markdown",
   "metadata": {},
   "source": [
    "#### #3.과제 : 국민대학교 교양대학 교양아고라 [인생책 100 리스트 - 교수님이 추천하신 인생책] 의 책정보를 수집해서 supabase에 저장할 것.\n",
    "* https://culture.kookmin.ac.kr/agora/100list/"
   ]
  },
  {
   "cell_type": "code",
   "execution_count": null,
   "metadata": {},
   "outputs": [],
   "source": []
  },
  {
   "cell_type": "markdown",
   "metadata": {},
   "source": [
    "박선아님"
   ]
  }
 ],
 "metadata": {
  "kernelspec": {
   "display_name": "llm",
   "language": "python",
   "name": "python3"
  },
  "language_info": {
   "codemirror_mode": {
    "name": "ipython",
    "version": 3
   },
   "file_extension": ".py",
   "mimetype": "text/x-python",
   "name": "python",
   "nbconvert_exporter": "python",
   "pygments_lexer": "ipython3",
   "version": "3.12.3"
  }
 },
 "nbformat": 4,
 "nbformat_minor": 2
}
