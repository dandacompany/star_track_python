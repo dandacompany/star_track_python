{
  "cells": [
    {
      "cell_type": "markdown",
      "metadata": {},
      "source": [
        "##  Python 기반 기초 통계 🐍"
      ]
    },
    {
      "cell_type": "markdown",
      "metadata": {},
      "source": [
        "## ☀️ DAY 1: Python을 활용한 핵심 통계 개념 정복\n",
        "---"
      ]
    },
    {
      "cell_type": "markdown",
      "metadata": {
        "id": "Jla-np94WoQb"
      },
      "source": [
        "## 🎲 M2. 확률·분포 심층 탐구 및 활용\n",
        "\n",
        "### 🎯 **학습 목표**:\n",
        "\n",
        "* 데이터 분석에서 확률분포를 이해하는 것의 중요성을 인지합니다.\n",
        "* 주요 이산 및 연속 확률분포(정규분포, t-분포, 카이제곱분포, 감마분포, 지수분포, 로그정규분포, 포아송분포, 이항분포, 베타분포, 파레토분포 등)의 특징과 실제 활용 사례를 이해합니다.\n",
        "* 확률질량/밀도함수(PMF/PDF), 누적분포함수(CDF), 생존함수(SF)의 개념과 차이점을 명확히 파악합니다.\n",
        "* Python을 활용하여 데이터의 분포를 시각화하고, 특정 분포에 대한 적합성을 검정하는 방법(시각적 검토 및 통계적 검정)을 익힙니다.\n",
        "---\n",
        "\n",
        "### 🌟 **왜 데이터 분석에서 확률분포를 알아야 할까요?**\n",
        "\n",
        "확률분포는 데이터 분석의 핵심적인 도구입니다. 우리가 확률분포를 알아야 하는 이유는 다음과 같습니다:\n",
        "1. **데이터의 기본적인 모습 이해하기**\n",
        "    - 데이터가 어떤 모양인지, 얼마나 들쭉날쭉한지, 평균이나 중앙값이 어디쯤인지 쉽게 알 수 있습니다.\n",
        "    - 예시: 만약 고객의 구매 금액이 로그정규분포를 따른다면, 평균보다는 중앙값이나 분위수를 기준으로 전략을 세우는 것이 더 좋습니다.\n",
        "\n",
        "2. **알맞은 통계 분석 방법 고르기**\n",
        "    - 많은 통계 분석 방법은 데이터가 어떤 분포를 따른다고 가정합니다.\n",
        "    - 예시: 선형 회귀 분석에서는 실제값과 예측값의 차이(잔차)가 정규분포를 따른다고 생각합니다.\n",
        "    - 데이터의 분포를 알아야 분석 방법을 제대로 고르고, 그 방법이 맞는지도 확인할 수 있습니다.\n",
        "\n",
        "3. **가설 검정과 신뢰구간 계산**\n",
        "    - 데이터가 어떤 분포를 따르는지 알면, 미래에 값이 어느 범위에 있을지 예측하거나, 어떤 일이 일어날 확률을 계산할 수 있습니다.\n",
        "    - 예시: 하루 동안 웹사이트 에러가 포아송 분포를 따른다면, 내일 에러가 몇 번 날지 미리 예측할 수 있습니다.\n",
        "\n",
        "4. **가상 데이터 만들기와 시뮬레이션**\n",
        "    - 특정 분포를 따르는 가짜 데이터를 만들어서 여러 상황을 미리 실험해볼 수 있습니다.\n",
        "    - 예시: 시스템이 얼마나 잘 작동하는지 테스트하거나, 여러 선택지 중 어떤 결과가 나올지 미리 시뮬레이션할 때 사용합니다.\n",
        "\n",
        "5. **이상치(특이한 값) 찾기**\n",
        "    - 데이터가 어떤 분포를 따른다고 생각할 때, 그 분포에서 많이 벗어난 값은 이상치로 볼 수 있습니다.\n",
        "    - 예시: 정규분포에서 평균에서 3배 이상 멀리 떨어진 값은 이상치로 판단하는 경우가 많습니다.\n",
        "\n",
        "결국, 확률분포를 이해하면 데이터를 더 쉽게 분석하고, 더 정확한 결론을 내릴 수 있으며, 더 좋은 의사결정을 할 수 있습니다.\n",
        "\n",
        "---"
      ]
    },
    {
      "cell_type": "markdown",
      "metadata": {},
      "source": [
        "\n",
        "### 💡 **개념 (Concept)**\n",
        "\n",
        "1. **확률 변수 (Random Variable) 와 확률 분포 (Probability Distribution)**:\n",
        "    * **확률 변수**: 무작위 실험의 결과에 의해 값이 결정되는 변수입니다.\n",
        "        * **이산형 확률 변수 (Discrete Random Variable)**: 셀 수 있는 값(주로 정수)을 가집니다. (예: 주사위 눈, 하루 동안의 고객 방문 수, 이메일의 스팸 여부(0 또는 1))\n",
        "        * **연속형 확률 변수 (Continuous Random Variable)**: 특정 범위 내의 모든 실수 값을 가질 수 있습니다. (예: 키, 몸무게, 온도, 시간, 주가 수익률)\n",
        "    * **확률 분포**: 확률 변수가 특정 값 또는 값의 범위에 속할 확률을 나타내는 함수 또는 규칙입니다.\n",
        "  \n",
        "  \n",
        "2. **주요 연속 확률 분포**"
      ]
    },
    {
      "cell_type": "markdown",
      "metadata": {},
      "source": [
        "<style>\n",
        "hl {\n",
        "    color: #1500FFFF;\n",
        "    font-weight: bold;\n",
        "    background: none;\n",
        "}\n",
        "th:first-child, td:first-child {\n",
        "    min-width: 80px;\n",
        "    max-width: 80px;\n",
        "    width: 80px;\n",
        "    text-align: center;\n",
        "}\n",
        "/* 표 헤더와 5번째 행까지 배경 흰색, 글자 검정색 */\n",
        "table, th, td {\n",
        "    color: #111 !important;\n",
        "}\n",
        "thead tr, thead th {\n",
        "    background: #F1EDAFFF !important;\n",
        "    color: #111 !important;\n",
        "}\n",
        "tbody tr:nth-child(-n+4) {\n",
        "    background: #F1EDAFFF !important;\n",
        "    color: #111 !important;\n",
        "}\n",
        "/* 6행부터 배경색을 옅은 그레이(#f5f5f5)로 지정 */\n",
        "tbody tr:nth-child(n+5) {\n",
        "    background: #f5f5f5 !important;\n",
        "    color: #111 !important;\n",
        "}\n",
        "</style>\n",
        "\n",
        "| 분포 제목 | 분포 정의 | 주요 특징 | 활용 |\n",
        "|---|---|---|---|\n",
        "| 정규 분포 | $N(\\mu, \\sigma^2)$ | 자연 현상 및 사회 현상에서 가장 흔하게 발견되는 <hl>종 모양의 대칭적인 분포</hl>임.<br>평균($\\mu$)과 표준편차($\\sigma$) 두 모수에 의해 모양이 결정됨.<br>평균 = 중앙값 = 최빈값임.<br><hl>표준 정규 분포</hl>는 $Z \\sim N(0,1)$로, <hl>평균이 0이고 표준편차가 1</hl>인 특별한 정규 분포임.<br>Z-점수 변환 $Z = (X-\\mu)/\\sigma$를 통해 표준화함.<br> | 많은 통계적 방법론의 기초 가정임.<br>금융 자산의 수익률 모델링(근사적으로) 및 측정 오차 등에서 활용함.<br> |\n",
        "| t-분포 | 정규 분포와 유사한 종 모양이지만, 꼬리가 더 두꺼움(fat tails). | <hl>극단적인 값이 나타날 확률이 정규분포보다 높음</hl>.<br><hl>모집단의 분산($\\sigma^2$)을 알지 못하고 표본 크기(n)가 작을 때, 표본 평균($\\bar{x}$)을 이용하여 모평균($\\mu$)을 추정하거나 검정</hl>할 때 사용함.<br>자유도(df)에 따라 모양이 변하며, 자유도가 커질수록 표준 정규 분포에 근사함(df = n-1).<br> | 소표본에서의 평균 검정 및 추정,<br>금융 데이터 모델링(정규분포보다 꼬리가 두꺼운 현상 반영)에 활용함.<br> |\n",
        "| 카이제곱 분포 | 여러 개(k개)의 서로 <hl>독립적인 표준정규분포를 따르는 확률변수들을 각각 제곱한 다음 모두 더해서 얻어지는 분포</hl>임.<br>$\\chi^2(k)$로 표기하며, k는 자유도임.<br> | 오른쪽으로 긴 꼬리를 가지는 비대칭 분포임.<br>자유도가 커질수록 대칭성에 가까워짐.<br> | <hl>분산 추정 및 검정,<br>적합도 검정,<br>독립성 검정 등에 활용함.</hl><br> |\n",
        "| 지수 분포 | 어떤 사건이 처음 발생하기까지 걸리는 대기 시간,<br>또는 포아송 과정에서 연속된 사건들 사이의 시간에 대한 분포임.<br> | 단일 모수 $\\lambda$ 또는 $\\beta = 1/\\lambda$를 가짐.<br><hl>$\\lambda$는 단위 시간당 평균 사건 발생 횟수임.</hl><br>과거에 얼마나 기다렸는지가 미래에 기다릴 시간에 영향을 주지 않음.<br> | 부품의 수명 예측,<br>고객이 서비스 받기까지 기다리는 시간,<br>방사성 붕괴 시간 모델링 등에 활용함.<br> |\n",
        "| 감마 분포 | <hl>여러 독립적인 지수 분포 변수들의 합</hl>으로 볼 수 있으며,<br>k번째 사건이 발생하기까지 걸리는 총 대기 시간을 모델링함.<br> | 형태 모수 $\\alpha$ (또는 $k$)와 비율 모수 $\\beta$ (또는 척도 모수 $\\theta = 1/\\beta$)를 가짐.<br>$\\alpha=1$일 때 지수 분포가 됨.<br>$\\alpha$가 커질수록 분포는 대칭적인 모양에 가까워짐.<br> | 대기 시간,<br>고장 시간,<br>강우량,<br>보험 청구액 모델링 등에 활용함.<br>지수 분포보다 더 유연한 형태를 가짐.<br> |\n",
        "| 로그-정규 분포| 확률 변수 $X$에 로그를 취한 $\\ln(X)$가 정규분포를 따를 때, $X$는 로그-정규 분포를 따름.<br> | 항상 양수 값을 가지며,<br>오른쪽으로 긴 꼬리를 가진 왜곡된 분포임.<br> | 주가,<br>소득,<br>특정 생물 종의 크기 등 양의 값을 가지며 변동성이 큰 데이터 모델링에 활용함.<br> |\n",
        "| 베타 분포  | 0과 1 사이의 값을 가지는 연속 확률 변수를 모델링하는 데 사용함.<br> | 두 개의 양의 형태 모수 $\\alpha$와 $\\beta$를 가짐.<br>이 모수들의 값에 따라 매우 다양한 형태의 분포를 나타낼 수 있음(U자형, 종형, 직선형 등).<br> | 성공 확률,<br>비율,<br>백분율 등의 분포를 모델링함.<br>베이즈 통계에서 사전 확률 분포로 자주 사용됨(예: 동전 던지기의 앞면이 나올 확률의 분포).<br> |\n",
        "| 파레토 분포 | <hl>\"소수의 원인이 다수의 결과를 만든다\"는 파레토 법칙(80-20 법칙)</hl>을 설명하는 데 사용되는 멱법칙 분포의 한 예임.<br> | 오른쪽으로 매우 긴 꼬리(heavy tail)를 가지며,<br>극단적인 값들이 나타날 확률이 상대적으로 높음.<br>형태 모수 $\\alpha$(꼬리 지수)와 최소값 모수 $x_m$을 가짐.<br> | 소득 및 부의 분포,<br>도시 인구 규모,<br>인터넷 트래픽,<br>주식 시장의 큰 변동,<br>지진의 강도 등에 활용함.<br> |\n",
        "| 혼합 모델 | 여러 개의 단순한 <hl>확률 분포(구성 요소)가 가중 결합</hl>되어 만들어지는 더 복잡한 분포임.<br> | 데이터가 서로 다른 여러 하위 그룹에서 비롯된 것으로 보일 때 유용함.<br>가우시안 혼합 모델(GMM)은 여러 정규 분포를 결합하여 다봉 형태의 데이터를 모델링함.<br> | 군집 분석,<br>밀도 추정,<br>이상 탐지 등에 활용함.<br> |"
      ]
    },
    {
      "cell_type": "code",
      "execution_count": 17,
      "metadata": {},
      "outputs": [
        {
          "data": {
            "application/vnd.plotly.v1+json": {
              "config": {
                "plotlyServerURL": "https://plot.ly"
              },
              "data": [
                {
                  "name": "N(0,1)",
                  "showlegend": false,
                  "type": "scatter",
                  "x": {
                    "bdata": "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",
                    "dtype": "f8"
                  },
                  "xaxis": "x",
                  "y": {
                    "bdata": "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",
                    "dtype": "f8"
                  },
                  "yaxis": "y"
                },
                {
                  "name": "t(df=5)",
                  "showlegend": false,
                  "type": "scatter",
                  "x": {
                    "bdata": "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",
                    "dtype": "f8"
                  },
                  "xaxis": "x2",
                  "y": {
                    "bdata": "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",
                    "dtype": "f8"
                  },
                  "yaxis": "y2"
                },
                {
                  "name": "chi2(df=4)",
                  "showlegend": false,
                  "type": "scatter",
                  "x": {
                    "bdata": "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",
                    "dtype": "f8"
                  },
                  "xaxis": "x3",
                  "y": {
                    "bdata": "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",
                    "dtype": "f8"
                  },
                  "yaxis": "y3"
                },
                {
                  "name": "expon(λ=1)",
                  "showlegend": false,
                  "type": "scatter",
                  "x": {
                    "bdata": "AAAAAAAAAACASAEiBYiUP4BIASIFiKQ/wOwBswfMrj+ASAEiBYi0P6CagWoGqrk/wOwBswfMvj9wH8F9BPfBP4BIASIFiMQ/kHFBxgUZxz+gmoFqBqrJP7DDwQ4HO8w/wOwBswfMzj/oCqErhK7QP3AfwX0E99E/+DPhz4Q/0z+ASAEiBYjUPwhdIXSF0NU/kHFBxgUZ1z8YhmEYhmHYP6CagWoGqtk/KK+hvIby2j+ww8EOBzvcPzjY4WCHg90/wOwBswfM3j+kAJECRArgP+gKoSuEruA/LBWxVMRS4T9wH8F9BPfhP7Qp0aZEm+I/+DPhz4Q/4z88PvH4xOPjP4BIASIFiOQ/xFIRS0Us5T8IXSF0hdDlP0xnMZ3FdOY/kHFBxgUZ5z/Ue1HvRb3nPxiGYRiGYeg/XJBxQcYF6T+gmoFqBqrpP+SkkZNGTuo/KK+hvIby6j9subHlxpbrP7DDwQ4HO+w/9M3RN0ff7D842OFgh4PtP3zi8YnHJ+4/wOwBswfM7j8E9xHcR3DvP6QAkQJECvA/xgUZF2Rc8D/oCqErhK7wPwoQKUCkAPE/LBWxVMRS8T9OGjlp5KTxP3AfwX0E9/E/kiRJkiRJ8j+0KdGmRJvyP9YuWbtk7fI/+DPhz4Q/8z8aOWnkpJHzPzw+8fjE4/M/XkN5DeU19D+ASAEiBYj0P6JNiTYl2vQ/xFIRS0Us9T/mV5lfZX71PwhdIXSF0PU/KmKpiKUi9j9MZzGdxXT2P25subHlxvY/kHFBxgUZ9z+ydsnaJWv3P9R7Ue9Fvfc/9oDZA2YP+D8YhmEYhmH4PzqL6Syms/g/XJBxQcYF+T9+lflV5lf5P6CagWoGqvk/wp8Jfyb8+T/kpJGTRk76PwaqGahmoPo/KK+hvIby+j9KtCnRpkT7P2y5seXGlvs/jr45+ubo+z+ww8EOBzv8P9LISSMnjfw/9M3RN0ff/D8W01lMZzH9PzjY4WCHg/0/Wt1pdafV/T984vGJxyf+P57neZ7nef4/wOwBswfM/j/i8YnHJx7/PwT3EdxHcP8/JvyZ8GfC/z+kAJECRAoAQDUD1QxUMwBAxgUZF2RcAEBXCF0hdIUAQOgKoSuErgBAeQ3lNZTXAEAKEClApAABQJsSbUq0KQFALBWxVMRSAUC9F/Ve1HsBQE4aOWnkpAFA3xx9c/TNAUBwH8F9BPcBQAEiBYgUIAJAkiRJkiRJAkAjJ42cNHICQLQp0aZEmwJARSwVsVTEAkDWLlm7ZO0CQGcxncV0FgNA+DPhz4Q/A0CJNiXalGgDQBo5aeSkkQNAqzut7rS6A0A8PvH4xOMDQM1ANQPVDARAXkN5DeU1BEDvRb0X9V4EQIBIASIFiARAEUtFLBWxBECiTYk2JdoEQDNQzUA1AwVAxFIRS0UsBUBVVVVVVVUFQOZXmV9lfgVAd1rdaXWnBUAIXSF0hdAFQJlfZX6V+QVAKmKpiKUiBkC7ZO2StUsGQExnMZ3FdAZA3Wl1p9WdBkBubLmx5cYGQP9u/bv17wZAkHFBxgUZB0AhdIXQFUIHQLJ2ydolawdAQ3kN5TWUB0DUe1HvRb0HQGV+lflV5gdA9oDZA2YPCECHgx0OdjgIQBiGYRiGYQhAqYilIpaKCEA6i+ksprMIQMuNLTe23AhAXJBxQcYFCUDtkrVL1i4JQH6V+VXmVwlAD5g9YPaACUCgmoFqBqoJQDGdxXQW0wlAwp8Jfyb8CUBTok2JNiUKQOSkkZNGTgpAdafVnVZ3CkAGqhmoZqAKQJesXbJ2yQpAKK+hvIbyCkC5seXGlhsLQEq0KdGmRAtA27Zt27ZtC0BsubHlxpYLQP279e/WvwtAjr45+uboC0AfwX0E9xEMQLDDwQ4HOwxAQcYFGRdkDEDSyEkjJ40MQGPLjS03tgxA9M3RN0ffDECF0BVCVwgNQBbTWUxnMQ1Ap9WdVndaDUA42OFgh4MNQMnaJWuXrA1AWt1pdafVDUDr361/t/4NQHzi8YnHJw5ADeU1lNdQDkCe53me53kOQC/qvaj3og5AwOwBswfMDkBR70W9F/UOQOLxiccnHg9Ac/TN0TdHD0AE9xHcR3APQJX5VeZXmQ9AJvyZ8GfCD0C3/t36d+sPQKQAkQJEChBA7AGzB8weEEA1A9UMVDMQQH4E9xHcRxBAxgUZF2RcEEAOBzsc7HAQQFcIXSF0hRBAoAl/JvyZEEDoCqErhK4QQDAMwzAMwxBAeQ3lNZTXEEDCDgc7HOwQQAoQKUCkABFAUhFLRSwVEUCbEm1KtCkRQOQTj088PhFALBWxVMRSEUB0FtNZTGcRQL0X9V7UexFABhkXZFyQEUBOGjlp5KQRQJYbW25suRFA3xx9c/TNEUAoHp94fOIRQHAfwX0E9xFAuCDjgowLEkABIgWIFCASQEojJ42cNBJAkiRJkiRJEkDaJWuXrF0SQCMnjZw0chJAbCivobyGEkC0KdGmRJsSQPwq86vMrxJARSwVsVTEEkCOLTe23NgSQNYuWbtk7RJAHjB7wOwBE0BnMZ3FdBYTQLAyv8r8KhNA+DPhz4Q/E0BANQPVDFQTQIk2JdqUaBNA0jdH3xx9E0AaOWnkpJETQGI6i+ksphNAqzut7rS6E0D0PM/zPM8TQDw+8fjE4xNAhD8T/kz4E0DNQDUD1QwUQBZCVwhdIRRAXkN5DeU1FECmRJsSbUoUQO9FvRf1XhRAOEffHH1zFECASAEiBYgUQMhJIyeNnBRAEUtFLBWxFEBaTGcxncUUQKJNiTYl2hRA6k6rO63uFEAzUM1ANQMVQHxR70W9FxVAxFIRS0UsFUAMVDNQzUAVQFVVVVVVVRVAnlZ3Wt1pFUDmV5lfZX4VQC5Zu2TtkhVAd1rdaXWnFUDAW/9u/bsVQAhdIXSF0BVAUF5DeQ3lFUCZX2V+lfkVQOJgh4MdDhZAKmKpiKUiFkByY8uNLTcWQLtk7ZK1SxZABGYPmD1gFkBMZzGdxXQWQJRoU6JNiRZA3Wl1p9WdFkAma5esXbIWQG5subHlxhZAtm3btm3bFkD/bv279e8WQEhwH8F9BBdAkHFBxgUZF0DYcmPLjS0XQCF0hdAVQhdAanWn1Z1WF0CydsnaJWsXQPp369+tfxdAQ3kN5TWUF0CMei/qvagXQNR7Ue9FvRdAHH1z9M3RF0BlfpX5VeYXQK5/t/7d+hdA9oDZA2YPGEA+gvsI7iMYQIeDHQ52OBhA0IQ/E/5MGEAYhmEYhmEYQGCHgx0OdhhAqYilIpaKGEDyiccnHp8YQDqL6SymsxhAgowLMi7IGEDLjS03ttwYQBSPTzw+8RhAXJBxQcYFGUCkkZNGThoZQO2StUvWLhlANpTXUF5DGUB+lflV5lcZQMaWG1tubBlAD5g9YPaAGUBYmV9lfpUZQKCagWoGqhlA6Jujb46+GUAxncV0FtMZQHqe53me5xlAwp8Jfyb8GUAKoSuErhAaQFOiTYk2JRpAnKNvjr45GkDkpJGTRk4aQCyms5jOYhpAdafVnVZ3GkC+qPei3osaQAaqGahmoBpATqs7re60GkCXrF2ydskaQOCtf7f+3RpAKK+hvIbyGkBwsMPBDgcbQLmx5caWGxtAArMHzB4wG0BKtCnRpkQbQJK1S9YuWRtA27Zt27ZtG0AkuI/gPoIbQGy5seXGlhtAtLrT6k6rG0D9u/Xv1r8bQEa9F/Ve1BtAjr45+uboG0DWv1v/bv0bQB/BfQT3ERxAaMKfCX8mHECww8EOBzscQPjE4xOPTxxAQcYFGRdkHECKxycen3gcQNLISSMnjRxAGsprKK+hHEBjy40tN7YcQKzMrzK/yhxA9M3RN0ffHEA8z/M8z/McQIXQFUJXCB1AztE3R98cHUAW01lMZzEdQF7Ue1HvRR1Ap9WdVndaHUDw1r9b/24dQDjY4WCHgx1AgNkDZg+YHUDJ2iVrl6wdQBLcR3AfwR1AWt1pdafVHUCi3ot6L+odQOvfrX+3/h1ANOHPhD8THkB84vGJxyceQMTjE49PPB5ADeU1lNdQHkBW5leZX2UeQJ7neZ7neR5A5uibo2+OHkAv6r2o96IeQHjr361/tx5AwOwBswfMHkAI7iO4j+AeQFHvRb0X9R5AmvBnwp8JH0Di8YnHJx4fQCrzq8yvMh9Ac/TN0TdHH0C89e/Wv1sfQAT3EdxHcB9ATPgz4c+EH0CV+VXmV5kfQN76d+vfrR9AJvyZ8GfCH0Bu/bv179YfQLf+3fp36x9AAAAAAAAAIEA=",
                    "dtype": "f8"
                  },
                  "xaxis": "x4",
                  "y": {
                    "bdata": "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",
                    "dtype": "f8"
                  },
                  "yaxis": "y4"
                },
                {
                  "name": "gamma(a=2, scale=2)",
                  "showlegend": false,
                  "type": "scatter",
                  "x": {
                    "bdata": "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",
                    "dtype": "f8"
                  },
                  "xaxis": "x5",
                  "y": {
                    "bdata": "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",
                    "dtype": "f8"
                  },
                  "yaxis": "y5"
                },
                {
                  "name": "lognorm(s=0.6)",
                  "showlegend": false,
                  "type": "scatter",
                  "x": {
                    "bdata": "exSuR+F6hD+bZi6Q4pyZP3zhQj4qfqQ/q49uNOMtrD/tHk0Vzu6xPwT2YpCqxrU/G814C4eeuT8zpI6GY3a9P6U90gAgp8A/MSldPg6Twj+9FOh7/H7EP0kAc7nqasY/1Ov99thWyD9g14g0x0LKP+zCE3K1Lsw/d66er6Mazj8BzZT2SAPQP8dCWhVA+dA/jbgfNDfv0T9TLuVSLuXSPxmkqnEl29M/3xlwkBzR1D+ljzWvE8fVP2oF+80KvdY/MHvA7AGz1z/28IUL+ajYP7xmSyrwntk/gtwQSeeU2j9IUtZn3orbPw3Im4bVgNw/0z1hpcx23T+ZsybEw2zeP18p7OK6Yt8/ks/YAFks4D91ijuQVKfgP1hFnh9QIuE/OwABr0ud4T8eu2M+RxjiPwF2xs1Ck+I/5DApXT4O4z/H64vsOYnjP6qm7ns1BOQ/jWFRCzF/5D9wHLSaLPrkP1PXFioodeU/NZJ5uSPw5T8YTdxIH2vmP/sHP9ga5uY/3sKhZxZh5z/BfQT3EdznP6Q4Z4YNV+g/h/PJFQnS6D9qriylBE3pP01pjzQAyOk/MCTyw/tC6j8T31RT973qP/aZt+LyOOs/2VQacu6z6z+7D30B6i7sP57K35Dlqew/gYVCIOEk7T9kQKWv3J/tP0f7Bz/YGu4/KrZqztOV7j8Ncc1dzxDvP/ArMO3Ki+8/aXNJPmMD8D/b0PoF4UDwP0wurM1efvA/votdldy78D8v6Q5dWvnwP6FGwCTYNvE/EqRx7FV08T+EASO007HxP/Ve1HtR7/E/Z7yFQ88s8j/YGTcLTWryP0l36NLKp/I/u9SZmkjl8j8sMktixiLzP56P/ClEYPM/D+2t8cGd8z+BSl+5P9vzP/KnEIG9GPQ/ZAXCSDtW9D/VYnMQuZP0P0fAJNg20fQ/uB3Wn7QO9T8qe4dnMkz1P5vYOC+wifU/DDbq9i3H9T9+k5u+qwT2P+/wTIYpQvY/YU7+Tad/9j/Sq68VJb32P0QJYd2i+vY/tWYSpSA49z8nxMNsnnX3P5ghdTQcs/c/Cn8m/Jnw9z973NfDFy74P+05iYuVa/g/Xpc6UxOp+D/P9Osakeb4P0FSneIOJPk/sq9Oqoxh+T8kDQByCp/5P5VqsTmI3Pk/B8hiAQYa+j94JRTJg1f6P+qCxZABlfo/W+B2WH/S+j/NPSgg/Q/7Pz6b2ed6Tfs/sPiKr/iK+z8hVjx3dsj7P5Kz7T70Bfw/BBGfBnJD/D91blDO74D8P+fLAZZtvvw/WCmzXev7/D/KhmQlaTn9PzvkFe3mdv0/rUHHtGS0/T8en3h84vH9P5D8KURgL/4/AVrbC95s/j9zt4zTW6r+P+QUPpvZ5/4/VXLvYlcl/z/Hz6Aq1WL/PzgtUvJSoP8/qooDutDd/z8NdNpApw0AQMYisyRmLABAf9GLCCVLAEA3gGTs42kAQPAuPdCiiABAqd0VtGGnAEBijO6XIMYAQBo7x3vf5ABA0+mfX54DAUCMmHhDXSIBQERHUSccQQFA/fUpC9tfAUC2pALvmX4BQG9T29JYnQFAJwK0the8AUDgsIya1toBQJlfZX6V+QFAUg4+YlQYAkAKvRZGEzcCQMNr7ynSVQJAfBrIDZF0AkA0yaDxT5MCQO13edUOsgJApiZSuc3QAkBf1SqdjO8CQBeEA4FLDgNA0DLcZAotA0CJ4bRIyUsDQEKQjSyIagNA+j5mEEeJA0Cz7T70BagDQGycF9jExgNAJUvwu4PlA0Dd+cifQgQEQJaooYMBIwRAT1d6Z8BBBEAHBlNLf2AEQMC0Ky8+fwRAeWMEE/2dBEAyEt32u7wEQOrAtdp62wRAo2+Ovjn6BEBcHmei+BgFQBXNP4a3NwVAzXsYanZWBUCGKvFNNXUFQD/ZyTH0kwVA94eiFbOyBUCwNnv5cdEFQGnlU90w8AVAIpQswe8OBkDaQgWlri0GQJPx3YhtTAZATKC2bCxrBkAFT49Q64kGQL39ZzSqqAZAdqxAGGnHBkAvWxn8J+YGQOgJ8t/mBAdAoLjKw6UjB0BZZ6OnZEIHQBIWfIsjYQdAysRUb+J/B0CDcy1ToZ4HQDwiBjdgvQdA9dDeGh/cB0Ctf7f+3foHQGYukOKcGQhAH91oxls4CEDYi0GqGlcIQJA6Go7ZdQhASenycZiUCEACmMtVV7MIQLpGpDkW0ghAc/V8HdXwCEAspFUBlA8JQOVSLuVSLglAnQEHyRFNCUBWsN+s0GsJQA9fuJCPiglAyA2RdE6pCUCAvGlYDcgJQDlrQjzM5glA8hkbIIsFCkCryPMDSiQKQGN3zOcIQwpAHCaly8dhCkDV1H2vhoAKQI2DVpNFnwpARjIvdwS+CkD/4Adbw9wKQLiP4D6C+wpAcD65IkEaC0Ap7ZEGADkLQOKbauq+VwtAm0pDzn12C0BT+RuyPJULQAyo9JX7swtAxVbNebrSC0B9BaZdefELQDa0fkE4EAxA72JXJfcuDECoETAJtk0MQGDACO10bAxAGW/h0DOLDEDSHbq08qkMQIvMkpixyAxAQ3trfHDnDED8KURgLwYNQLXYHETuJA1Abof1J61DDUAmNs4LbGINQN/kpu8qgQ1AmJN/0+mfDUBQQli3qL4NQAnxMJtn3Q1Awp8Jfyb8DUB7TuJi5RoOQDP9ukakOQ5A7KuTKmNYDkClWmwOIncOQF4JRfLglQ5AFrgd1p+0DkDPZva5XtMOQIgVz50d8g5AQMSngdwQD0D5coBlmy8PQLIhWUlaTg9Aa9AxLRltD0AjfwoR2IsPQNwt4/SWqg9Aldy72FXJD0BOi5S8FOgPQAOdNtBpAxBAYPQiQskSEEC8Sw+0KCIQQBij+yWIMRBAdfrnl+dAEEDRUdQJR1AQQC2pwHumXxBAigCt7QVvEEDmV5lfZX4QQEKvhdHEjRBAnwZyQySdEED7XV61g6wQQFi1SifjuxBAtAw3mULLEEAQZCMLotoQQG27D30B6hBAyRL87mD5EEAlauhgwAgRQILB1NIfGBFA3hjBRH8nEUA6cK223jYRQJfHmSg+RhFA8x6Gmp1VEUBQdnIM/WQRQKzNXn5cdBFACCVL8LuDEUBlfDdiG5MRQMHTI9R6ohFAHSsQRtqxEUB6gvy3OcERQNbZ6CmZ0BFAMjHVm/jfEUCPiMENWO8RQOvfrX+3/hFASDea8RYOEkCkjoZjdh0SQADmctXVLBJAXT1fRzU8EkC5lEu5lEsSQBXsNyv0WhJAckMknVNqEkDOmhAPs3kSQCry/IASiRJAh0np8nGYEkDjoNVk0acSQED4wdYwtxJAnE+uSJDGEkD4ppq679USQFX+hixP5RJAsVVznq70EkANrV8QDgQTQGoETIJtExNAxls49MwiE0AjsyRmLDITQH8KEdiLQRNA22H9SetQE0A4uem7SmATQJQQ1i2qbxNA8GfCnwl/E0BNv64RaY4TQKkWm4PInRNABW6H9SetE0BixXNnh7wTQL4cYNnmyxNAG3RMS0bbE0B3yzi9peoTQNMiJS8F+hNAMHoRoWQJFECM0f0SxBgUQOgo6oQjKBRARYDW9oI3FECh18Jo4kYUQP0ur9pBVhRAWoabTKFlFEC23Ye+AHUUQBM1dDBghBRAb4xgor+TFEDL40wUH6MUQCg7OYZ+shRAhJIl+N3BFEDg6RFqPdEUQD1B/tuc4BRAmZjqTfzvFED179a/W/8UQFJHwzG7DhVArp6voxoeFUAL9psVei0VQGdNiIfZPBVAw6R0+ThMFUAg/GBrmFsVQHxTTd33ahVA2Ko5T1d6FUA1AibBtokVQJFZEjMWmRVA7bD+pHWoFUBKCOsW1bcVQKZf14g0xxVAA7fD+pPWFUBfDrBs8+UVQLtlnN5S9RVAGL2IULIEFkB0FHXCERQWQNBrYTRxIxZALcNNptAyFkCJGjoYMEIWQOZxJoqPURZAQskS/O5gFkCeIP9tTnAWQPt369+tfxZAV8/XUQ2PFkCzJsTDbJ4WQBB+sDXMrRZAbNWcpyu9FkDILIkZi8wWQCWEdYvq2xZAgdth/UnrFkDeMk5vqfoWQDqKOuEIChdAluEmU2gZF0DzOBPFxygXQE+Q/zYnOBdAq+frqIZHF0AIP9ga5lYXQGSWxIxFZhdAwO2w/qR1F0AdRZ1wBIUXQHmcieJjlBdA1vN1VMOjF0AyS2LGIrMXQI6iTjiCwhdA6/k6quHRF0BHUSccQeEXQKOoE46g8BdAAAAAAAAAGEA=",
                    "dtype": "f8"
                  },
                  "xaxis": "x6",
                  "y": {
                    "bdata": "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",
                    "dtype": "f8"
                  },
                  "yaxis": "y6"
                },
                {
                  "name": "beta(a=2, b=5)",
                  "showlegend": false,
                  "type": "scatter",
                  "x": {
                    "bdata": "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",
                    "dtype": "f8"
                  },
                  "xaxis": "x7",
                  "y": {
                    "bdata": "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",
                    "dtype": "f8"
                  },
                  "yaxis": "y7"
                },
                {
                  "name": "pareto(α=2)",
                  "showlegend": false,
                  "type": "scatter",
                  "x": {
                    "bdata": "AAAAAAAA8D9+BPcR3EfwP/wI7iO4j/A/eQ3lNZTX8D/3EdxHcB/xP3UW01lMZ/E/8hrKayiv8T9wH8F9BPfxP+4juI/gPvI/bCivobyG8j/qLKazmM7yP2cxncV0FvM/5TWU11Be8z9jOovpLKbzP+A+gvsI7vM/XkN5DeU19D/cR3AfwX30P1pMZzGdxfQ/2FBeQ3kN9T9VVVVVVVX1P9NZTGcxnfU/UV5DeQ3l9T/OYjqL6Sz2P0xnMZ3FdPY/ymsor6G89j9IcB/BfQT3P8Z0FtNZTPc/Q3kN5TWU9z/BfQT3Edz3Pz+C+wjuI/g/vIbyGspr+D86i+ksprP4P7iP4D6C+/g/NpTXUF5D+T+0mM5iOov5PzGdxXQW0/k/r6G8hvIa+j8tprOYzmL6P6qqqqqqqvo/KK+hvIby+j+ms5jOYjr7PyS4j+A+gvs/oryG8hrK+z8fwX0E9xH8P53FdBbTWfw/G8prKK+h/D+YzmI6i+n8PxbTWUxnMf0/lNdQXkN5/T8S3EdwH8H9P5DgPoL7CP4/DeU1lNdQ/j+L6Syms5j+PwnuI7iP4P4/hvIaymso/z8E9xHcR3D/P4L7CO4juP8/AAAAAAAAAEA/gvsI7iMAQH4E9xHcRwBAvIbyGsprAED8CO4juI8AQDqL6SymswBAeQ3lNZTXAEC4j+A+gvsAQPcR3EdwHwFANpTXUF5DAUB0FtNZTGcBQLSYzmI6iwFA8hrKayivAUAxncV0FtMBQHAfwX0E9wFAr6G8hvIaAkDuI7iP4D4CQC2ms5jOYgJAbCivobyGAkCqqqqqqqoCQOosprOYzgJAKK+hvIbyAkBnMZ3FdBYDQKazmM5iOgNA5TWU11BeA0AkuI/gPoIDQGI6i+kspgNAoryG8hrKA0DgPoL7CO4DQB/BfQT3EQRAXkN5DeU1BECdxXQW01kEQNxHcB/BfQRAG8prKK+hBEBaTGcxncUEQJjOYjqL6QRA2FBeQ3kNBUAW01lMZzEFQFVVVVVVVQVAlNdQXkN5BUDTWUxnMZ0FQBLcR3AfwQVAUF5DeQ3lBUCQ4D6C+wgGQM5iOovpLAZADeU1lNdQBkBMZzGdxXQGQIvpLKazmAZAymsor6G8BkAJ7iO4j+AGQEhwH8F9BAdAhvIaymsoB0DGdBbTWUwHQAT3EdxHcAdAQ3kN5TWUB0CC+wjuI7gHQMF9BPcR3AdAAAAAAAAACEA/gvsI7iMIQH4E9xHcRwhAvIbyGsprCED7CO4juI8IQDqL6SymswhAeQ3lNZTXCEC4j+A+gvsIQPcR3EdwHwlANpTXUF5DCUB0FtNZTGcJQLOYzmI6iwlA8hrKayivCUAxncV0FtMJQHAfwX0E9wlAr6G8hvIaCkDuI7iP4D4KQC2ms5jOYgpAbCivobyGCkCqqqqqqqoKQOksprOYzgpAKK+hvIbyCkBnMZ3FdBYLQKazmM5iOgtA5TWU11BeC0AkuI/gPoILQGI6i+kspgtAobyG8hrKC0DgPoL7CO4LQB/BfQT3EQxAXkN5DeU1DECdxXQW01kMQNxHcB/BfQxAG8prKK+hDEBaTGcxncUMQJjOYjqL6QxA11BeQ3kNDUAW01lMZzENQFVVVVVVVQ1AlNdQXkN5DUDTWUxnMZ0NQBLcR3AfwQ1AUF5DeQ3lDUCP4D6C+wgOQM5iOovpLA5ADeU1lNdQDkBMZzGdxXQOQIvpLKazmA5Aymsor6G8DkAJ7iO4j+AOQEhwH8F9BA9AhvIaymsoD0DFdBbTWUwPQAT3EdxHcA9AQ3kN5TWUD0CC+wjuI7gPQMF9BPcR3A9AAAAAAAAAEEAfwX0E9xEQQD6C+wjuIxBAXkN5DeU1EEB+BPcR3EcQQJ3FdBbTWRBAvIbyGsprEEDcR3AfwX0QQPwI7iO4jxBAG8prKK+hEEA6i+ksprMQQFpMZzGdxRBAeQ3lNZTXEECYzmI6i+kQQLiP4D6C+xBA2FBeQ3kNEUD3EdxHcB8RQBbTWUxnMRFANpTXUF5DEUBVVVVVVVURQHQW01lMZxFAlNdQXkN5EUC0mM5iOosRQNNZTGcxnRFA8hrKayivEUAS3EdwH8ERQDGdxXQW0xFAUF5DeQ3lEUBwH8F9BPcRQJDgPoL7CBJAr6G8hvIaEkDOYjqL6SwSQO4juI/gPhJADeU1lNdQEkAsprOYzmISQExnMZ3FdBJAbCivobyGEkCL6Syms5gSQKqqqqqqqhJAymsor6G8EkDqLKazmM4SQAnuI7iP4BJAKK+hvIbyEkBIcB/BfQQTQGcxncV0FhNAhvIaymsoE0Cms5jOYjoTQMZ0FtNZTBNA5TWU11BeE0AE9xHcR3ATQCS4j+A+ghNAQ3kN5TWUE0BiOovpLKYTQIL7CO4juBNAoryG8hrKE0DBfQT3EdwTQOA+gvsI7hNAAAAAAAAAFEAfwX0E9xEUQD+C+wjuIxRAXkN5DeU1FEB+BPcR3EcUQJ3FdBbTWRRAvIbyGsprFEDcR3AfwX0UQPsI7iO4jxRAG8prKK+hFEA6i+ksprMUQFpMZzGdxRRAeQ3lNZTXFECYzmI6i+kUQLiP4D6C+xRA11BeQ3kNFUD3EdxHcB8VQBbTWUxnMRVANpTXUF5DFUBVVVVVVVUVQHQW01lMZxVAlNdQXkN5FUCzmM5iOosVQNNZTGcxnRVA8hrKayivFUAS3EdwH8EVQDGdxXQW0xVAUV5DeQ3lFUBwH8F9BPcVQI/gPoL7CBZAr6G8hvIaFkDOYjqL6SwWQO4juI/gPhZADeU1lNdQFkAtprOYzmIWQExnMZ3FdBZAbCivobyGFkCL6Syms5gWQKqqqqqqqhZAymsor6G8FkDpLKazmM4WQAnuI7iP4BZAKK+hvIbyFkBIcB/BfQQXQGcxncV0FhdAhvIaymsoF0Cms5jOYjoXQMV0FtNZTBdA5TWU11BeF0AE9xHcR3AXQCS4j+A+ghdAQ3kN5TWUF0BiOovpLKYXQIL7CO4juBdAobyG8hrKF0DBfQT3EdwXQOA+gvsI7hdAAAAAAAAAGEAfwX0E9xEYQD+C+wjuIxhAXkN5DeU1GEB9BPcR3EcYQJ3FdBbTWRhAvIbyGsprGEDcR3AfwX0YQPsI7iO4jxhAG8prKK+hGEA6i+ksprMYQFpMZzGdxRhAeQ3lNZTXGECYzmI6i+kYQLiP4D6C+xhA11BeQ3kNGUD3EdxHcB8ZQBbTWUxnMRlANpTXUF5DGUBVVVVVVVUZQHQW01lMZxlAlNdQXkN5GUCzmM5iOosZQNNZTGcxnRlA8hrKayivGUAS3EdwH8EZQDGdxXQW0xlAUF5DeQ3lGUBwH8F9BPcZQI/gPoL7CBpAr6G8hvIaGkDOYjqL6SwaQO4juI/gPhpADeU1lNdQGkAtprOYzmIaQExnMZ3FdBpAayivobyGGkCL6Syms5gaQKqqqqqqqhpAymsor6G8GkDpLKazmM4aQAnuI7iP4BpAKK+hvIbyGkBIcB/BfQQbQGcxncV0FhtAhvIaymsoG0Cms5jOYjobQMV0FtNZTBtA5TWU11BeG0AE9xHcR3AbQCS4j+A+ghtAQ3kN5TWUG0BiOovpLKYbQIL7CO4juBtAobyG8hrKG0DBfQT3EdwbQOA+gvsI7htAAAAAAAAAHEAfwX0E9xEcQD6C+wjuIxxAXkN5DeU1HEB9BPcR3EccQJ3FdBbTWRxAvIbyGsprHEDcR3AfwX0cQPsI7iO4jxxAG8prKK+hHEA6i+ksprMcQFlMZzGdxRxAeQ3lNZTXHECYzmI6i+kcQLiP4D6C+xxA11BeQ3kNHUD3EdxHcB8dQBbTWUxnMR1ANpTXUF5DHUBVVVVVVVUdQHQW01lMZx1AlNdQXkN5HUCzmM5iOosdQNNZTGcxnR1A8hrKayivHUAS3EdwH8EdQDGdxXQW0x1AUF5DeQ3lHUBwH8F9BPcdQI/gPoL7CB5Ar6G8hvIaHkDOYjqL6SweQO4juI/gPh5ADeU1lNdQHkAsprOYzmIeQExnMZ3FdB5AayivobyGHkCL6Syms5geQKqqqqqqqh5Aymsor6G8HkDpLKazmM4eQAnuI7iP4B5AKK+hvIbyHkBHcB/BfQQfQGcxncV0Fh9AhvIaymsoH0Cms5jOYjofQMV0FtNZTB9A5TWU11BeH0AE9xHcR3AfQCS4j+A+gh9AQ3kN5TWUH0BiOovpLKYfQIL7CO4juB9AobyG8hrKH0DBfQT3EdwfQOA+gvsI7h9AAAAAAAAAIEA=",
                    "dtype": "f8"
                  },
                  "xaxis": "x8",
                  "y": {
                    "bdata": "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",
                    "dtype": "f8"
                  },
                  "yaxis": "y8"
                },
                {
                  "name": "GMM",
                  "showlegend": false,
                  "type": "scatter",
                  "x": {
                    "bdata": "AAAAAAAAEMAm/JnwZ8IPwE34M+HPhA/AdPTN0TdHD8Ca8GfCnwkPwMDsAbMHzA7A5+ibo2+ODsAO5TWU11AOwDThz4Q/Ew7AWt1pdafVDcCB2QNmD5gNwKjVnVZ3Wg3AztE3R98cDcD0zdE3R98MwBvKayivoQzAQsYFGRdkDMBowp8JfyYMwI6+Ofrm6AvAtbrT6k6rC8Dctm3btm0LwAKzB8weMAvAKK+hvIbyCsBPqzut7rQKwHan1Z1WdwrAnKNvjr45CsDCnwl/JvwJwOmbo2+OvgnAEJg9YPaACcA2lNdQXkMJwFyQcUHGBQnAg4wLMi7ICMCqiKUilooIwNCEPxP+TAjA9oDZA2YPCMAdfXP0zdEHwER5DeU1lAfAanWn1Z1WB8CQcUHGBRkHwLdt27Zt2wbA3ml1p9WdBsAEZg+YPWAGwCpiqYilIgbAUV5DeQ3lBcB4Wt1pdacFwJ5Wd1rdaQXAxFIRS0UsBcDrTqs7re4EwBJLRSwVsQTAOEffHH1zBMBeQ3kN5TUEwIU/E/5M+APArDut7rS6A8DSN0ffHH0DwPgz4c+EPwPAHzB7wOwBA8BGLBWxVMQCwGwor6G8hgLAkiRJkiRJAsC5IOOCjAsCwOAcfXP0zQHABhkXZFyQAcAsFbFUxFIBwFMRS0UsFQHAeg3lNZTXAMCgCX8m/JkAwMYFGRdkXADA7QGzB8weAMAo/JnwZ8L/v3T0zdE3R/+/wOwBswfM/r8O5TWU11D+v1zdaXWn1f2/qNWdVnda/b/0zdE3R9/8v0LGBRkXZPy/kL45+ubo+7/ctm3btm37vyivobyG8vq/dqfVnVZ3+r/Enwl/Jvz5vxCYPWD2gPm/XJBxQcYF+b+qiKUilor4v/iA2QNmD/i/RHkN5TWU97+QcUHGBRn3v95pdafVnfa/LGKpiKUi9r94Wt1pdaf1v8RSEUtFLPW/EktFLBWx9L9gQ3kN5TX0v6w7re60uvO/+DPhz4Q/879GLBWxVMTyv5QkSZIkSfK/4Bx9c/TN8b8sFbFUxFLxv3oN5TWU1/C/yAUZF2Rc8L8o/JnwZ8Lvv8DsAbMHzO6/XN1pdafV7b/4zdE3R9/sv5C+Ofrm6Ou/KK+hvIby6r/Enwl/Jvzpv2CQcUHGBem/+IDZA2YP6L+QcUHGBRnnvyxiqYilIua/yFIRS0Us5b9gQ3kN5TXkv/gz4c+EP+O/lCRJkiRJ4r8wFbFUxFLhv8gFGRdkXOC/wOwBswfM3r/4zdE3R9/cvzCvobyG8tq/YJBxQcYF2b+QcUHGBRnXv8hSEUtFLNW/ADThz4Q/078wFbFUxFLRv8DsAbMHzM6/MK+hvIbyyr+gcUHGBRnHvwA04c+EP8O/wOwBswfMvr+gcUHGBRm3vwDtAbMHzK6/AO0BswfMnr8AAAAAAAAAAADsAbMHzJ4/gOwBswfMrj+AcUHGBRm3P8DsAbMHzL4/ADThz4Q/wz+AcUHGBRnHPyCvobyG8so/wOwBswfMzj8gFbFUxFLRP/Az4c+EP9M/wFIRS0Us1T+QcUHGBRnXP2CQcUHGBdk/IK+hvIby2j/wzdE3R9/cP8DsAbMHzN4/wAUZF2Rc4D8oFbFUxFLhP5AkSZIkSeI/+DPhz4Q/4z9gQ3kN5TXkP8BSEUtFLOU/KGKpiKUi5j+QcUHGBRnnP/CA2QNmD+g/WJBxQcYF6T/Anwl/JvzpPyivobyG8uo/kL45+ubo6z/wzdE3R9/sP1jdaXWn1e0/wOwBswfM7j8g/JnwZ8LvP8QFGRdkXPA/eA3lNZTX8D8sFbFUxFLxP+AcfXP0zfE/kCRJkiRJ8j9ELBWxVMTyP/gz4c+EP/M/qDut7rS68z9cQ3kN5TX0PxBLRSwVsfQ/xFIRS0Us9T94Wt1pdaf1PyhiqYilIvY/3Gl1p9Wd9j+QcUHGBRn3P0B5DeU1lPc/9IDZA2YP+D+oiKUilor4P1yQcUHGBfk/EJg9YPaA+T/Anwl/Jvz5P3Sn1Z1Wd/o/KK+hvIby+j/Ytm3btm37P4y+Ofrm6Ps/QMYFGRdk/D/0zdE3R9/8P6jVnVZ3Wv0/WN1pdafV/T8M5TWU11D+P8DsAbMHzP4/cPTN0TdH/z8k/JnwZ8L/P+wBswfMHgBAxgUZF2RcAECgCX8m/JkAQHgN5TWU1wBAUhFLRSwVAUAsFbFUxFIBQAQZF2RckAFA3hx9c/TNAUC4IOOCjAsCQJIkSZIkSQJAbCivobyGAkBELBWxVMQCQB4we8DsAQNA+DPhz4Q/A0DQN0ffHH0DQKo7re60ugNAhD8T/kz4A0BeQ3kN5TUEQDhH3xx9cwRAEEtFLBWxBEDqTqs7re4EQMRSEUtFLAVAnFZ3Wt1pBUB2Wt1pdacFQFBeQ3kN5QVAKmKpiKUiBkAEZg+YPWAGQNxpdafVnQZAtm3btm3bBkCQcUHGBRkHQGh1p9WdVgdAQnkN5TWUB0AcfXP0zdEHQPaA2QNmDwhA0IQ/E/5MCECoiKUilooIQIKMCzIuyAhAXJBxQcYFCUA0lNdQXkMJQA6YPWD2gAlA6Jujb46+CUDCnwl/JvwJQJyjb46+OQpAdKfVnVZ3CkBOqzut7rQKQCivobyG8gpAALMHzB4wC0Datm3btm0LQLS60+pOqwtAjr45+uboC0Bowp8JfyYMQEDGBRkXZAxAGsprKK+hDED0zdE3R98MQMzRN0ffHA1AptWdVndaDUCA2QNmD5gNQFrdaXWn1Q1ANOHPhD8TDkAM5TWU11AOQObom6Nvjg5AwOwBswfMDkCY8GfCnwkPQHL0zdE3Rw9ATPgz4c+ED0Am/JnwZ8IPQAAAAAAAABBA7AGzB8weEEDYA2YPmD0QQMYFGRdkXBBAsgfMHjB7EECgCX8m/JkQQIwLMi7IuBBAeA3lNZTXEEBmD5g9YPYQQFIRS0UsFRFAQBP+TPgzEUAsFbFUxFIRQBgXZFyQcRFABhkXZFyQEUDyGsprKK8RQN4cfXP0zRFAzB4we8DsEUC4IOOCjAsSQKQilopYKhJAkiRJkiRJEkB+JvyZ8GcSQGwor6G8hhJAWCpiqYilEkBELBWxVMQSQDIuyLgg4xJAHjB7wOwBE0AMMi7IuCATQPgz4c+EPxNA5DWU11BeE0DSN0ffHH0TQL45+ubomxNAqjut7rS6E0CYPWD2gNkTQIQ/E/5M+BNAcEHGBRkXFEBeQ3kN5TUUQEpFLBWxVBRAOEffHH1zFEAkSZIkSZIUQBBLRSwVsRRA/kz4M+HPFEDqTqs7re4UQNhQXkN5DRVAxFIRS0UsFUCwVMRSEUsVQJ5Wd1rdaRVAilgqYqmIFUB2Wt1pdacVQGRckHFBxhVAUF5DeQ3lFUA8YPaA2QMWQCpiqYilIhZAFmRckHFBFkAEZg+YPWAWQPBnwp8JfxZA3Gl1p9WdFkDKayivobwWQLZt27Zt2xZApG+Ovjn6FkCQcUHGBRkXQHxz9M3RNxdAanWn1Z1WF0BWd1rdaXUXQEJ5DeU1lBdAMHvA7AGzF0AcfXP0zdEXQAh/JvyZ8BdA9oDZA2YPGEDigowLMi4YQNCEPxP+TBhAvIbyGsprGECoiKUilooYQJaKWCpiqRhAgowLMi7IGEBwjr45+uYYQFyQcUHGBRlASJIkSZIkGUA2lNdQXkMZQCKWilgqYhlADpg9YPaAGUD8mfBnwp8ZQOibo2+OvhlA1J1Wd1rdGUDCnwl/JvwZQK6hvIbyGhpAnKNvjr45GkCIpSKWilgaQHSn1Z1WdxpAYqmIpSKWGkBOqzut7rQaQDyt7rS60xpAKK+hvIbyGkAUsVTEUhEbQAKzB8weMBtA7rS60+pOG0Datm3btm0bQMi4IOOCjBtAtLrT6k6rG0CgvIbyGsobQI6+Ofrm6BtAesDsAbMHHEBowp8JfyYcQFTEUhFLRRxAQMYFGRdkHEAuyLgg44IcQBrKayivoRxACMweMHvAHED0zdE3R98cQODPhD8T/hxAztE3R98cHUC60+pOqzsdQKbVnVZ3Wh1AlNdQXkN5HUCA2QNmD5gdQGzbtm3bth1AWt1pdafVHUBG3xx9c/QdQDThz4Q/Ex5AIOOCjAsyHkAM5TWU11AeQPrm6Jujbx5A5uibo2+OHkDU6k6rO60eQMDsAbMHzB5ArO60utPqHkCa8GfCnwkfQIbyGsprKB9AcvTN0TdHH0Bg9oDZA2YfQEz4M+HPhB9AOPrm6JujH0Am/JnwZ8IfQBL+TPgz4R9AAAAAAAAAIEA=",
                    "dtype": "f8"
                  },
                  "xaxis": "x9",
                  "y": {
                    "bdata": "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",
                    "dtype": "f8"
                  },
                  "yaxis": "y9"
                }
              ],
              "layout": {
                "annotations": [
                  {
                    "font": {
                      "size": 16
                    },
                    "showarrow": false,
                    "text": "정규분포",
                    "x": 0.14444444444444446,
                    "xanchor": "center",
                    "xref": "paper",
                    "y": 1,
                    "yanchor": "bottom",
                    "yref": "paper"
                  },
                  {
                    "font": {
                      "size": 16
                    },
                    "showarrow": false,
                    "text": "t-분포",
                    "x": 0.5,
                    "xanchor": "center",
                    "xref": "paper",
                    "y": 1,
                    "yanchor": "bottom",
                    "yref": "paper"
                  },
                  {
                    "font": {
                      "size": 16
                    },
                    "showarrow": false,
                    "text": "카이제곱분포",
                    "x": 0.8555555555555556,
                    "xanchor": "center",
                    "xref": "paper",
                    "y": 1,
                    "yanchor": "bottom",
                    "yref": "paper"
                  },
                  {
                    "font": {
                      "size": 16
                    },
                    "showarrow": false,
                    "text": "지수분포",
                    "x": 0.14444444444444446,
                    "xanchor": "center",
                    "xref": "paper",
                    "y": 0.6111111111111112,
                    "yanchor": "bottom",
                    "yref": "paper"
                  },
                  {
                    "font": {
                      "size": 16
                    },
                    "showarrow": false,
                    "text": "감마분포",
                    "x": 0.5,
                    "xanchor": "center",
                    "xref": "paper",
                    "y": 0.6111111111111112,
                    "yanchor": "bottom",
                    "yref": "paper"
                  },
                  {
                    "font": {
                      "size": 16
                    },
                    "showarrow": false,
                    "text": "로그정규분포",
                    "x": 0.8555555555555556,
                    "xanchor": "center",
                    "xref": "paper",
                    "y": 0.6111111111111112,
                    "yanchor": "bottom",
                    "yref": "paper"
                  },
                  {
                    "font": {
                      "size": 16
                    },
                    "showarrow": false,
                    "text": "베타분포",
                    "x": 0.14444444444444446,
                    "xanchor": "center",
                    "xref": "paper",
                    "y": 0.22222222222222224,
                    "yanchor": "bottom",
                    "yref": "paper"
                  },
                  {
                    "font": {
                      "size": 16
                    },
                    "showarrow": false,
                    "text": "파레토분포",
                    "x": 0.5,
                    "xanchor": "center",
                    "xref": "paper",
                    "y": 0.22222222222222224,
                    "yanchor": "bottom",
                    "yref": "paper"
                  },
                  {
                    "font": {
                      "size": 16
                    },
                    "showarrow": false,
                    "text": "혼합 정규분포",
                    "x": 0.8555555555555556,
                    "xanchor": "center",
                    "xref": "paper",
                    "y": 0.22222222222222224,
                    "yanchor": "bottom",
                    "yref": "paper"
                  }
                ],
                "height": 900,
                "template": {
                  "data": {
                    "bar": [
                      {
                        "error_x": {
                          "color": "#2a3f5f"
                        },
                        "error_y": {
                          "color": "#2a3f5f"
                        },
                        "marker": {
                          "line": {
                            "color": "white",
                            "width": 0.5
                          },
                          "pattern": {
                            "fillmode": "overlay",
                            "size": 10,
                            "solidity": 0.2
                          }
                        },
                        "type": "bar"
                      }
                    ],
                    "barpolar": [
                      {
                        "marker": {
                          "line": {
                            "color": "white",
                            "width": 0.5
                          },
                          "pattern": {
                            "fillmode": "overlay",
                            "size": 10,
                            "solidity": 0.2
                          }
                        },
                        "type": "barpolar"
                      }
                    ],
                    "carpet": [
                      {
                        "aaxis": {
                          "endlinecolor": "#2a3f5f",
                          "gridcolor": "#C8D4E3",
                          "linecolor": "#C8D4E3",
                          "minorgridcolor": "#C8D4E3",
                          "startlinecolor": "#2a3f5f"
                        },
                        "baxis": {
                          "endlinecolor": "#2a3f5f",
                          "gridcolor": "#C8D4E3",
                          "linecolor": "#C8D4E3",
                          "minorgridcolor": "#C8D4E3",
                          "startlinecolor": "#2a3f5f"
                        },
                        "type": "carpet"
                      }
                    ],
                    "choropleth": [
                      {
                        "colorbar": {
                          "outlinewidth": 0,
                          "ticks": ""
                        },
                        "type": "choropleth"
                      }
                    ],
                    "contour": [
                      {
                        "colorbar": {
                          "outlinewidth": 0,
                          "ticks": ""
                        },
                        "colorscale": [
                          [
                            0,
                            "#0d0887"
                          ],
                          [
                            0.1111111111111111,
                            "#46039f"
                          ],
                          [
                            0.2222222222222222,
                            "#7201a8"
                          ],
                          [
                            0.3333333333333333,
                            "#9c179e"
                          ],
                          [
                            0.4444444444444444,
                            "#bd3786"
                          ],
                          [
                            0.5555555555555556,
                            "#d8576b"
                          ],
                          [
                            0.6666666666666666,
                            "#ed7953"
                          ],
                          [
                            0.7777777777777778,
                            "#fb9f3a"
                          ],
                          [
                            0.8888888888888888,
                            "#fdca26"
                          ],
                          [
                            1,
                            "#f0f921"
                          ]
                        ],
                        "type": "contour"
                      }
                    ],
                    "contourcarpet": [
                      {
                        "colorbar": {
                          "outlinewidth": 0,
                          "ticks": ""
                        },
                        "type": "contourcarpet"
                      }
                    ],
                    "heatmap": [
                      {
                        "colorbar": {
                          "outlinewidth": 0,
                          "ticks": ""
                        },
                        "colorscale": [
                          [
                            0,
                            "#0d0887"
                          ],
                          [
                            0.1111111111111111,
                            "#46039f"
                          ],
                          [
                            0.2222222222222222,
                            "#7201a8"
                          ],
                          [
                            0.3333333333333333,
                            "#9c179e"
                          ],
                          [
                            0.4444444444444444,
                            "#bd3786"
                          ],
                          [
                            0.5555555555555556,
                            "#d8576b"
                          ],
                          [
                            0.6666666666666666,
                            "#ed7953"
                          ],
                          [
                            0.7777777777777778,
                            "#fb9f3a"
                          ],
                          [
                            0.8888888888888888,
                            "#fdca26"
                          ],
                          [
                            1,
                            "#f0f921"
                          ]
                        ],
                        "type": "heatmap"
                      }
                    ],
                    "histogram": [
                      {
                        "marker": {
                          "pattern": {
                            "fillmode": "overlay",
                            "size": 10,
                            "solidity": 0.2
                          }
                        },
                        "type": "histogram"
                      }
                    ],
                    "histogram2d": [
                      {
                        "colorbar": {
                          "outlinewidth": 0,
                          "ticks": ""
                        },
                        "colorscale": [
                          [
                            0,
                            "#0d0887"
                          ],
                          [
                            0.1111111111111111,
                            "#46039f"
                          ],
                          [
                            0.2222222222222222,
                            "#7201a8"
                          ],
                          [
                            0.3333333333333333,
                            "#9c179e"
                          ],
                          [
                            0.4444444444444444,
                            "#bd3786"
                          ],
                          [
                            0.5555555555555556,
                            "#d8576b"
                          ],
                          [
                            0.6666666666666666,
                            "#ed7953"
                          ],
                          [
                            0.7777777777777778,
                            "#fb9f3a"
                          ],
                          [
                            0.8888888888888888,
                            "#fdca26"
                          ],
                          [
                            1,
                            "#f0f921"
                          ]
                        ],
                        "type": "histogram2d"
                      }
                    ],
                    "histogram2dcontour": [
                      {
                        "colorbar": {
                          "outlinewidth": 0,
                          "ticks": ""
                        },
                        "colorscale": [
                          [
                            0,
                            "#0d0887"
                          ],
                          [
                            0.1111111111111111,
                            "#46039f"
                          ],
                          [
                            0.2222222222222222,
                            "#7201a8"
                          ],
                          [
                            0.3333333333333333,
                            "#9c179e"
                          ],
                          [
                            0.4444444444444444,
                            "#bd3786"
                          ],
                          [
                            0.5555555555555556,
                            "#d8576b"
                          ],
                          [
                            0.6666666666666666,
                            "#ed7953"
                          ],
                          [
                            0.7777777777777778,
                            "#fb9f3a"
                          ],
                          [
                            0.8888888888888888,
                            "#fdca26"
                          ],
                          [
                            1,
                            "#f0f921"
                          ]
                        ],
                        "type": "histogram2dcontour"
                      }
                    ],
                    "mesh3d": [
                      {
                        "colorbar": {
                          "outlinewidth": 0,
                          "ticks": ""
                        },
                        "type": "mesh3d"
                      }
                    ],
                    "parcoords": [
                      {
                        "line": {
                          "colorbar": {
                            "outlinewidth": 0,
                            "ticks": ""
                          }
                        },
                        "type": "parcoords"
                      }
                    ],
                    "pie": [
                      {
                        "automargin": true,
                        "type": "pie"
                      }
                    ],
                    "scatter": [
                      {
                        "fillpattern": {
                          "fillmode": "overlay",
                          "size": 10,
                          "solidity": 0.2
                        },
                        "type": "scatter"
                      }
                    ],
                    "scatter3d": [
                      {
                        "line": {
                          "colorbar": {
                            "outlinewidth": 0,
                            "ticks": ""
                          }
                        },
                        "marker": {
                          "colorbar": {
                            "outlinewidth": 0,
                            "ticks": ""
                          }
                        },
                        "type": "scatter3d"
                      }
                    ],
                    "scattercarpet": [
                      {
                        "marker": {
                          "colorbar": {
                            "outlinewidth": 0,
                            "ticks": ""
                          }
                        },
                        "type": "scattercarpet"
                      }
                    ],
                    "scattergeo": [
                      {
                        "marker": {
                          "colorbar": {
                            "outlinewidth": 0,
                            "ticks": ""
                          }
                        },
                        "type": "scattergeo"
                      }
                    ],
                    "scattergl": [
                      {
                        "marker": {
                          "colorbar": {
                            "outlinewidth": 0,
                            "ticks": ""
                          }
                        },
                        "type": "scattergl"
                      }
                    ],
                    "scattermap": [
                      {
                        "marker": {
                          "colorbar": {
                            "outlinewidth": 0,
                            "ticks": ""
                          }
                        },
                        "type": "scattermap"
                      }
                    ],
                    "scattermapbox": [
                      {
                        "marker": {
                          "colorbar": {
                            "outlinewidth": 0,
                            "ticks": ""
                          }
                        },
                        "type": "scattermapbox"
                      }
                    ],
                    "scatterpolar": [
                      {
                        "marker": {
                          "colorbar": {
                            "outlinewidth": 0,
                            "ticks": ""
                          }
                        },
                        "type": "scatterpolar"
                      }
                    ],
                    "scatterpolargl": [
                      {
                        "marker": {
                          "colorbar": {
                            "outlinewidth": 0,
                            "ticks": ""
                          }
                        },
                        "type": "scatterpolargl"
                      }
                    ],
                    "scatterternary": [
                      {
                        "marker": {
                          "colorbar": {
                            "outlinewidth": 0,
                            "ticks": ""
                          }
                        },
                        "type": "scatterternary"
                      }
                    ],
                    "surface": [
                      {
                        "colorbar": {
                          "outlinewidth": 0,
                          "ticks": ""
                        },
                        "colorscale": [
                          [
                            0,
                            "#0d0887"
                          ],
                          [
                            0.1111111111111111,
                            "#46039f"
                          ],
                          [
                            0.2222222222222222,
                            "#7201a8"
                          ],
                          [
                            0.3333333333333333,
                            "#9c179e"
                          ],
                          [
                            0.4444444444444444,
                            "#bd3786"
                          ],
                          [
                            0.5555555555555556,
                            "#d8576b"
                          ],
                          [
                            0.6666666666666666,
                            "#ed7953"
                          ],
                          [
                            0.7777777777777778,
                            "#fb9f3a"
                          ],
                          [
                            0.8888888888888888,
                            "#fdca26"
                          ],
                          [
                            1,
                            "#f0f921"
                          ]
                        ],
                        "type": "surface"
                      }
                    ],
                    "table": [
                      {
                        "cells": {
                          "fill": {
                            "color": "#EBF0F8"
                          },
                          "line": {
                            "color": "white"
                          }
                        },
                        "header": {
                          "fill": {
                            "color": "#C8D4E3"
                          },
                          "line": {
                            "color": "white"
                          }
                        },
                        "type": "table"
                      }
                    ]
                  },
                  "layout": {
                    "annotationdefaults": {
                      "arrowcolor": "#2a3f5f",
                      "arrowhead": 0,
                      "arrowwidth": 1
                    },
                    "autotypenumbers": "strict",
                    "coloraxis": {
                      "colorbar": {
                        "outlinewidth": 0,
                        "ticks": ""
                      }
                    },
                    "colorscale": {
                      "diverging": [
                        [
                          0,
                          "#8e0152"
                        ],
                        [
                          0.1,
                          "#c51b7d"
                        ],
                        [
                          0.2,
                          "#de77ae"
                        ],
                        [
                          0.3,
                          "#f1b6da"
                        ],
                        [
                          0.4,
                          "#fde0ef"
                        ],
                        [
                          0.5,
                          "#f7f7f7"
                        ],
                        [
                          0.6,
                          "#e6f5d0"
                        ],
                        [
                          0.7,
                          "#b8e186"
                        ],
                        [
                          0.8,
                          "#7fbc41"
                        ],
                        [
                          0.9,
                          "#4d9221"
                        ],
                        [
                          1,
                          "#276419"
                        ]
                      ],
                      "sequential": [
                        [
                          0,
                          "#0d0887"
                        ],
                        [
                          0.1111111111111111,
                          "#46039f"
                        ],
                        [
                          0.2222222222222222,
                          "#7201a8"
                        ],
                        [
                          0.3333333333333333,
                          "#9c179e"
                        ],
                        [
                          0.4444444444444444,
                          "#bd3786"
                        ],
                        [
                          0.5555555555555556,
                          "#d8576b"
                        ],
                        [
                          0.6666666666666666,
                          "#ed7953"
                        ],
                        [
                          0.7777777777777778,
                          "#fb9f3a"
                        ],
                        [
                          0.8888888888888888,
                          "#fdca26"
                        ],
                        [
                          1,
                          "#f0f921"
                        ]
                      ],
                      "sequentialminus": [
                        [
                          0,
                          "#0d0887"
                        ],
                        [
                          0.1111111111111111,
                          "#46039f"
                        ],
                        [
                          0.2222222222222222,
                          "#7201a8"
                        ],
                        [
                          0.3333333333333333,
                          "#9c179e"
                        ],
                        [
                          0.4444444444444444,
                          "#bd3786"
                        ],
                        [
                          0.5555555555555556,
                          "#d8576b"
                        ],
                        [
                          0.6666666666666666,
                          "#ed7953"
                        ],
                        [
                          0.7777777777777778,
                          "#fb9f3a"
                        ],
                        [
                          0.8888888888888888,
                          "#fdca26"
                        ],
                        [
                          1,
                          "#f0f921"
                        ]
                      ]
                    },
                    "colorway": [
                      "#636efa",
                      "#EF553B",
                      "#00cc96",
                      "#ab63fa",
                      "#FFA15A",
                      "#19d3f3",
                      "#FF6692",
                      "#B6E880",
                      "#FF97FF",
                      "#FECB52"
                    ],
                    "font": {
                      "color": "#2a3f5f"
                    },
                    "geo": {
                      "bgcolor": "white",
                      "lakecolor": "white",
                      "landcolor": "white",
                      "showlakes": true,
                      "showland": true,
                      "subunitcolor": "#C8D4E3"
                    },
                    "hoverlabel": {
                      "align": "left"
                    },
                    "hovermode": "closest",
                    "mapbox": {
                      "style": "light"
                    },
                    "paper_bgcolor": "white",
                    "plot_bgcolor": "white",
                    "polar": {
                      "angularaxis": {
                        "gridcolor": "#EBF0F8",
                        "linecolor": "#EBF0F8",
                        "ticks": ""
                      },
                      "bgcolor": "white",
                      "radialaxis": {
                        "gridcolor": "#EBF0F8",
                        "linecolor": "#EBF0F8",
                        "ticks": ""
                      }
                    },
                    "scene": {
                      "xaxis": {
                        "backgroundcolor": "white",
                        "gridcolor": "#DFE8F3",
                        "gridwidth": 2,
                        "linecolor": "#EBF0F8",
                        "showbackground": true,
                        "ticks": "",
                        "zerolinecolor": "#EBF0F8"
                      },
                      "yaxis": {
                        "backgroundcolor": "white",
                        "gridcolor": "#DFE8F3",
                        "gridwidth": 2,
                        "linecolor": "#EBF0F8",
                        "showbackground": true,
                        "ticks": "",
                        "zerolinecolor": "#EBF0F8"
                      },
                      "zaxis": {
                        "backgroundcolor": "white",
                        "gridcolor": "#DFE8F3",
                        "gridwidth": 2,
                        "linecolor": "#EBF0F8",
                        "showbackground": true,
                        "ticks": "",
                        "zerolinecolor": "#EBF0F8"
                      }
                    },
                    "shapedefaults": {
                      "line": {
                        "color": "#2a3f5f"
                      }
                    },
                    "ternary": {
                      "aaxis": {
                        "gridcolor": "#DFE8F3",
                        "linecolor": "#A2B1C6",
                        "ticks": ""
                      },
                      "baxis": {
                        "gridcolor": "#DFE8F3",
                        "linecolor": "#A2B1C6",
                        "ticks": ""
                      },
                      "bgcolor": "white",
                      "caxis": {
                        "gridcolor": "#DFE8F3",
                        "linecolor": "#A2B1C6",
                        "ticks": ""
                      }
                    },
                    "title": {
                      "x": 0.05
                    },
                    "xaxis": {
                      "automargin": true,
                      "gridcolor": "#EBF0F8",
                      "linecolor": "#EBF0F8",
                      "ticks": "",
                      "title": {
                        "standoff": 15
                      },
                      "zerolinecolor": "#EBF0F8",
                      "zerolinewidth": 2
                    },
                    "yaxis": {
                      "automargin": true,
                      "gridcolor": "#EBF0F8",
                      "linecolor": "#EBF0F8",
                      "ticks": "",
                      "title": {
                        "standoff": 15
                      },
                      "zerolinecolor": "#EBF0F8",
                      "zerolinewidth": 2
                    }
                  }
                },
                "title": {
                  "text": "주요 연속 확률 분포의 PDF"
                },
                "width": 1100,
                "xaxis": {
                  "anchor": "y",
                  "domain": [
                    0,
                    0.2888888888888889
                  ]
                },
                "xaxis2": {
                  "anchor": "y2",
                  "domain": [
                    0.35555555555555557,
                    0.6444444444444445
                  ]
                },
                "xaxis3": {
                  "anchor": "y3",
                  "domain": [
                    0.7111111111111111,
                    1
                  ]
                },
                "xaxis4": {
                  "anchor": "y4",
                  "domain": [
                    0,
                    0.2888888888888889
                  ]
                },
                "xaxis5": {
                  "anchor": "y5",
                  "domain": [
                    0.35555555555555557,
                    0.6444444444444445
                  ]
                },
                "xaxis6": {
                  "anchor": "y6",
                  "domain": [
                    0.7111111111111111,
                    1
                  ]
                },
                "xaxis7": {
                  "anchor": "y7",
                  "domain": [
                    0,
                    0.2888888888888889
                  ],
                  "title": {
                    "text": "x"
                  }
                },
                "xaxis8": {
                  "anchor": "y8",
                  "domain": [
                    0.35555555555555557,
                    0.6444444444444445
                  ],
                  "title": {
                    "text": "x"
                  }
                },
                "xaxis9": {
                  "anchor": "y9",
                  "domain": [
                    0.7111111111111111,
                    1
                  ],
                  "title": {
                    "text": "x"
                  }
                },
                "yaxis": {
                  "anchor": "x",
                  "domain": [
                    0.7777777777777778,
                    1
                  ],
                  "title": {
                    "text": "PDF"
                  }
                },
                "yaxis2": {
                  "anchor": "x2",
                  "domain": [
                    0.7777777777777778,
                    1
                  ]
                },
                "yaxis3": {
                  "anchor": "x3",
                  "domain": [
                    0.7777777777777778,
                    1
                  ]
                },
                "yaxis4": {
                  "anchor": "x4",
                  "domain": [
                    0.3888888888888889,
                    0.6111111111111112
                  ]
                },
                "yaxis5": {
                  "anchor": "x5",
                  "domain": [
                    0.3888888888888889,
                    0.6111111111111112
                  ]
                },
                "yaxis6": {
                  "anchor": "x6",
                  "domain": [
                    0.3888888888888889,
                    0.6111111111111112
                  ]
                },
                "yaxis7": {
                  "anchor": "x7",
                  "domain": [
                    0,
                    0.22222222222222224
                  ]
                },
                "yaxis8": {
                  "anchor": "x8",
                  "domain": [
                    0,
                    0.22222222222222224
                  ]
                },
                "yaxis9": {
                  "anchor": "x9",
                  "domain": [
                    0,
                    0.22222222222222224
                  ]
                }
              }
            }
          },
          "metadata": {},
          "output_type": "display_data"
        }
      ],
      "source": [
        "import numpy as np\n",
        "import plotly.graph_objs as go\n",
        "from plotly.subplots import make_subplots\n",
        "from scipy.stats import norm, t, chi2, expon, gamma, lognorm, beta, pareto\n",
        "\n",
        "# 분포별 x축 범위 및 파라미터 설정\n",
        "x_norm = np.linspace(-4, 4, 400)\n",
        "x_t = np.linspace(-5, 5, 400)\n",
        "x_chi2 = np.linspace(0, 20, 400)\n",
        "x_expon = np.linspace(0, 8, 400)\n",
        "x_gamma = np.linspace(0, 20, 400)\n",
        "x_lognorm = np.linspace(0.01, 6, 400)\n",
        "x_beta = np.linspace(0, 1, 400)\n",
        "x_pareto = np.linspace(1, 8, 400)\n",
        "\n",
        "# 혼합 정규분포 (GMM) 샘플\n",
        "x_mix = np.linspace(-4, 8, 400)\n",
        "mix_pdf = 0.6 * norm.pdf(x_mix, loc=0, scale=1) + 0.4 * norm.pdf(x_mix, loc=4, scale=0.8)\n",
        "\n",
        "fig = make_subplots(\n",
        "    rows=3, cols=3,\n",
        "    subplot_titles=[\n",
        "        \"정규분포\", \"t-분포\", \"카이제곱분포\",\n",
        "        \"지수분포\", \"감마분포\", \"로그정규분포\",\n",
        "        \"베타분포\", \"파레토분포\", \"혼합 정규분포\"\n",
        "    ]\n",
        ")\n",
        "\n",
        "# 1. 정규분포\n",
        "fig.add_trace(\n",
        "    go.Scatter(x=x_norm, y=norm.pdf(x_norm, loc=0, scale=1), name=\"N(0,1)\", showlegend=False),\n",
        "    row=1, col=1\n",
        ")\n",
        "\n",
        "# 2. t-분포 (df=5)\n",
        "fig.add_trace(\n",
        "    go.Scatter(x=x_t, y=t.pdf(x_t, df=5), name=\"t(df=5)\", showlegend=False),\n",
        "    row=1, col=2\n",
        ")\n",
        "\n",
        "# 3. 카이제곱분포 (df=4)\n",
        "fig.add_trace(\n",
        "    go.Scatter(x=x_chi2, y=chi2.pdf(x_chi2, df=4), name=\"chi2(df=4)\", showlegend=False),\n",
        "    row=1, col=3\n",
        ")\n",
        "\n",
        "# 4. 지수분포 (lambda=1)\n",
        "fig.add_trace(\n",
        "    go.Scatter(x=x_expon, y=expon.pdf(x_expon, scale=1), name=\"expon(λ=1)\", showlegend=False),\n",
        "    row=2, col=1\n",
        ")\n",
        "\n",
        "# 5. 감마분포 (a=2, scale=2)\n",
        "fig.add_trace(\n",
        "    go.Scatter(x=x_gamma, y=gamma.pdf(x_gamma, a=2, scale=2), name=\"gamma(a=2, scale=2)\", showlegend=False),\n",
        "    row=2, col=2\n",
        ")\n",
        "\n",
        "# 6. 로그정규분포 (s=0.6, scale=1)\n",
        "fig.add_trace(\n",
        "    go.Scatter(x=x_lognorm, y=lognorm.pdf(x_lognorm, s=0.6, scale=np.exp(0)), name=\"lognorm(s=0.6)\", showlegend=False),\n",
        "    row=2, col=3\n",
        ")\n",
        "\n",
        "# 7. 베타분포 (a=2, b=5)\n",
        "fig.add_trace(\n",
        "    go.Scatter(x=x_beta, y=beta.pdf(x_beta, a=2, b=5), name=\"beta(a=2, b=5)\", showlegend=False),\n",
        "    row=3, col=1\n",
        ")\n",
        "\n",
        "# 8. 파레토분포 (b=2, scale=1)\n",
        "fig.add_trace(\n",
        "    go.Scatter(x=x_pareto, y=pareto.pdf(x_pareto, b=2, scale=1), name=\"pareto(α=2)\", showlegend=False),\n",
        "    row=3, col=2\n",
        ")\n",
        "\n",
        "# 9. 혼합 정규분포\n",
        "fig.add_trace(\n",
        "    go.Scatter(x=x_mix, y=mix_pdf, name=\"GMM\", showlegend=False),\n",
        "    row=3, col=3\n",
        ")\n",
        "\n",
        "fig.update_layout(\n",
        "    height=900, width=1100,\n",
        "    title_text=\"주요 연속 확률 분포의 PDF\",\n",
        "    template=\"plotly_white\"\n",
        ")\n",
        "fig.update_xaxes(title_text=\"x\", row=3, col=1)\n",
        "fig.update_xaxes(title_text=\"x\", row=3, col=2)\n",
        "fig.update_xaxes(title_text=\"x\", row=3, col=3)\n",
        "fig.update_yaxes(title_text=\"PDF\", row=1, col=1)\n",
        "fig.show()\n"
      ]
    },
    {
      "cell_type": "markdown",
      "metadata": {},
      "source": [
        "<style>\n",
        "    table tr th{\n",
        "        background: #F1EDAFFF !important;\n",
        "        color: #111 !important;\n",
        "    }\n",
        "    table tr td {\n",
        "        background: #FFFFFFFF !important;\n",
        "        color: #111 !important;\n",
        "    }\n",
        "</style>\n",
        "3. **주요 이산 확률 분포**\n",
        "   \n",
        "    | 특징         | 이항분포                                                                 | 포아송분포                                         |\n",
        "    |--------------|------------------------------------------------------------------------|----------------------------------------------------|\n",
        "    | 정의         | 서로 독립적인 베르누이 시행(성공/실패 두 가지 결과만 가짐)을 $n$번 반복했을 때 나타나는 성공 횟수 $k$의 확률 분포                        | 단위 시간, 단위 공간, 또는 단위 부피 등 특정 구간 내에서 어떤 사건이 발생하는 평균 횟수 $\\lambda$를 알 때, 실제 그 사건이 $k$번 발생할 확률 분포             |\n",
        "    | 모수         | 시행 횟수 n, 성공 확률 p                                                | 평균 발생 횟수 λ                                   |\n",
        "    | 확률 변수    | 0, 1, ..., n (정수)                                                     | 0, 1, 2, ... (정수)                                |\n",
        "    | 평균         | np                                                                     | λ                                                  |\n",
        "    | 분산         | np(1-p)                                                                | λ                                                  |\n",
        "    | 적용 예시    | 제품 불량품 수, 여론조사 특정 후보 지지자 수                             | 단위 시간 내 교차로 차량 수, 서버 요청 수           |"
      ]
    },
    {
      "cell_type": "code",
      "execution_count": 18,
      "metadata": {},
      "outputs": [
        {
          "data": {
            "application/vnd.plotly.v1+json": {
              "config": {
                "plotlyServerURL": "https://plot.ly"
              },
              "data": [
                {
                  "name": "Binomial(n=10, p=0.5)",
                  "opacity": 0.7,
                  "type": "bar",
                  "x": {
                    "bdata": "AAECAwQFBgcICQo=",
                    "dtype": "i1"
                  },
                  "y": {
                    "bdata": "+v//////Tz8FAAAAAACEPwsAAAAAgKY/AwAAAAAAvj///////z/KPwcAAAAAgM8/AAAAAABAyj8DAAAAAAC+PwsAAAAAgKY/BQAAAAAAhD8AAAAAAABQPw==",
                    "dtype": "f8"
                  }
                },
                {
                  "name": "Poisson(λ=3)",
                  "opacity": 0.7,
                  "type": "bar",
                  "x": {
                    "bdata": "AAECAwQFBgcICQoLDA0O",
                    "dtype": "i1"
                  },
                  "y": {
                    "bdata": "r7DOzLB9qT+EBJuZRB7DP8WGaOZmrcw/xYZo5matzD8VZc4sDYLFPx5GkQJDz7k/F0aRAkPPqT+nYDMCXh+WP32IpoGGl4A/qmAzAl4fZj8BdAppCoxKP/tPrs/c9Sw/60+uz9z1DD+xmLS/kLvqPnzw48jp6cY+",
                    "dtype": "f8"
                  }
                }
              ],
              "layout": {
                "barmode": "group",
                "template": {
                  "data": {
                    "bar": [
                      {
                        "error_x": {
                          "color": "#2a3f5f"
                        },
                        "error_y": {
                          "color": "#2a3f5f"
                        },
                        "marker": {
                          "line": {
                            "color": "white",
                            "width": 0.5
                          },
                          "pattern": {
                            "fillmode": "overlay",
                            "size": 10,
                            "solidity": 0.2
                          }
                        },
                        "type": "bar"
                      }
                    ],
                    "barpolar": [
                      {
                        "marker": {
                          "line": {
                            "color": "white",
                            "width": 0.5
                          },
                          "pattern": {
                            "fillmode": "overlay",
                            "size": 10,
                            "solidity": 0.2
                          }
                        },
                        "type": "barpolar"
                      }
                    ],
                    "carpet": [
                      {
                        "aaxis": {
                          "endlinecolor": "#2a3f5f",
                          "gridcolor": "#C8D4E3",
                          "linecolor": "#C8D4E3",
                          "minorgridcolor": "#C8D4E3",
                          "startlinecolor": "#2a3f5f"
                        },
                        "baxis": {
                          "endlinecolor": "#2a3f5f",
                          "gridcolor": "#C8D4E3",
                          "linecolor": "#C8D4E3",
                          "minorgridcolor": "#C8D4E3",
                          "startlinecolor": "#2a3f5f"
                        },
                        "type": "carpet"
                      }
                    ],
                    "choropleth": [
                      {
                        "colorbar": {
                          "outlinewidth": 0,
                          "ticks": ""
                        },
                        "type": "choropleth"
                      }
                    ],
                    "contour": [
                      {
                        "colorbar": {
                          "outlinewidth": 0,
                          "ticks": ""
                        },
                        "colorscale": [
                          [
                            0,
                            "#0d0887"
                          ],
                          [
                            0.1111111111111111,
                            "#46039f"
                          ],
                          [
                            0.2222222222222222,
                            "#7201a8"
                          ],
                          [
                            0.3333333333333333,
                            "#9c179e"
                          ],
                          [
                            0.4444444444444444,
                            "#bd3786"
                          ],
                          [
                            0.5555555555555556,
                            "#d8576b"
                          ],
                          [
                            0.6666666666666666,
                            "#ed7953"
                          ],
                          [
                            0.7777777777777778,
                            "#fb9f3a"
                          ],
                          [
                            0.8888888888888888,
                            "#fdca26"
                          ],
                          [
                            1,
                            "#f0f921"
                          ]
                        ],
                        "type": "contour"
                      }
                    ],
                    "contourcarpet": [
                      {
                        "colorbar": {
                          "outlinewidth": 0,
                          "ticks": ""
                        },
                        "type": "contourcarpet"
                      }
                    ],
                    "heatmap": [
                      {
                        "colorbar": {
                          "outlinewidth": 0,
                          "ticks": ""
                        },
                        "colorscale": [
                          [
                            0,
                            "#0d0887"
                          ],
                          [
                            0.1111111111111111,
                            "#46039f"
                          ],
                          [
                            0.2222222222222222,
                            "#7201a8"
                          ],
                          [
                            0.3333333333333333,
                            "#9c179e"
                          ],
                          [
                            0.4444444444444444,
                            "#bd3786"
                          ],
                          [
                            0.5555555555555556,
                            "#d8576b"
                          ],
                          [
                            0.6666666666666666,
                            "#ed7953"
                          ],
                          [
                            0.7777777777777778,
                            "#fb9f3a"
                          ],
                          [
                            0.8888888888888888,
                            "#fdca26"
                          ],
                          [
                            1,
                            "#f0f921"
                          ]
                        ],
                        "type": "heatmap"
                      }
                    ],
                    "histogram": [
                      {
                        "marker": {
                          "pattern": {
                            "fillmode": "overlay",
                            "size": 10,
                            "solidity": 0.2
                          }
                        },
                        "type": "histogram"
                      }
                    ],
                    "histogram2d": [
                      {
                        "colorbar": {
                          "outlinewidth": 0,
                          "ticks": ""
                        },
                        "colorscale": [
                          [
                            0,
                            "#0d0887"
                          ],
                          [
                            0.1111111111111111,
                            "#46039f"
                          ],
                          [
                            0.2222222222222222,
                            "#7201a8"
                          ],
                          [
                            0.3333333333333333,
                            "#9c179e"
                          ],
                          [
                            0.4444444444444444,
                            "#bd3786"
                          ],
                          [
                            0.5555555555555556,
                            "#d8576b"
                          ],
                          [
                            0.6666666666666666,
                            "#ed7953"
                          ],
                          [
                            0.7777777777777778,
                            "#fb9f3a"
                          ],
                          [
                            0.8888888888888888,
                            "#fdca26"
                          ],
                          [
                            1,
                            "#f0f921"
                          ]
                        ],
                        "type": "histogram2d"
                      }
                    ],
                    "histogram2dcontour": [
                      {
                        "colorbar": {
                          "outlinewidth": 0,
                          "ticks": ""
                        },
                        "colorscale": [
                          [
                            0,
                            "#0d0887"
                          ],
                          [
                            0.1111111111111111,
                            "#46039f"
                          ],
                          [
                            0.2222222222222222,
                            "#7201a8"
                          ],
                          [
                            0.3333333333333333,
                            "#9c179e"
                          ],
                          [
                            0.4444444444444444,
                            "#bd3786"
                          ],
                          [
                            0.5555555555555556,
                            "#d8576b"
                          ],
                          [
                            0.6666666666666666,
                            "#ed7953"
                          ],
                          [
                            0.7777777777777778,
                            "#fb9f3a"
                          ],
                          [
                            0.8888888888888888,
                            "#fdca26"
                          ],
                          [
                            1,
                            "#f0f921"
                          ]
                        ],
                        "type": "histogram2dcontour"
                      }
                    ],
                    "mesh3d": [
                      {
                        "colorbar": {
                          "outlinewidth": 0,
                          "ticks": ""
                        },
                        "type": "mesh3d"
                      }
                    ],
                    "parcoords": [
                      {
                        "line": {
                          "colorbar": {
                            "outlinewidth": 0,
                            "ticks": ""
                          }
                        },
                        "type": "parcoords"
                      }
                    ],
                    "pie": [
                      {
                        "automargin": true,
                        "type": "pie"
                      }
                    ],
                    "scatter": [
                      {
                        "fillpattern": {
                          "fillmode": "overlay",
                          "size": 10,
                          "solidity": 0.2
                        },
                        "type": "scatter"
                      }
                    ],
                    "scatter3d": [
                      {
                        "line": {
                          "colorbar": {
                            "outlinewidth": 0,
                            "ticks": ""
                          }
                        },
                        "marker": {
                          "colorbar": {
                            "outlinewidth": 0,
                            "ticks": ""
                          }
                        },
                        "type": "scatter3d"
                      }
                    ],
                    "scattercarpet": [
                      {
                        "marker": {
                          "colorbar": {
                            "outlinewidth": 0,
                            "ticks": ""
                          }
                        },
                        "type": "scattercarpet"
                      }
                    ],
                    "scattergeo": [
                      {
                        "marker": {
                          "colorbar": {
                            "outlinewidth": 0,
                            "ticks": ""
                          }
                        },
                        "type": "scattergeo"
                      }
                    ],
                    "scattergl": [
                      {
                        "marker": {
                          "colorbar": {
                            "outlinewidth": 0,
                            "ticks": ""
                          }
                        },
                        "type": "scattergl"
                      }
                    ],
                    "scattermap": [
                      {
                        "marker": {
                          "colorbar": {
                            "outlinewidth": 0,
                            "ticks": ""
                          }
                        },
                        "type": "scattermap"
                      }
                    ],
                    "scattermapbox": [
                      {
                        "marker": {
                          "colorbar": {
                            "outlinewidth": 0,
                            "ticks": ""
                          }
                        },
                        "type": "scattermapbox"
                      }
                    ],
                    "scatterpolar": [
                      {
                        "marker": {
                          "colorbar": {
                            "outlinewidth": 0,
                            "ticks": ""
                          }
                        },
                        "type": "scatterpolar"
                      }
                    ],
                    "scatterpolargl": [
                      {
                        "marker": {
                          "colorbar": {
                            "outlinewidth": 0,
                            "ticks": ""
                          }
                        },
                        "type": "scatterpolargl"
                      }
                    ],
                    "scatterternary": [
                      {
                        "marker": {
                          "colorbar": {
                            "outlinewidth": 0,
                            "ticks": ""
                          }
                        },
                        "type": "scatterternary"
                      }
                    ],
                    "surface": [
                      {
                        "colorbar": {
                          "outlinewidth": 0,
                          "ticks": ""
                        },
                        "colorscale": [
                          [
                            0,
                            "#0d0887"
                          ],
                          [
                            0.1111111111111111,
                            "#46039f"
                          ],
                          [
                            0.2222222222222222,
                            "#7201a8"
                          ],
                          [
                            0.3333333333333333,
                            "#9c179e"
                          ],
                          [
                            0.4444444444444444,
                            "#bd3786"
                          ],
                          [
                            0.5555555555555556,
                            "#d8576b"
                          ],
                          [
                            0.6666666666666666,
                            "#ed7953"
                          ],
                          [
                            0.7777777777777778,
                            "#fb9f3a"
                          ],
                          [
                            0.8888888888888888,
                            "#fdca26"
                          ],
                          [
                            1,
                            "#f0f921"
                          ]
                        ],
                        "type": "surface"
                      }
                    ],
                    "table": [
                      {
                        "cells": {
                          "fill": {
                            "color": "#EBF0F8"
                          },
                          "line": {
                            "color": "white"
                          }
                        },
                        "header": {
                          "fill": {
                            "color": "#C8D4E3"
                          },
                          "line": {
                            "color": "white"
                          }
                        },
                        "type": "table"
                      }
                    ]
                  },
                  "layout": {
                    "annotationdefaults": {
                      "arrowcolor": "#2a3f5f",
                      "arrowhead": 0,
                      "arrowwidth": 1
                    },
                    "autotypenumbers": "strict",
                    "coloraxis": {
                      "colorbar": {
                        "outlinewidth": 0,
                        "ticks": ""
                      }
                    },
                    "colorscale": {
                      "diverging": [
                        [
                          0,
                          "#8e0152"
                        ],
                        [
                          0.1,
                          "#c51b7d"
                        ],
                        [
                          0.2,
                          "#de77ae"
                        ],
                        [
                          0.3,
                          "#f1b6da"
                        ],
                        [
                          0.4,
                          "#fde0ef"
                        ],
                        [
                          0.5,
                          "#f7f7f7"
                        ],
                        [
                          0.6,
                          "#e6f5d0"
                        ],
                        [
                          0.7,
                          "#b8e186"
                        ],
                        [
                          0.8,
                          "#7fbc41"
                        ],
                        [
                          0.9,
                          "#4d9221"
                        ],
                        [
                          1,
                          "#276419"
                        ]
                      ],
                      "sequential": [
                        [
                          0,
                          "#0d0887"
                        ],
                        [
                          0.1111111111111111,
                          "#46039f"
                        ],
                        [
                          0.2222222222222222,
                          "#7201a8"
                        ],
                        [
                          0.3333333333333333,
                          "#9c179e"
                        ],
                        [
                          0.4444444444444444,
                          "#bd3786"
                        ],
                        [
                          0.5555555555555556,
                          "#d8576b"
                        ],
                        [
                          0.6666666666666666,
                          "#ed7953"
                        ],
                        [
                          0.7777777777777778,
                          "#fb9f3a"
                        ],
                        [
                          0.8888888888888888,
                          "#fdca26"
                        ],
                        [
                          1,
                          "#f0f921"
                        ]
                      ],
                      "sequentialminus": [
                        [
                          0,
                          "#0d0887"
                        ],
                        [
                          0.1111111111111111,
                          "#46039f"
                        ],
                        [
                          0.2222222222222222,
                          "#7201a8"
                        ],
                        [
                          0.3333333333333333,
                          "#9c179e"
                        ],
                        [
                          0.4444444444444444,
                          "#bd3786"
                        ],
                        [
                          0.5555555555555556,
                          "#d8576b"
                        ],
                        [
                          0.6666666666666666,
                          "#ed7953"
                        ],
                        [
                          0.7777777777777778,
                          "#fb9f3a"
                        ],
                        [
                          0.8888888888888888,
                          "#fdca26"
                        ],
                        [
                          1,
                          "#f0f921"
                        ]
                      ]
                    },
                    "colorway": [
                      "#636efa",
                      "#EF553B",
                      "#00cc96",
                      "#ab63fa",
                      "#FFA15A",
                      "#19d3f3",
                      "#FF6692",
                      "#B6E880",
                      "#FF97FF",
                      "#FECB52"
                    ],
                    "font": {
                      "color": "#2a3f5f"
                    },
                    "geo": {
                      "bgcolor": "white",
                      "lakecolor": "white",
                      "landcolor": "white",
                      "showlakes": true,
                      "showland": true,
                      "subunitcolor": "#C8D4E3"
                    },
                    "hoverlabel": {
                      "align": "left"
                    },
                    "hovermode": "closest",
                    "mapbox": {
                      "style": "light"
                    },
                    "paper_bgcolor": "white",
                    "plot_bgcolor": "white",
                    "polar": {
                      "angularaxis": {
                        "gridcolor": "#EBF0F8",
                        "linecolor": "#EBF0F8",
                        "ticks": ""
                      },
                      "bgcolor": "white",
                      "radialaxis": {
                        "gridcolor": "#EBF0F8",
                        "linecolor": "#EBF0F8",
                        "ticks": ""
                      }
                    },
                    "scene": {
                      "xaxis": {
                        "backgroundcolor": "white",
                        "gridcolor": "#DFE8F3",
                        "gridwidth": 2,
                        "linecolor": "#EBF0F8",
                        "showbackground": true,
                        "ticks": "",
                        "zerolinecolor": "#EBF0F8"
                      },
                      "yaxis": {
                        "backgroundcolor": "white",
                        "gridcolor": "#DFE8F3",
                        "gridwidth": 2,
                        "linecolor": "#EBF0F8",
                        "showbackground": true,
                        "ticks": "",
                        "zerolinecolor": "#EBF0F8"
                      },
                      "zaxis": {
                        "backgroundcolor": "white",
                        "gridcolor": "#DFE8F3",
                        "gridwidth": 2,
                        "linecolor": "#EBF0F8",
                        "showbackground": true,
                        "ticks": "",
                        "zerolinecolor": "#EBF0F8"
                      }
                    },
                    "shapedefaults": {
                      "line": {
                        "color": "#2a3f5f"
                      }
                    },
                    "ternary": {
                      "aaxis": {
                        "gridcolor": "#DFE8F3",
                        "linecolor": "#A2B1C6",
                        "ticks": ""
                      },
                      "baxis": {
                        "gridcolor": "#DFE8F3",
                        "linecolor": "#A2B1C6",
                        "ticks": ""
                      },
                      "bgcolor": "white",
                      "caxis": {
                        "gridcolor": "#DFE8F3",
                        "linecolor": "#A2B1C6",
                        "ticks": ""
                      }
                    },
                    "title": {
                      "x": 0.05
                    },
                    "xaxis": {
                      "automargin": true,
                      "gridcolor": "#EBF0F8",
                      "linecolor": "#EBF0F8",
                      "ticks": "",
                      "title": {
                        "standoff": 15
                      },
                      "zerolinecolor": "#EBF0F8",
                      "zerolinewidth": 2
                    },
                    "yaxis": {
                      "automargin": true,
                      "gridcolor": "#EBF0F8",
                      "linecolor": "#EBF0F8",
                      "ticks": "",
                      "title": {
                        "standoff": 15
                      },
                      "zerolinecolor": "#EBF0F8",
                      "zerolinewidth": 2
                    }
                  }
                },
                "title": {
                  "text": "이산 확률 분포 (이항분포, 포아송분포) PMF"
                },
                "xaxis": {
                  "title": {
                    "text": "k"
                  }
                },
                "yaxis": {
                  "title": {
                    "text": "PMF"
                  }
                }
              }
            }
          },
          "metadata": {},
          "output_type": "display_data"
        }
      ],
      "source": [
        "from scipy.stats import binom, poisson\n",
        "# 이항분포 (Binomial Distribution) 시각화\n",
        "n, p = 10, 0.5\n",
        "x_binom = np.arange(0, n+1)\n",
        "y_binom = binom.pmf(x_binom, n, p)\n",
        "\n",
        "binom_trace = go.Bar(x=x_binom, y=y_binom, name=\"Binomial(n=10, p=0.5)\")\n",
        "\n",
        "# 포아송분포 (Poisson Distribution) 시각화\n",
        "lam = 3\n",
        "x_pois = np.arange(0, 15)\n",
        "y_pois = poisson.pmf(x_pois, lam)\n",
        "\n",
        "poisson_trace = go.Bar(x=x_pois, y=y_pois, name=\"Poisson(λ=3)\")\n",
        "\n",
        "fig = go.Figure()\n",
        "fig.add_trace(binom_trace)\n",
        "fig.add_trace(poisson_trace)\n",
        "\n",
        "fig.update_traces(opacity=0.7)\n",
        "fig.update_layout(\n",
        "    barmode='group',\n",
        "    title=\"이산 확률 분포 (이항분포, 포아송분포) PMF\",\n",
        "    xaxis_title=\"k\",\n",
        "    yaxis_title=\"PMF\",\n",
        "    template=\"plotly_white\"\n",
        ")\n",
        "fig.show()\n"
      ]
    },
    {
      "cell_type": "markdown",
      "metadata": {},
      "source": [
        "<style>\n",
        "    table tr th{\n",
        "        background: #F1EDAFFF !important;\n",
        "        color: #111 !important;\n",
        "    }\n",
        "    table tr td {\n",
        "        background: #FFFFFFFF !important;\n",
        "        color: #111 !important;\n",
        "    }\n",
        "</style>\n",
        "| 함수명 | 영문명 (한글명) | 정의 및 설명 | 수식/특징 | 비고 |\n",
        "|--------|----------------|-------------|-----------|------|\n",
        "| PMF | Probability Mass Function<br>(확률 질량 함수) | 이산 확률 변수 $X$에 대해, 변수가 특정 값 $x_i$를 가질 확률 $P(X=x_i)$을 나타냅니다. | - 모든 가능한 $x_i$에 대한 PMF 값의 합은 1입니다: <br> $\\sum_i P(X=x_i) = 1$ | 이산 확률 변수에만 적용 |\n",
        "| PDF | Probability Density Function<br>(확률 밀도 함수) | 연속 확률 변수 $X$에 대해, 변수가 특정 구간 $[a, b]$에 속할 확률 $P(a \\le X \\le b)$는 PDF $f(x)$를 해당 구간에서 적분한 값($\\int_a^b f(x)dx$)으로 계산됩니다. <br> PDF 자체는 특정 지점에서의 확률이 아니라, 해당 지점에서의 확률의 밀도(상대적 가능성)를 나타냅니다. <br> 연속 확률 변수에서 특정 한 지점에서의 확률은 0입니다 ($P(X=x)=0$). <br> PDF 곡선 아래 전체 면적은 1입니다. | - $P(a \\le X \\le b) = \\int_a^b f(x)dx$ <br> - $\\int_{-\\infty}^{\\infty} f(x)dx = 1$ <br> - $P(X=x)=0$ | 연속 확률 변수에만 적용 |\n",
        "| CDF | Cumulative Distribution Function<br>(누적 분포 함수) | 확률 변수 $X$가 특정 값 $x$보다 작거나 같을 확률을 나타냅니다: $F(x)=P(X \\le x)$.<br> 이산 변수의 경우 $F(x) = \\sum_{x_i \\le x} P(X=x_i)$ 이고, 연속 변수의 경우 PDF를 $-\\infty$부터 $x$까지 적분한 값입니다.<br> 0에서 시작하여 1로 끝나는 비감소 함수입니다. | - 이산: $F(x) = \\sum_{x_i \\le x} P(X=x_i)$ <br><br>  - 연속: $F(x) = \\int_{-\\infty}^x f(t)dt$ <br><br>  - $F(x)$는 비감소 함수, $F(-\\infty)=0$, $F(\\infty)=1$ | 모든 확률 변수에 적용 |\n",
        "| SF | Survival Function<br>(생존 함수) | 확률 변수 $X$가 특정 값 $x$보다 클 확률을 나타냅니다: $S(x)=P(X > x)$.<br><br> $S(x)=1−CDF(x)$.<br> 생존 분석, 신뢰성 공학 등에서 주로 사용됩니다. | - $S(x) = 1 - F(x)$ <br> - $S(x) = P(X > x)$ | 모든 확률 변수에 적용 |\n"
      ]
    },
    {
      "cell_type": "code",
      "execution_count": 9,
      "metadata": {},
      "outputs": [
        {
          "data": {
            "application/vnd.plotly.v1+json": {
              "config": {
                "plotlyServerURL": "https://plot.ly"
              },
              "data": [
                {
                  "marker": {
                    "color": "royalblue"
                  },
                  "name": "PMF",
                  "type": "bar",
                  "x": {
                    "bdata": "AAECAwQFBgcICQo=",
                    "dtype": "i1"
                  },
                  "y": {
                    "bdata": "+v//////Tz8FAAAAAACEPwsAAAAAgKY/AwAAAAAAvj///////z/KPwcAAAAAgM8/AAAAAABAyj8DAAAAAAC+PwsAAAAAgKY/BQAAAAAAhD8AAAAAAABQPw==",
                    "dtype": "f8"
                  }
                },
                {
                  "line": {
                    "color": "green"
                  },
                  "mode": "lines+markers",
                  "name": "CDF",
                  "type": "scatter",
                  "x": {
                    "bdata": "AAECAwQFBgcICQo=",
                    "dtype": "i1"
                  },
                  "y": {
                    "bdata": "AAAAAAAAUD8AAAAAAACGPwAAAAAAAKw/AAAAAAAAxj8AAAAAACDYPwAAAAAA8OM/AAAAAACA6j8AAAAAAEDuPwAAAAAAqO8/AAAAAAD47z8AAAAAAADwPw==",
                    "dtype": "f8"
                  }
                },
                {
                  "line": {
                    "color": "red"
                  },
                  "mode": "lines+markers",
                  "name": "SF",
                  "type": "scatter",
                  "x": {
                    "bdata": "AAECAwQFBgcICQo=",
                    "dtype": "i1"
                  },
                  "y": {
                    "bdata": "AAAAAAD47z8AAAAAAKjvPwAAAAAAQO4/AAAAAACA6j8AAAAAAPDjPwAAAAAAINg/AAAAAAAAxj8AAAAAAACsPwAAAAAAAIY/AAAAAAAAUD8AAAAAAAAAAA==",
                    "dtype": "f8"
                  }
                }
              ],
              "layout": {
                "template": {
                  "data": {
                    "bar": [
                      {
                        "error_x": {
                          "color": "#2a3f5f"
                        },
                        "error_y": {
                          "color": "#2a3f5f"
                        },
                        "marker": {
                          "line": {
                            "color": "white",
                            "width": 0.5
                          },
                          "pattern": {
                            "fillmode": "overlay",
                            "size": 10,
                            "solidity": 0.2
                          }
                        },
                        "type": "bar"
                      }
                    ],
                    "barpolar": [
                      {
                        "marker": {
                          "line": {
                            "color": "white",
                            "width": 0.5
                          },
                          "pattern": {
                            "fillmode": "overlay",
                            "size": 10,
                            "solidity": 0.2
                          }
                        },
                        "type": "barpolar"
                      }
                    ],
                    "carpet": [
                      {
                        "aaxis": {
                          "endlinecolor": "#2a3f5f",
                          "gridcolor": "#C8D4E3",
                          "linecolor": "#C8D4E3",
                          "minorgridcolor": "#C8D4E3",
                          "startlinecolor": "#2a3f5f"
                        },
                        "baxis": {
                          "endlinecolor": "#2a3f5f",
                          "gridcolor": "#C8D4E3",
                          "linecolor": "#C8D4E3",
                          "minorgridcolor": "#C8D4E3",
                          "startlinecolor": "#2a3f5f"
                        },
                        "type": "carpet"
                      }
                    ],
                    "choropleth": [
                      {
                        "colorbar": {
                          "outlinewidth": 0,
                          "ticks": ""
                        },
                        "type": "choropleth"
                      }
                    ],
                    "contour": [
                      {
                        "colorbar": {
                          "outlinewidth": 0,
                          "ticks": ""
                        },
                        "colorscale": [
                          [
                            0,
                            "#0d0887"
                          ],
                          [
                            0.1111111111111111,
                            "#46039f"
                          ],
                          [
                            0.2222222222222222,
                            "#7201a8"
                          ],
                          [
                            0.3333333333333333,
                            "#9c179e"
                          ],
                          [
                            0.4444444444444444,
                            "#bd3786"
                          ],
                          [
                            0.5555555555555556,
                            "#d8576b"
                          ],
                          [
                            0.6666666666666666,
                            "#ed7953"
                          ],
                          [
                            0.7777777777777778,
                            "#fb9f3a"
                          ],
                          [
                            0.8888888888888888,
                            "#fdca26"
                          ],
                          [
                            1,
                            "#f0f921"
                          ]
                        ],
                        "type": "contour"
                      }
                    ],
                    "contourcarpet": [
                      {
                        "colorbar": {
                          "outlinewidth": 0,
                          "ticks": ""
                        },
                        "type": "contourcarpet"
                      }
                    ],
                    "heatmap": [
                      {
                        "colorbar": {
                          "outlinewidth": 0,
                          "ticks": ""
                        },
                        "colorscale": [
                          [
                            0,
                            "#0d0887"
                          ],
                          [
                            0.1111111111111111,
                            "#46039f"
                          ],
                          [
                            0.2222222222222222,
                            "#7201a8"
                          ],
                          [
                            0.3333333333333333,
                            "#9c179e"
                          ],
                          [
                            0.4444444444444444,
                            "#bd3786"
                          ],
                          [
                            0.5555555555555556,
                            "#d8576b"
                          ],
                          [
                            0.6666666666666666,
                            "#ed7953"
                          ],
                          [
                            0.7777777777777778,
                            "#fb9f3a"
                          ],
                          [
                            0.8888888888888888,
                            "#fdca26"
                          ],
                          [
                            1,
                            "#f0f921"
                          ]
                        ],
                        "type": "heatmap"
                      }
                    ],
                    "histogram": [
                      {
                        "marker": {
                          "pattern": {
                            "fillmode": "overlay",
                            "size": 10,
                            "solidity": 0.2
                          }
                        },
                        "type": "histogram"
                      }
                    ],
                    "histogram2d": [
                      {
                        "colorbar": {
                          "outlinewidth": 0,
                          "ticks": ""
                        },
                        "colorscale": [
                          [
                            0,
                            "#0d0887"
                          ],
                          [
                            0.1111111111111111,
                            "#46039f"
                          ],
                          [
                            0.2222222222222222,
                            "#7201a8"
                          ],
                          [
                            0.3333333333333333,
                            "#9c179e"
                          ],
                          [
                            0.4444444444444444,
                            "#bd3786"
                          ],
                          [
                            0.5555555555555556,
                            "#d8576b"
                          ],
                          [
                            0.6666666666666666,
                            "#ed7953"
                          ],
                          [
                            0.7777777777777778,
                            "#fb9f3a"
                          ],
                          [
                            0.8888888888888888,
                            "#fdca26"
                          ],
                          [
                            1,
                            "#f0f921"
                          ]
                        ],
                        "type": "histogram2d"
                      }
                    ],
                    "histogram2dcontour": [
                      {
                        "colorbar": {
                          "outlinewidth": 0,
                          "ticks": ""
                        },
                        "colorscale": [
                          [
                            0,
                            "#0d0887"
                          ],
                          [
                            0.1111111111111111,
                            "#46039f"
                          ],
                          [
                            0.2222222222222222,
                            "#7201a8"
                          ],
                          [
                            0.3333333333333333,
                            "#9c179e"
                          ],
                          [
                            0.4444444444444444,
                            "#bd3786"
                          ],
                          [
                            0.5555555555555556,
                            "#d8576b"
                          ],
                          [
                            0.6666666666666666,
                            "#ed7953"
                          ],
                          [
                            0.7777777777777778,
                            "#fb9f3a"
                          ],
                          [
                            0.8888888888888888,
                            "#fdca26"
                          ],
                          [
                            1,
                            "#f0f921"
                          ]
                        ],
                        "type": "histogram2dcontour"
                      }
                    ],
                    "mesh3d": [
                      {
                        "colorbar": {
                          "outlinewidth": 0,
                          "ticks": ""
                        },
                        "type": "mesh3d"
                      }
                    ],
                    "parcoords": [
                      {
                        "line": {
                          "colorbar": {
                            "outlinewidth": 0,
                            "ticks": ""
                          }
                        },
                        "type": "parcoords"
                      }
                    ],
                    "pie": [
                      {
                        "automargin": true,
                        "type": "pie"
                      }
                    ],
                    "scatter": [
                      {
                        "fillpattern": {
                          "fillmode": "overlay",
                          "size": 10,
                          "solidity": 0.2
                        },
                        "type": "scatter"
                      }
                    ],
                    "scatter3d": [
                      {
                        "line": {
                          "colorbar": {
                            "outlinewidth": 0,
                            "ticks": ""
                          }
                        },
                        "marker": {
                          "colorbar": {
                            "outlinewidth": 0,
                            "ticks": ""
                          }
                        },
                        "type": "scatter3d"
                      }
                    ],
                    "scattercarpet": [
                      {
                        "marker": {
                          "colorbar": {
                            "outlinewidth": 0,
                            "ticks": ""
                          }
                        },
                        "type": "scattercarpet"
                      }
                    ],
                    "scattergeo": [
                      {
                        "marker": {
                          "colorbar": {
                            "outlinewidth": 0,
                            "ticks": ""
                          }
                        },
                        "type": "scattergeo"
                      }
                    ],
                    "scattergl": [
                      {
                        "marker": {
                          "colorbar": {
                            "outlinewidth": 0,
                            "ticks": ""
                          }
                        },
                        "type": "scattergl"
                      }
                    ],
                    "scattermap": [
                      {
                        "marker": {
                          "colorbar": {
                            "outlinewidth": 0,
                            "ticks": ""
                          }
                        },
                        "type": "scattermap"
                      }
                    ],
                    "scattermapbox": [
                      {
                        "marker": {
                          "colorbar": {
                            "outlinewidth": 0,
                            "ticks": ""
                          }
                        },
                        "type": "scattermapbox"
                      }
                    ],
                    "scatterpolar": [
                      {
                        "marker": {
                          "colorbar": {
                            "outlinewidth": 0,
                            "ticks": ""
                          }
                        },
                        "type": "scatterpolar"
                      }
                    ],
                    "scatterpolargl": [
                      {
                        "marker": {
                          "colorbar": {
                            "outlinewidth": 0,
                            "ticks": ""
                          }
                        },
                        "type": "scatterpolargl"
                      }
                    ],
                    "scatterternary": [
                      {
                        "marker": {
                          "colorbar": {
                            "outlinewidth": 0,
                            "ticks": ""
                          }
                        },
                        "type": "scatterternary"
                      }
                    ],
                    "surface": [
                      {
                        "colorbar": {
                          "outlinewidth": 0,
                          "ticks": ""
                        },
                        "colorscale": [
                          [
                            0,
                            "#0d0887"
                          ],
                          [
                            0.1111111111111111,
                            "#46039f"
                          ],
                          [
                            0.2222222222222222,
                            "#7201a8"
                          ],
                          [
                            0.3333333333333333,
                            "#9c179e"
                          ],
                          [
                            0.4444444444444444,
                            "#bd3786"
                          ],
                          [
                            0.5555555555555556,
                            "#d8576b"
                          ],
                          [
                            0.6666666666666666,
                            "#ed7953"
                          ],
                          [
                            0.7777777777777778,
                            "#fb9f3a"
                          ],
                          [
                            0.8888888888888888,
                            "#fdca26"
                          ],
                          [
                            1,
                            "#f0f921"
                          ]
                        ],
                        "type": "surface"
                      }
                    ],
                    "table": [
                      {
                        "cells": {
                          "fill": {
                            "color": "#EBF0F8"
                          },
                          "line": {
                            "color": "white"
                          }
                        },
                        "header": {
                          "fill": {
                            "color": "#C8D4E3"
                          },
                          "line": {
                            "color": "white"
                          }
                        },
                        "type": "table"
                      }
                    ]
                  },
                  "layout": {
                    "annotationdefaults": {
                      "arrowcolor": "#2a3f5f",
                      "arrowhead": 0,
                      "arrowwidth": 1
                    },
                    "autotypenumbers": "strict",
                    "coloraxis": {
                      "colorbar": {
                        "outlinewidth": 0,
                        "ticks": ""
                      }
                    },
                    "colorscale": {
                      "diverging": [
                        [
                          0,
                          "#8e0152"
                        ],
                        [
                          0.1,
                          "#c51b7d"
                        ],
                        [
                          0.2,
                          "#de77ae"
                        ],
                        [
                          0.3,
                          "#f1b6da"
                        ],
                        [
                          0.4,
                          "#fde0ef"
                        ],
                        [
                          0.5,
                          "#f7f7f7"
                        ],
                        [
                          0.6,
                          "#e6f5d0"
                        ],
                        [
                          0.7,
                          "#b8e186"
                        ],
                        [
                          0.8,
                          "#7fbc41"
                        ],
                        [
                          0.9,
                          "#4d9221"
                        ],
                        [
                          1,
                          "#276419"
                        ]
                      ],
                      "sequential": [
                        [
                          0,
                          "#0d0887"
                        ],
                        [
                          0.1111111111111111,
                          "#46039f"
                        ],
                        [
                          0.2222222222222222,
                          "#7201a8"
                        ],
                        [
                          0.3333333333333333,
                          "#9c179e"
                        ],
                        [
                          0.4444444444444444,
                          "#bd3786"
                        ],
                        [
                          0.5555555555555556,
                          "#d8576b"
                        ],
                        [
                          0.6666666666666666,
                          "#ed7953"
                        ],
                        [
                          0.7777777777777778,
                          "#fb9f3a"
                        ],
                        [
                          0.8888888888888888,
                          "#fdca26"
                        ],
                        [
                          1,
                          "#f0f921"
                        ]
                      ],
                      "sequentialminus": [
                        [
                          0,
                          "#0d0887"
                        ],
                        [
                          0.1111111111111111,
                          "#46039f"
                        ],
                        [
                          0.2222222222222222,
                          "#7201a8"
                        ],
                        [
                          0.3333333333333333,
                          "#9c179e"
                        ],
                        [
                          0.4444444444444444,
                          "#bd3786"
                        ],
                        [
                          0.5555555555555556,
                          "#d8576b"
                        ],
                        [
                          0.6666666666666666,
                          "#ed7953"
                        ],
                        [
                          0.7777777777777778,
                          "#fb9f3a"
                        ],
                        [
                          0.8888888888888888,
                          "#fdca26"
                        ],
                        [
                          1,
                          "#f0f921"
                        ]
                      ]
                    },
                    "colorway": [
                      "#636efa",
                      "#EF553B",
                      "#00cc96",
                      "#ab63fa",
                      "#FFA15A",
                      "#19d3f3",
                      "#FF6692",
                      "#B6E880",
                      "#FF97FF",
                      "#FECB52"
                    ],
                    "font": {
                      "color": "#2a3f5f"
                    },
                    "geo": {
                      "bgcolor": "white",
                      "lakecolor": "white",
                      "landcolor": "white",
                      "showlakes": true,
                      "showland": true,
                      "subunitcolor": "#C8D4E3"
                    },
                    "hoverlabel": {
                      "align": "left"
                    },
                    "hovermode": "closest",
                    "mapbox": {
                      "style": "light"
                    },
                    "paper_bgcolor": "white",
                    "plot_bgcolor": "white",
                    "polar": {
                      "angularaxis": {
                        "gridcolor": "#EBF0F8",
                        "linecolor": "#EBF0F8",
                        "ticks": ""
                      },
                      "bgcolor": "white",
                      "radialaxis": {
                        "gridcolor": "#EBF0F8",
                        "linecolor": "#EBF0F8",
                        "ticks": ""
                      }
                    },
                    "scene": {
                      "xaxis": {
                        "backgroundcolor": "white",
                        "gridcolor": "#DFE8F3",
                        "gridwidth": 2,
                        "linecolor": "#EBF0F8",
                        "showbackground": true,
                        "ticks": "",
                        "zerolinecolor": "#EBF0F8"
                      },
                      "yaxis": {
                        "backgroundcolor": "white",
                        "gridcolor": "#DFE8F3",
                        "gridwidth": 2,
                        "linecolor": "#EBF0F8",
                        "showbackground": true,
                        "ticks": "",
                        "zerolinecolor": "#EBF0F8"
                      },
                      "zaxis": {
                        "backgroundcolor": "white",
                        "gridcolor": "#DFE8F3",
                        "gridwidth": 2,
                        "linecolor": "#EBF0F8",
                        "showbackground": true,
                        "ticks": "",
                        "zerolinecolor": "#EBF0F8"
                      }
                    },
                    "shapedefaults": {
                      "line": {
                        "color": "#2a3f5f"
                      }
                    },
                    "ternary": {
                      "aaxis": {
                        "gridcolor": "#DFE8F3",
                        "linecolor": "#A2B1C6",
                        "ticks": ""
                      },
                      "baxis": {
                        "gridcolor": "#DFE8F3",
                        "linecolor": "#A2B1C6",
                        "ticks": ""
                      },
                      "bgcolor": "white",
                      "caxis": {
                        "gridcolor": "#DFE8F3",
                        "linecolor": "#A2B1C6",
                        "ticks": ""
                      }
                    },
                    "title": {
                      "x": 0.05
                    },
                    "xaxis": {
                      "automargin": true,
                      "gridcolor": "#EBF0F8",
                      "linecolor": "#EBF0F8",
                      "ticks": "",
                      "title": {
                        "standoff": 15
                      },
                      "zerolinecolor": "#EBF0F8",
                      "zerolinewidth": 2
                    },
                    "yaxis": {
                      "automargin": true,
                      "gridcolor": "#EBF0F8",
                      "linecolor": "#EBF0F8",
                      "ticks": "",
                      "title": {
                        "standoff": 15
                      },
                      "zerolinecolor": "#EBF0F8",
                      "zerolinewidth": 2
                    }
                  }
                },
                "title": {
                  "text": "이항분포 (n=10, p=0.5)의 PMF, CDF, SF"
                },
                "xaxis": {
                  "title": {
                    "text": "k"
                  }
                },
                "yaxis": {
                  "title": {
                    "text": "확률/누적확률"
                  }
                }
              }
            }
          },
          "metadata": {},
          "output_type": "display_data"
        }
      ],
      "source": [
        "# 이산형 확률 변수: 이항분포 PMF, CDF, SF\n",
        "n, p = 10, 0.5\n",
        "x_discrete = np.arange(0, n+1)\n",
        "pmf_discrete = binom.pmf(x_discrete, n, p)\n",
        "cdf_discrete = binom.cdf(x_discrete, n, p)\n",
        "sf_discrete = binom.sf(x_discrete, n, p)\n",
        "\n",
        "fig_discrete = go.Figure()\n",
        "fig_discrete.add_trace(go.Bar(x=x_discrete, y=pmf_discrete, name=\"PMF\", marker_color='royalblue'))\n",
        "fig_discrete.add_trace(go.Scatter(x=x_discrete, y=cdf_discrete, mode='lines+markers', name=\"CDF\", line=dict(color='green')))\n",
        "fig_discrete.add_trace(go.Scatter(x=x_discrete, y=sf_discrete, mode='lines+markers', name=\"SF\", line=dict(color='red')))\n",
        "fig_discrete.update_layout(\n",
        "    title=\"이항분포 (n=10, p=0.5)의 PMF, CDF, SF\",\n",
        "    xaxis_title=\"k\",\n",
        "    yaxis_title=\"확률/누적확률\",\n",
        "    template=\"plotly_white\"\n",
        ")\n",
        "fig_discrete.show()\n"
      ]
    },
    {
      "cell_type": "code",
      "execution_count": 10,
      "metadata": {},
      "outputs": [
        {
          "data": {
            "application/vnd.plotly.v1+json": {
              "config": {
                "plotlyServerURL": "https://plot.ly"
              },
              "data": [
                {
                  "line": {
                    "color": "royalblue"
                  },
                  "mode": "lines",
                  "name": "PDF",
                  "type": "scatter",
                  "x": {
                    "bdata": "AAAAAAAAEMC+NHEYq60PwH1p4jBWWw/AO55TSQEJD8D60sRhrLYOwLgHNnpXZA7AdjynkgISDsA1cRirrb8NwPOlicNYbQ3Astr62wMbDcBwD2z0rsgMwC5E3QxadgzA7XhOJQUkDMCrrb89sNELwGriMFZbfwvAKBeibgYtC8DmSxOHsdoKwKWAhJ9ciArAY7X1twc2CsAi6mbQsuMJwOAe2OhdkQnAnlNJAQk/CcBciLoZtOwIwBu9KzJfmgjA2vGcSgpICMCYJg5jtfUHwFZbf3tgowfAFJDwkwtRB8DTxGGstv4GwJL50sRhrAbAUC5E3QxaBsAOY7X1twcGwMyXJg5jtQXAi8yXJg5jBcBKAQk/uRAFwAg2eldkvgTAxmrrbw9sBMCEn1yIuhkEwEPUzaBlxwPAAQk/uRB1A8DAPbDRuyIDwH5yIepm0ALAPKeSAhJ+AsD72wMbvSsCwLkQdTNo2QHAeEXmSxOHAcA2eldkvjQBwPSuyHxp4gDAs+M5lRSQAMBxGKutvz0AwGCaOIzV1v+/3AMbvSsy/79Ybf3tgY3+v9bW3x7Y6P2/UkDCTy5E/b/OqaSAhJ/8v0wTh7Ha+vu/yHxp4jBW+79G5ksTh7H6v8JPLkTdDPq/PrkQdTNo+b+8IvOlicP4vziM1dbfHvi/tvW3BzZ6978yX5o4jNX2v67IfGniMPa/LDJfmjiM9b+om0HLjuf0vyYFJPzkQvS/om4GLTue878e2Ohdkfnyv5xBy47nVPK/GKutvz2w8b+WFJDwkwvxvxJ+ciHqZvC/HM+ppICE778Yom4GLTvuvxB1M2jZ8ey/CEj4yYWo678EG70rMl/qv/ztgY3eFem/+MBG74rM57/wkwtRN4Pmv+hm0LLjOeW/5DmVFJDw47/cDFp2PKfiv9jfHtjoXeG/0LLjOZUU4L+QC1E3g5bdv4ix2vrbA9u/eFdkvjRx2L9w/e2Bjd7Vv2Cjd0XmS9O/UEkBCT+50L+Q3hWZL03Mv3AqKSDhJ8e/YHY8p5ICwr+AhJ9ciLq5v4A4jNXW366/gNCy4zmVlL8A0LLjOZWUP4A4jNXW364/gISfXIi6uT9gdjynkgLCP4AqKSDhJ8c/gN4VmS9NzD9QSQEJP7nQP2Cjd0XmS9M/cP3tgY3e1T+AV2S+NHHYP5Cx2vrbA9s/kAtRN4OW3T/QsuM5lRTgP9jfHtjoXeE/4Axadjyn4j/oOZUUkPDjP+hm0LLjOeU/8JMLUTeD5j/4wEbvisznPwDugY3eFek/CBu9KzJf6j8ISPjJhajrPxB1M2jZ8ew/GKJuBi077j8gz6mkgITvPxR+ciHqZvA/lBSQ8JML8T8Yq62/PbDxP5xBy47nVPI/INjoXZH58j+kbgYtO57zPyQFJPzkQvQ/qJtBy47n9D8sMl+aOIz1P7DIfGniMPY/NF+aOIzV9j+09bcHNnr3PziM1dbfHvg/vCLzpYnD+D9AuRB1M2j5P8RPLkTdDPo/ROZLE4ex+j/IfGniMFb7P0wTh7Ha+vs/0KmkgISf/D9UQMJPLkT9P9TW3x7Y6P0/WG397YGN/j/cAxu9KzL/P2CaOIzV1v8/chirrb89AEC04zmVFJAAQPSuyHxp4gBANnpXZL40AUB4ReZLE4cBQLoQdTNo2QFA/NsDG70rAkA8p5ICEn4CQH5yIepm0AJAwD2w0bsiA0ACCT+5EHUDQETUzaBlxwNAhJ9ciLoZBEDGautvD2wEQAg2eldkvgRASgEJP7kQBUCMzJcmDmMFQMyXJg5jtQVADmO19bcHBkBQLkTdDFoGQJL50sRhrAZA1MRhrLb+BkAUkPCTC1EHQFZbf3tgowdAmCYOY7X1B0Da8ZxKCkgIQBy9KzJfmghAXIi6GbTsCECeU0kBCT8JQOAe2OhdkQlAIupm0LLjCUBktfW3BzYKQKSAhJ9ciApA5ksTh7HaCkAoF6JuBi0LQGriMFZbfwtArK2/PbDRC0DseE4lBSQMQC5E3QxadgxAcA9s9K7IDECy2vrbAxsNQPSlicNYbQ1ANHEYq62/DUB2PKeSAhIOQLgHNnpXZA5A+tLEYay2DkA8nlNJAQkPQH5p4jBWWw9AvjRxGKutD0AAAAAAAAAQQA==",
                    "dtype": "f8"
                  },
                  "y": {
                    "bdata": "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",
                    "dtype": "f8"
                  }
                },
                {
                  "line": {
                    "color": "green"
                  },
                  "mode": "lines",
                  "name": "CDF",
                  "type": "scatter",
                  "x": {
                    "bdata": "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",
                    "dtype": "f8"
                  },
                  "y": {
                    "bdata": "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",
                    "dtype": "f8"
                  }
                },
                {
                  "line": {
                    "color": "red"
                  },
                  "mode": "lines",
                  "name": "SF",
                  "type": "scatter",
                  "x": {
                    "bdata": "AAAAAAAAEMC+NHEYq60PwH1p4jBWWw/AO55TSQEJD8D60sRhrLYOwLgHNnpXZA7AdjynkgISDsA1cRirrb8NwPOlicNYbQ3Astr62wMbDcBwD2z0rsgMwC5E3QxadgzA7XhOJQUkDMCrrb89sNELwGriMFZbfwvAKBeibgYtC8DmSxOHsdoKwKWAhJ9ciArAY7X1twc2CsAi6mbQsuMJwOAe2OhdkQnAnlNJAQk/CcBciLoZtOwIwBu9KzJfmgjA2vGcSgpICMCYJg5jtfUHwFZbf3tgowfAFJDwkwtRB8DTxGGstv4GwJL50sRhrAbAUC5E3QxaBsAOY7X1twcGwMyXJg5jtQXAi8yXJg5jBcBKAQk/uRAFwAg2eldkvgTAxmrrbw9sBMCEn1yIuhkEwEPUzaBlxwPAAQk/uRB1A8DAPbDRuyIDwH5yIepm0ALAPKeSAhJ+AsD72wMbvSsCwLkQdTNo2QHAeEXmSxOHAcA2eldkvjQBwPSuyHxp4gDAs+M5lRSQAMBxGKutvz0AwGCaOIzV1v+/3AMbvSsy/79Ybf3tgY3+v9bW3x7Y6P2/UkDCTy5E/b/OqaSAhJ/8v0wTh7Ha+vu/yHxp4jBW+79G5ksTh7H6v8JPLkTdDPq/PrkQdTNo+b+8IvOlicP4vziM1dbfHvi/tvW3BzZ6978yX5o4jNX2v67IfGniMPa/LDJfmjiM9b+om0HLjuf0vyYFJPzkQvS/om4GLTue878e2Ohdkfnyv5xBy47nVPK/GKutvz2w8b+WFJDwkwvxvxJ+ciHqZvC/HM+ppICE778Yom4GLTvuvxB1M2jZ8ey/CEj4yYWo678EG70rMl/qv/ztgY3eFem/+MBG74rM57/wkwtRN4Pmv+hm0LLjOeW/5DmVFJDw47/cDFp2PKfiv9jfHtjoXeG/0LLjOZUU4L+QC1E3g5bdv4ix2vrbA9u/eFdkvjRx2L9w/e2Bjd7Vv2Cjd0XmS9O/UEkBCT+50L+Q3hWZL03Mv3AqKSDhJ8e/YHY8p5ICwr+AhJ9ciLq5v4A4jNXW366/gNCy4zmVlL8A0LLjOZWUP4A4jNXW364/gISfXIi6uT9gdjynkgLCP4AqKSDhJ8c/gN4VmS9NzD9QSQEJP7nQP2Cjd0XmS9M/cP3tgY3e1T+AV2S+NHHYP5Cx2vrbA9s/kAtRN4OW3T/QsuM5lRTgP9jfHtjoXeE/4Axadjyn4j/oOZUUkPDjP+hm0LLjOeU/8JMLUTeD5j/4wEbvisznPwDugY3eFek/CBu9KzJf6j8ISPjJhajrPxB1M2jZ8ew/GKJuBi077j8gz6mkgITvPxR+ciHqZvA/lBSQ8JML8T8Yq62/PbDxP5xBy47nVPI/INjoXZH58j+kbgYtO57zPyQFJPzkQvQ/qJtBy47n9D8sMl+aOIz1P7DIfGniMPY/NF+aOIzV9j+09bcHNnr3PziM1dbfHvg/vCLzpYnD+D9AuRB1M2j5P8RPLkTdDPo/ROZLE4ex+j/IfGniMFb7P0wTh7Ha+vs/0KmkgISf/D9UQMJPLkT9P9TW3x7Y6P0/WG397YGN/j/cAxu9KzL/P2CaOIzV1v8/chirrb89AEC04zmVFJAAQPSuyHxp4gBANnpXZL40AUB4ReZLE4cBQLoQdTNo2QFA/NsDG70rAkA8p5ICEn4CQH5yIepm0AJAwD2w0bsiA0ACCT+5EHUDQETUzaBlxwNAhJ9ciLoZBEDGautvD2wEQAg2eldkvgRASgEJP7kQBUCMzJcmDmMFQMyXJg5jtQVADmO19bcHBkBQLkTdDFoGQJL50sRhrAZA1MRhrLb+BkAUkPCTC1EHQFZbf3tgowdAmCYOY7X1B0Da8ZxKCkgIQBy9KzJfmghAXIi6GbTsCECeU0kBCT8JQOAe2OhdkQlAIupm0LLjCUBktfW3BzYKQKSAhJ9ciApA5ksTh7HaCkAoF6JuBi0LQGriMFZbfwtArK2/PbDRC0DseE4lBSQMQC5E3QxadgxAcA9s9K7IDECy2vrbAxsNQPSlicNYbQ1ANHEYq62/DUB2PKeSAhIOQLgHNnpXZA5A+tLEYay2DkA8nlNJAQkPQH5p4jBWWw9AvjRxGKutD0AAAAAAAAAQQA==",
                    "dtype": "f8"
                  },
                  "y": {
                    "bdata": "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",
                    "dtype": "f8"
                  }
                }
              ],
              "layout": {
                "template": {
                  "data": {
                    "bar": [
                      {
                        "error_x": {
                          "color": "#2a3f5f"
                        },
                        "error_y": {
                          "color": "#2a3f5f"
                        },
                        "marker": {
                          "line": {
                            "color": "white",
                            "width": 0.5
                          },
                          "pattern": {
                            "fillmode": "overlay",
                            "size": 10,
                            "solidity": 0.2
                          }
                        },
                        "type": "bar"
                      }
                    ],
                    "barpolar": [
                      {
                        "marker": {
                          "line": {
                            "color": "white",
                            "width": 0.5
                          },
                          "pattern": {
                            "fillmode": "overlay",
                            "size": 10,
                            "solidity": 0.2
                          }
                        },
                        "type": "barpolar"
                      }
                    ],
                    "carpet": [
                      {
                        "aaxis": {
                          "endlinecolor": "#2a3f5f",
                          "gridcolor": "#C8D4E3",
                          "linecolor": "#C8D4E3",
                          "minorgridcolor": "#C8D4E3",
                          "startlinecolor": "#2a3f5f"
                        },
                        "baxis": {
                          "endlinecolor": "#2a3f5f",
                          "gridcolor": "#C8D4E3",
                          "linecolor": "#C8D4E3",
                          "minorgridcolor": "#C8D4E3",
                          "startlinecolor": "#2a3f5f"
                        },
                        "type": "carpet"
                      }
                    ],
                    "choropleth": [
                      {
                        "colorbar": {
                          "outlinewidth": 0,
                          "ticks": ""
                        },
                        "type": "choropleth"
                      }
                    ],
                    "contour": [
                      {
                        "colorbar": {
                          "outlinewidth": 0,
                          "ticks": ""
                        },
                        "colorscale": [
                          [
                            0,
                            "#0d0887"
                          ],
                          [
                            0.1111111111111111,
                            "#46039f"
                          ],
                          [
                            0.2222222222222222,
                            "#7201a8"
                          ],
                          [
                            0.3333333333333333,
                            "#9c179e"
                          ],
                          [
                            0.4444444444444444,
                            "#bd3786"
                          ],
                          [
                            0.5555555555555556,
                            "#d8576b"
                          ],
                          [
                            0.6666666666666666,
                            "#ed7953"
                          ],
                          [
                            0.7777777777777778,
                            "#fb9f3a"
                          ],
                          [
                            0.8888888888888888,
                            "#fdca26"
                          ],
                          [
                            1,
                            "#f0f921"
                          ]
                        ],
                        "type": "contour"
                      }
                    ],
                    "contourcarpet": [
                      {
                        "colorbar": {
                          "outlinewidth": 0,
                          "ticks": ""
                        },
                        "type": "contourcarpet"
                      }
                    ],
                    "heatmap": [
                      {
                        "colorbar": {
                          "outlinewidth": 0,
                          "ticks": ""
                        },
                        "colorscale": [
                          [
                            0,
                            "#0d0887"
                          ],
                          [
                            0.1111111111111111,
                            "#46039f"
                          ],
                          [
                            0.2222222222222222,
                            "#7201a8"
                          ],
                          [
                            0.3333333333333333,
                            "#9c179e"
                          ],
                          [
                            0.4444444444444444,
                            "#bd3786"
                          ],
                          [
                            0.5555555555555556,
                            "#d8576b"
                          ],
                          [
                            0.6666666666666666,
                            "#ed7953"
                          ],
                          [
                            0.7777777777777778,
                            "#fb9f3a"
                          ],
                          [
                            0.8888888888888888,
                            "#fdca26"
                          ],
                          [
                            1,
                            "#f0f921"
                          ]
                        ],
                        "type": "heatmap"
                      }
                    ],
                    "histogram": [
                      {
                        "marker": {
                          "pattern": {
                            "fillmode": "overlay",
                            "size": 10,
                            "solidity": 0.2
                          }
                        },
                        "type": "histogram"
                      }
                    ],
                    "histogram2d": [
                      {
                        "colorbar": {
                          "outlinewidth": 0,
                          "ticks": ""
                        },
                        "colorscale": [
                          [
                            0,
                            "#0d0887"
                          ],
                          [
                            0.1111111111111111,
                            "#46039f"
                          ],
                          [
                            0.2222222222222222,
                            "#7201a8"
                          ],
                          [
                            0.3333333333333333,
                            "#9c179e"
                          ],
                          [
                            0.4444444444444444,
                            "#bd3786"
                          ],
                          [
                            0.5555555555555556,
                            "#d8576b"
                          ],
                          [
                            0.6666666666666666,
                            "#ed7953"
                          ],
                          [
                            0.7777777777777778,
                            "#fb9f3a"
                          ],
                          [
                            0.8888888888888888,
                            "#fdca26"
                          ],
                          [
                            1,
                            "#f0f921"
                          ]
                        ],
                        "type": "histogram2d"
                      }
                    ],
                    "histogram2dcontour": [
                      {
                        "colorbar": {
                          "outlinewidth": 0,
                          "ticks": ""
                        },
                        "colorscale": [
                          [
                            0,
                            "#0d0887"
                          ],
                          [
                            0.1111111111111111,
                            "#46039f"
                          ],
                          [
                            0.2222222222222222,
                            "#7201a8"
                          ],
                          [
                            0.3333333333333333,
                            "#9c179e"
                          ],
                          [
                            0.4444444444444444,
                            "#bd3786"
                          ],
                          [
                            0.5555555555555556,
                            "#d8576b"
                          ],
                          [
                            0.6666666666666666,
                            "#ed7953"
                          ],
                          [
                            0.7777777777777778,
                            "#fb9f3a"
                          ],
                          [
                            0.8888888888888888,
                            "#fdca26"
                          ],
                          [
                            1,
                            "#f0f921"
                          ]
                        ],
                        "type": "histogram2dcontour"
                      }
                    ],
                    "mesh3d": [
                      {
                        "colorbar": {
                          "outlinewidth": 0,
                          "ticks": ""
                        },
                        "type": "mesh3d"
                      }
                    ],
                    "parcoords": [
                      {
                        "line": {
                          "colorbar": {
                            "outlinewidth": 0,
                            "ticks": ""
                          }
                        },
                        "type": "parcoords"
                      }
                    ],
                    "pie": [
                      {
                        "automargin": true,
                        "type": "pie"
                      }
                    ],
                    "scatter": [
                      {
                        "fillpattern": {
                          "fillmode": "overlay",
                          "size": 10,
                          "solidity": 0.2
                        },
                        "type": "scatter"
                      }
                    ],
                    "scatter3d": [
                      {
                        "line": {
                          "colorbar": {
                            "outlinewidth": 0,
                            "ticks": ""
                          }
                        },
                        "marker": {
                          "colorbar": {
                            "outlinewidth": 0,
                            "ticks": ""
                          }
                        },
                        "type": "scatter3d"
                      }
                    ],
                    "scattercarpet": [
                      {
                        "marker": {
                          "colorbar": {
                            "outlinewidth": 0,
                            "ticks": ""
                          }
                        },
                        "type": "scattercarpet"
                      }
                    ],
                    "scattergeo": [
                      {
                        "marker": {
                          "colorbar": {
                            "outlinewidth": 0,
                            "ticks": ""
                          }
                        },
                        "type": "scattergeo"
                      }
                    ],
                    "scattergl": [
                      {
                        "marker": {
                          "colorbar": {
                            "outlinewidth": 0,
                            "ticks": ""
                          }
                        },
                        "type": "scattergl"
                      }
                    ],
                    "scattermap": [
                      {
                        "marker": {
                          "colorbar": {
                            "outlinewidth": 0,
                            "ticks": ""
                          }
                        },
                        "type": "scattermap"
                      }
                    ],
                    "scattermapbox": [
                      {
                        "marker": {
                          "colorbar": {
                            "outlinewidth": 0,
                            "ticks": ""
                          }
                        },
                        "type": "scattermapbox"
                      }
                    ],
                    "scatterpolar": [
                      {
                        "marker": {
                          "colorbar": {
                            "outlinewidth": 0,
                            "ticks": ""
                          }
                        },
                        "type": "scatterpolar"
                      }
                    ],
                    "scatterpolargl": [
                      {
                        "marker": {
                          "colorbar": {
                            "outlinewidth": 0,
                            "ticks": ""
                          }
                        },
                        "type": "scatterpolargl"
                      }
                    ],
                    "scatterternary": [
                      {
                        "marker": {
                          "colorbar": {
                            "outlinewidth": 0,
                            "ticks": ""
                          }
                        },
                        "type": "scatterternary"
                      }
                    ],
                    "surface": [
                      {
                        "colorbar": {
                          "outlinewidth": 0,
                          "ticks": ""
                        },
                        "colorscale": [
                          [
                            0,
                            "#0d0887"
                          ],
                          [
                            0.1111111111111111,
                            "#46039f"
                          ],
                          [
                            0.2222222222222222,
                            "#7201a8"
                          ],
                          [
                            0.3333333333333333,
                            "#9c179e"
                          ],
                          [
                            0.4444444444444444,
                            "#bd3786"
                          ],
                          [
                            0.5555555555555556,
                            "#d8576b"
                          ],
                          [
                            0.6666666666666666,
                            "#ed7953"
                          ],
                          [
                            0.7777777777777778,
                            "#fb9f3a"
                          ],
                          [
                            0.8888888888888888,
                            "#fdca26"
                          ],
                          [
                            1,
                            "#f0f921"
                          ]
                        ],
                        "type": "surface"
                      }
                    ],
                    "table": [
                      {
                        "cells": {
                          "fill": {
                            "color": "#EBF0F8"
                          },
                          "line": {
                            "color": "white"
                          }
                        },
                        "header": {
                          "fill": {
                            "color": "#C8D4E3"
                          },
                          "line": {
                            "color": "white"
                          }
                        },
                        "type": "table"
                      }
                    ]
                  },
                  "layout": {
                    "annotationdefaults": {
                      "arrowcolor": "#2a3f5f",
                      "arrowhead": 0,
                      "arrowwidth": 1
                    },
                    "autotypenumbers": "strict",
                    "coloraxis": {
                      "colorbar": {
                        "outlinewidth": 0,
                        "ticks": ""
                      }
                    },
                    "colorscale": {
                      "diverging": [
                        [
                          0,
                          "#8e0152"
                        ],
                        [
                          0.1,
                          "#c51b7d"
                        ],
                        [
                          0.2,
                          "#de77ae"
                        ],
                        [
                          0.3,
                          "#f1b6da"
                        ],
                        [
                          0.4,
                          "#fde0ef"
                        ],
                        [
                          0.5,
                          "#f7f7f7"
                        ],
                        [
                          0.6,
                          "#e6f5d0"
                        ],
                        [
                          0.7,
                          "#b8e186"
                        ],
                        [
                          0.8,
                          "#7fbc41"
                        ],
                        [
                          0.9,
                          "#4d9221"
                        ],
                        [
                          1,
                          "#276419"
                        ]
                      ],
                      "sequential": [
                        [
                          0,
                          "#0d0887"
                        ],
                        [
                          0.1111111111111111,
                          "#46039f"
                        ],
                        [
                          0.2222222222222222,
                          "#7201a8"
                        ],
                        [
                          0.3333333333333333,
                          "#9c179e"
                        ],
                        [
                          0.4444444444444444,
                          "#bd3786"
                        ],
                        [
                          0.5555555555555556,
                          "#d8576b"
                        ],
                        [
                          0.6666666666666666,
                          "#ed7953"
                        ],
                        [
                          0.7777777777777778,
                          "#fb9f3a"
                        ],
                        [
                          0.8888888888888888,
                          "#fdca26"
                        ],
                        [
                          1,
                          "#f0f921"
                        ]
                      ],
                      "sequentialminus": [
                        [
                          0,
                          "#0d0887"
                        ],
                        [
                          0.1111111111111111,
                          "#46039f"
                        ],
                        [
                          0.2222222222222222,
                          "#7201a8"
                        ],
                        [
                          0.3333333333333333,
                          "#9c179e"
                        ],
                        [
                          0.4444444444444444,
                          "#bd3786"
                        ],
                        [
                          0.5555555555555556,
                          "#d8576b"
                        ],
                        [
                          0.6666666666666666,
                          "#ed7953"
                        ],
                        [
                          0.7777777777777778,
                          "#fb9f3a"
                        ],
                        [
                          0.8888888888888888,
                          "#fdca26"
                        ],
                        [
                          1,
                          "#f0f921"
                        ]
                      ]
                    },
                    "colorway": [
                      "#636efa",
                      "#EF553B",
                      "#00cc96",
                      "#ab63fa",
                      "#FFA15A",
                      "#19d3f3",
                      "#FF6692",
                      "#B6E880",
                      "#FF97FF",
                      "#FECB52"
                    ],
                    "font": {
                      "color": "#2a3f5f"
                    },
                    "geo": {
                      "bgcolor": "white",
                      "lakecolor": "white",
                      "landcolor": "white",
                      "showlakes": true,
                      "showland": true,
                      "subunitcolor": "#C8D4E3"
                    },
                    "hoverlabel": {
                      "align": "left"
                    },
                    "hovermode": "closest",
                    "mapbox": {
                      "style": "light"
                    },
                    "paper_bgcolor": "white",
                    "plot_bgcolor": "white",
                    "polar": {
                      "angularaxis": {
                        "gridcolor": "#EBF0F8",
                        "linecolor": "#EBF0F8",
                        "ticks": ""
                      },
                      "bgcolor": "white",
                      "radialaxis": {
                        "gridcolor": "#EBF0F8",
                        "linecolor": "#EBF0F8",
                        "ticks": ""
                      }
                    },
                    "scene": {
                      "xaxis": {
                        "backgroundcolor": "white",
                        "gridcolor": "#DFE8F3",
                        "gridwidth": 2,
                        "linecolor": "#EBF0F8",
                        "showbackground": true,
                        "ticks": "",
                        "zerolinecolor": "#EBF0F8"
                      },
                      "yaxis": {
                        "backgroundcolor": "white",
                        "gridcolor": "#DFE8F3",
                        "gridwidth": 2,
                        "linecolor": "#EBF0F8",
                        "showbackground": true,
                        "ticks": "",
                        "zerolinecolor": "#EBF0F8"
                      },
                      "zaxis": {
                        "backgroundcolor": "white",
                        "gridcolor": "#DFE8F3",
                        "gridwidth": 2,
                        "linecolor": "#EBF0F8",
                        "showbackground": true,
                        "ticks": "",
                        "zerolinecolor": "#EBF0F8"
                      }
                    },
                    "shapedefaults": {
                      "line": {
                        "color": "#2a3f5f"
                      }
                    },
                    "ternary": {
                      "aaxis": {
                        "gridcolor": "#DFE8F3",
                        "linecolor": "#A2B1C6",
                        "ticks": ""
                      },
                      "baxis": {
                        "gridcolor": "#DFE8F3",
                        "linecolor": "#A2B1C6",
                        "ticks": ""
                      },
                      "bgcolor": "white",
                      "caxis": {
                        "gridcolor": "#DFE8F3",
                        "linecolor": "#A2B1C6",
                        "ticks": ""
                      }
                    },
                    "title": {
                      "x": 0.05
                    },
                    "xaxis": {
                      "automargin": true,
                      "gridcolor": "#EBF0F8",
                      "linecolor": "#EBF0F8",
                      "ticks": "",
                      "title": {
                        "standoff": 15
                      },
                      "zerolinecolor": "#EBF0F8",
                      "zerolinewidth": 2
                    },
                    "yaxis": {
                      "automargin": true,
                      "gridcolor": "#EBF0F8",
                      "linecolor": "#EBF0F8",
                      "ticks": "",
                      "title": {
                        "standoff": 15
                      },
                      "zerolinecolor": "#EBF0F8",
                      "zerolinewidth": 2
                    }
                  }
                },
                "title": {
                  "text": "정규분포 (μ=0, σ=1)의 PDF, CDF, SF"
                },
                "xaxis": {
                  "title": {
                    "text": "x"
                  }
                },
                "yaxis": {
                  "title": {
                    "text": "밀도/누적확률"
                  }
                }
              }
            }
          },
          "metadata": {},
          "output_type": "display_data"
        }
      ],
      "source": [
        "# 연속형 확률 변수: 정규분포 PDF, CDF, SF\n",
        "mu, sigma = 0, 1\n",
        "x_cont = np.linspace(-4, 4, 200)\n",
        "pdf_cont = norm.pdf(x_cont, mu, sigma)\n",
        "cdf_cont = norm.cdf(x_cont, mu, sigma)\n",
        "sf_cont = norm.sf(x_cont, mu, sigma)\n",
        "\n",
        "fig_cont = go.Figure()\n",
        "fig_cont.add_trace(go.Scatter(x=x_cont, y=pdf_cont, mode='lines', name=\"PDF\", line=dict(color='royalblue')))\n",
        "fig_cont.add_trace(go.Scatter(x=x_cont, y=cdf_cont, mode='lines', name=\"CDF\", line=dict(color='green')))\n",
        "fig_cont.add_trace(go.Scatter(x=x_cont, y=sf_cont, mode='lines', name=\"SF\", line=dict(color='red')))\n",
        "fig_cont.update_layout(\n",
        "    title=\"정규분포 (μ=0, σ=1)의 PDF, CDF, SF\",\n",
        "    xaxis_title=\"x\",\n",
        "    yaxis_title=\"밀도/누적확률\",\n",
        "    template=\"plotly_white\"\n",
        ")\n",
        "fig_cont.show()\n"
      ]
    },
    {
      "cell_type": "markdown",
      "metadata": {},
      "source": [
        "5.  **분포의 특성 및 적합도 검정**\n",
        "    * **왜도 (Skewness)**: 분포의 비대칭 정도를 나타내는 척도입니다.\n",
        "        * 왜도 = 0: 대칭 (예: 정규분포)\n",
        "        * 왜도 > 0: 오른쪽 꼬리가 김 (양의 왜도, 예: 로그정규분포, 카이제곱분포)\n",
        "        * 왜도 < 0: 왼쪽 꼬리가 김 (음의 왜도)\n",
        "    * **첨도 (Kurtosis)**: 분포의 꼬리가 얼마나 두꺼운지 또는 중심이 얼마나 뾰족한지를 나타내는 척도입니다. 정규분포의 첨도(초과첨도 기준 0)와 비교합니다.\n",
        "        * 첨도 > 0 (Leptokurtic): 정규분포보다 꼬리가 두껍고 중심이 뾰족함 (예: t-분포)\n",
        "        * 첨도 < 0 (Platykurtic): 정규분포보다 꼬리가 얇고 중심이 평평함.\n",
        "    * **정규성 (Normality) 검정**: 데이터가 정규 분포를 따르는지 확인하는 과정입니다. 많은 통계 분석 기법(예: t-검정, ANOVA)들이 데이터의 정규성 가정을 필요로 합니다.\n",
        "        * **시각적 방법**:\n",
        "            * 히스토그램/KDE Plot: 분포의 모양이 종 모양인지 확인.\n",
        "            * Q-Q Plot (Quantile-Quantile Plot): 데이터의 분위수와 이론적 정규분포의 분위수를 산점도로 그려 비교. 점들이 직선에 가까울수록 정규성을 만족합니다.\n",
        "        * **통계적 검정 방법 (가설검정 기반)**:\n",
        "            * 귀무가설 ($H_0$): 데이터는 특정 분포(예: 정규 분포)를 따른다.\n",
        "            * 대립가설 ($H_1$): 데이터는 특정 분포를 따르지 않는다.\n",
        "            * **Shapiro-Wilk Test**: 표본 크기가 비교적 작을 때 (보통 n < 50 또는 n < 2000) 유용한 정규성 검정 방법입니다. 검정력이 좋다고 알려져 있습니다.\n",
        "            * **Kolmogorov-Smirnov Test (KS-test)**: 데이터가 특정 연속 분포(예: 정규분포, 지수분포, 감마분포 등)를 따르는지 검정합니다. 분포의 모수를 데이터로부터 추정하여 사용하면 검정력이 낮아질 수 있어 주의해야 합니다 (Lilliefors test는 이를 보완).\n",
        "            * **D'Agostino and Pearson's Test (normaltest)**: 데이터의 왜도와 첨도를 함께 고려하여 정규성을 검정합니다.\n",
        "            * **Anderson-Darling Test**: 특정 분포에 대한 적합도를 검정하며, 특히 분포의 꼬리 부분에 민감하여 Q-Q plot과 함께 유용하게 사용됩니다.\n",
        "        * **유의수준 ($\\alpha$)**: 보통 0.05 (5%)를 사용하며, p-value가 유의수준보다 작으면 귀무가설을 기각합니다.\n"
      ]
    },
    {
      "cell_type": "markdown",
      "metadata": {},
      "source": [
        "## 개념 요약 슬라이드"
      ]
    },
    {
      "cell_type": "code",
      "execution_count": null,
      "metadata": {},
      "outputs": [],
      "source": [
        "import os\n",
        "os.sys.path.append(os.path.dirname(os.path.abspath(os.getcwd())))\n",
        "from lib.slide import show_html_slides"
      ]
    },
    {
      "cell_type": "code",
      "execution_count": 3,
      "metadata": {},
      "outputs": [
        {
          "data": {
            "text/html": [
              "\n",
              "    <style>\n",
              "    .slide-container {\n",
              "        width: 100%;\n",
              "        max-width: 960px;\n",
              "        aspect-ratio: 16 / 9;\n",
              "        height: auto;\n",
              "        min-height: 540px; /* Increased min-height for better readability */\n",
              "        border: 1px solid #ddd; /* Lighter border */\n",
              "        border-radius: 12px; /* Softer corners */\n",
              "        background: #ffffff; /* Clean white background */\n",
              "        box-shadow: 0 4px 12px rgba(0,0,0,0.05); /* Subtle shadow */\n",
              "        position: relative;\n",
              "        overflow: hidden;\n",
              "        margin: 20px auto; /* Added margin for better page integration */\n",
              "        display: flex;\n",
              "        align-items: center;\n",
              "        justify-content: center;\n",
              "    }\n",
              "    .slide-content {\n",
              "        width: 100%;\n",
              "        height: 100%;\n",
              "        display: none;\n",
              "        justify-content: flex-start; /* Align content to the top */\n",
              "        align-items: center; /* Center content horizontally */\n",
              "        flex-direction: column;\n",
              "        position: absolute;\n",
              "        top: 0; left: 0; right: 0; bottom: 0;\n",
              "        text-align: left; /* Default text align to left for lists */\n",
              "        padding: 50px; /* Generous padding */\n",
              "        box-sizing: border-box; /* Include padding in width/height */\n",
              "    }\n",
              "    .slide-content.active {\n",
              "        display: flex;\n",
              "    }\n",
              "    .slide-header-title {\n",
              "        font-size: 2.8em; /* Larger title */\n",
              "        color: #2c3e50; /* Dark, modern blue */\n",
              "        margin-bottom: 30px;\n",
              "        font-weight: 600; /* Slightly bolder */\n",
              "        width: 100%; /* Ensure title takes full width for centering if needed */\n",
              "        text-align: center; /* Center the title */\n",
              "    }\n",
              "    .slide-list-content {\n",
              "        font-size: 1.3em; /* Adjusted for readability */\n",
              "        color: #34495e; /* Softer black */\n",
              "        line-height: 1.8; /* Increased line height */\n",
              "        list-style-type: disc; /* Standard bullets */\n",
              "        padding-left: 40px; /* Indent list items */\n",
              "        align-self: flex-start; /* Align list to the left within the content area */\n",
              "        width: 100%; /* Allow list to use available width */\n",
              "        max-width: 800px; /* Optional: constrain list width for very wide slides */\n",
              "    }\n",
              "    .slide-list-content li {\n",
              "        margin-bottom: 12px; /* Space between list items */\n",
              "    }\n",
              "    .navigation {\n",
              "        position: absolute;\n",
              "        bottom: 20px; /* Positioned slightly higher */\n",
              "        left: 50%;\n",
              "        transform: translateX(-50%);\n",
              "        z-index: 10;\n",
              "        display: flex;\n",
              "        justify-content: center;\n",
              "    }\n",
              "    .nav-btn {\n",
              "        background: #3498db; /* Brighter blue */\n",
              "        color: white;\n",
              "        border: none;\n",
              "        padding: 12px 20px; /* Larger buttons */\n",
              "        margin: 0 10px;\n",
              "        border-radius: 6px; /* Softer button corners */\n",
              "        cursor: pointer;\n",
              "        font-size: 1em;\n",
              "        transition: background-color 0.3s ease; /* Smooth hover effect */\n",
              "    }\n",
              "    .nav-btn:hover {\n",
              "        background: #2980b9; /* Darker blue on hover */\n",
              "    }\n",
              "    </style>\n",
              "\n",
              "    <div class=\"slide-container\" id=\"slideContainer\">\n",
              "        \n",
              "        <div class=\"slide-content active\" id=\"slide-1\">\n",
              "            <h1 class=\"slide-header-title\">1. 확률 변수란?</h1><ul class=\"slide-list-content\"><li>확률 변수: 무작위 실험의 결과에 의해 값이 결정되는 변수</li><li>종류: <b>이산형</b> (정수 값, 예: 주사위 눈, 방문 수)<br><b>연속형</b> (실수 값, 예: 키, 온도, 시간)</li></ul>\n",
              "        </div>\n",
              "        \n",
              "        <div class=\"slide-content \" id=\"slide-2\">\n",
              "            <h1 class=\"slide-header-title\">2. 확률 분포란?</h1><ul class=\"slide-list-content\"><li>확률 분포: 확률 변수가 특정 값 또는 범위에 속할 확률을 나타내는 함수</li><li>이산형: <b>확률 질량 함수(PMF)</b> 사용<br>연속형: <b>확률 밀도 함수(PDF)</b> 사용</li></ul>\n",
              "        </div>\n",
              "        \n",
              "        <div class=\"slide-content \" id=\"slide-3\">\n",
              "            <h1 class=\"slide-header-title\">3. 주요 이산 확률 분포</h1><ul class=\"slide-list-content\"><li>이항 분포: 성공/실패 등 두 가지 결과, n번 시행 중 성공 횟수</li><li>포아송 분포: 단위 시간/공간 내 사건 발생 횟수 (예: 시간당 콜센터 전화 수)</li><li>베르누이 분포: 한 번의 시행에서 성공(1) 또는 실패(0)</li></ul>\n",
              "        </div>\n",
              "        \n",
              "        <div class=\"slide-content \" id=\"slide-4\">\n",
              "            <h1 class=\"slide-header-title\">4. 주요 연속 확률 분포</h1><ul class=\"slide-list-content\"><li>정규 분포: $N(\\mu, \\sigma^2)$, 종 모양의 대칭 분포, 평균=중앙값=최빈값</li><li>표준 정규 분포: $Z \\sim N(0, 1)$, $Z = \\frac{X-\\mu}{\\sigma}$로 표준화</li><li>t-분포: 정규분포와 유사, 꼬리가 두꺼움, 표본 크기 작을 때 사용</li><li>카이제곱 분포: $\\chi^2(k)$, k개 독립 표준정규변수 제곱합, 오른쪽 꼬리 길음</li><li>감마/지수/로그정규/베타/파레토 분포 등 다양한 연속 분포 존재</li></ul>\n",
              "        </div>\n",
              "        \n",
              "        <div class=\"slide-content \" id=\"slide-5\">\n",
              "            <h1 class=\"slide-header-title\">5. 확률 분포 함수의 종류</h1><ul class=\"slide-list-content\"><li><b>PMF (확률 질량 함수)</b>: 이산 확률 변수 $X$에 대해 $P(X=x_i)$</li><li><b>PDF (확률 밀도 함수)</b>: 연속 확률 변수 $X$에 대해 $P(a \\le X \\le b) = \\int_a^b f(x)dx$<br>특정 지점 확률=0, 전체 면적=1</li><li><b>CDF (누적 분포 함수)</b>: $F(x) = P(X \\le x)$, 0에서 1까지 증가</li><li><b>SF (생존 함수)</b>: $S(x) = P(X > x) = 1 - F(x)$, 생존 분석 등에서 사용</li></ul>\n",
              "        </div>\n",
              "        \n",
              "        <div class=\"slide-content \" id=\"slide-6\">\n",
              "            <h1 class=\"slide-header-title\">6. 분포의 특성: 왜도와 첨도</h1><ul class=\"slide-list-content\"><li>왜도(Skewness): 분포의 비대칭 정도<br>0=대칭, >0=오른쪽 꼬리, <0=왼쪽 꼬리</li><li>첨도(Kurtosis): 꼬리 두께/중심 뾰족함<br>0=정규분포, >0=꼬리 두꺼움, <0=꼬리 얇음</li></ul>\n",
              "        </div>\n",
              "        \n",
              "        <div class=\"slide-content \" id=\"slide-7\">\n",
              "            <h1 class=\"slide-header-title\">7. 정규성(Normality) 검정의 필요성</h1><ul class=\"slide-list-content\"><li>많은 통계 분석 기법(예: t-검정, ANOVA)은 데이터의 정규성 가정을 필요로 함</li><li>정규성 검정: 데이터가 정규 분포를 따르는지 확인하는 과정</li></ul>\n",
              "        </div>\n",
              "        \n",
              "        <div class=\"slide-content \" id=\"slide-8\">\n",
              "            <h1 class=\"slide-header-title\">8. 정규성 검정 방법 (1) - 시각적 방법</h1><ul class=\"slide-list-content\"><li>히스토그램/커널밀도(KDE) 플롯: 종 모양 여부 확인</li><li>Q-Q Plot: 데이터 분위수 vs. 이론적 정규분포 분위수 산점도<br>점들이 직선에 가까울수록 정규성 만족</li></ul>\n",
              "        </div>\n",
              "        \n",
              "        <div class=\"slide-content \" id=\"slide-9\">\n",
              "            <h1 class=\"slide-header-title\">9. 정규성 검정 방법 (2) - 통계적 검정</h1><ul class=\"slide-list-content\"><li>귀무가설($H_0$): 데이터는 정규분포를 따른다</li><li>대립가설($H_1$): 데이터는 정규분포를 따르지 않는다</li><li><ul><li>Shapiro-Wilk: 소표본(n<50~2000)에 적합, 검정력 우수</li><li>Kolmogorov-Smirnov: 분포 일치 검정, 모수 추정시 검정력 약화</li><li>D'Agostino-Pearson: 왜도+첨도 동시 검정</li><li>Anderson-Darling: 꼬리 부분에 민감, Q-Q plot과 함께 사용</li></ul></li><li>유의수준($\\alpha$): 보통 0.05, p-value < $\\alpha$면 귀무가설 기각</li></ul>\n",
              "        </div>\n",
              "        \n",
              "        <div class=\"slide-content \" id=\"slide-10\">\n",
              "            <h1 class=\"slide-header-title\">10. 확률분포 이해의 중요성</h1><ul class=\"slide-list-content\"><li>데이터의 구조/특성 파악, 적절한 통계 모델 선택</li><li>가설 검정, 신뢰구간 추정, 예측, 시뮬레이션, 이상치 탐지 등 다양한 분석에 필수</li></ul>\n",
              "        </div>\n",
              "        \n",
              "        <div class=\"navigation\">\n",
              "            <button class=\"nav-btn\" onclick=\"prevSlide()\">이전</button>\n",
              "            <button class=\"nav-btn\" onclick=\"nextSlide()\">다음</button>\n",
              "        </div>\n",
              "    </div>\n",
              "    <script>\n",
              "    MathJax = {\n",
              "      tex: {\n",
              "        inlineMath: [['$', '$'], ['\\\\(', '\\\\)']],\n",
              "        displayMath: [['$$', '$$'], ['\\\\[', '\\\\]']],\n",
              "        processEscapes: true\n",
              "      },\n",
              "      svg: {\n",
              "        fontCache: 'global'\n",
              "      }\n",
              "    };\n",
              "    </script>\n",
              "    <script src=\"https://polyfill.io/v3/polyfill.min.js?features=es6\"></script>\n",
              "    <script id=\"MathJax-script\" async src=\"https://cdn.jsdelivr.net/npm/mathjax@3/es5/tex-mml-chtml.js\"></script>\n",
              "    <script>\n",
              "    var currentSlide = 1;\n",
              "    var totalSlides = 10;\n",
              "\n",
              "    function showSlide(n) {\n",
              "        for (var i = 1; i <= totalSlides; i++) {\n",
              "            var slide = document.getElementById('slide-' + i);\n",
              "            if (slide) {\n",
              "                slide.classList.remove('active');\n",
              "                if (i === n) {\n",
              "                    slide.classList.add('active');\n",
              "                }\n",
              "            }\n",
              "        }\n",
              "        // Trigger MathJax typesetting for the new active slide\n",
              "        if (window.MathJax && typeof window.MathJax.typesetPromise === 'function') {\n",
              "            setTimeout(() => { // Delay to ensure DOM is updated\n",
              "                try {\n",
              "                    const elementToTypeset = document.getElementById('slide-' + n);\n",
              "                    if (elementToTypeset) {\n",
              "                        window.MathJax.typesetPromise([elementToTypeset]);\n",
              "                    } else {\n",
              "                        // console.warn(\"MathJax: Element slide-\" + n + \" not found for typesetting.\");\n",
              "                    }\n",
              "                } catch (e) {\n",
              "                    console.error(\"MathJax typesetting error:\", e);\n",
              "                }\n",
              "            }, 0);\n",
              "        }\n",
              "    }\n",
              "\n",
              "    function prevSlide() {\n",
              "        currentSlide = currentSlide - 1;\n",
              "        if (currentSlide < 1) currentSlide = totalSlides;\n",
              "        showSlide(currentSlide);\n",
              "    }\n",
              "\n",
              "    function nextSlide() {\n",
              "        currentSlide = currentSlide + 1;\n",
              "        if (currentSlide > totalSlides) currentSlide = 1;\n",
              "        showSlide(currentSlide);\n",
              "    }\n",
              "\n",
              "    document.addEventListener(\"DOMContentLoaded\", function() {\n",
              "        showSlide(currentSlide);\n",
              "    });\n",
              "    </script>\n",
              "    "
            ],
            "text/plain": [
              "<IPython.core.display.HTML object>"
            ]
          },
          "metadata": {},
          "output_type": "display_data"
        }
      ],
      "source": [
        "slides_data = [\n",
        "    {\n",
        "        'title': '1. 확률 변수란?',\n",
        "        'items': [\n",
        "            '확률 변수: 무작위 실험의 결과에 의해 값이 결정되는 변수',\n",
        "            '종류: <b>이산형</b> (정수 값, 예: 주사위 눈, 방문 수)<br><b>연속형</b> (실수 값, 예: 키, 온도, 시간)'\n",
        "        ]\n",
        "    },\n",
        "    {\n",
        "        'title': '2. 확률 분포란?',\n",
        "        'items': [\n",
        "            '확률 분포: 확률 변수가 특정 값 또는 범위에 속할 확률을 나타내는 함수',\n",
        "            '이산형: <b>확률 질량 함수(PMF)</b> 사용<br>연속형: <b>확률 밀도 함수(PDF)</b> 사용'\n",
        "        ]\n",
        "    },\n",
        "    {\n",
        "        'title': '3. 주요 이산 확률 분포',\n",
        "        'items': [\n",
        "            '이항 분포: 성공/실패 등 두 가지 결과, n번 시행 중 성공 횟수',\n",
        "            '포아송 분포: 단위 시간/공간 내 사건 발생 횟수 (예: 시간당 콜센터 전화 수)',\n",
        "            '베르누이 분포: 한 번의 시행에서 성공(1) 또는 실패(0)'\n",
        "        ]\n",
        "    },\n",
        "    {\n",
        "        'title': '4. 주요 연속 확률 분포',\n",
        "        'items': [\n",
        "            '정규 분포: $N(\\\\mu, \\\\sigma^2)$, 종 모양의 대칭 분포, 평균=중앙값=최빈값',\n",
        "            '표준 정규 분포: $Z \\\\sim N(0, 1)$, $Z = \\\\frac{X-\\\\mu}{\\\\sigma}$로 표준화',\n",
        "            't-분포: 정규분포와 유사, 꼬리가 두꺼움, 표본 크기 작을 때 사용',\n",
        "            '카이제곱 분포: $\\\\chi^2(k)$, k개 독립 표준정규변수 제곱합, 오른쪽 꼬리 길음',\n",
        "            '감마/지수/로그정규/베타/파레토 분포 등 다양한 연속 분포 존재'\n",
        "        ]\n",
        "    },\n",
        "    {\n",
        "        'title': '5. 확률 분포 함수의 종류',\n",
        "        'items': [\n",
        "            '<b>PMF (확률 질량 함수)</b>: 이산 확률 변수 $X$에 대해 $P(X=x_i)$',\n",
        "            '<b>PDF (확률 밀도 함수)</b>: 연속 확률 변수 $X$에 대해 $P(a \\\\le X \\\\le b) = \\\\int_a^b f(x)dx$<br>특정 지점 확률=0, 전체 면적=1',\n",
        "            '<b>CDF (누적 분포 함수)</b>: $F(x) = P(X \\\\le x)$, 0에서 1까지 증가',\n",
        "            '<b>SF (생존 함수)</b>: $S(x) = P(X > x) = 1 - F(x)$, 생존 분석 등에서 사용'\n",
        "        ]\n",
        "    },\n",
        "    {\n",
        "        'title': '6. 분포의 특성: 왜도와 첨도',\n",
        "        'items': [\n",
        "            '왜도(Skewness): 분포의 비대칭 정도<br>0=대칭, >0=오른쪽 꼬리, <0=왼쪽 꼬리',\n",
        "            '첨도(Kurtosis): 꼬리 두께/중심 뾰족함<br>0=정규분포, >0=꼬리 두꺼움, <0=꼬리 얇음'\n",
        "        ]\n",
        "    },\n",
        "    {\n",
        "        'title': '7. 정규성(Normality) 검정의 필요성',\n",
        "        'items': [\n",
        "            '많은 통계 분석 기법(예: t-검정, ANOVA)은 데이터의 정규성 가정을 필요로 함',\n",
        "            '정규성 검정: 데이터가 정규 분포를 따르는지 확인하는 과정'\n",
        "        ]\n",
        "    },\n",
        "    {\n",
        "        'title': '8. 정규성 검정 방법 (1) - 시각적 방법',\n",
        "        'items': [\n",
        "            '히스토그램/커널밀도(KDE) 플롯: 종 모양 여부 확인',\n",
        "            'Q-Q Plot: 데이터 분위수 vs. 이론적 정규분포 분위수 산점도<br>점들이 직선에 가까울수록 정규성 만족'\n",
        "        ]\n",
        "    },\n",
        "    {\n",
        "        'title': '9. 정규성 검정 방법 (2) - 통계적 검정',\n",
        "        'items': [\n",
        "            '귀무가설($H_0$): 데이터는 정규분포를 따른다',\n",
        "            '대립가설($H_1$): 데이터는 정규분포를 따르지 않는다',\n",
        "            '<ul><li>Shapiro-Wilk: 소표본(n<50~2000)에 적합, 검정력 우수</li>' +\n",
        "            '<li>Kolmogorov-Smirnov: 분포 일치 검정, 모수 추정시 검정력 약화</li>' +\n",
        "            '<li>D\\'Agostino-Pearson: 왜도+첨도 동시 검정</li>' +\n",
        "            '<li>Anderson-Darling: 꼬리 부분에 민감, Q-Q plot과 함께 사용</li></ul>',\n",
        "            '유의수준($\\\\alpha$): 보통 0.05, p-value < $\\\\alpha$면 귀무가설 기각'\n",
        "        ]\n",
        "    },\n",
        "    {\n",
        "        'title': '10. 확률분포 이해의 중요성',\n",
        "        'items': [\n",
        "            '데이터의 구조/특성 파악, 적절한 통계 모델 선택',\n",
        "            '가설 검정, 신뢰구간 추정, 예측, 시뮬레이션, 이상치 탐지 등 다양한 분석에 필수'\n",
        "        ]\n",
        "    }\n",
        "]\n",
        "\n",
        "show_html_slides(slides_data)"
      ]
    },
    {
      "cell_type": "markdown",
      "metadata": {},
      "source": [
        "\n",
        "💻 **예시 코드 (Example Code)**"
      ]
    },
    {
      "cell_type": "code",
      "execution_count": null,
      "metadata": {},
      "outputs": [],
      "source": [
        "!pip install yfinance"
      ]
    },
    {
      "cell_type": "code",
      "execution_count": 21,
      "metadata": {
        "id": "G0V7pVU3WoQd"
      },
      "outputs": [],
      "source": [
        "import numpy as np\n",
        "import pandas as pd\n",
        "from scipy import stats\n",
        "import yfinance as yf # S&P 500 데이터 수집용\n",
        "import plotly.graph_objs as go\n",
        "import plotly.subplots as sp\n",
        "import plotly.express as px\n",
        "import warnings\n",
        "warnings.filterwarnings('ignore')"
      ]
    },
    {
      "cell_type": "code",
      "execution_count": null,
      "metadata": {},
      "outputs": [
        {
          "data": {
            "application/vnd.plotly.v1+json": {
              "config": {
                "plotlyServerURL": "https://plot.ly"
              },
              "data": [
                {
                  "bingroup": "x",
                  "histnorm": "probability density",
                  "hovertemplate": "수익률 (%)=%{x}<br>probability density=%{y}<extra></extra>",
                  "legendgroup": "",
                  "marker": {
                    "color": "lightblue",
                    "opacity": 0.7,
                    "pattern": {
                      "shape": ""
                    }
                  },
                  "name": "",
                  "nbinsx": 50,
                  "orientation": "v",
                  "showlegend": false,
                  "type": "histogram",
                  "x": {
                    "bdata": "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",
                    "dtype": "f8"
                  },
                  "xaxis": "x",
                  "yaxis": "y"
                },
                {
                  "line": {
                    "color": "red"
                  },
                  "mode": "lines",
                  "name": "정규분포 적합<br>(μ=0.06, σ=1.12)",
                  "type": "scatter",
                  "x": {
                    "bdata": "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",
                    "dtype": "f8"
                  },
                  "y": {
                    "bdata": "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",
                    "dtype": "f8"
                  }
                }
              ],
              "layout": {
                "barmode": "relative",
                "legend": {
                  "tracegroupgap": 0
                },
                "template": {
                  "data": {
                    "bar": [
                      {
                        "error_x": {
                          "color": "#2a3f5f"
                        },
                        "error_y": {
                          "color": "#2a3f5f"
                        },
                        "marker": {
                          "line": {
                            "color": "#E5ECF6",
                            "width": 0.5
                          },
                          "pattern": {
                            "fillmode": "overlay",
                            "size": 10,
                            "solidity": 0.2
                          }
                        },
                        "type": "bar"
                      }
                    ],
                    "barpolar": [
                      {
                        "marker": {
                          "line": {
                            "color": "#E5ECF6",
                            "width": 0.5
                          },
                          "pattern": {
                            "fillmode": "overlay",
                            "size": 10,
                            "solidity": 0.2
                          }
                        },
                        "type": "barpolar"
                      }
                    ],
                    "carpet": [
                      {
                        "aaxis": {
                          "endlinecolor": "#2a3f5f",
                          "gridcolor": "white",
                          "linecolor": "white",
                          "minorgridcolor": "white",
                          "startlinecolor": "#2a3f5f"
                        },
                        "baxis": {
                          "endlinecolor": "#2a3f5f",
                          "gridcolor": "white",
                          "linecolor": "white",
                          "minorgridcolor": "white",
                          "startlinecolor": "#2a3f5f"
                        },
                        "type": "carpet"
                      }
                    ],
                    "choropleth": [
                      {
                        "colorbar": {
                          "outlinewidth": 0,
                          "ticks": ""
                        },
                        "type": "choropleth"
                      }
                    ],
                    "contour": [
                      {
                        "colorbar": {
                          "outlinewidth": 0,
                          "ticks": ""
                        },
                        "colorscale": [
                          [
                            0,
                            "#0d0887"
                          ],
                          [
                            0.1111111111111111,
                            "#46039f"
                          ],
                          [
                            0.2222222222222222,
                            "#7201a8"
                          ],
                          [
                            0.3333333333333333,
                            "#9c179e"
                          ],
                          [
                            0.4444444444444444,
                            "#bd3786"
                          ],
                          [
                            0.5555555555555556,
                            "#d8576b"
                          ],
                          [
                            0.6666666666666666,
                            "#ed7953"
                          ],
                          [
                            0.7777777777777778,
                            "#fb9f3a"
                          ],
                          [
                            0.8888888888888888,
                            "#fdca26"
                          ],
                          [
                            1,
                            "#f0f921"
                          ]
                        ],
                        "type": "contour"
                      }
                    ],
                    "contourcarpet": [
                      {
                        "colorbar": {
                          "outlinewidth": 0,
                          "ticks": ""
                        },
                        "type": "contourcarpet"
                      }
                    ],
                    "heatmap": [
                      {
                        "colorbar": {
                          "outlinewidth": 0,
                          "ticks": ""
                        },
                        "colorscale": [
                          [
                            0,
                            "#0d0887"
                          ],
                          [
                            0.1111111111111111,
                            "#46039f"
                          ],
                          [
                            0.2222222222222222,
                            "#7201a8"
                          ],
                          [
                            0.3333333333333333,
                            "#9c179e"
                          ],
                          [
                            0.4444444444444444,
                            "#bd3786"
                          ],
                          [
                            0.5555555555555556,
                            "#d8576b"
                          ],
                          [
                            0.6666666666666666,
                            "#ed7953"
                          ],
                          [
                            0.7777777777777778,
                            "#fb9f3a"
                          ],
                          [
                            0.8888888888888888,
                            "#fdca26"
                          ],
                          [
                            1,
                            "#f0f921"
                          ]
                        ],
                        "type": "heatmap"
                      }
                    ],
                    "histogram": [
                      {
                        "marker": {
                          "pattern": {
                            "fillmode": "overlay",
                            "size": 10,
                            "solidity": 0.2
                          }
                        },
                        "type": "histogram"
                      }
                    ],
                    "histogram2d": [
                      {
                        "colorbar": {
                          "outlinewidth": 0,
                          "ticks": ""
                        },
                        "colorscale": [
                          [
                            0,
                            "#0d0887"
                          ],
                          [
                            0.1111111111111111,
                            "#46039f"
                          ],
                          [
                            0.2222222222222222,
                            "#7201a8"
                          ],
                          [
                            0.3333333333333333,
                            "#9c179e"
                          ],
                          [
                            0.4444444444444444,
                            "#bd3786"
                          ],
                          [
                            0.5555555555555556,
                            "#d8576b"
                          ],
                          [
                            0.6666666666666666,
                            "#ed7953"
                          ],
                          [
                            0.7777777777777778,
                            "#fb9f3a"
                          ],
                          [
                            0.8888888888888888,
                            "#fdca26"
                          ],
                          [
                            1,
                            "#f0f921"
                          ]
                        ],
                        "type": "histogram2d"
                      }
                    ],
                    "histogram2dcontour": [
                      {
                        "colorbar": {
                          "outlinewidth": 0,
                          "ticks": ""
                        },
                        "colorscale": [
                          [
                            0,
                            "#0d0887"
                          ],
                          [
                            0.1111111111111111,
                            "#46039f"
                          ],
                          [
                            0.2222222222222222,
                            "#7201a8"
                          ],
                          [
                            0.3333333333333333,
                            "#9c179e"
                          ],
                          [
                            0.4444444444444444,
                            "#bd3786"
                          ],
                          [
                            0.5555555555555556,
                            "#d8576b"
                          ],
                          [
                            0.6666666666666666,
                            "#ed7953"
                          ],
                          [
                            0.7777777777777778,
                            "#fb9f3a"
                          ],
                          [
                            0.8888888888888888,
                            "#fdca26"
                          ],
                          [
                            1,
                            "#f0f921"
                          ]
                        ],
                        "type": "histogram2dcontour"
                      }
                    ],
                    "mesh3d": [
                      {
                        "colorbar": {
                          "outlinewidth": 0,
                          "ticks": ""
                        },
                        "type": "mesh3d"
                      }
                    ],
                    "parcoords": [
                      {
                        "line": {
                          "colorbar": {
                            "outlinewidth": 0,
                            "ticks": ""
                          }
                        },
                        "type": "parcoords"
                      }
                    ],
                    "pie": [
                      {
                        "automargin": true,
                        "type": "pie"
                      }
                    ],
                    "scatter": [
                      {
                        "fillpattern": {
                          "fillmode": "overlay",
                          "size": 10,
                          "solidity": 0.2
                        },
                        "type": "scatter"
                      }
                    ],
                    "scatter3d": [
                      {
                        "line": {
                          "colorbar": {
                            "outlinewidth": 0,
                            "ticks": ""
                          }
                        },
                        "marker": {
                          "colorbar": {
                            "outlinewidth": 0,
                            "ticks": ""
                          }
                        },
                        "type": "scatter3d"
                      }
                    ],
                    "scattercarpet": [
                      {
                        "marker": {
                          "colorbar": {
                            "outlinewidth": 0,
                            "ticks": ""
                          }
                        },
                        "type": "scattercarpet"
                      }
                    ],
                    "scattergeo": [
                      {
                        "marker": {
                          "colorbar": {
                            "outlinewidth": 0,
                            "ticks": ""
                          }
                        },
                        "type": "scattergeo"
                      }
                    ],
                    "scattergl": [
                      {
                        "marker": {
                          "colorbar": {
                            "outlinewidth": 0,
                            "ticks": ""
                          }
                        },
                        "type": "scattergl"
                      }
                    ],
                    "scattermap": [
                      {
                        "marker": {
                          "colorbar": {
                            "outlinewidth": 0,
                            "ticks": ""
                          }
                        },
                        "type": "scattermap"
                      }
                    ],
                    "scattermapbox": [
                      {
                        "marker": {
                          "colorbar": {
                            "outlinewidth": 0,
                            "ticks": ""
                          }
                        },
                        "type": "scattermapbox"
                      }
                    ],
                    "scatterpolar": [
                      {
                        "marker": {
                          "colorbar": {
                            "outlinewidth": 0,
                            "ticks": ""
                          }
                        },
                        "type": "scatterpolar"
                      }
                    ],
                    "scatterpolargl": [
                      {
                        "marker": {
                          "colorbar": {
                            "outlinewidth": 0,
                            "ticks": ""
                          }
                        },
                        "type": "scatterpolargl"
                      }
                    ],
                    "scatterternary": [
                      {
                        "marker": {
                          "colorbar": {
                            "outlinewidth": 0,
                            "ticks": ""
                          }
                        },
                        "type": "scatterternary"
                      }
                    ],
                    "surface": [
                      {
                        "colorbar": {
                          "outlinewidth": 0,
                          "ticks": ""
                        },
                        "colorscale": [
                          [
                            0,
                            "#0d0887"
                          ],
                          [
                            0.1111111111111111,
                            "#46039f"
                          ],
                          [
                            0.2222222222222222,
                            "#7201a8"
                          ],
                          [
                            0.3333333333333333,
                            "#9c179e"
                          ],
                          [
                            0.4444444444444444,
                            "#bd3786"
                          ],
                          [
                            0.5555555555555556,
                            "#d8576b"
                          ],
                          [
                            0.6666666666666666,
                            "#ed7953"
                          ],
                          [
                            0.7777777777777778,
                            "#fb9f3a"
                          ],
                          [
                            0.8888888888888888,
                            "#fdca26"
                          ],
                          [
                            1,
                            "#f0f921"
                          ]
                        ],
                        "type": "surface"
                      }
                    ],
                    "table": [
                      {
                        "cells": {
                          "fill": {
                            "color": "#EBF0F8"
                          },
                          "line": {
                            "color": "white"
                          }
                        },
                        "header": {
                          "fill": {
                            "color": "#C8D4E3"
                          },
                          "line": {
                            "color": "white"
                          }
                        },
                        "type": "table"
                      }
                    ]
                  },
                  "layout": {
                    "annotationdefaults": {
                      "arrowcolor": "#2a3f5f",
                      "arrowhead": 0,
                      "arrowwidth": 1
                    },
                    "autotypenumbers": "strict",
                    "coloraxis": {
                      "colorbar": {
                        "outlinewidth": 0,
                        "ticks": ""
                      }
                    },
                    "colorscale": {
                      "diverging": [
                        [
                          0,
                          "#8e0152"
                        ],
                        [
                          0.1,
                          "#c51b7d"
                        ],
                        [
                          0.2,
                          "#de77ae"
                        ],
                        [
                          0.3,
                          "#f1b6da"
                        ],
                        [
                          0.4,
                          "#fde0ef"
                        ],
                        [
                          0.5,
                          "#f7f7f7"
                        ],
                        [
                          0.6,
                          "#e6f5d0"
                        ],
                        [
                          0.7,
                          "#b8e186"
                        ],
                        [
                          0.8,
                          "#7fbc41"
                        ],
                        [
                          0.9,
                          "#4d9221"
                        ],
                        [
                          1,
                          "#276419"
                        ]
                      ],
                      "sequential": [
                        [
                          0,
                          "#0d0887"
                        ],
                        [
                          0.1111111111111111,
                          "#46039f"
                        ],
                        [
                          0.2222222222222222,
                          "#7201a8"
                        ],
                        [
                          0.3333333333333333,
                          "#9c179e"
                        ],
                        [
                          0.4444444444444444,
                          "#bd3786"
                        ],
                        [
                          0.5555555555555556,
                          "#d8576b"
                        ],
                        [
                          0.6666666666666666,
                          "#ed7953"
                        ],
                        [
                          0.7777777777777778,
                          "#fb9f3a"
                        ],
                        [
                          0.8888888888888888,
                          "#fdca26"
                        ],
                        [
                          1,
                          "#f0f921"
                        ]
                      ],
                      "sequentialminus": [
                        [
                          0,
                          "#0d0887"
                        ],
                        [
                          0.1111111111111111,
                          "#46039f"
                        ],
                        [
                          0.2222222222222222,
                          "#7201a8"
                        ],
                        [
                          0.3333333333333333,
                          "#9c179e"
                        ],
                        [
                          0.4444444444444444,
                          "#bd3786"
                        ],
                        [
                          0.5555555555555556,
                          "#d8576b"
                        ],
                        [
                          0.6666666666666666,
                          "#ed7953"
                        ],
                        [
                          0.7777777777777778,
                          "#fb9f3a"
                        ],
                        [
                          0.8888888888888888,
                          "#fdca26"
                        ],
                        [
                          1,
                          "#f0f921"
                        ]
                      ]
                    },
                    "colorway": [
                      "#636efa",
                      "#EF553B",
                      "#00cc96",
                      "#ab63fa",
                      "#FFA15A",
                      "#19d3f3",
                      "#FF6692",
                      "#B6E880",
                      "#FF97FF",
                      "#FECB52"
                    ],
                    "font": {
                      "color": "#2a3f5f"
                    },
                    "geo": {
                      "bgcolor": "white",
                      "lakecolor": "white",
                      "landcolor": "#E5ECF6",
                      "showlakes": true,
                      "showland": true,
                      "subunitcolor": "white"
                    },
                    "hoverlabel": {
                      "align": "left"
                    },
                    "hovermode": "closest",
                    "mapbox": {
                      "style": "light"
                    },
                    "paper_bgcolor": "white",
                    "plot_bgcolor": "#E5ECF6",
                    "polar": {
                      "angularaxis": {
                        "gridcolor": "white",
                        "linecolor": "white",
                        "ticks": ""
                      },
                      "bgcolor": "#E5ECF6",
                      "radialaxis": {
                        "gridcolor": "white",
                        "linecolor": "white",
                        "ticks": ""
                      }
                    },
                    "scene": {
                      "xaxis": {
                        "backgroundcolor": "#E5ECF6",
                        "gridcolor": "white",
                        "gridwidth": 2,
                        "linecolor": "white",
                        "showbackground": true,
                        "ticks": "",
                        "zerolinecolor": "white"
                      },
                      "yaxis": {
                        "backgroundcolor": "#E5ECF6",
                        "gridcolor": "white",
                        "gridwidth": 2,
                        "linecolor": "white",
                        "showbackground": true,
                        "ticks": "",
                        "zerolinecolor": "white"
                      },
                      "zaxis": {
                        "backgroundcolor": "#E5ECF6",
                        "gridcolor": "white",
                        "gridwidth": 2,
                        "linecolor": "white",
                        "showbackground": true,
                        "ticks": "",
                        "zerolinecolor": "white"
                      }
                    },
                    "shapedefaults": {
                      "line": {
                        "color": "#2a3f5f"
                      }
                    },
                    "ternary": {
                      "aaxis": {
                        "gridcolor": "white",
                        "linecolor": "white",
                        "ticks": ""
                      },
                      "baxis": {
                        "gridcolor": "white",
                        "linecolor": "white",
                        "ticks": ""
                      },
                      "bgcolor": "#E5ECF6",
                      "caxis": {
                        "gridcolor": "white",
                        "linecolor": "white",
                        "ticks": ""
                      }
                    },
                    "title": {
                      "x": 0.05
                    },
                    "xaxis": {
                      "automargin": true,
                      "gridcolor": "white",
                      "linecolor": "white",
                      "ticks": "",
                      "title": {
                        "standoff": 15
                      },
                      "zerolinecolor": "white",
                      "zerolinewidth": 2
                    },
                    "yaxis": {
                      "automargin": true,
                      "gridcolor": "white",
                      "linecolor": "white",
                      "ticks": "",
                      "title": {
                        "standoff": 15
                      },
                      "zerolinecolor": "white",
                      "zerolinewidth": 2
                    }
                  }
                },
                "title": {
                  "text": "S&P 500 일간 수익률 분포 (정규분포 적합)"
                },
                "xaxis": {
                  "anchor": "y",
                  "domain": [
                    0,
                    1
                  ],
                  "title": {
                    "text": "수익률 (%)"
                  }
                },
                "yaxis": {
                  "anchor": "x",
                  "domain": [
                    0,
                    1
                  ],
                  "title": {
                    "text": "밀도"
                  }
                }
              }
            }
          },
          "metadata": {},
          "output_type": "display_data"
        }
      ],
      "source": [
        "# 1. 주요 분포별 개별 시각화\n",
        "\n",
        "# S&P 500 데이터 다운로드 및 수익률 계산\n",
        "sp500 = yf.Ticker(\"^GSPC\")\n",
        "sp500_data = sp500.history(period=\"5y\")['Close']\n",
        "sp500_returns = sp500_data.pct_change().dropna() * 100 # % 단위 수익률\n",
        "\n",
        "# 1.1 S&P 500 수익률: 정규분포 적합 \n",
        "mu_sp, std_sp = stats.norm.fit(sp500_returns)\n",
        "x_sp = np.linspace(sp500_returns.min(), sp500_returns.max(), 200)\n",
        "\n",
        "# 데이터프레임 생성 (수익률)\n",
        "df_sp = pd.DataFrame({'수익률': sp500_returns})\n",
        "\n",
        "# 히스토그램 그리기\n",
        "fig1 = px.histogram(\n",
        "    df_sp, x='수익률', nbins=50, histnorm='probability density',\n",
        "    opacity=0.7, color_discrete_sequence=['lightblue'],\n",
        "    labels={'수익률': '수익률 (%)'}, \n",
        "    title=\"S&P 500 일간 수익률 분포 (정규분포 적합)\"\n",
        ")\n",
        "\n",
        "# 정규분포 곡선 추가\n",
        "fig1.add_scatter(\n",
        "    x=x_sp, y=stats.norm.pdf(x_sp, mu_sp, std_sp),\n",
        "    mode='lines', name=f'정규분포 적합<br>(μ={mu_sp:.2f}, σ={std_sp:.2f})',\n",
        "    line=dict(color='red')\n",
        ")\n",
        "\n",
        "fig1.update_layout(\n",
        "    xaxis_title=\"수익률 (%)\",\n",
        "    yaxis_title=\"밀도\"\n",
        ")\n",
        "fig1.show()"
      ]
    },
    {
      "cell_type": "code",
      "execution_count": 27,
      "metadata": {},
      "outputs": [
        {
          "data": {
            "text/plain": [
              "Date\n",
              "2020-06-04 00:00:00-04:00   -0.336870\n",
              "2020-06-05 00:00:00-04:00    2.621165\n",
              "2020-06-08 00:00:00-04:00    1.204158\n",
              "2020-06-09 00:00:00-04:00   -0.779917\n",
              "2020-06-10 00:00:00-04:00   -0.531309\n",
              "                               ...   \n",
              "2025-05-27 00:00:00-04:00    2.045906\n",
              "2025-05-28 00:00:00-04:00   -0.557123\n",
              "2025-05-29 00:00:00-04:00    0.401119\n",
              "2025-05-30 00:00:00-04:00   -0.008119\n",
              "2025-06-02 00:00:00-04:00    0.410204\n",
              "Name: Close, Length: 1255, dtype: float64"
            ]
          },
          "execution_count": 27,
          "metadata": {},
          "output_type": "execute_result"
        }
      ],
      "source": [
        "sp500_returns"
      ]
    },
    {
      "cell_type": "code",
      "execution_count": null,
      "metadata": {},
      "outputs": [],
      "source": [
        "# stats.t.fit 함수는 주어진 데이터(여기서는 sp500_returns)에 대해 t-분포의 모수(자유도, 위치, 척도)를 추정(적합)하는 함수입니다.\n",
        "# \"적합한다\"는 것은 실제 데이터의 분포가 t-분포라고 가정하고, 그 분포의 모수(자유도 df, 위치 loc, 척도 scale)를 데이터에 가장 잘 맞도록 찾는다는 의미입니다.\n",
        "# 즉, 데이터가 t-분포를 따른다고 가정할 때, 그 분포의 모수값을 최대우도추정법 등으로 계산해주는 과정입니다.\n",
        "# 예시:\n",
        "# df_t, loc_t, scale_t = stats.t.fit(sp500_returns)\n",
        "# → sp500_returns 데이터에 대해 t-분포의 자유도(df_t), 위치(loc_t), 척도(scale_t)를 추정합니다.\n"
      ]
    },
    {
      "cell_type": "code",
      "execution_count": 29,
      "metadata": {},
      "outputs": [
        {
          "data": {
            "application/vnd.plotly.v1+json": {
              "config": {
                "plotlyServerURL": "https://plot.ly"
              },
              "data": [
                {
                  "bingroup": "x",
                  "histnorm": "probability density",
                  "hovertemplate": "수익률 (%)=%{x}<br>probability density=%{y}<extra></extra>",
                  "legendgroup": "",
                  "marker": {
                    "color": "lightblue",
                    "opacity": 0.7,
                    "pattern": {
                      "shape": ""
                    }
                  },
                  "name": "",
                  "nbinsx": 50,
                  "orientation": "v",
                  "showlegend": false,
                  "type": "histogram",
                  "x": {
                    "bdata": "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",
                    "dtype": "f8"
                  },
                  "xaxis": "x",
                  "yaxis": "y"
                },
                {
                  "line": {
                    "color": "green"
                  },
                  "mode": "lines",
                  "name": "t-분포 적합<br>(자유도=4.24)",
                  "type": "scatter",
                  "x": {
                    "bdata": "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",
                    "dtype": "f8"
                  },
                  "y": {
                    "bdata": "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",
                    "dtype": "f8"
                  }
                },
                {
                  "line": {
                    "color": "red",
                    "dash": "dash"
                  },
                  "mode": "lines",
                  "name": "정규분포(비교)",
                  "type": "scatter",
                  "x": {
                    "bdata": "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",
                    "dtype": "f8"
                  },
                  "y": {
                    "bdata": "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",
                    "dtype": "f8"
                  }
                }
              ],
              "layout": {
                "barmode": "relative",
                "legend": {
                  "tracegroupgap": 0
                },
                "template": {
                  "data": {
                    "bar": [
                      {
                        "error_x": {
                          "color": "#2a3f5f"
                        },
                        "error_y": {
                          "color": "#2a3f5f"
                        },
                        "marker": {
                          "line": {
                            "color": "#E5ECF6",
                            "width": 0.5
                          },
                          "pattern": {
                            "fillmode": "overlay",
                            "size": 10,
                            "solidity": 0.2
                          }
                        },
                        "type": "bar"
                      }
                    ],
                    "barpolar": [
                      {
                        "marker": {
                          "line": {
                            "color": "#E5ECF6",
                            "width": 0.5
                          },
                          "pattern": {
                            "fillmode": "overlay",
                            "size": 10,
                            "solidity": 0.2
                          }
                        },
                        "type": "barpolar"
                      }
                    ],
                    "carpet": [
                      {
                        "aaxis": {
                          "endlinecolor": "#2a3f5f",
                          "gridcolor": "white",
                          "linecolor": "white",
                          "minorgridcolor": "white",
                          "startlinecolor": "#2a3f5f"
                        },
                        "baxis": {
                          "endlinecolor": "#2a3f5f",
                          "gridcolor": "white",
                          "linecolor": "white",
                          "minorgridcolor": "white",
                          "startlinecolor": "#2a3f5f"
                        },
                        "type": "carpet"
                      }
                    ],
                    "choropleth": [
                      {
                        "colorbar": {
                          "outlinewidth": 0,
                          "ticks": ""
                        },
                        "type": "choropleth"
                      }
                    ],
                    "contour": [
                      {
                        "colorbar": {
                          "outlinewidth": 0,
                          "ticks": ""
                        },
                        "colorscale": [
                          [
                            0,
                            "#0d0887"
                          ],
                          [
                            0.1111111111111111,
                            "#46039f"
                          ],
                          [
                            0.2222222222222222,
                            "#7201a8"
                          ],
                          [
                            0.3333333333333333,
                            "#9c179e"
                          ],
                          [
                            0.4444444444444444,
                            "#bd3786"
                          ],
                          [
                            0.5555555555555556,
                            "#d8576b"
                          ],
                          [
                            0.6666666666666666,
                            "#ed7953"
                          ],
                          [
                            0.7777777777777778,
                            "#fb9f3a"
                          ],
                          [
                            0.8888888888888888,
                            "#fdca26"
                          ],
                          [
                            1,
                            "#f0f921"
                          ]
                        ],
                        "type": "contour"
                      }
                    ],
                    "contourcarpet": [
                      {
                        "colorbar": {
                          "outlinewidth": 0,
                          "ticks": ""
                        },
                        "type": "contourcarpet"
                      }
                    ],
                    "heatmap": [
                      {
                        "colorbar": {
                          "outlinewidth": 0,
                          "ticks": ""
                        },
                        "colorscale": [
                          [
                            0,
                            "#0d0887"
                          ],
                          [
                            0.1111111111111111,
                            "#46039f"
                          ],
                          [
                            0.2222222222222222,
                            "#7201a8"
                          ],
                          [
                            0.3333333333333333,
                            "#9c179e"
                          ],
                          [
                            0.4444444444444444,
                            "#bd3786"
                          ],
                          [
                            0.5555555555555556,
                            "#d8576b"
                          ],
                          [
                            0.6666666666666666,
                            "#ed7953"
                          ],
                          [
                            0.7777777777777778,
                            "#fb9f3a"
                          ],
                          [
                            0.8888888888888888,
                            "#fdca26"
                          ],
                          [
                            1,
                            "#f0f921"
                          ]
                        ],
                        "type": "heatmap"
                      }
                    ],
                    "histogram": [
                      {
                        "marker": {
                          "pattern": {
                            "fillmode": "overlay",
                            "size": 10,
                            "solidity": 0.2
                          }
                        },
                        "type": "histogram"
                      }
                    ],
                    "histogram2d": [
                      {
                        "colorbar": {
                          "outlinewidth": 0,
                          "ticks": ""
                        },
                        "colorscale": [
                          [
                            0,
                            "#0d0887"
                          ],
                          [
                            0.1111111111111111,
                            "#46039f"
                          ],
                          [
                            0.2222222222222222,
                            "#7201a8"
                          ],
                          [
                            0.3333333333333333,
                            "#9c179e"
                          ],
                          [
                            0.4444444444444444,
                            "#bd3786"
                          ],
                          [
                            0.5555555555555556,
                            "#d8576b"
                          ],
                          [
                            0.6666666666666666,
                            "#ed7953"
                          ],
                          [
                            0.7777777777777778,
                            "#fb9f3a"
                          ],
                          [
                            0.8888888888888888,
                            "#fdca26"
                          ],
                          [
                            1,
                            "#f0f921"
                          ]
                        ],
                        "type": "histogram2d"
                      }
                    ],
                    "histogram2dcontour": [
                      {
                        "colorbar": {
                          "outlinewidth": 0,
                          "ticks": ""
                        },
                        "colorscale": [
                          [
                            0,
                            "#0d0887"
                          ],
                          [
                            0.1111111111111111,
                            "#46039f"
                          ],
                          [
                            0.2222222222222222,
                            "#7201a8"
                          ],
                          [
                            0.3333333333333333,
                            "#9c179e"
                          ],
                          [
                            0.4444444444444444,
                            "#bd3786"
                          ],
                          [
                            0.5555555555555556,
                            "#d8576b"
                          ],
                          [
                            0.6666666666666666,
                            "#ed7953"
                          ],
                          [
                            0.7777777777777778,
                            "#fb9f3a"
                          ],
                          [
                            0.8888888888888888,
                            "#fdca26"
                          ],
                          [
                            1,
                            "#f0f921"
                          ]
                        ],
                        "type": "histogram2dcontour"
                      }
                    ],
                    "mesh3d": [
                      {
                        "colorbar": {
                          "outlinewidth": 0,
                          "ticks": ""
                        },
                        "type": "mesh3d"
                      }
                    ],
                    "parcoords": [
                      {
                        "line": {
                          "colorbar": {
                            "outlinewidth": 0,
                            "ticks": ""
                          }
                        },
                        "type": "parcoords"
                      }
                    ],
                    "pie": [
                      {
                        "automargin": true,
                        "type": "pie"
                      }
                    ],
                    "scatter": [
                      {
                        "fillpattern": {
                          "fillmode": "overlay",
                          "size": 10,
                          "solidity": 0.2
                        },
                        "type": "scatter"
                      }
                    ],
                    "scatter3d": [
                      {
                        "line": {
                          "colorbar": {
                            "outlinewidth": 0,
                            "ticks": ""
                          }
                        },
                        "marker": {
                          "colorbar": {
                            "outlinewidth": 0,
                            "ticks": ""
                          }
                        },
                        "type": "scatter3d"
                      }
                    ],
                    "scattercarpet": [
                      {
                        "marker": {
                          "colorbar": {
                            "outlinewidth": 0,
                            "ticks": ""
                          }
                        },
                        "type": "scattercarpet"
                      }
                    ],
                    "scattergeo": [
                      {
                        "marker": {
                          "colorbar": {
                            "outlinewidth": 0,
                            "ticks": ""
                          }
                        },
                        "type": "scattergeo"
                      }
                    ],
                    "scattergl": [
                      {
                        "marker": {
                          "colorbar": {
                            "outlinewidth": 0,
                            "ticks": ""
                          }
                        },
                        "type": "scattergl"
                      }
                    ],
                    "scattermap": [
                      {
                        "marker": {
                          "colorbar": {
                            "outlinewidth": 0,
                            "ticks": ""
                          }
                        },
                        "type": "scattermap"
                      }
                    ],
                    "scattermapbox": [
                      {
                        "marker": {
                          "colorbar": {
                            "outlinewidth": 0,
                            "ticks": ""
                          }
                        },
                        "type": "scattermapbox"
                      }
                    ],
                    "scatterpolar": [
                      {
                        "marker": {
                          "colorbar": {
                            "outlinewidth": 0,
                            "ticks": ""
                          }
                        },
                        "type": "scatterpolar"
                      }
                    ],
                    "scatterpolargl": [
                      {
                        "marker": {
                          "colorbar": {
                            "outlinewidth": 0,
                            "ticks": ""
                          }
                        },
                        "type": "scatterpolargl"
                      }
                    ],
                    "scatterternary": [
                      {
                        "marker": {
                          "colorbar": {
                            "outlinewidth": 0,
                            "ticks": ""
                          }
                        },
                        "type": "scatterternary"
                      }
                    ],
                    "surface": [
                      {
                        "colorbar": {
                          "outlinewidth": 0,
                          "ticks": ""
                        },
                        "colorscale": [
                          [
                            0,
                            "#0d0887"
                          ],
                          [
                            0.1111111111111111,
                            "#46039f"
                          ],
                          [
                            0.2222222222222222,
                            "#7201a8"
                          ],
                          [
                            0.3333333333333333,
                            "#9c179e"
                          ],
                          [
                            0.4444444444444444,
                            "#bd3786"
                          ],
                          [
                            0.5555555555555556,
                            "#d8576b"
                          ],
                          [
                            0.6666666666666666,
                            "#ed7953"
                          ],
                          [
                            0.7777777777777778,
                            "#fb9f3a"
                          ],
                          [
                            0.8888888888888888,
                            "#fdca26"
                          ],
                          [
                            1,
                            "#f0f921"
                          ]
                        ],
                        "type": "surface"
                      }
                    ],
                    "table": [
                      {
                        "cells": {
                          "fill": {
                            "color": "#EBF0F8"
                          },
                          "line": {
                            "color": "white"
                          }
                        },
                        "header": {
                          "fill": {
                            "color": "#C8D4E3"
                          },
                          "line": {
                            "color": "white"
                          }
                        },
                        "type": "table"
                      }
                    ]
                  },
                  "layout": {
                    "annotationdefaults": {
                      "arrowcolor": "#2a3f5f",
                      "arrowhead": 0,
                      "arrowwidth": 1
                    },
                    "autotypenumbers": "strict",
                    "coloraxis": {
                      "colorbar": {
                        "outlinewidth": 0,
                        "ticks": ""
                      }
                    },
                    "colorscale": {
                      "diverging": [
                        [
                          0,
                          "#8e0152"
                        ],
                        [
                          0.1,
                          "#c51b7d"
                        ],
                        [
                          0.2,
                          "#de77ae"
                        ],
                        [
                          0.3,
                          "#f1b6da"
                        ],
                        [
                          0.4,
                          "#fde0ef"
                        ],
                        [
                          0.5,
                          "#f7f7f7"
                        ],
                        [
                          0.6,
                          "#e6f5d0"
                        ],
                        [
                          0.7,
                          "#b8e186"
                        ],
                        [
                          0.8,
                          "#7fbc41"
                        ],
                        [
                          0.9,
                          "#4d9221"
                        ],
                        [
                          1,
                          "#276419"
                        ]
                      ],
                      "sequential": [
                        [
                          0,
                          "#0d0887"
                        ],
                        [
                          0.1111111111111111,
                          "#46039f"
                        ],
                        [
                          0.2222222222222222,
                          "#7201a8"
                        ],
                        [
                          0.3333333333333333,
                          "#9c179e"
                        ],
                        [
                          0.4444444444444444,
                          "#bd3786"
                        ],
                        [
                          0.5555555555555556,
                          "#d8576b"
                        ],
                        [
                          0.6666666666666666,
                          "#ed7953"
                        ],
                        [
                          0.7777777777777778,
                          "#fb9f3a"
                        ],
                        [
                          0.8888888888888888,
                          "#fdca26"
                        ],
                        [
                          1,
                          "#f0f921"
                        ]
                      ],
                      "sequentialminus": [
                        [
                          0,
                          "#0d0887"
                        ],
                        [
                          0.1111111111111111,
                          "#46039f"
                        ],
                        [
                          0.2222222222222222,
                          "#7201a8"
                        ],
                        [
                          0.3333333333333333,
                          "#9c179e"
                        ],
                        [
                          0.4444444444444444,
                          "#bd3786"
                        ],
                        [
                          0.5555555555555556,
                          "#d8576b"
                        ],
                        [
                          0.6666666666666666,
                          "#ed7953"
                        ],
                        [
                          0.7777777777777778,
                          "#fb9f3a"
                        ],
                        [
                          0.8888888888888888,
                          "#fdca26"
                        ],
                        [
                          1,
                          "#f0f921"
                        ]
                      ]
                    },
                    "colorway": [
                      "#636efa",
                      "#EF553B",
                      "#00cc96",
                      "#ab63fa",
                      "#FFA15A",
                      "#19d3f3",
                      "#FF6692",
                      "#B6E880",
                      "#FF97FF",
                      "#FECB52"
                    ],
                    "font": {
                      "color": "#2a3f5f"
                    },
                    "geo": {
                      "bgcolor": "white",
                      "lakecolor": "white",
                      "landcolor": "#E5ECF6",
                      "showlakes": true,
                      "showland": true,
                      "subunitcolor": "white"
                    },
                    "hoverlabel": {
                      "align": "left"
                    },
                    "hovermode": "closest",
                    "mapbox": {
                      "style": "light"
                    },
                    "paper_bgcolor": "white",
                    "plot_bgcolor": "#E5ECF6",
                    "polar": {
                      "angularaxis": {
                        "gridcolor": "white",
                        "linecolor": "white",
                        "ticks": ""
                      },
                      "bgcolor": "#E5ECF6",
                      "radialaxis": {
                        "gridcolor": "white",
                        "linecolor": "white",
                        "ticks": ""
                      }
                    },
                    "scene": {
                      "xaxis": {
                        "backgroundcolor": "#E5ECF6",
                        "gridcolor": "white",
                        "gridwidth": 2,
                        "linecolor": "white",
                        "showbackground": true,
                        "ticks": "",
                        "zerolinecolor": "white"
                      },
                      "yaxis": {
                        "backgroundcolor": "#E5ECF6",
                        "gridcolor": "white",
                        "gridwidth": 2,
                        "linecolor": "white",
                        "showbackground": true,
                        "ticks": "",
                        "zerolinecolor": "white"
                      },
                      "zaxis": {
                        "backgroundcolor": "#E5ECF6",
                        "gridcolor": "white",
                        "gridwidth": 2,
                        "linecolor": "white",
                        "showbackground": true,
                        "ticks": "",
                        "zerolinecolor": "white"
                      }
                    },
                    "shapedefaults": {
                      "line": {
                        "color": "#2a3f5f"
                      }
                    },
                    "ternary": {
                      "aaxis": {
                        "gridcolor": "white",
                        "linecolor": "white",
                        "ticks": ""
                      },
                      "baxis": {
                        "gridcolor": "white",
                        "linecolor": "white",
                        "ticks": ""
                      },
                      "bgcolor": "#E5ECF6",
                      "caxis": {
                        "gridcolor": "white",
                        "linecolor": "white",
                        "ticks": ""
                      }
                    },
                    "title": {
                      "x": 0.05
                    },
                    "xaxis": {
                      "automargin": true,
                      "gridcolor": "white",
                      "linecolor": "white",
                      "ticks": "",
                      "title": {
                        "standoff": 15
                      },
                      "zerolinecolor": "white",
                      "zerolinewidth": 2
                    },
                    "yaxis": {
                      "automargin": true,
                      "gridcolor": "white",
                      "linecolor": "white",
                      "ticks": "",
                      "title": {
                        "standoff": 15
                      },
                      "zerolinecolor": "white",
                      "zerolinewidth": 2
                    }
                  }
                },
                "title": {
                  "text": "S&P 500 일간 수익률 분포 (t-분포 및 정규분포 비교)"
                },
                "xaxis": {
                  "anchor": "y",
                  "domain": [
                    0,
                    1
                  ],
                  "title": {
                    "text": "수익률 (%)"
                  }
                },
                "yaxis": {
                  "anchor": "x",
                  "domain": [
                    0,
                    1
                  ],
                  "title": {
                    "text": "밀도"
                  }
                }
              }
            }
          },
          "metadata": {},
          "output_type": "display_data"
        }
      ],
      "source": [
        "# 1.2 S&P 500 수익률: t-분포 적합 (plotly express로 그리기)\n",
        "df_t, loc_t, scale_t = stats.t.fit(sp500_returns)\n",
        "x_sp = np.linspace(sp500_returns.min(), sp500_returns.max(), 200)\n",
        "\n",
        "# 히스토그램 데이터프레임 생성\n",
        "df_sp = pd.DataFrame({'수익률': sp500_returns})\n",
        "\n",
        "# 히스토그램 (density) express로 그리기\n",
        "fig2 = px.histogram(\n",
        "    df_sp, x='수익률', nbins=50, histnorm='probability density',\n",
        "    opacity=0.7, color_discrete_sequence=['lightblue'],\n",
        "    labels={'수익률': '수익률 (%)'},\n",
        "    title=\"S&P 500 일간 수익률 분포 (t-분포 및 정규분포 비교)\"\n",
        ")\n",
        "\n",
        "# t-분포 곡선 추가\n",
        "fig2.add_scatter(\n",
        "    x=x_sp, y=stats.t.pdf(x_sp, df_t, loc_t, scale_t),\n",
        "    mode='lines', name=f\"t-분포 적합<br>(자유도={df_t:.2f})\", line=dict(color='green')\n",
        ")\n",
        "# 정규분포 곡선 추가\n",
        "fig2.add_scatter(\n",
        "    x=x_sp, y=stats.norm.pdf(x_sp, mu_sp, std_sp),\n",
        "    mode='lines', name=\"정규분포(비교)\", line=dict(color='red', dash='dash')\n",
        ")\n",
        "\n",
        "fig2.update_layout(\n",
        "    xaxis_title=\"수익률 (%)\",\n",
        "    yaxis_title=\"밀도\"\n",
        ")\n",
        "fig2.show()"
      ]
    },
    {
      "cell_type": "code",
      "execution_count": 31,
      "metadata": {},
      "outputs": [
        {
          "data": {
            "application/vnd.plotly.v1+json": {
              "config": {
                "plotlyServerURL": "https://plot.ly"
              },
              "data": [
                {
                  "bingroup": "x",
                  "histnorm": "probability density",
                  "hovertemplate": "대기시간 (분)=%{x}<br>probability density=%{y}<extra></extra>",
                  "legendgroup": "",
                  "marker": {
                    "color": "lightgreen",
                    "opacity": 0.7,
                    "pattern": {
                      "shape": ""
                    }
                  },
                  "name": "",
                  "nbinsx": 30,
                  "orientation": "v",
                  "showlegend": false,
                  "type": "histogram",
                  "x": {
                    "bdata": "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",
                    "dtype": "f8"
                  },
                  "xaxis": "x",
                  "yaxis": "y"
                },
                {
                  "line": {
                    "color": "magenta"
                  },
                  "mode": "lines",
                  "name": "감마분포 적합<br>(α=8.35, scale=6.59)",
                  "type": "scatter",
                  "x": {
                    "bdata": "q/vIfA7HJEDIvmOW49MlQOSB/q+44CZAAUWZyY3tJ0AeCDTjYvooQDrLzvw3BypAV45pFg0UK0B0UQQw4iAsQJAUn0m3LS1Ardc5Y4w6LkDKmtR8YUcvQPOuN0sbKjBAghAF2IWwMEAQctJk8DYxQJ7Tn/FavTFALTVtfsVDMkC7ljoLMMoyQEr4B5iaUDNA2FnVJAXXM0Bmu6Kxb100QPQccD7a4zRAgn49y0RqNUAR4ApYr/A1QKBB2OQZdzZALqOlcYT9NkC8BHP+7oM3QEpmQItZCjhA2ccNGMSQOEBnKdukLhc5QPaKqDGZnTlAhOx1vgMkOkASTkNLbqo6QKCvENjYMDtALhHeZEO3O0C+cqvxrT08QEzUeH4YxDxA2jVGC4NKPUBolxOY7dA9QPb44CRYVz5AhFquscLdPkAUvHs+LWQ/QKIdScuX6j9AmD8LLIE4QEBf8HFytntAQCah2LjrvkBA7VE//yACQUC1AqZFVkVBQHyzDIyLiEFAQ2Rz0sDLQUAKFdoY9g5CQNHFQF8rUkJAmXanpWCVQkBgJw7sldhCQCfYdDLLG0NA7ojbeABfQ0C1OUK/NaJDQHzqqAVr5UNARJsPTKAoREALTHaS1WtEQNL83NgKr0RAma1DH0DyREBgXqpldTVFQCgPEayqeEVA77938t+7RUC2cN44Ff9FQH0hRX9KQkZARNKrxX+FRkAMgxIMtchGQNMzeVLqC0dAmuTfmB9PR0BhlUbfVJJHQChGrSWK1UdA7/YTbL8YSEC3p3qy9FtIQH5Y4fgpn0hARQlIP1/iSEAMuq6FlCVJQNNqFczJaElAmht8Ev+rSUBizOJYNO9JQCl9SZ9pMkpA8C2w5Z51SkC33hYs1LhKQH6PfXIJ/EpARUDkuD4/S0AN8Ur/c4JLQNShsUWpxUtAm1IYjN4ITEBiA3/SE0xMQCm05RhJj0xA8GRMX37STEC4FbOlsxVNQH/GGezoWE1ARneAMh6cTUANKOd4U99NQNTYTb+IIk5Am4m0Bb5lTkBjOhtM86hOQCrrgZIo7E5A8Zvo2F0vT0C4TE8fk3JPQH/9tWXItU9AR64crP34T0CHr0F5GR5QQOoHdRy0P1BATmCov05hUECxuNti6YJQQBURDwaEpFBAeWlCqR7GUEDcwXVMuedQQEAaqe9TCVFAo3Lcku4qUUAHyw82iUxRQGojQ9kjblFAznt2fL6PUUAy1KkfWbFRQJUs3cLz0lFA+YQQZo70UUBc3UMJKRZSQMA1d6zDN1JAJI6qT15ZUkCH5t3y+HpSQOo+EZaTnFJATpdEOS6+UkCy73fcyN9SQBVIq39jAVNAeaDeIv4iU0Dc+BHGmERTQEBRRWkzZlNApKl4DM6HU0AHAqyvaKlTQGta31IDy1NAzrIS9p3sU0AyC0aZOA5UQJZjeTzTL1RA+bus321RVEBdFOCCCHNUQMBsEyajlFRAJMVGyT22VECHHXps2NdUQOt1rQ9z+VRAT87gsg0bVUCyJhRWqDxVQBZ/R/lCXlVAedd6nN1/VUDdL64/eKFVQEGI4eISw1VApOAUhq3kVUAIOUgpSAZWQGuRe8ziJ1ZAz+mub31JVkAyQuISGGtWQJaaFbayjFZA+vJIWU2uVkBdS3z8589WQMGjr5+C8VZAJPziQh0TV0CIVBbmtzRXQOysSYlSVldATwV9LO13V0CzXbDPh5lXQBa243Iiu1dAeg4XFr3cV0DeZkq5V/5XQEG/fVzyH1hApRex/4xBWEAIcOSiJ2NYQGzIF0bChFhAzyBL6VymWEAzeX6M98dYQJfRsS+S6VhA+inl0iwLWUBeghh2xyxZQMHaSxliTllAJTN/vPxvWUCJi7Jfl5FZQOzj5QIys1lAUDwZpszUWUCzlExJZ/ZZQBftf+wBGFpAekWzj5w5WkDeneYyN1taQEL2GdbRfFpApU5NeWyeWkAJp4AcB8BaQGz/s7+h4VpA0FfnYjwDW0A0sBoG1yRbQJcITqlxRltA+2CBTAxoW0BeubTvpolbQMIR6JJBq1tAJWobNtzMW0CJwk7Zdu5bQO0agnwREFxAUHO1H6wxXEC0y+jCRlNcQBckHGbhdFxAe3xPCXyWXEDf1IKsFrhcQA==",
                    "dtype": "f8"
                  },
                  "y": {
                    "bdata": "ohiL9seOFj8CgzI73O4dP/P0HLw6hiM/md1tAAMUKT+gO5GnJsIvP2Qmv7dh2TM/5RJmTyOEOD9JJY6BffI9P8GAdWylGkI/WFc17nCuRT96hxixbrxJP/rg4KPzS04/a6S6l+GxUT8pCI0Q/IRUP0dkeen3oVc/mtYy5xsLWz9YMKcKP8JeP9WNMwxhZGE/rT7LRcWPYz+2nXR7f+NlP7UHQmiCX2g/ckdA0H8Daz9P4arC6M5tPz2GYT93YHA/qt2r+EHscT+1wdvfL4pzP9CM3Gl/OXU/JEngrVP5dj+aA5EYtsh4P7FIfEuYpno/gp66IdaRfD/niOPSN4l+P6RzwRa6RYA/2rc9cZlLgT/Mc4Rth1WCPwBytEnMYoM/Y9xHOqxyhD9DP9uTaISFP61Afu9Al4Y/nvhjR3Sqhz8kxgIKQr2IP1+57SHrzok/AIjr8LLeij9qywc94OuLP2CAkg6+9Yw/9uc2fpz7jT8wnIVy0fyOP6uifUy5+I8/DJxmwVt3kD8rbNaVG++QP22/rrpVY5E/BRy7BsjTkT9WZ6a7NECSP9Pb8KhiqJI/3y/oRh0Mkz8YYO3JNGuTP47fXC5+xZM/8791PdMalD+Xw6KLEmuUP9pRjXAftpQ/VApm+eH7lD9lRdHVRjyVP81S5z8/d5U/J8O438CslT/LocaqxdyVPxdM3b9LB5Y/pJ2+P1Uslj8JkgUj6EuWP9ZUqg0OZpY/xhWKINR6lj9J61HJSoqWP4GtJ5GFlJY/mwxn6pqZlj+tScT9o5mWP7f2IHe8lJY/PwVaUgKLlj+BQlGolXyWP9Yyb3yYaZY/ORvVii5Slj9M8nEXfTaWP135J76qFpY/f98rRN/ylT+Wm8FqQ8uVPyKddsMAoJU/tJT0hUFxlT9E6YNnMD+VPyL3UHT4CZU/aHOD6sTRlD9KxTMXwZaUP5LWRjUYWZQ/tsI1TvUYlD/878Mcg9aTP392o/HrkZM/VEkFmllLkz9dYxBI9QKTP4YvOX3nuJI/V51w9ldtkj/4ryCabSCSP9fq6mdO0pE/aMEbah+DkT9jGMWoBDORP9L+cB4h4pA/zQBdrpaQkD/g1i0chj6QPzlxFQoe2I8/HXUetJ8yjz+6xwS4y4yOP1z/gjDa5o0/606azQBBjT/CGM7ScpuMP15SXhdh9os/eHFeCPpRiz8IIoesaa6KP9mvoanZC4o/P81sS3FqiT+rOduLVcqIPxq4jRypK4g/Q8JqcYyOhz+VcjfMHfOGPxAzFkl5WYY/3eTQ67jBhT8WVtWt9CuFP40KzIxCmIQ/qouymbYGhD9EoGMIY3eDP78AeT9Y6oI/BEdz6KRfgj/oBBYAVteBP9wR5+Z2UYE/WEHBcRHOgD+pzmv6LU2APyi4UeCmnX8/zeNc0A6mfj9x1vxbnLN9P3hzJadVxnw/ObWogj7eez/of6iLWPt6P3edfEqjHXo/CM/+UBxFeT+ucTBYv3F4Pwi5Ll2Go3c/cuxrvWnadj9gbiVSYBZ2P0SaD4tfV3U/cbkxiFuddD+fbO0yR+hzP3X0LVYUOHM/B8K8tbOMcj+Cm7kkFeZxPwp+NZsnRHE/iirwStmmcD/7AzmzFw5wP8sa6Wef824/R9+QP9vTbT9b9eCaurxsP4wlf1AUrms/qdyff76naj9208ytjqlpP2UrGuNZs2g/hdvSxPTEZz+M2qWuM95mP77kXcrq/mU/uB8uJu4mZT8mMp7JEVZkP7enIMkpjGM/L61eWArJYj8ZV0TbhwxiP2S/2PV2VmE/wVTtmqymYD/pbV8z/PlfP7ryUlSCsl4/qSFy8Zd2XT9EOR5h6kVcPyY1dgooIFs/1d+kdgAFWj8uC3lgJPRYP5wIXcJF7Vc/shDC4hfwVj9l0xNfT/xVP2zxRzWiEVU/pJ0czMcvVD8EHhn6eFZTP25cYgtwhVI/niZ1xmi8UT/gLtdvIPtQPytMz8xVQVA/dMtpSpIdTz8OwMuIeMZNP0Wi4/LkfEw/xlYRLWFASz/B+HTfeRBKPw6aKrK+7Eg/PD5bSMLURz8l8Do6GshGP+m6Cg5fxkU/Cjo0MCzPRD+vcJPqH+JDPwaJAlvb/kI/kyQ6aQIlQj9R6he8O1RBPw==",
                    "dtype": "f8"
                  }
                }
              ],
              "layout": {
                "barmode": "relative",
                "legend": {
                  "tracegroupgap": 0
                },
                "template": {
                  "data": {
                    "bar": [
                      {
                        "error_x": {
                          "color": "#2a3f5f"
                        },
                        "error_y": {
                          "color": "#2a3f5f"
                        },
                        "marker": {
                          "line": {
                            "color": "#E5ECF6",
                            "width": 0.5
                          },
                          "pattern": {
                            "fillmode": "overlay",
                            "size": 10,
                            "solidity": 0.2
                          }
                        },
                        "type": "bar"
                      }
                    ],
                    "barpolar": [
                      {
                        "marker": {
                          "line": {
                            "color": "#E5ECF6",
                            "width": 0.5
                          },
                          "pattern": {
                            "fillmode": "overlay",
                            "size": 10,
                            "solidity": 0.2
                          }
                        },
                        "type": "barpolar"
                      }
                    ],
                    "carpet": [
                      {
                        "aaxis": {
                          "endlinecolor": "#2a3f5f",
                          "gridcolor": "white",
                          "linecolor": "white",
                          "minorgridcolor": "white",
                          "startlinecolor": "#2a3f5f"
                        },
                        "baxis": {
                          "endlinecolor": "#2a3f5f",
                          "gridcolor": "white",
                          "linecolor": "white",
                          "minorgridcolor": "white",
                          "startlinecolor": "#2a3f5f"
                        },
                        "type": "carpet"
                      }
                    ],
                    "choropleth": [
                      {
                        "colorbar": {
                          "outlinewidth": 0,
                          "ticks": ""
                        },
                        "type": "choropleth"
                      }
                    ],
                    "contour": [
                      {
                        "colorbar": {
                          "outlinewidth": 0,
                          "ticks": ""
                        },
                        "colorscale": [
                          [
                            0,
                            "#0d0887"
                          ],
                          [
                            0.1111111111111111,
                            "#46039f"
                          ],
                          [
                            0.2222222222222222,
                            "#7201a8"
                          ],
                          [
                            0.3333333333333333,
                            "#9c179e"
                          ],
                          [
                            0.4444444444444444,
                            "#bd3786"
                          ],
                          [
                            0.5555555555555556,
                            "#d8576b"
                          ],
                          [
                            0.6666666666666666,
                            "#ed7953"
                          ],
                          [
                            0.7777777777777778,
                            "#fb9f3a"
                          ],
                          [
                            0.8888888888888888,
                            "#fdca26"
                          ],
                          [
                            1,
                            "#f0f921"
                          ]
                        ],
                        "type": "contour"
                      }
                    ],
                    "contourcarpet": [
                      {
                        "colorbar": {
                          "outlinewidth": 0,
                          "ticks": ""
                        },
                        "type": "contourcarpet"
                      }
                    ],
                    "heatmap": [
                      {
                        "colorbar": {
                          "outlinewidth": 0,
                          "ticks": ""
                        },
                        "colorscale": [
                          [
                            0,
                            "#0d0887"
                          ],
                          [
                            0.1111111111111111,
                            "#46039f"
                          ],
                          [
                            0.2222222222222222,
                            "#7201a8"
                          ],
                          [
                            0.3333333333333333,
                            "#9c179e"
                          ],
                          [
                            0.4444444444444444,
                            "#bd3786"
                          ],
                          [
                            0.5555555555555556,
                            "#d8576b"
                          ],
                          [
                            0.6666666666666666,
                            "#ed7953"
                          ],
                          [
                            0.7777777777777778,
                            "#fb9f3a"
                          ],
                          [
                            0.8888888888888888,
                            "#fdca26"
                          ],
                          [
                            1,
                            "#f0f921"
                          ]
                        ],
                        "type": "heatmap"
                      }
                    ],
                    "histogram": [
                      {
                        "marker": {
                          "pattern": {
                            "fillmode": "overlay",
                            "size": 10,
                            "solidity": 0.2
                          }
                        },
                        "type": "histogram"
                      }
                    ],
                    "histogram2d": [
                      {
                        "colorbar": {
                          "outlinewidth": 0,
                          "ticks": ""
                        },
                        "colorscale": [
                          [
                            0,
                            "#0d0887"
                          ],
                          [
                            0.1111111111111111,
                            "#46039f"
                          ],
                          [
                            0.2222222222222222,
                            "#7201a8"
                          ],
                          [
                            0.3333333333333333,
                            "#9c179e"
                          ],
                          [
                            0.4444444444444444,
                            "#bd3786"
                          ],
                          [
                            0.5555555555555556,
                            "#d8576b"
                          ],
                          [
                            0.6666666666666666,
                            "#ed7953"
                          ],
                          [
                            0.7777777777777778,
                            "#fb9f3a"
                          ],
                          [
                            0.8888888888888888,
                            "#fdca26"
                          ],
                          [
                            1,
                            "#f0f921"
                          ]
                        ],
                        "type": "histogram2d"
                      }
                    ],
                    "histogram2dcontour": [
                      {
                        "colorbar": {
                          "outlinewidth": 0,
                          "ticks": ""
                        },
                        "colorscale": [
                          [
                            0,
                            "#0d0887"
                          ],
                          [
                            0.1111111111111111,
                            "#46039f"
                          ],
                          [
                            0.2222222222222222,
                            "#7201a8"
                          ],
                          [
                            0.3333333333333333,
                            "#9c179e"
                          ],
                          [
                            0.4444444444444444,
                            "#bd3786"
                          ],
                          [
                            0.5555555555555556,
                            "#d8576b"
                          ],
                          [
                            0.6666666666666666,
                            "#ed7953"
                          ],
                          [
                            0.7777777777777778,
                            "#fb9f3a"
                          ],
                          [
                            0.8888888888888888,
                            "#fdca26"
                          ],
                          [
                            1,
                            "#f0f921"
                          ]
                        ],
                        "type": "histogram2dcontour"
                      }
                    ],
                    "mesh3d": [
                      {
                        "colorbar": {
                          "outlinewidth": 0,
                          "ticks": ""
                        },
                        "type": "mesh3d"
                      }
                    ],
                    "parcoords": [
                      {
                        "line": {
                          "colorbar": {
                            "outlinewidth": 0,
                            "ticks": ""
                          }
                        },
                        "type": "parcoords"
                      }
                    ],
                    "pie": [
                      {
                        "automargin": true,
                        "type": "pie"
                      }
                    ],
                    "scatter": [
                      {
                        "fillpattern": {
                          "fillmode": "overlay",
                          "size": 10,
                          "solidity": 0.2
                        },
                        "type": "scatter"
                      }
                    ],
                    "scatter3d": [
                      {
                        "line": {
                          "colorbar": {
                            "outlinewidth": 0,
                            "ticks": ""
                          }
                        },
                        "marker": {
                          "colorbar": {
                            "outlinewidth": 0,
                            "ticks": ""
                          }
                        },
                        "type": "scatter3d"
                      }
                    ],
                    "scattercarpet": [
                      {
                        "marker": {
                          "colorbar": {
                            "outlinewidth": 0,
                            "ticks": ""
                          }
                        },
                        "type": "scattercarpet"
                      }
                    ],
                    "scattergeo": [
                      {
                        "marker": {
                          "colorbar": {
                            "outlinewidth": 0,
                            "ticks": ""
                          }
                        },
                        "type": "scattergeo"
                      }
                    ],
                    "scattergl": [
                      {
                        "marker": {
                          "colorbar": {
                            "outlinewidth": 0,
                            "ticks": ""
                          }
                        },
                        "type": "scattergl"
                      }
                    ],
                    "scattermap": [
                      {
                        "marker": {
                          "colorbar": {
                            "outlinewidth": 0,
                            "ticks": ""
                          }
                        },
                        "type": "scattermap"
                      }
                    ],
                    "scattermapbox": [
                      {
                        "marker": {
                          "colorbar": {
                            "outlinewidth": 0,
                            "ticks": ""
                          }
                        },
                        "type": "scattermapbox"
                      }
                    ],
                    "scatterpolar": [
                      {
                        "marker": {
                          "colorbar": {
                            "outlinewidth": 0,
                            "ticks": ""
                          }
                        },
                        "type": "scatterpolar"
                      }
                    ],
                    "scatterpolargl": [
                      {
                        "marker": {
                          "colorbar": {
                            "outlinewidth": 0,
                            "ticks": ""
                          }
                        },
                        "type": "scatterpolargl"
                      }
                    ],
                    "scatterternary": [
                      {
                        "marker": {
                          "colorbar": {
                            "outlinewidth": 0,
                            "ticks": ""
                          }
                        },
                        "type": "scatterternary"
                      }
                    ],
                    "surface": [
                      {
                        "colorbar": {
                          "outlinewidth": 0,
                          "ticks": ""
                        },
                        "colorscale": [
                          [
                            0,
                            "#0d0887"
                          ],
                          [
                            0.1111111111111111,
                            "#46039f"
                          ],
                          [
                            0.2222222222222222,
                            "#7201a8"
                          ],
                          [
                            0.3333333333333333,
                            "#9c179e"
                          ],
                          [
                            0.4444444444444444,
                            "#bd3786"
                          ],
                          [
                            0.5555555555555556,
                            "#d8576b"
                          ],
                          [
                            0.6666666666666666,
                            "#ed7953"
                          ],
                          [
                            0.7777777777777778,
                            "#fb9f3a"
                          ],
                          [
                            0.8888888888888888,
                            "#fdca26"
                          ],
                          [
                            1,
                            "#f0f921"
                          ]
                        ],
                        "type": "surface"
                      }
                    ],
                    "table": [
                      {
                        "cells": {
                          "fill": {
                            "color": "#EBF0F8"
                          },
                          "line": {
                            "color": "white"
                          }
                        },
                        "header": {
                          "fill": {
                            "color": "#C8D4E3"
                          },
                          "line": {
                            "color": "white"
                          }
                        },
                        "type": "table"
                      }
                    ]
                  },
                  "layout": {
                    "annotationdefaults": {
                      "arrowcolor": "#2a3f5f",
                      "arrowhead": 0,
                      "arrowwidth": 1
                    },
                    "autotypenumbers": "strict",
                    "coloraxis": {
                      "colorbar": {
                        "outlinewidth": 0,
                        "ticks": ""
                      }
                    },
                    "colorscale": {
                      "diverging": [
                        [
                          0,
                          "#8e0152"
                        ],
                        [
                          0.1,
                          "#c51b7d"
                        ],
                        [
                          0.2,
                          "#de77ae"
                        ],
                        [
                          0.3,
                          "#f1b6da"
                        ],
                        [
                          0.4,
                          "#fde0ef"
                        ],
                        [
                          0.5,
                          "#f7f7f7"
                        ],
                        [
                          0.6,
                          "#e6f5d0"
                        ],
                        [
                          0.7,
                          "#b8e186"
                        ],
                        [
                          0.8,
                          "#7fbc41"
                        ],
                        [
                          0.9,
                          "#4d9221"
                        ],
                        [
                          1,
                          "#276419"
                        ]
                      ],
                      "sequential": [
                        [
                          0,
                          "#0d0887"
                        ],
                        [
                          0.1111111111111111,
                          "#46039f"
                        ],
                        [
                          0.2222222222222222,
                          "#7201a8"
                        ],
                        [
                          0.3333333333333333,
                          "#9c179e"
                        ],
                        [
                          0.4444444444444444,
                          "#bd3786"
                        ],
                        [
                          0.5555555555555556,
                          "#d8576b"
                        ],
                        [
                          0.6666666666666666,
                          "#ed7953"
                        ],
                        [
                          0.7777777777777778,
                          "#fb9f3a"
                        ],
                        [
                          0.8888888888888888,
                          "#fdca26"
                        ],
                        [
                          1,
                          "#f0f921"
                        ]
                      ],
                      "sequentialminus": [
                        [
                          0,
                          "#0d0887"
                        ],
                        [
                          0.1111111111111111,
                          "#46039f"
                        ],
                        [
                          0.2222222222222222,
                          "#7201a8"
                        ],
                        [
                          0.3333333333333333,
                          "#9c179e"
                        ],
                        [
                          0.4444444444444444,
                          "#bd3786"
                        ],
                        [
                          0.5555555555555556,
                          "#d8576b"
                        ],
                        [
                          0.6666666666666666,
                          "#ed7953"
                        ],
                        [
                          0.7777777777777778,
                          "#fb9f3a"
                        ],
                        [
                          0.8888888888888888,
                          "#fdca26"
                        ],
                        [
                          1,
                          "#f0f921"
                        ]
                      ]
                    },
                    "colorway": [
                      "#636efa",
                      "#EF553B",
                      "#00cc96",
                      "#ab63fa",
                      "#FFA15A",
                      "#19d3f3",
                      "#FF6692",
                      "#B6E880",
                      "#FF97FF",
                      "#FECB52"
                    ],
                    "font": {
                      "color": "#2a3f5f"
                    },
                    "geo": {
                      "bgcolor": "white",
                      "lakecolor": "white",
                      "landcolor": "#E5ECF6",
                      "showlakes": true,
                      "showland": true,
                      "subunitcolor": "white"
                    },
                    "hoverlabel": {
                      "align": "left"
                    },
                    "hovermode": "closest",
                    "mapbox": {
                      "style": "light"
                    },
                    "paper_bgcolor": "white",
                    "plot_bgcolor": "#E5ECF6",
                    "polar": {
                      "angularaxis": {
                        "gridcolor": "white",
                        "linecolor": "white",
                        "ticks": ""
                      },
                      "bgcolor": "#E5ECF6",
                      "radialaxis": {
                        "gridcolor": "white",
                        "linecolor": "white",
                        "ticks": ""
                      }
                    },
                    "scene": {
                      "xaxis": {
                        "backgroundcolor": "#E5ECF6",
                        "gridcolor": "white",
                        "gridwidth": 2,
                        "linecolor": "white",
                        "showbackground": true,
                        "ticks": "",
                        "zerolinecolor": "white"
                      },
                      "yaxis": {
                        "backgroundcolor": "#E5ECF6",
                        "gridcolor": "white",
                        "gridwidth": 2,
                        "linecolor": "white",
                        "showbackground": true,
                        "ticks": "",
                        "zerolinecolor": "white"
                      },
                      "zaxis": {
                        "backgroundcolor": "#E5ECF6",
                        "gridcolor": "white",
                        "gridwidth": 2,
                        "linecolor": "white",
                        "showbackground": true,
                        "ticks": "",
                        "zerolinecolor": "white"
                      }
                    },
                    "shapedefaults": {
                      "line": {
                        "color": "#2a3f5f"
                      }
                    },
                    "ternary": {
                      "aaxis": {
                        "gridcolor": "white",
                        "linecolor": "white",
                        "ticks": ""
                      },
                      "baxis": {
                        "gridcolor": "white",
                        "linecolor": "white",
                        "ticks": ""
                      },
                      "bgcolor": "#E5ECF6",
                      "caxis": {
                        "gridcolor": "white",
                        "linecolor": "white",
                        "ticks": ""
                      }
                    },
                    "title": {
                      "x": 0.05
                    },
                    "xaxis": {
                      "automargin": true,
                      "gridcolor": "white",
                      "linecolor": "white",
                      "ticks": "",
                      "title": {
                        "standoff": 15
                      },
                      "zerolinecolor": "white",
                      "zerolinewidth": 2
                    },
                    "yaxis": {
                      "automargin": true,
                      "gridcolor": "white",
                      "linecolor": "white",
                      "ticks": "",
                      "title": {
                        "standoff": 15
                      },
                      "zerolinecolor": "white",
                      "zerolinewidth": 2
                    }
                  }
                },
                "title": {
                  "text": "Old Faithful 대기시간 분포 (감마분포 적합)"
                },
                "xaxis": {
                  "anchor": "y",
                  "domain": [
                    0,
                    1
                  ],
                  "title": {
                    "text": "대기시간 (분)"
                  }
                },
                "yaxis": {
                  "anchor": "x",
                  "domain": [
                    0,
                    1
                  ],
                  "title": {
                    "text": "밀도"
                  }
                }
              }
            }
          },
          "metadata": {},
          "output_type": "display_data"
        }
      ],
      "source": [
        "# 1.3 Old Faithful 대기시간: 감마분포 적합 (plotly express)\n",
        "# Old Faithful 대기시간(감마 혼합) 가상 데이터 생성\n",
        "np.random.seed(0)\n",
        "waiting_times = np.concatenate([\n",
        "    stats.gamma.rvs(a=5, scale=10, size=150),\n",
        "    stats.gamma.rvs(a=30, scale=2, size=150)\n",
        "])\n",
        "\n",
        "ag, locg, scaleg = stats.gamma.fit(waiting_times, floc=0)\n",
        "xg = np.linspace(waiting_times.min(), waiting_times.max(), 200)\n",
        "df_wait = pd.DataFrame({'대기시간': waiting_times})\n",
        "\n",
        "fig3 = px.histogram(\n",
        "    df_wait, x='대기시간', nbins=30, histnorm='probability density',\n",
        "    opacity=0.7, color_discrete_sequence=['lightgreen'],\n",
        "    labels={'대기시간': '대기시간 (분)'},\n",
        "    title=\"Old Faithful 대기시간 분포 (감마분포 적합)\"\n",
        ")\n",
        "fig3.add_scatter(\n",
        "    x=xg, y=stats.gamma.pdf(xg, a=ag, loc=locg, scale=scaleg),\n",
        "    mode='lines', name=f\"감마분포 적합<br>(α={ag:.2f}, scale={scaleg:.2f})\", line=dict(color='magenta')\n",
        ")\n",
        "fig3.update_layout(\n",
        "    xaxis_title=\"대기시간 (분)\",\n",
        "    yaxis_title=\"밀도\"\n",
        ")\n",
        "fig3.show()"
      ]
    },
    {
      "cell_type": "markdown",
      "metadata": {},
      "source": [
        "지수분포"
      ]
    },
    {
      "cell_type": "code",
      "execution_count": 36,
      "metadata": {},
      "outputs": [
        {
          "data": {
            "application/vnd.plotly.v1+json": {
              "config": {
                "plotlyServerURL": "https://plot.ly"
              },
              "data": [
                {
                  "bingroup": "x",
                  "histnorm": "probability density",
                  "hovertemplate": "대기시간 (초)=%{x}<br>probability density=%{y}<extra></extra>",
                  "legendgroup": "",
                  "marker": {
                    "color": "lightcoral",
                    "opacity": 0.7,
                    "pattern": {
                      "shape": ""
                    }
                  },
                  "name": "",
                  "nbinsx": 30,
                  "orientation": "v",
                  "showlegend": false,
                  "type": "histogram",
                  "x": {
                    "bdata": "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",
                    "dtype": "f8"
                  },
                  "xaxis": "x",
                  "yaxis": "y"
                },
                {
                  "line": {
                    "color": "cyan"
                  },
                  "mode": "lines",
                  "name": "지수분포 적합<br>(scale=62.11)",
                  "type": "scatter",
                  "x": {
                    "bdata": "0EPXMZHByD9AS/hDbc4SQDHuMP9mayJAwrZlXJdvK0CqP83c4zkyQPKjZwv8uzZAOwgCOhQ+O0CEbJxoLMA/QGZom0siIUJAiproYi5iRECuzDV6OqNGQNP+gpFG5EhA9zDQqFIlS0AbYx3AXmZNQECVatdqp09AsuNbdzv0UEDEfAKDwRRSQNYVqY5HNVNA6K5Pms1VVED6R/alU3ZVQAzhnLHZllZAH3pDvV+3V0AxE+rI5ddYQEOskNRr+FlAVUU34PEYW0Bn3t3rdzlcQHl3hPf9WV1AixArA4R6XkCeqdEOCptfQFghPA3IXWBA4W0PEwvuYEBquuIYTn5hQPMGth6RDmJAfFOJJNSeYkAFoFwqFy9jQI7sLzBav2NAFzkDNp1PZECghdY74N9kQCnSqUEjcGVAsh59R2YAZkA7a1BNqZBmQMW3I1PsIGdATgT3WC+xZ0DXUMpeckFoQGCdnWS10WhA6elwavhhaUByNkRwO/JpQPuCF3Z+gmpAhM/qe8ESa0ANHL6BBKNrQJZokYdHM2xAH7VkjYrDbECoATiTzVNtQDFOC5kQ5G1AuprenlN0bkBD57GklgRvQM0zharZlG9AKkAsWI4ScEBv5hXbr1pwQLOM/13RonBA+DLp4PLqcEA82dJjFDNxQIF/vOY1e3FAxSWmaVfDcUAKzI/seAtyQE9yeW+aU3JAkxhj8rubckDYvkx13eNyQBxlNvj+K3NAYQsgeyB0c0ClsQn+QbxzQOpX84BjBHRALv7cA4VMdEBzpMaGppR0QLdKsAnI3HRA/PCZjOkkdUBAl4MPC211QIU9bZIstXVAyeNWFU79dUAOikCYb0V2QFIwKhuRjXZAl9YTnrLVdkDcfP0g1B13QCAj56P1ZXdAZcnQJheud0Cpb7qpOPZ3QO4VpCxaPnhAMryNr3uGeEB3Yncync54QLsIYbW+FnlAAK9KOOBeeUBEVTS7Aad5QIn7HT4j73lAzaEHwUQ3ekASSPFDZn96QFbu2saHx3pAm5TESakPe0DgOq7Myld7QCThl0/sn3tAaIeB0g3oe0A=",
                    "dtype": "f8"
                  },
                  "y": {
                    "bdata": "tpkwprtvkD95211kQJKOP1RBlpJKbow/6qQAZrJwij84fVUzyJaIP8rzFnUM3oY/rVWRbCxEhT9S6Ef//saDP+Qak8yBZII/reCAd9YagT9tDJ1CgNB/P9/PKSJCln0/i935CvGDez+l3hVbwZZ5P2OQiIsZzHc/Y1RHro4hdj8ZKPwq4ZR0P3fxSbb5I3M/Nvhyf+bMcT+jxpKQ2I1wP/rYwbtCym4/9i1jAWGibD/K70c2I6FqP/q0SsPUw2g/E6RFj/EHZz/jzuWZImtlPzWlWdM662M/F7eXLDSGYj8UXkfcLDphPwfrm9RkBWA/lgZqzXbMXT9Ii6ggWrZbPzLe4uGixVk/yrHWxrL3Vz9cIItzGkpWP412IDGWulQ/4nWF3wpHUz9dZvIdg+1RP5g4VKYsrFA/HmstsKsCTz9ETvnd1tZMPxKt4MXs0Uo/gA/c2zPxSD/JBrtqIzJHP18ivyhgkkU/m3qBCbkPRD+qOthIJKhCP8l+vqq8WUE/GGSI7L4iQD+PWt/HDgM+P8h7hpEf6Ts/WGx6TNr0OT+k93HimyM4Pyx8aIHwcjY/l5VoTJDgND/2JahHXGozP0CHzntbDjI/wx+ITLjKMD/jm5/9ezsvP7IGLtesCy0/Oolitw8DKz8V6j4U5h4pPxw2FpSiXCc/DOrjm+W5JT+V+10bejQkPzBQb5JSyiI/paUVTIZ5IT95/eXKTkAgPxA4e8cKOh4/D/XHBkIcHD/B/Tc4aCQaP31dsXDVTxg/dWT3XxGcFj+KKWX7zwYVP5IYZmTujRM/17l9BnAvEj/J2froe+kQPxbib2G0dA8/3goXneNADT+vEo+ujDQLP7CovQTsTAk/k+33mG+HBz9AVwp3s+EFP0mMbIN+WQQ/pNlGe7/sAj+m6jwqipkBP1T6OdIUXgA/DmF8g2tx/j4tPNcqwk/8PqZRl0NNVPo+Kfr3BGB8+D6cK0mYfcX2Pli3jr1VLfU+BQlLrMGx8z5f6D4swVDyPhpFM+J3CPE+J5hQmlWu7z6WqAzhe3btPrfbU1BkZus+o7G5RkZ76T4=",
                    "dtype": "f8"
                  }
                }
              ],
              "layout": {
                "barmode": "relative",
                "legend": {
                  "tracegroupgap": 0
                },
                "template": {
                  "data": {
                    "bar": [
                      {
                        "error_x": {
                          "color": "#2a3f5f"
                        },
                        "error_y": {
                          "color": "#2a3f5f"
                        },
                        "marker": {
                          "line": {
                            "color": "#E5ECF6",
                            "width": 0.5
                          },
                          "pattern": {
                            "fillmode": "overlay",
                            "size": 10,
                            "solidity": 0.2
                          }
                        },
                        "type": "bar"
                      }
                    ],
                    "barpolar": [
                      {
                        "marker": {
                          "line": {
                            "color": "#E5ECF6",
                            "width": 0.5
                          },
                          "pattern": {
                            "fillmode": "overlay",
                            "size": 10,
                            "solidity": 0.2
                          }
                        },
                        "type": "barpolar"
                      }
                    ],
                    "carpet": [
                      {
                        "aaxis": {
                          "endlinecolor": "#2a3f5f",
                          "gridcolor": "white",
                          "linecolor": "white",
                          "minorgridcolor": "white",
                          "startlinecolor": "#2a3f5f"
                        },
                        "baxis": {
                          "endlinecolor": "#2a3f5f",
                          "gridcolor": "white",
                          "linecolor": "white",
                          "minorgridcolor": "white",
                          "startlinecolor": "#2a3f5f"
                        },
                        "type": "carpet"
                      }
                    ],
                    "choropleth": [
                      {
                        "colorbar": {
                          "outlinewidth": 0,
                          "ticks": ""
                        },
                        "type": "choropleth"
                      }
                    ],
                    "contour": [
                      {
                        "colorbar": {
                          "outlinewidth": 0,
                          "ticks": ""
                        },
                        "colorscale": [
                          [
                            0,
                            "#0d0887"
                          ],
                          [
                            0.1111111111111111,
                            "#46039f"
                          ],
                          [
                            0.2222222222222222,
                            "#7201a8"
                          ],
                          [
                            0.3333333333333333,
                            "#9c179e"
                          ],
                          [
                            0.4444444444444444,
                            "#bd3786"
                          ],
                          [
                            0.5555555555555556,
                            "#d8576b"
                          ],
                          [
                            0.6666666666666666,
                            "#ed7953"
                          ],
                          [
                            0.7777777777777778,
                            "#fb9f3a"
                          ],
                          [
                            0.8888888888888888,
                            "#fdca26"
                          ],
                          [
                            1,
                            "#f0f921"
                          ]
                        ],
                        "type": "contour"
                      }
                    ],
                    "contourcarpet": [
                      {
                        "colorbar": {
                          "outlinewidth": 0,
                          "ticks": ""
                        },
                        "type": "contourcarpet"
                      }
                    ],
                    "heatmap": [
                      {
                        "colorbar": {
                          "outlinewidth": 0,
                          "ticks": ""
                        },
                        "colorscale": [
                          [
                            0,
                            "#0d0887"
                          ],
                          [
                            0.1111111111111111,
                            "#46039f"
                          ],
                          [
                            0.2222222222222222,
                            "#7201a8"
                          ],
                          [
                            0.3333333333333333,
                            "#9c179e"
                          ],
                          [
                            0.4444444444444444,
                            "#bd3786"
                          ],
                          [
                            0.5555555555555556,
                            "#d8576b"
                          ],
                          [
                            0.6666666666666666,
                            "#ed7953"
                          ],
                          [
                            0.7777777777777778,
                            "#fb9f3a"
                          ],
                          [
                            0.8888888888888888,
                            "#fdca26"
                          ],
                          [
                            1,
                            "#f0f921"
                          ]
                        ],
                        "type": "heatmap"
                      }
                    ],
                    "histogram": [
                      {
                        "marker": {
                          "pattern": {
                            "fillmode": "overlay",
                            "size": 10,
                            "solidity": 0.2
                          }
                        },
                        "type": "histogram"
                      }
                    ],
                    "histogram2d": [
                      {
                        "colorbar": {
                          "outlinewidth": 0,
                          "ticks": ""
                        },
                        "colorscale": [
                          [
                            0,
                            "#0d0887"
                          ],
                          [
                            0.1111111111111111,
                            "#46039f"
                          ],
                          [
                            0.2222222222222222,
                            "#7201a8"
                          ],
                          [
                            0.3333333333333333,
                            "#9c179e"
                          ],
                          [
                            0.4444444444444444,
                            "#bd3786"
                          ],
                          [
                            0.5555555555555556,
                            "#d8576b"
                          ],
                          [
                            0.6666666666666666,
                            "#ed7953"
                          ],
                          [
                            0.7777777777777778,
                            "#fb9f3a"
                          ],
                          [
                            0.8888888888888888,
                            "#fdca26"
                          ],
                          [
                            1,
                            "#f0f921"
                          ]
                        ],
                        "type": "histogram2d"
                      }
                    ],
                    "histogram2dcontour": [
                      {
                        "colorbar": {
                          "outlinewidth": 0,
                          "ticks": ""
                        },
                        "colorscale": [
                          [
                            0,
                            "#0d0887"
                          ],
                          [
                            0.1111111111111111,
                            "#46039f"
                          ],
                          [
                            0.2222222222222222,
                            "#7201a8"
                          ],
                          [
                            0.3333333333333333,
                            "#9c179e"
                          ],
                          [
                            0.4444444444444444,
                            "#bd3786"
                          ],
                          [
                            0.5555555555555556,
                            "#d8576b"
                          ],
                          [
                            0.6666666666666666,
                            "#ed7953"
                          ],
                          [
                            0.7777777777777778,
                            "#fb9f3a"
                          ],
                          [
                            0.8888888888888888,
                            "#fdca26"
                          ],
                          [
                            1,
                            "#f0f921"
                          ]
                        ],
                        "type": "histogram2dcontour"
                      }
                    ],
                    "mesh3d": [
                      {
                        "colorbar": {
                          "outlinewidth": 0,
                          "ticks": ""
                        },
                        "type": "mesh3d"
                      }
                    ],
                    "parcoords": [
                      {
                        "line": {
                          "colorbar": {
                            "outlinewidth": 0,
                            "ticks": ""
                          }
                        },
                        "type": "parcoords"
                      }
                    ],
                    "pie": [
                      {
                        "automargin": true,
                        "type": "pie"
                      }
                    ],
                    "scatter": [
                      {
                        "fillpattern": {
                          "fillmode": "overlay",
                          "size": 10,
                          "solidity": 0.2
                        },
                        "type": "scatter"
                      }
                    ],
                    "scatter3d": [
                      {
                        "line": {
                          "colorbar": {
                            "outlinewidth": 0,
                            "ticks": ""
                          }
                        },
                        "marker": {
                          "colorbar": {
                            "outlinewidth": 0,
                            "ticks": ""
                          }
                        },
                        "type": "scatter3d"
                      }
                    ],
                    "scattercarpet": [
                      {
                        "marker": {
                          "colorbar": {
                            "outlinewidth": 0,
                            "ticks": ""
                          }
                        },
                        "type": "scattercarpet"
                      }
                    ],
                    "scattergeo": [
                      {
                        "marker": {
                          "colorbar": {
                            "outlinewidth": 0,
                            "ticks": ""
                          }
                        },
                        "type": "scattergeo"
                      }
                    ],
                    "scattergl": [
                      {
                        "marker": {
                          "colorbar": {
                            "outlinewidth": 0,
                            "ticks": ""
                          }
                        },
                        "type": "scattergl"
                      }
                    ],
                    "scattermap": [
                      {
                        "marker": {
                          "colorbar": {
                            "outlinewidth": 0,
                            "ticks": ""
                          }
                        },
                        "type": "scattermap"
                      }
                    ],
                    "scattermapbox": [
                      {
                        "marker": {
                          "colorbar": {
                            "outlinewidth": 0,
                            "ticks": ""
                          }
                        },
                        "type": "scattermapbox"
                      }
                    ],
                    "scatterpolar": [
                      {
                        "marker": {
                          "colorbar": {
                            "outlinewidth": 0,
                            "ticks": ""
                          }
                        },
                        "type": "scatterpolar"
                      }
                    ],
                    "scatterpolargl": [
                      {
                        "marker": {
                          "colorbar": {
                            "outlinewidth": 0,
                            "ticks": ""
                          }
                        },
                        "type": "scatterpolargl"
                      }
                    ],
                    "scatterternary": [
                      {
                        "marker": {
                          "colorbar": {
                            "outlinewidth": 0,
                            "ticks": ""
                          }
                        },
                        "type": "scatterternary"
                      }
                    ],
                    "surface": [
                      {
                        "colorbar": {
                          "outlinewidth": 0,
                          "ticks": ""
                        },
                        "colorscale": [
                          [
                            0,
                            "#0d0887"
                          ],
                          [
                            0.1111111111111111,
                            "#46039f"
                          ],
                          [
                            0.2222222222222222,
                            "#7201a8"
                          ],
                          [
                            0.3333333333333333,
                            "#9c179e"
                          ],
                          [
                            0.4444444444444444,
                            "#bd3786"
                          ],
                          [
                            0.5555555555555556,
                            "#d8576b"
                          ],
                          [
                            0.6666666666666666,
                            "#ed7953"
                          ],
                          [
                            0.7777777777777778,
                            "#fb9f3a"
                          ],
                          [
                            0.8888888888888888,
                            "#fdca26"
                          ],
                          [
                            1,
                            "#f0f921"
                          ]
                        ],
                        "type": "surface"
                      }
                    ],
                    "table": [
                      {
                        "cells": {
                          "fill": {
                            "color": "#EBF0F8"
                          },
                          "line": {
                            "color": "white"
                          }
                        },
                        "header": {
                          "fill": {
                            "color": "#C8D4E3"
                          },
                          "line": {
                            "color": "white"
                          }
                        },
                        "type": "table"
                      }
                    ]
                  },
                  "layout": {
                    "annotationdefaults": {
                      "arrowcolor": "#2a3f5f",
                      "arrowhead": 0,
                      "arrowwidth": 1
                    },
                    "autotypenumbers": "strict",
                    "coloraxis": {
                      "colorbar": {
                        "outlinewidth": 0,
                        "ticks": ""
                      }
                    },
                    "colorscale": {
                      "diverging": [
                        [
                          0,
                          "#8e0152"
                        ],
                        [
                          0.1,
                          "#c51b7d"
                        ],
                        [
                          0.2,
                          "#de77ae"
                        ],
                        [
                          0.3,
                          "#f1b6da"
                        ],
                        [
                          0.4,
                          "#fde0ef"
                        ],
                        [
                          0.5,
                          "#f7f7f7"
                        ],
                        [
                          0.6,
                          "#e6f5d0"
                        ],
                        [
                          0.7,
                          "#b8e186"
                        ],
                        [
                          0.8,
                          "#7fbc41"
                        ],
                        [
                          0.9,
                          "#4d9221"
                        ],
                        [
                          1,
                          "#276419"
                        ]
                      ],
                      "sequential": [
                        [
                          0,
                          "#0d0887"
                        ],
                        [
                          0.1111111111111111,
                          "#46039f"
                        ],
                        [
                          0.2222222222222222,
                          "#7201a8"
                        ],
                        [
                          0.3333333333333333,
                          "#9c179e"
                        ],
                        [
                          0.4444444444444444,
                          "#bd3786"
                        ],
                        [
                          0.5555555555555556,
                          "#d8576b"
                        ],
                        [
                          0.6666666666666666,
                          "#ed7953"
                        ],
                        [
                          0.7777777777777778,
                          "#fb9f3a"
                        ],
                        [
                          0.8888888888888888,
                          "#fdca26"
                        ],
                        [
                          1,
                          "#f0f921"
                        ]
                      ],
                      "sequentialminus": [
                        [
                          0,
                          "#0d0887"
                        ],
                        [
                          0.1111111111111111,
                          "#46039f"
                        ],
                        [
                          0.2222222222222222,
                          "#7201a8"
                        ],
                        [
                          0.3333333333333333,
                          "#9c179e"
                        ],
                        [
                          0.4444444444444444,
                          "#bd3786"
                        ],
                        [
                          0.5555555555555556,
                          "#d8576b"
                        ],
                        [
                          0.6666666666666666,
                          "#ed7953"
                        ],
                        [
                          0.7777777777777778,
                          "#fb9f3a"
                        ],
                        [
                          0.8888888888888888,
                          "#fdca26"
                        ],
                        [
                          1,
                          "#f0f921"
                        ]
                      ]
                    },
                    "colorway": [
                      "#636efa",
                      "#EF553B",
                      "#00cc96",
                      "#ab63fa",
                      "#FFA15A",
                      "#19d3f3",
                      "#FF6692",
                      "#B6E880",
                      "#FF97FF",
                      "#FECB52"
                    ],
                    "font": {
                      "color": "#2a3f5f"
                    },
                    "geo": {
                      "bgcolor": "white",
                      "lakecolor": "white",
                      "landcolor": "#E5ECF6",
                      "showlakes": true,
                      "showland": true,
                      "subunitcolor": "white"
                    },
                    "hoverlabel": {
                      "align": "left"
                    },
                    "hovermode": "closest",
                    "mapbox": {
                      "style": "light"
                    },
                    "paper_bgcolor": "white",
                    "plot_bgcolor": "#E5ECF6",
                    "polar": {
                      "angularaxis": {
                        "gridcolor": "white",
                        "linecolor": "white",
                        "ticks": ""
                      },
                      "bgcolor": "#E5ECF6",
                      "radialaxis": {
                        "gridcolor": "white",
                        "linecolor": "white",
                        "ticks": ""
                      }
                    },
                    "scene": {
                      "xaxis": {
                        "backgroundcolor": "#E5ECF6",
                        "gridcolor": "white",
                        "gridwidth": 2,
                        "linecolor": "white",
                        "showbackground": true,
                        "ticks": "",
                        "zerolinecolor": "white"
                      },
                      "yaxis": {
                        "backgroundcolor": "#E5ECF6",
                        "gridcolor": "white",
                        "gridwidth": 2,
                        "linecolor": "white",
                        "showbackground": true,
                        "ticks": "",
                        "zerolinecolor": "white"
                      },
                      "zaxis": {
                        "backgroundcolor": "#E5ECF6",
                        "gridcolor": "white",
                        "gridwidth": 2,
                        "linecolor": "white",
                        "showbackground": true,
                        "ticks": "",
                        "zerolinecolor": "white"
                      }
                    },
                    "shapedefaults": {
                      "line": {
                        "color": "#2a3f5f"
                      }
                    },
                    "ternary": {
                      "aaxis": {
                        "gridcolor": "white",
                        "linecolor": "white",
                        "ticks": ""
                      },
                      "baxis": {
                        "gridcolor": "white",
                        "linecolor": "white",
                        "ticks": ""
                      },
                      "bgcolor": "#E5ECF6",
                      "caxis": {
                        "gridcolor": "white",
                        "linecolor": "white",
                        "ticks": ""
                      }
                    },
                    "title": {
                      "x": 0.05
                    },
                    "xaxis": {
                      "automargin": true,
                      "gridcolor": "white",
                      "linecolor": "white",
                      "ticks": "",
                      "title": {
                        "standoff": 15
                      },
                      "zerolinecolor": "white",
                      "zerolinewidth": 2
                    },
                    "yaxis": {
                      "automargin": true,
                      "gridcolor": "white",
                      "linecolor": "white",
                      "ticks": "",
                      "title": {
                        "standoff": 15
                      },
                      "zerolinecolor": "white",
                      "zerolinewidth": 2
                    }
                  }
                },
                "title": {
                  "text": "지수분포 샘플(평균=60초) 및 적합"
                },
                "xaxis": {
                  "anchor": "y",
                  "domain": [
                    0,
                    1
                  ],
                  "title": {
                    "text": "대기시간 (초)"
                  }
                },
                "yaxis": {
                  "anchor": "x",
                  "domain": [
                    0,
                    1
                  ],
                  "title": {
                    "text": "밀도"
                  }
                }
              }
            }
          },
          "metadata": {},
          "output_type": "display_data"
        }
      ],
      "source": [
        "# 1.4 지수분포 데이터 생성 및 적합 (plotly)\n",
        "# 참고: https://medium.com/@snehabajaj108/the-poisson-exponential-distribution-using-python-2e9959fdcbc7\n",
        "\n",
        "# 평균 두 이벤트 간 시간(초)이 50, 60, 80인 경우의 지수분포 샘플 생성\n",
        "np.random.seed(42)\n",
        "exp_data_50 = stats.expon.rvs(scale=50, size=1000)\n",
        "exp_data_60 = stats.expon.rvs(scale=60, size=1000)\n",
        "exp_data_80 = stats.expon.rvs(scale=80, size=1000)\n",
        "\n",
        "# 하나의 데이터셋(예: scale=60)만 적합 및 시각화\n",
        "exp_data = exp_data_60\n",
        "loce, scalee = stats.expon.fit(exp_data, floc=0)\n",
        "xe = np.linspace(exp_data.min(), exp_data.max(), 100)\n",
        "df_exp = pd.DataFrame({'대기시간': exp_data})\n",
        "\n",
        "fig4 = px.histogram(\n",
        "    df_exp, x='대기시간', nbins=30, histnorm='probability density',\n",
        "    opacity=0.7, color_discrete_sequence=['lightcoral'],\n",
        "    labels={'대기시간': '대기시간 (초)'},\n",
        "    title=\"지수분포 샘플(평균=60초) 및 적합\"\n",
        ")\n",
        "fig4.add_scatter(\n",
        "    x=xe, y=stats.expon.pdf(xe, loc=loce, scale=scalee),\n",
        "    mode='lines', name=f\"지수분포 적합<br>(scale={scalee:.2f})\", line=dict(color='cyan')\n",
        ")\n",
        "fig4.update_layout(\n",
        "    xaxis_title=\"대기시간 (초)\",\n",
        "    yaxis_title=\"밀도\"\n",
        ")\n",
        "fig4.show()"
      ]
    },
    {
      "cell_type": "markdown",
      "metadata": {},
      "source": [
        "로그정규분포"
      ]
    },
    {
      "cell_type": "code",
      "execution_count": 33,
      "metadata": {},
      "outputs": [
        {
          "data": {
            "application/vnd.plotly.v1+json": {
              "config": {
                "plotlyServerURL": "https://plot.ly"
              },
              "data": [
                {
                  "bingroup": "x",
                  "histnorm": "probability density",
                  "hovertemplate": "지연시간 (초)=%{x}<br>probability density=%{y}<extra></extra>",
                  "legendgroup": "",
                  "marker": {
                    "color": "gold",
                    "opacity": 0.7,
                    "pattern": {
                      "shape": ""
                    }
                  },
                  "name": "",
                  "nbinsx": 30,
                  "orientation": "v",
                  "showlegend": false,
                  "type": "histogram",
                  "x": {
                    "bdata": "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",
                    "dtype": "f8"
                  },
                  "xaxis": "x",
                  "yaxis": "y"
                },
                {
                  "line": {
                    "color": "orange"
                  },
                  "mode": "lines",
                  "name": "로그정규분포 적합<br>(s=0.76, scale=11.83)",
                  "type": "scatter",
                  "x": {
                    "bdata": "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",
                    "dtype": "f8"
                  },
                  "y": {
                    "bdata": "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",
                    "dtype": "f8"
                  }
                }
              ],
              "layout": {
                "barmode": "relative",
                "legend": {
                  "tracegroupgap": 0
                },
                "template": {
                  "data": {
                    "bar": [
                      {
                        "error_x": {
                          "color": "#2a3f5f"
                        },
                        "error_y": {
                          "color": "#2a3f5f"
                        },
                        "marker": {
                          "line": {
                            "color": "#E5ECF6",
                            "width": 0.5
                          },
                          "pattern": {
                            "fillmode": "overlay",
                            "size": 10,
                            "solidity": 0.2
                          }
                        },
                        "type": "bar"
                      }
                    ],
                    "barpolar": [
                      {
                        "marker": {
                          "line": {
                            "color": "#E5ECF6",
                            "width": 0.5
                          },
                          "pattern": {
                            "fillmode": "overlay",
                            "size": 10,
                            "solidity": 0.2
                          }
                        },
                        "type": "barpolar"
                      }
                    ],
                    "carpet": [
                      {
                        "aaxis": {
                          "endlinecolor": "#2a3f5f",
                          "gridcolor": "white",
                          "linecolor": "white",
                          "minorgridcolor": "white",
                          "startlinecolor": "#2a3f5f"
                        },
                        "baxis": {
                          "endlinecolor": "#2a3f5f",
                          "gridcolor": "white",
                          "linecolor": "white",
                          "minorgridcolor": "white",
                          "startlinecolor": "#2a3f5f"
                        },
                        "type": "carpet"
                      }
                    ],
                    "choropleth": [
                      {
                        "colorbar": {
                          "outlinewidth": 0,
                          "ticks": ""
                        },
                        "type": "choropleth"
                      }
                    ],
                    "contour": [
                      {
                        "colorbar": {
                          "outlinewidth": 0,
                          "ticks": ""
                        },
                        "colorscale": [
                          [
                            0,
                            "#0d0887"
                          ],
                          [
                            0.1111111111111111,
                            "#46039f"
                          ],
                          [
                            0.2222222222222222,
                            "#7201a8"
                          ],
                          [
                            0.3333333333333333,
                            "#9c179e"
                          ],
                          [
                            0.4444444444444444,
                            "#bd3786"
                          ],
                          [
                            0.5555555555555556,
                            "#d8576b"
                          ],
                          [
                            0.6666666666666666,
                            "#ed7953"
                          ],
                          [
                            0.7777777777777778,
                            "#fb9f3a"
                          ],
                          [
                            0.8888888888888888,
                            "#fdca26"
                          ],
                          [
                            1,
                            "#f0f921"
                          ]
                        ],
                        "type": "contour"
                      }
                    ],
                    "contourcarpet": [
                      {
                        "colorbar": {
                          "outlinewidth": 0,
                          "ticks": ""
                        },
                        "type": "contourcarpet"
                      }
                    ],
                    "heatmap": [
                      {
                        "colorbar": {
                          "outlinewidth": 0,
                          "ticks": ""
                        },
                        "colorscale": [
                          [
                            0,
                            "#0d0887"
                          ],
                          [
                            0.1111111111111111,
                            "#46039f"
                          ],
                          [
                            0.2222222222222222,
                            "#7201a8"
                          ],
                          [
                            0.3333333333333333,
                            "#9c179e"
                          ],
                          [
                            0.4444444444444444,
                            "#bd3786"
                          ],
                          [
                            0.5555555555555556,
                            "#d8576b"
                          ],
                          [
                            0.6666666666666666,
                            "#ed7953"
                          ],
                          [
                            0.7777777777777778,
                            "#fb9f3a"
                          ],
                          [
                            0.8888888888888888,
                            "#fdca26"
                          ],
                          [
                            1,
                            "#f0f921"
                          ]
                        ],
                        "type": "heatmap"
                      }
                    ],
                    "histogram": [
                      {
                        "marker": {
                          "pattern": {
                            "fillmode": "overlay",
                            "size": 10,
                            "solidity": 0.2
                          }
                        },
                        "type": "histogram"
                      }
                    ],
                    "histogram2d": [
                      {
                        "colorbar": {
                          "outlinewidth": 0,
                          "ticks": ""
                        },
                        "colorscale": [
                          [
                            0,
                            "#0d0887"
                          ],
                          [
                            0.1111111111111111,
                            "#46039f"
                          ],
                          [
                            0.2222222222222222,
                            "#7201a8"
                          ],
                          [
                            0.3333333333333333,
                            "#9c179e"
                          ],
                          [
                            0.4444444444444444,
                            "#bd3786"
                          ],
                          [
                            0.5555555555555556,
                            "#d8576b"
                          ],
                          [
                            0.6666666666666666,
                            "#ed7953"
                          ],
                          [
                            0.7777777777777778,
                            "#fb9f3a"
                          ],
                          [
                            0.8888888888888888,
                            "#fdca26"
                          ],
                          [
                            1,
                            "#f0f921"
                          ]
                        ],
                        "type": "histogram2d"
                      }
                    ],
                    "histogram2dcontour": [
                      {
                        "colorbar": {
                          "outlinewidth": 0,
                          "ticks": ""
                        },
                        "colorscale": [
                          [
                            0,
                            "#0d0887"
                          ],
                          [
                            0.1111111111111111,
                            "#46039f"
                          ],
                          [
                            0.2222222222222222,
                            "#7201a8"
                          ],
                          [
                            0.3333333333333333,
                            "#9c179e"
                          ],
                          [
                            0.4444444444444444,
                            "#bd3786"
                          ],
                          [
                            0.5555555555555556,
                            "#d8576b"
                          ],
                          [
                            0.6666666666666666,
                            "#ed7953"
                          ],
                          [
                            0.7777777777777778,
                            "#fb9f3a"
                          ],
                          [
                            0.8888888888888888,
                            "#fdca26"
                          ],
                          [
                            1,
                            "#f0f921"
                          ]
                        ],
                        "type": "histogram2dcontour"
                      }
                    ],
                    "mesh3d": [
                      {
                        "colorbar": {
                          "outlinewidth": 0,
                          "ticks": ""
                        },
                        "type": "mesh3d"
                      }
                    ],
                    "parcoords": [
                      {
                        "line": {
                          "colorbar": {
                            "outlinewidth": 0,
                            "ticks": ""
                          }
                        },
                        "type": "parcoords"
                      }
                    ],
                    "pie": [
                      {
                        "automargin": true,
                        "type": "pie"
                      }
                    ],
                    "scatter": [
                      {
                        "fillpattern": {
                          "fillmode": "overlay",
                          "size": 10,
                          "solidity": 0.2
                        },
                        "type": "scatter"
                      }
                    ],
                    "scatter3d": [
                      {
                        "line": {
                          "colorbar": {
                            "outlinewidth": 0,
                            "ticks": ""
                          }
                        },
                        "marker": {
                          "colorbar": {
                            "outlinewidth": 0,
                            "ticks": ""
                          }
                        },
                        "type": "scatter3d"
                      }
                    ],
                    "scattercarpet": [
                      {
                        "marker": {
                          "colorbar": {
                            "outlinewidth": 0,
                            "ticks": ""
                          }
                        },
                        "type": "scattercarpet"
                      }
                    ],
                    "scattergeo": [
                      {
                        "marker": {
                          "colorbar": {
                            "outlinewidth": 0,
                            "ticks": ""
                          }
                        },
                        "type": "scattergeo"
                      }
                    ],
                    "scattergl": [
                      {
                        "marker": {
                          "colorbar": {
                            "outlinewidth": 0,
                            "ticks": ""
                          }
                        },
                        "type": "scattergl"
                      }
                    ],
                    "scattermap": [
                      {
                        "marker": {
                          "colorbar": {
                            "outlinewidth": 0,
                            "ticks": ""
                          }
                        },
                        "type": "scattermap"
                      }
                    ],
                    "scattermapbox": [
                      {
                        "marker": {
                          "colorbar": {
                            "outlinewidth": 0,
                            "ticks": ""
                          }
                        },
                        "type": "scattermapbox"
                      }
                    ],
                    "scatterpolar": [
                      {
                        "marker": {
                          "colorbar": {
                            "outlinewidth": 0,
                            "ticks": ""
                          }
                        },
                        "type": "scatterpolar"
                      }
                    ],
                    "scatterpolargl": [
                      {
                        "marker": {
                          "colorbar": {
                            "outlinewidth": 0,
                            "ticks": ""
                          }
                        },
                        "type": "scatterpolargl"
                      }
                    ],
                    "scatterternary": [
                      {
                        "marker": {
                          "colorbar": {
                            "outlinewidth": 0,
                            "ticks": ""
                          }
                        },
                        "type": "scatterternary"
                      }
                    ],
                    "surface": [
                      {
                        "colorbar": {
                          "outlinewidth": 0,
                          "ticks": ""
                        },
                        "colorscale": [
                          [
                            0,
                            "#0d0887"
                          ],
                          [
                            0.1111111111111111,
                            "#46039f"
                          ],
                          [
                            0.2222222222222222,
                            "#7201a8"
                          ],
                          [
                            0.3333333333333333,
                            "#9c179e"
                          ],
                          [
                            0.4444444444444444,
                            "#bd3786"
                          ],
                          [
                            0.5555555555555556,
                            "#d8576b"
                          ],
                          [
                            0.6666666666666666,
                            "#ed7953"
                          ],
                          [
                            0.7777777777777778,
                            "#fb9f3a"
                          ],
                          [
                            0.8888888888888888,
                            "#fdca26"
                          ],
                          [
                            1,
                            "#f0f921"
                          ]
                        ],
                        "type": "surface"
                      }
                    ],
                    "table": [
                      {
                        "cells": {
                          "fill": {
                            "color": "#EBF0F8"
                          },
                          "line": {
                            "color": "white"
                          }
                        },
                        "header": {
                          "fill": {
                            "color": "#C8D4E3"
                          },
                          "line": {
                            "color": "white"
                          }
                        },
                        "type": "table"
                      }
                    ]
                  },
                  "layout": {
                    "annotationdefaults": {
                      "arrowcolor": "#2a3f5f",
                      "arrowhead": 0,
                      "arrowwidth": 1
                    },
                    "autotypenumbers": "strict",
                    "coloraxis": {
                      "colorbar": {
                        "outlinewidth": 0,
                        "ticks": ""
                      }
                    },
                    "colorscale": {
                      "diverging": [
                        [
                          0,
                          "#8e0152"
                        ],
                        [
                          0.1,
                          "#c51b7d"
                        ],
                        [
                          0.2,
                          "#de77ae"
                        ],
                        [
                          0.3,
                          "#f1b6da"
                        ],
                        [
                          0.4,
                          "#fde0ef"
                        ],
                        [
                          0.5,
                          "#f7f7f7"
                        ],
                        [
                          0.6,
                          "#e6f5d0"
                        ],
                        [
                          0.7,
                          "#b8e186"
                        ],
                        [
                          0.8,
                          "#7fbc41"
                        ],
                        [
                          0.9,
                          "#4d9221"
                        ],
                        [
                          1,
                          "#276419"
                        ]
                      ],
                      "sequential": [
                        [
                          0,
                          "#0d0887"
                        ],
                        [
                          0.1111111111111111,
                          "#46039f"
                        ],
                        [
                          0.2222222222222222,
                          "#7201a8"
                        ],
                        [
                          0.3333333333333333,
                          "#9c179e"
                        ],
                        [
                          0.4444444444444444,
                          "#bd3786"
                        ],
                        [
                          0.5555555555555556,
                          "#d8576b"
                        ],
                        [
                          0.6666666666666666,
                          "#ed7953"
                        ],
                        [
                          0.7777777777777778,
                          "#fb9f3a"
                        ],
                        [
                          0.8888888888888888,
                          "#fdca26"
                        ],
                        [
                          1,
                          "#f0f921"
                        ]
                      ],
                      "sequentialminus": [
                        [
                          0,
                          "#0d0887"
                        ],
                        [
                          0.1111111111111111,
                          "#46039f"
                        ],
                        [
                          0.2222222222222222,
                          "#7201a8"
                        ],
                        [
                          0.3333333333333333,
                          "#9c179e"
                        ],
                        [
                          0.4444444444444444,
                          "#bd3786"
                        ],
                        [
                          0.5555555555555556,
                          "#d8576b"
                        ],
                        [
                          0.6666666666666666,
                          "#ed7953"
                        ],
                        [
                          0.7777777777777778,
                          "#fb9f3a"
                        ],
                        [
                          0.8888888888888888,
                          "#fdca26"
                        ],
                        [
                          1,
                          "#f0f921"
                        ]
                      ]
                    },
                    "colorway": [
                      "#636efa",
                      "#EF553B",
                      "#00cc96",
                      "#ab63fa",
                      "#FFA15A",
                      "#19d3f3",
                      "#FF6692",
                      "#B6E880",
                      "#FF97FF",
                      "#FECB52"
                    ],
                    "font": {
                      "color": "#2a3f5f"
                    },
                    "geo": {
                      "bgcolor": "white",
                      "lakecolor": "white",
                      "landcolor": "#E5ECF6",
                      "showlakes": true,
                      "showland": true,
                      "subunitcolor": "white"
                    },
                    "hoverlabel": {
                      "align": "left"
                    },
                    "hovermode": "closest",
                    "mapbox": {
                      "style": "light"
                    },
                    "paper_bgcolor": "white",
                    "plot_bgcolor": "#E5ECF6",
                    "polar": {
                      "angularaxis": {
                        "gridcolor": "white",
                        "linecolor": "white",
                        "ticks": ""
                      },
                      "bgcolor": "#E5ECF6",
                      "radialaxis": {
                        "gridcolor": "white",
                        "linecolor": "white",
                        "ticks": ""
                      }
                    },
                    "scene": {
                      "xaxis": {
                        "backgroundcolor": "#E5ECF6",
                        "gridcolor": "white",
                        "gridwidth": 2,
                        "linecolor": "white",
                        "showbackground": true,
                        "ticks": "",
                        "zerolinecolor": "white"
                      },
                      "yaxis": {
                        "backgroundcolor": "#E5ECF6",
                        "gridcolor": "white",
                        "gridwidth": 2,
                        "linecolor": "white",
                        "showbackground": true,
                        "ticks": "",
                        "zerolinecolor": "white"
                      },
                      "zaxis": {
                        "backgroundcolor": "#E5ECF6",
                        "gridcolor": "white",
                        "gridwidth": 2,
                        "linecolor": "white",
                        "showbackground": true,
                        "ticks": "",
                        "zerolinecolor": "white"
                      }
                    },
                    "shapedefaults": {
                      "line": {
                        "color": "#2a3f5f"
                      }
                    },
                    "ternary": {
                      "aaxis": {
                        "gridcolor": "white",
                        "linecolor": "white",
                        "ticks": ""
                      },
                      "baxis": {
                        "gridcolor": "white",
                        "linecolor": "white",
                        "ticks": ""
                      },
                      "bgcolor": "#E5ECF6",
                      "caxis": {
                        "gridcolor": "white",
                        "linecolor": "white",
                        "ticks": ""
                      }
                    },
                    "title": {
                      "x": 0.05
                    },
                    "xaxis": {
                      "automargin": true,
                      "gridcolor": "white",
                      "linecolor": "white",
                      "ticks": "",
                      "title": {
                        "standoff": 15
                      },
                      "zerolinecolor": "white",
                      "zerolinewidth": 2
                    },
                    "yaxis": {
                      "automargin": true,
                      "gridcolor": "white",
                      "linecolor": "white",
                      "ticks": "",
                      "title": {
                        "standoff": 15
                      },
                      "zerolinecolor": "white",
                      "zerolinewidth": 2
                    }
                  }
                },
                "title": {
                  "text": "항공기 도착 지연시간 분포 (로그정규분포 적합)"
                },
                "xaxis": {
                  "anchor": "y",
                  "domain": [
                    0,
                    1
                  ],
                  "title": {
                    "text": "지연시간 (초)"
                  }
                },
                "yaxis": {
                  "anchor": "x",
                  "domain": [
                    0,
                    1
                  ],
                  "title": {
                    "text": "밀도"
                  }
                }
              }
            }
          },
          "metadata": {},
          "output_type": "display_data"
        }
      ],
      "source": [
        "# 1.5 항공기 도착 지연시간: 로그정규분포 적합 (plotly express)\n",
        "# 항공기 도착 지연시간(로그정규) 가상 데이터 생성\n",
        "airline_delays = stats.lognorm.rvs(s=0.8, loc=0, scale=np.exp(2.5), size=500)\n",
        "airline_delays = airline_delays[airline_delays > 0]\n",
        "\n",
        "s_ln, loc_ln, scale_ln = stats.lognorm.fit(airline_delays, floc=0)\n",
        "x_ln = np.linspace(airline_delays.min(), airline_delays.max(), 200)\n",
        "df_delay = pd.DataFrame({'지연시간': airline_delays})\n",
        "\n",
        "fig5 = px.histogram(\n",
        "    df_delay, x='지연시간', nbins=30, histnorm='probability density',\n",
        "    opacity=0.7, color_discrete_sequence=['gold'],\n",
        "    labels={'지연시간': '지연시간 (초)'},\n",
        "    title=\"항공기 도착 지연시간 분포 (로그정규분포 적합)\"\n",
        ")\n",
        "fig5.add_scatter(\n",
        "    x=x_ln, y=stats.lognorm.pdf(x_ln, s=s_ln, loc=loc_ln, scale=scale_ln),\n",
        "    mode='lines', name=f\"로그정규분포 적합<br>(s={s_ln:.2f}, scale={scale_ln:.2f})\", line=dict(color='orange')\n",
        ")\n",
        "fig5.update_layout(\n",
        "    xaxis_title=\"지연시간 (초)\",\n",
        "    yaxis_title=\"밀도\"\n",
        ")\n",
        "fig5.show()"
      ]
    },
    {
      "cell_type": "markdown",
      "metadata": {},
      "source": [
        "포아송분포"
      ]
    },
    {
      "cell_type": "code",
      "execution_count": 34,
      "metadata": {},
      "outputs": [
        {
          "data": {
            "application/vnd.plotly.v1+json": {
              "config": {
                "plotlyServerURL": "https://plot.ly"
              },
              "data": [
                {
                  "bingroup": "x",
                  "histnorm": "probability density",
                  "hovertemplate": "대여 건수=%{x}<br>probability density=%{y}<extra></extra>",
                  "legendgroup": "",
                  "marker": {
                    "color": "lightblue",
                    "opacity": 0.7,
                    "pattern": {
                      "shape": ""
                    }
                  },
                  "name": "",
                  "nbinsx": 27,
                  "orientation": "v",
                  "showlegend": false,
                  "type": "histogram",
                  "x": {
                    "bdata": "DxQSDBARDxgPExISGBQSFBEOFRogERwREhAaExYQHBMODRETFRUSEBMeEhENDxcUExAYFRcZGxETFBcSGhwPDhEOGhsUERMbFxUYGBMTFhoTGRAODxsaEhgWFBUXGBsSFBESDgwTFxcPDxQQDREUDBcdFBEXHBAQFxQQFRQUFREUFRAUFBcQDg4WFhEUGREXFxQaERcWExobEg0VERQUEBITFBUgDh8WEg0QDRESEBENFxMNFREUEh0WEBcREhYaFhUNGBYPGB0TEA8OFgwRIBgVGBMVExETGhoTGBgYGBQOChkWGhMWGhcTGRUfERYYEBEXDxMREhUMGBcRFR8YFR0MEBcaFBYNDxoREA4bEBYREA8KDhEUExMUExoUExEbFRkRFB0TGBEWExEUCxQSEhIPCRMQHBgJExgXFQ8TGhQYFA4UGhIZDgsWFQwSFRERFhsVFxINExscFhYWEhUcDw8UGREJERYWDxQYGBAPFh8VFRUTDRkRHBUWGRAYGw8NExkRExEPEA4XEQ8NExIUGRUQGg0PFhcPEBEPFRYUDxMYJRgSGBkXGRUhFBUXGRQZDxoNEREZFRsPFxQQDREcEx0cFBATHhoSEwkVGQ0dEBkOFxQVHBoMERIVEQsPHA0JEhYPFRQWFBEYFQ8gHRMOFx0RFxITFxYZFBUVDxMOExQIEhkRGRgVExcYIxwYEBQSFRkSGBMWFRQZFyEXExIRFRQQFRMJEBgWEBcbFhAXDxkKFhUZExUQERUTHAwXGxUZFBQfFhMNEhUUHRUeGBMRFiAVEhQQDhsMERIWEBcUFw4TERIbERMUGBEVFBITGRYWDhsbFhUXFBcUERoUEhcSDBYOEwwUGhMRERQSEhIRHRQODg4RFxQPFxoQFRgTEBASDwseHBIRDRYXFRUaFRoTGg8RExQTEhcYFhcPGRgeDxEXEB8WERETHRUPFhgZFhIa",
                    "dtype": "i1"
                  },
                  "xaxis": "x",
                  "yaxis": "y"
                },
                {
                  "line": {
                    "color": "red"
                  },
                  "mode": "lines+markers",
                  "name": "포아송 PMF (λ=20.13)",
                  "type": "scatter",
                  "x": {
                    "bdata": "AAAAAAAAIEAAAAAAAAAiQAAAAAAAACRAAAAAAAAAJkAAAAAAAAAoQAAAAAAAACpAAAAAAAAALEAAAAAAAAAuQAAAAAAAADBAAAAAAAAAMUAAAAAAAAAyQAAAAAAAADNAAAAAAAAANEAAAAAAAAA1QAAAAAAAADZAAAAAAAAAN0AAAAAAAAA4QAAAAAAAADlAAAAAAAAAOkAAAAAAAAA7QAAAAAAAADxAAAAAAAAAPUAAAAAAAAA+QAAAAAAAAD9AAAAAAAAAQEAAAAAAAIBAQAAAAAAAAEFA",
                    "dtype": "f8"
                  },
                  "y": {
                    "bdata": "JDlzI8/FUz8qz9gpHh5mP7XGzCtCRHY/wiPbxfVghD8ZmjRxwBiRP6MFsFHSepo/9kOQuqEKoz/w4eJYSo+pP1RsFa4aFbA/7a3HhkcMsz+SLfHGlU61P1/Cd1JYlLY/ieC6NEi7tj9nFoeOgcu1P8B7cBhy8rM//qxDakx2sT9aTddTr0ytPy4Pnd/3mKc/hfYGYDNGoj+I2Dp6WkGbPxYBaD1lmZM/mLTFvCk3iz/FUA4mEESCPxpjKOJFunc/tjmDyfzbbT/PgjIa7TdiPzJz+83uk1U/",
                    "dtype": "f8"
                  }
                }
              ],
              "layout": {
                "barmode": "relative",
                "legend": {
                  "tracegroupgap": 0
                },
                "template": {
                  "data": {
                    "bar": [
                      {
                        "error_x": {
                          "color": "#2a3f5f"
                        },
                        "error_y": {
                          "color": "#2a3f5f"
                        },
                        "marker": {
                          "line": {
                            "color": "#E5ECF6",
                            "width": 0.5
                          },
                          "pattern": {
                            "fillmode": "overlay",
                            "size": 10,
                            "solidity": 0.2
                          }
                        },
                        "type": "bar"
                      }
                    ],
                    "barpolar": [
                      {
                        "marker": {
                          "line": {
                            "color": "#E5ECF6",
                            "width": 0.5
                          },
                          "pattern": {
                            "fillmode": "overlay",
                            "size": 10,
                            "solidity": 0.2
                          }
                        },
                        "type": "barpolar"
                      }
                    ],
                    "carpet": [
                      {
                        "aaxis": {
                          "endlinecolor": "#2a3f5f",
                          "gridcolor": "white",
                          "linecolor": "white",
                          "minorgridcolor": "white",
                          "startlinecolor": "#2a3f5f"
                        },
                        "baxis": {
                          "endlinecolor": "#2a3f5f",
                          "gridcolor": "white",
                          "linecolor": "white",
                          "minorgridcolor": "white",
                          "startlinecolor": "#2a3f5f"
                        },
                        "type": "carpet"
                      }
                    ],
                    "choropleth": [
                      {
                        "colorbar": {
                          "outlinewidth": 0,
                          "ticks": ""
                        },
                        "type": "choropleth"
                      }
                    ],
                    "contour": [
                      {
                        "colorbar": {
                          "outlinewidth": 0,
                          "ticks": ""
                        },
                        "colorscale": [
                          [
                            0,
                            "#0d0887"
                          ],
                          [
                            0.1111111111111111,
                            "#46039f"
                          ],
                          [
                            0.2222222222222222,
                            "#7201a8"
                          ],
                          [
                            0.3333333333333333,
                            "#9c179e"
                          ],
                          [
                            0.4444444444444444,
                            "#bd3786"
                          ],
                          [
                            0.5555555555555556,
                            "#d8576b"
                          ],
                          [
                            0.6666666666666666,
                            "#ed7953"
                          ],
                          [
                            0.7777777777777778,
                            "#fb9f3a"
                          ],
                          [
                            0.8888888888888888,
                            "#fdca26"
                          ],
                          [
                            1,
                            "#f0f921"
                          ]
                        ],
                        "type": "contour"
                      }
                    ],
                    "contourcarpet": [
                      {
                        "colorbar": {
                          "outlinewidth": 0,
                          "ticks": ""
                        },
                        "type": "contourcarpet"
                      }
                    ],
                    "heatmap": [
                      {
                        "colorbar": {
                          "outlinewidth": 0,
                          "ticks": ""
                        },
                        "colorscale": [
                          [
                            0,
                            "#0d0887"
                          ],
                          [
                            0.1111111111111111,
                            "#46039f"
                          ],
                          [
                            0.2222222222222222,
                            "#7201a8"
                          ],
                          [
                            0.3333333333333333,
                            "#9c179e"
                          ],
                          [
                            0.4444444444444444,
                            "#bd3786"
                          ],
                          [
                            0.5555555555555556,
                            "#d8576b"
                          ],
                          [
                            0.6666666666666666,
                            "#ed7953"
                          ],
                          [
                            0.7777777777777778,
                            "#fb9f3a"
                          ],
                          [
                            0.8888888888888888,
                            "#fdca26"
                          ],
                          [
                            1,
                            "#f0f921"
                          ]
                        ],
                        "type": "heatmap"
                      }
                    ],
                    "histogram": [
                      {
                        "marker": {
                          "pattern": {
                            "fillmode": "overlay",
                            "size": 10,
                            "solidity": 0.2
                          }
                        },
                        "type": "histogram"
                      }
                    ],
                    "histogram2d": [
                      {
                        "colorbar": {
                          "outlinewidth": 0,
                          "ticks": ""
                        },
                        "colorscale": [
                          [
                            0,
                            "#0d0887"
                          ],
                          [
                            0.1111111111111111,
                            "#46039f"
                          ],
                          [
                            0.2222222222222222,
                            "#7201a8"
                          ],
                          [
                            0.3333333333333333,
                            "#9c179e"
                          ],
                          [
                            0.4444444444444444,
                            "#bd3786"
                          ],
                          [
                            0.5555555555555556,
                            "#d8576b"
                          ],
                          [
                            0.6666666666666666,
                            "#ed7953"
                          ],
                          [
                            0.7777777777777778,
                            "#fb9f3a"
                          ],
                          [
                            0.8888888888888888,
                            "#fdca26"
                          ],
                          [
                            1,
                            "#f0f921"
                          ]
                        ],
                        "type": "histogram2d"
                      }
                    ],
                    "histogram2dcontour": [
                      {
                        "colorbar": {
                          "outlinewidth": 0,
                          "ticks": ""
                        },
                        "colorscale": [
                          [
                            0,
                            "#0d0887"
                          ],
                          [
                            0.1111111111111111,
                            "#46039f"
                          ],
                          [
                            0.2222222222222222,
                            "#7201a8"
                          ],
                          [
                            0.3333333333333333,
                            "#9c179e"
                          ],
                          [
                            0.4444444444444444,
                            "#bd3786"
                          ],
                          [
                            0.5555555555555556,
                            "#d8576b"
                          ],
                          [
                            0.6666666666666666,
                            "#ed7953"
                          ],
                          [
                            0.7777777777777778,
                            "#fb9f3a"
                          ],
                          [
                            0.8888888888888888,
                            "#fdca26"
                          ],
                          [
                            1,
                            "#f0f921"
                          ]
                        ],
                        "type": "histogram2dcontour"
                      }
                    ],
                    "mesh3d": [
                      {
                        "colorbar": {
                          "outlinewidth": 0,
                          "ticks": ""
                        },
                        "type": "mesh3d"
                      }
                    ],
                    "parcoords": [
                      {
                        "line": {
                          "colorbar": {
                            "outlinewidth": 0,
                            "ticks": ""
                          }
                        },
                        "type": "parcoords"
                      }
                    ],
                    "pie": [
                      {
                        "automargin": true,
                        "type": "pie"
                      }
                    ],
                    "scatter": [
                      {
                        "fillpattern": {
                          "fillmode": "overlay",
                          "size": 10,
                          "solidity": 0.2
                        },
                        "type": "scatter"
                      }
                    ],
                    "scatter3d": [
                      {
                        "line": {
                          "colorbar": {
                            "outlinewidth": 0,
                            "ticks": ""
                          }
                        },
                        "marker": {
                          "colorbar": {
                            "outlinewidth": 0,
                            "ticks": ""
                          }
                        },
                        "type": "scatter3d"
                      }
                    ],
                    "scattercarpet": [
                      {
                        "marker": {
                          "colorbar": {
                            "outlinewidth": 0,
                            "ticks": ""
                          }
                        },
                        "type": "scattercarpet"
                      }
                    ],
                    "scattergeo": [
                      {
                        "marker": {
                          "colorbar": {
                            "outlinewidth": 0,
                            "ticks": ""
                          }
                        },
                        "type": "scattergeo"
                      }
                    ],
                    "scattergl": [
                      {
                        "marker": {
                          "colorbar": {
                            "outlinewidth": 0,
                            "ticks": ""
                          }
                        },
                        "type": "scattergl"
                      }
                    ],
                    "scattermap": [
                      {
                        "marker": {
                          "colorbar": {
                            "outlinewidth": 0,
                            "ticks": ""
                          }
                        },
                        "type": "scattermap"
                      }
                    ],
                    "scattermapbox": [
                      {
                        "marker": {
                          "colorbar": {
                            "outlinewidth": 0,
                            "ticks": ""
                          }
                        },
                        "type": "scattermapbox"
                      }
                    ],
                    "scatterpolar": [
                      {
                        "marker": {
                          "colorbar": {
                            "outlinewidth": 0,
                            "ticks": ""
                          }
                        },
                        "type": "scatterpolar"
                      }
                    ],
                    "scatterpolargl": [
                      {
                        "marker": {
                          "colorbar": {
                            "outlinewidth": 0,
                            "ticks": ""
                          }
                        },
                        "type": "scatterpolargl"
                      }
                    ],
                    "scatterternary": [
                      {
                        "marker": {
                          "colorbar": {
                            "outlinewidth": 0,
                            "ticks": ""
                          }
                        },
                        "type": "scatterternary"
                      }
                    ],
                    "surface": [
                      {
                        "colorbar": {
                          "outlinewidth": 0,
                          "ticks": ""
                        },
                        "colorscale": [
                          [
                            0,
                            "#0d0887"
                          ],
                          [
                            0.1111111111111111,
                            "#46039f"
                          ],
                          [
                            0.2222222222222222,
                            "#7201a8"
                          ],
                          [
                            0.3333333333333333,
                            "#9c179e"
                          ],
                          [
                            0.4444444444444444,
                            "#bd3786"
                          ],
                          [
                            0.5555555555555556,
                            "#d8576b"
                          ],
                          [
                            0.6666666666666666,
                            "#ed7953"
                          ],
                          [
                            0.7777777777777778,
                            "#fb9f3a"
                          ],
                          [
                            0.8888888888888888,
                            "#fdca26"
                          ],
                          [
                            1,
                            "#f0f921"
                          ]
                        ],
                        "type": "surface"
                      }
                    ],
                    "table": [
                      {
                        "cells": {
                          "fill": {
                            "color": "#EBF0F8"
                          },
                          "line": {
                            "color": "white"
                          }
                        },
                        "header": {
                          "fill": {
                            "color": "#C8D4E3"
                          },
                          "line": {
                            "color": "white"
                          }
                        },
                        "type": "table"
                      }
                    ]
                  },
                  "layout": {
                    "annotationdefaults": {
                      "arrowcolor": "#2a3f5f",
                      "arrowhead": 0,
                      "arrowwidth": 1
                    },
                    "autotypenumbers": "strict",
                    "coloraxis": {
                      "colorbar": {
                        "outlinewidth": 0,
                        "ticks": ""
                      }
                    },
                    "colorscale": {
                      "diverging": [
                        [
                          0,
                          "#8e0152"
                        ],
                        [
                          0.1,
                          "#c51b7d"
                        ],
                        [
                          0.2,
                          "#de77ae"
                        ],
                        [
                          0.3,
                          "#f1b6da"
                        ],
                        [
                          0.4,
                          "#fde0ef"
                        ],
                        [
                          0.5,
                          "#f7f7f7"
                        ],
                        [
                          0.6,
                          "#e6f5d0"
                        ],
                        [
                          0.7,
                          "#b8e186"
                        ],
                        [
                          0.8,
                          "#7fbc41"
                        ],
                        [
                          0.9,
                          "#4d9221"
                        ],
                        [
                          1,
                          "#276419"
                        ]
                      ],
                      "sequential": [
                        [
                          0,
                          "#0d0887"
                        ],
                        [
                          0.1111111111111111,
                          "#46039f"
                        ],
                        [
                          0.2222222222222222,
                          "#7201a8"
                        ],
                        [
                          0.3333333333333333,
                          "#9c179e"
                        ],
                        [
                          0.4444444444444444,
                          "#bd3786"
                        ],
                        [
                          0.5555555555555556,
                          "#d8576b"
                        ],
                        [
                          0.6666666666666666,
                          "#ed7953"
                        ],
                        [
                          0.7777777777777778,
                          "#fb9f3a"
                        ],
                        [
                          0.8888888888888888,
                          "#fdca26"
                        ],
                        [
                          1,
                          "#f0f921"
                        ]
                      ],
                      "sequentialminus": [
                        [
                          0,
                          "#0d0887"
                        ],
                        [
                          0.1111111111111111,
                          "#46039f"
                        ],
                        [
                          0.2222222222222222,
                          "#7201a8"
                        ],
                        [
                          0.3333333333333333,
                          "#9c179e"
                        ],
                        [
                          0.4444444444444444,
                          "#bd3786"
                        ],
                        [
                          0.5555555555555556,
                          "#d8576b"
                        ],
                        [
                          0.6666666666666666,
                          "#ed7953"
                        ],
                        [
                          0.7777777777777778,
                          "#fb9f3a"
                        ],
                        [
                          0.8888888888888888,
                          "#fdca26"
                        ],
                        [
                          1,
                          "#f0f921"
                        ]
                      ]
                    },
                    "colorway": [
                      "#636efa",
                      "#EF553B",
                      "#00cc96",
                      "#ab63fa",
                      "#FFA15A",
                      "#19d3f3",
                      "#FF6692",
                      "#B6E880",
                      "#FF97FF",
                      "#FECB52"
                    ],
                    "font": {
                      "color": "#2a3f5f"
                    },
                    "geo": {
                      "bgcolor": "white",
                      "lakecolor": "white",
                      "landcolor": "#E5ECF6",
                      "showlakes": true,
                      "showland": true,
                      "subunitcolor": "white"
                    },
                    "hoverlabel": {
                      "align": "left"
                    },
                    "hovermode": "closest",
                    "mapbox": {
                      "style": "light"
                    },
                    "paper_bgcolor": "white",
                    "plot_bgcolor": "#E5ECF6",
                    "polar": {
                      "angularaxis": {
                        "gridcolor": "white",
                        "linecolor": "white",
                        "ticks": ""
                      },
                      "bgcolor": "#E5ECF6",
                      "radialaxis": {
                        "gridcolor": "white",
                        "linecolor": "white",
                        "ticks": ""
                      }
                    },
                    "scene": {
                      "xaxis": {
                        "backgroundcolor": "#E5ECF6",
                        "gridcolor": "white",
                        "gridwidth": 2,
                        "linecolor": "white",
                        "showbackground": true,
                        "ticks": "",
                        "zerolinecolor": "white"
                      },
                      "yaxis": {
                        "backgroundcolor": "#E5ECF6",
                        "gridcolor": "white",
                        "gridwidth": 2,
                        "linecolor": "white",
                        "showbackground": true,
                        "ticks": "",
                        "zerolinecolor": "white"
                      },
                      "zaxis": {
                        "backgroundcolor": "#E5ECF6",
                        "gridcolor": "white",
                        "gridwidth": 2,
                        "linecolor": "white",
                        "showbackground": true,
                        "ticks": "",
                        "zerolinecolor": "white"
                      }
                    },
                    "shapedefaults": {
                      "line": {
                        "color": "#2a3f5f"
                      }
                    },
                    "ternary": {
                      "aaxis": {
                        "gridcolor": "white",
                        "linecolor": "white",
                        "ticks": ""
                      },
                      "baxis": {
                        "gridcolor": "white",
                        "linecolor": "white",
                        "ticks": ""
                      },
                      "bgcolor": "#E5ECF6",
                      "caxis": {
                        "gridcolor": "white",
                        "linecolor": "white",
                        "ticks": ""
                      }
                    },
                    "title": {
                      "x": 0.05
                    },
                    "xaxis": {
                      "automargin": true,
                      "gridcolor": "white",
                      "linecolor": "white",
                      "ticks": "",
                      "title": {
                        "standoff": 15
                      },
                      "zerolinecolor": "white",
                      "zerolinewidth": 2
                    },
                    "yaxis": {
                      "automargin": true,
                      "gridcolor": "white",
                      "linecolor": "white",
                      "ticks": "",
                      "title": {
                        "standoff": 15
                      },
                      "zerolinecolor": "white",
                      "zerolinewidth": 2
                    }
                  }
                },
                "title": {
                  "text": "자전거 시간당 대여 건수 분포 (포아송분포 적합)"
                },
                "xaxis": {
                  "anchor": "y",
                  "domain": [
                    0,
                    1
                  ],
                  "title": {
                    "text": "대여 건수"
                  }
                },
                "yaxis": {
                  "anchor": "x",
                  "domain": [
                    0,
                    1
                  ],
                  "title": {
                    "text": "상대 빈도/확률"
                  }
                }
              }
            }
          },
          "metadata": {},
          "output_type": "display_data"
        }
      ],
      "source": [
        "# 1.6 자전거 시간당 대여 건수: 포아송분포 적합 (plotly express)\n",
        "# 자전거 시간당 대여 건수(포아송) 가상 데이터 생성\n",
        "bike_counts_hourly = stats.poisson.rvs(mu=20, size=24*30)\n",
        "counts_freq = pd.Series(bike_counts_hourly).value_counts().sort_index()\n",
        "lambda_poisson = bike_counts_hourly.mean()\n",
        "x_poisson = np.arange(stats.poisson.ppf(0.001, lambda_poisson), stats.poisson.ppf(0.999, lambda_poisson))\n",
        "pmf_poisson = stats.poisson.pmf(x_poisson, lambda_poisson)\n",
        "df_bike = pd.DataFrame({'대여건수': bike_counts_hourly})\n",
        "\n",
        "fig6 = px.histogram(\n",
        "    df_bike, x='대여건수', nbins=int(x_poisson.max()-x_poisson.min()+1), histnorm='probability density',\n",
        "    opacity=0.7, color_discrete_sequence=['lightblue'],\n",
        "    labels={'대여건수': '대여 건수'},\n",
        "    title=\"자전거 시간당 대여 건수 분포 (포아송분포 적합)\"\n",
        ")\n",
        "fig6.add_scatter(\n",
        "    x=x_poisson, y=pmf_poisson,\n",
        "    mode='lines+markers', name=f\"포아송 PMF (λ={lambda_poisson:.2f})\", line=dict(color='red')\n",
        ")\n",
        "fig6.update_layout(\n",
        "    xaxis_title=\"대여 건수\",\n",
        "    yaxis_title=\"상대 빈도/확률\"\n",
        ")\n",
        "fig6.show()"
      ]
    },
    {
      "cell_type": "markdown",
      "metadata": {},
      "source": [
        "이항분포"
      ]
    },
    {
      "cell_type": "code",
      "execution_count": null,
      "metadata": {},
      "outputs": [],
      "source": [
        "# 1.7 이항분포 예시 (야구 안타) (plotly express)\n",
        "# 이항 분포 예시(야구 안타)\n",
        "n_at_bats = 500\n",
        "p_success_rate = 0.3\n",
        "hits = stats.binom.rvs(n=n_at_bats, p=p_success_rate, size=1)[0]\n",
        "\n",
        "n_trials_binom = 50\n",
        "p_binom = 0.3\n",
        "x_binom = np.arange(stats.binom.ppf(0.001, n_trials_binom, p_binom),\n",
        "                    stats.binom.ppf(0.999, n_trials_binom, p_binom))\n",
        "pmf_binom = stats.binom.pmf(x_binom, n_trials_binom, p_binom)\n",
        "sim_hits = stats.binom.rvs(n=n_trials_binom, p=p_binom, size=1000)\n",
        "df_hits = pd.DataFrame({'안타개수': sim_hits})\n",
        "\n",
        "fig7 = px.histogram(\n",
        "    df_hits, x='안타개수', nbins=int(x_binom.max()-x_binom.min()+1), histnorm='probability density',\n",
        "    opacity=0.7, color_discrete_sequence=['lightblue'],\n",
        "    labels={'안타개수': '안타 개수'},\n",
        "    title=\"이항분포 예시 (50타석, 타율 0.3)\"\n",
        ")\n",
        "fig7.add_scatter(\n",
        "    x=x_binom, y=pmf_binom,\n",
        "    mode='lines+markers', name=f\"이항분포 PMF<br>(n={n_trials_binom}, p={p_binom})\", line=dict(color='blue')\n",
        ")\n",
        "fig7.update_layout(\n",
        "    xaxis_title=\"안타 개수\",\n",
        "    yaxis_title=\"확률/밀도\"\n",
        ")\n",
        "fig7.show()\n"
      ]
    },
    {
      "cell_type": "markdown",
      "metadata": {},
      "source": [
        "베타분포"
      ]
    },
    {
      "cell_type": "code",
      "execution_count": null,
      "metadata": {},
      "outputs": [],
      "source": [
        "\n",
        "# 1.8 베타분포 예시 (plotly express)\n",
        "a_beta, b_beta = 2, 5\n",
        "x_beta = np.linspace(stats.beta.ppf(0.001, a_beta, b_beta),\n",
        "                     stats.beta.ppf(0.999, a_beta, b_beta), 100)\n",
        "sample_beta = stats.beta.rvs(a_beta, b_beta, size=1000)\n",
        "df_beta = pd.DataFrame({'샘플값': sample_beta})\n",
        "\n",
        "fig8 = px.histogram(\n",
        "    df_beta, x='샘플값', nbins=30, histnorm='probability density',\n",
        "    opacity=0.7, color_discrete_sequence=['orange'],\n",
        "    labels={'샘플값': '확률값'},\n",
        "    title=\"베타분포 예시 (a=2, b=5)\"\n",
        ")\n",
        "fig8.add_scatter(\n",
        "    x=x_beta, y=stats.beta.pdf(x_beta, a_beta, b_beta),\n",
        "    mode='lines', name=f\"베타분포 PDF (a={a_beta}, b={b_beta})\", line=dict(color='black')\n",
        ")\n",
        "fig8.update_layout(\n",
        "    xaxis_title=\"확률값\",\n",
        "    yaxis_title=\"밀도\"\n",
        ")\n",
        "fig8.show()\n"
      ]
    },
    {
      "cell_type": "markdown",
      "metadata": {},
      "source": [
        "파레토분포"
      ]
    },
    {
      "cell_type": "code",
      "execution_count": null,
      "metadata": {},
      "outputs": [],
      "source": [
        "# 1.9 파레토분포 예시 (지진 규모) (plotly express)\n",
        "# 파레토 분포 예시(지진 규모)\n",
        "earthquake_magnitudes = stats.pareto.rvs(b=2.5, loc=0, scale=1.0, size=1000) + 1.0\n",
        "earthquake_magnitudes = earthquake_magnitudes[earthquake_magnitudes > 0]\n",
        "b_par, loc_par, scale_par = stats.pareto.fit(earthquake_magnitudes, floc=0, fscale=earthquake_magnitudes.min())\n",
        "x_par = np.linspace(earthquake_magnitudes.min(), earthquake_magnitudes.max(), 200)\n",
        "df_eq = pd.DataFrame({'규모': earthquake_magnitudes})\n",
        "\n",
        "fig9 = px.histogram(\n",
        "    df_eq, x='규모', nbins=50, histnorm='probability density',\n",
        "    opacity=0.7, color_discrete_sequence=['lightgray'],\n",
        "    labels={'규모': '규모'},\n",
        "    title=\"지진 규모 분포 (파레토분포 적합)\"\n",
        ")\n",
        "fig9.add_scatter(\n",
        "    x=x_par, y=stats.pareto.pdf(x_par, b=b_par, loc=loc_par, scale=scale_par),\n",
        "    mode='lines', name=f\"파레토분포 적합<br>(b={b_par:.2f}, scale={scale_par:.2f})\", line=dict(color='green')\n",
        ")\n",
        "fig9.update_layout(\n",
        "    xaxis_title=\"규모\",\n",
        "    yaxis_title=\"밀도\"\n",
        ")\n",
        "fig9.show()\n"
      ]
    },
    {
      "cell_type": "markdown",
      "metadata": {},
      "source": [
        "확률분포함수 익히기"
      ]
    },
    {
      "cell_type": "code",
      "execution_count": 41,
      "metadata": {},
      "outputs": [
        {
          "name": "stdout",
          "output_type": "stream",
          "text": [
            "PDF, CDF, SF, PPF (표준정규분포, x=1.5)\n"
          ]
        }
      ],
      "source": [
        "# 2. PDF, CDF, SF 예시 (표준 정규 분포)\n",
        "x_val = 1.5\n",
        "mu_norm, std_norm = 0, 1\n",
        "print(f\"PDF, CDF, SF, PPF (표준정규분포, x={x_val})\")"
      ]
    },
    {
      "cell_type": "code",
      "execution_count": 42,
      "metadata": {},
      "outputs": [
        {
          "name": "stdout",
          "output_type": "stream",
          "text": [
            "PDF (확률밀도함수) @ x=1.5: 0.1295 (x=1.5에서의 확률 밀도)\n"
          ]
        }
      ],
      "source": [
        "pdf_val = stats.norm.pdf(x_val, loc=mu_norm, scale=std_norm)\n",
        "print(f\"PDF (확률밀도함수) @ x={x_val}: {pdf_val:.4f} (x={x_val}에서의 확률 밀도)\")"
      ]
    },
    {
      "cell_type": "code",
      "execution_count": 43,
      "metadata": {},
      "outputs": [
        {
          "name": "stdout",
          "output_type": "stream",
          "text": [
            "CDF (누적분포함수) @ x=1.5 (P(X ≤ 1.5)): 0.9332 (x=1.5 이하일 확률)\n"
          ]
        }
      ],
      "source": [
        "cdf_val = stats.norm.cdf(x_val, loc=mu_norm, scale=std_norm)\n",
        "print(f\"CDF (누적분포함수) @ x={x_val} (P(X ≤ {x_val})): {cdf_val:.4f} (x={x_val} 이하일 확률)\")"
      ]
    },
    {
      "cell_type": "code",
      "execution_count": 45,
      "metadata": {},
      "outputs": [
        {
          "name": "stdout",
          "output_type": "stream",
          "text": [
            "SF (상보누적분포함수) @ x=1.5 (P(X > 1.5)): 0.0668 (x=1.5 초과일 확률)\n"
          ]
        }
      ],
      "source": [
        "sf_val = stats.norm.sf(x_val, loc=mu_norm, scale=std_norm)\n",
        "print(f\"SF (상보누적분포함수) @ x={x_val} (P(X > {x_val})): {sf_val:.4f} (x={x_val} 초과일 확률)\")"
      ]
    },
    {
      "cell_type": "code",
      "execution_count": 46,
      "metadata": {},
      "outputs": [
        {
          "name": "stdout",
          "output_type": "stream",
          "text": [
            "PPF (역누적분포함수) @ P=0.9332: 1.5000 (x=1.5와 거의 같아야 함)\n"
          ]
        }
      ],
      "source": [
        "ppf_val = stats.norm.ppf(cdf_val, loc=mu_norm, scale=std_norm)\n",
        "print(f\"PPF (역누적분포함수) @ P={cdf_val:.4f}: {ppf_val:.4f} (x={x_val}와 거의 같아야 함)\")"
      ]
    },
    {
      "cell_type": "code",
      "execution_count": 47,
      "metadata": {},
      "outputs": [
        {
          "name": "stdout",
          "output_type": "stream",
          "text": [
            "CDF + SF = 1.0000 (1에 가까워야 함)\n"
          ]
        }
      ],
      "source": [
        "print(f\"CDF + SF = {cdf_val + sf_val:.4f} (1에 가까워야 함)\")"
      ]
    },
    {
      "cell_type": "markdown",
      "metadata": {
        "id": "9zL8lXhoWoQe"
      },
      "source": [
        "✏️ **연습 문제 (Practice Problems)**\n",
        "\n",
        "1.  **S&P 500 일간 수익률 분석**:\n",
        "    * 위 예시코드에서 사용된 `sp500_returns` 데이터에 대해 히스토그램과 KDE 플롯을 그리세요.\n",
        "    * Q-Q plot을 이용하여 이 데이터가 (a) 정규분포를 따르는지, (b) t-분포를 (적절한 자유도로) 따르는지 시각적으로 비교하고, 어떤 분포가 더 적합해 보이는지 이유와 함께 설명하세요.\n",
        "2.  **S&P 500 수익률 정규성 검정 심층 분석**:\n",
        "    * `sp500_returns` 데이터에 대해 Shapiro-Wilk 검정과 D'Agostino and Pearson's 검정을 수행하세요.\n",
        "    * 각 검정의 p-value를 유의수준 $\\alpha=0.05$와 비교하여 귀무가설(데이터가 정규분포를 따른다)의 채택/기각 여부를 판단하고, 그 의미를 해석하세요.\n",
        "3.  **Old Faithful Geyser 대기 시간 분포 추정**:\n",
        "    * 예시코드의 `waiting_times` (가상 데이터)에 대해 히스토그램과 KDE 플롯을 그리세요. 이 데이터는 단일 분포보다는 혼합 분포의 형태를 띨 수 있습니다.\n",
        "    * `stats.gamma.fit(waiting_times, floc=0)`을 사용하여 감마 분포의 모수($a$, $scale$)를 추정하고, 추정된 PDF를 히스토그램 위에 겹쳐 그리세요.\n",
        "    * 마찬가지로 `stats.expon.fit(waiting_times, floc=0)`을 사용하여 지수 분포의 모수($scale$)를 추정하고, PDF를 겹쳐 그리세요.\n",
        "    * 시각적으로 어떤 분포가 데이터의 전반적인 형태를 (혹은 일부라도) 더 잘 설명하는 것 같나요? (참고: 실제로는 혼합 모델을 고려하거나, 데이터를 분리하여 분석할 수 있습니다.)\n",
        "4.  **감마 분포 적합도 검정**:\n",
        "    * `waiting_times` 데이터와 문제 3에서 추정한 감마 분포의 모수(`ag`, `locg`, `scaleg`)를 사용하여 Kolmogorov-Smirnov 검정 (`stats.kstest(waiting_times, 'gamma', args=(ag, locg, scaleg))`)을 수행하세요.\n",
        "    * p-value를 기준으로 유의수준 $\\alpha=0.05$에서 귀무가설(데이터가 해당 감마 분포를 따른다)의 채택/기각 여부를 판단하고, 그 의미를 설명하세요.\n",
        "5.  **항공기 도착 지연 시간 로그 변환**:\n",
        "    * 예시코드의 `airline_delays` (가상 데이터, 0 초과 값들)에 대해 (a) 원본 데이터의 히스토그램, (b) `np.log(airline_delays)`로 로그 변환된 데이터의 히스토그램을 그리세요.\n",
        "    * 로그 변환 후 분포 모양이 정규분포에 더 가까워지는지 시각적으로 확인하세요.\n",
        "    * 원본 데이터와 로그 변환된 데이터 각각에 대해 Shapiro-Wilk 검정을 수행하여 정규성을 비교하고 결과를 해석하세요.\n",
        "6.  **자전거 시간당 대여 건수와 포아송 분포**:\n",
        "    * 예시코드의 `bike_counts_hourly` (가상 데이터)의 평균값을 포아송 분포의 모수 $\\lambda$로 추정하세요.\n",
        "    * 이 $\\lambda$를 사용하여 이론적인 포아송 분포의 PMF(확률 질량 함수) 값을 x=0부터 x=40까지 계산하세요 (`stats.poisson.pmf`).\n",
        "    * 실제 데이터(`bike_counts_hourly`)의 값들의 빈도(상대 빈도 또는 정규화된 빈도)를 막대그래프로 그리고, 계산된 포아송 PMF를 선 그래프로 겹쳐서 비교하세요. 두 분포가 얼마나 유사한가요?\n",
        "7.  **이항 분포를 이용한 타율 기반 안타 수 예측**:\n",
        "    * 어떤 야구선수의 한 타석당 안타를 칠 확률(타율)이 $p=0.28$이라고 가정합니다. 이 선수가 한 시즌 동안 $n=550$번의 타석에 들어선다고 할 때 다음을 계산하세요 (이항 분포 사용):\n",
        "        * 정확히 150개의 안타를 칠 확률 (`stats.binom.pmf`).\n",
        "        * 160개 이하의 안타를 칠 확률 (`stats.binom.cdf`).\n",
        "        * 170개 이상의 안타를 칠 확률 (SF 또는 1-CDF 사용).\n",
        "8.  **베타 분포 샘플링 및 평균 비교**:\n",
        "    * `scipy.stats.beta.rvs(a, b, size=2000)`를 사용하여 $a=2.5, b=7.5$인 베타 분포에서 2000개의 샘플을 생성하세요.\n",
        "    * 생성된 샘플의 히스토그램을 그리고, 이론적인 베타 분포의 PDF를 겹쳐 그리세요.\n",
        "    * 베타 분포의 이론적 평균은 $a / (a+b)$입니다. 이 값을 계산하고, 생성된 샘플 데이터의 평균(`np.mean()`)과 비교하세요. 두 값이 유사한가요?\n",
        "9.  **지진 규모 데이터와 파레토 분포 (시각적 탐색)**:\n",
        "    * 예시코드의 `earthquake_magnitudes` (가상 데이터)에 대해 히스토그램을 그리세요.\n",
        "    * 같은 데이터를 로그-로그 스케일의 플롯(예: `plt.loglog(bins_center, counts, 'o-')` 또는 히스토그램의 y축을 로그 스케일로 설정)으로 그려보세요. 파레토 분포(멱법칙)의 특징인 직선 형태가 나타나는지 관찰하세요. (참고: 실제 데이터 분석 시에는 `stats.pareto.fit`으로 모수를 추정하고, 추정된 PDF를 겹쳐 그릴 수 있습니다.)\n",
        "10. **다양한 분포에서의 확률 계산**:\n",
        "    * **표준 정규 분포 $Z \\sim N(0,1)$**:\n",
        "        * $P(Z > 1.96)$\n",
        "        * $P(Z \\le -1.28)$\n",
        "        * $P(-1.645 \\le Z \\le 1.645)$\n",
        "    * **자유도가 10인 t-분포 $T \\sim t(10)$**:\n",
        "        * $P(T > 2.228)$ (힌트: `stats.t.sf` 또는 `1 - stats.t.cdf`)\n",
        "        * CDF 값이 0.95가 되는 t 값 (힌트: `stats.t.ppf`)\n",
        "    * **모수 $\\lambda=5$인 포아송 분포 $P \\sim Poisson(5)$**:\n",
        "        * $P(P = 3)$\n",
        "        * $P(P \\le 2)$\n",
        "    * **모수 $scale=20$ (평균=20)인 지수 분포 $X \\sim Exp(scale=20)$**:\n",
        "        * $P(X > 30)$\n",
        "        * $P(X \\le 10)$"
      ]
    },
    {
      "cell_type": "code",
      "execution_count": null,
      "metadata": {
        "id": "NSrEsd9EW1DU"
      },
      "outputs": [],
      "source": []
    }
  ],
  "metadata": {
    "colab": {
      "provenance": []
    },
    "kernelspec": {
      "display_name": ".venv",
      "language": "python",
      "name": "python3"
    },
    "language_info": {
      "codemirror_mode": {
        "name": "ipython",
        "version": 3
      },
      "file_extension": ".py",
      "mimetype": "text/x-python",
      "name": "python",
      "nbconvert_exporter": "python",
      "pygments_lexer": "ipython3",
      "version": "3.12.9"
    }
  },
  "nbformat": 4,
  "nbformat_minor": 0
}
