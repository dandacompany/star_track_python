{
  "cells": [
    {
      "cell_type": "markdown",
      "metadata": {
        "id": "DWLRDFq_GxiH"
      },
      "source": [
        "## 데이터와 통계 용어부터 바로 알기 🎲📊\n",
        "\n",
        "### 💡 개념 (Concept)\n",
        "\n",
        "데이터를 분석하고 해석하기 위한 첫걸음은 기본적인 통계 용어를 이해하는 것입니다.\n",
        "\n",
        "* **모집단 (Population)**\n",
        "  * 우리가 관심을 가지는 전체 대상의 집합입니다. \n",
        "  * 예를 들어, \"대한민국 모든 청소년의 하루 평균 SNS 사용 시간\"을 연구한다면, 모집단은 대한민국 모든 청소년이 됩니다. \n",
        "  * 사회과학 연구에서는 특정 정책의 영향을 받는 모든 시민, 특정 프로그램의 모든 참여자 등이 모집단이 될 수 있습니다.\n",
        "  \n",
        "* **표본 (Sample)**\n",
        "  * 모집단 전체를 조사하는 것은 시간과 비용 면에서 비효율적이거나 불가능할 때가 많습니다. 그래서 모집단의 일부를 추출하여 조사하는데, 이 일부를 표본이라고 합니다. \n",
        "  * 표본은 모집단을 잘 대표할 수 있도록 랜덤하게 추출하는 것이 중요합니다. \n",
        "  * 예를 들어, 대한민국 청소년 1,000명을 무작위로 뽑아 하루 평균 SNS 사용 시간을 조사했다면, 이 1,000명이 표본이 됩니다.\n",
        "  \n",
        "* **모수 (Parameter)**\n",
        "  * 모집단의 특성을 나타내는 값입니다. \n",
        "  * 예를 들어, 대한민국 모든 청소년의 실제 하루 평균 SNS 사용 시간, 특정 정책에 대한 전국민의 실제 평균 지지율 등이 모수에 해당합니다. \n",
        "  * 모수는 우리가 정확히 알기 어려운 값일 경우가 많아 표본을 통해 추정합니다.\n",
        "  \n",
        "* **통계량 (Statistic)**\n",
        "  * 표본으로부터 얻어진 데이터를 요약하고 설명하는 값입니다. \n",
        "  * 예를 들어, 표본으로 뽑힌 청소년 1,000명의 하루 평균 SNS 사용 시간, 설문조사에 응답한 500명의 정책 평균 지지율 등이 통계량입니다. \n",
        "  * 우리는 이 통계량을 통해 모수를 추론합니다.\n",
        "\n",
        "요약하자면, 우리는 **표본**에서 얻은 **통계량**을 통해 **모집단**의 **모수**를 알고자 합니다."
      ]
    },
    {
      "cell_type": "markdown",
      "metadata": {},
      "source": [
        "\n",
        "### 💻 예시 코드 (Example Code)\n",
        "\n",
        "간단한 사회과학 설문조사 결과를 예시로 살펴봅시다. 어떤 새로운 복지 정책에 대한 20대 청년들의 찬반 의견을 100명에게 물어본 상황을 가정합니다."
      ]
    },
    {
      "cell_type": "code",
      "execution_count": 1,
      "metadata": {
        "id": "G9NAiRtpGxiJ"
      },
      "outputs": [
        {
          "name": "stdout",
          "output_type": "stream",
          "text": [
            "설문조사 결과 (일부):\n"
          ]
        },
        {
          "data": {
            "text/html": [
              "<div>\n",
              "<style scoped>\n",
              "    .dataframe tbody tr th:only-of-type {\n",
              "        vertical-align: middle;\n",
              "    }\n",
              "\n",
              "    .dataframe tbody tr th {\n",
              "        vertical-align: top;\n",
              "    }\n",
              "\n",
              "    .dataframe thead th {\n",
              "        text-align: right;\n",
              "    }\n",
              "</style>\n",
              "<table border=\"1\" class=\"dataframe\">\n",
              "  <thead>\n",
              "    <tr style=\"text-align: right;\">\n",
              "      <th></th>\n",
              "      <th>respondent_id</th>\n",
              "      <th>opinion</th>\n",
              "    </tr>\n",
              "  </thead>\n",
              "  <tbody>\n",
              "    <tr>\n",
              "      <th>0</th>\n",
              "      <td>1</td>\n",
              "      <td>찬성</td>\n",
              "    </tr>\n",
              "    <tr>\n",
              "      <th>1</th>\n",
              "      <td>2</td>\n",
              "      <td>찬성</td>\n",
              "    </tr>\n",
              "    <tr>\n",
              "      <th>2</th>\n",
              "      <td>3</td>\n",
              "      <td>찬성</td>\n",
              "    </tr>\n",
              "    <tr>\n",
              "      <th>3</th>\n",
              "      <td>4</td>\n",
              "      <td>찬성</td>\n",
              "    </tr>\n",
              "    <tr>\n",
              "      <th>4</th>\n",
              "      <td>5</td>\n",
              "      <td>찬성</td>\n",
              "    </tr>\n",
              "  </tbody>\n",
              "</table>\n",
              "</div>"
            ],
            "text/plain": [
              "   respondent_id opinion\n",
              "0              1      찬성\n",
              "1              2      찬성\n",
              "2              3      찬성\n",
              "3              4      찬성\n",
              "4              5      찬성"
            ]
          },
          "execution_count": 1,
          "metadata": {},
          "output_type": "execute_result"
        }
      ],
      "source": [
        "import pandas as pd\n",
        "import plotly.express as px\n",
        "\n",
        "# 가상 설문조사 데이터 생성 (표본 데이터)\n",
        "data = {'respondent_id': range(1, 101),\n",
        "        'opinion': ['찬성'] * 65 + ['반대'] * 25 + ['모름'] * 10}\n",
        "survey_df = pd.DataFrame(data)\n",
        "\n",
        "print(\"설문조사 결과 (일부)\")\n",
        "survey_df.head()"
      ]
    },
    {
      "cell_type": "code",
      "execution_count": 2,
      "metadata": {},
      "outputs": [
        {
          "name": "stdout",
          "output_type": "stream",
          "text": [
            "총 응답자 수 (표본 크기): 100\n"
          ]
        }
      ],
      "source": [
        "print(f\"총 응답자 수 (표본 크기): {len(survey_df)}\")"
      ]
    },
    {
      "cell_type": "code",
      "execution_count": 4,
      "metadata": {},
      "outputs": [
        {
          "name": "stdout",
          "output_type": "stream",
          "text": [
            "의견별 응답 수\n",
            "opinion\n",
            "찬성    65\n",
            "반대    25\n",
            "모름    10\n",
            "Name: count, dtype: int64\n"
          ]
        }
      ],
      "source": [
        "# 의견별 응답 수 (통계량)\n",
        "opinion_counts = survey_df['opinion'].value_counts()\n",
        "print(\"의견별 응답 수\")\n",
        "print(opinion_counts)\n"
      ]
    },
    {
      "cell_type": "code",
      "execution_count": 6,
      "metadata": {},
      "outputs": [
        {
          "name": "stdout",
          "output_type": "stream",
          "text": [
            "\n",
            "의견별 응답 비율 (%):\n"
          ]
        },
        {
          "data": {
            "text/plain": [
              "opinion\n",
              "찬성    65.0\n",
              "반대    25.0\n",
              "모름    10.0\n",
              "Name: proportion, dtype: float64"
            ]
          },
          "execution_count": 6,
          "metadata": {},
          "output_type": "execute_result"
        }
      ],
      "source": [
        "# 의견별 응답 비율 (통계량)\n",
        "opinion_ratios = survey_df['opinion'].value_counts(normalize=True) * 100\n",
        "print(\"\\n의견별 응답 비율 (%):\")\n",
        "opinion_ratios.round(1)"
      ]
    },
    {
      "cell_type": "code",
      "execution_count": 7,
      "metadata": {},
      "outputs": [
        {
          "data": {
            "application/vnd.plotly.v1+json": {
              "config": {
                "plotlyServerURL": "https://plot.ly"
              },
              "data": [
                {
                  "domain": {
                    "x": [
                      0,
                      1
                    ],
                    "y": [
                      0,
                      1
                    ]
                  },
                  "hovertemplate": "opinion=%{label}<br>value=%{value}<extra></extra>",
                  "labels": [
                    "찬성",
                    "반대",
                    "모름"
                  ],
                  "legendgroup": "",
                  "name": "",
                  "showlegend": true,
                  "type": "pie",
                  "values": {
                    "bdata": "QRkK",
                    "dtype": "i1"
                  }
                }
              ],
              "layout": {
                "legend": {
                  "tracegroupgap": 0
                },
                "template": {
                  "data": {
                    "bar": [
                      {
                        "error_x": {
                          "color": "#2a3f5f"
                        },
                        "error_y": {
                          "color": "#2a3f5f"
                        },
                        "marker": {
                          "line": {
                            "color": "#E5ECF6",
                            "width": 0.5
                          },
                          "pattern": {
                            "fillmode": "overlay",
                            "size": 10,
                            "solidity": 0.2
                          }
                        },
                        "type": "bar"
                      }
                    ],
                    "barpolar": [
                      {
                        "marker": {
                          "line": {
                            "color": "#E5ECF6",
                            "width": 0.5
                          },
                          "pattern": {
                            "fillmode": "overlay",
                            "size": 10,
                            "solidity": 0.2
                          }
                        },
                        "type": "barpolar"
                      }
                    ],
                    "carpet": [
                      {
                        "aaxis": {
                          "endlinecolor": "#2a3f5f",
                          "gridcolor": "white",
                          "linecolor": "white",
                          "minorgridcolor": "white",
                          "startlinecolor": "#2a3f5f"
                        },
                        "baxis": {
                          "endlinecolor": "#2a3f5f",
                          "gridcolor": "white",
                          "linecolor": "white",
                          "minorgridcolor": "white",
                          "startlinecolor": "#2a3f5f"
                        },
                        "type": "carpet"
                      }
                    ],
                    "choropleth": [
                      {
                        "colorbar": {
                          "outlinewidth": 0,
                          "ticks": ""
                        },
                        "type": "choropleth"
                      }
                    ],
                    "contour": [
                      {
                        "colorbar": {
                          "outlinewidth": 0,
                          "ticks": ""
                        },
                        "colorscale": [
                          [
                            0,
                            "#0d0887"
                          ],
                          [
                            0.1111111111111111,
                            "#46039f"
                          ],
                          [
                            0.2222222222222222,
                            "#7201a8"
                          ],
                          [
                            0.3333333333333333,
                            "#9c179e"
                          ],
                          [
                            0.4444444444444444,
                            "#bd3786"
                          ],
                          [
                            0.5555555555555556,
                            "#d8576b"
                          ],
                          [
                            0.6666666666666666,
                            "#ed7953"
                          ],
                          [
                            0.7777777777777778,
                            "#fb9f3a"
                          ],
                          [
                            0.8888888888888888,
                            "#fdca26"
                          ],
                          [
                            1,
                            "#f0f921"
                          ]
                        ],
                        "type": "contour"
                      }
                    ],
                    "contourcarpet": [
                      {
                        "colorbar": {
                          "outlinewidth": 0,
                          "ticks": ""
                        },
                        "type": "contourcarpet"
                      }
                    ],
                    "heatmap": [
                      {
                        "colorbar": {
                          "outlinewidth": 0,
                          "ticks": ""
                        },
                        "colorscale": [
                          [
                            0,
                            "#0d0887"
                          ],
                          [
                            0.1111111111111111,
                            "#46039f"
                          ],
                          [
                            0.2222222222222222,
                            "#7201a8"
                          ],
                          [
                            0.3333333333333333,
                            "#9c179e"
                          ],
                          [
                            0.4444444444444444,
                            "#bd3786"
                          ],
                          [
                            0.5555555555555556,
                            "#d8576b"
                          ],
                          [
                            0.6666666666666666,
                            "#ed7953"
                          ],
                          [
                            0.7777777777777778,
                            "#fb9f3a"
                          ],
                          [
                            0.8888888888888888,
                            "#fdca26"
                          ],
                          [
                            1,
                            "#f0f921"
                          ]
                        ],
                        "type": "heatmap"
                      }
                    ],
                    "histogram": [
                      {
                        "marker": {
                          "pattern": {
                            "fillmode": "overlay",
                            "size": 10,
                            "solidity": 0.2
                          }
                        },
                        "type": "histogram"
                      }
                    ],
                    "histogram2d": [
                      {
                        "colorbar": {
                          "outlinewidth": 0,
                          "ticks": ""
                        },
                        "colorscale": [
                          [
                            0,
                            "#0d0887"
                          ],
                          [
                            0.1111111111111111,
                            "#46039f"
                          ],
                          [
                            0.2222222222222222,
                            "#7201a8"
                          ],
                          [
                            0.3333333333333333,
                            "#9c179e"
                          ],
                          [
                            0.4444444444444444,
                            "#bd3786"
                          ],
                          [
                            0.5555555555555556,
                            "#d8576b"
                          ],
                          [
                            0.6666666666666666,
                            "#ed7953"
                          ],
                          [
                            0.7777777777777778,
                            "#fb9f3a"
                          ],
                          [
                            0.8888888888888888,
                            "#fdca26"
                          ],
                          [
                            1,
                            "#f0f921"
                          ]
                        ],
                        "type": "histogram2d"
                      }
                    ],
                    "histogram2dcontour": [
                      {
                        "colorbar": {
                          "outlinewidth": 0,
                          "ticks": ""
                        },
                        "colorscale": [
                          [
                            0,
                            "#0d0887"
                          ],
                          [
                            0.1111111111111111,
                            "#46039f"
                          ],
                          [
                            0.2222222222222222,
                            "#7201a8"
                          ],
                          [
                            0.3333333333333333,
                            "#9c179e"
                          ],
                          [
                            0.4444444444444444,
                            "#bd3786"
                          ],
                          [
                            0.5555555555555556,
                            "#d8576b"
                          ],
                          [
                            0.6666666666666666,
                            "#ed7953"
                          ],
                          [
                            0.7777777777777778,
                            "#fb9f3a"
                          ],
                          [
                            0.8888888888888888,
                            "#fdca26"
                          ],
                          [
                            1,
                            "#f0f921"
                          ]
                        ],
                        "type": "histogram2dcontour"
                      }
                    ],
                    "mesh3d": [
                      {
                        "colorbar": {
                          "outlinewidth": 0,
                          "ticks": ""
                        },
                        "type": "mesh3d"
                      }
                    ],
                    "parcoords": [
                      {
                        "line": {
                          "colorbar": {
                            "outlinewidth": 0,
                            "ticks": ""
                          }
                        },
                        "type": "parcoords"
                      }
                    ],
                    "pie": [
                      {
                        "automargin": true,
                        "type": "pie"
                      }
                    ],
                    "scatter": [
                      {
                        "fillpattern": {
                          "fillmode": "overlay",
                          "size": 10,
                          "solidity": 0.2
                        },
                        "type": "scatter"
                      }
                    ],
                    "scatter3d": [
                      {
                        "line": {
                          "colorbar": {
                            "outlinewidth": 0,
                            "ticks": ""
                          }
                        },
                        "marker": {
                          "colorbar": {
                            "outlinewidth": 0,
                            "ticks": ""
                          }
                        },
                        "type": "scatter3d"
                      }
                    ],
                    "scattercarpet": [
                      {
                        "marker": {
                          "colorbar": {
                            "outlinewidth": 0,
                            "ticks": ""
                          }
                        },
                        "type": "scattercarpet"
                      }
                    ],
                    "scattergeo": [
                      {
                        "marker": {
                          "colorbar": {
                            "outlinewidth": 0,
                            "ticks": ""
                          }
                        },
                        "type": "scattergeo"
                      }
                    ],
                    "scattergl": [
                      {
                        "marker": {
                          "colorbar": {
                            "outlinewidth": 0,
                            "ticks": ""
                          }
                        },
                        "type": "scattergl"
                      }
                    ],
                    "scattermap": [
                      {
                        "marker": {
                          "colorbar": {
                            "outlinewidth": 0,
                            "ticks": ""
                          }
                        },
                        "type": "scattermap"
                      }
                    ],
                    "scattermapbox": [
                      {
                        "marker": {
                          "colorbar": {
                            "outlinewidth": 0,
                            "ticks": ""
                          }
                        },
                        "type": "scattermapbox"
                      }
                    ],
                    "scatterpolar": [
                      {
                        "marker": {
                          "colorbar": {
                            "outlinewidth": 0,
                            "ticks": ""
                          }
                        },
                        "type": "scatterpolar"
                      }
                    ],
                    "scatterpolargl": [
                      {
                        "marker": {
                          "colorbar": {
                            "outlinewidth": 0,
                            "ticks": ""
                          }
                        },
                        "type": "scatterpolargl"
                      }
                    ],
                    "scatterternary": [
                      {
                        "marker": {
                          "colorbar": {
                            "outlinewidth": 0,
                            "ticks": ""
                          }
                        },
                        "type": "scatterternary"
                      }
                    ],
                    "surface": [
                      {
                        "colorbar": {
                          "outlinewidth": 0,
                          "ticks": ""
                        },
                        "colorscale": [
                          [
                            0,
                            "#0d0887"
                          ],
                          [
                            0.1111111111111111,
                            "#46039f"
                          ],
                          [
                            0.2222222222222222,
                            "#7201a8"
                          ],
                          [
                            0.3333333333333333,
                            "#9c179e"
                          ],
                          [
                            0.4444444444444444,
                            "#bd3786"
                          ],
                          [
                            0.5555555555555556,
                            "#d8576b"
                          ],
                          [
                            0.6666666666666666,
                            "#ed7953"
                          ],
                          [
                            0.7777777777777778,
                            "#fb9f3a"
                          ],
                          [
                            0.8888888888888888,
                            "#fdca26"
                          ],
                          [
                            1,
                            "#f0f921"
                          ]
                        ],
                        "type": "surface"
                      }
                    ],
                    "table": [
                      {
                        "cells": {
                          "fill": {
                            "color": "#EBF0F8"
                          },
                          "line": {
                            "color": "white"
                          }
                        },
                        "header": {
                          "fill": {
                            "color": "#C8D4E3"
                          },
                          "line": {
                            "color": "white"
                          }
                        },
                        "type": "table"
                      }
                    ]
                  },
                  "layout": {
                    "annotationdefaults": {
                      "arrowcolor": "#2a3f5f",
                      "arrowhead": 0,
                      "arrowwidth": 1
                    },
                    "autotypenumbers": "strict",
                    "coloraxis": {
                      "colorbar": {
                        "outlinewidth": 0,
                        "ticks": ""
                      }
                    },
                    "colorscale": {
                      "diverging": [
                        [
                          0,
                          "#8e0152"
                        ],
                        [
                          0.1,
                          "#c51b7d"
                        ],
                        [
                          0.2,
                          "#de77ae"
                        ],
                        [
                          0.3,
                          "#f1b6da"
                        ],
                        [
                          0.4,
                          "#fde0ef"
                        ],
                        [
                          0.5,
                          "#f7f7f7"
                        ],
                        [
                          0.6,
                          "#e6f5d0"
                        ],
                        [
                          0.7,
                          "#b8e186"
                        ],
                        [
                          0.8,
                          "#7fbc41"
                        ],
                        [
                          0.9,
                          "#4d9221"
                        ],
                        [
                          1,
                          "#276419"
                        ]
                      ],
                      "sequential": [
                        [
                          0,
                          "#0d0887"
                        ],
                        [
                          0.1111111111111111,
                          "#46039f"
                        ],
                        [
                          0.2222222222222222,
                          "#7201a8"
                        ],
                        [
                          0.3333333333333333,
                          "#9c179e"
                        ],
                        [
                          0.4444444444444444,
                          "#bd3786"
                        ],
                        [
                          0.5555555555555556,
                          "#d8576b"
                        ],
                        [
                          0.6666666666666666,
                          "#ed7953"
                        ],
                        [
                          0.7777777777777778,
                          "#fb9f3a"
                        ],
                        [
                          0.8888888888888888,
                          "#fdca26"
                        ],
                        [
                          1,
                          "#f0f921"
                        ]
                      ],
                      "sequentialminus": [
                        [
                          0,
                          "#0d0887"
                        ],
                        [
                          0.1111111111111111,
                          "#46039f"
                        ],
                        [
                          0.2222222222222222,
                          "#7201a8"
                        ],
                        [
                          0.3333333333333333,
                          "#9c179e"
                        ],
                        [
                          0.4444444444444444,
                          "#bd3786"
                        ],
                        [
                          0.5555555555555556,
                          "#d8576b"
                        ],
                        [
                          0.6666666666666666,
                          "#ed7953"
                        ],
                        [
                          0.7777777777777778,
                          "#fb9f3a"
                        ],
                        [
                          0.8888888888888888,
                          "#fdca26"
                        ],
                        [
                          1,
                          "#f0f921"
                        ]
                      ]
                    },
                    "colorway": [
                      "#636efa",
                      "#EF553B",
                      "#00cc96",
                      "#ab63fa",
                      "#FFA15A",
                      "#19d3f3",
                      "#FF6692",
                      "#B6E880",
                      "#FF97FF",
                      "#FECB52"
                    ],
                    "font": {
                      "color": "#2a3f5f"
                    },
                    "geo": {
                      "bgcolor": "white",
                      "lakecolor": "white",
                      "landcolor": "#E5ECF6",
                      "showlakes": true,
                      "showland": true,
                      "subunitcolor": "white"
                    },
                    "hoverlabel": {
                      "align": "left"
                    },
                    "hovermode": "closest",
                    "mapbox": {
                      "style": "light"
                    },
                    "paper_bgcolor": "white",
                    "plot_bgcolor": "#E5ECF6",
                    "polar": {
                      "angularaxis": {
                        "gridcolor": "white",
                        "linecolor": "white",
                        "ticks": ""
                      },
                      "bgcolor": "#E5ECF6",
                      "radialaxis": {
                        "gridcolor": "white",
                        "linecolor": "white",
                        "ticks": ""
                      }
                    },
                    "scene": {
                      "xaxis": {
                        "backgroundcolor": "#E5ECF6",
                        "gridcolor": "white",
                        "gridwidth": 2,
                        "linecolor": "white",
                        "showbackground": true,
                        "ticks": "",
                        "zerolinecolor": "white"
                      },
                      "yaxis": {
                        "backgroundcolor": "#E5ECF6",
                        "gridcolor": "white",
                        "gridwidth": 2,
                        "linecolor": "white",
                        "showbackground": true,
                        "ticks": "",
                        "zerolinecolor": "white"
                      },
                      "zaxis": {
                        "backgroundcolor": "#E5ECF6",
                        "gridcolor": "white",
                        "gridwidth": 2,
                        "linecolor": "white",
                        "showbackground": true,
                        "ticks": "",
                        "zerolinecolor": "white"
                      }
                    },
                    "shapedefaults": {
                      "line": {
                        "color": "#2a3f5f"
                      }
                    },
                    "ternary": {
                      "aaxis": {
                        "gridcolor": "white",
                        "linecolor": "white",
                        "ticks": ""
                      },
                      "baxis": {
                        "gridcolor": "white",
                        "linecolor": "white",
                        "ticks": ""
                      },
                      "bgcolor": "#E5ECF6",
                      "caxis": {
                        "gridcolor": "white",
                        "linecolor": "white",
                        "ticks": ""
                      }
                    },
                    "title": {
                      "x": 0.05
                    },
                    "xaxis": {
                      "automargin": true,
                      "gridcolor": "white",
                      "linecolor": "white",
                      "ticks": "",
                      "title": {
                        "standoff": 15
                      },
                      "zerolinecolor": "white",
                      "zerolinewidth": 2
                    },
                    "yaxis": {
                      "automargin": true,
                      "gridcolor": "white",
                      "linecolor": "white",
                      "ticks": "",
                      "title": {
                        "standoff": 15
                      },
                      "zerolinecolor": "white",
                      "zerolinewidth": 2
                    }
                  }
                },
                "title": {
                  "text": "새로운 복지 정책에 대한 20대 청년 의견 분포 (표본, n=100)"
                }
              }
            }
          },
          "metadata": {},
          "output_type": "display_data"
        }
      ],
      "source": [
        "# 시각화: 의견 분포 (원그래프)\n",
        "fig_pie = px.pie(opinion_counts, values=opinion_counts.values, names=opinion_counts.index,\n",
        "                 title='새로운 복지 정책에 대한 20대 청년 의견 분포 (표본, n=100)')\n",
        "fig_pie.show()"
      ]
    },
    {
      "cell_type": "markdown",
      "metadata": {
        "id": "WfexqhNlGxiK"
      },
      "source": [
        "* `survey_df`는 우리의 **표본** 데이터입니다.\n",
        "* `len(survey_df)` (100명)은 **표본 크기**입니다.\n",
        "* `opinion_counts`와 `opinion_ratios` (예: 찬성 65%, 반대 25%, 모름 10%)는 이 표본으로부터 계산된 **통계량**입니다.\n",
        "* 우리가 진짜 알고 싶은 것은 \"대한민국 모든 20대 청년의 실제 정책 찬성/반대 비율\"일 것이며, 이것이 **모수**에 해당합니다."
      ]
    },
    {
      "cell_type": "markdown",
      "metadata": {},
      "source": [
        "\n",
        "### ✏️ 연습 문제 (Practice Problems)\n",
        "\n",
        "1.  어떤 연구자가 \"서울시 중학생들의 월 평균 사교육비\"를 연구하려고 합니다. 이 연구에서 **모집단**, **표본**, **모수**, **통계량**은 각각 무엇일지 설명해보세요.\n"
      ]
    },
    {
      "cell_type": "markdown",
      "metadata": {},
      "source": [
        "- **모집단**: 서울시에 거주하는 모든 중학생\n",
        "- **표본**: 연구자가 실제로 조사한 일부 서울시 중학생(예: 200명)\n",
        "- **모수**: 서울시 모든 중학생의 '월 평균 사교육비' (진짜 평균, 우리가 알고 싶은 값)\n",
        "- **통계량**: 표본(조사한 200명)의 '월 평균 사교육비' (실제 계산된 값, 모수를 추정하기 위한 값)\n"
      ]
    },
    {
      "cell_type": "markdown",
      "metadata": {},
      "source": [
        "2.  아래는 5명의 학생에게 하루 TV 시청 시간(분 단위)을 조사한 결과입니다. 이 데이터(표본)를 이용하여 평균 TV 시청 시간(통계량)을 계산하고, 이 표본의 평균이 의미하는 바를 모집단과 관련지어 설명해보세요.\n",
        "    `tv_time_sample = [60, 90, 120, 75, 100]`"
      ]
    },
    {
      "cell_type": "code",
      "execution_count": null,
      "metadata": {
        "id": "Y13DKa2kGxiK"
      },
      "outputs": [],
      "source": [
        "# 연습 문제 2번 풀이 공간\n",
        "import numpy as np\n",
        "\n",
        "tv_time_sample = [60, 90, 120, 75, 100]\n",
        "# 평균 TV 시청 시간 (통계량) 계산 코드를 작성하세요.\n",
        "# 계산된 평균이 모집단의 평균(모수)과 어떤 관계가 있을지 주석으로 설명해보세요."
      ]
    },
    {
      "cell_type": "code",
      "execution_count": 8,
      "metadata": {},
      "outputs": [
        {
          "name": "stdout",
          "output_type": "stream",
          "text": [
            "표본의 평균 TV 시청 시간(통계량): 89.0 분\n"
          ]
        }
      ],
      "source": [
        "# 연습 문제 2번 풀이 공간\n",
        "import numpy as np\n",
        "\n",
        "tv_time_sample = [60, 90, 120, 75, 100]\n",
        "# 평균 TV 시청 시간 (통계량) 계산\n",
        "mean_tv_time = np.mean(tv_time_sample)\n",
        "print(\"표본의 평균 TV 시청 시간(통계량):\", mean_tv_time, \"분\")\n"
      ]
    },
    {
      "cell_type": "markdown",
      "metadata": {},
      "source": [
        "- 위에서 구한 평균(통계량)은 표본(5명)의 TV 시청 시간 평균입니다.\n",
        "- 이 값은 모집단(예: 전체 학생)의 평균 TV 시청 시간(모수)을 '추정'하는 데 사용됩니다.\n",
        "- 표본이 모집단을 잘 대표한다면, 이 통계량은 모수에 가까울 것입니다."
      ]
    },
    {
      "cell_type": "markdown",
      "metadata": {
        "id": "9j1V31-GGxiK"
      },
      "source": [
        "---\n",
        "\n",
        "## 2. 🤔 가설 검정의 세계로: 무엇을 알고 싶은가?\n",
        "\n",
        "### 💡 개념 (Concept)\n",
        "\n",
        "**가설(Hypothesis)** 이란 아직 참인지 거짓인지 증명되지 않은 주장이나 예측입니다. 가설 검정은 우리가 수집한 표본 데이터를 근거로 하여 모집단에 대한 가설이 타당한지를 통계적으로 판단하는 과정입니다.\n",
        "\n",
        "가설 검정에는 두 가지 상반되는 가설이 등장합니다:\n",
        "\n",
        "* **귀무가설 (Null Hypothesis, $H_0$)**: \"차이가 없다\", \"효과가 없다\", \"관계가 없다\"와 같이 기존에 알려진 사실이나 보수적인 주장을 나타내는 가설입니다. 연구를 통해 기각하고자 하는 대상이 됩니다.\n",
        "    * 예시:\n",
        "        * \"새로운 교육 프로그램은 학생들의 학업 성취도에 영향을 주지 않는다 ($H_0$: 평균 성적 변화 = 0).\"\n",
        "        * \"A 정책과 B 정책에 대한 시민들의 지지율은 차이가 없다 ($H_0$: A 정책 지지율 = B 정책 지지율).\"\n",
        "        * \"성별에 따라 직무 만족도에는 차이가 없다 ($H_0$: 남성 평균 만족도 = 여성 평균 만족도).\"\n",
        "\n",
        "* **대립가설 (Alternative Hypothesis, $H_1$ 또는 $H_a$)**: 연구자가 새롭게 주장하고 싶은 내용, 즉 \"차이가 있다\", \"효과가 있다\", \"관계가 있다\"를 나타내는 가설입니다. 귀무가설이 기각될 때 받아들여지는 가설입니다.\n",
        "    * 예시:\n",
        "        * \"새로운 교육 프로그램은 학생들의 학업 성취도를 향상시킨다 ($H_1$: 평균 성적 변화 > 0).\" (단측 검정)\n",
        "        * \"A 정책과 B 정책에 대한 시민들의 지지율은 차이가 있다 ($H_1$: A 정책 지지율 ≠ B 정책 지지율).\" (양측 검정)\n",
        "        * \"성별에 따라 직무 만족도에는 차이가 있다 ($H_1$: 남성 평균 만족도 ≠ 여성 평균 만족도).\" (양측 검정)\n",
        "\n",
        "**양측 검정(Two-tailed test)**은 \"같지 않다\" 즉, 크거나 작은 양쪽 방향의 차이를 모두 고려하는 경우이고, **단측 검정(One-tailed test)**은 \"크다\" 또는 \"작다\"와 같이 특정 방향의 차이만 고려하는 경우입니다.\n",
        "\n",
        "### 💻 예시 코드 (Example Code)\n",
        "\n",
        "\"새로운 공익 광고가 청소년들의 기부 의식에 긍정적인 영향을 미치는지\" 연구한다고 가정해봅시다."
      ]
    },
    {
      "cell_type": "code",
      "execution_count": 1,
      "metadata": {
        "id": "mPFc72y_GxiK"
      },
      "outputs": [
        {
          "name": "stdout",
          "output_type": "stream",
          "text": [
            "광고 캠페인 전후 기부 의식 점수 (일부):\n",
            "   student_id  pre_score  post_score  score_change\n",
            "0           1   5.745071    6.869155      1.124084\n",
            "1           2   4.792604    5.207521      0.414918\n",
            "2           3   5.971533    6.094611      0.123078\n",
            "3           4   7.284545    8.696221      1.411676\n",
            "4           5   4.648770    6.479769      1.831000\n",
            "\n",
            "점수 변화 평균: 0.82\n"
          ]
        }
      ],
      "source": [
        "import pandas as pd\n",
        "import numpy as np\n",
        "import plotly.express as px\n",
        "\n",
        "# 연구 질문: 새로운 공익 광고가 청소년들의 기부 의식(10점 만점)을 향상시키는가?\n",
        "\n",
        "# 가설 설정\n",
        "# H0 (귀무가설): 공익 광고는 기부 의식에 영향을 주지 않는다 (평균 변화 = 0 또는 평균 변화 <= 0).\n",
        "# H1 (대립가설): 공익 광고는 기부 의식을 향상시킨다 (평균 변화 > 0).\n",
        "\n",
        "# 가상 데이터 생성: 광고 시청 전후 기부 의식 점수\n",
        "np.random.seed(42) # 결과 재현을 위한 시드 설정\n",
        "sample_size = 50\n",
        "pre_campaign_scores = np.random.normal(loc=5, scale=1.5, size=sample_size).clip(1, 10) # 광고 전, 평균 5점\n",
        "# 광고 후 점수가 약간 상승했다고 가정\n",
        "post_campaign_scores = (pre_campaign_scores + np.random.normal(loc=0.8, scale=1.0, size=sample_size)).clip(1, 10)\n",
        "\n",
        "df_campaign = pd.DataFrame({\n",
        "    'student_id': range(1, sample_size + 1),\n",
        "    'pre_score': pre_campaign_scores,\n",
        "    'post_score': post_campaign_scores\n",
        "})\n",
        "\n",
        "df_campaign['score_change'] = df_campaign['post_score'] - df_campaign['pre_score']\n",
        "\n",
        "print(\"광고 캠페인 전후 기부 의식 점수 (일부):\")\n",
        "print(df_campaign.head())\n",
        "print(f\"\\n점수 변화 평균: {df_campaign['score_change'].mean():.2f}\")\n"
      ]
    },
    {
      "cell_type": "code",
      "execution_count": 2,
      "metadata": {},
      "outputs": [
        {
          "data": {
            "application/vnd.plotly.v1+json": {
              "config": {
                "plotlyServerURL": "https://plot.ly"
              },
              "data": [
                {
                  "alignmentgroup": "True",
                  "boxpoints": "all",
                  "hovertemplate": "광고 캠페인 단계=%{x}<br>기부 의식 점수=%{y}<extra></extra>",
                  "legendgroup": "",
                  "marker": {
                    "color": "#636efa"
                  },
                  "name": "",
                  "notched": false,
                  "offsetgroup": "",
                  "orientation": "v",
                  "showlegend": false,
                  "type": "box",
                  "x": [
                    "pre_score",
                    "pre_score",
                    "pre_score",
                    "pre_score",
                    "pre_score",
                    "pre_score",
                    "pre_score",
                    "pre_score",
                    "pre_score",
                    "pre_score",
                    "pre_score",
                    "pre_score",
                    "pre_score",
                    "pre_score",
                    "pre_score",
                    "pre_score",
                    "pre_score",
                    "pre_score",
                    "pre_score",
                    "pre_score",
                    "pre_score",
                    "pre_score",
                    "pre_score",
                    "pre_score",
                    "pre_score",
                    "pre_score",
                    "pre_score",
                    "pre_score",
                    "pre_score",
                    "pre_score",
                    "pre_score",
                    "pre_score",
                    "pre_score",
                    "pre_score",
                    "pre_score",
                    "pre_score",
                    "pre_score",
                    "pre_score",
                    "pre_score",
                    "pre_score",
                    "pre_score",
                    "pre_score",
                    "pre_score",
                    "pre_score",
                    "pre_score",
                    "pre_score",
                    "pre_score",
                    "pre_score",
                    "pre_score",
                    "pre_score",
                    "post_score",
                    "post_score",
                    "post_score",
                    "post_score",
                    "post_score",
                    "post_score",
                    "post_score",
                    "post_score",
                    "post_score",
                    "post_score",
                    "post_score",
                    "post_score",
                    "post_score",
                    "post_score",
                    "post_score",
                    "post_score",
                    "post_score",
                    "post_score",
                    "post_score",
                    "post_score",
                    "post_score",
                    "post_score",
                    "post_score",
                    "post_score",
                    "post_score",
                    "post_score",
                    "post_score",
                    "post_score",
                    "post_score",
                    "post_score",
                    "post_score",
                    "post_score",
                    "post_score",
                    "post_score",
                    "post_score",
                    "post_score",
                    "post_score",
                    "post_score",
                    "post_score",
                    "post_score",
                    "post_score",
                    "post_score",
                    "post_score",
                    "post_score",
                    "post_score",
                    "post_score",
                    "post_score",
                    "post_score",
                    "post_score",
                    "post_score"
                  ],
                  "x0": " ",
                  "xaxis": "x",
                  "y": {
                    "bdata": "jNzP8/P6FkDCl7lDoCsTQLTRBn/Z4hdA0J9AtV8jHUA15IclV5gSQLm1MppdmBJAgysYv6t5HUB+KE2dx5oYQCOZ7CjjLhFAh+hDSl9BF0Bu5Z2/MDgRQILZ9ZujNBFAsXPDb6dzFUCyV80wZwoBQPLUTGsNTQNArcQBjFOgEEDlgkUyldgLQJMcQhSv4hVAgt5rz4waDUAq8fAsZw0HQPik24s8yxxA1jBvJTWlEkBDJ6gruWcUQHYiNm8s5wZAGPGpANS7EEAlJnuJYKoUQDDIpNElMApAzszTeBJBFkDJhMRBa2UQQEEkuVn1PxJAcSAwVcdjEEBhXClrGR0fQJ373qxE6xNAzSZaR7ZOC0Cq2PXRbe8YQGsklnyRWQlA9DjjgdBAFUBu24O05HsAQMG7O/3PDwhAu3Lb/GAuFUCUne3fSG4YQCmyA8A4BxVA2NK3Pl1OE0CDb5A1gTESQPx1e/76QQZAscHAeqNcD0Ccvwx3dTwRQOXokF+9VxpAJQaYNcwPFkAGMPbN8NcCQEPlCdIDehtAASqKdIDUFEC+/cSn4WAYQFGIqhZ3ZCFAnVZ4r0jrGUBw/EFMMoUZQAx8qRuDUR1AFCk5pViRGkAfwbAUTbUVQLoousqHWx5APJIOTLeAEkBFISVsuakTQFiLp4/3ORRAPYbMn/G9+z9i+MKtwBkQQGDr1e5QQBlAFkjhxsDVEEDh7zhogBkdQLisu1HKMhNA5RSXB5lKCEBik8y3QLggQBF8Zmdb/xtARBASyjx2F0A6uhxd++gUQDjp6nvR6AJAcIQRjDQnG0AExuL5aKQQQCXxaLAWQhhAJdJw/pT2E0B4oOKRxv8KQD7git0IthJAGYytxP3eIUCep4bu1AcdQCi+kNKxjw1AlD3rRbvmGEAprZawXrwLQPlMT+FiHRxAhFruXZODCUBq67J4QzkKQG7xayoqbxpAdFEvX+QEHEDm/CVsUBocQPz8UXCpshNAjYlUvi0VFEC/R3DLV4UJQBCu643CDQpA0qWm0eKeFUAq9IWlQpYeQGdrD987SBlAg1FN/OddB0A=",
                    "dtype": "f8"
                  },
                  "y0": " ",
                  "yaxis": "y"
                }
              ],
              "layout": {
                "boxmode": "group",
                "legend": {
                  "tracegroupgap": 0
                },
                "template": {
                  "data": {
                    "bar": [
                      {
                        "error_x": {
                          "color": "#2a3f5f"
                        },
                        "error_y": {
                          "color": "#2a3f5f"
                        },
                        "marker": {
                          "line": {
                            "color": "#E5ECF6",
                            "width": 0.5
                          },
                          "pattern": {
                            "fillmode": "overlay",
                            "size": 10,
                            "solidity": 0.2
                          }
                        },
                        "type": "bar"
                      }
                    ],
                    "barpolar": [
                      {
                        "marker": {
                          "line": {
                            "color": "#E5ECF6",
                            "width": 0.5
                          },
                          "pattern": {
                            "fillmode": "overlay",
                            "size": 10,
                            "solidity": 0.2
                          }
                        },
                        "type": "barpolar"
                      }
                    ],
                    "carpet": [
                      {
                        "aaxis": {
                          "endlinecolor": "#2a3f5f",
                          "gridcolor": "white",
                          "linecolor": "white",
                          "minorgridcolor": "white",
                          "startlinecolor": "#2a3f5f"
                        },
                        "baxis": {
                          "endlinecolor": "#2a3f5f",
                          "gridcolor": "white",
                          "linecolor": "white",
                          "minorgridcolor": "white",
                          "startlinecolor": "#2a3f5f"
                        },
                        "type": "carpet"
                      }
                    ],
                    "choropleth": [
                      {
                        "colorbar": {
                          "outlinewidth": 0,
                          "ticks": ""
                        },
                        "type": "choropleth"
                      }
                    ],
                    "contour": [
                      {
                        "colorbar": {
                          "outlinewidth": 0,
                          "ticks": ""
                        },
                        "colorscale": [
                          [
                            0,
                            "#0d0887"
                          ],
                          [
                            0.1111111111111111,
                            "#46039f"
                          ],
                          [
                            0.2222222222222222,
                            "#7201a8"
                          ],
                          [
                            0.3333333333333333,
                            "#9c179e"
                          ],
                          [
                            0.4444444444444444,
                            "#bd3786"
                          ],
                          [
                            0.5555555555555556,
                            "#d8576b"
                          ],
                          [
                            0.6666666666666666,
                            "#ed7953"
                          ],
                          [
                            0.7777777777777778,
                            "#fb9f3a"
                          ],
                          [
                            0.8888888888888888,
                            "#fdca26"
                          ],
                          [
                            1,
                            "#f0f921"
                          ]
                        ],
                        "type": "contour"
                      }
                    ],
                    "contourcarpet": [
                      {
                        "colorbar": {
                          "outlinewidth": 0,
                          "ticks": ""
                        },
                        "type": "contourcarpet"
                      }
                    ],
                    "heatmap": [
                      {
                        "colorbar": {
                          "outlinewidth": 0,
                          "ticks": ""
                        },
                        "colorscale": [
                          [
                            0,
                            "#0d0887"
                          ],
                          [
                            0.1111111111111111,
                            "#46039f"
                          ],
                          [
                            0.2222222222222222,
                            "#7201a8"
                          ],
                          [
                            0.3333333333333333,
                            "#9c179e"
                          ],
                          [
                            0.4444444444444444,
                            "#bd3786"
                          ],
                          [
                            0.5555555555555556,
                            "#d8576b"
                          ],
                          [
                            0.6666666666666666,
                            "#ed7953"
                          ],
                          [
                            0.7777777777777778,
                            "#fb9f3a"
                          ],
                          [
                            0.8888888888888888,
                            "#fdca26"
                          ],
                          [
                            1,
                            "#f0f921"
                          ]
                        ],
                        "type": "heatmap"
                      }
                    ],
                    "histogram": [
                      {
                        "marker": {
                          "pattern": {
                            "fillmode": "overlay",
                            "size": 10,
                            "solidity": 0.2
                          }
                        },
                        "type": "histogram"
                      }
                    ],
                    "histogram2d": [
                      {
                        "colorbar": {
                          "outlinewidth": 0,
                          "ticks": ""
                        },
                        "colorscale": [
                          [
                            0,
                            "#0d0887"
                          ],
                          [
                            0.1111111111111111,
                            "#46039f"
                          ],
                          [
                            0.2222222222222222,
                            "#7201a8"
                          ],
                          [
                            0.3333333333333333,
                            "#9c179e"
                          ],
                          [
                            0.4444444444444444,
                            "#bd3786"
                          ],
                          [
                            0.5555555555555556,
                            "#d8576b"
                          ],
                          [
                            0.6666666666666666,
                            "#ed7953"
                          ],
                          [
                            0.7777777777777778,
                            "#fb9f3a"
                          ],
                          [
                            0.8888888888888888,
                            "#fdca26"
                          ],
                          [
                            1,
                            "#f0f921"
                          ]
                        ],
                        "type": "histogram2d"
                      }
                    ],
                    "histogram2dcontour": [
                      {
                        "colorbar": {
                          "outlinewidth": 0,
                          "ticks": ""
                        },
                        "colorscale": [
                          [
                            0,
                            "#0d0887"
                          ],
                          [
                            0.1111111111111111,
                            "#46039f"
                          ],
                          [
                            0.2222222222222222,
                            "#7201a8"
                          ],
                          [
                            0.3333333333333333,
                            "#9c179e"
                          ],
                          [
                            0.4444444444444444,
                            "#bd3786"
                          ],
                          [
                            0.5555555555555556,
                            "#d8576b"
                          ],
                          [
                            0.6666666666666666,
                            "#ed7953"
                          ],
                          [
                            0.7777777777777778,
                            "#fb9f3a"
                          ],
                          [
                            0.8888888888888888,
                            "#fdca26"
                          ],
                          [
                            1,
                            "#f0f921"
                          ]
                        ],
                        "type": "histogram2dcontour"
                      }
                    ],
                    "mesh3d": [
                      {
                        "colorbar": {
                          "outlinewidth": 0,
                          "ticks": ""
                        },
                        "type": "mesh3d"
                      }
                    ],
                    "parcoords": [
                      {
                        "line": {
                          "colorbar": {
                            "outlinewidth": 0,
                            "ticks": ""
                          }
                        },
                        "type": "parcoords"
                      }
                    ],
                    "pie": [
                      {
                        "automargin": true,
                        "type": "pie"
                      }
                    ],
                    "scatter": [
                      {
                        "fillpattern": {
                          "fillmode": "overlay",
                          "size": 10,
                          "solidity": 0.2
                        },
                        "type": "scatter"
                      }
                    ],
                    "scatter3d": [
                      {
                        "line": {
                          "colorbar": {
                            "outlinewidth": 0,
                            "ticks": ""
                          }
                        },
                        "marker": {
                          "colorbar": {
                            "outlinewidth": 0,
                            "ticks": ""
                          }
                        },
                        "type": "scatter3d"
                      }
                    ],
                    "scattercarpet": [
                      {
                        "marker": {
                          "colorbar": {
                            "outlinewidth": 0,
                            "ticks": ""
                          }
                        },
                        "type": "scattercarpet"
                      }
                    ],
                    "scattergeo": [
                      {
                        "marker": {
                          "colorbar": {
                            "outlinewidth": 0,
                            "ticks": ""
                          }
                        },
                        "type": "scattergeo"
                      }
                    ],
                    "scattergl": [
                      {
                        "marker": {
                          "colorbar": {
                            "outlinewidth": 0,
                            "ticks": ""
                          }
                        },
                        "type": "scattergl"
                      }
                    ],
                    "scattermap": [
                      {
                        "marker": {
                          "colorbar": {
                            "outlinewidth": 0,
                            "ticks": ""
                          }
                        },
                        "type": "scattermap"
                      }
                    ],
                    "scattermapbox": [
                      {
                        "marker": {
                          "colorbar": {
                            "outlinewidth": 0,
                            "ticks": ""
                          }
                        },
                        "type": "scattermapbox"
                      }
                    ],
                    "scatterpolar": [
                      {
                        "marker": {
                          "colorbar": {
                            "outlinewidth": 0,
                            "ticks": ""
                          }
                        },
                        "type": "scatterpolar"
                      }
                    ],
                    "scatterpolargl": [
                      {
                        "marker": {
                          "colorbar": {
                            "outlinewidth": 0,
                            "ticks": ""
                          }
                        },
                        "type": "scatterpolargl"
                      }
                    ],
                    "scatterternary": [
                      {
                        "marker": {
                          "colorbar": {
                            "outlinewidth": 0,
                            "ticks": ""
                          }
                        },
                        "type": "scatterternary"
                      }
                    ],
                    "surface": [
                      {
                        "colorbar": {
                          "outlinewidth": 0,
                          "ticks": ""
                        },
                        "colorscale": [
                          [
                            0,
                            "#0d0887"
                          ],
                          [
                            0.1111111111111111,
                            "#46039f"
                          ],
                          [
                            0.2222222222222222,
                            "#7201a8"
                          ],
                          [
                            0.3333333333333333,
                            "#9c179e"
                          ],
                          [
                            0.4444444444444444,
                            "#bd3786"
                          ],
                          [
                            0.5555555555555556,
                            "#d8576b"
                          ],
                          [
                            0.6666666666666666,
                            "#ed7953"
                          ],
                          [
                            0.7777777777777778,
                            "#fb9f3a"
                          ],
                          [
                            0.8888888888888888,
                            "#fdca26"
                          ],
                          [
                            1,
                            "#f0f921"
                          ]
                        ],
                        "type": "surface"
                      }
                    ],
                    "table": [
                      {
                        "cells": {
                          "fill": {
                            "color": "#EBF0F8"
                          },
                          "line": {
                            "color": "white"
                          }
                        },
                        "header": {
                          "fill": {
                            "color": "#C8D4E3"
                          },
                          "line": {
                            "color": "white"
                          }
                        },
                        "type": "table"
                      }
                    ]
                  },
                  "layout": {
                    "annotationdefaults": {
                      "arrowcolor": "#2a3f5f",
                      "arrowhead": 0,
                      "arrowwidth": 1
                    },
                    "autotypenumbers": "strict",
                    "coloraxis": {
                      "colorbar": {
                        "outlinewidth": 0,
                        "ticks": ""
                      }
                    },
                    "colorscale": {
                      "diverging": [
                        [
                          0,
                          "#8e0152"
                        ],
                        [
                          0.1,
                          "#c51b7d"
                        ],
                        [
                          0.2,
                          "#de77ae"
                        ],
                        [
                          0.3,
                          "#f1b6da"
                        ],
                        [
                          0.4,
                          "#fde0ef"
                        ],
                        [
                          0.5,
                          "#f7f7f7"
                        ],
                        [
                          0.6,
                          "#e6f5d0"
                        ],
                        [
                          0.7,
                          "#b8e186"
                        ],
                        [
                          0.8,
                          "#7fbc41"
                        ],
                        [
                          0.9,
                          "#4d9221"
                        ],
                        [
                          1,
                          "#276419"
                        ]
                      ],
                      "sequential": [
                        [
                          0,
                          "#0d0887"
                        ],
                        [
                          0.1111111111111111,
                          "#46039f"
                        ],
                        [
                          0.2222222222222222,
                          "#7201a8"
                        ],
                        [
                          0.3333333333333333,
                          "#9c179e"
                        ],
                        [
                          0.4444444444444444,
                          "#bd3786"
                        ],
                        [
                          0.5555555555555556,
                          "#d8576b"
                        ],
                        [
                          0.6666666666666666,
                          "#ed7953"
                        ],
                        [
                          0.7777777777777778,
                          "#fb9f3a"
                        ],
                        [
                          0.8888888888888888,
                          "#fdca26"
                        ],
                        [
                          1,
                          "#f0f921"
                        ]
                      ],
                      "sequentialminus": [
                        [
                          0,
                          "#0d0887"
                        ],
                        [
                          0.1111111111111111,
                          "#46039f"
                        ],
                        [
                          0.2222222222222222,
                          "#7201a8"
                        ],
                        [
                          0.3333333333333333,
                          "#9c179e"
                        ],
                        [
                          0.4444444444444444,
                          "#bd3786"
                        ],
                        [
                          0.5555555555555556,
                          "#d8576b"
                        ],
                        [
                          0.6666666666666666,
                          "#ed7953"
                        ],
                        [
                          0.7777777777777778,
                          "#fb9f3a"
                        ],
                        [
                          0.8888888888888888,
                          "#fdca26"
                        ],
                        [
                          1,
                          "#f0f921"
                        ]
                      ]
                    },
                    "colorway": [
                      "#636efa",
                      "#EF553B",
                      "#00cc96",
                      "#ab63fa",
                      "#FFA15A",
                      "#19d3f3",
                      "#FF6692",
                      "#B6E880",
                      "#FF97FF",
                      "#FECB52"
                    ],
                    "font": {
                      "color": "#2a3f5f"
                    },
                    "geo": {
                      "bgcolor": "white",
                      "lakecolor": "white",
                      "landcolor": "#E5ECF6",
                      "showlakes": true,
                      "showland": true,
                      "subunitcolor": "white"
                    },
                    "hoverlabel": {
                      "align": "left"
                    },
                    "hovermode": "closest",
                    "mapbox": {
                      "style": "light"
                    },
                    "paper_bgcolor": "white",
                    "plot_bgcolor": "#E5ECF6",
                    "polar": {
                      "angularaxis": {
                        "gridcolor": "white",
                        "linecolor": "white",
                        "ticks": ""
                      },
                      "bgcolor": "#E5ECF6",
                      "radialaxis": {
                        "gridcolor": "white",
                        "linecolor": "white",
                        "ticks": ""
                      }
                    },
                    "scene": {
                      "xaxis": {
                        "backgroundcolor": "#E5ECF6",
                        "gridcolor": "white",
                        "gridwidth": 2,
                        "linecolor": "white",
                        "showbackground": true,
                        "ticks": "",
                        "zerolinecolor": "white"
                      },
                      "yaxis": {
                        "backgroundcolor": "#E5ECF6",
                        "gridcolor": "white",
                        "gridwidth": 2,
                        "linecolor": "white",
                        "showbackground": true,
                        "ticks": "",
                        "zerolinecolor": "white"
                      },
                      "zaxis": {
                        "backgroundcolor": "#E5ECF6",
                        "gridcolor": "white",
                        "gridwidth": 2,
                        "linecolor": "white",
                        "showbackground": true,
                        "ticks": "",
                        "zerolinecolor": "white"
                      }
                    },
                    "shapedefaults": {
                      "line": {
                        "color": "#2a3f5f"
                      }
                    },
                    "ternary": {
                      "aaxis": {
                        "gridcolor": "white",
                        "linecolor": "white",
                        "ticks": ""
                      },
                      "baxis": {
                        "gridcolor": "white",
                        "linecolor": "white",
                        "ticks": ""
                      },
                      "bgcolor": "#E5ECF6",
                      "caxis": {
                        "gridcolor": "white",
                        "linecolor": "white",
                        "ticks": ""
                      }
                    },
                    "title": {
                      "x": 0.05
                    },
                    "xaxis": {
                      "automargin": true,
                      "gridcolor": "white",
                      "linecolor": "white",
                      "ticks": "",
                      "title": {
                        "standoff": 15
                      },
                      "zerolinecolor": "white",
                      "zerolinewidth": 2
                    },
                    "yaxis": {
                      "automargin": true,
                      "gridcolor": "white",
                      "linecolor": "white",
                      "ticks": "",
                      "title": {
                        "standoff": 15
                      },
                      "zerolinecolor": "white",
                      "zerolinewidth": 2
                    }
                  }
                },
                "title": {
                  "text": "공익 광고 시청 전후 기부 의식 점수 분포"
                },
                "xaxis": {
                  "anchor": "y",
                  "domain": [
                    0,
                    1
                  ],
                  "title": {
                    "text": "광고 캠페인 단계"
                  }
                },
                "yaxis": {
                  "anchor": "x",
                  "domain": [
                    0,
                    1
                  ],
                  "title": {
                    "text": "기부 의식 점수"
                  }
                }
              }
            }
          },
          "metadata": {},
          "output_type": "display_data"
        }
      ],
      "source": [
        "# 시각화: 광고 전후 점수 분포 비교 (박스 플롯)\n",
        "df_melted = df_campaign.melt(id_vars=['student_id'], value_vars=['pre_score', 'post_score'],\n",
        "                             var_name='campaign_stage', value_name='score')\n",
        "\n",
        "fig_box = px.box(df_melted, x='campaign_stage', y='score',\n",
        "                 title='공익 광고 시청 전후 기부 의식 점수 분포',\n",
        "                 labels={'campaign_stage': '광고 캠페인 단계', 'score': '기부 의식 점수'},\n",
        "                 points=\"all\") # 모든 데이터 포인트 표시\n",
        "fig_box.show()"
      ]
    },
    {
      "cell_type": "markdown",
      "metadata": {
        "id": "1cbPeRlcGxiK"
      },
      "source": [
        "위 예시에서 박스 플롯을 통해 광고 시청 전과 후의 점수 분포를 시각적으로 비교해볼 수 있습니다. 평균 점수가 약간 상승한 것처럼 보이지만, 이것이 통계적으로 유의미한 변화인지는 가설 검정을 통해 판단해야 합니다."
      ]
    },
    {
      "cell_type": "markdown",
      "metadata": {},
      "source": [
        "\n",
        "### ✏️ 연습 문제 (Practice Problems)\n",
        "\n",
        "1.  \"주 4일 근무제 도입이 직장인의 직무 만족도를 변화시키는지\" 연구하고 싶습니다. 이 연구에 대한 **귀무가설($H_0$)** 과 **대립가설($H_1$)** 을 설정해보세요. (양측 검정으로 설정해보세요)"
      ]
    },
    {
      "cell_type": "markdown",
      "metadata": {},
      "source": [
        "* 연습 문제 1번 (마크다운으로 작성)\n",
        " - H0:\n",
        " - H1:"
      ]
    },
    {
      "cell_type": "markdown",
      "metadata": {},
      "source": [
        "2.  어떤 사회학자가 \"소득 수준에 따라 특정 사회 문제에 대한 인식이 다를 것이다\"라고 예측했습니다. 이를 검증하기 위한 **귀무가설($H_0$)** 과 **대립가설($H_1$)** 을 작성해보세요."
      ]
    },
    {
      "cell_type": "markdown",
      "metadata": {},
      "source": [
        "* 연습 문제 2번 (마크다운으로 작성)\n",
        " - H0:\n",
        " - H1:"
      ]
    },
    {
      "cell_type": "markdown",
      "metadata": {
        "id": "_Yii2NHmGxiK"
      },
      "source": [
        "---\n",
        "\n",
        "## 3. ⚖️ 가설 검정의 과정과 판단 기준\n",
        "\n",
        "### 💡 개념 (Concept)\n",
        "\n",
        "가설 검정은 정해진 절차에 따라 이루어지며, 몇 가지 중요한 판단 기준이 사용됩니다.\n",
        "\n",
        "* **가설검정의 절차 (일반적)**:\n",
        "    1.  귀무가설($H_0$)과 대립가설($H_1$)을 설정합니다.\n",
        "    2.  유의수준($\\alpha$)을 결정합니다.\n",
        "    3.  표본 데이터를 수집하고, 검정 통계량(test statistic)을 계산합니다. (검정 통계량은 데이터가 귀무가설을 얼마나 지지하지 않는지를 나타내는 값입니다. 예를 들어 t-값, z-값, $\\chi^2$-값 등이 있습니다. 여기서는 개념만 이해합니다.)\n",
        "    4.  P-값(p-value)을 계산하거나 기각역(rejection region)을 설정합니다.\n",
        "    5.  P-값과 유의수준을 비교하여 통계적 결정을 내립니다. ($P \\le \\alpha$ 이면 $H_0$를 기각, $P > \\alpha$ 이면 $H_0$를 기각하지 못함)\n",
        "\n",
        "* **유의수준 (Significance Level, $\\alpha$)**\n",
        "  * 귀무가설이 실제로 맞는데도 불구하고, 우리가 그것을 틀렸다고 판단(즉, 귀무가설을 기각)할 최대 허용 확률입니다. \n",
        "  * 이는 제1종 오류를 범할 확률의 최댓값이기도 합니다. 연구자가 직접 설정하며, 사회과학에서는 보통 0.05 (5%) 또는 0.01 (1%)을 많이 사용합니다.\n",
        "  * $\\alpha = 0.05$ 라는 것은, 귀무가설이 맞을 때 우연히 극단적인 표본이 뽑혀 귀무가설을 잘못 기각할 확률을 5%까지 허용한다는 의미입니다.\n",
        "\n",
        "* **P-값 (P-value)**: **귀무가설이 참이라고 가정했을 때, 우리가 관찰한 표본 데이터와 같거나 더 극단적인 데이터가 관찰될 확률**입니다.\n",
        "    * P-값이 작을수록 귀무가설이 맞다는 가정 하에 현재와 같은 데이터가 나오기 어렵다는 의미이므로, 귀무가설을 기각할 근거가 강해집니다.\n",
        "    * 판단 기준:\n",
        "        * **$P \\le \\alpha$ (P-값이 유의수준보다 작거나 같으면)**: 귀무가설을 기각하고 대립가설을 채택합니다. \"통계적으로 유의미하다\"고 표현합니다.\n",
        "        * **$P > \\alpha$ (P-값이 유의수준보다 크면)**: 귀무가설을 기각하지 못합니다. (주의: 귀무가설이 맞다고 증명된 것은 아닙니다. 단지 기각할 충분한 근거가 없다는 의미입니다.)\n",
        "\n",
        "* **기각역 (Rejection Region)**: 검정 통계량의 분포에서 귀무가설을 기각하게 되는 값의 영역입니다. 이 영역에 검정 통계량이 위치하면 귀무가설을 기각합니다. 유의수준 $\\alpha$에 의해 크기가 결정됩니다.\n",
        "\n",
        "### 💻 예시 코드 (Example Code)\n",
        "\n",
        "한 도시에서 \"청소년 대상 금융 교육 프로그램이 금융 이해도를 높이는지\"에 대한 연구를 진행했고, 가설 검정 결과 P-값이 0.03으로 나왔다고 가정합시다. 유의수준은 0.05로 설정했습니다."
      ]
    },
    {
      "cell_type": "code",
      "execution_count": 3,
      "metadata": {
        "id": "2lS1FPWUGxiL"
      },
      "outputs": [
        {
          "name": "stdout",
          "output_type": "stream",
          "text": [
            "계산된 P-값: 0.03\n",
            "설정된 유의수준 (alpha): 0.05\n",
            "결론: P-값 (0.03) <= 유의수준 (0.05) 이므로, 귀무가설을 기각합니다.\n",
            "즉, 금융 교육 프로그램은 청소년의 금융 이해도를 높이는 데 통계적으로 유의미한 효과가 있다고 볼 수 있습니다.\n"
          ]
        }
      ],
      "source": [
        "# 가설 검정 결과 (가정)\n",
        "p_value_education = 0.03\n",
        "alpha = 0.05  # 유의수준\n",
        "\n",
        "print(f\"계산된 P-값: {p_value_education}\")\n",
        "print(f\"설정된 유의수준 (alpha): {alpha}\")\n",
        "\n",
        "# 통계적 결정\n",
        "if p_value_education <= alpha:\n",
        "    print(f\"결론: P-값 ({p_value_education}) <= 유의수준 ({alpha}) 이므로, 귀무가설을 기각합니다.\")\n",
        "    print(\"즉, 금융 교육 프로그램은 청소년의 금융 이해도를 높이는 데 통계적으로 유의미한 효과가 있다고 볼 수 있습니다.\")\n",
        "else:\n",
        "    print(f\"결론: P-값 ({p_value_education}) > 유의수준 ({alpha}) 이므로, 귀무가설을 기각하지 못합니다.\")\n",
        "    print(\"즉, 금융 교육 프로그램이 청소년의 금융 이해도를 높인다고 말할 충분한 통계적 근거가 없습니다.\")"
      ]
    },
    {
      "cell_type": "code",
      "execution_count": 5,
      "metadata": {},
      "outputs": [
        {
          "data": {
            "application/vnd.plotly.v1+json": {
              "config": {
                "plotlyServerURL": "https://plot.ly"
              },
              "data": [
                {
                  "mode": "lines",
                  "name": "검정 통계량 분포 (가정)",
                  "type": "scatter",
                  "x": {
                    "bdata": "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",
                    "dtype": "f8"
                  },
                  "y": {
                    "bdata": "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",
                    "dtype": "f8"
                  }
                },
                {
                  "fill": "tozeroy",
                  "fillcolor": "rgba(255,0,0,0.3)",
                  "mode": "lines",
                  "name": "기각역 (alpha=0.05)",
                  "type": "scatter",
                  "x": {
                    "bdata": "umpnCVJR+j/ajSBPY4n6P/mw2ZR0wfo/GdSS2oX5+j8590sglzH7P1kaBWaoafs/eD2+q7mh+z+YYHfxytn7P7iDMDfcEfw/2KbpfO1J/D/3yaLC/oH8PxftWwgQuvw/NxAVTiHy/D9WM86TMir9P3ZWh9lDYv0/lnlAH1Wa/T+2nPlkZtL9P9a/sqp3Cv4/9eJr8IhC/j8VBiU2mnr+PzUp3nursv4/VEyXwbzq/j90b1AHziL/P5SSCU3fWv8/tLXCkvCS/z/T2HvYAcv/P/p9Go+JAQBAiQ/3MZIdAEAZodPUmjkAQKkysHejVQBAOcSMGqxxAEDJVWm9tI0AQFnnRWC9qQBA6XgiA8bFAEB4Cv+lzuEAQAic20jX/QBAmC24698ZAUAov5SO6DUBQLhQcTHxUQFASOJN1PltAUDYcyp3AooBQGgFBxoLpgFA+JbjvBPCAUCHKMBfHN4BQBe6nAIl+gFAp0t5pS0WAkA33VVINjICQMduMus+TgJAVgAPjkdqAkDmkeswUIYCQHYjyNNYogJABrWkdmG+AkCWRoEZatoCQCbYXbxy9gJAtmk6X3sSA0BG+xYChC4DQNaM86SMSgNAZh7QR5VmA0D1r6zqnYIDQIVBiY2mngNAFdNlMK+6A0ClZELTt9YDQDX2HnbA8gNAxYf7GMkOBEBUGdi70SoEQOSqtF7aRgRAdDyRAeNiBEAEzm2k634EQJRfSkf0mgRAJPEm6vy2BEC0ggONBdMEQEQU4C8O7wRA1KW80hYLBUBjN5l1HycFQPPIdRgoQwVAg1pSuzBfBUAT7C5eOXsFQKN9CwFClwVAMg/oo0qzBUDCoMRGU88FQFIyoelb6wVA4sN9jGQHBkByVVovbSMGQALnNtJ1PwZAkngTdX5bBkAiCvAXh3cGQLKbzLqPkwZAQi2pXZivBkDSvoUAocsGQGFQYqOp5wZA8eE+RrIDB0CBcxvpuh8HQBEF+IvDOwdAoJbULsxXB0AwKLHR1HMHQMC5jXTdjwdAUEtqF+arB0Dg3Ea67scHQHBuI1334wdAAAAAAAAACEA=",
                    "dtype": "f8"
                  },
                  "y": {
                    "bdata": "Rth26hhnuj8HBRfR/s+5P0adb54PO7k/7rDu8EyouD/NJHcOuBe4P0TlJeZRibc/NFQhEhv9tj9WMnLZE3O2P4hF5TE867U/0/70wZNltT8vZbriGeK0P3uL5KHNYLQ/49q1w63hsz/cfAbFuGSzP/wyS93s6bI/be2fAEhxsj8GdNXhx/qxPyZ5gfRphrE/8HAQbysUsT/xithMCaSwPx0wLVAANrA/PdXkCBqUrz+LQl+AV8CuP3goQk6x8K0/txmPWB8lrT8MbusnmV2sP9Y8tesVmqs/P54Rfozaqj+MOfNn8x6qPxEyGOVAZ6k/q4v+52qzqD+nKs4dZwOoP6KbN/IqV6c/oNlGk6uupj9AUin13QmmP29x5tW2aKU/2AcKwSrLpD9W6D8TLjGkP9Qi4P20mqM/H0xrirMHoz/ES/adHXiiP34yhfzm66E/36RUTANjoT8TbxEZZt2gP8Tf/dYCW6A/LCIJzJm3nz+qnnApb7+eP4argUZszZ0/3ERojHfhnD9ZVLhSd/ubP9180eRRG5s/hPsah+1Amj+CYRd8MGyZP2/3TwkBnZg/7KoXfEXTlz8AdSUu5A6XP+o1BorDT5Y/XRBmD8qVlT+EWzFX3uCUP1ZPjRfnMJQ/c5uoJ8uFkz+iI2SDcd+SPywp1E7BPZI/SDKa2aGgkT94Cxii+geRP0RIfFizc5A/vGRRw2fHjz8iPeazyK+OPz5Pgi9aoI0/663+W+2YjD/QlOjcU5mLP5Ta4NdfoYo/AMO1+OOwiT+mdjh1s8eIP5dwzxCi5Yc/RD3HH4QKhz917mKKLjaGP1mxrc92aIU/PfsOCDOhhD8GyKLnOeCDP0hsV8BiJYM/KIHSg4Vwgj/BdR7FesGBP5VUIrobGIE/gk/lPEJ0gD9CTD+Zkat/P//5NB0VeX4/tXjAncZQfT/jG34BXzJ8PxkiPn6YHXs/VrVbmS4Sej/frsEn3g95P3BCoE1lFng/nLPWfYMldz/ILhR5+Tx2PybbskyJXHU/HTFQUfaDdD93mSUpBbNzP4dPJL576XI/iXbXPyEncj8=",
                    "dtype": "f8"
                  }
                },
                {
                  "fill": "tozeroy",
                  "fillcolor": "rgba(0,0,255,0.3)",
                  "mode": "lines",
                  "name": "P-value 영역 (P=0.03)",
                  "type": "scatter",
                  "x": {
                    "bdata": "P5HYCbsX/j/Hj5BPCUb+P1COSJVXdP4/2IwA26Wi/j9hi7gg9ND+P+mJcGZC//4/cogorJAt/z/6huDx3lv/P4KFmDctiv8/C4RQfXu4/z+TggjDyeb/P45AYASMCgBA0j88J7MhAEAWPxhK2jgAQFo+9GwBUABAnz3QjyhnAEDjPKyyT34AQCc8iNV2lQBAaztk+J2sAECvOkAbxcMAQPQ5HD7s2gBAODn4YBPyAEB8ONSDOgkBQMA3sKZhIAFABDeMyYg3AUBJNmjsr04BQI01RA/XZQFA0TQgMv58AUAVNPxUJZQBQFoz2HdMqwFAnjK0mnPCAUDiMZC9mtkBQCYxbODB8AFAajBIA+kHAkCuLyQmEB8CQPMuAEk3NgJANy7ca15NAkB7LbiOhWQCQL8slLGsewJABCxw1NOSAkBIK0z3+qkCQIwqKBoiwQJA0CkEPUnYAkAUKeBfcO8CQFkovIKXBgNAnSeYpb4dA0DhJnTI5TQDQCUmUOsMTANAaiUsDjRjA0CuJAgxW3oDQPIj5FOCkQNANiPAdqmoA0B6IpyZ0L8DQL4heLz31gNAAyFU3x7uA0BHIDACRgUEQIsfDCVtHARAzx7oR5QzBEAUHsRqu0oEQFgdoI3iYQRAnBx8sAl5BEDgG1jTMJAEQCQbNPZXpwRAaBoQGX++BECtGew7ptUEQPEYyF7N7ARANRikgfQDBUB5F4CkGxsFQL4WXMdCMgVAAhY46mlJBUBGFRQNkWAFQIoU8C+4dwVAzhPMUt+OBUASE6h1BqYFQFcShJgtvQVAmxFgu1TUBUDfEDzee+sFQCQQGAGjAgZAaA/0I8oZBkCsDtBG8TAGQPANrGkYSAZANA2IjD9fBkB4DGSvZnYGQL0LQNKNjQZAAQsc9bSkBkBFCvgX3LsGQIkJ1DoD0wZAzgiwXSrqBkASCIyAUQEHQFYHaKN4GAdAmgZExp8vB0DeBSDpxkYHQCIF/AvuXQdAZwTYLhV1B0CrA7RRPIwHQO8CkHRjowdANAJsl4q6B0B4AUi6sdEHQLwAJN3Y6AdAAAAAAAAACEA=",
                    "dtype": "f8"
                  },
                  "y": {
                    "bdata": "pfIWhDJrsT8LT7/tGg2xP011YM9zsLA/clJRVjtVsD8VPXws3/avP+7D6BMdRq8/3kRdKCyYrj/EJL8ACO2tP187+QasRK0/YWCPeROfrD8oJjBtOfyrP05+RM4YXKs/qwZ9Yqy+qj+RvlzK7iOqP73mwILai6k/PtBl5mn2qD+MYGgvl2OoPwATxHhc06c/eULNv7NFpz9Gh6fllrqmPw34t7D/MaY/fB4TzuerpT/vcebSSCilP4Yt3T0cp6Q/8VeAeFsopD8j1pHY/6ujP+9jYqECMqM/KE8iBV26oj/Z1CwmCEWiPzUBThj90aE/evUC4jRhoT+ZeLR9qPKgP9e569pQhqA/Fi6B3yYcoD9S5YrRRmifP7FESJl+nJ4/ShaBtebUnT8Sahi7cBGdPwlYrjYOUpw/fAK0rrCWmz/l8XKlSd+aP7S4B5vKK5o/dtFPDyV8mT9XrMqDStCYP0nkbX0sKJg/uZdshryDlz/F4vEv7OKWPwR9zhOtRZY/134Z1vCrlT+kVcQmqRWVP4DwIcPHgpQ/DzJhdz7zkz+Otvof/2aTPz3/Eav73ZI/QRfKGSZYkj8NyI2BcNWRP2N1Sw3NVZE/xruk/i3ZkD9p7RGvhV+QP8gY8yGN0Y8/+8N3Ycbpjj8Gq2VrnAeOP2FMTMb0Ko0//FpoMrVTjD9moV6rw4GLP3GU4GkGtYo/u+c65WPtiT9Ke87UwiqJPy35czEKbYg/2H7KNiG0hz+VrXFk7/+GP8CBL39cUIY/M1ACklClhT9LTB/vs/6EP6T53TBvXIQ/gu6QOmu+gz9tTEw5kSSDP3tWmqTKjoI/24wePwH9gT8mticXH2+BP0FAMYcO5YA/RGJUNrpegD+l01IxGrh/P+A8M9/kuX4/T0tElKvCfT/spBAKRtJ8P0WW/5WM6Hs/vN+FKVgFez/42DtSgih6P5G+2TnlUXk/5PwapluBeD9MSon4wLZ3P/dgMC7x8XY/8ic738gydj/xGHs+JXl1P56u2hjkxHQ/i6W71OMVdD/p10FxA2xzP1R5i4Uix3I/iXbXPyEncj8=",
                    "dtype": "f8"
                  }
                }
              ],
              "layout": {
                "annotations": [
                  {
                    "showarrow": false,
                    "text": "임계값: 1.64",
                    "x": 1.644853626951472,
                    "xanchor": "center",
                    "xref": "x",
                    "y": 0,
                    "yanchor": "top",
                    "yref": "y domain"
                  },
                  {
                    "showarrow": false,
                    "text": "관찰된 Z (P-value=0.03)",
                    "x": 1.8807936081512506,
                    "xanchor": "left",
                    "xref": "x",
                    "y": 1,
                    "yanchor": "top",
                    "yref": "y domain"
                  }
                ],
                "shapes": [
                  {
                    "line": {
                      "color": "red",
                      "dash": "dash"
                    },
                    "type": "line",
                    "x0": 1.644853626951472,
                    "x1": 1.644853626951472,
                    "xref": "x",
                    "y0": 0,
                    "y1": 1,
                    "yref": "y domain"
                  },
                  {
                    "line": {
                      "color": "blue",
                      "dash": "dash"
                    },
                    "type": "line",
                    "x0": 1.8807936081512506,
                    "x1": 1.8807936081512506,
                    "xref": "x",
                    "y0": 0,
                    "y1": 1,
                    "yref": "y domain"
                  }
                ],
                "template": {
                  "data": {
                    "bar": [
                      {
                        "error_x": {
                          "color": "#2a3f5f"
                        },
                        "error_y": {
                          "color": "#2a3f5f"
                        },
                        "marker": {
                          "line": {
                            "color": "#E5ECF6",
                            "width": 0.5
                          },
                          "pattern": {
                            "fillmode": "overlay",
                            "size": 10,
                            "solidity": 0.2
                          }
                        },
                        "type": "bar"
                      }
                    ],
                    "barpolar": [
                      {
                        "marker": {
                          "line": {
                            "color": "#E5ECF6",
                            "width": 0.5
                          },
                          "pattern": {
                            "fillmode": "overlay",
                            "size": 10,
                            "solidity": 0.2
                          }
                        },
                        "type": "barpolar"
                      }
                    ],
                    "carpet": [
                      {
                        "aaxis": {
                          "endlinecolor": "#2a3f5f",
                          "gridcolor": "white",
                          "linecolor": "white",
                          "minorgridcolor": "white",
                          "startlinecolor": "#2a3f5f"
                        },
                        "baxis": {
                          "endlinecolor": "#2a3f5f",
                          "gridcolor": "white",
                          "linecolor": "white",
                          "minorgridcolor": "white",
                          "startlinecolor": "#2a3f5f"
                        },
                        "type": "carpet"
                      }
                    ],
                    "choropleth": [
                      {
                        "colorbar": {
                          "outlinewidth": 0,
                          "ticks": ""
                        },
                        "type": "choropleth"
                      }
                    ],
                    "contour": [
                      {
                        "colorbar": {
                          "outlinewidth": 0,
                          "ticks": ""
                        },
                        "colorscale": [
                          [
                            0,
                            "#0d0887"
                          ],
                          [
                            0.1111111111111111,
                            "#46039f"
                          ],
                          [
                            0.2222222222222222,
                            "#7201a8"
                          ],
                          [
                            0.3333333333333333,
                            "#9c179e"
                          ],
                          [
                            0.4444444444444444,
                            "#bd3786"
                          ],
                          [
                            0.5555555555555556,
                            "#d8576b"
                          ],
                          [
                            0.6666666666666666,
                            "#ed7953"
                          ],
                          [
                            0.7777777777777778,
                            "#fb9f3a"
                          ],
                          [
                            0.8888888888888888,
                            "#fdca26"
                          ],
                          [
                            1,
                            "#f0f921"
                          ]
                        ],
                        "type": "contour"
                      }
                    ],
                    "contourcarpet": [
                      {
                        "colorbar": {
                          "outlinewidth": 0,
                          "ticks": ""
                        },
                        "type": "contourcarpet"
                      }
                    ],
                    "heatmap": [
                      {
                        "colorbar": {
                          "outlinewidth": 0,
                          "ticks": ""
                        },
                        "colorscale": [
                          [
                            0,
                            "#0d0887"
                          ],
                          [
                            0.1111111111111111,
                            "#46039f"
                          ],
                          [
                            0.2222222222222222,
                            "#7201a8"
                          ],
                          [
                            0.3333333333333333,
                            "#9c179e"
                          ],
                          [
                            0.4444444444444444,
                            "#bd3786"
                          ],
                          [
                            0.5555555555555556,
                            "#d8576b"
                          ],
                          [
                            0.6666666666666666,
                            "#ed7953"
                          ],
                          [
                            0.7777777777777778,
                            "#fb9f3a"
                          ],
                          [
                            0.8888888888888888,
                            "#fdca26"
                          ],
                          [
                            1,
                            "#f0f921"
                          ]
                        ],
                        "type": "heatmap"
                      }
                    ],
                    "histogram": [
                      {
                        "marker": {
                          "pattern": {
                            "fillmode": "overlay",
                            "size": 10,
                            "solidity": 0.2
                          }
                        },
                        "type": "histogram"
                      }
                    ],
                    "histogram2d": [
                      {
                        "colorbar": {
                          "outlinewidth": 0,
                          "ticks": ""
                        },
                        "colorscale": [
                          [
                            0,
                            "#0d0887"
                          ],
                          [
                            0.1111111111111111,
                            "#46039f"
                          ],
                          [
                            0.2222222222222222,
                            "#7201a8"
                          ],
                          [
                            0.3333333333333333,
                            "#9c179e"
                          ],
                          [
                            0.4444444444444444,
                            "#bd3786"
                          ],
                          [
                            0.5555555555555556,
                            "#d8576b"
                          ],
                          [
                            0.6666666666666666,
                            "#ed7953"
                          ],
                          [
                            0.7777777777777778,
                            "#fb9f3a"
                          ],
                          [
                            0.8888888888888888,
                            "#fdca26"
                          ],
                          [
                            1,
                            "#f0f921"
                          ]
                        ],
                        "type": "histogram2d"
                      }
                    ],
                    "histogram2dcontour": [
                      {
                        "colorbar": {
                          "outlinewidth": 0,
                          "ticks": ""
                        },
                        "colorscale": [
                          [
                            0,
                            "#0d0887"
                          ],
                          [
                            0.1111111111111111,
                            "#46039f"
                          ],
                          [
                            0.2222222222222222,
                            "#7201a8"
                          ],
                          [
                            0.3333333333333333,
                            "#9c179e"
                          ],
                          [
                            0.4444444444444444,
                            "#bd3786"
                          ],
                          [
                            0.5555555555555556,
                            "#d8576b"
                          ],
                          [
                            0.6666666666666666,
                            "#ed7953"
                          ],
                          [
                            0.7777777777777778,
                            "#fb9f3a"
                          ],
                          [
                            0.8888888888888888,
                            "#fdca26"
                          ],
                          [
                            1,
                            "#f0f921"
                          ]
                        ],
                        "type": "histogram2dcontour"
                      }
                    ],
                    "mesh3d": [
                      {
                        "colorbar": {
                          "outlinewidth": 0,
                          "ticks": ""
                        },
                        "type": "mesh3d"
                      }
                    ],
                    "parcoords": [
                      {
                        "line": {
                          "colorbar": {
                            "outlinewidth": 0,
                            "ticks": ""
                          }
                        },
                        "type": "parcoords"
                      }
                    ],
                    "pie": [
                      {
                        "automargin": true,
                        "type": "pie"
                      }
                    ],
                    "scatter": [
                      {
                        "fillpattern": {
                          "fillmode": "overlay",
                          "size": 10,
                          "solidity": 0.2
                        },
                        "type": "scatter"
                      }
                    ],
                    "scatter3d": [
                      {
                        "line": {
                          "colorbar": {
                            "outlinewidth": 0,
                            "ticks": ""
                          }
                        },
                        "marker": {
                          "colorbar": {
                            "outlinewidth": 0,
                            "ticks": ""
                          }
                        },
                        "type": "scatter3d"
                      }
                    ],
                    "scattercarpet": [
                      {
                        "marker": {
                          "colorbar": {
                            "outlinewidth": 0,
                            "ticks": ""
                          }
                        },
                        "type": "scattercarpet"
                      }
                    ],
                    "scattergeo": [
                      {
                        "marker": {
                          "colorbar": {
                            "outlinewidth": 0,
                            "ticks": ""
                          }
                        },
                        "type": "scattergeo"
                      }
                    ],
                    "scattergl": [
                      {
                        "marker": {
                          "colorbar": {
                            "outlinewidth": 0,
                            "ticks": ""
                          }
                        },
                        "type": "scattergl"
                      }
                    ],
                    "scattermap": [
                      {
                        "marker": {
                          "colorbar": {
                            "outlinewidth": 0,
                            "ticks": ""
                          }
                        },
                        "type": "scattermap"
                      }
                    ],
                    "scattermapbox": [
                      {
                        "marker": {
                          "colorbar": {
                            "outlinewidth": 0,
                            "ticks": ""
                          }
                        },
                        "type": "scattermapbox"
                      }
                    ],
                    "scatterpolar": [
                      {
                        "marker": {
                          "colorbar": {
                            "outlinewidth": 0,
                            "ticks": ""
                          }
                        },
                        "type": "scatterpolar"
                      }
                    ],
                    "scatterpolargl": [
                      {
                        "marker": {
                          "colorbar": {
                            "outlinewidth": 0,
                            "ticks": ""
                          }
                        },
                        "type": "scatterpolargl"
                      }
                    ],
                    "scatterternary": [
                      {
                        "marker": {
                          "colorbar": {
                            "outlinewidth": 0,
                            "ticks": ""
                          }
                        },
                        "type": "scatterternary"
                      }
                    ],
                    "surface": [
                      {
                        "colorbar": {
                          "outlinewidth": 0,
                          "ticks": ""
                        },
                        "colorscale": [
                          [
                            0,
                            "#0d0887"
                          ],
                          [
                            0.1111111111111111,
                            "#46039f"
                          ],
                          [
                            0.2222222222222222,
                            "#7201a8"
                          ],
                          [
                            0.3333333333333333,
                            "#9c179e"
                          ],
                          [
                            0.4444444444444444,
                            "#bd3786"
                          ],
                          [
                            0.5555555555555556,
                            "#d8576b"
                          ],
                          [
                            0.6666666666666666,
                            "#ed7953"
                          ],
                          [
                            0.7777777777777778,
                            "#fb9f3a"
                          ],
                          [
                            0.8888888888888888,
                            "#fdca26"
                          ],
                          [
                            1,
                            "#f0f921"
                          ]
                        ],
                        "type": "surface"
                      }
                    ],
                    "table": [
                      {
                        "cells": {
                          "fill": {
                            "color": "#EBF0F8"
                          },
                          "line": {
                            "color": "white"
                          }
                        },
                        "header": {
                          "fill": {
                            "color": "#C8D4E3"
                          },
                          "line": {
                            "color": "white"
                          }
                        },
                        "type": "table"
                      }
                    ]
                  },
                  "layout": {
                    "annotationdefaults": {
                      "arrowcolor": "#2a3f5f",
                      "arrowhead": 0,
                      "arrowwidth": 1
                    },
                    "autotypenumbers": "strict",
                    "coloraxis": {
                      "colorbar": {
                        "outlinewidth": 0,
                        "ticks": ""
                      }
                    },
                    "colorscale": {
                      "diverging": [
                        [
                          0,
                          "#8e0152"
                        ],
                        [
                          0.1,
                          "#c51b7d"
                        ],
                        [
                          0.2,
                          "#de77ae"
                        ],
                        [
                          0.3,
                          "#f1b6da"
                        ],
                        [
                          0.4,
                          "#fde0ef"
                        ],
                        [
                          0.5,
                          "#f7f7f7"
                        ],
                        [
                          0.6,
                          "#e6f5d0"
                        ],
                        [
                          0.7,
                          "#b8e186"
                        ],
                        [
                          0.8,
                          "#7fbc41"
                        ],
                        [
                          0.9,
                          "#4d9221"
                        ],
                        [
                          1,
                          "#276419"
                        ]
                      ],
                      "sequential": [
                        [
                          0,
                          "#0d0887"
                        ],
                        [
                          0.1111111111111111,
                          "#46039f"
                        ],
                        [
                          0.2222222222222222,
                          "#7201a8"
                        ],
                        [
                          0.3333333333333333,
                          "#9c179e"
                        ],
                        [
                          0.4444444444444444,
                          "#bd3786"
                        ],
                        [
                          0.5555555555555556,
                          "#d8576b"
                        ],
                        [
                          0.6666666666666666,
                          "#ed7953"
                        ],
                        [
                          0.7777777777777778,
                          "#fb9f3a"
                        ],
                        [
                          0.8888888888888888,
                          "#fdca26"
                        ],
                        [
                          1,
                          "#f0f921"
                        ]
                      ],
                      "sequentialminus": [
                        [
                          0,
                          "#0d0887"
                        ],
                        [
                          0.1111111111111111,
                          "#46039f"
                        ],
                        [
                          0.2222222222222222,
                          "#7201a8"
                        ],
                        [
                          0.3333333333333333,
                          "#9c179e"
                        ],
                        [
                          0.4444444444444444,
                          "#bd3786"
                        ],
                        [
                          0.5555555555555556,
                          "#d8576b"
                        ],
                        [
                          0.6666666666666666,
                          "#ed7953"
                        ],
                        [
                          0.7777777777777778,
                          "#fb9f3a"
                        ],
                        [
                          0.8888888888888888,
                          "#fdca26"
                        ],
                        [
                          1,
                          "#f0f921"
                        ]
                      ]
                    },
                    "colorway": [
                      "#636efa",
                      "#EF553B",
                      "#00cc96",
                      "#ab63fa",
                      "#FFA15A",
                      "#19d3f3",
                      "#FF6692",
                      "#B6E880",
                      "#FF97FF",
                      "#FECB52"
                    ],
                    "font": {
                      "color": "#2a3f5f"
                    },
                    "geo": {
                      "bgcolor": "white",
                      "lakecolor": "white",
                      "landcolor": "#E5ECF6",
                      "showlakes": true,
                      "showland": true,
                      "subunitcolor": "white"
                    },
                    "hoverlabel": {
                      "align": "left"
                    },
                    "hovermode": "closest",
                    "mapbox": {
                      "style": "light"
                    },
                    "paper_bgcolor": "white",
                    "plot_bgcolor": "#E5ECF6",
                    "polar": {
                      "angularaxis": {
                        "gridcolor": "white",
                        "linecolor": "white",
                        "ticks": ""
                      },
                      "bgcolor": "#E5ECF6",
                      "radialaxis": {
                        "gridcolor": "white",
                        "linecolor": "white",
                        "ticks": ""
                      }
                    },
                    "scene": {
                      "xaxis": {
                        "backgroundcolor": "#E5ECF6",
                        "gridcolor": "white",
                        "gridwidth": 2,
                        "linecolor": "white",
                        "showbackground": true,
                        "ticks": "",
                        "zerolinecolor": "white"
                      },
                      "yaxis": {
                        "backgroundcolor": "#E5ECF6",
                        "gridcolor": "white",
                        "gridwidth": 2,
                        "linecolor": "white",
                        "showbackground": true,
                        "ticks": "",
                        "zerolinecolor": "white"
                      },
                      "zaxis": {
                        "backgroundcolor": "#E5ECF6",
                        "gridcolor": "white",
                        "gridwidth": 2,
                        "linecolor": "white",
                        "showbackground": true,
                        "ticks": "",
                        "zerolinecolor": "white"
                      }
                    },
                    "shapedefaults": {
                      "line": {
                        "color": "#2a3f5f"
                      }
                    },
                    "ternary": {
                      "aaxis": {
                        "gridcolor": "white",
                        "linecolor": "white",
                        "ticks": ""
                      },
                      "baxis": {
                        "gridcolor": "white",
                        "linecolor": "white",
                        "ticks": ""
                      },
                      "bgcolor": "#E5ECF6",
                      "caxis": {
                        "gridcolor": "white",
                        "linecolor": "white",
                        "ticks": ""
                      }
                    },
                    "title": {
                      "x": 0.05
                    },
                    "xaxis": {
                      "automargin": true,
                      "gridcolor": "white",
                      "linecolor": "white",
                      "ticks": "",
                      "title": {
                        "standoff": 15
                      },
                      "zerolinecolor": "white",
                      "zerolinewidth": 2
                    },
                    "yaxis": {
                      "automargin": true,
                      "gridcolor": "white",
                      "linecolor": "white",
                      "ticks": "",
                      "title": {
                        "standoff": 15
                      },
                      "zerolinecolor": "white",
                      "zerolinewidth": 2
                    }
                  }
                },
                "title": {
                  "text": "P-값과 기각역의 개념적 시각화 (단측 검정, 오른쪽 꼬리)"
                },
                "xaxis": {
                  "title": {
                    "text": "검정 통계량 Z (가정)"
                  }
                },
                "yaxis": {
                  "title": {
                    "text": "확률 밀도"
                  }
                }
              }
            }
          },
          "metadata": {},
          "output_type": "display_data"
        }
      ],
      "source": [
        "# P-값과 유의수준을 시각적으로 표현하기 위한 간단한 예시 (정규분포 가정)\n",
        "# 실제 검정 통계량의 분포를 그려야 하지만, 여기서는 개념 이해를 돕기 위함입니다.\n",
        "import numpy as np\n",
        "import plotly.graph_objects as go\n",
        "from scipy.stats import norm\n",
        "\n",
        "# 표준 정규 분포 생성\n",
        "x_norm = np.linspace(-3, 3, 500)\n",
        "y_norm = norm.pdf(x_norm, 0, 1)\n",
        "\n",
        "# 유의수준에 해당하는 임계값 (양측검정의 경우 alpha/2, 단측검정은 alpha)\n",
        "# 여기서는 단측 검정 (효과가 있다)을 가정하고 오른쪽 꼬리만 고려\n",
        "critical_value = norm.ppf(1 - alpha) # P(Z > critical_value) = alpha\n",
        "\n",
        "fig_dist = go.Figure()\n",
        "fig_dist.add_trace(go.Scatter(x=x_norm, y=y_norm, mode='lines', name='검정 통계량 분포 (가정)'))\n",
        "\n",
        "# 기각역 (Rejection Region) 표시\n",
        "x_rejection = np.linspace(critical_value, 3, 100)\n",
        "y_rejection = norm.pdf(x_rejection, 0, 1)\n",
        "fig_dist.add_trace(go.Scatter(x=x_rejection, y=y_rejection, fill='tozeroy', mode='lines',\n",
        "                              name=f'기각역 (alpha={alpha})', fillcolor='rgba(255,0,0,0.3)'))\n",
        "\n",
        "# P-값에 해당하는 영역 표시 (실제로는 검정통계량 값으로 표시)\n",
        "# 여기서는 P-값이 0.03이므로, Z값이 norm.ppf(1-0.03)일 때의 영역을 가정하여 표시\n",
        "p_value_z = norm.ppf(1 - p_value_education)\n",
        "x_p_value_fill = np.linspace(p_value_z, 3, 100)\n",
        "y_p_value_fill = norm.pdf(x_p_value_fill, 0, 1)\n",
        "fig_dist.add_trace(go.Scatter(x=x_p_value_fill, y=y_p_value_fill, fill='tozeroy', mode='lines',\n",
        "                              name=f'P-value 영역 (P={p_value_education})', fillcolor='rgba(0,0,255,0.3)'))\n",
        "\n",
        "\n",
        "fig_dist.update_layout(title_text='P-값과 기각역의 개념적 시각화 (단측 검정, 오른쪽 꼬리)',\n",
        "                       xaxis_title='검정 통계량 Z (가정)', yaxis_title='확률 밀도')\n",
        "fig_dist.add_vline(\n",
        "    x=critical_value,\n",
        "    line_dash=\"dash\",\n",
        "    line_color=\"red\",\n",
        "    annotation_text=f\"임계값: {critical_value:.2f}\",\n",
        "    annotation_position=\"bottom\"\n",
        ")\n",
        "if p_value_z > critical_value: # P-value가 기각역에 해당하면\n",
        "    fig_dist.add_vline(x=p_value_z, line_dash=\"dash\", line_color=\"blue\" , annotation_text=f\"관찰된 Z (P-value={p_value_education})\")\n",
        "\n",
        "\n",
        "fig_dist.show()"
      ]
    },
    {
      "cell_type": "markdown",
      "metadata": {
        "id": "VNxc8z1SGxiL"
      },
      "source": [
        "위 시각화는 P-값과 기각역의 개념을 보여주기 위한 단순화된 예시입니다. 실제로는 해당 검정 방법에 맞는 검정 통계량 분포를 사용해야 합니다. P-값이 기각역 내에 위치하면 (즉, P-값이 $\\alpha$보다 작으면) 귀무가설을 기각합니다.\n"
      ]
    },
    {
      "cell_type": "markdown",
      "metadata": {},
      "source": [
        "\n",
        "### ✏️ 연습 문제\n",
        "\n",
        "1.  어떤 사회복지 프로그램의 효과를 검증한 결과, P-값이 0.072로 나왔습니다. 연구자가 설정한 유의수준($\\alpha$)이 0.05라면, 이 연구의 귀무가설은 기각될까요? 그 이유는 무엇이며, 이 결과를 어떻게 해석해야 할까요?"
      ]
    },
    {
      "cell_type": "markdown",
      "metadata": {},
      "source": [
        "> 작성공간\n",
        "1. P-value = 0.072, alpha = 0.05 일 때\n",
        "* 결론:\n",
        "* 이유:\n",
        "* 해석:"
      ]
    },
    {
      "cell_type": "markdown",
      "metadata": {},
      "source": [
        "2.  만약 위 1번 문제에서 연구자가 유의수준($\\alpha$)을 0.1로 설정했다면 결론이 달라질까요? 달라진다면 어떻게 달라지는지 설명하고, 유의수준 설정의 중요성에 대해 간략히 이야기해보세요."
      ]
    },
    {
      "cell_type": "markdown",
      "metadata": {},
      "source": [
        "> 작성공간\n",
        "\n",
        "2. P-value = 0.072, alpha = 0.1 일 때\n",
        "* 결론:\n",
        "* 이유:\n",
        "* 유의수준 설정의 중요성:"
      ]
    },
    {
      "cell_type": "markdown",
      "metadata": {
        "id": "3RTHbNSTGxiL"
      },
      "source": [
        "---\n",
        "\n",
        "## 4. ⚠️ 가설 검정의 두 가지 오류\n",
        "\n",
        "### 💡 개념 (Concept)\n",
        "\n",
        "가설 검정은 표본 데이터를 기반으로 모집단에 대한 판단을 내리기 때문에 항상 오류의 가능성을 안고 있습니다. 가설 검정에서 발생할 수 있는 두 가지 유형의 오류는 다음과 같습니다.\n",
        "\n",
        "* **제1종 오류 (Type I Error, $\\alpha$ 오류)**: **귀무가설($H_0$)이 실제로 참인데, 귀무가설을 기각하는 오류**입니다.\n",
        "    * \"False Positive\"라고도 합니다.\n",
        "    * 제1종 오류를 범할 최대 허용 확률이 바로 앞에서 배운 **유의수준($\\alpha$)** 입니다.\n",
        "    * 사회과학 예시:\n",
        "        * \"효과 없는 정책을 효과가 있다고 잘못 판단하여 예산을 낭비하는 경우.\"\n",
        "        * \"차이가 없는 두 집단 간에 차이가 있다고 잘못 결론 내리는 경우.\"\n",
        "\n",
        "* **제2종 오류 (Type II Error, $\\beta$ 오류)**: **귀무가설($H_0$)이 실제로 거짓인데 (즉, 대립가설($H_1$)이 참인데), 귀무가설을 기각하지 못하는 오류**입니다.\n",
        "    * \"False Negative\"라고도 합니다.\n",
        "    * 제2종 오류를 범할 확률을 $\\beta$(베타)라고 합니다.\n",
        "    * 사회과학 예시:\n",
        "        * \"실제로 효과가 있는 정책을 효과가 없다고 잘못 판단하여 좋은 정책을 도입하지 못하는 경우.\"\n",
        "        * \"실제로 차이가 있는 두 집단 간에 차이가 없다고 잘못 결론 내리는 경우.\"\n",
        "\n",
        "|                      | $H_0$가 참 (효과 없음) | $H_0$가 거짓 (효과 있음) |\n",
        "| :------------------- | :-------------------- | :---------------------- |\n",
        "| **$H_0$ 기각 (효과 있다 판단)** | 제1종 오류 ($\\alpha$)  | 올바른 결정 (검정력 $1-\\beta$) |\n",
        "| **$H_0$ 채택 (효과 없다 판단)** | 올바른 결정           | 제2종 오류 ($\\beta$)     |\n",
        "\n",
        "* **검정력 (Power, $1-\\beta$)**: 대립가설이 참일 때 (즉, 실제로 효과나 차이가 있을 때) 이를 옳게 판단하여 귀무가설을 기각할 확률입니다. 연구에서는 검정력을 높이는 것이 중요합니다. 검정력은 표본 크기, 유의수준, 효과 크기 등에 영향을 받습니다.\n",
        "\n",
        "1종 오류와 2종 오류는 서로 반비례 관계(trade-off)에 있는 경향이 있습니다. 즉, $\\alpha$를 줄여 1종 오류를 범할 가능성을 낮추면, $\\beta$가 커져 2종 오류를 범할 가능성이 높아질 수 있습니다 (다른 조건이 동일할 때)."
      ]
    },
    {
      "cell_type": "markdown",
      "metadata": {},
      "source": [
        "\n",
        "### 💻 예시 코드 (Example Code)\n",
        "\n",
        "새로운 학교 폭력 예방 프로그램의 효과를 검증한다고 가정해봅시다."
      ]
    },
    {
      "cell_type": "code",
      "execution_count": 6,
      "metadata": {
        "id": "s3AVAAS3GxiL"
      },
      "outputs": [
        {
          "name": "stdout",
          "output_type": "stream",
          "text": [
            "시나리오 1: 실제 효과 없음, 그러나 효과 있다고 잘못 판단\n",
            "제1종 오류 (Alpha): 실제 효과 없는 프로그램을 효과 있다고 판단함 (낭비 발생 가능).\n",
            "\n",
            "시나리오 2: 실제 효과 있음, 그러나 효과 없다고 잘못 판단\n",
            "제2종 오류 (Beta): 실제 효과 있는 프로그램을 효과 없다고 판단함 (아쉬운 상황).\n",
            "\n",
            "시나리오 3: 실제 효과 있음, 효과 있다고 올바르게 판단\n",
            "올바른 결정 (검정력): 실제 효과 있는 프로그램을 효과 있다고 판단함.\n"
          ]
        }
      ],
      "source": [
        "# 시나리오: 학교 폭력 예방 프로그램 효과 검증\n",
        "\n",
        "# 실제 상황 1: 프로그램이 효과가 없다 (H0가 참)\n",
        "#   - 검정 결과 H0 기각 (효과 있다고 판단) => 제1종 오류 (alpha)\n",
        "#     - \"효과 없는 프로그램에 자원을 투입하게 됨\"\n",
        "#   - 검정 결과 H0 채택 (효과 없다고 판단) => 올바른 결정\n",
        "\n",
        "# 실제 상황 2: 프로그램이 효과가 있다 (H0가 거짓, H1이 참)\n",
        "#   - 검정 결과 H0 기각 (효과 있다고 판단) => 올바른 결정 (검정력 1-beta)\n",
        "#     - \"효과 있는 프로그램을 도입하여 학교 폭력 감소에 기여\"\n",
        "#   - 검정 결과 H0 채택 (효과 없다고 판단) => 제2종 오류 (beta)\n",
        "#     - \"효과 있는 프로그램을 놓치게 되어 개선의 기회를 잃음\"\n",
        "\n",
        "def describe_error_scenario(actual_effect_exists, decision_to_reject_h0):\n",
        "    if actual_effect_exists: # H0가 거짓 (효과 있음)\n",
        "        if decision_to_reject_h0: # H0 기각 (효과 있다고 판단)\n",
        "            return \"올바른 결정 (검정력): 실제 효과 있는 프로그램을 효과 있다고 판단함.\"\n",
        "        else: # H0 채택 (효과 없다고 판단)\n",
        "            return \"제2종 오류 (Beta): 실제 효과 있는 프로그램을 효과 없다고 판단함 (아쉬운 상황).\"\n",
        "    else: # H0가 참 (효과 없음)\n",
        "        if decision_to_reject_h0: # H0 기각 (효과 있다고 판단)\n",
        "            return \"제1종 오류 (Alpha): 실제 효과 없는 프로그램을 효과 있다고 판단함 (낭비 발생 가능).\"\n",
        "        else: # H0 채택 (효과 없다고 판단)\n",
        "            return \"올바른 결정: 실제 효과 없는 프로그램을 효과 없다고 판단함.\"\n",
        "\n",
        "# 예시 시나리오 실행\n",
        "print(\"시나리오 1: 실제 효과 없음, 그러나 효과 있다고 잘못 판단\")\n",
        "print(describe_error_scenario(actual_effect_exists=False, decision_to_reject_h0=True))\n",
        "\n",
        "print(\"\\n시나리오 2: 실제 효과 있음, 그러나 효과 없다고 잘못 판단\")\n",
        "print(describe_error_scenario(actual_effect_exists=True, decision_to_reject_h0=False))\n",
        "\n",
        "print(\"\\n시나리오 3: 실제 효과 있음, 효과 있다고 올바르게 판단\")\n",
        "print(describe_error_scenario(actual_effect_exists=True, decision_to_reject_h0=True))"
      ]
    },
    {
      "cell_type": "markdown",
      "metadata": {
        "id": "5VD9VU99GxiL"
      },
      "source": [
        "### ✏️ 연습 문제 (Practice Problems)\n",
        "\n",
        "1.  어떤 지역의 범죄율 감소를 위해 새로운 CCTV 설치 정책을 시행하고 그 효과를 검증하려고 합니다. 이 상황에서 발생할 수 있는 **제1종 오류**와 **제2종 오류**가 각각 무엇을 의미하는지 구체적으로 설명하고, 각 오류가 사회적으로 어떤 결과를 초래할 수 있을지 생각해보세요."
      ]
    },
    {
      "cell_type": "markdown",
      "metadata": {},
      "source": [
        "> 작성공간\n",
        "1. CCTV 정책 효과 검증에서의 오류\n",
        "* 제1종 오류의 의미:\n",
        "* 제1종 오류의 사회적 결과:\n",
        "* 제2종 오류의 의미:\n",
        "* 제2종 오류의 사회적 결과:"
      ]
    },
    {
      "cell_type": "markdown",
      "metadata": {},
      "source": [
        "\n",
        "2.  연구자가 유의수준 $\\alpha$를 매우 작게 설정하면(예: 0.001), 제1종 오류를 범할 확률은 낮아집니다. 하지만 이 경우 제2종 오류를 범할 확률은 어떻게 될 가능성이 높을까요? 그 이유는 무엇일까요?"
      ]
    },
    {
      "cell_type": "markdown",
      "metadata": {},
      "source": [
        "> 작성공간\n",
        "2. 유의수준 alpha를 매우 작게 설정할 경우\n",
        "* 제2종 오류 발생 가능성:\n",
        "* 이유:"
      ]
    },
    {
      "cell_type": "markdown",
      "metadata": {
        "id": "hjYEWq_IGxiL"
      },
      "source": [
        "---\n",
        "\n",
        "## 5. 🔬(예제 시나리오) 새로운 공익 광고의 효과 측정\n",
        "\n",
        "### 💡 개념 (Concept)\n",
        "\n",
        "앞서 배운 개념들을 종합하여, 새로운 공익 광고가 특정 사회적 태도(예: 환경 보호 의식)에 미치는 영향을 측정하는 가상 시나리오를 통해 가설 검정 과정을 따라가 보겠습니다.\n",
        "\n",
        "* **연구 질문**: 새로운 환경 보호 공익 광고가 시민들의 환경 보호 의식 점수(10점 만점)를 향상시키는가?\n",
        "* **모집단**: 광고에 노출될 가능성이 있는 모든 시민.\n",
        "* **모수**: 모든 시민의 실제 평균 환경 보호 의식 점수 변화량 ($\\mu_{change}$).\n",
        "* **표본**: 연구에 참여한 시민 100명.\n",
        "* **통계량**: 표본 100명의 평균 환경 보호 의식 점수 변화량 ($\\bar{x}_{change}$).\n",
        "\n",
        "* **귀무가설 ($H_0$)**: 공익 광고는 환경 보호 의식 점수에 영향을 주지 않는다 (또는 감소시킨다). 즉, $\\mu_{change} \\le 0$.\n",
        "* **대립가설 ($H_1$)**: 공익 광고는 환경 보호 의식 점수를 향상시킨다. 즉, $\\mu_{change} > 0$. (단측 검정)\n",
        "* **유의수준 ($\\alpha$)**: 0.05로 설정.\n",
        "\n",
        "(가상 시나리오) 광고 시청 전후로 참여자들의 환경 보호 의식 점수를 측정하고, 점수 변화량 데이터를 분석했습니다. 그 결과, **P-값이 0.028**로 계산되었다고 가정합시다.\n",
        "\n",
        "* **결론 도출**:\n",
        "    * P-값 (0.028)이 유의수준 $\\alpha$ (0.05)보다 작습니다 ($0.028 \\le 0.05$).\n",
        "    * 따라서 귀무가설($H_0$)을 기각합니다.\n",
        "    * 결론: 새로운 환경 보호 공익 광고는 시민들의 환경 보호 의식 점수를 향상시키는 데 통계적으로 유의미한 효과가 있다고 볼 수 있습니다 (유의수준 5% 하에서).\n",
        "\n",
        "* **발생 가능한 오류**: 만약 실제로 광고가 효과가 없었는데 우연히 효과가 있는 것처럼 결과가 나왔다면 (즉, $H_0$가 참인데 기각했다면), 이는 **제1종 오류**에 해당합니다.\n",
        "\n",
        "### 💻 예시 코드 (Example Code)\n",
        "\n",
        "Python과 `scipy.stats` 라이브러리를 사용하여 이와 유사한 상황에서 대응표본 t-검정(paired t-test)을 수행하고 P-값을 얻는 과정을 간단히 살펴보겠습니다. 대응표본 t-검정은 동일한 대상에 대해 두 가지 조건(예: 전/후) 하에서 측정된 값의 평균 차이를 비교할 때 사용됩니다."
      ]
    },
    {
      "cell_type": "code",
      "execution_count": null,
      "metadata": {
        "id": "xK5U5Ri7GxiM"
      },
      "outputs": [],
      "source": [
        "import pandas as pd\n",
        "import numpy as np\n",
        "import plotly.express as px\n",
        "from scipy import stats # 통계 분석을 위한 scipy 라이브러리\n",
        "\n",
        "# 가상 데이터 생성: 광고 시청 전후 환경 보호 의식 점수 (10점 만점)\n",
        "np.random.seed(123) # 결과 재현을 위한 시드 설정\n",
        "sample_size = 100\n",
        "# 광고 전 점수 (평균 6점)\n",
        "before_scores_env = np.random.normal(loc=6, scale=1.5, size=sample_size).clip(1, 10)\n",
        "# 광고 후 점수가 평균 0.5점 상승했다고 가정\n",
        "after_scores_env = (before_scores_env + np.random.normal(loc=0.5, scale=1.2, size=sample_size)).clip(1, 10)\n",
        "\n",
        "df_env_campaign = pd.DataFrame({\n",
        "    'participant_id': range(1, sample_size + 1),\n",
        "    'before_score': before_scores_env,\n",
        "    'after_score': after_scores_env\n",
        "})\n",
        "\n",
        "print(\"환경 보호 의식 점수 (일부 데이터):\")\n",
        "print(df_env_campaign.head())\n",
        "\n",
        "# 점수 변화량 계산 및 평균 확인\n",
        "df_env_campaign['score_change'] = df_env_campaign['after_score'] - df_env_campaign['before_score']\n",
        "print(f\"\\n표본의 평균 점수 변화량: {df_env_campaign['score_change'].mean():.2f}\")\n",
        "\n",
        "# 시각화: 광고 전후 점수 분포 (박스 플롯)\n",
        "df_env_melted = df_env_campaign.melt(id_vars=['participant_id'], value_vars=['before_score', 'after_score'],\n",
        "                                     var_name='campaign_timing', value_name='score')\n",
        "fig_env_box = px.box(df_env_melted, x='campaign_timing', y='score', color='campaign_timing',\n",
        "                     title='공익 광고 시청 전후 환경 보호 의식 점수',\n",
        "                     labels={'campaign_timing': '광고 캠페인 시점', 'score': '의식 점수'},\n",
        "                     points='all')\n",
        "fig_env_box.show()\n",
        "\n",
        "# 가설 검정: 대응표본 t-검정 (Paired t-test)\n",
        "# H0: 평균 점수 변화 <= 0 (효과 없거나 부정적)\n",
        "# H1: 평균 점수 변화 > 0 (긍정적 효과)\n",
        "# alternative='greater'는 대립가설이 '더 크다'는 단측 검정을 의미합니다.\n",
        "t_statistic, p_value_env = stats.ttest_rel(df_env_campaign['after_score'],\n",
        "                                           df_env_campaign['before_score'],\n",
        "                                           alternative='greater')\n",
        "\n",
        "print(f\"\\n대응표본 t-검정 결과:\")\n",
        "print(f\"  T-statistic: {t_statistic:.3f}\")\n",
        "print(f\"  P-value: {p_value_env:.3f}\")\n",
        "\n",
        "# 유의수준 설정 및 결론 도출\n",
        "alpha = 0.05\n",
        "print(f\"\\n유의수준 (alpha): {alpha}\")\n",
        "\n",
        "if p_value_env <= alpha:\n",
        "    print(f\"결론: P-값 ({p_value_env:.3f}) <= 유의수준 ({alpha}). 귀무가설을 기각합니다.\")\n",
        "    print(\"      새로운 환경 보호 공익 광고는 시민들의 환경 보호 의식 점수를 향상시키는 데 통계적으로 유의미한 효과가 있다고 판단됩니다.\")\n",
        "else:\n",
        "    print(f\"결론: P-값 ({p_value_env:.3f}) > 유의수준 ({alpha}). 귀무가설을 기각하지 못합니다.\")\n",
        "    print(\"      새로운 환경 보호 공익 광고가 시민들의 환경 보호 의식 점수를 향상시킨다고 말할 충분한 통계적 근거가 없습니다.\")"
      ]
    },
    {
      "cell_type": "markdown",
      "metadata": {
        "id": "LFiZHZwXGxiM"
      },
      "source": [
        "`scipy.stats.ttest_rel` 함수는 두 쌍의 데이터 간의 평균 차이가 0과 유의하게 다른지를 검정합니다. `alternative='greater'` 옵션은 대립가설이 \"첫 번째 표본의 평균이 두 번째 표본의 평균보다 크다\" (즉, `after_score`의 평균이 `before_score`의 평균보다 크다)임을 명시합니다. 이 함수의 결과로 나오는 P-값을 해석하여 결론을 내립니다.\n",
        "\n",
        "### ✏️ 연습 문제\n",
        "\n",
        "1.  어떤 지역 사회에서 \"청소년 멘토링 프로그램\"을 실시한 후, 프로그램 참여 청소년들의 자존감 점수(사전/사후 측정)에 변화가 있었는지 검증하려고 합니다.\n",
        "    * 이 연구의 **귀무가설($H_0$)** 과 **대립가설($H_1$)** 을 \"자존감 점수가 향상되었다\"는 방향으로 설정해보세요 (단측 검정).\n",
        "    * 만약 대응표본 t-검정 결과 P-값이 0.065가 나왔고, 유의수준 $\\alpha$를 0.05로 설정했다면 어떤 결론을 내릴 수 있을까요? 그 결론의 의미를 설명해보세요.\n",
        "    * 만약 이 결론이 잘못된 것이라면 (실제로는 프로그램이 효과가 있었는데 없다고 결론 내렸다면), 어떤 종류의 오류에 해당할까요?\n",
        "2.  위 예시 코드에서 `np.random.seed(123)` 대신 다른 숫자(예: 42 또는 100)로 시드값을 변경하거나, `after_scores_env` 생성 시 `loc=0.1` (평균 0.1점 상승)과 같이 효과 크기를 매우 작게 변경한 후 코드를 다시 실행해보세요. P-값이 어떻게 변하는지 관찰하고, 그 결과가 의미하는 바를 생각해보세요. (코드 실행 후 결과에 대한 설명은 주석으로 작성)"
      ]
    },
    {
      "cell_type": "code",
      "execution_count": null,
      "metadata": {
        "id": "4Kp5mqfQGxiM"
      },
      "outputs": [],
      "source": [
        "# 연습 문제 1번 답안 작성 공간 (주석으로 설명)\n",
        "# 1. 청소년 멘토링 프로그램 효과 검증\n",
        "# H0:\n",
        "# H1:\n",
        "# P-value = 0.065, alpha = 0.05 일 때의 결론 및 의미:\n",
        "# 만약 이 결론이 잘못되었다면 어떤 오류인가?:\n",
        "\n",
        "\n",
        "# 연습 문제 2번 풀이 공간 (코드 수정 및 주석으로 결과 설명)\n",
        "# (위 예시 코드를 복사하여 수정하고 실행한 후, P-값 변화와 그 의미를 주석으로 작성하세요)"
      ]
    }
  ],
  "metadata": {
    "colab": {
      "provenance": []
    },
    "kernelspec": {
      "display_name": ".venv",
      "language": "python",
      "name": "python3"
    },
    "language_info": {
      "codemirror_mode": {
        "name": "ipython",
        "version": 3
      },
      "file_extension": ".py",
      "mimetype": "text/x-python",
      "name": "python",
      "nbconvert_exporter": "python",
      "pygments_lexer": "ipython3",
      "version": "3.12.9"
    }
  },
  "nbformat": 4,
  "nbformat_minor": 0
}
