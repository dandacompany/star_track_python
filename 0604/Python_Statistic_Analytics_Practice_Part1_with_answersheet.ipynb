{
  "cells": [
    {
      "cell_type": "markdown",
      "metadata": {
        "id": "CHAbbUjF1Hk3"
      },
      "source": [
        "## Python Pandas 통계분석 실습 🐍"
      ]
    },
    {
      "cell_type": "markdown",
      "metadata": {},
      "source": [
        "\n",
        "* **클래스 목표 및 2일 로드맵 소개**\n",
        "\n",
        "  * **2일간의 학습 여정:** 기초 통계부터 A/B 테스트 실전까지 체계적으로 학습합니다.\n",
        "  * **학습 목표:**\n",
        "      * 핵심 통계 개념의 명확한 이해.\n",
        "      * Python 코드를 활용한 통계 분석 기법 적용 능력 함양.\n",
        "      * 확률분포, 통계적 추정, 가설검정, 회귀분석 등 통계적 기법 이해 및 활용.\n",
        "      * A/B 테스트의 설계, 실행, 분석 및 결과 해석 능력 배양.\n",
        "      * 데이터 기반의 합리적인 의사결정 능력 향상.\n",
        "  * **학습 방법:**\n",
        "      * 주요 이론 및 핵심 개념 강의.\n",
        "      * 강의 내용을 바로 적용해보는 집중적인 실습 세션.\n",
        "      * 실제와 유사한 데이터셋을 사용한 문제 해결.\n",
        "---"
      ]
    },
    {
      "cell_type": "markdown",
      "metadata": {},
      "source": [
        "## ☀️ DAY 1: Python을 활용한 핵심 통계 개념\n",
        "---\n",
        "\n",
        "### 기술 통계 Review 📊\n",
        "\n",
        "🎯 **학습 목표:**\n",
        "\n",
        "* 데이터의 중심 경향을 나타내는 주요 측정값(평균, 중앙값, 최빈값)을 이해하고 계산할 수 있습니다.\n",
        "* 데이터의 흩어진 정도를 나타내는 산포도 측정값(분산, 표준편차, 범위, 사분위수 범위)을 이해하고 계산할 수 있습니다.\n",
        "* 데이터 분포의 모양을 설명하는 왜도와 첨도의 개념을 이해하고 해석할 수 있습니다.\n",
        "* Python의 주요 라이브러리(Pandas, Scipy)를 활용하여 기술 통계량을 효율적으로 분석하고 시각화할 수 있습니다.\n",
        "\n",
        "#### 💡 개념 (Concept)\n",
        "\n",
        "기술 통계(Descriptive Statistics)는 수집된 데이터를 요약하고 설명하여 데이터의 주요 특징을 파악하는 데 도움을 줍니다.\n",
        "\"\n",
        "\n",
        "**1. 중심 경향치 (Central Tendency):** 데이터의 중심을 나타내는 값들입니다.\n",
        "\n",
        "* **평균 (Mean):** 모든 데이터 값을 더한 후 데이터의 총개수로 나눈 값입니다. 이상치(outlier)에 민감하게 반응합니다.\n",
        "    $\\mu = \\frac{\\sum_{i=1}^{N} x_i}{N}$\n",
        "    또는 표본 평균:\n",
        "    $\\bar{x} = \\frac{\\sum_{i=1}^{n} x_i}{n}$\n",
        "* **중앙값 (Median):** 데이터를 크기 순으로 정렬했을 때 정확히 가운데에 위치하는 값입니다. 데이터의 개수가 짝수일 경우, 가운데 두 값의 평균을 사용합니다. 이상치에 덜 민감합니다(robust).\n",
        "* **최빈값 (Mode):** 데이터에서 가장 빈번하게 나타나는 값입니다. 범주형 데이터나 이산형 데이터에 주로 사용되며, 여러 개 존재할 수도 있고 존재하지 않을 수도 있습니다.\n",
        "\n",
        "**2. 산포도 (Dispersion/Variability):** 데이터가 얼마나 흩어져 있는지를 나타내는 값들입니다.\n",
        "\n",
        "* **분산 (Variance):** 각 데이터 값이 평균으로부터 얼마나 떨어져 있는지를 제곱하여 평균 낸 값입니다. 데이터의 흩어진 정도를 나타내지만, 단위가 원래 데이터의 단위의 제곱이 됩니다.\n",
        "    모분산: $\\sigma^2 = \\frac{\\sum_{i=1}^{N} (x_i - \\mu)^2}{N}$\n",
        "    표본분산: $s^2 = \\frac{\\sum_{i=1}^{n} (x_i - \\bar{x})^2}{n-1}$ (n-1로 나누는 것은 불편추정량을 얻기 위함)\n",
        "* **표준편차 (Standard Deviation):** 분산의 제곱근으로, 데이터의 변동성을 원래 데이터와 같은 단위로 직관적으로 보여줍니다.\n",
        "    모표준편차: $\\sigma = \\sqrt{\\sigma^2}$\n",
        "    표본표준편차: $s = \\sqrt{s^2}$\n",
        "* **범위 (Range):** 데이터의 최댓값과 최솟값의 차이입니다. 계산이 간단하지만, 데이터 양 끝의 이상치에 크게 영향을 받습니다.\n",
        "    $\\text{Range} = \\text{Max}(x) - \\text{Min}(x)$\n",
        "* **사분위수 범위 (Interquartile Range, IQR):** 데이터를 크기 순으로 정렬했을 때, 제3사분위수(Q3, 상위 25%)와 제1사분위수(Q1, 하위 25%)의 차이입니다. 데이터의 중간 50%가 포함되는 범위로, 이상치에 덜 민감합니다.\n",
        "    $\\text{IQR} = Q3 - Q1$\n",
        "\n",
        "**3. 분포의 형태 (Shape of Distribution):**\n",
        "\n",
        "* **왜도 (Skewness):** 데이터 분포의 비대칭성을 나타내는 지표입니다.\n",
        "    * **정규분포의 왜도 = 0:** 좌우 대칭입니다.\n",
        "    * **양의 왜도 (Positive Skew, 오른쪽 꼬리 분포):** 분포의 오른쪽 꼬리가 왼쪽보다 깁니다. 평균 > 중앙값 > 최빈값 순서일 가능성이 높습니다.\n",
        "    * **음의 왜도 (Negative Skew, 왼쪽 꼬리 분포):** 분포의 왼쪽 꼬리가 오른쪽보다 깁니다. 최빈값 > 중앙값 > 평균 순서일 가능성이 높습니다.\n",
        "* **첨도 (Kurtosis):** 데이터 분포의 뾰족한 정도와 꼬리의 두께를 나타내는 지표입니다.\n",
        "    * **정규분포의 첨도 = 3 (또는 초과 첨도(Excess Kurtosis) = 0):** 표준적인 뾰족함을 가집니다. `scipy.stats.kurtosis()`는 초과 첨도를 기준으로 계산하며, 정규분포일 경우 0이 나옵니다.\n",
        "    * **고첨도 (Leptokurtic, 초과 첨도 > 0):** 분포의 중심이 더 뾰족하고 꼬리가 두껍습니다 (이상치가 많을 수 있음).\n",
        "    * **저첨도 (Platykurtic, 초과 첨도 < 0):** 분포의 중심이 더 평평하고 꼬리가 얇습니다.\n",
        "\n",
        "**4. 데이터 시그니처 해석:**\n",
        "\n",
        "기술 통계량과 시각화 도구(히스토그램, 박스플롯 등)를 함께 사용하여 데이터에 숨겨진 패턴, 경향성, 이상치 등을 종합적으로 파악합니다. 예를 들어, 평균과 중앙값이 크게 차이 나면 데이터가 한쪽으로 치우쳐 있을 가능성을 시사합니다.\n",
        "\n",
        "#### 💻 예시 코드 (Example Code)\n",
        "\n",
        "가상의 데이터셋 `단다컴퍼니_매출.csv` (날짜, 상품ID, 카테고리, 매출액, 판매량 컬럼 포함 가정)를 사용합니다."
      ]
    },
    {
      "cell_type": "code",
      "execution_count": 9,
      "metadata": {},
      "outputs": [],
      "source": [
        "import os\n",
        "os.sys.path.append(os.path.dirname(os.path.abspath(os.getcwd())))\n",
        "from lib.slide import show_html_slides"
      ]
    },
    {
      "cell_type": "code",
      "execution_count": 51,
      "metadata": {},
      "outputs": [
        {
          "data": {
            "text/html": [
              "\n",
              "    <style>\n",
              "    .slide-container {\n",
              "        width: 100%;\n",
              "        max-width: 960px;\n",
              "        aspect-ratio: 16 / 9;\n",
              "        height: auto;\n",
              "        min-height: 540px; /* Increased min-height for better readability */\n",
              "        border: 1px solid #ddd; /* Lighter border */\n",
              "        border-radius: 12px; /* Softer corners */\n",
              "        background: #ffffff; /* Clean white background */\n",
              "        box-shadow: 0 4px 12px rgba(0,0,0,0.05); /* Subtle shadow */\n",
              "        position: relative;\n",
              "        overflow: hidden;\n",
              "        margin: 20px auto; /* Added margin for better page integration */\n",
              "        display: flex;\n",
              "        align-items: center;\n",
              "        justify-content: center;\n",
              "    }\n",
              "    .slide-content {\n",
              "        width: 100%;\n",
              "        height: 100%;\n",
              "        display: none;\n",
              "        justify-content: flex-start; /* Align content to the top */\n",
              "        align-items: center; /* Center content horizontally */\n",
              "        flex-direction: column;\n",
              "        position: absolute;\n",
              "        top: 0; left: 0; right: 0; bottom: 0;\n",
              "        text-align: left; /* Default text align to left for lists */\n",
              "        padding: 50px; /* Generous padding */\n",
              "        box-sizing: border-box; /* Include padding in width/height */\n",
              "    }\n",
              "    .slide-content.active {\n",
              "        display: flex;\n",
              "    }\n",
              "    .slide-header-title {\n",
              "        font-size: 2.8em; /* Larger title */\n",
              "        color: #2c3e50; /* Dark, modern blue */\n",
              "        margin-bottom: 30px;\n",
              "        font-weight: 600; /* Slightly bolder */\n",
              "        width: 100%; /* Ensure title takes full width for centering if needed */\n",
              "        text-align: center; /* Center the title */\n",
              "    }\n",
              "    .slide-list-content {\n",
              "        font-size: 1.3em; /* Adjusted for readability */\n",
              "        color: #34495e; /* Softer black */\n",
              "        line-height: 1.8; /* Increased line height */\n",
              "        list-style-type: disc; /* Standard bullets */\n",
              "        padding-left: 40px; /* Indent list items */\n",
              "        align-self: flex-start; /* Align list to the left within the content area */\n",
              "        width: 100%; /* Allow list to use available width */\n",
              "        max-width: 800px; /* Optional: constrain list width for very wide slides */\n",
              "    }\n",
              "    .slide-list-content li {\n",
              "        margin-bottom: 12px; /* Space between list items */\n",
              "    }\n",
              "    .navigation {\n",
              "        position: absolute;\n",
              "        bottom: 20px; /* Positioned slightly higher */\n",
              "        left: 50%;\n",
              "        transform: translateX(-50%);\n",
              "        z-index: 10;\n",
              "        display: flex;\n",
              "        justify-content: center;\n",
              "    }\n",
              "    .nav-btn {\n",
              "        background: #3498db; /* Brighter blue */\n",
              "        color: white;\n",
              "        border: none;\n",
              "        padding: 12px 20px; /* Larger buttons */\n",
              "        margin: 0 10px;\n",
              "        border-radius: 6px; /* Softer button corners */\n",
              "        cursor: pointer;\n",
              "        font-size: 1em;\n",
              "        transition: background-color 0.3s ease; /* Smooth hover effect */\n",
              "    }\n",
              "    .nav-btn:hover {\n",
              "        background: #2980b9; /* Darker blue on hover */\n",
              "    }\n",
              "    </style>\n",
              "\n",
              "    <div class=\"slide-container\" id=\"slideContainer\">\n",
              "        \n",
              "        <div class=\"slide-content active\" id=\"slide-1\">\n",
              "            <h1 class=\"slide-header-title\">1. 중심 경향치 (Central Tendency)</h1><ul class=\"slide-list-content\"><li>평균 (Mean): 모든 데이터 값을 더한 후 데이터의 총개수로 나눈 값<br><span style=\"color:#555;\">이상치(outlier)에 민감하게 반응</span><br><span style=\"font-size:0.95em;\">$\\mu = \\dfrac{\\sum_{i=1}^{N} x_i}{N}$<br>$\\bar{x} = \\dfrac{\\sum_{i=1}^{n} x_i}{n}$ (표본 평균)</span></li><li>중앙값 (Median): 데이터를 크기 순으로 정렬했을 때 가운데에 위치하는 값<br><span style=\"color:#555;\">짝수개면 가운데 두 값의 평균, 이상치에 덜 민감(robust)</span></li><li>최빈값 (Mode): 데이터에서 가장 빈번하게 나타나는 값<br><span style=\"color:#555;\">범주형/이산형 데이터에 주로 사용, 여러 개 또는 없을 수도 있음</span></li></ul>\n",
              "        </div>\n",
              "        \n",
              "        <div class=\"slide-content \" id=\"slide-2\">\n",
              "            <h1 class=\"slide-header-title\">2. 산포도 (Dispersion/Variability)</h1><ul class=\"slide-list-content\"><li>분산 (Variance): 각 데이터가 평균에서 얼마나 떨어져 있는지의 제곱 평균<br><span style=\"font-size:0.95em;\">모분산: $\\sigma^2 = \\dfrac{\\sum_{i=1}^{N} (x_i - \\mu)^2}{N}$<br>표본분산: $s^2 = \\dfrac{\\sum_{i=1}^{n} (x_i - \\bar{x})^2}{n-1}$</span></li><li>표준편차 (Standard Deviation): 분산의 제곱근, 원래 단위와 동일<br><span style=\"font-size:0.95em;\">$\\sigma = \\sqrt{\\sigma^2}$, $s = \\sqrt{s^2}$</span></li><li>범위 (Range): 최댓값 - 최솟값<br><span style=\"font-size:0.95em;\">$\\text{Range} = \\text{Max}(x) - \\text{Min}(x)$</span></li><li>사분위수 범위 (IQR): Q3(상위25%) - Q1(하위25%)<br><span style=\"font-size:0.95em;\">$\\text{IQR} = Q3 - Q1$</span></li></ul>\n",
              "        </div>\n",
              "        \n",
              "        <div class=\"slide-content \" id=\"slide-3\">\n",
              "            <h1 class=\"slide-header-title\">3. 분포의 형태 (Shape of Distribution)</h1><ul class=\"slide-list-content\"><li>왜도 (Skewness): 분포의 비대칭성<ul><li>정규분포: 왜도=0 (좌우 대칭)</li><li>양의 왜도: 오른쪽 꼬리, 평균 &gt; 중앙값 &gt; 최빈값</li><li>음의 왜도: 왼쪽 꼬리, 최빈값 &gt; 중앙값 &gt; 평균</li></ul></li><li>첨도 (Kurtosis): 분포의 뾰족함과 꼬리 두께<ul><li>정규분포 첨도=3 (초과첨도=0)</li><li>고첨도(Leptokurtic): 중심 뾰족, 꼬리 두꺼움 (이상치 많음)</li><li>저첨도(Platykurtic): 중심 평평, 꼬리 얇음</li></ul></li></ul>\n",
              "        </div>\n",
              "        \n",
              "        <div class=\"slide-content \" id=\"slide-4\">\n",
              "            <h1 class=\"slide-header-title\">4. 데이터 시그니처 해석</h1><ul class=\"slide-list-content\"><li>기술 통계량과 <b>시각화 도구(히스토그램, 박스플롯 등)</b>를 함께 사용</li><li>데이터의 패턴, 경향성, 이상치 등을 종합적으로 파악</li><li>예시: 평균과 중앙값이 크게 차이 나면 데이터가 한쪽으로 치우쳐 있을 가능성</li></ul>\n",
              "        </div>\n",
              "        \n",
              "        <div class=\"navigation\">\n",
              "            <button class=\"nav-btn\" onclick=\"prevSlide()\">이전</button>\n",
              "            <button class=\"nav-btn\" onclick=\"nextSlide()\">다음</button>\n",
              "        </div>\n",
              "    </div>\n",
              "    <script>\n",
              "    MathJax = {\n",
              "      tex: {\n",
              "        inlineMath: [['$', '$'], ['\\\\(', '\\\\)']],\n",
              "        displayMath: [['$$', '$$'], ['\\\\[', '\\\\]']],\n",
              "        processEscapes: true\n",
              "      },\n",
              "      svg: {\n",
              "        fontCache: 'global'\n",
              "      }\n",
              "    };\n",
              "    </script>\n",
              "    <script src=\"https://polyfill.io/v3/polyfill.min.js?features=es6\"></script>\n",
              "    <script id=\"MathJax-script\" async src=\"https://cdn.jsdelivr.net/npm/mathjax@3/es5/tex-mml-chtml.js\"></script>\n",
              "    <script>\n",
              "    var currentSlide = 1;\n",
              "    var totalSlides = 4;\n",
              "\n",
              "    function showSlide(n) {\n",
              "        for (var i = 1; i <= totalSlides; i++) {\n",
              "            var slide = document.getElementById('slide-' + i);\n",
              "            if (slide) {\n",
              "                slide.classList.remove('active');\n",
              "                if (i === n) {\n",
              "                    slide.classList.add('active');\n",
              "                }\n",
              "            }\n",
              "        }\n",
              "        // Trigger MathJax typesetting for the new active slide\n",
              "        if (window.MathJax && typeof window.MathJax.typesetPromise === 'function') {\n",
              "            setTimeout(() => { // Delay to ensure DOM is updated\n",
              "                try {\n",
              "                    const elementToTypeset = document.getElementById('slide-' + n);\n",
              "                    if (elementToTypeset) {\n",
              "                        window.MathJax.typesetPromise([elementToTypeset]);\n",
              "                    } else {\n",
              "                        // console.warn(\"MathJax: Element slide-\" + n + \" not found for typesetting.\");\n",
              "                    }\n",
              "                } catch (e) {\n",
              "                    console.error(\"MathJax typesetting error:\", e);\n",
              "                }\n",
              "            }, 0);\n",
              "        }\n",
              "    }\n",
              "\n",
              "    function prevSlide() {\n",
              "        currentSlide = currentSlide - 1;\n",
              "        if (currentSlide < 1) currentSlide = totalSlides;\n",
              "        showSlide(currentSlide);\n",
              "    }\n",
              "\n",
              "    function nextSlide() {\n",
              "        currentSlide = currentSlide + 1;\n",
              "        if (currentSlide > totalSlides) currentSlide = 1;\n",
              "        showSlide(currentSlide);\n",
              "    }\n",
              "\n",
              "    document.addEventListener(\"DOMContentLoaded\", function() {\n",
              "        showSlide(currentSlide);\n",
              "    });\n",
              "    </script>\n",
              "    "
            ],
            "text/plain": [
              "<IPython.core.display.HTML object>"
            ]
          },
          "metadata": {},
          "output_type": "display_data"
        }
      ],
      "source": [
        "slides_data = [\n",
        "    {\n",
        "        'title': '1. 중심 경향치 (Central Tendency)',\n",
        "        'items': [\n",
        "            '평균 (Mean): 모든 데이터 값을 더한 후 데이터의 총개수로 나눈 값<br><span style=\"color:#555;\">이상치(outlier)에 민감하게 반응</span><br><span style=\"font-size:0.95em;\">$\\\\mu = \\\\dfrac{\\\\sum_{i=1}^{N} x_i}{N}$<br>$\\\\bar{x} = \\\\dfrac{\\\\sum_{i=1}^{n} x_i}{n}$ (표본 평균)</span>',\n",
        "            '중앙값 (Median): 데이터를 크기 순으로 정렬했을 때 가운데에 위치하는 값<br><span style=\"color:#555;\">짝수개면 가운데 두 값의 평균, 이상치에 덜 민감(robust)</span>',\n",
        "            '최빈값 (Mode): 데이터에서 가장 빈번하게 나타나는 값<br><span style=\"color:#555;\">범주형/이산형 데이터에 주로 사용, 여러 개 또는 없을 수도 있음</span>'\n",
        "        ]\n",
        "    },\n",
        "    {\n",
        "        'title': '2. 산포도 (Dispersion/Variability)',\n",
        "        'items': [\n",
        "            '분산 (Variance): 각 데이터가 평균에서 얼마나 떨어져 있는지의 제곱 평균<br><span style=\"font-size:0.95em;\">모분산: $\\\\sigma^2 = \\\\dfrac{\\\\sum_{i=1}^{N} (x_i - \\\\mu)^2}{N}$<br>표본분산: $s^2 = \\\\dfrac{\\\\sum_{i=1}^{n} (x_i - \\\\bar{x})^2}{n-1}$</span>',\n",
        "            '표준편차 (Standard Deviation): 분산의 제곱근, 원래 단위와 동일<br><span style=\"font-size:0.95em;\">$\\\\sigma = \\\\sqrt{\\\\sigma^2}$, $s = \\\\sqrt{s^2}$</span>',\n",
        "            '범위 (Range): 최댓값 - 최솟값<br><span style=\"font-size:0.95em;\">$\\\\text{Range} = \\\\text{Max}(x) - \\\\text{Min}(x)$</span>',\n",
        "            '사분위수 범위 (IQR): Q3(상위25%) - Q1(하위25%)<br><span style=\"font-size:0.95em;\">$\\\\text{IQR} = Q3 - Q1$</span>'\n",
        "        ]\n",
        "    },\n",
        "    {\n",
        "        'title': '3. 분포의 형태 (Shape of Distribution)',\n",
        "        'items': [\n",
        "            '왜도 (Skewness): 분포의 비대칭성<ul><li>정규분포: 왜도=0 (좌우 대칭)</li><li>양의 왜도: 오른쪽 꼬리, 평균 &gt; 중앙값 &gt; 최빈값</li><li>음의 왜도: 왼쪽 꼬리, 최빈값 &gt; 중앙값 &gt; 평균</li></ul>',\n",
        "            '첨도 (Kurtosis): 분포의 뾰족함과 꼬리 두께<ul><li>정규분포 첨도=3 (초과첨도=0)</li><li>고첨도(Leptokurtic): 중심 뾰족, 꼬리 두꺼움 (이상치 많음)</li><li>저첨도(Platykurtic): 중심 평평, 꼬리 얇음</li></ul>'\n",
        "        ]\n",
        "    },\n",
        "    {\n",
        "        'title': '4. 데이터 시그니처 해석',\n",
        "        'items': [\n",
        "            '기술 통계량과 <b>시각화 도구(히스토그램, 박스플롯 등)</b>를 함께 사용',\n",
        "            '데이터의 패턴, 경향성, 이상치 등을 종합적으로 파악',\n",
        "            '예시: 평균과 중앙값이 크게 차이 나면 데이터가 한쪽으로 치우쳐 있을 가능성',\n",
        "        ]\n",
        "    }\n",
        "]\n",
        "\n",
        "show_html_slides(slides_data)"
      ]
    },
    {
      "cell_type": "markdown",
      "metadata": {},
      "source": [
        "라이브러리 로드"
      ]
    },
    {
      "cell_type": "code",
      "execution_count": 1,
      "metadata": {
        "id": "bdUDxu0H1Hk5"
      },
      "outputs": [],
      "source": [
        "import pandas as pd\n",
        "import numpy as np\n",
        "from scipy import stats\n",
        "import plotly.express as px\n",
        "import plotly.graph_objects as go\n",
        "import plotly.io as pio\n",
        "from plotly.subplots import make_subplots\n",
        "from ipywidgets import widgets\n",
        "from IPython.display import display"
      ]
    },
    {
      "cell_type": "code",
      "execution_count": 33,
      "metadata": {},
      "outputs": [],
      "source": [
        "# 가상 데이터 생성 (실제로는 pd.read_csv() 사용)\n",
        "data = {\n",
        "    'date': pd.to_datetime(['2023-01-01', '2023-01-01', '2023-01-02', '2023-01-02', '2023-01-03', '2023-01-03', '2023-01-04', '2023-01-04', '2023-01-05', '2023-01-05'] * 10),\n",
        "    'product_id': [f'P{100+i}' for i in range(10)] * 10,\n",
        "    'category': ['Electronics', 'Books', 'Clothing', 'Electronics', 'Books', 'Clothing', 'Home Goods', 'Beauty', 'Sports', 'Electronics'] * 10,\n",
        "    'revenue': np.random.lognormal(mean=np.log(100), sigma=0.8, size=100).round(2) + np.random.randint(10, 500, size=100), # 매출액 (양의 왜도를 가지도록)\n",
        "    'quantity': np.random.randint(1, 15, size=100)\n",
        "}\n",
        "df = pd.DataFrame(data)\n"
      ]
    },
    {
      "cell_type": "markdown",
      "metadata": {},
      "source": [
        "데이터 확인"
      ]
    },
    {
      "cell_type": "code",
      "execution_count": 3,
      "metadata": {},
      "outputs": [
        {
          "name": "stdout",
          "output_type": "stream",
          "text": [
            "<class 'pandas.core.frame.DataFrame'>\n",
            "RangeIndex: 100 entries, 0 to 99\n",
            "Data columns (total 5 columns):\n",
            " #   Column      Non-Null Count  Dtype         \n",
            "---  ------      --------------  -----         \n",
            " 0   date        100 non-null    datetime64[ns]\n",
            " 1   product_id  100 non-null    object        \n",
            " 2   category    100 non-null    object        \n",
            " 3   revenue     100 non-null    float64       \n",
            " 4   quantity    100 non-null    int64         \n",
            "dtypes: datetime64[ns](1), float64(1), int64(1), object(2)\n",
            "memory usage: 4.0+ KB\n"
          ]
        }
      ],
      "source": [
        "# 데이터 불러오기 (실제 경우)\n",
        "# df = pd.read_csv('단다컴퍼니_매출.csv')\n",
        "# 기본 정보 확인\n",
        "df.info()\n"
      ]
    },
    {
      "cell_type": "code",
      "execution_count": 65,
      "metadata": {},
      "outputs": [
        {
          "data": {
            "text/html": [
              "<div>\n",
              "<style scoped>\n",
              "    .dataframe tbody tr th:only-of-type {\n",
              "        vertical-align: middle;\n",
              "    }\n",
              "\n",
              "    .dataframe tbody tr th {\n",
              "        vertical-align: top;\n",
              "    }\n",
              "\n",
              "    .dataframe thead th {\n",
              "        text-align: right;\n",
              "    }\n",
              "</style>\n",
              "<table border=\"1\" class=\"dataframe\">\n",
              "  <thead>\n",
              "    <tr style=\"text-align: right;\">\n",
              "      <th></th>\n",
              "      <th>date</th>\n",
              "      <th>product_id</th>\n",
              "      <th>category</th>\n",
              "      <th>revenue</th>\n",
              "      <th>quantity</th>\n",
              "    </tr>\n",
              "  </thead>\n",
              "  <tbody>\n",
              "    <tr>\n",
              "      <th>0</th>\n",
              "      <td>2023-01-01</td>\n",
              "      <td>P100</td>\n",
              "      <td>Electronics</td>\n",
              "      <td>476.36</td>\n",
              "      <td>4</td>\n",
              "    </tr>\n",
              "    <tr>\n",
              "      <th>1</th>\n",
              "      <td>2023-01-01</td>\n",
              "      <td>P101</td>\n",
              "      <td>Books</td>\n",
              "      <td>593.18</td>\n",
              "      <td>1</td>\n",
              "    </tr>\n",
              "    <tr>\n",
              "      <th>2</th>\n",
              "      <td>2023-01-02</td>\n",
              "      <td>P102</td>\n",
              "      <td>Clothing</td>\n",
              "      <td>242.57</td>\n",
              "      <td>4</td>\n",
              "    </tr>\n",
              "    <tr>\n",
              "      <th>3</th>\n",
              "      <td>2023-01-02</td>\n",
              "      <td>P103</td>\n",
              "      <td>Electronics</td>\n",
              "      <td>740.19</td>\n",
              "      <td>4</td>\n",
              "    </tr>\n",
              "    <tr>\n",
              "      <th>4</th>\n",
              "      <td>2023-01-03</td>\n",
              "      <td>P104</td>\n",
              "      <td>Books</td>\n",
              "      <td>486.30</td>\n",
              "      <td>14</td>\n",
              "    </tr>\n",
              "  </tbody>\n",
              "</table>\n",
              "</div>"
            ],
            "text/plain": [
              "        date product_id     category  revenue  quantity\n",
              "0 2023-01-01       P100  Electronics   476.36         4\n",
              "1 2023-01-01       P101        Books   593.18         1\n",
              "2 2023-01-02       P102     Clothing   242.57         4\n",
              "3 2023-01-02       P103  Electronics   740.19         4\n",
              "4 2023-01-03       P104        Books   486.30        14"
            ]
          },
          "execution_count": 65,
          "metadata": {},
          "output_type": "execute_result"
        }
      ],
      "source": [
        "df.head()"
      ]
    },
    {
      "cell_type": "code",
      "execution_count": 66,
      "metadata": {},
      "outputs": [
        {
          "data": {
            "text/plain": [
              "(100, 5)"
            ]
          },
          "execution_count": 66,
          "metadata": {},
          "output_type": "execute_result"
        }
      ],
      "source": [
        "# 데이터 형태 확인\n",
        "df.shape"
      ]
    },
    {
      "cell_type": "markdown",
      "metadata": {},
      "source": [
        "주요 기술 통계량 계산"
      ]
    },
    {
      "cell_type": "code",
      "execution_count": 4,
      "metadata": {},
      "outputs": [
        {
          "data": {
            "text/html": [
              "<div>\n",
              "<style scoped>\n",
              "    .dataframe tbody tr th:only-of-type {\n",
              "        vertical-align: middle;\n",
              "    }\n",
              "\n",
              "    .dataframe tbody tr th {\n",
              "        vertical-align: top;\n",
              "    }\n",
              "\n",
              "    .dataframe thead th {\n",
              "        text-align: right;\n",
              "    }\n",
              "</style>\n",
              "<table border=\"1\" class=\"dataframe\">\n",
              "  <thead>\n",
              "    <tr style=\"text-align: right;\">\n",
              "      <th></th>\n",
              "      <th>date</th>\n",
              "      <th>revenue</th>\n",
              "      <th>quantity</th>\n",
              "    </tr>\n",
              "  </thead>\n",
              "  <tbody>\n",
              "    <tr>\n",
              "      <th>count</th>\n",
              "      <td>100</td>\n",
              "      <td>100.000000</td>\n",
              "      <td>100.0000</td>\n",
              "    </tr>\n",
              "    <tr>\n",
              "      <th>mean</th>\n",
              "      <td>2023-01-03 00:00:00</td>\n",
              "      <td>394.396900</td>\n",
              "      <td>7.8000</td>\n",
              "    </tr>\n",
              "    <tr>\n",
              "      <th>min</th>\n",
              "      <td>2023-01-01 00:00:00</td>\n",
              "      <td>49.750000</td>\n",
              "      <td>1.0000</td>\n",
              "    </tr>\n",
              "    <tr>\n",
              "      <th>25%</th>\n",
              "      <td>2023-01-02 00:00:00</td>\n",
              "      <td>258.337500</td>\n",
              "      <td>4.0000</td>\n",
              "    </tr>\n",
              "    <tr>\n",
              "      <th>50%</th>\n",
              "      <td>2023-01-03 00:00:00</td>\n",
              "      <td>401.200000</td>\n",
              "      <td>8.0000</td>\n",
              "    </tr>\n",
              "    <tr>\n",
              "      <th>75%</th>\n",
              "      <td>2023-01-04 00:00:00</td>\n",
              "      <td>490.845000</td>\n",
              "      <td>12.0000</td>\n",
              "    </tr>\n",
              "    <tr>\n",
              "      <th>max</th>\n",
              "      <td>2023-01-05 00:00:00</td>\n",
              "      <td>1018.850000</td>\n",
              "      <td>14.0000</td>\n",
              "    </tr>\n",
              "    <tr>\n",
              "      <th>std</th>\n",
              "      <td>NaN</td>\n",
              "      <td>182.773674</td>\n",
              "      <td>4.2474</td>\n",
              "    </tr>\n",
              "  </tbody>\n",
              "</table>\n",
              "</div>"
            ],
            "text/plain": [
              "                      date      revenue  quantity\n",
              "count                  100   100.000000  100.0000\n",
              "mean   2023-01-03 00:00:00   394.396900    7.8000\n",
              "min    2023-01-01 00:00:00    49.750000    1.0000\n",
              "25%    2023-01-02 00:00:00   258.337500    4.0000\n",
              "50%    2023-01-03 00:00:00   401.200000    8.0000\n",
              "75%    2023-01-04 00:00:00   490.845000   12.0000\n",
              "max    2023-01-05 00:00:00  1018.850000   14.0000\n",
              "std                    NaN   182.773674    4.2474"
            ]
          },
          "execution_count": 4,
          "metadata": {},
          "output_type": "execute_result"
        }
      ],
      "source": [
        "df.describe()"
      ]
    },
    {
      "cell_type": "code",
      "execution_count": 67,
      "metadata": {},
      "outputs": [
        {
          "data": {
            "text/plain": [
              "count     100.000000\n",
              "mean      376.095400\n",
              "std       198.721902\n",
              "min        32.730000\n",
              "25%       235.355000\n",
              "50%       361.630000\n",
              "75%       492.790000\n",
              "max      1076.550000\n",
              "Name: revenue, dtype: float64"
            ]
          },
          "execution_count": 67,
          "metadata": {},
          "output_type": "execute_result"
        }
      ],
      "source": [
        "# 매출액(revenue) 기술 통계량 (Pandas)\n",
        "df['revenue'].describe()"
      ]
    },
    {
      "cell_type": "code",
      "execution_count": 5,
      "metadata": {},
      "outputs": [
        {
          "data": {
            "text/plain": [
              "count    100.0000\n",
              "mean       7.8000\n",
              "std        4.2474\n",
              "min        1.0000\n",
              "25%        4.0000\n",
              "50%        8.0000\n",
              "75%       12.0000\n",
              "max       14.0000\n",
              "Name: quantity, dtype: float64"
            ]
          },
          "execution_count": 5,
          "metadata": {},
          "output_type": "execute_result"
        }
      ],
      "source": [
        "# 판매량(quantity) 기술 통계량 (Pandas)\n",
        "df['quantity'].describe()"
      ]
    },
    {
      "cell_type": "code",
      "execution_count": 24,
      "metadata": {},
      "outputs": [
        {
          "data": {
            "application/vnd.plotly.v1+json": {
              "config": {
                "plotlyServerURL": "https://plot.ly"
              },
              "data": [
                {
                  "box": {
                    "visible": true
                  },
                  "fillcolor": "rgba(0,123,255,0.4)",
                  "line": {
                    "color": "rgba(0,123,255,1)"
                  },
                  "marker": {
                    "color": "rgba(0,123,255,0.7)"
                  },
                  "meanline": {
                    "visible": true
                  },
                  "name": "매출액",
                  "points": "outliers",
                  "showlegend": false,
                  "type": "violin",
                  "xaxis": "x",
                  "y": {
                    "bdata": "UrgeheuVfkDNzMzMzAh8QFK4HoXr/XFAhetRuB4jh0DsUbgehXeBQIXrUbgeWXVAXI/C9SjoeUBSuB6F60F2QB+F61G43lhAexSuR+E2ekDsUbgehe9zQB+F61G46nlAHoXrUbjGjEBmZmZmZqiBQHsUrkfhdnRAFK5H4Xr8dkAK16NwPWJoQOF6FK5HFXdAKVyPwvUUc0AAAAAAAGBiQOxRuB6Fy2BA16NwPQrfeUC4HoXrUaBhQIXrUbgeLYFAw/UoXI/ifkAAAAAAACiAQOxRuB6F44FAuB6F61H8eEB7FK5H4e5xQClcj8L1KHpAPgrXo3DtfUC4HoXrUax4QClcj8L1OGZArkfhehS+h0DD9Shcj5iAQHsUrkfhhoFA4XoUrkelckBxPQrXo1KAQHsUrkfhqmZAH4XrUbhSeECamZmZmeF+QIXrUbgeyXtAhetRuB5HiUAK16NwPZphQBSuR+F6iHVAzczMzMwEZECkcD0K16WBQFyPwvUorIZACtejcD34jkCkcD0K14N6QAAAAAAANIJA4noUrke9cEDC9ShcjzJjQJqZmZmZaXlAcT0K16PYekCQwvUoXJ95QArXo3A9dnxA7FG4HoWDc0CkcD0K1y+EQNejcD0KgYVASOF6FK7Pe0AzMzMzM2toQHsUrkfhFn9ArkfhehSOVkCF61G4Hr19QClcj8L1ioBA9ihcj8IJcUBmZmZmZqp3QLgehetRxHRAMzMzMzMHdkC4HoXrUXqEQMP1KFyPNoFA9ihcj8J1ckAAAAAAAMR1QPYoXI/C5X5AmpmZmZkdgEBmZmZmZv5hQNejcD0Kt4FAAAAAAAA4c0AAAAAAAGCGQD4K16NwQYRA7FG4HoUPfUC4HoXrUch5QM3MzMzMmHJAH4XrUbiGcEDsUbgehad8QPYoXI/CLXtAAAAAAAAIekD2KFyPwiFwQArXo3A9YmZAwvUoXI/iYEBxPQrXo7x9QML1KFyPanJAw/UoXI/ef0CPwvUoXHt6QPYoXI/C54JAZmZmZma+fkBcj8L1KChxQAAAAAAACHJArkfhehROfEA=",
                    "dtype": "f8"
                  },
                  "yaxis": "y"
                },
                {
                  "box": {
                    "visible": true
                  },
                  "fillcolor": "rgba(40,167,69,0.4)",
                  "line": {
                    "color": "rgba(40,167,69,1)"
                  },
                  "marker": {
                    "color": "rgba(40,167,69,0.7)"
                  },
                  "meanline": {
                    "visible": true
                  },
                  "name": "판매량",
                  "points": "outliers",
                  "showlegend": false,
                  "type": "violin",
                  "xaxis": "x2",
                  "y": {
                    "bdata": "AwoNAgcMBQwNDAgJCAUNAgUNBQQJBgkCBwIKBAMNCwYDBAUJDgwGCQEOAwkCBQgBCQMDBwgFAw4GCgMCAw0NBwsLCwIEAwwLCgoKBgwIAQMGAQQGCggKDgcKDg4HAg0FCwYJDQ==",
                    "dtype": "i1"
                  },
                  "yaxis": "y2"
                }
              ],
              "layout": {
                "annotations": [
                  {
                    "font": {
                      "size": 16
                    },
                    "showarrow": false,
                    "text": "매출액 분포",
                    "x": 0.2125,
                    "xanchor": "center",
                    "xref": "paper",
                    "y": 1,
                    "yanchor": "bottom",
                    "yref": "paper"
                  },
                  {
                    "font": {
                      "size": 16
                    },
                    "showarrow": false,
                    "text": "판매량 분포",
                    "x": 0.7875,
                    "xanchor": "center",
                    "xref": "paper",
                    "y": 1,
                    "yanchor": "bottom",
                    "yref": "paper"
                  }
                ],
                "height": 500,
                "template": {
                  "data": {
                    "bar": [
                      {
                        "error_x": {
                          "color": "#2a3f5f"
                        },
                        "error_y": {
                          "color": "#2a3f5f"
                        },
                        "marker": {
                          "line": {
                            "color": "#E5ECF6",
                            "width": 0.5
                          },
                          "pattern": {
                            "fillmode": "overlay",
                            "size": 10,
                            "solidity": 0.2
                          }
                        },
                        "type": "bar"
                      }
                    ],
                    "barpolar": [
                      {
                        "marker": {
                          "line": {
                            "color": "#E5ECF6",
                            "width": 0.5
                          },
                          "pattern": {
                            "fillmode": "overlay",
                            "size": 10,
                            "solidity": 0.2
                          }
                        },
                        "type": "barpolar"
                      }
                    ],
                    "carpet": [
                      {
                        "aaxis": {
                          "endlinecolor": "#2a3f5f",
                          "gridcolor": "white",
                          "linecolor": "white",
                          "minorgridcolor": "white",
                          "startlinecolor": "#2a3f5f"
                        },
                        "baxis": {
                          "endlinecolor": "#2a3f5f",
                          "gridcolor": "white",
                          "linecolor": "white",
                          "minorgridcolor": "white",
                          "startlinecolor": "#2a3f5f"
                        },
                        "type": "carpet"
                      }
                    ],
                    "choropleth": [
                      {
                        "colorbar": {
                          "outlinewidth": 0,
                          "ticks": ""
                        },
                        "type": "choropleth"
                      }
                    ],
                    "contour": [
                      {
                        "colorbar": {
                          "outlinewidth": 0,
                          "ticks": ""
                        },
                        "colorscale": [
                          [
                            0,
                            "#0d0887"
                          ],
                          [
                            0.1111111111111111,
                            "#46039f"
                          ],
                          [
                            0.2222222222222222,
                            "#7201a8"
                          ],
                          [
                            0.3333333333333333,
                            "#9c179e"
                          ],
                          [
                            0.4444444444444444,
                            "#bd3786"
                          ],
                          [
                            0.5555555555555556,
                            "#d8576b"
                          ],
                          [
                            0.6666666666666666,
                            "#ed7953"
                          ],
                          [
                            0.7777777777777778,
                            "#fb9f3a"
                          ],
                          [
                            0.8888888888888888,
                            "#fdca26"
                          ],
                          [
                            1,
                            "#f0f921"
                          ]
                        ],
                        "type": "contour"
                      }
                    ],
                    "contourcarpet": [
                      {
                        "colorbar": {
                          "outlinewidth": 0,
                          "ticks": ""
                        },
                        "type": "contourcarpet"
                      }
                    ],
                    "heatmap": [
                      {
                        "colorbar": {
                          "outlinewidth": 0,
                          "ticks": ""
                        },
                        "colorscale": [
                          [
                            0,
                            "#0d0887"
                          ],
                          [
                            0.1111111111111111,
                            "#46039f"
                          ],
                          [
                            0.2222222222222222,
                            "#7201a8"
                          ],
                          [
                            0.3333333333333333,
                            "#9c179e"
                          ],
                          [
                            0.4444444444444444,
                            "#bd3786"
                          ],
                          [
                            0.5555555555555556,
                            "#d8576b"
                          ],
                          [
                            0.6666666666666666,
                            "#ed7953"
                          ],
                          [
                            0.7777777777777778,
                            "#fb9f3a"
                          ],
                          [
                            0.8888888888888888,
                            "#fdca26"
                          ],
                          [
                            1,
                            "#f0f921"
                          ]
                        ],
                        "type": "heatmap"
                      }
                    ],
                    "histogram": [
                      {
                        "marker": {
                          "pattern": {
                            "fillmode": "overlay",
                            "size": 10,
                            "solidity": 0.2
                          }
                        },
                        "type": "histogram"
                      }
                    ],
                    "histogram2d": [
                      {
                        "colorbar": {
                          "outlinewidth": 0,
                          "ticks": ""
                        },
                        "colorscale": [
                          [
                            0,
                            "#0d0887"
                          ],
                          [
                            0.1111111111111111,
                            "#46039f"
                          ],
                          [
                            0.2222222222222222,
                            "#7201a8"
                          ],
                          [
                            0.3333333333333333,
                            "#9c179e"
                          ],
                          [
                            0.4444444444444444,
                            "#bd3786"
                          ],
                          [
                            0.5555555555555556,
                            "#d8576b"
                          ],
                          [
                            0.6666666666666666,
                            "#ed7953"
                          ],
                          [
                            0.7777777777777778,
                            "#fb9f3a"
                          ],
                          [
                            0.8888888888888888,
                            "#fdca26"
                          ],
                          [
                            1,
                            "#f0f921"
                          ]
                        ],
                        "type": "histogram2d"
                      }
                    ],
                    "histogram2dcontour": [
                      {
                        "colorbar": {
                          "outlinewidth": 0,
                          "ticks": ""
                        },
                        "colorscale": [
                          [
                            0,
                            "#0d0887"
                          ],
                          [
                            0.1111111111111111,
                            "#46039f"
                          ],
                          [
                            0.2222222222222222,
                            "#7201a8"
                          ],
                          [
                            0.3333333333333333,
                            "#9c179e"
                          ],
                          [
                            0.4444444444444444,
                            "#bd3786"
                          ],
                          [
                            0.5555555555555556,
                            "#d8576b"
                          ],
                          [
                            0.6666666666666666,
                            "#ed7953"
                          ],
                          [
                            0.7777777777777778,
                            "#fb9f3a"
                          ],
                          [
                            0.8888888888888888,
                            "#fdca26"
                          ],
                          [
                            1,
                            "#f0f921"
                          ]
                        ],
                        "type": "histogram2dcontour"
                      }
                    ],
                    "mesh3d": [
                      {
                        "colorbar": {
                          "outlinewidth": 0,
                          "ticks": ""
                        },
                        "type": "mesh3d"
                      }
                    ],
                    "parcoords": [
                      {
                        "line": {
                          "colorbar": {
                            "outlinewidth": 0,
                            "ticks": ""
                          }
                        },
                        "type": "parcoords"
                      }
                    ],
                    "pie": [
                      {
                        "automargin": true,
                        "type": "pie"
                      }
                    ],
                    "scatter": [
                      {
                        "fillpattern": {
                          "fillmode": "overlay",
                          "size": 10,
                          "solidity": 0.2
                        },
                        "type": "scatter"
                      }
                    ],
                    "scatter3d": [
                      {
                        "line": {
                          "colorbar": {
                            "outlinewidth": 0,
                            "ticks": ""
                          }
                        },
                        "marker": {
                          "colorbar": {
                            "outlinewidth": 0,
                            "ticks": ""
                          }
                        },
                        "type": "scatter3d"
                      }
                    ],
                    "scattercarpet": [
                      {
                        "marker": {
                          "colorbar": {
                            "outlinewidth": 0,
                            "ticks": ""
                          }
                        },
                        "type": "scattercarpet"
                      }
                    ],
                    "scattergeo": [
                      {
                        "marker": {
                          "colorbar": {
                            "outlinewidth": 0,
                            "ticks": ""
                          }
                        },
                        "type": "scattergeo"
                      }
                    ],
                    "scattergl": [
                      {
                        "marker": {
                          "colorbar": {
                            "outlinewidth": 0,
                            "ticks": ""
                          }
                        },
                        "type": "scattergl"
                      }
                    ],
                    "scattermap": [
                      {
                        "marker": {
                          "colorbar": {
                            "outlinewidth": 0,
                            "ticks": ""
                          }
                        },
                        "type": "scattermap"
                      }
                    ],
                    "scattermapbox": [
                      {
                        "marker": {
                          "colorbar": {
                            "outlinewidth": 0,
                            "ticks": ""
                          }
                        },
                        "type": "scattermapbox"
                      }
                    ],
                    "scatterpolar": [
                      {
                        "marker": {
                          "colorbar": {
                            "outlinewidth": 0,
                            "ticks": ""
                          }
                        },
                        "type": "scatterpolar"
                      }
                    ],
                    "scatterpolargl": [
                      {
                        "marker": {
                          "colorbar": {
                            "outlinewidth": 0,
                            "ticks": ""
                          }
                        },
                        "type": "scatterpolargl"
                      }
                    ],
                    "scatterternary": [
                      {
                        "marker": {
                          "colorbar": {
                            "outlinewidth": 0,
                            "ticks": ""
                          }
                        },
                        "type": "scatterternary"
                      }
                    ],
                    "surface": [
                      {
                        "colorbar": {
                          "outlinewidth": 0,
                          "ticks": ""
                        },
                        "colorscale": [
                          [
                            0,
                            "#0d0887"
                          ],
                          [
                            0.1111111111111111,
                            "#46039f"
                          ],
                          [
                            0.2222222222222222,
                            "#7201a8"
                          ],
                          [
                            0.3333333333333333,
                            "#9c179e"
                          ],
                          [
                            0.4444444444444444,
                            "#bd3786"
                          ],
                          [
                            0.5555555555555556,
                            "#d8576b"
                          ],
                          [
                            0.6666666666666666,
                            "#ed7953"
                          ],
                          [
                            0.7777777777777778,
                            "#fb9f3a"
                          ],
                          [
                            0.8888888888888888,
                            "#fdca26"
                          ],
                          [
                            1,
                            "#f0f921"
                          ]
                        ],
                        "type": "surface"
                      }
                    ],
                    "table": [
                      {
                        "cells": {
                          "fill": {
                            "color": "#EBF0F8"
                          },
                          "line": {
                            "color": "white"
                          }
                        },
                        "header": {
                          "fill": {
                            "color": "#C8D4E3"
                          },
                          "line": {
                            "color": "white"
                          }
                        },
                        "type": "table"
                      }
                    ]
                  },
                  "layout": {
                    "annotationdefaults": {
                      "arrowcolor": "#2a3f5f",
                      "arrowhead": 0,
                      "arrowwidth": 1
                    },
                    "autotypenumbers": "strict",
                    "coloraxis": {
                      "colorbar": {
                        "outlinewidth": 0,
                        "ticks": ""
                      }
                    },
                    "colorscale": {
                      "diverging": [
                        [
                          0,
                          "#8e0152"
                        ],
                        [
                          0.1,
                          "#c51b7d"
                        ],
                        [
                          0.2,
                          "#de77ae"
                        ],
                        [
                          0.3,
                          "#f1b6da"
                        ],
                        [
                          0.4,
                          "#fde0ef"
                        ],
                        [
                          0.5,
                          "#f7f7f7"
                        ],
                        [
                          0.6,
                          "#e6f5d0"
                        ],
                        [
                          0.7,
                          "#b8e186"
                        ],
                        [
                          0.8,
                          "#7fbc41"
                        ],
                        [
                          0.9,
                          "#4d9221"
                        ],
                        [
                          1,
                          "#276419"
                        ]
                      ],
                      "sequential": [
                        [
                          0,
                          "#0d0887"
                        ],
                        [
                          0.1111111111111111,
                          "#46039f"
                        ],
                        [
                          0.2222222222222222,
                          "#7201a8"
                        ],
                        [
                          0.3333333333333333,
                          "#9c179e"
                        ],
                        [
                          0.4444444444444444,
                          "#bd3786"
                        ],
                        [
                          0.5555555555555556,
                          "#d8576b"
                        ],
                        [
                          0.6666666666666666,
                          "#ed7953"
                        ],
                        [
                          0.7777777777777778,
                          "#fb9f3a"
                        ],
                        [
                          0.8888888888888888,
                          "#fdca26"
                        ],
                        [
                          1,
                          "#f0f921"
                        ]
                      ],
                      "sequentialminus": [
                        [
                          0,
                          "#0d0887"
                        ],
                        [
                          0.1111111111111111,
                          "#46039f"
                        ],
                        [
                          0.2222222222222222,
                          "#7201a8"
                        ],
                        [
                          0.3333333333333333,
                          "#9c179e"
                        ],
                        [
                          0.4444444444444444,
                          "#bd3786"
                        ],
                        [
                          0.5555555555555556,
                          "#d8576b"
                        ],
                        [
                          0.6666666666666666,
                          "#ed7953"
                        ],
                        [
                          0.7777777777777778,
                          "#fb9f3a"
                        ],
                        [
                          0.8888888888888888,
                          "#fdca26"
                        ],
                        [
                          1,
                          "#f0f921"
                        ]
                      ]
                    },
                    "colorway": [
                      "#636efa",
                      "#EF553B",
                      "#00cc96",
                      "#ab63fa",
                      "#FFA15A",
                      "#19d3f3",
                      "#FF6692",
                      "#B6E880",
                      "#FF97FF",
                      "#FECB52"
                    ],
                    "font": {
                      "color": "#2a3f5f"
                    },
                    "geo": {
                      "bgcolor": "white",
                      "lakecolor": "white",
                      "landcolor": "#E5ECF6",
                      "showlakes": true,
                      "showland": true,
                      "subunitcolor": "white"
                    },
                    "hoverlabel": {
                      "align": "left"
                    },
                    "hovermode": "closest",
                    "mapbox": {
                      "style": "light"
                    },
                    "paper_bgcolor": "white",
                    "plot_bgcolor": "#E5ECF6",
                    "polar": {
                      "angularaxis": {
                        "gridcolor": "white",
                        "linecolor": "white",
                        "ticks": ""
                      },
                      "bgcolor": "#E5ECF6",
                      "radialaxis": {
                        "gridcolor": "white",
                        "linecolor": "white",
                        "ticks": ""
                      }
                    },
                    "scene": {
                      "xaxis": {
                        "backgroundcolor": "#E5ECF6",
                        "gridcolor": "white",
                        "gridwidth": 2,
                        "linecolor": "white",
                        "showbackground": true,
                        "ticks": "",
                        "zerolinecolor": "white"
                      },
                      "yaxis": {
                        "backgroundcolor": "#E5ECF6",
                        "gridcolor": "white",
                        "gridwidth": 2,
                        "linecolor": "white",
                        "showbackground": true,
                        "ticks": "",
                        "zerolinecolor": "white"
                      },
                      "zaxis": {
                        "backgroundcolor": "#E5ECF6",
                        "gridcolor": "white",
                        "gridwidth": 2,
                        "linecolor": "white",
                        "showbackground": true,
                        "ticks": "",
                        "zerolinecolor": "white"
                      }
                    },
                    "shapedefaults": {
                      "line": {
                        "color": "#2a3f5f"
                      }
                    },
                    "ternary": {
                      "aaxis": {
                        "gridcolor": "white",
                        "linecolor": "white",
                        "ticks": ""
                      },
                      "baxis": {
                        "gridcolor": "white",
                        "linecolor": "white",
                        "ticks": ""
                      },
                      "bgcolor": "#E5ECF6",
                      "caxis": {
                        "gridcolor": "white",
                        "linecolor": "white",
                        "ticks": ""
                      }
                    },
                    "title": {
                      "x": 0.05
                    },
                    "xaxis": {
                      "automargin": true,
                      "gridcolor": "white",
                      "linecolor": "white",
                      "ticks": "",
                      "title": {
                        "standoff": 15
                      },
                      "zerolinecolor": "white",
                      "zerolinewidth": 2
                    },
                    "yaxis": {
                      "automargin": true,
                      "gridcolor": "white",
                      "linecolor": "white",
                      "ticks": "",
                      "title": {
                        "standoff": 15
                      },
                      "zerolinecolor": "white",
                      "zerolinewidth": 2
                    }
                  }
                },
                "title": {
                  "text": "매출액, 판매량 분포 시각화"
                },
                "width": 900,
                "xaxis": {
                  "anchor": "y",
                  "domain": [
                    0,
                    0.425
                  ],
                  "showticklabels": false
                },
                "xaxis2": {
                  "anchor": "y2",
                  "domain": [
                    0.575,
                    1
                  ],
                  "showticklabels": false
                },
                "yaxis": {
                  "anchor": "x",
                  "domain": [
                    0,
                    1
                  ],
                  "title": {
                    "text": "매출액"
                  }
                },
                "yaxis2": {
                  "anchor": "x2",
                  "domain": [
                    0,
                    1
                  ],
                  "title": {
                    "text": "판매량"
                  }
                }
              }
            }
          },
          "metadata": {},
          "output_type": "display_data"
        }
      ],
      "source": [
        "# 매출액(revenue)와 판매량(quantity) 분포 시각화 (바이올린 플롯, 1x2 서브플롯)\n",
        "from plotly.subplots import make_subplots\n",
        "import plotly.graph_objects as go\n",
        "\n",
        "fig = make_subplots(\n",
        "    rows=1, cols=2,\n",
        "    subplot_titles=(\"매출액 분포\", \"판매량 분포\"),\n",
        "    horizontal_spacing=0.15\n",
        ")\n",
        "\n",
        "# 매출액 바이올린 플롯\n",
        "fig.add_trace(\n",
        "    go.Violin(\n",
        "        y=df['revenue'],\n",
        "        name='매출액',\n",
        "        box_visible=True,\n",
        "        meanline_visible=True,\n",
        "        line_color='rgba(0,123,255,1)',\n",
        "        fillcolor='rgba(0,123,255,0.4)',\n",
        "        marker=dict(color='rgba(0,123,255,0.7)'),\n",
        "        points='outliers',\n",
        "        showlegend=False\n",
        "    ),\n",
        "    row=1, col=1\n",
        ")\n",
        "\n",
        "# 판매량 바이올린 플롯\n",
        "fig.add_trace(\n",
        "    go.Violin(\n",
        "        y=df['quantity'],\n",
        "        name='판매량',\n",
        "        box_visible=True,\n",
        "        meanline_visible=True,\n",
        "        line_color='rgba(40,167,69,1)',\n",
        "        fillcolor='rgba(40,167,69,0.4)',\n",
        "        marker=dict(color='rgba(40,167,69,0.7)'),\n",
        "        points='outliers',\n",
        "        showlegend=False\n",
        "    ),\n",
        "    row=1, col=2\n",
        ")\n",
        "\n",
        "fig.update_layout(\n",
        "    title_text=\"매출액, 판매량 분포 시각화\",\n",
        "    height=500,\n",
        "    width=900\n",
        ")\n",
        "\n",
        "fig.update_yaxes(title_text=\"매출액\", row=1, col=1)\n",
        "fig.update_yaxes(title_text=\"판매량\", row=1, col=2)\n",
        "fig.update_xaxes(showticklabels=False, row=1, col=1)\n",
        "fig.update_xaxes(showticklabels=False, row=1, col=2)\n",
        "\n",
        "\n",
        "fig.show()\n"
      ]
    },
    {
      "cell_type": "markdown",
      "metadata": {},
      "source": [
        "개별 통계량 계산\n"
      ]
    },
    {
      "cell_type": "markdown",
      "metadata": {},
      "source": [
        "| 통계량         | 메서드                                              |\n",
        "|:--------------|:---------------------------------------------------|\n",
        "| 평균          | df['revenue'].mean()                               |\n",
        "| 중앙값        | df['revenue'].median()                             |\n",
        "| 최빈값        | df['revenue'].mode().iloc[0]                       |\n",
        "| 분산          | df['revenue'].var()                                |\n",
        "| 표준편차      | df['revenue'].std()                                |\n",
        "| 최솟값        | df['revenue'].min()                                |\n",
        "| 최댓값        | df['revenue'].max()                                |\n",
        "| 범위          | df['revenue'].max() - df['revenue'].min()          |\n",
        "| IQR(사분위범위)| df['revenue'].quantile(0.75) - df['revenue'].quantile(0.25) |\n",
        "| 왜도          | stats.skew(df['revenue'])                          |\n",
        "| 첨도          | stats.kurtosis(df['revenue'])                      |\n",
        "\n"
      ]
    },
    {
      "cell_type": "code",
      "execution_count": 9,
      "metadata": {},
      "outputs": [
        {
          "data": {
            "text/plain": [
              "394.39689999999996"
            ]
          },
          "execution_count": 9,
          "metadata": {},
          "output_type": "execute_result"
        }
      ],
      "source": [
        "# 매출액 평균: {df['revenue'].mean():.2f}\n",
        "float(df['revenue'].mean())"
      ]
    },
    {
      "cell_type": "code",
      "execution_count": 10,
      "metadata": {},
      "outputs": [
        {
          "data": {
            "text/plain": [
              "401.20000000000005"
            ]
          },
          "execution_count": 10,
          "metadata": {},
          "output_type": "execute_result"
        }
      ],
      "source": [
        "# 매출액 중앙값: {df['revenue'].median():.2f}\n",
        "float(df['revenue'].median())"
      ]
    },
    {
      "cell_type": "code",
      "execution_count": 15,
      "metadata": {},
      "outputs": [
        {
          "data": {
            "text/plain": [
              "49.75"
            ]
          },
          "execution_count": 15,
          "metadata": {},
          "output_type": "execute_result"
        }
      ],
      "source": [
        "# 매출액 최빈값: {df['revenue'].mode().iloc[0] if not df['revenue'].mode().empty else 'N/A'} # 최빈값이 여러 개일 수 있음\n",
        "float(df['revenue'].mode().iloc[0]) if not df['revenue'].mode().empty else 'N/A'"
      ]
    },
    {
      "cell_type": "markdown",
      "metadata": {},
      "source": [
        "#### 분산 개념\n",
        "> 분산(Variance)은 데이터가 평균으로부터 얼마나 퍼져있는지를 나타내는 지표입니다.\n",
        "> \n",
        "> 각 데이터 포인트와 평균의 차이를 제곱한 값의 평균으로 계산됩니다.\n",
        "> \n",
        "> 공식: σ² = Σ(xᵢ - μ)² / N\n",
        ">   - σ²: 분산\n",
        ">   - xᵢ: 개별 데이터 포인트\n",
        ">   - μ: 평균\n",
        ">   - N: 데이터 포인트 수\n",
        "> \n",
        "> 값이 클수록 데이터가 평균에서 멀리 퍼져있음을 의미합니다.\n",
        "> \n",
        "> 제곱 단위이므로 해석이 어려울 수 있습니다."
      ]
    },
    {
      "cell_type": "code",
      "execution_count": 16,
      "metadata": {},
      "outputs": [
        {
          "data": {
            "text/plain": [
              "33406.2158640303"
            ]
          },
          "execution_count": 16,
          "metadata": {},
          "output_type": "execute_result"
        }
      ],
      "source": [
        "# 매출액 분산: {df['revenue'].var():.2f}\n",
        "float(df['revenue'].var())"
      ]
    },
    {
      "cell_type": "markdown",
      "metadata": {},
      "source": [
        "#### 표준편차 개념\n",
        "> 표준편차(Standard Deviation)는 분산의 제곱근으로, 데이터의 분산 정도를 원래 단위로 표현한 것입니다.\n",
        "> \n",
        "> 공식: σ = √(Σ(xᵢ - μ)² / N)\n",
        ">   - σ: 표준편차\n",
        ">   - xᵢ: 개별 데이터 포인트\n",
        ">   - μ: 평균\n",
        ">   - N: 데이터 포인트 수\n",
        "> \n",
        "> 분산보다 직관적으로 해석하기 쉬우며, 같은 단위를 사용합니다.\n",
        "> \n",
        "> 작을수록 데이터가 평균에 모여있고, 클수록 퍼져있음을 의미합니다."
      ]
    },
    {
      "cell_type": "code",
      "execution_count": 17,
      "metadata": {},
      "outputs": [
        {
          "data": {
            "text/plain": [
              "182.7736738811974"
            ]
          },
          "execution_count": 17,
          "metadata": {},
          "output_type": "execute_result"
        }
      ],
      "source": [
        "# 매출액 표준편차: {df['revenue'].std():.2f}\n",
        "float(df['revenue'].std())"
      ]
    },
    {
      "cell_type": "code",
      "execution_count": 21,
      "metadata": {},
      "outputs": [
        {
          "data": {
            "text/plain": [
              "969.1"
            ]
          },
          "execution_count": 21,
          "metadata": {},
          "output_type": "execute_result"
        }
      ],
      "source": [
        "# 매출액 범위: {df['revenue'].max() - df['revenue'].min():.2f}\n",
        "float(df['revenue'].max() - df['revenue'].min())"
      ]
    },
    {
      "cell_type": "markdown",
      "metadata": {},
      "source": [
        "#### 왜도(Skewness) 개념\n",
        "> 왜도는 데이터 분포의 비대칭 정도를 나타내는 통계량입니다.\n",
        "> \n",
        "> 양의 왜도: 오른쪽 꼬리가 길어지고 평균 > 중앙값 (오른쪽으로 치우침)\n",
        "> 음의 왜도: 왼쪽 꼬리가 길어지고 평균 < 중앙값 (왼쪽으로 치우침)\n",
        "> 0에 가까울수록 대칭에 가까운 분포\n",
        "> \n",
        "> 일반적으로 절대값이 1보다 크면 심한 비대칭으로 간주합니다.\n",
        "> \n",
        "> 수식: γ₁ = [Σ(xᵢ - μ)³/N] / σ³\n",
        ">   - γ₁: 왜도\n",
        ">   - xᵢ: 개별 데이터 포인트\n",
        ">   - μ: 평균\n",
        ">   - σ: 표준편차\n",
        ">   - N: 데이터 포인트 수"
      ]
    },
    {
      "cell_type": "markdown",
      "metadata": {},
      "source": [
        "\n",
        "#### 첨도(Kurtosis) 개념\n",
        "> 첨도는 분포의 꼬리 두께와 뾰족함을 나타내는 통계량입니다.\n",
        "> \n",
        "> 양의 첨도: 정규분포보다 뾰족하고 꼬리가 두꺼움 (극단값 가능성 높음)\n",
        "> 음의 첨도: 정규분포보다 평평하고 꼬리가 얇음\n",
        "> 정규분포 첨도: 0 (Fisher 정의 기준)\n",
        "> \n",
        "> 수식: γ₂ = [Σ(xᵢ - μ)⁴/N] / σ⁴ - 3\n",
        ">   - γ₂: 첨도\n",
        ">   - xᵢ: 개별 데이터 포인트\n",
        ">   - μ: 평균\n",
        ">   - σ: 표준편차\n",
        ">   - N: 데이터 포인트 수\n",
        "> \n",
        "> 리스크 분석에서 유용하게 사용되며, 극단값 가능성을 평가하는 지표입니다.\n"
      ]
    },
    {
      "cell_type": "code",
      "execution_count": 22,
      "metadata": {},
      "outputs": [
        {
          "name": "stdout",
          "output_type": "stream",
          "text": [
            "왜도(Skewness): 0.80\n",
            "첨도(Kurtosis): 1.62\n"
          ]
        }
      ],
      "source": [
        "from scipy import stats\n",
        "skewness = stats.skew(df['revenue'])\n",
        "kurtosis = stats.kurtosis(df['revenue']) # Fisher's definition (정규분포 = 0)\n",
        "\n",
        "print(f\"왜도(Skewness): {skewness:.2f}\")\n",
        "print(f\"첨도(Kurtosis): {kurtosis:.2f}\")"
      ]
    },
    {
      "cell_type": "markdown",
      "metadata": {},
      "source": [
        "#### IQR(사분위 범위) 개념\n",
        "> IQR(Interquartile Range)은 데이터의 중간 50%가 분포하는 범위를 나타냅니다.\n",
        "> \n",
        "> 제1사분위수(Q₁, 25% 위치)와 제3사분위수(Q₃, 75% 위치)의 차이로 계산됩니다.\n",
        "> \n",
        "> IQR = Q₃ - Q₁\n",
        "> \n",
        "> 이상치 탐지에 유용하게 사용되며, 일반적으로 `Q₁ - 1.5 × IQR` 미만 또는 `Q₃ + 1.5 × IQR` 초과인 값을 이상치로 판단합니다.\n",
        "> \n",
        "> 데이터의 분포가 치우쳐져 있을 때 유용한 통계량입니다.\n"
      ]
    },
    {
      "cell_type": "code",
      "execution_count": 36,
      "metadata": {},
      "outputs": [
        {
          "data": {
            "text/html": [
              "<div>\n",
              "<style scoped>\n",
              "    .dataframe tbody tr th:only-of-type {\n",
              "        vertical-align: middle;\n",
              "    }\n",
              "\n",
              "    .dataframe tbody tr th {\n",
              "        vertical-align: top;\n",
              "    }\n",
              "\n",
              "    .dataframe thead th {\n",
              "        text-align: right;\n",
              "    }\n",
              "</style>\n",
              "<table border=\"1\" class=\"dataframe\">\n",
              "  <thead>\n",
              "    <tr style=\"text-align: right;\">\n",
              "      <th></th>\n",
              "      <th>Id</th>\n",
              "      <th>MSSubClass</th>\n",
              "      <th>MSZoning</th>\n",
              "      <th>LotFrontage</th>\n",
              "      <th>LotArea</th>\n",
              "      <th>Street</th>\n",
              "      <th>Alley</th>\n",
              "      <th>LotShape</th>\n",
              "      <th>LandContour</th>\n",
              "      <th>Utilities</th>\n",
              "      <th>...</th>\n",
              "      <th>PoolArea</th>\n",
              "      <th>PoolQC</th>\n",
              "      <th>Fence</th>\n",
              "      <th>MiscFeature</th>\n",
              "      <th>MiscVal</th>\n",
              "      <th>MoSold</th>\n",
              "      <th>YrSold</th>\n",
              "      <th>SaleType</th>\n",
              "      <th>SaleCondition</th>\n",
              "      <th>SalePrice</th>\n",
              "    </tr>\n",
              "  </thead>\n",
              "  <tbody>\n",
              "    <tr>\n",
              "      <th>0</th>\n",
              "      <td>1</td>\n",
              "      <td>60</td>\n",
              "      <td>RL</td>\n",
              "      <td>65.0</td>\n",
              "      <td>8450</td>\n",
              "      <td>Pave</td>\n",
              "      <td>NaN</td>\n",
              "      <td>Reg</td>\n",
              "      <td>Lvl</td>\n",
              "      <td>AllPub</td>\n",
              "      <td>...</td>\n",
              "      <td>0</td>\n",
              "      <td>NaN</td>\n",
              "      <td>NaN</td>\n",
              "      <td>NaN</td>\n",
              "      <td>0</td>\n",
              "      <td>2</td>\n",
              "      <td>2008</td>\n",
              "      <td>WD</td>\n",
              "      <td>Normal</td>\n",
              "      <td>208500</td>\n",
              "    </tr>\n",
              "    <tr>\n",
              "      <th>1</th>\n",
              "      <td>2</td>\n",
              "      <td>20</td>\n",
              "      <td>RL</td>\n",
              "      <td>80.0</td>\n",
              "      <td>9600</td>\n",
              "      <td>Pave</td>\n",
              "      <td>NaN</td>\n",
              "      <td>Reg</td>\n",
              "      <td>Lvl</td>\n",
              "      <td>AllPub</td>\n",
              "      <td>...</td>\n",
              "      <td>0</td>\n",
              "      <td>NaN</td>\n",
              "      <td>NaN</td>\n",
              "      <td>NaN</td>\n",
              "      <td>0</td>\n",
              "      <td>5</td>\n",
              "      <td>2007</td>\n",
              "      <td>WD</td>\n",
              "      <td>Normal</td>\n",
              "      <td>181500</td>\n",
              "    </tr>\n",
              "    <tr>\n",
              "      <th>2</th>\n",
              "      <td>3</td>\n",
              "      <td>60</td>\n",
              "      <td>RL</td>\n",
              "      <td>68.0</td>\n",
              "      <td>11250</td>\n",
              "      <td>Pave</td>\n",
              "      <td>NaN</td>\n",
              "      <td>IR1</td>\n",
              "      <td>Lvl</td>\n",
              "      <td>AllPub</td>\n",
              "      <td>...</td>\n",
              "      <td>0</td>\n",
              "      <td>NaN</td>\n",
              "      <td>NaN</td>\n",
              "      <td>NaN</td>\n",
              "      <td>0</td>\n",
              "      <td>9</td>\n",
              "      <td>2008</td>\n",
              "      <td>WD</td>\n",
              "      <td>Normal</td>\n",
              "      <td>223500</td>\n",
              "    </tr>\n",
              "    <tr>\n",
              "      <th>3</th>\n",
              "      <td>4</td>\n",
              "      <td>70</td>\n",
              "      <td>RL</td>\n",
              "      <td>60.0</td>\n",
              "      <td>9550</td>\n",
              "      <td>Pave</td>\n",
              "      <td>NaN</td>\n",
              "      <td>IR1</td>\n",
              "      <td>Lvl</td>\n",
              "      <td>AllPub</td>\n",
              "      <td>...</td>\n",
              "      <td>0</td>\n",
              "      <td>NaN</td>\n",
              "      <td>NaN</td>\n",
              "      <td>NaN</td>\n",
              "      <td>0</td>\n",
              "      <td>2</td>\n",
              "      <td>2006</td>\n",
              "      <td>WD</td>\n",
              "      <td>Abnorml</td>\n",
              "      <td>140000</td>\n",
              "    </tr>\n",
              "    <tr>\n",
              "      <th>4</th>\n",
              "      <td>5</td>\n",
              "      <td>60</td>\n",
              "      <td>RL</td>\n",
              "      <td>84.0</td>\n",
              "      <td>14260</td>\n",
              "      <td>Pave</td>\n",
              "      <td>NaN</td>\n",
              "      <td>IR1</td>\n",
              "      <td>Lvl</td>\n",
              "      <td>AllPub</td>\n",
              "      <td>...</td>\n",
              "      <td>0</td>\n",
              "      <td>NaN</td>\n",
              "      <td>NaN</td>\n",
              "      <td>NaN</td>\n",
              "      <td>0</td>\n",
              "      <td>12</td>\n",
              "      <td>2008</td>\n",
              "      <td>WD</td>\n",
              "      <td>Normal</td>\n",
              "      <td>250000</td>\n",
              "    </tr>\n",
              "  </tbody>\n",
              "</table>\n",
              "<p>5 rows × 81 columns</p>\n",
              "</div>"
            ],
            "text/plain": [
              "   Id  MSSubClass MSZoning  LotFrontage  LotArea Street Alley LotShape  \\\n",
              "0   1          60       RL         65.0     8450   Pave   NaN      Reg   \n",
              "1   2          20       RL         80.0     9600   Pave   NaN      Reg   \n",
              "2   3          60       RL         68.0    11250   Pave   NaN      IR1   \n",
              "3   4          70       RL         60.0     9550   Pave   NaN      IR1   \n",
              "4   5          60       RL         84.0    14260   Pave   NaN      IR1   \n",
              "\n",
              "  LandContour Utilities  ... PoolArea PoolQC Fence MiscFeature MiscVal MoSold  \\\n",
              "0         Lvl    AllPub  ...        0    NaN   NaN         NaN       0      2   \n",
              "1         Lvl    AllPub  ...        0    NaN   NaN         NaN       0      5   \n",
              "2         Lvl    AllPub  ...        0    NaN   NaN         NaN       0      9   \n",
              "3         Lvl    AllPub  ...        0    NaN   NaN         NaN       0      2   \n",
              "4         Lvl    AllPub  ...        0    NaN   NaN         NaN       0     12   \n",
              "\n",
              "  YrSold  SaleType  SaleCondition  SalePrice  \n",
              "0   2008        WD         Normal     208500  \n",
              "1   2007        WD         Normal     181500  \n",
              "2   2008        WD         Normal     223500  \n",
              "3   2006        WD        Abnorml     140000  \n",
              "4   2008        WD         Normal     250000  \n",
              "\n",
              "[5 rows x 81 columns]"
            ]
          },
          "execution_count": 36,
          "metadata": {},
          "output_type": "execute_result"
        }
      ],
      "source": [
        "# 샘플 데이터 로드 : 미국 주택 가격 데이터\n",
        "from sklearn.datasets import fetch_openml\n",
        "housing = fetch_openml(name=\"house_prices\", as_frame=True)\n",
        "df = housing.frame\n",
        "df.head()"
      ]
    },
    {
      "cell_type": "code",
      "execution_count": 37,
      "metadata": {},
      "outputs": [
        {
          "name": "stdout",
          "output_type": "stream",
          "text": [
            "주택가격(SalePrice) 이상치 (IQR rule) 개수: 61\n"
          ]
        }
      ],
      "source": [
        "# 주택가격 데이터의 이상치 간략 확인 (IQR rule)\n",
        "Q1 = df['SalePrice'].quantile(0.25)\n",
        "Q3 = df['SalePrice'].quantile(0.75)\n",
        "IQR = Q3 - Q1\n",
        "lower_bound = Q1 - 1.5 * IQR\n",
        "upper_bound = Q3 + 1.5 * IQR\n",
        "outliers = df[(df['SalePrice'] < lower_bound) | (df['SalePrice'] > upper_bound)]\n",
        "print(f\"주택가격(SalePrice) 이상치 (IQR rule) 개수: {len(outliers)}\")"
      ]
    },
    {
      "cell_type": "code",
      "execution_count": 38,
      "metadata": {},
      "outputs": [
        {
          "data": {
            "application/vnd.plotly.v1+json": {
              "config": {
                "plotlyServerURL": "https://plot.ly"
              },
              "data": [
                {
                  "alignmentgroup": "True",
                  "boxpoints": "outliers",
                  "hovertemplate": "주택 가격($)=%{x}<extra></extra>",
                  "legendgroup": "",
                  "line": {
                    "color": "darkblue"
                  },
                  "marker": {
                    "color": "red",
                    "opacity": 0.7,
                    "size": 5
                  },
                  "name": "",
                  "notched": false,
                  "offsetgroup": "",
                  "orientation": "h",
                  "showlegend": false,
                  "type": "box",
                  "x": {
                    "bdata": "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",
                    "dtype": "i4"
                  },
                  "x0": " ",
                  "xaxis": "x",
                  "y0": " ",
                  "yaxis": "y"
                }
              ],
              "layout": {
                "boxmode": "group",
                "legend": {
                  "tracegroupgap": 0
                },
                "plot_bgcolor": "white",
                "showlegend": false,
                "template": {
                  "data": {
                    "bar": [
                      {
                        "error_x": {
                          "color": "#2a3f5f"
                        },
                        "error_y": {
                          "color": "#2a3f5f"
                        },
                        "marker": {
                          "line": {
                            "color": "#E5ECF6",
                            "width": 0.5
                          },
                          "pattern": {
                            "fillmode": "overlay",
                            "size": 10,
                            "solidity": 0.2
                          }
                        },
                        "type": "bar"
                      }
                    ],
                    "barpolar": [
                      {
                        "marker": {
                          "line": {
                            "color": "#E5ECF6",
                            "width": 0.5
                          },
                          "pattern": {
                            "fillmode": "overlay",
                            "size": 10,
                            "solidity": 0.2
                          }
                        },
                        "type": "barpolar"
                      }
                    ],
                    "carpet": [
                      {
                        "aaxis": {
                          "endlinecolor": "#2a3f5f",
                          "gridcolor": "white",
                          "linecolor": "white",
                          "minorgridcolor": "white",
                          "startlinecolor": "#2a3f5f"
                        },
                        "baxis": {
                          "endlinecolor": "#2a3f5f",
                          "gridcolor": "white",
                          "linecolor": "white",
                          "minorgridcolor": "white",
                          "startlinecolor": "#2a3f5f"
                        },
                        "type": "carpet"
                      }
                    ],
                    "choropleth": [
                      {
                        "colorbar": {
                          "outlinewidth": 0,
                          "ticks": ""
                        },
                        "type": "choropleth"
                      }
                    ],
                    "contour": [
                      {
                        "colorbar": {
                          "outlinewidth": 0,
                          "ticks": ""
                        },
                        "colorscale": [
                          [
                            0,
                            "#0d0887"
                          ],
                          [
                            0.1111111111111111,
                            "#46039f"
                          ],
                          [
                            0.2222222222222222,
                            "#7201a8"
                          ],
                          [
                            0.3333333333333333,
                            "#9c179e"
                          ],
                          [
                            0.4444444444444444,
                            "#bd3786"
                          ],
                          [
                            0.5555555555555556,
                            "#d8576b"
                          ],
                          [
                            0.6666666666666666,
                            "#ed7953"
                          ],
                          [
                            0.7777777777777778,
                            "#fb9f3a"
                          ],
                          [
                            0.8888888888888888,
                            "#fdca26"
                          ],
                          [
                            1,
                            "#f0f921"
                          ]
                        ],
                        "type": "contour"
                      }
                    ],
                    "contourcarpet": [
                      {
                        "colorbar": {
                          "outlinewidth": 0,
                          "ticks": ""
                        },
                        "type": "contourcarpet"
                      }
                    ],
                    "heatmap": [
                      {
                        "colorbar": {
                          "outlinewidth": 0,
                          "ticks": ""
                        },
                        "colorscale": [
                          [
                            0,
                            "#0d0887"
                          ],
                          [
                            0.1111111111111111,
                            "#46039f"
                          ],
                          [
                            0.2222222222222222,
                            "#7201a8"
                          ],
                          [
                            0.3333333333333333,
                            "#9c179e"
                          ],
                          [
                            0.4444444444444444,
                            "#bd3786"
                          ],
                          [
                            0.5555555555555556,
                            "#d8576b"
                          ],
                          [
                            0.6666666666666666,
                            "#ed7953"
                          ],
                          [
                            0.7777777777777778,
                            "#fb9f3a"
                          ],
                          [
                            0.8888888888888888,
                            "#fdca26"
                          ],
                          [
                            1,
                            "#f0f921"
                          ]
                        ],
                        "type": "heatmap"
                      }
                    ],
                    "histogram": [
                      {
                        "marker": {
                          "pattern": {
                            "fillmode": "overlay",
                            "size": 10,
                            "solidity": 0.2
                          }
                        },
                        "type": "histogram"
                      }
                    ],
                    "histogram2d": [
                      {
                        "colorbar": {
                          "outlinewidth": 0,
                          "ticks": ""
                        },
                        "colorscale": [
                          [
                            0,
                            "#0d0887"
                          ],
                          [
                            0.1111111111111111,
                            "#46039f"
                          ],
                          [
                            0.2222222222222222,
                            "#7201a8"
                          ],
                          [
                            0.3333333333333333,
                            "#9c179e"
                          ],
                          [
                            0.4444444444444444,
                            "#bd3786"
                          ],
                          [
                            0.5555555555555556,
                            "#d8576b"
                          ],
                          [
                            0.6666666666666666,
                            "#ed7953"
                          ],
                          [
                            0.7777777777777778,
                            "#fb9f3a"
                          ],
                          [
                            0.8888888888888888,
                            "#fdca26"
                          ],
                          [
                            1,
                            "#f0f921"
                          ]
                        ],
                        "type": "histogram2d"
                      }
                    ],
                    "histogram2dcontour": [
                      {
                        "colorbar": {
                          "outlinewidth": 0,
                          "ticks": ""
                        },
                        "colorscale": [
                          [
                            0,
                            "#0d0887"
                          ],
                          [
                            0.1111111111111111,
                            "#46039f"
                          ],
                          [
                            0.2222222222222222,
                            "#7201a8"
                          ],
                          [
                            0.3333333333333333,
                            "#9c179e"
                          ],
                          [
                            0.4444444444444444,
                            "#bd3786"
                          ],
                          [
                            0.5555555555555556,
                            "#d8576b"
                          ],
                          [
                            0.6666666666666666,
                            "#ed7953"
                          ],
                          [
                            0.7777777777777778,
                            "#fb9f3a"
                          ],
                          [
                            0.8888888888888888,
                            "#fdca26"
                          ],
                          [
                            1,
                            "#f0f921"
                          ]
                        ],
                        "type": "histogram2dcontour"
                      }
                    ],
                    "mesh3d": [
                      {
                        "colorbar": {
                          "outlinewidth": 0,
                          "ticks": ""
                        },
                        "type": "mesh3d"
                      }
                    ],
                    "parcoords": [
                      {
                        "line": {
                          "colorbar": {
                            "outlinewidth": 0,
                            "ticks": ""
                          }
                        },
                        "type": "parcoords"
                      }
                    ],
                    "pie": [
                      {
                        "automargin": true,
                        "type": "pie"
                      }
                    ],
                    "scatter": [
                      {
                        "fillpattern": {
                          "fillmode": "overlay",
                          "size": 10,
                          "solidity": 0.2
                        },
                        "type": "scatter"
                      }
                    ],
                    "scatter3d": [
                      {
                        "line": {
                          "colorbar": {
                            "outlinewidth": 0,
                            "ticks": ""
                          }
                        },
                        "marker": {
                          "colorbar": {
                            "outlinewidth": 0,
                            "ticks": ""
                          }
                        },
                        "type": "scatter3d"
                      }
                    ],
                    "scattercarpet": [
                      {
                        "marker": {
                          "colorbar": {
                            "outlinewidth": 0,
                            "ticks": ""
                          }
                        },
                        "type": "scattercarpet"
                      }
                    ],
                    "scattergeo": [
                      {
                        "marker": {
                          "colorbar": {
                            "outlinewidth": 0,
                            "ticks": ""
                          }
                        },
                        "type": "scattergeo"
                      }
                    ],
                    "scattergl": [
                      {
                        "marker": {
                          "colorbar": {
                            "outlinewidth": 0,
                            "ticks": ""
                          }
                        },
                        "type": "scattergl"
                      }
                    ],
                    "scattermap": [
                      {
                        "marker": {
                          "colorbar": {
                            "outlinewidth": 0,
                            "ticks": ""
                          }
                        },
                        "type": "scattermap"
                      }
                    ],
                    "scattermapbox": [
                      {
                        "marker": {
                          "colorbar": {
                            "outlinewidth": 0,
                            "ticks": ""
                          }
                        },
                        "type": "scattermapbox"
                      }
                    ],
                    "scatterpolar": [
                      {
                        "marker": {
                          "colorbar": {
                            "outlinewidth": 0,
                            "ticks": ""
                          }
                        },
                        "type": "scatterpolar"
                      }
                    ],
                    "scatterpolargl": [
                      {
                        "marker": {
                          "colorbar": {
                            "outlinewidth": 0,
                            "ticks": ""
                          }
                        },
                        "type": "scatterpolargl"
                      }
                    ],
                    "scatterternary": [
                      {
                        "marker": {
                          "colorbar": {
                            "outlinewidth": 0,
                            "ticks": ""
                          }
                        },
                        "type": "scatterternary"
                      }
                    ],
                    "surface": [
                      {
                        "colorbar": {
                          "outlinewidth": 0,
                          "ticks": ""
                        },
                        "colorscale": [
                          [
                            0,
                            "#0d0887"
                          ],
                          [
                            0.1111111111111111,
                            "#46039f"
                          ],
                          [
                            0.2222222222222222,
                            "#7201a8"
                          ],
                          [
                            0.3333333333333333,
                            "#9c179e"
                          ],
                          [
                            0.4444444444444444,
                            "#bd3786"
                          ],
                          [
                            0.5555555555555556,
                            "#d8576b"
                          ],
                          [
                            0.6666666666666666,
                            "#ed7953"
                          ],
                          [
                            0.7777777777777778,
                            "#fb9f3a"
                          ],
                          [
                            0.8888888888888888,
                            "#fdca26"
                          ],
                          [
                            1,
                            "#f0f921"
                          ]
                        ],
                        "type": "surface"
                      }
                    ],
                    "table": [
                      {
                        "cells": {
                          "fill": {
                            "color": "#EBF0F8"
                          },
                          "line": {
                            "color": "white"
                          }
                        },
                        "header": {
                          "fill": {
                            "color": "#C8D4E3"
                          },
                          "line": {
                            "color": "white"
                          }
                        },
                        "type": "table"
                      }
                    ]
                  },
                  "layout": {
                    "annotationdefaults": {
                      "arrowcolor": "#2a3f5f",
                      "arrowhead": 0,
                      "arrowwidth": 1
                    },
                    "autotypenumbers": "strict",
                    "coloraxis": {
                      "colorbar": {
                        "outlinewidth": 0,
                        "ticks": ""
                      }
                    },
                    "colorscale": {
                      "diverging": [
                        [
                          0,
                          "#8e0152"
                        ],
                        [
                          0.1,
                          "#c51b7d"
                        ],
                        [
                          0.2,
                          "#de77ae"
                        ],
                        [
                          0.3,
                          "#f1b6da"
                        ],
                        [
                          0.4,
                          "#fde0ef"
                        ],
                        [
                          0.5,
                          "#f7f7f7"
                        ],
                        [
                          0.6,
                          "#e6f5d0"
                        ],
                        [
                          0.7,
                          "#b8e186"
                        ],
                        [
                          0.8,
                          "#7fbc41"
                        ],
                        [
                          0.9,
                          "#4d9221"
                        ],
                        [
                          1,
                          "#276419"
                        ]
                      ],
                      "sequential": [
                        [
                          0,
                          "#0d0887"
                        ],
                        [
                          0.1111111111111111,
                          "#46039f"
                        ],
                        [
                          0.2222222222222222,
                          "#7201a8"
                        ],
                        [
                          0.3333333333333333,
                          "#9c179e"
                        ],
                        [
                          0.4444444444444444,
                          "#bd3786"
                        ],
                        [
                          0.5555555555555556,
                          "#d8576b"
                        ],
                        [
                          0.6666666666666666,
                          "#ed7953"
                        ],
                        [
                          0.7777777777777778,
                          "#fb9f3a"
                        ],
                        [
                          0.8888888888888888,
                          "#fdca26"
                        ],
                        [
                          1,
                          "#f0f921"
                        ]
                      ],
                      "sequentialminus": [
                        [
                          0,
                          "#0d0887"
                        ],
                        [
                          0.1111111111111111,
                          "#46039f"
                        ],
                        [
                          0.2222222222222222,
                          "#7201a8"
                        ],
                        [
                          0.3333333333333333,
                          "#9c179e"
                        ],
                        [
                          0.4444444444444444,
                          "#bd3786"
                        ],
                        [
                          0.5555555555555556,
                          "#d8576b"
                        ],
                        [
                          0.6666666666666666,
                          "#ed7953"
                        ],
                        [
                          0.7777777777777778,
                          "#fb9f3a"
                        ],
                        [
                          0.8888888888888888,
                          "#fdca26"
                        ],
                        [
                          1,
                          "#f0f921"
                        ]
                      ]
                    },
                    "colorway": [
                      "#636efa",
                      "#EF553B",
                      "#00cc96",
                      "#ab63fa",
                      "#FFA15A",
                      "#19d3f3",
                      "#FF6692",
                      "#B6E880",
                      "#FF97FF",
                      "#FECB52"
                    ],
                    "font": {
                      "color": "#2a3f5f"
                    },
                    "geo": {
                      "bgcolor": "white",
                      "lakecolor": "white",
                      "landcolor": "#E5ECF6",
                      "showlakes": true,
                      "showland": true,
                      "subunitcolor": "white"
                    },
                    "hoverlabel": {
                      "align": "left"
                    },
                    "hovermode": "closest",
                    "mapbox": {
                      "style": "light"
                    },
                    "paper_bgcolor": "white",
                    "plot_bgcolor": "#E5ECF6",
                    "polar": {
                      "angularaxis": {
                        "gridcolor": "white",
                        "linecolor": "white",
                        "ticks": ""
                      },
                      "bgcolor": "#E5ECF6",
                      "radialaxis": {
                        "gridcolor": "white",
                        "linecolor": "white",
                        "ticks": ""
                      }
                    },
                    "scene": {
                      "xaxis": {
                        "backgroundcolor": "#E5ECF6",
                        "gridcolor": "white",
                        "gridwidth": 2,
                        "linecolor": "white",
                        "showbackground": true,
                        "ticks": "",
                        "zerolinecolor": "white"
                      },
                      "yaxis": {
                        "backgroundcolor": "#E5ECF6",
                        "gridcolor": "white",
                        "gridwidth": 2,
                        "linecolor": "white",
                        "showbackground": true,
                        "ticks": "",
                        "zerolinecolor": "white"
                      },
                      "zaxis": {
                        "backgroundcolor": "#E5ECF6",
                        "gridcolor": "white",
                        "gridwidth": 2,
                        "linecolor": "white",
                        "showbackground": true,
                        "ticks": "",
                        "zerolinecolor": "white"
                      }
                    },
                    "shapedefaults": {
                      "line": {
                        "color": "#2a3f5f"
                      }
                    },
                    "ternary": {
                      "aaxis": {
                        "gridcolor": "white",
                        "linecolor": "white",
                        "ticks": ""
                      },
                      "baxis": {
                        "gridcolor": "white",
                        "linecolor": "white",
                        "ticks": ""
                      },
                      "bgcolor": "#E5ECF6",
                      "caxis": {
                        "gridcolor": "white",
                        "linecolor": "white",
                        "ticks": ""
                      }
                    },
                    "title": {
                      "x": 0.05
                    },
                    "xaxis": {
                      "automargin": true,
                      "gridcolor": "white",
                      "linecolor": "white",
                      "ticks": "",
                      "title": {
                        "standoff": 15
                      },
                      "zerolinecolor": "white",
                      "zerolinewidth": 2
                    },
                    "yaxis": {
                      "automargin": true,
                      "gridcolor": "white",
                      "linecolor": "white",
                      "ticks": "",
                      "title": {
                        "standoff": 15
                      },
                      "zerolinecolor": "white",
                      "zerolinewidth": 2
                    }
                  }
                },
                "title": {
                  "text": "주택 가격 분포 및 이상치 시각화"
                },
                "xaxis": {
                  "anchor": "y",
                  "domain": [
                    0,
                    1
                  ],
                  "gridcolor": "lightgray",
                  "title": {
                    "text": "주택 가격($)"
                  }
                },
                "yaxis": {
                  "anchor": "x",
                  "domain": [
                    0,
                    1
                  ]
                }
              }
            }
          },
          "metadata": {},
          "output_type": "display_data"
        }
      ],
      "source": [
        "# plotly.express를 사용하여 주택 가격(SalePrice)의 가로 박스플롯 생성\n",
        "fig = px.box(\n",
        "    df,\n",
        "    x='SalePrice',  # y 대신 x를 사용하여 가로 방향으로 변경\n",
        "    title='주택 가격 분포 및 이상치 시각화',\n",
        "    labels={'SalePrice': '주택 가격($)'},\n",
        "    color_discrete_sequence=['royalblue']\n",
        ")\n",
        "\n",
        "# 이상치 포인트 강조 설정\n",
        "fig.update_traces(\n",
        "    boxpoints='outliers',  # 이상치만 표시\n",
        "    marker=dict(\n",
        "        size=5,\n",
        "        color='red',\n",
        "        opacity=0.7\n",
        "    ),\n",
        "    line=dict(color='darkblue')\n",
        ")\n",
        "\n",
        "fig.update_layout(\n",
        "    showlegend=False,\n",
        "    xaxis=dict(  # yaxis 대신 xaxis로 변경\n",
        "        title='주택 가격($)',\n",
        "        gridcolor='lightgray'\n",
        "    ),\n",
        "    plot_bgcolor='white'\n",
        ")\n",
        "\n",
        "fig.show()\n"
      ]
    },
    {
      "cell_type": "markdown",
      "metadata": {},
      "source": [
        "### 변동계수(Coefficient of Variation) 개념\n",
        "> 변동계수(CV)는 표준편차를 평균으로 나눈 값으로, 데이터의 상대적인 변동성을 측정하는 지표입니다.\n",
        "\n",
        "> - 단위가 다른 데이터셋 간의 변동성 비교 가능  \n",
        "> - 백분율로 표현되며, 값이 클수록 상대적 변동성이 큼  \n",
        "> - 평균이 0인 경우 정의되지 않음  \n",
        "\n",
        "> 수식: CV = (σ / μ) × 100%  \n",
        ">   - σ: 표준편차  \n",
        ">   - μ: 평균  \n",
        "\n",
        "> 활용 예시:  \n",
        "> - 주식 수익률의 변동성 측정  \n",
        "> - 제조 공정의 품질 변동성 비교  \n",
        "> - 서로 다른 단위를 가진 데이터셋의 변동성 비교  "
      ]
    },
    {
      "cell_type": "code",
      "execution_count": 39,
      "metadata": {},
      "outputs": [
        {
          "name": "stdout",
          "output_type": "stream",
          "text": [
            "\n",
            "주택가격(SalePrice) 변동 계수 (CV): 43.91%\n"
          ]
        }
      ],
      "source": [
        "# 맞춤 지표 함수 작성 예시\n",
        "def coefficient_of_variation(data_series):\n",
        "    \"\"\"변동 계수 (CV)를 계산합니다.\"\"\"\n",
        "    mean_val = data_series.mean()\n",
        "    std_val = data_series.std()\n",
        "    if mean_val == 0:\n",
        "        return np.nan # 평균이 0이면 정의되지 않음\n",
        "    return (std_val / mean_val) * 100 # 백분율로 표시\n",
        "\n",
        "print(f\"\\n주택가격(SalePrice) 변동 계수 (CV): {coefficient_of_variation(df['SalePrice']):.2f}%\")"
      ]
    },
    {
      "cell_type": "code",
      "execution_count": 42,
      "metadata": {},
      "outputs": [
        {
          "data": {
            "application/vnd.plotly.v1+json": {
              "config": {
                "plotlyServerURL": "https://plot.ly"
              },
              "data": [
                {
                  "name": "매출액",
                  "nbinsx": 30,
                  "type": "histogram",
                  "x": {
                    "bdata": "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",
                    "dtype": "i4"
                  },
                  "xaxis": "x",
                  "yaxis": "y"
                },
                {
                  "name": "매출액",
                  "type": "box",
                  "xaxis": "x2",
                  "y": {
                    "bdata": "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",
                    "dtype": "i4"
                  },
                  "yaxis": "y2"
                }
              ],
              "layout": {
                "annotations": [
                  {
                    "font": {
                      "size": 16
                    },
                    "showarrow": false,
                    "text": "매출액 분포 (Histogram)",
                    "x": 0.225,
                    "xanchor": "center",
                    "xref": "paper",
                    "y": 1,
                    "yanchor": "bottom",
                    "yref": "paper"
                  },
                  {
                    "font": {
                      "size": 16
                    },
                    "showarrow": false,
                    "text": "매출액 분포 (Boxplot)",
                    "x": 0.775,
                    "xanchor": "center",
                    "xref": "paper",
                    "y": 1,
                    "yanchor": "bottom",
                    "yref": "paper"
                  }
                ],
                "height": 500,
                "showlegend": false,
                "template": {
                  "data": {
                    "bar": [
                      {
                        "error_x": {
                          "color": "#2a3f5f"
                        },
                        "error_y": {
                          "color": "#2a3f5f"
                        },
                        "marker": {
                          "line": {
                            "color": "#E5ECF6",
                            "width": 0.5
                          },
                          "pattern": {
                            "fillmode": "overlay",
                            "size": 10,
                            "solidity": 0.2
                          }
                        },
                        "type": "bar"
                      }
                    ],
                    "barpolar": [
                      {
                        "marker": {
                          "line": {
                            "color": "#E5ECF6",
                            "width": 0.5
                          },
                          "pattern": {
                            "fillmode": "overlay",
                            "size": 10,
                            "solidity": 0.2
                          }
                        },
                        "type": "barpolar"
                      }
                    ],
                    "carpet": [
                      {
                        "aaxis": {
                          "endlinecolor": "#2a3f5f",
                          "gridcolor": "white",
                          "linecolor": "white",
                          "minorgridcolor": "white",
                          "startlinecolor": "#2a3f5f"
                        },
                        "baxis": {
                          "endlinecolor": "#2a3f5f",
                          "gridcolor": "white",
                          "linecolor": "white",
                          "minorgridcolor": "white",
                          "startlinecolor": "#2a3f5f"
                        },
                        "type": "carpet"
                      }
                    ],
                    "choropleth": [
                      {
                        "colorbar": {
                          "outlinewidth": 0,
                          "ticks": ""
                        },
                        "type": "choropleth"
                      }
                    ],
                    "contour": [
                      {
                        "colorbar": {
                          "outlinewidth": 0,
                          "ticks": ""
                        },
                        "colorscale": [
                          [
                            0,
                            "#0d0887"
                          ],
                          [
                            0.1111111111111111,
                            "#46039f"
                          ],
                          [
                            0.2222222222222222,
                            "#7201a8"
                          ],
                          [
                            0.3333333333333333,
                            "#9c179e"
                          ],
                          [
                            0.4444444444444444,
                            "#bd3786"
                          ],
                          [
                            0.5555555555555556,
                            "#d8576b"
                          ],
                          [
                            0.6666666666666666,
                            "#ed7953"
                          ],
                          [
                            0.7777777777777778,
                            "#fb9f3a"
                          ],
                          [
                            0.8888888888888888,
                            "#fdca26"
                          ],
                          [
                            1,
                            "#f0f921"
                          ]
                        ],
                        "type": "contour"
                      }
                    ],
                    "contourcarpet": [
                      {
                        "colorbar": {
                          "outlinewidth": 0,
                          "ticks": ""
                        },
                        "type": "contourcarpet"
                      }
                    ],
                    "heatmap": [
                      {
                        "colorbar": {
                          "outlinewidth": 0,
                          "ticks": ""
                        },
                        "colorscale": [
                          [
                            0,
                            "#0d0887"
                          ],
                          [
                            0.1111111111111111,
                            "#46039f"
                          ],
                          [
                            0.2222222222222222,
                            "#7201a8"
                          ],
                          [
                            0.3333333333333333,
                            "#9c179e"
                          ],
                          [
                            0.4444444444444444,
                            "#bd3786"
                          ],
                          [
                            0.5555555555555556,
                            "#d8576b"
                          ],
                          [
                            0.6666666666666666,
                            "#ed7953"
                          ],
                          [
                            0.7777777777777778,
                            "#fb9f3a"
                          ],
                          [
                            0.8888888888888888,
                            "#fdca26"
                          ],
                          [
                            1,
                            "#f0f921"
                          ]
                        ],
                        "type": "heatmap"
                      }
                    ],
                    "histogram": [
                      {
                        "marker": {
                          "pattern": {
                            "fillmode": "overlay",
                            "size": 10,
                            "solidity": 0.2
                          }
                        },
                        "type": "histogram"
                      }
                    ],
                    "histogram2d": [
                      {
                        "colorbar": {
                          "outlinewidth": 0,
                          "ticks": ""
                        },
                        "colorscale": [
                          [
                            0,
                            "#0d0887"
                          ],
                          [
                            0.1111111111111111,
                            "#46039f"
                          ],
                          [
                            0.2222222222222222,
                            "#7201a8"
                          ],
                          [
                            0.3333333333333333,
                            "#9c179e"
                          ],
                          [
                            0.4444444444444444,
                            "#bd3786"
                          ],
                          [
                            0.5555555555555556,
                            "#d8576b"
                          ],
                          [
                            0.6666666666666666,
                            "#ed7953"
                          ],
                          [
                            0.7777777777777778,
                            "#fb9f3a"
                          ],
                          [
                            0.8888888888888888,
                            "#fdca26"
                          ],
                          [
                            1,
                            "#f0f921"
                          ]
                        ],
                        "type": "histogram2d"
                      }
                    ],
                    "histogram2dcontour": [
                      {
                        "colorbar": {
                          "outlinewidth": 0,
                          "ticks": ""
                        },
                        "colorscale": [
                          [
                            0,
                            "#0d0887"
                          ],
                          [
                            0.1111111111111111,
                            "#46039f"
                          ],
                          [
                            0.2222222222222222,
                            "#7201a8"
                          ],
                          [
                            0.3333333333333333,
                            "#9c179e"
                          ],
                          [
                            0.4444444444444444,
                            "#bd3786"
                          ],
                          [
                            0.5555555555555556,
                            "#d8576b"
                          ],
                          [
                            0.6666666666666666,
                            "#ed7953"
                          ],
                          [
                            0.7777777777777778,
                            "#fb9f3a"
                          ],
                          [
                            0.8888888888888888,
                            "#fdca26"
                          ],
                          [
                            1,
                            "#f0f921"
                          ]
                        ],
                        "type": "histogram2dcontour"
                      }
                    ],
                    "mesh3d": [
                      {
                        "colorbar": {
                          "outlinewidth": 0,
                          "ticks": ""
                        },
                        "type": "mesh3d"
                      }
                    ],
                    "parcoords": [
                      {
                        "line": {
                          "colorbar": {
                            "outlinewidth": 0,
                            "ticks": ""
                          }
                        },
                        "type": "parcoords"
                      }
                    ],
                    "pie": [
                      {
                        "automargin": true,
                        "type": "pie"
                      }
                    ],
                    "scatter": [
                      {
                        "fillpattern": {
                          "fillmode": "overlay",
                          "size": 10,
                          "solidity": 0.2
                        },
                        "type": "scatter"
                      }
                    ],
                    "scatter3d": [
                      {
                        "line": {
                          "colorbar": {
                            "outlinewidth": 0,
                            "ticks": ""
                          }
                        },
                        "marker": {
                          "colorbar": {
                            "outlinewidth": 0,
                            "ticks": ""
                          }
                        },
                        "type": "scatter3d"
                      }
                    ],
                    "scattercarpet": [
                      {
                        "marker": {
                          "colorbar": {
                            "outlinewidth": 0,
                            "ticks": ""
                          }
                        },
                        "type": "scattercarpet"
                      }
                    ],
                    "scattergeo": [
                      {
                        "marker": {
                          "colorbar": {
                            "outlinewidth": 0,
                            "ticks": ""
                          }
                        },
                        "type": "scattergeo"
                      }
                    ],
                    "scattergl": [
                      {
                        "marker": {
                          "colorbar": {
                            "outlinewidth": 0,
                            "ticks": ""
                          }
                        },
                        "type": "scattergl"
                      }
                    ],
                    "scattermap": [
                      {
                        "marker": {
                          "colorbar": {
                            "outlinewidth": 0,
                            "ticks": ""
                          }
                        },
                        "type": "scattermap"
                      }
                    ],
                    "scattermapbox": [
                      {
                        "marker": {
                          "colorbar": {
                            "outlinewidth": 0,
                            "ticks": ""
                          }
                        },
                        "type": "scattermapbox"
                      }
                    ],
                    "scatterpolar": [
                      {
                        "marker": {
                          "colorbar": {
                            "outlinewidth": 0,
                            "ticks": ""
                          }
                        },
                        "type": "scatterpolar"
                      }
                    ],
                    "scatterpolargl": [
                      {
                        "marker": {
                          "colorbar": {
                            "outlinewidth": 0,
                            "ticks": ""
                          }
                        },
                        "type": "scatterpolargl"
                      }
                    ],
                    "scatterternary": [
                      {
                        "marker": {
                          "colorbar": {
                            "outlinewidth": 0,
                            "ticks": ""
                          }
                        },
                        "type": "scatterternary"
                      }
                    ],
                    "surface": [
                      {
                        "colorbar": {
                          "outlinewidth": 0,
                          "ticks": ""
                        },
                        "colorscale": [
                          [
                            0,
                            "#0d0887"
                          ],
                          [
                            0.1111111111111111,
                            "#46039f"
                          ],
                          [
                            0.2222222222222222,
                            "#7201a8"
                          ],
                          [
                            0.3333333333333333,
                            "#9c179e"
                          ],
                          [
                            0.4444444444444444,
                            "#bd3786"
                          ],
                          [
                            0.5555555555555556,
                            "#d8576b"
                          ],
                          [
                            0.6666666666666666,
                            "#ed7953"
                          ],
                          [
                            0.7777777777777778,
                            "#fb9f3a"
                          ],
                          [
                            0.8888888888888888,
                            "#fdca26"
                          ],
                          [
                            1,
                            "#f0f921"
                          ]
                        ],
                        "type": "surface"
                      }
                    ],
                    "table": [
                      {
                        "cells": {
                          "fill": {
                            "color": "#EBF0F8"
                          },
                          "line": {
                            "color": "white"
                          }
                        },
                        "header": {
                          "fill": {
                            "color": "#C8D4E3"
                          },
                          "line": {
                            "color": "white"
                          }
                        },
                        "type": "table"
                      }
                    ]
                  },
                  "layout": {
                    "annotationdefaults": {
                      "arrowcolor": "#2a3f5f",
                      "arrowhead": 0,
                      "arrowwidth": 1
                    },
                    "autotypenumbers": "strict",
                    "coloraxis": {
                      "colorbar": {
                        "outlinewidth": 0,
                        "ticks": ""
                      }
                    },
                    "colorscale": {
                      "diverging": [
                        [
                          0,
                          "#8e0152"
                        ],
                        [
                          0.1,
                          "#c51b7d"
                        ],
                        [
                          0.2,
                          "#de77ae"
                        ],
                        [
                          0.3,
                          "#f1b6da"
                        ],
                        [
                          0.4,
                          "#fde0ef"
                        ],
                        [
                          0.5,
                          "#f7f7f7"
                        ],
                        [
                          0.6,
                          "#e6f5d0"
                        ],
                        [
                          0.7,
                          "#b8e186"
                        ],
                        [
                          0.8,
                          "#7fbc41"
                        ],
                        [
                          0.9,
                          "#4d9221"
                        ],
                        [
                          1,
                          "#276419"
                        ]
                      ],
                      "sequential": [
                        [
                          0,
                          "#0d0887"
                        ],
                        [
                          0.1111111111111111,
                          "#46039f"
                        ],
                        [
                          0.2222222222222222,
                          "#7201a8"
                        ],
                        [
                          0.3333333333333333,
                          "#9c179e"
                        ],
                        [
                          0.4444444444444444,
                          "#bd3786"
                        ],
                        [
                          0.5555555555555556,
                          "#d8576b"
                        ],
                        [
                          0.6666666666666666,
                          "#ed7953"
                        ],
                        [
                          0.7777777777777778,
                          "#fb9f3a"
                        ],
                        [
                          0.8888888888888888,
                          "#fdca26"
                        ],
                        [
                          1,
                          "#f0f921"
                        ]
                      ],
                      "sequentialminus": [
                        [
                          0,
                          "#0d0887"
                        ],
                        [
                          0.1111111111111111,
                          "#46039f"
                        ],
                        [
                          0.2222222222222222,
                          "#7201a8"
                        ],
                        [
                          0.3333333333333333,
                          "#9c179e"
                        ],
                        [
                          0.4444444444444444,
                          "#bd3786"
                        ],
                        [
                          0.5555555555555556,
                          "#d8576b"
                        ],
                        [
                          0.6666666666666666,
                          "#ed7953"
                        ],
                        [
                          0.7777777777777778,
                          "#fb9f3a"
                        ],
                        [
                          0.8888888888888888,
                          "#fdca26"
                        ],
                        [
                          1,
                          "#f0f921"
                        ]
                      ]
                    },
                    "colorway": [
                      "#636efa",
                      "#EF553B",
                      "#00cc96",
                      "#ab63fa",
                      "#FFA15A",
                      "#19d3f3",
                      "#FF6692",
                      "#B6E880",
                      "#FF97FF",
                      "#FECB52"
                    ],
                    "font": {
                      "color": "#2a3f5f"
                    },
                    "geo": {
                      "bgcolor": "white",
                      "lakecolor": "white",
                      "landcolor": "#E5ECF6",
                      "showlakes": true,
                      "showland": true,
                      "subunitcolor": "white"
                    },
                    "hoverlabel": {
                      "align": "left"
                    },
                    "hovermode": "closest",
                    "mapbox": {
                      "style": "light"
                    },
                    "paper_bgcolor": "white",
                    "plot_bgcolor": "#E5ECF6",
                    "polar": {
                      "angularaxis": {
                        "gridcolor": "white",
                        "linecolor": "white",
                        "ticks": ""
                      },
                      "bgcolor": "#E5ECF6",
                      "radialaxis": {
                        "gridcolor": "white",
                        "linecolor": "white",
                        "ticks": ""
                      }
                    },
                    "scene": {
                      "xaxis": {
                        "backgroundcolor": "#E5ECF6",
                        "gridcolor": "white",
                        "gridwidth": 2,
                        "linecolor": "white",
                        "showbackground": true,
                        "ticks": "",
                        "zerolinecolor": "white"
                      },
                      "yaxis": {
                        "backgroundcolor": "#E5ECF6",
                        "gridcolor": "white",
                        "gridwidth": 2,
                        "linecolor": "white",
                        "showbackground": true,
                        "ticks": "",
                        "zerolinecolor": "white"
                      },
                      "zaxis": {
                        "backgroundcolor": "#E5ECF6",
                        "gridcolor": "white",
                        "gridwidth": 2,
                        "linecolor": "white",
                        "showbackground": true,
                        "ticks": "",
                        "zerolinecolor": "white"
                      }
                    },
                    "shapedefaults": {
                      "line": {
                        "color": "#2a3f5f"
                      }
                    },
                    "ternary": {
                      "aaxis": {
                        "gridcolor": "white",
                        "linecolor": "white",
                        "ticks": ""
                      },
                      "baxis": {
                        "gridcolor": "white",
                        "linecolor": "white",
                        "ticks": ""
                      },
                      "bgcolor": "#E5ECF6",
                      "caxis": {
                        "gridcolor": "white",
                        "linecolor": "white",
                        "ticks": ""
                      }
                    },
                    "title": {
                      "x": 0.05
                    },
                    "xaxis": {
                      "automargin": true,
                      "gridcolor": "white",
                      "linecolor": "white",
                      "ticks": "",
                      "title": {
                        "standoff": 15
                      },
                      "zerolinecolor": "white",
                      "zerolinewidth": 2
                    },
                    "yaxis": {
                      "automargin": true,
                      "gridcolor": "white",
                      "linecolor": "white",
                      "ticks": "",
                      "title": {
                        "standoff": 15
                      },
                      "zerolinecolor": "white",
                      "zerolinewidth": 2
                    }
                  }
                },
                "width": 1000,
                "xaxis": {
                  "anchor": "y",
                  "domain": [
                    0,
                    0.45
                  ],
                  "title": {
                    "text": "매출액"
                  }
                },
                "xaxis2": {
                  "anchor": "y2",
                  "domain": [
                    0.55,
                    1
                  ]
                },
                "yaxis": {
                  "anchor": "x",
                  "domain": [
                    0,
                    1
                  ],
                  "title": {
                    "text": "빈도"
                  }
                },
                "yaxis2": {
                  "anchor": "x2",
                  "domain": [
                    0,
                    1
                  ],
                  "title": {
                    "text": "매출액"
                  }
                }
              }
            }
          },
          "metadata": {},
          "output_type": "display_data"
        }
      ],
      "source": [
        "# 히스토그램과 박스플롯을 한 화면에 표시\n",
        "fig = make_subplots(rows=1, cols=2, subplot_titles=('매출액 분포 (Histogram)', '매출액 분포 (Boxplot)'))\n",
        "\n",
        "# 히스토그램 추가\n",
        "fig.add_trace(\n",
        "    go.Histogram(x=df['SalePrice'], nbinsx=30, name='매출액'),\n",
        "    row=1, col=1\n",
        ")\n",
        "fig.update_xaxes(title_text=\"매출액\", row=1, col=1)\n",
        "fig.update_yaxes(title_text=\"빈도\", row=1, col=1)\n",
        "\n",
        "# 박스플롯 추가\n",
        "fig.add_trace(\n",
        "    go.Box(y=df['SalePrice'], name='매출액'),\n",
        "    row=1, col=2\n",
        ")\n",
        "fig.update_yaxes(title_text=\"매출액\", row=1, col=2)\n",
        "\n",
        "fig.update_layout(height=500, width=1000, showlegend=False)\n",
        "fig.show()"
      ]
    },
    {
      "cell_type": "code",
      "execution_count": 43,
      "metadata": {},
      "outputs": [
        {
          "data": {
            "text/html": [
              "<div>\n",
              "<style scoped>\n",
              "    .dataframe tbody tr th:only-of-type {\n",
              "        vertical-align: middle;\n",
              "    }\n",
              "\n",
              "    .dataframe tbody tr th {\n",
              "        vertical-align: top;\n",
              "    }\n",
              "\n",
              "    .dataframe thead th {\n",
              "        text-align: right;\n",
              "    }\n",
              "</style>\n",
              "<table border=\"1\" class=\"dataframe\">\n",
              "  <thead>\n",
              "    <tr style=\"text-align: right;\">\n",
              "      <th></th>\n",
              "      <th>Ship Mode</th>\n",
              "      <th>Segment</th>\n",
              "      <th>Country</th>\n",
              "      <th>City</th>\n",
              "      <th>State</th>\n",
              "      <th>Postal Code</th>\n",
              "      <th>Region</th>\n",
              "      <th>Category</th>\n",
              "      <th>Sub-Category</th>\n",
              "      <th>Sales</th>\n",
              "      <th>Quantity</th>\n",
              "      <th>Discount</th>\n",
              "      <th>Profit</th>\n",
              "    </tr>\n",
              "  </thead>\n",
              "  <tbody>\n",
              "    <tr>\n",
              "      <th>0</th>\n",
              "      <td>Second Class</td>\n",
              "      <td>Consumer</td>\n",
              "      <td>United States</td>\n",
              "      <td>Henderson</td>\n",
              "      <td>Kentucky</td>\n",
              "      <td>42420</td>\n",
              "      <td>South</td>\n",
              "      <td>Furniture</td>\n",
              "      <td>Bookcases</td>\n",
              "      <td>261.9600</td>\n",
              "      <td>2</td>\n",
              "      <td>0.00</td>\n",
              "      <td>41.9136</td>\n",
              "    </tr>\n",
              "    <tr>\n",
              "      <th>1</th>\n",
              "      <td>Second Class</td>\n",
              "      <td>Consumer</td>\n",
              "      <td>United States</td>\n",
              "      <td>Henderson</td>\n",
              "      <td>Kentucky</td>\n",
              "      <td>42420</td>\n",
              "      <td>South</td>\n",
              "      <td>Furniture</td>\n",
              "      <td>Chairs</td>\n",
              "      <td>731.9400</td>\n",
              "      <td>3</td>\n",
              "      <td>0.00</td>\n",
              "      <td>219.5820</td>\n",
              "    </tr>\n",
              "    <tr>\n",
              "      <th>2</th>\n",
              "      <td>Second Class</td>\n",
              "      <td>Corporate</td>\n",
              "      <td>United States</td>\n",
              "      <td>Los Angeles</td>\n",
              "      <td>California</td>\n",
              "      <td>90036</td>\n",
              "      <td>West</td>\n",
              "      <td>Office Supplies</td>\n",
              "      <td>Labels</td>\n",
              "      <td>14.6200</td>\n",
              "      <td>2</td>\n",
              "      <td>0.00</td>\n",
              "      <td>6.8714</td>\n",
              "    </tr>\n",
              "    <tr>\n",
              "      <th>3</th>\n",
              "      <td>Standard Class</td>\n",
              "      <td>Consumer</td>\n",
              "      <td>United States</td>\n",
              "      <td>Fort Lauderdale</td>\n",
              "      <td>Florida</td>\n",
              "      <td>33311</td>\n",
              "      <td>South</td>\n",
              "      <td>Furniture</td>\n",
              "      <td>Tables</td>\n",
              "      <td>957.5775</td>\n",
              "      <td>5</td>\n",
              "      <td>0.45</td>\n",
              "      <td>-383.0310</td>\n",
              "    </tr>\n",
              "    <tr>\n",
              "      <th>4</th>\n",
              "      <td>Standard Class</td>\n",
              "      <td>Consumer</td>\n",
              "      <td>United States</td>\n",
              "      <td>Fort Lauderdale</td>\n",
              "      <td>Florida</td>\n",
              "      <td>33311</td>\n",
              "      <td>South</td>\n",
              "      <td>Office Supplies</td>\n",
              "      <td>Storage</td>\n",
              "      <td>22.3680</td>\n",
              "      <td>2</td>\n",
              "      <td>0.20</td>\n",
              "      <td>2.5164</td>\n",
              "    </tr>\n",
              "  </tbody>\n",
              "</table>\n",
              "</div>"
            ],
            "text/plain": [
              "        Ship Mode    Segment        Country             City       State  \\\n",
              "0    Second Class   Consumer  United States        Henderson    Kentucky   \n",
              "1    Second Class   Consumer  United States        Henderson    Kentucky   \n",
              "2    Second Class  Corporate  United States      Los Angeles  California   \n",
              "3  Standard Class   Consumer  United States  Fort Lauderdale     Florida   \n",
              "4  Standard Class   Consumer  United States  Fort Lauderdale     Florida   \n",
              "\n",
              "   Postal Code Region         Category Sub-Category     Sales  Quantity  \\\n",
              "0        42420  South        Furniture    Bookcases  261.9600         2   \n",
              "1        42420  South        Furniture       Chairs  731.9400         3   \n",
              "2        90036   West  Office Supplies       Labels   14.6200         2   \n",
              "3        33311  South        Furniture       Tables  957.5775         5   \n",
              "4        33311  South  Office Supplies      Storage   22.3680         2   \n",
              "\n",
              "   Discount    Profit  \n",
              "0      0.00   41.9136  \n",
              "1      0.00  219.5820  \n",
              "2      0.00    6.8714  \n",
              "3      0.45 -383.0310  \n",
              "4      0.20    2.5164  "
            ]
          },
          "execution_count": 43,
          "metadata": {},
          "output_type": "execute_result"
        }
      ],
      "source": [
        "df = pd.read_csv('../datasets/sample_superstore.csv') # 분석 환경(Docker, Local) 에 따라 경로 설정을 변경하세요.\n",
        "df.head()"
      ]
    },
    {
      "cell_type": "markdown",
      "metadata": {
        "id": "_OAX_yfz1Hk5"
      },
      "source": [
        "#### ✏️ 연습 문제 - sample_superstore\n",
        "* 데이터 설명 : 기업이 손실을 최소화하면서 이익을 증가시킬 수 있는 방법에 대한 통찰력을 제공하기 위해 광범위한 데이터 분석을 수행하는 시뮬레이션입니다."
      ]
    },
    {
      "cell_type": "markdown",
      "metadata": {},
      "source": [
        "Q1. sample_superstore 데이터에서 매출액와 이익 컬럼의 평균, 중앙값, 표준편차, 왜도, 첨도를 각각 구하고, 각 통계량이 의미하는 바를 간단히 설명하세요."
      ]
    },
    {
      "cell_type": "code",
      "execution_count": 47,
      "metadata": {},
      "outputs": [
        {
          "name": "stdout",
          "output_type": "stream",
          "text": [
            "매출액(Sales) 통계량:\n",
            "평균: 229.86\n",
            "중앙값: 54.49\n",
            "표준편차: 623.25\n",
            "왜도: 12.97\n",
            "첨도: 305.31\n"
          ]
        }
      ],
      "source": [
        "# 매출액(revenue) 기술 통계량 계산\n",
        "revenue_stats = {\n",
        "    '평균': df['Sales'].mean(),\n",
        "    '중앙값': df['Sales'].median(),\n",
        "    '표준편차': df['Sales'].std(),\n",
        "    '왜도': df['Sales'].skew(),\n",
        "    '첨도': df['Sales'].kurtosis()\n",
        "}\n",
        "\n",
        "# 결과 출력\n",
        "print(\"매출액(Sales) 통계량:\")\n",
        "for stat, value in revenue_stats.items():\n",
        "    print(f\"{stat}: {value:.2f}\")"
      ]
    },
    {
      "cell_type": "code",
      "execution_count": 48,
      "metadata": {},
      "outputs": [
        {
          "name": "stdout",
          "output_type": "stream",
          "text": [
            "\n",
            "이익(Profit) 통계량:\n",
            "평균: 28.66\n",
            "중앙값: 8.67\n",
            "표준편차: 234.26\n",
            "왜도: 7.56\n",
            "첨도: 397.19\n"
          ]
        }
      ],
      "source": [
        "# 이익(profit) 기술 통계량 계산 \n",
        "profit_stats = {\n",
        "    '평균': df['Profit'].mean(),\n",
        "    '중앙값': df['Profit'].median(),\n",
        "    '표준편차': df['Profit'].std(),\n",
        "    '왜도': df['Profit'].skew(),\n",
        "    '첨도': df['Profit'].kurtosis()\n",
        "}\n",
        "\n",
        "# 결과 출력\n",
        "print(\"\\n이익(Profit) 통계량:\")\n",
        "for stat, value in profit_stats.items():\n",
        "    print(f\"{stat}: {value:.2f}\")\n"
      ]
    },
    {
      "cell_type": "markdown",
      "metadata": {},
      "source": [
        "Q2. 카테고리별로 평균 매출액과 평균 이익을 구하고, 가장 높은 값을 기록한 카테고리를 각각 찾으세요."
      ]
    },
    {
      "cell_type": "code",
      "execution_count": 51,
      "metadata": {},
      "outputs": [
        {
          "data": {
            "text/html": [
              "<div>\n",
              "<style scoped>\n",
              "    .dataframe tbody tr th:only-of-type {\n",
              "        vertical-align: middle;\n",
              "    }\n",
              "\n",
              "    .dataframe tbody tr th {\n",
              "        vertical-align: top;\n",
              "    }\n",
              "\n",
              "    .dataframe thead th {\n",
              "        text-align: right;\n",
              "    }\n",
              "</style>\n",
              "<table border=\"1\" class=\"dataframe\">\n",
              "  <thead>\n",
              "    <tr style=\"text-align: right;\">\n",
              "      <th></th>\n",
              "      <th>Category</th>\n",
              "      <th>Sales</th>\n",
              "      <th>Profit</th>\n",
              "    </tr>\n",
              "  </thead>\n",
              "  <tbody>\n",
              "    <tr>\n",
              "      <th>0</th>\n",
              "      <td>Furniture</td>\n",
              "      <td>349.834887</td>\n",
              "      <td>8.699327</td>\n",
              "    </tr>\n",
              "    <tr>\n",
              "      <th>1</th>\n",
              "      <td>Office Supplies</td>\n",
              "      <td>119.324101</td>\n",
              "      <td>20.327050</td>\n",
              "    </tr>\n",
              "    <tr>\n",
              "      <th>2</th>\n",
              "      <td>Technology</td>\n",
              "      <td>452.709276</td>\n",
              "      <td>78.752002</td>\n",
              "    </tr>\n",
              "  </tbody>\n",
              "</table>\n",
              "</div>"
            ],
            "text/plain": [
              "          Category       Sales     Profit\n",
              "0        Furniture  349.834887   8.699327\n",
              "1  Office Supplies  119.324101  20.327050\n",
              "2       Technology  452.709276  78.752002"
            ]
          },
          "execution_count": 51,
          "metadata": {},
          "output_type": "execute_result"
        }
      ],
      "source": [
        "# 카테고리별 평균 매출액과 평균 이익 계산\n",
        "category_stats = df.groupby('Category').agg({\n",
        "    'Sales': 'mean',\n",
        "    'Profit': 'mean'\n",
        "}).reset_index()\n",
        "category_stats"
      ]
    },
    {
      "cell_type": "code",
      "execution_count": 52,
      "metadata": {},
      "outputs": [
        {
          "data": {
            "text/plain": [
              "2"
            ]
          },
          "execution_count": 52,
          "metadata": {},
          "output_type": "execute_result"
        }
      ],
      "source": [
        "category_stats['Sales'].idxmax()"
      ]
    },
    {
      "cell_type": "code",
      "execution_count": 54,
      "metadata": {},
      "outputs": [
        {
          "data": {
            "text/plain": [
              "('Technology', 452.70927612344343)"
            ]
          },
          "execution_count": 54,
          "metadata": {},
          "output_type": "execute_result"
        }
      ],
      "source": [
        "# 가장 높은 평균 매출액을 기록한 카테고리\n",
        "max_sales_category = category_stats.loc[category_stats['Sales'].idxmax(), 'Category']\n",
        "max_sales_value = category_stats['Sales'].max()\n",
        "max_sales_category, float(max_sales_value)"
      ]
    },
    {
      "cell_type": "code",
      "execution_count": 56,
      "metadata": {},
      "outputs": [
        {
          "data": {
            "text/plain": [
              "('Technology', 78.75200221981592)"
            ]
          },
          "execution_count": 56,
          "metadata": {},
          "output_type": "execute_result"
        }
      ],
      "source": [
        "# 가장 높은 평균 이익을 기록한 카테고리 \n",
        "max_profit_category = category_stats.loc[category_stats['Profit'].idxmax(), 'Category']\n",
        "max_profit_value = category_stats['Profit'].max()\n",
        "max_profit_category, float(max_profit_value)\n"
      ]
    },
    {
      "cell_type": "code",
      "execution_count": 57,
      "metadata": {},
      "outputs": [
        {
          "name": "stdout",
          "output_type": "stream",
          "text": [
            "가장 높은 평균 매출액 카테고리: Technology ($452.71)\n",
            "가장 높은 평균 이익 카테고리: Technology ($78.75)\n"
          ]
        }
      ],
      "source": [
        "print(f\"가장 높은 평균 매출액 카테고리: {max_sales_category} (${max_sales_value:.2f})\")\n",
        "print(f\"가장 높은 평균 이익 카테고리: {max_profit_category} (${max_profit_value:.2f})\")\n"
      ]
    },
    {
      "cell_type": "markdown",
      "metadata": {},
      "source": [
        "Q3. 판매량 컬럼의 분포를 plotly로 히스토그램과 박스플롯으로 시각화하고, 분포의 특징(대칭성, 이상치 등)을 해석해보세요."
      ]
    },
    {
      "cell_type": "code",
      "execution_count": 62,
      "metadata": {},
      "outputs": [
        {
          "data": {
            "application/vnd.plotly.v1+json": {
              "config": {
                "plotlyServerURL": "https://plot.ly"
              },
              "data": [
                {
                  "bingroup": "x",
                  "hovertemplate": "판매량=%{x}<br>count=%{y}<extra></extra>",
                  "legendgroup": "",
                  "marker": {
                    "color": "#636EFA",
                    "pattern": {
                      "shape": ""
                    }
                  },
                  "name": "",
                  "nbinsx": 30,
                  "orientation": "v",
                  "showlegend": false,
                  "type": "histogram",
                  "x": {
                    "bdata": "AgMCBQIHBAYDBQkEAwMFAwYCAgMEBwcCAwIDBwIDAgYGAgMHBQkDAwQEAgICAgQDAgYGAgEHBQYFBQICBAECBgMEBQgEAgEDCAIBAwMDBQEDBQEHAwIBAgcDAgECAwIBBwMGBwMDBAYDAwgBAQUCAgYOAgMGAwEDBAYJBwMGAgcCAwUCCQMBBAIDBg4CAwMDAwcECwMIBQUCBwQGAwICBwECBQIDCAMJBgUDAwIHAgQEBwUBAgcEBQICCAMDBAYIAwUHAgMDAgMDAgECBwQEAgQJAQICBQMJAgYDAgYEBAQCAQUBAggHAgMCAwMCBQUDAgUDAgcCBgUEAgENBgQJAgUGAwMFAgMHBAIDBgEDBAcDAwIBAgQGAwUHBQUFBgcCBQcIAgMIAwMFAwUIAwQBAwIDAwYBBAIBAwMCAwQBAgYEAQIGAQEDAgQKBgICAwECBAIDBAQKDQwEAwMCAgECAQQEBgIEBQUIAgIDAggEBAIHBAUDBQgBCgQHAwMEBwMCAwMEAQEEAgIDAwMCAgQDBAQCAgYDBQMFBwEJAQ0CBwQIBQEEAQYEAwQCCAEGAgcFAgUCBQMHCAMBAwMEAwcBAwMGAwMEAgIEAgMCBAkDBQYFAgIHAgMBAwIEBgcFBgMFBQMCAgIFBQYBAgIFAwIDAggEAgkCAgIDAQUBAwMFAwIDAwIFAwIDAQIJAgMCBQMDAwEGAQMFBQIHBAMEBggJAgEEBgIJAwUCAQMCBAIEBQMHBQMCAQMIBwMDBwQHAwMOBAICAQQDAgMHBAEDAgQDAgIDAgMFCAIDBAIBAwMEAwIJAgMEAgkKAgICCQEDBQIFBAkHAgUDAwUEAwMDAwMFBAMCBwQBAgUCBAMECgIIAgICAgIHDgUDBQMDAwMFAwEIBQMFAwMDAwMDAgQEAgMCAwIBAQMBBQgEBwQBAgMDAwMCBQEEBQgBBAYCAwUCAwMGAwMDBQcCAQgCAwMCAwMGBAEFAgMDAgUBAQQKBAEDCwcBAwQEAgQDBAkDAwIDBgMGAgICAwUBAgcHAwMEAQUCAQIDAgIEAQgDBQIEBwcCBwUBAgkCAgMEAgMEBQQCAgcIAQgDBQMEAwIEAwcEAgIDAgECAgEEAgMDBAQEBAICBwMEBwIGBgIDAgoCAQICAgYCAgEBBAYFAwMCBwUDAQMEAwUCBAUCAwwHBgUDAQQIBwMCBwgCBQQDAwICBAcDBAcCBgEJAgQDAwECAwEFAgMFBAIDAwMDCAYDAgECBAICBAUDBQMHBgwDBgQCAgUBAgMCAgICAgIDAgQDAwYDAgMHAwICAgMGAQIFAgQDAgUDBQIDBQcDAQMFBwIHBwMDAwMDBQIEAwENAQUCAwUFAwMIAgIDAwIFAwMJBQMCAwIDBwMEAgMFCQ4FAwwBAgIJAgIDBAQCAwIDBwMDAQUEAQQHAwIFBwIHAgMBBAkIAQIHAQMBAgIJAgUCBwcFBAMBAwMDAwYCBQwDBQICAgECAgUFAgIHBwQDAwMBBgQBBQMEAwMIAgIHAgIEAQIBAgICAQIGAgcCBwMCAQMCAwEDBQQJAgMDBAIFBAYDBAIDAwcCAQUHBgQCBAgDBAQDBAIBCQQEAwMDAgMFAQMHBwIEAgIBAQMCAwcJCAMBAQQDAgIBAgICAgMFAgMBAQIEAwQJBgwDBgkNAgQCAwECAwMIAwQDAgUDAQYDAgQDCAIFAwEDAwQDAwEDBwUDAgQDBAUDBQENAgIFAgYDAgEDBwcDAgMCAQQCBggFAQIGAwIFBAMGBgEEAwECAwIIBAMCAwgCBQYDBQIHBgoGAwIFAwEDCwMBAgcEBA4CBgIEBQcDAwIEBQMIBQUFAQMBCQUDAgIDAwMDBwMFAwQCBAECAwIFAQMCAgIDAgIEBwMDBwMEBAICCQYFBAIFBQ4IBgEOBQYCAwUFBAICBAkEBwIDAwEHAwUIAwMJBAICAgIGAgQDBAMCAgIDBAYDBwcEBAcDAgEDAgcDAwIEAQYCAwcBBQUDCQMCAgQGAwQDAggJAwUEAQQCAwcFBgUIBgYCAgcCAwEDBgIDAwECAwcFBgMEBwQCAgEGAgcFAwQBBQIJBgEFAwUDAwQDAwUDAQIDBQIBAwIJAgIDAgUDAwQEBwUEAwMCDQQBBAICAwYFAwUBBAMCAgIHAwEEAwIBAggCAgUDBQYFBgMCAgICAwUEAwICAwIDBwICAgYBAgIGBAICAwcDAwIFAwUDAwIDAwQDAgQCAgMDAwEDAgQBAwICAgICBgUFBQIEAwICBwYCCQIFAwIGAgIBBQ4GBwICBQUECAQCBAMDAgQFBAMIAgMEAgUDAwIFCAQCAgcCCAMCAwICCQICCwYGAgMEBgMCAQkCBAUEBwIGAgkCAQkFAwECAwQGCAMDAgUBCAQCAwgDBgUEAwEBBwIHBwcHBwMHBQIDAgICAgIGBAMBCgQBAwYCCAEDAwcFBwMEAQIBBAIDBgIDAgEFBQcCBQMFBAIBAgQEBQMDBQYCAQUCAQECAQMEAwkDBwQHAgMCCAQDAgEBAQMCAgIEAwYCAQICCAIGBAIDBwMFAgMDBQIFAgIJAwMCAwIBAQMBAwUFCAMCBwQDBAIJBAICAgEBCAMGBQMCAwQDAwUGAwUDAgMFAwQDBwQCAwMFBgIEBAIEBgMEBAMHAwMEBgIDBQQEAQUFBwMFAwcHAgMCBAIDAQIEAgIEBgkDAwQFAgIEAwUEAwIBAgMDAgMHAgUGBwMCAwEHAwQIBQYDBQcBAgMFAg0DBAMJAwQDAQUCAwcDBQcFBwICBgIEBQUDAgIDAwUBBQgEAwMHAwQEBAIDAQEDAwUEAwQCAQEHAQUDAwIJBQcDAwQECQcDAwcEBQQDCQIDBgIHAwQGAQUDBwMCAwYDAwQDAQEDAwIFAQcDAwMCAwMEAgkFCAcDBAUFCAICBgIJAwMDBAMFAgMDAQYHAgMBAwcEBAcKBgEBDQIEAgQBBAIIAQMBAgEBAgIFBQQHAggFAgEHAwICAgEDAgUFBgMDAwIDAgcCAQMBAwIBAgICAQEFBgcCAQMFAQQCCAIHAgcDAgUFAgMGAgEDBAUBBwQDBAQEAwIDBQEEBQEDAgIFAwcDBAcDBAUMAwECAwQCBQUBBgMHBAQCBwUDAwkFAgUGAgIDBgcFAQMHBAMHBAUCAgQBBAYCBAgBCQIDBAIFAgIHBAkEBAICAgEHCQQCAgIFAgYHBQYFBwkHCgUDCAIFAgMFAgUDCgIBAwIHAQINBAQHCAIHBAIDCQIEAgUCBAUGAgIFAwUFBgMDCAgBBgMCAwMFAgEBAQQFAQgEBAIFBwQDAwECBgQFBQICAwMEBAYHBQUIAwIBAwIEBAIEBQgEAwYEBgUEAgIJAwcGAwIBBAkCAwYCAgUEBwQGBAIEAQYDBwMDBAQBAQUIAgYCBAcCCAIHBQIEAgECBAUJCAIEAgcFAwUCAwMIAwINAwICBwEBAwIDAggCAwMCAwIHAwMBBAEBAwEFAgMDAgMGAg0DBAMFBAQIBQEEBwoDAgIBAgUCBAMDBAEGAQgDAwIGAwUDAwMDAgIFAwQLAgIBAwIDAQEEAwYCBQMFAQcCBQUEAwEJAwIFBQQDAwMFAQIEBgQDAgMDAwYCAwQHAwIECQMFAgIDAgMDBQUFAgUEAQcDBAECAQQDBwMCBAIFAgYDAQMEAwMLAgIDBQUCAwQEBQEFAwUCAQgCBwMFAwMCAwcCCAMECgICBAQCBQcFAgMBDgQHAwQCBQUBAwMGAgICBQIJBgMEAwUBAgYFAwMCAggCAgIGBQIFAwcCAQMFAgEEBwIDCAMDBgMGAQQBBAMHBAIEAwkHBAMHAwQFAwIDAwEIAwIHAgIDBgMFBAIFAwIFBQIDAgULAwUEAgIEBwUHAwICBQMDBAUEAwMCBAEFAgcCAwEBAQMDBAQCAgEBAwEHBwUDAQcDCQEHAw4FBAUCAgICAQMBBAQDCAICBQIGBAMGCAIEBQIEBwIGBAIEBAMBBAIJAQQFBwMEBAUEAQQDAgIFBAEDBQMDBQUFAgYEAggDBwMDAwUCCwMDAgUEBAEEBAYHAgUCAwUCAggFBQEHAgQCBAICAgUCCgICAwgDAwgIBQcGBAcDBQICAwUCCAIDAgMBBAICAgUHBwUDBAIIAgQEAwMGAQcGBAYDAwEIAQMFBgYFBAUCAwIFAgIEAgQCAgUEAgMFAwECAgMDAgUGBwQDBQUDBgICBwIDAgIFAwUCBQMJAgMFCA0GAgUDBwICAgMCBQIDCQMDAwcBBAMBBwMGAwMDBAcDBAgBAggFCAUJAwcLAQIGAwMCBQQBAgICBgIDAQEFAwECAQEDAwUHAwUNBQMDBQMCAgcDAwIBAwIDAgIEAgcDBAIDAgEDAwgFBgMGBwECBwUCAQMHAgMDBQUBAgMCCAsHBAMBAQYDAwMCAwMCBgUHBQICAwUJAwcDBQMDBQEDBQgCAwMDAQQEBAMJAwUDAQMJBAUFBQQDAwICAQIBCQICBAMDAgMCAgMCBAUGAgMFBAIJBgMJAQMHBQQDAgYDAgQCAQYEAQQBBgMDBwQCAgIIBAIJAgQCAgECBQICAggHBAIECgQCBgMCCQMGAgMCAgYBDgMHAgUCAgIFAQICBAMCAwMCAgIEBwEBAgIJBgMCAgIBAgUFCQIHBgIFBAMEAQICBgUDAgQFBAIGBQMDCQIDBAIEBAMCAgcJAwMDCQIEBwIHAwgGAwMIBAMFBQQEBQIDAwMFBwMCAQgIBwIBCAMGCAECBgcCBAQEBQIEAgIDBAIGBAEBAgoDAQEBBQgBAgICAQIDAgEMAQMDBQEDBgMBCQIFBQIEAwMDAwICAgIGBAUCAQUDCAUCDAIBAQcDBwIIBAcCAwQHAQcHAgIBBQEEAgYGBQQDCQIBAwQDBQMKAgcEAwUKBQIDAQYCAwIEAwIDAwQJBgcDAgYFAgEFBAcGAwIFBAECBgMDBQMCAwcDBQEDAgUFAgUFBAIIBQMCAgIDAgcBBwQBAwICAQIBBAkDAwUDAgQCBQMDAgUHBQcCAgIFAgMDAgEFCQIGAgMDAwIHBgMCAgMDBAICBwEDBQYDBgMBAwQDAwUBAQMCBAEFAgMFAQMCBgUCAgMHAwMCBgYCCQoFAQICAwIFAwIDAgMJAwMCAgIGBQMEBQcCCAEFAwUDBwMBAwMEBQIGCQEHAgQDAwcCAwUEBAICBgQDBAMCAwICBggHBQUDAwICAgIOBwQEBAUCAQUDAwIFAgIEAwQEAwYFAgMCBQUBBwMCBQUCAwMCBQIBBQcDAQECAgIGAgICAQQDAwIDBgUDAwMDBAcICgkEAgUIBwQDAgIDAwQFAQMEBQUCAwMDBgMHBQEGBQsFAwMDAQQGAgsCBAQDAwUFAgkDAwMFBQQEBwIIAwQGBQQDBgIFBAYDAwkGBQMCAwoDAgMCCwQGAQUHAwMDAQkBBQMMCQkEAgIGBAQCBAMDCQEDAwMCAwMJAgMDAgcEAwUFBQIBAQgCBQICAgMCAQMBAwMFAgMHCAQGAwIDAwYGAwQFAwMJAwUHBwYDBQMJBwMBAwMBAQQFAwMEAwIGAwMDAgQDBwkDBAIGAwcCAgICBQMFCQUEAwMBBgcBAgEDBQIDAgUDBAQBAgYHBQICAgMFAQIDAgIDBAMIAgIGBQIDAgMEAQEJCQMGAQMJBAcBAgQDAwMDAQUFBgQHBwICAwQDAgICBQQBAwgDBwMFBAsECQEBAgIHAgUCAgEDAgIBAQUDAgkBAwUDBA0CBgIFAQcEBQMCBwQDAwQCAgMDAgYDAQIDAgMDAwUJAwUBBQYCAQIDAwECAwYGAgQCAwIIAgIEAggHBAIBAgIDAwQEAwoEBgUCBQIFBgUDBQICAwMFBAIFBAMHAgMDAgUBAwICAgUDBQIDAwMCAwECBgMDAwECBQgDBAUDAgMFBgIDBgMEAwUBAwEHAwIEAQUFBQUGBAUCAQMFAgUEAgIFAgECAgQDAgEJAgICAwEDAgMEAgMCBQcCDAMCAwMFCQMDAgIHBgkGBAICBQUGBwIDAwEBAwICBgEBBAUHBAgDBAMHBgIFBAQCAgMDAgIDAwMEAgcHAgkCBwIDAQQCAwMDAwQEAQIDAwMFBAYDBgQGAwMCAgcEBQIBAwsGAwgCBwUGAwMHAgIDAgMDCAMFAQkEAQQCBwEDAgcIBAMFAwkDAgMGAwUDBAIDBQIFAwIFAwYBAwQDAggBBAQCAgIDAwkFBQQCBQECAgICBwMGAwEJAgQCCgcFBAQBAwIEAQwCAgkJBAQCBwkFAgMDBQIEAwIJAwICAgECBwIEBQMCAwEHAgICAgMHBwIDAQMCAwQDBwMGAwMDAwICAgIBAgMDAgQCAwMDBQMDAgQCAwIHBAICAgIDBAEFAwQDAwgBBQIEAwMHAQQDBwUFBAMECQUFAwMEAQMDBgMFAgIIAQkCCgMDBAIDBAMDAwICBAIIBgYHAwMEAgMDBgMCAwUCBAIGBAIDBQQCAwULAQIFCAYDAwMDBAkHAgYBAwMGCwMDAgcCBQMBBQIDAwIECQQFAgUDBgMGAwICAgECBAICCAQBBgMDBAUIAgMHAgUCAgMHAwMCAgICBgICAQMDBQMCAQIDAwcFAwUJBAIBAgICBAcDAwIBAgcDAgIJAQEBAwMEBAMCAgECAgICAgkFAgYDAgQCAwUFAwYCAwQFCAgFBAEEAQUBBQQCAwUCAwEGAwcDBwYHBAMDAgMCAwQCAwIDAwMBCAMBBQMCBQQCBwMECQUEAwUHAgICBAUDCQUGCQIJAgMDAgMHBQEDAwYCBAIFBQIDAwEEBAMEAgcBAwIBAwMEBQQDAgIDAgEDBgMEBAkFBgYECQMDAQEDBwkFAgMCCQcEAgEDCQgDBwQFAgQDBQIGCAECBAQEAwMCBQEDBAMCAwICAggCAwIDAwMDAwUDAwECAwIDAgICBwMDBwYIBAcGAgIFBwQDAwUDAQMHBwMCAgECBQEDAwMDBQUCAwUHAwcFBwMFBgICAgUBBwYBAwMDAgMCAgMBAgMCCAMEBQQDAgICAgYFAwMCAQQDAgMBBAQFBAcEAwQFBgQBAgIDAwMJCAMEAgUGAQEIAgEIAgMKBgYCAgUDAgMFBgQCAgQJAgEEAwcEAgIFBgIDAgIBBQQEAwEEBwUGAgUBBQEEAwIDBQkEAggGAgUBAgIIBQYCBAEDBAEDAgMDBwIGAwcEAwYFCAIDDgkDAwIDBgIHBgcFDAMFAgIEAQUBAwQBAwEHAwUGBAICBwIDAgMFAgUGBQMCAgEEBAUDAgUDAgECAQ0DAQYFAwUCAgUGAQIFAgYIAQMKBAUFAwMDAwUFAgcCAwUDAwEBAgQCBAMEAwMDAwICBAQEAgIDAgYCAQMDBAIEBQICBAMDAgMECgIDBQQGBAwCAQIFAwQGAwMDAwMCAwICAwYGAgUCBAMHAQYDBwECAgIBBQMBBQQEAgUBAgMBAwQDAQIGAwIFCQEFAgQDAwUCAwICAQcCAwIDAwIFAwEFBgIBBQICAwIJAgUFBgIEBQECCwQCAgkGAwkDBgIHBQUDAwYDCQQEAwUFDgMFBQIFAQEEBAIDBQQDAgkCBwECAg4DBAMCAgIGBAMHAgEBAwcFAwUGBwMJBQEFAwIJAQEGAwUBAQEDAwMDAgcDAQMFBQMHAwUFAwQCAwkHAwMCBAQJAwIDAgIDAgECBAMHBwIDAwUDAwUEAgQFAwMEAQMECgYDBgYBBAMEAQIHAQMBAwEDAQQEBgYHBwUDBwECAQIJBAMCAgQCAgMEAwMCAgQEAgMDAQQDBAkEAgEFBAMEAQICAgEEAwUFAwUEBQUCBAUEBwUCAwIDAQMDAgcDAQUCAgICAwIDAgUBBgQHAwEHAwMHAwYEAgkJAgMDAwECAgECAwEDAwUEBAEJAwMEBQQBAgMDAwMDBQcCBAYFAwICBAIHCggBBAMDAgMDAgUDAwEEDAIEAQUEBAUEAwIGBAUCBAUFBAMECQIEAwYDAgECBAMBAgUCAgoFAgICAgYGAgQGAQUHBwMFAgUEAwMEBAMCAQQCAwMDAwYDAwUIAgcDAQUCAgMCCAIFBQIDAQQFAwIEAwYEAwMDAgMHAwMJBQcFBQMEBwEIAgUCBAMFAwMGCAgBAQMCAgIDAgYCAwMJBQYJAgEGAwECAwIJAgQCAQMCCwIFAwMCBAIFAgMHAgYJAgYEAwMDCAICBAUCAQYEAwIOBQIEAwYGAgMFBAIGAwQEAgIGBQoEAgMBAwMMBAMEAwUDAwIDAgIDAgUCAgQHAgQCBQMCCAUKAwYGBAkDBQUFAgMHAwIEAwUIAgcEAQIJBwMDAgEDCAMGAgcJBAcDAQQDBAMEAgMLBQUDBAMCAQgCAwYDAgEDAgEBCQMIBAECAwQDBAcDBQIJAgUBCQUHAwMFBwICAwICAwUFAgMDBgQIAgMDAQYFBAMDAwIFAwEHAQMDCAEDAwEEAgMCBQYCAwIDBQQBAwUEAgMDBQQFBAUEAgQEAwICAwUBAwIFAgEBAgUFBAEGAgcFAQgBAQIFBQIEAwMCBQICAQUIBQQEAggBAgIFAgICBgQBAgIFCAYCAQMDAgcFBQMBAgMGBQEEAgIDAwMHCAMEAQIDAgYHAwUFBAUDBAUFAwIFAwYFAQECAgEDAgIHAQcCBQUDAgUCBgcFBQYCBwoDBAMCAQMFBwICAgYEBAMOBQQCBQQCAwIDCQ4GBgcDAwMEBAUDAwYEBwIDBQoCAQQDBwIBBQUEBAMDBQEFAwoDAwEFBgIDAQUCAQYDBgQCBQQDAQEBCQUBBQMCAwQEBQIDAwMCBAgIAwYHAQMDAwYEBQYDAwIDAwUCBwUBAQIDAwgGAwMHBAYDBgMCAwUDAgYEBQYFAwYIAQQEAg4FAwUBAQsEBQMGCAYCCQQHBAMCBwIFAgQFAwECBQIJAgIHBQcFBQICBQICBwQGAgUDBwEEAwIGAQIFBAQFBAYLAwMDAwECAgMEBAIDAwcDBAMIAwYDAwYGBAQDBQIDBgMDBAUGAwQEBAICAwMJBAMCAwMGBgUFAQMCAgICAgQFBAYCAQMCBQIDAwIFBwUFAwIBBgQDCQMCAggEAwEFBAMHBAUBAwIDAgIBBQECAwICAgIBAwMCAQIECAIDBQMFAwICBQkCAgUCBwIDBAMBAgUBBAUFAwMDBQQCBAECBAYHBAMEAgMDAgULCAMCAgUDAgkCCQMBBQMCAwYBBQUJAwUIBAIDAwgHAwQEAgIFAwcGBwUEAgUBAgICAwIDBAIBBgQFAwIHAQUCBwwDBAMHAQECAgIDAgIEAgUEAwUEBQICAwcDAgMEBQIFAQEDAgMFAwUCAgkDBQICAgQCAgQCCQUEAwUBBAQCBQUCAwUDBwUEBAQCAwIEBwIBAgICAwEFAgEDAwIDAwcDAQMJBgkGBAIFAwIDAwMDAwICAwIDAgUEAgIBBAMCBQIBBAUDCQcDAgIDAwIDBwYCCQECAgEFBAIFBwkEAwMFAgkFAgMEAQMDAgUGBgIFCQYDAgMCBgMJAgIEAgIFAgYCAgEDAgEHAgMDAwMFBAQHAwQCAgMFAgQDBAUFBQEDAQMDAwICAgcGBQEEAQIEAwUIAwIEAwoDAgMFBQMIAwIDAwMCBQkCAwQCBAMDBAgGBAIFAgICAQcFAwICCwIEAgMMAwMFBAMCBAIDAwMDBwQFBQYDAgIECAICAwMHBwcGAgkHBQMFCAIDBAMDBQQCBgUHAQcFBAcCAwQCCAIEAgMFBwoCAwcCBQMFAgQBAwMJAgkCBwECBgUEAgYDBQICAwQCAwMFAgIIAQMBAwcFBQMCAgMFAQIEBwYBBwIDAgIBAwICDQMGBgQBAQMGBQcIBQUIAQIGAwMDAwMIAgIHAwICCwMHAQMEBgMDBQUCAwIDBg4DAgUDBQMFAgMGCQQBBwQFAwIDBQgBAgECAQIFAwUBBQUCAwQDAgIDAgIEAwMFAwYFBQUFAgMCAwECAQUFAwUFBgIEAgIBBwkEAgkCCAIIBAMCBAIFBAkCAgIEBAEBBAcBBQUJBAIGBgMFAgIDBAQDAwMCAQIEAgICCQUFBwUCBQQFAQICAgYCBwUGAwYDAwMEAgUDAgIBCAgCBgYFBgcFAQMDBgMEBwUGAwMDBgEEAgQBAwQJBAMFBAECBAIBAwgDAwIHBQMEAwMHCQIDAwcEAwIDBQUGCgIDAgkCBAcDAgECAwkCBQEFBQQDAQUJBgIFBQcHCAEBAQMDBwIGBgQEBQMCAgQJAwMCBAQEAgQEBQMHBQUEAQkDBgMCAQMFBAMDBAMEAgYBAwkBCQEIAwMCBgQHBQQCAQMGAgIDBAMDAgMDBQMCAwYDBQIEAwICAwEBAgMDBAMEBAIEAwMECQUCAQIEAgMDAgYDAgIDAgICBwUEAwMCAgEJAwUFAwUCAgIFAwMBAwMDBAQDAgoCAgEDAwgDBQIFAgQFAwEDAwIEBAECAgcDAgEDAwYCAgMGAwgGCQMDBQEEAwMDAwMCBQICBAICAwQCAwsEBQwCAwMCAgICBAQCBQMEBAICAwQCBgMCAgQCBAICBgECBAIGBggCBwMFAQUJAgUDAwUCCAcGBQIBBQICAQoCAwgDAgICBQMEAQICAgMFAwQHAwEDBgMDBQIDAgMJAwgCCgkHAgUDBQYGAwIEBAIEBQQFAwEFCAQECAQDAQEEAwICAwMDAwMBAgQFBQMFBQQDAQIEAgMGBgUMBwQEBgcCAwIMBAMFBgcFCAEDBgkBCgIDBQUBAgEBBAYDBQMCCQIGAwMGBgIEAQkFAwMHBQEGAwEFAgkFAwIFAgQDAgMCAwYFBQQEBQ4CAwEDCAYDBQcKBQMEAgkHAgUDBAIFBQEDAwIHBwYBBgQEBgIFBAIFAwEFBAIDCwMEAgMCAwUCAgQDAwMHBwkICgQDAwQEBgIEBwICAgMEAgICBQMFAgYCBgcDAwcHAgMHAQYEBAYFAgQIBQMBAwEECQMBBgQHAwICBAUDBQEFAgMEAgEBBgQCBQMEAQECAwMCAwQCBgIKAQICAwMHBQICBAUCAQIEAgMIAwMFAgICAgUCAQQIAwUGCQEEAwQDBwIBBAQCCAQBBwkDAgMDAwMCAggDBgUHBgIBAwQCCQICAwMCBQMCBAUHAgkDAwQHAwIHAwEIAQICAgUFAwQHAwEEAQUDBAkCBAUGBQMHBQMDBQEKBQECBAUFAgMHAgYCAgUDAgQEAgUDAgEDAQYGAQEDBwMCBAMCAwEFAgYCAgMFAwMHBQIBBQMCBAQFAgcFBAQHBAoDAwUDAQQCAwUCBQgCAgYFAgoEAgUCCwIEAgMEAgEDBAQCAwgBBQQDBQIDAwMDBQMCAwQDAwIGBAIDAQEEAgEEAgICAwIFCgICAwUIBwMIAwEDAwMCBgICAwIECQUDCwECAgIEAwwCBgEDAw4BBwIGAwICAgQCBwMCAwQFAwIFAgcCAQQCAwQEAwQDCAcHCQMJAwMCBQMGAwQGBw0CAwUCAwQBAgIBAwICBQIHBQUCAgMCAwMEAgEEAwMCAQcCAwUCAgQCAgUCAwIDAgMHBAUCBAYFAwMFAgIEBQYDAgUFBwUDBQYLAQcBAwIFAwUDAgIEAgECAQYFBAYHBQUFBAEEAwICAwMGAQUIBQcFAwIHBgIFAgMCAgUFAwEDBAIICAEFAggBAgIEAwMDAwYFAQQCCAMCCQIHBgQDAwIDBwMDAwUEAwUEAgUDAQMEAwICAgMCBAMGAwICCAMDAQgBAgICAwUEAwQEAwYCAgUIAwMCBgQDAgUDBAMCCQcCBQUEAgIFBQICAgMDAwIDBQUEAwUDAgYEAgYEAgICAgMDBQcCAgoCAgECBAMFAwIDAwIFAwMFAgEKAgIEBQMDBgIFAQMEBAQGAwUCAgUMBAICBQIBBAMLAwcCAwQDCAIJAwcCCQIDAwMEAwIDBAMCAQMJBwgDAwkCAgYEBAIGAgIDAwQEAwMFBAIDBQMCAw4FAgUCAwcDAwMDAwUBBgIDBwUEAgMCBQUFBAIDBQIBBwEJAgIBBwcCAQICAQIDBAUCAwUCAgIHBQIHBQUCAgcFAwEDBggGAQICAQQCBwUFAgEDAwIGDQMBAwQDAwMCBAQCAgQEBAIDDQEEAwMCBQUFAwMCAgQCAgILBwMHBAQGDQMEAgIDAwMCAgUGAwQDBAEGAwIDBQICBQMFCAMGAgYCBwUHAgMDAgUKAgMCBwIFAgQDBQICAwQHBQcBCQMEAgMHAwICAwUDAQMCBQcCBAIJBQMCBg0EBQICBwIGAg0JAwUHAwMCBAEDDgICAQMDAwMDAgEDAwMEAgEBBQIEBgICBwIHBAIFBgEBAQMFCAMIAwEBAwMCAwcFAQIHAwMEBAYCBAMHBAMJBgkDBAcDAQIHAwMGAQIFAwEBBwgCBQIBAwIDAwIDAwMFAwcCAQMHBgMEAwcGAgQHAgIFBAIDAQMDBgEDAwEGAwQCBAMCAQIDAwEFAgIEBggCBAcCAwQBAgIEAwQIAgMEAgEEAgMEBAMCBQEGAwUDBwUFAQIFCAIEAwIDAwICBQMBBwYHAwQCAgYCAwQDBQcGAgMCAgMBAgEFBAgEAQMBBQEIBQICBgEJBgQCAgYFAgIJAQEFAQUCAgMDAgMCBgYFAwMGBQUIBQECAgcDBAICBAICBQICBAMGBQQCCQMGAwIBAwUDAQMGAgQGAgYCAgICAQIFAgcCAwUDBQICBgoJAwMCBwgDCQcCBgEBAwoDAwkBBwICBQMGCQMBBQYOAwMDBAIDAwMFBQMGAgICAg4HAgIDAgUCBwMFAgMCAgICAwMGBAcFAgcCBQUCAwMCAgcFAgQGAgIBBQMBAgUDAQUFBgEEAQUEBAMJBQUCAgMCAwMBCAUFAwQEAwYDBAkEAgEHAgIDAwUGAgQCAwMCAwcCAwYIAwcJAgQCDQUFBgIHAgIEAwgJAgYCAgMBBAQFCQIDAwIDAwcDAwcFAgUBBAYDAQIJAwYIAgEGCQUEBAMLBgIEBQQDBAMCAQUDAwMDAgMCAgYFAgIEBQUCAgMDDQIDBwUCAgUIDQIBAQICBgUDBQUDBAICAgQCAgMBAgIDAgUEBQIDAgIFAgEFBgUEAgUBCAMECQUCAwIFAQIDBQUDAQIGAgEDAwICBAIDBwIBAQIIBAIFBAQDBQUHBAcCAwoCAwMEAwQCAwMEBwEHBAIFAgEDCAIEBAcDBQUFAgIDAgUEAgYIBQIEAgQBBAIHAwICAwICAQICBAUDBwMDDQIDAgMCAQMCBwUEBQsCAwIBAwMBAwIHAwMFAwIHAwMCBQEDAQUHAwQDAQgCBAMFAgQHAwMDAwIFBAcOCQUDAQMGCAMBAgIBAwIFBAICAQIEAgEBBwUCBwIFAgUHAgIHBA4BBQcCCgQBAQUDAgIEAg==",
                    "dtype": "i1"
                  },
                  "xaxis": "x",
                  "yaxis": "y"
                }
              ],
              "layout": {
                "barmode": "relative",
                "legend": {
                  "tracegroupgap": 0
                },
                "template": {
                  "data": {
                    "bar": [
                      {
                        "error_x": {
                          "color": "#2a3f5f"
                        },
                        "error_y": {
                          "color": "#2a3f5f"
                        },
                        "marker": {
                          "line": {
                            "color": "#E5ECF6",
                            "width": 0.5
                          },
                          "pattern": {
                            "fillmode": "overlay",
                            "size": 10,
                            "solidity": 0.2
                          }
                        },
                        "type": "bar"
                      }
                    ],
                    "barpolar": [
                      {
                        "marker": {
                          "line": {
                            "color": "#E5ECF6",
                            "width": 0.5
                          },
                          "pattern": {
                            "fillmode": "overlay",
                            "size": 10,
                            "solidity": 0.2
                          }
                        },
                        "type": "barpolar"
                      }
                    ],
                    "carpet": [
                      {
                        "aaxis": {
                          "endlinecolor": "#2a3f5f",
                          "gridcolor": "white",
                          "linecolor": "white",
                          "minorgridcolor": "white",
                          "startlinecolor": "#2a3f5f"
                        },
                        "baxis": {
                          "endlinecolor": "#2a3f5f",
                          "gridcolor": "white",
                          "linecolor": "white",
                          "minorgridcolor": "white",
                          "startlinecolor": "#2a3f5f"
                        },
                        "type": "carpet"
                      }
                    ],
                    "choropleth": [
                      {
                        "colorbar": {
                          "outlinewidth": 0,
                          "ticks": ""
                        },
                        "type": "choropleth"
                      }
                    ],
                    "contour": [
                      {
                        "colorbar": {
                          "outlinewidth": 0,
                          "ticks": ""
                        },
                        "colorscale": [
                          [
                            0,
                            "#0d0887"
                          ],
                          [
                            0.1111111111111111,
                            "#46039f"
                          ],
                          [
                            0.2222222222222222,
                            "#7201a8"
                          ],
                          [
                            0.3333333333333333,
                            "#9c179e"
                          ],
                          [
                            0.4444444444444444,
                            "#bd3786"
                          ],
                          [
                            0.5555555555555556,
                            "#d8576b"
                          ],
                          [
                            0.6666666666666666,
                            "#ed7953"
                          ],
                          [
                            0.7777777777777778,
                            "#fb9f3a"
                          ],
                          [
                            0.8888888888888888,
                            "#fdca26"
                          ],
                          [
                            1,
                            "#f0f921"
                          ]
                        ],
                        "type": "contour"
                      }
                    ],
                    "contourcarpet": [
                      {
                        "colorbar": {
                          "outlinewidth": 0,
                          "ticks": ""
                        },
                        "type": "contourcarpet"
                      }
                    ],
                    "heatmap": [
                      {
                        "colorbar": {
                          "outlinewidth": 0,
                          "ticks": ""
                        },
                        "colorscale": [
                          [
                            0,
                            "#0d0887"
                          ],
                          [
                            0.1111111111111111,
                            "#46039f"
                          ],
                          [
                            0.2222222222222222,
                            "#7201a8"
                          ],
                          [
                            0.3333333333333333,
                            "#9c179e"
                          ],
                          [
                            0.4444444444444444,
                            "#bd3786"
                          ],
                          [
                            0.5555555555555556,
                            "#d8576b"
                          ],
                          [
                            0.6666666666666666,
                            "#ed7953"
                          ],
                          [
                            0.7777777777777778,
                            "#fb9f3a"
                          ],
                          [
                            0.8888888888888888,
                            "#fdca26"
                          ],
                          [
                            1,
                            "#f0f921"
                          ]
                        ],
                        "type": "heatmap"
                      }
                    ],
                    "histogram": [
                      {
                        "marker": {
                          "pattern": {
                            "fillmode": "overlay",
                            "size": 10,
                            "solidity": 0.2
                          }
                        },
                        "type": "histogram"
                      }
                    ],
                    "histogram2d": [
                      {
                        "colorbar": {
                          "outlinewidth": 0,
                          "ticks": ""
                        },
                        "colorscale": [
                          [
                            0,
                            "#0d0887"
                          ],
                          [
                            0.1111111111111111,
                            "#46039f"
                          ],
                          [
                            0.2222222222222222,
                            "#7201a8"
                          ],
                          [
                            0.3333333333333333,
                            "#9c179e"
                          ],
                          [
                            0.4444444444444444,
                            "#bd3786"
                          ],
                          [
                            0.5555555555555556,
                            "#d8576b"
                          ],
                          [
                            0.6666666666666666,
                            "#ed7953"
                          ],
                          [
                            0.7777777777777778,
                            "#fb9f3a"
                          ],
                          [
                            0.8888888888888888,
                            "#fdca26"
                          ],
                          [
                            1,
                            "#f0f921"
                          ]
                        ],
                        "type": "histogram2d"
                      }
                    ],
                    "histogram2dcontour": [
                      {
                        "colorbar": {
                          "outlinewidth": 0,
                          "ticks": ""
                        },
                        "colorscale": [
                          [
                            0,
                            "#0d0887"
                          ],
                          [
                            0.1111111111111111,
                            "#46039f"
                          ],
                          [
                            0.2222222222222222,
                            "#7201a8"
                          ],
                          [
                            0.3333333333333333,
                            "#9c179e"
                          ],
                          [
                            0.4444444444444444,
                            "#bd3786"
                          ],
                          [
                            0.5555555555555556,
                            "#d8576b"
                          ],
                          [
                            0.6666666666666666,
                            "#ed7953"
                          ],
                          [
                            0.7777777777777778,
                            "#fb9f3a"
                          ],
                          [
                            0.8888888888888888,
                            "#fdca26"
                          ],
                          [
                            1,
                            "#f0f921"
                          ]
                        ],
                        "type": "histogram2dcontour"
                      }
                    ],
                    "mesh3d": [
                      {
                        "colorbar": {
                          "outlinewidth": 0,
                          "ticks": ""
                        },
                        "type": "mesh3d"
                      }
                    ],
                    "parcoords": [
                      {
                        "line": {
                          "colorbar": {
                            "outlinewidth": 0,
                            "ticks": ""
                          }
                        },
                        "type": "parcoords"
                      }
                    ],
                    "pie": [
                      {
                        "automargin": true,
                        "type": "pie"
                      }
                    ],
                    "scatter": [
                      {
                        "fillpattern": {
                          "fillmode": "overlay",
                          "size": 10,
                          "solidity": 0.2
                        },
                        "type": "scatter"
                      }
                    ],
                    "scatter3d": [
                      {
                        "line": {
                          "colorbar": {
                            "outlinewidth": 0,
                            "ticks": ""
                          }
                        },
                        "marker": {
                          "colorbar": {
                            "outlinewidth": 0,
                            "ticks": ""
                          }
                        },
                        "type": "scatter3d"
                      }
                    ],
                    "scattercarpet": [
                      {
                        "marker": {
                          "colorbar": {
                            "outlinewidth": 0,
                            "ticks": ""
                          }
                        },
                        "type": "scattercarpet"
                      }
                    ],
                    "scattergeo": [
                      {
                        "marker": {
                          "colorbar": {
                            "outlinewidth": 0,
                            "ticks": ""
                          }
                        },
                        "type": "scattergeo"
                      }
                    ],
                    "scattergl": [
                      {
                        "marker": {
                          "colorbar": {
                            "outlinewidth": 0,
                            "ticks": ""
                          }
                        },
                        "type": "scattergl"
                      }
                    ],
                    "scattermap": [
                      {
                        "marker": {
                          "colorbar": {
                            "outlinewidth": 0,
                            "ticks": ""
                          }
                        },
                        "type": "scattermap"
                      }
                    ],
                    "scattermapbox": [
                      {
                        "marker": {
                          "colorbar": {
                            "outlinewidth": 0,
                            "ticks": ""
                          }
                        },
                        "type": "scattermapbox"
                      }
                    ],
                    "scatterpolar": [
                      {
                        "marker": {
                          "colorbar": {
                            "outlinewidth": 0,
                            "ticks": ""
                          }
                        },
                        "type": "scatterpolar"
                      }
                    ],
                    "scatterpolargl": [
                      {
                        "marker": {
                          "colorbar": {
                            "outlinewidth": 0,
                            "ticks": ""
                          }
                        },
                        "type": "scatterpolargl"
                      }
                    ],
                    "scatterternary": [
                      {
                        "marker": {
                          "colorbar": {
                            "outlinewidth": 0,
                            "ticks": ""
                          }
                        },
                        "type": "scatterternary"
                      }
                    ],
                    "surface": [
                      {
                        "colorbar": {
                          "outlinewidth": 0,
                          "ticks": ""
                        },
                        "colorscale": [
                          [
                            0,
                            "#0d0887"
                          ],
                          [
                            0.1111111111111111,
                            "#46039f"
                          ],
                          [
                            0.2222222222222222,
                            "#7201a8"
                          ],
                          [
                            0.3333333333333333,
                            "#9c179e"
                          ],
                          [
                            0.4444444444444444,
                            "#bd3786"
                          ],
                          [
                            0.5555555555555556,
                            "#d8576b"
                          ],
                          [
                            0.6666666666666666,
                            "#ed7953"
                          ],
                          [
                            0.7777777777777778,
                            "#fb9f3a"
                          ],
                          [
                            0.8888888888888888,
                            "#fdca26"
                          ],
                          [
                            1,
                            "#f0f921"
                          ]
                        ],
                        "type": "surface"
                      }
                    ],
                    "table": [
                      {
                        "cells": {
                          "fill": {
                            "color": "#EBF0F8"
                          },
                          "line": {
                            "color": "white"
                          }
                        },
                        "header": {
                          "fill": {
                            "color": "#C8D4E3"
                          },
                          "line": {
                            "color": "white"
                          }
                        },
                        "type": "table"
                      }
                    ]
                  },
                  "layout": {
                    "annotationdefaults": {
                      "arrowcolor": "#2a3f5f",
                      "arrowhead": 0,
                      "arrowwidth": 1
                    },
                    "autotypenumbers": "strict",
                    "coloraxis": {
                      "colorbar": {
                        "outlinewidth": 0,
                        "ticks": ""
                      }
                    },
                    "colorscale": {
                      "diverging": [
                        [
                          0,
                          "#8e0152"
                        ],
                        [
                          0.1,
                          "#c51b7d"
                        ],
                        [
                          0.2,
                          "#de77ae"
                        ],
                        [
                          0.3,
                          "#f1b6da"
                        ],
                        [
                          0.4,
                          "#fde0ef"
                        ],
                        [
                          0.5,
                          "#f7f7f7"
                        ],
                        [
                          0.6,
                          "#e6f5d0"
                        ],
                        [
                          0.7,
                          "#b8e186"
                        ],
                        [
                          0.8,
                          "#7fbc41"
                        ],
                        [
                          0.9,
                          "#4d9221"
                        ],
                        [
                          1,
                          "#276419"
                        ]
                      ],
                      "sequential": [
                        [
                          0,
                          "#0d0887"
                        ],
                        [
                          0.1111111111111111,
                          "#46039f"
                        ],
                        [
                          0.2222222222222222,
                          "#7201a8"
                        ],
                        [
                          0.3333333333333333,
                          "#9c179e"
                        ],
                        [
                          0.4444444444444444,
                          "#bd3786"
                        ],
                        [
                          0.5555555555555556,
                          "#d8576b"
                        ],
                        [
                          0.6666666666666666,
                          "#ed7953"
                        ],
                        [
                          0.7777777777777778,
                          "#fb9f3a"
                        ],
                        [
                          0.8888888888888888,
                          "#fdca26"
                        ],
                        [
                          1,
                          "#f0f921"
                        ]
                      ],
                      "sequentialminus": [
                        [
                          0,
                          "#0d0887"
                        ],
                        [
                          0.1111111111111111,
                          "#46039f"
                        ],
                        [
                          0.2222222222222222,
                          "#7201a8"
                        ],
                        [
                          0.3333333333333333,
                          "#9c179e"
                        ],
                        [
                          0.4444444444444444,
                          "#bd3786"
                        ],
                        [
                          0.5555555555555556,
                          "#d8576b"
                        ],
                        [
                          0.6666666666666666,
                          "#ed7953"
                        ],
                        [
                          0.7777777777777778,
                          "#fb9f3a"
                        ],
                        [
                          0.8888888888888888,
                          "#fdca26"
                        ],
                        [
                          1,
                          "#f0f921"
                        ]
                      ]
                    },
                    "colorway": [
                      "#636efa",
                      "#EF553B",
                      "#00cc96",
                      "#ab63fa",
                      "#FFA15A",
                      "#19d3f3",
                      "#FF6692",
                      "#B6E880",
                      "#FF97FF",
                      "#FECB52"
                    ],
                    "font": {
                      "color": "#2a3f5f"
                    },
                    "geo": {
                      "bgcolor": "white",
                      "lakecolor": "white",
                      "landcolor": "#E5ECF6",
                      "showlakes": true,
                      "showland": true,
                      "subunitcolor": "white"
                    },
                    "hoverlabel": {
                      "align": "left"
                    },
                    "hovermode": "closest",
                    "mapbox": {
                      "style": "light"
                    },
                    "paper_bgcolor": "white",
                    "plot_bgcolor": "#E5ECF6",
                    "polar": {
                      "angularaxis": {
                        "gridcolor": "white",
                        "linecolor": "white",
                        "ticks": ""
                      },
                      "bgcolor": "#E5ECF6",
                      "radialaxis": {
                        "gridcolor": "white",
                        "linecolor": "white",
                        "ticks": ""
                      }
                    },
                    "scene": {
                      "xaxis": {
                        "backgroundcolor": "#E5ECF6",
                        "gridcolor": "white",
                        "gridwidth": 2,
                        "linecolor": "white",
                        "showbackground": true,
                        "ticks": "",
                        "zerolinecolor": "white"
                      },
                      "yaxis": {
                        "backgroundcolor": "#E5ECF6",
                        "gridcolor": "white",
                        "gridwidth": 2,
                        "linecolor": "white",
                        "showbackground": true,
                        "ticks": "",
                        "zerolinecolor": "white"
                      },
                      "zaxis": {
                        "backgroundcolor": "#E5ECF6",
                        "gridcolor": "white",
                        "gridwidth": 2,
                        "linecolor": "white",
                        "showbackground": true,
                        "ticks": "",
                        "zerolinecolor": "white"
                      }
                    },
                    "shapedefaults": {
                      "line": {
                        "color": "#2a3f5f"
                      }
                    },
                    "ternary": {
                      "aaxis": {
                        "gridcolor": "white",
                        "linecolor": "white",
                        "ticks": ""
                      },
                      "baxis": {
                        "gridcolor": "white",
                        "linecolor": "white",
                        "ticks": ""
                      },
                      "bgcolor": "#E5ECF6",
                      "caxis": {
                        "gridcolor": "white",
                        "linecolor": "white",
                        "ticks": ""
                      }
                    },
                    "title": {
                      "x": 0.05
                    },
                    "xaxis": {
                      "automargin": true,
                      "gridcolor": "white",
                      "linecolor": "white",
                      "ticks": "",
                      "title": {
                        "standoff": 15
                      },
                      "zerolinecolor": "white",
                      "zerolinewidth": 2
                    },
                    "yaxis": {
                      "automargin": true,
                      "gridcolor": "white",
                      "linecolor": "white",
                      "ticks": "",
                      "title": {
                        "standoff": 15
                      },
                      "zerolinecolor": "white",
                      "zerolinewidth": 2
                    }
                  }
                },
                "title": {
                  "text": "판매량(Quantity) 분포 히스토그램"
                },
                "xaxis": {
                  "anchor": "y",
                  "domain": [
                    0,
                    1
                  ],
                  "title": {
                    "text": "판매량"
                  }
                },
                "yaxis": {
                  "anchor": "x",
                  "domain": [
                    0,
                    1
                  ],
                  "title": {
                    "text": "count"
                  }
                }
              }
            }
          },
          "metadata": {},
          "output_type": "display_data"
        }
      ],
      "source": [
        "# 판매량(quantity) 분포 시각화\n",
        "import plotly.express as px\n",
        "\n",
        "# 히스토그램 생성\n",
        "fig1 = px.histogram(df, x='Quantity', \n",
        "                   title='판매량(Quantity) 분포 히스토그램',\n",
        "                   labels={'Quantity': '판매량'},\n",
        "                   nbins=30,\n",
        "                   color_discrete_sequence=['#636EFA'])\n",
        "# fig1.update_layout(bargap=0.1)\n",
        "fig1.show()"
      ]
    },
    {
      "cell_type": "code",
      "execution_count": 63,
      "metadata": {},
      "outputs": [
        {
          "data": {
            "application/vnd.plotly.v1+json": {
              "config": {
                "plotlyServerURL": "https://plot.ly"
              },
              "data": [
                {
                  "alignmentgroup": "True",
                  "hovertemplate": "판매량=%{x}<extra></extra>",
                  "legendgroup": "",
                  "marker": {
                    "color": "#00CC96"
                  },
                  "name": "",
                  "notched": false,
                  "offsetgroup": "",
                  "orientation": "h",
                  "showlegend": false,
                  "type": "box",
                  "x": {
                    "bdata": "AgMCBQIHBAYDBQkEAwMFAwYCAgMEBwcCAwIDBwIDAgYGAgMHBQkDAwQEAgICAgQDAgYGAgEHBQYFBQICBAECBgMEBQgEAgEDCAIBAwMDBQEDBQEHAwIBAgcDAgECAwIBBwMGBwMDBAYDAwgBAQUCAgYOAgMGAwEDBAYJBwMGAgcCAwUCCQMBBAIDBg4CAwMDAwcECwMIBQUCBwQGAwICBwECBQIDCAMJBgUDAwIHAgQEBwUBAgcEBQICCAMDBAYIAwUHAgMDAgMDAgECBwQEAgQJAQICBQMJAgYDAgYEBAQCAQUBAggHAgMCAwMCBQUDAgUDAgcCBgUEAgENBgQJAgUGAwMFAgMHBAIDBgEDBAcDAwIBAgQGAwUHBQUFBgcCBQcIAgMIAwMFAwUIAwQBAwIDAwYBBAIBAwMCAwQBAgYEAQIGAQEDAgQKBgICAwECBAIDBAQKDQwEAwMCAgECAQQEBgIEBQUIAgIDAggEBAIHBAUDBQgBCgQHAwMEBwMCAwMEAQEEAgIDAwMCAgQDBAQCAgYDBQMFBwEJAQ0CBwQIBQEEAQYEAwQCCAEGAgcFAgUCBQMHCAMBAwMEAwcBAwMGAwMEAgIEAgMCBAkDBQYFAgIHAgMBAwIEBgcFBgMFBQMCAgIFBQYBAgIFAwIDAggEAgkCAgIDAQUBAwMFAwIDAwIFAwIDAQIJAgMCBQMDAwEGAQMFBQIHBAMEBggJAgEEBgIJAwUCAQMCBAIEBQMHBQMCAQMIBwMDBwQHAwMOBAICAQQDAgMHBAEDAgQDAgIDAgMFCAIDBAIBAwMEAwIJAgMEAgkKAgICCQEDBQIFBAkHAgUDAwUEAwMDAwMFBAMCBwQBAgUCBAMECgIIAgICAgIHDgUDBQMDAwMFAwEIBQMFAwMDAwMDAgQEAgMCAwIBAQMBBQgEBwQBAgMDAwMCBQEEBQgBBAYCAwUCAwMGAwMDBQcCAQgCAwMCAwMGBAEFAgMDAgUBAQQKBAEDCwcBAwQEAgQDBAkDAwIDBgMGAgICAwUBAgcHAwMEAQUCAQIDAgIEAQgDBQIEBwcCBwUBAgkCAgMEAgMEBQQCAgcIAQgDBQMEAwIEAwcEAgIDAgECAgEEAgMDBAQEBAICBwMEBwIGBgIDAgoCAQICAgYCAgEBBAYFAwMCBwUDAQMEAwUCBAUCAwwHBgUDAQQIBwMCBwgCBQQDAwICBAcDBAcCBgEJAgQDAwECAwEFAgMFBAIDAwMDCAYDAgECBAICBAUDBQMHBgwDBgQCAgUBAgMCAgICAgIDAgQDAwYDAgMHAwICAgMGAQIFAgQDAgUDBQIDBQcDAQMFBwIHBwMDAwMDBQIEAwENAQUCAwUFAwMIAgIDAwIFAwMJBQMCAwIDBwMEAgMFCQ4FAwwBAgIJAgIDBAQCAwIDBwMDAQUEAQQHAwIFBwIHAgMBBAkIAQIHAQMBAgIJAgUCBwcFBAMBAwMDAwYCBQwDBQICAgECAgUFAgIHBwQDAwMBBgQBBQMEAwMIAgIHAgIEAQIBAgICAQIGAgcCBwMCAQMCAwEDBQQJAgMDBAIFBAYDBAIDAwcCAQUHBgQCBAgDBAQDBAIBCQQEAwMDAgMFAQMHBwIEAgIBAQMCAwcJCAMBAQQDAgIBAgICAgMFAgMBAQIEAwQJBgwDBgkNAgQCAwECAwMIAwQDAgUDAQYDAgQDCAIFAwEDAwQDAwEDBwUDAgQDBAUDBQENAgIFAgYDAgEDBwcDAgMCAQQCBggFAQIGAwIFBAMGBgEEAwECAwIIBAMCAwgCBQYDBQIHBgoGAwIFAwEDCwMBAgcEBA4CBgIEBQcDAwIEBQMIBQUFAQMBCQUDAgIDAwMDBwMFAwQCBAECAwIFAQMCAgIDAgIEBwMDBwMEBAICCQYFBAIFBQ4IBgEOBQYCAwUFBAICBAkEBwIDAwEHAwUIAwMJBAICAgIGAgQDBAMCAgIDBAYDBwcEBAcDAgEDAgcDAwIEAQYCAwcBBQUDCQMCAgQGAwQDAggJAwUEAQQCAwcFBgUIBgYCAgcCAwEDBgIDAwECAwcFBgMEBwQCAgEGAgcFAwQBBQIJBgEFAwUDAwQDAwUDAQIDBQIBAwIJAgIDAgUDAwQEBwUEAwMCDQQBBAICAwYFAwUBBAMCAgIHAwEEAwIBAggCAgUDBQYFBgMCAgICAwUEAwICAwIDBwICAgYBAgIGBAICAwcDAwIFAwUDAwIDAwQDAgQCAgMDAwEDAgQBAwICAgICBgUFBQIEAwICBwYCCQIFAwIGAgIBBQ4GBwICBQUECAQCBAMDAgQFBAMIAgMEAgUDAwIFCAQCAgcCCAMCAwICCQICCwYGAgMEBgMCAQkCBAUEBwIGAgkCAQkFAwECAwQGCAMDAgUBCAQCAwgDBgUEAwEBBwIHBwcHBwMHBQIDAgICAgIGBAMBCgQBAwYCCAEDAwcFBwMEAQIBBAIDBgIDAgEFBQcCBQMFBAIBAgQEBQMDBQYCAQUCAQECAQMEAwkDBwQHAgMCCAQDAgEBAQMCAgIEAwYCAQICCAIGBAIDBwMFAgMDBQIFAgIJAwMCAwIBAQMBAwUFCAMCBwQDBAIJBAICAgEBCAMGBQMCAwQDAwUGAwUDAgMFAwQDBwQCAwMFBgIEBAIEBgMEBAMHAwMEBgIDBQQEAQUFBwMFAwcHAgMCBAIDAQIEAgIEBgkDAwQFAgIEAwUEAwIBAgMDAgMHAgUGBwMCAwEHAwQIBQYDBQcBAgMFAg0DBAMJAwQDAQUCAwcDBQcFBwICBgIEBQUDAgIDAwUBBQgEAwMHAwQEBAIDAQEDAwUEAwQCAQEHAQUDAwIJBQcDAwQECQcDAwcEBQQDCQIDBgIHAwQGAQUDBwMCAwYDAwQDAQEDAwIFAQcDAwMCAwMEAgkFCAcDBAUFCAICBgIJAwMDBAMFAgMDAQYHAgMBAwcEBAcKBgEBDQIEAgQBBAIIAQMBAgEBAgIFBQQHAggFAgEHAwICAgEDAgUFBgMDAwIDAgcCAQMBAwIBAgICAQEFBgcCAQMFAQQCCAIHAgcDAgUFAgMGAgEDBAUBBwQDBAQEAwIDBQEEBQEDAgIFAwcDBAcDBAUMAwECAwQCBQUBBgMHBAQCBwUDAwkFAgUGAgIDBgcFAQMHBAMHBAUCAgQBBAYCBAgBCQIDBAIFAgIHBAkEBAICAgEHCQQCAgIFAgYHBQYFBwkHCgUDCAIFAgMFAgUDCgIBAwIHAQINBAQHCAIHBAIDCQIEAgUCBAUGAgIFAwUFBgMDCAgBBgMCAwMFAgEBAQQFAQgEBAIFBwQDAwECBgQFBQICAwMEBAYHBQUIAwIBAwIEBAIEBQgEAwYEBgUEAgIJAwcGAwIBBAkCAwYCAgUEBwQGBAIEAQYDBwMDBAQBAQUIAgYCBAcCCAIHBQIEAgECBAUJCAIEAgcFAwUCAwMIAwINAwICBwEBAwIDAggCAwMCAwIHAwMBBAEBAwEFAgMDAgMGAg0DBAMFBAQIBQEEBwoDAgIBAgUCBAMDBAEGAQgDAwIGAwUDAwMDAgIFAwQLAgIBAwIDAQEEAwYCBQMFAQcCBQUEAwEJAwIFBQQDAwMFAQIEBgQDAgMDAwYCAwQHAwIECQMFAgIDAgMDBQUFAgUEAQcDBAECAQQDBwMCBAIFAgYDAQMEAwMLAgIDBQUCAwQEBQEFAwUCAQgCBwMFAwMCAwcCCAMECgICBAQCBQcFAgMBDgQHAwQCBQUBAwMGAgICBQIJBgMEAwUBAgYFAwMCAggCAgIGBQIFAwcCAQMFAgEEBwIDCAMDBgMGAQQBBAMHBAIEAwkHBAMHAwQFAwIDAwEIAwIHAgIDBgMFBAIFAwIFBQIDAgULAwUEAgIEBwUHAwICBQMDBAUEAwMCBAEFAgcCAwEBAQMDBAQCAgEBAwEHBwUDAQcDCQEHAw4FBAUCAgICAQMBBAQDCAICBQIGBAMGCAIEBQIEBwIGBAIEBAMBBAIJAQQFBwMEBAUEAQQDAgIFBAEDBQMDBQUFAgYEAggDBwMDAwUCCwMDAgUEBAEEBAYHAgUCAwUCAggFBQEHAgQCBAICAgUCCgICAwgDAwgIBQcGBAcDBQICAwUCCAIDAgMBBAICAgUHBwUDBAIIAgQEAwMGAQcGBAYDAwEIAQMFBgYFBAUCAwIFAgIEAgQCAgUEAgMFAwECAgMDAgUGBwQDBQUDBgICBwIDAgIFAwUCBQMJAgMFCA0GAgUDBwICAgMCBQIDCQMDAwcBBAMBBwMGAwMDBAcDBAgBAggFCAUJAwcLAQIGAwMCBQQBAgICBgIDAQEFAwECAQEDAwUHAwUNBQMDBQMCAgcDAwIBAwIDAgIEAgcDBAIDAgEDAwgFBgMGBwECBwUCAQMHAgMDBQUBAgMCCAsHBAMBAQYDAwMCAwMCBgUHBQICAwUJAwcDBQMDBQEDBQgCAwMDAQQEBAMJAwUDAQMJBAUFBQQDAwICAQIBCQICBAMDAgMCAgMCBAUGAgMFBAIJBgMJAQMHBQQDAgYDAgQCAQYEAQQBBgMDBwQCAgIIBAIJAgQCAgECBQICAggHBAIECgQCBgMCCQMGAgMCAgYBDgMHAgUCAgIFAQICBAMCAwMCAgIEBwEBAgIJBgMCAgIBAgUFCQIHBgIFBAMEAQICBgUDAgQFBAIGBQMDCQIDBAIEBAMCAgcJAwMDCQIEBwIHAwgGAwMIBAMFBQQEBQIDAwMFBwMCAQgIBwIBCAMGCAECBgcCBAQEBQIEAgIDBAIGBAEBAgoDAQEBBQgBAgICAQIDAgEMAQMDBQEDBgMBCQIFBQIEAwMDAwICAgIGBAUCAQUDCAUCDAIBAQcDBwIIBAcCAwQHAQcHAgIBBQEEAgYGBQQDCQIBAwQDBQMKAgcEAwUKBQIDAQYCAwIEAwIDAwQJBgcDAgYFAgEFBAcGAwIFBAECBgMDBQMCAwcDBQEDAgUFAgUFBAIIBQMCAgIDAgcBBwQBAwICAQIBBAkDAwUDAgQCBQMDAgUHBQcCAgIFAgMDAgEFCQIGAgMDAwIHBgMCAgMDBAICBwEDBQYDBgMBAwQDAwUBAQMCBAEFAgMFAQMCBgUCAgMHAwMCBgYCCQoFAQICAwIFAwIDAgMJAwMCAgIGBQMEBQcCCAEFAwUDBwMBAwMEBQIGCQEHAgQDAwcCAwUEBAICBgQDBAMCAwICBggHBQUDAwICAgIOBwQEBAUCAQUDAwIFAgIEAwQEAwYFAgMCBQUBBwMCBQUCAwMCBQIBBQcDAQECAgIGAgICAQQDAwIDBgUDAwMDBAcICgkEAgUIBwQDAgIDAwQFAQMEBQUCAwMDBgMHBQEGBQsFAwMDAQQGAgsCBAQDAwUFAgkDAwMFBQQEBwIIAwQGBQQDBgIFBAYDAwkGBQMCAwoDAgMCCwQGAQUHAwMDAQkBBQMMCQkEAgIGBAQCBAMDCQEDAwMCAwMJAgMDAgcEAwUFBQIBAQgCBQICAgMCAQMBAwMFAgMHCAQGAwIDAwYGAwQFAwMJAwUHBwYDBQMJBwMBAwMBAQQFAwMEAwIGAwMDAgQDBwkDBAIGAwcCAgICBQMFCQUEAwMBBgcBAgEDBQIDAgUDBAQBAgYHBQICAgMFAQIDAgIDBAMIAgIGBQIDAgMEAQEJCQMGAQMJBAcBAgQDAwMDAQUFBgQHBwICAwQDAgICBQQBAwgDBwMFBAsECQEBAgIHAgUCAgEDAgIBAQUDAgkBAwUDBA0CBgIFAQcEBQMCBwQDAwQCAgMDAgYDAQIDAgMDAwUJAwUBBQYCAQIDAwECAwYGAgQCAwIIAgIEAggHBAIBAgIDAwQEAwoEBgUCBQIFBgUDBQICAwMFBAIFBAMHAgMDAgUBAwICAgUDBQIDAwMCAwECBgMDAwECBQgDBAUDAgMFBgIDBgMEAwUBAwEHAwIEAQUFBQUGBAUCAQMFAgUEAgIFAgECAgQDAgEJAgICAwEDAgMEAgMCBQcCDAMCAwMFCQMDAgIHBgkGBAICBQUGBwIDAwEBAwICBgEBBAUHBAgDBAMHBgIFBAQCAgMDAgIDAwMEAgcHAgkCBwIDAQQCAwMDAwQEAQIDAwMFBAYDBgQGAwMCAgcEBQIBAwsGAwgCBwUGAwMHAgIDAgMDCAMFAQkEAQQCBwEDAgcIBAMFAwkDAgMGAwUDBAIDBQIFAwIFAwYBAwQDAggBBAQCAgIDAwkFBQQCBQECAgICBwMGAwEJAgQCCgcFBAQBAwIEAQwCAgkJBAQCBwkFAgMDBQIEAwIJAwICAgECBwIEBQMCAwEHAgICAgMHBwIDAQMCAwQDBwMGAwMDAwICAgIBAgMDAgQCAwMDBQMDAgQCAwIHBAICAgIDBAEFAwQDAwgBBQIEAwMHAQQDBwUFBAMECQUFAwMEAQMDBgMFAgIIAQkCCgMDBAIDBAMDAwICBAIIBgYHAwMEAgMDBgMCAwUCBAIGBAIDBQQCAwULAQIFCAYDAwMDBAkHAgYBAwMGCwMDAgcCBQMBBQIDAwIECQQFAgUDBgMGAwICAgECBAICCAQBBgMDBAUIAgMHAgUCAgMHAwMCAgICBgICAQMDBQMCAQIDAwcFAwUJBAIBAgICBAcDAwIBAgcDAgIJAQEBAwMEBAMCAgECAgICAgkFAgYDAgQCAwUFAwYCAwQFCAgFBAEEAQUBBQQCAwUCAwEGAwcDBwYHBAMDAgMCAwQCAwIDAwMBCAMBBQMCBQQCBwMECQUEAwUHAgICBAUDCQUGCQIJAgMDAgMHBQEDAwYCBAIFBQIDAwEEBAMEAgcBAwIBAwMEBQQDAgIDAgEDBgMEBAkFBgYECQMDAQEDBwkFAgMCCQcEAgEDCQgDBwQFAgQDBQIGCAECBAQEAwMCBQEDBAMCAwICAggCAwIDAwMDAwUDAwECAwIDAgICBwMDBwYIBAcGAgIFBwQDAwUDAQMHBwMCAgECBQEDAwMDBQUCAwUHAwcFBwMFBgICAgUBBwYBAwMDAgMCAgMBAgMCCAMEBQQDAgICAgYFAwMCAQQDAgMBBAQFBAcEAwQFBgQBAgIDAwMJCAMEAgUGAQEIAgEIAgMKBgYCAgUDAgMFBgQCAgQJAgEEAwcEAgIFBgIDAgIBBQQEAwEEBwUGAgUBBQEEAwIDBQkEAggGAgUBAgIIBQYCBAEDBAEDAgMDBwIGAwcEAwYFCAIDDgkDAwIDBgIHBgcFDAMFAgIEAQUBAwQBAwEHAwUGBAICBwIDAgMFAgUGBQMCAgEEBAUDAgUDAgECAQ0DAQYFAwUCAgUGAQIFAgYIAQMKBAUFAwMDAwUFAgcCAwUDAwEBAgQCBAMEAwMDAwICBAQEAgIDAgYCAQMDBAIEBQICBAMDAgMECgIDBQQGBAwCAQIFAwQGAwMDAwMCAwICAwYGAgUCBAMHAQYDBwECAgIBBQMBBQQEAgUBAgMBAwQDAQIGAwIFCQEFAgQDAwUCAwICAQcCAwIDAwIFAwEFBgIBBQICAwIJAgUFBgIEBQECCwQCAgkGAwkDBgIHBQUDAwYDCQQEAwUFDgMFBQIFAQEEBAIDBQQDAgkCBwECAg4DBAMCAgIGBAMHAgEBAwcFAwUGBwMJBQEFAwIJAQEGAwUBAQEDAwMDAgcDAQMFBQMHAwUFAwQCAwkHAwMCBAQJAwIDAgIDAgECBAMHBwIDAwUDAwUEAgQFAwMEAQMECgYDBgYBBAMEAQIHAQMBAwEDAQQEBgYHBwUDBwECAQIJBAMCAgQCAgMEAwMCAgQEAgMDAQQDBAkEAgEFBAMEAQICAgEEAwUFAwUEBQUCBAUEBwUCAwIDAQMDAgcDAQUCAgICAwIDAgUBBgQHAwEHAwMHAwYEAgkJAgMDAwECAgECAwEDAwUEBAEJAwMEBQQBAgMDAwMDBQcCBAYFAwICBAIHCggBBAMDAgMDAgUDAwEEDAIEAQUEBAUEAwIGBAUCBAUFBAMECQIEAwYDAgECBAMBAgUCAgoFAgICAgYGAgQGAQUHBwMFAgUEAwMEBAMCAQQCAwMDAwYDAwUIAgcDAQUCAgMCCAIFBQIDAQQFAwIEAwYEAwMDAgMHAwMJBQcFBQMEBwEIAgUCBAMFAwMGCAgBAQMCAgIDAgYCAwMJBQYJAgEGAwECAwIJAgQCAQMCCwIFAwMCBAIFAgMHAgYJAgYEAwMDCAICBAUCAQYEAwIOBQIEAwYGAgMFBAIGAwQEAgIGBQoEAgMBAwMMBAMEAwUDAwIDAgIDAgUCAgQHAgQCBQMCCAUKAwYGBAkDBQUFAgMHAwIEAwUIAgcEAQIJBwMDAgEDCAMGAgcJBAcDAQQDBAMEAgMLBQUDBAMCAQgCAwYDAgEDAgEBCQMIBAECAwQDBAcDBQIJAgUBCQUHAwMFBwICAwICAwUFAgMDBgQIAgMDAQYFBAMDAwIFAwEHAQMDCAEDAwEEAgMCBQYCAwIDBQQBAwUEAgMDBQQFBAUEAgQEAwICAwUBAwIFAgEBAgUFBAEGAgcFAQgBAQIFBQIEAwMCBQICAQUIBQQEAggBAgIFAgICBgQBAgIFCAYCAQMDAgcFBQMBAgMGBQEEAgIDAwMHCAMEAQIDAgYHAwUFBAUDBAUFAwIFAwYFAQECAgEDAgIHAQcCBQUDAgUCBgcFBQYCBwoDBAMCAQMFBwICAgYEBAMOBQQCBQQCAwIDCQ4GBgcDAwMEBAUDAwYEBwIDBQoCAQQDBwIBBQUEBAMDBQEFAwoDAwEFBgIDAQUCAQYDBgQCBQQDAQEBCQUBBQMCAwQEBQIDAwMCBAgIAwYHAQMDAwYEBQYDAwIDAwUCBwUBAQIDAwgGAwMHBAYDBgMCAwUDAgYEBQYFAwYIAQQEAg4FAwUBAQsEBQMGCAYCCQQHBAMCBwIFAgQFAwECBQIJAgIHBQcFBQICBQICBwQGAgUDBwEEAwIGAQIFBAQFBAYLAwMDAwECAgMEBAIDAwcDBAMIAwYDAwYGBAQDBQIDBgMDBAUGAwQEBAICAwMJBAMCAwMGBgUFAQMCAgICAgQFBAYCAQMCBQIDAwIFBwUFAwIBBgQDCQMCAggEAwEFBAMHBAUBAwIDAgIBBQECAwICAgIBAwMCAQIECAIDBQMFAwICBQkCAgUCBwIDBAMBAgUBBAUFAwMDBQQCBAECBAYHBAMEAgMDAgULCAMCAgUDAgkCCQMBBQMCAwYBBQUJAwUIBAIDAwgHAwQEAgIFAwcGBwUEAgUBAgICAwIDBAIBBgQFAwIHAQUCBwwDBAMHAQECAgIDAgIEAgUEAwUEBQICAwcDAgMEBQIFAQEDAgMFAwUCAgkDBQICAgQCAgQCCQUEAwUBBAQCBQUCAwUDBwUEBAQCAwIEBwIBAgICAwEFAgEDAwIDAwcDAQMJBgkGBAIFAwIDAwMDAwICAwIDAgUEAgIBBAMCBQIBBAUDCQcDAgIDAwIDBwYCCQECAgEFBAIFBwkEAwMFAgkFAgMEAQMDAgUGBgIFCQYDAgMCBgMJAgIEAgIFAgYCAgEDAgEHAgMDAwMFBAQHAwQCAgMFAgQDBAUFBQEDAQMDAwICAgcGBQEEAQIEAwUIAwIEAwoDAgMFBQMIAwIDAwMCBQkCAwQCBAMDBAgGBAIFAgICAQcFAwICCwIEAgMMAwMFBAMCBAIDAwMDBwQFBQYDAgIECAICAwMHBwcGAgkHBQMFCAIDBAMDBQQCBgUHAQcFBAcCAwQCCAIEAgMFBwoCAwcCBQMFAgQBAwMJAgkCBwECBgUEAgYDBQICAwQCAwMFAgIIAQMBAwcFBQMCAgMFAQIEBwYBBwIDAgIBAwICDQMGBgQBAQMGBQcIBQUIAQIGAwMDAwMIAgIHAwICCwMHAQMEBgMDBQUCAwIDBg4DAgUDBQMFAgMGCQQBBwQFAwIDBQgBAgECAQIFAwUBBQUCAwQDAgIDAgIEAwMFAwYFBQUFAgMCAwECAQUFAwUFBgIEAgIBBwkEAgkCCAIIBAMCBAIFBAkCAgIEBAEBBAcBBQUJBAIGBgMFAgIDBAQDAwMCAQIEAgICCQUFBwUCBQQFAQICAgYCBwUGAwYDAwMEAgUDAgIBCAgCBgYFBgcFAQMDBgMEBwUGAwMDBgEEAgQBAwQJBAMFBAECBAIBAwgDAwIHBQMEAwMHCQIDAwcEAwIDBQUGCgIDAgkCBAcDAgECAwkCBQEFBQQDAQUJBgIFBQcHCAEBAQMDBwIGBgQEBQMCAgQJAwMCBAQEAgQEBQMHBQUEAQkDBgMCAQMFBAMDBAMEAgYBAwkBCQEIAwMCBgQHBQQCAQMGAgIDBAMDAgMDBQMCAwYDBQIEAwICAwEBAgMDBAMEBAIEAwMECQUCAQIEAgMDAgYDAgIDAgICBwUEAwMCAgEJAwUFAwUCAgIFAwMBAwMDBAQDAgoCAgEDAwgDBQIFAgQFAwEDAwIEBAECAgcDAgEDAwYCAgMGAwgGCQMDBQEEAwMDAwMCBQICBAICAwQCAwsEBQwCAwMCAgICBAQCBQMEBAICAwQCBgMCAgQCBAICBgECBAIGBggCBwMFAQUJAgUDAwUCCAcGBQIBBQICAQoCAwgDAgICBQMEAQICAgMFAwQHAwEDBgMDBQIDAgMJAwgCCgkHAgUDBQYGAwIEBAIEBQQFAwEFCAQECAQDAQEEAwICAwMDAwMBAgQFBQMFBQQDAQIEAgMGBgUMBwQEBgcCAwIMBAMFBgcFCAEDBgkBCgIDBQUBAgEBBAYDBQMCCQIGAwMGBgIEAQkFAwMHBQEGAwEFAgkFAwIFAgQDAgMCAwYFBQQEBQ4CAwEDCAYDBQcKBQMEAgkHAgUDBAIFBQEDAwIHBwYBBgQEBgIFBAIFAwEFBAIDCwMEAgMCAwUCAgQDAwMHBwkICgQDAwQEBgIEBwICAgMEAgICBQMFAgYCBgcDAwcHAgMHAQYEBAYFAgQIBQMBAwEECQMBBgQHAwICBAUDBQEFAgMEAgEBBgQCBQMEAQECAwMCAwQCBgIKAQICAwMHBQICBAUCAQIEAgMIAwMFAgICAgUCAQQIAwUGCQEEAwQDBwIBBAQCCAQBBwkDAgMDAwMCAggDBgUHBgIBAwQCCQICAwMCBQMCBAUHAgkDAwQHAwIHAwEIAQICAgUFAwQHAwEEAQUDBAkCBAUGBQMHBQMDBQEKBQECBAUFAgMHAgYCAgUDAgQEAgUDAgEDAQYGAQEDBwMCBAMCAwEFAgYCAgMFAwMHBQIBBQMCBAQFAgcFBAQHBAoDAwUDAQQCAwUCBQgCAgYFAgoEAgUCCwIEAgMEAgEDBAQCAwgBBQQDBQIDAwMDBQMCAwQDAwIGBAIDAQEEAgEEAgICAwIFCgICAwUIBwMIAwEDAwMCBgICAwIECQUDCwECAgIEAwwCBgEDAw4BBwIGAwICAgQCBwMCAwQFAwIFAgcCAQQCAwQEAwQDCAcHCQMJAwMCBQMGAwQGBw0CAwUCAwQBAgIBAwICBQIHBQUCAgMCAwMEAgEEAwMCAQcCAwUCAgQCAgUCAwIDAgMHBAUCBAYFAwMFAgIEBQYDAgUFBwUDBQYLAQcBAwIFAwUDAgIEAgECAQYFBAYHBQUFBAEEAwICAwMGAQUIBQcFAwIHBgIFAgMCAgUFAwEDBAIICAEFAggBAgIEAwMDAwYFAQQCCAMCCQIHBgQDAwIDBwMDAwUEAwUEAgUDAQMEAwICAgMCBAMGAwICCAMDAQgBAgICAwUEAwQEAwYCAgUIAwMCBgQDAgUDBAMCCQcCBQUEAgIFBQICAgMDAwIDBQUEAwUDAgYEAgYEAgICAgMDBQcCAgoCAgECBAMFAwIDAwIFAwMFAgEKAgIEBQMDBgIFAQMEBAQGAwUCAgUMBAICBQIBBAMLAwcCAwQDCAIJAwcCCQIDAwMEAwIDBAMCAQMJBwgDAwkCAgYEBAIGAgIDAwQEAwMFBAIDBQMCAw4FAgUCAwcDAwMDAwUBBgIDBwUEAgMCBQUFBAIDBQIBBwEJAgIBBwcCAQICAQIDBAUCAwUCAgIHBQIHBQUCAgcFAwEDBggGAQICAQQCBwUFAgEDAwIGDQMBAwQDAwMCBAQCAgQEBAIDDQEEAwMCBQUFAwMCAgQCAgILBwMHBAQGDQMEAgIDAwMCAgUGAwQDBAEGAwIDBQICBQMFCAMGAgYCBwUHAgMDAgUKAgMCBwIFAgQDBQICAwQHBQcBCQMEAgMHAwICAwUDAQMCBQcCBAIJBQMCBg0EBQICBwIGAg0JAwUHAwMCBAEDDgICAQMDAwMDAgEDAwMEAgEBBQIEBgICBwIHBAIFBgEBAQMFCAMIAwEBAwMCAwcFAQIHAwMEBAYCBAMHBAMJBgkDBAcDAQIHAwMGAQIFAwEBBwgCBQIBAwIDAwIDAwMFAwcCAQMHBgMEAwcGAgQHAgIFBAIDAQMDBgEDAwEGAwQCBAMCAQIDAwEFAgIEBggCBAcCAwQBAgIEAwQIAgMEAgEEAgMEBAMCBQEGAwUDBwUFAQIFCAIEAwIDAwICBQMBBwYHAwQCAgYCAwQDBQcGAgMCAgMBAgEFBAgEAQMBBQEIBQICBgEJBgQCAgYFAgIJAQEFAQUCAgMDAgMCBgYFAwMGBQUIBQECAgcDBAICBAICBQICBAMGBQQCCQMGAwIBAwUDAQMGAgQGAgYCAgICAQIFAgcCAwUDBQICBgoJAwMCBwgDCQcCBgEBAwoDAwkBBwICBQMGCQMBBQYOAwMDBAIDAwMFBQMGAgICAg4HAgIDAgUCBwMFAgMCAgICAwMGBAcFAgcCBQUCAwMCAgcFAgQGAgIBBQMBAgUDAQUFBgEEAQUEBAMJBQUCAgMCAwMBCAUFAwQEAwYDBAkEAgEHAgIDAwUGAgQCAwMCAwcCAwYIAwcJAgQCDQUFBgIHAgIEAwgJAgYCAgMBBAQFCQIDAwIDAwcDAwcFAgUBBAYDAQIJAwYIAgEGCQUEBAMLBgIEBQQDBAMCAQUDAwMDAgMCAgYFAgIEBQUCAgMDDQIDBwUCAgUIDQIBAQICBgUDBQUDBAICAgQCAgMBAgIDAgUEBQIDAgIFAgEFBgUEAgUBCAMECQUCAwIFAQIDBQUDAQIGAgEDAwICBAIDBwIBAQIIBAIFBAQDBQUHBAcCAwoCAwMEAwQCAwMEBwEHBAIFAgEDCAIEBAcDBQUFAgIDAgUEAgYIBQIEAgQBBAIHAwICAwICAQICBAUDBwMDDQIDAgMCAQMCBwUEBQsCAwIBAwMBAwIHAwMFAwIHAwMCBQEDAQUHAwQDAQgCBAMFAgQHAwMDAwIFBAcOCQUDAQMGCAMBAgIBAwIFBAICAQIEAgEBBwUCBwIFAgUHAgIHBA4BBQcCCgQBAQUDAgIEAg==",
                    "dtype": "i1"
                  },
                  "x0": " ",
                  "xaxis": "x",
                  "y0": " ",
                  "yaxis": "y"
                }
              ],
              "layout": {
                "boxmode": "group",
                "legend": {
                  "tracegroupgap": 0
                },
                "template": {
                  "data": {
                    "bar": [
                      {
                        "error_x": {
                          "color": "#2a3f5f"
                        },
                        "error_y": {
                          "color": "#2a3f5f"
                        },
                        "marker": {
                          "line": {
                            "color": "#E5ECF6",
                            "width": 0.5
                          },
                          "pattern": {
                            "fillmode": "overlay",
                            "size": 10,
                            "solidity": 0.2
                          }
                        },
                        "type": "bar"
                      }
                    ],
                    "barpolar": [
                      {
                        "marker": {
                          "line": {
                            "color": "#E5ECF6",
                            "width": 0.5
                          },
                          "pattern": {
                            "fillmode": "overlay",
                            "size": 10,
                            "solidity": 0.2
                          }
                        },
                        "type": "barpolar"
                      }
                    ],
                    "carpet": [
                      {
                        "aaxis": {
                          "endlinecolor": "#2a3f5f",
                          "gridcolor": "white",
                          "linecolor": "white",
                          "minorgridcolor": "white",
                          "startlinecolor": "#2a3f5f"
                        },
                        "baxis": {
                          "endlinecolor": "#2a3f5f",
                          "gridcolor": "white",
                          "linecolor": "white",
                          "minorgridcolor": "white",
                          "startlinecolor": "#2a3f5f"
                        },
                        "type": "carpet"
                      }
                    ],
                    "choropleth": [
                      {
                        "colorbar": {
                          "outlinewidth": 0,
                          "ticks": ""
                        },
                        "type": "choropleth"
                      }
                    ],
                    "contour": [
                      {
                        "colorbar": {
                          "outlinewidth": 0,
                          "ticks": ""
                        },
                        "colorscale": [
                          [
                            0,
                            "#0d0887"
                          ],
                          [
                            0.1111111111111111,
                            "#46039f"
                          ],
                          [
                            0.2222222222222222,
                            "#7201a8"
                          ],
                          [
                            0.3333333333333333,
                            "#9c179e"
                          ],
                          [
                            0.4444444444444444,
                            "#bd3786"
                          ],
                          [
                            0.5555555555555556,
                            "#d8576b"
                          ],
                          [
                            0.6666666666666666,
                            "#ed7953"
                          ],
                          [
                            0.7777777777777778,
                            "#fb9f3a"
                          ],
                          [
                            0.8888888888888888,
                            "#fdca26"
                          ],
                          [
                            1,
                            "#f0f921"
                          ]
                        ],
                        "type": "contour"
                      }
                    ],
                    "contourcarpet": [
                      {
                        "colorbar": {
                          "outlinewidth": 0,
                          "ticks": ""
                        },
                        "type": "contourcarpet"
                      }
                    ],
                    "heatmap": [
                      {
                        "colorbar": {
                          "outlinewidth": 0,
                          "ticks": ""
                        },
                        "colorscale": [
                          [
                            0,
                            "#0d0887"
                          ],
                          [
                            0.1111111111111111,
                            "#46039f"
                          ],
                          [
                            0.2222222222222222,
                            "#7201a8"
                          ],
                          [
                            0.3333333333333333,
                            "#9c179e"
                          ],
                          [
                            0.4444444444444444,
                            "#bd3786"
                          ],
                          [
                            0.5555555555555556,
                            "#d8576b"
                          ],
                          [
                            0.6666666666666666,
                            "#ed7953"
                          ],
                          [
                            0.7777777777777778,
                            "#fb9f3a"
                          ],
                          [
                            0.8888888888888888,
                            "#fdca26"
                          ],
                          [
                            1,
                            "#f0f921"
                          ]
                        ],
                        "type": "heatmap"
                      }
                    ],
                    "histogram": [
                      {
                        "marker": {
                          "pattern": {
                            "fillmode": "overlay",
                            "size": 10,
                            "solidity": 0.2
                          }
                        },
                        "type": "histogram"
                      }
                    ],
                    "histogram2d": [
                      {
                        "colorbar": {
                          "outlinewidth": 0,
                          "ticks": ""
                        },
                        "colorscale": [
                          [
                            0,
                            "#0d0887"
                          ],
                          [
                            0.1111111111111111,
                            "#46039f"
                          ],
                          [
                            0.2222222222222222,
                            "#7201a8"
                          ],
                          [
                            0.3333333333333333,
                            "#9c179e"
                          ],
                          [
                            0.4444444444444444,
                            "#bd3786"
                          ],
                          [
                            0.5555555555555556,
                            "#d8576b"
                          ],
                          [
                            0.6666666666666666,
                            "#ed7953"
                          ],
                          [
                            0.7777777777777778,
                            "#fb9f3a"
                          ],
                          [
                            0.8888888888888888,
                            "#fdca26"
                          ],
                          [
                            1,
                            "#f0f921"
                          ]
                        ],
                        "type": "histogram2d"
                      }
                    ],
                    "histogram2dcontour": [
                      {
                        "colorbar": {
                          "outlinewidth": 0,
                          "ticks": ""
                        },
                        "colorscale": [
                          [
                            0,
                            "#0d0887"
                          ],
                          [
                            0.1111111111111111,
                            "#46039f"
                          ],
                          [
                            0.2222222222222222,
                            "#7201a8"
                          ],
                          [
                            0.3333333333333333,
                            "#9c179e"
                          ],
                          [
                            0.4444444444444444,
                            "#bd3786"
                          ],
                          [
                            0.5555555555555556,
                            "#d8576b"
                          ],
                          [
                            0.6666666666666666,
                            "#ed7953"
                          ],
                          [
                            0.7777777777777778,
                            "#fb9f3a"
                          ],
                          [
                            0.8888888888888888,
                            "#fdca26"
                          ],
                          [
                            1,
                            "#f0f921"
                          ]
                        ],
                        "type": "histogram2dcontour"
                      }
                    ],
                    "mesh3d": [
                      {
                        "colorbar": {
                          "outlinewidth": 0,
                          "ticks": ""
                        },
                        "type": "mesh3d"
                      }
                    ],
                    "parcoords": [
                      {
                        "line": {
                          "colorbar": {
                            "outlinewidth": 0,
                            "ticks": ""
                          }
                        },
                        "type": "parcoords"
                      }
                    ],
                    "pie": [
                      {
                        "automargin": true,
                        "type": "pie"
                      }
                    ],
                    "scatter": [
                      {
                        "fillpattern": {
                          "fillmode": "overlay",
                          "size": 10,
                          "solidity": 0.2
                        },
                        "type": "scatter"
                      }
                    ],
                    "scatter3d": [
                      {
                        "line": {
                          "colorbar": {
                            "outlinewidth": 0,
                            "ticks": ""
                          }
                        },
                        "marker": {
                          "colorbar": {
                            "outlinewidth": 0,
                            "ticks": ""
                          }
                        },
                        "type": "scatter3d"
                      }
                    ],
                    "scattercarpet": [
                      {
                        "marker": {
                          "colorbar": {
                            "outlinewidth": 0,
                            "ticks": ""
                          }
                        },
                        "type": "scattercarpet"
                      }
                    ],
                    "scattergeo": [
                      {
                        "marker": {
                          "colorbar": {
                            "outlinewidth": 0,
                            "ticks": ""
                          }
                        },
                        "type": "scattergeo"
                      }
                    ],
                    "scattergl": [
                      {
                        "marker": {
                          "colorbar": {
                            "outlinewidth": 0,
                            "ticks": ""
                          }
                        },
                        "type": "scattergl"
                      }
                    ],
                    "scattermap": [
                      {
                        "marker": {
                          "colorbar": {
                            "outlinewidth": 0,
                            "ticks": ""
                          }
                        },
                        "type": "scattermap"
                      }
                    ],
                    "scattermapbox": [
                      {
                        "marker": {
                          "colorbar": {
                            "outlinewidth": 0,
                            "ticks": ""
                          }
                        },
                        "type": "scattermapbox"
                      }
                    ],
                    "scatterpolar": [
                      {
                        "marker": {
                          "colorbar": {
                            "outlinewidth": 0,
                            "ticks": ""
                          }
                        },
                        "type": "scatterpolar"
                      }
                    ],
                    "scatterpolargl": [
                      {
                        "marker": {
                          "colorbar": {
                            "outlinewidth": 0,
                            "ticks": ""
                          }
                        },
                        "type": "scatterpolargl"
                      }
                    ],
                    "scatterternary": [
                      {
                        "marker": {
                          "colorbar": {
                            "outlinewidth": 0,
                            "ticks": ""
                          }
                        },
                        "type": "scatterternary"
                      }
                    ],
                    "surface": [
                      {
                        "colorbar": {
                          "outlinewidth": 0,
                          "ticks": ""
                        },
                        "colorscale": [
                          [
                            0,
                            "#0d0887"
                          ],
                          [
                            0.1111111111111111,
                            "#46039f"
                          ],
                          [
                            0.2222222222222222,
                            "#7201a8"
                          ],
                          [
                            0.3333333333333333,
                            "#9c179e"
                          ],
                          [
                            0.4444444444444444,
                            "#bd3786"
                          ],
                          [
                            0.5555555555555556,
                            "#d8576b"
                          ],
                          [
                            0.6666666666666666,
                            "#ed7953"
                          ],
                          [
                            0.7777777777777778,
                            "#fb9f3a"
                          ],
                          [
                            0.8888888888888888,
                            "#fdca26"
                          ],
                          [
                            1,
                            "#f0f921"
                          ]
                        ],
                        "type": "surface"
                      }
                    ],
                    "table": [
                      {
                        "cells": {
                          "fill": {
                            "color": "#EBF0F8"
                          },
                          "line": {
                            "color": "white"
                          }
                        },
                        "header": {
                          "fill": {
                            "color": "#C8D4E3"
                          },
                          "line": {
                            "color": "white"
                          }
                        },
                        "type": "table"
                      }
                    ]
                  },
                  "layout": {
                    "annotationdefaults": {
                      "arrowcolor": "#2a3f5f",
                      "arrowhead": 0,
                      "arrowwidth": 1
                    },
                    "autotypenumbers": "strict",
                    "coloraxis": {
                      "colorbar": {
                        "outlinewidth": 0,
                        "ticks": ""
                      }
                    },
                    "colorscale": {
                      "diverging": [
                        [
                          0,
                          "#8e0152"
                        ],
                        [
                          0.1,
                          "#c51b7d"
                        ],
                        [
                          0.2,
                          "#de77ae"
                        ],
                        [
                          0.3,
                          "#f1b6da"
                        ],
                        [
                          0.4,
                          "#fde0ef"
                        ],
                        [
                          0.5,
                          "#f7f7f7"
                        ],
                        [
                          0.6,
                          "#e6f5d0"
                        ],
                        [
                          0.7,
                          "#b8e186"
                        ],
                        [
                          0.8,
                          "#7fbc41"
                        ],
                        [
                          0.9,
                          "#4d9221"
                        ],
                        [
                          1,
                          "#276419"
                        ]
                      ],
                      "sequential": [
                        [
                          0,
                          "#0d0887"
                        ],
                        [
                          0.1111111111111111,
                          "#46039f"
                        ],
                        [
                          0.2222222222222222,
                          "#7201a8"
                        ],
                        [
                          0.3333333333333333,
                          "#9c179e"
                        ],
                        [
                          0.4444444444444444,
                          "#bd3786"
                        ],
                        [
                          0.5555555555555556,
                          "#d8576b"
                        ],
                        [
                          0.6666666666666666,
                          "#ed7953"
                        ],
                        [
                          0.7777777777777778,
                          "#fb9f3a"
                        ],
                        [
                          0.8888888888888888,
                          "#fdca26"
                        ],
                        [
                          1,
                          "#f0f921"
                        ]
                      ],
                      "sequentialminus": [
                        [
                          0,
                          "#0d0887"
                        ],
                        [
                          0.1111111111111111,
                          "#46039f"
                        ],
                        [
                          0.2222222222222222,
                          "#7201a8"
                        ],
                        [
                          0.3333333333333333,
                          "#9c179e"
                        ],
                        [
                          0.4444444444444444,
                          "#bd3786"
                        ],
                        [
                          0.5555555555555556,
                          "#d8576b"
                        ],
                        [
                          0.6666666666666666,
                          "#ed7953"
                        ],
                        [
                          0.7777777777777778,
                          "#fb9f3a"
                        ],
                        [
                          0.8888888888888888,
                          "#fdca26"
                        ],
                        [
                          1,
                          "#f0f921"
                        ]
                      ]
                    },
                    "colorway": [
                      "#636efa",
                      "#EF553B",
                      "#00cc96",
                      "#ab63fa",
                      "#FFA15A",
                      "#19d3f3",
                      "#FF6692",
                      "#B6E880",
                      "#FF97FF",
                      "#FECB52"
                    ],
                    "font": {
                      "color": "#2a3f5f"
                    },
                    "geo": {
                      "bgcolor": "white",
                      "lakecolor": "white",
                      "landcolor": "#E5ECF6",
                      "showlakes": true,
                      "showland": true,
                      "subunitcolor": "white"
                    },
                    "hoverlabel": {
                      "align": "left"
                    },
                    "hovermode": "closest",
                    "mapbox": {
                      "style": "light"
                    },
                    "paper_bgcolor": "white",
                    "plot_bgcolor": "#E5ECF6",
                    "polar": {
                      "angularaxis": {
                        "gridcolor": "white",
                        "linecolor": "white",
                        "ticks": ""
                      },
                      "bgcolor": "#E5ECF6",
                      "radialaxis": {
                        "gridcolor": "white",
                        "linecolor": "white",
                        "ticks": ""
                      }
                    },
                    "scene": {
                      "xaxis": {
                        "backgroundcolor": "#E5ECF6",
                        "gridcolor": "white",
                        "gridwidth": 2,
                        "linecolor": "white",
                        "showbackground": true,
                        "ticks": "",
                        "zerolinecolor": "white"
                      },
                      "yaxis": {
                        "backgroundcolor": "#E5ECF6",
                        "gridcolor": "white",
                        "gridwidth": 2,
                        "linecolor": "white",
                        "showbackground": true,
                        "ticks": "",
                        "zerolinecolor": "white"
                      },
                      "zaxis": {
                        "backgroundcolor": "#E5ECF6",
                        "gridcolor": "white",
                        "gridwidth": 2,
                        "linecolor": "white",
                        "showbackground": true,
                        "ticks": "",
                        "zerolinecolor": "white"
                      }
                    },
                    "shapedefaults": {
                      "line": {
                        "color": "#2a3f5f"
                      }
                    },
                    "ternary": {
                      "aaxis": {
                        "gridcolor": "white",
                        "linecolor": "white",
                        "ticks": ""
                      },
                      "baxis": {
                        "gridcolor": "white",
                        "linecolor": "white",
                        "ticks": ""
                      },
                      "bgcolor": "#E5ECF6",
                      "caxis": {
                        "gridcolor": "white",
                        "linecolor": "white",
                        "ticks": ""
                      }
                    },
                    "title": {
                      "x": 0.05
                    },
                    "xaxis": {
                      "automargin": true,
                      "gridcolor": "white",
                      "linecolor": "white",
                      "ticks": "",
                      "title": {
                        "standoff": 15
                      },
                      "zerolinecolor": "white",
                      "zerolinewidth": 2
                    },
                    "yaxis": {
                      "automargin": true,
                      "gridcolor": "white",
                      "linecolor": "white",
                      "ticks": "",
                      "title": {
                        "standoff": 15
                      },
                      "zerolinecolor": "white",
                      "zerolinewidth": 2
                    }
                  }
                },
                "title": {
                  "text": "판매량(Quantity) 박스플롯"
                },
                "xaxis": {
                  "anchor": "y",
                  "domain": [
                    0,
                    1
                  ],
                  "title": {
                    "text": "판매량"
                  }
                },
                "yaxis": {
                  "anchor": "x",
                  "domain": [
                    0,
                    1
                  ]
                }
              }
            }
          },
          "metadata": {},
          "output_type": "display_data"
        }
      ],
      "source": [
        "# 박스플롯 생성\n",
        "fig2 = px.box(df, x='Quantity',\n",
        "             title='판매량(Quantity) 박스플롯',\n",
        "             labels={'Quantity': '판매량'},\n",
        "             color_discrete_sequence=['#00CC96'])\n",
        "fig2.show()"
      ]
    },
    {
      "cell_type": "markdown",
      "metadata": {},
      "source": [
        "판매량(Quantity) 분포 특징:\n",
        "1. 대칭성: 데이터가 왼쪽(작은 값)에 더 많이 몰려 있고, 오른쪽(큰 값)으로 꼬리가 긴 비대칭(오른쪽으로 긴 꼬리, 양의 왜도) 분포를 보임\n",
        "2. 이상치: 박스플롯에서 9개 이상(10, 11, 12, 13, 14)의 값에서 이상치가 명확히 관찰됨\n",
        "3. 범위: 대부분의 판매량은 2~7개 사이에 분포\n",
        "4. 중앙값: 약 4~5개로, 평균보다 작으며, 이는 오른쪽 꼬리(큰 값)로 인해 평균이 중앙값보다 커진 결과임"
      ]
    },
    {
      "cell_type": "markdown",
      "metadata": {},
      "source": [
        "Q4. State(주)별 총 매출액을 계산하고, 상위 5개 주를 시각화하세요."
      ]
    },
    {
      "cell_type": "code",
      "execution_count": 65,
      "metadata": {},
      "outputs": [
        {
          "data": {
            "text/html": [
              "<div>\n",
              "<style scoped>\n",
              "    .dataframe tbody tr th:only-of-type {\n",
              "        vertical-align: middle;\n",
              "    }\n",
              "\n",
              "    .dataframe tbody tr th {\n",
              "        vertical-align: top;\n",
              "    }\n",
              "\n",
              "    .dataframe thead th {\n",
              "        text-align: right;\n",
              "    }\n",
              "</style>\n",
              "<table border=\"1\" class=\"dataframe\">\n",
              "  <thead>\n",
              "    <tr style=\"text-align: right;\">\n",
              "      <th></th>\n",
              "      <th>State</th>\n",
              "      <th>Sales</th>\n",
              "    </tr>\n",
              "  </thead>\n",
              "  <tbody>\n",
              "    <tr>\n",
              "      <th>0</th>\n",
              "      <td>Alabama</td>\n",
              "      <td>19510.6400</td>\n",
              "    </tr>\n",
              "    <tr>\n",
              "      <th>1</th>\n",
              "      <td>Arizona</td>\n",
              "      <td>35282.0010</td>\n",
              "    </tr>\n",
              "    <tr>\n",
              "      <th>2</th>\n",
              "      <td>Arkansas</td>\n",
              "      <td>11678.1300</td>\n",
              "    </tr>\n",
              "    <tr>\n",
              "      <th>3</th>\n",
              "      <td>California</td>\n",
              "      <td>457687.6315</td>\n",
              "    </tr>\n",
              "    <tr>\n",
              "      <th>4</th>\n",
              "      <td>Colorado</td>\n",
              "      <td>32108.1180</td>\n",
              "    </tr>\n",
              "  </tbody>\n",
              "</table>\n",
              "</div>"
            ],
            "text/plain": [
              "        State        Sales\n",
              "0     Alabama   19510.6400\n",
              "1     Arizona   35282.0010\n",
              "2    Arkansas   11678.1300\n",
              "3  California  457687.6315\n",
              "4    Colorado   32108.1180"
            ]
          },
          "execution_count": 65,
          "metadata": {},
          "output_type": "execute_result"
        }
      ],
      "source": [
        "# 주(State)별 총 매출액 계산 (데이터에 'Revenue' 컬럼이 없으므로 'Sales' 컬럼 사용)\n",
        "# state_revenue = df.groupby('State')['Sales'].sum().reset_index()\n",
        "state_revenue = df.groupby('State').agg({'Sales': 'sum'}).reset_index()\n",
        "# state_revenue = df.groupby('State').agg(Sales=('Sales', 'sum')).reset_index()\n",
        "state_revenue.head()\n"
      ]
    },
    {
      "cell_type": "code",
      "execution_count": 66,
      "metadata": {},
      "outputs": [
        {
          "data": {
            "text/html": [
              "<div>\n",
              "<style scoped>\n",
              "    .dataframe tbody tr th:only-of-type {\n",
              "        vertical-align: middle;\n",
              "    }\n",
              "\n",
              "    .dataframe tbody tr th {\n",
              "        vertical-align: top;\n",
              "    }\n",
              "\n",
              "    .dataframe thead th {\n",
              "        text-align: right;\n",
              "    }\n",
              "</style>\n",
              "<table border=\"1\" class=\"dataframe\">\n",
              "  <thead>\n",
              "    <tr style=\"text-align: right;\">\n",
              "      <th></th>\n",
              "      <th>State</th>\n",
              "      <th>Sales</th>\n",
              "    </tr>\n",
              "  </thead>\n",
              "  <tbody>\n",
              "    <tr>\n",
              "      <th>3</th>\n",
              "      <td>California</td>\n",
              "      <td>457687.6315</td>\n",
              "    </tr>\n",
              "    <tr>\n",
              "      <th>30</th>\n",
              "      <td>New York</td>\n",
              "      <td>310876.2710</td>\n",
              "    </tr>\n",
              "    <tr>\n",
              "      <th>41</th>\n",
              "      <td>Texas</td>\n",
              "      <td>170188.0458</td>\n",
              "    </tr>\n",
              "    <tr>\n",
              "      <th>45</th>\n",
              "      <td>Washington</td>\n",
              "      <td>138641.2700</td>\n",
              "    </tr>\n",
              "    <tr>\n",
              "      <th>36</th>\n",
              "      <td>Pennsylvania</td>\n",
              "      <td>116511.9140</td>\n",
              "    </tr>\n",
              "  </tbody>\n",
              "</table>\n",
              "</div>"
            ],
            "text/plain": [
              "           State        Sales\n",
              "3     California  457687.6315\n",
              "30      New York  310876.2710\n",
              "41         Texas  170188.0458\n",
              "45    Washington  138641.2700\n",
              "36  Pennsylvania  116511.9140"
            ]
          },
          "execution_count": 66,
          "metadata": {},
          "output_type": "execute_result"
        }
      ],
      "source": [
        "# 상위 5개 주 정렬\n",
        "top5_states = state_revenue.sort_values('Sales', ascending=False).head(5)\n",
        "top5_states"
      ]
    },
    {
      "cell_type": "code",
      "execution_count": 67,
      "metadata": {},
      "outputs": [
        {
          "data": {
            "application/vnd.plotly.v1+json": {
              "config": {
                "plotlyServerURL": "https://plot.ly"
              },
              "data": [
                {
                  "hovertemplate": "주=%{x}<br>총 매출액($)=%{y}<extra></extra>",
                  "legendgroup": "California",
                  "marker": {
                    "color": "#636efa",
                    "pattern": {
                      "shape": ""
                    }
                  },
                  "name": "California",
                  "orientation": "v",
                  "showlegend": true,
                  "textposition": "auto",
                  "texttemplate": "%{y:.2s}",
                  "type": "bar",
                  "x": [
                    "California"
                  ],
                  "xaxis": "x",
                  "y": {
                    "bdata": "nu+nhl7vG0E=",
                    "dtype": "f8"
                  },
                  "yaxis": "y"
                },
                {
                  "hovertemplate": "주=%{x}<br>총 매출액($)=%{y}<extra></extra>",
                  "legendgroup": "New York",
                  "marker": {
                    "color": "#EF553B",
                    "pattern": {
                      "shape": ""
                    }
                  },
                  "name": "New York",
                  "orientation": "v",
                  "showlegend": true,
                  "textposition": "auto",
                  "texttemplate": "%{y:.2s}",
                  "type": "bar",
                  "x": [
                    "New York"
                  ],
                  "xaxis": "x",
                  "y": {
                    "bdata": "JQaBFXH5EkE=",
                    "dtype": "f8"
                  },
                  "yaxis": "y"
                },
                {
                  "hovertemplate": "주=%{x}<br>총 매출액($)=%{y}<extra></extra>",
                  "legendgroup": "Texas",
                  "marker": {
                    "color": "#00cc96",
                    "pattern": {
                      "shape": ""
                    }
                  },
                  "name": "Texas",
                  "orientation": "v",
                  "showlegend": true,
                  "textposition": "auto",
                  "texttemplate": "%{y:.2s}",
                  "type": "bar",
                  "x": [
                    "Texas"
                  ],
                  "xaxis": "x",
                  "y": {
                    "bdata": "8WPMXWDGBEE=",
                    "dtype": "f8"
                  },
                  "yaxis": "y"
                },
                {
                  "hovertemplate": "주=%{x}<br>총 매출액($)=%{y}<extra></extra>",
                  "legendgroup": "Washington",
                  "marker": {
                    "color": "#ab63fa",
                    "pattern": {
                      "shape": ""
                    }
                  },
                  "name": "Washington",
                  "orientation": "v",
                  "showlegend": true,
                  "textposition": "auto",
                  "texttemplate": "%{y:.2s}",
                  "type": "bar",
                  "x": [
                    "Washington"
                  ],
                  "xaxis": "x",
                  "y": {
                    "bdata": "j8L1KIrsAEE=",
                    "dtype": "f8"
                  },
                  "yaxis": "y"
                },
                {
                  "hovertemplate": "주=%{x}<br>총 매출액($)=%{y}<extra></extra>",
                  "legendgroup": "Pennsylvania",
                  "marker": {
                    "color": "#FFA15A",
                    "pattern": {
                      "shape": ""
                    }
                  },
                  "name": "Pennsylvania",
                  "orientation": "v",
                  "showlegend": true,
                  "textposition": "auto",
                  "texttemplate": "%{y:.2s}",
                  "type": "bar",
                  "x": [
                    "Pennsylvania"
                  ],
                  "xaxis": "x",
                  "y": {
                    "bdata": "yXa+n/5x/EA=",
                    "dtype": "f8"
                  },
                  "yaxis": "y"
                }
              ],
              "layout": {
                "barmode": "relative",
                "legend": {
                  "title": {
                    "text": "주"
                  },
                  "tracegroupgap": 0
                },
                "showlegend": false,
                "template": {
                  "data": {
                    "bar": [
                      {
                        "error_x": {
                          "color": "#2a3f5f"
                        },
                        "error_y": {
                          "color": "#2a3f5f"
                        },
                        "marker": {
                          "line": {
                            "color": "#E5ECF6",
                            "width": 0.5
                          },
                          "pattern": {
                            "fillmode": "overlay",
                            "size": 10,
                            "solidity": 0.2
                          }
                        },
                        "type": "bar"
                      }
                    ],
                    "barpolar": [
                      {
                        "marker": {
                          "line": {
                            "color": "#E5ECF6",
                            "width": 0.5
                          },
                          "pattern": {
                            "fillmode": "overlay",
                            "size": 10,
                            "solidity": 0.2
                          }
                        },
                        "type": "barpolar"
                      }
                    ],
                    "carpet": [
                      {
                        "aaxis": {
                          "endlinecolor": "#2a3f5f",
                          "gridcolor": "white",
                          "linecolor": "white",
                          "minorgridcolor": "white",
                          "startlinecolor": "#2a3f5f"
                        },
                        "baxis": {
                          "endlinecolor": "#2a3f5f",
                          "gridcolor": "white",
                          "linecolor": "white",
                          "minorgridcolor": "white",
                          "startlinecolor": "#2a3f5f"
                        },
                        "type": "carpet"
                      }
                    ],
                    "choropleth": [
                      {
                        "colorbar": {
                          "outlinewidth": 0,
                          "ticks": ""
                        },
                        "type": "choropleth"
                      }
                    ],
                    "contour": [
                      {
                        "colorbar": {
                          "outlinewidth": 0,
                          "ticks": ""
                        },
                        "colorscale": [
                          [
                            0,
                            "#0d0887"
                          ],
                          [
                            0.1111111111111111,
                            "#46039f"
                          ],
                          [
                            0.2222222222222222,
                            "#7201a8"
                          ],
                          [
                            0.3333333333333333,
                            "#9c179e"
                          ],
                          [
                            0.4444444444444444,
                            "#bd3786"
                          ],
                          [
                            0.5555555555555556,
                            "#d8576b"
                          ],
                          [
                            0.6666666666666666,
                            "#ed7953"
                          ],
                          [
                            0.7777777777777778,
                            "#fb9f3a"
                          ],
                          [
                            0.8888888888888888,
                            "#fdca26"
                          ],
                          [
                            1,
                            "#f0f921"
                          ]
                        ],
                        "type": "contour"
                      }
                    ],
                    "contourcarpet": [
                      {
                        "colorbar": {
                          "outlinewidth": 0,
                          "ticks": ""
                        },
                        "type": "contourcarpet"
                      }
                    ],
                    "heatmap": [
                      {
                        "colorbar": {
                          "outlinewidth": 0,
                          "ticks": ""
                        },
                        "colorscale": [
                          [
                            0,
                            "#0d0887"
                          ],
                          [
                            0.1111111111111111,
                            "#46039f"
                          ],
                          [
                            0.2222222222222222,
                            "#7201a8"
                          ],
                          [
                            0.3333333333333333,
                            "#9c179e"
                          ],
                          [
                            0.4444444444444444,
                            "#bd3786"
                          ],
                          [
                            0.5555555555555556,
                            "#d8576b"
                          ],
                          [
                            0.6666666666666666,
                            "#ed7953"
                          ],
                          [
                            0.7777777777777778,
                            "#fb9f3a"
                          ],
                          [
                            0.8888888888888888,
                            "#fdca26"
                          ],
                          [
                            1,
                            "#f0f921"
                          ]
                        ],
                        "type": "heatmap"
                      }
                    ],
                    "histogram": [
                      {
                        "marker": {
                          "pattern": {
                            "fillmode": "overlay",
                            "size": 10,
                            "solidity": 0.2
                          }
                        },
                        "type": "histogram"
                      }
                    ],
                    "histogram2d": [
                      {
                        "colorbar": {
                          "outlinewidth": 0,
                          "ticks": ""
                        },
                        "colorscale": [
                          [
                            0,
                            "#0d0887"
                          ],
                          [
                            0.1111111111111111,
                            "#46039f"
                          ],
                          [
                            0.2222222222222222,
                            "#7201a8"
                          ],
                          [
                            0.3333333333333333,
                            "#9c179e"
                          ],
                          [
                            0.4444444444444444,
                            "#bd3786"
                          ],
                          [
                            0.5555555555555556,
                            "#d8576b"
                          ],
                          [
                            0.6666666666666666,
                            "#ed7953"
                          ],
                          [
                            0.7777777777777778,
                            "#fb9f3a"
                          ],
                          [
                            0.8888888888888888,
                            "#fdca26"
                          ],
                          [
                            1,
                            "#f0f921"
                          ]
                        ],
                        "type": "histogram2d"
                      }
                    ],
                    "histogram2dcontour": [
                      {
                        "colorbar": {
                          "outlinewidth": 0,
                          "ticks": ""
                        },
                        "colorscale": [
                          [
                            0,
                            "#0d0887"
                          ],
                          [
                            0.1111111111111111,
                            "#46039f"
                          ],
                          [
                            0.2222222222222222,
                            "#7201a8"
                          ],
                          [
                            0.3333333333333333,
                            "#9c179e"
                          ],
                          [
                            0.4444444444444444,
                            "#bd3786"
                          ],
                          [
                            0.5555555555555556,
                            "#d8576b"
                          ],
                          [
                            0.6666666666666666,
                            "#ed7953"
                          ],
                          [
                            0.7777777777777778,
                            "#fb9f3a"
                          ],
                          [
                            0.8888888888888888,
                            "#fdca26"
                          ],
                          [
                            1,
                            "#f0f921"
                          ]
                        ],
                        "type": "histogram2dcontour"
                      }
                    ],
                    "mesh3d": [
                      {
                        "colorbar": {
                          "outlinewidth": 0,
                          "ticks": ""
                        },
                        "type": "mesh3d"
                      }
                    ],
                    "parcoords": [
                      {
                        "line": {
                          "colorbar": {
                            "outlinewidth": 0,
                            "ticks": ""
                          }
                        },
                        "type": "parcoords"
                      }
                    ],
                    "pie": [
                      {
                        "automargin": true,
                        "type": "pie"
                      }
                    ],
                    "scatter": [
                      {
                        "fillpattern": {
                          "fillmode": "overlay",
                          "size": 10,
                          "solidity": 0.2
                        },
                        "type": "scatter"
                      }
                    ],
                    "scatter3d": [
                      {
                        "line": {
                          "colorbar": {
                            "outlinewidth": 0,
                            "ticks": ""
                          }
                        },
                        "marker": {
                          "colorbar": {
                            "outlinewidth": 0,
                            "ticks": ""
                          }
                        },
                        "type": "scatter3d"
                      }
                    ],
                    "scattercarpet": [
                      {
                        "marker": {
                          "colorbar": {
                            "outlinewidth": 0,
                            "ticks": ""
                          }
                        },
                        "type": "scattercarpet"
                      }
                    ],
                    "scattergeo": [
                      {
                        "marker": {
                          "colorbar": {
                            "outlinewidth": 0,
                            "ticks": ""
                          }
                        },
                        "type": "scattergeo"
                      }
                    ],
                    "scattergl": [
                      {
                        "marker": {
                          "colorbar": {
                            "outlinewidth": 0,
                            "ticks": ""
                          }
                        },
                        "type": "scattergl"
                      }
                    ],
                    "scattermap": [
                      {
                        "marker": {
                          "colorbar": {
                            "outlinewidth": 0,
                            "ticks": ""
                          }
                        },
                        "type": "scattermap"
                      }
                    ],
                    "scattermapbox": [
                      {
                        "marker": {
                          "colorbar": {
                            "outlinewidth": 0,
                            "ticks": ""
                          }
                        },
                        "type": "scattermapbox"
                      }
                    ],
                    "scatterpolar": [
                      {
                        "marker": {
                          "colorbar": {
                            "outlinewidth": 0,
                            "ticks": ""
                          }
                        },
                        "type": "scatterpolar"
                      }
                    ],
                    "scatterpolargl": [
                      {
                        "marker": {
                          "colorbar": {
                            "outlinewidth": 0,
                            "ticks": ""
                          }
                        },
                        "type": "scatterpolargl"
                      }
                    ],
                    "scatterternary": [
                      {
                        "marker": {
                          "colorbar": {
                            "outlinewidth": 0,
                            "ticks": ""
                          }
                        },
                        "type": "scatterternary"
                      }
                    ],
                    "surface": [
                      {
                        "colorbar": {
                          "outlinewidth": 0,
                          "ticks": ""
                        },
                        "colorscale": [
                          [
                            0,
                            "#0d0887"
                          ],
                          [
                            0.1111111111111111,
                            "#46039f"
                          ],
                          [
                            0.2222222222222222,
                            "#7201a8"
                          ],
                          [
                            0.3333333333333333,
                            "#9c179e"
                          ],
                          [
                            0.4444444444444444,
                            "#bd3786"
                          ],
                          [
                            0.5555555555555556,
                            "#d8576b"
                          ],
                          [
                            0.6666666666666666,
                            "#ed7953"
                          ],
                          [
                            0.7777777777777778,
                            "#fb9f3a"
                          ],
                          [
                            0.8888888888888888,
                            "#fdca26"
                          ],
                          [
                            1,
                            "#f0f921"
                          ]
                        ],
                        "type": "surface"
                      }
                    ],
                    "table": [
                      {
                        "cells": {
                          "fill": {
                            "color": "#EBF0F8"
                          },
                          "line": {
                            "color": "white"
                          }
                        },
                        "header": {
                          "fill": {
                            "color": "#C8D4E3"
                          },
                          "line": {
                            "color": "white"
                          }
                        },
                        "type": "table"
                      }
                    ]
                  },
                  "layout": {
                    "annotationdefaults": {
                      "arrowcolor": "#2a3f5f",
                      "arrowhead": 0,
                      "arrowwidth": 1
                    },
                    "autotypenumbers": "strict",
                    "coloraxis": {
                      "colorbar": {
                        "outlinewidth": 0,
                        "ticks": ""
                      }
                    },
                    "colorscale": {
                      "diverging": [
                        [
                          0,
                          "#8e0152"
                        ],
                        [
                          0.1,
                          "#c51b7d"
                        ],
                        [
                          0.2,
                          "#de77ae"
                        ],
                        [
                          0.3,
                          "#f1b6da"
                        ],
                        [
                          0.4,
                          "#fde0ef"
                        ],
                        [
                          0.5,
                          "#f7f7f7"
                        ],
                        [
                          0.6,
                          "#e6f5d0"
                        ],
                        [
                          0.7,
                          "#b8e186"
                        ],
                        [
                          0.8,
                          "#7fbc41"
                        ],
                        [
                          0.9,
                          "#4d9221"
                        ],
                        [
                          1,
                          "#276419"
                        ]
                      ],
                      "sequential": [
                        [
                          0,
                          "#0d0887"
                        ],
                        [
                          0.1111111111111111,
                          "#46039f"
                        ],
                        [
                          0.2222222222222222,
                          "#7201a8"
                        ],
                        [
                          0.3333333333333333,
                          "#9c179e"
                        ],
                        [
                          0.4444444444444444,
                          "#bd3786"
                        ],
                        [
                          0.5555555555555556,
                          "#d8576b"
                        ],
                        [
                          0.6666666666666666,
                          "#ed7953"
                        ],
                        [
                          0.7777777777777778,
                          "#fb9f3a"
                        ],
                        [
                          0.8888888888888888,
                          "#fdca26"
                        ],
                        [
                          1,
                          "#f0f921"
                        ]
                      ],
                      "sequentialminus": [
                        [
                          0,
                          "#0d0887"
                        ],
                        [
                          0.1111111111111111,
                          "#46039f"
                        ],
                        [
                          0.2222222222222222,
                          "#7201a8"
                        ],
                        [
                          0.3333333333333333,
                          "#9c179e"
                        ],
                        [
                          0.4444444444444444,
                          "#bd3786"
                        ],
                        [
                          0.5555555555555556,
                          "#d8576b"
                        ],
                        [
                          0.6666666666666666,
                          "#ed7953"
                        ],
                        [
                          0.7777777777777778,
                          "#fb9f3a"
                        ],
                        [
                          0.8888888888888888,
                          "#fdca26"
                        ],
                        [
                          1,
                          "#f0f921"
                        ]
                      ]
                    },
                    "colorway": [
                      "#636efa",
                      "#EF553B",
                      "#00cc96",
                      "#ab63fa",
                      "#FFA15A",
                      "#19d3f3",
                      "#FF6692",
                      "#B6E880",
                      "#FF97FF",
                      "#FECB52"
                    ],
                    "font": {
                      "color": "#2a3f5f"
                    },
                    "geo": {
                      "bgcolor": "white",
                      "lakecolor": "white",
                      "landcolor": "#E5ECF6",
                      "showlakes": true,
                      "showland": true,
                      "subunitcolor": "white"
                    },
                    "hoverlabel": {
                      "align": "left"
                    },
                    "hovermode": "closest",
                    "mapbox": {
                      "style": "light"
                    },
                    "paper_bgcolor": "white",
                    "plot_bgcolor": "#E5ECF6",
                    "polar": {
                      "angularaxis": {
                        "gridcolor": "white",
                        "linecolor": "white",
                        "ticks": ""
                      },
                      "bgcolor": "#E5ECF6",
                      "radialaxis": {
                        "gridcolor": "white",
                        "linecolor": "white",
                        "ticks": ""
                      }
                    },
                    "scene": {
                      "xaxis": {
                        "backgroundcolor": "#E5ECF6",
                        "gridcolor": "white",
                        "gridwidth": 2,
                        "linecolor": "white",
                        "showbackground": true,
                        "ticks": "",
                        "zerolinecolor": "white"
                      },
                      "yaxis": {
                        "backgroundcolor": "#E5ECF6",
                        "gridcolor": "white",
                        "gridwidth": 2,
                        "linecolor": "white",
                        "showbackground": true,
                        "ticks": "",
                        "zerolinecolor": "white"
                      },
                      "zaxis": {
                        "backgroundcolor": "#E5ECF6",
                        "gridcolor": "white",
                        "gridwidth": 2,
                        "linecolor": "white",
                        "showbackground": true,
                        "ticks": "",
                        "zerolinecolor": "white"
                      }
                    },
                    "shapedefaults": {
                      "line": {
                        "color": "#2a3f5f"
                      }
                    },
                    "ternary": {
                      "aaxis": {
                        "gridcolor": "white",
                        "linecolor": "white",
                        "ticks": ""
                      },
                      "baxis": {
                        "gridcolor": "white",
                        "linecolor": "white",
                        "ticks": ""
                      },
                      "bgcolor": "#E5ECF6",
                      "caxis": {
                        "gridcolor": "white",
                        "linecolor": "white",
                        "ticks": ""
                      }
                    },
                    "title": {
                      "x": 0.05
                    },
                    "xaxis": {
                      "automargin": true,
                      "gridcolor": "white",
                      "linecolor": "white",
                      "ticks": "",
                      "title": {
                        "standoff": 15
                      },
                      "zerolinecolor": "white",
                      "zerolinewidth": 2
                    },
                    "yaxis": {
                      "automargin": true,
                      "gridcolor": "white",
                      "linecolor": "white",
                      "ticks": "",
                      "title": {
                        "standoff": 15
                      },
                      "zerolinecolor": "white",
                      "zerolinewidth": 2
                    }
                  }
                },
                "title": {
                  "text": "상위 5개 주(State)별 총 매출액"
                },
                "xaxis": {
                  "anchor": "y",
                  "categoryarray": [
                    "California",
                    "New York",
                    "Texas",
                    "Washington",
                    "Pennsylvania"
                  ],
                  "categoryorder": "array",
                  "domain": [
                    0,
                    1
                  ],
                  "title": {
                    "text": "주"
                  }
                },
                "yaxis": {
                  "anchor": "x",
                  "domain": [
                    0,
                    1
                  ],
                  "title": {
                    "text": "총 매출액($)"
                  }
                }
              }
            }
          },
          "metadata": {},
          "output_type": "display_data"
        }
      ],
      "source": [
        "# 바 차트로 시각화\n",
        "fig = px.bar(top5_states, \n",
        "             x='State', \n",
        "             y='Sales',\n",
        "             title='상위 5개 주(State)별 총 매출액',\n",
        "             labels={'State': '주', 'Sales': '총 매출액($)'},\n",
        "             color='State',\n",
        "             text_auto='.2s')\n",
        "fig.update_layout(showlegend=False)\n",
        "fig.show()\n"
      ]
    },
    {
      "cell_type": "markdown",
      "metadata": {},
      "source": [
        "Q5. 할인율 컬럼의 평균, 표준편차, 최소값, 최대값을 구하고, 할인율이 0이 아닌 주문의 비율을 구하세요."
      ]
    },
    {
      "cell_type": "code",
      "execution_count": 71,
      "metadata": {},
      "outputs": [
        {
          "data": {
            "text/plain": [
              "count    9994.000000\n",
              "mean        0.156203\n",
              "std         0.206452\n",
              "min         0.000000\n",
              "25%         0.000000\n",
              "50%         0.200000\n",
              "75%         0.200000\n",
              "max         0.800000\n",
              "Name: Discount, dtype: float64"
            ]
          },
          "execution_count": 71,
          "metadata": {},
          "output_type": "execute_result"
        }
      ],
      "source": [
        "df['Discount'].describe()"
      ]
    },
    {
      "cell_type": "code",
      "execution_count": 69,
      "metadata": {},
      "outputs": [
        {
          "data": {
            "text/html": [
              "<div>\n",
              "<style scoped>\n",
              "    .dataframe tbody tr th:only-of-type {\n",
              "        vertical-align: middle;\n",
              "    }\n",
              "\n",
              "    .dataframe tbody tr th {\n",
              "        vertical-align: top;\n",
              "    }\n",
              "\n",
              "    .dataframe thead th {\n",
              "        text-align: right;\n",
              "    }\n",
              "</style>\n",
              "<table border=\"1\" class=\"dataframe\">\n",
              "  <thead>\n",
              "    <tr style=\"text-align: right;\">\n",
              "      <th></th>\n",
              "      <th>mean</th>\n",
              "      <th>std</th>\n",
              "      <th>min</th>\n",
              "      <th>max</th>\n",
              "    </tr>\n",
              "    <tr>\n",
              "      <th>Sub-Category</th>\n",
              "      <th></th>\n",
              "      <th></th>\n",
              "      <th></th>\n",
              "      <th></th>\n",
              "    </tr>\n",
              "  </thead>\n",
              "  <tbody>\n",
              "    <tr>\n",
              "      <th>Accessories</th>\n",
              "      <td>0.078452</td>\n",
              "      <td>0.097714</td>\n",
              "      <td>0.0</td>\n",
              "      <td>0.2</td>\n",
              "    </tr>\n",
              "    <tr>\n",
              "      <th>Appliances</th>\n",
              "      <td>0.166524</td>\n",
              "      <td>0.272771</td>\n",
              "      <td>0.0</td>\n",
              "      <td>0.8</td>\n",
              "    </tr>\n",
              "    <tr>\n",
              "      <th>Art</th>\n",
              "      <td>0.074874</td>\n",
              "      <td>0.096853</td>\n",
              "      <td>0.0</td>\n",
              "      <td>0.2</td>\n",
              "    </tr>\n",
              "    <tr>\n",
              "      <th>Binders</th>\n",
              "      <td>0.372292</td>\n",
              "      <td>0.310938</td>\n",
              "      <td>0.0</td>\n",
              "      <td>0.8</td>\n",
              "    </tr>\n",
              "    <tr>\n",
              "      <th>Bookcases</th>\n",
              "      <td>0.211140</td>\n",
              "      <td>0.191913</td>\n",
              "      <td>0.0</td>\n",
              "      <td>0.7</td>\n",
              "    </tr>\n",
              "    <tr>\n",
              "      <th>Chairs</th>\n",
              "      <td>0.170178</td>\n",
              "      <td>0.107444</td>\n",
              "      <td>0.0</td>\n",
              "      <td>0.3</td>\n",
              "    </tr>\n",
              "    <tr>\n",
              "      <th>Copiers</th>\n",
              "      <td>0.161765</td>\n",
              "      <td>0.130475</td>\n",
              "      <td>0.0</td>\n",
              "      <td>0.4</td>\n",
              "    </tr>\n",
              "    <tr>\n",
              "      <th>Envelopes</th>\n",
              "      <td>0.080315</td>\n",
              "      <td>0.098237</td>\n",
              "      <td>0.0</td>\n",
              "      <td>0.2</td>\n",
              "    </tr>\n",
              "    <tr>\n",
              "      <th>Fasteners</th>\n",
              "      <td>0.082028</td>\n",
              "      <td>0.098599</td>\n",
              "      <td>0.0</td>\n",
              "      <td>0.2</td>\n",
              "    </tr>\n",
              "    <tr>\n",
              "      <th>Furnishings</th>\n",
              "      <td>0.138349</td>\n",
              "      <td>0.207804</td>\n",
              "      <td>0.0</td>\n",
              "      <td>0.6</td>\n",
              "    </tr>\n",
              "    <tr>\n",
              "      <th>Labels</th>\n",
              "      <td>0.068681</td>\n",
              "      <td>0.095100</td>\n",
              "      <td>0.0</td>\n",
              "      <td>0.2</td>\n",
              "    </tr>\n",
              "    <tr>\n",
              "      <th>Machines</th>\n",
              "      <td>0.306087</td>\n",
              "      <td>0.252804</td>\n",
              "      <td>0.0</td>\n",
              "      <td>0.7</td>\n",
              "    </tr>\n",
              "    <tr>\n",
              "      <th>Paper</th>\n",
              "      <td>0.074891</td>\n",
              "      <td>0.096832</td>\n",
              "      <td>0.0</td>\n",
              "      <td>0.2</td>\n",
              "    </tr>\n",
              "    <tr>\n",
              "      <th>Phones</th>\n",
              "      <td>0.154556</td>\n",
              "      <td>0.129813</td>\n",
              "      <td>0.0</td>\n",
              "      <td>0.4</td>\n",
              "    </tr>\n",
              "    <tr>\n",
              "      <th>Storage</th>\n",
              "      <td>0.074704</td>\n",
              "      <td>0.096805</td>\n",
              "      <td>0.0</td>\n",
              "      <td>0.2</td>\n",
              "    </tr>\n",
              "    <tr>\n",
              "      <th>Supplies</th>\n",
              "      <td>0.076842</td>\n",
              "      <td>0.097539</td>\n",
              "      <td>0.0</td>\n",
              "      <td>0.2</td>\n",
              "    </tr>\n",
              "    <tr>\n",
              "      <th>Tables</th>\n",
              "      <td>0.261285</td>\n",
              "      <td>0.169622</td>\n",
              "      <td>0.0</td>\n",
              "      <td>0.5</td>\n",
              "    </tr>\n",
              "  </tbody>\n",
              "</table>\n",
              "</div>"
            ],
            "text/plain": [
              "                  mean       std  min  max\n",
              "Sub-Category                              \n",
              "Accessories   0.078452  0.097714  0.0  0.2\n",
              "Appliances    0.166524  0.272771  0.0  0.8\n",
              "Art           0.074874  0.096853  0.0  0.2\n",
              "Binders       0.372292  0.310938  0.0  0.8\n",
              "Bookcases     0.211140  0.191913  0.0  0.7\n",
              "Chairs        0.170178  0.107444  0.0  0.3\n",
              "Copiers       0.161765  0.130475  0.0  0.4\n",
              "Envelopes     0.080315  0.098237  0.0  0.2\n",
              "Fasteners     0.082028  0.098599  0.0  0.2\n",
              "Furnishings   0.138349  0.207804  0.0  0.6\n",
              "Labels        0.068681  0.095100  0.0  0.2\n",
              "Machines      0.306087  0.252804  0.0  0.7\n",
              "Paper         0.074891  0.096832  0.0  0.2\n",
              "Phones        0.154556  0.129813  0.0  0.4\n",
              "Storage       0.074704  0.096805  0.0  0.2\n",
              "Supplies      0.076842  0.097539  0.0  0.2\n",
              "Tables        0.261285  0.169622  0.0  0.5"
            ]
          },
          "execution_count": 69,
          "metadata": {},
          "output_type": "execute_result"
        }
      ],
      "source": [
        "# 할인율 통계 계산\n",
        "discount_stats = df.groupby('Sub-Category')['Discount'].agg(['mean', 'std', 'min', 'max'])\n",
        "discount_stats"
      ]
    },
    {
      "cell_type": "code",
      "execution_count": 46,
      "metadata": {},
      "outputs": [
        {
          "name": "stdout",
          "output_type": "stream",
          "text": [
            "할인율이 0이 아닌 주문 비율: 51.99%\n"
          ]
        }
      ],
      "source": [
        "# 할인율이 0이 아닌 주문 비율 계산\n",
        "non_zero_discount_ratio = (df['Discount'] > 0).mean() * 100\n",
        "print(f\"할인율이 0이 아닌 주문 비율: {non_zero_discount_ratio:.2f}%\")"
      ]
    },
    {
      "cell_type": "markdown",
      "metadata": {},
      "source": [
        "Q6. Segment(고객 세그먼트)별로 평균 이익을 비교하고, 어떤 세그먼트가 가장 높은 이익을 내는지 찾으세요."
      ]
    },
    {
      "cell_type": "code",
      "execution_count": 81,
      "metadata": {},
      "outputs": [
        {
          "data": {
            "text/html": [
              "<div>\n",
              "<style scoped>\n",
              "    .dataframe tbody tr th:only-of-type {\n",
              "        vertical-align: middle;\n",
              "    }\n",
              "\n",
              "    .dataframe tbody tr th {\n",
              "        vertical-align: top;\n",
              "    }\n",
              "\n",
              "    .dataframe thead th {\n",
              "        text-align: right;\n",
              "    }\n",
              "</style>\n",
              "<table border=\"1\" class=\"dataframe\">\n",
              "  <thead>\n",
              "    <tr style=\"text-align: right;\">\n",
              "      <th></th>\n",
              "      <th>Segment</th>\n",
              "      <th>Profit</th>\n",
              "    </tr>\n",
              "  </thead>\n",
              "  <tbody>\n",
              "    <tr>\n",
              "      <th>2</th>\n",
              "      <td>Home Office</td>\n",
              "      <td>33.818664</td>\n",
              "    </tr>\n",
              "    <tr>\n",
              "      <th>1</th>\n",
              "      <td>Corporate</td>\n",
              "      <td>30.456667</td>\n",
              "    </tr>\n",
              "    <tr>\n",
              "      <th>0</th>\n",
              "      <td>Consumer</td>\n",
              "      <td>25.836873</td>\n",
              "    </tr>\n",
              "  </tbody>\n",
              "</table>\n",
              "</div>"
            ],
            "text/plain": [
              "       Segment     Profit\n",
              "2  Home Office  33.818664\n",
              "1    Corporate  30.456667\n",
              "0     Consumer  25.836873"
            ]
          },
          "execution_count": 81,
          "metadata": {},
          "output_type": "execute_result"
        }
      ],
      "source": [
        "df.groupby('Segment')['Profit'] \\\n",
        "    .agg(lambda x: np.mean(x)) \\\n",
        "    .reset_index() \\\n",
        "    .sort_values('Profit', ascending=False)"
      ]
    },
    {
      "cell_type": "code",
      "execution_count": 47,
      "metadata": {},
      "outputs": [
        {
          "data": {
            "text/html": [
              "<div>\n",
              "<style scoped>\n",
              "    .dataframe tbody tr th:only-of-type {\n",
              "        vertical-align: middle;\n",
              "    }\n",
              "\n",
              "    .dataframe tbody tr th {\n",
              "        vertical-align: top;\n",
              "    }\n",
              "\n",
              "    .dataframe thead th {\n",
              "        text-align: right;\n",
              "    }\n",
              "</style>\n",
              "<table border=\"1\" class=\"dataframe\">\n",
              "  <thead>\n",
              "    <tr style=\"text-align: right;\">\n",
              "      <th></th>\n",
              "      <th>Segment</th>\n",
              "      <th>Profit</th>\n",
              "    </tr>\n",
              "  </thead>\n",
              "  <tbody>\n",
              "    <tr>\n",
              "      <th>2</th>\n",
              "      <td>Home Office</td>\n",
              "      <td>33.818664</td>\n",
              "    </tr>\n",
              "    <tr>\n",
              "      <th>1</th>\n",
              "      <td>Corporate</td>\n",
              "      <td>30.456667</td>\n",
              "    </tr>\n",
              "    <tr>\n",
              "      <th>0</th>\n",
              "      <td>Consumer</td>\n",
              "      <td>25.836873</td>\n",
              "    </tr>\n",
              "  </tbody>\n",
              "</table>\n",
              "</div>"
            ],
            "text/plain": [
              "       Segment     Profit\n",
              "2  Home Office  33.818664\n",
              "1    Corporate  30.456667\n",
              "0     Consumer  25.836873"
            ]
          },
          "execution_count": 47,
          "metadata": {},
          "output_type": "execute_result"
        }
      ],
      "source": [
        "# 고객 세그먼트별 평균 이익 계산\n",
        "segment_profit = df.groupby('Segment')['Profit'].mean().reset_index()\n",
        "\n",
        "# 평균 이익을 기준으로 내림차순 정렬\n",
        "segment_profit = segment_profit.sort_values('Profit', ascending=False)\n",
        "segment_profit\n"
      ]
    },
    {
      "cell_type": "code",
      "execution_count": 82,
      "metadata": {},
      "outputs": [
        {
          "name": "stdout",
          "output_type": "stream",
          "text": [
            "가장 높은 이익을 내는 세그먼트: Consumer (평균 이익: 25.84)\n"
          ]
        }
      ],
      "source": [
        "# 가장 높은 이익을 내는 세그먼트 찾기\n",
        "top_segment = segment_profit.iloc[0]\n",
        "print(f\"가장 높은 이익을 내는 세그먼트: {top_segment['Segment']} (평균 이익: {top_segment['Profit']:.2f})\")"
      ]
    },
    {
      "cell_type": "code",
      "execution_count": 83,
      "metadata": {},
      "outputs": [
        {
          "data": {
            "application/vnd.plotly.v1+json": {
              "config": {
                "plotlyServerURL": "https://plot.ly"
              },
              "data": [
                {
                  "hovertemplate": "고객 세그먼트=%{x}<br>평균 이익($)=%{y}<extra></extra>",
                  "legendgroup": "Consumer",
                  "marker": {
                    "color": "#636efa",
                    "pattern": {
                      "shape": ""
                    }
                  },
                  "name": "Consumer",
                  "orientation": "v",
                  "showlegend": true,
                  "textposition": "auto",
                  "texttemplate": "%{y:.2f}",
                  "type": "bar",
                  "x": [
                    "Consumer"
                  ],
                  "xaxis": "x",
                  "y": {
                    "bdata": "nmjLUz3WOUA=",
                    "dtype": "f8"
                  },
                  "yaxis": "y"
                },
                {
                  "hovertemplate": "고객 세그먼트=%{x}<br>평균 이익($)=%{y}<extra></extra>",
                  "legendgroup": "Corporate",
                  "marker": {
                    "color": "#EF553B",
                    "pattern": {
                      "shape": ""
                    }
                  },
                  "name": "Corporate",
                  "orientation": "v",
                  "showlegend": true,
                  "textposition": "auto",
                  "texttemplate": "%{y:.2f}",
                  "type": "bar",
                  "x": [
                    "Corporate"
                  ],
                  "xaxis": "x",
                  "y": {
                    "bdata": "gZ8CH+h0PkA=",
                    "dtype": "f8"
                  },
                  "yaxis": "y"
                },
                {
                  "hovertemplate": "고객 세그먼트=%{x}<br>평균 이익($)=%{y}<extra></extra>",
                  "legendgroup": "Home Office",
                  "marker": {
                    "color": "#00cc96",
                    "pattern": {
                      "shape": ""
                    }
                  },
                  "name": "Home Office",
                  "orientation": "v",
                  "showlegend": true,
                  "textposition": "auto",
                  "texttemplate": "%{y:.2f}",
                  "type": "bar",
                  "x": [
                    "Home Office"
                  ],
                  "xaxis": "x",
                  "y": {
                    "bdata": "+Wcl/snoQEA=",
                    "dtype": "f8"
                  },
                  "yaxis": "y"
                }
              ],
              "layout": {
                "barmode": "relative",
                "legend": {
                  "title": {
                    "text": "고객 세그먼트"
                  },
                  "tracegroupgap": 0
                },
                "showlegend": false,
                "template": {
                  "data": {
                    "bar": [
                      {
                        "error_x": {
                          "color": "#2a3f5f"
                        },
                        "error_y": {
                          "color": "#2a3f5f"
                        },
                        "marker": {
                          "line": {
                            "color": "#E5ECF6",
                            "width": 0.5
                          },
                          "pattern": {
                            "fillmode": "overlay",
                            "size": 10,
                            "solidity": 0.2
                          }
                        },
                        "type": "bar"
                      }
                    ],
                    "barpolar": [
                      {
                        "marker": {
                          "line": {
                            "color": "#E5ECF6",
                            "width": 0.5
                          },
                          "pattern": {
                            "fillmode": "overlay",
                            "size": 10,
                            "solidity": 0.2
                          }
                        },
                        "type": "barpolar"
                      }
                    ],
                    "carpet": [
                      {
                        "aaxis": {
                          "endlinecolor": "#2a3f5f",
                          "gridcolor": "white",
                          "linecolor": "white",
                          "minorgridcolor": "white",
                          "startlinecolor": "#2a3f5f"
                        },
                        "baxis": {
                          "endlinecolor": "#2a3f5f",
                          "gridcolor": "white",
                          "linecolor": "white",
                          "minorgridcolor": "white",
                          "startlinecolor": "#2a3f5f"
                        },
                        "type": "carpet"
                      }
                    ],
                    "choropleth": [
                      {
                        "colorbar": {
                          "outlinewidth": 0,
                          "ticks": ""
                        },
                        "type": "choropleth"
                      }
                    ],
                    "contour": [
                      {
                        "colorbar": {
                          "outlinewidth": 0,
                          "ticks": ""
                        },
                        "colorscale": [
                          [
                            0,
                            "#0d0887"
                          ],
                          [
                            0.1111111111111111,
                            "#46039f"
                          ],
                          [
                            0.2222222222222222,
                            "#7201a8"
                          ],
                          [
                            0.3333333333333333,
                            "#9c179e"
                          ],
                          [
                            0.4444444444444444,
                            "#bd3786"
                          ],
                          [
                            0.5555555555555556,
                            "#d8576b"
                          ],
                          [
                            0.6666666666666666,
                            "#ed7953"
                          ],
                          [
                            0.7777777777777778,
                            "#fb9f3a"
                          ],
                          [
                            0.8888888888888888,
                            "#fdca26"
                          ],
                          [
                            1,
                            "#f0f921"
                          ]
                        ],
                        "type": "contour"
                      }
                    ],
                    "contourcarpet": [
                      {
                        "colorbar": {
                          "outlinewidth": 0,
                          "ticks": ""
                        },
                        "type": "contourcarpet"
                      }
                    ],
                    "heatmap": [
                      {
                        "colorbar": {
                          "outlinewidth": 0,
                          "ticks": ""
                        },
                        "colorscale": [
                          [
                            0,
                            "#0d0887"
                          ],
                          [
                            0.1111111111111111,
                            "#46039f"
                          ],
                          [
                            0.2222222222222222,
                            "#7201a8"
                          ],
                          [
                            0.3333333333333333,
                            "#9c179e"
                          ],
                          [
                            0.4444444444444444,
                            "#bd3786"
                          ],
                          [
                            0.5555555555555556,
                            "#d8576b"
                          ],
                          [
                            0.6666666666666666,
                            "#ed7953"
                          ],
                          [
                            0.7777777777777778,
                            "#fb9f3a"
                          ],
                          [
                            0.8888888888888888,
                            "#fdca26"
                          ],
                          [
                            1,
                            "#f0f921"
                          ]
                        ],
                        "type": "heatmap"
                      }
                    ],
                    "histogram": [
                      {
                        "marker": {
                          "pattern": {
                            "fillmode": "overlay",
                            "size": 10,
                            "solidity": 0.2
                          }
                        },
                        "type": "histogram"
                      }
                    ],
                    "histogram2d": [
                      {
                        "colorbar": {
                          "outlinewidth": 0,
                          "ticks": ""
                        },
                        "colorscale": [
                          [
                            0,
                            "#0d0887"
                          ],
                          [
                            0.1111111111111111,
                            "#46039f"
                          ],
                          [
                            0.2222222222222222,
                            "#7201a8"
                          ],
                          [
                            0.3333333333333333,
                            "#9c179e"
                          ],
                          [
                            0.4444444444444444,
                            "#bd3786"
                          ],
                          [
                            0.5555555555555556,
                            "#d8576b"
                          ],
                          [
                            0.6666666666666666,
                            "#ed7953"
                          ],
                          [
                            0.7777777777777778,
                            "#fb9f3a"
                          ],
                          [
                            0.8888888888888888,
                            "#fdca26"
                          ],
                          [
                            1,
                            "#f0f921"
                          ]
                        ],
                        "type": "histogram2d"
                      }
                    ],
                    "histogram2dcontour": [
                      {
                        "colorbar": {
                          "outlinewidth": 0,
                          "ticks": ""
                        },
                        "colorscale": [
                          [
                            0,
                            "#0d0887"
                          ],
                          [
                            0.1111111111111111,
                            "#46039f"
                          ],
                          [
                            0.2222222222222222,
                            "#7201a8"
                          ],
                          [
                            0.3333333333333333,
                            "#9c179e"
                          ],
                          [
                            0.4444444444444444,
                            "#bd3786"
                          ],
                          [
                            0.5555555555555556,
                            "#d8576b"
                          ],
                          [
                            0.6666666666666666,
                            "#ed7953"
                          ],
                          [
                            0.7777777777777778,
                            "#fb9f3a"
                          ],
                          [
                            0.8888888888888888,
                            "#fdca26"
                          ],
                          [
                            1,
                            "#f0f921"
                          ]
                        ],
                        "type": "histogram2dcontour"
                      }
                    ],
                    "mesh3d": [
                      {
                        "colorbar": {
                          "outlinewidth": 0,
                          "ticks": ""
                        },
                        "type": "mesh3d"
                      }
                    ],
                    "parcoords": [
                      {
                        "line": {
                          "colorbar": {
                            "outlinewidth": 0,
                            "ticks": ""
                          }
                        },
                        "type": "parcoords"
                      }
                    ],
                    "pie": [
                      {
                        "automargin": true,
                        "type": "pie"
                      }
                    ],
                    "scatter": [
                      {
                        "fillpattern": {
                          "fillmode": "overlay",
                          "size": 10,
                          "solidity": 0.2
                        },
                        "type": "scatter"
                      }
                    ],
                    "scatter3d": [
                      {
                        "line": {
                          "colorbar": {
                            "outlinewidth": 0,
                            "ticks": ""
                          }
                        },
                        "marker": {
                          "colorbar": {
                            "outlinewidth": 0,
                            "ticks": ""
                          }
                        },
                        "type": "scatter3d"
                      }
                    ],
                    "scattercarpet": [
                      {
                        "marker": {
                          "colorbar": {
                            "outlinewidth": 0,
                            "ticks": ""
                          }
                        },
                        "type": "scattercarpet"
                      }
                    ],
                    "scattergeo": [
                      {
                        "marker": {
                          "colorbar": {
                            "outlinewidth": 0,
                            "ticks": ""
                          }
                        },
                        "type": "scattergeo"
                      }
                    ],
                    "scattergl": [
                      {
                        "marker": {
                          "colorbar": {
                            "outlinewidth": 0,
                            "ticks": ""
                          }
                        },
                        "type": "scattergl"
                      }
                    ],
                    "scattermap": [
                      {
                        "marker": {
                          "colorbar": {
                            "outlinewidth": 0,
                            "ticks": ""
                          }
                        },
                        "type": "scattermap"
                      }
                    ],
                    "scattermapbox": [
                      {
                        "marker": {
                          "colorbar": {
                            "outlinewidth": 0,
                            "ticks": ""
                          }
                        },
                        "type": "scattermapbox"
                      }
                    ],
                    "scatterpolar": [
                      {
                        "marker": {
                          "colorbar": {
                            "outlinewidth": 0,
                            "ticks": ""
                          }
                        },
                        "type": "scatterpolar"
                      }
                    ],
                    "scatterpolargl": [
                      {
                        "marker": {
                          "colorbar": {
                            "outlinewidth": 0,
                            "ticks": ""
                          }
                        },
                        "type": "scatterpolargl"
                      }
                    ],
                    "scatterternary": [
                      {
                        "marker": {
                          "colorbar": {
                            "outlinewidth": 0,
                            "ticks": ""
                          }
                        },
                        "type": "scatterternary"
                      }
                    ],
                    "surface": [
                      {
                        "colorbar": {
                          "outlinewidth": 0,
                          "ticks": ""
                        },
                        "colorscale": [
                          [
                            0,
                            "#0d0887"
                          ],
                          [
                            0.1111111111111111,
                            "#46039f"
                          ],
                          [
                            0.2222222222222222,
                            "#7201a8"
                          ],
                          [
                            0.3333333333333333,
                            "#9c179e"
                          ],
                          [
                            0.4444444444444444,
                            "#bd3786"
                          ],
                          [
                            0.5555555555555556,
                            "#d8576b"
                          ],
                          [
                            0.6666666666666666,
                            "#ed7953"
                          ],
                          [
                            0.7777777777777778,
                            "#fb9f3a"
                          ],
                          [
                            0.8888888888888888,
                            "#fdca26"
                          ],
                          [
                            1,
                            "#f0f921"
                          ]
                        ],
                        "type": "surface"
                      }
                    ],
                    "table": [
                      {
                        "cells": {
                          "fill": {
                            "color": "#EBF0F8"
                          },
                          "line": {
                            "color": "white"
                          }
                        },
                        "header": {
                          "fill": {
                            "color": "#C8D4E3"
                          },
                          "line": {
                            "color": "white"
                          }
                        },
                        "type": "table"
                      }
                    ]
                  },
                  "layout": {
                    "annotationdefaults": {
                      "arrowcolor": "#2a3f5f",
                      "arrowhead": 0,
                      "arrowwidth": 1
                    },
                    "autotypenumbers": "strict",
                    "coloraxis": {
                      "colorbar": {
                        "outlinewidth": 0,
                        "ticks": ""
                      }
                    },
                    "colorscale": {
                      "diverging": [
                        [
                          0,
                          "#8e0152"
                        ],
                        [
                          0.1,
                          "#c51b7d"
                        ],
                        [
                          0.2,
                          "#de77ae"
                        ],
                        [
                          0.3,
                          "#f1b6da"
                        ],
                        [
                          0.4,
                          "#fde0ef"
                        ],
                        [
                          0.5,
                          "#f7f7f7"
                        ],
                        [
                          0.6,
                          "#e6f5d0"
                        ],
                        [
                          0.7,
                          "#b8e186"
                        ],
                        [
                          0.8,
                          "#7fbc41"
                        ],
                        [
                          0.9,
                          "#4d9221"
                        ],
                        [
                          1,
                          "#276419"
                        ]
                      ],
                      "sequential": [
                        [
                          0,
                          "#0d0887"
                        ],
                        [
                          0.1111111111111111,
                          "#46039f"
                        ],
                        [
                          0.2222222222222222,
                          "#7201a8"
                        ],
                        [
                          0.3333333333333333,
                          "#9c179e"
                        ],
                        [
                          0.4444444444444444,
                          "#bd3786"
                        ],
                        [
                          0.5555555555555556,
                          "#d8576b"
                        ],
                        [
                          0.6666666666666666,
                          "#ed7953"
                        ],
                        [
                          0.7777777777777778,
                          "#fb9f3a"
                        ],
                        [
                          0.8888888888888888,
                          "#fdca26"
                        ],
                        [
                          1,
                          "#f0f921"
                        ]
                      ],
                      "sequentialminus": [
                        [
                          0,
                          "#0d0887"
                        ],
                        [
                          0.1111111111111111,
                          "#46039f"
                        ],
                        [
                          0.2222222222222222,
                          "#7201a8"
                        ],
                        [
                          0.3333333333333333,
                          "#9c179e"
                        ],
                        [
                          0.4444444444444444,
                          "#bd3786"
                        ],
                        [
                          0.5555555555555556,
                          "#d8576b"
                        ],
                        [
                          0.6666666666666666,
                          "#ed7953"
                        ],
                        [
                          0.7777777777777778,
                          "#fb9f3a"
                        ],
                        [
                          0.8888888888888888,
                          "#fdca26"
                        ],
                        [
                          1,
                          "#f0f921"
                        ]
                      ]
                    },
                    "colorway": [
                      "#636efa",
                      "#EF553B",
                      "#00cc96",
                      "#ab63fa",
                      "#FFA15A",
                      "#19d3f3",
                      "#FF6692",
                      "#B6E880",
                      "#FF97FF",
                      "#FECB52"
                    ],
                    "font": {
                      "color": "#2a3f5f"
                    },
                    "geo": {
                      "bgcolor": "white",
                      "lakecolor": "white",
                      "landcolor": "#E5ECF6",
                      "showlakes": true,
                      "showland": true,
                      "subunitcolor": "white"
                    },
                    "hoverlabel": {
                      "align": "left"
                    },
                    "hovermode": "closest",
                    "mapbox": {
                      "style": "light"
                    },
                    "paper_bgcolor": "white",
                    "plot_bgcolor": "#E5ECF6",
                    "polar": {
                      "angularaxis": {
                        "gridcolor": "white",
                        "linecolor": "white",
                        "ticks": ""
                      },
                      "bgcolor": "#E5ECF6",
                      "radialaxis": {
                        "gridcolor": "white",
                        "linecolor": "white",
                        "ticks": ""
                      }
                    },
                    "scene": {
                      "xaxis": {
                        "backgroundcolor": "#E5ECF6",
                        "gridcolor": "white",
                        "gridwidth": 2,
                        "linecolor": "white",
                        "showbackground": true,
                        "ticks": "",
                        "zerolinecolor": "white"
                      },
                      "yaxis": {
                        "backgroundcolor": "#E5ECF6",
                        "gridcolor": "white",
                        "gridwidth": 2,
                        "linecolor": "white",
                        "showbackground": true,
                        "ticks": "",
                        "zerolinecolor": "white"
                      },
                      "zaxis": {
                        "backgroundcolor": "#E5ECF6",
                        "gridcolor": "white",
                        "gridwidth": 2,
                        "linecolor": "white",
                        "showbackground": true,
                        "ticks": "",
                        "zerolinecolor": "white"
                      }
                    },
                    "shapedefaults": {
                      "line": {
                        "color": "#2a3f5f"
                      }
                    },
                    "ternary": {
                      "aaxis": {
                        "gridcolor": "white",
                        "linecolor": "white",
                        "ticks": ""
                      },
                      "baxis": {
                        "gridcolor": "white",
                        "linecolor": "white",
                        "ticks": ""
                      },
                      "bgcolor": "#E5ECF6",
                      "caxis": {
                        "gridcolor": "white",
                        "linecolor": "white",
                        "ticks": ""
                      }
                    },
                    "title": {
                      "x": 0.05
                    },
                    "xaxis": {
                      "automargin": true,
                      "gridcolor": "white",
                      "linecolor": "white",
                      "ticks": "",
                      "title": {
                        "standoff": 15
                      },
                      "zerolinecolor": "white",
                      "zerolinewidth": 2
                    },
                    "yaxis": {
                      "automargin": true,
                      "gridcolor": "white",
                      "linecolor": "white",
                      "ticks": "",
                      "title": {
                        "standoff": 15
                      },
                      "zerolinecolor": "white",
                      "zerolinewidth": 2
                    }
                  }
                },
                "title": {
                  "text": "고객 세그먼트별 평균 이익"
                },
                "xaxis": {
                  "anchor": "y",
                  "categoryarray": [
                    "Consumer",
                    "Corporate",
                    "Home Office"
                  ],
                  "categoryorder": "array",
                  "domain": [
                    0,
                    1
                  ],
                  "title": {
                    "text": "고객 세그먼트"
                  }
                },
                "yaxis": {
                  "anchor": "x",
                  "domain": [
                    0,
                    1
                  ],
                  "title": {
                    "text": "평균 이익($)"
                  }
                }
              }
            }
          },
          "metadata": {},
          "output_type": "display_data"
        }
      ],
      "source": [
        "# 시각화\n",
        "fig = px.bar(segment_profit,\n",
        "             x='Segment',\n",
        "             y='Profit',\n",
        "             title='고객 세그먼트별 평균 이익',\n",
        "             labels={'Segment': '고객 세그먼트', 'Profit': '평균 이익($)'},\n",
        "             color='Segment',\n",
        "             text_auto='.2f')\n",
        "fig.update_layout(showlegend=False)\n",
        "fig.show()"
      ]
    },
    {
      "cell_type": "markdown",
      "metadata": {},
      "source": [
        "Q7. 매출액와 이익 간의 상관계수를 구하고, 두 변수의 관계를 해석하세요."
      ]
    },
    {
      "cell_type": "code",
      "execution_count": 84,
      "metadata": {},
      "outputs": [
        {
          "name": "stdout",
          "output_type": "stream",
          "text": [
            "매출액과 이익 간의 상관계수: 0.479\n"
          ]
        }
      ],
      "source": [
        "# 매출액(Sales)과 이익(Profit) 간의 상관계수 계산\n",
        "correlation = df['Sales'].corr(df['Profit'])\n",
        "    \n",
        "# 결과 출력\n",
        "print(f\"매출액과 이익 간의 상관계수: {correlation:.3f}\")"
      ]
    },
    {
      "cell_type": "code",
      "execution_count": 85,
      "metadata": {},
      "outputs": [
        {
          "name": "stdout",
          "output_type": "stream",
          "text": [
            "매출액과 이익은 중간 정도의 양의 상관관계가 있습니다.\n"
          ]
        }
      ],
      "source": [
        "# 상관관계 해석\n",
        "if correlation > 0.7:\n",
        "    print(\"매출액과 이익은 강한 양의 상관관계가 있습니다.\")\n",
        "elif correlation > 0.3:\n",
        "    print(\"매출액과 이익은 중간 정도의 양의 상관관계가 있습니다.\")\n",
        "elif correlation > -0.3:\n",
        "    print(\"매출액과 이익은 거의 상관관계가 없습니다.\")\n",
        "elif correlation > -0.7:\n",
        "    print(\"매출액과 이익은 중간 정도의 음의 상관관계가 있습니다.\")\n",
        "else:\n",
        "    print(\"매출액과 이익은 강한 음의 상관관계가 있습니다.\")"
      ]
    },
    {
      "cell_type": "markdown",
      "metadata": {},
      "source": [
        "Q8. Sub-Category(소분류)별로 판매량의 평균과 표준편차를 구하고, 가장 변동성이 큰 소분류를 찾으세요."
      ]
    },
    {
      "cell_type": "code",
      "execution_count": 86,
      "metadata": {},
      "outputs": [
        {
          "data": {
            "text/html": [
              "<div>\n",
              "<style scoped>\n",
              "    .dataframe tbody tr th:only-of-type {\n",
              "        vertical-align: middle;\n",
              "    }\n",
              "\n",
              "    .dataframe tbody tr th {\n",
              "        vertical-align: top;\n",
              "    }\n",
              "\n",
              "    .dataframe thead th {\n",
              "        text-align: right;\n",
              "    }\n",
              "</style>\n",
              "<table border=\"1\" class=\"dataframe\">\n",
              "  <thead>\n",
              "    <tr style=\"text-align: right;\">\n",
              "      <th></th>\n",
              "      <th>Sub-Category</th>\n",
              "      <th>mean</th>\n",
              "      <th>std</th>\n",
              "    </tr>\n",
              "  </thead>\n",
              "  <tbody>\n",
              "    <tr>\n",
              "      <th>16</th>\n",
              "      <td>Tables</td>\n",
              "      <td>3.890282</td>\n",
              "      <td>2.446381</td>\n",
              "    </tr>\n",
              "    <tr>\n",
              "      <th>8</th>\n",
              "      <td>Fasteners</td>\n",
              "      <td>4.211982</td>\n",
              "      <td>2.413551</td>\n",
              "    </tr>\n",
              "    <tr>\n",
              "      <th>10</th>\n",
              "      <td>Labels</td>\n",
              "      <td>3.846154</td>\n",
              "      <td>2.349248</td>\n",
              "    </tr>\n",
              "    <tr>\n",
              "      <th>3</th>\n",
              "      <td>Binders</td>\n",
              "      <td>3.922521</td>\n",
              "      <td>2.291913</td>\n",
              "    </tr>\n",
              "    <tr>\n",
              "      <th>0</th>\n",
              "      <td>Accessories</td>\n",
              "      <td>3.840000</td>\n",
              "      <td>2.284698</td>\n",
              "    </tr>\n",
              "    <tr>\n",
              "      <th>4</th>\n",
              "      <td>Bookcases</td>\n",
              "      <td>3.807018</td>\n",
              "      <td>2.283352</td>\n",
              "    </tr>\n",
              "    <tr>\n",
              "      <th>5</th>\n",
              "      <td>Chairs</td>\n",
              "      <td>3.818476</td>\n",
              "      <td>2.282652</td>\n",
              "    </tr>\n",
              "    <tr>\n",
              "      <th>12</th>\n",
              "      <td>Paper</td>\n",
              "      <td>3.779562</td>\n",
              "      <td>2.231560</td>\n",
              "    </tr>\n",
              "    <tr>\n",
              "      <th>14</th>\n",
              "      <td>Storage</td>\n",
              "      <td>3.732861</td>\n",
              "      <td>2.192409</td>\n",
              "    </tr>\n",
              "    <tr>\n",
              "      <th>13</th>\n",
              "      <td>Phones</td>\n",
              "      <td>3.699663</td>\n",
              "      <td>2.189453</td>\n",
              "    </tr>\n",
              "    <tr>\n",
              "      <th>11</th>\n",
              "      <td>Machines</td>\n",
              "      <td>3.826087</td>\n",
              "      <td>2.165361</td>\n",
              "    </tr>\n",
              "    <tr>\n",
              "      <th>9</th>\n",
              "      <td>Furnishings</td>\n",
              "      <td>3.723093</td>\n",
              "      <td>2.155954</td>\n",
              "    </tr>\n",
              "    <tr>\n",
              "      <th>2</th>\n",
              "      <td>Art</td>\n",
              "      <td>3.768844</td>\n",
              "      <td>2.131957</td>\n",
              "    </tr>\n",
              "    <tr>\n",
              "      <th>1</th>\n",
              "      <td>Appliances</td>\n",
              "      <td>3.710300</td>\n",
              "      <td>2.123038</td>\n",
              "    </tr>\n",
              "    <tr>\n",
              "      <th>7</th>\n",
              "      <td>Envelopes</td>\n",
              "      <td>3.566929</td>\n",
              "      <td>2.045299</td>\n",
              "    </tr>\n",
              "    <tr>\n",
              "      <th>15</th>\n",
              "      <td>Supplies</td>\n",
              "      <td>3.405263</td>\n",
              "      <td>1.837002</td>\n",
              "    </tr>\n",
              "    <tr>\n",
              "      <th>6</th>\n",
              "      <td>Copiers</td>\n",
              "      <td>3.441176</td>\n",
              "      <td>1.831583</td>\n",
              "    </tr>\n",
              "  </tbody>\n",
              "</table>\n",
              "</div>"
            ],
            "text/plain": [
              "   Sub-Category      mean       std\n",
              "16       Tables  3.890282  2.446381\n",
              "8     Fasteners  4.211982  2.413551\n",
              "10       Labels  3.846154  2.349248\n",
              "3       Binders  3.922521  2.291913\n",
              "0   Accessories  3.840000  2.284698\n",
              "4     Bookcases  3.807018  2.283352\n",
              "5        Chairs  3.818476  2.282652\n",
              "12        Paper  3.779562  2.231560\n",
              "14      Storage  3.732861  2.192409\n",
              "13       Phones  3.699663  2.189453\n",
              "11     Machines  3.826087  2.165361\n",
              "9   Furnishings  3.723093  2.155954\n",
              "2           Art  3.768844  2.131957\n",
              "1    Appliances  3.710300  2.123038\n",
              "7     Envelopes  3.566929  2.045299\n",
              "15     Supplies  3.405263  1.837002\n",
              "6       Copiers  3.441176  1.831583"
            ]
          },
          "execution_count": 86,
          "metadata": {},
          "output_type": "execute_result"
        }
      ],
      "source": [
        "# 소분류별 판매량 평균과 표준편차 계산\n",
        "subcategory_stats = df.groupby('Sub-Category')['Quantity'].agg(['mean', 'std']).reset_index()\n",
        "subcategory_stats = subcategory_stats.sort_values('std', ascending=False)\n",
        "subcategory_stats"
      ]
    },
    {
      "cell_type": "code",
      "execution_count": 87,
      "metadata": {},
      "outputs": [
        {
          "name": "stdout",
          "output_type": "stream",
          "text": [
            "가장 변동성이 큰 소분류: Tables (표준편차: 2.45)\n"
          ]
        }
      ],
      "source": [
        "# 가장 변동성이 큰 소분류 찾기\n",
        "most_variable = subcategory_stats.iloc[0]\n",
        "print(f\"가장 변동성이 큰 소분류: {most_variable['Sub-Category']} (표준편차: {most_variable['std']:.2f})\")"
      ]
    },
    {
      "cell_type": "code",
      "execution_count": 88,
      "metadata": {},
      "outputs": [
        {
          "data": {
            "application/vnd.plotly.v1+json": {
              "config": {
                "plotlyServerURL": "https://plot.ly"
              },
              "data": [
                {
                  "hovertemplate": "소분류=%{x}<br>판매량 표준편차=%{y}<extra></extra>",
                  "legendgroup": "Tables",
                  "marker": {
                    "color": "#636efa",
                    "pattern": {
                      "shape": ""
                    }
                  },
                  "name": "Tables",
                  "orientation": "v",
                  "showlegend": true,
                  "textposition": "auto",
                  "texttemplate": "%{y:.2f}",
                  "type": "bar",
                  "x": [
                    "Tables"
                  ],
                  "xaxis": "x",
                  "y": {
                    "bdata": "NfJzJTCSA0A=",
                    "dtype": "f8"
                  },
                  "yaxis": "y"
                },
                {
                  "hovertemplate": "소분류=%{x}<br>판매량 표준편차=%{y}<extra></extra>",
                  "legendgroup": "Fasteners",
                  "marker": {
                    "color": "#EF553B",
                    "pattern": {
                      "shape": ""
                    }
                  },
                  "name": "Fasteners",
                  "orientation": "v",
                  "showlegend": true,
                  "textposition": "auto",
                  "texttemplate": "%{y:.2f}",
                  "type": "bar",
                  "x": [
                    "Fasteners"
                  ],
                  "xaxis": "x",
                  "y": {
                    "bdata": "e88vlPNOA0A=",
                    "dtype": "f8"
                  },
                  "yaxis": "y"
                },
                {
                  "hovertemplate": "소분류=%{x}<br>판매량 표준편차=%{y}<extra></extra>",
                  "legendgroup": "Labels",
                  "marker": {
                    "color": "#00cc96",
                    "pattern": {
                      "shape": ""
                    }
                  },
                  "name": "Labels",
                  "orientation": "v",
                  "showlegend": true,
                  "textposition": "auto",
                  "texttemplate": "%{y:.2f}",
                  "type": "bar",
                  "x": [
                    "Labels"
                  ],
                  "xaxis": "x",
                  "y": {
                    "bdata": "ZLX8gELLAkA=",
                    "dtype": "f8"
                  },
                  "yaxis": "y"
                },
                {
                  "hovertemplate": "소분류=%{x}<br>판매량 표준편차=%{y}<extra></extra>",
                  "legendgroup": "Binders",
                  "marker": {
                    "color": "#ab63fa",
                    "pattern": {
                      "shape": ""
                    }
                  },
                  "name": "Binders",
                  "orientation": "v",
                  "showlegend": true,
                  "textposition": "auto",
                  "texttemplate": "%{y:.2f}",
                  "type": "bar",
                  "x": [
                    "Binders"
                  ],
                  "xaxis": "x",
                  "y": {
                    "bdata": "cGzYO9ZVAkA=",
                    "dtype": "f8"
                  },
                  "yaxis": "y"
                },
                {
                  "hovertemplate": "소분류=%{x}<br>판매량 표준편차=%{y}<extra></extra>",
                  "legendgroup": "Accessories",
                  "marker": {
                    "color": "#FFA15A",
                    "pattern": {
                      "shape": ""
                    }
                  },
                  "name": "Accessories",
                  "orientation": "v",
                  "showlegend": true,
                  "textposition": "auto",
                  "texttemplate": "%{y:.2f}",
                  "type": "bar",
                  "x": [
                    "Accessories"
                  ],
                  "xaxis": "x",
                  "y": {
                    "bdata": "flwFvw9HAkA=",
                    "dtype": "f8"
                  },
                  "yaxis": "y"
                },
                {
                  "hovertemplate": "소분류=%{x}<br>판매량 표준편차=%{y}<extra></extra>",
                  "legendgroup": "Bookcases",
                  "marker": {
                    "color": "#19d3f3",
                    "pattern": {
                      "shape": ""
                    }
                  },
                  "name": "Bookcases",
                  "orientation": "v",
                  "showlegend": true,
                  "textposition": "auto",
                  "texttemplate": "%{y:.2f}",
                  "type": "bar",
                  "x": [
                    "Bookcases"
                  ],
                  "xaxis": "x",
                  "y": {
                    "bdata": "0fW15k1EAkA=",
                    "dtype": "f8"
                  },
                  "yaxis": "y"
                },
                {
                  "hovertemplate": "소분류=%{x}<br>판매량 표준편차=%{y}<extra></extra>",
                  "legendgroup": "Chairs",
                  "marker": {
                    "color": "#FF6692",
                    "pattern": {
                      "shape": ""
                    }
                  },
                  "name": "Chairs",
                  "orientation": "v",
                  "showlegend": true,
                  "textposition": "auto",
                  "texttemplate": "%{y:.2f}",
                  "type": "bar",
                  "x": [
                    "Chairs"
                  ],
                  "xaxis": "x",
                  "y": {
                    "bdata": "4PkJSt9CAkA=",
                    "dtype": "f8"
                  },
                  "yaxis": "y"
                },
                {
                  "hovertemplate": "소분류=%{x}<br>판매량 표준편차=%{y}<extra></extra>",
                  "legendgroup": "Paper",
                  "marker": {
                    "color": "#B6E880",
                    "pattern": {
                      "shape": ""
                    }
                  },
                  "name": "Paper",
                  "orientation": "v",
                  "showlegend": true,
                  "textposition": "auto",
                  "texttemplate": "%{y:.2f}",
                  "type": "bar",
                  "x": [
                    "Paper"
                  ],
                  "xaxis": "x",
                  "y": {
                    "bdata": "UB3YEjzaAUA=",
                    "dtype": "f8"
                  },
                  "yaxis": "y"
                },
                {
                  "hovertemplate": "소분류=%{x}<br>판매량 표준편차=%{y}<extra></extra>",
                  "legendgroup": "Storage",
                  "marker": {
                    "color": "#FF97FF",
                    "pattern": {
                      "shape": ""
                    }
                  },
                  "name": "Storage",
                  "orientation": "v",
                  "showlegend": true,
                  "textposition": "auto",
                  "texttemplate": "%{y:.2f}",
                  "type": "bar",
                  "x": [
                    "Storage"
                  ],
                  "xaxis": "x",
                  "y": {
                    "bdata": "ssuJ4w2KAUA=",
                    "dtype": "f8"
                  },
                  "yaxis": "y"
                },
                {
                  "hovertemplate": "소분류=%{x}<br>판매량 표준편차=%{y}<extra></extra>",
                  "legendgroup": "Phones",
                  "marker": {
                    "color": "#FECB52",
                    "pattern": {
                      "shape": ""
                    }
                  },
                  "name": "Phones",
                  "orientation": "v",
                  "showlegend": true,
                  "textposition": "auto",
                  "texttemplate": "%{y:.2f}",
                  "type": "bar",
                  "x": [
                    "Phones"
                  ],
                  "xaxis": "x",
                  "y": {
                    "bdata": "S1iJ+/+DAUA=",
                    "dtype": "f8"
                  },
                  "yaxis": "y"
                },
                {
                  "hovertemplate": "소분류=%{x}<br>판매량 표준편차=%{y}<extra></extra>",
                  "legendgroup": "Machines",
                  "marker": {
                    "color": "#636efa",
                    "pattern": {
                      "shape": ""
                    }
                  },
                  "name": "Machines",
                  "orientation": "v",
                  "showlegend": true,
                  "textposition": "auto",
                  "texttemplate": "%{y:.2f}",
                  "type": "bar",
                  "x": [
                    "Machines"
                  ],
                  "xaxis": "x",
                  "y": {
                    "bdata": "MIpnqKhSAUA=",
                    "dtype": "f8"
                  },
                  "yaxis": "y"
                },
                {
                  "hovertemplate": "소분류=%{x}<br>판매량 표준편차=%{y}<extra></extra>",
                  "legendgroup": "Furnishings",
                  "marker": {
                    "color": "#EF553B",
                    "pattern": {
                      "shape": ""
                    }
                  },
                  "name": "Furnishings",
                  "orientation": "v",
                  "showlegend": true,
                  "textposition": "auto",
                  "texttemplate": "%{y:.2f}",
                  "type": "bar",
                  "x": [
                    "Furnishings"
                  ],
                  "xaxis": "x",
                  "y": {
                    "bdata": "OFA40WQ/AUA=",
                    "dtype": "f8"
                  },
                  "yaxis": "y"
                },
                {
                  "hovertemplate": "소분류=%{x}<br>판매량 표준편차=%{y}<extra></extra>",
                  "legendgroup": "Art",
                  "marker": {
                    "color": "#00cc96",
                    "pattern": {
                      "shape": ""
                    }
                  },
                  "name": "Art",
                  "orientation": "v",
                  "showlegend": true,
                  "textposition": "auto",
                  "texttemplate": "%{y:.2f}",
                  "type": "bar",
                  "x": [
                    "Art"
                  ],
                  "xaxis": "x",
                  "y": {
                    "bdata": "LUUfoT8OAUA=",
                    "dtype": "f8"
                  },
                  "yaxis": "y"
                },
                {
                  "hovertemplate": "소분류=%{x}<br>판매량 표준편차=%{y}<extra></extra>",
                  "legendgroup": "Appliances",
                  "marker": {
                    "color": "#ab63fa",
                    "pattern": {
                      "shape": ""
                    }
                  },
                  "name": "Appliances",
                  "orientation": "v",
                  "showlegend": true,
                  "textposition": "auto",
                  "texttemplate": "%{y:.2f}",
                  "type": "bar",
                  "x": [
                    "Appliances"
                  ],
                  "xaxis": "x",
                  "y": {
                    "bdata": "6G7lffv7AEA=",
                    "dtype": "f8"
                  },
                  "yaxis": "y"
                },
                {
                  "hovertemplate": "소분류=%{x}<br>판매량 표준편차=%{y}<extra></extra>",
                  "legendgroup": "Envelopes",
                  "marker": {
                    "color": "#FFA15A",
                    "pattern": {
                      "shape": ""
                    }
                  },
                  "name": "Envelopes",
                  "orientation": "v",
                  "showlegend": true,
                  "textposition": "auto",
                  "texttemplate": "%{y:.2f}",
                  "type": "bar",
                  "x": [
                    "Envelopes"
                  ],
                  "xaxis": "x",
                  "y": {
                    "bdata": "jpGh9MVcAEA=",
                    "dtype": "f8"
                  },
                  "yaxis": "y"
                },
                {
                  "hovertemplate": "소분류=%{x}<br>판매량 표준편차=%{y}<extra></extra>",
                  "legendgroup": "Supplies",
                  "marker": {
                    "color": "#19d3f3",
                    "pattern": {
                      "shape": ""
                    }
                  },
                  "name": "Supplies",
                  "orientation": "v",
                  "showlegend": true,
                  "textposition": "auto",
                  "texttemplate": "%{y:.2f}",
                  "type": "bar",
                  "x": [
                    "Supplies"
                  ],
                  "xaxis": "x",
                  "y": {
                    "bdata": "Vb716ltk/T8=",
                    "dtype": "f8"
                  },
                  "yaxis": "y"
                },
                {
                  "hovertemplate": "소분류=%{x}<br>판매량 표준편차=%{y}<extra></extra>",
                  "legendgroup": "Copiers",
                  "marker": {
                    "color": "#FF6692",
                    "pattern": {
                      "shape": ""
                    }
                  },
                  "name": "Copiers",
                  "orientation": "v",
                  "showlegend": true,
                  "textposition": "auto",
                  "texttemplate": "%{y:.2f}",
                  "type": "bar",
                  "x": [
                    "Copiers"
                  ],
                  "xaxis": "x",
                  "y": {
                    "bdata": "t/6pNSpO/T8=",
                    "dtype": "f8"
                  },
                  "yaxis": "y"
                }
              ],
              "layout": {
                "barmode": "relative",
                "legend": {
                  "title": {
                    "text": "소분류"
                  },
                  "tracegroupgap": 0
                },
                "showlegend": false,
                "template": {
                  "data": {
                    "bar": [
                      {
                        "error_x": {
                          "color": "#2a3f5f"
                        },
                        "error_y": {
                          "color": "#2a3f5f"
                        },
                        "marker": {
                          "line": {
                            "color": "#E5ECF6",
                            "width": 0.5
                          },
                          "pattern": {
                            "fillmode": "overlay",
                            "size": 10,
                            "solidity": 0.2
                          }
                        },
                        "type": "bar"
                      }
                    ],
                    "barpolar": [
                      {
                        "marker": {
                          "line": {
                            "color": "#E5ECF6",
                            "width": 0.5
                          },
                          "pattern": {
                            "fillmode": "overlay",
                            "size": 10,
                            "solidity": 0.2
                          }
                        },
                        "type": "barpolar"
                      }
                    ],
                    "carpet": [
                      {
                        "aaxis": {
                          "endlinecolor": "#2a3f5f",
                          "gridcolor": "white",
                          "linecolor": "white",
                          "minorgridcolor": "white",
                          "startlinecolor": "#2a3f5f"
                        },
                        "baxis": {
                          "endlinecolor": "#2a3f5f",
                          "gridcolor": "white",
                          "linecolor": "white",
                          "minorgridcolor": "white",
                          "startlinecolor": "#2a3f5f"
                        },
                        "type": "carpet"
                      }
                    ],
                    "choropleth": [
                      {
                        "colorbar": {
                          "outlinewidth": 0,
                          "ticks": ""
                        },
                        "type": "choropleth"
                      }
                    ],
                    "contour": [
                      {
                        "colorbar": {
                          "outlinewidth": 0,
                          "ticks": ""
                        },
                        "colorscale": [
                          [
                            0,
                            "#0d0887"
                          ],
                          [
                            0.1111111111111111,
                            "#46039f"
                          ],
                          [
                            0.2222222222222222,
                            "#7201a8"
                          ],
                          [
                            0.3333333333333333,
                            "#9c179e"
                          ],
                          [
                            0.4444444444444444,
                            "#bd3786"
                          ],
                          [
                            0.5555555555555556,
                            "#d8576b"
                          ],
                          [
                            0.6666666666666666,
                            "#ed7953"
                          ],
                          [
                            0.7777777777777778,
                            "#fb9f3a"
                          ],
                          [
                            0.8888888888888888,
                            "#fdca26"
                          ],
                          [
                            1,
                            "#f0f921"
                          ]
                        ],
                        "type": "contour"
                      }
                    ],
                    "contourcarpet": [
                      {
                        "colorbar": {
                          "outlinewidth": 0,
                          "ticks": ""
                        },
                        "type": "contourcarpet"
                      }
                    ],
                    "heatmap": [
                      {
                        "colorbar": {
                          "outlinewidth": 0,
                          "ticks": ""
                        },
                        "colorscale": [
                          [
                            0,
                            "#0d0887"
                          ],
                          [
                            0.1111111111111111,
                            "#46039f"
                          ],
                          [
                            0.2222222222222222,
                            "#7201a8"
                          ],
                          [
                            0.3333333333333333,
                            "#9c179e"
                          ],
                          [
                            0.4444444444444444,
                            "#bd3786"
                          ],
                          [
                            0.5555555555555556,
                            "#d8576b"
                          ],
                          [
                            0.6666666666666666,
                            "#ed7953"
                          ],
                          [
                            0.7777777777777778,
                            "#fb9f3a"
                          ],
                          [
                            0.8888888888888888,
                            "#fdca26"
                          ],
                          [
                            1,
                            "#f0f921"
                          ]
                        ],
                        "type": "heatmap"
                      }
                    ],
                    "histogram": [
                      {
                        "marker": {
                          "pattern": {
                            "fillmode": "overlay",
                            "size": 10,
                            "solidity": 0.2
                          }
                        },
                        "type": "histogram"
                      }
                    ],
                    "histogram2d": [
                      {
                        "colorbar": {
                          "outlinewidth": 0,
                          "ticks": ""
                        },
                        "colorscale": [
                          [
                            0,
                            "#0d0887"
                          ],
                          [
                            0.1111111111111111,
                            "#46039f"
                          ],
                          [
                            0.2222222222222222,
                            "#7201a8"
                          ],
                          [
                            0.3333333333333333,
                            "#9c179e"
                          ],
                          [
                            0.4444444444444444,
                            "#bd3786"
                          ],
                          [
                            0.5555555555555556,
                            "#d8576b"
                          ],
                          [
                            0.6666666666666666,
                            "#ed7953"
                          ],
                          [
                            0.7777777777777778,
                            "#fb9f3a"
                          ],
                          [
                            0.8888888888888888,
                            "#fdca26"
                          ],
                          [
                            1,
                            "#f0f921"
                          ]
                        ],
                        "type": "histogram2d"
                      }
                    ],
                    "histogram2dcontour": [
                      {
                        "colorbar": {
                          "outlinewidth": 0,
                          "ticks": ""
                        },
                        "colorscale": [
                          [
                            0,
                            "#0d0887"
                          ],
                          [
                            0.1111111111111111,
                            "#46039f"
                          ],
                          [
                            0.2222222222222222,
                            "#7201a8"
                          ],
                          [
                            0.3333333333333333,
                            "#9c179e"
                          ],
                          [
                            0.4444444444444444,
                            "#bd3786"
                          ],
                          [
                            0.5555555555555556,
                            "#d8576b"
                          ],
                          [
                            0.6666666666666666,
                            "#ed7953"
                          ],
                          [
                            0.7777777777777778,
                            "#fb9f3a"
                          ],
                          [
                            0.8888888888888888,
                            "#fdca26"
                          ],
                          [
                            1,
                            "#f0f921"
                          ]
                        ],
                        "type": "histogram2dcontour"
                      }
                    ],
                    "mesh3d": [
                      {
                        "colorbar": {
                          "outlinewidth": 0,
                          "ticks": ""
                        },
                        "type": "mesh3d"
                      }
                    ],
                    "parcoords": [
                      {
                        "line": {
                          "colorbar": {
                            "outlinewidth": 0,
                            "ticks": ""
                          }
                        },
                        "type": "parcoords"
                      }
                    ],
                    "pie": [
                      {
                        "automargin": true,
                        "type": "pie"
                      }
                    ],
                    "scatter": [
                      {
                        "fillpattern": {
                          "fillmode": "overlay",
                          "size": 10,
                          "solidity": 0.2
                        },
                        "type": "scatter"
                      }
                    ],
                    "scatter3d": [
                      {
                        "line": {
                          "colorbar": {
                            "outlinewidth": 0,
                            "ticks": ""
                          }
                        },
                        "marker": {
                          "colorbar": {
                            "outlinewidth": 0,
                            "ticks": ""
                          }
                        },
                        "type": "scatter3d"
                      }
                    ],
                    "scattercarpet": [
                      {
                        "marker": {
                          "colorbar": {
                            "outlinewidth": 0,
                            "ticks": ""
                          }
                        },
                        "type": "scattercarpet"
                      }
                    ],
                    "scattergeo": [
                      {
                        "marker": {
                          "colorbar": {
                            "outlinewidth": 0,
                            "ticks": ""
                          }
                        },
                        "type": "scattergeo"
                      }
                    ],
                    "scattergl": [
                      {
                        "marker": {
                          "colorbar": {
                            "outlinewidth": 0,
                            "ticks": ""
                          }
                        },
                        "type": "scattergl"
                      }
                    ],
                    "scattermap": [
                      {
                        "marker": {
                          "colorbar": {
                            "outlinewidth": 0,
                            "ticks": ""
                          }
                        },
                        "type": "scattermap"
                      }
                    ],
                    "scattermapbox": [
                      {
                        "marker": {
                          "colorbar": {
                            "outlinewidth": 0,
                            "ticks": ""
                          }
                        },
                        "type": "scattermapbox"
                      }
                    ],
                    "scatterpolar": [
                      {
                        "marker": {
                          "colorbar": {
                            "outlinewidth": 0,
                            "ticks": ""
                          }
                        },
                        "type": "scatterpolar"
                      }
                    ],
                    "scatterpolargl": [
                      {
                        "marker": {
                          "colorbar": {
                            "outlinewidth": 0,
                            "ticks": ""
                          }
                        },
                        "type": "scatterpolargl"
                      }
                    ],
                    "scatterternary": [
                      {
                        "marker": {
                          "colorbar": {
                            "outlinewidth": 0,
                            "ticks": ""
                          }
                        },
                        "type": "scatterternary"
                      }
                    ],
                    "surface": [
                      {
                        "colorbar": {
                          "outlinewidth": 0,
                          "ticks": ""
                        },
                        "colorscale": [
                          [
                            0,
                            "#0d0887"
                          ],
                          [
                            0.1111111111111111,
                            "#46039f"
                          ],
                          [
                            0.2222222222222222,
                            "#7201a8"
                          ],
                          [
                            0.3333333333333333,
                            "#9c179e"
                          ],
                          [
                            0.4444444444444444,
                            "#bd3786"
                          ],
                          [
                            0.5555555555555556,
                            "#d8576b"
                          ],
                          [
                            0.6666666666666666,
                            "#ed7953"
                          ],
                          [
                            0.7777777777777778,
                            "#fb9f3a"
                          ],
                          [
                            0.8888888888888888,
                            "#fdca26"
                          ],
                          [
                            1,
                            "#f0f921"
                          ]
                        ],
                        "type": "surface"
                      }
                    ],
                    "table": [
                      {
                        "cells": {
                          "fill": {
                            "color": "#EBF0F8"
                          },
                          "line": {
                            "color": "white"
                          }
                        },
                        "header": {
                          "fill": {
                            "color": "#C8D4E3"
                          },
                          "line": {
                            "color": "white"
                          }
                        },
                        "type": "table"
                      }
                    ]
                  },
                  "layout": {
                    "annotationdefaults": {
                      "arrowcolor": "#2a3f5f",
                      "arrowhead": 0,
                      "arrowwidth": 1
                    },
                    "autotypenumbers": "strict",
                    "coloraxis": {
                      "colorbar": {
                        "outlinewidth": 0,
                        "ticks": ""
                      }
                    },
                    "colorscale": {
                      "diverging": [
                        [
                          0,
                          "#8e0152"
                        ],
                        [
                          0.1,
                          "#c51b7d"
                        ],
                        [
                          0.2,
                          "#de77ae"
                        ],
                        [
                          0.3,
                          "#f1b6da"
                        ],
                        [
                          0.4,
                          "#fde0ef"
                        ],
                        [
                          0.5,
                          "#f7f7f7"
                        ],
                        [
                          0.6,
                          "#e6f5d0"
                        ],
                        [
                          0.7,
                          "#b8e186"
                        ],
                        [
                          0.8,
                          "#7fbc41"
                        ],
                        [
                          0.9,
                          "#4d9221"
                        ],
                        [
                          1,
                          "#276419"
                        ]
                      ],
                      "sequential": [
                        [
                          0,
                          "#0d0887"
                        ],
                        [
                          0.1111111111111111,
                          "#46039f"
                        ],
                        [
                          0.2222222222222222,
                          "#7201a8"
                        ],
                        [
                          0.3333333333333333,
                          "#9c179e"
                        ],
                        [
                          0.4444444444444444,
                          "#bd3786"
                        ],
                        [
                          0.5555555555555556,
                          "#d8576b"
                        ],
                        [
                          0.6666666666666666,
                          "#ed7953"
                        ],
                        [
                          0.7777777777777778,
                          "#fb9f3a"
                        ],
                        [
                          0.8888888888888888,
                          "#fdca26"
                        ],
                        [
                          1,
                          "#f0f921"
                        ]
                      ],
                      "sequentialminus": [
                        [
                          0,
                          "#0d0887"
                        ],
                        [
                          0.1111111111111111,
                          "#46039f"
                        ],
                        [
                          0.2222222222222222,
                          "#7201a8"
                        ],
                        [
                          0.3333333333333333,
                          "#9c179e"
                        ],
                        [
                          0.4444444444444444,
                          "#bd3786"
                        ],
                        [
                          0.5555555555555556,
                          "#d8576b"
                        ],
                        [
                          0.6666666666666666,
                          "#ed7953"
                        ],
                        [
                          0.7777777777777778,
                          "#fb9f3a"
                        ],
                        [
                          0.8888888888888888,
                          "#fdca26"
                        ],
                        [
                          1,
                          "#f0f921"
                        ]
                      ]
                    },
                    "colorway": [
                      "#636efa",
                      "#EF553B",
                      "#00cc96",
                      "#ab63fa",
                      "#FFA15A",
                      "#19d3f3",
                      "#FF6692",
                      "#B6E880",
                      "#FF97FF",
                      "#FECB52"
                    ],
                    "font": {
                      "color": "#2a3f5f"
                    },
                    "geo": {
                      "bgcolor": "white",
                      "lakecolor": "white",
                      "landcolor": "#E5ECF6",
                      "showlakes": true,
                      "showland": true,
                      "subunitcolor": "white"
                    },
                    "hoverlabel": {
                      "align": "left"
                    },
                    "hovermode": "closest",
                    "mapbox": {
                      "style": "light"
                    },
                    "paper_bgcolor": "white",
                    "plot_bgcolor": "#E5ECF6",
                    "polar": {
                      "angularaxis": {
                        "gridcolor": "white",
                        "linecolor": "white",
                        "ticks": ""
                      },
                      "bgcolor": "#E5ECF6",
                      "radialaxis": {
                        "gridcolor": "white",
                        "linecolor": "white",
                        "ticks": ""
                      }
                    },
                    "scene": {
                      "xaxis": {
                        "backgroundcolor": "#E5ECF6",
                        "gridcolor": "white",
                        "gridwidth": 2,
                        "linecolor": "white",
                        "showbackground": true,
                        "ticks": "",
                        "zerolinecolor": "white"
                      },
                      "yaxis": {
                        "backgroundcolor": "#E5ECF6",
                        "gridcolor": "white",
                        "gridwidth": 2,
                        "linecolor": "white",
                        "showbackground": true,
                        "ticks": "",
                        "zerolinecolor": "white"
                      },
                      "zaxis": {
                        "backgroundcolor": "#E5ECF6",
                        "gridcolor": "white",
                        "gridwidth": 2,
                        "linecolor": "white",
                        "showbackground": true,
                        "ticks": "",
                        "zerolinecolor": "white"
                      }
                    },
                    "shapedefaults": {
                      "line": {
                        "color": "#2a3f5f"
                      }
                    },
                    "ternary": {
                      "aaxis": {
                        "gridcolor": "white",
                        "linecolor": "white",
                        "ticks": ""
                      },
                      "baxis": {
                        "gridcolor": "white",
                        "linecolor": "white",
                        "ticks": ""
                      },
                      "bgcolor": "#E5ECF6",
                      "caxis": {
                        "gridcolor": "white",
                        "linecolor": "white",
                        "ticks": ""
                      }
                    },
                    "title": {
                      "x": 0.05
                    },
                    "xaxis": {
                      "automargin": true,
                      "gridcolor": "white",
                      "linecolor": "white",
                      "ticks": "",
                      "title": {
                        "standoff": 15
                      },
                      "zerolinecolor": "white",
                      "zerolinewidth": 2
                    },
                    "yaxis": {
                      "automargin": true,
                      "gridcolor": "white",
                      "linecolor": "white",
                      "ticks": "",
                      "title": {
                        "standoff": 15
                      },
                      "zerolinecolor": "white",
                      "zerolinewidth": 2
                    }
                  }
                },
                "title": {
                  "text": "소분류별 판매량 표준편차"
                },
                "xaxis": {
                  "anchor": "y",
                  "categoryarray": [
                    "Tables",
                    "Fasteners",
                    "Labels",
                    "Binders",
                    "Accessories",
                    "Bookcases",
                    "Chairs",
                    "Paper",
                    "Storage",
                    "Phones",
                    "Machines",
                    "Furnishings",
                    "Art",
                    "Appliances",
                    "Envelopes",
                    "Supplies",
                    "Copiers"
                  ],
                  "categoryorder": "array",
                  "domain": [
                    0,
                    1
                  ],
                  "title": {
                    "text": "소분류"
                  }
                },
                "yaxis": {
                  "anchor": "x",
                  "domain": [
                    0,
                    1
                  ],
                  "title": {
                    "text": "판매량 표준편차"
                  }
                }
              }
            }
          },
          "metadata": {},
          "output_type": "display_data"
        }
      ],
      "source": [
        "# 시각화\n",
        "fig = px.bar(subcategory_stats,\n",
        "             x='Sub-Category',\n",
        "             y='std',\n",
        "             title='소분류별 판매량 표준편차',\n",
        "             labels={'Sub-Category': '소분류', 'std': '판매량 표준편차'},\n",
        "             color='Sub-Category',\n",
        "             text_auto='.2f')\n",
        "fig.update_layout(showlegend=False)\n",
        "fig.show()"
      ]
    },
    {
      "cell_type": "markdown",
      "metadata": {},
      "source": [
        "Q9. 'region'(지역)별로 주문 건수(행 개수)를 구하고, pie chart로 시각화하세요."
      ]
    },
    {
      "cell_type": "code",
      "execution_count": 92,
      "metadata": {},
      "outputs": [
        {
          "data": {
            "text/plain": [
              "Region\n",
              "West       3203\n",
              "East       2848\n",
              "Central    2323\n",
              "South      1620\n",
              "Name: count, dtype: int64"
            ]
          },
          "execution_count": 92,
          "metadata": {},
          "output_type": "execute_result"
        }
      ],
      "source": [
        "df['Region'].value_counts()"
      ]
    },
    {
      "cell_type": "code",
      "execution_count": 93,
      "metadata": {},
      "outputs": [
        {
          "data": {
            "application/vnd.plotly.v1+json": {
              "config": {
                "plotlyServerURL": "https://plot.ly"
              },
              "data": [
                {
                  "domain": {
                    "x": [
                      0,
                      1
                    ],
                    "y": [
                      0,
                      1
                    ]
                  },
                  "hole": 0.3,
                  "hovertemplate": "지역=%{label}<br>주문 건수=%{value}<extra></extra>",
                  "labels": [
                    "West",
                    "East",
                    "Central",
                    "South"
                  ],
                  "legendgroup": "",
                  "name": "",
                  "pull": [
                    0.1,
                    0,
                    0,
                    0
                  ],
                  "showlegend": true,
                  "textinfo": "percent+label",
                  "textposition": "inside",
                  "type": "pie",
                  "values": {
                    "bdata": "gwwgCxMJVAY=",
                    "dtype": "i2"
                  }
                }
              ],
              "layout": {
                "legend": {
                  "tracegroupgap": 0
                },
                "template": {
                  "data": {
                    "bar": [
                      {
                        "error_x": {
                          "color": "#2a3f5f"
                        },
                        "error_y": {
                          "color": "#2a3f5f"
                        },
                        "marker": {
                          "line": {
                            "color": "#E5ECF6",
                            "width": 0.5
                          },
                          "pattern": {
                            "fillmode": "overlay",
                            "size": 10,
                            "solidity": 0.2
                          }
                        },
                        "type": "bar"
                      }
                    ],
                    "barpolar": [
                      {
                        "marker": {
                          "line": {
                            "color": "#E5ECF6",
                            "width": 0.5
                          },
                          "pattern": {
                            "fillmode": "overlay",
                            "size": 10,
                            "solidity": 0.2
                          }
                        },
                        "type": "barpolar"
                      }
                    ],
                    "carpet": [
                      {
                        "aaxis": {
                          "endlinecolor": "#2a3f5f",
                          "gridcolor": "white",
                          "linecolor": "white",
                          "minorgridcolor": "white",
                          "startlinecolor": "#2a3f5f"
                        },
                        "baxis": {
                          "endlinecolor": "#2a3f5f",
                          "gridcolor": "white",
                          "linecolor": "white",
                          "minorgridcolor": "white",
                          "startlinecolor": "#2a3f5f"
                        },
                        "type": "carpet"
                      }
                    ],
                    "choropleth": [
                      {
                        "colorbar": {
                          "outlinewidth": 0,
                          "ticks": ""
                        },
                        "type": "choropleth"
                      }
                    ],
                    "contour": [
                      {
                        "colorbar": {
                          "outlinewidth": 0,
                          "ticks": ""
                        },
                        "colorscale": [
                          [
                            0,
                            "#0d0887"
                          ],
                          [
                            0.1111111111111111,
                            "#46039f"
                          ],
                          [
                            0.2222222222222222,
                            "#7201a8"
                          ],
                          [
                            0.3333333333333333,
                            "#9c179e"
                          ],
                          [
                            0.4444444444444444,
                            "#bd3786"
                          ],
                          [
                            0.5555555555555556,
                            "#d8576b"
                          ],
                          [
                            0.6666666666666666,
                            "#ed7953"
                          ],
                          [
                            0.7777777777777778,
                            "#fb9f3a"
                          ],
                          [
                            0.8888888888888888,
                            "#fdca26"
                          ],
                          [
                            1,
                            "#f0f921"
                          ]
                        ],
                        "type": "contour"
                      }
                    ],
                    "contourcarpet": [
                      {
                        "colorbar": {
                          "outlinewidth": 0,
                          "ticks": ""
                        },
                        "type": "contourcarpet"
                      }
                    ],
                    "heatmap": [
                      {
                        "colorbar": {
                          "outlinewidth": 0,
                          "ticks": ""
                        },
                        "colorscale": [
                          [
                            0,
                            "#0d0887"
                          ],
                          [
                            0.1111111111111111,
                            "#46039f"
                          ],
                          [
                            0.2222222222222222,
                            "#7201a8"
                          ],
                          [
                            0.3333333333333333,
                            "#9c179e"
                          ],
                          [
                            0.4444444444444444,
                            "#bd3786"
                          ],
                          [
                            0.5555555555555556,
                            "#d8576b"
                          ],
                          [
                            0.6666666666666666,
                            "#ed7953"
                          ],
                          [
                            0.7777777777777778,
                            "#fb9f3a"
                          ],
                          [
                            0.8888888888888888,
                            "#fdca26"
                          ],
                          [
                            1,
                            "#f0f921"
                          ]
                        ],
                        "type": "heatmap"
                      }
                    ],
                    "histogram": [
                      {
                        "marker": {
                          "pattern": {
                            "fillmode": "overlay",
                            "size": 10,
                            "solidity": 0.2
                          }
                        },
                        "type": "histogram"
                      }
                    ],
                    "histogram2d": [
                      {
                        "colorbar": {
                          "outlinewidth": 0,
                          "ticks": ""
                        },
                        "colorscale": [
                          [
                            0,
                            "#0d0887"
                          ],
                          [
                            0.1111111111111111,
                            "#46039f"
                          ],
                          [
                            0.2222222222222222,
                            "#7201a8"
                          ],
                          [
                            0.3333333333333333,
                            "#9c179e"
                          ],
                          [
                            0.4444444444444444,
                            "#bd3786"
                          ],
                          [
                            0.5555555555555556,
                            "#d8576b"
                          ],
                          [
                            0.6666666666666666,
                            "#ed7953"
                          ],
                          [
                            0.7777777777777778,
                            "#fb9f3a"
                          ],
                          [
                            0.8888888888888888,
                            "#fdca26"
                          ],
                          [
                            1,
                            "#f0f921"
                          ]
                        ],
                        "type": "histogram2d"
                      }
                    ],
                    "histogram2dcontour": [
                      {
                        "colorbar": {
                          "outlinewidth": 0,
                          "ticks": ""
                        },
                        "colorscale": [
                          [
                            0,
                            "#0d0887"
                          ],
                          [
                            0.1111111111111111,
                            "#46039f"
                          ],
                          [
                            0.2222222222222222,
                            "#7201a8"
                          ],
                          [
                            0.3333333333333333,
                            "#9c179e"
                          ],
                          [
                            0.4444444444444444,
                            "#bd3786"
                          ],
                          [
                            0.5555555555555556,
                            "#d8576b"
                          ],
                          [
                            0.6666666666666666,
                            "#ed7953"
                          ],
                          [
                            0.7777777777777778,
                            "#fb9f3a"
                          ],
                          [
                            0.8888888888888888,
                            "#fdca26"
                          ],
                          [
                            1,
                            "#f0f921"
                          ]
                        ],
                        "type": "histogram2dcontour"
                      }
                    ],
                    "mesh3d": [
                      {
                        "colorbar": {
                          "outlinewidth": 0,
                          "ticks": ""
                        },
                        "type": "mesh3d"
                      }
                    ],
                    "parcoords": [
                      {
                        "line": {
                          "colorbar": {
                            "outlinewidth": 0,
                            "ticks": ""
                          }
                        },
                        "type": "parcoords"
                      }
                    ],
                    "pie": [
                      {
                        "automargin": true,
                        "type": "pie"
                      }
                    ],
                    "scatter": [
                      {
                        "fillpattern": {
                          "fillmode": "overlay",
                          "size": 10,
                          "solidity": 0.2
                        },
                        "type": "scatter"
                      }
                    ],
                    "scatter3d": [
                      {
                        "line": {
                          "colorbar": {
                            "outlinewidth": 0,
                            "ticks": ""
                          }
                        },
                        "marker": {
                          "colorbar": {
                            "outlinewidth": 0,
                            "ticks": ""
                          }
                        },
                        "type": "scatter3d"
                      }
                    ],
                    "scattercarpet": [
                      {
                        "marker": {
                          "colorbar": {
                            "outlinewidth": 0,
                            "ticks": ""
                          }
                        },
                        "type": "scattercarpet"
                      }
                    ],
                    "scattergeo": [
                      {
                        "marker": {
                          "colorbar": {
                            "outlinewidth": 0,
                            "ticks": ""
                          }
                        },
                        "type": "scattergeo"
                      }
                    ],
                    "scattergl": [
                      {
                        "marker": {
                          "colorbar": {
                            "outlinewidth": 0,
                            "ticks": ""
                          }
                        },
                        "type": "scattergl"
                      }
                    ],
                    "scattermap": [
                      {
                        "marker": {
                          "colorbar": {
                            "outlinewidth": 0,
                            "ticks": ""
                          }
                        },
                        "type": "scattermap"
                      }
                    ],
                    "scattermapbox": [
                      {
                        "marker": {
                          "colorbar": {
                            "outlinewidth": 0,
                            "ticks": ""
                          }
                        },
                        "type": "scattermapbox"
                      }
                    ],
                    "scatterpolar": [
                      {
                        "marker": {
                          "colorbar": {
                            "outlinewidth": 0,
                            "ticks": ""
                          }
                        },
                        "type": "scatterpolar"
                      }
                    ],
                    "scatterpolargl": [
                      {
                        "marker": {
                          "colorbar": {
                            "outlinewidth": 0,
                            "ticks": ""
                          }
                        },
                        "type": "scatterpolargl"
                      }
                    ],
                    "scatterternary": [
                      {
                        "marker": {
                          "colorbar": {
                            "outlinewidth": 0,
                            "ticks": ""
                          }
                        },
                        "type": "scatterternary"
                      }
                    ],
                    "surface": [
                      {
                        "colorbar": {
                          "outlinewidth": 0,
                          "ticks": ""
                        },
                        "colorscale": [
                          [
                            0,
                            "#0d0887"
                          ],
                          [
                            0.1111111111111111,
                            "#46039f"
                          ],
                          [
                            0.2222222222222222,
                            "#7201a8"
                          ],
                          [
                            0.3333333333333333,
                            "#9c179e"
                          ],
                          [
                            0.4444444444444444,
                            "#bd3786"
                          ],
                          [
                            0.5555555555555556,
                            "#d8576b"
                          ],
                          [
                            0.6666666666666666,
                            "#ed7953"
                          ],
                          [
                            0.7777777777777778,
                            "#fb9f3a"
                          ],
                          [
                            0.8888888888888888,
                            "#fdca26"
                          ],
                          [
                            1,
                            "#f0f921"
                          ]
                        ],
                        "type": "surface"
                      }
                    ],
                    "table": [
                      {
                        "cells": {
                          "fill": {
                            "color": "#EBF0F8"
                          },
                          "line": {
                            "color": "white"
                          }
                        },
                        "header": {
                          "fill": {
                            "color": "#C8D4E3"
                          },
                          "line": {
                            "color": "white"
                          }
                        },
                        "type": "table"
                      }
                    ]
                  },
                  "layout": {
                    "annotationdefaults": {
                      "arrowcolor": "#2a3f5f",
                      "arrowhead": 0,
                      "arrowwidth": 1
                    },
                    "autotypenumbers": "strict",
                    "coloraxis": {
                      "colorbar": {
                        "outlinewidth": 0,
                        "ticks": ""
                      }
                    },
                    "colorscale": {
                      "diverging": [
                        [
                          0,
                          "#8e0152"
                        ],
                        [
                          0.1,
                          "#c51b7d"
                        ],
                        [
                          0.2,
                          "#de77ae"
                        ],
                        [
                          0.3,
                          "#f1b6da"
                        ],
                        [
                          0.4,
                          "#fde0ef"
                        ],
                        [
                          0.5,
                          "#f7f7f7"
                        ],
                        [
                          0.6,
                          "#e6f5d0"
                        ],
                        [
                          0.7,
                          "#b8e186"
                        ],
                        [
                          0.8,
                          "#7fbc41"
                        ],
                        [
                          0.9,
                          "#4d9221"
                        ],
                        [
                          1,
                          "#276419"
                        ]
                      ],
                      "sequential": [
                        [
                          0,
                          "#0d0887"
                        ],
                        [
                          0.1111111111111111,
                          "#46039f"
                        ],
                        [
                          0.2222222222222222,
                          "#7201a8"
                        ],
                        [
                          0.3333333333333333,
                          "#9c179e"
                        ],
                        [
                          0.4444444444444444,
                          "#bd3786"
                        ],
                        [
                          0.5555555555555556,
                          "#d8576b"
                        ],
                        [
                          0.6666666666666666,
                          "#ed7953"
                        ],
                        [
                          0.7777777777777778,
                          "#fb9f3a"
                        ],
                        [
                          0.8888888888888888,
                          "#fdca26"
                        ],
                        [
                          1,
                          "#f0f921"
                        ]
                      ],
                      "sequentialminus": [
                        [
                          0,
                          "#0d0887"
                        ],
                        [
                          0.1111111111111111,
                          "#46039f"
                        ],
                        [
                          0.2222222222222222,
                          "#7201a8"
                        ],
                        [
                          0.3333333333333333,
                          "#9c179e"
                        ],
                        [
                          0.4444444444444444,
                          "#bd3786"
                        ],
                        [
                          0.5555555555555556,
                          "#d8576b"
                        ],
                        [
                          0.6666666666666666,
                          "#ed7953"
                        ],
                        [
                          0.7777777777777778,
                          "#fb9f3a"
                        ],
                        [
                          0.8888888888888888,
                          "#fdca26"
                        ],
                        [
                          1,
                          "#f0f921"
                        ]
                      ]
                    },
                    "colorway": [
                      "#636efa",
                      "#EF553B",
                      "#00cc96",
                      "#ab63fa",
                      "#FFA15A",
                      "#19d3f3",
                      "#FF6692",
                      "#B6E880",
                      "#FF97FF",
                      "#FECB52"
                    ],
                    "font": {
                      "color": "#2a3f5f"
                    },
                    "geo": {
                      "bgcolor": "white",
                      "lakecolor": "white",
                      "landcolor": "#E5ECF6",
                      "showlakes": true,
                      "showland": true,
                      "subunitcolor": "white"
                    },
                    "hoverlabel": {
                      "align": "left"
                    },
                    "hovermode": "closest",
                    "mapbox": {
                      "style": "light"
                    },
                    "paper_bgcolor": "white",
                    "plot_bgcolor": "#E5ECF6",
                    "polar": {
                      "angularaxis": {
                        "gridcolor": "white",
                        "linecolor": "white",
                        "ticks": ""
                      },
                      "bgcolor": "#E5ECF6",
                      "radialaxis": {
                        "gridcolor": "white",
                        "linecolor": "white",
                        "ticks": ""
                      }
                    },
                    "scene": {
                      "xaxis": {
                        "backgroundcolor": "#E5ECF6",
                        "gridcolor": "white",
                        "gridwidth": 2,
                        "linecolor": "white",
                        "showbackground": true,
                        "ticks": "",
                        "zerolinecolor": "white"
                      },
                      "yaxis": {
                        "backgroundcolor": "#E5ECF6",
                        "gridcolor": "white",
                        "gridwidth": 2,
                        "linecolor": "white",
                        "showbackground": true,
                        "ticks": "",
                        "zerolinecolor": "white"
                      },
                      "zaxis": {
                        "backgroundcolor": "#E5ECF6",
                        "gridcolor": "white",
                        "gridwidth": 2,
                        "linecolor": "white",
                        "showbackground": true,
                        "ticks": "",
                        "zerolinecolor": "white"
                      }
                    },
                    "shapedefaults": {
                      "line": {
                        "color": "#2a3f5f"
                      }
                    },
                    "ternary": {
                      "aaxis": {
                        "gridcolor": "white",
                        "linecolor": "white",
                        "ticks": ""
                      },
                      "baxis": {
                        "gridcolor": "white",
                        "linecolor": "white",
                        "ticks": ""
                      },
                      "bgcolor": "#E5ECF6",
                      "caxis": {
                        "gridcolor": "white",
                        "linecolor": "white",
                        "ticks": ""
                      }
                    },
                    "title": {
                      "x": 0.05
                    },
                    "xaxis": {
                      "automargin": true,
                      "gridcolor": "white",
                      "linecolor": "white",
                      "ticks": "",
                      "title": {
                        "standoff": 15
                      },
                      "zerolinecolor": "white",
                      "zerolinewidth": 2
                    },
                    "yaxis": {
                      "automargin": true,
                      "gridcolor": "white",
                      "linecolor": "white",
                      "ticks": "",
                      "title": {
                        "standoff": 15
                      },
                      "zerolinecolor": "white",
                      "zerolinewidth": 2
                    }
                  }
                },
                "title": {
                  "text": "지역별 주문 건수 분포"
                }
              }
            }
          },
          "metadata": {},
          "output_type": "display_data"
        }
      ],
      "source": [
        "# 지역별 주문 건수 계산\n",
        "region_counts = df['Region'].value_counts()\n",
        "\n",
        "# plotly를 사용한 파이 차트 시각화\n",
        "fig = px.pie(\n",
        "    values=region_counts.values,\n",
        "    names=region_counts.index,\n",
        "    title='지역별 주문 건수 분포',\n",
        "    labels={'names': '지역', 'values': '주문 건수'},\n",
        "    hole=0.3\n",
        ")\n",
        "\n",
        "# 차트 레이아웃 조정\n",
        "fig.update_traces(\n",
        "    textposition='inside',\n",
        "    textinfo='percent+label',\n",
        "    pull=[0.1 if i == region_counts.idxmax() else 0 for i in region_counts.index]\n",
        ")\n",
        "\n",
        "# 차트 출력\n",
        "fig.show()\n"
      ]
    },
    {
      "cell_type": "markdown",
      "metadata": {},
      "source": [
        "Q10. 매출액 대비 이익의 비율(이익률)을 계산하여, 이익률이 가장 높은 상위 5개 주문의 정보를 출력하세요."
      ]
    },
    {
      "cell_type": "code",
      "execution_count": 96,
      "metadata": {},
      "outputs": [
        {
          "data": {
            "text/html": [
              "<div>\n",
              "<style scoped>\n",
              "    .dataframe tbody tr th:only-of-type {\n",
              "        vertical-align: middle;\n",
              "    }\n",
              "\n",
              "    .dataframe tbody tr th {\n",
              "        vertical-align: top;\n",
              "    }\n",
              "\n",
              "    .dataframe thead th {\n",
              "        text-align: right;\n",
              "    }\n",
              "</style>\n",
              "<table border=\"1\" class=\"dataframe\">\n",
              "  <thead>\n",
              "    <tr style=\"text-align: right;\">\n",
              "      <th></th>\n",
              "      <th>Profit</th>\n",
              "      <th>Sales</th>\n",
              "      <th>profit_ratio</th>\n",
              "    </tr>\n",
              "  </thead>\n",
              "  <tbody>\n",
              "    <tr>\n",
              "      <th>0</th>\n",
              "      <td>41.9136</td>\n",
              "      <td>261.9600</td>\n",
              "      <td>0.1600</td>\n",
              "    </tr>\n",
              "    <tr>\n",
              "      <th>1</th>\n",
              "      <td>219.5820</td>\n",
              "      <td>731.9400</td>\n",
              "      <td>0.3000</td>\n",
              "    </tr>\n",
              "    <tr>\n",
              "      <th>2</th>\n",
              "      <td>6.8714</td>\n",
              "      <td>14.6200</td>\n",
              "      <td>0.4700</td>\n",
              "    </tr>\n",
              "    <tr>\n",
              "      <th>3</th>\n",
              "      <td>-383.0310</td>\n",
              "      <td>957.5775</td>\n",
              "      <td>-0.4000</td>\n",
              "    </tr>\n",
              "    <tr>\n",
              "      <th>4</th>\n",
              "      <td>2.5164</td>\n",
              "      <td>22.3680</td>\n",
              "      <td>0.1125</td>\n",
              "    </tr>\n",
              "  </tbody>\n",
              "</table>\n",
              "</div>"
            ],
            "text/plain": [
              "     Profit     Sales  profit_ratio\n",
              "0   41.9136  261.9600        0.1600\n",
              "1  219.5820  731.9400        0.3000\n",
              "2    6.8714   14.6200        0.4700\n",
              "3 -383.0310  957.5775       -0.4000\n",
              "4    2.5164   22.3680        0.1125"
            ]
          },
          "execution_count": 96,
          "metadata": {},
          "output_type": "execute_result"
        }
      ],
      "source": [
        "# 이익률 계산 (profit/revenue)\n",
        "df['profit_ratio'] = df['Profit'] / df['Sales']\n",
        "df[['Profit', 'Sales', 'profit_ratio']].head()\n"
      ]
    },
    {
      "cell_type": "code",
      "execution_count": 97,
      "metadata": {},
      "outputs": [
        {
          "data": {
            "text/html": [
              "<div>\n",
              "<style scoped>\n",
              "    .dataframe tbody tr th:only-of-type {\n",
              "        vertical-align: middle;\n",
              "    }\n",
              "\n",
              "    .dataframe tbody tr th {\n",
              "        vertical-align: top;\n",
              "    }\n",
              "\n",
              "    .dataframe thead th {\n",
              "        text-align: right;\n",
              "    }\n",
              "</style>\n",
              "<table border=\"1\" class=\"dataframe\">\n",
              "  <thead>\n",
              "    <tr style=\"text-align: right;\">\n",
              "      <th></th>\n",
              "      <th>Category</th>\n",
              "      <th>Sub-Category</th>\n",
              "      <th>Sales</th>\n",
              "      <th>Profit</th>\n",
              "      <th>profit_ratio</th>\n",
              "    </tr>\n",
              "  </thead>\n",
              "  <tbody>\n",
              "    <tr>\n",
              "      <th>2323</th>\n",
              "      <td>Office Supplies</td>\n",
              "      <td>Binders</td>\n",
              "      <td>76.30</td>\n",
              "      <td>38.15</td>\n",
              "      <td>0.5</td>\n",
              "    </tr>\n",
              "    <tr>\n",
              "      <th>1708</th>\n",
              "      <td>Office Supplies</td>\n",
              "      <td>Paper</td>\n",
              "      <td>7.42</td>\n",
              "      <td>3.71</td>\n",
              "      <td>0.5</td>\n",
              "    </tr>\n",
              "    <tr>\n",
              "      <th>4578</th>\n",
              "      <td>Office Supplies</td>\n",
              "      <td>Binders</td>\n",
              "      <td>113.10</td>\n",
              "      <td>56.55</td>\n",
              "      <td>0.5</td>\n",
              "    </tr>\n",
              "    <tr>\n",
              "      <th>4584</th>\n",
              "      <td>Office Supplies</td>\n",
              "      <td>Envelopes</td>\n",
              "      <td>76.58</td>\n",
              "      <td>38.29</td>\n",
              "      <td>0.5</td>\n",
              "    </tr>\n",
              "    <tr>\n",
              "      <th>6463</th>\n",
              "      <td>Office Supplies</td>\n",
              "      <td>Labels</td>\n",
              "      <td>74.00</td>\n",
              "      <td>37.00</td>\n",
              "      <td>0.5</td>\n",
              "    </tr>\n",
              "  </tbody>\n",
              "</table>\n",
              "</div>"
            ],
            "text/plain": [
              "             Category Sub-Category   Sales  Profit  profit_ratio\n",
              "2323  Office Supplies      Binders   76.30   38.15           0.5\n",
              "1708  Office Supplies        Paper    7.42    3.71           0.5\n",
              "4578  Office Supplies      Binders  113.10   56.55           0.5\n",
              "4584  Office Supplies    Envelopes   76.58   38.29           0.5\n",
              "6463  Office Supplies       Labels   74.00   37.00           0.5"
            ]
          },
          "execution_count": 97,
          "metadata": {},
          "output_type": "execute_result"
        }
      ],
      "source": [
        "# 이익률이 가장 높은 상위 5개 주문 정렬 및 출력\n",
        "top5_profit_ratio = df.sort_values('profit_ratio', ascending=False).head(5)\n",
        "top5_profit_ratio[['Category', 'Sub-Category', 'Sales', 'Profit', 'profit_ratio']]\n"
      ]
    },
    {
      "cell_type": "markdown",
      "metadata": {
        "id": "Ze1T6Ghp1Hk6"
      },
      "source": [
        "#### ✏️ 실습 과제\n",
        "> sample_superstore.csv 파일을 사용하여 다음 문제를 풀어보세요.\n",
        ">\n",
        "> 시각화는 plotly.express 라이브러리를 사용하세요."
      ]
    },
    {
      "cell_type": "markdown",
      "metadata": {},
      "source": [
        "1. 'Quantity' 컬럼의 분포를 히스토그램과 박스플롯으로 시각화하고 분포 특성을 설명하세요.\n"
      ]
    },
    {
      "cell_type": "code",
      "execution_count": 104,
      "metadata": {},
      "outputs": [
        {
          "data": {
            "application/vnd.plotly.v1+json": {
              "config": {
                "plotlyServerURL": "https://plot.ly"
              },
              "data": [
                {
                  "name": "판매량 분포",
                  "nbinsx": 30,
                  "type": "histogram",
                  "x": {
                    "bdata": "AgMCBQIHBAYDBQkEAwMFAwYCAgMEBwcCAwIDBwIDAgYGAgMHBQkDAwQEAgICAgQDAgYGAgEHBQYFBQICBAECBgMEBQgEAgEDCAIBAwMDBQEDBQEHAwIBAgcDAgECAwIBBwMGBwMDBAYDAwgBAQUCAgYOAgMGAwEDBAYJBwMGAgcCAwUCCQMBBAIDBg4CAwMDAwcECwMIBQUCBwQGAwICBwECBQIDCAMJBgUDAwIHAgQEBwUBAgcEBQICCAMDBAYIAwUHAgMDAgMDAgECBwQEAgQJAQICBQMJAgYDAgYEBAQCAQUBAggHAgMCAwMCBQUDAgUDAgcCBgUEAgENBgQJAgUGAwMFAgMHBAIDBgEDBAcDAwIBAgQGAwUHBQUFBgcCBQcIAgMIAwMFAwUIAwQBAwIDAwYBBAIBAwMCAwQBAgYEAQIGAQEDAgQKBgICAwECBAIDBAQKDQwEAwMCAgECAQQEBgIEBQUIAgIDAggEBAIHBAUDBQgBCgQHAwMEBwMCAwMEAQEEAgIDAwMCAgQDBAQCAgYDBQMFBwEJAQ0CBwQIBQEEAQYEAwQCCAEGAgcFAgUCBQMHCAMBAwMEAwcBAwMGAwMEAgIEAgMCBAkDBQYFAgIHAgMBAwIEBgcFBgMFBQMCAgIFBQYBAgIFAwIDAggEAgkCAgIDAQUBAwMFAwIDAwIFAwIDAQIJAgMCBQMDAwEGAQMFBQIHBAMEBggJAgEEBgIJAwUCAQMCBAIEBQMHBQMCAQMIBwMDBwQHAwMOBAICAQQDAgMHBAEDAgQDAgIDAgMFCAIDBAIBAwMEAwIJAgMEAgkKAgICCQEDBQIFBAkHAgUDAwUEAwMDAwMFBAMCBwQBAgUCBAMECgIIAgICAgIHDgUDBQMDAwMFAwEIBQMFAwMDAwMDAgQEAgMCAwIBAQMBBQgEBwQBAgMDAwMCBQEEBQgBBAYCAwUCAwMGAwMDBQcCAQgCAwMCAwMGBAEFAgMDAgUBAQQKBAEDCwcBAwQEAgQDBAkDAwIDBgMGAgICAwUBAgcHAwMEAQUCAQIDAgIEAQgDBQIEBwcCBwUBAgkCAgMEAgMEBQQCAgcIAQgDBQMEAwIEAwcEAgIDAgECAgEEAgMDBAQEBAICBwMEBwIGBgIDAgoCAQICAgYCAgEBBAYFAwMCBwUDAQMEAwUCBAUCAwwHBgUDAQQIBwMCBwgCBQQDAwICBAcDBAcCBgEJAgQDAwECAwEFAgMFBAIDAwMDCAYDAgECBAICBAUDBQMHBgwDBgQCAgUBAgMCAgICAgIDAgQDAwYDAgMHAwICAgMGAQIFAgQDAgUDBQIDBQcDAQMFBwIHBwMDAwMDBQIEAwENAQUCAwUFAwMIAgIDAwIFAwMJBQMCAwIDBwMEAgMFCQ4FAwwBAgIJAgIDBAQCAwIDBwMDAQUEAQQHAwIFBwIHAgMBBAkIAQIHAQMBAgIJAgUCBwcFBAMBAwMDAwYCBQwDBQICAgECAgUFAgIHBwQDAwMBBgQBBQMEAwMIAgIHAgIEAQIBAgICAQIGAgcCBwMCAQMCAwEDBQQJAgMDBAIFBAYDBAIDAwcCAQUHBgQCBAgDBAQDBAIBCQQEAwMDAgMFAQMHBwIEAgIBAQMCAwcJCAMBAQQDAgIBAgICAgMFAgMBAQIEAwQJBgwDBgkNAgQCAwECAwMIAwQDAgUDAQYDAgQDCAIFAwEDAwQDAwEDBwUDAgQDBAUDBQENAgIFAgYDAgEDBwcDAgMCAQQCBggFAQIGAwIFBAMGBgEEAwECAwIIBAMCAwgCBQYDBQIHBgoGAwIFAwEDCwMBAgcEBA4CBgIEBQcDAwIEBQMIBQUFAQMBCQUDAgIDAwMDBwMFAwQCBAECAwIFAQMCAgIDAgIEBwMDBwMEBAICCQYFBAIFBQ4IBgEOBQYCAwUFBAICBAkEBwIDAwEHAwUIAwMJBAICAgIGAgQDBAMCAgIDBAYDBwcEBAcDAgEDAgcDAwIEAQYCAwcBBQUDCQMCAgQGAwQDAggJAwUEAQQCAwcFBgUIBgYCAgcCAwEDBgIDAwECAwcFBgMEBwQCAgEGAgcFAwQBBQIJBgEFAwUDAwQDAwUDAQIDBQIBAwIJAgIDAgUDAwQEBwUEAwMCDQQBBAICAwYFAwUBBAMCAgIHAwEEAwIBAggCAgUDBQYFBgMCAgICAwUEAwICAwIDBwICAgYBAgIGBAICAwcDAwIFAwUDAwIDAwQDAgQCAgMDAwEDAgQBAwICAgICBgUFBQIEAwICBwYCCQIFAwIGAgIBBQ4GBwICBQUECAQCBAMDAgQFBAMIAgMEAgUDAwIFCAQCAgcCCAMCAwICCQICCwYGAgMEBgMCAQkCBAUEBwIGAgkCAQkFAwECAwQGCAMDAgUBCAQCAwgDBgUEAwEBBwIHBwcHBwMHBQIDAgICAgIGBAMBCgQBAwYCCAEDAwcFBwMEAQIBBAIDBgIDAgEFBQcCBQMFBAIBAgQEBQMDBQYCAQUCAQECAQMEAwkDBwQHAgMCCAQDAgEBAQMCAgIEAwYCAQICCAIGBAIDBwMFAgMDBQIFAgIJAwMCAwIBAQMBAwUFCAMCBwQDBAIJBAICAgEBCAMGBQMCAwQDAwUGAwUDAgMFAwQDBwQCAwMFBgIEBAIEBgMEBAMHAwMEBgIDBQQEAQUFBwMFAwcHAgMCBAIDAQIEAgIEBgkDAwQFAgIEAwUEAwIBAgMDAgMHAgUGBwMCAwEHAwQIBQYDBQcBAgMFAg0DBAMJAwQDAQUCAwcDBQcFBwICBgIEBQUDAgIDAwUBBQgEAwMHAwQEBAIDAQEDAwUEAwQCAQEHAQUDAwIJBQcDAwQECQcDAwcEBQQDCQIDBgIHAwQGAQUDBwMCAwYDAwQDAQEDAwIFAQcDAwMCAwMEAgkFCAcDBAUFCAICBgIJAwMDBAMFAgMDAQYHAgMBAwcEBAcKBgEBDQIEAgQBBAIIAQMBAgEBAgIFBQQHAggFAgEHAwICAgEDAgUFBgMDAwIDAgcCAQMBAwIBAgICAQEFBgcCAQMFAQQCCAIHAgcDAgUFAgMGAgEDBAUBBwQDBAQEAwIDBQEEBQEDAgIFAwcDBAcDBAUMAwECAwQCBQUBBgMHBAQCBwUDAwkFAgUGAgIDBgcFAQMHBAMHBAUCAgQBBAYCBAgBCQIDBAIFAgIHBAkEBAICAgEHCQQCAgIFAgYHBQYFBwkHCgUDCAIFAgMFAgUDCgIBAwIHAQINBAQHCAIHBAIDCQIEAgUCBAUGAgIFAwUFBgMDCAgBBgMCAwMFAgEBAQQFAQgEBAIFBwQDAwECBgQFBQICAwMEBAYHBQUIAwIBAwIEBAIEBQgEAwYEBgUEAgIJAwcGAwIBBAkCAwYCAgUEBwQGBAIEAQYDBwMDBAQBAQUIAgYCBAcCCAIHBQIEAgECBAUJCAIEAgcFAwUCAwMIAwINAwICBwEBAwIDAggCAwMCAwIHAwMBBAEBAwEFAgMDAgMGAg0DBAMFBAQIBQEEBwoDAgIBAgUCBAMDBAEGAQgDAwIGAwUDAwMDAgIFAwQLAgIBAwIDAQEEAwYCBQMFAQcCBQUEAwEJAwIFBQQDAwMFAQIEBgQDAgMDAwYCAwQHAwIECQMFAgIDAgMDBQUFAgUEAQcDBAECAQQDBwMCBAIFAgYDAQMEAwMLAgIDBQUCAwQEBQEFAwUCAQgCBwMFAwMCAwcCCAMECgICBAQCBQcFAgMBDgQHAwQCBQUBAwMGAgICBQIJBgMEAwUBAgYFAwMCAggCAgIGBQIFAwcCAQMFAgEEBwIDCAMDBgMGAQQBBAMHBAIEAwkHBAMHAwQFAwIDAwEIAwIHAgIDBgMFBAIFAwIFBQIDAgULAwUEAgIEBwUHAwICBQMDBAUEAwMCBAEFAgcCAwEBAQMDBAQCAgEBAwEHBwUDAQcDCQEHAw4FBAUCAgICAQMBBAQDCAICBQIGBAMGCAIEBQIEBwIGBAIEBAMBBAIJAQQFBwMEBAUEAQQDAgIFBAEDBQMDBQUFAgYEAggDBwMDAwUCCwMDAgUEBAEEBAYHAgUCAwUCAggFBQEHAgQCBAICAgUCCgICAwgDAwgIBQcGBAcDBQICAwUCCAIDAgMBBAICAgUHBwUDBAIIAgQEAwMGAQcGBAYDAwEIAQMFBgYFBAUCAwIFAgIEAgQCAgUEAgMFAwECAgMDAgUGBwQDBQUDBgICBwIDAgIFAwUCBQMJAgMFCA0GAgUDBwICAgMCBQIDCQMDAwcBBAMBBwMGAwMDBAcDBAgBAggFCAUJAwcLAQIGAwMCBQQBAgICBgIDAQEFAwECAQEDAwUHAwUNBQMDBQMCAgcDAwIBAwIDAgIEAgcDBAIDAgEDAwgFBgMGBwECBwUCAQMHAgMDBQUBAgMCCAsHBAMBAQYDAwMCAwMCBgUHBQICAwUJAwcDBQMDBQEDBQgCAwMDAQQEBAMJAwUDAQMJBAUFBQQDAwICAQIBCQICBAMDAgMCAgMCBAUGAgMFBAIJBgMJAQMHBQQDAgYDAgQCAQYEAQQBBgMDBwQCAgIIBAIJAgQCAgECBQICAggHBAIECgQCBgMCCQMGAgMCAgYBDgMHAgUCAgIFAQICBAMCAwMCAgIEBwEBAgIJBgMCAgIBAgUFCQIHBgIFBAMEAQICBgUDAgQFBAIGBQMDCQIDBAIEBAMCAgcJAwMDCQIEBwIHAwgGAwMIBAMFBQQEBQIDAwMFBwMCAQgIBwIBCAMGCAECBgcCBAQEBQIEAgIDBAIGBAEBAgoDAQEBBQgBAgICAQIDAgEMAQMDBQEDBgMBCQIFBQIEAwMDAwICAgIGBAUCAQUDCAUCDAIBAQcDBwIIBAcCAwQHAQcHAgIBBQEEAgYGBQQDCQIBAwQDBQMKAgcEAwUKBQIDAQYCAwIEAwIDAwQJBgcDAgYFAgEFBAcGAwIFBAECBgMDBQMCAwcDBQEDAgUFAgUFBAIIBQMCAgIDAgcBBwQBAwICAQIBBAkDAwUDAgQCBQMDAgUHBQcCAgIFAgMDAgEFCQIGAgMDAwIHBgMCAgMDBAICBwEDBQYDBgMBAwQDAwUBAQMCBAEFAgMFAQMCBgUCAgMHAwMCBgYCCQoFAQICAwIFAwIDAgMJAwMCAgIGBQMEBQcCCAEFAwUDBwMBAwMEBQIGCQEHAgQDAwcCAwUEBAICBgQDBAMCAwICBggHBQUDAwICAgIOBwQEBAUCAQUDAwIFAgIEAwQEAwYFAgMCBQUBBwMCBQUCAwMCBQIBBQcDAQECAgIGAgICAQQDAwIDBgUDAwMDBAcICgkEAgUIBwQDAgIDAwQFAQMEBQUCAwMDBgMHBQEGBQsFAwMDAQQGAgsCBAQDAwUFAgkDAwMFBQQEBwIIAwQGBQQDBgIFBAYDAwkGBQMCAwoDAgMCCwQGAQUHAwMDAQkBBQMMCQkEAgIGBAQCBAMDCQEDAwMCAwMJAgMDAgcEAwUFBQIBAQgCBQICAgMCAQMBAwMFAgMHCAQGAwIDAwYGAwQFAwMJAwUHBwYDBQMJBwMBAwMBAQQFAwMEAwIGAwMDAgQDBwkDBAIGAwcCAgICBQMFCQUEAwMBBgcBAgEDBQIDAgUDBAQBAgYHBQICAgMFAQIDAgIDBAMIAgIGBQIDAgMEAQEJCQMGAQMJBAcBAgQDAwMDAQUFBgQHBwICAwQDAgICBQQBAwgDBwMFBAsECQEBAgIHAgUCAgEDAgIBAQUDAgkBAwUDBA0CBgIFAQcEBQMCBwQDAwQCAgMDAgYDAQIDAgMDAwUJAwUBBQYCAQIDAwECAwYGAgQCAwIIAgIEAggHBAIBAgIDAwQEAwoEBgUCBQIFBgUDBQICAwMFBAIFBAMHAgMDAgUBAwICAgUDBQIDAwMCAwECBgMDAwECBQgDBAUDAgMFBgIDBgMEAwUBAwEHAwIEAQUFBQUGBAUCAQMFAgUEAgIFAgECAgQDAgEJAgICAwEDAgMEAgMCBQcCDAMCAwMFCQMDAgIHBgkGBAICBQUGBwIDAwEBAwICBgEBBAUHBAgDBAMHBgIFBAQCAgMDAgIDAwMEAgcHAgkCBwIDAQQCAwMDAwQEAQIDAwMFBAYDBgQGAwMCAgcEBQIBAwsGAwgCBwUGAwMHAgIDAgMDCAMFAQkEAQQCBwEDAgcIBAMFAwkDAgMGAwUDBAIDBQIFAwIFAwYBAwQDAggBBAQCAgIDAwkFBQQCBQECAgICBwMGAwEJAgQCCgcFBAQBAwIEAQwCAgkJBAQCBwkFAgMDBQIEAwIJAwICAgECBwIEBQMCAwEHAgICAgMHBwIDAQMCAwQDBwMGAwMDAwICAgIBAgMDAgQCAwMDBQMDAgQCAwIHBAICAgIDBAEFAwQDAwgBBQIEAwMHAQQDBwUFBAMECQUFAwMEAQMDBgMFAgIIAQkCCgMDBAIDBAMDAwICBAIIBgYHAwMEAgMDBgMCAwUCBAIGBAIDBQQCAwULAQIFCAYDAwMDBAkHAgYBAwMGCwMDAgcCBQMBBQIDAwIECQQFAgUDBgMGAwICAgECBAICCAQBBgMDBAUIAgMHAgUCAgMHAwMCAgICBgICAQMDBQMCAQIDAwcFAwUJBAIBAgICBAcDAwIBAgcDAgIJAQEBAwMEBAMCAgECAgICAgkFAgYDAgQCAwUFAwYCAwQFCAgFBAEEAQUBBQQCAwUCAwEGAwcDBwYHBAMDAgMCAwQCAwIDAwMBCAMBBQMCBQQCBwMECQUEAwUHAgICBAUDCQUGCQIJAgMDAgMHBQEDAwYCBAIFBQIDAwEEBAMEAgcBAwIBAwMEBQQDAgIDAgEDBgMEBAkFBgYECQMDAQEDBwkFAgMCCQcEAgEDCQgDBwQFAgQDBQIGCAECBAQEAwMCBQEDBAMCAwICAggCAwIDAwMDAwUDAwECAwIDAgICBwMDBwYIBAcGAgIFBwQDAwUDAQMHBwMCAgECBQEDAwMDBQUCAwUHAwcFBwMFBgICAgUBBwYBAwMDAgMCAgMBAgMCCAMEBQQDAgICAgYFAwMCAQQDAgMBBAQFBAcEAwQFBgQBAgIDAwMJCAMEAgUGAQEIAgEIAgMKBgYCAgUDAgMFBgQCAgQJAgEEAwcEAgIFBgIDAgIBBQQEAwEEBwUGAgUBBQEEAwIDBQkEAggGAgUBAgIIBQYCBAEDBAEDAgMDBwIGAwcEAwYFCAIDDgkDAwIDBgIHBgcFDAMFAgIEAQUBAwQBAwEHAwUGBAICBwIDAgMFAgUGBQMCAgEEBAUDAgUDAgECAQ0DAQYFAwUCAgUGAQIFAgYIAQMKBAUFAwMDAwUFAgcCAwUDAwEBAgQCBAMEAwMDAwICBAQEAgIDAgYCAQMDBAIEBQICBAMDAgMECgIDBQQGBAwCAQIFAwQGAwMDAwMCAwICAwYGAgUCBAMHAQYDBwECAgIBBQMBBQQEAgUBAgMBAwQDAQIGAwIFCQEFAgQDAwUCAwICAQcCAwIDAwIFAwEFBgIBBQICAwIJAgUFBgIEBQECCwQCAgkGAwkDBgIHBQUDAwYDCQQEAwUFDgMFBQIFAQEEBAIDBQQDAgkCBwECAg4DBAMCAgIGBAMHAgEBAwcFAwUGBwMJBQEFAwIJAQEGAwUBAQEDAwMDAgcDAQMFBQMHAwUFAwQCAwkHAwMCBAQJAwIDAgIDAgECBAMHBwIDAwUDAwUEAgQFAwMEAQMECgYDBgYBBAMEAQIHAQMBAwEDAQQEBgYHBwUDBwECAQIJBAMCAgQCAgMEAwMCAgQEAgMDAQQDBAkEAgEFBAMEAQICAgEEAwUFAwUEBQUCBAUEBwUCAwIDAQMDAgcDAQUCAgICAwIDAgUBBgQHAwEHAwMHAwYEAgkJAgMDAwECAgECAwEDAwUEBAEJAwMEBQQBAgMDAwMDBQcCBAYFAwICBAIHCggBBAMDAgMDAgUDAwEEDAIEAQUEBAUEAwIGBAUCBAUFBAMECQIEAwYDAgECBAMBAgUCAgoFAgICAgYGAgQGAQUHBwMFAgUEAwMEBAMCAQQCAwMDAwYDAwUIAgcDAQUCAgMCCAIFBQIDAQQFAwIEAwYEAwMDAgMHAwMJBQcFBQMEBwEIAgUCBAMFAwMGCAgBAQMCAgIDAgYCAwMJBQYJAgEGAwECAwIJAgQCAQMCCwIFAwMCBAIFAgMHAgYJAgYEAwMDCAICBAUCAQYEAwIOBQIEAwYGAgMFBAIGAwQEAgIGBQoEAgMBAwMMBAMEAwUDAwIDAgIDAgUCAgQHAgQCBQMCCAUKAwYGBAkDBQUFAgMHAwIEAwUIAgcEAQIJBwMDAgEDCAMGAgcJBAcDAQQDBAMEAgMLBQUDBAMCAQgCAwYDAgEDAgEBCQMIBAECAwQDBAcDBQIJAgUBCQUHAwMFBwICAwICAwUFAgMDBgQIAgMDAQYFBAMDAwIFAwEHAQMDCAEDAwEEAgMCBQYCAwIDBQQBAwUEAgMDBQQFBAUEAgQEAwICAwUBAwIFAgEBAgUFBAEGAgcFAQgBAQIFBQIEAwMCBQICAQUIBQQEAggBAgIFAgICBgQBAgIFCAYCAQMDAgcFBQMBAgMGBQEEAgIDAwMHCAMEAQIDAgYHAwUFBAUDBAUFAwIFAwYFAQECAgEDAgIHAQcCBQUDAgUCBgcFBQYCBwoDBAMCAQMFBwICAgYEBAMOBQQCBQQCAwIDCQ4GBgcDAwMEBAUDAwYEBwIDBQoCAQQDBwIBBQUEBAMDBQEFAwoDAwEFBgIDAQUCAQYDBgQCBQQDAQEBCQUBBQMCAwQEBQIDAwMCBAgIAwYHAQMDAwYEBQYDAwIDAwUCBwUBAQIDAwgGAwMHBAYDBgMCAwUDAgYEBQYFAwYIAQQEAg4FAwUBAQsEBQMGCAYCCQQHBAMCBwIFAgQFAwECBQIJAgIHBQcFBQICBQICBwQGAgUDBwEEAwIGAQIFBAQFBAYLAwMDAwECAgMEBAIDAwcDBAMIAwYDAwYGBAQDBQIDBgMDBAUGAwQEBAICAwMJBAMCAwMGBgUFAQMCAgICAgQFBAYCAQMCBQIDAwIFBwUFAwIBBgQDCQMCAggEAwEFBAMHBAUBAwIDAgIBBQECAwICAgIBAwMCAQIECAIDBQMFAwICBQkCAgUCBwIDBAMBAgUBBAUFAwMDBQQCBAECBAYHBAMEAgMDAgULCAMCAgUDAgkCCQMBBQMCAwYBBQUJAwUIBAIDAwgHAwQEAgIFAwcGBwUEAgUBAgICAwIDBAIBBgQFAwIHAQUCBwwDBAMHAQECAgIDAgIEAgUEAwUEBQICAwcDAgMEBQIFAQEDAgMFAwUCAgkDBQICAgQCAgQCCQUEAwUBBAQCBQUCAwUDBwUEBAQCAwIEBwIBAgICAwEFAgEDAwIDAwcDAQMJBgkGBAIFAwIDAwMDAwICAwIDAgUEAgIBBAMCBQIBBAUDCQcDAgIDAwIDBwYCCQECAgEFBAIFBwkEAwMFAgkFAgMEAQMDAgUGBgIFCQYDAgMCBgMJAgIEAgIFAgYCAgEDAgEHAgMDAwMFBAQHAwQCAgMFAgQDBAUFBQEDAQMDAwICAgcGBQEEAQIEAwUIAwIEAwoDAgMFBQMIAwIDAwMCBQkCAwQCBAMDBAgGBAIFAgICAQcFAwICCwIEAgMMAwMFBAMCBAIDAwMDBwQFBQYDAgIECAICAwMHBwcGAgkHBQMFCAIDBAMDBQQCBgUHAQcFBAcCAwQCCAIEAgMFBwoCAwcCBQMFAgQBAwMJAgkCBwECBgUEAgYDBQICAwQCAwMFAgIIAQMBAwcFBQMCAgMFAQIEBwYBBwIDAgIBAwICDQMGBgQBAQMGBQcIBQUIAQIGAwMDAwMIAgIHAwICCwMHAQMEBgMDBQUCAwIDBg4DAgUDBQMFAgMGCQQBBwQFAwIDBQgBAgECAQIFAwUBBQUCAwQDAgIDAgIEAwMFAwYFBQUFAgMCAwECAQUFAwUFBgIEAgIBBwkEAgkCCAIIBAMCBAIFBAkCAgIEBAEBBAcBBQUJBAIGBgMFAgIDBAQDAwMCAQIEAgICCQUFBwUCBQQFAQICAgYCBwUGAwYDAwMEAgUDAgIBCAgCBgYFBgcFAQMDBgMEBwUGAwMDBgEEAgQBAwQJBAMFBAECBAIBAwgDAwIHBQMEAwMHCQIDAwcEAwIDBQUGCgIDAgkCBAcDAgECAwkCBQEFBQQDAQUJBgIFBQcHCAEBAQMDBwIGBgQEBQMCAgQJAwMCBAQEAgQEBQMHBQUEAQkDBgMCAQMFBAMDBAMEAgYBAwkBCQEIAwMCBgQHBQQCAQMGAgIDBAMDAgMDBQMCAwYDBQIEAwICAwEBAgMDBAMEBAIEAwMECQUCAQIEAgMDAgYDAgIDAgICBwUEAwMCAgEJAwUFAwUCAgIFAwMBAwMDBAQDAgoCAgEDAwgDBQIFAgQFAwEDAwIEBAECAgcDAgEDAwYCAgMGAwgGCQMDBQEEAwMDAwMCBQICBAICAwQCAwsEBQwCAwMCAgICBAQCBQMEBAICAwQCBgMCAgQCBAICBgECBAIGBggCBwMFAQUJAgUDAwUCCAcGBQIBBQICAQoCAwgDAgICBQMEAQICAgMFAwQHAwEDBgMDBQIDAgMJAwgCCgkHAgUDBQYGAwIEBAIEBQQFAwEFCAQECAQDAQEEAwICAwMDAwMBAgQFBQMFBQQDAQIEAgMGBgUMBwQEBgcCAwIMBAMFBgcFCAEDBgkBCgIDBQUBAgEBBAYDBQMCCQIGAwMGBgIEAQkFAwMHBQEGAwEFAgkFAwIFAgQDAgMCAwYFBQQEBQ4CAwEDCAYDBQcKBQMEAgkHAgUDBAIFBQEDAwIHBwYBBgQEBgIFBAIFAwEFBAIDCwMEAgMCAwUCAgQDAwMHBwkICgQDAwQEBgIEBwICAgMEAgICBQMFAgYCBgcDAwcHAgMHAQYEBAYFAgQIBQMBAwEECQMBBgQHAwICBAUDBQEFAgMEAgEBBgQCBQMEAQECAwMCAwQCBgIKAQICAwMHBQICBAUCAQIEAgMIAwMFAgICAgUCAQQIAwUGCQEEAwQDBwIBBAQCCAQBBwkDAgMDAwMCAggDBgUHBgIBAwQCCQICAwMCBQMCBAUHAgkDAwQHAwIHAwEIAQICAgUFAwQHAwEEAQUDBAkCBAUGBQMHBQMDBQEKBQECBAUFAgMHAgYCAgUDAgQEAgUDAgEDAQYGAQEDBwMCBAMCAwEFAgYCAgMFAwMHBQIBBQMCBAQFAgcFBAQHBAoDAwUDAQQCAwUCBQgCAgYFAgoEAgUCCwIEAgMEAgEDBAQCAwgBBQQDBQIDAwMDBQMCAwQDAwIGBAIDAQEEAgEEAgICAwIFCgICAwUIBwMIAwEDAwMCBgICAwIECQUDCwECAgIEAwwCBgEDAw4BBwIGAwICAgQCBwMCAwQFAwIFAgcCAQQCAwQEAwQDCAcHCQMJAwMCBQMGAwQGBw0CAwUCAwQBAgIBAwICBQIHBQUCAgMCAwMEAgEEAwMCAQcCAwUCAgQCAgUCAwIDAgMHBAUCBAYFAwMFAgIEBQYDAgUFBwUDBQYLAQcBAwIFAwUDAgIEAgECAQYFBAYHBQUFBAEEAwICAwMGAQUIBQcFAwIHBgIFAgMCAgUFAwEDBAIICAEFAggBAgIEAwMDAwYFAQQCCAMCCQIHBgQDAwIDBwMDAwUEAwUEAgUDAQMEAwICAgMCBAMGAwICCAMDAQgBAgICAwUEAwQEAwYCAgUIAwMCBgQDAgUDBAMCCQcCBQUEAgIFBQICAgMDAwIDBQUEAwUDAgYEAgYEAgICAgMDBQcCAgoCAgECBAMFAwIDAwIFAwMFAgEKAgIEBQMDBgIFAQMEBAQGAwUCAgUMBAICBQIBBAMLAwcCAwQDCAIJAwcCCQIDAwMEAwIDBAMCAQMJBwgDAwkCAgYEBAIGAgIDAwQEAwMFBAIDBQMCAw4FAgUCAwcDAwMDAwUBBgIDBwUEAgMCBQUFBAIDBQIBBwEJAgIBBwcCAQICAQIDBAUCAwUCAgIHBQIHBQUCAgcFAwEDBggGAQICAQQCBwUFAgEDAwIGDQMBAwQDAwMCBAQCAgQEBAIDDQEEAwMCBQUFAwMCAgQCAgILBwMHBAQGDQMEAgIDAwMCAgUGAwQDBAEGAwIDBQICBQMFCAMGAgYCBwUHAgMDAgUKAgMCBwIFAgQDBQICAwQHBQcBCQMEAgMHAwICAwUDAQMCBQcCBAIJBQMCBg0EBQICBwIGAg0JAwUHAwMCBAEDDgICAQMDAwMDAgEDAwMEAgEBBQIEBgICBwIHBAIFBgEBAQMFCAMIAwEBAwMCAwcFAQIHAwMEBAYCBAMHBAMJBgkDBAcDAQIHAwMGAQIFAwEBBwgCBQIBAwIDAwIDAwMFAwcCAQMHBgMEAwcGAgQHAgIFBAIDAQMDBgEDAwEGAwQCBAMCAQIDAwEFAgIEBggCBAcCAwQBAgIEAwQIAgMEAgEEAgMEBAMCBQEGAwUDBwUFAQIFCAIEAwIDAwICBQMBBwYHAwQCAgYCAwQDBQcGAgMCAgMBAgEFBAgEAQMBBQEIBQICBgEJBgQCAgYFAgIJAQEFAQUCAgMDAgMCBgYFAwMGBQUIBQECAgcDBAICBAICBQICBAMGBQQCCQMGAwIBAwUDAQMGAgQGAgYCAgICAQIFAgcCAwUDBQICBgoJAwMCBwgDCQcCBgEBAwoDAwkBBwICBQMGCQMBBQYOAwMDBAIDAwMFBQMGAgICAg4HAgIDAgUCBwMFAgMCAgICAwMGBAcFAgcCBQUCAwMCAgcFAgQGAgIBBQMBAgUDAQUFBgEEAQUEBAMJBQUCAgMCAwMBCAUFAwQEAwYDBAkEAgEHAgIDAwUGAgQCAwMCAwcCAwYIAwcJAgQCDQUFBgIHAgIEAwgJAgYCAgMBBAQFCQIDAwIDAwcDAwcFAgUBBAYDAQIJAwYIAgEGCQUEBAMLBgIEBQQDBAMCAQUDAwMDAgMCAgYFAgIEBQUCAgMDDQIDBwUCAgUIDQIBAQICBgUDBQUDBAICAgQCAgMBAgIDAgUEBQIDAgIFAgEFBgUEAgUBCAMECQUCAwIFAQIDBQUDAQIGAgEDAwICBAIDBwIBAQIIBAIFBAQDBQUHBAcCAwoCAwMEAwQCAwMEBwEHBAIFAgEDCAIEBAcDBQUFAgIDAgUEAgYIBQIEAgQBBAIHAwICAwICAQICBAUDBwMDDQIDAgMCAQMCBwUEBQsCAwIBAwMBAwIHAwMFAwIHAwMCBQEDAQUHAwQDAQgCBAMFAgQHAwMDAwIFBAcOCQUDAQMGCAMBAgIBAwIFBAICAQIEAgEBBwUCBwIFAgUHAgIHBA4BBQcCCgQBAQUDAgIEAg==",
                    "dtype": "i1"
                  },
                  "xaxis": "x",
                  "yaxis": "y"
                },
                {
                  "type": "box",
                  "xaxis": "x2",
                  "y": {
                    "bdata": "AgMCBQIHBAYDBQkEAwMFAwYCAgMEBwcCAwIDBwIDAgYGAgMHBQkDAwQEAgICAgQDAgYGAgEHBQYFBQICBAECBgMEBQgEAgEDCAIBAwMDBQEDBQEHAwIBAgcDAgECAwIBBwMGBwMDBAYDAwgBAQUCAgYOAgMGAwEDBAYJBwMGAgcCAwUCCQMBBAIDBg4CAwMDAwcECwMIBQUCBwQGAwICBwECBQIDCAMJBgUDAwIHAgQEBwUBAgcEBQICCAMDBAYIAwUHAgMDAgMDAgECBwQEAgQJAQICBQMJAgYDAgYEBAQCAQUBAggHAgMCAwMCBQUDAgUDAgcCBgUEAgENBgQJAgUGAwMFAgMHBAIDBgEDBAcDAwIBAgQGAwUHBQUFBgcCBQcIAgMIAwMFAwUIAwQBAwIDAwYBBAIBAwMCAwQBAgYEAQIGAQEDAgQKBgICAwECBAIDBAQKDQwEAwMCAgECAQQEBgIEBQUIAgIDAggEBAIHBAUDBQgBCgQHAwMEBwMCAwMEAQEEAgIDAwMCAgQDBAQCAgYDBQMFBwEJAQ0CBwQIBQEEAQYEAwQCCAEGAgcFAgUCBQMHCAMBAwMEAwcBAwMGAwMEAgIEAgMCBAkDBQYFAgIHAgMBAwIEBgcFBgMFBQMCAgIFBQYBAgIFAwIDAggEAgkCAgIDAQUBAwMFAwIDAwIFAwIDAQIJAgMCBQMDAwEGAQMFBQIHBAMEBggJAgEEBgIJAwUCAQMCBAIEBQMHBQMCAQMIBwMDBwQHAwMOBAICAQQDAgMHBAEDAgQDAgIDAgMFCAIDBAIBAwMEAwIJAgMEAgkKAgICCQEDBQIFBAkHAgUDAwUEAwMDAwMFBAMCBwQBAgUCBAMECgIIAgICAgIHDgUDBQMDAwMFAwEIBQMFAwMDAwMDAgQEAgMCAwIBAQMBBQgEBwQBAgMDAwMCBQEEBQgBBAYCAwUCAwMGAwMDBQcCAQgCAwMCAwMGBAEFAgMDAgUBAQQKBAEDCwcBAwQEAgQDBAkDAwIDBgMGAgICAwUBAgcHAwMEAQUCAQIDAgIEAQgDBQIEBwcCBwUBAgkCAgMEAgMEBQQCAgcIAQgDBQMEAwIEAwcEAgIDAgECAgEEAgMDBAQEBAICBwMEBwIGBgIDAgoCAQICAgYCAgEBBAYFAwMCBwUDAQMEAwUCBAUCAwwHBgUDAQQIBwMCBwgCBQQDAwICBAcDBAcCBgEJAgQDAwECAwEFAgMFBAIDAwMDCAYDAgECBAICBAUDBQMHBgwDBgQCAgUBAgMCAgICAgIDAgQDAwYDAgMHAwICAgMGAQIFAgQDAgUDBQIDBQcDAQMFBwIHBwMDAwMDBQIEAwENAQUCAwUFAwMIAgIDAwIFAwMJBQMCAwIDBwMEAgMFCQ4FAwwBAgIJAgIDBAQCAwIDBwMDAQUEAQQHAwIFBwIHAgMBBAkIAQIHAQMBAgIJAgUCBwcFBAMBAwMDAwYCBQwDBQICAgECAgUFAgIHBwQDAwMBBgQBBQMEAwMIAgIHAgIEAQIBAgICAQIGAgcCBwMCAQMCAwEDBQQJAgMDBAIFBAYDBAIDAwcCAQUHBgQCBAgDBAQDBAIBCQQEAwMDAgMFAQMHBwIEAgIBAQMCAwcJCAMBAQQDAgIBAgICAgMFAgMBAQIEAwQJBgwDBgkNAgQCAwECAwMIAwQDAgUDAQYDAgQDCAIFAwEDAwQDAwEDBwUDAgQDBAUDBQENAgIFAgYDAgEDBwcDAgMCAQQCBggFAQIGAwIFBAMGBgEEAwECAwIIBAMCAwgCBQYDBQIHBgoGAwIFAwEDCwMBAgcEBA4CBgIEBQcDAwIEBQMIBQUFAQMBCQUDAgIDAwMDBwMFAwQCBAECAwIFAQMCAgIDAgIEBwMDBwMEBAICCQYFBAIFBQ4IBgEOBQYCAwUFBAICBAkEBwIDAwEHAwUIAwMJBAICAgIGAgQDBAMCAgIDBAYDBwcEBAcDAgEDAgcDAwIEAQYCAwcBBQUDCQMCAgQGAwQDAggJAwUEAQQCAwcFBgUIBgYCAgcCAwEDBgIDAwECAwcFBgMEBwQCAgEGAgcFAwQBBQIJBgEFAwUDAwQDAwUDAQIDBQIBAwIJAgIDAgUDAwQEBwUEAwMCDQQBBAICAwYFAwUBBAMCAgIHAwEEAwIBAggCAgUDBQYFBgMCAgICAwUEAwICAwIDBwICAgYBAgIGBAICAwcDAwIFAwUDAwIDAwQDAgQCAgMDAwEDAgQBAwICAgICBgUFBQIEAwICBwYCCQIFAwIGAgIBBQ4GBwICBQUECAQCBAMDAgQFBAMIAgMEAgUDAwIFCAQCAgcCCAMCAwICCQICCwYGAgMEBgMCAQkCBAUEBwIGAgkCAQkFAwECAwQGCAMDAgUBCAQCAwgDBgUEAwEBBwIHBwcHBwMHBQIDAgICAgIGBAMBCgQBAwYCCAEDAwcFBwMEAQIBBAIDBgIDAgEFBQcCBQMFBAIBAgQEBQMDBQYCAQUCAQECAQMEAwkDBwQHAgMCCAQDAgEBAQMCAgIEAwYCAQICCAIGBAIDBwMFAgMDBQIFAgIJAwMCAwIBAQMBAwUFCAMCBwQDBAIJBAICAgEBCAMGBQMCAwQDAwUGAwUDAgMFAwQDBwQCAwMFBgIEBAIEBgMEBAMHAwMEBgIDBQQEAQUFBwMFAwcHAgMCBAIDAQIEAgIEBgkDAwQFAgIEAwUEAwIBAgMDAgMHAgUGBwMCAwEHAwQIBQYDBQcBAgMFAg0DBAMJAwQDAQUCAwcDBQcFBwICBgIEBQUDAgIDAwUBBQgEAwMHAwQEBAIDAQEDAwUEAwQCAQEHAQUDAwIJBQcDAwQECQcDAwcEBQQDCQIDBgIHAwQGAQUDBwMCAwYDAwQDAQEDAwIFAQcDAwMCAwMEAgkFCAcDBAUFCAICBgIJAwMDBAMFAgMDAQYHAgMBAwcEBAcKBgEBDQIEAgQBBAIIAQMBAgEBAgIFBQQHAggFAgEHAwICAgEDAgUFBgMDAwIDAgcCAQMBAwIBAgICAQEFBgcCAQMFAQQCCAIHAgcDAgUFAgMGAgEDBAUBBwQDBAQEAwIDBQEEBQEDAgIFAwcDBAcDBAUMAwECAwQCBQUBBgMHBAQCBwUDAwkFAgUGAgIDBgcFAQMHBAMHBAUCAgQBBAYCBAgBCQIDBAIFAgIHBAkEBAICAgEHCQQCAgIFAgYHBQYFBwkHCgUDCAIFAgMFAgUDCgIBAwIHAQINBAQHCAIHBAIDCQIEAgUCBAUGAgIFAwUFBgMDCAgBBgMCAwMFAgEBAQQFAQgEBAIFBwQDAwECBgQFBQICAwMEBAYHBQUIAwIBAwIEBAIEBQgEAwYEBgUEAgIJAwcGAwIBBAkCAwYCAgUEBwQGBAIEAQYDBwMDBAQBAQUIAgYCBAcCCAIHBQIEAgECBAUJCAIEAgcFAwUCAwMIAwINAwICBwEBAwIDAggCAwMCAwIHAwMBBAEBAwEFAgMDAgMGAg0DBAMFBAQIBQEEBwoDAgIBAgUCBAMDBAEGAQgDAwIGAwUDAwMDAgIFAwQLAgIBAwIDAQEEAwYCBQMFAQcCBQUEAwEJAwIFBQQDAwMFAQIEBgQDAgMDAwYCAwQHAwIECQMFAgIDAgMDBQUFAgUEAQcDBAECAQQDBwMCBAIFAgYDAQMEAwMLAgIDBQUCAwQEBQEFAwUCAQgCBwMFAwMCAwcCCAMECgICBAQCBQcFAgMBDgQHAwQCBQUBAwMGAgICBQIJBgMEAwUBAgYFAwMCAggCAgIGBQIFAwcCAQMFAgEEBwIDCAMDBgMGAQQBBAMHBAIEAwkHBAMHAwQFAwIDAwEIAwIHAgIDBgMFBAIFAwIFBQIDAgULAwUEAgIEBwUHAwICBQMDBAUEAwMCBAEFAgcCAwEBAQMDBAQCAgEBAwEHBwUDAQcDCQEHAw4FBAUCAgICAQMBBAQDCAICBQIGBAMGCAIEBQIEBwIGBAIEBAMBBAIJAQQFBwMEBAUEAQQDAgIFBAEDBQMDBQUFAgYEAggDBwMDAwUCCwMDAgUEBAEEBAYHAgUCAwUCAggFBQEHAgQCBAICAgUCCgICAwgDAwgIBQcGBAcDBQICAwUCCAIDAgMBBAICAgUHBwUDBAIIAgQEAwMGAQcGBAYDAwEIAQMFBgYFBAUCAwIFAgIEAgQCAgUEAgMFAwECAgMDAgUGBwQDBQUDBgICBwIDAgIFAwUCBQMJAgMFCA0GAgUDBwICAgMCBQIDCQMDAwcBBAMBBwMGAwMDBAcDBAgBAggFCAUJAwcLAQIGAwMCBQQBAgICBgIDAQEFAwECAQEDAwUHAwUNBQMDBQMCAgcDAwIBAwIDAgIEAgcDBAIDAgEDAwgFBgMGBwECBwUCAQMHAgMDBQUBAgMCCAsHBAMBAQYDAwMCAwMCBgUHBQICAwUJAwcDBQMDBQEDBQgCAwMDAQQEBAMJAwUDAQMJBAUFBQQDAwICAQIBCQICBAMDAgMCAgMCBAUGAgMFBAIJBgMJAQMHBQQDAgYDAgQCAQYEAQQBBgMDBwQCAgIIBAIJAgQCAgECBQICAggHBAIECgQCBgMCCQMGAgMCAgYBDgMHAgUCAgIFAQICBAMCAwMCAgIEBwEBAgIJBgMCAgIBAgUFCQIHBgIFBAMEAQICBgUDAgQFBAIGBQMDCQIDBAIEBAMCAgcJAwMDCQIEBwIHAwgGAwMIBAMFBQQEBQIDAwMFBwMCAQgIBwIBCAMGCAECBgcCBAQEBQIEAgIDBAIGBAEBAgoDAQEBBQgBAgICAQIDAgEMAQMDBQEDBgMBCQIFBQIEAwMDAwICAgIGBAUCAQUDCAUCDAIBAQcDBwIIBAcCAwQHAQcHAgIBBQEEAgYGBQQDCQIBAwQDBQMKAgcEAwUKBQIDAQYCAwIEAwIDAwQJBgcDAgYFAgEFBAcGAwIFBAECBgMDBQMCAwcDBQEDAgUFAgUFBAIIBQMCAgIDAgcBBwQBAwICAQIBBAkDAwUDAgQCBQMDAgUHBQcCAgIFAgMDAgEFCQIGAgMDAwIHBgMCAgMDBAICBwEDBQYDBgMBAwQDAwUBAQMCBAEFAgMFAQMCBgUCAgMHAwMCBgYCCQoFAQICAwIFAwIDAgMJAwMCAgIGBQMEBQcCCAEFAwUDBwMBAwMEBQIGCQEHAgQDAwcCAwUEBAICBgQDBAMCAwICBggHBQUDAwICAgIOBwQEBAUCAQUDAwIFAgIEAwQEAwYFAgMCBQUBBwMCBQUCAwMCBQIBBQcDAQECAgIGAgICAQQDAwIDBgUDAwMDBAcICgkEAgUIBwQDAgIDAwQFAQMEBQUCAwMDBgMHBQEGBQsFAwMDAQQGAgsCBAQDAwUFAgkDAwMFBQQEBwIIAwQGBQQDBgIFBAYDAwkGBQMCAwoDAgMCCwQGAQUHAwMDAQkBBQMMCQkEAgIGBAQCBAMDCQEDAwMCAwMJAgMDAgcEAwUFBQIBAQgCBQICAgMCAQMBAwMFAgMHCAQGAwIDAwYGAwQFAwMJAwUHBwYDBQMJBwMBAwMBAQQFAwMEAwIGAwMDAgQDBwkDBAIGAwcCAgICBQMFCQUEAwMBBgcBAgEDBQIDAgUDBAQBAgYHBQICAgMFAQIDAgIDBAMIAgIGBQIDAgMEAQEJCQMGAQMJBAcBAgQDAwMDAQUFBgQHBwICAwQDAgICBQQBAwgDBwMFBAsECQEBAgIHAgUCAgEDAgIBAQUDAgkBAwUDBA0CBgIFAQcEBQMCBwQDAwQCAgMDAgYDAQIDAgMDAwUJAwUBBQYCAQIDAwECAwYGAgQCAwIIAgIEAggHBAIBAgIDAwQEAwoEBgUCBQIFBgUDBQICAwMFBAIFBAMHAgMDAgUBAwICAgUDBQIDAwMCAwECBgMDAwECBQgDBAUDAgMFBgIDBgMEAwUBAwEHAwIEAQUFBQUGBAUCAQMFAgUEAgIFAgECAgQDAgEJAgICAwEDAgMEAgMCBQcCDAMCAwMFCQMDAgIHBgkGBAICBQUGBwIDAwEBAwICBgEBBAUHBAgDBAMHBgIFBAQCAgMDAgIDAwMEAgcHAgkCBwIDAQQCAwMDAwQEAQIDAwMFBAYDBgQGAwMCAgcEBQIBAwsGAwgCBwUGAwMHAgIDAgMDCAMFAQkEAQQCBwEDAgcIBAMFAwkDAgMGAwUDBAIDBQIFAwIFAwYBAwQDAggBBAQCAgIDAwkFBQQCBQECAgICBwMGAwEJAgQCCgcFBAQBAwIEAQwCAgkJBAQCBwkFAgMDBQIEAwIJAwICAgECBwIEBQMCAwEHAgICAgMHBwIDAQMCAwQDBwMGAwMDAwICAgIBAgMDAgQCAwMDBQMDAgQCAwIHBAICAgIDBAEFAwQDAwgBBQIEAwMHAQQDBwUFBAMECQUFAwMEAQMDBgMFAgIIAQkCCgMDBAIDBAMDAwICBAIIBgYHAwMEAgMDBgMCAwUCBAIGBAIDBQQCAwULAQIFCAYDAwMDBAkHAgYBAwMGCwMDAgcCBQMBBQIDAwIECQQFAgUDBgMGAwICAgECBAICCAQBBgMDBAUIAgMHAgUCAgMHAwMCAgICBgICAQMDBQMCAQIDAwcFAwUJBAIBAgICBAcDAwIBAgcDAgIJAQEBAwMEBAMCAgECAgICAgkFAgYDAgQCAwUFAwYCAwQFCAgFBAEEAQUBBQQCAwUCAwEGAwcDBwYHBAMDAgMCAwQCAwIDAwMBCAMBBQMCBQQCBwMECQUEAwUHAgICBAUDCQUGCQIJAgMDAgMHBQEDAwYCBAIFBQIDAwEEBAMEAgcBAwIBAwMEBQQDAgIDAgEDBgMEBAkFBgYECQMDAQEDBwkFAgMCCQcEAgEDCQgDBwQFAgQDBQIGCAECBAQEAwMCBQEDBAMCAwICAggCAwIDAwMDAwUDAwECAwIDAgICBwMDBwYIBAcGAgIFBwQDAwUDAQMHBwMCAgECBQEDAwMDBQUCAwUHAwcFBwMFBgICAgUBBwYBAwMDAgMCAgMBAgMCCAMEBQQDAgICAgYFAwMCAQQDAgMBBAQFBAcEAwQFBgQBAgIDAwMJCAMEAgUGAQEIAgEIAgMKBgYCAgUDAgMFBgQCAgQJAgEEAwcEAgIFBgIDAgIBBQQEAwEEBwUGAgUBBQEEAwIDBQkEAggGAgUBAgIIBQYCBAEDBAEDAgMDBwIGAwcEAwYFCAIDDgkDAwIDBgIHBgcFDAMFAgIEAQUBAwQBAwEHAwUGBAICBwIDAgMFAgUGBQMCAgEEBAUDAgUDAgECAQ0DAQYFAwUCAgUGAQIFAgYIAQMKBAUFAwMDAwUFAgcCAwUDAwEBAgQCBAMEAwMDAwICBAQEAgIDAgYCAQMDBAIEBQICBAMDAgMECgIDBQQGBAwCAQIFAwQGAwMDAwMCAwICAwYGAgUCBAMHAQYDBwECAgIBBQMBBQQEAgUBAgMBAwQDAQIGAwIFCQEFAgQDAwUCAwICAQcCAwIDAwIFAwEFBgIBBQICAwIJAgUFBgIEBQECCwQCAgkGAwkDBgIHBQUDAwYDCQQEAwUFDgMFBQIFAQEEBAIDBQQDAgkCBwECAg4DBAMCAgIGBAMHAgEBAwcFAwUGBwMJBQEFAwIJAQEGAwUBAQEDAwMDAgcDAQMFBQMHAwUFAwQCAwkHAwMCBAQJAwIDAgIDAgECBAMHBwIDAwUDAwUEAgQFAwMEAQMECgYDBgYBBAMEAQIHAQMBAwEDAQQEBgYHBwUDBwECAQIJBAMCAgQCAgMEAwMCAgQEAgMDAQQDBAkEAgEFBAMEAQICAgEEAwUFAwUEBQUCBAUEBwUCAwIDAQMDAgcDAQUCAgICAwIDAgUBBgQHAwEHAwMHAwYEAgkJAgMDAwECAgECAwEDAwUEBAEJAwMEBQQBAgMDAwMDBQcCBAYFAwICBAIHCggBBAMDAgMDAgUDAwEEDAIEAQUEBAUEAwIGBAUCBAUFBAMECQIEAwYDAgECBAMBAgUCAgoFAgICAgYGAgQGAQUHBwMFAgUEAwMEBAMCAQQCAwMDAwYDAwUIAgcDAQUCAgMCCAIFBQIDAQQFAwIEAwYEAwMDAgMHAwMJBQcFBQMEBwEIAgUCBAMFAwMGCAgBAQMCAgIDAgYCAwMJBQYJAgEGAwECAwIJAgQCAQMCCwIFAwMCBAIFAgMHAgYJAgYEAwMDCAICBAUCAQYEAwIOBQIEAwYGAgMFBAIGAwQEAgIGBQoEAgMBAwMMBAMEAwUDAwIDAgIDAgUCAgQHAgQCBQMCCAUKAwYGBAkDBQUFAgMHAwIEAwUIAgcEAQIJBwMDAgEDCAMGAgcJBAcDAQQDBAMEAgMLBQUDBAMCAQgCAwYDAgEDAgEBCQMIBAECAwQDBAcDBQIJAgUBCQUHAwMFBwICAwICAwUFAgMDBgQIAgMDAQYFBAMDAwIFAwEHAQMDCAEDAwEEAgMCBQYCAwIDBQQBAwUEAgMDBQQFBAUEAgQEAwICAwUBAwIFAgEBAgUFBAEGAgcFAQgBAQIFBQIEAwMCBQICAQUIBQQEAggBAgIFAgICBgQBAgIFCAYCAQMDAgcFBQMBAgMGBQEEAgIDAwMHCAMEAQIDAgYHAwUFBAUDBAUFAwIFAwYFAQECAgEDAgIHAQcCBQUDAgUCBgcFBQYCBwoDBAMCAQMFBwICAgYEBAMOBQQCBQQCAwIDCQ4GBgcDAwMEBAUDAwYEBwIDBQoCAQQDBwIBBQUEBAMDBQEFAwoDAwEFBgIDAQUCAQYDBgQCBQQDAQEBCQUBBQMCAwQEBQIDAwMCBAgIAwYHAQMDAwYEBQYDAwIDAwUCBwUBAQIDAwgGAwMHBAYDBgMCAwUDAgYEBQYFAwYIAQQEAg4FAwUBAQsEBQMGCAYCCQQHBAMCBwIFAgQFAwECBQIJAgIHBQcFBQICBQICBwQGAgUDBwEEAwIGAQIFBAQFBAYLAwMDAwECAgMEBAIDAwcDBAMIAwYDAwYGBAQDBQIDBgMDBAUGAwQEBAICAwMJBAMCAwMGBgUFAQMCAgICAgQFBAYCAQMCBQIDAwIFBwUFAwIBBgQDCQMCAggEAwEFBAMHBAUBAwIDAgIBBQECAwICAgIBAwMCAQIECAIDBQMFAwICBQkCAgUCBwIDBAMBAgUBBAUFAwMDBQQCBAECBAYHBAMEAgMDAgULCAMCAgUDAgkCCQMBBQMCAwYBBQUJAwUIBAIDAwgHAwQEAgIFAwcGBwUEAgUBAgICAwIDBAIBBgQFAwIHAQUCBwwDBAMHAQECAgIDAgIEAgUEAwUEBQICAwcDAgMEBQIFAQEDAgMFAwUCAgkDBQICAgQCAgQCCQUEAwUBBAQCBQUCAwUDBwUEBAQCAwIEBwIBAgICAwEFAgEDAwIDAwcDAQMJBgkGBAIFAwIDAwMDAwICAwIDAgUEAgIBBAMCBQIBBAUDCQcDAgIDAwIDBwYCCQECAgEFBAIFBwkEAwMFAgkFAgMEAQMDAgUGBgIFCQYDAgMCBgMJAgIEAgIFAgYCAgEDAgEHAgMDAwMFBAQHAwQCAgMFAgQDBAUFBQEDAQMDAwICAgcGBQEEAQIEAwUIAwIEAwoDAgMFBQMIAwIDAwMCBQkCAwQCBAMDBAgGBAIFAgICAQcFAwICCwIEAgMMAwMFBAMCBAIDAwMDBwQFBQYDAgIECAICAwMHBwcGAgkHBQMFCAIDBAMDBQQCBgUHAQcFBAcCAwQCCAIEAgMFBwoCAwcCBQMFAgQBAwMJAgkCBwECBgUEAgYDBQICAwQCAwMFAgIIAQMBAwcFBQMCAgMFAQIEBwYBBwIDAgIBAwICDQMGBgQBAQMGBQcIBQUIAQIGAwMDAwMIAgIHAwICCwMHAQMEBgMDBQUCAwIDBg4DAgUDBQMFAgMGCQQBBwQFAwIDBQgBAgECAQIFAwUBBQUCAwQDAgIDAgIEAwMFAwYFBQUFAgMCAwECAQUFAwUFBgIEAgIBBwkEAgkCCAIIBAMCBAIFBAkCAgIEBAEBBAcBBQUJBAIGBgMFAgIDBAQDAwMCAQIEAgICCQUFBwUCBQQFAQICAgYCBwUGAwYDAwMEAgUDAgIBCAgCBgYFBgcFAQMDBgMEBwUGAwMDBgEEAgQBAwQJBAMFBAECBAIBAwgDAwIHBQMEAwMHCQIDAwcEAwIDBQUGCgIDAgkCBAcDAgECAwkCBQEFBQQDAQUJBgIFBQcHCAEBAQMDBwIGBgQEBQMCAgQJAwMCBAQEAgQEBQMHBQUEAQkDBgMCAQMFBAMDBAMEAgYBAwkBCQEIAwMCBgQHBQQCAQMGAgIDBAMDAgMDBQMCAwYDBQIEAwICAwEBAgMDBAMEBAIEAwMECQUCAQIEAgMDAgYDAgIDAgICBwUEAwMCAgEJAwUFAwUCAgIFAwMBAwMDBAQDAgoCAgEDAwgDBQIFAgQFAwEDAwIEBAECAgcDAgEDAwYCAgMGAwgGCQMDBQEEAwMDAwMCBQICBAICAwQCAwsEBQwCAwMCAgICBAQCBQMEBAICAwQCBgMCAgQCBAICBgECBAIGBggCBwMFAQUJAgUDAwUCCAcGBQIBBQICAQoCAwgDAgICBQMEAQICAgMFAwQHAwEDBgMDBQIDAgMJAwgCCgkHAgUDBQYGAwIEBAIEBQQFAwEFCAQECAQDAQEEAwICAwMDAwMBAgQFBQMFBQQDAQIEAgMGBgUMBwQEBgcCAwIMBAMFBgcFCAEDBgkBCgIDBQUBAgEBBAYDBQMCCQIGAwMGBgIEAQkFAwMHBQEGAwEFAgkFAwIFAgQDAgMCAwYFBQQEBQ4CAwEDCAYDBQcKBQMEAgkHAgUDBAIFBQEDAwIHBwYBBgQEBgIFBAIFAwEFBAIDCwMEAgMCAwUCAgQDAwMHBwkICgQDAwQEBgIEBwICAgMEAgICBQMFAgYCBgcDAwcHAgMHAQYEBAYFAgQIBQMBAwEECQMBBgQHAwICBAUDBQEFAgMEAgEBBgQCBQMEAQECAwMCAwQCBgIKAQICAwMHBQICBAUCAQIEAgMIAwMFAgICAgUCAQQIAwUGCQEEAwQDBwIBBAQCCAQBBwkDAgMDAwMCAggDBgUHBgIBAwQCCQICAwMCBQMCBAUHAgkDAwQHAwIHAwEIAQICAgUFAwQHAwEEAQUDBAkCBAUGBQMHBQMDBQEKBQECBAUFAgMHAgYCAgUDAgQEAgUDAgEDAQYGAQEDBwMCBAMCAwEFAgYCAgMFAwMHBQIBBQMCBAQFAgcFBAQHBAoDAwUDAQQCAwUCBQgCAgYFAgoEAgUCCwIEAgMEAgEDBAQCAwgBBQQDBQIDAwMDBQMCAwQDAwIGBAIDAQEEAgEEAgICAwIFCgICAwUIBwMIAwEDAwMCBgICAwIECQUDCwECAgIEAwwCBgEDAw4BBwIGAwICAgQCBwMCAwQFAwIFAgcCAQQCAwQEAwQDCAcHCQMJAwMCBQMGAwQGBw0CAwUCAwQBAgIBAwICBQIHBQUCAgMCAwMEAgEEAwMCAQcCAwUCAgQCAgUCAwIDAgMHBAUCBAYFAwMFAgIEBQYDAgUFBwUDBQYLAQcBAwIFAwUDAgIEAgECAQYFBAYHBQUFBAEEAwICAwMGAQUIBQcFAwIHBgIFAgMCAgUFAwEDBAIICAEFAggBAgIEAwMDAwYFAQQCCAMCCQIHBgQDAwIDBwMDAwUEAwUEAgUDAQMEAwICAgMCBAMGAwICCAMDAQgBAgICAwUEAwQEAwYCAgUIAwMCBgQDAgUDBAMCCQcCBQUEAgIFBQICAgMDAwIDBQUEAwUDAgYEAgYEAgICAgMDBQcCAgoCAgECBAMFAwIDAwIFAwMFAgEKAgIEBQMDBgIFAQMEBAQGAwUCAgUMBAICBQIBBAMLAwcCAwQDCAIJAwcCCQIDAwMEAwIDBAMCAQMJBwgDAwkCAgYEBAIGAgIDAwQEAwMFBAIDBQMCAw4FAgUCAwcDAwMDAwUBBgIDBwUEAgMCBQUFBAIDBQIBBwEJAgIBBwcCAQICAQIDBAUCAwUCAgIHBQIHBQUCAgcFAwEDBggGAQICAQQCBwUFAgEDAwIGDQMBAwQDAwMCBAQCAgQEBAIDDQEEAwMCBQUFAwMCAgQCAgILBwMHBAQGDQMEAgIDAwMCAgUGAwQDBAEGAwIDBQICBQMFCAMGAgYCBwUHAgMDAgUKAgMCBwIFAgQDBQICAwQHBQcBCQMEAgMHAwICAwUDAQMCBQcCBAIJBQMCBg0EBQICBwIGAg0JAwUHAwMCBAEDDgICAQMDAwMDAgEDAwMEAgEBBQIEBgICBwIHBAIFBgEBAQMFCAMIAwEBAwMCAwcFAQIHAwMEBAYCBAMHBAMJBgkDBAcDAQIHAwMGAQIFAwEBBwgCBQIBAwIDAwIDAwMFAwcCAQMHBgMEAwcGAgQHAgIFBAIDAQMDBgEDAwEGAwQCBAMCAQIDAwEFAgIEBggCBAcCAwQBAgIEAwQIAgMEAgEEAgMEBAMCBQEGAwUDBwUFAQIFCAIEAwIDAwICBQMBBwYHAwQCAgYCAwQDBQcGAgMCAgMBAgEFBAgEAQMBBQEIBQICBgEJBgQCAgYFAgIJAQEFAQUCAgMDAgMCBgYFAwMGBQUIBQECAgcDBAICBAICBQICBAMGBQQCCQMGAwIBAwUDAQMGAgQGAgYCAgICAQIFAgcCAwUDBQICBgoJAwMCBwgDCQcCBgEBAwoDAwkBBwICBQMGCQMBBQYOAwMDBAIDAwMFBQMGAgICAg4HAgIDAgUCBwMFAgMCAgICAwMGBAcFAgcCBQUCAwMCAgcFAgQGAgIBBQMBAgUDAQUFBgEEAQUEBAMJBQUCAgMCAwMBCAUFAwQEAwYDBAkEAgEHAgIDAwUGAgQCAwMCAwcCAwYIAwcJAgQCDQUFBgIHAgIEAwgJAgYCAgMBBAQFCQIDAwIDAwcDAwcFAgUBBAYDAQIJAwYIAgEGCQUEBAMLBgIEBQQDBAMCAQUDAwMDAgMCAgYFAgIEBQUCAgMDDQIDBwUCAgUIDQIBAQICBgUDBQUDBAICAgQCAgMBAgIDAgUEBQIDAgIFAgEFBgUEAgUBCAMECQUCAwIFAQIDBQUDAQIGAgEDAwICBAIDBwIBAQIIBAIFBAQDBQUHBAcCAwoCAwMEAwQCAwMEBwEHBAIFAgEDCAIEBAcDBQUFAgIDAgUEAgYIBQIEAgQBBAIHAwICAwICAQICBAUDBwMDDQIDAgMCAQMCBwUEBQsCAwIBAwMBAwIHAwMFAwIHAwMCBQEDAQUHAwQDAQgCBAMFAgQHAwMDAwIFBAcOCQUDAQMGCAMBAgIBAwIFBAICAQIEAgEBBwUCBwIFAgUHAgIHBA4BBQcCCgQBAQUDAgIEAg==",
                    "dtype": "i1"
                  },
                  "yaxis": "y2"
                }
              ],
              "layout": {
                "showlegend": false,
                "template": {
                  "data": {
                    "bar": [
                      {
                        "error_x": {
                          "color": "#2a3f5f"
                        },
                        "error_y": {
                          "color": "#2a3f5f"
                        },
                        "marker": {
                          "line": {
                            "color": "#E5ECF6",
                            "width": 0.5
                          },
                          "pattern": {
                            "fillmode": "overlay",
                            "size": 10,
                            "solidity": 0.2
                          }
                        },
                        "type": "bar"
                      }
                    ],
                    "barpolar": [
                      {
                        "marker": {
                          "line": {
                            "color": "#E5ECF6",
                            "width": 0.5
                          },
                          "pattern": {
                            "fillmode": "overlay",
                            "size": 10,
                            "solidity": 0.2
                          }
                        },
                        "type": "barpolar"
                      }
                    ],
                    "carpet": [
                      {
                        "aaxis": {
                          "endlinecolor": "#2a3f5f",
                          "gridcolor": "white",
                          "linecolor": "white",
                          "minorgridcolor": "white",
                          "startlinecolor": "#2a3f5f"
                        },
                        "baxis": {
                          "endlinecolor": "#2a3f5f",
                          "gridcolor": "white",
                          "linecolor": "white",
                          "minorgridcolor": "white",
                          "startlinecolor": "#2a3f5f"
                        },
                        "type": "carpet"
                      }
                    ],
                    "choropleth": [
                      {
                        "colorbar": {
                          "outlinewidth": 0,
                          "ticks": ""
                        },
                        "type": "choropleth"
                      }
                    ],
                    "contour": [
                      {
                        "colorbar": {
                          "outlinewidth": 0,
                          "ticks": ""
                        },
                        "colorscale": [
                          [
                            0,
                            "#0d0887"
                          ],
                          [
                            0.1111111111111111,
                            "#46039f"
                          ],
                          [
                            0.2222222222222222,
                            "#7201a8"
                          ],
                          [
                            0.3333333333333333,
                            "#9c179e"
                          ],
                          [
                            0.4444444444444444,
                            "#bd3786"
                          ],
                          [
                            0.5555555555555556,
                            "#d8576b"
                          ],
                          [
                            0.6666666666666666,
                            "#ed7953"
                          ],
                          [
                            0.7777777777777778,
                            "#fb9f3a"
                          ],
                          [
                            0.8888888888888888,
                            "#fdca26"
                          ],
                          [
                            1,
                            "#f0f921"
                          ]
                        ],
                        "type": "contour"
                      }
                    ],
                    "contourcarpet": [
                      {
                        "colorbar": {
                          "outlinewidth": 0,
                          "ticks": ""
                        },
                        "type": "contourcarpet"
                      }
                    ],
                    "heatmap": [
                      {
                        "colorbar": {
                          "outlinewidth": 0,
                          "ticks": ""
                        },
                        "colorscale": [
                          [
                            0,
                            "#0d0887"
                          ],
                          [
                            0.1111111111111111,
                            "#46039f"
                          ],
                          [
                            0.2222222222222222,
                            "#7201a8"
                          ],
                          [
                            0.3333333333333333,
                            "#9c179e"
                          ],
                          [
                            0.4444444444444444,
                            "#bd3786"
                          ],
                          [
                            0.5555555555555556,
                            "#d8576b"
                          ],
                          [
                            0.6666666666666666,
                            "#ed7953"
                          ],
                          [
                            0.7777777777777778,
                            "#fb9f3a"
                          ],
                          [
                            0.8888888888888888,
                            "#fdca26"
                          ],
                          [
                            1,
                            "#f0f921"
                          ]
                        ],
                        "type": "heatmap"
                      }
                    ],
                    "histogram": [
                      {
                        "marker": {
                          "pattern": {
                            "fillmode": "overlay",
                            "size": 10,
                            "solidity": 0.2
                          }
                        },
                        "type": "histogram"
                      }
                    ],
                    "histogram2d": [
                      {
                        "colorbar": {
                          "outlinewidth": 0,
                          "ticks": ""
                        },
                        "colorscale": [
                          [
                            0,
                            "#0d0887"
                          ],
                          [
                            0.1111111111111111,
                            "#46039f"
                          ],
                          [
                            0.2222222222222222,
                            "#7201a8"
                          ],
                          [
                            0.3333333333333333,
                            "#9c179e"
                          ],
                          [
                            0.4444444444444444,
                            "#bd3786"
                          ],
                          [
                            0.5555555555555556,
                            "#d8576b"
                          ],
                          [
                            0.6666666666666666,
                            "#ed7953"
                          ],
                          [
                            0.7777777777777778,
                            "#fb9f3a"
                          ],
                          [
                            0.8888888888888888,
                            "#fdca26"
                          ],
                          [
                            1,
                            "#f0f921"
                          ]
                        ],
                        "type": "histogram2d"
                      }
                    ],
                    "histogram2dcontour": [
                      {
                        "colorbar": {
                          "outlinewidth": 0,
                          "ticks": ""
                        },
                        "colorscale": [
                          [
                            0,
                            "#0d0887"
                          ],
                          [
                            0.1111111111111111,
                            "#46039f"
                          ],
                          [
                            0.2222222222222222,
                            "#7201a8"
                          ],
                          [
                            0.3333333333333333,
                            "#9c179e"
                          ],
                          [
                            0.4444444444444444,
                            "#bd3786"
                          ],
                          [
                            0.5555555555555556,
                            "#d8576b"
                          ],
                          [
                            0.6666666666666666,
                            "#ed7953"
                          ],
                          [
                            0.7777777777777778,
                            "#fb9f3a"
                          ],
                          [
                            0.8888888888888888,
                            "#fdca26"
                          ],
                          [
                            1,
                            "#f0f921"
                          ]
                        ],
                        "type": "histogram2dcontour"
                      }
                    ],
                    "mesh3d": [
                      {
                        "colorbar": {
                          "outlinewidth": 0,
                          "ticks": ""
                        },
                        "type": "mesh3d"
                      }
                    ],
                    "parcoords": [
                      {
                        "line": {
                          "colorbar": {
                            "outlinewidth": 0,
                            "ticks": ""
                          }
                        },
                        "type": "parcoords"
                      }
                    ],
                    "pie": [
                      {
                        "automargin": true,
                        "type": "pie"
                      }
                    ],
                    "scatter": [
                      {
                        "fillpattern": {
                          "fillmode": "overlay",
                          "size": 10,
                          "solidity": 0.2
                        },
                        "type": "scatter"
                      }
                    ],
                    "scatter3d": [
                      {
                        "line": {
                          "colorbar": {
                            "outlinewidth": 0,
                            "ticks": ""
                          }
                        },
                        "marker": {
                          "colorbar": {
                            "outlinewidth": 0,
                            "ticks": ""
                          }
                        },
                        "type": "scatter3d"
                      }
                    ],
                    "scattercarpet": [
                      {
                        "marker": {
                          "colorbar": {
                            "outlinewidth": 0,
                            "ticks": ""
                          }
                        },
                        "type": "scattercarpet"
                      }
                    ],
                    "scattergeo": [
                      {
                        "marker": {
                          "colorbar": {
                            "outlinewidth": 0,
                            "ticks": ""
                          }
                        },
                        "type": "scattergeo"
                      }
                    ],
                    "scattergl": [
                      {
                        "marker": {
                          "colorbar": {
                            "outlinewidth": 0,
                            "ticks": ""
                          }
                        },
                        "type": "scattergl"
                      }
                    ],
                    "scattermap": [
                      {
                        "marker": {
                          "colorbar": {
                            "outlinewidth": 0,
                            "ticks": ""
                          }
                        },
                        "type": "scattermap"
                      }
                    ],
                    "scattermapbox": [
                      {
                        "marker": {
                          "colorbar": {
                            "outlinewidth": 0,
                            "ticks": ""
                          }
                        },
                        "type": "scattermapbox"
                      }
                    ],
                    "scatterpolar": [
                      {
                        "marker": {
                          "colorbar": {
                            "outlinewidth": 0,
                            "ticks": ""
                          }
                        },
                        "type": "scatterpolar"
                      }
                    ],
                    "scatterpolargl": [
                      {
                        "marker": {
                          "colorbar": {
                            "outlinewidth": 0,
                            "ticks": ""
                          }
                        },
                        "type": "scatterpolargl"
                      }
                    ],
                    "scatterternary": [
                      {
                        "marker": {
                          "colorbar": {
                            "outlinewidth": 0,
                            "ticks": ""
                          }
                        },
                        "type": "scatterternary"
                      }
                    ],
                    "surface": [
                      {
                        "colorbar": {
                          "outlinewidth": 0,
                          "ticks": ""
                        },
                        "colorscale": [
                          [
                            0,
                            "#0d0887"
                          ],
                          [
                            0.1111111111111111,
                            "#46039f"
                          ],
                          [
                            0.2222222222222222,
                            "#7201a8"
                          ],
                          [
                            0.3333333333333333,
                            "#9c179e"
                          ],
                          [
                            0.4444444444444444,
                            "#bd3786"
                          ],
                          [
                            0.5555555555555556,
                            "#d8576b"
                          ],
                          [
                            0.6666666666666666,
                            "#ed7953"
                          ],
                          [
                            0.7777777777777778,
                            "#fb9f3a"
                          ],
                          [
                            0.8888888888888888,
                            "#fdca26"
                          ],
                          [
                            1,
                            "#f0f921"
                          ]
                        ],
                        "type": "surface"
                      }
                    ],
                    "table": [
                      {
                        "cells": {
                          "fill": {
                            "color": "#EBF0F8"
                          },
                          "line": {
                            "color": "white"
                          }
                        },
                        "header": {
                          "fill": {
                            "color": "#C8D4E3"
                          },
                          "line": {
                            "color": "white"
                          }
                        },
                        "type": "table"
                      }
                    ]
                  },
                  "layout": {
                    "annotationdefaults": {
                      "arrowcolor": "#2a3f5f",
                      "arrowhead": 0,
                      "arrowwidth": 1
                    },
                    "autotypenumbers": "strict",
                    "coloraxis": {
                      "colorbar": {
                        "outlinewidth": 0,
                        "ticks": ""
                      }
                    },
                    "colorscale": {
                      "diverging": [
                        [
                          0,
                          "#8e0152"
                        ],
                        [
                          0.1,
                          "#c51b7d"
                        ],
                        [
                          0.2,
                          "#de77ae"
                        ],
                        [
                          0.3,
                          "#f1b6da"
                        ],
                        [
                          0.4,
                          "#fde0ef"
                        ],
                        [
                          0.5,
                          "#f7f7f7"
                        ],
                        [
                          0.6,
                          "#e6f5d0"
                        ],
                        [
                          0.7,
                          "#b8e186"
                        ],
                        [
                          0.8,
                          "#7fbc41"
                        ],
                        [
                          0.9,
                          "#4d9221"
                        ],
                        [
                          1,
                          "#276419"
                        ]
                      ],
                      "sequential": [
                        [
                          0,
                          "#0d0887"
                        ],
                        [
                          0.1111111111111111,
                          "#46039f"
                        ],
                        [
                          0.2222222222222222,
                          "#7201a8"
                        ],
                        [
                          0.3333333333333333,
                          "#9c179e"
                        ],
                        [
                          0.4444444444444444,
                          "#bd3786"
                        ],
                        [
                          0.5555555555555556,
                          "#d8576b"
                        ],
                        [
                          0.6666666666666666,
                          "#ed7953"
                        ],
                        [
                          0.7777777777777778,
                          "#fb9f3a"
                        ],
                        [
                          0.8888888888888888,
                          "#fdca26"
                        ],
                        [
                          1,
                          "#f0f921"
                        ]
                      ],
                      "sequentialminus": [
                        [
                          0,
                          "#0d0887"
                        ],
                        [
                          0.1111111111111111,
                          "#46039f"
                        ],
                        [
                          0.2222222222222222,
                          "#7201a8"
                        ],
                        [
                          0.3333333333333333,
                          "#9c179e"
                        ],
                        [
                          0.4444444444444444,
                          "#bd3786"
                        ],
                        [
                          0.5555555555555556,
                          "#d8576b"
                        ],
                        [
                          0.6666666666666666,
                          "#ed7953"
                        ],
                        [
                          0.7777777777777778,
                          "#fb9f3a"
                        ],
                        [
                          0.8888888888888888,
                          "#fdca26"
                        ],
                        [
                          1,
                          "#f0f921"
                        ]
                      ]
                    },
                    "colorway": [
                      "#636efa",
                      "#EF553B",
                      "#00cc96",
                      "#ab63fa",
                      "#FFA15A",
                      "#19d3f3",
                      "#FF6692",
                      "#B6E880",
                      "#FF97FF",
                      "#FECB52"
                    ],
                    "font": {
                      "color": "#2a3f5f"
                    },
                    "geo": {
                      "bgcolor": "white",
                      "lakecolor": "white",
                      "landcolor": "#E5ECF6",
                      "showlakes": true,
                      "showland": true,
                      "subunitcolor": "white"
                    },
                    "hoverlabel": {
                      "align": "left"
                    },
                    "hovermode": "closest",
                    "mapbox": {
                      "style": "light"
                    },
                    "paper_bgcolor": "white",
                    "plot_bgcolor": "#E5ECF6",
                    "polar": {
                      "angularaxis": {
                        "gridcolor": "white",
                        "linecolor": "white",
                        "ticks": ""
                      },
                      "bgcolor": "#E5ECF6",
                      "radialaxis": {
                        "gridcolor": "white",
                        "linecolor": "white",
                        "ticks": ""
                      }
                    },
                    "scene": {
                      "xaxis": {
                        "backgroundcolor": "#E5ECF6",
                        "gridcolor": "white",
                        "gridwidth": 2,
                        "linecolor": "white",
                        "showbackground": true,
                        "ticks": "",
                        "zerolinecolor": "white"
                      },
                      "yaxis": {
                        "backgroundcolor": "#E5ECF6",
                        "gridcolor": "white",
                        "gridwidth": 2,
                        "linecolor": "white",
                        "showbackground": true,
                        "ticks": "",
                        "zerolinecolor": "white"
                      },
                      "zaxis": {
                        "backgroundcolor": "#E5ECF6",
                        "gridcolor": "white",
                        "gridwidth": 2,
                        "linecolor": "white",
                        "showbackground": true,
                        "ticks": "",
                        "zerolinecolor": "white"
                      }
                    },
                    "shapedefaults": {
                      "line": {
                        "color": "#2a3f5f"
                      }
                    },
                    "ternary": {
                      "aaxis": {
                        "gridcolor": "white",
                        "linecolor": "white",
                        "ticks": ""
                      },
                      "baxis": {
                        "gridcolor": "white",
                        "linecolor": "white",
                        "ticks": ""
                      },
                      "bgcolor": "#E5ECF6",
                      "caxis": {
                        "gridcolor": "white",
                        "linecolor": "white",
                        "ticks": ""
                      }
                    },
                    "title": {
                      "x": 0.05
                    },
                    "xaxis": {
                      "automargin": true,
                      "gridcolor": "white",
                      "linecolor": "white",
                      "ticks": "",
                      "title": {
                        "standoff": 15
                      },
                      "zerolinecolor": "white",
                      "zerolinewidth": 2
                    },
                    "yaxis": {
                      "automargin": true,
                      "gridcolor": "white",
                      "linecolor": "white",
                      "ticks": "",
                      "title": {
                        "standoff": 15
                      },
                      "zerolinecolor": "white",
                      "zerolinewidth": 2
                    }
                  }
                },
                "title": {
                  "text": "판매량 분포"
                },
                "xaxis": {
                  "anchor": "y",
                  "domain": [
                    0,
                    0.45
                  ]
                },
                "xaxis2": {
                  "anchor": "y2",
                  "domain": [
                    0.55,
                    1
                  ]
                },
                "yaxis": {
                  "anchor": "x",
                  "domain": [
                    0,
                    1
                  ]
                },
                "yaxis2": {
                  "anchor": "x2",
                  "domain": [
                    0,
                    1
                  ]
                }
              }
            }
          },
          "metadata": {},
          "output_type": "display_data"
        }
      ],
      "source": [
        "from plotly.subplots import make_subplots\n",
        "import plotly.graph_objects as go\n",
        "\n",
        "fig = make_subplots(rows=1, cols=2)\n",
        "\n",
        "fig.add_trace(\n",
        "    go.Histogram(x=df['Quantity'], nbinsx=30, name='판매량 분포'),\n",
        "    row=1, col=1\n",
        ")\n",
        "\n",
        "\n",
        "fig.add_trace(\n",
        "    go.Box(y=df['Quantity']),\n",
        "    \n",
        "    row=1, col=2\n",
        ")\n",
        "\n",
        "fig.update_layout(showlegend=False, title_text='판매량 분포')\n",
        "fig.show()"
      ]
    },
    {
      "cell_type": "markdown",
      "metadata": {},
      "source": [
        "   2. 'Category'별 평균 매출액('Sales')을 계산하고, 가장 높은 매출을 기록한 카테고리를 찾으세요."
      ]
    },
    {
      "cell_type": "code",
      "execution_count": 106,
      "metadata": {},
      "outputs": [
        {
          "data": {
            "text/plain": [
              "'Technology'"
            ]
          },
          "execution_count": 106,
          "metadata": {},
          "output_type": "execute_result"
        }
      ],
      "source": [
        "df.groupby('Category')['Profit'].agg(lambda x: np.mean(x)).sort_values(ascending=False).index[0]"
      ]
    },
    {
      "cell_type": "markdown",
      "metadata": {},
      "source": [
        "3. 'Sales'와 'Quantity'의 상관계수를 계산하고, 그 결과를 해석하세요.\n"
      ]
    },
    {
      "cell_type": "code",
      "execution_count": 109,
      "metadata": {},
      "outputs": [
        {
          "name": "stdout",
          "output_type": "stream",
          "text": [
            "매출액과 판매량 간의 상관관계가 없습니다.\n"
          ]
        }
      ],
      "source": [
        "correlation = float(df['Sales'].corr(df['Quantity']))\n",
        "if correlation > 0.3:\n",
        "    print(\"매출액과 판매량 간의 양의 상관관계가 높습니다.\")\n",
        "elif correlation < -0.3:\n",
        "    print(\"매출액과 판매량 간의 음의 상관관계가 높습니다.\")\n",
        "else:\n",
        "    print(\"매출액과 판매량 간의 상관관계가 없습니다.\")"
      ]
    },
    {
      "cell_type": "markdown",
      "metadata": {},
      "source": [
        "4. 'Sales' 컬럼의 기초 통계량(평균, 중앙값, 표준편차, 왜도, 첨도)을 계산하고 각 지표의 의미를 설명하세요.\n"
      ]
    },
    {
      "cell_type": "code",
      "execution_count": 110,
      "metadata": {},
      "outputs": [
        {
          "data": {
            "text/plain": [
              "count     9994.000000\n",
              "mean       229.858001\n",
              "std        623.245101\n",
              "min          0.444000\n",
              "25%         17.280000\n",
              "50%         54.490000\n",
              "75%        209.940000\n",
              "max      22638.480000\n",
              "Name: Sales, dtype: float64"
            ]
          },
          "execution_count": 110,
          "metadata": {},
          "output_type": "execute_result"
        }
      ],
      "source": [
        "df['Sales'].describe()"
      ]
    },
    {
      "cell_type": "code",
      "execution_count": 113,
      "metadata": {},
      "outputs": [
        {
          "data": {
            "text/plain": [
              "평균      229.858001\n",
              "중앙값      54.490000\n",
              "표준편차    623.245101\n",
              "왜도       12.972752\n",
              "첨도      305.311753\n",
              "Name: Sales, dtype: float64"
            ]
          },
          "execution_count": 113,
          "metadata": {},
          "output_type": "execute_result"
        }
      ],
      "source": [
        "df['Sales'].agg(\n",
        "    평균='mean',\n",
        "    중앙값='median',\n",
        "    표준편차='std',\n",
        "    왜도='skew',\n",
        "    첨도='kurtosis'\n",
        ")"
      ]
    },
    {
      "cell_type": "markdown",
      "metadata": {},
      "source": [
        "5. 평균이 50, 표준편차가 10인 정규분포에서 100개 샘플을 생성한 후, x=60일 때의 누적분포함수(CDF)와 생존함수(SF) 값을 계산하고 그 의미를 설명하세요.\n"
      ]
    },
    {
      "cell_type": "code",
      "execution_count": 116,
      "metadata": {},
      "outputs": [
        {
          "data": {
            "text/plain": [
              "array([41.64952803, 50.12732425, 21.0170803 , 52.46807441, 42.47067001,\n",
              "       54.46497002, 37.77856317, 48.39349155, 65.35108125, 68.41788155])"
            ]
          },
          "execution_count": 116,
          "metadata": {},
          "output_type": "execute_result"
        }
      ],
      "source": [
        "sample = stats.norm.rvs(size=100, loc=50, scale=10)\n",
        "sample[:10]"
      ]
    },
    {
      "cell_type": "code",
      "execution_count": 118,
      "metadata": {},
      "outputs": [
        {
          "name": "stdout",
          "output_type": "stream",
          "text": [
            "CDF:  0.8413447460685429\n",
            "SF:  0.15865525393145707\n"
          ]
        }
      ],
      "source": [
        "print(\"CDF: \", float(stats.norm.cdf(60, loc=50, scale=10)))\n",
        "print(\"SF: \", float(stats.norm.sf(60, loc=50, scale=10)))\n"
      ]
    },
    {
      "cell_type": "markdown",
      "metadata": {},
      "source": [
        "6. 'Quantity' 컬럼의 이상치를 IQR 기준으로 식별하고, 이상치가 포함된 주문 건수를 출력하세요.\n"
      ]
    },
    {
      "cell_type": "code",
      "execution_count": 128,
      "metadata": {},
      "outputs": [
        {
          "data": {
            "text/plain": [
              "np.float64(3.0)"
            ]
          },
          "execution_count": 128,
          "metadata": {},
          "output_type": "execute_result"
        }
      ],
      "source": [
        "IQR = df['Quantity'].agg(IQR=lambda x: x(x.quantile(0.75) - x.quantile(0.25))).values[0]\n",
        "IQR"
      ]
    },
    {
      "cell_type": "code",
      "execution_count": 137,
      "metadata": {},
      "outputs": [
        {
          "data": {
            "text/plain": [
              "3093"
            ]
          },
          "execution_count": 137,
          "metadata": {},
          "output_type": "execute_result"
        }
      ],
      "source": [
        "cond = df['Quantity'].apply(lambda x : x >= 1.5 * IQR or x <= -1.5 * IQR)\n",
        "len(df[cond])"
      ]
    },
    {
      "cell_type": "markdown",
      "metadata": {},
      "source": [
        "7. 'Category'별 매출액('Sales') 분포를 바이올린 플롯으로 시각화하고 비교하세요. (plotly 사용)\n"
      ]
    },
    {
      "cell_type": "code",
      "execution_count": 141,
      "metadata": {},
      "outputs": [
        {
          "data": {
            "text/html": [
              "<div>\n",
              "<style scoped>\n",
              "    .dataframe tbody tr th:only-of-type {\n",
              "        vertical-align: middle;\n",
              "    }\n",
              "\n",
              "    .dataframe tbody tr th {\n",
              "        vertical-align: top;\n",
              "    }\n",
              "\n",
              "    .dataframe thead th {\n",
              "        text-align: right;\n",
              "    }\n",
              "</style>\n",
              "<table border=\"1\" class=\"dataframe\">\n",
              "  <thead>\n",
              "    <tr style=\"text-align: right;\">\n",
              "      <th></th>\n",
              "      <th>Category</th>\n",
              "      <th>Sales</th>\n",
              "    </tr>\n",
              "  </thead>\n",
              "  <tbody>\n",
              "    <tr>\n",
              "      <th>0</th>\n",
              "      <td>Furniture</td>\n",
              "      <td>[261.96, 731.94, 957.5775, 48.86, 1706.184, 71...</td>\n",
              "    </tr>\n",
              "    <tr>\n",
              "      <th>1</th>\n",
              "      <td>Office Supplies</td>\n",
              "      <td>[14.62, 22.368, 7.28, 18.504, 114.9, 15.552, 4...</td>\n",
              "    </tr>\n",
              "    <tr>\n",
              "      <th>2</th>\n",
              "      <td>Technology</td>\n",
              "      <td>[907.152, 911.424, 213.48, 90.57, 1097.544, 37...</td>\n",
              "    </tr>\n",
              "  </tbody>\n",
              "</table>\n",
              "</div>"
            ],
            "text/plain": [
              "          Category                                              Sales\n",
              "0        Furniture  [261.96, 731.94, 957.5775, 48.86, 1706.184, 71...\n",
              "1  Office Supplies  [14.62, 22.368, 7.28, 18.504, 114.9, 15.552, 4...\n",
              "2       Technology  [907.152, 911.424, 213.48, 90.57, 1097.544, 37..."
            ]
          },
          "execution_count": 141,
          "metadata": {},
          "output_type": "execute_result"
        }
      ],
      "source": [
        "df_agg = df.groupby('Category')['Sales'].agg(list).reset_index()\n",
        "df_agg"
      ]
    },
    {
      "cell_type": "code",
      "execution_count": 149,
      "metadata": {},
      "outputs": [
        {
          "data": {
            "application/vnd.plotly.v1+json": {
              "config": {
                "plotlyServerURL": "https://plot.ly"
              },
              "data": [
                {
                  "name": "Furniture 매출액 분포",
                  "type": "violin",
                  "xaxis": "x",
                  "y": {
                    "bdata": "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",
                    "dtype": "f8"
                  },
                  "yaxis": "y"
                },
                {
                  "name": "Office Supplies 매출액 분포",
                  "type": "violin",
                  "xaxis": "x2",
                  "y": {
                    "bdata": "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",
                    "dtype": "f8"
                  },
                  "yaxis": "y2"
                },
                {
                  "name": "Technology 매출액 분포",
                  "type": "violin",
                  "xaxis": "x3",
                  "y": {
                    "bdata": "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",
                    "dtype": "f8"
                  },
                  "yaxis": "y3"
                }
              ],
              "layout": {
                "showlegend": false,
                "template": {
                  "data": {
                    "bar": [
                      {
                        "error_x": {
                          "color": "#2a3f5f"
                        },
                        "error_y": {
                          "color": "#2a3f5f"
                        },
                        "marker": {
                          "line": {
                            "color": "#E5ECF6",
                            "width": 0.5
                          },
                          "pattern": {
                            "fillmode": "overlay",
                            "size": 10,
                            "solidity": 0.2
                          }
                        },
                        "type": "bar"
                      }
                    ],
                    "barpolar": [
                      {
                        "marker": {
                          "line": {
                            "color": "#E5ECF6",
                            "width": 0.5
                          },
                          "pattern": {
                            "fillmode": "overlay",
                            "size": 10,
                            "solidity": 0.2
                          }
                        },
                        "type": "barpolar"
                      }
                    ],
                    "carpet": [
                      {
                        "aaxis": {
                          "endlinecolor": "#2a3f5f",
                          "gridcolor": "white",
                          "linecolor": "white",
                          "minorgridcolor": "white",
                          "startlinecolor": "#2a3f5f"
                        },
                        "baxis": {
                          "endlinecolor": "#2a3f5f",
                          "gridcolor": "white",
                          "linecolor": "white",
                          "minorgridcolor": "white",
                          "startlinecolor": "#2a3f5f"
                        },
                        "type": "carpet"
                      }
                    ],
                    "choropleth": [
                      {
                        "colorbar": {
                          "outlinewidth": 0,
                          "ticks": ""
                        },
                        "type": "choropleth"
                      }
                    ],
                    "contour": [
                      {
                        "colorbar": {
                          "outlinewidth": 0,
                          "ticks": ""
                        },
                        "colorscale": [
                          [
                            0,
                            "#0d0887"
                          ],
                          [
                            0.1111111111111111,
                            "#46039f"
                          ],
                          [
                            0.2222222222222222,
                            "#7201a8"
                          ],
                          [
                            0.3333333333333333,
                            "#9c179e"
                          ],
                          [
                            0.4444444444444444,
                            "#bd3786"
                          ],
                          [
                            0.5555555555555556,
                            "#d8576b"
                          ],
                          [
                            0.6666666666666666,
                            "#ed7953"
                          ],
                          [
                            0.7777777777777778,
                            "#fb9f3a"
                          ],
                          [
                            0.8888888888888888,
                            "#fdca26"
                          ],
                          [
                            1,
                            "#f0f921"
                          ]
                        ],
                        "type": "contour"
                      }
                    ],
                    "contourcarpet": [
                      {
                        "colorbar": {
                          "outlinewidth": 0,
                          "ticks": ""
                        },
                        "type": "contourcarpet"
                      }
                    ],
                    "heatmap": [
                      {
                        "colorbar": {
                          "outlinewidth": 0,
                          "ticks": ""
                        },
                        "colorscale": [
                          [
                            0,
                            "#0d0887"
                          ],
                          [
                            0.1111111111111111,
                            "#46039f"
                          ],
                          [
                            0.2222222222222222,
                            "#7201a8"
                          ],
                          [
                            0.3333333333333333,
                            "#9c179e"
                          ],
                          [
                            0.4444444444444444,
                            "#bd3786"
                          ],
                          [
                            0.5555555555555556,
                            "#d8576b"
                          ],
                          [
                            0.6666666666666666,
                            "#ed7953"
                          ],
                          [
                            0.7777777777777778,
                            "#fb9f3a"
                          ],
                          [
                            0.8888888888888888,
                            "#fdca26"
                          ],
                          [
                            1,
                            "#f0f921"
                          ]
                        ],
                        "type": "heatmap"
                      }
                    ],
                    "histogram": [
                      {
                        "marker": {
                          "pattern": {
                            "fillmode": "overlay",
                            "size": 10,
                            "solidity": 0.2
                          }
                        },
                        "type": "histogram"
                      }
                    ],
                    "histogram2d": [
                      {
                        "colorbar": {
                          "outlinewidth": 0,
                          "ticks": ""
                        },
                        "colorscale": [
                          [
                            0,
                            "#0d0887"
                          ],
                          [
                            0.1111111111111111,
                            "#46039f"
                          ],
                          [
                            0.2222222222222222,
                            "#7201a8"
                          ],
                          [
                            0.3333333333333333,
                            "#9c179e"
                          ],
                          [
                            0.4444444444444444,
                            "#bd3786"
                          ],
                          [
                            0.5555555555555556,
                            "#d8576b"
                          ],
                          [
                            0.6666666666666666,
                            "#ed7953"
                          ],
                          [
                            0.7777777777777778,
                            "#fb9f3a"
                          ],
                          [
                            0.8888888888888888,
                            "#fdca26"
                          ],
                          [
                            1,
                            "#f0f921"
                          ]
                        ],
                        "type": "histogram2d"
                      }
                    ],
                    "histogram2dcontour": [
                      {
                        "colorbar": {
                          "outlinewidth": 0,
                          "ticks": ""
                        },
                        "colorscale": [
                          [
                            0,
                            "#0d0887"
                          ],
                          [
                            0.1111111111111111,
                            "#46039f"
                          ],
                          [
                            0.2222222222222222,
                            "#7201a8"
                          ],
                          [
                            0.3333333333333333,
                            "#9c179e"
                          ],
                          [
                            0.4444444444444444,
                            "#bd3786"
                          ],
                          [
                            0.5555555555555556,
                            "#d8576b"
                          ],
                          [
                            0.6666666666666666,
                            "#ed7953"
                          ],
                          [
                            0.7777777777777778,
                            "#fb9f3a"
                          ],
                          [
                            0.8888888888888888,
                            "#fdca26"
                          ],
                          [
                            1,
                            "#f0f921"
                          ]
                        ],
                        "type": "histogram2dcontour"
                      }
                    ],
                    "mesh3d": [
                      {
                        "colorbar": {
                          "outlinewidth": 0,
                          "ticks": ""
                        },
                        "type": "mesh3d"
                      }
                    ],
                    "parcoords": [
                      {
                        "line": {
                          "colorbar": {
                            "outlinewidth": 0,
                            "ticks": ""
                          }
                        },
                        "type": "parcoords"
                      }
                    ],
                    "pie": [
                      {
                        "automargin": true,
                        "type": "pie"
                      }
                    ],
                    "scatter": [
                      {
                        "fillpattern": {
                          "fillmode": "overlay",
                          "size": 10,
                          "solidity": 0.2
                        },
                        "type": "scatter"
                      }
                    ],
                    "scatter3d": [
                      {
                        "line": {
                          "colorbar": {
                            "outlinewidth": 0,
                            "ticks": ""
                          }
                        },
                        "marker": {
                          "colorbar": {
                            "outlinewidth": 0,
                            "ticks": ""
                          }
                        },
                        "type": "scatter3d"
                      }
                    ],
                    "scattercarpet": [
                      {
                        "marker": {
                          "colorbar": {
                            "outlinewidth": 0,
                            "ticks": ""
                          }
                        },
                        "type": "scattercarpet"
                      }
                    ],
                    "scattergeo": [
                      {
                        "marker": {
                          "colorbar": {
                            "outlinewidth": 0,
                            "ticks": ""
                          }
                        },
                        "type": "scattergeo"
                      }
                    ],
                    "scattergl": [
                      {
                        "marker": {
                          "colorbar": {
                            "outlinewidth": 0,
                            "ticks": ""
                          }
                        },
                        "type": "scattergl"
                      }
                    ],
                    "scattermap": [
                      {
                        "marker": {
                          "colorbar": {
                            "outlinewidth": 0,
                            "ticks": ""
                          }
                        },
                        "type": "scattermap"
                      }
                    ],
                    "scattermapbox": [
                      {
                        "marker": {
                          "colorbar": {
                            "outlinewidth": 0,
                            "ticks": ""
                          }
                        },
                        "type": "scattermapbox"
                      }
                    ],
                    "scatterpolar": [
                      {
                        "marker": {
                          "colorbar": {
                            "outlinewidth": 0,
                            "ticks": ""
                          }
                        },
                        "type": "scatterpolar"
                      }
                    ],
                    "scatterpolargl": [
                      {
                        "marker": {
                          "colorbar": {
                            "outlinewidth": 0,
                            "ticks": ""
                          }
                        },
                        "type": "scatterpolargl"
                      }
                    ],
                    "scatterternary": [
                      {
                        "marker": {
                          "colorbar": {
                            "outlinewidth": 0,
                            "ticks": ""
                          }
                        },
                        "type": "scatterternary"
                      }
                    ],
                    "surface": [
                      {
                        "colorbar": {
                          "outlinewidth": 0,
                          "ticks": ""
                        },
                        "colorscale": [
                          [
                            0,
                            "#0d0887"
                          ],
                          [
                            0.1111111111111111,
                            "#46039f"
                          ],
                          [
                            0.2222222222222222,
                            "#7201a8"
                          ],
                          [
                            0.3333333333333333,
                            "#9c179e"
                          ],
                          [
                            0.4444444444444444,
                            "#bd3786"
                          ],
                          [
                            0.5555555555555556,
                            "#d8576b"
                          ],
                          [
                            0.6666666666666666,
                            "#ed7953"
                          ],
                          [
                            0.7777777777777778,
                            "#fb9f3a"
                          ],
                          [
                            0.8888888888888888,
                            "#fdca26"
                          ],
                          [
                            1,
                            "#f0f921"
                          ]
                        ],
                        "type": "surface"
                      }
                    ],
                    "table": [
                      {
                        "cells": {
                          "fill": {
                            "color": "#EBF0F8"
                          },
                          "line": {
                            "color": "white"
                          }
                        },
                        "header": {
                          "fill": {
                            "color": "#C8D4E3"
                          },
                          "line": {
                            "color": "white"
                          }
                        },
                        "type": "table"
                      }
                    ]
                  },
                  "layout": {
                    "annotationdefaults": {
                      "arrowcolor": "#2a3f5f",
                      "arrowhead": 0,
                      "arrowwidth": 1
                    },
                    "autotypenumbers": "strict",
                    "coloraxis": {
                      "colorbar": {
                        "outlinewidth": 0,
                        "ticks": ""
                      }
                    },
                    "colorscale": {
                      "diverging": [
                        [
                          0,
                          "#8e0152"
                        ],
                        [
                          0.1,
                          "#c51b7d"
                        ],
                        [
                          0.2,
                          "#de77ae"
                        ],
                        [
                          0.3,
                          "#f1b6da"
                        ],
                        [
                          0.4,
                          "#fde0ef"
                        ],
                        [
                          0.5,
                          "#f7f7f7"
                        ],
                        [
                          0.6,
                          "#e6f5d0"
                        ],
                        [
                          0.7,
                          "#b8e186"
                        ],
                        [
                          0.8,
                          "#7fbc41"
                        ],
                        [
                          0.9,
                          "#4d9221"
                        ],
                        [
                          1,
                          "#276419"
                        ]
                      ],
                      "sequential": [
                        [
                          0,
                          "#0d0887"
                        ],
                        [
                          0.1111111111111111,
                          "#46039f"
                        ],
                        [
                          0.2222222222222222,
                          "#7201a8"
                        ],
                        [
                          0.3333333333333333,
                          "#9c179e"
                        ],
                        [
                          0.4444444444444444,
                          "#bd3786"
                        ],
                        [
                          0.5555555555555556,
                          "#d8576b"
                        ],
                        [
                          0.6666666666666666,
                          "#ed7953"
                        ],
                        [
                          0.7777777777777778,
                          "#fb9f3a"
                        ],
                        [
                          0.8888888888888888,
                          "#fdca26"
                        ],
                        [
                          1,
                          "#f0f921"
                        ]
                      ],
                      "sequentialminus": [
                        [
                          0,
                          "#0d0887"
                        ],
                        [
                          0.1111111111111111,
                          "#46039f"
                        ],
                        [
                          0.2222222222222222,
                          "#7201a8"
                        ],
                        [
                          0.3333333333333333,
                          "#9c179e"
                        ],
                        [
                          0.4444444444444444,
                          "#bd3786"
                        ],
                        [
                          0.5555555555555556,
                          "#d8576b"
                        ],
                        [
                          0.6666666666666666,
                          "#ed7953"
                        ],
                        [
                          0.7777777777777778,
                          "#fb9f3a"
                        ],
                        [
                          0.8888888888888888,
                          "#fdca26"
                        ],
                        [
                          1,
                          "#f0f921"
                        ]
                      ]
                    },
                    "colorway": [
                      "#636efa",
                      "#EF553B",
                      "#00cc96",
                      "#ab63fa",
                      "#FFA15A",
                      "#19d3f3",
                      "#FF6692",
                      "#B6E880",
                      "#FF97FF",
                      "#FECB52"
                    ],
                    "font": {
                      "color": "#2a3f5f"
                    },
                    "geo": {
                      "bgcolor": "white",
                      "lakecolor": "white",
                      "landcolor": "#E5ECF6",
                      "showlakes": true,
                      "showland": true,
                      "subunitcolor": "white"
                    },
                    "hoverlabel": {
                      "align": "left"
                    },
                    "hovermode": "closest",
                    "mapbox": {
                      "style": "light"
                    },
                    "paper_bgcolor": "white",
                    "plot_bgcolor": "#E5ECF6",
                    "polar": {
                      "angularaxis": {
                        "gridcolor": "white",
                        "linecolor": "white",
                        "ticks": ""
                      },
                      "bgcolor": "#E5ECF6",
                      "radialaxis": {
                        "gridcolor": "white",
                        "linecolor": "white",
                        "ticks": ""
                      }
                    },
                    "scene": {
                      "xaxis": {
                        "backgroundcolor": "#E5ECF6",
                        "gridcolor": "white",
                        "gridwidth": 2,
                        "linecolor": "white",
                        "showbackground": true,
                        "ticks": "",
                        "zerolinecolor": "white"
                      },
                      "yaxis": {
                        "backgroundcolor": "#E5ECF6",
                        "gridcolor": "white",
                        "gridwidth": 2,
                        "linecolor": "white",
                        "showbackground": true,
                        "ticks": "",
                        "zerolinecolor": "white"
                      },
                      "zaxis": {
                        "backgroundcolor": "#E5ECF6",
                        "gridcolor": "white",
                        "gridwidth": 2,
                        "linecolor": "white",
                        "showbackground": true,
                        "ticks": "",
                        "zerolinecolor": "white"
                      }
                    },
                    "shapedefaults": {
                      "line": {
                        "color": "#2a3f5f"
                      }
                    },
                    "ternary": {
                      "aaxis": {
                        "gridcolor": "white",
                        "linecolor": "white",
                        "ticks": ""
                      },
                      "baxis": {
                        "gridcolor": "white",
                        "linecolor": "white",
                        "ticks": ""
                      },
                      "bgcolor": "#E5ECF6",
                      "caxis": {
                        "gridcolor": "white",
                        "linecolor": "white",
                        "ticks": ""
                      }
                    },
                    "title": {
                      "x": 0.05
                    },
                    "xaxis": {
                      "automargin": true,
                      "gridcolor": "white",
                      "linecolor": "white",
                      "ticks": "",
                      "title": {
                        "standoff": 15
                      },
                      "zerolinecolor": "white",
                      "zerolinewidth": 2
                    },
                    "yaxis": {
                      "automargin": true,
                      "gridcolor": "white",
                      "linecolor": "white",
                      "ticks": "",
                      "title": {
                        "standoff": 15
                      },
                      "zerolinecolor": "white",
                      "zerolinewidth": 2
                    }
                  }
                },
                "xaxis": {
                  "anchor": "y",
                  "domain": [
                    0,
                    0.2888888888888889
                  ]
                },
                "xaxis2": {
                  "anchor": "y2",
                  "domain": [
                    0.35555555555555557,
                    0.6444444444444445
                  ]
                },
                "xaxis3": {
                  "anchor": "y3",
                  "domain": [
                    0.7111111111111111,
                    1
                  ]
                },
                "yaxis": {
                  "anchor": "x",
                  "domain": [
                    0,
                    1
                  ]
                },
                "yaxis2": {
                  "anchor": "x2",
                  "domain": [
                    0,
                    1
                  ]
                },
                "yaxis3": {
                  "anchor": "x3",
                  "domain": [
                    0,
                    1
                  ]
                }
              }
            }
          },
          "metadata": {},
          "output_type": "display_data"
        }
      ],
      "source": [
        "fig = make_subplots(rows=1, cols=3)\n",
        "\n",
        "for idx, row in df_agg.iterrows():\n",
        "    category, sales = row['Category'], row['Sales']\n",
        "    sub_df = pd.DataFrame(sales, columns=['Sales'])\n",
        "    fig.add_trace(\n",
        "        go.Violin(y=sub_df['Sales'], name=f'{category} 매출액 분포'),\n",
        "        row=1, col=idx+1\n",
        "    )\n",
        "\n",
        "fig.update_layout(showlegend=False)\n",
        "fig.show()"
      ]
    }
  ],
  "metadata": {
    "colab": {
      "provenance": []
    },
    "kernelspec": {
      "display_name": ".venv",
      "language": "python",
      "name": "python3"
    },
    "language_info": {
      "codemirror_mode": {
        "name": "ipython",
        "version": 3
      },
      "file_extension": ".py",
      "mimetype": "text/x-python",
      "name": "python",
      "nbconvert_exporter": "python",
      "pygments_lexer": "ipython3",
      "version": "3.12.9"
    }
  },
  "nbformat": 4,
  "nbformat_minor": 0
}
