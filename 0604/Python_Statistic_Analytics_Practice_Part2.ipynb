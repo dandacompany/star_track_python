{
  "cells": [
    {
      "cell_type": "markdown",
      "metadata": {
        "id": "qx5zwI7K1x-e"
      },
      "source": [
        "## Pandas 활용 상관분석 기초 📊 \n",
        "\n",
        "-----\n",
        "\n",
        "### 1. 상관분석이란 무엇일까요? 📈📉\n",
        "\n",
        "#### 💡 개념 (Concept)\n",
        "\n",
        "  * 두 개 이상의 변수들 간에 어떤 관계가 있는지, 있다면 관계의 **강도**와 **방향**은 어떠한지를 통계적인 방법으로 분석하는 것입니다.\n",
        "  * 예를 들어, \"광고비 지출이 늘어나면 매출도 함께 증가할까?\", \"키가 클수록 몸무게도 많이 나갈까?\" 와 같은 질문에 답을 찾는 데 도움을 줄 수 있습니다.\n",
        "  * 상관분석은 변수 간의 **선형적 관계** 를 측정하는 데 주로 사용됩니다. \"선형적\"이라는 것은 하나의 변수가 증가할 때 다른 변수가 일정하게 증가하거나 감소하는 관계를 의미합니다.\n",
        "\n",
        "#### 🤔 왜 중요할까요?\n",
        "\n",
        "  * **데이터 이해**: 데이터 내 변수들 사이의 숨겨진 패턴이나 관계를 파악할 수 있습니다. 어떤 변수들이 서로 관련되어 있는지 알면 데이터의 전체적인 구조를 이해하는 데 도움이 됩니다.\n",
        "  * **특성 선택(Feature Selection)**: 머신러닝 모델을 만들 때, 어떤 변수(특성)가 예측 결과에 중요한 역할을 할지 힌트를 얻을 수 있습니다. 예를 들어, 목표 변수와 높은 상관관계를 가진 변수는 모델 학습에 유용할 가능성이 큽니다. 반대로, 서로 너무 높은 상관관계를 가진 입력 변수들은 다중공선성(multicollinearity) 문제를 일으켜 모델의 성능을 저하시킬 수 있으므로, 이 중 일부를 선택하거나 다른 방식으로 처리해야 할 수 있습니다.\n",
        "  * **의사결정 지원**: 분석 결과를 바탕으로 더 나은 비즈니스적 또는 과학적 의사결정을 내릴 수 있습니다. 예를 들어, 마케팅 캠페인의 효과를 분석하거나, 특정 정책의 영향을 예측하는 데 활용될 수 있습니다.\n",
        "\n",
        "-----"
      ]
    },
    {
      "cell_type": "markdown",
      "metadata": {},
      "source": [
        "\n",
        "### 2. 상관계수 📏\n",
        "\n",
        "#### 💡 개념 (Concept)\n",
        "\n",
        "  * **상관계수(Correlation Coefficient)** 는 두 변수 간의 선형적 관계의 **방향**과 **강도**를 하나의 숫자로 나타낸 값입니다.\n",
        "  * 가장 널리 사용되는 상관계수는 **피어슨 상관계수(Pearson Correlation Coefficient)** 입니다. 이 계수는 두 변수가 모두 연속형 데이터일 때 주로 사용됩니다.\n",
        "  * 그 외에도 변수의 특성(예: 순서형 데이터)이나 관계의 형태(예: 비선형 관계)에 따라 **스피어만 상관계수(Spearman Rank Correlation Coefficient)**, **켄달의 타우(Kendall's Tau)** 등 다른 종류의 상관계수도 사용됩니다. 여기서는 주로 피어슨 상관계수를 다룹니다.\n",
        "\n",
        "#### 🧐 피어슨 상관계수 (Pearson Correlation Coefficient)\n",
        "\n",
        "  * 두 변수 $X$와 $Y$ 간의 피어슨 상관계수 $r$은 다음과 같이 계산됩니다:\n",
        "    $$r = \\frac{\\sum_{i=1}^{n}(X_i - \\bar{X})(Y_i - \\bar{Y})}{\\sqrt{\\sum_{i=1}^{n}(X_i - \\bar{X})^2}\\sqrt{\\sum_{i=1}^{n}(Y_i - \\bar{Y})^2}}$$\n",
        "    여기서,\n",
        "\n",
        "      * $n$은 데이터 포인트(관측치)의 수\n",
        "      * $X\\_i, Y\\_i$는 각 데이터 포인트의 $X, Y$ 변수 값\n",
        "      * $\\\\bar{X}, \\\\bar{Y}$는 각 변수의 평균값입니다.\n",
        "        분자는 두 변수의 공분산(Covariance)에 해당하고, 분모는 각 변수의 표준편차의 곱으로 나누어 정규화하는 역할을 합니다.\n",
        "\n",
        "  * **값의 범위 및 해석**:\n",
        "    피어슨 상관계수 $r$은 항상 **-1과 +1 사이**의 값을 가집니다.\n",
        "\n",
        "      * **$r$이 +1 에 가까울수록**: 강한 **양의 선형 관계**를 의미합니다. (즉, 하나의 변수가 증가하면 다른 변수도 증가하는 경향이 뚜렷합니다.)\n",
        "      * **$r$이 -1 에 가까울수록**: 강한 **음의 선형 관계**를 의미합니다. (즉, 하나의 변수가 증가하면 다른 변수는 감소하는 경향이 뚜렷합니다.)\n",
        "      * **$r$이 0 에 가까울수록**: **선형 관계가 거의 없음**을 의미합니다. (두 변수 간에 뚜렷한 선형적 패턴이 없거나, 관계가 없거나, 또는 비선형적 관계가 있을 수 있습니다. 예를 들어, U자형 관계는 상관계수가 0에 가깝게 나올 수 있습니다.)\n",
        "\n",
        "    <img src=\"https://upload.wikimedia.org/wikipedia/commons/thumb/d/d4/Correlation_examples2.svg/600px-Correlation_examples2.svg.png\" alt=\"상관계수 해석 예시\" width=\"600\">\n",
        "\n",
        "    (이미지 출처: Wikimedia Commons, 사용자 DenisBoigelot이 생성, 원본 작성자 Imagecreator)\n",
        "\n",
        "      * 일반적으로 상관계수의 절대값 크기에 따라 다음과 같이 해석하기도 합니다 (절대적인 기준은 아니며, 분야나 상황에 따라 다를 수 있습니다):\n",
        "          * 0.0 \\~ 0.2: 매우 약하거나 거의 없는 관계\n",
        "          * 0.2 \\~ 0.4: 약한 관계\n",
        "          * 0.4 \\~ 0.6: 보통 관계\n",
        "          * 0.6 \\~ 0.8: 강한 관계\n",
        "          * 0.8 \\~ 1.0: 매우 강한 관계\n",
        "\n",
        "#### ⚠️ 매우 중요한 주의사항\\!\n",
        "\n",
        "  * **상관관계는 인과관계를 의미하지 않습니다\\!**\n",
        "\n",
        "  * 두 변수가 높은 상관관계를 보이더라도, 한 변수가 다른 변수의 **원인**이라고 단정 지을 수 없습니다.\n",
        "\n",
        "      * **제3의 변수(숨은 변수, Confounding variable)**: 두 변수 모두에 영향을 미치는 다른 요인이 있을 수 있습니다.\n",
        "          * 예시: 아이스크림 판매량과 익사 사고 발생률은 여름철에 함께 증가하는 양의 상관관계를 보일 수 있습니다. 하지만 아이스크림이 익사 사고의 원인이거나, 그 반대도 아닙니다. 실제로는 '더운 날씨'라는 제3의 요인이 아이스크림 소비도 늘리고 물놀이 활동도 증가시켜 두 변수 모두에 영향을 미치는 것입니다.\n",
        "      * **우연의 일치**: 특히 많은 변수를 분석할 경우, 우연히 높은 상관관계를 보이는 변수 쌍이 나타날 수 있습니다.\n",
        "      * **방향성 모호**: 상관관계만으로는 어느 변수가 원인이고 어느 변수가 결과인지 알 수 없습니다. $X$가 $Y$의 원인일 수도, $Y$가 $X$의 원인일 수도, 또는 서로 영향을 주고받을 수도 있습니다.\n",
        "\n",
        "    인과관계를 밝히기 위해서는 잘 설계된 실험 연구나 추가적인 분석(예: 시계열 분석에서의 그레인저 인과관계 검정, 구조 방정식 모형 등)이 필요합니다.\n",
        "\n",
        "-----\n"
      ]
    },
    {
      "cell_type": "markdown",
      "metadata": {},
      "source": [
        "\n",
        "### 3\\. Pandas로 상관분석 시작하기 🐼\n",
        "\n",
        "#### 📦 필요한 라이브러리 가져오기\n",
        "\n",
        "상관분석 및 시각화를 위해 다음 라이브러리들을 가져옵니다."
      ]
    },
    {
      "cell_type": "code",
      "execution_count": null,
      "metadata": {
        "id": "jJRZxcMr1x-h"
      },
      "outputs": [],
      "source": [
        "import pandas as pd\n",
        "import plotly.express as px\n",
        "import seaborn as sns"
      ]
    },
    {
      "cell_type": "markdown",
      "metadata": {
        "id": "TFwX0wSA1x-h"
      },
      "source": [
        "#### 💾 예제 데이터 준비\n",
        "\n",
        "여기서는 `seaborn` 라이브러리에 내장된 'tips' 데이터셋을 사용하겠습니다. 이 데이터셋은 어떤 식당에서 손님들이 지불한 총 식사 금액, 팁, 성별, 흡연 여부, 요일, 시간대, 동반 인원수 등의 정보를 담고 있습니다."
      ]
    },
    {
      "cell_type": "code",
      "execution_count": null,
      "metadata": {
        "id": "D_4zUwJX1x-h"
      },
      "outputs": [
        {
          "data": {
            "text/html": [
              "<div>\n",
              "<style scoped>\n",
              "    .dataframe tbody tr th:only-of-type {\n",
              "        vertical-align: middle;\n",
              "    }\n",
              "\n",
              "    .dataframe tbody tr th {\n",
              "        vertical-align: top;\n",
              "    }\n",
              "\n",
              "    .dataframe thead th {\n",
              "        text-align: right;\n",
              "    }\n",
              "</style>\n",
              "<table border=\"1\" class=\"dataframe\">\n",
              "  <thead>\n",
              "    <tr style=\"text-align: right;\">\n",
              "      <th></th>\n",
              "      <th>total_bill</th>\n",
              "      <th>tip</th>\n",
              "      <th>sex</th>\n",
              "      <th>smoker</th>\n",
              "      <th>day</th>\n",
              "      <th>time</th>\n",
              "      <th>size</th>\n",
              "    </tr>\n",
              "  </thead>\n",
              "  <tbody>\n",
              "    <tr>\n",
              "      <th>0</th>\n",
              "      <td>16.99</td>\n",
              "      <td>1.01</td>\n",
              "      <td>Female</td>\n",
              "      <td>No</td>\n",
              "      <td>Sun</td>\n",
              "      <td>Dinner</td>\n",
              "      <td>2</td>\n",
              "    </tr>\n",
              "    <tr>\n",
              "      <th>1</th>\n",
              "      <td>10.34</td>\n",
              "      <td>1.66</td>\n",
              "      <td>Male</td>\n",
              "      <td>No</td>\n",
              "      <td>Sun</td>\n",
              "      <td>Dinner</td>\n",
              "      <td>3</td>\n",
              "    </tr>\n",
              "    <tr>\n",
              "      <th>2</th>\n",
              "      <td>21.01</td>\n",
              "      <td>3.50</td>\n",
              "      <td>Male</td>\n",
              "      <td>No</td>\n",
              "      <td>Sun</td>\n",
              "      <td>Dinner</td>\n",
              "      <td>3</td>\n",
              "    </tr>\n",
              "    <tr>\n",
              "      <th>3</th>\n",
              "      <td>23.68</td>\n",
              "      <td>3.31</td>\n",
              "      <td>Male</td>\n",
              "      <td>No</td>\n",
              "      <td>Sun</td>\n",
              "      <td>Dinner</td>\n",
              "      <td>2</td>\n",
              "    </tr>\n",
              "    <tr>\n",
              "      <th>4</th>\n",
              "      <td>24.59</td>\n",
              "      <td>3.61</td>\n",
              "      <td>Female</td>\n",
              "      <td>No</td>\n",
              "      <td>Sun</td>\n",
              "      <td>Dinner</td>\n",
              "      <td>4</td>\n",
              "    </tr>\n",
              "  </tbody>\n",
              "</table>\n",
              "</div>"
            ],
            "text/plain": [
              "   total_bill   tip     sex smoker  day    time  size\n",
              "0       16.99  1.01  Female     No  Sun  Dinner     2\n",
              "1       10.34  1.66    Male     No  Sun  Dinner     3\n",
              "2       21.01  3.50    Male     No  Sun  Dinner     3\n",
              "3       23.68  3.31    Male     No  Sun  Dinner     2\n",
              "4       24.59  3.61  Female     No  Sun  Dinner     4"
            ]
          },
          "execution_count": 8,
          "metadata": {},
          "output_type": "execute_result"
        }
      ],
      "source": [
        "tips_df = px.data.tips()\n",
        "tips_df.head()"
      ]
    },
    {
      "cell_type": "code",
      "execution_count": null,
      "metadata": {},
      "outputs": [
        {
          "name": "stdout",
          "output_type": "stream",
          "text": [
            "<class 'pandas.core.frame.DataFrame'>\n",
            "RangeIndex: 244 entries, 0 to 243\n",
            "Data columns (total 7 columns):\n",
            " #   Column      Non-Null Count  Dtype  \n",
            "---  ------      --------------  -----  \n",
            " 0   total_bill  244 non-null    float64\n",
            " 1   tip         244 non-null    float64\n",
            " 2   sex         244 non-null    object \n",
            " 3   smoker      244 non-null    object \n",
            " 4   day         244 non-null    object \n",
            " 5   time        244 non-null    object \n",
            " 6   size        244 non-null    int64  \n",
            "dtypes: float64(2), int64(1), object(4)\n",
            "memory usage: 13.5+ KB\n"
          ]
        }
      ],
      "source": [
        "# 데이터셋 정보 확인 (컬럼명, 결측치 여부, 데이터 타입 등)\n",
        "tips_df.info()"
      ]
    },
    {
      "cell_type": "code",
      "execution_count": null,
      "metadata": {},
      "outputs": [
        {
          "data": {
            "text/html": [
              "<div>\n",
              "<style scoped>\n",
              "    .dataframe tbody tr th:only-of-type {\n",
              "        vertical-align: middle;\n",
              "    }\n",
              "\n",
              "    .dataframe tbody tr th {\n",
              "        vertical-align: top;\n",
              "    }\n",
              "\n",
              "    .dataframe thead th {\n",
              "        text-align: right;\n",
              "    }\n",
              "</style>\n",
              "<table border=\"1\" class=\"dataframe\">\n",
              "  <thead>\n",
              "    <tr style=\"text-align: right;\">\n",
              "      <th></th>\n",
              "      <th>total_bill</th>\n",
              "      <th>tip</th>\n",
              "      <th>size</th>\n",
              "    </tr>\n",
              "  </thead>\n",
              "  <tbody>\n",
              "    <tr>\n",
              "      <th>count</th>\n",
              "      <td>244.000000</td>\n",
              "      <td>244.000000</td>\n",
              "      <td>244.000000</td>\n",
              "    </tr>\n",
              "    <tr>\n",
              "      <th>mean</th>\n",
              "      <td>19.785943</td>\n",
              "      <td>2.998279</td>\n",
              "      <td>2.569672</td>\n",
              "    </tr>\n",
              "    <tr>\n",
              "      <th>std</th>\n",
              "      <td>8.902412</td>\n",
              "      <td>1.383638</td>\n",
              "      <td>0.951100</td>\n",
              "    </tr>\n",
              "    <tr>\n",
              "      <th>min</th>\n",
              "      <td>3.070000</td>\n",
              "      <td>1.000000</td>\n",
              "      <td>1.000000</td>\n",
              "    </tr>\n",
              "    <tr>\n",
              "      <th>25%</th>\n",
              "      <td>13.347500</td>\n",
              "      <td>2.000000</td>\n",
              "      <td>2.000000</td>\n",
              "    </tr>\n",
              "    <tr>\n",
              "      <th>50%</th>\n",
              "      <td>17.795000</td>\n",
              "      <td>2.900000</td>\n",
              "      <td>2.000000</td>\n",
              "    </tr>\n",
              "    <tr>\n",
              "      <th>75%</th>\n",
              "      <td>24.127500</td>\n",
              "      <td>3.562500</td>\n",
              "      <td>3.000000</td>\n",
              "    </tr>\n",
              "    <tr>\n",
              "      <th>max</th>\n",
              "      <td>50.810000</td>\n",
              "      <td>10.000000</td>\n",
              "      <td>6.000000</td>\n",
              "    </tr>\n",
              "  </tbody>\n",
              "</table>\n",
              "</div>"
            ],
            "text/plain": [
              "       total_bill         tip        size\n",
              "count  244.000000  244.000000  244.000000\n",
              "mean    19.785943    2.998279    2.569672\n",
              "std      8.902412    1.383638    0.951100\n",
              "min      3.070000    1.000000    1.000000\n",
              "25%     13.347500    2.000000    2.000000\n",
              "50%     17.795000    2.900000    2.000000\n",
              "75%     24.127500    3.562500    3.000000\n",
              "max     50.810000   10.000000    6.000000"
            ]
          },
          "execution_count": 10,
          "metadata": {},
          "output_type": "execute_result"
        }
      ],
      "source": [
        "# 수치형 데이터의 기술 통계량 확인 (평균, 표준편차, 최소값, 최대값, 사분위수 등)\n",
        "tips_df.describe()"
      ]
    },
    {
      "cell_type": "markdown",
      "metadata": {
        "id": "lJ_3j-8V1x-i"
      },
      "source": [
        "`tips_df.info()` 결과를 보면 `total_bill`, `tip`은 `float64`(실수형), `size`는 `int64`(정수형)으로 수치형 데이터임을 알 수 있습니다. `sex`, `smoker`, `day`, `time`은 범주형 데이터입니다. 상관분석은 주로 수치형 변수들 간에 이루어집니다.\n",
        "\n",
        "#### 🧮 `corr()` 메소드로 상관계수 계산하기\n",
        "\n",
        "Pandas DataFrame의 `corr()` 메소드는 기본적으로 모든 수치형 컬럼들 간의 **피어슨 상관계수**를 계산하여 상관계수 행렬(correlation matrix) 형태로 반환합니다."
      ]
    },
    {
      "cell_type": "code",
      "execution_count": null,
      "metadata": {
        "id": "XfT1sV4M1x-i"
      },
      "outputs": [
        {
          "data": {
            "text/html": [
              "<div>\n",
              "<style scoped>\n",
              "    .dataframe tbody tr th:only-of-type {\n",
              "        vertical-align: middle;\n",
              "    }\n",
              "\n",
              "    .dataframe tbody tr th {\n",
              "        vertical-align: top;\n",
              "    }\n",
              "\n",
              "    .dataframe thead th {\n",
              "        text-align: right;\n",
              "    }\n",
              "</style>\n",
              "<table border=\"1\" class=\"dataframe\">\n",
              "  <thead>\n",
              "    <tr style=\"text-align: right;\">\n",
              "      <th></th>\n",
              "      <th>total_bill</th>\n",
              "      <th>tip</th>\n",
              "      <th>size</th>\n",
              "    </tr>\n",
              "  </thead>\n",
              "  <tbody>\n",
              "    <tr>\n",
              "      <th>total_bill</th>\n",
              "      <td>1.000000</td>\n",
              "      <td>0.675734</td>\n",
              "      <td>0.598315</td>\n",
              "    </tr>\n",
              "    <tr>\n",
              "      <th>tip</th>\n",
              "      <td>0.675734</td>\n",
              "      <td>1.000000</td>\n",
              "      <td>0.489299</td>\n",
              "    </tr>\n",
              "    <tr>\n",
              "      <th>size</th>\n",
              "      <td>0.598315</td>\n",
              "      <td>0.489299</td>\n",
              "      <td>1.000000</td>\n",
              "    </tr>\n",
              "  </tbody>\n",
              "</table>\n",
              "</div>"
            ],
            "text/plain": [
              "            total_bill       tip      size\n",
              "total_bill    1.000000  0.675734  0.598315\n",
              "tip           0.675734  1.000000  0.489299\n",
              "size          0.598315  0.489299  1.000000"
            ]
          },
          "execution_count": 11,
          "metadata": {},
          "output_type": "execute_result"
        }
      ],
      "source": [
        "# 수치형 컬럼들 간의 상관계수 계산\n",
        "# Pandas 1.x 버전 이후부터는 수치형 데이터만 대상으로 하려면 numeric_only=True를 명시하는 것이 좋습니다.\n",
        "# 이전 버전에서는 자동으로 수치형 컬럼만 선택했습니다.\n",
        "correlation_matrix = tips_df.corr(numeric_only=True)\n",
        "correlation_matrix"
      ]
    },
    {
      "cell_type": "markdown",
      "metadata": {
        "id": "s6VR9gX21x-i"
      },
      "source": [
        "* **결과 해석**:\n",
        "    * 출력된 행렬은 각 변수 쌍 간의 상관계수를 보여줍니다.\n",
        "    * 행과 열의 이름은 데이터프레임의 수치형 컬럼명(`total_bill`, `tip`, `size`)입니다.\n",
        "    * 대각선 요소(예: `total_bill`과 `total_bill`의 상관계수)는 항상 1.000000입니다. 이는 자기 자신과의 상관관계는 완벽한 양의 선형 관계이기 때문입니다.\n",
        "    * 예를 들어, `total_bill`과 `tip` 사이의 상관계수는 약 0.675734로, 비교적 강한 양의 상관관계를 보입니다. 이는 총 식사 금액이 클수록 팁도 많이 주는 경향이 있다고 해석할 수 있습니다.\n",
        "    * `total_bill`과 `size` (식사 인원) 사이의 상관계수는 약 0.598315로, 역시 꽤 뚜렷한 양의 상관관계를 보입니다. 식사 인원이 많을수록 총 식사 금액도 커지는 것은 당연해 보입니다.\n",
        "    * `tip`과 `size` 사이의 상관계수는 약 0.489299로, 보통 수준의 양의 상관관계를 나타냅니다.\n",
        "\n",
        "#### ⚙️ 다른 상관계수 계산 (옵션)\n",
        "\n",
        "`corr()` 메소드의 `method` 파라미터를 사용하여 다른 종류의 상관계수도 계산할 수 있습니다. 주로 사용되는 옵션은 다음과 같습니다:\n",
        "\n",
        "  * `method='pearson'` (기본값)\n",
        "  * `method='spearman'`\n",
        "  * `method='kendall'`\n",
        "\n",
        "<!-- end list -->"
      ]
    },
    {
      "cell_type": "code",
      "execution_count": null,
      "metadata": {
        "id": "rw23ISPk1x-i"
      },
      "outputs": [
        {
          "data": {
            "text/html": [
              "<div>\n",
              "<style scoped>\n",
              "    .dataframe tbody tr th:only-of-type {\n",
              "        vertical-align: middle;\n",
              "    }\n",
              "\n",
              "    .dataframe tbody tr th {\n",
              "        vertical-align: top;\n",
              "    }\n",
              "\n",
              "    .dataframe thead th {\n",
              "        text-align: right;\n",
              "    }\n",
              "</style>\n",
              "<table border=\"1\" class=\"dataframe\">\n",
              "  <thead>\n",
              "    <tr style=\"text-align: right;\">\n",
              "      <th></th>\n",
              "      <th>total_bill</th>\n",
              "      <th>tip</th>\n",
              "      <th>size</th>\n",
              "    </tr>\n",
              "  </thead>\n",
              "  <tbody>\n",
              "    <tr>\n",
              "      <th>total_bill</th>\n",
              "      <td>1.000000</td>\n",
              "      <td>0.678968</td>\n",
              "      <td>0.604791</td>\n",
              "    </tr>\n",
              "    <tr>\n",
              "      <th>tip</th>\n",
              "      <td>0.678968</td>\n",
              "      <td>1.000000</td>\n",
              "      <td>0.468268</td>\n",
              "    </tr>\n",
              "    <tr>\n",
              "      <th>size</th>\n",
              "      <td>0.604791</td>\n",
              "      <td>0.468268</td>\n",
              "      <td>1.000000</td>\n",
              "    </tr>\n",
              "  </tbody>\n",
              "</table>\n",
              "</div>"
            ],
            "text/plain": [
              "            total_bill       tip      size\n",
              "total_bill    1.000000  0.678968  0.604791\n",
              "tip           0.678968  1.000000  0.468268\n",
              "size          0.604791  0.468268  1.000000"
            ]
          },
          "execution_count": 12,
          "metadata": {},
          "output_type": "execute_result"
        }
      ],
      "source": [
        "# 스피어만 순위 상관계수\n",
        "spearman_corr = tips_df.corr(method='spearman', numeric_only=True)\n",
        "spearman_corr\n"
      ]
    },
    {
      "cell_type": "code",
      "execution_count": null,
      "metadata": {},
      "outputs": [
        {
          "data": {
            "text/html": [
              "<div>\n",
              "<style scoped>\n",
              "    .dataframe tbody tr th:only-of-type {\n",
              "        vertical-align: middle;\n",
              "    }\n",
              "\n",
              "    .dataframe tbody tr th {\n",
              "        vertical-align: top;\n",
              "    }\n",
              "\n",
              "    .dataframe thead th {\n",
              "        text-align: right;\n",
              "    }\n",
              "</style>\n",
              "<table border=\"1\" class=\"dataframe\">\n",
              "  <thead>\n",
              "    <tr style=\"text-align: right;\">\n",
              "      <th></th>\n",
              "      <th>total_bill</th>\n",
              "      <th>tip</th>\n",
              "      <th>size</th>\n",
              "    </tr>\n",
              "  </thead>\n",
              "  <tbody>\n",
              "    <tr>\n",
              "      <th>total_bill</th>\n",
              "      <td>1.000000</td>\n",
              "      <td>0.517181</td>\n",
              "      <td>0.484342</td>\n",
              "    </tr>\n",
              "    <tr>\n",
              "      <th>tip</th>\n",
              "      <td>0.517181</td>\n",
              "      <td>1.000000</td>\n",
              "      <td>0.378185</td>\n",
              "    </tr>\n",
              "    <tr>\n",
              "      <th>size</th>\n",
              "      <td>0.484342</td>\n",
              "      <td>0.378185</td>\n",
              "      <td>1.000000</td>\n",
              "    </tr>\n",
              "  </tbody>\n",
              "</table>\n",
              "</div>"
            ],
            "text/plain": [
              "            total_bill       tip      size\n",
              "total_bill    1.000000  0.517181  0.484342\n",
              "tip           0.517181  1.000000  0.378185\n",
              "size          0.484342  0.378185  1.000000"
            ]
          },
          "execution_count": 13,
          "metadata": {},
          "output_type": "execute_result"
        }
      ],
      "source": [
        "\n",
        "# 켄달 타우 상관계수\n",
        "kendall_corr = tips_df.corr(method='kendall', numeric_only=True)\n",
        "kendall_corr"
      ]
    },
    {
      "cell_type": "markdown",
      "metadata": {
        "id": "B0Tpcllj1x-i"
      },
      "source": [
        "* **스피어만 상관계수(Spearman Rank Correlation Coefficient)**\n",
        "  * 각 변수의 실제 값 대신 그 값들의 순위(rank)를 매겨, 순위들 간의 피어슨 상관계수를 계산합니다. 따라서 선형 관계뿐만 아니라 단조 관계(monotonic relationship, 한 변수가 증가할 때 다른 변수가 반드시 증가하거나 감소하는 관계, 직선이 아니어도 됨)도 측정할 수 있습니다. 또한, 이상치(outlier)에 덜 민감한 특징이 있습니다.\n",
        "* **켄달 타우 상관계수(Kendall's Tau)**\n",
        "  * 데이터 쌍들이 얼마나 일치된 순서(concordant pairs)를 가지는지, 혹은 불일치된 순서(discordant pairs)를 가지는지를 기반으로 계산됩니다. 스피어만 상관계수와 유사하게 순서형 데이터나 비선형 단조 관계를 파악하는 데 사용될 수 있으며, 샘플 크기가 작거나 데이터에 동점(tie)이 많을 때 유용하다고 알려져 있습니다.\n",
        "\n",
        "일반적으로 피어슨, 스피어만, 켄달 상관계수는 비슷한 경향을 보이지만, 데이터의 특성이나 분포에 따라 값에 차이가 있을 수 있습니다. 분석 목적과 데이터의 특성을 고려하여 적절한 상관계수를 선택하는 것이 중요합니다.\n",
        "\n",
        "-----\n"
      ]
    },
    {
      "cell_type": "markdown",
      "metadata": {},
      "source": [
        "\n",
        "### 4. 상관관계 시각화하기 🎨\n",
        "\n",
        "상관계수 행렬을 숫자로만 보면 직관적으로 이해하기 어려울 수 있습니다. 이럴 때 **시각화** 를 활용하면 변수 간의 관계를 더 명확하고 빠르게 파악할 수 있습니다.\n",
        "\n",
        "#### Scatter Plot (산점도)\n",
        "\n",
        "**산점도(Scatter Plot)** 는 두 개의 연속형 변수 간의 관계를 점으로 나타내는 기본적인 그래프입니다. 각 점은 하나의 데이터 포인트(관측치)를 의미하며, x축과 y축에 각각 두 변수의 값을 대응시켜 점을 찍습니다.\n",
        "\n",
        "`plotly.express` 라이브러리의 `scatter()` 함수를 사용하면 손쉽게 인터랙티브한 산점도를 그릴 수 있습니다. (지난 시간에 배운내용 ^^ 복습.)"
      ]
    },
    {
      "cell_type": "code",
      "execution_count": null,
      "metadata": {
        "id": "oJm7LHrS1x-j"
      },
      "outputs": [],
      "source": [
        "# total_bill과 tip 간의 산점도\n",
        "fig_scatter = px.scatter(tips_df, x='total_bill', y='tip',\n",
        "                         title='총 식사 금액과 팁의 관계 (산점도)',\n",
        "                         labels={'total_bill': '총 식사 금액 ($)', 'tip': '팁 ($)'},\n",
        "                         hover_data=['size', 'day', 'time'], # 마우스 오버 시 추가 정보 표시\n",
        "                         trendline='ols') # OLS(Ordinary Least Squares) 기반의 추세선 추가\n",
        "fig_scatter.show()"
      ]
    },
    {
      "cell_type": "markdown",
      "metadata": {
        "id": "xBOsSsab1x-j"
      },
      "source": [
        "* **해석**\n",
        "    * 산점도를 보면 `total_bill`이 증가함에 따라 `tip`도 대체로 증가하는 **우상향 패턴** 을 확인할 수 있습니다. 이는 앞서 계산한 양의 상관계수(약 0.67)와 일치하는 결과입니다.\n",
        "    * `trendline='ols'` 옵션으로 추가된 **추세선(Trendline)** 은 이러한 전반적인 경향을 더 명확하게 보여줍니다. OLS는 잔차 제곱합을 최소화하는 방식으로 데이터에 가장 잘 맞는 직선을 찾는 방법입니다.\n",
        "    * 점들이 추세선 주위에 얼마나 밀집되어 있는지에 따라 관계의 강도를 시각적으로 가늠할 수 있습니다. 점들이 추세선에 가깝게 모여있을수록 상관관계가 강하다고 볼 수 있습니다.\n",
        "    * `hover_data`를 설정하면 각 점에 마우스를 올렸을 때 추가적인 정보를 볼 수 있어 유용합니다.\n",
        "\n",
        "#### Heatmap (히트맵)\n",
        "\n",
        "**히트맵(Heatmap)** 은 여러 변수 간의 상관계수 행렬을 색상으로 표현하는 시각화 방법입니다. 각 셀의 색깔이 해당 변수 쌍의 상관계수 값을 나타내므로, 상관관계의 강도와 방향을 한눈에 파악하기 용이합니다.\n",
        "\n",
        "`plotly.express`의 `imshow()` 함수를 사용하여 상관계수 행렬로 히트맵을 그릴 수 있습니다."
      ]
    },
    {
      "cell_type": "code",
      "execution_count": null,
      "metadata": {
        "id": "vyk-bVwL1x-j"
      },
      "outputs": [
        {
          "data": {
            "application/vnd.plotly.v1+json": {
              "config": {
                "plotlyServerURL": "https://plot.ly"
              },
              "data": [
                {
                  "coloraxis": "coloraxis",
                  "hovertemplate": "x: %{x}<br>y: %{y}<br>color: %{z}<extra></extra>",
                  "name": "0",
                  "texttemplate": "%{z}",
                  "type": "heatmap",
                  "x": [
                    "total_bill",
                    "tip",
                    "size"
                  ],
                  "xaxis": "x",
                  "y": [
                    "total_bill",
                    "tip",
                    "size"
                  ],
                  "yaxis": "y",
                  "z": {
                    "bdata": "AAAAAAAA8D8YWHsjnZ/lP0cI/sVlJeM/GFh7I52f5T8AAAAAAADwP1eVZc+rUN8/Rwj+xWUl4z9XlWXPq1DfPwAAAAAAAPA/",
                    "dtype": "f8",
                    "shape": "3, 3"
                  }
                }
              ],
              "layout": {
                "coloraxis": {
                  "cmax": 1,
                  "cmin": -1,
                  "colorscale": [
                    [
                      0,
                      "rgb(5,48,97)"
                    ],
                    [
                      0.1,
                      "rgb(33,102,172)"
                    ],
                    [
                      0.2,
                      "rgb(67,147,195)"
                    ],
                    [
                      0.3,
                      "rgb(146,197,222)"
                    ],
                    [
                      0.4,
                      "rgb(209,229,240)"
                    ],
                    [
                      0.5,
                      "rgb(247,247,247)"
                    ],
                    [
                      0.6,
                      "rgb(253,219,199)"
                    ],
                    [
                      0.7,
                      "rgb(244,165,130)"
                    ],
                    [
                      0.8,
                      "rgb(214,96,77)"
                    ],
                    [
                      0.9,
                      "rgb(178,24,43)"
                    ],
                    [
                      1,
                      "rgb(103,0,31)"
                    ]
                  ]
                },
                "template": {
                  "data": {
                    "bar": [
                      {
                        "error_x": {
                          "color": "#2a3f5f"
                        },
                        "error_y": {
                          "color": "#2a3f5f"
                        },
                        "marker": {
                          "line": {
                            "color": "#E5ECF6",
                            "width": 0.5
                          },
                          "pattern": {
                            "fillmode": "overlay",
                            "size": 10,
                            "solidity": 0.2
                          }
                        },
                        "type": "bar"
                      }
                    ],
                    "barpolar": [
                      {
                        "marker": {
                          "line": {
                            "color": "#E5ECF6",
                            "width": 0.5
                          },
                          "pattern": {
                            "fillmode": "overlay",
                            "size": 10,
                            "solidity": 0.2
                          }
                        },
                        "type": "barpolar"
                      }
                    ],
                    "carpet": [
                      {
                        "aaxis": {
                          "endlinecolor": "#2a3f5f",
                          "gridcolor": "white",
                          "linecolor": "white",
                          "minorgridcolor": "white",
                          "startlinecolor": "#2a3f5f"
                        },
                        "baxis": {
                          "endlinecolor": "#2a3f5f",
                          "gridcolor": "white",
                          "linecolor": "white",
                          "minorgridcolor": "white",
                          "startlinecolor": "#2a3f5f"
                        },
                        "type": "carpet"
                      }
                    ],
                    "choropleth": [
                      {
                        "colorbar": {
                          "outlinewidth": 0,
                          "ticks": ""
                        },
                        "type": "choropleth"
                      }
                    ],
                    "contour": [
                      {
                        "colorbar": {
                          "outlinewidth": 0,
                          "ticks": ""
                        },
                        "colorscale": [
                          [
                            0,
                            "#0d0887"
                          ],
                          [
                            0.1111111111111111,
                            "#46039f"
                          ],
                          [
                            0.2222222222222222,
                            "#7201a8"
                          ],
                          [
                            0.3333333333333333,
                            "#9c179e"
                          ],
                          [
                            0.4444444444444444,
                            "#bd3786"
                          ],
                          [
                            0.5555555555555556,
                            "#d8576b"
                          ],
                          [
                            0.6666666666666666,
                            "#ed7953"
                          ],
                          [
                            0.7777777777777778,
                            "#fb9f3a"
                          ],
                          [
                            0.8888888888888888,
                            "#fdca26"
                          ],
                          [
                            1,
                            "#f0f921"
                          ]
                        ],
                        "type": "contour"
                      }
                    ],
                    "contourcarpet": [
                      {
                        "colorbar": {
                          "outlinewidth": 0,
                          "ticks": ""
                        },
                        "type": "contourcarpet"
                      }
                    ],
                    "heatmap": [
                      {
                        "colorbar": {
                          "outlinewidth": 0,
                          "ticks": ""
                        },
                        "colorscale": [
                          [
                            0,
                            "#0d0887"
                          ],
                          [
                            0.1111111111111111,
                            "#46039f"
                          ],
                          [
                            0.2222222222222222,
                            "#7201a8"
                          ],
                          [
                            0.3333333333333333,
                            "#9c179e"
                          ],
                          [
                            0.4444444444444444,
                            "#bd3786"
                          ],
                          [
                            0.5555555555555556,
                            "#d8576b"
                          ],
                          [
                            0.6666666666666666,
                            "#ed7953"
                          ],
                          [
                            0.7777777777777778,
                            "#fb9f3a"
                          ],
                          [
                            0.8888888888888888,
                            "#fdca26"
                          ],
                          [
                            1,
                            "#f0f921"
                          ]
                        ],
                        "type": "heatmap"
                      }
                    ],
                    "histogram": [
                      {
                        "marker": {
                          "pattern": {
                            "fillmode": "overlay",
                            "size": 10,
                            "solidity": 0.2
                          }
                        },
                        "type": "histogram"
                      }
                    ],
                    "histogram2d": [
                      {
                        "colorbar": {
                          "outlinewidth": 0,
                          "ticks": ""
                        },
                        "colorscale": [
                          [
                            0,
                            "#0d0887"
                          ],
                          [
                            0.1111111111111111,
                            "#46039f"
                          ],
                          [
                            0.2222222222222222,
                            "#7201a8"
                          ],
                          [
                            0.3333333333333333,
                            "#9c179e"
                          ],
                          [
                            0.4444444444444444,
                            "#bd3786"
                          ],
                          [
                            0.5555555555555556,
                            "#d8576b"
                          ],
                          [
                            0.6666666666666666,
                            "#ed7953"
                          ],
                          [
                            0.7777777777777778,
                            "#fb9f3a"
                          ],
                          [
                            0.8888888888888888,
                            "#fdca26"
                          ],
                          [
                            1,
                            "#f0f921"
                          ]
                        ],
                        "type": "histogram2d"
                      }
                    ],
                    "histogram2dcontour": [
                      {
                        "colorbar": {
                          "outlinewidth": 0,
                          "ticks": ""
                        },
                        "colorscale": [
                          [
                            0,
                            "#0d0887"
                          ],
                          [
                            0.1111111111111111,
                            "#46039f"
                          ],
                          [
                            0.2222222222222222,
                            "#7201a8"
                          ],
                          [
                            0.3333333333333333,
                            "#9c179e"
                          ],
                          [
                            0.4444444444444444,
                            "#bd3786"
                          ],
                          [
                            0.5555555555555556,
                            "#d8576b"
                          ],
                          [
                            0.6666666666666666,
                            "#ed7953"
                          ],
                          [
                            0.7777777777777778,
                            "#fb9f3a"
                          ],
                          [
                            0.8888888888888888,
                            "#fdca26"
                          ],
                          [
                            1,
                            "#f0f921"
                          ]
                        ],
                        "type": "histogram2dcontour"
                      }
                    ],
                    "mesh3d": [
                      {
                        "colorbar": {
                          "outlinewidth": 0,
                          "ticks": ""
                        },
                        "type": "mesh3d"
                      }
                    ],
                    "parcoords": [
                      {
                        "line": {
                          "colorbar": {
                            "outlinewidth": 0,
                            "ticks": ""
                          }
                        },
                        "type": "parcoords"
                      }
                    ],
                    "pie": [
                      {
                        "automargin": true,
                        "type": "pie"
                      }
                    ],
                    "scatter": [
                      {
                        "fillpattern": {
                          "fillmode": "overlay",
                          "size": 10,
                          "solidity": 0.2
                        },
                        "type": "scatter"
                      }
                    ],
                    "scatter3d": [
                      {
                        "line": {
                          "colorbar": {
                            "outlinewidth": 0,
                            "ticks": ""
                          }
                        },
                        "marker": {
                          "colorbar": {
                            "outlinewidth": 0,
                            "ticks": ""
                          }
                        },
                        "type": "scatter3d"
                      }
                    ],
                    "scattercarpet": [
                      {
                        "marker": {
                          "colorbar": {
                            "outlinewidth": 0,
                            "ticks": ""
                          }
                        },
                        "type": "scattercarpet"
                      }
                    ],
                    "scattergeo": [
                      {
                        "marker": {
                          "colorbar": {
                            "outlinewidth": 0,
                            "ticks": ""
                          }
                        },
                        "type": "scattergeo"
                      }
                    ],
                    "scattergl": [
                      {
                        "marker": {
                          "colorbar": {
                            "outlinewidth": 0,
                            "ticks": ""
                          }
                        },
                        "type": "scattergl"
                      }
                    ],
                    "scattermap": [
                      {
                        "marker": {
                          "colorbar": {
                            "outlinewidth": 0,
                            "ticks": ""
                          }
                        },
                        "type": "scattermap"
                      }
                    ],
                    "scattermapbox": [
                      {
                        "marker": {
                          "colorbar": {
                            "outlinewidth": 0,
                            "ticks": ""
                          }
                        },
                        "type": "scattermapbox"
                      }
                    ],
                    "scatterpolar": [
                      {
                        "marker": {
                          "colorbar": {
                            "outlinewidth": 0,
                            "ticks": ""
                          }
                        },
                        "type": "scatterpolar"
                      }
                    ],
                    "scatterpolargl": [
                      {
                        "marker": {
                          "colorbar": {
                            "outlinewidth": 0,
                            "ticks": ""
                          }
                        },
                        "type": "scatterpolargl"
                      }
                    ],
                    "scatterternary": [
                      {
                        "marker": {
                          "colorbar": {
                            "outlinewidth": 0,
                            "ticks": ""
                          }
                        },
                        "type": "scatterternary"
                      }
                    ],
                    "surface": [
                      {
                        "colorbar": {
                          "outlinewidth": 0,
                          "ticks": ""
                        },
                        "colorscale": [
                          [
                            0,
                            "#0d0887"
                          ],
                          [
                            0.1111111111111111,
                            "#46039f"
                          ],
                          [
                            0.2222222222222222,
                            "#7201a8"
                          ],
                          [
                            0.3333333333333333,
                            "#9c179e"
                          ],
                          [
                            0.4444444444444444,
                            "#bd3786"
                          ],
                          [
                            0.5555555555555556,
                            "#d8576b"
                          ],
                          [
                            0.6666666666666666,
                            "#ed7953"
                          ],
                          [
                            0.7777777777777778,
                            "#fb9f3a"
                          ],
                          [
                            0.8888888888888888,
                            "#fdca26"
                          ],
                          [
                            1,
                            "#f0f921"
                          ]
                        ],
                        "type": "surface"
                      }
                    ],
                    "table": [
                      {
                        "cells": {
                          "fill": {
                            "color": "#EBF0F8"
                          },
                          "line": {
                            "color": "white"
                          }
                        },
                        "header": {
                          "fill": {
                            "color": "#C8D4E3"
                          },
                          "line": {
                            "color": "white"
                          }
                        },
                        "type": "table"
                      }
                    ]
                  },
                  "layout": {
                    "annotationdefaults": {
                      "arrowcolor": "#2a3f5f",
                      "arrowhead": 0,
                      "arrowwidth": 1
                    },
                    "autotypenumbers": "strict",
                    "coloraxis": {
                      "colorbar": {
                        "outlinewidth": 0,
                        "ticks": ""
                      }
                    },
                    "colorscale": {
                      "diverging": [
                        [
                          0,
                          "#8e0152"
                        ],
                        [
                          0.1,
                          "#c51b7d"
                        ],
                        [
                          0.2,
                          "#de77ae"
                        ],
                        [
                          0.3,
                          "#f1b6da"
                        ],
                        [
                          0.4,
                          "#fde0ef"
                        ],
                        [
                          0.5,
                          "#f7f7f7"
                        ],
                        [
                          0.6,
                          "#e6f5d0"
                        ],
                        [
                          0.7,
                          "#b8e186"
                        ],
                        [
                          0.8,
                          "#7fbc41"
                        ],
                        [
                          0.9,
                          "#4d9221"
                        ],
                        [
                          1,
                          "#276419"
                        ]
                      ],
                      "sequential": [
                        [
                          0,
                          "#0d0887"
                        ],
                        [
                          0.1111111111111111,
                          "#46039f"
                        ],
                        [
                          0.2222222222222222,
                          "#7201a8"
                        ],
                        [
                          0.3333333333333333,
                          "#9c179e"
                        ],
                        [
                          0.4444444444444444,
                          "#bd3786"
                        ],
                        [
                          0.5555555555555556,
                          "#d8576b"
                        ],
                        [
                          0.6666666666666666,
                          "#ed7953"
                        ],
                        [
                          0.7777777777777778,
                          "#fb9f3a"
                        ],
                        [
                          0.8888888888888888,
                          "#fdca26"
                        ],
                        [
                          1,
                          "#f0f921"
                        ]
                      ],
                      "sequentialminus": [
                        [
                          0,
                          "#0d0887"
                        ],
                        [
                          0.1111111111111111,
                          "#46039f"
                        ],
                        [
                          0.2222222222222222,
                          "#7201a8"
                        ],
                        [
                          0.3333333333333333,
                          "#9c179e"
                        ],
                        [
                          0.4444444444444444,
                          "#bd3786"
                        ],
                        [
                          0.5555555555555556,
                          "#d8576b"
                        ],
                        [
                          0.6666666666666666,
                          "#ed7953"
                        ],
                        [
                          0.7777777777777778,
                          "#fb9f3a"
                        ],
                        [
                          0.8888888888888888,
                          "#fdca26"
                        ],
                        [
                          1,
                          "#f0f921"
                        ]
                      ]
                    },
                    "colorway": [
                      "#636efa",
                      "#EF553B",
                      "#00cc96",
                      "#ab63fa",
                      "#FFA15A",
                      "#19d3f3",
                      "#FF6692",
                      "#B6E880",
                      "#FF97FF",
                      "#FECB52"
                    ],
                    "font": {
                      "color": "#2a3f5f"
                    },
                    "geo": {
                      "bgcolor": "white",
                      "lakecolor": "white",
                      "landcolor": "#E5ECF6",
                      "showlakes": true,
                      "showland": true,
                      "subunitcolor": "white"
                    },
                    "hoverlabel": {
                      "align": "left"
                    },
                    "hovermode": "closest",
                    "mapbox": {
                      "style": "light"
                    },
                    "paper_bgcolor": "white",
                    "plot_bgcolor": "#E5ECF6",
                    "polar": {
                      "angularaxis": {
                        "gridcolor": "white",
                        "linecolor": "white",
                        "ticks": ""
                      },
                      "bgcolor": "#E5ECF6",
                      "radialaxis": {
                        "gridcolor": "white",
                        "linecolor": "white",
                        "ticks": ""
                      }
                    },
                    "scene": {
                      "xaxis": {
                        "backgroundcolor": "#E5ECF6",
                        "gridcolor": "white",
                        "gridwidth": 2,
                        "linecolor": "white",
                        "showbackground": true,
                        "ticks": "",
                        "zerolinecolor": "white"
                      },
                      "yaxis": {
                        "backgroundcolor": "#E5ECF6",
                        "gridcolor": "white",
                        "gridwidth": 2,
                        "linecolor": "white",
                        "showbackground": true,
                        "ticks": "",
                        "zerolinecolor": "white"
                      },
                      "zaxis": {
                        "backgroundcolor": "#E5ECF6",
                        "gridcolor": "white",
                        "gridwidth": 2,
                        "linecolor": "white",
                        "showbackground": true,
                        "ticks": "",
                        "zerolinecolor": "white"
                      }
                    },
                    "shapedefaults": {
                      "line": {
                        "color": "#2a3f5f"
                      }
                    },
                    "ternary": {
                      "aaxis": {
                        "gridcolor": "white",
                        "linecolor": "white",
                        "ticks": ""
                      },
                      "baxis": {
                        "gridcolor": "white",
                        "linecolor": "white",
                        "ticks": ""
                      },
                      "bgcolor": "#E5ECF6",
                      "caxis": {
                        "gridcolor": "white",
                        "linecolor": "white",
                        "ticks": ""
                      }
                    },
                    "title": {
                      "x": 0.05
                    },
                    "xaxis": {
                      "automargin": true,
                      "gridcolor": "white",
                      "linecolor": "white",
                      "ticks": "",
                      "title": {
                        "standoff": 15
                      },
                      "zerolinecolor": "white",
                      "zerolinewidth": 2
                    },
                    "yaxis": {
                      "automargin": true,
                      "gridcolor": "white",
                      "linecolor": "white",
                      "ticks": "",
                      "title": {
                        "standoff": 15
                      },
                      "zerolinecolor": "white",
                      "zerolinewidth": 2
                    }
                  }
                },
                "title": {
                  "text": "수치형 변수 간 상관계수 히트맵 (Tips 데이터셋)"
                },
                "xaxis": {
                  "anchor": "y",
                  "domain": [
                    0,
                    1
                  ],
                  "side": "top"
                },
                "yaxis": {
                  "anchor": "x",
                  "autorange": "reversed",
                  "domain": [
                    0,
                    1
                  ]
                }
              }
            }
          },
          "metadata": {},
          "output_type": "display_data"
        }
      ],
      "source": [
        "# 위에서 계산한 피어슨 상관계수 행렬 사용\n",
        "# correlation_matrix = tips_df.corr(numeric_only=True)\n",
        "\n",
        "fig_heatmap = px.imshow(correlation_matrix,\n",
        "                        text_auto=True, # 각 셀에 상관계수 값을 텍스트로 표시\n",
        "                        aspect=\"auto\",  # 셀의 종횡비를 자동으로 조절하여 정사각형에 가깝게\n",
        "                        title='수치형 변수 간 상관계수 히트맵 (Tips 데이터셋)',\n",
        "                        color_continuous_scale='RdBu_r', # 색상 스케일: 빨강(양)-흰색(0)-파랑(음) 반전\n",
        "                        zmin=-1, zmax=1) # 색상 축의 최소값(-1)과 최대값(+1)을 명시적으로 설정\n",
        "fig_heatmap.update_xaxes(side=\"top\") # x축 레이블을 위쪽으로 이동 (일반적인 히트맵 형태)\n",
        "fig_heatmap.show()"
      ]
    },
    {
      "cell_type": "markdown",
      "metadata": {
        "id": "M7EGYQUX1x-j"
      },
      "source": [
        "* **해석**:\n",
        "    * `color_continuous_scale='RdBu_r'` 옵션은 빨간색 계열을 양의 상관관계, 파란색 계열을 음의 상관관계로 나타내며, 색이 진할수록 상관관계의 절대값이 큽니다 (강한 관계). `_r`은 색상 순서를 반전시키는 역할을 합니다. (일반적으로 빨간색이 양, 파란색이 음을 나타냄)\n",
        "    * `zmin=-1, zmax=1`은 색상 스케일의 범위를 상관계수의 가능한 범위인 -1에서 +1로 고정시켜 일관된 해석을 돕습니다.\n",
        "    * 대각선은 항상 가장 진한 빨간색 (또는 설정에 따라 다른 색)으로 표시되며 값은 1입니다.\n",
        "    * `total_bill`과 `tip` 셀, `total_bill`과 `size` 셀이 다른 셀들에 비해 상대적으로 짙은 붉은색 계열을 띠는 것을 통해 이들 간에 강한 양의 상관관계가 있음을 시각적으로 빠르게 파악할 수 있습니다.\n",
        "    * 만약 음의 상관관계가 있다면 파란색 계열로 표시될 것입니다. (이 데이터셋에서는 뚜렷한 음의 상관관계는 보이지 않습니다.)\n",
        "    * `text_auto=True` 옵션 덕분에 각 셀에 실제 상관계수 값이 표시되어 정확한 수치도 함께 확인할 수 있습니다.\n",
        "\n",
        "-----"
      ]
    },
    {
      "cell_type": "markdown",
      "metadata": {},
      "source": [
        "\n",
        "### ✏️ 연습 문제\n",
        "\n",
        "이제 배운 내용을 바탕으로 직접 연습문제를 풀어봅시다\\! 💪\n",
        "\n",
        "**데이터 준비**: 아래 코드를 실행하여 'iris' 데이터셋을 로드하고, 어떤 데이터인지 확인해보세요. 'iris' 데이터셋은 붓꽃의 세 가지 종류(species)에 대해 각각 꽃잎(petal)의 길이와 너비, 꽃받침(sepal)의 길이와 너비를 측정한 데이터를 담고 있습니다. 매우 유명한 데이터셋입니다."
      ]
    },
    {
      "cell_type": "code",
      "execution_count": null,
      "metadata": {
        "id": "u4qIlnR_1x-j"
      },
      "outputs": [
        {
          "data": {
            "text/html": [
              "<div>\n",
              "<style scoped>\n",
              "    .dataframe tbody tr th:only-of-type {\n",
              "        vertical-align: middle;\n",
              "    }\n",
              "\n",
              "    .dataframe tbody tr th {\n",
              "        vertical-align: top;\n",
              "    }\n",
              "\n",
              "    .dataframe thead th {\n",
              "        text-align: right;\n",
              "    }\n",
              "</style>\n",
              "<table border=\"1\" class=\"dataframe\">\n",
              "  <thead>\n",
              "    <tr style=\"text-align: right;\">\n",
              "      <th></th>\n",
              "      <th>sepal_length</th>\n",
              "      <th>sepal_width</th>\n",
              "      <th>petal_length</th>\n",
              "      <th>petal_width</th>\n",
              "      <th>species</th>\n",
              "      <th>species_id</th>\n",
              "    </tr>\n",
              "  </thead>\n",
              "  <tbody>\n",
              "    <tr>\n",
              "      <th>0</th>\n",
              "      <td>5.1</td>\n",
              "      <td>3.5</td>\n",
              "      <td>1.4</td>\n",
              "      <td>0.2</td>\n",
              "      <td>setosa</td>\n",
              "      <td>1</td>\n",
              "    </tr>\n",
              "    <tr>\n",
              "      <th>1</th>\n",
              "      <td>4.9</td>\n",
              "      <td>3.0</td>\n",
              "      <td>1.4</td>\n",
              "      <td>0.2</td>\n",
              "      <td>setosa</td>\n",
              "      <td>1</td>\n",
              "    </tr>\n",
              "    <tr>\n",
              "      <th>2</th>\n",
              "      <td>4.7</td>\n",
              "      <td>3.2</td>\n",
              "      <td>1.3</td>\n",
              "      <td>0.2</td>\n",
              "      <td>setosa</td>\n",
              "      <td>1</td>\n",
              "    </tr>\n",
              "    <tr>\n",
              "      <th>3</th>\n",
              "      <td>4.6</td>\n",
              "      <td>3.1</td>\n",
              "      <td>1.5</td>\n",
              "      <td>0.2</td>\n",
              "      <td>setosa</td>\n",
              "      <td>1</td>\n",
              "    </tr>\n",
              "    <tr>\n",
              "      <th>4</th>\n",
              "      <td>5.0</td>\n",
              "      <td>3.6</td>\n",
              "      <td>1.4</td>\n",
              "      <td>0.2</td>\n",
              "      <td>setosa</td>\n",
              "      <td>1</td>\n",
              "    </tr>\n",
              "  </tbody>\n",
              "</table>\n",
              "</div>"
            ],
            "text/plain": [
              "   sepal_length  sepal_width  petal_length  petal_width species  species_id\n",
              "0           5.1          3.5           1.4          0.2  setosa           1\n",
              "1           4.9          3.0           1.4          0.2  setosa           1\n",
              "2           4.7          3.2           1.3          0.2  setosa           1\n",
              "3           4.6          3.1           1.5          0.2  setosa           1\n",
              "4           5.0          3.6           1.4          0.2  setosa           1"
            ]
          },
          "execution_count": 17,
          "metadata": {},
          "output_type": "execute_result"
        }
      ],
      "source": [
        "# 연습문제용 데이터 로드\n",
        "iris_df = px.data.iris()\n",
        "iris_df.head()\n"
      ]
    },
    {
      "cell_type": "code",
      "execution_count": null,
      "metadata": {},
      "outputs": [
        {
          "name": "stdout",
          "output_type": "stream",
          "text": [
            "<class 'pandas.core.frame.DataFrame'>\n",
            "RangeIndex: 150 entries, 0 to 149\n",
            "Data columns (total 6 columns):\n",
            " #   Column        Non-Null Count  Dtype  \n",
            "---  ------        --------------  -----  \n",
            " 0   sepal_length  150 non-null    float64\n",
            " 1   sepal_width   150 non-null    float64\n",
            " 2   petal_length  150 non-null    float64\n",
            " 3   petal_width   150 non-null    float64\n",
            " 4   species       150 non-null    object \n",
            " 5   species_id    150 non-null    int64  \n",
            "dtypes: float64(4), int64(1), object(1)\n",
            "memory usage: 7.2+ KB\n"
          ]
        }
      ],
      "source": [
        "# 데이터 정보 확인\n",
        "iris_df.info()"
      ]
    },
    {
      "cell_type": "code",
      "execution_count": null,
      "metadata": {},
      "outputs": [
        {
          "data": {
            "text/html": [
              "<div>\n",
              "<style scoped>\n",
              "    .dataframe tbody tr th:only-of-type {\n",
              "        vertical-align: middle;\n",
              "    }\n",
              "\n",
              "    .dataframe tbody tr th {\n",
              "        vertical-align: top;\n",
              "    }\n",
              "\n",
              "    .dataframe thead th {\n",
              "        text-align: right;\n",
              "    }\n",
              "</style>\n",
              "<table border=\"1\" class=\"dataframe\">\n",
              "  <thead>\n",
              "    <tr style=\"text-align: right;\">\n",
              "      <th></th>\n",
              "      <th>sepal_length</th>\n",
              "      <th>sepal_width</th>\n",
              "      <th>petal_length</th>\n",
              "      <th>petal_width</th>\n",
              "      <th>species_id</th>\n",
              "    </tr>\n",
              "  </thead>\n",
              "  <tbody>\n",
              "    <tr>\n",
              "      <th>count</th>\n",
              "      <td>150.000000</td>\n",
              "      <td>150.000000</td>\n",
              "      <td>150.000000</td>\n",
              "      <td>150.000000</td>\n",
              "      <td>150.000000</td>\n",
              "    </tr>\n",
              "    <tr>\n",
              "      <th>mean</th>\n",
              "      <td>5.843333</td>\n",
              "      <td>3.054000</td>\n",
              "      <td>3.758667</td>\n",
              "      <td>1.198667</td>\n",
              "      <td>2.000000</td>\n",
              "    </tr>\n",
              "    <tr>\n",
              "      <th>std</th>\n",
              "      <td>0.828066</td>\n",
              "      <td>0.433594</td>\n",
              "      <td>1.764420</td>\n",
              "      <td>0.763161</td>\n",
              "      <td>0.819232</td>\n",
              "    </tr>\n",
              "    <tr>\n",
              "      <th>min</th>\n",
              "      <td>4.300000</td>\n",
              "      <td>2.000000</td>\n",
              "      <td>1.000000</td>\n",
              "      <td>0.100000</td>\n",
              "      <td>1.000000</td>\n",
              "    </tr>\n",
              "    <tr>\n",
              "      <th>25%</th>\n",
              "      <td>5.100000</td>\n",
              "      <td>2.800000</td>\n",
              "      <td>1.600000</td>\n",
              "      <td>0.300000</td>\n",
              "      <td>1.000000</td>\n",
              "    </tr>\n",
              "    <tr>\n",
              "      <th>50%</th>\n",
              "      <td>5.800000</td>\n",
              "      <td>3.000000</td>\n",
              "      <td>4.350000</td>\n",
              "      <td>1.300000</td>\n",
              "      <td>2.000000</td>\n",
              "    </tr>\n",
              "    <tr>\n",
              "      <th>75%</th>\n",
              "      <td>6.400000</td>\n",
              "      <td>3.300000</td>\n",
              "      <td>5.100000</td>\n",
              "      <td>1.800000</td>\n",
              "      <td>3.000000</td>\n",
              "    </tr>\n",
              "    <tr>\n",
              "      <th>max</th>\n",
              "      <td>7.900000</td>\n",
              "      <td>4.400000</td>\n",
              "      <td>6.900000</td>\n",
              "      <td>2.500000</td>\n",
              "      <td>3.000000</td>\n",
              "    </tr>\n",
              "  </tbody>\n",
              "</table>\n",
              "</div>"
            ],
            "text/plain": [
              "       sepal_length  sepal_width  petal_length  petal_width  species_id\n",
              "count    150.000000   150.000000    150.000000   150.000000  150.000000\n",
              "mean       5.843333     3.054000      3.758667     1.198667    2.000000\n",
              "std        0.828066     0.433594      1.764420     0.763161    0.819232\n",
              "min        4.300000     2.000000      1.000000     0.100000    1.000000\n",
              "25%        5.100000     2.800000      1.600000     0.300000    1.000000\n",
              "50%        5.800000     3.000000      4.350000     1.300000    2.000000\n",
              "75%        6.400000     3.300000      5.100000     1.800000    3.000000\n",
              "max        7.900000     4.400000      6.900000     2.500000    3.000000"
            ]
          },
          "execution_count": 19,
          "metadata": {},
          "output_type": "execute_result"
        }
      ],
      "source": [
        "# 데이터 기초통계량 확인\n",
        "iris_df.describe()"
      ]
    },
    {
      "cell_type": "code",
      "execution_count": null,
      "metadata": {},
      "outputs": [
        {
          "data": {
            "text/plain": [
              "array(['setosa', 'versicolor', 'virginica'], dtype=object)"
            ]
          },
          "execution_count": 22,
          "metadata": {},
          "output_type": "execute_result"
        }
      ],
      "source": [
        "# species 컬럼의 고유값 확인\n",
        "iris_df['species'].unique()"
      ]
    },
    {
      "cell_type": "markdown",
      "metadata": {
        "id": "Xg30VSeK1x-j"
      },
      "source": [
        "#### 문제 1: Iris 데이터셋의 수치형 변수 간 상관계수 행렬 계산하기\n",
        "\n",
        "  * `iris_df` DataFrame을 사용하여 모든 수치형 변수들(`sepal_length`, `sepal_width`, `petal_length`, `petal_width`) 간의 **피어슨 상관계수** 행렬을 계산하고 그 결과를 `iris_corr`라는 변수에 저장한 후 출력하세요."
      ]
    },
    {
      "cell_type": "code",
      "execution_count": null,
      "metadata": {
        "id": "bpB0zLqg1x-j"
      },
      "outputs": [],
      "source": [
        "# 연습 문제 1번 풀이 공간\n",
        "iris_corr = None # 이 곳에 코드를 작성하세요."
      ]
    },
    {
      "cell_type": "markdown",
      "metadata": {
        "id": "c6bMUgHM1x-j"
      },
      "source": [
        "#### 문제 2: 특정 변수 쌍 간의 상관계수 확인 및 해석하기\n",
        "\n",
        "  * 문제 1에서 계산된 상관계수 행렬 `iris_corr`를 사용하여, 다음 두 변수 쌍의 피어슨 상관계수 값을 직접 찾아서 각각 `petal_corr_value`와 `sepal_corr_value` 변수에 저장하고 출력해보세요.\n",
        "    1.  'petal\\_length' (꽃잎 길이)와 'petal\\_width' (꽃잎 너비)\n",
        "    2.  'sepal\\_length' (꽃받침 길이)와 'sepal\\_width' (꽃받침 너비)\n",
        "  * 각각의 상관계수 값이 무엇을 의미하는지 간단히 해석해보세요."
      ]
    },
    {
      "cell_type": "code",
      "execution_count": null,
      "metadata": {
        "id": "A-QElpSy1x-j"
      },
      "outputs": [],
      "source": [
        "# 연습 문제 2번 풀이 공간\n",
        "petal_corr_value = None # 이 곳에 코드를 작성하세요.\n",
        "sepal_corr_value = None # 이 곳에 코드를 작성하세요."
      ]
    },
    {
      "cell_type": "markdown",
      "metadata": {},
      "source": [
        "* 해석\n",
        "  \n",
        "    (작성하세요)\n"
      ]
    },
    {
      "cell_type": "markdown",
      "metadata": {
        "id": "xPnQ-0C61x-k"
      },
      "source": [
        "#### 문제 3: 'petal\\_length'와 'petal\\_width' 산점도 그리기 (종류별 색상 구분)\n",
        "\n",
        "  * `plotly.express`를 사용하여 'petal\\_length'를 x축, 'petal\\_width'를 y축으로 하는 산점도를 그려보세요.\n",
        "  * 점의 색깔을 'species' (붓꽃의 종류: setosa, versicolor, virginica)에 따라 다르게 표시해보세요. (힌트: `px.scatter`의 `color` 파라미터)\n",
        "  * 그래프의 제목은 \"꽃잎 길이와 너비의 관계 (붓꽃 종류별)\"로 설정하고, x축 레이블은 \"꽃잎 길이 (cm)\", y축 레이블은 \"꽃잎 너비 (cm)\"로 설정하세요.\n",
        "  * 각 붓꽃 종류별로 추세선도 추가해보세요. (힌트: `trendline` 파라미터와 `color` 파라미터를 함께 사용)"
      ]
    },
    {
      "cell_type": "code",
      "execution_count": null,
      "metadata": {
        "id": "-q5MVBlq1x-k"
      },
      "outputs": [],
      "source": [
        "# 연습 문제 3번 풀이 공간\n",
        "fig_iris_scatter = None # 이 곳에 코드를 작성하고 fig_iris_scatter.show() 로 확인하세요."
      ]
    },
    {
      "cell_type": "markdown",
      "metadata": {
        "id": "fWANTBvb1x-k"
      },
      "source": [
        "#### 문제 4: Iris 데이터셋 수치형 변수 전체 상관계수 히트맵 그리기\n",
        "\n",
        "  * 문제 1에서 계산한 `iris_corr` 상관계수 행렬을 `plotly.express.imshow`를 사용하여 히트맵으로 시각화하세요.\n",
        "  * 히트맵의 각 셀에 상관계수 값을 텍스트로 표시하세요.\n",
        "  * 그래프의 제목은 \"Iris 데이터셋 수치형 변수 간 상관계수 히트맵\"으로 설정하세요.\n",
        "  * 색상 스케일은 `'coolwarm'` 또는 `'RdBu_r'` 등을 사용하고, 색상 값의 범위(`zmin`, `zmax`)를 -1에서 1로 설정하여 일관성을 유지하세요."
      ]
    },
    {
      "cell_type": "code",
      "execution_count": null,
      "metadata": {
        "id": "fN1D-s9K1x-k"
      },
      "outputs": [],
      "source": [
        "# 연습 문제 4번 풀이 공간\n",
        "fig_iris_heatmap = None # 이 곳에 코드를 작성하고 fig_iris_heatmap.show() 로 확인하세요."
      ]
    },
    {
      "cell_type": "markdown",
      "metadata": {},
      "source": [
        "### ✏️ 미니 실습 PJT 과제"
      ]
    },
    {
      "cell_type": "markdown",
      "metadata": {},
      "source": [
        "#### 과제 1: 슈퍼마켓 데이터셋 상관분석 (sample_superstore2.csv 파일 사용)\n",
        "\n",
        "* 데이터셋 정보 확인\n",
        "* 데이터셋 기술통계량 확인\n",
        "* 데이터셋 상관계수 행렬 계산\n",
        "* 데이터셋 상관계수 행렬 시각화\n",
        "* 주요 변수 간의 산점도 시각화\n",
        "* 데이터셋 상관계수 행렬 해석"
      ]
    },
    {
      "cell_type": "markdown",
      "metadata": {},
      "source": [
        "#### 과제 2: 서울시 따릉이 자전거 이용현황 데이터 + (서울 열린데이터 ) 상관분석 -> 발표자 3명 선정\n",
        " - 자전거 이용현황 데이터(일별) : https://data.seoul.go.kr/dataList/OA-14994/F/1/datasetView.do\n",
        " - 분석 준비 \n",
        "   - https://data.seoul.go.kr 에 회원가입\n",
        "   - 일별 데이터셋 중 자전거 이용현황과 영향을 미치거나 상관성이 있을것으로 사료되는 데이터셋 검색\n",
        "   - 데이터을 다운로드 받은 후, datasets 폴더에 저장\n",
        "   - 데이터셋 확인후, pandas 로 2개의 데이터셋을 로드하여 병합\n",
        "   - 자전거 이용현황과 상관관계가 뚜렷한 특징변수를 탐색\n",
        " - 꼭 담겨야할 분석 내용\n",
        "    * 데이터셋 정보 확인\n",
        "    * 데이터셋 기술통계량 확인\n",
        "    * 데이터셋 pandas 전처리 (결측치 처리, 데이터 타입 변환, 데이터 정렬, 병합 등)\n",
        "    * 데이터셋 상관계수 행렬 계산\n",
        "    * 데이터셋 상관계수 행렬 시각화\n",
        "    * 주요 변수 간의 산점도 시각화\n",
        "    * 데이터셋 상관계수 행렬 해석"
      ]
    },
    {
      "cell_type": "markdown",
      "metadata": {},
      "source": []
    }
  ],
  "metadata": {
    "colab": {
      "provenance": []
    },
    "kernelspec": {
      "display_name": "Python 3",
      "name": "python3"
    }
  },
  "nbformat": 4,
  "nbformat_minor": 0
}
