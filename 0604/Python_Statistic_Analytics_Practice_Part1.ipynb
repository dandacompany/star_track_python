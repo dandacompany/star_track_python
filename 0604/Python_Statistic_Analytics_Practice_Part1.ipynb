{
  "cells": [
    {
      "cell_type": "markdown",
      "metadata": {
        "id": "CHAbbUjF1Hk3"
      },
      "source": [
        "## 🐍 Python 기반 기초 통계\n",
        "\n",
        "---\n",
        "* **사전 준비 사항**\n",
        "    * Python 기본 문법에 대한 이해\n",
        "    * Pandas DataFrame 사용 경험\n",
        "---"
      ]
    },
    {
      "cell_type": "markdown",
      "metadata": {},
      "source": [
        "\n",
        "* **클래스 목표 및 2일 로드맵 소개**\n",
        "\n",
        "  * **2일간의 학습 여정:** 기초 통계부터 A/B 테스트 실전까지 체계적으로 학습합니다.\n",
        "  * **학습 목표:**\n",
        "      * 핵심 통계 개념의 명확한 이해.\n",
        "      * Python 코드를 활용한 통계 분석 기법 적용 능력 함양.\n",
        "      * A/B 테스트의 설계, 실행, 분석 및 결과 해석 능력 배양.\n",
        "      * 데이터 기반의 합리적인 의사결정 능력 향상.\n",
        "  * **학습 방법:**\n",
        "      * 주요 이론 및 핵심 개념 강의.\n",
        "      * 강의 내용을 바로 적용해보는 집중적인 실습 세션.\n",
        "      * 실제와 유사한 데이터셋을 사용한 문제 해결.\n",
        "---"
      ]
    },
    {
      "cell_type": "markdown",
      "metadata": {},
      "source": [
        "## ☀️ DAY 1: Python을 활용한 핵심 통계 개념 정복\n",
        "---\n",
        "\n",
        "### 📊 M1. 기술 통계 Review (10:00-11:20 | 80분: 강의 30분, 실습 50분)\n",
        "\n",
        "🎯 **학습 목표:**\n",
        "\n",
        "* 데이터의 중심 경향을 나타내는 주요 측정값(평균, 중앙값, 최빈값)을 이해하고 계산할 수 있습니다.\n",
        "* 데이터의 흩어진 정도를 나타내는 산포도 측정값(분산, 표준편차, 범위, 사분위수 범위)을 이해하고 계산할 수 있습니다.\n",
        "* 데이터 분포의 모양을 설명하는 왜도와 첨도의 개념을 이해하고 해석할 수 있습니다.\n",
        "* Python의 주요 라이브러리(Pandas, Scipy)를 활용하여 기술 통계량을 효율적으로 분석하고 시각화할 수 있습니다.\n",
        "\n",
        "#### 💡 개념 (Concept)\n",
        "\n",
        "기술 통계(Descriptive Statistics)는 수집된 데이터를 요약하고 설명하여 데이터의 주요 특징을 파악하는 데 도움을 줍니다.\n",
        "\"\n",
        "**1. 중심 경향치 (Central Tendency):** 데이터의 중심을 나타내는 값들입니다.\n",
        "\n",
        "* **평균 (Mean):** 모든 데이터 값을 더한 후 데이터의 총개수로 나눈 값입니다. 이상치(outlier)에 민감하게 반응합니다.\n",
        "    $\\mu = \\frac{\\sum_{i=1}^{N} x_i}{N}$\n",
        "    또는 표본 평균:\n",
        "    $\\bar{x} = \\frac{\\sum_{i=1}^{n} x_i}{n}$\n",
        "* **중앙값 (Median):** 데이터를 크기 순으로 정렬했을 때 정확히 가운데에 위치하는 값입니다. 데이터의 개수가 짝수일 경우, 가운데 두 값의 평균을 사용합니다. 이상치에 덜 민감합니다(robust).\n",
        "* **최빈값 (Mode):** 데이터에서 가장 빈번하게 나타나는 값입니다. 범주형 데이터나 이산형 데이터에 주로 사용되며, 여러 개 존재할 수도 있고 존재하지 않을 수도 있습니다.\n",
        "\n",
        "**2. 산포도 (Dispersion/Variability):** 데이터가 얼마나 흩어져 있는지를 나타내는 값들입니다.\n",
        "\n",
        "* **분산 (Variance):** 각 데이터 값이 평균으로부터 얼마나 떨어져 있는지를 제곱하여 평균 낸 값입니다. 데이터의 흩어진 정도를 나타내지만, 단위가 원래 데이터의 단위의 제곱이 됩니다.\n",
        "    모분산: $\\sigma^2 = \\frac{\\sum_{i=1}^{N} (x_i - \\mu)^2}{N}$\n",
        "    표본분산: $s^2 = \\frac{\\sum_{i=1}^{n} (x_i - \\bar{x})^2}{n-1}$ (n-1로 나누는 것은 불편추정량을 얻기 위함)\n",
        "* **표준편차 (Standard Deviation):** 분산의 제곱근으로, 데이터의 변동성을 원래 데이터와 같은 단위로 직관적으로 보여줍니다.\n",
        "    모표준편차: $\\sigma = \\sqrt{\\sigma^2}$\n",
        "    표본표준편차: $s = \\sqrt{s^2}$\n",
        "* **범위 (Range):** 데이터의 최댓값과 최솟값의 차이입니다. 계산이 간단하지만, 데이터 양 끝의 이상치에 크게 영향을 받습니다.\n",
        "    $\\text{Range} = \\text{Max}(x) - \\text{Min}(x)$\n",
        "* **사분위수 범위 (Interquartile Range, IQR):** 데이터를 크기 순으로 정렬했을 때, 제3사분위수(Q3, 상위 25%)와 제1사분위수(Q1, 하위 25%)의 차이입니다. 데이터의 중간 50%가 포함되는 범위로, 이상치에 덜 민감합니다.\n",
        "    $\\text{IQR} = Q3 - Q1$\n",
        "\n",
        "**3. 분포의 형태 (Shape of Distribution):**\n",
        "\n",
        "* **왜도 (Skewness):** 데이터 분포의 비대칭성을 나타내는 지표입니다.\n",
        "    * **정규분포의 왜도 = 0:** 좌우 대칭입니다.\n",
        "    * **양의 왜도 (Positive Skew, 오른쪽 꼬리 분포):** 분포의 오른쪽 꼬리가 왼쪽보다 깁니다. 평균 > 중앙값 > 최빈값 순서일 가능성이 높습니다.\n",
        "    * **음의 왜도 (Negative Skew, 왼쪽 꼬리 분포):** 분포의 왼쪽 꼬리가 오른쪽보다 깁니다. 최빈값 > 중앙값 > 평균 순서일 가능성이 높습니다.\n",
        "* **첨도 (Kurtosis):** 데이터 분포의 뾰족한 정도와 꼬리의 두께를 나타내는 지표입니다.\n",
        "    * **정규분포의 첨도 = 3 (또는 초과 첨도(Excess Kurtosis) = 0):** 표준적인 뾰족함을 가집니다. `scipy.stats.kurtosis()`는 초과 첨도를 기준으로 계산하며, 정규분포일 경우 0이 나옵니다.\n",
        "    * **고첨도 (Leptokurtic, 초과 첨도 > 0):** 분포의 중심이 더 뾰족하고 꼬리가 두껍습니다 (이상치가 많을 수 있음).\n",
        "    * **저첨도 (Platykurtic, 초과 첨도 < 0):** 분포의 중심이 더 평평하고 꼬리가 얇습니다.\n",
        "\n",
        "**4. 데이터 시그니처 해석:**\n",
        "\n",
        "기술 통계량과 시각화 도구(히스토그램, 박스플롯 등)를 함께 사용하여 데이터에 숨겨진 패턴, 경향성, 이상치 등을 종합적으로 파악합니다. 예를 들어, 평균과 중앙값이 크게 차이 나면 데이터가 한쪽으로 치우쳐 있을 가능성을 시사합니다.\n",
        "\n",
        "#### 💻 예시 코드 (Example Code)\n",
        "\n",
        "가상의 데이터셋 `단다컴퍼니_매출.csv` (날짜, 상품ID, 카테고리, 매출액, 판매량 컬럼 포함 가정)를 사용합니다."
      ]
    },
    {
      "cell_type": "code",
      "execution_count": 1,
      "metadata": {},
      "outputs": [],
      "source": [
        "import os\n",
        "os.sys.path.append(os.path.dirname(os.path.abspath(os.getcwd())))\n",
        "from lib.slide import show_html_slides"
      ]
    },
    {
      "cell_type": "code",
      "execution_count": 2,
      "metadata": {},
      "outputs": [
        {
          "data": {
            "text/html": [
              "\n",
              "    <style>\n",
              "    .slide-container {\n",
              "        width: 100%;\n",
              "        max-width: 960px;\n",
              "        aspect-ratio: 16 / 9;\n",
              "        height: auto;\n",
              "        min-height: 540px; /* Increased min-height for better readability */\n",
              "        border: 1px solid #ddd; /* Lighter border */\n",
              "        border-radius: 12px; /* Softer corners */\n",
              "        background: #ffffff; /* Clean white background */\n",
              "        box-shadow: 0 4px 12px rgba(0,0,0,0.05); /* Subtle shadow */\n",
              "        position: relative;\n",
              "        overflow: hidden;\n",
              "        margin: 20px auto; /* Added margin for better page integration */\n",
              "        display: flex;\n",
              "        align-items: center;\n",
              "        justify-content: center;\n",
              "    }\n",
              "    .slide-content {\n",
              "        width: 100%;\n",
              "        height: 100%;\n",
              "        display: none;\n",
              "        justify-content: flex-start; /* Align content to the top */\n",
              "        align-items: center; /* Center content horizontally */\n",
              "        flex-direction: column;\n",
              "        position: absolute;\n",
              "        top: 0; left: 0; right: 0; bottom: 0;\n",
              "        text-align: left; /* Default text align to left for lists */\n",
              "        padding: 50px; /* Generous padding */\n",
              "        box-sizing: border-box; /* Include padding in width/height */\n",
              "    }\n",
              "    .slide-content.active {\n",
              "        display: flex;\n",
              "    }\n",
              "    .slide-header-title {\n",
              "        font-size: 2.8em; /* Larger title */\n",
              "        color: #2c3e50; /* Dark, modern blue */\n",
              "        margin-bottom: 30px;\n",
              "        font-weight: 600; /* Slightly bolder */\n",
              "        width: 100%; /* Ensure title takes full width for centering if needed */\n",
              "        text-align: center; /* Center the title */\n",
              "    }\n",
              "    .slide-list-content {\n",
              "        font-size: 1.3em; /* Adjusted for readability */\n",
              "        color: #34495e; /* Softer black */\n",
              "        line-height: 1.8; /* Increased line height */\n",
              "        list-style-type: disc; /* Standard bullets */\n",
              "        padding-left: 40px; /* Indent list items */\n",
              "        align-self: flex-start; /* Align list to the left within the content area */\n",
              "        width: 100%; /* Allow list to use available width */\n",
              "        max-width: 800px; /* Optional: constrain list width for very wide slides */\n",
              "    }\n",
              "    .slide-list-content li {\n",
              "        margin-bottom: 12px; /* Space between list items */\n",
              "    }\n",
              "    .navigation {\n",
              "        position: absolute;\n",
              "        bottom: 20px; /* Positioned slightly higher */\n",
              "        left: 50%;\n",
              "        transform: translateX(-50%);\n",
              "        z-index: 10;\n",
              "        display: flex;\n",
              "        justify-content: center;\n",
              "    }\n",
              "    .nav-btn {\n",
              "        background: #3498db; /* Brighter blue */\n",
              "        color: white;\n",
              "        border: none;\n",
              "        padding: 12px 20px; /* Larger buttons */\n",
              "        margin: 0 10px;\n",
              "        border-radius: 6px; /* Softer button corners */\n",
              "        cursor: pointer;\n",
              "        font-size: 1em;\n",
              "        transition: background-color 0.3s ease; /* Smooth hover effect */\n",
              "    }\n",
              "    .nav-btn:hover {\n",
              "        background: #2980b9; /* Darker blue on hover */\n",
              "    }\n",
              "    </style>\n",
              "\n",
              "    <div class=\"slide-container\" id=\"slideContainer\">\n",
              "        \n",
              "        <div class=\"slide-content active\" id=\"slide-1\">\n",
              "            <h1 class=\"slide-header-title\">1. 중심 경향치 (Central Tendency)</h1><ul class=\"slide-list-content\"><li>평균 (Mean): 모든 데이터 값을 더한 후 데이터의 총개수로 나눈 값<br><span style=\"color:#555;\">이상치(outlier)에 민감하게 반응</span><br><span style=\"font-size:0.95em;\">$\\mu = \\dfrac{\\sum_{i=1}^{N} x_i}{N}$<br>$\\bar{x} = \\dfrac{\\sum_{i=1}^{n} x_i}{n}$ (표본 평균)</span></li><li>중앙값 (Median): 데이터를 크기 순으로 정렬했을 때 가운데에 위치하는 값<br><span style=\"color:#555;\">짝수개면 가운데 두 값의 평균, 이상치에 덜 민감(robust)</span></li><li>최빈값 (Mode): 데이터에서 가장 빈번하게 나타나는 값<br><span style=\"color:#555;\">범주형/이산형 데이터에 주로 사용, 여러 개 또는 없을 수도 있음</span></li></ul>\n",
              "        </div>\n",
              "        \n",
              "        <div class=\"slide-content \" id=\"slide-2\">\n",
              "            <h1 class=\"slide-header-title\">2. 산포도 (Dispersion/Variability)</h1><ul class=\"slide-list-content\"><li>분산 (Variance): 각 데이터가 평균에서 얼마나 떨어져 있는지의 제곱 평균<br><span style=\"font-size:0.95em;\">모분산: $\\sigma^2 = \\dfrac{\\sum_{i=1}^{N} (x_i - \\mu)^2}{N}$<br>표본분산: $s^2 = \\dfrac{\\sum_{i=1}^{n} (x_i - \\bar{x})^2}{n-1}$</span></li><li>표준편차 (Standard Deviation): 분산의 제곱근, 원래 단위와 동일<br><span style=\"font-size:0.95em;\">$\\sigma = \\sqrt{\\sigma^2}$, $s = \\sqrt{s^2}$</span></li><li>범위 (Range): 최댓값 - 최솟값<br><span style=\"font-size:0.95em;\">$\\text{Range} = \\text{Max}(x) - \\text{Min}(x)$</span></li><li>사분위수 범위 (IQR): Q3(상위25%) - Q1(하위25%)<br><span style=\"font-size:0.95em;\">$\\text{IQR} = Q3 - Q1$</span></li></ul>\n",
              "        </div>\n",
              "        \n",
              "        <div class=\"slide-content \" id=\"slide-3\">\n",
              "            <h1 class=\"slide-header-title\">3. 분포의 형태 (Shape of Distribution)</h1><ul class=\"slide-list-content\"><li>왜도 (Skewness): 분포의 비대칭성<ul><li>정규분포: 왜도=0 (좌우 대칭)</li><li>양의 왜도: 오른쪽 꼬리, 평균 &gt; 중앙값 &gt; 최빈값</li><li>음의 왜도: 왼쪽 꼬리, 최빈값 &gt; 중앙값 &gt; 평균</li></ul></li><li>첨도 (Kurtosis): 분포의 뾰족함과 꼬리 두께<ul><li>정규분포 첨도=3 (초과첨도=0)</li><li>고첨도(Leptokurtic): 중심 뾰족, 꼬리 두꺼움 (이상치 많음)</li><li>저첨도(Platykurtic): 중심 평평, 꼬리 얇음</li></ul></li></ul>\n",
              "        </div>\n",
              "        \n",
              "        <div class=\"slide-content \" id=\"slide-4\">\n",
              "            <h1 class=\"slide-header-title\">4. 데이터 시그니처 해석</h1><ul class=\"slide-list-content\"><li>기술 통계량과 <b>시각화 도구(히스토그램, 박스플롯 등)</b>를 함께 사용</li><li>데이터의 패턴, 경향성, 이상치 등을 종합적으로 파악</li><li>예시: 평균과 중앙값이 크게 차이 나면 데이터가 한쪽으로 치우쳐 있을 가능성</li><li>💻 <b>예시 코드</b>:<br>가상의 데이터셋 <code>단다컴퍼니_매출.csv</code> (날짜, 상품ID, 카테고리, 매출액, 판매량 컬럼 포함)를 사용</li></ul>\n",
              "        </div>\n",
              "        \n",
              "        <div class=\"navigation\">\n",
              "            <button class=\"nav-btn\" onclick=\"prevSlide()\">이전</button>\n",
              "            <button class=\"nav-btn\" onclick=\"nextSlide()\">다음</button>\n",
              "        </div>\n",
              "    </div>\n",
              "    <script>\n",
              "    MathJax = {\n",
              "      tex: {\n",
              "        inlineMath: [['$', '$'], ['\\\\(', '\\\\)']],\n",
              "        displayMath: [['$$', '$$'], ['\\\\[', '\\\\]']],\n",
              "        processEscapes: true\n",
              "      },\n",
              "      svg: {\n",
              "        fontCache: 'global'\n",
              "      }\n",
              "    };\n",
              "    </script>\n",
              "    <script src=\"https://polyfill.io/v3/polyfill.min.js?features=es6\"></script>\n",
              "    <script id=\"MathJax-script\" async src=\"https://cdn.jsdelivr.net/npm/mathjax@3/es5/tex-mml-chtml.js\"></script>\n",
              "    <script>\n",
              "    var currentSlide = 1;\n",
              "    var totalSlides = 4;\n",
              "\n",
              "    function showSlide(n) {\n",
              "        for (var i = 1; i <= totalSlides; i++) {\n",
              "            var slide = document.getElementById('slide-' + i);\n",
              "            if (slide) {\n",
              "                slide.classList.remove('active');\n",
              "                if (i === n) {\n",
              "                    slide.classList.add('active');\n",
              "                }\n",
              "            }\n",
              "        }\n",
              "        // Trigger MathJax typesetting for the new active slide\n",
              "        if (window.MathJax && typeof window.MathJax.typesetPromise === 'function') {\n",
              "            setTimeout(() => { // Delay to ensure DOM is updated\n",
              "                try {\n",
              "                    const elementToTypeset = document.getElementById('slide-' + n);\n",
              "                    if (elementToTypeset) {\n",
              "                        window.MathJax.typesetPromise([elementToTypeset]);\n",
              "                    } else {\n",
              "                        // console.warn(\"MathJax: Element slide-\" + n + \" not found for typesetting.\");\n",
              "                    }\n",
              "                } catch (e) {\n",
              "                    console.error(\"MathJax typesetting error:\", e);\n",
              "                }\n",
              "            }, 0);\n",
              "        }\n",
              "    }\n",
              "\n",
              "    function prevSlide() {\n",
              "        currentSlide = currentSlide - 1;\n",
              "        if (currentSlide < 1) currentSlide = totalSlides;\n",
              "        showSlide(currentSlide);\n",
              "    }\n",
              "\n",
              "    function nextSlide() {\n",
              "        currentSlide = currentSlide + 1;\n",
              "        if (currentSlide > totalSlides) currentSlide = 1;\n",
              "        showSlide(currentSlide);\n",
              "    }\n",
              "\n",
              "    document.addEventListener(\"DOMContentLoaded\", function() {\n",
              "        showSlide(currentSlide);\n",
              "    });\n",
              "    </script>\n",
              "    "
            ],
            "text/plain": [
              "<IPython.core.display.HTML object>"
            ]
          },
          "metadata": {},
          "output_type": "display_data"
        }
      ],
      "source": [
        "slides_data = [\n",
        "    {\n",
        "        'title': '1. 중심 경향치 (Central Tendency)',\n",
        "        'items': [\n",
        "            '평균 (Mean): 모든 데이터 값을 더한 후 데이터의 총개수로 나눈 값<br><span style=\"color:#555;\">이상치(outlier)에 민감하게 반응</span><br><span style=\"font-size:0.95em;\">$\\\\mu = \\\\dfrac{\\\\sum_{i=1}^{N} x_i}{N}$<br>$\\\\bar{x} = \\\\dfrac{\\\\sum_{i=1}^{n} x_i}{n}$ (표본 평균)</span>',\n",
        "            '중앙값 (Median): 데이터를 크기 순으로 정렬했을 때 가운데에 위치하는 값<br><span style=\"color:#555;\">짝수개면 가운데 두 값의 평균, 이상치에 덜 민감(robust)</span>',\n",
        "            '최빈값 (Mode): 데이터에서 가장 빈번하게 나타나는 값<br><span style=\"color:#555;\">범주형/이산형 데이터에 주로 사용, 여러 개 또는 없을 수도 있음</span>'\n",
        "        ]\n",
        "    },\n",
        "    {\n",
        "        'title': '2. 산포도 (Dispersion/Variability)',\n",
        "        'items': [\n",
        "            '분산 (Variance): 각 데이터가 평균에서 얼마나 떨어져 있는지의 제곱 평균<br><span style=\"font-size:0.95em;\">모분산: $\\\\sigma^2 = \\\\dfrac{\\\\sum_{i=1}^{N} (x_i - \\\\mu)^2}{N}$<br>표본분산: $s^2 = \\\\dfrac{\\\\sum_{i=1}^{n} (x_i - \\\\bar{x})^2}{n-1}$</span>',\n",
        "            '표준편차 (Standard Deviation): 분산의 제곱근, 원래 단위와 동일<br><span style=\"font-size:0.95em;\">$\\\\sigma = \\\\sqrt{\\\\sigma^2}$, $s = \\\\sqrt{s^2}$</span>',\n",
        "            '범위 (Range): 최댓값 - 최솟값<br><span style=\"font-size:0.95em;\">$\\\\text{Range} = \\\\text{Max}(x) - \\\\text{Min}(x)$</span>',\n",
        "            '사분위수 범위 (IQR): Q3(상위25%) - Q1(하위25%)<br><span style=\"font-size:0.95em;\">$\\\\text{IQR} = Q3 - Q1$</span>'\n",
        "        ]\n",
        "    },\n",
        "    {\n",
        "        'title': '3. 분포의 형태 (Shape of Distribution)',\n",
        "        'items': [\n",
        "            '왜도 (Skewness): 분포의 비대칭성<ul><li>정규분포: 왜도=0 (좌우 대칭)</li><li>양의 왜도: 오른쪽 꼬리, 평균 &gt; 중앙값 &gt; 최빈값</li><li>음의 왜도: 왼쪽 꼬리, 최빈값 &gt; 중앙값 &gt; 평균</li></ul>',\n",
        "            '첨도 (Kurtosis): 분포의 뾰족함과 꼬리 두께<ul><li>정규분포 첨도=3 (초과첨도=0)</li><li>고첨도(Leptokurtic): 중심 뾰족, 꼬리 두꺼움 (이상치 많음)</li><li>저첨도(Platykurtic): 중심 평평, 꼬리 얇음</li></ul>'\n",
        "        ]\n",
        "    },\n",
        "    {\n",
        "        'title': '4. 데이터 시그니처 해석',\n",
        "        'items': [\n",
        "            '기술 통계량과 <b>시각화 도구(히스토그램, 박스플롯 등)</b>를 함께 사용',\n",
        "            '데이터의 패턴, 경향성, 이상치 등을 종합적으로 파악',\n",
        "            '예시: 평균과 중앙값이 크게 차이 나면 데이터가 한쪽으로 치우쳐 있을 가능성',\n",
        "            '💻 <b>예시 코드</b>:<br>가상의 데이터셋 <code>단다컴퍼니_매출.csv</code> (날짜, 상품ID, 카테고리, 매출액, 판매량 컬럼 포함)를 사용'\n",
        "        ]\n",
        "    }\n",
        "]\n",
        "\n",
        "show_html_slides(slides_data)"
      ]
    },
    {
      "cell_type": "markdown",
      "metadata": {},
      "source": [
        "라이브러리 로드"
      ]
    },
    {
      "cell_type": "code",
      "execution_count": 16,
      "metadata": {
        "id": "bdUDxu0H1Hk5"
      },
      "outputs": [],
      "source": [
        "import pandas as pd\n",
        "import numpy as np\n",
        "from scipy import stats\n",
        "import plotly.express as px\n",
        "import plotly.graph_objects as go\n",
        "import plotly.io as pio\n",
        "from plotly.subplots import make_subplots\n",
        "from ipywidgets import widgets\n",
        "from IPython.display import display"
      ]
    },
    {
      "cell_type": "code",
      "execution_count": 59,
      "metadata": {},
      "outputs": [],
      "source": [
        "# 가상 데이터 생성 (실제로는 pd.read_csv() 사용)\n",
        "data = {\n",
        "    'date': pd.to_datetime(['2023-01-01', '2023-01-01', '2023-01-02', '2023-01-02', '2023-01-03', '2023-01-03', '2023-01-04', '2023-01-04', '2023-01-05', '2023-01-05'] * 10),\n",
        "    'product_id': [f'P{100+i}' for i in range(10)] * 10,\n",
        "    'category': ['Electronics', 'Books', 'Clothing', 'Electronics', 'Books', 'Clothing', 'Home Goods', 'Beauty', 'Sports', 'Electronics'] * 10,\n",
        "    'revenue': np.random.lognormal(mean=np.log(100), sigma=0.8, size=100).round(2) + np.random.randint(10, 500, size=100), # 매출액 (양의 왜도를 가지도록)\n",
        "    'quantity': np.random.randint(1, 15, size=100)\n",
        "}\n",
        "df = pd.DataFrame(data)\n"
      ]
    },
    {
      "cell_type": "markdown",
      "metadata": {},
      "source": [
        "데이터 확인"
      ]
    },
    {
      "cell_type": "code",
      "execution_count": 6,
      "metadata": {},
      "outputs": [
        {
          "name": "stdout",
          "output_type": "stream",
          "text": [
            "--- 데이터 정보 ---\n",
            "<class 'pandas.core.frame.DataFrame'>\n",
            "RangeIndex: 100 entries, 0 to 99\n",
            "Data columns (total 5 columns):\n",
            " #   Column      Non-Null Count  Dtype         \n",
            "---  ------      --------------  -----         \n",
            " 0   date        100 non-null    datetime64[ns]\n",
            " 1   product_id  100 non-null    object        \n",
            " 2   category    100 non-null    object        \n",
            " 3   revenue     100 non-null    float64       \n",
            " 4   quantity    100 non-null    int64         \n",
            "dtypes: datetime64[ns](1), float64(1), int64(1), object(2)\n",
            "memory usage: 4.0+ KB\n"
          ]
        }
      ],
      "source": [
        "# 데이터 불러오기 (실제 경우)\n",
        "# df = pd.read_csv('단다컴퍼니_매출.csv')\n",
        "\n",
        "# 기본 정보 확인\n",
        "print(\"--- 데이터 정보 ---\")\n",
        "df.info()\n"
      ]
    },
    {
      "cell_type": "code",
      "execution_count": 8,
      "metadata": {},
      "outputs": [
        {
          "data": {
            "text/html": [
              "<div>\n",
              "<style scoped>\n",
              "    .dataframe tbody tr th:only-of-type {\n",
              "        vertical-align: middle;\n",
              "    }\n",
              "\n",
              "    .dataframe tbody tr th {\n",
              "        vertical-align: top;\n",
              "    }\n",
              "\n",
              "    .dataframe thead th {\n",
              "        text-align: right;\n",
              "    }\n",
              "</style>\n",
              "<table border=\"1\" class=\"dataframe\">\n",
              "  <thead>\n",
              "    <tr style=\"text-align: right;\">\n",
              "      <th></th>\n",
              "      <th>date</th>\n",
              "      <th>product_id</th>\n",
              "      <th>category</th>\n",
              "      <th>revenue</th>\n",
              "      <th>quantity</th>\n",
              "    </tr>\n",
              "  </thead>\n",
              "  <tbody>\n",
              "    <tr>\n",
              "      <th>0</th>\n",
              "      <td>2023-01-01</td>\n",
              "      <td>P100</td>\n",
              "      <td>Electronics</td>\n",
              "      <td>489.37</td>\n",
              "      <td>3</td>\n",
              "    </tr>\n",
              "    <tr>\n",
              "      <th>1</th>\n",
              "      <td>2023-01-01</td>\n",
              "      <td>P101</td>\n",
              "      <td>Books</td>\n",
              "      <td>448.55</td>\n",
              "      <td>10</td>\n",
              "    </tr>\n",
              "    <tr>\n",
              "      <th>2</th>\n",
              "      <td>2023-01-02</td>\n",
              "      <td>P102</td>\n",
              "      <td>Clothing</td>\n",
              "      <td>287.87</td>\n",
              "      <td>13</td>\n",
              "    </tr>\n",
              "    <tr>\n",
              "      <th>3</th>\n",
              "      <td>2023-01-02</td>\n",
              "      <td>P103</td>\n",
              "      <td>Electronics</td>\n",
              "      <td>740.39</td>\n",
              "      <td>2</td>\n",
              "    </tr>\n",
              "    <tr>\n",
              "      <th>4</th>\n",
              "      <td>2023-01-03</td>\n",
              "      <td>P104</td>\n",
              "      <td>Books</td>\n",
              "      <td>558.94</td>\n",
              "      <td>7</td>\n",
              "    </tr>\n",
              "  </tbody>\n",
              "</table>\n",
              "</div>"
            ],
            "text/plain": [
              "        date product_id     category  revenue  quantity\n",
              "0 2023-01-01       P100  Electronics   489.37         3\n",
              "1 2023-01-01       P101        Books   448.55        10\n",
              "2 2023-01-02       P102     Clothing   287.87        13\n",
              "3 2023-01-02       P103  Electronics   740.39         2\n",
              "4 2023-01-03       P104        Books   558.94         7"
            ]
          },
          "execution_count": 8,
          "metadata": {},
          "output_type": "execute_result"
        }
      ],
      "source": [
        "# 데이터 처음 5행\n",
        "df.head()"
      ]
    },
    {
      "cell_type": "code",
      "execution_count": 9,
      "metadata": {},
      "outputs": [
        {
          "data": {
            "text/plain": [
              "(100, 5)"
            ]
          },
          "execution_count": 9,
          "metadata": {},
          "output_type": "execute_result"
        }
      ],
      "source": [
        "# 데이터 형태 (행, 열)\n",
        "df.shape"
      ]
    },
    {
      "cell_type": "markdown",
      "metadata": {},
      "source": [
        "주요 기술 통계량 계산"
      ]
    },
    {
      "cell_type": "code",
      "execution_count": 10,
      "metadata": {},
      "outputs": [
        {
          "data": {
            "text/plain": [
              "count    100.000000\n",
              "mean     417.098700\n",
              "std      177.297632\n",
              "min       90.220000\n",
              "25%      297.002500\n",
              "50%      415.585000\n",
              "75%      516.025000\n",
              "max      991.030000\n",
              "Name: revenue, dtype: float64"
            ]
          },
          "execution_count": 10,
          "metadata": {},
          "output_type": "execute_result"
        }
      ],
      "source": [
        "# 매출액(revenue) 기술 통계량 (Pandas)\n",
        "df['revenue'].describe()"
      ]
    },
    {
      "cell_type": "code",
      "execution_count": null,
      "metadata": {},
      "outputs": [
        {
          "data": {
            "text/plain": [
              "count    100.000000\n",
              "mean       7.520000\n",
              "std        3.970803\n",
              "min        1.000000\n",
              "25%        4.000000\n",
              "50%        7.500000\n",
              "75%       11.000000\n",
              "max       14.000000\n",
              "Name: quantity, dtype: float64"
            ]
          },
          "metadata": {},
          "output_type": "display_data"
        }
      ],
      "source": [
        "# 판매량(quantity) 기술 통계량 (Pandas)\n",
        "df['quantity'].describe()"
      ]
    },
    {
      "cell_type": "code",
      "execution_count": 24,
      "metadata": {},
      "outputs": [
        {
          "data": {
            "application/vnd.plotly.v1+json": {
              "config": {
                "plotlyServerURL": "https://plot.ly"
              },
              "data": [
                {
                  "box": {
                    "visible": true
                  },
                  "fillcolor": "rgba(0,123,255,0.4)",
                  "line": {
                    "color": "rgba(0,123,255,1)"
                  },
                  "marker": {
                    "color": "rgba(0,123,255,0.7)"
                  },
                  "meanline": {
                    "visible": true
                  },
                  "name": "매출액",
                  "points": "outliers",
                  "showlegend": false,
                  "type": "violin",
                  "xaxis": "x",
                  "y": {
                    "bdata": "UrgeheuVfkDNzMzMzAh8QFK4HoXr/XFAhetRuB4jh0DsUbgehXeBQIXrUbgeWXVAXI/C9SjoeUBSuB6F60F2QB+F61G43lhAexSuR+E2ekDsUbgehe9zQB+F61G46nlAHoXrUbjGjEBmZmZmZqiBQHsUrkfhdnRAFK5H4Xr8dkAK16NwPWJoQOF6FK5HFXdAKVyPwvUUc0AAAAAAAGBiQOxRuB6Fy2BA16NwPQrfeUC4HoXrUaBhQIXrUbgeLYFAw/UoXI/ifkAAAAAAACiAQOxRuB6F44FAuB6F61H8eEB7FK5H4e5xQClcj8L1KHpAPgrXo3DtfUC4HoXrUax4QClcj8L1OGZArkfhehS+h0DD9Shcj5iAQHsUrkfhhoFA4XoUrkelckBxPQrXo1KAQHsUrkfhqmZAH4XrUbhSeECamZmZmeF+QIXrUbgeyXtAhetRuB5HiUAK16NwPZphQBSuR+F6iHVAzczMzMwEZECkcD0K16WBQFyPwvUorIZACtejcD34jkCkcD0K14N6QAAAAAAANIJA4noUrke9cEDC9ShcjzJjQJqZmZmZaXlAcT0K16PYekCQwvUoXJ95QArXo3A9dnxA7FG4HoWDc0CkcD0K1y+EQNejcD0KgYVASOF6FK7Pe0AzMzMzM2toQHsUrkfhFn9ArkfhehSOVkCF61G4Hr19QClcj8L1ioBA9ihcj8IJcUBmZmZmZqp3QLgehetRxHRAMzMzMzMHdkC4HoXrUXqEQMP1KFyPNoFA9ihcj8J1ckAAAAAAAMR1QPYoXI/C5X5AmpmZmZkdgEBmZmZmZv5hQNejcD0Kt4FAAAAAAAA4c0AAAAAAAGCGQD4K16NwQYRA7FG4HoUPfUC4HoXrUch5QM3MzMzMmHJAH4XrUbiGcEDsUbgehad8QPYoXI/CLXtAAAAAAAAIekD2KFyPwiFwQArXo3A9YmZAwvUoXI/iYEBxPQrXo7x9QML1KFyPanJAw/UoXI/ef0CPwvUoXHt6QPYoXI/C54JAZmZmZma+fkBcj8L1KChxQAAAAAAACHJArkfhehROfEA=",
                    "dtype": "f8"
                  },
                  "yaxis": "y"
                },
                {
                  "box": {
                    "visible": true
                  },
                  "fillcolor": "rgba(40,167,69,0.4)",
                  "line": {
                    "color": "rgba(40,167,69,1)"
                  },
                  "marker": {
                    "color": "rgba(40,167,69,0.7)"
                  },
                  "meanline": {
                    "visible": true
                  },
                  "name": "판매량",
                  "points": "outliers",
                  "showlegend": false,
                  "type": "violin",
                  "xaxis": "x2",
                  "y": {
                    "bdata": "AwoNAgcMBQwNDAgJCAUNAgUNBQQJBgkCBwIKBAMNCwYDBAUJDgwGCQEOAwkCBQgBCQMDBwgFAw4GCgMCAw0NBwsLCwIEAwwLCgoKBgwIAQMGAQQGCggKDgcKDg4HAg0FCwYJDQ==",
                    "dtype": "i1"
                  },
                  "yaxis": "y2"
                }
              ],
              "layout": {
                "annotations": [
                  {
                    "font": {
                      "size": 16
                    },
                    "showarrow": false,
                    "text": "매출액 분포",
                    "x": 0.2125,
                    "xanchor": "center",
                    "xref": "paper",
                    "y": 1,
                    "yanchor": "bottom",
                    "yref": "paper"
                  },
                  {
                    "font": {
                      "size": 16
                    },
                    "showarrow": false,
                    "text": "판매량 분포",
                    "x": 0.7875,
                    "xanchor": "center",
                    "xref": "paper",
                    "y": 1,
                    "yanchor": "bottom",
                    "yref": "paper"
                  }
                ],
                "height": 500,
                "template": {
                  "data": {
                    "bar": [
                      {
                        "error_x": {
                          "color": "#2a3f5f"
                        },
                        "error_y": {
                          "color": "#2a3f5f"
                        },
                        "marker": {
                          "line": {
                            "color": "#E5ECF6",
                            "width": 0.5
                          },
                          "pattern": {
                            "fillmode": "overlay",
                            "size": 10,
                            "solidity": 0.2
                          }
                        },
                        "type": "bar"
                      }
                    ],
                    "barpolar": [
                      {
                        "marker": {
                          "line": {
                            "color": "#E5ECF6",
                            "width": 0.5
                          },
                          "pattern": {
                            "fillmode": "overlay",
                            "size": 10,
                            "solidity": 0.2
                          }
                        },
                        "type": "barpolar"
                      }
                    ],
                    "carpet": [
                      {
                        "aaxis": {
                          "endlinecolor": "#2a3f5f",
                          "gridcolor": "white",
                          "linecolor": "white",
                          "minorgridcolor": "white",
                          "startlinecolor": "#2a3f5f"
                        },
                        "baxis": {
                          "endlinecolor": "#2a3f5f",
                          "gridcolor": "white",
                          "linecolor": "white",
                          "minorgridcolor": "white",
                          "startlinecolor": "#2a3f5f"
                        },
                        "type": "carpet"
                      }
                    ],
                    "choropleth": [
                      {
                        "colorbar": {
                          "outlinewidth": 0,
                          "ticks": ""
                        },
                        "type": "choropleth"
                      }
                    ],
                    "contour": [
                      {
                        "colorbar": {
                          "outlinewidth": 0,
                          "ticks": ""
                        },
                        "colorscale": [
                          [
                            0,
                            "#0d0887"
                          ],
                          [
                            0.1111111111111111,
                            "#46039f"
                          ],
                          [
                            0.2222222222222222,
                            "#7201a8"
                          ],
                          [
                            0.3333333333333333,
                            "#9c179e"
                          ],
                          [
                            0.4444444444444444,
                            "#bd3786"
                          ],
                          [
                            0.5555555555555556,
                            "#d8576b"
                          ],
                          [
                            0.6666666666666666,
                            "#ed7953"
                          ],
                          [
                            0.7777777777777778,
                            "#fb9f3a"
                          ],
                          [
                            0.8888888888888888,
                            "#fdca26"
                          ],
                          [
                            1,
                            "#f0f921"
                          ]
                        ],
                        "type": "contour"
                      }
                    ],
                    "contourcarpet": [
                      {
                        "colorbar": {
                          "outlinewidth": 0,
                          "ticks": ""
                        },
                        "type": "contourcarpet"
                      }
                    ],
                    "heatmap": [
                      {
                        "colorbar": {
                          "outlinewidth": 0,
                          "ticks": ""
                        },
                        "colorscale": [
                          [
                            0,
                            "#0d0887"
                          ],
                          [
                            0.1111111111111111,
                            "#46039f"
                          ],
                          [
                            0.2222222222222222,
                            "#7201a8"
                          ],
                          [
                            0.3333333333333333,
                            "#9c179e"
                          ],
                          [
                            0.4444444444444444,
                            "#bd3786"
                          ],
                          [
                            0.5555555555555556,
                            "#d8576b"
                          ],
                          [
                            0.6666666666666666,
                            "#ed7953"
                          ],
                          [
                            0.7777777777777778,
                            "#fb9f3a"
                          ],
                          [
                            0.8888888888888888,
                            "#fdca26"
                          ],
                          [
                            1,
                            "#f0f921"
                          ]
                        ],
                        "type": "heatmap"
                      }
                    ],
                    "histogram": [
                      {
                        "marker": {
                          "pattern": {
                            "fillmode": "overlay",
                            "size": 10,
                            "solidity": 0.2
                          }
                        },
                        "type": "histogram"
                      }
                    ],
                    "histogram2d": [
                      {
                        "colorbar": {
                          "outlinewidth": 0,
                          "ticks": ""
                        },
                        "colorscale": [
                          [
                            0,
                            "#0d0887"
                          ],
                          [
                            0.1111111111111111,
                            "#46039f"
                          ],
                          [
                            0.2222222222222222,
                            "#7201a8"
                          ],
                          [
                            0.3333333333333333,
                            "#9c179e"
                          ],
                          [
                            0.4444444444444444,
                            "#bd3786"
                          ],
                          [
                            0.5555555555555556,
                            "#d8576b"
                          ],
                          [
                            0.6666666666666666,
                            "#ed7953"
                          ],
                          [
                            0.7777777777777778,
                            "#fb9f3a"
                          ],
                          [
                            0.8888888888888888,
                            "#fdca26"
                          ],
                          [
                            1,
                            "#f0f921"
                          ]
                        ],
                        "type": "histogram2d"
                      }
                    ],
                    "histogram2dcontour": [
                      {
                        "colorbar": {
                          "outlinewidth": 0,
                          "ticks": ""
                        },
                        "colorscale": [
                          [
                            0,
                            "#0d0887"
                          ],
                          [
                            0.1111111111111111,
                            "#46039f"
                          ],
                          [
                            0.2222222222222222,
                            "#7201a8"
                          ],
                          [
                            0.3333333333333333,
                            "#9c179e"
                          ],
                          [
                            0.4444444444444444,
                            "#bd3786"
                          ],
                          [
                            0.5555555555555556,
                            "#d8576b"
                          ],
                          [
                            0.6666666666666666,
                            "#ed7953"
                          ],
                          [
                            0.7777777777777778,
                            "#fb9f3a"
                          ],
                          [
                            0.8888888888888888,
                            "#fdca26"
                          ],
                          [
                            1,
                            "#f0f921"
                          ]
                        ],
                        "type": "histogram2dcontour"
                      }
                    ],
                    "mesh3d": [
                      {
                        "colorbar": {
                          "outlinewidth": 0,
                          "ticks": ""
                        },
                        "type": "mesh3d"
                      }
                    ],
                    "parcoords": [
                      {
                        "line": {
                          "colorbar": {
                            "outlinewidth": 0,
                            "ticks": ""
                          }
                        },
                        "type": "parcoords"
                      }
                    ],
                    "pie": [
                      {
                        "automargin": true,
                        "type": "pie"
                      }
                    ],
                    "scatter": [
                      {
                        "fillpattern": {
                          "fillmode": "overlay",
                          "size": 10,
                          "solidity": 0.2
                        },
                        "type": "scatter"
                      }
                    ],
                    "scatter3d": [
                      {
                        "line": {
                          "colorbar": {
                            "outlinewidth": 0,
                            "ticks": ""
                          }
                        },
                        "marker": {
                          "colorbar": {
                            "outlinewidth": 0,
                            "ticks": ""
                          }
                        },
                        "type": "scatter3d"
                      }
                    ],
                    "scattercarpet": [
                      {
                        "marker": {
                          "colorbar": {
                            "outlinewidth": 0,
                            "ticks": ""
                          }
                        },
                        "type": "scattercarpet"
                      }
                    ],
                    "scattergeo": [
                      {
                        "marker": {
                          "colorbar": {
                            "outlinewidth": 0,
                            "ticks": ""
                          }
                        },
                        "type": "scattergeo"
                      }
                    ],
                    "scattergl": [
                      {
                        "marker": {
                          "colorbar": {
                            "outlinewidth": 0,
                            "ticks": ""
                          }
                        },
                        "type": "scattergl"
                      }
                    ],
                    "scattermap": [
                      {
                        "marker": {
                          "colorbar": {
                            "outlinewidth": 0,
                            "ticks": ""
                          }
                        },
                        "type": "scattermap"
                      }
                    ],
                    "scattermapbox": [
                      {
                        "marker": {
                          "colorbar": {
                            "outlinewidth": 0,
                            "ticks": ""
                          }
                        },
                        "type": "scattermapbox"
                      }
                    ],
                    "scatterpolar": [
                      {
                        "marker": {
                          "colorbar": {
                            "outlinewidth": 0,
                            "ticks": ""
                          }
                        },
                        "type": "scatterpolar"
                      }
                    ],
                    "scatterpolargl": [
                      {
                        "marker": {
                          "colorbar": {
                            "outlinewidth": 0,
                            "ticks": ""
                          }
                        },
                        "type": "scatterpolargl"
                      }
                    ],
                    "scatterternary": [
                      {
                        "marker": {
                          "colorbar": {
                            "outlinewidth": 0,
                            "ticks": ""
                          }
                        },
                        "type": "scatterternary"
                      }
                    ],
                    "surface": [
                      {
                        "colorbar": {
                          "outlinewidth": 0,
                          "ticks": ""
                        },
                        "colorscale": [
                          [
                            0,
                            "#0d0887"
                          ],
                          [
                            0.1111111111111111,
                            "#46039f"
                          ],
                          [
                            0.2222222222222222,
                            "#7201a8"
                          ],
                          [
                            0.3333333333333333,
                            "#9c179e"
                          ],
                          [
                            0.4444444444444444,
                            "#bd3786"
                          ],
                          [
                            0.5555555555555556,
                            "#d8576b"
                          ],
                          [
                            0.6666666666666666,
                            "#ed7953"
                          ],
                          [
                            0.7777777777777778,
                            "#fb9f3a"
                          ],
                          [
                            0.8888888888888888,
                            "#fdca26"
                          ],
                          [
                            1,
                            "#f0f921"
                          ]
                        ],
                        "type": "surface"
                      }
                    ],
                    "table": [
                      {
                        "cells": {
                          "fill": {
                            "color": "#EBF0F8"
                          },
                          "line": {
                            "color": "white"
                          }
                        },
                        "header": {
                          "fill": {
                            "color": "#C8D4E3"
                          },
                          "line": {
                            "color": "white"
                          }
                        },
                        "type": "table"
                      }
                    ]
                  },
                  "layout": {
                    "annotationdefaults": {
                      "arrowcolor": "#2a3f5f",
                      "arrowhead": 0,
                      "arrowwidth": 1
                    },
                    "autotypenumbers": "strict",
                    "coloraxis": {
                      "colorbar": {
                        "outlinewidth": 0,
                        "ticks": ""
                      }
                    },
                    "colorscale": {
                      "diverging": [
                        [
                          0,
                          "#8e0152"
                        ],
                        [
                          0.1,
                          "#c51b7d"
                        ],
                        [
                          0.2,
                          "#de77ae"
                        ],
                        [
                          0.3,
                          "#f1b6da"
                        ],
                        [
                          0.4,
                          "#fde0ef"
                        ],
                        [
                          0.5,
                          "#f7f7f7"
                        ],
                        [
                          0.6,
                          "#e6f5d0"
                        ],
                        [
                          0.7,
                          "#b8e186"
                        ],
                        [
                          0.8,
                          "#7fbc41"
                        ],
                        [
                          0.9,
                          "#4d9221"
                        ],
                        [
                          1,
                          "#276419"
                        ]
                      ],
                      "sequential": [
                        [
                          0,
                          "#0d0887"
                        ],
                        [
                          0.1111111111111111,
                          "#46039f"
                        ],
                        [
                          0.2222222222222222,
                          "#7201a8"
                        ],
                        [
                          0.3333333333333333,
                          "#9c179e"
                        ],
                        [
                          0.4444444444444444,
                          "#bd3786"
                        ],
                        [
                          0.5555555555555556,
                          "#d8576b"
                        ],
                        [
                          0.6666666666666666,
                          "#ed7953"
                        ],
                        [
                          0.7777777777777778,
                          "#fb9f3a"
                        ],
                        [
                          0.8888888888888888,
                          "#fdca26"
                        ],
                        [
                          1,
                          "#f0f921"
                        ]
                      ],
                      "sequentialminus": [
                        [
                          0,
                          "#0d0887"
                        ],
                        [
                          0.1111111111111111,
                          "#46039f"
                        ],
                        [
                          0.2222222222222222,
                          "#7201a8"
                        ],
                        [
                          0.3333333333333333,
                          "#9c179e"
                        ],
                        [
                          0.4444444444444444,
                          "#bd3786"
                        ],
                        [
                          0.5555555555555556,
                          "#d8576b"
                        ],
                        [
                          0.6666666666666666,
                          "#ed7953"
                        ],
                        [
                          0.7777777777777778,
                          "#fb9f3a"
                        ],
                        [
                          0.8888888888888888,
                          "#fdca26"
                        ],
                        [
                          1,
                          "#f0f921"
                        ]
                      ]
                    },
                    "colorway": [
                      "#636efa",
                      "#EF553B",
                      "#00cc96",
                      "#ab63fa",
                      "#FFA15A",
                      "#19d3f3",
                      "#FF6692",
                      "#B6E880",
                      "#FF97FF",
                      "#FECB52"
                    ],
                    "font": {
                      "color": "#2a3f5f"
                    },
                    "geo": {
                      "bgcolor": "white",
                      "lakecolor": "white",
                      "landcolor": "#E5ECF6",
                      "showlakes": true,
                      "showland": true,
                      "subunitcolor": "white"
                    },
                    "hoverlabel": {
                      "align": "left"
                    },
                    "hovermode": "closest",
                    "mapbox": {
                      "style": "light"
                    },
                    "paper_bgcolor": "white",
                    "plot_bgcolor": "#E5ECF6",
                    "polar": {
                      "angularaxis": {
                        "gridcolor": "white",
                        "linecolor": "white",
                        "ticks": ""
                      },
                      "bgcolor": "#E5ECF6",
                      "radialaxis": {
                        "gridcolor": "white",
                        "linecolor": "white",
                        "ticks": ""
                      }
                    },
                    "scene": {
                      "xaxis": {
                        "backgroundcolor": "#E5ECF6",
                        "gridcolor": "white",
                        "gridwidth": 2,
                        "linecolor": "white",
                        "showbackground": true,
                        "ticks": "",
                        "zerolinecolor": "white"
                      },
                      "yaxis": {
                        "backgroundcolor": "#E5ECF6",
                        "gridcolor": "white",
                        "gridwidth": 2,
                        "linecolor": "white",
                        "showbackground": true,
                        "ticks": "",
                        "zerolinecolor": "white"
                      },
                      "zaxis": {
                        "backgroundcolor": "#E5ECF6",
                        "gridcolor": "white",
                        "gridwidth": 2,
                        "linecolor": "white",
                        "showbackground": true,
                        "ticks": "",
                        "zerolinecolor": "white"
                      }
                    },
                    "shapedefaults": {
                      "line": {
                        "color": "#2a3f5f"
                      }
                    },
                    "ternary": {
                      "aaxis": {
                        "gridcolor": "white",
                        "linecolor": "white",
                        "ticks": ""
                      },
                      "baxis": {
                        "gridcolor": "white",
                        "linecolor": "white",
                        "ticks": ""
                      },
                      "bgcolor": "#E5ECF6",
                      "caxis": {
                        "gridcolor": "white",
                        "linecolor": "white",
                        "ticks": ""
                      }
                    },
                    "title": {
                      "x": 0.05
                    },
                    "xaxis": {
                      "automargin": true,
                      "gridcolor": "white",
                      "linecolor": "white",
                      "ticks": "",
                      "title": {
                        "standoff": 15
                      },
                      "zerolinecolor": "white",
                      "zerolinewidth": 2
                    },
                    "yaxis": {
                      "automargin": true,
                      "gridcolor": "white",
                      "linecolor": "white",
                      "ticks": "",
                      "title": {
                        "standoff": 15
                      },
                      "zerolinecolor": "white",
                      "zerolinewidth": 2
                    }
                  }
                },
                "title": {
                  "text": "매출액, 판매량 분포 시각화"
                },
                "width": 900,
                "xaxis": {
                  "anchor": "y",
                  "domain": [
                    0,
                    0.425
                  ],
                  "showticklabels": false
                },
                "xaxis2": {
                  "anchor": "y2",
                  "domain": [
                    0.575,
                    1
                  ],
                  "showticklabels": false
                },
                "yaxis": {
                  "anchor": "x",
                  "domain": [
                    0,
                    1
                  ],
                  "title": {
                    "text": "매출액"
                  }
                },
                "yaxis2": {
                  "anchor": "x2",
                  "domain": [
                    0,
                    1
                  ],
                  "title": {
                    "text": "판매량"
                  }
                }
              }
            }
          },
          "metadata": {},
          "output_type": "display_data"
        }
      ],
      "source": [
        "# 매출액(revenue)와 판매량(quantity) 분포 시각화 (바이올린 플롯, 1x2 서브플롯)\n",
        "from plotly.subplots import make_subplots\n",
        "import plotly.graph_objects as go\n",
        "\n",
        "fig = make_subplots(\n",
        "    rows=1, cols=2,\n",
        "    subplot_titles=(\"매출액 분포\", \"판매량 분포\"),\n",
        "    horizontal_spacing=0.15\n",
        ")\n",
        "\n",
        "# 매출액 바이올린 플롯\n",
        "fig.add_trace(\n",
        "    go.Violin(\n",
        "        y=df['revenue'],\n",
        "        name='매출액',\n",
        "        box_visible=True,\n",
        "        meanline_visible=True,\n",
        "        line_color='rgba(0,123,255,1)',\n",
        "        fillcolor='rgba(0,123,255,0.4)',\n",
        "        marker=dict(color='rgba(0,123,255,0.7)'),\n",
        "        points='outliers',\n",
        "        showlegend=False\n",
        "    ),\n",
        "    row=1, col=1\n",
        ")\n",
        "\n",
        "# 판매량 바이올린 플롯\n",
        "fig.add_trace(\n",
        "    go.Violin(\n",
        "        y=df['quantity'],\n",
        "        name='판매량',\n",
        "        box_visible=True,\n",
        "        meanline_visible=True,\n",
        "        line_color='rgba(40,167,69,1)',\n",
        "        fillcolor='rgba(40,167,69,0.4)',\n",
        "        marker=dict(color='rgba(40,167,69,0.7)'),\n",
        "        points='outliers',\n",
        "        showlegend=False\n",
        "    ),\n",
        "    row=1, col=2\n",
        ")\n",
        "\n",
        "fig.update_layout(\n",
        "    title_text=\"매출액, 판매량 분포 시각화\",\n",
        "    height=500,\n",
        "    width=900\n",
        ")\n",
        "\n",
        "fig.update_yaxes(title_text=\"매출액\", row=1, col=1)\n",
        "fig.update_yaxes(title_text=\"판매량\", row=1, col=2)\n",
        "fig.update_xaxes(showticklabels=False, row=1, col=1)\n",
        "fig.update_xaxes(showticklabels=False, row=1, col=2)\n",
        "\n",
        "\n",
        "fig.show()\n"
      ]
    },
    {
      "cell_type": "markdown",
      "metadata": {},
      "source": [
        "개별 통계량 계산\n"
      ]
    },
    {
      "cell_type": "markdown",
      "metadata": {},
      "source": [
        "| 통계량         | 메서드                                              |\n",
        "|:--------------|:---------------------------------------------------|\n",
        "| 평균          | df['revenue'].mean()                               |\n",
        "| 중앙값        | df['revenue'].median()                             |\n",
        "| 최빈값        | df['revenue'].mode().iloc[0]                       |\n",
        "| 분산          | df['revenue'].var()                                |\n",
        "| 표준편차      | df['revenue'].std()                                |\n",
        "| 최솟값        | df['revenue'].min()                                |\n",
        "| 최댓값        | df['revenue'].max()                                |\n",
        "| 범위          | df['revenue'].max() - df['revenue'].min()          |\n",
        "| IQR(사분위범위)| df['revenue'].quantile(0.75) - df['revenue'].quantile(0.25) |\n",
        "| 왜도          | stats.skew(df['revenue'])                          |\n",
        "| 첨도          | stats.kurtosis(df['revenue'])                      |\n",
        "\n"
      ]
    },
    {
      "cell_type": "code",
      "execution_count": 41,
      "metadata": {},
      "outputs": [
        {
          "data": {
            "text/plain": [
              "417.0987"
            ]
          },
          "execution_count": 41,
          "metadata": {},
          "output_type": "execute_result"
        }
      ],
      "source": [
        "# 매출액 평균: {df['revenue'].mean():.2f}\n",
        "float(df['revenue'].mean())"
      ]
    },
    {
      "cell_type": "code",
      "execution_count": 42,
      "metadata": {},
      "outputs": [
        {
          "data": {
            "text/plain": [
              "415.58500000000004"
            ]
          },
          "execution_count": 42,
          "metadata": {},
          "output_type": "execute_result"
        }
      ],
      "source": [
        "# 매출액 중앙값: {df['revenue'].median():.2f}\n",
        "float(df['revenue'].median())"
      ]
    },
    {
      "cell_type": "code",
      "execution_count": 44,
      "metadata": {},
      "outputs": [
        {
          "data": {
            "text/plain": [
              "90.22"
            ]
          },
          "execution_count": 44,
          "metadata": {},
          "output_type": "execute_result"
        }
      ],
      "source": [
        "# 매출액 최빈값: {df['revenue'].mode().iloc[0] if not df['revenue'].mode().empty else 'N/A'} # 최빈값이 여러 개일 수 있음\n",
        "float(df['revenue'].mode().iloc[0]) if not df['revenue'].mode().empty else 'N/A'"
      ]
    },
    {
      "cell_type": "markdown",
      "metadata": {},
      "source": [
        "#### 분산 개념\n",
        "> 분산(Variance)은 데이터가 평균으로부터 얼마나 퍼져있는지를 나타내는 지표입니다.\n",
        "> \n",
        "> 각 데이터 포인트와 평균의 차이를 제곱한 값의 평균으로 계산됩니다.\n",
        "> \n",
        "> 공식: σ² = Σ(xᵢ - μ)² / N\n",
        ">   - σ²: 분산\n",
        ">   - xᵢ: 개별 데이터 포인트\n",
        ">   - μ: 평균\n",
        ">   - N: 데이터 포인트 수\n",
        "> \n",
        "> 값이 클수록 데이터가 평균에서 멀리 퍼져있음을 의미합니다.\n",
        "> \n",
        "> 제곱 단위이므로 해석이 어려울 수 있습니다."
      ]
    },
    {
      "cell_type": "code",
      "execution_count": null,
      "metadata": {},
      "outputs": [
        {
          "data": {
            "text/plain": [
              "31434.450340717165"
            ]
          },
          "metadata": {},
          "output_type": "display_data"
        }
      ],
      "source": [
        "# 매출액 분산: {df['revenue'].var():.2f}\n",
        "float(df['revenue'].var())"
      ]
    },
    {
      "cell_type": "markdown",
      "metadata": {},
      "source": [
        "#### 표준편차 개념\n",
        "> 표준편차(Standard Deviation)는 분산의 제곱근으로, 데이터의 분산 정도를 원래 단위로 표현한 것입니다.\n",
        "> \n",
        "> 공식: σ = √(Σ(xᵢ - μ)² / N)\n",
        ">   - σ: 표준편차\n",
        ">   - xᵢ: 개별 데이터 포인트\n",
        ">   - μ: 평균\n",
        ">   - N: 데이터 포인트 수\n",
        "> \n",
        "> 분산보다 직관적으로 해석하기 쉬우며, 같은 단위를 사용합니다.\n",
        "> \n",
        "> 작을수록 데이터가 평균에 모여있고, 클수록 퍼져있음을 의미합니다."
      ]
    },
    {
      "cell_type": "code",
      "execution_count": 47,
      "metadata": {},
      "outputs": [
        {
          "data": {
            "text/plain": [
              "177.29763207870872"
            ]
          },
          "execution_count": 47,
          "metadata": {},
          "output_type": "execute_result"
        }
      ],
      "source": [
        "# 매출액 표준편차: {df['revenue'].std():.2f}\n",
        "float(df['revenue'].std())"
      ]
    },
    {
      "cell_type": "code",
      "execution_count": 51,
      "metadata": {},
      "outputs": [
        {
          "data": {
            "text/plain": [
              "900.81"
            ]
          },
          "execution_count": 51,
          "metadata": {},
          "output_type": "execute_result"
        }
      ],
      "source": [
        "# 매출액 범위: {df['revenue'].max() - df['revenue'].min():.2f}\n",
        "float(df['revenue'].max() - df['revenue'].min())"
      ]
    },
    {
      "cell_type": "markdown",
      "metadata": {},
      "source": [
        "#### 왜도(Skewness) 개념\n",
        "> 왜도는 데이터 분포의 비대칭 정도를 나타내는 통계량입니다.\n",
        "> \n",
        "> 양의 왜도: 오른쪽 꼬리가 길어지고 평균 > 중앙값 (오른쪽으로 치우침)\n",
        "> 음의 왜도: 왼쪽 꼬리가 길어지고 평균 < 중앙값 (왼쪽으로 치우침)\n",
        "> 0에 가까울수록 대칭에 가까운 분포\n",
        "> \n",
        "> 일반적으로 절대값이 1보다 크면 심한 비대칭으로 간주합니다.\n",
        "> \n",
        "> 수식: γ₁ = [Σ(xᵢ - μ)³/N] / σ³\n",
        ">   - γ₁: 왜도\n",
        ">   - xᵢ: 개별 데이터 포인트\n",
        ">   - μ: 평균\n",
        ">   - σ: 표준편차\n",
        ">   - N: 데이터 포인트 수"
      ]
    },
    {
      "cell_type": "markdown",
      "metadata": {},
      "source": [
        "\n",
        "#### 첨도(Kurtosis) 개념\n",
        "> 첨도는 분포의 꼬리 두께와 뾰족함을 나타내는 통계량입니다.\n",
        "> \n",
        "> 양의 첨도: 정규분포보다 뾰족하고 꼬리가 두꺼움 (극단값 가능성 높음)\n",
        "> 음의 첨도: 정규분포보다 평평하고 꼬리가 얇음\n",
        "> 정규분포 첨도: 0 (Fisher 정의 기준)\n",
        "> \n",
        "> 수식: γ₂ = [Σ(xᵢ - μ)⁴/N] / σ⁴ - 3\n",
        ">   - γ₂: 첨도\n",
        ">   - xᵢ: 개별 데이터 포인트\n",
        ">   - μ: 평균\n",
        ">   - σ: 표준편차\n",
        ">   - N: 데이터 포인트 수\n",
        "> \n",
        "> 리스크 분석에서 유용하게 사용되며, 극단값 가능성을 평가하는 지표입니다.\n"
      ]
    },
    {
      "cell_type": "code",
      "execution_count": null,
      "metadata": {},
      "outputs": [
        {
          "name": "stdout",
          "output_type": "stream",
          "text": [
            "왜도(Skewness): 0.24\n",
            "첨도(Kurtosis): -0.62\n"
          ]
        }
      ],
      "source": [
        "from scipy import stats\n",
        "skewness = stats.skew(df['revenue'])\n",
        "kurtosis = stats.kurtosis(df['revenue']) # Fisher's definition (정규분포 = 0)\n",
        "\n",
        "print(f\"왜도(Skewness): {skewness:.2f}\")\n",
        "print(f\"첨도(Kurtosis): {kurtosis:.2f}\")"
      ]
    },
    {
      "cell_type": "markdown",
      "metadata": {},
      "source": [
        "#### IQR(사분위 범위) 개념\n",
        "> IQR(Interquartile Range)은 데이터의 중간 50%가 분포하는 범위를 나타냅니다.\n",
        "> \n",
        "> 제1사분위수(Q₁, 25% 위치)와 제3사분위수(Q₃, 75% 위치)의 차이로 계산됩니다.\n",
        "> \n",
        "> IQR = Q₃ - Q₁\n",
        "> \n",
        "> 이상치 탐지에 유용하게 사용되며, 일반적으로 `Q₁ - 1.5 × IQR` 미만 또는 `Q₃ + 1.5 × IQR` 초과인 값을 이상치로 판단합니다.\n",
        "> \n",
        "> 데이터의 분포가 치우쳐져 있을 때 유용한 통계량입니다.\n"
      ]
    },
    {
      "cell_type": "code",
      "execution_count": 63,
      "metadata": {},
      "outputs": [
        {
          "data": {
            "text/html": [
              "<div>\n",
              "<style scoped>\n",
              "    .dataframe tbody tr th:only-of-type {\n",
              "        vertical-align: middle;\n",
              "    }\n",
              "\n",
              "    .dataframe tbody tr th {\n",
              "        vertical-align: top;\n",
              "    }\n",
              "\n",
              "    .dataframe thead th {\n",
              "        text-align: right;\n",
              "    }\n",
              "</style>\n",
              "<table border=\"1\" class=\"dataframe\">\n",
              "  <thead>\n",
              "    <tr style=\"text-align: right;\">\n",
              "      <th></th>\n",
              "      <th>Id</th>\n",
              "      <th>MSSubClass</th>\n",
              "      <th>MSZoning</th>\n",
              "      <th>LotFrontage</th>\n",
              "      <th>LotArea</th>\n",
              "      <th>Street</th>\n",
              "      <th>Alley</th>\n",
              "      <th>LotShape</th>\n",
              "      <th>LandContour</th>\n",
              "      <th>Utilities</th>\n",
              "      <th>...</th>\n",
              "      <th>PoolArea</th>\n",
              "      <th>PoolQC</th>\n",
              "      <th>Fence</th>\n",
              "      <th>MiscFeature</th>\n",
              "      <th>MiscVal</th>\n",
              "      <th>MoSold</th>\n",
              "      <th>YrSold</th>\n",
              "      <th>SaleType</th>\n",
              "      <th>SaleCondition</th>\n",
              "      <th>SalePrice</th>\n",
              "    </tr>\n",
              "  </thead>\n",
              "  <tbody>\n",
              "    <tr>\n",
              "      <th>0</th>\n",
              "      <td>1</td>\n",
              "      <td>60</td>\n",
              "      <td>RL</td>\n",
              "      <td>65.0</td>\n",
              "      <td>8450</td>\n",
              "      <td>Pave</td>\n",
              "      <td>NaN</td>\n",
              "      <td>Reg</td>\n",
              "      <td>Lvl</td>\n",
              "      <td>AllPub</td>\n",
              "      <td>...</td>\n",
              "      <td>0</td>\n",
              "      <td>NaN</td>\n",
              "      <td>NaN</td>\n",
              "      <td>NaN</td>\n",
              "      <td>0</td>\n",
              "      <td>2</td>\n",
              "      <td>2008</td>\n",
              "      <td>WD</td>\n",
              "      <td>Normal</td>\n",
              "      <td>208500</td>\n",
              "    </tr>\n",
              "    <tr>\n",
              "      <th>1</th>\n",
              "      <td>2</td>\n",
              "      <td>20</td>\n",
              "      <td>RL</td>\n",
              "      <td>80.0</td>\n",
              "      <td>9600</td>\n",
              "      <td>Pave</td>\n",
              "      <td>NaN</td>\n",
              "      <td>Reg</td>\n",
              "      <td>Lvl</td>\n",
              "      <td>AllPub</td>\n",
              "      <td>...</td>\n",
              "      <td>0</td>\n",
              "      <td>NaN</td>\n",
              "      <td>NaN</td>\n",
              "      <td>NaN</td>\n",
              "      <td>0</td>\n",
              "      <td>5</td>\n",
              "      <td>2007</td>\n",
              "      <td>WD</td>\n",
              "      <td>Normal</td>\n",
              "      <td>181500</td>\n",
              "    </tr>\n",
              "    <tr>\n",
              "      <th>2</th>\n",
              "      <td>3</td>\n",
              "      <td>60</td>\n",
              "      <td>RL</td>\n",
              "      <td>68.0</td>\n",
              "      <td>11250</td>\n",
              "      <td>Pave</td>\n",
              "      <td>NaN</td>\n",
              "      <td>IR1</td>\n",
              "      <td>Lvl</td>\n",
              "      <td>AllPub</td>\n",
              "      <td>...</td>\n",
              "      <td>0</td>\n",
              "      <td>NaN</td>\n",
              "      <td>NaN</td>\n",
              "      <td>NaN</td>\n",
              "      <td>0</td>\n",
              "      <td>9</td>\n",
              "      <td>2008</td>\n",
              "      <td>WD</td>\n",
              "      <td>Normal</td>\n",
              "      <td>223500</td>\n",
              "    </tr>\n",
              "    <tr>\n",
              "      <th>3</th>\n",
              "      <td>4</td>\n",
              "      <td>70</td>\n",
              "      <td>RL</td>\n",
              "      <td>60.0</td>\n",
              "      <td>9550</td>\n",
              "      <td>Pave</td>\n",
              "      <td>NaN</td>\n",
              "      <td>IR1</td>\n",
              "      <td>Lvl</td>\n",
              "      <td>AllPub</td>\n",
              "      <td>...</td>\n",
              "      <td>0</td>\n",
              "      <td>NaN</td>\n",
              "      <td>NaN</td>\n",
              "      <td>NaN</td>\n",
              "      <td>0</td>\n",
              "      <td>2</td>\n",
              "      <td>2006</td>\n",
              "      <td>WD</td>\n",
              "      <td>Abnorml</td>\n",
              "      <td>140000</td>\n",
              "    </tr>\n",
              "    <tr>\n",
              "      <th>4</th>\n",
              "      <td>5</td>\n",
              "      <td>60</td>\n",
              "      <td>RL</td>\n",
              "      <td>84.0</td>\n",
              "      <td>14260</td>\n",
              "      <td>Pave</td>\n",
              "      <td>NaN</td>\n",
              "      <td>IR1</td>\n",
              "      <td>Lvl</td>\n",
              "      <td>AllPub</td>\n",
              "      <td>...</td>\n",
              "      <td>0</td>\n",
              "      <td>NaN</td>\n",
              "      <td>NaN</td>\n",
              "      <td>NaN</td>\n",
              "      <td>0</td>\n",
              "      <td>12</td>\n",
              "      <td>2008</td>\n",
              "      <td>WD</td>\n",
              "      <td>Normal</td>\n",
              "      <td>250000</td>\n",
              "    </tr>\n",
              "  </tbody>\n",
              "</table>\n",
              "<p>5 rows × 81 columns</p>\n",
              "</div>"
            ],
            "text/plain": [
              "   Id  MSSubClass MSZoning  LotFrontage  LotArea Street Alley LotShape  \\\n",
              "0   1          60       RL         65.0     8450   Pave   NaN      Reg   \n",
              "1   2          20       RL         80.0     9600   Pave   NaN      Reg   \n",
              "2   3          60       RL         68.0    11250   Pave   NaN      IR1   \n",
              "3   4          70       RL         60.0     9550   Pave   NaN      IR1   \n",
              "4   5          60       RL         84.0    14260   Pave   NaN      IR1   \n",
              "\n",
              "  LandContour Utilities  ... PoolArea PoolQC Fence MiscFeature MiscVal MoSold  \\\n",
              "0         Lvl    AllPub  ...        0    NaN   NaN         NaN       0      2   \n",
              "1         Lvl    AllPub  ...        0    NaN   NaN         NaN       0      5   \n",
              "2         Lvl    AllPub  ...        0    NaN   NaN         NaN       0      9   \n",
              "3         Lvl    AllPub  ...        0    NaN   NaN         NaN       0      2   \n",
              "4         Lvl    AllPub  ...        0    NaN   NaN         NaN       0     12   \n",
              "\n",
              "  YrSold  SaleType  SaleCondition  SalePrice  \n",
              "0   2008        WD         Normal     208500  \n",
              "1   2007        WD         Normal     181500  \n",
              "2   2008        WD         Normal     223500  \n",
              "3   2006        WD        Abnorml     140000  \n",
              "4   2008        WD         Normal     250000  \n",
              "\n",
              "[5 rows x 81 columns]"
            ]
          },
          "execution_count": 63,
          "metadata": {},
          "output_type": "execute_result"
        }
      ],
      "source": [
        "# 샘플 데이터 로드 : 미국 주택 가격 데이터\n",
        "from sklearn.datasets import fetch_openml\n",
        "housing = fetch_openml(name=\"house_prices\", as_frame=True)\n",
        "df = housing.frame\n",
        "df.head()"
      ]
    },
    {
      "cell_type": "code",
      "execution_count": 65,
      "metadata": {},
      "outputs": [
        {
          "name": "stdout",
          "output_type": "stream",
          "text": [
            "주택가격(SalePrice) 이상치 (IQR rule) 개수: 61\n"
          ]
        }
      ],
      "source": [
        "# 주택가격 데이터의 이상치 간략 확인 (IQR rule)\n",
        "Q1 = df['SalePrice'].quantile(0.25)\n",
        "Q3 = df['SalePrice'].quantile(0.75)\n",
        "IQR = Q3 - Q1\n",
        "lower_bound = Q1 - 1.5 * IQR\n",
        "upper_bound = Q3 + 1.5 * IQR\n",
        "outliers = df[(df['SalePrice'] < lower_bound) | (df['SalePrice'] > upper_bound)]\n",
        "print(f\"주택가격(SalePrice) 이상치 (IQR rule) 개수: {len(outliers)}\")"
      ]
    },
    {
      "cell_type": "code",
      "execution_count": 67,
      "metadata": {},
      "outputs": [
        {
          "data": {
            "application/vnd.plotly.v1+json": {
              "config": {
                "plotlyServerURL": "https://plot.ly"
              },
              "data": [
                {
                  "alignmentgroup": "True",
                  "boxpoints": "outliers",
                  "hovertemplate": "주택 가격($)=%{x}<extra></extra>",
                  "legendgroup": "",
                  "line": {
                    "color": "darkblue"
                  },
                  "marker": {
                    "color": "red",
                    "opacity": 0.7,
                    "size": 5
                  },
                  "name": "",
                  "notched": false,
                  "offsetgroup": "",
                  "orientation": "h",
                  "showlegend": false,
                  "type": "box",
                  "x": {
                    "bdata": "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",
                    "dtype": "i4"
                  },
                  "x0": " ",
                  "xaxis": "x",
                  "y0": " ",
                  "yaxis": "y"
                }
              ],
              "layout": {
                "boxmode": "group",
                "legend": {
                  "tracegroupgap": 0
                },
                "plot_bgcolor": "white",
                "showlegend": false,
                "template": {
                  "data": {
                    "bar": [
                      {
                        "error_x": {
                          "color": "#2a3f5f"
                        },
                        "error_y": {
                          "color": "#2a3f5f"
                        },
                        "marker": {
                          "line": {
                            "color": "#E5ECF6",
                            "width": 0.5
                          },
                          "pattern": {
                            "fillmode": "overlay",
                            "size": 10,
                            "solidity": 0.2
                          }
                        },
                        "type": "bar"
                      }
                    ],
                    "barpolar": [
                      {
                        "marker": {
                          "line": {
                            "color": "#E5ECF6",
                            "width": 0.5
                          },
                          "pattern": {
                            "fillmode": "overlay",
                            "size": 10,
                            "solidity": 0.2
                          }
                        },
                        "type": "barpolar"
                      }
                    ],
                    "carpet": [
                      {
                        "aaxis": {
                          "endlinecolor": "#2a3f5f",
                          "gridcolor": "white",
                          "linecolor": "white",
                          "minorgridcolor": "white",
                          "startlinecolor": "#2a3f5f"
                        },
                        "baxis": {
                          "endlinecolor": "#2a3f5f",
                          "gridcolor": "white",
                          "linecolor": "white",
                          "minorgridcolor": "white",
                          "startlinecolor": "#2a3f5f"
                        },
                        "type": "carpet"
                      }
                    ],
                    "choropleth": [
                      {
                        "colorbar": {
                          "outlinewidth": 0,
                          "ticks": ""
                        },
                        "type": "choropleth"
                      }
                    ],
                    "contour": [
                      {
                        "colorbar": {
                          "outlinewidth": 0,
                          "ticks": ""
                        },
                        "colorscale": [
                          [
                            0,
                            "#0d0887"
                          ],
                          [
                            0.1111111111111111,
                            "#46039f"
                          ],
                          [
                            0.2222222222222222,
                            "#7201a8"
                          ],
                          [
                            0.3333333333333333,
                            "#9c179e"
                          ],
                          [
                            0.4444444444444444,
                            "#bd3786"
                          ],
                          [
                            0.5555555555555556,
                            "#d8576b"
                          ],
                          [
                            0.6666666666666666,
                            "#ed7953"
                          ],
                          [
                            0.7777777777777778,
                            "#fb9f3a"
                          ],
                          [
                            0.8888888888888888,
                            "#fdca26"
                          ],
                          [
                            1,
                            "#f0f921"
                          ]
                        ],
                        "type": "contour"
                      }
                    ],
                    "contourcarpet": [
                      {
                        "colorbar": {
                          "outlinewidth": 0,
                          "ticks": ""
                        },
                        "type": "contourcarpet"
                      }
                    ],
                    "heatmap": [
                      {
                        "colorbar": {
                          "outlinewidth": 0,
                          "ticks": ""
                        },
                        "colorscale": [
                          [
                            0,
                            "#0d0887"
                          ],
                          [
                            0.1111111111111111,
                            "#46039f"
                          ],
                          [
                            0.2222222222222222,
                            "#7201a8"
                          ],
                          [
                            0.3333333333333333,
                            "#9c179e"
                          ],
                          [
                            0.4444444444444444,
                            "#bd3786"
                          ],
                          [
                            0.5555555555555556,
                            "#d8576b"
                          ],
                          [
                            0.6666666666666666,
                            "#ed7953"
                          ],
                          [
                            0.7777777777777778,
                            "#fb9f3a"
                          ],
                          [
                            0.8888888888888888,
                            "#fdca26"
                          ],
                          [
                            1,
                            "#f0f921"
                          ]
                        ],
                        "type": "heatmap"
                      }
                    ],
                    "histogram": [
                      {
                        "marker": {
                          "pattern": {
                            "fillmode": "overlay",
                            "size": 10,
                            "solidity": 0.2
                          }
                        },
                        "type": "histogram"
                      }
                    ],
                    "histogram2d": [
                      {
                        "colorbar": {
                          "outlinewidth": 0,
                          "ticks": ""
                        },
                        "colorscale": [
                          [
                            0,
                            "#0d0887"
                          ],
                          [
                            0.1111111111111111,
                            "#46039f"
                          ],
                          [
                            0.2222222222222222,
                            "#7201a8"
                          ],
                          [
                            0.3333333333333333,
                            "#9c179e"
                          ],
                          [
                            0.4444444444444444,
                            "#bd3786"
                          ],
                          [
                            0.5555555555555556,
                            "#d8576b"
                          ],
                          [
                            0.6666666666666666,
                            "#ed7953"
                          ],
                          [
                            0.7777777777777778,
                            "#fb9f3a"
                          ],
                          [
                            0.8888888888888888,
                            "#fdca26"
                          ],
                          [
                            1,
                            "#f0f921"
                          ]
                        ],
                        "type": "histogram2d"
                      }
                    ],
                    "histogram2dcontour": [
                      {
                        "colorbar": {
                          "outlinewidth": 0,
                          "ticks": ""
                        },
                        "colorscale": [
                          [
                            0,
                            "#0d0887"
                          ],
                          [
                            0.1111111111111111,
                            "#46039f"
                          ],
                          [
                            0.2222222222222222,
                            "#7201a8"
                          ],
                          [
                            0.3333333333333333,
                            "#9c179e"
                          ],
                          [
                            0.4444444444444444,
                            "#bd3786"
                          ],
                          [
                            0.5555555555555556,
                            "#d8576b"
                          ],
                          [
                            0.6666666666666666,
                            "#ed7953"
                          ],
                          [
                            0.7777777777777778,
                            "#fb9f3a"
                          ],
                          [
                            0.8888888888888888,
                            "#fdca26"
                          ],
                          [
                            1,
                            "#f0f921"
                          ]
                        ],
                        "type": "histogram2dcontour"
                      }
                    ],
                    "mesh3d": [
                      {
                        "colorbar": {
                          "outlinewidth": 0,
                          "ticks": ""
                        },
                        "type": "mesh3d"
                      }
                    ],
                    "parcoords": [
                      {
                        "line": {
                          "colorbar": {
                            "outlinewidth": 0,
                            "ticks": ""
                          }
                        },
                        "type": "parcoords"
                      }
                    ],
                    "pie": [
                      {
                        "automargin": true,
                        "type": "pie"
                      }
                    ],
                    "scatter": [
                      {
                        "fillpattern": {
                          "fillmode": "overlay",
                          "size": 10,
                          "solidity": 0.2
                        },
                        "type": "scatter"
                      }
                    ],
                    "scatter3d": [
                      {
                        "line": {
                          "colorbar": {
                            "outlinewidth": 0,
                            "ticks": ""
                          }
                        },
                        "marker": {
                          "colorbar": {
                            "outlinewidth": 0,
                            "ticks": ""
                          }
                        },
                        "type": "scatter3d"
                      }
                    ],
                    "scattercarpet": [
                      {
                        "marker": {
                          "colorbar": {
                            "outlinewidth": 0,
                            "ticks": ""
                          }
                        },
                        "type": "scattercarpet"
                      }
                    ],
                    "scattergeo": [
                      {
                        "marker": {
                          "colorbar": {
                            "outlinewidth": 0,
                            "ticks": ""
                          }
                        },
                        "type": "scattergeo"
                      }
                    ],
                    "scattergl": [
                      {
                        "marker": {
                          "colorbar": {
                            "outlinewidth": 0,
                            "ticks": ""
                          }
                        },
                        "type": "scattergl"
                      }
                    ],
                    "scattermap": [
                      {
                        "marker": {
                          "colorbar": {
                            "outlinewidth": 0,
                            "ticks": ""
                          }
                        },
                        "type": "scattermap"
                      }
                    ],
                    "scattermapbox": [
                      {
                        "marker": {
                          "colorbar": {
                            "outlinewidth": 0,
                            "ticks": ""
                          }
                        },
                        "type": "scattermapbox"
                      }
                    ],
                    "scatterpolar": [
                      {
                        "marker": {
                          "colorbar": {
                            "outlinewidth": 0,
                            "ticks": ""
                          }
                        },
                        "type": "scatterpolar"
                      }
                    ],
                    "scatterpolargl": [
                      {
                        "marker": {
                          "colorbar": {
                            "outlinewidth": 0,
                            "ticks": ""
                          }
                        },
                        "type": "scatterpolargl"
                      }
                    ],
                    "scatterternary": [
                      {
                        "marker": {
                          "colorbar": {
                            "outlinewidth": 0,
                            "ticks": ""
                          }
                        },
                        "type": "scatterternary"
                      }
                    ],
                    "surface": [
                      {
                        "colorbar": {
                          "outlinewidth": 0,
                          "ticks": ""
                        },
                        "colorscale": [
                          [
                            0,
                            "#0d0887"
                          ],
                          [
                            0.1111111111111111,
                            "#46039f"
                          ],
                          [
                            0.2222222222222222,
                            "#7201a8"
                          ],
                          [
                            0.3333333333333333,
                            "#9c179e"
                          ],
                          [
                            0.4444444444444444,
                            "#bd3786"
                          ],
                          [
                            0.5555555555555556,
                            "#d8576b"
                          ],
                          [
                            0.6666666666666666,
                            "#ed7953"
                          ],
                          [
                            0.7777777777777778,
                            "#fb9f3a"
                          ],
                          [
                            0.8888888888888888,
                            "#fdca26"
                          ],
                          [
                            1,
                            "#f0f921"
                          ]
                        ],
                        "type": "surface"
                      }
                    ],
                    "table": [
                      {
                        "cells": {
                          "fill": {
                            "color": "#EBF0F8"
                          },
                          "line": {
                            "color": "white"
                          }
                        },
                        "header": {
                          "fill": {
                            "color": "#C8D4E3"
                          },
                          "line": {
                            "color": "white"
                          }
                        },
                        "type": "table"
                      }
                    ]
                  },
                  "layout": {
                    "annotationdefaults": {
                      "arrowcolor": "#2a3f5f",
                      "arrowhead": 0,
                      "arrowwidth": 1
                    },
                    "autotypenumbers": "strict",
                    "coloraxis": {
                      "colorbar": {
                        "outlinewidth": 0,
                        "ticks": ""
                      }
                    },
                    "colorscale": {
                      "diverging": [
                        [
                          0,
                          "#8e0152"
                        ],
                        [
                          0.1,
                          "#c51b7d"
                        ],
                        [
                          0.2,
                          "#de77ae"
                        ],
                        [
                          0.3,
                          "#f1b6da"
                        ],
                        [
                          0.4,
                          "#fde0ef"
                        ],
                        [
                          0.5,
                          "#f7f7f7"
                        ],
                        [
                          0.6,
                          "#e6f5d0"
                        ],
                        [
                          0.7,
                          "#b8e186"
                        ],
                        [
                          0.8,
                          "#7fbc41"
                        ],
                        [
                          0.9,
                          "#4d9221"
                        ],
                        [
                          1,
                          "#276419"
                        ]
                      ],
                      "sequential": [
                        [
                          0,
                          "#0d0887"
                        ],
                        [
                          0.1111111111111111,
                          "#46039f"
                        ],
                        [
                          0.2222222222222222,
                          "#7201a8"
                        ],
                        [
                          0.3333333333333333,
                          "#9c179e"
                        ],
                        [
                          0.4444444444444444,
                          "#bd3786"
                        ],
                        [
                          0.5555555555555556,
                          "#d8576b"
                        ],
                        [
                          0.6666666666666666,
                          "#ed7953"
                        ],
                        [
                          0.7777777777777778,
                          "#fb9f3a"
                        ],
                        [
                          0.8888888888888888,
                          "#fdca26"
                        ],
                        [
                          1,
                          "#f0f921"
                        ]
                      ],
                      "sequentialminus": [
                        [
                          0,
                          "#0d0887"
                        ],
                        [
                          0.1111111111111111,
                          "#46039f"
                        ],
                        [
                          0.2222222222222222,
                          "#7201a8"
                        ],
                        [
                          0.3333333333333333,
                          "#9c179e"
                        ],
                        [
                          0.4444444444444444,
                          "#bd3786"
                        ],
                        [
                          0.5555555555555556,
                          "#d8576b"
                        ],
                        [
                          0.6666666666666666,
                          "#ed7953"
                        ],
                        [
                          0.7777777777777778,
                          "#fb9f3a"
                        ],
                        [
                          0.8888888888888888,
                          "#fdca26"
                        ],
                        [
                          1,
                          "#f0f921"
                        ]
                      ]
                    },
                    "colorway": [
                      "#636efa",
                      "#EF553B",
                      "#00cc96",
                      "#ab63fa",
                      "#FFA15A",
                      "#19d3f3",
                      "#FF6692",
                      "#B6E880",
                      "#FF97FF",
                      "#FECB52"
                    ],
                    "font": {
                      "color": "#2a3f5f"
                    },
                    "geo": {
                      "bgcolor": "white",
                      "lakecolor": "white",
                      "landcolor": "#E5ECF6",
                      "showlakes": true,
                      "showland": true,
                      "subunitcolor": "white"
                    },
                    "hoverlabel": {
                      "align": "left"
                    },
                    "hovermode": "closest",
                    "mapbox": {
                      "style": "light"
                    },
                    "paper_bgcolor": "white",
                    "plot_bgcolor": "#E5ECF6",
                    "polar": {
                      "angularaxis": {
                        "gridcolor": "white",
                        "linecolor": "white",
                        "ticks": ""
                      },
                      "bgcolor": "#E5ECF6",
                      "radialaxis": {
                        "gridcolor": "white",
                        "linecolor": "white",
                        "ticks": ""
                      }
                    },
                    "scene": {
                      "xaxis": {
                        "backgroundcolor": "#E5ECF6",
                        "gridcolor": "white",
                        "gridwidth": 2,
                        "linecolor": "white",
                        "showbackground": true,
                        "ticks": "",
                        "zerolinecolor": "white"
                      },
                      "yaxis": {
                        "backgroundcolor": "#E5ECF6",
                        "gridcolor": "white",
                        "gridwidth": 2,
                        "linecolor": "white",
                        "showbackground": true,
                        "ticks": "",
                        "zerolinecolor": "white"
                      },
                      "zaxis": {
                        "backgroundcolor": "#E5ECF6",
                        "gridcolor": "white",
                        "gridwidth": 2,
                        "linecolor": "white",
                        "showbackground": true,
                        "ticks": "",
                        "zerolinecolor": "white"
                      }
                    },
                    "shapedefaults": {
                      "line": {
                        "color": "#2a3f5f"
                      }
                    },
                    "ternary": {
                      "aaxis": {
                        "gridcolor": "white",
                        "linecolor": "white",
                        "ticks": ""
                      },
                      "baxis": {
                        "gridcolor": "white",
                        "linecolor": "white",
                        "ticks": ""
                      },
                      "bgcolor": "#E5ECF6",
                      "caxis": {
                        "gridcolor": "white",
                        "linecolor": "white",
                        "ticks": ""
                      }
                    },
                    "title": {
                      "x": 0.05
                    },
                    "xaxis": {
                      "automargin": true,
                      "gridcolor": "white",
                      "linecolor": "white",
                      "ticks": "",
                      "title": {
                        "standoff": 15
                      },
                      "zerolinecolor": "white",
                      "zerolinewidth": 2
                    },
                    "yaxis": {
                      "automargin": true,
                      "gridcolor": "white",
                      "linecolor": "white",
                      "ticks": "",
                      "title": {
                        "standoff": 15
                      },
                      "zerolinecolor": "white",
                      "zerolinewidth": 2
                    }
                  }
                },
                "title": {
                  "text": "주택 가격 분포 및 이상치 시각화"
                },
                "xaxis": {
                  "anchor": "y",
                  "domain": [
                    0,
                    1
                  ],
                  "gridcolor": "lightgray",
                  "title": {
                    "text": "주택 가격($)"
                  }
                },
                "yaxis": {
                  "anchor": "x",
                  "domain": [
                    0,
                    1
                  ]
                }
              }
            }
          },
          "metadata": {},
          "output_type": "display_data"
        }
      ],
      "source": [
        "# plotly.express를 사용하여 주택 가격(SalePrice)의 가로 박스플롯 생성\n",
        "fig = px.box(\n",
        "    df,\n",
        "    x='SalePrice',  # y 대신 x를 사용하여 가로 방향으로 변경\n",
        "    title='주택 가격 분포 및 이상치 시각화',\n",
        "    labels={'SalePrice': '주택 가격($)'},\n",
        "    color_discrete_sequence=['royalblue']\n",
        ")\n",
        "\n",
        "# 이상치 포인트 강조 설정\n",
        "fig.update_traces(\n",
        "    boxpoints='outliers',  # 이상치만 표시\n",
        "    marker=dict(\n",
        "        size=5,\n",
        "        color='red',\n",
        "        opacity=0.7\n",
        "    ),\n",
        "    line=dict(color='darkblue')\n",
        ")\n",
        "\n",
        "fig.update_layout(\n",
        "    showlegend=False,\n",
        "    xaxis=dict(  # yaxis 대신 xaxis로 변경\n",
        "        title='주택 가격($)',\n",
        "        gridcolor='lightgray'\n",
        "    ),\n",
        "    plot_bgcolor='white'\n",
        ")\n",
        "\n",
        "fig.show()\n"
      ]
    },
    {
      "cell_type": "markdown",
      "metadata": {},
      "source": [
        "### 변동계수(Coefficient of Variation) 개념\n",
        "> 변동계수(CV)는 표준편차를 평균으로 나눈 값으로, 데이터의 상대적인 변동성을 측정하는 지표입니다.\n",
        "\n",
        "> - 단위가 다른 데이터셋 간의 변동성 비교 가능  \n",
        "> - 백분율로 표현되며, 값이 클수록 상대적 변동성이 큼  \n",
        "> - 평균이 0인 경우 정의되지 않음  \n",
        "\n",
        "> 수식: CV = (σ / μ) × 100%  \n",
        ">   - σ: 표준편차  \n",
        ">   - μ: 평균  \n",
        "\n",
        "> 활용 예시:  \n",
        "> - 주식 수익률의 변동성 측정  \n",
        "> - 제조 공정의 품질 변동성 비교  \n",
        "> - 서로 다른 단위를 가진 데이터셋의 변동성 비교  "
      ]
    },
    {
      "cell_type": "code",
      "execution_count": null,
      "metadata": {},
      "outputs": [],
      "source": [
        "\n",
        "# 맞춤 지표 함수 작성 예시\n",
        "def coefficient_of_variation(data_series):\n",
        "    \"\"\"변동 계수 (CV)를 계산합니다.\"\"\"\n",
        "    mean_val = data_series.mean()\n",
        "    std_val = data_series.std()\n",
        "    if mean_val == 0:\n",
        "        return np.nan # 평균이 0이면 정의되지 않음\n",
        "    return (std_val / mean_val) * 100 # 백분율로 표시\n",
        "\n",
        "print(f\"\\n주택가격(SalePrice) 변동 계수 (CV): {coefficient_of_variation(df['SalePrice']):.2f}%\")\n"
      ]
    },
    {
      "cell_type": "code",
      "execution_count": null,
      "metadata": {},
      "outputs": [],
      "source": [
        "\n",
        "# 히스토그램과 박스플롯을 한 화면에 표시\n",
        "fig = make_subplots(rows=1, cols=2, subplot_titles=('매출액 분포 (Histogram)', '매출액 분포 (Boxplot)'))\n",
        "\n",
        "# 히스토그램 추가\n",
        "fig.add_trace(\n",
        "    go.Histogram(x=df['revenue'], nbinsx=30, name='매출액'),\n",
        "    row=1, col=1\n",
        ")\n",
        "fig.update_xaxes(title_text=\"매출액\", row=1, col=1)\n",
        "fig.update_yaxes(title_text=\"빈도\", row=1, col=1)\n",
        "\n",
        "# 박스플롯 추가\n",
        "fig.add_trace(\n",
        "    go.Box(y=df['revenue'], name='매출액'),\n",
        "    row=1, col=2\n",
        ")\n",
        "fig.update_yaxes(title_text=\"매출액\", row=1, col=2)\n",
        "\n",
        "fig.update_layout(height=500, width=1000, showlegend=False)\n",
        "fig.show()"
      ]
    },
    {
      "cell_type": "markdown",
      "metadata": {
        "id": "_OAX_yfz1Hk5"
      },
      "source": [
        "#### ✏️ 연습 문제 (Practice Problems)\n",
        "\n",
        "1.  `단다컴퍼니_매출.csv` 데이터 (또는 위 예시 코드로 생성된 `df`)에서 `매출액(revenue)`과 `판매량(quantity)` 컬럼에 대해 각각 평균, 중앙값, 표준편차, 왜도, 첨도를 계산하고, 그 의미를 주석으로 간략히 설명하세요.\n",
        "2.  상품 `카테고리(category)`별 평균 `매출액(revenue)`을 계산하고, 가장 높은 평균 매출액을 기록한 카테고리를 찾으세요. (힌트: `groupby()` 메소드 사용)\n",
        "3.  `판매량(quantity)`에 대한 히스토그램과 박스플롯을 그리고, 분포의 특징(대칭성, 이상치 유무 등)을 주석으로 해석해보세요."
      ]
    },
    {
      "cell_type": "code",
      "execution_count": null,
      "metadata": {
        "id": "MSyVF83G1Hk5"
      },
      "outputs": [],
      "source": [
        "# 연습 문제 1번 풀이 공간\n",
        "# 매출액(revenue) 기술 통계량\n",
        "revenue_mean = df['revenue'].mean()\n",
        "revenue_median = df['revenue'].median()\n",
        "revenue_std = df['revenue'].std()\n",
        "revenue_skewness = stats.skew(df['revenue'])\n",
        "revenue_kurtosis = stats.kurtosis(df['revenue'])\n",
        "\n",
        "print(f\"매출액 평균: {revenue_mean:.2f}\") # 데이터의 산술 평균값, 대표값 중 하나\n",
        "print(f\"매출액 중앙값: {revenue_median:.2f}\") # 데이터를 순서대로 나열했을 때 중앙에 위치하는 값, 이상치에 덜 민감\n",
        "print(f\"매출액 표준편차: {revenue_std:.2f}\") # 데이터가 평균으로부터 얼마나 흩어져 있는지를 나타내는 지표\n",
        "print(f\"매출액 왜도: {revenue_skewness:.2f}\") # 분포의 비대칭 정도. 양수면 오른쪽 꼬리가 길고, 음수면 왼쪽 꼬리가 김. 0에 가까울수록 대칭.\n",
        "print(f\"매출액 첨도: {revenue_kurtosis:.2f}\") # 분포의 뾰족한 정도. 양수면 정규분포보다 뾰족, 음수면 더 평평. 0에 가까울수록 정규분포의 뾰족함.\n",
        "\n",
        "# 판매량(quantity) 기술 통계량\n",
        "quantity_mean = df['quantity'].mean()\n",
        "quantity_median = df['quantity'].median()\n",
        "quantity_std = df['quantity'].std()\n",
        "quantity_skewness = stats.skew(df['quantity'])\n",
        "quantity_kurtosis = stats.kurtosis(df['quantity'])\n",
        "\n",
        "print(f\"\\n판매량 평균: {quantity_mean:.2f}\")\n",
        "print(f\"판매량 중앙값: {quantity_median:.2f}\")\n",
        "print(f\"판매량 표준편차: {quantity_std:.2f}\")\n",
        "print(f\"판매량 왜도: {quantity_skewness:.2f}\")\n",
        "print(f\"판매량 첨도: {quantity_kurtosis:.2f}\")\n",
        "\n",
        "# 연습 문제 2번 풀이 공간\n",
        "category_mean_revenue = df.groupby('category')['revenue'].mean().sort_values(ascending=False)\n",
        "print(\"\\n카테고리별 평균 매출액:\")\n",
        "print(category_mean_revenue)\n",
        "print(f\"\\n가장 높은 평균 매출액을 기록한 카테고리: {category_mean_revenue.index[0]} (평균 매출액: {category_mean_revenue.iloc[0]:.2f})\")\n",
        "\n",
        "# 연습 문제 3번 풀이 공간\n",
        "plt.figure(figsize=(12, 5))\n",
        "\n",
        "plt.subplot(1, 2, 1)\n",
        "sns.histplot(df['quantity'], kde=True, bins=max(1, df['quantity'].nunique())) # nunique로 고유값 개수만큼 bin 설정 시도\n",
        "plt.title('판매량 분포 (Histogram)')\n",
        "plt.xlabel('판매량')\n",
        "plt.ylabel('빈도')\n",
        "\n",
        "plt.subplot(1, 2, 2)\n",
        "sns.boxplot(y=df['quantity'])\n",
        "plt.title('판매량 분포 (Boxplot)')\n",
        "plt.ylabel('판매량')\n",
        "\n",
        "plt.tight_layout()\n",
        "plt.show()\n",
        "\n",
        "# 판매량 분포 해석:\n",
        "# 히스토그램을 보면 판매량 데이터는 대체로 낮은 값에 몰려있고 오른쪽으로 꼬리가 약간 있는 형태를 보일 수 있습니다 (데이터 생성 방식에 따라 다름).\n",
        "# 이는 양의 왜도를 가질 가능성을 시사합니다.\n",
        "# 박스플롯을 통해 중앙값, 사분위수 범위를 확인할 수 있으며, 데이터 포인트가 상단/하단 수염(whisker)을 벗어나면 이상치로 간주될 수 있습니다.\n",
        "# 예시 데이터의 경우, 판매량은 1에서 14 사이의 정수이므로, 극단적인 이상치는 적을 수 있지만 분포는 균등하지 않을 수 있습니다."
      ]
    },
    {
      "cell_type": "markdown",
      "metadata": {
        "id": "p9OalHPI1Hk6"
      },
      "source": [
        "---\n",
        "\n",
        "### 🎲 M2. 확률·분포 초압축 (11:30-12:30 | 60분: 강의 25분, 실습 35분)\n",
        "\n",
        "🎯 **학습 목표:**\n",
        "\n",
        "* 주요 확률분포(표준정규분포, t-분포, 카이제곱분포)의 특징과 실제 활용 사례를 이해합니다.\n",
        "* 확률밀도함수(PDF), 누적분포함수(CDF), 생존함수(SF)의 개념과 차이점을 명확히 파악합니다.\n",
        "* Python을 활용하여 데이터의 정규성을 검정하는 방법(시각적 검토 및 통계적 검정)을 익힙니다.\n",
        "\n",
        "#### 💡 개념 (Concept)\n",
        "\n",
        "**1. 확률 변수 (Random Variable) 와 확률 분포 (Probability Distribution):**\n",
        "\n",
        "* **확률 변수:** 무작위 실험의 결과에 의해 값이 결정되는 변수입니다.\n",
        "    * **이산형 확률 변수 (Discrete Random Variable):** 셀 수 있는 값(주로 정수)을 가집니다. (예: 주사위 눈, 하루 동안의 고객 방문 수)\n",
        "    * **연속형 확률 변수 (Continuous Random Variable):** 특정 범위 내의 모든 실수 값을 가질 수 있습니다. (예: 키, 몸무게, 온도, 시간)\n",
        "* **확률 분포:** 확률 변수가 특정 값 또는 값의 범위에 속할 확률을 나타내는 함수 또는 규칙입니다.\n",
        "\n",
        "**2. 주요 연속 확률 분포:**\n",
        "\n",
        "* **정규 분포 (Normal Distribution):** $N(\\mu, \\sigma^2)$\n",
        "    * 자연 현상 및 사회 현상에서 가장 흔하게 발견되는 종 모양(bell-shaped)의 대칭적인 분포입니다.\n",
        "    * 평균($\\mu$)과 표준편차($\\sigma$) 두 모수에 의해 모양이 결정됩니다.\n",
        "    * 평균 = 중앙값 = 최빈값입니다.\n",
        "* **표준 정규 분포 (Standard Normal Distribution):** $Z \\sim N(0, 1)$\n",
        "    * 평균이 0이고 표준편차가 1인 특별한 정규 분포입니다.\n",
        "    * 일반 정규 분포를 따르는 확률 변수 X는 다음과 같은 Z-점수(Z-score) 변환을 통해 표준 정규 분포로 표준화할 수 있습니다:\n",
        "        $Z = \\frac{X - \\mu}{\\sigma}$\n",
        "* **t-분포 (Student's t-Distribution):**\n",
        "    * 정규 분포와 유사한 종 모양이지만, 꼬리가 더 두껍습니다(fat tails).\n",
        "    * 모집단의 분산($\\sigma^2$)을 알지 못하고 표본 크기(n)가 작을 때, 표본 평균($\\bar{x}$)을 이용하여 모평균($\\mu$)을 추정하거나 검정할 때 사용됩니다.\n",
        "    * **자유도 (degrees of freedom, df)**라는 모수에 따라 모양이 변하며, 자유도가 커질수록 표준 정규 분포에 근사합니다 (보통 df = n-1).\n",
        "* **카이제곱 분포 (Chi-squared Distribution, $\\chi^2$-Distribution):**\n",
        "    * k개의 서로 독립적인 표준 정규 확률 변수들의 제곱의 합이 따르는 분포입니다. $\\chi^2(k)$ 로 표기하며, k는 자유도입니다.\n",
        "    * 오른쪽으로 긴 꼬리를 가지는 비대칭 분포입니다. 자유도가 커질수록 대칭성에 가까워집니다.\n",
        "    * 주로 분산 추정, 적합도 검정(goodness-of-fit test), 독립성 검정(test of independence) 등에 사용됩니다.\n",
        "\n",
        "**3. 확률 분포 함수:**\n",
        "\n",
        "* **PDF (Probability Density Function; 확률 밀도 함수):**\n",
        "    * 연속 확률 변수 X에 대해, 변수가 특정 구간 [a, b]에 속할 확률 $P(a \\le X \\le b)$는 PDF $f(x)$를 해당 구간에서 적분한 값($\\int_a^b f(x)dx$)으로 계산됩니다.\n",
        "    * PDF 자체는 특정 지점에서의 확률이 아니라, 해당 지점에서의 확률의 밀도(상대적 가능성)를 나타냅니다. 연속 확률 변수에서 특정 한 지점에서의 확률은 0입니다 ($P(X=x)=0$).\n",
        "    * PDF 곡선 아래 전체 면적은 1입니다.\n",
        "* **CDF (Cumulative Distribution Function; 누적 분포 함수):**\n",
        "    * 확률 변수 X가 특정 값 x보다 작거나 같을 확률을 나타냅니다: $F(x) = P(X \\le x)$.\n",
        "    * PDF를 $-\\infty$부터 x까지 적분한 값입니다.\n",
        "    * 0에서 시작하여 1로 끝나는 비감소 함수입니다.\n",
        "* **SF (Survival Function; 생존 함수) 또는 CCFD (Complementary Cumulative Distribution Function):**\n",
        "    * 확률 변수 X가 특정 값 x보다 클 확률을 나타냅니다: $S(x) = P(X > x)$.\n",
        "    * $S(x) = 1 - CDF(x)$.\n",
        "    * 생존 분석 등에서 주로 사용됩니다.\n",
        "\n",
        "**4. 정규성 (Normality) 검정:**\n",
        "\n",
        "* 데이터가 정규 분포를 따르는지 확인하는 과정입니다. 많은 통계 분석 기법(예: t-검정, ANOVA)들이 데이터의 정규성 가정을 필요로 합니다.\n",
        "* **시각적 방법:**\n",
        "    * 히스토그램: 분포의 모양이 종 모양인지 확인.\n",
        "    * Q-Q Plot (Quantile-Quantile Plot): 데이터의 분위수와 이론적 정규분포의 분위수를 산점도로 그려 비교. 점들이 직선에 가까울수록 정규성을 만족합니다.\n",
        "* **통계적 검정 방법 (가설검정 기반):**\n",
        "    * 귀무가설 ($H_0$): 데이터는 정규 분포를 따른다.\n",
        "    * 대립가설 ($H_1$): 데이터는 정규 분포를 따르지 않는다.\n",
        "    * **Shapiro-Wilk Test:** 표본 크기가 비교적 작을 때 (보통 n < 50 또는 n < 2000 등 문헌마다 다름) 유용한 정규성 검정 방법입니다. 검정력이 좋다고 알려져 있습니다.\n",
        "    * **Kolmogorov-Smirnov Test (KS-test):** 데이터가 특정 분포(예: 정규분포, 지수분포 등)를 따르는지 검정합니다. 정규분포의 경우, 평균과 표준편차를 데이터로부터 추정하여 사용하면 검정력이 낮아질 수 있어 Lilliefors test (KS test의 수정 버전)가 사용되기도 합니다.\n",
        "    * **D'Agostino and Pearson's Test (normaltest):** 데이터의 왜도와 첨도를 함께 고려하여 정규성을 검정합니다.\n",
        "\n",
        "#### 💻 예시 코드 (Example Code)"
      ]
    },
    {
      "cell_type": "code",
      "execution_count": null,
      "metadata": {
        "id": "QGr9F9DB1Hk6"
      },
      "outputs": [],
      "source": [
        "import numpy as np\n",
        "import pandas as pd\n",
        "from scipy import stats\n",
        "import matplotlib.pyplot as plt\n",
        "import seaborn as sns\n",
        "\n",
        "# M1에서 사용한 df의 'revenue' 또는 임의 생성 데이터 사용\n",
        "# 여기서는 'revenue' 사용\n",
        "data_for_normality_check = df['revenue'].dropna() # 결측치 제거\n",
        "\n",
        "# 1. 분포 시각화\n",
        "plt.figure(figsize=(18, 5))\n",
        "\n",
        "# 정규 분포 예시\n",
        "mu, sigma = 0, 1 # 평균, 표준편차\n",
        "s_norm = np.random.normal(mu, sigma, 1000)\n",
        "plt.subplot(1, 3, 1)\n",
        "sns.histplot(s_norm, kde=True, stat=\"density\")\n",
        "x_norm = np.linspace(stats.norm.ppf(0.001, mu, sigma), stats.norm.ppf(0.999, mu, sigma), 100)\n",
        "plt.plot(x_norm, stats.norm.pdf(x_norm, mu, sigma), 'r-', lw=2, label='Normal PDF')\n",
        "plt.title(f'Normal Distribution N({mu},{sigma}^2)')\n",
        "plt.legend()\n",
        "\n",
        "# t-분포 예시\n",
        "df_t = 5 # 자유도\n",
        "s_t = np.random.standard_t(df_t, 1000)\n",
        "plt.subplot(1, 3, 2)\n",
        "sns.histplot(s_t, kde=True, stat=\"density\")\n",
        "x_t = np.linspace(stats.t.ppf(0.001, df_t), stats.t.ppf(0.999, df_t), 100)\n",
        "plt.plot(x_t, stats.t.pdf(x_t, df_t), 'g-', lw=2, label=f't-dist PDF (df={df_t})')\n",
        "plt.title(f't-Distribution (df={df_t})')\n",
        "plt.legend()\n",
        "\n",
        "# 카이제곱 분포 예시\n",
        "df_chi2 = 3 # 자유도\n",
        "s_chi2 = np.random.chisquare(df_chi2, 1000)\n",
        "plt.subplot(1, 3, 3)\n",
        "sns.histplot(s_chi2, kde=True, stat=\"density\")\n",
        "x_chi2 = np.linspace(stats.chi2.ppf(0.001, df_chi2), stats.chi2.ppf(0.999, df_chi2), 100)\n",
        "plt.plot(x_chi2, stats.chi2.pdf(x_chi2, df_chi2), 'b-', lw=2, label=f'Chi2 PDF (df={df_chi2})')\n",
        "plt.title(f'Chi-squared Distribution (df={df_chi2})')\n",
        "plt.legend()\n",
        "\n",
        "plt.tight_layout()\n",
        "plt.show()\n",
        "\n",
        "# 2. Q-Q Plot (매출액 데이터 사용)\n",
        "plt.figure(figsize=(6, 5))\n",
        "stats.probplot(data_for_normality_check, dist=\"norm\", plot=plt)\n",
        "plt.title('Q-Q Plot for Revenue (vs Normal Distribution)')\n",
        "plt.xlabel('Theoretical Quantiles')\n",
        "plt.ylabel('Sample Quantiles')\n",
        "plt.grid(True)\n",
        "plt.show()\n",
        "# 해석: 점들이 빨간색 직선에 가깝게 분포할수록 데이터는 정규분포를 따른다고 볼 수 있습니다.\n",
        "# 예시 매출액 데이터는 로그정규분포와 유사하게 생성했으므로 직선에서 벗어날 가능성이 높습니다.\n",
        "\n",
        "# 3. 정규성 검정 통계량 (매출액 데이터 사용)\n",
        "print(\"\\n--- 정규성 검정 (Revenue) ---\")\n",
        "\n",
        "# Shapiro-Wilk Test\n",
        "shapiro_stat, shapiro_p_value = stats.shapiro(data_for_normality_check)\n",
        "print(f\"Shapiro-Wilk Test: Statistic={shapiro_stat:.4f}, p-value={shapiro_p_value:.4f}\")\n",
        "alpha = 0.05\n",
        "if shapiro_p_value > alpha:\n",
        "    print(\"  Shapiro-Wilk: 데이터는 정규분포를 따르는 것으로 보임 (귀무가설 채택)\")\n",
        "else:\n",
        "    print(\"  Shapiro-Wilk: 데이터는 정규분포를 따르지 않는 것으로 보임 (귀무가설 기각)\")\n",
        "\n",
        "# Kolmogorov-Smirnov Test (vs 'norm')\n",
        "# KS 검정은 평균과 표준편차를 인자로 전달해야 더 정확하지만, scipy는 이를 자동으로 추정하지 않음\n",
        "# 따라서 더 정확한 검정을 위해서는 데이터의 평균과 표준편차를 계산하여 args로 전달해야 함\n",
        "data_mean = np.mean(data_for_normality_check)\n",
        "data_std = np.std(data_for_normality_check, ddof=1) # 표본표준편차\n",
        "ks_stat, ks_p_value = stats.kstest(data_for_normality_check, 'norm', args=(data_mean, data_std))\n",
        "print(f\"\\nKolmogorov-Smirnov Test: Statistic={ks_stat:.4f}, p-value={ks_p_value:.4f}\")\n",
        "if ks_p_value > alpha:\n",
        "    print(\"  Kolmogorov-Smirnov: 데이터는 정규분포를 따르는 것으로 보임 (귀무가설 채택)\")\n",
        "else:\n",
        "    print(\"  Kolmogorov-Smirnov: 데이터는 정규분포를 따르지 않는 것으로 보임 (귀무가설 기각)\")\n",
        "\n",
        "# D'Agostino and Pearson's Test (normaltest)\n",
        "normaltest_stat, normaltest_p_value = stats.normaltest(data_for_normality_check)\n",
        "print(f\"\\nD'Agostino and Pearson's Test: Statistic={normaltest_stat:.4f}, p-value={normaltest_p_value:.4f}\")\n",
        "if normaltest_p_value > alpha:\n",
        "    print(\"  D'Agostino and Pearson: 데이터는 정규분포를 따르는 것으로 보임 (귀무가설 채택)\")\n",
        "else:\n",
        "    print(\"  D'Agostino and Pearson: 데이터는 정규분포를 따르지 않는 것으로 보임 (귀무가설 기각)\")\n",
        "\n",
        "\n",
        "# PDF, CDF, SF 예시 (표준 정규 분포)\n",
        "x_val = 1.0\n",
        "mu_norm, std_norm = 0, 1 # 표준 정규 분포\n",
        "\n",
        "pdf_val = stats.norm.pdf(x_val, loc=mu_norm, scale=std_norm)\n",
        "cdf_val = stats.norm.cdf(x_val, loc=mu_norm, scale=std_norm)\n",
        "sf_val = stats.norm.sf(x_val, loc=mu_norm, scale=std_norm)\n",
        "\n",
        "print(f\"\\n--- PDF, CDF, SF 예시 (표준정규분포, x={x_val}) ---\")\n",
        "print(f\"PDF at x={x_val}: {pdf_val:.4f}\")\n",
        "print(f\"CDF at x={x_val} (P(X <= {x_val})): {cdf_val:.4f}\")\n",
        "print(f\"SF at x={x_val} (P(X > {x_val})): {sf_val:.4f}\")\n",
        "print(f\"CDF + SF = {cdf_val + sf_val:.4f} (should be close to 1)\")"
      ]
    },
    {
      "cell_type": "markdown",
      "metadata": {
        "id": "Ze1T6Ghp1Hk6"
      },
      "source": [
        "#### ✏️ 연습 문제 (Practice Problems) - Superstore 데이터 활용"
      ]
    },
    {
      "cell_type": "markdown",
      "metadata": {},
      "source": [
        "\n",
        "\n",
        "1. Superstore 데이터의 `revenue` 컬럼에 대해 Q-Q plot을 그려 정규성을 시각적으로 평가하세요. (plotly 사용)\n",
        "2. `revenue` 데이터에 대해 Shapiro-Wilk 검정과 D'Agostino-Pearson 검정을 수행하고, 결과를 해석하세요. (α=0.05)\n",
        "3. `quantity` 컬럼의 분포를 히스토그램과 박스플롯으로 시각화하고 분포 특성을 설명하세요. (plotly 사용)\n",
        "4. 카테고리별(`category`) 평균 매출액을 계산하고, 가장 높은 매출을 기록한 카테고리를 찾으세요.\n",
        "5. `revenue`와 `quantity`의 상관관계를 계산하고 해석하세요.\n",
        "6. `revenue` 컬럼의 기초 통계량(평균, 중앙값, 표준편차, 왜도, 첨도)을 계산하고 각 지표의 의미를 설명하세요.\n",
        "7. 평균이 50, 표준편차가 10인 정규분포에서 100개 샘플을 생성한 후, x=60일 때의 CDF와 SF 값을 계산하고 그 의미를 설명하세요.\n",
        "8. `quantity` 컬럼의 이상치를 IQR 기준으로 식별하고, 이상치가 포함된 주문 건수를 출력하세요.\n",
        "9. 카테고리별 매출액 분포를 바이올린 플롯으로 시각화하고 비교하세요. (plotly 사용)\n",
        "10. `revenue` 데이터를 로그 변환(log1p) 후 정규성 검정을 다시 수행하고, 결과가 어떻게 달라지는지 분석하세요."
      ]
    },
    {
      "cell_type": "code",
      "execution_count": null,
      "metadata": {
        "id": "DvrkvUNR1Hk6"
      },
      "outputs": [],
      "source": [
        "# 연습 문제 1번 풀이 공간\n",
        "plt.figure(figsize=(6, 5))\n",
        "stats.probplot(df['revenue'].dropna(), dist=\"norm\", plot=plt)\n",
        "plt.title('Q-Q Plot for Revenue (vs Normal Distribution)')\n",
        "plt.xlabel('Theoretical Quantiles (Normal)')\n",
        "plt.ylabel('Sample Quantiles (Revenue)')\n",
        "plt.grid(True)\n",
        "plt.show()\n",
        "# 해석: (위 예시코드에서 이미 실행)\n",
        "# 생성된 'revenue' 데이터는 로그정규분포와 유사하거나 임의의 양의 왜도를 가지도록 만들어졌으므로,\n",
        "# Q-Q plot에서 점들이 직선에서 체계적으로 벗어나는 패턴을 보일 것입니다.\n",
        "# 특히, 낮은 값과 높은 값에서 직선보다 위나 아래로 벗어나는 모습을 보일 수 있으며, 이는 정규분포와 거리가 있음을 시사합니다.\n",
        "\n",
        "# 연습 문제 2번 풀이 공간\n",
        "revenue_data = df['revenue'].dropna()\n",
        "alpha = 0.05\n",
        "\n",
        "# Shapiro-Wilk Test\n",
        "shapiro_stat, shapiro_p_value = stats.shapiro(revenue_data)\n",
        "print(f\"Shapiro-Wilk Test for Revenue: Statistic={shapiro_stat:.4f}, p-value={shapiro_p_value:.4f}\")\n",
        "if shapiro_p_value > alpha:\n",
        "    print(\"  매출액 데이터는 정규분포를 따르는 것으로 보입니다 (귀무가설 채택).\")\n",
        "else:\n",
        "    print(\"  매출액 데이터는 정규분포를 따르지 않는 것으로 보입니다 (귀무가설 기각).\")\n",
        "\n",
        "# D'Agostino and Pearson's Test (normaltest)\n",
        "normaltest_stat, normaltest_p_value = stats.normaltest(revenue_data)\n",
        "print(f\"\\nD'Agostino and Pearson's Test for Revenue: Statistic={normaltest_stat:.4f}, p-value={normaltest_p_value:.4f}\")\n",
        "if normaltest_p_value > alpha:\n",
        "    print(\"  매출액 데이터는 정규분포를 따르는 것으로 보입니다 (귀무가설 채택).\")\n",
        "else:\n",
        "    print(\"  매출액 데이터는 정규분포를 따르지 않는 것으로 보입니다 (귀무가설 기각).\")\n",
        "# 해석: 생성된 'revenue' 데이터의 특성상 p-value는 alpha보다 작게 나와 귀무가설을 기각할 가능성이 높습니다.\n",
        "# 즉, 데이터가 정규분포를 따르지 않는다는 결론을 내릴 수 있습니다.\n",
        "\n",
        "# 연습 문제 3번 풀이 공간\n",
        "mean_practice = 50\n",
        "std_practice = 10\n",
        "sample_size_practice = 100\n",
        "x_value_practice = 60\n",
        "\n",
        "# 정규분포에서 샘플 생성\n",
        "sampled_data_practice = np.random.normal(loc=mean_practice, scale=std_practice, size=sample_size_practice)\n",
        "\n",
        "# CDF 계산\n",
        "cdf_at_60 = stats.norm.cdf(x_value_practice, loc=mean_practice, scale=std_practice)\n",
        "print(f\"\\n평균 {mean_practice}, 표준편차 {std_practice}인 정규분포에서 x={x_value_practice}일 때의 CDF 값: {cdf_at_60:.4f}\")\n",
        "print(f\"  의미: 데이터 값이 {x_value_practice}보다 작거나 같을 확률은 약 {cdf_at_60*100:.2f}% 입니다.\")\n",
        "\n",
        "# SF 계산\n",
        "sf_at_60 = stats.norm.sf(x_value_practice, loc=mean_practice, scale=std_practice)\n",
        "print(f\"평균 {mean_practice}, 표준편차 {std_practice}인 정규분포에서 x={x_value_practice}일 때의 SF 값: {sf_at_60:.4f}\")\n",
        "print(f\"  의미: 데이터 값이 {x_value_practice}보다 클 확률은 약 {sf_at_60*100:.2f}% 입니다.\")\n",
        "\n",
        "# 참고: 생성된 샘플 데이터(sampled_data_practice)는 이론적인 CDF, SF 값을 계산하는 데 직접 사용되진 않습니다.\n",
        "# 이 문제의 의도는 scipy.stats.norm의 기능을 이해하는 것입니다.\n",
        "# 만약 샘플 데이터 자체에서 x=60 이하인 비율을 구하려면 다음과 같이 합니다:\n",
        "# empirical_cdf_at_60 = np.sum(sampled_data_practice <= x_value_practice) / sample_size_practice\n",
        "# print(f\"샘플 데이터에서 x={x_value_practice} 이하인 비율 (Empirical CDF): {empirical_cdf_at_60:.4f}\")"
      ]
    }
  ],
  "metadata": {
    "colab": {
      "provenance": []
    },
    "kernelspec": {
      "display_name": ".venv",
      "language": "python",
      "name": "python3"
    },
    "language_info": {
      "codemirror_mode": {
        "name": "ipython",
        "version": 3
      },
      "file_extension": ".py",
      "mimetype": "text/x-python",
      "name": "python",
      "nbconvert_exporter": "python",
      "pygments_lexer": "ipython3",
      "version": "3.12.9"
    }
  },
  "nbformat": 4,
  "nbformat_minor": 0
}
