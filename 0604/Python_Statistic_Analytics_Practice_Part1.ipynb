{
  "cells": [
    {
      "cell_type": "markdown",
      "metadata": {
        "id": "CHAbbUjF1Hk3"
      },
      "source": [
        "## Python Pandas 통계분석 실습 🐍"
      ]
    },
    {
      "cell_type": "markdown",
      "metadata": {},
      "source": [
        "\n",
        "* **클래스 목표 및 2일 로드맵 소개**\n",
        "\n",
        "  * **2일간의 학습 여정:** 기초 통계부터 A/B 테스트 실전까지 체계적으로 학습합니다.\n",
        "  * **학습 목표:**\n",
        "      * 핵심 통계 개념의 명확한 이해.\n",
        "      * Python 코드를 활용한 통계 분석 기법 적용 능력 함양.\n",
        "      * 확률분포, 통계적 추정, 가설검정, 회귀분석 등 통계적 기법 이해 및 활용.\n",
        "      * A/B 테스트의 설계, 실행, 분석 및 결과 해석 능력 배양.\n",
        "      * 데이터 기반의 합리적인 의사결정 능력 향상.\n",
        "  * **학습 방법:**\n",
        "      * 주요 이론 및 핵심 개념 강의.\n",
        "      * 강의 내용을 바로 적용해보는 집중적인 실습 세션.\n",
        "      * 실제와 유사한 데이터셋을 사용한 문제 해결.\n",
        "---"
      ]
    },
    {
      "cell_type": "markdown",
      "metadata": {},
      "source": [
        "## ☀️ DAY 1: Python을 활용한 핵심 통계 개념\n",
        "---\n",
        "\n",
        "### 기술 통계 Review 📊\n",
        "\n",
        "🎯 **학습 목표:**\n",
        "\n",
        "* 데이터의 중심 경향을 나타내는 주요 측정값(평균, 중앙값, 최빈값)을 이해하고 계산할 수 있습니다.\n",
        "* 데이터의 흩어진 정도를 나타내는 산포도 측정값(분산, 표준편차, 범위, 사분위수 범위)을 이해하고 계산할 수 있습니다.\n",
        "* 데이터 분포의 모양을 설명하는 왜도와 첨도의 개념을 이해하고 해석할 수 있습니다.\n",
        "* Python의 주요 라이브러리(Pandas, Scipy)를 활용하여 기술 통계량을 효율적으로 분석하고 시각화할 수 있습니다.\n",
        "\n",
        "#### 💡 개념 (Concept)\n",
        "\n",
        "기술 통계(Descriptive Statistics)는 수집된 데이터를 요약하고 설명하여 데이터의 주요 특징을 파악하는 데 도움을 줍니다.\n",
        "\"\n",
        "**1. 중심 경향치 (Central Tendency):** 데이터의 중심을 나타내는 값들입니다.\n",
        "\n",
        "* **평균 (Mean):** 모든 데이터 값을 더한 후 데이터의 총개수로 나눈 값입니다. 이상치(outlier)에 민감하게 반응합니다.\n",
        "    $\\mu = \\frac{\\sum_{i=1}^{N} x_i}{N}$\n",
        "    또는 표본 평균:\n",
        "    $\\bar{x} = \\frac{\\sum_{i=1}^{n} x_i}{n}$\n",
        "* **중앙값 (Median):** 데이터를 크기 순으로 정렬했을 때 정확히 가운데에 위치하는 값입니다. 데이터의 개수가 짝수일 경우, 가운데 두 값의 평균을 사용합니다. 이상치에 덜 민감합니다(robust).\n",
        "* **최빈값 (Mode):** 데이터에서 가장 빈번하게 나타나는 값입니다. 범주형 데이터나 이산형 데이터에 주로 사용되며, 여러 개 존재할 수도 있고 존재하지 않을 수도 있습니다.\n",
        "\n",
        "**2. 산포도 (Dispersion/Variability):** 데이터가 얼마나 흩어져 있는지를 나타내는 값들입니다.\n",
        "\n",
        "* **분산 (Variance):** 각 데이터 값이 평균으로부터 얼마나 떨어져 있는지를 제곱하여 평균 낸 값입니다. 데이터의 흩어진 정도를 나타내지만, 단위가 원래 데이터의 단위의 제곱이 됩니다.\n",
        "    모분산: $\\sigma^2 = \\frac{\\sum_{i=1}^{N} (x_i - \\mu)^2}{N}$\n",
        "    표본분산: $s^2 = \\frac{\\sum_{i=1}^{n} (x_i - \\bar{x})^2}{n-1}$ (n-1로 나누는 것은 불편추정량을 얻기 위함)\n",
        "* **표준편차 (Standard Deviation):** 분산의 제곱근으로, 데이터의 변동성을 원래 데이터와 같은 단위로 직관적으로 보여줍니다.\n",
        "    모표준편차: $\\sigma = \\sqrt{\\sigma^2}$\n",
        "    표본표준편차: $s = \\sqrt{s^2}$\n",
        "* **범위 (Range):** 데이터의 최댓값과 최솟값의 차이입니다. 계산이 간단하지만, 데이터 양 끝의 이상치에 크게 영향을 받습니다.\n",
        "    $\\text{Range} = \\text{Max}(x) - \\text{Min}(x)$\n",
        "* **사분위수 범위 (Interquartile Range, IQR):** 데이터를 크기 순으로 정렬했을 때, 제3사분위수(Q3, 상위 25%)와 제1사분위수(Q1, 하위 25%)의 차이입니다. 데이터의 중간 50%가 포함되는 범위로, 이상치에 덜 민감합니다.\n",
        "    $\\text{IQR} = Q3 - Q1$\n",
        "\n",
        "**3. 분포의 형태 (Shape of Distribution):**\n",
        "\n",
        "* **왜도 (Skewness):** 데이터 분포의 비대칭성을 나타내는 지표입니다.\n",
        "    * **정규분포의 왜도 = 0:** 좌우 대칭입니다.\n",
        "    * **양의 왜도 (Positive Skew, 오른쪽 꼬리 분포):** 분포의 오른쪽 꼬리가 왼쪽보다 깁니다. 평균 > 중앙값 > 최빈값 순서일 가능성이 높습니다.\n",
        "    * **음의 왜도 (Negative Skew, 왼쪽 꼬리 분포):** 분포의 왼쪽 꼬리가 오른쪽보다 깁니다. 최빈값 > 중앙값 > 평균 순서일 가능성이 높습니다.\n",
        "* **첨도 (Kurtosis):** 데이터 분포의 뾰족한 정도와 꼬리의 두께를 나타내는 지표입니다.\n",
        "    * **정규분포의 첨도 = 3 (또는 초과 첨도(Excess Kurtosis) = 0):** 표준적인 뾰족함을 가집니다. `scipy.stats.kurtosis()`는 초과 첨도를 기준으로 계산하며, 정규분포일 경우 0이 나옵니다.\n",
        "    * **고첨도 (Leptokurtic, 초과 첨도 > 0):** 분포의 중심이 더 뾰족하고 꼬리가 두껍습니다 (이상치가 많을 수 있음).\n",
        "    * **저첨도 (Platykurtic, 초과 첨도 < 0):** 분포의 중심이 더 평평하고 꼬리가 얇습니다.\n",
        "\n",
        "**4. 데이터 시그니처 해석:**\n",
        "\n",
        "기술 통계량과 시각화 도구(히스토그램, 박스플롯 등)를 함께 사용하여 데이터에 숨겨진 패턴, 경향성, 이상치 등을 종합적으로 파악합니다. 예를 들어, 평균과 중앙값이 크게 차이 나면 데이터가 한쪽으로 치우쳐 있을 가능성을 시사합니다.\n",
        "\n",
        "#### 💻 예시 코드 (Example Code)\n",
        "\n",
        "가상의 데이터셋 `단다컴퍼니_매출.csv` (날짜, 상품ID, 카테고리, 매출액, 판매량 컬럼 포함 가정)를 사용합니다."
      ]
    },
    {
      "cell_type": "code",
      "execution_count": 9,
      "metadata": {},
      "outputs": [],
      "source": [
        "import os\n",
        "os.sys.path.append(os.path.dirname(os.path.abspath(os.getcwd())))\n",
        "from lib.slide import show_html_slides"
      ]
    },
    {
      "cell_type": "code",
      "execution_count": 51,
      "metadata": {},
      "outputs": [
        {
          "data": {
            "text/html": [
              "\n",
              "    <style>\n",
              "    .slide-container {\n",
              "        width: 100%;\n",
              "        max-width: 960px;\n",
              "        aspect-ratio: 16 / 9;\n",
              "        height: auto;\n",
              "        min-height: 540px; /* Increased min-height for better readability */\n",
              "        border: 1px solid #ddd; /* Lighter border */\n",
              "        border-radius: 12px; /* Softer corners */\n",
              "        background: #ffffff; /* Clean white background */\n",
              "        box-shadow: 0 4px 12px rgba(0,0,0,0.05); /* Subtle shadow */\n",
              "        position: relative;\n",
              "        overflow: hidden;\n",
              "        margin: 20px auto; /* Added margin for better page integration */\n",
              "        display: flex;\n",
              "        align-items: center;\n",
              "        justify-content: center;\n",
              "    }\n",
              "    .slide-content {\n",
              "        width: 100%;\n",
              "        height: 100%;\n",
              "        display: none;\n",
              "        justify-content: flex-start; /* Align content to the top */\n",
              "        align-items: center; /* Center content horizontally */\n",
              "        flex-direction: column;\n",
              "        position: absolute;\n",
              "        top: 0; left: 0; right: 0; bottom: 0;\n",
              "        text-align: left; /* Default text align to left for lists */\n",
              "        padding: 50px; /* Generous padding */\n",
              "        box-sizing: border-box; /* Include padding in width/height */\n",
              "    }\n",
              "    .slide-content.active {\n",
              "        display: flex;\n",
              "    }\n",
              "    .slide-header-title {\n",
              "        font-size: 2.8em; /* Larger title */\n",
              "        color: #2c3e50; /* Dark, modern blue */\n",
              "        margin-bottom: 30px;\n",
              "        font-weight: 600; /* Slightly bolder */\n",
              "        width: 100%; /* Ensure title takes full width for centering if needed */\n",
              "        text-align: center; /* Center the title */\n",
              "    }\n",
              "    .slide-list-content {\n",
              "        font-size: 1.3em; /* Adjusted for readability */\n",
              "        color: #34495e; /* Softer black */\n",
              "        line-height: 1.8; /* Increased line height */\n",
              "        list-style-type: disc; /* Standard bullets */\n",
              "        padding-left: 40px; /* Indent list items */\n",
              "        align-self: flex-start; /* Align list to the left within the content area */\n",
              "        width: 100%; /* Allow list to use available width */\n",
              "        max-width: 800px; /* Optional: constrain list width for very wide slides */\n",
              "    }\n",
              "    .slide-list-content li {\n",
              "        margin-bottom: 12px; /* Space between list items */\n",
              "    }\n",
              "    .navigation {\n",
              "        position: absolute;\n",
              "        bottom: 20px; /* Positioned slightly higher */\n",
              "        left: 50%;\n",
              "        transform: translateX(-50%);\n",
              "        z-index: 10;\n",
              "        display: flex;\n",
              "        justify-content: center;\n",
              "    }\n",
              "    .nav-btn {\n",
              "        background: #3498db; /* Brighter blue */\n",
              "        color: white;\n",
              "        border: none;\n",
              "        padding: 12px 20px; /* Larger buttons */\n",
              "        margin: 0 10px;\n",
              "        border-radius: 6px; /* Softer button corners */\n",
              "        cursor: pointer;\n",
              "        font-size: 1em;\n",
              "        transition: background-color 0.3s ease; /* Smooth hover effect */\n",
              "    }\n",
              "    .nav-btn:hover {\n",
              "        background: #2980b9; /* Darker blue on hover */\n",
              "    }\n",
              "    </style>\n",
              "\n",
              "    <div class=\"slide-container\" id=\"slideContainer\">\n",
              "        \n",
              "        <div class=\"slide-content active\" id=\"slide-1\">\n",
              "            <h1 class=\"slide-header-title\">1. 중심 경향치 (Central Tendency)</h1><ul class=\"slide-list-content\"><li>평균 (Mean): 모든 데이터 값을 더한 후 데이터의 총개수로 나눈 값<br><span style=\"color:#555;\">이상치(outlier)에 민감하게 반응</span><br><span style=\"font-size:0.95em;\">$\\mu = \\dfrac{\\sum_{i=1}^{N} x_i}{N}$<br>$\\bar{x} = \\dfrac{\\sum_{i=1}^{n} x_i}{n}$ (표본 평균)</span></li><li>중앙값 (Median): 데이터를 크기 순으로 정렬했을 때 가운데에 위치하는 값<br><span style=\"color:#555;\">짝수개면 가운데 두 값의 평균, 이상치에 덜 민감(robust)</span></li><li>최빈값 (Mode): 데이터에서 가장 빈번하게 나타나는 값<br><span style=\"color:#555;\">범주형/이산형 데이터에 주로 사용, 여러 개 또는 없을 수도 있음</span></li></ul>\n",
              "        </div>\n",
              "        \n",
              "        <div class=\"slide-content \" id=\"slide-2\">\n",
              "            <h1 class=\"slide-header-title\">2. 산포도 (Dispersion/Variability)</h1><ul class=\"slide-list-content\"><li>분산 (Variance): 각 데이터가 평균에서 얼마나 떨어져 있는지의 제곱 평균<br><span style=\"font-size:0.95em;\">모분산: $\\sigma^2 = \\dfrac{\\sum_{i=1}^{N} (x_i - \\mu)^2}{N}$<br>표본분산: $s^2 = \\dfrac{\\sum_{i=1}^{n} (x_i - \\bar{x})^2}{n-1}$</span></li><li>표준편차 (Standard Deviation): 분산의 제곱근, 원래 단위와 동일<br><span style=\"font-size:0.95em;\">$\\sigma = \\sqrt{\\sigma^2}$, $s = \\sqrt{s^2}$</span></li><li>범위 (Range): 최댓값 - 최솟값<br><span style=\"font-size:0.95em;\">$\\text{Range} = \\text{Max}(x) - \\text{Min}(x)$</span></li><li>사분위수 범위 (IQR): Q3(상위25%) - Q1(하위25%)<br><span style=\"font-size:0.95em;\">$\\text{IQR} = Q3 - Q1$</span></li></ul>\n",
              "        </div>\n",
              "        \n",
              "        <div class=\"slide-content \" id=\"slide-3\">\n",
              "            <h1 class=\"slide-header-title\">3. 분포의 형태 (Shape of Distribution)</h1><ul class=\"slide-list-content\"><li>왜도 (Skewness): 분포의 비대칭성<ul><li>정규분포: 왜도=0 (좌우 대칭)</li><li>양의 왜도: 오른쪽 꼬리, 평균 &gt; 중앙값 &gt; 최빈값</li><li>음의 왜도: 왼쪽 꼬리, 최빈값 &gt; 중앙값 &gt; 평균</li></ul></li><li>첨도 (Kurtosis): 분포의 뾰족함과 꼬리 두께<ul><li>정규분포 첨도=3 (초과첨도=0)</li><li>고첨도(Leptokurtic): 중심 뾰족, 꼬리 두꺼움 (이상치 많음)</li><li>저첨도(Platykurtic): 중심 평평, 꼬리 얇음</li></ul></li></ul>\n",
              "        </div>\n",
              "        \n",
              "        <div class=\"slide-content \" id=\"slide-4\">\n",
              "            <h1 class=\"slide-header-title\">4. 데이터 시그니처 해석</h1><ul class=\"slide-list-content\"><li>기술 통계량과 <b>시각화 도구(히스토그램, 박스플롯 등)</b>를 함께 사용</li><li>데이터의 패턴, 경향성, 이상치 등을 종합적으로 파악</li><li>예시: 평균과 중앙값이 크게 차이 나면 데이터가 한쪽으로 치우쳐 있을 가능성</li></ul>\n",
              "        </div>\n",
              "        \n",
              "        <div class=\"navigation\">\n",
              "            <button class=\"nav-btn\" onclick=\"prevSlide()\">이전</button>\n",
              "            <button class=\"nav-btn\" onclick=\"nextSlide()\">다음</button>\n",
              "        </div>\n",
              "    </div>\n",
              "    <script>\n",
              "    MathJax = {\n",
              "      tex: {\n",
              "        inlineMath: [['$', '$'], ['\\\\(', '\\\\)']],\n",
              "        displayMath: [['$$', '$$'], ['\\\\[', '\\\\]']],\n",
              "        processEscapes: true\n",
              "      },\n",
              "      svg: {\n",
              "        fontCache: 'global'\n",
              "      }\n",
              "    };\n",
              "    </script>\n",
              "    <script src=\"https://polyfill.io/v3/polyfill.min.js?features=es6\"></script>\n",
              "    <script id=\"MathJax-script\" async src=\"https://cdn.jsdelivr.net/npm/mathjax@3/es5/tex-mml-chtml.js\"></script>\n",
              "    <script>\n",
              "    var currentSlide = 1;\n",
              "    var totalSlides = 4;\n",
              "\n",
              "    function showSlide(n) {\n",
              "        for (var i = 1; i <= totalSlides; i++) {\n",
              "            var slide = document.getElementById('slide-' + i);\n",
              "            if (slide) {\n",
              "                slide.classList.remove('active');\n",
              "                if (i === n) {\n",
              "                    slide.classList.add('active');\n",
              "                }\n",
              "            }\n",
              "        }\n",
              "        // Trigger MathJax typesetting for the new active slide\n",
              "        if (window.MathJax && typeof window.MathJax.typesetPromise === 'function') {\n",
              "            setTimeout(() => { // Delay to ensure DOM is updated\n",
              "                try {\n",
              "                    const elementToTypeset = document.getElementById('slide-' + n);\n",
              "                    if (elementToTypeset) {\n",
              "                        window.MathJax.typesetPromise([elementToTypeset]);\n",
              "                    } else {\n",
              "                        // console.warn(\"MathJax: Element slide-\" + n + \" not found for typesetting.\");\n",
              "                    }\n",
              "                } catch (e) {\n",
              "                    console.error(\"MathJax typesetting error:\", e);\n",
              "                }\n",
              "            }, 0);\n",
              "        }\n",
              "    }\n",
              "\n",
              "    function prevSlide() {\n",
              "        currentSlide = currentSlide - 1;\n",
              "        if (currentSlide < 1) currentSlide = totalSlides;\n",
              "        showSlide(currentSlide);\n",
              "    }\n",
              "\n",
              "    function nextSlide() {\n",
              "        currentSlide = currentSlide + 1;\n",
              "        if (currentSlide > totalSlides) currentSlide = 1;\n",
              "        showSlide(currentSlide);\n",
              "    }\n",
              "\n",
              "    document.addEventListener(\"DOMContentLoaded\", function() {\n",
              "        showSlide(currentSlide);\n",
              "    });\n",
              "    </script>\n",
              "    "
            ],
            "text/plain": [
              "<IPython.core.display.HTML object>"
            ]
          },
          "metadata": {},
          "output_type": "display_data"
        }
      ],
      "source": [
        "slides_data = [\n",
        "    {\n",
        "        'title': '1. 중심 경향치 (Central Tendency)',\n",
        "        'items': [\n",
        "            '평균 (Mean): 모든 데이터 값을 더한 후 데이터의 총개수로 나눈 값<br><span style=\"color:#555;\">이상치(outlier)에 민감하게 반응</span><br><span style=\"font-size:0.95em;\">$\\\\mu = \\\\dfrac{\\\\sum_{i=1}^{N} x_i}{N}$<br>$\\\\bar{x} = \\\\dfrac{\\\\sum_{i=1}^{n} x_i}{n}$ (표본 평균)</span>',\n",
        "            '중앙값 (Median): 데이터를 크기 순으로 정렬했을 때 가운데에 위치하는 값<br><span style=\"color:#555;\">짝수개면 가운데 두 값의 평균, 이상치에 덜 민감(robust)</span>',\n",
        "            '최빈값 (Mode): 데이터에서 가장 빈번하게 나타나는 값<br><span style=\"color:#555;\">범주형/이산형 데이터에 주로 사용, 여러 개 또는 없을 수도 있음</span>'\n",
        "        ]\n",
        "    },\n",
        "    {\n",
        "        'title': '2. 산포도 (Dispersion/Variability)',\n",
        "        'items': [\n",
        "            '분산 (Variance): 각 데이터가 평균에서 얼마나 떨어져 있는지의 제곱 평균<br><span style=\"font-size:0.95em;\">모분산: $\\\\sigma^2 = \\\\dfrac{\\\\sum_{i=1}^{N} (x_i - \\\\mu)^2}{N}$<br>표본분산: $s^2 = \\\\dfrac{\\\\sum_{i=1}^{n} (x_i - \\\\bar{x})^2}{n-1}$</span>',\n",
        "            '표준편차 (Standard Deviation): 분산의 제곱근, 원래 단위와 동일<br><span style=\"font-size:0.95em;\">$\\\\sigma = \\\\sqrt{\\\\sigma^2}$, $s = \\\\sqrt{s^2}$</span>',\n",
        "            '범위 (Range): 최댓값 - 최솟값<br><span style=\"font-size:0.95em;\">$\\\\text{Range} = \\\\text{Max}(x) - \\\\text{Min}(x)$</span>',\n",
        "            '사분위수 범위 (IQR): Q3(상위25%) - Q1(하위25%)<br><span style=\"font-size:0.95em;\">$\\\\text{IQR} = Q3 - Q1$</span>'\n",
        "        ]\n",
        "    },\n",
        "    {\n",
        "        'title': '3. 분포의 형태 (Shape of Distribution)',\n",
        "        'items': [\n",
        "            '왜도 (Skewness): 분포의 비대칭성<ul><li>정규분포: 왜도=0 (좌우 대칭)</li><li>양의 왜도: 오른쪽 꼬리, 평균 &gt; 중앙값 &gt; 최빈값</li><li>음의 왜도: 왼쪽 꼬리, 최빈값 &gt; 중앙값 &gt; 평균</li></ul>',\n",
        "            '첨도 (Kurtosis): 분포의 뾰족함과 꼬리 두께<ul><li>정규분포 첨도=3 (초과첨도=0)</li><li>고첨도(Leptokurtic): 중심 뾰족, 꼬리 두꺼움 (이상치 많음)</li><li>저첨도(Platykurtic): 중심 평평, 꼬리 얇음</li></ul>'\n",
        "        ]\n",
        "    },\n",
        "    {\n",
        "        'title': '4. 데이터 시그니처 해석',\n",
        "        'items': [\n",
        "            '기술 통계량과 <b>시각화 도구(히스토그램, 박스플롯 등)</b>를 함께 사용',\n",
        "            '데이터의 패턴, 경향성, 이상치 등을 종합적으로 파악',\n",
        "            '예시: 평균과 중앙값이 크게 차이 나면 데이터가 한쪽으로 치우쳐 있을 가능성',\n",
        "        ]\n",
        "    }\n",
        "]\n",
        "\n",
        "show_html_slides(slides_data)"
      ]
    },
    {
      "cell_type": "markdown",
      "metadata": {},
      "source": [
        "라이브러리 로드"
      ]
    },
    {
      "cell_type": "code",
      "execution_count": 62,
      "metadata": {
        "id": "bdUDxu0H1Hk5"
      },
      "outputs": [],
      "source": [
        "import pandas as pd\n",
        "import numpy as np\n",
        "from scipy import stats\n",
        "import plotly.express as px\n",
        "import plotly.graph_objects as go\n",
        "import plotly.io as pio\n",
        "from plotly.subplots import make_subplots\n",
        "from ipywidgets import widgets\n",
        "from IPython.display import display"
      ]
    },
    {
      "cell_type": "code",
      "execution_count": 63,
      "metadata": {},
      "outputs": [],
      "source": [
        "# 가상 데이터 생성 (실제로는 pd.read_csv() 사용)\n",
        "data = {\n",
        "    'date': pd.to_datetime(['2023-01-01', '2023-01-01', '2023-01-02', '2023-01-02', '2023-01-03', '2023-01-03', '2023-01-04', '2023-01-04', '2023-01-05', '2023-01-05'] * 10),\n",
        "    'product_id': [f'P{100+i}' for i in range(10)] * 10,\n",
        "    'category': ['Electronics', 'Books', 'Clothing', 'Electronics', 'Books', 'Clothing', 'Home Goods', 'Beauty', 'Sports', 'Electronics'] * 10,\n",
        "    'revenue': np.random.lognormal(mean=np.log(100), sigma=0.8, size=100).round(2) + np.random.randint(10, 500, size=100), # 매출액 (양의 왜도를 가지도록)\n",
        "    'quantity': np.random.randint(1, 15, size=100)\n",
        "}\n",
        "df = pd.DataFrame(data)\n"
      ]
    },
    {
      "cell_type": "markdown",
      "metadata": {},
      "source": [
        "데이터 확인"
      ]
    },
    {
      "cell_type": "code",
      "execution_count": 64,
      "metadata": {},
      "outputs": [
        {
          "name": "stdout",
          "output_type": "stream",
          "text": [
            "<class 'pandas.core.frame.DataFrame'>\n",
            "RangeIndex: 100 entries, 0 to 99\n",
            "Data columns (total 5 columns):\n",
            " #   Column      Non-Null Count  Dtype         \n",
            "---  ------      --------------  -----         \n",
            " 0   date        100 non-null    datetime64[ns]\n",
            " 1   product_id  100 non-null    object        \n",
            " 2   category    100 non-null    object        \n",
            " 3   revenue     100 non-null    float64       \n",
            " 4   quantity    100 non-null    int64         \n",
            "dtypes: datetime64[ns](1), float64(1), int64(1), object(2)\n",
            "memory usage: 4.0+ KB\n"
          ]
        }
      ],
      "source": [
        "# 데이터 불러오기 (실제 경우)\n",
        "# df = pd.read_csv('단다컴퍼니_매출.csv')\n",
        "# 기본 정보 확인\n",
        "df.info()\n"
      ]
    },
    {
      "cell_type": "code",
      "execution_count": 65,
      "metadata": {},
      "outputs": [
        {
          "data": {
            "text/html": [
              "<div>\n",
              "<style scoped>\n",
              "    .dataframe tbody tr th:only-of-type {\n",
              "        vertical-align: middle;\n",
              "    }\n",
              "\n",
              "    .dataframe tbody tr th {\n",
              "        vertical-align: top;\n",
              "    }\n",
              "\n",
              "    .dataframe thead th {\n",
              "        text-align: right;\n",
              "    }\n",
              "</style>\n",
              "<table border=\"1\" class=\"dataframe\">\n",
              "  <thead>\n",
              "    <tr style=\"text-align: right;\">\n",
              "      <th></th>\n",
              "      <th>date</th>\n",
              "      <th>product_id</th>\n",
              "      <th>category</th>\n",
              "      <th>revenue</th>\n",
              "      <th>quantity</th>\n",
              "    </tr>\n",
              "  </thead>\n",
              "  <tbody>\n",
              "    <tr>\n",
              "      <th>0</th>\n",
              "      <td>2023-01-01</td>\n",
              "      <td>P100</td>\n",
              "      <td>Electronics</td>\n",
              "      <td>476.36</td>\n",
              "      <td>4</td>\n",
              "    </tr>\n",
              "    <tr>\n",
              "      <th>1</th>\n",
              "      <td>2023-01-01</td>\n",
              "      <td>P101</td>\n",
              "      <td>Books</td>\n",
              "      <td>593.18</td>\n",
              "      <td>1</td>\n",
              "    </tr>\n",
              "    <tr>\n",
              "      <th>2</th>\n",
              "      <td>2023-01-02</td>\n",
              "      <td>P102</td>\n",
              "      <td>Clothing</td>\n",
              "      <td>242.57</td>\n",
              "      <td>4</td>\n",
              "    </tr>\n",
              "    <tr>\n",
              "      <th>3</th>\n",
              "      <td>2023-01-02</td>\n",
              "      <td>P103</td>\n",
              "      <td>Electronics</td>\n",
              "      <td>740.19</td>\n",
              "      <td>4</td>\n",
              "    </tr>\n",
              "    <tr>\n",
              "      <th>4</th>\n",
              "      <td>2023-01-03</td>\n",
              "      <td>P104</td>\n",
              "      <td>Books</td>\n",
              "      <td>486.30</td>\n",
              "      <td>14</td>\n",
              "    </tr>\n",
              "  </tbody>\n",
              "</table>\n",
              "</div>"
            ],
            "text/plain": [
              "        date product_id     category  revenue  quantity\n",
              "0 2023-01-01       P100  Electronics   476.36         4\n",
              "1 2023-01-01       P101        Books   593.18         1\n",
              "2 2023-01-02       P102     Clothing   242.57         4\n",
              "3 2023-01-02       P103  Electronics   740.19         4\n",
              "4 2023-01-03       P104        Books   486.30        14"
            ]
          },
          "execution_count": 65,
          "metadata": {},
          "output_type": "execute_result"
        }
      ],
      "source": [
        "df.head()"
      ]
    },
    {
      "cell_type": "code",
      "execution_count": 66,
      "metadata": {},
      "outputs": [
        {
          "data": {
            "text/plain": [
              "(100, 5)"
            ]
          },
          "execution_count": 66,
          "metadata": {},
          "output_type": "execute_result"
        }
      ],
      "source": [
        "# 데이터 형태 확인\n",
        "df.shape"
      ]
    },
    {
      "cell_type": "markdown",
      "metadata": {},
      "source": [
        "주요 기술 통계량 계산"
      ]
    },
    {
      "cell_type": "code",
      "execution_count": 67,
      "metadata": {},
      "outputs": [
        {
          "data": {
            "text/plain": [
              "count     100.000000\n",
              "mean      376.095400\n",
              "std       198.721902\n",
              "min        32.730000\n",
              "25%       235.355000\n",
              "50%       361.630000\n",
              "75%       492.790000\n",
              "max      1076.550000\n",
              "Name: revenue, dtype: float64"
            ]
          },
          "execution_count": 67,
          "metadata": {},
          "output_type": "execute_result"
        }
      ],
      "source": [
        "# 매출액(revenue) 기술 통계량 (Pandas)\n",
        "df['revenue'].describe()"
      ]
    },
    {
      "cell_type": "code",
      "execution_count": null,
      "metadata": {},
      "outputs": [
        {
          "data": {
            "text/plain": [
              "count    100.000000\n",
              "mean       7.520000\n",
              "std        3.970803\n",
              "min        1.000000\n",
              "25%        4.000000\n",
              "50%        7.500000\n",
              "75%       11.000000\n",
              "max       14.000000\n",
              "Name: quantity, dtype: float64"
            ]
          },
          "metadata": {},
          "output_type": "display_data"
        }
      ],
      "source": [
        "# 판매량(quantity) 기술 통계량 (Pandas)\n",
        "df['quantity'].describe()"
      ]
    },
    {
      "cell_type": "code",
      "execution_count": 24,
      "metadata": {},
      "outputs": [
        {
          "data": {
            "application/vnd.plotly.v1+json": {
              "config": {
                "plotlyServerURL": "https://plot.ly"
              },
              "data": [
                {
                  "box": {
                    "visible": true
                  },
                  "fillcolor": "rgba(0,123,255,0.4)",
                  "line": {
                    "color": "rgba(0,123,255,1)"
                  },
                  "marker": {
                    "color": "rgba(0,123,255,0.7)"
                  },
                  "meanline": {
                    "visible": true
                  },
                  "name": "매출액",
                  "points": "outliers",
                  "showlegend": false,
                  "type": "violin",
                  "xaxis": "x",
                  "y": {
                    "bdata": "UrgeheuVfkDNzMzMzAh8QFK4HoXr/XFAhetRuB4jh0DsUbgehXeBQIXrUbgeWXVAXI/C9SjoeUBSuB6F60F2QB+F61G43lhAexSuR+E2ekDsUbgehe9zQB+F61G46nlAHoXrUbjGjEBmZmZmZqiBQHsUrkfhdnRAFK5H4Xr8dkAK16NwPWJoQOF6FK5HFXdAKVyPwvUUc0AAAAAAAGBiQOxRuB6Fy2BA16NwPQrfeUC4HoXrUaBhQIXrUbgeLYFAw/UoXI/ifkAAAAAAACiAQOxRuB6F44FAuB6F61H8eEB7FK5H4e5xQClcj8L1KHpAPgrXo3DtfUC4HoXrUax4QClcj8L1OGZArkfhehS+h0DD9Shcj5iAQHsUrkfhhoFA4XoUrkelckBxPQrXo1KAQHsUrkfhqmZAH4XrUbhSeECamZmZmeF+QIXrUbgeyXtAhetRuB5HiUAK16NwPZphQBSuR+F6iHVAzczMzMwEZECkcD0K16WBQFyPwvUorIZACtejcD34jkCkcD0K14N6QAAAAAAANIJA4noUrke9cEDC9ShcjzJjQJqZmZmZaXlAcT0K16PYekCQwvUoXJ95QArXo3A9dnxA7FG4HoWDc0CkcD0K1y+EQNejcD0KgYVASOF6FK7Pe0AzMzMzM2toQHsUrkfhFn9ArkfhehSOVkCF61G4Hr19QClcj8L1ioBA9ihcj8IJcUBmZmZmZqp3QLgehetRxHRAMzMzMzMHdkC4HoXrUXqEQMP1KFyPNoFA9ihcj8J1ckAAAAAAAMR1QPYoXI/C5X5AmpmZmZkdgEBmZmZmZv5hQNejcD0Kt4FAAAAAAAA4c0AAAAAAAGCGQD4K16NwQYRA7FG4HoUPfUC4HoXrUch5QM3MzMzMmHJAH4XrUbiGcEDsUbgehad8QPYoXI/CLXtAAAAAAAAIekD2KFyPwiFwQArXo3A9YmZAwvUoXI/iYEBxPQrXo7x9QML1KFyPanJAw/UoXI/ef0CPwvUoXHt6QPYoXI/C54JAZmZmZma+fkBcj8L1KChxQAAAAAAACHJArkfhehROfEA=",
                    "dtype": "f8"
                  },
                  "yaxis": "y"
                },
                {
                  "box": {
                    "visible": true
                  },
                  "fillcolor": "rgba(40,167,69,0.4)",
                  "line": {
                    "color": "rgba(40,167,69,1)"
                  },
                  "marker": {
                    "color": "rgba(40,167,69,0.7)"
                  },
                  "meanline": {
                    "visible": true
                  },
                  "name": "판매량",
                  "points": "outliers",
                  "showlegend": false,
                  "type": "violin",
                  "xaxis": "x2",
                  "y": {
                    "bdata": "AwoNAgcMBQwNDAgJCAUNAgUNBQQJBgkCBwIKBAMNCwYDBAUJDgwGCQEOAwkCBQgBCQMDBwgFAw4GCgMCAw0NBwsLCwIEAwwLCgoKBgwIAQMGAQQGCggKDgcKDg4HAg0FCwYJDQ==",
                    "dtype": "i1"
                  },
                  "yaxis": "y2"
                }
              ],
              "layout": {
                "annotations": [
                  {
                    "font": {
                      "size": 16
                    },
                    "showarrow": false,
                    "text": "매출액 분포",
                    "x": 0.2125,
                    "xanchor": "center",
                    "xref": "paper",
                    "y": 1,
                    "yanchor": "bottom",
                    "yref": "paper"
                  },
                  {
                    "font": {
                      "size": 16
                    },
                    "showarrow": false,
                    "text": "판매량 분포",
                    "x": 0.7875,
                    "xanchor": "center",
                    "xref": "paper",
                    "y": 1,
                    "yanchor": "bottom",
                    "yref": "paper"
                  }
                ],
                "height": 500,
                "template": {
                  "data": {
                    "bar": [
                      {
                        "error_x": {
                          "color": "#2a3f5f"
                        },
                        "error_y": {
                          "color": "#2a3f5f"
                        },
                        "marker": {
                          "line": {
                            "color": "#E5ECF6",
                            "width": 0.5
                          },
                          "pattern": {
                            "fillmode": "overlay",
                            "size": 10,
                            "solidity": 0.2
                          }
                        },
                        "type": "bar"
                      }
                    ],
                    "barpolar": [
                      {
                        "marker": {
                          "line": {
                            "color": "#E5ECF6",
                            "width": 0.5
                          },
                          "pattern": {
                            "fillmode": "overlay",
                            "size": 10,
                            "solidity": 0.2
                          }
                        },
                        "type": "barpolar"
                      }
                    ],
                    "carpet": [
                      {
                        "aaxis": {
                          "endlinecolor": "#2a3f5f",
                          "gridcolor": "white",
                          "linecolor": "white",
                          "minorgridcolor": "white",
                          "startlinecolor": "#2a3f5f"
                        },
                        "baxis": {
                          "endlinecolor": "#2a3f5f",
                          "gridcolor": "white",
                          "linecolor": "white",
                          "minorgridcolor": "white",
                          "startlinecolor": "#2a3f5f"
                        },
                        "type": "carpet"
                      }
                    ],
                    "choropleth": [
                      {
                        "colorbar": {
                          "outlinewidth": 0,
                          "ticks": ""
                        },
                        "type": "choropleth"
                      }
                    ],
                    "contour": [
                      {
                        "colorbar": {
                          "outlinewidth": 0,
                          "ticks": ""
                        },
                        "colorscale": [
                          [
                            0,
                            "#0d0887"
                          ],
                          [
                            0.1111111111111111,
                            "#46039f"
                          ],
                          [
                            0.2222222222222222,
                            "#7201a8"
                          ],
                          [
                            0.3333333333333333,
                            "#9c179e"
                          ],
                          [
                            0.4444444444444444,
                            "#bd3786"
                          ],
                          [
                            0.5555555555555556,
                            "#d8576b"
                          ],
                          [
                            0.6666666666666666,
                            "#ed7953"
                          ],
                          [
                            0.7777777777777778,
                            "#fb9f3a"
                          ],
                          [
                            0.8888888888888888,
                            "#fdca26"
                          ],
                          [
                            1,
                            "#f0f921"
                          ]
                        ],
                        "type": "contour"
                      }
                    ],
                    "contourcarpet": [
                      {
                        "colorbar": {
                          "outlinewidth": 0,
                          "ticks": ""
                        },
                        "type": "contourcarpet"
                      }
                    ],
                    "heatmap": [
                      {
                        "colorbar": {
                          "outlinewidth": 0,
                          "ticks": ""
                        },
                        "colorscale": [
                          [
                            0,
                            "#0d0887"
                          ],
                          [
                            0.1111111111111111,
                            "#46039f"
                          ],
                          [
                            0.2222222222222222,
                            "#7201a8"
                          ],
                          [
                            0.3333333333333333,
                            "#9c179e"
                          ],
                          [
                            0.4444444444444444,
                            "#bd3786"
                          ],
                          [
                            0.5555555555555556,
                            "#d8576b"
                          ],
                          [
                            0.6666666666666666,
                            "#ed7953"
                          ],
                          [
                            0.7777777777777778,
                            "#fb9f3a"
                          ],
                          [
                            0.8888888888888888,
                            "#fdca26"
                          ],
                          [
                            1,
                            "#f0f921"
                          ]
                        ],
                        "type": "heatmap"
                      }
                    ],
                    "histogram": [
                      {
                        "marker": {
                          "pattern": {
                            "fillmode": "overlay",
                            "size": 10,
                            "solidity": 0.2
                          }
                        },
                        "type": "histogram"
                      }
                    ],
                    "histogram2d": [
                      {
                        "colorbar": {
                          "outlinewidth": 0,
                          "ticks": ""
                        },
                        "colorscale": [
                          [
                            0,
                            "#0d0887"
                          ],
                          [
                            0.1111111111111111,
                            "#46039f"
                          ],
                          [
                            0.2222222222222222,
                            "#7201a8"
                          ],
                          [
                            0.3333333333333333,
                            "#9c179e"
                          ],
                          [
                            0.4444444444444444,
                            "#bd3786"
                          ],
                          [
                            0.5555555555555556,
                            "#d8576b"
                          ],
                          [
                            0.6666666666666666,
                            "#ed7953"
                          ],
                          [
                            0.7777777777777778,
                            "#fb9f3a"
                          ],
                          [
                            0.8888888888888888,
                            "#fdca26"
                          ],
                          [
                            1,
                            "#f0f921"
                          ]
                        ],
                        "type": "histogram2d"
                      }
                    ],
                    "histogram2dcontour": [
                      {
                        "colorbar": {
                          "outlinewidth": 0,
                          "ticks": ""
                        },
                        "colorscale": [
                          [
                            0,
                            "#0d0887"
                          ],
                          [
                            0.1111111111111111,
                            "#46039f"
                          ],
                          [
                            0.2222222222222222,
                            "#7201a8"
                          ],
                          [
                            0.3333333333333333,
                            "#9c179e"
                          ],
                          [
                            0.4444444444444444,
                            "#bd3786"
                          ],
                          [
                            0.5555555555555556,
                            "#d8576b"
                          ],
                          [
                            0.6666666666666666,
                            "#ed7953"
                          ],
                          [
                            0.7777777777777778,
                            "#fb9f3a"
                          ],
                          [
                            0.8888888888888888,
                            "#fdca26"
                          ],
                          [
                            1,
                            "#f0f921"
                          ]
                        ],
                        "type": "histogram2dcontour"
                      }
                    ],
                    "mesh3d": [
                      {
                        "colorbar": {
                          "outlinewidth": 0,
                          "ticks": ""
                        },
                        "type": "mesh3d"
                      }
                    ],
                    "parcoords": [
                      {
                        "line": {
                          "colorbar": {
                            "outlinewidth": 0,
                            "ticks": ""
                          }
                        },
                        "type": "parcoords"
                      }
                    ],
                    "pie": [
                      {
                        "automargin": true,
                        "type": "pie"
                      }
                    ],
                    "scatter": [
                      {
                        "fillpattern": {
                          "fillmode": "overlay",
                          "size": 10,
                          "solidity": 0.2
                        },
                        "type": "scatter"
                      }
                    ],
                    "scatter3d": [
                      {
                        "line": {
                          "colorbar": {
                            "outlinewidth": 0,
                            "ticks": ""
                          }
                        },
                        "marker": {
                          "colorbar": {
                            "outlinewidth": 0,
                            "ticks": ""
                          }
                        },
                        "type": "scatter3d"
                      }
                    ],
                    "scattercarpet": [
                      {
                        "marker": {
                          "colorbar": {
                            "outlinewidth": 0,
                            "ticks": ""
                          }
                        },
                        "type": "scattercarpet"
                      }
                    ],
                    "scattergeo": [
                      {
                        "marker": {
                          "colorbar": {
                            "outlinewidth": 0,
                            "ticks": ""
                          }
                        },
                        "type": "scattergeo"
                      }
                    ],
                    "scattergl": [
                      {
                        "marker": {
                          "colorbar": {
                            "outlinewidth": 0,
                            "ticks": ""
                          }
                        },
                        "type": "scattergl"
                      }
                    ],
                    "scattermap": [
                      {
                        "marker": {
                          "colorbar": {
                            "outlinewidth": 0,
                            "ticks": ""
                          }
                        },
                        "type": "scattermap"
                      }
                    ],
                    "scattermapbox": [
                      {
                        "marker": {
                          "colorbar": {
                            "outlinewidth": 0,
                            "ticks": ""
                          }
                        },
                        "type": "scattermapbox"
                      }
                    ],
                    "scatterpolar": [
                      {
                        "marker": {
                          "colorbar": {
                            "outlinewidth": 0,
                            "ticks": ""
                          }
                        },
                        "type": "scatterpolar"
                      }
                    ],
                    "scatterpolargl": [
                      {
                        "marker": {
                          "colorbar": {
                            "outlinewidth": 0,
                            "ticks": ""
                          }
                        },
                        "type": "scatterpolargl"
                      }
                    ],
                    "scatterternary": [
                      {
                        "marker": {
                          "colorbar": {
                            "outlinewidth": 0,
                            "ticks": ""
                          }
                        },
                        "type": "scatterternary"
                      }
                    ],
                    "surface": [
                      {
                        "colorbar": {
                          "outlinewidth": 0,
                          "ticks": ""
                        },
                        "colorscale": [
                          [
                            0,
                            "#0d0887"
                          ],
                          [
                            0.1111111111111111,
                            "#46039f"
                          ],
                          [
                            0.2222222222222222,
                            "#7201a8"
                          ],
                          [
                            0.3333333333333333,
                            "#9c179e"
                          ],
                          [
                            0.4444444444444444,
                            "#bd3786"
                          ],
                          [
                            0.5555555555555556,
                            "#d8576b"
                          ],
                          [
                            0.6666666666666666,
                            "#ed7953"
                          ],
                          [
                            0.7777777777777778,
                            "#fb9f3a"
                          ],
                          [
                            0.8888888888888888,
                            "#fdca26"
                          ],
                          [
                            1,
                            "#f0f921"
                          ]
                        ],
                        "type": "surface"
                      }
                    ],
                    "table": [
                      {
                        "cells": {
                          "fill": {
                            "color": "#EBF0F8"
                          },
                          "line": {
                            "color": "white"
                          }
                        },
                        "header": {
                          "fill": {
                            "color": "#C8D4E3"
                          },
                          "line": {
                            "color": "white"
                          }
                        },
                        "type": "table"
                      }
                    ]
                  },
                  "layout": {
                    "annotationdefaults": {
                      "arrowcolor": "#2a3f5f",
                      "arrowhead": 0,
                      "arrowwidth": 1
                    },
                    "autotypenumbers": "strict",
                    "coloraxis": {
                      "colorbar": {
                        "outlinewidth": 0,
                        "ticks": ""
                      }
                    },
                    "colorscale": {
                      "diverging": [
                        [
                          0,
                          "#8e0152"
                        ],
                        [
                          0.1,
                          "#c51b7d"
                        ],
                        [
                          0.2,
                          "#de77ae"
                        ],
                        [
                          0.3,
                          "#f1b6da"
                        ],
                        [
                          0.4,
                          "#fde0ef"
                        ],
                        [
                          0.5,
                          "#f7f7f7"
                        ],
                        [
                          0.6,
                          "#e6f5d0"
                        ],
                        [
                          0.7,
                          "#b8e186"
                        ],
                        [
                          0.8,
                          "#7fbc41"
                        ],
                        [
                          0.9,
                          "#4d9221"
                        ],
                        [
                          1,
                          "#276419"
                        ]
                      ],
                      "sequential": [
                        [
                          0,
                          "#0d0887"
                        ],
                        [
                          0.1111111111111111,
                          "#46039f"
                        ],
                        [
                          0.2222222222222222,
                          "#7201a8"
                        ],
                        [
                          0.3333333333333333,
                          "#9c179e"
                        ],
                        [
                          0.4444444444444444,
                          "#bd3786"
                        ],
                        [
                          0.5555555555555556,
                          "#d8576b"
                        ],
                        [
                          0.6666666666666666,
                          "#ed7953"
                        ],
                        [
                          0.7777777777777778,
                          "#fb9f3a"
                        ],
                        [
                          0.8888888888888888,
                          "#fdca26"
                        ],
                        [
                          1,
                          "#f0f921"
                        ]
                      ],
                      "sequentialminus": [
                        [
                          0,
                          "#0d0887"
                        ],
                        [
                          0.1111111111111111,
                          "#46039f"
                        ],
                        [
                          0.2222222222222222,
                          "#7201a8"
                        ],
                        [
                          0.3333333333333333,
                          "#9c179e"
                        ],
                        [
                          0.4444444444444444,
                          "#bd3786"
                        ],
                        [
                          0.5555555555555556,
                          "#d8576b"
                        ],
                        [
                          0.6666666666666666,
                          "#ed7953"
                        ],
                        [
                          0.7777777777777778,
                          "#fb9f3a"
                        ],
                        [
                          0.8888888888888888,
                          "#fdca26"
                        ],
                        [
                          1,
                          "#f0f921"
                        ]
                      ]
                    },
                    "colorway": [
                      "#636efa",
                      "#EF553B",
                      "#00cc96",
                      "#ab63fa",
                      "#FFA15A",
                      "#19d3f3",
                      "#FF6692",
                      "#B6E880",
                      "#FF97FF",
                      "#FECB52"
                    ],
                    "font": {
                      "color": "#2a3f5f"
                    },
                    "geo": {
                      "bgcolor": "white",
                      "lakecolor": "white",
                      "landcolor": "#E5ECF6",
                      "showlakes": true,
                      "showland": true,
                      "subunitcolor": "white"
                    },
                    "hoverlabel": {
                      "align": "left"
                    },
                    "hovermode": "closest",
                    "mapbox": {
                      "style": "light"
                    },
                    "paper_bgcolor": "white",
                    "plot_bgcolor": "#E5ECF6",
                    "polar": {
                      "angularaxis": {
                        "gridcolor": "white",
                        "linecolor": "white",
                        "ticks": ""
                      },
                      "bgcolor": "#E5ECF6",
                      "radialaxis": {
                        "gridcolor": "white",
                        "linecolor": "white",
                        "ticks": ""
                      }
                    },
                    "scene": {
                      "xaxis": {
                        "backgroundcolor": "#E5ECF6",
                        "gridcolor": "white",
                        "gridwidth": 2,
                        "linecolor": "white",
                        "showbackground": true,
                        "ticks": "",
                        "zerolinecolor": "white"
                      },
                      "yaxis": {
                        "backgroundcolor": "#E5ECF6",
                        "gridcolor": "white",
                        "gridwidth": 2,
                        "linecolor": "white",
                        "showbackground": true,
                        "ticks": "",
                        "zerolinecolor": "white"
                      },
                      "zaxis": {
                        "backgroundcolor": "#E5ECF6",
                        "gridcolor": "white",
                        "gridwidth": 2,
                        "linecolor": "white",
                        "showbackground": true,
                        "ticks": "",
                        "zerolinecolor": "white"
                      }
                    },
                    "shapedefaults": {
                      "line": {
                        "color": "#2a3f5f"
                      }
                    },
                    "ternary": {
                      "aaxis": {
                        "gridcolor": "white",
                        "linecolor": "white",
                        "ticks": ""
                      },
                      "baxis": {
                        "gridcolor": "white",
                        "linecolor": "white",
                        "ticks": ""
                      },
                      "bgcolor": "#E5ECF6",
                      "caxis": {
                        "gridcolor": "white",
                        "linecolor": "white",
                        "ticks": ""
                      }
                    },
                    "title": {
                      "x": 0.05
                    },
                    "xaxis": {
                      "automargin": true,
                      "gridcolor": "white",
                      "linecolor": "white",
                      "ticks": "",
                      "title": {
                        "standoff": 15
                      },
                      "zerolinecolor": "white",
                      "zerolinewidth": 2
                    },
                    "yaxis": {
                      "automargin": true,
                      "gridcolor": "white",
                      "linecolor": "white",
                      "ticks": "",
                      "title": {
                        "standoff": 15
                      },
                      "zerolinecolor": "white",
                      "zerolinewidth": 2
                    }
                  }
                },
                "title": {
                  "text": "매출액, 판매량 분포 시각화"
                },
                "width": 900,
                "xaxis": {
                  "anchor": "y",
                  "domain": [
                    0,
                    0.425
                  ],
                  "showticklabels": false
                },
                "xaxis2": {
                  "anchor": "y2",
                  "domain": [
                    0.575,
                    1
                  ],
                  "showticklabels": false
                },
                "yaxis": {
                  "anchor": "x",
                  "domain": [
                    0,
                    1
                  ],
                  "title": {
                    "text": "매출액"
                  }
                },
                "yaxis2": {
                  "anchor": "x2",
                  "domain": [
                    0,
                    1
                  ],
                  "title": {
                    "text": "판매량"
                  }
                }
              }
            }
          },
          "metadata": {},
          "output_type": "display_data"
        }
      ],
      "source": [
        "# 매출액(revenue)와 판매량(quantity) 분포 시각화 (바이올린 플롯, 1x2 서브플롯)\n",
        "from plotly.subplots import make_subplots\n",
        "import plotly.graph_objects as go\n",
        "\n",
        "fig = make_subplots(\n",
        "    rows=1, cols=2,\n",
        "    subplot_titles=(\"매출액 분포\", \"판매량 분포\"),\n",
        "    horizontal_spacing=0.15\n",
        ")\n",
        "\n",
        "# 매출액 바이올린 플롯\n",
        "fig.add_trace(\n",
        "    go.Violin(\n",
        "        y=df['revenue'],\n",
        "        name='매출액',\n",
        "        box_visible=True,\n",
        "        meanline_visible=True,\n",
        "        line_color='rgba(0,123,255,1)',\n",
        "        fillcolor='rgba(0,123,255,0.4)',\n",
        "        marker=dict(color='rgba(0,123,255,0.7)'),\n",
        "        points='outliers',\n",
        "        showlegend=False\n",
        "    ),\n",
        "    row=1, col=1\n",
        ")\n",
        "\n",
        "# 판매량 바이올린 플롯\n",
        "fig.add_trace(\n",
        "    go.Violin(\n",
        "        y=df['quantity'],\n",
        "        name='판매량',\n",
        "        box_visible=True,\n",
        "        meanline_visible=True,\n",
        "        line_color='rgba(40,167,69,1)',\n",
        "        fillcolor='rgba(40,167,69,0.4)',\n",
        "        marker=dict(color='rgba(40,167,69,0.7)'),\n",
        "        points='outliers',\n",
        "        showlegend=False\n",
        "    ),\n",
        "    row=1, col=2\n",
        ")\n",
        "\n",
        "fig.update_layout(\n",
        "    title_text=\"매출액, 판매량 분포 시각화\",\n",
        "    height=500,\n",
        "    width=900\n",
        ")\n",
        "\n",
        "fig.update_yaxes(title_text=\"매출액\", row=1, col=1)\n",
        "fig.update_yaxes(title_text=\"판매량\", row=1, col=2)\n",
        "fig.update_xaxes(showticklabels=False, row=1, col=1)\n",
        "fig.update_xaxes(showticklabels=False, row=1, col=2)\n",
        "\n",
        "\n",
        "fig.show()\n"
      ]
    },
    {
      "cell_type": "markdown",
      "metadata": {},
      "source": [
        "개별 통계량 계산\n"
      ]
    },
    {
      "cell_type": "markdown",
      "metadata": {},
      "source": [
        "| 통계량         | 메서드                                              |\n",
        "|:--------------|:---------------------------------------------------|\n",
        "| 평균          | df['revenue'].mean()                               |\n",
        "| 중앙값        | df['revenue'].median()                             |\n",
        "| 최빈값        | df['revenue'].mode().iloc[0]                       |\n",
        "| 분산          | df['revenue'].var()                                |\n",
        "| 표준편차      | df['revenue'].std()                                |\n",
        "| 최솟값        | df['revenue'].min()                                |\n",
        "| 최댓값        | df['revenue'].max()                                |\n",
        "| 범위          | df['revenue'].max() - df['revenue'].min()          |\n",
        "| IQR(사분위범위)| df['revenue'].quantile(0.75) - df['revenue'].quantile(0.25) |\n",
        "| 왜도          | stats.skew(df['revenue'])                          |\n",
        "| 첨도          | stats.kurtosis(df['revenue'])                      |\n",
        "\n"
      ]
    },
    {
      "cell_type": "code",
      "execution_count": 41,
      "metadata": {},
      "outputs": [
        {
          "data": {
            "text/plain": [
              "417.0987"
            ]
          },
          "execution_count": 41,
          "metadata": {},
          "output_type": "execute_result"
        }
      ],
      "source": [
        "# 매출액 평균: {df['revenue'].mean():.2f}\n",
        "float(df['revenue'].mean())"
      ]
    },
    {
      "cell_type": "code",
      "execution_count": 42,
      "metadata": {},
      "outputs": [
        {
          "data": {
            "text/plain": [
              "415.58500000000004"
            ]
          },
          "execution_count": 42,
          "metadata": {},
          "output_type": "execute_result"
        }
      ],
      "source": [
        "# 매출액 중앙값: {df['revenue'].median():.2f}\n",
        "float(df['revenue'].median())"
      ]
    },
    {
      "cell_type": "code",
      "execution_count": 44,
      "metadata": {},
      "outputs": [
        {
          "data": {
            "text/plain": [
              "90.22"
            ]
          },
          "execution_count": 44,
          "metadata": {},
          "output_type": "execute_result"
        }
      ],
      "source": [
        "# 매출액 최빈값: {df['revenue'].mode().iloc[0] if not df['revenue'].mode().empty else 'N/A'} # 최빈값이 여러 개일 수 있음\n",
        "float(df['revenue'].mode().iloc[0]) if not df['revenue'].mode().empty else 'N/A'"
      ]
    },
    {
      "cell_type": "markdown",
      "metadata": {},
      "source": [
        "#### 분산 개념\n",
        "> 분산(Variance)은 데이터가 평균으로부터 얼마나 퍼져있는지를 나타내는 지표입니다.\n",
        "> \n",
        "> 각 데이터 포인트와 평균의 차이를 제곱한 값의 평균으로 계산됩니다.\n",
        "> \n",
        "> 공식: σ² = Σ(xᵢ - μ)² / N\n",
        ">   - σ²: 분산\n",
        ">   - xᵢ: 개별 데이터 포인트\n",
        ">   - μ: 평균\n",
        ">   - N: 데이터 포인트 수\n",
        "> \n",
        "> 값이 클수록 데이터가 평균에서 멀리 퍼져있음을 의미합니다.\n",
        "> \n",
        "> 제곱 단위이므로 해석이 어려울 수 있습니다."
      ]
    },
    {
      "cell_type": "code",
      "execution_count": null,
      "metadata": {},
      "outputs": [
        {
          "data": {
            "text/plain": [
              "31434.450340717165"
            ]
          },
          "metadata": {},
          "output_type": "display_data"
        }
      ],
      "source": [
        "# 매출액 분산: {df['revenue'].var():.2f}\n",
        "float(df['revenue'].var())"
      ]
    },
    {
      "cell_type": "markdown",
      "metadata": {},
      "source": [
        "#### 표준편차 개념\n",
        "> 표준편차(Standard Deviation)는 분산의 제곱근으로, 데이터의 분산 정도를 원래 단위로 표현한 것입니다.\n",
        "> \n",
        "> 공식: σ = √(Σ(xᵢ - μ)² / N)\n",
        ">   - σ: 표준편차\n",
        ">   - xᵢ: 개별 데이터 포인트\n",
        ">   - μ: 평균\n",
        ">   - N: 데이터 포인트 수\n",
        "> \n",
        "> 분산보다 직관적으로 해석하기 쉬우며, 같은 단위를 사용합니다.\n",
        "> \n",
        "> 작을수록 데이터가 평균에 모여있고, 클수록 퍼져있음을 의미합니다."
      ]
    },
    {
      "cell_type": "code",
      "execution_count": 47,
      "metadata": {},
      "outputs": [
        {
          "data": {
            "text/plain": [
              "177.29763207870872"
            ]
          },
          "execution_count": 47,
          "metadata": {},
          "output_type": "execute_result"
        }
      ],
      "source": [
        "# 매출액 표준편차: {df['revenue'].std():.2f}\n",
        "float(df['revenue'].std())"
      ]
    },
    {
      "cell_type": "code",
      "execution_count": 51,
      "metadata": {},
      "outputs": [
        {
          "data": {
            "text/plain": [
              "900.81"
            ]
          },
          "execution_count": 51,
          "metadata": {},
          "output_type": "execute_result"
        }
      ],
      "source": [
        "# 매출액 범위: {df['revenue'].max() - df['revenue'].min():.2f}\n",
        "float(df['revenue'].max() - df['revenue'].min())"
      ]
    },
    {
      "cell_type": "markdown",
      "metadata": {},
      "source": [
        "#### 왜도(Skewness) 개념\n",
        "> 왜도는 데이터 분포의 비대칭 정도를 나타내는 통계량입니다.\n",
        "> \n",
        "> 양의 왜도: 오른쪽 꼬리가 길어지고 평균 > 중앙값 (오른쪽으로 치우침)\n",
        "> 음의 왜도: 왼쪽 꼬리가 길어지고 평균 < 중앙값 (왼쪽으로 치우침)\n",
        "> 0에 가까울수록 대칭에 가까운 분포\n",
        "> \n",
        "> 일반적으로 절대값이 1보다 크면 심한 비대칭으로 간주합니다.\n",
        "> \n",
        "> 수식: γ₁ = [Σ(xᵢ - μ)³/N] / σ³\n",
        ">   - γ₁: 왜도\n",
        ">   - xᵢ: 개별 데이터 포인트\n",
        ">   - μ: 평균\n",
        ">   - σ: 표준편차\n",
        ">   - N: 데이터 포인트 수"
      ]
    },
    {
      "cell_type": "markdown",
      "metadata": {},
      "source": [
        "\n",
        "#### 첨도(Kurtosis) 개념\n",
        "> 첨도는 분포의 꼬리 두께와 뾰족함을 나타내는 통계량입니다.\n",
        "> \n",
        "> 양의 첨도: 정규분포보다 뾰족하고 꼬리가 두꺼움 (극단값 가능성 높음)\n",
        "> 음의 첨도: 정규분포보다 평평하고 꼬리가 얇음\n",
        "> 정규분포 첨도: 0 (Fisher 정의 기준)\n",
        "> \n",
        "> 수식: γ₂ = [Σ(xᵢ - μ)⁴/N] / σ⁴ - 3\n",
        ">   - γ₂: 첨도\n",
        ">   - xᵢ: 개별 데이터 포인트\n",
        ">   - μ: 평균\n",
        ">   - σ: 표준편차\n",
        ">   - N: 데이터 포인트 수\n",
        "> \n",
        "> 리스크 분석에서 유용하게 사용되며, 극단값 가능성을 평가하는 지표입니다.\n"
      ]
    },
    {
      "cell_type": "code",
      "execution_count": null,
      "metadata": {},
      "outputs": [
        {
          "name": "stdout",
          "output_type": "stream",
          "text": [
            "왜도(Skewness): 0.24\n",
            "첨도(Kurtosis): -0.62\n"
          ]
        }
      ],
      "source": [
        "from scipy import stats\n",
        "skewness = stats.skew(df['revenue'])\n",
        "kurtosis = stats.kurtosis(df['revenue']) # Fisher's definition (정규분포 = 0)\n",
        "\n",
        "print(f\"왜도(Skewness): {skewness:.2f}\")\n",
        "print(f\"첨도(Kurtosis): {kurtosis:.2f}\")"
      ]
    },
    {
      "cell_type": "markdown",
      "metadata": {},
      "source": [
        "#### IQR(사분위 범위) 개념\n",
        "> IQR(Interquartile Range)은 데이터의 중간 50%가 분포하는 범위를 나타냅니다.\n",
        "> \n",
        "> 제1사분위수(Q₁, 25% 위치)와 제3사분위수(Q₃, 75% 위치)의 차이로 계산됩니다.\n",
        "> \n",
        "> IQR = Q₃ - Q₁\n",
        "> \n",
        "> 이상치 탐지에 유용하게 사용되며, 일반적으로 `Q₁ - 1.5 × IQR` 미만 또는 `Q₃ + 1.5 × IQR` 초과인 값을 이상치로 판단합니다.\n",
        "> \n",
        "> 데이터의 분포가 치우쳐져 있을 때 유용한 통계량입니다.\n"
      ]
    },
    {
      "cell_type": "code",
      "execution_count": 63,
      "metadata": {},
      "outputs": [
        {
          "data": {
            "text/html": [
              "<div>\n",
              "<style scoped>\n",
              "    .dataframe tbody tr th:only-of-type {\n",
              "        vertical-align: middle;\n",
              "    }\n",
              "\n",
              "    .dataframe tbody tr th {\n",
              "        vertical-align: top;\n",
              "    }\n",
              "\n",
              "    .dataframe thead th {\n",
              "        text-align: right;\n",
              "    }\n",
              "</style>\n",
              "<table border=\"1\" class=\"dataframe\">\n",
              "  <thead>\n",
              "    <tr style=\"text-align: right;\">\n",
              "      <th></th>\n",
              "      <th>Id</th>\n",
              "      <th>MSSubClass</th>\n",
              "      <th>MSZoning</th>\n",
              "      <th>LotFrontage</th>\n",
              "      <th>LotArea</th>\n",
              "      <th>Street</th>\n",
              "      <th>Alley</th>\n",
              "      <th>LotShape</th>\n",
              "      <th>LandContour</th>\n",
              "      <th>Utilities</th>\n",
              "      <th>...</th>\n",
              "      <th>PoolArea</th>\n",
              "      <th>PoolQC</th>\n",
              "      <th>Fence</th>\n",
              "      <th>MiscFeature</th>\n",
              "      <th>MiscVal</th>\n",
              "      <th>MoSold</th>\n",
              "      <th>YrSold</th>\n",
              "      <th>SaleType</th>\n",
              "      <th>SaleCondition</th>\n",
              "      <th>SalePrice</th>\n",
              "    </tr>\n",
              "  </thead>\n",
              "  <tbody>\n",
              "    <tr>\n",
              "      <th>0</th>\n",
              "      <td>1</td>\n",
              "      <td>60</td>\n",
              "      <td>RL</td>\n",
              "      <td>65.0</td>\n",
              "      <td>8450</td>\n",
              "      <td>Pave</td>\n",
              "      <td>NaN</td>\n",
              "      <td>Reg</td>\n",
              "      <td>Lvl</td>\n",
              "      <td>AllPub</td>\n",
              "      <td>...</td>\n",
              "      <td>0</td>\n",
              "      <td>NaN</td>\n",
              "      <td>NaN</td>\n",
              "      <td>NaN</td>\n",
              "      <td>0</td>\n",
              "      <td>2</td>\n",
              "      <td>2008</td>\n",
              "      <td>WD</td>\n",
              "      <td>Normal</td>\n",
              "      <td>208500</td>\n",
              "    </tr>\n",
              "    <tr>\n",
              "      <th>1</th>\n",
              "      <td>2</td>\n",
              "      <td>20</td>\n",
              "      <td>RL</td>\n",
              "      <td>80.0</td>\n",
              "      <td>9600</td>\n",
              "      <td>Pave</td>\n",
              "      <td>NaN</td>\n",
              "      <td>Reg</td>\n",
              "      <td>Lvl</td>\n",
              "      <td>AllPub</td>\n",
              "      <td>...</td>\n",
              "      <td>0</td>\n",
              "      <td>NaN</td>\n",
              "      <td>NaN</td>\n",
              "      <td>NaN</td>\n",
              "      <td>0</td>\n",
              "      <td>5</td>\n",
              "      <td>2007</td>\n",
              "      <td>WD</td>\n",
              "      <td>Normal</td>\n",
              "      <td>181500</td>\n",
              "    </tr>\n",
              "    <tr>\n",
              "      <th>2</th>\n",
              "      <td>3</td>\n",
              "      <td>60</td>\n",
              "      <td>RL</td>\n",
              "      <td>68.0</td>\n",
              "      <td>11250</td>\n",
              "      <td>Pave</td>\n",
              "      <td>NaN</td>\n",
              "      <td>IR1</td>\n",
              "      <td>Lvl</td>\n",
              "      <td>AllPub</td>\n",
              "      <td>...</td>\n",
              "      <td>0</td>\n",
              "      <td>NaN</td>\n",
              "      <td>NaN</td>\n",
              "      <td>NaN</td>\n",
              "      <td>0</td>\n",
              "      <td>9</td>\n",
              "      <td>2008</td>\n",
              "      <td>WD</td>\n",
              "      <td>Normal</td>\n",
              "      <td>223500</td>\n",
              "    </tr>\n",
              "    <tr>\n",
              "      <th>3</th>\n",
              "      <td>4</td>\n",
              "      <td>70</td>\n",
              "      <td>RL</td>\n",
              "      <td>60.0</td>\n",
              "      <td>9550</td>\n",
              "      <td>Pave</td>\n",
              "      <td>NaN</td>\n",
              "      <td>IR1</td>\n",
              "      <td>Lvl</td>\n",
              "      <td>AllPub</td>\n",
              "      <td>...</td>\n",
              "      <td>0</td>\n",
              "      <td>NaN</td>\n",
              "      <td>NaN</td>\n",
              "      <td>NaN</td>\n",
              "      <td>0</td>\n",
              "      <td>2</td>\n",
              "      <td>2006</td>\n",
              "      <td>WD</td>\n",
              "      <td>Abnorml</td>\n",
              "      <td>140000</td>\n",
              "    </tr>\n",
              "    <tr>\n",
              "      <th>4</th>\n",
              "      <td>5</td>\n",
              "      <td>60</td>\n",
              "      <td>RL</td>\n",
              "      <td>84.0</td>\n",
              "      <td>14260</td>\n",
              "      <td>Pave</td>\n",
              "      <td>NaN</td>\n",
              "      <td>IR1</td>\n",
              "      <td>Lvl</td>\n",
              "      <td>AllPub</td>\n",
              "      <td>...</td>\n",
              "      <td>0</td>\n",
              "      <td>NaN</td>\n",
              "      <td>NaN</td>\n",
              "      <td>NaN</td>\n",
              "      <td>0</td>\n",
              "      <td>12</td>\n",
              "      <td>2008</td>\n",
              "      <td>WD</td>\n",
              "      <td>Normal</td>\n",
              "      <td>250000</td>\n",
              "    </tr>\n",
              "  </tbody>\n",
              "</table>\n",
              "<p>5 rows × 81 columns</p>\n",
              "</div>"
            ],
            "text/plain": [
              "   Id  MSSubClass MSZoning  LotFrontage  LotArea Street Alley LotShape  \\\n",
              "0   1          60       RL         65.0     8450   Pave   NaN      Reg   \n",
              "1   2          20       RL         80.0     9600   Pave   NaN      Reg   \n",
              "2   3          60       RL         68.0    11250   Pave   NaN      IR1   \n",
              "3   4          70       RL         60.0     9550   Pave   NaN      IR1   \n",
              "4   5          60       RL         84.0    14260   Pave   NaN      IR1   \n",
              "\n",
              "  LandContour Utilities  ... PoolArea PoolQC Fence MiscFeature MiscVal MoSold  \\\n",
              "0         Lvl    AllPub  ...        0    NaN   NaN         NaN       0      2   \n",
              "1         Lvl    AllPub  ...        0    NaN   NaN         NaN       0      5   \n",
              "2         Lvl    AllPub  ...        0    NaN   NaN         NaN       0      9   \n",
              "3         Lvl    AllPub  ...        0    NaN   NaN         NaN       0      2   \n",
              "4         Lvl    AllPub  ...        0    NaN   NaN         NaN       0     12   \n",
              "\n",
              "  YrSold  SaleType  SaleCondition  SalePrice  \n",
              "0   2008        WD         Normal     208500  \n",
              "1   2007        WD         Normal     181500  \n",
              "2   2008        WD         Normal     223500  \n",
              "3   2006        WD        Abnorml     140000  \n",
              "4   2008        WD         Normal     250000  \n",
              "\n",
              "[5 rows x 81 columns]"
            ]
          },
          "execution_count": 63,
          "metadata": {},
          "output_type": "execute_result"
        }
      ],
      "source": [
        "# 샘플 데이터 로드 : 미국 주택 가격 데이터\n",
        "from sklearn.datasets import fetch_openml\n",
        "housing = fetch_openml(name=\"house_prices\", as_frame=True)\n",
        "df = housing.frame\n",
        "df.head()"
      ]
    },
    {
      "cell_type": "code",
      "execution_count": 65,
      "metadata": {},
      "outputs": [
        {
          "name": "stdout",
          "output_type": "stream",
          "text": [
            "주택가격(SalePrice) 이상치 (IQR rule) 개수: 61\n"
          ]
        }
      ],
      "source": [
        "# 주택가격 데이터의 이상치 간략 확인 (IQR rule)\n",
        "Q1 = df['SalePrice'].quantile(0.25)\n",
        "Q3 = df['SalePrice'].quantile(0.75)\n",
        "IQR = Q3 - Q1\n",
        "lower_bound = Q1 - 1.5 * IQR\n",
        "upper_bound = Q3 + 1.5 * IQR\n",
        "outliers = df[(df['SalePrice'] < lower_bound) | (df['SalePrice'] > upper_bound)]\n",
        "print(f\"주택가격(SalePrice) 이상치 (IQR rule) 개수: {len(outliers)}\")"
      ]
    },
    {
      "cell_type": "code",
      "execution_count": 67,
      "metadata": {},
      "outputs": [
        {
          "data": {
            "application/vnd.plotly.v1+json": {
              "config": {
                "plotlyServerURL": "https://plot.ly"
              },
              "data": [
                {
                  "alignmentgroup": "True",
                  "boxpoints": "outliers",
                  "hovertemplate": "주택 가격($)=%{x}<extra></extra>",
                  "legendgroup": "",
                  "line": {
                    "color": "darkblue"
                  },
                  "marker": {
                    "color": "red",
                    "opacity": 0.7,
                    "size": 5
                  },
                  "name": "",
                  "notched": false,
                  "offsetgroup": "",
                  "orientation": "h",
                  "showlegend": false,
                  "type": "box",
                  "x": {
                    "bdata": "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",
                    "dtype": "i4"
                  },
                  "x0": " ",
                  "xaxis": "x",
                  "y0": " ",
                  "yaxis": "y"
                }
              ],
              "layout": {
                "boxmode": "group",
                "legend": {
                  "tracegroupgap": 0
                },
                "plot_bgcolor": "white",
                "showlegend": false,
                "template": {
                  "data": {
                    "bar": [
                      {
                        "error_x": {
                          "color": "#2a3f5f"
                        },
                        "error_y": {
                          "color": "#2a3f5f"
                        },
                        "marker": {
                          "line": {
                            "color": "#E5ECF6",
                            "width": 0.5
                          },
                          "pattern": {
                            "fillmode": "overlay",
                            "size": 10,
                            "solidity": 0.2
                          }
                        },
                        "type": "bar"
                      }
                    ],
                    "barpolar": [
                      {
                        "marker": {
                          "line": {
                            "color": "#E5ECF6",
                            "width": 0.5
                          },
                          "pattern": {
                            "fillmode": "overlay",
                            "size": 10,
                            "solidity": 0.2
                          }
                        },
                        "type": "barpolar"
                      }
                    ],
                    "carpet": [
                      {
                        "aaxis": {
                          "endlinecolor": "#2a3f5f",
                          "gridcolor": "white",
                          "linecolor": "white",
                          "minorgridcolor": "white",
                          "startlinecolor": "#2a3f5f"
                        },
                        "baxis": {
                          "endlinecolor": "#2a3f5f",
                          "gridcolor": "white",
                          "linecolor": "white",
                          "minorgridcolor": "white",
                          "startlinecolor": "#2a3f5f"
                        },
                        "type": "carpet"
                      }
                    ],
                    "choropleth": [
                      {
                        "colorbar": {
                          "outlinewidth": 0,
                          "ticks": ""
                        },
                        "type": "choropleth"
                      }
                    ],
                    "contour": [
                      {
                        "colorbar": {
                          "outlinewidth": 0,
                          "ticks": ""
                        },
                        "colorscale": [
                          [
                            0,
                            "#0d0887"
                          ],
                          [
                            0.1111111111111111,
                            "#46039f"
                          ],
                          [
                            0.2222222222222222,
                            "#7201a8"
                          ],
                          [
                            0.3333333333333333,
                            "#9c179e"
                          ],
                          [
                            0.4444444444444444,
                            "#bd3786"
                          ],
                          [
                            0.5555555555555556,
                            "#d8576b"
                          ],
                          [
                            0.6666666666666666,
                            "#ed7953"
                          ],
                          [
                            0.7777777777777778,
                            "#fb9f3a"
                          ],
                          [
                            0.8888888888888888,
                            "#fdca26"
                          ],
                          [
                            1,
                            "#f0f921"
                          ]
                        ],
                        "type": "contour"
                      }
                    ],
                    "contourcarpet": [
                      {
                        "colorbar": {
                          "outlinewidth": 0,
                          "ticks": ""
                        },
                        "type": "contourcarpet"
                      }
                    ],
                    "heatmap": [
                      {
                        "colorbar": {
                          "outlinewidth": 0,
                          "ticks": ""
                        },
                        "colorscale": [
                          [
                            0,
                            "#0d0887"
                          ],
                          [
                            0.1111111111111111,
                            "#46039f"
                          ],
                          [
                            0.2222222222222222,
                            "#7201a8"
                          ],
                          [
                            0.3333333333333333,
                            "#9c179e"
                          ],
                          [
                            0.4444444444444444,
                            "#bd3786"
                          ],
                          [
                            0.5555555555555556,
                            "#d8576b"
                          ],
                          [
                            0.6666666666666666,
                            "#ed7953"
                          ],
                          [
                            0.7777777777777778,
                            "#fb9f3a"
                          ],
                          [
                            0.8888888888888888,
                            "#fdca26"
                          ],
                          [
                            1,
                            "#f0f921"
                          ]
                        ],
                        "type": "heatmap"
                      }
                    ],
                    "histogram": [
                      {
                        "marker": {
                          "pattern": {
                            "fillmode": "overlay",
                            "size": 10,
                            "solidity": 0.2
                          }
                        },
                        "type": "histogram"
                      }
                    ],
                    "histogram2d": [
                      {
                        "colorbar": {
                          "outlinewidth": 0,
                          "ticks": ""
                        },
                        "colorscale": [
                          [
                            0,
                            "#0d0887"
                          ],
                          [
                            0.1111111111111111,
                            "#46039f"
                          ],
                          [
                            0.2222222222222222,
                            "#7201a8"
                          ],
                          [
                            0.3333333333333333,
                            "#9c179e"
                          ],
                          [
                            0.4444444444444444,
                            "#bd3786"
                          ],
                          [
                            0.5555555555555556,
                            "#d8576b"
                          ],
                          [
                            0.6666666666666666,
                            "#ed7953"
                          ],
                          [
                            0.7777777777777778,
                            "#fb9f3a"
                          ],
                          [
                            0.8888888888888888,
                            "#fdca26"
                          ],
                          [
                            1,
                            "#f0f921"
                          ]
                        ],
                        "type": "histogram2d"
                      }
                    ],
                    "histogram2dcontour": [
                      {
                        "colorbar": {
                          "outlinewidth": 0,
                          "ticks": ""
                        },
                        "colorscale": [
                          [
                            0,
                            "#0d0887"
                          ],
                          [
                            0.1111111111111111,
                            "#46039f"
                          ],
                          [
                            0.2222222222222222,
                            "#7201a8"
                          ],
                          [
                            0.3333333333333333,
                            "#9c179e"
                          ],
                          [
                            0.4444444444444444,
                            "#bd3786"
                          ],
                          [
                            0.5555555555555556,
                            "#d8576b"
                          ],
                          [
                            0.6666666666666666,
                            "#ed7953"
                          ],
                          [
                            0.7777777777777778,
                            "#fb9f3a"
                          ],
                          [
                            0.8888888888888888,
                            "#fdca26"
                          ],
                          [
                            1,
                            "#f0f921"
                          ]
                        ],
                        "type": "histogram2dcontour"
                      }
                    ],
                    "mesh3d": [
                      {
                        "colorbar": {
                          "outlinewidth": 0,
                          "ticks": ""
                        },
                        "type": "mesh3d"
                      }
                    ],
                    "parcoords": [
                      {
                        "line": {
                          "colorbar": {
                            "outlinewidth": 0,
                            "ticks": ""
                          }
                        },
                        "type": "parcoords"
                      }
                    ],
                    "pie": [
                      {
                        "automargin": true,
                        "type": "pie"
                      }
                    ],
                    "scatter": [
                      {
                        "fillpattern": {
                          "fillmode": "overlay",
                          "size": 10,
                          "solidity": 0.2
                        },
                        "type": "scatter"
                      }
                    ],
                    "scatter3d": [
                      {
                        "line": {
                          "colorbar": {
                            "outlinewidth": 0,
                            "ticks": ""
                          }
                        },
                        "marker": {
                          "colorbar": {
                            "outlinewidth": 0,
                            "ticks": ""
                          }
                        },
                        "type": "scatter3d"
                      }
                    ],
                    "scattercarpet": [
                      {
                        "marker": {
                          "colorbar": {
                            "outlinewidth": 0,
                            "ticks": ""
                          }
                        },
                        "type": "scattercarpet"
                      }
                    ],
                    "scattergeo": [
                      {
                        "marker": {
                          "colorbar": {
                            "outlinewidth": 0,
                            "ticks": ""
                          }
                        },
                        "type": "scattergeo"
                      }
                    ],
                    "scattergl": [
                      {
                        "marker": {
                          "colorbar": {
                            "outlinewidth": 0,
                            "ticks": ""
                          }
                        },
                        "type": "scattergl"
                      }
                    ],
                    "scattermap": [
                      {
                        "marker": {
                          "colorbar": {
                            "outlinewidth": 0,
                            "ticks": ""
                          }
                        },
                        "type": "scattermap"
                      }
                    ],
                    "scattermapbox": [
                      {
                        "marker": {
                          "colorbar": {
                            "outlinewidth": 0,
                            "ticks": ""
                          }
                        },
                        "type": "scattermapbox"
                      }
                    ],
                    "scatterpolar": [
                      {
                        "marker": {
                          "colorbar": {
                            "outlinewidth": 0,
                            "ticks": ""
                          }
                        },
                        "type": "scatterpolar"
                      }
                    ],
                    "scatterpolargl": [
                      {
                        "marker": {
                          "colorbar": {
                            "outlinewidth": 0,
                            "ticks": ""
                          }
                        },
                        "type": "scatterpolargl"
                      }
                    ],
                    "scatterternary": [
                      {
                        "marker": {
                          "colorbar": {
                            "outlinewidth": 0,
                            "ticks": ""
                          }
                        },
                        "type": "scatterternary"
                      }
                    ],
                    "surface": [
                      {
                        "colorbar": {
                          "outlinewidth": 0,
                          "ticks": ""
                        },
                        "colorscale": [
                          [
                            0,
                            "#0d0887"
                          ],
                          [
                            0.1111111111111111,
                            "#46039f"
                          ],
                          [
                            0.2222222222222222,
                            "#7201a8"
                          ],
                          [
                            0.3333333333333333,
                            "#9c179e"
                          ],
                          [
                            0.4444444444444444,
                            "#bd3786"
                          ],
                          [
                            0.5555555555555556,
                            "#d8576b"
                          ],
                          [
                            0.6666666666666666,
                            "#ed7953"
                          ],
                          [
                            0.7777777777777778,
                            "#fb9f3a"
                          ],
                          [
                            0.8888888888888888,
                            "#fdca26"
                          ],
                          [
                            1,
                            "#f0f921"
                          ]
                        ],
                        "type": "surface"
                      }
                    ],
                    "table": [
                      {
                        "cells": {
                          "fill": {
                            "color": "#EBF0F8"
                          },
                          "line": {
                            "color": "white"
                          }
                        },
                        "header": {
                          "fill": {
                            "color": "#C8D4E3"
                          },
                          "line": {
                            "color": "white"
                          }
                        },
                        "type": "table"
                      }
                    ]
                  },
                  "layout": {
                    "annotationdefaults": {
                      "arrowcolor": "#2a3f5f",
                      "arrowhead": 0,
                      "arrowwidth": 1
                    },
                    "autotypenumbers": "strict",
                    "coloraxis": {
                      "colorbar": {
                        "outlinewidth": 0,
                        "ticks": ""
                      }
                    },
                    "colorscale": {
                      "diverging": [
                        [
                          0,
                          "#8e0152"
                        ],
                        [
                          0.1,
                          "#c51b7d"
                        ],
                        [
                          0.2,
                          "#de77ae"
                        ],
                        [
                          0.3,
                          "#f1b6da"
                        ],
                        [
                          0.4,
                          "#fde0ef"
                        ],
                        [
                          0.5,
                          "#f7f7f7"
                        ],
                        [
                          0.6,
                          "#e6f5d0"
                        ],
                        [
                          0.7,
                          "#b8e186"
                        ],
                        [
                          0.8,
                          "#7fbc41"
                        ],
                        [
                          0.9,
                          "#4d9221"
                        ],
                        [
                          1,
                          "#276419"
                        ]
                      ],
                      "sequential": [
                        [
                          0,
                          "#0d0887"
                        ],
                        [
                          0.1111111111111111,
                          "#46039f"
                        ],
                        [
                          0.2222222222222222,
                          "#7201a8"
                        ],
                        [
                          0.3333333333333333,
                          "#9c179e"
                        ],
                        [
                          0.4444444444444444,
                          "#bd3786"
                        ],
                        [
                          0.5555555555555556,
                          "#d8576b"
                        ],
                        [
                          0.6666666666666666,
                          "#ed7953"
                        ],
                        [
                          0.7777777777777778,
                          "#fb9f3a"
                        ],
                        [
                          0.8888888888888888,
                          "#fdca26"
                        ],
                        [
                          1,
                          "#f0f921"
                        ]
                      ],
                      "sequentialminus": [
                        [
                          0,
                          "#0d0887"
                        ],
                        [
                          0.1111111111111111,
                          "#46039f"
                        ],
                        [
                          0.2222222222222222,
                          "#7201a8"
                        ],
                        [
                          0.3333333333333333,
                          "#9c179e"
                        ],
                        [
                          0.4444444444444444,
                          "#bd3786"
                        ],
                        [
                          0.5555555555555556,
                          "#d8576b"
                        ],
                        [
                          0.6666666666666666,
                          "#ed7953"
                        ],
                        [
                          0.7777777777777778,
                          "#fb9f3a"
                        ],
                        [
                          0.8888888888888888,
                          "#fdca26"
                        ],
                        [
                          1,
                          "#f0f921"
                        ]
                      ]
                    },
                    "colorway": [
                      "#636efa",
                      "#EF553B",
                      "#00cc96",
                      "#ab63fa",
                      "#FFA15A",
                      "#19d3f3",
                      "#FF6692",
                      "#B6E880",
                      "#FF97FF",
                      "#FECB52"
                    ],
                    "font": {
                      "color": "#2a3f5f"
                    },
                    "geo": {
                      "bgcolor": "white",
                      "lakecolor": "white",
                      "landcolor": "#E5ECF6",
                      "showlakes": true,
                      "showland": true,
                      "subunitcolor": "white"
                    },
                    "hoverlabel": {
                      "align": "left"
                    },
                    "hovermode": "closest",
                    "mapbox": {
                      "style": "light"
                    },
                    "paper_bgcolor": "white",
                    "plot_bgcolor": "#E5ECF6",
                    "polar": {
                      "angularaxis": {
                        "gridcolor": "white",
                        "linecolor": "white",
                        "ticks": ""
                      },
                      "bgcolor": "#E5ECF6",
                      "radialaxis": {
                        "gridcolor": "white",
                        "linecolor": "white",
                        "ticks": ""
                      }
                    },
                    "scene": {
                      "xaxis": {
                        "backgroundcolor": "#E5ECF6",
                        "gridcolor": "white",
                        "gridwidth": 2,
                        "linecolor": "white",
                        "showbackground": true,
                        "ticks": "",
                        "zerolinecolor": "white"
                      },
                      "yaxis": {
                        "backgroundcolor": "#E5ECF6",
                        "gridcolor": "white",
                        "gridwidth": 2,
                        "linecolor": "white",
                        "showbackground": true,
                        "ticks": "",
                        "zerolinecolor": "white"
                      },
                      "zaxis": {
                        "backgroundcolor": "#E5ECF6",
                        "gridcolor": "white",
                        "gridwidth": 2,
                        "linecolor": "white",
                        "showbackground": true,
                        "ticks": "",
                        "zerolinecolor": "white"
                      }
                    },
                    "shapedefaults": {
                      "line": {
                        "color": "#2a3f5f"
                      }
                    },
                    "ternary": {
                      "aaxis": {
                        "gridcolor": "white",
                        "linecolor": "white",
                        "ticks": ""
                      },
                      "baxis": {
                        "gridcolor": "white",
                        "linecolor": "white",
                        "ticks": ""
                      },
                      "bgcolor": "#E5ECF6",
                      "caxis": {
                        "gridcolor": "white",
                        "linecolor": "white",
                        "ticks": ""
                      }
                    },
                    "title": {
                      "x": 0.05
                    },
                    "xaxis": {
                      "automargin": true,
                      "gridcolor": "white",
                      "linecolor": "white",
                      "ticks": "",
                      "title": {
                        "standoff": 15
                      },
                      "zerolinecolor": "white",
                      "zerolinewidth": 2
                    },
                    "yaxis": {
                      "automargin": true,
                      "gridcolor": "white",
                      "linecolor": "white",
                      "ticks": "",
                      "title": {
                        "standoff": 15
                      },
                      "zerolinecolor": "white",
                      "zerolinewidth": 2
                    }
                  }
                },
                "title": {
                  "text": "주택 가격 분포 및 이상치 시각화"
                },
                "xaxis": {
                  "anchor": "y",
                  "domain": [
                    0,
                    1
                  ],
                  "gridcolor": "lightgray",
                  "title": {
                    "text": "주택 가격($)"
                  }
                },
                "yaxis": {
                  "anchor": "x",
                  "domain": [
                    0,
                    1
                  ]
                }
              }
            }
          },
          "metadata": {},
          "output_type": "display_data"
        }
      ],
      "source": [
        "# plotly.express를 사용하여 주택 가격(SalePrice)의 가로 박스플롯 생성\n",
        "fig = px.box(\n",
        "    df,\n",
        "    x='SalePrice',  # y 대신 x를 사용하여 가로 방향으로 변경\n",
        "    title='주택 가격 분포 및 이상치 시각화',\n",
        "    labels={'SalePrice': '주택 가격($)'},\n",
        "    color_discrete_sequence=['royalblue']\n",
        ")\n",
        "\n",
        "# 이상치 포인트 강조 설정\n",
        "fig.update_traces(\n",
        "    boxpoints='outliers',  # 이상치만 표시\n",
        "    marker=dict(\n",
        "        size=5,\n",
        "        color='red',\n",
        "        opacity=0.7\n",
        "    ),\n",
        "    line=dict(color='darkblue')\n",
        ")\n",
        "\n",
        "fig.update_layout(\n",
        "    showlegend=False,\n",
        "    xaxis=dict(  # yaxis 대신 xaxis로 변경\n",
        "        title='주택 가격($)',\n",
        "        gridcolor='lightgray'\n",
        "    ),\n",
        "    plot_bgcolor='white'\n",
        ")\n",
        "\n",
        "fig.show()\n"
      ]
    },
    {
      "cell_type": "markdown",
      "metadata": {},
      "source": [
        "### 변동계수(Coefficient of Variation) 개념\n",
        "> 변동계수(CV)는 표준편차를 평균으로 나눈 값으로, 데이터의 상대적인 변동성을 측정하는 지표입니다.\n",
        "\n",
        "> - 단위가 다른 데이터셋 간의 변동성 비교 가능  \n",
        "> - 백분율로 표현되며, 값이 클수록 상대적 변동성이 큼  \n",
        "> - 평균이 0인 경우 정의되지 않음  \n",
        "\n",
        "> 수식: CV = (σ / μ) × 100%  \n",
        ">   - σ: 표준편차  \n",
        ">   - μ: 평균  \n",
        "\n",
        "> 활용 예시:  \n",
        "> - 주식 수익률의 변동성 측정  \n",
        "> - 제조 공정의 품질 변동성 비교  \n",
        "> - 서로 다른 단위를 가진 데이터셋의 변동성 비교  "
      ]
    },
    {
      "cell_type": "code",
      "execution_count": null,
      "metadata": {},
      "outputs": [],
      "source": [
        "# 맞춤 지표 함수 작성 예시\n",
        "def coefficient_of_variation(data_series):\n",
        "    \"\"\"변동 계수 (CV)를 계산합니다.\"\"\"\n",
        "    mean_val = data_series.mean()\n",
        "    std_val = data_series.std()\n",
        "    if mean_val == 0:\n",
        "        return np.nan # 평균이 0이면 정의되지 않음\n",
        "    return (std_val / mean_val) * 100 # 백분율로 표시\n",
        "\n",
        "print(f\"\\n주택가격(SalePrice) 변동 계수 (CV): {coefficient_of_variation(df['SalePrice']):.2f}%\")"
      ]
    },
    {
      "cell_type": "code",
      "execution_count": null,
      "metadata": {},
      "outputs": [],
      "source": [
        "# 히스토그램과 박스플롯을 한 화면에 표시\n",
        "fig = make_subplots(rows=1, cols=2, subplot_titles=('매출액 분포 (Histogram)', '매출액 분포 (Boxplot)'))\n",
        "\n",
        "# 히스토그램 추가\n",
        "fig.add_trace(\n",
        "    go.Histogram(x=df['revenue'], nbinsx=30, name='매출액'),\n",
        "    row=1, col=1\n",
        ")\n",
        "fig.update_xaxes(title_text=\"매출액\", row=1, col=1)\n",
        "fig.update_yaxes(title_text=\"빈도\", row=1, col=1)\n",
        "\n",
        "# 박스플롯 추가\n",
        "fig.add_trace(\n",
        "    go.Box(y=df['revenue'], name='매출액'),\n",
        "    row=1, col=2\n",
        ")\n",
        "fig.update_yaxes(title_text=\"매출액\", row=1, col=2)\n",
        "\n",
        "fig.update_layout(height=500, width=1000, showlegend=False)\n",
        "fig.show()"
      ]
    },
    {
      "cell_type": "code",
      "execution_count": null,
      "metadata": {},
      "outputs": [
        {
          "data": {
            "text/html": [
              "<div>\n",
              "<style scoped>\n",
              "    .dataframe tbody tr th:only-of-type {\n",
              "        vertical-align: middle;\n",
              "    }\n",
              "\n",
              "    .dataframe tbody tr th {\n",
              "        vertical-align: top;\n",
              "    }\n",
              "\n",
              "    .dataframe thead th {\n",
              "        text-align: right;\n",
              "    }\n",
              "</style>\n",
              "<table border=\"1\" class=\"dataframe\">\n",
              "  <thead>\n",
              "    <tr style=\"text-align: right;\">\n",
              "      <th></th>\n",
              "      <th>Ship Mode</th>\n",
              "      <th>Segment</th>\n",
              "      <th>Country</th>\n",
              "      <th>City</th>\n",
              "      <th>State</th>\n",
              "      <th>Postal Code</th>\n",
              "      <th>Region</th>\n",
              "      <th>Category</th>\n",
              "      <th>Sub-Category</th>\n",
              "      <th>Sales</th>\n",
              "      <th>Quantity</th>\n",
              "      <th>Discount</th>\n",
              "      <th>Profit</th>\n",
              "    </tr>\n",
              "  </thead>\n",
              "  <tbody>\n",
              "    <tr>\n",
              "      <th>0</th>\n",
              "      <td>Second Class</td>\n",
              "      <td>Consumer</td>\n",
              "      <td>United States</td>\n",
              "      <td>Henderson</td>\n",
              "      <td>Kentucky</td>\n",
              "      <td>42420</td>\n",
              "      <td>South</td>\n",
              "      <td>Furniture</td>\n",
              "      <td>Bookcases</td>\n",
              "      <td>261.9600</td>\n",
              "      <td>2</td>\n",
              "      <td>0.00</td>\n",
              "      <td>41.9136</td>\n",
              "    </tr>\n",
              "    <tr>\n",
              "      <th>1</th>\n",
              "      <td>Second Class</td>\n",
              "      <td>Consumer</td>\n",
              "      <td>United States</td>\n",
              "      <td>Henderson</td>\n",
              "      <td>Kentucky</td>\n",
              "      <td>42420</td>\n",
              "      <td>South</td>\n",
              "      <td>Furniture</td>\n",
              "      <td>Chairs</td>\n",
              "      <td>731.9400</td>\n",
              "      <td>3</td>\n",
              "      <td>0.00</td>\n",
              "      <td>219.5820</td>\n",
              "    </tr>\n",
              "    <tr>\n",
              "      <th>2</th>\n",
              "      <td>Second Class</td>\n",
              "      <td>Corporate</td>\n",
              "      <td>United States</td>\n",
              "      <td>Los Angeles</td>\n",
              "      <td>California</td>\n",
              "      <td>90036</td>\n",
              "      <td>West</td>\n",
              "      <td>Office Supplies</td>\n",
              "      <td>Labels</td>\n",
              "      <td>14.6200</td>\n",
              "      <td>2</td>\n",
              "      <td>0.00</td>\n",
              "      <td>6.8714</td>\n",
              "    </tr>\n",
              "    <tr>\n",
              "      <th>3</th>\n",
              "      <td>Standard Class</td>\n",
              "      <td>Consumer</td>\n",
              "      <td>United States</td>\n",
              "      <td>Fort Lauderdale</td>\n",
              "      <td>Florida</td>\n",
              "      <td>33311</td>\n",
              "      <td>South</td>\n",
              "      <td>Furniture</td>\n",
              "      <td>Tables</td>\n",
              "      <td>957.5775</td>\n",
              "      <td>5</td>\n",
              "      <td>0.45</td>\n",
              "      <td>-383.0310</td>\n",
              "    </tr>\n",
              "    <tr>\n",
              "      <th>4</th>\n",
              "      <td>Standard Class</td>\n",
              "      <td>Consumer</td>\n",
              "      <td>United States</td>\n",
              "      <td>Fort Lauderdale</td>\n",
              "      <td>Florida</td>\n",
              "      <td>33311</td>\n",
              "      <td>South</td>\n",
              "      <td>Office Supplies</td>\n",
              "      <td>Storage</td>\n",
              "      <td>22.3680</td>\n",
              "      <td>2</td>\n",
              "      <td>0.20</td>\n",
              "      <td>2.5164</td>\n",
              "    </tr>\n",
              "  </tbody>\n",
              "</table>\n",
              "</div>"
            ],
            "text/plain": [
              "        Ship Mode    Segment        Country             City       State  \\\n",
              "0    Second Class   Consumer  United States        Henderson    Kentucky   \n",
              "1    Second Class   Consumer  United States        Henderson    Kentucky   \n",
              "2    Second Class  Corporate  United States      Los Angeles  California   \n",
              "3  Standard Class   Consumer  United States  Fort Lauderdale     Florida   \n",
              "4  Standard Class   Consumer  United States  Fort Lauderdale     Florida   \n",
              "\n",
              "   Postal Code Region         Category Sub-Category     Sales  Quantity  \\\n",
              "0        42420  South        Furniture    Bookcases  261.9600         2   \n",
              "1        42420  South        Furniture       Chairs  731.9400         3   \n",
              "2        90036   West  Office Supplies       Labels   14.6200         2   \n",
              "3        33311  South        Furniture       Tables  957.5775         5   \n",
              "4        33311  South  Office Supplies      Storage   22.3680         2   \n",
              "\n",
              "   Discount    Profit  \n",
              "0      0.00   41.9136  \n",
              "1      0.00  219.5820  \n",
              "2      0.00    6.8714  \n",
              "3      0.45 -383.0310  \n",
              "4      0.20    2.5164  "
            ]
          },
          "execution_count": 12,
          "metadata": {},
          "output_type": "execute_result"
        }
      ],
      "source": [
        "df = pd.read_csv('../datasets/sample_superstore.csv') # 분석 환경(Docker, Local) 에 따라 경로 설정을 변경하세요.\n",
        "df.head()"
      ]
    },
    {
      "cell_type": "markdown",
      "metadata": {
        "id": "_OAX_yfz1Hk5"
      },
      "source": [
        "#### ✏️ 연습 문제 - sample_superstore\n",
        "* 데이터 설명 : 기업이 손실을 최소화하면서 이익을 증가시킬 수 있는 방법에 대한 통찰력을 제공하기 위해 광범위한 데이터 분석을 수행하는 시뮬레이션입니다."
      ]
    },
    {
      "cell_type": "markdown",
      "metadata": {},
      "source": [
        "Q1. sample_superstore 데이터에서 매출액와 이익 컬럼의 평균, 중앙값, 표준편차, 왜도, 첨도를 각각 구하고, 각 통계량이 의미하는 바를 간단히 설명하세요."
      ]
    },
    {
      "cell_type": "code",
      "execution_count": 13,
      "metadata": {},
      "outputs": [
        {
          "name": "stdout",
          "output_type": "stream",
          "text": [
            "매출액(Sales) 통계량:\n",
            "평균: 229.86\n",
            "중앙값: 54.49\n",
            "표준편차: 623.25\n",
            "왜도: 12.97\n",
            "첨도: 305.31\n",
            "\n",
            "이익(Profit) 통계량:\n",
            "평균: 28.66\n",
            "중앙값: 8.67\n",
            "표준편차: 234.26\n",
            "왜도: 7.56\n",
            "첨도: 397.19\n"
          ]
        }
      ],
      "source": [
        "# 매출액(revenue) 기술 통계량 계산\n",
        "revenue_stats = {\n",
        "    '평균': df['Sales'].mean(),\n",
        "    '중앙값': df['Sales'].median(),\n",
        "    '표준편차': df['Sales'].std(),\n",
        "    '왜도': df['Sales'].skew(),\n",
        "    '첨도': df['Sales'].kurtosis()\n",
        "}\n",
        "\n",
        "# 이익(profit) 기술 통계량 계산 \n",
        "profit_stats = {\n",
        "    '평균': df['Profit'].mean(),\n",
        "    '중앙값': df['Profit'].median(),\n",
        "    '표준편차': df['Profit'].std(),\n",
        "    '왜도': df['Profit'].skew(),\n",
        "    '첨도': df['Profit'].kurtosis()\n",
        "}\n",
        "\n",
        "# 결과 출력\n",
        "print(\"매출액(Sales) 통계량:\")\n",
        "for stat, value in revenue_stats.items():\n",
        "    print(f\"{stat}: {value:.2f}\")\n",
        "\n",
        "print(\"\\n이익(Profit) 통계량:\")\n",
        "for stat, value in profit_stats.items():\n",
        "    print(f\"{stat}: {value:.2f}\")\n"
      ]
    },
    {
      "cell_type": "markdown",
      "metadata": {},
      "source": [
        "Q2. 카테고리별로 평균 매출액과 평균 이익을 구하고, 가장 높은 값을 기록한 카테고리를 각각 찾으세요."
      ]
    },
    {
      "cell_type": "code",
      "execution_count": 16,
      "metadata": {},
      "outputs": [
        {
          "name": "stdout",
          "output_type": "stream",
          "text": [
            "카테고리별 평균 매출액과 이익:\n"
          ]
        },
        {
          "data": {
            "text/html": [
              "<div>\n",
              "<style scoped>\n",
              "    .dataframe tbody tr th:only-of-type {\n",
              "        vertical-align: middle;\n",
              "    }\n",
              "\n",
              "    .dataframe tbody tr th {\n",
              "        vertical-align: top;\n",
              "    }\n",
              "\n",
              "    .dataframe thead th {\n",
              "        text-align: right;\n",
              "    }\n",
              "</style>\n",
              "<table border=\"1\" class=\"dataframe\">\n",
              "  <thead>\n",
              "    <tr style=\"text-align: right;\">\n",
              "      <th></th>\n",
              "      <th>Category</th>\n",
              "      <th>Sales</th>\n",
              "      <th>Profit</th>\n",
              "    </tr>\n",
              "  </thead>\n",
              "  <tbody>\n",
              "    <tr>\n",
              "      <th>0</th>\n",
              "      <td>Furniture</td>\n",
              "      <td>349.834887</td>\n",
              "      <td>8.699327</td>\n",
              "    </tr>\n",
              "    <tr>\n",
              "      <th>1</th>\n",
              "      <td>Office Supplies</td>\n",
              "      <td>119.324101</td>\n",
              "      <td>20.327050</td>\n",
              "    </tr>\n",
              "    <tr>\n",
              "      <th>2</th>\n",
              "      <td>Technology</td>\n",
              "      <td>452.709276</td>\n",
              "      <td>78.752002</td>\n",
              "    </tr>\n",
              "  </tbody>\n",
              "</table>\n",
              "</div>"
            ],
            "text/plain": [
              "          Category       Sales     Profit\n",
              "0        Furniture  349.834887   8.699327\n",
              "1  Office Supplies  119.324101  20.327050\n",
              "2       Technology  452.709276  78.752002"
            ]
          },
          "execution_count": 16,
          "metadata": {},
          "output_type": "execute_result"
        }
      ],
      "source": [
        "# 카테고리별 평균 매출액과 평균 이익 계산\n",
        "category_stats = df.groupby('Category').agg({\n",
        "    'Sales': 'mean',\n",
        "    'Profit': 'mean'\n",
        "}).reset_index()\n",
        "\n",
        "# 가장 높은 평균 매출액을 기록한 카테고리\n",
        "max_sales_category = category_stats.loc[category_stats['Sales'].idxmax(), 'Category']\n",
        "max_sales_value = category_stats['Sales'].max()\n",
        "\n",
        "# 가장 높은 평균 이익을 기록한 카테고리 \n",
        "max_profit_category = category_stats.loc[category_stats['Profit'].idxmax(), 'Category']\n",
        "max_profit_value = category_stats['Profit'].max()\n",
        "\n",
        "# 결과 출력\n",
        "print(\"카테고리별 평균 매출액과 이익:\")\n",
        "category_stats\n"
      ]
    },
    {
      "cell_type": "code",
      "execution_count": 44,
      "metadata": {},
      "outputs": [
        {
          "name": "stdout",
          "output_type": "stream",
          "text": [
            "가장 높은 평균 매출액 카테고리: Technology ($452.71)\n",
            "가장 높은 평균 이익 카테고리: Technology ($78.75)\n"
          ]
        }
      ],
      "source": [
        "print(f\"가장 높은 평균 매출액 카테고리: {max_sales_category} (${max_sales_value:.2f})\")\n",
        "print(f\"가장 높은 평균 이익 카테고리: {max_profit_category} (${max_profit_value:.2f})\")\n"
      ]
    },
    {
      "cell_type": "markdown",
      "metadata": {},
      "source": [
        "Q3. 판매량 컬럼의 분포를 plotly로 히스토그램과 박스플롯으로 시각화하고, 분포의 특징(대칭성, 이상치 등)을 해석해보세요."
      ]
    },
    {
      "cell_type": "code",
      "execution_count": 20,
      "metadata": {},
      "outputs": [
        {
          "data": {
            "application/vnd.plotly.v1+json": {
              "config": {
                "plotlyServerURL": "https://plot.ly"
              },
              "data": [
                {
                  "bingroup": "x",
                  "hovertemplate": "판매량=%{x}<br>count=%{y}<extra></extra>",
                  "legendgroup": "",
                  "marker": {
                    "color": "#636EFA",
                    "pattern": {
                      "shape": ""
                    }
                  },
                  "name": "",
                  "nbinsx": 20,
                  "orientation": "v",
                  "showlegend": false,
                  "type": "histogram",
                  "x": {
                    "bdata": "AgMCBQIHBAYDBQkEAwMFAwYCAgMEBwcCAwIDBwIDAgYGAgMHBQkDAwQEAgICAgQDAgYGAgEHBQYFBQICBAECBgMEBQgEAgEDCAIBAwMDBQEDBQEHAwIBAgcDAgECAwIBBwMGBwMDBAYDAwgBAQUCAgYOAgMGAwEDBAYJBwMGAgcCAwUCCQMBBAIDBg4CAwMDAwcECwMIBQUCBwQGAwICBwECBQIDCAMJBgUDAwIHAgQEBwUBAgcEBQICCAMDBAYIAwUHAgMDAgMDAgECBwQEAgQJAQICBQMJAgYDAgYEBAQCAQUBAggHAgMCAwMCBQUDAgUDAgcCBgUEAgENBgQJAgUGAwMFAgMHBAIDBgEDBAcDAwIBAgQGAwUHBQUFBgcCBQcIAgMIAwMFAwUIAwQBAwIDAwYBBAIBAwMCAwQBAgYEAQIGAQEDAgQKBgICAwECBAIDBAQKDQwEAwMCAgECAQQEBgIEBQUIAgIDAggEBAIHBAUDBQgBCgQHAwMEBwMCAwMEAQEEAgIDAwMCAgQDBAQCAgYDBQMFBwEJAQ0CBwQIBQEEAQYEAwQCCAEGAgcFAgUCBQMHCAMBAwMEAwcBAwMGAwMEAgIEAgMCBAkDBQYFAgIHAgMBAwIEBgcFBgMFBQMCAgIFBQYBAgIFAwIDAggEAgkCAgIDAQUBAwMFAwIDAwIFAwIDAQIJAgMCBQMDAwEGAQMFBQIHBAMEBggJAgEEBgIJAwUCAQMCBAIEBQMHBQMCAQMIBwMDBwQHAwMOBAICAQQDAgMHBAEDAgQDAgIDAgMFCAIDBAIBAwMEAwIJAgMEAgkKAgICCQEDBQIFBAkHAgUDAwUEAwMDAwMFBAMCBwQBAgUCBAMECgIIAgICAgIHDgUDBQMDAwMFAwEIBQMFAwMDAwMDAgQEAgMCAwIBAQMBBQgEBwQBAgMDAwMCBQEEBQgBBAYCAwUCAwMGAwMDBQcCAQgCAwMCAwMGBAEFAgMDAgUBAQQKBAEDCwcBAwQEAgQDBAkDAwIDBgMGAgICAwUBAgcHAwMEAQUCAQIDAgIEAQgDBQIEBwcCBwUBAgkCAgMEAgMEBQQCAgcIAQgDBQMEAwIEAwcEAgIDAgECAgEEAgMDBAQEBAICBwMEBwIGBgIDAgoCAQICAgYCAgEBBAYFAwMCBwUDAQMEAwUCBAUCAwwHBgUDAQQIBwMCBwgCBQQDAwICBAcDBAcCBgEJAgQDAwECAwEFAgMFBAIDAwMDCAYDAgECBAICBAUDBQMHBgwDBgQCAgUBAgMCAgICAgIDAgQDAwYDAgMHAwICAgMGAQIFAgQDAgUDBQIDBQcDAQMFBwIHBwMDAwMDBQIEAwENAQUCAwUFAwMIAgIDAwIFAwMJBQMCAwIDBwMEAgMFCQ4FAwwBAgIJAgIDBAQCAwIDBwMDAQUEAQQHAwIFBwIHAgMBBAkIAQIHAQMBAgIJAgUCBwcFBAMBAwMDAwYCBQwDBQICAgECAgUFAgIHBwQDAwMBBgQBBQMEAwMIAgIHAgIEAQIBAgICAQIGAgcCBwMCAQMCAwEDBQQJAgMDBAIFBAYDBAIDAwcCAQUHBgQCBAgDBAQDBAIBCQQEAwMDAgMFAQMHBwIEAgIBAQMCAwcJCAMBAQQDAgIBAgICAgMFAgMBAQIEAwQJBgwDBgkNAgQCAwECAwMIAwQDAgUDAQYDAgQDCAIFAwEDAwQDAwEDBwUDAgQDBAUDBQENAgIFAgYDAgEDBwcDAgMCAQQCBggFAQIGAwIFBAMGBgEEAwECAwIIBAMCAwgCBQYDBQIHBgoGAwIFAwEDCwMBAgcEBA4CBgIEBQcDAwIEBQMIBQUFAQMBCQUDAgIDAwMDBwMFAwQCBAECAwIFAQMCAgIDAgIEBwMDBwMEBAICCQYFBAIFBQ4IBgEOBQYCAwUFBAICBAkEBwIDAwEHAwUIAwMJBAICAgIGAgQDBAMCAgIDBAYDBwcEBAcDAgEDAgcDAwIEAQYCAwcBBQUDCQMCAgQGAwQDAggJAwUEAQQCAwcFBgUIBgYCAgcCAwEDBgIDAwECAwcFBgMEBwQCAgEGAgcFAwQBBQIJBgEFAwUDAwQDAwUDAQIDBQIBAwIJAgIDAgUDAwQEBwUEAwMCDQQBBAICAwYFAwUBBAMCAgIHAwEEAwIBAggCAgUDBQYFBgMCAgICAwUEAwICAwIDBwICAgYBAgIGBAICAwcDAwIFAwUDAwIDAwQDAgQCAgMDAwEDAgQBAwICAgICBgUFBQIEAwICBwYCCQIFAwIGAgIBBQ4GBwICBQUECAQCBAMDAgQFBAMIAgMEAgUDAwIFCAQCAgcCCAMCAwICCQICCwYGAgMEBgMCAQkCBAUEBwIGAgkCAQkFAwECAwQGCAMDAgUBCAQCAwgDBgUEAwEBBwIHBwcHBwMHBQIDAgICAgIGBAMBCgQBAwYCCAEDAwcFBwMEAQIBBAIDBgIDAgEFBQcCBQMFBAIBAgQEBQMDBQYCAQUCAQECAQMEAwkDBwQHAgMCCAQDAgEBAQMCAgIEAwYCAQICCAIGBAIDBwMFAgMDBQIFAgIJAwMCAwIBAQMBAwUFCAMCBwQDBAIJBAICAgEBCAMGBQMCAwQDAwUGAwUDAgMFAwQDBwQCAwMFBgIEBAIEBgMEBAMHAwMEBgIDBQQEAQUFBwMFAwcHAgMCBAIDAQIEAgIEBgkDAwQFAgIEAwUEAwIBAgMDAgMHAgUGBwMCAwEHAwQIBQYDBQcBAgMFAg0DBAMJAwQDAQUCAwcDBQcFBwICBgIEBQUDAgIDAwUBBQgEAwMHAwQEBAIDAQEDAwUEAwQCAQEHAQUDAwIJBQcDAwQECQcDAwcEBQQDCQIDBgIHAwQGAQUDBwMCAwYDAwQDAQEDAwIFAQcDAwMCAwMEAgkFCAcDBAUFCAICBgIJAwMDBAMFAgMDAQYHAgMBAwcEBAcKBgEBDQIEAgQBBAIIAQMBAgEBAgIFBQQHAggFAgEHAwICAgEDAgUFBgMDAwIDAgcCAQMBAwIBAgICAQEFBgcCAQMFAQQCCAIHAgcDAgUFAgMGAgEDBAUBBwQDBAQEAwIDBQEEBQEDAgIFAwcDBAcDBAUMAwECAwQCBQUBBgMHBAQCBwUDAwkFAgUGAgIDBgcFAQMHBAMHBAUCAgQBBAYCBAgBCQIDBAIFAgIHBAkEBAICAgEHCQQCAgIFAgYHBQYFBwkHCgUDCAIFAgMFAgUDCgIBAwIHAQINBAQHCAIHBAIDCQIEAgUCBAUGAgIFAwUFBgMDCAgBBgMCAwMFAgEBAQQFAQgEBAIFBwQDAwECBgQFBQICAwMEBAYHBQUIAwIBAwIEBAIEBQgEAwYEBgUEAgIJAwcGAwIBBAkCAwYCAgUEBwQGBAIEAQYDBwMDBAQBAQUIAgYCBAcCCAIHBQIEAgECBAUJCAIEAgcFAwUCAwMIAwINAwICBwEBAwIDAggCAwMCAwIHAwMBBAEBAwEFAgMDAgMGAg0DBAMFBAQIBQEEBwoDAgIBAgUCBAMDBAEGAQgDAwIGAwUDAwMDAgIFAwQLAgIBAwIDAQEEAwYCBQMFAQcCBQUEAwEJAwIFBQQDAwMFAQIEBgQDAgMDAwYCAwQHAwIECQMFAgIDAgMDBQUFAgUEAQcDBAECAQQDBwMCBAIFAgYDAQMEAwMLAgIDBQUCAwQEBQEFAwUCAQgCBwMFAwMCAwcCCAMECgICBAQCBQcFAgMBDgQHAwQCBQUBAwMGAgICBQIJBgMEAwUBAgYFAwMCAggCAgIGBQIFAwcCAQMFAgEEBwIDCAMDBgMGAQQBBAMHBAIEAwkHBAMHAwQFAwIDAwEIAwIHAgIDBgMFBAIFAwIFBQIDAgULAwUEAgIEBwUHAwICBQMDBAUEAwMCBAEFAgcCAwEBAQMDBAQCAgEBAwEHBwUDAQcDCQEHAw4FBAUCAgICAQMBBAQDCAICBQIGBAMGCAIEBQIEBwIGBAIEBAMBBAIJAQQFBwMEBAUEAQQDAgIFBAEDBQMDBQUFAgYEAggDBwMDAwUCCwMDAgUEBAEEBAYHAgUCAwUCAggFBQEHAgQCBAICAgUCCgICAwgDAwgIBQcGBAcDBQICAwUCCAIDAgMBBAICAgUHBwUDBAIIAgQEAwMGAQcGBAYDAwEIAQMFBgYFBAUCAwIFAgIEAgQCAgUEAgMFAwECAgMDAgUGBwQDBQUDBgICBwIDAgIFAwUCBQMJAgMFCA0GAgUDBwICAgMCBQIDCQMDAwcBBAMBBwMGAwMDBAcDBAgBAggFCAUJAwcLAQIGAwMCBQQBAgICBgIDAQEFAwECAQEDAwUHAwUNBQMDBQMCAgcDAwIBAwIDAgIEAgcDBAIDAgEDAwgFBgMGBwECBwUCAQMHAgMDBQUBAgMCCAsHBAMBAQYDAwMCAwMCBgUHBQICAwUJAwcDBQMDBQEDBQgCAwMDAQQEBAMJAwUDAQMJBAUFBQQDAwICAQIBCQICBAMDAgMCAgMCBAUGAgMFBAIJBgMJAQMHBQQDAgYDAgQCAQYEAQQBBgMDBwQCAgIIBAIJAgQCAgECBQICAggHBAIECgQCBgMCCQMGAgMCAgYBDgMHAgUCAgIFAQICBAMCAwMCAgIEBwEBAgIJBgMCAgIBAgUFCQIHBgIFBAMEAQICBgUDAgQFBAIGBQMDCQIDBAIEBAMCAgcJAwMDCQIEBwIHAwgGAwMIBAMFBQQEBQIDAwMFBwMCAQgIBwIBCAMGCAECBgcCBAQEBQIEAgIDBAIGBAEBAgoDAQEBBQgBAgICAQIDAgEMAQMDBQEDBgMBCQIFBQIEAwMDAwICAgIGBAUCAQUDCAUCDAIBAQcDBwIIBAcCAwQHAQcHAgIBBQEEAgYGBQQDCQIBAwQDBQMKAgcEAwUKBQIDAQYCAwIEAwIDAwQJBgcDAgYFAgEFBAcGAwIFBAECBgMDBQMCAwcDBQEDAgUFAgUFBAIIBQMCAgIDAgcBBwQBAwICAQIBBAkDAwUDAgQCBQMDAgUHBQcCAgIFAgMDAgEFCQIGAgMDAwIHBgMCAgMDBAICBwEDBQYDBgMBAwQDAwUBAQMCBAEFAgMFAQMCBgUCAgMHAwMCBgYCCQoFAQICAwIFAwIDAgMJAwMCAgIGBQMEBQcCCAEFAwUDBwMBAwMEBQIGCQEHAgQDAwcCAwUEBAICBgQDBAMCAwICBggHBQUDAwICAgIOBwQEBAUCAQUDAwIFAgIEAwQEAwYFAgMCBQUBBwMCBQUCAwMCBQIBBQcDAQECAgIGAgICAQQDAwIDBgUDAwMDBAcICgkEAgUIBwQDAgIDAwQFAQMEBQUCAwMDBgMHBQEGBQsFAwMDAQQGAgsCBAQDAwUFAgkDAwMFBQQEBwIIAwQGBQQDBgIFBAYDAwkGBQMCAwoDAgMCCwQGAQUHAwMDAQkBBQMMCQkEAgIGBAQCBAMDCQEDAwMCAwMJAgMDAgcEAwUFBQIBAQgCBQICAgMCAQMBAwMFAgMHCAQGAwIDAwYGAwQFAwMJAwUHBwYDBQMJBwMBAwMBAQQFAwMEAwIGAwMDAgQDBwkDBAIGAwcCAgICBQMFCQUEAwMBBgcBAgEDBQIDAgUDBAQBAgYHBQICAgMFAQIDAgIDBAMIAgIGBQIDAgMEAQEJCQMGAQMJBAcBAgQDAwMDAQUFBgQHBwICAwQDAgICBQQBAwgDBwMFBAsECQEBAgIHAgUCAgEDAgIBAQUDAgkBAwUDBA0CBgIFAQcEBQMCBwQDAwQCAgMDAgYDAQIDAgMDAwUJAwUBBQYCAQIDAwECAwYGAgQCAwIIAgIEAggHBAIBAgIDAwQEAwoEBgUCBQIFBgUDBQICAwMFBAIFBAMHAgMDAgUBAwICAgUDBQIDAwMCAwECBgMDAwECBQgDBAUDAgMFBgIDBgMEAwUBAwEHAwIEAQUFBQUGBAUCAQMFAgUEAgIFAgECAgQDAgEJAgICAwEDAgMEAgMCBQcCDAMCAwMFCQMDAgIHBgkGBAICBQUGBwIDAwEBAwICBgEBBAUHBAgDBAMHBgIFBAQCAgMDAgIDAwMEAgcHAgkCBwIDAQQCAwMDAwQEAQIDAwMFBAYDBgQGAwMCAgcEBQIBAwsGAwgCBwUGAwMHAgIDAgMDCAMFAQkEAQQCBwEDAgcIBAMFAwkDAgMGAwUDBAIDBQIFAwIFAwYBAwQDAggBBAQCAgIDAwkFBQQCBQECAgICBwMGAwEJAgQCCgcFBAQBAwIEAQwCAgkJBAQCBwkFAgMDBQIEAwIJAwICAgECBwIEBQMCAwEHAgICAgMHBwIDAQMCAwQDBwMGAwMDAwICAgIBAgMDAgQCAwMDBQMDAgQCAwIHBAICAgIDBAEFAwQDAwgBBQIEAwMHAQQDBwUFBAMECQUFAwMEAQMDBgMFAgIIAQkCCgMDBAIDBAMDAwICBAIIBgYHAwMEAgMDBgMCAwUCBAIGBAIDBQQCAwULAQIFCAYDAwMDBAkHAgYBAwMGCwMDAgcCBQMBBQIDAwIECQQFAgUDBgMGAwICAgECBAICCAQBBgMDBAUIAgMHAgUCAgMHAwMCAgICBgICAQMDBQMCAQIDAwcFAwUJBAIBAgICBAcDAwIBAgcDAgIJAQEBAwMEBAMCAgECAgICAgkFAgYDAgQCAwUFAwYCAwQFCAgFBAEEAQUBBQQCAwUCAwEGAwcDBwYHBAMDAgMCAwQCAwIDAwMBCAMBBQMCBQQCBwMECQUEAwUHAgICBAUDCQUGCQIJAgMDAgMHBQEDAwYCBAIFBQIDAwEEBAMEAgcBAwIBAwMEBQQDAgIDAgEDBgMEBAkFBgYECQMDAQEDBwkFAgMCCQcEAgEDCQgDBwQFAgQDBQIGCAECBAQEAwMCBQEDBAMCAwICAggCAwIDAwMDAwUDAwECAwIDAgICBwMDBwYIBAcGAgIFBwQDAwUDAQMHBwMCAgECBQEDAwMDBQUCAwUHAwcFBwMFBgICAgUBBwYBAwMDAgMCAgMBAgMCCAMEBQQDAgICAgYFAwMCAQQDAgMBBAQFBAcEAwQFBgQBAgIDAwMJCAMEAgUGAQEIAgEIAgMKBgYCAgUDAgMFBgQCAgQJAgEEAwcEAgIFBgIDAgIBBQQEAwEEBwUGAgUBBQEEAwIDBQkEAggGAgUBAgIIBQYCBAEDBAEDAgMDBwIGAwcEAwYFCAIDDgkDAwIDBgIHBgcFDAMFAgIEAQUBAwQBAwEHAwUGBAICBwIDAgMFAgUGBQMCAgEEBAUDAgUDAgECAQ0DAQYFAwUCAgUGAQIFAgYIAQMKBAUFAwMDAwUFAgcCAwUDAwEBAgQCBAMEAwMDAwICBAQEAgIDAgYCAQMDBAIEBQICBAMDAgMECgIDBQQGBAwCAQIFAwQGAwMDAwMCAwICAwYGAgUCBAMHAQYDBwECAgIBBQMBBQQEAgUBAgMBAwQDAQIGAwIFCQEFAgQDAwUCAwICAQcCAwIDAwIFAwEFBgIBBQICAwIJAgUFBgIEBQECCwQCAgkGAwkDBgIHBQUDAwYDCQQEAwUFDgMFBQIFAQEEBAIDBQQDAgkCBwECAg4DBAMCAgIGBAMHAgEBAwcFAwUGBwMJBQEFAwIJAQEGAwUBAQEDAwMDAgcDAQMFBQMHAwUFAwQCAwkHAwMCBAQJAwIDAgIDAgECBAMHBwIDAwUDAwUEAgQFAwMEAQMECgYDBgYBBAMEAQIHAQMBAwEDAQQEBgYHBwUDBwECAQIJBAMCAgQCAgMEAwMCAgQEAgMDAQQDBAkEAgEFBAMEAQICAgEEAwUFAwUEBQUCBAUEBwUCAwIDAQMDAgcDAQUCAgICAwIDAgUBBgQHAwEHAwMHAwYEAgkJAgMDAwECAgECAwEDAwUEBAEJAwMEBQQBAgMDAwMDBQcCBAYFAwICBAIHCggBBAMDAgMDAgUDAwEEDAIEAQUEBAUEAwIGBAUCBAUFBAMECQIEAwYDAgECBAMBAgUCAgoFAgICAgYGAgQGAQUHBwMFAgUEAwMEBAMCAQQCAwMDAwYDAwUIAgcDAQUCAgMCCAIFBQIDAQQFAwIEAwYEAwMDAgMHAwMJBQcFBQMEBwEIAgUCBAMFAwMGCAgBAQMCAgIDAgYCAwMJBQYJAgEGAwECAwIJAgQCAQMCCwIFAwMCBAIFAgMHAgYJAgYEAwMDCAICBAUCAQYEAwIOBQIEAwYGAgMFBAIGAwQEAgIGBQoEAgMBAwMMBAMEAwUDAwIDAgIDAgUCAgQHAgQCBQMCCAUKAwYGBAkDBQUFAgMHAwIEAwUIAgcEAQIJBwMDAgEDCAMGAgcJBAcDAQQDBAMEAgMLBQUDBAMCAQgCAwYDAgEDAgEBCQMIBAECAwQDBAcDBQIJAgUBCQUHAwMFBwICAwICAwUFAgMDBgQIAgMDAQYFBAMDAwIFAwEHAQMDCAEDAwEEAgMCBQYCAwIDBQQBAwUEAgMDBQQFBAUEAgQEAwICAwUBAwIFAgEBAgUFBAEGAgcFAQgBAQIFBQIEAwMCBQICAQUIBQQEAggBAgIFAgICBgQBAgIFCAYCAQMDAgcFBQMBAgMGBQEEAgIDAwMHCAMEAQIDAgYHAwUFBAUDBAUFAwIFAwYFAQECAgEDAgIHAQcCBQUDAgUCBgcFBQYCBwoDBAMCAQMFBwICAgYEBAMOBQQCBQQCAwIDCQ4GBgcDAwMEBAUDAwYEBwIDBQoCAQQDBwIBBQUEBAMDBQEFAwoDAwEFBgIDAQUCAQYDBgQCBQQDAQEBCQUBBQMCAwQEBQIDAwMCBAgIAwYHAQMDAwYEBQYDAwIDAwUCBwUBAQIDAwgGAwMHBAYDBgMCAwUDAgYEBQYFAwYIAQQEAg4FAwUBAQsEBQMGCAYCCQQHBAMCBwIFAgQFAwECBQIJAgIHBQcFBQICBQICBwQGAgUDBwEEAwIGAQIFBAQFBAYLAwMDAwECAgMEBAIDAwcDBAMIAwYDAwYGBAQDBQIDBgMDBAUGAwQEBAICAwMJBAMCAwMGBgUFAQMCAgICAgQFBAYCAQMCBQIDAwIFBwUFAwIBBgQDCQMCAggEAwEFBAMHBAUBAwIDAgIBBQECAwICAgIBAwMCAQIECAIDBQMFAwICBQkCAgUCBwIDBAMBAgUBBAUFAwMDBQQCBAECBAYHBAMEAgMDAgULCAMCAgUDAgkCCQMBBQMCAwYBBQUJAwUIBAIDAwgHAwQEAgIFAwcGBwUEAgUBAgICAwIDBAIBBgQFAwIHAQUCBwwDBAMHAQECAgIDAgIEAgUEAwUEBQICAwcDAgMEBQIFAQEDAgMFAwUCAgkDBQICAgQCAgQCCQUEAwUBBAQCBQUCAwUDBwUEBAQCAwIEBwIBAgICAwEFAgEDAwIDAwcDAQMJBgkGBAIFAwIDAwMDAwICAwIDAgUEAgIBBAMCBQIBBAUDCQcDAgIDAwIDBwYCCQECAgEFBAIFBwkEAwMFAgkFAgMEAQMDAgUGBgIFCQYDAgMCBgMJAgIEAgIFAgYCAgEDAgEHAgMDAwMFBAQHAwQCAgMFAgQDBAUFBQEDAQMDAwICAgcGBQEEAQIEAwUIAwIEAwoDAgMFBQMIAwIDAwMCBQkCAwQCBAMDBAgGBAIFAgICAQcFAwICCwIEAgMMAwMFBAMCBAIDAwMDBwQFBQYDAgIECAICAwMHBwcGAgkHBQMFCAIDBAMDBQQCBgUHAQcFBAcCAwQCCAIEAgMFBwoCAwcCBQMFAgQBAwMJAgkCBwECBgUEAgYDBQICAwQCAwMFAgIIAQMBAwcFBQMCAgMFAQIEBwYBBwIDAgIBAwICDQMGBgQBAQMGBQcIBQUIAQIGAwMDAwMIAgIHAwICCwMHAQMEBgMDBQUCAwIDBg4DAgUDBQMFAgMGCQQBBwQFAwIDBQgBAgECAQIFAwUBBQUCAwQDAgIDAgIEAwMFAwYFBQUFAgMCAwECAQUFAwUFBgIEAgIBBwkEAgkCCAIIBAMCBAIFBAkCAgIEBAEBBAcBBQUJBAIGBgMFAgIDBAQDAwMCAQIEAgICCQUFBwUCBQQFAQICAgYCBwUGAwYDAwMEAgUDAgIBCAgCBgYFBgcFAQMDBgMEBwUGAwMDBgEEAgQBAwQJBAMFBAECBAIBAwgDAwIHBQMEAwMHCQIDAwcEAwIDBQUGCgIDAgkCBAcDAgECAwkCBQEFBQQDAQUJBgIFBQcHCAEBAQMDBwIGBgQEBQMCAgQJAwMCBAQEAgQEBQMHBQUEAQkDBgMCAQMFBAMDBAMEAgYBAwkBCQEIAwMCBgQHBQQCAQMGAgIDBAMDAgMDBQMCAwYDBQIEAwICAwEBAgMDBAMEBAIEAwMECQUCAQIEAgMDAgYDAgIDAgICBwUEAwMCAgEJAwUFAwUCAgIFAwMBAwMDBAQDAgoCAgEDAwgDBQIFAgQFAwEDAwIEBAECAgcDAgEDAwYCAgMGAwgGCQMDBQEEAwMDAwMCBQICBAICAwQCAwsEBQwCAwMCAgICBAQCBQMEBAICAwQCBgMCAgQCBAICBgECBAIGBggCBwMFAQUJAgUDAwUCCAcGBQIBBQICAQoCAwgDAgICBQMEAQICAgMFAwQHAwEDBgMDBQIDAgMJAwgCCgkHAgUDBQYGAwIEBAIEBQQFAwEFCAQECAQDAQEEAwICAwMDAwMBAgQFBQMFBQQDAQIEAgMGBgUMBwQEBgcCAwIMBAMFBgcFCAEDBgkBCgIDBQUBAgEBBAYDBQMCCQIGAwMGBgIEAQkFAwMHBQEGAwEFAgkFAwIFAgQDAgMCAwYFBQQEBQ4CAwEDCAYDBQcKBQMEAgkHAgUDBAIFBQEDAwIHBwYBBgQEBgIFBAIFAwEFBAIDCwMEAgMCAwUCAgQDAwMHBwkICgQDAwQEBgIEBwICAgMEAgICBQMFAgYCBgcDAwcHAgMHAQYEBAYFAgQIBQMBAwEECQMBBgQHAwICBAUDBQEFAgMEAgEBBgQCBQMEAQECAwMCAwQCBgIKAQICAwMHBQICBAUCAQIEAgMIAwMFAgICAgUCAQQIAwUGCQEEAwQDBwIBBAQCCAQBBwkDAgMDAwMCAggDBgUHBgIBAwQCCQICAwMCBQMCBAUHAgkDAwQHAwIHAwEIAQICAgUFAwQHAwEEAQUDBAkCBAUGBQMHBQMDBQEKBQECBAUFAgMHAgYCAgUDAgQEAgUDAgEDAQYGAQEDBwMCBAMCAwEFAgYCAgMFAwMHBQIBBQMCBAQFAgcFBAQHBAoDAwUDAQQCAwUCBQgCAgYFAgoEAgUCCwIEAgMEAgEDBAQCAwgBBQQDBQIDAwMDBQMCAwQDAwIGBAIDAQEEAgEEAgICAwIFCgICAwUIBwMIAwEDAwMCBgICAwIECQUDCwECAgIEAwwCBgEDAw4BBwIGAwICAgQCBwMCAwQFAwIFAgcCAQQCAwQEAwQDCAcHCQMJAwMCBQMGAwQGBw0CAwUCAwQBAgIBAwICBQIHBQUCAgMCAwMEAgEEAwMCAQcCAwUCAgQCAgUCAwIDAgMHBAUCBAYFAwMFAgIEBQYDAgUFBwUDBQYLAQcBAwIFAwUDAgIEAgECAQYFBAYHBQUFBAEEAwICAwMGAQUIBQcFAwIHBgIFAgMCAgUFAwEDBAIICAEFAggBAgIEAwMDAwYFAQQCCAMCCQIHBgQDAwIDBwMDAwUEAwUEAgUDAQMEAwICAgMCBAMGAwICCAMDAQgBAgICAwUEAwQEAwYCAgUIAwMCBgQDAgUDBAMCCQcCBQUEAgIFBQICAgMDAwIDBQUEAwUDAgYEAgYEAgICAgMDBQcCAgoCAgECBAMFAwIDAwIFAwMFAgEKAgIEBQMDBgIFAQMEBAQGAwUCAgUMBAICBQIBBAMLAwcCAwQDCAIJAwcCCQIDAwMEAwIDBAMCAQMJBwgDAwkCAgYEBAIGAgIDAwQEAwMFBAIDBQMCAw4FAgUCAwcDAwMDAwUBBgIDBwUEAgMCBQUFBAIDBQIBBwEJAgIBBwcCAQICAQIDBAUCAwUCAgIHBQIHBQUCAgcFAwEDBggGAQICAQQCBwUFAgEDAwIGDQMBAwQDAwMCBAQCAgQEBAIDDQEEAwMCBQUFAwMCAgQCAgILBwMHBAQGDQMEAgIDAwMCAgUGAwQDBAEGAwIDBQICBQMFCAMGAgYCBwUHAgMDAgUKAgMCBwIFAgQDBQICAwQHBQcBCQMEAgMHAwICAwUDAQMCBQcCBAIJBQMCBg0EBQICBwIGAg0JAwUHAwMCBAEDDgICAQMDAwMDAgEDAwMEAgEBBQIEBgICBwIHBAIFBgEBAQMFCAMIAwEBAwMCAwcFAQIHAwMEBAYCBAMHBAMJBgkDBAcDAQIHAwMGAQIFAwEBBwgCBQIBAwIDAwIDAwMFAwcCAQMHBgMEAwcGAgQHAgIFBAIDAQMDBgEDAwEGAwQCBAMCAQIDAwEFAgIEBggCBAcCAwQBAgIEAwQIAgMEAgEEAgMEBAMCBQEGAwUDBwUFAQIFCAIEAwIDAwICBQMBBwYHAwQCAgYCAwQDBQcGAgMCAgMBAgEFBAgEAQMBBQEIBQICBgEJBgQCAgYFAgIJAQEFAQUCAgMDAgMCBgYFAwMGBQUIBQECAgcDBAICBAICBQICBAMGBQQCCQMGAwIBAwUDAQMGAgQGAgYCAgICAQIFAgcCAwUDBQICBgoJAwMCBwgDCQcCBgEBAwoDAwkBBwICBQMGCQMBBQYOAwMDBAIDAwMFBQMGAgICAg4HAgIDAgUCBwMFAgMCAgICAwMGBAcFAgcCBQUCAwMCAgcFAgQGAgIBBQMBAgUDAQUFBgEEAQUEBAMJBQUCAgMCAwMBCAUFAwQEAwYDBAkEAgEHAgIDAwUGAgQCAwMCAwcCAwYIAwcJAgQCDQUFBgIHAgIEAwgJAgYCAgMBBAQFCQIDAwIDAwcDAwcFAgUBBAYDAQIJAwYIAgEGCQUEBAMLBgIEBQQDBAMCAQUDAwMDAgMCAgYFAgIEBQUCAgMDDQIDBwUCAgUIDQIBAQICBgUDBQUDBAICAgQCAgMBAgIDAgUEBQIDAgIFAgEFBgUEAgUBCAMECQUCAwIFAQIDBQUDAQIGAgEDAwICBAIDBwIBAQIIBAIFBAQDBQUHBAcCAwoCAwMEAwQCAwMEBwEHBAIFAgEDCAIEBAcDBQUFAgIDAgUEAgYIBQIEAgQBBAIHAwICAwICAQICBAUDBwMDDQIDAgMCAQMCBwUEBQsCAwIBAwMBAwIHAwMFAwIHAwMCBQEDAQUHAwQDAQgCBAMFAgQHAwMDAwIFBAcOCQUDAQMGCAMBAgIBAwIFBAICAQIEAgEBBwUCBwIFAgUHAgIHBA4BBQcCCgQBAQUDAgIEAg==",
                    "dtype": "i1"
                  },
                  "xaxis": "x",
                  "yaxis": "y"
                }
              ],
              "layout": {
                "bargap": 0.1,
                "barmode": "relative",
                "legend": {
                  "tracegroupgap": 0
                },
                "template": {
                  "data": {
                    "bar": [
                      {
                        "error_x": {
                          "color": "#2a3f5f"
                        },
                        "error_y": {
                          "color": "#2a3f5f"
                        },
                        "marker": {
                          "line": {
                            "color": "#E5ECF6",
                            "width": 0.5
                          },
                          "pattern": {
                            "fillmode": "overlay",
                            "size": 10,
                            "solidity": 0.2
                          }
                        },
                        "type": "bar"
                      }
                    ],
                    "barpolar": [
                      {
                        "marker": {
                          "line": {
                            "color": "#E5ECF6",
                            "width": 0.5
                          },
                          "pattern": {
                            "fillmode": "overlay",
                            "size": 10,
                            "solidity": 0.2
                          }
                        },
                        "type": "barpolar"
                      }
                    ],
                    "carpet": [
                      {
                        "aaxis": {
                          "endlinecolor": "#2a3f5f",
                          "gridcolor": "white",
                          "linecolor": "white",
                          "minorgridcolor": "white",
                          "startlinecolor": "#2a3f5f"
                        },
                        "baxis": {
                          "endlinecolor": "#2a3f5f",
                          "gridcolor": "white",
                          "linecolor": "white",
                          "minorgridcolor": "white",
                          "startlinecolor": "#2a3f5f"
                        },
                        "type": "carpet"
                      }
                    ],
                    "choropleth": [
                      {
                        "colorbar": {
                          "outlinewidth": 0,
                          "ticks": ""
                        },
                        "type": "choropleth"
                      }
                    ],
                    "contour": [
                      {
                        "colorbar": {
                          "outlinewidth": 0,
                          "ticks": ""
                        },
                        "colorscale": [
                          [
                            0,
                            "#0d0887"
                          ],
                          [
                            0.1111111111111111,
                            "#46039f"
                          ],
                          [
                            0.2222222222222222,
                            "#7201a8"
                          ],
                          [
                            0.3333333333333333,
                            "#9c179e"
                          ],
                          [
                            0.4444444444444444,
                            "#bd3786"
                          ],
                          [
                            0.5555555555555556,
                            "#d8576b"
                          ],
                          [
                            0.6666666666666666,
                            "#ed7953"
                          ],
                          [
                            0.7777777777777778,
                            "#fb9f3a"
                          ],
                          [
                            0.8888888888888888,
                            "#fdca26"
                          ],
                          [
                            1,
                            "#f0f921"
                          ]
                        ],
                        "type": "contour"
                      }
                    ],
                    "contourcarpet": [
                      {
                        "colorbar": {
                          "outlinewidth": 0,
                          "ticks": ""
                        },
                        "type": "contourcarpet"
                      }
                    ],
                    "heatmap": [
                      {
                        "colorbar": {
                          "outlinewidth": 0,
                          "ticks": ""
                        },
                        "colorscale": [
                          [
                            0,
                            "#0d0887"
                          ],
                          [
                            0.1111111111111111,
                            "#46039f"
                          ],
                          [
                            0.2222222222222222,
                            "#7201a8"
                          ],
                          [
                            0.3333333333333333,
                            "#9c179e"
                          ],
                          [
                            0.4444444444444444,
                            "#bd3786"
                          ],
                          [
                            0.5555555555555556,
                            "#d8576b"
                          ],
                          [
                            0.6666666666666666,
                            "#ed7953"
                          ],
                          [
                            0.7777777777777778,
                            "#fb9f3a"
                          ],
                          [
                            0.8888888888888888,
                            "#fdca26"
                          ],
                          [
                            1,
                            "#f0f921"
                          ]
                        ],
                        "type": "heatmap"
                      }
                    ],
                    "histogram": [
                      {
                        "marker": {
                          "pattern": {
                            "fillmode": "overlay",
                            "size": 10,
                            "solidity": 0.2
                          }
                        },
                        "type": "histogram"
                      }
                    ],
                    "histogram2d": [
                      {
                        "colorbar": {
                          "outlinewidth": 0,
                          "ticks": ""
                        },
                        "colorscale": [
                          [
                            0,
                            "#0d0887"
                          ],
                          [
                            0.1111111111111111,
                            "#46039f"
                          ],
                          [
                            0.2222222222222222,
                            "#7201a8"
                          ],
                          [
                            0.3333333333333333,
                            "#9c179e"
                          ],
                          [
                            0.4444444444444444,
                            "#bd3786"
                          ],
                          [
                            0.5555555555555556,
                            "#d8576b"
                          ],
                          [
                            0.6666666666666666,
                            "#ed7953"
                          ],
                          [
                            0.7777777777777778,
                            "#fb9f3a"
                          ],
                          [
                            0.8888888888888888,
                            "#fdca26"
                          ],
                          [
                            1,
                            "#f0f921"
                          ]
                        ],
                        "type": "histogram2d"
                      }
                    ],
                    "histogram2dcontour": [
                      {
                        "colorbar": {
                          "outlinewidth": 0,
                          "ticks": ""
                        },
                        "colorscale": [
                          [
                            0,
                            "#0d0887"
                          ],
                          [
                            0.1111111111111111,
                            "#46039f"
                          ],
                          [
                            0.2222222222222222,
                            "#7201a8"
                          ],
                          [
                            0.3333333333333333,
                            "#9c179e"
                          ],
                          [
                            0.4444444444444444,
                            "#bd3786"
                          ],
                          [
                            0.5555555555555556,
                            "#d8576b"
                          ],
                          [
                            0.6666666666666666,
                            "#ed7953"
                          ],
                          [
                            0.7777777777777778,
                            "#fb9f3a"
                          ],
                          [
                            0.8888888888888888,
                            "#fdca26"
                          ],
                          [
                            1,
                            "#f0f921"
                          ]
                        ],
                        "type": "histogram2dcontour"
                      }
                    ],
                    "mesh3d": [
                      {
                        "colorbar": {
                          "outlinewidth": 0,
                          "ticks": ""
                        },
                        "type": "mesh3d"
                      }
                    ],
                    "parcoords": [
                      {
                        "line": {
                          "colorbar": {
                            "outlinewidth": 0,
                            "ticks": ""
                          }
                        },
                        "type": "parcoords"
                      }
                    ],
                    "pie": [
                      {
                        "automargin": true,
                        "type": "pie"
                      }
                    ],
                    "scatter": [
                      {
                        "fillpattern": {
                          "fillmode": "overlay",
                          "size": 10,
                          "solidity": 0.2
                        },
                        "type": "scatter"
                      }
                    ],
                    "scatter3d": [
                      {
                        "line": {
                          "colorbar": {
                            "outlinewidth": 0,
                            "ticks": ""
                          }
                        },
                        "marker": {
                          "colorbar": {
                            "outlinewidth": 0,
                            "ticks": ""
                          }
                        },
                        "type": "scatter3d"
                      }
                    ],
                    "scattercarpet": [
                      {
                        "marker": {
                          "colorbar": {
                            "outlinewidth": 0,
                            "ticks": ""
                          }
                        },
                        "type": "scattercarpet"
                      }
                    ],
                    "scattergeo": [
                      {
                        "marker": {
                          "colorbar": {
                            "outlinewidth": 0,
                            "ticks": ""
                          }
                        },
                        "type": "scattergeo"
                      }
                    ],
                    "scattergl": [
                      {
                        "marker": {
                          "colorbar": {
                            "outlinewidth": 0,
                            "ticks": ""
                          }
                        },
                        "type": "scattergl"
                      }
                    ],
                    "scattermap": [
                      {
                        "marker": {
                          "colorbar": {
                            "outlinewidth": 0,
                            "ticks": ""
                          }
                        },
                        "type": "scattermap"
                      }
                    ],
                    "scattermapbox": [
                      {
                        "marker": {
                          "colorbar": {
                            "outlinewidth": 0,
                            "ticks": ""
                          }
                        },
                        "type": "scattermapbox"
                      }
                    ],
                    "scatterpolar": [
                      {
                        "marker": {
                          "colorbar": {
                            "outlinewidth": 0,
                            "ticks": ""
                          }
                        },
                        "type": "scatterpolar"
                      }
                    ],
                    "scatterpolargl": [
                      {
                        "marker": {
                          "colorbar": {
                            "outlinewidth": 0,
                            "ticks": ""
                          }
                        },
                        "type": "scatterpolargl"
                      }
                    ],
                    "scatterternary": [
                      {
                        "marker": {
                          "colorbar": {
                            "outlinewidth": 0,
                            "ticks": ""
                          }
                        },
                        "type": "scatterternary"
                      }
                    ],
                    "surface": [
                      {
                        "colorbar": {
                          "outlinewidth": 0,
                          "ticks": ""
                        },
                        "colorscale": [
                          [
                            0,
                            "#0d0887"
                          ],
                          [
                            0.1111111111111111,
                            "#46039f"
                          ],
                          [
                            0.2222222222222222,
                            "#7201a8"
                          ],
                          [
                            0.3333333333333333,
                            "#9c179e"
                          ],
                          [
                            0.4444444444444444,
                            "#bd3786"
                          ],
                          [
                            0.5555555555555556,
                            "#d8576b"
                          ],
                          [
                            0.6666666666666666,
                            "#ed7953"
                          ],
                          [
                            0.7777777777777778,
                            "#fb9f3a"
                          ],
                          [
                            0.8888888888888888,
                            "#fdca26"
                          ],
                          [
                            1,
                            "#f0f921"
                          ]
                        ],
                        "type": "surface"
                      }
                    ],
                    "table": [
                      {
                        "cells": {
                          "fill": {
                            "color": "#EBF0F8"
                          },
                          "line": {
                            "color": "white"
                          }
                        },
                        "header": {
                          "fill": {
                            "color": "#C8D4E3"
                          },
                          "line": {
                            "color": "white"
                          }
                        },
                        "type": "table"
                      }
                    ]
                  },
                  "layout": {
                    "annotationdefaults": {
                      "arrowcolor": "#2a3f5f",
                      "arrowhead": 0,
                      "arrowwidth": 1
                    },
                    "autotypenumbers": "strict",
                    "coloraxis": {
                      "colorbar": {
                        "outlinewidth": 0,
                        "ticks": ""
                      }
                    },
                    "colorscale": {
                      "diverging": [
                        [
                          0,
                          "#8e0152"
                        ],
                        [
                          0.1,
                          "#c51b7d"
                        ],
                        [
                          0.2,
                          "#de77ae"
                        ],
                        [
                          0.3,
                          "#f1b6da"
                        ],
                        [
                          0.4,
                          "#fde0ef"
                        ],
                        [
                          0.5,
                          "#f7f7f7"
                        ],
                        [
                          0.6,
                          "#e6f5d0"
                        ],
                        [
                          0.7,
                          "#b8e186"
                        ],
                        [
                          0.8,
                          "#7fbc41"
                        ],
                        [
                          0.9,
                          "#4d9221"
                        ],
                        [
                          1,
                          "#276419"
                        ]
                      ],
                      "sequential": [
                        [
                          0,
                          "#0d0887"
                        ],
                        [
                          0.1111111111111111,
                          "#46039f"
                        ],
                        [
                          0.2222222222222222,
                          "#7201a8"
                        ],
                        [
                          0.3333333333333333,
                          "#9c179e"
                        ],
                        [
                          0.4444444444444444,
                          "#bd3786"
                        ],
                        [
                          0.5555555555555556,
                          "#d8576b"
                        ],
                        [
                          0.6666666666666666,
                          "#ed7953"
                        ],
                        [
                          0.7777777777777778,
                          "#fb9f3a"
                        ],
                        [
                          0.8888888888888888,
                          "#fdca26"
                        ],
                        [
                          1,
                          "#f0f921"
                        ]
                      ],
                      "sequentialminus": [
                        [
                          0,
                          "#0d0887"
                        ],
                        [
                          0.1111111111111111,
                          "#46039f"
                        ],
                        [
                          0.2222222222222222,
                          "#7201a8"
                        ],
                        [
                          0.3333333333333333,
                          "#9c179e"
                        ],
                        [
                          0.4444444444444444,
                          "#bd3786"
                        ],
                        [
                          0.5555555555555556,
                          "#d8576b"
                        ],
                        [
                          0.6666666666666666,
                          "#ed7953"
                        ],
                        [
                          0.7777777777777778,
                          "#fb9f3a"
                        ],
                        [
                          0.8888888888888888,
                          "#fdca26"
                        ],
                        [
                          1,
                          "#f0f921"
                        ]
                      ]
                    },
                    "colorway": [
                      "#636efa",
                      "#EF553B",
                      "#00cc96",
                      "#ab63fa",
                      "#FFA15A",
                      "#19d3f3",
                      "#FF6692",
                      "#B6E880",
                      "#FF97FF",
                      "#FECB52"
                    ],
                    "font": {
                      "color": "#2a3f5f"
                    },
                    "geo": {
                      "bgcolor": "white",
                      "lakecolor": "white",
                      "landcolor": "#E5ECF6",
                      "showlakes": true,
                      "showland": true,
                      "subunitcolor": "white"
                    },
                    "hoverlabel": {
                      "align": "left"
                    },
                    "hovermode": "closest",
                    "mapbox": {
                      "style": "light"
                    },
                    "paper_bgcolor": "white",
                    "plot_bgcolor": "#E5ECF6",
                    "polar": {
                      "angularaxis": {
                        "gridcolor": "white",
                        "linecolor": "white",
                        "ticks": ""
                      },
                      "bgcolor": "#E5ECF6",
                      "radialaxis": {
                        "gridcolor": "white",
                        "linecolor": "white",
                        "ticks": ""
                      }
                    },
                    "scene": {
                      "xaxis": {
                        "backgroundcolor": "#E5ECF6",
                        "gridcolor": "white",
                        "gridwidth": 2,
                        "linecolor": "white",
                        "showbackground": true,
                        "ticks": "",
                        "zerolinecolor": "white"
                      },
                      "yaxis": {
                        "backgroundcolor": "#E5ECF6",
                        "gridcolor": "white",
                        "gridwidth": 2,
                        "linecolor": "white",
                        "showbackground": true,
                        "ticks": "",
                        "zerolinecolor": "white"
                      },
                      "zaxis": {
                        "backgroundcolor": "#E5ECF6",
                        "gridcolor": "white",
                        "gridwidth": 2,
                        "linecolor": "white",
                        "showbackground": true,
                        "ticks": "",
                        "zerolinecolor": "white"
                      }
                    },
                    "shapedefaults": {
                      "line": {
                        "color": "#2a3f5f"
                      }
                    },
                    "ternary": {
                      "aaxis": {
                        "gridcolor": "white",
                        "linecolor": "white",
                        "ticks": ""
                      },
                      "baxis": {
                        "gridcolor": "white",
                        "linecolor": "white",
                        "ticks": ""
                      },
                      "bgcolor": "#E5ECF6",
                      "caxis": {
                        "gridcolor": "white",
                        "linecolor": "white",
                        "ticks": ""
                      }
                    },
                    "title": {
                      "x": 0.05
                    },
                    "xaxis": {
                      "automargin": true,
                      "gridcolor": "white",
                      "linecolor": "white",
                      "ticks": "",
                      "title": {
                        "standoff": 15
                      },
                      "zerolinecolor": "white",
                      "zerolinewidth": 2
                    },
                    "yaxis": {
                      "automargin": true,
                      "gridcolor": "white",
                      "linecolor": "white",
                      "ticks": "",
                      "title": {
                        "standoff": 15
                      },
                      "zerolinecolor": "white",
                      "zerolinewidth": 2
                    }
                  }
                },
                "title": {
                  "text": "판매량(Quantity) 분포 히스토그램"
                },
                "xaxis": {
                  "anchor": "y",
                  "domain": [
                    0,
                    1
                  ],
                  "title": {
                    "text": "판매량"
                  }
                },
                "yaxis": {
                  "anchor": "x",
                  "domain": [
                    0,
                    1
                  ],
                  "title": {
                    "text": "count"
                  }
                }
              }
            }
          },
          "metadata": {},
          "output_type": "display_data"
        }
      ],
      "source": [
        "# 판매량(quantity) 분포 시각화\n",
        "import plotly.express as px\n",
        "\n",
        "# 히스토그램 생성\n",
        "fig1 = px.histogram(df, x='Quantity', \n",
        "                   title='판매량(Quantity) 분포 히스토그램',\n",
        "                   labels={'Quantity': '판매량'},\n",
        "                   nbins=20,\n",
        "                   color_discrete_sequence=['#636EFA'])\n",
        "fig1.update_layout(bargap=0.1)\n",
        "fig1.show()"
      ]
    },
    {
      "cell_type": "code",
      "execution_count": 24,
      "metadata": {},
      "outputs": [
        {
          "data": {
            "application/vnd.plotly.v1+json": {
              "config": {
                "plotlyServerURL": "https://plot.ly"
              },
              "data": [
                {
                  "alignmentgroup": "True",
                  "hovertemplate": "판매량=%{x}<extra></extra>",
                  "legendgroup": "",
                  "marker": {
                    "color": "#00CC96"
                  },
                  "name": "",
                  "notched": false,
                  "offsetgroup": "",
                  "orientation": "h",
                  "showlegend": false,
                  "type": "box",
                  "x": {
                    "bdata": "AgMCBQIHBAYDBQkEAwMFAwYCAgMEBwcCAwIDBwIDAgYGAgMHBQkDAwQEAgICAgQDAgYGAgEHBQYFBQICBAECBgMEBQgEAgEDCAIBAwMDBQEDBQEHAwIBAgcDAgECAwIBBwMGBwMDBAYDAwgBAQUCAgYOAgMGAwEDBAYJBwMGAgcCAwUCCQMBBAIDBg4CAwMDAwcECwMIBQUCBwQGAwICBwECBQIDCAMJBgUDAwIHAgQEBwUBAgcEBQICCAMDBAYIAwUHAgMDAgMDAgECBwQEAgQJAQICBQMJAgYDAgYEBAQCAQUBAggHAgMCAwMCBQUDAgUDAgcCBgUEAgENBgQJAgUGAwMFAgMHBAIDBgEDBAcDAwIBAgQGAwUHBQUFBgcCBQcIAgMIAwMFAwUIAwQBAwIDAwYBBAIBAwMCAwQBAgYEAQIGAQEDAgQKBgICAwECBAIDBAQKDQwEAwMCAgECAQQEBgIEBQUIAgIDAggEBAIHBAUDBQgBCgQHAwMEBwMCAwMEAQEEAgIDAwMCAgQDBAQCAgYDBQMFBwEJAQ0CBwQIBQEEAQYEAwQCCAEGAgcFAgUCBQMHCAMBAwMEAwcBAwMGAwMEAgIEAgMCBAkDBQYFAgIHAgMBAwIEBgcFBgMFBQMCAgIFBQYBAgIFAwIDAggEAgkCAgIDAQUBAwMFAwIDAwIFAwIDAQIJAgMCBQMDAwEGAQMFBQIHBAMEBggJAgEEBgIJAwUCAQMCBAIEBQMHBQMCAQMIBwMDBwQHAwMOBAICAQQDAgMHBAEDAgQDAgIDAgMFCAIDBAIBAwMEAwIJAgMEAgkKAgICCQEDBQIFBAkHAgUDAwUEAwMDAwMFBAMCBwQBAgUCBAMECgIIAgICAgIHDgUDBQMDAwMFAwEIBQMFAwMDAwMDAgQEAgMCAwIBAQMBBQgEBwQBAgMDAwMCBQEEBQgBBAYCAwUCAwMGAwMDBQcCAQgCAwMCAwMGBAEFAgMDAgUBAQQKBAEDCwcBAwQEAgQDBAkDAwIDBgMGAgICAwUBAgcHAwMEAQUCAQIDAgIEAQgDBQIEBwcCBwUBAgkCAgMEAgMEBQQCAgcIAQgDBQMEAwIEAwcEAgIDAgECAgEEAgMDBAQEBAICBwMEBwIGBgIDAgoCAQICAgYCAgEBBAYFAwMCBwUDAQMEAwUCBAUCAwwHBgUDAQQIBwMCBwgCBQQDAwICBAcDBAcCBgEJAgQDAwECAwEFAgMFBAIDAwMDCAYDAgECBAICBAUDBQMHBgwDBgQCAgUBAgMCAgICAgIDAgQDAwYDAgMHAwICAgMGAQIFAgQDAgUDBQIDBQcDAQMFBwIHBwMDAwMDBQIEAwENAQUCAwUFAwMIAgIDAwIFAwMJBQMCAwIDBwMEAgMFCQ4FAwwBAgIJAgIDBAQCAwIDBwMDAQUEAQQHAwIFBwIHAgMBBAkIAQIHAQMBAgIJAgUCBwcFBAMBAwMDAwYCBQwDBQICAgECAgUFAgIHBwQDAwMBBgQBBQMEAwMIAgIHAgIEAQIBAgICAQIGAgcCBwMCAQMCAwEDBQQJAgMDBAIFBAYDBAIDAwcCAQUHBgQCBAgDBAQDBAIBCQQEAwMDAgMFAQMHBwIEAgIBAQMCAwcJCAMBAQQDAgIBAgICAgMFAgMBAQIEAwQJBgwDBgkNAgQCAwECAwMIAwQDAgUDAQYDAgQDCAIFAwEDAwQDAwEDBwUDAgQDBAUDBQENAgIFAgYDAgEDBwcDAgMCAQQCBggFAQIGAwIFBAMGBgEEAwECAwIIBAMCAwgCBQYDBQIHBgoGAwIFAwEDCwMBAgcEBA4CBgIEBQcDAwIEBQMIBQUFAQMBCQUDAgIDAwMDBwMFAwQCBAECAwIFAQMCAgIDAgIEBwMDBwMEBAICCQYFBAIFBQ4IBgEOBQYCAwUFBAICBAkEBwIDAwEHAwUIAwMJBAICAgIGAgQDBAMCAgIDBAYDBwcEBAcDAgEDAgcDAwIEAQYCAwcBBQUDCQMCAgQGAwQDAggJAwUEAQQCAwcFBgUIBgYCAgcCAwEDBgIDAwECAwcFBgMEBwQCAgEGAgcFAwQBBQIJBgEFAwUDAwQDAwUDAQIDBQIBAwIJAgIDAgUDAwQEBwUEAwMCDQQBBAICAwYFAwUBBAMCAgIHAwEEAwIBAggCAgUDBQYFBgMCAgICAwUEAwICAwIDBwICAgYBAgIGBAICAwcDAwIFAwUDAwIDAwQDAgQCAgMDAwEDAgQBAwICAgICBgUFBQIEAwICBwYCCQIFAwIGAgIBBQ4GBwICBQUECAQCBAMDAgQFBAMIAgMEAgUDAwIFCAQCAgcCCAMCAwICCQICCwYGAgMEBgMCAQkCBAUEBwIGAgkCAQkFAwECAwQGCAMDAgUBCAQCAwgDBgUEAwEBBwIHBwcHBwMHBQIDAgICAgIGBAMBCgQBAwYCCAEDAwcFBwMEAQIBBAIDBgIDAgEFBQcCBQMFBAIBAgQEBQMDBQYCAQUCAQECAQMEAwkDBwQHAgMCCAQDAgEBAQMCAgIEAwYCAQICCAIGBAIDBwMFAgMDBQIFAgIJAwMCAwIBAQMBAwUFCAMCBwQDBAIJBAICAgEBCAMGBQMCAwQDAwUGAwUDAgMFAwQDBwQCAwMFBgIEBAIEBgMEBAMHAwMEBgIDBQQEAQUFBwMFAwcHAgMCBAIDAQIEAgIEBgkDAwQFAgIEAwUEAwIBAgMDAgMHAgUGBwMCAwEHAwQIBQYDBQcBAgMFAg0DBAMJAwQDAQUCAwcDBQcFBwICBgIEBQUDAgIDAwUBBQgEAwMHAwQEBAIDAQEDAwUEAwQCAQEHAQUDAwIJBQcDAwQECQcDAwcEBQQDCQIDBgIHAwQGAQUDBwMCAwYDAwQDAQEDAwIFAQcDAwMCAwMEAgkFCAcDBAUFCAICBgIJAwMDBAMFAgMDAQYHAgMBAwcEBAcKBgEBDQIEAgQBBAIIAQMBAgEBAgIFBQQHAggFAgEHAwICAgEDAgUFBgMDAwIDAgcCAQMBAwIBAgICAQEFBgcCAQMFAQQCCAIHAgcDAgUFAgMGAgEDBAUBBwQDBAQEAwIDBQEEBQEDAgIFAwcDBAcDBAUMAwECAwQCBQUBBgMHBAQCBwUDAwkFAgUGAgIDBgcFAQMHBAMHBAUCAgQBBAYCBAgBCQIDBAIFAgIHBAkEBAICAgEHCQQCAgIFAgYHBQYFBwkHCgUDCAIFAgMFAgUDCgIBAwIHAQINBAQHCAIHBAIDCQIEAgUCBAUGAgIFAwUFBgMDCAgBBgMCAwMFAgEBAQQFAQgEBAIFBwQDAwECBgQFBQICAwMEBAYHBQUIAwIBAwIEBAIEBQgEAwYEBgUEAgIJAwcGAwIBBAkCAwYCAgUEBwQGBAIEAQYDBwMDBAQBAQUIAgYCBAcCCAIHBQIEAgECBAUJCAIEAgcFAwUCAwMIAwINAwICBwEBAwIDAggCAwMCAwIHAwMBBAEBAwEFAgMDAgMGAg0DBAMFBAQIBQEEBwoDAgIBAgUCBAMDBAEGAQgDAwIGAwUDAwMDAgIFAwQLAgIBAwIDAQEEAwYCBQMFAQcCBQUEAwEJAwIFBQQDAwMFAQIEBgQDAgMDAwYCAwQHAwIECQMFAgIDAgMDBQUFAgUEAQcDBAECAQQDBwMCBAIFAgYDAQMEAwMLAgIDBQUCAwQEBQEFAwUCAQgCBwMFAwMCAwcCCAMECgICBAQCBQcFAgMBDgQHAwQCBQUBAwMGAgICBQIJBgMEAwUBAgYFAwMCAggCAgIGBQIFAwcCAQMFAgEEBwIDCAMDBgMGAQQBBAMHBAIEAwkHBAMHAwQFAwIDAwEIAwIHAgIDBgMFBAIFAwIFBQIDAgULAwUEAgIEBwUHAwICBQMDBAUEAwMCBAEFAgcCAwEBAQMDBAQCAgEBAwEHBwUDAQcDCQEHAw4FBAUCAgICAQMBBAQDCAICBQIGBAMGCAIEBQIEBwIGBAIEBAMBBAIJAQQFBwMEBAUEAQQDAgIFBAEDBQMDBQUFAgYEAggDBwMDAwUCCwMDAgUEBAEEBAYHAgUCAwUCAggFBQEHAgQCBAICAgUCCgICAwgDAwgIBQcGBAcDBQICAwUCCAIDAgMBBAICAgUHBwUDBAIIAgQEAwMGAQcGBAYDAwEIAQMFBgYFBAUCAwIFAgIEAgQCAgUEAgMFAwECAgMDAgUGBwQDBQUDBgICBwIDAgIFAwUCBQMJAgMFCA0GAgUDBwICAgMCBQIDCQMDAwcBBAMBBwMGAwMDBAcDBAgBAggFCAUJAwcLAQIGAwMCBQQBAgICBgIDAQEFAwECAQEDAwUHAwUNBQMDBQMCAgcDAwIBAwIDAgIEAgcDBAIDAgEDAwgFBgMGBwECBwUCAQMHAgMDBQUBAgMCCAsHBAMBAQYDAwMCAwMCBgUHBQICAwUJAwcDBQMDBQEDBQgCAwMDAQQEBAMJAwUDAQMJBAUFBQQDAwICAQIBCQICBAMDAgMCAgMCBAUGAgMFBAIJBgMJAQMHBQQDAgYDAgQCAQYEAQQBBgMDBwQCAgIIBAIJAgQCAgECBQICAggHBAIECgQCBgMCCQMGAgMCAgYBDgMHAgUCAgIFAQICBAMCAwMCAgIEBwEBAgIJBgMCAgIBAgUFCQIHBgIFBAMEAQICBgUDAgQFBAIGBQMDCQIDBAIEBAMCAgcJAwMDCQIEBwIHAwgGAwMIBAMFBQQEBQIDAwMFBwMCAQgIBwIBCAMGCAECBgcCBAQEBQIEAgIDBAIGBAEBAgoDAQEBBQgBAgICAQIDAgEMAQMDBQEDBgMBCQIFBQIEAwMDAwICAgIGBAUCAQUDCAUCDAIBAQcDBwIIBAcCAwQHAQcHAgIBBQEEAgYGBQQDCQIBAwQDBQMKAgcEAwUKBQIDAQYCAwIEAwIDAwQJBgcDAgYFAgEFBAcGAwIFBAECBgMDBQMCAwcDBQEDAgUFAgUFBAIIBQMCAgIDAgcBBwQBAwICAQIBBAkDAwUDAgQCBQMDAgUHBQcCAgIFAgMDAgEFCQIGAgMDAwIHBgMCAgMDBAICBwEDBQYDBgMBAwQDAwUBAQMCBAEFAgMFAQMCBgUCAgMHAwMCBgYCCQoFAQICAwIFAwIDAgMJAwMCAgIGBQMEBQcCCAEFAwUDBwMBAwMEBQIGCQEHAgQDAwcCAwUEBAICBgQDBAMCAwICBggHBQUDAwICAgIOBwQEBAUCAQUDAwIFAgIEAwQEAwYFAgMCBQUBBwMCBQUCAwMCBQIBBQcDAQECAgIGAgICAQQDAwIDBgUDAwMDBAcICgkEAgUIBwQDAgIDAwQFAQMEBQUCAwMDBgMHBQEGBQsFAwMDAQQGAgsCBAQDAwUFAgkDAwMFBQQEBwIIAwQGBQQDBgIFBAYDAwkGBQMCAwoDAgMCCwQGAQUHAwMDAQkBBQMMCQkEAgIGBAQCBAMDCQEDAwMCAwMJAgMDAgcEAwUFBQIBAQgCBQICAgMCAQMBAwMFAgMHCAQGAwIDAwYGAwQFAwMJAwUHBwYDBQMJBwMBAwMBAQQFAwMEAwIGAwMDAgQDBwkDBAIGAwcCAgICBQMFCQUEAwMBBgcBAgEDBQIDAgUDBAQBAgYHBQICAgMFAQIDAgIDBAMIAgIGBQIDAgMEAQEJCQMGAQMJBAcBAgQDAwMDAQUFBgQHBwICAwQDAgICBQQBAwgDBwMFBAsECQEBAgIHAgUCAgEDAgIBAQUDAgkBAwUDBA0CBgIFAQcEBQMCBwQDAwQCAgMDAgYDAQIDAgMDAwUJAwUBBQYCAQIDAwECAwYGAgQCAwIIAgIEAggHBAIBAgIDAwQEAwoEBgUCBQIFBgUDBQICAwMFBAIFBAMHAgMDAgUBAwICAgUDBQIDAwMCAwECBgMDAwECBQgDBAUDAgMFBgIDBgMEAwUBAwEHAwIEAQUFBQUGBAUCAQMFAgUEAgIFAgECAgQDAgEJAgICAwEDAgMEAgMCBQcCDAMCAwMFCQMDAgIHBgkGBAICBQUGBwIDAwEBAwICBgEBBAUHBAgDBAMHBgIFBAQCAgMDAgIDAwMEAgcHAgkCBwIDAQQCAwMDAwQEAQIDAwMFBAYDBgQGAwMCAgcEBQIBAwsGAwgCBwUGAwMHAgIDAgMDCAMFAQkEAQQCBwEDAgcIBAMFAwkDAgMGAwUDBAIDBQIFAwIFAwYBAwQDAggBBAQCAgIDAwkFBQQCBQECAgICBwMGAwEJAgQCCgcFBAQBAwIEAQwCAgkJBAQCBwkFAgMDBQIEAwIJAwICAgECBwIEBQMCAwEHAgICAgMHBwIDAQMCAwQDBwMGAwMDAwICAgIBAgMDAgQCAwMDBQMDAgQCAwIHBAICAgIDBAEFAwQDAwgBBQIEAwMHAQQDBwUFBAMECQUFAwMEAQMDBgMFAgIIAQkCCgMDBAIDBAMDAwICBAIIBgYHAwMEAgMDBgMCAwUCBAIGBAIDBQQCAwULAQIFCAYDAwMDBAkHAgYBAwMGCwMDAgcCBQMBBQIDAwIECQQFAgUDBgMGAwICAgECBAICCAQBBgMDBAUIAgMHAgUCAgMHAwMCAgICBgICAQMDBQMCAQIDAwcFAwUJBAIBAgICBAcDAwIBAgcDAgIJAQEBAwMEBAMCAgECAgICAgkFAgYDAgQCAwUFAwYCAwQFCAgFBAEEAQUBBQQCAwUCAwEGAwcDBwYHBAMDAgMCAwQCAwIDAwMBCAMBBQMCBQQCBwMECQUEAwUHAgICBAUDCQUGCQIJAgMDAgMHBQEDAwYCBAIFBQIDAwEEBAMEAgcBAwIBAwMEBQQDAgIDAgEDBgMEBAkFBgYECQMDAQEDBwkFAgMCCQcEAgEDCQgDBwQFAgQDBQIGCAECBAQEAwMCBQEDBAMCAwICAggCAwIDAwMDAwUDAwECAwIDAgICBwMDBwYIBAcGAgIFBwQDAwUDAQMHBwMCAgECBQEDAwMDBQUCAwUHAwcFBwMFBgICAgUBBwYBAwMDAgMCAgMBAgMCCAMEBQQDAgICAgYFAwMCAQQDAgMBBAQFBAcEAwQFBgQBAgIDAwMJCAMEAgUGAQEIAgEIAgMKBgYCAgUDAgMFBgQCAgQJAgEEAwcEAgIFBgIDAgIBBQQEAwEEBwUGAgUBBQEEAwIDBQkEAggGAgUBAgIIBQYCBAEDBAEDAgMDBwIGAwcEAwYFCAIDDgkDAwIDBgIHBgcFDAMFAgIEAQUBAwQBAwEHAwUGBAICBwIDAgMFAgUGBQMCAgEEBAUDAgUDAgECAQ0DAQYFAwUCAgUGAQIFAgYIAQMKBAUFAwMDAwUFAgcCAwUDAwEBAgQCBAMEAwMDAwICBAQEAgIDAgYCAQMDBAIEBQICBAMDAgMECgIDBQQGBAwCAQIFAwQGAwMDAwMCAwICAwYGAgUCBAMHAQYDBwECAgIBBQMBBQQEAgUBAgMBAwQDAQIGAwIFCQEFAgQDAwUCAwICAQcCAwIDAwIFAwEFBgIBBQICAwIJAgUFBgIEBQECCwQCAgkGAwkDBgIHBQUDAwYDCQQEAwUFDgMFBQIFAQEEBAIDBQQDAgkCBwECAg4DBAMCAgIGBAMHAgEBAwcFAwUGBwMJBQEFAwIJAQEGAwUBAQEDAwMDAgcDAQMFBQMHAwUFAwQCAwkHAwMCBAQJAwIDAgIDAgECBAMHBwIDAwUDAwUEAgQFAwMEAQMECgYDBgYBBAMEAQIHAQMBAwEDAQQEBgYHBwUDBwECAQIJBAMCAgQCAgMEAwMCAgQEAgMDAQQDBAkEAgEFBAMEAQICAgEEAwUFAwUEBQUCBAUEBwUCAwIDAQMDAgcDAQUCAgICAwIDAgUBBgQHAwEHAwMHAwYEAgkJAgMDAwECAgECAwEDAwUEBAEJAwMEBQQBAgMDAwMDBQcCBAYFAwICBAIHCggBBAMDAgMDAgUDAwEEDAIEAQUEBAUEAwIGBAUCBAUFBAMECQIEAwYDAgECBAMBAgUCAgoFAgICAgYGAgQGAQUHBwMFAgUEAwMEBAMCAQQCAwMDAwYDAwUIAgcDAQUCAgMCCAIFBQIDAQQFAwIEAwYEAwMDAgMHAwMJBQcFBQMEBwEIAgUCBAMFAwMGCAgBAQMCAgIDAgYCAwMJBQYJAgEGAwECAwIJAgQCAQMCCwIFAwMCBAIFAgMHAgYJAgYEAwMDCAICBAUCAQYEAwIOBQIEAwYGAgMFBAIGAwQEAgIGBQoEAgMBAwMMBAMEAwUDAwIDAgIDAgUCAgQHAgQCBQMCCAUKAwYGBAkDBQUFAgMHAwIEAwUIAgcEAQIJBwMDAgEDCAMGAgcJBAcDAQQDBAMEAgMLBQUDBAMCAQgCAwYDAgEDAgEBCQMIBAECAwQDBAcDBQIJAgUBCQUHAwMFBwICAwICAwUFAgMDBgQIAgMDAQYFBAMDAwIFAwEHAQMDCAEDAwEEAgMCBQYCAwIDBQQBAwUEAgMDBQQFBAUEAgQEAwICAwUBAwIFAgEBAgUFBAEGAgcFAQgBAQIFBQIEAwMCBQICAQUIBQQEAggBAgIFAgICBgQBAgIFCAYCAQMDAgcFBQMBAgMGBQEEAgIDAwMHCAMEAQIDAgYHAwUFBAUDBAUFAwIFAwYFAQECAgEDAgIHAQcCBQUDAgUCBgcFBQYCBwoDBAMCAQMFBwICAgYEBAMOBQQCBQQCAwIDCQ4GBgcDAwMEBAUDAwYEBwIDBQoCAQQDBwIBBQUEBAMDBQEFAwoDAwEFBgIDAQUCAQYDBgQCBQQDAQEBCQUBBQMCAwQEBQIDAwMCBAgIAwYHAQMDAwYEBQYDAwIDAwUCBwUBAQIDAwgGAwMHBAYDBgMCAwUDAgYEBQYFAwYIAQQEAg4FAwUBAQsEBQMGCAYCCQQHBAMCBwIFAgQFAwECBQIJAgIHBQcFBQICBQICBwQGAgUDBwEEAwIGAQIFBAQFBAYLAwMDAwECAgMEBAIDAwcDBAMIAwYDAwYGBAQDBQIDBgMDBAUGAwQEBAICAwMJBAMCAwMGBgUFAQMCAgICAgQFBAYCAQMCBQIDAwIFBwUFAwIBBgQDCQMCAggEAwEFBAMHBAUBAwIDAgIBBQECAwICAgIBAwMCAQIECAIDBQMFAwICBQkCAgUCBwIDBAMBAgUBBAUFAwMDBQQCBAECBAYHBAMEAgMDAgULCAMCAgUDAgkCCQMBBQMCAwYBBQUJAwUIBAIDAwgHAwQEAgIFAwcGBwUEAgUBAgICAwIDBAIBBgQFAwIHAQUCBwwDBAMHAQECAgIDAgIEAgUEAwUEBQICAwcDAgMEBQIFAQEDAgMFAwUCAgkDBQICAgQCAgQCCQUEAwUBBAQCBQUCAwUDBwUEBAQCAwIEBwIBAgICAwEFAgEDAwIDAwcDAQMJBgkGBAIFAwIDAwMDAwICAwIDAgUEAgIBBAMCBQIBBAUDCQcDAgIDAwIDBwYCCQECAgEFBAIFBwkEAwMFAgkFAgMEAQMDAgUGBgIFCQYDAgMCBgMJAgIEAgIFAgYCAgEDAgEHAgMDAwMFBAQHAwQCAgMFAgQDBAUFBQEDAQMDAwICAgcGBQEEAQIEAwUIAwIEAwoDAgMFBQMIAwIDAwMCBQkCAwQCBAMDBAgGBAIFAgICAQcFAwICCwIEAgMMAwMFBAMCBAIDAwMDBwQFBQYDAgIECAICAwMHBwcGAgkHBQMFCAIDBAMDBQQCBgUHAQcFBAcCAwQCCAIEAgMFBwoCAwcCBQMFAgQBAwMJAgkCBwECBgUEAgYDBQICAwQCAwMFAgIIAQMBAwcFBQMCAgMFAQIEBwYBBwIDAgIBAwICDQMGBgQBAQMGBQcIBQUIAQIGAwMDAwMIAgIHAwICCwMHAQMEBgMDBQUCAwIDBg4DAgUDBQMFAgMGCQQBBwQFAwIDBQgBAgECAQIFAwUBBQUCAwQDAgIDAgIEAwMFAwYFBQUFAgMCAwECAQUFAwUFBgIEAgIBBwkEAgkCCAIIBAMCBAIFBAkCAgIEBAEBBAcBBQUJBAIGBgMFAgIDBAQDAwMCAQIEAgICCQUFBwUCBQQFAQICAgYCBwUGAwYDAwMEAgUDAgIBCAgCBgYFBgcFAQMDBgMEBwUGAwMDBgEEAgQBAwQJBAMFBAECBAIBAwgDAwIHBQMEAwMHCQIDAwcEAwIDBQUGCgIDAgkCBAcDAgECAwkCBQEFBQQDAQUJBgIFBQcHCAEBAQMDBwIGBgQEBQMCAgQJAwMCBAQEAgQEBQMHBQUEAQkDBgMCAQMFBAMDBAMEAgYBAwkBCQEIAwMCBgQHBQQCAQMGAgIDBAMDAgMDBQMCAwYDBQIEAwICAwEBAgMDBAMEBAIEAwMECQUCAQIEAgMDAgYDAgIDAgICBwUEAwMCAgEJAwUFAwUCAgIFAwMBAwMDBAQDAgoCAgEDAwgDBQIFAgQFAwEDAwIEBAECAgcDAgEDAwYCAgMGAwgGCQMDBQEEAwMDAwMCBQICBAICAwQCAwsEBQwCAwMCAgICBAQCBQMEBAICAwQCBgMCAgQCBAICBgECBAIGBggCBwMFAQUJAgUDAwUCCAcGBQIBBQICAQoCAwgDAgICBQMEAQICAgMFAwQHAwEDBgMDBQIDAgMJAwgCCgkHAgUDBQYGAwIEBAIEBQQFAwEFCAQECAQDAQEEAwICAwMDAwMBAgQFBQMFBQQDAQIEAgMGBgUMBwQEBgcCAwIMBAMFBgcFCAEDBgkBCgIDBQUBAgEBBAYDBQMCCQIGAwMGBgIEAQkFAwMHBQEGAwEFAgkFAwIFAgQDAgMCAwYFBQQEBQ4CAwEDCAYDBQcKBQMEAgkHAgUDBAIFBQEDAwIHBwYBBgQEBgIFBAIFAwEFBAIDCwMEAgMCAwUCAgQDAwMHBwkICgQDAwQEBgIEBwICAgMEAgICBQMFAgYCBgcDAwcHAgMHAQYEBAYFAgQIBQMBAwEECQMBBgQHAwICBAUDBQEFAgMEAgEBBgQCBQMEAQECAwMCAwQCBgIKAQICAwMHBQICBAUCAQIEAgMIAwMFAgICAgUCAQQIAwUGCQEEAwQDBwIBBAQCCAQBBwkDAgMDAwMCAggDBgUHBgIBAwQCCQICAwMCBQMCBAUHAgkDAwQHAwIHAwEIAQICAgUFAwQHAwEEAQUDBAkCBAUGBQMHBQMDBQEKBQECBAUFAgMHAgYCAgUDAgQEAgUDAgEDAQYGAQEDBwMCBAMCAwEFAgYCAgMFAwMHBQIBBQMCBAQFAgcFBAQHBAoDAwUDAQQCAwUCBQgCAgYFAgoEAgUCCwIEAgMEAgEDBAQCAwgBBQQDBQIDAwMDBQMCAwQDAwIGBAIDAQEEAgEEAgICAwIFCgICAwUIBwMIAwEDAwMCBgICAwIECQUDCwECAgIEAwwCBgEDAw4BBwIGAwICAgQCBwMCAwQFAwIFAgcCAQQCAwQEAwQDCAcHCQMJAwMCBQMGAwQGBw0CAwUCAwQBAgIBAwICBQIHBQUCAgMCAwMEAgEEAwMCAQcCAwUCAgQCAgUCAwIDAgMHBAUCBAYFAwMFAgIEBQYDAgUFBwUDBQYLAQcBAwIFAwUDAgIEAgECAQYFBAYHBQUFBAEEAwICAwMGAQUIBQcFAwIHBgIFAgMCAgUFAwEDBAIICAEFAggBAgIEAwMDAwYFAQQCCAMCCQIHBgQDAwIDBwMDAwUEAwUEAgUDAQMEAwICAgMCBAMGAwICCAMDAQgBAgICAwUEAwQEAwYCAgUIAwMCBgQDAgUDBAMCCQcCBQUEAgIFBQICAgMDAwIDBQUEAwUDAgYEAgYEAgICAgMDBQcCAgoCAgECBAMFAwIDAwIFAwMFAgEKAgIEBQMDBgIFAQMEBAQGAwUCAgUMBAICBQIBBAMLAwcCAwQDCAIJAwcCCQIDAwMEAwIDBAMCAQMJBwgDAwkCAgYEBAIGAgIDAwQEAwMFBAIDBQMCAw4FAgUCAwcDAwMDAwUBBgIDBwUEAgMCBQUFBAIDBQIBBwEJAgIBBwcCAQICAQIDBAUCAwUCAgIHBQIHBQUCAgcFAwEDBggGAQICAQQCBwUFAgEDAwIGDQMBAwQDAwMCBAQCAgQEBAIDDQEEAwMCBQUFAwMCAgQCAgILBwMHBAQGDQMEAgIDAwMCAgUGAwQDBAEGAwIDBQICBQMFCAMGAgYCBwUHAgMDAgUKAgMCBwIFAgQDBQICAwQHBQcBCQMEAgMHAwICAwUDAQMCBQcCBAIJBQMCBg0EBQICBwIGAg0JAwUHAwMCBAEDDgICAQMDAwMDAgEDAwMEAgEBBQIEBgICBwIHBAIFBgEBAQMFCAMIAwEBAwMCAwcFAQIHAwMEBAYCBAMHBAMJBgkDBAcDAQIHAwMGAQIFAwEBBwgCBQIBAwIDAwIDAwMFAwcCAQMHBgMEAwcGAgQHAgIFBAIDAQMDBgEDAwEGAwQCBAMCAQIDAwEFAgIEBggCBAcCAwQBAgIEAwQIAgMEAgEEAgMEBAMCBQEGAwUDBwUFAQIFCAIEAwIDAwICBQMBBwYHAwQCAgYCAwQDBQcGAgMCAgMBAgEFBAgEAQMBBQEIBQICBgEJBgQCAgYFAgIJAQEFAQUCAgMDAgMCBgYFAwMGBQUIBQECAgcDBAICBAICBQICBAMGBQQCCQMGAwIBAwUDAQMGAgQGAgYCAgICAQIFAgcCAwUDBQICBgoJAwMCBwgDCQcCBgEBAwoDAwkBBwICBQMGCQMBBQYOAwMDBAIDAwMFBQMGAgICAg4HAgIDAgUCBwMFAgMCAgICAwMGBAcFAgcCBQUCAwMCAgcFAgQGAgIBBQMBAgUDAQUFBgEEAQUEBAMJBQUCAgMCAwMBCAUFAwQEAwYDBAkEAgEHAgIDAwUGAgQCAwMCAwcCAwYIAwcJAgQCDQUFBgIHAgIEAwgJAgYCAgMBBAQFCQIDAwIDAwcDAwcFAgUBBAYDAQIJAwYIAgEGCQUEBAMLBgIEBQQDBAMCAQUDAwMDAgMCAgYFAgIEBQUCAgMDDQIDBwUCAgUIDQIBAQICBgUDBQUDBAICAgQCAgMBAgIDAgUEBQIDAgIFAgEFBgUEAgUBCAMECQUCAwIFAQIDBQUDAQIGAgEDAwICBAIDBwIBAQIIBAIFBAQDBQUHBAcCAwoCAwMEAwQCAwMEBwEHBAIFAgEDCAIEBAcDBQUFAgIDAgUEAgYIBQIEAgQBBAIHAwICAwICAQICBAUDBwMDDQIDAgMCAQMCBwUEBQsCAwIBAwMBAwIHAwMFAwIHAwMCBQEDAQUHAwQDAQgCBAMFAgQHAwMDAwIFBAcOCQUDAQMGCAMBAgIBAwIFBAICAQIEAgEBBwUCBwIFAgUHAgIHBA4BBQcCCgQBAQUDAgIEAg==",
                    "dtype": "i1"
                  },
                  "x0": " ",
                  "xaxis": "x",
                  "y0": " ",
                  "yaxis": "y"
                }
              ],
              "layout": {
                "boxmode": "group",
                "legend": {
                  "tracegroupgap": 0
                },
                "template": {
                  "data": {
                    "bar": [
                      {
                        "error_x": {
                          "color": "#2a3f5f"
                        },
                        "error_y": {
                          "color": "#2a3f5f"
                        },
                        "marker": {
                          "line": {
                            "color": "#E5ECF6",
                            "width": 0.5
                          },
                          "pattern": {
                            "fillmode": "overlay",
                            "size": 10,
                            "solidity": 0.2
                          }
                        },
                        "type": "bar"
                      }
                    ],
                    "barpolar": [
                      {
                        "marker": {
                          "line": {
                            "color": "#E5ECF6",
                            "width": 0.5
                          },
                          "pattern": {
                            "fillmode": "overlay",
                            "size": 10,
                            "solidity": 0.2
                          }
                        },
                        "type": "barpolar"
                      }
                    ],
                    "carpet": [
                      {
                        "aaxis": {
                          "endlinecolor": "#2a3f5f",
                          "gridcolor": "white",
                          "linecolor": "white",
                          "minorgridcolor": "white",
                          "startlinecolor": "#2a3f5f"
                        },
                        "baxis": {
                          "endlinecolor": "#2a3f5f",
                          "gridcolor": "white",
                          "linecolor": "white",
                          "minorgridcolor": "white",
                          "startlinecolor": "#2a3f5f"
                        },
                        "type": "carpet"
                      }
                    ],
                    "choropleth": [
                      {
                        "colorbar": {
                          "outlinewidth": 0,
                          "ticks": ""
                        },
                        "type": "choropleth"
                      }
                    ],
                    "contour": [
                      {
                        "colorbar": {
                          "outlinewidth": 0,
                          "ticks": ""
                        },
                        "colorscale": [
                          [
                            0,
                            "#0d0887"
                          ],
                          [
                            0.1111111111111111,
                            "#46039f"
                          ],
                          [
                            0.2222222222222222,
                            "#7201a8"
                          ],
                          [
                            0.3333333333333333,
                            "#9c179e"
                          ],
                          [
                            0.4444444444444444,
                            "#bd3786"
                          ],
                          [
                            0.5555555555555556,
                            "#d8576b"
                          ],
                          [
                            0.6666666666666666,
                            "#ed7953"
                          ],
                          [
                            0.7777777777777778,
                            "#fb9f3a"
                          ],
                          [
                            0.8888888888888888,
                            "#fdca26"
                          ],
                          [
                            1,
                            "#f0f921"
                          ]
                        ],
                        "type": "contour"
                      }
                    ],
                    "contourcarpet": [
                      {
                        "colorbar": {
                          "outlinewidth": 0,
                          "ticks": ""
                        },
                        "type": "contourcarpet"
                      }
                    ],
                    "heatmap": [
                      {
                        "colorbar": {
                          "outlinewidth": 0,
                          "ticks": ""
                        },
                        "colorscale": [
                          [
                            0,
                            "#0d0887"
                          ],
                          [
                            0.1111111111111111,
                            "#46039f"
                          ],
                          [
                            0.2222222222222222,
                            "#7201a8"
                          ],
                          [
                            0.3333333333333333,
                            "#9c179e"
                          ],
                          [
                            0.4444444444444444,
                            "#bd3786"
                          ],
                          [
                            0.5555555555555556,
                            "#d8576b"
                          ],
                          [
                            0.6666666666666666,
                            "#ed7953"
                          ],
                          [
                            0.7777777777777778,
                            "#fb9f3a"
                          ],
                          [
                            0.8888888888888888,
                            "#fdca26"
                          ],
                          [
                            1,
                            "#f0f921"
                          ]
                        ],
                        "type": "heatmap"
                      }
                    ],
                    "histogram": [
                      {
                        "marker": {
                          "pattern": {
                            "fillmode": "overlay",
                            "size": 10,
                            "solidity": 0.2
                          }
                        },
                        "type": "histogram"
                      }
                    ],
                    "histogram2d": [
                      {
                        "colorbar": {
                          "outlinewidth": 0,
                          "ticks": ""
                        },
                        "colorscale": [
                          [
                            0,
                            "#0d0887"
                          ],
                          [
                            0.1111111111111111,
                            "#46039f"
                          ],
                          [
                            0.2222222222222222,
                            "#7201a8"
                          ],
                          [
                            0.3333333333333333,
                            "#9c179e"
                          ],
                          [
                            0.4444444444444444,
                            "#bd3786"
                          ],
                          [
                            0.5555555555555556,
                            "#d8576b"
                          ],
                          [
                            0.6666666666666666,
                            "#ed7953"
                          ],
                          [
                            0.7777777777777778,
                            "#fb9f3a"
                          ],
                          [
                            0.8888888888888888,
                            "#fdca26"
                          ],
                          [
                            1,
                            "#f0f921"
                          ]
                        ],
                        "type": "histogram2d"
                      }
                    ],
                    "histogram2dcontour": [
                      {
                        "colorbar": {
                          "outlinewidth": 0,
                          "ticks": ""
                        },
                        "colorscale": [
                          [
                            0,
                            "#0d0887"
                          ],
                          [
                            0.1111111111111111,
                            "#46039f"
                          ],
                          [
                            0.2222222222222222,
                            "#7201a8"
                          ],
                          [
                            0.3333333333333333,
                            "#9c179e"
                          ],
                          [
                            0.4444444444444444,
                            "#bd3786"
                          ],
                          [
                            0.5555555555555556,
                            "#d8576b"
                          ],
                          [
                            0.6666666666666666,
                            "#ed7953"
                          ],
                          [
                            0.7777777777777778,
                            "#fb9f3a"
                          ],
                          [
                            0.8888888888888888,
                            "#fdca26"
                          ],
                          [
                            1,
                            "#f0f921"
                          ]
                        ],
                        "type": "histogram2dcontour"
                      }
                    ],
                    "mesh3d": [
                      {
                        "colorbar": {
                          "outlinewidth": 0,
                          "ticks": ""
                        },
                        "type": "mesh3d"
                      }
                    ],
                    "parcoords": [
                      {
                        "line": {
                          "colorbar": {
                            "outlinewidth": 0,
                            "ticks": ""
                          }
                        },
                        "type": "parcoords"
                      }
                    ],
                    "pie": [
                      {
                        "automargin": true,
                        "type": "pie"
                      }
                    ],
                    "scatter": [
                      {
                        "fillpattern": {
                          "fillmode": "overlay",
                          "size": 10,
                          "solidity": 0.2
                        },
                        "type": "scatter"
                      }
                    ],
                    "scatter3d": [
                      {
                        "line": {
                          "colorbar": {
                            "outlinewidth": 0,
                            "ticks": ""
                          }
                        },
                        "marker": {
                          "colorbar": {
                            "outlinewidth": 0,
                            "ticks": ""
                          }
                        },
                        "type": "scatter3d"
                      }
                    ],
                    "scattercarpet": [
                      {
                        "marker": {
                          "colorbar": {
                            "outlinewidth": 0,
                            "ticks": ""
                          }
                        },
                        "type": "scattercarpet"
                      }
                    ],
                    "scattergeo": [
                      {
                        "marker": {
                          "colorbar": {
                            "outlinewidth": 0,
                            "ticks": ""
                          }
                        },
                        "type": "scattergeo"
                      }
                    ],
                    "scattergl": [
                      {
                        "marker": {
                          "colorbar": {
                            "outlinewidth": 0,
                            "ticks": ""
                          }
                        },
                        "type": "scattergl"
                      }
                    ],
                    "scattermap": [
                      {
                        "marker": {
                          "colorbar": {
                            "outlinewidth": 0,
                            "ticks": ""
                          }
                        },
                        "type": "scattermap"
                      }
                    ],
                    "scattermapbox": [
                      {
                        "marker": {
                          "colorbar": {
                            "outlinewidth": 0,
                            "ticks": ""
                          }
                        },
                        "type": "scattermapbox"
                      }
                    ],
                    "scatterpolar": [
                      {
                        "marker": {
                          "colorbar": {
                            "outlinewidth": 0,
                            "ticks": ""
                          }
                        },
                        "type": "scatterpolar"
                      }
                    ],
                    "scatterpolargl": [
                      {
                        "marker": {
                          "colorbar": {
                            "outlinewidth": 0,
                            "ticks": ""
                          }
                        },
                        "type": "scatterpolargl"
                      }
                    ],
                    "scatterternary": [
                      {
                        "marker": {
                          "colorbar": {
                            "outlinewidth": 0,
                            "ticks": ""
                          }
                        },
                        "type": "scatterternary"
                      }
                    ],
                    "surface": [
                      {
                        "colorbar": {
                          "outlinewidth": 0,
                          "ticks": ""
                        },
                        "colorscale": [
                          [
                            0,
                            "#0d0887"
                          ],
                          [
                            0.1111111111111111,
                            "#46039f"
                          ],
                          [
                            0.2222222222222222,
                            "#7201a8"
                          ],
                          [
                            0.3333333333333333,
                            "#9c179e"
                          ],
                          [
                            0.4444444444444444,
                            "#bd3786"
                          ],
                          [
                            0.5555555555555556,
                            "#d8576b"
                          ],
                          [
                            0.6666666666666666,
                            "#ed7953"
                          ],
                          [
                            0.7777777777777778,
                            "#fb9f3a"
                          ],
                          [
                            0.8888888888888888,
                            "#fdca26"
                          ],
                          [
                            1,
                            "#f0f921"
                          ]
                        ],
                        "type": "surface"
                      }
                    ],
                    "table": [
                      {
                        "cells": {
                          "fill": {
                            "color": "#EBF0F8"
                          },
                          "line": {
                            "color": "white"
                          }
                        },
                        "header": {
                          "fill": {
                            "color": "#C8D4E3"
                          },
                          "line": {
                            "color": "white"
                          }
                        },
                        "type": "table"
                      }
                    ]
                  },
                  "layout": {
                    "annotationdefaults": {
                      "arrowcolor": "#2a3f5f",
                      "arrowhead": 0,
                      "arrowwidth": 1
                    },
                    "autotypenumbers": "strict",
                    "coloraxis": {
                      "colorbar": {
                        "outlinewidth": 0,
                        "ticks": ""
                      }
                    },
                    "colorscale": {
                      "diverging": [
                        [
                          0,
                          "#8e0152"
                        ],
                        [
                          0.1,
                          "#c51b7d"
                        ],
                        [
                          0.2,
                          "#de77ae"
                        ],
                        [
                          0.3,
                          "#f1b6da"
                        ],
                        [
                          0.4,
                          "#fde0ef"
                        ],
                        [
                          0.5,
                          "#f7f7f7"
                        ],
                        [
                          0.6,
                          "#e6f5d0"
                        ],
                        [
                          0.7,
                          "#b8e186"
                        ],
                        [
                          0.8,
                          "#7fbc41"
                        ],
                        [
                          0.9,
                          "#4d9221"
                        ],
                        [
                          1,
                          "#276419"
                        ]
                      ],
                      "sequential": [
                        [
                          0,
                          "#0d0887"
                        ],
                        [
                          0.1111111111111111,
                          "#46039f"
                        ],
                        [
                          0.2222222222222222,
                          "#7201a8"
                        ],
                        [
                          0.3333333333333333,
                          "#9c179e"
                        ],
                        [
                          0.4444444444444444,
                          "#bd3786"
                        ],
                        [
                          0.5555555555555556,
                          "#d8576b"
                        ],
                        [
                          0.6666666666666666,
                          "#ed7953"
                        ],
                        [
                          0.7777777777777778,
                          "#fb9f3a"
                        ],
                        [
                          0.8888888888888888,
                          "#fdca26"
                        ],
                        [
                          1,
                          "#f0f921"
                        ]
                      ],
                      "sequentialminus": [
                        [
                          0,
                          "#0d0887"
                        ],
                        [
                          0.1111111111111111,
                          "#46039f"
                        ],
                        [
                          0.2222222222222222,
                          "#7201a8"
                        ],
                        [
                          0.3333333333333333,
                          "#9c179e"
                        ],
                        [
                          0.4444444444444444,
                          "#bd3786"
                        ],
                        [
                          0.5555555555555556,
                          "#d8576b"
                        ],
                        [
                          0.6666666666666666,
                          "#ed7953"
                        ],
                        [
                          0.7777777777777778,
                          "#fb9f3a"
                        ],
                        [
                          0.8888888888888888,
                          "#fdca26"
                        ],
                        [
                          1,
                          "#f0f921"
                        ]
                      ]
                    },
                    "colorway": [
                      "#636efa",
                      "#EF553B",
                      "#00cc96",
                      "#ab63fa",
                      "#FFA15A",
                      "#19d3f3",
                      "#FF6692",
                      "#B6E880",
                      "#FF97FF",
                      "#FECB52"
                    ],
                    "font": {
                      "color": "#2a3f5f"
                    },
                    "geo": {
                      "bgcolor": "white",
                      "lakecolor": "white",
                      "landcolor": "#E5ECF6",
                      "showlakes": true,
                      "showland": true,
                      "subunitcolor": "white"
                    },
                    "hoverlabel": {
                      "align": "left"
                    },
                    "hovermode": "closest",
                    "mapbox": {
                      "style": "light"
                    },
                    "paper_bgcolor": "white",
                    "plot_bgcolor": "#E5ECF6",
                    "polar": {
                      "angularaxis": {
                        "gridcolor": "white",
                        "linecolor": "white",
                        "ticks": ""
                      },
                      "bgcolor": "#E5ECF6",
                      "radialaxis": {
                        "gridcolor": "white",
                        "linecolor": "white",
                        "ticks": ""
                      }
                    },
                    "scene": {
                      "xaxis": {
                        "backgroundcolor": "#E5ECF6",
                        "gridcolor": "white",
                        "gridwidth": 2,
                        "linecolor": "white",
                        "showbackground": true,
                        "ticks": "",
                        "zerolinecolor": "white"
                      },
                      "yaxis": {
                        "backgroundcolor": "#E5ECF6",
                        "gridcolor": "white",
                        "gridwidth": 2,
                        "linecolor": "white",
                        "showbackground": true,
                        "ticks": "",
                        "zerolinecolor": "white"
                      },
                      "zaxis": {
                        "backgroundcolor": "#E5ECF6",
                        "gridcolor": "white",
                        "gridwidth": 2,
                        "linecolor": "white",
                        "showbackground": true,
                        "ticks": "",
                        "zerolinecolor": "white"
                      }
                    },
                    "shapedefaults": {
                      "line": {
                        "color": "#2a3f5f"
                      }
                    },
                    "ternary": {
                      "aaxis": {
                        "gridcolor": "white",
                        "linecolor": "white",
                        "ticks": ""
                      },
                      "baxis": {
                        "gridcolor": "white",
                        "linecolor": "white",
                        "ticks": ""
                      },
                      "bgcolor": "#E5ECF6",
                      "caxis": {
                        "gridcolor": "white",
                        "linecolor": "white",
                        "ticks": ""
                      }
                    },
                    "title": {
                      "x": 0.05
                    },
                    "xaxis": {
                      "automargin": true,
                      "gridcolor": "white",
                      "linecolor": "white",
                      "ticks": "",
                      "title": {
                        "standoff": 15
                      },
                      "zerolinecolor": "white",
                      "zerolinewidth": 2
                    },
                    "yaxis": {
                      "automargin": true,
                      "gridcolor": "white",
                      "linecolor": "white",
                      "ticks": "",
                      "title": {
                        "standoff": 15
                      },
                      "zerolinecolor": "white",
                      "zerolinewidth": 2
                    }
                  }
                },
                "title": {
                  "text": "판매량(Quantity) 박스플롯"
                },
                "xaxis": {
                  "anchor": "y",
                  "domain": [
                    0,
                    1
                  ],
                  "title": {
                    "text": "판매량"
                  }
                },
                "yaxis": {
                  "anchor": "x",
                  "domain": [
                    0,
                    1
                  ]
                }
              }
            }
          },
          "metadata": {},
          "output_type": "display_data"
        }
      ],
      "source": [
        "# 박스플롯 생성\n",
        "fig2 = px.box(df, x='Quantity',\n",
        "             title='판매량(Quantity) 박스플롯',\n",
        "             labels={'Quantity': '판매량'},\n",
        "             color_discrete_sequence=['#00CC96'])\n",
        "fig2.show()"
      ]
    },
    {
      "cell_type": "markdown",
      "metadata": {},
      "source": [
        "판매량(Quantity) 분포 특징:\n",
        "1. 대칭성: 데이터가 왼쪽(작은 값)에 더 많이 몰려 있고, 오른쪽(큰 값)으로 꼬리가 긴 비대칭(오른쪽으로 긴 꼬리, 양의 왜도) 분포를 보임\n",
        "2. 이상치: 박스플롯에서 9개 이상(10, 11, 12, 13, 14)의 값에서 이상치가 명확히 관찰됨\n",
        "3. 범위: 대부분의 판매량은 2~7개 사이에 분포\n",
        "4. 중앙값: 약 4~5개로, 평균보다 작으며, 이는 오른쪽 꼬리(큰 값)로 인해 평균이 중앙값보다 커진 결과임"
      ]
    },
    {
      "cell_type": "markdown",
      "metadata": {},
      "source": [
        "Q4. State(주)별 총 매출액을 계산하고, 상위 5개 주를 시각화하세요."
      ]
    },
    {
      "cell_type": "code",
      "execution_count": 26,
      "metadata": {},
      "outputs": [
        {
          "data": {
            "application/vnd.plotly.v1+json": {
              "config": {
                "plotlyServerURL": "https://plot.ly"
              },
              "data": [
                {
                  "hovertemplate": "주=%{x}<br>총 매출액($)=%{y}<extra></extra>",
                  "legendgroup": "California",
                  "marker": {
                    "color": "#636efa",
                    "pattern": {
                      "shape": ""
                    }
                  },
                  "name": "California",
                  "orientation": "v",
                  "showlegend": true,
                  "textposition": "auto",
                  "texttemplate": "%{y:.2s}",
                  "type": "bar",
                  "x": [
                    "California"
                  ],
                  "xaxis": "x",
                  "y": {
                    "bdata": "nu+nhl7vG0E=",
                    "dtype": "f8"
                  },
                  "yaxis": "y"
                },
                {
                  "hovertemplate": "주=%{x}<br>총 매출액($)=%{y}<extra></extra>",
                  "legendgroup": "New York",
                  "marker": {
                    "color": "#EF553B",
                    "pattern": {
                      "shape": ""
                    }
                  },
                  "name": "New York",
                  "orientation": "v",
                  "showlegend": true,
                  "textposition": "auto",
                  "texttemplate": "%{y:.2s}",
                  "type": "bar",
                  "x": [
                    "New York"
                  ],
                  "xaxis": "x",
                  "y": {
                    "bdata": "JQaBFXH5EkE=",
                    "dtype": "f8"
                  },
                  "yaxis": "y"
                },
                {
                  "hovertemplate": "주=%{x}<br>총 매출액($)=%{y}<extra></extra>",
                  "legendgroup": "Texas",
                  "marker": {
                    "color": "#00cc96",
                    "pattern": {
                      "shape": ""
                    }
                  },
                  "name": "Texas",
                  "orientation": "v",
                  "showlegend": true,
                  "textposition": "auto",
                  "texttemplate": "%{y:.2s}",
                  "type": "bar",
                  "x": [
                    "Texas"
                  ],
                  "xaxis": "x",
                  "y": {
                    "bdata": "8WPMXWDGBEE=",
                    "dtype": "f8"
                  },
                  "yaxis": "y"
                },
                {
                  "hovertemplate": "주=%{x}<br>총 매출액($)=%{y}<extra></extra>",
                  "legendgroup": "Washington",
                  "marker": {
                    "color": "#ab63fa",
                    "pattern": {
                      "shape": ""
                    }
                  },
                  "name": "Washington",
                  "orientation": "v",
                  "showlegend": true,
                  "textposition": "auto",
                  "texttemplate": "%{y:.2s}",
                  "type": "bar",
                  "x": [
                    "Washington"
                  ],
                  "xaxis": "x",
                  "y": {
                    "bdata": "j8L1KIrsAEE=",
                    "dtype": "f8"
                  },
                  "yaxis": "y"
                },
                {
                  "hovertemplate": "주=%{x}<br>총 매출액($)=%{y}<extra></extra>",
                  "legendgroup": "Pennsylvania",
                  "marker": {
                    "color": "#FFA15A",
                    "pattern": {
                      "shape": ""
                    }
                  },
                  "name": "Pennsylvania",
                  "orientation": "v",
                  "showlegend": true,
                  "textposition": "auto",
                  "texttemplate": "%{y:.2s}",
                  "type": "bar",
                  "x": [
                    "Pennsylvania"
                  ],
                  "xaxis": "x",
                  "y": {
                    "bdata": "yXa+n/5x/EA=",
                    "dtype": "f8"
                  },
                  "yaxis": "y"
                }
              ],
              "layout": {
                "barmode": "relative",
                "legend": {
                  "title": {
                    "text": "주"
                  },
                  "tracegroupgap": 0
                },
                "showlegend": false,
                "template": {
                  "data": {
                    "bar": [
                      {
                        "error_x": {
                          "color": "#2a3f5f"
                        },
                        "error_y": {
                          "color": "#2a3f5f"
                        },
                        "marker": {
                          "line": {
                            "color": "#E5ECF6",
                            "width": 0.5
                          },
                          "pattern": {
                            "fillmode": "overlay",
                            "size": 10,
                            "solidity": 0.2
                          }
                        },
                        "type": "bar"
                      }
                    ],
                    "barpolar": [
                      {
                        "marker": {
                          "line": {
                            "color": "#E5ECF6",
                            "width": 0.5
                          },
                          "pattern": {
                            "fillmode": "overlay",
                            "size": 10,
                            "solidity": 0.2
                          }
                        },
                        "type": "barpolar"
                      }
                    ],
                    "carpet": [
                      {
                        "aaxis": {
                          "endlinecolor": "#2a3f5f",
                          "gridcolor": "white",
                          "linecolor": "white",
                          "minorgridcolor": "white",
                          "startlinecolor": "#2a3f5f"
                        },
                        "baxis": {
                          "endlinecolor": "#2a3f5f",
                          "gridcolor": "white",
                          "linecolor": "white",
                          "minorgridcolor": "white",
                          "startlinecolor": "#2a3f5f"
                        },
                        "type": "carpet"
                      }
                    ],
                    "choropleth": [
                      {
                        "colorbar": {
                          "outlinewidth": 0,
                          "ticks": ""
                        },
                        "type": "choropleth"
                      }
                    ],
                    "contour": [
                      {
                        "colorbar": {
                          "outlinewidth": 0,
                          "ticks": ""
                        },
                        "colorscale": [
                          [
                            0,
                            "#0d0887"
                          ],
                          [
                            0.1111111111111111,
                            "#46039f"
                          ],
                          [
                            0.2222222222222222,
                            "#7201a8"
                          ],
                          [
                            0.3333333333333333,
                            "#9c179e"
                          ],
                          [
                            0.4444444444444444,
                            "#bd3786"
                          ],
                          [
                            0.5555555555555556,
                            "#d8576b"
                          ],
                          [
                            0.6666666666666666,
                            "#ed7953"
                          ],
                          [
                            0.7777777777777778,
                            "#fb9f3a"
                          ],
                          [
                            0.8888888888888888,
                            "#fdca26"
                          ],
                          [
                            1,
                            "#f0f921"
                          ]
                        ],
                        "type": "contour"
                      }
                    ],
                    "contourcarpet": [
                      {
                        "colorbar": {
                          "outlinewidth": 0,
                          "ticks": ""
                        },
                        "type": "contourcarpet"
                      }
                    ],
                    "heatmap": [
                      {
                        "colorbar": {
                          "outlinewidth": 0,
                          "ticks": ""
                        },
                        "colorscale": [
                          [
                            0,
                            "#0d0887"
                          ],
                          [
                            0.1111111111111111,
                            "#46039f"
                          ],
                          [
                            0.2222222222222222,
                            "#7201a8"
                          ],
                          [
                            0.3333333333333333,
                            "#9c179e"
                          ],
                          [
                            0.4444444444444444,
                            "#bd3786"
                          ],
                          [
                            0.5555555555555556,
                            "#d8576b"
                          ],
                          [
                            0.6666666666666666,
                            "#ed7953"
                          ],
                          [
                            0.7777777777777778,
                            "#fb9f3a"
                          ],
                          [
                            0.8888888888888888,
                            "#fdca26"
                          ],
                          [
                            1,
                            "#f0f921"
                          ]
                        ],
                        "type": "heatmap"
                      }
                    ],
                    "histogram": [
                      {
                        "marker": {
                          "pattern": {
                            "fillmode": "overlay",
                            "size": 10,
                            "solidity": 0.2
                          }
                        },
                        "type": "histogram"
                      }
                    ],
                    "histogram2d": [
                      {
                        "colorbar": {
                          "outlinewidth": 0,
                          "ticks": ""
                        },
                        "colorscale": [
                          [
                            0,
                            "#0d0887"
                          ],
                          [
                            0.1111111111111111,
                            "#46039f"
                          ],
                          [
                            0.2222222222222222,
                            "#7201a8"
                          ],
                          [
                            0.3333333333333333,
                            "#9c179e"
                          ],
                          [
                            0.4444444444444444,
                            "#bd3786"
                          ],
                          [
                            0.5555555555555556,
                            "#d8576b"
                          ],
                          [
                            0.6666666666666666,
                            "#ed7953"
                          ],
                          [
                            0.7777777777777778,
                            "#fb9f3a"
                          ],
                          [
                            0.8888888888888888,
                            "#fdca26"
                          ],
                          [
                            1,
                            "#f0f921"
                          ]
                        ],
                        "type": "histogram2d"
                      }
                    ],
                    "histogram2dcontour": [
                      {
                        "colorbar": {
                          "outlinewidth": 0,
                          "ticks": ""
                        },
                        "colorscale": [
                          [
                            0,
                            "#0d0887"
                          ],
                          [
                            0.1111111111111111,
                            "#46039f"
                          ],
                          [
                            0.2222222222222222,
                            "#7201a8"
                          ],
                          [
                            0.3333333333333333,
                            "#9c179e"
                          ],
                          [
                            0.4444444444444444,
                            "#bd3786"
                          ],
                          [
                            0.5555555555555556,
                            "#d8576b"
                          ],
                          [
                            0.6666666666666666,
                            "#ed7953"
                          ],
                          [
                            0.7777777777777778,
                            "#fb9f3a"
                          ],
                          [
                            0.8888888888888888,
                            "#fdca26"
                          ],
                          [
                            1,
                            "#f0f921"
                          ]
                        ],
                        "type": "histogram2dcontour"
                      }
                    ],
                    "mesh3d": [
                      {
                        "colorbar": {
                          "outlinewidth": 0,
                          "ticks": ""
                        },
                        "type": "mesh3d"
                      }
                    ],
                    "parcoords": [
                      {
                        "line": {
                          "colorbar": {
                            "outlinewidth": 0,
                            "ticks": ""
                          }
                        },
                        "type": "parcoords"
                      }
                    ],
                    "pie": [
                      {
                        "automargin": true,
                        "type": "pie"
                      }
                    ],
                    "scatter": [
                      {
                        "fillpattern": {
                          "fillmode": "overlay",
                          "size": 10,
                          "solidity": 0.2
                        },
                        "type": "scatter"
                      }
                    ],
                    "scatter3d": [
                      {
                        "line": {
                          "colorbar": {
                            "outlinewidth": 0,
                            "ticks": ""
                          }
                        },
                        "marker": {
                          "colorbar": {
                            "outlinewidth": 0,
                            "ticks": ""
                          }
                        },
                        "type": "scatter3d"
                      }
                    ],
                    "scattercarpet": [
                      {
                        "marker": {
                          "colorbar": {
                            "outlinewidth": 0,
                            "ticks": ""
                          }
                        },
                        "type": "scattercarpet"
                      }
                    ],
                    "scattergeo": [
                      {
                        "marker": {
                          "colorbar": {
                            "outlinewidth": 0,
                            "ticks": ""
                          }
                        },
                        "type": "scattergeo"
                      }
                    ],
                    "scattergl": [
                      {
                        "marker": {
                          "colorbar": {
                            "outlinewidth": 0,
                            "ticks": ""
                          }
                        },
                        "type": "scattergl"
                      }
                    ],
                    "scattermap": [
                      {
                        "marker": {
                          "colorbar": {
                            "outlinewidth": 0,
                            "ticks": ""
                          }
                        },
                        "type": "scattermap"
                      }
                    ],
                    "scattermapbox": [
                      {
                        "marker": {
                          "colorbar": {
                            "outlinewidth": 0,
                            "ticks": ""
                          }
                        },
                        "type": "scattermapbox"
                      }
                    ],
                    "scatterpolar": [
                      {
                        "marker": {
                          "colorbar": {
                            "outlinewidth": 0,
                            "ticks": ""
                          }
                        },
                        "type": "scatterpolar"
                      }
                    ],
                    "scatterpolargl": [
                      {
                        "marker": {
                          "colorbar": {
                            "outlinewidth": 0,
                            "ticks": ""
                          }
                        },
                        "type": "scatterpolargl"
                      }
                    ],
                    "scatterternary": [
                      {
                        "marker": {
                          "colorbar": {
                            "outlinewidth": 0,
                            "ticks": ""
                          }
                        },
                        "type": "scatterternary"
                      }
                    ],
                    "surface": [
                      {
                        "colorbar": {
                          "outlinewidth": 0,
                          "ticks": ""
                        },
                        "colorscale": [
                          [
                            0,
                            "#0d0887"
                          ],
                          [
                            0.1111111111111111,
                            "#46039f"
                          ],
                          [
                            0.2222222222222222,
                            "#7201a8"
                          ],
                          [
                            0.3333333333333333,
                            "#9c179e"
                          ],
                          [
                            0.4444444444444444,
                            "#bd3786"
                          ],
                          [
                            0.5555555555555556,
                            "#d8576b"
                          ],
                          [
                            0.6666666666666666,
                            "#ed7953"
                          ],
                          [
                            0.7777777777777778,
                            "#fb9f3a"
                          ],
                          [
                            0.8888888888888888,
                            "#fdca26"
                          ],
                          [
                            1,
                            "#f0f921"
                          ]
                        ],
                        "type": "surface"
                      }
                    ],
                    "table": [
                      {
                        "cells": {
                          "fill": {
                            "color": "#EBF0F8"
                          },
                          "line": {
                            "color": "white"
                          }
                        },
                        "header": {
                          "fill": {
                            "color": "#C8D4E3"
                          },
                          "line": {
                            "color": "white"
                          }
                        },
                        "type": "table"
                      }
                    ]
                  },
                  "layout": {
                    "annotationdefaults": {
                      "arrowcolor": "#2a3f5f",
                      "arrowhead": 0,
                      "arrowwidth": 1
                    },
                    "autotypenumbers": "strict",
                    "coloraxis": {
                      "colorbar": {
                        "outlinewidth": 0,
                        "ticks": ""
                      }
                    },
                    "colorscale": {
                      "diverging": [
                        [
                          0,
                          "#8e0152"
                        ],
                        [
                          0.1,
                          "#c51b7d"
                        ],
                        [
                          0.2,
                          "#de77ae"
                        ],
                        [
                          0.3,
                          "#f1b6da"
                        ],
                        [
                          0.4,
                          "#fde0ef"
                        ],
                        [
                          0.5,
                          "#f7f7f7"
                        ],
                        [
                          0.6,
                          "#e6f5d0"
                        ],
                        [
                          0.7,
                          "#b8e186"
                        ],
                        [
                          0.8,
                          "#7fbc41"
                        ],
                        [
                          0.9,
                          "#4d9221"
                        ],
                        [
                          1,
                          "#276419"
                        ]
                      ],
                      "sequential": [
                        [
                          0,
                          "#0d0887"
                        ],
                        [
                          0.1111111111111111,
                          "#46039f"
                        ],
                        [
                          0.2222222222222222,
                          "#7201a8"
                        ],
                        [
                          0.3333333333333333,
                          "#9c179e"
                        ],
                        [
                          0.4444444444444444,
                          "#bd3786"
                        ],
                        [
                          0.5555555555555556,
                          "#d8576b"
                        ],
                        [
                          0.6666666666666666,
                          "#ed7953"
                        ],
                        [
                          0.7777777777777778,
                          "#fb9f3a"
                        ],
                        [
                          0.8888888888888888,
                          "#fdca26"
                        ],
                        [
                          1,
                          "#f0f921"
                        ]
                      ],
                      "sequentialminus": [
                        [
                          0,
                          "#0d0887"
                        ],
                        [
                          0.1111111111111111,
                          "#46039f"
                        ],
                        [
                          0.2222222222222222,
                          "#7201a8"
                        ],
                        [
                          0.3333333333333333,
                          "#9c179e"
                        ],
                        [
                          0.4444444444444444,
                          "#bd3786"
                        ],
                        [
                          0.5555555555555556,
                          "#d8576b"
                        ],
                        [
                          0.6666666666666666,
                          "#ed7953"
                        ],
                        [
                          0.7777777777777778,
                          "#fb9f3a"
                        ],
                        [
                          0.8888888888888888,
                          "#fdca26"
                        ],
                        [
                          1,
                          "#f0f921"
                        ]
                      ]
                    },
                    "colorway": [
                      "#636efa",
                      "#EF553B",
                      "#00cc96",
                      "#ab63fa",
                      "#FFA15A",
                      "#19d3f3",
                      "#FF6692",
                      "#B6E880",
                      "#FF97FF",
                      "#FECB52"
                    ],
                    "font": {
                      "color": "#2a3f5f"
                    },
                    "geo": {
                      "bgcolor": "white",
                      "lakecolor": "white",
                      "landcolor": "#E5ECF6",
                      "showlakes": true,
                      "showland": true,
                      "subunitcolor": "white"
                    },
                    "hoverlabel": {
                      "align": "left"
                    },
                    "hovermode": "closest",
                    "mapbox": {
                      "style": "light"
                    },
                    "paper_bgcolor": "white",
                    "plot_bgcolor": "#E5ECF6",
                    "polar": {
                      "angularaxis": {
                        "gridcolor": "white",
                        "linecolor": "white",
                        "ticks": ""
                      },
                      "bgcolor": "#E5ECF6",
                      "radialaxis": {
                        "gridcolor": "white",
                        "linecolor": "white",
                        "ticks": ""
                      }
                    },
                    "scene": {
                      "xaxis": {
                        "backgroundcolor": "#E5ECF6",
                        "gridcolor": "white",
                        "gridwidth": 2,
                        "linecolor": "white",
                        "showbackground": true,
                        "ticks": "",
                        "zerolinecolor": "white"
                      },
                      "yaxis": {
                        "backgroundcolor": "#E5ECF6",
                        "gridcolor": "white",
                        "gridwidth": 2,
                        "linecolor": "white",
                        "showbackground": true,
                        "ticks": "",
                        "zerolinecolor": "white"
                      },
                      "zaxis": {
                        "backgroundcolor": "#E5ECF6",
                        "gridcolor": "white",
                        "gridwidth": 2,
                        "linecolor": "white",
                        "showbackground": true,
                        "ticks": "",
                        "zerolinecolor": "white"
                      }
                    },
                    "shapedefaults": {
                      "line": {
                        "color": "#2a3f5f"
                      }
                    },
                    "ternary": {
                      "aaxis": {
                        "gridcolor": "white",
                        "linecolor": "white",
                        "ticks": ""
                      },
                      "baxis": {
                        "gridcolor": "white",
                        "linecolor": "white",
                        "ticks": ""
                      },
                      "bgcolor": "#E5ECF6",
                      "caxis": {
                        "gridcolor": "white",
                        "linecolor": "white",
                        "ticks": ""
                      }
                    },
                    "title": {
                      "x": 0.05
                    },
                    "xaxis": {
                      "automargin": true,
                      "gridcolor": "white",
                      "linecolor": "white",
                      "ticks": "",
                      "title": {
                        "standoff": 15
                      },
                      "zerolinecolor": "white",
                      "zerolinewidth": 2
                    },
                    "yaxis": {
                      "automargin": true,
                      "gridcolor": "white",
                      "linecolor": "white",
                      "ticks": "",
                      "title": {
                        "standoff": 15
                      },
                      "zerolinecolor": "white",
                      "zerolinewidth": 2
                    }
                  }
                },
                "title": {
                  "text": "상위 5개 주(State)별 총 매출액"
                },
                "xaxis": {
                  "anchor": "y",
                  "categoryarray": [
                    "California",
                    "New York",
                    "Texas",
                    "Washington",
                    "Pennsylvania"
                  ],
                  "categoryorder": "array",
                  "domain": [
                    0,
                    1
                  ],
                  "title": {
                    "text": "주"
                  }
                },
                "yaxis": {
                  "anchor": "x",
                  "domain": [
                    0,
                    1
                  ],
                  "title": {
                    "text": "총 매출액($)"
                  }
                }
              }
            }
          },
          "metadata": {},
          "output_type": "display_data"
        }
      ],
      "source": [
        "# 주(State)별 총 매출액 계산 (데이터에 'Revenue' 컬럼이 없으므로 'Sales' 컬럼 사용)\n",
        "state_revenue = df.groupby('State')['Sales'].sum().reset_index()\n",
        "\n",
        "# 상위 5개 주 정렬\n",
        "top5_states = state_revenue.sort_values('Sales', ascending=False).head(5)\n",
        "\n",
        "# 바 차트로 시각화\n",
        "fig = px.bar(top5_states, \n",
        "             x='State', \n",
        "             y='Sales',\n",
        "             title='상위 5개 주(State)별 총 매출액',\n",
        "             labels={'State': '주', 'Sales': '총 매출액($)'},\n",
        "             color='State',\n",
        "             text_auto='.2s')\n",
        "fig.update_layout(showlegend=False)\n",
        "fig.show()\n"
      ]
    },
    {
      "cell_type": "markdown",
      "metadata": {},
      "source": [
        "Q5. 할인율 컬럼의 평균, 표준편차, 최소값, 최대값을 구하고, 할인율이 0이 아닌 주문의 비율을 구하세요."
      ]
    },
    {
      "cell_type": "code",
      "execution_count": 28,
      "metadata": {},
      "outputs": [
        {
          "name": "stdout",
          "output_type": "stream",
          "text": [
            "할인율 통계:\n"
          ]
        },
        {
          "data": {
            "text/plain": [
              "mean    0.156203\n",
              "std     0.206452\n",
              "min     0.000000\n",
              "max     0.800000\n",
              "Name: Discount, dtype: float64"
            ]
          },
          "execution_count": 28,
          "metadata": {},
          "output_type": "execute_result"
        }
      ],
      "source": [
        "# 할인율 통계 계산\n",
        "discount_stats = df['Discount'].agg(['mean', 'std', 'min', 'max'])\n",
        "discount_stats"
      ]
    },
    {
      "cell_type": "code",
      "execution_count": 46,
      "metadata": {},
      "outputs": [
        {
          "name": "stdout",
          "output_type": "stream",
          "text": [
            "할인율이 0이 아닌 주문 비율: 51.99%\n"
          ]
        }
      ],
      "source": [
        "# 할인율이 0이 아닌 주문 비율 계산\n",
        "non_zero_discount_ratio = (df['Discount'] > 0).mean() * 100\n",
        "print(f\"할인율이 0이 아닌 주문 비율: {non_zero_discount_ratio:.2f}%\")"
      ]
    },
    {
      "cell_type": "markdown",
      "metadata": {},
      "source": [
        "Q6. Segment(고객 세그먼트)별로 평균 이익을 비교하고, 어떤 세그먼트가 가장 높은 이익을 내는지 찾으세요."
      ]
    },
    {
      "cell_type": "code",
      "execution_count": 47,
      "metadata": {},
      "outputs": [
        {
          "data": {
            "text/html": [
              "<div>\n",
              "<style scoped>\n",
              "    .dataframe tbody tr th:only-of-type {\n",
              "        vertical-align: middle;\n",
              "    }\n",
              "\n",
              "    .dataframe tbody tr th {\n",
              "        vertical-align: top;\n",
              "    }\n",
              "\n",
              "    .dataframe thead th {\n",
              "        text-align: right;\n",
              "    }\n",
              "</style>\n",
              "<table border=\"1\" class=\"dataframe\">\n",
              "  <thead>\n",
              "    <tr style=\"text-align: right;\">\n",
              "      <th></th>\n",
              "      <th>Segment</th>\n",
              "      <th>Profit</th>\n",
              "    </tr>\n",
              "  </thead>\n",
              "  <tbody>\n",
              "    <tr>\n",
              "      <th>2</th>\n",
              "      <td>Home Office</td>\n",
              "      <td>33.818664</td>\n",
              "    </tr>\n",
              "    <tr>\n",
              "      <th>1</th>\n",
              "      <td>Corporate</td>\n",
              "      <td>30.456667</td>\n",
              "    </tr>\n",
              "    <tr>\n",
              "      <th>0</th>\n",
              "      <td>Consumer</td>\n",
              "      <td>25.836873</td>\n",
              "    </tr>\n",
              "  </tbody>\n",
              "</table>\n",
              "</div>"
            ],
            "text/plain": [
              "       Segment     Profit\n",
              "2  Home Office  33.818664\n",
              "1    Corporate  30.456667\n",
              "0     Consumer  25.836873"
            ]
          },
          "execution_count": 47,
          "metadata": {},
          "output_type": "execute_result"
        }
      ],
      "source": [
        "# 고객 세그먼트별 평균 이익 계산\n",
        "segment_profit = df.groupby('Segment')['Profit'].mean().reset_index()\n",
        "\n",
        "# 평균 이익을 기준으로 내림차순 정렬\n",
        "segment_profit = segment_profit.sort_values('Profit', ascending=False)\n",
        "segment_profit\n"
      ]
    },
    {
      "cell_type": "code",
      "execution_count": 48,
      "metadata": {},
      "outputs": [
        {
          "name": "stdout",
          "output_type": "stream",
          "text": [
            "가장 높은 이익을 내는 세그먼트: Home Office (평균 이익: 33.82)\n"
          ]
        }
      ],
      "source": [
        "# 가장 높은 이익을 내는 세그먼트 찾기\n",
        "top_segment = segment_profit.iloc[0]\n",
        "print(f\"가장 높은 이익을 내는 세그먼트: {top_segment['Segment']} (평균 이익: {top_segment['Profit']:.2f})\")"
      ]
    },
    {
      "cell_type": "code",
      "execution_count": 33,
      "metadata": {},
      "outputs": [
        {
          "data": {
            "application/vnd.plotly.v1+json": {
              "config": {
                "plotlyServerURL": "https://plot.ly"
              },
              "data": [
                {
                  "hovertemplate": "고객 세그먼트=%{x}<br>평균 이익($)=%{y}<extra></extra>",
                  "legendgroup": "Home Office",
                  "marker": {
                    "color": "#636efa",
                    "pattern": {
                      "shape": ""
                    }
                  },
                  "name": "Home Office",
                  "orientation": "v",
                  "showlegend": true,
                  "textposition": "auto",
                  "texttemplate": "%{y:.2f}",
                  "type": "bar",
                  "x": [
                    "Home Office"
                  ],
                  "xaxis": "x",
                  "y": {
                    "bdata": "+mcl/snoQEA=",
                    "dtype": "f8"
                  },
                  "yaxis": "y"
                },
                {
                  "hovertemplate": "고객 세그먼트=%{x}<br>평균 이익($)=%{y}<extra></extra>",
                  "legendgroup": "Corporate",
                  "marker": {
                    "color": "#EF553B",
                    "pattern": {
                      "shape": ""
                    }
                  },
                  "name": "Corporate",
                  "orientation": "v",
                  "showlegend": true,
                  "textposition": "auto",
                  "texttemplate": "%{y:.2f}",
                  "type": "bar",
                  "x": [
                    "Corporate"
                  ],
                  "xaxis": "x",
                  "y": {
                    "bdata": "gp8CH+h0PkA=",
                    "dtype": "f8"
                  },
                  "yaxis": "y"
                },
                {
                  "hovertemplate": "고객 세그먼트=%{x}<br>평균 이익($)=%{y}<extra></extra>",
                  "legendgroup": "Consumer",
                  "marker": {
                    "color": "#00cc96",
                    "pattern": {
                      "shape": ""
                    }
                  },
                  "name": "Consumer",
                  "orientation": "v",
                  "showlegend": true,
                  "textposition": "auto",
                  "texttemplate": "%{y:.2f}",
                  "type": "bar",
                  "x": [
                    "Consumer"
                  ],
                  "xaxis": "x",
                  "y": {
                    "bdata": "nmjLUz3WOUA=",
                    "dtype": "f8"
                  },
                  "yaxis": "y"
                }
              ],
              "layout": {
                "barmode": "relative",
                "legend": {
                  "title": {
                    "text": "고객 세그먼트"
                  },
                  "tracegroupgap": 0
                },
                "showlegend": false,
                "template": {
                  "data": {
                    "bar": [
                      {
                        "error_x": {
                          "color": "#2a3f5f"
                        },
                        "error_y": {
                          "color": "#2a3f5f"
                        },
                        "marker": {
                          "line": {
                            "color": "#E5ECF6",
                            "width": 0.5
                          },
                          "pattern": {
                            "fillmode": "overlay",
                            "size": 10,
                            "solidity": 0.2
                          }
                        },
                        "type": "bar"
                      }
                    ],
                    "barpolar": [
                      {
                        "marker": {
                          "line": {
                            "color": "#E5ECF6",
                            "width": 0.5
                          },
                          "pattern": {
                            "fillmode": "overlay",
                            "size": 10,
                            "solidity": 0.2
                          }
                        },
                        "type": "barpolar"
                      }
                    ],
                    "carpet": [
                      {
                        "aaxis": {
                          "endlinecolor": "#2a3f5f",
                          "gridcolor": "white",
                          "linecolor": "white",
                          "minorgridcolor": "white",
                          "startlinecolor": "#2a3f5f"
                        },
                        "baxis": {
                          "endlinecolor": "#2a3f5f",
                          "gridcolor": "white",
                          "linecolor": "white",
                          "minorgridcolor": "white",
                          "startlinecolor": "#2a3f5f"
                        },
                        "type": "carpet"
                      }
                    ],
                    "choropleth": [
                      {
                        "colorbar": {
                          "outlinewidth": 0,
                          "ticks": ""
                        },
                        "type": "choropleth"
                      }
                    ],
                    "contour": [
                      {
                        "colorbar": {
                          "outlinewidth": 0,
                          "ticks": ""
                        },
                        "colorscale": [
                          [
                            0,
                            "#0d0887"
                          ],
                          [
                            0.1111111111111111,
                            "#46039f"
                          ],
                          [
                            0.2222222222222222,
                            "#7201a8"
                          ],
                          [
                            0.3333333333333333,
                            "#9c179e"
                          ],
                          [
                            0.4444444444444444,
                            "#bd3786"
                          ],
                          [
                            0.5555555555555556,
                            "#d8576b"
                          ],
                          [
                            0.6666666666666666,
                            "#ed7953"
                          ],
                          [
                            0.7777777777777778,
                            "#fb9f3a"
                          ],
                          [
                            0.8888888888888888,
                            "#fdca26"
                          ],
                          [
                            1,
                            "#f0f921"
                          ]
                        ],
                        "type": "contour"
                      }
                    ],
                    "contourcarpet": [
                      {
                        "colorbar": {
                          "outlinewidth": 0,
                          "ticks": ""
                        },
                        "type": "contourcarpet"
                      }
                    ],
                    "heatmap": [
                      {
                        "colorbar": {
                          "outlinewidth": 0,
                          "ticks": ""
                        },
                        "colorscale": [
                          [
                            0,
                            "#0d0887"
                          ],
                          [
                            0.1111111111111111,
                            "#46039f"
                          ],
                          [
                            0.2222222222222222,
                            "#7201a8"
                          ],
                          [
                            0.3333333333333333,
                            "#9c179e"
                          ],
                          [
                            0.4444444444444444,
                            "#bd3786"
                          ],
                          [
                            0.5555555555555556,
                            "#d8576b"
                          ],
                          [
                            0.6666666666666666,
                            "#ed7953"
                          ],
                          [
                            0.7777777777777778,
                            "#fb9f3a"
                          ],
                          [
                            0.8888888888888888,
                            "#fdca26"
                          ],
                          [
                            1,
                            "#f0f921"
                          ]
                        ],
                        "type": "heatmap"
                      }
                    ],
                    "histogram": [
                      {
                        "marker": {
                          "pattern": {
                            "fillmode": "overlay",
                            "size": 10,
                            "solidity": 0.2
                          }
                        },
                        "type": "histogram"
                      }
                    ],
                    "histogram2d": [
                      {
                        "colorbar": {
                          "outlinewidth": 0,
                          "ticks": ""
                        },
                        "colorscale": [
                          [
                            0,
                            "#0d0887"
                          ],
                          [
                            0.1111111111111111,
                            "#46039f"
                          ],
                          [
                            0.2222222222222222,
                            "#7201a8"
                          ],
                          [
                            0.3333333333333333,
                            "#9c179e"
                          ],
                          [
                            0.4444444444444444,
                            "#bd3786"
                          ],
                          [
                            0.5555555555555556,
                            "#d8576b"
                          ],
                          [
                            0.6666666666666666,
                            "#ed7953"
                          ],
                          [
                            0.7777777777777778,
                            "#fb9f3a"
                          ],
                          [
                            0.8888888888888888,
                            "#fdca26"
                          ],
                          [
                            1,
                            "#f0f921"
                          ]
                        ],
                        "type": "histogram2d"
                      }
                    ],
                    "histogram2dcontour": [
                      {
                        "colorbar": {
                          "outlinewidth": 0,
                          "ticks": ""
                        },
                        "colorscale": [
                          [
                            0,
                            "#0d0887"
                          ],
                          [
                            0.1111111111111111,
                            "#46039f"
                          ],
                          [
                            0.2222222222222222,
                            "#7201a8"
                          ],
                          [
                            0.3333333333333333,
                            "#9c179e"
                          ],
                          [
                            0.4444444444444444,
                            "#bd3786"
                          ],
                          [
                            0.5555555555555556,
                            "#d8576b"
                          ],
                          [
                            0.6666666666666666,
                            "#ed7953"
                          ],
                          [
                            0.7777777777777778,
                            "#fb9f3a"
                          ],
                          [
                            0.8888888888888888,
                            "#fdca26"
                          ],
                          [
                            1,
                            "#f0f921"
                          ]
                        ],
                        "type": "histogram2dcontour"
                      }
                    ],
                    "mesh3d": [
                      {
                        "colorbar": {
                          "outlinewidth": 0,
                          "ticks": ""
                        },
                        "type": "mesh3d"
                      }
                    ],
                    "parcoords": [
                      {
                        "line": {
                          "colorbar": {
                            "outlinewidth": 0,
                            "ticks": ""
                          }
                        },
                        "type": "parcoords"
                      }
                    ],
                    "pie": [
                      {
                        "automargin": true,
                        "type": "pie"
                      }
                    ],
                    "scatter": [
                      {
                        "fillpattern": {
                          "fillmode": "overlay",
                          "size": 10,
                          "solidity": 0.2
                        },
                        "type": "scatter"
                      }
                    ],
                    "scatter3d": [
                      {
                        "line": {
                          "colorbar": {
                            "outlinewidth": 0,
                            "ticks": ""
                          }
                        },
                        "marker": {
                          "colorbar": {
                            "outlinewidth": 0,
                            "ticks": ""
                          }
                        },
                        "type": "scatter3d"
                      }
                    ],
                    "scattercarpet": [
                      {
                        "marker": {
                          "colorbar": {
                            "outlinewidth": 0,
                            "ticks": ""
                          }
                        },
                        "type": "scattercarpet"
                      }
                    ],
                    "scattergeo": [
                      {
                        "marker": {
                          "colorbar": {
                            "outlinewidth": 0,
                            "ticks": ""
                          }
                        },
                        "type": "scattergeo"
                      }
                    ],
                    "scattergl": [
                      {
                        "marker": {
                          "colorbar": {
                            "outlinewidth": 0,
                            "ticks": ""
                          }
                        },
                        "type": "scattergl"
                      }
                    ],
                    "scattermap": [
                      {
                        "marker": {
                          "colorbar": {
                            "outlinewidth": 0,
                            "ticks": ""
                          }
                        },
                        "type": "scattermap"
                      }
                    ],
                    "scattermapbox": [
                      {
                        "marker": {
                          "colorbar": {
                            "outlinewidth": 0,
                            "ticks": ""
                          }
                        },
                        "type": "scattermapbox"
                      }
                    ],
                    "scatterpolar": [
                      {
                        "marker": {
                          "colorbar": {
                            "outlinewidth": 0,
                            "ticks": ""
                          }
                        },
                        "type": "scatterpolar"
                      }
                    ],
                    "scatterpolargl": [
                      {
                        "marker": {
                          "colorbar": {
                            "outlinewidth": 0,
                            "ticks": ""
                          }
                        },
                        "type": "scatterpolargl"
                      }
                    ],
                    "scatterternary": [
                      {
                        "marker": {
                          "colorbar": {
                            "outlinewidth": 0,
                            "ticks": ""
                          }
                        },
                        "type": "scatterternary"
                      }
                    ],
                    "surface": [
                      {
                        "colorbar": {
                          "outlinewidth": 0,
                          "ticks": ""
                        },
                        "colorscale": [
                          [
                            0,
                            "#0d0887"
                          ],
                          [
                            0.1111111111111111,
                            "#46039f"
                          ],
                          [
                            0.2222222222222222,
                            "#7201a8"
                          ],
                          [
                            0.3333333333333333,
                            "#9c179e"
                          ],
                          [
                            0.4444444444444444,
                            "#bd3786"
                          ],
                          [
                            0.5555555555555556,
                            "#d8576b"
                          ],
                          [
                            0.6666666666666666,
                            "#ed7953"
                          ],
                          [
                            0.7777777777777778,
                            "#fb9f3a"
                          ],
                          [
                            0.8888888888888888,
                            "#fdca26"
                          ],
                          [
                            1,
                            "#f0f921"
                          ]
                        ],
                        "type": "surface"
                      }
                    ],
                    "table": [
                      {
                        "cells": {
                          "fill": {
                            "color": "#EBF0F8"
                          },
                          "line": {
                            "color": "white"
                          }
                        },
                        "header": {
                          "fill": {
                            "color": "#C8D4E3"
                          },
                          "line": {
                            "color": "white"
                          }
                        },
                        "type": "table"
                      }
                    ]
                  },
                  "layout": {
                    "annotationdefaults": {
                      "arrowcolor": "#2a3f5f",
                      "arrowhead": 0,
                      "arrowwidth": 1
                    },
                    "autotypenumbers": "strict",
                    "coloraxis": {
                      "colorbar": {
                        "outlinewidth": 0,
                        "ticks": ""
                      }
                    },
                    "colorscale": {
                      "diverging": [
                        [
                          0,
                          "#8e0152"
                        ],
                        [
                          0.1,
                          "#c51b7d"
                        ],
                        [
                          0.2,
                          "#de77ae"
                        ],
                        [
                          0.3,
                          "#f1b6da"
                        ],
                        [
                          0.4,
                          "#fde0ef"
                        ],
                        [
                          0.5,
                          "#f7f7f7"
                        ],
                        [
                          0.6,
                          "#e6f5d0"
                        ],
                        [
                          0.7,
                          "#b8e186"
                        ],
                        [
                          0.8,
                          "#7fbc41"
                        ],
                        [
                          0.9,
                          "#4d9221"
                        ],
                        [
                          1,
                          "#276419"
                        ]
                      ],
                      "sequential": [
                        [
                          0,
                          "#0d0887"
                        ],
                        [
                          0.1111111111111111,
                          "#46039f"
                        ],
                        [
                          0.2222222222222222,
                          "#7201a8"
                        ],
                        [
                          0.3333333333333333,
                          "#9c179e"
                        ],
                        [
                          0.4444444444444444,
                          "#bd3786"
                        ],
                        [
                          0.5555555555555556,
                          "#d8576b"
                        ],
                        [
                          0.6666666666666666,
                          "#ed7953"
                        ],
                        [
                          0.7777777777777778,
                          "#fb9f3a"
                        ],
                        [
                          0.8888888888888888,
                          "#fdca26"
                        ],
                        [
                          1,
                          "#f0f921"
                        ]
                      ],
                      "sequentialminus": [
                        [
                          0,
                          "#0d0887"
                        ],
                        [
                          0.1111111111111111,
                          "#46039f"
                        ],
                        [
                          0.2222222222222222,
                          "#7201a8"
                        ],
                        [
                          0.3333333333333333,
                          "#9c179e"
                        ],
                        [
                          0.4444444444444444,
                          "#bd3786"
                        ],
                        [
                          0.5555555555555556,
                          "#d8576b"
                        ],
                        [
                          0.6666666666666666,
                          "#ed7953"
                        ],
                        [
                          0.7777777777777778,
                          "#fb9f3a"
                        ],
                        [
                          0.8888888888888888,
                          "#fdca26"
                        ],
                        [
                          1,
                          "#f0f921"
                        ]
                      ]
                    },
                    "colorway": [
                      "#636efa",
                      "#EF553B",
                      "#00cc96",
                      "#ab63fa",
                      "#FFA15A",
                      "#19d3f3",
                      "#FF6692",
                      "#B6E880",
                      "#FF97FF",
                      "#FECB52"
                    ],
                    "font": {
                      "color": "#2a3f5f"
                    },
                    "geo": {
                      "bgcolor": "white",
                      "lakecolor": "white",
                      "landcolor": "#E5ECF6",
                      "showlakes": true,
                      "showland": true,
                      "subunitcolor": "white"
                    },
                    "hoverlabel": {
                      "align": "left"
                    },
                    "hovermode": "closest",
                    "mapbox": {
                      "style": "light"
                    },
                    "paper_bgcolor": "white",
                    "plot_bgcolor": "#E5ECF6",
                    "polar": {
                      "angularaxis": {
                        "gridcolor": "white",
                        "linecolor": "white",
                        "ticks": ""
                      },
                      "bgcolor": "#E5ECF6",
                      "radialaxis": {
                        "gridcolor": "white",
                        "linecolor": "white",
                        "ticks": ""
                      }
                    },
                    "scene": {
                      "xaxis": {
                        "backgroundcolor": "#E5ECF6",
                        "gridcolor": "white",
                        "gridwidth": 2,
                        "linecolor": "white",
                        "showbackground": true,
                        "ticks": "",
                        "zerolinecolor": "white"
                      },
                      "yaxis": {
                        "backgroundcolor": "#E5ECF6",
                        "gridcolor": "white",
                        "gridwidth": 2,
                        "linecolor": "white",
                        "showbackground": true,
                        "ticks": "",
                        "zerolinecolor": "white"
                      },
                      "zaxis": {
                        "backgroundcolor": "#E5ECF6",
                        "gridcolor": "white",
                        "gridwidth": 2,
                        "linecolor": "white",
                        "showbackground": true,
                        "ticks": "",
                        "zerolinecolor": "white"
                      }
                    },
                    "shapedefaults": {
                      "line": {
                        "color": "#2a3f5f"
                      }
                    },
                    "ternary": {
                      "aaxis": {
                        "gridcolor": "white",
                        "linecolor": "white",
                        "ticks": ""
                      },
                      "baxis": {
                        "gridcolor": "white",
                        "linecolor": "white",
                        "ticks": ""
                      },
                      "bgcolor": "#E5ECF6",
                      "caxis": {
                        "gridcolor": "white",
                        "linecolor": "white",
                        "ticks": ""
                      }
                    },
                    "title": {
                      "x": 0.05
                    },
                    "xaxis": {
                      "automargin": true,
                      "gridcolor": "white",
                      "linecolor": "white",
                      "ticks": "",
                      "title": {
                        "standoff": 15
                      },
                      "zerolinecolor": "white",
                      "zerolinewidth": 2
                    },
                    "yaxis": {
                      "automargin": true,
                      "gridcolor": "white",
                      "linecolor": "white",
                      "ticks": "",
                      "title": {
                        "standoff": 15
                      },
                      "zerolinecolor": "white",
                      "zerolinewidth": 2
                    }
                  }
                },
                "title": {
                  "text": "고객 세그먼트별 평균 이익"
                },
                "xaxis": {
                  "anchor": "y",
                  "categoryarray": [
                    "Home Office",
                    "Corporate",
                    "Consumer"
                  ],
                  "categoryorder": "array",
                  "domain": [
                    0,
                    1
                  ],
                  "title": {
                    "text": "고객 세그먼트"
                  }
                },
                "yaxis": {
                  "anchor": "x",
                  "domain": [
                    0,
                    1
                  ],
                  "title": {
                    "text": "평균 이익($)"
                  }
                }
              }
            }
          },
          "metadata": {},
          "output_type": "display_data"
        }
      ],
      "source": [
        "# 시각화\n",
        "fig = px.bar(segment_profit,\n",
        "             x='Segment',\n",
        "             y='Profit',\n",
        "             title='고객 세그먼트별 평균 이익',\n",
        "             labels={'Segment': '고객 세그먼트', 'Profit': '평균 이익($)'},\n",
        "             color='Segment',\n",
        "             text_auto='.2f')\n",
        "fig.update_layout(showlegend=False)\n",
        "fig.show()"
      ]
    },
    {
      "cell_type": "markdown",
      "metadata": {},
      "source": [
        "Q7. 매출액와 이익 간의 상관계수를 구하고, 두 변수의 관계를 해석하세요."
      ]
    },
    {
      "cell_type": "code",
      "execution_count": 49,
      "metadata": {},
      "outputs": [
        {
          "name": "stdout",
          "output_type": "stream",
          "text": [
            "매출액과 이익 간의 상관계수: 0.479\n"
          ]
        }
      ],
      "source": [
        "# 매출액(Sales)과 이익(Profit) 간의 상관계수 계산\n",
        "correlation = df['Sales'].corr(df['Profit'])\n",
        "    \n",
        "# 결과 출력\n",
        "print(f\"매출액과 이익 간의 상관계수: {correlation:.3f}\")"
      ]
    },
    {
      "cell_type": "code",
      "execution_count": 36,
      "metadata": {},
      "outputs": [
        {
          "name": "stdout",
          "output_type": "stream",
          "text": [
            "매출액과 이익은 중간 정도의 양의 상관관계가 있습니다.\n"
          ]
        }
      ],
      "source": [
        "# 상관관계 해석\n",
        "if correlation > 0.7:\n",
        "    print(\"매출액과 이익은 강한 양의 상관관계가 있습니다.\")\n",
        "elif correlation > 0.3:\n",
        "    print(\"매출액과 이익은 중간 정도의 양의 상관관계가 있습니다.\")\n",
        "elif correlation > -0.3:\n",
        "    print(\"매출액과 이익은 거의 상관관계가 없습니다.\")\n",
        "elif correlation > -0.7:\n",
        "    print(\"매출액과 이익은 중간 정도의 음의 상관관계가 있습니다.\")\n",
        "else:\n",
        "    print(\"매출액과 이익은 강한 음의 상관관계가 있습니다.\")"
      ]
    },
    {
      "cell_type": "markdown",
      "metadata": {},
      "source": [
        "Q8. Sub-Category(소분류)별로 판매량의 평균과 표준편차를 구하고, 가장 변동성이 큰 소분류를 찾으세요."
      ]
    },
    {
      "cell_type": "code",
      "execution_count": 38,
      "metadata": {},
      "outputs": [
        {
          "data": {
            "text/html": [
              "<div>\n",
              "<style scoped>\n",
              "    .dataframe tbody tr th:only-of-type {\n",
              "        vertical-align: middle;\n",
              "    }\n",
              "\n",
              "    .dataframe tbody tr th {\n",
              "        vertical-align: top;\n",
              "    }\n",
              "\n",
              "    .dataframe thead th {\n",
              "        text-align: right;\n",
              "    }\n",
              "</style>\n",
              "<table border=\"1\" class=\"dataframe\">\n",
              "  <thead>\n",
              "    <tr style=\"text-align: right;\">\n",
              "      <th></th>\n",
              "      <th>Sub-Category</th>\n",
              "      <th>mean</th>\n",
              "      <th>std</th>\n",
              "    </tr>\n",
              "  </thead>\n",
              "  <tbody>\n",
              "    <tr>\n",
              "      <th>16</th>\n",
              "      <td>Tables</td>\n",
              "      <td>3.890282</td>\n",
              "      <td>2.446381</td>\n",
              "    </tr>\n",
              "    <tr>\n",
              "      <th>8</th>\n",
              "      <td>Fasteners</td>\n",
              "      <td>4.211982</td>\n",
              "      <td>2.413551</td>\n",
              "    </tr>\n",
              "    <tr>\n",
              "      <th>10</th>\n",
              "      <td>Labels</td>\n",
              "      <td>3.846154</td>\n",
              "      <td>2.349248</td>\n",
              "    </tr>\n",
              "    <tr>\n",
              "      <th>3</th>\n",
              "      <td>Binders</td>\n",
              "      <td>3.922521</td>\n",
              "      <td>2.291913</td>\n",
              "    </tr>\n",
              "    <tr>\n",
              "      <th>0</th>\n",
              "      <td>Accessories</td>\n",
              "      <td>3.840000</td>\n",
              "      <td>2.284698</td>\n",
              "    </tr>\n",
              "    <tr>\n",
              "      <th>4</th>\n",
              "      <td>Bookcases</td>\n",
              "      <td>3.807018</td>\n",
              "      <td>2.283352</td>\n",
              "    </tr>\n",
              "    <tr>\n",
              "      <th>5</th>\n",
              "      <td>Chairs</td>\n",
              "      <td>3.818476</td>\n",
              "      <td>2.282652</td>\n",
              "    </tr>\n",
              "    <tr>\n",
              "      <th>12</th>\n",
              "      <td>Paper</td>\n",
              "      <td>3.779562</td>\n",
              "      <td>2.231560</td>\n",
              "    </tr>\n",
              "    <tr>\n",
              "      <th>14</th>\n",
              "      <td>Storage</td>\n",
              "      <td>3.732861</td>\n",
              "      <td>2.192409</td>\n",
              "    </tr>\n",
              "    <tr>\n",
              "      <th>13</th>\n",
              "      <td>Phones</td>\n",
              "      <td>3.699663</td>\n",
              "      <td>2.189453</td>\n",
              "    </tr>\n",
              "    <tr>\n",
              "      <th>11</th>\n",
              "      <td>Machines</td>\n",
              "      <td>3.826087</td>\n",
              "      <td>2.165361</td>\n",
              "    </tr>\n",
              "    <tr>\n",
              "      <th>9</th>\n",
              "      <td>Furnishings</td>\n",
              "      <td>3.723093</td>\n",
              "      <td>2.155954</td>\n",
              "    </tr>\n",
              "    <tr>\n",
              "      <th>2</th>\n",
              "      <td>Art</td>\n",
              "      <td>3.768844</td>\n",
              "      <td>2.131957</td>\n",
              "    </tr>\n",
              "    <tr>\n",
              "      <th>1</th>\n",
              "      <td>Appliances</td>\n",
              "      <td>3.710300</td>\n",
              "      <td>2.123038</td>\n",
              "    </tr>\n",
              "    <tr>\n",
              "      <th>7</th>\n",
              "      <td>Envelopes</td>\n",
              "      <td>3.566929</td>\n",
              "      <td>2.045299</td>\n",
              "    </tr>\n",
              "    <tr>\n",
              "      <th>15</th>\n",
              "      <td>Supplies</td>\n",
              "      <td>3.405263</td>\n",
              "      <td>1.837002</td>\n",
              "    </tr>\n",
              "    <tr>\n",
              "      <th>6</th>\n",
              "      <td>Copiers</td>\n",
              "      <td>3.441176</td>\n",
              "      <td>1.831583</td>\n",
              "    </tr>\n",
              "  </tbody>\n",
              "</table>\n",
              "</div>"
            ],
            "text/plain": [
              "   Sub-Category      mean       std\n",
              "16       Tables  3.890282  2.446381\n",
              "8     Fasteners  4.211982  2.413551\n",
              "10       Labels  3.846154  2.349248\n",
              "3       Binders  3.922521  2.291913\n",
              "0   Accessories  3.840000  2.284698\n",
              "4     Bookcases  3.807018  2.283352\n",
              "5        Chairs  3.818476  2.282652\n",
              "12        Paper  3.779562  2.231560\n",
              "14      Storage  3.732861  2.192409\n",
              "13       Phones  3.699663  2.189453\n",
              "11     Machines  3.826087  2.165361\n",
              "9   Furnishings  3.723093  2.155954\n",
              "2           Art  3.768844  2.131957\n",
              "1    Appliances  3.710300  2.123038\n",
              "7     Envelopes  3.566929  2.045299\n",
              "15     Supplies  3.405263  1.837002\n",
              "6       Copiers  3.441176  1.831583"
            ]
          },
          "execution_count": 38,
          "metadata": {},
          "output_type": "execute_result"
        }
      ],
      "source": [
        "# 소분류별 판매량 평균과 표준편차 계산\n",
        "subcategory_stats = df.groupby('Sub-Category')['Quantity'].agg(['mean', 'std']).reset_index()\n",
        "subcategory_stats = subcategory_stats.sort_values('std', ascending=False)\n",
        "subcategory_stats"
      ]
    },
    {
      "cell_type": "code",
      "execution_count": 50,
      "metadata": {},
      "outputs": [
        {
          "name": "stdout",
          "output_type": "stream",
          "text": [
            "가장 변동성이 큰 소분류: Tables (표준편차: 2.45)\n"
          ]
        }
      ],
      "source": [
        "# 가장 변동성이 큰 소분류 찾기\n",
        "most_variable = subcategory_stats.iloc[0]\n",
        "print(f\"가장 변동성이 큰 소분류: {most_variable['Sub-Category']} (표준편차: {most_variable['std']:.2f})\")"
      ]
    },
    {
      "cell_type": "code",
      "execution_count": 40,
      "metadata": {},
      "outputs": [
        {
          "data": {
            "application/vnd.plotly.v1+json": {
              "config": {
                "plotlyServerURL": "https://plot.ly"
              },
              "data": [
                {
                  "hovertemplate": "소분류=%{x}<br>판매량 표준편차=%{y}<extra></extra>",
                  "legendgroup": "Tables",
                  "marker": {
                    "color": "#636efa",
                    "pattern": {
                      "shape": ""
                    }
                  },
                  "name": "Tables",
                  "orientation": "v",
                  "showlegend": true,
                  "textposition": "auto",
                  "texttemplate": "%{y:.2f}",
                  "type": "bar",
                  "x": [
                    "Tables"
                  ],
                  "xaxis": "x",
                  "y": {
                    "bdata": "NfJzJTCSA0A=",
                    "dtype": "f8"
                  },
                  "yaxis": "y"
                },
                {
                  "hovertemplate": "소분류=%{x}<br>판매량 표준편차=%{y}<extra></extra>",
                  "legendgroup": "Fasteners",
                  "marker": {
                    "color": "#EF553B",
                    "pattern": {
                      "shape": ""
                    }
                  },
                  "name": "Fasteners",
                  "orientation": "v",
                  "showlegend": true,
                  "textposition": "auto",
                  "texttemplate": "%{y:.2f}",
                  "type": "bar",
                  "x": [
                    "Fasteners"
                  ],
                  "xaxis": "x",
                  "y": {
                    "bdata": "e88vlPNOA0A=",
                    "dtype": "f8"
                  },
                  "yaxis": "y"
                },
                {
                  "hovertemplate": "소분류=%{x}<br>판매량 표준편차=%{y}<extra></extra>",
                  "legendgroup": "Labels",
                  "marker": {
                    "color": "#00cc96",
                    "pattern": {
                      "shape": ""
                    }
                  },
                  "name": "Labels",
                  "orientation": "v",
                  "showlegend": true,
                  "textposition": "auto",
                  "texttemplate": "%{y:.2f}",
                  "type": "bar",
                  "x": [
                    "Labels"
                  ],
                  "xaxis": "x",
                  "y": {
                    "bdata": "ZLX8gELLAkA=",
                    "dtype": "f8"
                  },
                  "yaxis": "y"
                },
                {
                  "hovertemplate": "소분류=%{x}<br>판매량 표준편차=%{y}<extra></extra>",
                  "legendgroup": "Binders",
                  "marker": {
                    "color": "#ab63fa",
                    "pattern": {
                      "shape": ""
                    }
                  },
                  "name": "Binders",
                  "orientation": "v",
                  "showlegend": true,
                  "textposition": "auto",
                  "texttemplate": "%{y:.2f}",
                  "type": "bar",
                  "x": [
                    "Binders"
                  ],
                  "xaxis": "x",
                  "y": {
                    "bdata": "cGzYO9ZVAkA=",
                    "dtype": "f8"
                  },
                  "yaxis": "y"
                },
                {
                  "hovertemplate": "소분류=%{x}<br>판매량 표준편차=%{y}<extra></extra>",
                  "legendgroup": "Accessories",
                  "marker": {
                    "color": "#FFA15A",
                    "pattern": {
                      "shape": ""
                    }
                  },
                  "name": "Accessories",
                  "orientation": "v",
                  "showlegend": true,
                  "textposition": "auto",
                  "texttemplate": "%{y:.2f}",
                  "type": "bar",
                  "x": [
                    "Accessories"
                  ],
                  "xaxis": "x",
                  "y": {
                    "bdata": "flwFvw9HAkA=",
                    "dtype": "f8"
                  },
                  "yaxis": "y"
                },
                {
                  "hovertemplate": "소분류=%{x}<br>판매량 표준편차=%{y}<extra></extra>",
                  "legendgroup": "Bookcases",
                  "marker": {
                    "color": "#19d3f3",
                    "pattern": {
                      "shape": ""
                    }
                  },
                  "name": "Bookcases",
                  "orientation": "v",
                  "showlegend": true,
                  "textposition": "auto",
                  "texttemplate": "%{y:.2f}",
                  "type": "bar",
                  "x": [
                    "Bookcases"
                  ],
                  "xaxis": "x",
                  "y": {
                    "bdata": "0fW15k1EAkA=",
                    "dtype": "f8"
                  },
                  "yaxis": "y"
                },
                {
                  "hovertemplate": "소분류=%{x}<br>판매량 표준편차=%{y}<extra></extra>",
                  "legendgroup": "Chairs",
                  "marker": {
                    "color": "#FF6692",
                    "pattern": {
                      "shape": ""
                    }
                  },
                  "name": "Chairs",
                  "orientation": "v",
                  "showlegend": true,
                  "textposition": "auto",
                  "texttemplate": "%{y:.2f}",
                  "type": "bar",
                  "x": [
                    "Chairs"
                  ],
                  "xaxis": "x",
                  "y": {
                    "bdata": "4PkJSt9CAkA=",
                    "dtype": "f8"
                  },
                  "yaxis": "y"
                },
                {
                  "hovertemplate": "소분류=%{x}<br>판매량 표준편차=%{y}<extra></extra>",
                  "legendgroup": "Paper",
                  "marker": {
                    "color": "#B6E880",
                    "pattern": {
                      "shape": ""
                    }
                  },
                  "name": "Paper",
                  "orientation": "v",
                  "showlegend": true,
                  "textposition": "auto",
                  "texttemplate": "%{y:.2f}",
                  "type": "bar",
                  "x": [
                    "Paper"
                  ],
                  "xaxis": "x",
                  "y": {
                    "bdata": "UB3YEjzaAUA=",
                    "dtype": "f8"
                  },
                  "yaxis": "y"
                },
                {
                  "hovertemplate": "소분류=%{x}<br>판매량 표준편차=%{y}<extra></extra>",
                  "legendgroup": "Storage",
                  "marker": {
                    "color": "#FF97FF",
                    "pattern": {
                      "shape": ""
                    }
                  },
                  "name": "Storage",
                  "orientation": "v",
                  "showlegend": true,
                  "textposition": "auto",
                  "texttemplate": "%{y:.2f}",
                  "type": "bar",
                  "x": [
                    "Storage"
                  ],
                  "xaxis": "x",
                  "y": {
                    "bdata": "ssuJ4w2KAUA=",
                    "dtype": "f8"
                  },
                  "yaxis": "y"
                },
                {
                  "hovertemplate": "소분류=%{x}<br>판매량 표준편차=%{y}<extra></extra>",
                  "legendgroup": "Phones",
                  "marker": {
                    "color": "#FECB52",
                    "pattern": {
                      "shape": ""
                    }
                  },
                  "name": "Phones",
                  "orientation": "v",
                  "showlegend": true,
                  "textposition": "auto",
                  "texttemplate": "%{y:.2f}",
                  "type": "bar",
                  "x": [
                    "Phones"
                  ],
                  "xaxis": "x",
                  "y": {
                    "bdata": "S1iJ+/+DAUA=",
                    "dtype": "f8"
                  },
                  "yaxis": "y"
                },
                {
                  "hovertemplate": "소분류=%{x}<br>판매량 표준편차=%{y}<extra></extra>",
                  "legendgroup": "Machines",
                  "marker": {
                    "color": "#636efa",
                    "pattern": {
                      "shape": ""
                    }
                  },
                  "name": "Machines",
                  "orientation": "v",
                  "showlegend": true,
                  "textposition": "auto",
                  "texttemplate": "%{y:.2f}",
                  "type": "bar",
                  "x": [
                    "Machines"
                  ],
                  "xaxis": "x",
                  "y": {
                    "bdata": "MIpnqKhSAUA=",
                    "dtype": "f8"
                  },
                  "yaxis": "y"
                },
                {
                  "hovertemplate": "소분류=%{x}<br>판매량 표준편차=%{y}<extra></extra>",
                  "legendgroup": "Furnishings",
                  "marker": {
                    "color": "#EF553B",
                    "pattern": {
                      "shape": ""
                    }
                  },
                  "name": "Furnishings",
                  "orientation": "v",
                  "showlegend": true,
                  "textposition": "auto",
                  "texttemplate": "%{y:.2f}",
                  "type": "bar",
                  "x": [
                    "Furnishings"
                  ],
                  "xaxis": "x",
                  "y": {
                    "bdata": "OFA40WQ/AUA=",
                    "dtype": "f8"
                  },
                  "yaxis": "y"
                },
                {
                  "hovertemplate": "소분류=%{x}<br>판매량 표준편차=%{y}<extra></extra>",
                  "legendgroup": "Art",
                  "marker": {
                    "color": "#00cc96",
                    "pattern": {
                      "shape": ""
                    }
                  },
                  "name": "Art",
                  "orientation": "v",
                  "showlegend": true,
                  "textposition": "auto",
                  "texttemplate": "%{y:.2f}",
                  "type": "bar",
                  "x": [
                    "Art"
                  ],
                  "xaxis": "x",
                  "y": {
                    "bdata": "LUUfoT8OAUA=",
                    "dtype": "f8"
                  },
                  "yaxis": "y"
                },
                {
                  "hovertemplate": "소분류=%{x}<br>판매량 표준편차=%{y}<extra></extra>",
                  "legendgroup": "Appliances",
                  "marker": {
                    "color": "#ab63fa",
                    "pattern": {
                      "shape": ""
                    }
                  },
                  "name": "Appliances",
                  "orientation": "v",
                  "showlegend": true,
                  "textposition": "auto",
                  "texttemplate": "%{y:.2f}",
                  "type": "bar",
                  "x": [
                    "Appliances"
                  ],
                  "xaxis": "x",
                  "y": {
                    "bdata": "6G7lffv7AEA=",
                    "dtype": "f8"
                  },
                  "yaxis": "y"
                },
                {
                  "hovertemplate": "소분류=%{x}<br>판매량 표준편차=%{y}<extra></extra>",
                  "legendgroup": "Envelopes",
                  "marker": {
                    "color": "#FFA15A",
                    "pattern": {
                      "shape": ""
                    }
                  },
                  "name": "Envelopes",
                  "orientation": "v",
                  "showlegend": true,
                  "textposition": "auto",
                  "texttemplate": "%{y:.2f}",
                  "type": "bar",
                  "x": [
                    "Envelopes"
                  ],
                  "xaxis": "x",
                  "y": {
                    "bdata": "jpGh9MVcAEA=",
                    "dtype": "f8"
                  },
                  "yaxis": "y"
                },
                {
                  "hovertemplate": "소분류=%{x}<br>판매량 표준편차=%{y}<extra></extra>",
                  "legendgroup": "Supplies",
                  "marker": {
                    "color": "#19d3f3",
                    "pattern": {
                      "shape": ""
                    }
                  },
                  "name": "Supplies",
                  "orientation": "v",
                  "showlegend": true,
                  "textposition": "auto",
                  "texttemplate": "%{y:.2f}",
                  "type": "bar",
                  "x": [
                    "Supplies"
                  ],
                  "xaxis": "x",
                  "y": {
                    "bdata": "Vb716ltk/T8=",
                    "dtype": "f8"
                  },
                  "yaxis": "y"
                },
                {
                  "hovertemplate": "소분류=%{x}<br>판매량 표준편차=%{y}<extra></extra>",
                  "legendgroup": "Copiers",
                  "marker": {
                    "color": "#FF6692",
                    "pattern": {
                      "shape": ""
                    }
                  },
                  "name": "Copiers",
                  "orientation": "v",
                  "showlegend": true,
                  "textposition": "auto",
                  "texttemplate": "%{y:.2f}",
                  "type": "bar",
                  "x": [
                    "Copiers"
                  ],
                  "xaxis": "x",
                  "y": {
                    "bdata": "t/6pNSpO/T8=",
                    "dtype": "f8"
                  },
                  "yaxis": "y"
                }
              ],
              "layout": {
                "barmode": "relative",
                "legend": {
                  "title": {
                    "text": "소분류"
                  },
                  "tracegroupgap": 0
                },
                "showlegend": false,
                "template": {
                  "data": {
                    "bar": [
                      {
                        "error_x": {
                          "color": "#2a3f5f"
                        },
                        "error_y": {
                          "color": "#2a3f5f"
                        },
                        "marker": {
                          "line": {
                            "color": "#E5ECF6",
                            "width": 0.5
                          },
                          "pattern": {
                            "fillmode": "overlay",
                            "size": 10,
                            "solidity": 0.2
                          }
                        },
                        "type": "bar"
                      }
                    ],
                    "barpolar": [
                      {
                        "marker": {
                          "line": {
                            "color": "#E5ECF6",
                            "width": 0.5
                          },
                          "pattern": {
                            "fillmode": "overlay",
                            "size": 10,
                            "solidity": 0.2
                          }
                        },
                        "type": "barpolar"
                      }
                    ],
                    "carpet": [
                      {
                        "aaxis": {
                          "endlinecolor": "#2a3f5f",
                          "gridcolor": "white",
                          "linecolor": "white",
                          "minorgridcolor": "white",
                          "startlinecolor": "#2a3f5f"
                        },
                        "baxis": {
                          "endlinecolor": "#2a3f5f",
                          "gridcolor": "white",
                          "linecolor": "white",
                          "minorgridcolor": "white",
                          "startlinecolor": "#2a3f5f"
                        },
                        "type": "carpet"
                      }
                    ],
                    "choropleth": [
                      {
                        "colorbar": {
                          "outlinewidth": 0,
                          "ticks": ""
                        },
                        "type": "choropleth"
                      }
                    ],
                    "contour": [
                      {
                        "colorbar": {
                          "outlinewidth": 0,
                          "ticks": ""
                        },
                        "colorscale": [
                          [
                            0,
                            "#0d0887"
                          ],
                          [
                            0.1111111111111111,
                            "#46039f"
                          ],
                          [
                            0.2222222222222222,
                            "#7201a8"
                          ],
                          [
                            0.3333333333333333,
                            "#9c179e"
                          ],
                          [
                            0.4444444444444444,
                            "#bd3786"
                          ],
                          [
                            0.5555555555555556,
                            "#d8576b"
                          ],
                          [
                            0.6666666666666666,
                            "#ed7953"
                          ],
                          [
                            0.7777777777777778,
                            "#fb9f3a"
                          ],
                          [
                            0.8888888888888888,
                            "#fdca26"
                          ],
                          [
                            1,
                            "#f0f921"
                          ]
                        ],
                        "type": "contour"
                      }
                    ],
                    "contourcarpet": [
                      {
                        "colorbar": {
                          "outlinewidth": 0,
                          "ticks": ""
                        },
                        "type": "contourcarpet"
                      }
                    ],
                    "heatmap": [
                      {
                        "colorbar": {
                          "outlinewidth": 0,
                          "ticks": ""
                        },
                        "colorscale": [
                          [
                            0,
                            "#0d0887"
                          ],
                          [
                            0.1111111111111111,
                            "#46039f"
                          ],
                          [
                            0.2222222222222222,
                            "#7201a8"
                          ],
                          [
                            0.3333333333333333,
                            "#9c179e"
                          ],
                          [
                            0.4444444444444444,
                            "#bd3786"
                          ],
                          [
                            0.5555555555555556,
                            "#d8576b"
                          ],
                          [
                            0.6666666666666666,
                            "#ed7953"
                          ],
                          [
                            0.7777777777777778,
                            "#fb9f3a"
                          ],
                          [
                            0.8888888888888888,
                            "#fdca26"
                          ],
                          [
                            1,
                            "#f0f921"
                          ]
                        ],
                        "type": "heatmap"
                      }
                    ],
                    "histogram": [
                      {
                        "marker": {
                          "pattern": {
                            "fillmode": "overlay",
                            "size": 10,
                            "solidity": 0.2
                          }
                        },
                        "type": "histogram"
                      }
                    ],
                    "histogram2d": [
                      {
                        "colorbar": {
                          "outlinewidth": 0,
                          "ticks": ""
                        },
                        "colorscale": [
                          [
                            0,
                            "#0d0887"
                          ],
                          [
                            0.1111111111111111,
                            "#46039f"
                          ],
                          [
                            0.2222222222222222,
                            "#7201a8"
                          ],
                          [
                            0.3333333333333333,
                            "#9c179e"
                          ],
                          [
                            0.4444444444444444,
                            "#bd3786"
                          ],
                          [
                            0.5555555555555556,
                            "#d8576b"
                          ],
                          [
                            0.6666666666666666,
                            "#ed7953"
                          ],
                          [
                            0.7777777777777778,
                            "#fb9f3a"
                          ],
                          [
                            0.8888888888888888,
                            "#fdca26"
                          ],
                          [
                            1,
                            "#f0f921"
                          ]
                        ],
                        "type": "histogram2d"
                      }
                    ],
                    "histogram2dcontour": [
                      {
                        "colorbar": {
                          "outlinewidth": 0,
                          "ticks": ""
                        },
                        "colorscale": [
                          [
                            0,
                            "#0d0887"
                          ],
                          [
                            0.1111111111111111,
                            "#46039f"
                          ],
                          [
                            0.2222222222222222,
                            "#7201a8"
                          ],
                          [
                            0.3333333333333333,
                            "#9c179e"
                          ],
                          [
                            0.4444444444444444,
                            "#bd3786"
                          ],
                          [
                            0.5555555555555556,
                            "#d8576b"
                          ],
                          [
                            0.6666666666666666,
                            "#ed7953"
                          ],
                          [
                            0.7777777777777778,
                            "#fb9f3a"
                          ],
                          [
                            0.8888888888888888,
                            "#fdca26"
                          ],
                          [
                            1,
                            "#f0f921"
                          ]
                        ],
                        "type": "histogram2dcontour"
                      }
                    ],
                    "mesh3d": [
                      {
                        "colorbar": {
                          "outlinewidth": 0,
                          "ticks": ""
                        },
                        "type": "mesh3d"
                      }
                    ],
                    "parcoords": [
                      {
                        "line": {
                          "colorbar": {
                            "outlinewidth": 0,
                            "ticks": ""
                          }
                        },
                        "type": "parcoords"
                      }
                    ],
                    "pie": [
                      {
                        "automargin": true,
                        "type": "pie"
                      }
                    ],
                    "scatter": [
                      {
                        "fillpattern": {
                          "fillmode": "overlay",
                          "size": 10,
                          "solidity": 0.2
                        },
                        "type": "scatter"
                      }
                    ],
                    "scatter3d": [
                      {
                        "line": {
                          "colorbar": {
                            "outlinewidth": 0,
                            "ticks": ""
                          }
                        },
                        "marker": {
                          "colorbar": {
                            "outlinewidth": 0,
                            "ticks": ""
                          }
                        },
                        "type": "scatter3d"
                      }
                    ],
                    "scattercarpet": [
                      {
                        "marker": {
                          "colorbar": {
                            "outlinewidth": 0,
                            "ticks": ""
                          }
                        },
                        "type": "scattercarpet"
                      }
                    ],
                    "scattergeo": [
                      {
                        "marker": {
                          "colorbar": {
                            "outlinewidth": 0,
                            "ticks": ""
                          }
                        },
                        "type": "scattergeo"
                      }
                    ],
                    "scattergl": [
                      {
                        "marker": {
                          "colorbar": {
                            "outlinewidth": 0,
                            "ticks": ""
                          }
                        },
                        "type": "scattergl"
                      }
                    ],
                    "scattermap": [
                      {
                        "marker": {
                          "colorbar": {
                            "outlinewidth": 0,
                            "ticks": ""
                          }
                        },
                        "type": "scattermap"
                      }
                    ],
                    "scattermapbox": [
                      {
                        "marker": {
                          "colorbar": {
                            "outlinewidth": 0,
                            "ticks": ""
                          }
                        },
                        "type": "scattermapbox"
                      }
                    ],
                    "scatterpolar": [
                      {
                        "marker": {
                          "colorbar": {
                            "outlinewidth": 0,
                            "ticks": ""
                          }
                        },
                        "type": "scatterpolar"
                      }
                    ],
                    "scatterpolargl": [
                      {
                        "marker": {
                          "colorbar": {
                            "outlinewidth": 0,
                            "ticks": ""
                          }
                        },
                        "type": "scatterpolargl"
                      }
                    ],
                    "scatterternary": [
                      {
                        "marker": {
                          "colorbar": {
                            "outlinewidth": 0,
                            "ticks": ""
                          }
                        },
                        "type": "scatterternary"
                      }
                    ],
                    "surface": [
                      {
                        "colorbar": {
                          "outlinewidth": 0,
                          "ticks": ""
                        },
                        "colorscale": [
                          [
                            0,
                            "#0d0887"
                          ],
                          [
                            0.1111111111111111,
                            "#46039f"
                          ],
                          [
                            0.2222222222222222,
                            "#7201a8"
                          ],
                          [
                            0.3333333333333333,
                            "#9c179e"
                          ],
                          [
                            0.4444444444444444,
                            "#bd3786"
                          ],
                          [
                            0.5555555555555556,
                            "#d8576b"
                          ],
                          [
                            0.6666666666666666,
                            "#ed7953"
                          ],
                          [
                            0.7777777777777778,
                            "#fb9f3a"
                          ],
                          [
                            0.8888888888888888,
                            "#fdca26"
                          ],
                          [
                            1,
                            "#f0f921"
                          ]
                        ],
                        "type": "surface"
                      }
                    ],
                    "table": [
                      {
                        "cells": {
                          "fill": {
                            "color": "#EBF0F8"
                          },
                          "line": {
                            "color": "white"
                          }
                        },
                        "header": {
                          "fill": {
                            "color": "#C8D4E3"
                          },
                          "line": {
                            "color": "white"
                          }
                        },
                        "type": "table"
                      }
                    ]
                  },
                  "layout": {
                    "annotationdefaults": {
                      "arrowcolor": "#2a3f5f",
                      "arrowhead": 0,
                      "arrowwidth": 1
                    },
                    "autotypenumbers": "strict",
                    "coloraxis": {
                      "colorbar": {
                        "outlinewidth": 0,
                        "ticks": ""
                      }
                    },
                    "colorscale": {
                      "diverging": [
                        [
                          0,
                          "#8e0152"
                        ],
                        [
                          0.1,
                          "#c51b7d"
                        ],
                        [
                          0.2,
                          "#de77ae"
                        ],
                        [
                          0.3,
                          "#f1b6da"
                        ],
                        [
                          0.4,
                          "#fde0ef"
                        ],
                        [
                          0.5,
                          "#f7f7f7"
                        ],
                        [
                          0.6,
                          "#e6f5d0"
                        ],
                        [
                          0.7,
                          "#b8e186"
                        ],
                        [
                          0.8,
                          "#7fbc41"
                        ],
                        [
                          0.9,
                          "#4d9221"
                        ],
                        [
                          1,
                          "#276419"
                        ]
                      ],
                      "sequential": [
                        [
                          0,
                          "#0d0887"
                        ],
                        [
                          0.1111111111111111,
                          "#46039f"
                        ],
                        [
                          0.2222222222222222,
                          "#7201a8"
                        ],
                        [
                          0.3333333333333333,
                          "#9c179e"
                        ],
                        [
                          0.4444444444444444,
                          "#bd3786"
                        ],
                        [
                          0.5555555555555556,
                          "#d8576b"
                        ],
                        [
                          0.6666666666666666,
                          "#ed7953"
                        ],
                        [
                          0.7777777777777778,
                          "#fb9f3a"
                        ],
                        [
                          0.8888888888888888,
                          "#fdca26"
                        ],
                        [
                          1,
                          "#f0f921"
                        ]
                      ],
                      "sequentialminus": [
                        [
                          0,
                          "#0d0887"
                        ],
                        [
                          0.1111111111111111,
                          "#46039f"
                        ],
                        [
                          0.2222222222222222,
                          "#7201a8"
                        ],
                        [
                          0.3333333333333333,
                          "#9c179e"
                        ],
                        [
                          0.4444444444444444,
                          "#bd3786"
                        ],
                        [
                          0.5555555555555556,
                          "#d8576b"
                        ],
                        [
                          0.6666666666666666,
                          "#ed7953"
                        ],
                        [
                          0.7777777777777778,
                          "#fb9f3a"
                        ],
                        [
                          0.8888888888888888,
                          "#fdca26"
                        ],
                        [
                          1,
                          "#f0f921"
                        ]
                      ]
                    },
                    "colorway": [
                      "#636efa",
                      "#EF553B",
                      "#00cc96",
                      "#ab63fa",
                      "#FFA15A",
                      "#19d3f3",
                      "#FF6692",
                      "#B6E880",
                      "#FF97FF",
                      "#FECB52"
                    ],
                    "font": {
                      "color": "#2a3f5f"
                    },
                    "geo": {
                      "bgcolor": "white",
                      "lakecolor": "white",
                      "landcolor": "#E5ECF6",
                      "showlakes": true,
                      "showland": true,
                      "subunitcolor": "white"
                    },
                    "hoverlabel": {
                      "align": "left"
                    },
                    "hovermode": "closest",
                    "mapbox": {
                      "style": "light"
                    },
                    "paper_bgcolor": "white",
                    "plot_bgcolor": "#E5ECF6",
                    "polar": {
                      "angularaxis": {
                        "gridcolor": "white",
                        "linecolor": "white",
                        "ticks": ""
                      },
                      "bgcolor": "#E5ECF6",
                      "radialaxis": {
                        "gridcolor": "white",
                        "linecolor": "white",
                        "ticks": ""
                      }
                    },
                    "scene": {
                      "xaxis": {
                        "backgroundcolor": "#E5ECF6",
                        "gridcolor": "white",
                        "gridwidth": 2,
                        "linecolor": "white",
                        "showbackground": true,
                        "ticks": "",
                        "zerolinecolor": "white"
                      },
                      "yaxis": {
                        "backgroundcolor": "#E5ECF6",
                        "gridcolor": "white",
                        "gridwidth": 2,
                        "linecolor": "white",
                        "showbackground": true,
                        "ticks": "",
                        "zerolinecolor": "white"
                      },
                      "zaxis": {
                        "backgroundcolor": "#E5ECF6",
                        "gridcolor": "white",
                        "gridwidth": 2,
                        "linecolor": "white",
                        "showbackground": true,
                        "ticks": "",
                        "zerolinecolor": "white"
                      }
                    },
                    "shapedefaults": {
                      "line": {
                        "color": "#2a3f5f"
                      }
                    },
                    "ternary": {
                      "aaxis": {
                        "gridcolor": "white",
                        "linecolor": "white",
                        "ticks": ""
                      },
                      "baxis": {
                        "gridcolor": "white",
                        "linecolor": "white",
                        "ticks": ""
                      },
                      "bgcolor": "#E5ECF6",
                      "caxis": {
                        "gridcolor": "white",
                        "linecolor": "white",
                        "ticks": ""
                      }
                    },
                    "title": {
                      "x": 0.05
                    },
                    "xaxis": {
                      "automargin": true,
                      "gridcolor": "white",
                      "linecolor": "white",
                      "ticks": "",
                      "title": {
                        "standoff": 15
                      },
                      "zerolinecolor": "white",
                      "zerolinewidth": 2
                    },
                    "yaxis": {
                      "automargin": true,
                      "gridcolor": "white",
                      "linecolor": "white",
                      "ticks": "",
                      "title": {
                        "standoff": 15
                      },
                      "zerolinecolor": "white",
                      "zerolinewidth": 2
                    }
                  }
                },
                "title": {
                  "text": "소분류별 판매량 표준편차"
                },
                "xaxis": {
                  "anchor": "y",
                  "categoryarray": [
                    "Tables",
                    "Fasteners",
                    "Labels",
                    "Binders",
                    "Accessories",
                    "Bookcases",
                    "Chairs",
                    "Paper",
                    "Storage",
                    "Phones",
                    "Machines",
                    "Furnishings",
                    "Art",
                    "Appliances",
                    "Envelopes",
                    "Supplies",
                    "Copiers"
                  ],
                  "categoryorder": "array",
                  "domain": [
                    0,
                    1
                  ],
                  "title": {
                    "text": "소분류"
                  }
                },
                "yaxis": {
                  "anchor": "x",
                  "domain": [
                    0,
                    1
                  ],
                  "title": {
                    "text": "판매량 표준편차"
                  }
                }
              }
            }
          },
          "metadata": {},
          "output_type": "display_data"
        }
      ],
      "source": [
        "# 시각화\n",
        "fig = px.bar(subcategory_stats,\n",
        "             x='Sub-Category',\n",
        "             y='std',\n",
        "             title='소분류별 판매량 표준편차',\n",
        "             labels={'Sub-Category': '소분류', 'std': '판매량 표준편차'},\n",
        "             color='Sub-Category',\n",
        "             text_auto='.2f')\n",
        "fig.update_layout(showlegend=False)\n",
        "fig.show()"
      ]
    },
    {
      "cell_type": "markdown",
      "metadata": {},
      "source": [
        "Q9. 'region'(지역)별로 주문 건수(행 개수)를 구하고, pie chart로 시각화하세요."
      ]
    },
    {
      "cell_type": "code",
      "execution_count": 41,
      "metadata": {},
      "outputs": [
        {
          "data": {
            "application/vnd.plotly.v1+json": {
              "config": {
                "plotlyServerURL": "https://plot.ly"
              },
              "data": [
                {
                  "domain": {
                    "x": [
                      0,
                      1
                    ],
                    "y": [
                      0,
                      1
                    ]
                  },
                  "hole": 0.3,
                  "hovertemplate": "지역=%{label}<br>주문 건수=%{value}<extra></extra>",
                  "labels": [
                    "West",
                    "East",
                    "Central",
                    "South"
                  ],
                  "legendgroup": "",
                  "name": "",
                  "pull": [
                    0.1,
                    0,
                    0,
                    0
                  ],
                  "showlegend": true,
                  "textinfo": "percent+label",
                  "textposition": "inside",
                  "type": "pie",
                  "values": {
                    "bdata": "gwwgCxMJVAY=",
                    "dtype": "i2"
                  }
                }
              ],
              "layout": {
                "legend": {
                  "tracegroupgap": 0
                },
                "template": {
                  "data": {
                    "bar": [
                      {
                        "error_x": {
                          "color": "#2a3f5f"
                        },
                        "error_y": {
                          "color": "#2a3f5f"
                        },
                        "marker": {
                          "line": {
                            "color": "#E5ECF6",
                            "width": 0.5
                          },
                          "pattern": {
                            "fillmode": "overlay",
                            "size": 10,
                            "solidity": 0.2
                          }
                        },
                        "type": "bar"
                      }
                    ],
                    "barpolar": [
                      {
                        "marker": {
                          "line": {
                            "color": "#E5ECF6",
                            "width": 0.5
                          },
                          "pattern": {
                            "fillmode": "overlay",
                            "size": 10,
                            "solidity": 0.2
                          }
                        },
                        "type": "barpolar"
                      }
                    ],
                    "carpet": [
                      {
                        "aaxis": {
                          "endlinecolor": "#2a3f5f",
                          "gridcolor": "white",
                          "linecolor": "white",
                          "minorgridcolor": "white",
                          "startlinecolor": "#2a3f5f"
                        },
                        "baxis": {
                          "endlinecolor": "#2a3f5f",
                          "gridcolor": "white",
                          "linecolor": "white",
                          "minorgridcolor": "white",
                          "startlinecolor": "#2a3f5f"
                        },
                        "type": "carpet"
                      }
                    ],
                    "choropleth": [
                      {
                        "colorbar": {
                          "outlinewidth": 0,
                          "ticks": ""
                        },
                        "type": "choropleth"
                      }
                    ],
                    "contour": [
                      {
                        "colorbar": {
                          "outlinewidth": 0,
                          "ticks": ""
                        },
                        "colorscale": [
                          [
                            0,
                            "#0d0887"
                          ],
                          [
                            0.1111111111111111,
                            "#46039f"
                          ],
                          [
                            0.2222222222222222,
                            "#7201a8"
                          ],
                          [
                            0.3333333333333333,
                            "#9c179e"
                          ],
                          [
                            0.4444444444444444,
                            "#bd3786"
                          ],
                          [
                            0.5555555555555556,
                            "#d8576b"
                          ],
                          [
                            0.6666666666666666,
                            "#ed7953"
                          ],
                          [
                            0.7777777777777778,
                            "#fb9f3a"
                          ],
                          [
                            0.8888888888888888,
                            "#fdca26"
                          ],
                          [
                            1,
                            "#f0f921"
                          ]
                        ],
                        "type": "contour"
                      }
                    ],
                    "contourcarpet": [
                      {
                        "colorbar": {
                          "outlinewidth": 0,
                          "ticks": ""
                        },
                        "type": "contourcarpet"
                      }
                    ],
                    "heatmap": [
                      {
                        "colorbar": {
                          "outlinewidth": 0,
                          "ticks": ""
                        },
                        "colorscale": [
                          [
                            0,
                            "#0d0887"
                          ],
                          [
                            0.1111111111111111,
                            "#46039f"
                          ],
                          [
                            0.2222222222222222,
                            "#7201a8"
                          ],
                          [
                            0.3333333333333333,
                            "#9c179e"
                          ],
                          [
                            0.4444444444444444,
                            "#bd3786"
                          ],
                          [
                            0.5555555555555556,
                            "#d8576b"
                          ],
                          [
                            0.6666666666666666,
                            "#ed7953"
                          ],
                          [
                            0.7777777777777778,
                            "#fb9f3a"
                          ],
                          [
                            0.8888888888888888,
                            "#fdca26"
                          ],
                          [
                            1,
                            "#f0f921"
                          ]
                        ],
                        "type": "heatmap"
                      }
                    ],
                    "histogram": [
                      {
                        "marker": {
                          "pattern": {
                            "fillmode": "overlay",
                            "size": 10,
                            "solidity": 0.2
                          }
                        },
                        "type": "histogram"
                      }
                    ],
                    "histogram2d": [
                      {
                        "colorbar": {
                          "outlinewidth": 0,
                          "ticks": ""
                        },
                        "colorscale": [
                          [
                            0,
                            "#0d0887"
                          ],
                          [
                            0.1111111111111111,
                            "#46039f"
                          ],
                          [
                            0.2222222222222222,
                            "#7201a8"
                          ],
                          [
                            0.3333333333333333,
                            "#9c179e"
                          ],
                          [
                            0.4444444444444444,
                            "#bd3786"
                          ],
                          [
                            0.5555555555555556,
                            "#d8576b"
                          ],
                          [
                            0.6666666666666666,
                            "#ed7953"
                          ],
                          [
                            0.7777777777777778,
                            "#fb9f3a"
                          ],
                          [
                            0.8888888888888888,
                            "#fdca26"
                          ],
                          [
                            1,
                            "#f0f921"
                          ]
                        ],
                        "type": "histogram2d"
                      }
                    ],
                    "histogram2dcontour": [
                      {
                        "colorbar": {
                          "outlinewidth": 0,
                          "ticks": ""
                        },
                        "colorscale": [
                          [
                            0,
                            "#0d0887"
                          ],
                          [
                            0.1111111111111111,
                            "#46039f"
                          ],
                          [
                            0.2222222222222222,
                            "#7201a8"
                          ],
                          [
                            0.3333333333333333,
                            "#9c179e"
                          ],
                          [
                            0.4444444444444444,
                            "#bd3786"
                          ],
                          [
                            0.5555555555555556,
                            "#d8576b"
                          ],
                          [
                            0.6666666666666666,
                            "#ed7953"
                          ],
                          [
                            0.7777777777777778,
                            "#fb9f3a"
                          ],
                          [
                            0.8888888888888888,
                            "#fdca26"
                          ],
                          [
                            1,
                            "#f0f921"
                          ]
                        ],
                        "type": "histogram2dcontour"
                      }
                    ],
                    "mesh3d": [
                      {
                        "colorbar": {
                          "outlinewidth": 0,
                          "ticks": ""
                        },
                        "type": "mesh3d"
                      }
                    ],
                    "parcoords": [
                      {
                        "line": {
                          "colorbar": {
                            "outlinewidth": 0,
                            "ticks": ""
                          }
                        },
                        "type": "parcoords"
                      }
                    ],
                    "pie": [
                      {
                        "automargin": true,
                        "type": "pie"
                      }
                    ],
                    "scatter": [
                      {
                        "fillpattern": {
                          "fillmode": "overlay",
                          "size": 10,
                          "solidity": 0.2
                        },
                        "type": "scatter"
                      }
                    ],
                    "scatter3d": [
                      {
                        "line": {
                          "colorbar": {
                            "outlinewidth": 0,
                            "ticks": ""
                          }
                        },
                        "marker": {
                          "colorbar": {
                            "outlinewidth": 0,
                            "ticks": ""
                          }
                        },
                        "type": "scatter3d"
                      }
                    ],
                    "scattercarpet": [
                      {
                        "marker": {
                          "colorbar": {
                            "outlinewidth": 0,
                            "ticks": ""
                          }
                        },
                        "type": "scattercarpet"
                      }
                    ],
                    "scattergeo": [
                      {
                        "marker": {
                          "colorbar": {
                            "outlinewidth": 0,
                            "ticks": ""
                          }
                        },
                        "type": "scattergeo"
                      }
                    ],
                    "scattergl": [
                      {
                        "marker": {
                          "colorbar": {
                            "outlinewidth": 0,
                            "ticks": ""
                          }
                        },
                        "type": "scattergl"
                      }
                    ],
                    "scattermap": [
                      {
                        "marker": {
                          "colorbar": {
                            "outlinewidth": 0,
                            "ticks": ""
                          }
                        },
                        "type": "scattermap"
                      }
                    ],
                    "scattermapbox": [
                      {
                        "marker": {
                          "colorbar": {
                            "outlinewidth": 0,
                            "ticks": ""
                          }
                        },
                        "type": "scattermapbox"
                      }
                    ],
                    "scatterpolar": [
                      {
                        "marker": {
                          "colorbar": {
                            "outlinewidth": 0,
                            "ticks": ""
                          }
                        },
                        "type": "scatterpolar"
                      }
                    ],
                    "scatterpolargl": [
                      {
                        "marker": {
                          "colorbar": {
                            "outlinewidth": 0,
                            "ticks": ""
                          }
                        },
                        "type": "scatterpolargl"
                      }
                    ],
                    "scatterternary": [
                      {
                        "marker": {
                          "colorbar": {
                            "outlinewidth": 0,
                            "ticks": ""
                          }
                        },
                        "type": "scatterternary"
                      }
                    ],
                    "surface": [
                      {
                        "colorbar": {
                          "outlinewidth": 0,
                          "ticks": ""
                        },
                        "colorscale": [
                          [
                            0,
                            "#0d0887"
                          ],
                          [
                            0.1111111111111111,
                            "#46039f"
                          ],
                          [
                            0.2222222222222222,
                            "#7201a8"
                          ],
                          [
                            0.3333333333333333,
                            "#9c179e"
                          ],
                          [
                            0.4444444444444444,
                            "#bd3786"
                          ],
                          [
                            0.5555555555555556,
                            "#d8576b"
                          ],
                          [
                            0.6666666666666666,
                            "#ed7953"
                          ],
                          [
                            0.7777777777777778,
                            "#fb9f3a"
                          ],
                          [
                            0.8888888888888888,
                            "#fdca26"
                          ],
                          [
                            1,
                            "#f0f921"
                          ]
                        ],
                        "type": "surface"
                      }
                    ],
                    "table": [
                      {
                        "cells": {
                          "fill": {
                            "color": "#EBF0F8"
                          },
                          "line": {
                            "color": "white"
                          }
                        },
                        "header": {
                          "fill": {
                            "color": "#C8D4E3"
                          },
                          "line": {
                            "color": "white"
                          }
                        },
                        "type": "table"
                      }
                    ]
                  },
                  "layout": {
                    "annotationdefaults": {
                      "arrowcolor": "#2a3f5f",
                      "arrowhead": 0,
                      "arrowwidth": 1
                    },
                    "autotypenumbers": "strict",
                    "coloraxis": {
                      "colorbar": {
                        "outlinewidth": 0,
                        "ticks": ""
                      }
                    },
                    "colorscale": {
                      "diverging": [
                        [
                          0,
                          "#8e0152"
                        ],
                        [
                          0.1,
                          "#c51b7d"
                        ],
                        [
                          0.2,
                          "#de77ae"
                        ],
                        [
                          0.3,
                          "#f1b6da"
                        ],
                        [
                          0.4,
                          "#fde0ef"
                        ],
                        [
                          0.5,
                          "#f7f7f7"
                        ],
                        [
                          0.6,
                          "#e6f5d0"
                        ],
                        [
                          0.7,
                          "#b8e186"
                        ],
                        [
                          0.8,
                          "#7fbc41"
                        ],
                        [
                          0.9,
                          "#4d9221"
                        ],
                        [
                          1,
                          "#276419"
                        ]
                      ],
                      "sequential": [
                        [
                          0,
                          "#0d0887"
                        ],
                        [
                          0.1111111111111111,
                          "#46039f"
                        ],
                        [
                          0.2222222222222222,
                          "#7201a8"
                        ],
                        [
                          0.3333333333333333,
                          "#9c179e"
                        ],
                        [
                          0.4444444444444444,
                          "#bd3786"
                        ],
                        [
                          0.5555555555555556,
                          "#d8576b"
                        ],
                        [
                          0.6666666666666666,
                          "#ed7953"
                        ],
                        [
                          0.7777777777777778,
                          "#fb9f3a"
                        ],
                        [
                          0.8888888888888888,
                          "#fdca26"
                        ],
                        [
                          1,
                          "#f0f921"
                        ]
                      ],
                      "sequentialminus": [
                        [
                          0,
                          "#0d0887"
                        ],
                        [
                          0.1111111111111111,
                          "#46039f"
                        ],
                        [
                          0.2222222222222222,
                          "#7201a8"
                        ],
                        [
                          0.3333333333333333,
                          "#9c179e"
                        ],
                        [
                          0.4444444444444444,
                          "#bd3786"
                        ],
                        [
                          0.5555555555555556,
                          "#d8576b"
                        ],
                        [
                          0.6666666666666666,
                          "#ed7953"
                        ],
                        [
                          0.7777777777777778,
                          "#fb9f3a"
                        ],
                        [
                          0.8888888888888888,
                          "#fdca26"
                        ],
                        [
                          1,
                          "#f0f921"
                        ]
                      ]
                    },
                    "colorway": [
                      "#636efa",
                      "#EF553B",
                      "#00cc96",
                      "#ab63fa",
                      "#FFA15A",
                      "#19d3f3",
                      "#FF6692",
                      "#B6E880",
                      "#FF97FF",
                      "#FECB52"
                    ],
                    "font": {
                      "color": "#2a3f5f"
                    },
                    "geo": {
                      "bgcolor": "white",
                      "lakecolor": "white",
                      "landcolor": "#E5ECF6",
                      "showlakes": true,
                      "showland": true,
                      "subunitcolor": "white"
                    },
                    "hoverlabel": {
                      "align": "left"
                    },
                    "hovermode": "closest",
                    "mapbox": {
                      "style": "light"
                    },
                    "paper_bgcolor": "white",
                    "plot_bgcolor": "#E5ECF6",
                    "polar": {
                      "angularaxis": {
                        "gridcolor": "white",
                        "linecolor": "white",
                        "ticks": ""
                      },
                      "bgcolor": "#E5ECF6",
                      "radialaxis": {
                        "gridcolor": "white",
                        "linecolor": "white",
                        "ticks": ""
                      }
                    },
                    "scene": {
                      "xaxis": {
                        "backgroundcolor": "#E5ECF6",
                        "gridcolor": "white",
                        "gridwidth": 2,
                        "linecolor": "white",
                        "showbackground": true,
                        "ticks": "",
                        "zerolinecolor": "white"
                      },
                      "yaxis": {
                        "backgroundcolor": "#E5ECF6",
                        "gridcolor": "white",
                        "gridwidth": 2,
                        "linecolor": "white",
                        "showbackground": true,
                        "ticks": "",
                        "zerolinecolor": "white"
                      },
                      "zaxis": {
                        "backgroundcolor": "#E5ECF6",
                        "gridcolor": "white",
                        "gridwidth": 2,
                        "linecolor": "white",
                        "showbackground": true,
                        "ticks": "",
                        "zerolinecolor": "white"
                      }
                    },
                    "shapedefaults": {
                      "line": {
                        "color": "#2a3f5f"
                      }
                    },
                    "ternary": {
                      "aaxis": {
                        "gridcolor": "white",
                        "linecolor": "white",
                        "ticks": ""
                      },
                      "baxis": {
                        "gridcolor": "white",
                        "linecolor": "white",
                        "ticks": ""
                      },
                      "bgcolor": "#E5ECF6",
                      "caxis": {
                        "gridcolor": "white",
                        "linecolor": "white",
                        "ticks": ""
                      }
                    },
                    "title": {
                      "x": 0.05
                    },
                    "xaxis": {
                      "automargin": true,
                      "gridcolor": "white",
                      "linecolor": "white",
                      "ticks": "",
                      "title": {
                        "standoff": 15
                      },
                      "zerolinecolor": "white",
                      "zerolinewidth": 2
                    },
                    "yaxis": {
                      "automargin": true,
                      "gridcolor": "white",
                      "linecolor": "white",
                      "ticks": "",
                      "title": {
                        "standoff": 15
                      },
                      "zerolinecolor": "white",
                      "zerolinewidth": 2
                    }
                  }
                },
                "title": {
                  "text": "지역별 주문 건수 분포"
                }
              }
            }
          },
          "metadata": {},
          "output_type": "display_data"
        }
      ],
      "source": [
        "# 지역별 주문 건수 계산\n",
        "region_counts = df['Region'].value_counts()\n",
        "\n",
        "# plotly를 사용한 파이 차트 시각화\n",
        "fig = px.pie(\n",
        "    values=region_counts.values,\n",
        "    names=region_counts.index,\n",
        "    title='지역별 주문 건수 분포',\n",
        "    labels={'names': '지역', 'values': '주문 건수'},\n",
        "    hole=0.3\n",
        ")\n",
        "\n",
        "# 차트 레이아웃 조정\n",
        "fig.update_traces(\n",
        "    textposition='inside',\n",
        "    textinfo='percent+label',\n",
        "    pull=[0.1 if i == region_counts.idxmax() else 0 for i in region_counts.index]\n",
        ")\n",
        "\n",
        "# 차트 출력\n",
        "fig.show()\n"
      ]
    },
    {
      "cell_type": "markdown",
      "metadata": {},
      "source": [
        "Q10. 매출액 대비 이익의 비율(이익률)을 계산하여, 이익률이 가장 높은 상위 5개 주문의 정보를 출력하세요."
      ]
    },
    {
      "cell_type": "code",
      "execution_count": 43,
      "metadata": {},
      "outputs": [
        {
          "data": {
            "text/html": [
              "<div>\n",
              "<style scoped>\n",
              "    .dataframe tbody tr th:only-of-type {\n",
              "        vertical-align: middle;\n",
              "    }\n",
              "\n",
              "    .dataframe tbody tr th {\n",
              "        vertical-align: top;\n",
              "    }\n",
              "\n",
              "    .dataframe thead th {\n",
              "        text-align: right;\n",
              "    }\n",
              "</style>\n",
              "<table border=\"1\" class=\"dataframe\">\n",
              "  <thead>\n",
              "    <tr style=\"text-align: right;\">\n",
              "      <th></th>\n",
              "      <th>Category</th>\n",
              "      <th>Sub-Category</th>\n",
              "      <th>Sales</th>\n",
              "      <th>Profit</th>\n",
              "      <th>profit_ratio</th>\n",
              "    </tr>\n",
              "  </thead>\n",
              "  <tbody>\n",
              "    <tr>\n",
              "      <th>2323</th>\n",
              "      <td>Office Supplies</td>\n",
              "      <td>Binders</td>\n",
              "      <td>76.30</td>\n",
              "      <td>38.15</td>\n",
              "      <td>0.5</td>\n",
              "    </tr>\n",
              "    <tr>\n",
              "      <th>1708</th>\n",
              "      <td>Office Supplies</td>\n",
              "      <td>Paper</td>\n",
              "      <td>7.42</td>\n",
              "      <td>3.71</td>\n",
              "      <td>0.5</td>\n",
              "    </tr>\n",
              "    <tr>\n",
              "      <th>4578</th>\n",
              "      <td>Office Supplies</td>\n",
              "      <td>Binders</td>\n",
              "      <td>113.10</td>\n",
              "      <td>56.55</td>\n",
              "      <td>0.5</td>\n",
              "    </tr>\n",
              "    <tr>\n",
              "      <th>4584</th>\n",
              "      <td>Office Supplies</td>\n",
              "      <td>Envelopes</td>\n",
              "      <td>76.58</td>\n",
              "      <td>38.29</td>\n",
              "      <td>0.5</td>\n",
              "    </tr>\n",
              "    <tr>\n",
              "      <th>6463</th>\n",
              "      <td>Office Supplies</td>\n",
              "      <td>Labels</td>\n",
              "      <td>74.00</td>\n",
              "      <td>37.00</td>\n",
              "      <td>0.5</td>\n",
              "    </tr>\n",
              "  </tbody>\n",
              "</table>\n",
              "</div>"
            ],
            "text/plain": [
              "             Category Sub-Category   Sales  Profit  profit_ratio\n",
              "2323  Office Supplies      Binders   76.30   38.15           0.5\n",
              "1708  Office Supplies        Paper    7.42    3.71           0.5\n",
              "4578  Office Supplies      Binders  113.10   56.55           0.5\n",
              "4584  Office Supplies    Envelopes   76.58   38.29           0.5\n",
              "6463  Office Supplies       Labels   74.00   37.00           0.5"
            ]
          },
          "execution_count": 43,
          "metadata": {},
          "output_type": "execute_result"
        }
      ],
      "source": [
        "# 이익률 계산 (profit/revenue)\n",
        "df['profit_ratio'] = df['Profit'] / df['Sales']\n",
        "\n",
        "# 이익률이 가장 높은 상위 5개 주문 정렬 및 출력\n",
        "top5_profit_ratio = df.sort_values('profit_ratio', ascending=False).head(5)\n",
        "top5_profit_ratio[['Category', 'Sub-Category', 'Sales', 'Profit', 'profit_ratio']]\n"
      ]
    },
    {
      "cell_type": "markdown",
      "metadata": {
        "id": "Ze1T6Ghp1Hk6"
      },
      "source": [
        "#### ✏️ 실습 과제\n",
        "> sample_superstore.csv 파일을 사용하여 다음 문제를 풀어보세요.\n",
        ">\n",
        "> 시각화는 plotly.express 라이브러리를 사용하세요."
      ]
    },
    {
      "cell_type": "markdown",
      "metadata": {},
      "source": [
        "1. 'Quantity' 컬럼의 분포를 히스토그램과 박스플롯으로 시각화하고 분포 특성을 설명하세요.\n"
      ]
    },
    {
      "cell_type": "markdown",
      "metadata": {},
      "source": [
        "   2. 'Category'별 평균 매출액('Sales')을 계산하고, 가장 높은 매출을 기록한 카테고리를 찾으세요."
      ]
    },
    {
      "cell_type": "markdown",
      "metadata": {},
      "source": [
        "3. 'Sales'와 'Quantity'의 상관계수를 계산하고, 그 결과를 해석하세요.\n"
      ]
    },
    {
      "cell_type": "markdown",
      "metadata": {},
      "source": [
        "4. 'Sales' 컬럼의 기초 통계량(평균, 중앙값, 표준편차, 왜도, 첨도)을 계산하고 각 지표의 의미를 설명하세요.\n"
      ]
    },
    {
      "cell_type": "markdown",
      "metadata": {},
      "source": [
        "5. 평균이 50, 표준편차가 10인 정규분포에서 100개 샘플을 생성한 후, x=60일 때의 누적분포함수(CDF)와 생존함수(SF) 값을 계산하고 그 의미를 설명하세요.\n"
      ]
    },
    {
      "cell_type": "markdown",
      "metadata": {},
      "source": [
        "6. 'Quantity' 컬럼의 이상치를 IQR 기준으로 식별하고, 이상치가 포함된 주문 건수를 출력하세요.\n"
      ]
    },
    {
      "cell_type": "markdown",
      "metadata": {},
      "source": [
        "7. 'Category'별 매출액('Sales') 분포를 바이올린 플롯으로 시각화하고 비교하세요. (plotly 사용)\n"
      ]
    }
  ],
  "metadata": {
    "colab": {
      "provenance": []
    },
    "kernelspec": {
      "display_name": ".venv",
      "language": "python",
      "name": "python3"
    },
    "language_info": {
      "codemirror_mode": {
        "name": "ipython",
        "version": 3
      },
      "file_extension": ".py",
      "mimetype": "text/x-python",
      "name": "python",
      "nbconvert_exporter": "python",
      "pygments_lexer": "ipython3",
      "version": "3.12.9"
    }
  },
  "nbformat": 4,
  "nbformat_minor": 0
}
