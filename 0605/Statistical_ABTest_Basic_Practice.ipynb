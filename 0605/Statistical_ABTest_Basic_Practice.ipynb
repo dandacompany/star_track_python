{
  "cells": [
    {
      "cell_type": "markdown",
      "metadata": {
        "id": "w3sJBbEQ_zvh"
      },
      "source": [
        "## 🐍 Online Practical AB Test\n",
        "\n",
        "### 1. 온라인 A/B 테스트의 중요성\n",
        "\n",
        "### 💡 개념 (Concept)\n",
        "\n",
        ">온라인 비즈니스에서 사용자가 외부 광고 노출부터 최종 구매(또는 목표 행동)에 이르기까지의 과정을 **퍼널(Funnel)** 이라고 합니다. \n",
        ">\n",
        ">각 퍼널 단계(예: 서비스 진입, 상품 조회, 장바구니 추가, 결제 등)에서 사용자 경험(UX), 상품 구성, 문구 등을 최적화하는 것은 매우 중요합니다.\n",
        ">\n",
        ">온라인 A/B 테스트는 이러한 최적화 과정에서 직관이나 감에 의존하는 대신, **통계적 실험 설계** 를 통해 데이터에 기반한 의사결정을 내릴 수 있도록 돕습니다.\n",
        ">\n",
        ">즉, 두 가지 이상의 버전(A안, B안 등)을 사용자 그룹에게 무작위로 노출시켜 어떤 버전이 더 나은 성과를 보이는지 객관적으로 검증하는 방법입니다.\n",
        "\n",
        "### 💭 생각해볼 점\n",
        "\n",
        "> 우리 서비스의 주요 퍼널은 어떻게 구성되어 있나요?\n",
        "> \n",
        "> 각 퍼널 단계에서 어떤 지표를 개선하고 싶나요?\n",
        "> \n",
        "> A/B 테스트를 통해 어떤 가설을 검증해볼 수 있을까요?\n",
        "---\n",
        "### 2. 빅테크 기업들의 A/B 테스트 사례\n",
        "\n",
        "글로벌 빅테크 기업들은 A/B 테스트를 적극적으로 활용하여 서비스를 개선하고 비즈니스 성과를 극대화하고 있습니다. 이러한 사례들은 A/B 테스트의 강력한 효과와 다양한 활용 가능성을 보여줍니다.\n",
        "\n",
        "> **시장 동향**: 글로벌 A/B 테스트 도구 시장은 빠르게 성장하고 있으며, 2033년에는 203억 달러 규모에 이를 것으로 예상됩니다 (연평균 성장률 11.5%).\n",
        "> \n",
        "> **Google**: 검색 결과 UI, 광고 문구, 링크 색상 등 다양한 요소를 테스트하여 사용자 경험을 최적화하고 수익을 증대시킵니다. (예: 파란색 링크 색상 변경으로 연간 2억 달러 추가 수익)\n",
        "> \n",
        "> **Meta (Facebook)**: Mean2.0 회귀 조정과 같은 고급 방법론을 도입하여 테스트 결과의 신뢰도를 높이고 의사결정 속도를 개선합니다.\n",
        "> \n",
        "> **YouTube**: 썸네일, 제목, 설명 등을 동시에 테스트하는 기능을 도입하여 콘텐츠 클릭률(CTR)과 시청 시간을 최적화합니다.\n",
        "> \n",
        "> **Netflix**: UI, 개인화, 페이지 로딩 시간, CTA 버튼 문구 등 서비스 전반에 걸쳐 A/B 테스트를 수행하여 사용자 경험과 전환율을 향상시킵니다. (예: 'TRY IT NOW' 버튼 문구 효과)\n",
        "> \n",
        "> **Booking.com**: 연간 2만 5천 개 이상의 A/B 테스트를 실행하며, 온보딩 과정, 팝업 문구 등을 최적화합니다.\n",
        "> \n",
        "> **Amazon**: 페이지 레이아웃(예: 너비 고정) 테스트를 통해 콘텐츠 가독성을 높이고 구매 전환율을 개선합니다.\n",
        "> \n",
        "> **현대자동차**: VWO와 같은 도구를 활용하여 시승 신청 페이지의 다변량 테스트를 진행, 클릭률을 크게 향상시킨 사례가 있습니다.\n",
        "> \n",
        "\n",
        "**최신 동향**: 단순 UI 비교를 넘어 사용자 행동 패턴 분석, 고급 통계 기법 활용으로 진화하고 있으며, 디지털 비즈니스의 핵심 성장 전략으로 자리매김하고 있습니다."
      ]
    },
    {
      "cell_type": "markdown",
      "metadata": {
        "id": "fOk1SRIf_zvk"
      },
      "source": [
        "---\n",
        "\n",
        "## 3. 퍼널 단계별 A/B 테스트 아이디어 예시\n",
        "\n",
        "### 💡 개념 (Concept)\n",
        "\n",
        "A/B 테스트는 퍼널의 각 단계에서 다양한 아이디어를 검증하는 데 사용될 수 있습니다. 다음은 몇 가지 예시입니다.\n",
        "\n",
        "* **(외부 광고 노출)** SEO 설정 변경(예: 페이지 타이틀, 메타 설명)에 따른 자연 검색 유입률 차이 분석.\n",
        "\n",
        "* **(서비스 진입)** ATF(Above The Fold, 화면 상단) 영역에 프로모션 배너를 노출하는 것과 베스트셀러 상품 리스트를 보여주는 것 중 어느 것이 초기 이탈률 감소에 효과적인가?\n",
        "* **(카테고리 조회 / 검색)** 모바일 앱에서 카테고리 메뉴를 햄버거 메뉴 안에 숨기는 것과 하단 탭 바에 항상 노출하는 것 중 어느 방식이 카테고리 탐색을 더 활성화시키는가?\n",
        "* **(상품 목록 조회)** 상품 정렬 알고리즘(예: 인기순, 최신순, AI 추천순) 변경이 상품 상세 페이지 조회 수에 미치는 영향.\n",
        "* **(상품 상세 정보)** 상품 상세 페이지에 고객 후기를 상단에 배치하는 것과 하단에 배치하는 것 중 구매 전환율에 더 긍정적인 영향을 미치는 것은?\n",
        "* **(장바구니 추가)** '장바구니 담기' 버튼의 색상이나 문구 변경(예: '지금 담기' vs '장바구니에 추가')이 장바구니 추가율에 미치는 영향.\n",
        "* **(결제 페이지 진입)** 장바구니 페이지에서 '바로 구매' 버튼을 강조하는 것과 '쇼핑 계속하기' 옵션을 함께 제공하는 것 중 결제 페이지 진입률에 더 효과적인 것은?\n",
        "* **(결제 수단 선택)** 간편 결제 옵션(예: 카카오페이, 네이버페이)을 기본 결제 수단 위에 표시하는 것이 결제 완료율을 높이는가?\n",
        "* **(결제 완료)** 결제 완료 후, 관련 상품 추천과 할인 쿠폰 제공 중 어느 것이 추가 구매 또는 재방문율을 높이는가?\n",
        "* **(결제 취소/환불)** 결제 취소 시, 취소 사유를 상세히 묻는 것과 즉시 취소 처리 후 설문조사를 통해 피드백을 받는 것 중 어느 것이 사용자 만족도 유지에 더 나은가?\n",
        "\n",
        "\n",
        "\n"
      ]
    },
    {
      "cell_type": "markdown",
      "metadata": {},
      "source": [
        "\n",
        "### ✏️ 연습 문제 (Practice Problems)\n",
        "\n",
        "1.  자신이 자주 사용하는 온라인 서비스 하나를 선택하고, 해당 서비스의 특정 퍼널 단계에서 개선하고 싶은 부분을 정의한 후, 이를 검증하기 위한 A/B 테스트 아이디어를 구체적으로 작성해 보세요.\n",
        " (가설, 실험군(B안) 내용, 측정 지표 포함)"
      ]
    },
    {
      "cell_type": "markdown",
      "metadata": {
        "id": "4UNFRQxO_zvk"
      },
      "source": [
        "> 연습 문제 1번 작성 (무작위 발표)\n",
        ">\n",
        "> "
      ]
    },
    {
      "cell_type": "markdown",
      "metadata": {
        "id": "bRtkX2md_zvk"
      },
      "source": [
        "---\n",
        "\n",
        "## 4. A/B 테스트 설계 시 고려사항\n",
        "\n",
        "### 💡 개념 (Concept)\n",
        "\n",
        "성공적인 A/B 테스트를 위해서는 실험 설계 단계에서 여러 요소를 신중하게 고려해야 합니다.\n",
        "\n",
        "**실험 설계 (Experimental Design)**\n",
        "\n",
        "* **실험 대상 규모**\n",
        "  *  얼마나 많은 사용자를 대상으로 실험을 진행해야 통계적으로 유의미한 결과를 얻을 수 있을까요?  \n",
        "  *  (이는 최소 감지 효과, 통계적 검정력 등과 관련됩니다.)\n",
        "  \n",
        "* **실험 기간**\n",
        "  *  seasonality(계절성), 요일 효과 등을 고려하여 얼마나 오랫동안 실험을 진행해야 할까요? \n",
        "  *  너무 짧으면 우연한 결과에 휘둘릴 수 있고, 너무 길면 다른 외부 요인의 영향을 받을 수 있습니다.\n",
        "* **실험군과 대조군 (Control Group vs. Treatment Group)**\n",
        "  *  일반적으로 하나의 대조군(A)과 하나 이상의 실험군(B, C, ...)을 설정합니다. \n",
        "  *  그룹 수는 테스트하고자 하는 아이디어의 수에 따라 달라집니다.\n",
        "* **사용자 할당 (User Assignment)**\n",
        "  *  사용자를 각 그룹에 어떻게 무작위로, 그리고 일관되게 배정할 것인가? \n",
        "  *  (예: 쿠키 기반, 사용자 ID 기반) 동일 사용자가 여러 그룹에 중복 노출되지 않도록 주의해야 합니다.\n",
        "* **핵심 지표 (Key Metrics)**\n",
        "  *  실험의 성공 여부를 판단할 주요 지표(Primary Metric)와 보조 지표(Secondary Metrics)는 무엇으로 할 것인가? \n",
        "  *  (예: 전환율, 클릭률, 평균 구매액, 이탈률 등) 지표는 가설과 직접적으로 연결되어야 합니다.\n",
        "* **통계적 검정 방법 (Statistical Test Algorithm)**\n",
        "  *  수집된 데이터를 분석하고 가설을 검증하기 위해 어떤 통계적 방법을 사용할 것인가? \n",
        "  *  (예: t-test, z-test, Chi-squared test 등. 이는 지표의 종류에 따라 달라집니다.)\n",
        "  \n",
        "\n",
        "**결과 분석 (Result Analysis)**\n",
        "\n",
        "* **결과 해석**\n",
        "  *  p-value, 신뢰 구간(Confidence Interval) 등을 바탕으로 실험 결과를 어떻게 해석하고, 어떤 결정을 내릴 것인가? \n",
        "  *  통계적 유의성뿐만 아니라 실제 비즈니스 임팩트도 고려해야 합니다.\n",
        "  \n",
        "* **결론 도출 실패 시**\n",
        "  *  실험 결과가 명확하지 않거나 통계적으로 유의미하지 않을 경우, 실험을 폐기할 것인가, 아니면 가설을 수정하여 다시 시도할 것인가?\n",
        "* **부정적 영향 발생 시**\n",
        "  *  실험군이 대조군보다 현저히 낮은 성과를 보이거나 비즈니스에 손실을 초래할 경우, 언제 실험을 중단해야 하는가? (Early Stopping)"
      ]
    },
    {
      "cell_type": "markdown",
      "metadata": {},
      "source": [
        "\n",
        "### ✏️ 연습 문제 (Practice Problems)\n",
        "\n",
        "1.  만약 특정 기능 변경에 대한 A/B 테스트를 일주일간 진행했는데, p-value가 0.2로 나왔습니다. 이 결과를 어떻게 해석해야 할까요? 다음 액션은 무엇이 될 수 있을까요?\n"
      ]
    },
    {
      "cell_type": "markdown",
      "metadata": {
        "id": "eVmbOfnG_zvk"
      },
      "source": [
        "> p-value가 0.2로 나온 경우, 이는 통계적으로 유의미한 결과를 얻지 못했다는 것을 의미합니다. \n",
        "> 일반적인 유의수준(α=0.05)보다 큰 p-value이므로 귀무가설을 기각할 수 없습니다.\n",
        "> \n",
        "> 다음 액션으로 고려할 수 있는 사항들\n",
        "> 1. 실험 기간을 늘려 더 많은 데이터를 수집\n",
        ">\n",
        "> 2. 실험군의 크기를 늘려 통계적 검정력 향상\n",
        ">\n",
        "> 3. 효과 크기(Effect Size)를 재검토하여 실질적인 비즈니스 임팩트가 있는지 확인\n",
        ">\n",
        "> 4. 실험 설계를 재검토하여 다른 변수들의 영향을 최소화"
      ]
    },
    {
      "cell_type": "markdown",
      "metadata": {},
      "source": [
        "2.  새로운 추천 알고리즘(B안)이 기존 알고리즘(A안)보다 클릭률은 높였지만, 사용자의 세션당 페이지뷰 수는 감소시켰습니다. 이 경우 어떤 결정을 내릴 수 있을까요? 고려해야 할 점은 무엇일까요?"
      ]
    },
    {
      "cell_type": "markdown",
      "metadata": {},
      "source": [
        "> 이는 복합적인 결과를 보여주는 경우로, 다음과 같은 관점에서 분석이 필요합니다\n",
        "> \n",
        "> 1. 비즈니스 목표 관점\n",
        ">    - 클릭률 향상이 비즈니스 목표에 얼마나 중요한지\n",
        ">    - 페이지뷰 감소가 수익에 미치는 영향\n",
        "> \n",
        "> 2. 사용자 경험 관점\n",
        ">    - 클릭률이 높아진 것이 사용자의 의도된 행동인지\n",
        ">    - 페이지뷰 감소가 사용자 만족도에 미치는 영향\n",
        "> \n",
        "> 3. 장기적 영향\n",
        ">    - 이러한 변화가 사용자 행동에 장기적으로 어떤 영향을 미칠지\n",
        ">    - 수익 모델에 미치는 영향\n",
        "> \n",
        "> 4. 추가 분석 필요사항\n",
        ">    - 다른 지표들(예: 체류시간, 전환율 등)의 변화 확인\n",
        ">    - 사용자 세그먼트별 차이 분석"
      ]
    },
    {
      "cell_type": "markdown",
      "metadata": {
        "id": "FSPUKxrv_zvk"
      },
      "source": [
        "---\n",
        "\n",
        "## 5. A/B 테스트 기본 단계 및 핵심 통계 개념\n",
        "\n",
        "### 💡 개념 (Concept)\n",
        "\n",
        "A/B 테스트는 다음과 같은 기본 단계를 따르며, 몇 가지 중요한 통계적 개념에 기반합니다.\n",
        "\n",
        "**A/B 테스트 기본 단계**\n",
        "\n",
        "1.  **목표 설정 (Goal Setting)**: 테스트의 목적을 명확히 하고, 측정할 핵심 지표(KPI)를 결정합니다. (예: 웹페이지 클릭률 5% 향상)\n",
        "2.  **가설 수립 (Hypothesis Formulation)**: \"B안은 A안보다 \\[측정 지표]에서 더 나은 성과를 보일 것이다\"와 같이 검증 가능한 가설을 설정합니다. (귀무 가설 $H_0$, 대립 가설 $H_1$)\n",
        "3.  **대상 그룹 분할 (Audience Segmentation)**: 사용자를 무작위로 두 개 이상의 그룹(A, B 등)으로 나누어 각 그룹에게 다른 버전을 제공합니다. 무작위 배정은 외부 요인의 영향을 최소화합니다.\n",
        "4.  **실험 실행 (Experiment Execution)**: 설정된 기간 동안 두 버전을 동시에 운영하며 데이터를 수집합니다. 충분한 데이터가 모일 때까지 진행합니다.\n",
        "5.  **데이터 분석 (Data Analysis)**: 수집된 데이터를 통계적으로 분석하여 어느 버전이 더 나은 성과를 보이는지 검증합니다.\n",
        "\n",
        "**실험 변수의 타입에 따른 통계 검정**\n",
        "\n",
        "* **이산형 변수 (Discrete/Categorical Variable)**: 구매 여부(Yes/No), 클릭 여부(Clicked/Not Clicked), 재방문 여부 등 범주형 데이터.\n",
        "    * 통계 검정 방법: 비율 검정 (z-test for proportions), 카이제곱 검정 ($\\chi^2$-test), 피셔의 정확 검정 (Fisher's Exact Test).\n",
        "* **연속형 변수 (Continuous Variable)**: 구매 금액, 체류 시간, 객단가(Average Order Value) 등 수치형 데이터.\n",
        "    * 통계 검정 방법: t-검정 (t-test), 분산 분석 (ANOVA), 다변량 분산 분석 (MANOVA).\n",
        "\n",
        "**중심극한정리 (Central Limit Theorem, CLT) 와 대수의 법칙 (Law of Large Numbers, LLN):**\n",
        "\n",
        "* **CLT**: 표본의 크기가 충분히 크다면(일반적으로 n ≥ 30), 원래 모집단의 분포 형태와 관계없이 표본 평균의 분포는 정규분포에 가까워집니다. 이는 A/B 테스트에서 정규분포 기반의 통계적 추론(p-value 계산, 신뢰구간 추정 등)을 가능하게 하는 중요한 이론입니다.\n",
        "* **LLN**: 표본의 크기가 커질수록 표본 평균이 모집단의 실제 평균(기대값)에 가까워집니다. 즉, 더 많은 데이터를 모을수록 테스트 결과가 실제 효과(예: 실제 전환율)에 더 근접하게 됩니다.\n",
        "\n",
        "**최소 감지 효과 (Minimum Detectable Effect, MDE)**\n",
        "\n",
        "* 실험에서 통계적으로 유의미한 차이를 감지하고자 하는 **최소한의 효과 크기**를 의미합니다.\n",
        "* MDE는 실험에 필요한 **샘플 사이즈**를 결정하는 데 중요한 요소입니다. MDE가 작을수록 (즉, 더 미세한 차이를 감지하고 싶을수록) 더 많은 샘플이 필요합니다.\n",
        "* MDE 설정은 비즈니스 목표, 이전 데이터 분석, 리소스 제약 등을 고려하여 결정됩니다.\n",
        "* **효과 크기 (Effect Size)**는 두 집단 간 차이의 크기를 나타내는 표준화된 지표입니다.\n",
        "    * 이산형 변수 (비율 차이): Cohen's h  ($h = 2 \\cdot \\arcsin(\\sqrt{p_1}) - 2 \\cdot \\arcsin(\\sqrt{p_2})$)\n",
        "    * 연속형 변수 (평균 차이): Cohen's d ($d = \\frac{\\mu_1 - \\mu_2}{\\sigma_{pooled}}$)\n",
        "\n",
        "**유의수준 (Significance Level, $\\alpha$)**\n",
        "\n",
        "* 귀무 가설($H_0$)이 실제로 참인데도 불구하고 이를 잘못 기각할 확률의 최댓값입니다. 즉, **1종 오류 (Type I Error)**를 범할 확률입니다.\n",
        "* 일반적으로 $\\alpha = 0.05$ (5%) 또는 $\\alpha = 0.01$ (1%)로 설정됩니다.\n",
        "* $\\alpha = 0.05$는 \"실제로는 차이가 없는데, 우연히 차이가 있는 것처럼 보여서 잘못된 결론을 내릴 확률을 5% 이내로 제어하겠다\"는 의미입니다.\n",
        "\n",
        "**통계적 검정력 (Statistical Power, $1-\\beta$):**\n",
        "\n",
        "* 귀무 가설($H_0$)이 실제로 거짓일 때 이를 올바르게 기각할 확률입니다. 즉, **실제 효과가 있을 때 이를 제대로 감지해낼 능력**을 의미합니다.\n",
        "* $beta$ ($\\beta$)는 **2종 오류 (Type II Error)**를 범할 확률 (실제 효과가 있는데 없다고 잘못 판단할 확률)입니다.\n",
        "* 일반적으로 검정력은 $0.8$ (80%) 이상으로 설정하는 것을 목표로 합니다.\n",
        "* 검정력은 표본 크기(n), 효과 크기(MDE), 유의수준($\\alpha$)에 의해 영향을 받습니다.\n",
        "    * 표본 크기가 클수록 검정력 증가\n",
        "    * 효과 크기가 클수록 검정력 증가\n",
        "    * 유의수준이 클수록 (덜 엄격할수록) 검정력 증가 (하지만 1종 오류 위험도 커짐)\n",
        "\n",
        "**p-value**\n",
        "\n",
        "* 귀무 가설($H_0$)이 참이라고 가정했을 때, 현재 관찰된 데이터 또는 그보다 더 극단적인 데이터가 나타날 확률입니다.\n",
        "* p-value가 유의수준($\\alpha$)보다 작으면 (p < $\\alpha$), 귀무 가설을 기각하고 대립 가설($H_1$)을 채택합니다. 이는 관찰된 차이가 통계적으로 유의미하다고 해석합니다.\n",
        "* p-value가 크다고 해서 귀무 가설이 참이라는 증거는 아닙니다. 단지 귀무 가설을 기각할 만큼 충분한 증거가 없다는 의미입니다.\n",
        "\n",
        "**단측 검정 (One-tailed Test) vs. 양측 검정 (Two-tailed Test)**\n",
        "\n",
        "* **양측 검정**: \"A와 B는 차이가 있는가?\" (같지 않다)를 검정. 효과의 방향성을 특정하지 않음 ($H_1: \\mu_A \\neq \\mu_B$).\n",
        "* **단측 검정**: \"B가 A보다 큰가?\" 또는 \"B가 A보다 작은가?\"와 같이 효과의 특정 방향성을 검정 ($H_1: \\mu_B > \\mu_A$ 또는 $H_1: \\mu_B < \\mu_A$).\n",
        "    * **비열등성 테스트 (Non-inferiority Test)**: 새로운 안(B)이 기존 안(A)보다 특정 마진($-\\Delta$) 이상으로 나쁘지 않음을 보이는 단측 검정의 한 형태 ($H_1: \\mu_B - \\mu_A > -\\Delta$). 비용 절감이나 효율성 개선을 위한 변경 시 주로 사용됩니다."
      ]
    },
    {
      "cell_type": "markdown",
      "metadata": {},
      "source": [
        "**비열등성 테스트 (Non-inferiority Test)**\n",
        "\n",
        "* 비열등성 테스트는 새로운 치료법이 기존의 치료법에 비해 통계적으로 유의미하게 열등하지 않음을 증명하기 위해 사용됩니다.\n",
        "\n",
        "* **샘플 사이즈 계산**\n",
        "    * 비열등성 마진과 해당 실험에서 필요로 하는 검정력과 유의 수준을 기반으로 계산됩니다.\n",
        "    * 마진이란? 마진 아래로 차이나는 것은 차이가 없다고 간주합니다.\n",
        "    * 트리트먼트가 기존보다 열등하지 않다는 것을 증명하기 위해 필요한 증거의 수준(통계적 검정력)이 매우 중요하므로, 비교적 큰 샘플 사이즈가 필요합니다.\n",
        "    * 검정력이 충분하지 않으면, 실제로 차이가 있음에도 불구하고 이를 감지하지 못할 위험이 발생합니다.\n",
        "\n",
        "* **통계적 구조**\n",
        "    | 요소 | 설명 |\n",
        "    |------|------|\n",
        "    | 귀무가설(H₀) | 새로운 것이 더 나쁘다 (효과 차이 ≤ −Δ) |\n",
        "    | 대립가설(H₁) | 새로운 것이 비열등하다 (효과 차이 > −Δ) |\n",
        "    | Δ: 비열등성 마진 | 허용 가능한 최대 차이. 예: -5%, -0.1 등 |\n",
        "    | 검정 방식 | → 오른쪽 한쪽 꼬리만 보는 단측 검정입니다. |\n",
        "\n",
        "* **사례**\n",
        "    * 특정 UI의 복잡성을 낮추기 위해, 디자인 요소를 덜어내는 작업을 한 뒤, 비즈니스 메트릭에 유해한 영향이 없는지 판단\n",
        "    * 특정 서비스를 유지하기 위한 비용을 절감하기 위해, 일부 서비스를 중단해도 비즈니스에 악영향이 없는지 판단하고 싶을 때\n",
        "\n",
        "* **장점**: 테스트 설계 비용이 거의 들어가지 않아, 자주 테스트가 가능합니다.\n",
        "\n",
        "**요약비교**\n",
        "\n",
        "| 테스트 유형 | 귀무가설 | 대립가설 | 꼬리 방향 |\n",
        "|------------|----------|----------|------------|\n",
        "| 양측 검정 | 차이 = 0 | 차이 ≠ 0 | 양측 |\n",
        "| 단측 검정 | 차이 ≤ 0 or ≥ 0 | 차이 > 0 or < 0 | 한쪽 |\n",
        "| 비열등성 검정 | 차이 ≤ −Δ | 차이 > −Δ | 오른쪽 단측 |\n",
        "| 동등성 검정 | 차이 ≥ Δ | 차이 < Δ | 양측 |\n"
      ]
    },
    {
      "cell_type": "markdown",
      "metadata": {},
      "source": [
        "### 메트릭별 상관관계\n",
        "___\n",
        "\n",
        "| 변경 변수      | 샘플사이즈  ↑ | 샘플사이즈 ↓  | 표준편차  ↑ | 표준편차 ↓  | 유의수준  ↑ | 유의수준 ↓  | 최소감지효과 ↓  | 최소감지효과  ↑ |\n",
        "|-------------|----------------|----------------|---------------|---------------|--------------|--------------|-------------------|-------------------|\n",
        "| **검정력**    | ↑             | ↓             | ↓            | ↑            | ↓          | ↑          | ↑                 | ↓                 |\n",
        "| **샘플사이즈** | -              | -              | ↑            | ↓            | ↓          | ↑          | ↓                 | ↑                 |\n",
        "| **표준편차**  | ↓             | ↑             | -             | -             | ↓          | ↑          | -                 | -                 |\n",
        "| **유의수준**  | ↑             | ↓             | ↑            | ↓            | -          | -          | -                 | -                 |\n",
        "| **최소감지효과** | ↓             | ↑             | ↓            | ↑            | -          | -          | -                 | -                 |\n"
      ]
    },
    {
      "cell_type": "markdown",
      "metadata": {},
      "source": [
        "\n",
        "### 💻 예시 코드 (Example Code)\n",
        "\n",
        "**1. 이산형 변수 샘플 사이즈 계산 (비율)**\n",
        "\n",
        "현재 웹사이트의 구매 전환율(Control)이 2%라고 가정하고, \n",
        "\n",
        "새로운 디자인(Experiment)을 통해 전환율을 2.5%로 0.5%p (상대적으로 25% 증가) 개선하는 것을 목표로 할 때 필요한 샘플 사이즈를 계산합니다. \n",
        "\n",
        "(유의수준 $\\alpha=0.05$, 검정력 $1-\\beta=0.8$)"
      ]
    },
    {
      "cell_type": "code",
      "execution_count": 55,
      "metadata": {
        "id": "f8Y_iGDc_zvl"
      },
      "outputs": [
        {
          "data": {
            "text/plain": [
              "np.float64(-0.033766320083193524)"
            ]
          },
          "execution_count": 55,
          "metadata": {},
          "output_type": "execute_result"
        }
      ],
      "source": [
        "import statsmodels.stats.power as smp\n",
        "from statsmodels.stats.proportion import proportion_effectsize\n",
        "import numpy as np\n",
        "\n",
        "# 현재 전환율 (대조군)\n",
        "control_rate = 0.02\n",
        "# 목표 전환율 (실험군)\n",
        "experiment_rate = 0.025\n",
        "\n",
        "# 효과 크기 계산 (Cohen's h)\n",
        "# h = 2 * arcsin(sqrt(p1)) - 2 * arcsin(sqrt(p2))\n",
        "effect_size_h = proportion_effectsize(control_rate, experiment_rate)\n",
        "effect_size_h\n"
      ]
    },
    {
      "cell_type": "code",
      "execution_count": 56,
      "metadata": {},
      "outputs": [
        {
          "name": "stdout",
          "output_type": "stream",
          "text": [
            "계산된 효과 크기 (Cohen's h): -0.0338\n",
            "각 그룹에 필요한 최소 표본 크기: 13768\n",
            "총 필요한 최소 표본 크기: 27536\n"
          ]
        }
      ],
      "source": [
        "# 또는 직접 계산:\n",
        "# effect_size_h_manual = 2 * (np.arcsin(np.sqrt(experiment_rate)) - np.arcsin(np.sqrt(control_rate)))\n",
        "\n",
        "# 유의 수준 및 검정력 설정\n",
        "alpha = 0.05\n",
        "power = 0.8\n",
        "\n",
        "# 양측 검정을 위한 샘플 사이즈 계산 (각 그룹당)\n",
        "norm_smp = smp.NormalIndPower()\n",
        "sample_size_prop = norm_smp.solve_power(\n",
        "    effect_size=effect_size_h,\n",
        "    alpha=alpha,\n",
        "    power=power,\n",
        "    ratio=1, # 실험군과 대조군의 샘플 크기 비율 (1:1)\n",
        "    alternative='two-sided' # 양측 검정\n",
        ")\n",
        "\n",
        "\n",
        "print(f\"계산된 효과 크기 (Cohen's h): {effect_size_h:.4f}\")\n",
        "print(f\"각 그룹에 필요한 최소 표본 크기: {np.ceil(sample_size_prop):.0f}\")\n",
        "print(f\"총 필요한 최소 표본 크기: {np.ceil(sample_size_prop * 2):.0f}\")"
      ]
    },
    {
      "cell_type": "markdown",
      "metadata": {
        "id": "ujgoizua_zvl"
      },
      "source": [
        "**2. 연속형 변수 샘플 사이즈 계산 (평균)**\n",
        "\n",
        "현재 사용자의 평균 구매 금액(Control)이 50달러이고, 새로운 추천 알고리즘(Experiment)을 통해 이를 55달러로 5달러 증가시키는 것을 목표로 합니다. \n",
        "\n",
        "과거 데이터 분석 결과, 구매 금액의 표준편차는 10달러로 가정합니다. \n",
        "\n",
        "(유의수준 $\\alpha=0.05$, 검정력 $1-\\beta=0.8$)"
      ]
    },
    {
      "cell_type": "code",
      "execution_count": 59,
      "metadata": {
        "id": "bGBsEh2A_zvl"
      },
      "outputs": [
        {
          "name": "stdout",
          "output_type": "stream",
          "text": [
            "계산된 효과 크기 (Cohen's d): 0.5000\n",
            "각 그룹에 필요한 최소 표본 크기: 64\n",
            "총 필요한 최소 표본 크기: 128\n"
          ]
        }
      ],
      "source": [
        "import statsmodels.stats.power as smp\n",
        "import numpy as np\n",
        "\n",
        "# 현재 평균 구매 금액 (대조군)\n",
        "control_mean = 50\n",
        "# 목표 평균 구매 금액 (실험군)\n",
        "experiment_mean = 55\n",
        "# 표준 편차 (가정)\n",
        "std_dev = 10\n",
        "\n",
        "# 효과 크기 계산 (Cohen's d)\n",
        "# d = (mean1 - mean2) / std_dev_pooled\n",
        "effect_size_d = (experiment_mean - control_mean) / std_dev\n",
        "\n",
        "# 유의 수준 및 검정력 설정\n",
        "alpha = 0.05\n",
        "power = 0.8\n",
        "\n",
        "# 양측 검정을 위한 샘플 사이즈 계산 (각 그룹당)\n",
        "# TTestIndPower는 t-test를 기반으로 하므로, 정규분포 가정이 필요합니다.\n",
        "sample_size_mean = smp.TTestIndPower().solve_power(\n",
        "    effect_size=effect_size_d,\n",
        "    alpha=alpha,\n",
        "    power=power,\n",
        "    ratio=1,\n",
        "    alternative='two-sided' # 'larger' 또는 'smaller'로 단측 검정 가능\n",
        ")\n",
        "\n",
        "print(f\"계산된 효과 크기 (Cohen's d): {effect_size_d:.4f}\")\n",
        "print(f\"각 그룹에 필요한 최소 표본 크기: {np.ceil(sample_size_mean):.0f}\")\n",
        "print(f\"총 필요한 최소 표본 크기: {np.ceil(sample_size_mean * 2):.0f}\")"
      ]
    },
    {
      "cell_type": "markdown",
      "metadata": {},
      "source": [
        "**3. 비열등성 테스트를 위한 샘플 사이즈 계산 (평균)**\n",
        " \n",
        "현재 사용자의 평균 구매 금액(Control)이 50달러이고, 새로운 추천 알고리즘(Experiment)이 기존 대비 최소 2달러 이상의 개선을 보장해야 합니다. \n",
        "\n",
        "과거 데이터 분석 결과, 구매 금액의 표준편차는 10달러로 가정합니다. \n",
        "\n",
        "비열등성 마진은 2달러로 설정하며, 유의수준 $\\alpha=0.05$, 검정력 $1-\\beta=0.8$로 설정합니다."
      ]
    },
    {
      "cell_type": "code",
      "execution_count": 60,
      "metadata": {},
      "outputs": [
        {
          "name": "stdout",
          "output_type": "stream",
          "text": [
            "기본 효과 크기 (Cohen's d): 0.5000\n",
            "비열등성 테스트 효과 크기: 0.3000\n",
            "각 그룹에 필요한 최소 표본 크기: 176\n",
            "총 필요한 최소 표본 크기: 351\n"
          ]
        }
      ],
      "source": [
        "from statsmodels.stats.power import TTestIndPower\n",
        "import numpy as np\n",
        "\n",
        "# 비열등성 테스트를 위한 설정\n",
        "control_mean = 50  # 대조군 평균\n",
        "experiment_mean = 55  # 실험군 평균\n",
        "std_dev = 10  # 표준편차\n",
        "non_inferiority_margin = 2  # 비열등성 마진 (예: 2달러)\n",
        "\n",
        "# 기본 효과 크기 계산 (Cohen's d)\n",
        "effect_size_d = (experiment_mean - control_mean) / std_dev\n",
        "\n",
        "# 비열등성 테스트를 위한 효과 크기 조정\n",
        "effect_size_non_inferiority = effect_size_d - (non_inferiority_margin / std_dev)\n",
        "\n",
        "# 유의 수준 및 검정력 설정\n",
        "alpha = 0.05\n",
        "power = 0.8\n",
        "\n",
        "# 비열등성 테스트를 위한 샘플 사이즈 계산\n",
        "sample_size_non_inferiority = TTestIndPower().solve_power(\n",
        "    effect_size=effect_size_non_inferiority,\n",
        "    alpha=alpha,\n",
        "    power=power,\n",
        "    ratio=1,\n",
        "    alternative='two-sided'\n",
        ")\n",
        "\n",
        "print(f\"기본 효과 크기 (Cohen's d): {effect_size_d:.4f}\")\n",
        "print(f\"비열등성 테스트 효과 크기: {effect_size_non_inferiority:.4f}\")\n",
        "print(f\"각 그룹에 필요한 최소 표본 크기: {np.ceil(sample_size_non_inferiority):.0f}\")\n",
        "print(f\"총 필요한 최소 표본 크기: {np.ceil(sample_size_non_inferiority * 2):.0f}\")\n"
      ]
    },
    {
      "cell_type": "markdown",
      "metadata": {
        "id": "pSDy5D3w_zvm"
      },
      "source": [
        "**3. 중심극한정리(CLT) 시각화 예시 (이항분포의 정규분포 근사)**\n",
        "\n",
        "구매 확률이 0.3인 이항 분포에서 샘플 크기를 늘려갈 때, 표본 합(또는 평균)의 분포가 어떻게 정규분포에 가까워지는지 시각화합니다."
      ]
    },
    {
      "cell_type": "code",
      "execution_count": 27,
      "metadata": {
        "id": "z33-6J3a_zvm"
      },
      "outputs": [
        {
          "data": {
            "application/vnd.plotly.v1+json": {
              "config": {
                "plotlyServerURL": "https://plot.ly"
              },
              "data": [
                {
                  "marker": {
                    "color": "blue"
                  },
                  "name": "이항분포 샘플",
                  "opacity": 0.7,
                  "type": "bar",
                  "x": {
                    "bdata": "VVVVVVVVxT8AAAAAAADgP6qqqqqqquo/qqqqqqqq8j8AAAAAAAD4P1VVVVVVVf0/VVVVVVVVAUAAAAAAAAAEQKqqqqqqqgZAVVVVVVVVCUAAAAAAAAAMQKqqqqqqqg5AqqqqqqqqEEAAAAAAAAASQFVVVVVVVRNAqqqqqqqqFEAAAAAAAAAWQFVVVVVVVRdAqqqqqqqqGEAAAAAAAAAaQFVVVVVVVRtAqqqqqqqqHEAAAAAAAAAeQFVVVVVVVR9AVVVVVVVVIEAAAAAAAAAhQKqqqqqqqiFAVVVVVVVVIkAAAAAAAAAjQKqqqqqqqiNA",
                    "dtype": "f8"
                  },
                  "y": {
                    "bdata": "UdobfGEytT8AAAAAAAAAAAAAAAAAAAAANFUwKqkT2D8AAAAAAAAAAAAAAAAAAAAAEgIrhxbZ5j8AAAAAAAAAAAAAAAAAAAAA/Chcj8L16D8AAAAAAAAAAAAAAAAAAAAABLN78rBQ4z8AAAAAAAAAAAAAAAAAAAAAIJ5eKcsQ0z8AAAAAAAAAAAAAAAAAAAAAOHctIR/0vD8AAAAAAAAAAAAAAAAAAAAAPM07TtGRnD8AAAAAAAAAAAAAAAAAAAAA/3GKjuTybz8AAAAAAAAAAAAAAAAAAAAAdTJVMCqpMz8AAAAAAAAAAFgyVTAqqTM/",
                    "dtype": "f8"
                  }
                },
                {
                  "line": {
                    "color": "red",
                    "dash": "dash"
                  },
                  "mode": "lines",
                  "name": "정규근사",
                  "type": "scatter",
                  "x": {
                    "bdata": "VVVVVVVVxT8AAAAAAADgP6qqqqqqquo/qqqqqqqq8j8AAAAAAAD4P1VVVVVVVf0/VVVVVVVVAUAAAAAAAAAEQKqqqqqqqgZAVVVVVVVVCUAAAAAAAAAMQKqqqqqqqg5AqqqqqqqqEEAAAAAAAAASQFVVVVVVVRNAqqqqqqqqFEAAAAAAAAAWQFVVVVVVVRdAqqqqqqqqGEAAAAAAAAAaQFVVVVVVVRtAqqqqqqqqHEAAAAAAAAAeQFVVVVVVVR9AVVVVVVVVIEAAAAAAAAAhQKqqqqqqqiFAVVVVVVVVIkAAAAAAAAAjQKqqqqqqqiNA",
                    "dtype": "f8"
                  },
                  "y": {
                    "bdata": "B9D7FO/XpD8T5qtHxdOvP96vz+8WDLc/SYbgaJGovz/u6Hxhf5/EP+J7aWLke8k/1fwFjSTezT8momFQz5nQP3/jKPC4gNE/f+Mo8LiA0T8momFQz5nQP9b8BY0k3s0/5HtpYuR7yT/u6Hxhf5/EP0uG4GiRqL8/56/P7xYMtz8T5qtHxdOvPwzQ+xTv16Q/Jc8dbsfkmT9E/1qYfIKOP+P1nI5LDIE/FyY+9vQRcj/Kc/nBnSpiP1kbTCF2UlE/kPaHkeRUPz/SPtewHuAqP2SsM/N03RU/OP8XeTzfAD+3Ryb7SrLoPvgMqZetJNE+",
                    "dtype": "f8"
                  }
                }
              ],
              "frames": [
                {
                  "data": [
                    {
                      "marker": {
                        "color": "blue"
                      },
                      "name": "이항분포 샘플",
                      "opacity": 0.7,
                      "type": "bar",
                      "x": {
                        "bdata": "MzMzMzMzwz/MzMzMzMzcPwAAAAAAAOg/zMzMzMzM8D+amZmZmZn1P2ZmZmZmZvo/MzMzMzMz/z8AAAAAAAACQGZmZmZmZgRAzMzMzMzMBkAzMzMzMzMJQJmZmZmZmQtAAAAAAAAADkAzMzMzMzMQQGZmZmZmZhFAmpmZmZmZEkDMzMzMzMwTQAAAAAAAABVAMzMzMzMzFkBmZmZmZmYXQJqZmZmZmRhAzMzMzMzMGUAAAAAAAAAbQDIzMzMzMxxAZmZmZmZmHUCamZmZmZkeQMzMzMzMzB9AAAAAAACAIECamZmZmRkhQDMzMzMzsyFA",
                        "dtype": "f8"
                      },
                      "y": {
                        "bdata": "X3MhaUrFuT8AAAAAAAAAAAAAAAAAAAAAQWDl0CLb2T8AAAAAAAAAAAAAAAAAAAAA9H5qvHST6D8AAAAAAAAAAAAAAAAAAAAAAAAAAAAAAABg1uqY4MHsPwAAAAAAAAAAAAAAAAAAAABD4XoUrkflPwAAAAAAAAAAAAAAAAAAAAA2wYN5ov7VPwAAAAAAAAAAAAAAAAAAAAAAAAAAAAAAAEfSlIqzD78/AAAAAAAAAAAAAAAAAAAAAH7pJjEIrJw/AAAAAAAAAAAAAAAAAAAAAP5+arx0k2g/AAAAAAAAAAAAAAAAAAAAAPGp8dJNYlA/",
                        "dtype": "f8"
                      }
                    },
                    {
                      "line": {
                        "color": "red",
                        "dash": "dash"
                      },
                      "mode": "lines",
                      "name": "정규근사",
                      "type": "scatter",
                      "x": {
                        "bdata": "MzMzMzMzwz/MzMzMzMzcPwAAAAAAAOg/zMzMzMzM8D+amZmZmZn1P2ZmZmZmZvo/MzMzMzMz/z8AAAAAAAACQGZmZmZmZgRAzMzMzMzMBkAzMzMzMzMJQJmZmZmZmQtAAAAAAAAADkAzMzMzMzMQQGZmZmZmZhFAmpmZmZmZEkDMzMzMzMwTQAAAAAAAABVAMzMzMzMzFkBmZmZmZmYXQJqZmZmZmRhAzMzMzMzMGUAAAAAAAAAbQDIzMzMzMxxAZmZmZmZmHUCamZmZmZkeQMzMzMzMzB9AAAAAAACAIECamZmZmRkhQDMzMzMzsyFA",
                        "dtype": "f8"
                      },
                      "y": {
                        "bdata": "8zGRoPBgpD+AI1UzXvitPwT3UvUOHbU/cZ6S0xCAvD/lwna6vm3CP+hA7/ks1cY/VZyhQjgayz/tS09xKdLOP3S5nl0lytA/KTEBQ1uG0T8pMQFDW4bRP3S5nl0lytA/7UtPcSnSzj9WnKFCOBrLP+tA7/ks1cY/48J2ur5twj94npLTEIC8PwT3UvUOHbU/gCNVM174rT/1MZGg8GCkP4zJhnEJjZo/fD4dWBmSkD9WuFOC79CDPz4Nyt3+s3Y/KNpdsGHraD+rIyenZzRaP4Cy4Rp0Zko/97puNTt7OT/Ql+IsD5AnP/zybHfe3xQ/",
                        "dtype": "f8"
                      }
                    }
                  ],
                  "name": "n=10"
                },
                {
                  "data": [
                    {
                      "marker": {
                        "color": "blue"
                      },
                      "name": "이항분포 샘플",
                      "opacity": 0.7,
                      "type": "bar",
                      "x": {
                        "bdata": "vLu7u7u7yz/NzMzMzMzkP1ZVVVVVVfE/RERERERE+D80MzMzMzP/PxIREREREQNAiIiIiIiIBkAAAAAAAAAKQHh3d3d3dw1AeHd3d3d3EEA0MzMzMzMSQO/u7u7u7hNAq6qqqqqqFUBmZmZmZmYXQCIiIiIiIhlA3t3d3d3dGkCamZmZmZkcQFZVVVVVVR5AiYiIiIgIIEBnZmZmZuYgQERERERExCFAIiIiIiKiIkAAAAAAAIAjQN7d3d3dXSRAvLu7u7s7JUCamZmZmRkmQHh3d3d39yZAVlVVVVXVJ0AzMzMzM7MoQBERERERkSlA",
                        "dtype": "f8"
                      },
                      "y": {
                        "bdata": "voj8BWp3Wj8AAAAAAAAAAHbVvUOiipA/AAAAAAAAAADmVyKWnwOxPwAAAAAAAAAAXhwsKOn4xD8AAAAAAAAAAAAAAAAAAAAAVVDS8elr0z8AAAAAAAAAALcy7ti32do/AAAAAAAAAADlzvdT46XbPwAAAAAAAAAAAAAAAAAAAAAtH8pFzRHXPwAAAAAAAAAAMr3nKeZD0T8AAAAAAAAAACKM333J6cQ/AAAAAAAAAAAAAAAAAAAAAH/Df91SQrM/AAAAAAAAAAC208D43ZecPwAAAAAAAAAAoJKOT19bfD8AAAAAAAAAAEOcIJlUP04/",
                        "dtype": "f8"
                      }
                    },
                    {
                      "line": {
                        "color": "red",
                        "dash": "dash"
                      },
                      "mode": "lines",
                      "name": "정규근사",
                      "type": "scatter",
                      "x": {
                        "bdata": "vLu7u7u7yz/NzMzMzMzkP1ZVVVVVVfE/RERERERE+D80MzMzMzP/PxIREREREQNAiIiIiIiIBkAAAAAAAAAKQHh3d3d3dw1AeHd3d3d3EEA0MzMzMzMSQO/u7u7u7hNAq6qqqqqqFUBmZmZmZmYXQCIiIiIiIhlA3t3d3d3dGkCamZmZmZkcQFZVVVVVVR5AiYiIiIgIIEBnZmZmZuYgQERERERExCFAIiIiIiKiIkAAAAAAAIAjQN7d3d3dXSRAvLu7u7s7JUCamZmZmRkmQHh3d3d39yZAVlVVVVXVJ0AzMzMzM7MoQBERERERkSlA",
                        "dtype": "f8"
                      },
                      "y": {
                        "bdata": "fqdfgam+bT9SeUaapml6PzXchaOqbYY/cNxsmV02kj/0jO4v0kicPw7dXjbIAKU/C0oeLxPUrT8A6YsqREG0Pz3INngvTro/1RKukrFVwD/ho8psS2bDPyxSbsU3CMY/tdNJHoPtxz+dsJcBr9nIP61nmn4Trsg/kP16bWhwxz++xLMtiknFP6Ox44zXfMI/q0rKblq1vj/rIF9Nd2O4P6WOBUm8hbI/FrAnqYHnqj/j66dKb6+iP4yuTpPC0Zg/KHNqM5WGjz8sSUv/iCWDP9n1Lv5oPXY/7DCLPA+0aD/956y8az1aP5bVfRNEp0o/",
                        "dtype": "f8"
                      }
                    }
                  ],
                  "name": "n=20"
                },
                {
                  "data": [
                    {
                      "marker": {
                        "color": "blue"
                      },
                      "name": "이항분포 샘플",
                      "opacity": 0.7,
                      "type": "bar",
                      "x": {
                        "bdata": "ERERERER9T8zMzMzMzP/P6qqqqqqqgRAvLu7u7u7CUDMzMzMzMwOQO7u7u7u7hFAeHd3d3d3FEAAAAAAAAAXQIiIiIiIiBlAEBERERERHECamZmZmZkeQBERERERkSBAVVVVVVXVIUCamZmZmRkjQN7d3d3dXSRAIiIiIiKiJUBmZmZmZuYmQKqqqqqqKihA7u7u7u5uKUAzMzMzM7MqQHd3d3d39ytAvLu7u7s7LUAAAAAAAIAuQERERERExC9ARERERESEMEBmZmZmZiYxQIiIiIiIyDFAqqqqqqpqMkDNzMzMzAwzQO/u7u7urjNA",
                        "dtype": "f8"
                      },
                      "y": {
                        "bdata": "xbs+dhGyRD+oGV4xGgtfPwAAAAAAAAAAC4SRdqxAiD/HtHVkxA6hPwAAAAAAAAAAwGFjajNFsj8TIhytdjXAPwAAAAAAAAAAjwalU0gXyD8AAAAAAAAAAH0GHCRHNM0/Rt5+4Yxz0D8AAAAAAAAAABzkZOjMVcw/6MlZyazbxj8AAAAAAAAAAC7wVLRRpr8/fvnj27jLsj8AAAAAAAAAAPsdxp5Jg6I/AAAAAAAAAAC1AmGkHSuQP/It+hn5v30/AAAAAAAAAADJuz52EbJkP60ZXjEaCz8/AAAAAAAAAACtGV4xGgs/P8m7PnYRsiQ/",
                        "dtype": "f8"
                      }
                    },
                    {
                      "line": {
                        "color": "red",
                        "dash": "dash"
                      },
                      "mode": "lines",
                      "name": "정규근사",
                      "type": "scatter",
                      "x": {
                        "bdata": "ERERERER9T8zMzMzMzP/P6qqqqqqqgRAvLu7u7u7CUDMzMzMzMwOQO7u7u7u7hFAeHd3d3d3FEAAAAAAAAAXQIiIiIiIiBlAEBERERERHECamZmZmZkeQBERERERkSBAVVVVVVXVIUCamZmZmRkjQN7d3d3dXSRAIiIiIiKiJUBmZmZmZuYmQKqqqqqqKihA7u7u7u5uKUAzMzMzM7MqQHd3d3d39ytAvLu7u7s7LUAAAAAAAIAuQERERERExC9ARERERESEMEBmZmZmZiYxQIiIiIiIyDFAqqqqqqpqMkDNzMzMzAwzQO/u7u7urjNA",
                        "dtype": "f8"
                      },
                      "y": {
                        "bdata": "uuqiucAJWD/KrMs/kzRpPzc1S3KPzHg/htq0Pe7khj/i87qy/9STP/Z5Ix2kHqA/hG7kuo+WqD/+tmAekpixP58obaKDobc/Udg8nDDHvT+h2zgE15rBP0AWwiAxiMM/ebVs61pVxD9XSnjWrNzDP0uX7u9rNMI/LEh92ihQvz9NS/H610S5Px30WQgyIrM/ftuLeT8wqz8W1IugJyCiP9Nvdq86rZY/sWBGG9aeij8za27yjVJ9PyRiR15zTm4/i2JlJitkXT+JLNQV275KP9gwkOQw1jY/zouWVdxLIj/uzZH9SoILP+CS1w6QZ/M+",
                        "dtype": "f8"
                      }
                    }
                  ],
                  "name": "n=30"
                },
                {
                  "data": [
                    {
                      "marker": {
                        "color": "blue"
                      },
                      "name": "이항분포 샘플",
                      "opacity": 0.7,
                      "type": "bar",
                      "x": {
                        "bdata": "qqqqqqqqCkAAAAAAAAAQQKqqqqqqqhJAVVVVVVVVFUAAAAAAAAAYQKqqqqqqqhpAVVVVVVVVHUD///////8fQFVVVVVVVSFAqqqqqqqqIkAAAAAAAAAkQFVVVVVVVSVAqqqqqqqqJkAAAAAAAAAoQFVVVVVVVSlAqqqqqqqqKkAAAAAAAAAsQFVVVVVVVS1AqqqqqqqqLkAAAAAAAAAwQKqqqqqqqjBAVVVVVVVVMUAAAAAAAAAyQKqqqqqqqjJAVVVVVVVVM0AAAAAAAAA0QKqqqqqqqjRAVVVVVVVVNUAAAAAAAAA2QKqqqqqqqjZA",
                        "dtype": "f8"
                      },
                      "y": {
                        "bdata": "YzJVMCqpQz/PiNLe4AtzPwAAAAAAAAAArDXNO07RgT+jLEMc6+KWPwAAAAAAAAAAAH9qvHSTqD9W2ht8YTK1PwAAAAAAAAAAbCJseHqlwD+pcD0K16PEPwAAAAAAAAAA5JOHhVrTyD8eJlMFo5LKPwAAAAAAAAAAtZRliGNdyD8CiPTb14HDPwAAAAAAAAAAQCNKe4MvvD+HBMWPMXe1PwAAAAAAAAAAySXkg57Nqj+me/KwUGuaPwAAAAAAAAAADsrDQq1pjj85JXUCmgh7PwAAAAAAAAAAxNhfdk8eZj+Dy39Iv31NP1gyVTAqqSM/",
                        "dtype": "f8"
                      }
                    },
                    {
                      "line": {
                        "color": "red",
                        "dash": "dash"
                      },
                      "mode": "lines",
                      "name": "정규근사",
                      "type": "scatter",
                      "x": {
                        "bdata": "qqqqqqqqCkAAAAAAAAAQQKqqqqqqqhJAVVVVVVVVFUAAAAAAAAAYQKqqqqqqqhpAVVVVVVVVHUD///////8fQFVVVVVVVSFAqqqqqqqqIkAAAAAAAAAkQFVVVVVVVSVAqqqqqqqqJkAAAAAAAAAoQFVVVVVVVSlAqqqqqqqqKkAAAAAAAAAsQFVVVVVVVS1AqqqqqqqqLkAAAAAAAAAwQKqqqqqqqjBAVVVVVVVVMUAAAAAAAAAyQKqqqqqqqjJAVVVVVVVVM0AAAAAAAAA0QKqqqqqqqjRAVVVVVVVVNUAAAAAAAAA2QKqqqqqqqjZA",
                        "dtype": "f8"
                      },
                      "y": {
                        "bdata": "vrdeBQjLWT9lFIBmivxoP6gM6Rss9XY/7KzQMLABhD/teml2TYmQP+9G8kVi7Zk/3P4h4DZHoz9ToAYr6zCrPygnpFEPMLI/Q9sYoL8Ttz+8TmvioMW7P7Vl/q0Ws78/cZJhA7IowT+Razp9dJ7BP3GSYQOyKME/t2X+rRazvz+8TmvioMW7P0bbGKC/E7c/LCekUQ8wsj9ZoAYr6zCrP+P+IeA2R6M/90byRWLtmT/teml2TYmQP/is0DCwAYQ/rQzpGyz1dj9lFIBmivxoP+C3XgUIy1k/ZkQV9+pAST+gDGSXfnM3PzEI582ypyQ/",
                        "dtype": "f8"
                      }
                    }
                  ],
                  "name": "n=40"
                },
                {
                  "data": [
                    {
                      "marker": {
                        "color": "blue"
                      },
                      "name": "이항분포 샘플",
                      "opacity": 0.7,
                      "type": "bar",
                      "x": {
                        "bdata": "mpmZmZmZFUDMzMzMzMwYQAAAAAAAABxAMzMzMzMzH0AzMzMzMzMhQM3MzMzMzCJAZ2ZmZmZmJEAAAAAAAAAmQJqZmZmZmSdAMzMzMzMzKUDNzMzMzMwqQGdmZmZmZixAAAAAAAAALkCamZmZmZkvQJqZmZmZmTBAZmZmZmZmMUA0MzMzMzMyQAAAAAAAADNAzczMzMzMM0CamZmZmZk0QGZmZmZmZjVANDMzMzMzNkAAAAAAAAA3QM7MzMzMzDdAmpmZmZmZOEBmZmZmZmY5QDQzMzMzMzpAAAAAAAAAO0DOzMzMzMw7QJqZmZmZmTxA",
                        "dtype": "f8"
                      },
                      "y": {
                        "bdata": "fRSuR+F6RD87tMh2vp9aP7VJDAIrh3Y/LLByaJHtjD8AAAAAAAAAANckBoGVQ5s/+v//////pz+8yHa+nxqzP24730+Nl7o/AAAAAAAAAABc5dAi2/nAP59wPQrXo8I/r8ZLN4lBxD9WZmZmZmbCPwAAAAAAAAAAJbKd76fGvz91FK5H4Xq4P8sehetRuLI/PLpJDAIrpz8AAAAAAAAAAMoi2/l+apw/sB6F61G4jj9Q46WbxCCAP+dRuB6F63E/AAAAAAAAAAB2FK5H4XpUP3LpJjEIrEw/+Knx0k1iMD/4qfHSTWIgPwyq8dJNYjA/",
                        "dtype": "f8"
                      }
                    },
                    {
                      "line": {
                        "color": "red",
                        "dash": "dash"
                      },
                      "mode": "lines",
                      "name": "정규근사",
                      "type": "scatter",
                      "x": {
                        "bdata": "mpmZmZmZFUDMzMzMzMwYQAAAAAAAABxAMzMzMzMzH0AzMzMzMzMhQM3MzMzMzCJAZ2ZmZmZmJEAAAAAAAAAmQJqZmZmZmSdAMzMzMzMzKUDNzMzMzMwqQGdmZmZmZixAAAAAAAAALkCamZmZmZkvQJqZmZmZmTBAZmZmZmZmMUA0MzMzMzMyQAAAAAAAADNAzczMzMzMM0CamZmZmZk0QGZmZmZmZjVANDMzMzMzNkAAAAAAAAA3QM7MzMzMzDdAmpmZmZmZOEBmZmZmZmY5QDQzMzMzMzpAAAAAAAAAO0DOzMzMzMw7QJqZmZmZmTxA",
                        "dtype": "f8"
                      },
                      "y": {
                        "bdata": "b2YS7LoMWT9YUwaJ+j5pPyNDHi118Hc/Vz6F6p5bhT+Ge/kfmO2RP+4pVaqDUZw/rSW2AfEKpT8uiRaMamytPzaNdsDJWrM/CxcS0gX1tz8yroWpiua7Pw7fxKBbkr4/IGbyGIyEvz8M38SgW5K+Py6uhamK5rs/DxcS0gX1tz8vjXbAyVqzPy6JFoxqbK0/pyW2AfEKpT/oKVWqg1GcP417+R+Y7ZE/Tj6F6p5bhT8jQx4tdfB3Pz9TBon6Pmk/aGYS7LoMWT+d4i+Nn2JHP9oPpvZZijQ/xDjhAZD5ID8yK6j7u2UKP+cDaHa7T/M+",
                        "dtype": "f8"
                      }
                    }
                  ],
                  "name": "n=50"
                },
                {
                  "data": [
                    {
                      "marker": {
                        "color": "blue"
                      },
                      "name": "이항분포 샘플",
                      "opacity": 0.7,
                      "type": "bar",
                      "x": {
                        "bdata": "qqqqqqqqHUAAAAAAAIAgQKqqqqqqKiJAVlVVVVXVI0AAAAAAAIAlQKuqqqqqKidAVlVVVVXVKEAAAAAAAIAqQKuqqqqqKixAVlVVVVXVLUAAAAAAAIAvQFZVVVVVlTBAq6qqqqpqMUAAAAAAAEAyQFZVVVVVFTNAq6qqqqrqM0AAAAAAAMA0QFZVVVVVlTVAq6qqqqpqNkAAAAAAAEA3QFZVVVVVFThAq6qqqqrqOEAAAAAAAMA5QFZVVVVVlTpAq6qqqqpqO0AAAAAAAEA8QFZVVVVVFT1Aq6qqqqrqPUAAAAAAAMA+QFZVVVVVlT9A",
                        "dtype": "f8"
                      },
                      "y": {
                        "bdata": "YzJVMCqpQz++eapDboZbP4AqNXugFXg/6N0f71Urgz/w29eBc0aUPwAAAAAAAAAAKHO6LCY2nz+VJQFqatmqP6Xc71AU6LM/y36kiAyruD8LHm0csRa/PwAAAAAAAAAA1TYawFsgwT/M4cyv5gDBPyiOdXEbDcA/pXmqQ26Guz9L1H0AUpu4PwAAAAAAAAAA6jb92Y8UsT/ULa2GxD2mP3WLMhtkkqE/YS7FVWXflT9mfAqA8QyKPwAAAAAAAAAA3d0f71Urcz/wJ9U+HY9pP5LgfyvZsVE//NX/OcyXNz92HVVNEHU/P3YdVU0QdS8/",
                        "dtype": "f8"
                      }
                    },
                    {
                      "line": {
                        "color": "red",
                        "dash": "dash"
                      },
                      "mode": "lines",
                      "name": "정규근사",
                      "type": "scatter",
                      "x": {
                        "bdata": "qqqqqqqqHUAAAAAAAIAgQKqqqqqqKiJAVlVVVVXVI0AAAAAAAIAlQKuqqqqqKidAVlVVVVXVKEAAAAAAAIAqQKuqqqqqKixAVlVVVVXVLUAAAAAAAIAvQFZVVVVVlTBAq6qqqqpqMUAAAAAAAEAyQFZVVVVVFTNAq6qqqqrqM0AAAAAAAMA0QFZVVVVVlTVAq6qqqqpqNkAAAAAAAEA3QFZVVVVVFThAq6qqqqrqOEAAAAAAAMA5QFZVVVVVlTpAq6qqqqpqO0AAAAAAAEA8QFZVVVVVFT1Aq6qqqqrqPUAAAAAAAMA+QFZVVVVVlT9A",
                        "dtype": "f8"
                      },
                      "y": {
                        "bdata": "A1fS4VueVT+B1KQ7tixlP63UadawoHM/8LG5edg3gT98x64xwpaMP/QVu6IxdpY/7N0rwIuzoD/23tz9M4GnPzXxwco6Tq8/+BzK+dS6sz+R+U2ZA4m3P09G7Teykbo/VgbjzsBivD895RkSTLO8P5Hu+lphdrs/7gmR32beuD/nQm6R/E+1P/tXD5AISbE/y4y81+CIqj+3wZyTS0ajP3rOu2QSgJo/aHTaRJE9kT+ZjfdWyzqFP65xJ6lzvXg/uZcJNO1Iaz8UNfSxVHpcP7fBi0cQIUw/B3VZ8XhLOj8QsSstFEMnP3JxP4S7eRM/",
                        "dtype": "f8"
                      }
                    }
                  ],
                  "name": "n=60"
                },
                {
                  "data": [
                    {
                      "marker": {
                        "color": "blue"
                      },
                      "name": "이항분포 샘플",
                      "opacity": 0.7,
                      "type": "bar",
                      "x": {
                        "bdata": "ZmZmZmbmIEA0MzMzM7MiQAAAAAAAgCRAzMzMzMxMJkCamZmZmRkoQGZmZmZm5ilANDMzMzOzK0AAAAAAAIAtQM3MzMzMTC9AzczMzMyMMEAzMzMzM3MxQJqZmZmZWTJAAAAAAABAM0BnZmZmZiY0QM3MzMzMDDVAMzMzMzPzNUCamZmZmdk2QAAAAAAAwDdAZmZmZmamOEDNzMzMzIw5QDQzMzMzczpAmpmZmZlZO0AAAAAAAEA8QGZmZmZmJj1AzczMzMwMPkA0MzMzM/M+QJqZmZmZ2T9AAAAAAABgQEA0MzMzM9NAQGZmZmZmRkFA",
                        "dtype": "f8"
                      },
                      "y": {
                        "bdata": "Ly6RWoogHT9pCD8PeXxJP6/i7MNn2EU/Ly6RWoogbT+ehzy+DCiAP0wb6LSBTos/m1y1pzNZmD91M8YlUkuhP29vXk08K6o/AAAAAAAAAACjxCCwcmixP2h3d3d3d7c/kUW28/3UuD9G2q207lu8P6L8Yskvlrw/9kwWRtzYuz8YEMVGlbC4PzWt+xb/s7U/UrWnM1kYsT8AAAAAAAAAANgmMQisHKo/57yaeFY0oj8zEMVGlbCYP66kvAeGN4w/dTPGJVJLgT8aeDBP1L9xP5MIPw95fFk/n89DHl8GVD8AAAAAAAAAAD8ukVqKIC0/",
                        "dtype": "f8"
                      }
                    },
                    {
                      "line": {
                        "color": "red",
                        "dash": "dash"
                      },
                      "mode": "lines",
                      "name": "정규근사",
                      "type": "scatter",
                      "x": {
                        "bdata": "ZmZmZmbmIEA0MzMzM7MiQAAAAAAAgCRAzMzMzMxMJkCamZmZmRkoQGZmZmZm5ilANDMzMzOzK0AAAAAAAIAtQM3MzMzMTC9AzczMzMyMMEAzMzMzM3MxQJqZmZmZWTJAAAAAAABAM0BnZmZmZiY0QM3MzMzMDDVAMzMzMzPzNUCamZmZmdk2QAAAAAAAwDdAZmZmZmamOEDNzMzMzIw5QDQzMzMzczpAmpmZmZlZO0AAAAAAAEA8QGZmZmZmJj1AzczMzMwMPkA0MzMzM/M+QJqZmZmZ2T9AAAAAAABgQEA0MzMzM9NAQGZmZmZmRkFA",
                        "dtype": "f8"
                      },
                      "y": {
                        "bdata": "eIN7k5cSQD/Scmkze9tQP7HE+Q2Gu2A/qJdtCbdvbz8vUsTAkfJ7PyZRIlaMg4c/iKJ08hG5kj+94cXiwTecP++k8pe3H6Q/pZW6PRcqqz9vBLXe5FmxP5qxqzFD+rQ/7ePr55QAuD9cn/Uoof25Pxe4I1OWoro/i+UieQTVuT9Pamv4zLW3PyhLcHyGmLQ/TPyEJG/usD9yIrGSb1iqP0+KWXnnZaM/X5SUQ7UImz9vwu7L9tORPyrpBOXUQIY/IUZgmKxJej86LVHikmNtP4q9sW0yGF8/RL2GnqIiTz/5k0auNYE9P9WJ2NDpdSo/",
                        "dtype": "f8"
                      }
                    }
                  ],
                  "name": "n=70"
                },
                {
                  "data": [
                    {
                      "marker": {
                        "color": "blue"
                      },
                      "name": "이항분포 샘플",
                      "opacity": 0.7,
                      "type": "bar",
                      "x": {
                        "bdata": "iIiIiIgII0CamZmZmRklQKuqqqqqKidAvLu7u7s7KUDNzMzMzEwrQN7d3d3dXS1A8O7u7u5uL0AAAAAAAMAwQIiIiIiIyDFAEhERERHRMkCamZmZmdkzQCIiIiIi4jRArKqqqqrqNUA0MzMzM/M2QLy7u7u7+zdAREREREQEOUDOzMzMzAw6QFZVVVVVFTtA3t3d3d0dPEBnZmZmZiY9QPDu7u7uLj5AeHd3d3c3P0AAAAAAACBAQEREREREpEBAiYiIiIgoQUDOzMzMzKxBQBIRERERMUJAVlVVVVW1QkCamZmZmTlDQN7d3d3dvUNA",
                        "dtype": "f8"
                      },
                      "y": {
                        "bdata": "LOZM/GdeGT8AAAAAAAAAAFxJw/yaMkY//4LW+zSKXD+zG/S7Qb9rP9kQiw2x2IA/yxatbNHKhj8Oe/58tJyUPwJ4bU2ko6E/0sxBNIOqqT/bY5OjnJ+wP0I4ZFEQ47E/3cjV9MKztT80OHqCoye4P7plX/SP37g/BoSb2lFDtz/ocxc/d/GzPw7LdeOParE/yNCtc0OhrT/yyNX0wrOlP+vDjqVSv6A/obGATD77lz/9g7EL5YeNP11DoZ16QIA/EnlIXVShcj/Jgtb7NIpsPw57/ny0nFQ/OeZM/GdeST+qrDn9zQZDP8cfYPsBtj8/",
                        "dtype": "f8"
                      }
                    },
                    {
                      "line": {
                        "color": "red",
                        "dash": "dash"
                      },
                      "mode": "lines",
                      "name": "정규근사",
                      "type": "scatter",
                      "x": {
                        "bdata": "iIiIiIgII0CamZmZmRklQKuqqqqqKidAvLu7u7s7KUDNzMzMzEwrQN7d3d3dXS1A8O7u7u5uL0AAAAAAAMAwQIiIiIiIyDFAEhERERHRMkCamZmZmdkzQCIiIiIi4jRArKqqqqrqNUA0MzMzM/M2QLy7u7u7+zdAREREREQEOUDOzMzMzAw6QFZVVVVVFTtA3t3d3d0dPEBnZmZmZiY9QPDu7u7uLj5AeHd3d3c3P0AAAAAAACBAQEREREREpEBAiYiIiIgoQUDOzMzMzKxBQBIRERERMUJAVlVVVVW1QkCamZmZmTlDQN7d3d3dvUNA",
                        "dtype": "f8"
                      },
                      "y": {
                        "bdata": "j5JHi5bMKD8FLxhEU0Y9P0PqE3AFN1A/+X0IAzzbYD8GM3J5snFwPy9juxSxG34/dlDLB6HdiT8MWObrStqUP0WXrzlQjZ8/Z6Uh/4lmpj/EjYYmH9mtP1ygLnNNqbI/EbbZg8XltT+Ohqo21xy4P+hQtaax6rg//e9FdoIpuD9tEnEszvy1P4C2xvzGxrI/nUfebAsYrj/P/GvFoKGmP+GpN3RK8Z8/es6Tn3UnlT+hjVQjIkuKP2GXML88q34/KGLq4OXIcD/emJpHqT1hP2ugS49qnlA/Sryst8IQPj9vR4XhdIUpP5zMiOBzVBQ/",
                        "dtype": "f8"
                      }
                    }
                  ],
                  "name": "n=80"
                },
                {
                  "data": [
                    {
                      "marker": {
                        "color": "blue"
                      },
                      "name": "이항분포 샘플",
                      "opacity": 0.7,
                      "type": "bar",
                      "x": {
                        "bdata": "mpmZmZkZJUDMzMzMzEwnQAAAAAAAgClANDMzMzOzK0BmZmZmZuYtQM3MzMzMDDBAZ2ZmZmYmMUAAAAAAAEAyQJqZmZmZWTNAMzMzMzNzNEDNzMzMzIw1QGdmZmZmpjZAAAAAAADAN0CamZmZmdk4QDQzMzMz8zlAzczMzMwMO0BnZmZmZiY8QAAAAAAAQD1AmpmZmZlZPkA0MzMzM3M/QGZmZmZmRkBANDMzMzPTQEAAAAAAAGBBQM3MzMzM7EFAmpmZmZl5QkBmZmZmZgZDQDQzMzMzk0NAAAAAAAAgREDOzMzMzKxEQJqZmZmZOUVA",
                        "dtype": "f8"
                      },
                      "y": {
                        "bdata": "cbEZSs7UJz8URZO3mt8xP2axGUrO1Dc/Q3vWgDTaRD9ZFnhlgVdWP8VIJ/PamGU/OXvWgDTadD8cRZO3mt+BPw4b8a8R/4o/7eLjyNcnlj/05x7mVMi0P3A36qrW4a0/zLf7SIhcsT8sMzMzMzOzPyWI++ce5rQ/OXvWgDTatD+lWod3QkW0P7MMxP1zD7M/CvfPPcypsD+Wmn6o6YeqP4Vs5/up8bI/VLL+WB7DmD+sha0kpRePPzuxGUrO1Ic/w+dcE2jPej9msRlKztRnP78doNwByl0/fEy7LhtSWT85e9aANNpEPy1Fk7ea30E/",
                        "dtype": "f8"
                      }
                    },
                    {
                      "line": {
                        "color": "red",
                        "dash": "dash"
                      },
                      "mode": "lines",
                      "name": "정규근사",
                      "type": "scatter",
                      "x": {
                        "bdata": "mpmZmZkZJUDMzMzMzEwnQAAAAAAAgClANDMzMzOzK0BmZmZmZuYtQM3MzMzMDDBAZ2ZmZmYmMUAAAAAAAEAyQJqZmZmZWTNAMzMzMzNzNEDNzMzMzIw1QGdmZmZmpjZAAAAAAADAN0CamZmZmdk4QDQzMzMz8zlAzczMzMwMO0BnZmZmZiY8QAAAAAAAQD1AmpmZmZlZPkA0MzMzM3M/QGZmZmZmRkBANDMzMzPTQEAAAAAAAGBBQM3MzMzM7EFAmpmZmZl5QkBmZmZmZgZDQDQzMzMzk0NAAAAAAAAgREDOzMzMzKxEQJqZmZmZOUVA",
                        "dtype": "f8"
                      },
                      "y": {
                        "bdata": "g9lxMhS3Ej+rDvf3oZsnP3gmijbe7js/5FrvZUAATz8wqeBC1iJgPxtW7MUVg28/IWXiXZXcfD8U2IYyfMuIP68Xjnfp+pM/u5sQ3yc0nj9GrhCM32mlPxvjmNnveqw/gGg4+NLDsT8irqnGscm0Py/k6hgR0bY/xOQP1Yp9tz+yI2B+K6+2P/OH36AbjLQ/rURDWxt1sT/xFGZNKdOrP3Vp1IelzKQ/nNco1s0qnT+WXmvpti6TP7Dffzi3qoc/3kb5JIZjez/dceNW+bptPyi8YtJTRV4/emo29eLoTD8/LqP1yOU5P2DQrJO3wiU/",
                        "dtype": "f8"
                      }
                    }
                  ],
                  "name": "n=90"
                },
                {
                  "data": [
                    {
                      "marker": {
                        "color": "blue"
                      },
                      "name": "이항분포 샘플",
                      "opacity": 0.7,
                      "type": "bar",
                      "x": {
                        "bdata": "IiIiIiIiL0AzMzMzM7MwQFVVVVVV1TFAd3d3d3f3MkCZmZmZmRk0QLy7u7u7OzVA3t3d3d1dNkAAAAAAAIA3QCIiIiIiojhARERERETEOUBmZmZmZuY6QImIiIiICDxAq6qqqqoqPUDNzMzMzEw+QO/u7u7ubj9AiIiIiIhIQECamZmZmdlAQKqqqqqqakFAvLu7u7v7QUDMzMzMzIxCQN7d3d3dHUNA7+7u7u6uQ0AAAAAAAEBEQBERERER0URAIiIiIiJiRUAzMzMzM/NFQEREREREhEZAVVVVVVUVR0BmZmZmZqZHQHh3d3d3N0hA",
                        "dtype": "f8"
                      },
                      "y": {
                        "bdata": "Z6yNCB3LUj+yFXziSK9VP7IVfOJIr2U/OYY+XeLNbz+xKT7sMxWAPynLjYOsCIg/vB6F61G4jj/UItv5fmqsP8Nj1BEc86Y/9U3dn5W+qj+YcmiR7XyvP7V1a5Twf7I/wm21lhEmtD/jmLc8KHqyP7V1a5Twf7I/jlgl8r6LwD9I6FiWoHerPy4CphZUXqU/qH0hks/ZoD+yC5tdU3yYP3cEx7zlQZE/ZmUJerfBiD+m5iMuBamJP0asjQgdy2I/0LNhqYoFWj90s2GpigVKPyAdUIO26Uw/uxxQg7bpPD9YSnPPXiEnP1hKc89eISc/",
                        "dtype": "f8"
                      }
                    },
                    {
                      "line": {
                        "color": "red",
                        "dash": "dash"
                      },
                      "mode": "lines",
                      "name": "정규근사",
                      "type": "scatter",
                      "x": {
                        "bdata": "IiIiIiIiL0AzMzMzM7MwQFVVVVVV1TFAd3d3d3f3MkCZmZmZmRk0QLy7u7u7OzVA3t3d3d1dNkAAAAAAAIA3QCIiIiIiojhARERERETEOUBmZmZmZuY6QImIiIiICDxAq6qqqqoqPUDNzMzMzEw+QO/u7u7ubj9AiIiIiIhIQECamZmZmdlAQKqqqqqqakFAvLu7u7v7QUDMzMzMzIxCQN7d3d3dHUNA7+7u7u6uQ0AAAAAAAEBEQBERERER0URAIiIiIiJiRUAzMzMzM/NFQEREREREhEZAVVVVVVUVR0BmZmZmZqZHQHh3d3d3N0hA",
                        "dtype": "f8"
                      },
                      "y": {
                        "bdata": "De5gtUYBRD9Raxqg/CNVPx4R0p3fA2U/Z+ABsaamcz8g2Nem/0iBPy/5pgGpmow/JA4LF25Dlj+UGSiw1EygP/4sR8y8c6Y/fainT1EXrT8XbunDeLqxPxqI9kVjU7Q/7nYUGcTrtT/xG7ejHD22Px6mI1T2OLU/eriuIhYNsz9aEoMzVBawP8JuFAKSjqk/lFTuDpQYoz8v8PCmAdiaP4AxyCyCv5E/ZBLAUYcThj8cYbxWrdR5P1oI1Lo5bmw/7PqmA3lvXT+jBKUl7KpMPxEorx9uQzo/1POErRqiJj9qFbNR+lgSP0+JmURf+/s+",
                        "dtype": "f8"
                      }
                    }
                  ],
                  "name": "n=100"
                },
                {
                  "data": [
                    {
                      "marker": {
                        "color": "blue"
                      },
                      "name": "이항분포 샘플",
                      "opacity": 0.7,
                      "type": "bar",
                      "x": {
                        "bdata": "vLu7u7s7LUA0MzMzM7MvQFZVVVVVFTFAERERERFRMkDNzMzMzIwzQIiIiIiIyDRAREREREQENkAAAAAAAEA3QLy7u7u7ezhAeHd3d3e3OUA0MzMzM/M6QO/u7u7uLjxAq6qqqqpqPUBmZmZmZqY+QCIiIiIi4j9A7+7u7u6OQEDNzMzMzCxBQKuqqqqqykFAiYiIiIhoQkBnZmZmZgZDQEVEREREpENAIiIiIiJCREAAAAAAAOBEQN7d3d3dfUVAvLu7u7sbRkCamZmZmblGQHh3d3d3V0dAVlVVVVX1R0AzMzMzM5NIQBERERERMUlA",
                        "dtype": "f8"
                      },
                      "y": {
                        "bdata": "ItWljOPhLz9s48NdQkElPwAAAAAAAAAAItWljOPhLz9s48NdQkFlPwSXyWbPjV4/cVeUCBVEcj8ZhvkkJENzP16HUl3KOJ4/97jSEd4Ulz+Sw/QaiSOePyMw+tiwNaY/Qoc0m0wYuT9ZS7CfC06uP0/G8fAP4LA/Fk6tdZIKsT+GBM4WJDSyPxYO8S2irr0/6ZoBs34fpz8nhxbZzvejP2RzK/8e0KA/ALeYqYirpT9JFp1K/BKJP/5mCxIamYI/hwKycEzrdT+5zL3rjTx6P8goL+wFRVE/AGB8qWrpRz/+ZgsSGplCP2zjw11CQSU/",
                        "dtype": "f8"
                      }
                    },
                    {
                      "line": {
                        "color": "red",
                        "dash": "dash"
                      },
                      "mode": "lines",
                      "name": "정규근사",
                      "type": "scatter",
                      "x": {
                        "bdata": "vLu7u7s7LUA0MzMzM7MvQFZVVVVVFTFAERERERFRMkDNzMzMzIwzQIiIiIiIyDRAREREREQENkAAAAAAAEA3QLy7u7u7ezhAeHd3d3e3OUA0MzMzM/M6QO/u7u7uLjxAq6qqqqpqPUBmZmZmZqY+QCIiIiIi4j9A7+7u7u6OQEDNzMzMzCxBQKuqqqqqykFAiYiIiIhoQkBnZmZmZgZDQEVEREREpENAIiIiIiJCREAAAAAAAOBEQN7d3d3dfUVAvLu7u7sbRkCamZmZmblGQHh3d3d3V0dAVlVVVVX1R0AzMzMzM5NIQBERERERMUlA",
                        "dtype": "f8"
                      },
                      "y": {
                        "bdata": "fMk5vOz2DD+isCAEarIiP98bTDmRmTY/TE+s8J+TST+YRyf51BlbP1Exl/DP4mo/3UJi0xT5eD90OBGxxLeFP8vxCS/yrpE/Rp+STy32mj+DdJ6SgT6jPxBqQhyFuKk/dBu3hNkXsD8HFVpw7dqyP61RRK70rrQ/xsM0BzY+tT91A76fZm20P6TxiIIlZLI/k/rWP28Brz8jQRaUcXioP+I2j4z/FKI/ps79JREFmT/uLOZA5TSQP+Tk2mphqIM/1PQTQQFTdj9dUzoSnrxnPz+umdtboVc/lh5nmXAGRj+KCGhJhDgzP6WMP9u2aB8/",
                        "dtype": "f8"
                      }
                    }
                  ],
                  "name": "n=110"
                },
                {
                  "data": [
                    {
                      "marker": {
                        "color": "blue"
                      },
                      "name": "이항분포 샘플",
                      "opacity": 0.7,
                      "type": "bar",
                      "x": {
                        "bdata": "3t3d3d2dM0CamZmZmdk0QFZVVVVVFTZAERERERFRN0DNzMzMzIw4QIiIiIiIyDlAREREREQEO0AAAAAAAEA8QLy7u7u7ez1AeHd3d3e3PkAzMzMzM/M/QHd3d3d3l0BAVVVVVVU1QUAzMzMzM9NBQBERERERcUJA7+7u7u4OQ0DNzMzMzKxDQKuqqqqqSkRAiYiIiIjoREBnZmZmZoZFQEVEREREJEZAIiIiIiLCRkAAAAAAAGBHQN7d3d3d/UdAvLu7u7ubSECamZmZmTlJQHh3d3d310lAVlVVVVV1SkAzMzMzMxNLQBERERERsUtA",
                        "dtype": "f8"
                      },
                      "y": {
                        "bdata": "bOPDXUJBNT/+ZgsSGplCP7UhoINWlVY/yCgv7AVFYT+KPBrGtWyEPyvAYXqNxIE/XodSXco4jj8cwGF6jcSRPxXxPIPtba4/Ckt0GxANpD85uwx6M36oP+/t5WbtT6w/VL6BWLG8vz/Pt5ebtT+xPzSnA94FNrA/z3fbU8XjrT9I+eifR9KpPwKfV8Gr0bQ/szs5lgb5nT+hBOzYoVSXP4+w6nCIb5E/clAFoGWUlz/ZX3ypaul3Px76yc/2RXA/oyGgg1aVZj+HArJwTOtlP0bcNPWSkUo/juPDXUJBNT9G3DT1kpE6PyLVpYzj4S8/",
                        "dtype": "f8"
                      }
                    },
                    {
                      "line": {
                        "color": "red",
                        "dash": "dash"
                      },
                      "mode": "lines",
                      "name": "정규근사",
                      "type": "scatter",
                      "x": {
                        "bdata": "3t3d3d2dM0CamZmZmdk0QFZVVVVVFTZAERERERFRN0DNzMzMzIw4QIiIiIiIyDlAREREREQEO0AAAAAAAEA8QLy7u7u7ez1AeHd3d3e3PkAzMzMzM/M/QHd3d3d3l0BAVVVVVVU1QUAzMzMzM9NBQBERERERcUJA7+7u7u4OQ0DNzMzMzKxDQKuqqqqqSkRAiYiIiIjoREBnZmZmZoZFQEVEREREJEZAIiIiIiLCRkAAAAAAAGBHQN7d3d3d/UdAvLu7u7ubSECamZmZmTlJQHh3d3d310lAVlVVVVV1SkAzMzMzMxNLQBERERERsUtA",
                        "dtype": "f8"
                      },
                      "y": {
                        "bdata": "5rd9E6xWOT8vP4eXaGhLPyz4yInZ6Fs/fNkqAnfBaj8kWrBZqiV4P3EcA0MuhIQ/wIN0+w9pkD8+7Spk8baYP/P/BQU5haE/oINe/Llipz/6bRKKz2KtP8TdIzinYbE/0vFoD4Bbsz8hl1nTlEu0P2j+OLA2CLQ/5JXSgTmdsj89RQsfj0iwP/uoSzIA0qo/HmYjl0DLpD9UA74EzFqeP4So5q6b25Q/3cyt7EH8ij+DK5LsGW+APzb6C2oP2HI/mcVIantXZD9rkL34GaxUP78Vz6sRx0M/CbtdxTXQMT8yyR59aTUeP9z+tgU8HQg/",
                        "dtype": "f8"
                      }
                    }
                  ],
                  "name": "n=120"
                },
                {
                  "data": [
                    {
                      "marker": {
                        "color": "blue"
                      },
                      "name": "이항분포 샘플",
                      "opacity": 0.7,
                      "type": "bar",
                      "x": {
                        "bdata": "ZmZmZmamNUA0MzMzM/M2QAAAAAAAQDhAzMzMzMyMOUCamZmZmdk6QGZmZmZmJjxANDMzMzNzPUAAAAAAAMA+QGZmZmZmBkBAzczMzMysQEAzMzMzM1NBQJqZmZmZ+UFAAAAAAACgQkBnZmZmZkZDQM3MzMzM7ENAMzMzMzOTRECamZmZmTlFQAAAAAAA4EVAZ2ZmZmaGRkDNzMzMzCxHQDMzMzMz00dAmpmZmZl5SEAAAAAAACBJQGdmZmZmxklAzczMzMxsSkA0MzMzMxNLQJqZmZmZuUtAAAAAAABgTEBmZmZmZgZNQM3MzMzMrE1A",
                        "dtype": "f8"
                      },
                      "y": {
                        "bdata": "Q5wgmVQ/Lj+CvRVmOCo0P0R12HJ/r1Y/akC/ErH8bD+zChz+65ZyP8QxZCTBJno/KMxwVCgAlz8YR4UCcOGRP1r1+h893Jo/5bQk72JsoD+Wt6vuHRK1P4WTLyJ/gao/RaMr4459qz+YjCTYREO9P5SSjk9fW6w/C8TEN86bqz8tGNYZvEa3Py3Z5RV9VqM/gdW9Q6KKoD84FzVHnCCZP/LCI2WudZ0/4z96uDWjhD+liPwFand6P0ffT42XboI/9iybf8Y0WT995F2MDbpLP6fkXYwNuks/AAAAAAAAAAAAAAAAAAAAAJG9FWY4KiQ/",
                        "dtype": "f8"
                      }
                    },
                    {
                      "line": {
                        "color": "red",
                        "dash": "dash"
                      },
                      "mode": "lines",
                      "name": "정규근사",
                      "type": "scatter",
                      "x": {
                        "bdata": "ZmZmZmamNUA0MzMzM/M2QAAAAAAAQDhAzMzMzMyMOUCamZmZmdk6QGZmZmZmJjxANDMzMzNzPUAAAAAAAMA+QGZmZmZmBkBAzczMzMysQEAzMzMzM1NBQJqZmZmZ+UFAAAAAAACgQkBnZmZmZkZDQM3MzMzM7ENAMzMzMzOTRECamZmZmTlFQAAAAAAA4EVAZ2ZmZmaGRkDNzMzMzCxHQDMzMzMz00dAmpmZmZl5SEAAAAAAACBJQGdmZmZmxklAzczMzMxsSkA0MzMzMxNLQJqZmZmZuUtAAAAAAABgTEBmZmZmZgZNQM3MzMzMrE1A",
                        "dtype": "f8"
                      },
                      "y": {
                        "bdata": "3YgPelQuND+9uonroFlGP/48ZMk9RFc/YtAHVUbEZj8VCuFxt/B0P+iSceOwGoI/Vhq7kO1sjT8pn+f1SnqWP/363NfCI6A/pFp1S0vJpT96XKpko6SrP3VKl7YHfLA/Qz8PkfV6sj9+nrJkYHmzP1ZpcUQfSrM/Yj02pLP1sT/QZ55ekm+vP/97uZg+3Kk/ob/gwif/oz8ozkSQnxGdP9VKGdEx3JM/ybSv+CCCiT/NP3qt0Mt+P4bLEG1ieXE/6FrUqsmjYj/JlLrZjLBSP811U6JfnUE/mUqkLs81Lz9inqnlXv0ZP4z0LtnkVwQ/",
                        "dtype": "f8"
                      }
                    }
                  ],
                  "name": "n=130"
                },
                {
                  "data": [
                    {
                      "marker": {
                        "color": "blue"
                      },
                      "name": "이항분포 샘플",
                      "opacity": 0.7,
                      "type": "bar",
                      "x": {
                        "bdata": "eHd3d3e3NUBmZmZmZiY3QFZVVVVVlThAREREREQEOkA0MzMzM3M7QCIiIiIi4jxAERERERFRPkAAAAAAAMA/QHh3d3d3l0BA7+7u7u5OQUBmZmZmZgZCQN7d3d3dvUJAVlVVVVV1Q0DMzMzMzCxEQERERERE5ERAvLu7u7ubRUA0MzMzM1NGQKqqqqqqCkdAIiIiIiLCR0CamZmZmXlIQBIRERERMUlAiIiIiIjoSUAAAAAAAKBKQHh3d3d3V0tA7+7u7u4OTEBmZmZmZsZMQN7d3d3dfU1AVlVVVVU1TkDNzMzMzOxOQEREREREpE9A",
                        "dtype": "f8"
                      },
                      "y": {
                        "bdata": "ilhDhgNKEj8AAAAAAAAAAKwu1GeE3DY/ilhDhgNKQj+awwv3Q5NkPzRkOKAkAWg/vYCOsHslgz96L+bhhyWEP2s6yYGlk4w/cGVT16nuoz/qpZqvZ4GdP4uHH5ZQnLI/SsmBpZMcqD8FGiG3BXi4P1n3SzvdJas/L2q3C/Yuqj9yGip0hxy3P9veRtAVyqM/vEBRqvhlrT/LILKc2u6XP423DSChN6A/MtASi2iThz9vtM70FLh5P5FiFKwdb30/JGQ4oCQBWD8NI99NYyVhP5wu1GeE3DY/g+16FcMAQD8AAAAAAAAAAJZYQ4YDShI/",
                        "dtype": "f8"
                      }
                    },
                    {
                      "line": {
                        "color": "red",
                        "dash": "dash"
                      },
                      "mode": "lines",
                      "name": "정규근사",
                      "type": "scatter",
                      "x": {
                        "bdata": "eHd3d3e3NUBmZmZmZiY3QFZVVVVVlThAREREREQEOkA0MzMzM3M7QCIiIiIi4jxAERERERFRPkAAAAAAAMA/QHh3d3d3l0BA7+7u7u5OQUBmZmZmZgZCQN7d3d3dvUJAVlVVVVV1Q0DMzMzMzCxEQERERERE5ERAvLu7u7ubRUA0MzMzM1NGQKqqqqqqCkdAIiIiIiLCR0CamZmZmXlIQBIRERERMUlAiIiIiIjoSUAAAAAAAKBKQHh3d3d3V0tA7+7u7u4OTEBmZmZmZsZMQN7d3d3dfU1AVlVVVVU1TkDNzMzMzOxOQEREREREpE9A",
                        "dtype": "f8"
                      },
                      "y": {
                        "bdata": "x1z2s86kET/Cv97dkuYmPxkavGK6tzs/zdTG7p1ITz9HFC/tcHZgP4jCeBw6KHA/gz2IYvSSfT9qwMW4SD2JPxxjZ80UFpQ/HklrmQvQnT/1OAeUl6GkPwe9CyGloKo/j+9qqwYGsD9EBqQEtvuxP2EE7fcH0rI/KulUMwFesj/cyH96D7ewP4UhHt+oXqw/kwzdNlBzpj/mP8Y7LJGgP4vzfHv9zJY/2pE19xFDjT+2JxkEgYKBP/rVk1BpinM/5RkIpNRVZD/NfUju37tTP5riJluW20E/ltW6zHwjLj+VsgOZTLcXP2PnWMUKZwE/",
                        "dtype": "f8"
                      }
                    }
                  ],
                  "name": "n=140"
                },
                {
                  "data": [
                    {
                      "marker": {
                        "color": "blue"
                      },
                      "name": "이항분포 샘플",
                      "opacity": 0.7,
                      "type": "bar",
                      "x": {
                        "bdata": "ZmZmZmamOkA0MzMzM/M7QAAAAAAAQD1AzMzMzMyMPkCamZmZmdk/QDMzMzMzk0BAmpmZmZk5QUAAAAAAAOBBQGZmZmZmhkJAzczMzMwsQ0AzMzMzM9NDQJqZmZmZeURAAAAAAAAgRUBnZmZmZsZFQM3MzMzMbEZAMzMzMzMTR0CamZmZmblHQAAAAAAAYEhAZ2ZmZmYGSUDNzMzMzKxJQDMzMzMzU0pAmpmZmZn5SkAAAAAAAKBLQGdmZmZmRkxAzczMzMzsTEA0MzMzM5NNQJqZmZmZOU5AAAAAAADgTkBmZmZmZoZPQGZmZmZmFlBA",
                        "dtype": "f8"
                      },
                      "y": {
                        "bdata": "gr0VZjgqRD+CvRVmOCo0P0R12HJ/r0Y/+anx0k1icD+7iPwFandqP8yzgxxDRnI/bcnpVG1akj9AC2FYZ/CKP/2FdQav0ZU/egHPDnIMmT+8EzuxEzuxPyB12HJ/r6Y/KWOaDDBnqT8Jx3lz2ye7P1aiihBvV60/N2L5ORBBqz/MMgX34Ey4P+Y5EEEbi6U/G0Ebi1XJoj8DYLeU0PSeP9bsCalnHqc/tGi/Kc8lkD+R9zzFfCiHP86I/AVqd4o/pQ/louaIcz+HD+Wi5ohjPwl/arx0k2g/WpwgmVQ/Tj/EBVNZ8aRBP98FU1nxpEE/",
                        "dtype": "f8"
                      }
                    },
                    {
                      "line": {
                        "color": "red",
                        "dash": "dash"
                      },
                      "mode": "lines",
                      "name": "정규근사",
                      "type": "scatter",
                      "x": {
                        "bdata": "ZmZmZmamOkA0MzMzM/M7QAAAAAAAQD1AzMzMzMyMPkCamZmZmdk/QDMzMzMzk0BAmpmZmZk5QUAAAAAAAOBBQGZmZmZmhkJAzczMzMwsQ0AzMzMzM9NDQJqZmZmZeURAAAAAAAAgRUBnZmZmZsZFQM3MzMzMbEZAMzMzMzMTR0CamZmZmblHQAAAAAAAYEhAZ2ZmZmYGSUDNzMzMzKxJQDMzMzMzU0pAmpmZmZn5SkAAAAAAAKBLQGdmZmZmRkxAzczMzMzsTEA0MzMzM5NNQJqZmZmZOU5AAAAAAADgTkBmZmZmZoZPQGZmZmZmFlBA",
                        "dtype": "f8"
                      },
                      "y": {
                        "bdata": "2RzVA+U7Nj+DT/EEYhRHPwwFQvO6tFY/PnFeBOcrZT/N4sXXorVyP+0+6uIeV38/C9rK0r7giD83Cttta7eSP0QHqD/jsJo/3bh9oZMJoj/CgdZZ/BqnP0CXAF0iDaw/S0znVnIjsD/AxEO2epmxP1210+q2MLI/Vl0QtJvRsT+T0zi4BouwPyAFfKPgHK0/eRL3DUtHqD+avgC4dTCjP3+dbG7Nv5w/OIpjpjNplD+ae4cd2neLP26NliZrhIE/GVPAU+ksdT8FKc67qkJoP5jtCcjJV1o/vGy5dygcSz89q2AUKHE6P4f6Pwh7cSg/",
                        "dtype": "f8"
                      }
                    }
                  ],
                  "name": "n=150"
                },
                {
                  "data": [
                    {
                      "marker": {
                        "color": "blue"
                      },
                      "name": "이항분포 샘플",
                      "opacity": 0.7,
                      "type": "bar",
                      "x": {
                        "bdata": "iIiIiIjIO0CamZmZmVk9QKqqqqqq6j5A3t3d3d09QEBmZmZmZgZBQO/u7u7uzkFAeHd3d3eXQkAAAAAAAGBDQIiIiIiIKERAERERERHxRECamZmZmblFQCIiIiIigkZAqqqqqqpKR0A0MzMzMxNIQLy7u7u720hARERERESkSUDMzMzMzGxKQFZVVVVVNUtA3t3d3d39S0BmZmZmZsZMQO7u7u7ujk1AeHd3d3dXTkAAAAAAACBPQIiIiIiI6E9AiIiIiIhYUEDMzMzMzLxQQBERERERIVFAVlVVVVWFUUCamZmZmelRQN7d3d3dTVJA",
                        "dtype": "f8"
                      },
                      "y": {
                        "bdata": "0ZcMZYu7ID/Rlwxli7sQP8sqrtH80kI/hCJ4mUpwZT/Hlwxli7tgP1phXRtEx4E/2Rka8zcUgD+RCcK5g0uZPzz0/oe13qM/HOjBalrHmz85doL6CTmxP/jrPjSrfaQ/Wsp511X6tT8ZRIwfJPGmP31hrETIxLQ/55fRcre6sT+dXX6k+wufP6dlFoqlc6Y/sNLqAdxdkj9vHl198b6WPxfTJqfsU34/vyqu0fzSgj/9N08CydluP8V2NITCMEs/WmFdG0THUT+xlwxli7swP9yXDGWLuzA/sZcMZYu7ED/clwxli7sgP9yXDGWLuxA/",
                        "dtype": "f8"
                      }
                    },
                    {
                      "line": {
                        "color": "red",
                        "dash": "dash"
                      },
                      "mode": "lines",
                      "name": "정규근사",
                      "type": "scatter",
                      "x": {
                        "bdata": "iIiIiIjIO0CamZmZmVk9QKqqqqqq6j5A3t3d3d09QEBmZmZmZgZBQO/u7u7uzkFAeHd3d3eXQkAAAAAAAGBDQIiIiIiIKERAERERERHxRECamZmZmblFQCIiIiIigkZAqqqqqqpKR0A0MzMzMxNIQLy7u7u720hARERERESkSUDMzMzMzGxKQFZVVVVVNUtA3t3d3d39S0BmZmZmZsZMQO7u7u7ujk1AeHd3d3dXTkAAAAAAACBPQIiIiIiI6E9AiIiIiIhYUEDMzMzMzLxQQBERERERIVFAVlVVVVWFUUCamZmZmelRQN7d3d3dTVJA",
                        "dtype": "f8"
                      },
                      "y": {
                        "bdata": "QaEk0WWZJD+qHqF5B305P7gsrlL7UE0/BlKybAVYXz8yjeGEnSZvP2VfHhc0x3w/BqFVT5u2iD81ePQYRLqTPzT4f3fZRp0/te1UQpkxpD/HVl8hH+WpPwDoJRjh3a4/jMvjpr0ZsT8QXobx8ZyxP84Dl03u3LA/KGrI4OADrj84sGz/sNSoPzP2mGZKGKM/cBQ2O5FMmz/pjM4/tCOSPwxxJDF9aIY/mrrQuDu7eT+ifZzlSndrPyN0b1OUQFs/CIFtR6ciST+Buf8av4w1P5+ZC3+XLCE/FUlV6RlyCT9ebqUOyIXxPvkcCuPXbtY+",
                        "dtype": "f8"
                      }
                    }
                  ],
                  "name": "n=160"
                },
                {
                  "data": [
                    {
                      "marker": {
                        "color": "blue"
                      },
                      "name": "이항분포 샘플",
                      "opacity": 0.7,
                      "type": "bar",
                      "x": {
                        "bdata": "MzMzMzOzP0DMzMzMzIxAQAAAAAAAQEFANDMzMzPzQUBmZmZmZqZCQJqZmZmZWUNAzMzMzMwMREAAAAAAAMBEQDQzMzMzc0VAZmZmZmYmRkCamZmZmdlGQMzMzMzMjEdAAAAAAABASEAzMzMzM/NIQGZmZmZmpklAmpmZmZlZSkDMzMzMzAxLQAAAAAAAwEtAMzMzMzNzTEBmZmZmZiZNQJqZmZmZ2U1AzMzMzMyMTkAAAAAAAEBPQDIzMzMz809AMzMzMzNTUEDNzMzMzKxQQGZmZmZmBlFAAAAAAABgUUCZmZmZmblRQDMzMzMzE1JA",
                        "dtype": "f8"
                      },
                      "y": {
                        "bdata": "uKk05NxnNz8l/8gzrRBFP/vTQR3UQV0/Nz94b0lPYz83P3hvSU9jP8+5zy4gNoU/irSFZS+agz8V5NxnFxCbP94RCePorJM/Q5w+/pFnmj+uugb7ciWwP4nAyqFFtqM/+3Z7josptj98uB6F61GoPzD0d7Ja3qg/aByddcrktj9s7IiEcXSmP3jaf6GIx7I/son+TlbLmz+eYZZ6V7+WP01bWPaiOaE/Jf/IM60QhT9Dx8UUazaSPy6foFH7L3Q/JlSglAy/aT+1/gtFPBZsP29UoJQMv0k/b1SglAy/ST94VF2DfbkiP3hUXYN9uTI/",
                        "dtype": "f8"
                      }
                    },
                    {
                      "line": {
                        "color": "red",
                        "dash": "dash"
                      },
                      "mode": "lines",
                      "name": "정규근사",
                      "type": "scatter",
                      "x": {
                        "bdata": "MzMzMzOzP0DMzMzMzIxAQAAAAAAAQEFANDMzMzPzQUBmZmZmZqZCQJqZmZmZWUNAzMzMzMwMREAAAAAAAMBEQDQzMzMzc0VAZmZmZmYmRkCamZmZmdlGQMzMzMzMjEdAAAAAAABASEAzMzMzM/NIQGZmZmZmpklAmpmZmZlZSkDMzMzMzAxLQAAAAAAAwEtAMzMzMzNzTEBmZmZmZiZNQJqZmZmZ2U1AzMzMzMyMTkAAAAAAAEBPQDIzMzMz809AMzMzMzNTUEDNzMzMzKxQQGZmZmZmBlFAAAAAAABgUUCZmZmZmblRQDMzMzMzE1JA",
                        "dtype": "f8"
                      },
                      "y": {
                        "bdata": "QD/7C9G7Nz+OTG+PMpxIP/68WqPdJ1g/GzS/XG1xZj9FVWQ457xzP7VpPeZzboA/lzgt6HLliT8vOEze/FCTP+1HcRv1Rps/ezh57QU7oj/x4ixVGBGnP7E7DI50oKs/G3imPBJSrz/7X/LkQM6wPxdGnptFErE/sCZlpTRqsD9kmf6gfeGtPxYNloxvvqk/ZMp8g6z+pD/zXwd3BzWgP+AeRMSNr5c/GL0Zrw5ikD/akMxo93OFPwM3HlZYl3o/aieOqQEzbz/H9L1QPFNhP6TbUGiuNlI/zZWnTu0fQj9Kcv5ynhIxP//f/0oDch4/",
                        "dtype": "f8"
                      }
                    }
                  ],
                  "name": "n=170"
                },
                {
                  "data": [
                    {
                      "marker": {
                        "color": "blue"
                      },
                      "name": "이항분포 샘플",
                      "opacity": 0.7,
                      "type": "bar",
                      "x": {
                        "bdata": "iYiIiIjIP0DNzMzMzKxAQFZVVVVVdUFA3t3d3d09QkBmZmZmZgZDQO/u7u7uzkNAeHd3d3eXREAAAAAAAGBFQIiIiIiIKEZAERERERHxRkCamZmZmblHQCIiIiIigkhAqqqqqqpKSUA0MzMzMxNKQLy7u7u720pARERERESkS0DMzMzMzGxMQFZVVVVVNU1A3t3d3d39TUBmZmZmZsZOQO7u7u7ujk9AvLu7u7srUEAAAAAAAJBQQERERERE9FBAiIiIiIhYUUDMzMzMzLxRQBERERERIVJAVlVVVVWFUkCamZmZmelSQN7d3d3dTVNA",
                        "dtype": "f8"
                      },
                      "y": {
                        "bdata": "x5cMZYu7ID/clwxli7sgP8eXDGWLu0A/zlDxqt8BVz8mrePNCSVaP28eXX3xvnY/3aStlVfCbD8kqcixsHOLP+K9Y3Ue55g/XrUFzwuLkz8RrVmysSaoPx0z5AmvNaA/tT/TsMJEsj/wbUzCV9ajP7dQZ4+HA7U/0qhlUXx5tD9NTDg8flWiP9ZhI9ysu68/c3IFMbmCmD/q1o85jQ2jP2dleDedeJA/ivgt276Mlj+jpIUn98iEPzvKoJJ5/nA/m/w0wGdBcT+TUPGq3wFHP85Q8arfAUc/sZcMZYu7MD/TvU8+buo0P9yXDGWLuyA/",
                        "dtype": "f8"
                      }
                    },
                    {
                      "line": {
                        "color": "red",
                        "dash": "dash"
                      },
                      "mode": "lines",
                      "name": "정규근사",
                      "type": "scatter",
                      "x": {
                        "bdata": "iYiIiIjIP0DNzMzMzKxAQFZVVVVVdUFA3t3d3d09QkBmZmZmZgZDQO/u7u7uzkNAeHd3d3eXREAAAAAAAGBFQIiIiIiIKEZAERERERHxRkCamZmZmblHQCIiIiIigkhAqqqqqqpKSUA0MzMzMxNKQLy7u7u720pARERERESkS0DMzMzMzGxMQFZVVVVVNU1A3t3d3d39TUBmZmZmZsZOQO7u7u7ujk9AvLu7u7srUEAAAAAAAJBQQERERERE9FBAiIiIiIhYUUDMzMzMzLxRQBERERERIVJAVlVVVVWFUkCamZmZmelSQN7d3d3dTVNA",
                        "dtype": "f8"
                      },
                      "y": {
                        "bdata": "GEvMmLPYGD8AmV+apTMuP0FMrSSdM0E/LOZNV9pcUj/IkBf+ql5iP3drCna3OHE/4d9csZVCfj8x5d+46emIP/d/n+TtOJM/X0YgqinMmz+prFve3NWiP2qQnaqz66c/8J2V1BV4rD/NG2nFjMCvP82PWQz8l7A/wJwo6NtAsD8tKLBtl9atPwityI67qqk/OuI+xs+wpD/FWFJc3UKfP6XOhg6cIZY/MvO6XJRdjT/5KHIG50GCP8p4up1sRnU/TUd+yZ87Zz/msXtFncZXP4gyO+0/zUY/up0hQSd+ND8S7cOFfUIhP/x/sI/iPgs/",
                        "dtype": "f8"
                      }
                    }
                  ],
                  "name": "n=180"
                },
                {
                  "data": [
                    {
                      "marker": {
                        "color": "blue"
                      },
                      "name": "이항분포 샘플",
                      "opacity": 0.7,
                      "type": "bar",
                      "x": {
                        "bdata": "IiIiIiLiQUBmZmZmZqZCQKuqqqqqakNA7+7u7u4uREAzMzMzM/NEQHh3d3d3t0VAvLu7u7t7RkAAAAAAAEBHQEREREREBEhAiIiIiIjISEDNzMzMzIxJQBIRERERUUpAVlVVVVUVS0CamZmZmdlLQN7d3d3dnUxAIiIiIiJiTUBmZmZmZiZOQKuqqqqq6k5A8O7u7u6uT0CamZmZmTlQQLy7u7u7m1BA3t3d3d39UEAAAAAAAGBRQCIiIiIiwlFARUREREQkUkBnZmZmZoZSQImIiIiI6FJAq6qqqqpKU0DNzMzMzKxTQO/u7u7uDlRA",
                        "dtype": "f8"
                      },
                      "y": {
                        "bdata": "khVKQKoYIT98FUpAqhhRP0VYU4i/O0M/waWB8CnrXT/8jGPGJPlmPybtSJdH1IA/DmN4qBTIez9glJooKOeUP2cEfUyf2Yw/RZSaKCjnpD+PH/qlqC6cPy+ZZfGrD7A/w5vRiivVoj+KSxBLzzi2Pydi9oNC76M/v0XDXXk3sz+ueNy8taWxPy+Rxj7NDZ8/jFZpExJPqD8H85WEndWTPycmvE1Vppw/zAbce6M8hT+ySHAJYumJP8RwcbLELWo/ZwR9TJ/ZbD8ZR4aUtPxeP0VYU4i/O1M/XCBvYP+kKT/3mlzQ1F41P1wgb2D/pCk/",
                        "dtype": "f8"
                      }
                    },
                    {
                      "line": {
                        "color": "red",
                        "dash": "dash"
                      },
                      "mode": "lines",
                      "name": "정규근사",
                      "type": "scatter",
                      "x": {
                        "bdata": "IiIiIiLiQUBmZmZmZqZCQKuqqqqqakNA7+7u7u4uREAzMzMzM/NEQHh3d3d3t0VAvLu7u7t7RkAAAAAAAEBHQEREREREBEhAiIiIiIjISEDNzMzMzIxJQBIRERERUUpAVlVVVVUVS0CamZmZmdlLQN7d3d3dnUxAIiIiIiJiTUBmZmZmZiZOQKuqqqqq6k5A8O7u7u6uT0CamZmZmTlQQLy7u7u7m1BA3t3d3d39UEAAAAAAAGBRQCIiIiIiwlFARUREREQkUkBnZmZmZoZSQImIiIiI6FJAq6qqqqpKU0DNzMzMzKxTQO/u7u7uDlRA",
                        "dtype": "f8"
                      },
                      "y": {
                        "bdata": "gwajN80fLT9LiYn7hfk/PzSwjV02jFA/cCcGmsklYD9md+JNBrZtP2eMsPD/xHk/r2kOSWoShT8nY/MVpD6QPwDyssAEnZc/zXUwix8uoD+J8VHlpeekP7+Hzxq0dqk/wqfXo+Y9rT+58FISr6ivP4C/9SJBKLA/ldNM3KEYrz8wrxqwKDasP5gD+dJBIag/T4TUtzF1oz/HZ6CVvZWdPz460WxVNJU/XGUVugqojD9SMz5ub0GCP8Ytpzy17XU/PU+cPUzVaD8CT5dzaoNaP0x1spD2r0o/IJaIUktTOT/ul62yXKgmP004KkBrHBM/",
                        "dtype": "f8"
                      }
                    }
                  ],
                  "name": "n=190"
                },
                {
                  "data": [
                    {
                      "marker": {
                        "color": "blue"
                      },
                      "name": "이항분포 샘플",
                      "opacity": 0.7,
                      "type": "bar",
                      "x": {
                        "bdata": "MzMzMzPzQECamZmZmdlBQAAAAAAAwEJAZmZmZmamQ0DNzMzMzIxEQDMzMzMzc0VAmpmZmZlZRkAAAAAAAEBHQGZmZmZmJkhAzczMzMwMSUAzMzMzM/NJQJqZmZmZ2UpAAAAAAADAS0BnZmZmZqZMQM3MzMzMjE1AMzMzMzNzTkCamZmZmVlPQAAAAAAAIFBANDMzMzOTUEBmZmZmZgZRQJqZmZmZeVFAzczMzMzsUUAAAAAAAGBSQDQzMzMz01JAZmZmZmZGU0CamZmZmblTQM3MzMzMLFRAAAAAAACgVEA0MzMzMxNVQGZmZmZmhlVA",
                        "dtype": "f8"
                      },
                      "y": {
                        "bdata": "Py6RWoogDT8AAAAAAAAAAAAAAAAAAAAAl+Lsw2fYNT8/LpFaiiA9Pz8ukVqKIF0/j7dlrY4Jbj+G6SYxCKx8P0HeA8MbDoo/8tpmjEukhj8M2hrCz0OeP1y8dJMYBKY/qbu7u7u7qz8lpi63P8iwP+9ot9K6b6E/rAMwKe+BsT9NzKbnjpywPx8IrBxaZKs/Iwn45tXEoz/3FNQsH6uQP7kIZfS2rJU/xSYLI27sjT/yEBERERGBP2n8z9YQfm4/WxvotIFOSz/eqfHSTWJQP68IPw95fDk/fuLsw2fYNT8/LpFaiiANPz8ukVqKIA0/",
                        "dtype": "f8"
                      }
                    },
                    {
                      "line": {
                        "color": "red",
                        "dash": "dash"
                      },
                      "mode": "lines",
                      "name": "정규근사",
                      "type": "scatter",
                      "x": {
                        "bdata": "MzMzMzPzQECamZmZmdlBQAAAAAAAwEJAZmZmZmamQ0DNzMzMzIxEQDMzMzMzc0VAmpmZmZlZRkAAAAAAAEBHQGZmZmZmJkhAzczMzMwMSUAzMzMzM/NJQJqZmZmZ2UpAAAAAAADAS0BnZmZmZqZMQM3MzMzMjE1AMzMzMzNzTkCamZmZmVlPQAAAAAAAIFBANDMzMzOTUEBmZmZmZgZRQJqZmZmZeVFAzczMzMzsUUAAAAAAAGBSQDQzMzMz01JAZmZmZmZGU0CamZmZmblTQM3MzMzMLFRAAAAAAACgVEA0MzMzMxNVQGZmZmZmhlVA",
                        "dtype": "f8"
                      },
                      "y": {
                        "bdata": "kC/W0Kln8z4DYt6cFpIMPz3C2e+oeCM/Iwx7pdGROD+AZmdAebNMP9uZCXvBCV8/zA7PtM4Sbz/ETHfSnMx8P1JfzxW6tYg/h24IiYugkz+wZjtua92cP0r3sdhEpqM/bLruvCXEqD8Edl9p1uWsP6QXVgkeN68/pBdWCR43rz8Adl9p1uWsP2y67rwlxKg/P/ex2ESmoz+9Zjtua92cP31uCImLoJM/Ul/PFbq1iD/ETHfSnMx8P50Oz7TOEm8/7pkJe8EJXz9qZmdAebNMPyMMe6XRkTg/PcLZ76h4Iz/CYd6cFpIMP6Qv1tCpZ/M+",
                        "dtype": "f8"
                      }
                    }
                  ],
                  "name": "n=200"
                },
                {
                  "data": [
                    {
                      "marker": {
                        "color": "blue"
                      },
                      "name": "이항분포 샘플",
                      "opacity": 0.7,
                      "type": "bar",
                      "x": {
                        "bdata": "iIiIiIjoQ0CamZmZmblEQKqqqqqqikVAvLu7u7tbRkDMzMzMzCxHQN7d3d3d/UdA7+7u7u7OSEAAAAAAAKBJQBERERERcUpAIiIiIiJCS0AzMzMzMxNMQERERERE5ExAVlVVVVW1TUBmZmZmZoZOQHh3d3d3V09AREREREQUUEDMzMzMzHxQQFZVVVVV5VBA3t3d3d1NUUBmZmZmZrZRQO7u7u7uHlJAeHd3d3eHUkAAAAAAAPBSQIiIiIiIWFNAEhERERHBU0CamZmZmSlUQCIiIiIiklRAqqqqqqr6VEA0MzMzM2NVQLy7u7u7y1VA",
                        "dtype": "f8"
                      },
                      "y": {
                        "bdata": "Mba9ubQMED8xtr25tAxAPzG2vbm0DDA/nbVD3NIXXj/DNaJTC5VqPxBI1K2lFGo/VhH7jUeQhD8ObfVQSw6SPy8I4mB60IQ/zMqGI6Y9oT8fmB40hSGWP1qKGvmYBKo/LebRqg19sD+nck1v3caiP4chltiKXrI/efSt9npKsj8Z5tGqDX2gP4NVG/ogN60//v2eNMm6pz+tYUUUJ52QP9c3OWNiRpw/7AzNbpktgT8wSNStpRSKP4oxMSPOLIA/MX8nq+WNYT8ObfVQSw5iP8O1Q9zSF04/tf4LRTwWPD9p2mR/eBFGP0W2vbm0DCA/",
                        "dtype": "f8"
                      }
                    },
                    {
                      "line": {
                        "color": "red",
                        "dash": "dash"
                      },
                      "mode": "lines",
                      "name": "정규근사",
                      "type": "scatter",
                      "x": {
                        "bdata": "iIiIiIjoQ0CamZmZmblEQKqqqqqqikVAvLu7u7tbRkDMzMzMzCxHQN7d3d3d/UdA7+7u7u7OSEAAAAAAAKBJQBERERERcUpAIiIiIiJCS0AzMzMzMxNMQERERERE5ExAVlVVVVW1TUBmZmZmZoZOQHh3d3d3V09AREREREQUUEDMzMzMzHxQQFZVVVVV5VBA3t3d3d1NUUBmZmZmZrZRQO7u7u7uHlJAeHd3d3eHUkAAAAAAAPBSQIiIiIiIWFNAEhERERHBU0CamZmZmSlUQCIiIiIiklRAqqqqqqr6VEA0MzMzM2NVQLy7u7u7y1VA",
                        "dtype": "f8"
                      },
                      "y": {
                        "bdata": "KpT+aorFIT++NmZXaFg0PyqnJ+2t7EU/+zNmd0o9Vj8nfX3KDzxlP9kDbcTFFXM/hdmulmwlgD/cjsZfULeJP+JkXoniRpM/5RmoQCM0mz9ElgVtdxGiP2xxwv6kl6Y/up8hRk+Xqj8DRSrr1nWtP5awfAomua4/TVcsidYorj8je3JGRt6rP3UV38tNPag/2Wj1HnnYoz9esX3ovpaeP7eLS9esMJY/igCXSRZOjj/P9Sl5oXqDP394YNkrknc/YHU2zSbZaj+wQMa2OslcPxjmOUNQDU0/uVg6eGuZOz8OlYgmHq4oPxnVuEY1xhQ/",
                        "dtype": "f8"
                      }
                    }
                  ],
                  "name": "n=210"
                },
                {
                  "data": [
                    {
                      "marker": {
                        "color": "blue"
                      },
                      "name": "이항분포 샘플",
                      "opacity": 0.7,
                      "type": "bar",
                      "x": {
                        "bdata": "iIiIiIjoRUCamZmZmblGQKqqqqqqikdAvLu7u7tbSEDMzMzMzCxJQN7d3d3d/UlA7+7u7u7OSkAAAAAAAKBLQBERERERcUxAIiIiIiJCTUAzMzMzMxNOQERERERE5E5AVlVVVVW1T0A0MzMzM0NQQLy7u7u7q1BAREREREQUUUDMzMzMzHxRQFZVVVVV5VFA3t3d3d1NUkBmZmZmZrZSQO7u7u7uHlNAeHd3d3eHU0AAAAAAAPBTQIiIiIiIWFRAEhERERHBVECamZmZmSlVQCIiIiIiklVAqqqqqqr6VUA0MzMzM2NWQLy7u7u7y1ZA",
                        "dtype": "f8"
                      },
                      "y": {
                        "bdata": "SpGcFg8TKD9KkZwWDxNIP9f+C0U8Fjw/57UAy0MSVz/7fmq8dJN4PwqtpIznTHA/ZuzZ6qGWjD9dOPZR00CVP2R1lKA22Y8/Af0xJFZfoz9ikzMmZsSZP+nf/66Zz60/kbUousJhsT9wIZbYil6iPycSkI05O7M/rWFFFCedsD9kdZSgNtmfP5Q8JHGBo6g/Hn79qwE4pD8QyHU2bZeNP4ZDpo73sZY/Hba9ubQMgD9BiIPpQVOIP1iIQNiyTXE/ebVD3NIXXj8wSNStpRRaPzBI1K2lFEo/Hba9ubQMID8tkZwWDxM4P0W2vbm0DDA/",
                        "dtype": "f8"
                      }
                    },
                    {
                      "line": {
                        "color": "red",
                        "dash": "dash"
                      },
                      "mode": "lines",
                      "name": "정규근사",
                      "type": "scatter",
                      "x": {
                        "bdata": "iIiIiIjoRUCamZmZmblGQKqqqqqqikdAvLu7u7tbSEDMzMzMzCxJQN7d3d3d/UlA7+7u7u7OSkAAAAAAAKBLQBERERERcUxAIiIiIiJCTUAzMzMzMxNOQERERERE5E5AVlVVVVW1T0A0MzMzM0NQQLy7u7u7q1BAREREREQUUUDMzMzMzHxRQFZVVVVV5VFA3t3d3d1NUkBmZmZmZrZSQO7u7u7uHlNAeHd3d3eHU0AAAAAAAPBTQIiIiIiIWFRAEhERERHBVECamZmZmSlVQCIiIiIiklVAqqqqqqr6VUA0MzMzM2NWQLy7u7u7y1ZA",
                        "dtype": "f8"
                      },
                      "y": {
                        "bdata": "z9wyq0a2Mj+R14WV5elDPyxOCD7eAFQ/LSfb41L3Yj/pv4w4QPlwPx09eRIkrXw/rum0Alndhj/5OyodNzWRP4/+J1Srcpg/XUr7MIRkoD+0Gkwj4L+kP9CS8+Zryqg/w2V1FgT1qz+mQLF/SMKtP88PHnFH5q0/T8O6//FarD8naMPvxmGpP4VsjcYScqU/x5DCf2EaoT8AF0z1wL+ZP3qA0HSbS5I/OCK8JDSKiD/LRmVWohF/P1tDn5FhkHI/fLOrk4vwZD9ZMrcgRktWP8QnAm99Z0Y/j1bjynFANT+gMsg4BgcjPy263FeAFBA/",
                        "dtype": "f8"
                      }
                    }
                  ],
                  "name": "n=220"
                },
                {
                  "data": [
                    {
                      "marker": {
                        "color": "blue"
                      },
                      "name": "이항분포 샘플",
                      "opacity": 0.7,
                      "type": "bar",
                      "x": {
                        "bdata": "7+7u7u5uRkDNzMzMzExHQKuqqqqqKkhAiYiIiIgISUBnZmZmZuZJQERERERExEpAIiIiIiKiS0AAAAAAAIBMQN7d3d3dXU1AvLu7u7s7TkCamZmZmRlPQHd3d3d3909AqqqqqqpqUECamZmZmdlQQIiIiIiISFFAeHd3d3e3UUBmZmZmZiZSQFZVVVVVlVJAREREREQEU0A0MzMzM3NTQCIiIiIi4lNAERERERFRVEAAAAAAAMBUQO/u7u7uLlVA3t3d3d2dVUDNzMzMzAxWQLy7u7u7e1ZAq6qqqqrqVkCamZmZmVlXQIiIiIiIyFdA",
                        "dtype": "f8"
                      },
                      "y": {
                        "bdata": "Q5wgmVQ/Hj+qYbTflOcyP+ZXIpafA0E/f5KOT19bTD8UeqEXeqFnP7+seNIICHU/mQl7K8xwhD8NECr9YeJ7Pz8Y1hm8Rpc/HfXM4+r1nz/Fo1kf4WOmP0kGmLNs/pk/N5r1ET5mrz/WiZ3YiZ2wP5YjTpBMqp8/JBrqgqmssD8BDv91SwmtP5pLIGsY7ac/NSoUgAuPlD8KW+7v1QKeP+Tki8hfoJY/QgO1Ow2Mjz89ko5PX1tsP7z8BWp3Gng/rhTzoVzUbD+ea0YpistEP75XIpafA0E/iJwgmVQ/Lj9DnCCZVD8uPzJ12HJ/ryY/",
                        "dtype": "f8"
                      }
                    },
                    {
                      "line": {
                        "color": "red",
                        "dash": "dash"
                      },
                      "mode": "lines",
                      "name": "정규근사",
                      "type": "scatter",
                      "x": {
                        "bdata": "7+7u7u5uRkDNzMzMzExHQKuqqqqqKkhAiYiIiIgISUBnZmZmZuZJQERERERExEpAIiIiIiKiS0AAAAAAAIBMQN7d3d3dXU1AvLu7u7s7TkCamZmZmRlPQHd3d3d3909AqqqqqqpqUECamZmZmdlQQIiIiIiISFFAeHd3d3e3UUBmZmZmZiZSQFZVVVVVlVJAREREREQEU0A0MzMzM3NTQCIiIiIi4lNAERERERFRVEAAAAAAAMBUQO/u7u7uLlVA3t3d3d2dVUDNzMzMzAxWQLy7u7u7e1ZAq6qqqqrqVkCamZmZmVlXQIiIiIiIyFdA",
                        "dtype": "f8"
                      },
                      "y": {
                        "bdata": "UGTT5yYdIj8ziWtQtd80PyIg6qeLmkY/3TC0ny4AVz/bLpUfQv5lPyNKa+vzwnM/mBDhVnqvgD8C7RFeJXqKP6DehcCTvZM/MdFOWR+pmz9+VjbD3zWiP5BAhWUeiKY/rzHisnQyqj/KH1huL5+sP9j/1haTYq0/+T6JX2ZZrD8B0qQ6UbOpPzsQlK3f5KU/BhKWFMuGoT9EqsiRRl6aP/RiTWmUo5I/5KVnBvbCiD+LUdUjVOl+P/kWAld4IXI/WTK0WW78Yz99LBut2rNUPz/W0HHEJkQ/yyX/q5luMj/JY8meZa8fP4+oWHFjlwk/",
                        "dtype": "f8"
                      }
                    }
                  ],
                  "name": "n=230"
                },
                {
                  "data": [
                    {
                      "marker": {
                        "color": "blue"
                      },
                      "name": "이항분포 샘플",
                      "opacity": 0.7,
                      "type": "bar",
                      "x": {
                        "bdata": "mpmZmZl5R0DMzMzMzGxIQAAAAAAAYElANDMzMzNTSkBmZmZmZkZLQJqZmZmZOUxAzMzMzMwsTUAAAAAAACBOQDMzMzMzE09AMzMzMzMDUEDNzMzMzHxQQGZmZmZm9lBAAAAAAABwUUCamZmZmelRQDMzMzMzY1JAzczMzMzcUkBmZmZmZlZTQAAAAAAA0FNAmZmZmZlJVEAzMzMzM8NUQM3MzMzMPFVAZmZmZma2VUAAAAAAADBWQJmZmZmZqVZAMzMzMzMjV0DNzMzMzJxXQGZmZmZmFlhAAAAAAACQWECZmZmZmQlZQDMzMzMzg1lA",
                        "dtype": "f8"
                      },
                      "y": {
                        "bdata": "ybs+dhGyJD8oRzSNDj8xP4wZXjEaCz8/UOR2R88bUj9DkwalU0hnPxNjz6RB6XQ/UOR2R88bgj/uqfHSTWKQPz7C0WpXA5c/dywFsOk4kD/sXajqCTylP2oMAiuHFqk/UTcScWHIqz/AoGKr5jytP2CWFDd34q0/Aap6Ak9Fqz9fzB/fxl2mPw1x2JjaTKE/VsM9pWWnmT9x8+t1diOBP0tRCzF/fIs/ES76Gfm/fT/4tqDr2udvPz3kdkfPG2I/Fkc0jQ4/UT/vpFNIF5g7PyqlU0gXmDs/KqVTSBeYGz8AAAAAAAAAAO+kU0gXmAs/",
                        "dtype": "f8"
                      }
                    },
                    {
                      "line": {
                        "color": "red",
                        "dash": "dash"
                      },
                      "mode": "lines",
                      "name": "정규근사",
                      "type": "scatter",
                      "x": {
                        "bdata": "mpmZmZl5R0DMzMzMzGxIQAAAAAAAYElANDMzMzNTSkBmZmZmZkZLQJqZmZmZOUxAzMzMzMwsTUAAAAAAACBOQDMzMzMzE09AMzMzMzMDUEDNzMzMzHxQQGZmZmZm9lBAAAAAAABwUUCamZmZmelRQDMzMzMzY1JAzczMzMzcUkBmZmZmZlZTQAAAAAAA0FNAmZmZmZlJVEAzMzMzM8NUQM3MzMzMPFVAZmZmZma2VUAAAAAAADBWQJmZmZmZqVZAMzMzMzMjV0DNzMzMzJxXQGZmZmZmFlhAAAAAAACQWECZmZmZmQlZQDMzMzMzg1lA",
                        "dtype": "f8"
                      },
                      "y": {
                        "bdata": "nTfnFq0mHT+Rcu2UHxQyP9WZxoum30Q/N6n5KFVvVj8iZjDOOXJmP1/C0uW653Q/Qud2vsofgj9aB8nZB0GNP8DUhVY0+pU/xWQ1Jyi9nj98l46bwQKkP0oEIvi3QKg/sJ4Qu8Fcqz9D5mazmLysP0ofS6gQGKw/EDvwyzORqT/DYM8Ey6ilPzFSIkebFKE/3vNmhcATmT+Z1vlt6SKRP1z5RvohzYU/lmkZ5qbReT80+CYwpXZsP8HGEHi5NV0/QvuRsGLnSz+EUBK4TtA4P+rd8I1giiQ/YreYnOmnDz+9LmvOALX2PlI90w/+Ut4+",
                        "dtype": "f8"
                      }
                    }
                  ],
                  "name": "n=240"
                },
                {
                  "data": [
                    {
                      "marker": {
                        "color": "blue"
                      },
                      "name": "이항분포 샘플",
                      "opacity": 0.7,
                      "type": "bar",
                      "x": {
                        "bdata": "ERERERFxSUAzMzMzM1NKQFVVVVVVNUtAd3d3d3cXTECZmZmZmflMQLy7u7u7201A3t3d3d29TkAAAAAAAKBPQBERERERQVBAIiIiIiKyUEAzMzMzMyNRQERERERElFFAVlVVVVUFUkBmZmZmZnZSQHh3d3d351JAiIiIiIhYU0CamZmZmclTQKqqqqqqOlRAvLu7u7urVEDMzMzMzBxVQN7d3d3djVVA7+7u7u7+VUAAAAAAAHBWQBERERER4VZAIiIiIiJSV0AzMzMzM8NXQERERERENFhAVVVVVVWlWEBmZmZmZhZZQHh3d3d3h1lA",
                        "dtype": "f8"
                      },
                      "y": {
                        "bdata": "Y1/c2TqtHT+o9YsacbFAP5SBx3UYZ1Q/qPWLGnGxYD+euynIRIxiP8TtdO6FNn0/tzOGT7bSgz/zAnZS6lCSP1AqNPpVL4c/1zCUpaMVoD9SKY7BT/ClP5Zp1Gehj6s/8ikjsr7ZnT/9JKPCs1SwPyIZNoibJ68/S+gli8+lrT/g6oJEc3mpPypri+g+JJY/l51SZqg6oj9YPhPOi56ZPzfA0vL03ZA/sSfXQLJbez+HdN09n8eCP2ye+J6ueXM/Pdb9NzfLZT8tmT4sZ9JLP8KBx3UYZ0Q/ZYHHdRhnRD9jX9zZOq0dP2Nf3Nk6rR0/",
                        "dtype": "f8"
                      }
                    },
                    {
                      "line": {
                        "color": "red",
                        "dash": "dash"
                      },
                      "mode": "lines",
                      "name": "정규근사",
                      "type": "scatter",
                      "x": {
                        "bdata": "ERERERFxSUAzMzMzM1NKQFVVVVVVNUtAd3d3d3cXTECZmZmZmflMQLy7u7u7201A3t3d3d29TkAAAAAAAKBPQBERERERQVBAIiIiIiKyUEAzMzMzMyNRQERERERElFFAVlVVVVUFUkBmZmZmZnZSQHh3d3d351JAiIiIiIhYU0CamZmZmclTQKqqqqqqOlRAvLu7u7urVEDMzMzMzBxVQN7d3d3djVVA7+7u7u7+VUAAAAAAAHBWQBERERER4VZAIiIiIiJSV0AzMzMzM8NXQERERERENFhAVVVVVVWlWEBmZmZmZhZZQHh3d3d3h1lA",
                        "dtype": "f8"
                      },
                      "y": {
                        "bdata": "s5xR9ihcLD9IiAliWP0+P3VwWYma6E8/OYAup2P1Xj+XWJEGm01sP0r4zKjNYXg/vAnY9bfKgz+mruqI8kaOP6UxjD5t0pU/FLN5ZvSjnT8ZSlGb3feiPwhSlAFB4KY/yf1HDBn/qT+bjsnUZtarP8uiYHijFqw/CERPzbC0qj9/r1+Z/uynPyG3nmyrMqQ/m9BqZBkRoD/cEWir/RWYPy42o03/ApE/rtH6u76khj9A2f92dWZ8PweLIw9DyHA/IYzJSnCwYj+yT8x1kJxTP92SLRhFZEM/C/uz0EsRMj/ED8oQerkfP4NDdXqlPgo/",
                        "dtype": "f8"
                      }
                    }
                  ],
                  "name": "n=250"
                },
                {
                  "data": [
                    {
                      "marker": {
                        "color": "blue"
                      },
                      "name": "이항분포 샘플",
                      "opacity": 0.7,
                      "type": "bar",
                      "x": {
                        "bdata": "VlVVVVV1SkAAAAAAAGBLQKqqqqqqSkxAVlVVVVU1TUAAAAAAACBOQKqqqqqqCk9AVVVVVVX1T0AAAAAAAHBQQFZVVVVV5VBAqqqqqqpaUUAAAAAAANBRQFVVVVVVRVJAqqqqqqq6UkAAAAAAADBTQFVVVVVVpVNAqqqqqqoaVEAAAAAAAJBUQFVVVVVVBVVAqqqqqqp6VUAAAAAAAPBVQFVVVVVVZVZAqqqqqqraVkAAAAAAAFBXQFVVVVVVxVdAqqqqqqo6WEAAAAAAALBYQFVVVVVVJVlAqqqqqqqaWUAAAAAAABBaQFVVVVVVhVpA",
                        "dtype": "f8"
                      },
                      "y": {
                        "bdata": "qB8XqblyJT8A1R6M95gsPw1Fk7ea30E/ngM63hAhWD9Y3r3PL7RrPw1Fk7ea32E/G7ckUsY2gz/v/EnHyNCLP6mLgQvR1pU/j/AyeGyNnj95tWhMtCKkP8MxjFH2S5g//CYxCKwcqj97o1QN7kWuP96Ztcm1Kq8/KW/bYfQnrT+JlFdw1ZSpP/91lFdw1ZQ/gdFFF110oT/hnfazDbCYPyhtvvJrF5E/N2DexNt2iD+oy39Iv319P+SaR4cd5WU/bzJVMCqpYz/QV9E+CxZgP/lEk7ea30E/ANUejPeYLD8A1R6M95gcP8HUHoz3mBw/",
                        "dtype": "f8"
                      }
                    },
                    {
                      "line": {
                        "color": "red",
                        "dash": "dash"
                      },
                      "mode": "lines",
                      "name": "정규근사",
                      "type": "scatter",
                      "x": {
                        "bdata": "VlVVVVV1SkAAAAAAAGBLQKqqqqqqSkxAVlVVVVU1TUAAAAAAACBOQKqqqqqqCk9AVVVVVVX1T0AAAAAAAHBQQFZVVVVV5VBAqqqqqqpaUUAAAAAAANBRQFVVVVVVRVJAqqqqqqq6UkAAAAAAADBTQFVVVVVVpVNAqqqqqqoaVEAAAAAAAJBUQFVVVVVVBVVAqqqqqqp6VUAAAAAAAPBVQFVVVVVVZVZAqqqqqqraVkAAAAAAAFBXQFVVVVVVxVdAqqqqqqo6WEAAAAAAALBYQFVVVVVVJVlAqqqqqqqaWUAAAAAAABBaQFVVVVVVhVpA",
                        "dtype": "f8"
                      },
                      "y": {
                        "bdata": "KsnMyRVDJj+cTlB42Q45PxB00GhthUo/jnXhKN1kWj/+be6e/bJoP2ul9k+4u3U/vftUy1f7gT//ULsds/qLP49YBkHPd5Q/DmVbApQonD+VNOSegDaiP9xOJfxQJ6Y/5hCQxI1WqT870P+JDECrP3fIzSuRjqs/vy/O3Q00qj9WxEMXv22nP6bziEd9sqM/AH4WrIwknz9bOVPpUCaXP0iwXIFDLpA/PXak6tlEhT/7IJLSwkl6P2iAokdLjW4/mwuaQJexYD+p+ixjZSdRP3GW6noLk0A/B1MQ7eIdLj9EpskZfLoZP3j2DGzXqgQ/",
                        "dtype": "f8"
                      }
                    }
                  ],
                  "name": "n=260"
                },
                {
                  "data": [
                    {
                      "marker": {
                        "color": "blue"
                      },
                      "name": "이항분포 샘플",
                      "opacity": 0.7,
                      "type": "bar",
                      "x": {
                        "bdata": "ERERERHxS0AzMzMzM9NMQFVVVVVVtU1Ad3d3d3eXTkCZmZmZmXlPQN7d3d3dLVBA7+7u7u6eUEAAAAAAABBRQBERERERgVFAIiIiIiLyUUAzMzMzM2NSQERERERE1FJAVlVVVVVFU0BmZmZmZrZTQHh3d3d3J1RAiIiIiIiYVECamZmZmQlVQKqqqqqqelVAvLu7u7vrVUDMzMzMzFxWQN7d3d3dzVZA7+7u7u4+V0AAAAAAALBXQBERERERIVhAIiIiIiKSWEAzMzMzMwNZQEREREREdFlAVVVVVVXlWUBmZmZmZlZaQHh3d3d3x1pA",
                        "dtype": "f8"
                      },
                      "y": {
                        "bdata": "ikdlI+xBJj9jX9zZOq0tP4ANA9G/HEg/lIHHdRhnZD9smT4sZ9JbPwKcm+UKpnc/MnTdPZ/Hgj9mGJBPleiNP/hqi+g+JIY/5qYoZOBxnT/ZtdpkjvuiPzenOax3x6Y/lWguL5tQmj8xcMkDXl+sPzMx58EmtbA/wzxcTe4Jrz9TIeKk9YuqP/5+arx0k5g/yo0LdYvHpD/yKSOyvtmdP00dSsLcj5U/MnTdPZ/Hgj/1Nx4yz86IP5zQQ8XvI34/Dj3YpBZ2cD9lgcd1GGdUP7YNA9G/HFg/O9OgfpP3OT+euynIRIwyP4pHZSPsQTY/",
                        "dtype": "f8"
                      }
                    },
                    {
                      "line": {
                        "color": "red",
                        "dash": "dash"
                      },
                      "mode": "lines",
                      "name": "정규근사",
                      "type": "scatter",
                      "x": {
                        "bdata": "ERERERHxS0AzMzMzM9NMQFVVVVVVtU1Ad3d3d3eXTkCZmZmZmXlPQN7d3d3dLVBA7+7u7u6eUEAAAAAAABBRQBERERERgVFAIiIiIiLyUUAzMzMzM2NSQERERERE1FJAVlVVVVVFU0BmZmZmZrZTQHh3d3d3J1RAiIiIiIiYVECamZmZmQlVQKqqqqqqelVAvLu7u7vrVUDMzMzMzFxWQN7d3d3dzVZA7+7u7u4+V0AAAAAAALBXQBERERERIVhAIiIiIiKSWEAzMzMzMwNZQEREREREdFlAVVVVVVXlWUBmZmZmZlZaQHh3d3d3x1pA",
                        "dtype": "f8"
                      },
                      "y": {
                        "bdata": "wjxoR3elKj/Zey/wMFk8P9IIasQ8i0w/Ix1Gy5AzWz+k5Ifzo4hoP4RiXW9M8XQ/CPG6Z2rrgD+rLTZ25d+JP8u1y12XuZI/111OhXmmmT9uJALupKCgPyjQWR8TZ6Q/P4JaB6yxpz/+cq0r7AqqPxHvuaJOF6s/t0jcShmsqj+jHiKgf9qoP9tTHTIe66U/QFIKfHBLoj8h9akBiOecP4hsjQVSnJU/U+wR9oCVjj8JLglki3uEP2FdZBE293k/GxVwb1Anbz+TIxcTJLBhP9LuX4Z9AlM/V4xkKwFWQz+GMZWvSZ0yP/FDe0TE9SA/",
                        "dtype": "f8"
                      }
                    }
                  ],
                  "name": "n=270"
                },
                {
                  "data": [
                    {
                      "marker": {
                        "color": "blue"
                      },
                      "name": "이항분포 샘플",
                      "opacity": 0.7,
                      "type": "bar",
                      "x": {
                        "bdata": "eHd3d3f3TUBmZmZmZuZOQFVVVVVV1U9AIiIiIiJiUECamZmZmdlQQBERERERUVFAiIiIiIjIUUAAAAAAAEBSQHh3d3d3t1JA7+7u7u4uU0BmZmZmZqZTQN7d3d3dHVRAVlVVVVWVVEDMzMzMzAxVQEREREREhFVAvLu7u7v7VUA0MzMzM3NWQKqqqqqq6lZAIiIiIiJiV0CamZmZmdlXQBIRERERUVhAiIiIiIjIWEAAAAAAAEBZQHh3d3d3t1lA7u7u7u4uWkBmZmZmZqZaQN7d3d3dHVtAVlVVVVWVW0DMzMzMzAxcQEREREREhFxA",
                        "dtype": "f8"
                      },
                      "y": {
                        "bdata": "RH8nq+WNMT8Lvxn4ENJGP+heNCfu9lw/v57jYoo1az8kvxn4ENJ2PyjTClGBUoI/+Koon6BRiz8qu4DYVBqCP/kkBoGVQ5s/LK87nD7+oT8l6qAO6qCmP7z5fmq8dKs/8bv6tTYPrD/tZeyIhHGsP8dWRfkEjZo/3rU2D2R+qD8w+BDSFpalP1H+kWdaIaI/viQGgZVDmz8px8UUazaSPxdDEY8FB4g/7S4gNpWGfD8H/8gzrRBlPw6vfq3NA2k/8P4LRTwWXD8H/8gzrRBFP95+arx0kzg/8P4LRTwWHD/w/gtFPBYMP7X+C0U8Fgw/",
                        "dtype": "f8"
                      }
                    },
                    {
                      "line": {
                        "color": "red",
                        "dash": "dash"
                      },
                      "mode": "lines",
                      "name": "정규근사",
                      "type": "scatter",
                      "x": {
                        "bdata": "eHd3d3f3TUBmZmZmZuZOQFVVVVVV1U9AIiIiIiJiUECamZmZmdlQQBERERERUVFAiIiIiIjIUUAAAAAAAEBSQHh3d3d3t1JA7+7u7u4uU0BmZmZmZqZTQN7d3d3dHVRAVlVVVVWVVEDMzMzMzAxVQEREREREhFVAvLu7u7v7VUA0MzMzM3NWQKqqqqqq6lZAIiIiIiJiV0CamZmZmdlXQBIRERERUVhAiIiIiIjIWEAAAAAAAEBZQHh3d3d3t1lA7u7u7u4uWkBmZmZmZqZaQN7d3d3dHVtAVlVVVVWVW0DMzMzMzAxcQEREREREhFxA",
                        "dtype": "f8"
                      },
                      "y": {
                        "bdata": "arhsRvrBOD95+5dc2cxJP5sZkr7tVlk/dlWT9Yh0Zz/TbkkdOHZ0P3neDebF0oA/AwlFqW4Sij9gfQpcSAqTPz87XVerNZo/AkgeE14AoT+ZKSA8n8mkP0XfNBxY9Kc/g2drX/sDqj8WaQgW2aCqP80rDAfyr6k/R7BgKpBapz96qKfbtAKkPxW7EsbQKKA/HSyUpeaYmD8uWSgptKSRP+GJ3djA2oc/jukNVn9lfj/vyXbvgUByP9SsFOh6qGQ/0SdoZkEJVj8ymjG4UydGPwF20j2B/TQ/6Gq5QWG+Ij/UcXeii4wPP7heJCwOBvk+",
                        "dtype": "f8"
                      }
                    }
                  ],
                  "name": "n=280"
                },
                {
                  "data": [
                    {
                      "marker": {
                        "color": "blue"
                      },
                      "name": "이항분포 샘플",
                      "opacity": 0.7,
                      "type": "bar",
                      "x": {
                        "bdata": "3t3d3d39TUCamZmZmflOQFZVVVVV9U9AiIiIiIh4UEBmZmZmZvZQQEREREREdFFAIiIiIiLyUUAAAAAAAHBSQN7d3d3d7VJAvLu7u7trU0CZmZmZmelTQHd3d3d3Z1RAVVVVVVXlVEAzMzMzM2NVQBERERER4VVA7+7u7u5eVkDNzMzMzNxWQKuqqqqqWldAiYiIiIjYV0BmZmZmZlZYQERERERE1FhAIiIiIiJSWUAAAAAAANBZQN7d3d3dTVpAu7u7u7vLWkCZmZmZmUlbQHd3d3d3x1tAVVVVVVVFXEAzMzMzM8NcQBERERERQV1A",
                        "dtype": "f8"
                      },
                      "y": {
                        "bdata": "PB07V6GoGj9W8oTWZKkwPyAdO1ehqDo/ch07V6GoSj9G8oTWZKlgP7cylpc/qG8/+adod3AofT/7fY5ZVN6FP94tSqmdHpI/m2vHQRf+mD+WbTYgoBWfP2lW2jIJWaU/uAi8eSNeqD88HTtXoaiqP1OecsZltK0/k3RPwZEXpz/BB+AWA6mlPx9zBS3hB6M/9R1goXmwnD/+LwJv3oiXP0MxTAOPmIs/nLh3yWyehD9hbKOkN7N7P8S5UyyNU2c/GaT46+5TUj/kgCKCtf1NP5W5UyyNUzc/7VVsAXn+Iz88HTtXoagKPzwdO1ehqAo/",
                        "dtype": "f8"
                      }
                    },
                    {
                      "line": {
                        "color": "red",
                        "dash": "dash"
                      },
                      "mode": "lines",
                      "name": "정규근사",
                      "type": "scatter",
                      "x": {
                        "bdata": "3t3d3d39TUCamZmZmflOQFZVVVVV9U9AiIiIiIh4UEBmZmZmZvZQQEREREREdFFAIiIiIiLyUUAAAAAAAHBSQN7d3d3d7VJAvLu7u7trU0CZmZmZmelTQHd3d3d3Z1RAVVVVVVXlVEAzMzMzM2NVQBERERER4VVA7+7u7u5eVkDNzMzMzNxWQKuqqqqqWldAiYiIiIjYV0BmZmZmZlZYQERERERE1FhAIiIiIiJSWUAAAAAAANBZQN7d3d3dTVpAu7u7u7vLWkCZmZmZmUlbQHd3d3d3x1tAVVVVVVVFXEAzMzMzM8NcQBERERERQV1A",
                        "dtype": "f8"
                      },
                      "y": {
                        "bdata": "xoOAK3C7ID9lFfqbgGQzPzuBUurJF0U/OEpL59OHVT8mZ0kK+59kP4D+6GClinI/R7N8ZDNJfz/CBW6yUMWIP6T4kSLOZ5I/Zbm5MC2rmT8V32lqLsygP3SOEy7BoaQ/1OGLHy7Ipz/YN2ZR5LmpPwD6nf3kHao/jGEMi7/hqD+XAyOTHj+mP4JlFiebqqI/E67JmbVlnT/nJq63XbmVP5iZZe21IY4/+dLCv1acgz8oalvurvR3P52z0ZR+dms/ZrFwSciLXT/rT6luxtRNP6dRTQwBRDw/6aXbb1wiKT9s08tvc/kUPzogCz4PbQA/",
                        "dtype": "f8"
                      }
                    }
                  ],
                  "name": "n=290"
                },
                {
                  "data": [
                    {
                      "marker": {
                        "color": "blue"
                      },
                      "name": "이항분포 샘플",
                      "opacity": 0.7,
                      "type": "bar",
                      "x": {
                        "bdata": "mpmZmZl5T0BmZmZmZjZQQAAAAAAAsFBAmpmZmZkpUUAzMzMzM6NRQM3MzMzMHFJAZmZmZmaWUkAAAAAAABBTQJqZmZmZiVNAMzMzMzMDVEDNzMzMzHxUQGZmZmZm9lRAAAAAAABwVUCamZmZmelVQDMzMzMzY1ZAzczMzMzcVkBmZmZmZlZXQAAAAAAA0FdAmZmZmZlJWEAzMzMzM8NYQM3MzMzMPFlAZmZmZma2WUAAAAAAADBaQJmZmZmZqVpAMzMzMzMjW0DNzMzMzJxbQGZmZmZmFlxAAAAAAACQXECZmZmZmQldQDMzMzMzg11A",
                        "dtype": "f8"
                      },
                      "y": {
                        "bdata": "ybs+dhGyJD8NpVNIF5grP6FqztOV3kk/MvbD6pJrVj9vp6KNMv1lP/nP2l7wZnM/lFYy67Ypez9Wwz2lZaeJP4C1q4HLYJI/DBytdjVwiT+777klTv2eP8A9HDamNqM/8Ep4PDkrqT9NO83witGoP2d1UmUMi6o/6b5MCDVMqz/hie5N6z+pP+/AZTBJX6Q/FppGh58IoD9Q5P920P6MPx/H+CSPsJY/zhleMRoLjz8h8ZwwW76GP2+noo0y/XU/P9/YvJhRbT8WRzSNDj9hP3vf2LyYUU0/hDBJXxQlSD/vpFNIF5grP1EwSV8UJTg/",
                        "dtype": "f8"
                      }
                    },
                    {
                      "line": {
                        "color": "red",
                        "dash": "dash"
                      },
                      "mode": "lines",
                      "name": "정규근사",
                      "type": "scatter",
                      "x": {
                        "bdata": "mpmZmZl5T0BmZmZmZjZQQAAAAAAAsFBAmpmZmZkpUUAzMzMzM6NRQM3MzMzMHFJAZmZmZmaWUkAAAAAAABBTQJqZmZmZiVNAMzMzMzMDVEDNzMzMzHxUQGZmZmZm9lRAAAAAAABwVUCamZmZmelVQDMzMzMzY1ZAzczMzMzcVkBmZmZmZlZXQAAAAAAA0FdAmZmZmZlJWEAzMzMzM8NYQM3MzMzMPFlAZmZmZma2WUAAAAAAADBaQJmZmZmZqVpAMzMzMzMjW0DNzMzMzJxbQGZmZmZmFlxAAAAAAACQXECZmZmZmQldQDMzMzMzg11A",
                        "dtype": "f8"
                      },
                      "y": {
                        "bdata": "F52Fc5HNIz8vtpoOM8E1P8Hwdw1akUY/CcbwaoMbVj/i2UQQU3NkP7XfLgU53XE/unqeJsJ4fT+7e04p9fSGP77E6G3j4pA/al+aiF51lz9B2A8NEcaeP13FSXGYD6M/pXQHyxtMpj+iIx+qbqGoPxusP6tcsak/iqpdcexOqT/2PqzVioqnPzXCzjuPraQ/4N1Zi8cmoT816YL/Rt6aP67Ckq5435M/pAOObLXCiz9Wd5A6Q0+CPzM58cOsznY/Zcx7qeTTaj9BYotao8xdP4f39NG+QU8/Jz2jxK71Pj8Ta7bCJvUsPxvyYBCekxk/",
                        "dtype": "f8"
                      }
                    }
                  ],
                  "name": "n=300"
                },
                {
                  "data": [
                    {
                      "marker": {
                        "color": "blue"
                      },
                      "name": "이항분포 샘플",
                      "opacity": 0.7,
                      "type": "bar",
                      "x": {
                        "bdata": "7+7u7u5+UEDNzMzMzPxQQKuqqqqqelFAiIiIiIj4UUBmZmZmZnZSQERERERE9FJAIiIiIiJyU0AAAAAAAPBTQN7d3d3dbVRAvLu7u7vrVECZmZmZmWlVQHd3d3d351VAVVVVVVVlVkAzMzMzM+NWQBERERERYVdA7+7u7u7eV0DNzMzMzFxYQKuqqqqq2lhAiYiIiIhYWUBmZmZmZtZZQEREREREVFpAIiIiIiLSWkAAAAAAAFBbQN7d3d3dzVtAu7u7u7tLXECZmZmZmclcQHd3d3d3R11AVVVVVVXFXUAzMzMzM0NeQBERERERwV5A",
                        "dtype": "f8"
                      },
                      "y": {
                        "bdata": "7VVsAXn+Iz/tVWwBef5DPxmk+OvuU0I/r5INN9IoWD8gzfam6uhmP2FCyYYbaXQ/bpTF/BKTfT/AHM0lEU6JP6zLrBI62ZI/Mh2EPln7mT9JfI2sWyGhP+6acGx0OqQ/lv5Xl4iPpz/+HIQ+WfupP/cIc5JrC6k/aGvHQRf+qD+LYD4VpCemPzSaSyKcMqI/YWyjpDezmz+QzNFcEuGUPy/LPuGpfpE/L+Ar8LcjhT9wauve9kh2P767C/LNvWw/1y4mDL7TZD9G8oTWZKlQP0byhNZkqUA/RvKE1mSpMD88HTtXoagaPzwdO1ehqAo/",
                        "dtype": "f8"
                      }
                    },
                    {
                      "line": {
                        "color": "red",
                        "dash": "dash"
                      },
                      "mode": "lines",
                      "name": "정규근사",
                      "type": "scatter",
                      "x": {
                        "bdata": "7+7u7u5+UEDNzMzMzPxQQKuqqqqqelFAiIiIiIj4UUBmZmZmZnZSQERERERE9FJAIiIiIiJyU0AAAAAAAPBTQN7d3d3dbVRAvLu7u7vrVECZmZmZmWlVQHd3d3d351VAVVVVVVVlVkAzMzMzM+NWQBERERERYVdA7+7u7u7eV0DNzMzMzFxYQKuqqqqq2lhAiYiIiIhYWUBmZmZmZtZZQEREREREVFpAIiIiIiLSWkAAAAAAAFBbQN7d3d3dzVtAu7u7u7tLXECZmZmZmclcQHd3d3d3R11AVVVVVVXFXUAzMzMzM0NeQBERERERwV5A",
                        "dtype": "f8"
                      },
                      "y": {
                        "bdata": "bAh+wGzSJz+OZiXH6iY6P7MqNzzNDUs/WZzg9F9fWj9I9+eutjloP5M/2aQy+HQ/3EXjmqwagT+WwYjKEUuKPwQj/Fg0C5M/MbV847T+mT/zUi8Y47egP7NQ9gePQ6Q/QI3dcAklpz/GCXD4/+ioP8xqWhKKQ6k/ZpS7LgElqD9sM4bYbL6lP6ZWyWjLc6I/5LENNfmCnT9ou2xvAz2WP/GvXhn6lI8/sByMg9EhhT9TCV7NCKZ6Py6VNEGrqm8//LHhccW6YT8CCh70LrVSP0Lr1STrmUI/g3gdo7FtMT+3F7VMhsYeP9X1N67Emgk/",
                        "dtype": "f8"
                      }
                    }
                  ],
                  "name": "n=310"
                },
                {
                  "data": [
                    {
                      "marker": {
                        "color": "blue"
                      },
                      "name": "이항분포 샘플",
                      "opacity": 0.7,
                      "type": "bar",
                      "x": {
                        "bdata": "ZmZmZmZGUEA0MzMzM9NQQAAAAAAAYFFAzMzMzMzsUUCamZmZmXlSQGZmZmZmBlNANDMzMzOTU0AAAAAAACBUQMzMzMzMrFRAmpmZmZk5VUBmZmZmZsZVQDQzMzMzU1ZAAAAAAADgVkDNzMzMzGxXQJqZmZmZ+VdAZmZmZmaGWEA0MzMzMxNZQAAAAAAAoFlAzczMzMwsWkCamZmZmblaQGZmZmZmRltANDMzMzPTW0AAAAAAAGBcQM3MzMzM7FxAmpmZmZl5XUBmZmZmZgZeQDQzMzMzk15AAAAAAAAgX0DOzMzMzKxfQM3MzMzMHGBA",
                        "dtype": "f8"
                      },
                      "y": {
                        "bdata": "ZrEZSs7UFz9msRlKztQHP5GxGUrO1Cc/ZrEZSs7UNz+YEuQpQZ5SP/F+arx0k2g/MUPJmfoCcD9htMh2vp96P3xMuy4bUok/lB0/c4vNkD+DxQW/wlaiP1zSKiatYqI/fdIqJq1ioj+dSCfz2pilPyDdw5wKmaY/B6b8LZesrz/ArKD/PS2jP2bean5HgKE/ALTIdr6fmj+Ex8/cYjOUP66thQ6OG5Q/rR6F61G4fj9W30+Nl25yPxN71oA02mQ/kbEZSs7UVz+urYUOjhtUPw1Fk7ea3zE/ZrEZSs7UJz8AAAAAAAAAAJGxGUrO1Ac/",
                        "dtype": "f8"
                      }
                    },
                    {
                      "line": {
                        "color": "red",
                        "dash": "dash"
                      },
                      "mode": "lines",
                      "name": "정규근사",
                      "type": "scatter",
                      "x": {
                        "bdata": "ZmZmZmZGUEA0MzMzM9NQQAAAAAAAYFFAzMzMzMzsUUCamZmZmXlSQGZmZmZmBlNANDMzMzOTU0AAAAAAACBUQMzMzMzMrFRAmpmZmZk5VUBmZmZmZsZVQDQzMzMzU1ZAAAAAAADgVkDNzMzMzGxXQJqZmZmZ+VdAZmZmZmaGWEA0MzMzMxNZQAAAAAAAoFlAzczMzMwsWkCamZmZmblaQGZmZmZmRltANDMzMzPTW0AAAAAAAGBcQM3MzMzM7FxAmpmZmZl5XUBmZmZmZgZeQDQzMzMzk15AAAAAAAAgX0DOzMzMzKxfQM3MzMzMHGBA",
                        "dtype": "f8"
                      },
                      "y": {
                        "bdata": "wfZSU6T2BD8vzv4SK84bP6c6V46gKDE/uvV79KW0Qz/bzGOn2w5VP18FBSyA8GQ/plfJbedfcz/tPNsBVa6AP0jKyjFGuoo/Mv78JLPskz8gJ41tWqSbP6+MrBiD16E/o4QSGZBupT/OxBcojvSnPyyP3adF6qg/joaqNtccqD/L3twa4ralP+1IfTgeMqI/A/BWdSJgnD80aUxSc5aUP75Bc39tzIs/3H4iOpx2gT97m9Afomp0P97rhFfhNWY/2aJJlqR7Vj/38ZolYy1FPzu8ueiujzI/7lTvCZhGHj/WYYUh1vkGPwoCvgR5OfA+",
                        "dtype": "f8"
                      }
                    }
                  ],
                  "name": "n=320"
                },
                {
                  "data": [
                    {
                      "marker": {
                        "color": "blue"
                      },
                      "name": "이항분포 샘플",
                      "opacity": 0.7,
                      "type": "bar",
                      "x": {
                        "bdata": "VlVVVVWFUEAAAAAAABBRQKqqqqqqmlFAVlVVVVUlUkAAAAAAALBSQKqqqqqqOlNAVlVVVVXFU0AAAAAAAFBUQKqqqqqq2lRAVVVVVVVlVUAAAAAAAPBVQKqqqqqqelZAVVVVVVUFV0AAAAAAAJBXQKqqqqqqGlhAVVVVVVWlWEAAAAAAADBZQKqqqqqqullAVVVVVVVFWkAAAAAAANBaQKqqqqqqWltAVVVVVVXlW0AAAAAAAHBcQKqqqqqq+lxAVVVVVVWFXUAAAAAAABBeQKqqqqqqml5AVVVVVVUlX0AAAAAAALBfQFVVVVVVHWBA",
                        "dtype": "f8"
                      },
                      "y": {
                        "bdata": "kBYaFKoyCD8AAAAAAAAAADScIJlUPy4/7ZATj/8lIj/m05bRVCw1P1UyVTAqqUM/roj8BWp3aj8wA/aAv2p0P0PVEZK0YX8/aI/sHLLHhj/DiNLe4AuTPzL5jV5T8pk/hNXnaiv2pz+uBLKG0X6jP8L/fXWbQqY/GTSmyQBzpj/C/311m0KmP0TaG3xhMqU/yCMkacM+qD8T/lYDTuSaP3qFWtO845Q/2afZVJeBiz8CItPP7HSFP9y8JFrPp3o/w2G035Tncj9zpDci6u1VP/m3W7XUtUk/ou/R7dSiQD80nCCZVD8uP+2QE4//JTI/",
                        "dtype": "f8"
                      }
                    },
                    {
                      "line": {
                        "color": "red",
                        "dash": "dash"
                      },
                      "mode": "lines",
                      "name": "정규근사",
                      "type": "scatter",
                      "x": {
                        "bdata": "VlVVVVWFUEAAAAAAABBRQKqqqqqqmlFAVlVVVVUlUkAAAAAAALBSQKqqqqqqOlNAVlVVVVXFU0AAAAAAAFBUQKqqqqqq2lRAVVVVVVVlVUAAAAAAAPBVQKqqqqqqelZAVVVVVVUFV0AAAAAAAJBXQKqqqqqqGlhAVVVVVVWlWEAAAAAAADBZQKqqqqqqullAVVVVVVVFWkAAAAAAANBaQKqqqqqqWltAVVVVVVXlW0AAAAAAAHBcQKqqqqqq+lxAVVVVVVWFXUAAAAAAABBeQKqqqqqqml5AVVVVVVUlX0AAAAAAALBfQFVVVVVVHWBA",
                        "dtype": "f8"
                      },
                      "y": {
                        "bdata": "Rg9COm079D7JmyBxWl4LPwEq4il2TCE/ySrS0XlvND/KjRL7UY9GP7OeN84bRlc/TtLiIBdwZj+4uVj6DDd0P4bVxUwCBYE/RgxhCgjIij/whOga5bCTP78dMtwfD5s/m81lNdZfoT/4rCJrttmkP2QXvcISYqc/Whj1DH6BqD/2mEzIFQCoPzsif/Q596U/93RyXnDJoj+EzKy9AQieP/IS6xxFbpY/nlR2fx1Qjz/64vaDtmyEP7FPLIBa5ng/pJcRegdebD/ZQpBmcDNePw+2p7gRDE4/EdB8k6fvOz+DEDWOs0UoPzHiW1AotRM/",
                        "dtype": "f8"
                      }
                    }
                  ],
                  "name": "n=330"
                },
                {
                  "data": [
                    {
                      "marker": {
                        "color": "blue"
                      },
                      "name": "이항분포 샘플",
                      "opacity": 0.7,
                      "type": "bar",
                      "x": {
                        "bdata": "zczMzMwMUkBmZmZmZqZSQAAAAAAAQFNAmpmZmZnZU0AzMzMzM3NUQM3MzMzMDFVAZmZmZmamVUAAAAAAAEBWQJqZmZmZ2VZAMzMzMzNzV0DNzMzMzAxYQGZmZmZmplhAAAAAAABAWUCamZmZmdlZQDMzMzMzc1pAzczMzMwMW0BmZmZmZqZbQAAAAAAAQFxAmZmZmZnZXEAzMzMzM3NdQM3MzMzMDF5AZmZmZmamXkAAAAAAAEBfQJmZmZmZ2V9AmpmZmZk5YEBmZmZmZoZgQDQzMzMz02BAAAAAAAAgYUDMzMzMzGxhQJqZmZmZuWFA",
                        "dtype": "f8"
                      },
                      "y": {
                        "bdata": "l+Lsw2fYFT8MqvHSTWIgP+l+arx0kzg/7YWkKRVnTz+Pt2WtjgleP7V2vp8aL30/cCrOPnyGfT+5kl8s+cWSP1aLbOf7qZE/d0Fg5dAimz+6L5b8YsmnP9U8Uf9GKKM/O9S/EcrorT+q/GLJL5akP+j91HjpJqE/pch2vp8apz+SME/UvxGaP/nBPFH/Rpg/JjMzMzMzgz8B9W+EMnp7Pzb9G6GM3nY/eq2OCR7MYz9UtMh2vp9aP/Gp8dJNYjA/REZvy1odMz89G+i0gU4rP5fi7MNn2AU/4OLsw2fYBT8AAAAAAAAAAJfi7MNn2AU/",
                        "dtype": "f8"
                      }
                    },
                    {
                      "line": {
                        "color": "red",
                        "dash": "dash"
                      },
                      "mode": "lines",
                      "name": "정규근사",
                      "type": "scatter",
                      "x": {
                        "bdata": "zczMzMwMUkBmZmZmZqZSQAAAAAAAQFNAmpmZmZnZU0AzMzMzM3NUQM3MzMzMDFVAZmZmZmamVUAAAAAAAEBWQJqZmZmZ2VZAMzMzMzNzV0DNzMzMzAxYQGZmZmZmplhAAAAAAABAWUCamZmZmdlZQDMzMzMzc1pAzczMzMwMW0BmZmZmZqZbQAAAAAAAQFxAmZmZmZnZXEAzMzMzM3NdQM3MzMzMDF5AZmZmZmamXkAAAAAAAEBfQJmZmZmZ2V9AmpmZmZk5YEBmZmZmZoZgQDQzMzMz02BAAAAAAAAgYUDMzMzMzGxhQJqZmZmZuWFA",
                        "dtype": "f8"
                      },
                      "y": {
                        "bdata": "sFXrd4KmGD80izHa0x0wP3MpX6bScEM/2F/LvA+iVT/uyGMx9zRmP00O5Jt4B3U/342sZdpegj+b+ismwJuNP3l8FGTbApY/YhWBOK4wnj9/ofnLeRmjPwEblKYTS6Y/8o/O9xsBqD/KERWn79enPz7KEwQh2aU/BiuI7Np3oj+NpAwpZ82cPydjCZMIuJQ/p/ZvaXR/iz8uIMmfS9WAP8C0Gg0TA3M/yIU2uAHPYz+YMbEZ/glTP7uxmwSO4UA/c6Eb+IOdKz/8n55BQdYUP2J/raj0Af0+HwsHA1Kg4j6lN/KmBBHGPpgf8EmxHag+",
                        "dtype": "f8"
                      }
                    }
                  ],
                  "name": "n=340"
                },
                {
                  "data": [
                    {
                      "marker": {
                        "color": "blue"
                      },
                      "name": "이항분포 샘플",
                      "opacity": 0.7,
                      "type": "bar",
                      "x": {
                        "bdata": "7+7u7u5OUkDNzMzMzOxSQKuqqqqqilNAiYiIiIgoVEBmZmZmZsZUQEREREREZFVAIiIiIiICVkAAAAAAAKBWQN7d3d3dPVdAvLu7u7vbV0CamZmZmXlYQHd3d3d3F1lAVVVVVVW1WUAzMzMzM1NaQBERERER8VpA7+7u7u6OW0DNzMzMzCxcQKuqqqqqylxAiYiIiIhoXUBnZmZmZgZeQEVEREREpF5AIiIiIiJCX0AAAAAAAOBfQO/u7u7uPmBA3t3d3d2NYEDNzMzMzNxgQLy7u7u7K2FAq6qqqqp6YUCamZmZmclhQIiIiIiIGGJA",
                        "dtype": "f8"
                      },
                      "y": {
                        "bdata": "bOPDXUJBFT9s48NdQkEFP/5mCxIamTI/tFjtQLs5PT9yOKb1CpphPzAxF41b6mY/65bJZs+Nfj8AoXNngxqBP4bl/cWXqpY/zpjHSim2lT85L90kBoGlP3SusAgzBqA/mVaz2GXQqz+hI7wpLt6iPyikyoODOKM/fRwtwX4uqD9kGNeyUXyaP5g5/y2xj5w/DWTweRW8ij+AVHlwEGeKP8O0XkEzQnQ/HJfJZs+Nbj9kArJwTOtVPwApL+wFRVE/J+PDXUJBNT+x48NdQkEVPwAAAAAAAAAAAAAAAAAAAAAAAAAAAAAAAGzjw11CQQU/",
                        "dtype": "f8"
                      }
                    },
                    {
                      "line": {
                        "color": "red",
                        "dash": "dash"
                      },
                      "mode": "lines",
                      "name": "정규근사",
                      "type": "scatter",
                      "x": {
                        "bdata": "7+7u7u5OUkDNzMzMzOxSQKuqqqqqilNAiYiIiIgoVEBmZmZmZsZUQEREREREZFVAIiIiIiICVkAAAAAAAKBWQN7d3d3dPVdAvLu7u7vbV0CamZmZmXlYQHd3d3d3F1lAVVVVVVW1WUAzMzMzM1NaQBERERER8VpA7+7u7u6OW0DNzMzMzCxcQKuqqqqqylxAiYiIiIhoXUBnZmZmZgZeQEVEREREpF5AIiIiIiJCX0AAAAAAAOBfQO/u7u7uPmBA3t3d3d2NYEDNzMzMzNxgQLy7u7u7K2FAq6qqqqp6YUCamZmZmclhQIiIiIiIGGJA",
                        "dtype": "f8"
                      },
                      "y": {
                        "bdata": "hwNfL/V3CT+sMZV7lL0hP+cwqP5ZwDY/V5TWCAPcSj8BY0rtozBdPxhfqurWM20/jhKazdjkej+pjZZt1MyGP+1QLjY1y5E/dcR+Zx+RmT/umk9pleigP27MjV6BlqQ/k36f1osTpz+D+czsg8+nPzyMe/3HnaY/s1uV2HfGoz9gUw6fr9WfP9j2vlyflpc/z55taesWkD8xeDtTlDSEP+WrcV+zW3c/JfrkY4/baD+Kz9IiCVpYPw7XZMDy9UU/NgkpWCk7Mj91nu8sad0bP9zFDQZXmgM/k35P89Fj6T6HNp85z0XOPsy1LG4JnbA+",
                        "dtype": "f8"
                      }
                    }
                  ],
                  "name": "n=350"
                },
                {
                  "data": [
                    {
                      "marker": {
                        "color": "blue"
                      },
                      "name": "이항분포 샘플",
                      "opacity": 0.7,
                      "type": "bar",
                      "x": {
                        "bdata": "ZmZmZmbGU0A0MzMzM1NUQAAAAAAA4FRAzMzMzMxsVUCamZmZmflVQGZmZmZmhlZANDMzMzMTV0AAAAAAAKBXQMzMzMzMLFhAmpmZmZm5WEBmZmZmZkZZQDQzMzMz01lAAAAAAABgWkDNzMzMzOxaQJqZmZmZeVtAZmZmZmYGXEA0MzMzM5NcQAAAAAAAIF1AzczMzMysXUCamZmZmTleQGZmZmZmxl5ANDMzMzNTX0AAAAAAAOBfQGZmZmZmNmBAzczMzMx8YEAzMzMzM8NgQJqZmZmZCWFAAAAAAABQYUBnZmZmZpZhQM3MzMzM3GFA",
                        "dtype": "f8"
                      },
                      "y": {
                        "bdata": "DUWTt5rfIT/2qfHSTWJAP0bgNJznXEM/ZrEZSs7UVz85e9aANNpkPwcaDKHBEHo/OXvWgDTahD87aM8akEaLP5XEILByaJE/jP0Spvwtlz/mhIroQSKoP5gS5ClBnqI/zqhK8RB7pT9/Tywu+BWmP5u7j4TIFaU/H1yPwvUorD80UE9qWwudPw8nMQisHJo/JyHTrsuGlD9x7NVd+HaPP+VpmTgwI40/mBLkKUGecj/cgv73tExsP3YS5ClBnlI/Hn9qvHSTWD+RsRlKztRHPzuxGUrO1Ac/O7EZSs7UFz8AAAAAAAAAAJGxGUrO1Ac/",
                        "dtype": "f8"
                      }
                    },
                    {
                      "line": {
                        "color": "red",
                        "dash": "dash"
                      },
                      "mode": "lines",
                      "name": "정규근사",
                      "type": "scatter",
                      "x": {
                        "bdata": "ZmZmZmbGU0A0MzMzM1NUQAAAAAAA4FRAzMzMzMxsVUCamZmZmflVQGZmZmZmhlZANDMzMzMTV0AAAAAAAKBXQMzMzMzMLFhAmpmZmZm5WEBmZmZmZkZZQDQzMzMz01lAAAAAAABgWkDNzMzMzOxaQJqZmZmZeVtAZmZmZmYGXEA0MzMzM5NcQAAAAAAAIF1AzczMzMysXUCamZmZmTleQGZmZmZmxl5ANDMzMzNTX0AAAAAAAOBfQGZmZmZmNmBAzczMzMx8YEAzMzMzM8NgQJqZmZmZCWFAAAAAAABQYUBnZmZmZpZhQM3MzMzM3GFA",
                        "dtype": "f8"
                      },
                      "y": {
                        "bdata": "lTlTAWz/Jz+H+G1Q/PE6PxXkAr7oYEw/JaoAYdoIXD8BIrf2L/ppP8/S0T0GlHY/3mZK1Cxogj+vnm6cviaMP0zlwZQxMZQ/v53Hu5Armz9DCrTWbSWhP/jcteN7TKQ/8RyUcGqKpj83YNeDXHqnP6CcNcYN8KY/jKLNcicFpT81aBbXehGiPzfIa3y3Ip0/QRcU1MEIlj92Um24s0KPP89H8EXIzIQ/KYZ+EYD2eT+bwMM4zWVuPymeR+gAsWA/1lEmGZ4xUT8nPOnK65xAP473K7HTHC4/zPJ3MjqZGT/UnH8RYmkEP4Ep7mVniO4+",
                        "dtype": "f8"
                      }
                    }
                  ],
                  "name": "n=360"
                },
                {
                  "data": [
                    {
                      "marker": {
                        "color": "blue"
                      },
                      "name": "이항분포 샘플",
                      "opacity": 0.7,
                      "type": "bar",
                      "x": {
                        "bdata": "RERERETEU0DNzMzMzExUQFZVVVVV1VRA3t3d3d1dVUBmZmZmZuZVQO/u7u7ublZAeHd3d3f3VkAAAAAAAIBXQIiIiIiICFhAERERERGRWECamZmZmRlZQCIiIiIiollAqqqqqqoqWkA0MzMzM7NaQLy7u7u7O1tARERERETEW0DMzMzMzExcQFZVVVVV1VxA3t3d3d1dXUBmZmZmZuZdQO7u7u7ubl5AeHd3d3f3XkAAAAAAAIBfQEREREREBGBAiIiIiIhIYEDNzMzMzIxgQBERERER0WBAVlVVVVUVYUCamZmZmVlhQN7d3d3dnWFA",
                        "dtype": "f8"
                      },
                      "y": {
                        "bdata": "5X5qvHSTKD8Sf2q8dJMYP+V+arx0kyg/ZOOlm8QgUD8iMzMzMzNTP89yaJHtfF8/uCLb+X5qbD8/hxbZzveDP/BVDi2ynYc/yxxaZDvfjz8PsHJoke2UPwL8qfHSTZo/oXJoke18oD+8zMzMzMyjP/IkBoGVQ6U/gT0K16NwsD80tvP91HikP4vEILByaKI/I4PAyqFFoD+8Rbbz/dSaP79NYhBYOZY/gcL1KFyPkD9dNV66SQyOPxBU46WbxHg/giLb+X5qbD9O30+Nl25iPz+HFtnO91M/HTeJQWDlUD8wL90kBoE1PzAv3SQGgTU/",
                        "dtype": "f8"
                      }
                    },
                    {
                      "line": {
                        "color": "red",
                        "dash": "dash"
                      },
                      "mode": "lines",
                      "name": "정규근사",
                      "type": "scatter",
                      "x": {
                        "bdata": "RERERETEU0DNzMzMzExUQFZVVVVV1VRA3t3d3d1dVUBmZmZmZuZVQO/u7u7ublZAeHd3d3f3VkAAAAAAAIBXQIiIiIiICFhAERERERGRWECamZmZmRlZQCIiIiIiollAqqqqqqoqWkA0MzMzM7NaQLy7u7u7O1tARERERETEW0DMzMzMzExcQFZVVVVV1VxA3t3d3d1dXUBmZmZmZuZdQO7u7u7ubl5AeHd3d3f3XkAAAAAAAIBfQEREREREBGBAiIiIiIhIYEDNzMzMzIxgQBERERER0WBAVlVVVVUVYUCamZmZmVlhQN7d3d3dnWFA",
                        "dtype": "f8"
                      },
                      "y": {
                        "bdata": "Wa/nrbbDED/5pC025I8jP4v5HBcjhzU/v7O/fepXRj8734Ar3t5VP90rZ5OZMGQ/HrU7WfOTcT9YvMKT1d18P7qynPKaWoY/gLMDC2lTkD9iay4JbX2WP2unfd8JOJ0/iXGXP5jmoT+tl3cqja+kP3vmcMtKi6Y/gHNdu/Erpz/8AH4GNHamP7VsXcvriKQ/zPtIyYq0oT83YbMHTsucP0H0ZyEAFZY/OyqY6jjxjz+ALqSq0smFPw4J8wKNCHw/AwTF/hoCcT+HkL0fz3ZjPwXdBBrjAVU/ziy/0xRiRT/lHl2xAIc0P+H0QmiylSI/",
                        "dtype": "f8"
                      }
                    }
                  ],
                  "name": "n=370"
                },
                {
                  "data": [
                    {
                      "marker": {
                        "color": "blue"
                      },
                      "name": "이항분포 샘플",
                      "opacity": 0.7,
                      "type": "bar",
                      "x": {
                        "bdata": "3t3d3d2NU0CamZmZmSlUQFVVVVVVxVRAERERERFhVUDNzMzMzPxVQIiIiIiImFZAREREREQ0V0AAAAAAANBXQLy7u7u7a1hAeHd3d3cHWUAzMzMzM6NZQO7u7u7uPlpAqqqqqqraWkBmZmZmZnZbQCIiIiIiElxA3t3d3d2tXECamZmZmUldQFVVVVVV5V1AEBERERGBXkDMzMzMzBxfQIiIiIiIuF9AIiIiIiIqYEAAAAAAAHhgQN7d3d3dxWBAu7u7u7sTYUCZmZmZmWFhQHd3d3d3r2FAVVVVVVX9YUAzMzMzM0tiQBERERERmWJA",
                        "dtype": "f8"
                      },
                      "y": {
                        "bdata": "YaDiCsyLBT9k+CkI2SggPwAAAAAAAAAASfgpCNkoMD9PItjIlYFBP3RMholS2lI/+b1v3Y+Yaj8RchmR3AJyP8dhDSdQy30/L3IZkdwCkj85TDq6KkmQP6H8ntl3EKE/sYtvGOWSnD+WiyNJvQGqP62Tg5bv1KI/GJzHUZlboz9Rwj7HmjeqP0sBkLfdzZ4/MjO6V1VGoT/jbUqn0WOSPzb0pu31GpM/zZesmGYrgT8zWde06mp5P374KQjZKHA/hpz3jjigXT9hoOIKzItVP1VMholS2jI/YaDiCsyLJT8AAAAAAAAAAGGg4grMixU/",
                        "dtype": "f8"
                      }
                    },
                    {
                      "line": {
                        "color": "red",
                        "dash": "dash"
                      },
                      "mode": "lines",
                      "name": "정규근사",
                      "type": "scatter",
                      "x": {
                        "bdata": "3t3d3d2NU0CamZmZmSlUQFVVVVVVxVRAERERERFhVUDNzMzMzPxVQIiIiIiImFZAREREREQ0V0AAAAAAANBXQLy7u7u7a1hAeHd3d3cHWUAzMzMzM6NZQO7u7u7uPlpAqqqqqqraWkBmZmZmZnZbQCIiIiIiElxA3t3d3d2tXECamZmZmUldQFVVVVVV5V1AEBERERGBXkDMzMzMzBxfQIiIiIiIuF9AIiIiIiIqYEAAAAAAAHhgQN7d3d3dxWBAu7u7u7sTYUCZmZmZmWFhQHd3d3d3r2FAVVVVVVX9YUAzMzMzM0tiQBERERERmWJA",
                        "dtype": "f8"
                      },
                      "y": {
                        "bdata": "Q03zPGG17j4hkOZs/gYGP7yANYE2Vx0/IUX07cQkMj8aM4E9pNVEP5YqPzOvNlY/9JdktoD9ZT/PdHHvWzZ0P/BGJQ3lP4E/GgCcrzNWiz/YUfELuhyUP0LaWkZEeps/Yx/FrYZtoT9Pe3XxxIakP6eSMrZycqY/+5KLebvKpj+PTKpVs3ylP0s8qhPwzqI/914JYYaSnj9ExWsN/hGXP3TZ97AEKpA/DPtdL+gHhT8t+Rlx92d5Pxls300of2w/X7491m2tXT84oiwFZbJMPzVcOuGlwzk/+Yl3eSV6JT//szBggJ8QP41I3BdU5Pc+",
                        "dtype": "f8"
                      }
                    }
                  ],
                  "name": "n=380"
                },
                {
                  "data": [
                    {
                      "marker": {
                        "color": "blue"
                      },
                      "name": "이항분포 샘플",
                      "opacity": 0.7,
                      "type": "bar",
                      "x": {
                        "bdata": "MzMzMzPTU0CamZmZmXlUQAAAAAAAIFVAZmZmZmbGVUDNzMzMzGxWQDMzMzMzE1dAmpmZmZm5V0AAAAAAAGBYQGZmZmZmBllAzczMzMysWUAzMzMzM1NaQJqZmZmZ+VpAAAAAAACgW0BnZmZmZkZcQM3MzMzM7FxAMzMzMzOTXUCamZmZmTleQAAAAAAA4F5AZ2ZmZmaGX0BmZmZmZhZgQJqZmZmZaWBAzMzMzMy8YEAAAAAAABBhQDQzMzMzY2FAZmZmZma2YUCamZmZmQliQM3MzMzMXGJAAAAAAACwYkA0MzMzMwNjQGZmZmZmVmNA",
                        "dtype": "f8"
                      },
                      "y": {
                        "bdata": "kb0VZjgqBD8AAAAAAAAAAFqcIJlUPx4/K5wgmVQ/Lj+RvRVmOCokP6UP5aLmiFM/SRl37NtsZT/i2stCGNZpPzSIt6vuHYI/M42AUOkPgz+/oKTj09eWPxZKUVym4J4/6mwsViVLmz8neqEXeqGnP8e57ZNdXqE/q5bkXYwNqj8NIFT6w8SnP7Mr+qymDps/IVvu79UCnj9t7u/VAp6NP3XiG+fNbY8/Dp4d5Bgygj9z35TnEshqP5G9FWY4KmQ/zoj8BWp3Sj+pBVNZ8aRRP4l12HJ/rzY/U70VZjgqBD8AAAAAAAAAAJG9FWY4KgQ/",
                        "dtype": "f8"
                      }
                    },
                    {
                      "line": {
                        "color": "red",
                        "dash": "dash"
                      },
                      "mode": "lines",
                      "name": "정규근사",
                      "type": "scatter",
                      "x": {
                        "bdata": "MzMzMzPTU0CamZmZmXlUQAAAAAAAIFVAZmZmZmbGVUDNzMzMzGxWQDMzMzMzE1dAmpmZmZm5V0AAAAAAAGBYQGZmZmZmBllAzczMzMysWUAzMzMzM1NaQJqZmZmZ+VpAAAAAAACgW0BnZmZmZkZcQM3MzMzM7FxAMzMzMzOTXUCamZmZmTleQAAAAAAA4F5AZ2ZmZmaGX0BmZmZmZhZgQJqZmZmZaWBAzMzMzMy8YEAAAAAAABBhQDQzMzMzY2FAZmZmZma2YUCamZmZmQliQM3MzMzMXGJAAAAAAACwYkA0MzMzMwNjQGZmZmZmVmNA",
                        "dtype": "f8"
                      },
                      "y": {
                        "bdata": "5bZMHqqE3z7H6jwqFwb5Pj+A8hImSxI/tbKgKLqgKD/AI28nWIc+P8a7G8gwbFE/CqoreYJPYj9Z+2tiHrhxP1Ljl9Syk38/W0THvDnoiT+aIXd+R5KTPwq22b0+Ops/mo/gB1hwoT/pxYNjopGkPxrXRuayVqY/GtdG5rJWpj/lxYNjopGkP5qP4AdYcKE//rXZvT46mz+mIXd+R5KTP0lEx7w56Ik/h+OX1LKTfz9Z+2tiHrhxP+OpK3mCT2I/37sbyDBsUT+SI28nWIc+P7WyoCi6oCg/P4DyEiZLEj926jwqFwb5PiO3TB6qhN8+",
                        "dtype": "f8"
                      }
                    }
                  ],
                  "name": "n=390"
                },
                {
                  "data": [
                    {
                      "marker": {
                        "color": "blue"
                      },
                      "name": "이항분포 샘플",
                      "opacity": 0.7,
                      "type": "bar",
                      "x": {
                        "bdata": "7+7u7u4OVkDNzMzMzKxWQKuqqqqqSldAiYiIiIjoV0BmZmZmZoZYQEREREREJFlAIiIiIiLCWUAAAAAAAGBaQN7d3d3d/VpAvLu7u7ubW0CamZmZmTlcQHd3d3d311xAVVVVVVV1XUAzMzMzMxNeQBERERERsV5A7+7u7u5OX0DNzMzMzOxfQFZVVVVVRWBARERERESUYEA0MzMzM+NgQCIiIiIiMmFAERERERGBYUAAAAAAANBhQO/u7u7uHmJA3t3d3d1tYkDNzMzMzLxiQLy7u7u7C2NAq6qqqqpaY0CamZmZmaljQIiIiIiI+GNA",
                        "dtype": "f8"
                      },
                      "y": {
                        "bdata": "ItWljOPhHz9G3DT1kpEqP30aERun5Us/ItWljOPhTz8c8zpnR5ZlP89321PF420/T6choINWhT8WL90kBoGFP6DnNy7tE5g/NIgzjXmslD+WyUgNEP6iPzSnA94FNqA/6XsxYvKVqz+5Cl6Npk+hP2wClK7OyqA/WVEiVBBJqD+vIr03AUqXPydJdje25Jw/KYPejB9miz/qeRW8Gk2PP/JEAmcLEno/zgKycEzrdT9ud9tTxeNdP9caERun5Vs/wmYLEhqZMj+d3DT1kpE6Pyfjw11CQQU/sePDXUJBBT8AAAAAAAAAAGzjw11CQQU/",
                        "dtype": "f8"
                      }
                    },
                    {
                      "line": {
                        "color": "red",
                        "dash": "dash"
                      },
                      "mode": "lines",
                      "name": "정규근사",
                      "type": "scatter",
                      "x": {
                        "bdata": "7+7u7u4OVkDNzMzMzKxWQKuqqqqqSldAiYiIiIjoV0BmZmZmZoZYQEREREREJFlAIiIiIiLCWUAAAAAAAGBaQN7d3d3d/VpAvLu7u7ubW0CamZmZmTlcQHd3d3d311xAVVVVVVV1XUAzMzMzMxNeQBERERERsV5A7+7u7u5OX0DNzMzMzOxfQFZVVVVVRWBARERERESUYEA0MzMzM+NgQCIiIiIiMmFAERERERGBYUAAAAAAANBhQO/u7u7uHmJA3t3d3d1tYkDNzMzMzLxiQLy7u7u7C2NAq6qqqqpaY0CamZmZmaljQIiIiIiI+GNA",
                        "dtype": "f8"
                      },
                      "y": {
                        "bdata": "SnxvzpYYHD9DMVoLxzcxP4hiNoTjoEM/96DbxiPQVD+a9qW17oZkP3mAgXKZ1HI/ICAhHy0RgD98y+hTsICJP5LqTWdV05I/R83vHOfZmT9AACFUW4KgPz2xMHTunKM//vFXURuspT+C+uTUREamP+ZwXOE1S6U/naO+mxXvoj+Y+zWih1GfP6ZJxdSNF5g/1py11u88kT/RtT3YvfGGP1GytxrXZ3w/G9kco9ZacD8ergUWXIRhP4jjWjxsc1E/OBze5pMrQD97vhCSjN8rP3uyWO0yWBY/0qRZxC2pAD87oTxUGhznPpv7Xt+r0M0+",
                        "dtype": "f8"
                      }
                    }
                  ],
                  "name": "n=400"
                },
                {
                  "data": [
                    {
                      "marker": {
                        "color": "blue"
                      },
                      "name": "이항분포 샘플",
                      "opacity": 0.7,
                      "type": "bar",
                      "x": {
                        "bdata": "mpmZmZmJVkDMzMzMzBxXQAAAAAAAsFdANDMzMzNDWEBmZmZmZtZYQJqZmZmZaVlAzMzMzMz8WUAAAAAAAJBaQDQzMzMzI1tAZmZmZma2W0CamZmZmUlcQMzMzMzM3FxAAAAAAABwXUAzMzMzMwNeQGZmZmZmll5AmpmZmZkpX0DMzMzMzLxfQAAAAAAAKGBAmpmZmZlxYEAzMzMzM7tgQM3MzMzMBGFAZmZmZmZOYUAAAAAAAJhhQJqZmZmZ4WFAMzMzMzMrYkDNzMzMzHRiQGZmZmZmvmJAAAAAAAAIY0CZmZmZmVFjQDMzMzMzm2NA",
                        "dtype": "f8"
                      },
                      "y": {
                        "bdata": "GXINq43LFj8Zcg2rjcsmP23O0BVxfjw/khVKQKoYUT8Zcg2rjctWPw2O/77tlmM/k+rCKdFJeT+PgfAp6x2AP474uzOBr4c/3Ior1ZK9jT887UiXR9SgP48f+qWoLpw/H+1Il0fUoD9lfvUBHh2rP3aOTTvS5aE/leXq9tG+oz+ahSxkIQupP1+Y/aDQ+5w/30hwCWLpmT/c3ihPJUeTP8VkiVs03JU/Yt9PjZdugj8ZH9NnNgd9P7f4uzOBr3c/qnwyy+JXXz9hBrU9MRVWP6z3Hzu4EUs/+MOr9RvyMz+zw6v1G/IzP3UVSkCqGCE/",
                        "dtype": "f8"
                      }
                    },
                    {
                      "line": {
                        "color": "red",
                        "dash": "dash"
                      },
                      "mode": "lines",
                      "name": "정규근사",
                      "type": "scatter",
                      "x": {
                        "bdata": "mpmZmZmJVkDMzMzMzBxXQAAAAAAAsFdANDMzMzNDWEBmZmZmZtZYQJqZmZmZaVlAzMzMzMz8WUAAAAAAAJBaQDQzMzMzI1tAZmZmZma2W0CamZmZmUlcQMzMzMzM3FxAAAAAAABwXUAzMzMzMwNeQGZmZmZmll5AmpmZmZkpX0DMzMzMzLxfQAAAAAAAKGBAmpmZmZlxYEAzMzMzM7tgQM3MzMzMBGFAZmZmZmZOYUAAAAAAAJhhQJqZmZmZ4WFAMzMzMzMrYkDNzMzMzHRiQGZmZmZmvmJAAAAAAAAIY0CZmZmZmVFjQDMzMzMzm2NA",
                        "dtype": "f8"
                      },
                      "y": {
                        "bdata": "tbrBlsNlFT+y/C8WlfMoPxLFm/SmXDs/0Z3wzJg3TD//FGZkeF1bP5ZJ/RQT9Wg//IH8/q5ndT9jUTeZq0OBPzdsc7SSMIo/7AxEq1Oukj8PxO6+2Q+ZP4nvMTttnp8/cjO17M7Boj8t6xL5me2kPwgDJiCC9aU/wQSIaeyqpT9vOxIPKxukP+XlFX+ai6E/FJ+pnO7LnD+mwZDUKDmWP9LoWQ/gIJA/KZhKDuMDhj8yylvRhEJ8P3mUQ9yaDnE/0/FqzRFdYz9LsHLWCaxUP4exYsr5wEQ/GMokhyOYMz+xj9y+q2UhP+lJrypFDQ0/",
                        "dtype": "f8"
                      }
                    }
                  ],
                  "name": "n=410"
                },
                {
                  "data": [
                    {
                      "marker": {
                        "color": "blue"
                      },
                      "name": "이항분포 샘플",
                      "opacity": 0.7,
                      "type": "bar",
                      "x": {
                        "bdata": "MzMzMzNTVkCamZmZmflWQAAAAAAAoFdAZmZmZmZGWEDNzMzMzOxYQDMzMzMzk1lAmpmZmZk5WkAAAAAAAOBaQGZmZmZmhltAzczMzMwsXEAzMzMzM9NcQJqZmZmZeV1AAAAAAAAgXkBnZmZmZsZeQM3MzMzMbF9AmpmZmZkJYEDMzMzMzFxgQAAAAAAAsGBANDMzMzMDYUBmZmZmZlZhQJqZmZmZqWFAzMzMzMz8YUAAAAAAAFBiQDQzMzMzo2JAZmZmZmb2YkCamZmZmUljQM3MzMzMnGNAAAAAAADwY0A0MzMzM0NkQGZmZmZmlmRA",
                        "dtype": "f8"
                      },
                      "y": {
                        "bdata": "WpwgmVQ/Hj9yvRVmOCoEP1qcIJlUPx4/7anx0k1iQD/2LJt/xjQ5PzAjCTbRUFc/K5wgmVQ/bj/fBVNZ8aRxP7+PB1CktYc/B8our+izij+4PJdA1jCaP4nKiieNgKA/uhm8RlfGnT/Y6VRtWpKnPwaq8dJNYqA/YbgehetRqD/CUiu1UiulP/W/nGXzz5g/Cg+JKkK8nT9AC2FYZ/CKP86I/AVqd4o/UIi3q+4dgj/T0Dn5IvJnP5G9FWY4KmQ/81cilp8DUT/UqfHSTWJAPxUGU1nxpDE/U70VZjgqJD+RvRVmOCoUP5G9FWY4KgQ/",
                        "dtype": "f8"
                      }
                    },
                    {
                      "line": {
                        "color": "red",
                        "dash": "dash"
                      },
                      "mode": "lines",
                      "name": "정규근사",
                      "type": "scatter",
                      "x": {
                        "bdata": "MzMzMzNTVkCamZmZmflWQAAAAAAAoFdAZmZmZmZGWEDNzMzMzOxYQDMzMzMzk1lAmpmZmZk5WkAAAAAAAOBaQGZmZmZmhltAzczMzMwsXEAzMzMzM9NcQJqZmZmZeV1AAAAAAAAgXkBnZmZmZsZeQM3MzMzMbF9AmpmZmZkJYEDMzMzMzFxgQAAAAAAAsGBANDMzMzMDYUBmZmZmZlZhQJqZmZmZqWFAzMzMzMz8YUAAAAAAAFBiQDQzMzMzo2JAZmZmZmb2YkCamZmZmUljQM3MzMzMnGNAAAAAAADwY0A0MzMzM0NkQGZmZmZmlmRA",
                        "dtype": "f8"
                      },
                      "y": {
                        "bdata": "5O7ByvOD9T5qFXIFNYsOP4cjjfCpFCQ/ZtvVIqd0OD9gzLEZGpZLP4O8WMNm0lw/QXL/hBrkaz8gOLs6t/94P17pFL7jwIQ/mgIntG3qjz/I25YB7bqWP+Y2tDbh/J0/siMZYWhSoj9gl+HPmrykP0CX94/8vKU/iSrsbFUbpT/XK1vkS/uiP9GmKqY5n58/cJPRbYRlmD9QhYy18m6RP+osQ9O1E4c/KighMzNLfD/HR7f+rxBwP79lQ9HI5WA/0NTfPTp2UD8dnVHPRrU9P9ibJlkt1Cg/IEl/10o4Ez+uyjEoiI/7PjYTu6B2TeI+",
                        "dtype": "f8"
                      }
                    }
                  ],
                  "name": "n=420"
                },
                {
                  "data": [
                    {
                      "marker": {
                        "color": "blue"
                      },
                      "name": "이항분포 샘플",
                      "opacity": 0.7,
                      "type": "bar",
                      "x": {
                        "bdata": "qqqqqqrKV0AAAAAAAGBYQFZVVVVV9VhAqqqqqqqKWUAAAAAAACBaQFZVVVVVtVpAq6qqqqpKW0AAAAAAAOBbQFZVVVVVdVxAq6qqqqoKXUAAAAAAAKBdQFZVVVVVNV5Aq6qqqqrKXkAAAAAAAGBfQFZVVVVV9V9AVlVVVVVFYEAAAAAAAJBgQKuqqqqq2mBAVlVVVVUlYUAAAAAAAHBhQKuqqqqqumFAVlVVVVUFYkAAAAAAAFBiQKuqqqqqmmJAVlVVVVXlYkAAAAAAADBjQKuqqqqqemNAVlVVVVXFY0AAAAAAABBkQKuqqqqqWmRA",
                        "dtype": "f8"
                      },
                      "y": {
                        "bdata": "6ss8NzB4Jj/Dyzw3MHgGP++YbSkk2iA/bTJVMCqpQz9wy39Iv31dPz0/eG9JT2M/096SniZ0eT8v0m9fB855PzDPtEJUoIQ/nJDBDMp1lT+lxQkPWSKTPzhyR31V7Zg/+3Z7josppj/p4AuTqYKhP7I1zTtO0aE/H20TbB+xqz/bUM+/njGgPypaABa4up8/IBupugb7oj+JlfUdALKSPw2ZbSkk2pA/cso9II9ekD/EEWKsMhJ/P81l4SynQXI/7Uubrmj1cj+AmLA6s99XPy5Mm65o9VI/tf4LRTwWPD+1/gtFPBYsPxT/C0U8Fiw/",
                        "dtype": "f8"
                      }
                    },
                    {
                      "line": {
                        "color": "red",
                        "dash": "dash"
                      },
                      "mode": "lines",
                      "name": "정규근사",
                      "type": "scatter",
                      "x": {
                        "bdata": "qqqqqqrKV0AAAAAAAGBYQFZVVVVV9VhAqqqqqqqKWUAAAAAAACBaQFZVVVVVtVpAq6qqqqpKW0AAAAAAAOBbQFZVVVVVdVxAq6qqqqoKXUAAAAAAAKBdQFZVVVVVNV5Aq6qqqqrKXkAAAAAAAGBfQFZVVVVV9V9AVlVVVVVFYEAAAAAAAJBgQKuqqqqq2mBAVlVVVVUlYUAAAAAAAHBhQKuqqqqqumFAVlVVVVUFYkAAAAAAAFBiQKuqqqqqmmJAVlVVVVXlYkAAAAAAADBjQKuqqqqqemNAVlVVVVXFY0AAAAAAABBkQKuqqqqqWmRA",
                        "dtype": "f8"
                      },
                      "y": {
                        "bdata": "60XHnT5zEz8mDKs0kp4mP7wBMooTxDg/o2+9B4+HST8GHIXP38ZYPyQGDuCuo2Y/IxoI9NZ5cz+9FrQaY4x/PyOE91aWDog/L9Q3eWdFkT95HDtRBFmXP1qsa/gut50/ZJFEgLrNoT8lDXLT1RWkP+KnX0JjVaU/36dfQmNVpT8lDXLT1RWkP2CRRIC6zaE/RKxr+C63nT95HDtRBFmXPyXUN3lnRZE/AoT3VpYOiD+9FrQaY4x/PxAaCPTWeXM//AUO4K6jZj8GHIXP38ZYP6NvvQePh0k/eAEyihPEOD8mDKs0kp4mP+tFx50+cxM/",
                        "dtype": "f8"
                      }
                    }
                  ],
                  "name": "n=430"
                },
                {
                  "data": [
                    {
                      "marker": {
                        "color": "blue"
                      },
                      "name": "이항분포 샘플",
                      "opacity": 0.7,
                      "type": "bar",
                      "x": {
                        "bdata": "zczMzMzMWEBmZmZmZmZZQAAAAAAAAFpAmpmZmZmZWkAzMzMzMzNbQM3MzMzMzFtAZmZmZmZmXEAAAAAAAABdQJqZmZmZmV1AMzMzMzMzXkDNzMzMzMxeQGZmZmZmZl9AAAAAAAAAYEDMzMzMzExgQJqZmZmZmWBAZmZmZmbmYEA0MzMzMzNhQAAAAAAAgGFAzMzMzMzMYUCamZmZmRliQGZmZmZmZmJANDMzMzOzYkAAAAAAAABjQMzMzMzMTGNAmpmZmZmZY0BmZmZmZuZjQDQzMzMzM2RAAAAAAACAZEDMzMzMzMxkQJqZmZmZGWVA",
                        "dtype": "f8"
                      },
                      "y": {
                        "bdata": "l+Lsw2fYFT8MqvHSTWIwPxNNqTj78Ek/7YWkKRVnTz+Pt2WtjglePxp4ME/Uv3E/C3CEMnpbdj8wYOXQItuJP/VrLiRNqYg/CmcfPsOukD+iALnXXEiiP9e7u7u7u5s/0KzVMcGDqT9uW9bqmOChPwUREREREaE/erMPn2FXqD/L3d3d3d2dPxJQjZduEqM/zvl+arx0kz+1dr6fGi+NP6UehetRuI4/oQ+fYVeAfD8LaNgVIPd6P+l+arx0k2g/GngwT9S/UT8TTak4+/BJP/Gp8dJNYjA/J6rx0k1iID+X4uzDZ9gFP5fi7MNn2BU/",
                        "dtype": "f8"
                      }
                    },
                    {
                      "line": {
                        "color": "red",
                        "dash": "dash"
                      },
                      "mode": "lines",
                      "name": "정규근사",
                      "type": "scatter",
                      "x": {
                        "bdata": "zczMzMzMWEBmZmZmZmZZQAAAAAAAAFpAmpmZmZmZWkAzMzMzMzNbQM3MzMzMzFtAZmZmZmZmXEAAAAAAAABdQJqZmZmZmV1AMzMzMzMzXkDNzMzMzMxeQGZmZmZmZl9AAAAAAAAAYEDMzMzMzExgQJqZmZmZmWBAZmZmZmbmYEA0MzMzMzNhQAAAAAAAgGFAzMzMzMzMYUCamZmZmRliQGZmZmZmZmJANDMzMzOzYkAAAAAAAABjQMzMzMzMTGNAmpmZmZmZY0BmZmZmZuZjQDQzMzMzM2RAAAAAAACAZEDMzMzMzMxkQJqZmZmZGWVA",
                        "dtype": "f8"
                      },
                      "y": {
                        "bdata": "7KsqBd8dID+YeMrOi08yP+TIg3fUi0M/uaIGkaWaUz/EUsBvT3liPxz0Y8RRW3A/p31FE8U2ez95d8eeU0WFPxjJx8XaPY8/Zix0J32OlT8bcyNLPPObP3HpyYRgBqE/79StkaV8oz+bRUDt+fSkP2tCKMEBLaU/Sw6c7JUapD+8ZnEoxe6hP6iVEaUBD54/48g+Dmarlz+zbcxCFoORP2d4AgfIWIg/oGzQl6zNfz/g6pyKO4RzP2UmF5NogWY/mhODUEJiWD8/JEJRgtJIP68+ejrXvTc//+DuVuZVJT/GctOTvgMSP/yQG30ulfw+",
                        "dtype": "f8"
                      }
                    }
                  ],
                  "name": "n=440"
                },
                {
                  "data": [
                    {
                      "marker": {
                        "color": "blue"
                      },
                      "name": "이항분포 샘플",
                      "opacity": 0.7,
                      "type": "bar",
                      "x": {
                        "bdata": "ZmZmZmbWVkA0MzMzM4NXQAAAAAAAMFhAzMzMzMzcWECamZmZmYlZQGZmZmZmNlpANDMzMzPjWkAAAAAAAJBbQMzMzMzMPFxAmpmZmZnpXEBmZmZmZpZdQDQzMzMzQ15AAAAAAADwXkDNzMzMzJxfQM3MzMzMJGBAMzMzMzN7YECamZmZmdFgQAAAAAAAKGFAZmZmZmZ+YUDNzMzMzNRhQDMzMzMzK2JAmpmZmZmBYkAAAAAAANhiQGZmZmZmLmNAzczMzMyEY0AzMzMzM9tjQJqZmZmZMWRAAAAAAACIZEBnZmZmZt5kQM3MzMzMNGVA",
                        "dtype": "f8"
                      },
                      "y": {
                        "bdata": "G3QL5wZrAz8AAAAAAAAAAAAAAAAAAAAAG3QL5wZrIz8AAAAAAAAAACoukVqKID0/mAUqCqb9QD9GUc6gyEVYPwtBOgCT8m4/mrdlrY4Jbj/C02iGLFuCPyd8VbehFJA/dKEf0bXNmD/mZ5yunmyYP6Er3qF2XKM/VisaCfjmpT9gSvZ/5yygP8o2ARBj+qU/5EnQmqn8oz/UCAOo9/GWP24b6LSBTps/Re6XY1Fhkz9I0+BUL3CHP/Zv5n45FnU/sQUqCqb9cD8Cml0yGA9nPz8rfFW3oUQ/vpldMhgPRz/Nv699KbM6P1QukVqKIB0/",
                        "dtype": "f8"
                      }
                    },
                    {
                      "line": {
                        "color": "red",
                        "dash": "dash"
                      },
                      "mode": "lines",
                      "name": "정규근사",
                      "type": "scatter",
                      "x": {
                        "bdata": "ZmZmZmbWVkA0MzMzM4NXQAAAAAAAMFhAzMzMzMzcWECamZmZmYlZQGZmZmZmNlpANDMzMzPjWkAAAAAAAJBbQMzMzMzMPFxAmpmZmZnpXEBmZmZmZpZdQDQzMzMzQ15AAAAAAADwXkDNzMzMzJxfQM3MzMzMJGBAMzMzMzN7YECamZmZmdFgQAAAAAAAKGFAZmZmZmZ+YUDNzMzMzNRhQDMzMzMzK2JAmpmZmZmBYkAAAAAAANhiQGZmZmZmLmNAzczMzMyEY0AzMzMzM9tjQJqZmZmZMWRAAAAAAACIZEBnZmZmZt5kQM3MzMzMNGVA",
                        "dtype": "f8"
                      },
                      "y": {
                        "bdata": "CahlQwzTvD5uK1WyjCHYPvJ+MUW6s/I+JjSTVTXWCj8g/icoSdMhP/VblZnv6zU/zgEQti31SD8Zp8gFBk5aP3lI4v2Lqmk/3VbmWxEvdz+5NIpfCGODP5Cwz40mBI4/BsaBpPWClT+jIBA9RYucP3RwZCwiiKE/3SA40+rvoz+UxKx2Rf2kPyDjkOPcdKQ/27+HfP10oj+tjhd/SdWeP6LrsZuL15c/hlEe3DcRkT+zgAac/J6GP+cjj/SQwXs/inLsKUaHbz+KSAl9x5NgP8nMfZdWI1A/LTYhtpAWPT9Nfl0O0UQoPznpVlukvhI/",
                        "dtype": "f8"
                      }
                    }
                  ],
                  "name": "n=450"
                },
                {
                  "data": [
                    {
                      "marker": {
                        "color": "blue"
                      },
                      "name": "이항분포 샘플",
                      "opacity": 0.7,
                      "type": "bar",
                      "x": {
                        "bdata": "AAAAAAAQWkAAAAAAALBaQAAAAAAAUFtAAAAAAADwW0AAAAAAAJBcQAAAAAAAMF1AAAAAAADQXUAAAAAAAHBeQAAAAAAAEF9AAAAAAACwX0AAAAAAAChgQAAAAAAAeGBAAAAAAADIYEAAAAAAABhhQAAAAAAAaGFAAAAAAAC4YUAAAAAAAAhiQAAAAAAAWGJAAAAAAACoYkAAAAAAAPhiQAAAAAAASGNAAAAAAACYY0AAAAAAAOhjQAAAAAAAOGRAAAAAAACIZEAAAAAAANhkQAAAAAAAKGVAAAAAAAB4ZUAAAAAAAMhlQAAAAAAAGGZA",
                        "dtype": "f8"
                      },
                      "y": {
                        "bdata": "8WjjiLX4FD9oHVVNEHUfP/Fo44i1+DQ/0vvG155ZQj+pTZzc71BkP/p+arx0k2g/cv4mFCLggD83VIzzN6GAPwWoqWVrfZE/rKjBNAwfkT+oNc07TtGhP58kXTP5Zps/AmVTrvAupz95AfbRqSufP8PTK2UZ4qg/S8gHPZtVnz/oaiv2l92jP9QrZRniWJc/5SfVPh2PmT9bfAqA8QyKP8NfkzXqIYo/Cks8oGzKdT/s3R/vVStzP2gdVU0QdV8/8WjjiLX4VD8P1v85zJdHPw/W/znMlzc/D9b/OcyXNz/xaOOItfgUP/Fo44i1+AQ/",
                        "dtype": "f8"
                      }
                    },
                    {
                      "line": {
                        "color": "red",
                        "dash": "dash"
                      },
                      "mode": "lines",
                      "name": "정규근사",
                      "type": "scatter",
                      "x": {
                        "bdata": "AAAAAAAQWkAAAAAAALBaQAAAAAAAUFtAAAAAAADwW0AAAAAAAJBcQAAAAAAAMF1AAAAAAADQXUAAAAAAAHBeQAAAAAAAEF9AAAAAAACwX0AAAAAAAChgQAAAAAAAeGBAAAAAAADIYEAAAAAAABhhQAAAAAAAaGFAAAAAAAC4YUAAAAAAAAhiQAAAAAAAWGJAAAAAAACoYkAAAAAAAPhiQAAAAAAASGNAAAAAAACYY0AAAAAAAOhjQAAAAAAAOGRAAAAAAACIZEAAAAAAANhkQAAAAAAAKGVAAAAAAAB4ZUAAAAAAAMhlQAAAAAAAGGZA",
                        "dtype": "f8"
                      },
                      "y": {
                        "bdata": "R8P8n8pFHT9R95N2W/gwP4hErfOBcUI/f62rXenJUj+e/uZZ+/BhP7TnxNYOD3A/PfG/alPyej/6VmT5EDGFP4YUh4NMPo8/1yVcuqSWlT9OnsF2EfebP79kXbpU+qA/tjU/C8FSoz/38GaCY52kP/fwZoJjnaQ/tjU/C8FSoz+/ZF26VPqgP06ewXYR95s/1yVcuqSWlT+GFIeDTD6PP/pWZPkQMYU/PfG/alPyej+058TWDg9wP57+5ln78GE/f62rXenJUj+IRK3zgXFCP1H3k3Zb+DA/R8P8n8pFHT8VIVYrRqoHP4nnumnl7vE+",
                        "dtype": "f8"
                      }
                    }
                  ],
                  "name": "n=460"
                },
                {
                  "data": [
                    {
                      "marker": {
                        "color": "blue"
                      },
                      "name": "이항분포 샘플",
                      "opacity": 0.7,
                      "type": "bar",
                      "x": {
                        "bdata": "mpmZmZnJWkDMzMzMzFxbQAAAAAAA8FtANDMzMzODXEBmZmZmZhZdQJqZmZmZqV1AzMzMzMw8XkAAAAAAANBeQDQzMzMzY19AZmZmZmb2X0DNzMzMzERgQGZmZmZmjmBAAAAAAADYYECamZmZmSFhQDMzMzMza2FAzczMzMy0YUBmZmZmZv5hQAAAAAAASGJAmpmZmZmRYkAzMzMzM9tiQM3MzMzMJGNAZmZmZmZuY0AAAAAAALhjQJqZmZmZAWRAMzMzMzNLZEDNzMzMzJRkQGZmZmZm3mRAAAAAAAAoZUCZmZmZmXFlQDMzMzMzu2VA",
                        "dtype": "f8"
                      },
                      "y": {
                        "bdata": "khVKQKoYMT+eztAVcX4sP3UVSkCqGEE/7IvHzVtbWj8jgaKtBs9RPyOBoq0Gz2E/waWB8CnrfT+qfDLL4ld/P6FyWydyGoU/C+p0rez6ij/Bfc7Dq/WbP1kT6xCmtZg/8ANWDi2ynT+Ep2tl19eoPxrL4lcf4KE/2ewhWdWsoT8XNSoSXIKoP/rzMX1mc6A/gGOf5obvmj8pPGF0X3CWP76Lx81bW5o/W1e3j/adhj8CCJ+y3gGBP2LfT42XboI/GxHaXYahbj96+VcsSk1kP1V0RZwfB2A/iCBvYP+kST9tztAVcX48Py8gb2D/pDk/",
                        "dtype": "f8"
                      }
                    },
                    {
                      "line": {
                        "color": "red",
                        "dash": "dash"
                      },
                      "mode": "lines",
                      "name": "정규근사",
                      "type": "scatter",
                      "x": {
                        "bdata": "mpmZmZnJWkDMzMzMzFxbQAAAAAAA8FtANDMzMzODXEBmZmZmZhZdQJqZmZmZqV1AzMzMzMw8XkAAAAAAANBeQDQzMzMzY19AZmZmZmb2X0DNzMzMzERgQGZmZmZmjmBAAAAAAADYYECamZmZmSFhQDMzMzMza2FAzczMzMy0YUBmZmZmZv5hQAAAAAAASGJAmpmZmZmRYkAzMzMzM9tiQM3MzMzMJGNAZmZmZmZuY0AAAAAAALhjQJqZmZmZAWRAMzMzMzNLZEDNzMzMzJRkQGZmZmZm3mRAAAAAAAAoZUCZmZmZmXFlQDMzMzMzu2VA",
                        "dtype": "f8"
                      },
                      "y": {
                        "bdata": "aUVEgIe5Hz8jurGFPP4wP86scrsjQUE/jYqUxQObUD8nqXTsRkteP1w3AwzyMGo/486Z41l2dT/F6QH2X6uAPwLHAunfiog//uvb58gfkT+alR18M6aWP/B9aH/DZJw/bSk4xmHeoD+1hfhvV/+iPzEOVU0/R6Q/fpx0MBaEpD/HdJO9V6yjPyAGQpJu4aE/3unUA3TOnj/4Pt4gPieZPzkhTFE7d5M/hs5qBWSOjD+v90TeVdqDP4iL5tjoKXo/eBD9yTJXcD9MJXegklhjP108pDx2tVU/kUY5lckWRz+o/RSogUY3P0VB17AmPSY/",
                        "dtype": "f8"
                      }
                    }
                  ],
                  "name": "n=470"
                },
                {
                  "data": [
                    {
                      "marker": {
                        "color": "blue"
                      },
                      "name": "이항분포 샘플",
                      "opacity": 0.7,
                      "type": "bar",
                      "x": {
                        "bdata": "ZmZmZmZWW0A0MzMzMwNcQAAAAAAAsFxAzMzMzMxcXUCamZmZmQleQGZmZmZmtl5ANDMzMzNjX0AAAAAAAAhgQGZmZmZmXmBAzczMzMy0YEAzMzMzMwthQJqZmZmZYWFAAAAAAAC4YUBmZmZmZg5iQM3MzMzMZGJAMzMzMzO7YkCamZmZmRFjQAAAAAAAaGNAZmZmZma+Y0DNzMzMzBRkQDMzMzMza2RAmpmZmZnBZEAAAAAAABhlQGZmZmZmbmVAzczMzMzEZUAzMzMzMxtmQJqZmZmZcWZAAAAAAADIZkBnZmZmZh5nQM3MzMzMdGdA",
                        "dtype": "f8"
                      },
                      "y": {
                        "bdata": "Ki6RWoogHT+f4uzDZ9g1P9yccjfrjT8/IlHOoMhFSD/+hrSMDz1lP1cnV+3pTHY/bxCJ3xMmdj8n3j8qnZiMP3TA+0elE5M/aciBf8FHkj/3wL/gI4mgPx0vP3HFO6Q/NO7TytLrpT8+5QHJOleeP8x3CmqWj6U/c9uMcYnUoj+aTTFq+NuUP3ShH9G1zZg/yQHJOlcekD9ULpFaiiB9P6HxcAGjVXk/j+o2lAKCcj+y0lgjMoVcP76ZXTIYD0c/zb+vfSmzOj9ULpFaiiA9P/4tkVqKIB0//nML5wZrAz84dAvnBmsDPzh0C+cGawM/",
                        "dtype": "f8"
                      }
                    },
                    {
                      "line": {
                        "color": "red",
                        "dash": "dash"
                      },
                      "mode": "lines",
                      "name": "정규근사",
                      "type": "scatter",
                      "x": {
                        "bdata": "ZmZmZmZWW0A0MzMzMwNcQAAAAAAAsFxAzMzMzMxcXUCamZmZmQleQGZmZmZmtl5ANDMzMzNjX0AAAAAAAAhgQGZmZmZmXmBAzczMzMy0YEAzMzMzMwthQJqZmZmZYWFAAAAAAAC4YUBmZmZmZg5iQM3MzMzMZGJAMzMzMzO7YkCamZmZmRFjQAAAAAAAaGNAZmZmZma+Y0DNzMzMzBRkQDMzMzMza2RAmpmZmZnBZEAAAAAAABhlQGZmZmZmbmVAzczMzMzEZUAzMzMzMxtmQJqZmZmZcWZAAAAAAADIZkBnZmZmZh5nQM3MzMzMdGdA",
                        "dtype": "f8"
                      },
                      "y": {
                        "bdata": "6mW6sd3+Gj/IiD5ofHcwPzZeJdfrr0I/IprbMTy6Uz8FKyUHal9jP/fgtJRwsnE/vbcf7qgTfj9f2ja8csaHPwQuvbePe5E/lnYv3dTqlz9rIcIJ/W+ePw+zxAksBKI/AHX8ARHXoz/fKnD6/lKkP6QM7LYWXqM/tPXIOBMroT8M680TW1CcPyBPfR39t5U/6BJ+j67+jj/MPmFFy5KEP+HhcaAOaHk/K4GCYZkvbT+C4rFRPzBfP6Bwu5TNAE8/DQsi7DGrPD/WOCXNGKkoP3dRddCVuxM/Twx5H0hg/T6XKFN8K1fkPiZRzjX2M8o+",
                        "dtype": "f8"
                      }
                    }
                  ],
                  "name": "n=480"
                },
                {
                  "data": [
                    {
                      "marker": {
                        "color": "blue"
                      },
                      "name": "이항분포 샘플",
                      "opacity": 0.7,
                      "type": "bar",
                      "x": {
                        "bdata": "ERERERHRW0AzMzMzM3NcQFVVVVVVFV1Ad3d3d3e3XUCamZmZmVleQLy7u7u7+15A3t3d3d2dX0AAAAAAACBgQBERERERcWBAIiIiIiLCYEA0MzMzMxNhQEREREREZGFAVlVVVVW1YUBmZmZmZgZiQHh3d3d3V2JAiIiIiIioYkCamZmZmfliQKqqqqqqSmNAvLu7u7ubY0DMzMzMzOxjQN7d3d3dPWRA7+7u7u6OZEAAAAAAAOBkQBERERERMWVAIiIiIiKCZUAzMzMzM9NlQEREREREJGZAVVVVVVV1ZkBmZmZmZsZmQHh3d3d3F2dA",
                        "dtype": "f8"
                      },
                      "y": {
                        "bdata": "rRleMRoLHz+8as7Tld4pP7xqztOV3jk/cu7Euz52UT+GsfABoldVP+Ao01/BEm4/NUKWAth0bD/GBAP8MiGEP5G0dWTEDoE/J9v5fmq8lD9ZPYGnoo2SP4z549u4y6I/k2FRCzF/nD8ti+O3+samP0ihmMjtjp4/B36ZEGqYpj909Y3NixmlPyqPsJYmlpk/EotaiPnjmz9XTOR2R8+LPz4yYocoOJE/EFELMX98ez/ntTSxzEN9P8ODkXasQGg/et9PjZduYj9e+BIwrtBQP0rQ2l7wZkM/amrO05XeKT+8as7Tld4pP8m7PnYRshQ/",
                        "dtype": "f8"
                      }
                    },
                    {
                      "line": {
                        "color": "red",
                        "dash": "dash"
                      },
                      "mode": "lines",
                      "name": "정규근사",
                      "type": "scatter",
                      "x": {
                        "bdata": "ERERERHRW0AzMzMzM3NcQFVVVVVVFV1Ad3d3d3e3XUCamZmZmVleQLy7u7u7+15A3t3d3d2dX0AAAAAAACBgQBERERERcWBAIiIiIiLCYEA0MzMzMxNhQEREREREZGFAVlVVVVW1YUBmZmZmZgZiQHh3d3d3V2JAiIiIiIioYkCamZmZmfliQKqqqqqqSmNAvLu7u7ubY0DMzMzMzOxjQN7d3d3dPWRA7+7u7u6OZEAAAAAAAOBkQBERERERMWVAIiIiIiKCZUAzMzMzM9NlQEREREREJGZAVVVVVVV1ZkBmZmZmZsZmQHh3d3d3F2dA",
                        "dtype": "f8"
                      },
                      "y": {
                        "bdata": "rBsdLYnUFD9MMwp3ElUoPy7JHBJitDo/zJls2j+JSz/hLP85P61aP5iHChcTSGg/6IIastrDdD8RJwTAIq+AP32RqQV6MIk/hL2oRY/dkT8s/omMTM+XP+2fh3sw0J0/YpC/NmKJoT+kbnsnIGKjP5T2pF8GIaQ/3A9Mp7Wjoz/hr2nn1gCiP/68WCTUAp8/4Iru/fwXmT+/Xjul5ROTP/T2uk0MQYs/tBCX+k9Kgj/HsMmpoBB3P/1DXrXPU2s/OjzctHtrXj/OLmHlmNBPP5BRm+0MQz8//7vzPnrcLD9Y7dQlqwgZP4KTdT6wZgQ/",
                        "dtype": "f8"
                      }
                    }
                  ],
                  "name": "n=490"
                },
                {
                  "data": [
                    {
                      "marker": {
                        "color": "blue"
                      },
                      "name": "이항분포 샘플",
                      "opacity": 0.7,
                      "type": "bar",
                      "x": {
                        "bdata": "RERERESUXEDNzMzMzDxdQFZVVVVV5V1A3t3d3d2NXkBmZmZmZjZfQPDu7u7u3l9AvLu7u7tDYEAAAAAAAJhgQERERERE7GBAiIiIiIhAYUDNzMzMzJRhQBERERER6WFAVlVVVVU9YkCamZmZmZFiQN7d3d3d5WJAIiIiIiI6Y0BmZmZmZo5jQKqqqqqq4mNA7+7u7u42ZEAzMzMzM4tkQHh3d3d332RAvLu7u7szZUAAAAAAAIhlQERERERE3GVAiIiIiIgwZkDMzMzMzIRmQBERERER2WZAVlVVVVUtZ0CamZmZmYFnQN7d3d3d1WdA",
                        "dtype": "f8"
                      },
                      "y": {
                        "bdata": "v9HxMODoEz/e0fEw4OgTP2eATEM0YDs/3tHxMODoUz9resQnNi1gP+l+arx0k2g/f/Diui30dz9tYHkyJ4iEPzPFBJiIyYY/voQop/Bvlj+CtVPxsRCUP9I+KbObjqE/dllKhEtFpT+kELbLOsyeP00XgGHVY6c/+lV6y63wpD+yYsx8RruYPxfQ2dqicp4/jK+VBjY0lj9HGt9WE1KGP2X+sdpE4Ic/byXqaKukcD9kmETuI9JyPw5/arx0k2g/kIBMQzRgSz/vKB86iqRHPxkMEDf8ZTY/crpqSVDdLT/e0fEw4OgDP97R8TDg6AM/",
                        "dtype": "f8"
                      }
                    },
                    {
                      "line": {
                        "color": "red",
                        "dash": "dash"
                      },
                      "mode": "lines",
                      "name": "정규근사",
                      "type": "scatter",
                      "x": {
                        "bdata": "RERERESUXEDNzMzMzDxdQFZVVVVV5V1A3t3d3d2NXkBmZmZmZjZfQPDu7u7u3l9AvLu7u7tDYEAAAAAAAJhgQERERERE7GBAiIiIiIhAYUDNzMzMzJRhQBERERER6WFAVlVVVVU9YkCamZmZmZFiQN7d3d3d5WJAIiIiIiI6Y0BmZmZmZo5jQKqqqqqq4mNA7+7u7u42ZEAzMzMzM4tkQHh3d3d332RAvLu7u7szZUAAAAAAAIhlQERERERE3GVAiIiIiIgwZkDMzMzMzIRmQBERERER2WZAVlVVVVUtZ0CamZmZmYFnQN7d3d3d1WdA",
                        "dtype": "f8"
                      },
                      "y": {
                        "bdata": "PZCshN2+Fz8yIgYzSRwsP/tCameqJj8/ob0dBzsoUD87Une182BfP6ZmeGPdhWw/9XrNziFFeD994k1Q3VSDPz2VA8He04w/pMrFHd0elD/dgryasEqaP8KRp/h9FKA/fIeSCX9poj/A+QpaKbyjP5KcdHQVzaM/SRhy0ASZoj/PLEKM5VmgPzNeXKIY6po/XZCEhTy8lD9fV8ruYOiNP7UemJa9MIQ/1HFXF7mEeT/UDXe/+TBuP8XaHfjwt2A/kweChiBVUT8BMbqRGdJAPw9UIei9jy4/KX9rHj39GT95fp5mRLAEPw1V8EU71e4+",
                        "dtype": "f8"
                      }
                    }
                  ],
                  "name": "n=500"
                },
                {
                  "data": [
                    {
                      "marker": {
                        "color": "blue"
                      },
                      "name": "이항분포 샘플",
                      "opacity": 0.7,
                      "type": "bar",
                      "x": {
                        "bdata": "mpmZmZnZW0DMzMzMzIxcQAAAAAAAQF1ANDMzMzPzXUBmZmZmZqZeQJqZmZmZWV9AZmZmZmYGYEAAAAAAAGBgQJqZmZmZuWBAMzMzMzMTYUDNzMzMzGxhQGZmZmZmxmFAAAAAAAAgYkCamZmZmXliQDMzMzMz02JAzczMzMwsY0BmZmZmZoZjQAAAAAAA4GNAmpmZmZk5ZEAzMzMzM5NkQM3MzMzM7GRAZmZmZmZGZUAAAAAAAKBlQJmZmZmZ+WVAMzMzMzNTZkDNzMzMzKxmQGZmZmZmBmdAAAAAAABgZ0CZmZmZmblnQDMzMzMzE2hA",
                        "dtype": "f8"
                      },
                      "y": {
                        "bdata": "k1Rdg325Aj+TVF2DfbkSP7X+C0U8Fhw/uKk05NxnNz9Kfyer5Y1BPwF/arx0k0g/Nz94b0lPYz+YNOTcZxdwP/35fmq8dIM/ODeJQWDlgD+VTG5VlE+QPyKX9DShy5g/NxXlEzRqnz//1a+1eSCjPysYR2edMpk/YxSuR+F6pD/wGyOY6O+kPzXVNdiXK6E/T+CGWepdnT+ljkgYR2eNP+LxjzzTCpE/lIxgor+ThT9rhLSFZS96P+mp8dJNYnA/bSnWbKTqWj/AKZNbFeVTPxiq8dJNYjA/GKrx0k1iMD94VF2DfbkCP3hUXYN9uQI/",
                        "dtype": "f8"
                      }
                    },
                    {
                      "line": {
                        "color": "red",
                        "dash": "dash"
                      },
                      "mode": "lines",
                      "name": "정규근사",
                      "type": "scatter",
                      "x": {
                        "bdata": "mpmZmZnZW0DMzMzMzIxcQAAAAAAAQF1ANDMzMzPzXUBmZmZmZqZeQJqZmZmZWV9AZmZmZmYGYEAAAAAAAGBgQJqZmZmZuWBAMzMzMzMTYUDNzMzMzGxhQGZmZmZmxmFAAAAAAAAgYkCamZmZmXliQDMzMzMz02JAzczMzMwsY0BmZmZmZoZjQAAAAAAA4GNAmpmZmZk5ZEAzMzMzM5NkQM3MzMzM7GRAZmZmZmZGZUAAAAAAAKBlQJmZmZmZ+WVAMzMzMzNTZkDNzMzMzKxmQGZmZmZmBmdAAAAAAABgZ0CZmZmZmblnQDMzMzMzE2hA",
                        "dtype": "f8"
                      },
                      "y": {
                        "bdata": "GgaCtzMO6T5Xfzj04eoBP11YBKk10Rc/Z2bgH75sLT/GEBg/reRAPxK6Tws5B1I/Nm+g+5/hYT//z/Cw13twP/dxFLvfPnw/8Urpe+V9hj+j+GAZVaWQP2rIN/hD5pY/zdkXFGNHnT/Pz580f2WhP3Lu/M2oNqM/T1WCjvK4oz/0zKuT2tCiPxFR36AMr6A/S+nx9Il/mz8vWaJGyA+VP4w5GLhs/I0/9DnJ5NXWgz8E+xB1FWZ4P+mkqxRf42s/xKWA0WOgXT/s1yHxaUBNP++Y8bnA1zo/jQcq2sHkJj9zOVTBqyUSPxW+Nhshvfo+",
                        "dtype": "f8"
                      }
                    }
                  ],
                  "name": "n=510"
                },
                {
                  "data": [
                    {
                      "marker": {
                        "color": "blue"
                      },
                      "name": "이항분포 샘플",
                      "opacity": 0.7,
                      "type": "bar",
                      "x": {
                        "bdata": "ZmZmZmbmXEA0MzMzM7NdQAAAAAAAgF5AzMzMzMxMX0DNzMzMzAxgQDMzMzMzc2BAmpmZmZnZYEAAAAAAAEBhQGZmZmZmpmFAzczMzMwMYkAzMzMzM3NiQJqZmZmZ2WJAAAAAAABAY0BmZmZmZqZjQM3MzMzMDGRAMzMzMzNzZECamZmZmdlkQAAAAAAAQGVAZmZmZmamZUDNzMzMzAxmQDMzMzMzc2ZAmpmZmZnZZkAAAAAAAEBnQGdmZmZmpmdAzczMzMwMaEAzMzMzM3NoQJqZmZmZ2WhAAAAAAABAaUBnZmZmZqZpQM3MzMzMDGpA",
                        "dtype": "f8"
                      },
                      "y": {
                        "bdata": "+Knx0k1iAD/4qfHSTWIAPwyq8dJNYiA/tUkMAiuHNj/TzvdT46VLP2q4HoXrUWg/BNv5fmq8dD9gjZduEoOAPwSyne+nxos/GoGVQ4tskz++HFpkO9+hP7PMzMzMzKA/sRov3SQGoT87Di2yne+hP9YgsHJokaE/c+XQItv5oj8xjZduEoOUP1bfT42Xboo/aOtRuB6Fgz9uDi2yne93P6UYBFYOLXI/rKFFtvP9VD8StMh2vp86P9cehetRuD4/En9qvHSTGD8Sf2q8dJMYPwAAAAAAAAAAAAAAAAAAAAAAAAAAAAAAAAyq8dJNYgA/",
                        "dtype": "f8"
                      }
                    },
                    {
                      "line": {
                        "color": "red",
                        "dash": "dash"
                      },
                      "mode": "lines",
                      "name": "정규근사",
                      "type": "scatter",
                      "x": {
                        "bdata": "ZmZmZmbmXEA0MzMzM7NdQAAAAAAAgF5AzMzMzMxMX0DNzMzMzAxgQDMzMzMzc2BAmpmZmZnZYEAAAAAAAEBhQGZmZmZmpmFAzczMzMwMYkAzMzMzM3NiQJqZmZmZ2WJAAAAAAABAY0BmZmZmZqZjQM3MzMzMDGRAMzMzMzNzZECamZmZmdlkQAAAAAAAQGVAZmZmZmamZUDNzMzMzAxmQDMzMzMzc2ZAmpmZmZnZZkAAAAAAAEBnQGdmZmZmpmdAzczMzMwMaEAzMzMzM3NoQJqZmZmZ2WhAAAAAAABAaUBnZmZmZqZpQM3MzMzMDGpA",
                        "dtype": "f8"
                      },
                      "y": {
                        "bdata": "GGQW1pu99j5G84+mDrkRPxc/k7fhJik/IaoTu/s/QD+eEnyPJx5TP/ArPduAemQ/W+sRuPz4cz8TN+K4T7yBP4ncIl3IrYw/S8+cypUclT+hzik+1EycP2FyRtwvRaE/gXDolBYxoz9/UHUwBGujP1dFi1Js46E/V6yIrx8Cnj/EDWE6veqWP9s9dCCh3o8/xluvUyUthD/XOSm3mkJ3P1oKj+9Camg/I1geLVtVVz9prtd5uk1EP9Qv9Zr5FTA/esjiSP00Fz9vJ30P2Xv+PmoMYGGiOuI+iSluN6PZwz5GaeqOPK6jPnlR9TgVxIE+",
                        "dtype": "f8"
                      }
                    }
                  ],
                  "name": "n=520"
                },
                {
                  "data": [
                    {
                      "marker": {
                        "color": "blue"
                      },
                      "name": "이항분포 샘플",
                      "opacity": 0.7,
                      "type": "bar",
                      "x": {
                        "bdata": "qqqqqqoaXUAAAAAAANBdQFZVVVVVhV5Aqqqqqqo6X0AAAAAAAPBfQKqqqqqqUmBAVlVVVVWtYEAAAAAAAAhhQKqqqqqqYmFAVlVVVVW9YUAAAAAAABhiQKqqqqqqcmJAVlVVVVXNYkAAAAAAAChjQKuqqqqqgmNAVlVVVVXdY0AAAAAAADhkQKuqqqqqkmRAVlVVVVXtZEAAAAAAAEhlQKuqqqqqomVAVlVVVVX9ZUAAAAAAAFhmQKuqqqqqsmZAVlVVVVUNZ0AAAAAAAGhnQKuqqqqqwmdAVlVVVVUdaEAAAAAAAHhoQKuqqqqq0mhA",
                        "dtype": "f8"
                      },
                      "y": {
                        "bdata": "GdX1pRiBEj//1PWlGIESPxnV9aUYgQI/GdX1pRiBMj+mv/D4pME7P98EMuSBcUk/J24gvq1VXD8dKd/S0KVuPxnDWsnbXn8/EgP9e+aihz/gOnqvDciRP1upB8ILGIo/s2BOywpAnj/3rUkOL9+hP5GWHTQN3KM/rG21lhEmpD+3nkKz8PqhP9On0llwSZg/ran5hh6Nnz9/WXoqnQWXP7fndAx7jZA/GLpRwNJVhj/U06THopx7PzDhhPUyPWQ/7+wTRU35ZT+Xm0MKVo1WPzbJZlb+xFA/n4+0ujvRND//1PWlGIECPzPV9aUYgRI/",
                        "dtype": "f8"
                      }
                    },
                    {
                      "line": {
                        "color": "red",
                        "dash": "dash"
                      },
                      "mode": "lines",
                      "name": "정규근사",
                      "type": "scatter",
                      "x": {
                        "bdata": "qqqqqqoaXUAAAAAAANBdQFZVVVVVhV5Aqqqqqqo6X0AAAAAAAPBfQKqqqqqqUmBAVlVVVVWtYEAAAAAAAAhhQKqqqqqqYmFAVlVVVVW9YUAAAAAAABhiQKqqqqqqcmJAVlVVVVXNYkAAAAAAAChjQKuqqqqqgmNAVlVVVVXdY0AAAAAAADhkQKuqqqqqkmRAVlVVVVXtZEAAAAAAAEhlQKuqqqqqomVAVlVVVVX9ZUAAAAAAAFhmQKuqqqqqsmZAVlVVVVUNZ0AAAAAAAGhnQKuqqqqqwmdAVlVVVVUdaEAAAAAAAHhoQKuqqqqq0mhA",
                        "dtype": "f8"
                      },
                      "y": {
                        "bdata": "XAtcojz85j7qEUgVPmMAPwmCE/DSvRU/paF2blPWKj8opvwlbtI+P3YyiL2yd1A/12l2mkBfYD+hdLvd9UluP7CfPvlsEXo/hnLTxcrfhD9EDuqTnRqPP7iVJQCZj5U//JUPQr/Pmz/32ZKHWrCgP2fp+AagoqI/VlSohlBcoz+jhJqq6LaiP2RdyOHC1KA/UWeB8vIqnD8/zNAqEu6VPw1g0aFWxY8/DoB55ZJphT/d5nl/mNp6P4RfCEuqVW8/U06I/WMCYT/pjrXxaC5RP8cThYe0JUA/H9uZ7Sw9LD/Slu4ZcPkWP1qPxUf8YwE/",
                        "dtype": "f8"
                      }
                    }
                  ],
                  "name": "n=530"
                },
                {
                  "data": [
                    {
                      "marker": {
                        "color": "blue"
                      },
                      "name": "이항분포 샘플",
                      "opacity": 0.7,
                      "type": "bar",
                      "x": {
                        "bdata": "IiIiIiISX0BmZmZmZrZfQFVVVVVVLWBAeHd3d3d/YECamZmZmdFgQLy7u7u7I2FA3t3d3d11YUAAAAAAAMhhQCIiIiIiGmJARERERERsYkBmZmZmZr5iQImIiIiIEGNAq6qqqqpiY0DNzMzMzLRjQO/u7u7uBmRAERERERFZZEAzMzMzM6tkQFVVVVVV/WRAeHd3d3dPZUCamZmZmaFlQLy7u7u782VA3t3d3d1FZkAAAAAAAJhmQCIiIiIi6mZARUREREQ8Z0BnZmZmZo5nQImIiIiI4GdAq6qqqqoyaEDNzMzMzIRoQO/u7u7u1mhA",
                        "dtype": "f8"
                      },
                      "y": {
                        "bdata": "jHPxGkNtJD9v0K3hk4gpP4xz8RpDbTQ/if4LRTwWTD/iLeSFxphQP6EKQtXeNmk/L9zjcTapZj8g89W0mfV+Py/c43E2qYY/48HIJAGdiT/+Bd0aPomYPwBlDF6wgZQ/u6BW36sSoj9oPQXzJ3KcP3dLzFfTZqY/RhE4ZIi4pj8NabQp4DScP+Q6E7WooaI/qCRdIhRDlj8y6RKhGLKYP5GNT3kHf4g/uGRPbz+Hiz/HTV0s3DqDP4Yh8QazfWo/g2f+my9Sbj/w5xkC2clTP/DnGQLZyVM/4P4LRTwWPD/+oU9+6/o2P2/QreGTiCk/",
                        "dtype": "f8"
                      }
                    },
                    {
                      "line": {
                        "color": "red",
                        "dash": "dash"
                      },
                      "mode": "lines",
                      "name": "정규근사",
                      "type": "scatter",
                      "x": {
                        "bdata": "IiIiIiISX0BmZmZmZrZfQFVVVVVVLWBAeHd3d3d/YECamZmZmdFgQLy7u7u7I2FA3t3d3d11YUAAAAAAAMhhQCIiIiIiGmJARERERERsYkBmZmZmZr5iQImIiIiIEGNAq6qqqqpiY0DNzMzMzLRjQO/u7u7uBmRAERERERFZZEAzMzMzM6tkQFVVVVVV/WRAeHd3d3dPZUCamZmZmaFlQLy7u7u782VA3t3d3d1FZkAAAAAAAJhmQCIiIiIi6mZARUREREQ8Z0BnZmZmZo5nQImIiIiI4GdAq6qqqqoyaEDNzMzMzIRoQO/u7u7u1mhA",
                        "dtype": "f8"
                      },
                      "y": {
                        "bdata": "zS1WY46KEj+B5VrBfiUlP4cbiVewwTY/bZmSPnEbRz9yjew2lCNWP3JMsgmjA2Q/bZbF2XsScT9QC3p0Rnt7P9QpRevZ3oQ/a2Tr1h7pjT+//f5qPTmUP1IM63/kzZk/SPpTdRMRnz8ccSZwTaWhP4IXyav86aI/bzw2KRghoz98jKIDTUGiP05KaCIJcKA/0JpPInzumz+kcEwyV2SWPy6fbpUY8JA/wSU2zKYtiD8+oWqMcUiAPxqLvZ+isXQ/U31Jm7vQaD/34/w7BhRcP0b+WyEg+k0/13iNfrIyPj/kqVj+KbQsP8EfhUpdvhk/",
                        "dtype": "f8"
                      }
                    }
                  ],
                  "name": "n=540"
                },
                {
                  "data": [
                    {
                      "marker": {
                        "color": "blue"
                      },
                      "name": "이항분포 샘플",
                      "opacity": 0.7,
                      "type": "bar",
                      "x": {
                        "bdata": "iIiIiIhoYECamZmZmblgQKqqqqqqCmFAvLu7u7tbYUDMzMzMzKxhQN7d3d3d/WFA7+7u7u5OYkAAAAAAAKBiQBERERER8WJAIiIiIiJCY0A0MzMzM5NjQERERERE5GNAVlVVVVU1ZEBmZmZmZoZkQHh3d3d312RAiIiIiIgoZUCamZmZmXllQKqqqqqqymVAvLu7u7sbZkDMzMzMzGxmQN7d3d3dvWZA7+7u7u4OZ0AAAAAAAGBnQBERERERsWdAIiIiIiICaEAzMzMzM1NoQEREREREpGhAVVVVVVX1aEBmZmZmZkZpQHh3d3d3l2lA",
                        "dtype": "f8"
                      },
                      "y": {
                        "bdata": "ybs+dhGyJD+tGV4xGgs/P4anoo0y/UU/DdDaXvBmYz8gibgw5O1nP2dRCzF/fHs/sZEjmkaHfz+Jlaj8aD6LP1u4uRPv+og/1cj/7aD9mT8HfpkQapiWP/Qel0pUfqQ/IpCBQjGRmz9c8Te/XmenP4xiIrc7ep4/+HSldwYcpD8HIPElYFyhP6ZXFfbD6pI/9iVgXKEhmD9V8ghraWKJP3hWMuu2KYs/ZLHwAaJXdT/F/Fbf2Lx4P9DP2l7wZmM/DmvO05XeWT/5kgalU0hHP01/arx0k0g/amrO05XeOT/Juz52EbI0P60ZXjEaCx8/",
                        "dtype": "f8"
                      }
                    },
                    {
                      "line": {
                        "color": "red",
                        "dash": "dash"
                      },
                      "mode": "lines",
                      "name": "정규근사",
                      "type": "scatter",
                      "x": {
                        "bdata": "iIiIiIhoYECamZmZmblgQKqqqqqqCmFAvLu7u7tbYUDMzMzMzKxhQN7d3d3d/WFA7+7u7u5OYkAAAAAAAKBiQBERERER8WJAIiIiIiJCY0A0MzMzM5NjQERERERE5GNAVlVVVVU1ZEBmZmZmZoZkQHh3d3d312RAiIiIiIgoZUCamZmZmXllQKqqqqqqymVAvLu7u7sbZkDMzMzMzGxmQN7d3d3dvWZA7+7u7u4OZ0AAAAAAAGBnQBERERERsWdAIiIiIiICaEAzMzMzM1NoQEREREREpGhAVVVVVVX1aEBmZmZmZkZpQHh3d3d3l2lA",
                        "dtype": "f8"
                      },
                      "y": {
                        "bdata": "UMUysPulMT/UraNNe/xBP2IRnz0AV1E/yHfr3lOgXz+zsw8RZ0hrPyBdceOGQ3Y/pp7+sqIvgT+vGkQHSxmJP9RY1vI0VpE/FVteT+anlj8VS+SHtgGcP3etZlwAYKA/+2RtVgYdoj9dDT41DvSiP2KIKwmlwqI/4g3lncyQoT8wHNCptx2fP9ysLeD5EZo/KMxqJnqplD8jYCqONPuOPxbxSYzC+IU/lMzT7d96fT/h8wY1Q7VyPycmEjMCdmY/qagFglqCWT8ezi9yvGdLPxa13inQ2Ts/F3w8fx3GKj9DRQvb8FgYPy4rv5608QQ/",
                        "dtype": "f8"
                      }
                    }
                  ],
                  "name": "n=550"
                },
                {
                  "data": [
                    {
                      "marker": {
                        "color": "blue"
                      },
                      "name": "이항분포 샘플",
                      "opacity": 0.7,
                      "type": "bar",
                      "x": {
                        "bdata": "vLu7u7tLYEAzMzMzM6NgQKqqqqqq+mBAIiIiIiJSYUCamZmZmalhQBERERERAWJAiIiIiIhYYkAAAAAAALBiQHh3d3d3B2NA7+7u7u5eY0BmZmZmZrZjQN7d3d3dDWRAVlVVVVVlZEDMzMzMzLxkQEREREREFGVAvLu7u7trZUA0MzMzM8NlQKqqqqqqGmZAIiIiIiJyZkCamZmZmclmQBIRERERIWdAiIiIiIh4Z0AAAAAAANBnQHh3d3d3J2hA7u7u7u5+aEBmZmZmZtZoQN7d3d3dLWlAVlVVVVWFaUDMzMzMzNxpQERERERENGpA",
                        "dtype": "f8"
                      },
                      "y": {
                        "bdata": "FeBMmWcuEz/e30yZZy4zPxXgTJlnLkM/263hEk5hRD8egl7stJJbP0i4t7qu3m4/4IJb+IRSfD9SGZqXoXl5P8DP9F+zZYw/qtSsTM3KlD+9M8ts5v+ZP+U9bq2wo5c/fQxo+bPJoj/OzWIOYBmkP05O+U37RZs/fcYY0PJnoz+0kbkZmZuhP8DP9F+zZZw/SLi3uq7ejj9v0rUoXYuSPzpkPNtfTYc/Ih6I34H4fT9USwUeu0ZoP5tLBR67Rmg/GrHVQo5gVz/VF6B/AfpHP8xP82WbxSw/FeBMmWcuIz8V4EyZZy4TP97fTJlnLgM/",
                        "dtype": "f8"
                      }
                    },
                    {
                      "line": {
                        "color": "red",
                        "dash": "dash"
                      },
                      "mode": "lines",
                      "name": "정규근사",
                      "type": "scatter",
                      "x": {
                        "bdata": "vLu7u7tLYEAzMzMzM6NgQKqqqqqq+mBAIiIiIiJSYUCamZmZmalhQBERERERAWJAiIiIiIhYYkAAAAAAALBiQHh3d3d3B2NA7+7u7u5eY0BmZmZmZrZjQN7d3d3dDWRAVlVVVVVlZEDMzMzMzLxkQEREREREFGVAvLu7u7trZUA0MzMzM8NlQKqqqqqqGmZAIiIiIiJyZkCamZmZmclmQBIRERERIWdAiIiIiIh4Z0AAAAAAANBnQHh3d3d3J2hA7u7u7u5+aEBmZmZmZtZoQN7d3d3dLWlAVlVVVVWFaUDMzMzMzNxpQERERERENGpA",
                        "dtype": "f8"
                      },
                      "y": {
                        "bdata": "6FaMbRplFz+zCQxo2iwrP+I2g7ePnz0/JYgdneBNTj83dJw3shddP09LVMLPNWo/05W/GvAodj/BV4wSEJWBP0UqMEThLoo/vNHa5a1Lkj/h0jFtmf6XP2P+7ToViJ0/slNmF/cNoT/8cU60T3yiP4/iJLupzaI/WR+CFAXzoT/TLxI7UBSgP49jB9H/CJs/9UffFDNUlT9DcnzhI5WPP4jeXW+J8YU/FFvhe5udfD+2JxkEgYJxP89b04H7G2Q/+If4DlasVT/RIIhTvutFP3Ccp8yAzjQ/Kc7cOo+IIj/RV6wiHfwOP9KdH9VyTvg+",
                        "dtype": "f8"
                      }
                    }
                  ],
                  "name": "n=560"
                },
                {
                  "data": [
                    {
                      "marker": {
                        "color": "blue"
                      },
                      "name": "이항분포 샘플",
                      "opacity": 0.7,
                      "type": "bar",
                      "x": {
                        "bdata": "vLu7u7vLYEAzMzMzMyNhQKqqqqqqemFAIiIiIiLSYUCamZmZmSliQBERERERgWJAiIiIiIjYYkAAAAAAADBjQHh3d3d3h2NA7+7u7u7eY0BmZmZmZjZkQN7d3d3djWRAVlVVVVXlZEDMzMzMzDxlQERERERElGVAvLu7u7vrZUA0MzMzM0NmQKqqqqqqmmZAIiIiIiLyZkCamZmZmUlnQBIRERERoWdAiIiIiIj4Z0AAAAAAAFBoQHh3d3d3p2hA7u7u7u7+aEBmZmZmZlZpQN7d3d3drWlAVlVVVVUFakDMzMzMzFxqQEREREREtGpA",
                        "dtype": "f8"
                      },
                      "y": {
                        "bdata": "FeBMmWcuEz/MT/Nlm8UsPxzmNPnnLEk/0LPJcs5fSj+bSwUeu0ZoP6HdVXX37nA/8pC8DcnbgD+Mglv4hFJ8PwMeVXjrHpE/djDXPKYAlz8xRFYNMaKdP4jv2i3iEJY/Pg1lBYSJoz+w6JDvdF+lP9CzyXLOX5o/Rgxo+bPJoj/E0uiP82SfP45alqZlaZo/ire6rt4ejj9JUe19O0WOP5fhRrEHroQ/3H9nyERTeT/X4kDJpy1mP5fhRrEHrmQ/F67hEk5hVD/Ze3aMNJRFP8xP82WbxRw/IVDzZZvFHD8hUPNlm8UcP97fTJlnLgM/",
                        "dtype": "f8"
                      }
                    },
                    {
                      "line": {
                        "color": "red",
                        "dash": "dash"
                      },
                      "mode": "lines",
                      "name": "정규근사",
                      "type": "scatter",
                      "x": {
                        "bdata": "vLu7u7vLYEAzMzMzMyNhQKqqqqqqemFAIiIiIiLSYUCamZmZmSliQBERERERgWJAiIiIiIjYYkAAAAAAADBjQHh3d3d3h2NA7+7u7u7eY0BmZmZmZjZkQN7d3d3djWRAVlVVVVXlZEDMzMzMzDxlQERERERElGVAvLu7u7vrZUA0MzMzM0NmQKqqqqqqmmZAIiIiIiLyZkCamZmZmUlnQBIRERERoWdAiIiIiIj4Z0AAAAAAAFBoQHh3d3d3p2hA7u7u7u7+aEBmZmZmZlZpQN7d3d3drWlAVlVVVVUFakDMzMzMzFxqQEREREREtGpA",
                        "dtype": "f8"
                      },
                      "y": {
                        "bdata": "kWfsQseSIT/NVIo3wqgzPw8zU690qUQ/lhZ5295mVD+MQ8RbFO1iP1OBYIaofnA/aFwvzwgDez83HCJWcceEP9YYATjZCI4/Qau93pdklD9P4ZEvbASaP1u0pZozL58/KLq2J9uOoT/o1SWiTJOiP6a1iE9udqI/PSG2b309oT/Y7XnVzT+eP2rWD7V87pg/WlT0Iy9Okz8FocOjsxaMP8pmjDiWMoM/WyNa82eneD/UnvlPzb5tP+vkEnW722A/f/ciAu/zUT+PUY00L/ZBP/g6rnQT4jA/WgQvXnfRHT9MkJ/3Er0IP63P32pKSPM+",
                        "dtype": "f8"
                      }
                    }
                  ],
                  "name": "n=570"
                },
                {
                  "data": [
                    {
                      "marker": {
                        "color": "blue"
                      },
                      "name": "이항분포 샘플",
                      "opacity": 0.7,
                      "type": "bar",
                      "x": {
                        "bdata": "MzMzMzNrYUCamZmZmcFhQAAAAAAAGGJAZmZmZmZuYkDNzMzMzMRiQDMzMzMzG2NAmpmZmZlxY0AAAAAAAMhjQGZmZmZmHmRAzczMzMx0ZEAzMzMzM8tkQJqZmZmZIWVAAAAAAAB4ZUBmZmZmZs5lQM3MzMzMJGZAMzMzMzN7ZkCamZmZmdFmQAAAAAAAKGdAZmZmZmZ+Z0DNzMzMzNRnQDMzMzMzK2hAmpmZmZmBaEAAAAAAANhoQGZmZmZmLmlAzczMzMyEaUAzMzMzM9tpQJqZmZmZMWpAAAAAAACIakBnZmZmZt5qQM3MzMzMNGtA",
                        "dtype": "f8"
                      },
                      "y": {
                        "bdata": "RlHOoMhFOD9+4uzDZ9hFPwKaXTIYD1c//lDOoMhFWD/d02iGLFtyP7naovPMLnk/NidX7elMdj9VsKMO8UqMP3A+6ZM+6ZM/DijfHuc3kT+WIua6oJefP9w2xajhb6M/CGGeqH8jpD9HKjCLO0GcP3srfFW3oaQ/6qmPho6noT+hEE14kpuTP3NgFneCOJk/TzPGJVJLkT8MpsxqgA2CP8XqNpQCgoI/5mecrp5seD+/4uzDZ9hlP38FKgqm/VA/EXcg7NnpSz9GUc6gyEU4P/4tkVqKIB0//i2RWoogHT84dAvnBmsTPzh0C+cGaxM/",
                        "dtype": "f8"
                      }
                    },
                    {
                      "line": {
                        "color": "red",
                        "dash": "dash"
                      },
                      "mode": "lines",
                      "name": "정규근사",
                      "type": "scatter",
                      "x": {
                        "bdata": "MzMzMzNrYUCamZmZmcFhQAAAAAAAGGJAZmZmZmZuYkDNzMzMzMRiQDMzMzMzG2NAmpmZmZlxY0AAAAAAAMhjQGZmZmZmHmRAzczMzMx0ZEAzMzMzM8tkQJqZmZmZIWVAAAAAAAB4ZUBmZmZmZs5lQM3MzMzMJGZAMzMzMzN7ZkCamZmZmdFmQAAAAAAAKGdAZmZmZmZ+Z0DNzMzMzNRnQDMzMzMzK2hAmpmZmZmBaEAAAAAAANhoQGZmZmZmLmlAzczMzMyEaUAzMzMzM9tpQJqZmZmZMWpAAAAAAACIakBnZmZmZt5qQM3MzMzMNGtA",
                        "dtype": "f8"
                      },
                      "y": {
                        "bdata": "y8eWtHwkMT9eF5dFnu5BPwJVLd8Tq1E/nGZ2c59lYD/xxiKniKpsP9XSJhknmnc/UP63IsRNgj9Owzt1g72KP7nphhTcZZI/hNQjv3LYlz+LHFxiURydP3uG2ROgvKA/55i+j5Agoj8eKku9E36iP+T9TkHmxKE/Y35PQQcVoD+1SvKvXWubP6SI2/Y5BJY/1gATA7WmkD86MpJ5OLmHP9iKYVYH1n8/phAp+c8edD8MmCh6YPRnPwPqBCbV3Fo/fvc8AKVfTD/Hk9KqfDo8P0cBMs7Vcyo/w6di+B5ZFz98WFCbLGkDP3Jo/3tjZu4+",
                        "dtype": "f8"
                      }
                    }
                  ],
                  "name": "n=580"
                },
                {
                  "data": [
                    {
                      "marker": {
                        "color": "blue"
                      },
                      "name": "이항분포 샘플",
                      "opacity": 0.7,
                      "type": "bar",
                      "x": {
                        "bdata": "VlVVVVUtYUAAAAAAAIhhQKqqqqqq4mFAVlVVVVU9YkAAAAAAAJhiQKqqqqqq8mJAVlVVVVVNY0AAAAAAAKhjQKqqqqqqAmRAVlVVVVVdZEAAAAAAALhkQKqqqqqqEmVAVlVVVVVtZUAAAAAAAMhlQKuqqqqqImZAVlVVVVV9ZkAAAAAAANhmQKuqqqqqMmdAVlVVVVWNZ0AAAAAAAOhnQKuqqqqqQmhAVlVVVVWdaEAAAAAAAPhoQKuqqqqqUmlAVlVVVVWtaUAAAAAAAAhqQKuqqqqqYmpAVlVVVVW9akAAAAAAABhrQKuqqqqqcmtA",
                        "dtype": "f8"
                      },
                      "y": {
                        "bdata": "/9T1pRiBEj+ASnPPXiEnP18aN5H1MEA/L2KRbpOZSj96YpFuk5laP3bLf0i/fV0/r3eWGwdZcT8c7MJm1xR/PzdWAh953Yg/vsXuStqckj8nQk5QewKZP4qKB0d82pQ/R9htsTypoD/9l9k5H/CiPye62F1Jm6M/gjAgyI7aoT+7GHuL4xyhP4hvcZwjOpM/63LbbFrXlj9H2G2xPKmQP1g0ipjFd4U/IvTn5bozfT9PMlUwKqlzP3CGPl3izV8/L2KRbpOZWj+Pp9JZcElIP40aN5H1MEA/Xxo3kfUwMD//1PWlGIESPzPV9aUYgQI/",
                        "dtype": "f8"
                      }
                    },
                    {
                      "line": {
                        "color": "red",
                        "dash": "dash"
                      },
                      "mode": "lines",
                      "name": "정규근사",
                      "type": "scatter",
                      "x": {
                        "bdata": "VlVVVVUtYUAAAAAAAIhhQKqqqqqq4mFAVlVVVVU9YkAAAAAAAJhiQKqqqqqq8mJAVlVVVVVNY0AAAAAAAKhjQKqqqqqqAmRAVlVVVVVdZEAAAAAAALhkQKqqqqqqEmVAVlVVVVVtZUAAAAAAAMhlQKuqqqqqImZAVlVVVVV9ZkAAAAAAANhmQKuqqqqqMmdAVlVVVVWNZ0AAAAAAAOhnQKuqqqqqQmhAVlVVVVWdaEAAAAAAAPhoQKuqqqqqUmlAVlVVVVWtaUAAAAAAAAhqQKuqqqqqYmpAVlVVVVW9akAAAAAAABhrQKuqqqqqcmtA",
                        "dtype": "f8"
                      },
                      "y": {
                        "bdata": "ZciTf0XcED8lntKsrS0kP5zkiF9hojY/U14kDNTLRz/fXF24vHJXPzo0gmjbp2U/7Cn2idW+cj+BDLiOpWp+P43iEBEEIYc/HaH9fuh7kD/3wIpRrwWWP0vloFdEk5s/qY8mE2AuoD+VwtoZfcyhP8a2N+WOWaI/8VUSzye7oT/2+JJl6w6gP0kq4+YCQ5s/dGdgfmOwlT/aLg+mQCyQP6zTYa4mm4Y/WVn22KadfT9xlEMouS5yP2f5gMDq7GQ/t9vrP0KSVj+D8JEOttFGP06Jxa1WnzU/AeRom/gzIz+vN7BG//cPPxIMvurg8Pg+",
                        "dtype": "f8"
                      }
                    }
                  ],
                  "name": "n=590"
                },
                {
                  "data": [
                    {
                      "marker": {
                        "color": "blue"
                      },
                      "name": "이항분포 샘플",
                      "opacity": 0.7,
                      "type": "bar",
                      "x": {
                        "bdata": "7+7u7u5uYUDNzMzMzMxhQKuqqqqqKmJAiIiIiIiIYkBmZmZmZuZiQERERERERGNAIiIiIiKiY0AAAAAAAABkQN7d3d3dXWRAvLu7u7u7ZECamZmZmRllQHd3d3d3d2VAVVVVVVXVZUAzMzMzMzNmQBERERERkWZA7+7u7u7uZkDNzMzMzExnQKuqqqqqqmdAiIiIiIgIaEBmZmZmZmZoQERERERExGhAIiIiIiIiaUAAAAAAAIBpQN7d3d3d3WlAu7u7u7s7akCZmZmZmZlqQHd3d3d392pAVVVVVVVVa0AzMzMzM7NrQBEREREREWxA",
                        "dtype": "f8"
                      },
                      "y": {
                        "bdata": "DUWTt5rfET+S51wTaM8aP08WeGWBVzY/5a2FDo4bRD/+4f65hzlVP08WeGWBV2Y/Meqq1uGdcD9MktKLjyN/P8nkreZ3BIg/etNwnnNNkD8Hj5+5xWaYP4blMYxR9ps/zjJxYEY6oT+Q6mypzpaiP/nJHaDcAZo/QeF6FK5HoT8H/xrxrxGfP3+afqjph5o/PDgN5znXlD/KF4CwNDuOP7pORx+oJ4U/GRknknEieT/9Uv6WS9ZvP1KScSIZJ2I/XXkMY5T9Uj/+4f65hzlFP9W4QcFORy8/DUWTt5rfIT8NRZO3mt8RPw1Fk7ea3wE/",
                        "dtype": "f8"
                      }
                    },
                    {
                      "line": {
                        "color": "red",
                        "dash": "dash"
                      },
                      "mode": "lines",
                      "name": "정규근사",
                      "type": "scatter",
                      "x": {
                        "bdata": "7+7u7u5uYUDNzMzMzMxhQKuqqqqqKmJAiIiIiIiIYkBmZmZmZuZiQERERERERGNAIiIiIiKiY0AAAAAAAABkQN7d3d3dXWRAvLu7u7u7ZECamZmZmRllQHd3d3d3d2VAVVVVVVXVZUAzMzMzMzNmQBERERERkWZA7+7u7u7uZkDNzMzMzExnQKuqqqqqqmdAiIiIiIgIaEBmZmZmZmZoQERERERExGhAIiIiIiIiaUAAAAAAAIBpQN7d3d3d3WlAu7u7u7s7akCZmZmZmZlqQHd3d3d392pAVVVVVVVVa0AzMzMzM7NrQBEREREREWxA",
                        "dtype": "f8"
                      },
                      "y": {
                        "bdata": "HAi7OyV4Cz8BlxrMSw0hP4G9LoLhxTM/zKvegytqRT8IyVK/bqlVPxaQjhEmd2Q/OXvCOAwPcj+/J31BPMR9P/Lzs1i26YY/aKhPjB15kD8vGzk3eB+WP+OIjzXSv5s/t/OhgydBoD+INAu/G8mhP7BeX20fLaI/4dqckm9ZoT9USZ0AFO+ePw/jA1rWwZk/S2Y7bPQHlD9UWJ2xaxmNP1HJ/0e+vYM/r24q8l0EeT/RKi1iN5xtPzSkNMbbXWA/CUXMhQfmUD+xuqr/yEtAP3lbNiL2Wi0/EHWVstixGD8vTCZSG2cDP6GJTMsheuw+",
                        "dtype": "f8"
                      }
                    }
                  ],
                  "name": "n=600"
                },
                {
                  "data": [
                    {
                      "marker": {
                        "color": "blue"
                      },
                      "name": "이항분포 샘플",
                      "opacity": 0.7,
                      "type": "bar",
                      "x": {
                        "bdata": "vLu7u7uTYUAzMzMzM/thQKqqqqqqYmJAIiIiIiLKYkCamZmZmTFjQBERERERmWNAiIiIiIgAZEAAAAAAAGhkQHh3d3d3z2RA7+7u7u42ZUBmZmZmZp5lQN7d3d3dBWZAVlVVVVVtZkDMzMzMzNRmQEREREREPGdAvLu7u7ujZ0A0MzMzMwtoQKqqqqqqcmhAIiIiIiLaaECamZmZmUFpQBIRERERqWlAiIiIiIgQakAAAAAAAHhqQHh3d3d332pA7u7u7u5Ga0BmZmZmZq5rQN7d3d3dFWxAVlVVVVV9bEDMzMzMzORsQERERERETG1A",
                        "dtype": "f8"
                      },
                      "y": {
                        "bdata": "s8IWUhA3AD+KwhZSEDcAPwskInuYUig/0CMie5hSOD+jHhcNpN5bPxi9C+Qbw2M/Y1zcd+9acT/sGAyfr2p/P8yJSamGDpA/gKDSqJSLkT8islA6rpSWPxokx0gdmZw/Yqyg/jTapT9Npkv1NtmgPz64ShEx3J8/2PBy7DW+mz+jzlKGXl+XP1RoGKw9g5g/VRjCA6bdhj+GijgSFeJ8P3+EdSppB3U/gw0+SQ8caz8YvQvkG8NTP+C3AHYnT0c/CZtZXPI9Mj+KwhZSEDcwP9AjInuYUhg/s8IWUhA3AD8AAAAAAAAAAIrCFlIQNxA/",
                        "dtype": "f8"
                      }
                    },
                    {
                      "line": {
                        "color": "red",
                        "dash": "dash"
                      },
                      "mode": "lines",
                      "name": "정규근사",
                      "type": "scatter",
                      "x": {
                        "bdata": "vLu7u7uTYUAzMzMzM/thQKqqqqqqYmJAIiIiIiLKYkCamZmZmTFjQBERERERmWNAiIiIiIgAZEAAAAAAAGhkQHh3d3d3z2RA7+7u7u42ZUBmZmZmZp5lQN7d3d3dBWZAVlVVVVVtZkDMzMzMzNRmQEREREREPGdAvLu7u7ujZ0A0MzMzMwtoQKqqqqqqcmhAIiIiIiLaaECamZmZmUFpQBIRERERqWlAiIiIiIgQakAAAAAAAHhqQHh3d3d332pA7u7u7u5Ga0BmZmZmZq5rQN7d3d3dFWxAVlVVVVV9bEDMzMzMzORsQERERERETG1A",
                        "dtype": "f8"
                      },
                      "y": {
                        "bdata": "oa9uULOoAD8ucho+wk4XPyMyokTfDS4/v+NW7LPbQT/hqnzqOo9TPx4Kn3FyvmM/vyCdlUFecj9r6fjdiH9/P99alrju44g/mYgyoZcgkj9f1ioToVWYP/6bLapkG54/V9xaDjIqoT8wecQF1AmiPw/e8jWGeKE/r6/hVZ4wnz+Npn3ZvaiZPxVvPLxtdJM/ONrOLnUwiz+q9ev1p4KBP5Z4QItSyXQ/rS+8Cte9Zj+4rj4bQ+5WP8kZzRM1T0U/xx33lTNAMj98jQMb9c8cP2aS/OPj9QQ/2cexn1gb7D6goW77MF7RPsOUWg40yLM+",
                        "dtype": "f8"
                      }
                    }
                  ],
                  "name": "n=610"
                },
                {
                  "data": [
                    {
                      "marker": {
                        "color": "blue"
                      },
                      "name": "이항분포 샘플",
                      "opacity": 0.7,
                      "type": "bar",
                      "x": {
                        "bdata": "ZmZmZmYuYkA0MzMzM4tiQAAAAAAA6GJAzMzMzMxEY0CamZmZmaFjQGZmZmZm/mNANDMzMzNbZEAAAAAAALhkQMzMzMzMFGVAmpmZmZlxZUBmZmZmZs5lQDQzMzMzK2ZAAAAAAACIZkDMzMzMzORmQJqZmZmZQWdAZmZmZmaeZ0A0MzMzM/tnQAAAAAAAWGhAzMzMzMy0aECamZmZmRFpQGZmZmZmbmlANDMzMzPLaUAAAAAAAChqQMzMzMzMhGpAmpmZmZnhakBmZmZmZj5rQDMzMzMzm2tAAAAAAAD4a0DMzMzMzFRsQJqZmZmZsWxA",
                        "dtype": "f8"
                      },
                      "y": {
                        "bdata": "FGx9kDIUEj8UbH2QMhQiP1jHnDQ/mTY/U5V1Z+/yQD/+XzAbZ2xZP9ZChbl1NWM/U5V1Z+/ycD99A4I3Pvd7Pw5B9nlZRYo/TV6IbYn2hT+MjTO2DGyWPyq6e+iENpw/G2Hrg5ShoD/yLMsLsS2hP7QD0zT0TqI/VBhPoFK+oT+e01MVgh6gP66abXCIVJs/Dy/dJAaBlT+Mh4BERtWEP9udpF2Cuoc/y6QSOHaGgD/4Yb9ag1xyPyuoYpMxcmc/ArtPv3PxXT+mS7SvCP1JP81823xYoy8/WMecND+ZJj8AAAAAAAAAABRsfZAyFBI/",
                        "dtype": "f8"
                      }
                    },
                    {
                      "line": {
                        "color": "red",
                        "dash": "dash"
                      },
                      "mode": "lines",
                      "name": "정규근사",
                      "type": "scatter",
                      "x": {
                        "bdata": "ZmZmZmYuYkA0MzMzM4tiQAAAAAAA6GJAzMzMzMxEY0CamZmZmaFjQGZmZmZm/mNANDMzMzNbZEAAAAAAALhkQMzMzMzMFGVAmpmZmZlxZUBmZmZmZs5lQDQzMzMzK2ZAAAAAAACIZkDMzMzMzORmQJqZmZmZQWdAZmZmZmaeZ0A0MzMzM/tnQAAAAAAAWGhAzMzMzMy0aECamZmZmRFpQGZmZmZmbmlANDMzMzPLaUAAAAAAAChqQMzMzMzMhGpAmpmZmZnhakBmZmZmZj5rQDMzMzMzm2tAAAAAAAD4a0DMzMzMzFRsQJqZmZmZsWxA",
                        "dtype": "f8"
                      },
                      "y": {
                        "bdata": "koE5GWaWED+95H6nZ9AjP/KHfkcVMDY/CCmbvrNKRz+nvzE42utWP0I4XlpPJWU/TUB7dplJcj9LYioTE6d9P/5+RtxjiYY/rqDXIJcOkD/YNqEtD3OVP1guOXBQ3Jo/nri/qWeInz8Orhvh41mhP5kRJTmV5qE/nfX57gFQoT9HZhZfhmSfP3YphgiFrpo/iApYzVpClT+hVNi2IcKPP4X0hfDMPIY/rzgyDqMxfT84QqMH6/ZxP7Rnyu7fuWQ/X9X8m5lqVj8lBcnwYrpGP9UIqLNGmjU/d+6VG6M/Iz/pSVYIBxQQP+Rrr5ATLvk+",
                        "dtype": "f8"
                      }
                    }
                  ],
                  "name": "n=620"
                },
                {
                  "data": [
                    {
                      "marker": {
                        "color": "blue"
                      },
                      "name": "이항분포 샘플",
                      "opacity": 0.7,
                      "type": "bar",
                      "x": {
                        "bdata": "7+7u7u7OYkDNzMzMzCxjQKuqqqqqimNAiIiIiIjoY0BmZmZmZkZkQEREREREpGRAIiIiIiICZUAAAAAAAGBlQN7d3d3dvWVAvLu7u7sbZkCamZmZmXlmQHd3d3d312ZAVVVVVVU1Z0AzMzMzM5NnQBERERER8WdA7+7u7u5OaEDNzMzMzKxoQKuqqqqqCmlAiIiIiIhoaUBmZmZmZsZpQEREREREJGpAIiIiIiKCakAAAAAAAOBqQN7d3d3dPWtAu7u7u7uba0CZmZmZmflrQHd3d3d3V2xAVVVVVVW1bEAzMzMzMxNtQBERERERcW1A",
                        "dtype": "f8"
                      },
                      "y": {
                        "bdata": "1bhBwU5HLz+S51wTaM8qP9W4QcFORz8/6RAaDKHBUD/WR0LkiqpkP/j3tEwcmHE/HQ7MSCfzej/xfmq8dJOIP/KxPIYxyo4/oatah3dClT8S2lKdLdWZPy+Z18asoJ8/4FTItOuyoT/if0/LxIGhP5ie1LYWOpg/eIKdjj5Qnz+ZMhD3zz2cPyYbUhmI+5c/d42XbhKDkD9nWPuGtW+IP6jDO6EieoA/XXkMY5T9cj8gA3H/3MNsP63qC0BYml0/4xvWvmHtSz+S51wTaM86P08WeGWBVyY/DUWTt5rfAT+S51wTaM8aPw1Fk7ea3wE/",
                        "dtype": "f8"
                      }
                    },
                    {
                      "line": {
                        "color": "red",
                        "dash": "dash"
                      },
                      "mode": "lines",
                      "name": "정규근사",
                      "type": "scatter",
                      "x": {
                        "bdata": "7+7u7u7OYkDNzMzMzCxjQKuqqqqqimNAiIiIiIjoY0BmZmZmZkZkQEREREREpGRAIiIiIiICZUAAAAAAAGBlQN7d3d3dvWVAvLu7u7sbZkCamZmZmXlmQHd3d3d312ZAVVVVVVU1Z0AzMzMzM5NnQBERERER8WdA7+7u7u5OaEDNzMzMzKxoQKuqqqqqCmlAiIiIiIhoaUBmZmZmZsZpQEREREREJGpAIiIiIiKCakAAAAAAAOBqQN7d3d3dPWtAu7u7u7uba0CZmZmZmflrQHd3d3d3V2xAVVVVVVW1bEAzMzMzMxNtQBERERERcW1A",
                        "dtype": "f8"
                      },
                      "y": {
                        "bdata": "ATSIuSSeID9y4AEBZOYyPyjLRJRfJEQ/786wPTsdVD/NxDBdUNJiP3KHFHTDgHA/pFzeyyceez8yGo8HjOCEP8VzJEwGH44/VwfG7mZclD9fz0l3G8uZP0ZIpLslnp4/m7aayCkHoT/yFRP8XL+hPxomiWwsVaE/O2nULTK5nz/TLPi0/TObP6cgIw2o25U/TxdcghF1kD8C2pSAtTiHP8AK5Mbns34/RuCiH+AEcz874N3sShRmPywX5vuVBFg/DHLmwUx7SD9Sdw/DDGI3P3iXRb1o7SQ/k5ma6t6MET+LMM2pL5X7Pqa4P/xuT+Q+",
                        "dtype": "f8"
                      }
                    }
                  ],
                  "name": "n=630"
                },
                {
                  "data": [
                    {
                      "marker": {
                        "color": "blue"
                      },
                      "name": "이항분포 샘플",
                      "opacity": 0.7,
                      "type": "bar",
                      "x": {
                        "bdata": "AAAAAAAQY0AAAAAAAHBjQAAAAAAA0GNAAAAAAAAwZEAAAAAAAJBkQAAAAAAA8GRAAAAAAABQZUAAAAAAALBlQAAAAAAAEGZAAAAAAABwZkAAAAAAANBmQAAAAAAAMGdAAAAAAACQZ0AAAAAAAPBnQAAAAAAAUGhAAAAAAACwaEAAAAAAABBpQAAAAAAAcGlAAAAAAADQaUAAAAAAADBqQAAAAAAAkGpAAAAAAADwakAAAAAAAFBrQAAAAAAAsGtAAAAAAAAQbEAAAAAAAHBsQAAAAAAA0GxAAAAAAAAwbUAAAAAAAJBtQAAAAAAA8G1A",
                        "dtype": "f8"
                      },
                      "y": {
                        "bdata": "LUMc6+I2Gj+l4uzDZ9glP6Xi7MNn2DU//Knx0k1iUD9fB84ZUdpbP/SzfiBmHHA/ObTIdr6fej/XfkWRyFGDP0qgrtuNK4s/aijI4hHvkz9N845TdCSXPynwO3P8PZ4/xf6ye/KwoD+Pncp8GgqiP6xmsLy+6aA/+zpwzojSnj9WEVtnaZSbP8uhRbbz/ZQ/xY8xdy0hjz8Cdd1uXNmIP9V7F9z8rH8/XbcbVzaGcz8tQxzr4jZqP9V7F9z8rF8/DZbXNx3uUD8tQxzr4jY6P6Xi7MNn2DU/LUMc6+I2Gj8dgr2c7HkBPx2CvZzseQE/",
                        "dtype": "f8"
                      }
                    },
                    {
                      "line": {
                        "color": "red",
                        "dash": "dash"
                      },
                      "mode": "lines",
                      "name": "정규근사",
                      "type": "scatter",
                      "x": {
                        "bdata": "AAAAAAAQY0AAAAAAAHBjQAAAAAAA0GNAAAAAAAAwZEAAAAAAAJBkQAAAAAAA8GRAAAAAAABQZUAAAAAAALBlQAAAAAAAEGZAAAAAAABwZkAAAAAAANBmQAAAAAAAMGdAAAAAAACQZ0AAAAAAAPBnQAAAAAAAUGhAAAAAAACwaEAAAAAAABBpQAAAAAAAcGlAAAAAAADQaUAAAAAAADBqQAAAAAAAkGpAAAAAAADwakAAAAAAAFBrQAAAAAAAsGtAAAAAAAAQbEAAAAAAAHBsQAAAAAAA0GxAAAAAAAAwbUAAAAAAAJBtQAAAAAAA8G1A",
                        "dtype": "f8"
                      },
                      "y": {
                        "bdata": "lsa5T0owGz/leBakyL8vPy3QMo8tVkE/aD09Pv60UT/ehhL98+lgP9vDz5w5OG4/XQuWEW0/eT81ePQYRLqDPw0dlJP41Iw/Bqm0rEu0kz8OBhUsJzCZP3F17/3RHJ4/WaSlkoPVoD/g9A8SQ5qhP5IfxkPKNqE/Ap6l7MJ8nz//Ru4PvO6aP65Z/cVli5U/PHmi8TsekD+w3XGDBo6GP3eP/reChH0/6ZN3S1wQcj+TKZw5V61kPwUkcGmkIlY/JUDpZ1kpRj/6T7WSKMA0Pxsdks/KKyI/zIYCHVfDDT/l+PgL08v2Pk99N19GVOA+",
                        "dtype": "f8"
                      }
                    }
                  ],
                  "name": "n=640"
                },
                {
                  "data": [
                    {
                      "marker": {
                        "color": "blue"
                      },
                      "name": "이항분포 샘플",
                      "opacity": 0.7,
                      "type": "bar",
                      "x": {
                        "bdata": "3t3d3d0tY0CamZmZmYljQFVVVVVV5WNAERERERFBZEDNzMzMzJxkQIiIiIiI+GRARERERERUZUAAAAAAALBlQLy7u7u7C2ZAeHd3d3dnZkAzMzMzM8NmQO/u7u7uHmdAqqqqqqp6Z0BmZmZmZtZnQCIiIiIiMmhA3t3d3d2NaECamZmZmeloQFZVVVVVRWlAERERERGhaUDNzMzMzPxpQIiIiIiIWGpARERERES0akAAAAAAABBrQLy7u7u7a2tAeHd3d3fHa0A0MzMzMyNsQO/u7u7ufmxAqqqqqqrabEBmZmZmZjZtQCIiIiIikm1A",
                        "dtype": "f8"
                      },
                      "y": {
                        "bdata": "fVhDhgNKEj+wWEOGA0oiP5wu1GeE3CY/nC7UZ4TcRj9Ac3WiU9xSP/z6kyPrSWA/Ld9PjZducj9TpZHy5dxuP4P5eOxlXIQ/Es/3U+Oliz+oIcQW3jeVP1NWFtV6E5k/DkFRqvhlnT8MHE5ojq6hP5OgLb6ZnJg/Kph8OKJOoz8bSyp42wCiP/cehetRuJ4/itaas7tlmD/7wxS0xTeTP3+mo2zpJYw/dI6weyUTgj9XMPhbi25xP4CBoCp/bnA/9+kyLbXcWj/cLtRnhNxWP8pvLbpFuD0/8Zmc2MQlOT+7BGVJBW8bP31YQ4YDSiI/",
                        "dtype": "f8"
                      }
                    },
                    {
                      "line": {
                        "color": "red",
                        "dash": "dash"
                      },
                      "mode": "lines",
                      "name": "정규근사",
                      "type": "scatter",
                      "x": {
                        "bdata": "3t3d3d0tY0CamZmZmYljQFVVVVVV5WNAERERERFBZEDNzMzMzJxkQIiIiIiI+GRARERERERUZUAAAAAAALBlQLy7u7u7C2ZAeHd3d3dnZkAzMzMzM8NmQO/u7u7uHmdAqqqqqqp6Z0BmZmZmZtZnQCIiIiIiMmhA3t3d3d2NaECamZmZmeloQFZVVVVVRWlAERERERGhaUDNzMzMzPxpQIiIiIiIWGpARERERES0akAAAAAAABBrQLy7u7u7a2tAeHd3d3fHa0A0MzMzMyNsQO/u7u7ufmxAqqqqqqrabEBmZmZmZjZtQCIiIiIikm1A",
                        "dtype": "f8"
                      },
                      "y": {
                        "bdata": "Hc5ejS3wDz/C3c4FRIwiP0hMnw/TSDQ/FV0LjDLjRD94V+Bjc0BUP3lDyOH2fGI/fjX+JbDIbz9ZCSKGdbl5P1XWsjaNmoM/5aWvpQYijD9PxMK6zgGTP9wrJN2wLpg/bCxT9yD4nD91ewhqiFagPzuIz/MRWqE/O4jP8xFaoT91ewhqiFagP2wsU/cg+Jw/3Csk3bAumD9PxMK6zgGTP+Wlr6UGIow/VdayNo2agz9ZCSKGdbl5P341/iWwyG8/eUPI4fZ8Yj9TV+Bjc0BUPxVdC4wy40Q/a0yfD9NIND/C3c4FRIwiPx3OXo0t8A8/",
                        "dtype": "f8"
                      }
                    }
                  ],
                  "name": "n=650"
                },
                {
                  "data": [
                    {
                      "marker": {
                        "color": "blue"
                      },
                      "name": "이항분포 샘플",
                      "opacity": 0.7,
                      "type": "bar",
                      "x": {
                        "bdata": "3t3d3d1NY0CamZmZmaljQFVVVVVVBWRAERERERFhZEDNzMzMzLxkQIiIiIiIGGVARERERER0ZUAAAAAAANBlQLy7u7u7K2ZAeHd3d3eHZkAzMzMzM+NmQO/u7u7uPmdAqqqqqqqaZ0BmZmZmZvZnQCIiIiIiUmhA3t3d3d2taECamZmZmQlpQFZVVVVVZWlAERERERHBaUDNzMzMzBxqQIiIiIiIeGpARERERETUakAAAAAAADBrQLy7u7u7i2tAeHd3d3fna0A0MzMzM0NsQO/u7u7unmxAqqqqqqr6bEBmZmZmZlZtQCIiIiIism1A",
                        "dtype": "f8"
                      },
                      "y": {
                        "bdata": "fVhDhgNKEj8IBWVJBW8bP5wu1GeE3CY/uwRlSQVvKz8Ejqe+o25DP5M6yYGlk1w/2BOiSzRKZj9fSQaE1G5nP46KX9aVSn4//GMv46JciT8bSyp42wCSP0KvYQNH05Q/eUFaZ3oKnD9NSO+gMzygPx7DAjrC7pU/JBW9grk3oj8k90bSPzyhP3B+XJZVBaA/Vs7ulmEBnT+98dWMjZyXPxfLpZmarpI/os8JzubuiD+GcVGuTEp4PyRkOKAkAXg/pEfij83cbD/CFcY/O9xgP6yZnNjEJVk/JCPfTWMlQT+cLtRnhNwmP7sEZUkFbys/",
                        "dtype": "f8"
                      }
                    },
                    {
                      "line": {
                        "color": "red",
                        "dash": "dash"
                      },
                      "mode": "lines",
                      "name": "정규근사",
                      "type": "scatter",
                      "x": {
                        "bdata": "3t3d3d1NY0CamZmZmaljQFVVVVVVBWRAERERERFhZEDNzMzMzLxkQIiIiIiIGGVARERERER0ZUAAAAAAANBlQLy7u7u7K2ZAeHd3d3eHZkAzMzMzM+NmQO/u7u7uPmdAqqqqqqqaZ0BmZmZmZvZnQCIiIiIiUmhA3t3d3d2taECamZmZmQlpQFZVVVVVZWlAERERERHBaUDNzMzMzBxqQIiIiIiIeGpARERERETUakAAAAAAADBrQLy7u7u7i2tAeHd3d3fna0A0MzMzM0NsQO/u7u7unmxAqqqqqqr6bEBmZmZmZlZtQCIiIiIism1A",
                        "dtype": "f8"
                      },
                      "y": {
                        "bdata": "uPEL0u3fAj9/wopKB48WP7BXoqfbaCk/qlaWTCD5Oj+2/y39DPxKPxhdTWwgcVk/wH3pvESbZj/Pk+DNRe5yP+yevOVO4X0/TmDNPUU5hj+x8RH7vSePP8GJgjq6lJQ/f9SLSUCgmT/j2VaLIRKeP8xOHiysoKA/uy7qZnJUoT/aRnN9oQWhP4tC++Wfg58/7XCD2jB+mz9itN30o5qWPwWTO8jBg5E/d7OqKXCUiT8QzkuHpZqBP8JpE33f1XY/O9m1PYjqaz8Kpo/b0BRgP0pIb0YAdlE/txv16hTeQT8N7Kd3IjsxP6ePX9cyUh8/",
                        "dtype": "f8"
                      }
                    }
                  ],
                  "name": "n=660"
                },
                {
                  "data": [
                    {
                      "marker": {
                        "color": "blue"
                      },
                      "name": "이항분포 샘플",
                      "opacity": 0.7,
                      "type": "bar",
                      "x": {
                        "bdata": "VlVVVVVVY0AAAAAAAMBjQKqqqqqqKmRAVlVVVVWVZEAAAAAAAABlQKqqqqqqamVAVlVVVVXVZUAAAAAAAEBmQKqqqqqqqmZAVlVVVVUVZ0AAAAAAAIBnQKuqqqqq6mdAVlVVVVVVaEAAAAAAAMBoQKuqqqqqKmlAVlVVVVWVaUAAAAAAAABqQKuqqqqqampAVlVVVVXVakAAAAAAAEBrQKuqqqqqqmtAVlVVVVUVbEAAAAAAAIBsQKuqqqqq6mxAVlVVVVVVbUAAAAAAAMBtQKuqqqqqKm5AVlVVVVWVbkAAAAAAAABvQKuqqqqqam9A",
                        "dtype": "f8"
                      },
                      "y": {
                        "bdata": "UB1VTRB1/z6bHVVNEHUPPwAAAAAAAAAA/NX/OcyXNz8OKNU+HY85P33gfyvZsVE/KspPqn06bj9k3QcgtYlzP6AehetRuH4/M8gHPZtVjz8UN8MN+PyQP66EtpxLcZU/cDUHCObooT+ky0V8J2adP2VyFva0w58/fDIbZJKRoz8I0xOWeECZPzaDwMqhRZY/VYNMMnIWlj9U1edqK/aHP8okXTP5Zns/YS7FVWXfdT+xL/XzpiJlPwveH+9VK1M/kjcVqTC2QD9QHVVNEHUvPzTW/znMlxc/AAAAAAAAAABQHVVNEHX/PpsdVU0Qdf8+",
                        "dtype": "f8"
                      }
                    },
                    {
                      "line": {
                        "color": "red",
                        "dash": "dash"
                      },
                      "mode": "lines",
                      "name": "정규근사",
                      "type": "scatter",
                      "x": {
                        "bdata": "VlVVVVVVY0AAAAAAAMBjQKqqqqqqKmRAVlVVVVWVZEAAAAAAAABlQKqqqqqqamVAVlVVVVXVZUAAAAAAAEBmQKqqqqqqqmZAVlVVVVUVZ0AAAAAAAIBnQKuqqqqq6mdAVlVVVVVVaEAAAAAAAMBoQKuqqqqqKmlAVlVVVVWVaUAAAAAAAABqQKuqqqqqampAVlVVVVXVakAAAAAAAEBrQKuqqqqqqmtAVlVVVVUVbEAAAAAAAIBsQKuqqqqq6mxAVlVVVVVVbUAAAAAAAMBtQKuqqqqqKm5AVlVVVVWVbkAAAAAAAABvQKuqqqqqam9A",
                        "dtype": "f8"
                      },
                      "y": {
                        "bdata": "SPxjUmcl8T6CGpKKVrMIPwc0F2rTcCA/VRhJn145ND/YNMyYMv1GPyPBg8/SJVg/uT+S31ZwZz/7NWAh8AV1Pyxo+Qi5bIE/Z2YT6uewij99hEwd7OOSP/goKiVitZg/Ytw+rlzdnT/xKcLfjq2gP7TFsfeTNqE/HgoqfKdqoD9kN+dTou+cP2SCzq6pkJc/JJYTmNu7kT/HWyfbEKqIP29BR3TVsn8/619L+KHScj+BCEDkH6hkP8QVyTyy8lQ/uhfaul+hQz8t/23Orv8wPx4bAiZWNBs/sqCp/aAdBD8kpn6YS33rPtxj2F1WW9E+",
                        "dtype": "f8"
                      }
                    }
                  ],
                  "name": "n=670"
                },
                {
                  "data": [
                    {
                      "marker": {
                        "color": "blue"
                      },
                      "name": "이항분포 샘플",
                      "opacity": 0.7,
                      "type": "bar",
                      "x": {
                        "bdata": "mpmZmZkxZEDMzMzMzJRkQAAAAAAA+GRANDMzMzNbZUBmZmZmZr5lQJqZmZmZIWZAzMzMzMyEZkAAAAAAAOhmQDQzMzMzS2dAZmZmZmauZ0CamZmZmRFoQMzMzMzMdGhAAAAAAADYaEA0MzMzMztpQGZmZmZmnmlAmpmZmZkBakDMzMzMzGRqQAAAAAAAyGpANDMzMzMra0BmZmZmZo5rQJqZmZmZ8WtAzczMzMxUbEAAAAAAALhsQDQzMzMzG21AZmZmZmZ+bUCamZmZmeFtQM3MzMzMRG5AAAAAAACobkA0MzMzMwtvQGZmZmZmbm9A",
                        "dtype": "f8"
                      },
                      "y": {
                        "bdata": "JkQzqJrpED855kz8Z14ZP3msOf3NBjM/JkQzqJrpQD9xScP8mjJWP1CvgSdOq2U/u3naZ3RKcz/35Uz8Z155P9cWrWzRyoY/u08uYUt5jD/f6JQm6AKcP79NeEHrfZo/MASfE70Gnj/xnwT+SeCfP40QQgghhKA/+oVnK0WDnz9GtaOGbp2bP2iwpTyO/ZY/ZnmRYuT1kj96GtCmAW2KP0gWZGdBdoY/AEkx8nqJdT/1tlmmzphtP6WFHia1Ll8/aHi2UjT4UT+3sclRzk9IP1FEM6ia6TA/9+VM/GdeGT8vFUBSASQlPyZEM6ia6QA/",
                        "dtype": "f8"
                      }
                    },
                    {
                      "line": {
                        "color": "red",
                        "dash": "dash"
                      },
                      "mode": "lines",
                      "name": "정규근사",
                      "type": "scatter",
                      "x": {
                        "bdata": "mpmZmZkxZEDMzMzMzJRkQAAAAAAA+GRANDMzMzNbZUBmZmZmZr5lQJqZmZmZIWZAzMzMzMyEZkAAAAAAAOhmQDQzMzMzS2dAZmZmZmauZ0CamZmZmRFoQMzMzMzMdGhAAAAAAADYaEA0MzMzMztpQGZmZmZmnmlAmpmZmZkBakDMzMzMzGRqQAAAAAAAyGpANDMzMzMra0BmZmZmZo5rQJqZmZmZ8WtAzczMzMxUbEAAAAAAALhsQDQzMzMzG21AZmZmZmZ+bUCamZmZmeFtQM3MzMzMRG5AAAAAAACobkA0MzMzMwtvQGZmZmZmbm9A",
                        "dtype": "f8"
                      },
                      "y": {
                        "bdata": "W+5RtA7WDz/Gf3AyIVcjP+NBwa0T+DU/oiQAELZURz8ojbtgJCpXPw1Z2titgGU/ePgy1y+pcj8LZYMrCUh+P+PlPblX+IY/I9q4yUFKkD/b1I7dA5qVP6cOKv3gx5o//UXSwHMKnz+JavL4h9GgP3duIHn6CaE/JLffP44joD8u+WI7PJWcPw1Ufk/sqZc/MX2MP+5Qkj9Nh1lNNYKKP6dI198s74E/1iCJrPavdj+8YSD3DtVqPwi4igBIq10/7BhYzrOrTj+y2k5EhaQ9Py3ARNvVyCo/+jgQ1HegFj+p1Y+y2d4BP3h6zzEPZOo+",
                        "dtype": "f8"
                      }
                    }
                  ],
                  "name": "n=680"
                },
                {
                  "data": [
                    {
                      "marker": {
                        "color": "blue"
                      },
                      "name": "이항분포 샘플",
                      "opacity": 0.7,
                      "type": "bar",
                      "x": {
                        "bdata": "MzMzMzPTY0CamZmZmTlkQAAAAAAAoGRAZmZmZmYGZUDNzMzMzGxlQDMzMzMz02VAmpmZmZk5ZkAAAAAAAKBmQGZmZmZmBmdAzczMzMxsZ0AzMzMzM9NnQJqZmZmZOWhAAAAAAACgaEBmZmZmZgZpQM3MzMzMbGlAMzMzMzPTaUCamZmZmTlqQAAAAAAAoGpAZmZmZmYGa0DNzMzMzGxrQDMzMzMz02tAmpmZmZk5bEAAAAAAAKBsQGdmZmZmBm1AzczMzMxsbUAzMzMzM9NtQJqZmZmZOW5AAAAAAACgbkBnZmZmZgZvQM3MzMzMbG9A",
                        "dtype": "f8"
                      },
                      "y": {
                        "bdata": "DKrx0k1iAD8AAAAAAAAAAAAAAAAAAAAA1X5qvHSTGD8MqvHSTWIwP103iUFg5VA//luPwvUoXD9NCKwcWmRrP3gYBFYOLXI/7SLb+X5qfD/hItv5fmqQP6F0kxgEVpI/VjVeukkMlj/w2M73U+OZP1A1XrpJDKA/SDMzMzMzpT8HXrpJDAKfP1bfT42Xbpo/2tR46SYxmD8S1XjpJjGUP0y0yHa+n5I/dML1KFyPgj8kDAIrhxZ5P9cehetRuG4/Vots5/upYT9jDAIrhxZZP+Op8dJNYkA/46nx0k1iMD8MqvHSTWIQPxJ/arx0kxg/",
                        "dtype": "f8"
                      }
                    },
                    {
                      "line": {
                        "color": "red",
                        "dash": "dash"
                      },
                      "mode": "lines",
                      "name": "정규근사",
                      "type": "scatter",
                      "x": {
                        "bdata": "MzMzMzPTY0CamZmZmTlkQAAAAAAAoGRAZmZmZmYGZUDNzMzMzGxlQDMzMzMz02VAmpmZmZk5ZkAAAAAAAKBmQGZmZmZmBmdAzczMzMxsZ0AzMzMzM9NnQJqZmZmZOWhAAAAAAACgaEBmZmZmZgZpQM3MzMzMbGlAMzMzMzPTaUCamZmZmTlqQAAAAAAAoGpAZmZmZmYGa0DNzMzMzGxrQDMzMzMz02tAmpmZmZk5bEAAAAAAAKBsQGdmZmZmBm1AzczMzMxsbUAzMzMzM9NtQJqZmZmZOW5AAAAAAACgbkBnZmZmZgZvQM3MzMzMbG9A",
                        "dtype": "f8"
                      },
                      "y": {
                        "bdata": "noEXaGhz5T79R4uhLCb+PsPr2OnevRM/2mqXH/oWKD+gNZ1vy2M7P9IReeFjBE0/CaRCpsikXD+pWrrCh1hqP+SrAFc0lHY/Sylg6MIHgj9FBpb30dSKP6wPHq8cmpI/qp9X4Y4ImD8rtNCeoO6cPwtnnrz5OaA/umij6Y/1oD8/vNx2BISgP6+FK2UE+Z0/j8s0/3NXmT9ikwEG0/aTP3j+WlMyT40/bycB++wLhD8fwuBQIo15PxxtiUtzWG4/MHIv7EbKYD9T2aGI7k9RP7zS4MTyoUA/g6D211vHLT96CrkpvdYYPzMRk4AETgM/",
                        "dtype": "f8"
                      }
                    }
                  ],
                  "name": "n=690"
                },
                {
                  "data": [
                    {
                      "marker": {
                        "color": "blue"
                      },
                      "name": "이항분포 샘플",
                      "opacity": 0.7,
                      "type": "bar",
                      "x": {
                        "bdata": "eHd3d3ePZEBmZmZmZu5kQFZVVVVVTWVARERERESsZUA0MzMzMwtmQCIiIiIiamZAERERERHJZkAAAAAAAChnQO/u7u7uhmdA3t3d3d3lZ0DMzMzMzERoQLy7u7u7o2hAqqqqqqoCaUCamZmZmWFpQIiIiIiIwGlAeHd3d3cfakBmZmZmZn5qQFZVVVVV3WpAREREREQ8a0A0MzMzM5trQCIiIiIi+mtAERERERFZbEAAAAAAALhsQO/u7u7uFm1A3t3d3d11bUDNzMzMzNRtQLy7u7u7M25Aq6qqqqqSbkCamZmZmfFuQIiIiIiIUG9A",
                        "dtype": "f8"
                      },
                      "y": {
                        "bdata": "zF1nJEqCGj+IPpptMawhP2/tzX9W7S4/WYZNm7fhMz9v7c1/Vu0+P4g+mm0xrFE/mbTgD1ZUYz9QpRpS0LdsP5zA1ftAGHo/7hZP50zqgj/zm65sua6LP8qMlYlxkpQ/t+T8isiBmD/QEfUO3ladP+vPZPfdyqA/PVs6uJK4nz8iZuXzFW6gP2O/Ogu4ep8/yKBk30QznD8rzgDJPReWP6gLUYYHtZE/jPv4TFPsij+yNC6IGqOAP2bOAMk9F3Y/QneH3TFFbT/1063GbipcPzG04A9WVFM/j4ZNm7fhQz9v7c1/Vu0uP8xdZyRKgho/",
                        "dtype": "f8"
                      }
                    },
                    {
                      "line": {
                        "color": "red",
                        "dash": "dash"
                      },
                      "mode": "lines",
                      "name": "정규근사",
                      "type": "scatter",
                      "x": {
                        "bdata": "eHd3d3ePZEBmZmZmZu5kQFZVVVVVTWVARERERESsZUA0MzMzMwtmQCIiIiIiamZAERERERHJZkAAAAAAAChnQO/u7u7uhmdA3t3d3d3lZ0DMzMzMzERoQLy7u7u7o2hAqqqqqqoCaUCamZmZmWFpQIiIiIiIwGlAeHd3d3cfakBmZmZmZn5qQFZVVVVV3WpAREREREQ8a0A0MzMzM5trQCIiIiIi+mtAERERERFZbEAAAAAAALhsQO/u7u7uFm1A3t3d3d11bUDNzMzMzNRtQLy7u7u7M25Aq6qqqqqSbkCamZmZmfFuQIiIiIiIUG9A",
                        "dtype": "f8"
                      },
                      "y": {
                        "bdata": "C7tLv+AF/j5Y2rJ6vEASP7ZFTTmF5yQ/TdZe3LqMNj+aUaBJNelGP4Rccaja7FU/iyqeTTTDYz+YvlCeJ8dwPyJRHJ0o1Xo/Jh9YfKQ1hD85TlhrXKyMP6D/+y6iKJM/sJnvSWQdmD+Qd7wTypacP/1wJ7h17J8/NlaUHK/JoD+/7GQDZqGgP7xCI3LJCJ8/zXtB+yJGmz9vIwLZh5OWP+YIbvQJmpE/jDmjzfrZiT9DEitvdOGBP9NJdWcuTHc/1tqPgWeXbD+1sVDaRoZgP6SYOMKj/VE/iZZA2edyQj/3jwQys9ExP9Sh4NPxNSA/",
                        "dtype": "f8"
                      }
                    }
                  ],
                  "name": "n=700"
                },
                {
                  "data": [
                    {
                      "marker": {
                        "color": "blue"
                      },
                      "name": "이항분포 샘플",
                      "opacity": 0.7,
                      "type": "bar",
                      "x": {
                        "bdata": "qqqqqqrSZEAAAAAAADhlQFZVVVVVnWVAqqqqqqoCZkAAAAAAAGhmQFZVVVVVzWZAqqqqqqoyZ0AAAAAAAJhnQFZVVVVV/WdAqqqqqqpiaEAAAAAAAMhoQFVVVVVVLWlAqqqqqqqSaUAAAAAAAPhpQFVVVVVVXWpAqqqqqqrCakAAAAAAAChrQFVVVVVVjWtAqqqqqqrya0AAAAAAAFhsQFVVVVVVvWxAqqqqqqoibUAAAAAAAIhtQFVVVVVV7W1AqqqqqqpSbkAAAAAAALhuQFVVVVVVHW9AqqqqqqqCb0AAAAAAAOhvQKqqqqqqJnBA",
                        "dtype": "f8"
                      },
                      "y": {
                        "bdata": "RZaYXnSOED8blphedI4QP2jh5I2u1Rg/1rs+dhGyND+wBoulS/k8P7Yc8Oo6UVg/XZB06zICbj+m3xsxnjJsP/gGi6VL+Xw/3Jn2u5uYgz8UMyHUMG2NP3FS7juMPZM/NZFxpDzhoD8MZo1rYROfPySVm6Vqr50/Aj8e97NMnj/H9xV3pPGdP8npaaUNjZs/2usYVCESnT/NQM2lx9GPP3A+OKWwaok/bemdAQfJgT+q9YB2jYp3PwhpBXeFO20/JPdJ050tZD87RSi8+LpFPynh5I2u1Tg/Dqlr6kKgMj9FlphedI4AP7AGi6VL+Sw/",
                        "dtype": "f8"
                      }
                    },
                    {
                      "line": {
                        "color": "red",
                        "dash": "dash"
                      },
                      "mode": "lines",
                      "name": "정규근사",
                      "type": "scatter",
                      "x": {
                        "bdata": "qqqqqqrSZEAAAAAAADhlQFZVVVVVnWVAqqqqqqoCZkAAAAAAAGhmQFZVVVVVzWZAqqqqqqoyZ0AAAAAAAJhnQFZVVVVV/WdAqqqqqqpiaEAAAAAAAMhoQFVVVVVVLWlAqqqqqqqSaUAAAAAAAPhpQFVVVVVVXWpAqqqqqqrCakAAAAAAAChrQFVVVVVVjWtAqqqqqqrya0AAAAAAAFhsQFVVVVVVvWxAqqqqqqoibUAAAAAAAIhtQFVVVVVV7W1AqqqqqqpSbkAAAAAAALhuQFVVVVVVHW9AqqqqqqqCb0AAAAAAAOhvQKqqqqqqJnBA",
                        "dtype": "f8"
                      },
                      "y": {
                        "bdata": "W+oBv8/x+D5FlxZzCCkQP1UdXMatkyM/HLRIe1gsNj+X/Viu/HpHP3KKTb9UP1c/9W7YSAOFZT8mWD3g359yP0PYdKsWJH4/IFjJ9o3Nhj+EvwgzGyGQPx5hXqxhVZU/jFfFga1hmj+ktwu6iICePyEe0Wd2fKA/dKGWAoWpoD/4oupFTX2fP5Pzctn20Zs/oG9tl9L6lj8cBMF3Nr+RP7WH8/PfoIk/atdVDipNgT9wZGQcLdd1P4Z9mnH3xmk/+6TzVNJxXD/9X/fGsFhNP5T7Eum7Tjw/7DmUe4aHKT9ED/XSvYYVPxz5KUtp+AA/",
                        "dtype": "f8"
                      }
                    }
                  ],
                  "name": "n=710"
                },
                {
                  "data": [
                    {
                      "marker": {
                        "color": "blue"
                      },
                      "name": "이항분포 샘플",
                      "opacity": 0.7,
                      "type": "bar",
                      "x": {
                        "bdata": "mpmZmZlxZUDMzMzMzNRlQAAAAAAAOGZANDMzMzObZkBmZmZmZv5mQJqZmZmZYWdAzMzMzMzEZ0AAAAAAAChoQDQzMzMzi2hAZmZmZmbuaECamZmZmVFpQMzMzMzMtGlAAAAAAAAYakA0MzMzM3tqQGZmZmZm3mpAmpmZmZlBa0DMzMzMzKRrQAAAAAAACGxANDMzMzNrbEBmZmZmZs5sQJqZmZmZMW1AzczMzMyUbUAAAAAAAPhtQDQzMzMzW25AZmZmZma+bkCamZmZmSFvQM3MzMzMhG9AAAAAAADob0CamZmZmSVwQDMzMzMzV3BA",
                        "dtype": "f8"
                      },
                      "y": {
                        "bdata": "JkQzqJrpED8mRDOomukgP/pDM6ia6TA/OeZM/GdeOT/HH2D7AbZPP0bedH3ncGE/MOq4OyhVbT9wru8cLgJ1P66qg91tC4E/OuVx7LdgiD/ZFdJcIc2VP4/luvFHtZg/kAFX6Tximz9JnpfjeTmeP+DSY5OjnJ8/wjZsnvYZnT/SBOgYTVuePwez7WYOopk/ghZkZ0F2lj9qd9tChPqQP2IQQgghhJA/lnfbQoT6gD8xemxylPNzP+XkKOcnDGg/OeZM/GdeWT91H2D7AbZPP/B9Rqc0QTc/9bZZps6YLT9RRDOomukgP/flTPxnXhk/",
                        "dtype": "f8"
                      }
                    },
                    {
                      "line": {
                        "color": "red",
                        "dash": "dash"
                      },
                      "mode": "lines",
                      "name": "정규근사",
                      "type": "scatter",
                      "x": {
                        "bdata": "mpmZmZlxZUDMzMzMzNRlQAAAAAAAOGZANDMzMzObZkBmZmZmZv5mQJqZmZmZYWdAzMzMzMzEZ0AAAAAAAChoQDQzMzMzi2hAZmZmZmbuaECamZmZmVFpQMzMzMzMtGlAAAAAAAAYakA0MzMzM3tqQGZmZmZm3mpAmpmZmZlBa0DMzMzMzKRrQAAAAAAACGxANDMzMzNrbEBmZmZmZs5sQJqZmZmZMW1AzczMzMyUbUAAAAAAAPhtQDQzMzMzW25AZmZmZma+bkCamZmZmSFvQM3MzMzMhG9AAAAAAADob0CamZmZmSVwQDMzMzMzV3BA",
                        "dtype": "f8"
                      },
                      "y": {
                        "bdata": "ZxDcPJ65CD/QrB0XtcodPztt57XZ1zA/mVtFsUbfQT9HJD2v1ctRP/6T3A8eoWA/UqJQRwoqbT+MOlaWuv93P+Erov9IiII/AU2awALcij/WrDjE8UOSP1KJ0i0BUJc/gQcxEgbsmz9kTML2JWKfP3BAm6kFjaA/vPPmFM9hoD9H6nG7026eP4QKXyLfhpo/Y+Oe8L+ylT/vZ7wK1qeQP4yZjHrC/oc/RlOXrVg4gD/U3vcnD5R0P30kIir7f2g/WZfsEWJfWz/EWHrb5bJMP0HtIzKEPDw/HbRNSxQSKj/MfaznspYWP789EC7UXQI/",
                        "dtype": "f8"
                      }
                    }
                  ],
                  "name": "n=720"
                },
                {
                  "data": [
                    {
                      "marker": {
                        "color": "blue"
                      },
                      "name": "이항분포 샘플",
                      "opacity": 0.7,
                      "type": "bar",
                      "x": {
                        "bdata": "mpmZmZmRZUDMzMzMzPRlQAAAAAAAWGZANDMzMzO7ZkBmZmZmZh5nQJqZmZmZgWdAzMzMzMzkZ0AAAAAAAEhoQDQzMzMzq2hAZmZmZmYOaUCamZmZmXFpQMzMzMzM1GlAAAAAAAA4akA0MzMzM5tqQGZmZmZm/mpAmpmZmZlha0DMzMzMzMRrQAAAAAAAKGxANDMzMzOLbEBmZmZmZu5sQJqZmZmZUW1AzczMzMy0bUAAAAAAABhuQDQzMzMze25AZmZmZmbebkCamZmZmUFvQM3MzMzMpG9AAAAAAAAEcECamZmZmTVwQDMzMzMzZ3BA",
                        "dtype": "f8"
                      },
                      "y": {
                        "bdata": "JkQzqJrpAD855kz8Z14ZP/pDM6ia6SA/tH1GpzRBNz9xScP8mjJGPyZEM6ia6VA/FXeSPfSlYD+BqoPdbQtxP9vqSkZI/n0/QOLgvKdnhT9uYM+fj5aTP/TH+uQStpQ/f0ydMTuAmT9GtaOGbp2bPzfS0YiD854/0gToGE1bnj8MUi2GO8meP6DO91PjpZs/dTK3WabOmD9JyEPqogqVPxbfT42XbpI//UWgwmqQgj8nTS88Wyl6P53d4nLHx3A/F0wLJxvXaD+54LynZxVUP78a0KYBbUo/9bZZps6YPT+Nt1mmzpgtP/pDM6ia6RA/",
                        "dtype": "f8"
                      }
                    },
                    {
                      "line": {
                        "color": "red",
                        "dash": "dash"
                      },
                      "mode": "lines",
                      "name": "정규근사",
                      "type": "scatter",
                      "x": {
                        "bdata": "mpmZmZmRZUDMzMzMzPRlQAAAAAAAWGZANDMzMzO7ZkBmZmZmZh5nQJqZmZmZgWdAzMzMzMzkZ0AAAAAAAEhoQDQzMzMzq2hAZmZmZmYOaUCamZmZmXFpQMzMzMzM1GlAAAAAAAA4akA0MzMzM5tqQGZmZmZm/mpAmpmZmZlha0DMzMzMzMRrQAAAAAAAKGxANDMzMzOLbEBmZmZmZu5sQJqZmZmZUW1AzczMzMy0bUAAAAAAABhuQDQzMzMze25AZmZmZmbebkCamZmZmUFvQM3MzMzMpG9AAAAAAAAEcECamZmZmTVwQDMzMzMzZ3BA",
                        "dtype": "f8"
                      },
                      "y": {
                        "bdata": "rR+i4Cqv/T5tX1q0EWYSP1+Syd7zayU/jjONPwRtNz8mgduUlw9IP25dvRQnNlc/wZfvQBIIZT+j7B06+uVxP2jkrxLgnHw/NJ/cBR17hT+3/2CjJkuOP2NOiCIYEJQ/m0LkrrT1mD901S34RSqdPyvVU7cOAaA/SQ7IeDx/oD/EaajOj/GfP89MRlUjDJ0/4PcQTA/PmD/Jn1Oqt+aTP7HZXW4i/Y0/QQX8nMs4hT9kQFiU6zV8Pz4uq/1ynHE/r9CtN/imZD+pS9fQMr9WP5JW0UoXiEc/SNGTWz7dNj+GAxDIqt0kP5wS1jWY4hE/",
                        "dtype": "f8"
                      }
                    }
                  ],
                  "name": "n=730"
                },
                {
                  "data": [
                    {
                      "marker": {
                        "color": "blue"
                      },
                      "name": "이항분포 샘플",
                      "opacity": 0.7,
                      "type": "bar",
                      "x": {
                        "bdata": "mpmZmZlxZkDMzMzMzNRmQAAAAAAAOGdANDMzMzObZ0BmZmZmZv5nQJqZmZmZYWhAzMzMzMzEaEAAAAAAAChpQDQzMzMzi2lAZmZmZmbuaUCamZmZmVFqQMzMzMzMtGpAAAAAAAAYa0A0MzMzM3trQGZmZmZm3mtAmpmZmZlBbEDMzMzMzKRsQAAAAAAACG1ANDMzMzNrbUBmZmZmZs5tQJqZmZmZMW5AzczMzMyUbkAAAAAAAPhuQDQzMzMzW29AZmZmZma+b0DNzMzMzBBwQGZmZmZmQnBAAAAAAAB0cECamZmZmaVwQDMzMzMz13BA",
                        "dtype": "f8"
                      },
                      "y": {
                        "bdata": "QrdZps6YLT+0fUanNEE3P3d9Rqc0QTc/ehrQpgFtSj96GtCmAW1aP7R9Rqc0QWc/mt+YkifDcj8uqjrY3baAP1CvgSdOq4U/PrkPxi6Ujz8fM0lkxneZP71OU1Gbe5s/0R3z4DEPnj+D69xQaKeePyUGDC6NrZ8/bTf+qBbDnT+2ZxUU8NqaP5wWrWzRypY/b1/0j9+Ykj+ctBF8TvSKP3dOU1Gbe4s/VEif51rgdD9H53ARqLBqPxV3kj30pWA/OeZM/GdeWT/35Uz8Z15JPxkgYPsBtj8/9+VM/GdeGT9RRDOomukQP/pDM6ia6RA/",
                        "dtype": "f8"
                      }
                    },
                    {
                      "line": {
                        "color": "red",
                        "dash": "dash"
                      },
                      "mode": "lines",
                      "name": "정규근사",
                      "type": "scatter",
                      "x": {
                        "bdata": "mpmZmZlxZkDMzMzMzNRmQAAAAAAAOGdANDMzMzObZ0BmZmZmZv5nQJqZmZmZYWhAzMzMzMzEaEAAAAAAAChpQDQzMzMzi2lAZmZmZmbuaUCamZmZmVFqQMzMzMzMtGpAAAAAAAAYa0A0MzMzM3trQGZmZmZm3mtAmpmZmZlBbEDMzMzMzKRsQAAAAAAACG1ANDMzMzNrbUBmZmZmZs5tQJqZmZmZMW5AzczMzMyUbkAAAAAAAPhuQDQzMzMzW29AZmZmZma+b0DNzMzMzBBwQGZmZmZmQnBAAAAAAAB0cECamZmZmaVwQDMzMzMz13BA",
                        "dtype": "f8"
                      },
                      "y": {
                        "bdata": "sTyuHH5zGT/rgdtCaMYsPxju/GQElT4/8DtVPraNTj+eitA/zrFcP+5U07MmVWk/QtUnawAGdT93xTevqGaAP9l+5fEmDog/qgc7CUCVkD8fMUTyG36VP3WtbGVyL5o/pr3BZFT9nT+Sg2GRtiSgP6lIdKt5VqA/cGaS3wIWnz/CXy+b3cybPyjsBYv1Xpc/Zu1Jxxh4kj+g/Io/u3CLP9Q9Q0qIKYM/ukun7XAoeT9AZCzXjQxvP9waO8rFAmI/Z3Yp1G2kUz/H6ywtECNEP7nb/5T3ZzM/tMVDKo+UIT9pnE1nRPENP1/FzTY5+Pc+",
                        "dtype": "f8"
                      }
                    }
                  ],
                  "name": "n=740"
                },
                {
                  "data": [
                    {
                      "marker": {
                        "color": "blue"
                      },
                      "name": "이항분포 샘플",
                      "opacity": 0.7,
                      "type": "bar",
                      "x": {
                        "bdata": "zczMzMy0ZkBmZmZmZh5nQAAAAAAAiGdAmpmZmZnxZ0AzMzMzM1toQM3MzMzMxGhAZmZmZmYuaUAAAAAAAJhpQJqZmZmZAWpAMzMzMzNrakDNzMzMzNRqQGZmZmZmPmtAAAAAAACoa0CamZmZmRFsQDMzMzMze2xAzczMzMzkbEBmZmZmZk5tQAAAAAAAuG1AmpmZmZkhbkAzMzMzM4tuQM3MzMzM9G5AZmZmZmZeb0AAAAAAAMhvQMzMzMzMGHBAmpmZmZlNcEBmZmZmZoJwQDQzMzMzt3BAAAAAAADscEDMzMzMzCBxQJqZmZmZVXFA",
                        "dtype": "f8"
                      },
                      "y": {
                        "bdata": "yRPAPQHcIz+RsRlKztQnP2WsqfrN3UI/eBZ4ZYFXVj/ermEiTllVP21Muy4bUmk/FRzWvmHtez907MxiaMZ/P5Tlm/BXo4g/6er5STg5jj9wAoP1/CScP1pMxCmrApk/l2i9JHDlmz/Rk0Q7SbSjP0dOhUy7Lps/qk2XQtuPmj/IT2Fge2ycP1Ffy49PlpI/s+hBIri9iz+heQNoBE2DPyh3S0CE0YA/nYEi5PQOaz/tQ7ej2qFgP1exGUrO1Fc/V7EZSs7UNz/JE8A9AdwzP1exGUrO1Cc/Du3MYmjG/z5XsRlKztQXP3TszGJoxv8+",
                        "dtype": "f8"
                      }
                    },
                    {
                      "line": {
                        "color": "red",
                        "dash": "dash"
                      },
                      "mode": "lines",
                      "name": "정규근사",
                      "type": "scatter",
                      "x": {
                        "bdata": "zczMzMy0ZkBmZmZmZh5nQAAAAAAAiGdAmpmZmZnxZ0AzMzMzM1toQM3MzMzMxGhAZmZmZmYuaUAAAAAAAJhpQJqZmZmZAWpAMzMzMzNrakDNzMzMzNRqQGZmZmZmPmtAAAAAAACoa0CamZmZmRFsQDMzMzMze2xAzczMzMzkbEBmZmZmZk5tQAAAAAAAuG1AmpmZmZkhbkAzMzMzM4tuQM3MzMzM9G5AZmZmZmZeb0AAAAAAAMhvQMzMzMzMGHBAmpmZmZlNcEBmZmZmZoJwQDQzMzMzt3BAAAAAAADscEDMzMzMzCBxQJqZmZmZVXFA",
                        "dtype": "f8"
                      },
                      "y": {
                        "bdata": "VeCiWvJfFT87iqZo05opP/SxdN1vnzw/UCYa6eTbTT+Wz+YWTRFdP/yscQUgaGo/jV3kIAZjdj/VePaP/7WBP0w24CC3Joo/UNWNw18Ekj/FarJG3yqXP0pd+aDKzJs/haLsT1Mhnz+2/qf45kOgP/4QpK4HuZ8/+szkYVLenD/7dDDdD4SYP3PieW68bZM/z42neaW8jD/VNBpwItWDP9jWnha4i3k/PhysO+G0bj8HUZJm2DhhP2rA3xwXB1I/upbp1z2cQT91t+q5qA0wP1j6shMTUBs/TpTiz7OuBT93WoZJFBDwPs8t3r2aNdY+",
                        "dtype": "f8"
                      }
                    }
                  ],
                  "name": "n=750"
                },
                {
                  "data": [
                    {
                      "marker": {
                        "color": "blue"
                      },
                      "name": "이항분포 샘플",
                      "opacity": 0.7,
                      "type": "bar",
                      "x": {
                        "bdata": "ERERERFxZ0AzMzMzM9NnQFVVVVVVNWhAeHd3d3eXaECamZmZmfloQLy7u7u7W2lA3t3d3d29aUAAAAAAACBqQCIiIiIigmpARERERETkakBmZmZmZkZrQImIiIiIqGtAq6qqqqoKbEDNzMzMzGxsQO/u7u7uzmxAERERERExbUAzMzMzM5NtQFVVVVVV9W1AeHd3d3dXbkCamZmZmbluQLy7u7u7G29A3t3d3d19b0AAAAAAAOBvQBERERERIXBAIiIiIiJScEA0MzMzM4NwQEREREREtHBAVlVVVVXlcEBmZmZmZhZxQHh3d3d3R3FA",
                        "dtype": "f8"
                      },
                      "y": {
                        "bdata": "RVhTiL87Mz/3mlzQ1F41P8GlgfAp600/bN1lGOqBVz/3mlzQ1F5lP5WOTTvS5XE/4873U+Olez94V97NaMWFP1QzQJ2ulY0/m4BUMSKAkz+suyYXNLWXP9Uw1AMv0Jo/3pve9KY3nT8Rm2k6UMGfP19YYPI6np0/zsDx37fdoj8IcXGyxC2aP/QhWdWskZQ/NLnH5y9Sjz+OoR54gdaFP0++hUY4GIA/vqnKlNs6cT/d614imudlP449S+kMXWE/P2ZMkm+hUT8OY3ioFMg7P1wgb2D/pDk/khVKQKoYIT+SFUpAqhgRP5IVSkCqGBE/",
                        "dtype": "f8"
                      }
                    },
                    {
                      "line": {
                        "color": "red",
                        "dash": "dash"
                      },
                      "mode": "lines",
                      "name": "정규근사",
                      "type": "scatter",
                      "x": {
                        "bdata": "ERERERFxZ0AzMzMzM9NnQFVVVVVVNWhAeHd3d3eXaECamZmZmfloQLy7u7u7W2lA3t3d3d29aUAAAAAAACBqQCIiIiIigmpARERERETkakBmZmZmZkZrQImIiIiIqGtAq6qqqqoKbEDNzMzMzGxsQO/u7u7uzmxAERERERExbUAzMzMzM5NtQFVVVVVV9W1AeHd3d3dXbkCamZmZmbluQLy7u7u7G29A3t3d3d19b0AAAAAAAOBvQBERERERIXBAIiIiIiJScEA0MzMzM4NwQEREREREtHBAVlVVVVXlcEBmZmZmZhZxQHh3d3d3R3FA",
                        "dtype": "f8"
                      },
                      "y": {
                        "bdata": "1ogqtCB8KD+YoZdLK945P3CnCNHdw0k/uDy0FrwxWD/fhfBnTmtlP7VS09mV4HE/SegWNXEifD+zPjnBJd+EP6ZPyaUCMo0/p+SzSzZAkz8kF7kVO++XP7ATRg0MDpw/1LbM+rkAnz9HzMVyaSagP+h4p9TauZ8/Qk0QNwFhnT9vPiqEEqaZP6pIA0ZdHJU/bVe9xadhkD/oMRKs7PeHP4Z26vIBiIA/m4x9W6p/dT9/USD73ltqP/nazvLtd14/tf67DgyaUD/J8p9uhg5BP2CPS8t7hTA/yaKjI6IsHj8IadygZfoJP2Fna3XrFfU+",
                        "dtype": "f8"
                      }
                    }
                  ],
                  "name": "n=760"
                },
                {
                  "data": [
                    {
                      "marker": {
                        "color": "blue"
                      },
                      "name": "이항분포 샘플",
                      "opacity": 0.7,
                      "type": "bar",
                      "x": {
                        "bdata": "MzMzMzMzZ0CamZmZmZlnQAAAAAAAAGhAZmZmZmZmaEDNzMzMzMxoQDMzMzMzM2lAmpmZmZmZaUAAAAAAAABqQGZmZmZmZmpAzczMzMzMakAzMzMzMzNrQJqZmZmZmWtAAAAAAAAAbEBmZmZmZmZsQM3MzMzMzGxAMzMzMzMzbUCamZmZmZltQAAAAAAAAG5AZmZmZmZmbkDNzMzMzMxuQDMzMzMzM29AmpmZmZmZb0AAAAAAAABwQDQzMzMzM3BAZmZmZmZmcECamZmZmZlwQMzMzMzMzHBAAAAAAAAAcUA0MzMzMzNxQGZmZmZmZnFA",
                        "dtype": "f8"
                      },
                      "y": {
                        "bdata": "DKrx0k1iAD/Vfmq8dJMoP48UrkfhejQ/ErTIdr6fOj+txCCwcmhRP0YzMzMzM2M/O5HtfD81bj91ukkMAit3Px20yHa+n4I/bg4tsp3vhz+WPzVeukmYP8kmMQisHJY/CajGSzeJmT8vObTIdr6bP97KoUW2850/1MqhRbbzoz9ibOf7qfGaP88ehetRuJY/aOtRuB6Fkz9BBoGVQ4uMP+9NYhBYOYw/561H4XoUfj+BcmiR7XxvPzfb+X5qvGQ/0UkMAiuHVj/goUW28/1UP9cehetRuD4/mH5qvHSTGD8Sf2q8dJMoPwyq8dJNYhA/",
                        "dtype": "f8"
                      }
                    },
                    {
                      "line": {
                        "color": "red",
                        "dash": "dash"
                      },
                      "mode": "lines",
                      "name": "정규근사",
                      "type": "scatter",
                      "x": {
                        "bdata": "MzMzMzMzZ0CamZmZmZlnQAAAAAAAAGhAZmZmZmZmaEDNzMzMzMxoQDMzMzMzM2lAmpmZmZmZaUAAAAAAAABqQGZmZmZmZmpAzczMzMzMakAzMzMzMzNrQJqZmZmZmWtAAAAAAAAAbEBmZmZmZmZsQM3MzMzMzGxAMzMzMzMzbUCamZmZmZltQAAAAAAAAG5AZmZmZmZmbkDNzMzMzMxuQDMzMzMzM29AmpmZmZmZb0AAAAAAAABwQDQzMzMzM3BAZmZmZmZmcECamZmZmZlwQMzMzMzMzHBAAAAAAAAAcUA0MzMzMzNxQGZmZmZmZnFA",
                        "dtype": "f8"
                      },
                      "y": {
                        "bdata": "uAsbVAoRDD/IWXL6xbEgP7jAszQ6pDI/BId1JdKJQz8ForGDwzhTPxQwSB31v2E/ONhatwvFbj805SQVjQh5PzQo3WXiHYM/zUl0XsNniz8QyPrYO3CSP42AOQnUSZc/LvegWPCbmz8G6xgCFrmeP3R63JmJC6A/LbavVBl2nz/GTQ6cu/OcP/OMAwwQApk/a6DxRZlGlD9stbkSR9yOP4+sTb5RC4Y/1VxZKYiPfT/5MEWgkZpyP5Jzwm65+mU/H06as8BfWD9GtZjL9V5JP4rdRAnAyTg/3CIw64O7Jj/utEM/bZETP5DZ79b+nv8+",
                        "dtype": "f8"
                      }
                    }
                  ],
                  "name": "n=770"
                },
                {
                  "data": [
                    {
                      "marker": {
                        "color": "blue"
                      },
                      "name": "이항분포 샘플",
                      "opacity": 0.7,
                      "type": "bar",
                      "x": {
                        "bdata": "RERERET0ZkDNzMzMzFxnQFZVVVVVxWdA3t3d3d0taEBmZmZmZpZoQO/u7u7u/mhAeHd3d3dnaUAAAAAAANBpQIiIiIiIOGpAERERERGhakCamZmZmQlrQCIiIiIicmtAqqqqqqraa0A0MzMzM0NsQLy7u7u7q2xAREREREQUbUDMzMzMzHxtQFZVVVVV5W1A3t3d3d1NbkBmZmZmZrZuQO7u7u7uHm9AeHd3d3eHb0AAAAAAAPBvQERERERELHBAiIiIiIhgcEDNzMzMzJRwQBERERERyXBAVlVVVVX9cECamZmZmTFxQN7d3d3dZXFA",
                        "dtype": "f8"
                      },
                      "y": {
                        "bdata": "Hba9ubQMED8AAAAAAAAAAB22vbm0DAA/1iMt6OEPJD/wR9StpRQ6P0W2vbm0DFA/4Wz1UEsOUj8KP7uA2FRqP7DDBAYwL3M/HfEHClD5fz8U+EYWNwKHP6OqUI4foZU/MfBX6E2YlD8IcPlwFRuYPyx46J7+hJo/Jx7VyU9Xoz/F3/+umc+dP13DRxe/NJo/tUWAr91onz/I+poU/62RPzND6Z+Gt40/4PWvBuBQhT8s1jZgyq6CP97DBAYwL3M/enVRj6fTaD/DtUPc0hdeP9YjLejhD1Q/tWz1UEsOMj/6/gtFPBYsP0W2vbm0DBA/",
                        "dtype": "f8"
                      }
                    },
                    {
                      "line": {
                        "color": "red",
                        "dash": "dash"
                      },
                      "mode": "lines",
                      "name": "정규근사",
                      "type": "scatter",
                      "x": {
                        "bdata": "RERERET0ZkDNzMzMzFxnQFZVVVVVxWdA3t3d3d0taEBmZmZmZpZoQO/u7u7u/mhAeHd3d3dnaUAAAAAAANBpQIiIiIiIOGpAERERERGhakCamZmZmQlrQCIiIiIicmtAqqqqqqraa0A0MzMzM0NsQLy7u7u7q2xAREREREQUbUDMzMzMzHxtQFZVVVVV5W1A3t3d3d1NbkBmZmZmZrZuQO7u7u7uHm9AeHd3d3eHb0AAAAAAAPBvQERERERELHBAiIiIiIhgcEDNzMzMzJRwQBERERERyXBAVlVVVVX9cECamZmZmTFxQN7d3d3dZXFA",
                        "dtype": "f8"
                      },
                      "y": {
                        "bdata": "ucWNTMNW7D7sLOk4d7kCP+5wZ9LkLhc/kAGB36vkKj9zw2hYvDo9P5548hnRw00/k6k9BwVmXD85t+ZSzmJpP+nOs3wAQ3U/abvLRTSvgD+88xgZkoiIP5ohv61h5pA/4To/Z4rQlT/HLBLy72GaP7+mByoI5Z0/rXiEReG8nz9Qk2YRyZGfP1aP+q3ma50/iWjUTbawmT9Qm/yZdwSVP/hYOTQvHJA/XrphT7Mjhz9k6e9lxiN/PyWIl1qroXM/i/IhWAkxZz8UX59NUatZP4If2Kignko/BKLvFTvdOT9bMbTnkYsnP0J1FYIPFRQ/",
                        "dtype": "f8"
                      }
                    }
                  ],
                  "name": "n=780"
                },
                {
                  "data": [
                    {
                      "marker": {
                        "color": "blue"
                      },
                      "name": "이항분포 샘플",
                      "opacity": 0.7,
                      "type": "bar",
                      "x": {
                        "bdata": "ERERERGxZ0AzMzMzMxNoQFVVVVVVdWhAeHd3d3fXaECamZmZmTlpQLy7u7u7m2lA3t3d3d39aUAAAAAAAGBqQCIiIiIiwmpAREREREQka0BmZmZmZoZrQImIiIiI6GtAq6qqqqpKbEDNzMzMzKxsQO/u7u7uDm1AERERERFxbUAzMzMzM9NtQFVVVVVVNW5AeHd3d3eXbkCamZmZmfluQLy7u7u7W29A3t3d3d29b0AAAAAAABBwQBERERERQXBAIiIiIiJycEA0MzMzM6NwQERERERE1HBAVlVVVVUFcUBmZmZmZjZxQHh3d3d3Z3FA",
                        "dtype": "f8"
                      },
                      "y": {
                        "bdata": "khVKQKoYAT9cIG9g/6QZP5IVSkCqGCE/xWJ4qBTIOz+p3WUY6oFHPz9mTJJvoVE/7i9S31z3Yj8TVX+eZGJtP4kt869YlHo/1mwOOhwZgj+FC7SuoseKP1cpkDewf5I/eFfezWjFlT8KK4cW2c6XP9XvwZpC/J0/eTTp//KVpD/sOQJFWw2eP1G6PKKGyJw/LmqvChi2mT+sl3t8/iKVP6hfiurCKZE/x5Kws3r6iT8FbQ46HBmCP9ema2XX13g/aIHJ63j2cD+j614imudlPwhxcbLELVo/XCBvYP+kST/BpYHwKestP5IVSkCqGDE/",
                        "dtype": "f8"
                      }
                    },
                    {
                      "line": {
                        "color": "red",
                        "dash": "dash"
                      },
                      "mode": "lines",
                      "name": "정규근사",
                      "type": "scatter",
                      "x": {
                        "bdata": "ERERERGxZ0AzMzMzMxNoQFVVVVVVdWhAeHd3d3fXaECamZmZmTlpQLy7u7u7m2lA3t3d3d39aUAAAAAAAGBqQCIiIiIiwmpAREREREQka0BmZmZmZoZrQImIiIiI6GtAq6qqqqpKbEDNzMzMzKxsQO/u7u7uDm1AERERERFxbUAzMzMzM9NtQFVVVVVVNW5AeHd3d3eXbkCamZmZmfluQLy7u7u7W29A3t3d3d29b0AAAAAAABBwQBERERERQXBAIiIiIiJycEA0MzMzM6NwQERERERE1HBAVlVVVVUFcUBmZmZmZjZxQHh3d3d3Z3FA",
                        "dtype": "f8"
                      },
                      "y": {
                        "bdata": "n1XL42JCAj8xD7RXLFcVP5MunScukSc/zgq89HmXOD/b/f7/JD9IPxTby6nFllY/KDwEdoLiYz9cOdxQKYpwP5gOSQCP/3k/jBiJM5FOgz8omQ4aXBiLPz4FoRz79pE/h7KKimOClj9Z4EVRM6aaP+xexHvOz50/RqXj5/uCnz8xALaEDHmfPyLXFNKks50/DbgUI0t8mj9UW2zt5FCWP4iRD15BxJE/9BqMkfe6ij/0UuwwBACDPx9O7haphXk/lGXSMmEycD8Fw5z9s2xjP+tjnxIKA1Y/BoxaUK6RRz9OVfLsetg3P+BOfam9yyY/",
                        "dtype": "f8"
                      }
                    }
                  ],
                  "name": "n=790"
                },
                {
                  "data": [
                    {
                      "marker": {
                        "color": "blue"
                      },
                      "name": "이항분포 샘플",
                      "opacity": 0.7,
                      "type": "bar",
                      "x": {
                        "bdata": "MzMzMzNTaECamZmZmbloQAAAAAAAIGlAZmZmZmaGaUDNzMzMzOxpQDMzMzMzU2pAmpmZmZm5akAAAAAAACBrQGZmZmZmhmtAzczMzMzsa0AzMzMzM1NsQJqZmZmZuWxAAAAAAAAgbUBmZmZmZoZtQM3MzMzM7G1AMzMzMzNTbkCamZmZmbluQAAAAAAAIG9AZmZmZmaGb0DNzMzMzOxvQJqZmZmZKXBAzMzMzMxccEAAAAAAAJBwQDQzMzMzw3BAZmZmZmb2cECamZmZmSlxQMzMzMzMXHFAAAAAAACQcUA0MzMzM8NxQGZmZmZm9nFA",
                        "dtype": "f8"
                      },
                      "y": {
                        "bdata": "En9qvHSTGD8AAAAAAAAAAAyq8dJNYkA/46nx0k1iQD9dN4lBYOVQP3JkO99PjWc/ih6F61G4bj+376fGSzd5PyDfT42XboI/FKrx0k1iiD8rrkfhehSWP52fGi/dJJY/3iCwcmiRmT/T1HjpJjGcPzYEVg4tsp0/OAaBlUOLoj+2T42XbhKbP+BLN4lBYJk/eBgEVg4tkj+dlUOLbOeLP4EQWDm0yI4/TQisHFpkez9AbOf7qfFyP7OZmZmZmWk/BCcxCKwcWj/+UbgehetRPwyq8dJNYkA/KRSuR+F6ND8Sf2q8dJMoPwyq8dJNYgA/",
                        "dtype": "f8"
                      }
                    },
                    {
                      "line": {
                        "color": "red",
                        "dash": "dash"
                      },
                      "mode": "lines",
                      "name": "정규근사",
                      "type": "scatter",
                      "x": {
                        "bdata": "MzMzMzNTaECamZmZmbloQAAAAAAAIGlAZmZmZmaGaUDNzMzMzOxpQDMzMzMzU2pAmpmZmZm5akAAAAAAACBrQGZmZmZmhmtAzczMzMzsa0AzMzMzM1NsQJqZmZmZuWxAAAAAAAAgbUBmZmZmZoZtQM3MzMzM7G1AMzMzMzNTbkCamZmZmbluQAAAAAAAIG9AZmZmZmaGb0DNzMzMzOxvQJqZmZmZKXBAzMzMzMxccEAAAAAAAJBwQDQzMzMzw3BAZmZmZmb2cECamZmZmSlxQMzMzMzMXHFAAAAAAACQcUA0MzMzM8NxQGZmZmZm9nFA",
                        "dtype": "f8"
                      },
                      "y": {
                        "bdata": "bxJLuRJ8ET96hWQxkyIkP6LomIjs0DU/hdyE/2E9Rj/j9KnFv1RVP2e2af7oP2M/N9VYlxlYcD/LfjOW+hx6P31uCImLoIM/ugkg8XDCiz+KC+tgUHiSPwmrUR/3H5c/7vNV0ag9mz/BwN4oIzGeP90mAzLoe58/59ZZfdbjnj8zjuq42oOcP2y67rwlxJg/ztwj5v48lD81zEvA1R6PP1PEW+ocg4Y/UCIuNuWkfj9TL8EcnJ9zP8FVcZ90pWc/Gmg4ZBbPWj/TLEcx5phMP89mZ0B5szw/VClz0RgaKz9ZdYflHxQYP05nLgCoIAQ/",
                        "dtype": "f8"
                      }
                    }
                  ],
                  "name": "n=800"
                },
                {
                  "data": [
                    {
                      "marker": {
                        "color": "blue"
                      },
                      "name": "이항분포 샘플",
                      "opacity": 0.7,
                      "type": "bar",
                      "x": {
                        "bdata": "MzMzMzNzaECamZmZmdloQAAAAAAAQGlAZmZmZmamaUDNzMzMzAxqQDMzMzMzc2pAmpmZmZnZakAAAAAAAEBrQGZmZmZmpmtAzczMzMwMbEAzMzMzM3NsQJqZmZmZ2WxAAAAAAABAbUBmZmZmZqZtQM3MzMzMDG5AMzMzMzNzbkCamZmZmdluQAAAAAAAQG9AZmZmZmamb0BmZmZmZgZwQJqZmZmZOXBAzMzMzMxscEAAAAAAAKBwQDQzMzMz03BAZmZmZmYGcUCamZmZmTlxQMzMzMzMbHFAAAAAAACgcUA0MzMzM9NxQGZmZmZmBnJA",
                        "dtype": "f8"
                      },
                      "y": {
                        "bdata": "DKrx0k1iAD/jqfHSTWIgPxJ/arx0kyg/TukmMQisPD/XHoXrUbg+P9cehetRuF4/8YLAyqFFZj/v+X5qvHRzP94BK4cW2X4/NrByaJHthD+Z61G4HoWTP4ibxCCwcpQ/ezvfT42Xlj9uQ4ts5/uZP7vvp8ZLN50/RQisHFpkoz9A5/up8dKdPxJ/arx0k5g/GLTIdr6flj81BoGVQ4uQP97MzMzMzJA/TwrXo3A9gj9s9Shcj8J1P07fT42XbnI/lukmMQisXD+zmZmZmZlZP+/5fmq8dEM/KRSuR+F6ND+W6SYxCKwsP9FJDAIrhzY/",
                        "dtype": "f8"
                      }
                    },
                    {
                      "line": {
                        "color": "red",
                        "dash": "dash"
                      },
                      "mode": "lines",
                      "name": "정규근사",
                      "type": "scatter",
                      "x": {
                        "bdata": "MzMzMzNzaECamZmZmdloQAAAAAAAQGlAZmZmZmamaUDNzMzMzAxqQDMzMzMzc2pAmpmZmZnZakAAAAAAAEBrQGZmZmZmpmtAzczMzMwMbEAzMzMzM3NsQJqZmZmZ2WxAAAAAAABAbUBmZmZmZqZtQM3MzMzMDG5AMzMzMzNzbkCamZmZmdluQAAAAAAAQG9AZmZmZmamb0BmZmZmZgZwQJqZmZmZOXBAzMzMzMxscEAAAAAAAKBwQDQzMzMz03BAZmZmZmYGcUCamZmZmTlxQMzMzMzMbHFAAAAAAACgcUA0MzMzM9NxQGZmZmZmBnJA",
                        "dtype": "f8"
                      },
                      "y": {
                        "bdata": "/ywVSWy5BT+zEXWb3LUZPxHKA0Zxpiw/MsDcxZIPPj/6ys2DvrJNP7MiA2Q2oFs/M8EOnFkyaD/6fHPrevRzP++IbiWn/X4/Hc3ZiLKohj8pyV99zDKPP2axv5EmOZQ/Upvtc6uvmD8GwXBNoF+cP2ptKh/TtJ4/gnr5HhtKnz+JcFrgWgWeP6ZbWKn3Hps/2pZiodcRlz+PMN0ZJHqSPxDmhtNO3os/2TQT/+HJgz9FC2AF+3V6Pzhc3URnqHA/53OnLW6/Yz88vWCDCwtWPwU6qbjzKkc/JxWNdlztNj9WsjSqD10lPyh6MeBUvhI/",
                        "dtype": "f8"
                      }
                    }
                  ],
                  "name": "n=810"
                },
                {
                  "data": [
                    {
                      "marker": {
                        "color": "blue"
                      },
                      "name": "이항분포 샘플",
                      "opacity": 0.7,
                      "type": "bar",
                      "x": {
                        "bdata": "MzMzMzPbaECamZmZmVFpQAAAAAAAyGlAZmZmZmY+akDNzMzMzLRqQDMzMzMzK2tAmpmZmZmha0AAAAAAABhsQGZmZmZmjmxAzczMzMwEbUAzMzMzM3ttQJqZmZmZ8W1AAAAAAABobkBmZmZmZt5uQM3MzMzMVG9AMzMzMzPLb0DMzMzMzCBwQAAAAAAAXHBANDMzMzOXcEBmZmZmZtJwQJqZmZmZDXFAzMzMzMxIcUAAAAAAAIRxQDQzMzMzv3FAZmZmZmb6cUCamZmZmTVyQMzMzMzMcHJAAAAAAACsckA0MzMzM+dyQGZmZmZmInNA",
                        "dtype": "f8"
                      },
                      "y": {
                        "bdata": "BNqvJwNXDD9V48NdQkEVP8PeucIizDg/jt65wiLMSD/aKC/sBUVhP58CsnBM62U/wFkZ1qR+cD8JcIl95OCBP8bZrycDV4w/Ot4j+K0pjz8FToDS1VmZPwHyWTeYIp8/YF7YC4oioD/1nVjPfj2ZP6TXKlpzHJ4/FzyE+0DKmj9hLvz0Vg2PP2FG8Wkmqo4/UiiZIZGihz9vge+JBM52P4+IfvKzfXE/Cqrx0k1iYD/DqfHSTWJQP8PeucIizDg/w965wiLMOD+D48NdQkElPwTarycDV/w+idmvJwNX/D4AAAAAAAAAAATarycDV/w+",
                        "dtype": "f8"
                      }
                    },
                    {
                      "line": {
                        "color": "red",
                        "dash": "dash"
                      },
                      "mode": "lines",
                      "name": "정규근사",
                      "type": "scatter",
                      "x": {
                        "bdata": "MzMzMzPbaECamZmZmVFpQAAAAAAAyGlAZmZmZmY+akDNzMzMzLRqQDMzMzMzK2tAmpmZmZmha0AAAAAAABhsQGZmZmZmjmxAzczMzMwEbUAzMzMzM3ttQJqZmZmZ8W1AAAAAAABobkBmZmZmZt5uQM3MzMzMVG9AMzMzMzPLb0DMzMzMzCBwQAAAAAAAXHBANDMzMzOXcEBmZmZmZtJwQJqZmZmZDXFAzMzMzMxIcUAAAAAAAIRxQDQzMzMzv3FAZmZmZmb6cUCamZmZmTVyQMzMzMzMcHJAAAAAAACsckA0MzMzM+dyQGZmZmZmInNA",
                        "dtype": "f8"
                      },
                      "y": {
                        "bdata": "mrUb8Z8QCT+6Jql22pUgP3SSm4mDRTQ/pw4IjSriRj9v8hyll9tXP52Is+sB+WY/sItDog9udD8NI58vtseAP6pTNF1JdYk/prmvARDWkT/7Z161FRWXP6tnyw+4lps/Dwu3hXN0nj8aBSmjrwyfPxAYdtOSPJ0/d05WtfdsmT8BiDtX8GuUP27IHulBTI4/gnlInfLBhD/EqEDC5UR6P6izd3oWtG4/A9F9iGiSYD9iNYqEnYVQP6tyRQoybT4//NVXthzgKT/QwLCZyVIUP3AOLuxGfP0+1qUtsh3B4z7euFgTX3LIPrMzWX0U8as+",
                        "dtype": "f8"
                      }
                    }
                  ],
                  "name": "n=820"
                },
                {
                  "data": [
                    {
                      "marker": {
                        "color": "blue"
                      },
                      "name": "이항분포 샘플",
                      "opacity": 0.7,
                      "type": "bar",
                      "x": {
                        "bdata": "vLu7u7tzaUAzMzMzM9tpQKqqqqqqQmpAIiIiIiKqakCamZmZmRFrQBEREREReWtAiIiIiIjga0AAAAAAAEhsQHh3d3d3r2xA7+7u7u4WbUBmZmZmZn5tQN7d3d3d5W1AVlVVVVVNbkDMzMzMzLRuQEREREREHG9AvLu7u7uDb0A0MzMzM+tvQFZVVVVVKXBAERERERFdcEDNzMzMzJBwQIiIiIiIxHBARERERET4cEAAAAAAACxxQLy7u7u7X3FAeHd3d3eTcUAzMzMzM8dxQO/u7u7u+nFAqqqqqqouckBmZmZmZmJyQCIiIiIilnJA",
                        "dtype": "f8"
                      },
                      "y": {
                        "bdata": "s8IWUhA3ID+KwhZSEDcgPwmbWVzyPTI/3JpZXPI9Qj+NaIaK61xbPyIYVCX4A2Q/pH6O/xjgcj/EOuJpfTx7PzvJRxhq64o/IDVpHdvuiz803xiewAGRP0FiMYHtW5Y/lepBJtwJoT/9B/zrQzudP7UH/OtDO50/OfybdFHGmz+xS01PZCWZP77JtfYXxZ0/R8jGjYnxkD+7bZH439CHP0L2oZ3OfoI/0T8RGxb9gT/H5MjZObxxP35L33C2S2Y/jEbUAsLXWT/H5MjZObxRP9AjInuYUjg/NptZXPI9Mj/QIyJ7mFIYP4rCFlIQNwA/",
                        "dtype": "f8"
                      }
                    },
                    {
                      "line": {
                        "color": "red",
                        "dash": "dash"
                      },
                      "mode": "lines",
                      "name": "정규근사",
                      "type": "scatter",
                      "x": {
                        "bdata": "vLu7u7tzaUAzMzMzM9tpQKqqqqqqQmpAIiIiIiKqakCamZmZmRFrQBEREREReWtAiIiIiIjga0AAAAAAAEhsQHh3d3d3r2xA7+7u7u4WbUBmZmZmZn5tQN7d3d3d5W1AVlVVVVVNbkDMzMzMzLRuQEREREREHG9AvLu7u7uDb0A0MzMzM+tvQFZVVVVVKXBAERERERFdcEDNzMzMzJBwQIiIiIiIxHBARERERET4cEAAAAAAACxxQLy7u7u7X3FAeHd3d3eTcUAzMzMzM8dxQO/u7u7u+nFAqqqqqqouckBmZmZmZmJyQCIiIiIilnJA",
                        "dtype": "f8"
                      },
                      "y": {
                        "bdata": "8flM2h6FFT/ZYaFktDsoP5tyA6orszk/XY85OCqrST/u9V39FSVYPyFz2B2vY2U/Gqbw12PYcT8/Jcf/FQt8P57HG813wIQ/+z9kDKfsjD9iFt8t+vuSP2mYhk81eJc/phpvHk9Tmz+cQBWCb/adP/z0VDAU8Z4/f3tRXLUXnj/JWAIYIZCbP2+7dze8xpc/sl/TpdpQkz8325vQpo6NP0ou3Co+TIU/AF1MB+/nfD/7JKIsWnlyPwKz9AA0PWY/JcaFFIE2WT8SGHyEmutKP6O1rzPuETs/3MGn0cqiKT+PSHXPSN0WP/0BpaWQNAM/",
                        "dtype": "f8"
                      }
                    }
                  ],
                  "name": "n=830"
                },
                {
                  "data": [
                    {
                      "marker": {
                        "color": "blue"
                      },
                      "name": "이항분포 샘플",
                      "opacity": 0.7,
                      "type": "bar",
                      "x": {
                        "bdata": "ERERERHZaUAzMzMzM0tqQFVVVVVVvWpAeHd3d3cva0CamZmZmaFrQLy7u7u7E2xA3t3d3d2FbEAAAAAAAPhsQCIiIiIiam1ARERERETcbUBnZmZmZk5uQImIiIiIwG5Aq6qqqqoyb0DNzMzMzKRvQHh3d3d3C3BAiIiIiIhEcECamZmZmX1wQKqqqqqqtnBAvLu7u7vvcEDNzMzMzChxQN7d3d3dYXFA7+7u7u6acUAAAAAAANRxQBERERERDXJAIiIiIiJGckA0MzMzM39yQEREREREuHJAVlVVVVXxckBmZmZmZipzQHh3d3d3Y3NA",
                        "dtype": "f8"
                      },
                      "y": {
                        "bdata": "IjbLuasMFj/Z8g5NOmYtPyI2y7mrDDY/aJNdWX3VUj99FG0Dc7lZPyHERX3RAW8/V/qW0BKXdT+C24tLK1aGPyDhMa7NepA/EIgRlDiMjj/oo/LF5lmZP/KGyWE1JZg/hftUWMdvoD9lOfUM5X+aP1es61nakKA/gyk3wmNcmz/7FAfypV6RPxkMNzzKxpI/xElNRplIgT964d/xnTx/P/BZC5EabHA/ykI209sdaD9QR/oUSDZUP1TyDk06Zj0/UCWcXg/jNz/Z8g5NOmYdPyI2y7mrDBY/2fIOTTpmDT8AAAAAAAAAANnyDk06Zv0+",
                        "dtype": "f8"
                      }
                    },
                    {
                      "line": {
                        "color": "red",
                        "dash": "dash"
                      },
                      "mode": "lines",
                      "name": "정규근사",
                      "type": "scatter",
                      "x": {
                        "bdata": "ERERERHZaUAzMzMzM0tqQFVVVVVVvWpAeHd3d3cva0CamZmZmaFrQLy7u7u7E2xA3t3d3d2FbEAAAAAAAPhsQCIiIiIiam1ARERERETcbUBnZmZmZk5uQImIiIiIwG5Aq6qqqqoyb0DNzMzMzKRvQHh3d3d3C3BAiIiIiIhEcECamZmZmX1wQKqqqqqqtnBAvLu7u7vvcEDNzMzMzChxQN7d3d3dYXFA7+7u7u6acUAAAAAAANRxQBERERERDXJAIiIiIiJGckA0MzMzM39yQEREREREuHJAVlVVVVXxckBmZmZmZipzQHh3d3d3Y3NA",
                        "dtype": "f8"
                      },
                      "y": {
                        "bdata": "Jt8z/zT0Fz+ocfUKrtIsP0f+y3pkIkA/uvVKf3DOUD9+wq4U1klgP0EqhrtHYG0/+EljNZKleD+QifHAdD2DPyDF5pLn8os/l+qLWSzjkj+AkXZYYsCXPyGb0P5Gyps/AQjyCNJAnj8mGqRooqSePysXQ4Dm4Jw/EnmR6m1SmT/MsYkZnKiUP97OA1vmXI8/m9fU/X8mhj+uMfMWbBx9P8/z7CBtzHE/MGmZ8/Y/ZD+ZI4JSk29VP/5uX0PNHEU/8CKZMedYMz8CFfwA/34gP8wlcC1FLAo/6PQAQI1R8z40+SFfyYjaPo4dBx1s9MA+",
                        "dtype": "f8"
                      }
                    }
                  ],
                  "name": "n=840"
                },
                {
                  "data": [
                    {
                      "marker": {
                        "color": "blue"
                      },
                      "name": "이항분포 샘플",
                      "opacity": 0.7,
                      "type": "bar",
                      "x": {
                        "bdata": "3t3d3d2VaUCamZmZmQFqQFVVVVVVbWpAERERERHZakDNzMzMzERrQIiIiIiIsGtAREREREQcbEAAAAAAAIhsQLy7u7u782xAeHd3d3dfbUAzMzMzM8ttQO/u7u7uNm5AqqqqqqqibkBmZmZmZg5vQCIiIiIiem9A3t3d3d3lb0DNzMzMzChwQKuqqqqqXnBAiYiIiIiUcEBmZmZmZspwQEREREREAHFAIiIiIiI2cUAAAAAAAGxxQN7d3d3doXFAvLu7u7vXcUCamZmZmQ1yQHd3d3d3Q3JAVVVVVVV5ckAzMzMzM69yQBERERER5XJA",
                        "dtype": "f8"
                      },
                      "y": {
                        "bdata": "5H+Jk1Ql/z4AAAAAAAAAAOR/iZNUJS8/508YAapAKz/wV/2S/4RBPyL6WBxq31Y/8KOZNyp+Yj/pygZhn4xpP+WSsDyfY38/n8Vl1aSPhD8xk7PobHWRPxHG9pZ74ZA/fzEef5O2lD+kV/rmMXOfP2izXQM645o/KXinrczymj/RsI6To22hP+wfp27/W5c/7WEg0xTtlD/R67MnOgyVP+wfp27/W4c/qwo/ayfohz/srbx3P+Z1P+VGFJh0am4/79wOMwo5Yz9L8DXcVHdTP+bnUEr/Mj0/7YduJappNT/sH6du/1sXP+R/iZNUJR8/",
                        "dtype": "f8"
                      }
                    },
                    {
                      "line": {
                        "color": "red",
                        "dash": "dash"
                      },
                      "mode": "lines",
                      "name": "정규근사",
                      "type": "scatter",
                      "x": {
                        "bdata": "3t3d3d2VaUCamZmZmQFqQFVVVVVVbWpAERERERHZakDNzMzMzERrQIiIiIiIsGtAREREREQcbEAAAAAAAIhsQLy7u7u782xAeHd3d3dfbUAzMzMzM8ttQO/u7u7uNm5AqqqqqqqibkBmZmZmZg5vQCIiIiIiem9A3t3d3d3lb0DNzMzMzChwQKuqqqqqXnBAiYiIiIiUcEBmZmZmZspwQEREREREAHFAIiIiIiI2cUAAAAAAAGxxQN7d3d3doXFAvLu7u7vXcUCamZmZmQ1yQHd3d3d3Q3JAVVVVVVV5ckAzMzMzM69yQBERERER5XJA",
                        "dtype": "f8"
                      },
                      "y": {
                        "bdata": "H8lMMjEM+j4k0v04sUsQP2+4D1aSIiM/5GYqiDUWNT8os9vSz85FP45O/cOAKlU/Im4w03hHYz9WPgwQ63pwP9+YJCwIcXo/+OO7AC/ogz+kDcYFZSGMP/+q5AYWp5I/cJdL1uc2lz+/erdzRx2bPylMJMGSuJ0/w2aDV+eSnj8QfsbyIoSdP5Jat9ruvZo/1FqG6uC8lj/C3/EOziSSP9eQTImjLIs/N2SEzgwZgz/NNoOoJjF5P+A6hZewL28/PF8r+KUdYj/UWqIWccBTP72lxurdNUQ/x/qe6U5oMz8mfQCsY30hP0BwAkh1lQ0/",
                        "dtype": "f8"
                      }
                    }
                  ],
                  "name": "n=850"
                },
                {
                  "data": [
                    {
                      "marker": {
                        "color": "blue"
                      },
                      "name": "이항분포 샘플",
                      "opacity": 0.7,
                      "type": "bar",
                      "x": {
                        "bdata": "7+7u7u52akDNzMzMzORqQKuqqqqqUmtAiIiIiIjAa0BmZmZmZi5sQEREREREnGxAIiIiIiIKbUAAAAAAAHhtQN7d3d3d5W1AvLu7u7tTbkCZmZmZmcFuQHd3d3d3L29AVVVVVVWdb0CamZmZmQVwQIiIiIiIPHBAeHd3d3dzcEBmZmZmZqpwQFZVVVVV4XBAREREREQYcUAzMzMzM09xQCIiIiIihnFAERERERG9cUAAAAAAAPRxQO/u7u7uKnJA3t3d3d1hckDMzMzMzJhyQLy7u7u7z3JAqqqqqqoGc0CamZmZmT1zQIiIiIiIdHNA",
                        "dtype": "f8"
                      },
                      "y": {
                        "bdata": "pbFIKIKKDj/s46g26S0xPzuFNp7h5zY/FOSoNuktQT9QSWUOBBxdP82RzmG7kGM/90XAbvpHdD8Su/p6JQl8P/dQ5fm4W4E/oynrRz0ikj+Uv5T1ox6RP9Mha1yI4p0//eumf0TBmD9mfj6Lz26hP+WocNqCAZw/3aTxNdU3mD+aRAxlslyeP8jgwsWyA5I/fIeD26BykT+MIx9m0M2DP5EneA8ijYI/HOHCxbIDcj9M3dxUfNliP1tW/dHdxFk/VRC7wInQSD+lsUgogoouP+zjqDbpLTE/B28tWZEWIz+lsUgogor+PjuFNp7h5xY/",
                        "dtype": "f8"
                      }
                    },
                    {
                      "line": {
                        "color": "red",
                        "dash": "dash"
                      },
                      "mode": "lines",
                      "name": "정규근사",
                      "type": "scatter",
                      "x": {
                        "bdata": "7+7u7u52akDNzMzMzORqQKuqqqqqUmtAiIiIiIjAa0BmZmZmZi5sQEREREREnGxAIiIiIiIKbUAAAAAAAHhtQN7d3d3d5W1AvLu7u7tTbkCZmZmZmcFuQHd3d3d3L29AVVVVVVWdb0CamZmZmQVwQIiIiIiIPHBAeHd3d3dzcEBmZmZmZqpwQFZVVVVV4XBAREREREQYcUAzMzMzM09xQCIiIiIihnFAERERERG9cUAAAAAAAPRxQO/u7u7uKnJA3t3d3d1hckDMzMzMzJhyQLy7u7u7z3JAqqqqqqoGc0CamZmZmT1zQIiIiIiIdHNA",
                        "dtype": "f8"
                      },
                      "y": {
                        "bdata": "XhgG6tGsFD94baJfnx4oP9pWe4EwXDo/zVUmJAr9Sj/uEtMvxOJZP2LEUpNqQmc/YzmP0TiUcz8xds9TDuF+P0Yfsq/ez4Y/E0KY7jqTjz+mftVCtniUP4DyMx4v3pg/TJnahLhMnD9zGnUKkCuePwRpH7nHIZ4/yg6/RToxnD+rZdI/+LWYPwK/kXtsSpQ/q/GBpY03jz/8BwQiBX+GPzpB/jjhX34/Ns/cCdY1cz8xuUJwf8NmP87W7CgZRVk/D/DkwZRHSj/qJ4ofUpo5PwfE0LAMXic/hL4ccMT6Ez+kDzJL5gAAP86V8918BOg+",
                        "dtype": "f8"
                      }
                    }
                  ],
                  "name": "n=860"
                },
                {
                  "data": [
                    {
                      "marker": {
                        "color": "blue"
                      },
                      "name": "이항분포 샘플",
                      "opacity": 0.7,
                      "type": "bar",
                      "x": {
                        "bdata": "qqqqqqq6akAAAAAAADBrQFZVVVVVpWtAqqqqqqoabEAAAAAAAJBsQFZVVVVVBW1Aqqqqqqp6bUAAAAAAAPBtQFZVVVVVZW5AqqqqqqrabkAAAAAAAFBvQFVVVVVVxW9AVlVVVVUdcEAAAAAAAFhwQKqqqqqqknBAVlVVVVXNcEAAAAAAAAhxQKqqqqqqQnFAVVVVVVV9cUAAAAAAALhxQKqqqqqq8nFAVVVVVVUtckAAAAAAAGhyQKqqqqqqonJAVVVVVVXdckAAAAAAABhzQKqqqqqqUnNAVVVVVVWNc0AAAAAAAMhzQKqqqqqqAnRA",
                        "dtype": "f8"
                      },
                      "y": {
                        "bdata": "wB8XqblyFT8p+pqa2AUpPwDVHoz3mAw/wB8XqblyRT8A0wEdb4hgP2yk5spVAGU/QcNywu4cdT+c9DxB+G+DP+sAi7EgVoU/1Ux29cDmkT9yAMLS7PiZP2+2W3OS2Zc/cUM4G//Hnz/ojQbwFkigPw0qqRPQRJg/6Hk2qz5Xmz/5oirFQ+yVPxWtvC9avog/K6Qd7CGjiT+6RrAmI/B9P4F2XTakMnA/QsYh797nZz/rKLbs8Y1UP5EfF6m5ckU/mzJVMCqpMz/B1B6M95gsP8HUHoz3mAw/PtUejPeY/D4AAAAAAAAAAMHUHoz3mPw+",
                        "dtype": "f8"
                      }
                    },
                    {
                      "line": {
                        "color": "red",
                        "dash": "dash"
                      },
                      "mode": "lines",
                      "name": "정규근사",
                      "type": "scatter",
                      "x": {
                        "bdata": "qqqqqqq6akAAAAAAADBrQFZVVVVVpWtAqqqqqqoabEAAAAAAAJBsQFZVVVVVBW1Aqqqqqqp6bUAAAAAAAPBtQFZVVVVVZW5AqqqqqqrabkAAAAAAAFBvQFVVVVVVxW9AVlVVVVUdcEAAAAAAAFhwQKqqqqqqknBAVlVVVVXNcEAAAAAAAAhxQKqqqqqqQnFAVVVVVVV9cUAAAAAAALhxQKqqqqqq8nFAVVVVVVUtckAAAAAAAGhyQKqqqqqqonJAVVVVVVXdckAAAAAAABhzQKqqqqqqUnNAVVVVVVWNc0AAAAAAAMhzQKqqqqqqAnRA",
                        "dtype": "f8"
                      },
                      "y": {
                        "bdata": "T/ga1WKOET9q9DePsM0lP15XIIU+KDk/1Fjouaz3Sj/2NDAqbdtaP47bPNuC2Wg/gpGT32xcdT/84Ta0OQ+BP5wdieGsUIk/3qD3zU9zkT98wymb8VmWP5ar1KP7mJo/b5aV8bJnnT93I6ZR2jOeP6Jvywch0pw/RRbkhBeNmT82Gm1fmguVP3Vt1Hu0GpA/TOWk1Ozlhj85HE6Eij9+P3qkGcS2j3I/yzeul+opZT/A3eSxQWtWPyXFVltVEEY/En2gGHosND/5kgGsDyMhPyATPCiQDAs/0A8mmi3V8z6lrBVhGAXbPoOq3Y+aGcE+",
                        "dtype": "f8"
                      }
                    }
                  ],
                  "name": "n=870"
                },
                {
                  "data": [
                    {
                      "marker": {
                        "color": "blue"
                      },
                      "name": "이항분포 샘플",
                      "opacity": 0.7,
                      "type": "bar",
                      "x": {
                        "bdata": "zczMzMw8akBmZmZmZrZqQAAAAAAAMGtAmpmZmZmpa0AzMzMzMyNsQM3MzMzMnGxAZmZmZmYWbUAAAAAAAJBtQJqZmZmZCW5AMzMzMzODbkDNzMzMzPxuQGZmZmZmdm9AAAAAAADwb0DMzMzMzDRwQJqZmZmZcXBAZmZmZmaucEA0MzMzM+twQAAAAAAAKHFAzMzMzMxkcUCamZmZmaFxQGZmZmZm3nFANDMzMzMbckAAAAAAAFhyQMzMzMzMlHJAmpmZmZnRckBmZmZmZg5zQDQzMzMzS3NAAAAAAACIc0DMzMzMzMRzQJqZmZmZAXRA",
                        "dtype": "f8"
                      },
                      "y": {
                        "bdata": "76RTSBeY+z4qpVNIF5j7Pu+kU0gXmBs/Okc0jQ4/MT8WRzSNDj8xP7W2oOva508/Oss81LmcXj+plVXqbq1xP2Mm++qkyng/sCOspYllfj99FDd34l2PP2QFORk6c5U/wyyO3+obmz8noZjI7Y6ePySt/2Rx/JY/ZSkJfchknz85TOR2R8+bP7cwSV8UJZg/VCK3O3rekD8DnOjetP6DP8HTld4ZcIA/JQASXwLGdT9Nf2q8dJNoP6qQt18441w/oWrO05XeOT/uqfHSTWJAP++kU0gXmBs/ZKVTSBeY+z7vpFNIF5j7Pu+kU0gXmPs+",
                        "dtype": "f8"
                      }
                    },
                    {
                      "line": {
                        "color": "red",
                        "dash": "dash"
                      },
                      "mode": "lines",
                      "name": "정규근사",
                      "type": "scatter",
                      "x": {
                        "bdata": "zczMzMw8akBmZmZmZrZqQAAAAAAAMGtAmpmZmZmpa0AzMzMzMyNsQM3MzMzMnGxAZmZmZmYWbUAAAAAAAJBtQJqZmZmZCW5AMzMzMzODbkDNzMzMzPxuQGZmZmZmdm9AAAAAAADwb0DMzMzMzDRwQJqZmZmZcXBAZmZmZmaucEA0MzMzM+twQAAAAAAAKHFAzMzMzMxkcUCamZmZmaFxQGZmZmZm3nFANDMzMzMbckAAAAAAAFhyQMzMzMzMlHJAmpmZmZnRckBmZmZmZg5zQDQzMzMzS3NAAAAAAACIc0DMzMzMzMRzQJqZmZmZAXRA",
                        "dtype": "f8"
                      },
                      "y": {
                        "bdata": "Mu4VcBVk5j4lAhI57l8APy+hMrVbJhY/CuQu3661Kz/ymsKpoAdAP5n5zmv0JlE/6b+MOED5YD/LRmVWohFvP8djGEscTHo/vQqsaOSVhD/GLLlyZc6NP1FeFyzm9JM/9pVWHRG3mD9k+EwyvE6cP2XlP3U3/J0/xavH8PtfnT88o++iNJ2aP5OZDFnhTJY/0pV/UgBIkT+YifNFPsWIPwOHHXcWa4A/PRT4kPcgdD92e5XHqtJmP3D9WKi+7lc/tAdpPbw1Rz/vwfokMtE0P06lgDiJRCE/NXHf/mR+Cj96zWEuAczyPiGiCMHcqtg+",
                        "dtype": "f8"
                      }
                    }
                  ],
                  "name": "n=880"
                },
                {
                  "data": [
                    {
                      "marker": {
                        "color": "blue"
                      },
                      "name": "이항분포 샘플",
                      "opacity": 0.7,
                      "type": "bar",
                      "x": {
                        "bdata": "AAAAAAD4akAAAAAAAGhrQAAAAAAA2GtAAAAAAABIbEAAAAAAALhsQAAAAAAAKG1AAAAAAACYbUAAAAAAAAhuQAAAAAAAeG5AAAAAAADobkAAAAAAAFhvQAAAAAAAyG9AAAAAAAAccEAAAAAAAFRwQAAAAAAAjHBAAAAAAADEcEAAAAAAAPxwQAAAAAAANHFAAAAAAABscUAAAAAAAKRxQAAAAAAA3HFAAAAAAAAUckAAAAAAAExyQAAAAAAAhHJAAAAAAAC8ckAAAAAAAPRyQAAAAAAALHNAAAAAAABkc0AAAAAAAJxzQAAAAAAA1HNA",
                        "dtype": "f8"
                      },
                      "y": {
                        "bdata": "fLr7npX1DT98uvuelfUNP+aYbSkk2jA/3cs8NzB4Jj8J7kSKg4hFPyD/yDOtEFU/IP/IM60QZT/OXGJpIYNpPyClFothi34/DOxyzLYUgj+6dmXW0MmRPw7riW3QWpA/ObTIdr6fmj+OJwSv13aXP0CvO5w+/qE/P4PLJn91mD/+kWdaISqgP5T2Bl+YTJU/dUWrlyCllj/RLTfXrsyKP96e42KKNYs/HdRBHdRBfT8pckd9Ve14PwnuRIqDiGU/Z6l39WttXj+OVF2DfblCP7p2ZdbQyUE/fLr7npX1HT98uvuelfUdP3y6+56V9Q0/",
                        "dtype": "f8"
                      }
                    },
                    {
                      "line": {
                        "color": "red",
                        "dash": "dash"
                      },
                      "mode": "lines",
                      "name": "정규근사",
                      "type": "scatter",
                      "x": {
                        "bdata": "AAAAAAD4akAAAAAAAGhrQAAAAAAA2GtAAAAAAABIbEAAAAAAALhsQAAAAAAAKG1AAAAAAACYbUAAAAAAAAhuQAAAAAAAeG5AAAAAAADobkAAAAAAAFhvQAAAAAAAyG9AAAAAAAAccEAAAAAAAFRwQAAAAAAAjHBAAAAAAADEcEAAAAAAAPxwQAAAAAAANHFAAAAAAABscUAAAAAAAKRxQAAAAAAA3HFAAAAAAAAUckAAAAAAAExyQAAAAAAAhHJAAAAAAAC8ckAAAAAAAPRyQAAAAAAALHNAAAAAAABkc0AAAAAAAJxzQAAAAAAA1HNA",
                        "dtype": "f8"
                      },
                      "y": {
                        "bdata": "FDn3JzEr+z4aXx50pikRP5GmZzbYTiQ/V2Y2/VWBNj/DOJIqoltHP2QxXAx5tFY/6n1R94qrZD9iaEstr59xPxZJKt1uJXw/i3DAErsMhT/3OtOjzHyNP136O3vtV5M/rzhKwqbElz/s2XpSKVqbP9co5ujPep0/x+r5mc7BnT/iZdPPoyGcP4T1amlJ6Jg/G3Xta12nlD/pJgrZQAqQP6MvUOFWVYc/XUzbmhzKfz+j9ahTAUh0P0St+IyRPGg/sx/9pjYgWz8O9qis9m5MP78TwIvN6Ts/rNqiWwiqKT+bJmuKbRkWP7yjQiSH0gE/",
                        "dtype": "f8"
                      }
                    }
                  ],
                  "name": "n=890"
                },
                {
                  "data": [
                    {
                      "marker": {
                        "color": "blue"
                      },
                      "name": "이항분포 샘플",
                      "opacity": 0.7,
                      "type": "bar",
                      "x": {
                        "bdata": "vLu7u7vbakAzMzMzM1NrQKqqqqqqymtAIiIiIiJCbECamZmZmblsQBERERERMW1AiIiIiIiobUAAAAAAACBuQHh3d3d3l25A7+7u7u4Ob0BmZmZmZoZvQN7d3d3d/W9Aqqqqqqo6cEBmZmZmZnZwQCIiIiIisnBA3t3d3d3tcECamZmZmSlxQFZVVVVVZXFAERERERGhcUDNzMzMzNxxQIiIiIiIGHJARERERERUckAAAAAAAJByQLy7u7u7y3JAeHd3d3cHc0AzMzMzM0NzQO/u7u7ufnNAqqqqqqq6c0BmZmZmZvZzQCIiIiIiMnRA",
                        "dtype": "f8"
                      },
                      "y": {
                        "bdata": "8P4LRTwWDD+1/gtFPBb8PvD+C0U8Fgw/B//IM60QJT/gvlwJoNc9P0Dv6tfaPFA/UMfFFGs2Yj/jTlbLGyNoPyebSkPOfXY/IwMfQtrCgj/rOmVyq6KMP6nkVkX5BI0/QGW1vDGCmT+yWadMblWcP/Rvwyz1rpY/mjGCif5Onj+pJ2jU/gudPztqQpexI5o/PUqG3wx8kD81GEdnnTKRP0jtAmJTaYg/vMKyF82Jez+qXjQn7vZsPx8n7vYcF2M/aJ+gUfsvVD/T3pKeJnRJPxw/eG9JTzM/Yv/IM60QJT+1/gtFPBb8PrX+C0U8Fvw+",
                        "dtype": "f8"
                      }
                    },
                    {
                      "line": {
                        "color": "red",
                        "dash": "dash"
                      },
                      "mode": "lines",
                      "name": "정규근사",
                      "type": "scatter",
                      "x": {
                        "bdata": "vLu7u7vbakAzMzMzM1NrQKqqqqqqymtAIiIiIiJCbECamZmZmblsQBERERERMW1AiIiIiIiobUAAAAAAACBuQHh3d3d3l25A7+7u7u4Ob0BmZmZmZoZvQN7d3d3d/W9Aqqqqqqo6cEBmZmZmZnZwQCIiIiIisnBA3t3d3d3tcECamZmZmSlxQFZVVVVVZXFAERERERGhcUDNzMzMzNxxQIiIiIiIGHJARERERERUckAAAAAAAJByQLy7u7u7y3JAeHd3d3cHc0AzMzMzM0NzQO/u7u7ufnNAqqqqqqq6c0BmZmZmZvZzQCIiIiIiMnRA",
                        "dtype": "f8"
                      },
                      "y": {
                        "bdata": "IWGcNt6V4z79xFy7lQv8PhjaLRnzphI/6c20nNoLJz/01fhvh3M6P5fPsQZ4M0w/z6C45djtWz+Xf8W0gbFpPzmqwSnP9HU/QAYp/cptgT9ZSPm59LOJP4u+q9DqmpE/ji2igRNnlj/mvPO0GHuaP/usKimBE50/iZvLnf+nnT8naYRb9hicP1lRFFVrupg/pNzleTw3lD/yFKiuJrSOP5g9/gOoqIU/raQZTW9ifD/xMWLm8EZxP7/WK8aKiWM/cPMh/sCFVD91dDlzWgZEP6c34bhwJjI/JcKAVh2QHj88PJx7LecHP2yQAraIXfE+",
                        "dtype": "f8"
                      }
                    }
                  ],
                  "name": "n=900"
                },
                {
                  "data": [
                    {
                      "marker": {
                        "color": "blue"
                      },
                      "name": "이항분포 샘플",
                      "opacity": 0.7,
                      "type": "bar",
                      "x": {
                        "bdata": "iIiIiIgYbECamZmZmYlsQKqqqqqq+mxAvLu7u7trbUDMzMzMzNxtQN7d3d3dTW5A7+7u7u6+bkAAAAAAADBvQBERERERoW9AEREREREJcECamZmZmUFwQCIiIiIienBAqqqqqqqycEA0MzMzM+twQLy7u7u7I3FARERERERccUDMzMzMzJRxQFZVVVVVzXFA3t3d3d0FckBmZmZmZj5yQO7u7u7udnJAeHd3d3evckAAAAAAAOhyQIiIiIiIIHNAERERERFZc0CamZmZmZFzQCIiIiIiynNAqqqqqqoCdEA0MzMzMzt0QLy7u7u7c3RA",
                        "dtype": "f8"
                      },
                      "y": {
                        "bdata": "Y1/c2TqtHT9jX9zZOq0dP4pHZSPsQTY/nrspyESMUj+euynIRIxSP3K2b1X95Go/Won3Okpfbj9q/IC2LYGBP3vYWvHanoE/7IoZy3gKkT9dqHTV7O+PP0Ge51YXJJo/Aqjf5H0GmD+nDPKIKMeeP8xniPaUEZk/76h01ezvnz/sUfKhwQ2cPxDA0vL03ZA/k8wW8mc+kT9UaT93MqaDP+HRZVUez4A/0N0t/WjDbz+x06B+k/dpP79hOZPegFk/QxBgimPwUz9XR2Uj7EE2P831ixpxsTA/V0dlI+xBFj8gX9zZOq0NP6Zf3Nk6rf0+",
                        "dtype": "f8"
                      }
                    },
                    {
                      "line": {
                        "color": "red",
                        "dash": "dash"
                      },
                      "mode": "lines",
                      "name": "정규근사",
                      "type": "scatter",
                      "x": {
                        "bdata": "iIiIiIgYbECamZmZmYlsQKqqqqqq+mxAvLu7u7trbUDMzMzMzNxtQN7d3d3dTW5A7+7u7u6+bkAAAAAAADBvQBERERERoW9AEREREREJcECamZmZmUFwQCIiIiIienBAqqqqqqqycEA0MzMzM+twQLy7u7u7I3FARERERERccUDMzMzMzJRxQFZVVVVVzXFA3t3d3d0FckBmZmZmZj5yQO7u7u7udnJAeHd3d3evckAAAAAAAOhyQIiIiIiIIHNAERERERFZc0CamZmZmZFzQCIiIiIiynNAqqqqqqoCdEA0MzMzMzt0QLy7u7u7c3RA",
                        "dtype": "f8"
                      },
                      "y": {
                        "bdata": "UZeFX4kwET/17iAgIkskP06C1HVWcTY/qYnqnP0/Rz/cm5WBIJBWP8o5BML2gmQ/03DN7ql3cT/aa0K/ZN57P6G4cjNr04Q/Ahl9skAojT9QHq/Ztx6TP/MG0Ft+fZc/MBQHtcIImz8DaxnhMiWdP+VvtUsjb50/TthXhI7Ymz/Y4tLLa62YPyccEHOFfJQ/b8v/RPzcjz8hUVd1QTaHP4cDh4Evrn8/Z04XnoNAdD/c+IyeTkFoP3cT76FcNls/3I2fl3GZTD/8zCr1ASg8PzgtI5iM9yk/gkm+bPVuFj/Ye1H2sScCP7HHV2Xjhus+",
                        "dtype": "f8"
                      }
                    }
                  ],
                  "name": "n=910"
                },
                {
                  "data": [
                    {
                      "marker": {
                        "color": "blue"
                      },
                      "name": "이항분포 샘플",
                      "opacity": 0.7,
                      "type": "bar",
                      "x": {
                        "bdata": "7+7u7u52bEDNzMzMzORsQKuqqqqqUm1AiIiIiIjAbUBmZmZmZi5uQEREREREnG5AIiIiIiIKb0AAAAAAAHhvQN7d3d3d5W9A3t3d3d0pcEDMzMzMzGBwQLy7u7u7l3BAqqqqqqrOcECamZmZmQVxQIiIiIiIPHFAeHd3d3dzcUBmZmZmZqpxQFZVVVVV4XFAREREREQYckAzMzMzM09yQCIiIiIihnJAERERERG9ckAAAAAAAPRyQO/u7u7uKnNA3t3d3d1hc0DMzMzMzJhzQLy7u7u7z3NAqqqqqqoGdECamZmZmT10QIiIiIiIdHRA",
                        "dtype": "f8"
                      },
                      "y": {
                        "bdata": "O4U2nuHnFj87hTae4ecWPzuFNp7h5zY/Uvqxezn/ND/DAyP9rydcP4lSWDLU8GA/42tH6Frscz/TQtr9wx11P7/9VhtD030/70FBykx+kD8dHRKzNiOPP1YFljXLvJs/bVPxZUuQlT8bVMtq74WgPwwK794cfJo//eumf0TBmD/wCogSlBufP5lwoJGsq5I/F411uGnRlD+doJiMg3iJP7Q9gVRyXoY/KxptEy1Pdj+ilHMBxWRsP5IzXMmzSmk/cJs/4zG5Wj9fnmYllTlQP6WxSCiCii4/Ifqxezn/ND+lsUgogor+PqWxSCiCig4/",
                        "dtype": "f8"
                      }
                    },
                    {
                      "line": {
                        "color": "red",
                        "dash": "dash"
                      },
                      "mode": "lines",
                      "name": "정규근사",
                      "type": "scatter",
                      "x": {
                        "bdata": "7+7u7u52bEDNzMzMzORsQKuqqqqqUm1AiIiIiIjAbUBmZmZmZi5uQEREREREnG5AIiIiIiIKb0AAAAAAAHhvQN7d3d3d5W9A3t3d3d0pcEDMzMzMzGBwQLy7u7u7l3BAqqqqqqrOcECamZmZmQVxQIiIiIiIPHFAeHd3d3dzcUBmZmZmZqpxQFZVVVVV4XFAREREREQYckAzMzMzM09yQCIiIiIihnJAERERERG9ckAAAAAAAPRyQO/u7u7uKnNA3t3d3d1hc0DMzMzMzJhzQLy7u7u7z3NAqqqqqqoGdECamZmZmT10QIiIiIiIdHRA",
                        "dtype": "f8"
                      },
                      "y": {
                        "bdata": "MRY+c+EJEj9WsGRpE6IkPzg+gVoxNDY/4U9ZrN16Rj/DgZVajmlVP89wzHkvMGM/tt3jImgtcD8RoEoe0al5P6SKuGGmJoM/bRX3gv/jij9o6uJY+sKRP4TvTpInE5Y/eGx1psDPmT98ayge92ScPwS+iIkLY50/2EevWCidnD+03S4gTzaaPw9BrmE6l5Y/9J3InTdRkj9o0wu9OfKLPxQol/B8DoQ/BEmch64Vez9KHjxXkDRxPxkoBdG0kGQ/FDGxeVogVz8IBZcsl3dIPxoujOJ+Wjg/nAp8CDzOJj98synljxcUP0EHOc1TpwA/",
                        "dtype": "f8"
                      }
                    }
                  ],
                  "name": "n=920"
                },
                {
                  "data": [
                    {
                      "marker": {
                        "color": "blue"
                      },
                      "name": "이항분포 샘플",
                      "opacity": 0.7,
                      "type": "bar",
                      "x": {
                        "bdata": "IiIiIiJ6bEBmZmZmZu5sQKuqqqqqYm1A7+7u7u7WbUAzMzMzM0tuQHh3d3d3v25AvLu7u7szb0AAAAAAAKhvQCIiIiIiDnBARERERERIcEBmZmZmZoJwQImIiIiIvHBAq6qqqqr2cEDNzMzMzDBxQO/u7u7uanFAERERERGlcUAzMzMzM99xQFVVVVVVGXJAd3d3d3dTckCamZmZmY1yQLy7u7u7x3JA3t3d3d0Bc0AAAAAAADxzQCIiIiIidnNARERERESwc0BmZmZmZupzQImIiIiIJHRAq6qqqqpedEDNzMzMzJh0QO/u7u7u0nRA",
                        "dtype": "f8"
                      },
                      "y": {
                        "bdata": "vh+6viHc/D6wUzQXlQkiP8fb4oadQCk/z5cLTxmlNT/bsUj70jtQP5xoAV36i1Y/w33Ool8Oaz/nlaGoeV15P2EgiEusnns/UsOoOj6Qiz9Wq6PBrgOMP3OiJZXulpc/Zojo6DQAnT9Di4dipGuXP/gGGSx9yp8/X/vJEti0nz9LR7AqINCTP81oAV36i5Y/1SQqJXbwkj979R8zV9eDPzRTZooKR4M/szthEXu6cz/3DfM4cSZyPxn3u0xsXGE/27FI+9I7UD9kOfdq23JHP8fb4oadQDk/z5cLTxmlFT++H7q+Idz8Pr4fur4h3Pw+",
                        "dtype": "f8"
                      }
                    },
                    {
                      "line": {
                        "color": "red",
                        "dash": "dash"
                      },
                      "mode": "lines",
                      "name": "정규근사",
                      "type": "scatter",
                      "x": {
                        "bdata": "IiIiIiJ6bEBmZmZmZu5sQKuqqqqqYm1A7+7u7u7WbUAzMzMzM0tuQHh3d3d3v25AvLu7u7szb0AAAAAAAKhvQCIiIiIiDnBARERERERIcEBmZmZmZoJwQImIiIiIvHBAq6qqqqr2cEDNzMzMzDBxQO/u7u7uanFAERERERGlcUAzMzMzM99xQFVVVVVVGXJAd3d3d3dTckCamZmZmY1yQLy7u7u7x3JA3t3d3d0Bc0AAAAAAADxzQCIiIiIidnNARERERESwc0BmZmZmZupzQImIiIiIJHRAq6qqqqpedEDNzMzMzJh0QO/u7u7u0nRA",
                        "dtype": "f8"
                      },
                      "y": {
                        "bdata": "kPPlX5ZLAj9ULVA46OoWP8fDktLZ1Co/+dTYB0lcPT+17HmPLAdOP3JLxgoXtFw/rBNaMuCkaT+9OZS1y2l1P9kyTj05toA/YtDiE1lhiD9gyqAtFJ+QP6Ddk+ukLpU/g2V7tuc6mT9yy4WsXRacP+ptnDl6OZ0/xCudSZZrnD9CmjJ+6tSZPzbJKIO/8ZU/s436qWtskT+LYBcSFtyJPxjC2kie74E/VIj/KRZBdz/TTgjCxy1sP26XXDkc6l8/mZot4zbkUD/PMRiCMrZAP3qcgTsL6C4/T7lnHQe2Gj88pK6riZMFP9ki45MdSvA+",
                        "dtype": "f8"
                      }
                    }
                  ],
                  "name": "n=930"
                },
                {
                  "data": [
                    {
                      "marker": {
                        "color": "blue"
                      },
                      "name": "이항분포 샘플",
                      "opacity": 0.7,
                      "type": "bar",
                      "x": {
                        "bdata": "mpmZmZk5bUDMzMzMzKxtQAAAAAAAIG5ANDMzMzOTbkBmZmZmZgZvQJqZmZmZeW9AzMzMzMzsb0AAAAAAADBwQJqZmZmZaXBAMzMzMzOjcEDNzMzMzNxwQGZmZmZmFnFAAAAAAABQcUCamZmZmYlxQDMzMzMzw3FAzczMzMz8cUBmZmZmZjZyQAAAAAAAcHJAmpmZmZmpckAzMzMzM+NyQM3MzMzMHHNAZmZmZmZWc0AAAAAAAJBzQJqZmZmZyXNAMzMzMzMDdEDNzMzMzDx0QGZmZmZmdnRAAAAAAACwdECamZmZmel0QDMzMzMzI3VA",
                        "dtype": "f8"
                      },
                      "y": {
                        "bdata": "57yaeFY0Ij8DqvHSTWIwPz4IPw95fDk/vO5b/M/WUD/Lz0MeXwZUPzbT4FQvcGc/9p2CmuVjdT/j5Yn6N0J5P3Xixt4pqIk/welMFkbciD/KhoPmr9+VP3Rcj8L1KJw/VyOU0duylj8QCIY3HDSfP/kmxPrKNJg/xvAZdgXInT/q8dJNYhCYP+zVV6bBqY4//4lnRSMBjz9imuVjFfqBP96p8dJNYoA/VGzBFmzBdj+rVXs6k4VhP8uHPL4MKGA/brdlrY4JTj8+CD8PeXw5P38ukVqKIB0//i2RWoog/T5/LpFaiiANP/4tkVqKIA0/",
                        "dtype": "f8"
                      }
                    },
                    {
                      "line": {
                        "color": "red",
                        "dash": "dash"
                      },
                      "mode": "lines",
                      "name": "정규근사",
                      "type": "scatter",
                      "x": {
                        "bdata": "mpmZmZk5bUDMzMzMzKxtQAAAAAAAIG5ANDMzMzOTbkBmZmZmZgZvQJqZmZmZeW9AzMzMzMzsb0AAAAAAADBwQJqZmZmZaXBAMzMzMzOjcEDNzMzMzNxwQGZmZmZmFnFAAAAAAABQcUCamZmZmYlxQDMzMzMzw3FAzczMzMz8cUBmZmZmZjZyQAAAAAAAcHJAmpmZmZmpckAzMzMzM+NyQM3MzMzMHHNAZmZmZmZWc0AAAAAAAJBzQJqZmZmZyXNAMzMzMzMDdEDNzMzMzDx0QGZmZmZmdnRAAAAAAACwdECamZmZmel0QDMzMzMzI3VA",
                        "dtype": "f8"
                      },
                      "y": {
                        "bdata": "vyIKOx21FD8Yjv7P2SEoP4BIjcEXVjo/f92FqlDqSj/ibMPAU8JZP77PMBoFFmc/w3MoWSVgcz+cQCuWz3R+P6Cds/h5aoY/MKf3L07mjj9GYlAamvGTP487PhviG5g/oLrgNMFKmz/yDTfvn+6cP2EBIY/KuJw/Q/8WmIOzmj89Gmst0z6XP/E9PVpv85I/6/s4u6XvjD8Z66dU/q+EP2NvZ+lks3s/MeMf7ghecT8SBDafumRkPzlWuo7abFY/Hd4P7aYXRz/4TCGRs0Q2PyCYyJX0GyQ/rqxGt2UBET9C6hy9Eu/6PmnRi5Rc+eM+",
                        "dtype": "f8"
                      }
                    }
                  ],
                  "name": "n=940"
                },
                {
                  "data": [
                    {
                      "marker": {
                        "color": "blue"
                      },
                      "name": "이항분포 샘플",
                      "opacity": 0.7,
                      "type": "bar",
                      "x": {
                        "bdata": "ERERERG5bUAzMzMzMytuQFVVVVVVnW5AeHd3d3cPb0CamZmZmYFvQLy7u7u7829A7+7u7u4ycEAAAAAAAGxwQBIRERERpXBAIiIiIiLecEA0MzMzMxdxQEREREREUHFAVlVVVVWJcUBmZmZmZsJxQHh3d3d3+3FAiIiIiIg0ckCamZmZmW1yQKqqqqqqpnJAvLu7u7vfckDNzMzMzBhzQN7d3d3dUXNA7+7u7u6Kc0AAAAAAAMRzQBERERER/XNAIiIiIiI2dEA0MzMzM290QEREREREqHRAVlVVVVXhdEBmZmZmZhp1QHh3d3d3U3VA",
                        "dtype": "f8"
                      },
                      "y": {
                        "bdata": "2fIOTTpmHT+aaFjLgIkwP6sDPqjWjzs/M8+RQhZLUz9X+pbQEpdVP7Nqdx9sUW4/C7PZ7n8ccT+aaFjLgImAPziYz965r40/P23KUL1jiz8JW1PDHdOWP7afV2KS4JU/BfjdjfQpoD97BpHZJ6KYP7Qt0iW41Z4/oydVoS1QnT9rwEQIsC2TP658sXlWJpM/qa6knPj9hT/ZJQ1vKumGPwfMzQCqMnc/tihgoHv7cz+1z5FCFktjP4lx/6JEglY/cGp3H2xRTj8iNsu5qww2P30UbQNzuSk/2fIOTTpm/T7Z8g5NOmb9PtnyDk06Zh0/",
                        "dtype": "f8"
                      }
                    },
                    {
                      "line": {
                        "color": "red",
                        "dash": "dash"
                      },
                      "mode": "lines",
                      "name": "정규근사",
                      "type": "scatter",
                      "x": {
                        "bdata": "ERERERG5bUAzMzMzMytuQFVVVVVVnW5AeHd3d3cPb0CamZmZmYFvQLy7u7u7829A7+7u7u4ycEAAAAAAAGxwQBIRERERpXBAIiIiIiLecEA0MzMzMxdxQEREREREUHFAVlVVVVWJcUBmZmZmZsJxQHh3d3d3+3FAiIiIiIg0ckCamZmZmW1yQKqqqqqqpnJAvLu7u7vfckDNzMzMzBhzQN7d3d3dUXNA7+7u7u6Kc0AAAAAAAMRzQBERERER/XNAIiIiIiI2dEA0MzMzM290QEREREREqHRAVlVVVVXhdEBmZmZmZhp1QHh3d3d3U3VA",
                        "dtype": "f8"
                      },
                      "y": {
                        "bdata": "4IZnVVy5Gz83hKOWJDsvP9nWLDQPgUA/S8TPo6NdUD+AyHXdvnNeP+KpbQPPlGo/kNj05+bEdT/WV+fQErqAP2Q6Y6P2HYg/g5KHLelPkD/SmHot/7OUP2wphKEhp5g/bGAvqOyKmz/C0A/Az96cP5kb+K2CZJw/ewfikqcymj+v9sGL9K2WPwR9eR26a5I/gNGb8TcTjD+EsLMkqhKEPyhIuewW7no/LlpfW+nycD8fCsyVJgRkP9d0hMSrLVY/tQC0bVwORz/eywbw5Xw2P9+GE7UnlCQ/Q/I0hBirET/kY5VLBnf8PpfJNCJXg+U+",
                        "dtype": "f8"
                      }
                    }
                  ],
                  "name": "n=950"
                },
                {
                  "data": [
                    {
                      "marker": {
                        "color": "blue"
                      },
                      "name": "이항분포 샘플",
                      "opacity": 0.7,
                      "type": "bar",
                      "x": {
                        "bdata": "REREREQcbkDNzMzMzJRuQFZVVVVVDW9A3t3d3d2Fb0BmZmZmZv5vQHh3d3d3O3BAvLu7u7t3cEAAAAAAALRwQERERERE8HBAiIiIiIgscUDNzMzMzGhxQBERERERpXFAVlVVVVXhcUCamZmZmR1yQN7d3d3dWXJAIiIiIiKWckBmZmZmZtJyQKqqqqqqDnNA7+7u7u5Kc0AzMzMzM4dzQHh3d3d3w3NAvLu7u7v/c0AAAAAAADx0QEREREREeHRAiIiIiIi0dEDNzMzMzPB0QBERERERLXVAVlVVVVVpdUCamZmZmaV1QN7d3d3d4XVA",
                        "dtype": "f8"
                      },
                      "y": {
                        "bdata": "qBcF45rWKz/uLuPNIGYxPzgjdNhdnkY/aCN02F2eVj9oI3TYXZ5WPxcQkSwZv3A/uUUAVSbRfD/Emx/wm3SGP68yHanh8YY/STzph6kOkz9C7U+eBTKYPzmm33wux5o/fKACi3KQlj/y1XdcmoeeP2/oZloUMZw/WvIyOdxNmD8nDUv/ImmTPweHk4RBBYY/IBTLB9pKhj8OxSt1G4l/P0YaV2LG9nA/4xcF45rWWz8JD+hsAy9WPyqpK1M/AkQ/CCN02F2eNj/mdKSGx1soP+MXBeOa1vs+bRcF45rW+z7jFwXjmtYLP+MXBeOa1vs+",
                        "dtype": "f8"
                      }
                    },
                    {
                      "line": {
                        "color": "red",
                        "dash": "dash"
                      },
                      "mode": "lines",
                      "name": "정규근사",
                      "type": "scatter",
                      "x": {
                        "bdata": "REREREQcbkDNzMzMzJRuQFZVVVVVDW9A3t3d3d2Fb0BmZmZmZv5vQHh3d3d3O3BAvLu7u7t3cEAAAAAAALRwQERERERE8HBAiIiIiIgscUDNzMzMzGhxQBERERERpXFAVlVVVVXhcUCamZmZmR1yQN7d3d3dWXJAIiIiIiKWckBmZmZmZtJyQKqqqqqqDnNA7+7u7u5Kc0AzMzMzM4dzQHh3d3d3w3NAvLu7u7v/c0AAAAAAADx0QEREREREeHRAiIiIiIi0dEDNzMzMzPB0QBERERERLXVAVlVVVVVpdUCamZmZmaV1QN7d3d3d4XVA",
                        "dtype": "f8"
                      },
                      "y": {
                        "bdata": "tNoPa5LsHT8ZAZ5MAWsxP60rBdAq5kI/dieh6NMcUz/85fh22QNiP+cdFLgyp28/EPbkxgvreT+JkSf9sceDP4uG+3G6I4w/EpGmy+Cnkj+d+bDuNw6XPwcvnXyBjpo/5sxDEb2CnD95dNwbSYecP9YTbUw4m5o/4OijYqAglz9tUvaLvrySP8OmWj84TIw/jfhQJYHqgz+3wGbQ+yB6P+0V+5hA828/k3mI2u80Yj+swumtEVdTP88EXRvcJUM/cFGMOlarMT9bMtuQx2QeP5O+zQ9BXQg/FdpGciY08j4ftjt1alrZPhhDUzqcdMA+",
                        "dtype": "f8"
                      }
                    }
                  ],
                  "name": "n=960"
                },
                {
                  "data": [
                    {
                      "marker": {
                        "color": "blue"
                      },
                      "name": "이항분포 샘플",
                      "opacity": 0.7,
                      "type": "bar",
                      "x": {
                        "bdata": "IiIiIiKibEBmZmZmZiZtQKuqqqqqqm1A7+7u7u4ubkAzMzMzM7NuQHh3d3d3N29AvLu7u7u7b0AAAAAAACBwQCIiIiIiYnBARERERESkcEBmZmZmZuZwQImIiIiIKHFAq6qqqqpqcUDNzMzMzKxxQO/u7u7u7nFAERERERExckAzMzMzM3NyQFVVVVVVtXJAeHd3d3f3ckCamZmZmTlzQLy7u7u7e3NA3t3d3d29c0AAAAAAAAB0QCIiIiIiQnRARURERESEdEBnZmZmZsZ0QImIiIiICHVAq6qqqqpKdUDNzMzMzIx1QO/u7u7uznVA",
                        "dtype": "f8"
                      },
                      "y": {
                        "bdata": "OeZM/Gde+T4H5kz8Z175PjnmTPxnXvk+cUnD/JoyJj855kz8Z14ZPwfmTPxnXjk/zRv0u0G/Sz8QeiNtBJ9jPzDquDsoVW0/6s0cRDOoej+PExw9wdGDP41c2MeFfYw/QeEFrfdplD+jsKU8jv2WPwWARcwkkZk/3bp84P46oT8LLT02OcqZP+ocuZpeeJY/Rvk1ZSwgkz89RKgPUceNP086GnFw3oM/c0jo7Oo0dT/4xUTFsrpyP7/puDsoVV0/ZFGbexsgTj/VF4h8gcg3P8cfYPsBti8/qqw5/c0GEz855kz8Z14JPznmTPxnXgk/",
                        "dtype": "f8"
                      }
                    },
                    {
                      "line": {
                        "color": "red",
                        "dash": "dash"
                      },
                      "mode": "lines",
                      "name": "정규근사",
                      "type": "scatter",
                      "x": {
                        "bdata": "IiIiIiKibEBmZmZmZiZtQKuqqqqqqm1A7+7u7u4ubkAzMzMzM7NuQHh3d3d3N29AvLu7u7u7b0AAAAAAACBwQCIiIiIiYnBARERERESkcEBmZmZmZuZwQImIiIiIKHFAq6qqqqpqcUDNzMzMzKxxQO/u7u7u7nFAERERERExckAzMzMzM3NyQFVVVVVVtXJAeHd3d3f3ckCamZmZmTlzQLy7u7u7e3NA3t3d3d29c0AAAAAAAAB0QCIiIiIiQnRARURERESEdEBnZmZmZsZ0QImIiIiICHVAq6qqqqpKdUDNzMzMzIx1QO/u7u7uznVA",
                        "dtype": "f8"
                      },
                      "y": {
                        "bdata": "W8H+4Osawz6wSH+aBBjgPg4MYmXT7vg+DhtL83LCET+16ShLwkMnP+yRTZVDBjw/qhxJY9AKTz9kqGwwZJ5fP9YUs55snW0/94EnybGBeT9LdJc8bTOEP9TTFTtmbI0/mp84VE+0kz88XOjKoUSYPwQxbl78e5s/9U5BsGWfnD+DV7LE+WibPzDURy8bI5g/Kg4EjIiLkz+xA3C2UhuNP2MfAfHw7YM/JTA8sY0YeT95c3LBMQ9tPyYm/RYU8V4/hVjwTaZLTj8IcNwkxEY7Pxp/FLUflSY/3tp70zYxET/mFQHiOxL4PktqHL/D/d4+",
                        "dtype": "f8"
                      }
                    }
                  ],
                  "name": "n=970"
                },
                {
                  "data": [
                    {
                      "marker": {
                        "color": "blue"
                      },
                      "name": "이항분포 샘플",
                      "opacity": 0.7,
                      "type": "bar",
                      "x": {
                        "bdata": "AAAAAAB4bkAAAAAAAOhuQAAAAAAAWG9AAAAAAADIb0AAAAAAABxwQAAAAAAAVHBAAAAAAACMcEAAAAAAAMRwQAAAAAAA/HBAAAAAAAA0cUAAAAAAAGxxQAAAAAAApHFAAAAAAADccUAAAAAAABRyQAAAAAAATHJAAAAAAACEckAAAAAAALxyQAAAAAAA9HJAAAAAAAAsc0AAAAAAAGRzQAAAAAAAnHNAAAAAAADUc0AAAAAAAAx0QAAAAAAARHRAAAAAAAB8dEAAAAAAALR0QAAAAAAA7HRAAAAAAAAkdUAAAAAAAFx1QAAAAAAAlHVA",
                        "dtype": "f8"
                      },
                      "y": {
                        "bdata": "3cs8NzB4Fj+OVF2DfbkiP93LPDcweDY/LUMc6+I2Oj93Q9nZUzFTPy1DHOviNlo/W5CrVA8WcT/WKZNbFeVzPwB7xkDbq4E//HyY/qcfhT9vohhdH1iSP4qDiBXwb5E/e+g90iHymj/7fYFdjtmWPzBtuqLVS6A/dEaU9gZfmD8Hw71zqrmdP7SnYiYQ9JM/w+njH3mmlT8tQxzr4jaKPyDSb18Hzok/0S03167Mej/6fmq8dJN4P4WHLJGJV2g/I3br+O7UXz+p3APy6AVNP1llJD42R0k/NRBN3daYND/mmG0pJNowP3y6+56V9Q0/",
                        "dtype": "f8"
                      }
                    },
                    {
                      "line": {
                        "color": "red",
                        "dash": "dash"
                      },
                      "mode": "lines",
                      "name": "정규근사",
                      "type": "scatter",
                      "x": {
                        "bdata": "AAAAAAB4bkAAAAAAAOhuQAAAAAAAWG9AAAAAAADIb0AAAAAAABxwQAAAAAAAVHBAAAAAAACMcEAAAAAAAMRwQAAAAAAA/HBAAAAAAAA0cUAAAAAAAGxxQAAAAAAApHFAAAAAAADccUAAAAAAABRyQAAAAAAATHJAAAAAAACEckAAAAAAALxyQAAAAAAA9HJAAAAAAAAsc0AAAAAAAGRzQAAAAAAAnHNAAAAAAADUc0AAAAAAAAx0QAAAAAAARHRAAAAAAAB8dEAAAAAAALR0QAAAAAAA7HRAAAAAAAAkdUAAAAAAAFx1QAAAAAAAlHVA",
                        "dtype": "f8"
                      },
                      "y": {
                        "bdata": "JQf8BY6VDz8Z9+GZyAMiP/6ROZ3dXDM/3E4ryOSbQz+H79RT87VSP2nOvj5s0mA/XJ7dePF/bD+zmVvEP792P0DSVJw8G4E/uot/x/s9iD8eJA38QS+QP5Ad7IOTXJQ/ypbvhukimD9Ej0qPI/WaP+KaXepfXpw/ecbKsOEgnD9hmUrlUEeaP9NyWLi1IZc/vdQ8jFsvkz/a27y3APyNP6D6pUvQE4Y/7Nqk5t6hfj8k/UgD6AV0P2so/9/xqWg/UK5fleifXD95UrvIPk1PPzJBs58nIEA/cxBzDStPLz84KX8GbaMcPwn7Osl9rgg/",
                        "dtype": "f8"
                      }
                    }
                  ],
                  "name": "n=980"
                },
                {
                  "data": [
                    {
                      "marker": {
                        "color": "blue"
                      },
                      "name": "이항분포 샘플",
                      "opacity": 0.7,
                      "type": "bar",
                      "x": {
                        "bdata": "IiIiIiLabkBmZmZmZk5vQKuqqqqqwm9AeHd3d3cbcECamZmZmVVwQLy7u7u7j3BA3t3d3d3JcEAAAAAAAARxQCIiIiIiPnFARERERER4cUBmZmZmZrJxQImIiIiI7HFAq6qqqqomckDNzMzMzGByQO/u7u7umnJAERERERHVckAzMzMzMw9zQFVVVVVVSXNAd3d3d3eDc0CamZmZmb1zQLy7u7u793NA3t3d3d0xdEAAAAAAAGx0QCIiIiIipnRARERERETgdEBmZmZmZhp1QImIiIiIVHVAq6qqqqqOdUDNzMzMzMh1QO/u7u7uAnZA",
                        "dtype": "f8"
                      },
                      "y": {
                        "bdata": "vh+6viHc/D6wUzQXlQkiP8+XC08ZpTU/j9vihp1AST/NaAFd+otWPxn3u0xsXGE/11M0F5UJcj/e2Xjg/fh8PxjB101Z538/2ntk/L/Gjj8wwtqts82MP7mtDWhOS5g/QDe/N7FonD/LOfdq23KXPxJgUb3E4aA/ECAhBWc9nD+8AdaSQU6TPyUA0zLnZ5Y/8HaIqcmrkT+YsBMoAxiCP6c8luRK3oE/t5l19bjscT/Dfc6iXw5rP5w9y7caAmA/w33Ool8OSz9qaAFd+otGP8+XC08ZpTU/vh+6viHcHD++H7q+Idz8Pr4fur4h3Pw+",
                        "dtype": "f8"
                      }
                    },
                    {
                      "line": {
                        "color": "red",
                        "dash": "dash"
                      },
                      "mode": "lines",
                      "name": "정규근사",
                      "type": "scatter",
                      "x": {
                        "bdata": "IiIiIiLabkBmZmZmZk5vQKuqqqqqwm9AeHd3d3cbcECamZmZmVVwQLy7u7u7j3BA3t3d3d3JcEAAAAAAAARxQCIiIiIiPnFARERERER4cUBmZmZmZrJxQImIiIiI7HFAq6qqqqomckDNzMzMzGByQO/u7u7umnJAERERERHVckAzMzMzMw9zQFVVVVVVSXNAd3d3d3eDc0CamZmZmb1zQLy7u7u793NA3t3d3d0xdEAAAAAAAGx0QCIiIiIipnRARERERETgdEBmZmZmZhp1QImIiIiIVHVAq6qqqqqOdUDNzMzMzMh1QO/u7u7uAnZA",
                        "dtype": "f8"
                      },
                      "y": {
                        "bdata": "GdHPgOn8ED+kuAZ+d8cjP7JV7Gq4nDU/KSwzLYYpRj9RGwoo+VNVP/MuNhswQ2M/NTAwypxTcD81fLjZRPl5P+5+HkqyY4M/XjWvjOIqiz9jaJrSptyRP3jR4ZfdCpY/zEz2KiOHmT9HHebF276bP9nlB6bxTJw/wsHIpTgXmz/VdngaTVaYP3qSbdWuhJQ/bl0S/QI8kD8oSRRm/xuIPxxc6Mn8zIA/sf1ml4n5dT82QurRT/lqP/+Ri3K9El8/zJp18O/LUD/v4xG8qQpBP+4oSnr7OTA/bROgt+H/HD8/mBsLvVEIP56TNJfAI/M+",
                        "dtype": "f8"
                      }
                    }
                  ],
                  "name": "n=990"
                },
                {
                  "data": [
                    {
                      "marker": {
                        "color": "blue"
                      },
                      "name": "이항분포 샘플",
                      "opacity": 0.7,
                      "type": "bar",
                      "x": {
                        "bdata": "iIiIiIggbUCamZmZmaFtQKqqqqqqIm5AvLu7u7ujbkDMzMzMzCRvQN7d3d3dpW9AeHd3d3cTcEAAAAAAAFRwQIiIiIiIlHBAERERERHVcECamZmZmRVxQCIiIiIiVnFAqqqqqqqWcUA0MzMzM9dxQLy7u7u7F3JARERERERYckDMzMzMzJhyQFZVVVVV2XJA3t3d3d0Zc0BmZmZmZlpzQO7u7u7umnNAeHd3d3fbc0AAAAAAABx0QIiIiIiIXHRAERERERGddECamZmZmd10QCIiIiIiHnVAqqqqqqpedUA0MzMzM591QLy7u7u733VA",
                        "dtype": "f8"
                      },
                      "y": {
                        "bdata": "wnvtrWz/+T4AAAAAAAAAAAAAAAAAAAAAwnvtrWz/+T4AAAAAAAAAAMJ77a1s/xk/qhxygpF/Qz+UvzveXm9MP8NZxpVzx1g/KftKaphHYj/6UOsti510P6MHccKgzoA/6/OCa3BWiT+4YI6Um7iRPxZwfCgIJpU/FRB+SHEvmT9t6vIw5H6bP3UPl1flSps/D8xhNmf2mj+89+ZqBM+VP+ccWXMdZJE/H7kPo2YQiz9auqtmlqKCP7EPfkhxL3k/xJ0UxmU3az9tGfVzietkP1nZI1KfD1E/HcwvGH+/Rj8dzC8Yf78mP/V77a1s/wk/",
                        "dtype": "f8"
                      }
                    },
                    {
                      "line": {
                        "color": "red",
                        "dash": "dash"
                      },
                      "mode": "lines",
                      "name": "정규근사",
                      "type": "scatter",
                      "x": {
                        "bdata": "iIiIiIggbUCamZmZmaFtQKqqqqqqIm5AvLu7u7ujbkDMzMzMzCRvQN7d3d3dpW9AeHd3d3cTcEAAAAAAAFRwQIiIiIiIlHBAERERERHVcECamZmZmRVxQCIiIiIiVnFAqqqqqqqWcUA0MzMzM9dxQLy7u7u7F3JARERERERYckDMzMzMzJhyQFZVVVVV2XJA3t3d3d0Zc0BmZmZmZlpzQO7u7u7umnNAeHd3d3fbc0AAAAAAABx0QIiIiIiIXHRAERERERGddECamZmZmd10QCIiIiIiHnVAqqqqqqpedUA0MzMzM591QLy7u7u733VA",
                        "dtype": "f8"
                      },
                      "y": {
                        "bdata": "pSSjYPwvpT6K94WiXHLCPhMSjeUKut0+3MU+QrAq9j77x3WhNJgOPzxphzAciiM/yAEPvgUZNz9Q7Ma6yURJP4EiPCpHlVk/1UYzG4H4Zz/YviREJ8l0P6+qHrYxroA/qYyxNrzGiD9vs0+ndQeRP4gz8tbyqZU/nuSbanGBmT/ZrHaPUsqbP9nNKcPHBZw/UZwxLoYmmj8woHEKm5WWP4Wr04n7DJI/aRXOKRW0ij8MgHPslUeCP9iIUfctKXc/xhVNe3coaz+iV533q3hdP9Y8TSwHmU0/fVGi60yCOz/JI7A3aqknP6OAoJTj1RI/",
                        "dtype": "f8"
                      }
                    }
                  ],
                  "name": "n=1000"
                }
              ],
              "layout": {
                "bargap": 0.1,
                "sliders": [
                  {
                    "currentvalue": {
                      "prefix": "샘플 크기(n): "
                    },
                    "pad": {
                      "t": 50
                    },
                    "steps": [
                      {
                        "args": [
                          [
                            "n=10"
                          ],
                          {
                            "frame": {
                              "duration": 0,
                              "redraw": true
                            },
                            "mode": "immediate"
                          }
                        ],
                        "label": "10",
                        "method": "animate"
                      },
                      {
                        "args": [
                          [
                            "n=20"
                          ],
                          {
                            "frame": {
                              "duration": 0,
                              "redraw": true
                            },
                            "mode": "immediate"
                          }
                        ],
                        "label": "20",
                        "method": "animate"
                      },
                      {
                        "args": [
                          [
                            "n=30"
                          ],
                          {
                            "frame": {
                              "duration": 0,
                              "redraw": true
                            },
                            "mode": "immediate"
                          }
                        ],
                        "label": "30",
                        "method": "animate"
                      },
                      {
                        "args": [
                          [
                            "n=40"
                          ],
                          {
                            "frame": {
                              "duration": 0,
                              "redraw": true
                            },
                            "mode": "immediate"
                          }
                        ],
                        "label": "40",
                        "method": "animate"
                      },
                      {
                        "args": [
                          [
                            "n=50"
                          ],
                          {
                            "frame": {
                              "duration": 0,
                              "redraw": true
                            },
                            "mode": "immediate"
                          }
                        ],
                        "label": "50",
                        "method": "animate"
                      },
                      {
                        "args": [
                          [
                            "n=60"
                          ],
                          {
                            "frame": {
                              "duration": 0,
                              "redraw": true
                            },
                            "mode": "immediate"
                          }
                        ],
                        "label": "60",
                        "method": "animate"
                      },
                      {
                        "args": [
                          [
                            "n=70"
                          ],
                          {
                            "frame": {
                              "duration": 0,
                              "redraw": true
                            },
                            "mode": "immediate"
                          }
                        ],
                        "label": "70",
                        "method": "animate"
                      },
                      {
                        "args": [
                          [
                            "n=80"
                          ],
                          {
                            "frame": {
                              "duration": 0,
                              "redraw": true
                            },
                            "mode": "immediate"
                          }
                        ],
                        "label": "80",
                        "method": "animate"
                      },
                      {
                        "args": [
                          [
                            "n=90"
                          ],
                          {
                            "frame": {
                              "duration": 0,
                              "redraw": true
                            },
                            "mode": "immediate"
                          }
                        ],
                        "label": "90",
                        "method": "animate"
                      },
                      {
                        "args": [
                          [
                            "n=100"
                          ],
                          {
                            "frame": {
                              "duration": 0,
                              "redraw": true
                            },
                            "mode": "immediate"
                          }
                        ],
                        "label": "100",
                        "method": "animate"
                      },
                      {
                        "args": [
                          [
                            "n=110"
                          ],
                          {
                            "frame": {
                              "duration": 0,
                              "redraw": true
                            },
                            "mode": "immediate"
                          }
                        ],
                        "label": "110",
                        "method": "animate"
                      },
                      {
                        "args": [
                          [
                            "n=120"
                          ],
                          {
                            "frame": {
                              "duration": 0,
                              "redraw": true
                            },
                            "mode": "immediate"
                          }
                        ],
                        "label": "120",
                        "method": "animate"
                      },
                      {
                        "args": [
                          [
                            "n=130"
                          ],
                          {
                            "frame": {
                              "duration": 0,
                              "redraw": true
                            },
                            "mode": "immediate"
                          }
                        ],
                        "label": "130",
                        "method": "animate"
                      },
                      {
                        "args": [
                          [
                            "n=140"
                          ],
                          {
                            "frame": {
                              "duration": 0,
                              "redraw": true
                            },
                            "mode": "immediate"
                          }
                        ],
                        "label": "140",
                        "method": "animate"
                      },
                      {
                        "args": [
                          [
                            "n=150"
                          ],
                          {
                            "frame": {
                              "duration": 0,
                              "redraw": true
                            },
                            "mode": "immediate"
                          }
                        ],
                        "label": "150",
                        "method": "animate"
                      },
                      {
                        "args": [
                          [
                            "n=160"
                          ],
                          {
                            "frame": {
                              "duration": 0,
                              "redraw": true
                            },
                            "mode": "immediate"
                          }
                        ],
                        "label": "160",
                        "method": "animate"
                      },
                      {
                        "args": [
                          [
                            "n=170"
                          ],
                          {
                            "frame": {
                              "duration": 0,
                              "redraw": true
                            },
                            "mode": "immediate"
                          }
                        ],
                        "label": "170",
                        "method": "animate"
                      },
                      {
                        "args": [
                          [
                            "n=180"
                          ],
                          {
                            "frame": {
                              "duration": 0,
                              "redraw": true
                            },
                            "mode": "immediate"
                          }
                        ],
                        "label": "180",
                        "method": "animate"
                      },
                      {
                        "args": [
                          [
                            "n=190"
                          ],
                          {
                            "frame": {
                              "duration": 0,
                              "redraw": true
                            },
                            "mode": "immediate"
                          }
                        ],
                        "label": "190",
                        "method": "animate"
                      },
                      {
                        "args": [
                          [
                            "n=200"
                          ],
                          {
                            "frame": {
                              "duration": 0,
                              "redraw": true
                            },
                            "mode": "immediate"
                          }
                        ],
                        "label": "200",
                        "method": "animate"
                      },
                      {
                        "args": [
                          [
                            "n=210"
                          ],
                          {
                            "frame": {
                              "duration": 0,
                              "redraw": true
                            },
                            "mode": "immediate"
                          }
                        ],
                        "label": "210",
                        "method": "animate"
                      },
                      {
                        "args": [
                          [
                            "n=220"
                          ],
                          {
                            "frame": {
                              "duration": 0,
                              "redraw": true
                            },
                            "mode": "immediate"
                          }
                        ],
                        "label": "220",
                        "method": "animate"
                      },
                      {
                        "args": [
                          [
                            "n=230"
                          ],
                          {
                            "frame": {
                              "duration": 0,
                              "redraw": true
                            },
                            "mode": "immediate"
                          }
                        ],
                        "label": "230",
                        "method": "animate"
                      },
                      {
                        "args": [
                          [
                            "n=240"
                          ],
                          {
                            "frame": {
                              "duration": 0,
                              "redraw": true
                            },
                            "mode": "immediate"
                          }
                        ],
                        "label": "240",
                        "method": "animate"
                      },
                      {
                        "args": [
                          [
                            "n=250"
                          ],
                          {
                            "frame": {
                              "duration": 0,
                              "redraw": true
                            },
                            "mode": "immediate"
                          }
                        ],
                        "label": "250",
                        "method": "animate"
                      },
                      {
                        "args": [
                          [
                            "n=260"
                          ],
                          {
                            "frame": {
                              "duration": 0,
                              "redraw": true
                            },
                            "mode": "immediate"
                          }
                        ],
                        "label": "260",
                        "method": "animate"
                      },
                      {
                        "args": [
                          [
                            "n=270"
                          ],
                          {
                            "frame": {
                              "duration": 0,
                              "redraw": true
                            },
                            "mode": "immediate"
                          }
                        ],
                        "label": "270",
                        "method": "animate"
                      },
                      {
                        "args": [
                          [
                            "n=280"
                          ],
                          {
                            "frame": {
                              "duration": 0,
                              "redraw": true
                            },
                            "mode": "immediate"
                          }
                        ],
                        "label": "280",
                        "method": "animate"
                      },
                      {
                        "args": [
                          [
                            "n=290"
                          ],
                          {
                            "frame": {
                              "duration": 0,
                              "redraw": true
                            },
                            "mode": "immediate"
                          }
                        ],
                        "label": "290",
                        "method": "animate"
                      },
                      {
                        "args": [
                          [
                            "n=300"
                          ],
                          {
                            "frame": {
                              "duration": 0,
                              "redraw": true
                            },
                            "mode": "immediate"
                          }
                        ],
                        "label": "300",
                        "method": "animate"
                      },
                      {
                        "args": [
                          [
                            "n=310"
                          ],
                          {
                            "frame": {
                              "duration": 0,
                              "redraw": true
                            },
                            "mode": "immediate"
                          }
                        ],
                        "label": "310",
                        "method": "animate"
                      },
                      {
                        "args": [
                          [
                            "n=320"
                          ],
                          {
                            "frame": {
                              "duration": 0,
                              "redraw": true
                            },
                            "mode": "immediate"
                          }
                        ],
                        "label": "320",
                        "method": "animate"
                      },
                      {
                        "args": [
                          [
                            "n=330"
                          ],
                          {
                            "frame": {
                              "duration": 0,
                              "redraw": true
                            },
                            "mode": "immediate"
                          }
                        ],
                        "label": "330",
                        "method": "animate"
                      },
                      {
                        "args": [
                          [
                            "n=340"
                          ],
                          {
                            "frame": {
                              "duration": 0,
                              "redraw": true
                            },
                            "mode": "immediate"
                          }
                        ],
                        "label": "340",
                        "method": "animate"
                      },
                      {
                        "args": [
                          [
                            "n=350"
                          ],
                          {
                            "frame": {
                              "duration": 0,
                              "redraw": true
                            },
                            "mode": "immediate"
                          }
                        ],
                        "label": "350",
                        "method": "animate"
                      },
                      {
                        "args": [
                          [
                            "n=360"
                          ],
                          {
                            "frame": {
                              "duration": 0,
                              "redraw": true
                            },
                            "mode": "immediate"
                          }
                        ],
                        "label": "360",
                        "method": "animate"
                      },
                      {
                        "args": [
                          [
                            "n=370"
                          ],
                          {
                            "frame": {
                              "duration": 0,
                              "redraw": true
                            },
                            "mode": "immediate"
                          }
                        ],
                        "label": "370",
                        "method": "animate"
                      },
                      {
                        "args": [
                          [
                            "n=380"
                          ],
                          {
                            "frame": {
                              "duration": 0,
                              "redraw": true
                            },
                            "mode": "immediate"
                          }
                        ],
                        "label": "380",
                        "method": "animate"
                      },
                      {
                        "args": [
                          [
                            "n=390"
                          ],
                          {
                            "frame": {
                              "duration": 0,
                              "redraw": true
                            },
                            "mode": "immediate"
                          }
                        ],
                        "label": "390",
                        "method": "animate"
                      },
                      {
                        "args": [
                          [
                            "n=400"
                          ],
                          {
                            "frame": {
                              "duration": 0,
                              "redraw": true
                            },
                            "mode": "immediate"
                          }
                        ],
                        "label": "400",
                        "method": "animate"
                      },
                      {
                        "args": [
                          [
                            "n=410"
                          ],
                          {
                            "frame": {
                              "duration": 0,
                              "redraw": true
                            },
                            "mode": "immediate"
                          }
                        ],
                        "label": "410",
                        "method": "animate"
                      },
                      {
                        "args": [
                          [
                            "n=420"
                          ],
                          {
                            "frame": {
                              "duration": 0,
                              "redraw": true
                            },
                            "mode": "immediate"
                          }
                        ],
                        "label": "420",
                        "method": "animate"
                      },
                      {
                        "args": [
                          [
                            "n=430"
                          ],
                          {
                            "frame": {
                              "duration": 0,
                              "redraw": true
                            },
                            "mode": "immediate"
                          }
                        ],
                        "label": "430",
                        "method": "animate"
                      },
                      {
                        "args": [
                          [
                            "n=440"
                          ],
                          {
                            "frame": {
                              "duration": 0,
                              "redraw": true
                            },
                            "mode": "immediate"
                          }
                        ],
                        "label": "440",
                        "method": "animate"
                      },
                      {
                        "args": [
                          [
                            "n=450"
                          ],
                          {
                            "frame": {
                              "duration": 0,
                              "redraw": true
                            },
                            "mode": "immediate"
                          }
                        ],
                        "label": "450",
                        "method": "animate"
                      },
                      {
                        "args": [
                          [
                            "n=460"
                          ],
                          {
                            "frame": {
                              "duration": 0,
                              "redraw": true
                            },
                            "mode": "immediate"
                          }
                        ],
                        "label": "460",
                        "method": "animate"
                      },
                      {
                        "args": [
                          [
                            "n=470"
                          ],
                          {
                            "frame": {
                              "duration": 0,
                              "redraw": true
                            },
                            "mode": "immediate"
                          }
                        ],
                        "label": "470",
                        "method": "animate"
                      },
                      {
                        "args": [
                          [
                            "n=480"
                          ],
                          {
                            "frame": {
                              "duration": 0,
                              "redraw": true
                            },
                            "mode": "immediate"
                          }
                        ],
                        "label": "480",
                        "method": "animate"
                      },
                      {
                        "args": [
                          [
                            "n=490"
                          ],
                          {
                            "frame": {
                              "duration": 0,
                              "redraw": true
                            },
                            "mode": "immediate"
                          }
                        ],
                        "label": "490",
                        "method": "animate"
                      },
                      {
                        "args": [
                          [
                            "n=500"
                          ],
                          {
                            "frame": {
                              "duration": 0,
                              "redraw": true
                            },
                            "mode": "immediate"
                          }
                        ],
                        "label": "500",
                        "method": "animate"
                      },
                      {
                        "args": [
                          [
                            "n=510"
                          ],
                          {
                            "frame": {
                              "duration": 0,
                              "redraw": true
                            },
                            "mode": "immediate"
                          }
                        ],
                        "label": "510",
                        "method": "animate"
                      },
                      {
                        "args": [
                          [
                            "n=520"
                          ],
                          {
                            "frame": {
                              "duration": 0,
                              "redraw": true
                            },
                            "mode": "immediate"
                          }
                        ],
                        "label": "520",
                        "method": "animate"
                      },
                      {
                        "args": [
                          [
                            "n=530"
                          ],
                          {
                            "frame": {
                              "duration": 0,
                              "redraw": true
                            },
                            "mode": "immediate"
                          }
                        ],
                        "label": "530",
                        "method": "animate"
                      },
                      {
                        "args": [
                          [
                            "n=540"
                          ],
                          {
                            "frame": {
                              "duration": 0,
                              "redraw": true
                            },
                            "mode": "immediate"
                          }
                        ],
                        "label": "540",
                        "method": "animate"
                      },
                      {
                        "args": [
                          [
                            "n=550"
                          ],
                          {
                            "frame": {
                              "duration": 0,
                              "redraw": true
                            },
                            "mode": "immediate"
                          }
                        ],
                        "label": "550",
                        "method": "animate"
                      },
                      {
                        "args": [
                          [
                            "n=560"
                          ],
                          {
                            "frame": {
                              "duration": 0,
                              "redraw": true
                            },
                            "mode": "immediate"
                          }
                        ],
                        "label": "560",
                        "method": "animate"
                      },
                      {
                        "args": [
                          [
                            "n=570"
                          ],
                          {
                            "frame": {
                              "duration": 0,
                              "redraw": true
                            },
                            "mode": "immediate"
                          }
                        ],
                        "label": "570",
                        "method": "animate"
                      },
                      {
                        "args": [
                          [
                            "n=580"
                          ],
                          {
                            "frame": {
                              "duration": 0,
                              "redraw": true
                            },
                            "mode": "immediate"
                          }
                        ],
                        "label": "580",
                        "method": "animate"
                      },
                      {
                        "args": [
                          [
                            "n=590"
                          ],
                          {
                            "frame": {
                              "duration": 0,
                              "redraw": true
                            },
                            "mode": "immediate"
                          }
                        ],
                        "label": "590",
                        "method": "animate"
                      },
                      {
                        "args": [
                          [
                            "n=600"
                          ],
                          {
                            "frame": {
                              "duration": 0,
                              "redraw": true
                            },
                            "mode": "immediate"
                          }
                        ],
                        "label": "600",
                        "method": "animate"
                      },
                      {
                        "args": [
                          [
                            "n=610"
                          ],
                          {
                            "frame": {
                              "duration": 0,
                              "redraw": true
                            },
                            "mode": "immediate"
                          }
                        ],
                        "label": "610",
                        "method": "animate"
                      },
                      {
                        "args": [
                          [
                            "n=620"
                          ],
                          {
                            "frame": {
                              "duration": 0,
                              "redraw": true
                            },
                            "mode": "immediate"
                          }
                        ],
                        "label": "620",
                        "method": "animate"
                      },
                      {
                        "args": [
                          [
                            "n=630"
                          ],
                          {
                            "frame": {
                              "duration": 0,
                              "redraw": true
                            },
                            "mode": "immediate"
                          }
                        ],
                        "label": "630",
                        "method": "animate"
                      },
                      {
                        "args": [
                          [
                            "n=640"
                          ],
                          {
                            "frame": {
                              "duration": 0,
                              "redraw": true
                            },
                            "mode": "immediate"
                          }
                        ],
                        "label": "640",
                        "method": "animate"
                      },
                      {
                        "args": [
                          [
                            "n=650"
                          ],
                          {
                            "frame": {
                              "duration": 0,
                              "redraw": true
                            },
                            "mode": "immediate"
                          }
                        ],
                        "label": "650",
                        "method": "animate"
                      },
                      {
                        "args": [
                          [
                            "n=660"
                          ],
                          {
                            "frame": {
                              "duration": 0,
                              "redraw": true
                            },
                            "mode": "immediate"
                          }
                        ],
                        "label": "660",
                        "method": "animate"
                      },
                      {
                        "args": [
                          [
                            "n=670"
                          ],
                          {
                            "frame": {
                              "duration": 0,
                              "redraw": true
                            },
                            "mode": "immediate"
                          }
                        ],
                        "label": "670",
                        "method": "animate"
                      },
                      {
                        "args": [
                          [
                            "n=680"
                          ],
                          {
                            "frame": {
                              "duration": 0,
                              "redraw": true
                            },
                            "mode": "immediate"
                          }
                        ],
                        "label": "680",
                        "method": "animate"
                      },
                      {
                        "args": [
                          [
                            "n=690"
                          ],
                          {
                            "frame": {
                              "duration": 0,
                              "redraw": true
                            },
                            "mode": "immediate"
                          }
                        ],
                        "label": "690",
                        "method": "animate"
                      },
                      {
                        "args": [
                          [
                            "n=700"
                          ],
                          {
                            "frame": {
                              "duration": 0,
                              "redraw": true
                            },
                            "mode": "immediate"
                          }
                        ],
                        "label": "700",
                        "method": "animate"
                      },
                      {
                        "args": [
                          [
                            "n=710"
                          ],
                          {
                            "frame": {
                              "duration": 0,
                              "redraw": true
                            },
                            "mode": "immediate"
                          }
                        ],
                        "label": "710",
                        "method": "animate"
                      },
                      {
                        "args": [
                          [
                            "n=720"
                          ],
                          {
                            "frame": {
                              "duration": 0,
                              "redraw": true
                            },
                            "mode": "immediate"
                          }
                        ],
                        "label": "720",
                        "method": "animate"
                      },
                      {
                        "args": [
                          [
                            "n=730"
                          ],
                          {
                            "frame": {
                              "duration": 0,
                              "redraw": true
                            },
                            "mode": "immediate"
                          }
                        ],
                        "label": "730",
                        "method": "animate"
                      },
                      {
                        "args": [
                          [
                            "n=740"
                          ],
                          {
                            "frame": {
                              "duration": 0,
                              "redraw": true
                            },
                            "mode": "immediate"
                          }
                        ],
                        "label": "740",
                        "method": "animate"
                      },
                      {
                        "args": [
                          [
                            "n=750"
                          ],
                          {
                            "frame": {
                              "duration": 0,
                              "redraw": true
                            },
                            "mode": "immediate"
                          }
                        ],
                        "label": "750",
                        "method": "animate"
                      },
                      {
                        "args": [
                          [
                            "n=760"
                          ],
                          {
                            "frame": {
                              "duration": 0,
                              "redraw": true
                            },
                            "mode": "immediate"
                          }
                        ],
                        "label": "760",
                        "method": "animate"
                      },
                      {
                        "args": [
                          [
                            "n=770"
                          ],
                          {
                            "frame": {
                              "duration": 0,
                              "redraw": true
                            },
                            "mode": "immediate"
                          }
                        ],
                        "label": "770",
                        "method": "animate"
                      },
                      {
                        "args": [
                          [
                            "n=780"
                          ],
                          {
                            "frame": {
                              "duration": 0,
                              "redraw": true
                            },
                            "mode": "immediate"
                          }
                        ],
                        "label": "780",
                        "method": "animate"
                      },
                      {
                        "args": [
                          [
                            "n=790"
                          ],
                          {
                            "frame": {
                              "duration": 0,
                              "redraw": true
                            },
                            "mode": "immediate"
                          }
                        ],
                        "label": "790",
                        "method": "animate"
                      },
                      {
                        "args": [
                          [
                            "n=800"
                          ],
                          {
                            "frame": {
                              "duration": 0,
                              "redraw": true
                            },
                            "mode": "immediate"
                          }
                        ],
                        "label": "800",
                        "method": "animate"
                      },
                      {
                        "args": [
                          [
                            "n=810"
                          ],
                          {
                            "frame": {
                              "duration": 0,
                              "redraw": true
                            },
                            "mode": "immediate"
                          }
                        ],
                        "label": "810",
                        "method": "animate"
                      },
                      {
                        "args": [
                          [
                            "n=820"
                          ],
                          {
                            "frame": {
                              "duration": 0,
                              "redraw": true
                            },
                            "mode": "immediate"
                          }
                        ],
                        "label": "820",
                        "method": "animate"
                      },
                      {
                        "args": [
                          [
                            "n=830"
                          ],
                          {
                            "frame": {
                              "duration": 0,
                              "redraw": true
                            },
                            "mode": "immediate"
                          }
                        ],
                        "label": "830",
                        "method": "animate"
                      },
                      {
                        "args": [
                          [
                            "n=840"
                          ],
                          {
                            "frame": {
                              "duration": 0,
                              "redraw": true
                            },
                            "mode": "immediate"
                          }
                        ],
                        "label": "840",
                        "method": "animate"
                      },
                      {
                        "args": [
                          [
                            "n=850"
                          ],
                          {
                            "frame": {
                              "duration": 0,
                              "redraw": true
                            },
                            "mode": "immediate"
                          }
                        ],
                        "label": "850",
                        "method": "animate"
                      },
                      {
                        "args": [
                          [
                            "n=860"
                          ],
                          {
                            "frame": {
                              "duration": 0,
                              "redraw": true
                            },
                            "mode": "immediate"
                          }
                        ],
                        "label": "860",
                        "method": "animate"
                      },
                      {
                        "args": [
                          [
                            "n=870"
                          ],
                          {
                            "frame": {
                              "duration": 0,
                              "redraw": true
                            },
                            "mode": "immediate"
                          }
                        ],
                        "label": "870",
                        "method": "animate"
                      },
                      {
                        "args": [
                          [
                            "n=880"
                          ],
                          {
                            "frame": {
                              "duration": 0,
                              "redraw": true
                            },
                            "mode": "immediate"
                          }
                        ],
                        "label": "880",
                        "method": "animate"
                      },
                      {
                        "args": [
                          [
                            "n=890"
                          ],
                          {
                            "frame": {
                              "duration": 0,
                              "redraw": true
                            },
                            "mode": "immediate"
                          }
                        ],
                        "label": "890",
                        "method": "animate"
                      },
                      {
                        "args": [
                          [
                            "n=900"
                          ],
                          {
                            "frame": {
                              "duration": 0,
                              "redraw": true
                            },
                            "mode": "immediate"
                          }
                        ],
                        "label": "900",
                        "method": "animate"
                      },
                      {
                        "args": [
                          [
                            "n=910"
                          ],
                          {
                            "frame": {
                              "duration": 0,
                              "redraw": true
                            },
                            "mode": "immediate"
                          }
                        ],
                        "label": "910",
                        "method": "animate"
                      },
                      {
                        "args": [
                          [
                            "n=920"
                          ],
                          {
                            "frame": {
                              "duration": 0,
                              "redraw": true
                            },
                            "mode": "immediate"
                          }
                        ],
                        "label": "920",
                        "method": "animate"
                      },
                      {
                        "args": [
                          [
                            "n=930"
                          ],
                          {
                            "frame": {
                              "duration": 0,
                              "redraw": true
                            },
                            "mode": "immediate"
                          }
                        ],
                        "label": "930",
                        "method": "animate"
                      },
                      {
                        "args": [
                          [
                            "n=940"
                          ],
                          {
                            "frame": {
                              "duration": 0,
                              "redraw": true
                            },
                            "mode": "immediate"
                          }
                        ],
                        "label": "940",
                        "method": "animate"
                      },
                      {
                        "args": [
                          [
                            "n=950"
                          ],
                          {
                            "frame": {
                              "duration": 0,
                              "redraw": true
                            },
                            "mode": "immediate"
                          }
                        ],
                        "label": "950",
                        "method": "animate"
                      },
                      {
                        "args": [
                          [
                            "n=960"
                          ],
                          {
                            "frame": {
                              "duration": 0,
                              "redraw": true
                            },
                            "mode": "immediate"
                          }
                        ],
                        "label": "960",
                        "method": "animate"
                      },
                      {
                        "args": [
                          [
                            "n=970"
                          ],
                          {
                            "frame": {
                              "duration": 0,
                              "redraw": true
                            },
                            "mode": "immediate"
                          }
                        ],
                        "label": "970",
                        "method": "animate"
                      },
                      {
                        "args": [
                          [
                            "n=980"
                          ],
                          {
                            "frame": {
                              "duration": 0,
                              "redraw": true
                            },
                            "mode": "immediate"
                          }
                        ],
                        "label": "980",
                        "method": "animate"
                      },
                      {
                        "args": [
                          [
                            "n=990"
                          ],
                          {
                            "frame": {
                              "duration": 0,
                              "redraw": true
                            },
                            "mode": "immediate"
                          }
                        ],
                        "label": "990",
                        "method": "animate"
                      },
                      {
                        "args": [
                          [
                            "n=1000"
                          ],
                          {
                            "frame": {
                              "duration": 0,
                              "redraw": true
                            },
                            "mode": "immediate"
                          }
                        ],
                        "label": "1000",
                        "method": "animate"
                      }
                    ]
                  }
                ],
                "template": {
                  "data": {
                    "bar": [
                      {
                        "error_x": {
                          "color": "#2a3f5f"
                        },
                        "error_y": {
                          "color": "#2a3f5f"
                        },
                        "marker": {
                          "line": {
                            "color": "#E5ECF6",
                            "width": 0.5
                          },
                          "pattern": {
                            "fillmode": "overlay",
                            "size": 10,
                            "solidity": 0.2
                          }
                        },
                        "type": "bar"
                      }
                    ],
                    "barpolar": [
                      {
                        "marker": {
                          "line": {
                            "color": "#E5ECF6",
                            "width": 0.5
                          },
                          "pattern": {
                            "fillmode": "overlay",
                            "size": 10,
                            "solidity": 0.2
                          }
                        },
                        "type": "barpolar"
                      }
                    ],
                    "carpet": [
                      {
                        "aaxis": {
                          "endlinecolor": "#2a3f5f",
                          "gridcolor": "white",
                          "linecolor": "white",
                          "minorgridcolor": "white",
                          "startlinecolor": "#2a3f5f"
                        },
                        "baxis": {
                          "endlinecolor": "#2a3f5f",
                          "gridcolor": "white",
                          "linecolor": "white",
                          "minorgridcolor": "white",
                          "startlinecolor": "#2a3f5f"
                        },
                        "type": "carpet"
                      }
                    ],
                    "choropleth": [
                      {
                        "colorbar": {
                          "outlinewidth": 0,
                          "ticks": ""
                        },
                        "type": "choropleth"
                      }
                    ],
                    "contour": [
                      {
                        "colorbar": {
                          "outlinewidth": 0,
                          "ticks": ""
                        },
                        "colorscale": [
                          [
                            0,
                            "#0d0887"
                          ],
                          [
                            0.1111111111111111,
                            "#46039f"
                          ],
                          [
                            0.2222222222222222,
                            "#7201a8"
                          ],
                          [
                            0.3333333333333333,
                            "#9c179e"
                          ],
                          [
                            0.4444444444444444,
                            "#bd3786"
                          ],
                          [
                            0.5555555555555556,
                            "#d8576b"
                          ],
                          [
                            0.6666666666666666,
                            "#ed7953"
                          ],
                          [
                            0.7777777777777778,
                            "#fb9f3a"
                          ],
                          [
                            0.8888888888888888,
                            "#fdca26"
                          ],
                          [
                            1,
                            "#f0f921"
                          ]
                        ],
                        "type": "contour"
                      }
                    ],
                    "contourcarpet": [
                      {
                        "colorbar": {
                          "outlinewidth": 0,
                          "ticks": ""
                        },
                        "type": "contourcarpet"
                      }
                    ],
                    "heatmap": [
                      {
                        "colorbar": {
                          "outlinewidth": 0,
                          "ticks": ""
                        },
                        "colorscale": [
                          [
                            0,
                            "#0d0887"
                          ],
                          [
                            0.1111111111111111,
                            "#46039f"
                          ],
                          [
                            0.2222222222222222,
                            "#7201a8"
                          ],
                          [
                            0.3333333333333333,
                            "#9c179e"
                          ],
                          [
                            0.4444444444444444,
                            "#bd3786"
                          ],
                          [
                            0.5555555555555556,
                            "#d8576b"
                          ],
                          [
                            0.6666666666666666,
                            "#ed7953"
                          ],
                          [
                            0.7777777777777778,
                            "#fb9f3a"
                          ],
                          [
                            0.8888888888888888,
                            "#fdca26"
                          ],
                          [
                            1,
                            "#f0f921"
                          ]
                        ],
                        "type": "heatmap"
                      }
                    ],
                    "histogram": [
                      {
                        "marker": {
                          "pattern": {
                            "fillmode": "overlay",
                            "size": 10,
                            "solidity": 0.2
                          }
                        },
                        "type": "histogram"
                      }
                    ],
                    "histogram2d": [
                      {
                        "colorbar": {
                          "outlinewidth": 0,
                          "ticks": ""
                        },
                        "colorscale": [
                          [
                            0,
                            "#0d0887"
                          ],
                          [
                            0.1111111111111111,
                            "#46039f"
                          ],
                          [
                            0.2222222222222222,
                            "#7201a8"
                          ],
                          [
                            0.3333333333333333,
                            "#9c179e"
                          ],
                          [
                            0.4444444444444444,
                            "#bd3786"
                          ],
                          [
                            0.5555555555555556,
                            "#d8576b"
                          ],
                          [
                            0.6666666666666666,
                            "#ed7953"
                          ],
                          [
                            0.7777777777777778,
                            "#fb9f3a"
                          ],
                          [
                            0.8888888888888888,
                            "#fdca26"
                          ],
                          [
                            1,
                            "#f0f921"
                          ]
                        ],
                        "type": "histogram2d"
                      }
                    ],
                    "histogram2dcontour": [
                      {
                        "colorbar": {
                          "outlinewidth": 0,
                          "ticks": ""
                        },
                        "colorscale": [
                          [
                            0,
                            "#0d0887"
                          ],
                          [
                            0.1111111111111111,
                            "#46039f"
                          ],
                          [
                            0.2222222222222222,
                            "#7201a8"
                          ],
                          [
                            0.3333333333333333,
                            "#9c179e"
                          ],
                          [
                            0.4444444444444444,
                            "#bd3786"
                          ],
                          [
                            0.5555555555555556,
                            "#d8576b"
                          ],
                          [
                            0.6666666666666666,
                            "#ed7953"
                          ],
                          [
                            0.7777777777777778,
                            "#fb9f3a"
                          ],
                          [
                            0.8888888888888888,
                            "#fdca26"
                          ],
                          [
                            1,
                            "#f0f921"
                          ]
                        ],
                        "type": "histogram2dcontour"
                      }
                    ],
                    "mesh3d": [
                      {
                        "colorbar": {
                          "outlinewidth": 0,
                          "ticks": ""
                        },
                        "type": "mesh3d"
                      }
                    ],
                    "parcoords": [
                      {
                        "line": {
                          "colorbar": {
                            "outlinewidth": 0,
                            "ticks": ""
                          }
                        },
                        "type": "parcoords"
                      }
                    ],
                    "pie": [
                      {
                        "automargin": true,
                        "type": "pie"
                      }
                    ],
                    "scatter": [
                      {
                        "fillpattern": {
                          "fillmode": "overlay",
                          "size": 10,
                          "solidity": 0.2
                        },
                        "type": "scatter"
                      }
                    ],
                    "scatter3d": [
                      {
                        "line": {
                          "colorbar": {
                            "outlinewidth": 0,
                            "ticks": ""
                          }
                        },
                        "marker": {
                          "colorbar": {
                            "outlinewidth": 0,
                            "ticks": ""
                          }
                        },
                        "type": "scatter3d"
                      }
                    ],
                    "scattercarpet": [
                      {
                        "marker": {
                          "colorbar": {
                            "outlinewidth": 0,
                            "ticks": ""
                          }
                        },
                        "type": "scattercarpet"
                      }
                    ],
                    "scattergeo": [
                      {
                        "marker": {
                          "colorbar": {
                            "outlinewidth": 0,
                            "ticks": ""
                          }
                        },
                        "type": "scattergeo"
                      }
                    ],
                    "scattergl": [
                      {
                        "marker": {
                          "colorbar": {
                            "outlinewidth": 0,
                            "ticks": ""
                          }
                        },
                        "type": "scattergl"
                      }
                    ],
                    "scattermap": [
                      {
                        "marker": {
                          "colorbar": {
                            "outlinewidth": 0,
                            "ticks": ""
                          }
                        },
                        "type": "scattermap"
                      }
                    ],
                    "scattermapbox": [
                      {
                        "marker": {
                          "colorbar": {
                            "outlinewidth": 0,
                            "ticks": ""
                          }
                        },
                        "type": "scattermapbox"
                      }
                    ],
                    "scatterpolar": [
                      {
                        "marker": {
                          "colorbar": {
                            "outlinewidth": 0,
                            "ticks": ""
                          }
                        },
                        "type": "scatterpolar"
                      }
                    ],
                    "scatterpolargl": [
                      {
                        "marker": {
                          "colorbar": {
                            "outlinewidth": 0,
                            "ticks": ""
                          }
                        },
                        "type": "scatterpolargl"
                      }
                    ],
                    "scatterternary": [
                      {
                        "marker": {
                          "colorbar": {
                            "outlinewidth": 0,
                            "ticks": ""
                          }
                        },
                        "type": "scatterternary"
                      }
                    ],
                    "surface": [
                      {
                        "colorbar": {
                          "outlinewidth": 0,
                          "ticks": ""
                        },
                        "colorscale": [
                          [
                            0,
                            "#0d0887"
                          ],
                          [
                            0.1111111111111111,
                            "#46039f"
                          ],
                          [
                            0.2222222222222222,
                            "#7201a8"
                          ],
                          [
                            0.3333333333333333,
                            "#9c179e"
                          ],
                          [
                            0.4444444444444444,
                            "#bd3786"
                          ],
                          [
                            0.5555555555555556,
                            "#d8576b"
                          ],
                          [
                            0.6666666666666666,
                            "#ed7953"
                          ],
                          [
                            0.7777777777777778,
                            "#fb9f3a"
                          ],
                          [
                            0.8888888888888888,
                            "#fdca26"
                          ],
                          [
                            1,
                            "#f0f921"
                          ]
                        ],
                        "type": "surface"
                      }
                    ],
                    "table": [
                      {
                        "cells": {
                          "fill": {
                            "color": "#EBF0F8"
                          },
                          "line": {
                            "color": "white"
                          }
                        },
                        "header": {
                          "fill": {
                            "color": "#C8D4E3"
                          },
                          "line": {
                            "color": "white"
                          }
                        },
                        "type": "table"
                      }
                    ]
                  },
                  "layout": {
                    "annotationdefaults": {
                      "arrowcolor": "#2a3f5f",
                      "arrowhead": 0,
                      "arrowwidth": 1
                    },
                    "autotypenumbers": "strict",
                    "coloraxis": {
                      "colorbar": {
                        "outlinewidth": 0,
                        "ticks": ""
                      }
                    },
                    "colorscale": {
                      "diverging": [
                        [
                          0,
                          "#8e0152"
                        ],
                        [
                          0.1,
                          "#c51b7d"
                        ],
                        [
                          0.2,
                          "#de77ae"
                        ],
                        [
                          0.3,
                          "#f1b6da"
                        ],
                        [
                          0.4,
                          "#fde0ef"
                        ],
                        [
                          0.5,
                          "#f7f7f7"
                        ],
                        [
                          0.6,
                          "#e6f5d0"
                        ],
                        [
                          0.7,
                          "#b8e186"
                        ],
                        [
                          0.8,
                          "#7fbc41"
                        ],
                        [
                          0.9,
                          "#4d9221"
                        ],
                        [
                          1,
                          "#276419"
                        ]
                      ],
                      "sequential": [
                        [
                          0,
                          "#0d0887"
                        ],
                        [
                          0.1111111111111111,
                          "#46039f"
                        ],
                        [
                          0.2222222222222222,
                          "#7201a8"
                        ],
                        [
                          0.3333333333333333,
                          "#9c179e"
                        ],
                        [
                          0.4444444444444444,
                          "#bd3786"
                        ],
                        [
                          0.5555555555555556,
                          "#d8576b"
                        ],
                        [
                          0.6666666666666666,
                          "#ed7953"
                        ],
                        [
                          0.7777777777777778,
                          "#fb9f3a"
                        ],
                        [
                          0.8888888888888888,
                          "#fdca26"
                        ],
                        [
                          1,
                          "#f0f921"
                        ]
                      ],
                      "sequentialminus": [
                        [
                          0,
                          "#0d0887"
                        ],
                        [
                          0.1111111111111111,
                          "#46039f"
                        ],
                        [
                          0.2222222222222222,
                          "#7201a8"
                        ],
                        [
                          0.3333333333333333,
                          "#9c179e"
                        ],
                        [
                          0.4444444444444444,
                          "#bd3786"
                        ],
                        [
                          0.5555555555555556,
                          "#d8576b"
                        ],
                        [
                          0.6666666666666666,
                          "#ed7953"
                        ],
                        [
                          0.7777777777777778,
                          "#fb9f3a"
                        ],
                        [
                          0.8888888888888888,
                          "#fdca26"
                        ],
                        [
                          1,
                          "#f0f921"
                        ]
                      ]
                    },
                    "colorway": [
                      "#636efa",
                      "#EF553B",
                      "#00cc96",
                      "#ab63fa",
                      "#FFA15A",
                      "#19d3f3",
                      "#FF6692",
                      "#B6E880",
                      "#FF97FF",
                      "#FECB52"
                    ],
                    "font": {
                      "color": "#2a3f5f"
                    },
                    "geo": {
                      "bgcolor": "white",
                      "lakecolor": "white",
                      "landcolor": "#E5ECF6",
                      "showlakes": true,
                      "showland": true,
                      "subunitcolor": "white"
                    },
                    "hoverlabel": {
                      "align": "left"
                    },
                    "hovermode": "closest",
                    "mapbox": {
                      "style": "light"
                    },
                    "paper_bgcolor": "white",
                    "plot_bgcolor": "#E5ECF6",
                    "polar": {
                      "angularaxis": {
                        "gridcolor": "white",
                        "linecolor": "white",
                        "ticks": ""
                      },
                      "bgcolor": "#E5ECF6",
                      "radialaxis": {
                        "gridcolor": "white",
                        "linecolor": "white",
                        "ticks": ""
                      }
                    },
                    "scene": {
                      "xaxis": {
                        "backgroundcolor": "#E5ECF6",
                        "gridcolor": "white",
                        "gridwidth": 2,
                        "linecolor": "white",
                        "showbackground": true,
                        "ticks": "",
                        "zerolinecolor": "white"
                      },
                      "yaxis": {
                        "backgroundcolor": "#E5ECF6",
                        "gridcolor": "white",
                        "gridwidth": 2,
                        "linecolor": "white",
                        "showbackground": true,
                        "ticks": "",
                        "zerolinecolor": "white"
                      },
                      "zaxis": {
                        "backgroundcolor": "#E5ECF6",
                        "gridcolor": "white",
                        "gridwidth": 2,
                        "linecolor": "white",
                        "showbackground": true,
                        "ticks": "",
                        "zerolinecolor": "white"
                      }
                    },
                    "shapedefaults": {
                      "line": {
                        "color": "#2a3f5f"
                      }
                    },
                    "ternary": {
                      "aaxis": {
                        "gridcolor": "white",
                        "linecolor": "white",
                        "ticks": ""
                      },
                      "baxis": {
                        "gridcolor": "white",
                        "linecolor": "white",
                        "ticks": ""
                      },
                      "bgcolor": "#E5ECF6",
                      "caxis": {
                        "gridcolor": "white",
                        "linecolor": "white",
                        "ticks": ""
                      }
                    },
                    "title": {
                      "x": 0.05
                    },
                    "xaxis": {
                      "automargin": true,
                      "gridcolor": "white",
                      "linecolor": "white",
                      "ticks": "",
                      "title": {
                        "standoff": 15
                      },
                      "zerolinecolor": "white",
                      "zerolinewidth": 2
                    },
                    "yaxis": {
                      "automargin": true,
                      "gridcolor": "white",
                      "linecolor": "white",
                      "ticks": "",
                      "title": {
                        "standoff": 15
                      },
                      "zerolinecolor": "white",
                      "zerolinewidth": 2
                    }
                  }
                },
                "title": {
                  "text": "이항분포 샘플과 정규근사"
                },
                "updatemenus": [
                  {
                    "buttons": [
                      {
                        "args": [
                          null,
                          {
                            "frame": {
                              "duration": 100,
                              "redraw": true
                            },
                            "fromcurrent": true,
                            "mode": "immediate"
                          }
                        ],
                        "label": "재생",
                        "method": "animate"
                      },
                      {
                        "args": [
                          [
                            null
                          ],
                          {
                            "frame": {
                              "duration": 0,
                              "redraw": true
                            },
                            "mode": "immediate",
                            "transition": {
                              "duration": 0
                            }
                          }
                        ],
                        "label": "정지",
                        "method": "animate"
                      }
                    ],
                    "direction": "left",
                    "showactive": false,
                    "type": "buttons",
                    "x": 0.1,
                    "y": 1.1
                  }
                ],
                "xaxis": {
                  "title": {
                    "text": "성공 횟수 (예: 구매 횟수)"
                  }
                },
                "yaxis": {
                  "title": {
                    "text": "확률(밀도)"
                  }
                }
              }
            }
          },
          "metadata": {},
          "output_type": "display_data"
        }
      ],
      "source": [
        "import numpy as np\n",
        "import plotly.graph_objects as go\n",
        "from plotly.subplots import make_subplots\n",
        "from scipy.stats import norm, binom\n",
        "\n",
        "# 초기 설정\n",
        "p_conversion = 0.3  # 예: 특정 행동을 할 확률\n",
        "sample_sizes_clt = np.arange(10, 1001, 10)  # 10부터 1000까지 10단위로 증가\n",
        "num_simulations = 10000  # 각 샘플 크기별 시뮬레이션 횟수\n",
        "\n",
        "# Plotly Figure 생성\n",
        "fig_clt = go.Figure()\n",
        "\n",
        "# 프레임 생성\n",
        "frames = []\n",
        "for n_sample in sample_sizes_clt:\n",
        "    # 이항분포의 평균과 표준편차\n",
        "    mu_binom = n_sample * p_conversion\n",
        "    sigma_binom = np.sqrt(n_sample * p_conversion * (1 - p_conversion))\n",
        "    \n",
        "    # 이항분포에서 샘플 생성\n",
        "    samples = binom.rvs(n=n_sample, p=p_conversion, size=num_simulations)\n",
        "    \n",
        "    # 히스토그램 데이터 생성\n",
        "    hist_values, bin_edges = np.histogram(samples, bins=30, density=True)\n",
        "    bin_centers = (bin_edges[:-1] + bin_edges[1:]) / 2\n",
        "\n",
        "    # 정규분포 근사 PDF\n",
        "    norm_approx_values = norm.pdf(bin_centers, mu_binom, sigma_binom)\n",
        "\n",
        "    frame = go.Frame(\n",
        "        data=[\n",
        "            go.Bar(x=bin_centers, y=hist_values, name='이항분포 샘플', \n",
        "                  marker_color='blue', opacity=0.7),\n",
        "            go.Scatter(x=bin_centers, y=norm_approx_values, name='정규근사',\n",
        "                      mode='lines', line=dict(color='red', dash='dash'))\n",
        "        ],\n",
        "        name=f'n={n_sample}'\n",
        "    )\n",
        "    frames.append(frame)\n",
        "\n",
        "# 초기 프레임 추가\n",
        "n_sample = sample_sizes_clt[0]\n",
        "mu_binom = n_sample * p_conversion\n",
        "sigma_binom = np.sqrt(n_sample * p_conversion * (1 - p_conversion))\n",
        "samples = binom.rvs(n=n_sample, p=p_conversion, size=num_simulations)\n",
        "hist_values, bin_edges = np.histogram(samples, bins=30, density=True)\n",
        "bin_centers = (bin_edges[:-1] + bin_edges[1:]) / 2\n",
        "norm_approx_values = norm.pdf(bin_centers, mu_binom, sigma_binom)\n",
        "\n",
        "fig_clt.add_trace(go.Bar(\n",
        "    x=bin_centers, y=hist_values,\n",
        "    name='이항분포 샘플',\n",
        "    marker_color='blue', opacity=0.7\n",
        "))\n",
        "fig_clt.add_trace(go.Scatter(\n",
        "    x=bin_centers, y=norm_approx_values,\n",
        "    name='정규근사',\n",
        "    mode='lines', line=dict(color='red', dash='dash')\n",
        "))\n",
        "\n",
        "# 애니메이션 버튼 추가\n",
        "fig_clt.update_layout(\n",
        "    updatemenus=[\n",
        "        dict(\n",
        "            type=\"buttons\",\n",
        "            direction=\"left\",\n",
        "            x=0.1,\n",
        "            y=1.1,\n",
        "            showactive=False,\n",
        "            buttons=list([\n",
        "                dict(\n",
        "                    args=[None, {\"frame\": {\"duration\": 100, \"redraw\": True},\n",
        "                                \"fromcurrent\": True, \"mode\": \"immediate\"}],\n",
        "                    label=\"재생\",\n",
        "                    method=\"animate\"\n",
        "                ),\n",
        "                dict(\n",
        "                    args=[[None], {\"frame\": {\"duration\": 0, \"redraw\": True},\n",
        "                                  \"mode\": \"immediate\",\n",
        "                                  \"transition\": {\"duration\": 0}}],\n",
        "                    label=\"정지\",\n",
        "                    method=\"animate\"\n",
        "                )\n",
        "            ])\n",
        "        )\n",
        "    ],\n",
        "    sliders=[dict(\n",
        "        currentvalue={\"prefix\": \"샘플 크기(n): \"},\n",
        "        pad={\"t\": 50},\n",
        "        steps=[dict(\n",
        "            method=\"animate\",\n",
        "            args=[[f\"n={n}\"], {\"frame\": {\"duration\": 0, \"redraw\": True},\n",
        "                              \"mode\": \"immediate\"}],\n",
        "            label=str(n)\n",
        "        ) for n in sample_sizes_clt]\n",
        "    )]\n",
        ")\n",
        "\n",
        "# 프레임 추가\n",
        "fig_clt.frames = frames\n",
        "\n",
        "# 레이아웃 업데이트\n",
        "fig_clt.update_layout(\n",
        "    title_text=\"이항분포 샘플과 정규근사\",\n",
        "    xaxis_title=\"성공 횟수 (예: 구매 횟수)\",\n",
        "    yaxis_title=\"확률(밀도)\",\n",
        "    bargap=0.1\n",
        ")\n",
        "\n",
        "fig_clt.show()"
      ]
    },
    {
      "cell_type": "markdown",
      "metadata": {
        "id": "oWi7yMBq_zvm"
      },
      "source": [
        "**4. 1종 오류와 2종 오류 시각화**\n",
        "\n",
        "MDE, 유의수준, 표준편차에 따라 1종 오류($\\alpha$)와 2종 오류($\\beta$) 영역이 어떻게 변하는지 시각화합니다."
      ]
    },
    {
      "cell_type": "code",
      "execution_count": 24,
      "metadata": {
        "id": "G11n9dJr_zvm"
      },
      "outputs": [],
      "source": [
        "import plotly.graph_objects as go\n",
        "import numpy as np\n",
        "from scipy.stats import norm\n",
        "\n",
        "def plot_error_types(mu_null=0, mu_alt=1, sigma=1, alpha_level=0.05, title_suffix=\"\"):\n",
        "    x_min = min(mu_null, mu_alt) - 4 * sigma\n",
        "    x_max = max(mu_null, mu_alt) + 4 * sigma\n",
        "    x = np.linspace(x_min, x_max, 1000)\n",
        "\n",
        "    pdf_null = norm.pdf(x, mu_null, sigma)\n",
        "    pdf_alt = norm.pdf(x, mu_alt, sigma)\n",
        "\n",
        "    fig_error = go.Figure()\n",
        "\n",
        "    fig_error.add_trace(go.Scatter(x=x, y=pdf_null, mode='lines', name='H0 분포 (귀무 가설)', line=dict(color='blue')))\n",
        "    fig_error.add_trace(go.Scatter(x=x, y=pdf_alt, mode='lines', name='H1 분포 (대립 가설)', line=dict(color='red')))\n",
        "\n",
        "    # 임계값 (양측 검정의 경우, 여기서는 단측 검정 (H1: mu_alt > mu_null) 예시)\n",
        "    critical_value = norm.ppf(1 - alpha_level, mu_null, sigma)\n",
        "\n",
        "    # 1종 오류 (Alpha) 영역\n",
        "    x_alpha = np.linspace(critical_value, x_max, 200)\n",
        "    y_alpha_fill = norm.pdf(x_alpha, mu_null, sigma)\n",
        "    fig_error.add_trace(go.Scatter(x=np.concatenate([x_alpha, x_alpha[::-1]]),\n",
        "                                 y=np.concatenate([y_alpha_fill, np.zeros_like(y_alpha_fill)]),\n",
        "                                 fill='toself', fillcolor='rgba(0,0,255,0.2)', line=dict(color='rgba(255,255,255,0)'),\n",
        "                                 name=f'1종 오류 (α = {alpha_level})'))\n",
        "\n",
        "    # 2종 오류 (Beta) 영역\n",
        "    x_beta = np.linspace(x_min, critical_value, 200)\n",
        "    y_beta_fill = norm.pdf(x_beta, mu_alt, sigma)\n",
        "    fig_error.add_trace(go.Scatter(x=np.concatenate([x_beta, x_beta[::-1]]),\n",
        "                                 y=np.concatenate([y_beta_fill, np.zeros_like(y_beta_fill)]),\n",
        "                                 fill='toself', fillcolor='rgba(255,0,0,0.2)', line=dict(color='rgba(255,255,255,0)'),\n",
        "                                 name='2종 오류 (β)'))\n",
        "\n",
        "    fig_error.add_vline(x=critical_value, line_width=2, line_dash=\"dash\", line_color=\"green\", name=\"임계값\")\n",
        "\n",
        "    power_val = 1 - norm.cdf(critical_value, mu_alt, sigma) # 실제 베타값의 반대 (검정력)\n",
        "    beta_val = norm.cdf(critical_value, mu_alt, sigma)\n",
        "\n",
        "    fig_error.update_layout(\n",
        "        title_text=f'1종 및 2종 오류 시각화 {title_suffix}<br>α={alpha_level:.2f}, β={beta_val:.2f}, Power={power_val:.2f}',\n",
        "        xaxis_title='테스트 통계량',\n",
        "        yaxis_title='확률 밀도'\n",
        "    )\n",
        "    return fig_error\n"
      ]
    },
    {
      "cell_type": "code",
      "execution_count": 25,
      "metadata": {},
      "outputs": [
        {
          "data": {
            "application/vnd.plotly.v1+json": {
              "config": {
                "plotlyServerURL": "https://plot.ly"
              },
              "data": [
                {
                  "line": {
                    "color": "blue"
                  },
                  "mode": "lines",
                  "name": "H0 분포 (귀무 가설)",
                  "type": "scatter",
                  "x": {
                    "bdata": "AAAAAAAAEMDpvlEXk+4PwNJ9oy4m3Q/AvDz1RbnLD8Cl+0ZdTLoPwI66mHTfqA/Ad3nqi3KXD8BgODyjBYYPwEr3jbqYdA/AM7bf0StjD8AcdTHpvlEPwAU0gwBSQA/A7vLUF+UuD8DYsSYveB0PwMFweEYLDA/Aqi/KXZ76DsCT7ht1MekOwHytbYzE1w7AZWy/o1fGDsBPKxG76rQOwDjqYtJ9ow7AIam06RCSDsAKaAYBpIAOwPMmWBg3bw7A3eWpL8pdDsDGpPtGXUwOwK9jTV7wOg7AmCKfdYMpDsCB4fCMFhgOwGugQqSpBg7AVF+Uuzz1DcA9HubSz+MNwCbdN+pi0g3AD5yJAfbADcD4WtsYia8NwOIZLTAcng3Ay9h+R6+MDcC0l9BeQnsNwJ1WInbVaQ3AhhV0jWhYDcBw1MWk+0YNwFmTF7yONQ3AQlJp0yEkDcArEbvqtBINwBTQDAJIAQ3A/o5eGdvvDMDnTbAwbt4MwNAMAkgBzQzAuctTX5S7DMCiiqV2J6oMwIxJ9426mAzAdQhJpU2HDMBex5q84HUMwEeG7NNzZAzAMEU+6wZTDMAaBJACmkEMwAPD4RktMAzA7IEzMcAeDMDVQIVIUw0MwL7/1l/m+wvAqL4od3nqC8CRfXqODNkLwHo8zKWfxwvAY/sdvTK2C8BMum/UxaQLwDZ5wetYkwvAHzgTA+yBC8AI92Qaf3ALwPG1tjESXwvA2nQISaVNC8DEM1pgODwLwKzyq3fLKgvAlrH9jl4ZC8B/cE+m8QcLwGgvob2E9grAUe7y1BflCsA6rUTsqtMKwCRslgM+wgrADSvoGtGwCsD26TkyZJ8KwN+oi0n3jQrAyGfdYIp8CsCyJi94HWsKwJvlgI+wWQrAhKTSpkNICsBtYyS+1jYKwFYidtVpJQrAQOHH7PwTCsApoBkEkAIKwBJfaxsj8QnA+x29MrbfCcDk3A5KSc4JwM6bYGHcvAnAt1qyeG+rCcCgGQSQApoJwInYVaeViAnAcpenvih3CcBcVvnVu2UJwEUVS+1OVAnALtScBOJCCcAXk+4bdTEJwABSQDMIIAnA6hCSSpsOCcDTz+NhLv0IwLyONXnB6wjApU2HkFTaCMCODNmn58gIwHjLKr96twjAYYp81g2mCMBKSc7toJQIwDMIIAU0gwjAHMdxHMdxCMAGhsMzWmAIwO9EFUvtTgjA2ANnYoA9CMDBwrh5EywIwKqBCpGmGgjAlEBcqDkJCMB8/62/zPcHwGa+/9Zf5gfAT31R7vLUB8A4PKMFhsMHwCL79BwZsgfACrpGNKygB8D0eJhLP48HwN036mLSfQfAxvY7emVsB8CwtY2R+FoHwJh036iLSQfAgjMxwB44B8Br8oLXsSYHwFSx1O5EFQfAPnAmBtgDB8AmL3gda/IGwBDuyTT+4AbA+awbTJHPBsDia21jJL4GwMsqv3q3rAbAtOkQkkqbBsCeqGKp3YkGwIdntMBweAbAcCYG2ANnBsBZ5VfvllUGwEKkqQYqRAbALGP7Hb0yBsAVIk01UCEGwP7gnkzjDwbA55/wY3b+BcDQXkJ7Ce0FwLodlJKc2wXAotzlqS/KBcCMmzfBwrgFwHVaidhVpwXAXhnb7+iVBcBI2CwHfIQFwDCXfh4PcwXAGlbQNaJhBcADFSJNNVAFwOzTc2TIPgXA1pLFe1stBcC+UReT7hsFwKgQaaqBCgXAkc+6wRT5BMB6jgzZp+cEwGRNXvA61gTATAywB87EBMA2ywEfYbMEwB+KUzb0oQTACEmlTYeQBMDyB/dkGn8EwNrGSHytbQTAxIWak0BcBMCtROyq00oEwJYDPsJmOQTAgMKP2fknBMBogeHwjBYEwFJAMwggBQTAO/+EH7PzA8AkvtY2RuIDwA59KE7Z0APA9jt6ZWy/A8Dg+st8/60DwMm5HZSSnAPAsnhvqyWLA8CbN8HCuHkDwIT2EtpLaAPAbrVk8d5WA8BXdLYIckUDwEAzCCAFNAPAKfJZN5giA8ASsatOKxEDwPxv/WW+/wLA5S5PfVHuAsDO7aCU5NwCwLes8qt3ywLAoGtEwwq6AsCKKpbanagCwHLp5/EwlwLAXKg5CcSFAsBFZ4sgV3QCwC4m3TfqYgLAGOUuT31RAsAApIBmEEACwOpi0n2jLgLA0yEklTYdAsC84HWsyQsCwKafx8Nc+gHAjl4Z2+/oAcB4HWvygtcBwGHcvAkWxgHASpsOIam0AcA0WmA4PKMBwBwZsk/PkQHABtgDZ2KAAcDvllV+9W4BwNhVp5WIXQHAwhT5rBtMAcCq00rErjoBwJSSnNtBKQHAfVHu8tQXAcBmEEAKaAYBwFDPkSH79ADAOI7jOI7jAMAiTTVQIdIAwAsMh2e0wADA9MrYfkevAMDeiSqW2p0AwMZIfK1tjADAsAfOxAB7AMCZxh/ck2kAwIKFcfMmWADAa0TDCrpGAMBUAxUiTTUAwD7CZjngIwDAJ4G4UHMSAMAQQApoBgEAwPL9t/4y3/+/xHtbLVm8/7+Y+f5bf5n/v2p3ooqldv+/PPVFuctT/78Oc+nn8TD/v+DwjBYYDv+/tG4wRT7r/r+G7NNzZMj+v1hqd6KKpf6/Kuga0bCC/r/8Zb7/1l/+v87jYS79PP6/omEFXSMa/r9036iLSff9v0ZdTLpv1P2/GNvv6JWx/b/qWJMXvI79v77WNkbia/2/kFTadAhJ/b9i0n2jLib9vzRQIdJUA/2/Bs7EAHvg/L/aS2gvob38v6zJC17Hmvy/fkevjO13/L9QxVK7E1X8vyJD9uk5Mvy/9sCZGGAP/L/IPj1Hhuz7v5q84HWsyfu/bDqEpNKm+78+uCfT+IP7vxA2ywEfYfu/5LNuMEU++7+2MRJfaxv7v4ivtY2R+Pq/Wi1ZvLfV+r8sq/zq3bL6vwApoBkEkPq/0qZDSCpt+r+kJOd2UEr6v3aiiqV2J/q/SCAu1JwE+r8cntECw+H5v+4bdTHpvvm/wJkYYA+c+b+SF7yONXn5v2SVX71bVvm/OBMD7IEz+b8KkaYaqBD5v9wOSknO7fi/roztd/TK+L+ACpGmGqj4v1SINNVAhfi/JgbYA2di+L/4g3syjT/4v8oBH2GzHPi/nH/Cj9n5979u/WW+/9b3v0J7Ce0ltPe/FPmsG0yR97/mdlBKcm73v7j083iYS/e/inKXp74o979e8DrW5AX3vzBu3gQL4/a/AuyBMzHA9r/UaSViV532v6bnyJB9eva/emVsv6NX9r9M4w/uyTT2vx5hsxzwEfa/8N5WSxbv9b/CXPp5PMz1v5banahiqfW/aFhB14iG9b861uQFr2P1vwxUiDTVQPW/3tErY/sd9b+wT8+RIfv0v4TNcsBH2PS/VksW72219L8oybkdlJL0v/pGXUy6b/S/zMQAe+BM9L+gQqSpBir0v3LAR9gsB/S/RD7rBlPk878WvI41ecHzv+g5MmSfnvO/vLfVksV787+ONXnB61jzv2CzHPARNvO/MjHAHjgT878Er2NNXvDyv9gsB3yEzfK/qqqqqqqq8r98KE7Z0Ifyv06m8Qf3ZPK/ICSVNh1C8r/0oThlQx/yv8Yf3JNp/PG/mJ1/wo/Z8b9qGyPxtbbxvzyZxh/ck/G/DhdqTgJx8b/ilA19KE7xv7QSsatOK/G/hpBU2nQI8b9YDvgIm+XwvyqMmzfBwvC//gk/Zuef8L/Qh+KUDX3wv6IFhsMzWvC/dIMp8lk38L9GAc0ggBTwvzT+4J5M4++/2Pkn/Jid77989W5Z5VfvvyDxtbYxEu+/xOz8E37M7r9s6ENxyobuvxDkis4WQe6/tN/RK2P77b9Y2xiJr7Xtv/zWX+b7b+2/oNKmQ0gq7b9Izu2glOTsv+zJNP7gnuy/kMV7Wy1Z7L80wcK4eRPsv9i8CRbGzeu/gLhQcxKI678ktJfQXkLrv8iv3i2r/Oq/bKsli/e26r8Qp2zoQ3Hqv7iis0WQK+q/XJ76otzl6b8AmkEAKaDpv6SViF11Wum/SJHPusEU6b/wjBYYDs/ov5SIXXVaiei/OISk0qZD6L/cf+sv8/3nv4B7Mo0/uOe/KHd56oty57/McsBH2Cznv3BuB6Uk5+a/FGpOAnGh5r+4ZZVfvVvmv1xh3LwJFua/BF0jGlbQ5b+oWGp3oorlv0xUsdTuROW/8E/4MTv/5L+USz+Ph7nkvzxHhuzTc+S/4ELNSSAu5L+EPhSnbOjjvyg6WwS5ouO/zDWiYQVd4790Mem+URfjvxgtMBye0eK/vCh3eeqL4r9gJL7WNkbivwQgBTSDAOK/rBtMkc+64b9QF5PuG3Xhv/QS2ktoL+G/mA4hqbTp4L88CmgGAaTgv+AFr2NNXuC/iAH2wJkY4L9Y+nk8zKXfv6DxB/dkGt+/6OiVsf2O3r8w4CNslgPev4DXsSYveN2/yM4/4cfs3L8Qxs2bYGHcv1i9W1b51du/oLTpEJJK27/wq3fLKr/avzijBYbDM9q/gJqTQFyo2b/IkSH79BzZvxCJr7WNkdi/YIA9cCYG2L+od8sqv3rXv/BuWeVX79a/OGbnn/Bj1r+AXXVaidjVv8hUAxUiTdW/GEyRz7rB1L9gQx+KUzbUv6g6rUTsqtO/8DE7/4Qf0784Kcm5HZTSv4ggV3S2CNK/0BflLk990b8YD3Pp5/HQv2AGAaSAZtC/UPsdvTK2z7/w6TkyZJ/Ov4DYVaeViM2/EMdxHMdxzL+gtY2R+FrLvzCkqQYqRMq/0JLFe1styb9ggeHwjBbIv/Bv/WW+/8a/gF4Z2+/oxb8QTTVQIdLEv7A7UcVSu8O/QCptOoSkwr/QGImvtY3Bv2AHpSTndsC/4OuBMzHAvr8AybkdlJK8v0Cm8Qf3ZLq/YIMp8lk3uL+AYGHcvAm2v6A9mcYf3LO/wBrRsIKusb8A8BE2ywGvv0CqgQqRpqq/gGTx3lZLpr/AHmGzHPChvwCyoQ/FKZu/ACeBuFBzkr8AN8HCuHmDvwAAAaSAZlC/AOyBMzHAfj8ABwGkgGaQPwCSIfv0HJk/AA8hqbTpoD+AVLHU7kSlPwCaQQApoKk/AODRK2P7rT/AErGrTiuxP8A1ecHrWLM/gFhB14iGtT9AewntJbS3P0Ce0QLD4bk/AMGZGGAPvD8A5GEu/Ty+P2ADFSJNNcA/wBT5rBtMwT9AJt036mLCP6A3wcK4ecM/IEmlTYeQxD+AWonYVafFPwBsbWMkvsY/YH1R7vLUxz/AjjV5wevIP0CgGQSQAso/oLH9jl4Zyz8gw+EZLTDMP4DUxaT7Rs0/4OWpL8pdzj9g9426mHTPP2AEuaKzRdA/IA0r6BrR0D/QFZ0tglzRP4AeD3Pp59E/QCeBuFBz0j/wL/P9t/7SP7A4ZUMfitM/YEHXiIYV1D8QSknO7aDUP9BSuxNVLNU/gFstWby31T9AZJ+eI0PWP/BsEeSKztY/oHWDKfJZ1z9gfvVuWeXXPxCHZ7TAcNg/0I/Z+Sf82D+AmEs/j4fZPzChvYT2Eto/8Kkvyl2e2j+gsqEPxSnbP2C7E1Ustds/EMSFmpNA3D/AzPff+svcP4DVaSViV90/MN7basni3T/w5k2wMG7eP6Dvv/WX+d4/UPgxO/+E3z+IAFJAMwjgP+AEC+PmTeA/QAnEhZqT4D+YDX0oTtngP/ARNssBH+E/UBbvbbVk4T+oGqgQaarhPwgfYbMc8OE/YCMaVtA14j/AJ9P4g3viPxgsjJs3weI/cDBFPusG4z/QNP7gnkzjPyg5t4NSkuM/iD1wJgbY4z/gQSnJuR3kPzhG4mttY+Q/mEqbDiGp5D/wTlSx1O7kP1BTDVSINOU/qFfG9jt65T8AXH+Z77/lP2BgODyjBeY/uGTx3lZL5j8YaaqBCpHmP3BtYyS+1uY/yHEcx3Ec5z8odtVpJWLnP4B6jgzZp+c/4H5Hr4zt5z84gwBSQDPoP5CHufTzeOg/8Ityl6e+6D9IkCs6WwTpP6iU5NwOSuk/AJmdf8KP6T9YnVYidtXpP7ihD8UpG+o/EKbIZ91g6j9wqoEKkabqP8iuOq1E7Oo/ILPzT/gx6z+At6zyq3frP9i7ZZVfves/OMAeOBMD7D+QxNfaxkjsP+jIkH16juw/SM1JIC7U7D+g0QLD4RntPwDWu2WVX+0/WNp0CEml7T+w3i2r/OrtPxDj5k2wMO4/aOef8GN27j/I61iTF7zuPyDwETbLAe8/gPTK2H5H7z/Y+IN7Mo3vPzD9PB7m0u8/yAB74EwM8D/0gtexJi/wPyQFNIMAUvA/UIeQVNp08D98Ce0ltJfwP6yLSfeNuvA/2A2myGfd8D8IkAKaQQDxPzQSX2sbI/E/YJS7PPVF8T+QFhgOz2jxP7yYdN+oi/E/7BrRsIKu8T8YnS2CXNHxP0QfilM29PE/dKHmJBAX8j+gI0P26TnyP9Cln8fDXPI//Cf8mJ1/8j8oqlhqd6LyP1gstTtRxfI/hK4RDSvo8j+0MG7eBAvzP+Cyyq/eLfM/DDUngbhQ8z88t4NSknPzP2g54CNslvM/mLs89UW58z/EPZnGH9zzP/C/9Zf5/vM/IEJSadMh9D9MxK46rUT0P3xGCwyHZ/Q/qMhn3WCK9D/USsSuOq30PwTNIIAU0PQ/ME99Ue7y9D9g0dkiyBX1P4xTNvShOPU/uNWSxXtb9T/oV++WVX71PxTaS2gvofU/RFyoOQnE9T9w3gQL4+b1P6BgYdy8CfY/zOK9rZYs9j/4ZBp/cE/2PyjndlBKcvY/VGnTISSV9j+E6y/z/bf2P7BtjMTX2vY/3O/olbH99j8MckVniyD3Pzj0oThlQ/c/aHb+CT9m9z+U+FrbGIn3P8B6t6zyq/c/8PwTfszO9z8cf3BPpvH3P0wBzSCAFPg/eIMp8lk3+D+kBYbDM1r4P9SH4pQNffg/AAo/Zuef+D8wjJs3wcL4P1wO+Aib5fg/iJBU2nQI+T+4ErGrTiv5P+SUDX0oTvk/FBdqTgJx+T9AmcYf3JP5P2wbI/G1tvk/nJ1/wo/Z+T/IH9yTafz5P/ihOGVDH/o/JCSVNh1C+j9QpvEH92T6P4AoTtnQh/o/rKqqqqqq+j/cLAd8hM36PwivY01e8Po/NDHAHjgT+z9ksxzwETb7P5A1ecHrWPs/wLfVksV7+z/sOTJkn577Pxi8jjV5wfs/SD7rBlPk+z90wEfYLAf8P6RCpKkGKvw/0MQAe+BM/D8AR11Mum/8PyzJuR2Ukvw/WEsW7221/D+IzXLAR9j8P7RPz5Eh+/w/5NErY/sd/T8QVIg01UD9PzzW5AWvY/0/bFhB14iG/T+Y2p2oYqn9P8hc+nk8zP0/9N5WSxbv/T8gYbMc8BH+P1DjD+7JNP4/fGVsv6NX/j+s58iQfXr+P9hpJWJXnf4/BOyBMzHA/j80bt4EC+P+P2DwOtbkBf8/kHKXp74o/z+89PN4mEv/P+h2UEpybv8/GPmsG0yR/z9EewntJbT/P3T9Zb7/1v8/oH/Cj9n5/z/mgI+wWQ4AQP7BPZnGHwBAFAPsgTMxAEAsRJpqoEIAQEKFSFMNVABAWMb2O3plAEBwB6Uk53YAQIZIUw1UiABAnokB9sCZAEC0yq/eLasAQMoLXseavABA4kwMsAfOAED4jbqYdN8AQBDPaIHh8ABAJhAXak4CAUA8UcVSuxMBQFSSczsoJQFAatMhJJU2AUCCFNAMAkgBQJhVfvVuWQFAsJYs3ttqAUDG19rGSHwBQNwYia+1jQFA9Fk3mCKfAUAKm+WAj7ABQCLck2n8wQFAOB1CUmnTAUBOXvA61uQBQGafniND9gFAfOBMDLAHAkCUIfv0HBkCQKpiqd2JKgJAwKNXxvY7AkDY5AWvY00CQO4ltJfQXgJABmdigD1wAkAcqBBpqoECQDLpvlEXkwJASiptOoSkAkBgaxsj8bUCQHisyQtexwJAju139MrYAkCkLibdN+oCQLxv1MWk+wJA0rCCrhENA0Dq8TCXfh4DQAAz33/rLwNAFnSNaFhBA0AutTtRxVIDQET26TkyZANAXDeYIp91A0ByeEYLDIcDQIi59PN4mANAoPqi3OWpA0C2O1HFUrsDQM58/62/zANA5L2tlizeA0D6/lt/me8DQBJACmgGAQRAKIG4UHMSBEBAwmY54CMEQFYDFSJNNQRAbETDCrpGBECEhXHzJlgEQJrGH9yTaQRAsgfOxAB7BEDISHytbYwEQOCJKpbanQRA9srYfkevBEAMDIdntMAEQCRNNVAh0gRAOo7jOI7jBEBSz5Eh+/QEQGgQQApoBgVAflHu8tQXBUCWkpzbQSkFQKzTSsSuOgVAxBT5rBtMBUDaVaeViF0FQPCWVX71bgVACNgDZ2KABUAeGbJPz5EFQDZaYDg8owVATJsOIam0BUBi3LwJFsYFQHoda/KC1wVAkF4Z2+/oBUCon8fDXPoFQL7gdazJCwZA1CEklTYdBkDsYtJ9oy4GQAKkgGYQQAZAGuUuT31RBkAwJt036mIGQEZniyBXdAZAXqg5CcSFBkB06efxMJcGQIwqltqdqAZAomtEwwq6BkC4rPKrd8sGQNDtoJTk3AZA5i5PfVHuBkD+b/1lvv8GQBSxq04rEQdAKvJZN5giB0BCMwggBTQHQFh0tghyRQdAcLVk8d5WB0CG9hLaS2gHQJ43wcK4eQdAtHhvqyWLB0DKuR2UkpwHQOL6y3z/rQdA+Dt6ZWy/B0AQfShO2dAHQCa+1jZG4gdAPP+EH7PzB0BUQDMIIAUIQGqB4fCMFghAgsKP2fknCECYAz7CZjkIQK5E7KrTSghAxoWak0BcCEDcxkh8rW0IQPQH92QafwhACkmlTYeQCEAgilM29KEIQDjLAR9hswhATgywB87ECEBmTV7wOtYIQHyODNmn5whAks+6wRT5CECqEGmqgQoJQMBRF5PuGwlA2JLFe1stCUDu03NkyD4JQAQVIk01UAlAHFbQNaJhCUAyl34eD3MJQErYLAd8hAlAYBnb7+iVCUB2WonYVacJQI6bN8HCuAlApNzlqS/KCUC8HZSSnNsJQNJeQnsJ7QlA6J/wY3b+CUAA4Z5M4w8KQBYiTTVQIQpALmP7Hb0yCkBEpKkGKkQKQFrlV++WVQpAciYG2ANnCkCIZ7TAcHgKQKCoYqndiQpAtukQkkqbCkDOKr96t6wKQORrbWMkvgpA+qwbTJHPCkAS7sk0/uAKQCgveB1r8gpAQHAmBtgDC0BWsdTuRBULQGzygtexJgtAhDMxwB44C0CadN+oi0kLQLK1jZH4WgtAyPY7emVsC0DeN+pi0n0LQPZ4mEs/jwtADLpGNKygC0Ak+/QcGbILQDo8owWGwwtAUH1R7vLUC0Bovv/WX+YLQH7/rb/M9wtAlkBcqDkJDECsgQqRphoMQMLCuHkTLAxA2gNnYoA9DEDwRBVL7U4MQAiGwzNaYAxAHsdxHMdxDEA0CCAFNIMMQExJzu2glAxAYop81g2mDEB6yyq/ercMQJAM2afnyAxApk2HkFTaDEC+jjV5wesMQNTP42Eu/QxA7BCSSpsODUACUkAzCCANQBiT7ht1MQ1AMNScBOJCDUBGFUvtTlQNQF5W+dW7ZQ1AdJenvih3DUCK2FWnlYgNQKIZBJACmg1AuFqyeG+rDUDQm2Bh3LwNQObcDkpJzg1A/h29MrbfDUAUX2sbI/ENQCqgGQSQAg5AQuHH7PwTDkBYInbVaSUOQHBjJL7WNg5AhqTSpkNIDkCc5YCPsFkOQLQmL3gdaw5AymfdYIp8DkDiqItJ940OQPjpOTJknw5ADivoGtGwDkAmbJYDPsIOQDytROyq0w5AVO7y1BflDkBqL6G9hPYOQIBwT6bxBw9AmLH9jl4ZD0Cu8qt3yyoPQMYzWmA4PA9A3HQISaVND0DytbYxEl8PQAr3ZBp/cA9AIDgTA+yBD0A4ecHrWJMPQE66b9TFpA9AZPsdvTK2D0B8PMyln8cPQJJ9eo4M2Q9Aqr4od3nqD0DA/9Zf5vsPQGygQqSpBhBA9sCZGGAPEECC4fCMFhgQQA4CSAHNIBBAmiKfdYMpEEAkQ/bpOTIQQLBjTV7wOhBAPISk0qZDEEDGpPtGXUwQQFLFUrsTVRBA3uWpL8pdEEBoBgGkgGYQQPQmWBg3bxBAgEevjO13EEAMaAYBpIAQQJaIXXVaiRBAIqm06RCSEECuyQtex5oQQDjqYtJ9oxBAxAq6RjSsEEBQKxG76rQQQNpLaC+hvRBAZmy/o1fGEEDyjBYYDs8QQH6tbYzE1xBACM7EAHvgEECU7ht1MekQQCAPc+nn8RBAqi/KXZ76EEA2UCHSVAMRQMJweEYLDBFATJHPusEUEUDYsSYveB0RQGTSfaMuJhFA8PLUF+UuEUB6EyyMmzcRQAY0gwBSQBFAklTadAhJEUAcdTHpvlERQKiViF11WhFANLbf0StjEUDA1jZG4msRQEr3jbqYdBFA1hflLk99EUBiODyjBYYRQOxYkxe8jhFAeHnqi3KXEUAEmkEAKaARQI66mHTfqBFAGtvv6JWxEUCm+0ZdTLoRQDIcntECwxFAvDz1RbnLEUBIXUy6b9QRQNR9oy4m3RFAXp76otzlEUDqvlEXk+4RQHbfqItJ9xFAAAAAAAAAEkA=",
                    "dtype": "f8"
                  },
                  "y": {
                    "bdata": "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",
                    "dtype": "f8"
                  }
                },
                {
                  "line": {
                    "color": "red"
                  },
                  "mode": "lines",
                  "name": "H1 분포 (대립 가설)",
                  "type": "scatter",
                  "x": {
                    "bdata": "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",
                    "dtype": "f8"
                  },
                  "y": {
                    "bdata": "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",
                    "dtype": "f8"
                  }
                },
                {
                  "fill": "toself",
                  "fillcolor": "rgba(0,0,255,0.2)",
                  "line": {
                    "color": "rgba(255,255,255,0)"
                  },
                  "name": "1종 오류 (α = 0.05)",
                  "type": "scatter",
                  "x": {
                    "bdata": "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",
                    "dtype": "f8"
                  },
                  "y": {
                    "bdata": "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",
                    "dtype": "f8"
                  }
                },
                {
                  "fill": "toself",
                  "fillcolor": "rgba(255,0,0,0.2)",
                  "line": {
                    "color": "rgba(255,255,255,0)"
                  },
                  "name": "2종 오류 (β)",
                  "type": "scatter",
                  "x": {
                    "bdata": "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",
                    "dtype": "f8"
                  },
                  "y": {
                    "bdata": "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",
                    "dtype": "f8"
                  }
                }
              ],
              "layout": {
                "shapes": [
                  {
                    "line": {
                      "color": "green",
                      "dash": "dash",
                      "width": 2
                    },
                    "name": "임계값",
                    "type": "line",
                    "x0": 1.644853626951472,
                    "x1": 1.644853626951472,
                    "xref": "x",
                    "y0": 0,
                    "y1": 1,
                    "yref": "y domain"
                  }
                ],
                "template": {
                  "data": {
                    "bar": [
                      {
                        "error_x": {
                          "color": "#2a3f5f"
                        },
                        "error_y": {
                          "color": "#2a3f5f"
                        },
                        "marker": {
                          "line": {
                            "color": "#E5ECF6",
                            "width": 0.5
                          },
                          "pattern": {
                            "fillmode": "overlay",
                            "size": 10,
                            "solidity": 0.2
                          }
                        },
                        "type": "bar"
                      }
                    ],
                    "barpolar": [
                      {
                        "marker": {
                          "line": {
                            "color": "#E5ECF6",
                            "width": 0.5
                          },
                          "pattern": {
                            "fillmode": "overlay",
                            "size": 10,
                            "solidity": 0.2
                          }
                        },
                        "type": "barpolar"
                      }
                    ],
                    "carpet": [
                      {
                        "aaxis": {
                          "endlinecolor": "#2a3f5f",
                          "gridcolor": "white",
                          "linecolor": "white",
                          "minorgridcolor": "white",
                          "startlinecolor": "#2a3f5f"
                        },
                        "baxis": {
                          "endlinecolor": "#2a3f5f",
                          "gridcolor": "white",
                          "linecolor": "white",
                          "minorgridcolor": "white",
                          "startlinecolor": "#2a3f5f"
                        },
                        "type": "carpet"
                      }
                    ],
                    "choropleth": [
                      {
                        "colorbar": {
                          "outlinewidth": 0,
                          "ticks": ""
                        },
                        "type": "choropleth"
                      }
                    ],
                    "contour": [
                      {
                        "colorbar": {
                          "outlinewidth": 0,
                          "ticks": ""
                        },
                        "colorscale": [
                          [
                            0,
                            "#0d0887"
                          ],
                          [
                            0.1111111111111111,
                            "#46039f"
                          ],
                          [
                            0.2222222222222222,
                            "#7201a8"
                          ],
                          [
                            0.3333333333333333,
                            "#9c179e"
                          ],
                          [
                            0.4444444444444444,
                            "#bd3786"
                          ],
                          [
                            0.5555555555555556,
                            "#d8576b"
                          ],
                          [
                            0.6666666666666666,
                            "#ed7953"
                          ],
                          [
                            0.7777777777777778,
                            "#fb9f3a"
                          ],
                          [
                            0.8888888888888888,
                            "#fdca26"
                          ],
                          [
                            1,
                            "#f0f921"
                          ]
                        ],
                        "type": "contour"
                      }
                    ],
                    "contourcarpet": [
                      {
                        "colorbar": {
                          "outlinewidth": 0,
                          "ticks": ""
                        },
                        "type": "contourcarpet"
                      }
                    ],
                    "heatmap": [
                      {
                        "colorbar": {
                          "outlinewidth": 0,
                          "ticks": ""
                        },
                        "colorscale": [
                          [
                            0,
                            "#0d0887"
                          ],
                          [
                            0.1111111111111111,
                            "#46039f"
                          ],
                          [
                            0.2222222222222222,
                            "#7201a8"
                          ],
                          [
                            0.3333333333333333,
                            "#9c179e"
                          ],
                          [
                            0.4444444444444444,
                            "#bd3786"
                          ],
                          [
                            0.5555555555555556,
                            "#d8576b"
                          ],
                          [
                            0.6666666666666666,
                            "#ed7953"
                          ],
                          [
                            0.7777777777777778,
                            "#fb9f3a"
                          ],
                          [
                            0.8888888888888888,
                            "#fdca26"
                          ],
                          [
                            1,
                            "#f0f921"
                          ]
                        ],
                        "type": "heatmap"
                      }
                    ],
                    "histogram": [
                      {
                        "marker": {
                          "pattern": {
                            "fillmode": "overlay",
                            "size": 10,
                            "solidity": 0.2
                          }
                        },
                        "type": "histogram"
                      }
                    ],
                    "histogram2d": [
                      {
                        "colorbar": {
                          "outlinewidth": 0,
                          "ticks": ""
                        },
                        "colorscale": [
                          [
                            0,
                            "#0d0887"
                          ],
                          [
                            0.1111111111111111,
                            "#46039f"
                          ],
                          [
                            0.2222222222222222,
                            "#7201a8"
                          ],
                          [
                            0.3333333333333333,
                            "#9c179e"
                          ],
                          [
                            0.4444444444444444,
                            "#bd3786"
                          ],
                          [
                            0.5555555555555556,
                            "#d8576b"
                          ],
                          [
                            0.6666666666666666,
                            "#ed7953"
                          ],
                          [
                            0.7777777777777778,
                            "#fb9f3a"
                          ],
                          [
                            0.8888888888888888,
                            "#fdca26"
                          ],
                          [
                            1,
                            "#f0f921"
                          ]
                        ],
                        "type": "histogram2d"
                      }
                    ],
                    "histogram2dcontour": [
                      {
                        "colorbar": {
                          "outlinewidth": 0,
                          "ticks": ""
                        },
                        "colorscale": [
                          [
                            0,
                            "#0d0887"
                          ],
                          [
                            0.1111111111111111,
                            "#46039f"
                          ],
                          [
                            0.2222222222222222,
                            "#7201a8"
                          ],
                          [
                            0.3333333333333333,
                            "#9c179e"
                          ],
                          [
                            0.4444444444444444,
                            "#bd3786"
                          ],
                          [
                            0.5555555555555556,
                            "#d8576b"
                          ],
                          [
                            0.6666666666666666,
                            "#ed7953"
                          ],
                          [
                            0.7777777777777778,
                            "#fb9f3a"
                          ],
                          [
                            0.8888888888888888,
                            "#fdca26"
                          ],
                          [
                            1,
                            "#f0f921"
                          ]
                        ],
                        "type": "histogram2dcontour"
                      }
                    ],
                    "mesh3d": [
                      {
                        "colorbar": {
                          "outlinewidth": 0,
                          "ticks": ""
                        },
                        "type": "mesh3d"
                      }
                    ],
                    "parcoords": [
                      {
                        "line": {
                          "colorbar": {
                            "outlinewidth": 0,
                            "ticks": ""
                          }
                        },
                        "type": "parcoords"
                      }
                    ],
                    "pie": [
                      {
                        "automargin": true,
                        "type": "pie"
                      }
                    ],
                    "scatter": [
                      {
                        "fillpattern": {
                          "fillmode": "overlay",
                          "size": 10,
                          "solidity": 0.2
                        },
                        "type": "scatter"
                      }
                    ],
                    "scatter3d": [
                      {
                        "line": {
                          "colorbar": {
                            "outlinewidth": 0,
                            "ticks": ""
                          }
                        },
                        "marker": {
                          "colorbar": {
                            "outlinewidth": 0,
                            "ticks": ""
                          }
                        },
                        "type": "scatter3d"
                      }
                    ],
                    "scattercarpet": [
                      {
                        "marker": {
                          "colorbar": {
                            "outlinewidth": 0,
                            "ticks": ""
                          }
                        },
                        "type": "scattercarpet"
                      }
                    ],
                    "scattergeo": [
                      {
                        "marker": {
                          "colorbar": {
                            "outlinewidth": 0,
                            "ticks": ""
                          }
                        },
                        "type": "scattergeo"
                      }
                    ],
                    "scattergl": [
                      {
                        "marker": {
                          "colorbar": {
                            "outlinewidth": 0,
                            "ticks": ""
                          }
                        },
                        "type": "scattergl"
                      }
                    ],
                    "scattermap": [
                      {
                        "marker": {
                          "colorbar": {
                            "outlinewidth": 0,
                            "ticks": ""
                          }
                        },
                        "type": "scattermap"
                      }
                    ],
                    "scattermapbox": [
                      {
                        "marker": {
                          "colorbar": {
                            "outlinewidth": 0,
                            "ticks": ""
                          }
                        },
                        "type": "scattermapbox"
                      }
                    ],
                    "scatterpolar": [
                      {
                        "marker": {
                          "colorbar": {
                            "outlinewidth": 0,
                            "ticks": ""
                          }
                        },
                        "type": "scatterpolar"
                      }
                    ],
                    "scatterpolargl": [
                      {
                        "marker": {
                          "colorbar": {
                            "outlinewidth": 0,
                            "ticks": ""
                          }
                        },
                        "type": "scatterpolargl"
                      }
                    ],
                    "scatterternary": [
                      {
                        "marker": {
                          "colorbar": {
                            "outlinewidth": 0,
                            "ticks": ""
                          }
                        },
                        "type": "scatterternary"
                      }
                    ],
                    "surface": [
                      {
                        "colorbar": {
                          "outlinewidth": 0,
                          "ticks": ""
                        },
                        "colorscale": [
                          [
                            0,
                            "#0d0887"
                          ],
                          [
                            0.1111111111111111,
                            "#46039f"
                          ],
                          [
                            0.2222222222222222,
                            "#7201a8"
                          ],
                          [
                            0.3333333333333333,
                            "#9c179e"
                          ],
                          [
                            0.4444444444444444,
                            "#bd3786"
                          ],
                          [
                            0.5555555555555556,
                            "#d8576b"
                          ],
                          [
                            0.6666666666666666,
                            "#ed7953"
                          ],
                          [
                            0.7777777777777778,
                            "#fb9f3a"
                          ],
                          [
                            0.8888888888888888,
                            "#fdca26"
                          ],
                          [
                            1,
                            "#f0f921"
                          ]
                        ],
                        "type": "surface"
                      }
                    ],
                    "table": [
                      {
                        "cells": {
                          "fill": {
                            "color": "#EBF0F8"
                          },
                          "line": {
                            "color": "white"
                          }
                        },
                        "header": {
                          "fill": {
                            "color": "#C8D4E3"
                          },
                          "line": {
                            "color": "white"
                          }
                        },
                        "type": "table"
                      }
                    ]
                  },
                  "layout": {
                    "annotationdefaults": {
                      "arrowcolor": "#2a3f5f",
                      "arrowhead": 0,
                      "arrowwidth": 1
                    },
                    "autotypenumbers": "strict",
                    "coloraxis": {
                      "colorbar": {
                        "outlinewidth": 0,
                        "ticks": ""
                      }
                    },
                    "colorscale": {
                      "diverging": [
                        [
                          0,
                          "#8e0152"
                        ],
                        [
                          0.1,
                          "#c51b7d"
                        ],
                        [
                          0.2,
                          "#de77ae"
                        ],
                        [
                          0.3,
                          "#f1b6da"
                        ],
                        [
                          0.4,
                          "#fde0ef"
                        ],
                        [
                          0.5,
                          "#f7f7f7"
                        ],
                        [
                          0.6,
                          "#e6f5d0"
                        ],
                        [
                          0.7,
                          "#b8e186"
                        ],
                        [
                          0.8,
                          "#7fbc41"
                        ],
                        [
                          0.9,
                          "#4d9221"
                        ],
                        [
                          1,
                          "#276419"
                        ]
                      ],
                      "sequential": [
                        [
                          0,
                          "#0d0887"
                        ],
                        [
                          0.1111111111111111,
                          "#46039f"
                        ],
                        [
                          0.2222222222222222,
                          "#7201a8"
                        ],
                        [
                          0.3333333333333333,
                          "#9c179e"
                        ],
                        [
                          0.4444444444444444,
                          "#bd3786"
                        ],
                        [
                          0.5555555555555556,
                          "#d8576b"
                        ],
                        [
                          0.6666666666666666,
                          "#ed7953"
                        ],
                        [
                          0.7777777777777778,
                          "#fb9f3a"
                        ],
                        [
                          0.8888888888888888,
                          "#fdca26"
                        ],
                        [
                          1,
                          "#f0f921"
                        ]
                      ],
                      "sequentialminus": [
                        [
                          0,
                          "#0d0887"
                        ],
                        [
                          0.1111111111111111,
                          "#46039f"
                        ],
                        [
                          0.2222222222222222,
                          "#7201a8"
                        ],
                        [
                          0.3333333333333333,
                          "#9c179e"
                        ],
                        [
                          0.4444444444444444,
                          "#bd3786"
                        ],
                        [
                          0.5555555555555556,
                          "#d8576b"
                        ],
                        [
                          0.6666666666666666,
                          "#ed7953"
                        ],
                        [
                          0.7777777777777778,
                          "#fb9f3a"
                        ],
                        [
                          0.8888888888888888,
                          "#fdca26"
                        ],
                        [
                          1,
                          "#f0f921"
                        ]
                      ]
                    },
                    "colorway": [
                      "#636efa",
                      "#EF553B",
                      "#00cc96",
                      "#ab63fa",
                      "#FFA15A",
                      "#19d3f3",
                      "#FF6692",
                      "#B6E880",
                      "#FF97FF",
                      "#FECB52"
                    ],
                    "font": {
                      "color": "#2a3f5f"
                    },
                    "geo": {
                      "bgcolor": "white",
                      "lakecolor": "white",
                      "landcolor": "#E5ECF6",
                      "showlakes": true,
                      "showland": true,
                      "subunitcolor": "white"
                    },
                    "hoverlabel": {
                      "align": "left"
                    },
                    "hovermode": "closest",
                    "mapbox": {
                      "style": "light"
                    },
                    "paper_bgcolor": "white",
                    "plot_bgcolor": "#E5ECF6",
                    "polar": {
                      "angularaxis": {
                        "gridcolor": "white",
                        "linecolor": "white",
                        "ticks": ""
                      },
                      "bgcolor": "#E5ECF6",
                      "radialaxis": {
                        "gridcolor": "white",
                        "linecolor": "white",
                        "ticks": ""
                      }
                    },
                    "scene": {
                      "xaxis": {
                        "backgroundcolor": "#E5ECF6",
                        "gridcolor": "white",
                        "gridwidth": 2,
                        "linecolor": "white",
                        "showbackground": true,
                        "ticks": "",
                        "zerolinecolor": "white"
                      },
                      "yaxis": {
                        "backgroundcolor": "#E5ECF6",
                        "gridcolor": "white",
                        "gridwidth": 2,
                        "linecolor": "white",
                        "showbackground": true,
                        "ticks": "",
                        "zerolinecolor": "white"
                      },
                      "zaxis": {
                        "backgroundcolor": "#E5ECF6",
                        "gridcolor": "white",
                        "gridwidth": 2,
                        "linecolor": "white",
                        "showbackground": true,
                        "ticks": "",
                        "zerolinecolor": "white"
                      }
                    },
                    "shapedefaults": {
                      "line": {
                        "color": "#2a3f5f"
                      }
                    },
                    "ternary": {
                      "aaxis": {
                        "gridcolor": "white",
                        "linecolor": "white",
                        "ticks": ""
                      },
                      "baxis": {
                        "gridcolor": "white",
                        "linecolor": "white",
                        "ticks": ""
                      },
                      "bgcolor": "#E5ECF6",
                      "caxis": {
                        "gridcolor": "white",
                        "linecolor": "white",
                        "ticks": ""
                      }
                    },
                    "title": {
                      "x": 0.05
                    },
                    "xaxis": {
                      "automargin": true,
                      "gridcolor": "white",
                      "linecolor": "white",
                      "ticks": "",
                      "title": {
                        "standoff": 15
                      },
                      "zerolinecolor": "white",
                      "zerolinewidth": 2
                    },
                    "yaxis": {
                      "automargin": true,
                      "gridcolor": "white",
                      "linecolor": "white",
                      "ticks": "",
                      "title": {
                        "standoff": 15
                      },
                      "zerolinecolor": "white",
                      "zerolinewidth": 2
                    }
                  }
                },
                "title": {
                  "text": "1종 및 2종 오류 시각화 (MDE 작음)<br>α=0.05, β=0.87, Power=0.13"
                },
                "xaxis": {
                  "title": {
                    "text": "테스트 통계량"
                  }
                },
                "yaxis": {
                  "title": {
                    "text": "확률 밀도"
                  }
                }
              }
            }
          },
          "metadata": {},
          "output_type": "display_data"
        }
      ],
      "source": [
        "# 예시 1: MDE가 작을 때 (mu_alt가 mu_null에 가까울 때)\n",
        "fig1 = plot_error_types(mu_alt=0.5, sigma=1, title_suffix=\"(MDE 작음)\")\n",
        "fig1.show() "
      ]
    },
    {
      "cell_type": "code",
      "execution_count": 26,
      "metadata": {},
      "outputs": [
        {
          "data": {
            "application/vnd.plotly.v1+json": {
              "config": {
                "plotlyServerURL": "https://plot.ly"
              },
              "data": [
                {
                  "line": {
                    "color": "blue"
                  },
                  "mode": "lines",
                  "name": "H0 분포 (귀무 가설)",
                  "type": "scatter",
                  "x": {
                    "bdata": "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",
                    "dtype": "f8"
                  },
                  "y": {
                    "bdata": "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",
                    "dtype": "f8"
                  }
                },
                {
                  "line": {
                    "color": "red"
                  },
                  "mode": "lines",
                  "name": "H1 분포 (대립 가설)",
                  "type": "scatter",
                  "x": {
                    "bdata": "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",
                    "dtype": "f8"
                  },
                  "y": {
                    "bdata": "/YfQ+4AYOj7iaex8rLU7PkWqFnOkaz0+9Y1Yqtk7Pz6yYPrM6JNAPi4Oq8CTmEE+n5jUycasQj7XFGwZZ9FDPstvVJ1mB0U+vvZirsRPRj6uTkLHjqtHPk+UoUThG0k+BlkiL+ihSj6rYX0P4D5MPr9zW80W9E0+LxxlmezCTz4tHolxatZQPgcgZK2r2VE+VR9ugAjsUj6zcQqhWg5UPmdwJ5GHQVU+QOv2OoGGVj4SiGWVRt5XPrScrVDkSVk+LyBmi3XKWj4cfXKQJGFcPo9vPJ4rD14+fJ6lt9XVXz67rZG/P9tgPj3qPQ5M2WE++Y/QFtHlYj4W6ZVhmgFkPukkfjR+LWU+EMvHHV5qZj7LY02FJ7lnPvfPwkTUGmk+N/0xR2uQaj4i8wkwARtsPvmlFgq5u20+Bo27/sRzbz4RV+eKM6JwPsnSOv94l3E+xRa18GSacj6944eesqtzPt845OUmzHQ+i2B9upD8dT6jJ6CkyT13PsEYHEW2kHg+DAs/30b2eT6A4yXpd297Pk4KqKJS/Xw+TNMls+2gfj5Dd0Lnti2APilx1DADF4E+ZU1cI/0Mgj55nsJAThCDPiTVNIKoIYQ+8b7+vsZBhT6+4fwXbXGGPiWg2GdpsYc+kuxAuJMCiT4GPFS8zmWKPpNjclAI3Is+iRev/zlmjT7n3h+PaQWPPlo+ocdUXZA+V4jd+YxDkT4twdVY9DWSPqkYdDIpNZM+OS4oftFBlD6Gn8k2m1yVPmjDVrg8hpY+37u2IXW/lz4ocae6DAmZPmd4AV7VY5o+yGN96KrQmz6pgiesc1CdPsSqsOgg5J4+lSFmpFdGoD5numaykyWhPo+OWyVPEKI+4PH5BRsHoz5N03YojwqkPgCnXnlKG6U+YQSXTfM5pj45dai1N2enPqr2b9TNo6g+RLpYOXTwqT6Sxj8+8k2rPqMxJGkYvaw+b9PH0cA+rj5/dWWLz9OvPnNcUYmZvrA+cpLyX/KdsT66iBmfdIiyPmQ2ZYOofrM+AFbMcByBtD67SWA1ZZC1PrPyrU4erbY+7DnUMerXtz6dw2iWchG5PioERMRoWro+kbNO5IWzuz4RYmtUix29PhfAl/5Cmb4+uP2w2b8TwD6stefDjuTAPupPaRuBv8E+YuQ3ww6lwj5Op1fYtJXDPsOvP+j1kcQ+QhJTKVqaxT5xoXO1b6/GPrQlwMbK0cc+8liQ9gUCyT5md8F+wkDKPmW4Zn2ojss+xorxOmfszD4k9+VytVrOPkQYMJ9R2s8+uBIYIwG20D44j8klS4jRPmZcB6JyZNI+mOIL5udK0z6WbtXwHzzUPqjgn6CUONU+nTcA48RA1j4fy67mNFXXPqVYDU9udtg+Ylp2aQCl2T4AcWNkgOHaPhD+eIiJLNw+52OFc72G3T7ts4JVxPDePlL31JemNeA+kafTCof74D4fvH84YsrhPqrYWqOaouI+rt+hv5aE4z5+IHoYwXDkPvppWHaIZ+U+edOqBmBp5j5sPc6Ev3bnPhO7WGQjkOg+ZEbC/Ay26T5/UHW2AunqPnTxUDmQKew+v6qmnEZ47T7j4b2YvNXuPrK081xHIfA+H9CVyq/f8D438E7/a6bxPtcUsKDTdfI+KxGxrEFO8z7zX3OXFDD0PkMK7mmuG/U+N3qI4XQR9j5yKqqQ0RH3Pmw8RQAyHfg+IRdi0gc0+T60SLLlyFb6Pj/9MHrvhfs+M3PXVvrB/D5X8WvwbAv+PifTcZHPYv8+rq6gwVdkAD8wDyeczx4BP2xb0Tsb4QE/XX3MRImrAj+EuOoya34DP/6lRnEVWgQ/HwSPct8+BT8p+v7JIy0GPz96BkVAJQc/H3SmBZYnCD+HlISdiTQJP39UuimDTAo/NyRjb+5vCz9qg+34Op8MPxLhMjTc2g0/+CFakUkjDz9CWURRfzwQP8cHM5497hA/9tm6yyGnET++riU5cGcSP4LQTppvLxM/0GGdCWn/Ez/v6nEaqNcUPx8FCex6uBU/ciLVPDKiFj/YblF+IZUXP+DHT+mekRg/6MbDkgOYGT+A1wyBq6gaP29SwcH1wxs/5JL8f0TqHD9w9zEb/RseP7e+hj6IWR8/tlRa/KhRID+Tozvq5PwgP+LnwnixriE/BrEND0pnIj9Bvof46yYjPzM+QHLW7SM/0fOIuEq8JD+YHuAUjJIlP4n/JezfcCY/2M4ezY1XJz9w8UF/30YoP+w21xEhPyk/MeNi66BAKj9pP2HZr0srP/1nUiChYCw/pQQXjMp/LT/fkJ6AhKkuP9nR5woq3i8/OAcqeQyPMD9Zyibl2DQxPzQHIQKs4DE/6434ALmSMj+j0AeUNEszP1cUoPhUCjQ/eVawAFLQND/4C5ccZZ01P7XXHmXJcTY/KlCmpbtNNz9j5HJmejE4P+jpLvdFHTk/7dSSeWAROj8BlTnsDQ47P58HoDWUEzw/UWpPLzsiPT+arDKxTDo+P4l5Fp0UXD8/juMpdfBDQD/QV9LYAN9AP06okZxkf0E/Ni85AEYlQj+TiYdm0NBCP8YJZlswgkM/a2w6mpM5RD8/kkwUKfdEP6r6P/cgu0U/97Sgs6yFRj8UeIMD/1ZHP9KJOPFLL0g/jxgR3sgOST/jojaJrPVJP5MClBYv5Eo/OqjPFYraSz/AjlaJ+NhMP0hld+22300/m2eNPwPvTj9eKp2CjgNQP6t116kilFA/W6aAa18pUT9+TsjsZsNRP0yYuiVcYlI/50b+5GIGUz/lP5jTn69TP844tHg4XlQ/VR5yPVMSVT8fx7dwF8xVPzV/Bkuti1Y/R/RT8j1RVz+iBuZ98xxYP2b9MPr47lg/Mpi3bHrHWT8Hc+zXpKZaP7csFD+mjFs/oLonqq15XD/lT7Yp621dP9A4xtqPaV4//gW06s1sXz/xrodN7DtgP+9iuiJyxWA/XtexLxNTYT+WBQi/6uRhP89YF60Ue2I/xuLdaa0VYz9OL9360bRjP05P9vyfWGQ/arFBpjUBZT8cW+LHsa5lPykT1M8zYWY/7wq0ytsYZz8BkoNlytVnPzNcZO8gmGg/OeBNWwFgaT+iUbtBji1qPxq3UeLqAGs/e5p9JTvaaz8rzgeeo7lsP3XAoIpJn20/NNNh11KLbj9ZK0Qf5n1vP7w0xlaVO3A/Ml2VP6S7cD8cVgciND9xP9kYN7BZxnE/3p3/9ilRcj94p5Feut9yP/s7AqsgcnM/SIDR/HIIdD/4oWnRx6J0PwuAlQM2QXU/g7/uy9TjdT/f+ELBu4p2PxKq79gCNnc/Mpg0Z8Lldz/2SnwfE5p4P29LmhQOU3k/5s7+uMwQej/vdd/eaNN6PzDHVLj8mns/0Axs16JnfD8aOy0udjl9P6uGlA6SEH4/HE9/KhLtfj+YBIyTEs9/P1FWdt1XW4A/2NWVOAPSgD/sO/HymUuBPzHtsNMqyIE/BrIl0cRHgj/g3I0Qd8qCP3Kv0uVQUIM/MdE902HZgz9QqiaJuWWEP1B2l+Vn9YQ/eOHp83yIhT/2BFvsCB+GP8iVljMcuYY/xho5WsdWhz/T/kgcG/iHP2lUpmAonYg/qSBxOABGiT82BGbes/KJPzoZMbZUo4o/IN62S/RXiz/kBVNSpBCMPwkHDaR2zYw/rEPCQH2OjT95pUVNylOOP+KJdBJwHY8/VdtA/IDrjz/PGljMB1+QP2v6Z0uXypA/dAfPYng4kT+8THOJtKiRP4DvCkVVG5I/qXN/KWSQkj9/LEvY6geTP2LN0P/ygZM/zg6tWob+kz+cXAKvrn2UP3qDvs11/5Q/Q1TakeWDlT/FNJPfBwuWP0+WnqPmlJY/sEtX0oshlz+WuORmAbGXP/7VW2JRQ5g/ywfayoXYmD/RwJmqqHCZPw30AA/EC5o/J1KpB+Kpmj8SVGKlDEubP5AULflN75s/YPsxE7CWnD9aPrABPUGdP6w958/+7p0/4MH5hP+fnj94I8siSVSfP6Uya9LyBaA/8aV/f29joD/yvi6On8KgPz/dAO+HI6E/G5rajC2GoT8jkFlMleqhP71FLgvEUKI/3UNzn764oj/tYgHXiSKjP+1YwXYqjqM/MZT6OaX7oz8db5/R/mqkP9zJluM73KQ/7BcDCmFPpT8j8IbScsSlP1Uuh711O6Y/97ZqPW60pj9v7de1YC+nP+Hu73pRrKc/yaOH0EQrqD/Ru17pPqyoP62nVOZDL6k/FKab1Ve0qT8F+emxfjuqPzlaqWG8xKo/fcUkthRQqz8KsbRqi92rP6TM6SMkbaw/7mC2buL+rD8SaZa/yZKtP/GBtnHdKK4/csoZxiDBrj+Q0b7illuvP1qvw9FC+K8/arNEwJNLsD+/V2vfI5ywP+Yi/R7T7bA/anH2x6JAsT/bfTkTlJSxP0Q1Hymo6bE/RBEIIeA/sj9SCe0APZeyP7us8Ly/77I/eHfwNmlJsz//cxY+OqSzP9E8a44zALQ/dnBo0FVdtD8Zq4uYobu0PysZ6mYXG7U/jrbEprd7tT9NTh2ugt21P81OTL14QLY/2IaX/pmktj/z38mF5gm3P7EqzE9ecLc/yhE/QgHYtz8RSRYrz0C4P0ANNcDHqrg/FwoMn+oVuT/uuzhMN4K5P2xiJjOt77k/x5mwpUteuj9MsMfbEc66P8DNFvP+Prs/ZAKs7hGxuz9CU6K2SSS8P4fZzRelmLw/lQpqwyIOvT+DPspOwYS9P4KKDDN//L0/8wTPzFp1vj9NiOdbUu++P20KHgNkar8/SZ3px43mvz8lFxjJ5jHAP4aMBJYQccA/FVHBIMOwwD9lNzUw/fDAP3GGDHy9McE/QFCgrAJzwT/KZN9ay7TBP/bqOBAW98E/K6mIRuE5wj/vBgVoK33CP83QLs/ywMI/hcfCxjUFwz93A62J8knDP+I0/kInj8M/acniDdLUwz8l/5v18BrEPzLtevWBYcQ/f4nd+IKoxD9Xsy3b8e/EP+1J4mfMN8U/1VWCWhCAxT8cTKpeu8jFP2BxExDLEcY/CmOd+jxbxj9rzFmaDqXGPyxNmls978Y/TZYAm8Y5xz9swpClp4THP9ftxbjdz8c/hRKpAmYbyD+9K+qhPWfIP8mk+6Vhs8g/xRUwD8//yD8nUdrOgkzJP03Eb8d5mck/4yytzLDmyT+gpL2jJDTKP3YEZAPSgco/vp8mlLXPyj/FV33wyx3LP2gHAqURbMs/P0ajMIO6yz80gtkEHQnMPy9u3oXbV8w/zcPmCrumzD/YVV7et/XMP75wJj7ORM0/t4XWW/qTzT/8HP9cOOPNP9sKb1uEMs4/HuN6ZdqBzj+4pUZ+NtHOPzCfEZ6UIM8/23aEsvBvzz+LZAGfRr/PP2BDex5JB9A/CykZrucu0D8dCZ3hfFbQPwY60ZcGftA/Pwg1q4Kl0D9o9yry7szQP3L6Jz9J9NA/tp3jYI8b0T/lHYkiv0LRP0hm6UvWadE/vfCtodKQ0T+YgYzlsbfRP1a5e9Zx3tE/4HXoMBAF0j/z/OuuiivSP/voggjfUdI/idHE8wp40j9kqBwlDJ7SP/TDgU/gw9I/oo+xJIXp0j+W2mlV+A7TPx29o5E3NNM/ugzPiEBZ0z/kVg7qEH7TPxpac2SmotM/APU7p/7G0z/2gg9iF+vTP2mdPEXuDtQ/Njn3AYEy1D8FF5dKzVXUP6t91tLQeNQ/VjURUImb1D9CuoN59L3UP5WdiggQ4NQ/5AriuNkB1T/GaOVITyPVP+4Kz3luRNU/6uv3DzVl1T/dZBfToIXVP0jZgo6vpdU/C01tEV/F1T+X2iYvreTVP3b/W7+XA9Y//7RUnhwi1j9ZSzOtOUDWP5r8MtLsXdY/Iy7m+DN71j/5VXQSDZjWP0l61xV2tNY/80AZAG3Q1j8nhY/U7+vWPyppGJ38Btc/VdpVapEh1z96fehTrDvXP+D5qXhLVdc/I5nm/mxu1z9QMpYUD4fXP7BWlO8vn9c/zbbXzc221z9Ttqj15s3XP4Ul17V55Nc/NBfvZYT61z8jymxmBRDYP/6c7yD7JNg/LwRsCGQ52D/leFyZPk3YP/dY8VmJYNg/Qq8/2kJz2D983G60aYXYP4QY5Yz8ltg/dcRyEvqn2D/hhXz+YLjYP/AjJBUwyNg/IR9wJWbX2D/P/HEJAubYP7M/a6YC9Ng/5Abx7GYB2T8RTQ7ZLQ7ZP97BZHJWGtk/pzdMzN8l2T//n/AFyTDZP7CRbkoRO9k/HVPu0LdE2T8/ZL3cu03ZP6uDZr0cVtk/XCrIztld2T9Geil58mTZP+GbTTFma9k/ToeFeDRx2T/YNcDcXHbZP/E4mfjeetk/D7Rlc7p+2T8Ptz8B74HZPx/3D2N8hNk/aeSVZmKG2T8SG27moIfZP1suF8o3iNk/F830BSeI2T/UPlGbbofZP4I5XZgOhtk/lg8uGAeE2T8AN7pCWIHZP5Up1EwCftk/058jeAV62T8/Jx0TYnXZP9UV+HgYcNk/XdyiESlq2T/CubVRlGPZP8DRY7paXNk/nKlq2XxU2T/eDQBJ+0vZP0dkvq/WQtk/em2PwA852T9CepU6py7ZP1kYE+mdI9k/NztRo/QX2T9X5YNMrAvZP+9WrdPF/tg/Hcd/M0Lx2D8CrT1yIuPYP1GemKFn1Ng/Q8mO3hLF2D/5D0dRJbXYP57L6yygpNg/8T2Er4ST2D/Vt8wh1IHYPwl8DdePb9g/IGXwLLlc2D8wVlWLUUnYP8t9JWRaNdg/AnMlM9Ug2D94NMZ9wwvYP5oR9dIm9tc/XIbqygDg1z/fEfgGU8nXP64QVTEfstc/U6Pq/Gaa1z8pqh4lLILXP3nfnW1wadc/DRklojVQ1z9oukmWfTbXPzZhQSVKHNc/QNWoMZ0B1z+JRUqleObWP0fc4nDeytY/YbPni9Cu1j9PM0r0UJLWPyXmO65hddY/ycjxwwRY1j86JGdFPDrWP974H0gKHNY/9AXr5nD91T8Td6NBct7VP9hB8nwQv9U/xj0Pwk2f1T9cAII+LH/VP3iH4iOuXtU/87uZp9U91T981qECpRzVP6OwRnEe+9Q/7wvmMkTZ1D/V2K+JGLfUP2qHZrqdlNQ/ZWsfDNZx1D8zPQPIw07UP5HBDjlpK9Q/N6HTq8gH1D/ieTlu5OPTPwQyP8++v9M/Spi8Hlqb0z/uVyStuHbTP9NKRsvcUdM/KjISysgs0z883lr6fgfTP/XNmawB4tI/aU6zMFO80j+sIrvVdZbSP+q7uelrcNI/vAlyuTdK0j9V6ieQ2yPSPztCZ7dZ/dE/t8LLdrTW0T9cZskT7q/RP4CqddEIidE/j4xR8AZi0T/DURSu6jrRP7Yfd0W2E9E/BmwB7mvs0D8FSdbbDcXQP0aVgj+endA/qBPMRR920D8wcYEXk07QP+g9S9n7JtA/arv7Vrf+zz+o69hTaa/PPx63edcRYM8/yRB5BrUQzz96L237VsHOP/Wjlcb7cc4/CJGLbacizj9iDPTqXdPNP22uNC4jhM0/FVcqG/s0zT/YLOKJ6eXMPxjbVEbylsw/ORQkEBlIzD+DW1qaYfnLP3IaLYvPqss/jgTBe2Zcyz+SzPD3KQ7LP/4sFn4dwMo/HUbVfkRyyj+tUupcoiTKPz+0+Ww618k/u1di9Q+KyT8/chIuJj3JP92VXkCA8Mg/sB3bRiGkyD/j7zdNDFjIP12UHlBEDMg/7Z0SPczAxz+/Y1TypnXHP1EIxj7XKsc/0MrS4V/gxj9rn1iLQ5bGP8IKlNuETMY/PDwOYyYDxj/BYo2iKrrFP/Y2BwuUccU/xLWV/WQpxT+ZBW7Ln+HEP6GA2bVGmsQ/tN0w7ltTxD+ecdmV4QzEP+yBRL7ZxsM/V6LwaEaBwz9gFW2HKTzDP7ooX/uE98I/koWJllqzwj+3bNUarG/CP3fWXTp7LMI/g218l8npwT9TXNjEmKfBPwvkdkXqZcE/0LPNjL8kwT9I99b+GeTAP9ASJ/D6o8A/0QMEpmNkwD9nW35WVSXAPwqTF1Gizb8//VxGaLBRvz+nUbQE19a+PwEqCBsYXb4/3emkgnXkvT8eae318Gy9Pz2CihKM9rw/zdCzWUiBvD+86nowJw28P7/+GOApmrs/gcI+llEouz/QmmZln7e6PzXoKEUUSLo/PmKSErHZuT/Ja3yQdmy5P3hK52dlALk/1StWKH6VuD864ixIwSu4PxxEDyUvw7c/CxhCBMhbtz/5dw0TjPW2P3aWIGd7kLY/o9D2/pUstj+s9z3C28m1P/m8PYJMaLU/GCxA+ucHtT/5HfvPrai0P8SQ+pOdSrQ/TdALwrbtsz/4WqnB+JGzP0NvZ+ZiN7M/bS5hcPTdsj/kQKaMrIWyP1npqFWKLrI/1nOs04zYsT8Y7jP9soOxPykXcbf7L7E/J3Sz1mXdsD+oeNce8IuwP2axtUOZO7A/cMAj07/Yrz9U8RNLhTyvP9XZCfx/oq4/E3ZC1qwKrj/lVUauCHWtP41bxT2Q4aw/n59xJEBQrD+wXNnoFMGrP6nGP/kKNKs/RLJ0rB6pqj8x8apCTCCqP7dJTeaPmak/6O/RrOUUqT/PZ4yXSZKoPzm5fZS3Eag/vN0ifyuTpz/vUkEhoRanP2S7sTMUnKY/pXkoX4Ajpj91Mfw84aylPykc6lcyOKU/5R3YLG/FpD8RipQrk1SkP4SGk7eZ5aM/MP2pKH54oz9KDcbLOw2jP2rtpOPNo6I/HDGGqS88oj+8ZNxNXNahP8Lz+vhOcqE/1U3BywIQoT8oQEPgcq+gPw95bkqaUKA/Z1laMejmnz+FpAup9i+fP8zjbwZWfJ4/1virTPzLnT8UTLh43x6dP3p9iIL1dJw/5wUtXjTOmz92wO78kSqbPxZUZE4Eipo/UXeBQYHsmT/hCKDF/lGZP1P5gstyupg/NANTRtMlmD/xL5UsFpSXP0QpG3kxBZc/0lftKxt5lj/N0C5Lye+VP2cV++MxaZU/Eqg9C0vllD9mfIPeCmSUP3tHxoRn5ZM/nLcxL1dpkz8Sm+IZ0O+SP3n+n4zIeJI/TkyO2zYEkj/td9xnEZKRPxE/a6BOIpE/wY1uAuW0kD9fEQkay0mQPykQxAXvwY8/XbVq0cH0jj9xH7wP/CuOP/ZNtluLZ40/8tqdc12njD+vtPE5YOuLP5oLVLaBM4s/U5doFrB/ij8MV6iu2c+JP33yKvvsI4k/JuFloNh7iD/mfuFri9eHP3k15FT0Noc/9uITfQKahj+Xpg0xpQCGPzw99OjLaoU/2Bf1SGbYhD+FVsQhZEmEP4nTD3G1vYM/ymnpYUo1gz+yoihNE7CCPxD4w7kALoI/X9YhXQOvgT95jGEbDDOBP9VVnAcMuoA/jaweZPRDgD89ITRFbaF/P8jjnsiIwH4/mNRk9B7lfT/l6wrKEw99Px+t3qpLPnw/pJ8TWKtyez//09PyF6x6PxXQQ/x26nk/zTx6Va4teT+6rms/pHV4P2/jylo/wnc/Oszdp2YTdz+QvkeGAWl2P2YiybT3wnU/0fT0UDEhdT/jddzWloN0P0NXsSAR6nM/KsBeZolUcz/fehk96cJyP9Oe55YaNXI/fwkgwgercT8u9+FomyRxP+ALhZDAoXA/nBsCmWIicD8bAKp42kxvP1qRrxuZW24/LCIv89lwbT8FkUaHdoxsP5BnqQ5Jrms/r+QnbSzWaj9+misy/ANqP3ksKpeUN2k/3LYOftJwaD/LZZpvk69nPx3BvJm182Y/fy3kzRc9Zj+IIkd/mYtlP9iRJsEa32Q/8/gJRXw3ZD+1lPVYn5RjPw8rm+Vl9mI/N9yFbLJcYj+uakEGaMdhPwFmfWBqNmE/CaIsvJ2pYD+UYaHr5iBgP6EwTaFWOF8/qksttaE2Xj/e0N8IfDxdP5sHz6WzSVw/dWr1pBdeWz8CGP4qeHlaPxG1Y2Smm1k/KGOOgXTEWD+iafGytfNXP2cqKSU+KVc/XvYZ/eJkVj9KUBBUeqZVPzAo4zPb7VQ/cpQYk906VD+fiA1RWo1TP4MFITIr5VI/Yjnj2ypCUj/FAUnRNKRRPyQ95G4lC1E/dVQh59l2UD+7wxR9YM5PP5+nIJAOuE4/G9K0Qn2qTT/UuDhebaVMPwco5zKhqEs/NEaXkNyzSj9T05S/5MZJPzkyiHmA4Ug/GMNu4ncDSD96DqSBlCxHP4Q4/DqhXEY/QS3wR2qTRT+w79swvdBEP3VuT8ZoFEQ/tzlyGj1eQz9QcHp6C65CP90yN2imA0I/meWuk+FeQT/yg9HUkb9AP15CPyWNJUA/qGtHNFUhPz87ZEu8hAE+P3MW2FZb6zw/G8Fui43eOz9QJyLp0do6P0MOH/vg3zk/kXtfPXXtOD922ogRSwM4P4kl9bMgITc/PyrnMLZGNj9j8ulZzXM1P3NYW7spqDQ/bcMhkpDjMz9v/4zByCUzPx8hYsmabjI/PVsSvNC9MT+jphw1NhMxPyQXmk+YbjA/EGLpOYufLz9hG5E3HG0uP4kv3l2GRS0/e0RoKW8oLD+6MWm8fhUrP+gFzc1fDCo/UhuUmL8MKT86nIbLTRYoPzjPOHm8KCc/zHxfCMBDJj9Ut3MkD2clP05Ipa5ikiQ/FP4ar3XFIz/AEIBGBQAjP7bN3Z/QQSI/tbTA4piKIT8=",
                    "dtype": "f8"
                  }
                },
                {
                  "fill": "toself",
                  "fillcolor": "rgba(0,0,255,0.2)",
                  "line": {
                    "color": "rgba(255,255,255,0)"
                  },
                  "name": "1종 오류 (α = 0.05)",
                  "type": "scatter",
                  "x": {
                    "bdata": "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",
                    "dtype": "f8"
                  },
                  "y": {
                    "bdata": "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",
                    "dtype": "f8"
                  }
                },
                {
                  "fill": "toself",
                  "fillcolor": "rgba(255,0,0,0.2)",
                  "line": {
                    "color": "rgba(255,255,255,0)"
                  },
                  "name": "2종 오류 (β)",
                  "type": "scatter",
                  "x": {
                    "bdata": "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",
                    "dtype": "f8"
                  },
                  "y": {
                    "bdata": "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",
                    "dtype": "f8"
                  }
                }
              ],
              "layout": {
                "shapes": [
                  {
                    "line": {
                      "color": "green",
                      "dash": "dash",
                      "width": 2
                    },
                    "name": "임계값",
                    "type": "line",
                    "x0": 1.644853626951472,
                    "x1": 1.644853626951472,
                    "xref": "x",
                    "y0": 0,
                    "y1": 1,
                    "yref": "y domain"
                  }
                ],
                "template": {
                  "data": {
                    "bar": [
                      {
                        "error_x": {
                          "color": "#2a3f5f"
                        },
                        "error_y": {
                          "color": "#2a3f5f"
                        },
                        "marker": {
                          "line": {
                            "color": "#E5ECF6",
                            "width": 0.5
                          },
                          "pattern": {
                            "fillmode": "overlay",
                            "size": 10,
                            "solidity": 0.2
                          }
                        },
                        "type": "bar"
                      }
                    ],
                    "barpolar": [
                      {
                        "marker": {
                          "line": {
                            "color": "#E5ECF6",
                            "width": 0.5
                          },
                          "pattern": {
                            "fillmode": "overlay",
                            "size": 10,
                            "solidity": 0.2
                          }
                        },
                        "type": "barpolar"
                      }
                    ],
                    "carpet": [
                      {
                        "aaxis": {
                          "endlinecolor": "#2a3f5f",
                          "gridcolor": "white",
                          "linecolor": "white",
                          "minorgridcolor": "white",
                          "startlinecolor": "#2a3f5f"
                        },
                        "baxis": {
                          "endlinecolor": "#2a3f5f",
                          "gridcolor": "white",
                          "linecolor": "white",
                          "minorgridcolor": "white",
                          "startlinecolor": "#2a3f5f"
                        },
                        "type": "carpet"
                      }
                    ],
                    "choropleth": [
                      {
                        "colorbar": {
                          "outlinewidth": 0,
                          "ticks": ""
                        },
                        "type": "choropleth"
                      }
                    ],
                    "contour": [
                      {
                        "colorbar": {
                          "outlinewidth": 0,
                          "ticks": ""
                        },
                        "colorscale": [
                          [
                            0,
                            "#0d0887"
                          ],
                          [
                            0.1111111111111111,
                            "#46039f"
                          ],
                          [
                            0.2222222222222222,
                            "#7201a8"
                          ],
                          [
                            0.3333333333333333,
                            "#9c179e"
                          ],
                          [
                            0.4444444444444444,
                            "#bd3786"
                          ],
                          [
                            0.5555555555555556,
                            "#d8576b"
                          ],
                          [
                            0.6666666666666666,
                            "#ed7953"
                          ],
                          [
                            0.7777777777777778,
                            "#fb9f3a"
                          ],
                          [
                            0.8888888888888888,
                            "#fdca26"
                          ],
                          [
                            1,
                            "#f0f921"
                          ]
                        ],
                        "type": "contour"
                      }
                    ],
                    "contourcarpet": [
                      {
                        "colorbar": {
                          "outlinewidth": 0,
                          "ticks": ""
                        },
                        "type": "contourcarpet"
                      }
                    ],
                    "heatmap": [
                      {
                        "colorbar": {
                          "outlinewidth": 0,
                          "ticks": ""
                        },
                        "colorscale": [
                          [
                            0,
                            "#0d0887"
                          ],
                          [
                            0.1111111111111111,
                            "#46039f"
                          ],
                          [
                            0.2222222222222222,
                            "#7201a8"
                          ],
                          [
                            0.3333333333333333,
                            "#9c179e"
                          ],
                          [
                            0.4444444444444444,
                            "#bd3786"
                          ],
                          [
                            0.5555555555555556,
                            "#d8576b"
                          ],
                          [
                            0.6666666666666666,
                            "#ed7953"
                          ],
                          [
                            0.7777777777777778,
                            "#fb9f3a"
                          ],
                          [
                            0.8888888888888888,
                            "#fdca26"
                          ],
                          [
                            1,
                            "#f0f921"
                          ]
                        ],
                        "type": "heatmap"
                      }
                    ],
                    "histogram": [
                      {
                        "marker": {
                          "pattern": {
                            "fillmode": "overlay",
                            "size": 10,
                            "solidity": 0.2
                          }
                        },
                        "type": "histogram"
                      }
                    ],
                    "histogram2d": [
                      {
                        "colorbar": {
                          "outlinewidth": 0,
                          "ticks": ""
                        },
                        "colorscale": [
                          [
                            0,
                            "#0d0887"
                          ],
                          [
                            0.1111111111111111,
                            "#46039f"
                          ],
                          [
                            0.2222222222222222,
                            "#7201a8"
                          ],
                          [
                            0.3333333333333333,
                            "#9c179e"
                          ],
                          [
                            0.4444444444444444,
                            "#bd3786"
                          ],
                          [
                            0.5555555555555556,
                            "#d8576b"
                          ],
                          [
                            0.6666666666666666,
                            "#ed7953"
                          ],
                          [
                            0.7777777777777778,
                            "#fb9f3a"
                          ],
                          [
                            0.8888888888888888,
                            "#fdca26"
                          ],
                          [
                            1,
                            "#f0f921"
                          ]
                        ],
                        "type": "histogram2d"
                      }
                    ],
                    "histogram2dcontour": [
                      {
                        "colorbar": {
                          "outlinewidth": 0,
                          "ticks": ""
                        },
                        "colorscale": [
                          [
                            0,
                            "#0d0887"
                          ],
                          [
                            0.1111111111111111,
                            "#46039f"
                          ],
                          [
                            0.2222222222222222,
                            "#7201a8"
                          ],
                          [
                            0.3333333333333333,
                            "#9c179e"
                          ],
                          [
                            0.4444444444444444,
                            "#bd3786"
                          ],
                          [
                            0.5555555555555556,
                            "#d8576b"
                          ],
                          [
                            0.6666666666666666,
                            "#ed7953"
                          ],
                          [
                            0.7777777777777778,
                            "#fb9f3a"
                          ],
                          [
                            0.8888888888888888,
                            "#fdca26"
                          ],
                          [
                            1,
                            "#f0f921"
                          ]
                        ],
                        "type": "histogram2dcontour"
                      }
                    ],
                    "mesh3d": [
                      {
                        "colorbar": {
                          "outlinewidth": 0,
                          "ticks": ""
                        },
                        "type": "mesh3d"
                      }
                    ],
                    "parcoords": [
                      {
                        "line": {
                          "colorbar": {
                            "outlinewidth": 0,
                            "ticks": ""
                          }
                        },
                        "type": "parcoords"
                      }
                    ],
                    "pie": [
                      {
                        "automargin": true,
                        "type": "pie"
                      }
                    ],
                    "scatter": [
                      {
                        "fillpattern": {
                          "fillmode": "overlay",
                          "size": 10,
                          "solidity": 0.2
                        },
                        "type": "scatter"
                      }
                    ],
                    "scatter3d": [
                      {
                        "line": {
                          "colorbar": {
                            "outlinewidth": 0,
                            "ticks": ""
                          }
                        },
                        "marker": {
                          "colorbar": {
                            "outlinewidth": 0,
                            "ticks": ""
                          }
                        },
                        "type": "scatter3d"
                      }
                    ],
                    "scattercarpet": [
                      {
                        "marker": {
                          "colorbar": {
                            "outlinewidth": 0,
                            "ticks": ""
                          }
                        },
                        "type": "scattercarpet"
                      }
                    ],
                    "scattergeo": [
                      {
                        "marker": {
                          "colorbar": {
                            "outlinewidth": 0,
                            "ticks": ""
                          }
                        },
                        "type": "scattergeo"
                      }
                    ],
                    "scattergl": [
                      {
                        "marker": {
                          "colorbar": {
                            "outlinewidth": 0,
                            "ticks": ""
                          }
                        },
                        "type": "scattergl"
                      }
                    ],
                    "scattermap": [
                      {
                        "marker": {
                          "colorbar": {
                            "outlinewidth": 0,
                            "ticks": ""
                          }
                        },
                        "type": "scattermap"
                      }
                    ],
                    "scattermapbox": [
                      {
                        "marker": {
                          "colorbar": {
                            "outlinewidth": 0,
                            "ticks": ""
                          }
                        },
                        "type": "scattermapbox"
                      }
                    ],
                    "scatterpolar": [
                      {
                        "marker": {
                          "colorbar": {
                            "outlinewidth": 0,
                            "ticks": ""
                          }
                        },
                        "type": "scatterpolar"
                      }
                    ],
                    "scatterpolargl": [
                      {
                        "marker": {
                          "colorbar": {
                            "outlinewidth": 0,
                            "ticks": ""
                          }
                        },
                        "type": "scatterpolargl"
                      }
                    ],
                    "scatterternary": [
                      {
                        "marker": {
                          "colorbar": {
                            "outlinewidth": 0,
                            "ticks": ""
                          }
                        },
                        "type": "scatterternary"
                      }
                    ],
                    "surface": [
                      {
                        "colorbar": {
                          "outlinewidth": 0,
                          "ticks": ""
                        },
                        "colorscale": [
                          [
                            0,
                            "#0d0887"
                          ],
                          [
                            0.1111111111111111,
                            "#46039f"
                          ],
                          [
                            0.2222222222222222,
                            "#7201a8"
                          ],
                          [
                            0.3333333333333333,
                            "#9c179e"
                          ],
                          [
                            0.4444444444444444,
                            "#bd3786"
                          ],
                          [
                            0.5555555555555556,
                            "#d8576b"
                          ],
                          [
                            0.6666666666666666,
                            "#ed7953"
                          ],
                          [
                            0.7777777777777778,
                            "#fb9f3a"
                          ],
                          [
                            0.8888888888888888,
                            "#fdca26"
                          ],
                          [
                            1,
                            "#f0f921"
                          ]
                        ],
                        "type": "surface"
                      }
                    ],
                    "table": [
                      {
                        "cells": {
                          "fill": {
                            "color": "#EBF0F8"
                          },
                          "line": {
                            "color": "white"
                          }
                        },
                        "header": {
                          "fill": {
                            "color": "#C8D4E3"
                          },
                          "line": {
                            "color": "white"
                          }
                        },
                        "type": "table"
                      }
                    ]
                  },
                  "layout": {
                    "annotationdefaults": {
                      "arrowcolor": "#2a3f5f",
                      "arrowhead": 0,
                      "arrowwidth": 1
                    },
                    "autotypenumbers": "strict",
                    "coloraxis": {
                      "colorbar": {
                        "outlinewidth": 0,
                        "ticks": ""
                      }
                    },
                    "colorscale": {
                      "diverging": [
                        [
                          0,
                          "#8e0152"
                        ],
                        [
                          0.1,
                          "#c51b7d"
                        ],
                        [
                          0.2,
                          "#de77ae"
                        ],
                        [
                          0.3,
                          "#f1b6da"
                        ],
                        [
                          0.4,
                          "#fde0ef"
                        ],
                        [
                          0.5,
                          "#f7f7f7"
                        ],
                        [
                          0.6,
                          "#e6f5d0"
                        ],
                        [
                          0.7,
                          "#b8e186"
                        ],
                        [
                          0.8,
                          "#7fbc41"
                        ],
                        [
                          0.9,
                          "#4d9221"
                        ],
                        [
                          1,
                          "#276419"
                        ]
                      ],
                      "sequential": [
                        [
                          0,
                          "#0d0887"
                        ],
                        [
                          0.1111111111111111,
                          "#46039f"
                        ],
                        [
                          0.2222222222222222,
                          "#7201a8"
                        ],
                        [
                          0.3333333333333333,
                          "#9c179e"
                        ],
                        [
                          0.4444444444444444,
                          "#bd3786"
                        ],
                        [
                          0.5555555555555556,
                          "#d8576b"
                        ],
                        [
                          0.6666666666666666,
                          "#ed7953"
                        ],
                        [
                          0.7777777777777778,
                          "#fb9f3a"
                        ],
                        [
                          0.8888888888888888,
                          "#fdca26"
                        ],
                        [
                          1,
                          "#f0f921"
                        ]
                      ],
                      "sequentialminus": [
                        [
                          0,
                          "#0d0887"
                        ],
                        [
                          0.1111111111111111,
                          "#46039f"
                        ],
                        [
                          0.2222222222222222,
                          "#7201a8"
                        ],
                        [
                          0.3333333333333333,
                          "#9c179e"
                        ],
                        [
                          0.4444444444444444,
                          "#bd3786"
                        ],
                        [
                          0.5555555555555556,
                          "#d8576b"
                        ],
                        [
                          0.6666666666666666,
                          "#ed7953"
                        ],
                        [
                          0.7777777777777778,
                          "#fb9f3a"
                        ],
                        [
                          0.8888888888888888,
                          "#fdca26"
                        ],
                        [
                          1,
                          "#f0f921"
                        ]
                      ]
                    },
                    "colorway": [
                      "#636efa",
                      "#EF553B",
                      "#00cc96",
                      "#ab63fa",
                      "#FFA15A",
                      "#19d3f3",
                      "#FF6692",
                      "#B6E880",
                      "#FF97FF",
                      "#FECB52"
                    ],
                    "font": {
                      "color": "#2a3f5f"
                    },
                    "geo": {
                      "bgcolor": "white",
                      "lakecolor": "white",
                      "landcolor": "#E5ECF6",
                      "showlakes": true,
                      "showland": true,
                      "subunitcolor": "white"
                    },
                    "hoverlabel": {
                      "align": "left"
                    },
                    "hovermode": "closest",
                    "mapbox": {
                      "style": "light"
                    },
                    "paper_bgcolor": "white",
                    "plot_bgcolor": "#E5ECF6",
                    "polar": {
                      "angularaxis": {
                        "gridcolor": "white",
                        "linecolor": "white",
                        "ticks": ""
                      },
                      "bgcolor": "#E5ECF6",
                      "radialaxis": {
                        "gridcolor": "white",
                        "linecolor": "white",
                        "ticks": ""
                      }
                    },
                    "scene": {
                      "xaxis": {
                        "backgroundcolor": "#E5ECF6",
                        "gridcolor": "white",
                        "gridwidth": 2,
                        "linecolor": "white",
                        "showbackground": true,
                        "ticks": "",
                        "zerolinecolor": "white"
                      },
                      "yaxis": {
                        "backgroundcolor": "#E5ECF6",
                        "gridcolor": "white",
                        "gridwidth": 2,
                        "linecolor": "white",
                        "showbackground": true,
                        "ticks": "",
                        "zerolinecolor": "white"
                      },
                      "zaxis": {
                        "backgroundcolor": "#E5ECF6",
                        "gridcolor": "white",
                        "gridwidth": 2,
                        "linecolor": "white",
                        "showbackground": true,
                        "ticks": "",
                        "zerolinecolor": "white"
                      }
                    },
                    "shapedefaults": {
                      "line": {
                        "color": "#2a3f5f"
                      }
                    },
                    "ternary": {
                      "aaxis": {
                        "gridcolor": "white",
                        "linecolor": "white",
                        "ticks": ""
                      },
                      "baxis": {
                        "gridcolor": "white",
                        "linecolor": "white",
                        "ticks": ""
                      },
                      "bgcolor": "#E5ECF6",
                      "caxis": {
                        "gridcolor": "white",
                        "linecolor": "white",
                        "ticks": ""
                      }
                    },
                    "title": {
                      "x": 0.05
                    },
                    "xaxis": {
                      "automargin": true,
                      "gridcolor": "white",
                      "linecolor": "white",
                      "ticks": "",
                      "title": {
                        "standoff": 15
                      },
                      "zerolinecolor": "white",
                      "zerolinewidth": 2
                    },
                    "yaxis": {
                      "automargin": true,
                      "gridcolor": "white",
                      "linecolor": "white",
                      "ticks": "",
                      "title": {
                        "standoff": 15
                      },
                      "zerolinecolor": "white",
                      "zerolinewidth": 2
                    }
                  }
                },
                "title": {
                  "text": "1종 및 2종 오류 시각화 (MDE 큼)<br>α=0.05, β=0.36, Power=0.64"
                },
                "xaxis": {
                  "title": {
                    "text": "테스트 통계량"
                  }
                },
                "yaxis": {
                  "title": {
                    "text": "확률 밀도"
                  }
                }
              }
            }
          },
          "metadata": {},
          "output_type": "display_data"
        }
      ],
      "source": [
        "# 예시 2: MDE가 클 때\n",
        "fig2 = plot_error_types(mu_alt=2.0, sigma=1, title_suffix=\"(MDE 큼)\")\n",
        "fig2.show()"
      ]
    },
    {
      "cell_type": "code",
      "execution_count": 31,
      "metadata": {},
      "outputs": [
        {
          "data": {
            "application/vnd.plotly.v1+json": {
              "config": {
                "plotlyServerURL": "https://plot.ly"
              },
              "data": [
                {
                  "line": {
                    "color": "blue"
                  },
                  "mode": "lines",
                  "name": "H0 분포 (귀무 가설)",
                  "type": "scatter",
                  "x": {
                    "bdata": "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",
                    "dtype": "f8"
                  },
                  "y": {
                    "bdata": "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",
                    "dtype": "f8"
                  }
                },
                {
                  "line": {
                    "color": "red"
                  },
                  "mode": "lines",
                  "name": "H1 분포 (대립 가설)",
                  "type": "scatter",
                  "x": {
                    "bdata": "AAAAAAAAAMC4/jLff+v/v3D9Zb7/1v+/KPyYnX/C/7/g+st8/63/v5j5/lt/mf+/UPgxO/+E/78I92Qaf3D/v8D1l/n+W/+/ePTK2H5H/78w8/23/jL/v+jxMJd+Hv+/oPBjdv4J/79Y75ZVfvX+vxDuyTT+4P6/yOz8E37M/r+A6y/z/bf+vzjqYtJ9o/6/8OiVsf2O/r+o58iQfXr+v2Dm+2/9Zf6/GOUuT31R/r/Q42Eu/Tz+v4jilA19KP6/QOHH7PwT/r/43/rLfP/9v7DeLav86v2/aN1ginzW/b8g3JNp/MH9v9jaxkh8rf2/kNn5J/yY/b9I2CwHfIT9vwDXX+b7b/2/uNWSxXtb/b9w1MWk+0b9vyjT+IN7Mv2/4NErY/sd/b+Y0F5Cewn9v1DPkSH79Py/CM7EAHvg/L/AzPff+sv8v3jLKr96t/y/MMpdnvqi/L/oyJB9eo78v6DHw1z6efy/WMb2O3pl/L8QxSkb+lD8v8jDXPp5PPy/gMKP2fkn/L84wcK4eRP8v/C/9Zf5/vu/qL4od3nq+79gvVtW+dX7vxi8jjV5wfu/0LrBFPms+7+IufTzeJj7v0C4J9P4g/u/+LZasnhv+7+wtY2R+Fr7v2i0wHB4Rvu/ILPzT/gx+7/YsSYveB37v5CwWQ74CPu/SK+M7Xf0+r8Arr/M99/6v7is8qt3y/q/cKsli/e2+r8oqlhqd6L6v+Coi0n3jfq/mKe+KHd5+r9QpvEH92T6vwilJOd2UPq/wKNXxvY7+r94ooqldif6vzChvYT2Evq/6J/wY3b++b+gniND9un5v1idViJ21fm/EJyJAfbA+b/Imrzgdaz5v4CZ77/1l/m/N5gin3WD+b/vllV+9W75v6eViF11Wvm/X5S7PPVF+b8Xk+4bdTH5v8+RIfv0HPm/h5BU2nQI+b8/j4e59PP4v/eNuph03/i/r4ztd/TK+L9niyBXdLb4vx+KUzb0ofi/14iGFXSN+L+Ph7n083j4v0eG7NNzZPi//4Qfs/NP+L+3g1KSczv4v2+ChXHzJvi/J4G4UHMS+L/ff+sv8/33v5d+Hg9z6fe/T31R7vLU978HfITNcsD3v796t6zyq/e/d3nqi3KX978veB1r8oL3v+d2UEpybve/n3WDKfJZ979XdLYIckX3vw9z6efxMPe/x3Ecx3Ec979/cE+m8Qf3vzdvgoVx8/a/7221ZPHe9r+nbOhDccr2v19rGyPxtfa/F2pOAnGh9r/PaIHh8Iz2v4dntMBwePa/P2bnn/Bj9r/3ZBp/cE/2v69jTV7wOva/Z2KAPXAm9r8fYbMc8BH2v9df5vtv/fW/j14Z2+/o9b9HXUy6b9T1v/9bf5nvv/W/t1qyeG+r9b9vWeVX75b1vydYGDdvgvW/31ZLFu9t9b+XVX71bln1v09UsdTuRPW/B1Pks24w9b+/UReT7hv1v3dQSnJuB/W/L099Ue7y9L/nTbAwbt70v59M4w/uyfS/V0sW72219L8PSknO7aD0v8dIfK1tjPS/f0evjO139L83RuJrbWP0v+9EFUvtTvS/p0NIKm069L9fQnsJ7SX0vxdBruhsEfS/zz/hx+z887+HPhSnbOjzvz89R4bs0/O/9zt6ZWy/87+vOq1E7Krzv2c54CNslvO/HzgTA+yB87/XNkbia23zv481ecHrWPO/RzSsoGtE87//Mt9/6y/zv7YxEl9rG/O/bjBFPusG878mL3gda/Lyv94tq/zq3fK/lize22rJ8r9OKxG76rTyvwYqRJpqoPK/vih3eeqL8r92J6pYanfyvy4m3TfqYvK/5iQQF2pO8r+eI0P26Tnyv1YidtVpJfK/DiGptOkQ8r/GH9yTafzxv34eD3Pp5/G/Nh1CUmnT8b/uG3Ux6b7xv6YaqBBpqvG/Xhnb7+iV8b8WGA7PaIHxv84WQa7obPG/hhV0jWhY8b8+FKds6EPxv/YS2ktoL/G/rhENK+ga8b9mEEAKaAbxvx4Pc+nn8fC/1g2myGfd8L+ODNmn58jwv0YLDIdntPC//gk/Zuef8L+2CHJFZ4vwv24HpSTndvC/JgbYA2di8L/eBAvj5k3wv5YDPsJmOfC/TgJxoeYk8L8GAaSAZhDwv3z/rb/M9++/7PwTfszO779c+nk8zKXvv8z33/rLfO+/PPVFuctT77+s8qt3yyrvvxzwETbLAe+/jO139MrY7r/86t2yyq/uv2zoQ3HKhu6/3OWpL8pd7r9M4w/uyTTuv7zgdazJC+6/LN7basni7b+c20EpybntvwzZp+fIkO2/fNYNpshn7b/s03NkyD7tv1zR2SLIFe2/zM4/4cfs7L88zKWfx8Psv6zJC17Hmuy/HMdxHMdx7L+MxNfaxkjsv/zBPZnGH+y/bL+jV8b267/cvAkWxs3rv0y6b9TFpOu/vLfVksV7678stTtRxVLrv5yyoQ/FKeu/DLAHzsQA6798rW2MxNfqv+yq00rEruq/XKg5CcSF6r/MpZ/Hw1zqvzyjBYbDM+q/rKBrRMMK6r8cntECw+Hpv4ybN8HCuOm//Jidf8KP6b9slgM+wmbpv9yTafzBPem/TJHPusEU6b+8jjV5wevovyyMmzfBwui/nIkB9sCZ6L8Mh2e0wHDov3yEzXLAR+i/7IEzMcAe6L9cf5nvv/Xnv8x8/62/zOe/PHplbL+j57+sd8sqv3rnvxx1Mem+Uee/jHKXp74o57/8b/1lvv/mv2xtYyS+1ua/3GrJ4r2t5r9MaC+hvYTmv7xllV+9W+a/LGP7Hb0y5r+cYGHcvAnmvwxex5q84OW/fFstWby35b/sWJMXvI7lv1xW+dW7ZeW/zFNflLs85b88UcVSuxPlv6xOKxG76uS/HEyRz7rB5L+MSfeNupjkv/xGXUy6b+S/bETDCrpG5L/cQSnJuR3kv0w/j4e59OO/vDz1RbnL478sOlsEuaLjv5w3wcK4eeO/DDUngbhQ4798Mo0/uCfjv+wv8/23/uK/XC1ZvLfV4r/MKr96t6zivzwoJTm3g+K/rCWL97Za4r8cI/G1tjHiv4wgV3S2COK//B29Mrbf4b9sGyPxtbbhv9wYia+1jeG/TBbvbbVk4b+8E1UstTvhvywRu+q0EuG/nA4hqbTp4L8MDIdntMDgv3wJ7SW0l+C/7AZT5LNu4L9cBLmis0Xgv8wBH2GzHOC/eP4JP2bn379Y+dW7ZZXfvzj0oThlQ9+/GO9ttWTx3r/46TkyZJ/ev9jkBa9jTd6/uN/RK2P73b+Y2p2oYqndv3jVaSViV92/WNA1omEF3b84ywEfYbPcvxjGzZtgYdy/+MCZGGAP3L/Yu2WVX73bv7i2MRJfa9u/mLH9jl4Z2794rMkLXsfav1inlYhdddq/OKJhBV0j2r8YnS2CXNHZv/iX+f5bf9m/1JLFe1st2b+0jZH4WtvYv5SIXXVaidi/dIMp8lk32L9UfvVuWeXXvzR5wetYk9e/FHSNaFhB17/0blnlV+/Wv9RpJWJXnda/tGTx3lZL1r+UX71bVvnVv3RaidhVp9W/VFVVVVVV1b80UCHSVAPVvxRL7U5UsdS/9EW5y1Nf1L/UQIVIUw3Uv7Q7UcVSu9O/lDYdQlJp0790Mem+URfTv1QstTtRxdK/NCeBuFBz0r8UIk01UCHSv/QcGbJPz9G/1BflLk990b+0ErGrTivRv5QNfShO2dC/dAhJpU2H0L9UAxUiTTXQv2j8wT2Zxs+/KPJZN5giz7/o5/Ewl37Ov6jdiSqW2s2/aNMhJJU2zb8oybkdlJLMv+i+UReT7su/qLTpEJJKy79oqoEKkabKvyigGQSQAsq/6JWx/Y5eyb+oi0n3jbrIv2iB4fCMFsi/KHd56otyx7/obBHkis7Gv6hiqd2JKsa/aFhB14iGxb8oTtnQh+LEv+hDccqGPsS/qDkJxIWaw79oL6G9hPbCvyglObeDUsK/6BrRsIKuwb+oEGmqgQrBv2gGAaSAZsC/UPgxO/+Ev7/Q42Eu/Ty+v1DPkSH79Ly/0LrBFPmsu79QpvEH92S6v9CRIfv0HLm/UH1R7vLUt7/QaIHh8Iy2v1BUsdTuRLW/0D/hx+z8s79QKxG76rSyv9AWQa7obLG/UAJxoeYksL+g20Epybmtv6CyoQ/FKau/oIkB9sCZqL+gYGHcvAmmv6A3wcK4eaO/oA4hqbTpoL9AywEfYbOcv0B5wetYk5e/QCeBuFBzkr+AqoEKkaaKv4AGAaSAZoC/AIoB9sCZaL8ACAGkgGZgPwDMAR9hs3w/AIoB9sCZiD8AF0Gu6GyRPwBpgeHwjJY/ALvBFPmsmz+ABgGkgGagP4Avob2E9qI/gFhB14iGpT+AgeHwjBaoP4CqgQqRpqo/gNMhJJU2rT+A/ME9mcavP8ASsatOK7E/QCeBuFBzsj/AO1HFUruzP0BQIdJUA7U/wGTx3lZLtj9AecHrWJO3P8CNkfha27g/QKJhBV0juj/AtjESX2u7P0DLAR9hs7w/wN/RK2P7vT9A9KE4ZUO/P2AEuaKzRcA/oA4hqbTpwD/gGImvtY3BPyAj8bW2McI/YC1ZvLfVwj+gN8HCuHnDP+BBKcm5HcQ/IEyRz7rBxD9gVvnVu2XFP6BgYdy8CcY/4GrJ4r2txj8gdTHpvlHHP2B/me+/9cc/oIkB9sCZyD/gk2n8wT3JPyCe0QLD4ck/YKg5CcSFyj+gsqEPxSnLP+C8CRbGzcs/IMdxHMdxzD9g0dkiyBXNP6DbQSnJuc0/4OWpL8pdzj8g8BE2ywHPP2D6eTzMpc8/UAJxoeYk0D9wB6Uk53bQP5AM2afnyNA/sBENK+ga0T/QFkGu6GzRP/AbdTHpvtE/ECGptOkQ0j8wJt036mLSP1ArEbvqtNI/cDBFPusG0z+QNXnB61jTP7A6rUTsqtM/0D/hx+z80z/wRBVL7U7UPxBKSc7toNQ/ME99Ue7y1D9QVLHU7kTVP3BZ5VfvltU/kF4Z2+/o1T+wY01e8DrWP9BogeHwjNY/8G21ZPHe1j8Qc+nn8TDXPzB4HWvygtc/UH1R7vLU1z9wgoVx8ybYP5CHufTzeNg/sIztd/TK2D/QkSH79BzZP/CWVX71btk/EJyJAfbA2T8wob2E9hLaP1Cm8Qf3ZNo/cKsli/e22j+QsFkO+AjbP7C1jZH4Wts/0LrBFPms2z/wv/WX+f7bPxDFKRv6UNw/MMpdnvqi3D9Qz5Eh+/TcP3DUxaT7Rt0/kNn5J/yY3T+w3i2r/OrdP9DjYS79PN4/8OiVsf2O3j8Q7sk0/uDePzDz/bf+Mt8/UPgxO/+E3z9w/WW+/9bfP0gBzSCAFOA/2ANnYoA94D9oBgGkgGbgP/gIm+WAj+A/iAs1J4G44D8YDs9ogeHgP6gQaaqBCuE/OBMD7IEz4T/IFZ0tglzhP1gYN2+CheE/6BrRsIKu4T94HWvygtfhPwggBTSDAOI/mCKfdYMp4j8oJTm3g1LiP7gn0/iDe+I/SCptOoSk4j/YLAd8hM3iP2gvob2E9uI/+DE7/4Qf4z+INNVAhUjjPxg3b4KFceM/qDkJxIWa4z84PKMFhsPjP8g+PUeG7OM/WEHXiIYV5D/oQ3HKhj7kP3hGCwyHZ+Q/CEmlTYeQ5D+YSz+Ph7nkPyhO2dCH4uQ/uFBzEogL5T9IUw1UiDTlP9hVp5WIXeU/aFhB14iG5T/4WtsYia/lP4hddVqJ2OU/GGAPnIkB5j+oYqndiSrmPzhlQx+KU+Y/yGfdYIp85j9YaneiiqXmP+hsEeSKzuY/eG+rJYv35j8IckVniyDnP5h036iLSec/KHd56oty5z+4eRMsjJvnP0h8rW2MxOc/2H5Hr4zt5z9ogeHwjBboP/iDezKNP+g/iIYVdI1o6D8Yia+1jZHoP6iLSfeNuug/OI7jOI7j6D/IkH16jgzpP1iTF7yONek/6JWx/Y5e6T94mEs/j4fpPwib5YCPsOk/mJ1/wo/Z6T8ooBkEkALqP7iis0WQK+o/SKVNh5BU6j/Yp+fIkH3qP2iqgQqRpuo/+KwbTJHP6j+Ir7WNkfjqPxiyT8+RIes/qLTpEJJK6z84t4NSknPrP8i5HZSSnOs/WLy31ZLF6z/ovlEXk+7rP3jB61iTF+w/CMSFmpNA7D+Yxh/ck2nsPyjJuR2Ukuw/uMtTX5S77D9Izu2glOTsP9jQh+KUDe0/aNMhJJU27T/41btllV/tP4jYVaeViO0/GNvv6JWx7T+o3YkqltrtPzjgI2yWA+4/yOK9rZYs7j9Y5VfvllXuP+jn8TCXfu4/eOqLcpen7j8I7SW0l9DuP5jvv/WX+e4/KPJZN5gi7z+49PN4mEvvP0j3jbqYdO8/2Pkn/Jid7z9o/ME9mcbvP/j+W3+Z7+8/xAB74EwM8D8MAkgBzSDwP1QDFSJNNfA/nATiQs1J8D/kBa9jTV7wPywHfITNcvA/dAhJpU2H8D+8CRbGzZvwPwQL4+ZNsPA/TAywB87E8D+UDX0oTtnwP9wOSknO7fA/JBAXak4C8T9sEeSKzhbxP7QSsatOK/E//BN+zM4/8T9EFUvtTlTxP4wWGA7PaPE/1BflLk998T8cGbJPz5HxP2Qaf3BPpvE/rBtMkc+68T/0HBmyT8/xPzwe5tLP4/E/hB+z80/48T/MIIAU0AzyPxQiTTVQIfI/XCMaVtA18j+kJOd2UEryP+wltJfQXvI/NCeBuFBz8j98KE7Z0IfyP8QpG/pQnPI/DCvoGtGw8j9ULLU7UcXyP5wtglzR2fI/5C5PfVHu8j8sMBye0QLzP3Qx6b5RF/M/vDK239Er8z8ENIMAUkDzP041UCHSVPM/ljYdQlJp8z/eN+pi0n3zPyY5t4NSkvM/bjqEpNKm8z+2O1HFUrvzP/48HubSz/M/Rj7rBlPk8z+OP7gn0/jzP9ZAhUhTDfQ/HkJSadMh9D9mQx+KUzb0P65E7KrTSvQ/9kW5y1Nf9D8+R4bs03P0P4ZIUw1UiPQ/zkkgLtSc9D8WS+1OVLH0P15Mum/UxfQ/pk2HkFTa9D/uTlSx1O70PzZQIdJUA/U/flHu8tQX9T/GUrsTVSz1Pw5UiDTVQPU/VlVVVVVV9T+eViJ21Wn1P+ZX75ZVfvU/Llm8t9WS9T92WonYVaf1P75bVvnVu/U/Bl0jGlbQ9T9OXvA61uT1P5ZfvVtW+fU/3mCKfNYN9j8mYledViL2P25jJL7WNvY/tmTx3lZL9j/+Zb7/1l/2P0ZniyBXdPY/jmhYQdeI9j/WaSViV532Px5r8oLXsfY/Zmy/o1fG9j+ubYzE19r2P/ZuWeVX7/Y/PnAmBtgD9z+GcfMmWBj3P85ywEfYLPc/FnSNaFhB9z9edVqJ2FX3P6Z2J6pYavc/7nf0yth+9z82ecHrWJP3P356jgzZp/c/xntbLVm89z8OfShO2dD3P1Z+9W5Z5fc/nn/Cj9n59z/mgI+wWQ74Py6CXNHZIvg/doMp8lk3+D++hPYS2kv4PwaGwzNaYPg/ToeQVNp0+D+WiF11Won4P96JKpbanfg/Jov3tlqy+D9ujMTX2sb4P7aNkfha2/g//o5eGdvv+D9GkCs6WwT5P46R+FrbGPk/1pLFe1st+T8elJKc20H5P2aVX71bVvk/rpYs3ttq+T/2l/n+W3/5Pz6Zxh/ck/k/hpqTQFyo+T/Om2Bh3Lz5PxadLYJc0fk/Xp76otzl+T+mn8fDXPr5P+6glOTcDvo/NqJhBV0j+j9+oy4m3Tf6P8ak+0ZdTPo/DqbIZ91g+j9Wp5WIXXX6P56oYqndifo/5qkvyl2e+j8uq/zq3bL6P3asyQtex/o/vq2WLN7b+j8Gr2NNXvD6P06wMG7eBPs/lrH9jl4Z+z/essqv3i37Pya0l9BeQvs/brVk8d5W+z+2tjESX2v7P/63/jLff/s/RrnLU1+U+z+Ouph036j7P9a7ZZVfvfs/Hr0ytt/R+z9mvv/WX+b7P66/zPff+vs/9sCZGGAP/D8+wmY54CP8P4bDM1pgOPw/zsQAe+BM/D8Wxs2bYGH8P17Hmrzgdfw/pshn3WCK/D/uyTT+4J78PzbLAR9hs/w/fszOP+HH/D/GzZtgYdz8Pw7PaIHh8Pw/VtA1omEF/T+e0QLD4Rn9P+bSz+NhLv0/LtScBOJC/T921WklYlf9P77WNkbia/0/BtgDZ2KA/T9O2dCH4pT9P5banahiqf0/3ttqyeK9/T8m3TfqYtL9P27eBAvj5v0/tt/RK2P7/T/+4J5M4w/+P0bia21jJP4/juM4juM4/j/W5AWvY03+Px7m0s/jYf4/Zuef8GN2/j+u6GwR5Ir+P/bpOTJkn/4/PusGU+Sz/j+G7NNzZMj+P87toJTk3P4/Fu9ttWTx/j9e8DrW5AX/P6bxB/dkGv8/7vLUF+Uu/z829KE4ZUP/P371blnlV/8/xvY7emVs/z8O+Aib5YD/P1b51btllf8/nvqi3OWp/z/m+2/9Zb7/Py79PB7m0v8/dv4JP2bn/z++/9Zf5vv/P4QAUkAzCABAKIG4UHMSAEDMAR9hsxwAQHCChXHzJgBAFAPsgTMxAEC4g1KSczsAQFwEuaKzRQBAAIUfs/NPAECkBYbDM1oAQEiG7NNzZABA7AZT5LNuAECQh7n083gAQDQIIAU0gwBA2IiGFXSNAEB8Ce0ltJcAQCCKUzb0oQBAxAq6RjSsAEBoiyBXdLYAQAwMh2e0wABAsIztd/TKAEBUDVSINNUAQPiNuph03wBAnA4hqbTpAEBAj4e59PMAQOQP7sk0/gBAiJBU2nQIAUAsEbvqtBIBQNCRIfv0HAFAdBKICzUnAUAYk+4bdTEBQLwTVSy1OwFAYJS7PPVFAUAEFSJNNVABQKiViF11WgFATBbvbbVkAUDwllV+9W4BQJQXvI41eQFAOJgin3WDAUDcGImvtY0BQICZ77/1lwFAJBpW0DWiAUDImrzgdawBQGwbI/G1tgFAEJyJAfbAAUC0HPARNssBQFidViJ21QFA/B29MrbfAUCgniND9ukBQEQfilM29AFA6J/wY3b+AUCMIFd0tggCQDChvYT2EgJA1CEklTYdAkB4ooqldicCQBwj8bW2MQJAwKNXxvY7AkBkJL7WNkYCQAilJOd2UAJArCWL97ZaAkBQpvEH92QCQPQmWBg3bwJAmKe+KHd5AkA8KCU5t4MCQOCoi0n3jQJAhCnyWTeYAkAoqlhqd6ICQMwqv3q3rAJAcKsli/e2AkAULIybN8ECQLis8qt3ywJAXC1ZvLfVAkAArr/M998CQKQuJt036gJASK+M7Xf0AkDsL/P9t/4CQJCwWQ74CANANDHAHjgTA0DYsSYveB0DQHwyjT+4JwNAILPzT/gxA0DEM1pgODwDQGi0wHB4RgNADDUngbhQA0CwtY2R+FoDQFQ29KE4ZQNA+LZasnhvA0CcN8HCuHkDQEC4J9P4gwNA5DiO4ziOA0CIufTzeJgDQCw6WwS5ogNA0LrBFPmsA0B0OyglObcDQBi8jjV5wQNAvDz1RbnLA0BgvVtW+dUDQAQ+wmY54ANAqL4od3nqA0BMP4+HufQDQPC/9Zf5/gNAlEBcqDkJBEA4wcK4eRMEQNxBKcm5HQRAgMKP2fknBEAkQ/bpOTIEQMjDXPp5PARAbETDCrpGBEAQxSkb+lAEQLRFkCs6WwRAWMb2O3plBED8Rl1Mum8EQKDHw1z6eQRAREgqbTqEBEDoyJB9eo4EQIxJ9426mARAMMpdnvqiBEDUSsSuOq0EQHjLKr96twRAHEyRz7rBBEDAzPff+ssEQGRNXvA61gRACM7EAHvgBECsTisRu+oEQFDPkSH79ARA9E/4MTv/BECY0F5CewkFQDxRxVK7EwVA4NErY/sdBUCEUpJzOygFQCjT+IN7MgVAzFNflLs8BUBw1MWk+0YFQBRVLLU7UQVAuNWSxXtbBUBcVvnVu2UFQADXX+b7bwVApFfG9jt6BUBI2CwHfIQFQOxYkxe8jgVAkNn5J/yYBUA0WmA4PKMFQNjaxkh8rQVAfFstWby3BUAg3JNp/MEFQMRc+nk8zAVAaN1ginzWBUAMXseavOAFQLDeLav86gVAVF+Uuzz1BUD43/rLfP8FQJxgYdy8CQZAQOHH7PwTBkDkYS79PB4GQIjilA19KAZALGP7Hb0yBkDQ42Eu/TwGQHRkyD49RwZAGOUuT31RBkC8ZZVfvVsGQGDm+2/9ZQZABGdigD1wBkCo58iQfXoGQExoL6G9hAZA8OiVsf2OBkCUafzBPZkGQDjqYtJ9owZA3GrJ4r2tBkCA6y/z/bcGQCRslgM+wgZAyOz8E37MBkBsbWMkvtYGQBDuyTT+4AZAtG4wRT7rBkBY75ZVfvUGQPxv/WW+/wZAoPBjdv4JB0BEccqGPhQHQOjxMJd+HgdAjHKXp74oB0Aw8/23/jIHQNRzZMg+PQdAePTK2H5HB0AcdTHpvlEHQMD1l/n+WwdAZHb+CT9mB0AI92Qaf3AHQKx3yyq/egdAUPgxO/+EB0D0eJhLP48HQJj5/lt/mQdAPHplbL+jB0Dg+st8/60HQIR7Mo0/uAdAKPyYnX/CB0DMfP+tv8wHQHD9Zb7/1gdAFH7Mzj/hB0C4/jLff+sHQFx/me+/9QdAAAAAAAAACEA=",
                    "dtype": "f8"
                  },
                  "y": {
                    "bdata": "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",
                    "dtype": "f8"
                  }
                },
                {
                  "fill": "toself",
                  "fillcolor": "rgba(0,0,255,0.2)",
                  "line": {
                    "color": "rgba(255,255,255,0)"
                  },
                  "name": "1종 오류 (α = 0.05)",
                  "type": "scatter",
                  "x": {
                    "bdata": "umpnCVJR6j+npq1J9qrqP5Ti84maBOs/gR46yj5e6z9uWoAK47frP1uWxkqHEew/SNIMiytr7D82DlPLz8TsPyJKmQt0Hu0/EIbfSxh47T/9wSWMvNHtP+r9a8xgK+4/1zmyDAWF7j/EdfhMqd7uP7GxPo1NOO8/nu2EzfGR7z+LKcsNluvvP7yyCCedIvA/stArR29P8D+p7k5nQXzwP6AMcocTqfA/liqVp+XV8D+NSLjHtwLxP4Nm2+eJL/E/eoT+B1xc8T9woiEoLonxP2fAREgAtvE/Xd5naNLi8T9U/IqIpA/yP0oarqh2PPI/QTjRyEhp8j84VvToGpbyPy50FwntwvI/JJI6Kb/v8j8bsF1JkRzzPxLOgGljSfM/COyjiTV28z//CcepB6PzP/Un6snZz/M/7EUN6qv88z/iYzAKfin0P9mBUypQVvQ/z592SiKD9D/GvZlq9K/0P7zbvIrG3PQ/s/nfqpgJ9T+qFwPLajb1P6A1Jus8Y/U/llNJCw+Q9T+NcWwr4bz1P4SPj0uz6fU/eq2ya4UW9j9wy9WLV0P2P2fp+KspcPY/XgcczPuc9j9UJT/szcn2P0tDYgyg9vY/QmGFLHIj9z84f6hMRFD3Py6dy2wWffc/JbvujOip9z8c2RGtutb3PxL3NM2MA/g/CBVY7V4w+D//MnsNMV34P/ZQni0Divg/7G7BTdW2+D/ijORtp+P4P9mqB455EPk/0Mgqrks9+T/G5k3OHWr5P7wEce7vlvk/syKUDsLD+T+qQLculPD5P6Be2k5mHfo/l3z9bjhK+j+OmiCPCnf6P4S4Q6/co/o/etZmz67Q+j9x9InvgP36P2gSrQ9TKvs/XjDQLyVX+z9UTvNP94P7P0tsFnDJsPs/Qoo5kJvd+z84qFywbQr8Py7Gf9A/N/w/JeSi8BFk/D8cAsYQ5JD8PxIg6TC2vfw/CT4MUYjq/D8AXC9xWhf9P/Z5UpEsRP0/7Jd1sf5w/T/jtZjR0J39P9nTu/Giyv0/0PHeEXX3/T/HDwIyRyT+P70tJVIZUf4/tEtIcut9/j+qaWuSvar+P6GHjrKP1/4/l6Wx0mEE/z+Ow9TyMzH/P4Th9xIGXv8/e/8aM9iK/z9xHT5Tqrf/P2g7YXN85P8/ryzCSacIAECqu9NZEB8AQKZK5Wl5NQBAodn2eeJLAECcaAiKS2IAQJj3GZq0eABAk4Yrqh2PAECOFT26hqUAQIqkTsrvuwBAhDNg2ljSAECAwnHqwegAQHtRg/oq/wBAduCUCpQVAUByb6Ya/SsBQG3+typmQgFAaI3JOs9YAUBkHNtKOG8BQF6r7FqhhQFAWjr+agqcAUBVyQ97c7IBQFBYIYvcyAFATOcym0XfAUBHdkSrrvUBQEIFVrsXDAJAPpRny4AiAkA5I3nb6TgCQDSyiutSTwJAMEGc+7tlAkAq0K0LJXwCQCZfvxuOkgJAIe7QK/eoAkAcfeI7YL8CQBgM9EvJ1QJAE5sFXDLsAkAOKhdsmwIDQAq5KHwEGQNABEg6jG0vA0AA10uc1kUDQPxlXaw/XANA9vRuvKhyA0Dyg4DMEYkDQO0Sktx6nwNA6KGj7OO1A0DkMLX8TMwDQN+/xgy24gNA2k7YHB/5A0DW3eksiA8EQNBs+zzxJQRAzPsMTVo8BEDHih5dw1IEQMIZMG0saQRAvqhBfZV/BEC5N1ON/pUEQLTGZJ1nrARAsFV2rdDCBECr5Ie9OdkEQKZzmc2i7wRAogKr3QsGBUCckbztdBwFQJggzv3dMgVAk6/fDUdJBUCOPvEdsF8FQIrNAi4ZdgVAhVwUPoKMBUCA6yVO66IFQHx6N15UuQVAdglJbr3PBUBymFp+JuYFQG4nbI6P/AVAaLZ9nvgSBkBkRY+uYSkGQF/UoL7KPwZAWmOyzjNWBkBW8sPenGwGQFGB1e4FgwZATBDn/m6ZBkBIn/gO2K8GQEIuCh9BxgZAPr0bL6rcBkA6TC0/E/MGQDTbPk98CQdAMGpQX+UfB0Aq+WFvTjYHQCaIc3+3TAdAIheFjyBjB0AcppafiXkHQBg1qK/yjwdAFMS5v1umB0AOU8vPxLwHQAri3N8t0wdABnHu75bpB0AAAAAAAAAIQAAAAAAAAAhABnHu75bpB0AK4tzfLdMHQA5Ty8/EvAdAFMS5v1umB0AYNaiv8o8HQBymlp+JeQdAIheFjyBjB0AmiHN/t0wHQCr5YW9ONgdAMGpQX+UfB0A02z5PfAkHQDpMLT8T8wZAPr0bL6rcBkBCLgofQcYGQEif+A7YrwZATBDn/m6ZBkBRgdXuBYMGQFbyw96cbAZAWmOyzjNWBkBf1KC+yj8GQGRFj65hKQZAaLZ9nvgSBkBuJ2yOj/wFQHKYWn4m5gVAdglJbr3PBUB8ejdeVLkFQIDrJU7rogVAhVwUPoKMBUCKzQIuGXYFQI4+8R2wXwVAk6/fDUdJBUCYIM793TIFQJyRvO10HAVAogKr3QsGBUCmc5nNou8EQKvkh7052QRAsFV2rdDCBEC0xmSdZ6wEQLk3U43+lQRAvqhBfZV/BEDCGTBtLGkEQMeKHl3DUgRAzPsMTVo8BEDQbPs88SUEQNbd6SyIDwRA2k7YHB/5A0Dfv8YMtuIDQOQwtfxMzANA6KGj7OO1A0DtEpLcep8DQPKDgMwRiQNA9vRuvKhyA0D8ZV2sP1wDQADXS5zWRQNABEg6jG0vA0AKuSh8BBkDQA4qF2ybAgNAE5sFXDLsAkAYDPRLydUCQBx94jtgvwJAIe7QK/eoAkAmX78bjpICQCrQrQslfAJAMEGc+7tlAkA0sorrUk8CQDkjedvpOAJAPpRny4AiAkBCBVa7FwwCQEd2RKuu9QFATOcym0XfAUBQWCGL3MgBQFXJD3tzsgFAWjr+agqcAUBeq+xaoYUBQGQc20o4bwFAaI3JOs9YAUBt/rcqZkIBQHJvphr9KwFAduCUCpQVAUB7UYP6Kv8AQIDCcerB6ABAhDNg2ljSAECKpE7K77sAQI4VPbqGpQBAk4Yrqh2PAECY9xmatHgAQJxoCIpLYgBAodn2eeJLAECmSuVpeTUAQKq701kQHwBAryzCSacIAEBoO2FzfOT/P3EdPlOqt/8/e/8aM9iK/z+E4fcSBl7/P47D1PIzMf8/l6Wx0mEE/z+hh46yj9f+P6ppa5K9qv4/tEtIcut9/j+9LSVSGVH+P8cPAjJHJP4/0PHeEXX3/T/Z07vxosr9P+O1mNHQnf0/7Jd1sf5w/T/2eVKRLET9PwBcL3FaF/0/CT4MUYjq/D8SIOkwtr38PxwCxhDkkPw/JeSi8BFk/D8uxn/QPzf8PzioXLBtCvw/Qoo5kJvd+z9LbBZwybD7P1RO80/3g/s/XjDQLyVX+z9oEq0PUyr7P3H0ie+A/fo/etZmz67Q+j+EuEOv3KP6P46aII8Kd/o/l3z9bjhK+j+gXtpOZh36P6pAty6U8Pk/syKUDsLD+T+8BHHu75b5P8bmTc4davk/0Mgqrks9+T/ZqgeOeRD5P+KM5G2n4/g/7G7BTdW2+D/2UJ4tA4r4P/8yew0xXfg/CBVY7V4w+D8S9zTNjAP4PxzZEa261vc/JbvujOip9z8unctsFn33Pzh/qExEUPc/QmGFLHIj9z9LQ2IMoPb2P1QlP+zNyfY/XgcczPuc9j9n6firKXD2P3DL1YtXQ/Y/eq2ya4UW9j+Ej49Ls+n1P41xbCvhvPU/llNJCw+Q9T+gNSbrPGP1P6oXA8tqNvU/s/nfqpgJ9T+827yKxtz0P8a9mWr0r/Q/z592SiKD9D/ZgVMqUFb0P+JjMAp+KfQ/7EUN6qv88z/1J+rJ2c/zP/8Jx6kHo/M/COyjiTV28z8SzoBpY0nzPxuwXUmRHPM/JJI6Kb/v8j8udBcJ7cLyPzhW9OgalvI/QTjRyEhp8j9KGq6odjzyP1T8ioikD/I/Xd5naNLi8T9nwERIALbxP3CiISguifE/eoT+B1xc8T+DZtvniS/xP41IuMe3AvE/liqVp+XV8D+gDHKHE6nwP6nuTmdBfPA/stArR29P8D+8sggnnSLwP4spyw2W6+8/nu2EzfGR7z+xsT6NTTjvP8R1+Eyp3u4/1zmyDAWF7j/q/WvMYCvuP/3BJYy80e0/EIbfSxh47T8iSpkLdB7tPzYOU8vPxOw/SNIMiytr7D9blsZKhxHsP25agArjt+s/gR46yj5e6z+U4vOJmgTrP6emrUn2quo/umpnCVJR6j8=",
                    "dtype": "f8"
                  },
                  "y": {
                    "bdata": "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",
                    "dtype": "f8"
                  }
                },
                {
                  "fill": "toself",
                  "fillcolor": "rgba(255,0,0,0.2)",
                  "line": {
                    "color": "rgba(255,255,255,0)"
                  },
                  "name": "2종 오류 (β)",
                  "type": "scatter",
                  "x": {
                    "bdata": "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",
                    "dtype": "f8"
                  },
                  "y": {
                    "bdata": "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",
                    "dtype": "f8"
                  }
                }
              ],
              "layout": {
                "shapes": [
                  {
                    "line": {
                      "color": "green",
                      "dash": "dash",
                      "width": 2
                    },
                    "name": "임계값",
                    "type": "line",
                    "x0": 0.822426813475736,
                    "x1": 0.822426813475736,
                    "xref": "x",
                    "y0": 0,
                    "y1": 1,
                    "yref": "y domain"
                  }
                ],
                "template": {
                  "data": {
                    "bar": [
                      {
                        "error_x": {
                          "color": "#2a3f5f"
                        },
                        "error_y": {
                          "color": "#2a3f5f"
                        },
                        "marker": {
                          "line": {
                            "color": "#E5ECF6",
                            "width": 0.5
                          },
                          "pattern": {
                            "fillmode": "overlay",
                            "size": 10,
                            "solidity": 0.2
                          }
                        },
                        "type": "bar"
                      }
                    ],
                    "barpolar": [
                      {
                        "marker": {
                          "line": {
                            "color": "#E5ECF6",
                            "width": 0.5
                          },
                          "pattern": {
                            "fillmode": "overlay",
                            "size": 10,
                            "solidity": 0.2
                          }
                        },
                        "type": "barpolar"
                      }
                    ],
                    "carpet": [
                      {
                        "aaxis": {
                          "endlinecolor": "#2a3f5f",
                          "gridcolor": "white",
                          "linecolor": "white",
                          "minorgridcolor": "white",
                          "startlinecolor": "#2a3f5f"
                        },
                        "baxis": {
                          "endlinecolor": "#2a3f5f",
                          "gridcolor": "white",
                          "linecolor": "white",
                          "minorgridcolor": "white",
                          "startlinecolor": "#2a3f5f"
                        },
                        "type": "carpet"
                      }
                    ],
                    "choropleth": [
                      {
                        "colorbar": {
                          "outlinewidth": 0,
                          "ticks": ""
                        },
                        "type": "choropleth"
                      }
                    ],
                    "contour": [
                      {
                        "colorbar": {
                          "outlinewidth": 0,
                          "ticks": ""
                        },
                        "colorscale": [
                          [
                            0,
                            "#0d0887"
                          ],
                          [
                            0.1111111111111111,
                            "#46039f"
                          ],
                          [
                            0.2222222222222222,
                            "#7201a8"
                          ],
                          [
                            0.3333333333333333,
                            "#9c179e"
                          ],
                          [
                            0.4444444444444444,
                            "#bd3786"
                          ],
                          [
                            0.5555555555555556,
                            "#d8576b"
                          ],
                          [
                            0.6666666666666666,
                            "#ed7953"
                          ],
                          [
                            0.7777777777777778,
                            "#fb9f3a"
                          ],
                          [
                            0.8888888888888888,
                            "#fdca26"
                          ],
                          [
                            1,
                            "#f0f921"
                          ]
                        ],
                        "type": "contour"
                      }
                    ],
                    "contourcarpet": [
                      {
                        "colorbar": {
                          "outlinewidth": 0,
                          "ticks": ""
                        },
                        "type": "contourcarpet"
                      }
                    ],
                    "heatmap": [
                      {
                        "colorbar": {
                          "outlinewidth": 0,
                          "ticks": ""
                        },
                        "colorscale": [
                          [
                            0,
                            "#0d0887"
                          ],
                          [
                            0.1111111111111111,
                            "#46039f"
                          ],
                          [
                            0.2222222222222222,
                            "#7201a8"
                          ],
                          [
                            0.3333333333333333,
                            "#9c179e"
                          ],
                          [
                            0.4444444444444444,
                            "#bd3786"
                          ],
                          [
                            0.5555555555555556,
                            "#d8576b"
                          ],
                          [
                            0.6666666666666666,
                            "#ed7953"
                          ],
                          [
                            0.7777777777777778,
                            "#fb9f3a"
                          ],
                          [
                            0.8888888888888888,
                            "#fdca26"
                          ],
                          [
                            1,
                            "#f0f921"
                          ]
                        ],
                        "type": "heatmap"
                      }
                    ],
                    "histogram": [
                      {
                        "marker": {
                          "pattern": {
                            "fillmode": "overlay",
                            "size": 10,
                            "solidity": 0.2
                          }
                        },
                        "type": "histogram"
                      }
                    ],
                    "histogram2d": [
                      {
                        "colorbar": {
                          "outlinewidth": 0,
                          "ticks": ""
                        },
                        "colorscale": [
                          [
                            0,
                            "#0d0887"
                          ],
                          [
                            0.1111111111111111,
                            "#46039f"
                          ],
                          [
                            0.2222222222222222,
                            "#7201a8"
                          ],
                          [
                            0.3333333333333333,
                            "#9c179e"
                          ],
                          [
                            0.4444444444444444,
                            "#bd3786"
                          ],
                          [
                            0.5555555555555556,
                            "#d8576b"
                          ],
                          [
                            0.6666666666666666,
                            "#ed7953"
                          ],
                          [
                            0.7777777777777778,
                            "#fb9f3a"
                          ],
                          [
                            0.8888888888888888,
                            "#fdca26"
                          ],
                          [
                            1,
                            "#f0f921"
                          ]
                        ],
                        "type": "histogram2d"
                      }
                    ],
                    "histogram2dcontour": [
                      {
                        "colorbar": {
                          "outlinewidth": 0,
                          "ticks": ""
                        },
                        "colorscale": [
                          [
                            0,
                            "#0d0887"
                          ],
                          [
                            0.1111111111111111,
                            "#46039f"
                          ],
                          [
                            0.2222222222222222,
                            "#7201a8"
                          ],
                          [
                            0.3333333333333333,
                            "#9c179e"
                          ],
                          [
                            0.4444444444444444,
                            "#bd3786"
                          ],
                          [
                            0.5555555555555556,
                            "#d8576b"
                          ],
                          [
                            0.6666666666666666,
                            "#ed7953"
                          ],
                          [
                            0.7777777777777778,
                            "#fb9f3a"
                          ],
                          [
                            0.8888888888888888,
                            "#fdca26"
                          ],
                          [
                            1,
                            "#f0f921"
                          ]
                        ],
                        "type": "histogram2dcontour"
                      }
                    ],
                    "mesh3d": [
                      {
                        "colorbar": {
                          "outlinewidth": 0,
                          "ticks": ""
                        },
                        "type": "mesh3d"
                      }
                    ],
                    "parcoords": [
                      {
                        "line": {
                          "colorbar": {
                            "outlinewidth": 0,
                            "ticks": ""
                          }
                        },
                        "type": "parcoords"
                      }
                    ],
                    "pie": [
                      {
                        "automargin": true,
                        "type": "pie"
                      }
                    ],
                    "scatter": [
                      {
                        "fillpattern": {
                          "fillmode": "overlay",
                          "size": 10,
                          "solidity": 0.2
                        },
                        "type": "scatter"
                      }
                    ],
                    "scatter3d": [
                      {
                        "line": {
                          "colorbar": {
                            "outlinewidth": 0,
                            "ticks": ""
                          }
                        },
                        "marker": {
                          "colorbar": {
                            "outlinewidth": 0,
                            "ticks": ""
                          }
                        },
                        "type": "scatter3d"
                      }
                    ],
                    "scattercarpet": [
                      {
                        "marker": {
                          "colorbar": {
                            "outlinewidth": 0,
                            "ticks": ""
                          }
                        },
                        "type": "scattercarpet"
                      }
                    ],
                    "scattergeo": [
                      {
                        "marker": {
                          "colorbar": {
                            "outlinewidth": 0,
                            "ticks": ""
                          }
                        },
                        "type": "scattergeo"
                      }
                    ],
                    "scattergl": [
                      {
                        "marker": {
                          "colorbar": {
                            "outlinewidth": 0,
                            "ticks": ""
                          }
                        },
                        "type": "scattergl"
                      }
                    ],
                    "scattermap": [
                      {
                        "marker": {
                          "colorbar": {
                            "outlinewidth": 0,
                            "ticks": ""
                          }
                        },
                        "type": "scattermap"
                      }
                    ],
                    "scattermapbox": [
                      {
                        "marker": {
                          "colorbar": {
                            "outlinewidth": 0,
                            "ticks": ""
                          }
                        },
                        "type": "scattermapbox"
                      }
                    ],
                    "scatterpolar": [
                      {
                        "marker": {
                          "colorbar": {
                            "outlinewidth": 0,
                            "ticks": ""
                          }
                        },
                        "type": "scatterpolar"
                      }
                    ],
                    "scatterpolargl": [
                      {
                        "marker": {
                          "colorbar": {
                            "outlinewidth": 0,
                            "ticks": ""
                          }
                        },
                        "type": "scatterpolargl"
                      }
                    ],
                    "scatterternary": [
                      {
                        "marker": {
                          "colorbar": {
                            "outlinewidth": 0,
                            "ticks": ""
                          }
                        },
                        "type": "scatterternary"
                      }
                    ],
                    "surface": [
                      {
                        "colorbar": {
                          "outlinewidth": 0,
                          "ticks": ""
                        },
                        "colorscale": [
                          [
                            0,
                            "#0d0887"
                          ],
                          [
                            0.1111111111111111,
                            "#46039f"
                          ],
                          [
                            0.2222222222222222,
                            "#7201a8"
                          ],
                          [
                            0.3333333333333333,
                            "#9c179e"
                          ],
                          [
                            0.4444444444444444,
                            "#bd3786"
                          ],
                          [
                            0.5555555555555556,
                            "#d8576b"
                          ],
                          [
                            0.6666666666666666,
                            "#ed7953"
                          ],
                          [
                            0.7777777777777778,
                            "#fb9f3a"
                          ],
                          [
                            0.8888888888888888,
                            "#fdca26"
                          ],
                          [
                            1,
                            "#f0f921"
                          ]
                        ],
                        "type": "surface"
                      }
                    ],
                    "table": [
                      {
                        "cells": {
                          "fill": {
                            "color": "#EBF0F8"
                          },
                          "line": {
                            "color": "white"
                          }
                        },
                        "header": {
                          "fill": {
                            "color": "#C8D4E3"
                          },
                          "line": {
                            "color": "white"
                          }
                        },
                        "type": "table"
                      }
                    ]
                  },
                  "layout": {
                    "annotationdefaults": {
                      "arrowcolor": "#2a3f5f",
                      "arrowhead": 0,
                      "arrowwidth": 1
                    },
                    "autotypenumbers": "strict",
                    "coloraxis": {
                      "colorbar": {
                        "outlinewidth": 0,
                        "ticks": ""
                      }
                    },
                    "colorscale": {
                      "diverging": [
                        [
                          0,
                          "#8e0152"
                        ],
                        [
                          0.1,
                          "#c51b7d"
                        ],
                        [
                          0.2,
                          "#de77ae"
                        ],
                        [
                          0.3,
                          "#f1b6da"
                        ],
                        [
                          0.4,
                          "#fde0ef"
                        ],
                        [
                          0.5,
                          "#f7f7f7"
                        ],
                        [
                          0.6,
                          "#e6f5d0"
                        ],
                        [
                          0.7,
                          "#b8e186"
                        ],
                        [
                          0.8,
                          "#7fbc41"
                        ],
                        [
                          0.9,
                          "#4d9221"
                        ],
                        [
                          1,
                          "#276419"
                        ]
                      ],
                      "sequential": [
                        [
                          0,
                          "#0d0887"
                        ],
                        [
                          0.1111111111111111,
                          "#46039f"
                        ],
                        [
                          0.2222222222222222,
                          "#7201a8"
                        ],
                        [
                          0.3333333333333333,
                          "#9c179e"
                        ],
                        [
                          0.4444444444444444,
                          "#bd3786"
                        ],
                        [
                          0.5555555555555556,
                          "#d8576b"
                        ],
                        [
                          0.6666666666666666,
                          "#ed7953"
                        ],
                        [
                          0.7777777777777778,
                          "#fb9f3a"
                        ],
                        [
                          0.8888888888888888,
                          "#fdca26"
                        ],
                        [
                          1,
                          "#f0f921"
                        ]
                      ],
                      "sequentialminus": [
                        [
                          0,
                          "#0d0887"
                        ],
                        [
                          0.1111111111111111,
                          "#46039f"
                        ],
                        [
                          0.2222222222222222,
                          "#7201a8"
                        ],
                        [
                          0.3333333333333333,
                          "#9c179e"
                        ],
                        [
                          0.4444444444444444,
                          "#bd3786"
                        ],
                        [
                          0.5555555555555556,
                          "#d8576b"
                        ],
                        [
                          0.6666666666666666,
                          "#ed7953"
                        ],
                        [
                          0.7777777777777778,
                          "#fb9f3a"
                        ],
                        [
                          0.8888888888888888,
                          "#fdca26"
                        ],
                        [
                          1,
                          "#f0f921"
                        ]
                      ]
                    },
                    "colorway": [
                      "#636efa",
                      "#EF553B",
                      "#00cc96",
                      "#ab63fa",
                      "#FFA15A",
                      "#19d3f3",
                      "#FF6692",
                      "#B6E880",
                      "#FF97FF",
                      "#FECB52"
                    ],
                    "font": {
                      "color": "#2a3f5f"
                    },
                    "geo": {
                      "bgcolor": "white",
                      "lakecolor": "white",
                      "landcolor": "#E5ECF6",
                      "showlakes": true,
                      "showland": true,
                      "subunitcolor": "white"
                    },
                    "hoverlabel": {
                      "align": "left"
                    },
                    "hovermode": "closest",
                    "mapbox": {
                      "style": "light"
                    },
                    "paper_bgcolor": "white",
                    "plot_bgcolor": "#E5ECF6",
                    "polar": {
                      "angularaxis": {
                        "gridcolor": "white",
                        "linecolor": "white",
                        "ticks": ""
                      },
                      "bgcolor": "#E5ECF6",
                      "radialaxis": {
                        "gridcolor": "white",
                        "linecolor": "white",
                        "ticks": ""
                      }
                    },
                    "scene": {
                      "xaxis": {
                        "backgroundcolor": "#E5ECF6",
                        "gridcolor": "white",
                        "gridwidth": 2,
                        "linecolor": "white",
                        "showbackground": true,
                        "ticks": "",
                        "zerolinecolor": "white"
                      },
                      "yaxis": {
                        "backgroundcolor": "#E5ECF6",
                        "gridcolor": "white",
                        "gridwidth": 2,
                        "linecolor": "white",
                        "showbackground": true,
                        "ticks": "",
                        "zerolinecolor": "white"
                      },
                      "zaxis": {
                        "backgroundcolor": "#E5ECF6",
                        "gridcolor": "white",
                        "gridwidth": 2,
                        "linecolor": "white",
                        "showbackground": true,
                        "ticks": "",
                        "zerolinecolor": "white"
                      }
                    },
                    "shapedefaults": {
                      "line": {
                        "color": "#2a3f5f"
                      }
                    },
                    "ternary": {
                      "aaxis": {
                        "gridcolor": "white",
                        "linecolor": "white",
                        "ticks": ""
                      },
                      "baxis": {
                        "gridcolor": "white",
                        "linecolor": "white",
                        "ticks": ""
                      },
                      "bgcolor": "#E5ECF6",
                      "caxis": {
                        "gridcolor": "white",
                        "linecolor": "white",
                        "ticks": ""
                      }
                    },
                    "title": {
                      "x": 0.05
                    },
                    "xaxis": {
                      "automargin": true,
                      "gridcolor": "white",
                      "linecolor": "white",
                      "ticks": "",
                      "title": {
                        "standoff": 15
                      },
                      "zerolinecolor": "white",
                      "zerolinewidth": 2
                    },
                    "yaxis": {
                      "automargin": true,
                      "gridcolor": "white",
                      "linecolor": "white",
                      "ticks": "",
                      "title": {
                        "standoff": 15
                      },
                      "zerolinecolor": "white",
                      "zerolinewidth": 2
                    }
                  }
                },
                "title": {
                  "text": "1종 및 2종 오류 시각화 (표준편차 작음)<br>α=0.05, β=0.36, Power=0.64"
                },
                "xaxis": {
                  "title": {
                    "text": "테스트 통계량"
                  }
                },
                "yaxis": {
                  "title": {
                    "text": "확률 밀도"
                  }
                }
              }
            }
          },
          "metadata": {},
          "output_type": "display_data"
        }
      ],
      "source": [
        "# 예시 3: 표준편차가 작을 때 (분포가 뾰족해짐)\n",
        "fig3 = plot_error_types(mu_alt=1, sigma=0.5, title_suffix=\"(표준편차 작음)\")\n",
        "fig3.show()"
      ]
    },
    {
      "cell_type": "markdown",
      "metadata": {
        "id": "PjJTd56p_zvm"
      },
      "source": [
        "**5. Gradio를 이용한 필요 샘플 사이즈 계산기 (개념)**\n",
        "\n",
        "다음 코드는 사용자가 입력한 값에 따라 A/B 테스트에 필요한 샘플 사이즈를 계산해주는 간단한 웹 인터페이스를 Gradio를 사용하여 만드는 예시입니다. 실제 사용을 위해서는 Gradio 라이브러리 설치(`pip install gradio`) 및 실행 환경이 필요합니다."
      ]
    },
    {
      "cell_type": "code",
      "execution_count": null,
      "metadata": {},
      "outputs": [],
      "source": [
        "!pip install gradio"
      ]
    },
    {
      "cell_type": "code",
      "execution_count": null,
      "metadata": {},
      "outputs": [],
      "source": [
        "import math\n",
        "def calculate_sample_size(variable_type, control_mean_or_rate=None, experiment_mean_or_rate=None, std=None,\n",
        "                           power=0.8, alpha=0.05):\n",
        "    if variable_type == \"이산형\":\n",
        "        # 효과 크기 계산\n",
        "        effect_size = proportion_effectsize(control_mean_or_rate, experiment_mean_or_rate)\n",
        "        # 샘플 사이즈 계산\n",
        "        sample_size_per_group = NormalIndPower().solve_power(\n",
        "            effect_size=effect_size,\n",
        "            alpha=alpha,\n",
        "            power=power,\n",
        "            ratio=1.0,\n",
        "            alternative='two-sided'\n",
        "        )\n",
        "    elif variable_type == \"연속형\":\n",
        "        # 효과 크기 계산\n",
        "        effect_size = (experiment_mean_or_rate - control_mean_or_rate) / std\n",
        "        # 샘플 사이즈 계산\n",
        "        sample_size_per_group = TTestIndPower().solve_power(\n",
        "            effect_size=effect_size,\n",
        "            alpha=alpha,\n",
        "            power=power,\n",
        "            ratio=1.0,\n",
        "            alternative='two-sided'\n",
        "        )\n",
        "    \n",
        "    # 실험군별 사이즈와 전체 사이즈 반환\n",
        "    return {\n",
        "        \"실험군별 샘플 사이즈\": math.ceil(sample_size_per_group),\n",
        "        \"총 샘플 사이즈\": math.ceil(sample_size_per_group * 2)  # 두 그룹의 총 사이즈\n",
        "    }\n",
        "\n",
        "\n",
        "inputs = [\n",
        "    gr.Radio(choices=[\"이산형\", \"연속형\"], label=\"목표지표 타입\", value=\"이산형\"),\n",
        "    gr.Number(label=\"대조군 비율 또는 평균\"),\n",
        "    gr.Number(label=\"실험군 비율 또는 평균\"),\n",
        "    gr.Number(label=\"표준편차\"),\n",
        "    gr.Number(label=\"검정력\", value=0.8),\n",
        "    gr.Number(label=\"유의수준\", value=0.05)\n",
        "]\n",
        "\n",
        "iface = gr.Interface(\n",
        "    fn=calculate_sample_size,\n",
        "    inputs=inputs,\n",
        "    outputs=\"json\",\n",
        "    \n",
        "    title=\"A/B 테스트를 위한 필요 샘플 사이즈 계산기\",\n",
        "    description=\"변수 유형을 선택하고 필요한 지표를 입력하여 샘플 크기를 계산합니다.\"\n",
        ")\n",
        "\n",
        "# 서버 실행\n",
        "iface.launch(server_name=\"0.0.0.0\", server_port=8050, height=900)\n"
      ]
    },
    {
      "cell_type": "markdown",
      "metadata": {
        "id": "4yvxuun4_zvm"
      },
      "source": [
        "*Gradio 앱은 로컬 환경에서 Python 스크립트를 실행해야 정상적으로 작동합니다. 주피터 환경에서는 `share=True` 옵션을 사용해야 외부 접속이 가능하지만, 여기서는 개념 설명을 위한 코드로 제공합니다.*"
      ]
    },
    {
      "cell_type": "markdown",
      "metadata": {},
      "source": [
        "\n",
        "### ✏️ 연습 문제 (Practice Problems)\n",
        "\n",
        "1.  만약 어떤 A/B 테스트에서 실험군(B)의 전환율이 대조군(A)보다 1%p 높게 나왔고, 이때 p-value가 0.03으로 계산되었다면, 이 결과를 어떻게 해석해야 할까요? (유의수준 $\\alpha=0.05$ 가정)\n"
      ]
    },
    {
      "cell_type": "markdown",
      "metadata": {},
      "source": [
        "* 결과 해석\n",
        "  \n",
        "    > p-value 0.03은 유의수준보다 작게 나타나므로, 귀무가설을 기각할수 있습니다. 즉, 실험군에 적용된 효과가 전환율에 변화를 준다고 말할수 있습니다.\n",
        "    >\n",
        "    > 대조군A보다 실험군B가 통계적으로 유의미하게 변화를 주었고, 1%p 높게 나타난결과는 통계적으로 바로 뒷받침할수는 없지만, 단측 검정을 통해서 추가테스트를 해볼수 있습니다.\n"
      ]
    },
    {
      "cell_type": "markdown",
      "metadata": {},
      "source": [
        "2.  위의 \"이산형 변수 샘플 사이즈 계산\" 예제 코드에서, 만약 우리가 더 작은 차이(예: `experiment_rate = 0.022`, 즉 0.2%p 개선)를 감지하고 싶다면 필요한 샘플 사이즈는 어떻게 변할지 예상해보고, 코드를 수정하여 실제 계산해보세요.\n"
      ]
    },
    {
      "cell_type": "code",
      "execution_count": 62,
      "metadata": {},
      "outputs": [
        {
          "name": "stdout",
          "output_type": "stream",
          "text": [
            "Q2. 효과 크기: -0.0140\n",
            "Q2. 각 그룹 필요 샘플: 80638\n"
          ]
        }
      ],
      "source": [
        "# 연습 문제 2번 풀이 공간\n",
        "import statsmodels.stats.power as smp\n",
        "from statsmodels.stats.proportion import proportion_effectsize\n",
        "import numpy as np\n",
        "\n",
        "control_rate_q2 = 0.02\n",
        "experiment_rate_q2 = 0.022 \n",
        "\n",
        "effect_size_h_q2 = proportion_effectsize(control_rate_q2, experiment_rate_q2)\n",
        "\n",
        "sample_size_prop_q2 = smp.NormalIndPower().solve_power(\n",
        "    effect_size=effect_size_h_q2,\n",
        "    alpha=0.05,\n",
        "    power=0.8,\n",
        "    ratio=1,\n",
        "    alternative='two-sided'\n",
        ")\n",
        "\n",
        "print(f\"Q2. 효과 크기: {effect_size_h_q2:.4f}\")\n",
        "print(f\"Q2. 각 그룹 필요 샘플: {np.ceil(sample_size_prop_q2):.0f}\") # 예상: 더 많은 샘플 필요\n"
      ]
    },
    {
      "cell_type": "markdown",
      "metadata": {},
      "source": [
        "3.  \"연속형 변수 샘플 사이즈 계산\" 예제에서, `alternative`를 `'larger'`로 변경하여 단측 검정을 수행할 경우 필요한 샘플 사이즈는 양측 검정과 비교하여 어떻게 달라지는지 확인하고 그 이유를 설명해보세요.\n"
      ]
    },
    {
      "cell_type": "code",
      "execution_count": 64,
      "metadata": {},
      "outputs": [
        {
          "name": "stdout",
          "output_type": "stream",
          "text": [
            "Q3. 양측 검정 샘플: 64\n",
            "Q3. 단측 검정 샘플: 51\n"
          ]
        }
      ],
      "source": [
        "# 연습 문제 3번 풀이 공간\n",
        "control_mean_q3 = 50\n",
        "experiment_mean_q3 = 55\n",
        "std_dev_q3 = 10\n",
        "effect_size_d_q3 = (experiment_mean_q3 - control_mean_q3) / std_dev_q3\n",
        "alpha_q3 = 0.05\n",
        "power_q3 = 0.8\n",
        "\n",
        "# 양측 검정 \n",
        "sample_size_two_sided_q3 = smp.TTestIndPower().solve_power(\n",
        "    effect_size=effect_size_d_q3, alpha=alpha_q3, power=power_q3, ratio=1, alternative='two-sided'\n",
        ")\n",
        "# 단측 검정 (larger)\n",
        "sample_size_one_sided_q3 = smp.TTestIndPower().solve_power(\n",
        "    effect_size=effect_size_d_q3, alpha=alpha_q3, power=power_q3, ratio=1, alternative='larger'\n",
        ")\n",
        "\n",
        "print(f\"Q3. 양측 검정 샘플: {np.ceil(sample_size_two_sided_q3):.0f}\")\n",
        "print(f\"Q3. 단측 검정 샘플: {np.ceil(sample_size_one_sided_q3):.0f}\")\n"
      ]
    },
    {
      "cell_type": "markdown",
      "metadata": {},
      "source": [
        "> 단측 검정은 특정 방향의 차이만 고려하므로, 동일한 검정력과 유의수준에서 양측 검정보다 적은 샘플 사이즈를 요구합니다.\n",
        "> \n",
        "> 단측 검정은 귀무가설의 기각 영역을 한쪽 꼬리에만 설정하기 때문에, 양측 검정과 달리 양쪽 꼬리에 alpha/2씩 분배할 필요가 없습니다. \n",
        "> \n",
        "> 이는 동일한 alpha 값에서 더 큰 기각 영역을 가질 수 있게 되어, 더 작은 효과 크기도 감지할 수 있음을 의미합니다.\n",
        "> \n",
        "> 결과적으로 동일한 검정력(power)을 달성하기 위해 필요한 샘플 사이즈가 양측 검정보다 작아집니다."
      ]
    },
    {
      "cell_type": "markdown",
      "metadata": {},
      "source": [
        "4.  1종 오류와 2종 오류 시각화 예제에서, 유의수준(`alpha_level`)을 0.1로 높이면 1종 오류 영역과 2종 오류 영역, 그리고 검정력은 어떻게 변할지 예상해보고, 코드를 수정하여 `plot_error_types(alpha_level=0.1)`를 실행하여 확인해보세요."
      ]
    },
    {
      "cell_type": "code",
      "execution_count": 66,
      "metadata": {},
      "outputs": [
        {
          "data": {
            "application/vnd.plotly.v1+json": {
              "config": {
                "plotlyServerURL": "https://plot.ly"
              },
              "data": [
                {
                  "line": {
                    "color": "blue"
                  },
                  "mode": "lines",
                  "name": "H0 분포 (귀무 가설)",
                  "type": "scatter",
                  "x": {
                    "bdata": "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",
                    "dtype": "f8"
                  },
                  "y": {
                    "bdata": "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",
                    "dtype": "f8"
                  }
                },
                {
                  "line": {
                    "color": "red"
                  },
                  "mode": "lines",
                  "name": "H1 분포 (대립 가설)",
                  "type": "scatter",
                  "x": {
                    "bdata": "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",
                    "dtype": "f8"
                  },
                  "y": {
                    "bdata": "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",
                    "dtype": "f8"
                  }
                },
                {
                  "fill": "toself",
                  "fillcolor": "rgba(0,0,255,0.2)",
                  "line": {
                    "color": "rgba(255,255,255,0)"
                  },
                  "name": "1종 오류 (α = 0.01)",
                  "type": "scatter",
                  "x": {
                    "bdata": "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",
                    "dtype": "f8"
                  },
                  "y": {
                    "bdata": "0l2H/LJKmz/RfqW1F3OaP4/wWIX0oJk/GC5qFjHUmD+AZsQZtQyYP4eRsEpoSpc/cEPscjKNlj9NRpxu+9SVP2oJGzCrIZU/zQKjwylzlD+KKdVSX8mTP0K5Gyg0JJM/unnpsZCDkj8kztWFXeeRPx3ZlWODT5E/GwvTN+u7kD97eN8efiyQP0+6kM5KQo8//3SOKJUzjj9fBiTAriyNP8afFXxrLYw/qDmfuZ81iz9XLlVQIEWKP2oLx5XCW4k/ubvlYFx5iD84NS4NxJ2HP8PdmX3QyIY/pOJVH1n6hT8XxULsNTKFPxplPW0/cIQ/dNgyvE60gz9IYgCGPf6CP6/iIAzmTYI/PhopJiOjgT+NIBRD0P2AP3BuYWrJXYA/Or8LetaFfz/wH2LsJVp+PyX00Nc8OH0/6nfzHtgffD/Mz4rbtRB7P9WKx16VCno/CctJMTcNeT+c2NoSXRh4Pxrd4vnJK3c/IoGdEkJHdj8CIBC+imp1Pxo+xJBqlXQ/KOhIUanHcz9fmH32DwFzP5k2qaVoQXI/T79fsH6IcT+FEjmSHtZwP+hiW+4VKnA/QWG3GWcIbz+pY+2vjshtPwr8SLJElGw/0YoSbC1raz+9o4pa70xqP/wBTSYzOWk/dbV6nKMvaD8wta+n7S9nPyPnx0jAOWY/rpN3j8xMZT+1HbuSxWhkP9a9IWlgjWM/reL2IFS6Yj8iu024We9hP+9U8hQsLGE/UJtD/IdwYD9OzvIVWHhfP5Jos1mxHV4/Pui/KKDQXD8Ls7JkrJBbP1K78VphXVo/GETLs002WT9jcYxhAxtYPwl/lo8XC1c/IER3kSIGVj8acgnSvwtVP9PLoMKNG1Q/wVxGyi01Uz+ehAg1RFhSPyt8YiN4hFE/IMS+eXO5UD8mgi+gxe1PP7Avc8PqeE4/slxQ+rkTTT9VFFjom71LPyswERj+dUo/DXy821I8ST9A3nQuERBIP9Gfr5W08EY/hqUgA73dRT+aGQa3rtZEPwC+3iIS20M/3daNzHPqQj/qVO8xZARCP2Sn3qx3KEE/kliyV0ZWQD9Gtlzk1xo/P6lj3Y0Pmz0/Xb6XInksPD+YqnTHYM46P27LSx0ZgDk/xf6TD/tAOD/arQ6kZRA3PzLLbsu97TU/iv/7Mm7YND+xLjIX588zPx0tXRee0zI/vDEwCg7jMT86RFjTtv0wP16kCDodIzA/rcf/gJWlLj89XAj5mhgtP1QAquFvnis/nbMgz0E2Kj9CgBKbRt8oP59vGh28mCc/42Is5edhJj8ocsz3FjolP+AkFIydICQ/X5J/y9YUIz+tNnyTJBYiP4wLszjvIyE/10EHTKU9ID+nh4XCdsUePwz90q5XJR0/TJJYRe2ZGz9ePOgvQiIaP/l5/HNrvRg/rF8DEIhqFz+TOa2bwCgWP4ZuL+tG9xQ/ES9stVXVEz83a+88MMISPzZ3sfshvRE/1cCPUX7FED/V7NdqQLUPPygBxNHT9w0/KHsKXYlRDD8K7yoFQcEKP6pFOKznRQk/vBfFmHbeBz8NZWP18okGP3BsmVRtRwU/DqstOQEWBD/iV6yi1PQCP+cGCZ4X4wE/FXU/2gPgAD/1wq2BuNX/PsZxVyTZBf4+7YXHChJP/D6+2eLXG7D6PmZ7FrG+J/k+jOb5ktG09z7QfHCsOVb2Pt4YF8DpCvU+uZPLi+HR8z61CB02LaryPgamdMHkkvE+BdfHhCuL8D4aK0tTXyTvPkFu415TTu0+0hZE57eS6z7GVKR9JPDpPj+nB61CZeg+vorFJs3w5j5U8cf3jpHlPr5fMsZiRuQ+YpMlFzIO4z7tklWc9OfhPuEGKomv0uA+T2VF3uma3z47qHdCxq7dPiRDIDxI39s+dwLwANoq2j7T7c7s+o/YPkg/nHs+Ddc+pcN8Tkuh1T5oj0U82krUPutzlGy1CNM+yhgrfbfZ0T5gBiWxyrzQPoJ+SFPQYc8+OZ4mTy5qzT7+zD2s2JDLPlJ7GDsS1Mk+NhEp/DUyyD4UiuHktanGPnwviLMZOcU+eJIr0f3ewz4CdR1BEprCPkbCYZ0ZacE+o/+DH+hKwD5gi5VqxXy+Ptami0H8hLw+2FxwRnysuj5A/chkafG4PgAAAAAAAAAAAAAAAAAAAAAAAAAAAAAAAAAAAAAAAAAAAAAAAAAAAAAAAAAAAAAAAAAAAAAAAAAAAAAAAAAAAAAAAAAAAAAAAAAAAAAAAAAAAAAAAAAAAAAAAAAAAAAAAAAAAAAAAAAAAAAAAAAAAAAAAAAAAAAAAAAAAAAAAAAAAAAAAAAAAAAAAAAAAAAAAAAAAAAAAAAAAAAAAAAAAAAAAAAAAAAAAAAAAAAAAAAAAAAAAAAAAAAAAAAAAAAAAAAAAAAAAAAAAAAAAAAAAAAAAAAAAAAAAAAAAAAAAAAAAAAAAAAAAAAAAAAAAAAAAAAAAAAAAAAAAAAAAAAAAAAAAAAAAAAAAAAAAAAAAAAAAAAAAAAAAAAAAAAAAAAAAAAAAAAAAAAAAAAAAAAAAAAAAAAAAAAAAAAAAAAAAAAAAAAAAAAAAAAAAAAAAAAAAAAAAAAAAAAAAAAAAAAAAAAAAAAAAAAAAAAAAAAAAAAAAAAAAAAAAAAAAAAAAAAAAAAAAAAAAAAAAAAAAAAAAAAAAAAAAAAAAAAAAAAAAAAAAAAAAAAAAAAAAAAAAAAAAAAAAAAAAAAAAAAAAAAAAAAAAAAAAAAAAAAAAAAAAAAAAAAAAAAAAAAAAAAAAAAAAAAAAAAAAAAAAAAAAAAAAAAAAAAAAAAAAAAAAAAAAAAAAAAAAAAAAAAAAAAAAAAAAAAAAAAAAAAAAAAAAAAAAAAAAAAAAAAAAAAAAAAAAAAAAAAAAAAAAAAAAAAAAAAAAAAAAAAAAAAAAAAAAAAAAAAAAAAAAAAAAAAAAAAAAAAAAAAAAAAAAAAAAAAAAAAAAAAAAAAAAAAAAAAAAAAAAAAAAAAAAAAAAAAAAAAAAAAAAAAAAAAAAAAAAAAAAAAAAAAAAAAAAAAAAAAAAAAAAAAAAAAAAAAAAAAAAAAAAAAAAAAAAAAAAAAAAAAAAAAAAAAAAAAAAAAAAAAAAAAAAAAAAAAAAAAAAAAAAAAAAAAAAAAAAAAAAAAAAAAAAAAAAAAAAAAAAAAAAAAAAAAAAAAAAAAAAAAAAAAAAAAAAAAAAAAAAAAAAAAAAAAAAAAAAAAAAAAAAAAAAAAAAAAAAAAAAAAAAAAAAAAAAAAAAAAAAAAAAAAAAAAAAAAAAAAAAAAAAAAAAAAAAAAAAAAAAAAAAAAAAAAAAAAAAAAAAAAAAAAAAAAAAAAAAAAAAAAAAAAAAAAAAAAAAAAAAAAAAAAAAAAAAAAAAAAAAAAAAAAAAAAAAAAAAAAAAAAAAAAAAAAAAAAAAAAAAAAAAAAAAAAAAAAAAAAAAAAAAAAAAAAAAAAAAAAAAAAAAAAAAAAAAAAAAAAAAAAAAAAAAAAAAAAAAAAAAAAAAAAAAAAAAAAAAAAAAAAAAAAAAAAAAAAAAAAAAAAAAAAAAAAAAAAAAAAAAAAAAAAAAAAAAAAAAAAAAAAAAAAAAAAAAAAAAAAAAAAAAAAAAAAAAAAAAAAAAAAAAAAAAAAAAAAAAAAAAAAAAAAAAAAAAAAAAAAAAAAAAAAAAAAAAAAAAAAAAAAAAAAAAAAAAAAAAAAAAAAAAAAAAAAAAAAAAAAAAAAAAAAAAAAAAAAAAAAAAAAAAAAAAAAAAAAAAAAAAAAAAAAAAAAAAAAAAAAAAAAAAAAAAAAAAAAAAAAAAAAAAAAAAAAAAAAAAAAAAAAAAAAAAAAAAAAAAAAAAAAAAAAAAAAAAAAAAAAAAAAAAAAAAAAAAAAAAAAAAAAAAAAAAAAAAAAAAAAAAAAAAAAAAAAAAAAAAAAAAAAAAAAAAAAAAAAAAAAAAAAAAAAAAAAAAAAAAAAAAAAAAAAAAAAAAAAAAAAAAAAAAAAAAAAAAAAAAAAAAAAAAAAAAAAAAAAAAAAAAAAAAAAAAAAAAAAAAAAAAAAAAAAAAAAAAAAAAAAAAAAAAAAAAAAAAAAAAAAAAAAAAAAAAAAAAAAAAAAAAAAAAAAAAAAAAAAAAAAAAAAAAAAAAAAAAAAAAAAAAAAAAAAAAAAAAAAAAAAAAAAAAAAAAAAAAAAAAAAAAAAAAAAAAAAAAAAAAAAAAAAAAAAAAAAAAAAAAAAAAAAAAAAAAAAAAAAAAAAAAAAAAAAAAAAAAAAAAAAAAAA=",
                    "dtype": "f8"
                  }
                },
                {
                  "fill": "toself",
                  "fillcolor": "rgba(255,0,0,0.2)",
                  "line": {
                    "color": "rgba(255,255,255,0)"
                  },
                  "name": "2종 오류 (β)",
                  "type": "scatter",
                  "x": {
                    "bdata": "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",
                    "dtype": "f8"
                  },
                  "y": {
                    "bdata": "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",
                    "dtype": "f8"
                  }
                }
              ],
              "layout": {
                "shapes": [
                  {
                    "line": {
                      "color": "green",
                      "dash": "dash",
                      "width": 2
                    },
                    "name": "임계값",
                    "type": "line",
                    "x0": 2.3263478740408408,
                    "x1": 2.3263478740408408,
                    "xref": "x",
                    "y0": 0,
                    "y1": 1,
                    "yref": "y domain"
                  }
                ],
                "template": {
                  "data": {
                    "bar": [
                      {
                        "error_x": {
                          "color": "#2a3f5f"
                        },
                        "error_y": {
                          "color": "#2a3f5f"
                        },
                        "marker": {
                          "line": {
                            "color": "#E5ECF6",
                            "width": 0.5
                          },
                          "pattern": {
                            "fillmode": "overlay",
                            "size": 10,
                            "solidity": 0.2
                          }
                        },
                        "type": "bar"
                      }
                    ],
                    "barpolar": [
                      {
                        "marker": {
                          "line": {
                            "color": "#E5ECF6",
                            "width": 0.5
                          },
                          "pattern": {
                            "fillmode": "overlay",
                            "size": 10,
                            "solidity": 0.2
                          }
                        },
                        "type": "barpolar"
                      }
                    ],
                    "carpet": [
                      {
                        "aaxis": {
                          "endlinecolor": "#2a3f5f",
                          "gridcolor": "white",
                          "linecolor": "white",
                          "minorgridcolor": "white",
                          "startlinecolor": "#2a3f5f"
                        },
                        "baxis": {
                          "endlinecolor": "#2a3f5f",
                          "gridcolor": "white",
                          "linecolor": "white",
                          "minorgridcolor": "white",
                          "startlinecolor": "#2a3f5f"
                        },
                        "type": "carpet"
                      }
                    ],
                    "choropleth": [
                      {
                        "colorbar": {
                          "outlinewidth": 0,
                          "ticks": ""
                        },
                        "type": "choropleth"
                      }
                    ],
                    "contour": [
                      {
                        "colorbar": {
                          "outlinewidth": 0,
                          "ticks": ""
                        },
                        "colorscale": [
                          [
                            0,
                            "#0d0887"
                          ],
                          [
                            0.1111111111111111,
                            "#46039f"
                          ],
                          [
                            0.2222222222222222,
                            "#7201a8"
                          ],
                          [
                            0.3333333333333333,
                            "#9c179e"
                          ],
                          [
                            0.4444444444444444,
                            "#bd3786"
                          ],
                          [
                            0.5555555555555556,
                            "#d8576b"
                          ],
                          [
                            0.6666666666666666,
                            "#ed7953"
                          ],
                          [
                            0.7777777777777778,
                            "#fb9f3a"
                          ],
                          [
                            0.8888888888888888,
                            "#fdca26"
                          ],
                          [
                            1,
                            "#f0f921"
                          ]
                        ],
                        "type": "contour"
                      }
                    ],
                    "contourcarpet": [
                      {
                        "colorbar": {
                          "outlinewidth": 0,
                          "ticks": ""
                        },
                        "type": "contourcarpet"
                      }
                    ],
                    "heatmap": [
                      {
                        "colorbar": {
                          "outlinewidth": 0,
                          "ticks": ""
                        },
                        "colorscale": [
                          [
                            0,
                            "#0d0887"
                          ],
                          [
                            0.1111111111111111,
                            "#46039f"
                          ],
                          [
                            0.2222222222222222,
                            "#7201a8"
                          ],
                          [
                            0.3333333333333333,
                            "#9c179e"
                          ],
                          [
                            0.4444444444444444,
                            "#bd3786"
                          ],
                          [
                            0.5555555555555556,
                            "#d8576b"
                          ],
                          [
                            0.6666666666666666,
                            "#ed7953"
                          ],
                          [
                            0.7777777777777778,
                            "#fb9f3a"
                          ],
                          [
                            0.8888888888888888,
                            "#fdca26"
                          ],
                          [
                            1,
                            "#f0f921"
                          ]
                        ],
                        "type": "heatmap"
                      }
                    ],
                    "histogram": [
                      {
                        "marker": {
                          "pattern": {
                            "fillmode": "overlay",
                            "size": 10,
                            "solidity": 0.2
                          }
                        },
                        "type": "histogram"
                      }
                    ],
                    "histogram2d": [
                      {
                        "colorbar": {
                          "outlinewidth": 0,
                          "ticks": ""
                        },
                        "colorscale": [
                          [
                            0,
                            "#0d0887"
                          ],
                          [
                            0.1111111111111111,
                            "#46039f"
                          ],
                          [
                            0.2222222222222222,
                            "#7201a8"
                          ],
                          [
                            0.3333333333333333,
                            "#9c179e"
                          ],
                          [
                            0.4444444444444444,
                            "#bd3786"
                          ],
                          [
                            0.5555555555555556,
                            "#d8576b"
                          ],
                          [
                            0.6666666666666666,
                            "#ed7953"
                          ],
                          [
                            0.7777777777777778,
                            "#fb9f3a"
                          ],
                          [
                            0.8888888888888888,
                            "#fdca26"
                          ],
                          [
                            1,
                            "#f0f921"
                          ]
                        ],
                        "type": "histogram2d"
                      }
                    ],
                    "histogram2dcontour": [
                      {
                        "colorbar": {
                          "outlinewidth": 0,
                          "ticks": ""
                        },
                        "colorscale": [
                          [
                            0,
                            "#0d0887"
                          ],
                          [
                            0.1111111111111111,
                            "#46039f"
                          ],
                          [
                            0.2222222222222222,
                            "#7201a8"
                          ],
                          [
                            0.3333333333333333,
                            "#9c179e"
                          ],
                          [
                            0.4444444444444444,
                            "#bd3786"
                          ],
                          [
                            0.5555555555555556,
                            "#d8576b"
                          ],
                          [
                            0.6666666666666666,
                            "#ed7953"
                          ],
                          [
                            0.7777777777777778,
                            "#fb9f3a"
                          ],
                          [
                            0.8888888888888888,
                            "#fdca26"
                          ],
                          [
                            1,
                            "#f0f921"
                          ]
                        ],
                        "type": "histogram2dcontour"
                      }
                    ],
                    "mesh3d": [
                      {
                        "colorbar": {
                          "outlinewidth": 0,
                          "ticks": ""
                        },
                        "type": "mesh3d"
                      }
                    ],
                    "parcoords": [
                      {
                        "line": {
                          "colorbar": {
                            "outlinewidth": 0,
                            "ticks": ""
                          }
                        },
                        "type": "parcoords"
                      }
                    ],
                    "pie": [
                      {
                        "automargin": true,
                        "type": "pie"
                      }
                    ],
                    "scatter": [
                      {
                        "fillpattern": {
                          "fillmode": "overlay",
                          "size": 10,
                          "solidity": 0.2
                        },
                        "type": "scatter"
                      }
                    ],
                    "scatter3d": [
                      {
                        "line": {
                          "colorbar": {
                            "outlinewidth": 0,
                            "ticks": ""
                          }
                        },
                        "marker": {
                          "colorbar": {
                            "outlinewidth": 0,
                            "ticks": ""
                          }
                        },
                        "type": "scatter3d"
                      }
                    ],
                    "scattercarpet": [
                      {
                        "marker": {
                          "colorbar": {
                            "outlinewidth": 0,
                            "ticks": ""
                          }
                        },
                        "type": "scattercarpet"
                      }
                    ],
                    "scattergeo": [
                      {
                        "marker": {
                          "colorbar": {
                            "outlinewidth": 0,
                            "ticks": ""
                          }
                        },
                        "type": "scattergeo"
                      }
                    ],
                    "scattergl": [
                      {
                        "marker": {
                          "colorbar": {
                            "outlinewidth": 0,
                            "ticks": ""
                          }
                        },
                        "type": "scattergl"
                      }
                    ],
                    "scattermap": [
                      {
                        "marker": {
                          "colorbar": {
                            "outlinewidth": 0,
                            "ticks": ""
                          }
                        },
                        "type": "scattermap"
                      }
                    ],
                    "scattermapbox": [
                      {
                        "marker": {
                          "colorbar": {
                            "outlinewidth": 0,
                            "ticks": ""
                          }
                        },
                        "type": "scattermapbox"
                      }
                    ],
                    "scatterpolar": [
                      {
                        "marker": {
                          "colorbar": {
                            "outlinewidth": 0,
                            "ticks": ""
                          }
                        },
                        "type": "scatterpolar"
                      }
                    ],
                    "scatterpolargl": [
                      {
                        "marker": {
                          "colorbar": {
                            "outlinewidth": 0,
                            "ticks": ""
                          }
                        },
                        "type": "scatterpolargl"
                      }
                    ],
                    "scatterternary": [
                      {
                        "marker": {
                          "colorbar": {
                            "outlinewidth": 0,
                            "ticks": ""
                          }
                        },
                        "type": "scatterternary"
                      }
                    ],
                    "surface": [
                      {
                        "colorbar": {
                          "outlinewidth": 0,
                          "ticks": ""
                        },
                        "colorscale": [
                          [
                            0,
                            "#0d0887"
                          ],
                          [
                            0.1111111111111111,
                            "#46039f"
                          ],
                          [
                            0.2222222222222222,
                            "#7201a8"
                          ],
                          [
                            0.3333333333333333,
                            "#9c179e"
                          ],
                          [
                            0.4444444444444444,
                            "#bd3786"
                          ],
                          [
                            0.5555555555555556,
                            "#d8576b"
                          ],
                          [
                            0.6666666666666666,
                            "#ed7953"
                          ],
                          [
                            0.7777777777777778,
                            "#fb9f3a"
                          ],
                          [
                            0.8888888888888888,
                            "#fdca26"
                          ],
                          [
                            1,
                            "#f0f921"
                          ]
                        ],
                        "type": "surface"
                      }
                    ],
                    "table": [
                      {
                        "cells": {
                          "fill": {
                            "color": "#EBF0F8"
                          },
                          "line": {
                            "color": "white"
                          }
                        },
                        "header": {
                          "fill": {
                            "color": "#C8D4E3"
                          },
                          "line": {
                            "color": "white"
                          }
                        },
                        "type": "table"
                      }
                    ]
                  },
                  "layout": {
                    "annotationdefaults": {
                      "arrowcolor": "#2a3f5f",
                      "arrowhead": 0,
                      "arrowwidth": 1
                    },
                    "autotypenumbers": "strict",
                    "coloraxis": {
                      "colorbar": {
                        "outlinewidth": 0,
                        "ticks": ""
                      }
                    },
                    "colorscale": {
                      "diverging": [
                        [
                          0,
                          "#8e0152"
                        ],
                        [
                          0.1,
                          "#c51b7d"
                        ],
                        [
                          0.2,
                          "#de77ae"
                        ],
                        [
                          0.3,
                          "#f1b6da"
                        ],
                        [
                          0.4,
                          "#fde0ef"
                        ],
                        [
                          0.5,
                          "#f7f7f7"
                        ],
                        [
                          0.6,
                          "#e6f5d0"
                        ],
                        [
                          0.7,
                          "#b8e186"
                        ],
                        [
                          0.8,
                          "#7fbc41"
                        ],
                        [
                          0.9,
                          "#4d9221"
                        ],
                        [
                          1,
                          "#276419"
                        ]
                      ],
                      "sequential": [
                        [
                          0,
                          "#0d0887"
                        ],
                        [
                          0.1111111111111111,
                          "#46039f"
                        ],
                        [
                          0.2222222222222222,
                          "#7201a8"
                        ],
                        [
                          0.3333333333333333,
                          "#9c179e"
                        ],
                        [
                          0.4444444444444444,
                          "#bd3786"
                        ],
                        [
                          0.5555555555555556,
                          "#d8576b"
                        ],
                        [
                          0.6666666666666666,
                          "#ed7953"
                        ],
                        [
                          0.7777777777777778,
                          "#fb9f3a"
                        ],
                        [
                          0.8888888888888888,
                          "#fdca26"
                        ],
                        [
                          1,
                          "#f0f921"
                        ]
                      ],
                      "sequentialminus": [
                        [
                          0,
                          "#0d0887"
                        ],
                        [
                          0.1111111111111111,
                          "#46039f"
                        ],
                        [
                          0.2222222222222222,
                          "#7201a8"
                        ],
                        [
                          0.3333333333333333,
                          "#9c179e"
                        ],
                        [
                          0.4444444444444444,
                          "#bd3786"
                        ],
                        [
                          0.5555555555555556,
                          "#d8576b"
                        ],
                        [
                          0.6666666666666666,
                          "#ed7953"
                        ],
                        [
                          0.7777777777777778,
                          "#fb9f3a"
                        ],
                        [
                          0.8888888888888888,
                          "#fdca26"
                        ],
                        [
                          1,
                          "#f0f921"
                        ]
                      ]
                    },
                    "colorway": [
                      "#636efa",
                      "#EF553B",
                      "#00cc96",
                      "#ab63fa",
                      "#FFA15A",
                      "#19d3f3",
                      "#FF6692",
                      "#B6E880",
                      "#FF97FF",
                      "#FECB52"
                    ],
                    "font": {
                      "color": "#2a3f5f"
                    },
                    "geo": {
                      "bgcolor": "white",
                      "lakecolor": "white",
                      "landcolor": "#E5ECF6",
                      "showlakes": true,
                      "showland": true,
                      "subunitcolor": "white"
                    },
                    "hoverlabel": {
                      "align": "left"
                    },
                    "hovermode": "closest",
                    "mapbox": {
                      "style": "light"
                    },
                    "paper_bgcolor": "white",
                    "plot_bgcolor": "#E5ECF6",
                    "polar": {
                      "angularaxis": {
                        "gridcolor": "white",
                        "linecolor": "white",
                        "ticks": ""
                      },
                      "bgcolor": "#E5ECF6",
                      "radialaxis": {
                        "gridcolor": "white",
                        "linecolor": "white",
                        "ticks": ""
                      }
                    },
                    "scene": {
                      "xaxis": {
                        "backgroundcolor": "#E5ECF6",
                        "gridcolor": "white",
                        "gridwidth": 2,
                        "linecolor": "white",
                        "showbackground": true,
                        "ticks": "",
                        "zerolinecolor": "white"
                      },
                      "yaxis": {
                        "backgroundcolor": "#E5ECF6",
                        "gridcolor": "white",
                        "gridwidth": 2,
                        "linecolor": "white",
                        "showbackground": true,
                        "ticks": "",
                        "zerolinecolor": "white"
                      },
                      "zaxis": {
                        "backgroundcolor": "#E5ECF6",
                        "gridcolor": "white",
                        "gridwidth": 2,
                        "linecolor": "white",
                        "showbackground": true,
                        "ticks": "",
                        "zerolinecolor": "white"
                      }
                    },
                    "shapedefaults": {
                      "line": {
                        "color": "#2a3f5f"
                      }
                    },
                    "ternary": {
                      "aaxis": {
                        "gridcolor": "white",
                        "linecolor": "white",
                        "ticks": ""
                      },
                      "baxis": {
                        "gridcolor": "white",
                        "linecolor": "white",
                        "ticks": ""
                      },
                      "bgcolor": "#E5ECF6",
                      "caxis": {
                        "gridcolor": "white",
                        "linecolor": "white",
                        "ticks": ""
                      }
                    },
                    "title": {
                      "x": 0.05
                    },
                    "xaxis": {
                      "automargin": true,
                      "gridcolor": "white",
                      "linecolor": "white",
                      "ticks": "",
                      "title": {
                        "standoff": 15
                      },
                      "zerolinecolor": "white",
                      "zerolinewidth": 2
                    },
                    "yaxis": {
                      "automargin": true,
                      "gridcolor": "white",
                      "linecolor": "white",
                      "ticks": "",
                      "title": {
                        "standoff": 15
                      },
                      "zerolinecolor": "white",
                      "zerolinewidth": 2
                    }
                  }
                },
                "title": {
                  "text": "1종 및 2종 오류 시각화 (alpha=0.1)<br>α=0.01, β=0.91, Power=0.09"
                },
                "xaxis": {
                  "title": {
                    "text": "테스트 통계량"
                  }
                },
                "yaxis": {
                  "title": {
                    "text": "확률 밀도"
                  }
                }
              }
            }
          },
          "metadata": {},
          "output_type": "display_data"
        }
      ],
      "source": [
        "plot_error_types(mu_alt=1, sigma=1, alpha_level=0.01, title_suffix=\"(alpha=0.1)\")"
      ]
    },
    {
      "cell_type": "code",
      "execution_count": 65,
      "metadata": {
        "id": "-3_NI0z2_zvn"
      },
      "outputs": [
        {
          "data": {
            "application/vnd.plotly.v1+json": {
              "config": {
                "plotlyServerURL": "https://plot.ly"
              },
              "data": [
                {
                  "line": {
                    "color": "blue"
                  },
                  "mode": "lines",
                  "name": "H0 분포 (귀무 가설)",
                  "type": "scatter",
                  "x": {
                    "bdata": "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",
                    "dtype": "f8"
                  },
                  "y": {
                    "bdata": "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",
                    "dtype": "f8"
                  }
                },
                {
                  "line": {
                    "color": "red"
                  },
                  "mode": "lines",
                  "name": "H1 분포 (대립 가설)",
                  "type": "scatter",
                  "x": {
                    "bdata": "AAAAAAAAEMDZfkevjO0PwLL9jl4Z2w/AinzWDabID8Bj+x29MrYPwDx6ZWy/ow/AFfmsG0yRD8Dud/TK2H4PwMb2O3plbA/An3WDKfJZD8B49MrYfkcPwFFzEogLNQ/AKvJZN5giD8ACcaHmJBAPwNvv6JWx/Q7AtG4wRT7rDsCN7Xf0ytgOwGZsv6NXxg7APusGU+SzDsAXak4CcaEOwPDolbH9jg7AyWfdYIp8DsCh5iQQF2oOwHplbL+jVw7AU+SzbjBFDsAsY/sdvTIOwAXiQs1JIA7A3WCKfNYNDsC239ErY/sNwI9eGdvv6A3AaN1ginzWDcBBXKg5CcQNwBnb7+iVsQ3A8lk3mCKfDcDL2H5Hr4wNwKRXxvY7eg3AfNYNpshnDcBVVVVVVVUNwC7UnATiQg3AB1Pks24wDcDg0Stj+x0NwLhQcxKICw3Akc+6wRT5DMBqTgJxoeYMwEPNSSAu1AzAHEyRz7rBDMD0yth+R68MwM1JIC7UnAzApshn3WCKDMB/R6+M7XcMwFjG9jt6ZQzAMEU+6wZTDMAJxIWak0AMwOJCzUkgLgzAu8EU+awbDMCUQFyoOQkMwGy/o1fG9gvART7rBlPkC8AevTK239ELwPc7emVsvwvA0LrBFPmsC8CoOQnEhZoLwIG4UHMSiAvAWjeYIp91C8Aztt/RK2MLwAw1J4G4UAvA5LNuMEU+C8C9Mrbf0SsLwJax/Y5eGQvAbzBFPusGC8BIr4ztd/QKwCAu1JwE4grA+awbTJHPCsDSK2P7Hb0KwKuqqqqqqgrAhCnyWTeYCsBcqDkJxIUKwDUngbhQcwrADqbIZ91gCsDnJBAXak4KwMCjV8b2OwrAmCKfdYMpCsBxoeYkEBcKwEogLtScBArAIp91gynyCcD8Hb0ytt8JwNScBOJCzQnArRtMkc+6CcCGmpNAXKgJwF4Z2+/olQnAN5gin3WDCcAQF2pOAnEJwOmVsf2OXgnAwhT5rBtMCcCak0BcqDkJwHMSiAs1JwnATJHPusEUCcAlEBdqTgIJwP6OXhnb7wjA1g2myGfdCMCvjO139MoIwIgLNSeBuAjAYYp81g2mCMA6CcSFmpMIwBKICzUngQjA6wZT5LNuCMDEhZqTQFwIwJ0E4kLNSQjAdoMp8lk3CMBOAnGh5iQIwCeBuFBzEgjAAAAAAAAACMDZfkevjO0HwLL9jl4Z2wfAinzWDabIB8Bj+x29MrYHwDx6ZWy/owfAFfmsG0yRB8Dud/TK2H4HwMb2O3plbAfAn3WDKfJZB8B49MrYfkcHwFBzEogLNQfAKvJZN5giB8ACcaHmJBAHwNvv6JWx/QbAtG4wRT7rBsCM7Xf0ytgGwGZsv6NXxgbAPusGU+SzBsAXak4CcaEGwPDolbH9jgbAyGfdYIp8BsCi5iQQF2oGwHplbL+jVwbAU+SzbjBFBsAsY/sdvTIGwATiQs1JIAbA3mCKfNYNBsC239ErY/sFwI9eGdvv6AXAaN1ginzWBcBAXKg5CcQFwBrb7+iVsQXA8lk3mCKfBcDL2H5Hr4wFwKRXxvY7egXAfNYNpshnBcBWVVVVVVUFwC7UnATiQgXAB1Pks24wBcDg0Stj+x0FwLhQcxKICwXAks+6wRT5BMBqTgJxoeYEwEPNSSAu1ATAHEyRz7rBBMD0yth+R68EwM5JIC7UnATApshn3WCKBMB/R6+M7XcEwFjG9jt6ZQTAMEU+6wZTBMAKxIWak0AEwOJCzUkgLgTAu8EU+awbBMCUQFyoOQkEwGy/o1fG9gPART7rBlPkA8AevTK239EDwPc7emVsvwPA0LrBFPmsA8CoOQnEhZoDwIG4UHMSiAPAWjeYIp91A8Aztt/RK2MDwAw1J4G4UAPA5LNuMEU+A8C9Mrbf0SsDwJax/Y5eGQPAbjBFPusGA8BIr4ztd/QCwCAu1JwE4gLA+awbTJHPAsDSK2P7Hb0CwKqqqqqqqgLAhCnyWTeYAsBcqDkJxIUCwDUngbhQcwLADqbIZ91gAsDmJBAXak4CwMCjV8b2OwLAmCKfdYMpAsBxoeYkEBcCwEogLtScBALAIp91gynyAcD8Hb0ytt8BwNScBOJCzQHArRtMkc+6AcCGmpNAXKgBwF4Z2+/olQHAOJgin3WDAcAQF2pOAnEBwOmVsf2OXgHAwhT5rBtMAcCak0BcqDkBwHQSiAs1JwHATJHPusEUAcAlEBdqTgIBwP6OXhnb7wDA1g2myGfdAMCwjO139MoAwIgLNSeBuADAYYp81g2mAMA6CcSFmpMAwBKICzUngQDA7AZT5LNuAMDEhZqTQFwAwJ0E4kLNSQDAdoMp8lk3AMBOAnGh5iQAwCeBuFBzEgDAAAAAAAAAAMCy/Y5eGdv/v2T7Hb0ytv+/FPmsG0yR/7/G9jt6ZWz/v3j0yth+R/+/KvJZN5gi/7/c7+iVsf3+v4ztd/TK2P6/PusGU+Sz/r/w6JWx/Y7+v6LmJBAXav6/VOSzbjBF/r8E4kLNSSD+v7bf0Stj+/2/aN1ginzW/b8a2+/olbH9v8zYfkevjP2/fNYNpshn/b8u1JwE4kL9v+DRK2P7Hf2/ks+6wRT5/L9CzUkgLtT8v/TK2H5Hr/y/pshn3WCK/L9YxvY7emX8vwrEhZqTQPy/usEU+awb/L9sv6NXxvb7vx69Mrbf0fu/0LrBFPms+7+CuFBzEoj7vzK239ErY/u/5LNuMEU++7+Wsf2OXhn7v0ivjO139Pq/+qwbTJHP+r+qqqqqqqr6v1yoOQnEhfq/DqbIZ91g+r/Ao1fG9jv6v3Kh5iQQF/q/Ip91gyny+b/UnATiQs35v4aak0BcqPm/OJgin3WD+b/qlbH9jl75v5qTQFyoOfm/TJHPusEU+b/+jl4Z2+/4v7CM7Xf0yvi/YIp81g2m+L8SiAs1J4H4v8SFmpNAXPi/doMp8lk3+L8ogbhQcxL4v9h+R6+M7fe/inzWDabI9788emVsv6P3v+539MrYfve/oHWDKfJZ979QcxKICzX3vwJxoeYkEPe/tG4wRT7r9r9mbL+jV8b2vxhqTgJxofa/yGfdYIp89r96ZWy/o1f2vyxj+x29Mva/3mCKfNYN9r+QXhnb7+j1v0BcqDkJxPW/8lk3mCKf9b+kV8b2O3r1v1ZVVVVVVfW/CFPks24w9b+4UHMSiAv1v2pOAnGh5vS/HEyRz7rB9L/OSSAu1Jz0v35Hr4ztd/S/MEU+6wZT9L/iQs1JIC70v5RAXKg5CfS/Rj7rBlPk87/2O3plbL/zv6g5CcSFmvO/WjeYIp91878MNSeBuFDzv74ytt/RK/O/bjBFPusG878gLtScBOLyv9IrY/sdvfK/hCnyWTeY8r82J4G4UHPyv+YkEBdqTvK/mCKfdYMp8r9KIC7UnATyv/wdvTK23/G/rhtMkc+68b9eGdvv6JXxvxAXak4CcfG/whT5rBtM8b90EogLNSfxvyYQF2pOAvG/1g2myGfd8L+ICzUngbjwvzoJxIWak/C/7AZT5LNu8L+cBOJCzUnwv04CcaHmJPC/AAAAAAAA8L9k+x29Mrbvv8j2O3plbO+/KPJZN5gi77+M7Xf0ytjuv/DolbH9ju6/VOSzbjBF7r+439ErY/vtvxjb7+iVse2/fNYNpshn7b/g0Stj+x3tv0TNSSAu1Oy/qMhn3WCK7L8IxIWak0Dsv2y/o1fG9uu/0LrBFPms6780tt/RK2Prv5ix/Y5eGeu/+KwbTJHP6r9cqDkJxIXqv8CjV8b2O+q/JJ91gyny6b+ImpNAXKjpv+iVsf2OXum/TJHPusEU6b+wjO139MrovxSICzUngei/dIMp8lk36L/YfkevjO3nvzx6ZWy/o+e/oHWDKfJZ578EcaHmJBDnv2Rsv6NXxua/yGfdYIp85r8sY/sdvTLmv5BeGdvv6OW/9Fk3mCKf5b9UVVVVVVXlv7hQcxKIC+W/HEyRz7rB5L+AR6+M7Xfkv+RCzUkgLuS/RD7rBlPk47+oOQnEhZrjvww1J4G4UOO/cDBFPusG47/UK2P7Hb3ivzQngbhQc+K/mCKfdYMp4r/8Hb0ytt/hv2AZ2+/oleG/wBT5rBtM4b8kEBdqTgLhv4gLNSeBuOC/7AZT5LNu4L9QAnGh5iTgv2D7Hb0ytt+/KPJZN5gi37/w6JWx/Y7ev7jf0Stj+92/gNYNpshn3b9AzUkgLtTcvwjEhZqTQNy/0LrBFPms27+Ysf2OXhnbv2CoOQnEhdq/IJ91gyny2b/olbH9jl7Zv7CM7Xf0yti/eIMp8lk32L9AemVsv6PXvwBxoeYkENe/yGfdYIp81r+QXhnb7+jVv1hVVVVVVdW/IEyRz7rB1L/gQs1JIC7Uv6g5CcSFmtO/cDBFPusG0784J4G4UHPSv/gdvTK239G/wBT5rBtM0b+ICzUngbjQv1ACcaHmJNC/MPJZN5giz7+w39ErY/vNv0DNSSAu1My/0LrBFPmsy79gqDkJxIXKv/CVsf2OXsm/cIMp8lk3yL8AcaHmJBDHv5BeGdvv6MW/IEyRz7rBxL+wOQnEhZrDvzAngbhQc8K/wBT5rBtMwb9QAnGh5iTAv8Df0Stj+72/4LrBFPmsu7/glbH9jl65vwBxoeYkELe/IEyRz7rBtL9AJ4G4UHOyv2ACcaHmJLC/wLrBFPmsq78AcaHmJBCnv0AngbhQc6K/ALvBFPmsm78AJ4G4UHOSvwAngbhQc4K/AAAAAAAAAAAAKIG4UHOCPwAngbhQc5I/ALvBFPmsmz8AJ4G4UHOiPwBxoeYkEKc/ALvBFPmsqz9AAnGh5iSwP0AngbhQc7I/AEyRz7rBtD8AcaHmJBC3PwCWsf2OXrk/wLrBFPmsuz/A39ErY/u9P0ACcaHmJMA/wBT5rBtMwT9AJ4G4UHPCP6A5CcSFmsM/IEyRz7rBxD+AXhnb7+jFPwBxoeYkEMc/gIMp8lk3yD/glbH9jl7JP2CoOQnEhco/wLrBFPmsyz9AzUkgLtTMP8Df0Stj+80/IPJZN5gizz9QAnGh5iTQP4ALNSeBuNA/wBT5rBtM0T8AHr0ytt/RPzAngbhQc9I/cDBFPusG0z+gOQnEhZrTP+BCzUkgLtQ/IEyRz7rB1D9QVVVVVVXVP5BeGdvv6NU/wGfdYIp81j8AcaHmJBDXP0B6ZWy/o9c/cIMp8lk32D+wjO139MrYP/CVsf2OXtk/IJ91gyny2T9gqDkJxIXaP5Cx/Y5eGds/0LrBFPms2z8QxIWak0DcP0DNSSAu1Nw/gNYNpshn3T+w39ErY/vdP/DolbH9jt4/MPJZN5gi3z9g+x29MrbfP1ACcaHmJOA/6AZT5LNu4D+ICzUngbjgPygQF2pOAuE/wBT5rBtM4T9gGdvv6JXhP/gdvTK23+E/mCKfdYMp4j84J4G4UHPiP9ArY/sdveI/cDBFPusG4z8INSeBuFDjP6g5CcSFmuM/SD7rBlPk4z/gQs1JIC7kP4BHr4ztd+Q/GEyRz7rB5D+4UHMSiAvlP1hVVVVVVeU/8Fk3mCKf5T+QXhnb7+jlPyhj+x29MuY/yGfdYIp85j9obL+jV8bmPwBxoeYkEOc/oHWDKfJZ5z84emVsv6PnP9h+R6+M7ec/eIMp8lk36D8QiAs1J4HoP7CM7Xf0yug/SJHPusEU6T/olbH9jl7pP4iak0BcqOk/IJ91gyny6T/Ao1fG9jvqP1ioOQnEheo/+KwbTJHP6j+Ysf2OXhnrPzC239ErY+s/0LrBFPms6z9wv6NXxvbrPwjEhZqTQOw/qMhn3WCK7D9AzUkgLtTsP+DRK2P7He0/gNYNpshn7T8Y2+/olbHtP7jf0Stj++0/UOSzbjBF7j/w6JWx/Y7uP5Dtd/TK2O4/KPJZN5gi7z/I9jt6ZWzvP2D7Hb0ytu8/AAAAAAAA8D9QAnGh5iTwP5wE4kLNSfA/7AZT5LNu8D84CcSFmpPwP4gLNSeBuPA/2A2myGfd8D8kEBdqTgLxP3QSiAs1J/E/wBT5rBtM8T8QF2pOAnHxP2AZ2+/olfE/rBtMkc+68T/8Hb0ytt/xP0ggLtScBPI/mCKfdYMp8j/oJBAXak7yPzQngbhQc/I/hCnyWTeY8j/QK2P7Hb3yPyAu1JwE4vI/cDBFPusG8z+8Mrbf0SvzPww1J4G4UPM/WDeYIp918z+oOQnEhZrzP/g7emVsv/M/RD7rBlPk8z+UQFyoOQn0P+BCzUkgLvQ/MEU+6wZT9D+AR6+M7Xf0P8xJIC7UnPQ/HEyRz7rB9D9oTgJxoeb0P7hQcxKIC/U/CFPks24w9T9UVVVVVVX1P6RXxvY7evU/8Fk3mCKf9T9AXKg5CcT1P5BeGdvv6PU/3GCKfNYN9j8sY/sdvTL2P3xlbL+jV/Y/yGfdYIp89j8Yak4CcaH2P2Rsv6NXxvY/tG4wRT7r9j8EcaHmJBD3P1BzEogLNfc/oHWDKfJZ9z/sd/TK2H73Pzx6ZWy/o/c/jHzWDabI9z/YfkevjO33PyiBuFBzEvg/dIMp8lk3+D/EhZqTQFz4PxSICzUngfg/YIp81g2m+D+wjO139Mr4P/yOXhnb7/g/TJHPusEU+T+ck0BcqDn5P+iVsf2OXvk/OJgin3WD+T+EmpNAXKj5P9ScBOJCzfk/JJ91gyny+T9woeYkEBf6P8CjV8b2O/o/DKbIZ91g+j9cqDkJxIX6P6yqqqqqqvo/+KwbTJHP+j9Ir4ztd/T6P5Sx/Y5eGfs/5LNuMEU++z80tt/RK2P7P4C4UHMSiPs/0LrBFPms+z8cvTK239H7P2y/o1fG9vs/vMEU+awb/D8IxIWak0D8P1jG9jt6Zfw/pMhn3WCK/D/0yth+R6/8P0TNSSAu1Pw/kM+6wRT5/D/g0Stj+x39PyzUnATiQv0/fNYNpshn/T/M2H5Hr4z9Pxjb7+iVsf0/aN1ginzW/T+039ErY/v9PwTiQs1JIP4/VOSzbjBF/j+g5iQQF2r+P/DolbH9jv4/QOsGU+Sz/j+M7Xf0ytj+P9zv6JWx/f4/KPJZN5gi/z949MrYfkf/P8j2O3plbP8/FPmsG0yR/z9k+x29Mrb/P7D9jl4Z2/8/AAAAAAAAAEAogbhQcxIAQE4CcaHmJABAdoMp8lk3AECcBOJCzUkAQMSFmpNAXABA7AZT5LNuAEASiAs1J4EAQDoJxIWakwBAYIp81g2mAECICzUngbgAQLCM7Xf0ygBA1g2myGfdAED+jl4Z2+8AQCQQF2pOAgFATJHPusEUAUB0EogLNScBQJqTQFyoOQFAwhT5rBtMAUDolbH9jl4BQBAXak4CcQFAOJgin3WDAUBeGdvv6JUBQIaak0BcqAFArBtMkc+6AUDUnATiQs0BQPwdvTK23wFAIp91gynyAUBKIC7UnAQCQHCh5iQQFwJAmCKfdYMpAkDAo1fG9jsCQOYkEBdqTgJADqbIZ91gAkA0J4G4UHMCQFyoOQnEhQJAhCnyWTeYAkCqqqqqqqoCQNIrY/sdvQJA+KwbTJHPAkAgLtScBOICQEivjO139AJAbjBFPusGA0CWsf2OXhkDQLwytt/RKwNA5LNuMEU+A0AMNSeBuFADQDK239ErYwNAWjeYIp91A0CCuFBzEogDQKg5CcSFmgNA0LrBFPmsA0D2O3plbL8DQB69Mrbf0QNARj7rBlPkA0Bsv6NXxvYDQJRAXKg5CQRAusEU+awbBEDiQs1JIC4EQArEhZqTQARAMEU+6wZTBEBYxvY7emUEQH5Hr4ztdwRApshn3WCKBEDOSSAu1JwEQPTK2H5HrwRAHEyRz7rBBEBCzUkgLtQEQGpOAnGh5gRAks+6wRT5BEC4UHMSiAsFQODRK2P7HQVABlPks24wBUAu1JwE4kIFQFZVVVVVVQVAfNYNpshnBUCkV8b2O3oFQMrYfkevjAVA8lk3mCKfBUAa2+/olbEFQEBcqDkJxAVAaN1ginzWBUCOXhnb7+gFQLbf0Stj+wVA3mCKfNYNBkAE4kLNSSAGQCxj+x29MgZAUuSzbjBFBkB6ZWy/o1cGQKLmJBAXagZAyGfdYIp8BkDw6JWx/Y4GQBZqTgJxoQZAPusGU+SzBkBmbL+jV8YGQIztd/TK2AZAtG4wRT7rBkDa7+iVsf0GQAJxoeYkEAdAKvJZN5giB0BQcxKICzUHQHj0yth+RwdAoHWDKfJZB0DG9jt6ZWwHQO539MrYfgdAFPmsG0yRB0A8emVsv6MHQGT7Hb0ytgdAinzWDabIB0Cy/Y5eGdsHQNh+R6+M7QdAAAAAAAAACEAogbhQcxIIQE4CcaHmJAhAdoMp8lk3CECcBOJCzUkIQMSFmpNAXAhA7AZT5LNuCEASiAs1J4EIQDoJxIWakwhAYIp81g2mCECICzUngbgIQLCM7Xf0yghA1g2myGfdCED+jl4Z2+8IQCQQF2pOAglATJHPusEUCUB0EogLNScJQJqTQFyoOQlAwhT5rBtMCUDolbH9jl4JQBAXak4CcQlAOJgin3WDCUBeGdvv6JUJQIaak0BcqAlArBtMkc+6CUDUnATiQs0JQPwdvTK23wlAIp91gynyCUBKIC7UnAQKQHCh5iQQFwpAmCKfdYMpCkDAo1fG9jsKQOYkEBdqTgpADqbIZ91gCkA0J4G4UHMKQFyoOQnEhQpAhCnyWTeYCkCqqqqqqqoKQNIrY/sdvQpA+KwbTJHPCkAgLtScBOIKQEivjO139ApAbjBFPusGC0CWsf2OXhkLQLwytt/RKwtA5LNuMEU+C0AMNSeBuFALQDK239ErYwtAWjeYIp91C0CCuFBzEogLQKg5CcSFmgtA0LrBFPmsC0D2O3plbL8LQB69Mrbf0QtARj7rBlPkC0Bsv6NXxvYLQJRAXKg5CQxAusEU+awbDEDiQs1JIC4MQArEhZqTQAxAMEU+6wZTDEBYxvY7emUMQH5Hr4ztdwxApshn3WCKDEDOSSAu1JwMQPTK2H5HrwxAHEyRz7rBDEBCzUkgLtQMQGpOAnGh5gxAks+6wRT5DEC4UHMSiAsNQODRK2P7HQ1ABlPks24wDUAu1JwE4kINQFZVVVVVVQ1AfNYNpshnDUCkV8b2O3oNQMrYfkevjA1A8lk3mCKfDUAa2+/olbENQEBcqDkJxA1AaN1ginzWDUCOXhnb7+gNQLbf0Stj+w1A3mCKfNYNDkAE4kLNSSAOQCxj+x29Mg5AUuSzbjBFDkB6ZWy/o1cOQKLmJBAXag5AyGfdYIp8DkDw6JWx/Y4OQBZqTgJxoQ5APusGU+SzDkBmbL+jV8YOQIztd/TK2A5AtG4wRT7rDkDa7+iVsf0OQAJxoeYkEA9AKvJZN5giD0BQcxKICzUPQHj0yth+Rw9AnnWDKfJZD0DG9jt6ZWwPQO539MrYfg9AFPmsG0yRD0A8emVsv6MPQGT7Hb0ytg9AinzWDabID0Cy/Y5eGdsPQNh+R6+M7Q9AAAAAAAAAEECUQFyoOQkQQCiBuFBzEhBAusEU+awbEEBOAnGh5iQQQOJCzUkgLhBAdoMp8lk3EEAKxIWak0AQQJwE4kLNSRBAMEU+6wZTEEDEhZqTQFwQQFjG9jt6ZRBA7AZT5LNuEEB+R6+M7XcQQBKICzUngRBApshn3WCKEEA6CcSFmpMQQM5JIC7UnBBAYIp81g2mEED0yth+R68QQIgLNSeBuBBAHEyRz7rBEECwjO139MoQQELNSSAu1BBA1g2myGfdEEBqTgJxoeYQQP6OXhnb7xBAks+6wRT5EEAkEBdqTgIRQLhQcxKICxFATJHPusEUEUDg0Stj+x0RQHQSiAs1JxFABlPks24wEUCak0BcqDkRQC7UnATiQhFAwhT5rBtMEUBWVVVVVVURQOiVsf2OXhFAfNYNpshnEUAQF2pOAnERQKRXxvY7ehFAOJgin3WDEUDK2H5Hr4wRQF4Z2+/olRFA8lk3mCKfEUCGmpNAXKgRQBrb7+iVsRFArBtMkc+6EUBAXKg5CcQRQNScBOJCzRFAaN1ginzWEUD8Hb0ytt8RQI5eGdvv6BFAIp91gynyEUC239ErY/sRQEogLtScBBJA3mCKfNYNEkBwoeYkEBcSQATiQs1JIBJAmCKfdYMpEkAsY/sdvTISQMCjV8b2OxJAUuSzbjBFEkDmJBAXak4SQHplbL+jVxJADqbIZ91gEkCi5iQQF2oSQDQngbhQcxJAyGfdYIp8EkBcqDkJxIUSQPDolbH9jhJAhCnyWTeYEkAWak4CcaESQKqqqqqqqhJAPusGU+SzEkDSK2P7Hb0SQGZsv6NXxhJA+KwbTJHPEkCM7Xf0ytgSQCAu1JwE4hJAtG4wRT7rEkBIr4ztd/QSQNzv6JWx/RJAbjBFPusGE0ACcaHmJBATQJax/Y5eGRNAKvJZN5giE0C+Mrbf0SsTQFBzEogLNRNA5LNuMEU+E0B49MrYfkcTQAw1J4G4UBNAoHWDKfJZE0Aytt/RK2MTQMb2O3plbBNAWjeYIp91E0Dud/TK2H4TQIK4UHMSiBNAFPmsG0yRE0CoOQnEhZoTQDx6ZWy/oxNA0LrBFPmsE0Bk+x29MrYTQPY7emVsvxNAinzWDabIE0AevTK239ETQLL9jl4Z2xNARj7rBlPkE0DYfkevjO0TQGy/o1fG9hNAAAAAAAAAFEA=",
                    "dtype": "f8"
                  },
                  "y": {
                    "bdata": "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",
                    "dtype": "f8"
                  }
                },
                {
                  "fill": "toself",
                  "fillcolor": "rgba(0,0,255,0.2)",
                  "line": {
                    "color": "rgba(255,255,255,0)"
                  },
                  "name": "1종 오류 (α = 0.1)",
                  "type": "scatter",
                  "x": {
                    "bdata": "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",
                    "dtype": "f8"
                  },
                  "y": {
                    "bdata": "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",
                    "dtype": "f8"
                  }
                },
                {
                  "fill": "toself",
                  "fillcolor": "rgba(255,0,0,0.2)",
                  "line": {
                    "color": "rgba(255,255,255,0)"
                  },
                  "name": "2종 오류 (β)",
                  "type": "scatter",
                  "x": {
                    "bdata": "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",
                    "dtype": "f8"
                  },
                  "y": {
                    "bdata": "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",
                    "dtype": "f8"
                  }
                }
              ],
              "layout": {
                "shapes": [
                  {
                    "line": {
                      "color": "green",
                      "dash": "dash",
                      "width": 2
                    },
                    "name": "임계값",
                    "type": "line",
                    "x0": 1.2815515655446004,
                    "x1": 1.2815515655446004,
                    "xref": "x",
                    "y0": 0,
                    "y1": 1,
                    "yref": "y domain"
                  }
                ],
                "template": {
                  "data": {
                    "bar": [
                      {
                        "error_x": {
                          "color": "#2a3f5f"
                        },
                        "error_y": {
                          "color": "#2a3f5f"
                        },
                        "marker": {
                          "line": {
                            "color": "#E5ECF6",
                            "width": 0.5
                          },
                          "pattern": {
                            "fillmode": "overlay",
                            "size": 10,
                            "solidity": 0.2
                          }
                        },
                        "type": "bar"
                      }
                    ],
                    "barpolar": [
                      {
                        "marker": {
                          "line": {
                            "color": "#E5ECF6",
                            "width": 0.5
                          },
                          "pattern": {
                            "fillmode": "overlay",
                            "size": 10,
                            "solidity": 0.2
                          }
                        },
                        "type": "barpolar"
                      }
                    ],
                    "carpet": [
                      {
                        "aaxis": {
                          "endlinecolor": "#2a3f5f",
                          "gridcolor": "white",
                          "linecolor": "white",
                          "minorgridcolor": "white",
                          "startlinecolor": "#2a3f5f"
                        },
                        "baxis": {
                          "endlinecolor": "#2a3f5f",
                          "gridcolor": "white",
                          "linecolor": "white",
                          "minorgridcolor": "white",
                          "startlinecolor": "#2a3f5f"
                        },
                        "type": "carpet"
                      }
                    ],
                    "choropleth": [
                      {
                        "colorbar": {
                          "outlinewidth": 0,
                          "ticks": ""
                        },
                        "type": "choropleth"
                      }
                    ],
                    "contour": [
                      {
                        "colorbar": {
                          "outlinewidth": 0,
                          "ticks": ""
                        },
                        "colorscale": [
                          [
                            0,
                            "#0d0887"
                          ],
                          [
                            0.1111111111111111,
                            "#46039f"
                          ],
                          [
                            0.2222222222222222,
                            "#7201a8"
                          ],
                          [
                            0.3333333333333333,
                            "#9c179e"
                          ],
                          [
                            0.4444444444444444,
                            "#bd3786"
                          ],
                          [
                            0.5555555555555556,
                            "#d8576b"
                          ],
                          [
                            0.6666666666666666,
                            "#ed7953"
                          ],
                          [
                            0.7777777777777778,
                            "#fb9f3a"
                          ],
                          [
                            0.8888888888888888,
                            "#fdca26"
                          ],
                          [
                            1,
                            "#f0f921"
                          ]
                        ],
                        "type": "contour"
                      }
                    ],
                    "contourcarpet": [
                      {
                        "colorbar": {
                          "outlinewidth": 0,
                          "ticks": ""
                        },
                        "type": "contourcarpet"
                      }
                    ],
                    "heatmap": [
                      {
                        "colorbar": {
                          "outlinewidth": 0,
                          "ticks": ""
                        },
                        "colorscale": [
                          [
                            0,
                            "#0d0887"
                          ],
                          [
                            0.1111111111111111,
                            "#46039f"
                          ],
                          [
                            0.2222222222222222,
                            "#7201a8"
                          ],
                          [
                            0.3333333333333333,
                            "#9c179e"
                          ],
                          [
                            0.4444444444444444,
                            "#bd3786"
                          ],
                          [
                            0.5555555555555556,
                            "#d8576b"
                          ],
                          [
                            0.6666666666666666,
                            "#ed7953"
                          ],
                          [
                            0.7777777777777778,
                            "#fb9f3a"
                          ],
                          [
                            0.8888888888888888,
                            "#fdca26"
                          ],
                          [
                            1,
                            "#f0f921"
                          ]
                        ],
                        "type": "heatmap"
                      }
                    ],
                    "histogram": [
                      {
                        "marker": {
                          "pattern": {
                            "fillmode": "overlay",
                            "size": 10,
                            "solidity": 0.2
                          }
                        },
                        "type": "histogram"
                      }
                    ],
                    "histogram2d": [
                      {
                        "colorbar": {
                          "outlinewidth": 0,
                          "ticks": ""
                        },
                        "colorscale": [
                          [
                            0,
                            "#0d0887"
                          ],
                          [
                            0.1111111111111111,
                            "#46039f"
                          ],
                          [
                            0.2222222222222222,
                            "#7201a8"
                          ],
                          [
                            0.3333333333333333,
                            "#9c179e"
                          ],
                          [
                            0.4444444444444444,
                            "#bd3786"
                          ],
                          [
                            0.5555555555555556,
                            "#d8576b"
                          ],
                          [
                            0.6666666666666666,
                            "#ed7953"
                          ],
                          [
                            0.7777777777777778,
                            "#fb9f3a"
                          ],
                          [
                            0.8888888888888888,
                            "#fdca26"
                          ],
                          [
                            1,
                            "#f0f921"
                          ]
                        ],
                        "type": "histogram2d"
                      }
                    ],
                    "histogram2dcontour": [
                      {
                        "colorbar": {
                          "outlinewidth": 0,
                          "ticks": ""
                        },
                        "colorscale": [
                          [
                            0,
                            "#0d0887"
                          ],
                          [
                            0.1111111111111111,
                            "#46039f"
                          ],
                          [
                            0.2222222222222222,
                            "#7201a8"
                          ],
                          [
                            0.3333333333333333,
                            "#9c179e"
                          ],
                          [
                            0.4444444444444444,
                            "#bd3786"
                          ],
                          [
                            0.5555555555555556,
                            "#d8576b"
                          ],
                          [
                            0.6666666666666666,
                            "#ed7953"
                          ],
                          [
                            0.7777777777777778,
                            "#fb9f3a"
                          ],
                          [
                            0.8888888888888888,
                            "#fdca26"
                          ],
                          [
                            1,
                            "#f0f921"
                          ]
                        ],
                        "type": "histogram2dcontour"
                      }
                    ],
                    "mesh3d": [
                      {
                        "colorbar": {
                          "outlinewidth": 0,
                          "ticks": ""
                        },
                        "type": "mesh3d"
                      }
                    ],
                    "parcoords": [
                      {
                        "line": {
                          "colorbar": {
                            "outlinewidth": 0,
                            "ticks": ""
                          }
                        },
                        "type": "parcoords"
                      }
                    ],
                    "pie": [
                      {
                        "automargin": true,
                        "type": "pie"
                      }
                    ],
                    "scatter": [
                      {
                        "fillpattern": {
                          "fillmode": "overlay",
                          "size": 10,
                          "solidity": 0.2
                        },
                        "type": "scatter"
                      }
                    ],
                    "scatter3d": [
                      {
                        "line": {
                          "colorbar": {
                            "outlinewidth": 0,
                            "ticks": ""
                          }
                        },
                        "marker": {
                          "colorbar": {
                            "outlinewidth": 0,
                            "ticks": ""
                          }
                        },
                        "type": "scatter3d"
                      }
                    ],
                    "scattercarpet": [
                      {
                        "marker": {
                          "colorbar": {
                            "outlinewidth": 0,
                            "ticks": ""
                          }
                        },
                        "type": "scattercarpet"
                      }
                    ],
                    "scattergeo": [
                      {
                        "marker": {
                          "colorbar": {
                            "outlinewidth": 0,
                            "ticks": ""
                          }
                        },
                        "type": "scattergeo"
                      }
                    ],
                    "scattergl": [
                      {
                        "marker": {
                          "colorbar": {
                            "outlinewidth": 0,
                            "ticks": ""
                          }
                        },
                        "type": "scattergl"
                      }
                    ],
                    "scattermap": [
                      {
                        "marker": {
                          "colorbar": {
                            "outlinewidth": 0,
                            "ticks": ""
                          }
                        },
                        "type": "scattermap"
                      }
                    ],
                    "scattermapbox": [
                      {
                        "marker": {
                          "colorbar": {
                            "outlinewidth": 0,
                            "ticks": ""
                          }
                        },
                        "type": "scattermapbox"
                      }
                    ],
                    "scatterpolar": [
                      {
                        "marker": {
                          "colorbar": {
                            "outlinewidth": 0,
                            "ticks": ""
                          }
                        },
                        "type": "scatterpolar"
                      }
                    ],
                    "scatterpolargl": [
                      {
                        "marker": {
                          "colorbar": {
                            "outlinewidth": 0,
                            "ticks": ""
                          }
                        },
                        "type": "scatterpolargl"
                      }
                    ],
                    "scatterternary": [
                      {
                        "marker": {
                          "colorbar": {
                            "outlinewidth": 0,
                            "ticks": ""
                          }
                        },
                        "type": "scatterternary"
                      }
                    ],
                    "surface": [
                      {
                        "colorbar": {
                          "outlinewidth": 0,
                          "ticks": ""
                        },
                        "colorscale": [
                          [
                            0,
                            "#0d0887"
                          ],
                          [
                            0.1111111111111111,
                            "#46039f"
                          ],
                          [
                            0.2222222222222222,
                            "#7201a8"
                          ],
                          [
                            0.3333333333333333,
                            "#9c179e"
                          ],
                          [
                            0.4444444444444444,
                            "#bd3786"
                          ],
                          [
                            0.5555555555555556,
                            "#d8576b"
                          ],
                          [
                            0.6666666666666666,
                            "#ed7953"
                          ],
                          [
                            0.7777777777777778,
                            "#fb9f3a"
                          ],
                          [
                            0.8888888888888888,
                            "#fdca26"
                          ],
                          [
                            1,
                            "#f0f921"
                          ]
                        ],
                        "type": "surface"
                      }
                    ],
                    "table": [
                      {
                        "cells": {
                          "fill": {
                            "color": "#EBF0F8"
                          },
                          "line": {
                            "color": "white"
                          }
                        },
                        "header": {
                          "fill": {
                            "color": "#C8D4E3"
                          },
                          "line": {
                            "color": "white"
                          }
                        },
                        "type": "table"
                      }
                    ]
                  },
                  "layout": {
                    "annotationdefaults": {
                      "arrowcolor": "#2a3f5f",
                      "arrowhead": 0,
                      "arrowwidth": 1
                    },
                    "autotypenumbers": "strict",
                    "coloraxis": {
                      "colorbar": {
                        "outlinewidth": 0,
                        "ticks": ""
                      }
                    },
                    "colorscale": {
                      "diverging": [
                        [
                          0,
                          "#8e0152"
                        ],
                        [
                          0.1,
                          "#c51b7d"
                        ],
                        [
                          0.2,
                          "#de77ae"
                        ],
                        [
                          0.3,
                          "#f1b6da"
                        ],
                        [
                          0.4,
                          "#fde0ef"
                        ],
                        [
                          0.5,
                          "#f7f7f7"
                        ],
                        [
                          0.6,
                          "#e6f5d0"
                        ],
                        [
                          0.7,
                          "#b8e186"
                        ],
                        [
                          0.8,
                          "#7fbc41"
                        ],
                        [
                          0.9,
                          "#4d9221"
                        ],
                        [
                          1,
                          "#276419"
                        ]
                      ],
                      "sequential": [
                        [
                          0,
                          "#0d0887"
                        ],
                        [
                          0.1111111111111111,
                          "#46039f"
                        ],
                        [
                          0.2222222222222222,
                          "#7201a8"
                        ],
                        [
                          0.3333333333333333,
                          "#9c179e"
                        ],
                        [
                          0.4444444444444444,
                          "#bd3786"
                        ],
                        [
                          0.5555555555555556,
                          "#d8576b"
                        ],
                        [
                          0.6666666666666666,
                          "#ed7953"
                        ],
                        [
                          0.7777777777777778,
                          "#fb9f3a"
                        ],
                        [
                          0.8888888888888888,
                          "#fdca26"
                        ],
                        [
                          1,
                          "#f0f921"
                        ]
                      ],
                      "sequentialminus": [
                        [
                          0,
                          "#0d0887"
                        ],
                        [
                          0.1111111111111111,
                          "#46039f"
                        ],
                        [
                          0.2222222222222222,
                          "#7201a8"
                        ],
                        [
                          0.3333333333333333,
                          "#9c179e"
                        ],
                        [
                          0.4444444444444444,
                          "#bd3786"
                        ],
                        [
                          0.5555555555555556,
                          "#d8576b"
                        ],
                        [
                          0.6666666666666666,
                          "#ed7953"
                        ],
                        [
                          0.7777777777777778,
                          "#fb9f3a"
                        ],
                        [
                          0.8888888888888888,
                          "#fdca26"
                        ],
                        [
                          1,
                          "#f0f921"
                        ]
                      ]
                    },
                    "colorway": [
                      "#636efa",
                      "#EF553B",
                      "#00cc96",
                      "#ab63fa",
                      "#FFA15A",
                      "#19d3f3",
                      "#FF6692",
                      "#B6E880",
                      "#FF97FF",
                      "#FECB52"
                    ],
                    "font": {
                      "color": "#2a3f5f"
                    },
                    "geo": {
                      "bgcolor": "white",
                      "lakecolor": "white",
                      "landcolor": "#E5ECF6",
                      "showlakes": true,
                      "showland": true,
                      "subunitcolor": "white"
                    },
                    "hoverlabel": {
                      "align": "left"
                    },
                    "hovermode": "closest",
                    "mapbox": {
                      "style": "light"
                    },
                    "paper_bgcolor": "white",
                    "plot_bgcolor": "#E5ECF6",
                    "polar": {
                      "angularaxis": {
                        "gridcolor": "white",
                        "linecolor": "white",
                        "ticks": ""
                      },
                      "bgcolor": "#E5ECF6",
                      "radialaxis": {
                        "gridcolor": "white",
                        "linecolor": "white",
                        "ticks": ""
                      }
                    },
                    "scene": {
                      "xaxis": {
                        "backgroundcolor": "#E5ECF6",
                        "gridcolor": "white",
                        "gridwidth": 2,
                        "linecolor": "white",
                        "showbackground": true,
                        "ticks": "",
                        "zerolinecolor": "white"
                      },
                      "yaxis": {
                        "backgroundcolor": "#E5ECF6",
                        "gridcolor": "white",
                        "gridwidth": 2,
                        "linecolor": "white",
                        "showbackground": true,
                        "ticks": "",
                        "zerolinecolor": "white"
                      },
                      "zaxis": {
                        "backgroundcolor": "#E5ECF6",
                        "gridcolor": "white",
                        "gridwidth": 2,
                        "linecolor": "white",
                        "showbackground": true,
                        "ticks": "",
                        "zerolinecolor": "white"
                      }
                    },
                    "shapedefaults": {
                      "line": {
                        "color": "#2a3f5f"
                      }
                    },
                    "ternary": {
                      "aaxis": {
                        "gridcolor": "white",
                        "linecolor": "white",
                        "ticks": ""
                      },
                      "baxis": {
                        "gridcolor": "white",
                        "linecolor": "white",
                        "ticks": ""
                      },
                      "bgcolor": "#E5ECF6",
                      "caxis": {
                        "gridcolor": "white",
                        "linecolor": "white",
                        "ticks": ""
                      }
                    },
                    "title": {
                      "x": 0.05
                    },
                    "xaxis": {
                      "automargin": true,
                      "gridcolor": "white",
                      "linecolor": "white",
                      "ticks": "",
                      "title": {
                        "standoff": 15
                      },
                      "zerolinecolor": "white",
                      "zerolinewidth": 2
                    },
                    "yaxis": {
                      "automargin": true,
                      "gridcolor": "white",
                      "linecolor": "white",
                      "ticks": "",
                      "title": {
                        "standoff": 15
                      },
                      "zerolinecolor": "white",
                      "zerolinewidth": 2
                    }
                  }
                },
                "title": {
                  "text": "1종 및 2종 오류 시각화 (alpha=0.1)<br>α=0.10, β=0.61, Power=0.39"
                },
                "xaxis": {
                  "title": {
                    "text": "테스트 통계량"
                  }
                },
                "yaxis": {
                  "title": {
                    "text": "확률 밀도"
                  }
                }
              }
            }
          },
          "metadata": {},
          "output_type": "display_data"
        }
      ],
      "source": [
        "# 연습 문제 4번 풀이 공간\n",
        "fig_q4 = plot_error_types(mu_alt=1, sigma=1, alpha_level=0.1, title_suffix=\"(alpha=0.1)\")\n",
        "fig_q4.show()"
      ]
    },
    {
      "cell_type": "markdown",
      "metadata": {},
      "source": [
        "\n",
        "* 결과: alpha_level을 0.1로 높이면,\n",
        "    \n",
        "    > 1. 1종 오류 영역이 넓어진다(임계값 왼쪽 이동)\n",
        "    > 2. 임계값이 왼쪽으로 이동함에 따라, 대립가설(H1) 분포하에서 임계값보다 작은 영역(2종오류, 베타)이 줄어든다\n",
        "    > 3. 검정력이(1-beta)가 증가한다."
      ]
    },
    {
      "cell_type": "markdown",
      "metadata": {
        "id": "znWG14Z7_zvn"
      },
      "source": [
        "---\n",
        "\n",
        "## 6. 가상 데이터 A/B 테스트 실행 및 분석 예시\n",
        "\n",
        "### 💡 개념 (Concept)\n",
        "\n",
        "실제 A/B 테스트 데이터를 분석하는 과정을 간단한 가상 데이터를 통해 시뮬레이션해봅니다. 여기서는 두 그룹(A, B)에 대해 특정 지표(예: 평균 세션 시간, 전환율)를 비교하고 통계적 유의성을 검증합니다.\n",
        "\n",
        "**데이터 생성 (가정):**\n",
        "\n",
        "20일 동안 20,000명의 사용자가 평균 3번 방문하며, A/B 테스트에 참여했다고 가정합니다. 각 사용자는 A그룹 또는 B그룹에 할당되고, 특정 행동(예: 구매, 클릭) 여부와 연속형 지표(예: 사용 시간)가 기록됩니다.\n",
        "\n",
        "실제 데이터는 아래와 같은 컬럼을 가질 수 있습니다:\n",
        "* `user_id`: 사용자 고유 ID\n",
        "* `timestamp`: 이벤트 발생 시간\n",
        "* `variant`: 할당된 그룹 (A 또는 B)\n",
        "* `converted`: 전환 여부 (0 또는 1)\n",
        "* `session_duration`: 세션 지속 시간 (분)\n",
        "* `purchase_amount`: 구매 금액 (전환한 경우)\n",
        "\n",
        "여기서는 분석을 위해 미리 생성된 요약 데이터를 사용하거나, 간단히 생성해보겠습니다.\n",
        "\n",
        "**분석 단계:**\n",
        "\n",
        "1.  **데이터 로드 및 전처리**: 데이터를 불러오고 필요한 형태로 가공합니다.\n",
        "2.  **그룹별 기술 통계 확인**: 각 그룹의 평균, 표준편차, 샘플 수 등을 확인합니다.\n",
        "3.  **통계적 가설 검정**:\n",
        "    * 연속형 지표 (예: 평균 세션 시간): Independent two-sample t-test\n",
        "    * 이산형 지표 (예: 전환율): Two-proportion z-test 또는 Chi-squared test\n",
        "4.  **결과 해석**: p-value와 신뢰구간을 바탕으로 결론을 도출합니다."
      ]
    },
    {
      "cell_type": "markdown",
      "metadata": {},
      "source": [
        "\n",
        "### 💻 예시 코드 (Example Code)\n",
        "\n",
        "**1. 샘플 데이터 생성 및 t-검정 (연속형 지표)**\n",
        "\n",
        "A그룹과 B그룹의 웹사이트 평균 체류 시간을 비교한다고 가정합니다."
      ]
    },
    {
      "cell_type": "markdown",
      "metadata": {},
      "source": [
        "가상 데이터 생성"
      ]
    },
    {
      "cell_type": "code",
      "execution_count": 67,
      "metadata": {
        "id": "JU4NH4yQ_zvn"
      },
      "outputs": [],
      "source": [
        "import pandas as pd\n",
        "import numpy as np\n",
        "from scipy import stats\n",
        "\n",
        "# 시드 고정\n",
        "np.random.seed(42)\n",
        "\n",
        "# 가상 데이터 생성\n",
        "# 그룹 A: 평균 체류 시간 120초, 표준편차 30초, 사용자 1000명\n",
        "group_A_duration = np.random.normal(loc=120, scale=30, size=1000)\n",
        "# 그룹 B: 평균 체류 시간 128초, 표준편차 32초, 사용자 1020명 (약간의 차이를 줌)\n",
        "group_B_duration = np.random.normal(loc=128, scale=32, size=1020)\n",
        "\n",
        "# Pandas DataFrame으로 만들기\n",
        "df_A = pd.DataFrame({'variant': 'A', 'duration': group_A_duration})\n",
        "df_B = pd.DataFrame({'variant': 'B', 'duration': group_B_duration})\n",
        "ab_data_duration = pd.concat([df_A, df_B], ignore_index=True)"
      ]
    },
    {
      "cell_type": "code",
      "execution_count": 68,
      "metadata": {},
      "outputs": [
        {
          "data": {
            "text/html": [
              "<div>\n",
              "<style scoped>\n",
              "    .dataframe tbody tr th:only-of-type {\n",
              "        vertical-align: middle;\n",
              "    }\n",
              "\n",
              "    .dataframe tbody tr th {\n",
              "        vertical-align: top;\n",
              "    }\n",
              "\n",
              "    .dataframe thead th {\n",
              "        text-align: right;\n",
              "    }\n",
              "</style>\n",
              "<table border=\"1\" class=\"dataframe\">\n",
              "  <thead>\n",
              "    <tr style=\"text-align: right;\">\n",
              "      <th></th>\n",
              "      <th>variant</th>\n",
              "      <th>duration</th>\n",
              "    </tr>\n",
              "  </thead>\n",
              "  <tbody>\n",
              "    <tr>\n",
              "      <th>0</th>\n",
              "      <td>A</td>\n",
              "      <td>134.901425</td>\n",
              "    </tr>\n",
              "    <tr>\n",
              "      <th>1</th>\n",
              "      <td>A</td>\n",
              "      <td>115.852071</td>\n",
              "    </tr>\n",
              "    <tr>\n",
              "      <th>2</th>\n",
              "      <td>A</td>\n",
              "      <td>139.430656</td>\n",
              "    </tr>\n",
              "    <tr>\n",
              "      <th>3</th>\n",
              "      <td>A</td>\n",
              "      <td>165.690896</td>\n",
              "    </tr>\n",
              "    <tr>\n",
              "      <th>4</th>\n",
              "      <td>A</td>\n",
              "      <td>112.975399</td>\n",
              "    </tr>\n",
              "    <tr>\n",
              "      <th>...</th>\n",
              "      <td>...</td>\n",
              "      <td>...</td>\n",
              "    </tr>\n",
              "    <tr>\n",
              "      <th>2015</th>\n",
              "      <td>B</td>\n",
              "      <td>121.797564</td>\n",
              "    </tr>\n",
              "    <tr>\n",
              "      <th>2016</th>\n",
              "      <td>B</td>\n",
              "      <td>119.535525</td>\n",
              "    </tr>\n",
              "    <tr>\n",
              "      <th>2017</th>\n",
              "      <td>B</td>\n",
              "      <td>63.876404</td>\n",
              "    </tr>\n",
              "    <tr>\n",
              "      <th>2018</th>\n",
              "      <td>B</td>\n",
              "      <td>148.333377</td>\n",
              "    </tr>\n",
              "    <tr>\n",
              "      <th>2019</th>\n",
              "      <td>B</td>\n",
              "      <td>88.343731</td>\n",
              "    </tr>\n",
              "  </tbody>\n",
              "</table>\n",
              "<p>2020 rows × 2 columns</p>\n",
              "</div>"
            ],
            "text/plain": [
              "     variant    duration\n",
              "0          A  134.901425\n",
              "1          A  115.852071\n",
              "2          A  139.430656\n",
              "3          A  165.690896\n",
              "4          A  112.975399\n",
              "...      ...         ...\n",
              "2015       B  121.797564\n",
              "2016       B  119.535525\n",
              "2017       B   63.876404\n",
              "2018       B  148.333377\n",
              "2019       B   88.343731\n",
              "\n",
              "[2020 rows x 2 columns]"
            ]
          },
          "execution_count": 68,
          "metadata": {},
          "output_type": "execute_result"
        }
      ],
      "source": [
        "ab_data_duration"
      ]
    },
    {
      "cell_type": "code",
      "execution_count": 69,
      "metadata": {},
      "outputs": [
        {
          "name": "stdout",
          "output_type": "stream",
          "text": [
            "A그룹 평균 체류 시간: 120.57996167466976\n",
            "B그룹 평균 체류 시간: 129.93571361827654\n"
          ]
        }
      ],
      "source": [
        "print(\"A그룹 평균 체류 시간:\", np.mean(group_A_duration))\n",
        "print(\"B그룹 평균 체류 시간:\", np.mean(group_B_duration))"
      ]
    },
    {
      "cell_type": "markdown",
      "metadata": {},
      "source": [
        "ABTest (Welch's t-test)"
      ]
    },
    {
      "cell_type": "code",
      "execution_count": 70,
      "metadata": {},
      "outputs": [
        {
          "name": "stdout",
          "output_type": "stream",
          "text": [
            "\n",
            "연속형 지표 (평균 체류 시간) t-검정 결과:\n",
            "T-statistic: -6.8574\n",
            "P-value: 0.0000\n"
          ]
        }
      ],
      "source": [
        "# Independent two-sample t-test (Welch's t-test: equal_var=False)\n",
        "# 귀무 가설 H0: 두 그룹의 평균 체류 시간은 같다.\n",
        "# 대립 가설 H1: 두 그룹의 평균 체류 시간은 다르다.\n",
        "t_statistic_duration, p_value_duration = stats.ttest_ind(\n",
        "    group_A_duration,\n",
        "    group_B_duration,\n",
        "    equal_var=False # 두 그룹의 분산이 다를 수 있다고 가정 (더 안전한 선택)\n",
        ")\n",
        "\n",
        "print(f\"\\n연속형 지표 (평균 체류 시간) t-검정 결과:\")\n",
        "print(f\"T-statistic: {t_statistic_duration:.4f}\")\n",
        "print(f\"P-value: {p_value_duration:.4f}\")"
      ]
    },
    {
      "cell_type": "markdown",
      "metadata": {},
      "source": [
        "해석"
      ]
    },
    {
      "cell_type": "code",
      "execution_count": 71,
      "metadata": {},
      "outputs": [
        {
          "name": "stdout",
          "output_type": "stream",
          "text": [
            "결론: p-value (0.0000) < 유의수준 (0.05).\n",
            "      귀무 가설을 기각합니다. 두 그룹 간 평균 체류 시간에 통계적으로 유의미한 차이가 존재합니다.\n"
          ]
        }
      ],
      "source": [
        "alpha = 0.05\n",
        "if p_value_duration < alpha:\n",
        "    print(f\"결론: p-value ({p_value_duration:.4f}) < 유의수준 ({alpha}).\")\n",
        "    print(\"      귀무 가설을 기각합니다. 두 그룹 간 평균 체류 시간에 통계적으로 유의미한 차이가 존재합니다.\")\n",
        "else:\n",
        "    print(f\"결론: p-value ({p_value_duration:.4f}) >= 유의수준 ({alpha}).\")\n",
        "    print(\"      귀무 가설을 기각하지 못합니다. 두 그룹 간 평균 체류 시간에 통계적으로 유의미한 차이가 있다고 보기 어렵습니다.\")"
      ]
    },
    {
      "cell_type": "markdown",
      "metadata": {},
      "source": [
        "신뢰구간 계산"
      ]
    },
    {
      "cell_type": "code",
      "execution_count": 72,
      "metadata": {},
      "outputs": [
        {
          "name": "stdout",
          "output_type": "stream",
          "text": [
            "그룹 A 평균 체류 시간 (95% CI): 120.58s, [118.76s, 122.40s]\n",
            "그룹 B 평균 체류 시간 (95% CI): 129.94s, [127.97s, 131.90s]\n"
          ]
        }
      ],
      "source": [
        "# 신뢰구간 계산 함수 (statsmodels 사용 권장, 여기서는 scipy.stats.t.interval 사용 예시)\n",
        "def get_confidence_interval(data, confidence=0.95):\n",
        "    n = len(data)\n",
        "    mean = np.mean(data)\n",
        "    sem = stats.sem(data) # 표준 오차 (Standard Error of the Mean)\n",
        "    if sem == 0: # 데이터가 모두 동일한 경우\n",
        "        return (mean, mean)\n",
        "    ci = stats.t.interval(confidence, df=n-1, loc=mean, scale=sem)\n",
        "    return ci\n",
        "\n",
        "ci_A_duration = get_confidence_interval(group_A_duration)\n",
        "ci_B_duration = get_confidence_interval(group_B_duration)\n",
        "\n",
        "print(f\"그룹 A 평균 체류 시간 (95% CI): {np.mean(group_A_duration):.2f}s, [{ci_A_duration[0]:.2f}s, {ci_A_duration[1]:.2f}s]\")\n",
        "print(f\"그룹 B 평균 체류 시간 (95% CI): {np.mean(group_B_duration):.2f}s, [{ci_B_duration[0]:.2f}s, {ci_B_duration[1]:.2f}s]\")"
      ]
    },
    {
      "cell_type": "markdown",
      "metadata": {
        "id": "aVT2jfWt_zvn"
      },
      "source": [
        "**2. 샘플 데이터 생성 및 비율 검정 (이산형 지표 - 전환율)**\n",
        "\n",
        "A그룹과 B그룹의 구매 전환율을 비교한다고 가정합니다."
      ]
    },
    {
      "cell_type": "markdown",
      "metadata": {},
      "source": [
        "가상 데이터 생성"
      ]
    },
    {
      "cell_type": "code",
      "execution_count": 73,
      "metadata": {
        "id": "s0-uToxA_zvn"
      },
      "outputs": [
        {
          "name": "stdout",
          "output_type": "stream",
          "text": [
            "그룹 A 전환율: 0.0800\n",
            "그룹 B 전환율: 0.1000\n"
          ]
        }
      ],
      "source": [
        "import numpy as np\n",
        "from statsmodels.stats.proportion import proportions_ztest\n",
        "\n",
        "# 시드 고정\n",
        "np.random.seed(0)\n",
        "\n",
        "# 가상 데이터 생성\n",
        "# 그룹 A: 방문자 1000명, 전환(구매) 80명\n",
        "visitors_A = 1000\n",
        "conversions_A = 80 # np.random.binomial(visitors_A, p=0.08) # 예시 전환율 8%\n",
        "\n",
        "# 그룹 B: 방문자 1050명, 전환(구매) 105명\n",
        "visitors_B = 1050\n",
        "conversions_B = 105 # np.random.binomial(visitors_B, p=0.10) # 예시 전환율 10%\n",
        "\n",
        "# 전환율\n",
        "cr_A = conversions_A / visitors_A\n",
        "cr_B = conversions_B / visitors_B\n",
        "\n",
        "print(f\"그룹 A 전환율: {cr_A:.4f}\")\n",
        "print(f\"그룹 B 전환율: {cr_B:.4f}\")"
      ]
    },
    {
      "cell_type": "markdown",
      "metadata": {},
      "source": [
        "ABTest (Two-proportion z-test)"
      ]
    },
    {
      "cell_type": "code",
      "execution_count": 74,
      "metadata": {},
      "outputs": [
        {
          "name": "stdout",
          "output_type": "stream",
          "text": [
            "\n",
            "이산형 지표 (전환율) Z-검정 결과:\n",
            "Z-statistic: -1.5797\n",
            "P-value: 0.1142\n"
          ]
        }
      ],
      "source": [
        "# Two-proportion z-test\n",
        "# 귀무 가설 H0: 두 그룹의 전환율은 같다.\n",
        "# 대립 가설 H1: 두 그룹의 전환율은 다르다.\n",
        "count = np.array([conversions_A, conversions_B])\n",
        "nobs = np.array([visitors_A, visitors_B])\n",
        "\n",
        "(z_statistic_cr, p_value_cr) = proportions_ztest(count, nobs, alternative='two-sided')\n",
        "\n",
        "print(f\"\\n이산형 지표 (전환율) Z-검정 결과:\")\n",
        "print(f\"Z-statistic: {z_statistic_cr:.4f}\")\n",
        "print(f\"P-value: {p_value_cr:.4f}\")\n"
      ]
    },
    {
      "cell_type": "code",
      "execution_count": 75,
      "metadata": {},
      "outputs": [
        {
          "name": "stdout",
          "output_type": "stream",
          "text": [
            "결론: p-value (0.1142) >= 유의수준 (0.05).\n",
            "      귀무 가설을 기각하지 못합니다. 두 그룹 간 전환율에 통계적으로 유의미한 차이가 있다고 보기 어렵습니다.\n"
          ]
        }
      ],
      "source": [
        "alpha = 0.05\n",
        "if p_value_cr < alpha:\n",
        "    print(f\"결론: p-value ({p_value_cr:.4f}) < 유의수준 ({alpha}).\")\n",
        "    print(\"      귀무 가설을 기각합니다. 두 그룹 간 전환율에 통계적으로 유의미한 차이가 존재합니다.\")\n",
        "else:\n",
        "    print(f\"결론: p-value ({p_value_cr:.4f}) >= 유의수준 ({alpha}).\")\n",
        "    print(\"      귀무 가설을 기각하지 못합니다. 두 그룹 간 전환율에 통계적으로 유의미한 차이가 있다고 보기 어렵습니다.\")\n"
      ]
    },
    {
      "cell_type": "markdown",
      "metadata": {},
      "source": [
        "신뢰구간 계산"
      ]
    },
    {
      "cell_type": "code",
      "execution_count": 76,
      "metadata": {},
      "outputs": [
        {
          "name": "stdout",
          "output_type": "stream",
          "text": [
            "\n",
            "그룹 A 전환율 (95% CI): 0.0800, [0.0632, 0.0968]\n",
            "그룹 B 전환율 (95% CI): 0.1000, [0.0819, 0.1181]\n"
          ]
        }
      ],
      "source": [
        "# 신뢰구간 (statsmodels.stats.proportion.proportion_confint 사용)\n",
        "from statsmodels.stats.proportion import proportion_confint\n",
        "\n",
        "ci_A_cr_lower, ci_A_cr_upper = proportion_confint(conversions_A, visitors_A, alpha=alpha, method='normal')\n",
        "ci_B_cr_lower, ci_B_cr_upper = proportion_confint(conversions_B, visitors_B, alpha=alpha, method='normal')\n",
        "\n",
        "print(f\"\\n그룹 A 전환율 (95% CI): {cr_A:.4f}, [{ci_A_cr_lower:.4f}, {ci_A_cr_upper:.4f}]\")\n",
        "print(f\"그룹 B 전환율 (95% CI): {cr_B:.4f}, [{ci_B_cr_lower:.4f}, {ci_B_cr_upper:.4f}]\")"
      ]
    },
    {
      "cell_type": "markdown",
      "metadata": {
        "id": "mA0L61gV_zvn"
      },
      "source": [
        "### ✏️ 연습 문제 (Practice Problems)\n",
        "\n",
        "1.  위의 \"연속형 지표 (평균 체류 시간) t-검정\" 예제에서, `group_B_duration`의 평균(`loc`)을 `122`로 변경하고 표준편차(`scale`)를 `28`로 변경한 후 다시 t-검정을 수행해보세요. P-value는 어떻게 변하며, 그 이유는 무엇일까요?"
      ]
    },
    {
      "cell_type": "code",
      "execution_count": 79,
      "metadata": {
        "id": "5w-cLPdp_zvn"
      },
      "outputs": [
        {
          "name": "stdout",
          "output_type": "stream",
          "text": [
            "P-value: 0.0147\n"
          ]
        }
      ],
      "source": [
        "# 연습 문제 1번 풀이 공간\n",
        "np.random.seed(42)\n",
        "group_A_duration_q1 = np.random.normal(loc=120, scale=30, size=1000)\n",
        "group_B_duration_q1 = np.random.normal(loc=122, scale=28, size=1020) # 변경\n",
        "\n",
        "stat, p = stats.ttest_ind(group_A_duration_q1, group_B_duration_q1, equal_var=False)\n",
        "print(f\"P-value: {p:.4f}\")"
      ]
    },
    {
      "cell_type": "markdown",
      "metadata": {},
      "source": [
        "설명: P-value가 여전히 유의수준보다 작게 나타나지만, 이전보다는 상승했음. \n",
        "\n",
        "이는, 두 그룹 간 표준편차가 조금 줄어들어 그 차이를 규명하기에 유리해졌지만, \n",
        "\n",
        "평균차이와 MDE(최소감지효과)가 줄어들어 통계적으로 유의미성을 찾기 더 불리해졌기 때문임."
      ]
    },
    {
      "cell_type": "markdown",
      "metadata": {},
      "source": [
        "2.  \"이산형 지표 (전환율) Z-검정\" 예제에서, `conversions_B`를 `90`으로 변경하고 다시 Z-검정을 수행해보세요. P-value와 결론은 어떻게 달라지는지 확인하고 설명해보세요."
      ]
    },
    {
      "cell_type": "code",
      "execution_count": 82,
      "metadata": {},
      "outputs": [
        {
          "name": "stdout",
          "output_type": "stream",
          "text": [
            "그룹 A CR: 0.0800, 그룹 B CR: 0.0857\n",
            "Z-statistic: -0.4690\n",
            "P-value: 0.6391\n"
          ]
        }
      ],
      "source": [
        "# 연습 문제 2번 풀이 공간\n",
        "visitors_A_q2 = 1000\n",
        "conversions_A_q2 = 80\n",
        "visitors_B_q2 = 1050\n",
        "conversions_B_q2 = 90 # 변경 (이전 105)\n",
        "\n",
        "cr_A_q2 = conversions_A_q2 / visitors_A_q2\n",
        "cr_B_q2 = conversions_B_q2 / visitors_B_q2\n",
        "print(f\"그룹 A CR: {cr_A_q2:.4f}, 그룹 B CR: {cr_B_q2:.4f}\")\n",
        "\n",
        "count_q2 = np.array([conversions_A_q2, conversions_B_q2])\n",
        "nobs_q2 = np.array([visitors_A_q2, visitors_B_q2])\n",
        "z_stat_q2, p_val_q2 = proportions_ztest(count_q2, nobs_q2, alternative='two-sided')\n",
        "\n",
        "print(f\"Z-statistic: {z_stat_q2:.4f}\")\n",
        "print(f\"P-value: {p_val_q2:.4f}\")"
      ]
    },
    {
      "cell_type": "markdown",
      "metadata": {},
      "source": [
        "3.  A/B 테스트 결과, B안이 A안보다 전환율이 0.5%p 높았고, p-value는 0.08이 나왔습니다 (유의수준 0.05). 이 테스트 결과를 바탕으로 당신은 어떤 의사결정을 내릴 것이며, 추가적으로 고려할 사항은 무엇인가요?"
      ]
    },
    {
      "cell_type": "markdown",
      "metadata": {},
      "source": [
        "* 결과: P-value(0.08)가 유의수준(0.05)보다 크므로, 통계적으로 유의미한 차이가 있다고 단정하기 어렵습니다.\n",
        "    > 즉, B안이 A안보다 전환율이 0.5%p 높은 것이 우연에 의한 결과일 가능성을 배제할 수 없습니다.\n",
        "\n",
        "* 의사결정:\n",
        "    > 1. 현상 유지: B안을 도입하지 않고 A안을 유지합니다. (가장 보수적인 결정)\n",
        "    > \n",
        "    > 2. 추가 실험 고려:\n",
        "    >    - 샘플 사이즈가 충분했는지 검토합니다. 샘플이 부족했다면, 더 많은 데이터를 모아 재검증할 수 있습니다.\n",
        "    >    - 실험 기간이 적절했는지 확인합니다. (예: 특정 이벤트 기간에만 효과가 있었을 수도 있음)\n",
        "    >    - 0.5%p 개선이 비즈니스적으로 얼마나 중요한지 판단합니다. 만약 이 정도 개선도 매우 중요하다면,\n",
        "    >      통계적 유의성은 부족하지만 긍정적인 신호로 보고, 소규모로 B안을 적용하며 모니터링하거나,\n",
        "    >      MDE를 낮춰서 더 정밀한 테스트를 계획할 수 있습니다.\n",
        "    > \n",
        "    > 3. 비용-효과 분석: B안을 도입하는 데 드는 비용(개발, 유지보수 등)과 0.5%p 개선으로 기대되는 수익을 비교합니다.\n",
        "    >    기대 수익이 비용보다 크다면, 통계적 유의성이 약간 부족하더라도 시도해볼 가치가 있을 수 있습니다. (위험 감수)\n",
        "\n",
        "* 추가 고려사항:\n",
        "    > - 해당 테스트의 검정력(Power)은 어떠했는가? 검정력이 낮았다면, 실제 효과가 있었음에도 발견하지 못했을 수 있습니다 (2종 오류).\n",
        "    > - 다른 보조 지표(secondary metrics)들은 어떻게 변했는가? (예: 평균 주문 금액, 이탈률 등)\n",
        "    > - 사용자 세그먼트별로 다른 결과가 나타나지는 않았는가?"
      ]
    },
    {
      "cell_type": "markdown",
      "metadata": {},
      "source": [
        "## 7. AB테스트 토픽\n",
        "- 결정지표 설계 핵심포인트는 무엇인가?\n",
        "  \n",
        "- 적절한 테스트 기간의 설정 Know-How는 무엇인가?\n",
        "- 최소감지효과를 정하기 어렵다면?\n",
        "- 통계적 유의성이 없다고 실패한 테스트일까?\n",
        "- 여러테스트를 동시에 진행해도 문제는 없을까? \n",
        "- 외부 타당성의 위험성이 있는가? (외부타당성 : 외부 요인이 테스트 결과에 영향을 줄 수 있는 것)\n",
        "- '성공'한 테스트의 보다 확실한 정의는?\n",
        "- 분석결과 레포트는 어떻게 제공해야하는가?"
      ]
    },
    {
      "cell_type": "markdown",
      "metadata": {
        "id": "r69bAlQi_zvn"
      },
      "source": [
        "---\n",
        "\n",
        "## 8. 💡 고급 A/B 테스트 주제\n",
        "\n",
        "### 💡 개념 (Concept)\n",
        "\n",
        "기본적인 A/B 테스트 외에도 더 정교하고 효율적인 테스트를 위한 고급 주제들이 있습니다.\n",
        "\n",
        "* **MVT (Multivariate Test, 다변량 테스트) 와 FWER (Family-Wise Error Rate)**:\n",
        "    * **MVT**: 여러 요소의 여러 변형을 동시에 테스트하여 각 조합의 효과를 측정합니다. (예: 제목 2가지 x 이미지 3가지 x 버튼 색상 2가지 = 12개 조합)\n",
        "    * **FWER**: 여러 가설을 동시에 검정할 때 (예: MVT 또는 여러 지표 동시 확인), 적어도 하나 이상의 귀무 가설을 잘못 기각할 확률(즉, 1종 오류가 적어도 한 번 발생할 확률)이 증가하는 문제입니다. 이를 제어하기 위해 Bonferroni correction, FDR (False Discovery Rate) 제어 등의 방법을 사용합니다.\n",
        "\n",
        "* **Early Stopping / Sequential Group Test (순차적 그룹 검정)**:\n",
        "    * 실험 중간중간 결과를 확인하여, 통계적으로 유의미한 차이가 명확하거나 반대로 개선의 여지가 전혀 없어 보일 때 실험을 조기에 종료하는 방법론입니다. 리소스를 절약하고 빠르게 의사결정을 내릴 수 있지만, 잘못된 조기 중단은 1종 오류율을 높일 수 있어 주의해야 합니다 (Alpha-spending functions 등 활용).\n",
        "\n",
        "* **베이지안 A/B 테스트 (Bayesian A/B Testing)**:\n",
        "    * 빈도주의 통계(Frequentist) 기반의 p-value, 신뢰구간 대신, 사전 확률(Prior probability)과 데이터(Likelihood)를 결합하여 사후 확률(Posterior probability)을 추론합니다.\n",
        "    * \"B안이 A안보다 나을 확률은 X%이다\" 와 같이 직관적인 해석이 가능하고, 데이터가 쌓임에 따라 실시간으로 확률을 업데이트할 수 있는 장점이 있습니다. 샘플 사이즈가 작을 때도 유용할 수 있습니다.\n",
        "\n",
        "* **MAB (Multi-Armed Bandit, 다중 슬롯머신 문제)**:\n",
        "    * 탐색(Exploration, 여러 옵션을 시도해보는 것)과 활용(Exploitation, 현재까지 가장 좋아 보이는 옵션을 사용하는 것) 사이의 균형을 맞추는 알고리즘입니다.\n",
        "    * A/B 테스트가 정해진 기간 동안 데이터를 수집 후 최적안을 선택하는 방식이라면, MAB는 실시간으로 성과가 좋은 옵션에 트래픽을 더 많이 보내면서 동시에 다른 옵션도 계속 탐색하여 전체적인 손실을 최소화하고 보상을 최대화하는 것을 목표로 합니다. (예: 뉴스 헤드라인 최적화, 광고 소재 최적화)"
      ]
    },
    {
      "cell_type": "markdown",
      "metadata": {},
      "source": [
        "### ✏️ 미니 실습 PJT 과제\n",
        "#### 알고리즘 A/B 테스트 데이터 분석 -> 발표자 3명 선정\n",
        " - 알고리즘 A/B 테스트 데이터셋 : datasets/abtest/algorithm_ab_test.csv\n",
        "  \n",
        " - 분석 준비\n",
        "   - 데이터셋 구조 파악 (컬럼 설명)\n",
        "     * user_id: 사용자 ID\n",
        "  \n",
        "     * timestamp: 테스트 실행 시간\n",
        "     * group: 테스트 그룹 (A/B)\n",
        "     * version: 알고리즘 버전 (v1/v2)\n",
        "     * conversion: 전환 여부 (0/1)\n",
        "     * revenue: 수익 금액\n",
        "   - pandas로 데이터셋 로드 및 전처리\n",
        "  \n",
        "   - A/B 테스트 통계적 분석 수행\n",
        "  \n",
        " - 꼭 담겨야할 분석 내용\n",
        "  \n",
        "    * 데이터셋 정보 확인\n",
        "  \n",
        "    * 데이터셋 기술통계량 확인\n",
        "    * 데이터셋 pandas 전처리 (결측치 처리, 데이터 타입 변환, 데이터 정렬 등)\n",
        "    * A/B 테스트 가설 설정\n",
        "    * 전환율(conversion rate) 분석\n",
        "    * 수익(revenue) 분석\n",
        "    * 통계적 유의성 검정 (카이제곱 검정, t-test 등)\n",
        "    * 시각화 (plotly 사용)\n",
        "      - 그룹별 전환율 비교\n",
        "  \n",
        "      - 그룹별 수익 비교\n",
        "      - 시간에 따른 전환율/수익 추이\n",
        "    * 분석 결과 해석 및 결론 도출\n"
      ]
    },
    {
      "cell_type": "markdown",
      "metadata": {},
      "source": []
    }
  ],
  "metadata": {
    "colab": {
      "provenance": []
    },
    "kernelspec": {
      "display_name": ".venv",
      "language": "python",
      "name": "python3"
    },
    "language_info": {
      "codemirror_mode": {
        "name": "ipython",
        "version": 3
      },
      "file_extension": ".py",
      "mimetype": "text/x-python",
      "name": "python",
      "nbconvert_exporter": "python",
      "pygments_lexer": "ipython3",
      "version": "3.12.9"
    }
  },
  "nbformat": 4,
  "nbformat_minor": 0
}
