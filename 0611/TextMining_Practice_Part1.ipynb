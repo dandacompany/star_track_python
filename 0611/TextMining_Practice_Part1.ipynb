{
 "cells": [
  {
   "cell_type": "markdown",
   "metadata": {},
   "source": [
    "## 🐍 Chapter 1: 텍스트 분석의 세계로: 기본 다지기\n",
    "\n",
    "본 챕터에서는 텍스트 분석의 기본 개념을 이해하고, 앞으로의 여정에 필요한 개발 환경을 설정 및 검증합니다. 텍스트 분석이 무엇이며 왜 중요한지 알아보고, 강력한 Python 라이브러리들을 준비하는 첫 단계를 함께 밟아봅시다."
   ]
  },
  {
   "cell_type": "markdown",
   "metadata": {},
   "source": [
    "### 1. 텍스트 분석(Text Analytics) 및 자연어 처리(NLP)란?"
   ]
  },
  {
   "cell_type": "markdown",
   "metadata": {},
   "source": [
    "#### 💡 개념 (Concept)\n",
    "\n",
    "**텍스트 분석(Text Analytics)** 또는 **자연어 처리(Natural Language Processing, NLP)** 는 컴퓨터를 사용하여 인간의 언어(텍스트 데이터)를 이해하고, 해석하며, 유의미한 정보를 추출하는 기술 분야입니다. 텍스트 데이터는 다음과 같은 특징 때문에 분석하기 까다롭습니다.\n",
    "\n",
    "* **비정형성 (Unstructured):** 정해진 틀이나 구조가 없어 다루기 어렵습니다.\n",
    "* **모호성 (Ambiguous):** 하나의 단어나 문장이 여러 의미로 해석될 수 있습니다 (예: \"사과\"는 과일일 수도, 용서를 구하는 행위일 수도 있습니다).\n",
    "* **문맥 의존성 (Context-dependent):** 같은 단어라도 문맥에 따라 의미가 완전히 달라집니다.\n",
    "\n",
    "이러한 어려움에도 불구하고 텍스트 분석은 다양한 분야에서 활발히 활용되며 엄청난 가치를 만들어내고 있습니다. \n",
    "\n",
    "* **정보 검색:** 검색 엔진의 정확도 향상\n",
    "* **감성 분석:** 영화 리뷰, 제품 후기 등의 긍/부정 분석\n",
    "* **챗봇 및 가상 비서:** 사용자의 질문 의도 파악 및 답변 생성\n",
    "* **기계 번역:** 한 언어를 다른 언어로 자동 번역\n",
    "* **뉴스 기사 요약 및 분류:** 방대한 기사를 주제별로 자동 분류하고 핵심 내용 요약"
   ]
  },
  {
   "cell_type": "markdown",
   "metadata": {},
   "source": [
    "#### 💻 예시 코드 (Example Code)\n",
    "\n",
    "텍스트 분석의 목표를 간단한 코드로 상상해봅시다. 아래 코드는 실제 동작하지는 않지만, 우리가 앞으로 배울 내용을 통해 구현할 목표를 보여줍니다."
   ]
  },
  {
   "cell_type": "code",
   "execution_count": null,
   "metadata": {},
   "outputs": [],
   "source": [
    "# 최종 목표(가상 코드)\n",
    "# from text_analysis_magic import analyze_sentiment\n",
    "\n",
    "# review1 = \"이 영화는 제 인생 최고의 영화입니다! 배우들의 연기가 정말 인상 깊었어요.\"\n",
    "# review2 = \"기대하고 봤는데 너무 실망스러웠어요. 스토리가 지루하고 예측 가능합니다.\"\n",
    "\n",
    "# 긍정/부정을 분석하여 출력\n",
    "# print(f\"'{review1[:20]}...'의 감성 분석 결과: {analyze_sentiment(review1)}\")\n",
    "# print(f\"'{review2[:20]}...'의 감성 분석 결과: {analyze_sentiment(review2)}\")"
   ]
  },
  {
   "cell_type": "markdown",
   "metadata": {},
   "source": [
    "#### ✏️ 연습 문제 (Practice Problems)\n",
    "\n",
    "1.  <u>본인이 매일 사용하는 서비스(앱, 웹사이트 등) 중에서 텍스트 분석 기술이 사용되고 있을 것 같은 사례 3가지를 생각해보고, 어떤 기능에 어떻게 사용될지 구체적으로 설명해보세요.</u>\n",
    "   \n",
    "    1. **YouTube - 댓글 및 콘텐츠 필터링**\n",
    "       - 악성 댓글이나 스팸 댓글을 자동으로 감지하여 삭제하거나 숨김 처리\n",
    "       - 영상 제목과 설명을 분석하여 적절한 카테고리로 자동 분류\n",
    "       - 자막 생성 및 다국어 번역 서비스 제공\n",
    "\n",
    "    2. **인스타그램 - 해시태그 추천 및 콘텐츠 추천**\n",
    "       - 게시물의 텍스트 내용을 분석하여 관련 해시태그 자동 추천\n",
    "       - 사용자가 작성한 캡션의 감성을 분석하여 비슷한 취향의 콘텐츠 추천\n",
    "       - 부적절한 콘텐츠나 혐오 발언을 자동으로 탐지하여 제재\n",
    "\n",
    "    3. **네이버 쇼핑 - 상품 리뷰 분석**\n",
    "       - 수많은 상품 리뷰를 분석하여 긍정/부정 평가 요약 제공\n",
    "       - 리뷰 내용에서 핵심 키워드를 추출하여 상품의 장단점 정리\n",
    "       - 가짜 리뷰나 광고성 리뷰를 자동으로 필터링"
   ]
  },
  {
   "cell_type": "markdown",
   "metadata": {},
   "source": [
    "2.  <u>하나의 한국어 문장이 다르게 해석될 수 있는 예시를 직접 만들어 보세요.</u>\n",
    "   \n",
    "    다음은 한국어 문장이 다르게 해석될 수 있는 예시들입니다.\n",
    "\n",
    "    **예시 1:** \"나는 오늘 밤을 새웠다.\"\n",
    "    - 해석 1: 잠을 자지 않고 밤을 지새웠다 (밤샘)\n",
    "    - 해석 2: 새로운 밤을 경험했다 (새로운 경험)\n",
    "\n",
    "    **예시 2:** \"아버지가 방에 들어가신다.\"\n",
    "    - 해석 1: 아버지가 어떤 방으로 들어가는 중이다\n",
    "    - 해석 2: \"아버지가방에들어가신다\" - 띄어쓰기 없이 읽으면 \"아버지 가방에 들어가신다\"\n",
    "\n",
    "    **예시 3:** \"저 사람 말이 많아.\"\n",
    "    - 해석 1: 저 사람이 말을 많이 한다(수다스럽다).\n",
    "    - 해석 2: 저 사람이 키우는 말(horse)이 많다.\n",
    "\n",
    "    **예시 4:** \"방금 다녀온 집이 좋아 보여.\"\n",
    "    - 해석 1: 방금 방문한 집(house)이 좋아 보인다.\n",
    "    - 해석 2: 방금 다녀온 집(family, household)이 좋아 보인다(가정의 분위기 등).\n",
    "\n",
    "    **예시 5:** \"오늘 밤 별이 많아.\"\n",
    "    - 해석 1: 하늘에 별(star)이 많이 떠 있다.\n",
    "    - 해석 2: 오늘 밤에 별(grade, 예: 별 다섯 개)이 많다, 즉 평가가 좋다(리뷰 등 맥락에서).\n",
    "\n",
    "    이러한 모호성은 자연어 처리에서 해결해야 할 중요한 과제 중 하나입니다."
   ]
  },
  {
   "cell_type": "markdown",
   "metadata": {},
   "source": [
    "---"
   ]
  },
  {
   "cell_type": "code",
   "execution_count": 12,
   "metadata": {},
   "outputs": [],
   "source": [
    "# 라이브러리 임포트\n",
    "import sys\n",
    "import os\n",
    "import requests\n",
    "import json\n",
    "import pandas as pd"
   ]
  },
  {
   "cell_type": "markdown",
   "metadata": {},
   "source": [
    "### 2. 엘라스틱서치(검색엔진)을 활용한 텍스트 분석"
   ]
  },
  {
   "cell_type": "markdown",
   "metadata": {},
   "source": [
    "엘라스틱서치(Elasticsearch)는 Apache Lucene 기반의 분산형 검색 및 분석 엔진입니다.\n",
    "\n",
    "**엘라스틱서치의 주요 특징**\n",
    "- **실시간 검색**: 거의 실시간으로 데이터를 색인하고 검색할 수 있습니다\n",
    "- **분산 처리**: 여러 노드에 걸쳐 데이터를 분산 저장하고 처리합니다\n",
    "- **RESTful API**: HTTP 기반의 간단한 API를 제공합니다\n",
    "- **스키마리스**: 동적으로 데이터 구조를 파악하고 색인합니다\n",
    "\n",
    "**일반적인 용도**\n",
    "1. **로그 분석**: 시스템 로그, 웹 로그 등의 대용량 로그 데이터 분석\n",
    "2. **전문 검색**: 웹사이트, 문서, 상품 검색 기능 구현\n",
    "3. **실시간 모니터링**: 시스템 성능, 비즈니스 메트릭 모니터링\n",
    "4. **데이터 시각화**: Kibana와 연동하여 데이터 대시보드 구성\n",
    "\n",
    "**텍스트 분석에서의 활용**\n",
    "- **형태소 분석**: 한국어 분석기(Nori)를 통한 단어 분리 및 품사 태깅\n",
    "- **토큰화**: 텍스트를 의미 있는 단위로 분할\n",
    "- **정규화**: 대소문자 변환, 불용어 제거, 어간 추출 등\n",
    "- **색인 및 검색**: 분석된 텍스트를 효율적으로 저장하고 검색\n",
    "- **집계 분석**: 단어 빈도, 통계 분석 등 다양한 텍스트 통계 제공\n",
    "\n",
    "이번 실습에서는 엘라스틱서치의 한국어 분석기인 **Nori**를 사용하여 한국어 텍스트의 형태소 분석을 수행해보겠습니다.\n"
   ]
  },
  {
   "cell_type": "code",
   "execution_count": 13,
   "metadata": {},
   "outputs": [],
   "source": [
    "# 프로젝트 루트 디렉토리를 sys.path에 추가\n",
    "project_root_path = os.path.abspath(os.path.join(os.getcwd(), '..'))\n",
    "if project_root_path not in sys.path:\n",
    "    sys.path.append(project_root_path)"
   ]
  },
  {
   "cell_type": "code",
   "execution_count": 14,
   "metadata": {},
   "outputs": [
    {
     "data": {
      "text/plain": [
       "{'name': '8063e40e5668',\n",
       " 'cluster_name': 'docker-cluster',\n",
       " 'cluster_uuid': 'mWkra8roQOicha8uaydNDg',\n",
       " 'version': {'number': '7.17.0',\n",
       "  'build_flavor': 'default',\n",
       "  'build_type': 'docker',\n",
       "  'build_hash': 'bee86328705acaa9a6daede7140defd4d9ec56bd',\n",
       "  'build_date': '2022-01-28T08:36:04.875279988Z',\n",
       "  'build_snapshot': False,\n",
       "  'lucene_version': '8.11.1',\n",
       "  'minimum_wire_compatibility_version': '6.8.0',\n",
       "  'minimum_index_compatibility_version': '6.0.0-beta1'},\n",
       " 'tagline': 'You Know, for Search'}"
      ]
     },
     "execution_count": 14,
     "metadata": {},
     "output_type": "execute_result"
    }
   ],
   "source": [
    "# 검색엔진 접속 테스트\n",
    "# url = 'http://elasticsearch:9200' # 도커 환경에서 실행시\n",
    "# url = \"http://es:9200\" # ES 전용 도커 환경에서 실행시\n",
    "url = 'http://localhost:9200' # 로컬 환경에서 실행시\n",
    "headers = {'Content-Type': 'application/json'}\n",
    "response = requests.get(url, headers=headers).json()\n",
    "response"
   ]
  },
  {
   "cell_type": "code",
   "execution_count": 16,
   "metadata": {},
   "outputs": [],
   "source": [
    "import warnings\n",
    "warnings.filterwarnings('ignore')"
   ]
  },
  {
   "cell_type": "code",
   "execution_count": null,
   "metadata": {},
   "outputs": [],
   "source": [
    "!pip install elasticsearch"
   ]
  },
  {
   "cell_type": "code",
   "execution_count": 17,
   "metadata": {},
   "outputs": [
    {
     "data": {
      "text/plain": [
       "ObjectApiResponse({'acknowledged': True, 'shards_acknowledged': True, 'index': 'my_nori'})"
      ]
     },
     "execution_count": 17,
     "metadata": {},
     "output_type": "execute_result"
    }
   ],
   "source": [
    "from lib.search import analyze_morph, create_index, DEFAULT_SETTINGS, DEFAULT_MAPPINGS\n",
    "# 인덱스 생성하기\n",
    "create_index(\n",
    "    index_name=\"my_nori\",\n",
    "    settings=DEFAULT_SETTINGS,\n",
    "    mappings=DEFAULT_MAPPINGS,\n",
    "    hosts=url\n",
    ")"
   ]
  },
  {
   "cell_type": "code",
   "execution_count": 18,
   "metadata": {},
   "outputs": [
    {
     "data": {
      "text/html": [
       "<div>\n",
       "<style scoped>\n",
       "    .dataframe tbody tr th:only-of-type {\n",
       "        vertical-align: middle;\n",
       "    }\n",
       "\n",
       "    .dataframe tbody tr th {\n",
       "        vertical-align: top;\n",
       "    }\n",
       "\n",
       "    .dataframe thead th {\n",
       "        text-align: right;\n",
       "    }\n",
       "</style>\n",
       "<table border=\"1\" class=\"dataframe\">\n",
       "  <thead>\n",
       "    <tr style=\"text-align: right;\">\n",
       "      <th></th>\n",
       "      <th>token</th>\n",
       "      <th>start_offset</th>\n",
       "      <th>end_offset</th>\n",
       "      <th>type</th>\n",
       "      <th>position</th>\n",
       "    </tr>\n",
       "  </thead>\n",
       "  <tbody>\n",
       "    <tr>\n",
       "      <th>0</th>\n",
       "      <td>한라</td>\n",
       "      <td>0</td>\n",
       "      <td>2</td>\n",
       "      <td>word</td>\n",
       "      <td>0</td>\n",
       "    </tr>\n",
       "    <tr>\n",
       "      <th>1</th>\n",
       "      <td>산</td>\n",
       "      <td>2</td>\n",
       "      <td>3</td>\n",
       "      <td>word</td>\n",
       "      <td>1</td>\n",
       "    </tr>\n",
       "    <tr>\n",
       "      <th>2</th>\n",
       "      <td>과</td>\n",
       "      <td>3</td>\n",
       "      <td>4</td>\n",
       "      <td>word</td>\n",
       "      <td>2</td>\n",
       "    </tr>\n",
       "    <tr>\n",
       "      <th>3</th>\n",
       "      <td>백두</td>\n",
       "      <td>5</td>\n",
       "      <td>7</td>\n",
       "      <td>word</td>\n",
       "      <td>3</td>\n",
       "    </tr>\n",
       "    <tr>\n",
       "      <th>4</th>\n",
       "      <td>산</td>\n",
       "      <td>7</td>\n",
       "      <td>8</td>\n",
       "      <td>word</td>\n",
       "      <td>4</td>\n",
       "    </tr>\n",
       "  </tbody>\n",
       "</table>\n",
       "</div>"
      ],
      "text/plain": [
       "  token  start_offset  end_offset  type  position\n",
       "0    한라             0           2  word         0\n",
       "1     산             2           3  word         1\n",
       "2     과             3           4  word         2\n",
       "3    백두             5           7  word         3\n",
       "4     산             7           8  word         4"
      ]
     },
     "execution_count": 18,
     "metadata": {},
     "output_type": "execute_result"
    }
   ],
   "source": [
    "# 형태소 분석 테스트\n",
    "result = analyze_morph(\n",
    "    text=\"한라산과 백두산\",\n",
    "    analyzer=\"nori_analyzer\",\n",
    "    index=\"my_nori\",\n",
    "    hosts=url\n",
    ")\n",
    "pd.DataFrame(result.body['tokens'])"
   ]
  },
  {
   "cell_type": "markdown",
   "metadata": {},
   "source": [
    "#### ✏️ 연습 문제 (Practice Problems)\n",
    "\n",
    "1. 다음 10개의 문장을 nori_analyzer로 분석하고, 단어별 등장횟수를 pandas DataFrame으로 정리해보세요\n",
    "   - from collections import Counter 클래스를 활용하세요.\n",
    "   - 강사가 공유한 analyze_morph 함수를 활용하세요.\n",
    "\n",
    "2. 상위 10개 단어를 시각화해보세요.\n",
    "    - plotly express 라이브러리를 활용하세요."
   ]
  },
  {
   "cell_type": "code",
   "execution_count": 21,
   "metadata": {},
   "outputs": [],
   "source": [
    "texts = [\n",
    "    \"안녕하세요. 오늘 날씨가 정말 좋네요!\",\n",
    "    \"데이터 사이언스는 매우 흥미로운 분야입니다.\",\n",
    "    \"엘라스틱서치를 이용한 텍스트 마이닝을 배우고 있어요.\",\n",
    "    \"머신러닝과 딥러닝은 인공지능의 핵심 기술입니다.\",\n",
    "    \"파이썬은 데이터 분석에 매우 유용한 프로그래밍 언어입니다.\",\n",
    "    \"자연어 처리 기술이 빠르게 발전하고 있습니다.\",\n",
    "    \"빅데이터 시대에 텍스트 마이닝의 중요성이 증가하고 있어요.\",\n",
    "    \"검색 엔진은 우리 일상생활에서 없어서는 안 될 도구입니다.\",\n",
    "    \"한국어 형태소 분석은 자연어 처리의 첫 번째 단계입니다.\",\n",
    "    \"데이터 과학자는 다양한 분석 도구를 활용해야 합니다.\"\n",
    "]\n",
    "\n",
    "df = pd.DataFrame(texts, columns=[\"sentences\"])\n",
    "\n",
    "df['tokens'] = df.sentences.apply(lambda sent : analyze_morph(sent, analyzer=\"nori_analyzer\", index=\"my_nori\", hosts=url).body['tokens'])\n"
   ]
  },
  {
   "cell_type": "code",
   "execution_count": 26,
   "metadata": {},
   "outputs": [],
   "source": [
    "data = df.tokens.apply(lambda tokens : [token['token'] for token in tokens]).values.tolist()"
   ]
  },
  {
   "cell_type": "code",
   "execution_count": 31,
   "metadata": {},
   "outputs": [
    {
     "data": {
      "text/plain": [
       "['안녕',\n",
       " '하',\n",
       " '시',\n",
       " '어요',\n",
       " '오늘',\n",
       " '날씨',\n",
       " '가',\n",
       " '정말',\n",
       " '좋',\n",
       " '네요',\n",
       " '데이터',\n",
       " '사이언스',\n",
       " '는',\n",
       " '매우',\n",
       " '흥미',\n",
       " '롭',\n",
       " 'ᆫ',\n",
       " '분야',\n",
       " '이',\n",
       " 'ᄇ니다',\n",
       " '엘라스틱',\n",
       " '서치',\n",
       " '를',\n",
       " '이용',\n",
       " '하',\n",
       " 'ᆫ',\n",
       " '텍스트',\n",
       " '마이닝',\n",
       " '을',\n",
       " '배우',\n",
       " '고',\n",
       " '있',\n",
       " '어요',\n",
       " '머신',\n",
       " '러닝',\n",
       " '과',\n",
       " '딥',\n",
       " '러닝',\n",
       " '은',\n",
       " '인공',\n",
       " '지능',\n",
       " '의',\n",
       " '핵심',\n",
       " '기술',\n",
       " '이',\n",
       " 'ᄇ니다',\n",
       " '파이썬',\n",
       " '은',\n",
       " '데이터',\n",
       " '분석',\n",
       " '에',\n",
       " '매우',\n",
       " '유용',\n",
       " '하',\n",
       " 'ᆫ',\n",
       " '프로그래밍',\n",
       " '언어',\n",
       " '이',\n",
       " 'ᄇ니다',\n",
       " '자연',\n",
       " '어',\n",
       " '처리',\n",
       " '기술',\n",
       " '이',\n",
       " '빠르',\n",
       " '게',\n",
       " '발전',\n",
       " '하',\n",
       " '고',\n",
       " '있',\n",
       " '습니다',\n",
       " '빅',\n",
       " '데이터',\n",
       " '시대',\n",
       " '에',\n",
       " '텍스트',\n",
       " '마이닝',\n",
       " '의',\n",
       " '중요',\n",
       " '성',\n",
       " '이',\n",
       " '증가',\n",
       " '하',\n",
       " '고',\n",
       " '있',\n",
       " '어요',\n",
       " '검색',\n",
       " '엔진',\n",
       " '은',\n",
       " '우리',\n",
       " '일상',\n",
       " '생활',\n",
       " '에서',\n",
       " '없',\n",
       " '어서',\n",
       " '는',\n",
       " '안',\n",
       " '되',\n",
       " 'ᆯ',\n",
       " '도구',\n",
       " '이',\n",
       " 'ᄇ니다',\n",
       " '한국',\n",
       " '어',\n",
       " '형태',\n",
       " '소',\n",
       " '분석',\n",
       " '은',\n",
       " '자연',\n",
       " '어',\n",
       " '처리',\n",
       " '의',\n",
       " '첫',\n",
       " '번',\n",
       " '째',\n",
       " '단계',\n",
       " '이',\n",
       " 'ᄇ니다',\n",
       " '데이터',\n",
       " '과학',\n",
       " '자',\n",
       " '는',\n",
       " '다양',\n",
       " '하',\n",
       " 'ᆫ',\n",
       " '분석',\n",
       " '도구',\n",
       " '를',\n",
       " '활용',\n",
       " '하',\n",
       " '아야',\n",
       " '하',\n",
       " 'ᄇ니다']"
      ]
     },
     "execution_count": 31,
     "metadata": {},
     "output_type": "execute_result"
    }
   ],
   "source": [
    "words = []\n",
    "for record in data:\n",
    "    words.extend(record)\n",
    "words\n"
   ]
  },
  {
   "cell_type": "code",
   "execution_count": 33,
   "metadata": {},
   "outputs": [
    {
     "data": {
      "text/plain": [
       "{'안녕': 1,\n",
       " '하': 8,\n",
       " '시': 1,\n",
       " '어요': 3,\n",
       " '오늘': 1,\n",
       " '날씨': 1,\n",
       " '가': 1,\n",
       " '정말': 1,\n",
       " '좋': 1,\n",
       " '네요': 1,\n",
       " '데이터': 4,\n",
       " '사이언스': 1,\n",
       " '는': 3,\n",
       " '매우': 2,\n",
       " '흥미': 1,\n",
       " '롭': 1,\n",
       " 'ᆫ': 4,\n",
       " '분야': 1,\n",
       " '이': 7,\n",
       " 'ᄇ니다': 6,\n",
       " '엘라스틱': 1,\n",
       " '서치': 1,\n",
       " '를': 2,\n",
       " '이용': 1,\n",
       " '텍스트': 2,\n",
       " '마이닝': 2,\n",
       " '을': 1,\n",
       " '배우': 1,\n",
       " '고': 3,\n",
       " '있': 3,\n",
       " '머신': 1,\n",
       " '러닝': 2,\n",
       " '과': 1,\n",
       " '딥': 1,\n",
       " '은': 4,\n",
       " '인공': 1,\n",
       " '지능': 1,\n",
       " '의': 3,\n",
       " '핵심': 1,\n",
       " '기술': 2,\n",
       " '파이썬': 1,\n",
       " '분석': 3,\n",
       " '에': 2,\n",
       " '유용': 1,\n",
       " '프로그래밍': 1,\n",
       " '언어': 1,\n",
       " '자연': 2,\n",
       " '어': 3,\n",
       " '처리': 2,\n",
       " '빠르': 1,\n",
       " '게': 1,\n",
       " '발전': 1,\n",
       " '습니다': 1,\n",
       " '빅': 1,\n",
       " '시대': 1,\n",
       " '중요': 1,\n",
       " '성': 1,\n",
       " '증가': 1,\n",
       " '검색': 1,\n",
       " '엔진': 1,\n",
       " '우리': 1,\n",
       " '일상': 1,\n",
       " '생활': 1,\n",
       " '에서': 1,\n",
       " '없': 1,\n",
       " '어서': 1,\n",
       " '안': 1,\n",
       " '되': 1,\n",
       " 'ᆯ': 1,\n",
       " '도구': 2,\n",
       " '한국': 1,\n",
       " '형태': 1,\n",
       " '소': 1,\n",
       " '첫': 1,\n",
       " '번': 1,\n",
       " '째': 1,\n",
       " '단계': 1,\n",
       " '과학': 1,\n",
       " '자': 1,\n",
       " '다양': 1,\n",
       " '활용': 1,\n",
       " '아야': 1}"
      ]
     },
     "execution_count": 33,
     "metadata": {},
     "output_type": "execute_result"
    }
   ],
   "source": [
    "from collections import Counter\n",
    "\n",
    "dict(Counter(words))"
   ]
  },
  {
   "cell_type": "markdown",
   "metadata": {},
   "source": [
    "### 2. 한글 텍스트 분석을 위한 한글 전용 라이브러리 (MeCab) 기초 사용법"
   ]
  },
  {
   "cell_type": "markdown",
   "metadata": {},
   "source": [
    "공식문서 : https://github.com/SamuraiT/mecab-python3"
   ]
  },
  {
   "cell_type": "markdown",
   "metadata": {},
   "source": [
    "#### 💡 개념 (Concept)\n",
    "* `nltk`, `mecab-python`: 자연어 처리를 위한 도구 모음입니다. **NLTK**는 주로 영문 텍스트, **mecab-python**은 한국어 텍스트의 형태소 분석(단어를 의미있는 최소 단위로 쪼개는 작업)에 필수적입니다.\n",
    "* `wordcloud`: 단어의 빈도를 시각적으로 아름답게 표현하는 워드클라우드를 생성합니다."
   ]
  },
  {
   "cell_type": "markdown",
   "metadata": {},
   "source": [
    "#### 💻 예시 코드 (Example Code)\n",
    "\n",
    "텍스트 분석 프로젝트 시작 시, 아래와 같이 필요한 라이브러리들을 `import` 하는 것으로 시작합니다. 각 라이브러리에 별칭(alias)을 부여하여(예: `pandas as pd`), 코드를 더 간결하게 작성할 수 있습니다."
   ]
  },
  {
   "cell_type": "code",
   "execution_count": 2,
   "metadata": {},
   "outputs": [],
   "source": [
    "# 데이터 시각화\n",
    "import plotly.express as px\n",
    "\n",
    "# 데이터 처리 및 연산\n",
    "import pandas as pd\n",
    "import numpy as np\n",
    "pd.options.plotting.backend = \"plotly\"\n",
    "\n"
   ]
  },
  {
   "cell_type": "code",
   "execution_count": 3,
   "metadata": {},
   "outputs": [
    {
     "name": "stdout",
     "output_type": "stream",
     "text": [
      "라이브러리 임포트 준비 완료!\n"
     ]
    }
   ],
   "source": [
    "import MeCab\n"
   ]
  },
  {
   "cell_type": "code",
   "execution_count": null,
   "metadata": {},
   "outputs": [],
   "source": [
    "dir(MeCab)\n",
    "\"\"\"\n",
    "   ['DictionaryInfo',\n",
    " 'DictionaryInfo_swigregister',\n",
    " 'Lattice',\n",
    " 'Lattice_swigregister',\n",
    " 'MECAB_ALLOCATE_SENTENCE',\n",
    " 'MECAB_ALL_MORPHS',\n",
    " 'MECAB_ALTERNATIVE',\n",
    " 'MECAB_ANY_BOUNDARY',\n",
    " 'MECAB_BOS_NODE',\n",
    " 'MECAB_EON_NODE',\n",
    " 'MECAB_EOS_NODE',\n",
    " 'MECAB_INSIDE_TOKEN',\n",
    " 'MECAB_MARGINAL_PROB',\n",
    " 'MECAB_NBEST',\n",
    " 'MECAB_NOR_NODE',\n",
    " 'MECAB_ONE_BEST',\n",
    " 'MECAB_PARTIAL',\n",
    " 'MECAB_SYS_DIC',\n",
    " 'MECAB_TOKEN_BOUNDARY',\n",
    " 'MECAB_UNK_DIC',\n",
    " 'MECAB_UNK_NODE',\n",
    " 'MECAB_USR_DIC',\n",
    " 'Model',\n",
    " 'Model_create',\n",
    " 'Model_swigregister',\n",
    " 'Model_version',\n",
    " 'Node',\n",
    " 'Node_swigregister',\n",
    " 'Path',\n",
    " 'Path_swigregister',\n",
    " 'Tagger',\n",
    " 'Tagger_create',\n",
    " 'Tagger_swigregister',\n",
    " 'Tagger_version',\n",
    " 'VERSION',\n",
    "...\n",
    "] \n",
    "\"\"\""
   ]
  },
  {
   "cell_type": "code",
   "execution_count": 10,
   "metadata": {},
   "outputs": [
    {
     "data": {
      "text/plain": [
       "'0.996/ko-0.9.0'"
      ]
     },
     "execution_count": 10,
     "metadata": {},
     "output_type": "execute_result"
    }
   ],
   "source": [
    "MeCab.VERSION"
   ]
  },
  {
   "cell_type": "code",
   "execution_count": 7,
   "metadata": {},
   "outputs": [
    {
     "name": "stdout",
     "output_type": "stream",
     "text": [
      "원문: 안녕하세요. 오늘 날씨가 정말 좋네요!\n",
      "형태소 분석 결과:\n",
      "안녕\tNNG,행위,T,안녕,*,*,*,*\n",
      "하\tXSV,*,F,하,*,*,*,*\n",
      "세요\tEP+EF,*,F,세요,Inflect,EP,EF,시/EP/*+어요/EF/*\n",
      ".\tSF,*,*,*,*,*,*,*\n",
      "오늘\tMAG,성분부사|시간부사,T,오늘,*,*,*,*\n",
      "날씨\tNNG,*,F,날씨,*,*,*,*\n",
      "가\tJKS,*,F,가,*,*,*,*\n",
      "정말\tMAG,문장부사|양상부사,T,정말,*,*,*,*\n",
      "좋\tVA,*,T,좋,*,*,*,*\n",
      "네요\tEF,*,F,네요,*,*,*,*\n",
      "!\tSF,*,*,*,*,*,*,*\n",
      "EOS\n",
      "\n",
      "\n",
      "==================================================\n",
      "\n"
     ]
    }
   ],
   "source": [
    "# MeCab 태거 객체 생성\n",
    "mecab = MeCab.Tagger()\n",
    "\n",
    "# 기본 형태소 분석\n",
    "text = \"안녕하세요. 오늘 날씨가 정말 좋네요!\"\n",
    "print(\"원문:\", text)\n",
    "print(\"형태소 분석 결과:\")\n",
    "print(mecab.parse(text))\n",
    "\n",
    "print(\"\\n\" + \"=\"*50 + \"\\n\")"
   ]
  },
  {
   "cell_type": "code",
   "execution_count": 8,
   "metadata": {},
   "outputs": [
    {
     "name": "stdout",
     "output_type": "stream",
     "text": [
      "노드 단위 상세 분석:\n",
      "표면형: 안녕\n",
      "품사 정보: NNG,행위,T,안녕,*,*,*,*\n",
      "비용: 3602\n",
      "------------------------------\n",
      "표면형: 하\n",
      "품사 정보: XSV,*,F,하,*,*,*,*\n",
      "비용: 2823\n",
      "------------------------------\n",
      "표면형: 세요\n",
      "품사 정보: EP+EF,*,F,세요,Inflect,EP,EF,시/EP/*+어요/EF/*\n",
      "비용: 1035\n",
      "------------------------------\n",
      "표면형: .\n",
      "품사 정보: SF,*,*,*,*,*,*,*\n",
      "비용: 2605\n",
      "------------------------------\n",
      "표면형: 오늘\n",
      "품사 정보: MAG,성분부사|시간부사,T,오늘,*,*,*,*\n",
      "비용: 3105\n",
      "------------------------------\n",
      "표면형: 날씨\n",
      "품사 정보: NNG,*,F,날씨,*,*,*,*\n",
      "비용: 3349\n",
      "------------------------------\n",
      "표면형: 가\n",
      "품사 정보: JKS,*,F,가,*,*,*,*\n",
      "비용: 2357\n",
      "------------------------------\n",
      "표면형: 정말\n",
      "품사 정보: MAG,문장부사|양상부사,T,정말,*,*,*,*\n",
      "비용: 1947\n",
      "------------------------------\n",
      "표면형: 좋\n",
      "품사 정보: VA,*,T,좋,*,*,*,*\n",
      "비용: 2125\n",
      "------------------------------\n",
      "표면형: 네요\n",
      "품사 정보: EF,*,F,네요,*,*,*,*\n",
      "비용: 544\n",
      "------------------------------\n",
      "표면형: !\n",
      "품사 정보: SF,*,*,*,*,*,*,*\n",
      "비용: 2114\n",
      "------------------------------\n",
      "\n",
      "==================================================\n",
      "\n"
     ]
    }
   ],
   "source": [
    "# 노드 단위로 상세 분석\n",
    "print(\"노드 단위 상세 분석:\")\n",
    "node = mecab.parseToNode(text)\n",
    "while node:\n",
    "    if node.surface:  # 빈 노드가 아닌 경우만\n",
    "        print(f\"표면형: {node.surface}\")\n",
    "        print(f\"품사 정보: {node.feature}\")\n",
    "        print(f\"비용: {node.cost}\")\n",
    "        print(\"-\" * 30)\n",
    "    node = node.next\n",
    "\n",
    "print(\"\\n\" + \"=\"*50 + \"\\n\")\n"
   ]
  },
  {
   "cell_type": "code",
   "execution_count": 12,
   "metadata": {},
   "outputs": [
    {
     "name": "stdout",
     "output_type": "stream",
     "text": [
      "예제 1: 한국어 자연어 처리는 어렵지만 재미있습니다.\n",
      "한국어\tNNG,*,F,한국어,Compound,*,*,한국/NNG/*+어/NNG/*\n",
      "자연어\tNNG,*,F,자연어,Compound,*,*,자연/NNG/*+어/NNG/*\n",
      "처리\tNNG,행위,F,처리,*,*,*,*\n",
      "는\tJX,*,T,는,*,*,*,*\n",
      "어렵\tVA,*,T,어렵,*,*,*,*\n",
      "지만\tEC,*,T,지만,*,*,*,*\n",
      "재미있\tVA,*,T,재미있,Inflect,VA,VA,재밌/VA/*\n",
      "습니다\tEF,*,F,습니다,*,*,*,*\n",
      ".\tSF,*,*,*,*,*,*,*\n",
      "EOS\n",
      "\n",
      "\n",
      "예제 2: 서울대학교에서 공부하고 있어요.\n",
      "서울대\tNNP,*,F,서울대,Compound,*,*,서울/NNG/*+대/NNG/*\n",
      "학교\tNNG,장소,F,학교,*,*,*,*\n",
      "에서\tJKB,*,F,에서,*,*,*,*\n",
      "공부\tNNG,행위,F,공부,*,*,*,*\n",
      "하\tXSV,*,F,하,*,*,*,*\n",
      "고\tEC,*,F,고,*,*,*,*\n",
      "있\tVX,*,T,있,*,*,*,*\n",
      "어요\tEF,*,F,어요,*,*,*,*\n",
      ".\tSF,*,*,*,*,*,*,*\n",
      "EOS\n",
      "\n",
      "\n",
      "예제 3: 오늘은 2025년 2월 11일입니다.\n",
      "오늘\tNNG,*,T,오늘,*,*,*,*\n",
      "은\tJX,*,T,은,*,*,*,*\n",
      "2025\tSN,*,*,*,*,*,*,*\n",
      "년\tNNBC,*,T,년,*,*,*,*\n",
      "2\tSN,*,*,*,*,*,*,*\n",
      "월\tNNBC,*,T,월,*,*,*,*\n",
      "11\tSN,*,*,*,*,*,*,*\n",
      "일\tNNBC,*,T,일,*,*,*,*\n",
      "입니다\tVCP+EF,*,F,입니다,Inflect,VCP,EF,이/VCP/*+ᄇ니다/EF/*\n",
      ".\tSF,*,*,*,*,*,*,*\n",
      "EOS\n",
      "\n",
      "\n"
     ]
    }
   ],
   "source": [
    "# 다양한 텍스트로 테스트\n",
    "test_sentences = [\n",
    "    \"한국어 자연어 처리는 어렵지만 재미있습니다.\",\n",
    "    \"서울대학교에서 공부하고 있어요.\",\n",
    "    \"오늘은 2025년 2월 11일입니다.\"\n",
    "]\n",
    "\n",
    "for i, sentence in enumerate(test_sentences, 1):\n",
    "    print(f\"예제 {i}: {sentence}\")\n",
    "    result = mecab.parse(sentence)\n",
    "    print(result)\n",
    "    print()\n"
   ]
  },
  {
   "cell_type": "markdown",
   "metadata": {},
   "source": [
    "### 워드 클라우드 시각화 간단 예시\n"
   ]
  },
  {
   "cell_type": "code",
   "execution_count": 14,
   "metadata": {},
   "outputs": [],
   "source": [
    "data_sentences = [\n",
    "    \"빅데이터 분석을 통해 고객의 구매 패턴을 파악할 수 있습니다.\",\n",
    "    \"머신러닝 알고리즘으로 데이터를 학습시켜 예측 모델을 만들었습니다.\",\n",
    "    \"데이터베이스에서 필요한 정보를 쿼리로 추출하는 작업을 진행했습니다.\",\n",
    "    \"데이터 시각화를 통해 복잡한 정보를 직관적으로 표현할 수 있습니다.\",\n",
    "    \"인공지능 모델 훈련을 위해 대용량 데이터셋을 준비해야 합니다.\",\n",
    "    \"데이터 전처리 과정에서 결측값과 이상치를 제거하는 것이 중요합니다.\",\n",
    "    \"클라우드 플랫폼을 활용하여 데이터 저장소를 구축했습니다.\",\n",
    "    \"실시간 데이터 스트리밍을 통해 즉시 분석 결과를 확인할 수 있습니다.\",\n",
    "    \"데이터 마이닝 기법으로 숨겨진 패턴을 발견하는 것이 목표입니다.\",\n",
    "    \"정형 데이터와 비정형 데이터를 통합하여 분석하는 프로젝트를 수행했습니다.\",\n",
    "    \"데이터 웨어하우스 설계를 통해 효율적인 데이터 관리 시스템을 구축했습니다.\",\n",
    "    \"통계 분석을 활용하여 데이터의 분포와 상관관계를 파악했습니다.\",\n",
    "    \"데이터 품질 관리를 위해 정기적인 검증 프로세스를 도입했습니다.\",\n",
    "    \"오픈 데이터를 활용하여 공공 서비스 개선 방안을 제시했습니다.\",\n",
    "    \"데이터 거버넌스 정책을 수립하여 조직 내 데이터 활용을 체계화했습니다.\",\n",
    "    \"센서 데이터를 수집하여 IoT 기반 모니터링 시스템을 개발했습니다.\",\n",
    "    \"소셜 미디어 데이터 분석을 통해 브랜드 인지도를 측정했습니다.\",\n",
    "    \"데이터 레이크 아키텍처를 도입하여 다양한 형태의 데이터를 저장했습니다.\",\n",
    "    \"예측 분석 모델을 통해 미래 트렌드를 예측하는 시스템을 구축했습니다.\",\n",
    "    \"데이터 보안과 개인정보 보호를 위한 암호화 기술을 적용했습니다.\",\n",
    "    \"A/B 테스트 데이터를 분석하여 최적의 마케팅 전략을 수립했습니다.\",\n",
    "    \"지리정보 데이터를 활용하여 위치 기반 서비스를 개발했습니다.\"\n",
    "]\n",
    "\n",
    "# 모든 문장을 하나의 텍스트로 결합\n",
    "all_text = \" \".join(data_sentences)\n",
    "\n",
    "# MeCab으로 형태소 분석\n",
    "node = mecab.parseToNode(all_text)\n",
    "keywords = []\n",
    "\n",
    "# 명사, 동사, 형용사만 추출 (핵심 키워드)\n",
    "target_pos = ['NNG', 'NNP', 'VV', 'VA']  # 일반명사, 고유명사, 동사, 형용사\n",
    "\n",
    "while node:\n",
    "    if node.surface and len(node.surface) > 1:  # 한 글자 이상의 단어만\n",
    "        pos = node.feature.split(',')[0]  # 품사 정보 추출\n",
    "        if pos in target_pos:\n",
    "            keywords.append(node.surface)\n",
    "    node = node.next"
   ]
  },
  {
   "cell_type": "code",
   "execution_count": 16,
   "metadata": {},
   "outputs": [
    {
     "name": "stdout",
     "output_type": "stream",
     "text": [
      "추출된 총 키워드 수: 156\n",
      "고유 키워드 수: 103\n",
      "\n",
      "상위 20개 키워드:\n",
      "데이터: 24회\n",
      "분석: 7회\n",
      "활용: 5회\n",
      "정보: 4회\n",
      "예측: 3회\n",
      "모델: 3회\n",
      "구축: 3회\n",
      "시스템: 3회\n",
      "패턴: 2회\n",
      "파악: 2회\n",
      "정형: 2회\n",
      "관리: 2회\n",
      "도입: 2회\n",
      "서비스: 2회\n",
      "수립: 2회\n",
      "기반: 2회\n",
      "개발: 2회\n",
      "고객: 1회\n",
      "구매: 1회\n",
      "머신: 1회\n"
     ]
    }
   ],
   "source": [
    "# 키워드 빈도 계산\n",
    "from collections import Counter\n",
    "keyword_counts = Counter(keywords)\n",
    "\n",
    "print(f\"추출된 총 키워드 수: {len(keywords)}\")\n",
    "print(f\"고유 키워드 수: {len(keyword_counts)}\")\n",
    "print(\"\\n상위 20개 키워드:\")\n",
    "for keyword, count in keyword_counts.most_common(20):\n",
    "    print(f\"{keyword}: {count}회\")"
   ]
  },
  {
   "cell_type": "code",
   "execution_count": null,
   "metadata": {},
   "outputs": [],
   "source": [
    "!pip install wordcloud"
   ]
  },
  {
   "cell_type": "code",
   "execution_count": 34,
   "metadata": {},
   "outputs": [
    {
     "name": "stdout",
     "output_type": "stream",
     "text": [
      "나눔고딕 폰트가 /usr/share/fonts/truetype/NanumGothic-Regular.ttf에 성공적으로 다운로드되었습니다.\n"
     ]
    }
   ],
   "source": [
    "import requests\n",
    "import os\n",
    "\n",
    "# 나눔고딕 폰트 직접 다운로드\n",
    "font_url = \"https://github.com/google/fonts/raw/main/ofl/nanumgothic/NanumGothic-Regular.ttf\"\n",
    "font_path = \"/usr/share/fonts/truetype/NanumGothic-Regular.ttf\"\n",
    "\n",
    "# 폰트 디렉토리 생성\n",
    "os.makedirs(os.path.dirname(font_path), exist_ok=True)\n",
    "\n",
    "# 폰트 파일 다운로드\n",
    "response = requests.get(font_url)\n",
    "if response.status_code == 200:\n",
    "    with open(font_path, 'wb') as f:\n",
    "        f.write(response.content)\n",
    "    print(f\"나눔고딕 폰트가 {font_path}에 성공적으로 다운로드되었습니다.\")\n",
    "else:\n",
    "    print(f\"폰트 다운로드 실패: {response.status_code}\")"
   ]
  },
  {
   "cell_type": "code",
   "execution_count": 35,
   "metadata": {},
   "outputs": [],
   "source": [
    "# WordCloud 시각화\n",
    "import plotly.graph_objects as go\n",
    "from wordcloud import WordCloud\n",
    "import numpy as np\n",
    "from PIL import Image\n",
    "import io\n",
    "import base64\n",
    "\n",
    "# WordCloud 생성\n",
    "wordcloud = WordCloud(\n",
    "    font_path=font_path,\n",
    "    width=800, \n",
    "    height=600, \n",
    "    background_color='white',\n",
    "    max_words=100,\n",
    "    colormap='viridis'\n",
    ").generate_from_frequencies(keyword_counts)\n"
   ]
  },
  {
   "cell_type": "code",
   "execution_count": 36,
   "metadata": {},
   "outputs": [
    {
     "data": {
      "application/vnd.plotly.v1+json": {
       "config": {
        "plotlyServerURL": "https://plot.ly"
       },
       "data": [],
       "layout": {
        "height": 600,
        "images": [
         {
          "layer": "below",
          "opacity": 1,
          "sizex": 1,
          "sizey": 1,
          "sizing": "stretch",
          "source": "data:image/png;base64,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",
          "x": 0,
          "xref": "x",
          "y": 1,
          "yref": "y"
         }
        ],
        "margin": {
         "b": 20,
         "l": 20,
         "r": 20,
         "t": 60
        },
        "template": {
         "data": {
          "bar": [
           {
            "error_x": {
             "color": "#2a3f5f"
            },
            "error_y": {
             "color": "#2a3f5f"
            },
            "marker": {
             "line": {
              "color": "#E5ECF6",
              "width": 0.5
             },
             "pattern": {
              "fillmode": "overlay",
              "size": 10,
              "solidity": 0.2
             }
            },
            "type": "bar"
           }
          ],
          "barpolar": [
           {
            "marker": {
             "line": {
              "color": "#E5ECF6",
              "width": 0.5
             },
             "pattern": {
              "fillmode": "overlay",
              "size": 10,
              "solidity": 0.2
             }
            },
            "type": "barpolar"
           }
          ],
          "carpet": [
           {
            "aaxis": {
             "endlinecolor": "#2a3f5f",
             "gridcolor": "white",
             "linecolor": "white",
             "minorgridcolor": "white",
             "startlinecolor": "#2a3f5f"
            },
            "baxis": {
             "endlinecolor": "#2a3f5f",
             "gridcolor": "white",
             "linecolor": "white",
             "minorgridcolor": "white",
             "startlinecolor": "#2a3f5f"
            },
            "type": "carpet"
           }
          ],
          "choropleth": [
           {
            "colorbar": {
             "outlinewidth": 0,
             "ticks": ""
            },
            "type": "choropleth"
           }
          ],
          "contour": [
           {
            "colorbar": {
             "outlinewidth": 0,
             "ticks": ""
            },
            "colorscale": [
             [
              0,
              "#0d0887"
             ],
             [
              0.1111111111111111,
              "#46039f"
             ],
             [
              0.2222222222222222,
              "#7201a8"
             ],
             [
              0.3333333333333333,
              "#9c179e"
             ],
             [
              0.4444444444444444,
              "#bd3786"
             ],
             [
              0.5555555555555556,
              "#d8576b"
             ],
             [
              0.6666666666666666,
              "#ed7953"
             ],
             [
              0.7777777777777778,
              "#fb9f3a"
             ],
             [
              0.8888888888888888,
              "#fdca26"
             ],
             [
              1,
              "#f0f921"
             ]
            ],
            "type": "contour"
           }
          ],
          "contourcarpet": [
           {
            "colorbar": {
             "outlinewidth": 0,
             "ticks": ""
            },
            "type": "contourcarpet"
           }
          ],
          "heatmap": [
           {
            "colorbar": {
             "outlinewidth": 0,
             "ticks": ""
            },
            "colorscale": [
             [
              0,
              "#0d0887"
             ],
             [
              0.1111111111111111,
              "#46039f"
             ],
             [
              0.2222222222222222,
              "#7201a8"
             ],
             [
              0.3333333333333333,
              "#9c179e"
             ],
             [
              0.4444444444444444,
              "#bd3786"
             ],
             [
              0.5555555555555556,
              "#d8576b"
             ],
             [
              0.6666666666666666,
              "#ed7953"
             ],
             [
              0.7777777777777778,
              "#fb9f3a"
             ],
             [
              0.8888888888888888,
              "#fdca26"
             ],
             [
              1,
              "#f0f921"
             ]
            ],
            "type": "heatmap"
           }
          ],
          "histogram": [
           {
            "marker": {
             "pattern": {
              "fillmode": "overlay",
              "size": 10,
              "solidity": 0.2
             }
            },
            "type": "histogram"
           }
          ],
          "histogram2d": [
           {
            "colorbar": {
             "outlinewidth": 0,
             "ticks": ""
            },
            "colorscale": [
             [
              0,
              "#0d0887"
             ],
             [
              0.1111111111111111,
              "#46039f"
             ],
             [
              0.2222222222222222,
              "#7201a8"
             ],
             [
              0.3333333333333333,
              "#9c179e"
             ],
             [
              0.4444444444444444,
              "#bd3786"
             ],
             [
              0.5555555555555556,
              "#d8576b"
             ],
             [
              0.6666666666666666,
              "#ed7953"
             ],
             [
              0.7777777777777778,
              "#fb9f3a"
             ],
             [
              0.8888888888888888,
              "#fdca26"
             ],
             [
              1,
              "#f0f921"
             ]
            ],
            "type": "histogram2d"
           }
          ],
          "histogram2dcontour": [
           {
            "colorbar": {
             "outlinewidth": 0,
             "ticks": ""
            },
            "colorscale": [
             [
              0,
              "#0d0887"
             ],
             [
              0.1111111111111111,
              "#46039f"
             ],
             [
              0.2222222222222222,
              "#7201a8"
             ],
             [
              0.3333333333333333,
              "#9c179e"
             ],
             [
              0.4444444444444444,
              "#bd3786"
             ],
             [
              0.5555555555555556,
              "#d8576b"
             ],
             [
              0.6666666666666666,
              "#ed7953"
             ],
             [
              0.7777777777777778,
              "#fb9f3a"
             ],
             [
              0.8888888888888888,
              "#fdca26"
             ],
             [
              1,
              "#f0f921"
             ]
            ],
            "type": "histogram2dcontour"
           }
          ],
          "mesh3d": [
           {
            "colorbar": {
             "outlinewidth": 0,
             "ticks": ""
            },
            "type": "mesh3d"
           }
          ],
          "parcoords": [
           {
            "line": {
             "colorbar": {
              "outlinewidth": 0,
              "ticks": ""
             }
            },
            "type": "parcoords"
           }
          ],
          "pie": [
           {
            "automargin": true,
            "type": "pie"
           }
          ],
          "scatter": [
           {
            "fillpattern": {
             "fillmode": "overlay",
             "size": 10,
             "solidity": 0.2
            },
            "type": "scatter"
           }
          ],
          "scatter3d": [
           {
            "line": {
             "colorbar": {
              "outlinewidth": 0,
              "ticks": ""
             }
            },
            "marker": {
             "colorbar": {
              "outlinewidth": 0,
              "ticks": ""
             }
            },
            "type": "scatter3d"
           }
          ],
          "scattercarpet": [
           {
            "marker": {
             "colorbar": {
              "outlinewidth": 0,
              "ticks": ""
             }
            },
            "type": "scattercarpet"
           }
          ],
          "scattergeo": [
           {
            "marker": {
             "colorbar": {
              "outlinewidth": 0,
              "ticks": ""
             }
            },
            "type": "scattergeo"
           }
          ],
          "scattergl": [
           {
            "marker": {
             "colorbar": {
              "outlinewidth": 0,
              "ticks": ""
             }
            },
            "type": "scattergl"
           }
          ],
          "scattermap": [
           {
            "marker": {
             "colorbar": {
              "outlinewidth": 0,
              "ticks": ""
             }
            },
            "type": "scattermap"
           }
          ],
          "scattermapbox": [
           {
            "marker": {
             "colorbar": {
              "outlinewidth": 0,
              "ticks": ""
             }
            },
            "type": "scattermapbox"
           }
          ],
          "scatterpolar": [
           {
            "marker": {
             "colorbar": {
              "outlinewidth": 0,
              "ticks": ""
             }
            },
            "type": "scatterpolar"
           }
          ],
          "scatterpolargl": [
           {
            "marker": {
             "colorbar": {
              "outlinewidth": 0,
              "ticks": ""
             }
            },
            "type": "scatterpolargl"
           }
          ],
          "scatterternary": [
           {
            "marker": {
             "colorbar": {
              "outlinewidth": 0,
              "ticks": ""
             }
            },
            "type": "scatterternary"
           }
          ],
          "surface": [
           {
            "colorbar": {
             "outlinewidth": 0,
             "ticks": ""
            },
            "colorscale": [
             [
              0,
              "#0d0887"
             ],
             [
              0.1111111111111111,
              "#46039f"
             ],
             [
              0.2222222222222222,
              "#7201a8"
             ],
             [
              0.3333333333333333,
              "#9c179e"
             ],
             [
              0.4444444444444444,
              "#bd3786"
             ],
             [
              0.5555555555555556,
              "#d8576b"
             ],
             [
              0.6666666666666666,
              "#ed7953"
             ],
             [
              0.7777777777777778,
              "#fb9f3a"
             ],
             [
              0.8888888888888888,
              "#fdca26"
             ],
             [
              1,
              "#f0f921"
             ]
            ],
            "type": "surface"
           }
          ],
          "table": [
           {
            "cells": {
             "fill": {
              "color": "#EBF0F8"
             },
             "line": {
              "color": "white"
             }
            },
            "header": {
             "fill": {
              "color": "#C8D4E3"
             },
             "line": {
              "color": "white"
             }
            },
            "type": "table"
           }
          ]
         },
         "layout": {
          "annotationdefaults": {
           "arrowcolor": "#2a3f5f",
           "arrowhead": 0,
           "arrowwidth": 1
          },
          "autotypenumbers": "strict",
          "coloraxis": {
           "colorbar": {
            "outlinewidth": 0,
            "ticks": ""
           }
          },
          "colorscale": {
           "diverging": [
            [
             0,
             "#8e0152"
            ],
            [
             0.1,
             "#c51b7d"
            ],
            [
             0.2,
             "#de77ae"
            ],
            [
             0.3,
             "#f1b6da"
            ],
            [
             0.4,
             "#fde0ef"
            ],
            [
             0.5,
             "#f7f7f7"
            ],
            [
             0.6,
             "#e6f5d0"
            ],
            [
             0.7,
             "#b8e186"
            ],
            [
             0.8,
             "#7fbc41"
            ],
            [
             0.9,
             "#4d9221"
            ],
            [
             1,
             "#276419"
            ]
           ],
           "sequential": [
            [
             0,
             "#0d0887"
            ],
            [
             0.1111111111111111,
             "#46039f"
            ],
            [
             0.2222222222222222,
             "#7201a8"
            ],
            [
             0.3333333333333333,
             "#9c179e"
            ],
            [
             0.4444444444444444,
             "#bd3786"
            ],
            [
             0.5555555555555556,
             "#d8576b"
            ],
            [
             0.6666666666666666,
             "#ed7953"
            ],
            [
             0.7777777777777778,
             "#fb9f3a"
            ],
            [
             0.8888888888888888,
             "#fdca26"
            ],
            [
             1,
             "#f0f921"
            ]
           ],
           "sequentialminus": [
            [
             0,
             "#0d0887"
            ],
            [
             0.1111111111111111,
             "#46039f"
            ],
            [
             0.2222222222222222,
             "#7201a8"
            ],
            [
             0.3333333333333333,
             "#9c179e"
            ],
            [
             0.4444444444444444,
             "#bd3786"
            ],
            [
             0.5555555555555556,
             "#d8576b"
            ],
            [
             0.6666666666666666,
             "#ed7953"
            ],
            [
             0.7777777777777778,
             "#fb9f3a"
            ],
            [
             0.8888888888888888,
             "#fdca26"
            ],
            [
             1,
             "#f0f921"
            ]
           ]
          },
          "colorway": [
           "#636efa",
           "#EF553B",
           "#00cc96",
           "#ab63fa",
           "#FFA15A",
           "#19d3f3",
           "#FF6692",
           "#B6E880",
           "#FF97FF",
           "#FECB52"
          ],
          "font": {
           "color": "#2a3f5f"
          },
          "geo": {
           "bgcolor": "white",
           "lakecolor": "white",
           "landcolor": "#E5ECF6",
           "showlakes": true,
           "showland": true,
           "subunitcolor": "white"
          },
          "hoverlabel": {
           "align": "left"
          },
          "hovermode": "closest",
          "mapbox": {
           "style": "light"
          },
          "paper_bgcolor": "white",
          "plot_bgcolor": "#E5ECF6",
          "polar": {
           "angularaxis": {
            "gridcolor": "white",
            "linecolor": "white",
            "ticks": ""
           },
           "bgcolor": "#E5ECF6",
           "radialaxis": {
            "gridcolor": "white",
            "linecolor": "white",
            "ticks": ""
           }
          },
          "scene": {
           "xaxis": {
            "backgroundcolor": "#E5ECF6",
            "gridcolor": "white",
            "gridwidth": 2,
            "linecolor": "white",
            "showbackground": true,
            "ticks": "",
            "zerolinecolor": "white"
           },
           "yaxis": {
            "backgroundcolor": "#E5ECF6",
            "gridcolor": "white",
            "gridwidth": 2,
            "linecolor": "white",
            "showbackground": true,
            "ticks": "",
            "zerolinecolor": "white"
           },
           "zaxis": {
            "backgroundcolor": "#E5ECF6",
            "gridcolor": "white",
            "gridwidth": 2,
            "linecolor": "white",
            "showbackground": true,
            "ticks": "",
            "zerolinecolor": "white"
           }
          },
          "shapedefaults": {
           "line": {
            "color": "#2a3f5f"
           }
          },
          "ternary": {
           "aaxis": {
            "gridcolor": "white",
            "linecolor": "white",
            "ticks": ""
           },
           "baxis": {
            "gridcolor": "white",
            "linecolor": "white",
            "ticks": ""
           },
           "bgcolor": "#E5ECF6",
           "caxis": {
            "gridcolor": "white",
            "linecolor": "white",
            "ticks": ""
           }
          },
          "title": {
           "x": 0.05
          },
          "xaxis": {
           "automargin": true,
           "gridcolor": "white",
           "linecolor": "white",
           "ticks": "",
           "title": {
            "standoff": 15
           },
           "zerolinecolor": "white",
           "zerolinewidth": 2
          },
          "yaxis": {
           "automargin": true,
           "gridcolor": "white",
           "linecolor": "white",
           "ticks": "",
           "title": {
            "standoff": 15
           },
           "zerolinecolor": "white",
           "zerolinewidth": 2
          }
         }
        },
        "title": {
         "font": {
          "size": 16
         },
         "text": "데이터 관련 문장에서 추출한 핵심 키워드 워드클라우드",
         "x": 0.5,
         "xanchor": "center"
        },
        "width": 800,
        "xaxis": {
         "range": [
          0,
          1
         ],
         "showgrid": false,
         "showticklabels": false,
         "zeroline": false
        },
        "yaxis": {
         "range": [
          0,
          1
         ],
         "showgrid": false,
         "showticklabels": false,
         "zeroline": false
        }
       }
      }
     },
     "metadata": {},
     "output_type": "display_data"
    }
   ],
   "source": [
    "# WordCloud를 이미지로 변환\n",
    "img_buffer = io.BytesIO()\n",
    "wordcloud.to_image().save(img_buffer, format='PNG')\n",
    "img_buffer.seek(0)\n",
    "img_str = base64.b64encode(img_buffer.read()).decode()\n",
    "\n",
    "# Plotly로 WordCloud 시각화\n",
    "fig = go.Figure()\n",
    "\n",
    "fig.add_layout_image(\n",
    "    dict(\n",
    "        source=f\"data:image/png;base64,{img_str}\",\n",
    "        xref=\"x\",\n",
    "        yref=\"y\",\n",
    "        x=0,\n",
    "        y=1,\n",
    "        sizex=1,\n",
    "        sizey=1,\n",
    "        sizing=\"stretch\",\n",
    "        opacity=1,\n",
    "        layer=\"below\"\n",
    "    )\n",
    ")\n",
    "\n",
    "fig.update_layout(\n",
    "    title={\n",
    "        'text': \"데이터 관련 문장에서 추출한 핵심 키워드 워드클라우드\",\n",
    "        'x': 0.5,\n",
    "        'xanchor': 'center',\n",
    "        'font': {'size': 16}\n",
    "    },\n",
    "    xaxis=dict(showgrid=False, showticklabels=False, zeroline=False, range=[0, 1]),\n",
    "    yaxis=dict(showgrid=False, showticklabels=False, zeroline=False, range=[0, 1]),\n",
    "    width=800,\n",
    "    height=600,\n",
    "    margin=dict(l=20, r=20, t=60, b=20)\n",
    ")\n",
    "\n",
    "fig.show()\n"
   ]
  },
  {
   "cell_type": "code",
   "execution_count": 37,
   "metadata": {},
   "outputs": [
    {
     "data": {
      "application/vnd.plotly.v1+json": {
       "config": {
        "plotlyServerURL": "https://plot.ly"
       },
       "data": [
        {
         "marker": {
          "color": [
           24,
           7,
           5,
           4,
           3,
           3,
           3,
           3,
           2,
           2,
           2,
           2,
           2,
           2,
           2
          ],
          "colorscale": [
           [
            0,
            "#440154"
           ],
           [
            0.1111111111111111,
            "#482878"
           ],
           [
            0.2222222222222222,
            "#3e4989"
           ],
           [
            0.3333333333333333,
            "#31688e"
           ],
           [
            0.4444444444444444,
            "#26828e"
           ],
           [
            0.5555555555555556,
            "#1f9e89"
           ],
           [
            0.6666666666666666,
            "#35b779"
           ],
           [
            0.7777777777777778,
            "#6ece58"
           ],
           [
            0.8888888888888888,
            "#b5de2b"
           ],
           [
            1,
            "#fde725"
           ]
          ],
          "showscale": true
         },
         "orientation": "h",
         "type": "bar",
         "x": [
          24,
          7,
          5,
          4,
          3,
          3,
          3,
          3,
          2,
          2,
          2,
          2,
          2,
          2,
          2
         ],
         "y": [
          "데이터",
          "분석",
          "활용",
          "정보",
          "예측",
          "모델",
          "구축",
          "시스템",
          "패턴",
          "파악",
          "정형",
          "관리",
          "도입",
          "서비스",
          "수립"
         ]
        }
       ],
       "layout": {
        "height": 600,
        "margin": {
         "b": 40,
         "l": 100,
         "r": 20,
         "t": 60
        },
        "template": {
         "data": {
          "bar": [
           {
            "error_x": {
             "color": "#2a3f5f"
            },
            "error_y": {
             "color": "#2a3f5f"
            },
            "marker": {
             "line": {
              "color": "#E5ECF6",
              "width": 0.5
             },
             "pattern": {
              "fillmode": "overlay",
              "size": 10,
              "solidity": 0.2
             }
            },
            "type": "bar"
           }
          ],
          "barpolar": [
           {
            "marker": {
             "line": {
              "color": "#E5ECF6",
              "width": 0.5
             },
             "pattern": {
              "fillmode": "overlay",
              "size": 10,
              "solidity": 0.2
             }
            },
            "type": "barpolar"
           }
          ],
          "carpet": [
           {
            "aaxis": {
             "endlinecolor": "#2a3f5f",
             "gridcolor": "white",
             "linecolor": "white",
             "minorgridcolor": "white",
             "startlinecolor": "#2a3f5f"
            },
            "baxis": {
             "endlinecolor": "#2a3f5f",
             "gridcolor": "white",
             "linecolor": "white",
             "minorgridcolor": "white",
             "startlinecolor": "#2a3f5f"
            },
            "type": "carpet"
           }
          ],
          "choropleth": [
           {
            "colorbar": {
             "outlinewidth": 0,
             "ticks": ""
            },
            "type": "choropleth"
           }
          ],
          "contour": [
           {
            "colorbar": {
             "outlinewidth": 0,
             "ticks": ""
            },
            "colorscale": [
             [
              0,
              "#0d0887"
             ],
             [
              0.1111111111111111,
              "#46039f"
             ],
             [
              0.2222222222222222,
              "#7201a8"
             ],
             [
              0.3333333333333333,
              "#9c179e"
             ],
             [
              0.4444444444444444,
              "#bd3786"
             ],
             [
              0.5555555555555556,
              "#d8576b"
             ],
             [
              0.6666666666666666,
              "#ed7953"
             ],
             [
              0.7777777777777778,
              "#fb9f3a"
             ],
             [
              0.8888888888888888,
              "#fdca26"
             ],
             [
              1,
              "#f0f921"
             ]
            ],
            "type": "contour"
           }
          ],
          "contourcarpet": [
           {
            "colorbar": {
             "outlinewidth": 0,
             "ticks": ""
            },
            "type": "contourcarpet"
           }
          ],
          "heatmap": [
           {
            "colorbar": {
             "outlinewidth": 0,
             "ticks": ""
            },
            "colorscale": [
             [
              0,
              "#0d0887"
             ],
             [
              0.1111111111111111,
              "#46039f"
             ],
             [
              0.2222222222222222,
              "#7201a8"
             ],
             [
              0.3333333333333333,
              "#9c179e"
             ],
             [
              0.4444444444444444,
              "#bd3786"
             ],
             [
              0.5555555555555556,
              "#d8576b"
             ],
             [
              0.6666666666666666,
              "#ed7953"
             ],
             [
              0.7777777777777778,
              "#fb9f3a"
             ],
             [
              0.8888888888888888,
              "#fdca26"
             ],
             [
              1,
              "#f0f921"
             ]
            ],
            "type": "heatmap"
           }
          ],
          "histogram": [
           {
            "marker": {
             "pattern": {
              "fillmode": "overlay",
              "size": 10,
              "solidity": 0.2
             }
            },
            "type": "histogram"
           }
          ],
          "histogram2d": [
           {
            "colorbar": {
             "outlinewidth": 0,
             "ticks": ""
            },
            "colorscale": [
             [
              0,
              "#0d0887"
             ],
             [
              0.1111111111111111,
              "#46039f"
             ],
             [
              0.2222222222222222,
              "#7201a8"
             ],
             [
              0.3333333333333333,
              "#9c179e"
             ],
             [
              0.4444444444444444,
              "#bd3786"
             ],
             [
              0.5555555555555556,
              "#d8576b"
             ],
             [
              0.6666666666666666,
              "#ed7953"
             ],
             [
              0.7777777777777778,
              "#fb9f3a"
             ],
             [
              0.8888888888888888,
              "#fdca26"
             ],
             [
              1,
              "#f0f921"
             ]
            ],
            "type": "histogram2d"
           }
          ],
          "histogram2dcontour": [
           {
            "colorbar": {
             "outlinewidth": 0,
             "ticks": ""
            },
            "colorscale": [
             [
              0,
              "#0d0887"
             ],
             [
              0.1111111111111111,
              "#46039f"
             ],
             [
              0.2222222222222222,
              "#7201a8"
             ],
             [
              0.3333333333333333,
              "#9c179e"
             ],
             [
              0.4444444444444444,
              "#bd3786"
             ],
             [
              0.5555555555555556,
              "#d8576b"
             ],
             [
              0.6666666666666666,
              "#ed7953"
             ],
             [
              0.7777777777777778,
              "#fb9f3a"
             ],
             [
              0.8888888888888888,
              "#fdca26"
             ],
             [
              1,
              "#f0f921"
             ]
            ],
            "type": "histogram2dcontour"
           }
          ],
          "mesh3d": [
           {
            "colorbar": {
             "outlinewidth": 0,
             "ticks": ""
            },
            "type": "mesh3d"
           }
          ],
          "parcoords": [
           {
            "line": {
             "colorbar": {
              "outlinewidth": 0,
              "ticks": ""
             }
            },
            "type": "parcoords"
           }
          ],
          "pie": [
           {
            "automargin": true,
            "type": "pie"
           }
          ],
          "scatter": [
           {
            "fillpattern": {
             "fillmode": "overlay",
             "size": 10,
             "solidity": 0.2
            },
            "type": "scatter"
           }
          ],
          "scatter3d": [
           {
            "line": {
             "colorbar": {
              "outlinewidth": 0,
              "ticks": ""
             }
            },
            "marker": {
             "colorbar": {
              "outlinewidth": 0,
              "ticks": ""
             }
            },
            "type": "scatter3d"
           }
          ],
          "scattercarpet": [
           {
            "marker": {
             "colorbar": {
              "outlinewidth": 0,
              "ticks": ""
             }
            },
            "type": "scattercarpet"
           }
          ],
          "scattergeo": [
           {
            "marker": {
             "colorbar": {
              "outlinewidth": 0,
              "ticks": ""
             }
            },
            "type": "scattergeo"
           }
          ],
          "scattergl": [
           {
            "marker": {
             "colorbar": {
              "outlinewidth": 0,
              "ticks": ""
             }
            },
            "type": "scattergl"
           }
          ],
          "scattermap": [
           {
            "marker": {
             "colorbar": {
              "outlinewidth": 0,
              "ticks": ""
             }
            },
            "type": "scattermap"
           }
          ],
          "scattermapbox": [
           {
            "marker": {
             "colorbar": {
              "outlinewidth": 0,
              "ticks": ""
             }
            },
            "type": "scattermapbox"
           }
          ],
          "scatterpolar": [
           {
            "marker": {
             "colorbar": {
              "outlinewidth": 0,
              "ticks": ""
             }
            },
            "type": "scatterpolar"
           }
          ],
          "scatterpolargl": [
           {
            "marker": {
             "colorbar": {
              "outlinewidth": 0,
              "ticks": ""
             }
            },
            "type": "scatterpolargl"
           }
          ],
          "scatterternary": [
           {
            "marker": {
             "colorbar": {
              "outlinewidth": 0,
              "ticks": ""
             }
            },
            "type": "scatterternary"
           }
          ],
          "surface": [
           {
            "colorbar": {
             "outlinewidth": 0,
             "ticks": ""
            },
            "colorscale": [
             [
              0,
              "#0d0887"
             ],
             [
              0.1111111111111111,
              "#46039f"
             ],
             [
              0.2222222222222222,
              "#7201a8"
             ],
             [
              0.3333333333333333,
              "#9c179e"
             ],
             [
              0.4444444444444444,
              "#bd3786"
             ],
             [
              0.5555555555555556,
              "#d8576b"
             ],
             [
              0.6666666666666666,
              "#ed7953"
             ],
             [
              0.7777777777777778,
              "#fb9f3a"
             ],
             [
              0.8888888888888888,
              "#fdca26"
             ],
             [
              1,
              "#f0f921"
             ]
            ],
            "type": "surface"
           }
          ],
          "table": [
           {
            "cells": {
             "fill": {
              "color": "#EBF0F8"
             },
             "line": {
              "color": "white"
             }
            },
            "header": {
             "fill": {
              "color": "#C8D4E3"
             },
             "line": {
              "color": "white"
             }
            },
            "type": "table"
           }
          ]
         },
         "layout": {
          "annotationdefaults": {
           "arrowcolor": "#2a3f5f",
           "arrowhead": 0,
           "arrowwidth": 1
          },
          "autotypenumbers": "strict",
          "coloraxis": {
           "colorbar": {
            "outlinewidth": 0,
            "ticks": ""
           }
          },
          "colorscale": {
           "diverging": [
            [
             0,
             "#8e0152"
            ],
            [
             0.1,
             "#c51b7d"
            ],
            [
             0.2,
             "#de77ae"
            ],
            [
             0.3,
             "#f1b6da"
            ],
            [
             0.4,
             "#fde0ef"
            ],
            [
             0.5,
             "#f7f7f7"
            ],
            [
             0.6,
             "#e6f5d0"
            ],
            [
             0.7,
             "#b8e186"
            ],
            [
             0.8,
             "#7fbc41"
            ],
            [
             0.9,
             "#4d9221"
            ],
            [
             1,
             "#276419"
            ]
           ],
           "sequential": [
            [
             0,
             "#0d0887"
            ],
            [
             0.1111111111111111,
             "#46039f"
            ],
            [
             0.2222222222222222,
             "#7201a8"
            ],
            [
             0.3333333333333333,
             "#9c179e"
            ],
            [
             0.4444444444444444,
             "#bd3786"
            ],
            [
             0.5555555555555556,
             "#d8576b"
            ],
            [
             0.6666666666666666,
             "#ed7953"
            ],
            [
             0.7777777777777778,
             "#fb9f3a"
            ],
            [
             0.8888888888888888,
             "#fdca26"
            ],
            [
             1,
             "#f0f921"
            ]
           ],
           "sequentialminus": [
            [
             0,
             "#0d0887"
            ],
            [
             0.1111111111111111,
             "#46039f"
            ],
            [
             0.2222222222222222,
             "#7201a8"
            ],
            [
             0.3333333333333333,
             "#9c179e"
            ],
            [
             0.4444444444444444,
             "#bd3786"
            ],
            [
             0.5555555555555556,
             "#d8576b"
            ],
            [
             0.6666666666666666,
             "#ed7953"
            ],
            [
             0.7777777777777778,
             "#fb9f3a"
            ],
            [
             0.8888888888888888,
             "#fdca26"
            ],
            [
             1,
             "#f0f921"
            ]
           ]
          },
          "colorway": [
           "#636efa",
           "#EF553B",
           "#00cc96",
           "#ab63fa",
           "#FFA15A",
           "#19d3f3",
           "#FF6692",
           "#B6E880",
           "#FF97FF",
           "#FECB52"
          ],
          "font": {
           "color": "#2a3f5f"
          },
          "geo": {
           "bgcolor": "white",
           "lakecolor": "white",
           "landcolor": "#E5ECF6",
           "showlakes": true,
           "showland": true,
           "subunitcolor": "white"
          },
          "hoverlabel": {
           "align": "left"
          },
          "hovermode": "closest",
          "mapbox": {
           "style": "light"
          },
          "paper_bgcolor": "white",
          "plot_bgcolor": "#E5ECF6",
          "polar": {
           "angularaxis": {
            "gridcolor": "white",
            "linecolor": "white",
            "ticks": ""
           },
           "bgcolor": "#E5ECF6",
           "radialaxis": {
            "gridcolor": "white",
            "linecolor": "white",
            "ticks": ""
           }
          },
          "scene": {
           "xaxis": {
            "backgroundcolor": "#E5ECF6",
            "gridcolor": "white",
            "gridwidth": 2,
            "linecolor": "white",
            "showbackground": true,
            "ticks": "",
            "zerolinecolor": "white"
           },
           "yaxis": {
            "backgroundcolor": "#E5ECF6",
            "gridcolor": "white",
            "gridwidth": 2,
            "linecolor": "white",
            "showbackground": true,
            "ticks": "",
            "zerolinecolor": "white"
           },
           "zaxis": {
            "backgroundcolor": "#E5ECF6",
            "gridcolor": "white",
            "gridwidth": 2,
            "linecolor": "white",
            "showbackground": true,
            "ticks": "",
            "zerolinecolor": "white"
           }
          },
          "shapedefaults": {
           "line": {
            "color": "#2a3f5f"
           }
          },
          "ternary": {
           "aaxis": {
            "gridcolor": "white",
            "linecolor": "white",
            "ticks": ""
           },
           "baxis": {
            "gridcolor": "white",
            "linecolor": "white",
            "ticks": ""
           },
           "bgcolor": "#E5ECF6",
           "caxis": {
            "gridcolor": "white",
            "linecolor": "white",
            "ticks": ""
           }
          },
          "title": {
           "x": 0.05
          },
          "xaxis": {
           "automargin": true,
           "gridcolor": "white",
           "linecolor": "white",
           "ticks": "",
           "title": {
            "standoff": 15
           },
           "zerolinecolor": "white",
           "zerolinewidth": 2
          },
          "yaxis": {
           "automargin": true,
           "gridcolor": "white",
           "linecolor": "white",
           "ticks": "",
           "title": {
            "standoff": 15
           },
           "zerolinecolor": "white",
           "zerolinewidth": 2
          }
         }
        },
        "title": {
         "font": {
          "size": 16
         },
         "text": "상위 15개 핵심 키워드 빈도",
         "x": 0.5,
         "xanchor": "center"
        },
        "xaxis": {
         "title": {
          "text": "빈도"
         }
        },
        "yaxis": {
         "title": {
          "text": "키워드"
         }
        }
       }
      }
     },
     "metadata": {},
     "output_type": "display_data"
    }
   ],
   "source": [
    "# 키워드 빈도 막대 그래프\n",
    "top_keywords = dict(keyword_counts.most_common(15))\n",
    "\n",
    "fig_bar = go.Figure(data=[\n",
    "    go.Bar(\n",
    "        x=list(top_keywords.values()),\n",
    "        y=list(top_keywords.keys()),\n",
    "        orientation='h',\n",
    "        marker=dict(\n",
    "            color=list(top_keywords.values()),\n",
    "            colorscale='viridis',\n",
    "            showscale=True\n",
    "        )\n",
    "    )\n",
    "])\n",
    "\n",
    "fig_bar.update_layout(\n",
    "    title={\n",
    "        'text': \"상위 15개 핵심 키워드 빈도\",\n",
    "        'x': 0.5,\n",
    "        'xanchor': 'center',\n",
    "        'font': {'size': 16}\n",
    "    },\n",
    "    xaxis_title=\"빈도\",\n",
    "    yaxis_title=\"키워드\",\n",
    "    height=600,\n",
    "    margin=dict(l=100, r=20, t=60, b=40)\n",
    ")\n",
    "\n",
    "fig_bar.show()"
   ]
  },
  {
   "cell_type": "markdown",
   "metadata": {},
   "source": [
    "---"
   ]
  },
  {
   "cell_type": "markdown",
   "metadata": {},
   "source": [
    "### 3. 유용한 최근 라이브러리"
   ]
  },
  {
   "cell_type": "markdown",
   "metadata": {},
   "source": [
    "https://github.com/bab2min/kiwipiepy"
   ]
  },
  {
   "cell_type": "markdown",
   "metadata": {},
   "source": [
    "#### 💻 예시 코드 (Example Code)"
   ]
  },
  {
   "cell_type": "code",
   "execution_count": null,
   "metadata": {},
   "outputs": [],
   "source": [
    "!pip install kiwipiepy cmake"
   ]
  },
  {
   "cell_type": "code",
   "execution_count": 3,
   "metadata": {},
   "outputs": [],
   "source": [
    "from kiwipiepy import Kiwi"
   ]
  },
  {
   "cell_type": "code",
   "execution_count": 4,
   "metadata": {},
   "outputs": [],
   "source": [
    "kiwi = Kiwi()"
   ]
  },
  {
   "cell_type": "code",
   "execution_count": 5,
   "metadata": {},
   "outputs": [
    {
     "data": {
      "text/plain": [
       "[Token(form='안녕', tag='NNG', start=0, len=2),\n",
       " Token(form='하', tag='XSA', start=2, len=1),\n",
       " Token(form='세', tag='EC', start=3, len=1),\n",
       " Token(form='요', tag='JX', start=4, len=1),\n",
       " Token(form='형태소', tag='NNG', start=6, len=3),\n",
       " Token(form='분석기', tag='NNG', start=10, len=3),\n",
       " Token(form='키위', tag='NNG', start=14, len=2),\n",
       " Token(form='이', tag='VCP', start=16, len=1),\n",
       " Token(form='ᆸ니다', tag='EF', start=16, len=3),\n",
       " Token(form='.', tag='SF', start=19, len=1)]"
      ]
     },
     "execution_count": 5,
     "metadata": {},
     "output_type": "execute_result"
    }
   ],
   "source": [
    "kiwi.tokenize(\"안녕하세요 형태소 분석기 키위입니다.\")"
   ]
  },
  {
   "cell_type": "code",
   "execution_count": 6,
   "metadata": {},
   "outputs": [
    {
     "data": {
      "text/plain": [
       "[Token(form='ㅋㅋㅋ', tag='SW', start=0, len=3),\n",
       " Token(form='이런', tag='MM', start=4, len=2),\n",
       " Token(form='것', tag='NNB', start=7, len=1),\n",
       " Token(form='도', tag='JX', start=8, len=1),\n",
       " Token(form='분석', tag='NNG', start=10, len=2),\n",
       " Token(form='이', tag='JKC', start=12, len=1),\n",
       " Token(form='되', tag='VV', start=14, len=1),\n",
       " Token(form='ᆯ까요', tag='EF', start=14, len=3),\n",
       " Token(form='ㅋㅋㅋ', tag='SW', start=16, len=3),\n",
       " Token(form='?', tag='SF', start=19, len=1)]"
      ]
     },
     "execution_count": 6,
     "metadata": {},
     "output_type": "execute_result"
    }
   ],
   "source": [
    "kiwi.tokenize(\"ㅋㅋㅋ 이런 것도 분석이 될까욬ㅋㅋ?\", normalize_coda=True)"
   ]
  },
  {
   "cell_type": "code",
   "execution_count": 7,
   "metadata": {},
   "outputs": [],
   "source": [
    "from kiwipiepy.utils import Stopwords"
   ]
  },
  {
   "cell_type": "code",
   "execution_count": 8,
   "metadata": {},
   "outputs": [],
   "source": [
    "stopwords = Stopwords()"
   ]
  },
  {
   "cell_type": "code",
   "execution_count": 9,
   "metadata": {},
   "outputs": [
    {
     "data": {
      "text/plain": [
       "[Token(form='분석', tag='NNG', start=0, len=2),\n",
       " Token(form='결과', tag='NNG', start=3, len=2),\n",
       " Token(form='불', tag='NNG', start=8, len=1),\n",
       " Token(form='용어', tag='NNG', start=9, len=2),\n",
       " Token(form='제외', tag='NNG', start=13, len=2),\n",
       " Token(form='출력', tag='NNG', start=18, len=2),\n",
       " Token(form='있', tag='VA', start=25, len=1)]"
      ]
     },
     "execution_count": 9,
     "metadata": {},
     "output_type": "execute_result"
    }
   ],
   "source": [
    "kiwi.tokenize(\"분석 결과에서 불용어만 제외하고 출력할 수도 있다.\", stopwords=stopwords)\n"
   ]
  },
  {
   "cell_type": "code",
   "execution_count": 10,
   "metadata": {},
   "outputs": [],
   "source": [
    "stopwords.add(('결과', 'NNG'))"
   ]
  },
  {
   "cell_type": "code",
   "execution_count": null,
   "metadata": {},
   "outputs": [],
   "source": []
  }
 ],
 "metadata": {
  "kernelspec": {
   "display_name": ".venv",
   "language": "python",
   "name": "python3"
  },
  "language_info": {
   "codemirror_mode": {
    "name": "ipython",
    "version": 3
   },
   "file_extension": ".py",
   "mimetype": "text/x-python",
   "name": "python",
   "nbconvert_exporter": "python",
   "pygments_lexer": "ipython3",
   "version": "3.12.9"
  }
 },
 "nbformat": 4,
 "nbformat_minor": 4
}
