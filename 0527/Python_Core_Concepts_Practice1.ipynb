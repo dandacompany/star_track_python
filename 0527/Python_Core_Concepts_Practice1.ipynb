{
  "cells": [
    {
      "cell_type": "markdown",
      "source": [
        "---\n",
        "\n",
        "## 🐍 Python Core Concepts Practice\n",
        "\n",
        "FastMCP 코드작성을 위한 기본적인 Python 개념을 다루며 설명, 예제 코드, 연습 문제를 제공합니다.\n",
        "\n",
        "---\n",
        "\n",
        "## 1. `import` / `from … import …`\n",
        "\n",
        "### 💡 개념 (Concept)\n",
        "외부 모듈이나 내장 라이브러리를 현재 파일로 가져와 재사용합니다. `from` 형태는 이름 공간을 줄이거나 모듈의 일부만 선택해서 가져올 때 사용합니다.\n",
        "\n",
        "### 💻 예시 코드 (Example Code)"
      ],
      "metadata": {
        "id": "evvH4CNOBVw9"
      }
    },
    {
      "cell_type": "code",
      "source": [
        "import math  # 모듈 전체\n",
        "from datetime import datetime  # 일부만\n",
        "\n",
        "print(math.pi)\n",
        "print(datetime.now())"
      ],
      "outputs": [],
      "execution_count": null,
      "metadata": {
        "id": "TE6GzA1dBVw-"
      }
    },
    {
      "cell_type": "markdown",
      "source": [
        "### ✏️ 연습 문제 (Practice Problems)\n",
        "1.  `random` 모듈에서 `choice` 함수만 가져와 `['a', 'b', 'c']` 중 하나를 뽑아 출력해 보세요.\n",
        "2.  `statistics` 모듈을 `stats`라는 별칭으로 불러 `mean` 함수를 사용해 `[10, 20, 30]`의 평균을 구하세요."
      ],
      "metadata": {
        "id": "YDEMDsNHBVw-"
      }
    },
    {
      "cell_type": "code",
      "source": [
        "# 연습 문제 1번 & 2번 풀이 공간"
      ],
      "outputs": [],
      "execution_count": null,
      "metadata": {
        "id": "Om5jvHOZBVw-"
      }
    },
    {
      "cell_type": "markdown",
      "source": [
        "---\n",
        "\n",
        "## 2. 상수 & 전역 변수 (대문자 관례)\n",
        "\n",
        "### 💡 개념 (Concept)\n",
        "한 번 정의한 후 변경하지 않을 재사용 값을 대문자로 작성합니다. 이는 가시성을 높여 \"이 값은 고정된 값\"임을 알리는 관례입니다.\n",
        "\n",
        "### 💻 예시 코드 (Example Code)"
      ],
      "metadata": {
        "id": "y434UnSzBVw_"
      }
    },
    {
      "cell_type": "code",
      "source": [
        "API_BASE_URL = \"https://api.weather.gov\"\n",
        "TIMEOUT_SEC = 5"
      ],
      "outputs": [],
      "execution_count": null,
      "metadata": {
        "id": "DIP6FDJOBVw_"
      }
    },
    {
      "cell_type": "markdown",
      "source": [
        "### ✏️ 연습 문제 (Practice Problems)\n",
        "1.  초 단위 지연 시간 `DEFAULT_DELAY` (값 2)를 상수로 두고, `time.sleep(DEFAULT_DELAY)`를 호출하는 스크립트를 작성하세요.\n",
        "2.  원주율을 `PI = 3.14159`로 선언하고, 반지름을 입력받아 원의 넓이를 출력하는 함수를 만들어 보세요."
      ],
      "metadata": {
        "id": "JYgt8ijvBVw_"
      }
    },
    {
      "cell_type": "code",
      "source": [
        "# 연습 문제 1번 & 2번 풀이 공간"
      ],
      "outputs": [],
      "execution_count": null,
      "metadata": {
        "id": "CVeC6-sGBVw_"
      }
    },
    {
      "cell_type": "markdown",
      "source": [
        "---\n",
        "\n",
        "## 3. `if __name__ == \"__main__\":`\n",
        "\n",
        "### 💡 개념 (Concept)\n",
        "현재 파일이 직접 실행될 때만 특정 코드를 실행하도록 하는 진입점(entry point) 역할을 합니다. 다른 파일에서 `import` 될 경우에는 이 블록 안의 코드가 실행되지 않습니다.\n",
        "\n",
        "### 💻 예시 코드 (Example Code)"
      ],
      "metadata": {
        "id": "dau7R1AKBVw_"
      }
    },
    {
      "cell_type": "code",
      "source": [
        "def greet():\n",
        "    print(\"Hello!\")\n",
        "\n",
        "if __name__ == \"__main__\":\n",
        "    greet()"
      ],
      "outputs": [],
      "execution_count": null,
      "metadata": {
        "id": "dfUQiJNCBVw_"
      }
    },
    {
      "cell_type": "markdown",
      "source": [
        "### ✏️ 연습 문제 (Practice Problems)\n",
        "1.  `calc.py` 파일에 `add(a, b)` 함수를 만들고, 메인 가드 (`if __name__ == \"__main__\":`) 안에서 `print(add(3, 4))`를 실행해 보세요.\n",
        "2.  동일한 `calc.py` 파일을 다른 스크립트에서 `import calc`로 불러 `add` 함수는 사용할 수 있지만, `print` 문은 실행되지 않는 것을 확인해 보세요."
      ],
      "metadata": {
        "id": "E_YeI1cNBVw_"
      }
    },
    {
      "cell_type": "code",
      "source": [
        "# 연습 문제 1번 풀이 공간\n",
        "# (calc.py 파일 생성 및 테스트)"
      ],
      "outputs": [],
      "execution_count": null,
      "metadata": {
        "id": "u8C5mr1yBVw_"
      }
    },
    {
      "cell_type": "code",
      "source": [
        "# 연습 문제 2번 풀이 공간\n",
        "# (다른 스크립트에서 calc.py import 시뮬레이션)"
      ],
      "outputs": [],
      "execution_count": null,
      "metadata": {
        "id": "8EWHP3VXBVw_"
      }
    },
    {
      "cell_type": "markdown",
      "source": [
        "---\n",
        "\n",
        "## 4. 함수 정의 + 타입 힌트\n",
        "\n",
        "### 💡 개념 (Concept)\n",
        "`def func(arg: type) -> return_type:` 형태로 함수의 매개변수와 반환 값에 대한 타입 힌트를 명시하여 코드의 가독성을 높이고, IDE의 자동 완성 기능을 향상시킵니다.\n",
        "\n",
        "### 💻 예시 코드 (Example Code)"
      ],
      "metadata": {
        "id": "5sMTnoHzBVw_"
      }
    },
    {
      "cell_type": "code",
      "source": [
        "def area(radius: float) -> float:\n",
        "    return 3.14159 * radius**2"
      ],
      "outputs": [],
      "execution_count": null,
      "metadata": {
        "id": "Yzd9jUXsBVw_"
      }
    },
    {
      "cell_type": "markdown",
      "source": [
        "### ✏️ 연습 문제 (Practice Problems)\n",
        "1.  두 문자열을 받아 그 길이의 합계를 반환하는 `total_len(s1: str, s2: str) -> int` 함수를 만드세요.\n",
        "2.  정수형 리스트를 받아 최댓값을 돌려주는 `max_of(nums: list[int]) -> int` 함수를 작성하고 타입 힌트를 달아 보세요."
      ],
      "metadata": {
        "id": "ZLF4wd1CBVw_"
      }
    },
    {
      "cell_type": "code",
      "source": [
        "# 연습 문제 1번 & 2번 풀이 공간"
      ],
      "outputs": [],
      "execution_count": null,
      "metadata": {
        "id": "HwdLrWf_BVw_"
      }
    },
    {
      "cell_type": "markdown",
      "source": [
        "---\n",
        "\n",
        "## 5. Docstring\n",
        "\n",
        "### 💡 개념 (Concept)\n",
        "함수, 모듈, 클래스 또는 메소드 정의의 첫 번째 문장으로 오는 문자열 리터럴입니다. 큰따옴표 세 개 `\"\"\"설명\"\"\"` 블록으로 작성하며, 해당 객체에 대한 설명을 제공합니다. IDE의 툴팁이나 자동 문서화 도구 (`help()` 함수, Sphinx 등)에 사용됩니다.\n",
        "\n",
        "### 💻 예시 코드 (Example Code)"
      ],
      "metadata": {
        "id": "2L4IUS_kBVw_"
      }
    },
    {
      "cell_type": "code",
      "source": [
        "def fahrenheit_to_celsius(f: float) -> float:\n",
        "    \"\"\"\n",
        "    화씨(F) 온도를 섭씨(℃) 온도로 변환합니다.\n",
        "\n",
        "    Args:\n",
        "        f: 화씨 온도 (float)\n",
        "\n",
        "    Returns:\n",
        "        섭씨 온도 (float)\n",
        "    \"\"\"\n",
        "    return (f - 32) * 5 / 9"
      ],
      "outputs": [],
      "execution_count": null,
      "metadata": {
        "id": "LQUABKvpBVw_"
      }
    },
    {
      "cell_type": "markdown",
      "source": [
        "### ✏️ 연습 문제 (Practice Problems)\n",
        "1.  덧셈 함수에 \"두 수를 더해 반환합니다.\"라는 Docstring을 달아 보세요.\n",
        "2.  위 덧셈 함수의 Docstring 안에 매개변수 설명 (`Args:`)과 반환값 섹션 (`Returns:`)을 상세히 작성해 보세요."
      ],
      "metadata": {
        "id": "YNW1WaHVBVxA"
      }
    },
    {
      "cell_type": "code",
      "source": [
        "# 연습 문제 1번 & 2번 풀이 공간"
      ],
      "outputs": [],
      "execution_count": null,
      "metadata": {
        "id": "U-mz25XPBVxA"
      }
    },
    {
      "cell_type": "markdown",
      "source": [
        "---\n",
        "\n",
        "## 6. f-string (Formatted String Literals)\n",
        "\n",
        "### 💡 개념 (Concept)\n",
        "문자열 앞에 `f` 또는 `F`를 붙이고, 표현식을 `{expression}` 형태로 중괄호 안에 넣어 문자열 내에서 변수 값이나 표현식의 결과를 쉽게 삽입할 수 있게 하는 문자열 포매팅 방법입니다. 가독성이 높고 편리합니다.\n",
        "\n",
        "### 💻 예시 코드 (Example Code)"
      ],
      "metadata": {
        "id": "ujCeVZR9BVxA"
      }
    },
    {
      "cell_type": "code",
      "source": [
        "name = \"Ada\"\n",
        "age = 30\n",
        "print(f\"Hello, {name}! You are {age} years old.\")  # Hello, Ada! You are 30 years old."
      ],
      "outputs": [],
      "execution_count": null,
      "metadata": {
        "id": "HzMdIxETBVxA"
      }
    },
    {
      "cell_type": "markdown",
      "source": [
        "### ✏️ 연습 문제 (Practice Problems)\n",
        "1.  이름과 나이를 입력받아 \"OOO is N years old.\" 형태로 출력하는 코드를 f-string을 사용하여 작성하세요.\n",
        "2.  `datetime` 모듈을 사용하여 현재 날짜를 `YYYY-MM-DD` 형식으로 포맷해 `print` 하세요 (f-string 사용)."
      ],
      "metadata": {
        "id": "Zo4-vw0jBVxA"
      }
    },
    {
      "cell_type": "code",
      "source": [
        "# 연습 문제 1번 & 2번 풀이 공간"
      ],
      "outputs": [],
      "execution_count": null,
      "metadata": {
        "id": "4bD0OISGBVxA"
      }
    },
    {
      "cell_type": "markdown",
      "source": [
        "---\n",
        "\n",
        "## 7. 리스트 컴프리헨션 (List Comprehension)\n",
        "\n",
        "### 💡 개념 (Concept)\n",
        "기존의 시퀀스(리스트, 튜플, 문자열 등)를 기반으로 새로운 리스트를 간결하게 만들 수 있는 문법입니다. 기본 형태는 `[표현식 for 항목 in 반복가능객체 if 조건문]`입니다.\n",
        "\n",
        "### 💻 예시 코드 (Example Code)"
      ],
      "metadata": {
        "id": "uczkz4gDBVxA"
      }
    },
    {
      "cell_type": "code",
      "source": [
        "# 1부터 5까지의 숫자를 제곱한 리스트\n",
        "squares = [x**2 for x in range(1, 6)]  # 결과: [1, 4, 9, 16, 25]\n",
        "\n",
        "# 1부터 10까지의 짝수만 포함하는 리스트\n",
        "even_numbers = [x for x in range(1, 11) if x % 2 == 0]  # 결과: [2, 4, 6, 8, 10]"
      ],
      "outputs": [],
      "execution_count": null,
      "metadata": {
        "id": "Hfyf6ddUBVxA"
      }
    },
    {
      "cell_type": "markdown",
      "source": [
        "### ✏️ 연습 문제 (Practice Problems)\n",
        "1.  1부터 20까지의 숫자 중 짝수만 제곱하여 리스트로 저장하세요.\n",
        "2.  문자열 리스트 `['apple', 'kiwi', 'banana', 'orange', 'grape']` 중 길이가 5를 초과하는 단어만 대문자로 바꾼 새 리스트를 만드세요."
      ],
      "metadata": {
        "id": "UlYG4J5iBVxA"
      }
    },
    {
      "cell_type": "code",
      "source": [
        "# 연습 문제 1번 & 2번 풀이 공간"
      ],
      "outputs": [],
      "execution_count": null,
      "metadata": {
        "id": "V_UX9X3aBVxA"
      }
    },
    {
      "cell_type": "markdown",
      "source": [
        "---\n",
        "\n",
        "## 8. 데코레이터 (`@decorator_name`)\n",
        "\n",
        "### 💡 개념 (Concept)\n",
        "기존 함수의 코드를 수정하지 않고 추가 기능을 덧붙이거나 수정할 때 사용하는 디자인 패턴입니다. 함수를 인자로 받아 새로운 함수를 반환하는 함수로 구현됩니다. `@` 기호를 사용하여 함수 정의 위에 적용합니다.\n",
        "\n",
        "### 💻 예시 코드 (Example Code)"
      ],
      "metadata": {
        "id": "eJddFO1-BVxA"
      }
    },
    {
      "cell_type": "code",
      "source": [
        "import time\n",
        "\n",
        "def timing_decorator(func):\n",
        "    def wrapper(*args, **kwargs):\n",
        "        start_time = time.time()\n",
        "        result = func(*args, **kwargs)\n",
        "        end_time = time.time()\n",
        "        print(f\"{func.__name__} executed in {end_time - start_time:.4f} seconds\")\n",
        "        return result\n",
        "    return wrapper\n",
        "\n",
        "@timing_decorator\n",
        "def my_function(delay):\n",
        "    \"\"\"A simple function that sleeps for a bit.\"\"\"\n",
        "    time.sleep(delay)\n",
        "    print(\"Function finished.\")\n",
        "\n",
        "my_function(1)"
      ],
      "outputs": [],
      "execution_count": null,
      "metadata": {
        "id": "D_InBeeoBVxA"
      }
    },
    {
      "cell_type": "markdown",
      "source": [
        "*(FastAPI(FastMCP 오타로 추정)에서는 `@app.get(\"/path\")` 등으로 라우팅 및 엔드포인트를 정의하는 데 사용됩니다. 제공된 예시는 일반적인 데코레이터입니다.)*\n",
        "\n",
        "### ✏️ 연습 문제 (Practice Problems)\n",
        "1.  함수의 실행 시간을 측정하여 출력해 주는 `@timer` 데코레이터를 작성해 보세요 (`time.perf_counter` 활용).\n",
        "2.  함수의 인자를 키로 하여 결과를 캐싱하는 `@memoize` 데코레이터를 구현하고, 이를 사용하여 피보나치 수열 계산 함수의 속도를 비교해 보세요. (힌트: 딕셔너리를 사용하여 캐시 저장)"
      ],
      "metadata": {
        "id": "He2YnhZ8BVxA"
      }
    },
    {
      "cell_type": "code",
      "source": [
        "# 연습 문제 1번 & 2번 풀이 공간"
      ],
      "outputs": [],
      "execution_count": null,
      "metadata": {
        "id": "UK_wmsqOBVxA"
      }
    },
    {
      "cell_type": "markdown",
      "source": [
        "---\n",
        "\n",
        "## 9. 비동기 프로그래밍 (`async` / `await` / `async with`)\n",
        "\n",
        "### 💡 개념 (Concept)\n",
        "I/O 바운드 작업(네트워크 요청, 파일 읽기/쓰기 등)이 완료되기를 기다리는 동안 다른 작업을 수행할 수 있도록 하여 프로그램의 효율성을 높이는 프로그래밍 방식입니다.\n",
        "* `async def`로 코루틴 함수를 정의합니다.\n",
        "* `await` 키워드는 `async def` 함수 내에서 다른 코루틴의 실행이 완료될 때까지 현재 코루틴의 실행을 일시 중단하고 이벤트 루프에 제어권을 넘깁니다.\n",
        "* `async with`는 비동기 컨텍스트 관리자를 사용하여 리소스를 안전하게 관리합니다 (예: 비동기 파일 핸들러, 네트워크 연결).\n",
        "\n",
        "### 💻 예시 코드 (Example Code)"
      ],
      "metadata": {
        "id": "TP5tOi3OBVxA"
      }
    },
    {
      "cell_type": "code",
      "source": [
        "import asyncio\n",
        "import httpx # httpx 라이브러리가 설치되어 있어야 합니다. pip install httpx\n",
        "\n",
        "async def fetch_url(url: str) -> str:\n",
        "    print(f\"Starting to fetch {url}\")\n",
        "    async with httpx.AsyncClient() as client:\n",
        "        try:\n",
        "            response = await client.get(url, timeout=10.0)\n",
        "            response.raise_for_status() # 오류가 있으면 예외 발생\n",
        "            print(f\"Finished fetching {url}\")\n",
        "            return response.text[:100] # 처음 100자만 반환\n",
        "        except httpx.RequestError as exc:\n",
        "            print(f\"An error occurred while requesting {url}: {exc}\")\n",
        "            return f\"Error: {exc}\"\n",
        "\n",
        "async def main_example(): # 함수 이름을 main에서 main_example로 변경\n",
        "    text_content = await fetch_url(\"https://www.example.com\")\n",
        "    print(f\"\\nContent from example.com (first 100 chars):\\n{text_content}\")\n",
        "\n",
        "if __name__ == \"__main__\":\n",
        "    # Colab 환경에서는 top-level await을 바로 사용할 수 있거나,\n",
        "    # asyncio.run()을 명시적으로 사용해야 할 수 있습니다.\n",
        "    # 아래 코드는 일반적인 .py 파일 실행 시의 방식입니다.\n",
        "    # asyncio.run(main_example()) # 이 줄의 주석을 풀거나 아래처럼 직접 await 사용\n",
        "    pass\n",
        "# await main_example() # Colab 셀에서 직접 실행시"
      ],
      "outputs": [],
      "execution_count": null,
      "metadata": {
        "id": "8nBursMYBVxA"
      }
    },
    {
      "cell_type": "markdown",
      "source": [
        "실행하려면 `httpx` 라이브러리를 설치해야 합니다:"
      ],
      "metadata": {
        "id": "359qU33QBVxA"
      }
    },
    {
      "cell_type": "code",
      "source": [
        "# !pip install httpx"
      ],
      "outputs": [],
      "execution_count": null,
      "metadata": {
        "id": "gyeUddhbBVxA"
      }
    },
    {
      "cell_type": "markdown",
      "source": [
        "### ✏️ 연습 문제 (Practice Problems)\n",
        "1.  두 개의 다른 URL (예: `https://www.google.com`, `https://www.bing.com`)에서 동시에 (병렬적으로) 데이터를 가져와 각각의 완료 시간을 비교해 보세요. (`asyncio.gather` 사용)\n",
        "2.  `async with` 블록 없이 `httpx.AsyncClient()`를 직접 생성하고, `await client.aclose()`를 호출하여 명시적으로 클라이언트를 종료하는 방식으로 위 예시 코드의 `Workspace_url` 함수와 유사한 기능을 작성해보고 `async with`를 사용했을 때와의 차이점을 설명해 보세요."
      ],
      "metadata": {
        "id": "cKzgSwRHBVxA"
      }
    },
    {
      "cell_type": "code",
      "source": [
        "# 연습 문제 1번 & 2번 풀이 공간"
      ],
      "outputs": [],
      "execution_count": null,
      "metadata": {
        "id": "1WZUadb1BVxA"
      }
    },
    {
      "cell_type": "markdown",
      "source": [
        "---\n",
        "\n",
        "## 10. 예외 처리 (`try` / `except` / `else` / `finally`)\n",
        "\n",
        "### 💡 개념 (Concept)\n",
        "프로그램 실행 중 발생할 수 있는 잠재적 오류(예외)를 처리하여 프로그램이 비정상적으로 종료되는 것을 방지하고, 오류 발생 시 적절히 대응할 수 있도록 하는 구문입니다.\n",
        "* `try`: 예외가 발생할 가능성이 있는 코드를 이 블록 안에 작성합니다.\n",
        "* `except [ExceptionType [as variable]]`: `try` 블록에서 특정 예외가 발생했을 때 실행될 코드를 작성합니다. 여러 `except` 블록을 사용하여 다양한 유형의 예외를 처리할 수 있습니다.\n",
        "* `else`: `try` 블록에서 예외가 발생하지 않았을 때 실행될 코드를 작성합니다. (선택적)\n",
        "* `finally`: 예외 발생 여부와 관계없이 항상 실행될 코드를 작성합니다. (선택적, 주로 리소스 정리 등에 사용)\n",
        "\n",
        "### 💻 예시 코드 (Example Code)"
      ],
      "metadata": {
        "id": "7_P7Xo5CBVxI"
      }
    },
    {
      "cell_type": "code",
      "source": [
        "def divide_numbers(a, b):\n",
        "    try:\n",
        "        result = a / b\n",
        "    except ZeroDivisionError:\n",
        "        print(\"오류: 0으로 나눌 수 없습니다!\")\n",
        "        return None\n",
        "    except TypeError:\n",
        "        print(\"오류: 숫자 타입이 아닌 값으로 연산을 시도했습니다.\")\n",
        "        return None\n",
        "    else:\n",
        "        print(\"나눗셈이 성공적으로 수행되었습니다.\")\n",
        "        return result\n",
        "    finally:\n",
        "        print(\"나눗셈 시도가 완료되었습니다.\")\n",
        "\n",
        "print(divide_numbers(10, 2))\n",
        "print(divide_numbers(10, 0))\n",
        "print(divide_numbers(10, \"a\"))"
      ],
      "outputs": [],
      "execution_count": null,
      "metadata": {
        "id": "7KuUTozgBVxI"
      }
    },
    {
      "cell_type": "markdown",
      "source": [
        "### ✏️ 연습 문제 (Practice Problems)\n",
        "1.  사용자로부터 입력을 받아 `int()` 함수로 변환할 때 발생할 수 있는 `ValueError`를 `try-except` 블록으로 잡아 \"유효한 숫자를 입력하세요.\"라고 안내하는 코드를 작성하세요.\n",
        "2.  파일을 열 때 (`open()`) 해당 파일이 존재하지 않으면 `FileNotFoundError`가 발생합니다. 이 예외를 처리하여, 파일이 없으면 \"파일을 찾을 수 없어 새로 생성합니다.\"라는 메시지를 출력하고 빈 파일을 새로 만들어 보세요. (힌트: `open(filename, 'w').close()`)"
      ],
      "metadata": {
        "id": "Ogbkmk77BVxI"
      }
    },
    {
      "cell_type": "code",
      "source": [
        "# 연습 문제 1번 & 2번 풀이 공간"
      ],
      "outputs": [],
      "execution_count": null,
      "metadata": {
        "id": "d0rRpMBaBVxI"
      }
    },
    {
      "cell_type": "markdown",
      "source": [
        "---\n",
        "\n",
        "## 11. 딕셔너리 (`dict`) 및 JSON 다루기\n",
        "\n",
        "### 💡 개념 (Concept)\n",
        "**딕셔너리**: 키(key)와 값(value)의 쌍으로 이루어진 변경 가능한(mutable) 컬렉션입니다. 중괄호 `{}`를 사용하거나 `dict()` 함수로 생성합니다. 키는 고유해야 하며, 일반적으로 문자열이나 숫자를 사용합니다.\n",
        "    * 값 접근: `my_dict[\"key\"]` 또는 `my_dict.get(\"key\", default_value)`\n",
        "    * `get()` 메소드는 키가 없을 경우 `None`이나 지정된 `default_value`를 반환하여 `KeyError`를 방지합니다.\n",
        "\n",
        "**JSON (JavaScript Object Notation)**: 데이터를 교환하기 위한 경량의 텍스트 기반 형식입니다. 파이썬의 딕셔너리 및 리스트와 매우 유사한 구조를 가집니다. `json` 모듈을 사용하여 파이썬 객체를 JSON 문자열로 변환(`json.dumps()`)하거나 JSON 문자열을 파이썬 객체로 변환(`json.loads()`)할 수 있습니다.\n",
        "\n",
        "### 💻 예시 코드 (Example Code)"
      ],
      "metadata": {
        "id": "U5WUe_9DBVxJ"
      }
    },
    {
      "cell_type": "code",
      "source": [
        "# 딕셔너리\n",
        "user = {\"name\": \"Kim\", \"age\": 22, \"city\": \"Seoul\"}\n",
        "print(f\"Name: {user['name']}\")\n",
        "print(f\"Age: {user.get('age')}\")\n",
        "print(f\"Country: {user.get('country', 'Unknown')}\") # 키가 없을 때 기본값\n",
        "\n",
        "user[\"email\"] = \"kim@example.com\" # 항목 추가\n",
        "print(user)\n",
        "\n",
        "# JSON\n",
        "import json\n",
        "\n",
        "# 파이썬 딕셔너리 -> JSON 문자열\n",
        "json_string = json.dumps(user, indent=2, ensure_ascii=False) # indent로 보기 좋게, 한글 유지\n",
        "print(\"\\nJSON String:\")\n",
        "print(json_string)\n",
        "\n",
        "# JSON 문자열 -> 파이썬 딕셔너리\n",
        "parsed_dict = json.loads(json_string)\n",
        "print(\"\\nParsed Dictionary from JSON:\")\n",
        "print(parsed_dict[\"city\"])"
      ],
      "outputs": [],
      "execution_count": null,
      "metadata": {
        "id": "eDwYrE89BVxJ"
      }
    },
    {
      "cell_type": "markdown",
      "source": [
        "### ✏️ 연습 문제 (Practice Problems)\n",
        "1.  딕셔너리 `data = {\"a\": 10, \"b\": 25, \"c\": 30, \"d\": 15}`의 모든 값을 꺼내 그 합계를 구하세요.\n",
        "2.  JSON 문자열 `person_json = '{\"name\": \"Alice\", \"age\": 28, \"hobbies\": [\"reading\", \"hiking\"]}'`을 파이썬 딕셔너리로 파싱한 후, 이름과 첫 번째 취미를 출력하세요.\n",
        "3.  위에서 파싱한 딕셔너리에 `\"city\": \"New York\"` 항목을 추가하고, 다시 JSON 문자열로 변환하여 출력하세요."
      ],
      "metadata": {
        "id": "embE6TslBVxJ"
      }
    },
    {
      "cell_type": "code",
      "source": [
        "# 연습 문제 1, 2, 3번 풀이 공간"
      ],
      "outputs": [],
      "execution_count": null,
      "metadata": {
        "id": "28gk27b8BVxJ"
      }
    },
    {
      "cell_type": "markdown",
      "source": [
        "---\n",
        "\n",
        "## 12. `Union` 타입 (`|`) 및 `typing.Any`\n",
        "\n",
        "### 💡 개념 (Concept)\n",
        "타입 힌트를 사용할 때, 변수나 함수의 매개변수/반환 값이 여러 타입 중 하나일 수 있음을 명시하는 방법입니다.\n",
        "* **`Union[TypeA, TypeB, ...]` 또는 `TypeA | TypeB | ...` (Python 3.10+)**: 지정된 여러 타입 중 어느 하나가 될 수 있음을 의미합니다.\n",
        "* **`typing.Any`**: 어떤 타입이든 허용함을 의미하며, 사실상 타입 검사를 해당 부분에서 비활성화하는 효과가 있습니다. 꼭 필요한 경우가 아니면 구체적인 타입을 명시하는 것이 좋습니다.\n",
        "\n",
        "### 💻 예시 코드 (Example Code)"
      ],
      "metadata": {
        "id": "wQA5JHPuBVxJ"
      }
    },
    {
      "cell_type": "code",
      "source": [
        "from typing import Union, Any, List\n",
        "\n",
        "# Python 3.10+ syntax for Union\n",
        "def process_data(data: int | str) -> None:\n",
        "    if isinstance(data, int):\n",
        "        print(f\"Processing integer: {data * 2}\")\n",
        "    elif isinstance(data, str):\n",
        "        print(f\"Processing string: {data.upper()}\")\n",
        "\n",
        "process_data(10)\n",
        "process_data(\"hello\")\n",
        "\n",
        "# For older Python versions or more complex Unions\n",
        "def print_item_length(item: Union[str, List[Any]]) -> None:\n",
        "    print(f\"Length: {len(item)}\")\n",
        "\n",
        "print_item_length(\"world\")\n",
        "print_item_length([1, 2, 3, \"a\"])\n",
        "\n",
        "# Using Any (use sparingly)\n",
        "def handle_anything(stuff: Any) -> Any:\n",
        "    print(f\"Received: {stuff} of type {type(stuff)}\")\n",
        "    return stuff\n",
        "\n",
        "handle_anything(100)\n",
        "handle_anything([1,2,3])\n",
        "handle_anything({\"key\": \"value\"})"
      ],
      "outputs": [],
      "execution_count": null,
      "metadata": {
        "id": "kwX2hhDVBVxJ"
      }
    },
    {
      "cell_type": "markdown",
      "source": [
        "### ✏️ 연습 문제 (Practice Problems)\n",
        "1.  매개변수가 문자열 (`str`) 또는 문자열의 리스트 (`list[str]`)를 모두 허용하는 함수 `ensure_list(data: str | list[str]) -> list[str]`를 작성하세요. 이 함수는 입력이 문자열이면 해당 문자열을 유일한 요소로 하는 리스트로 감싸 반환하고, 이미 리스트면 그대로 반환합니다.\n",
        "2.  값이 정수(`int`), 실수(`float`), 또는 문자열(`str`)일 수 있는 파라미터 `value: int | float | str`를 받는 함수를 작성하세요. 이 함수는 입력값이 숫자(정수 또는 실수)면 그 값의 제곱을 반환하고, 문자열이면 그 문자열의 길이를 반환합니다. (반환 타입도 `int | float` 또는 `int | float | None` 등이 될 수 있습니다.)"
      ],
      "metadata": {
        "id": "EZNnOOTkBVxJ"
      }
    },
    {
      "cell_type": "code",
      "source": [
        "# 연습 문제 1번 & 2번 풀이 공간"
      ],
      "outputs": [],
      "execution_count": null,
      "metadata": {
        "id": "CwsFTCi1BVxJ"
      }
    },
    {
      "cell_type": "markdown",
      "source": [
        "---\n",
        "\n",
        "## 13. 논리 연산자 (`and`, `or`, `not`) 및 멤버십 연산자 (`in`, `not in`)\n",
        "\n",
        "### 💡 개념 (Concept)\n",
        "* **논리 연산자**:\n",
        "    * `and`: 두 조건이 모두 참(True)일 때 참을 반환합니다.\n",
        "    * `or`: 두 조건 중 하나라도 참(True)일 때 참을 반환합니다.\n",
        "    * `not`: 조건의 논리 상태를 반전시킵니다 (True는 False로, False는 True로).\n",
        "* **멤버십 연산자**:\n",
        "    * `in`: 특정 값이 시퀀스(리스트, 튜플, 문자열 등)나 컬렉션(딕셔너리의 키, 세트 등) 안에 포함되어 있으면 참을 반환합니다.\n",
        "    * `not in`: 특정 값이 시퀀스나 컬렉션 안에 포함되어 있지 않으면 참을 반환합니다.\n",
        "\n",
        "### 💻 예시 코드 (Example Code)"
      ],
      "metadata": {
        "id": "XJkwvpqJBVxJ"
      }
    },
    {
      "cell_type": "code",
      "source": [
        "# 논리 연산자\n",
        "age = 25\n",
        "has_license = True\n",
        "\n",
        "if age >= 18 and has_license:\n",
        "    print(\"Driving allowed.\")\n",
        "else:\n",
        "    print(\"Driving not allowed.\")\n",
        "\n",
        "is_student = False\n",
        "is_employed = True\n",
        "\n",
        "if is_student or is_employed:\n",
        "    print(\"Has some status.\")\n",
        "\n",
        "if not is_student:\n",
        "    print(\"Not a student.\")\n",
        "\n",
        "# 멤버십 연산자\n",
        "my_list = [1, 2, 3, 'a', 'b']\n",
        "if 3 in my_list:\n",
        "    print(\"3 is in the list.\")\n",
        "\n",
        "if 'c' not in my_list:\n",
        "    print(\"'c' is not in the list.\")\n",
        "\n",
        "my_string = \"hello world\"\n",
        "if \"world\" in my_string:\n",
        "    print(\"'world' is in 'hello world'.\")\n",
        "\n",
        "my_dict = {\"name\": \"Alice\", \"age\": 30}\n",
        "if \"age\" in my_dict: # 딕셔너리의 경우 키 존재 여부 확인\n",
        "    print(\"Key 'age' exists in the dictionary.\")"
      ],
      "outputs": [],
      "execution_count": null,
      "metadata": {
        "id": "rA2cvnABBVxJ"
      }
    },
    {
      "cell_type": "markdown",
      "source": [
        "### ✏️ 연습 문제 (Practice Problems)\n",
        "1.  리스트 `numbers = [10, 20, 30, 40, 50]`가 있습니다. 사용자로부터 숫자를 하나 입력받아, 그 숫자가 `numbers` 리스트에 존재하면 \"Found!\"를, 존재하지 않으면 \"Not found.\"를 출력하세요.\n",
        "2.  사용자로부터 두 개의 문자열을 입력받습니다. 두 문자열의 길이가 모두 3 이상이면 \"Both are valid.\"를 출력하고, 그렇지 않으면 \"At least one string is too short.\"를 출력하세요."
      ],
      "metadata": {
        "id": "9a2GjNzlBVxJ"
      }
    },
    {
      "cell_type": "code",
      "source": [
        "# 연습 문제 1번 & 2번 풀이 공간"
      ],
      "outputs": [],
      "execution_count": null,
      "metadata": {
        "id": "MVcvd-ggBVxJ"
      }
    },
    {
      "cell_type": "markdown",
      "source": [
        "---\n",
        "\n",
        "## 14. 표준 라이브러리 활용 (`asyncio.run`, `pathlib`, `dataclasses`, 등)\n",
        "\n",
        "### 💡 개념 (Concept)\n",
        "파이썬은 \"batteries-included\" 철학에 따라 풍부한 **표준 라이브러리**를 제공합니다. 이를 활용하면 별도의 외부 라이브러리 설치 없이도 다양한 기능을 쉽게 구현할 수 있습니다.\n",
        "* `asyncio.run(coroutine())`: 비동기 프로그래밍에서 메인 코루틴을 간단하게 실행하고 이벤트 루프를 관리해주는 함수입니다. (Python 3.7+)\n",
        "* `pathlib`: 파일 시스템 경로를 객체 지향적으로 다룰 수 있게 해주는 모듈입니다. `Path` 객체를 사용하여 경로 조작, 파일/디렉터리 존재 확인, 생성 등을 직관적으로 수행할 수 있습니다.\n",
        "* `dataclasses`: `@dataclass` 데코레이터를 사용하여 `__init__`, `__repr__`, `__eq__` 등 특별 메소드들을 자동으로 생성해주는 클래스를 간편하게 만들 수 있습니다. 주로 데이터를 담는 용도의 클래스에 유용합니다.\n",
        "* 이 외에도 `datetime` (날짜/시간), `json` (JSON 처리), `math` (수학 함수), `random` (난수 생성), `collections` (추가적인 데이터 구조) 등 매우 다양한 모듈이 있습니다.\n",
        "\n",
        "### 💻 예시 코드 (Example Code)"
      ],
      "metadata": {
        "id": "JEH-jGdWBVxJ"
      }
    },
    {
      "cell_type": "code",
      "source": [
        "# asyncio.run (앞선 비동기 예제에서 이미 사용)\n",
        "import asyncio\n",
        "\n",
        "async def simple_task_example(): # 함수 이름 변경\n",
        "    print(\"Task started\")\n",
        "    await asyncio.sleep(1)\n",
        "    print(\"Task finished\")\n",
        "\n",
        "if __name__ == \"__main__\": # asyncio.run은 top-level에서 호출되어야 함\n",
        "    # asyncio.run(simple_task_example()) # Colab에서는 top-level await이 가능하여 이렇게 직접 실행 가능\n",
        "    pass # 주석 처리하여 다른 예제와 충돌 방지\n",
        "\n",
        "# pathlib\n",
        "from pathlib import Path\n",
        "\n",
        "current_dir = Path(\".\") # 현재 디렉터리\n",
        "# Colab 환경에서 __file__은 정의되어 있지 않으므로 대체 경로 사용\n",
        "script_file_path = Path(\".\").resolve() / \"current_notebook.ipynb\"\n",
        "print(f\"Current directory: {current_dir.resolve()}\")\n",
        "print(f\"Assumed notebook file: {script_file_path}\")\n",
        "print(f\"Does notebook file exist? {script_file_path.exists()}\") # .ipynb 파일은 보통 존재\n",
        "\n",
        "new_dir_example = current_dir / \"my_example_directory\"\n",
        "# new_dir_example.mkdir(exist_ok=True) # 디렉터리 생성 (이미 있어도 오류 없음)\n",
        "# print(f\"'{new_dir_example.name}' directory created or already exists.\")\n",
        "\n",
        "\n",
        "# dataclasses\n",
        "from dataclasses import dataclass\n",
        "\n",
        "@dataclass\n",
        "class Point:\n",
        "    x: float\n",
        "    y: float\n",
        "    label: str = \"default\" # 기본값 지정 가능\n",
        "\n",
        "p1 = Point(1.0, 2.5)\n",
        "p2 = Point(1.0, 2.5, \"A\")\n",
        "p3 = Point(3.0, 4.0, \"B\")\n",
        "\n",
        "print(p1)\n",
        "print(p1 == Point(1.0, 2.5)) # __eq__ 자동 생성\n",
        "print(p2)"
      ],
      "outputs": [],
      "execution_count": null,
      "metadata": {
        "id": "xD1D3bHaBVxJ"
      }
    },
    {
      "cell_type": "markdown",
      "source": [
        "### ✏️ 연습 문제 (Practice Problems)\n",
        "1.  `pathlib.Path`를 사용하여 현재 작업 디렉터리에 `notes.txt`라는 파일이 존재하는지 검사하고, 존재하면 \"notes.txt exists.\", 존재하지 않으면 \"notes.txt does not exist.\"를 출력하는 스크립트를 작성하세요. (파일을 직접 만들 필요는 없습니다, 존재 여부만 확인)\n",
        "2.  `dataclasses.dataclass`를 사용하여 `Book`이라는 데이터 클래스를 선언하세요. 이 클래스는 `title` (문자열), `author` (문자열), `pages` (정수) 세 가지 필드를 가집니다. `Book` 클래스의 인스턴스 두 개를 만들어 리스트에 담고, 이 리스트를 출력해 보세요."
      ],
      "metadata": {
        "id": "Z-4VnbDGBVxJ"
      }
    },
    {
      "cell_type": "code",
      "source": [
        "# 연습 문제 1번 & 2번 풀이 공간"
      ],
      "outputs": [],
      "execution_count": null,
      "metadata": {
        "id": "2FO10_ioBVxJ"
      }
    },
    {
      "cell_type": "markdown",
      "source": [
        "---\n",
        "\n",
        "## 💡 사용 Tip (Usage Tips)\n",
        "\n",
        "* 실습 순서는 위 번호 그대로 진행하면 난이도가 자연스럽게 상승합니다.\n",
        "* 각 문제는 5–10줄 이내로 해결 가능하며, Colab 셀에서 직접 코딩하며 풀이를 확인하면 효과적입니다."
      ],
      "metadata": {
        "id": "UD26aSteBVxJ"
      }
    },
    {
      "cell_type": "markdown",
      "source": [
        "<div class=\"md-recitation\">\n",
        "  Sources\n",
        "  <ol>\n",
        "  <li><a href=\"https://towardsdatascience.com/fast-load-data-to-sql-from-python-2d67aea946c0\">https://towardsdatascience.com/fast-load-data-to-sql-from-python-2d67aea946c0</a></li>\n",
        "  <li><a href=\"https://github.com/JustinMeimar/hack-gpt-dev\">https://github.com/JustinMeimar/hack-gpt-dev</a></li>\n",
        "  </ol>\n",
        "</div>"
      ],
      "metadata": {
        "id": "sf8U_4GaBVxJ"
      }
    }
  ],
  "metadata": {
    "colab": {
      "provenance": []
    },
    "kernelspec": {
      "display_name": "Python 3",
      "name": "python3"
    }
  },
  "nbformat": 4,
  "nbformat_minor": 0
}