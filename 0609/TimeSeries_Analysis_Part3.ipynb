{
  "cells": [
    {
      "cell_type": "markdown",
      "metadata": {
        "id": "ooA-mhUoc6xm"
      },
      "source": [
        "## 🐍 시계열 데이터 상관성 분석 (ACF & PACF)\n",
        "\n",
        "시계열 데이터의 숨겨진 패턴을 파악하는 데 필수적인 **자기상관 함수(ACF)** 와 **부분 자기상관 함수(PACF)** 의 개념을 배우고, `statsmodels`와 `plotly`를 사용하여 시각화 및 해석하는 방법을 실습합니다.\n",
        "\n",
        "---\n",
        "\n",
        "## 1. 데이터 준비 및 시계열 시각화\n",
        "\n",
        "### 💡 개념 (Concept)\n",
        "\n",
        "시계열 분석의 첫걸음은 데이터를 불러와 시간의 흐름에 따른 변화를 시각적으로 확인하는 것입니다. 이를 통해 데이터의 전반적인 **추세(Trend)**, **계절성(Seasonality)**, 불규칙한 **변동(Irregularity)** 등의 특징을 직관적으로 파악할 수 있습니다.\n",
        "\n",
        "### 💻 예시 코드 (Example Code)\n",
        "\n",
        "`pandas`로 데이터를 불러오고 `plotly.express`를 사용해 월별 출생아 수 데이터를 시각화하는 예시입니다."
      ]
    },
    {
      "cell_type": "code",
      "execution_count": 4,
      "metadata": {},
      "outputs": [],
      "source": [
        "import koreanize_matplotlib\n",
        "koreanize_matplotlib.koreanize()"
      ]
    },
    {
      "cell_type": "code",
      "execution_count": 5,
      "metadata": {
        "id": "Pm9o8dOKc6xo"
      },
      "outputs": [
        {
          "data": {
            "application/vnd.plotly.v1+json": {
              "config": {
                "plotlyServerURL": "https://plot.ly"
              },
              "data": [
                {
                  "hovertemplate": "index=%{x}<br>출생아수=%{y}<extra></extra>",
                  "legendgroup": "",
                  "line": {
                    "color": "#636efa",
                    "dash": "solid"
                  },
                  "marker": {
                    "symbol": "circle"
                  },
                  "mode": "lines",
                  "name": "",
                  "orientation": "v",
                  "showlegend": false,
                  "type": "scatter",
                  "x": [
                    "1981-01-01T00:00:00",
                    "1981-02-01T00:00:00",
                    "1981-03-01T00:00:00",
                    "1981-04-01T00:00:00",
                    "1981-05-01T00:00:00",
                    "1981-06-01T00:00:00",
                    "1981-07-01T00:00:00",
                    "1981-08-01T00:00:00",
                    "1981-09-01T00:00:00",
                    "1981-10-01T00:00:00",
                    "1981-11-01T00:00:00",
                    "1981-12-01T00:00:00",
                    "1982-01-01T00:00:00",
                    "1982-02-01T00:00:00",
                    "1982-03-01T00:00:00",
                    "1982-04-01T00:00:00",
                    "1982-05-01T00:00:00",
                    "1982-06-01T00:00:00",
                    "1982-07-01T00:00:00",
                    "1982-08-01T00:00:00",
                    "1982-09-01T00:00:00",
                    "1982-10-01T00:00:00",
                    "1982-11-01T00:00:00",
                    "1982-12-01T00:00:00",
                    "1983-01-01T00:00:00",
                    "1983-02-01T00:00:00",
                    "1983-03-01T00:00:00",
                    "1983-04-01T00:00:00",
                    "1983-05-01T00:00:00",
                    "1983-06-01T00:00:00",
                    "1983-07-01T00:00:00",
                    "1983-08-01T00:00:00",
                    "1983-09-01T00:00:00",
                    "1983-10-01T00:00:00",
                    "1983-11-01T00:00:00",
                    "1983-12-01T00:00:00",
                    "1984-01-01T00:00:00",
                    "1984-02-01T00:00:00",
                    "1984-03-01T00:00:00",
                    "1984-04-01T00:00:00",
                    "1984-05-01T00:00:00",
                    "1984-06-01T00:00:00",
                    "1984-07-01T00:00:00",
                    "1984-08-01T00:00:00",
                    "1984-09-01T00:00:00",
                    "1984-10-01T00:00:00",
                    "1984-11-01T00:00:00",
                    "1984-12-01T00:00:00",
                    "1985-01-01T00:00:00",
                    "1985-02-01T00:00:00",
                    "1985-03-01T00:00:00",
                    "1985-04-01T00:00:00",
                    "1985-05-01T00:00:00",
                    "1985-06-01T00:00:00",
                    "1985-07-01T00:00:00",
                    "1985-08-01T00:00:00",
                    "1985-09-01T00:00:00",
                    "1985-10-01T00:00:00",
                    "1985-11-01T00:00:00",
                    "1985-12-01T00:00:00",
                    "1986-01-01T00:00:00",
                    "1986-02-01T00:00:00",
                    "1986-03-01T00:00:00",
                    "1986-04-01T00:00:00",
                    "1986-05-01T00:00:00",
                    "1986-06-01T00:00:00",
                    "1986-07-01T00:00:00",
                    "1986-08-01T00:00:00",
                    "1986-09-01T00:00:00",
                    "1986-10-01T00:00:00",
                    "1986-11-01T00:00:00",
                    "1986-12-01T00:00:00",
                    "1987-01-01T00:00:00",
                    "1987-02-01T00:00:00",
                    "1987-03-01T00:00:00",
                    "1987-04-01T00:00:00",
                    "1987-05-01T00:00:00",
                    "1987-06-01T00:00:00",
                    "1987-07-01T00:00:00",
                    "1987-08-01T00:00:00",
                    "1987-09-01T00:00:00",
                    "1987-10-01T00:00:00",
                    "1987-11-01T00:00:00",
                    "1987-12-01T00:00:00",
                    "1988-01-01T00:00:00",
                    "1988-02-01T00:00:00",
                    "1988-03-01T00:00:00",
                    "1988-04-01T00:00:00",
                    "1988-05-01T00:00:00",
                    "1988-06-01T00:00:00",
                    "1988-07-01T00:00:00",
                    "1988-08-01T00:00:00",
                    "1988-09-01T00:00:00",
                    "1988-10-01T00:00:00",
                    "1988-11-01T00:00:00",
                    "1988-12-01T00:00:00",
                    "1989-01-01T00:00:00",
                    "1989-02-01T00:00:00",
                    "1989-03-01T00:00:00",
                    "1989-04-01T00:00:00",
                    "1989-05-01T00:00:00",
                    "1989-06-01T00:00:00",
                    "1989-07-01T00:00:00",
                    "1989-08-01T00:00:00",
                    "1989-09-01T00:00:00",
                    "1989-10-01T00:00:00",
                    "1989-11-01T00:00:00",
                    "1989-12-01T00:00:00",
                    "1990-01-01T00:00:00",
                    "1990-02-01T00:00:00",
                    "1990-03-01T00:00:00",
                    "1990-04-01T00:00:00",
                    "1990-05-01T00:00:00",
                    "1990-06-01T00:00:00",
                    "1990-07-01T00:00:00",
                    "1990-08-01T00:00:00",
                    "1990-09-01T00:00:00",
                    "1990-10-01T00:00:00",
                    "1990-11-01T00:00:00",
                    "1990-12-01T00:00:00",
                    "1991-01-01T00:00:00",
                    "1991-02-01T00:00:00",
                    "1991-03-01T00:00:00",
                    "1991-04-01T00:00:00",
                    "1991-05-01T00:00:00",
                    "1991-06-01T00:00:00",
                    "1991-07-01T00:00:00",
                    "1991-08-01T00:00:00",
                    "1991-09-01T00:00:00",
                    "1991-10-01T00:00:00",
                    "1991-11-01T00:00:00",
                    "1991-12-01T00:00:00",
                    "1992-01-01T00:00:00",
                    "1992-02-01T00:00:00",
                    "1992-03-01T00:00:00",
                    "1992-04-01T00:00:00",
                    "1992-05-01T00:00:00",
                    "1992-06-01T00:00:00",
                    "1992-07-01T00:00:00",
                    "1992-08-01T00:00:00",
                    "1992-09-01T00:00:00",
                    "1992-10-01T00:00:00",
                    "1992-11-01T00:00:00",
                    "1992-12-01T00:00:00",
                    "1993-01-01T00:00:00",
                    "1993-02-01T00:00:00",
                    "1993-03-01T00:00:00",
                    "1993-04-01T00:00:00",
                    "1993-05-01T00:00:00",
                    "1993-06-01T00:00:00",
                    "1993-07-01T00:00:00",
                    "1993-08-01T00:00:00",
                    "1993-09-01T00:00:00",
                    "1993-10-01T00:00:00",
                    "1993-11-01T00:00:00",
                    "1993-12-01T00:00:00",
                    "1994-01-01T00:00:00",
                    "1994-02-01T00:00:00",
                    "1994-03-01T00:00:00",
                    "1994-04-01T00:00:00",
                    "1994-05-01T00:00:00",
                    "1994-06-01T00:00:00",
                    "1994-07-01T00:00:00",
                    "1994-08-01T00:00:00",
                    "1994-09-01T00:00:00",
                    "1994-10-01T00:00:00",
                    "1994-11-01T00:00:00",
                    "1994-12-01T00:00:00",
                    "1995-01-01T00:00:00",
                    "1995-02-01T00:00:00",
                    "1995-03-01T00:00:00",
                    "1995-04-01T00:00:00",
                    "1995-05-01T00:00:00",
                    "1995-06-01T00:00:00",
                    "1995-07-01T00:00:00",
                    "1995-08-01T00:00:00",
                    "1995-09-01T00:00:00",
                    "1995-10-01T00:00:00",
                    "1995-11-01T00:00:00",
                    "1995-12-01T00:00:00",
                    "1996-01-01T00:00:00",
                    "1996-02-01T00:00:00",
                    "1996-03-01T00:00:00",
                    "1996-04-01T00:00:00",
                    "1996-05-01T00:00:00",
                    "1996-06-01T00:00:00",
                    "1996-07-01T00:00:00",
                    "1996-08-01T00:00:00",
                    "1996-09-01T00:00:00",
                    "1996-10-01T00:00:00",
                    "1996-11-01T00:00:00",
                    "1996-12-01T00:00:00",
                    "1997-01-01T00:00:00",
                    "1997-02-01T00:00:00",
                    "1997-03-01T00:00:00",
                    "1997-04-01T00:00:00",
                    "1997-05-01T00:00:00",
                    "1997-06-01T00:00:00",
                    "1997-07-01T00:00:00",
                    "1997-08-01T00:00:00",
                    "1997-09-01T00:00:00",
                    "1997-10-01T00:00:00",
                    "1997-11-01T00:00:00",
                    "1997-12-01T00:00:00",
                    "1998-01-01T00:00:00",
                    "1998-02-01T00:00:00",
                    "1998-03-01T00:00:00",
                    "1998-04-01T00:00:00",
                    "1998-05-01T00:00:00",
                    "1998-06-01T00:00:00",
                    "1998-07-01T00:00:00",
                    "1998-08-01T00:00:00",
                    "1998-09-01T00:00:00",
                    "1998-10-01T00:00:00",
                    "1998-11-01T00:00:00",
                    "1998-12-01T00:00:00",
                    "1999-01-01T00:00:00",
                    "1999-02-01T00:00:00",
                    "1999-03-01T00:00:00",
                    "1999-04-01T00:00:00",
                    "1999-05-01T00:00:00",
                    "1999-06-01T00:00:00",
                    "1999-07-01T00:00:00",
                    "1999-08-01T00:00:00",
                    "1999-09-01T00:00:00",
                    "1999-10-01T00:00:00",
                    "1999-11-01T00:00:00",
                    "1999-12-01T00:00:00",
                    "2000-01-01T00:00:00",
                    "2000-02-01T00:00:00",
                    "2000-03-01T00:00:00",
                    "2000-04-01T00:00:00",
                    "2000-05-01T00:00:00",
                    "2000-06-01T00:00:00",
                    "2000-07-01T00:00:00",
                    "2000-08-01T00:00:00",
                    "2000-09-01T00:00:00",
                    "2000-10-01T00:00:00",
                    "2000-11-01T00:00:00",
                    "2000-12-01T00:00:00",
                    "2001-01-01T00:00:00",
                    "2001-02-01T00:00:00",
                    "2001-03-01T00:00:00",
                    "2001-04-01T00:00:00",
                    "2001-05-01T00:00:00",
                    "2001-06-01T00:00:00",
                    "2001-07-01T00:00:00",
                    "2001-08-01T00:00:00",
                    "2001-09-01T00:00:00",
                    "2001-10-01T00:00:00",
                    "2001-11-01T00:00:00",
                    "2001-12-01T00:00:00",
                    "2002-01-01T00:00:00",
                    "2002-02-01T00:00:00",
                    "2002-03-01T00:00:00",
                    "2002-04-01T00:00:00",
                    "2002-05-01T00:00:00",
                    "2002-06-01T00:00:00",
                    "2002-07-01T00:00:00",
                    "2002-08-01T00:00:00",
                    "2002-09-01T00:00:00",
                    "2002-10-01T00:00:00",
                    "2002-11-01T00:00:00",
                    "2002-12-01T00:00:00",
                    "2003-01-01T00:00:00",
                    "2003-02-01T00:00:00",
                    "2003-03-01T00:00:00",
                    "2003-04-01T00:00:00",
                    "2003-05-01T00:00:00",
                    "2003-06-01T00:00:00",
                    "2003-07-01T00:00:00",
                    "2003-08-01T00:00:00",
                    "2003-09-01T00:00:00",
                    "2003-10-01T00:00:00",
                    "2003-11-01T00:00:00",
                    "2003-12-01T00:00:00",
                    "2004-01-01T00:00:00",
                    "2004-02-01T00:00:00",
                    "2004-03-01T00:00:00",
                    "2004-04-01T00:00:00",
                    "2004-05-01T00:00:00",
                    "2004-06-01T00:00:00",
                    "2004-07-01T00:00:00",
                    "2004-08-01T00:00:00",
                    "2004-09-01T00:00:00",
                    "2004-10-01T00:00:00",
                    "2004-11-01T00:00:00",
                    "2004-12-01T00:00:00",
                    "2005-01-01T00:00:00",
                    "2005-02-01T00:00:00",
                    "2005-03-01T00:00:00",
                    "2005-04-01T00:00:00",
                    "2005-05-01T00:00:00",
                    "2005-06-01T00:00:00",
                    "2005-07-01T00:00:00",
                    "2005-08-01T00:00:00",
                    "2005-09-01T00:00:00",
                    "2005-10-01T00:00:00",
                    "2005-11-01T00:00:00",
                    "2005-12-01T00:00:00",
                    "2006-01-01T00:00:00",
                    "2006-02-01T00:00:00",
                    "2006-03-01T00:00:00",
                    "2006-04-01T00:00:00",
                    "2006-05-01T00:00:00",
                    "2006-06-01T00:00:00",
                    "2006-07-01T00:00:00",
                    "2006-08-01T00:00:00",
                    "2006-09-01T00:00:00",
                    "2006-10-01T00:00:00",
                    "2006-11-01T00:00:00",
                    "2006-12-01T00:00:00",
                    "2007-01-01T00:00:00",
                    "2007-02-01T00:00:00",
                    "2007-03-01T00:00:00",
                    "2007-04-01T00:00:00",
                    "2007-05-01T00:00:00",
                    "2007-06-01T00:00:00",
                    "2007-07-01T00:00:00",
                    "2007-08-01T00:00:00",
                    "2007-09-01T00:00:00",
                    "2007-10-01T00:00:00",
                    "2007-11-01T00:00:00",
                    "2007-12-01T00:00:00",
                    "2008-01-01T00:00:00",
                    "2008-02-01T00:00:00",
                    "2008-03-01T00:00:00",
                    "2008-04-01T00:00:00",
                    "2008-05-01T00:00:00",
                    "2008-06-01T00:00:00",
                    "2008-07-01T00:00:00",
                    "2008-08-01T00:00:00",
                    "2008-09-01T00:00:00",
                    "2008-10-01T00:00:00",
                    "2008-11-01T00:00:00",
                    "2008-12-01T00:00:00",
                    "2009-01-01T00:00:00",
                    "2009-02-01T00:00:00",
                    "2009-03-01T00:00:00",
                    "2009-04-01T00:00:00",
                    "2009-05-01T00:00:00",
                    "2009-06-01T00:00:00",
                    "2009-07-01T00:00:00",
                    "2009-08-01T00:00:00",
                    "2009-09-01T00:00:00",
                    "2009-10-01T00:00:00",
                    "2009-11-01T00:00:00",
                    "2009-12-01T00:00:00",
                    "2010-01-01T00:00:00",
                    "2010-02-01T00:00:00",
                    "2010-03-01T00:00:00",
                    "2010-04-01T00:00:00",
                    "2010-05-01T00:00:00",
                    "2010-06-01T00:00:00",
                    "2010-07-01T00:00:00",
                    "2010-08-01T00:00:00",
                    "2010-09-01T00:00:00",
                    "2010-10-01T00:00:00",
                    "2010-11-01T00:00:00",
                    "2010-12-01T00:00:00",
                    "2011-01-01T00:00:00",
                    "2011-02-01T00:00:00",
                    "2011-03-01T00:00:00",
                    "2011-04-01T00:00:00",
                    "2011-05-01T00:00:00",
                    "2011-06-01T00:00:00",
                    "2011-07-01T00:00:00",
                    "2011-08-01T00:00:00",
                    "2011-09-01T00:00:00",
                    "2011-10-01T00:00:00",
                    "2011-11-01T00:00:00",
                    "2011-12-01T00:00:00",
                    "2012-01-01T00:00:00",
                    "2012-02-01T00:00:00",
                    "2012-03-01T00:00:00",
                    "2012-04-01T00:00:00",
                    "2012-05-01T00:00:00",
                    "2012-06-01T00:00:00",
                    "2012-07-01T00:00:00",
                    "2012-08-01T00:00:00",
                    "2012-09-01T00:00:00",
                    "2012-10-01T00:00:00",
                    "2012-11-01T00:00:00",
                    "2012-12-01T00:00:00",
                    "2013-01-01T00:00:00",
                    "2013-02-01T00:00:00",
                    "2013-03-01T00:00:00",
                    "2013-04-01T00:00:00",
                    "2013-05-01T00:00:00",
                    "2013-06-01T00:00:00",
                    "2013-07-01T00:00:00",
                    "2013-08-01T00:00:00",
                    "2013-09-01T00:00:00",
                    "2013-10-01T00:00:00",
                    "2013-11-01T00:00:00",
                    "2013-12-01T00:00:00",
                    "2014-01-01T00:00:00",
                    "2014-02-01T00:00:00",
                    "2014-03-01T00:00:00",
                    "2014-04-01T00:00:00",
                    "2014-05-01T00:00:00",
                    "2014-06-01T00:00:00",
                    "2014-07-01T00:00:00",
                    "2014-08-01T00:00:00",
                    "2014-09-01T00:00:00",
                    "2014-10-01T00:00:00",
                    "2014-11-01T00:00:00",
                    "2014-12-01T00:00:00",
                    "2015-01-01T00:00:00",
                    "2015-02-01T00:00:00",
                    "2015-03-01T00:00:00",
                    "2015-04-01T00:00:00",
                    "2015-05-01T00:00:00",
                    "2015-06-01T00:00:00",
                    "2015-07-01T00:00:00",
                    "2015-08-01T00:00:00",
                    "2015-09-01T00:00:00",
                    "2015-10-01T00:00:00",
                    "2015-11-01T00:00:00",
                    "2015-12-01T00:00:00",
                    "2016-01-01T00:00:00",
                    "2016-02-01T00:00:00",
                    "2016-03-01T00:00:00",
                    "2016-04-01T00:00:00",
                    "2016-05-01T00:00:00",
                    "2016-06-01T00:00:00",
                    "2016-07-01T00:00:00",
                    "2016-08-01T00:00:00",
                    "2016-09-01T00:00:00",
                    "2016-10-01T00:00:00",
                    "2016-11-01T00:00:00",
                    "2016-12-01T00:00:00",
                    "2017-01-01T00:00:00",
                    "2017-02-01T00:00:00",
                    "2017-03-01T00:00:00",
                    "2017-04-01T00:00:00",
                    "2017-05-01T00:00:00",
                    "2017-06-01T00:00:00",
                    "2017-07-01T00:00:00",
                    "2017-08-01T00:00:00",
                    "2017-09-01T00:00:00",
                    "2017-10-01T00:00:00",
                    "2017-11-01T00:00:00",
                    "2017-12-01T00:00:00",
                    "2018-01-01T00:00:00",
                    "2018-02-01T00:00:00",
                    "2018-03-01T00:00:00",
                    "2018-04-01T00:00:00",
                    "2018-05-01T00:00:00",
                    "2018-06-01T00:00:00",
                    "2018-07-01T00:00:00",
                    "2018-08-01T00:00:00",
                    "2018-09-01T00:00:00",
                    "2018-10-01T00:00:00",
                    "2018-11-01T00:00:00",
                    "2018-12-01T00:00:00",
                    "2019-01-01T00:00:00",
                    "2019-02-01T00:00:00",
                    "2019-03-01T00:00:00",
                    "2019-04-01T00:00:00",
                    "2019-05-01T00:00:00",
                    "2019-06-01T00:00:00",
                    "2019-07-01T00:00:00",
                    "2019-08-01T00:00:00",
                    "2019-09-01T00:00:00",
                    "2019-10-01T00:00:00",
                    "2019-11-01T00:00:00",
                    "2019-12-01T00:00:00",
                    "2020-01-01T00:00:00",
                    "2020-02-01T00:00:00",
                    "2020-03-01T00:00:00",
                    "2020-04-01T00:00:00",
                    "2020-05-01T00:00:00",
                    "2020-06-01T00:00:00",
                    "2020-07-01T00:00:00",
                    "2020-08-01T00:00:00",
                    "2020-09-01T00:00:00",
                    "2020-10-01T00:00:00",
                    "2020-11-01T00:00:00",
                    "2020-12-01T00:00:00",
                    "2021-01-01T00:00:00",
                    "2021-02-01T00:00:00",
                    "2021-03-01T00:00:00",
                    "2021-04-01T00:00:00",
                    "2021-05-01T00:00:00",
                    "2021-06-01T00:00:00",
                    "2021-07-01T00:00:00",
                    "2021-08-01T00:00:00",
                    "2021-09-01T00:00:00",
                    "2021-10-01T00:00:00",
                    "2021-11-01T00:00:00",
                    "2021-12-01T00:00:00",
                    "2022-01-01T00:00:00",
                    "2022-02-01T00:00:00",
                    "2022-03-01T00:00:00",
                    "2022-04-01T00:00:00",
                    "2022-05-01T00:00:00",
                    "2022-06-01T00:00:00",
                    "2022-07-01T00:00:00",
                    "2022-08-01T00:00:00",
                    "2022-09-01T00:00:00",
                    "2022-10-01T00:00:00",
                    "2022-11-01T00:00:00",
                    "2022-12-01T00:00:00",
                    "2023-01-01T00:00:00",
                    "2023-02-01T00:00:00",
                    "2023-03-01T00:00:00",
                    "2023-04-01T00:00:00",
                    "2023-05-01T00:00:00",
                    "2023-06-01T00:00:00",
                    "2023-07-01T00:00:00",
                    "2023-08-01T00:00:00",
                    "2023-09-01T00:00:00",
                    "2023-10-01T00:00:00",
                    "2023-11-01T00:00:00",
                    "2023-12-01T00:00:00",
                    "2024-01-01T00:00:00",
                    "2024-02-01T00:00:00",
                    "2024-03-01T00:00:00"
                  ],
                  "xaxis": "x",
                  "y": {
                    "bdata": "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",
                    "dtype": "f8"
                  },
                  "yaxis": "y"
                }
              ],
              "layout": {
                "legend": {
                  "tracegroupgap": 0
                },
                "template": {
                  "data": {
                    "bar": [
                      {
                        "error_x": {
                          "color": "#2a3f5f"
                        },
                        "error_y": {
                          "color": "#2a3f5f"
                        },
                        "marker": {
                          "line": {
                            "color": "#E5ECF6",
                            "width": 0.5
                          },
                          "pattern": {
                            "fillmode": "overlay",
                            "size": 10,
                            "solidity": 0.2
                          }
                        },
                        "type": "bar"
                      }
                    ],
                    "barpolar": [
                      {
                        "marker": {
                          "line": {
                            "color": "#E5ECF6",
                            "width": 0.5
                          },
                          "pattern": {
                            "fillmode": "overlay",
                            "size": 10,
                            "solidity": 0.2
                          }
                        },
                        "type": "barpolar"
                      }
                    ],
                    "carpet": [
                      {
                        "aaxis": {
                          "endlinecolor": "#2a3f5f",
                          "gridcolor": "white",
                          "linecolor": "white",
                          "minorgridcolor": "white",
                          "startlinecolor": "#2a3f5f"
                        },
                        "baxis": {
                          "endlinecolor": "#2a3f5f",
                          "gridcolor": "white",
                          "linecolor": "white",
                          "minorgridcolor": "white",
                          "startlinecolor": "#2a3f5f"
                        },
                        "type": "carpet"
                      }
                    ],
                    "choropleth": [
                      {
                        "colorbar": {
                          "outlinewidth": 0,
                          "ticks": ""
                        },
                        "type": "choropleth"
                      }
                    ],
                    "contour": [
                      {
                        "colorbar": {
                          "outlinewidth": 0,
                          "ticks": ""
                        },
                        "colorscale": [
                          [
                            0,
                            "#0d0887"
                          ],
                          [
                            0.1111111111111111,
                            "#46039f"
                          ],
                          [
                            0.2222222222222222,
                            "#7201a8"
                          ],
                          [
                            0.3333333333333333,
                            "#9c179e"
                          ],
                          [
                            0.4444444444444444,
                            "#bd3786"
                          ],
                          [
                            0.5555555555555556,
                            "#d8576b"
                          ],
                          [
                            0.6666666666666666,
                            "#ed7953"
                          ],
                          [
                            0.7777777777777778,
                            "#fb9f3a"
                          ],
                          [
                            0.8888888888888888,
                            "#fdca26"
                          ],
                          [
                            1,
                            "#f0f921"
                          ]
                        ],
                        "type": "contour"
                      }
                    ],
                    "contourcarpet": [
                      {
                        "colorbar": {
                          "outlinewidth": 0,
                          "ticks": ""
                        },
                        "type": "contourcarpet"
                      }
                    ],
                    "heatmap": [
                      {
                        "colorbar": {
                          "outlinewidth": 0,
                          "ticks": ""
                        },
                        "colorscale": [
                          [
                            0,
                            "#0d0887"
                          ],
                          [
                            0.1111111111111111,
                            "#46039f"
                          ],
                          [
                            0.2222222222222222,
                            "#7201a8"
                          ],
                          [
                            0.3333333333333333,
                            "#9c179e"
                          ],
                          [
                            0.4444444444444444,
                            "#bd3786"
                          ],
                          [
                            0.5555555555555556,
                            "#d8576b"
                          ],
                          [
                            0.6666666666666666,
                            "#ed7953"
                          ],
                          [
                            0.7777777777777778,
                            "#fb9f3a"
                          ],
                          [
                            0.8888888888888888,
                            "#fdca26"
                          ],
                          [
                            1,
                            "#f0f921"
                          ]
                        ],
                        "type": "heatmap"
                      }
                    ],
                    "histogram": [
                      {
                        "marker": {
                          "pattern": {
                            "fillmode": "overlay",
                            "size": 10,
                            "solidity": 0.2
                          }
                        },
                        "type": "histogram"
                      }
                    ],
                    "histogram2d": [
                      {
                        "colorbar": {
                          "outlinewidth": 0,
                          "ticks": ""
                        },
                        "colorscale": [
                          [
                            0,
                            "#0d0887"
                          ],
                          [
                            0.1111111111111111,
                            "#46039f"
                          ],
                          [
                            0.2222222222222222,
                            "#7201a8"
                          ],
                          [
                            0.3333333333333333,
                            "#9c179e"
                          ],
                          [
                            0.4444444444444444,
                            "#bd3786"
                          ],
                          [
                            0.5555555555555556,
                            "#d8576b"
                          ],
                          [
                            0.6666666666666666,
                            "#ed7953"
                          ],
                          [
                            0.7777777777777778,
                            "#fb9f3a"
                          ],
                          [
                            0.8888888888888888,
                            "#fdca26"
                          ],
                          [
                            1,
                            "#f0f921"
                          ]
                        ],
                        "type": "histogram2d"
                      }
                    ],
                    "histogram2dcontour": [
                      {
                        "colorbar": {
                          "outlinewidth": 0,
                          "ticks": ""
                        },
                        "colorscale": [
                          [
                            0,
                            "#0d0887"
                          ],
                          [
                            0.1111111111111111,
                            "#46039f"
                          ],
                          [
                            0.2222222222222222,
                            "#7201a8"
                          ],
                          [
                            0.3333333333333333,
                            "#9c179e"
                          ],
                          [
                            0.4444444444444444,
                            "#bd3786"
                          ],
                          [
                            0.5555555555555556,
                            "#d8576b"
                          ],
                          [
                            0.6666666666666666,
                            "#ed7953"
                          ],
                          [
                            0.7777777777777778,
                            "#fb9f3a"
                          ],
                          [
                            0.8888888888888888,
                            "#fdca26"
                          ],
                          [
                            1,
                            "#f0f921"
                          ]
                        ],
                        "type": "histogram2dcontour"
                      }
                    ],
                    "mesh3d": [
                      {
                        "colorbar": {
                          "outlinewidth": 0,
                          "ticks": ""
                        },
                        "type": "mesh3d"
                      }
                    ],
                    "parcoords": [
                      {
                        "line": {
                          "colorbar": {
                            "outlinewidth": 0,
                            "ticks": ""
                          }
                        },
                        "type": "parcoords"
                      }
                    ],
                    "pie": [
                      {
                        "automargin": true,
                        "type": "pie"
                      }
                    ],
                    "scatter": [
                      {
                        "fillpattern": {
                          "fillmode": "overlay",
                          "size": 10,
                          "solidity": 0.2
                        },
                        "type": "scatter"
                      }
                    ],
                    "scatter3d": [
                      {
                        "line": {
                          "colorbar": {
                            "outlinewidth": 0,
                            "ticks": ""
                          }
                        },
                        "marker": {
                          "colorbar": {
                            "outlinewidth": 0,
                            "ticks": ""
                          }
                        },
                        "type": "scatter3d"
                      }
                    ],
                    "scattercarpet": [
                      {
                        "marker": {
                          "colorbar": {
                            "outlinewidth": 0,
                            "ticks": ""
                          }
                        },
                        "type": "scattercarpet"
                      }
                    ],
                    "scattergeo": [
                      {
                        "marker": {
                          "colorbar": {
                            "outlinewidth": 0,
                            "ticks": ""
                          }
                        },
                        "type": "scattergeo"
                      }
                    ],
                    "scattergl": [
                      {
                        "marker": {
                          "colorbar": {
                            "outlinewidth": 0,
                            "ticks": ""
                          }
                        },
                        "type": "scattergl"
                      }
                    ],
                    "scattermap": [
                      {
                        "marker": {
                          "colorbar": {
                            "outlinewidth": 0,
                            "ticks": ""
                          }
                        },
                        "type": "scattermap"
                      }
                    ],
                    "scattermapbox": [
                      {
                        "marker": {
                          "colorbar": {
                            "outlinewidth": 0,
                            "ticks": ""
                          }
                        },
                        "type": "scattermapbox"
                      }
                    ],
                    "scatterpolar": [
                      {
                        "marker": {
                          "colorbar": {
                            "outlinewidth": 0,
                            "ticks": ""
                          }
                        },
                        "type": "scatterpolar"
                      }
                    ],
                    "scatterpolargl": [
                      {
                        "marker": {
                          "colorbar": {
                            "outlinewidth": 0,
                            "ticks": ""
                          }
                        },
                        "type": "scatterpolargl"
                      }
                    ],
                    "scatterternary": [
                      {
                        "marker": {
                          "colorbar": {
                            "outlinewidth": 0,
                            "ticks": ""
                          }
                        },
                        "type": "scatterternary"
                      }
                    ],
                    "surface": [
                      {
                        "colorbar": {
                          "outlinewidth": 0,
                          "ticks": ""
                        },
                        "colorscale": [
                          [
                            0,
                            "#0d0887"
                          ],
                          [
                            0.1111111111111111,
                            "#46039f"
                          ],
                          [
                            0.2222222222222222,
                            "#7201a8"
                          ],
                          [
                            0.3333333333333333,
                            "#9c179e"
                          ],
                          [
                            0.4444444444444444,
                            "#bd3786"
                          ],
                          [
                            0.5555555555555556,
                            "#d8576b"
                          ],
                          [
                            0.6666666666666666,
                            "#ed7953"
                          ],
                          [
                            0.7777777777777778,
                            "#fb9f3a"
                          ],
                          [
                            0.8888888888888888,
                            "#fdca26"
                          ],
                          [
                            1,
                            "#f0f921"
                          ]
                        ],
                        "type": "surface"
                      }
                    ],
                    "table": [
                      {
                        "cells": {
                          "fill": {
                            "color": "#EBF0F8"
                          },
                          "line": {
                            "color": "white"
                          }
                        },
                        "header": {
                          "fill": {
                            "color": "#C8D4E3"
                          },
                          "line": {
                            "color": "white"
                          }
                        },
                        "type": "table"
                      }
                    ]
                  },
                  "layout": {
                    "annotationdefaults": {
                      "arrowcolor": "#2a3f5f",
                      "arrowhead": 0,
                      "arrowwidth": 1
                    },
                    "autotypenumbers": "strict",
                    "coloraxis": {
                      "colorbar": {
                        "outlinewidth": 0,
                        "ticks": ""
                      }
                    },
                    "colorscale": {
                      "diverging": [
                        [
                          0,
                          "#8e0152"
                        ],
                        [
                          0.1,
                          "#c51b7d"
                        ],
                        [
                          0.2,
                          "#de77ae"
                        ],
                        [
                          0.3,
                          "#f1b6da"
                        ],
                        [
                          0.4,
                          "#fde0ef"
                        ],
                        [
                          0.5,
                          "#f7f7f7"
                        ],
                        [
                          0.6,
                          "#e6f5d0"
                        ],
                        [
                          0.7,
                          "#b8e186"
                        ],
                        [
                          0.8,
                          "#7fbc41"
                        ],
                        [
                          0.9,
                          "#4d9221"
                        ],
                        [
                          1,
                          "#276419"
                        ]
                      ],
                      "sequential": [
                        [
                          0,
                          "#0d0887"
                        ],
                        [
                          0.1111111111111111,
                          "#46039f"
                        ],
                        [
                          0.2222222222222222,
                          "#7201a8"
                        ],
                        [
                          0.3333333333333333,
                          "#9c179e"
                        ],
                        [
                          0.4444444444444444,
                          "#bd3786"
                        ],
                        [
                          0.5555555555555556,
                          "#d8576b"
                        ],
                        [
                          0.6666666666666666,
                          "#ed7953"
                        ],
                        [
                          0.7777777777777778,
                          "#fb9f3a"
                        ],
                        [
                          0.8888888888888888,
                          "#fdca26"
                        ],
                        [
                          1,
                          "#f0f921"
                        ]
                      ],
                      "sequentialminus": [
                        [
                          0,
                          "#0d0887"
                        ],
                        [
                          0.1111111111111111,
                          "#46039f"
                        ],
                        [
                          0.2222222222222222,
                          "#7201a8"
                        ],
                        [
                          0.3333333333333333,
                          "#9c179e"
                        ],
                        [
                          0.4444444444444444,
                          "#bd3786"
                        ],
                        [
                          0.5555555555555556,
                          "#d8576b"
                        ],
                        [
                          0.6666666666666666,
                          "#ed7953"
                        ],
                        [
                          0.7777777777777778,
                          "#fb9f3a"
                        ],
                        [
                          0.8888888888888888,
                          "#fdca26"
                        ],
                        [
                          1,
                          "#f0f921"
                        ]
                      ]
                    },
                    "colorway": [
                      "#636efa",
                      "#EF553B",
                      "#00cc96",
                      "#ab63fa",
                      "#FFA15A",
                      "#19d3f3",
                      "#FF6692",
                      "#B6E880",
                      "#FF97FF",
                      "#FECB52"
                    ],
                    "font": {
                      "color": "#2a3f5f"
                    },
                    "geo": {
                      "bgcolor": "white",
                      "lakecolor": "white",
                      "landcolor": "#E5ECF6",
                      "showlakes": true,
                      "showland": true,
                      "subunitcolor": "white"
                    },
                    "hoverlabel": {
                      "align": "left"
                    },
                    "hovermode": "closest",
                    "mapbox": {
                      "style": "light"
                    },
                    "paper_bgcolor": "white",
                    "plot_bgcolor": "#E5ECF6",
                    "polar": {
                      "angularaxis": {
                        "gridcolor": "white",
                        "linecolor": "white",
                        "ticks": ""
                      },
                      "bgcolor": "#E5ECF6",
                      "radialaxis": {
                        "gridcolor": "white",
                        "linecolor": "white",
                        "ticks": ""
                      }
                    },
                    "scene": {
                      "xaxis": {
                        "backgroundcolor": "#E5ECF6",
                        "gridcolor": "white",
                        "gridwidth": 2,
                        "linecolor": "white",
                        "showbackground": true,
                        "ticks": "",
                        "zerolinecolor": "white"
                      },
                      "yaxis": {
                        "backgroundcolor": "#E5ECF6",
                        "gridcolor": "white",
                        "gridwidth": 2,
                        "linecolor": "white",
                        "showbackground": true,
                        "ticks": "",
                        "zerolinecolor": "white"
                      },
                      "zaxis": {
                        "backgroundcolor": "#E5ECF6",
                        "gridcolor": "white",
                        "gridwidth": 2,
                        "linecolor": "white",
                        "showbackground": true,
                        "ticks": "",
                        "zerolinecolor": "white"
                      }
                    },
                    "shapedefaults": {
                      "line": {
                        "color": "#2a3f5f"
                      }
                    },
                    "ternary": {
                      "aaxis": {
                        "gridcolor": "white",
                        "linecolor": "white",
                        "ticks": ""
                      },
                      "baxis": {
                        "gridcolor": "white",
                        "linecolor": "white",
                        "ticks": ""
                      },
                      "bgcolor": "#E5ECF6",
                      "caxis": {
                        "gridcolor": "white",
                        "linecolor": "white",
                        "ticks": ""
                      }
                    },
                    "title": {
                      "x": 0.05
                    },
                    "xaxis": {
                      "automargin": true,
                      "gridcolor": "white",
                      "linecolor": "white",
                      "ticks": "",
                      "title": {
                        "standoff": 15
                      },
                      "zerolinecolor": "white",
                      "zerolinewidth": 2
                    },
                    "yaxis": {
                      "automargin": true,
                      "gridcolor": "white",
                      "linecolor": "white",
                      "ticks": "",
                      "title": {
                        "standoff": 15
                      },
                      "zerolinecolor": "white",
                      "zerolinewidth": 2
                    }
                  }
                },
                "title": {
                  "text": "한국 월별 출생아 수 (1981-2024)"
                },
                "xaxis": {
                  "anchor": "y",
                  "domain": [
                    0,
                    1
                  ],
                  "title": {
                    "text": "연도"
                  }
                },
                "yaxis": {
                  "anchor": "x",
                  "domain": [
                    0,
                    1
                  ],
                  "title": {
                    "text": "출생아 수"
                  }
                }
              }
            }
          },
          "metadata": {},
          "output_type": "display_data"
        }
      ],
      "source": [
        "import pandas as pd\n",
        "pd.options.plotting.backend = \"plotly\"\n",
        "import numpy as np\n",
        "import plotly.express as px\n",
        "\n",
        "# 데이터 로드 및 전처리\n",
        "df_birth = pd.read_csv('../datasets/tsa/korean-births-stats.csv', index_col=0, parse_dates=True)\n",
        "df_birth.replace('-', np.nan, inplace=True)\n",
        "df_birth = df_birth.astype(float)\n",
        "df_birth.index.freq = 'MS' # 월별 데이터 명시\n",
        "\n",
        "# Plotly Express를 사용한 시계열 데이터 시각화\n",
        "fig = px.line(df_birth, y='출생아수', title='한국 월별 출생아 수 (1981-2024)')\n",
        "fig.update_layout(xaxis_title=\"연도\", yaxis_title=\"출생아 수\")\n",
        "fig.show()"
      ]
    },
    {
      "cell_type": "markdown",
      "metadata": {
        "id": "XZAu-I4ic6xp"
      },
      "source": [
        "### ✏️ 연습 문제 (Practice Problems)\n",
        "\n",
        "1.  **항공 승객 데이터 시각화**: 아래 URL은 1949년부터 1960년까지의 월별 항공 승객 수를 담고 있는 유명한 시계열 데이터셋입니다.\n",
        "    \n",
        "    이 데이터를 `pandas`로 불러온 뒤, `plotly.express`를 사용하여 시계열 그래프를 그리고 장기적인 추세와 계절성이 어떻게 나타나는지 관찰해 보세요.\n",
        "    * 데이터 URL: `https://raw.githubusercontent.com/jbrownlee/Datasets/master/airline-passengers.csv`"
      ]
    },
    {
      "cell_type": "code",
      "execution_count": 6,
      "metadata": {
        "id": "p-pYjqR2c6xp"
      },
      "outputs": [],
      "source": [
        "# 연습 문제 1번 풀이 공간\n",
        "import pandas as pd\n",
        "import plotly.express as px\n",
        "\n",
        "# 1. 데이터 불러오기 (URL로부터 직접)\n",
        "url = \"https://raw.githubusercontent.com/jbrownlee/Datasets/master/airline-passengers.csv\"\n",
        "\n",
        "# 시각화 코드 작성해보세요"
      ]
    },
    {
      "cell_type": "markdown",
      "metadata": {
        "id": "7yjU7eJhc6xp"
      },
      "source": [
        "---\n",
        "\n",
        "## 2. 자기상관 함수 (ACF: Autocorrelation Function)\n",
        "\n",
        "### 💡 개념 (Concept)\n",
        "\n",
        "**자기상관(Autocorrelation)** 이란, 시계열 데이터에서 현재 시점의 값이 과거의 값들과 얼마나 관련이 있는지를 측정한 것입니다. 예를 들어 \"오늘의 주가가 어제의 주가와 얼마나 비슷한가?\" 또는 \"12개월 전의 주가와 얼마나 비슷한가?\"를 수치로 나타냅니다.\n",
        "\n",
        "**ACF(자기상관 함수)** 는 이러한 상관 관계를 시차(lag)별로 계산하여 보여주는 함수입니다. ACF 플롯을 통해 데이터의 추세나 계절성 패턴을 파악할 수 있습니다.\n",
        "\n",
        "* **ACF 플롯 해석**:\n",
        "    * **x축**: 시차(Lag). Lag 1은 1개 시점 전, Lag 12는 12개 시점 전과의 관계를 의미합니다.\n",
        "    * **y축**: 자기상관 계수. +1에 가까우면 강한 양의 상관관계, -1에 가까우면 강한 음의 상관관계를, 0에 가까우면 관계가 없음을 의미합니다.\n",
        "    * **파란색 신뢰구간**: 이 구간을 벗어나는 상관계수는 통계적으로 유의미하다고 판단합니다.\n",
        "\n",
        "### 💻 예시 코드 (Example Code)\n",
        "\n",
        "`statsmodels` 라이브러리로 ACF 값을 계산하고, `plotly`로 직접 시각화하여 더 동적인 그래프를 만들어 봅니다."
      ]
    },
    {
      "cell_type": "code",
      "execution_count": 7,
      "metadata": {
        "id": "u3Kv0I3Jc6xq"
      },
      "outputs": [
        {
          "data": {
            "application/vnd.plotly.v1+json": {
              "config": {
                "plotlyServerURL": "https://plot.ly"
              },
              "data": [
                {
                  "name": "ACF",
                  "type": "bar",
                  "x": {
                    "bdata": "AAECAwQFBgcICQoLDA0ODxAREhMUFRYXGBkaGxwdHh8gISIjJCUmJyg=",
                    "dtype": "i1"
                  },
                  "y": {
                    "bdata": "AAAAAAAA8D9m5FgG4QrtP//oipSd3eo/g3hrhRVi6j/jDLCnL8fpP7yD2IlnOuk/TSPXKQZH6T8MJDFB6dboP4qvebhx8eg/CnA6yHAJ6T9Ey8Obh//oP3l0nkwQe+o/EQEOyJOT7D+tRjWf/7zpP2oQ8T+8m+c/WB54AwwZ5z/lrm1MDXrmPwFLiiZD++U/yx1KDf0G5j/Jq230dKTlPxL5T2wbyuU/bevLiLbH5T+D+CKbHbXlP56dmiq4Dec/PJ7W5pEC6T96VqRbsV3mPwOak7+1XOQ/P60ePnnz4z9G4ONYfF/jP4ID6/028OI/HmnzjBkM4z/36CEK+rfiP4lCqhWK3+I/VKpHNtTb4j8JWaKE09PiP4k/qeyvGuQ/yncfUKYG5j/nuWNjCprjPwlpNn5tvuE/s2jM7yFf4T8iMoPA8dLgPw==",
                    "dtype": "f8"
                  }
                }
              ],
              "layout": {
                "template": {
                  "data": {
                    "bar": [
                      {
                        "error_x": {
                          "color": "#2a3f5f"
                        },
                        "error_y": {
                          "color": "#2a3f5f"
                        },
                        "marker": {
                          "line": {
                            "color": "#E5ECF6",
                            "width": 0.5
                          },
                          "pattern": {
                            "fillmode": "overlay",
                            "size": 10,
                            "solidity": 0.2
                          }
                        },
                        "type": "bar"
                      }
                    ],
                    "barpolar": [
                      {
                        "marker": {
                          "line": {
                            "color": "#E5ECF6",
                            "width": 0.5
                          },
                          "pattern": {
                            "fillmode": "overlay",
                            "size": 10,
                            "solidity": 0.2
                          }
                        },
                        "type": "barpolar"
                      }
                    ],
                    "carpet": [
                      {
                        "aaxis": {
                          "endlinecolor": "#2a3f5f",
                          "gridcolor": "white",
                          "linecolor": "white",
                          "minorgridcolor": "white",
                          "startlinecolor": "#2a3f5f"
                        },
                        "baxis": {
                          "endlinecolor": "#2a3f5f",
                          "gridcolor": "white",
                          "linecolor": "white",
                          "minorgridcolor": "white",
                          "startlinecolor": "#2a3f5f"
                        },
                        "type": "carpet"
                      }
                    ],
                    "choropleth": [
                      {
                        "colorbar": {
                          "outlinewidth": 0,
                          "ticks": ""
                        },
                        "type": "choropleth"
                      }
                    ],
                    "contour": [
                      {
                        "colorbar": {
                          "outlinewidth": 0,
                          "ticks": ""
                        },
                        "colorscale": [
                          [
                            0,
                            "#0d0887"
                          ],
                          [
                            0.1111111111111111,
                            "#46039f"
                          ],
                          [
                            0.2222222222222222,
                            "#7201a8"
                          ],
                          [
                            0.3333333333333333,
                            "#9c179e"
                          ],
                          [
                            0.4444444444444444,
                            "#bd3786"
                          ],
                          [
                            0.5555555555555556,
                            "#d8576b"
                          ],
                          [
                            0.6666666666666666,
                            "#ed7953"
                          ],
                          [
                            0.7777777777777778,
                            "#fb9f3a"
                          ],
                          [
                            0.8888888888888888,
                            "#fdca26"
                          ],
                          [
                            1,
                            "#f0f921"
                          ]
                        ],
                        "type": "contour"
                      }
                    ],
                    "contourcarpet": [
                      {
                        "colorbar": {
                          "outlinewidth": 0,
                          "ticks": ""
                        },
                        "type": "contourcarpet"
                      }
                    ],
                    "heatmap": [
                      {
                        "colorbar": {
                          "outlinewidth": 0,
                          "ticks": ""
                        },
                        "colorscale": [
                          [
                            0,
                            "#0d0887"
                          ],
                          [
                            0.1111111111111111,
                            "#46039f"
                          ],
                          [
                            0.2222222222222222,
                            "#7201a8"
                          ],
                          [
                            0.3333333333333333,
                            "#9c179e"
                          ],
                          [
                            0.4444444444444444,
                            "#bd3786"
                          ],
                          [
                            0.5555555555555556,
                            "#d8576b"
                          ],
                          [
                            0.6666666666666666,
                            "#ed7953"
                          ],
                          [
                            0.7777777777777778,
                            "#fb9f3a"
                          ],
                          [
                            0.8888888888888888,
                            "#fdca26"
                          ],
                          [
                            1,
                            "#f0f921"
                          ]
                        ],
                        "type": "heatmap"
                      }
                    ],
                    "histogram": [
                      {
                        "marker": {
                          "pattern": {
                            "fillmode": "overlay",
                            "size": 10,
                            "solidity": 0.2
                          }
                        },
                        "type": "histogram"
                      }
                    ],
                    "histogram2d": [
                      {
                        "colorbar": {
                          "outlinewidth": 0,
                          "ticks": ""
                        },
                        "colorscale": [
                          [
                            0,
                            "#0d0887"
                          ],
                          [
                            0.1111111111111111,
                            "#46039f"
                          ],
                          [
                            0.2222222222222222,
                            "#7201a8"
                          ],
                          [
                            0.3333333333333333,
                            "#9c179e"
                          ],
                          [
                            0.4444444444444444,
                            "#bd3786"
                          ],
                          [
                            0.5555555555555556,
                            "#d8576b"
                          ],
                          [
                            0.6666666666666666,
                            "#ed7953"
                          ],
                          [
                            0.7777777777777778,
                            "#fb9f3a"
                          ],
                          [
                            0.8888888888888888,
                            "#fdca26"
                          ],
                          [
                            1,
                            "#f0f921"
                          ]
                        ],
                        "type": "histogram2d"
                      }
                    ],
                    "histogram2dcontour": [
                      {
                        "colorbar": {
                          "outlinewidth": 0,
                          "ticks": ""
                        },
                        "colorscale": [
                          [
                            0,
                            "#0d0887"
                          ],
                          [
                            0.1111111111111111,
                            "#46039f"
                          ],
                          [
                            0.2222222222222222,
                            "#7201a8"
                          ],
                          [
                            0.3333333333333333,
                            "#9c179e"
                          ],
                          [
                            0.4444444444444444,
                            "#bd3786"
                          ],
                          [
                            0.5555555555555556,
                            "#d8576b"
                          ],
                          [
                            0.6666666666666666,
                            "#ed7953"
                          ],
                          [
                            0.7777777777777778,
                            "#fb9f3a"
                          ],
                          [
                            0.8888888888888888,
                            "#fdca26"
                          ],
                          [
                            1,
                            "#f0f921"
                          ]
                        ],
                        "type": "histogram2dcontour"
                      }
                    ],
                    "mesh3d": [
                      {
                        "colorbar": {
                          "outlinewidth": 0,
                          "ticks": ""
                        },
                        "type": "mesh3d"
                      }
                    ],
                    "parcoords": [
                      {
                        "line": {
                          "colorbar": {
                            "outlinewidth": 0,
                            "ticks": ""
                          }
                        },
                        "type": "parcoords"
                      }
                    ],
                    "pie": [
                      {
                        "automargin": true,
                        "type": "pie"
                      }
                    ],
                    "scatter": [
                      {
                        "fillpattern": {
                          "fillmode": "overlay",
                          "size": 10,
                          "solidity": 0.2
                        },
                        "type": "scatter"
                      }
                    ],
                    "scatter3d": [
                      {
                        "line": {
                          "colorbar": {
                            "outlinewidth": 0,
                            "ticks": ""
                          }
                        },
                        "marker": {
                          "colorbar": {
                            "outlinewidth": 0,
                            "ticks": ""
                          }
                        },
                        "type": "scatter3d"
                      }
                    ],
                    "scattercarpet": [
                      {
                        "marker": {
                          "colorbar": {
                            "outlinewidth": 0,
                            "ticks": ""
                          }
                        },
                        "type": "scattercarpet"
                      }
                    ],
                    "scattergeo": [
                      {
                        "marker": {
                          "colorbar": {
                            "outlinewidth": 0,
                            "ticks": ""
                          }
                        },
                        "type": "scattergeo"
                      }
                    ],
                    "scattergl": [
                      {
                        "marker": {
                          "colorbar": {
                            "outlinewidth": 0,
                            "ticks": ""
                          }
                        },
                        "type": "scattergl"
                      }
                    ],
                    "scattermap": [
                      {
                        "marker": {
                          "colorbar": {
                            "outlinewidth": 0,
                            "ticks": ""
                          }
                        },
                        "type": "scattermap"
                      }
                    ],
                    "scattermapbox": [
                      {
                        "marker": {
                          "colorbar": {
                            "outlinewidth": 0,
                            "ticks": ""
                          }
                        },
                        "type": "scattermapbox"
                      }
                    ],
                    "scatterpolar": [
                      {
                        "marker": {
                          "colorbar": {
                            "outlinewidth": 0,
                            "ticks": ""
                          }
                        },
                        "type": "scatterpolar"
                      }
                    ],
                    "scatterpolargl": [
                      {
                        "marker": {
                          "colorbar": {
                            "outlinewidth": 0,
                            "ticks": ""
                          }
                        },
                        "type": "scatterpolargl"
                      }
                    ],
                    "scatterternary": [
                      {
                        "marker": {
                          "colorbar": {
                            "outlinewidth": 0,
                            "ticks": ""
                          }
                        },
                        "type": "scatterternary"
                      }
                    ],
                    "surface": [
                      {
                        "colorbar": {
                          "outlinewidth": 0,
                          "ticks": ""
                        },
                        "colorscale": [
                          [
                            0,
                            "#0d0887"
                          ],
                          [
                            0.1111111111111111,
                            "#46039f"
                          ],
                          [
                            0.2222222222222222,
                            "#7201a8"
                          ],
                          [
                            0.3333333333333333,
                            "#9c179e"
                          ],
                          [
                            0.4444444444444444,
                            "#bd3786"
                          ],
                          [
                            0.5555555555555556,
                            "#d8576b"
                          ],
                          [
                            0.6666666666666666,
                            "#ed7953"
                          ],
                          [
                            0.7777777777777778,
                            "#fb9f3a"
                          ],
                          [
                            0.8888888888888888,
                            "#fdca26"
                          ],
                          [
                            1,
                            "#f0f921"
                          ]
                        ],
                        "type": "surface"
                      }
                    ],
                    "table": [
                      {
                        "cells": {
                          "fill": {
                            "color": "#EBF0F8"
                          },
                          "line": {
                            "color": "white"
                          }
                        },
                        "header": {
                          "fill": {
                            "color": "#C8D4E3"
                          },
                          "line": {
                            "color": "white"
                          }
                        },
                        "type": "table"
                      }
                    ]
                  },
                  "layout": {
                    "annotationdefaults": {
                      "arrowcolor": "#2a3f5f",
                      "arrowhead": 0,
                      "arrowwidth": 1
                    },
                    "autotypenumbers": "strict",
                    "coloraxis": {
                      "colorbar": {
                        "outlinewidth": 0,
                        "ticks": ""
                      }
                    },
                    "colorscale": {
                      "diverging": [
                        [
                          0,
                          "#8e0152"
                        ],
                        [
                          0.1,
                          "#c51b7d"
                        ],
                        [
                          0.2,
                          "#de77ae"
                        ],
                        [
                          0.3,
                          "#f1b6da"
                        ],
                        [
                          0.4,
                          "#fde0ef"
                        ],
                        [
                          0.5,
                          "#f7f7f7"
                        ],
                        [
                          0.6,
                          "#e6f5d0"
                        ],
                        [
                          0.7,
                          "#b8e186"
                        ],
                        [
                          0.8,
                          "#7fbc41"
                        ],
                        [
                          0.9,
                          "#4d9221"
                        ],
                        [
                          1,
                          "#276419"
                        ]
                      ],
                      "sequential": [
                        [
                          0,
                          "#0d0887"
                        ],
                        [
                          0.1111111111111111,
                          "#46039f"
                        ],
                        [
                          0.2222222222222222,
                          "#7201a8"
                        ],
                        [
                          0.3333333333333333,
                          "#9c179e"
                        ],
                        [
                          0.4444444444444444,
                          "#bd3786"
                        ],
                        [
                          0.5555555555555556,
                          "#d8576b"
                        ],
                        [
                          0.6666666666666666,
                          "#ed7953"
                        ],
                        [
                          0.7777777777777778,
                          "#fb9f3a"
                        ],
                        [
                          0.8888888888888888,
                          "#fdca26"
                        ],
                        [
                          1,
                          "#f0f921"
                        ]
                      ],
                      "sequentialminus": [
                        [
                          0,
                          "#0d0887"
                        ],
                        [
                          0.1111111111111111,
                          "#46039f"
                        ],
                        [
                          0.2222222222222222,
                          "#7201a8"
                        ],
                        [
                          0.3333333333333333,
                          "#9c179e"
                        ],
                        [
                          0.4444444444444444,
                          "#bd3786"
                        ],
                        [
                          0.5555555555555556,
                          "#d8576b"
                        ],
                        [
                          0.6666666666666666,
                          "#ed7953"
                        ],
                        [
                          0.7777777777777778,
                          "#fb9f3a"
                        ],
                        [
                          0.8888888888888888,
                          "#fdca26"
                        ],
                        [
                          1,
                          "#f0f921"
                        ]
                      ]
                    },
                    "colorway": [
                      "#636efa",
                      "#EF553B",
                      "#00cc96",
                      "#ab63fa",
                      "#FFA15A",
                      "#19d3f3",
                      "#FF6692",
                      "#B6E880",
                      "#FF97FF",
                      "#FECB52"
                    ],
                    "font": {
                      "color": "#2a3f5f"
                    },
                    "geo": {
                      "bgcolor": "white",
                      "lakecolor": "white",
                      "landcolor": "#E5ECF6",
                      "showlakes": true,
                      "showland": true,
                      "subunitcolor": "white"
                    },
                    "hoverlabel": {
                      "align": "left"
                    },
                    "hovermode": "closest",
                    "mapbox": {
                      "style": "light"
                    },
                    "paper_bgcolor": "white",
                    "plot_bgcolor": "#E5ECF6",
                    "polar": {
                      "angularaxis": {
                        "gridcolor": "white",
                        "linecolor": "white",
                        "ticks": ""
                      },
                      "bgcolor": "#E5ECF6",
                      "radialaxis": {
                        "gridcolor": "white",
                        "linecolor": "white",
                        "ticks": ""
                      }
                    },
                    "scene": {
                      "xaxis": {
                        "backgroundcolor": "#E5ECF6",
                        "gridcolor": "white",
                        "gridwidth": 2,
                        "linecolor": "white",
                        "showbackground": true,
                        "ticks": "",
                        "zerolinecolor": "white"
                      },
                      "yaxis": {
                        "backgroundcolor": "#E5ECF6",
                        "gridcolor": "white",
                        "gridwidth": 2,
                        "linecolor": "white",
                        "showbackground": true,
                        "ticks": "",
                        "zerolinecolor": "white"
                      },
                      "zaxis": {
                        "backgroundcolor": "#E5ECF6",
                        "gridcolor": "white",
                        "gridwidth": 2,
                        "linecolor": "white",
                        "showbackground": true,
                        "ticks": "",
                        "zerolinecolor": "white"
                      }
                    },
                    "shapedefaults": {
                      "line": {
                        "color": "#2a3f5f"
                      }
                    },
                    "ternary": {
                      "aaxis": {
                        "gridcolor": "white",
                        "linecolor": "white",
                        "ticks": ""
                      },
                      "baxis": {
                        "gridcolor": "white",
                        "linecolor": "white",
                        "ticks": ""
                      },
                      "bgcolor": "#E5ECF6",
                      "caxis": {
                        "gridcolor": "white",
                        "linecolor": "white",
                        "ticks": ""
                      }
                    },
                    "title": {
                      "x": 0.05
                    },
                    "xaxis": {
                      "automargin": true,
                      "gridcolor": "white",
                      "linecolor": "white",
                      "ticks": "",
                      "title": {
                        "standoff": 15
                      },
                      "zerolinecolor": "white",
                      "zerolinewidth": 2
                    },
                    "yaxis": {
                      "automargin": true,
                      "gridcolor": "white",
                      "linecolor": "white",
                      "ticks": "",
                      "title": {
                        "standoff": 15
                      },
                      "zerolinecolor": "white",
                      "zerolinewidth": 2
                    }
                  }
                },
                "title": {
                  "text": "출생아 수 데이터의 자기상관 함수(ACF)"
                },
                "xaxis": {
                  "title": {
                    "text": "시차(Lag)"
                  }
                },
                "yaxis": {
                  "title": {
                    "text": "자기상관 계수"
                  }
                }
              }
            }
          },
          "metadata": {},
          "output_type": "display_data"
        }
      ],
      "source": [
        "import pandas as pd\n",
        "import numpy as np\n",
        "import plotly.graph_objects as go\n",
        "from statsmodels.tsa.stattools import acf\n",
        "\n",
        "# 예시 데이터 (월별 출생아 수)\n",
        "# (위 1번 섹션에서 df_birth가 로드되었다고 가정)\n",
        "series = df_birth['출생아수'].dropna()\n",
        "\n",
        "# ACF 계산\n",
        "acf_values = acf(series, nlags=40)\n",
        "\n",
        "# Plotly를 사용한 ACF 플롯 생성\n",
        "fig = go.Figure()\n",
        "\n",
        "# ACF 막대그래프\n",
        "fig.add_trace(go.Bar(\n",
        "    x=np.arange(len(acf_values)),\n",
        "    y=acf_values,\n",
        "    name='ACF'\n",
        "))\n",
        "\n",
        "fig.update_layout(\n",
        "    title='출생아 수 데이터의 자기상관 함수(ACF)',\n",
        "    xaxis_title='시차(Lag)',\n",
        "    yaxis_title='자기상관 계수'\n",
        ")\n",
        "fig.show()"
      ]
    },
    {
      "cell_type": "markdown",
      "metadata": {},
      "source": [
        "내장함수를 이용한 자기상관 시각화"
      ]
    },
    {
      "cell_type": "code",
      "execution_count": 8,
      "metadata": {},
      "outputs": [
        {
          "data": {
            "image/png": "[encoded data removed]",
            "text/plain": [
              "<Figure size 640x480 with 1 Axes>"
            ]
          },
          "metadata": {},
          "output_type": "display_data"
        }
      ],
      "source": [
        "from statsmodels.graphics.tsaplots import plot_acf, plot_pacf\n",
        "# 시계열 데이터의 값이 시간에 따라 얼마나 상관되어 있는지를 나타냄.\n",
        "plot_acf(df_birth['출생아수'],title='출생아수 자기상관함수',lags=40);"
      ]
    },
    {
      "cell_type": "markdown",
      "metadata": {
        "id": "2tqkY9mmc6xq"
      },
      "source": [
        "### ✏️ 연습 문제 (Practice Problems)\n",
        "\n",
        "1.  **항공 승객 데이터 ACF 분석**: 위에서 사용한 항공 승객 데이터의 '승객 수'에 대한 ACF를 `lags=48`로 계산하고, `plotly`를 사용하여 시각화해 보세요.\n",
        "2.  **ACF 플롯 해석**: 생성된 ACF 플롯을 보고 어떤 패턴이 보이는지 설명해 보세요. (예: 상관계수가 천천히 감소하는가? 특정 주기로 높은 값을 보이는가?)"
      ]
    },
    {
      "cell_type": "code",
      "execution_count": 9,
      "metadata": {
        "id": "qLKkuODBc6xq"
      },
      "outputs": [],
      "source": [
        "# 연습 문제 1번 & 2번 풀이 공간"
      ]
    },
    {
      "cell_type": "markdown",
      "metadata": {
        "id": "YPNtMt_Ic6xq"
      },
      "source": [
        "---\n",
        "\n",
        "## 3. 부분 자기상관 함수 (PACF: Partial Autocorrelation Function)\n",
        "\n",
        "### 💡 개념 (Concept)\n",
        "\n",
        "**부분 자기상관(Partial Autocorrelation)** 은 두 시점 간의 '순수한' 상관관계를 측정합니다. \n",
        "\n",
        "예를 들어, 오늘의 주가($Y_t$)와 그저께 주가($Y_{t-2}$) 사이의 관계를 볼 때, 중간에 있는 어제($Y_{t-1}$)의 영향을 제거하고 남은 직접적인 상관관계만을 측정합니다.\n",
        "\n",
        "자기상관만을 사용할 때, 특정 시간 지연에서의 상관 관계가 그 이전 시간 지연들의 영향을 받게 됩니다.\n",
        "\n",
        "부분 자기상관은 특정 시간 지연 $k$에서의 상관 관계를 측정할 때, <font color=\"yellow\">그 사이에 있는 다른 모든 시간 지연의 영향을 제거한 후</font>의 상관 관계를 측정합니다.\n",
        "\n",
        "예를 들어, 오늘의 주식 가격이 어제의 가격과, 그제의 가격과 모두 관련이 있을 때, \n",
        "\n",
        "단순 자기상관으로는 그 관계를 명확히 이해하기 어렵죠.\n",
        "\n",
        "부분 자기상관은 이러한 <font color=\"yellow\">간접적인 영향을 제거하여 직접적인 상관 관계를 측정</font>합니다.\n",
        "\n",
        "### 💡 수학적 계산원리\n",
        "- [Yule-Walker 방정식](https://en.wikipedia.org/wiki/Autoregressive_model#Calculation_of_the_AR_parameters)의 비재귀적 방식 이용\n",
        "- [토플리츠 대각선 상수 행렬](https://en.wikipedia.org/wiki/Toeplitz_matrix)과 [레빈슨-더빈 재귀 알고리즘](https://en.wikipedia.org/wiki/Levinson_recursion)으로 연산\n",
        "\n",
        "- pacf 함수를 사용하여 간단히 계산 가능.\n",
        "\n",
        "    - 1차 자기상관(\\(k=1\\))을 구한 후,\n",
        "\n",
        "    - 2차 자기상관(\\(k=2\\))에서는 1차 자기상관의 영향을 제거하고,\n",
        "    - 3차 자기상관(\\(k=3\\))에서는 1차와 2차 자기상관의 영향을 제거하는 방식.\n",
        "\n",
        "\n",
        "**PACF** 는 시계열 모델, 특히 **AR(자기회귀) 모델** 의 차수(p)를 결정하는 데 매우 중요한 역할을 합니다.\n",
        "\n",
        "* **ACF vs PACF**:\n",
        "  \n",
        "    * ACF: $Y_t$와 $Y_{t-k}$ 사이의 **모든(직간접적인) 관계**를 포함합니다.\n",
        "    * PACF: $Y_t$와 $Y_{t-k}$ 사이에서 중간 시점들($Y_{t-1}, ..., Y_{t-k+1}$)의 영향을 **제거한 직접적인 관계**만을 측정합니다.\n",
        "\n",
        "### 💻 예시 코드 (Example Code)\n",
        "\n",
        "`statsmodels`로 PACF 값을 계산하고, `plotly`로 시각화합니다."
      ]
    },
    {
      "cell_type": "code",
      "execution_count": 10,
      "metadata": {
        "id": "tovMouI5c6xq"
      },
      "outputs": [
        {
          "data": {
            "application/vnd.plotly.v1+json": {
              "config": {
                "plotlyServerURL": "https://plot.ly"
              },
              "data": [
                {
                  "name": "PACF",
                  "type": "bar",
                  "x": {
                    "bdata": "AAECAwQFBgcICQoLDA0ODxAREhMUFRYXGBkaGxwdHh8gISIjJCUmJyg=",
                    "dtype": "i1"
                  },
                  "y": {
                    "bdata": "AAAAAAAA8D9n5FgG4QrtP4+2jGGmBbc/5Rlei/AV0j8O7aLzQUuuP8lru2CJQLs/2KbvlSg9wz+d30O8Hddivy5sQVncvMY/ovPvr7MXpj8Ws4GmzFi4P+AgowpwTNg/JQwv9SYG2j80l0S2JPTmv6Y8+cLEgq6/uKy5oYIQr79OkTMHOPGBP1QeOjonOKI/bSPNi3smir/E5Uv74EKoP0W2Q76SHK4/SodzsjAdjr+0ootUl1iyP4cG4YSKXbA/bKSuM9h7wj+43XQPR3nKv5i6yozGyp2/sc2Sz8ichr8pWbbk8S6iv9pDw0clo4C/ulWbGriRNT/thVhq14qAv6sl4DjM2no/tN6qKOQIoT8+aR6dPN6oPyd9ERVclKA/R1xmMUubuj/FH4a1oWu0v9s5htRckU6/ljg0oQamrb8awQq8+KCKvw==",
                    "dtype": "f8"
                  }
                }
              ],
              "layout": {
                "template": {
                  "data": {
                    "bar": [
                      {
                        "error_x": {
                          "color": "#2a3f5f"
                        },
                        "error_y": {
                          "color": "#2a3f5f"
                        },
                        "marker": {
                          "line": {
                            "color": "#E5ECF6",
                            "width": 0.5
                          },
                          "pattern": {
                            "fillmode": "overlay",
                            "size": 10,
                            "solidity": 0.2
                          }
                        },
                        "type": "bar"
                      }
                    ],
                    "barpolar": [
                      {
                        "marker": {
                          "line": {
                            "color": "#E5ECF6",
                            "width": 0.5
                          },
                          "pattern": {
                            "fillmode": "overlay",
                            "size": 10,
                            "solidity": 0.2
                          }
                        },
                        "type": "barpolar"
                      }
                    ],
                    "carpet": [
                      {
                        "aaxis": {
                          "endlinecolor": "#2a3f5f",
                          "gridcolor": "white",
                          "linecolor": "white",
                          "minorgridcolor": "white",
                          "startlinecolor": "#2a3f5f"
                        },
                        "baxis": {
                          "endlinecolor": "#2a3f5f",
                          "gridcolor": "white",
                          "linecolor": "white",
                          "minorgridcolor": "white",
                          "startlinecolor": "#2a3f5f"
                        },
                        "type": "carpet"
                      }
                    ],
                    "choropleth": [
                      {
                        "colorbar": {
                          "outlinewidth": 0,
                          "ticks": ""
                        },
                        "type": "choropleth"
                      }
                    ],
                    "contour": [
                      {
                        "colorbar": {
                          "outlinewidth": 0,
                          "ticks": ""
                        },
                        "colorscale": [
                          [
                            0,
                            "#0d0887"
                          ],
                          [
                            0.1111111111111111,
                            "#46039f"
                          ],
                          [
                            0.2222222222222222,
                            "#7201a8"
                          ],
                          [
                            0.3333333333333333,
                            "#9c179e"
                          ],
                          [
                            0.4444444444444444,
                            "#bd3786"
                          ],
                          [
                            0.5555555555555556,
                            "#d8576b"
                          ],
                          [
                            0.6666666666666666,
                            "#ed7953"
                          ],
                          [
                            0.7777777777777778,
                            "#fb9f3a"
                          ],
                          [
                            0.8888888888888888,
                            "#fdca26"
                          ],
                          [
                            1,
                            "#f0f921"
                          ]
                        ],
                        "type": "contour"
                      }
                    ],
                    "contourcarpet": [
                      {
                        "colorbar": {
                          "outlinewidth": 0,
                          "ticks": ""
                        },
                        "type": "contourcarpet"
                      }
                    ],
                    "heatmap": [
                      {
                        "colorbar": {
                          "outlinewidth": 0,
                          "ticks": ""
                        },
                        "colorscale": [
                          [
                            0,
                            "#0d0887"
                          ],
                          [
                            0.1111111111111111,
                            "#46039f"
                          ],
                          [
                            0.2222222222222222,
                            "#7201a8"
                          ],
                          [
                            0.3333333333333333,
                            "#9c179e"
                          ],
                          [
                            0.4444444444444444,
                            "#bd3786"
                          ],
                          [
                            0.5555555555555556,
                            "#d8576b"
                          ],
                          [
                            0.6666666666666666,
                            "#ed7953"
                          ],
                          [
                            0.7777777777777778,
                            "#fb9f3a"
                          ],
                          [
                            0.8888888888888888,
                            "#fdca26"
                          ],
                          [
                            1,
                            "#f0f921"
                          ]
                        ],
                        "type": "heatmap"
                      }
                    ],
                    "histogram": [
                      {
                        "marker": {
                          "pattern": {
                            "fillmode": "overlay",
                            "size": 10,
                            "solidity": 0.2
                          }
                        },
                        "type": "histogram"
                      }
                    ],
                    "histogram2d": [
                      {
                        "colorbar": {
                          "outlinewidth": 0,
                          "ticks": ""
                        },
                        "colorscale": [
                          [
                            0,
                            "#0d0887"
                          ],
                          [
                            0.1111111111111111,
                            "#46039f"
                          ],
                          [
                            0.2222222222222222,
                            "#7201a8"
                          ],
                          [
                            0.3333333333333333,
                            "#9c179e"
                          ],
                          [
                            0.4444444444444444,
                            "#bd3786"
                          ],
                          [
                            0.5555555555555556,
                            "#d8576b"
                          ],
                          [
                            0.6666666666666666,
                            "#ed7953"
                          ],
                          [
                            0.7777777777777778,
                            "#fb9f3a"
                          ],
                          [
                            0.8888888888888888,
                            "#fdca26"
                          ],
                          [
                            1,
                            "#f0f921"
                          ]
                        ],
                        "type": "histogram2d"
                      }
                    ],
                    "histogram2dcontour": [
                      {
                        "colorbar": {
                          "outlinewidth": 0,
                          "ticks": ""
                        },
                        "colorscale": [
                          [
                            0,
                            "#0d0887"
                          ],
                          [
                            0.1111111111111111,
                            "#46039f"
                          ],
                          [
                            0.2222222222222222,
                            "#7201a8"
                          ],
                          [
                            0.3333333333333333,
                            "#9c179e"
                          ],
                          [
                            0.4444444444444444,
                            "#bd3786"
                          ],
                          [
                            0.5555555555555556,
                            "#d8576b"
                          ],
                          [
                            0.6666666666666666,
                            "#ed7953"
                          ],
                          [
                            0.7777777777777778,
                            "#fb9f3a"
                          ],
                          [
                            0.8888888888888888,
                            "#fdca26"
                          ],
                          [
                            1,
                            "#f0f921"
                          ]
                        ],
                        "type": "histogram2dcontour"
                      }
                    ],
                    "mesh3d": [
                      {
                        "colorbar": {
                          "outlinewidth": 0,
                          "ticks": ""
                        },
                        "type": "mesh3d"
                      }
                    ],
                    "parcoords": [
                      {
                        "line": {
                          "colorbar": {
                            "outlinewidth": 0,
                            "ticks": ""
                          }
                        },
                        "type": "parcoords"
                      }
                    ],
                    "pie": [
                      {
                        "automargin": true,
                        "type": "pie"
                      }
                    ],
                    "scatter": [
                      {
                        "fillpattern": {
                          "fillmode": "overlay",
                          "size": 10,
                          "solidity": 0.2
                        },
                        "type": "scatter"
                      }
                    ],
                    "scatter3d": [
                      {
                        "line": {
                          "colorbar": {
                            "outlinewidth": 0,
                            "ticks": ""
                          }
                        },
                        "marker": {
                          "colorbar": {
                            "outlinewidth": 0,
                            "ticks": ""
                          }
                        },
                        "type": "scatter3d"
                      }
                    ],
                    "scattercarpet": [
                      {
                        "marker": {
                          "colorbar": {
                            "outlinewidth": 0,
                            "ticks": ""
                          }
                        },
                        "type": "scattercarpet"
                      }
                    ],
                    "scattergeo": [
                      {
                        "marker": {
                          "colorbar": {
                            "outlinewidth": 0,
                            "ticks": ""
                          }
                        },
                        "type": "scattergeo"
                      }
                    ],
                    "scattergl": [
                      {
                        "marker": {
                          "colorbar": {
                            "outlinewidth": 0,
                            "ticks": ""
                          }
                        },
                        "type": "scattergl"
                      }
                    ],
                    "scattermap": [
                      {
                        "marker": {
                          "colorbar": {
                            "outlinewidth": 0,
                            "ticks": ""
                          }
                        },
                        "type": "scattermap"
                      }
                    ],
                    "scattermapbox": [
                      {
                        "marker": {
                          "colorbar": {
                            "outlinewidth": 0,
                            "ticks": ""
                          }
                        },
                        "type": "scattermapbox"
                      }
                    ],
                    "scatterpolar": [
                      {
                        "marker": {
                          "colorbar": {
                            "outlinewidth": 0,
                            "ticks": ""
                          }
                        },
                        "type": "scatterpolar"
                      }
                    ],
                    "scatterpolargl": [
                      {
                        "marker": {
                          "colorbar": {
                            "outlinewidth": 0,
                            "ticks": ""
                          }
                        },
                        "type": "scatterpolargl"
                      }
                    ],
                    "scatterternary": [
                      {
                        "marker": {
                          "colorbar": {
                            "outlinewidth": 0,
                            "ticks": ""
                          }
                        },
                        "type": "scatterternary"
                      }
                    ],
                    "surface": [
                      {
                        "colorbar": {
                          "outlinewidth": 0,
                          "ticks": ""
                        },
                        "colorscale": [
                          [
                            0,
                            "#0d0887"
                          ],
                          [
                            0.1111111111111111,
                            "#46039f"
                          ],
                          [
                            0.2222222222222222,
                            "#7201a8"
                          ],
                          [
                            0.3333333333333333,
                            "#9c179e"
                          ],
                          [
                            0.4444444444444444,
                            "#bd3786"
                          ],
                          [
                            0.5555555555555556,
                            "#d8576b"
                          ],
                          [
                            0.6666666666666666,
                            "#ed7953"
                          ],
                          [
                            0.7777777777777778,
                            "#fb9f3a"
                          ],
                          [
                            0.8888888888888888,
                            "#fdca26"
                          ],
                          [
                            1,
                            "#f0f921"
                          ]
                        ],
                        "type": "surface"
                      }
                    ],
                    "table": [
                      {
                        "cells": {
                          "fill": {
                            "color": "#EBF0F8"
                          },
                          "line": {
                            "color": "white"
                          }
                        },
                        "header": {
                          "fill": {
                            "color": "#C8D4E3"
                          },
                          "line": {
                            "color": "white"
                          }
                        },
                        "type": "table"
                      }
                    ]
                  },
                  "layout": {
                    "annotationdefaults": {
                      "arrowcolor": "#2a3f5f",
                      "arrowhead": 0,
                      "arrowwidth": 1
                    },
                    "autotypenumbers": "strict",
                    "coloraxis": {
                      "colorbar": {
                        "outlinewidth": 0,
                        "ticks": ""
                      }
                    },
                    "colorscale": {
                      "diverging": [
                        [
                          0,
                          "#8e0152"
                        ],
                        [
                          0.1,
                          "#c51b7d"
                        ],
                        [
                          0.2,
                          "#de77ae"
                        ],
                        [
                          0.3,
                          "#f1b6da"
                        ],
                        [
                          0.4,
                          "#fde0ef"
                        ],
                        [
                          0.5,
                          "#f7f7f7"
                        ],
                        [
                          0.6,
                          "#e6f5d0"
                        ],
                        [
                          0.7,
                          "#b8e186"
                        ],
                        [
                          0.8,
                          "#7fbc41"
                        ],
                        [
                          0.9,
                          "#4d9221"
                        ],
                        [
                          1,
                          "#276419"
                        ]
                      ],
                      "sequential": [
                        [
                          0,
                          "#0d0887"
                        ],
                        [
                          0.1111111111111111,
                          "#46039f"
                        ],
                        [
                          0.2222222222222222,
                          "#7201a8"
                        ],
                        [
                          0.3333333333333333,
                          "#9c179e"
                        ],
                        [
                          0.4444444444444444,
                          "#bd3786"
                        ],
                        [
                          0.5555555555555556,
                          "#d8576b"
                        ],
                        [
                          0.6666666666666666,
                          "#ed7953"
                        ],
                        [
                          0.7777777777777778,
                          "#fb9f3a"
                        ],
                        [
                          0.8888888888888888,
                          "#fdca26"
                        ],
                        [
                          1,
                          "#f0f921"
                        ]
                      ],
                      "sequentialminus": [
                        [
                          0,
                          "#0d0887"
                        ],
                        [
                          0.1111111111111111,
                          "#46039f"
                        ],
                        [
                          0.2222222222222222,
                          "#7201a8"
                        ],
                        [
                          0.3333333333333333,
                          "#9c179e"
                        ],
                        [
                          0.4444444444444444,
                          "#bd3786"
                        ],
                        [
                          0.5555555555555556,
                          "#d8576b"
                        ],
                        [
                          0.6666666666666666,
                          "#ed7953"
                        ],
                        [
                          0.7777777777777778,
                          "#fb9f3a"
                        ],
                        [
                          0.8888888888888888,
                          "#fdca26"
                        ],
                        [
                          1,
                          "#f0f921"
                        ]
                      ]
                    },
                    "colorway": [
                      "#636efa",
                      "#EF553B",
                      "#00cc96",
                      "#ab63fa",
                      "#FFA15A",
                      "#19d3f3",
                      "#FF6692",
                      "#B6E880",
                      "#FF97FF",
                      "#FECB52"
                    ],
                    "font": {
                      "color": "#2a3f5f"
                    },
                    "geo": {
                      "bgcolor": "white",
                      "lakecolor": "white",
                      "landcolor": "#E5ECF6",
                      "showlakes": true,
                      "showland": true,
                      "subunitcolor": "white"
                    },
                    "hoverlabel": {
                      "align": "left"
                    },
                    "hovermode": "closest",
                    "mapbox": {
                      "style": "light"
                    },
                    "paper_bgcolor": "white",
                    "plot_bgcolor": "#E5ECF6",
                    "polar": {
                      "angularaxis": {
                        "gridcolor": "white",
                        "linecolor": "white",
                        "ticks": ""
                      },
                      "bgcolor": "#E5ECF6",
                      "radialaxis": {
                        "gridcolor": "white",
                        "linecolor": "white",
                        "ticks": ""
                      }
                    },
                    "scene": {
                      "xaxis": {
                        "backgroundcolor": "#E5ECF6",
                        "gridcolor": "white",
                        "gridwidth": 2,
                        "linecolor": "white",
                        "showbackground": true,
                        "ticks": "",
                        "zerolinecolor": "white"
                      },
                      "yaxis": {
                        "backgroundcolor": "#E5ECF6",
                        "gridcolor": "white",
                        "gridwidth": 2,
                        "linecolor": "white",
                        "showbackground": true,
                        "ticks": "",
                        "zerolinecolor": "white"
                      },
                      "zaxis": {
                        "backgroundcolor": "#E5ECF6",
                        "gridcolor": "white",
                        "gridwidth": 2,
                        "linecolor": "white",
                        "showbackground": true,
                        "ticks": "",
                        "zerolinecolor": "white"
                      }
                    },
                    "shapedefaults": {
                      "line": {
                        "color": "#2a3f5f"
                      }
                    },
                    "ternary": {
                      "aaxis": {
                        "gridcolor": "white",
                        "linecolor": "white",
                        "ticks": ""
                      },
                      "baxis": {
                        "gridcolor": "white",
                        "linecolor": "white",
                        "ticks": ""
                      },
                      "bgcolor": "#E5ECF6",
                      "caxis": {
                        "gridcolor": "white",
                        "linecolor": "white",
                        "ticks": ""
                      }
                    },
                    "title": {
                      "x": 0.05
                    },
                    "xaxis": {
                      "automargin": true,
                      "gridcolor": "white",
                      "linecolor": "white",
                      "ticks": "",
                      "title": {
                        "standoff": 15
                      },
                      "zerolinecolor": "white",
                      "zerolinewidth": 2
                    },
                    "yaxis": {
                      "automargin": true,
                      "gridcolor": "white",
                      "linecolor": "white",
                      "ticks": "",
                      "title": {
                        "standoff": 15
                      },
                      "zerolinecolor": "white",
                      "zerolinewidth": 2
                    }
                  }
                },
                "title": {
                  "text": "출생아 수 데이터의 부분 자기상관 함수(PACF)"
                },
                "xaxis": {
                  "title": {
                    "text": "시차(Lag)"
                  }
                },
                "yaxis": {
                  "title": {
                    "text": "부분 자기상관 계수"
                  }
                }
              }
            }
          },
          "metadata": {},
          "output_type": "display_data"
        }
      ],
      "source": [
        "import pandas as pd\n",
        "import numpy as np\n",
        "import plotly.graph_objects as go\n",
        "from statsmodels.tsa.stattools import pacf\n",
        "\n",
        "# 예시 데이터 (월별 출생아 수)\n",
        "# (위 1번 섹션에서 df_birth가 로드되었다고 가정)\n",
        "series = df_birth['출생아수'].dropna()\n",
        "\n",
        "# PACF 계산\n",
        "pacf_values = pacf(series, nlags=40, method='ywm') # Yule-Walker method\n",
        "\n",
        "# Plotly를 사용한 PACF 플롯 생성\n",
        "fig = go.Figure()\n",
        "\n",
        "# PACF 막대그래프\n",
        "fig.add_trace(go.Bar(\n",
        "    x=np.arange(len(pacf_values)),\n",
        "    y=pacf_values,\n",
        "    name='PACF'\n",
        "))\n",
        "\n",
        "fig.update_layout(\n",
        "    title='출생아 수 데이터의 부분 자기상관 함수(PACF)',\n",
        "    xaxis_title='시차(Lag)',\n",
        "    yaxis_title='부분 자기상관 계수'\n",
        ")\n",
        "fig.show()"
      ]
    },
    {
      "cell_type": "markdown",
      "metadata": {},
      "source": [
        "* 해석:\n",
        "> - x축은 시차(lag), y축은 해당 시차에서의 부분 자기상관 계수를 의미합니다.\n",
        "> - lag 1에서 부분 자기상관 계수가 0.7 이상으로 매우 높게 나타나며, 이는 직전 시점의 데이터가 현재 데이터에 강한 영향을 미친다는 것을 의미합니다.\n",
        "> - 이후 lag에서는 부분 자기상관 계수가 대부분 0에 가깝거나, 일부 lag(예: 11)에서 음의 값으로 크게 나타납니다.\n",
        "> - lag 11에서 음의 부분 자기상관이 뚜렷하게 나타나는 것은 11개월 주기의 음의 상관관계가 존재함을 시사할 수 있습니다.\n",
        "> - 전반적으로 lag 1 이후에는 부분 자기상관이 급격히 감소하므로, AR(1) 또는 AR(1)+주기성 모델이 적합할 수 있음을 시사합니다."
      ]
    },
    {
      "cell_type": "code",
      "execution_count": 11,
      "metadata": {},
      "outputs": [
        {
          "data": {
            "image/png": "[encoded data removed]",
            "text/plain": [
              "<Figure size 640x480 with 1 Axes>"
            ]
          },
          "metadata": {},
          "output_type": "display_data"
        }
      ],
      "source": [
        "# 특정 시차에서의 부분 자기상관을 나타내며, 이전 시차들의 영향을 배제한 순수한 자기상관을 나타냄\n",
        "plot_pacf(df_birth['출생아수'],title='출생아수 부분 자기상관 함수',lags=40);"
      ]
    },
    {
      "cell_type": "markdown",
      "metadata": {},
      "source": [
        "#### ACF와 PACF 그래프 해석 가이드\n",
        "\n",
        "ACF(자기상관 함수)와 PACF(부분 자기상관 함수)는 시계열 데이터의 자기상관 구조를 파악하고 적절한 시계열 모델(AR, MA)을 식별하는 데 중요한 도구입니다. 각 그래프의 패턴이 의미하는 바는 다음과 같습니다.\n",
        "\n",
        "1.  **ACF (자기상관 함수) 그래프**\n",
        "    *   **정의**: 현재 시점의 값과 특정 시차(lag) 이전 시점의 값 사이의 선형 관계를 측정합니다.\n",
        "    *   **패턴 해석**:\n",
        "        *   **특정 시차 이후 급격히 0에 가까워짐 (절단, Cuts off)**: 데이터가 **MA(Moving Average) 프로세스**를 따를 가능성이 높습니다.\n",
        "            *   이는 현재 값이 과거의 특정 시점까지의 예측 오차(error term)에 직접적으로 영향을 받는다는 것을 의미합니다.\n",
        "            *   예를 들어, MA(1) 모델에서는 ACF가 lag 1에서 유의미하고 그 이후에는 급격히 0에 가까워집니다.\n",
        "        *   **점진적으로 감소 (Exponentially decreasing or sinusoidal)**: 데이터가 **AR(Autoregressive) 프로세스**를 따를 가능성이 높습니다.\n",
        "            *   이는 현재 값이 과거의 여러 시점의 값들에 의해 간접적으로 영향을 받는다는 것을 의미합니다.\n",
        "            *   AR 프로세스에서는 직접적인 자기상관이 점차적으로 줄어드는 경향을 보입니다.\n",
        "\n",
        "2.  **PACF (부분 자기상관 함수) 그래프**\n",
        "    *   **정의**: 현재 시점의 값과 특정 시차 이전 시점의 값 사이의 순수한 선형 관계를 측정합니다. 중간 시차들의 영향을 제거한 후의 관계입니다.\n",
        "    *   **패턴 해석**:\n",
        "        *   **특정 시차 이후 급격히 0에 가까워짐 (절단, Cuts off)**: 데이터가 **AR(Autoregressive) 프로세스**를 따를 가능성이 높습니다.\n",
        "            *   이는 현재 값이 과거의 특정 시점까지의 값에 직접적으로 영향을 받는다는 것을 의미합니다.\n",
        "            *   예를 들어, AR(1) 모델에서는 PACF가 lag 1에서 유의미하고 그 이후에는 급격히 0에 가까워집니다.\n",
        "        *   **점진적으로 감소 (Exponentially decreasing or sinusoidal)**: 데이터가 **MA(Moving Average) 프로세스**를 따를 가능성이 높습니다.\n",
        "            *   이는 현재 값이 과거의 여러 시점의 예측 오차(error term)에 의해 간접적으로 영향을 받는다는 것을 의미합니다.\n",
        "            *   MA 프로세스에서는 부분 자기상관이 점차적으로 줄어드는 경향을 보입니다.\n"
      ]
    },
    {
      "cell_type": "markdown",
      "metadata": {},
      "source": [
        "#### 💡 출생아수 데이터에 대한 해석\n",
        "* ACF 해석\n",
        "\t\n",
        "\t* LAG 0에서의 자기상관 계수는 항상 1 (자기 자신과의 상관관계이기 때문).\n",
        "\t\n",
        "\t* LAG 1에서의 자기상관 계수가 매우 높게 나타나며, 이는 최근 시점의 데이터가 이전 시점의 데이터와 높은 상관 관계가 있음을 나타냄.\n",
        "\t* 점진적 감소 및 양의 상관관계 유지: ACF 값이 LAG 1 이후로 점진적으로 감소하지만 여전히 양의 상관 관계를 유지. 이는 데이터에 장기적인 추세나 주기성이 존재할 가능성을 시사.\n",
        "  \n",
        "* PACF 해석\n",
        "    \n",
        "    * LAG1에서 매우 높은 부분 자기상관 계수과 관찰됨. 이는 AR(1) 모델이 적합하다고 판단할 증거가 됨.\n",
        "    \n",
        "    * LAG2 이후부터는 부분 자기상관 계수가 급격히 감소. 대부분의 LAG에서 0에 가까운 값을 나타냄. 다만 몇몇 지연에서 유의미한 값을 보임.\n",
        "    * 특정 지연(약 10, 15, 20)에서의 급격한 변동이 나타남. 이는 데이터에 특정 주기나 구조적 변화가 있음을 시사.\n",
        "  \n",
        "\n",
        "* 해석에 대한 결론\n",
        "    \n",
        "    * 추세와 계절성: ACF 그래프에서 LAG가 커져도 여전히 양의 상관 관계가 유지되는 것은 데이터에 장기적인 추세나 계절성이 존재할 가능성이 있다고 볼수 있음. 특히, 일정한 주기로 높은 상관 관계를 유지하는 것은 계절성이 존재함을 시사함.\n",
        "\t\n",
        "    * 모델 선택: PACF 그래프에서 LAG1이후의 부분 자기상관 계수가 급격히 감소하는 패턴은 <font color=\"yellow\">AR(1) 모델</font>이 적합할 수 있음을 나타냄. 그러나 특정 지연에서의 급격한 변동은 <font color=\"yellow\">추가적인 계절성 요소</font>를 고려해야 함을 시사함.\n",
        "  \n",
        "\n",
        "* 향후 모델 선택 전략\n",
        "  \n",
        "  * ARIMA 또는 SARIMA 모델중에 선택할수 할수 있지만, 일반적으로 출생아수가 시즌성이 있다고 생각하기 어려운점이 있음.\n",
        "  \n",
        "  * 따라서, 추세성을 반영한 모델을 다양하게 적합해보고 잔차 분석을 통해서 모델 타당성을 찾아가야 한다고 생각함.\n"
      ]
    },
    {
      "cell_type": "markdown",
      "metadata": {
        "id": "WESVRViUc6xr"
      },
      "source": [
        "### ✏️ 연습 문제 (Practice Problems)\n",
        "\n",
        "1.  **항공 승객 데이터 PACF 분석**: 항공 승객 데이터의 '승객 수'에 대한 PACF를 `lags=48`로 계산하고, `plotly`를 사용하여 시각화해 보세요.\n",
        "2.  **PACF 플롯 해석**: 생성된 PACF 플롯에서 통계적으로 유의미한 시차는 몇 개 보이나요? ACF 플롯과 비교했을 때 어떤 차이점이 있는지 설명해 보세요."
      ]
    },
    {
      "cell_type": "code",
      "execution_count": 12,
      "metadata": {
        "id": "aWnWTIndc6xr"
      },
      "outputs": [],
      "source": [
        "# 연습 문제 1번 & 2번 풀이 공간"
      ]
    },
    {
      "cell_type": "markdown",
      "metadata": {
        "id": "L_PcSaxKc6xr"
      },
      "source": [
        "---\n",
        "\n",
        "## 4. ACF와 PACF를 이용한 시계열 패턴 해석\n",
        "\n",
        "### 💡 개념 (Concept)\n",
        "\n",
        "ACF와 PACF 플롯의 패턴은 시계열 데이터가 어떤 통계적 모델에 적합한지 알려주는 중요한 단서가 됩니다. 대표적인 시계열 모델인 **AR(자기회귀) 모델**과 **MA(이동평균) 모델**의 특징은 다음과 같습니다.\n",
        "\n",
        "| 모델 유형 | ACF 플롯의 특징                                        | PACF 플롯의 특징                                      |\n",
        "| :-------- | :----------------------------------------------------- | :---------------------------------------------------- |\n",
        "| **AR(p)** | 점차적으로 감소 (Exponentially decreasing or sinusoidal) | p 시차(lag) 이후 급격히 0에 가까워짐 (Cuts off after lag p) |\n",
        "| **MA(q)** | q 시차(lag) 이후 급격히 0에 가까워짐 (Cuts off after lag q) | 점차적으로 감소 (Exponentially decreasing or sinusoidal) |\n",
        "\n",
        "* **AR(p) 모델**: 현재 값이 과거 **p개**의 값에 직접적으로 영향을 받는 모델입니다. PACF가 p 시차 이후에 절단되는 형태로 나타납니다.\n",
        "* **MA(q) 모델**: 현재 값이 과거 **q개**의 예측 오차(error)에 영향을 받는 모델입니다. ACF가 q 시차 이후에 절단되는 형태로 나타납니다.\n",
        "* **ARMA(p, q) 모델**: AR(p)와 MA(q) 모델이 결합된 형태로, ACF와 PACF 모두 점진적으로 감소합니다.\n",
        "\n",
        "### 💻 예시 코드 (Example Code)\n",
        "\n",
        "출생아 수 데이터의 ACF와 PACF를 `plotly.subplots`를 이용해 나란히 그려보고 종합적으로 해석해 봅니다."
      ]
    },
    {
      "cell_type": "code",
      "execution_count": 13,
      "metadata": {
        "id": "fusPVKpLc6xr"
      },
      "outputs": [
        {
          "data": {
            "application/vnd.plotly.v1+json": {
              "config": {
                "plotlyServerURL": "https://plot.ly"
              },
              "data": [
                {
                  "name": "ACF",
                  "type": "bar",
                  "x": {
                    "bdata": "AAECAwQFBgcICQoLDA0ODxAREhMUFRYXGBkaGxwdHh8gISIjJCUmJyg=",
                    "dtype": "i1"
                  },
                  "xaxis": "x",
                  "y": {
                    "bdata": "AAAAAAAA8D9m5FgG4QrtP//oipSd3eo/g3hrhRVi6j/jDLCnL8fpP7yD2IlnOuk/TSPXKQZH6T8MJDFB6dboP4qvebhx8eg/CnA6yHAJ6T9Ey8Obh//oP3l0nkwQe+o/EQEOyJOT7D+tRjWf/7zpP2oQ8T+8m+c/WB54AwwZ5z/lrm1MDXrmPwFLiiZD++U/yx1KDf0G5j/Jq230dKTlPxL5T2wbyuU/bevLiLbH5T+D+CKbHbXlP56dmiq4Dec/PJ7W5pEC6T96VqRbsV3mPwOak7+1XOQ/P60ePnnz4z9G4ONYfF/jP4ID6/028OI/HmnzjBkM4z/36CEK+rfiP4lCqhWK3+I/VKpHNtTb4j8JWaKE09PiP4k/qeyvGuQ/yncfUKYG5j/nuWNjCprjPwlpNn5tvuE/s2jM7yFf4T8iMoPA8dLgPw==",
                    "dtype": "f8"
                  },
                  "yaxis": "y"
                },
                {
                  "name": "PACF",
                  "type": "bar",
                  "x": {
                    "bdata": "AAECAwQFBgcICQoLDA0ODxAREhMUFRYXGBkaGxwdHh8gISIjJCUmJyg=",
                    "dtype": "i1"
                  },
                  "xaxis": "x2",
                  "y": {
                    "bdata": "AAAAAAAA8D9n5FgG4QrtP4+2jGGmBbc/5Rlei/AV0j8O7aLzQUuuP8lru2CJQLs/2KbvlSg9wz+d30O8Hddivy5sQVncvMY/ovPvr7MXpj8Ws4GmzFi4P+AgowpwTNg/JQwv9SYG2j80l0S2JPTmv6Y8+cLEgq6/uKy5oYIQr79OkTMHOPGBP1QeOjonOKI/bSPNi3smir/E5Uv74EKoP0W2Q76SHK4/SodzsjAdjr+0ootUl1iyP4cG4YSKXbA/bKSuM9h7wj+43XQPR3nKv5i6yozGyp2/sc2Sz8ichr8pWbbk8S6iv9pDw0clo4C/ulWbGriRNT/thVhq14qAv6sl4DjM2no/tN6qKOQIoT8+aR6dPN6oPyd9ERVclKA/R1xmMUubuj/FH4a1oWu0v9s5htRckU6/ljg0oQamrb8awQq8+KCKvw==",
                    "dtype": "f8"
                  },
                  "yaxis": "y2"
                }
              ],
              "layout": {
                "annotations": [
                  {
                    "font": {
                      "size": 16
                    },
                    "showarrow": false,
                    "text": "자기상관 함수 (ACF)",
                    "x": 0.5,
                    "xanchor": "center",
                    "xref": "paper",
                    "y": 1,
                    "yanchor": "bottom",
                    "yref": "paper"
                  },
                  {
                    "font": {
                      "size": 16
                    },
                    "showarrow": false,
                    "text": "부분 자기상관 함수 (PACF)",
                    "x": 0.5,
                    "xanchor": "center",
                    "xref": "paper",
                    "y": 0.375,
                    "yanchor": "bottom",
                    "yref": "paper"
                  }
                ],
                "height": 600,
                "template": {
                  "data": {
                    "bar": [
                      {
                        "error_x": {
                          "color": "#2a3f5f"
                        },
                        "error_y": {
                          "color": "#2a3f5f"
                        },
                        "marker": {
                          "line": {
                            "color": "#E5ECF6",
                            "width": 0.5
                          },
                          "pattern": {
                            "fillmode": "overlay",
                            "size": 10,
                            "solidity": 0.2
                          }
                        },
                        "type": "bar"
                      }
                    ],
                    "barpolar": [
                      {
                        "marker": {
                          "line": {
                            "color": "#E5ECF6",
                            "width": 0.5
                          },
                          "pattern": {
                            "fillmode": "overlay",
                            "size": 10,
                            "solidity": 0.2
                          }
                        },
                        "type": "barpolar"
                      }
                    ],
                    "carpet": [
                      {
                        "aaxis": {
                          "endlinecolor": "#2a3f5f",
                          "gridcolor": "white",
                          "linecolor": "white",
                          "minorgridcolor": "white",
                          "startlinecolor": "#2a3f5f"
                        },
                        "baxis": {
                          "endlinecolor": "#2a3f5f",
                          "gridcolor": "white",
                          "linecolor": "white",
                          "minorgridcolor": "white",
                          "startlinecolor": "#2a3f5f"
                        },
                        "type": "carpet"
                      }
                    ],
                    "choropleth": [
                      {
                        "colorbar": {
                          "outlinewidth": 0,
                          "ticks": ""
                        },
                        "type": "choropleth"
                      }
                    ],
                    "contour": [
                      {
                        "colorbar": {
                          "outlinewidth": 0,
                          "ticks": ""
                        },
                        "colorscale": [
                          [
                            0,
                            "#0d0887"
                          ],
                          [
                            0.1111111111111111,
                            "#46039f"
                          ],
                          [
                            0.2222222222222222,
                            "#7201a8"
                          ],
                          [
                            0.3333333333333333,
                            "#9c179e"
                          ],
                          [
                            0.4444444444444444,
                            "#bd3786"
                          ],
                          [
                            0.5555555555555556,
                            "#d8576b"
                          ],
                          [
                            0.6666666666666666,
                            "#ed7953"
                          ],
                          [
                            0.7777777777777778,
                            "#fb9f3a"
                          ],
                          [
                            0.8888888888888888,
                            "#fdca26"
                          ],
                          [
                            1,
                            "#f0f921"
                          ]
                        ],
                        "type": "contour"
                      }
                    ],
                    "contourcarpet": [
                      {
                        "colorbar": {
                          "outlinewidth": 0,
                          "ticks": ""
                        },
                        "type": "contourcarpet"
                      }
                    ],
                    "heatmap": [
                      {
                        "colorbar": {
                          "outlinewidth": 0,
                          "ticks": ""
                        },
                        "colorscale": [
                          [
                            0,
                            "#0d0887"
                          ],
                          [
                            0.1111111111111111,
                            "#46039f"
                          ],
                          [
                            0.2222222222222222,
                            "#7201a8"
                          ],
                          [
                            0.3333333333333333,
                            "#9c179e"
                          ],
                          [
                            0.4444444444444444,
                            "#bd3786"
                          ],
                          [
                            0.5555555555555556,
                            "#d8576b"
                          ],
                          [
                            0.6666666666666666,
                            "#ed7953"
                          ],
                          [
                            0.7777777777777778,
                            "#fb9f3a"
                          ],
                          [
                            0.8888888888888888,
                            "#fdca26"
                          ],
                          [
                            1,
                            "#f0f921"
                          ]
                        ],
                        "type": "heatmap"
                      }
                    ],
                    "histogram": [
                      {
                        "marker": {
                          "pattern": {
                            "fillmode": "overlay",
                            "size": 10,
                            "solidity": 0.2
                          }
                        },
                        "type": "histogram"
                      }
                    ],
                    "histogram2d": [
                      {
                        "colorbar": {
                          "outlinewidth": 0,
                          "ticks": ""
                        },
                        "colorscale": [
                          [
                            0,
                            "#0d0887"
                          ],
                          [
                            0.1111111111111111,
                            "#46039f"
                          ],
                          [
                            0.2222222222222222,
                            "#7201a8"
                          ],
                          [
                            0.3333333333333333,
                            "#9c179e"
                          ],
                          [
                            0.4444444444444444,
                            "#bd3786"
                          ],
                          [
                            0.5555555555555556,
                            "#d8576b"
                          ],
                          [
                            0.6666666666666666,
                            "#ed7953"
                          ],
                          [
                            0.7777777777777778,
                            "#fb9f3a"
                          ],
                          [
                            0.8888888888888888,
                            "#fdca26"
                          ],
                          [
                            1,
                            "#f0f921"
                          ]
                        ],
                        "type": "histogram2d"
                      }
                    ],
                    "histogram2dcontour": [
                      {
                        "colorbar": {
                          "outlinewidth": 0,
                          "ticks": ""
                        },
                        "colorscale": [
                          [
                            0,
                            "#0d0887"
                          ],
                          [
                            0.1111111111111111,
                            "#46039f"
                          ],
                          [
                            0.2222222222222222,
                            "#7201a8"
                          ],
                          [
                            0.3333333333333333,
                            "#9c179e"
                          ],
                          [
                            0.4444444444444444,
                            "#bd3786"
                          ],
                          [
                            0.5555555555555556,
                            "#d8576b"
                          ],
                          [
                            0.6666666666666666,
                            "#ed7953"
                          ],
                          [
                            0.7777777777777778,
                            "#fb9f3a"
                          ],
                          [
                            0.8888888888888888,
                            "#fdca26"
                          ],
                          [
                            1,
                            "#f0f921"
                          ]
                        ],
                        "type": "histogram2dcontour"
                      }
                    ],
                    "mesh3d": [
                      {
                        "colorbar": {
                          "outlinewidth": 0,
                          "ticks": ""
                        },
                        "type": "mesh3d"
                      }
                    ],
                    "parcoords": [
                      {
                        "line": {
                          "colorbar": {
                            "outlinewidth": 0,
                            "ticks": ""
                          }
                        },
                        "type": "parcoords"
                      }
                    ],
                    "pie": [
                      {
                        "automargin": true,
                        "type": "pie"
                      }
                    ],
                    "scatter": [
                      {
                        "fillpattern": {
                          "fillmode": "overlay",
                          "size": 10,
                          "solidity": 0.2
                        },
                        "type": "scatter"
                      }
                    ],
                    "scatter3d": [
                      {
                        "line": {
                          "colorbar": {
                            "outlinewidth": 0,
                            "ticks": ""
                          }
                        },
                        "marker": {
                          "colorbar": {
                            "outlinewidth": 0,
                            "ticks": ""
                          }
                        },
                        "type": "scatter3d"
                      }
                    ],
                    "scattercarpet": [
                      {
                        "marker": {
                          "colorbar": {
                            "outlinewidth": 0,
                            "ticks": ""
                          }
                        },
                        "type": "scattercarpet"
                      }
                    ],
                    "scattergeo": [
                      {
                        "marker": {
                          "colorbar": {
                            "outlinewidth": 0,
                            "ticks": ""
                          }
                        },
                        "type": "scattergeo"
                      }
                    ],
                    "scattergl": [
                      {
                        "marker": {
                          "colorbar": {
                            "outlinewidth": 0,
                            "ticks": ""
                          }
                        },
                        "type": "scattergl"
                      }
                    ],
                    "scattermap": [
                      {
                        "marker": {
                          "colorbar": {
                            "outlinewidth": 0,
                            "ticks": ""
                          }
                        },
                        "type": "scattermap"
                      }
                    ],
                    "scattermapbox": [
                      {
                        "marker": {
                          "colorbar": {
                            "outlinewidth": 0,
                            "ticks": ""
                          }
                        },
                        "type": "scattermapbox"
                      }
                    ],
                    "scatterpolar": [
                      {
                        "marker": {
                          "colorbar": {
                            "outlinewidth": 0,
                            "ticks": ""
                          }
                        },
                        "type": "scatterpolar"
                      }
                    ],
                    "scatterpolargl": [
                      {
                        "marker": {
                          "colorbar": {
                            "outlinewidth": 0,
                            "ticks": ""
                          }
                        },
                        "type": "scatterpolargl"
                      }
                    ],
                    "scatterternary": [
                      {
                        "marker": {
                          "colorbar": {
                            "outlinewidth": 0,
                            "ticks": ""
                          }
                        },
                        "type": "scatterternary"
                      }
                    ],
                    "surface": [
                      {
                        "colorbar": {
                          "outlinewidth": 0,
                          "ticks": ""
                        },
                        "colorscale": [
                          [
                            0,
                            "#0d0887"
                          ],
                          [
                            0.1111111111111111,
                            "#46039f"
                          ],
                          [
                            0.2222222222222222,
                            "#7201a8"
                          ],
                          [
                            0.3333333333333333,
                            "#9c179e"
                          ],
                          [
                            0.4444444444444444,
                            "#bd3786"
                          ],
                          [
                            0.5555555555555556,
                            "#d8576b"
                          ],
                          [
                            0.6666666666666666,
                            "#ed7953"
                          ],
                          [
                            0.7777777777777778,
                            "#fb9f3a"
                          ],
                          [
                            0.8888888888888888,
                            "#fdca26"
                          ],
                          [
                            1,
                            "#f0f921"
                          ]
                        ],
                        "type": "surface"
                      }
                    ],
                    "table": [
                      {
                        "cells": {
                          "fill": {
                            "color": "#EBF0F8"
                          },
                          "line": {
                            "color": "white"
                          }
                        },
                        "header": {
                          "fill": {
                            "color": "#C8D4E3"
                          },
                          "line": {
                            "color": "white"
                          }
                        },
                        "type": "table"
                      }
                    ]
                  },
                  "layout": {
                    "annotationdefaults": {
                      "arrowcolor": "#2a3f5f",
                      "arrowhead": 0,
                      "arrowwidth": 1
                    },
                    "autotypenumbers": "strict",
                    "coloraxis": {
                      "colorbar": {
                        "outlinewidth": 0,
                        "ticks": ""
                      }
                    },
                    "colorscale": {
                      "diverging": [
                        [
                          0,
                          "#8e0152"
                        ],
                        [
                          0.1,
                          "#c51b7d"
                        ],
                        [
                          0.2,
                          "#de77ae"
                        ],
                        [
                          0.3,
                          "#f1b6da"
                        ],
                        [
                          0.4,
                          "#fde0ef"
                        ],
                        [
                          0.5,
                          "#f7f7f7"
                        ],
                        [
                          0.6,
                          "#e6f5d0"
                        ],
                        [
                          0.7,
                          "#b8e186"
                        ],
                        [
                          0.8,
                          "#7fbc41"
                        ],
                        [
                          0.9,
                          "#4d9221"
                        ],
                        [
                          1,
                          "#276419"
                        ]
                      ],
                      "sequential": [
                        [
                          0,
                          "#0d0887"
                        ],
                        [
                          0.1111111111111111,
                          "#46039f"
                        ],
                        [
                          0.2222222222222222,
                          "#7201a8"
                        ],
                        [
                          0.3333333333333333,
                          "#9c179e"
                        ],
                        [
                          0.4444444444444444,
                          "#bd3786"
                        ],
                        [
                          0.5555555555555556,
                          "#d8576b"
                        ],
                        [
                          0.6666666666666666,
                          "#ed7953"
                        ],
                        [
                          0.7777777777777778,
                          "#fb9f3a"
                        ],
                        [
                          0.8888888888888888,
                          "#fdca26"
                        ],
                        [
                          1,
                          "#f0f921"
                        ]
                      ],
                      "sequentialminus": [
                        [
                          0,
                          "#0d0887"
                        ],
                        [
                          0.1111111111111111,
                          "#46039f"
                        ],
                        [
                          0.2222222222222222,
                          "#7201a8"
                        ],
                        [
                          0.3333333333333333,
                          "#9c179e"
                        ],
                        [
                          0.4444444444444444,
                          "#bd3786"
                        ],
                        [
                          0.5555555555555556,
                          "#d8576b"
                        ],
                        [
                          0.6666666666666666,
                          "#ed7953"
                        ],
                        [
                          0.7777777777777778,
                          "#fb9f3a"
                        ],
                        [
                          0.8888888888888888,
                          "#fdca26"
                        ],
                        [
                          1,
                          "#f0f921"
                        ]
                      ]
                    },
                    "colorway": [
                      "#636efa",
                      "#EF553B",
                      "#00cc96",
                      "#ab63fa",
                      "#FFA15A",
                      "#19d3f3",
                      "#FF6692",
                      "#B6E880",
                      "#FF97FF",
                      "#FECB52"
                    ],
                    "font": {
                      "color": "#2a3f5f"
                    },
                    "geo": {
                      "bgcolor": "white",
                      "lakecolor": "white",
                      "landcolor": "#E5ECF6",
                      "showlakes": true,
                      "showland": true,
                      "subunitcolor": "white"
                    },
                    "hoverlabel": {
                      "align": "left"
                    },
                    "hovermode": "closest",
                    "mapbox": {
                      "style": "light"
                    },
                    "paper_bgcolor": "white",
                    "plot_bgcolor": "#E5ECF6",
                    "polar": {
                      "angularaxis": {
                        "gridcolor": "white",
                        "linecolor": "white",
                        "ticks": ""
                      },
                      "bgcolor": "#E5ECF6",
                      "radialaxis": {
                        "gridcolor": "white",
                        "linecolor": "white",
                        "ticks": ""
                      }
                    },
                    "scene": {
                      "xaxis": {
                        "backgroundcolor": "#E5ECF6",
                        "gridcolor": "white",
                        "gridwidth": 2,
                        "linecolor": "white",
                        "showbackground": true,
                        "ticks": "",
                        "zerolinecolor": "white"
                      },
                      "yaxis": {
                        "backgroundcolor": "#E5ECF6",
                        "gridcolor": "white",
                        "gridwidth": 2,
                        "linecolor": "white",
                        "showbackground": true,
                        "ticks": "",
                        "zerolinecolor": "white"
                      },
                      "zaxis": {
                        "backgroundcolor": "#E5ECF6",
                        "gridcolor": "white",
                        "gridwidth": 2,
                        "linecolor": "white",
                        "showbackground": true,
                        "ticks": "",
                        "zerolinecolor": "white"
                      }
                    },
                    "shapedefaults": {
                      "line": {
                        "color": "#2a3f5f"
                      }
                    },
                    "ternary": {
                      "aaxis": {
                        "gridcolor": "white",
                        "linecolor": "white",
                        "ticks": ""
                      },
                      "baxis": {
                        "gridcolor": "white",
                        "linecolor": "white",
                        "ticks": ""
                      },
                      "bgcolor": "#E5ECF6",
                      "caxis": {
                        "gridcolor": "white",
                        "linecolor": "white",
                        "ticks": ""
                      }
                    },
                    "title": {
                      "x": 0.05
                    },
                    "xaxis": {
                      "automargin": true,
                      "gridcolor": "white",
                      "linecolor": "white",
                      "ticks": "",
                      "title": {
                        "standoff": 15
                      },
                      "zerolinecolor": "white",
                      "zerolinewidth": 2
                    },
                    "yaxis": {
                      "automargin": true,
                      "gridcolor": "white",
                      "linecolor": "white",
                      "ticks": "",
                      "title": {
                        "standoff": 15
                      },
                      "zerolinecolor": "white",
                      "zerolinewidth": 2
                    }
                  }
                },
                "title": {
                  "text": "출생아 수 데이터 ACF & PACF"
                },
                "xaxis": {
                  "anchor": "y",
                  "domain": [
                    0,
                    1
                  ]
                },
                "xaxis2": {
                  "anchor": "y2",
                  "domain": [
                    0,
                    1
                  ]
                },
                "yaxis": {
                  "anchor": "x",
                  "domain": [
                    0.625,
                    1
                  ]
                },
                "yaxis2": {
                  "anchor": "x2",
                  "domain": [
                    0,
                    0.375
                  ]
                }
              }
            }
          },
          "metadata": {},
          "output_type": "display_data"
        }
      ],
      "source": [
        "import pandas as pd\n",
        "import plotly.express as px\n",
        "import plotly.graph_objects as go\n",
        "import numpy as np\n",
        "from plotly.subplots import make_subplots\n",
        "\n",
        "\n",
        "# (위 코드들에서 acf_values, pacf_values, conf_interval이 계산되었다고 가정)\n",
        "\n",
        "# 2개의 서브플롯 생성\n",
        "fig = make_subplots(rows=2, cols=1, subplot_titles=('자기상관 함수 (ACF)', '부분 자기상관 함수 (PACF)'))\n",
        "\n",
        "# ACF 플롯 추가\n",
        "fig.add_trace(go.Bar(x=np.arange(len(acf_values)), y=acf_values, name='ACF'), row=1, col=1)\n",
        "\n",
        "# PACF 플롯 추가\n",
        "fig.add_trace(go.Bar(x=np.arange(len(pacf_values)), y=pacf_values, name='PACF'), row=2, col=1)\n",
        "\n",
        "fig.update_layout(height=600, title_text=\"출생아 수 데이터 ACF & PACF\")\n",
        "fig.show()"
      ]
    },
    {
      "cell_type": "markdown",
      "metadata": {},
      "source": [
        "#### 📊 ACF & PACF 해석 결과\n",
        "\n",
        "**ACF (자기상관함수) 분석:**\n",
        "- 모든 시차에서 양의 상관관계를 보이며 천천히 감소하는 패턴\n",
        "- 초기 시차들에서 매우 높은 상관계수 값을 유지\n",
        "- 이는 데이터에 강한 추세(trend) 성분이 존재함을 의미\n",
        "- 비정상성(non-stationarity)의 전형적인 특징을 보임\n",
        "\n",
        "**PACF (부분자기상관함수) 분석:**\n",
        "- Lag 1에서 매우 높은 양의 값(약 0.9 이상)을 보임\n",
        "- Lag 2에서도 상당한 양의 값을 유지\n",
        "- Lag 3 이후부터는 급격히 0에 가까워지며 신뢰구간 내로 수렴\n",
        "- 이는 AR(2) 모델의 특성과 유사한 패턴\n",
        "\n",
        "**종합 해석:**\n",
        "1. **비정상성 확인**: ACF가 천천히 감소하는 패턴으로 데이터가 비정상적임\n",
        "2. **모델 추정**: PACF 패턴을 통해 AR(2) 모델이 적합해 보임\n",
        "3. **권장 접근법**: \n",
        "   - 1차 차분을 통한 추세 제거 후 재분석 필요\n",
        "   - ARIMA(2,1,0) 모델 고려\n",
        "   - 차분 후 ACF/PACF 재확인을 통한 최종 모델 결정\n",
        "\n",
        "**실무 적용**: 출생아 수와 같은 인구통계학적 데이터는 일반적으로 장기 추세를 포함하므로, 차분을 통한 정상화 과정이 필수적입니다."
      ]
    },
    {
      "cell_type": "markdown",
      "metadata": {
        "id": "2wZOV-ESc6xr"
      },
      "source": [
        "### ✏️ 연습 문제 (Practice Problems)\n",
        "\n",
        "1.  **금융 데이터 분석**: S&P 500 지수의 일일 종가 데이터를 활용하여 시계열 분석을 수행해 봅시다.\n",
        "    * 데이터 URL: `https://query1.finance.yahoo.com/v7/finance/download/%5EGSPC?period1=1577836800&period2=1609372800&interval=1d&events=history&includeAdjustedClose=true` (2020년 S&P 500 데이터)\n",
        "    * **요구사항 1**: 위 URL의 데이터를 불러와 `Adj Close` 컬럼을 사용하여 시계열 그래프를 그리세요.\n",
        "    * **요구사항 2**: `Adj Close` 데이터의 ACF와 PACF를 계산하고 하나의 그림에 나란히 시각화하세요.\n",
        "    * **요구사항 3**: 두 플롯을 보고 데이터의 특성을 설명하고, AR(p) 또는 MA(q) 모델 중 어떤 것이 더 적합해 보이는지, 그리고 그 차수(p 또는 q)는 얼마로 추정되는지 의견을 제시해 보세요."
      ]
    },
    {
      "cell_type": "code",
      "execution_count": null,
      "metadata": {
        "id": "x_0itjWqc6xr"
      },
      "outputs": [],
      "source": [
        "# 연습 문제 1번 풀이 공간"
      ]
    },
    {
      "cell_type": "markdown",
      "metadata": {},
      "source": [
        "### 실습 과제: 시계열 데이터 상관성 분석 (ACF & PACF)\n",
        "\n",
        "이 과제에서는 주어진 시계열 데이터를 불러와 ACF와 PACF를 직접 계산하고 시각화하며, 그 결과를 해석하는 과정을 연습합니다."
      ]
    },
    {
      "cell_type": "markdown",
      "metadata": {},
      "source": [
        "#### **Part 1: 데이터 불러오기 및 탐색**\n",
        "\n",
        "월별 항공 승객 수 데이터를 불러와 시계열 그래프를 그려봅시다."
      ]
    },
    {
      "cell_type": "code",
      "execution_count": null,
      "metadata": {},
      "outputs": [],
      "source": [
        "import pandas as pd\n",
        "import plotly.express as px\n",
        "\n",
        "# **문제 1**: 아래 URL의 데이터를 'df_passengers' 변수로 불러오세요.\n",
        "# 'Month' 컬럼을 인덱스로 설정하고 datetime 형식으로 변환해야 합니다.\n",
        "url = \"https://raw.githubusercontent.com/jbrownlee/Datasets/master/airline-passengers.csv\"\n",
        "\n",
        "# 여기에 코드 작성\n"
      ]
    },
    {
      "cell_type": "code",
      "execution_count": 14,
      "metadata": {},
      "outputs": [],
      "source": [
        "# **문제 2**: 위에서 불러온 데이터를 plotly.express를 이용해 시각화하세요.\n",
        "# 컬럼 이름은 '승객 수'로 변경하면 더 좋습니다.\n",
        "\n",
        "# 여기에 코드 작성\n"
      ]
    },
    {
      "cell_type": "markdown",
      "metadata": {},
      "source": [
        "#### **Part 2: 자기상관 함수(ACF) 분석**"
      ]
    },
    {
      "cell_type": "code",
      "execution_count": null,
      "metadata": {},
      "outputs": [],
      "source": [
        "import numpy as np\n",
        "import plotly.graph_objects as go\n",
        "from statsmodels.tsa.stattools import acf\n",
        "\n",
        "# **문제 3**: 항공 승객 데이터에 대한 ACF를 lags=48로 계산하고, Plotly를 사용하여 시각화하세요. \n",
        "# 신뢰구간(Confidence Interval)도 함께 그려보세요. (신뢰구간 = 1.96 / sqrt(데이터 개수))\n",
        "\n",
        "# 여기에 코드 작성\n"
      ]
    },
    {
      "cell_type": "markdown",
      "metadata": {},
      "source": [
        "**ACF 플롯 해석**\n",
        "\n",
        "--- (문제 4: 위 ACF 플롯을 보고 데이터의 특성을 아래에 마크다운으로 작성하세요.) ---\n",
        "\n",
        "* (여기에 답변 작성)"
      ]
    },
    {
      "cell_type": "markdown",
      "metadata": {},
      "source": [
        "#### **Part 3: 부분 자기상관 함수(PACF) 분석**"
      ]
    },
    {
      "cell_type": "code",
      "execution_count": null,
      "metadata": {},
      "outputs": [],
      "source": [
        "from statsmodels.tsa.stattools import pacf\n",
        "\n",
        "# **문제 5**: 항공 승객 데이터에 대한 PACF를 lags=48로 계산하고, Plotly로 시각화하세요.\n",
        "\n",
        "# 여기에 코드 작성"
      ]
    },
    {
      "cell_type": "markdown",
      "metadata": {},
      "source": [
        "**PACF 플롯 해석**\n",
        "\n",
        "--- (문제 6: 위 PACF 플롯을 보고 ACF와 비교하여 데이터의 특성을 설명하고, AR 모델을 가정한다면 적절한 차수(p)는 얼마일지 추정해보세요.) ---\n",
        "\n",
        "* (여기에 답변 작성)"
      ]
    },
    {
      "cell_type": "markdown",
      "metadata": {},
      "source": [
        "#### **Part 4: [심화] 금융 데이터 분석**\n",
        "2020년 S&P 500 지수 데이터를 사용하여 위 과정을 반복해봅시다."
      ]
    },
    {
      "cell_type": "code",
      "execution_count": null,
      "metadata": {},
      "outputs": [],
      "source": [
        "# **문제 7**: 아래 URL의 데이터를 불러와 'Adj Close' 컬럼에 대한 시계열 그래프, ACF, PACF 플롯을 그리고 분석 결과를 요약하세요.\n",
        "url_sp500 = \"https://query1.finance.yahoo.com/v7/finance/download/%5EGSPC?period1=1577836800&period2=1609372800&interval=1d&events=history&includeAdjustedClose=true\"\n",
        "\n",
        "# 1. 데이터 불러오기 및 시각화\n",
        "\n",
        "\n",
        "# 2. ACF, PACF 계산 및 시각화\n",
        "\n",
        "\n",
        "# 3. 분석 결과 요약 (마크다운 셀을 추가하여 작성)"
      ]
    }
  ],
  "metadata": {
    "colab": {
      "provenance": []
    },
    "kernelspec": {
      "display_name": ".venv",
      "language": "python",
      "name": "python3"
    },
    "language_info": {
      "codemirror_mode": {
        "name": "ipython",
        "version": 3
      },
      "file_extension": ".py",
      "mimetype": "text/x-python",
      "name": "python",
      "nbconvert_exporter": "python",
      "pygments_lexer": "ipython3",
      "version": "3.12.9"
    }
  },
  "nbformat": 4,
  "nbformat_minor": 0
}
