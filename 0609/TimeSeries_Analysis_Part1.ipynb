{
 "cells": [
  {
   "cell_type": "markdown",
   "metadata": {},
   "source": [
    "## 📈 시계열 데이터 분석 (Part 1)\n",
    "### 1. 시계열 데이터(Time Series Data)의 중요성\n",
    "### 💡 개념 (Concept)\n",
    "> **시계열 데이터**는 일정 시간 간격으로 기록된 데이터의 연속입니다. 주가, 날씨, 웹사이트 트래픽, 판매량 등 우리 주변의 수많은 데이터가 시계열 데이터에 해당합니다.\n",
    ">\n",
    "> 이러한 데이터를 올바르게 분석하고 미래를 예측하는 능력은 비즈니스 의사결정, 리소스 최적화, 과학적 연구 등 다양한 분야에서 핵심적인 역량으로 자리 잡았습니다.\n",
    ">\n",
    "> **Pandas**는 파이썬에서 시계열 데이터를 다루는 데 가장 강력하고 필수적인 라이브러리입니다. 날짜/시간 데이터를 쉽게 생성, 조작, 분석할 수 있는 풍부한 기능을 제공하여 시계열 분석의 전 과정을 효율적으로 만듭니다.\n",
    "\n",
    "### 💭 이 파트에서 배울 것\n",
    "\n",
    "> - Pandas를 사용하여 날짜 및 시간 데이터를 생성하고 변환하는 방법\n",
    "> - 시계열 데이터의 주기를 변경하고 집계하는 리샘플링(Resampling)\n",
    "> - 이동 평균(Moving Average)과 같은 이동창(Window) 함수 활용법\n",
    "> - 데이터의 시점을 이동시키는 시프트(Shift)와 차분(Diff)\n",
    "> - 실제 데이터를 활용한 미니 프로젝트 실습"
   ]
  },
  {
   "cell_type": "markdown",
   "metadata": {},
   "source": [
    "--- \n",
    "\n",
    "## 2. 시계열 데이터 생성 및 변환\n",
    "\n",
    "### 💡 개념 (Concept)\n",
    "\n",
    "분석을 시작하려면 먼저 데이터를 '시간'의 속성을 가진 객체로 만들어야 합니다. Pandas는 문자열로 된 날짜를 `datetime` 객체로 변환하거나, 특정 기간의 날짜를 생성하는 등 다양한 방법을 제공합니다."
   ]
  },
  {
   "cell_type": "markdown",
   "metadata": {},
   "source": [
    "### `pd.to_datetime`: 문자열을 날짜 객체로\n",
    "> 텍스트 파일이나 데이터베이스에서 가져온 날짜 데이터는 종종 문자열(object) 타입입니다. `pd.to_datetime` 함수는 이러한 문자열을 Pandas가 인식할 수 있는 `datetime` 객체로 변환하여 시간 기반의 계산과 분석을 가능하게 합니다."
   ]
  },
  {
   "cell_type": "code",
   "execution_count": 11,
   "metadata": {},
   "outputs": [
    {
     "name": "stdout",
     "output_type": "stream",
     "text": [
      "                  date    date_str     value\n",
      "0  2022-01-01 00:00:00  01/01/2022  0.496714\n",
      "1  2022-01-02 00:00:00  01/02/2022 -0.138264\n",
      "2  2022-01-03 00:00:00  01/03/2022  0.647689\n",
      "3  2022-01-04 00:00:00  01/04/2022  1.523030\n",
      "4  2022-01-05 00:00:00  01/05/2022 -0.234153\n"
     ]
    }
   ],
   "source": [
    "import pandas as pd\n",
    "import numpy as np\n",
    "import plotly.express as px\n",
    "\n",
    "import warnings\n",
    "warnings.filterwarnings('ignore')\n",
    "\n",
    "# 예제 데이터프레임 생성\n",
    "date_strings = ['2023-01-01', '2023-01-02', '2023-01-03', '2023-01-04', '2023-01-05']\n",
    "values = [10, 15, 12, 18, 20]\n",
    "df_str = pd.DataFrame({'date_str': date_strings, 'value': values})\n"
   ]
  },
  {
   "cell_type": "code",
   "execution_count": 12,
   "metadata": {},
   "outputs": [
    {
     "name": "stdout",
     "output_type": "stream",
     "text": [
      "--- 변환 전 --- \n",
      "<class 'pandas.core.frame.DataFrame'>\n",
      "RangeIndex: 5 entries, 0 to 4\n",
      "Data columns (total 3 columns):\n",
      " #   Column    Non-Null Count  Dtype         \n",
      "---  ------    --------------  -----         \n",
      " 0   date_str  5 non-null      object        \n",
      " 1   value     5 non-null      int64         \n",
      " 2   date      5 non-null      datetime64[ns]\n",
      "dtypes: datetime64[ns](1), int64(1), object(1)\n",
      "memory usage: 252.0+ bytes\n",
      "None\n",
      "--- 변환 후 ---\n",
      "<class 'pandas.core.frame.DataFrame'>\n",
      "RangeIndex: 5 entries, 0 to 4\n",
      "Data columns (total 3 columns):\n",
      " #   Column    Non-Null Count  Dtype         \n",
      "---  ------    --------------  -----         \n",
      " 0   date_str  5 non-null      object        \n",
      " 1   value     5 non-null      int64         \n",
      " 2   date      5 non-null      datetime64[ns]\n",
      "dtypes: datetime64[ns](1), int64(1), object(1)\n",
      "memory usage: 252.0+ bytes\n",
      "None\n"
     ]
    },
    {
     "data": {
      "text/html": [
       "<div>\n",
       "<style scoped>\n",
       "    .dataframe tbody tr th:only-of-type {\n",
       "        vertical-align: middle;\n",
       "    }\n",
       "\n",
       "    .dataframe tbody tr th {\n",
       "        vertical-align: top;\n",
       "    }\n",
       "\n",
       "    .dataframe thead th {\n",
       "        text-align: right;\n",
       "    }\n",
       "</style>\n",
       "<table border=\"1\" class=\"dataframe\">\n",
       "  <thead>\n",
       "    <tr style=\"text-align: right;\">\n",
       "      <th></th>\n",
       "      <th>date_str</th>\n",
       "      <th>value</th>\n",
       "      <th>date</th>\n",
       "    </tr>\n",
       "  </thead>\n",
       "  <tbody>\n",
       "    <tr>\n",
       "      <th>0</th>\n",
       "      <td>2023-01-01</td>\n",
       "      <td>10</td>\n",
       "      <td>2023-01-01</td>\n",
       "    </tr>\n",
       "    <tr>\n",
       "      <th>1</th>\n",
       "      <td>2023-01-02</td>\n",
       "      <td>15</td>\n",
       "      <td>2023-01-02</td>\n",
       "    </tr>\n",
       "    <tr>\n",
       "      <th>2</th>\n",
       "      <td>2023-01-03</td>\n",
       "      <td>12</td>\n",
       "      <td>2023-01-03</td>\n",
       "    </tr>\n",
       "    <tr>\n",
       "      <th>3</th>\n",
       "      <td>2023-01-04</td>\n",
       "      <td>18</td>\n",
       "      <td>2023-01-04</td>\n",
       "    </tr>\n",
       "    <tr>\n",
       "      <th>4</th>\n",
       "      <td>2023-01-05</td>\n",
       "      <td>20</td>\n",
       "      <td>2023-01-05</td>\n",
       "    </tr>\n",
       "  </tbody>\n",
       "</table>\n",
       "</div>"
      ],
      "text/plain": [
       "     date_str  value       date\n",
       "0  2023-01-01     10 2023-01-01\n",
       "1  2023-01-02     15 2023-01-02\n",
       "2  2023-01-03     12 2023-01-03\n",
       "3  2023-01-04     18 2023-01-04\n",
       "4  2023-01-05     20 2023-01-05"
      ]
     },
     "execution_count": 12,
     "metadata": {},
     "output_type": "execute_result"
    }
   ],
   "source": [
    "\n",
    "print(\"--- 변환 전 --- \")\n",
    "print(df_str.info())\n",
    "\n",
    "# 'date_str' 컬럼을 datetime 객체로 변환\n",
    "df_str['date'] = pd.to_datetime(df_str['date_str'])\n",
    "\n",
    "print(\"--- 변환 후 ---\")\n",
    "print(df_str.info())\n",
    "\n",
    "df_str.head()"
   ]
  },
  {
   "cell_type": "markdown",
   "metadata": {},
   "source": [
    "### ✏️ 연습 문제 (Practice Problems)\n",
    "\n",
    "1. 다음은 여러 국가의 날짜 형식이 섞여있는 리스트입니다. `pd.to_datetime`을 사용하여 모두 표준 `datetime` 객체로 변환하고, 변환된 데이터의 타입을 확인하세요.\n",
    "   - `date_list = ['07-15-2023', '2023/08/20', '2023.09.25']`"
   ]
  },
  {
   "cell_type": "code",
   "execution_count": null,
   "metadata": {},
   "outputs": [],
   "source": [
    "# 연습 문제 1번 풀이 공간\n",
    "date_list = ['07-15-2023', '2023/08/20', '2023.09.25']\n",
    "datetime_series = pd.to_datetime(date_list)\n",
    "print(datetime_series)\n",
    "print(\"Data Type:\", datetime_series.dtype)"
   ]
  },
  {
   "cell_type": "markdown",
   "metadata": {},
   "source": [
    "### `pd.date_range`: 특정 기간의 날짜 생성\n",
    "> `pd.date_range` 함수를 사용하면 시작일, 종료일, 그리고 빈도(frequency)를 지정하여 손쉽게 날짜/시간 인덱스를 만들 수 있습니다. 이는 데이터가 없는 기간을 채우거나 분석의 기준이 되는 시간을 생성할 때 매우 유용합니다.\n",
    "\n",
    "| freq 코드 | 설명 |\n",
    "|---|---|\n",
    "| 'D' | 일(Day) |\n",
    "| 'W' | 주(Week) |\n",
    "| 'M' | 월말(Month End) |\n",
    "| 'MS'| 월초(Month Start)|\n",
    "| 'Q' | 분기말(Quarter End) |\n",
    "| 'A' | 연말(Year End) |\n",
    "| 'H' | 시(Hour) |\n",
    "| 'T' | 분(Minute) |\n",
    "| 'S' | 초(Second) |"
   ]
  },
  {
   "cell_type": "code",
   "execution_count": null,
   "metadata": {},
   "outputs": [],
   "source": [
    "# 2023년 1월 한 달간의 날짜 인덱스 생성 (빈도: 'D' - 일)\n",
    "dates_2023_jan = pd.date_range(start='2023-01-01', end='2023-01-31', freq='D')\n",
    "print(dates_2023_jan)"
   ]
  },
  {
   "cell_type": "markdown",
   "metadata": {},
   "source": [
    "### ✏️ 연습 문제 (Practice Problems)\n",
    "\n",
    "1. `pd.date_range`를 사용하여 2024년 6월의 모든 평일(월-금) 날짜를 생성해보세요. (`freq` 옵션을 찾아보세요! 힌트: 'Business day')"
   ]
  },
  {
   "cell_type": "code",
   "execution_count": null,
   "metadata": {},
   "outputs": [],
   "source": [
    "# 연습 문제 1번 풀이 공간\n",
    "weekdays_in_june = pd.date_range(start='2024-06-01', end='2024-06-30', freq='B')\n",
    "print(weekdays_in_june)"
   ]
  },
  {
   "cell_type": "markdown",
   "metadata": {},
   "source": [
    "--- \n",
    "\n",
    "## 3. 시계열 데이터 인덱싱과 리샘플링\n",
    "\n",
    "### 💡 개념 (Concept)\n",
    "\n",
    "> 시계열 데이터의 핵심은 '시간'을 기준으로 데이터를 자르고, 변형하고, 집계하는 것입니다. 날짜를 데이터프레임의 인덱스(index)로 설정하면 강력한 시계열 분석 기능을 활용할 수 있습니다. \n",
    "> \n",
    "> **리샘플링(Resampling)** 은 시계열 데이터의 시간 빈도를 변경하는 과정입니다. \n",
    "> \n",
    "> 예를 들어, 일별(daily) 데이터를 주별(weekly)이나 월별(monthly) 데이터로 변환하여 큰 흐름을 보거나(다운샘플링), 분 단위 데이터를 초 단위로 세분화(업샘플링)할 수 있습니다."
   ]
  },
  {
   "cell_type": "markdown",
   "metadata": {},
   "source": [
    "### `set_index`와 `resample`: 시간 단위로 데이터 집계하기\n",
    "> `set_index`로 날짜 컬럼을 인덱스로 지정한 후, `resample()` 메소드를 사용하여 원하는 시간 단위로 데이터를 그룹화하고, `.mean()`, `.sum()`, `.last()` 등과 같은 집계 함수를 적용할 수 있습니다."
   ]
  },
  {
   "cell_type": "code",
   "execution_count": null,
   "metadata": {},
   "outputs": [],
   "source": [
    "# 실습을 위한 예제 데이터 생성\n",
    "date_rng = pd.date_range(start='2023-01-01', periods=100, freq='D')\n",
    "np.random.seed(42)\n",
    "data = np.random.randint(50, 200, size=(100,))\n",
    "ts_df = pd.DataFrame(data, index=date_rng, columns=['sales'])\n",
    "\n",
    "print(\"--- 원본 데이터 (일별 판매량) ---\")\n",
    "print(ts_df.head())\n",
    "\n",
    "# 주별(Weekly) 평균 판매량 계산 (다운샘플링)\n",
    "# 'W'는 주의 마지막 날(일요일)을 기준으로 집계합니다.\n",
    "weekly_mean_sales = ts_df['sales'].resample('W').mean()\n",
    "\n",
    "print(\"--- 주별 평균 판매량 ---\")\n",
    "print(weekly_mean_sales.head())"
   ]
  },
  {
   "cell_type": "code",
   "execution_count": null,
   "metadata": {},
   "outputs": [],
   "source": [
    "# 월별(Monthly) 총 판매량 계산 (다운샘플링)\n",
    "# 'MS'는 월의 시작일(1일)을 기준으로 집계합니다.\n",
    "monthly_sum_sales = ts_df['sales'].resample('MS').sum()\n",
    "\n",
    "print(\"--- 월별 총 판매량 ---\")\n",
    "print(monthly_sum_sales.head())\n",
    "\n",
    "# Plotly를 사용한 시각화\n",
    "fig = px.bar(monthly_sum_sales, \n",
    "             title='월별 총 판매량', \n",
    "             labels={'value':'총 판매량', 'index':'월'})\n",
    "fig.show()"
   ]
  },
  {
   "cell_type": "markdown",
   "metadata": {},
   "source": [
    "### ✏️ 연습 문제 (Practice Problems)\n",
    "\n",
    "1. 위에서 생성한 `ts_df` 데이터를 사용하여, **분기별(Quarterly) 판매량의 최댓값**을 계산하고 출력해보세요. (`freq` 코드는 'Q'를 사용합니다.)"
   ]
  },
  {
   "cell_type": "code",
   "execution_count": null,
   "metadata": {},
   "outputs": [],
   "source": [
    "# 연습 문제 1번 풀이 공간\n",
    "quarterly_max_sales = ts_df['sales'].resample('Q').max()\n",
    "print(quarterly_max_sales)"
   ]
  },
  {
   "cell_type": "markdown",
   "metadata": {},
   "source": [
    "--- \n",
    "\n",
    "## 4. 이동창 함수 (Window Functions)\n",
    "\n",
    "### 💡 개념 (Concept)\n",
    "\n",
    "> 시계열 데이터의 노이즈(noise)를 줄이고 장기적인 추세를 파악하기 위해 **이동창(Window)** 함수를 사용합니다. 이는 일정 크기의 창(window)을 데이터 위에서 한 칸씩 이동시키면서 창 내부의 데이터로 통계를 계산하는 방식입니다.\n",
    "> \n",
    "> - **`rolling()`**: 고정된 크기의 창을 사용합니다. 예를 들어 '7일 이동 평균'은 최근 7일간의 데이터 평균을 계속 계산하여 데이터의 단기 변동성을 완화하고 추세를 부드럽게 보여줍니다.\n",
    "> - **`expanding()`**: 창의 크기가 데이터가 추가될수록 계속 커집니다. 시작점부터 현재 지점까지의 모든 데이터를 사용하여 누적 합계, 누적 평균 등을 계산할 때 사용됩니다."
   ]
  },
  {
   "cell_type": "markdown",
   "metadata": {},
   "source": [
    "### `rolling`: 이동 평균으로 추세 파악하기\n",
    "> `rolling(window=크기)`으로 이동창 객체를 만들고, `.mean()`, `.std()` 등 집계 함수를 적용합니다. `window`는 계산에 포함할 데이터의 개수를 의미합니다."
   ]
  },
  {
   "cell_type": "code",
   "execution_count": null,
   "metadata": {},
   "outputs": [],
   "source": [
    "# 위에서 사용한 ts_df 데이터를 계속 사용합니다.\n",
    "\n",
    "# 7일 이동 평균 계산\n",
    "ts_df['sales_MA_7'] = ts_df['sales'].rolling(window=7).mean()\n",
    "\n",
    "# 30일 이동 평균 계산\n",
    "ts_df['sales_MA_30'] = ts_df['sales'].rolling(window=30).mean()\n",
    "\n",
    "print(ts_df.head(10)) # 처음 6개는 NaN값이 나옵니다.\n",
    "\n",
    "# Plotly를 사용하여 원본 데이터와 이동 평균선 시각화\n",
    "fig = px.line(ts_df, y=['sales', 'sales_MA_7', 'sales_MA_30'], title='일별 판매량과 이동 평균')\n",
    "fig.show()"
   ]
  },
  {
   "cell_type": "markdown",
   "metadata": {},
   "source": [
    "### `rolling.apply`:\n",
    " > `rolling(window=크기)`로 이동창 객체를 만든 뒤, `.apply(사용자정의함수)`를 사용하면 창(window) 내의 데이터에 대해 직접 정의한 함수를 적용할 수 있습니다.\n",
    " > 예를 들어, 이동창 내에서 중앙값, 최댓값, 또는 복잡한 계산을 하고 싶을 때 활용합니다.\n"
   ]
  },
  {
   "cell_type": "code",
   "execution_count": null,
   "metadata": {},
   "outputs": [],
   "source": [
    "ts_df['sales_Median_7'] = ts_df['sales'].rolling(window=7).apply(np.median)"
   ]
  },
  {
   "cell_type": "markdown",
   "metadata": {},
   "source": [
    "### ✏️ 연습 문제 (Practice Problems)\n",
    "\n",
    "1. `ts_df` 데이터의 'sales' 컬럼에 대해 **14일 이동 표준편차**를 계산하여 `sales_MV_14` 라는 새 컬럼에 저장하고, 상위 20개 행을 출력해보세요. (이동 표준편차는 주가의 변동성을 분석하는 등 데이터의 안정성을 볼 때 사용됩니다.)"
   ]
  },
  {
   "cell_type": "code",
   "execution_count": null,
   "metadata": {},
   "outputs": [],
   "source": [
    "# 연습 문제 1번 풀이 공간\n",
    "ts_df['sales_MV_14'] = ts_df['sales'].rolling(window=14).std()\n",
    "print(ts_df.head(20))"
   ]
  },
  {
   "cell_type": "markdown",
   "metadata": {},
   "source": [
    "--- \n",
    "\n",
    "## 5. 데이터 시프트와 차분\n",
    "\n",
    "### 💡 개념 (Concept)\n",
    "\n",
    "> 시계열 분석에서는 현재 시점의 데이터를 과거의 데이터와 비교하는 작업이 매우 흔합니다.\n",
    "> \n",
    "> - **`shift()`**: 데이터의 인덱스는 그대로 둔 채, 값만 특정 기간만큼 뒤로(또는 앞으로) 밀어냅니다. 어제 데이터와 오늘 데이터를 나란히 놓고 비교하거나, 시계열 예측 모델의 피처(feature)를 만들 때 사용됩니다.\n",
    "> - **`diff()`**: 현재 시점의 데이터에서 바로 이전 시점의 데이터를 뺀 값(차분)을 계산합니다. 데이터의 추세(trend)를 제거하고 정상성(stationarity)을 가진 데이터로 변환하기 위해 사용되며, 변화량 자체를 분석할 때 유용합니다."
   ]
  },
  {
   "cell_type": "code",
   "execution_count": null,
   "metadata": {},
   "outputs": [],
   "source": [
    "# shift() 예제\n",
    "# 'sales'를 한 칸 뒤로 밀어 'yesterday_sales' 컬럼 생성\n",
    "ts_df['yesterday_sales'] = ts_df['sales'].shift(1)\n",
    "\n",
    "# diff() 예제\n",
    "# 어제 대비 오늘의 판매량 변화 계산\n",
    "ts_df['sales_diff'] = ts_df['sales'].diff(1)\n",
    "\n",
    "print(ts_df[['sales', 'yesterday_sales', 'sales_diff']].head())\n",
    "\n",
    "# 일별 판매량 변화량 시각화\n",
    "fig = px.bar(ts_df, y='sales_diff', title='전일 대비 판매량 변화')\n",
    "fig.show()"
   ]
  },
  {
   "cell_type": "markdown",
   "metadata": {},
   "source": [
    "### ✏️ 연습 문제 (Practice Problems)\n",
    "\n",
    "1. `ts_df` 데이터에서 **전일 대비 판매량 증감률(%)**을 계산하여 `sales_growth_rate` 컬럼에 저장하고, 상위 5개 행을 출력하세요. \n",
    "   (공식: `(오늘 판매량 - 어제 판매량) / 어제 판매량 * 100`)"
   ]
  },
  {
   "cell_type": "code",
   "execution_count": null,
   "metadata": {},
   "outputs": [],
   "source": [
    "# 연습 문제 1번 풀이 공간\n",
    "ts_df['sales_growth_rate'] = (ts_df['sales'].diff(1) / ts_df['sales'].shift(1)) * 100\n",
    "# 또는\n",
    "# ts_df['sales_growth_rate'] = ts_df['sales'].pct_change() * 100\n",
    "\n",
    "print(ts_df[['sales', 'sales_growth_rate']].head())"
   ]
  },
  {
   "cell_type": "markdown",
   "metadata": {},
   "source": [
    "## 6. 기타 시계열 분석 지원 함수"
   ]
  },
  {
   "cell_type": "markdown",
   "metadata": {},
   "source": [
    "샘플데이터셋 생성"
   ]
  },
  {
   "cell_type": "code",
   "execution_count": 14,
   "metadata": {},
   "outputs": [
    {
     "name": "stdout",
     "output_type": "stream",
     "text": [
      "                  date    date_str     value\n",
      "0  2022-01-01 00:00:00  01/01/2022  0.496714\n",
      "1  2022-01-02 00:00:00  01/02/2022 -0.138264\n",
      "2  2022-01-03 00:00:00  01/03/2022  0.647689\n",
      "3  2022-01-04 00:00:00  01/04/2022  1.523030\n",
      "4  2022-01-05 00:00:00  01/05/2022 -0.234153\n"
     ]
    }
   ],
   "source": [
    "# 날짜 범위 생성\n",
    "date_rng = pd.date_range(start='2022-01-01', end='2022-12-31', freq='D')\n",
    "\n",
    "# 날짜 문열 범위 생성\n",
    "date_str = date_rng.strftime('%m/%d/%Y').tolist()\n",
    "\n",
    "# 예시 데이터 생성\n",
    "np.random.seed(42)  # 재현성을 위해 시드 설정\n",
    "data = np.random.randn(len(date_rng))  # 랜덤 데이터 생성\n",
    "\n",
    "# 데이터프레임 생성\n",
    "df = pd.DataFrame([date_rng, date_str], index=['date', 'date_str']).T\n",
    "df['value'] = data\n",
    "\n",
    "# 데이터프레임 출력\n",
    "print(df.head())"
   ]
  },
  {
   "cell_type": "markdown",
   "metadata": {},
   "source": [
    "### 1. `timedelta_range`\n",
    "-  일정 간격의 시간 델타 범위를 생성"
   ]
  },
  {
   "cell_type": "code",
   "execution_count": 15,
   "metadata": {},
   "outputs": [
    {
     "data": {
      "text/plain": [
       "TimedeltaIndex(['0 days 00:00:00', '0 days 02:00:00', '0 days 04:00:00',\n",
       "                '0 days 06:00:00', '0 days 08:00:00', '0 days 10:00:00',\n",
       "                '0 days 12:00:00', '0 days 14:00:00', '0 days 16:00:00',\n",
       "                '0 days 18:00:00', '0 days 20:00:00', '0 days 22:00:00',\n",
       "                '1 days 00:00:00', '1 days 02:00:00', '1 days 04:00:00',\n",
       "                '1 days 06:00:00', '1 days 08:00:00', '1 days 10:00:00',\n",
       "                '1 days 12:00:00', '1 days 14:00:00', '1 days 16:00:00',\n",
       "                '1 days 18:00:00', '1 days 20:00:00', '1 days 22:00:00',\n",
       "                '2 days 00:00:00'],\n",
       "               dtype='timedelta64[ns]', freq='2h')"
      ]
     },
     "execution_count": 15,
     "metadata": {},
     "output_type": "execute_result"
    }
   ],
   "source": [
    "timedelta_range = pd.timedelta_range(start='0 days', end='2 days', freq='2h')\n",
    "timedelta_range"
   ]
  },
  {
   "cell_type": "markdown",
   "metadata": {},
   "source": [
    "### 2. `asfreq`\n",
    "-  특정 주기로 시계열 데이터를 반환"
   ]
  },
  {
   "cell_type": "code",
   "execution_count": 16,
   "metadata": {},
   "outputs": [
    {
     "data": {
      "text/html": [
       "<div>\n",
       "<style scoped>\n",
       "    .dataframe tbody tr th:only-of-type {\n",
       "        vertical-align: middle;\n",
       "    }\n",
       "\n",
       "    .dataframe tbody tr th {\n",
       "        vertical-align: top;\n",
       "    }\n",
       "\n",
       "    .dataframe thead th {\n",
       "        text-align: right;\n",
       "    }\n",
       "</style>\n",
       "<table border=\"1\" class=\"dataframe\">\n",
       "  <thead>\n",
       "    <tr style=\"text-align: right;\">\n",
       "      <th></th>\n",
       "      <th>date_str</th>\n",
       "      <th>value</th>\n",
       "    </tr>\n",
       "    <tr>\n",
       "      <th>date</th>\n",
       "      <th></th>\n",
       "      <th></th>\n",
       "    </tr>\n",
       "  </thead>\n",
       "  <tbody>\n",
       "    <tr>\n",
       "      <th>2022-01-02</th>\n",
       "      <td>01/02/2022</td>\n",
       "      <td>-0.138264</td>\n",
       "    </tr>\n",
       "    <tr>\n",
       "      <th>2022-01-09</th>\n",
       "      <td>01/09/2022</td>\n",
       "      <td>-0.469474</td>\n",
       "    </tr>\n",
       "    <tr>\n",
       "      <th>2022-01-16</th>\n",
       "      <td>01/16/2022</td>\n",
       "      <td>-0.562288</td>\n",
       "    </tr>\n",
       "    <tr>\n",
       "      <th>2022-01-23</th>\n",
       "      <td>01/23/2022</td>\n",
       "      <td>0.067528</td>\n",
       "    </tr>\n",
       "    <tr>\n",
       "      <th>2022-01-30</th>\n",
       "      <td>01/30/2022</td>\n",
       "      <td>-0.291694</td>\n",
       "    </tr>\n",
       "    <tr>\n",
       "      <th>2022-02-06</th>\n",
       "      <td>02/06/2022</td>\n",
       "      <td>0.208864</td>\n",
       "    </tr>\n",
       "    <tr>\n",
       "      <th>2022-02-13</th>\n",
       "      <td>02/13/2022</td>\n",
       "      <td>-0.301104</td>\n",
       "    </tr>\n",
       "    <tr>\n",
       "      <th>2022-02-20</th>\n",
       "      <td>02/20/2022</td>\n",
       "      <td>0.324084</td>\n",
       "    </tr>\n",
       "    <tr>\n",
       "      <th>2022-02-27</th>\n",
       "      <td>02/27/2022</td>\n",
       "      <td>-0.309212</td>\n",
       "    </tr>\n",
       "    <tr>\n",
       "      <th>2022-03-06</th>\n",
       "      <td>03/06/2022</td>\n",
       "      <td>0.812526</td>\n",
       "    </tr>\n",
       "  </tbody>\n",
       "</table>\n",
       "</div>"
      ],
      "text/plain": [
       "              date_str     value\n",
       "date                            \n",
       "2022-01-02  01/02/2022 -0.138264\n",
       "2022-01-09  01/09/2022 -0.469474\n",
       "2022-01-16  01/16/2022 -0.562288\n",
       "2022-01-23  01/23/2022  0.067528\n",
       "2022-01-30  01/30/2022 -0.291694\n",
       "2022-02-06  02/06/2022  0.208864\n",
       "2022-02-13  02/13/2022 -0.301104\n",
       "2022-02-20  02/20/2022  0.324084\n",
       "2022-02-27  02/27/2022 -0.309212\n",
       "2022-03-06  03/06/2022  0.812526"
      ]
     },
     "execution_count": 16,
     "metadata": {},
     "output_type": "execute_result"
    }
   ],
   "source": [
    "df.set_index('date').asfreq('W').head(10)"
   ]
  },
  {
   "cell_type": "markdown",
   "metadata": {},
   "source": [
    "### 3. `truncate`\n",
    "-  시계열 데이터의 특정 구간을 잘라오기"
   ]
  },
  {
   "cell_type": "code",
   "execution_count": 21,
   "metadata": {},
   "outputs": [
    {
     "data": {
      "text/html": [
       "<div>\n",
       "<style scoped>\n",
       "    .dataframe tbody tr th:only-of-type {\n",
       "        vertical-align: middle;\n",
       "    }\n",
       "\n",
       "    .dataframe tbody tr th {\n",
       "        vertical-align: top;\n",
       "    }\n",
       "\n",
       "    .dataframe thead th {\n",
       "        text-align: right;\n",
       "    }\n",
       "</style>\n",
       "<table border=\"1\" class=\"dataframe\">\n",
       "  <thead>\n",
       "    <tr style=\"text-align: right;\">\n",
       "      <th></th>\n",
       "      <th>date_str</th>\n",
       "      <th>value</th>\n",
       "    </tr>\n",
       "    <tr>\n",
       "      <th>date</th>\n",
       "      <th></th>\n",
       "      <th></th>\n",
       "    </tr>\n",
       "  </thead>\n",
       "  <tbody>\n",
       "    <tr>\n",
       "      <th>2022-01-05</th>\n",
       "      <td>01/05/2022</td>\n",
       "      <td>-0.234153</td>\n",
       "    </tr>\n",
       "    <tr>\n",
       "      <th>2022-01-06</th>\n",
       "      <td>01/06/2022</td>\n",
       "      <td>-0.234137</td>\n",
       "    </tr>\n",
       "    <tr>\n",
       "      <th>2022-01-07</th>\n",
       "      <td>01/07/2022</td>\n",
       "      <td>1.579213</td>\n",
       "    </tr>\n",
       "    <tr>\n",
       "      <th>2022-01-08</th>\n",
       "      <td>01/08/2022</td>\n",
       "      <td>0.767435</td>\n",
       "    </tr>\n",
       "    <tr>\n",
       "      <th>2022-01-09</th>\n",
       "      <td>01/09/2022</td>\n",
       "      <td>-0.469474</td>\n",
       "    </tr>\n",
       "    <tr>\n",
       "      <th>2022-01-10</th>\n",
       "      <td>01/10/2022</td>\n",
       "      <td>0.542560</td>\n",
       "    </tr>\n",
       "  </tbody>\n",
       "</table>\n",
       "</div>"
      ],
      "text/plain": [
       "              date_str     value\n",
       "date                            \n",
       "2022-01-05  01/05/2022 -0.234153\n",
       "2022-01-06  01/06/2022 -0.234137\n",
       "2022-01-07  01/07/2022  1.579213\n",
       "2022-01-08  01/08/2022  0.767435\n",
       "2022-01-09  01/09/2022 -0.469474\n",
       "2022-01-10  01/10/2022  0.542560"
      ]
     },
     "execution_count": 21,
     "metadata": {},
     "output_type": "execute_result"
    }
   ],
   "source": [
    "sdf = df.set_index('date')\n",
    "cut_df = sdf.truncate(before='2022-01-05', after='2022-01-10')\n",
    "cut_df\n"
   ]
  },
  {
   "cell_type": "markdown",
   "metadata": {},
   "source": [
    "### 10. `period_range`\n",
    "-  특정 기간의 범위를 생성"
   ]
  },
  {
   "cell_type": "code",
   "execution_count": 22,
   "metadata": {},
   "outputs": [
    {
     "data": {
      "text/html": [
       "<div>\n",
       "<style scoped>\n",
       "    .dataframe tbody tr th:only-of-type {\n",
       "        vertical-align: middle;\n",
       "    }\n",
       "\n",
       "    .dataframe tbody tr th {\n",
       "        vertical-align: top;\n",
       "    }\n",
       "\n",
       "    .dataframe thead th {\n",
       "        text-align: right;\n",
       "    }\n",
       "</style>\n",
       "<table border=\"1\" class=\"dataframe\">\n",
       "  <thead>\n",
       "    <tr style=\"text-align: right;\">\n",
       "      <th></th>\n",
       "      <th>sales</th>\n",
       "    </tr>\n",
       "    <tr>\n",
       "      <th>period</th>\n",
       "      <th></th>\n",
       "    </tr>\n",
       "  </thead>\n",
       "  <tbody>\n",
       "    <tr>\n",
       "      <th>2020-01</th>\n",
       "      <td>1500</td>\n",
       "    </tr>\n",
       "    <tr>\n",
       "      <th>2020-02</th>\n",
       "      <td>1600</td>\n",
       "    </tr>\n",
       "    <tr>\n",
       "      <th>2020-03</th>\n",
       "      <td>1700</td>\n",
       "    </tr>\n",
       "    <tr>\n",
       "      <th>2020-04</th>\n",
       "      <td>1800</td>\n",
       "    </tr>\n",
       "    <tr>\n",
       "      <th>2020-05</th>\n",
       "      <td>1900</td>\n",
       "    </tr>\n",
       "    <tr>\n",
       "      <th>2020-06</th>\n",
       "      <td>2000</td>\n",
       "    </tr>\n",
       "    <tr>\n",
       "      <th>2020-07</th>\n",
       "      <td>2100</td>\n",
       "    </tr>\n",
       "    <tr>\n",
       "      <th>2020-08</th>\n",
       "      <td>2200</td>\n",
       "    </tr>\n",
       "    <tr>\n",
       "      <th>2020-09</th>\n",
       "      <td>2300</td>\n",
       "    </tr>\n",
       "    <tr>\n",
       "      <th>2020-10</th>\n",
       "      <td>2400</td>\n",
       "    </tr>\n",
       "    <tr>\n",
       "      <th>2020-11</th>\n",
       "      <td>2500</td>\n",
       "    </tr>\n",
       "    <tr>\n",
       "      <th>2020-12</th>\n",
       "      <td>2600</td>\n",
       "    </tr>\n",
       "  </tbody>\n",
       "</table>\n",
       "</div>"
      ],
      "text/plain": [
       "         sales\n",
       "period        \n",
       "2020-01   1500\n",
       "2020-02   1600\n",
       "2020-03   1700\n",
       "2020-04   1800\n",
       "2020-05   1900\n",
       "2020-06   2000\n",
       "2020-07   2100\n",
       "2020-08   2200\n",
       "2020-09   2300\n",
       "2020-10   2400\n",
       "2020-11   2500\n",
       "2020-12   2600"
      ]
     },
     "execution_count": 22,
     "metadata": {},
     "output_type": "execute_result"
    }
   ],
   "source": [
    "sales_data = {\n",
    "    'period': pd.period_range(start='2020-01', end='2020-12', freq='M'),\n",
    "    'sales': [1500, 1600, 1700, 1800, 1900, 2000, 2100, 2200, 2300, 2400, 2500, 2600]\n",
    "}\n",
    "sales_df = pd.DataFrame(sales_data)\n",
    "sales_df.set_index('period', inplace=True)\n",
    "sales_df"
   ]
  },
  {
   "cell_type": "markdown",
   "metadata": {},
   "source": [
    "### 11. `dt` 접근자\n",
    "-  datetime 속성에 접근할 수 있게 합니다."
   ]
  },
  {
   "cell_type": "code",
   "execution_count": 24,
   "metadata": {},
   "outputs": [
    {
     "data": {
      "text/html": [
       "<div>\n",
       "<style scoped>\n",
       "    .dataframe tbody tr th:only-of-type {\n",
       "        vertical-align: middle;\n",
       "    }\n",
       "\n",
       "    .dataframe tbody tr th {\n",
       "        vertical-align: top;\n",
       "    }\n",
       "\n",
       "    .dataframe thead th {\n",
       "        text-align: right;\n",
       "    }\n",
       "</style>\n",
       "<table border=\"1\" class=\"dataframe\">\n",
       "  <thead>\n",
       "    <tr style=\"text-align: right;\">\n",
       "      <th></th>\n",
       "      <th>date</th>\n",
       "      <th>year</th>\n",
       "      <th>month</th>\n",
       "      <th>day</th>\n",
       "      <th>weekday</th>\n",
       "    </tr>\n",
       "  </thead>\n",
       "  <tbody>\n",
       "    <tr>\n",
       "      <th>0</th>\n",
       "      <td>2022-01-01</td>\n",
       "      <td>2022</td>\n",
       "      <td>1</td>\n",
       "      <td>1</td>\n",
       "      <td>5</td>\n",
       "    </tr>\n",
       "    <tr>\n",
       "      <th>1</th>\n",
       "      <td>2022-01-02</td>\n",
       "      <td>2022</td>\n",
       "      <td>1</td>\n",
       "      <td>2</td>\n",
       "      <td>6</td>\n",
       "    </tr>\n",
       "    <tr>\n",
       "      <th>2</th>\n",
       "      <td>2022-01-03</td>\n",
       "      <td>2022</td>\n",
       "      <td>1</td>\n",
       "      <td>3</td>\n",
       "      <td>0</td>\n",
       "    </tr>\n",
       "    <tr>\n",
       "      <th>3</th>\n",
       "      <td>2022-01-04</td>\n",
       "      <td>2022</td>\n",
       "      <td>1</td>\n",
       "      <td>4</td>\n",
       "      <td>1</td>\n",
       "    </tr>\n",
       "    <tr>\n",
       "      <th>4</th>\n",
       "      <td>2022-01-05</td>\n",
       "      <td>2022</td>\n",
       "      <td>1</td>\n",
       "      <td>5</td>\n",
       "      <td>2</td>\n",
       "    </tr>\n",
       "    <tr>\n",
       "      <th>5</th>\n",
       "      <td>2022-01-06</td>\n",
       "      <td>2022</td>\n",
       "      <td>1</td>\n",
       "      <td>6</td>\n",
       "      <td>3</td>\n",
       "    </tr>\n",
       "    <tr>\n",
       "      <th>6</th>\n",
       "      <td>2022-01-07</td>\n",
       "      <td>2022</td>\n",
       "      <td>1</td>\n",
       "      <td>7</td>\n",
       "      <td>4</td>\n",
       "    </tr>\n",
       "    <tr>\n",
       "      <th>7</th>\n",
       "      <td>2022-01-08</td>\n",
       "      <td>2022</td>\n",
       "      <td>1</td>\n",
       "      <td>8</td>\n",
       "      <td>5</td>\n",
       "    </tr>\n",
       "    <tr>\n",
       "      <th>8</th>\n",
       "      <td>2022-01-09</td>\n",
       "      <td>2022</td>\n",
       "      <td>1</td>\n",
       "      <td>9</td>\n",
       "      <td>6</td>\n",
       "    </tr>\n",
       "    <tr>\n",
       "      <th>9</th>\n",
       "      <td>2022-01-10</td>\n",
       "      <td>2022</td>\n",
       "      <td>1</td>\n",
       "      <td>10</td>\n",
       "      <td>0</td>\n",
       "    </tr>\n",
       "  </tbody>\n",
       "</table>\n",
       "</div>"
      ],
      "text/plain": [
       "        date  year  month  day  weekday\n",
       "0 2022-01-01  2022      1    1        5\n",
       "1 2022-01-02  2022      1    2        6\n",
       "2 2022-01-03  2022      1    3        0\n",
       "3 2022-01-04  2022      1    4        1\n",
       "4 2022-01-05  2022      1    5        2\n",
       "5 2022-01-06  2022      1    6        3\n",
       "6 2022-01-07  2022      1    7        4\n",
       "7 2022-01-08  2022      1    8        5\n",
       "8 2022-01-09  2022      1    9        6\n",
       "9 2022-01-10  2022      1   10        0"
      ]
     },
     "execution_count": 24,
     "metadata": {},
     "output_type": "execute_result"
    }
   ],
   "source": [
    "sdf = df[['date', 'value']]\n",
    "sdf['date'] = pd.to_datetime(sdf['date'])\n",
    "sdf['year'] = sdf['date'].dt.year\n",
    "sdf['month'] = sdf['date'].dt.month\n",
    "sdf['day'] = sdf['date'].dt.day\n",
    "sdf['weekday'] = sdf['date'].dt.weekday\n",
    "sdf[['date', 'year', 'month', 'day', 'weekday']].head(10)"
   ]
  },
  {
   "cell_type": "markdown",
   "metadata": {},
   "source": [
    "### 12. `TimeGrouper`\n",
    "-  시계열 데이터를 특정 주기로 그룹화"
   ]
  },
  {
   "cell_type": "code",
   "execution_count": 25,
   "metadata": {},
   "outputs": [],
   "source": [
    "sdf = df[['date', 'value']].copy()\n",
    "sdf.date = pd.to_datetime(sdf.date)"
   ]
  },
  {
   "cell_type": "code",
   "execution_count": 26,
   "metadata": {},
   "outputs": [
    {
     "data": {
      "text/html": [
       "<div>\n",
       "<style scoped>\n",
       "    .dataframe tbody tr th:only-of-type {\n",
       "        vertical-align: middle;\n",
       "    }\n",
       "\n",
       "    .dataframe tbody tr th {\n",
       "        vertical-align: top;\n",
       "    }\n",
       "\n",
       "    .dataframe thead th {\n",
       "        text-align: right;\n",
       "    }\n",
       "</style>\n",
       "<table border=\"1\" class=\"dataframe\">\n",
       "  <thead>\n",
       "    <tr style=\"text-align: right;\">\n",
       "      <th></th>\n",
       "      <th>value</th>\n",
       "    </tr>\n",
       "    <tr>\n",
       "      <th>date</th>\n",
       "      <th></th>\n",
       "    </tr>\n",
       "  </thead>\n",
       "  <tbody>\n",
       "    <tr>\n",
       "      <th>2022-01-31</th>\n",
       "      <td>-0.201488</td>\n",
       "    </tr>\n",
       "    <tr>\n",
       "      <th>2022-02-28</th>\n",
       "      <td>-0.143168</td>\n",
       "    </tr>\n",
       "    <tr>\n",
       "      <th>2022-03-31</th>\n",
       "      <td>0.043938</td>\n",
       "    </tr>\n",
       "    <tr>\n",
       "      <th>2022-04-30</th>\n",
       "      <td>-0.020252</td>\n",
       "    </tr>\n",
       "    <tr>\n",
       "      <th>2022-05-31</th>\n",
       "      <td>-0.083815</td>\n",
       "    </tr>\n",
       "    <tr>\n",
       "      <th>2022-06-30</th>\n",
       "      <td>0.291292</td>\n",
       "    </tr>\n",
       "    <tr>\n",
       "      <th>2022-07-31</th>\n",
       "      <td>0.098341</td>\n",
       "    </tr>\n",
       "    <tr>\n",
       "      <th>2022-08-31</th>\n",
       "      <td>-0.021537</td>\n",
       "    </tr>\n",
       "    <tr>\n",
       "      <th>2022-09-30</th>\n",
       "      <td>-0.091070</td>\n",
       "    </tr>\n",
       "    <tr>\n",
       "      <th>2022-10-31</th>\n",
       "      <td>0.064996</td>\n",
       "    </tr>\n",
       "    <tr>\n",
       "      <th>2022-11-30</th>\n",
       "      <td>0.232571</td>\n",
       "    </tr>\n",
       "    <tr>\n",
       "      <th>2022-12-31</th>\n",
       "      <td>-0.053246</td>\n",
       "    </tr>\n",
       "  </tbody>\n",
       "</table>\n",
       "</div>"
      ],
      "text/plain": [
       "               value\n",
       "date                \n",
       "2022-01-31 -0.201488\n",
       "2022-02-28 -0.143168\n",
       "2022-03-31  0.043938\n",
       "2022-04-30 -0.020252\n",
       "2022-05-31 -0.083815\n",
       "2022-06-30  0.291292\n",
       "2022-07-31  0.098341\n",
       "2022-08-31 -0.021537\n",
       "2022-09-30 -0.091070\n",
       "2022-10-31  0.064996\n",
       "2022-11-30  0.232571\n",
       "2022-12-31 -0.053246"
      ]
     },
     "execution_count": 26,
     "metadata": {},
     "output_type": "execute_result"
    }
   ],
   "source": [
    "sdf.groupby(pd.Grouper(key='date', freq='M')).mean()"
   ]
  },
  {
   "cell_type": "markdown",
   "metadata": {},
   "source": [
    "### 13. `merge_asof`\n",
    "-  가장 가까운 시계열 데이터로 병합\n",
    "-  결측치 처리에 유용"
   ]
  },
  {
   "cell_type": "code",
   "execution_count": 27,
   "metadata": {},
   "outputs": [
    {
     "name": "stdout",
     "output_type": "stream",
     "text": [
      "        date  value_left  value_right\n",
      "0 2022-01-01          10          NaN\n",
      "1 2022-01-02          20         15.0\n",
      "2 2022-01-03          30         25.0\n",
      "3 2022-01-04          40         25.0\n"
     ]
    }
   ],
   "source": [
    "left = pd.DataFrame({\n",
    "    'date': pd.to_datetime(['2022-01-01', '2022-01-02', '2022-01-03', '2022-01-04']),\n",
    "    'value_left': [10, 20, 30, 40]\n",
    "})\n",
    "\n",
    "right = pd.DataFrame({\n",
    "    'date': pd.to_datetime(['2022-01-02', '2022-01-03', '2022-01-05']),\n",
    "    'value_right': [15, 25, 35]\n",
    "})\n",
    "\n",
    "merged = pd.merge_asof(left, right, on='date')\n",
    "print(merged)"
   ]
  },
  {
   "cell_type": "markdown",
   "metadata": {},
   "source": [
    "### 14. `expanding`\n",
    "-  누적 계산"
   ]
  },
  {
   "cell_type": "code",
   "execution_count": 28,
   "metadata": {},
   "outputs": [
    {
     "data": {
      "text/html": [
       "<div>\n",
       "<style scoped>\n",
       "    .dataframe tbody tr th:only-of-type {\n",
       "        vertical-align: middle;\n",
       "    }\n",
       "\n",
       "    .dataframe tbody tr th {\n",
       "        vertical-align: top;\n",
       "    }\n",
       "\n",
       "    .dataframe thead th {\n",
       "        text-align: right;\n",
       "    }\n",
       "</style>\n",
       "<table border=\"1\" class=\"dataframe\">\n",
       "  <thead>\n",
       "    <tr style=\"text-align: right;\">\n",
       "      <th></th>\n",
       "      <th>date</th>\n",
       "      <th>value</th>\n",
       "      <th>expanding_sum</th>\n",
       "      <th>expanding_mean</th>\n",
       "    </tr>\n",
       "  </thead>\n",
       "  <tbody>\n",
       "    <tr>\n",
       "      <th>0</th>\n",
       "      <td>2022-01-01 00:00:00</td>\n",
       "      <td>0.496714</td>\n",
       "      <td>0.496714</td>\n",
       "      <td>0.496714</td>\n",
       "    </tr>\n",
       "    <tr>\n",
       "      <th>1</th>\n",
       "      <td>2022-01-02 00:00:00</td>\n",
       "      <td>-0.138264</td>\n",
       "      <td>0.358450</td>\n",
       "      <td>0.179225</td>\n",
       "    </tr>\n",
       "    <tr>\n",
       "      <th>2</th>\n",
       "      <td>2022-01-03 00:00:00</td>\n",
       "      <td>0.647689</td>\n",
       "      <td>1.006138</td>\n",
       "      <td>0.335379</td>\n",
       "    </tr>\n",
       "    <tr>\n",
       "      <th>3</th>\n",
       "      <td>2022-01-04 00:00:00</td>\n",
       "      <td>1.523030</td>\n",
       "      <td>2.529168</td>\n",
       "      <td>0.632292</td>\n",
       "    </tr>\n",
       "    <tr>\n",
       "      <th>4</th>\n",
       "      <td>2022-01-05 00:00:00</td>\n",
       "      <td>-0.234153</td>\n",
       "      <td>2.295015</td>\n",
       "      <td>0.459003</td>\n",
       "    </tr>\n",
       "    <tr>\n",
       "      <th>5</th>\n",
       "      <td>2022-01-06 00:00:00</td>\n",
       "      <td>-0.234137</td>\n",
       "      <td>2.060878</td>\n",
       "      <td>0.343480</td>\n",
       "    </tr>\n",
       "    <tr>\n",
       "      <th>6</th>\n",
       "      <td>2022-01-07 00:00:00</td>\n",
       "      <td>1.579213</td>\n",
       "      <td>3.640091</td>\n",
       "      <td>0.520013</td>\n",
       "    </tr>\n",
       "    <tr>\n",
       "      <th>7</th>\n",
       "      <td>2022-01-08 00:00:00</td>\n",
       "      <td>0.767435</td>\n",
       "      <td>4.407525</td>\n",
       "      <td>0.550941</td>\n",
       "    </tr>\n",
       "    <tr>\n",
       "      <th>8</th>\n",
       "      <td>2022-01-09 00:00:00</td>\n",
       "      <td>-0.469474</td>\n",
       "      <td>3.938051</td>\n",
       "      <td>0.437561</td>\n",
       "    </tr>\n",
       "    <tr>\n",
       "      <th>9</th>\n",
       "      <td>2022-01-10 00:00:00</td>\n",
       "      <td>0.542560</td>\n",
       "      <td>4.480611</td>\n",
       "      <td>0.448061</td>\n",
       "    </tr>\n",
       "  </tbody>\n",
       "</table>\n",
       "</div>"
      ],
      "text/plain": [
       "                  date     value  expanding_sum  expanding_mean\n",
       "0  2022-01-01 00:00:00  0.496714       0.496714        0.496714\n",
       "1  2022-01-02 00:00:00 -0.138264       0.358450        0.179225\n",
       "2  2022-01-03 00:00:00  0.647689       1.006138        0.335379\n",
       "3  2022-01-04 00:00:00  1.523030       2.529168        0.632292\n",
       "4  2022-01-05 00:00:00 -0.234153       2.295015        0.459003\n",
       "5  2022-01-06 00:00:00 -0.234137       2.060878        0.343480\n",
       "6  2022-01-07 00:00:00  1.579213       3.640091        0.520013\n",
       "7  2022-01-08 00:00:00  0.767435       4.407525        0.550941\n",
       "8  2022-01-09 00:00:00 -0.469474       3.938051        0.437561\n",
       "9  2022-01-10 00:00:00  0.542560       4.480611        0.448061"
      ]
     },
     "execution_count": 28,
     "metadata": {},
     "output_type": "execute_result"
    }
   ],
   "source": [
    "df['expanding_sum'] = df['value'].expanding().sum()\n",
    "df['expanding_mean'] = df['value'].expanding().mean()\n",
    "df[['date', 'value', 'expanding_sum', 'expanding_mean']].head(10)"
   ]
  },
  {
   "cell_type": "markdown",
   "metadata": {},
   "source": [
    "### 15. `cumsum`\n",
    "-  누적 합계를 계산"
   ]
  },
  {
   "cell_type": "code",
   "execution_count": 29,
   "metadata": {},
   "outputs": [
    {
     "data": {
      "text/html": [
       "<div>\n",
       "<style scoped>\n",
       "    .dataframe tbody tr th:only-of-type {\n",
       "        vertical-align: middle;\n",
       "    }\n",
       "\n",
       "    .dataframe tbody tr th {\n",
       "        vertical-align: top;\n",
       "    }\n",
       "\n",
       "    .dataframe thead th {\n",
       "        text-align: right;\n",
       "    }\n",
       "</style>\n",
       "<table border=\"1\" class=\"dataframe\">\n",
       "  <thead>\n",
       "    <tr style=\"text-align: right;\">\n",
       "      <th></th>\n",
       "      <th>date</th>\n",
       "      <th>value</th>\n",
       "      <th>cumsum</th>\n",
       "    </tr>\n",
       "  </thead>\n",
       "  <tbody>\n",
       "    <tr>\n",
       "      <th>0</th>\n",
       "      <td>2022-01-01 00:00:00</td>\n",
       "      <td>0.496714</td>\n",
       "      <td>0.496714</td>\n",
       "    </tr>\n",
       "    <tr>\n",
       "      <th>1</th>\n",
       "      <td>2022-01-02 00:00:00</td>\n",
       "      <td>-0.138264</td>\n",
       "      <td>0.358450</td>\n",
       "    </tr>\n",
       "    <tr>\n",
       "      <th>2</th>\n",
       "      <td>2022-01-03 00:00:00</td>\n",
       "      <td>0.647689</td>\n",
       "      <td>1.006138</td>\n",
       "    </tr>\n",
       "    <tr>\n",
       "      <th>3</th>\n",
       "      <td>2022-01-04 00:00:00</td>\n",
       "      <td>1.523030</td>\n",
       "      <td>2.529168</td>\n",
       "    </tr>\n",
       "    <tr>\n",
       "      <th>4</th>\n",
       "      <td>2022-01-05 00:00:00</td>\n",
       "      <td>-0.234153</td>\n",
       "      <td>2.295015</td>\n",
       "    </tr>\n",
       "    <tr>\n",
       "      <th>5</th>\n",
       "      <td>2022-01-06 00:00:00</td>\n",
       "      <td>-0.234137</td>\n",
       "      <td>2.060878</td>\n",
       "    </tr>\n",
       "    <tr>\n",
       "      <th>6</th>\n",
       "      <td>2022-01-07 00:00:00</td>\n",
       "      <td>1.579213</td>\n",
       "      <td>3.640091</td>\n",
       "    </tr>\n",
       "    <tr>\n",
       "      <th>7</th>\n",
       "      <td>2022-01-08 00:00:00</td>\n",
       "      <td>0.767435</td>\n",
       "      <td>4.407525</td>\n",
       "    </tr>\n",
       "    <tr>\n",
       "      <th>8</th>\n",
       "      <td>2022-01-09 00:00:00</td>\n",
       "      <td>-0.469474</td>\n",
       "      <td>3.938051</td>\n",
       "    </tr>\n",
       "    <tr>\n",
       "      <th>9</th>\n",
       "      <td>2022-01-10 00:00:00</td>\n",
       "      <td>0.542560</td>\n",
       "      <td>4.480611</td>\n",
       "    </tr>\n",
       "  </tbody>\n",
       "</table>\n",
       "</div>"
      ],
      "text/plain": [
       "                  date     value    cumsum\n",
       "0  2022-01-01 00:00:00  0.496714  0.496714\n",
       "1  2022-01-02 00:00:00 -0.138264  0.358450\n",
       "2  2022-01-03 00:00:00  0.647689  1.006138\n",
       "3  2022-01-04 00:00:00  1.523030  2.529168\n",
       "4  2022-01-05 00:00:00 -0.234153  2.295015\n",
       "5  2022-01-06 00:00:00 -0.234137  2.060878\n",
       "6  2022-01-07 00:00:00  1.579213  3.640091\n",
       "7  2022-01-08 00:00:00  0.767435  4.407525\n",
       "8  2022-01-09 00:00:00 -0.469474  3.938051\n",
       "9  2022-01-10 00:00:00  0.542560  4.480611"
      ]
     },
     "execution_count": 29,
     "metadata": {},
     "output_type": "execute_result"
    }
   ],
   "source": [
    "df['cumsum'] = df['value'].cumsum()\n",
    "df[['date', 'value', 'cumsum']].head(10)"
   ]
  },
  {
   "cell_type": "markdown",
   "metadata": {},
   "source": [
    "### 16. `pct_change`\n",
    "- 이전 값 대비 현재 값의 변화율을 계산합니다.\n",
    "- 주로 금융 데이터에서 수익률 계산 등에 사용됩니다.\n"
   ]
  },
  {
   "cell_type": "code",
   "execution_count": 44,
   "metadata": {},
   "outputs": [
    {
     "data": {
      "text/html": [
       "<div>\n",
       "<style scoped>\n",
       "    .dataframe tbody tr th:only-of-type {\n",
       "        vertical-align: middle;\n",
       "    }\n",
       "\n",
       "    .dataframe tbody tr th {\n",
       "        vertical-align: top;\n",
       "    }\n",
       "\n",
       "    .dataframe thead th {\n",
       "        text-align: right;\n",
       "    }\n",
       "</style>\n",
       "<table border=\"1\" class=\"dataframe\">\n",
       "  <thead>\n",
       "    <tr style=\"text-align: right;\">\n",
       "      <th></th>\n",
       "      <th>date</th>\n",
       "      <th>value</th>\n",
       "      <th>pct_change</th>\n",
       "    </tr>\n",
       "  </thead>\n",
       "  <tbody>\n",
       "    <tr>\n",
       "      <th>0</th>\n",
       "      <td>2022-01-01 00:00:00</td>\n",
       "      <td>0.496714</td>\n",
       "      <td>NaN</td>\n",
       "    </tr>\n",
       "    <tr>\n",
       "      <th>1</th>\n",
       "      <td>2022-01-02 00:00:00</td>\n",
       "      <td>-0.138264</td>\n",
       "      <td>-1.278358</td>\n",
       "    </tr>\n",
       "    <tr>\n",
       "      <th>2</th>\n",
       "      <td>2022-01-03 00:00:00</td>\n",
       "      <td>0.647689</td>\n",
       "      <td>-5.684423</td>\n",
       "    </tr>\n",
       "    <tr>\n",
       "      <th>3</th>\n",
       "      <td>2022-01-04 00:00:00</td>\n",
       "      <td>1.523030</td>\n",
       "      <td>1.351485</td>\n",
       "    </tr>\n",
       "    <tr>\n",
       "      <th>4</th>\n",
       "      <td>2022-01-05 00:00:00</td>\n",
       "      <td>-0.234153</td>\n",
       "      <td>-1.153742</td>\n",
       "    </tr>\n",
       "    <tr>\n",
       "      <th>5</th>\n",
       "      <td>2022-01-06 00:00:00</td>\n",
       "      <td>-0.234137</td>\n",
       "      <td>-0.000070</td>\n",
       "    </tr>\n",
       "    <tr>\n",
       "      <th>6</th>\n",
       "      <td>2022-01-07 00:00:00</td>\n",
       "      <td>1.579213</td>\n",
       "      <td>-7.744825</td>\n",
       "    </tr>\n",
       "    <tr>\n",
       "      <th>7</th>\n",
       "      <td>2022-01-08 00:00:00</td>\n",
       "      <td>0.767435</td>\n",
       "      <td>-0.514040</td>\n",
       "    </tr>\n",
       "    <tr>\n",
       "      <th>8</th>\n",
       "      <td>2022-01-09 00:00:00</td>\n",
       "      <td>-0.469474</td>\n",
       "      <td>-1.611745</td>\n",
       "    </tr>\n",
       "    <tr>\n",
       "      <th>9</th>\n",
       "      <td>2022-01-10 00:00:00</td>\n",
       "      <td>0.542560</td>\n",
       "      <td>-2.155675</td>\n",
       "    </tr>\n",
       "  </tbody>\n",
       "</table>\n",
       "</div>"
      ],
      "text/plain": [
       "                  date     value  pct_change\n",
       "0  2022-01-01 00:00:00  0.496714         NaN\n",
       "1  2022-01-02 00:00:00 -0.138264   -1.278358\n",
       "2  2022-01-03 00:00:00  0.647689   -5.684423\n",
       "3  2022-01-04 00:00:00  1.523030    1.351485\n",
       "4  2022-01-05 00:00:00 -0.234153   -1.153742\n",
       "5  2022-01-06 00:00:00 -0.234137   -0.000070\n",
       "6  2022-01-07 00:00:00  1.579213   -7.744825\n",
       "7  2022-01-08 00:00:00  0.767435   -0.514040\n",
       "8  2022-01-09 00:00:00 -0.469474   -1.611745\n",
       "9  2022-01-10 00:00:00  0.542560   -2.155675"
      ]
     },
     "execution_count": 44,
     "metadata": {},
     "output_type": "execute_result"
    }
   ],
   "source": [
    "df['pct_change'] = df['value'].pct_change()\n",
    "df[['date', 'value', 'pct_change']].head(10)"
   ]
  },
  {
   "cell_type": "markdown",
   "metadata": {},
   "source": [
    "### 16. `ewm`\n",
    " -  지수 가중 이동 평균(Exponential Weighted Moving Average, EWMA) 계산\n",
    "\n",
    " -  최근 데이터에 더 큰 가중치를 부여하여 평균을 계산하는 방법"
   ]
  },
  {
   "cell_type": "code",
   "execution_count": 30,
   "metadata": {},
   "outputs": [
    {
     "data": {
      "text/html": [
       "<div>\n",
       "<style scoped>\n",
       "    .dataframe tbody tr th:only-of-type {\n",
       "        vertical-align: middle;\n",
       "    }\n",
       "\n",
       "    .dataframe tbody tr th {\n",
       "        vertical-align: top;\n",
       "    }\n",
       "\n",
       "    .dataframe thead th {\n",
       "        text-align: right;\n",
       "    }\n",
       "</style>\n",
       "<table border=\"1\" class=\"dataframe\">\n",
       "  <thead>\n",
       "    <tr style=\"text-align: right;\">\n",
       "      <th></th>\n",
       "      <th>date</th>\n",
       "      <th>value</th>\n",
       "      <th>ewm</th>\n",
       "    </tr>\n",
       "  </thead>\n",
       "  <tbody>\n",
       "    <tr>\n",
       "      <th>0</th>\n",
       "      <td>2022-01-01 00:00:00</td>\n",
       "      <td>0.496714</td>\n",
       "      <td>0.496714</td>\n",
       "    </tr>\n",
       "    <tr>\n",
       "      <th>1</th>\n",
       "      <td>2022-01-02 00:00:00</td>\n",
       "      <td>-0.138264</td>\n",
       "      <td>0.133869</td>\n",
       "    </tr>\n",
       "    <tr>\n",
       "      <th>2</th>\n",
       "      <td>2022-01-03 00:00:00</td>\n",
       "      <td>0.647689</td>\n",
       "      <td>0.356061</td>\n",
       "    </tr>\n",
       "    <tr>\n",
       "      <th>3</th>\n",
       "      <td>2022-01-04 00:00:00</td>\n",
       "      <td>1.523030</td>\n",
       "      <td>0.782838</td>\n",
       "    </tr>\n",
       "    <tr>\n",
       "      <th>4</th>\n",
       "      <td>2022-01-05 00:00:00</td>\n",
       "      <td>-0.234153</td>\n",
       "      <td>0.449484</td>\n",
       "    </tr>\n",
       "    <tr>\n",
       "      <th>5</th>\n",
       "      <td>2022-01-06 00:00:00</td>\n",
       "      <td>-0.234137</td>\n",
       "      <td>0.241575</td>\n",
       "    </tr>\n",
       "    <tr>\n",
       "      <th>6</th>\n",
       "      <td>2022-01-07 00:00:00</td>\n",
       "      <td>1.579213</td>\n",
       "      <td>0.627499</td>\n",
       "    </tr>\n",
       "    <tr>\n",
       "      <th>7</th>\n",
       "      <td>2022-01-08 00:00:00</td>\n",
       "      <td>0.767435</td>\n",
       "      <td>0.666375</td>\n",
       "    </tr>\n",
       "    <tr>\n",
       "      <th>8</th>\n",
       "      <td>2022-01-09 00:00:00</td>\n",
       "      <td>-0.469474</td>\n",
       "      <td>0.359361</td>\n",
       "    </tr>\n",
       "    <tr>\n",
       "      <th>9</th>\n",
       "      <td>2022-01-10 00:00:00</td>\n",
       "      <td>0.542560</td>\n",
       "      <td>0.407894</td>\n",
       "    </tr>\n",
       "  </tbody>\n",
       "</table>\n",
       "</div>"
      ],
      "text/plain": [
       "                  date     value       ewm\n",
       "0  2022-01-01 00:00:00  0.496714  0.496714\n",
       "1  2022-01-02 00:00:00 -0.138264  0.133869\n",
       "2  2022-01-03 00:00:00  0.647689  0.356061\n",
       "3  2022-01-04 00:00:00  1.523030  0.782838\n",
       "4  2022-01-05 00:00:00 -0.234153  0.449484\n",
       "5  2022-01-06 00:00:00 -0.234137  0.241575\n",
       "6  2022-01-07 00:00:00  1.579213  0.627499\n",
       "7  2022-01-08 00:00:00  0.767435  0.666375\n",
       "8  2022-01-09 00:00:00 -0.469474  0.359361\n",
       "9  2022-01-10 00:00:00  0.542560  0.407894"
      ]
     },
     "execution_count": 30,
     "metadata": {},
     "output_type": "execute_result"
    }
   ],
   "source": [
    "df['ewm'] = df['value'].ewm(span=7).mean()\n",
    "df[['date', 'value', 'ewm']].head(10)"
   ]
  },
  {
   "cell_type": "markdown",
   "metadata": {},
   "source": [
    "## ✏️ 연습 문제 (Practice Problems)\n",
    "\n",
    "### 문제 1: 데이터 자르기 (`truncate`)\n",
    "`df` 데이터프레임에서 '2022-03-01'부터 '2022-03-15'까지의 데이터를 잘라내어 `truncated_df`에 저장하고 출력하세요.\n"
   ]
  },
  {
   "cell_type": "code",
   "execution_count": 1,
   "metadata": {},
   "outputs": [],
   "source": [
    "# 문제 1 작성공간\n"
   ]
  },
  {
   "cell_type": "markdown",
   "metadata": {},
   "source": [
    "### 문제 2: 날짜/시간 속성 추출 (`dt` 접근자)\n",
    "`sdf` 데이터프레임의 `date` 컬럼에서 요일 이름(예: '월요일', '화요일')을 추출하여 `day_name`이라는 새 컬럼으로 추가하고, 상위 10개 행을 출력하세요."
   ]
  },
  {
   "cell_type": "code",
   "execution_count": 2,
   "metadata": {},
   "outputs": [],
   "source": [
    "# 문제 2 풀이\n"
   ]
  },
  {
   "cell_type": "markdown",
   "metadata": {},
   "source": [
    "### 문제 3: 시계열 데이터 그룹화 (`TimeGrouper`)\n",
    "`sdf` 데이터프레임의 `value` 컬럼을 주(Week) 단위로 그룹화하여 각 주의 평균 `value`를 계산하고 출력하세요."
   ]
  },
  {
   "cell_type": "code",
   "execution_count": 3,
   "metadata": {},
   "outputs": [],
   "source": [
    "# 문제 3 풀이"
   ]
  },
  {
   "cell_type": "markdown",
   "metadata": {},
   "source": [
    "### 문제 4: 누적/이동 계산 (`expanding` 또는 `rolling`)\n",
    "`sdf` 데이터프레임의 `value` 컬럼에 대해 7일 이동 평균(rolling mean)을 계산하여 `rolling_mean_7d` 컬럼으로 추가하고, 상위 10개 행을 출력하세요."
   ]
  },
  {
   "cell_type": "code",
   "execution_count": 4,
   "metadata": {},
   "outputs": [],
   "source": [
    "# 문제 4 풀이\n"
   ]
  },
  {
   "cell_type": "markdown",
   "metadata": {},
   "source": [
    "### 문제 5: 시계열 데이터 병합 (`merge_asof`)\n",
    "다음 두 데이터프레임을 `date` 컬럼을 기준으로 `merge_asof`를 사용하여 병합하고 결과를 출력하세요.\n",
    "`direction='nearest'` 옵션을 사용하여 가장 가까운 날짜로 병합하세요."
   ]
  },
  {
   "cell_type": "code",
   "execution_count": 42,
   "metadata": {},
   "outputs": [],
   "source": [
    "df_a = pd.DataFrame({\n",
    "    'date': pd.to_datetime(['2023-01-01', '2023-01-03', '2023-01-05', '2023-01-07']),\n",
    "    'event_a': ['A1', 'A2', 'A3', 'A4']\n",
    "})\n",
    "\n",
    "df_b = pd.DataFrame({\n",
    "    'date': pd.to_datetime(['2023-01-02', '2023-01-04', '2023-01-06']),\n",
    "    'value_b': [100, 200, 300]\n",
    "})"
   ]
  },
  {
   "cell_type": "code",
   "execution_count": 5,
   "metadata": {},
   "outputs": [],
   "source": [
    "# 문제 5 풀이\n"
   ]
  },
  {
   "cell_type": "markdown",
   "metadata": {},
   "source": [
    "--- \n",
    "\n",
    "## 7. ✏️ 미니 실습 PJT 과제\n",
    "\n",
    "### 가상 주가 데이터 분석\n",
    "\n",
    "**시나리오**: 당신은 데이터 분석가입니다. 한 회사의 약 1년간의 주가 데이터를 받아 분석 리포트를 작성해야 합니다. Pandas 시계열 기능을 활용하여 데이터를 분석하고, 주요 인사이트를 시각화하여 보고하세요.\n",
    "\n",
    "**데이터셋**: 가상의 일별 주가 데이터 (Open, High, Low, Close, Volume)\n",
    "\n",
    "**분석 목표**: \n",
    "1. 월별 평균 종가(Close)를 계산하고 시각화하여 전반적인 주가 추세를 파악합니다.\n",
    "2. 20일 이동 평균선과 60일 이동 평균선을 계산하고, 원본 종가 데이터와 함께 시각화하여 단기 및 중기 추세를 분석합니다.\n",
    "3. 일별 수익률(daily return)을 계산하고, 분포를 히스토그램으로 시각화하여 주가의 변동성을 확인합니다."
   ]
  },
  {
   "cell_type": "code",
   "execution_count": null,
   "metadata": {},
   "outputs": [],
   "source": [
    "# 1. 가상 주가 데이터 생성\n",
    "np.random.seed(101)\n",
    "dates = pd.date_range('2022-01-01', '2022-12-31', freq='B') # Business day\n",
    "price_changes = np.random.randn(len(dates)).cumsum()\n",
    "start_price = 100\n",
    "close_prices = start_price + price_changes\n",
    "\n",
    "stock_df = pd.DataFrame({'Close': close_prices}, index=dates)\n",
    "stock_df['Open'] = stock_df['Close'].shift(1) + np.random.uniform(-2, 2, len(stock_df))\n",
    "stock_df['High'] = stock_df[['Open', 'Close']].max(axis=1) + np.random.uniform(0, 3, len(stock_df))\n",
    "stock_df['Low'] = stock_df[['Open', 'Close']].min(axis=1) - np.random.uniform(0, 3, len(stock_df))\n",
    "stock_df['Volume'] = np.random.randint(100000, 500000, len(stock_df))\n",
    "stock_df = stock_df.dropna()\n",
    "\n",
    "print(\"--- 생성된 주가 데이터 ---\")\n",
    "print(stock_df.head())"
   ]
  },
  {
   "cell_type": "markdown",
   "metadata": {},
   "source": [
    "### **분석 과제 1: 월별 평균 종가 계산 및 시각화**\n",
    "\n",
    "💡 HINT : 월별 평균 종가를 계산하려면 `resample()` 메서드를 사용하여 데이터를 월별로 집계하고, `mean()`을 적용하세요. 시각화는 `plotly.express.line()`을 사용합니다."
   ]
  },
  {
   "cell_type": "code",
   "execution_count": 6,
   "metadata": {},
   "outputs": [],
   "source": [
    "# 월별 평균 종가 계산 (리샘플링)\n"
   ]
  },
  {
   "cell_type": "markdown",
   "metadata": {},
   "source": [
    "### **분석 과제 2: 이동 평균선 계산 및 시각화**\n",
    "💡 HINT : 이동 평균선을 계산하려면 `rolling()` 메서드를 사용하여 이동 평균을 계산하고, `mean()`을 적용하세요. 시각화는 `plotly.express.line()`을 사용합니다.\n"
   ]
  },
  {
   "cell_type": "code",
   "execution_count": 7,
   "metadata": {},
   "outputs": [],
   "source": [
    "# 20일, 60일 이동 평균 계산 (롤링)\n",
    "\n",
    "\n",
    "# 시각화\n"
   ]
  },
  {
   "cell_type": "markdown",
   "metadata": {},
   "source": [
    "### **분석 과제 3: 일별 수익률 계산 및 시각화**\n",
    "💡 HINT : 일별 수익률은 `pct_change()` 메서드를 사용하여 계산하고, 시각화는 `plotly.express.histogram()`을 사용합니다."
   ]
  },
  {
   "cell_type": "code",
   "execution_count": 8,
   "metadata": {},
   "outputs": [],
   "source": [
    "# 일별 수익률(%) 계산 (diff, shift 또는 pct_change)\n",
    "\n",
    "\n",
    "# 수익률 분포 시각화\n"
   ]
  }
 ],
 "metadata": {
  "kernelspec": {
   "display_name": ".venv",
   "language": "python",
   "name": "python3"
  },
  "language_info": {
   "codemirror_mode": {
    "name": "ipython",
    "version": 3
   },
   "file_extension": ".py",
   "mimetype": "text/x-python",
   "name": "python",
   "nbconvert_exporter": "python",
   "pygments_lexer": "ipython3",
   "version": "3.12.9"
  }
 },
 "nbformat": 4,
 "nbformat_minor": 2
}
