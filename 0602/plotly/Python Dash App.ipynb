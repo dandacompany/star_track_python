{
 "cells": [
  {
   "cell_type": "markdown",
   "metadata": {},
   "source": [
    "\n",
    "### 9️⃣ Dash로 인터랙티브 앱 맛보기 (선택 학습) 🌐\n",
    "\n",
    "Plotly 그래프를 만들었다면, 이를 정적인 리포트뿐만 아니라 사용자와 실시간으로 상호작용할 수 있는 웹 애플리케이션으로 확장하고 싶을 수 있습니다. \n",
    "\n",
    "이때 **Dash**가 훌륭한 해결책이 될 수 있습니다. \n",
    "\n",
    "Dash는 Plotly 기반으로 구축된 Python 프레임워크로, 순수 Python만으로 데이터 분석 및 시각화 웹 앱을 만들 수 있게 해줍니다.\n",
    "\n",
    "#### Dash 개요 및 구조\n",
    "\n",
    "  * **구성 요소**:\n",
    "\n",
    "      * **Layout**: 웹 페이지의 구조와 모양을 정의합니다. HTML 태그(Dash HTML Components - `dash.html`)와 Dash Core Components (`dash.dcc` - 드롭다운, 슬라이더, 그래프 등)를 사용하여 구성합니다.\n",
    "      * **Callbacks**: 사용자의 입력(예: 드롭다운 선택, 버튼 클릭)에 따라 앱의 특정 부분(예: 그래프, 텍스트)을 동적으로 업데이트하는 함수입니다. `@app.callback` 데코레이터를 사용합니다.\n",
    "\n",
    "  * **설치**:\n",
    "    (`dash-bootstrap-components`는 부트스트랩 스타일을 쉽게 적용하기 위한 선택적 라이브러리입니다.)"
   ]
  },
  {
   "cell_type": "code",
   "execution_count": null,
   "metadata": {},
   "outputs": [],
   "source": [
    "!pip install dash dash-bootstrap-components jupyter-dash"
   ]
  },
  {
   "cell_type": "markdown",
   "metadata": {},
   "source": [
    "#### Plotly 그래프를 웹 앱으로 만들기\n",
    "\n",
    "Plotly Express나 Graph Objects로 만든 Figure 객체는 Dash의 `dcc.Graph` 컴포넌트의 `figure` 속성에 그대로 전달하여 웹 앱에 표시할 수 있습니다.\n",
    "\n",
    "#### 간단한 콜백 예제\n",
    "\n",
    "아래는 매우 간단한 Dash 앱 예제입니다. 사용자가 드롭다운 메뉴에서 붓꽃(Iris)의 특징(꽃받침 길이, 꽃받침 너비 등)을 선택하면, 해당 특징을 y축으로 하는 산점도를 실시간으로 업데이트하여 보여줍니다."
   ]
  },
  {
   "cell_type": "code",
   "execution_count": 4,
   "metadata": {},
   "outputs": [
    {
     "data": {
      "text/html": [
       "\n",
       "        <iframe\n",
       "            width=\"100%\"\n",
       "            height=\"650\"\n",
       "            src=\"http://127.0.0.1:8050/\"\n",
       "            frameborder=\"0\"\n",
       "            allowfullscreen\n",
       "            \n",
       "        ></iframe>\n",
       "        "
      ],
      "text/plain": [
       "<IPython.lib.display.IFrame at 0x11e9c09e0>"
      ]
     },
     "metadata": {},
     "output_type": "display_data"
    }
   ],
   "source": [
    "# 필요한 라이브러리 임포트\n",
    "import dash\n",
    "from dash import dcc, html\n",
    "from dash.dependencies import Input, Output\n",
    "import plotly.express as px\n",
    "import pandas as pd\n",
    "\n",
    "# Iris 데이터셋 로드\n",
    "iris_df = px.data.iris()\n",
    "\n",
    "# Dash 앱 초기화\n",
    "# JupyterDash를 사용하면 Jupyter Notebook 내에서 앱을 실행할 수 있습니다.\n",
    "# from jupyter_dash import JupyterDash\n",
    "# app = JupyterDash(__name__)\n",
    "app = dash.Dash(__name__)\n",
    "\n",
    "\n",
    "# 앱 레이아웃 정의\n",
    "app.layout = html.Div([\n",
    "    html.H1(\"Iris 데이터셋 시각화 (Dash)\"),\n",
    "\n",
    "    html.Label(\"Y축으로 사용할 특징 선택:\"),\n",
    "    dcc.Dropdown(\n",
    "        id='yaxis-column-dropdown',\n",
    "        options=[{'label': col, 'value': col} for col in iris_df.columns[:-2]], # 마지막 2개 컬럼(species, species_id) 제외\n",
    "        value='sepal_length', # 초기 선택값\n",
    "        clearable=False\n",
    "    ),\n",
    "\n",
    "    dcc.Graph(id='iris-scatter-plot')\n",
    "])\n",
    "\n",
    "# 콜백 정의: 드롭다운 입력에 따라 그래프 업데이트\n",
    "@app.callback(\n",
    "    Output('iris-scatter-plot', 'figure'), # 출력: 그래프 컴포넌트의 figure 속성\n",
    "    [Input('yaxis-column-dropdown', 'value')] # 입력: 드롭다운 컴포넌트의 value 속성\n",
    ")\n",
    "def update_graph(yaxis_column_name):\n",
    "    fig = px.scatter(iris_df,\n",
    "                     x='sepal_width',\n",
    "                     y=yaxis_column_name, # 사용자가 선택한 컬럼을 y축으로\n",
    "                     color='species',\n",
    "                     title=f'Iris: Sepal Width vs {yaxis_column_name}')\n",
    "    return fig\n",
    "\n",
    "# 앱 실행 (일반 Python 스크립트에서 실행 시)\n",
    "# if __name__ == '__main__':\n",
    "    # app.run(debug=True)\n",
    "app.run(mode='inline', debug=True)\n",
    "\n",
    "# Jupyter Notebook/Lab 환경에서 실행 시 (JupyterDash 사용)\n",
    "# if __name__ == '__main__':\n",
    "#    app.run(mode='inline', debug=True) # 'inline', 'external', 'jupyterlab'"
   ]
  },
  {
   "cell_type": "markdown",
   "metadata": {},
   "source": [
    "**실행 방법:**\n",
    "\n",
    "1.  위 코드를 `app.py`와 같은 파이썬 파일로 저장하고 터미널에서 `python app.py`를 실행합니다.\n",
    "2.  Docker 컨테이너 내에서 실행하는 경우\n",
    "    1.  dash 라이브러리가 설치된 docker image를 빌드합니다. (docker build -t star_track_python-statrack_jupyter .) 여러분은 이미 이미지를 빌드했습니다.\n",
    "    2.  docker run --rm -p 8050:8050 -v ./0602/plotly/:/home/jovyan/work/ star_track_python-statrack_jupyter python /home/jovyan/work/app.py 인라인 명령을 입력합니다.\n",
    "3.  웹 브라우저를 열고 터미널에 표시된 주소(보통 `http://127.0.0.1:8050/`)로 접속합니다.\n",
    "\n",
    "(Jupyter Notebook에서 `JupyterDash`를 사용하는 경우, 셀 실행 후 결과로 앱이 바로 표시되거나 링크가 제공됩니다.)\n",
    "\n",
    "Dash를 사용하면 데이터 분석 결과를 더욱 동적이고 접근하기 쉬운 형태로 공유할 수 있습니다. 이 튜토리얼에서는 간단한 맛보기만 다루었지만, Dash는 훨씬 복잡하고 다양한 기능을 가진 인터랙티브 대시보드를 구축하는 데 사용될 수 있는 강력한 도구입니다."
   ]
  }
 ],
 "metadata": {
  "kernelspec": {
   "display_name": "base",
   "language": "python",
   "name": "python3"
  },
  "language_info": {
   "codemirror_mode": {
    "name": "ipython",
    "version": 3
   },
   "file_extension": ".py",
   "mimetype": "text/x-python",
   "name": "python",
   "nbconvert_exporter": "python",
   "pygments_lexer": "ipython3",
   "version": "3.12.2"
  }
 },
 "nbformat": 4,
 "nbformat_minor": 2
}
