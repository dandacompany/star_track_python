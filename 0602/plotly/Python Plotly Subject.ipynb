{
 "cells": [
  {
   "cell_type": "markdown",
   "metadata": {},
   "source": [
    "\n",
    "### 실습 과제 1️⃣ : 타이타닉 생존자 분석 시각화 🚢\n",
    "\n",
    ">타이타닉호 침몰 사건의 승객 데이터를 사용하여 생존에 영향을 미친 요인들을 시각적으로 분석합니다.\n",
    ">  * **데이터**: `px.data.titanic()`를 사용하거나, 캐글 등에서 더 상세한 타이타닉 데이터셋(CSV)을 다운로드하여 사용할 수 있습니다. 여기서는 Plotly 내장 데이터를 사용합니다.\n",
    ">  * **분석 목표 예시**:\n",
    ">    1.  전체 생존자와 사망자 비율은 어떻게 되는가? (파이 차트)\n",
    ">    2.  성별에 따른 생존율 차이는 있는가? (막대 그래프)\n",
    ">    3.  객실 등급(Pclass)에 따른 생존율 차이는 있는가? (막대 그래프 또는 바이올린 플롯)\n",
    ">    4.  나이 분포에 따른 생존자와 사망자 분포는 어떻게 다른가? (히스토그램 또는 박스플롯)\n",
    ">    5.  탑승 항구(Embarked)별 생존율은? (막대 그래프)\n",
    ">    6.  요금(Fare)과 생존 여부의 관계는? (박스플롯 또는 바이올린 플롯)"
   ]
  },
  {
   "cell_type": "markdown",
   "metadata": {},
   "source": [
    "라이브러리 로드"
   ]
  },
  {
   "cell_type": "code",
   "execution_count": null,
   "metadata": {},
   "outputs": [],
   "source": [
    "import plotly.express as px\n",
    "import plotly.graph_objects as go\n",
    "import plotly.io as pio\n",
    "from plotly.subplots import make_subplots"
   ]
  },
  {
   "cell_type": "markdown",
   "metadata": {},
   "source": [
    "데이터셋 로드"
   ]
  },
  {
   "cell_type": "code",
   "execution_count": null,
   "metadata": {},
   "outputs": [],
   "source": [
    "# 타이타닉 데이터 로드\n",
    "titanic_df = px.data.titanic()\n"
   ]
  },
  {
   "cell_type": "markdown",
   "metadata": {},
   "source": [
    "데이터셋 전처리"
   ]
  },
  {
   "cell_type": "code",
   "execution_count": null,
   "metadata": {},
   "outputs": [],
   "source": [
    "# 결측치 처리 (Age, Embarked 등) - 여기서는 간단히 Age 평균으로 채우고 Embarked 최빈값으로 채움\n",
    "# survived 컬럼을 문자열로 변경하여 범주형으로 취급 (0: 사망, 1: 생존)"
   ]
  },
  {
   "cell_type": "markdown",
   "metadata": {},
   "source": [
    "데이터셋 시각화1"
   ]
  },
  {
   "cell_type": "code",
   "execution_count": null,
   "metadata": {},
   "outputs": [],
   "source": [
    "# 1. 전체 생존자와 사망자 비율 (파이 차트)"
   ]
  },
  {
   "cell_type": "code",
   "execution_count": null,
   "metadata": {},
   "outputs": [],
   "source": [
    "# 2. 성별에 따른 생존율 (막대 그래프)\n",
    "# 먼저 성별, 생존여부로 그룹화하여 카운트"
   ]
  },
  {
   "cell_type": "code",
   "execution_count": null,
   "metadata": {},
   "outputs": [],
   "source": [
    "# 3. 객실 등급별 생존율 (바이올린 플롯 - 생존/사망자 수를 함께 보기 위해)\n"
   ]
  },
  {
   "cell_type": "code",
   "execution_count": null,
   "metadata": {},
   "outputs": [],
   "source": [
    "# 4. 나이 분포에 따른 생존자와 사망자 (히스토그램)\n"
   ]
  },
  {
   "cell_type": "code",
   "execution_count": null,
   "metadata": {},
   "outputs": [],
   "source": [
    "# 5. 탑승 항구별 생존율 (막대 그래프, 비율로 표시)"
   ]
  },
  {
   "cell_type": "code",
   "execution_count": null,
   "metadata": {},
   "outputs": [],
   "source": [
    "# 6. 요금(Fare)과 생존 여부의 관계 (박스 플롯)\n",
    "# Fare가 매우 큰 아웃라이어가 있을 수 있으므로, 상위 1% 제외 (예시)"
   ]
  },
  {
   "cell_type": "markdown",
   "metadata": {},
   "source": [
    "### 실습 과제 2️⃣ : Gapminder 국가별 변화 시각화 🌍\n",
    "\n",
    "> `px.data.gapminder()` 데이터셋을 사용하여 여러 국가의 시간 경과에 따른 경제 및 사회 지표 변화를 탐색합니다.\n",
    ">  * **분석 목표 예시**:\n",
    ">    1.  시간에 따른 전 세계 국가들의 1인당 GDP와 기대수명의 변화를 애니메이션으로 시각화합니다. (애니메이션 산점도)\n",
    ">    2.  특정 대륙(예: 아시아) 국가들의 인구 변화 추세를 비교합니다. (선 그래프)\n",
    ">    3.  2007년 기준, 대륙별 평균 기대수명과 평균 1인당 GDP를 비교합니다. (막대 그래프 또는 산점도)\n",
    ">    4.  연도별로 인구가 가장 많은 상위 5개 국가의 변화를 시각화합니다. (애니메이션 막대 경주 차트 - 고급)"
   ]
  },
  {
   "cell_type": "markdown",
   "metadata": {},
   "source": [
    "라이브러리 로드\n",
    "> 생략"
   ]
  },
  {
   "cell_type": "markdown",
   "metadata": {},
   "source": [
    "데이터셋 로드"
   ]
  },
  {
   "cell_type": "code",
   "execution_count": null,
   "metadata": {},
   "outputs": [],
   "source": [
    "# Gapminder 데이터 로드\n",
    "gapminder_df = px.data.gapminder()"
   ]
  },
  {
   "cell_type": "markdown",
   "metadata": {},
   "source": [
    "데이터 시각화"
   ]
  },
  {
   "cell_type": "code",
   "execution_count": null,
   "metadata": {},
   "outputs": [],
   "source": [
    "# 1. 시간에 따른 GDP와 기대수명 변화 (애니메이션 산점도 - 앞서 실습)\n"
   ]
  },
  {
   "cell_type": "code",
   "execution_count": null,
   "metadata": {},
   "outputs": [],
   "source": [
    "# 2. 아시아 국가들의 인구 변화 추세 (선 그래프)\n"
   ]
  },
  {
   "cell_type": "code",
   "execution_count": null,
   "metadata": {},
   "outputs": [],
   "source": [
    "# 3. 2007년 기준, 대륙별 평균 기대수명과 평균 1인당 GDP (막대 그래프)\n",
    "\n",
    "# 또는 산점도로 표현"
   ]
  },
  {
   "cell_type": "code",
   "execution_count": null,
   "metadata": {},
   "outputs": [],
   "source": [
    "# 4. 연도별 인구 Top 5 국가 변화 (애니메이션 막대 경주 - Plotly Express로는 직접 구현 어려움, graph_objects 필요)\n",
    "# 이 부분은 고급 주제로, 여기서는 개념만 설명하고 간단한 정적 차트로 대체합니다.\n",
    "# 실제 막대 경주 차트는 매년 순위가 바뀌는 것을 부드럽게 애니메이션 처리해야 합니다.\n",
    "\n",
    "# 2007년 인구 Top 10 국가 (정적 막대 그래프)"
   ]
  },
  {
   "cell_type": "markdown",
   "metadata": {},
   "source": [
    "### 🌟 도전 과제: 원하는 공공데이터로 시각화 도전 🚀 (발표자 3분 모십니다)\n",
    "\n",
    "자신이 관심 있는 분야의 공공데이터(예: [공공데이터포털](https://www.data.go.kr/), [서울 열린 데이터 광장](https://data.seoul.go.kr/), [KOSIS 국가통계포털](https://kosis.kr/))를 찾아 다운로드하고, 다음과 같은 과정을 거쳐 자신만의 시각화 분석을 수행해보세요.\n",
    "\n",
    "1.  **주제 선정 및 데이터 수집**: 어떤 질문에 답하고 싶은지, 어떤 현상을 탐색하고 싶은지 정의합니다.\n",
    "2.  **데이터 전처리**: Pandas를 사용하여 데이터를 불러오고, 결측치 처리, 데이터 타입 변환, 필요한 파생 변수 생성 등의 작업을 수행합니다.\n",
    "3.  **탐색적 데이터 분석(EDA) 및 시각화**:\n",
    "      * 데이터의 기본적인 통계량 확인.\n",
    "      * 다양한 Plotly 그래프(산점도, 막대, 선, 히스토그램, 파이, 지리 시각화 등)를 활용하여 데이터의 패턴, 관계, 분포, 이상치 등을 탐색합니다.\n",
    "      * 대화형 기능(hover, 애니메이션, 슬라이더)을 적절히 활용하여 깊이 있는 분석을 시도합니다.\n",
    "      * `make_subplots`나 `facet` 기능을 사용하여 여러 관점을 동시에 비교합니다.\n",
    "4.  **결론 및 인사이트 도출**: 시각화 결과를 바탕으로 처음 설정했던 질문에 대한 답을 찾거나, 새로운 인사이트를 발견합니다.\n",
    "\n",
    "이 과정은 데이터 분석가로서 매우 중요한 역량이며, Plotly는 이 과정을 시각적 표현으로 도와줍니다."
   ]
  },
  {
   "cell_type": "code",
   "execution_count": null,
   "metadata": {},
   "outputs": [],
   "source": [
    "# 예시:\n",
    "# 1. 데이터셋 설명\n",
    "#   - 데이터명: 서울시 지하철 호선별 역별 승하차 인원 정보\n",
    "#   - 출처: 서울 열린 데이터 광장 (https://data.seoul.go.kr/)\n",
    "#   - 내용: 특정 기간 동안 서울시 지하철 역들의 호선별, 시간대별 승하차 인원 수\n",
    "\n",
    "# 2. 분석 목표\n",
    "#   - 서울시에서 가장 붐비는 지하철 역과 호선은 어디인가?\n",
    "#   - 출퇴근 시간대 주요 역들의 특징은 무엇인가?\n",
    "#   - 주중과 주말의 이용 패턴 차이가 있는가?\n",
    "\n",
    "# 3. 데이터 전처리 과정\n",
    "#   (Pandas 코드 예시)\n",
    "#   df_subway = pd.read_csv(\"서울시_지하철_승하차인원.csv\", encoding='cp949')\n",
    "#   # ... (결측치 처리, 타입 변환, 필요한 컬럼 생성 등)\n",
    "\n",
    "# 4. 시각화 및 분석 결과\n",
    "#   # 시각화 1: 호선별 총 승하차 인원 (막대 그래프)\n",
    "#   # ... (px.bar 코드 및 fig.show())\n",
    "#   # 분석: 2호선이 압도적으로 높은 승하차 인원을 보임...\n",
    "\n",
    "#   # 시각화 2: 승하차 인원 상위 10개 역 (수평 막대 그래프)\n",
    "#   # ... (px.bar 코드 및 fig.show())\n",
    "#   # 분석: 강남, 잠실, 홍대입구 등이 상위권을 차지함...\n",
    "\n",
    "#   # 시각화 3: 특정 역(예: 강남역)의 시간대별 평균 승하차 인원 (선 그래프 또는 막대 그래프)\n",
    "#   # ... (px.line 또는 px.bar 코드 및 fig.show())\n",
    "#   # 분석: 출근 시간(08-09시)과 퇴근 시간(18-19시)에 뚜렷한 피크를 보임...\n",
    "\n",
    "# 5. 결론 및 제언\n",
    "#   - 분석 결과, 2호선과 주요 환승역들의 이용객이 매우 많음을 확인.\n",
    "#   - 특정 시간대 혼잡도 완화를 위한 정책적 고려가 필요할 수 있음.\n",
    "#   - 향후 요일별, 공휴일 여부 등 추가 변수를 고려한 분석이 유용할 것."
   ]
  }
 ],
 "metadata": {
  "kernelspec": {
   "display_name": "Python 3 (ipykernel)",
   "language": "python",
   "name": "python3"
  }
 },
 "nbformat": 4,
 "nbformat_minor": 2
}
