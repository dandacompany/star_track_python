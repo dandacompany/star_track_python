{
  "cells": [
    {
      "cell_type": "markdown",
      "metadata": {
        "id": "_JSojW1r9oGo"
      },
      "source": [
        "## 🧭 Python Plotly 시각화 실습\n",
        "\n",
        "실습목표: Python의 강력한 시각화 라이브러리인 Plotly를 사용하여 인터랙티브하고 아름다운 그래프를 만드는 방법을 안내합니다. 데이터 분석의 첫걸음을 내딛는 분들이 Plotly의 매력을 느끼고, 실제 데이터에 적용할 수 있도록 돕는 것을 목표로 합니다.\n",
        "\n",
        "### 1️⃣ Plotly 소개 및 설치\n",
        "\n",
        "#### Plotly란 무엇인가? 📊\n",
        "\n",
        "Plotly는 웹 기반의 인터랙티브한 시각화를 만들 수 있는 파이썬 라이브러리입니다. 정적인 그래프를 넘어 사용자와 상호작용(줌, 패닝, 특정 데이터 포인트 정보 확인 등)이 가능한 동적인 그래프를 손쉽게 제작할 수 있게 해줍니다. Plotly로 만들어진 그래프는 웹 브라우저에서 완벽하게 작동하며, Jupyter Notebook 환경에서도 훌륭하게 통합됩니다. 과학, 금융, 엔지니어링 등 다양한 분야에서 복잡한 데이터를 효과적으로 표현하고 탐색하는 데 사용됩니다.\n",
        "\n",
        "#### Plotly의 주요 구성 요소\n",
        "\n",
        "Plotly Python 라이브러리는 크게 세 가지 주요 고수준 인터페이스로 구성됩니다.\n",
        "\n",
        "1.  **Plotly Express (`plotly.express`)**:\n",
        "\n",
        "      * 가장 쉽고 빠르게 다양한 종류의 그래프를 만들 수 있는 모듈입니다.\n",
        "      * `px`라는 별칭으로 주로 사용되며, 적은 양의 코드로 강력한 시각화를 생성할 수 있어 초보자에게 매우 유용합니다.\n",
        "      * 데이터프레임(주로 Pandas DataFrame)을 입력으로 받아 직관적인 문법으로 그래프를 그립니다.\n",
        "\n",
        "2.  **그래프 객체 (`plotly.graph_objects`)**:\n",
        "\n",
        "      * `go`라는 별칭으로 사용되며, 더 세밀하고 복잡한 커스터마이징이 필요할 때 사용합니다.\n",
        "      * 그래프의 각 요소(예: 트레이스, 레이아웃, 축 등)를 객체로 다루어 정교한 제어가 가능합니다.\n",
        "      * Plotly Express로 만든 그래프도 내부적으로는 그래프 객체로 구성됩니다.\n",
        "\n",
        "3.  **Dash (`dash`)**:\n",
        "\n",
        "      * Plotly 그래프를 기반으로 분석적인 웹 애플리케이션을 구축할 수 있는 프레임워크입니다.\n",
        "      * Python만으로 데이터 시각화 대시보드나 인터랙티브 리포트를 만들 수 있게 해줍니다. (이 튜토리얼에서는 간단히 맛보기만 다룹니다.)\n",
        "\n",
        "#### 설치 방법 및 기본 사용 준비\n",
        "\n",
        "Plotly를 사용하기 위해서는 먼저 파이썬 환경에 라이브러리를 설치해야 합니다. 터미널이나 Anaconda Prompt에서 다음 명령어를 실행하여 설치할 수 있습니다.\n"
      ]
    },
    {
      "cell_type": "code",
      "execution_count": null,
      "metadata": {},
      "outputs": [],
      "source": [
        "!pip install plotly pandas kaleido # Docker 이미지에 포함되어 있습니다. 설치 필요 없음"
      ]
    },
    {
      "cell_type": "markdown",
      "metadata": {},
      "source": [
        "\n",
        "  * `plotly`: Plotly 라이브러리 본체입니다.\n",
        "  * `pandas`: Plotly Express는 Pandas DataFrame과 매우 잘 연동됩니다.\n",
        "  * `kaleido`: Plotly 그래프를 정적 이미지 파일(png, jpg, svg 등)로 저장하기 위해 필요한 엔진입니다. `fig.write_image(\"figure.png\")`와 같이 사용됩니다.\n",
        "\n",
        "설치가 완료되면, Python 스크립트나 Jupyter Notebook에서 다음과 같이 Plotly Express를 임포트하여 사용할 준비를 합니다."
      ]
    },
    {
      "cell_type": "code",
      "execution_count": 60,
      "metadata": {
        "id": "DqVlJ9vb9oGp"
      },
      "outputs": [],
      "source": [
        "import plotly\n",
        "import plotly.express as px # 그래프 생성\n",
        "import plotly.graph_objects as go # 그래프 객체 생성\n",
        "import pandas as pd\n",
        "from plotly.subplots import make_subplots # 서브플롯 생성\n",
        "\n",
        "print(f\"Plotly 버전: {plotly.__version__}\")"
      ]
    },
    {
      "cell_type": "markdown",
      "metadata": {
        "id": "9tkU61PR9oGq"
      },
      "source": [
        "이제 Plotly를 사용하여 멋진 시각화를 만들 준비가 되었습니다\\!\n",
        "\n",
        "-----\n",
        "\n",
        "### 2️⃣ Plotly Express로 시작하기\n",
        "\n",
        "Plotly Express는 복잡한 그래프를 단 몇 줄의 코드로 생성할 수 있게 해주는 Plotly의 고수준 API입니다. 간결함과 강력함을 동시에 갖추고 있어 데이터 시각화 작업을 매우 효율적으로 만들어줍니다.\n",
        "\n",
        "#### `plotly.express`의 특징과 간단한 문법\n",
        "\n",
        "  * **간결한 문법**: `px.그래프종류(data_frame=df, x='x축컬럼', y='y축컬럼', color='색상구분컬럼', ...)` 형태로 사용됩니다.\n",
        "  * **다양한 차트 지원**: 산점도, 선 그래프, 막대 그래프, 히스토그램, 파이 차트 등 대부분의 표준 차트를 지원합니다.\n",
        "  * **자동 범례 및 색상 할당**: 데이터를 기반으로 범례와 색상을 자동으로 생성하고 할당해줍니다.\n",
        "  * **인터랙션 기본 제공**: 확대/축소, 데이터 포인트 정보(hover) 등의 인터랙티브 기능이 기본적으로 활성화됩니다.\n",
        "\n",
        "#### 기본 데이터 불러오기\n",
        "\n",
        "Plotly Express는 내장된 샘플 데이터셋을 제공하여 쉽게 연습해볼 수 있습니다. 대표적인 데이터셋으로는 `gapminder`, `tips`, `iris` 등이 있습니다."
      ]
    },
    {
      "cell_type": "code",
      "execution_count": 5,
      "metadata": {
        "id": "HxYkeFSz9oGq"
      },
      "outputs": [],
      "source": [
        "# Gapminder 데이터셋: 전 세계 국가들의 연도별 인구, GDP, 기대수명 등의 정보를 담고 있습니다.\n",
        "gapminder_df = px.data.gapminder()\n",
        "print(\"--- Gapminder 데이터셋 샘플 ---\")\n",
        "gapminder_df.head()"
      ]
    },
    {
      "cell_type": "code",
      "execution_count": 6,
      "metadata": {},
      "outputs": [],
      "source": [
        "# Tips 데이터셋: 레스토랑에서 팁을 지불한 사람들의 정보를 담고 있습니다.\n",
        "tips_df = px.data.tips()\n",
        "print(\"\\n--- Tips 데이터셋 샘플 ---\")\n",
        "tips_df.head()"
      ]
    },
    {
      "cell_type": "code",
      "execution_count": 7,
      "metadata": {},
      "outputs": [],
      "source": [
        "# Iris 데이터셋: 붓꽃의 종류별 꽃잎, 꽃받침의 길이와 너비 정보를 담고 있습니다.\n",
        "iris_df = px.data.iris()\n",
        "print(\"\\n--- Iris 데이터셋 샘플 ---\")\n",
        "iris_df.head()"
      ]
    },
    {
      "cell_type": "markdown",
      "metadata": {
        "id": "i-yJGoXX9oGq"
      },
      "source": [
        "#### 시각화 기본 구조 (`fig = px.chart(); fig.show()`)\n",
        "\n",
        "Plotly Express를 사용하여 그래프를 그리는 기본적인 구조는 다음과 같습니다.\n",
        "\n",
        "1.  `plotly.express` (보통 `px`로 임포트)를 사용하여 원하는 차트 함수를 호출합니다. 이때 데이터프레임과 주요 매핑(x축, y축, 색상 등)을 인자로 전달합니다.\n",
        "2.  함수는 Figure 객체(`fig`)를 반환합니다.\n",
        "3.  `fig.show()` 메서드를 호출하여 그래프를 화면에 표시합니다. Jupyter Notebook 환경에서는 이 메서드가 자동으로 그래프를 렌더링합니다.\n",
        "\n",
        "예를 들어, `iris` 데이터셋을 사용하여 간단한 산점도를 그려보겠습니다."
      ]
    },
    {
      "cell_type": "code",
      "execution_count": 8,
      "metadata": {
        "id": "lqNWRWss9oGq"
      },
      "outputs": [],
      "source": [
        "# Iris 데이터셋으로 산점도 그리기\n",
        "fig_iris_scatter = px.scatter(iris_df,\n",
        "                              x=\"sepal_width\",\n",
        "                              y=\"sepal_length\",\n",
        "                              color=\"species\",\n",
        "                              title=\"Iris 데이터셋의 꽃받침 너비와 길이에 따른 종 분포\")\n",
        "fig_iris_scatter.show()"
      ]
    },
    {
      "cell_type": "markdown",
      "metadata": {
        "id": "csCYS0LJ9oGq"
      },
      "source": [
        "위 코드를 실행하면 x축에는 꽃받침 너비(`sepal_width`), y축에는 꽃받침 길이(`sepal_length`)가 표시되고, 각 점의 색상은 붓꽃의 종(`species`)에 따라 다르게 표현되는 인터랙티브한 산점도가 나타납니다."
      ]
    },
    {
      "cell_type": "markdown",
      "metadata": {},
      "source": [
        "### 🎨 Plotly 색상\n",
        "\n",
        "Plotly에서는 다양한 색상 팔레트(컬러 스케일)를 제공하여, 시각화의 가독성과 미적 요소를 높일 수 있습니다. 색상 팔레트는 데이터의 구분, 연속형 값의 강도 표현, 범주형 데이터의 그룹 구분 등에 활용됩니다."
      ]
    },
    {
      "cell_type": "markdown",
      "metadata": {},
      "source": [
        "#### Plotly 내장 색상 팔레트 소개\n",
        "\n",
        "Plotly는 시각화를 위해 다양한 내장 색상 팔레트(컬러스케일)를 제공합니다.\n",
        "\n",
        "- **연속형(Sequential)**: 값의 크기나 농도 등 연속적인 수치를 시각화할 때 사용합니다. 대표적으로 `Viridis`, `Cividis`, `Blues`, `Greens`, `Plasma` 등이 있습니다.\n",
        "- **이산형(Categorical/Qualitative)**: 그룹, 클래스 등 범주형 데이터를 구분할 때 사용합니다. 대표적으로 `Plotly`, `Pastel`, `Dark2`, `Set1` 등이 있습니다.\n",
        "- **발산형(Diverging)**: 중심값을 기준으로 양쪽으로 값이 퍼지는 데이터를 표현할 때 사용합니다. 대표적으로 `RdBu`, `BrBG`, `PiYG` 등이 있습니다.\n",
        "\n",
        "Plotly Express의 차트 함수에서 `color_continuous_scale`(연속형), `color_discrete_sequence`(이산형) 인자를 통해 원하는 팔레트를 지정할 수 있습니다.\n",
        "\n",
        "내장 색상 팔레트의 전체 목록은 아래와 같이 확인할 수 있습니다."
      ]
    },
    {
      "cell_type": "code",
      "execution_count": 12,
      "metadata": {},
      "outputs": [],
      "source": [
        "from textwrap import wrap\n",
        "\n",
        "named_colorscales = px.colors.named_colorscales()\n",
        "print(\"\\n\".join(wrap(\"\".join('{:<12}'.format(c) for c in named_colorscales), 96)))"
      ]
    },
    {
      "cell_type": "markdown",
      "metadata": {},
      "source": [
        "\n",
        "#### 1. 색상 팔레트 종류\n",
        "\n",
        "- **연속형(Sequential)**: 값의 크고 작음, 강도, 농도 등 연속적인 수치를 표현할 때 사용합니다.  \n",
        "  예시: `Viridis`, `Cividis`, `Blues`, `Greens`, `Plasma` 등\n",
        "\n",
        "- **이산형(Categorical/Qualitative)**: 범주형 데이터(그룹, 클래스 등)를 구분할 때 사용합니다.  \n",
        "  예시: `Plotly`, `Pastel`, `Dark2`, `Set1` 등\n",
        "\n",
        "- **발산형(Diverging)**: 중심값을 기준으로 양쪽으로 값이 퍼지는 데이터를 표현할 때 사용합니다.  \n",
        "  예시: `RdBu`, `BrBG`, `PiYG` 등\n",
        "\n",
        "#### 2. 색상 팔레트 사용 방법"
      ]
    },
    {
      "cell_type": "code",
      "execution_count": 23,
      "metadata": {},
      "outputs": [],
      "source": [
        "px.colors.sequential.swatches_continuous()\n",
        "# px.colors.diverging.swatches_continuous()"
      ]
    },
    {
      "cell_type": "markdown",
      "metadata": {},
      "source": [
        "\n",
        "-----\n",
        "\n",
        "### 3️⃣ 기본 그래프 실습\n",
        "\n",
        "Plotly Express를 사용하면 다양한 기본 그래프를 손쉽게 만들 수 있습니다. 각 그래프의 특징과 사용법을 예제와 함께 살펴보겠습니다.\n",
        "\n",
        "#### 산점도 (Scatter Plot)\n",
        "\n",
        "산점도는 두 변수 간의 관계를 점으로 표현하는 그래프입니다. 데이터의 분포, 군집, 상관관계를 파악하는 데 유용합니다.\n",
        "\n",
        "  * **주요 인자**: `x`, `y`, `color` (색상 구분), `size` (점 크기 구분), `symbol` (점 모양 구분), `hover_name` (마우스 오버 시 표시될 이름), `title` (그래프 제목)\n",
        "\n",
        "<!-- end list -->"
      ]
    },
    {
      "cell_type": "code",
      "execution_count": 29,
      "metadata": {},
      "outputs": [],
      "source": [
        "gapminder_2007.head()"
      ]
    },
    {
      "cell_type": "code",
      "execution_count": 24,
      "metadata": {
        "id": "ika5ptx89oGq"
      },
      "outputs": [],
      "source": [
        "# Gapminder 데이터셋으로 2007년 국가별 GDP와 기대수명 산점도\n",
        "gapminder_2007 = gapminder_df.query(\"year == 2007\")\n",
        "\n",
        "fig_scatter_gdp_lifeExp = px.scatter(gapminder_2007,\n",
        "                                   x=\"gdpPercap\",\n",
        "                                   y=\"lifeExp\",\n",
        "                                   color=\"continent\",  # 대륙별 색상 구분\n",
        "                                   size=\"pop\",         # 인구 크기에 따른 점 크기\n",
        "                                   hover_name=\"country\", # 마우스 오버 시 국가 이름 표시\n",
        "                                   log_x=True,         # x축을 로그 스케일로\n",
        "                                   size_max=60,        # 최대 점 크기 조절\n",
        "                                   title=\"2007년 국가별 GDP와 기대수명 (인구 크기 반영)\")\n",
        "fig_scatter_gdp_lifeExp.show()\n",
        "\n",
        "\n",
        "# jupyter notebook 환경에서는 하나의 캔버스를 랜더링할 경우, .show()를 사용하지 않아도 랜더링이 됩니다. 복수개일 경우는 .show()를 사용해야 합니다."
      ]
    },
    {
      "cell_type": "markdown",
      "metadata": {
        "id": "87sQZ7Bd9oGr"
      },
      "source": [
        "#### 선 그래프 (Line Plot)\n",
        "\n",
        "선 그래프는 시간의 흐름에 따른 데이터의 변화나 순서가 있는 데이터 포인트 간의 관계를 선으로 연결하여 표현합니다. 추세 분석에 주로 사용됩니다.\n",
        "\n",
        "  * **주요 인자**: `x`, `y`, `color` (선 색상 구분), `line_group` (그룹별로 선 연결), `markers` (데이터 포인트에 마커 표시 여부)\n",
        "\n",
        "<!-- end list -->"
      ]
    },
    {
      "cell_type": "code",
      "execution_count": 39,
      "metadata": {
        "id": "Bf-sWTMo9oGr"
      },
      "outputs": [],
      "source": [
        "# Gapminder 데이터셋에서 특정 국가(예: 한국)의 연도별 GDP 변화 선 그래프\n",
        "korea_df = gapminder_df.query(\"country == 'Korea, Rep.'\")\n",
        "korea_df.head()\n"
      ]
    },
    {
      "cell_type": "code",
      "execution_count": 40,
      "metadata": {},
      "outputs": [],
      "source": [
        "px.line(korea_df,\n",
        "    x=\"year\",\n",
        "    y=\"gdpPercap\",\n",
        "    title=\"한국의 연도별 1인당 GDP 변화\",\n",
        "    markers=True) # 데이터 포인트에 마커 표시"
      ]
    },
    {
      "cell_type": "code",
      "execution_count": 33,
      "metadata": {},
      "outputs": [],
      "source": [
        "# 여러 국가 비교 (미국, 중국, 한국)\n",
        "countries_comp_df = gapminder_df.query(\"country in ['United States', 'China', 'Korea, Rep.']\")\n",
        "countries_comp_df.head()"
      ]
    },
    {
      "cell_type": "code",
      "execution_count": 41,
      "metadata": {},
      "outputs": [],
      "source": [
        "px.line(countries_comp_df,\n",
        "    x=\"year\",\n",
        "    y=\"lifeExp\",\n",
        "    color=\"country\", # 국가별로 다른 색상의 선\n",
        "    title=\"미국, 중국, 한국의 연도별 기대수명 변화\",\n",
        "    markers=True)"
      ]
    },
    {
      "cell_type": "markdown",
      "metadata": {
        "id": "x6ZB3WwQ9oGr"
      },
      "source": [
        "#### 막대 그래프 (Bar Plot)\n",
        "\n",
        "막대 그래프는 범주형 데이터의 값을 막대의 길이로 표현하여 항목 간의 크기를 비교하는 데 사용됩니다.\n",
        "\n",
        "  * **주요 인자**: `x`, `y`, `color` (막대 색상 구분), `barmode` ('group', 'stack', 'relative'), `orientation` ('v' 또는 'h'로 수직/수평 막대)\n",
        "\n",
        "<!-- end list -->"
      ]
    },
    {
      "cell_type": "code",
      "execution_count": 36,
      "metadata": {
        "id": "Qc5Nt5Ke9oGr"
      },
      "outputs": [],
      "source": [
        "# Tips 데이터셋에서 요일별 평균 팁 금액 막대 그래프\n",
        "avg_tip_by_day = tips_df.groupby('day', as_index=False)['tip'].mean()\n",
        "avg_tip_by_day.head()"
      ]
    },
    {
      "cell_type": "code",
      "execution_count": 38,
      "metadata": {},
      "outputs": [],
      "source": [
        "px.bar(avg_tip_by_day,\n",
        "    x=\"day\",\n",
        "    y=\"tip\",\n",
        "    color=\"day\",\n",
        "    title=\"요일별 평균 팁 금액\",\n",
        "    labels={'tip': '평균 팁 ($)', 'day': '요일'})\n"
      ]
    },
    {
      "cell_type": "code",
      "execution_count": 42,
      "metadata": {},
      "outputs": [],
      "source": [
        "# Tips 데이터셋에서 성별에 따른 식사 시간대별 지불 총액 (그룹 막대)\n",
        "px.bar(tips_df,\n",
        "    x=\"sex\",\n",
        "    y=\"total_bill\",\n",
        "    color=\"time\",       # 식사 시간대별 색상\n",
        "    barmode=\"group\",    # 그룹 막대\n",
        "    title=\"성별 및 식사 시간대별 총 지불액\")"
      ]
    },
    {
      "cell_type": "markdown",
      "metadata": {
        "id": "yCuLDPgC9oGr"
      },
      "source": [
        "#### 파이 차트 (Pie Plot)\n",
        "\n",
        "파이 차트는 전체에 대한 각 부분의 비율을 부채꼴 모양으로 나타내는 그래프입니다. 범주별 구성비를 시각적으로 표현할 때 유용합니다.\n",
        "\n",
        "  * **주요 인자**: `names` (각 조각의 이름이 될 컬럼), `values` (각 조각의 크기가 될 컬럼), `hole` (도넛 차트 만들기)\n",
        "\n",
        "<!-- end list -->"
      ]
    },
    {
      "cell_type": "code",
      "execution_count": 43,
      "metadata": {
        "id": "6K1h0Yq79oGr"
      },
      "outputs": [],
      "source": [
        "# Iris 데이터셋의 종별 샘플 수 파이 차트\n",
        "species_counts = iris_df['species'].value_counts().reset_index()\n",
        "species_counts.columns = ['species', 'count']\n",
        "species_counts.head()"
      ]
    },
    {
      "cell_type": "code",
      "execution_count": 44,
      "metadata": {},
      "outputs": [],
      "source": [
        "fig_pie_iris_species = px.pie(species_counts,\n",
        "                              names=\"species\",\n",
        "                              values=\"count\",\n",
        "                              title=\"Iris 데이터셋의 종별 샘플 수 비율\")\n",
        "fig_pie_iris_species.show()\n",
        "\n",
        "# 도넛 차트 만들기 (hole 사용)\n",
        "fig_donut_iris_species = px.pie(species_counts,\n",
        "                                names=\"species\",\n",
        "                                values=\"count\",\n",
        "                                title=\"Iris 데이터셋의 종별 샘플 수 비율 (도넛)\",\n",
        "                                hole=0.4) # 가운데 구멍 크기 (0 ~ 1)\n",
        "fig_donut_iris_species.show()"
      ]
    },
    {
      "cell_type": "markdown",
      "metadata": {
        "id": "ghd1Z8yS9oGr"
      },
      "source": [
        "#### 히스토그램 / 박스플롯 / 바이올린 플롯\n",
        "\n",
        "이들은 단일 변수의 분포를 시각화하는 데 사용되는 그래프들입니다.\n",
        "\n",
        "  * **히스토그램 (`px.histogram`)**: 데이터의 빈도 분포를 막대 형태로 보여줍니다. 데이터가 어떤 값 주위에 집중되어 있는지, 얼마나 퍼져있는지 등을 파악할 수 있습니다.\n",
        "\n",
        "      * **주요 인자**: `x` (또는 `y`), `nbins` (막대 개수), `color` (그룹별 히스토그램), `marginal` ('rug', 'box', 'violin' 등 주변부 그래프 추가)"
      ]
    },
    {
      "cell_type": "code",
      "execution_count": 45,
      "metadata": {
        "id": "XAdgsfrf9oGr"
      },
      "outputs": [],
      "source": [
        "# Tips 데이터셋의 총 지불액 분포 히스토그램\n",
        "px.histogram(tips_df,\n",
        "    x=\"total_bill\",\n",
        "    nbins=30,\n",
        "    title=\"총 지불액 분포 (히스토그램)\",\n",
        "    marginal=\"rug\") # 데이터 포인트 위치를 러그 플롯으로 표시"
      ]
    },
    {
      "cell_type": "markdown",
      "metadata": {},
      "source": [
        "* **박스플롯 (`px.box`)**: 데이터의 사분위수(최솟값, 1사분위수(Q1), 중앙값(Q2), 3사분위수(Q3), 최댓값)를 상자 그림으로 나타냅니다. 이상치 탐지에도 유용합니다.\n",
        "\n",
        "  * **주요 인자**: `x` (또는 `y`), `color` (그룹별 박스플롯), `notched` (중앙값 신뢰구간 표시)"
      ]
    },
    {
      "cell_type": "code",
      "execution_count": 46,
      "metadata": {},
      "outputs": [],
      "source": [
        "# Tips 데이터셋에서 요일별 총 지불액 박스플롯\n",
        "px.box(tips_df,\n",
        "    x=\"day\",\n",
        "    y=\"total_bill\",\n",
        "    color=\"smoker\", # 흡연 여부에 따라 색상 구분\n",
        "    title=\"요일별 총 지불액 분포 (박스플롯)\")"
      ]
    },
    {
      "cell_type": "markdown",
      "metadata": {},
      "source": [
        "* **바이올린 플롯 (`px.violin`)**: 박스플롯과 커널 밀도 추정(KDE)을 결합한 형태로, 데이터의 분포 모양을 더 자세히 보여줍니다.\n",
        "\n",
        "    * **주요 인자**: `x` (또는 `y`), `color`, `box` (내부에 박스플롯 표시 여부), `points` ('all', 'outliers', False 등 데이터 포인트 표시 옵션)\n",
        "    * KDE : 커널 밀도 추정(Kernel Density Estimation)은 데이터의 분포를 추정하는 통계 기법으로, 데이터가 어떤 값 주위에 집중되어 있는지, 얼마나 퍼져있는지 등을 파악할 수 있습니다.\n",
        "    * 박스플롯 : 데이터의 사분위수(최솟값, 1사분위수(Q1), 중앙값(Q2), 3사분위수(Q3), 최댓값)를 상자 그림으로 나타냅니다. 이상치 탐지에도 유용합니다."
      ]
    },
    {
      "cell_type": "code",
      "execution_count": 47,
      "metadata": {},
      "outputs": [],
      "source": [
        "# Tips 데이터셋에서 요일별 팁 금액 바이올린 플롯\n",
        "px.violin(tips_df,\n",
        "    y=\"tip\",\n",
        "    x=\"day\",\n",
        "    color=\"sex\", # 성별에 따라 색상 구분\n",
        "    box=True,    # 바이올린 내부에 박스플롯 표시\n",
        "    points=\"all\", # 모든 데이터 포인트 표시\n",
        "    title=\"요일별 팁 금액 분포 (바이올린 플롯)\")"
      ]
    },
    {
      "cell_type": "markdown",
      "metadata": {},
      "source": [
        "-----\n",
        "\n",
        "### 📝 연습문제 1: Plotly Express 기본 그래프 그리기\n",
        "\n",
        "**1-1. `tips` 데이터셋을 사용하여 다음 조건에 맞는 산점도를 그려보세요.**\n",
        "\n",
        "  * x축: `total_bill` (총 지불액)\n",
        "  * y축: `tip` (팁)\n",
        "  * 색상: `smoker` (흡연 여부)\n",
        "  * 점 크기: `size` (테이블 인원수)\n",
        "  * 마우스 오버 시 `day` (요일) 정보가 나타나도록 하세요.\n",
        "  * 그래프 제목: \"총 지불액과 팁의 관계 (흡연여부 및 테이블 크기별)\"\n",
        "\n",
        "<!-- end list -->"
      ]
    },
    {
      "cell_type": "code",
      "execution_count": null,
      "metadata": {},
      "outputs": [],
      "source": [
        "# [1-1] 코드 작성 셀 (학생이 채움)\n",
        "fig_tips_scatter = px.scatter(tips_df,\n",
        "                              x= # YOUR CODE HERE,\n",
        "                              y= # YOUR CODE HERE,\n",
        "                              color= # YOUR CODE HERE,\n",
        "                              size= # YOUR CODE HERE,\n",
        "                              hover_data=[ # YOUR CODE HERE ],\n",
        "                              title=\"총 지불액과 팁의 관계 (흡연여부 및 테이블 크기별)\")\n",
        "fig_tips_scatter.show()"
      ]
    },
    {
      "cell_type": "markdown",
      "metadata": {},
      "source": [
        "**1-2. `gapminder` 데이터셋에서 'Canada'의 연도별 `lifeExp` (기대수명) 변화를 선 그래프로 그려보세요.**\n",
        "\n",
        "  * 데이터 포인트에 마커를 표시하세요.\n",
        "  * 그래프 제목: \"캐나다의 연도별 기대수명 변화\"\n",
        "\n",
        "<!-- end list -->"
      ]
    },
    {
      "cell_type": "code",
      "execution_count": null,
      "metadata": {},
      "outputs": [],
      "source": [
        "# [1-2] 코드 작성 셀\n",
        "canada_df = gapminder_df.query( # YOUR CODE HERE )\n",
        "fig_canada_life_exp = px.line(canada_df,\n",
        "                               x= # YOUR CODE HERE,\n",
        "                               y= # YOUR CODE HERE,\n",
        "                               markers= # YOUR CODE HERE,\n",
        "                               title=\"캐나다의 연도별 기대수명 변화\")\n",
        "fig_canada_life_exp.show()"
      ]
    },
    {
      "cell_type": "markdown",
      "metadata": {},
      "source": [
        "**1-3. `titanic` 데이터셋을 사용하여 `pclass` (객실 등급) 별 승객 수를 나타내는 막대 그래프를 그려보세요.**\n",
        "\n",
        "  * 각 막대의 색상은 `pclass` 별로 다르게 표현하세요.\n",
        "  * 그래프 제목: \"타이타닉 호 객실 등급별 승객 수\"\n",
        "\n",
        "<!-- end list -->"
      ]
    },
    {
      "cell_type": "code",
      "execution_count": null,
      "metadata": {},
      "outputs": [],
      "source": [
        "# [1-3] 코드 작성 셀\n",
        "pclass_counts = titanic_df['pclass'].value_counts().reset_index()\n",
        "pclass_counts.columns = ['pclass', 'count'] # 컬럼명 변경 필요\n",
        "fig_titanic_pclass_bar = px.bar(pclass_counts,\n",
        "                                 x= # YOUR CODE HERE,\n",
        "                                 y= # YOUR CODE HERE,\n",
        "                                 color= # YOUR CODE HERE,\n",
        "                                 title=\"타이타닉 호 객실 등급별 승객 수\",\n",
        "                                 labels={'pclass':'객실 등급', 'count':'승객 수'})\n",
        "fig_titanic_pclass_bar.show()"
      ]
    },
    {
      "cell_type": "markdown",
      "metadata": {},
      "source": [
        "**1-4. `iris` 데이터셋에서 각 `species` (종)의 비율을 나타내는 파이 차트(도넛 형태)를 그려보세요.**\n",
        "\n",
        "  * 도넛의 구멍 크기는 0.3으로 설정하세요.\n",
        "  * 그래프 제목: \"Iris 데이터셋 종별 비율 (도넛 차트)\"\n",
        "\n",
        "<!-- end list -->"
      ]
    },
    {
      "cell_type": "code",
      "execution_count": null,
      "metadata": {},
      "outputs": [],
      "source": [
        "# [1-4] 코드 작성 셀\n",
        "species_counts_iris = iris_df['species'].value_counts().reset_index()\n",
        "species_counts_iris.columns = ['species', 'count']\n",
        "fig_iris_donut = px.pie(species_counts_iris,\n",
        "                        names= # YOUR CODE HERE,\n",
        "                        values= # YOUR CODE HERE,\n",
        "                        hole= # YOUR CODE HERE,\n",
        "                        title=\"Iris 데이터셋 종별 비율 (도넛 차트)\")\n",
        "fig_iris_donut.show()"
      ]
    },
    {
      "cell_type": "markdown",
      "metadata": {
        "id": "-bsmcq7Z9oGr"
      },
      "source": [
        "-----\n",
        "\n",
        "### 4️⃣ 대화형 기능 익히기\n",
        "\n",
        "Plotly의 가장 큰 장점 중 하나는 바로 **대화형(Interactive)** 기능입니다. 사용자는 그래프 위에서 마우스를 움직이거나 클릭하는 등의 행동을 통해 더 많은 정보를 얻거나 그래프의 표현 방식을 바꿀 수 있습니다.\n",
        "\n",
        "#### Hover 정보와 Tooltip 커스터마이징\n",
        "\n",
        "마우스를 데이터 포인트 위에 올렸을 때 나타나는 정보 상자를 **툴팁(Tooltip)** 또는 \\*\\*호버 정보(Hover Information)\\*\\*라고 합니다. Plotly는 기본적으로 유용한 정보를 보여주지만, 이를 사용자가 원하는 대로 변경할 수 있습니다.\n",
        "\n",
        "  * `hover_name`: 각 데이터 포인트의 주요 식별자로 사용될 컬럼을 지정합니다. 툴팁 상단에 굵게 표시됩니다.\n",
        "  * `hover_data`: 툴팁에 추가적으로 표시할 컬럼 리스트를 지정합니다. `{'컬럼명': False}` 형태로 특정 컬럼을 숨길 수도 있고, `{'컬럼명': ':.2f'}` 형태로 포맷팅도 가능합니다.\n",
        "  * `fig.update_traces(hovertemplate=\"...\")`: 툴팁의 내용을 HTML과 유사한 템플릿 문자열로 완전히 재구성할 수 있습니다.\n",
        "      * `%{x}`, `%{y}`: x, y축 값\n",
        "      * `%{customdata[i]}`: `hover_data`나 `custom_data`로 전달된 데이터의 i번째 요소\n",
        "      * `%{text}`: `text` 인자로 전달된 값\n",
        "      * `<extra></extra>`: 불필요한 추가 정보(trace 이름 등)를 숨깁니다.\n",
        "\n",
        "<!-- end list -->"
      ]
    },
    {
      "cell_type": "code",
      "execution_count": 48,
      "metadata": {
        "id": "Qmtqeyv39oGs"
      },
      "outputs": [],
      "source": [
        "# Gapminder 데이터셋 (2007년) 사용\n",
        "gapminder_2007 = px.data.gapminder().query(\"year == 2007\")\n",
        "gapminder_2007.head()"
      ]
    },
    {
      "cell_type": "code",
      "execution_count": 49,
      "metadata": {},
      "outputs": [],
      "source": [
        "# 기본 hover 정보\n",
        "px.scatter(gapminder_2007,\n",
        "    x=\"gdpPercap\",\n",
        "    y=\"lifeExp\",\n",
        "    color=\"continent\",\n",
        "    size=\"pop\",\n",
        "    hover_name=\"country\", # 국가 이름 강조\n",
        "    title=\"기본 Hover 정보\")"
      ]
    },
    {
      "cell_type": "code",
      "execution_count": 50,
      "metadata": {},
      "outputs": [],
      "source": [
        "# hover_data로 추가 정보 표시 및 일부 정보 숨기기\n",
        "px.scatter(gapminder_2007,\n",
        "    x=\"gdpPercap\",\n",
        "    y=\"lifeExp\",\n",
        "    color=\"continent\",\n",
        "    size=\"pop\",\n",
        "    hover_name=\"country\",\n",
        "    # pop은 이미 size로 표현되므로 툴팁에서는 간단히, gdpPercap은 소수점 없이\n",
        "    hover_data={'pop': ':,d', 'gdpPercap': ':.0f', 'continent': True, 'iso_alpha': False},\n",
        "    title=\"hover_data 사용 예시\")"
      ]
    },
    {
      "cell_type": "code",
      "execution_count": 51,
      "metadata": {},
      "outputs": [],
      "source": [
        "# hovertemplate으로 툴팁 완전히 커스터마이징\n",
        "fig_hovertemplate_custom = px.scatter(gapminder_2007,\n",
        "                                     x=\"gdpPercap\",\n",
        "                                     y=\"lifeExp\",\n",
        "                                     color=\"continent\",\n",
        "                                     size=\"pop\",\n",
        "                                     hover_name=\"country\", # 여전히 중요\n",
        "                                     custom_data=['iso_alpha', 'pop'] # custom_data로 값 전달\n",
        "                                    )\n",
        "\n",
        "fig_hovertemplate_custom.update_traces(\n",
        "    hovertemplate=\"<br>\".join([\n",
        "        \"<b>%{hovertext}</b> (%{customdata[0]})\", # hover_name은 %{hovertext}로 접근\n",
        "        \"GDP/Capita: $%{x:,.0f}\",\n",
        "        \"Life Expectancy: %{y:.1f} years\",\n",
        "        \"Population: %{customdata[1]:,d}\",\n",
        "        \"<extra></extra>\" # 추가 정보(trace 이름) 숨기기\n",
        "    ])\n",
        ")\n",
        "fig_hovertemplate_custom.update_layout(title_text=\"hovertemplate을 사용한 완전한 툴팁 커스터마이징\")\n",
        "fig_hovertemplate_custom.show()"
      ]
    },
    {
      "cell_type": "markdown",
      "metadata": {
        "id": "K68QIGOs9oGs"
      },
      "source": [
        "#### 슬라이더, 애니메이션 (`animation_frame`, `animation_group`)\n",
        "\n",
        "Plotly Express를 사용하면 시간의 흐름이나 특정 변수의 변화에 따른 데이터의 동적인 변화를 애니메이션으로 쉽게 표현할 수 있습니다.\n",
        "\n",
        "  * `animation_frame`: 애니메이션의 각 프레임을 구분하는 컬럼을 지정합니다. (예: 연도)\n",
        "  * `animation_group`: 각 프레임에서 동일한 개체로 인식되어 부드럽게 전환될 데이터 포인트를 지정합니다. (예: 국가 이름)\n",
        "  * 애니메이션이 적용된 그래프에는 자동으로 재생/일시정지 버튼과 슬라이더가 추가됩니다.\n",
        "\n",
        "<!-- end list -->"
      ]
    },
    {
      "cell_type": "code",
      "execution_count": 52,
      "metadata": {
        "id": "3oTxFzrF9oGs"
      },
      "outputs": [],
      "source": [
        "# Gapminder 전체 데이터셋으로 애니메이션 산점도 만들기\n",
        "px.scatter(px.data.gapminder(),\n",
        "    x=\"gdpPercap\",\n",
        "    y=\"lifeExp\",\n",
        "    animation_frame=\"year\",    # 연도별로 애니메이션 프레임\n",
        "    animation_group=\"country\", # 국가별로 추적\n",
        "    size=\"pop\",\n",
        "    color=\"continent\",\n",
        "    hover_name=\"country\",\n",
        "    log_x=True,\n",
        "    size_max=55,\n",
        "    range_y=[20, 90],\n",
        "    title=\"연도별 국가별 GDP, 기대수명, 인구 변화 (애니메이션)\")"
      ]
    },
    {
      "cell_type": "markdown",
      "metadata": {
        "id": "fAoBUSSN9oGs"
      },
      "source": [
        "위 그래프에서는 연도별로 각 국가의 GDP, 기대수명, 인구가 어떻게 변하는지 동적으로 확인할 수 있습니다. 슬라이더를 조작하여 특정 연도의 데이터만 볼 수도 있습니다."
      ]
    },
    {
      "cell_type": "markdown",
      "metadata": {},
      "source": [
        "\n",
        "#### 사용자 정의 색상, 스타일 적용\n",
        "\n",
        "Plotly는 다양한 내장 색상 팔레트와 템플릿을 제공하며, 사용자가 직접 색상이나 그래프 스타일을 지정할 수도 있습니다.\n",
        "\n",
        "  * **색상 관련 인자**:\n",
        "\n",
        "      * `color_discrete_sequence`: 범주형 데이터에 대한 색상 순서 리스트. (예: `['red', 'blue', 'green']`)\n",
        "      * `color_discrete_map`: 특정 값에 특정 색상을 매핑. (예: `{'setosa': 'red', 'versicolor': 'blue'}`)\n",
        "      * `color_continuous_scale`: 연속형 데이터에 대한 색상 스케일. (예: `px.colors.sequential.Viridis`)\n",
        "      * `color_continuous_midpoint`: 연속형 색상 스케일의 중간점 값 지정 (Diverging scale 사용 시)."
      ]
    },
    {
      "cell_type": "code",
      "execution_count": 53,
      "metadata": {
        "id": "GySF6hLk9oGs"
      },
      "outputs": [],
      "source": [
        "# Iris 데이터셋으로 사용자 정의 색상 적용\n",
        "px.scatter(iris_df,\n",
        "    x=\"sepal_width\",\n",
        "    y=\"sepal_length\",\n",
        "    color=\"species\",\n",
        "    # 종별로 특정 색상 지정\n",
        "    color_discrete_map={\n",
        "        \"setosa\": \"rgb(255,0,0)\",      # 빨강\n",
        "        \"versicolor\": \"rgba(0,255,0,0.7)\", # 녹색 (투명도 0.7)\n",
        "        \"virginica\": \"blue\"            # 파랑\n",
        "    },\n",
        "    title=\"Iris 데이터셋 - 사용자 정의 색상 (color_discrete_map)\")"
      ]
    },
    {
      "cell_type": "markdown",
      "metadata": {},
      "source": [
        "  * **템플릿 (`template`)**: 그래프의 전반적인 스타일(배경색, 폰트, 색상 등)을 미리 정의된 세트로 변경합니다.\n",
        "\n",
        "      * 사용 가능한 템플릿: `'plotly'`, `'plotly_white'`, `'plotly_dark'`, `'ggplot2'`, `'seaborn'`, `'simple_white'`, `'none'` 등.\n",
        "      * `fig.update_layout(template=\"plotly_dark\")`와 같이 사용합니다.\n",
        "\n",
        "  * **레이아웃 업데이트 (`fig.update_layout`)**: 그래프 제목, 축 제목, 범례 위치, 폰트 크기 등 거의 모든 시각적 요소를 세밀하게 조정할 수 있습니다.\n",
        "\n",
        "<!-- end list -->"
      ]
    },
    {
      "cell_type": "code",
      "execution_count": null,
      "metadata": {},
      "outputs": [],
      "source": [
        "# Tips 데이터셋에 템플릿 및 레이아웃 업데이트 적용\n",
        "fig_template_layout = px.histogram(tips_df,\n",
        "                                   x=\"total_bill\",\n",
        "                                   color=\"sex\",\n",
        "                                   title=\"총 지불액 분포 - 다크 템플릿 및 레이아웃 수정\")\n",
        "\n",
        "fig_template_layout.update_layout(\n",
        "    template=\"plotly_dark\", # 다크 템플릿 적용\n",
        "    bargap=0.1,             # 막대 사이 간격\n",
        "    xaxis_title_text=\"총 지불액 ($)\", # x축 제목 변경\n",
        "    yaxis_title_text=\"빈도수\",       # y축 제목 변경\n",
        "    legend_title_text=\"성별\",       # 범례 제목 변경\n",
        "    title_font_size=20      # 전체 제목 폰트 크기\n",
        ")\n",
        "# fig_template_layout.show()"
      ]
    },
    {
      "cell_type": "markdown",
      "metadata": {},
      "source": [
        "-----\n",
        "\n",
        "### 📝 연습문제 2: 대화형 기능 및 커스터마이징\n",
        "\n",
        "**2-1. `gapminder` 데이터셋에서 2007년도 데이터를 사용하여 다음 조건의 산점도를 만들고, 툴팁을 커스터마이징 해보세요.**\n",
        "\n",
        "  * x축: `gdpPercap` (로그 스케일)\n",
        "  * y축: `lifeExp`\n",
        "  * 색상: `continent`\n",
        "  * 점 크기: `pop` (최대 크기 60)\n",
        "  * 툴팁 내용:\n",
        "      * 국가명 (굵게)\n",
        "      * 대륙명\n",
        "      * 1인당 GDP: $ 값 (소수점 없이, 천 단위 콤마)\n",
        "      * 기대 수명: 값 years (소수점 한 자리)\n",
        "      * 인구: 값 명 (천 단위 콤마)\n",
        "      * 불필요한 trace 정보는 숨기세요.\n",
        "  * 그래프 제목: \"2007년 국가별 GDP와 기대수명 (커스텀 툴팁)\"\n",
        "\n",
        "<!-- end list -->"
      ]
    },
    {
      "cell_type": "code",
      "execution_count": null,
      "metadata": {},
      "outputs": [],
      "source": [
        "# [2-1] 코드 작성 셀\n",
        "gapminder_2007 = gapminder_df.query(\"year == 2007\")\n",
        "fig_custom_tooltip = px.scatter(gapminder_2007,\n",
        "                                x=\"gdpPercap\",\n",
        "                                y=\"lifeExp\",\n",
        "                                color=\"continent\",\n",
        "                                size=\"pop\",\n",
        "                                hover_name=\"country\",\n",
        "                                log_x=True,\n",
        "                                size_max=60,\n",
        "                                custom_data=['continent', 'pop'], # 필요시 custom_data 활용\n",
        "                                title=\"2007년 국가별 GDP와 기대수명 (커스텀 툴팁)\")\n",
        "\n",
        "fig_custom_tooltip.update_traces(\n",
        "    hovertemplate= # YOUR CODE HERE (HTML 유사 문자열 사용)\n",
        ")\n",
        "fig_custom_tooltip.show()"
      ]
    },
    {
      "cell_type": "markdown",
      "metadata": {},
      "source": [
        "**2-2. `gapminder` 데이터셋 전체를 사용하여, 대륙(`continent`)별로 연도(`year`)에 따른 평균 `gdpPercap` 변화를 애니메이션 선 그래프로 그려보세요.**\n",
        "\n",
        "  * `animation_group`을 `continent`로 설정하여 각 대륙의 선이 부드럽게 이어지도록 하세요.\n",
        "  * y축 범위는 0부터 40000까지로 설정하세요.\n",
        "  * 그래프 제목: \"대륙별 연간 평균 GDP 변화 (애니메이션)\"\n",
        "\n",
        "<!-- end list -->"
      ]
    },
    {
      "cell_type": "code",
      "execution_count": null,
      "metadata": {},
      "outputs": [],
      "source": [
        "# [2-2] 코드 작성 셀\n",
        "# 먼저 대륙별, 연도별 평균 gdpPercap 계산\n",
        "continent_yearly_gdp = gapminder_df.groupby(['continent', 'year'], as_index=False)['gdpPercap'].mean()\n",
        "\n",
        "fig_animated_line_gdp = px.line(continent_yearly_gdp,\n",
        "                                x='year',\n",
        "                                y='gdpPercap',\n",
        "                                color='continent',\n",
        "                                animation_frame='year',\n",
        "                                animation_group='continent', # 각 대륙의 선이 이어지도록\n",
        "                                range_y=[0, 40000],\n",
        "                                title=\"대륙별 연간 평균 GDP 변화 (애니메이션)\")\n",
        "fig_animated_line_gdp.show()"
      ]
    },
    {
      "cell_type": "markdown",
      "metadata": {},
      "source": [
        "**2-3. `tips` 데이터셋을 사용하여 요일(`day`)별 평균 팁(`tip`)을 나타내는 막대 그래프를 그리고, `plotly_dark` 템플릿을 적용한 후, x축과 y축의 제목을 각각 \"요일\", \"평균 팁 ($)\"으로 변경하세요.**\n",
        "\n",
        "  * 막대 색상은 `px.colors.qualitative.Pastel` 을 사용하세요.\n",
        "\n",
        "<!-- end list -->"
      ]
    },
    {
      "cell_type": "markdown",
      "metadata": {
        "id": "dYIUAP6V9oGs"
      },
      "source": [
        "-----\n",
        "\n",
        "### 5️⃣ 심화 시각화\n",
        "\n",
        "Plotly Express는 기본 차트 외에도 다양한 고급 시각화 기법을 지원합니다. 이러한 차트들은 다차원적이거나 계층적인 데이터를 효과적으로 표현하는 데 유용합니다.\n",
        "\n",
        "#### 계층형 차트 (Treemap, Sunburst)\n",
        "\n",
        "계층 구조를 가진 데이터를 시각화하는 데 적합합니다.\n",
        "\n",
        "  * **트리맵 (`px.treemap`)**: 사각형의 크기와 색상을 사용하여 계층 구조 내의 각 항목의 값과 그룹을 표현합니다. 공간 활용도가 높습니다.\n",
        "\n",
        "      * **주요 인자**: `path` (계층 경로를 나타내는 컬럼 리스트), `values` (사각형 크기 결정 컬럼), `color` (사각형 색상 결정 컬럼).\n",
        "\n",
        "  * **선버스트 (`px.sunburst`)**: 트리맵과 유사하지만, 방사형 레이아웃을 사용합니다. 중심에서 바깥으로 퍼져나가는 형태로 계층을 표현합니다.\n",
        "\n",
        "      * **주요 인자**: `path`, `values`, `color`."
      ]
    },
    {
      "cell_type": "code",
      "execution_count": 56,
      "metadata": {
        "id": "xv-L3uT99oGs"
      },
      "outputs": [],
      "source": [
        "# Gapminder 데이터셋 (2007년)으로 대륙-국가 계층 트리맵 (인구 기준)\n",
        "gapminder_2007 = px.data.gapminder().query(\"year == 2007\")\n",
        "px.treemap(gapminder_2007,\n",
        "    path=[px.Constant(\"World\"), 'continent', 'country'], # 계층: World -> continent -> country\n",
        "    values='pop',          # 인구수로 크기 결정\n",
        "    color='lifeExp',       # 기대수명으로 색상 결정\n",
        "    hover_data=['iso_alpha'],\n",
        "    color_continuous_scale='RdBu',\n",
        "    title='2007년 전 세계 국가별 인구 트리맵 (기대수명으로 색상 구분)')"
      ]
    },
    {
      "cell_type": "markdown",
      "metadata": {},
      "source": [
        "  * **선버스트 (`px.sunburst`)**: 트리맵과 유사하지만, 방사형 레이아웃을 사용합니다. 중심에서 바깥으로 퍼져나가는 형태로 계층을 표현합니다.\n",
        "\n",
        "      * **주요 인자**: `path`, `values`, `color`."
      ]
    },
    {
      "cell_type": "code",
      "execution_count": 57,
      "metadata": {},
      "outputs": [],
      "source": [
        "# Tips 데이터셋으로 요일-시간-성별에 따른 팁 금액 선버스트 차트\n",
        "tips_df = px.data.tips()\n",
        "px.sunburst(tips_df,\n",
        "    path=['day', 'time', 'sex'], # 계층: 요일 -> 시간 -> 성별\n",
        "    values='tip',               # 팁 금액으로 크기 결정\n",
        "    color='total_bill',         # 총 지불액으로 색상 결정\n",
        "    title='요일/시간/성별에 따른 팁 금액 선버스트')"
      ]
    },
    {
      "cell_type": "markdown",
      "metadata": {
        "id": "6tea89ZC9oGs"
      },
      "source": [
        "#### 다차원 차트 (Scatter Matrix, Parallel Coordinates)\n",
        "\n",
        "여러 변수 간의 관계를 동시에 탐색하는 데 사용됩니다.\n",
        "\n",
        "  * **산점도 행렬 (`px.scatter_matrix`)**: 데이터프레임의 지정된 숫자형 변수들에 대해 모든 쌍의 산점도를 행렬 형태로 보여줍니다. 대각선에는 각 변수의 히스토그램이나 KDE 플롯을 표시할 수 있습니다.\n",
        "\n",
        "      * **주요 인자**: `dimensions` (포함할 변수 리스트), `color` (점 색상 구분)."
      ]
    },
    {
      "cell_type": "code",
      "execution_count": null,
      "metadata": {
        "id": "ly_IF2ro9oGs"
      },
      "outputs": [],
      "source": [
        "# Iris 데이터셋으로 산점도 행렬\n",
        "iris_df = px.data.iris()\n",
        "px.scatter_matrix(iris_df,\n",
        "    dimensions=[\"sepal_width\", \"sepal_length\", \"petal_width\", \"petal_length\"],\n",
        "    color=\"species\",\n",
        "    title=\"Iris 데이터셋 변수 간 산점도 행렬\")"
      ]
    },
    {
      "cell_type": "markdown",
      "metadata": {},
      "source": [
        "  * **평행 좌표계 (`px.parallel_coordinates`)**: 각 변수를 평행한 수직축으로 나타내고, 각 데이터 포인트를 이 축들을 가로지르는 선으로 연결합니다. 다차원 데이터의 패턴이나 군집을 파악하는 데 도움이 됩니다.\n",
        "\n",
        "      * **주요 인자**: `dimensions`, `color` (선 색상 구분)."
      ]
    },
    {
      "cell_type": "code",
      "execution_count": null,
      "metadata": {},
      "outputs": [],
      "source": [
        "# Iris 데이터셋으로 평행 좌표계\n",
        "px.parallel_coordinates(iris_df,\n",
        "    color=\"species_id\", # 숫자형 ID로 색상 구분\n",
        "    dimensions=['sepal_width', 'sepal_length', 'petal_width', 'petal_length'],\n",
        "    color_continuous_scale=px.colors.diverging.Tealrose,\n",
        "    title=\"Iris 데이터셋 평행 좌표계\")"
      ]
    },
    {
      "cell_type": "markdown",
      "metadata": {
        "id": "8-yNSvgX9oGs"
      },
      "source": [
        "#### 시계열 시각화 (Line + Slider, Candlestick)\n",
        "\n",
        "시간에 따라 변하는 데이터를 시각화합니다.\n",
        "\n",
        "  * **선 그래프와 슬라이더**: 앞서 애니메이션에서 본 것처럼, `px.line`과 `animation_frame`을 결합하거나, `plotly.graph_objects`를 사용하여 레인지 슬라이더를 추가할 수 있습니다."
      ]
    },
    {
      "cell_type": "code",
      "execution_count": 63,
      "metadata": {
        "id": "bMp80I_f9oGs"
      },
      "outputs": [],
      "source": [
        "# Plotly 내장 주식 데이터 사용 (Apple)\n",
        "df_stocks = px.data.stocks()\n",
        "df_stocks.head()"
      ]
    },
    {
      "cell_type": "code",
      "execution_count": 64,
      "metadata": {},
      "outputs": [],
      "source": [
        "# Apple 주식 데이터 선 그래프 (간단한 시계열)\n",
        "fig_line_apple_stock = px.line(df_stocks, x='date', y='AAPL', title='Apple 주가 변동 (선 그래프)')\n",
        "fig_line_apple_stock.update_xaxes(rangeslider_visible=True) # x축에 레인지 슬라이더 추가\n",
        "# fig_line_apple_stock.show()\n"
      ]
    },
    {
      "cell_type": "markdown",
      "metadata": {},
      "source": [
        "* **캔들스틱 차트 (`go.Candlestick`)**: 주가 데이터와 같이 시가, 고가, 저가, 종가를 표현하는 데 특화된 차트입니다. Plotly Express에는 직접적인 캔들스틱 함수가 없지만, `plotly.graph_objects`를 사용하면 쉽게 만들 수 있습니다."
      ]
    },
    {
      "cell_type": "code",
      "execution_count": 62,
      "metadata": {},
      "outputs": [],
      "source": [
        "# 캔들스틱 차트 (plotly.graph_objects 사용)\n",
        "# GOOG (Google) 주식에 대한 캔들스틱\n",
        "fig_candlestick_goog = go.Figure(data=[go.Candlestick(x=df_stocks['date'],\n",
        "                                                   open=df_stocks['GOOG'],\n",
        "                                                   high=df_stocks['GOOG'] * 1.05, # 임의로 고가 설정 (데이터 없으므로)\n",
        "                                                   low=df_stocks['GOOG'] * 0.95,  # 임의로 저가 설정\n",
        "                                                   close=df_stocks['GOOG'] + (df_stocks['GOOG'].diff()), # 종가는 시가 + 변화량 (임의)\n",
        "                                                   name=\"GOOG\")])\n",
        "fig_candlestick_goog.update_layout(title='Google 주가 (캔들스틱 차트 - 임의 데이터)',\n",
        "                                 xaxis_title='날짜',\n",
        "                                 yaxis_title='주가 ($)',\n",
        "                                 xaxis_rangeslider_visible=False) # 캔들스틱은 자체 레인지 슬라이더 있음\n",
        "# fig_candlestick_goog.show()"
      ]
    },
    {
      "cell_type": "markdown",
      "metadata": {
        "id": "44T7yeyI9oGs"
      },
      "source": [
        "*주의: `px.data.stocks()`에는 시/고/저/종가 정보가 모두 있지는 않아 위 예제에서는 임의로 값을 생성했습니다. 실제 캔들스틱 차트를 그릴 때는 해당 정보가 포함된 데이터셋을 사용해야 합니다.*"
      ]
    },
    {
      "cell_type": "markdown",
      "metadata": {},
      "source": [
        "#### 지리 시각화 (Choropleth, Scattergeo)\n",
        "\n",
        "지리적 위치와 관련된 데이터를 지도 위에 표현합니다.\n",
        "\n",
        "  * **단계 구분도 (`px.choropleth`)**: 특정 지역(국가, 주, 도시 등)을 값에 따라 다른 색상으로 채워 표현합니다.\n",
        "\n",
        "      * **주요 인자**: `locations` (지역 이름 또는 코드), `locationmode` (지역명의 종류, 예: 'ISO-3', 'USA-states'), `geojson` (사용자 정의 지역 경계 파일), `color` (색상 결정 컬럼), `scope` (지도 범위, 예: 'world', 'usa', 'europe')."
      ]
    },
    {
      "cell_type": "code",
      "execution_count": 65,
      "metadata": {
        "id": "JxGOWvF69oGs"
      },
      "outputs": [],
      "source": [
        "# Gapminder 데이터셋 (2007년)으로 국가별 기대수명 단계 구분도\n",
        "gapminder_2007 = px.data.gapminder().query(\"year == 2007\")\n",
        "gapminder_2007.head()"
      ]
    },
    {
      "cell_type": "code",
      "execution_count": 66,
      "metadata": {},
      "outputs": [],
      "source": [
        "px.choropleth(gapminder_2007,\n",
        "    locations=\"iso_alpha\",    # 국가 ISO 알파-3 코드\n",
        "    color=\"lifeExp\",          # 기대수명으로 색상 결정\n",
        "    hover_name=\"country\",     # 마우스 오버 시 국가 이름\n",
        "    color_continuous_scale=px.colors.sequential.Plasma,\n",
        "    title=\"2007년 국가별 기대수명 단계 구분도\")"
      ]
    },
    {
      "cell_type": "markdown",
      "metadata": {},
      "source": [
        "  * **지리 산점도 (`px.scatter_geo`)**: 지도 위에 위도/경도 좌표를 사용하여 점으로 데이터를 표시합니다. 점의 크기나 색상으로 추가 정보를 나타낼 수 있습니다.\n",
        "\n",
        "      * **주요 인자**: `lat` (위도 컬럼), `lon` (경도 컬럼), `locations` (점 대신 지역 ID로 매핑 시), `color`, `size`.\n"
      ]
    },
    {
      "cell_type": "code",
      "execution_count": 67,
      "metadata": {},
      "outputs": [],
      "source": [
        "# (예시) 미국 도시 인구 데이터 (임의 생성)\n",
        "us_cities_data = {\n",
        "    'city': ['New York', 'Los Angeles', 'Chicago', 'Houston', 'Phoenix'],\n",
        "    'lat': [40.7128, 34.0522, 41.8781, 29.7604, 33.4484],\n",
        "    'lon': [-74.0060, -118.2437, -87.6298, -95.3698, -112.0740],\n",
        "    'population': [8399000, 3990000, 2706000, 2320000, 1680000]\n",
        "}\n",
        "df_us_cities = pd.DataFrame(us_cities_data)\n",
        "df_us_cities.head()"
      ]
    },
    {
      "cell_type": "code",
      "execution_count": 69,
      "metadata": {},
      "outputs": [],
      "source": [
        "px.scatter_geo(df_us_cities,\n",
        "    lat='lat',\n",
        "    lon='lon',\n",
        "    size='population',\n",
        "    color='population',\n",
        "    hover_name='city',\n",
        "    projection=\"albers usa\",  # 미국 지도 투영법 (projection_type이 아니라 projection을 사용)\n",
        "    title=\"미국 주요 도시 인구 지리 산점도\"\n",
        ")"
      ]
    },
    {
      "cell_type": "markdown",
      "metadata": {
        "id": "ogqC6f_R9oGs"
      },
      "source": [
        "-----\n",
        "\n",
        "### 6️⃣ 3D 시각화 실습\n",
        "\n",
        "Plotly는 2D 그래프뿐만 아니라 3차원 공간에 데이터를 시각화하는 기능도 강력하게 지원합니다. 이를 통해 데이터의 또 다른 차원을 탐색할 수 있습니다. `plotly.express`와 `plotly.graph_objects` 모두 3D 시각화를 지원합니다.\n",
        "\n",
        "#### 3D 산점도 (`px.scatter_3d`)\n",
        "\n",
        "세 개의 변수 간의 관계를 3차원 공간에 점으로 표현합니다. 점의 색상이나 크기를 사용하여 네 번째, 다섯 번째 변수까지도 나타낼 수 있습니다.\n",
        "\n",
        "  * **주요 인자**: `x`, `y`, `z`, `color`, `size`, `symbol`, `hover_name`.\n",
        "\n",
        "<!-- end list -->"
      ]
    },
    {
      "cell_type": "code",
      "execution_count": 70,
      "metadata": {
        "id": "HMusTy0b9oGs"
      },
      "outputs": [],
      "source": [
        "# Iris 데이터셋으로 3D 산점도\n",
        "iris_df = px.data.iris()\n",
        "iris_df.head()\n"
      ]
    },
    {
      "cell_type": "code",
      "execution_count": null,
      "metadata": {},
      "outputs": [],
      "source": [
        "fig_3d_scatter = px.scatter_3d(iris_df,\n",
        "                               x='sepal_length',\n",
        "                               y='sepal_width',\n",
        "                               z='petal_width',\n",
        "                               color='species',      # 종별로 색상 구분\n",
        "                               size='petal_length',  # 꽃잎 길이로 점 크기 구분\n",
        "                               symbol='species',     # 종별로 점 모양 구분\n",
        "                               title=\"Iris 데이터셋 3D 산점도 (꽃받침 길이/너비, 꽃잎 너비)\")\n",
        "fig_3d_scatter.update_layout(\n",
        "    scene=dict(\n",
        "        xaxis_title='꽃받침 길이 (Sepal Length)',\n",
        "        yaxis_title='꽃받침 너비 (Sepal Width)',\n",
        "        zaxis_title='꽃잎 너비 (Petal Width)'\n",
        "    ),\n",
        "    width=1000,    #  가로 크기\n",
        "    height=800     # 세로 크기\n",
        ")\n",
        "# fig_3d_scatter.show()"
      ]
    },
    {
      "cell_type": "markdown",
      "metadata": {
        "id": "rN68hAah9oGs"
      },
      "source": [
        "그래프를 마우스로 드래그하여 회전시키거나 휠을 사용하여 확대/축소할 수 있습니다."
      ]
    },
    {
      "cell_type": "markdown",
      "metadata": {},
      "source": [
        "\n",
        "#### 3D 표면 그래프 (`go.Surface`)\n",
        "\n",
        "3차원 표면을 그려 (x, y) 좌표에 대한 z값의 변화를 시각화합니다. 주로 함수 $z = f(x, y)$를 표현하거나, 그리드 형태의 3D 데이터를 시각화하는 데 사용됩니다. \n",
        "\n",
        "Plotly Express에는 직접적인 `surface` 함수가 없으므로, `plotly.graph_objects`를 사용합니다.\n",
        "\n",
        "  * **주요 인자**: `x`, `y`, `z` (2D 배열 형태의 z값), `colorscale` (색상 맵).\n",
        "\n",
        "<!-- end list -->"
      ]
    },
    {
      "cell_type": "code",
      "execution_count": 76,
      "metadata": {
        "id": "C_lcRezq9oGs"
      },
      "outputs": [],
      "source": [
        "import numpy as np\n",
        "\n",
        "# 샘플 3D 표면 데이터 생성\n",
        "x_surf = np.linspace(-5, 5, 50)\n",
        "y_surf = np.linspace(-5, 5, 50)\n",
        "X_surf, Y_surf = np.meshgrid(x_surf, y_surf)\n",
        "Z_surf = np.sin(np.sqrt(X_surf**2 + Y_surf**2)) # z = sin(sqrt(x^2 + y^2))\n",
        "\n",
        "fig_3d_surface = go.Figure(data=[go.Surface(z=Z_surf, x=X_surf, y=Y_surf, colorscale='Viridis')])\n",
        "fig_3d_surface.update_layout(\n",
        "    title='3D 표면 그래프 (z = sin(sqrt(x^2 + y^2)))',\n",
        "    scene=dict(\n",
        "        xaxis_title='X축',\n",
        "        yaxis_title='Y축',\n",
        "        zaxis_title='Z축 (sin 값)'),\n",
        "    width=1000,\n",
        "    height=800\n",
        ")\n",
        "fig_3d_surface.show()"
      ]
    },
    {
      "cell_type": "markdown",
      "metadata": {
        "id": "-aNZOvrz9oGs"
      },
      "source": [
        "#### 3D Mesh 및 Volume (`go.Mesh3d`, `go.Volume`)\n",
        "\n",
        "  * **3D Mesh (`go.Mesh3d`)**: 3차원 공간에서 정점(vertices)과 이 정점들을 연결하는 면(faces)으로 구성된 객체를 표현합니다. CAD 모델, 지형 데이터 등을 시각화할 수 있습니다."
      ]
    },
    {
      "cell_type": "code",
      "execution_count": 78,
      "metadata": {
        "id": "5CQdWvBu9oGt"
      },
      "outputs": [],
      "source": [
        "# 3D Mesh 예시 (간단한 정육면체)\n",
        "# plotly.graph_objects를 사용합니다.\n",
        "fig_mesh_cube = go.Figure(data=[\n",
        "    go.Mesh3d(\n",
        "        # 정점 좌표\n",
        "        x=[0, 0, 1, 1, 0, 0, 1, 1],\n",
        "        y=[0, 1, 1, 0, 0, 1, 1, 0],\n",
        "        z=[0, 0, 0, 0, 1, 1, 1, 1],\n",
        "        # 면을 구성하는 정점 인덱스 (삼각형으로 분할)\n",
        "        i = [7, 0, 0, 0, 4, 4, 6, 6, 4, 0, 3, 2],\n",
        "        j = [3, 4, 1, 2, 5, 6, 5, 2, 0, 1, 6, 3],\n",
        "        k = [0, 7, 2, 3, 6, 7, 2, 5, 1, 2, 7, 5],\n",
        "        opacity=0.6,\n",
        "        color='cyan',\n",
        "        flatshading = True # 면을 평평하게 렌더링\n",
        "    )\n",
        "])\n",
        "fig_mesh_cube.update_layout(\n",
        "    title=\"3D Mesh 예시: 정육면체\",\n",
        "    scene=dict(xaxis_title=\"X\", yaxis_title=\"Y\", zaxis_title=\"Z\"),\n",
        "    width=1000,\n",
        "    height=800\n",
        ")\n",
        "# fig_mesh_cube.show()"
      ]
    },
    {
      "cell_type": "markdown",
      "metadata": {},
      "source": [
        "  * **Volume Rendering (`go.Volume`)**: 3차원 스칼라 필드(예: 의료 영상 데이터 MRI, CT 스캔)의 내부 구조를 시각화합니다. 밀도에 따라 다른 색상과 투명도를 부여하여 표현합니다.\n",
        "\n",
        "이들은 다소 고급 주제이며, 특정 형식의 데이터(정점, 면 정보 또는 3D 그리드 볼륨 데이터)를 필요로 합니다. 여기서는 간단한 개념만 소개합니다."
      ]
    },
    {
      "cell_type": "code",
      "execution_count": 79,
      "metadata": {},
      "outputs": [],
      "source": [
        "# 3D Volume Rendering 예시 (랜덤 데이터)\n",
        "# plotly.graph_objects를 사용합니다.\n",
        "X_vol, Y_vol, Z_vol = np.mgrid[-2:2:20j, -2:2:20j, -2:2:20j] # 20x20x20 그리드\n",
        "values_vol = np.sin(X_vol*Y_vol*Z_vol) / (X_vol*Y_vol*Z_vol) # 볼륨 데이터\n",
        "\n",
        "fig_volume = go.Figure(data=go.Volume(\n",
        "    x=X_vol.flatten(),\n",
        "    y=Y_vol.flatten(),\n",
        "    z=Z_vol.flatten(),\n",
        "    value=values_vol.flatten(),\n",
        "    isomin=0.1,         # 표시할 최소 표면 값\n",
        "    isomax=0.8,         # 표시할 최대 표면 값\n",
        "    opacity=0.1,        # 전체적인 불투명도\n",
        "    surface_count=17,   # 표면 개수 (렌더링 품질)\n",
        "    colorscale='RdBu'\n",
        "    ))\n",
        "fig_volume.update_layout(title=\"3D Volume Rendering 예시 (랜덤 데이터)\",\n",
        "                       scene_xaxis_showticklabels=False,\n",
        "                       scene_yaxis_showticklabels=False,\n",
        "                       scene_zaxis_showticklabels=False)\n",
        "fig_volume.show()"
      ]
    },
    {
      "cell_type": "markdown",
      "metadata": {
        "id": "vMUE8nw29oGt"
      },
      "source": [
        "#### 피카츄 3D 시각화\n",
        "- 3d 모델 파일을 불러오서 3d 그래프로 시각화\n",
        "- 모델 파일은 3d 모델 파일을 불러오는 라이브러리인 trimesh를 사용하여 불러올 수 있습니다.\n",
        "- 3D 모델 제공 사이트 : Sketchfab ( https://sketchfab.com/3d-models/popular )"
      ]
    },
    {
      "cell_type": "code",
      "execution_count": null,
      "metadata": {},
      "outputs": [],
      "source": [
        "!pip install trimesh"
      ]
    },
    {
      "cell_type": "code",
      "execution_count": 118,
      "metadata": {},
      "outputs": [],
      "source": [
        "import trimesh\n",
        "mesh = trimesh.load('datasets/Pikachu.obj', force='mesh')   \n",
        "x, y, z = mesh.vertices.T\n",
        "i, j, k = mesh.faces.T\n",
        "fig = go.Figure(go.Mesh3d(x=x, y=y, z=z, i=i, j=j, k=k,\n",
        "                          color='yellow', flatshading=True))\n",
        "fig.update_layout(scene_aspectmode='data', height=800, width=1000).show()"
      ]
    },
    {
      "cell_type": "code",
      "execution_count": null,
      "metadata": {},
      "outputs": [],
      "source": [
        "avg_tip_by_day_tips = tips_df.groupby('day', as_index=False)['tip'].mean()\n",
        "# 요일 순서 정렬 (선택 사항이지만 권장)\n",
        "day_order = [\"Thur\", \"Fri\", \"Sat\", \"Sun\"]\n",
        "avg_tip_by_day_tips['day'] = pd.Categorical(avg_tip_by_day_tips['day'], categories=day_order, ordered=True)\n",
        "avg_tip_by_day_tips = avg_tip_by_day_tips.sort_values('day')\n",
        "\n",
        "\n",
        "fig_custom_style_bar = px.bar(avg_tip_by_day_tips,\n",
        "                              x='day',\n",
        "                              y='tip',\n",
        "                              title=\"요일별 평균 팁 (다크 템플릿, 커스텀 스타일)\",\n",
        "                              color_discrete_sequence=px.colors.qualitative.Pastel # 색상 지정\n",
        "                             )\n",
        "\n",
        "fig_custom_style_bar.update_layout(\n",
        "    template= # YOUR CODE HERE,\n",
        "    xaxis_title_text= # YOUR CODE HERE,\n",
        "    yaxis_title_text= # YOUR CODE HERE\n",
        ")\n",
        "fig_custom_style_bar.show()"
      ]
    },
    {
      "cell_type": "markdown",
      "metadata": {},
      "source": [
        "\n",
        "-----\n",
        "\n",
        "### 7️⃣ 서브플롯과 복합 레이아웃\n",
        "\n",
        "때로는 여러 그래프를 한 화면에 함께 배치하여 비교하거나, 하나의 그래프 내에 다양한 정보를 복합적으로 표현해야 할 필요가 있습니다. Plotly는 `make_subplots` 함수와 `Figure` 객체의 다양한 레이아웃 옵션을 통해 이러한 요구사항을 충족시켜 줍니다.\n",
        "\n",
        "#### 여러 그래프를 한 화면에 (`make_subplots`)\n",
        "\n",
        "`plotly.subplots.make_subplots` 함수를 사용하면 그리드(행과 열) 형태의 레이아웃을 만들고 각 셀에 다른 종류의 그래프(트레이스)를 추가할 수 있습니다.\n",
        "\n",
        "  * **주요 인자**:\n",
        "      * `rows`, `cols`: 서브플롯 그리드의 행과 열 개수.\n",
        "      * `subplot_titles`: 각 서브플롯의 제목 리스트.\n",
        "      * `specs`: 각 서브플롯의 유형을 지정 (예: 3D, 지도, 보조 y축 등).\n",
        "        `[[{\"type\": \"xy\"}, {\"type\": \"polar\"}], [{\"type\": \"domain\"}, {\"type\": \"scene\"}]]`\n",
        "      * `shared_xaxes`, `shared_yaxes`: 축 공유 여부.\n",
        "  * `fig.add_trace(trace, row=r, col=c)`: 생성된 Figure 객체에 트레이스를 추가하면서 위치(행, 열)를 지정합니다.\n",
        "\n",
        "<!-- end list -->"
      ]
    },
    {
      "cell_type": "code",
      "execution_count": 119,
      "metadata": {
        "id": "Z9YKN7Jf9oGt"
      },
      "outputs": [],
      "source": [
        "# Iris 데이터셋 사용\n",
        "iris_df = px.data.iris()\n",
        "setosa = iris_df[iris_df['species'] == 'setosa']\n",
        "versicolor = iris_df[iris_df['species'] == 'versicolor']\n",
        "virginica = iris_df[iris_df['species'] == 'virginica']\n",
        "\n",
        "# 2x2 서브플롯 생성\n",
        "fig_subplots = make_subplots(rows=2, cols=2,\n",
        "                             subplot_titles=(\"Sepal Length vs Sepal Width (Setosa)\",\n",
        "                                             \"Petal Length vs Petal Width (All)\",\n",
        "                                             \"Species Count (Pie)\",\n",
        "                                             \"Sepal Length Distribution (Versicolor)\"),\n",
        "                             specs=[[{\"type\": \"scatter\"}, {\"type\": \"scatter\"}], # 1행: 둘 다 일반 산점도\n",
        "                                    [{\"type\": \"domain\"}, {\"type\": \"histogram\"}]]) # 2행: 파이차트, 히스토그램\n",
        "\n",
        "# 첫 번째 서브플롯 (1행 1열): Setosa 산점도\n",
        "fig_subplots.add_trace(go.Scatter(x=setosa['sepal_length'], y=setosa['sepal_width'], mode='markers', name='Setosa'),\n",
        "                       row=1, col=1)\n",
        "\n",
        "# 두 번째 서브플롯 (1행 2열): 전체 종에 대한 꽃잎 산점도 (Plotly Express 사용 불가, go 사용)\n",
        "for species, color in zip(iris_df['species'].unique(), px.colors.qualitative.Plotly):\n",
        "    species_df = iris_df[iris_df['species'] == species]\n",
        "    fig_subplots.add_trace(go.Scatter(x=species_df['petal_length'], y=species_df['petal_width'],\n",
        "                                      mode='markers', name=species, marker_color=color, legendgroup='g1'),\n",
        "                           row=1, col=2)\n",
        "\n",
        "\n",
        "# 세 번째 서브플롯 (2행 1열): 종별 개수 파이 차트\n",
        "species_counts = iris_df['species'].value_counts()\n",
        "fig_subplots.add_trace(go.Pie(labels=species_counts.index, values=species_counts.values, name='Species Dist.'),\n",
        "                       row=2, col=1)\n",
        "\n",
        "# 네 번째 서브플롯 (2행 2열): Versicolor 꽃받침 길이 히스토그램\n",
        "fig_subplots.add_trace(go.Histogram(x=versicolor['sepal_length'], name='Versicolor Sepal Length', marker_color='green'),\n",
        "                       row=2, col=2)\n",
        "\n",
        "# 전체 레이아웃 업데이트\n",
        "fig_subplots.update_layout(height=700, title_text=\"Iris 데이터셋 복합 서브플롯\", showlegend=False)\n",
        "fig_subplots.show()"
      ]
    },
    {
      "cell_type": "markdown",
      "metadata": {
        "id": "tGh-xVtr9oGt"
      },
      "source": [
        "#### 보조 Y축, Faceting, Layout 설정\n",
        "\n",
        "  * **보조 Y축 (`secondary_y`)**: 하나의 x축에 대해 서로 다른 스케일을 가진 두 개의 y축을 표시할 때 유용합니다. `make_subplots`의 `specs` 인자에서 `{\"secondary_y\": True}`로 설정하고, 트레이스를 추가할 때 `secondary_y=True` 옵션을 사용합니다."
      ]
    },
    {
      "cell_type": "code",
      "execution_count": 125,
      "metadata": {
        "id": "9la1d6Dt9oGw"
      },
      "outputs": [],
      "source": [
        "# 보조 Y축 예시: 주가와 거래량\n",
        "df_stocks = px.data.stocks(indexed=True) # 날짜를 인덱스로\n",
        "df_stocks.head()\n"
      ]
    },
    {
      "cell_type": "code",
      "execution_count": 127,
      "metadata": {},
      "outputs": [],
      "source": [
        "fig_secondary_y = make_subplots(specs=[[{\"secondary_y\": True}]])\n",
        "\n",
        "# GOOG 주가 (기본 Y축)\n",
        "fig_secondary_y.add_trace(\n",
        "    go.Scatter(x=df_stocks.index, y=df_stocks['GOOG'], name=\"GOOG 주가\"),\n",
        "    secondary_y=False,\n",
        ")\n",
        "# AMZN 거래량 (보조 Y축) - 거래량 데이터는 없으므로 주가로 대체하여 스케일만 다르게 표현\n",
        "fig_secondary_y.add_trace(\n",
        "    go.Bar(\n",
        "        x=df_stocks.index, \n",
        "        y=df_stocks['AMZN']*10000, \n",
        "        name=\"AMZN 거래량 (임의)\", \n",
        "        opacity=0.5  # 투명도 적용\n",
        "    ), \n",
        "    secondary_y=True,\n",
        ")\n",
        "fig_secondary_y.update_layout(title_text=\"주가와 거래량 (보조 Y축 예시)\")\n",
        "fig_secondary_y.update_yaxes(title_text=\"<b>기본 Y축</b> 주가 ($)\", secondary_y=False)\n",
        "fig_secondary_y.update_yaxes(title_text=\"<b>보조 Y축</b> 거래량\", secondary_y=True, range=[0, df_stocks['AMZN'].max()*15000]) # 범위 조정\n",
        "fig_secondary_y.show()"
      ]
    },
    {
      "cell_type": "markdown",
      "metadata": {},
      "source": [
        "\n",
        "  * **Faceting (`facet_row`, `facet_col`)**: Plotly Express에서 범주형 변수의 각 값에 대해 별도의 서브플롯을 자동으로 생성하는 기능입니다.\n",
        "\n",
        "      * `facet_row`: 지정된 컬럼의 고유값마다 새로운 행에 서브플롯을 만듭니다.\n",
        "      * `facet_col`: 지정된 컬럼의 고유값마다 새로운 열에 서브플롯을 만듭니다.\n",
        "      * `facet_col_wrap`: `facet_col` 사용 시 한 행에 표시할 최대 서브플롯 개수를 지정합니다.\n",
        "\n",
        "  * **Layout 설정 (`fig.update_layout()`)**: 서브플롯을 사용할 때도 `update_layout`을 통해 전체 제목, 각 축의 제목, 범례, 폰트, 색상, 간격 등을 세밀하게 조정할 수 있습니다.\n",
        "\n",
        "      * 특정 축을 지정할 때는 `xaxis_title`, `yaxis2_title` (보조 y축의 경우 `yaxis2`), `xaxis3_title` (다른 서브플롯의 x축) 등과 같이 번호를 붙여 접근합니다.\n",
        "\n",
        "<!-- end list -->"
      ]
    },
    {
      "cell_type": "code",
      "execution_count": 123,
      "metadata": {},
      "outputs": [],
      "source": [
        "# Faceting 예시: Tips 데이터셋\n",
        "tips_df = px.data.tips()\n",
        "tips_df.head()\n"
      ]
    },
    {
      "cell_type": "code",
      "execution_count": 124,
      "metadata": {},
      "outputs": [],
      "source": [
        "fig_facet = px.scatter(tips_df,\n",
        "                       x=\"total_bill\", y=\"tip\",\n",
        "                       color=\"smoker\",\n",
        "                       facet_col=\"day\",        # 요일별로 열에 서브플롯\n",
        "                       facet_col_wrap=2,     # 한 행에 최대 2개 서브플롯\n",
        "                       facet_row=\"time\",       # 식사 시간별로 행에 서브플롯\n",
        "                       title=\"요일 및 식사 시간별 팁과 총 지불액 (Faceting)\")\n",
        "fig_facet.show()"
      ]
    },
    {
      "cell_type": "markdown",
      "metadata": {
        "id": "7X54I_PK9oGw"
      },
      "source": [
        "#### 반응형 레이아웃 및 테마 설정\n",
        "\n",
        "  * **반응형 레이아웃**: Plotly 그래프는 기본적으로 웹 브라우저 크기에 반응하여 크기가 조절됩니다. `fig.update_layout(autosize=True)` (기본값)"
      ]
    },
    {
      "cell_type": "code",
      "execution_count": 128,
      "metadata": {
        "id": "rMAMw9zO9oGw"
      },
      "outputs": [],
      "source": [
        "# 테마 변경 예시\n",
        "fig_theme_example = px.bar(tips_df, x=\"day\", y=\"total_bill\", color=\"sex\", barmode=\"group\",\n",
        "                           title=\"요일별/성별 총 지불액 (ggplot2 테마)\")\n",
        "fig_theme_example.update_layout(template=\"ggplot2\") # ggplot2 스타일 테마 적용\n",
        "fig_theme_example.show()"
      ]
    },
    {
      "cell_type": "markdown",
      "metadata": {},
      "source": [
        "* **테마 설정**: 앞서 \"사용자 정의 색상, 스타일 적용\" 섹션에서 다룬 `template` 인자를 사용하여 그래프의 전반적인 모양과 느낌(테마)을 쉽게 변경할 수 있습니다.\n",
        "      * 예: `fig.update_layout(template=\"plotly_dark\")`\n",
        "\n",
        "<!-- end list -->"
      ]
    },
    {
      "cell_type": "code",
      "execution_count": 130,
      "metadata": {},
      "outputs": [],
      "source": [
        "# Plotly에서 지원하는 테마(템플릿) 리스트 출력\n",
        "import plotly.io as pio\n",
        "\n",
        "print(\"Plotly 지원 테마(템플릿) 목록:\")\n",
        "for template in pio.templates:\n",
        "    print(\"-\", template)\n"
      ]
    },
    {
      "cell_type": "code",
      "execution_count": 129,
      "metadata": {},
      "outputs": [],
      "source": [
        "fig_theme_example_seaborn = px.scatter(iris_df, x=\"sepal_width\", y=\"sepal_length\", color=\"species\",\n",
        "                                     title=\"붓꽃 데이터 (seaborn 테마)\")\n",
        "fig_theme_example_seaborn.update_layout(template=\"seaborn\") # seaborn 스타일 테마 적용\n",
        "fig_theme_example_seaborn.show()"
      ]
    },
    {
      "cell_type": "markdown",
      "metadata": {},
      "source": [
        "-----\n",
        "\n",
        "### 📝 연습문제 3: 심화 시각화 및 서브플롯\n",
        "\n",
        "**3-1. `gapminder` 데이터셋에서 2007년도 데이터를 사용하여, 대륙(`continent`)과 국가(`country`) 계층을 가지는 트리맵을 그려보세요.**\n",
        "\n",
        "  * 사각형의 크기는 인구(`pop`)로, 색상은 `lifeExp` (기대수명)으로 결정하세요.\n",
        "  * `color_continuous_scale`은 'viridis'를 사용하세요.\n",
        "  * 그래프 제목: \"2007년 대륙-국가별 인구 트리맵 (기대수명으로 색상 표시)\"\n",
        "\n",
        "<!-- end list -->"
      ]
    },
    {
      "cell_type": "code",
      "execution_count": null,
      "metadata": {},
      "outputs": [],
      "source": [
        "# [3-1] 코드 작성 셀\n",
        "gapminder_2007_treemap = gapminder_df.query(\"year == 2007\")\n",
        "fig_treemap_pop_lifeexp = px.treemap(gapminder_2007_treemap,\n",
        "                                   path=[px.Constant(\"World\"), # YOUR CODE HERE (continent, country) ],\n",
        "                                   values= # YOUR CODE HERE,\n",
        "                                   color= # YOUR CODE HERE,\n",
        "                                   color_continuous_scale= # YOUR CODE HERE,\n",
        "                                   title=\"2007년 대륙-국가별 인구 트리맵 (기대수명으로 색상 표시)\")\n",
        "fig_treemap_pop_lifeexp.show()"
      ]
    },
    {
      "cell_type": "markdown",
      "metadata": {},
      "source": [
        "**3-2. `iris` 데이터셋의 4가지 수치형 특성(`sepal_length`, `sepal_width`, `petal_length`, `petal_width`)에 대한 산점도 행렬을 그려보세요.**\n",
        "\n",
        "  * 점의 색상은 `species` (종)에 따라 구분하세요.\n",
        "  * 그래프 제목: \"Iris 데이터셋 특성 간 산점도 행렬\"\n",
        "\n",
        "<!-- end list -->"
      ]
    },
    {
      "cell_type": "code",
      "execution_count": null,
      "metadata": {},
      "outputs": [],
      "source": [
        "# [3-2] 코드 작성 셀\n",
        "fig_iris_scatter_matrix = px.scatter_matrix(iris_df,\n",
        "                                            dimensions=[ # YOUR CODE HERE (4개 특성) ],\n",
        "                                            color= # YOUR CODE HERE,\n",
        "                                            title=\"Iris 데이터셋 특성 간 산점도 행렬\")\n",
        "fig_iris_scatter_matrix.show()"
      ]
    },
    {
      "cell_type": "markdown",
      "metadata": {},
      "source": [
        "**3-3. `make_subplots`를 사용하여 1행 2열의 서브플롯을 만드세요.**\n",
        "\n",
        "  * 첫 번째 서브플롯 (1행 1열): `tips` 데이터셋에서 `total_bill`의 히스토그램 (색상은 `sex`로 구분)\n",
        "  * 두 번째 서브플롯 (1행 2열): `tips` 데이터셋에서 `day`별 `tip`의 박스플롯 (색상은 `time`으로 구분)\n",
        "  * 전체 그래프 제목: \"Tips 데이터 분석: 총 지불액 분포와 요일/시간별 팁\"\n",
        "  * 각 서브플롯의 제목도 적절히 설정하세요.\n",
        "\n",
        "<!-- end list -->"
      ]
    },
    {
      "cell_type": "code",
      "execution_count": null,
      "metadata": {},
      "outputs": [],
      "source": [
        "# [3-3] 코드 작성 셀\n",
        "fig_tips_subplots = make_subplots(rows=1, cols=2,\n",
        "                                  subplot_titles=( # YOUR CODE HERE , # YOUR CODE HERE )\n",
        "                                 )\n",
        "\n",
        "# 첫 번째 서브플롯: total_bill 히스토그램\n",
        "# Plotly Express로 Figure 생성 후 trace만 가져와서 추가하는 방식도 가능\n",
        "# 또는 go.Histogram 사용\n",
        "hist_male = go.Histogram(x=tips_df[tips_df['sex']=='Male']['total_bill'], name='Male', marker_color='blue', opacity=0.7)\n",
        "hist_female = go.Histogram(x=tips_df[tips_df['sex']=='Female']['total_bill'], name='Female', marker_color='red', opacity=0.7)\n",
        "\n",
        "fig_tips_subplots.add_trace(hist_male, row=1, col=1)\n",
        "fig_tips_subplots.add_trace(hist_female, row=1, col=1)\n",
        "fig_tips_subplots.update_xaxes(title_text=\"Total Bill ($)\", row=1, col=1)\n",
        "fig_tips_subplots.update_yaxes(title_text=\"Frequency\", row=1, col=1)\n",
        "fig_tips_subplots.update_layout(barmode='overlay', legend_title_text='Sex') # 히스토그램 겹치기\n",
        "\n",
        "\n",
        "# 두 번째 서브플롯: day별 tip 박스플롯\n",
        "# Plotly Express로 Figure 생성 후 trace만 가져와서 추가하는 방식도 가능\n",
        "# 또는 go.Box 사용\n",
        "# 예시: time별로 box trace 생성 후 추가\n",
        "for t in tips_df['time'].unique():\n",
        "    df_time = tips_df[tips_df['time'] == t]\n",
        "    fig_tips_subplots.add_trace(go.Box(y=df_time['tip'], x=df_time['day'], name=t, legendgroup='time'), row=1, col=2)\n",
        "\n",
        "fig_tips_subplots.update_xaxes(title_text=\"Day\", row=1, col=2)\n",
        "fig_tips_subplots.update_yaxes(title_text=\"Tip ($)\", row=1, col=2)\n",
        "\n",
        "\n",
        "# 전체 레이아웃 업데이트\n",
        "fig_tips_subplots.update_layout(height=500, title_text=\"Tips 데이터 분석: 총 지불액 분포와 요일/시간별 팁\", showlegend=True)\n",
        "fig_tips_subplots.show()"
      ]
    },
    {
      "cell_type": "code",
      "execution_count": null,
      "metadata": {
        "id": "qna4yoZz9v74"
      },
      "outputs": [],
      "source": []
    }
  ],
  "metadata": {
    "colab": {
      "provenance": []
    },
    "kernelspec": {
      "display_name": "Python 3 (ipykernel)",
      "language": "python",
      "name": "python3"
    }
  },
  "nbformat": 4,
  "nbformat_minor": 0
}
