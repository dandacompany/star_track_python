{
  "cells": [
    {
      "cell_type": "markdown",
      "metadata": {
        "id": "DRNvSi19mVHj"
      },
      "source": [
        "# 🐍 Day 1-1: Regression & Pipeline 기초\n",
        "\n",
        "머신러닝 프로젝트는 단순히 모델을 훈련하는 것 이상의 과정을 포함합니다. 데이터를 불러와 정제하고, 특성을 추출하며, 모델을 학습시키고 평가하는 등 여러 단계를 거치게 됩니다.\n",
        "\n",
        "이번 세션에서는 이 모든 과정을 체계적으로 관리하는 **ML 워크플로**의 중요성을 이해하고, `scikit-learn`의 강력한 도구인 **`Pipeline`** 을 사용하여 재현성 높고 효율적인 코드를 작성하는 방법을 배웁니다.\n",
        "\n",
        "나아가 데이터의 관계를 학습하여 연속적인 값을 예측하는 **회귀(Regression)** 모델의 가장 기본이 되는 선형, 다중, 다항 회귀를 깊이 있게 다루며 모델링의 첫걸음을 떼게 됩니다.\n"
      ]
    },
    {
      "cell_type": "markdown",
      "metadata": {},
      "source": [
        "---\n",
        "### 🚀 1. ML 워크플로와 `Pipeline`의 중요성\n",
        "효과적인 머신러닝 시스템을 구축하기 위해서는 일관되고 재현 가능한 작업 흐름, 즉 **워크플로(Workflow)** 를 만드는 것이 매우 중요합니다."
      ]
    },
    {
      "cell_type": "markdown",
      "metadata": {},
      "source": [
        "#### 1.1 개념: 왜 체계적인 워크플로가 필요한가? 🤔\n",
        "\n",
        "상상해 보세요. 여러 데이터 파일을 다루고, 결측치를 채우고, 텍스트 데이터를 숫자로 바꾸고, 스케일링을 적용하는 등 수많은 전처리 단계를 거친다고 가정해 봅시다. 이 과정이 뒤죽박죽이라면 어떨까요?\n",
        "\n",
        "-   **실수 유발**: 어떤 데이터에 어떤 전처리를 적용했는지 잊어버리기 쉽습니다.\n",
        "-   **데이터 누수 (Data Leakage)**: 훈련 데이터의 정보가 검증 데이터나 테스트 데이터에 흘러 들어가 모델의 성능을 비현실적으로 좋게 평가하는 치명적인 실수를 유발할 수 있습니다. \n",
        "  \n",
        "    예를 들어, 전체 데이터의 평균값으로 결측치를 채운 뒤 훈련/테스트 데이터로 나누면, 테스트 데이터에 훈련 데이터의 정보(평균값)가 이미 포함된 셈입니다.\n",
        "-   **재현성 저하** : 동일한 결과를 다시 만들어내기 어렵습니다.\n",
        "\n",
        "`scikit-learn`의 **`Pipeline`** 은 이러한 문제들을 해결하기 위해 데이터 전처리 단계와 모델 학습 단계를 하나의 연속된 작업으로 묶어주는 훌륭한 도구입니다. \n",
        "\n",
        "파이프라인을 사용하면 전체 워크플로를 하나의 객체처럼 다룰 수 있어 코드가 간결해지고, 데이터 누수를 방지하며, 재현성을 크게 향상시킬 수 있습니다.\n",
        "\n",
        "특히, 각기 다른 전처리 방법이 필요한 특성(피처)들을 한 번에 처리하기 위해 **`ColumnTransformer`** 를 `Pipeline`과 함께 사용하는 것이 일반적입니다."
      ]
    },
    {
      "cell_type": "markdown",
      "metadata": {},
      "source": [
        "\n",
        "#### 1.2 코드 예제: `Pipeline`과 `ColumnTransformer`로 워크플로 구축하기\n",
        "\n",
        "**Ames Housing** 데이터셋을 사용하여, 수치형 특성과 범주형 특성을 각각 다르게 전처리하고 선형 회귀 모델을 학습시키는 파이프라인을 만들어 보겠습니다."
      ]
    },
    {
      "cell_type": "code",
      "execution_count": 4,
      "metadata": {
        "id": "tNMf3utZmVHm"
      },
      "outputs": [],
      "source": [
        "import pandas as pd\n",
        "import numpy as np\n",
        "from sklearn.model_selection import train_test_split\n",
        "from sklearn.pipeline import Pipeline\n",
        "from sklearn.impute import SimpleImputer # 결측치 처리\n",
        "from sklearn.preprocessing import StandardScaler, OneHotEncoder # 데이터 정규화\n",
        "from sklearn.compose import ColumnTransformer # 여러 특성을 한 번에 처리\n",
        "from sklearn.linear_model import LinearRegression # 선형 회귀 모델\n",
        "from sklearn.metrics import mean_squared_error"
      ]
    },
    {
      "cell_type": "code",
      "execution_count": 1,
      "metadata": {},
      "outputs": [],
      "source": [
        "from sklearn.datasets import fetch_openml\n",
        "housing = fetch_openml(name=\"house_prices\", as_frame=True)\n",
        "df = housing.data.join(housing.target)"
      ]
    },
    {
      "cell_type": "code",
      "execution_count": 2,
      "metadata": {},
      "outputs": [
        {
          "name": "stdout",
          "output_type": "stream",
          "text": [
            "<class 'pandas.core.frame.DataFrame'>\n",
            "RangeIndex: 1460 entries, 0 to 1459\n",
            "Data columns (total 81 columns):\n",
            " #   Column         Non-Null Count  Dtype  \n",
            "---  ------         --------------  -----  \n",
            " 0   Id             1460 non-null   int64  \n",
            " 1   MSSubClass     1460 non-null   int64  \n",
            " 2   MSZoning       1460 non-null   object \n",
            " 3   LotFrontage    1201 non-null   float64\n",
            " 4   LotArea        1460 non-null   int64  \n",
            " 5   Street         1460 non-null   object \n",
            " 6   Alley          91 non-null     object \n",
            " 7   LotShape       1460 non-null   object \n",
            " 8   LandContour    1460 non-null   object \n",
            " 9   Utilities      1460 non-null   object \n",
            " 10  LotConfig      1460 non-null   object \n",
            " 11  LandSlope      1460 non-null   object \n",
            " 12  Neighborhood   1460 non-null   object \n",
            " 13  Condition1     1460 non-null   object \n",
            " 14  Condition2     1460 non-null   object \n",
            " 15  BldgType       1460 non-null   object \n",
            " 16  HouseStyle     1460 non-null   object \n",
            " 17  OverallQual    1460 non-null   int64  \n",
            " 18  OverallCond    1460 non-null   int64  \n",
            " 19  YearBuilt      1460 non-null   int64  \n",
            " 20  YearRemodAdd   1460 non-null   int64  \n",
            " 21  RoofStyle      1460 non-null   object \n",
            " 22  RoofMatl       1460 non-null   object \n",
            " 23  Exterior1st    1460 non-null   object \n",
            " 24  Exterior2nd    1460 non-null   object \n",
            " 25  MasVnrType     1452 non-null   object \n",
            " 26  MasVnrArea     1452 non-null   float64\n",
            " 27  ExterQual      1460 non-null   object \n",
            " 28  ExterCond      1460 non-null   object \n",
            " 29  Foundation     1460 non-null   object \n",
            " 30  BsmtQual       1423 non-null   object \n",
            " 31  BsmtCond       1423 non-null   object \n",
            " 32  BsmtExposure   1422 non-null   object \n",
            " 33  BsmtFinType1   1423 non-null   object \n",
            " 34  BsmtFinSF1     1460 non-null   int64  \n",
            " 35  BsmtFinType2   1422 non-null   object \n",
            " 36  BsmtFinSF2     1460 non-null   int64  \n",
            " 37  BsmtUnfSF      1460 non-null   int64  \n",
            " 38  TotalBsmtSF    1460 non-null   int64  \n",
            " 39  Heating        1460 non-null   object \n",
            " 40  HeatingQC      1460 non-null   object \n",
            " 41  CentralAir     1460 non-null   object \n",
            " 42  Electrical     1459 non-null   object \n",
            " 43  1stFlrSF       1460 non-null   int64  \n",
            " 44  2ndFlrSF       1460 non-null   int64  \n",
            " 45  LowQualFinSF   1460 non-null   int64  \n",
            " 46  GrLivArea      1460 non-null   int64  \n",
            " 47  BsmtFullBath   1460 non-null   int64  \n",
            " 48  BsmtHalfBath   1460 non-null   int64  \n",
            " 49  FullBath       1460 non-null   int64  \n",
            " 50  HalfBath       1460 non-null   int64  \n",
            " 51  BedroomAbvGr   1460 non-null   int64  \n",
            " 52  KitchenAbvGr   1460 non-null   int64  \n",
            " 53  KitchenQual    1460 non-null   object \n",
            " 54  TotRmsAbvGrd   1460 non-null   int64  \n",
            " 55  Functional     1460 non-null   object \n",
            " 56  Fireplaces     1460 non-null   int64  \n",
            " 57  FireplaceQu    770 non-null    object \n",
            " 58  GarageType     1379 non-null   object \n",
            " 59  GarageYrBlt    1379 non-null   float64\n",
            " 60  GarageFinish   1379 non-null   object \n",
            " 61  GarageCars     1460 non-null   int64  \n",
            " 62  GarageArea     1460 non-null   int64  \n",
            " 63  GarageQual     1379 non-null   object \n",
            " 64  GarageCond     1379 non-null   object \n",
            " 65  PavedDrive     1460 non-null   object \n",
            " 66  WoodDeckSF     1460 non-null   int64  \n",
            " 67  OpenPorchSF    1460 non-null   int64  \n",
            " 68  EnclosedPorch  1460 non-null   int64  \n",
            " 69  3SsnPorch      1460 non-null   int64  \n",
            " 70  ScreenPorch    1460 non-null   int64  \n",
            " 71  PoolArea       1460 non-null   int64  \n",
            " 72  PoolQC         7 non-null      object \n",
            " 73  Fence          281 non-null    object \n",
            " 74  MiscFeature    54 non-null     object \n",
            " 75  MiscVal        1460 non-null   int64  \n",
            " 76  MoSold         1460 non-null   int64  \n",
            " 77  YrSold         1460 non-null   int64  \n",
            " 78  SaleType       1460 non-null   object \n",
            " 79  SaleCondition  1460 non-null   object \n",
            " 80  SalePrice      1460 non-null   int64  \n",
            "dtypes: float64(3), int64(35), object(43)\n",
            "memory usage: 924.0+ KB\n"
          ]
        }
      ],
      "source": [
        "df.info()"
      ]
    },
    {
      "cell_type": "code",
      "execution_count": 74,
      "metadata": {},
      "outputs": [],
      "source": [
        "# 독립 변수(X)와 종속 변수(y) 분리\n",
        "X = df.drop('SalePrice', axis=1)\n",
        "y = df['SalePrice']\n",
        "\n",
        "# 훈련/테스트 데이터 분할\n",
        "X_train, X_test, y_train, y_test = train_test_split(X, y, test_size=0.2, random_state=42)"
      ]
    },
    {
      "cell_type": "code",
      "execution_count": 75,
      "metadata": {},
      "outputs": [],
      "source": [
        "# 2. 전처리 파이프라인 정의\n",
        "# 수치형 데이터 전처리: 결측치를 평균으로 채우고, 표준화 스케일링 적용\n",
        "numeric_features = ['LotArea', 'OverallQual']\n",
        "numeric_transformer = Pipeline(steps=[\n",
        "    ('imputer', SimpleImputer(strategy='mean')),\n",
        "    ('scaler', StandardScaler())\n",
        "])\n"
      ]
    },
    {
      "cell_type": "code",
      "execution_count": 76,
      "metadata": {},
      "outputs": [],
      "source": [
        "# 범주형 데이터 전처리: 결측치를 'missing'으로 채우고, 원-핫 인코딩 적용\n",
        "categorical_features = ['BldgType', 'Neighborhood']\n",
        "categorical_transformer = Pipeline(steps=[\n",
        "    ('imputer', SimpleImputer(strategy='constant', fill_value='missing')),\n",
        "    ('onehot', OneHotEncoder(handle_unknown='ignore'))\n",
        "])"
      ]
    },
    {
      "cell_type": "code",
      "execution_count": 77,
      "metadata": {},
      "outputs": [],
      "source": [
        "# 3. ColumnTransformer로 전처리 파이프라인 통합\n",
        "preprocessor = ColumnTransformer(\n",
        "    transformers=[\n",
        "        ('num', numeric_transformer, numeric_features),\n",
        "        ('cat', categorical_transformer, categorical_features)\n",
        "    ]\n",
        ")"
      ]
    },
    {
      "cell_type": "code",
      "execution_count": 78,
      "metadata": {},
      "outputs": [],
      "source": [
        "# 4. 최종 파이프라인 구축 (전처리기 + 모델)\n",
        "model_pipeline = Pipeline(steps=[\n",
        "    ('preprocessor', preprocessor),\n",
        "    ('regressor', LinearRegression())\n",
        "])"
      ]
    },
    {
      "cell_type": "code",
      "execution_count": 79,
      "metadata": {},
      "outputs": [],
      "source": [
        "# 5. 모델 학습 및 예측\n",
        "model_pipeline.fit(X_train, y_train)\n",
        "y_pred = model_pipeline.predict(X_test)"
      ]
    },
    {
      "cell_type": "code",
      "execution_count": 80,
      "metadata": {},
      "outputs": [
        {
          "name": "stdout",
          "output_type": "stream",
          "text": [
            "파이프라인을 이용한 모델의 RMSE: $42,440.26\n"
          ]
        }
      ],
      "source": [
        "# 6. 평가\n",
        "rmse = np.sqrt(mean_squared_error(y_test, y_pred))\n",
        "print(f\"파이프라인을 이용한 모델의 RMSE: ${rmse:,.2f}\")\n"
      ]
    },
    {
      "cell_type": "code",
      "execution_count": 11,
      "metadata": {},
      "outputs": [
        {
          "name": "stdout",
          "output_type": "stream",
          "text": [
            "Fitted Pipeline Regressor Coef:\n",
            "[21661.80354372 29661.81157082  3813.34277592 -7322.35579133\n",
            "  9705.32493763 -6196.31192222  9712.53745725 -7322.35579133\n",
            " -6196.31192222  9705.32493763 -5899.19468134]\n"
          ]
        }
      ],
      "source": [
        "# 파이프라인 내부 확인\n",
        "print(\"Fitted Pipeline Regressor Coef:\")\n",
        "print(model_pipeline.named_steps['regressor'].coef_)"
      ]
    },
    {
      "cell_type": "markdown",
      "metadata": {},
      "source": [
        "\n",
        "```mermaid\n",
        " graph TD;\n",
        "     A[데이터 입력] --> B[전처리기];\n",
        "     B --> C[수치형 변환기];\n",
        "     B --> D[범주형 변환기];\n",
        "     C --> E[Linear Regression 모델];\n",
        "     D --> E;\n",
        "     E --> F[예측 결과 출력];\n",
        "```"
      ]
    },
    {
      "cell_type": "markdown",
      "metadata": {},
      "source": [
        "#### 1.3 연습 문제\n",
        "\n",
        "1.  위 예제에서 `SimpleImputer`의 `strategy`를 수치형 데이터는 `'median'`으로, 범주형 데이터는 `'most_frequent'`로 변경하여 파이프라인을 다시 구성하고 학습시켜 보세요.\n"
      ]
    },
    {
      "cell_type": "markdown",
      "metadata": {},
      "source": [
        "2.  `LinearRegression` 모델 대신 `Ridge` 회귀 모델(`from sklearn.linear_model import Ridge`)을 사용하는 새로운 파이프라인 `ridge_pipeline`을 만들어 보세요."
      ]
    },
    {
      "cell_type": "markdown",
      "metadata": {},
      "source": [
        "-----\n",
        "\n",
        "### 💎 2. 선형 회귀 (Linear Regression)\n",
        "\n",
        "선형 회귀는 가장 기본적이면서도 강력한 회귀 알고리즘입니다. 변수들 사이의 '선형적인' 관계를 모델링하여 예측을 수행합니다.\n"
      ]
    },
    {
      "cell_type": "markdown",
      "metadata": {},
      "source": [
        "\n",
        "#### 2.1 개념: 기본 원리와 가정 📐\n",
        "\n",
        "**단순 선형 회귀 (Simple Linear Regression)** 는 하나의 독립 변수 $X$가 종속 변수 $Y$에 미치는 영향을 직선 형태로 모델링합니다.\n",
        "\n",
        "$$ Y = \\beta_0 + \\beta_1X + \\epsilon $$\n",
        "\n",
        "  - $Y$: 예측하려는 값 (종속 변수, 예: 주택 가격)\n",
        "  - $X$: 예측에 사용할 값 (독립 변수, 예: 주택의 면적)\n",
        "  - $\\\\beta\\_0$: **절편 (Intercept)**. $X$가 0일 때의 $Y$ 값.\n",
        "  - $\\\\beta\\_1$: **계수 (Coefficient)** 또는 **기울기 (Slope)**. $X$가 1단위 증가할 때 $Y$의 변화량.\n",
        "  - $\\\\epsilon$: **오차항 (Error Term)**. 모델이 설명하지 못하는 무작위 오차.\n",
        "\n",
        "선형 회귀의 목표는 실제 값과 모델의 예측 값 사이의 오차(잔차) 제곱의 합(Sum of Squared Errors)을 최소화하는 $\\\\beta\\_0$와 $\\\\beta\\_1$을 찾는 것입니다. 이를 **최소제곱법(Ordinary Least Squares, OLS)** 이라고 합니다.\n"
      ]
    },
    {
      "cell_type": "markdown",
      "metadata": {},
      "source": [
        "#### 2.2 코드 예제: 단일 변수 선형 회귀와 시각화\n",
        "\n",
        "주택의 지상층 생활 면적(`GrLivArea`)만으로 주택 가격(`SalePrice`)을 예측하는 단순 선형 회귀 모델을 만들어 보겠습니다. 데이터는 캐글의 Ames Housing 데이터셋을 사용합니다."
      ]
    },
    {
      "cell_type": "code",
      "execution_count": 82,
      "metadata": {},
      "outputs": [
        {
          "data": {
            "text/html": [
              "<div>\n",
              "<style scoped>\n",
              "    .dataframe tbody tr th:only-of-type {\n",
              "        vertical-align: middle;\n",
              "    }\n",
              "\n",
              "    .dataframe tbody tr th {\n",
              "        vertical-align: top;\n",
              "    }\n",
              "\n",
              "    .dataframe thead th {\n",
              "        text-align: right;\n",
              "    }\n",
              "</style>\n",
              "<table border=\"1\" class=\"dataframe\">\n",
              "  <thead>\n",
              "    <tr style=\"text-align: right;\">\n",
              "      <th></th>\n",
              "      <th>Id</th>\n",
              "      <th>MSSubClass</th>\n",
              "      <th>MSZoning</th>\n",
              "      <th>LotFrontage</th>\n",
              "      <th>LotArea</th>\n",
              "      <th>Street</th>\n",
              "      <th>Alley</th>\n",
              "      <th>LotShape</th>\n",
              "      <th>LandContour</th>\n",
              "      <th>Utilities</th>\n",
              "      <th>...</th>\n",
              "      <th>PoolArea</th>\n",
              "      <th>PoolQC</th>\n",
              "      <th>Fence</th>\n",
              "      <th>MiscFeature</th>\n",
              "      <th>MiscVal</th>\n",
              "      <th>MoSold</th>\n",
              "      <th>YrSold</th>\n",
              "      <th>SaleType</th>\n",
              "      <th>SaleCondition</th>\n",
              "      <th>SalePrice</th>\n",
              "    </tr>\n",
              "  </thead>\n",
              "  <tbody>\n",
              "    <tr>\n",
              "      <th>0</th>\n",
              "      <td>1</td>\n",
              "      <td>60</td>\n",
              "      <td>RL</td>\n",
              "      <td>65.0</td>\n",
              "      <td>8450</td>\n",
              "      <td>Pave</td>\n",
              "      <td>NaN</td>\n",
              "      <td>Reg</td>\n",
              "      <td>Lvl</td>\n",
              "      <td>AllPub</td>\n",
              "      <td>...</td>\n",
              "      <td>0</td>\n",
              "      <td>NaN</td>\n",
              "      <td>NaN</td>\n",
              "      <td>NaN</td>\n",
              "      <td>0</td>\n",
              "      <td>2</td>\n",
              "      <td>2008</td>\n",
              "      <td>WD</td>\n",
              "      <td>Normal</td>\n",
              "      <td>208500</td>\n",
              "    </tr>\n",
              "    <tr>\n",
              "      <th>1</th>\n",
              "      <td>2</td>\n",
              "      <td>20</td>\n",
              "      <td>RL</td>\n",
              "      <td>80.0</td>\n",
              "      <td>9600</td>\n",
              "      <td>Pave</td>\n",
              "      <td>NaN</td>\n",
              "      <td>Reg</td>\n",
              "      <td>Lvl</td>\n",
              "      <td>AllPub</td>\n",
              "      <td>...</td>\n",
              "      <td>0</td>\n",
              "      <td>NaN</td>\n",
              "      <td>NaN</td>\n",
              "      <td>NaN</td>\n",
              "      <td>0</td>\n",
              "      <td>5</td>\n",
              "      <td>2007</td>\n",
              "      <td>WD</td>\n",
              "      <td>Normal</td>\n",
              "      <td>181500</td>\n",
              "    </tr>\n",
              "    <tr>\n",
              "      <th>2</th>\n",
              "      <td>3</td>\n",
              "      <td>60</td>\n",
              "      <td>RL</td>\n",
              "      <td>68.0</td>\n",
              "      <td>11250</td>\n",
              "      <td>Pave</td>\n",
              "      <td>NaN</td>\n",
              "      <td>IR1</td>\n",
              "      <td>Lvl</td>\n",
              "      <td>AllPub</td>\n",
              "      <td>...</td>\n",
              "      <td>0</td>\n",
              "      <td>NaN</td>\n",
              "      <td>NaN</td>\n",
              "      <td>NaN</td>\n",
              "      <td>0</td>\n",
              "      <td>9</td>\n",
              "      <td>2008</td>\n",
              "      <td>WD</td>\n",
              "      <td>Normal</td>\n",
              "      <td>223500</td>\n",
              "    </tr>\n",
              "    <tr>\n",
              "      <th>3</th>\n",
              "      <td>4</td>\n",
              "      <td>70</td>\n",
              "      <td>RL</td>\n",
              "      <td>60.0</td>\n",
              "      <td>9550</td>\n",
              "      <td>Pave</td>\n",
              "      <td>NaN</td>\n",
              "      <td>IR1</td>\n",
              "      <td>Lvl</td>\n",
              "      <td>AllPub</td>\n",
              "      <td>...</td>\n",
              "      <td>0</td>\n",
              "      <td>NaN</td>\n",
              "      <td>NaN</td>\n",
              "      <td>NaN</td>\n",
              "      <td>0</td>\n",
              "      <td>2</td>\n",
              "      <td>2006</td>\n",
              "      <td>WD</td>\n",
              "      <td>Abnorml</td>\n",
              "      <td>140000</td>\n",
              "    </tr>\n",
              "    <tr>\n",
              "      <th>4</th>\n",
              "      <td>5</td>\n",
              "      <td>60</td>\n",
              "      <td>RL</td>\n",
              "      <td>84.0</td>\n",
              "      <td>14260</td>\n",
              "      <td>Pave</td>\n",
              "      <td>NaN</td>\n",
              "      <td>IR1</td>\n",
              "      <td>Lvl</td>\n",
              "      <td>AllPub</td>\n",
              "      <td>...</td>\n",
              "      <td>0</td>\n",
              "      <td>NaN</td>\n",
              "      <td>NaN</td>\n",
              "      <td>NaN</td>\n",
              "      <td>0</td>\n",
              "      <td>12</td>\n",
              "      <td>2008</td>\n",
              "      <td>WD</td>\n",
              "      <td>Normal</td>\n",
              "      <td>250000</td>\n",
              "    </tr>\n",
              "  </tbody>\n",
              "</table>\n",
              "<p>5 rows × 81 columns</p>\n",
              "</div>"
            ],
            "text/plain": [
              "   Id  MSSubClass MSZoning  LotFrontage  LotArea Street Alley LotShape  \\\n",
              "0   1          60       RL         65.0     8450   Pave   NaN      Reg   \n",
              "1   2          20       RL         80.0     9600   Pave   NaN      Reg   \n",
              "2   3          60       RL         68.0    11250   Pave   NaN      IR1   \n",
              "3   4          70       RL         60.0     9550   Pave   NaN      IR1   \n",
              "4   5          60       RL         84.0    14260   Pave   NaN      IR1   \n",
              "\n",
              "  LandContour Utilities  ... PoolArea PoolQC Fence MiscFeature MiscVal MoSold  \\\n",
              "0         Lvl    AllPub  ...        0    NaN   NaN         NaN       0      2   \n",
              "1         Lvl    AllPub  ...        0    NaN   NaN         NaN       0      5   \n",
              "2         Lvl    AllPub  ...        0    NaN   NaN         NaN       0      9   \n",
              "3         Lvl    AllPub  ...        0    NaN   NaN         NaN       0      2   \n",
              "4         Lvl    AllPub  ...        0    NaN   NaN         NaN       0     12   \n",
              "\n",
              "  YrSold  SaleType  SaleCondition  SalePrice  \n",
              "0   2008        WD         Normal     208500  \n",
              "1   2007        WD         Normal     181500  \n",
              "2   2008        WD         Normal     223500  \n",
              "3   2006        WD        Abnorml     140000  \n",
              "4   2008        WD         Normal     250000  \n",
              "\n",
              "[5 rows x 81 columns]"
            ]
          },
          "execution_count": 82,
          "metadata": {},
          "output_type": "execute_result"
        }
      ],
      "source": [
        "import pandas as pd\n",
        "import plotly.express as px\n",
        "from sklearn.linear_model import LinearRegression\n",
        "from sklearn.model_selection import train_test_split\n",
        "from sklearn.metrics import r2_score\n",
        "\n",
        "df.head()"
      ]
    },
    {
      "cell_type": "code",
      "execution_count": 83,
      "metadata": {},
      "outputs": [],
      "source": [
        "# 독립/종속 변수 선택\n",
        "X = df[['GrLivArea']] # 2D 형태로 입력\n",
        "y = df['SalePrice']\n",
        "\n",
        "X_train, X_test, y_train, y_test = train_test_split(X, y, test_size=0.3, random_state=42)"
      ]
    },
    {
      "cell_type": "code",
      "execution_count": 84,
      "metadata": {},
      "outputs": [
        {
          "name": "stdout",
          "output_type": "stream",
          "text": [
            "계수 (기울기): 100.7528\n",
            "절편: 27237.2792\n"
          ]
        }
      ],
      "source": [
        "# 모델 생성 및 학습\n",
        "lr_simple = LinearRegression()\n",
        "lr_simple.fit(X_train, y_train)\n",
        "\n",
        "# 계수 및 절편 확인\n",
        "print(f\"계수 (기울기): {lr_simple.coef_[0]:.4f}\")\n",
        "print(f\"절편: {lr_simple.intercept_:.4f}\")"
      ]
    },
    {
      "cell_type": "code",
      "execution_count": 85,
      "metadata": {},
      "outputs": [
        {
          "name": "stdout",
          "output_type": "stream",
          "text": [
            "R-squared (결정계수): 0.5508\n"
          ]
        }
      ],
      "source": [
        "# 예측 및 평가\n",
        "y_pred = lr_simple.predict(X_test)\n",
        "print(f\"R-squared (결정계수): {r2_score(y_test, y_pred):.4f}\")"
      ]
    },
    {
      "cell_type": "code",
      "execution_count": 86,
      "metadata": {},
      "outputs": [
        {
          "data": {
            "application/vnd.plotly.v1+json": {
              "config": {
                "plotlyServerURL": "https://plot.ly"
              },
              "data": [
                {
                  "hovertemplate": "방 개수 (GrLivArea)=%{x}<br>주택 가격 (SalePrice)=%{y}<extra></extra>",
                  "legendgroup": "",
                  "marker": {
                    "color": "#636efa",
                    "opacity": 0.7,
                    "size": 8,
                    "symbol": "circle"
                  },
                  "mode": "markers",
                  "name": "",
                  "showlegend": false,
                  "type": "scattergl",
                  "x": {
                    "bdata": "kgYwBAsGcQd9BkYFNQdBBtoFmwdKBB4EoAMcBwoM/Ab+A/oEyAlpCO8HIAfwA7YCwAY0BnAFfBGxB+AF/AQIBzADEAScA0ADXgeUCA8E9wRXBS0IYAOPCR4EYARQBjEEbQVdA28EDAtQBp0FXgYIBz8HiwYkCFcE2QIyBroIWgNBAwMFbAZnBRkIAwYQBp0DhgX2BbAGtQbWBpgEkAdaA38H4gbABloG2AUWA48HrAeCBtkDTgVQA7IH/gdJB1YIVgrUBIYDkAN4BmYF5AccBOMJPAd8Bq0GkAPkBnMFEARYCU8EHggjA4AElQREBPgGgAeGBscECQd4BrUGJwpsBqQJUgXMBbAERgWABJAGoAW+BMcFCQfWBRkJNAaqBNYFpgySA2kGJQbABdYG6AasBGYETQOwB8UEWAXbA6IFxATcBZIJnwi4BAMHoAW8BFcEmwq8BjAFHARxCbQD4wdlAxIGQAiIBTkGZQVgBroDggfUA/oGngbMA50F1wi9BtQEEASoBvMF0QUhBrwEJQb+BigGwAZABoIHnAZ4BhcEqAqRBbgD3gPcAyAE0ga2BrgFfAbYBjwKRBIQA2AEZgVqBU4BsASGBTAG7QXqBIYDhgTEA0wJ0ARgA74HhAcgCG8GUQY8BZQHPwd0A1oGBAXyCDADhwhNB24GNAcjBiIIpwdGCV4IsATIB+0IIAc6B0sFhAZ+BWAHzARmBsADogYnBNQE/wV2AkQEdAZ4BAMHBQbjBaEFxwXbA6ACkAjQB2UEZAQvB2AI1Ai5B00D+gb7CaQGhwZgBZkG+gmIBTADWgWiBQUFwgXdBxsGfwaoBO4GqgcWBV4E5gblBEkENgQkBvQFDAhABRoHBQTZCdwFqQhaBe4EZgeeBmADrQbKBicFlgxLBRoFAAM1BJ8EsAXzCFADHAlEBTwIOAUKFkAFjwe+BWwIwAboBhgEwAY2CXoEQQaAB1MFfAQOBeAEiwWgBXQEKghoBo8GwgR2BFYEjASoBI4FfgOhBwAHnAPwAswGOQZpBfIE5Qc2BeQE3gliCVIFKw7YCbADkAMRBrQDPAfOBDgE4gRLBp0HWQXKBRgEXAUQBd4D0QV8CPIEwgSkAyoFYwbGBaAErgaQA04IcgXKAwoEuAZrBU0F8ATMBecGLQPyAhUI5QXJBcADEAQQBAoHMgq6BXQGMQhZBu8IBgsGCDgFfgO3Bk8I4wSQA8gDJQcmBtACvAdVBkIGUAZABkcIrQY+CAYDHAOrBnEItAZSBQQHdAbKBfcDKgY+BMIEXAN0BN4FjQSoB+8HcAUFBi8FLAUQBvoKGA4wBdcJ7QUhBFQIXQakBLgFwARiBpwDJAQMBrYB6wJ8A6YEcgWoB1ADOwUQA7QDmgS/B8AG/ALcA8gE2wN0B3gECAQMCFoEvAbCBEkDQARgAyIHVwSQA94ImwOOAxAEXgVJCKcHAwb0BMADSQToBoQGcAWEBV4G2QQAA2gGiwWwBMcFhgVABRAJFAOhBWADYAPwBiAEiAPGBUUG/gZMB8IEJAiwBegE5QUQCUAKXwVHBJgI1gVCBd4DNglBA7IJMgiDAxQJfgMnBlADmgbDBVIFsAWeCQQHwAVEBvoGfQZ2AuQHgQYsB0QJFQXYBNwEAwePBCoGdAeuBLgHMAX0BOIEgAaIBfMIrgZoAhoE5ATeAzYEJwiVBRQHcgTMBRUGrARgAyAE3gl5BEQEmAVwBbAFHQRDDQcFCgNEBOsCxQZuBmUILgbOBhAEkAOWCJAGdw0kBSkKVQXqBCYGSATbA6wGpQ3YBvQHQAVVBL4FuAOQBuwFxgbeBVoGvQUOBlgFJAo7BS8HlAnlBZoFDgWQBrkGYAPdBSEJUAf6BcwFdgKwBDgLpQVcBCoIrwNIBhAFSAO6B+cDvgOnCo8EOwfkBJADEAT1BZQJnAyOBDYHMgQoCX0D1QWwB+wDsAVjBrIFyATiBVgIiAVJCrwFBQMWBYQDiAM0BxMGEQX5BcUGrgZMB2YETgR5Bx8GGgQsBiIF6AqYBtAEzQSjBqgDnAewCNIHyQdFBxEE2gN9BcoERgNgA+4DMgeuBtcI8ghMBEUIwAPuBjoEYgQ6BdwGFgW3A9sDQgREBugFKQZ3CLwEyQMwBO4FpASmBy0E/AZuCdAC7QRrA6AC1AO+BM4FfAbBBBwG0gV6DN0FKAU0CigMtgjmB9cIYAYIBTgEpAYeBSsEiAfgCjEIMAOhB3sG8wbgBIkH7gSICn4DeAfFAyAH+wagBeQEwwedBAAHYANoBKcHLweIAxAElgPwBYMFCgiZCHgG1gUcBtUD3gVEBPAFKAUsB2EHagReCccHLgdIBbgGtAbnA74FbASKBjkFRQV8BJMGQAWgBnIDZwd+AxQHsgZaBJkGYAWQClAHWgNgA4QGQwNoBGcGvgQUBlQFvAjsA2EEuQYkBSwFUAWqBEAHhANuBKkHMAN+A0QERgQTBw4F8gflBNIJggSwBQgHeAY9CZwFJgS6BYMEAAbLA+sD4AWAB9oEJAl9BlkEzgT/BGwKuAQeBRAKqANvBsQEcgMWBaIFGQa0BGIFUAP1BdMEhAXACPcIhAZOBmID1gWYBXAHZQQwBEsHygVICRgEHAewBOIH5ANQA+EGIQQ5BmYFbwVTBbMFdAYCBFAKaAZUBLUCswQkBhgGpgd+A/UElAWMB5QGzwwwA20Ikga6ApcGyATABnUE/QRjBNwJIgW9B2ADkgUTBg==",
                    "dtype": "i2"
                  },
                  "xaxis": "x",
                  "y": {
                    "bdata": "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",
                    "dtype": "i4"
                  },
                  "yaxis": "y"
                },
                {
                  "hovertemplate": "x=%{x}<br>y=%{y}<extra></extra>",
                  "legendgroup": "",
                  "line": {
                    "color": "red",
                    "dash": "solid"
                  },
                  "marker": {
                    "symbol": "circle"
                  },
                  "mode": "lines",
                  "name": "회귀선",
                  "orientation": "v",
                  "showlegend": false,
                  "type": "scatter",
                  "x": {
                    "bdata": "LAQ+CgQEgAZUBnYCogewBXYCcQXFBWoDfgP/BZoG8AO4Bm4E9APHBQsHNgbEBagDlwWvBDwFYANEBkgF5AT+Bw4MuANkBnAEcAeIB9gJcgOYBD4ItgP6B9wDogiQA7sD+Aj0BdwDHwYYBVILUAPGBu8GZgRdBDsDCALeBKkJ4gXwBm4ICgTWCM4DsgX/BbsEiwMQBDwJCwVYCXIJfgQMA9sDNQTcA3YDeAUlBpMHrQVQA7AFFwZUBjADqgroBiQFDAasBdoFMQl5BugGrwhWA5gFxgUCBM4G3gMgCCADEAQQBOkFBQckA4UDaANuB10G/wJQA0AGOAeEBacD0AinA0sEgAYuBuwH8wa1COABtgamBqoDdgbcEOoKoAPEBp4GIASEAwkIlgUAA2ADnAREBdMJ4gg1BAAH6gRfBV0CeATSBCAEbgb2BcAECAeeBw4KNAtjCZgHcgPyBRQGOAs0Bs8FtQZQBSUG8QQUBLoDbQXFB64GmQbcBVgFRARVBTEEHAVeBBoF2AffBCUFywY/Bf0FpgVABUYKOQXUA+QHYQQ7BnwDwwgFBckEvwVTBR4GegV4BEgFxgZ+AywFbwZrBLoFvwRoBMgDYAaaBKID3QVgA80Eewd0BbgE5AMOCJsD0AKiC9AGgQtUB0MFlwVxBCQEFQMuB8AF4QWzAocELQTIBBYFQwYqCLUHuAR+A2wGvgaNBzkFUAPtA5YFHAg5BbMHWATIBOoDrQZNB8EFFgbwBnYCKAYYA7YG0QUwB2sE+gWwBeYFYAMiBSMGHAPoBpsGfgMYBoIEjgXYBZEDPgRBBsIHjATbCNMIOQOSBXMGFQNKCigGzAWwBOIEbgcQBN4FzAT0BGADlgZUBloDFQXhBWADyARnBTADQAVwBSkE4gSsBUgElAV6BmADiAcBBkcH1wcAB8gDXgrAA9cKUwpuBhIFnga+A+cD/AOKBkEI7gfBBHkIOgd4BOAFHQXqBI4FogWwBIAGUAWGBT4FXgQpCTQH2wNKBjgEVgbnBYAEFgZ3BxoFWgiiCcYGhgTrBr4DJAe0BpkKVwUiB7AEZgWwBZAJrAdEBFkEYAMMB2AGNgoiBYMHzAXEArEG9QQxCGADiAhYBhAE8wfWBSIFzwZPCLQGTgWWBcUELghgAx0EpQYgBIsEgQasBEQM",
                    "dtype": "i2"
                  },
                  "xaxis": "x",
                  "y": {
                    "bdata": "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",
                    "dtype": "f8"
                  },
                  "yaxis": "y"
                }
              ],
              "layout": {
                "legend": {
                  "tracegroupgap": 0
                },
                "template": {
                  "data": {
                    "bar": [
                      {
                        "error_x": {
                          "color": "#2a3f5f"
                        },
                        "error_y": {
                          "color": "#2a3f5f"
                        },
                        "marker": {
                          "line": {
                            "color": "white",
                            "width": 0.5
                          },
                          "pattern": {
                            "fillmode": "overlay",
                            "size": 10,
                            "solidity": 0.2
                          }
                        },
                        "type": "bar"
                      }
                    ],
                    "barpolar": [
                      {
                        "marker": {
                          "line": {
                            "color": "white",
                            "width": 0.5
                          },
                          "pattern": {
                            "fillmode": "overlay",
                            "size": 10,
                            "solidity": 0.2
                          }
                        },
                        "type": "barpolar"
                      }
                    ],
                    "carpet": [
                      {
                        "aaxis": {
                          "endlinecolor": "#2a3f5f",
                          "gridcolor": "#C8D4E3",
                          "linecolor": "#C8D4E3",
                          "minorgridcolor": "#C8D4E3",
                          "startlinecolor": "#2a3f5f"
                        },
                        "baxis": {
                          "endlinecolor": "#2a3f5f",
                          "gridcolor": "#C8D4E3",
                          "linecolor": "#C8D4E3",
                          "minorgridcolor": "#C8D4E3",
                          "startlinecolor": "#2a3f5f"
                        },
                        "type": "carpet"
                      }
                    ],
                    "choropleth": [
                      {
                        "colorbar": {
                          "outlinewidth": 0,
                          "ticks": ""
                        },
                        "type": "choropleth"
                      }
                    ],
                    "contour": [
                      {
                        "colorbar": {
                          "outlinewidth": 0,
                          "ticks": ""
                        },
                        "colorscale": [
                          [
                            0,
                            "#0d0887"
                          ],
                          [
                            0.1111111111111111,
                            "#46039f"
                          ],
                          [
                            0.2222222222222222,
                            "#7201a8"
                          ],
                          [
                            0.3333333333333333,
                            "#9c179e"
                          ],
                          [
                            0.4444444444444444,
                            "#bd3786"
                          ],
                          [
                            0.5555555555555556,
                            "#d8576b"
                          ],
                          [
                            0.6666666666666666,
                            "#ed7953"
                          ],
                          [
                            0.7777777777777778,
                            "#fb9f3a"
                          ],
                          [
                            0.8888888888888888,
                            "#fdca26"
                          ],
                          [
                            1,
                            "#f0f921"
                          ]
                        ],
                        "type": "contour"
                      }
                    ],
                    "contourcarpet": [
                      {
                        "colorbar": {
                          "outlinewidth": 0,
                          "ticks": ""
                        },
                        "type": "contourcarpet"
                      }
                    ],
                    "heatmap": [
                      {
                        "colorbar": {
                          "outlinewidth": 0,
                          "ticks": ""
                        },
                        "colorscale": [
                          [
                            0,
                            "#0d0887"
                          ],
                          [
                            0.1111111111111111,
                            "#46039f"
                          ],
                          [
                            0.2222222222222222,
                            "#7201a8"
                          ],
                          [
                            0.3333333333333333,
                            "#9c179e"
                          ],
                          [
                            0.4444444444444444,
                            "#bd3786"
                          ],
                          [
                            0.5555555555555556,
                            "#d8576b"
                          ],
                          [
                            0.6666666666666666,
                            "#ed7953"
                          ],
                          [
                            0.7777777777777778,
                            "#fb9f3a"
                          ],
                          [
                            0.8888888888888888,
                            "#fdca26"
                          ],
                          [
                            1,
                            "#f0f921"
                          ]
                        ],
                        "type": "heatmap"
                      }
                    ],
                    "histogram": [
                      {
                        "marker": {
                          "pattern": {
                            "fillmode": "overlay",
                            "size": 10,
                            "solidity": 0.2
                          }
                        },
                        "type": "histogram"
                      }
                    ],
                    "histogram2d": [
                      {
                        "colorbar": {
                          "outlinewidth": 0,
                          "ticks": ""
                        },
                        "colorscale": [
                          [
                            0,
                            "#0d0887"
                          ],
                          [
                            0.1111111111111111,
                            "#46039f"
                          ],
                          [
                            0.2222222222222222,
                            "#7201a8"
                          ],
                          [
                            0.3333333333333333,
                            "#9c179e"
                          ],
                          [
                            0.4444444444444444,
                            "#bd3786"
                          ],
                          [
                            0.5555555555555556,
                            "#d8576b"
                          ],
                          [
                            0.6666666666666666,
                            "#ed7953"
                          ],
                          [
                            0.7777777777777778,
                            "#fb9f3a"
                          ],
                          [
                            0.8888888888888888,
                            "#fdca26"
                          ],
                          [
                            1,
                            "#f0f921"
                          ]
                        ],
                        "type": "histogram2d"
                      }
                    ],
                    "histogram2dcontour": [
                      {
                        "colorbar": {
                          "outlinewidth": 0,
                          "ticks": ""
                        },
                        "colorscale": [
                          [
                            0,
                            "#0d0887"
                          ],
                          [
                            0.1111111111111111,
                            "#46039f"
                          ],
                          [
                            0.2222222222222222,
                            "#7201a8"
                          ],
                          [
                            0.3333333333333333,
                            "#9c179e"
                          ],
                          [
                            0.4444444444444444,
                            "#bd3786"
                          ],
                          [
                            0.5555555555555556,
                            "#d8576b"
                          ],
                          [
                            0.6666666666666666,
                            "#ed7953"
                          ],
                          [
                            0.7777777777777778,
                            "#fb9f3a"
                          ],
                          [
                            0.8888888888888888,
                            "#fdca26"
                          ],
                          [
                            1,
                            "#f0f921"
                          ]
                        ],
                        "type": "histogram2dcontour"
                      }
                    ],
                    "mesh3d": [
                      {
                        "colorbar": {
                          "outlinewidth": 0,
                          "ticks": ""
                        },
                        "type": "mesh3d"
                      }
                    ],
                    "parcoords": [
                      {
                        "line": {
                          "colorbar": {
                            "outlinewidth": 0,
                            "ticks": ""
                          }
                        },
                        "type": "parcoords"
                      }
                    ],
                    "pie": [
                      {
                        "automargin": true,
                        "type": "pie"
                      }
                    ],
                    "scatter": [
                      {
                        "fillpattern": {
                          "fillmode": "overlay",
                          "size": 10,
                          "solidity": 0.2
                        },
                        "type": "scatter"
                      }
                    ],
                    "scatter3d": [
                      {
                        "line": {
                          "colorbar": {
                            "outlinewidth": 0,
                            "ticks": ""
                          }
                        },
                        "marker": {
                          "colorbar": {
                            "outlinewidth": 0,
                            "ticks": ""
                          }
                        },
                        "type": "scatter3d"
                      }
                    ],
                    "scattercarpet": [
                      {
                        "marker": {
                          "colorbar": {
                            "outlinewidth": 0,
                            "ticks": ""
                          }
                        },
                        "type": "scattercarpet"
                      }
                    ],
                    "scattergeo": [
                      {
                        "marker": {
                          "colorbar": {
                            "outlinewidth": 0,
                            "ticks": ""
                          }
                        },
                        "type": "scattergeo"
                      }
                    ],
                    "scattergl": [
                      {
                        "marker": {
                          "colorbar": {
                            "outlinewidth": 0,
                            "ticks": ""
                          }
                        },
                        "type": "scattergl"
                      }
                    ],
                    "scattermap": [
                      {
                        "marker": {
                          "colorbar": {
                            "outlinewidth": 0,
                            "ticks": ""
                          }
                        },
                        "type": "scattermap"
                      }
                    ],
                    "scattermapbox": [
                      {
                        "marker": {
                          "colorbar": {
                            "outlinewidth": 0,
                            "ticks": ""
                          }
                        },
                        "type": "scattermapbox"
                      }
                    ],
                    "scatterpolar": [
                      {
                        "marker": {
                          "colorbar": {
                            "outlinewidth": 0,
                            "ticks": ""
                          }
                        },
                        "type": "scatterpolar"
                      }
                    ],
                    "scatterpolargl": [
                      {
                        "marker": {
                          "colorbar": {
                            "outlinewidth": 0,
                            "ticks": ""
                          }
                        },
                        "type": "scatterpolargl"
                      }
                    ],
                    "scatterternary": [
                      {
                        "marker": {
                          "colorbar": {
                            "outlinewidth": 0,
                            "ticks": ""
                          }
                        },
                        "type": "scatterternary"
                      }
                    ],
                    "surface": [
                      {
                        "colorbar": {
                          "outlinewidth": 0,
                          "ticks": ""
                        },
                        "colorscale": [
                          [
                            0,
                            "#0d0887"
                          ],
                          [
                            0.1111111111111111,
                            "#46039f"
                          ],
                          [
                            0.2222222222222222,
                            "#7201a8"
                          ],
                          [
                            0.3333333333333333,
                            "#9c179e"
                          ],
                          [
                            0.4444444444444444,
                            "#bd3786"
                          ],
                          [
                            0.5555555555555556,
                            "#d8576b"
                          ],
                          [
                            0.6666666666666666,
                            "#ed7953"
                          ],
                          [
                            0.7777777777777778,
                            "#fb9f3a"
                          ],
                          [
                            0.8888888888888888,
                            "#fdca26"
                          ],
                          [
                            1,
                            "#f0f921"
                          ]
                        ],
                        "type": "surface"
                      }
                    ],
                    "table": [
                      {
                        "cells": {
                          "fill": {
                            "color": "#EBF0F8"
                          },
                          "line": {
                            "color": "white"
                          }
                        },
                        "header": {
                          "fill": {
                            "color": "#C8D4E3"
                          },
                          "line": {
                            "color": "white"
                          }
                        },
                        "type": "table"
                      }
                    ]
                  },
                  "layout": {
                    "annotationdefaults": {
                      "arrowcolor": "#2a3f5f",
                      "arrowhead": 0,
                      "arrowwidth": 1
                    },
                    "autotypenumbers": "strict",
                    "coloraxis": {
                      "colorbar": {
                        "outlinewidth": 0,
                        "ticks": ""
                      }
                    },
                    "colorscale": {
                      "diverging": [
                        [
                          0,
                          "#8e0152"
                        ],
                        [
                          0.1,
                          "#c51b7d"
                        ],
                        [
                          0.2,
                          "#de77ae"
                        ],
                        [
                          0.3,
                          "#f1b6da"
                        ],
                        [
                          0.4,
                          "#fde0ef"
                        ],
                        [
                          0.5,
                          "#f7f7f7"
                        ],
                        [
                          0.6,
                          "#e6f5d0"
                        ],
                        [
                          0.7,
                          "#b8e186"
                        ],
                        [
                          0.8,
                          "#7fbc41"
                        ],
                        [
                          0.9,
                          "#4d9221"
                        ],
                        [
                          1,
                          "#276419"
                        ]
                      ],
                      "sequential": [
                        [
                          0,
                          "#0d0887"
                        ],
                        [
                          0.1111111111111111,
                          "#46039f"
                        ],
                        [
                          0.2222222222222222,
                          "#7201a8"
                        ],
                        [
                          0.3333333333333333,
                          "#9c179e"
                        ],
                        [
                          0.4444444444444444,
                          "#bd3786"
                        ],
                        [
                          0.5555555555555556,
                          "#d8576b"
                        ],
                        [
                          0.6666666666666666,
                          "#ed7953"
                        ],
                        [
                          0.7777777777777778,
                          "#fb9f3a"
                        ],
                        [
                          0.8888888888888888,
                          "#fdca26"
                        ],
                        [
                          1,
                          "#f0f921"
                        ]
                      ],
                      "sequentialminus": [
                        [
                          0,
                          "#0d0887"
                        ],
                        [
                          0.1111111111111111,
                          "#46039f"
                        ],
                        [
                          0.2222222222222222,
                          "#7201a8"
                        ],
                        [
                          0.3333333333333333,
                          "#9c179e"
                        ],
                        [
                          0.4444444444444444,
                          "#bd3786"
                        ],
                        [
                          0.5555555555555556,
                          "#d8576b"
                        ],
                        [
                          0.6666666666666666,
                          "#ed7953"
                        ],
                        [
                          0.7777777777777778,
                          "#fb9f3a"
                        ],
                        [
                          0.8888888888888888,
                          "#fdca26"
                        ],
                        [
                          1,
                          "#f0f921"
                        ]
                      ]
                    },
                    "colorway": [
                      "#636efa",
                      "#EF553B",
                      "#00cc96",
                      "#ab63fa",
                      "#FFA15A",
                      "#19d3f3",
                      "#FF6692",
                      "#B6E880",
                      "#FF97FF",
                      "#FECB52"
                    ],
                    "font": {
                      "color": "#2a3f5f"
                    },
                    "geo": {
                      "bgcolor": "white",
                      "lakecolor": "white",
                      "landcolor": "white",
                      "showlakes": true,
                      "showland": true,
                      "subunitcolor": "#C8D4E3"
                    },
                    "hoverlabel": {
                      "align": "left"
                    },
                    "hovermode": "closest",
                    "mapbox": {
                      "style": "light"
                    },
                    "paper_bgcolor": "white",
                    "plot_bgcolor": "white",
                    "polar": {
                      "angularaxis": {
                        "gridcolor": "#EBF0F8",
                        "linecolor": "#EBF0F8",
                        "ticks": ""
                      },
                      "bgcolor": "white",
                      "radialaxis": {
                        "gridcolor": "#EBF0F8",
                        "linecolor": "#EBF0F8",
                        "ticks": ""
                      }
                    },
                    "scene": {
                      "xaxis": {
                        "backgroundcolor": "white",
                        "gridcolor": "#DFE8F3",
                        "gridwidth": 2,
                        "linecolor": "#EBF0F8",
                        "showbackground": true,
                        "ticks": "",
                        "zerolinecolor": "#EBF0F8"
                      },
                      "yaxis": {
                        "backgroundcolor": "white",
                        "gridcolor": "#DFE8F3",
                        "gridwidth": 2,
                        "linecolor": "#EBF0F8",
                        "showbackground": true,
                        "ticks": "",
                        "zerolinecolor": "#EBF0F8"
                      },
                      "zaxis": {
                        "backgroundcolor": "white",
                        "gridcolor": "#DFE8F3",
                        "gridwidth": 2,
                        "linecolor": "#EBF0F8",
                        "showbackground": true,
                        "ticks": "",
                        "zerolinecolor": "#EBF0F8"
                      }
                    },
                    "shapedefaults": {
                      "line": {
                        "color": "#2a3f5f"
                      }
                    },
                    "ternary": {
                      "aaxis": {
                        "gridcolor": "#DFE8F3",
                        "linecolor": "#A2B1C6",
                        "ticks": ""
                      },
                      "baxis": {
                        "gridcolor": "#DFE8F3",
                        "linecolor": "#A2B1C6",
                        "ticks": ""
                      },
                      "bgcolor": "white",
                      "caxis": {
                        "gridcolor": "#DFE8F3",
                        "linecolor": "#A2B1C6",
                        "ticks": ""
                      }
                    },
                    "title": {
                      "x": 0.05
                    },
                    "xaxis": {
                      "automargin": true,
                      "gridcolor": "#EBF0F8",
                      "linecolor": "#EBF0F8",
                      "ticks": "",
                      "title": {
                        "standoff": 15
                      },
                      "zerolinecolor": "#EBF0F8",
                      "zerolinewidth": 2
                    },
                    "yaxis": {
                      "automargin": true,
                      "gridcolor": "#EBF0F8",
                      "linecolor": "#EBF0F8",
                      "ticks": "",
                      "title": {
                        "standoff": 15
                      },
                      "zerolinecolor": "#EBF0F8",
                      "zerolinewidth": 2
                    }
                  }
                },
                "title": {
                  "text": "단순 선형 회귀: 방 개수와 주택 가격"
                },
                "xaxis": {
                  "anchor": "y",
                  "domain": [
                    0,
                    1
                  ],
                  "title": {
                    "text": "방 개수 (GrLivArea)"
                  }
                },
                "yaxis": {
                  "anchor": "x",
                  "domain": [
                    0,
                    1
                  ],
                  "title": {
                    "text": "주택 가격 (SalePrice)"
                  }
                }
              }
            }
          },
          "metadata": {},
          "output_type": "display_data"
        }
      ],
      "source": [
        "# 시각화 (Plotly Express 사용)\n",
        "# 원본 데이터와 회귀선을 함께 그리기\n",
        "fig = px.scatter(x=X_train['GrLivArea'], y=y_train,\n",
        "                 labels={'x': '방 개수 (GrLivArea)', 'y': '주택 가격 (SalePrice)'},\n",
        "                 title='단순 선형 회귀: 방 개수와 주택 가격',\n",
        "                 template='plotly_white')\n",
        "\n",
        "# 회귀선 추가 (Plotly의 trendline 기능 활용)\n",
        "fig.update_traces(marker=dict(size=8, opacity=0.7))\n",
        "fig.add_trace(px.line(x=X_test['GrLivArea'], y=y_pred).data[0]) # 예측된 라인\n",
        "fig.data[1].line.color = 'red'\n",
        "fig.data[1].name = '회귀선'\n",
        "\n",
        "fig.show()"
      ]
    },
    {
      "cell_type": "markdown",
      "metadata": {
        "id": "x9NhYp4XmVHn"
      },
      "source": [
        "#### 2.3 연습 문제\n",
        "\n",
        "1.  위 예제에서 `GrLivArea` 대신 저소득층 비율을 나타내는 `LSTAT` 변수를 사용하여 단순 선형 회귀 모델을 학습시키고, R-squared 값을 비교해 보세요."
      ]
    },
    {
      "cell_type": "markdown",
      "metadata": {},
      "source": [
        "2.  `LSTAT` 모델의 계수(coefficient)는 양수일까요, 음수일까요? 그 이유는 무엇일지 해석해 보세요.\n"
      ]
    },
    {
      "cell_type": "markdown",
      "metadata": {},
      "source": [
        "\n",
        "-----\n",
        "\n",
        "### 🧩 3. 다중 선형 회귀 (Multiple Linear Regression)\n",
        "\n",
        "현실의 문제는 여러 요인이 복합적으로 작용합니다. 다중 선형 회귀는 두 개 이상의 독립 변수를 사용하여 종속 변수를 예측하는 모델입니다.\n",
        "\n",
        "#### 3.1 개념: 여러 개의 특성 활용하기 📈\n",
        "\n",
        "모델의 수식은 변수의 개수만큼 확장됩니다.\n",
        "\n",
        "$$ Y = \\beta_0 + \\beta_1X_1 + \\beta_2X_2 + ... + \\beta_pX_p + \\epsilon $$\n",
        "\n",
        "여기서 각 계수 $\\\\beta\\_i$는 **다른 모든 변수들이 일정하다고 가정할 때**, 해당 변수 $X\\_i$가 1단위 증가할 때 $Y$에 미치는 영향을 나타냅니다. 이 \"다른 변수는 일정하다\"는 가정이 해석에 매우 중요합니다.\n",
        "\n",
        "다중 회귀는 더 많은 정보를 사용하므로 단순 회귀보다 높은 예측 성능을 보이는 경우가 많습니다. 하지만 불필요한 변수를 추가하면 오히려 성능이 저하될 수 있으며, 변수 간 관계(다중공선성)도 고려해야 합니다.\n",
        "\n",
        "#### 3.2 코드 예제: 다중 선형 회귀 모델링\n",
        "\n",
        "이번에는 방 개수(`GrLivArea`), 범죄율(`CRIM`), 학생-교사 비율(`PTRATIO`) 세 가지 변수를 모두 사용하여 주택 가격을 예측해 보겠습니다."
      ]
    },
    {
      "cell_type": "code",
      "execution_count": null,
      "metadata": {},
      "outputs": [],
      "source": []
    },
    {
      "cell_type": "code",
      "execution_count": 88,
      "metadata": {
        "id": "ynZ6_6g6mVHo"
      },
      "outputs": [],
      "source": [
        "import pandas as pd\n",
        "from sklearn.linear_model import LinearRegression\n",
        "from sklearn.model_selection import train_test_split\n",
        "from sklearn.metrics import r2_score\n",
        "\n",
        "# 데이터는 위에서 사용한 df를 그대로 사용합니다.\n",
        "# 독립 변수 선택 - Ames Housing 데이터셋에서 판매가격에 영향을 줄만한 변수들\n",
        "features = ['GrLivArea', 'OverallQual', 'YearBuilt']\n",
        "X_multi = df[features]\n",
        "y = df['SalePrice']\n",
        "\n",
        "X_train, X_test, y_train, y_test = train_test_split(X_multi, y, test_size=0.3, random_state=42)"
      ]
    },
    {
      "cell_type": "code",
      "execution_count": 89,
      "metadata": {},
      "outputs": [
        {
          "data": {
            "text/html": [
              "<style>#sk-container-id-2 {\n",
              "  /* Definition of color scheme common for light and dark mode */\n",
              "  --sklearn-color-text: #000;\n",
              "  --sklearn-color-text-muted: #666;\n",
              "  --sklearn-color-line: gray;\n",
              "  /* Definition of color scheme for unfitted estimators */\n",
              "  --sklearn-color-unfitted-level-0: #fff5e6;\n",
              "  --sklearn-color-unfitted-level-1: #f6e4d2;\n",
              "  --sklearn-color-unfitted-level-2: #ffe0b3;\n",
              "  --sklearn-color-unfitted-level-3: chocolate;\n",
              "  /* Definition of color scheme for fitted estimators */\n",
              "  --sklearn-color-fitted-level-0: #f0f8ff;\n",
              "  --sklearn-color-fitted-level-1: #d4ebff;\n",
              "  --sklearn-color-fitted-level-2: #b3dbfd;\n",
              "  --sklearn-color-fitted-level-3: cornflowerblue;\n",
              "\n",
              "  /* Specific color for light theme */\n",
              "  --sklearn-color-text-on-default-background: var(--sg-text-color, var(--theme-code-foreground, var(--jp-content-font-color1, black)));\n",
              "  --sklearn-color-background: var(--sg-background-color, var(--theme-background, var(--jp-layout-color0, white)));\n",
              "  --sklearn-color-border-box: var(--sg-text-color, var(--theme-code-foreground, var(--jp-content-font-color1, black)));\n",
              "  --sklearn-color-icon: #696969;\n",
              "\n",
              "  @media (prefers-color-scheme: dark) {\n",
              "    /* Redefinition of color scheme for dark theme */\n",
              "    --sklearn-color-text-on-default-background: var(--sg-text-color, var(--theme-code-foreground, var(--jp-content-font-color1, white)));\n",
              "    --sklearn-color-background: var(--sg-background-color, var(--theme-background, var(--jp-layout-color0, #111)));\n",
              "    --sklearn-color-border-box: var(--sg-text-color, var(--theme-code-foreground, var(--jp-content-font-color1, white)));\n",
              "    --sklearn-color-icon: #878787;\n",
              "  }\n",
              "}\n",
              "\n",
              "#sk-container-id-2 {\n",
              "  color: var(--sklearn-color-text);\n",
              "}\n",
              "\n",
              "#sk-container-id-2 pre {\n",
              "  padding: 0;\n",
              "}\n",
              "\n",
              "#sk-container-id-2 input.sk-hidden--visually {\n",
              "  border: 0;\n",
              "  clip: rect(1px 1px 1px 1px);\n",
              "  clip: rect(1px, 1px, 1px, 1px);\n",
              "  height: 1px;\n",
              "  margin: -1px;\n",
              "  overflow: hidden;\n",
              "  padding: 0;\n",
              "  position: absolute;\n",
              "  width: 1px;\n",
              "}\n",
              "\n",
              "#sk-container-id-2 div.sk-dashed-wrapped {\n",
              "  border: 1px dashed var(--sklearn-color-line);\n",
              "  margin: 0 0.4em 0.5em 0.4em;\n",
              "  box-sizing: border-box;\n",
              "  padding-bottom: 0.4em;\n",
              "  background-color: var(--sklearn-color-background);\n",
              "}\n",
              "\n",
              "#sk-container-id-2 div.sk-container {\n",
              "  /* jupyter's `normalize.less` sets `[hidden] { display: none; }`\n",
              "     but bootstrap.min.css set `[hidden] { display: none !important; }`\n",
              "     so we also need the `!important` here to be able to override the\n",
              "     default hidden behavior on the sphinx rendered scikit-learn.org.\n",
              "     See: https://github.com/scikit-learn/scikit-learn/issues/21755 */\n",
              "  display: inline-block !important;\n",
              "  position: relative;\n",
              "}\n",
              "\n",
              "#sk-container-id-2 div.sk-text-repr-fallback {\n",
              "  display: none;\n",
              "}\n",
              "\n",
              "div.sk-parallel-item,\n",
              "div.sk-serial,\n",
              "div.sk-item {\n",
              "  /* draw centered vertical line to link estimators */\n",
              "  background-image: linear-gradient(var(--sklearn-color-text-on-default-background), var(--sklearn-color-text-on-default-background));\n",
              "  background-size: 2px 100%;\n",
              "  background-repeat: no-repeat;\n",
              "  background-position: center center;\n",
              "}\n",
              "\n",
              "/* Parallel-specific style estimator block */\n",
              "\n",
              "#sk-container-id-2 div.sk-parallel-item::after {\n",
              "  content: \"\";\n",
              "  width: 100%;\n",
              "  border-bottom: 2px solid var(--sklearn-color-text-on-default-background);\n",
              "  flex-grow: 1;\n",
              "}\n",
              "\n",
              "#sk-container-id-2 div.sk-parallel {\n",
              "  display: flex;\n",
              "  align-items: stretch;\n",
              "  justify-content: center;\n",
              "  background-color: var(--sklearn-color-background);\n",
              "  position: relative;\n",
              "}\n",
              "\n",
              "#sk-container-id-2 div.sk-parallel-item {\n",
              "  display: flex;\n",
              "  flex-direction: column;\n",
              "}\n",
              "\n",
              "#sk-container-id-2 div.sk-parallel-item:first-child::after {\n",
              "  align-self: flex-end;\n",
              "  width: 50%;\n",
              "}\n",
              "\n",
              "#sk-container-id-2 div.sk-parallel-item:last-child::after {\n",
              "  align-self: flex-start;\n",
              "  width: 50%;\n",
              "}\n",
              "\n",
              "#sk-container-id-2 div.sk-parallel-item:only-child::after {\n",
              "  width: 0;\n",
              "}\n",
              "\n",
              "/* Serial-specific style estimator block */\n",
              "\n",
              "#sk-container-id-2 div.sk-serial {\n",
              "  display: flex;\n",
              "  flex-direction: column;\n",
              "  align-items: center;\n",
              "  background-color: var(--sklearn-color-background);\n",
              "  padding-right: 1em;\n",
              "  padding-left: 1em;\n",
              "}\n",
              "\n",
              "\n",
              "/* Toggleable style: style used for estimator/Pipeline/ColumnTransformer box that is\n",
              "clickable and can be expanded/collapsed.\n",
              "- Pipeline and ColumnTransformer use this feature and define the default style\n",
              "- Estimators will overwrite some part of the style using the `sk-estimator` class\n",
              "*/\n",
              "\n",
              "/* Pipeline and ColumnTransformer style (default) */\n",
              "\n",
              "#sk-container-id-2 div.sk-toggleable {\n",
              "  /* Default theme specific background. It is overwritten whether we have a\n",
              "  specific estimator or a Pipeline/ColumnTransformer */\n",
              "  background-color: var(--sklearn-color-background);\n",
              "}\n",
              "\n",
              "/* Toggleable label */\n",
              "#sk-container-id-2 label.sk-toggleable__label {\n",
              "  cursor: pointer;\n",
              "  display: flex;\n",
              "  width: 100%;\n",
              "  margin-bottom: 0;\n",
              "  padding: 0.5em;\n",
              "  box-sizing: border-box;\n",
              "  text-align: center;\n",
              "  align-items: start;\n",
              "  justify-content: space-between;\n",
              "  gap: 0.5em;\n",
              "}\n",
              "\n",
              "#sk-container-id-2 label.sk-toggleable__label .caption {\n",
              "  font-size: 0.6rem;\n",
              "  font-weight: lighter;\n",
              "  color: var(--sklearn-color-text-muted);\n",
              "}\n",
              "\n",
              "#sk-container-id-2 label.sk-toggleable__label-arrow:before {\n",
              "  /* Arrow on the left of the label */\n",
              "  content: \"▸\";\n",
              "  float: left;\n",
              "  margin-right: 0.25em;\n",
              "  color: var(--sklearn-color-icon);\n",
              "}\n",
              "\n",
              "#sk-container-id-2 label.sk-toggleable__label-arrow:hover:before {\n",
              "  color: var(--sklearn-color-text);\n",
              "}\n",
              "\n",
              "/* Toggleable content - dropdown */\n",
              "\n",
              "#sk-container-id-2 div.sk-toggleable__content {\n",
              "  max-height: 0;\n",
              "  max-width: 0;\n",
              "  overflow: hidden;\n",
              "  text-align: left;\n",
              "  /* unfitted */\n",
              "  background-color: var(--sklearn-color-unfitted-level-0);\n",
              "}\n",
              "\n",
              "#sk-container-id-2 div.sk-toggleable__content.fitted {\n",
              "  /* fitted */\n",
              "  background-color: var(--sklearn-color-fitted-level-0);\n",
              "}\n",
              "\n",
              "#sk-container-id-2 div.sk-toggleable__content pre {\n",
              "  margin: 0.2em;\n",
              "  border-radius: 0.25em;\n",
              "  color: var(--sklearn-color-text);\n",
              "  /* unfitted */\n",
              "  background-color: var(--sklearn-color-unfitted-level-0);\n",
              "}\n",
              "\n",
              "#sk-container-id-2 div.sk-toggleable__content.fitted pre {\n",
              "  /* unfitted */\n",
              "  background-color: var(--sklearn-color-fitted-level-0);\n",
              "}\n",
              "\n",
              "#sk-container-id-2 input.sk-toggleable__control:checked~div.sk-toggleable__content {\n",
              "  /* Expand drop-down */\n",
              "  max-height: 200px;\n",
              "  max-width: 100%;\n",
              "  overflow: auto;\n",
              "}\n",
              "\n",
              "#sk-container-id-2 input.sk-toggleable__control:checked~label.sk-toggleable__label-arrow:before {\n",
              "  content: \"▾\";\n",
              "}\n",
              "\n",
              "/* Pipeline/ColumnTransformer-specific style */\n",
              "\n",
              "#sk-container-id-2 div.sk-label input.sk-toggleable__control:checked~label.sk-toggleable__label {\n",
              "  color: var(--sklearn-color-text);\n",
              "  background-color: var(--sklearn-color-unfitted-level-2);\n",
              "}\n",
              "\n",
              "#sk-container-id-2 div.sk-label.fitted input.sk-toggleable__control:checked~label.sk-toggleable__label {\n",
              "  background-color: var(--sklearn-color-fitted-level-2);\n",
              "}\n",
              "\n",
              "/* Estimator-specific style */\n",
              "\n",
              "/* Colorize estimator box */\n",
              "#sk-container-id-2 div.sk-estimator input.sk-toggleable__control:checked~label.sk-toggleable__label {\n",
              "  /* unfitted */\n",
              "  background-color: var(--sklearn-color-unfitted-level-2);\n",
              "}\n",
              "\n",
              "#sk-container-id-2 div.sk-estimator.fitted input.sk-toggleable__control:checked~label.sk-toggleable__label {\n",
              "  /* fitted */\n",
              "  background-color: var(--sklearn-color-fitted-level-2);\n",
              "}\n",
              "\n",
              "#sk-container-id-2 div.sk-label label.sk-toggleable__label,\n",
              "#sk-container-id-2 div.sk-label label {\n",
              "  /* The background is the default theme color */\n",
              "  color: var(--sklearn-color-text-on-default-background);\n",
              "}\n",
              "\n",
              "/* On hover, darken the color of the background */\n",
              "#sk-container-id-2 div.sk-label:hover label.sk-toggleable__label {\n",
              "  color: var(--sklearn-color-text);\n",
              "  background-color: var(--sklearn-color-unfitted-level-2);\n",
              "}\n",
              "\n",
              "/* Label box, darken color on hover, fitted */\n",
              "#sk-container-id-2 div.sk-label.fitted:hover label.sk-toggleable__label.fitted {\n",
              "  color: var(--sklearn-color-text);\n",
              "  background-color: var(--sklearn-color-fitted-level-2);\n",
              "}\n",
              "\n",
              "/* Estimator label */\n",
              "\n",
              "#sk-container-id-2 div.sk-label label {\n",
              "  font-family: monospace;\n",
              "  font-weight: bold;\n",
              "  display: inline-block;\n",
              "  line-height: 1.2em;\n",
              "}\n",
              "\n",
              "#sk-container-id-2 div.sk-label-container {\n",
              "  text-align: center;\n",
              "}\n",
              "\n",
              "/* Estimator-specific */\n",
              "#sk-container-id-2 div.sk-estimator {\n",
              "  font-family: monospace;\n",
              "  border: 1px dotted var(--sklearn-color-border-box);\n",
              "  border-radius: 0.25em;\n",
              "  box-sizing: border-box;\n",
              "  margin-bottom: 0.5em;\n",
              "  /* unfitted */\n",
              "  background-color: var(--sklearn-color-unfitted-level-0);\n",
              "}\n",
              "\n",
              "#sk-container-id-2 div.sk-estimator.fitted {\n",
              "  /* fitted */\n",
              "  background-color: var(--sklearn-color-fitted-level-0);\n",
              "}\n",
              "\n",
              "/* on hover */\n",
              "#sk-container-id-2 div.sk-estimator:hover {\n",
              "  /* unfitted */\n",
              "  background-color: var(--sklearn-color-unfitted-level-2);\n",
              "}\n",
              "\n",
              "#sk-container-id-2 div.sk-estimator.fitted:hover {\n",
              "  /* fitted */\n",
              "  background-color: var(--sklearn-color-fitted-level-2);\n",
              "}\n",
              "\n",
              "/* Specification for estimator info (e.g. \"i\" and \"?\") */\n",
              "\n",
              "/* Common style for \"i\" and \"?\" */\n",
              "\n",
              ".sk-estimator-doc-link,\n",
              "a:link.sk-estimator-doc-link,\n",
              "a:visited.sk-estimator-doc-link {\n",
              "  float: right;\n",
              "  font-size: smaller;\n",
              "  line-height: 1em;\n",
              "  font-family: monospace;\n",
              "  background-color: var(--sklearn-color-background);\n",
              "  border-radius: 1em;\n",
              "  height: 1em;\n",
              "  width: 1em;\n",
              "  text-decoration: none !important;\n",
              "  margin-left: 0.5em;\n",
              "  text-align: center;\n",
              "  /* unfitted */\n",
              "  border: var(--sklearn-color-unfitted-level-1) 1pt solid;\n",
              "  color: var(--sklearn-color-unfitted-level-1);\n",
              "}\n",
              "\n",
              ".sk-estimator-doc-link.fitted,\n",
              "a:link.sk-estimator-doc-link.fitted,\n",
              "a:visited.sk-estimator-doc-link.fitted {\n",
              "  /* fitted */\n",
              "  border: var(--sklearn-color-fitted-level-1) 1pt solid;\n",
              "  color: var(--sklearn-color-fitted-level-1);\n",
              "}\n",
              "\n",
              "/* On hover */\n",
              "div.sk-estimator:hover .sk-estimator-doc-link:hover,\n",
              ".sk-estimator-doc-link:hover,\n",
              "div.sk-label-container:hover .sk-estimator-doc-link:hover,\n",
              ".sk-estimator-doc-link:hover {\n",
              "  /* unfitted */\n",
              "  background-color: var(--sklearn-color-unfitted-level-3);\n",
              "  color: var(--sklearn-color-background);\n",
              "  text-decoration: none;\n",
              "}\n",
              "\n",
              "div.sk-estimator.fitted:hover .sk-estimator-doc-link.fitted:hover,\n",
              ".sk-estimator-doc-link.fitted:hover,\n",
              "div.sk-label-container:hover .sk-estimator-doc-link.fitted:hover,\n",
              ".sk-estimator-doc-link.fitted:hover {\n",
              "  /* fitted */\n",
              "  background-color: var(--sklearn-color-fitted-level-3);\n",
              "  color: var(--sklearn-color-background);\n",
              "  text-decoration: none;\n",
              "}\n",
              "\n",
              "/* Span, style for the box shown on hovering the info icon */\n",
              ".sk-estimator-doc-link span {\n",
              "  display: none;\n",
              "  z-index: 9999;\n",
              "  position: relative;\n",
              "  font-weight: normal;\n",
              "  right: .2ex;\n",
              "  padding: .5ex;\n",
              "  margin: .5ex;\n",
              "  width: min-content;\n",
              "  min-width: 20ex;\n",
              "  max-width: 50ex;\n",
              "  color: var(--sklearn-color-text);\n",
              "  box-shadow: 2pt 2pt 4pt #999;\n",
              "  /* unfitted */\n",
              "  background: var(--sklearn-color-unfitted-level-0);\n",
              "  border: .5pt solid var(--sklearn-color-unfitted-level-3);\n",
              "}\n",
              "\n",
              ".sk-estimator-doc-link.fitted span {\n",
              "  /* fitted */\n",
              "  background: var(--sklearn-color-fitted-level-0);\n",
              "  border: var(--sklearn-color-fitted-level-3);\n",
              "}\n",
              "\n",
              ".sk-estimator-doc-link:hover span {\n",
              "  display: block;\n",
              "}\n",
              "\n",
              "/* \"?\"-specific style due to the `<a>` HTML tag */\n",
              "\n",
              "#sk-container-id-2 a.estimator_doc_link {\n",
              "  float: right;\n",
              "  font-size: 1rem;\n",
              "  line-height: 1em;\n",
              "  font-family: monospace;\n",
              "  background-color: var(--sklearn-color-background);\n",
              "  border-radius: 1rem;\n",
              "  height: 1rem;\n",
              "  width: 1rem;\n",
              "  text-decoration: none;\n",
              "  /* unfitted */\n",
              "  color: var(--sklearn-color-unfitted-level-1);\n",
              "  border: var(--sklearn-color-unfitted-level-1) 1pt solid;\n",
              "}\n",
              "\n",
              "#sk-container-id-2 a.estimator_doc_link.fitted {\n",
              "  /* fitted */\n",
              "  border: var(--sklearn-color-fitted-level-1) 1pt solid;\n",
              "  color: var(--sklearn-color-fitted-level-1);\n",
              "}\n",
              "\n",
              "/* On hover */\n",
              "#sk-container-id-2 a.estimator_doc_link:hover {\n",
              "  /* unfitted */\n",
              "  background-color: var(--sklearn-color-unfitted-level-3);\n",
              "  color: var(--sklearn-color-background);\n",
              "  text-decoration: none;\n",
              "}\n",
              "\n",
              "#sk-container-id-2 a.estimator_doc_link.fitted:hover {\n",
              "  /* fitted */\n",
              "  background-color: var(--sklearn-color-fitted-level-3);\n",
              "}\n",
              "</style><div id=\"sk-container-id-2\" class=\"sk-top-container\"><div class=\"sk-text-repr-fallback\"><pre>LinearRegression()</pre><b>In a Jupyter environment, please rerun this cell to show the HTML representation or trust the notebook. <br />On GitHub, the HTML representation is unable to render, please try loading this page with nbviewer.org.</b></div><div class=\"sk-container\" hidden><div class=\"sk-item\"><div class=\"sk-estimator fitted sk-toggleable\"><input class=\"sk-toggleable__control sk-hidden--visually\" id=\"sk-estimator-id-2\" type=\"checkbox\" checked><label for=\"sk-estimator-id-2\" class=\"sk-toggleable__label fitted sk-toggleable__label-arrow\"><div><div>LinearRegression</div></div><div><a class=\"sk-estimator-doc-link fitted\" rel=\"noreferrer\" target=\"_blank\" href=\"https://scikit-learn.org/1.6/modules/generated/sklearn.linear_model.LinearRegression.html\">?<span>Documentation for LinearRegression</span></a><span class=\"sk-estimator-doc-link fitted\">i<span>Fitted</span></span></div></label><div class=\"sk-toggleable__content fitted\"><pre>LinearRegression()</pre></div> </div></div></div></div>"
            ],
            "text/plain": [
              "LinearRegression()"
            ]
          },
          "execution_count": 89,
          "metadata": {},
          "output_type": "execute_result"
        }
      ],
      "source": [
        "# 다중 회귀 모델 생성 및 학습\n",
        "lr_multi = LinearRegression()\n",
        "lr_multi.fit(X_train, y_train)"
      ]
    },
    {
      "cell_type": "code",
      "execution_count": 90,
      "metadata": {},
      "outputs": [
        {
          "name": "stdout",
          "output_type": "stream",
          "text": [
            "다중 회귀 모델 계수:\n",
            "  - GrLivArea: 58.5720\n",
            "  - OverallQual: 24755.1006\n",
            "  - YearBuilt: 515.0353\n",
            "절편: -1075093.8347\n"
          ]
        }
      ],
      "source": [
        "# 계수 확인\n",
        "print(\"다중 회귀 모델 계수:\")\n",
        "for feature, coef in zip(features, lr_multi.coef_):\n",
        "    print(f\"  - {feature}: {coef:.4f}\")\n",
        "print(f\"절편: {lr_multi.intercept_:.4f}\")"
      ]
    },
    {
      "cell_type": "code",
      "execution_count": 91,
      "metadata": {},
      "outputs": [
        {
          "name": "stdout",
          "output_type": "stream",
          "text": [
            "다중 회귀 R-squared: 0.7618\n"
          ]
        }
      ],
      "source": [
        "# 예측 및 평가\n",
        "y_pred_multi = lr_multi.predict(X_test)\n",
        "print(f\"다중 회귀 R-squared: {r2_score(y_test, y_pred_multi):.4f}\")"
      ]
    },
    {
      "cell_type": "markdown",
      "metadata": {
        "id": "LHBr0nBCmVHo"
      },
      "source": [
        "단순 회귀 모델의 R-squared 값과 비교해 보면, 여러 변수를 사용했을 때 설명력이 더 높아진 것을 확인할 수 있습니다."
      ]
    },
    {
      "cell_type": "markdown",
      "metadata": {},
      "source": [
        "#### 3.3 연습 문제\n",
        "\n",
        "1.  위 다중 회귀 모델에 `NOX`(산화질소 농도) 변수를 추가하여 R-squared 값이 어떻게 변하는지 확인해 보세요.\n"
      ]
    },
    {
      "cell_type": "markdown",
      "metadata": {},
      "source": [
        "2.  `GrLivArea`의 계수가 단순 회귀 때와 다중 회귀 때 달라진 것을 볼 수 있습니다. 그 이유는 무엇일지 생각해 보세요.\n"
      ]
    },
    {
      "cell_type": "markdown",
      "metadata": {},
      "source": [
        "-----\n",
        "### 🎢 4. 다항 회귀 (Polynomial Regression)와 과적합\n",
        "\n",
        "데이터의 관계가 항상 직선은 아닙니다. 다항 회귀는 독립 변수를 거듭제곱하여 생성된 새로운 특성들을 추가함으로써 비선형 관계를 모델링하는 방법입니다."
      ]
    },
    {
      "cell_type": "markdown",
      "metadata": {},
      "source": [
        "#### 4.1 개념: 비선형 관계를 포착하는 방법 〰️\n",
        "\n",
        "예를 들어 2차 다항 회귀는 기존 변수 $X$ 외에 $X^2$을 새로운 변수로 추가하여 선형 회귀를 수행합니다.\n",
        "\n",
        "$$ Y = \\beta_0 + \\beta_1X + \\beta_2X^2 + \\epsilon $$\n",
        "\n",
        "이는 여전히 계수( $\\beta$ )에 대해 선형이기 때문에 선형 회귀의 틀 안에서 해결할 수 있습니다.\n",
        "\n",
        "`scikit-learn`의 `PolynomialFeatures`를 사용하여 간단히 구현할 수 있습니다.\n",
        "\n",
        "하지만 차수(degree)를 너무 높이면 모델이 훈련 데이터에만 과도하게 맞춰져 새로운 데이터에 대한 예측 성능이 떨어지는 **과적합(Overfitting)** 문제가 발생할 수 있습니다. \n",
        "\n",
        "모델이 너무 복잡해져 데이터의 실제 패턴이 아닌 노이즈까지 학습하기 때문입니다.\n",
        "\n",
        "우리는 `OverallQual`(전반적인 품질) 변수와 `SalePrice` 간의 관계를 다항 회귀로 모델링하여 이러한 개념을 실습해보겠습니다."
      ]
    },
    {
      "cell_type": "markdown",
      "metadata": {},
      "source": [
        "#### 4.2 코드 예제: `PolynomialFeatures`를 이용한 다항 회귀\n",
        "\n",
        "`OverallQual`(전반적인 품질)과 `SalePrice` 간의 비선형 관계를 다항 회귀로 모델링하고, 차수에 따른 과적합 현상을 시각적으로 확인해 보겠습니다."
      ]
    },
    {
      "cell_type": "code",
      "execution_count": 93,
      "metadata": {
        "id": "Lokk43mlmVHo"
      },
      "outputs": [],
      "source": [
        "import numpy as np\n",
        "import pandas as pd\n",
        "import plotly.express as px\n",
        "import plotly.graph_objects as go\n",
        "from sklearn.preprocessing import PolynomialFeatures\n",
        "from sklearn.linear_model import LinearRegression\n",
        "from sklearn.pipeline import make_pipeline\n",
        "from sklearn.metrics import mean_squared_error\n",
        "\n",
        "# OverallQual 변수 사용 (전반적인 품질 - 낮을수록 저품질)\n",
        "X = df[['OverallQual']]\n",
        "y = df['SalePrice']\n",
        "\n",
        "X_train, X_test, y_train, y_test = train_test_split(X, y, test_size=0.3, random_state=42)"
      ]
    },
    {
      "cell_type": "code",
      "execution_count": 24,
      "metadata": {},
      "outputs": [],
      "source": [
        "# RMSE 계산 함수 정의\n",
        "def calculate_rmse(y_true, y_pred):\n",
        "    return np.sqrt(mean_squared_error(y_true, y_pred))"
      ]
    },
    {
      "cell_type": "code",
      "execution_count": 95,
      "metadata": {},
      "outputs": [],
      "source": [
        "# 시각화를 위한 데이터 정렬\n",
        "X_range = np.linspace(X.min(), X.max(), 100).reshape(-1, 1)\n",
        "X_range = pd.DataFrame(X_range, columns=['OverallQual'])"
      ]
    },
    {
      "cell_type": "code",
      "execution_count": 96,
      "metadata": {},
      "outputs": [
        {
          "name": "stdout",
          "output_type": "stream",
          "text": [
            "Degree 1 - Train RMSE: 48087.6739, Test RMSE: 49834.0154\n"
          ]
        }
      ],
      "source": [
        "# Degree 1 모델\n",
        "poly_reg_1 = make_pipeline(PolynomialFeatures(degree=1), LinearRegression())\n",
        "poly_reg_1.fit(X_train, y_train)\n",
        "y_pred_range_1 = poly_reg_1.predict(X_range)\n",
        "y_pred_train_1 = poly_reg_1.predict(X_train)\n",
        "y_pred_test_1 = poly_reg_1.predict(X_test)\n",
        "train_rmse_1 = calculate_rmse(y_train, y_pred_train_1)\n",
        "test_rmse_1 = calculate_rmse(y_test, y_pred_test_1)\n",
        "print(f\"Degree 1 - Train RMSE: {train_rmse_1:.4f}, Test RMSE: {test_rmse_1:.4f}\")"
      ]
    },
    {
      "cell_type": "code",
      "execution_count": 97,
      "metadata": {},
      "outputs": [
        {
          "name": "stdout",
          "output_type": "stream",
          "text": [
            "Degree 2 - Train RMSE: 44884.1997, Test RMSE: 45461.5718\n"
          ]
        }
      ],
      "source": [
        "# Degree 2 모델\n",
        "poly_reg_2 = make_pipeline(PolynomialFeatures(degree=2), LinearRegression())\n",
        "poly_reg_2.fit(X_train, y_train)\n",
        "y_pred_range_2 = poly_reg_2.predict(X_range)\n",
        "y_pred_train_2 = poly_reg_2.predict(X_train)\n",
        "y_pred_test_2 = poly_reg_2.predict(X_test)\n",
        "train_rmse_2 = calculate_rmse(y_train, y_pred_train_2)\n",
        "test_rmse_2 = calculate_rmse(y_test, y_pred_test_2)\n",
        "print(f\"Degree 2 - Train RMSE: {train_rmse_2:.4f}, Test RMSE: {test_rmse_2:.4f}\")"
      ]
    },
    {
      "cell_type": "code",
      "execution_count": 113,
      "metadata": {},
      "outputs": [
        {
          "ename": "SyntaxError",
          "evalue": "invalid syntax (2477402172.py, line 7)",
          "output_type": "error",
          "traceback": [
            "  \u001b[36mCell\u001b[39m\u001b[36m \u001b[39m\u001b[32mIn[113]\u001b[39m\u001b[32m, line 7\u001b[39m\n\u001b[31m    \u001b[39m\u001b[31mtrain_rmse_10 = calculate_rmse(y_train, y_pred_train_10)ㅋ\u001b[39m\n                                                            ^\n\u001b[31mSyntaxError\u001b[39m\u001b[31m:\u001b[39m invalid syntax\n"
          ]
        }
      ],
      "source": [
        "# Degree 10 모델\n",
        "poly_reg_10 = make_pipeline(PolynomialFeatures(degree=10), LinearRegression())\n",
        "poly_reg_10.fit(X_train, y_train)\n",
        "y_pred_range_10 = poly_reg_10.predict(X_range)\n",
        "y_pred_train_10 = poly_reg_10.predict(X_train)\n",
        "y_pred_test_10 = poly_reg_10.predict(X_test)\n",
        "train_rmse_10 = calculate_rmse(y_train, y_pred_train_10)ㅋ\n",
        "test_rmse_10 = calculate_rmse(y_test, y_pred_test_10)\n",
        "print(f\"Degree 10 - Train RMSE: {train_rmse_10:.4f}, Test RMSE: {test_rmse_10:.4f}\")"
      ]
    },
    {
      "cell_type": "code",
      "execution_count": 114,
      "metadata": {},
      "outputs": [
        {
          "data": {
            "application/vnd.plotly.v1+json": {
              "config": {
                "plotlyServerURL": "https://plot.ly"
              },
              "data": [
                {
                  "marker": {
                    "color": "lightblue"
                  },
                  "mode": "markers",
                  "name": "훈련 데이터",
                  "opacity": 0.6,
                  "showlegend": true,
                  "type": "scatter",
                  "x": {
                    "bdata": "BwUHCQcGBgUGBwUGBQcHBAUHCQkIBgUFBgcFCgcHBQkGBQUGBwcFBQUHBQYGBQcFBQQHCAgFBwgGBgcFAwYJBAUFBgYGBQcFBwMFCAUGCAQIBwUHBwYHBwgFBwYICAcGBwYFBQYGBQYICAgJBgYGBQoGCAUGBwQFBwcHBwUHCQUIBQgFBgQHBQUGCAYHCAYGCAUHBQcGCAYEBAUFBgYHBAcIBwcFBAYHCAcGBQgEBwQIBgUGBgYFBwUHCAYFCAcFBQgGCAcHBwYFBggJBwgECQYGBQYECQcFBwkFCgUEBAYBBwcFCAYFBgUGBwUHCAcGBgUJBgUHBQgFBwUHCAgHBwgGBwgIBwkFBwYGCAYECQUFBQQECQUIBwUIBwYEBQgFBQYGBwYEBgYFBgYGBwUFBwYFBwcIBAQEBwcGCQcGBQYHBwYHBAYGCAgGBwgEBgQFBwYDBQUDBwcGCgUGBAoFCAQHBQcFBwgHCAUEBQcFCAYFBwcGBgUFBQUHBQgHBAYHBgUHBwYHBgoGCgcDBQcEBwUHBQYHBgcFBwgFBgcHBgYGBgYFBwYFBQUGBwUGBQYHBgYHBgYEBAQHCAUFBwgHCQYFBAgHBgUDBwYECQcGBgUGBwcDBAgIBwYGCAcFBgUGBQQHBgYHBgcFBAYICgUHBQUICAUIBggFBQYCBAUFBgUGBwYFBQcFBQQGBgcFBgYFBgYECAUIBQUIBQUDBAkHBQUEBQcGBgYIBwUGCAUHBgUFBAYGBAUFAQcDBwUGCgYFBgYGBgYFBwQEBgUICAUJBQYGBwUGCAcGBQcFBgQKCAcFBQcGCAYICAYIBAUHBQYGBwUFBgUFBgYFBgUHBAUFCAcFBQYGBQYFBQYEBwgHBQgEBQgFCAUFBQcIBQYHBwgHBQUGBQYGCAgHBgcHCQUHCAcHBgYGBAcFBwcGBAYGBgYHBQYEBQcHBggFBgYEBQYICAcGBQcFBggGBQYGBgcFBwoIBQUFBgYHBQQDBgYFBwYIBQgIBgYGBgMEBwkFBgcFBgcHBgMFCQgIBAQGBAcGBQgGBgQGBQUGBgcGBQYIBQcGCAUDBgUFBgMFBgcHBwgHBwgIBAcHBwgGBgYEBgcHBgYIBQcHBgcFBgUGCAQGCAQGBQUIBgUFBgYHBgYHBwYGBgUFBQgHBQcGCQYHBgUGBAYGBwUGBAUFBwUFBwYHBQgIBQQJBQUGBQYHBwYEBQcGCAYJBQUGBQUEBgYEBwYHBQYGBQgHBgUFBwUGBwUHBwcGBAYJBAcIBQYHBQUHCQYHBgcFBgUHCAcFBwcIBgYFBggFBwcJBQYHBQgHBwUHCAYHBgcEBQUHBgUIBwgJCAQHBgUFBgUGBwQIBgQFBwc=",
                    "dtype": "i1"
                  },
                  "xaxis": "x",
                  "y": {
                    "bdata": "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",
                    "dtype": "i4"
                  },
                  "yaxis": "y"
                },
                {
                  "line": {
                    "color": "orange",
                    "width": 3
                  },
                  "mode": "lines",
                  "name": "Degree 1 (Test RMSE: 49834.02)",
                  "showlegend": true,
                  "type": "scatter",
                  "x": {
                    "bdata": "AAAAAAAA8D900UUXXXTxP+miiy666PI/XXTRRRdd9D/SRRdddNH1P0YXXXTRRfc/uuiiiy66+D8uuuiiiy76P6OLLrroovs/GF100UUX/T+MLrrooov+PwAAAAAAAABAuuiiiy66AEB00UUXXXQBQC666KKLLgJA6aKLLrroAkCjiy666KIDQF100UUXXQRAGF100UUXBUDSRRdddNEFQIwuuuiiiwZARhdddNFFB0AAAAAAAAAIQLrooosuughAdNFFF110CUAvuuiiiy4KQOmiiy666ApAo4suuuiiC0BddNFFF10MQBdddNFFFw1A0kUXXXTRDUCMLrrooosOQEYXXXTRRQ9AAAAAAAAAEEBddNFFF10QQLrooosuuhBAGF100UUXEUB00UUXXXQRQNJFF1100RFALrrooosuEkCMLrrooosSQOmiiy666BJARhdddNFFE0Cjiy666KITQAAAAAAAABRAXXTRRRddFEC66KKLLroUQBdddNFFFxVAdNFFF110FUDSRRdddNEVQC+66KKLLhZAjC666KKLFkDpoosuuugWQEYXXXTRRRdAo4suuuiiF0AAAAAAAAAYQF100UUXXRhAuuiiiy66GEAXXXTRRRcZQHXRRRdddBlA0kUXXXTRGUAvuuiiiy4aQIwuuuiiixpA6aKLLrroGkBGF1100UUbQKOLLrroohtAAAAAAAAAHEBddNFFF10cQLrooosuuhxAF1100UUXHUB10UUXXXQdQNJFF1100R1AL7rooosuHkCMLrroooseQOmiiy666B5ARhdddNFFH0Cjiy666KIfQAAAAAAAACBALrrooosuIEBddNFFF10gQIwuuuiiiyBAuuiiiy66IEDpoosuuuggQBhddNFFFyFARhdddNFFIUB00UUXXXQhQKOLLrrooiFA0kUXXXTRIUAAAAAAAAAiQC+66KKLLiJAXXTRRRddIkCMLrrooosiQLrooosuuiJA6aKLLrroIkAXXXTRRRcjQEYXXXTRRSNAdNFFF110I0Cjiy666KIjQNJFF1100SNAAAAAAAAAJEA=",
                    "dtype": "f8"
                  },
                  "xaxis": "x",
                  "y": {
                    "bdata": "x7rM5dKt5sBbKcCiILXkwO2Xs19uvOLAgQanHLzD4MAm6jSzE5bdwE7HGy2vpNnAdKQCp0qz1cCcgekg5sHRwIC9oDUDocvAyHduKTq+w8AwZHg64ra3wEBjT4hAxZ/AQMpC2QdRn0DwPbUO1Jm3QKjkjBOzr8NAaCq/H3ySy0AMuPiVorrRQOTaERwHrNVAxP0qomud2UCcIEQo0I7dQLqhLlcawOBAJjM7msy44kCUxEfdfrHkQABWVCAxquZAbOdgY+Oi6EDceG2mlZvqQEgKeulHlOxAtJuGLPqM7kCQlsk31kLwQEbfT1kvP/FA/ifWeog78kC0cFyc4TfzQGq54r06NPRAIAJp35Mw9UDWSu8A7Sz2QIyTdSJGKfdARtz7Q58l+ED4JIJl+CH5QLJtCIdRHvpAZLaOqKoa+0Ae/xTKAxf8QNRHm+tcE/1AipAhDbYP/kBA2acuDwz/QPsQFyg0BABBVjXauGCCAEGxWZ1JjQABQQx+YNq5fgFBaKIja+b8AUHExub7EnsCQR/rqYw/+QJBeg9tHWx3A0HVMzCumPUDQTBY8z7FcwRBi3y2z/HxBEHnoHlgHnAFQUHFPPFK7gVBnen/gXdsBkH3DcMSpOoGQVUyhqPQaAdBr1ZJNP3mB0ELewzFKWUIQWWfz1VW4whBwcOS5oJhCUEb6FV3r98JQXcMGQjcXQpB0TDcmAjcCkEtVZ8pNVoLQYd5Yrph2AtB450lS45WDEE/wujbutQMQZvmq2znUg1B9Qpv/RPRDUFRLzKOQE8OQatT9R5tzQ5BB3i4r5lLD0FhnHtAxskPQV5gn2j5IxBBjPIAsQ9jEEG6hGL5JaIQQegWxEE84RBBFKklilIgEUFCO4fSaF8RQXLN6Bp/nhFBnl9KY5XdEUHK8aurqxwSQfqDDfTBWxJBKBZvPNiaEkFUqNCE7tkSQYI6Ms0EGRNBsMyTFRtYE0HeXvVdMZcTQQrxVqZH1hNBOIO47l0VFEFmFRo3dFQUQZSne3+KkxRBwDndx6DSFEHuyz4QtxEVQRxeoFjNUBVBSvABoeOPFUE=",
                    "dtype": "f8"
                  },
                  "yaxis": "y"
                },
                {
                  "marker": {
                    "color": "lightblue"
                  },
                  "mode": "markers",
                  "name": "훈련 데이터",
                  "opacity": 0.6,
                  "showlegend": false,
                  "type": "scatter",
                  "x": {
                    "bdata": "BwUHCQcGBgUGBwUGBQcHBAUHCQkIBgUFBgcFCgcHBQkGBQUGBwcFBQUHBQYGBQcFBQQHCAgFBwgGBgcFAwYJBAUFBgYGBQcFBwMFCAUGCAQIBwUHBwYHBwgFBwYICAcGBwYFBQYGBQYICAgJBgYGBQoGCAUGBwQFBwcHBwUHCQUIBQgFBgQHBQUGCAYHCAYGCAUHBQcGCAYEBAUFBgYHBAcIBwcFBAYHCAcGBQgEBwQIBgUGBgYFBwUHCAYFCAcFBQgGCAcHBwYFBggJBwgECQYGBQYECQcFBwkFCgUEBAYBBwcFCAYFBgUGBwUHCAcGBgUJBgUHBQgFBwUHCAgHBwgGBwgIBwkFBwYGCAYECQUFBQQECQUIBwUIBwYEBQgFBQYGBwYEBgYFBgYGBwUFBwYFBwcIBAQEBwcGCQcGBQYHBwYHBAYGCAgGBwgEBgQFBwYDBQUDBwcGCgUGBAoFCAQHBQcFBwgHCAUEBQcFCAYFBwcGBgUFBQUHBQgHBAYHBgUHBwYHBgoGCgcDBQcEBwUHBQYHBgcFBwgFBgcHBgYGBgYFBwYFBQUGBwUGBQYHBgYHBgYEBAQHCAUFBwgHCQYFBAgHBgUDBwYECQcGBgUGBwcDBAgIBwYGCAcFBgUGBQQHBgYHBgcFBAYICgUHBQUICAUIBggFBQYCBAUFBgUGBwYFBQcFBQQGBgcFBgYFBgYECAUIBQUIBQUDBAkHBQUEBQcGBgYIBwUGCAUHBgUFBAYGBAUFAQcDBwUGCgYFBgYGBgYFBwQEBgUICAUJBQYGBwUGCAcGBQcFBgQKCAcFBQcGCAYICAYIBAUHBQYGBwUFBgUFBgYFBgUHBAUFCAcFBQYGBQYFBQYEBwgHBQgEBQgFCAUFBQcIBQYHBwgHBQUGBQYGCAgHBgcHCQUHCAcHBgYGBAcFBwcGBAYGBgYHBQYEBQcHBggFBgYEBQYICAcGBQcFBggGBQYGBgcFBwoIBQUFBgYHBQQDBgYFBwYIBQgIBgYGBgMEBwkFBgcFBgcHBgMFCQgIBAQGBAcGBQgGBgQGBQUGBgcGBQYIBQcGCAUDBgUFBgMFBgcHBwgHBwgIBAcHBwgGBgYEBgcHBgYIBQcHBgcFBgUGCAQGCAQGBQUIBgUFBgYHBgYHBwYGBgUFBQgHBQcGCQYHBgUGBAYGBwUGBAUFBwUFBwYHBQgIBQQJBQUGBQYHBwYEBQcGCAYJBQUGBQUEBgYEBwYHBQYGBQgHBgUFBwUGBwUHBwcGBAYJBAcIBQYHBQUHCQYHBgcFBgUHCAcFBwcIBgYFBggFBwcJBQYHBQgHBwUHCAYHBgcEBQUHBgUIBwgJCAQHBgUFBgUGBwQIBgQFBwc=",
                    "dtype": "i1"
                  },
                  "xaxis": "x2",
                  "y": {
                    "bdata": "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",
                    "dtype": "i4"
                  },
                  "yaxis": "y2"
                },
                {
                  "line": {
                    "color": "red",
                    "width": 3
                  },
                  "mode": "lines",
                  "name": "Degree 2 (Test RMSE: 45461.57)",
                  "showlegend": true,
                  "type": "scatter",
                  "x": {
                    "bdata": "AAAAAAAA8D900UUXXXTxP+miiy666PI/XXTRRRdd9D/SRRdddNH1P0YXXXTRRfc/uuiiiy66+D8uuuiiiy76P6OLLrroovs/GF100UUX/T+MLrrooov+PwAAAAAAAABAuuiiiy66AEB00UUXXXQBQC666KKLLgJA6aKLLrroAkCjiy666KIDQF100UUXXQRAGF100UUXBUDSRRdddNEFQIwuuuiiiwZARhdddNFFB0AAAAAAAAAIQLrooosuughAdNFFF110CUAvuuiiiy4KQOmiiy666ApAo4suuuiiC0BddNFFF10MQBdddNFFFw1A0kUXXXTRDUCMLrrooosOQEYXXXTRRQ9AAAAAAAAAEEBddNFFF10QQLrooosuuhBAGF100UUXEUB00UUXXXQRQNJFF1100RFALrrooosuEkCMLrrooosSQOmiiy666BJARhdddNFFE0Cjiy666KITQAAAAAAAABRAXXTRRRddFEC66KKLLroUQBdddNFFFxVAdNFFF110FUDSRRdddNEVQC+66KKLLhZAjC666KKLFkDpoosuuugWQEYXXXTRRRdAo4suuuiiF0AAAAAAAAAYQF100UUXXRhAuuiiiy66GEAXXXTRRRcZQHXRRRdddBlA0kUXXXTRGUAvuuiiiy4aQIwuuuiiixpA6aKLLrroGkBGF1100UUbQKOLLrroohtAAAAAAAAAHEBddNFFF10cQLrooosuuhxAF1100UUXHUB10UUXXXQdQNJFF1100R1AL7rooosuHkCMLrroooseQOmiiy666B5ARhdddNFFH0Cjiy666KIfQAAAAAAAACBALrrooosuIEBddNFFF10gQIwuuuiiiyBAuuiiiy66IEDpoosuuuggQBhddNFFFyFARhdddNFFIUB00UUXXXQhQKOLLrrooiFA0kUXXXTRIUAAAAAAAAAiQC+66KKLLiJAXXTRRRddIkCMLrrooosiQLrooosuuiJA6aKLLrroIkAXXXTRRRcjQEYXXXTRRSNAdNFFF110I0Cjiy666KIjQNJFF1100SNAAAAAAAAAJEA=",
                    "dtype": "f8"
                  },
                  "xaxis": "x2",
                  "y": {
                    "bdata": "VXEl1eMm/ECsmXEy46z7QEaunltzOftAJa+sUJTM+kBInJsRRmb6QLB1a56IBvpAXDsc91ut+UBL7a0bwFr5QH+LIAy1DvlA9xV0yDrJ+EC0jKhQUYr4QLTvvaT4UfhA+D60xDAg+ECCeouw+fT3QE+iQ2hT0PdAYLbc6z2y90C2tlY7uZr3QFCjsVbFifdALnztPWJ/90BQQQrxj3v3QLbyB3BOfvdAYZDmup2H90BRGqbRfZf3QISQRrTurfdA+/LHYvDK90C2QSrdgu73QLZ8bSOmGPhA+qORNVpJ+ECCt5YTn4D4QE63fL10vvhAX6NDM9sC+UC1e+t00k35QE1AdIJan/lAKvHdW3P3+UBMjigBHVb6QLAXVHJXu/pAW41gryIn+0BI7024fpn7QHw9HI1rEvxA8XfLLemR/ECtnlua9xf9QKyxzNKWpP1A7rAe18Y3/kB2nFGnh9H+QEF0ZUPZcf9AKByt1V0MAEFS9JdvF2MAQZ9Cc28ZvQBBDQc/1WMaAUGeQfug9noBQVDyp9LR3gFBJBlFavVFAkEbttJnYbACQTPJUMsVHgNBbVK/lBKPA0HMUR7EVwMEQUrHbVnlegRB67KtVLv1BEGvFN612XMFQZTs/nxA9QVBnDoQqu95BkHG/hE95wEHQRI5BDYnjQdBfunmlK8bCEEQELpZgK0IQcCsfYSZQglBlL8xFfvaCUGLSNYLpXYKQaNHa2iXFQtB3LzwKtK3C0E6qGZTVV0MQbgJzeEgBg1BWuEj1jSyDUEeL2swkWEOQQDzovA1FA9BCC3LFiPKD0GY7nFRrEEQQb6BdkrrnxBB9E9zds7/EEE9WWjVVWERQZadVWeBxBFB/hw7LFEpEkF61xgkxY8SQQfN7k7d9xJBo/28rJlhE0FQaYM9+swTQRAQQgH/ORRB4vH496eoFEHCDqgh9RgVQbZmT37mihVBt/nuDXz+FUHMx4bQtXMWQfDQFsaT6hZBKBWf7hVjF0FulB9KPN0XQchOmNgGWRhBMEQJmnXWGEGsdHKOiFUZQTng07U/1hlB1IYtEJtYGkE=",
                    "dtype": "f8"
                  },
                  "yaxis": "y2"
                },
                {
                  "marker": {
                    "color": "lightblue"
                  },
                  "mode": "markers",
                  "name": "훈련 데이터",
                  "opacity": 0.6,
                  "showlegend": false,
                  "type": "scatter",
                  "x": {
                    "bdata": "BwUHCQcGBgUGBwUGBQcHBAUHCQkIBgUFBgcFCgcHBQkGBQUGBwcFBQUHBQYGBQcFBQQHCAgFBwgGBgcFAwYJBAUFBgYGBQcFBwMFCAUGCAQIBwUHBwYHBwgFBwYICAcGBwYFBQYGBQYICAgJBgYGBQoGCAUGBwQFBwcHBwUHCQUIBQgFBgQHBQUGCAYHCAYGCAUHBQcGCAYEBAUFBgYHBAcIBwcFBAYHCAcGBQgEBwQIBgUGBgYFBwUHCAYFCAcFBQgGCAcHBwYFBggJBwgECQYGBQYECQcFBwkFCgUEBAYBBwcFCAYFBgUGBwUHCAcGBgUJBgUHBQgFBwUHCAgHBwgGBwgIBwkFBwYGCAYECQUFBQQECQUIBwUIBwYEBQgFBQYGBwYEBgYFBgYGBwUFBwYFBwcIBAQEBwcGCQcGBQYHBwYHBAYGCAgGBwgEBgQFBwYDBQUDBwcGCgUGBAoFCAQHBQcFBwgHCAUEBQcFCAYFBwcGBgUFBQUHBQgHBAYHBgUHBwYHBgoGCgcDBQcEBwUHBQYHBgcFBwgFBgcHBgYGBgYFBwYFBQUGBwUGBQYHBgYHBgYEBAQHCAUFBwgHCQYFBAgHBgUDBwYECQcGBgUGBwcDBAgIBwYGCAcFBgUGBQQHBgYHBgcFBAYICgUHBQUICAUIBggFBQYCBAUFBgUGBwYFBQcFBQQGBgcFBgYFBgYECAUIBQUIBQUDBAkHBQUEBQcGBgYIBwUGCAUHBgUFBAYGBAUFAQcDBwUGCgYFBgYGBgYFBwQEBgUICAUJBQYGBwUGCAcGBQcFBgQKCAcFBQcGCAYICAYIBAUHBQYGBwUFBgUFBgYFBgUHBAUFCAcFBQYGBQYFBQYEBwgHBQgEBQgFCAUFBQcIBQYHBwgHBQUGBQYGCAgHBgcHCQUHCAcHBgYGBAcFBwcGBAYGBgYHBQYEBQcHBggFBgYEBQYICAcGBQcFBggGBQYGBgcFBwoIBQUFBgYHBQQDBgYFBwYIBQgIBgYGBgMEBwkFBgcFBgcHBgMFCQgIBAQGBAcGBQgGBgQGBQUGBgcGBQYIBQcGCAUDBgUFBgMFBgcHBwgHBwgIBAcHBwgGBgYEBgcHBgYIBQcHBgcFBgUGCAQGCAQGBQUIBgUFBgYHBgYHBwYGBgUFBQgHBQcGCQYHBgUGBAYGBwUGBAUFBwUFBwYHBQgIBQQJBQUGBQYHBwYEBQcGCAYJBQUGBQUEBgYEBwYHBQYGBQgHBgUFBwUGBwUHBwcGBAYJBAcIBQYHBQUHCQYHBgcFBgUHCAcFBwcIBgYFBggFBwcJBQYHBQgHBwUHCAYHBgcEBQUHBgUIBwgJCAQHBgUFBgUGBwQIBgQFBwc=",
                    "dtype": "i1"
                  },
                  "xaxis": "x3",
                  "y": {
                    "bdata": "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",
                    "dtype": "i4"
                  },
                  "yaxis": "y3"
                },
                {
                  "line": {
                    "color": "green",
                    "width": 3
                  },
                  "mode": "lines",
                  "name": "Degree 10 (Test RMSE: 44984.81)",
                  "showlegend": true,
                  "type": "scatter",
                  "x": {
                    "bdata": "AAAAAAAA8D900UUXXXTxP+miiy666PI/XXTRRRdd9D/SRRdddNH1P0YXXXTRRfc/uuiiiy66+D8uuuiiiy76P6OLLrroovs/GF100UUX/T+MLrrooov+PwAAAAAAAABAuuiiiy66AEB00UUXXXQBQC666KKLLgJA6aKLLrroAkCjiy666KIDQF100UUXXQRAGF100UUXBUDSRRdddNEFQIwuuuiiiwZARhdddNFFB0AAAAAAAAAIQLrooosuughAdNFFF110CUAvuuiiiy4KQOmiiy666ApAo4suuuiiC0BddNFFF10MQBdddNFFFw1A0kUXXXTRDUCMLrrooosOQEYXXXTRRQ9AAAAAAAAAEEBddNFFF10QQLrooosuuhBAGF100UUXEUB00UUXXXQRQNJFF1100RFALrrooosuEkCMLrrooosSQOmiiy666BJARhdddNFFE0Cjiy666KITQAAAAAAAABRAXXTRRRddFEC66KKLLroUQBdddNFFFxVAdNFFF110FUDSRRdddNEVQC+66KKLLhZAjC666KKLFkDpoosuuugWQEYXXXTRRRdAo4suuuiiF0AAAAAAAAAYQF100UUXXRhAuuiiiy66GEAXXXTRRRcZQHXRRRdddBlA0kUXXXTRGUAvuuiiiy4aQIwuuuiiixpA6aKLLrroGkBGF1100UUbQKOLLrroohtAAAAAAAAAHEBddNFFF10cQLrooosuuhxAF1100UUXHUB10UUXXXQdQNJFF1100R1AL7rooosuHkCMLrroooseQOmiiy666B5ARhdddNFFH0Cjiy666KIfQAAAAAAAACBALrrooosuIEBddNFFF10gQIwuuuiiiyBAuuiiiy66IEDpoosuuuggQBhddNFFFyFARhdddNFFIUB00UUXXXQhQKOLLrrooiFA0kUXXXTRIUAAAAAAAAAiQC+66KKLLiJAXXTRRRddIkCMLrrooosiQLrooosuuiJA6aKLLrroIkAXXXTRRRcjQEYXXXTRRSNAdNFFF110I0Cjiy666KIjQNJFF1100SNAAAAAAAAAJEA=",
                    "dtype": "f8"
                  },
                  "xaxis": "x3",
                  "y": {
                    "bdata": "qGDNuL186EBs0YKgPQHnQDw0dFnOJOZAuCEn6LjQ5UDk+h9e8e7lQMwjUYSeauZAAD+oe3ww50C4Gr2uHy/oQPTR0vMcV+lAEAMzSRub6kBcWkIn0+/rQJSGWvv+S+1AUK9N/D+o7kB4z08t+v7vQJl82AYVpvBA4a6WEZtG8UAlkbkgX+DxQCrK1xU1c/JAkG0pdlz/8kCjVMwBaYXzQOVATassBvRAcHtJS6OC9EDZGy9V4Pv0QFlpgL3+cvVAtEhzLxPp9UCrHzyfIF/2QAU1tTcP1vZAUOJMlaVO90CB+R41hMn3QJjLxPUiR/hAQL2kf9DH+ECXGUpks0v5QP/Peb/M0vlA2GY8Ifxc+kB/Z9qFBOr6QNzYux+SeftAaeAjt0AL/EBNGs9kop78QCcGc25GM/1AETHwDsDI/UCZ8Jj3rF7+QHemM1y79P5AX5k0YK+K/0DlG4XgMxAAQWT8js/wWgBBkqynpp2lAEGWDYkKW/AAQddC9nFbOwFBmm/e7uKGAUF59e1qRtMBQTsk6FvqIAJBcDBd90BwAkGp0Wzwx8ECQa3BOs0FFgNBoy955IZtA0Fvg/AV2sgDQUclJFONKARBPaccDyqNBEGBKuOtMfcEQakRYA0aZwVBRSv1QUrdBUGEZF6hF1oGQbtrCDbD3QZBikUgtHdoB0H0cBQISPoHQeLRDJQukwhBj8/5Lg0zCUFxpzb0rdkJQVMxTu7EhgpBLiY5ovI5C0ExUEd6x/ILQdUf6QjIsAxBtNOWE3JzDUH2qhpNQjoOQbhPjpy6BA9BqvtHw2jSD0Em7eOTdlEQQXwcNr8AuxBBkFsPfb8lEUFHp7nPsZERQSmm1SHr/hFBjOZSV5RtEkGK6Ymh690SQdezlL1CUBNBXe62OPvEE0HPnZZKgDwUQfSWUsg9txRBHG/JpZM1FUF3ZypsxbcVQfCGjf3kPRZBXlhd7bfHFkECvV2kllQXQcVBSnVE4xdBOHNZtL9xGEEa3jnQCP0YQUQDiFbfgBlB/MAsuHP3GUGK3nWLDFkaQTQLKfKdmxpBP+s4sVGyGkE=",
                    "dtype": "f8"
                  },
                  "yaxis": "y3"
                }
              ],
              "layout": {
                "annotations": [
                  {
                    "font": {
                      "size": 16
                    },
                    "showarrow": false,
                    "text": "Degree 1 (선형)",
                    "x": 0.14444444444444446,
                    "xanchor": "center",
                    "xref": "paper",
                    "y": 1,
                    "yanchor": "bottom",
                    "yref": "paper"
                  },
                  {
                    "font": {
                      "size": 16
                    },
                    "showarrow": false,
                    "text": "Degree 2 (2차)",
                    "x": 0.5,
                    "xanchor": "center",
                    "xref": "paper",
                    "y": 1,
                    "yanchor": "bottom",
                    "yref": "paper"
                  },
                  {
                    "font": {
                      "size": 16
                    },
                    "showarrow": false,
                    "text": "Degree 5 (5차)",
                    "x": 0.8555555555555556,
                    "xanchor": "center",
                    "xref": "paper",
                    "y": 1,
                    "yanchor": "bottom",
                    "yref": "paper"
                  }
                ],
                "height": 400,
                "template": {
                  "data": {
                    "bar": [
                      {
                        "error_x": {
                          "color": "#2a3f5f"
                        },
                        "error_y": {
                          "color": "#2a3f5f"
                        },
                        "marker": {
                          "line": {
                            "color": "#E5ECF6",
                            "width": 0.5
                          },
                          "pattern": {
                            "fillmode": "overlay",
                            "size": 10,
                            "solidity": 0.2
                          }
                        },
                        "type": "bar"
                      }
                    ],
                    "barpolar": [
                      {
                        "marker": {
                          "line": {
                            "color": "#E5ECF6",
                            "width": 0.5
                          },
                          "pattern": {
                            "fillmode": "overlay",
                            "size": 10,
                            "solidity": 0.2
                          }
                        },
                        "type": "barpolar"
                      }
                    ],
                    "carpet": [
                      {
                        "aaxis": {
                          "endlinecolor": "#2a3f5f",
                          "gridcolor": "white",
                          "linecolor": "white",
                          "minorgridcolor": "white",
                          "startlinecolor": "#2a3f5f"
                        },
                        "baxis": {
                          "endlinecolor": "#2a3f5f",
                          "gridcolor": "white",
                          "linecolor": "white",
                          "minorgridcolor": "white",
                          "startlinecolor": "#2a3f5f"
                        },
                        "type": "carpet"
                      }
                    ],
                    "choropleth": [
                      {
                        "colorbar": {
                          "outlinewidth": 0,
                          "ticks": ""
                        },
                        "type": "choropleth"
                      }
                    ],
                    "contour": [
                      {
                        "colorbar": {
                          "outlinewidth": 0,
                          "ticks": ""
                        },
                        "colorscale": [
                          [
                            0,
                            "#0d0887"
                          ],
                          [
                            0.1111111111111111,
                            "#46039f"
                          ],
                          [
                            0.2222222222222222,
                            "#7201a8"
                          ],
                          [
                            0.3333333333333333,
                            "#9c179e"
                          ],
                          [
                            0.4444444444444444,
                            "#bd3786"
                          ],
                          [
                            0.5555555555555556,
                            "#d8576b"
                          ],
                          [
                            0.6666666666666666,
                            "#ed7953"
                          ],
                          [
                            0.7777777777777778,
                            "#fb9f3a"
                          ],
                          [
                            0.8888888888888888,
                            "#fdca26"
                          ],
                          [
                            1,
                            "#f0f921"
                          ]
                        ],
                        "type": "contour"
                      }
                    ],
                    "contourcarpet": [
                      {
                        "colorbar": {
                          "outlinewidth": 0,
                          "ticks": ""
                        },
                        "type": "contourcarpet"
                      }
                    ],
                    "heatmap": [
                      {
                        "colorbar": {
                          "outlinewidth": 0,
                          "ticks": ""
                        },
                        "colorscale": [
                          [
                            0,
                            "#0d0887"
                          ],
                          [
                            0.1111111111111111,
                            "#46039f"
                          ],
                          [
                            0.2222222222222222,
                            "#7201a8"
                          ],
                          [
                            0.3333333333333333,
                            "#9c179e"
                          ],
                          [
                            0.4444444444444444,
                            "#bd3786"
                          ],
                          [
                            0.5555555555555556,
                            "#d8576b"
                          ],
                          [
                            0.6666666666666666,
                            "#ed7953"
                          ],
                          [
                            0.7777777777777778,
                            "#fb9f3a"
                          ],
                          [
                            0.8888888888888888,
                            "#fdca26"
                          ],
                          [
                            1,
                            "#f0f921"
                          ]
                        ],
                        "type": "heatmap"
                      }
                    ],
                    "histogram": [
                      {
                        "marker": {
                          "pattern": {
                            "fillmode": "overlay",
                            "size": 10,
                            "solidity": 0.2
                          }
                        },
                        "type": "histogram"
                      }
                    ],
                    "histogram2d": [
                      {
                        "colorbar": {
                          "outlinewidth": 0,
                          "ticks": ""
                        },
                        "colorscale": [
                          [
                            0,
                            "#0d0887"
                          ],
                          [
                            0.1111111111111111,
                            "#46039f"
                          ],
                          [
                            0.2222222222222222,
                            "#7201a8"
                          ],
                          [
                            0.3333333333333333,
                            "#9c179e"
                          ],
                          [
                            0.4444444444444444,
                            "#bd3786"
                          ],
                          [
                            0.5555555555555556,
                            "#d8576b"
                          ],
                          [
                            0.6666666666666666,
                            "#ed7953"
                          ],
                          [
                            0.7777777777777778,
                            "#fb9f3a"
                          ],
                          [
                            0.8888888888888888,
                            "#fdca26"
                          ],
                          [
                            1,
                            "#f0f921"
                          ]
                        ],
                        "type": "histogram2d"
                      }
                    ],
                    "histogram2dcontour": [
                      {
                        "colorbar": {
                          "outlinewidth": 0,
                          "ticks": ""
                        },
                        "colorscale": [
                          [
                            0,
                            "#0d0887"
                          ],
                          [
                            0.1111111111111111,
                            "#46039f"
                          ],
                          [
                            0.2222222222222222,
                            "#7201a8"
                          ],
                          [
                            0.3333333333333333,
                            "#9c179e"
                          ],
                          [
                            0.4444444444444444,
                            "#bd3786"
                          ],
                          [
                            0.5555555555555556,
                            "#d8576b"
                          ],
                          [
                            0.6666666666666666,
                            "#ed7953"
                          ],
                          [
                            0.7777777777777778,
                            "#fb9f3a"
                          ],
                          [
                            0.8888888888888888,
                            "#fdca26"
                          ],
                          [
                            1,
                            "#f0f921"
                          ]
                        ],
                        "type": "histogram2dcontour"
                      }
                    ],
                    "mesh3d": [
                      {
                        "colorbar": {
                          "outlinewidth": 0,
                          "ticks": ""
                        },
                        "type": "mesh3d"
                      }
                    ],
                    "parcoords": [
                      {
                        "line": {
                          "colorbar": {
                            "outlinewidth": 0,
                            "ticks": ""
                          }
                        },
                        "type": "parcoords"
                      }
                    ],
                    "pie": [
                      {
                        "automargin": true,
                        "type": "pie"
                      }
                    ],
                    "scatter": [
                      {
                        "fillpattern": {
                          "fillmode": "overlay",
                          "size": 10,
                          "solidity": 0.2
                        },
                        "type": "scatter"
                      }
                    ],
                    "scatter3d": [
                      {
                        "line": {
                          "colorbar": {
                            "outlinewidth": 0,
                            "ticks": ""
                          }
                        },
                        "marker": {
                          "colorbar": {
                            "outlinewidth": 0,
                            "ticks": ""
                          }
                        },
                        "type": "scatter3d"
                      }
                    ],
                    "scattercarpet": [
                      {
                        "marker": {
                          "colorbar": {
                            "outlinewidth": 0,
                            "ticks": ""
                          }
                        },
                        "type": "scattercarpet"
                      }
                    ],
                    "scattergeo": [
                      {
                        "marker": {
                          "colorbar": {
                            "outlinewidth": 0,
                            "ticks": ""
                          }
                        },
                        "type": "scattergeo"
                      }
                    ],
                    "scattergl": [
                      {
                        "marker": {
                          "colorbar": {
                            "outlinewidth": 0,
                            "ticks": ""
                          }
                        },
                        "type": "scattergl"
                      }
                    ],
                    "scattermap": [
                      {
                        "marker": {
                          "colorbar": {
                            "outlinewidth": 0,
                            "ticks": ""
                          }
                        },
                        "type": "scattermap"
                      }
                    ],
                    "scattermapbox": [
                      {
                        "marker": {
                          "colorbar": {
                            "outlinewidth": 0,
                            "ticks": ""
                          }
                        },
                        "type": "scattermapbox"
                      }
                    ],
                    "scatterpolar": [
                      {
                        "marker": {
                          "colorbar": {
                            "outlinewidth": 0,
                            "ticks": ""
                          }
                        },
                        "type": "scatterpolar"
                      }
                    ],
                    "scatterpolargl": [
                      {
                        "marker": {
                          "colorbar": {
                            "outlinewidth": 0,
                            "ticks": ""
                          }
                        },
                        "type": "scatterpolargl"
                      }
                    ],
                    "scatterternary": [
                      {
                        "marker": {
                          "colorbar": {
                            "outlinewidth": 0,
                            "ticks": ""
                          }
                        },
                        "type": "scatterternary"
                      }
                    ],
                    "surface": [
                      {
                        "colorbar": {
                          "outlinewidth": 0,
                          "ticks": ""
                        },
                        "colorscale": [
                          [
                            0,
                            "#0d0887"
                          ],
                          [
                            0.1111111111111111,
                            "#46039f"
                          ],
                          [
                            0.2222222222222222,
                            "#7201a8"
                          ],
                          [
                            0.3333333333333333,
                            "#9c179e"
                          ],
                          [
                            0.4444444444444444,
                            "#bd3786"
                          ],
                          [
                            0.5555555555555556,
                            "#d8576b"
                          ],
                          [
                            0.6666666666666666,
                            "#ed7953"
                          ],
                          [
                            0.7777777777777778,
                            "#fb9f3a"
                          ],
                          [
                            0.8888888888888888,
                            "#fdca26"
                          ],
                          [
                            1,
                            "#f0f921"
                          ]
                        ],
                        "type": "surface"
                      }
                    ],
                    "table": [
                      {
                        "cells": {
                          "fill": {
                            "color": "#EBF0F8"
                          },
                          "line": {
                            "color": "white"
                          }
                        },
                        "header": {
                          "fill": {
                            "color": "#C8D4E3"
                          },
                          "line": {
                            "color": "white"
                          }
                        },
                        "type": "table"
                      }
                    ]
                  },
                  "layout": {
                    "annotationdefaults": {
                      "arrowcolor": "#2a3f5f",
                      "arrowhead": 0,
                      "arrowwidth": 1
                    },
                    "autotypenumbers": "strict",
                    "coloraxis": {
                      "colorbar": {
                        "outlinewidth": 0,
                        "ticks": ""
                      }
                    },
                    "colorscale": {
                      "diverging": [
                        [
                          0,
                          "#8e0152"
                        ],
                        [
                          0.1,
                          "#c51b7d"
                        ],
                        [
                          0.2,
                          "#de77ae"
                        ],
                        [
                          0.3,
                          "#f1b6da"
                        ],
                        [
                          0.4,
                          "#fde0ef"
                        ],
                        [
                          0.5,
                          "#f7f7f7"
                        ],
                        [
                          0.6,
                          "#e6f5d0"
                        ],
                        [
                          0.7,
                          "#b8e186"
                        ],
                        [
                          0.8,
                          "#7fbc41"
                        ],
                        [
                          0.9,
                          "#4d9221"
                        ],
                        [
                          1,
                          "#276419"
                        ]
                      ],
                      "sequential": [
                        [
                          0,
                          "#0d0887"
                        ],
                        [
                          0.1111111111111111,
                          "#46039f"
                        ],
                        [
                          0.2222222222222222,
                          "#7201a8"
                        ],
                        [
                          0.3333333333333333,
                          "#9c179e"
                        ],
                        [
                          0.4444444444444444,
                          "#bd3786"
                        ],
                        [
                          0.5555555555555556,
                          "#d8576b"
                        ],
                        [
                          0.6666666666666666,
                          "#ed7953"
                        ],
                        [
                          0.7777777777777778,
                          "#fb9f3a"
                        ],
                        [
                          0.8888888888888888,
                          "#fdca26"
                        ],
                        [
                          1,
                          "#f0f921"
                        ]
                      ],
                      "sequentialminus": [
                        [
                          0,
                          "#0d0887"
                        ],
                        [
                          0.1111111111111111,
                          "#46039f"
                        ],
                        [
                          0.2222222222222222,
                          "#7201a8"
                        ],
                        [
                          0.3333333333333333,
                          "#9c179e"
                        ],
                        [
                          0.4444444444444444,
                          "#bd3786"
                        ],
                        [
                          0.5555555555555556,
                          "#d8576b"
                        ],
                        [
                          0.6666666666666666,
                          "#ed7953"
                        ],
                        [
                          0.7777777777777778,
                          "#fb9f3a"
                        ],
                        [
                          0.8888888888888888,
                          "#fdca26"
                        ],
                        [
                          1,
                          "#f0f921"
                        ]
                      ]
                    },
                    "colorway": [
                      "#636efa",
                      "#EF553B",
                      "#00cc96",
                      "#ab63fa",
                      "#FFA15A",
                      "#19d3f3",
                      "#FF6692",
                      "#B6E880",
                      "#FF97FF",
                      "#FECB52"
                    ],
                    "font": {
                      "color": "#2a3f5f"
                    },
                    "geo": {
                      "bgcolor": "white",
                      "lakecolor": "white",
                      "landcolor": "#E5ECF6",
                      "showlakes": true,
                      "showland": true,
                      "subunitcolor": "white"
                    },
                    "hoverlabel": {
                      "align": "left"
                    },
                    "hovermode": "closest",
                    "mapbox": {
                      "style": "light"
                    },
                    "paper_bgcolor": "white",
                    "plot_bgcolor": "#E5ECF6",
                    "polar": {
                      "angularaxis": {
                        "gridcolor": "white",
                        "linecolor": "white",
                        "ticks": ""
                      },
                      "bgcolor": "#E5ECF6",
                      "radialaxis": {
                        "gridcolor": "white",
                        "linecolor": "white",
                        "ticks": ""
                      }
                    },
                    "scene": {
                      "xaxis": {
                        "backgroundcolor": "#E5ECF6",
                        "gridcolor": "white",
                        "gridwidth": 2,
                        "linecolor": "white",
                        "showbackground": true,
                        "ticks": "",
                        "zerolinecolor": "white"
                      },
                      "yaxis": {
                        "backgroundcolor": "#E5ECF6",
                        "gridcolor": "white",
                        "gridwidth": 2,
                        "linecolor": "white",
                        "showbackground": true,
                        "ticks": "",
                        "zerolinecolor": "white"
                      },
                      "zaxis": {
                        "backgroundcolor": "#E5ECF6",
                        "gridcolor": "white",
                        "gridwidth": 2,
                        "linecolor": "white",
                        "showbackground": true,
                        "ticks": "",
                        "zerolinecolor": "white"
                      }
                    },
                    "shapedefaults": {
                      "line": {
                        "color": "#2a3f5f"
                      }
                    },
                    "ternary": {
                      "aaxis": {
                        "gridcolor": "white",
                        "linecolor": "white",
                        "ticks": ""
                      },
                      "baxis": {
                        "gridcolor": "white",
                        "linecolor": "white",
                        "ticks": ""
                      },
                      "bgcolor": "#E5ECF6",
                      "caxis": {
                        "gridcolor": "white",
                        "linecolor": "white",
                        "ticks": ""
                      }
                    },
                    "title": {
                      "x": 0.05
                    },
                    "xaxis": {
                      "automargin": true,
                      "gridcolor": "white",
                      "linecolor": "white",
                      "ticks": "",
                      "title": {
                        "standoff": 15
                      },
                      "zerolinecolor": "white",
                      "zerolinewidth": 2
                    },
                    "yaxis": {
                      "automargin": true,
                      "gridcolor": "white",
                      "linecolor": "white",
                      "ticks": "",
                      "title": {
                        "standoff": 15
                      },
                      "zerolinecolor": "white",
                      "zerolinewidth": 2
                    }
                  }
                },
                "title": {
                  "text": "차수에 따른 다항 회귀 모델 비교"
                },
                "xaxis": {
                  "anchor": "y",
                  "domain": [
                    0,
                    0.2888888888888889
                  ],
                  "title": {
                    "text": "전반적인 품질(OverallQual)"
                  }
                },
                "xaxis2": {
                  "anchor": "y2",
                  "domain": [
                    0.35555555555555557,
                    0.6444444444444445
                  ],
                  "title": {
                    "text": "전반적인 품질(OverallQual)"
                  }
                },
                "xaxis3": {
                  "anchor": "y3",
                  "domain": [
                    0.7111111111111111,
                    1
                  ],
                  "title": {
                    "text": "전반적인 품질(OverallQual)"
                  }
                },
                "yaxis": {
                  "anchor": "x",
                  "domain": [
                    0,
                    1
                  ],
                  "title": {
                    "text": "주택 가격"
                  }
                },
                "yaxis2": {
                  "anchor": "x2",
                  "domain": [
                    0,
                    1
                  ],
                  "matches": "y",
                  "showticklabels": false
                },
                "yaxis3": {
                  "anchor": "x3",
                  "domain": [
                    0,
                    1
                  ],
                  "matches": "y",
                  "showticklabels": false
                }
              }
            }
          },
          "metadata": {},
          "output_type": "display_data"
        }
      ],
      "source": [
        "from plotly.subplots import make_subplots\n",
        "\n",
        "fig = make_subplots(rows=1, cols=3, \n",
        "                    subplot_titles=['Degree 1 (선형)', 'Degree 2 (2차)', 'Degree 5 (5차)'],\n",
        "                    shared_yaxes=True)\n",
        "\n",
        "# Degree 1 서브플롯\n",
        "fig.add_trace(go.Scatter(x=X_train['OverallQual'], y=y_train, \n",
        "                         mode='markers', opacity=0.6, \n",
        "                         name='훈련 데이터', \n",
        "                         marker=dict(color='lightblue'),\n",
        "                         showlegend=True), row=1, col=1)\n",
        "fig.add_trace(go.Scatter(x=X_range['OverallQual'], y=y_pred_range_1,\n",
        "                         mode='lines',\n",
        "                         name=f'Degree 1 (Test RMSE: {test_rmse_1:.2f})',\n",
        "                         line=dict(color='orange', width=3),\n",
        "                         showlegend=True), row=1, col=1)\n",
        "\n",
        "# Degree 2 서브플롯\n",
        "fig.add_trace(go.Scatter(x=X_train['OverallQual'], y=y_train, \n",
        "                         mode='markers', opacity=0.6, \n",
        "                         name='훈련 데이터', \n",
        "                         marker=dict(color='lightblue'),\n",
        "                         showlegend=False), row=1, col=2)\n",
        "fig.add_trace(go.Scatter(x=X_range['OverallQual'], y=y_pred_range_2,\n",
        "                         mode='lines',\n",
        "                         name=f'Degree 2 (Test RMSE: {test_rmse_2:.2f})',\n",
        "                         line=dict(color='red', width=3),\n",
        "                         showlegend=True), row=1, col=2)\n",
        "\n",
        "# Degree 10 서브플롯\n",
        "fig.add_trace(go.Scatter(x=X_train['OverallQual'], y=y_train, \n",
        "                         mode='markers', opacity=0.6, \n",
        "                         name='훈련 데이터', \n",
        "                         marker=dict(color='lightblue'),\n",
        "                         showlegend=False), row=1, col=3)\n",
        "fig.add_trace(go.Scatter(x=X_range['OverallQual'], y=y_pred_range_10,\n",
        "                         mode='lines',\n",
        "                         name=f'Degree 10 (Test RMSE: {test_rmse_10:.2f})',\n",
        "                         line=dict(color='green', width=3),\n",
        "                         showlegend=True), row=1, col=3)\n",
        "\n",
        "# 레이아웃 업데이트\n",
        "fig.update_layout(title_text='차수에 따른 다항 회귀 모델 비교',\n",
        "                  height=400)\n",
        "fig.update_xaxes(title_text='전반적인 품질(OverallQual)')\n",
        "fig.update_yaxes(title_text='주택 가격', col=1)\n",
        "\n",
        "fig.show()"
      ]
    },
    {
      "cell_type": "markdown",
      "metadata": {
        "id": "oP5DFKdOmVHp"
      },
      "source": [
        "위 그래프를 보면,\n",
        "\n",
        "  - **Degree 1 (주황색)**: 선형 모델로, 데이터의 곡선 패턴을 잘 잡아내지 못합니다(과소적합).\n",
        "  - **Degree 2 (빨간색)**: 2차 곡선으로, 데이터의 전반적인 추세를 잘 설명하며 테스트 오차도 낮습니다.\n",
        "  - **Degree 10 (초록색)**: 훈련 데이터 포인트를 거의 완벽하게 따라가지만, 조금 구불구불한 형태를 보입니다. 이는 훈련 데이터의 노이즈까지 학습한 결과이며, 이 예제에서는 새로운 데이터에 대한 일반화 성능(RMSE 최소화)이 조금 올라갔지만, 오히려 떨어지는 다른 데이터셋에서는 과적합 상태가 발생할 가능성도 있습니다."
      ]
    },
    {
      "cell_type": "markdown",
      "metadata": {},
      "source": [
        "#### 4.3 연습 문제\n",
        "\n",
        "1.  `PolynomialFeatures`의 `degree`를 3으로 설정하여 모델을 만들고, Test RMSE를 Degree 2, 10 모델과 비교해 보세요."
      ]
    },
    {
      "cell_type": "markdown",
      "metadata": {},
      "source": [
        "2.  차수를 1부터 15까지 변화시키면서 각 차수별 Train RMSE와 Test RMSE를 계산하고, 이를 꺾은선 그래프로 그려보세요. 어느 지점에서 Test RMSE가 다시 증가하기 시작하는지(과적합이 시작되는 지점) 확인해 보세요."
      ]
    },
    {
      "cell_type": "markdown",
      "metadata": {},
      "source": [
        "\n",
        "-----\n",
        "\n",
        "## 🔑 정답지\n",
        "\n",
        "### 1.3 연습 문제 정답 보기\n",
        "\n",
        "1.  **Imputer 전략 변경**"
      ]
    },
    {
      "cell_type": "code",
      "execution_count": null,
      "metadata": {
        "id": "drHNFIDFmVHp"
      },
      "outputs": [],
      "source": [
        "# 수치형: median\n",
        "numeric_transformer_median = Pipeline(steps=[\n",
        "    ('imputer', SimpleImputer(strategy='median')),\n",
        "    ('scaler', StandardScaler())])\n",
        "\n",
        "# 범주형: most_frequent\n",
        "categorical_transformer_freq = Pipeline(steps=[\n",
        "    ('imputer', SimpleImputer(strategy='most_frequent')),\n",
        "    ('onehot', OneHotEncoder(handle_unknown='ignore'))])\n",
        "\n",
        "preprocessor_new = ColumnTransformer(\n",
        "    transformers=[\n",
        "        ('num', numeric_transformer_median, numeric_features),\n",
        "        ('cat', categorical_transformer_freq, categorical_features)])\n",
        "\n",
        "model_pipeline_new = Pipeline(steps=[('preprocessor', preprocessor_new),\n",
        "                                      ('regressor', LinearRegression())])\n",
        "model_pipeline_new.fit(X_train, y_train)\n",
        "# 이후 예측 및 평가는 동일"
      ]
    },
    {
      "cell_type": "markdown",
      "metadata": {
        "id": "PHnGdDMHmVHp"
      },
      "source": [
        "2.  **Ridge 모델 파이프라인**"
      ]
    },
    {
      "cell_type": "code",
      "execution_count": null,
      "metadata": {
        "id": "gAAooAP0mVHp"
      },
      "outputs": [],
      "source": [
        "from sklearn.linear_model import Ridge\n",
        "\n",
        "ridge_pipeline = Pipeline(steps=[\n",
        "    ('preprocessor', preprocessor), # 기존 preprocessor 재사용\n",
        "    ('regressor', Ridge(alpha=1.0)) # Ridge 모델로 교체\n",
        "])\n",
        "ridge_pipeline.fit(X_train, y_train)"
      ]
    },
    {
      "cell_type": "markdown",
      "metadata": {
        "id": "yKxIEBXAmVHq"
      },
      "source": [
        "\n",
        "### 2.3 연습 문제 정답 보기\n",
        "\n",
        "1.  **LSTAT 변수 사용**"
      ]
    },
    {
      "cell_type": "code",
      "execution_count": null,
      "metadata": {
        "id": "czvKiextmVHq"
      },
      "outputs": [],
      "source": [
        "X_lstat = df[['LSTAT']]\n",
        "y = df['SalePrice']\n",
        "X_train, X_test, y_train, y_test = train_test_split(X_lstat, y, test_size=0.3, random_state=42)\n",
        "\n",
        "lr_lstat = LinearRegression().fit(X_train, y_train)\n",
        "y_pred_lstat = lr_lstat.predict(X_test)\n",
        "print(f\"LSTAT 모델 R-squared: {r2_score(y_test, y_pred_lstat):.4f}\")\n",
        "# GrLivArea(RM) 모델의 R-squared(약 0.44)보다 높은 값(약 0.52)이 나옵니다.\n",
        "# 즉, LSTAT 변수가 주택 가격을 더 잘 설명하는 경향이 있습니다."
      ]
    },
    {
      "cell_type": "markdown",
      "metadata": {
        "id": "m-_EJwV_mVHq"
      },
      "source": [
        "2.  **LSTAT 계수 해석**\n",
        "    계수는 음수가 나옵니다 (`lr_lstat.coef_[0]` 확인 시 약 -0.9 \\~ -1.0). 이는 저소득층 비율(`LSTAT`)이 높을수록 주택 가격(`SalePrice`)은 낮아지는 경향이 있음을 의미하며, 이는 상식적으로 타당한 해석입니다.\n",
        "\n",
        "### 3.3 연습 문제 정답 보기\n",
        "\n",
        "1.  **NOX 변수 추가**"
      ]
    },
    {
      "cell_type": "code",
      "execution_count": null,
      "metadata": {
        "id": "z0FZO6eEmVHq"
      },
      "outputs": [],
      "source": [
        "features_new = ['GrLivArea', 'CRIM', 'PTRATIO', 'NOX']\n",
        "X_multi_new = df[features_new]\n",
        "# ... (이하 train_test_split, fit, predict, score 과정은 동일) ...\n",
        "# R-squared 값이 기존보다 소폭 상승하는 것을 확인할 수 있습니다."
      ]
    },
    {
      "cell_type": "markdown",
      "metadata": {
        "id": "JssggtVxmVHq"
      },
      "source": [
        "2.  **계수 값이 변하는 이유**\n",
        "    다중 회귀에서 각 변수의 계수는 \\*\\*'다른 변수들이 통제(고정)되었을 때'\\*\\*의 순수한 영향력을 의미합니다. 단순 회귀에서의 `GrLivArea` 계수는 다른 변수(범죄율, 학생-교사 비율 등)와 `GrLivArea` 간의 숨겨진 관계까지 모두 포함된 값이었습니다. 예를 들어, 방 개수가 많은 지역은 범죄율이 낮은 경향이 있을 수 있습니다. 다중 회귀에서는 이러한 다른 변수들의 효과를 분리하여 `GrLivArea`만의 영향력을 추정하기 때문에 계수 값이 달라집니다.\n",
        "\n",
        "### 4.3 연습 문제 정답 보기\n",
        "\n",
        "1.  **Degree 3 모델 비교**"
      ]
    },
    {
      "cell_type": "code",
      "execution_count": null,
      "metadata": {
        "id": "dcXjxWjwmVHq"
      },
      "outputs": [],
      "source": [
        "# Degree 3 모델 생성\n",
        "poly_reg_3 = make_pipeline(PolynomialFeatures(degree=3), LinearRegression())\n",
        "poly_reg_3.fit(X_train, y_train)\n",
        "test_rmse_3 = np.sqrt(mean_squared_error(y_test, poly_reg_3.predict(X_test)))\n",
        "print(f\"Degree 3 Test RMSE: {test_rmse_3:.2f}\")\n",
        "# Degree 2 모델보다 Test RMSE가 약간 낮아져 성능이 개선될 수 있습니다.\n",
        "# 하지만 Degree 10 보다는 훨씬 좋은 성능을 보입니다."
      ]
    },
    {
      "cell_type": "markdown",
      "metadata": {
        "id": "go7Q9JdomVHq"
      },
      "source": [
        "2.  **차수별 RMSE 그래프**"
      ]
    },
    {
      "cell_type": "code",
      "execution_count": null,
      "metadata": {
        "id": "gNrS7FoXmVHq"
      },
      "outputs": [],
      "source": [
        "train_rmse_list = []\n",
        "test_rmse_list = []\n",
        "degree_range = range(1, 16)\n",
        "\n",
        "for degree in degree_range:\n",
        "    model = make_pipeline(PolynomialFeatures(degree=degree), LinearRegression())\n",
        "    model.fit(X_train, y_train)\n",
        "\n",
        "    train_rmse = np.sqrt(mean_squared_error(y_train, model.predict(X_train)))\n",
        "    test_rmse = np.sqrt(mean_squared_error(y_test, model.predict(X_test)))\n",
        "\n",
        "    train_rmse_list.append(train_rmse)\n",
        "    test_rmse_list.append(test_rmse)\n",
        "\n",
        "# Plotly로 시각화\n",
        "fig = go.Figure()\n",
        "fig.add_trace(go.Scatter(x=list(degree_range), y=train_rmse_list, mode='lines+markers', name='Train RMSE'))\n",
        "fig.add_trace(go.Scatter(x=list(degree_range), y=test_rmse_list, mode='lines+markers', name='Test RMSE'))\n",
        "fig.update_layout(title='차수에 따른 RMSE 변화', xaxis_title='Degree', yaxis_title='RMSE', template='plotly_white')\n",
        "fig.show()\n",
        "# 그래프를 보면, Train RMSE는 차수가 높아질수록 계속 감소하지만,\n",
        "# Test RMSE는 특정 지점(대략 3~5)에서 최저점을 찍고 다시 증가하는 것을 볼 수 있습니다.\n",
        "# 이 지점이 과적합이 시작되는 구간입니다."
      ]
    }
  ],
  "metadata": {
    "colab": {
      "provenance": []
    },
    "kernelspec": {
      "display_name": ".venv",
      "language": "python",
      "name": "python3"
    },
    "language_info": {
      "codemirror_mode": {
        "name": "ipython",
        "version": 3
      },
      "file_extension": ".py",
      "mimetype": "text/x-python",
      "name": "python",
      "nbconvert_exporter": "python",
      "pygments_lexer": "ipython3",
      "version": "3.12.9"
    }
  },
  "nbformat": 4,
  "nbformat_minor": 0
}
