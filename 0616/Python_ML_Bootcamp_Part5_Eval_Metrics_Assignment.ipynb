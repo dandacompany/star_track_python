{
  "cells": [
    {
      "cell_type": "markdown",
      "metadata": {
        "id": "Uu6fYol9rQg2"
      },
      "source": [
        "# Lab #1 (Part 5): Ames 주택 가격 예측 모델 성능 종합 평가\n",
        "\n",
        "지금까지 배운 4가지 회귀 평가지표를 모두 사용하여, 실제 데이터셋에 대한 모델 성능을 종합적으로 분석하는 실습을 진행해 보겠습니다. \n",
        "\n",
        "**Ames Housing 데이터셋**을 사용하여 두 개의 다른 회귀 모델(`LinearRegression`, `RandomForestRegressor`)을 만들고, 어떤 모델이 어떤 지표에서 더 우수한지 비교 분석합니다.\n",
        "\n",
        "### 과제 목표\n",
        "1. `Ames Housing` 데이터를 로드하고 기본적인 전처리를 수행합니다.\n",
        "   \n",
        "2. `LinearRegression`과 `RandomForestRegressor` 모델을 훈련시킵니다.\n",
        "3. 두 모델의 성능을 **MAE, RMSE, R², RMSLE** 네 가지 지표로 각각 평가합니다.\n",
        "4. 평가 결과를 DataFrame으로 정리하고, 시각화를 통해 모델의 예측 경향을 분석합니다."
      ]
    },
    {
      "cell_type": "code",
      "execution_count": null,
      "metadata": {
        "id": "dUHf0-i1rQg2"
      },
      "outputs": [],
      "source": [
        "# 필요한 라이브러리 임포트\n",
        "import pandas as pd\n",
        "import numpy as np\n",
        "from sklearn.datasets import fetch_openml\n",
        "from sklearn.model_selection import train_test_split\n",
        "from sklearn.linear_model import LinearRegression\n",
        "from sklearn.ensemble import RandomForestRegressor\n",
        "from sklearn.metrics import mean_absolute_error, mean_squared_error, r2_score, mean_squared_log_error\n",
        "import plotly.express as px\n",
        "\n",
        "# ---------------------------------------------------\n",
        "# 1. 데이터 로드 및 준비 (Data Loading and Preparation)\n",
        "# ---------------------------------------------------\n",
        "# Ames Housing 데이터셋 로드\n",
        "housing = fetch_openml(name=\"house_prices\", as_frame=True)\n",
        "df = housing.data.join(housing.target)\n",
        "df.rename(columns={'target': 'SalePrice'}, inplace=True)\n",
        "\n",
        "# 특성(X)과 타겟(y) 분리\n",
        "X = df.drop('SalePrice', axis=1)\n",
        "y = df['SalePrice']\n",
        "\n",
        "# 실습의 편의를 위해 수치형 특성만 선택\n",
        "X_numeric = X.select_dtypes(include=np.number)\n",
        "\n",
        "# 결측치를 각 열의 평균값으로 채우기\n",
        "X_numeric = X_numeric.fillna(X_numeric.mean())\n",
        "\n",
        "# 훈련 데이터와 테스트 데이터 분리 (8:2 비율, 랜덤 시드 고정)\n",
        "X_train, X_test, y_train, y_test = train_test_split(\n",
        "    X_numeric, y, test_size=0.2, random_state=42\n",
        ")"
      ]
    },
    {
      "cell_type": "code",
      "execution_count": null,
      "metadata": {},
      "outputs": [],
      "source": [
        "# ---------------------------------------------------\n",
        "# 2. 모델 훈련 (Model Training)\n",
        "# ---------------------------------------------------\n",
        "# [문제 1] LinearRegression 모델을 생성하고 훈련시키세요.\n",
        "# 모델 변수명: lr_model\n",
        "# lr_model = ?\n",
        "# lr_model.fit(?, ?)\n",
        "\n",
        "# [문제 2] RandomForestRegressor 모델을 생성하고 훈련시키세요.\n",
        "# n_estimators=100, random_state=42로 설정\n",
        "# 모델 변수명: rf_model\n",
        "# rf_model = ?\n",
        "# rf_model.fit(?, ?)"
      ]
    },
    {
      "cell_type": "code",
      "execution_count": null,
      "metadata": {},
      "outputs": [],
      "source": [
        "# ---------------------------------------------------\n",
        "# 3. 예측 및 평가 (Prediction and Evaluation)\n",
        "# ---------------------------------------------------\n",
        "# 테스트 데이터에 대한 예측 수행\n",
        "# lr_preds = ?\n",
        "# rf_preds = ?\n",
        "\n",
        "# 각 모델에 대한 평가지표 계산 함수\n",
        "def evaluate_regression(y_true, y_pred, model_name=\"\"):\n",
        "    mae = mean_absolute_error(y_true, y_pred)\n",
        "    rmse = mean_squared_error(y_true, y_pred, squared=False)\n",
        "    r2 = r2_score(y_true, y_pred)\n",
        "    # RMSLE 계산 시 음수 예측값이 있을 경우를 대비하여 0으로 클리핑\n",
        "    y_pred_clipped = np.clip(y_pred, 0, None)\n",
        "    rmsle = np.sqrt(mean_squared_log_error(y_true, y_pred_clipped))\n",
        "\n",
        "    print(f\"--- {model_name} 모델 평가 결과 ---\")\n",
        "    print(f\"MAE: {mae:,.2f}\")\n",
        "    print(f\"RMSE: {rmse:,.2f}\")\n",
        "    print(f\"R²: {r2:.4f}\")\n",
        "    print(f\"RMSLE: {rmsle:.4f}\\n\")\n",
        "    return [mae, rmse, r2, rmsle]"
      ]
    },
    {
      "cell_type": "code",
      "execution_count": null,
      "metadata": {},
      "outputs": [],
      "source": [
        "# [문제 3] LinearRegression 모델의 성능을 평가하세요.\n",
        "# lr_metrics = evaluate_regression(?, ?, model_name=\"Linear Regression\")"
      ]
    },
    {
      "cell_type": "code",
      "execution_count": null,
      "metadata": {},
      "outputs": [],
      "source": [
        "# [문제 4] RandomForestRegressor 모델의 성능을 평가하세요.\n",
        "# rf_metrics = evaluate_regression(?, ?, model_name=\"Random Forest\")\n",
        "\n",
        "\n",
        "# ---------------------------------------------------\n",
        "# 4. 결과 분석 및 시각화 (Result Analysis and Visualization)\n",
        "# ---------------------------------------------------"
      ]
    },
    {
      "cell_type": "code",
      "execution_count": null,
      "metadata": {},
      "outputs": [],
      "source": [
        "# [문제 5] 평가 결과를 pandas DataFrame으로 만드세요.\n",
        "# 컬럼: ['Metric', 'Linear Regression', 'Random Forest']\n",
        "# 인덱스: ['MAE', 'RMSE', 'R²', 'RMSLE']\n",
        "# metrics_df = ?\n",
        "# print(metrics_df)"
      ]
    },
    {
      "cell_type": "code",
      "execution_count": null,
      "metadata": {},
      "outputs": [],
      "source": [
        "# [문제 6] RandomForest 모델의 예측 결과를 시각화하세요.\n",
        "# x축은 실제값(y_test), y축은 예측값(rf_preds)으로 하는 scatter plot을 그리세요.\n",
        "# Plotly Express를 사용하고, '실제값 vs 예측값 (Random Forest)' 라는 제목을 추가하세요.\n",
        "# fig = px.scatter(?, ?, ?, ?,\n",
        "#                  title='실제값 vs 예측값 (Random Forest)',\n",
        "#                  labels={'x': '실제 가격', 'y': '예측 가격'})\n",
        "# 완벽한 예측을 의미하는 y=x 직선(빨간색)을 추가하세요.\n",
        "# fig.add_shape(type='line', x0=y_test.min(), y0=y_test.min(),\n",
        "#               x1=y_test.max(), y1=y_test.max(), line=dict(color='Red', dash='dash'))\n",
        "# fig.show()"
      ]
    }
  ],
  "metadata": {
    "colab": {
      "provenance": []
    },
    "kernelspec": {
      "display_name": ".venv",
      "language": "python",
      "name": "python3"
    },
    "language_info": {
      "codemirror_mode": {
        "name": "ipython",
        "version": 3
      },
      "file_extension": ".py",
      "mimetype": "text/x-python",
      "name": "python",
      "nbconvert_exporter": "python",
      "pygments_lexer": "ipython3",
      "version": "3.12.9"
    }
  },
  "nbformat": 4,
  "nbformat_minor": 0
}
