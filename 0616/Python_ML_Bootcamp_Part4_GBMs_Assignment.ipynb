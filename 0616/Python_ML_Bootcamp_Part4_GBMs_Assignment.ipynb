{
  "cells": [
    {
      "cell_type": "markdown",
      "metadata": {},
      "source": [
        "# Lab #1 (Part 4): 서울시 따릉이 수요 예측 GBMs 모델 성능 비교\n",
        "\n",
        "지금까지 배운 Gradient Boosting 모델 3대장(XGBoost, LightGBM, CatBoost)을 모두 사용하여 '서울 따릉이' 수요 예측 문제를 해결해보고, 최종 성능을 비교 분석하여 최적의 모델을 찾아봅시다.\n",
        "\n",
        "### 과제 목표\n",
        "\n",
        "1.  간단한 특성 공학(Feature Engineering)을 수행합니다.\n",
        "2.  XGBoost, LightGBM, CatBoost 모델을 각각 학습시키고 성능(RMSE, R²)을 평가합니다.\n",
        "3.  세 모델의 성능을 시각적으로 비교하고 결과를 해석합니다.\n",
        "\n",
        "### Step 1: 데이터 준비 및 특성 공학\n",
        "\n",
        "기존에 사용한 `df_orig` 데이터프레임에 새로운 시간 관련 특성을 추가해 봅시다."
      ]
    },
    {
      "cell_type": "code",
      "execution_count": null,
      "metadata": {},
      "outputs": [],
      "source": [
        "# 원본 데이터 로드\n",
        "\n",
        "# 컬럼명 정리\n",
        "\n",
        "# 📌 특성 공학: 주중/주말, 출퇴근 시간 특성 추가\n",
        "\n",
        "# 사용할 특성 정의\n",
        "\n",
        "# 범주형 특성 목록\n",
        "\n",
        "# 학습/테스트 데이터 분리"
      ]
    },
    {
      "cell_type": "markdown",
      "metadata": {},
      "source": [
        "### Step 2: 3개 모델 학습 및 평가\n",
        "\n",
        "아래 가이드에 따라 XGBoost, LightGBM, CatBoost 모델을 각각 학습시키고, 결과를 `results` 리스트에 저장하세요.\n",
        "\n",
        "  * **XGBoost**: `pd.get_dummies`로 범주형 변수를 원-핫 인코딩한 데이터를 사용해야 합니다.\n",
        "  * **LightGBM**: `pd.get_dummies`로 인코딩된 데이터를 사용하거나, `pandas.Categorical` 타입으로 변환하여 직접 처리할 수 있습니다. 여기서는 XGBoost와 동일하게 인코딩된 데이터를 사용하겠습니다.\n",
        "  * **CatBoost**: 원-핫 인코딩되지 않은 원본 형태의 데이터를 사용하고, `cat_features` 인자를 꼭 설정해주세요.\n",
        "\n",
        "<!-- end list -->"
      ]
    },
    {
      "cell_type": "code",
      "execution_count": null,
      "metadata": {},
      "outputs": [],
      "source": [
        "# 결과 저장을 위한 리스트\n",
        "\n",
        "# --- 1. XGBoost ---\n",
        "# XGBoost를 위한 데이터 전처리 (원-핫 인코딩)\n",
        "\n",
        "# 모델 학습\n",
        "\n",
        "# 성능 계산 및 저장\n",
        "\n",
        "# --- 2. LightGBM ---\n",
        "# LightGBM은 XGBoost와 동일한 데이터 사용\n",
        "\n",
        "# 성능 계산 및 저장\n",
        "\n",
        "\n",
        "# --- 3. CatBoost ---\n",
        "# CatBoost는 원본 데이터 사용\n",
        "\n",
        "# 성능 계산 및 저장\n",
        "\n",
        "# 결과 데이터프레임 생성"
      ]
    },
    {
      "cell_type": "markdown",
      "metadata": {},
      "source": [
        "### Step 3: 결과 비교 및 시각화\n",
        "\n",
        "`plotly.express`를 사용하여 세 모델의 RMSE와 R² 점수를 막대그래프로 비교해 봅시다."
      ]
    },
    {
      "cell_type": "code",
      "execution_count": null,
      "metadata": {},
      "outputs": [],
      "source": [
        "# RMSE 비교 시각화\n",
        "\n",
        "# R² Score 비교 시각화"
      ]
    },
    {
      "cell_type": "markdown",
      "metadata": {},
      "source": [
        "### Step 4: 결과 해석 (자율 양식)\n",
        "\n",
        "  * 어떤 모델이 가장 좋은 성능(가장 낮은 RMSE, 가장 높은 R²)을 보였나요?\n",
        "  * 각 모델의 학습 시간은 어땠나요? (코드를 수정하여 측정해보세요.)\n",
        "  * 이 데이터셋의 특성(범주형 변수의 존재, 데이터 크기 등)을 고려할 때, 왜 특정 모델이 더 좋은 성능을 보였을지 자신의 생각을 정리해보세요.\n",
        "  * 기타 생각해볼 점이 있다면 적어보세요."
      ]
    },
    {
      "cell_type": "markdown",
      "metadata": {},
      "source": []
    }
  ],
  "metadata": {
    "colab": {
      "provenance": []
    },
    "kernelspec": {
      "display_name": ".venv",
      "language": "python",
      "name": "python3"
    },
    "language_info": {
      "codemirror_mode": {
        "name": "ipython",
        "version": 3
      },
      "file_extension": ".py",
      "mimetype": "text/x-python",
      "name": "python",
      "nbconvert_exporter": "python",
      "pygments_lexer": "ipython3",
      "version": "3.12.9"
    }
  },
  "nbformat": 4,
  "nbformat_minor": 0
}
