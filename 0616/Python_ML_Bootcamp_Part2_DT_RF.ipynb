{
  "cells": [
    {
      "cell_type": "markdown",
      "metadata": {
        "id": "4V7JwMEj8Uvj"
      },
      "source": [
        "# 🌳 Day 1-2: 트리 & 랜덤포레스트 회귀\n",
        "\n",
        "선형 회귀 모델이 데이터의 선형 관계를 가정하는 반면, 트리 기반 모델은 데이터를 작은 그룹으로 반복적으로 분할하여 예측을 수행합니다. \n",
        "\n",
        "마치 '스무고개' 놀이처럼, 특정 질문(조건)에 따라 데이터를 나누어 복잡한 패턴도 학습할 수 있는 강력한 모델입니다.\n",
        "\n",
        "오늘은 가장 대표적인 트리 모델인 **결정 트리(Decision Tree)** 와 이의 한계를 극복한 앙상블 모델인 **랜덤 포레스트(Random Forest)** 에 대해 깊이 있게 학습합니다.\n",
        "\n",
        "---"
      ]
    },
    {
      "cell_type": "markdown",
      "metadata": {},
      "source": [
        "### **1. 결정 트리 회귀 (Decision Tree Regressor)**\n",
        "\n",
        "결정 트리는 데이터를 가장 잘 나눌 수 있는 질문(특성)을 순차적으로 찾아가며 예측 모델을 만드는 알고리즘입니다.\n",
        "\n",
        "#### **1.1. 개념: 스무고개처럼 데이터를 나누는 모델**\n",
        "\n",
        "결정 트리는 특정 지점에서 데이터를 두 영역으로 나누는 '결정 경계(Decision Boundary)'를 반복적으로 만들어 예측을 수행합니다. \n",
        "\n",
        "회귀 문제의 경우, 각 분할은 예측 오차(예: 평균제곱오차, MSE)를 가장 많이 줄일 수 있는 방향으로 이루어집니다.\n",
        "\n",
        "* **루트 노드 (Root Node):** 예측을 시작하는 최상위 노드. 전체 데이터를 포함합니다.\n",
        "  \n",
        "* **중간 노드 (Internal Node):** 데이터를 특정 기준으로 분할하는 중간 단계의 노드.\n",
        "* **리프 노드 (Leaf Node):** 더 이상 분할되지 않는 최종 노드. 이 노드에 속한 데이터들의 타겟 변수 평균값이 해당 노드의 최종 예측값이 됩니다.\n",
        "* **깊이 (Depth):** 루트 노드에서 특정 노드까지 도달하는 데 거치는 분할의 횟수.\n",
        "\n",
        "예를 들어 '자전거 대여량'을 예측한다면, 결정 트리는 아래와 같은 질문을 통해 예측값을 찾아갑니다.\n",
        "1.  기온이 10도 이상인가? (Yes/No)\n",
        "   \n",
        "2.  (Yes일 경우) 습도가 60% 미만인가? (Yes/No)\n",
        "3.  (Yes일 경우) 풍속이 2m/s 미만인가? (Yes/No)\n",
        "...\n",
        "최종적으로 도달한 **리프 노드**에 속한 데이터들의 평균 대여량이 예측 결과가 됩니다."
      ]
    },
    {
      "cell_type": "markdown",
      "metadata": {},
      "source": [
        "#### **1.2. 핵심 개념: 편향-분산 트레이드오프 (Bias-Variance Tradeoff)**\n",
        "\n",
        "결정 트리는 **깊이(`max_depth`)** 를 제한하지 않으면 훈련 데이터에 과도하게 최적화되는 **과적합(Overfitting)** 경향이 매우 강합니다.\n",
        "\n",
        "* **깊은 트리 (High Depth):** 훈련 데이터의 아주 작은 노이즈까지 학습하여 복잡한 모델을 만듭니다. 이로 인해 **편향(Bias)은 낮아지지만 분산(Variance)은 높아져**, 새로운 데이터에 대한 예측 성능이 떨어집니다. (훈련 데이터 점수는 높지만, 테스트 데이터 점수는 낮은 상태)\n",
        "* **얕은 트리 (Low Depth):** 모델이 너무 단순하여 데이터의 복잡한 패턴을 충분히 학습하지 못합니다. **편향은 높아지고 분산은 낮아져** 과소적합(Underfitting)이 발생합니다.\n",
        "\n",
        "`max_depth`, `min_samples_leaf`와 같은 하이퍼파라미터를 조절하여 모델의 복잡도를 제어하고 편향과 분산의 균형을 맞추는 것이 중요합니다."
      ]
    },
    {
      "cell_type": "markdown",
      "metadata": {},
      "source": [
        "* 구글 스프레드시트로 Decision Tree 회귀 모델 이해하기 : [링크](https://docs.google.com/spreadsheets/d/14JRl5jT3du75GD_maZH-VSyeEBVUfA-qYzgLUP012JI/edit?usp=sharing)"
      ]
    },
    {
      "cell_type": "markdown",
      "metadata": {},
      "source": [
        "\n",
        "#### **1.3. 코드 실습: 서울시 따릉이 수요 예측**\n",
        "\n",
        "이제 코드를 통해 서울시 공공자전거(따릉이) 데이터를 이용해 결정 트리 회귀 모델을 만들어 보겠습니다.\n",
        "\n",
        "**데이터셋 정보**\n",
        "* **출처:** [Seoul Bike Sharing Demand Prediction (Kaggle)](https://www.kaggle.com/datasets/saurabhshahane/seoul-bike-sharing-demand-prediction)\n",
        "* **내용:** 시간대별 기온, 습도 등 날씨 정보와 해당 시간의 자전거 대여량(`Rented Bike Count`) 정보 포함\n",
        "\n",
        "##### **1.3.1. 데이터 준비 및 전처리**\n",
        "\n",
        "먼저 필요한 라이브러리를 불러오고 데이터를 준비합니다. 범주형 변수는 모델이 이해할 수 있도록 원-핫 인코딩(One-hot Encoding)으로 변환합니다."
      ]
    },
    {
      "cell_type": "code",
      "execution_count": null,
      "metadata": {
        "id": "BiPNVqPk8Uvm"
      },
      "outputs": [],
      "source": [
        "# 데이터 전처리 라이브러리 준비\n",
        "import pandas as pd\n",
        "import numpy as np\n",
        "from sklearn.model_selection import train_test_split\n",
        "from sklearn.metrics import mean_squared_error"
      ]
    },
    {
      "cell_type": "code",
      "execution_count": null,
      "metadata": {},
      "outputs": [],
      "source": [
        "# 시각화 관련 라이브러리 준비\n",
        "import koreanize_matplotlib\n",
        "koreanize_matplotlib.koreanize()\n",
        "import plotly.express as px\n",
        "import matplotlib.pyplot as plt\n",
        "pd.options.plotting.backend = 'plotly'\n",
        "import warnings\n",
        "warnings.filterwarnings('ignore')"
      ]
    },
    {
      "cell_type": "code",
      "execution_count": null,
      "metadata": {},
      "outputs": [],
      "source": [
        "# 데이터셋 로드 (cp949 인코딩이 필요합니다.)\n",
        "# 로컬/도커 경로에 맞게 수정해주세요.\n",
        "df = pd.read_csv('../datasets/ml/bike-sharing/SeoulBikeData.csv', encoding='cp949')"
      ]
    },
    {
      "cell_type": "code",
      "execution_count": null,
      "metadata": {},
      "outputs": [
        {
          "data": {
            "text/html": [
              "<div>\n",
              "<style scoped>\n",
              "    .dataframe tbody tr th:only-of-type {\n",
              "        vertical-align: middle;\n",
              "    }\n",
              "\n",
              "    .dataframe tbody tr th {\n",
              "        vertical-align: top;\n",
              "    }\n",
              "\n",
              "    .dataframe thead th {\n",
              "        text-align: right;\n",
              "    }\n",
              "</style>\n",
              "<table border=\"1\" class=\"dataframe\">\n",
              "  <thead>\n",
              "    <tr style=\"text-align: right;\">\n",
              "      <th></th>\n",
              "      <th>Date</th>\n",
              "      <th>Rented Bike Count</th>\n",
              "      <th>Hour</th>\n",
              "      <th>Temperature(캜)</th>\n",
              "      <th>Humidity(%)</th>\n",
              "      <th>Wind speed (m/s)</th>\n",
              "      <th>Visibility (10m)</th>\n",
              "      <th>Dew point temperature(캜)</th>\n",
              "      <th>Solar Radiation (MJ/m2)</th>\n",
              "      <th>Rainfall(mm)</th>\n",
              "      <th>Snowfall (cm)</th>\n",
              "      <th>Seasons</th>\n",
              "      <th>Holiday</th>\n",
              "      <th>Functioning Day</th>\n",
              "      <th>Month</th>\n",
              "      <th>Day</th>\n",
              "      <th>Weekday</th>\n",
              "    </tr>\n",
              "  </thead>\n",
              "  <tbody>\n",
              "    <tr>\n",
              "      <th>0</th>\n",
              "      <td>2017-12-01</td>\n",
              "      <td>254</td>\n",
              "      <td>0</td>\n",
              "      <td>-5.2</td>\n",
              "      <td>37</td>\n",
              "      <td>2.2</td>\n",
              "      <td>2000</td>\n",
              "      <td>-17.6</td>\n",
              "      <td>0.0</td>\n",
              "      <td>0.0</td>\n",
              "      <td>0.0</td>\n",
              "      <td>Winter</td>\n",
              "      <td>No Holiday</td>\n",
              "      <td>Yes</td>\n",
              "      <td>12</td>\n",
              "      <td>1</td>\n",
              "      <td>4</td>\n",
              "    </tr>\n",
              "    <tr>\n",
              "      <th>1</th>\n",
              "      <td>2017-12-01</td>\n",
              "      <td>204</td>\n",
              "      <td>1</td>\n",
              "      <td>-5.5</td>\n",
              "      <td>38</td>\n",
              "      <td>0.8</td>\n",
              "      <td>2000</td>\n",
              "      <td>-17.6</td>\n",
              "      <td>0.0</td>\n",
              "      <td>0.0</td>\n",
              "      <td>0.0</td>\n",
              "      <td>Winter</td>\n",
              "      <td>No Holiday</td>\n",
              "      <td>Yes</td>\n",
              "      <td>12</td>\n",
              "      <td>1</td>\n",
              "      <td>4</td>\n",
              "    </tr>\n",
              "    <tr>\n",
              "      <th>2</th>\n",
              "      <td>2017-12-01</td>\n",
              "      <td>173</td>\n",
              "      <td>2</td>\n",
              "      <td>-6.0</td>\n",
              "      <td>39</td>\n",
              "      <td>1.0</td>\n",
              "      <td>2000</td>\n",
              "      <td>-17.7</td>\n",
              "      <td>0.0</td>\n",
              "      <td>0.0</td>\n",
              "      <td>0.0</td>\n",
              "      <td>Winter</td>\n",
              "      <td>No Holiday</td>\n",
              "      <td>Yes</td>\n",
              "      <td>12</td>\n",
              "      <td>1</td>\n",
              "      <td>4</td>\n",
              "    </tr>\n",
              "    <tr>\n",
              "      <th>3</th>\n",
              "      <td>2017-12-01</td>\n",
              "      <td>107</td>\n",
              "      <td>3</td>\n",
              "      <td>-6.2</td>\n",
              "      <td>40</td>\n",
              "      <td>0.9</td>\n",
              "      <td>2000</td>\n",
              "      <td>-17.6</td>\n",
              "      <td>0.0</td>\n",
              "      <td>0.0</td>\n",
              "      <td>0.0</td>\n",
              "      <td>Winter</td>\n",
              "      <td>No Holiday</td>\n",
              "      <td>Yes</td>\n",
              "      <td>12</td>\n",
              "      <td>1</td>\n",
              "      <td>4</td>\n",
              "    </tr>\n",
              "    <tr>\n",
              "      <th>4</th>\n",
              "      <td>2017-12-01</td>\n",
              "      <td>78</td>\n",
              "      <td>4</td>\n",
              "      <td>-6.0</td>\n",
              "      <td>36</td>\n",
              "      <td>2.3</td>\n",
              "      <td>2000</td>\n",
              "      <td>-18.6</td>\n",
              "      <td>0.0</td>\n",
              "      <td>0.0</td>\n",
              "      <td>0.0</td>\n",
              "      <td>Winter</td>\n",
              "      <td>No Holiday</td>\n",
              "      <td>Yes</td>\n",
              "      <td>12</td>\n",
              "      <td>1</td>\n",
              "      <td>4</td>\n",
              "    </tr>\n",
              "  </tbody>\n",
              "</table>\n",
              "</div>"
            ],
            "text/plain": [
              "        Date  Rented Bike Count  Hour  Temperature(캜)  Humidity(%)  \\\n",
              "0 2017-12-01                254     0            -5.2           37   \n",
              "1 2017-12-01                204     1            -5.5           38   \n",
              "2 2017-12-01                173     2            -6.0           39   \n",
              "3 2017-12-01                107     3            -6.2           40   \n",
              "4 2017-12-01                 78     4            -6.0           36   \n",
              "\n",
              "   Wind speed (m/s)  Visibility (10m)  Dew point temperature(캜)  \\\n",
              "0               2.2              2000                     -17.6   \n",
              "1               0.8              2000                     -17.6   \n",
              "2               1.0              2000                     -17.7   \n",
              "3               0.9              2000                     -17.6   \n",
              "4               2.3              2000                     -18.6   \n",
              "\n",
              "   Solar Radiation (MJ/m2)  Rainfall(mm)  Snowfall (cm) Seasons     Holiday  \\\n",
              "0                      0.0           0.0            0.0  Winter  No Holiday   \n",
              "1                      0.0           0.0            0.0  Winter  No Holiday   \n",
              "2                      0.0           0.0            0.0  Winter  No Holiday   \n",
              "3                      0.0           0.0            0.0  Winter  No Holiday   \n",
              "4                      0.0           0.0            0.0  Winter  No Holiday   \n",
              "\n",
              "  Functioning Day  Month  Day  Weekday  \n",
              "0             Yes     12    1        4  \n",
              "1             Yes     12    1        4  \n",
              "2             Yes     12    1        4  \n",
              "3             Yes     12    1        4  \n",
              "4             Yes     12    1        4  "
            ]
          },
          "execution_count": 8,
          "metadata": {},
          "output_type": "execute_result"
        }
      ],
      "source": [
        "# 날짜(Date) 컬럼을 datetime 형식으로 변환하고, 월/일/요일 특성 추출\n",
        "df['Date'] = pd.to_datetime(df['Date'], format='%d/%m/%Y')\n",
        "df['Month'] = df['Date'].dt.month\n",
        "df['Day'] = df['Date'].dt.day\n",
        "df['Weekday'] = df['Date'].dt.dayofweek\n",
        "df.head()\n"
      ]
    },
    {
      "cell_type": "code",
      "execution_count": null,
      "metadata": {},
      "outputs": [
        {
          "data": {
            "text/html": [
              "<div>\n",
              "<style scoped>\n",
              "    .dataframe tbody tr th:only-of-type {\n",
              "        vertical-align: middle;\n",
              "    }\n",
              "\n",
              "    .dataframe tbody tr th {\n",
              "        vertical-align: top;\n",
              "    }\n",
              "\n",
              "    .dataframe thead th {\n",
              "        text-align: right;\n",
              "    }\n",
              "</style>\n",
              "<table border=\"1\" class=\"dataframe\">\n",
              "  <thead>\n",
              "    <tr style=\"text-align: right;\">\n",
              "      <th></th>\n",
              "      <th>Date</th>\n",
              "      <th>Rented Bike Count</th>\n",
              "      <th>Hour</th>\n",
              "      <th>Temperature(캜)</th>\n",
              "      <th>Humidity(%)</th>\n",
              "      <th>Wind speed (m/s)</th>\n",
              "      <th>Visibility (10m)</th>\n",
              "      <th>Dew point temperature(캜)</th>\n",
              "      <th>Solar Radiation (MJ/m2)</th>\n",
              "      <th>Rainfall(mm)</th>\n",
              "      <th>Snowfall (cm)</th>\n",
              "      <th>Month</th>\n",
              "      <th>Day</th>\n",
              "      <th>Weekday</th>\n",
              "      <th>Seasons_Spring</th>\n",
              "      <th>Seasons_Summer</th>\n",
              "      <th>Seasons_Winter</th>\n",
              "      <th>Holiday_No Holiday</th>\n",
              "      <th>Functioning Day_Yes</th>\n",
              "    </tr>\n",
              "  </thead>\n",
              "  <tbody>\n",
              "    <tr>\n",
              "      <th>0</th>\n",
              "      <td>2017-12-01</td>\n",
              "      <td>254</td>\n",
              "      <td>0</td>\n",
              "      <td>-5.2</td>\n",
              "      <td>37</td>\n",
              "      <td>2.2</td>\n",
              "      <td>2000</td>\n",
              "      <td>-17.6</td>\n",
              "      <td>0.0</td>\n",
              "      <td>0.0</td>\n",
              "      <td>0.0</td>\n",
              "      <td>12</td>\n",
              "      <td>1</td>\n",
              "      <td>4</td>\n",
              "      <td>False</td>\n",
              "      <td>False</td>\n",
              "      <td>True</td>\n",
              "      <td>True</td>\n",
              "      <td>True</td>\n",
              "    </tr>\n",
              "    <tr>\n",
              "      <th>1</th>\n",
              "      <td>2017-12-01</td>\n",
              "      <td>204</td>\n",
              "      <td>1</td>\n",
              "      <td>-5.5</td>\n",
              "      <td>38</td>\n",
              "      <td>0.8</td>\n",
              "      <td>2000</td>\n",
              "      <td>-17.6</td>\n",
              "      <td>0.0</td>\n",
              "      <td>0.0</td>\n",
              "      <td>0.0</td>\n",
              "      <td>12</td>\n",
              "      <td>1</td>\n",
              "      <td>4</td>\n",
              "      <td>False</td>\n",
              "      <td>False</td>\n",
              "      <td>True</td>\n",
              "      <td>True</td>\n",
              "      <td>True</td>\n",
              "    </tr>\n",
              "    <tr>\n",
              "      <th>2</th>\n",
              "      <td>2017-12-01</td>\n",
              "      <td>173</td>\n",
              "      <td>2</td>\n",
              "      <td>-6.0</td>\n",
              "      <td>39</td>\n",
              "      <td>1.0</td>\n",
              "      <td>2000</td>\n",
              "      <td>-17.7</td>\n",
              "      <td>0.0</td>\n",
              "      <td>0.0</td>\n",
              "      <td>0.0</td>\n",
              "      <td>12</td>\n",
              "      <td>1</td>\n",
              "      <td>4</td>\n",
              "      <td>False</td>\n",
              "      <td>False</td>\n",
              "      <td>True</td>\n",
              "      <td>True</td>\n",
              "      <td>True</td>\n",
              "    </tr>\n",
              "    <tr>\n",
              "      <th>3</th>\n",
              "      <td>2017-12-01</td>\n",
              "      <td>107</td>\n",
              "      <td>3</td>\n",
              "      <td>-6.2</td>\n",
              "      <td>40</td>\n",
              "      <td>0.9</td>\n",
              "      <td>2000</td>\n",
              "      <td>-17.6</td>\n",
              "      <td>0.0</td>\n",
              "      <td>0.0</td>\n",
              "      <td>0.0</td>\n",
              "      <td>12</td>\n",
              "      <td>1</td>\n",
              "      <td>4</td>\n",
              "      <td>False</td>\n",
              "      <td>False</td>\n",
              "      <td>True</td>\n",
              "      <td>True</td>\n",
              "      <td>True</td>\n",
              "    </tr>\n",
              "    <tr>\n",
              "      <th>4</th>\n",
              "      <td>2017-12-01</td>\n",
              "      <td>78</td>\n",
              "      <td>4</td>\n",
              "      <td>-6.0</td>\n",
              "      <td>36</td>\n",
              "      <td>2.3</td>\n",
              "      <td>2000</td>\n",
              "      <td>-18.6</td>\n",
              "      <td>0.0</td>\n",
              "      <td>0.0</td>\n",
              "      <td>0.0</td>\n",
              "      <td>12</td>\n",
              "      <td>1</td>\n",
              "      <td>4</td>\n",
              "      <td>False</td>\n",
              "      <td>False</td>\n",
              "      <td>True</td>\n",
              "      <td>True</td>\n",
              "      <td>True</td>\n",
              "    </tr>\n",
              "  </tbody>\n",
              "</table>\n",
              "</div>"
            ],
            "text/plain": [
              "        Date  Rented Bike Count  Hour  Temperature(캜)  Humidity(%)  \\\n",
              "0 2017-12-01                254     0            -5.2           37   \n",
              "1 2017-12-01                204     1            -5.5           38   \n",
              "2 2017-12-01                173     2            -6.0           39   \n",
              "3 2017-12-01                107     3            -6.2           40   \n",
              "4 2017-12-01                 78     4            -6.0           36   \n",
              "\n",
              "   Wind speed (m/s)  Visibility (10m)  Dew point temperature(캜)  \\\n",
              "0               2.2              2000                     -17.6   \n",
              "1               0.8              2000                     -17.6   \n",
              "2               1.0              2000                     -17.7   \n",
              "3               0.9              2000                     -17.6   \n",
              "4               2.3              2000                     -18.6   \n",
              "\n",
              "   Solar Radiation (MJ/m2)  Rainfall(mm)  Snowfall (cm)  Month  Day  Weekday  \\\n",
              "0                      0.0           0.0            0.0     12    1        4   \n",
              "1                      0.0           0.0            0.0     12    1        4   \n",
              "2                      0.0           0.0            0.0     12    1        4   \n",
              "3                      0.0           0.0            0.0     12    1        4   \n",
              "4                      0.0           0.0            0.0     12    1        4   \n",
              "\n",
              "   Seasons_Spring  Seasons_Summer  Seasons_Winter  Holiday_No Holiday  \\\n",
              "0           False           False            True                True   \n",
              "1           False           False            True                True   \n",
              "2           False           False            True                True   \n",
              "3           False           False            True                True   \n",
              "4           False           False            True                True   \n",
              "\n",
              "   Functioning Day_Yes  \n",
              "0                 True  \n",
              "1                 True  \n",
              "2                 True  \n",
              "3                 True  \n",
              "4                 True  "
            ]
          },
          "execution_count": 9,
          "metadata": {},
          "output_type": "execute_result"
        }
      ],
      "source": [
        "# 범주형 변수 원-핫 인코딩\n",
        "df = pd.get_dummies(df, columns=['Seasons', 'Holiday', 'Functioning Day'], drop_first=True)\n",
        "df.head()\n"
      ]
    },
    {
      "cell_type": "code",
      "execution_count": null,
      "metadata": {},
      "outputs": [
        {
          "name": "stdout",
          "output_type": "stream",
          "text": [
            "훈련 데이터셋 크기: (7008, 17)\n",
            "테스트 데이터셋 크기: (1752, 17)\n"
          ]
        }
      ],
      "source": [
        "# 원본 날짜 컬럼 및 불필요한 컬럼 제거\n",
        "df_processed = df.drop(['Date'], axis=1)\n",
        "\n",
        "# 특성(X)과 타겟(y) 분리\n",
        "X = df_processed.drop('Rented Bike Count', axis=1)\n",
        "y = df_processed['Rented Bike Count']\n",
        "\n",
        "# 훈련/테스트 데이터 분리\n",
        "X_train, X_test, y_train, y_test = train_test_split(X, y, test_size=0.2, random_state=42)\n",
        "\n",
        "print('훈련 데이터셋 크기:', X_train.shape)\n",
        "print('테스트 데이터셋 크기:', X_test.shape)"
      ]
    },
    {
      "cell_type": "markdown",
      "metadata": {
        "id": "fRal7Yj-8Uvn"
      },
      "source": [
        "##### **1.3.2. 모델 학습 및 평가**\n",
        "\n",
        "`max_depth=5`로 설정하여 트리의 복잡도를 제한하고 과적합을 방지해 보겠습니다. \n",
        "\n",
        "모델의 성능은 **RMSE(Root Mean Squared Error)**로 평가합니다. \n",
        "\n",
        "RMSE는 실제값과 예측값의 차이를 제곱하여 평균낸 값의 제곱근으로, 오차를 실제값과 같은 단위로 해석할 수 있게 해줍니다.\n",
        "\n",
        "$RMSE = \\sqrt{\\frac{1}{n}\\sum_{i=1}^{n}(y_i - \\hat{y}_i)^2}$"
      ]
    },
    {
      "cell_type": "code",
      "execution_count": null,
      "metadata": {},
      "outputs": [],
      "source": [
        "# RMSE 계산 함수 정의\n",
        "rmse = lambda y, y_pred: np.sqrt(mean_squared_error(y, y_pred))"
      ]
    },
    {
      "cell_type": "code",
      "execution_count": null,
      "metadata": {
        "id": "Qild9fdL8Uvn"
      },
      "outputs": [
        {
          "name": "stdout",
          "output_type": "stream",
          "text": [
            "결정 트리 (max_depth=5) RMSE: 355.47\n"
          ]
        }
      ],
      "source": [
        "from sklearn.tree import DecisionTreeRegressor\n",
        "\n",
        "# 결정 트리 회귀 모델 생성 및 학습 (max_depth=5)\n",
        "tree_reg = DecisionTreeRegressor(max_depth=5, random_state=42)\n",
        "tree_reg.fit(X_train, y_train)\n",
        "\n",
        "# 테스트 데이터 예측\n",
        "y_pred_tree = tree_reg.predict(X_test)\n",
        "\n",
        "# RMSE 계산\n",
        "rmse_tree = rmse(y_test, y_pred_tree)\n",
        "print(f'결정 트리 (max_depth=5) RMSE: {rmse_tree:.2f}')"
      ]
    },
    {
      "cell_type": "markdown",
      "metadata": {
        "id": "p8a4bMAX8Uvo"
      },
      "source": [
        "##### **1.3.3. 트리시각화**"
      ]
    },
    {
      "cell_type": "markdown",
      "metadata": {},
      "source": [
        "`plot_tree` 함수를 사용해 학습된 트리의 구조를 직접 확인할 수 있습니다. \n",
        "\n",
        "이를 통해 모델이 어떤 기준으로 데이터를 분할하는지 직관적으로 이해할 수 있습니다."
      ]
    },
    {
      "cell_type": "code",
      "execution_count": null,
      "metadata": {},
      "outputs": [
        {
          "data": {
            "image/png": "[encoded data removed]",
            "text/plain": [
              "<Figure size 2000x1000 with 1 Axes>"
            ]
          },
          "metadata": {},
          "output_type": "display_data"
        }
      ],
      "source": [
        "from sklearn.tree import plot_tree\n",
        "# 트리 시각화 (깊이가 깊으면 매우 복잡해지므로 max_depth를 작게 설정)\n",
        "plt.figure(figsize=(20, 10))\n",
        "plot_tree(tree_reg,\n",
        "          feature_names=X.columns.tolist(),\n",
        "          filled=True,\n",
        "          fontsize=10,\n",
        "          max_depth=2) # 시각화를 위해 처음 2단계 깊이만 표시\n",
        "plt.title(\"의사결정나무 모델 (max_depth=2)\", fontsize=20)\n",
        "plt.show()"
      ]
    },
    {
      "cell_type": "markdown",
      "metadata": {},
      "source": [
        "##### **1.3.4. 특성 중요도(Feature Importance)**\n",
        "\n",
        "트리 모델의 특성 중요도는 각 특성이 예측 성능에 미치는 영향을 측정하는 지표입니다. \n",
        "\n",
        "중요도가 높은 특성은 모델의 예측 성능에 큰 영향을 미치는 특성으로, 모델 해석에 유용합니다.\n",
        "\n",
        "트리 계열 모델에서 특성 중요도는 각 특성이 불순도(impurity) 감소에 얼마나 기여하는지를 측정하여 계산됩니다.\n",
        "\n",
        "**특성 중요도 계산 방법**\n",
        "1. **불순도 감소량 계산**: 각 노드에서 분할할 때 불순도가 얼마나 감소하는지 측정\n",
        "   \n",
        "2. **가중 평균**: 각 노드의 샘플 수에 비례하여 가중 평균을 계산\n",
        "3. **정규화**: 모든 특성의 중요도 합이 1이 되도록 정규화\n",
        "\n",
        "**수식:**\n",
        "- 특성 j의 중요도 = Σ (해당 특성으로 분할된 노드의 불순도 감소량 × 노드의 샘플 비율)\n",
        "  \n",
        "- 회귀 문제에서는 MSE(평균제곱오차) 감소량을 사용\n",
        "- 분류 문제에서는 지니 불순도나 엔트로피 감소량을 사용\n",
        "\n",
        "**해석:**\n",
        "- 값이 클수록 해당 특성이 예측에 더 중요한 역할을 함\n",
        "  \n",
        "- 모든 특성의 중요도 합은 1.0\n",
        "- 트리의 상위 노드에서 사용된 특성일수록 높은 중요도를 가짐\n",
        "\n",
        "**특성 중요도 활용 사례**\n",
        "1. **특성 선택(Feature Selection)**: 중요도가 낮은 특성들을 제거하여 모델을 단순화하고 과적합을 방지\n",
        "   \n",
        "2. **도메인 이해**: 비즈니스 관점에서 어떤 요인이 결과에 가장 큰 영향을 미치는지 파악\n",
        "3. **데이터 수집 우선순위**: 새로운 데이터를 수집할 때 중요한 특성에 더 많은 자원을 투입\n",
        "4. **모델 해석**: 블랙박스 모델의 예측 근거를 설명하여 신뢰성 확보\n",
        "5. **A/B 테스트 설계**: 중요한 특성을 기반으로 실험 변수 설정\n",
        "6. **이상치 탐지**: 중요한 특성에서 비정상적인 값을 가진 데이터 포인트 식별\n"
      ]
    },
    {
      "cell_type": "code",
      "execution_count": null,
      "metadata": {},
      "outputs": [
        {
          "name": "stdout",
          "output_type": "stream",
          "text": [
            "결정 트리 구조:\n",
            "|--- Temperature(캜) <= 12.05\n",
            "|   |--- Seasons_Winter <= 0.50\n",
            "|   |   |--- Hour <= 6.50\n",
            "|   |   |   |--- Hour <= 1.50\n",
            "|   |   |   |   |--- truncated branch of depth 2\n",
            "|   |   |   |--- Hour >  1.50\n",
            "|   |   |   |   |--- truncated branch of depth 2\n",
            "|   |   |--- Hour >  6.50\n",
            "|   |   |   |--- Humidity(%) <= 80.50\n",
            "|   |   |   |   |--- truncated branch of depth 2\n",
            "|   |   |   |--- Humidity(%) >  80.50\n",
            "|   |   |   |   |--- truncated branch of depth 2\n",
            "|   |--- Seasons_Winter >  0.50\n",
            "|   |   |--- Hour <= 6.50\n",
            "|   |   |   |--- Hour <= 2.50\n",
            "|   |   |   |   |--- truncated branch of depth 2\n",
            "|   |   |   |--- Hour >  2.50\n",
            "|   |   |   |   |--- truncated branch of depth 2\n",
            "|   |   |--- Hour >  6.50\n",
            "|   |   |   |--- Temperature(캜) <= 3.85\n",
            "|   |   |   |   |--- truncated branch of depth 2\n",
            "|   |   |   |--- Temperature(캜) >  3.85\n",
            "|   |   |   |   |--- truncated branch of depth 2\n",
            "|--- Temperature(캜) >  12.05\n",
            "|   |--- Hour <= 15.50\n",
            "|   |   |--- Solar Radiation (MJ/m2) <= 0.36\n",
            "|   |   |   |--- Hour <= 1.50\n",
            "|   |   |   |   |--- truncated branch of depth 2\n",
            "|   |   |   |--- Hour >  1.50\n",
            "|   |   |   |   |--- truncated branch of depth 2\n",
            "|   |   |--- Solar Radiation (MJ/m2) >  0.36\n",
            "|   |   |   |--- Functioning Day_Yes <= 0.50\n",
            "|   |   |   |   |--- value: [0.00]\n",
            "|   |   |   |--- Functioning Day_Yes >  0.50\n",
            "|   |   |   |   |--- truncated branch of depth 2\n",
            "|   |--- Hour >  15.50\n",
            "|   |   |--- Functioning Day_Yes <= 0.50\n",
            "|   |   |   |--- value: [0.00]\n",
            "|   |   |--- Functioning Day_Yes >  0.50\n",
            "|   |   |   |--- Humidity(%) <= 83.50\n",
            "|   |   |   |   |--- truncated branch of depth 2\n",
            "|   |   |   |--- Humidity(%) >  83.50\n",
            "|   |   |   |   |--- truncated branch of depth 2\n",
            "\n"
          ]
        },
        {
          "data": {
            "application/vnd.plotly.v1+json": {
              "config": {
                "plotlyServerURL": "https://plot.ly"
              },
              "data": [
                {
                  "marker": {
                    "color": "lightblue",
                    "line": {
                      "color": "darkblue",
                      "width": 1
                    }
                  },
                  "orientation": "h",
                  "type": "bar",
                  "x": {
                    "bdata": "AAAAAAAAAAAAAAAAAAAAAAAAAAAAAAAAAAAAAAAAAAAAAAAAAAAAAAAAAAAAAAAAAAAAAAAAAACZY10aLtNOP85YaX/7eFs/JphITipAgj9YiwJPXm2CPz76IYWa/KA/u2kQ5cL+tD9mIkbPnS26P7D06ngWcbw/BNtF8a2F1D9ZlE4bEiPVPw==",
                    "dtype": "f8"
                  },
                  "y": [
                    "Snowfall (cm)",
                    "Wind speed (m/s)",
                    "Visibility (10m)",
                    "Holiday_No Holiday",
                    "Day",
                    "Seasons_Spring",
                    "Seasons_Summer",
                    "Weekday",
                    "Rainfall(mm)",
                    "Month",
                    "Dew point temperature(캜)",
                    "Seasons_Winter",
                    "Solar Radiation (MJ/m2)",
                    "Humidity(%)",
                    "Functioning Day_Yes",
                    "Hour",
                    "Temperature(캜)"
                  ]
                }
              ],
              "layout": {
                "font": {
                  "size": 12
                },
                "height": 600,
                "template": {
                  "data": {
                    "bar": [
                      {
                        "error_x": {
                          "color": "#2a3f5f"
                        },
                        "error_y": {
                          "color": "#2a3f5f"
                        },
                        "marker": {
                          "line": {
                            "color": "#E5ECF6",
                            "width": 0.5
                          },
                          "pattern": {
                            "fillmode": "overlay",
                            "size": 10,
                            "solidity": 0.2
                          }
                        },
                        "type": "bar"
                      }
                    ],
                    "barpolar": [
                      {
                        "marker": {
                          "line": {
                            "color": "#E5ECF6",
                            "width": 0.5
                          },
                          "pattern": {
                            "fillmode": "overlay",
                            "size": 10,
                            "solidity": 0.2
                          }
                        },
                        "type": "barpolar"
                      }
                    ],
                    "carpet": [
                      {
                        "aaxis": {
                          "endlinecolor": "#2a3f5f",
                          "gridcolor": "white",
                          "linecolor": "white",
                          "minorgridcolor": "white",
                          "startlinecolor": "#2a3f5f"
                        },
                        "baxis": {
                          "endlinecolor": "#2a3f5f",
                          "gridcolor": "white",
                          "linecolor": "white",
                          "minorgridcolor": "white",
                          "startlinecolor": "#2a3f5f"
                        },
                        "type": "carpet"
                      }
                    ],
                    "choropleth": [
                      {
                        "colorbar": {
                          "outlinewidth": 0,
                          "ticks": ""
                        },
                        "type": "choropleth"
                      }
                    ],
                    "contour": [
                      {
                        "colorbar": {
                          "outlinewidth": 0,
                          "ticks": ""
                        },
                        "colorscale": [
                          [
                            0,
                            "#0d0887"
                          ],
                          [
                            0.1111111111111111,
                            "#46039f"
                          ],
                          [
                            0.2222222222222222,
                            "#7201a8"
                          ],
                          [
                            0.3333333333333333,
                            "#9c179e"
                          ],
                          [
                            0.4444444444444444,
                            "#bd3786"
                          ],
                          [
                            0.5555555555555556,
                            "#d8576b"
                          ],
                          [
                            0.6666666666666666,
                            "#ed7953"
                          ],
                          [
                            0.7777777777777778,
                            "#fb9f3a"
                          ],
                          [
                            0.8888888888888888,
                            "#fdca26"
                          ],
                          [
                            1,
                            "#f0f921"
                          ]
                        ],
                        "type": "contour"
                      }
                    ],
                    "contourcarpet": [
                      {
                        "colorbar": {
                          "outlinewidth": 0,
                          "ticks": ""
                        },
                        "type": "contourcarpet"
                      }
                    ],
                    "heatmap": [
                      {
                        "colorbar": {
                          "outlinewidth": 0,
                          "ticks": ""
                        },
                        "colorscale": [
                          [
                            0,
                            "#0d0887"
                          ],
                          [
                            0.1111111111111111,
                            "#46039f"
                          ],
                          [
                            0.2222222222222222,
                            "#7201a8"
                          ],
                          [
                            0.3333333333333333,
                            "#9c179e"
                          ],
                          [
                            0.4444444444444444,
                            "#bd3786"
                          ],
                          [
                            0.5555555555555556,
                            "#d8576b"
                          ],
                          [
                            0.6666666666666666,
                            "#ed7953"
                          ],
                          [
                            0.7777777777777778,
                            "#fb9f3a"
                          ],
                          [
                            0.8888888888888888,
                            "#fdca26"
                          ],
                          [
                            1,
                            "#f0f921"
                          ]
                        ],
                        "type": "heatmap"
                      }
                    ],
                    "histogram": [
                      {
                        "marker": {
                          "pattern": {
                            "fillmode": "overlay",
                            "size": 10,
                            "solidity": 0.2
                          }
                        },
                        "type": "histogram"
                      }
                    ],
                    "histogram2d": [
                      {
                        "colorbar": {
                          "outlinewidth": 0,
                          "ticks": ""
                        },
                        "colorscale": [
                          [
                            0,
                            "#0d0887"
                          ],
                          [
                            0.1111111111111111,
                            "#46039f"
                          ],
                          [
                            0.2222222222222222,
                            "#7201a8"
                          ],
                          [
                            0.3333333333333333,
                            "#9c179e"
                          ],
                          [
                            0.4444444444444444,
                            "#bd3786"
                          ],
                          [
                            0.5555555555555556,
                            "#d8576b"
                          ],
                          [
                            0.6666666666666666,
                            "#ed7953"
                          ],
                          [
                            0.7777777777777778,
                            "#fb9f3a"
                          ],
                          [
                            0.8888888888888888,
                            "#fdca26"
                          ],
                          [
                            1,
                            "#f0f921"
                          ]
                        ],
                        "type": "histogram2d"
                      }
                    ],
                    "histogram2dcontour": [
                      {
                        "colorbar": {
                          "outlinewidth": 0,
                          "ticks": ""
                        },
                        "colorscale": [
                          [
                            0,
                            "#0d0887"
                          ],
                          [
                            0.1111111111111111,
                            "#46039f"
                          ],
                          [
                            0.2222222222222222,
                            "#7201a8"
                          ],
                          [
                            0.3333333333333333,
                            "#9c179e"
                          ],
                          [
                            0.4444444444444444,
                            "#bd3786"
                          ],
                          [
                            0.5555555555555556,
                            "#d8576b"
                          ],
                          [
                            0.6666666666666666,
                            "#ed7953"
                          ],
                          [
                            0.7777777777777778,
                            "#fb9f3a"
                          ],
                          [
                            0.8888888888888888,
                            "#fdca26"
                          ],
                          [
                            1,
                            "#f0f921"
                          ]
                        ],
                        "type": "histogram2dcontour"
                      }
                    ],
                    "mesh3d": [
                      {
                        "colorbar": {
                          "outlinewidth": 0,
                          "ticks": ""
                        },
                        "type": "mesh3d"
                      }
                    ],
                    "parcoords": [
                      {
                        "line": {
                          "colorbar": {
                            "outlinewidth": 0,
                            "ticks": ""
                          }
                        },
                        "type": "parcoords"
                      }
                    ],
                    "pie": [
                      {
                        "automargin": true,
                        "type": "pie"
                      }
                    ],
                    "scatter": [
                      {
                        "fillpattern": {
                          "fillmode": "overlay",
                          "size": 10,
                          "solidity": 0.2
                        },
                        "type": "scatter"
                      }
                    ],
                    "scatter3d": [
                      {
                        "line": {
                          "colorbar": {
                            "outlinewidth": 0,
                            "ticks": ""
                          }
                        },
                        "marker": {
                          "colorbar": {
                            "outlinewidth": 0,
                            "ticks": ""
                          }
                        },
                        "type": "scatter3d"
                      }
                    ],
                    "scattercarpet": [
                      {
                        "marker": {
                          "colorbar": {
                            "outlinewidth": 0,
                            "ticks": ""
                          }
                        },
                        "type": "scattercarpet"
                      }
                    ],
                    "scattergeo": [
                      {
                        "marker": {
                          "colorbar": {
                            "outlinewidth": 0,
                            "ticks": ""
                          }
                        },
                        "type": "scattergeo"
                      }
                    ],
                    "scattergl": [
                      {
                        "marker": {
                          "colorbar": {
                            "outlinewidth": 0,
                            "ticks": ""
                          }
                        },
                        "type": "scattergl"
                      }
                    ],
                    "scattermap": [
                      {
                        "marker": {
                          "colorbar": {
                            "outlinewidth": 0,
                            "ticks": ""
                          }
                        },
                        "type": "scattermap"
                      }
                    ],
                    "scattermapbox": [
                      {
                        "marker": {
                          "colorbar": {
                            "outlinewidth": 0,
                            "ticks": ""
                          }
                        },
                        "type": "scattermapbox"
                      }
                    ],
                    "scatterpolar": [
                      {
                        "marker": {
                          "colorbar": {
                            "outlinewidth": 0,
                            "ticks": ""
                          }
                        },
                        "type": "scatterpolar"
                      }
                    ],
                    "scatterpolargl": [
                      {
                        "marker": {
                          "colorbar": {
                            "outlinewidth": 0,
                            "ticks": ""
                          }
                        },
                        "type": "scatterpolargl"
                      }
                    ],
                    "scatterternary": [
                      {
                        "marker": {
                          "colorbar": {
                            "outlinewidth": 0,
                            "ticks": ""
                          }
                        },
                        "type": "scatterternary"
                      }
                    ],
                    "surface": [
                      {
                        "colorbar": {
                          "outlinewidth": 0,
                          "ticks": ""
                        },
                        "colorscale": [
                          [
                            0,
                            "#0d0887"
                          ],
                          [
                            0.1111111111111111,
                            "#46039f"
                          ],
                          [
                            0.2222222222222222,
                            "#7201a8"
                          ],
                          [
                            0.3333333333333333,
                            "#9c179e"
                          ],
                          [
                            0.4444444444444444,
                            "#bd3786"
                          ],
                          [
                            0.5555555555555556,
                            "#d8576b"
                          ],
                          [
                            0.6666666666666666,
                            "#ed7953"
                          ],
                          [
                            0.7777777777777778,
                            "#fb9f3a"
                          ],
                          [
                            0.8888888888888888,
                            "#fdca26"
                          ],
                          [
                            1,
                            "#f0f921"
                          ]
                        ],
                        "type": "surface"
                      }
                    ],
                    "table": [
                      {
                        "cells": {
                          "fill": {
                            "color": "#EBF0F8"
                          },
                          "line": {
                            "color": "white"
                          }
                        },
                        "header": {
                          "fill": {
                            "color": "#C8D4E3"
                          },
                          "line": {
                            "color": "white"
                          }
                        },
                        "type": "table"
                      }
                    ]
                  },
                  "layout": {
                    "annotationdefaults": {
                      "arrowcolor": "#2a3f5f",
                      "arrowhead": 0,
                      "arrowwidth": 1
                    },
                    "autotypenumbers": "strict",
                    "coloraxis": {
                      "colorbar": {
                        "outlinewidth": 0,
                        "ticks": ""
                      }
                    },
                    "colorscale": {
                      "diverging": [
                        [
                          0,
                          "#8e0152"
                        ],
                        [
                          0.1,
                          "#c51b7d"
                        ],
                        [
                          0.2,
                          "#de77ae"
                        ],
                        [
                          0.3,
                          "#f1b6da"
                        ],
                        [
                          0.4,
                          "#fde0ef"
                        ],
                        [
                          0.5,
                          "#f7f7f7"
                        ],
                        [
                          0.6,
                          "#e6f5d0"
                        ],
                        [
                          0.7,
                          "#b8e186"
                        ],
                        [
                          0.8,
                          "#7fbc41"
                        ],
                        [
                          0.9,
                          "#4d9221"
                        ],
                        [
                          1,
                          "#276419"
                        ]
                      ],
                      "sequential": [
                        [
                          0,
                          "#0d0887"
                        ],
                        [
                          0.1111111111111111,
                          "#46039f"
                        ],
                        [
                          0.2222222222222222,
                          "#7201a8"
                        ],
                        [
                          0.3333333333333333,
                          "#9c179e"
                        ],
                        [
                          0.4444444444444444,
                          "#bd3786"
                        ],
                        [
                          0.5555555555555556,
                          "#d8576b"
                        ],
                        [
                          0.6666666666666666,
                          "#ed7953"
                        ],
                        [
                          0.7777777777777778,
                          "#fb9f3a"
                        ],
                        [
                          0.8888888888888888,
                          "#fdca26"
                        ],
                        [
                          1,
                          "#f0f921"
                        ]
                      ],
                      "sequentialminus": [
                        [
                          0,
                          "#0d0887"
                        ],
                        [
                          0.1111111111111111,
                          "#46039f"
                        ],
                        [
                          0.2222222222222222,
                          "#7201a8"
                        ],
                        [
                          0.3333333333333333,
                          "#9c179e"
                        ],
                        [
                          0.4444444444444444,
                          "#bd3786"
                        ],
                        [
                          0.5555555555555556,
                          "#d8576b"
                        ],
                        [
                          0.6666666666666666,
                          "#ed7953"
                        ],
                        [
                          0.7777777777777778,
                          "#fb9f3a"
                        ],
                        [
                          0.8888888888888888,
                          "#fdca26"
                        ],
                        [
                          1,
                          "#f0f921"
                        ]
                      ]
                    },
                    "colorway": [
                      "#636efa",
                      "#EF553B",
                      "#00cc96",
                      "#ab63fa",
                      "#FFA15A",
                      "#19d3f3",
                      "#FF6692",
                      "#B6E880",
                      "#FF97FF",
                      "#FECB52"
                    ],
                    "font": {
                      "color": "#2a3f5f"
                    },
                    "geo": {
                      "bgcolor": "white",
                      "lakecolor": "white",
                      "landcolor": "#E5ECF6",
                      "showlakes": true,
                      "showland": true,
                      "subunitcolor": "white"
                    },
                    "hoverlabel": {
                      "align": "left"
                    },
                    "hovermode": "closest",
                    "mapbox": {
                      "style": "light"
                    },
                    "paper_bgcolor": "white",
                    "plot_bgcolor": "#E5ECF6",
                    "polar": {
                      "angularaxis": {
                        "gridcolor": "white",
                        "linecolor": "white",
                        "ticks": ""
                      },
                      "bgcolor": "#E5ECF6",
                      "radialaxis": {
                        "gridcolor": "white",
                        "linecolor": "white",
                        "ticks": ""
                      }
                    },
                    "scene": {
                      "xaxis": {
                        "backgroundcolor": "#E5ECF6",
                        "gridcolor": "white",
                        "gridwidth": 2,
                        "linecolor": "white",
                        "showbackground": true,
                        "ticks": "",
                        "zerolinecolor": "white"
                      },
                      "yaxis": {
                        "backgroundcolor": "#E5ECF6",
                        "gridcolor": "white",
                        "gridwidth": 2,
                        "linecolor": "white",
                        "showbackground": true,
                        "ticks": "",
                        "zerolinecolor": "white"
                      },
                      "zaxis": {
                        "backgroundcolor": "#E5ECF6",
                        "gridcolor": "white",
                        "gridwidth": 2,
                        "linecolor": "white",
                        "showbackground": true,
                        "ticks": "",
                        "zerolinecolor": "white"
                      }
                    },
                    "shapedefaults": {
                      "line": {
                        "color": "#2a3f5f"
                      }
                    },
                    "ternary": {
                      "aaxis": {
                        "gridcolor": "white",
                        "linecolor": "white",
                        "ticks": ""
                      },
                      "baxis": {
                        "gridcolor": "white",
                        "linecolor": "white",
                        "ticks": ""
                      },
                      "bgcolor": "#E5ECF6",
                      "caxis": {
                        "gridcolor": "white",
                        "linecolor": "white",
                        "ticks": ""
                      }
                    },
                    "title": {
                      "x": 0.05
                    },
                    "xaxis": {
                      "automargin": true,
                      "gridcolor": "white",
                      "linecolor": "white",
                      "ticks": "",
                      "title": {
                        "standoff": 15
                      },
                      "zerolinecolor": "white",
                      "zerolinewidth": 2
                    },
                    "yaxis": {
                      "automargin": true,
                      "gridcolor": "white",
                      "linecolor": "white",
                      "ticks": "",
                      "title": {
                        "standoff": 15
                      },
                      "zerolinecolor": "white",
                      "zerolinewidth": 2
                    }
                  }
                },
                "title": {
                  "text": "결정 트리 특성 중요도"
                },
                "width": 800,
                "xaxis": {
                  "title": {
                    "text": "중요도"
                  }
                },
                "yaxis": {
                  "title": {
                    "text": "특성"
                  }
                }
              }
            }
          },
          "metadata": {},
          "output_type": "display_data"
        }
      ],
      "source": [
        "# Plotly를 사용한 트리 시각화\n",
        "import plotly.graph_objects as go\n",
        "from sklearn.tree import export_text\n",
        "\n",
        "# 트리 구조를 텍스트로 출력\n",
        "tree_rules = export_text(tree_reg, \n",
        "                        feature_names=X.columns.tolist(),\n",
        "                        max_depth=3)  # 가독성을 위해 깊이 제한\n",
        "\n",
        "print(\"결정 트리 구조:\")\n",
        "print(tree_rules)\n",
        "\n",
        "# 특성 중요도를 Plotly로 시각화\n",
        "feature_importance = tree_reg.feature_importances_\n",
        "feature_names = X.columns.tolist()\n",
        "\n",
        "# 중요도가 높은 순으로 정렬\n",
        "importance_df = pd.DataFrame({\n",
        "    'feature': feature_names,\n",
        "    'importance': feature_importance\n",
        "}).sort_values('importance', ascending=True)\n",
        "\n",
        "# Plotly 막대 그래프로 특성 중요도 시각화\n",
        "fig = go.Figure(go.Bar(\n",
        "    x=importance_df['importance'],\n",
        "    y=importance_df['feature'],\n",
        "    orientation='h',\n",
        "    marker=dict(color='lightblue', line=dict(color='darkblue', width=1))\n",
        "))\n",
        "\n",
        "fig.update_layout(\n",
        "    title='결정 트리 특성 중요도',\n",
        "    xaxis_title='중요도',\n",
        "    yaxis_title='특성',\n",
        "    height=600,\n",
        "    width=800,\n",
        "    font=dict(size=12)\n",
        ")\n",
        "\n",
        "fig.show()\n"
      ]
    },
    {
      "cell_type": "markdown",
      "metadata": {
        "id": "SKLUtEZw8Uvo"
      },
      "source": [
        "#### **1.4. 연습문제**\n",
        "\n",
        "**문제 1: `max_depth` 변화에 따른 성능 비교**\n",
        "\n",
        "`DecisionTreeRegressor`의 `max_depth`를 10으로 설정하여 모델을 새로 학습시키고, `max_depth=5`일 때의 RMSE와 비교해보세요. `max_depth`가 깊어지면 RMSE는 어떻게 변하나요?"
      ]
    },
    {
      "cell_type": "code",
      "execution_count": null,
      "metadata": {},
      "outputs": [],
      "source": [
        "# 코드 작성"
      ]
    },
    {
      "cell_type": "markdown",
      "metadata": {},
      "source": [
        "**문제 2: `min_samples_leaf`의 효과**\n",
        "\n",
        "`min_samples_leaf`는 리프 노드가 되기 위해 필요한 최소한의 샘플 개수를 지정하는 하이퍼파라미터입니다. 이 값을 늘리면 모델이 더 단순해져 과적합을 방지하는 효과가 있습니다. `max_depth=None` (제한 없음)으로 두고, `min_samples_leaf`를 1, 10, 50으로 변경하며 훈련/테스트 RMSE를 각각 계산하고 비교해보세요."
      ]
    },
    {
      "cell_type": "code",
      "execution_count": null,
      "metadata": {},
      "outputs": [],
      "source": [
        "# 코드 작성"
      ]
    },
    {
      "cell_type": "markdown",
      "metadata": {},
      "source": [
        "\n",
        "#### **1.5. 연습문제 정답**\n",
        "\n",
        "**정답 1:**"
      ]
    },
    {
      "cell_type": "code",
      "execution_count": null,
      "metadata": {
        "id": "krp86cqp8Uvo"
      },
      "outputs": [],
      "source": [
        "# 문제 1 정답 코드\n",
        "tree_reg_10 = DecisionTreeRegressor(max_depth=10, random_state=42)\n",
        "tree_reg_10.fit(X_train, y_train)\n",
        "y_pred_10 = tree_reg_10.predict(X_test)\n",
        "rmse_10 = np.sqrt(mean_squared_error(y_test, y_pred_10))\n",
        "\n",
        "print(f'결정 트리 (max_depth=5) RMSE: {rmse_tree:.2f}')\n",
        "print(f'결정 트리 (max_depth=10) RMSE: {rmse_10:.2f}')\n",
        "# max_depth가 깊어지면 훈련 데이터에 더 적합하게 되어 테스트 데이터에 대한 RMSE가 개선될 수 있지만,\n",
        "# 특정 깊이 이상에서는 과적합으로 인해 오히려 성능이 저하될 수 있습니다."
      ]
    },
    {
      "cell_type": "markdown",
      "metadata": {
        "id": "tgk5JkJ08Uvp"
      },
      "source": [
        "**정답 2:**"
      ]
    },
    {
      "cell_type": "code",
      "execution_count": null,
      "metadata": {
        "id": "DY3nDb3W8Uvp"
      },
      "outputs": [],
      "source": [
        "# 문제 2 정답 코드\n",
        "leaf_options = [1, 10, 50]\n",
        "for n_leaf in leaf_options:\n",
        "    tree_reg_leaf = DecisionTreeRegressor(max_depth=None, min_samples_leaf=n_leaf, random_state=42)\n",
        "    tree_reg_leaf.fit(X_train, y_train)\n",
        "\n",
        "    # 훈련 데이터 성능\n",
        "    y_pred_train = tree_reg_leaf.predict(X_train)\n",
        "    rmse_train = np.sqrt(mean_squared_error(y_train, y_pred_train))\n",
        "\n",
        "    # 테스트 데이터 성능\n",
        "    y_pred_test = tree_reg_leaf.predict(X_test)\n",
        "    rmse_test = np.sqrt(mean_squared_error(y_test, y_pred_test))\n",
        "\n",
        "    print(f'min_samples_leaf={n_leaf}:')\n",
        "    print(f'  - 훈련 RMSE: {rmse_train:.2f}')\n",
        "    print(f'  - 테스트 RMSE: {rmse_test:.2f}\\n')\n",
        "\n",
        "# min_samples_leaf=1 일 때 훈련 RMSE는 0에 가깝게 나오지만(완벽한 과적합), 테스트 RMSE는 매우 높습니다.\n",
        "# 이 값을 증가시킬수록 훈련 RMSE는 높아지고(과소적합 방향), 테스트 RMSE는 특정 지점까지 낮아지다가 다시 높아지는 경향을 보입니다."
      ]
    },
    {
      "cell_type": "markdown",
      "metadata": {
        "id": "mN7fC2u78Uvp"
      },
      "source": [
        "---\n",
        "\n",
        "### **2. 랜덤 포레스트 회귀 (Random Forest Regressor)**\n",
        "\n",
        "랜덤 포레스트는 **앙상블(Ensemble)** 기법 중 하나인 **배깅(Bagging)**을 기반으로 한 모델입니다. 성능이 조금씩 다른 여러 개의 결정 트리를 만들어 그 예측 결과를 종합(평균)하여 최종 예측값을 결정합니다.\n",
        "\n",
        "#### **2.1. 개념: 집단 지성의 힘, 앙상블**\n",
        "\n",
        "혼자서는 불안정한 결정 트리의 가장 큰 단점은 **높은 분산**, 즉 과적합 경향입니다. 랜덤 포레스트는 이 문제를 해결하기 위해 두 가지 '무작위' 요소를 추가합니다.\n",
        "\n",
        "1.  **부트스트랩 샘플링 (Bootstrap Sampling):** 원본 훈련 데이터에서 중복을 허용하여 여러 개의 서브-데이터셋을 만듭니다. 각 결정 트리는 서로 다른 서브-데이터셋으로 학습됩니다.\n",
        "2.  **특성 무작위 선택 (Random Feature Selection):** 각 노드를 분할할 때, 전체 특성 중 일부만 무작위로 선택하여 최적의 분할 기준을 찾습니다.\n",
        "\n",
        "이렇게 만들어진 수백 개의 **다양성을 갖춘** 트리들의 예측 결과를 평균내어, 단일 트리보다 훨씬 안정적이고 정확한 예측을 만들어냅니다. 이는 '집단 지성'의 원리와 같습니다.\n",
        "\n",
        "#### **2.2. 코드 실습: 결정 트리보다 강력한 성능**\n",
        "\n",
        "동일한 데이터에 랜덤 포레스트 모델을 적용하고 결정 트리와 성능을 비교해 보겠습니다. `n_estimators`는 생성할 트리의 개수를 의미합니다."
      ]
    },
    {
      "cell_type": "code",
      "execution_count": null,
      "metadata": {
        "id": "Q9lHj_7z8Uvp"
      },
      "outputs": [
        {
          "name": "stdout",
          "output_type": "stream",
          "text": [
            "결정 트리 (max_depth=5) RMSE: 355.47\n",
            "랜덤 포레스트 RMSE: 172.35\n"
          ]
        }
      ],
      "source": [
        "from sklearn.ensemble import RandomForestRegressor\n",
        "\n",
        "# 랜덤 포레스트 모델 생성 및 학습 (n_estimators=100)\n",
        "# n_jobs=-1 은 사용 가능한 모든 CPU 코어를 사용하여 학습 속도를 높입니다.\n",
        "rf_reg = RandomForestRegressor(n_estimators=100, random_state=42, n_jobs=-1)\n",
        "rf_reg.fit(X_train, y_train)\n",
        "\n",
        "# 테스트 데이터 예측\n",
        "y_pred_rf = rf_reg.predict(X_test)\n",
        "\n",
        "# RMSE 계산\n",
        "rmse_rf = np.sqrt(mean_squared_error(y_test, y_pred_rf))\n",
        "\n",
        "print(f'결정 트리 (max_depth=5) RMSE: {rmse_tree:.2f}')\n",
        "print(f'랜덤 포레스트 RMSE: {rmse_rf:.2f}')"
      ]
    },
    {
      "cell_type": "markdown",
      "metadata": {
        "id": "v8PVCI5A8Uvp"
      },
      "source": [
        "보통의 경우, 랜덤 포레스트는 단일 결정 트리보다 훨씬 낮은 RMSE(더 좋은 성능)를 보입니다."
      ]
    },
    {
      "cell_type": "markdown",
      "metadata": {},
      "source": [
        "\n",
        "#### **2.3. 핵심 기능: 특성 중요도 (Feature Importance)**\n",
        "\n",
        "랜덤 포레스트의 또 다른 강력한 기능은 의사결정트리와 마찬가지로 **특성 중요도** 를 제공한다는 점입니다. \n",
        "\n",
        "모델이 예측을 수행할 때 어떤 특성(변수)을 더 중요하게 사용했는지 정량적으로 확인할 수 있습니다. \n",
        "\n",
        "이는 모델을 해석하고 비즈니스 인사이트를 도출하는 데 매우 유용합니다."
      ]
    },
    {
      "cell_type": "code",
      "execution_count": null,
      "metadata": {
        "id": "O4zI7RW78Uvq"
      },
      "outputs": [
        {
          "data": {
            "application/vnd.plotly.v1+json": {
              "config": {
                "plotlyServerURL": "https://plot.ly"
              },
              "data": [
                {
                  "hovertemplate": "Importance=%{x}<br>Feature=%{y}<extra></extra>",
                  "legendgroup": "",
                  "marker": {
                    "color": "#636efa",
                    "pattern": {
                      "shape": ""
                    }
                  },
                  "name": "",
                  "orientation": "h",
                  "showlegend": false,
                  "textposition": "auto",
                  "type": "bar",
                  "x": {
                    "bdata": "GvsOMkoP0z9cMezDIWLSP3xs61gLtbY/I+GJ4ghotj/tOqeLWoKvP8syNV1gdKU/XFFFuFrHoT8yNteAzCyYP1KBKDGUQZY/7NZ9mx28kz+M8JA5KGuEP4DVjosBfII/775B1S+1gT8JkW/3MIN0PyaQz+9TkFk/",
                    "dtype": "f8"
                  },
                  "xaxis": "x",
                  "y": [
                    "Temperature(캜)",
                    "Hour",
                    "Functioning Day_Yes",
                    "Solar Radiation (MJ/m2)",
                    "Humidity(%)",
                    "Rainfall(mm)",
                    "Weekday",
                    "Dew point temperature(캜)",
                    "Seasons_Winter",
                    "Month",
                    "Day",
                    "Visibility (10m)",
                    "Wind speed (m/s)",
                    "Holiday_No Holiday",
                    "Seasons_Summer"
                  ],
                  "yaxis": "y"
                }
              ],
              "layout": {
                "barmode": "relative",
                "legend": {
                  "tracegroupgap": 0
                },
                "template": {
                  "data": {
                    "bar": [
                      {
                        "error_x": {
                          "color": "#2a3f5f"
                        },
                        "error_y": {
                          "color": "#2a3f5f"
                        },
                        "marker": {
                          "line": {
                            "color": "#E5ECF6",
                            "width": 0.5
                          },
                          "pattern": {
                            "fillmode": "overlay",
                            "size": 10,
                            "solidity": 0.2
                          }
                        },
                        "type": "bar"
                      }
                    ],
                    "barpolar": [
                      {
                        "marker": {
                          "line": {
                            "color": "#E5ECF6",
                            "width": 0.5
                          },
                          "pattern": {
                            "fillmode": "overlay",
                            "size": 10,
                            "solidity": 0.2
                          }
                        },
                        "type": "barpolar"
                      }
                    ],
                    "carpet": [
                      {
                        "aaxis": {
                          "endlinecolor": "#2a3f5f",
                          "gridcolor": "white",
                          "linecolor": "white",
                          "minorgridcolor": "white",
                          "startlinecolor": "#2a3f5f"
                        },
                        "baxis": {
                          "endlinecolor": "#2a3f5f",
                          "gridcolor": "white",
                          "linecolor": "white",
                          "minorgridcolor": "white",
                          "startlinecolor": "#2a3f5f"
                        },
                        "type": "carpet"
                      }
                    ],
                    "choropleth": [
                      {
                        "colorbar": {
                          "outlinewidth": 0,
                          "ticks": ""
                        },
                        "type": "choropleth"
                      }
                    ],
                    "contour": [
                      {
                        "colorbar": {
                          "outlinewidth": 0,
                          "ticks": ""
                        },
                        "colorscale": [
                          [
                            0,
                            "#0d0887"
                          ],
                          [
                            0.1111111111111111,
                            "#46039f"
                          ],
                          [
                            0.2222222222222222,
                            "#7201a8"
                          ],
                          [
                            0.3333333333333333,
                            "#9c179e"
                          ],
                          [
                            0.4444444444444444,
                            "#bd3786"
                          ],
                          [
                            0.5555555555555556,
                            "#d8576b"
                          ],
                          [
                            0.6666666666666666,
                            "#ed7953"
                          ],
                          [
                            0.7777777777777778,
                            "#fb9f3a"
                          ],
                          [
                            0.8888888888888888,
                            "#fdca26"
                          ],
                          [
                            1,
                            "#f0f921"
                          ]
                        ],
                        "type": "contour"
                      }
                    ],
                    "contourcarpet": [
                      {
                        "colorbar": {
                          "outlinewidth": 0,
                          "ticks": ""
                        },
                        "type": "contourcarpet"
                      }
                    ],
                    "heatmap": [
                      {
                        "colorbar": {
                          "outlinewidth": 0,
                          "ticks": ""
                        },
                        "colorscale": [
                          [
                            0,
                            "#0d0887"
                          ],
                          [
                            0.1111111111111111,
                            "#46039f"
                          ],
                          [
                            0.2222222222222222,
                            "#7201a8"
                          ],
                          [
                            0.3333333333333333,
                            "#9c179e"
                          ],
                          [
                            0.4444444444444444,
                            "#bd3786"
                          ],
                          [
                            0.5555555555555556,
                            "#d8576b"
                          ],
                          [
                            0.6666666666666666,
                            "#ed7953"
                          ],
                          [
                            0.7777777777777778,
                            "#fb9f3a"
                          ],
                          [
                            0.8888888888888888,
                            "#fdca26"
                          ],
                          [
                            1,
                            "#f0f921"
                          ]
                        ],
                        "type": "heatmap"
                      }
                    ],
                    "histogram": [
                      {
                        "marker": {
                          "pattern": {
                            "fillmode": "overlay",
                            "size": 10,
                            "solidity": 0.2
                          }
                        },
                        "type": "histogram"
                      }
                    ],
                    "histogram2d": [
                      {
                        "colorbar": {
                          "outlinewidth": 0,
                          "ticks": ""
                        },
                        "colorscale": [
                          [
                            0,
                            "#0d0887"
                          ],
                          [
                            0.1111111111111111,
                            "#46039f"
                          ],
                          [
                            0.2222222222222222,
                            "#7201a8"
                          ],
                          [
                            0.3333333333333333,
                            "#9c179e"
                          ],
                          [
                            0.4444444444444444,
                            "#bd3786"
                          ],
                          [
                            0.5555555555555556,
                            "#d8576b"
                          ],
                          [
                            0.6666666666666666,
                            "#ed7953"
                          ],
                          [
                            0.7777777777777778,
                            "#fb9f3a"
                          ],
                          [
                            0.8888888888888888,
                            "#fdca26"
                          ],
                          [
                            1,
                            "#f0f921"
                          ]
                        ],
                        "type": "histogram2d"
                      }
                    ],
                    "histogram2dcontour": [
                      {
                        "colorbar": {
                          "outlinewidth": 0,
                          "ticks": ""
                        },
                        "colorscale": [
                          [
                            0,
                            "#0d0887"
                          ],
                          [
                            0.1111111111111111,
                            "#46039f"
                          ],
                          [
                            0.2222222222222222,
                            "#7201a8"
                          ],
                          [
                            0.3333333333333333,
                            "#9c179e"
                          ],
                          [
                            0.4444444444444444,
                            "#bd3786"
                          ],
                          [
                            0.5555555555555556,
                            "#d8576b"
                          ],
                          [
                            0.6666666666666666,
                            "#ed7953"
                          ],
                          [
                            0.7777777777777778,
                            "#fb9f3a"
                          ],
                          [
                            0.8888888888888888,
                            "#fdca26"
                          ],
                          [
                            1,
                            "#f0f921"
                          ]
                        ],
                        "type": "histogram2dcontour"
                      }
                    ],
                    "mesh3d": [
                      {
                        "colorbar": {
                          "outlinewidth": 0,
                          "ticks": ""
                        },
                        "type": "mesh3d"
                      }
                    ],
                    "parcoords": [
                      {
                        "line": {
                          "colorbar": {
                            "outlinewidth": 0,
                            "ticks": ""
                          }
                        },
                        "type": "parcoords"
                      }
                    ],
                    "pie": [
                      {
                        "automargin": true,
                        "type": "pie"
                      }
                    ],
                    "scatter": [
                      {
                        "fillpattern": {
                          "fillmode": "overlay",
                          "size": 10,
                          "solidity": 0.2
                        },
                        "type": "scatter"
                      }
                    ],
                    "scatter3d": [
                      {
                        "line": {
                          "colorbar": {
                            "outlinewidth": 0,
                            "ticks": ""
                          }
                        },
                        "marker": {
                          "colorbar": {
                            "outlinewidth": 0,
                            "ticks": ""
                          }
                        },
                        "type": "scatter3d"
                      }
                    ],
                    "scattercarpet": [
                      {
                        "marker": {
                          "colorbar": {
                            "outlinewidth": 0,
                            "ticks": ""
                          }
                        },
                        "type": "scattercarpet"
                      }
                    ],
                    "scattergeo": [
                      {
                        "marker": {
                          "colorbar": {
                            "outlinewidth": 0,
                            "ticks": ""
                          }
                        },
                        "type": "scattergeo"
                      }
                    ],
                    "scattergl": [
                      {
                        "marker": {
                          "colorbar": {
                            "outlinewidth": 0,
                            "ticks": ""
                          }
                        },
                        "type": "scattergl"
                      }
                    ],
                    "scattermap": [
                      {
                        "marker": {
                          "colorbar": {
                            "outlinewidth": 0,
                            "ticks": ""
                          }
                        },
                        "type": "scattermap"
                      }
                    ],
                    "scattermapbox": [
                      {
                        "marker": {
                          "colorbar": {
                            "outlinewidth": 0,
                            "ticks": ""
                          }
                        },
                        "type": "scattermapbox"
                      }
                    ],
                    "scatterpolar": [
                      {
                        "marker": {
                          "colorbar": {
                            "outlinewidth": 0,
                            "ticks": ""
                          }
                        },
                        "type": "scatterpolar"
                      }
                    ],
                    "scatterpolargl": [
                      {
                        "marker": {
                          "colorbar": {
                            "outlinewidth": 0,
                            "ticks": ""
                          }
                        },
                        "type": "scatterpolargl"
                      }
                    ],
                    "scatterternary": [
                      {
                        "marker": {
                          "colorbar": {
                            "outlinewidth": 0,
                            "ticks": ""
                          }
                        },
                        "type": "scatterternary"
                      }
                    ],
                    "surface": [
                      {
                        "colorbar": {
                          "outlinewidth": 0,
                          "ticks": ""
                        },
                        "colorscale": [
                          [
                            0,
                            "#0d0887"
                          ],
                          [
                            0.1111111111111111,
                            "#46039f"
                          ],
                          [
                            0.2222222222222222,
                            "#7201a8"
                          ],
                          [
                            0.3333333333333333,
                            "#9c179e"
                          ],
                          [
                            0.4444444444444444,
                            "#bd3786"
                          ],
                          [
                            0.5555555555555556,
                            "#d8576b"
                          ],
                          [
                            0.6666666666666666,
                            "#ed7953"
                          ],
                          [
                            0.7777777777777778,
                            "#fb9f3a"
                          ],
                          [
                            0.8888888888888888,
                            "#fdca26"
                          ],
                          [
                            1,
                            "#f0f921"
                          ]
                        ],
                        "type": "surface"
                      }
                    ],
                    "table": [
                      {
                        "cells": {
                          "fill": {
                            "color": "#EBF0F8"
                          },
                          "line": {
                            "color": "white"
                          }
                        },
                        "header": {
                          "fill": {
                            "color": "#C8D4E3"
                          },
                          "line": {
                            "color": "white"
                          }
                        },
                        "type": "table"
                      }
                    ]
                  },
                  "layout": {
                    "annotationdefaults": {
                      "arrowcolor": "#2a3f5f",
                      "arrowhead": 0,
                      "arrowwidth": 1
                    },
                    "autotypenumbers": "strict",
                    "coloraxis": {
                      "colorbar": {
                        "outlinewidth": 0,
                        "ticks": ""
                      }
                    },
                    "colorscale": {
                      "diverging": [
                        [
                          0,
                          "#8e0152"
                        ],
                        [
                          0.1,
                          "#c51b7d"
                        ],
                        [
                          0.2,
                          "#de77ae"
                        ],
                        [
                          0.3,
                          "#f1b6da"
                        ],
                        [
                          0.4,
                          "#fde0ef"
                        ],
                        [
                          0.5,
                          "#f7f7f7"
                        ],
                        [
                          0.6,
                          "#e6f5d0"
                        ],
                        [
                          0.7,
                          "#b8e186"
                        ],
                        [
                          0.8,
                          "#7fbc41"
                        ],
                        [
                          0.9,
                          "#4d9221"
                        ],
                        [
                          1,
                          "#276419"
                        ]
                      ],
                      "sequential": [
                        [
                          0,
                          "#0d0887"
                        ],
                        [
                          0.1111111111111111,
                          "#46039f"
                        ],
                        [
                          0.2222222222222222,
                          "#7201a8"
                        ],
                        [
                          0.3333333333333333,
                          "#9c179e"
                        ],
                        [
                          0.4444444444444444,
                          "#bd3786"
                        ],
                        [
                          0.5555555555555556,
                          "#d8576b"
                        ],
                        [
                          0.6666666666666666,
                          "#ed7953"
                        ],
                        [
                          0.7777777777777778,
                          "#fb9f3a"
                        ],
                        [
                          0.8888888888888888,
                          "#fdca26"
                        ],
                        [
                          1,
                          "#f0f921"
                        ]
                      ],
                      "sequentialminus": [
                        [
                          0,
                          "#0d0887"
                        ],
                        [
                          0.1111111111111111,
                          "#46039f"
                        ],
                        [
                          0.2222222222222222,
                          "#7201a8"
                        ],
                        [
                          0.3333333333333333,
                          "#9c179e"
                        ],
                        [
                          0.4444444444444444,
                          "#bd3786"
                        ],
                        [
                          0.5555555555555556,
                          "#d8576b"
                        ],
                        [
                          0.6666666666666666,
                          "#ed7953"
                        ],
                        [
                          0.7777777777777778,
                          "#fb9f3a"
                        ],
                        [
                          0.8888888888888888,
                          "#fdca26"
                        ],
                        [
                          1,
                          "#f0f921"
                        ]
                      ]
                    },
                    "colorway": [
                      "#636efa",
                      "#EF553B",
                      "#00cc96",
                      "#ab63fa",
                      "#FFA15A",
                      "#19d3f3",
                      "#FF6692",
                      "#B6E880",
                      "#FF97FF",
                      "#FECB52"
                    ],
                    "font": {
                      "color": "#2a3f5f"
                    },
                    "geo": {
                      "bgcolor": "white",
                      "lakecolor": "white",
                      "landcolor": "#E5ECF6",
                      "showlakes": true,
                      "showland": true,
                      "subunitcolor": "white"
                    },
                    "hoverlabel": {
                      "align": "left"
                    },
                    "hovermode": "closest",
                    "mapbox": {
                      "style": "light"
                    },
                    "paper_bgcolor": "white",
                    "plot_bgcolor": "#E5ECF6",
                    "polar": {
                      "angularaxis": {
                        "gridcolor": "white",
                        "linecolor": "white",
                        "ticks": ""
                      },
                      "bgcolor": "#E5ECF6",
                      "radialaxis": {
                        "gridcolor": "white",
                        "linecolor": "white",
                        "ticks": ""
                      }
                    },
                    "scene": {
                      "xaxis": {
                        "backgroundcolor": "#E5ECF6",
                        "gridcolor": "white",
                        "gridwidth": 2,
                        "linecolor": "white",
                        "showbackground": true,
                        "ticks": "",
                        "zerolinecolor": "white"
                      },
                      "yaxis": {
                        "backgroundcolor": "#E5ECF6",
                        "gridcolor": "white",
                        "gridwidth": 2,
                        "linecolor": "white",
                        "showbackground": true,
                        "ticks": "",
                        "zerolinecolor": "white"
                      },
                      "zaxis": {
                        "backgroundcolor": "#E5ECF6",
                        "gridcolor": "white",
                        "gridwidth": 2,
                        "linecolor": "white",
                        "showbackground": true,
                        "ticks": "",
                        "zerolinecolor": "white"
                      }
                    },
                    "shapedefaults": {
                      "line": {
                        "color": "#2a3f5f"
                      }
                    },
                    "ternary": {
                      "aaxis": {
                        "gridcolor": "white",
                        "linecolor": "white",
                        "ticks": ""
                      },
                      "baxis": {
                        "gridcolor": "white",
                        "linecolor": "white",
                        "ticks": ""
                      },
                      "bgcolor": "#E5ECF6",
                      "caxis": {
                        "gridcolor": "white",
                        "linecolor": "white",
                        "ticks": ""
                      }
                    },
                    "title": {
                      "x": 0.05
                    },
                    "xaxis": {
                      "automargin": true,
                      "gridcolor": "white",
                      "linecolor": "white",
                      "ticks": "",
                      "title": {
                        "standoff": 15
                      },
                      "zerolinecolor": "white",
                      "zerolinewidth": 2
                    },
                    "yaxis": {
                      "automargin": true,
                      "gridcolor": "white",
                      "linecolor": "white",
                      "ticks": "",
                      "title": {
                        "standoff": 15
                      },
                      "zerolinecolor": "white",
                      "zerolinewidth": 2
                    }
                  }
                },
                "title": {
                  "text": "Top 15 Feature Importances in Random Forest"
                },
                "xaxis": {
                  "anchor": "y",
                  "domain": [
                    0,
                    1
                  ],
                  "title": {
                    "text": "Importance"
                  }
                },
                "yaxis": {
                  "anchor": "x",
                  "categoryorder": "total ascending",
                  "domain": [
                    0,
                    1
                  ],
                  "title": {
                    "text": "Feature"
                  }
                }
              }
            }
          },
          "metadata": {},
          "output_type": "display_data"
        }
      ],
      "source": [
        "# 특성 중요도 추출\n",
        "importances = rf_reg.feature_importances_\n",
        "feature_names = X_train.columns\n",
        "\n",
        "# 특성 중요도를 DataFrame으로 변환\n",
        "feature_importance_df = pd.DataFrame({'Feature': feature_names, 'Importance': importances})\n",
        "feature_importance_df = feature_importance_df.sort_values(by='Importance', ascending=False)\n",
        "\n",
        "# 특성 중요도 시각화\n",
        "fig = px.bar(feature_importance_df.head(15),\n",
        "             x='Importance',\n",
        "             y='Feature',\n",
        "             orientation='h',\n",
        "             title='Top 15 Feature Importances in Random Forest')\n",
        "fig.update_layout(yaxis={'categoryorder':'total ascending'})\n",
        "fig.show()"
      ]
    },
    {
      "cell_type": "markdown",
      "metadata": {
        "id": "VGEA5dBx8Uvq"
      },
      "source": [
        "위 시각화를 통해 'Hour'(시간), 'Temperature(°C)'(기온), 'Humidity(%)'(습도) 등이 따릉이 대여량을 예측하는 데 중요한 변수임을 알 수 있습니다."
      ]
    },
    {
      "cell_type": "markdown",
      "metadata": {},
      "source": [
        "\n",
        "#### **2.4. 연습문제**\n",
        "\n",
        "**문제 1: `n_estimators` 변화에 따른 성능 및 시간**\n",
        "\n",
        "`n_estimators` 값을 10, 50, 200으로 변경하며 랜덤 포레스트를 학습시키고, 각각의 RMSE와 학습 시간을 비교해보세요. 트리의 개수가 늘어날수록 성능은 어떻게 변하나요?"
      ]
    },
    {
      "cell_type": "code",
      "execution_count": null,
      "metadata": {},
      "outputs": [],
      "source": [
        "# 코드 작성"
      ]
    },
    {
      "cell_type": "markdown",
      "metadata": {},
      "source": [
        "**문제 2: `max_features`의 역할**\n",
        "\n",
        "`max_features`는 각 노드 분할 시 무작위로 선택할 특성의 최대 개수를 지정합니다. 이 값을 조절하여 트리의 다양성을 제어할 수 있습니다. `max_features`를 `1.0` (모든 특성 사용, 배깅 방식), `0.5` (특성의 50% 사용), `'sqrt'` (특성 개수의 제곱근 사용, 기본값)로 설정하여 모델을 학습하고 성능을 비교해보세요."
      ]
    },
    {
      "cell_type": "code",
      "execution_count": null,
      "metadata": {},
      "outputs": [],
      "source": [
        "# 코드 작성"
      ]
    },
    {
      "cell_type": "markdown",
      "metadata": {},
      "source": [
        "\n",
        "#### **2.5. 연습문제 정답**\n",
        "\n",
        "**정답 1:**"
      ]
    },
    {
      "cell_type": "code",
      "execution_count": null,
      "metadata": {
        "id": "oHfoysui8Uvq"
      },
      "outputs": [],
      "source": [
        "import time\n",
        "\n",
        "# 문제 1 정답 코드\n",
        "estimator_options = [10, 50, 200]\n",
        "for n_est in estimator_options:\n",
        "    start_time = time.time()\n",
        "    rf_reg_est = RandomForestRegressor(n_estimators=n_est, random_state=42, n_jobs=-1)\n",
        "    rf_reg_est.fit(X_train, y_train)\n",
        "    end_time = time.time()\n",
        "\n",
        "    y_pred_est = rf_reg_est.predict(X_test)\n",
        "    rmse_est = np.sqrt(mean_squared_error(y_test, y_pred_est))\n",
        "\n",
        "    print(f'n_estimators={n_est}:')\n",
        "    print(f'  - RMSE: {rmse_est:.2f}')\n",
        "    print(f'  - 학습 시간: {end_time - start_time:.2f}초\\n')\n",
        "\n",
        "# n_estimators가 증가할수록 일반적으로 성능이 안정되고 개선되는 경향이 있지만,\n",
        "# 일정 수준 이상부터는 성능 향상 폭이 미미하고 학습 시간만 길어질 수 있습니다."
      ]
    },
    {
      "cell_type": "markdown",
      "metadata": {
        "id": "QBCKMEwL8Uvq"
      },
      "source": [
        "**정답 2:**"
      ]
    },
    {
      "cell_type": "code",
      "execution_count": null,
      "metadata": {
        "id": "WJNWH63V8Uvq"
      },
      "outputs": [],
      "source": [
        "# 문제 2 정답 코드\n",
        "feature_options = [1.0, 0.5, 'sqrt']\n",
        "for max_feat in feature_options:\n",
        "    rf_reg_feat = RandomForestRegressor(n_estimators=100, max_features=max_feat, random_state=42, n_jobs=-1)\n",
        "    rf_reg_feat.fit(X_train, y_train)\n",
        "\n",
        "    y_pred_feat = rf_reg_feat.predict(X_test)\n",
        "    rmse_feat = np.sqrt(mean_squared_error(y_test, y_pred_feat))\n",
        "\n",
        "    print(f'max_features={max_feat}:')\n",
        "    print(f'  - RMSE: {rmse_feat:.2f}\\n')\n",
        "\n",
        "# max_features=1.0 이면 각 트리가 모든 특성을 고려하므로 트리의 다양성이 줄어듭니다.\n",
        "# 'sqrt'나 0.5 처럼 특성을 제한하면 각 트리가 다른 관점에서 데이터를 학습하게 되어\n",
        "# 앙상블 효과가 극대화되고 일반화 성능이 좋아지는 경우가 많습니다."
      ]
    }
  ],
  "metadata": {
    "colab": {
      "provenance": []
    },
    "kernelspec": {
      "display_name": "Python 3",
      "name": "python3"
    }
  },
  "nbformat": 4,
  "nbformat_minor": 0
}
