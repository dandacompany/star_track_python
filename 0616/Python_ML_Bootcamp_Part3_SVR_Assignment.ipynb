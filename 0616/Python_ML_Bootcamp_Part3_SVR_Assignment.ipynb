{
  "cells": [
    {
      "cell_type": "markdown",
      "metadata": {},
      "source": [
        "# Lab #1 (Part 3): 서울시 따릉이 수요 예측 SVR 모델 최적화\n",
        "\n",
        "지금까지 배운 SVR의 핵심 개념과 하이퍼파라미터를 바탕으로, 서울시 따릉이 데이터셋을 사용하여 최적의 수요 예측 모델을 만듭니다.\n",
        "\n",
        " `GridSearchCV`를 활용하여 최적의 `C`, `gamma`, `epsilon`을 찾습니다.\n",
        "\n",
        "**데이터셋**: Seoul Bike Sharing Demand (제공된 학습 데이터 활용)\n",
        "**목표**: SVR 모델을 사용하여 시간, 온도, 습도 등 주어진 피처로 자전거 대여량(`Rented_Bike_Count`)을 예측하고, 하이퍼파라미터 튜닝을 통해 모델 성능(RMSE 기준)을 극대화합니다.\n",
        "\n",
        "**과제 단계:**\n",
        "\n",
        "1.  **데이터 로드 및 준비**:\n",
        "\n",
        "      * `SeoulBikeData.csv` 파일을 로드하세요. (인코딩 문제 발생 시 `encoding='cp949'` 또는 `'ISO-8859-1'` 시도)\n",
        "      * 분석에 사용할 숫자형 피처(`'Hour'`, `'Temperature(C)'`, `'Humidity(%)'`, `'Wind speed (m/s)'`, `'Visibility (10m)'` 등)와 타겟 변수(`'Rented Bike Count'`)를 선택하세요.\n",
        "      * 데이터를 훈련 세트와 테스트 세트로 분리하세요 (`train_test_split` 사용, `test_size=0.2`, `random_state=42`).\n",
        "\n",
        "2.  **전처리 파이프라인 구축**:\n",
        "\n",
        "      * 숫자형 피처들을 `StandardScaler`로 스케일링하는 전처리 파이프라인(`Pipeline`)을 만드세요.\n",
        "      * `SVR` 모델을 파이프라인의 마지막 단계로 추가하세요.\n",
        "\n",
        "3.  **하이퍼파라미터 그리드 탐색**:\n",
        "\n",
        "      * `GridSearchCV`를 사용하여 최적의 하이퍼파라미터를 찾으세요.\n",
        "      * 탐색할 파라미터 그리드를 정의합니다. 아래 예시를 참고하여 범위를 자유롭게 조절해 보세요."
      ]
    },
    {
      "cell_type": "code",
      "execution_count": null,
      "metadata": {
        "id": "G1bDWOyWFHqO"
      },
      "outputs": [],
      "source": [
        "param_grid = {\n",
        "    'svr__C': [0.1, 1, 10, 100, 1000],\n",
        "    'svr__gamma': ['scale', 0.01, 0.1, 1, 10],\n",
        "    'svr__epsilon': [0.1, 0.2, 0.5, 1.0]\n",
        "}"
      ]
    },
    {
      "cell_type": "markdown",
      "metadata": {
        "id": "DB983M00FHqP"
      },
      "source": [
        "*(참고: 파이프라인 내 모델의 하이퍼파라미터는 `모델이름__파라미터명` 형식으로 지정합니다.)*\n",
        "      * `GridSearchCV`의 `scoring` 옵션은 `neg_root_mean_squared_error`로 설정하세요. (Scikit-learn은 점수가 높을수록 좋다고 가정하므로, RMSE 같은 에러 지표는 음수로 변환하여 사용합니다.)\n",
        "\n",
        "4.  **최적 모델 평가**:\n",
        "\n",
        "      * 학습이 완료된 후, `grid_search.best_params_`와 `grid_search.best_score_`를 출력하여 최적의 파라미터와 교차 검증 점수를 확인하세요.\n",
        "      * `grid_search.best_estimator_`를 사용하여 테스트 세트에 대한 예측을 수행하고, 최종 RMSE(Root Mean Squared Error)와 R²(결정계수) 점수를 계산하여 보고하세요.\n",
        "\n",
        "5.  **(도전 과제) 결과 시각화**:\n",
        "\n",
        "      * 테스트 세트의 실제 값과 모델의 예측 값을 `plotly.express`를 사용하여 산점도(scatter plot)로 그려보세요. x축은 실제 값, y축은 예측 값으로 설정합니다. 완벽한 모델이라면 점들이 y=x 직선 위에 분포할 것입니다."
      ]
    },
    {
      "cell_type": "code",
      "execution_count": null,
      "metadata": {},
      "outputs": [],
      "source": [
        "# 과제 작성"
      ]
    }
  ],
  "metadata": {
    "colab": {
      "provenance": []
    },
    "kernelspec": {
      "display_name": ".venv",
      "language": "python",
      "name": "python3"
    },
    "language_info": {
      "codemirror_mode": {
        "name": "ipython",
        "version": 3
      },
      "file_extension": ".py",
      "mimetype": "text/x-python",
      "name": "python",
      "nbconvert_exporter": "python",
      "pygments_lexer": "ipython3",
      "version": "3.12.9"
    }
  },
  "nbformat": 4,
  "nbformat_minor": 0
}
