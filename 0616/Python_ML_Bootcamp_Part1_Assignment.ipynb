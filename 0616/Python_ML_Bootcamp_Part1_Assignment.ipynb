{
 "cells": [
  {
   "cell_type": "markdown",
   "metadata": {},
   "source": [
    "# Lab #1 (Part 1): Ames 주택 가격 예측\n",
    "\n",
    "이 과제에서는 오늘 배운 `Pipeline`, `ColumnTransformer`, 그리고 다양한 회귀 모델을 종합적으로 활용하여 Ames Housing 데이터셋의 주택 가격을 예측하는 전체 머신러닝 워크플로를 경험합니다.\n",
    "\n",
    "### 🎯 학습 목표\n",
    "\n",
    "1.  다양한 타입의 특성(수치형, 범주형)을 식별하고 적절한 전처리 전략을 수립할 수 있다.\n",
    "2.  `ColumnTransformer`와 `Pipeline`을 사용하여 전처리 및 모델링 과정을 하나의 워크플로로 묶을 수 있다.\n",
    "3.  선형 회귀와 다항 회귀 모델을 구축하고, 그 성능을 비교/분석할 수 있다.\n",
    "4.  모델의 예측 성능을 R-squared와 RMSE 지표로 평가하고 해석할 수 있다."
   ]
  },
  {
   "cell_type": "markdown",
   "metadata": {},
   "source": [
    "---"
   ]
  },
  {
   "cell_type": "markdown",
   "metadata": {},
   "source": [
    "### 📜 Step 1: 데이터 로드 및 기본 탐색\n",
    "\n",
    "Kaggle의 Ames Housing 데이터셋을 불러옵니다. 이 데이터셋은 실제 주택 판매 데이터를 담고 있으며, 매우 다양한 특성을 포함하고 있습니다. 여기서는 실습의 편의를 위해 일부 특성만 선택하여 사용합니다."
   ]
  },
  {
   "cell_type": "code",
   "execution_count": null,
   "metadata": {},
   "outputs": [],
   "source": [
    "import pandas as pd\n",
    "import numpy as np\n",
    "\n",
    "# 데이터셋 URL\n",
    "url = 'https://www.openml.org/data/get_csv/20649148/houses-for-sale.csv'\n",
    "\n",
    "# 데이터 로드\n",
    "\n",
    "# 실습에 사용할 특성 선택\n",
    "\n",
    "# 데이터 정보 확인 및 결측치 확인"
   ]
  },
  {
   "cell_type": "markdown",
   "metadata": {},
   "source": [
    "---"
   ]
  },
  {
   "cell_type": "markdown",
   "metadata": {},
   "source": [
    "### 📜 Step 2: 데이터 분할 및 특성 정의\n",
    "\n",
    "모델 학습을 위해 데이터를 훈련 세트와 테스트 세트로 분할합니다. 그 후, 파이프라인에 적용할 수치형 특성과 범주형 특성의 목록을 정의합니다."
   ]
  },
  {
   "cell_type": "code",
   "execution_count": null,
   "metadata": {},
   "outputs": [],
   "source": [
    "from sklearn.model_selection import train_test_split\n",
    "\n",
    "# 독립 변수(X)와 종속 변수(y) 분리\n",
    "\n",
    "# 훈련/테스트 데이터 분할 (8:2 비율, 재현성을 위해 random_state=42)\n",
    "\n",
    "# 특성 목록 정의"
   ]
  },
  {
   "cell_type": "markdown",
   "metadata": {},
   "source": [
    "---"
   ]
  },
  {
   "cell_type": "markdown",
   "metadata": {},
   "source": [
    "### 📜 Step 3: 전처리 파이프라인 구축\n",
    "\n",
    "`ColumnTransformer`를 사용하여 수치형과 범주형 특성에 각기 다른 전처리 파이프라인을 구축하세요.\n",
    "\n",
    "- **수치형 특성**: 결측치를 중앙값(`median`)으로 대체하고, `StandardScaler`를 사용하여 표준화하세요.\n",
    "- **범주형 특성**: 결측치를 최빈값(`most_frequent`)으로 대체하고, `OneHotEncoder`를 사용하여 인코딩하세요. (`handle_unknown='ignore'` 옵션 추가)"
   ]
  },
  {
   "cell_type": "code",
   "execution_count": null,
   "metadata": {},
   "outputs": [],
   "source": [
    "from sklearn.pipeline import Pipeline\n",
    "from sklearn.impute import SimpleImputer\n",
    "from sklearn.preprocessing import StandardScaler, OneHotEncoder\n",
    "from sklearn.compose import ColumnTransformer\n",
    "\n",
    "# 수치형 데이터 전처리 파이프라인\n",
    "\n",
    "# 범주형 데이터 전처리 파이프라인\n",
    "\n",
    "# ColumnTransformer로 전처리기 통합"
   ]
  },
  {
   "cell_type": "markdown",
   "metadata": {},
   "source": [
    "---"
   ]
  },
  {
   "cell_type": "markdown",
   "metadata": {},
   "source": [
    "### 📜 Step 4: 모델 파이프라인 생성 및 학습/평가\n",
    "\n",
    "이제 위에서 만든 `preprocessor`와 모델을 결합하여 두 개의 최종 파이프라인을 만듭니다.\n",
    "\n",
    "1.  `LinearRegression` 모델을 사용하는 파이프라인\n",
    "2.  `PolynomialFeatures` (degree=2)와 `LinearRegression`을 사용하는 다항 회귀 파이프라인\n",
    "\n",
    "각 파이프라인을 학습시키고, 테스트 데이터에 대한 **RMSE**와 **R-squared** 값을 계산하여 출력하세요."
   ]
  },
  {
   "cell_type": "code",
   "execution_count": null,
   "metadata": {},
   "outputs": [],
   "source": [
    "from sklearn.linear_model import LinearRegression\n",
    "from sklearn.preprocessing import PolynomialFeatures\n",
    "from sklearn.metrics import mean_squared_error, r2_score\n",
    "\n",
    "# ----- 모델 1: 선형 회귀 파이프라인 ----- #\n",
    "\n",
    "# TO-DO: preprocessor와 LinearRegression을 결합한 파이프라인 생성\n",
    "\n",
    "# 학습\n",
    "\n",
    "# 예측 및 평가\n",
    "\n",
    "\n",
    "# ----- 모델 2: 다항 회귀 파이프라인 ----- #\n",
    "\n",
    "# TO-DO: preprocessor, PolynomialFeatures, LinearRegression을 결합한 파이프라인 생성\n",
    "\n",
    "# 학습\n",
    "\n",
    "# 예측 및 평가"
   ]
  },
  {
   "cell_type": "markdown",
   "metadata": {},
   "source": [
    "---"
   ]
  },
  {
   "cell_type": "markdown",
   "metadata": {},
   "source": [
    "### 📜 Step 5: 결과 비교 및 해석\n",
    "\n",
    "두 모델의 성능 지표(RMSE, R-squared)를 비교하고, 어떤 모델이 이 데이터셋에 더 적합한지 자신의 생각을 간략하게 작성해 보세요. 왜 그런 결과가 나왔을지, 다항 회귀 모델의 장단점은 무엇일지 고민해 보세요."
   ]
  },
  {
   "cell_type": "markdown",
   "metadata": {},
   "source": [
    "**[TODO: 여기에 분석 결과를 작성하세요]**\n",
    "\n",
    "..."
   ]
  },
  {
   "cell_type": "markdown",
   "metadata": {},
   "source": [
    "### 🌟 (심화) 추가적으로 시도해볼 것\n",
    "\n",
    "- 다항 회귀의 차수(degree)를 3으로 변경했을 때 결과는 어떻게 달라지나요?\n",
    "- `StandardScaler` 대신 `MinMaxScaler`를 사용하면 최종 성능에 변화가 있을까요? (선형 모델에서는 큰 차이가 없을 수 있습니다. 이유를 생각해 보세요!)\n",
    "- 사용한 특성 외에 다른 특성들을 추가하여 모델 성능을 더 높여보세요."
   ]
  }
 ],
 "metadata": {
  "kernelspec": {
   "display_name": "Python 3",
   "language": "python",
   "name": "python3"
  },
  "language_info": {
   "codemirror_mode": {
    "name": "ipython",
    "version": 3
   },
   "file_extension": ".py",
   "mimetype": "text/x-python",
   "name": "python",
   "nbconvert_exporter": "python",
   "pygments_lexer": "ipython3",
   "version": "3.9.7"
  }
 },
 "nbformat": 4,
 "nbformat_minor": 4
}
