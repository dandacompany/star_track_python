{
  "cells": [
    {
      "cell_type": "markdown",
      "metadata": {
        "id": "lHTh9-ae8Uvq"
      },
      "source": [
        "# Lab #1 (Part 2): 따릉이 수요 예측 미니 프로젝트\n",
        "\n",
        "지금까지 배운 결정 트리와 랜덤 포레스트 개념을 총동원하여 따릉이 수요 예측 모델의 성능을 최대한 끌어올리는 실습을 진행합니다. \n",
        "\n",
        "아래 가이드라인을 따라 자신만의 예측 모델을 완성해보세요.\n",
        "\n",
        "**목표:** 랜덤 포레스트 회귀 모델을 사용하여 테스트 데이터셋의 `Rented Bike Count`를 최대한 정확하게 예측하고, 모델의 결과를 분석하여 주요 인사이트를 도출한다.\n",
        "\n",
        "\n",
        "아래 단계에 따라 코드를 직접 작성하여 과제를 완성하세요.\n",
        "\n",
        "##### **[Step 1] 데이터 불러오기 및 확인**\n",
        "- `SeoulBikeData.csv` 파일을 `pandas`로 불러옵니다.\n",
        "- `.info()`와 `.describe()`를 사용하여 데이터의 기본 정보를 확인합니다.\n",
        "- 결측치가 있는지 확인합니다.\n",
        "\n",
        "##### **[Step 2] 피처 엔지니어링 및 전처리**\n",
        "- `Date` 컬럼을 `datetime` 타입으로 변환하고, 이를 바탕으로 'Year', 'Month', 'Day', 'Weekday' 특성을 생성하세요.\n",
        "- `Hour`는 주기성을 가지는 특성입니다. 삼각 함수(`sin`, `cos`)를 사용하여 시간 정보를 변환해보세요. (선택 사항, 심화)\n",
        "  - `df['hour_sin'] = np.sin(2 * np.pi * df['Hour']/24.0)`\n",
        "  - `df['hour_cos'] = np.cos(2 * np.pi * df['Hour']/24.0)`\n",
        "- 범주형 변수인 `Seasons`, `Holiday`, `Functioning Day`를 `pd.get_dummies`를 사용하여 원-핫 인코딩으로 변환합니다.\n",
        "- 최종적으로 모델 학습에 사용할 특성(X)과 타겟(y)을 정의하고, 훈련/테스트 데이터로 분리합니다 (`test_size=0.2`, `random_state=42`).\n",
        "\n",
        "##### **[Step 3] 랜덤 포레스트 모델링 및 하이퍼파라미터 튜닝**\n",
        "- `RandomForestRegressor` 모델을 생성합니다.\n",
        "- `n_estimators=200`, `min_samples_leaf=5`, `max_features='sqrt'` 와 같이 몇 가지 하이퍼파라미터를 설정하여 모델을 학습시켜 보세요. `n_jobs=-1`과 `random_state=42`는 유지합니다.\n",
        "- 학습된 모델로 테스트 데이터의 `Rented Bike Count`를 예측합니다.\n",
        "- 최종 모델의 **RMSE**와 **R²(결정계수)** 점수를 계산하고 출력합니다. R²는 1에 가까울수록 모델이 데이터를 잘 설명한다는 의미입니다.\n",
        "\n",
        "##### **[Step 4] 결과 분석 및 시각화**\n",
        "- **실제값 vs 예측값 비교:** 테스트 데이터의 실제 `y_test`와 모델이 예측한 `y_pred`를 사용하여 scatter plot을 그려보세요. 예측이 잘 되었다면 점들이 y=x 직선에 가깝게 분포할 것입니다.\n",
        "- **특성 중요도 분석:** 학습된 모델의 `feature_importances_`를 추출하여 가장 중요한 상위 10개 특성을 Bar chart로 시각화하고, 어떤 변수가 자전거 수요에 큰 영향을 미치는지 해석해보세요.\n",
        "\n",
        "---\n"
      ]
    },
    {
      "cell_type": "markdown",
      "metadata": {},
      "source": [
        "\n",
        "#### **Lab #1-1 코드 작성**"
      ]
    },
    {
      "cell_type": "code",
      "execution_count": null,
      "metadata": {
        "id": "0TJ0zO588Uvq"
      },
      "outputs": [],
      "source": [
        "# Lab #1-1: 따릉이 수요 예측 미니 프로젝트 정답 코드\n",
        "\n",
        "# [Step 1] 데이터 불러오기 및 확인\n",
        "import pandas as pd\n",
        "import numpy as np\n",
        "import plotly.express as px\n",
        "import plotly.graph_objects as go\n",
        "from sklearn.model_selection import train_test_split\n",
        "from sklearn.ensemble import RandomForestRegressor\n",
        "from sklearn.metrics import mean_squared_error, r2_score\n",
        "\n",
        "df = pd.read_csv('../datasets/ml/SeoulBikeData.csv', encoding='cp949')\n",
        "\n",
        "# 데이터 확인\n",
        "\n",
        "# [Step 2] 피처 엔지니어링 및 전처리\n",
        "\n",
        "# 시간 특성 변환 (심화)\n",
        "\n",
        "\n",
        "# 불필요한 컬럼 제거\n",
        "\n",
        "\n",
        "# [Step 3] 랜덤 포레스트 모델링 및 하이퍼파라미터 튜닝\n",
        "\n",
        "\n",
        "# [Step 4] 결과 분석 및 시각화\n",
        "\n",
        "# 실제값 vs 예측값 비교\n",
        "\n",
        "\n",
        "# 특성 중요도 분석"
      ]
    }
  ],
  "metadata": {
    "colab": {
      "provenance": []
    },
    "kernelspec": {
      "display_name": "Python 3",
      "name": "python3"
    }
  },
  "nbformat": 4,
  "nbformat_minor": 0
}
