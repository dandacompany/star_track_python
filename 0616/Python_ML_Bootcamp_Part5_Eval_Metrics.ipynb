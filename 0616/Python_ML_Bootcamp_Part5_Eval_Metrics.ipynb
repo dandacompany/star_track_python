{
  "cells": [
    {
      "cell_type": "markdown",
      "metadata": {
        "id": "Ck9O5iI7rQgw"
      },
      "source": [
        "# 🚀 Day 1-5:  회귀 모델의 성과 측정 평가지표 🎯\n",
        "\n",
        "머신러닝 모델을 만들었다면, 우리는 자연스럽게 \"그래서 이 모델이 얼마나 좋은데?\"라는 질문을 던지게 됩니다. \n",
        "\n",
        "이 질문에 답하는 과정이 바로 **모델 평가**입니다. \n",
        "\n",
        "특히 주택 가격 예측이나 수요 예측 같은 **회귀(Regression)** 문제에서는 모델이 예측한 연속적인 숫자 값(`예측값`)이 실제 값(`정답`)과 얼마나 유사한지를 측정해야 합니다.\n",
        "\n",
        "단순히 눈으로 몇 개의 예측값을 비교하는 것만으로는 모델의 성능을 전체적으로 파악하기 어렵습니다. \n",
        "\n",
        "데이터의 특성, 해결하려는 문제의 목적에 따라 적합한 '자' 즉, **평가지표(Evaluation Metric)** 를 사용해야 모델의 장단점을 객관적으로 이해하고 개선 방향을 잡을 수 있습니다.\n",
        "\n",
        "이번 시간에는 회귀 모델 평가에 가장 널리 사용되는 핵심 지표들인 **MAE, RMSE, R², RMSLE**에 대해 깊이 있게 알아보겠습니다. \n",
        "\n",
        "각각의 지표가 어떤 스토리를 들려주는지, 그리고 언제 어떤 지표를 사용해야 하는지 명확히 이해하는 것을 목표로 합니다."
      ]
    },
    {
      "cell_type": "markdown",
      "metadata": {},
      "source": [
        "\n",
        "---\n",
        "\n",
        "### 1. MAE (Mean Absolute Error, 평균 절대 오차)\n",
        "\n",
        "가장 직관적으로 모델의 예측 오차를 이해할 수 있는 지표입니다.\n",
        "\n",
        "#### 🧠 개념 이해하기\n",
        "\n",
        "**MAE**는 각 데이터 포인트에서 발생한 `|실제값 - 예측값|` 즉, **오차의 절댓값**을 모두 더한 뒤, 데이터 개수로 나누어 평균을 낸 값입니다.\n",
        "\n",
        "$$MAE = \\frac{1}{n} \\sum_{i=1}^{n} |y_i - \\hat{y}_i|$$\n",
        "\n",
        "- $n$: 데이터의 개수\n",
        "- $y_i$: 실제 값\n",
        "- $\\hat{y}_i$: 모델의 예측값\n",
        "\n",
        "MAE의 핵심은 **'오차의 크기'** 자체에만 집중한다는 것입니다. 예측이 실제보다 컸는지 작았는지는 고려하지 않고, 평균적으로 얼마나 벗어났는지를 알려줍니다. 예를 들어 주택 가격 예측 모델의 MAE가 15,000이라면, \"이 모델은 평균적으로 약 15,000달러 정도의 오차를 보인다\"라고 직관적으로 해석할 수 있습니다.\n",
        "\n",
        "- **장점**: 해석이 매우 쉽고 직관적입니다. 오차의 단위가 실제 값의 단위(예: 달러, 센티미터)와 동일합니다. 이상치(outlier)의 영향을 덜 받습니다.\n",
        "  \n",
        "- **단점**: 오차의 크기에 따른 패널티가 동일합니다. 즉, 10만큼의 오차와 100만큼의 오차를 동일한 '크기'로만 보지, 100만큼의 오차가 훨씬 더 나쁘다는 점을 강하게 반영하지는 못합니다.\n",
        "\n",
        "#### 💻 코드 예시\n",
        "\n",
        "실제값 `y_true`와 모델의 예측값 `y_pred`가 있을 때, `scikit-learn`을 사용해 MAE를 쉽게 계산할 수 있습니다."
      ]
    },
    {
      "cell_type": "code",
      "execution_count": 1,
      "metadata": {
        "id": "6nhyZy3drQgz"
      },
      "outputs": [
        {
          "name": "stdout",
          "output_type": "stream",
          "text": [
            "실제값: [250 300 420 480 550]\n",
            "예측값: [260 310 410 470 560]\n",
            "오차의 절대값: [10 10 10 10 10]\n",
            "모델 A의 MAE: 10.00\n"
          ]
        }
      ],
      "source": [
        "import numpy as np\n",
        "from sklearn.metrics import mean_absolute_error\n",
        "\n",
        "# 실제 주택 가격 (단위: 천 달러)\n",
        "y_true = np.array([250, 300, 420, 480, 550])\n",
        "# 모델 A의 예측 가격\n",
        "y_pred_A = np.array([260, 310, 410, 470, 560])\n",
        "\n",
        "# MAE 계산\n",
        "mae = mean_absolute_error(y_true, y_pred_A)\n",
        "\n",
        "print(f\"실제값: {y_true}\")\n",
        "print(f\"예측값: {y_pred_A}\")\n",
        "print(f\"오차의 절대값: {np.abs(y_true - y_pred_A)}\")\n",
        "print(f\"모델 A의 MAE: {mae:.2f}\")"
      ]
    },
    {
      "cell_type": "markdown",
      "metadata": {
        "id": "ax0AtnvhrQgz"
      },
      "source": [
        "#### ✏️ 연습문제 1\n",
        "\n",
        "아래 `y_true`와 `y_pred_B`를 사용하여 모델 B의 MAE를 직접 계산하고 출력해보세요."
      ]
    },
    {
      "cell_type": "code",
      "execution_count": null,
      "metadata": {
        "id": "4Ypa1bjfrQg0"
      },
      "outputs": [],
      "source": [
        "# 실제 주택 가격 (단위: 천 달러)\n",
        "y_true = np.array([250, 300, 420, 480, 550])\n",
        "# 모델 B의 예측 가격\n",
        "y_pred_B = np.array([230, 330, 400, 510, 530])\n",
        "\n",
        "# 여기에 코드를 작성하여 모델 B의 MAE를 계산하세요."
      ]
    },
    {
      "cell_type": "markdown",
      "metadata": {
        "id": "45dws19rrQg0"
      },
      "source": [
        "---\n",
        "\n",
        "### 2. RMSE (Root Mean Squared Error, 평균 제곱근 오차)\n",
        "\n",
        "오차가 큰 예측에 더 강한 페널티를 부여하고 싶을 때 사용하는 대표적인 지표입니다.\n",
        "\n",
        "#### 🧠 개념 이해하기\n",
        "\n",
        "**RMSE**는 이름에서 알 수 있듯이, 오차를 **제곱(Squared)** 한 값의 **평균(Mean)** 에 **제곱근(Root)** 을 씌운 값입니다.\n",
        "\n",
        "$$RMSE = \\sqrt{\\frac{1}{n} \\sum_{i=1}^{n} (y_i - \\hat{y}_i)^2}$$\n",
        "\n",
        "MAE와 가장 큰 차이점은 **오차를 제곱하는 과정**입니다.\n",
        "- 오차가 2이면 제곱은 4가 됩니다.\n",
        "  \n",
        "- 오차가 10이면 제곱은 100이 됩니다.\n",
        "  \n",
        "이처럼 오차가 클수록 제곱 값은 기하급수적으로 커지기 때문에, 모델의 예측값 중에 **유독 차이가 큰 값(이상치, outlier)이 있다면 RMSE 수치는 MAE보다 훨씬 더 크게 나옵니다.** \n",
        "\n",
        "즉, RMSE는 '큰 실수'를 용납하지 않는 엄격한 평가 방식이라고 할 수 있습니다.\n",
        "\n",
        "- **장점**: 큰 오차에 민감하여 모델의 안정성을 평가하는 데 유용합니다. MAE와 마찬가지로 결과 값의 단위가 실제 값의 단위와 동일하여 해석이 용이합니다.\n",
        "  \n",
        "- **단점**: 이상치에 민감하기 때문에, 데이터에 이상치가 많을 경우 RMSE가 지나치게 높게 나와 모델 성능을 왜곡해서 보여줄 수 있습니다.\n",
        "\n",
        "#### 💻 코드로 알아보기\n",
        "\n",
        "`scikit-learn`의 `mean_squared_error` 함수를 사용하면 RMSE를 쉽게 계산할 수 있습니다. \n",
        "\n",
        "함수의 `squared` 인자를 `False`로 설정하거나, `True`(기본값)로 계산된 MSE(Mean Squared Error)에 `np.sqrt()`를 적용하면 됩니다."
      ]
    },
    {
      "cell_type": "code",
      "execution_count": 5,
      "metadata": {
        "id": "p1jURogKrQg0"
      },
      "outputs": [
        {
          "name": "stdout",
          "output_type": "stream",
          "text": [
            "모델 A의 오차: [-10 -10  10  10 -10]\n",
            "모델 A의 MAE: 10.00, RMSE: 10.00\n",
            "\n",
            "모델 C의 오차: [  -5   -5    5    5 -100]\n",
            "모델 C의 MAE: 24.00, RMSE: 44.94\n"
          ]
        }
      ],
      "source": [
        "import numpy as np\n",
        "from sklearn.metrics import mean_squared_error\n",
        "\n",
        "# 실제 주택 가격 (단위: 천 달러)\n",
        "y_true = np.array([250, 300, 420, 480, 550])\n",
        "# 모델 A의 예측 (작은 오차들)\n",
        "y_pred_A = np.array([260, 310, 410, 470, 560])\n",
        "# 모델 C의 예측 (하나의 큰 오차)\n",
        "y_pred_C = np.array([255, 305, 415, 475, 650]) # 마지막 예측이 100만큼 큼\n",
        "\n",
        "# 모델 A의 RMSE\n",
        "rmse_A = np.sqrt(mean_squared_error(y_true, y_pred_A))\n",
        "# 모델 C의 RMSE\n",
        "rmse_C = np.sqrt(mean_squared_error(y_true, y_pred_C)) # np.sqrt() 사용\n",
        "\n",
        "print(\"모델 A의 오차:\", y_true - y_pred_A)\n",
        "print(f\"모델 A의 MAE: {mean_absolute_error(y_true, y_pred_A):.2f}, RMSE: {rmse_A:.2f}\\n\")\n",
        "\n",
        "print(\"모델 C의 오차:\", y_true - y_pred_C)\n",
        "print(f\"모델 C의 MAE: {mean_absolute_error(y_true, y_pred_C):.2f}, RMSE: {rmse_C:.2f}\")"
      ]
    },
    {
      "cell_type": "markdown",
      "metadata": {
        "id": "W3Z25ibXrQg0"
      },
      "source": [
        "위 예시에서 모델 C는 단 하나의 큰 오차 때문에 MAE는 24.0으로 모델 A(MAE: 10.0)보다 약간 높지만, RMSE는 47.17로 모델 A(RMSE: 10.0)보다 훨씬 크게 증가한 것을 볼 수 있습니다. 이것이 바로 RMSE가 큰 오차에 민감하게 반응하는 특징입니다."
      ]
    },
    {
      "cell_type": "markdown",
      "metadata": {},
      "source": [
        "\n",
        "#### ✏️ 연습문제 2\n",
        "\n",
        "연습문제 1에서 사용했던 모델 B의 예측값 `y_pred_B`를 이용하여 RMSE를 계산하고 출력해보세요."
      ]
    },
    {
      "cell_type": "code",
      "execution_count": null,
      "metadata": {
        "id": "y69y37sRrQg1"
      },
      "outputs": [],
      "source": [
        "# 실제 주택 가격 (단위: 천 달러)\n",
        "y_true = np.array([250, 300, 420, 480, 550])\n",
        "# 모델 B의 예측 가격\n",
        "y_pred_B = np.array([230, 330, 400, 510, 530])\n",
        "\n",
        "# 여기에 코드를 작성하여 모델 B의 RMSE를 계산하세요."
      ]
    },
    {
      "cell_type": "markdown",
      "metadata": {},
      "source": [
        "---\n",
        "\n",
        "### 3. MAPE (Mean Absolute Percentage Error, 평균 절대 백분율 오차)\n",
        "\n",
        "오차를 이해하기 쉬운 **'비율(%)'**로 나타내는 지표입니다.\n",
        "\n",
        "#### 🧠 개념 이해하기\n",
        "\n",
        "**MAPE**는 각 오차를 실제 값으로 나눈 뒤, 절댓값을 취하여 백분율로 바꾼 값들의 평균입니다.\n",
        "\n",
        "$$MAPE = \\frac{1}{n} \\sum_{i=1}^{n} \\left| \\frac{y_i - \\hat{y}_i}{y_i} \\right| \\times 100\\%$$\n",
        "\n",
        "예를 들어 MAPE가 15라면, \"모델이 평균적으로 실제 값의 15% 정도의 오차를 보인다\"고 해석할 수 있습니다. 이처럼 직관적인 퍼센트 단위로 결과를 보여주기 때문에, 비전문가에게 모델 성능을 설명할 때 매우 유용합니다.\n",
        "\n",
        "- **장점**: 오차를 상대적인 비율로 보여주므로, 단위나 스케일이 다른 여러 모델의 성능을 쉽게 비교할 수 있습니다. 해석이 매우 직관적입니다.\n",
        "- **단점**:\n",
        "    1.  **치명적 약점**: **실제 값($y_i$)에 0이 있으면 분모가 0이 되어 계산할 수 없습니다.**\n",
        "    2.  **비대칭성**: 실제 값보다 작게 예측할 때(under-prediction)의 최대 오차는 100%로 한정되지만, 크게 예측할 때(over-prediction)의 오차는 상한선이 없습니다. 이 때문에 MAPE는 실제 값보다 크게 예측하는 경우에 더 큰 페널티를 부여하는 경향이 있습니다.\n",
        "\n",
        "#### 💻 코드로 알아보기\n",
        "\n",
        "`scikit-learn`의 `mean_absolute_percentage_error` 함수를 사용합니다. 결과값은 0.0 ~ 1.0 사이의 소수이므로, 백분율로 보려면 100을 곱해주면 됩니다."
      ]
    },
    {
      "cell_type": "code",
      "execution_count": null,
      "metadata": {},
      "outputs": [
        {
          "name": "stdout",
          "output_type": "stream",
          "text": [
            "실제값: [ 50 100 200]\n",
            "예측값: [ 45 110 220]\n",
            "모델 G의 MAPE: 0.10 (10.00%)\n"
          ]
        }
      ],
      "source": [
        "import numpy as np\n",
        "from sklearn.metrics import mean_absolute_percentage_error\n",
        "\n",
        "# 실제 수요량\n",
        "y_true = np.array([50, 100, 200])\n",
        "# 모델 G의 예측\n",
        "y_pred_G = np.array([45, 110, 220]) # 각각 -10%, +10%, +10% 오차\n",
        "\n",
        "mape_G = mean_absolute_percentage_error(y_true, y_pred_G)\n",
        "\n",
        "print(f\"실제값: {y_true}\")\n",
        "print(f\"예측값: {y_pred_G}\")\n",
        "# |(50-45)/50|, |(100-110)/100|, |(200-220)/200| -> 0.1, 0.1, 0.1\n",
        "print(f\"모델 G의 MAPE: {mape_G:.2f} ({mape_G*100:.2f}%)\") \n",
        "\n",
        "# 실제 값에 0이 포함된 경우\n",
        "y_true_with_zero = np.array([50, 0, 200])\n",
        "y_pred_with_zero = np.array([45, 5, 220])\n",
        "\n",
        "try:\n",
        "    mean_absolute_percentage_error(y_true_with_zero, y_pred_with_zero)\n",
        "except ValueError as e:\n",
        "    print(f\"\\n실제 값에 0이 있을 때 에러 발생: {e}\")"
      ]
    },
    {
      "cell_type": "markdown",
      "metadata": {},
      "source": [
        "#### ✏️ 연습문제 3\n",
        "\n",
        "연습문제 1, 2에서 사용했던 모델 B의 예측값 `y_pred_B`를 이용하여 MAPE를 계산하고 백분율(%)로 출력해보세요."
      ]
    },
    {
      "cell_type": "code",
      "execution_count": null,
      "metadata": {},
      "outputs": [],
      "source": [
        "# 실제 주택 가격 (단위: 천 달러)\n",
        "y_true = np.array([250, 300, 420, 480, 550])\n",
        "# 모델 B의 예측 가격\n",
        "y_pred_B = np.array([230, 330, 400, 510, 530])\n",
        "\n",
        "# 여기에 코드를 작성하여 모델 B의 MAPE를 계산하세요."
      ]
    },
    {
      "cell_type": "markdown",
      "metadata": {
        "id": "t75KfXuerQg1"
      },
      "source": [
        "---\n",
        "\n",
        "### 4. R² (R-squared, 결정 계수)\n",
        "\n",
        "모델의 **'설명력'** 을 평가하는 지표입니다. 즉, 모델이 데이터의 변동성을 얼마나 잘 설명하는지를 나타냅니다.\n",
        "\n",
        "#### 🧠 개념 이해하기\n",
        "\n",
        "**R²**는 모델이 예측한 값이 실제 값의 평균을 예측하는 아주 단순한 모델보다 얼마나 더 나은지를 0과 1 사이의 값으로 표현합니다.\n",
        "\n",
        "$$R^2 = 1 - \\frac{\\text{모델의 총 오차 (SSE)}}{\\text{데이터의 총 변동성 (SST)}} = 1 - \\frac{\\sum (y_i - \\hat{y}_i)^2}{\\sum (y_i - \\bar{y})^2}$$\n",
        "\n",
        "- $\\bar{y}$: 실제 값의 평균\n",
        "\n",
        "- **R² = 1**: 모델이 데이터의 모든 변동성을 완벽하게 설명함 (가장 이상적).\n",
        "- **R² = 0**: 모델의 예측이 실제 값의 평균을 예측하는 것과 동일한 수준. 즉, 모델이 전혀 설명력이 없음.\n",
        "- **R² < 0**: 모델의 예측이 평균을 예측하는 것보다도 못함 (최악의 경우).\n",
        "\n",
        "MAE나 RMSE가 오차의 '절대적인 크기'를 나타낸다면, R²는 **'상대적인 성능'** 을 보여줍니다. \n",
        "\n",
        "예를 들어 R²가 0.85라면 \"우리 모델은 종속 변수(예: 주택 가격)의 분산 중 85%를 설명할 수 있다\"고 해석합니다.\n",
        "\n",
        "- **장점**: 모델의 설명력을 직관적인 비율로 이해할 수 있습니다. 데이터의 스케일에 상관없이 사용할 수 있습니다.\n",
        "  \n",
        "- **단점**: 모델에 새로운 변수(feature)를 추가하기만 하면 R² 값은 오르는 경향이 있어, 모델의 복잡도와 성능을 오해하게 만들 수 있습니다. (이 단점을 보완하기 위해 변수의 개수를 고려하는 **조정된 R², Adjusted R²**를 사용하기도 합니다.)"
      ]
    },
    {
      "cell_type": "markdown",
      "metadata": {},
      "source": [
        "\n",
        "#### 💻 코드 예시\n",
        "\n",
        "`scikit-learn`의 `r2_score` 함수를 사용합니다."
      ]
    },
    {
      "cell_type": "code",
      "execution_count": 6,
      "metadata": {
        "id": "YCiSTy61rQg1"
      },
      "outputs": [
        {
          "name": "stdout",
          "output_type": "stream",
          "text": [
            "실제값의 평균: 400.0\n",
            "모델 A의 R²: 0.9919\n",
            "모델 D의 R²: 0.0000\n"
          ]
        }
      ],
      "source": [
        "import numpy as np\n",
        "from sklearn.metrics import r2_score\n",
        "\n",
        "# 실제 주택 가격 (단위: 천 달러)\n",
        "y_true = np.array([250, 300, 420, 480, 550])\n",
        "# 모델 A의 예측 (성능 좋음)\n",
        "y_pred_A = np.array([260, 310, 410, 470, 560])\n",
        "# 모델 D의 예측 (성능 나쁨)\n",
        "y_pred_D = np.array([400, 400, 400, 400, 400]) # 모든 예측을 평균(400)으로 함\n",
        "\n",
        "# R² 계산\n",
        "r2_A = r2_score(y_true, y_pred_A)\n",
        "r2_D = r2_score(y_true, y_pred_D)\n",
        "\n",
        "print(f\"실제값의 평균: {y_true.mean()}\")\n",
        "print(f\"모델 A의 R²: {r2_A:.4f}\")\n",
        "print(f\"모델 D의 R²: {r2_D:.4f}\")"
      ]
    },
    {
      "cell_type": "markdown",
      "metadata": {
        "id": "tJ6IyA8urQg1"
      },
      "source": [
        "#### ✏️ 연습문제 4\n",
        "\n",
        "연습문제 1, 2에서 사용했던 모델 B의 예측값 `y_pred_B`를 이용하여 R²를 계산하고 출력해보세요."
      ]
    },
    {
      "cell_type": "code",
      "execution_count": null,
      "metadata": {
        "id": "sIoT_PTwrQg2"
      },
      "outputs": [],
      "source": [
        "# 실제 주택 가격 (단위: 천 달러)\n",
        "y_true = np.array([250, 300, 420, 480, 550])\n",
        "# 모델 B의 예측 가격\n",
        "y_pred_B = np.array([230, 330, 400, 510, 530])\n",
        "\n",
        "# 여기에 코드를 작성하여 모델 B의 R²를 계산하세요."
      ]
    },
    {
      "cell_type": "markdown",
      "metadata": {
        "id": "eOxz_ML3rQg2"
      },
      "source": [
        "---\n",
        "\n",
        "### 5. RMSLE (Root Mean Squared Logarithmic Error)\n",
        "\n",
        "오차의 '비율'에 초점을 맞추는 특별한 지표입니다.\n",
        "\n",
        "#### 🧠 개념 이해하기\n",
        "\n",
        "**RMSLE**는 이름 그대로 예측값과 실제 값에 **로그(log)** 를 취한 뒤, RMSE를 계산한 것입니다.\n",
        "\n",
        "$$RMSLE = \\sqrt{\\frac{1}{n} \\sum_{i=1}^{n} (\\log(1+\\hat{y}_i) - \\log(1+y_i))^2}$$\n",
        "\n",
        "로그를 취하는 것이 핵심입니다.\n",
        "\n",
        "`log(a) - log(b)`는 `log(a/b)`와 같기 때문에, RMSLE는 실제 값과 예측값의 **'비율'** 에 대한 오차를 측정합니다.\n",
        "\n",
        "(수식에서 1을 더하는 이유는 값에 0이 있을 때 log(0)이 계산 불가능한 값(-무한대)이 되는 것을 방지하기 위함입니다.)\n",
        "\n",
        "예를 들어 봅시다.\n",
        "- **Case 1**: 실제값 100, 예측값 150 -> 절대 오차 50, 비율 오차 1.5배\n",
        "  \n",
        "- **Case 2**: 실제값 1000, 예측값 1050 -> 절대 오차 50, 비율 오차 1.05배\n",
        "\n",
        "RMSE는 두 케이스의 오차를 동일하게(50) 보지만, RMSLE는 Case 1의 오차를 훨씬 더 크게 평가합니다. \n",
        "\n",
        "따라서 **예측 대상의 스케일이 매우 크거나 정규분포를 따르지 않을 때(왜곡된 분포일 때)** 유용합니다.\n",
        "\n",
        "또한, 실제 값보다 **낮게 예측(under-prediction)하는 것에 더 큰 페널티**를 부여하는 특징이 있습니다. \n",
        "\n",
        "예를 들어 자전거 대여 수요 예측에서, 100대를 예측했는데 150대가 필요했던 상황(공급 부족)이, 150대를 예측했는데 100대가 필요했던 상황(재고 남음)보다 더 치명적일 수 있습니다. \n",
        "\n",
        "이런 경우 RMSLE가 적합합니다.\n",
        "\n",
        "- **장점**: 상대적 오차를 측정하므로 이상치에 덜 민감합니다. 실제 값보다 낮은 예측에 더 큰 페널티를 부여합니다.\n",
        "  \n",
        "- **단점**: 실제 값보다 높은 예측에 대한 페널티가 상대적으로 작습니다. MAE, RMSE보다 해석이 직관적이지 않습니다.\n",
        "\n",
        "#### 💻 코드 예시\n",
        "\n",
        "`scikit-learn`의 `mean_squared_log_error`를 사용한 뒤, 제곱근을 취해줍니다."
      ]
    },
    {
      "cell_type": "code",
      "execution_count": null,
      "metadata": {
        "id": "YD2NTkfnrQg2"
      },
      "outputs": [],
      "source": [
        "import numpy as np\n",
        "from sklearn.metrics import mean_squared_log_error\n",
        "\n",
        "# 실제 자전거 대여 수\n",
        "y_true = np.array([10, 50, 100, 1000])\n",
        "# 모델 E의 예측 (절대 오차는 동일, 비율 오차는 다름)\n",
        "y_pred_E = np.array([20, 60, 110, 1010]) # 모든 예측의 절대 오차는 +10\n",
        "\n",
        "# RMSLE 계산\n",
        "# y_true, y_pred에 0보다 작은 값이 있으면 에러가 발생하므로 주의해야 합니다.\n",
        "rmsle_E = np.sqrt(mean_squared_log_error(y_true, y_pred_E))\n",
        "\n",
        "# 비교를 위해 RMSE도 계산\n",
        "rmse_E = mean_squared_error(y_true, y_pred_E, squared=False)\n",
        "\n",
        "print(f\"절대 오차: {y_pred_E - y_true}\")\n",
        "print(f\"RMSE: {rmse_E:.4f}\")\n",
        "print(f\"RMSLE: {rmsle_E:.4f}\")"
      ]
    },
    {
      "cell_type": "markdown",
      "metadata": {
        "id": "rgA5Wbw2rQg2"
      },
      "source": [
        "#### ✏️ 연습문제 5\n",
        "\n",
        "아래 `y_true`와 `y_pred_F`를 사용하여 모델 F의 RMSLE를 직접 계산하고 출력해보세요."
      ]
    },
    {
      "cell_type": "code",
      "execution_count": null,
      "metadata": {
        "id": "uGcNqsSdrQg2"
      },
      "outputs": [],
      "source": [
        "y_true = np.array([120, 250, 800])\n",
        "y_pred_F = np.array([100, 280, 750])\n",
        "\n",
        "# 여기에 코드를 작성하여 모델 F의 RMSLE를 계산하세요."
      ]
    },
    {
      "cell_type": "markdown",
      "metadata": {
        "id": "Uu6fYol9rQg2"
      },
      "source": [
        "---\n",
        "\n",
        "## 📝 Lab #1 (응용): 주택 가격 예측 모델 성능 종합 평가\n",
        "\n",
        "지금까지 배운 5가지 회귀 평가지표를 모두 사용하여, 실제 데이터셋에 대한 모델 성능을 종합적으로 분석하는 실습을 진행해 보겠습니다. \n",
        "\n",
        "**Ames Housing 데이터셋**을 사용하여 두 개의 다른 회귀 모델(`LinearRegression`, `RandomForestRegressor`)을 만들고, 어떤 모델이 어떤 지표에서 더 우수한지 비교 분석합니다.\n",
        "\n",
        "### 과제 목표\n",
        "1. `Ames Housing` 데이터를 로드하고 기본적인 전처리를 수행합니다.\n",
        "   \n",
        "2. `LinearRegression`과 `RandomForestRegressor` 모델을 훈련시킵니다.\n",
        "3. 두 모델의 성능을 **MAE, MAPE, RMSE, R², RMSLE** 다섯 가지 지표로 각각 평가합니다.\n",
        "4. 평가 결과를 DataFrame으로 정리하고, 시각화를 통해 모델의 예측 경향을 분석합니다."
      ]
    },
    {
      "cell_type": "code",
      "execution_count": null,
      "metadata": {
        "id": "dUHf0-i1rQg2"
      },
      "outputs": [],
      "source": [
        "# 필요한 라이브러리 임포트\n",
        "import pandas as pd\n",
        "import numpy as np\n",
        "from sklearn.datasets import fetch_openml\n",
        "from sklearn.model_selection import train_test_split\n",
        "from sklearn.linear_model import LinearRegression\n",
        "from sklearn.ensemble import RandomForestRegressor\n",
        "from sklearn.metrics import mean_absolute_error, mean_squared_error, r2_score, mean_squared_log_error\n",
        "import plotly.express as px\n",
        "\n",
        "# ---------------------------------------------------\n",
        "# 1. 데이터 로드 및 준비 (Data Loading and Preparation)\n",
        "# ---------------------------------------------------\n",
        "# Ames Housing 데이터셋 로드\n",
        "housing = fetch_openml(name=\"house_prices\", as_frame=True)\n",
        "df = housing.data.join(housing.target)\n",
        "df.rename(columns={'target': 'SalePrice'}, inplace=True)\n",
        "\n",
        "# 특성(X)과 타겟(y) 분리\n",
        "X = df.drop('SalePrice', axis=1)\n",
        "y = df['SalePrice']\n",
        "\n",
        "# 실습의 편의를 위해 수치형 특성만 선택\n",
        "X_numeric = X.select_dtypes(include=np.number)\n",
        "\n",
        "# 결측치를 각 열의 평균값으로 채우기\n",
        "X_numeric = X_numeric.fillna(X_numeric.mean())\n",
        "\n",
        "# 훈련 데이터와 테스트 데이터 분리 (8:2 비율, 랜덤 시드 고정)\n",
        "X_train, X_test, y_train, y_test = train_test_split(\n",
        "    X_numeric, y, test_size=0.2, random_state=42\n",
        ")"
      ]
    },
    {
      "cell_type": "code",
      "execution_count": null,
      "metadata": {},
      "outputs": [],
      "source": [
        "# ---------------------------------------------------\n",
        "# 2. 모델 훈련 (Model Training)\n",
        "# ---------------------------------------------------\n",
        "# [문제 1] LinearRegression 모델을 생성하고 훈련시키세요.\n",
        "# 모델 변수명: lr_model\n",
        "# lr_model = ?\n",
        "# lr_model.fit(?, ?)\n",
        "\n",
        "# [문제 2] RandomForestRegressor 모델을 생성하고 훈련시키세요.\n",
        "# n_estimators=100, random_state=42로 설정\n",
        "# 모델 변수명: rf_model\n",
        "# rf_model = ?\n",
        "# rf_model.fit(?, ?)"
      ]
    },
    {
      "cell_type": "code",
      "execution_count": null,
      "metadata": {},
      "outputs": [],
      "source": [
        "# ---------------------------------------------------\n",
        "# 3. 예측 및 평가 (Prediction and Evaluation)\n",
        "# ---------------------------------------------------\n",
        "# 테스트 데이터에 대한 예측 수행\n",
        "# lr_preds = ?\n",
        "# rf_preds = ?\n",
        "\n",
        "# 각 모델에 대한 평가지표 계산 함수\n",
        "def evaluate_regression(y_true, y_pred, model_name=\"\"):\n",
        "    mae = mean_absolute_error(y_true, y_pred)\n",
        "    mape = mean_absolute_percentage_error(y_true, y_pred)\n",
        "    rmse = mean_squared_error(y_true, y_pred, squared=False)\n",
        "    r2 = r2_score(y_true, y_pred)\n",
        "    # RMSLE 계산 시 음수 예측값이 있을 경우를 대비하여 0으로 클리핑\n",
        "    y_pred_clipped = np.clip(y_pred, 0, None)\n",
        "    rmsle = np.sqrt(mean_squared_log_error(y_true, y_pred_clipped))\n",
        "\n",
        "    print(f\"--- {model_name} 모델 평가 결과 ---\")\n",
        "    print(f\"MAE: {mae:,.2f}\")\n",
        "    print(f\"MAPE: {mape:.2f}\")\n",
        "    print(f\"RMSE: {rmse:,.2f}\")\n",
        "    print(f\"R²: {r2:.4f}\")\n",
        "    print(f\"RMSLE: {rmsle:.4f}\\n\")\n",
        "    return [mae, rmse, r2, rmsle]"
      ]
    },
    {
      "cell_type": "code",
      "execution_count": null,
      "metadata": {},
      "outputs": [],
      "source": [
        "# [문제 3] LinearRegression 모델의 성능을 평가하세요.\n",
        "# lr_metrics = evaluate_regression(?, ?, model_name=\"Linear Regression\")"
      ]
    },
    {
      "cell_type": "code",
      "execution_count": null,
      "metadata": {},
      "outputs": [],
      "source": [
        "# [문제 4] RandomForestRegressor 모델의 성능을 평가하세요.\n",
        "# rf_metrics = evaluate_regression(?, ?, model_name=\"Random Forest\")\n",
        "\n",
        "\n",
        "# ---------------------------------------------------\n",
        "# 4. 결과 분석 및 시각화 (Result Analysis and Visualization)\n",
        "# ---------------------------------------------------"
      ]
    },
    {
      "cell_type": "code",
      "execution_count": null,
      "metadata": {},
      "outputs": [],
      "source": [
        "# [문제 5] 평가 결과를 pandas DataFrame으로 만드세요.\n",
        "# 컬럼: ['Metric', 'Linear Regression', 'Random Forest']\n",
        "# 인덱스: ['MAE', 'MAPE', 'RMSE', 'R²', 'RMSLE']\n",
        "# metrics_df = ?\n",
        "# print(metrics_df)"
      ]
    },
    {
      "cell_type": "code",
      "execution_count": null,
      "metadata": {},
      "outputs": [],
      "source": [
        "# [문제 6] RandomForest 모델의 예측 결과를 시각화하세요.\n",
        "# x축은 실제값(y_test), y축은 예측값(rf_preds)으로 하는 scatter plot을 그리세요.\n",
        "# Plotly Express를 사용하고, '실제값 vs 예측값 (Random Forest)' 라는 제목을 추가하세요.\n",
        "# fig = px.scatter(?, ?, ?, ?,\n",
        "#                  title='실제값 vs 예측값 (Random Forest)',\n",
        "#                  labels={'x': '실제 가격', 'y': '예측 가격'})\n",
        "# 완벽한 예측을 의미하는 y=x 직선(빨간색)을 추가하세요.\n",
        "# fig.add_shape(type='line', x0=y_test.min(), y0=y_test.min(),\n",
        "#               x1=y_test.max(), y1=y_test.max(), line=dict(color='Red', dash='dash'))\n",
        "# fig.show()"
      ]
    }
  ],
  "metadata": {
    "colab": {
      "provenance": []
    },
    "kernelspec": {
      "display_name": ".venv",
      "language": "python",
      "name": "python3"
    },
    "language_info": {
      "codemirror_mode": {
        "name": "ipython",
        "version": 3
      },
      "file_extension": ".py",
      "mimetype": "text/x-python",
      "name": "python",
      "nbconvert_exporter": "python",
      "pygments_lexer": "ipython3",
      "version": "3.12.9"
    }
  },
  "nbformat": 4,
  "nbformat_minor": 0
}
