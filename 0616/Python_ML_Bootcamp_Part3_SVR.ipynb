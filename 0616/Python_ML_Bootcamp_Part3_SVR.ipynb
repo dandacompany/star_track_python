{
  "cells": [
    {
      "cell_type": "markdown",
      "metadata": {
        "id": "3UC2to6_FHqJ"
      },
      "source": [
        "# 🚀 Day 1-3:  SVR (Support Vector Regression)\n",
        "\n",
        "이번 세션에서는 회귀 문제에 강력한 성능을 보이는 알고리즘 중 하나인 **서포트 벡터 회귀 (Support Vector Regression, SVR)** 를 학습합니다. \n",
        "\n",
        "특히 비선형 데이터를 다루는 데 효과적인 **RBF 커널** 을 중심으로 SVR의 원리를 파헤치고,\n",
        "\n",
        "`scikit-learn`을 활용한 실습을 통해 개념을 코드로 체화하는 시간을 갖겠습니다.\n",
        "\n",
        "---"
      ]
    },
    {
      "cell_type": "markdown",
      "metadata": {},
      "source": [
        "### 1. SVR 이란 무엇일까요?\n",
        "\n",
        "선형 회귀(Linear Regression)는 모든 데이터 샘플과의 오차(잔차) 제곱의 합을 최소화하는 직선을 찾는 것이 목표였습니다. \n",
        "\n",
        "데이터 포인트 하나하나가 모델의 학습에 직접적인 영향을 주죠.\n",
        "\n",
        "반면, SVR은 조금 다른 철학을 가집니다. **\"최대한 많은 데이터 샘플이 하나의 '도로(tube)' 안에 포함되도록 경계선을 찾자!\"** 는 아이디어에서 출발합니다. \n",
        "\n",
        "이 도로의 폭을 결정하는 것이 바로 SVR의 핵심 파라미터인 **엡실론($\\epsilon$)** 입니다.\n",
        "\n",
        "  * **SVR의 목표**: 특정 너비($\\epsilon$)를 가진 '튜브' 내에 오차를 허용하면서, 이 튜브에서 벗어나는 샘플의 오류만 최소화하는 최적의 회귀선을 찾는 것.\n",
        "  \n",
        "  * **Support Vectors**: 이 '튜브'의 경계선이나 그 바깥에 위치하여 모델(회귀선)을 결정하는 데 영향을 주는 중요한 데이터 포인트들입니다. 이 서포트 벡터들 덕분에 SVR은 다른 데이터 포인트의 노이즈에 비교적 강인한(robust) 모델을 만들 수 있습니다.\n",
        "\n",
        "![SVR](https://www.mdpi.com/buildings/buildings-12-01792/article_deploy/html/images/buildings-12-01792-g003-550.jpg)\n",
        "\n",
        "*(위 그림에서 실선이 회귀선, 점선이 $\\epsilon$-tube의 경계, 별표로 표시된 점들이 서포트 벡터입니다.)*"
      ]
    },
    {
      "cell_type": "markdown",
      "metadata": {},
      "source": [
        "\n",
        "-----\n",
        "\n",
        "### 2. 핵심 개념 1: 엡실론 인센서티브 튜브 ($\\epsilon$-Insensitive Tube)\n",
        "\n",
        "SVR의 가장 독특하고 중요한 개념은 바로 **엡실론($\\epsilon$)** 입니다. \n",
        "\n",
        "'Epsilon-Insensitive'라는 이름에서 알 수 있듯, SVR은 예측값과 실제값의 차이(오차)가 $\\epsilon$보다 작으면 그 오차는 **\"문제 삼지 않겠다(insensitive)\"**, 즉 무시합니다.\n",
        "\n",
        "  * **$|y\\_i - f(x\\_i)| \\leq \\epsilon$**: 오차가 $\\epsilon$ 이내라면, 모델의 비용(손실)은 0입니다.\n",
        "  * **$|y\\_i - f(x\\_i)| > \\epsilon$**: 오차가 $\\epsilon$을 초과하면, 그 초과분에 대해서만 비용을 계산합니다.\n",
        "\n",
        "이 $\\epsilon$ 값은 우리가 직접 설정해야 하는 하이퍼파라미터입니다.\n",
        "\n",
        "  * **`epsilon` 값이 크면?**: 더 넓은 튜브(도로)가 만들어집니다. 모델은 더 많은 오차를 용납하게 되므로, 모델이 단순해지는 경향(underfitting)이 있을 수 있습니다.\n",
        "  * **`epsilon` 값이 작으면?**: 더 좁은 튜브가 만들어집니다. 아주 작은 오차도 용납하지 않으려 하므로, 모델이 데이터의 미세한 패턴까지 학습하려다 노이즈에 과하게 반응(overfitting)할 수 있습니다."
      ]
    },
    {
      "cell_type": "markdown",
      "metadata": {},
      "source": [
        "\n",
        "#### 🧠 코드로 이해하기: $\\epsilon$ 값에 따른 튜브의 변화\n",
        "\n",
        "간단한 1차원 데이터를 만들고, $\\epsilon$ 값을 다르게 설정했을 때 SVR 모델과 튜브가 어떻게 변하는지 시각화해 보겠습니다."
      ]
    },
    {
      "cell_type": "code",
      "execution_count": 2,
      "metadata": {
        "id": "lq-vDah5FHqM"
      },
      "outputs": [],
      "source": [
        "import numpy as np\n",
        "import plotly.graph_objects as go\n",
        "from sklearn.svm import SVR\n",
        "\n",
        "# 1. 샘플 데이터 생성\n",
        "np.random.seed(42)\n",
        "X = np.sort(5 * np.random.rand(40, 1), axis=0)\n",
        "y = np.sin(X).ravel()\n",
        "y[::5] += 3 * (0.5 - np.random.rand(8)) # 노이즈 추가"
      ]
    },
    {
      "cell_type": "code",
      "execution_count": 9,
      "metadata": {},
      "outputs": [],
      "source": [
        "# 2. Epsilon 값에 따른 SVR 모델 학습 \n",
        "\n",
        "# Epsilon 값별로 개별 모델 생성 및 학습\n",
        "svr_01 = SVR(kernel='rbf', C=1e3, gamma=0.1, epsilon=0.1)\n",
        "svr_05 = SVR(kernel='rbf', C=1e3, gamma=0.1, epsilon=0.5)\n",
        "svr_10 = SVR(kernel='rbf', C=1e3, gamma=0.1, epsilon=1.0)\n",
        "\n",
        "# 각 모델 학습\n",
        "svr_01.fit(X, y)\n",
        "svr_05.fit(X, y)\n",
        "svr_10.fit(X, y)\n",
        "\n",
        "# 각 모델의 예측값 생성\n",
        "y_pred_01 = svr_01.predict(X)\n",
        "y_pred_05 = svr_05.predict(X)\n",
        "y_pred_10 = svr_10.predict(X)"
      ]
    },
    {
      "cell_type": "code",
      "execution_count": 10,
      "metadata": {},
      "outputs": [
        {
          "data": {
            "application/vnd.plotly.v1+json": {
              "config": {
                "plotlyServerURL": "https://plot.ly"
              },
              "data": [
                {
                  "marker": {
                    "color": "black",
                    "size": 6
                  },
                  "mode": "markers",
                  "name": "Data (eps=0.1)",
                  "showlegend": false,
                  "type": "scatter",
                  "x": {
                    "bdata": "IJ4GiSBZuj9MlMuEb7rNP2a1XqI1ltI/SNWHyAbR1D9MWjyxTEHfP5vt7iSrUeY/H9//GYn16D/lqeoEhvboP2GOAgmrSOs/hh/Y94wX7T9agVmsP1jtP5E0pluj8u8/X/4BerT88D9SbD9vX0z3P2nQvFUfX/c/AtUdkuFW+D+k3yhwfV74PwblUy4XT/0/Zyb35ZT2/T8YhR3zHUcBQMqTalopmwFA6vlzGSg+AkAYieq5wpEEQHwLCYCB/QRA3XRVP1OyB0Dc9/tLQ/IHQJjetu9qCwhALMtmYEJNCEBx0v+mX3kIQDmDNNOLXgtAIiNBx6lSDEAlAeYynkcNQLqIF6wzaA9Ao6p2kv4qEEB6rNg3G6YQQNGS1WXSUhFAVgJbQEv6EkD0ZXVBqAMTQCSB6DcJUBNARxTOPfBlE0A=",
                    "dtype": "f8"
                  },
                  "xaxis": "x",
                  "y": {
                    "bdata": "AOpDgTjJ8z/xJb5nM3bNP+TmcbaaU9I/xdRbao9z1D+gNwQ9BgfeP35RUCIXBOU/PKTz/RqB5j9e1unJzoHmP33t0PKiGOg/4P37RTY/6T+nv3JbaIYBQK7XBgga5uo/affwwh3x6z81PC/ON8rvP1HNBzBszu8/pDIIjRtWzb8B5pnjq/bvP3eWsoyH6u4/a06XBn6N7j+2dkfL8ZvqP/8sAbzfgfg/RsxbM+JG6D/7rtaxkEfhP0Wv2sm7rd8/4ITYr/Xaxj+IWm7VcL/Vvyb5XU9LW8E/DiI5wOKKuj+uyn/dXQ21P7STPS0UqdG/yE9pPjiaxj+S1oRBzLXfv8x2CvUtmua/N7MdNAUT6b+FEADNIEfrvw0jlIU4oO+/wUxMwMv777/HsB7dDfnvv5alCqkpye+//45wGxCz778=",
                    "dtype": "f8"
                  },
                  "yaxis": "y"
                },
                {
                  "line": {
                    "color": "blue",
                    "width": 3
                  },
                  "mode": "lines",
                  "name": "SVR (eps=0.1)",
                  "showlegend": false,
                  "type": "scatter",
                  "x": {
                    "bdata": "IJ4GiSBZuj9MlMuEb7rNP2a1XqI1ltI/SNWHyAbR1D9MWjyxTEHfP5vt7iSrUeY/H9//GYn16D/lqeoEhvboP2GOAgmrSOs/hh/Y94wX7T9agVmsP1jtP5E0pluj8u8/X/4BerT88D9SbD9vX0z3P2nQvFUfX/c/AtUdkuFW+D+k3yhwfV74PwblUy4XT/0/Zyb35ZT2/T8YhR3zHUcBQMqTalopmwFA6vlzGSg+AkAYieq5wpEEQHwLCYCB/QRA3XRVP1OyB0Dc9/tLQ/IHQJjetu9qCwhALMtmYEJNCEBx0v+mX3kIQDmDNNOLXgtAIiNBx6lSDEAlAeYynkcNQLqIF6wzaA9Ao6p2kv4qEEB6rNg3G6YQQNGS1WXSUhFAVgJbQEv6EkD0ZXVBqAMTQCSB6DcJUBNARxTOPfBlE0A=",
                    "dtype": "f8"
                  },
                  "xaxis": "x",
                  "y": {
                    "bdata": "eACGLbzKzD9HSSyhPIXVP9iKNJrYv9g/kg3nU3uu2j+UDCP4CM3hP7l9m8DcKuc/8RlRvvsb6T8jTc7orxzpP9RZs2yutuo/axC+NYXi6z8lPDlu+QrsP+j2h4CZle0/0VySxmSr7j/aZkmaemjxP/sunkv4avE/rSZz5pWD8T/F5OytGITxP69svENLDfE/Yg7KPI/f8D9qBL+1jsvtP4tjbOmDCe0/n+M0IERx6z98PhFGTWXkP0NVywBH8+I/jxn1EG6u0T+E1TpUUnHPPx4BmGxM5c0/NwvFRQvWyT/QhCHn7xvHP5wBxhkcfsa/eF9adl530r+LQuRLrG/Zv0Muyzhu0OO/ALUVJzqT5r9AAB8RujDpvzf4zlpOauy/46Hc+dkB8b83nIhW6AzxvzazYXBzX/G/7w2rep908b8=",
                    "dtype": "f8"
                  },
                  "yaxis": "y"
                },
                {
                  "line": {
                    "color": "blue",
                    "dash": "dash",
                    "width": 1
                  },
                  "mode": "lines",
                  "name": "Tube boundary (eps=0.1)",
                  "showlegend": false,
                  "type": "scatter",
                  "x": {
                    "bdata": "IJ4GiSBZuj9MlMuEb7rNP2a1XqI1ltI/SNWHyAbR1D9MWjyxTEHfP5vt7iSrUeY/H9//GYn16D/lqeoEhvboP2GOAgmrSOs/hh/Y94wX7T9agVmsP1jtP5E0pluj8u8/X/4BerT88D9SbD9vX0z3P2nQvFUfX/c/AtUdkuFW+D+k3yhwfV74PwblUy4XT/0/Zyb35ZT2/T8YhR3zHUcBQMqTalopmwFA6vlzGSg+AkAYieq5wpEEQHwLCYCB/QRA3XRVP1OyB0Dc9/tLQ/IHQJjetu9qCwhALMtmYEJNCEBx0v+mX3kIQDmDNNOLXgtAIiNBx6lSDEAlAeYynkcNQLqIF6wzaA9Ao6p2kv4qEEB6rNg3G6YQQNGS1WXSUhFAVgJbQEv6EkD0ZXVBqAMTQCSB6DcJUBNARxTOPfBlE0A=",
                    "dtype": "f8"
                  },
                  "xaxis": "x",
                  "y": {
                    "bdata": "Vmdywd77vz/BxYt1rD3OP3IkzjNyWdI/LKeA7RRI1D/Cst+JqzPdP4ZKaI2p9+M/vuYdi8jo5T/wGZu1fOnlP6EmgDl7g+c/ON2KAlKv6D/yCAY7xtfoP7XDVE1mYuo/nilfkzF46z+Bml8Bwp3vP8MqCWS9ou8/JxqzmfjT7z9XlqYo/tTvPyumRVRj5+4/kelgRuuL7j830YuCW5jqP1gwObZQ1uk/bLAB7RA+6D9JC94SGjLhPyBEMJsngN8/UWYdVQ+Qxj+3CG6HhaTCP1E0y59/GME/1Hzw8XwSuj8GcKk0Rp60PzRnSXN0pdG/3sXA3MTd2L/yqEqyEtbfv3Zh/muhA+e/M+hIWm3G6b9zM1JE7WPsv2orAo6Bne+/fTt2k3Ob8r/RNSLwgabyv9BM+wkN+fK/iadEFDkO878=",
                    "dtype": "f8"
                  },
                  "yaxis": "y"
                },
                {
                  "fill": "tonexty",
                  "fillcolor": "rgba(255,0,255, 0.2)",
                  "line": {
                    "color": "blue",
                    "dash": "dash",
                    "width": 1
                  },
                  "mode": "lines",
                  "name": "Epsilon tube (eps=0.1)",
                  "showlegend": false,
                  "type": "scatter",
                  "x": {
                    "bdata": "IJ4GiSBZuj9MlMuEb7rNP2a1XqI1ltI/SNWHyAbR1D9MWjyxTEHfP5vt7iSrUeY/H9//GYn16D/lqeoEhvboP2GOAgmrSOs/hh/Y94wX7T9agVmsP1jtP5E0pluj8u8/X/4BerT88D9SbD9vX0z3P2nQvFUfX/c/AtUdkuFW+D+k3yhwfV74PwblUy4XT/0/Zyb35ZT2/T8YhR3zHUcBQMqTalopmwFA6vlzGSg+AkAYieq5wpEEQHwLCYCB/QRA3XRVP1OyB0Dc9/tLQ/IHQJjetu9qCwhALMtmYEJNCEBx0v+mX3kIQDmDNNOLXgtAIiNBx6lSDEAlAeYynkcNQLqIF6wzaA9Ao6p2kv4qEEB6rNg3G6YQQNGS1WXSUhFAVgJbQEv6EkD0ZXVBqAMTQCSB6DcJUBNARxTOPfBlE0A=",
                    "dtype": "f8"
                  },
                  "xaxis": "x",
                  "y": {
                    "bdata": "omYpfcTL1D+ur5IHo+vbPz7xmgA/Jt8//Lkm3XCK4D/HP1YrPADlP+ywzvMPXuo/JE2E8S5P7D9WgAEc40/sPweN5p/h6e0/nkPxaLgV7z9Yb2yhLD7vPw6V3VlmZPA/Asji/Evv8D90AOMzFALzP5XIN+WRBPM/R8AMgC8d8z9ffoZHsh3zP0kGVt3kpvI//Kdj1ih58j/PG3n0YH/wP1/LT45bHvA/0hZoU3ek7j+vcUR5gJjnP3aI/jN6JuY/9n9bd9QU2D8o0YOQDx/WP/ZmspwMWdU/AuxICWxR0z/OKPdZXvTRP55p8pmeYrO/I/LnH/AhyL8k3H3lRQnTvxD7lwU7neC/zYHi8wZg478Nzevdhv3lvwTFmycbN+m/kxCGwIDQ7r87Bd55nebuvzkzkK2zi++/q+giwgu2778=",
                    "dtype": "f8"
                  },
                  "yaxis": "y"
                },
                {
                  "marker": {
                    "color": "black",
                    "size": 6
                  },
                  "mode": "markers",
                  "name": "Data (eps=0.5)",
                  "showlegend": false,
                  "type": "scatter",
                  "x": {
                    "bdata": "IJ4GiSBZuj9MlMuEb7rNP2a1XqI1ltI/SNWHyAbR1D9MWjyxTEHfP5vt7iSrUeY/H9//GYn16D/lqeoEhvboP2GOAgmrSOs/hh/Y94wX7T9agVmsP1jtP5E0pluj8u8/X/4BerT88D9SbD9vX0z3P2nQvFUfX/c/AtUdkuFW+D+k3yhwfV74PwblUy4XT/0/Zyb35ZT2/T8YhR3zHUcBQMqTalopmwFA6vlzGSg+AkAYieq5wpEEQHwLCYCB/QRA3XRVP1OyB0Dc9/tLQ/IHQJjetu9qCwhALMtmYEJNCEBx0v+mX3kIQDmDNNOLXgtAIiNBx6lSDEAlAeYynkcNQLqIF6wzaA9Ao6p2kv4qEEB6rNg3G6YQQNGS1WXSUhFAVgJbQEv6EkD0ZXVBqAMTQCSB6DcJUBNARxTOPfBlE0A=",
                    "dtype": "f8"
                  },
                  "xaxis": "x2",
                  "y": {
                    "bdata": "AOpDgTjJ8z/xJb5nM3bNP+TmcbaaU9I/xdRbao9z1D+gNwQ9BgfeP35RUCIXBOU/PKTz/RqB5j9e1unJzoHmP33t0PKiGOg/4P37RTY/6T+nv3JbaIYBQK7XBgga5uo/affwwh3x6z81PC/ON8rvP1HNBzBszu8/pDIIjRtWzb8B5pnjq/bvP3eWsoyH6u4/a06XBn6N7j+2dkfL8ZvqP/8sAbzfgfg/RsxbM+JG6D/7rtaxkEfhP0Wv2sm7rd8/4ITYr/Xaxj+IWm7VcL/Vvyb5XU9LW8E/DiI5wOKKuj+uyn/dXQ21P7STPS0UqdG/yE9pPjiaxj+S1oRBzLXfv8x2CvUtmua/N7MdNAUT6b+FEADNIEfrvw0jlIU4oO+/wUxMwMv777/HsB7dDfnvv5alCqkpye+//45wGxCz778=",
                    "dtype": "f8"
                  },
                  "yaxis": "y2"
                },
                {
                  "line": {
                    "color": "green",
                    "width": 3
                  },
                  "mode": "lines",
                  "name": "SVR (eps=0.5)",
                  "showlegend": false,
                  "type": "scatter",
                  "x": {
                    "bdata": "IJ4GiSBZuj9MlMuEb7rNP2a1XqI1ltI/SNWHyAbR1D9MWjyxTEHfP5vt7iSrUeY/H9//GYn16D/lqeoEhvboP2GOAgmrSOs/hh/Y94wX7T9agVmsP1jtP5E0pluj8u8/X/4BerT88D9SbD9vX0z3P2nQvFUfX/c/AtUdkuFW+D+k3yhwfV74PwblUy4XT/0/Zyb35ZT2/T8YhR3zHUcBQMqTalopmwFA6vlzGSg+AkAYieq5wpEEQHwLCYCB/QRA3XRVP1OyB0Dc9/tLQ/IHQJjetu9qCwhALMtmYEJNCEBx0v+mX3kIQDmDNNOLXgtAIiNBx6lSDEAlAeYynkcNQLqIF6wzaA9Ao6p2kv4qEEB6rNg3G6YQQNGS1WXSUhFAVgJbQEv6EkD0ZXVBqAMTQCSB6DcJUBNARxTOPfBlE0A=",
                    "dtype": "f8"
                  },
                  "xaxis": "x2",
                  "y": {
                    "bdata": "/cv8W9Sc4z9Mwy+g+GrnP9xYPObZJek/NCoJPdsu6j92PXmkTfHuPzDfVqIrRvI/rBbV/G1B8z/K96vbx0HzP/uNlxyHC/Q/ogd8fN6a9D/2Bnyv4K30Pxe8i+QlYvU/GB/hENnZ9T+Ip8F7+/X2P492fL9P9PY/9QCYrUPT9j/MTzdS7dH2Py85XVi17/Q/wjnn++SK9D9OyGCpgffwP5TIkgzsWvA/Ekyojwo57j9UlRP2mDTkPyIcys+UTeI/Ovvtz9i8yD/aPFqNcHbEP8XoqXnQy8I/MPQDY+v0vD+OztdSHD+3Pyy5nQlEcs6/wKVdjHyq1L+ihN0InkjZv8aArgFBOeC/q/udKuQi4b9PwFPZq7LhvzD2FfPz5uG/1c9Qn7JY4L+I7TMFq0rgv2Bv2VOxqN+/FLJgDuli378=",
                    "dtype": "f8"
                  },
                  "yaxis": "y2"
                },
                {
                  "line": {
                    "color": "green",
                    "dash": "dash",
                    "width": 1
                  },
                  "mode": "lines",
                  "name": "Tube boundary (eps=0.5)",
                  "showlegend": false,
                  "type": "scatter",
                  "x": {
                    "bdata": "IJ4GiSBZuj9MlMuEb7rNP2a1XqI1ltI/SNWHyAbR1D9MWjyxTEHfP5vt7iSrUeY/H9//GYn16D/lqeoEhvboP2GOAgmrSOs/hh/Y94wX7T9agVmsP1jtP5E0pluj8u8/X/4BerT88D9SbD9vX0z3P2nQvFUfX/c/AtUdkuFW+D+k3yhwfV74PwblUy4XT/0/Zyb35ZT2/T8YhR3zHUcBQMqTalopmwFA6vlzGSg+AkAYieq5wpEEQHwLCYCB/QRA3XRVP1OyB0Dc9/tLQ/IHQJjetu9qCwhALMtmYEJNCEBx0v+mX3kIQDmDNNOLXgtAIiNBx6lSDEAlAeYynkcNQLqIF6wzaA9Ao6p2kv4qEEB6rNg3G6YQQNGS1WXSUhFAVgJbQEv6EkD0ZXVBqAMTQCSB6DcJUBNARxTOPfBlE0A=",
                    "dtype": "f8"
                  },
                  "xaxis": "x2",
                  "y": {
                    "bdata": "6F/m36LmvD8wDb+A4qvNP7ixeMyzS9I/aFQSerZd1D/sevJIm+LdP2C+rURXjOQ/WC2q+duC5j+U71e3j4PmP/YbLzkOF+g/RA/4+Lw16T/sDfhewVvpPy54F8lLxOo/MD7CIbKz6z8QT4P39uvtPx7t+H6f6O0/6gEwW4em7T+Yn26k2qPtP15yurBq3+k/hHPO98kV6T+ckMFSA+/hPyiRJRnYteA/JJhQHxVy3D9QVU7YY9LAPxDhUH6mbLI/YwIJmJOh07+T4VK5x8TVv54LK8MXmta/9AI/J8XC2L9cDErrODDav0tuZwKRnOe/4NIuRj5V6r9Rwm4ET6Tsv2NA14CgHPC/1v1OFXKR8L8o4KnsVdnwvxj7ivl58/C/6meoT1ks8L/E9pmCVSXwv7C37KlY1O+/Clkwh3Sx778=",
                    "dtype": "f8"
                  },
                  "yaxis": "y2"
                },
                {
                  "fill": "tonexty",
                  "fillcolor": "rgba(0,128,0, 0.2)",
                  "line": {
                    "color": "green",
                    "dash": "dash",
                    "width": 1
                  },
                  "mode": "lines",
                  "name": "Epsilon tube (eps=0.5)",
                  "showlegend": false,
                  "type": "scatter",
                  "x": {
                    "bdata": "IJ4GiSBZuj9MlMuEb7rNP2a1XqI1ltI/SNWHyAbR1D9MWjyxTEHfP5vt7iSrUeY/H9//GYn16D/lqeoEhvboP2GOAgmrSOs/hh/Y94wX7T9agVmsP1jtP5E0pluj8u8/X/4BerT88D9SbD9vX0z3P2nQvFUfX/c/AtUdkuFW+D+k3yhwfV74PwblUy4XT/0/Zyb35ZT2/T8YhR3zHUcBQMqTalopmwFA6vlzGSg+AkAYieq5wpEEQHwLCYCB/QRA3XRVP1OyB0Dc9/tLQ/IHQJjetu9qCwhALMtmYEJNCEBx0v+mX3kIQDmDNNOLXgtAIiNBx6lSDEAlAeYynkcNQLqIF6wzaA9Ao6p2kv4qEEB6rNg3G6YQQNGS1WXSUhFAVgJbQEv6EkD0ZXVBqAMTQCSB6DcJUBNARxTOPfBlE0A=",
                    "dtype": "f8"
                  },
                  "xaxis": "x2",
                  "y": {
                    "bdata": "/mX+LWrO8T+m4RdQfLXzP24sHvPskvQ/GpWEnm0X9T+7njzSpnj3PzDfVqIrRvo/rBbV/G1B+z/K96vbx0H7P/uNlxyHC/w/ogd8fN6a/D/2Bnyv4K38Pxe8i+QlYv0/GB/hENnZ/T+Ip8F7+/X+P492fL9P9P4/9QCYrUPT/j/MTzdS7dH+Py85XVi17/w/wjnn++SK/D9OyGCpgff4P5TIkgzsWvg/CSbUR4Uc9z+qygl7TBryPxEO5WfKJvE/zn77MzYv5j82j1YjnB3lPzF6ah70suQ/hn5gbJ2e4z/S+VqK4+fiP2ojMfvdxtA/gLRE5warxj947Ynch926PwBjQNeAoHy/sLrfqUIuor/wBDyVvSqrvwBjXzE/b66/QPUz1Kcshr8AYvtMwaqCvwAopAmr03U/gL3pM96igz8=",
                    "dtype": "f8"
                  },
                  "yaxis": "y2"
                },
                {
                  "marker": {
                    "color": "black",
                    "size": 6
                  },
                  "mode": "markers",
                  "name": "Data (eps=1.0)",
                  "showlegend": false,
                  "type": "scatter",
                  "x": {
                    "bdata": "IJ4GiSBZuj9MlMuEb7rNP2a1XqI1ltI/SNWHyAbR1D9MWjyxTEHfP5vt7iSrUeY/H9//GYn16D/lqeoEhvboP2GOAgmrSOs/hh/Y94wX7T9agVmsP1jtP5E0pluj8u8/X/4BerT88D9SbD9vX0z3P2nQvFUfX/c/AtUdkuFW+D+k3yhwfV74PwblUy4XT/0/Zyb35ZT2/T8YhR3zHUcBQMqTalopmwFA6vlzGSg+AkAYieq5wpEEQHwLCYCB/QRA3XRVP1OyB0Dc9/tLQ/IHQJjetu9qCwhALMtmYEJNCEBx0v+mX3kIQDmDNNOLXgtAIiNBx6lSDEAlAeYynkcNQLqIF6wzaA9Ao6p2kv4qEEB6rNg3G6YQQNGS1WXSUhFAVgJbQEv6EkD0ZXVBqAMTQCSB6DcJUBNARxTOPfBlE0A=",
                    "dtype": "f8"
                  },
                  "xaxis": "x3",
                  "y": {
                    "bdata": "AOpDgTjJ8z/xJb5nM3bNP+TmcbaaU9I/xdRbao9z1D+gNwQ9BgfeP35RUCIXBOU/PKTz/RqB5j9e1unJzoHmP33t0PKiGOg/4P37RTY/6T+nv3JbaIYBQK7XBgga5uo/affwwh3x6z81PC/ON8rvP1HNBzBszu8/pDIIjRtWzb8B5pnjq/bvP3eWsoyH6u4/a06XBn6N7j+2dkfL8ZvqP/8sAbzfgfg/RsxbM+JG6D/7rtaxkEfhP0Wv2sm7rd8/4ITYr/Xaxj+IWm7VcL/Vvyb5XU9LW8E/DiI5wOKKuj+uyn/dXQ21P7STPS0UqdG/yE9pPjiaxj+S1oRBzLXfv8x2CvUtmua/N7MdNAUT6b+FEADNIEfrvw0jlIU4oO+/wUxMwMv777/HsB7dDfnvv5alCqkpye+//45wGxCz778=",
                    "dtype": "f8"
                  },
                  "yaxis": "y3"
                },
                {
                  "line": {
                    "color": "purple",
                    "width": 3
                  },
                  "mode": "lines",
                  "name": "SVR (eps=1.0)",
                  "showlegend": false,
                  "type": "scatter",
                  "x": {
                    "bdata": "IJ4GiSBZuj9MlMuEb7rNP2a1XqI1ltI/SNWHyAbR1D9MWjyxTEHfP5vt7iSrUeY/H9//GYn16D/lqeoEhvboP2GOAgmrSOs/hh/Y94wX7T9agVmsP1jtP5E0pluj8u8/X/4BerT88D9SbD9vX0z3P2nQvFUfX/c/AtUdkuFW+D+k3yhwfV74PwblUy4XT/0/Zyb35ZT2/T8YhR3zHUcBQMqTalopmwFA6vlzGSg+AkAYieq5wpEEQHwLCYCB/QRA3XRVP1OyB0Dc9/tLQ/IHQJjetu9qCwhALMtmYEJNCEBx0v+mX3kIQDmDNNOLXgtAIiNBx6lSDEAlAeYynkcNQLqIF6wzaA9Ao6p2kv4qEEB6rNg3G6YQQNGS1WXSUhFAVgJbQEv6EkD0ZXVBqAMTQCSB6DcJUBNARxTOPfBlE0A=",
                    "dtype": "f8"
                  },
                  "xaxis": "x3",
                  "y": {
                    "bdata": "mivDq6c/8j9Ygu28FK/zP+KC8fPQI/Q/KKcMZelb9D96DrGEDOH0P2CV/T9YefQ/gpU5LmwK9D8oCVVYPAr0P5ATspMMjvM//D01bmse8z/WCctd4w3zPyTZsNUFWPI/bkIBGQO+8T9MeYxw4TjrP3xlZuy0IOs/GGYyypPm6T+UAjNgGt3pP8R3GB+hhuQ/sPB5Leb34z9wPPWR8TjhPzgeD4KQ/+A/kAbzC4St4D/8LjYizprgPxjP2CKAu+A/UNYBu8bl4T/ILFM04v3hP0SjtuS4BuI/3IgH7d0b4j/wvKOqPCjiPwiadfaOl+E/UDX9T2SW4D+IkIyB2RXePzAlOJ3zz9I/8OLihh+rxz/A7wniawuqPzDsClxGHca/3iPqnx4Q7L+Q1p68uqDsv/MxY9L0qPC/bHOORn1Y8b8=",
                    "dtype": "f8"
                  },
                  "yaxis": "y3"
                },
                {
                  "line": {
                    "color": "purple",
                    "dash": "dash",
                    "width": 1
                  },
                  "mode": "lines",
                  "name": "Tube boundary (eps=1.0)",
                  "showlegend": false,
                  "type": "scatter",
                  "x": {
                    "bdata": "IJ4GiSBZuj9MlMuEb7rNP2a1XqI1ltI/SNWHyAbR1D9MWjyxTEHfP5vt7iSrUeY/H9//GYn16D/lqeoEhvboP2GOAgmrSOs/hh/Y94wX7T9agVmsP1jtP5E0pluj8u8/X/4BerT88D9SbD9vX0z3P2nQvFUfX/c/AtUdkuFW+D+k3yhwfV74PwblUy4XT/0/Zyb35ZT2/T8YhR3zHUcBQMqTalopmwFA6vlzGSg+AkAYieq5wpEEQHwLCYCB/QRA3XRVP1OyB0Dc9/tLQ/IHQJjetu9qCwhALMtmYEJNCEBx0v+mX3kIQDmDNNOLXgtAIiNBx6lSDEAlAeYynkcNQLqIF6wzaA9Ao6p2kv4qEEB6rNg3G6YQQNGS1WXSUhFAVgJbQEv6EkD0ZXVBqAMTQCSB6DcJUBNARxTOPfBlE0A=",
                    "dtype": "f8"
                  },
                  "xaxis": "x3",
                  "y": {
                    "bdata": "0FwZXj39wT/AEmznpXjNP4gLxs9Dj9A/oJwylKVv0T/oOcQSMoTTP4BV9v9g5dE/CFbmuLAp0D+gJFRh8SjQP4CckJ1kcMw/4O+pcVvzyD+wTljuGm/IPyDJhq0uwMI/4CYUkDHguz/QGs49ehzDvxBqZk4sfcO/oGc217BlyL+w9TN/lovIv3gQz8G98ta/oB4MpTMQ2L8ghxXcHI7dv5DD4fveAN6/4PIZ6Pek3r8IopO7Y8rev9BhTrr/iN6/YFP8iXI03L9wplmXOwTcv3i5kjaO8tu/SO7wJUTI278ghriqhq/bv/DLFBPi0Ny/YJUFYDfT3r+8tzk/E/Xgv2jtYzEGmOa/REdHHjgV6r8EYd9BSV/uv4Zdgcuow/K/7xH1Tw8I/r9Ia09eXVD+v/qYMWl6VADAtjlHoz6sAMA=",
                    "dtype": "f8"
                  },
                  "yaxis": "y3"
                },
                {
                  "fill": "tonexty",
                  "fillcolor": "rgba(128,0,128, 0.2)",
                  "line": {
                    "color": "purple",
                    "dash": "dash",
                    "width": 1
                  },
                  "mode": "lines",
                  "name": "Epsilon tube (eps=1.0)",
                  "showlegend": false,
                  "type": "scatter",
                  "x": {
                    "bdata": "IJ4GiSBZuj9MlMuEb7rNP2a1XqI1ltI/SNWHyAbR1D9MWjyxTEHfP5vt7iSrUeY/H9//GYn16D/lqeoEhvboP2GOAgmrSOs/hh/Y94wX7T9agVmsP1jtP5E0pluj8u8/X/4BerT88D9SbD9vX0z3P2nQvFUfX/c/AtUdkuFW+D+k3yhwfV74PwblUy4XT/0/Zyb35ZT2/T8YhR3zHUcBQMqTalopmwFA6vlzGSg+AkAYieq5wpEEQHwLCYCB/QRA3XRVP1OyB0Dc9/tLQ/IHQJjetu9qCwhALMtmYEJNCEBx0v+mX3kIQDmDNNOLXgtAIiNBx6lSDEAlAeYynkcNQLqIF6wzaA9Ao6p2kv4qEEB6rNg3G6YQQNGS1WXSUhFAVgJbQEv6EkD0ZXVBqAMTQCSB6DcJUBNARxTOPfBlE0A=",
                    "dtype": "f8"
                  },
                  "xaxis": "x3",
                  "y": {
                    "bdata": "zZXh1dMfAUAswXZeitcBQHHB+HnoEQJAlFOGsvQtAkA9h1hChnACQLDK/h+sPAJAwcocFzYFAkCUhCosHgUCQMgJ2UkGxwFA/p4atzWPAUDrhOWu8YYBQJJs2OoCLAFAN6GAjAHfAECmPEa4cJz9P74yM3ZakP0/DDMZ5Unz/D9KgRkwje78P+I7jI9QQ/o/WPi8FvP7+T84nvrIeJz4PxyPB0HIf/g/SIP5BcJW+D9+FxsRZ034P4xnbBHAXfg/KOuAXePy+D9klika8f74P6JRW3JcA/k/bsSD9u4N+T943lFVHhT5PwTNOnvHy/g/qJr+JzJL+D8iJGNgdoX3P0wJTuf8s/Q/Xlzc8GP18j9+TxBfW9DwP/RE/WiueOo/EOGuAAt/vz+ASwkbKvq6P2A+ZkyaHqW/wDbnaNSHtb8=",
                    "dtype": "f8"
                  },
                  "yaxis": "y3"
                }
              ],
              "layout": {
                "annotations": [
                  {
                    "font": {
                      "size": 16
                    },
                    "showarrow": false,
                    "text": "Epsilon = 0.1",
                    "x": 0.13333333333333333,
                    "xanchor": "center",
                    "xref": "paper",
                    "y": 1,
                    "yanchor": "bottom",
                    "yref": "paper"
                  },
                  {
                    "font": {
                      "size": 16
                    },
                    "showarrow": false,
                    "text": "Epsilon = 0.5",
                    "x": 0.5,
                    "xanchor": "center",
                    "xref": "paper",
                    "y": 1,
                    "yanchor": "bottom",
                    "yref": "paper"
                  },
                  {
                    "font": {
                      "size": 16
                    },
                    "showarrow": false,
                    "text": "Epsilon = 1.0",
                    "x": 0.8666666666666667,
                    "xanchor": "center",
                    "xref": "paper",
                    "y": 1,
                    "yanchor": "bottom",
                    "yref": "paper"
                  }
                ],
                "height": 400,
                "showlegend": false,
                "template": {
                  "data": {
                    "bar": [
                      {
                        "error_x": {
                          "color": "#2a3f5f"
                        },
                        "error_y": {
                          "color": "#2a3f5f"
                        },
                        "marker": {
                          "line": {
                            "color": "white",
                            "width": 0.5
                          },
                          "pattern": {
                            "fillmode": "overlay",
                            "size": 10,
                            "solidity": 0.2
                          }
                        },
                        "type": "bar"
                      }
                    ],
                    "barpolar": [
                      {
                        "marker": {
                          "line": {
                            "color": "white",
                            "width": 0.5
                          },
                          "pattern": {
                            "fillmode": "overlay",
                            "size": 10,
                            "solidity": 0.2
                          }
                        },
                        "type": "barpolar"
                      }
                    ],
                    "carpet": [
                      {
                        "aaxis": {
                          "endlinecolor": "#2a3f5f",
                          "gridcolor": "#C8D4E3",
                          "linecolor": "#C8D4E3",
                          "minorgridcolor": "#C8D4E3",
                          "startlinecolor": "#2a3f5f"
                        },
                        "baxis": {
                          "endlinecolor": "#2a3f5f",
                          "gridcolor": "#C8D4E3",
                          "linecolor": "#C8D4E3",
                          "minorgridcolor": "#C8D4E3",
                          "startlinecolor": "#2a3f5f"
                        },
                        "type": "carpet"
                      }
                    ],
                    "choropleth": [
                      {
                        "colorbar": {
                          "outlinewidth": 0,
                          "ticks": ""
                        },
                        "type": "choropleth"
                      }
                    ],
                    "contour": [
                      {
                        "colorbar": {
                          "outlinewidth": 0,
                          "ticks": ""
                        },
                        "colorscale": [
                          [
                            0,
                            "#0d0887"
                          ],
                          [
                            0.1111111111111111,
                            "#46039f"
                          ],
                          [
                            0.2222222222222222,
                            "#7201a8"
                          ],
                          [
                            0.3333333333333333,
                            "#9c179e"
                          ],
                          [
                            0.4444444444444444,
                            "#bd3786"
                          ],
                          [
                            0.5555555555555556,
                            "#d8576b"
                          ],
                          [
                            0.6666666666666666,
                            "#ed7953"
                          ],
                          [
                            0.7777777777777778,
                            "#fb9f3a"
                          ],
                          [
                            0.8888888888888888,
                            "#fdca26"
                          ],
                          [
                            1,
                            "#f0f921"
                          ]
                        ],
                        "type": "contour"
                      }
                    ],
                    "contourcarpet": [
                      {
                        "colorbar": {
                          "outlinewidth": 0,
                          "ticks": ""
                        },
                        "type": "contourcarpet"
                      }
                    ],
                    "heatmap": [
                      {
                        "colorbar": {
                          "outlinewidth": 0,
                          "ticks": ""
                        },
                        "colorscale": [
                          [
                            0,
                            "#0d0887"
                          ],
                          [
                            0.1111111111111111,
                            "#46039f"
                          ],
                          [
                            0.2222222222222222,
                            "#7201a8"
                          ],
                          [
                            0.3333333333333333,
                            "#9c179e"
                          ],
                          [
                            0.4444444444444444,
                            "#bd3786"
                          ],
                          [
                            0.5555555555555556,
                            "#d8576b"
                          ],
                          [
                            0.6666666666666666,
                            "#ed7953"
                          ],
                          [
                            0.7777777777777778,
                            "#fb9f3a"
                          ],
                          [
                            0.8888888888888888,
                            "#fdca26"
                          ],
                          [
                            1,
                            "#f0f921"
                          ]
                        ],
                        "type": "heatmap"
                      }
                    ],
                    "histogram": [
                      {
                        "marker": {
                          "pattern": {
                            "fillmode": "overlay",
                            "size": 10,
                            "solidity": 0.2
                          }
                        },
                        "type": "histogram"
                      }
                    ],
                    "histogram2d": [
                      {
                        "colorbar": {
                          "outlinewidth": 0,
                          "ticks": ""
                        },
                        "colorscale": [
                          [
                            0,
                            "#0d0887"
                          ],
                          [
                            0.1111111111111111,
                            "#46039f"
                          ],
                          [
                            0.2222222222222222,
                            "#7201a8"
                          ],
                          [
                            0.3333333333333333,
                            "#9c179e"
                          ],
                          [
                            0.4444444444444444,
                            "#bd3786"
                          ],
                          [
                            0.5555555555555556,
                            "#d8576b"
                          ],
                          [
                            0.6666666666666666,
                            "#ed7953"
                          ],
                          [
                            0.7777777777777778,
                            "#fb9f3a"
                          ],
                          [
                            0.8888888888888888,
                            "#fdca26"
                          ],
                          [
                            1,
                            "#f0f921"
                          ]
                        ],
                        "type": "histogram2d"
                      }
                    ],
                    "histogram2dcontour": [
                      {
                        "colorbar": {
                          "outlinewidth": 0,
                          "ticks": ""
                        },
                        "colorscale": [
                          [
                            0,
                            "#0d0887"
                          ],
                          [
                            0.1111111111111111,
                            "#46039f"
                          ],
                          [
                            0.2222222222222222,
                            "#7201a8"
                          ],
                          [
                            0.3333333333333333,
                            "#9c179e"
                          ],
                          [
                            0.4444444444444444,
                            "#bd3786"
                          ],
                          [
                            0.5555555555555556,
                            "#d8576b"
                          ],
                          [
                            0.6666666666666666,
                            "#ed7953"
                          ],
                          [
                            0.7777777777777778,
                            "#fb9f3a"
                          ],
                          [
                            0.8888888888888888,
                            "#fdca26"
                          ],
                          [
                            1,
                            "#f0f921"
                          ]
                        ],
                        "type": "histogram2dcontour"
                      }
                    ],
                    "mesh3d": [
                      {
                        "colorbar": {
                          "outlinewidth": 0,
                          "ticks": ""
                        },
                        "type": "mesh3d"
                      }
                    ],
                    "parcoords": [
                      {
                        "line": {
                          "colorbar": {
                            "outlinewidth": 0,
                            "ticks": ""
                          }
                        },
                        "type": "parcoords"
                      }
                    ],
                    "pie": [
                      {
                        "automargin": true,
                        "type": "pie"
                      }
                    ],
                    "scatter": [
                      {
                        "fillpattern": {
                          "fillmode": "overlay",
                          "size": 10,
                          "solidity": 0.2
                        },
                        "type": "scatter"
                      }
                    ],
                    "scatter3d": [
                      {
                        "line": {
                          "colorbar": {
                            "outlinewidth": 0,
                            "ticks": ""
                          }
                        },
                        "marker": {
                          "colorbar": {
                            "outlinewidth": 0,
                            "ticks": ""
                          }
                        },
                        "type": "scatter3d"
                      }
                    ],
                    "scattercarpet": [
                      {
                        "marker": {
                          "colorbar": {
                            "outlinewidth": 0,
                            "ticks": ""
                          }
                        },
                        "type": "scattercarpet"
                      }
                    ],
                    "scattergeo": [
                      {
                        "marker": {
                          "colorbar": {
                            "outlinewidth": 0,
                            "ticks": ""
                          }
                        },
                        "type": "scattergeo"
                      }
                    ],
                    "scattergl": [
                      {
                        "marker": {
                          "colorbar": {
                            "outlinewidth": 0,
                            "ticks": ""
                          }
                        },
                        "type": "scattergl"
                      }
                    ],
                    "scattermap": [
                      {
                        "marker": {
                          "colorbar": {
                            "outlinewidth": 0,
                            "ticks": ""
                          }
                        },
                        "type": "scattermap"
                      }
                    ],
                    "scattermapbox": [
                      {
                        "marker": {
                          "colorbar": {
                            "outlinewidth": 0,
                            "ticks": ""
                          }
                        },
                        "type": "scattermapbox"
                      }
                    ],
                    "scatterpolar": [
                      {
                        "marker": {
                          "colorbar": {
                            "outlinewidth": 0,
                            "ticks": ""
                          }
                        },
                        "type": "scatterpolar"
                      }
                    ],
                    "scatterpolargl": [
                      {
                        "marker": {
                          "colorbar": {
                            "outlinewidth": 0,
                            "ticks": ""
                          }
                        },
                        "type": "scatterpolargl"
                      }
                    ],
                    "scatterternary": [
                      {
                        "marker": {
                          "colorbar": {
                            "outlinewidth": 0,
                            "ticks": ""
                          }
                        },
                        "type": "scatterternary"
                      }
                    ],
                    "surface": [
                      {
                        "colorbar": {
                          "outlinewidth": 0,
                          "ticks": ""
                        },
                        "colorscale": [
                          [
                            0,
                            "#0d0887"
                          ],
                          [
                            0.1111111111111111,
                            "#46039f"
                          ],
                          [
                            0.2222222222222222,
                            "#7201a8"
                          ],
                          [
                            0.3333333333333333,
                            "#9c179e"
                          ],
                          [
                            0.4444444444444444,
                            "#bd3786"
                          ],
                          [
                            0.5555555555555556,
                            "#d8576b"
                          ],
                          [
                            0.6666666666666666,
                            "#ed7953"
                          ],
                          [
                            0.7777777777777778,
                            "#fb9f3a"
                          ],
                          [
                            0.8888888888888888,
                            "#fdca26"
                          ],
                          [
                            1,
                            "#f0f921"
                          ]
                        ],
                        "type": "surface"
                      }
                    ],
                    "table": [
                      {
                        "cells": {
                          "fill": {
                            "color": "#EBF0F8"
                          },
                          "line": {
                            "color": "white"
                          }
                        },
                        "header": {
                          "fill": {
                            "color": "#C8D4E3"
                          },
                          "line": {
                            "color": "white"
                          }
                        },
                        "type": "table"
                      }
                    ]
                  },
                  "layout": {
                    "annotationdefaults": {
                      "arrowcolor": "#2a3f5f",
                      "arrowhead": 0,
                      "arrowwidth": 1
                    },
                    "autotypenumbers": "strict",
                    "coloraxis": {
                      "colorbar": {
                        "outlinewidth": 0,
                        "ticks": ""
                      }
                    },
                    "colorscale": {
                      "diverging": [
                        [
                          0,
                          "#8e0152"
                        ],
                        [
                          0.1,
                          "#c51b7d"
                        ],
                        [
                          0.2,
                          "#de77ae"
                        ],
                        [
                          0.3,
                          "#f1b6da"
                        ],
                        [
                          0.4,
                          "#fde0ef"
                        ],
                        [
                          0.5,
                          "#f7f7f7"
                        ],
                        [
                          0.6,
                          "#e6f5d0"
                        ],
                        [
                          0.7,
                          "#b8e186"
                        ],
                        [
                          0.8,
                          "#7fbc41"
                        ],
                        [
                          0.9,
                          "#4d9221"
                        ],
                        [
                          1,
                          "#276419"
                        ]
                      ],
                      "sequential": [
                        [
                          0,
                          "#0d0887"
                        ],
                        [
                          0.1111111111111111,
                          "#46039f"
                        ],
                        [
                          0.2222222222222222,
                          "#7201a8"
                        ],
                        [
                          0.3333333333333333,
                          "#9c179e"
                        ],
                        [
                          0.4444444444444444,
                          "#bd3786"
                        ],
                        [
                          0.5555555555555556,
                          "#d8576b"
                        ],
                        [
                          0.6666666666666666,
                          "#ed7953"
                        ],
                        [
                          0.7777777777777778,
                          "#fb9f3a"
                        ],
                        [
                          0.8888888888888888,
                          "#fdca26"
                        ],
                        [
                          1,
                          "#f0f921"
                        ]
                      ],
                      "sequentialminus": [
                        [
                          0,
                          "#0d0887"
                        ],
                        [
                          0.1111111111111111,
                          "#46039f"
                        ],
                        [
                          0.2222222222222222,
                          "#7201a8"
                        ],
                        [
                          0.3333333333333333,
                          "#9c179e"
                        ],
                        [
                          0.4444444444444444,
                          "#bd3786"
                        ],
                        [
                          0.5555555555555556,
                          "#d8576b"
                        ],
                        [
                          0.6666666666666666,
                          "#ed7953"
                        ],
                        [
                          0.7777777777777778,
                          "#fb9f3a"
                        ],
                        [
                          0.8888888888888888,
                          "#fdca26"
                        ],
                        [
                          1,
                          "#f0f921"
                        ]
                      ]
                    },
                    "colorway": [
                      "#636efa",
                      "#EF553B",
                      "#00cc96",
                      "#ab63fa",
                      "#FFA15A",
                      "#19d3f3",
                      "#FF6692",
                      "#B6E880",
                      "#FF97FF",
                      "#FECB52"
                    ],
                    "font": {
                      "color": "#2a3f5f"
                    },
                    "geo": {
                      "bgcolor": "white",
                      "lakecolor": "white",
                      "landcolor": "white",
                      "showlakes": true,
                      "showland": true,
                      "subunitcolor": "#C8D4E3"
                    },
                    "hoverlabel": {
                      "align": "left"
                    },
                    "hovermode": "closest",
                    "mapbox": {
                      "style": "light"
                    },
                    "paper_bgcolor": "white",
                    "plot_bgcolor": "white",
                    "polar": {
                      "angularaxis": {
                        "gridcolor": "#EBF0F8",
                        "linecolor": "#EBF0F8",
                        "ticks": ""
                      },
                      "bgcolor": "white",
                      "radialaxis": {
                        "gridcolor": "#EBF0F8",
                        "linecolor": "#EBF0F8",
                        "ticks": ""
                      }
                    },
                    "scene": {
                      "xaxis": {
                        "backgroundcolor": "white",
                        "gridcolor": "#DFE8F3",
                        "gridwidth": 2,
                        "linecolor": "#EBF0F8",
                        "showbackground": true,
                        "ticks": "",
                        "zerolinecolor": "#EBF0F8"
                      },
                      "yaxis": {
                        "backgroundcolor": "white",
                        "gridcolor": "#DFE8F3",
                        "gridwidth": 2,
                        "linecolor": "#EBF0F8",
                        "showbackground": true,
                        "ticks": "",
                        "zerolinecolor": "#EBF0F8"
                      },
                      "zaxis": {
                        "backgroundcolor": "white",
                        "gridcolor": "#DFE8F3",
                        "gridwidth": 2,
                        "linecolor": "#EBF0F8",
                        "showbackground": true,
                        "ticks": "",
                        "zerolinecolor": "#EBF0F8"
                      }
                    },
                    "shapedefaults": {
                      "line": {
                        "color": "#2a3f5f"
                      }
                    },
                    "ternary": {
                      "aaxis": {
                        "gridcolor": "#DFE8F3",
                        "linecolor": "#A2B1C6",
                        "ticks": ""
                      },
                      "baxis": {
                        "gridcolor": "#DFE8F3",
                        "linecolor": "#A2B1C6",
                        "ticks": ""
                      },
                      "bgcolor": "white",
                      "caxis": {
                        "gridcolor": "#DFE8F3",
                        "linecolor": "#A2B1C6",
                        "ticks": ""
                      }
                    },
                    "title": {
                      "x": 0.05
                    },
                    "xaxis": {
                      "automargin": true,
                      "gridcolor": "#EBF0F8",
                      "linecolor": "#EBF0F8",
                      "ticks": "",
                      "title": {
                        "standoff": 15
                      },
                      "zerolinecolor": "#EBF0F8",
                      "zerolinewidth": 2
                    },
                    "yaxis": {
                      "automargin": true,
                      "gridcolor": "#EBF0F8",
                      "linecolor": "#EBF0F8",
                      "ticks": "",
                      "title": {
                        "standoff": 15
                      },
                      "zerolinecolor": "#EBF0F8",
                      "zerolinewidth": 2
                    }
                  }
                },
                "title": {
                  "text": "Epsilon 값에 따른 SVR Tube 변화"
                },
                "xaxis": {
                  "anchor": "y",
                  "domain": [
                    0,
                    0.26666666666666666
                  ],
                  "title": {
                    "text": "Feature (X)"
                  }
                },
                "xaxis2": {
                  "anchor": "y2",
                  "domain": [
                    0.3666666666666667,
                    0.6333333333333333
                  ],
                  "title": {
                    "text": "Feature (X)"
                  }
                },
                "xaxis3": {
                  "anchor": "y3",
                  "domain": [
                    0.7333333333333334,
                    1
                  ],
                  "title": {
                    "text": "Feature (X)"
                  }
                },
                "yaxis": {
                  "anchor": "x",
                  "domain": [
                    0,
                    1
                  ],
                  "title": {
                    "text": "Target (y)"
                  }
                },
                "yaxis2": {
                  "anchor": "x2",
                  "domain": [
                    0,
                    1
                  ]
                },
                "yaxis3": {
                  "anchor": "x3",
                  "domain": [
                    0,
                    1
                  ]
                }
              }
            }
          },
          "metadata": {},
          "output_type": "display_data"
        }
      ],
      "source": [
        "# 3. 시각화\n",
        "from plotly.subplots import make_subplots\n",
        "\n",
        "# 서브플롯 생성 (1행 3열)\n",
        "fig = make_subplots(rows=1, cols=3, \n",
        "                    subplot_titles=['Epsilon = 0.1', 'Epsilon = 0.5', 'Epsilon = 1.0'],\n",
        "                    horizontal_spacing=0.1)\n",
        "\n",
        "# 모델과 예측값 리스트\n",
        "models = [svr_01, svr_05, svr_10]\n",
        "predictions = [y_pred_01, y_pred_05, y_pred_10]\n",
        "epsilons = [0.1, 0.5, 1.0]\n",
        "colors = ['blue', 'green', 'purple']\n",
        "\n",
        "# 각 서브플롯 생성\n",
        "for i, (model, pred, eps, color) in enumerate(zip(models, predictions, epsilons, colors)):\n",
        "    col = i + 1\n",
        "    \n",
        "    # 데이터 포인트\n",
        "    fig.add_trace(go.Scatter(x=X.flatten(), y=y, mode='markers', \n",
        "                             name=f'Data (eps={eps})',\n",
        "                             marker=dict(color='black', size=6),\n",
        "                             showlegend=False), row=1, col=col)\n",
        "    \n",
        "    # SVR 예측선\n",
        "    fig.add_trace(go.Scatter(x=X.flatten(), y=pred, mode='lines',\n",
        "                             line=dict(color=color, width=3),\n",
        "                             name=f'SVR (eps={eps})',\n",
        "                             showlegend=False), row=1, col=col)\n",
        "    \n",
        "    # 하단 튜브 경계\n",
        "    fig.add_trace(go.Scatter(x=X.flatten(), y=pred - eps, mode='lines',\n",
        "                             line=dict(color=color, width=1, dash='dash'),\n",
        "                             name=f'Tube boundary (eps={eps})',\n",
        "                             showlegend=False), row=1, col=col)\n",
        "    \n",
        "    # 상단 튜브 경계 (fill로 튜브 영역 표시)\n",
        "    fig.add_trace(go.Scatter(x=X.flatten(), y=pred + eps, mode='lines',\n",
        "                             line=dict(color=color, width=1, dash='dash'),\n",
        "                             fill='tonexty',\n",
        "                             fillcolor=f'rgba({255 if color==\"blue\" else 0 if color==\"green\" else 128},{128 if color==\"green\" else 0},{255 if color==\"blue\" else 128 if color==\"purple\" else 0}, 0.2)',\n",
        "                             name=f'Epsilon tube (eps={eps})',\n",
        "                             showlegend=False), row=1, col=col)\n",
        "\n",
        "fig.update_layout(\n",
        "    title_text='Epsilon 값에 따른 SVR Tube 변화',\n",
        "    height=400,\n",
        "    template='plotly_white',\n",
        "    showlegend=False\n",
        ")\n",
        "\n",
        "# 각 서브플롯의 축 레이블 설정\n",
        "for i in range(1, 4):\n",
        "    fig.update_xaxes(title_text='Feature (X)', row=1, col=i)\n",
        "    fig.update_yaxes(title_text='Target (y)', row=1, col=1)\n",
        "\n",
        "fig.show()"
      ]
    },
    {
      "cell_type": "markdown",
      "metadata": {
        "id": "ZG8oi7I3FHqN"
      },
      "source": [
        "#### 🎯 연습문제 1\n",
        "\n",
        "SVR 모델을 학습시킬 때, 우리가 예측하려는 타겟 값의 스케일(예: 0\\~1 사이인지, 100만\\~1000만 사이인지)을 고려한다면, `epsilon` 값은 어떻게 설정하는 것이 합리적일까요? 만약 주택 가격(억 단위)을 예측하는데 `epsilon=0.1`로 설정한다면 어떤 문제가 발생할 수 있을지 설명해 보세요."
      ]
    },
    {
      "cell_type": "markdown",
      "metadata": {},
      "source": [
        "> 설명을 작성해보세요."
      ]
    },
    {
      "cell_type": "markdown",
      "metadata": {},
      "source": [
        "\n",
        "-----\n",
        "\n",
        "### 3. 핵심 개념 2: RBF 커널과 하이퍼파라미터 (C, $\\gamma$)\n",
        "\n",
        "SVR이 비선형 데이터 패턴을 학습할 수 있게 만드는 비장의 무기가 바로 **커널 트릭(Kernel Trick)** 입니다. \n",
        "\n",
        "그중에서도 **RBF(Radial Basis Function) 커널** 은 가장 널리 쓰이며 강력한 성능을 자랑합니다.\n",
        "\n",
        "RBF 커널은 복잡하게 얽힌 저차원 데이터를, 선형적으로 분리(또는 회귀) 가능한 고차원 공간으로 '매핑'해주는 역할을 합니다. \n",
        "\n",
        "우리는 그 고차원 공간을 직접 계산할 필요 없이, 커널 함수를 통해 그 결과를 얻을 수 있습니다.\n",
        "\n",
        "RBF 커널을 사용할 때 가장 중요한 두 가지 하이퍼파라미터는 **`C`** 와 **`gamma`($\\gamma$)** 입니다.\n",
        "\n",
        "#### ⚙️ `C` (Cost, 비용 매개변수)\n",
        "\n",
        "`C`는 **모델의 복잡도와 오차 허용 범위 사이의 트레이드오프** 를 조절합니다. \n",
        "\n",
        "$\\epsilon$-tube 바깥에 존재하는 데이터 포인트(margin violation)에 대해 얼마나 큰 페널티를 부여할지를 결정합니다.\n",
        "\n",
        "  * **`C` 값이 크면? (Hard Margin)**: 페널티가 커집니다. 모델은 튜브 바깥의 데이터 포인트를 용납하지 않으려 매우 노력합니다. 이는 훈련 데이터에 거의 완벽하게 들어맞는 복잡한 모델을 만들 수 있지만, 새로운 데이터에 대해서는 성능이 떨어지는 **과적합(Overfitting)** 의 위험이 커집니다.\n",
        "  \n",
        "  * **`C` 값이 작으면? (Soft Margin)**: 페널티가 작아집니다. 모델은 어느 정도의 오차를 너그럽게 허용하며, 더 단순하고 일반적인 패턴을 학습하려 합니다. 이는 **과소적합(Underfitting)** 으로 이어질 수 있습니다.\n",
        "\n",
        "#### ⚙️ `gamma` ($\\gamma$)\n",
        "\n",
        "`gamma`는 **하나의 훈련 데이터 포인트가 미치는 영향력의 범위** 를 결정합니다. RBF 커널의 모양을 조절하는 파라미터라고 생각할 수 있습니다.\n",
        "\n",
        "  * **`gamma` 값이 크면?**: 영향력의 범위가 좁아집니다. 각 데이터 포인트는 자신과 매우 가까운 주변에만 영향을 미칩니다. 결정 경계(회귀선)는 매우 구불구불하고 복잡해지며, 훈련 데이터의 노이즈까지 민감하게 학습하여 **과적합(Overfitting)** 될 가능성이 높습니다.\n",
        "  \n",
        "  * **`gamma` 값이 작으면?**: 영향력의 범위가 넓어집니다. 각 데이터 포인트는 멀리 있는 다른 데이터 포인트에도 영향을 줍니다. 결정 경계는 매우 부드럽고 단순한 형태를 띠게 되어, **과소적합(Underfitting)** 이 발생할 수 있습니다."
      ]
    },
    {
      "cell_type": "markdown",
      "metadata": {},
      "source": [
        "\n",
        "#### 🧠 코드로 이해하기: `C`와 `gamma`의 영향력 시각화\n",
        "\n",
        "`C`와 `gamma` 값의 변화가 SVR 모델의 회귀선을 어떻게 바꾸는지 직접 확인해 봅시다."
      ]
    },
    {
      "cell_type": "code",
      "execution_count": 11,
      "metadata": {
        "id": "4hq7fprAFHqO"
      },
      "outputs": [
        {
          "data": {
            "application/vnd.plotly.v1+json": {
              "config": {
                "plotlyServerURL": "https://plot.ly"
              },
              "data": [
                {
                  "hovertemplate": "Gamma=0.01<br>C 값=0.1<br>시간=%{x}<br>예측 대여량=%{y}<extra></extra>",
                  "legendgroup": "",
                  "line": {
                    "color": "#636efa",
                    "dash": "solid"
                  },
                  "marker": {
                    "symbol": "circle"
                  },
                  "mode": "lines",
                  "name": "",
                  "orientation": "v",
                  "showlegend": false,
                  "type": "scatter",
                  "x": {
                    "bdata": "AAECAwQFBgcICQoLDA0ODxAREhMUFRYX",
                    "dtype": "i1"
                  },
                  "xaxis": "x7",
                  "y": {
                    "bdata": "ykp2xEbMhEAFLz0bpNmEQPhItLMt54RA0EuQbN/0hEClwokPtQKFQKNZhVOqEIVA//fJ3roehUDwEUNJ4iyFQHeOzR4cO4VAqZKN4WNJhUDEe0sMtVeFQJJK1hQLZoVATr1pbmF0hUDsURaMs4KFQKpoKeP8kIVAz76T7TifhUD/ekwsY62FQNUHryl3u4VAY/7Re3DJhUDNaNXGSteFQGutJr8B5YVAsHy4K5HyhUBZJy3o9P+FQEfP8eYoDYZA",
                    "dtype": "f8"
                  },
                  "yaxis": "y7"
                },
                {
                  "hovertemplate": "Gamma=0.01<br>C 값=1.0<br>시간=%{x}<br>예측 대여량=%{y}<extra></extra>",
                  "legendgroup": "",
                  "line": {
                    "color": "#636efa",
                    "dash": "solid"
                  },
                  "marker": {
                    "symbol": "circle"
                  },
                  "mode": "lines",
                  "name": "",
                  "orientation": "v",
                  "showlegend": false,
                  "type": "scatter",
                  "x": {
                    "bdata": "AAECAwQFBgcICQoLDA0ODxAREhMUFRYX",
                    "dtype": "i1"
                  },
                  "xaxis": "x8",
                  "y": {
                    "bdata": "XgA19k4lgUDyji2U2YaBQPqg9pql6YFAUJS72ZRNgkBXXCCHiLKCQGKqDFFhGINAZJLbbP9+g0D99+OnQuaDQPq7TXgKToRAvFgnDja2hED1X69kpB6FQI8ZxVM0h4VAhV9zocTvhUB/uIgTNFiGQKmmL4FhwIZAPiB65Csoh0A4M9Nrco+HQEHuSYsU9odAlc2oDfJbiEDvG00l68CIQAP0sXzgJIlAjdeiRrOHiUCfJApORemJQIIQUAV5SYpA",
                    "dtype": "f8"
                  },
                  "yaxis": "y8"
                },
                {
                  "hovertemplate": "Gamma=0.01<br>C 값=100.0<br>시간=%{x}<br>예측 대여량=%{y}<extra></extra>",
                  "legendgroup": "",
                  "line": {
                    "color": "#636efa",
                    "dash": "solid"
                  },
                  "marker": {
                    "symbol": "circle"
                  },
                  "mode": "lines",
                  "name": "",
                  "orientation": "v",
                  "showlegend": false,
                  "type": "scatter",
                  "x": {
                    "bdata": "AAECAwQFBgcICQoLDA0ODxAREhMUFRYX",
                    "dtype": "i1"
                  },
                  "xaxis": "x9",
                  "y": {
                    "bdata": "5/8aYhZJcEDK2MGd36VyQKAmeLEiCXVAmfa53wZyd0Dz9BTir995QN7ZmWk+UXxA1NXrodDFfkC4B0JbQZ6AQLBX3qw32oFA+n2aJlgWg0BwZI91L1KEQEnzAVhKjYVAxyVJ4jXHhkCobn7Df/+HQE/Sv4m2NYlAmE3L5WlpikC04LvtKpqLQAxjsV6Mx4xA21Ut3SLxjUB3NfAzhRaPQDY0kkimG5BA+rjSYIqpkEDBERo1vjSRQAQ/NZ8SvZFA",
                    "dtype": "f8"
                  },
                  "yaxis": "y9"
                },
                {
                  "hovertemplate": "Gamma=1.0<br>C 값=0.1<br>시간=%{x}<br>예측 대여량=%{y}<extra></extra>",
                  "legendgroup": "",
                  "line": {
                    "color": "#636efa",
                    "dash": "solid"
                  },
                  "marker": {
                    "symbol": "circle"
                  },
                  "mode": "lines",
                  "name": "",
                  "orientation": "v",
                  "showlegend": false,
                  "type": "scatter",
                  "x": {
                    "bdata": "AAECAwQFBgcICQoLDA0ODxAREhMUFRYX",
                    "dtype": "i1"
                  },
                  "xaxis": "x4",
                  "y": {
                    "bdata": "cNjZ1xQogUAE3OR7arSAQPyCCsnoZ4BAtqWLDXVKgEAwocYvbV+AQJ500NyypYBADJZz5rcYgUBSFft7LLKBQHQlgOu1a4JAs5zBvBBAg0DcXAP3NyuEQIz0OmeKKYVAVNVSbEo2hkArq3m8F0qHQKkiu0EMWohAE9qnC/NXiUD2R3NptTOKQGaSFHi23YpASJf4VIlJi0CV3/IXUHCLQDkDlhkoUotA6AUFN0n2ikCj74GO1GmKQNsVEfihvYlA",
                    "dtype": "f8"
                  },
                  "yaxis": "y4"
                },
                {
                  "hovertemplate": "Gamma=1.0<br>C 값=1.0<br>시간=%{x}<br>예측 대여량=%{y}<extra></extra>",
                  "legendgroup": "",
                  "line": {
                    "color": "#636efa",
                    "dash": "solid"
                  },
                  "marker": {
                    "symbol": "circle"
                  },
                  "mode": "lines",
                  "name": "",
                  "orientation": "v",
                  "showlegend": false,
                  "type": "scatter",
                  "x": {
                    "bdata": "AAECAwQFBgcICQoLDA0ODxAREhMUFRYX",
                    "dtype": "i1"
                  },
                  "xaxis": "x5",
                  "y": {
                    "bdata": "4Dnl+oknfUBQFhp1NXR4QFOhYqB3gnRAMnXx3eflcUB17+jEzfpwQMPHKxzaz3FAtqnT6KUldEBQH8G7WIV3QAhc+YNsZ3tAPhDkMi9df0Ax6XnHEpeBQNvPUSZZb4NAupkcavNOhUCCcCzS7lCHQASm1PVYgIlAHO0U87fKi0DgTkf/3/2NQCArCy860o9AuFVfIvt+kECha+g3PqWQQKWHpFhwUpBAur033CYkj0CRXBpO4AONQCFoJcmRlYpA",
                    "dtype": "f8"
                  },
                  "yaxis": "y5"
                },
                {
                  "hovertemplate": "Gamma=1.0<br>C 값=100.0<br>시간=%{x}<br>예측 대여량=%{y}<extra></extra>",
                  "legendgroup": "",
                  "line": {
                    "color": "#636efa",
                    "dash": "solid"
                  },
                  "marker": {
                    "symbol": "circle"
                  },
                  "mode": "lines",
                  "name": "",
                  "orientation": "v",
                  "showlegend": false,
                  "type": "scatter",
                  "x": {
                    "bdata": "AAECAwQFBgcICQoLDA0ODxAREhMUFRYX",
                    "dtype": "i1"
                  },
                  "xaxis": "x6",
                  "y": {
                    "bdata": "bVxh/s8CgkDYacF12/95QI+Ure93q3BAXB/SORUUZUAEWDY8m3tiQHp3tVkn1GlA3sEVsYUmdED+IoccXZF8QDlfLIRr4YFAI6ezI5AbhED5TNnfzeWEQIfOR/B30YRACUB6CwjFhEBXTKTZkZWFQLtKe2FKsodAjlPPKOr+ikDnQLQNsuKOQGBscYkHP5FAWM+CeJl3kkCOtEl+bceSQJg9RzILC5JAxqh/jMJTkEDAYMsG876LQBiCDC+/D4ZA",
                    "dtype": "f8"
                  },
                  "yaxis": "y6"
                },
                {
                  "hovertemplate": "Gamma=100.0<br>C 값=0.1<br>시간=%{x}<br>예측 대여량=%{y}<extra></extra>",
                  "legendgroup": "",
                  "line": {
                    "color": "#636efa",
                    "dash": "solid"
                  },
                  "marker": {
                    "symbol": "circle"
                  },
                  "mode": "lines",
                  "name": "",
                  "orientation": "v",
                  "showlegend": false,
                  "type": "scatter",
                  "x": {
                    "bdata": "AAECAwQFBgcICQoLDA0ODxAREhMUFRYX",
                    "dtype": "i1"
                  },
                  "xaxis": "x",
                  "y": {
                    "bdata": "nOkIMUg5hECHTis5sBaEQLiT5U+fFoRAfADFT58WhEB9AMVPnxaEQPUmBlCfFoRAgglsIsEWhECkAVyQ3VuEQGqown6UYYZA1NcpZNpHhUD3a0vjGjSEQJBwxWBaOYRAmUVeLhhYhUCenVnfj9KFQDw66cgvn4ZAi+F9E0fMhkA2cxTm7c6GQO2kQizvzoZAEBlFLO/OhkAPGUUs786GQNKFJCzvzoZAA8veQt7OhkDvLwFLRqyGQOb1SB9wlYVA",
                    "dtype": "f8"
                  },
                  "yaxis": "y"
                },
                {
                  "hovertemplate": "Gamma=100.0<br>C 값=1.0<br>시간=%{x}<br>예측 대여량=%{y}<extra></extra>",
                  "legendgroup": "",
                  "line": {
                    "color": "#636efa",
                    "dash": "solid"
                  },
                  "marker": {
                    "symbol": "circle"
                  },
                  "mode": "lines",
                  "name": "",
                  "orientation": "v",
                  "showlegend": false,
                  "type": "scatter",
                  "x": {
                    "bdata": "AAECAwQFBgcICQoLDA0ODxAREhMUFRYX",
                    "dtype": "i1"
                  },
                  "xaxis": "x2",
                  "y": {
                    "bdata": "ZoAqq2QDgkAGisg0u898QBi51mDgBnVAPxsRPT3ncECDgAHaTX5wQGqsdKFPqnBAW8KeOSMldECbkiucowaEQOBAFDurpY5AcLkEuXZGhUB6Ri7RwJWBQOhpAZXM3YNAqsTtyviohUC6ZoUAMuiFQIxjbJkOoYZAttvyvmXSiECE64nj4f2LQARdRBAJP5FAdMjvczy2kUCsUybdsI2RQB44tLLDKJBAvWPPqSskj0CMiy/RpL+LQAj4/Ab0D4ZA",
                    "dtype": "f8"
                  },
                  "yaxis": "y2"
                },
                {
                  "hovertemplate": "Gamma=100.0<br>C 값=100.0<br>시간=%{x}<br>예측 대여량=%{y}<extra></extra>",
                  "legendgroup": "",
                  "line": {
                    "color": "#636efa",
                    "dash": "solid"
                  },
                  "marker": {
                    "symbol": "circle"
                  },
                  "mode": "lines",
                  "name": "",
                  "orientation": "v",
                  "showlegend": false,
                  "type": "scatter",
                  "x": {
                    "bdata": "AAECAwQFBgcICQoLDA0ODxAREhMUFRYX",
                    "dtype": "i1"
                  },
                  "xaxis": "x3",
                  "y": {
                    "bdata": "aNSQU3MCgkDQ5+rUB9J8QF44fXAlCnVAqIyzLgzFbUAwUx7+Q+5kQLirQlp9vmVAoxpuXsIkdED0rB1B4AaEQKaKtvm0po5AS9yRCaNGhUCMYIYeopWBQO5S+GGb3YNAYhdGul/YhUAPg26fWReGQDi22zdZnoZAVCBw1eDSiEBhrI4/tP2LQFiPAFj3PpFATJo9C6rvlkDTHFVqJCGSQLD+ps/WKJBA0EpN6fkkj0DYH5XSfr+LQOUI5qBPEIZA",
                    "dtype": "f8"
                  },
                  "yaxis": "y3"
                },
                {
                  "marker": {
                    "color": "grey",
                    "opacity": 0.6
                  },
                  "mode": "markers",
                  "name": "Actual",
                  "type": "scatter",
                  "x": {
                    "bdata": "AAECAwQFBgcICQoLDA0ODxAREhMUFRYX",
                    "dtype": "i1"
                  },
                  "y": {
                    "bdata": "O9wepK7rgEAvkVXe76J6QKFChQoV2nJAqoZAtJtqaUAvkVXe75JgQCpUqFChYmFAkLoOtwf5cUABm884C/CCQFqAzWecvY9A/i6RVd4vhEBp0qRJk36AQO2mGgLRxoJAuD1IXYfbhUAgP378+OmGQOqfDOaYtodAGJaSi33piUDQOAuw+RSNQKGntdEJypFAu6mGQLR7l0CJrPJ+l6ySQD5IXYfbs5BAHdM/GcwdkEDmmP7JYNaMQBDtphoC+YRA",
                    "dtype": "f8"
                  }
                }
              ],
              "layout": {
                "annotations": [
                  {
                    "font": {},
                    "showarrow": false,
                    "text": "C 값=0.1",
                    "x": 0.15666666666666665,
                    "xanchor": "center",
                    "xref": "paper",
                    "y": 0.9999999999999998,
                    "yanchor": "bottom",
                    "yref": "paper"
                  },
                  {
                    "font": {},
                    "showarrow": false,
                    "text": "C 값=1",
                    "x": 0.49,
                    "xanchor": "center",
                    "xref": "paper",
                    "y": 0.9999999999999998,
                    "yanchor": "bottom",
                    "yref": "paper"
                  },
                  {
                    "font": {},
                    "showarrow": false,
                    "text": "C 값=100",
                    "x": 0.8233333333333333,
                    "xanchor": "center",
                    "xref": "paper",
                    "y": 0.9999999999999998,
                    "yanchor": "bottom",
                    "yref": "paper"
                  },
                  {
                    "font": {},
                    "showarrow": false,
                    "text": "Gamma=100",
                    "textangle": 90,
                    "x": 0.98,
                    "xanchor": "left",
                    "xref": "paper",
                    "y": 0.15666666666666665,
                    "yanchor": "middle",
                    "yref": "paper"
                  },
                  {
                    "font": {},
                    "showarrow": false,
                    "text": "Gamma=1",
                    "textangle": 90,
                    "x": 0.98,
                    "xanchor": "left",
                    "xref": "paper",
                    "y": 0.4999999999999999,
                    "yanchor": "middle",
                    "yref": "paper"
                  },
                  {
                    "font": {},
                    "showarrow": false,
                    "text": "Gamma=0.01",
                    "textangle": 90,
                    "x": 0.98,
                    "xanchor": "left",
                    "xref": "paper",
                    "y": 0.8433333333333332,
                    "yanchor": "middle",
                    "yref": "paper"
                  }
                ],
                "legend": {
                  "tracegroupgap": 0
                },
                "template": {
                  "data": {
                    "bar": [
                      {
                        "error_x": {
                          "color": "#2a3f5f"
                        },
                        "error_y": {
                          "color": "#2a3f5f"
                        },
                        "marker": {
                          "line": {
                            "color": "#E5ECF6",
                            "width": 0.5
                          },
                          "pattern": {
                            "fillmode": "overlay",
                            "size": 10,
                            "solidity": 0.2
                          }
                        },
                        "type": "bar"
                      }
                    ],
                    "barpolar": [
                      {
                        "marker": {
                          "line": {
                            "color": "#E5ECF6",
                            "width": 0.5
                          },
                          "pattern": {
                            "fillmode": "overlay",
                            "size": 10,
                            "solidity": 0.2
                          }
                        },
                        "type": "barpolar"
                      }
                    ],
                    "carpet": [
                      {
                        "aaxis": {
                          "endlinecolor": "#2a3f5f",
                          "gridcolor": "white",
                          "linecolor": "white",
                          "minorgridcolor": "white",
                          "startlinecolor": "#2a3f5f"
                        },
                        "baxis": {
                          "endlinecolor": "#2a3f5f",
                          "gridcolor": "white",
                          "linecolor": "white",
                          "minorgridcolor": "white",
                          "startlinecolor": "#2a3f5f"
                        },
                        "type": "carpet"
                      }
                    ],
                    "choropleth": [
                      {
                        "colorbar": {
                          "outlinewidth": 0,
                          "ticks": ""
                        },
                        "type": "choropleth"
                      }
                    ],
                    "contour": [
                      {
                        "colorbar": {
                          "outlinewidth": 0,
                          "ticks": ""
                        },
                        "colorscale": [
                          [
                            0,
                            "#0d0887"
                          ],
                          [
                            0.1111111111111111,
                            "#46039f"
                          ],
                          [
                            0.2222222222222222,
                            "#7201a8"
                          ],
                          [
                            0.3333333333333333,
                            "#9c179e"
                          ],
                          [
                            0.4444444444444444,
                            "#bd3786"
                          ],
                          [
                            0.5555555555555556,
                            "#d8576b"
                          ],
                          [
                            0.6666666666666666,
                            "#ed7953"
                          ],
                          [
                            0.7777777777777778,
                            "#fb9f3a"
                          ],
                          [
                            0.8888888888888888,
                            "#fdca26"
                          ],
                          [
                            1,
                            "#f0f921"
                          ]
                        ],
                        "type": "contour"
                      }
                    ],
                    "contourcarpet": [
                      {
                        "colorbar": {
                          "outlinewidth": 0,
                          "ticks": ""
                        },
                        "type": "contourcarpet"
                      }
                    ],
                    "heatmap": [
                      {
                        "colorbar": {
                          "outlinewidth": 0,
                          "ticks": ""
                        },
                        "colorscale": [
                          [
                            0,
                            "#0d0887"
                          ],
                          [
                            0.1111111111111111,
                            "#46039f"
                          ],
                          [
                            0.2222222222222222,
                            "#7201a8"
                          ],
                          [
                            0.3333333333333333,
                            "#9c179e"
                          ],
                          [
                            0.4444444444444444,
                            "#bd3786"
                          ],
                          [
                            0.5555555555555556,
                            "#d8576b"
                          ],
                          [
                            0.6666666666666666,
                            "#ed7953"
                          ],
                          [
                            0.7777777777777778,
                            "#fb9f3a"
                          ],
                          [
                            0.8888888888888888,
                            "#fdca26"
                          ],
                          [
                            1,
                            "#f0f921"
                          ]
                        ],
                        "type": "heatmap"
                      }
                    ],
                    "histogram": [
                      {
                        "marker": {
                          "pattern": {
                            "fillmode": "overlay",
                            "size": 10,
                            "solidity": 0.2
                          }
                        },
                        "type": "histogram"
                      }
                    ],
                    "histogram2d": [
                      {
                        "colorbar": {
                          "outlinewidth": 0,
                          "ticks": ""
                        },
                        "colorscale": [
                          [
                            0,
                            "#0d0887"
                          ],
                          [
                            0.1111111111111111,
                            "#46039f"
                          ],
                          [
                            0.2222222222222222,
                            "#7201a8"
                          ],
                          [
                            0.3333333333333333,
                            "#9c179e"
                          ],
                          [
                            0.4444444444444444,
                            "#bd3786"
                          ],
                          [
                            0.5555555555555556,
                            "#d8576b"
                          ],
                          [
                            0.6666666666666666,
                            "#ed7953"
                          ],
                          [
                            0.7777777777777778,
                            "#fb9f3a"
                          ],
                          [
                            0.8888888888888888,
                            "#fdca26"
                          ],
                          [
                            1,
                            "#f0f921"
                          ]
                        ],
                        "type": "histogram2d"
                      }
                    ],
                    "histogram2dcontour": [
                      {
                        "colorbar": {
                          "outlinewidth": 0,
                          "ticks": ""
                        },
                        "colorscale": [
                          [
                            0,
                            "#0d0887"
                          ],
                          [
                            0.1111111111111111,
                            "#46039f"
                          ],
                          [
                            0.2222222222222222,
                            "#7201a8"
                          ],
                          [
                            0.3333333333333333,
                            "#9c179e"
                          ],
                          [
                            0.4444444444444444,
                            "#bd3786"
                          ],
                          [
                            0.5555555555555556,
                            "#d8576b"
                          ],
                          [
                            0.6666666666666666,
                            "#ed7953"
                          ],
                          [
                            0.7777777777777778,
                            "#fb9f3a"
                          ],
                          [
                            0.8888888888888888,
                            "#fdca26"
                          ],
                          [
                            1,
                            "#f0f921"
                          ]
                        ],
                        "type": "histogram2dcontour"
                      }
                    ],
                    "mesh3d": [
                      {
                        "colorbar": {
                          "outlinewidth": 0,
                          "ticks": ""
                        },
                        "type": "mesh3d"
                      }
                    ],
                    "parcoords": [
                      {
                        "line": {
                          "colorbar": {
                            "outlinewidth": 0,
                            "ticks": ""
                          }
                        },
                        "type": "parcoords"
                      }
                    ],
                    "pie": [
                      {
                        "automargin": true,
                        "type": "pie"
                      }
                    ],
                    "scatter": [
                      {
                        "fillpattern": {
                          "fillmode": "overlay",
                          "size": 10,
                          "solidity": 0.2
                        },
                        "type": "scatter"
                      }
                    ],
                    "scatter3d": [
                      {
                        "line": {
                          "colorbar": {
                            "outlinewidth": 0,
                            "ticks": ""
                          }
                        },
                        "marker": {
                          "colorbar": {
                            "outlinewidth": 0,
                            "ticks": ""
                          }
                        },
                        "type": "scatter3d"
                      }
                    ],
                    "scattercarpet": [
                      {
                        "marker": {
                          "colorbar": {
                            "outlinewidth": 0,
                            "ticks": ""
                          }
                        },
                        "type": "scattercarpet"
                      }
                    ],
                    "scattergeo": [
                      {
                        "marker": {
                          "colorbar": {
                            "outlinewidth": 0,
                            "ticks": ""
                          }
                        },
                        "type": "scattergeo"
                      }
                    ],
                    "scattergl": [
                      {
                        "marker": {
                          "colorbar": {
                            "outlinewidth": 0,
                            "ticks": ""
                          }
                        },
                        "type": "scattergl"
                      }
                    ],
                    "scattermap": [
                      {
                        "marker": {
                          "colorbar": {
                            "outlinewidth": 0,
                            "ticks": ""
                          }
                        },
                        "type": "scattermap"
                      }
                    ],
                    "scattermapbox": [
                      {
                        "marker": {
                          "colorbar": {
                            "outlinewidth": 0,
                            "ticks": ""
                          }
                        },
                        "type": "scattermapbox"
                      }
                    ],
                    "scatterpolar": [
                      {
                        "marker": {
                          "colorbar": {
                            "outlinewidth": 0,
                            "ticks": ""
                          }
                        },
                        "type": "scatterpolar"
                      }
                    ],
                    "scatterpolargl": [
                      {
                        "marker": {
                          "colorbar": {
                            "outlinewidth": 0,
                            "ticks": ""
                          }
                        },
                        "type": "scatterpolargl"
                      }
                    ],
                    "scatterternary": [
                      {
                        "marker": {
                          "colorbar": {
                            "outlinewidth": 0,
                            "ticks": ""
                          }
                        },
                        "type": "scatterternary"
                      }
                    ],
                    "surface": [
                      {
                        "colorbar": {
                          "outlinewidth": 0,
                          "ticks": ""
                        },
                        "colorscale": [
                          [
                            0,
                            "#0d0887"
                          ],
                          [
                            0.1111111111111111,
                            "#46039f"
                          ],
                          [
                            0.2222222222222222,
                            "#7201a8"
                          ],
                          [
                            0.3333333333333333,
                            "#9c179e"
                          ],
                          [
                            0.4444444444444444,
                            "#bd3786"
                          ],
                          [
                            0.5555555555555556,
                            "#d8576b"
                          ],
                          [
                            0.6666666666666666,
                            "#ed7953"
                          ],
                          [
                            0.7777777777777778,
                            "#fb9f3a"
                          ],
                          [
                            0.8888888888888888,
                            "#fdca26"
                          ],
                          [
                            1,
                            "#f0f921"
                          ]
                        ],
                        "type": "surface"
                      }
                    ],
                    "table": [
                      {
                        "cells": {
                          "fill": {
                            "color": "#EBF0F8"
                          },
                          "line": {
                            "color": "white"
                          }
                        },
                        "header": {
                          "fill": {
                            "color": "#C8D4E3"
                          },
                          "line": {
                            "color": "white"
                          }
                        },
                        "type": "table"
                      }
                    ]
                  },
                  "layout": {
                    "annotationdefaults": {
                      "arrowcolor": "#2a3f5f",
                      "arrowhead": 0,
                      "arrowwidth": 1
                    },
                    "autotypenumbers": "strict",
                    "coloraxis": {
                      "colorbar": {
                        "outlinewidth": 0,
                        "ticks": ""
                      }
                    },
                    "colorscale": {
                      "diverging": [
                        [
                          0,
                          "#8e0152"
                        ],
                        [
                          0.1,
                          "#c51b7d"
                        ],
                        [
                          0.2,
                          "#de77ae"
                        ],
                        [
                          0.3,
                          "#f1b6da"
                        ],
                        [
                          0.4,
                          "#fde0ef"
                        ],
                        [
                          0.5,
                          "#f7f7f7"
                        ],
                        [
                          0.6,
                          "#e6f5d0"
                        ],
                        [
                          0.7,
                          "#b8e186"
                        ],
                        [
                          0.8,
                          "#7fbc41"
                        ],
                        [
                          0.9,
                          "#4d9221"
                        ],
                        [
                          1,
                          "#276419"
                        ]
                      ],
                      "sequential": [
                        [
                          0,
                          "#0d0887"
                        ],
                        [
                          0.1111111111111111,
                          "#46039f"
                        ],
                        [
                          0.2222222222222222,
                          "#7201a8"
                        ],
                        [
                          0.3333333333333333,
                          "#9c179e"
                        ],
                        [
                          0.4444444444444444,
                          "#bd3786"
                        ],
                        [
                          0.5555555555555556,
                          "#d8576b"
                        ],
                        [
                          0.6666666666666666,
                          "#ed7953"
                        ],
                        [
                          0.7777777777777778,
                          "#fb9f3a"
                        ],
                        [
                          0.8888888888888888,
                          "#fdca26"
                        ],
                        [
                          1,
                          "#f0f921"
                        ]
                      ],
                      "sequentialminus": [
                        [
                          0,
                          "#0d0887"
                        ],
                        [
                          0.1111111111111111,
                          "#46039f"
                        ],
                        [
                          0.2222222222222222,
                          "#7201a8"
                        ],
                        [
                          0.3333333333333333,
                          "#9c179e"
                        ],
                        [
                          0.4444444444444444,
                          "#bd3786"
                        ],
                        [
                          0.5555555555555556,
                          "#d8576b"
                        ],
                        [
                          0.6666666666666666,
                          "#ed7953"
                        ],
                        [
                          0.7777777777777778,
                          "#fb9f3a"
                        ],
                        [
                          0.8888888888888888,
                          "#fdca26"
                        ],
                        [
                          1,
                          "#f0f921"
                        ]
                      ]
                    },
                    "colorway": [
                      "#636efa",
                      "#EF553B",
                      "#00cc96",
                      "#ab63fa",
                      "#FFA15A",
                      "#19d3f3",
                      "#FF6692",
                      "#B6E880",
                      "#FF97FF",
                      "#FECB52"
                    ],
                    "font": {
                      "color": "#2a3f5f"
                    },
                    "geo": {
                      "bgcolor": "white",
                      "lakecolor": "white",
                      "landcolor": "#E5ECF6",
                      "showlakes": true,
                      "showland": true,
                      "subunitcolor": "white"
                    },
                    "hoverlabel": {
                      "align": "left"
                    },
                    "hovermode": "closest",
                    "mapbox": {
                      "style": "light"
                    },
                    "paper_bgcolor": "white",
                    "plot_bgcolor": "#E5ECF6",
                    "polar": {
                      "angularaxis": {
                        "gridcolor": "white",
                        "linecolor": "white",
                        "ticks": ""
                      },
                      "bgcolor": "#E5ECF6",
                      "radialaxis": {
                        "gridcolor": "white",
                        "linecolor": "white",
                        "ticks": ""
                      }
                    },
                    "scene": {
                      "xaxis": {
                        "backgroundcolor": "#E5ECF6",
                        "gridcolor": "white",
                        "gridwidth": 2,
                        "linecolor": "white",
                        "showbackground": true,
                        "ticks": "",
                        "zerolinecolor": "white"
                      },
                      "yaxis": {
                        "backgroundcolor": "#E5ECF6",
                        "gridcolor": "white",
                        "gridwidth": 2,
                        "linecolor": "white",
                        "showbackground": true,
                        "ticks": "",
                        "zerolinecolor": "white"
                      },
                      "zaxis": {
                        "backgroundcolor": "#E5ECF6",
                        "gridcolor": "white",
                        "gridwidth": 2,
                        "linecolor": "white",
                        "showbackground": true,
                        "ticks": "",
                        "zerolinecolor": "white"
                      }
                    },
                    "shapedefaults": {
                      "line": {
                        "color": "#2a3f5f"
                      }
                    },
                    "ternary": {
                      "aaxis": {
                        "gridcolor": "white",
                        "linecolor": "white",
                        "ticks": ""
                      },
                      "baxis": {
                        "gridcolor": "white",
                        "linecolor": "white",
                        "ticks": ""
                      },
                      "bgcolor": "#E5ECF6",
                      "caxis": {
                        "gridcolor": "white",
                        "linecolor": "white",
                        "ticks": ""
                      }
                    },
                    "title": {
                      "x": 0.05
                    },
                    "xaxis": {
                      "automargin": true,
                      "gridcolor": "white",
                      "linecolor": "white",
                      "ticks": "",
                      "title": {
                        "standoff": 15
                      },
                      "zerolinecolor": "white",
                      "zerolinewidth": 2
                    },
                    "yaxis": {
                      "automargin": true,
                      "gridcolor": "white",
                      "linecolor": "white",
                      "ticks": "",
                      "title": {
                        "standoff": 15
                      },
                      "zerolinecolor": "white",
                      "zerolinewidth": 2
                    }
                  }
                },
                "title": {
                  "text": "C와 Gamma 값에 따른 SVR(RBF) 회귀선 변화"
                },
                "xaxis": {
                  "anchor": "y",
                  "domain": [
                    0,
                    0.3133333333333333
                  ],
                  "title": {
                    "text": "시간"
                  }
                },
                "xaxis2": {
                  "anchor": "y2",
                  "domain": [
                    0.3333333333333333,
                    0.6466666666666666
                  ],
                  "matches": "x",
                  "title": {
                    "text": "시간"
                  }
                },
                "xaxis3": {
                  "anchor": "y3",
                  "domain": [
                    0.6666666666666666,
                    0.98
                  ],
                  "matches": "x",
                  "title": {
                    "text": "시간"
                  }
                },
                "xaxis4": {
                  "anchor": "y4",
                  "domain": [
                    0,
                    0.3133333333333333
                  ],
                  "matches": "x",
                  "showticklabels": false
                },
                "xaxis5": {
                  "anchor": "y5",
                  "domain": [
                    0.3333333333333333,
                    0.6466666666666666
                  ],
                  "matches": "x",
                  "showticklabels": false
                },
                "xaxis6": {
                  "anchor": "y6",
                  "domain": [
                    0.6666666666666666,
                    0.98
                  ],
                  "matches": "x",
                  "showticklabels": false
                },
                "xaxis7": {
                  "anchor": "y7",
                  "domain": [
                    0,
                    0.3133333333333333
                  ],
                  "matches": "x",
                  "showticklabels": false
                },
                "xaxis8": {
                  "anchor": "y8",
                  "domain": [
                    0.3333333333333333,
                    0.6466666666666666
                  ],
                  "matches": "x",
                  "showticklabels": false
                },
                "xaxis9": {
                  "anchor": "y9",
                  "domain": [
                    0.6666666666666666,
                    0.98
                  ],
                  "matches": "x",
                  "showticklabels": false
                },
                "yaxis": {
                  "anchor": "x",
                  "domain": [
                    0,
                    0.3133333333333333
                  ],
                  "title": {
                    "text": "예측 대여량"
                  }
                },
                "yaxis2": {
                  "anchor": "x2",
                  "domain": [
                    0,
                    0.3133333333333333
                  ],
                  "matches": "y",
                  "showticklabels": false
                },
                "yaxis3": {
                  "anchor": "x3",
                  "domain": [
                    0,
                    0.3133333333333333
                  ],
                  "matches": "y",
                  "showticklabels": false
                },
                "yaxis4": {
                  "anchor": "x4",
                  "domain": [
                    0.34333333333333327,
                    0.6566666666666665
                  ],
                  "matches": "y",
                  "title": {
                    "text": "예측 대여량"
                  }
                },
                "yaxis5": {
                  "anchor": "x5",
                  "domain": [
                    0.34333333333333327,
                    0.6566666666666665
                  ],
                  "matches": "y",
                  "showticklabels": false
                },
                "yaxis6": {
                  "anchor": "x6",
                  "domain": [
                    0.34333333333333327,
                    0.6566666666666665
                  ],
                  "matches": "y",
                  "showticklabels": false
                },
                "yaxis7": {
                  "anchor": "x7",
                  "domain": [
                    0.6866666666666665,
                    0.9999999999999998
                  ],
                  "matches": "y",
                  "title": {
                    "text": "예측 대여량"
                  }
                },
                "yaxis8": {
                  "anchor": "x8",
                  "domain": [
                    0.6866666666666665,
                    0.9999999999999998
                  ],
                  "matches": "y",
                  "showticklabels": false
                },
                "yaxis9": {
                  "anchor": "x9",
                  "domain": [
                    0.6866666666666665,
                    0.9999999999999998
                  ],
                  "matches": "y",
                  "showticklabels": false
                }
              }
            }
          },
          "metadata": {},
          "output_type": "display_data"
        }
      ],
      "source": [
        "import pandas as pd\n",
        "import plotly.express as px\n",
        "from sklearn.svm import SVR\n",
        "from sklearn.preprocessing import StandardScaler\n",
        "\n",
        "# 1. 서울시 따릉이 데이터 일부 사용\n",
        "# 실습의 편의를 위해 시간(Hour)과 대여량(Rented Bike Count)만 사용\n",
        "# 원본 데이터 URL: https://archive.ics.uci.edu/ml/machine-learning-databases/00560/SeoulBikeData.csv\n",
        "url = 'https://archive.ics.uci.edu/ml/machine-learning-databases/00560/SeoulBikeData.csv'\n",
        "df = pd.read_csv(url, encoding='ISO-8859-1')\n",
        "\n",
        "# 컬럼명 정리\n",
        "df.columns = ['Date', 'Rented_Bike_Count', 'Hour', 'Temperature', 'Humidity',\n",
        "              'Wind_speed', 'Visibility', 'Dew_point_temp', 'Solar_Radiation',\n",
        "              'Rainfall', 'Snowfall', 'Seasons', 'Holiday', 'Functioning_Day']\n",
        "\n",
        "# 간단한 전처리\n",
        "df_sample = df[['Hour', 'Rented_Bike_Count']].groupby('Hour').mean().reset_index()\n",
        "\n",
        "X_sample = df_sample[['Hour']].values\n",
        "y_sample = df_sample['Rented_Bike_Count'].values\n",
        "\n",
        "# 데이터 스케일링 (SVR은 스케일링이 중요!)\n",
        "scaler_X = StandardScaler()\n",
        "scaler_y = StandardScaler()\n",
        "\n",
        "X_scaled = scaler_X.fit_transform(X_sample)\n",
        "y_scaled = scaler_y.fit_transform(y_sample.reshape(-1, 1)).ravel()\n",
        "\n",
        "\n",
        "# 2. C와 gamma 값에 따른 SVR 모델 비교\n",
        "C_values = [0.1, 1, 100]\n",
        "gamma_values = [0.01, 1, 100]\n",
        "\n",
        "results = []\n",
        "\n",
        "for C in C_values:\n",
        "    for gamma in gamma_values:\n",
        "        model = SVR(kernel='rbf', C=C, gamma=gamma)\n",
        "        model.fit(X_scaled, y_scaled)\n",
        "\n",
        "        # 예측값을 원래 스케일로 복원\n",
        "        y_pred_scaled = model.predict(X_scaled)\n",
        "        y_pred = scaler_y.inverse_transform(y_pred_scaled.reshape(-1, 1))\n",
        "\n",
        "        # 결과를 DataFrame에 저장\n",
        "        temp_df = pd.DataFrame({\n",
        "            'Hour': X_sample.flatten(),\n",
        "            'Predicted_Count': y_pred.flatten(),\n",
        "            'C': C,\n",
        "            'gamma': gamma\n",
        "        })\n",
        "        results.append(temp_df)\n",
        "\n",
        "results_df = pd.concat(results)\n",
        "\n",
        "# 3. Plotly로 시각화\n",
        "fig = px.line(results_df, x='Hour', y='Predicted_Count',\n",
        "              facet_col='C', facet_row='gamma',\n",
        "              category_orders={\"gamma\": gamma_values, \"C\": C_values},\n",
        "              labels={'Predicted_Count': '예측 대여량', 'Hour': '시간', 'gamma': 'Gamma', 'C': 'C 값'},\n",
        "              title='C와 Gamma 값에 따른 SVR(RBF) 회귀선 변화')\n",
        "\n",
        "# 원본 데이터 추가\n",
        "fig.for_each_trace(lambda t: t.update(name=t.name.split(\"=\")[-1])) # 범례 정리\n",
        "fig.add_trace(go.Scatter(x=X_sample.flatten(), y=y_sample, mode='markers', name='Actual', marker=dict(color='grey', opacity=0.6)))\n",
        "\n",
        "fig.show()"
      ]
    },
    {
      "cell_type": "markdown",
      "metadata": {
        "id": "GIkFNA6UFHqO"
      },
      "source": [
        "위 시각화 결과를 통해 `C`와 `gamma` 값이 어떻게 상호작용하며 모델의 유연성을 결정하는지 직관적으로 파악할 수 있습니다.\n",
        "\n",
        "  * **과소적합 영역 (좌측 상단)**: `C`와 `gamma`가 모두 작으면 모델이 너무 단순해져 데이터의 패턴을 거의 학습하지 못합니다.\n",
        "  * **과적합 영역 (우측 하단)**: `C`와 `gamma`가 모두 크면 모델이 훈련 데이터에 과도하게 맞춰져 구불구불한 형태가 됩니다.\n",
        "  * **적절한 모델 영역 (중앙)**: 적절한 `C`와 `gamma` 값을 통해 데이터의 전반적인 추세를 잘 따르는 부드러운 회귀선을 얻을 수 있습니다."
      ]
    },
    {
      "cell_type": "markdown",
      "metadata": {},
      "source": [
        "#### 🎯 연습문제 2\n",
        "\n",
        "`scikit-learn`의 `SVR`에서 `gamma`의 기본값은 `'scale'`입니다. \n",
        "\n",
        "이 `'scale'` 옵션은 `1 / (n_features * X.var())`로 계산됩니다. \n",
        "\n",
        "왜 `gamma` 값을 데이터의 분산(variance)에 반비례하도록 설정하는 것이 합리적인 선택일지, 데이터 스케일의 관점에서 설명해 보세요. \n",
        "\n",
        "(힌트: 피처의 값 범위가 매우 크거나 작을 때를 생각해 보세요.)"
      ]
    },
    {
      "cell_type": "markdown",
      "metadata": {},
      "source": [
        "> 설명을 작성해보세요."
      ]
    }
  ],
  "metadata": {
    "colab": {
      "provenance": []
    },
    "kernelspec": {
      "display_name": ".venv",
      "language": "python",
      "name": "python3"
    },
    "language_info": {
      "codemirror_mode": {
        "name": "ipython",
        "version": 3
      },
      "file_extension": ".py",
      "mimetype": "text/x-python",
      "name": "python",
      "nbconvert_exporter": "python",
      "pygments_lexer": "ipython3",
      "version": "3.12.9"
    }
  },
  "nbformat": 4,
  "nbformat_minor": 0
}
