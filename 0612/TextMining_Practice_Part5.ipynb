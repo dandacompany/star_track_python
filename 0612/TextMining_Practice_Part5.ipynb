{
  "cells": [
    {
      "cell_type": "markdown",
      "metadata": {
        "id": "39NQWzORTx_p"
      },
      "source": [
        "## 🐍 Python 텍스트 분석: Embedding API 정복하기 (Part 5)\n",
        "\n",
        "이 학습자료에서는 `OpenAI`, `OpenRouter`, `Hugging Face` 등 주요 AI 플랫폼들의 임베딩 API를 사용하여 텍스트를 벡터로 변환하는 방법을 다룹니다. \n",
        "\n",
        "각 서비스의 특징과 사용법을 익히고, 이를 손쉽게 전환하며 사용하는 실용적인 코드 패턴까지 학습합니다.\n",
        "\n",
        "-----\n",
        "\n",
        "## 0\\. 준비 : 공통 환경 세팅\n",
        "\n",
        "```bash\n",
        "# 1) Python 가상환경 준비 (여러분들이 사용하시는 로컬 환경으로 설정 요망)\n",
        "python -m venv .venv && source .venv/bin/activate\n",
        "\n",
        "# 2) 공통 패키지\n",
        "pip install --upgrade openai tiktoken numpy requests sentence-transformers\n",
        "```\n",
        "\n",
        "환경 변수로 API 키를 보관하는 것이 가장 안전합니다.\n",
        "\n",
        "### 환경 변수 설정 방법\n",
        "\n",
        "**1: .env 파일 사용 (권장)**\n",
        "\n",
        "프로젝트 루트 디렉토리에 `.env` 파일을 생성하고 API 키들을 저장합니다:\n",
        "\n",
        "```bash\n",
        "# .env 파일 생성\n",
        "OPENAI_API_KEY=sk-...\n",
        "OPENROUTER_API_KEY=or-...\n",
        "HUGGINGFACE_API_KEY=hf-...\n",
        "```\n",
        "\n",
        "**2: python-dotenv 패키지 사용**\n",
        "\n",
        "```python\n",
        "from dotenv import load_dotenv\n",
        "load_dotenv() # .env 파일의 경로가 다를경우 직접 상대경로 또는 절대 경로를 입력해주어야합니다. load_dotenv(path=\"경로\")\n",
        "\n",
        "OPENAI_API_KEY = os.getenv(\"OPENAI_API_KEY\")\n",
        "```"
      ]
    },
    {
      "cell_type": "markdown",
      "metadata": {},
      "source": [
        "\n",
        "-----\n"
      ]
    },
    {
      "cell_type": "markdown",
      "metadata": {},
      "source": [
        "\n",
        "## 1\\. OpenAI 임베딩 API 사용법\n",
        "\n",
        "| 최신 모델 | 최대 컨텍스트 | 가격 (입력 + 출력 합산) |\n",
        "| :--- | :--- | :--- |\n",
        "| `text-embedding-3-small` | 8,191 tokens | **$0.02 / 1M tokens** |\n",
        "| `text-embedding-3-large` | 8,191 tokens | $0.13 / 1M tokens |\n",
        "\n",
        "> `text-embedding-3-small`는 이전 세대(`ada-002`) 대비 5배 더 저렴하고 품질도 높습니다.\n",
        "\n",
        "### 1-1. 계정·키 만들기\n",
        "\n",
        "1.  [https://platform.openai.com](https://platform.openai.com) 에 가입합니다.\n",
        "2.  “API Keys” 메뉴에서 “Create new secret key”를 클릭합니다.\n",
        "3.  키를 복사해 `OPENAI_API_KEY` 환경 변수에 저장합니다.\n",
        "\n",
        "### 1-2. 간단 예제"
      ]
    },
    {
      "cell_type": "code",
      "execution_count": 41,
      "metadata": {
        "id": "Ep3GHlqdTx_r"
      },
      "outputs": [
        {
          "name": "stdout",
          "output_type": "stream",
          "text": [
            "벡터 차원: 1536\n",
            "첫 번째 벡터 (앞 5개 차원): [-0.0006629062700085342, 0.006121872924268246, -0.022473985329270363, 0.0017351238057017326, 0.013250499032437801]\n"
          ]
        }
      ],
      "source": [
        "from openai import OpenAI\n",
        "from dotenv import load_dotenv\n",
        "import os\n",
        "\n",
        "load_dotenv()\n",
        "\n",
        "# API 키는 환경 변수(`OPENAI_API_KEY`)에서 자동으로 로드됩니다.\n",
        "client = OpenAI()\n",
        "text_list = [\"인공지능의 미래는 밝다.\", \"오늘 점심은 무엇을 먹을까?\"]\n",
        "\n",
        "response = client.embeddings.create(\n",
        "    model=\"text-embedding-3-small\",\n",
        "    input=text_list\n",
        ")\n",
        "\n",
        "vectors = [obj.embedding for obj in response.data]\n",
        "print(f\"벡터 차원: {len(vectors[0])}\")\n",
        "print(f\"첫 번째 벡터 (앞 5개 차원): {vectors[0][:5]}\")"
      ]
    },
    {
      "cell_type": "markdown",
      "metadata": {
        "id": "kBMBl05tTx_r"
      },
      "source": [
        "### 1-3. 비용 감 잡기\n",
        "\n",
        "  - **문서 1,000개** (각 500 토큰) ≈ 500,000 토큰 ≈ **$0.01** (약 13원)\n",
        "  - **Chunking**: 문서를 512 토큰 이하로 잘라 처리하면 품질과 비용을 최적화할 수 있습니다.\n",
        "  - **캐싱**: 동일한 문장은 한 번만 임베딩하여 결과를 저장하고 재사용하는 것이 비용 절감에 필수적입니다.\n",
        "\n",
        "-----\n",
        "\n",
        "## 2\\. OpenRouter (무료/저요금) 임베딩 API 사용법\n",
        "\n",
        "OpenRouter는 400개 이상의 다양한 모델을 OpenAI API와 호환되는 형식으로 제공하는 프록시 서비스입니다. 여러 모델이 무료 또는 매우 저렴하게 제공되어 개발, 연구, 학습용으로 인기가 높습니다.\n",
        "\n",
        "### 2-1. 계정·키 만들기\n",
        "\n",
        "1.  [https://openrouter.ai](https://openrouter.ai) 에 가입합니다.\n",
        "2.  **Dashboard → API Keys** 메뉴에서 키를 발급받습니다.\n",
        "3.  발급받은 키를 `OPENROUTER_API_KEY` 환경 변수에 저장합니다.\n",
        "\n",
        "### 2-2. 무료 임베딩 모델 예시\n",
        "\n",
        "| 모델 ID (OpenRouter) | 가격 | 특징 |\n",
        "| :--- | :--- | :--- |\n",
        "| `google/gemma-2-9b-it:free` | $0 / token | Google의 최신 모델, 다국어 지원 |\n",
        "| `mistralai/mistral-7b-instruct:free` | $0 / token | 작고 빠른 모델, 준수한 성능 |\n",
        "| `jinaai/jina-embeddings-v2-base-en`| $0.01 / 1M tokens| 임베딩 전용 모델, 영어 특화 |\n",
        "\n",
        "> **참고**: 무료 모델은 분당 토큰 처리량(TPM)과 동시 요청 수에 제한이 있습니다.\n",
        "\n",
        "### 2-3. 최소 예제 (OpenAI SDK 그대로)\n",
        "\n",
        "OpenAI SDK 코드에서 `base_url`과 `model` ID만 변경하면 바로 사용할 수 있습니다."
      ]
    },
    {
      "cell_type": "code",
      "execution_count": 7,
      "metadata": {
        "id": "L2boiWWQTx_s"
      },
      "outputs": [
        {
          "name": "stdout",
          "output_type": "stream",
          "text": [
            "응답: 인공지능(AI)의 미래에 대해 간단히 설명하고자면 다음과 같습니다.\n",
            "\n",
            "인공지능은 현재는 정보처리, 게임, 의료, 자율주행 등 다양한 분야에서 사용되고 있습니다. 그러나 AI의 발전은 더욱 빠르게 진행되고 있으며, 미래에는 인공지능이 우리 삶의 거의 모든 부분에 영향을 미칠 것으로 예상됩니다.\n",
            "\n",
            "**미래의 인공지능 특징**\n",
            "\n",
            "1.  **인간과 밀접한 협력**: 인공지능은 더욱 인간과 밀접히 협력할 것으로 예상됩니다. 예를 들어, 의료 데이터를 분석하고 의사와 협력하여 환자의 건강을 쪽속 관장할 수 있습니다.\n",
            "2.  **자율이 더 강화**: 인공지능은 더욱 자율적으로 작동할 것으로 예상됩니다. 예를 들어, 자율 주행 자동차, 의료 로봇 등이 자율로 작동\n",
            "사용된 토큰 수: 246\n"
          ]
        }
      ],
      "source": [
        "import os\n",
        "from openai import OpenAI\n",
        "\n",
        "client = OpenAI(\n",
        "    base_url=\"https://openrouter.ai/api/v1\",\n",
        "    api_key=os.getenv(\"OPENROUTER_API_KEY\"),\n",
        ")\n",
        "\n",
        "messages = [\n",
        "    {\"role\": \"system\", \"content\": \"당신은 도움이 되는 AI 어시스턴트입니다.\"},\n",
        "    {\"role\": \"user\", \"content\": \"인공지능의 미래에 대해 간단히 설명해주세요.\"}\n",
        "]\n",
        "\n",
        "response = client.chat.completions.create(\n",
        "    model=\"meta-llama/llama-3.1-8b-instruct:free\", # OpenRouter에서 제공하는 모델 ID\n",
        "    messages=messages,\n",
        "    max_tokens=200,\n",
        "    temperature=0.7\n",
        ")\n",
        "\n",
        "print(f\"응답: {response.choices[0].message.content}\")\n",
        "print(f\"사용된 토큰 수: {response.usage.total_tokens}\")"
      ]
    },
    {
      "cell_type": "markdown",
      "metadata": {
        "id": "mhwwrmkNTx_s"
      },
      "source": [
        "### 2-4. 품질 및 제한 팁\n",
        "\n",
        "  * **속도**: 무료 모델은 응답이 느릴 수 있으므로, 대량 작업 시에는 배치 처리와 `time.sleep()`을 이용한 간격 조절이 필요합니다.\n",
        "  * **품질**: 모델마다 성능 편차가 크므로, 작은 데이터셋으로 사전 테스트 후 사용할 모델을 결정하는 것이 좋습니다.\n",
        "  * **가용성**: 무료 모델은 서버 용량이 가득 차면 에러를 반환할 수 있습니다. `try-except`와 재시도 로직을 구현하면 안정성을 높일 수 있습니다.\n",
        "\n",
        "-----\n",
        "\n",
        "## 3\\. Hugging Face 임베딩 API 사용법\n",
        "\n",
        "Hugging Face는 전 세계 AI 모델의 허브로, **Inference API**를 통해 수많은 오픈소스 모델을 서버리스 형태로 사용할 수 있게 지원합니다. 특히 한국어 특화 임베딩 모델을 무료 티어에서 테스트하기에 매우 유용합니다.\n",
        "\n",
        "### 3-1. 계정·키 만들기\n",
        "\n",
        "1.  [https://huggingface.co](https://huggingface.co) 에 가입합니다.\n",
        "2.  **Profile → Settings → Access Tokens** 메뉴로 이동합니다.\n",
        "3.  `New token` 버튼을 눌러 'read' 권한의 키를 발급하고, 이 값을 `HUGGINGFACE_API_KEY` 환경 변수에 저장합니다.\n",
        "\n",
        "### 3-2. 추천 한국어 임베딩 모델\n",
        "\n",
        "| 모델 ID (Hugging Face) | 특징 |\n",
        "| :--- | :--- |\n",
        "| `jhgan/ko-sroberta-multitask` | 다양한 한국어 태스크로 학습되어 범용성이 높음 (SBERT 기반) |\n",
        "| `snunlp/KR-SBERT-V40K-klueNLI-augSTS` | 한국어 문장 유사도(STS) 측정에 특화된 모델 |\n",
        "| `google-bert/bert-base-multilingual-cased` | 다국어 모델로, 여러 언어가 섞인 환경에서 유용 |\n",
        "\n",
        "### 3-3. 최소 예제 (`requests` 라이브러리)\n",
        "\n",
        "Hugging Face Inference API는 `requests` 라이브러리를 통해 직접 호출할 수 있습니다."
      ]
    },
    {
      "cell_type": "code",
      "execution_count": 11,
      "metadata": {},
      "outputs": [
        {
          "name": "stdout",
          "output_type": "stream",
          "text": [
            "Collecting tf-keras\n",
            "  Downloading tf_keras-2.19.0-py3-none-any.whl.metadata (1.8 kB)\n",
            "Requirement already satisfied: tensorflow<2.20,>=2.19 in /Users/dante/workspace/dante-code/class/star_track_python/.venv/lib/python3.12/site-packages (from tf-keras) (2.19.0)\n",
            "Requirement already satisfied: absl-py>=1.0.0 in /Users/dante/workspace/dante-code/class/star_track_python/.venv/lib/python3.12/site-packages (from tensorflow<2.20,>=2.19->tf-keras) (2.3.0)\n",
            "Requirement already satisfied: astunparse>=1.6.0 in /Users/dante/workspace/dante-code/class/star_track_python/.venv/lib/python3.12/site-packages (from tensorflow<2.20,>=2.19->tf-keras) (1.6.3)\n",
            "Requirement already satisfied: flatbuffers>=24.3.25 in /Users/dante/workspace/dante-code/class/star_track_python/.venv/lib/python3.12/site-packages (from tensorflow<2.20,>=2.19->tf-keras) (25.2.10)\n",
            "Requirement already satisfied: gast!=0.5.0,!=0.5.1,!=0.5.2,>=0.2.1 in /Users/dante/workspace/dante-code/class/star_track_python/.venv/lib/python3.12/site-packages (from tensorflow<2.20,>=2.19->tf-keras) (0.6.0)\n",
            "Requirement already satisfied: google-pasta>=0.1.1 in /Users/dante/workspace/dante-code/class/star_track_python/.venv/lib/python3.12/site-packages (from tensorflow<2.20,>=2.19->tf-keras) (0.2.0)\n",
            "Requirement already satisfied: libclang>=13.0.0 in /Users/dante/workspace/dante-code/class/star_track_python/.venv/lib/python3.12/site-packages (from tensorflow<2.20,>=2.19->tf-keras) (18.1.1)\n",
            "Requirement already satisfied: opt-einsum>=2.3.2 in /Users/dante/workspace/dante-code/class/star_track_python/.venv/lib/python3.12/site-packages (from tensorflow<2.20,>=2.19->tf-keras) (3.4.0)\n",
            "Requirement already satisfied: packaging in /Users/dante/workspace/dante-code/class/star_track_python/.venv/lib/python3.12/site-packages (from tensorflow<2.20,>=2.19->tf-keras) (25.0)\n",
            "Requirement already satisfied: protobuf!=4.21.0,!=4.21.1,!=4.21.2,!=4.21.3,!=4.21.4,!=4.21.5,<6.0.0dev,>=3.20.3 in /Users/dante/workspace/dante-code/class/star_track_python/.venv/lib/python3.12/site-packages (from tensorflow<2.20,>=2.19->tf-keras) (5.29.5)\n",
            "Requirement already satisfied: requests<3,>=2.21.0 in /Users/dante/workspace/dante-code/class/star_track_python/.venv/lib/python3.12/site-packages (from tensorflow<2.20,>=2.19->tf-keras) (2.32.3)\n",
            "Requirement already satisfied: setuptools in /Users/dante/workspace/dante-code/class/star_track_python/.venv/lib/python3.12/site-packages (from tensorflow<2.20,>=2.19->tf-keras) (80.9.0)\n",
            "Requirement already satisfied: six>=1.12.0 in /Users/dante/workspace/dante-code/class/star_track_python/.venv/lib/python3.12/site-packages (from tensorflow<2.20,>=2.19->tf-keras) (1.17.0)\n",
            "Requirement already satisfied: termcolor>=1.1.0 in /Users/dante/workspace/dante-code/class/star_track_python/.venv/lib/python3.12/site-packages (from tensorflow<2.20,>=2.19->tf-keras) (3.1.0)\n",
            "Requirement already satisfied: typing-extensions>=3.6.6 in /Users/dante/workspace/dante-code/class/star_track_python/.venv/lib/python3.12/site-packages (from tensorflow<2.20,>=2.19->tf-keras) (4.13.2)\n",
            "Requirement already satisfied: wrapt>=1.11.0 in /Users/dante/workspace/dante-code/class/star_track_python/.venv/lib/python3.12/site-packages (from tensorflow<2.20,>=2.19->tf-keras) (1.17.2)\n",
            "Requirement already satisfied: grpcio<2.0,>=1.24.3 in /Users/dante/workspace/dante-code/class/star_track_python/.venv/lib/python3.12/site-packages (from tensorflow<2.20,>=2.19->tf-keras) (1.73.0)\n",
            "Requirement already satisfied: tensorboard~=2.19.0 in /Users/dante/workspace/dante-code/class/star_track_python/.venv/lib/python3.12/site-packages (from tensorflow<2.20,>=2.19->tf-keras) (2.19.0)\n",
            "Requirement already satisfied: keras>=3.5.0 in /Users/dante/workspace/dante-code/class/star_track_python/.venv/lib/python3.12/site-packages (from tensorflow<2.20,>=2.19->tf-keras) (3.10.0)\n",
            "Requirement already satisfied: numpy<2.2.0,>=1.26.0 in /Users/dante/workspace/dante-code/class/star_track_python/.venv/lib/python3.12/site-packages (from tensorflow<2.20,>=2.19->tf-keras) (1.26.4)\n",
            "Requirement already satisfied: h5py>=3.11.0 in /Users/dante/workspace/dante-code/class/star_track_python/.venv/lib/python3.12/site-packages (from tensorflow<2.20,>=2.19->tf-keras) (3.14.0)\n",
            "Requirement already satisfied: ml-dtypes<1.0.0,>=0.5.1 in /Users/dante/workspace/dante-code/class/star_track_python/.venv/lib/python3.12/site-packages (from tensorflow<2.20,>=2.19->tf-keras) (0.5.1)\n",
            "Requirement already satisfied: charset-normalizer<4,>=2 in /Users/dante/workspace/dante-code/class/star_track_python/.venv/lib/python3.12/site-packages (from requests<3,>=2.21.0->tensorflow<2.20,>=2.19->tf-keras) (3.4.2)\n",
            "Requirement already satisfied: idna<4,>=2.5 in /Users/dante/workspace/dante-code/class/star_track_python/.venv/lib/python3.12/site-packages (from requests<3,>=2.21.0->tensorflow<2.20,>=2.19->tf-keras) (3.10)\n",
            "Requirement already satisfied: urllib3<3,>=1.21.1 in /Users/dante/workspace/dante-code/class/star_track_python/.venv/lib/python3.12/site-packages (from requests<3,>=2.21.0->tensorflow<2.20,>=2.19->tf-keras) (2.4.0)\n",
            "Requirement already satisfied: certifi>=2017.4.17 in /Users/dante/workspace/dante-code/class/star_track_python/.venv/lib/python3.12/site-packages (from requests<3,>=2.21.0->tensorflow<2.20,>=2.19->tf-keras) (2025.4.26)\n",
            "Requirement already satisfied: markdown>=2.6.8 in /Users/dante/workspace/dante-code/class/star_track_python/.venv/lib/python3.12/site-packages (from tensorboard~=2.19.0->tensorflow<2.20,>=2.19->tf-keras) (3.8)\n",
            "Requirement already satisfied: tensorboard-data-server<0.8.0,>=0.7.0 in /Users/dante/workspace/dante-code/class/star_track_python/.venv/lib/python3.12/site-packages (from tensorboard~=2.19.0->tensorflow<2.20,>=2.19->tf-keras) (0.7.2)\n",
            "Requirement already satisfied: werkzeug>=1.0.1 in /Users/dante/workspace/dante-code/class/star_track_python/.venv/lib/python3.12/site-packages (from tensorboard~=2.19.0->tensorflow<2.20,>=2.19->tf-keras) (3.0.6)\n",
            "Requirement already satisfied: wheel<1.0,>=0.23.0 in /Users/dante/workspace/dante-code/class/star_track_python/.venv/lib/python3.12/site-packages (from astunparse>=1.6.0->tensorflow<2.20,>=2.19->tf-keras) (0.45.1)\n",
            "Requirement already satisfied: rich in /Users/dante/workspace/dante-code/class/star_track_python/.venv/lib/python3.12/site-packages (from keras>=3.5.0->tensorflow<2.20,>=2.19->tf-keras) (14.0.0)\n",
            "Requirement already satisfied: namex in /Users/dante/workspace/dante-code/class/star_track_python/.venv/lib/python3.12/site-packages (from keras>=3.5.0->tensorflow<2.20,>=2.19->tf-keras) (0.1.0)\n",
            "Requirement already satisfied: optree in /Users/dante/workspace/dante-code/class/star_track_python/.venv/lib/python3.12/site-packages (from keras>=3.5.0->tensorflow<2.20,>=2.19->tf-keras) (0.16.0)\n",
            "Requirement already satisfied: MarkupSafe>=2.1.1 in /Users/dante/workspace/dante-code/class/star_track_python/.venv/lib/python3.12/site-packages (from werkzeug>=1.0.1->tensorboard~=2.19.0->tensorflow<2.20,>=2.19->tf-keras) (3.0.2)\n",
            "Requirement already satisfied: markdown-it-py>=2.2.0 in /Users/dante/workspace/dante-code/class/star_track_python/.venv/lib/python3.12/site-packages (from rich->keras>=3.5.0->tensorflow<2.20,>=2.19->tf-keras) (3.0.0)\n",
            "Requirement already satisfied: pygments<3.0.0,>=2.13.0 in /Users/dante/workspace/dante-code/class/star_track_python/.venv/lib/python3.12/site-packages (from rich->keras>=3.5.0->tensorflow<2.20,>=2.19->tf-keras) (2.19.1)\n",
            "Requirement already satisfied: mdurl~=0.1 in /Users/dante/workspace/dante-code/class/star_track_python/.venv/lib/python3.12/site-packages (from markdown-it-py>=2.2.0->rich->keras>=3.5.0->tensorflow<2.20,>=2.19->tf-keras) (0.1.2)\n",
            "Downloading tf_keras-2.19.0-py3-none-any.whl (1.7 MB)\n",
            "\u001b[2K   \u001b[90m━━━━━━━━━━━━━━━━━━━━━━━━━━━━━━━━━━━━━━━━\u001b[0m \u001b[32m1.7/1.7 MB\u001b[0m \u001b[31m20.0 MB/s\u001b[0m eta \u001b[36m0:00:00\u001b[0m\n",
            "\u001b[?25hInstalling collected packages: tf-keras\n",
            "Successfully installed tf-keras-2.19.0\n"
          ]
        }
      ],
      "source": [
        "!pip install tf-keras"
      ]
    },
    {
      "cell_type": "code",
      "execution_count": null,
      "metadata": {
        "id": "7HfyCtI6Tx_s"
      },
      "outputs": [],
      "source": [
        "import os\n",
        "import requests\n",
        "import numpy as np\n",
        "\n",
        "# 사용할 모델의 API URL\n",
        "API_URL = \"https://api-inference.huggingface.co/models/jhgan/ko-sroberta-multitask\"\n",
        "headers = {\"Authorization\": f\"Bearer {os.getenv('HUGGINGFACE_API_KEY')}\"}\n",
        "\n",
        "def get_hf_embedding(text_list: list[str]) -> np.ndarray | None:\n",
        "    try:\n",
        "        response = requests.post(API_URL, headers=headers, json={\"inputs\": text_list})\n",
        "        response.raise_for_status()\n",
        "        # Hugging Face API는 벡터 리스트를 직접 반환합니다.\n",
        "        return np.array(response.json())\n",
        "    except requests.exceptions.RequestException as e:\n",
        "        print(f\"API 요청 중 에러가 발생했습니다: {e}\")\n",
        "        return None\n",
        "\n",
        "# API 호출\n",
        "text_list = [\"인공지능의 미래는 밝다.\", \"오늘 점심은 무엇을 먹을까?\"]\n",
        "vectors = get_hf_embedding(text_list)\n",
        "\n",
        "if vectors is not None:\n",
        "    print(f\"벡터 차원: {len(vectors[0])}\")\n",
        "    print(f\"첫 번째 벡터 (앞 5개 차원): {vectors[0][:5]}\")"
      ]
    },
    {
      "cell_type": "markdown",
      "metadata": {
        "id": "5Z5EGJVUTx_s"
      },
      "source": [
        "### 3-4. (심화) `sentence-transformers` 라이브러리 활용\n",
        "\n",
        "`sentence-transformers` 라이브러리를 사용하면 Hugging Face의 모델을 더 간편하게 다룰 수 있습니다. API 호출 대신 모델을 로컬에 다운로드하여 실행하는 방식이지만, 코드가 매우 직관적입니다."
      ]
    },
    {
      "cell_type": "code",
      "execution_count": null,
      "metadata": {},
      "outputs": [
        {
          "data": {
            "application/vnd.jupyter.widget-view+json": {
              "model_id": "3b4a6d3a60944ac48cadf6852bc6f8c6",
              "version_major": 2,
              "version_minor": 0
            },
            "text/plain": [
              "modules.json:   0%|          | 0.00/349 [00:00<?, ?B/s]"
            ]
          },
          "metadata": {},
          "output_type": "display_data"
        },
        {
          "data": {
            "application/vnd.jupyter.widget-view+json": {
              "model_id": "605d9ad0611e40e89684e3bc8cc67429",
              "version_major": 2,
              "version_minor": 0
            },
            "text/plain": [
              "config_sentence_transformers.json:   0%|          | 0.00/215 [00:00<?, ?B/s]"
            ]
          },
          "metadata": {},
          "output_type": "display_data"
        },
        {
          "data": {
            "application/vnd.jupyter.widget-view+json": {
              "model_id": "4ae204653f5f431db971380dde92ea6c",
              "version_major": 2,
              "version_minor": 0
            },
            "text/plain": [
              "README.md:   0%|          | 0.00/16.3k [00:00<?, ?B/s]"
            ]
          },
          "metadata": {},
          "output_type": "display_data"
        },
        {
          "data": {
            "application/vnd.jupyter.widget-view+json": {
              "model_id": "352aa255659548d281f472e95409a950",
              "version_major": 2,
              "version_minor": 0
            },
            "text/plain": [
              "config.json:   0%|          | 0.00/727 [00:00<?, ?B/s]"
            ]
          },
          "metadata": {},
          "output_type": "display_data"
        },
        {
          "data": {
            "application/vnd.jupyter.widget-view+json": {
              "model_id": "b611f4aea4cb4f81b7d7a23905160035",
              "version_major": 2,
              "version_minor": 0
            },
            "text/plain": [
              "model.safetensors:   0%|          | 0.00/1.19G [00:00<?, ?B/s]"
            ]
          },
          "metadata": {},
          "output_type": "display_data"
        }
      ],
      "source": [
        "from sentence_transformers import SentenceTransformer\n",
        "\n",
        "model = SentenceTransformer(\"Qwen/Qwen3-Embedding-0.6B\")\n",
        "\n",
        "text_list = [\"인공지능의 미래는 밝다.\", \"오늘 점심은 무엇을 먹을까?\"]\n",
        "\n",
        "vectors = model.encode(text_list)\n",
        "\n",
        "print(vectors)"
      ]
    },
    {
      "cell_type": "code",
      "execution_count": 13,
      "metadata": {
        "id": "BL_V_bG1Tx_s"
      },
      "outputs": [
        {
          "data": {
            "application/vnd.jupyter.widget-view+json": {
              "model_id": "3caf1a79f21f4e9d977f5168bfaf57c1",
              "version_major": 2,
              "version_minor": 0
            },
            "text/plain": [
              "modules.json:   0%|          | 0.00/229 [00:00<?, ?B/s]"
            ]
          },
          "metadata": {},
          "output_type": "display_data"
        },
        {
          "data": {
            "application/vnd.jupyter.widget-view+json": {
              "model_id": "5160f1a5621e4a488d2190d85adf59cf",
              "version_major": 2,
              "version_minor": 0
            },
            "text/plain": [
              "config_sentence_transformers.json:   0%|          | 0.00/123 [00:00<?, ?B/s]"
            ]
          },
          "metadata": {},
          "output_type": "display_data"
        },
        {
          "data": {
            "application/vnd.jupyter.widget-view+json": {
              "model_id": "ead5308dab9342ebbbc8f78bf852e14f",
              "version_major": 2,
              "version_minor": 0
            },
            "text/plain": [
              "README.md:   0%|          | 0.00/4.86k [00:00<?, ?B/s]"
            ]
          },
          "metadata": {},
          "output_type": "display_data"
        },
        {
          "data": {
            "application/vnd.jupyter.widget-view+json": {
              "model_id": "3ee96501341544e0b57b8f02aefd7549",
              "version_major": 2,
              "version_minor": 0
            },
            "text/plain": [
              "sentence_bert_config.json:   0%|          | 0.00/53.0 [00:00<?, ?B/s]"
            ]
          },
          "metadata": {},
          "output_type": "display_data"
        },
        {
          "data": {
            "application/vnd.jupyter.widget-view+json": {
              "model_id": "ebc69ed5d154440b8d8ff70218a77c7b",
              "version_major": 2,
              "version_minor": 0
            },
            "text/plain": [
              "config.json:   0%|          | 0.00/744 [00:00<?, ?B/s]"
            ]
          },
          "metadata": {},
          "output_type": "display_data"
        },
        {
          "data": {
            "application/vnd.jupyter.widget-view+json": {
              "model_id": "d9cf9685397f4349a5cefe847158fa6e",
              "version_major": 2,
              "version_minor": 0
            },
            "text/plain": [
              "pytorch_model.bin:   0%|          | 0.00/443M [00:00<?, ?B/s]"
            ]
          },
          "metadata": {},
          "output_type": "display_data"
        },
        {
          "data": {
            "application/vnd.jupyter.widget-view+json": {
              "model_id": "0ced30cde0fa47b5bc7cce8c9a8567c3",
              "version_major": 2,
              "version_minor": 0
            },
            "text/plain": [
              "tokenizer_config.json:   0%|          | 0.00/585 [00:00<?, ?B/s]"
            ]
          },
          "metadata": {},
          "output_type": "display_data"
        },
        {
          "data": {
            "application/vnd.jupyter.widget-view+json": {
              "model_id": "a59f4e434c0d4f6ea7a7709703b75050",
              "version_major": 2,
              "version_minor": 0
            },
            "text/plain": [
              "vocab.txt:   0%|          | 0.00/248k [00:00<?, ?B/s]"
            ]
          },
          "metadata": {},
          "output_type": "display_data"
        },
        {
          "data": {
            "application/vnd.jupyter.widget-view+json": {
              "model_id": "23347be727aa498581ffe209bcb69600",
              "version_major": 2,
              "version_minor": 0
            },
            "text/plain": [
              "model.safetensors:   0%|          | 0.00/442M [00:00<?, ?B/s]"
            ]
          },
          "metadata": {},
          "output_type": "display_data"
        },
        {
          "data": {
            "application/vnd.jupyter.widget-view+json": {
              "model_id": "12b5f4e563064116bf6d82b06c5b2356",
              "version_major": 2,
              "version_minor": 0
            },
            "text/plain": [
              "tokenizer.json:   0%|          | 0.00/495k [00:00<?, ?B/s]"
            ]
          },
          "metadata": {},
          "output_type": "display_data"
        },
        {
          "data": {
            "application/vnd.jupyter.widget-view+json": {
              "model_id": "7f725bbb93b94281a7189e8d9d4b7fa9",
              "version_major": 2,
              "version_minor": 0
            },
            "text/plain": [
              "special_tokens_map.json:   0%|          | 0.00/156 [00:00<?, ?B/s]"
            ]
          },
          "metadata": {},
          "output_type": "display_data"
        },
        {
          "data": {
            "application/vnd.jupyter.widget-view+json": {
              "model_id": "be58be167d2f447b83150562fd5f8880",
              "version_major": 2,
              "version_minor": 0
            },
            "text/plain": [
              "config.json:   0%|          | 0.00/190 [00:00<?, ?B/s]"
            ]
          },
          "metadata": {},
          "output_type": "display_data"
        },
        {
          "name": "stdout",
          "output_type": "stream",
          "text": [
            "벡터 차원: 768\n",
            "첫 번째 벡터 (앞 5개 차원): [-0.3747718   0.62013024  0.13008459  0.2540554  -0.19390926]\n"
          ]
        }
      ],
      "source": [
        "from sentence_transformers import SentenceTransformer\n",
        "\n",
        "# 모델을 로컬에 다운로드하고 초기화합니다. (최초 실행 시 시간 소요)\n",
        "model = SentenceTransformer('jhgan/ko-sroberta-multitask')\n",
        "\n",
        "text_list = [\"인공지능의 미래는 밝다.\", \"오늘 점심은 무엇을 먹을까?\"]\n",
        "vectors = model.encode(text_list)\n",
        "\n",
        "print(f\"벡터 차원: {vectors.shape[1]}\")\n",
        "print(f\"첫 번째 벡터 (앞 5개 차원): {vectors[0][:5]}\")"
      ]
    },
    {
      "cell_type": "code",
      "execution_count": 15,
      "metadata": {},
      "outputs": [
        {
          "data": {
            "application/vnd.jupyter.widget-view+json": {
              "model_id": "32d1192c95e745608fa3a296911ff125",
              "version_major": 2,
              "version_minor": 0
            },
            "text/plain": [
              "modules.json:   0%|          | 0.00/349 [00:00<?, ?B/s]"
            ]
          },
          "metadata": {},
          "output_type": "display_data"
        },
        {
          "data": {
            "application/vnd.jupyter.widget-view+json": {
              "model_id": "9689a8d0eaf5468f99288dad1ef330d2",
              "version_major": 2,
              "version_minor": 0
            },
            "text/plain": [
              "config_sentence_transformers.json:   0%|          | 0.00/208 [00:00<?, ?B/s]"
            ]
          },
          "metadata": {},
          "output_type": "display_data"
        },
        {
          "data": {
            "application/vnd.jupyter.widget-view+json": {
              "model_id": "8c40d83f9eee46fb98ae34445c5f525f",
              "version_major": 2,
              "version_minor": 0
            },
            "text/plain": [
              "README.md:   0%|          | 0.00/602k [00:00<?, ?B/s]"
            ]
          },
          "metadata": {},
          "output_type": "display_data"
        },
        {
          "data": {
            "application/vnd.jupyter.widget-view+json": {
              "model_id": "dea269fd9cd44281b0a9f83c2113f79b",
              "version_major": 2,
              "version_minor": 0
            },
            "text/plain": [
              "sentence_bert_config.json:   0%|          | 0.00/55.0 [00:00<?, ?B/s]"
            ]
          },
          "metadata": {},
          "output_type": "display_data"
        },
        {
          "data": {
            "application/vnd.jupyter.widget-view+json": {
              "model_id": "2336638dfb6640c6992760df8270ae0c",
              "version_major": 2,
              "version_minor": 0
            },
            "text/plain": [
              "config.json:   0%|          | 0.00/655 [00:00<?, ?B/s]"
            ]
          },
          "metadata": {},
          "output_type": "display_data"
        },
        {
          "data": {
            "application/vnd.jupyter.widget-view+json": {
              "model_id": "ba98db77fe87488e8e184dad35555af1",
              "version_major": 2,
              "version_minor": 0
            },
            "text/plain": [
              "model.safetensors:   0%|          | 0.00/1.98G [00:00<?, ?B/s]"
            ]
          },
          "metadata": {},
          "output_type": "display_data"
        },
        {
          "ename": "KeyboardInterrupt",
          "evalue": "",
          "output_type": "error",
          "traceback": [
            "\u001b[31m---------------------------------------------------------------------------\u001b[39m",
            "\u001b[31mKeyboardInterrupt\u001b[39m                         Traceback (most recent call last)",
            "\u001b[36mCell\u001b[39m\u001b[36m \u001b[39m\u001b[32mIn[15]\u001b[39m\u001b[32m, line 6\u001b[39m\n\u001b[32m      1\u001b[39m \u001b[38;5;28;01mfrom\u001b[39;00m\u001b[38;5;250m \u001b[39m\u001b[34;01msentence_transformers\u001b[39;00m\u001b[38;5;250m \u001b[39m\u001b[38;5;28;01mimport\u001b[39;00m SentenceTransformer\n\u001b[32m      4\u001b[39m sentences = [\u001b[33m\"\u001b[39m\u001b[33mThis is an example sentence\u001b[39m\u001b[33m\"\u001b[39m, \u001b[33m\"\u001b[39m\u001b[33mEach sentence is converted\u001b[39m\u001b[33m\"\u001b[39m]\n\u001b[32m----> \u001b[39m\u001b[32m6\u001b[39m model = \u001b[43mSentenceTransformer\u001b[49m\u001b[43m(\u001b[49m\u001b[33;43m'\u001b[39;49m\u001b[33;43mHIT-TMG/KaLM-embedding-multilingual-mini-instruct-v1.5\u001b[39;49m\u001b[33;43m'\u001b[39;49m\u001b[43m)\u001b[49m   \u001b[38;5;66;03m# Do NOT set trust_remote_code\u001b[39;00m\n\u001b[32m      7\u001b[39m model.max_seq_length = \u001b[32m512\u001b[39m\n\u001b[32m      9\u001b[39m embeddings = model.encode(\n\u001b[32m     10\u001b[39m     sentences, \n\u001b[32m     11\u001b[39m     normalize_embeddings=\u001b[38;5;28;01mTrue\u001b[39;00m,\n\u001b[32m     12\u001b[39m     batch_size=\u001b[32m256\u001b[39m, \n\u001b[32m     13\u001b[39m     show_progress_bar=\u001b[38;5;28;01mTrue\u001b[39;00m\n\u001b[32m     14\u001b[39m     )\n",
            "\u001b[36mFile \u001b[39m\u001b[32m~/workspace/dante-code/class/star_track_python/.venv/lib/python3.12/site-packages/sentence_transformers/SentenceTransformer.py:309\u001b[39m, in \u001b[36mSentenceTransformer.__init__\u001b[39m\u001b[34m(self, model_name_or_path, modules, device, prompts, default_prompt_name, similarity_fn_name, cache_folder, trust_remote_code, revision, local_files_only, token, use_auth_token, truncate_dim, model_kwargs, tokenizer_kwargs, config_kwargs, model_card_data, backend)\u001b[39m\n\u001b[32m    300\u001b[39m         model_name_or_path = __MODEL_HUB_ORGANIZATION__ + \u001b[33m\"\u001b[39m\u001b[33m/\u001b[39m\u001b[33m\"\u001b[39m + model_name_or_path\n\u001b[32m    302\u001b[39m \u001b[38;5;28;01mif\u001b[39;00m is_sentence_transformer_model(\n\u001b[32m    303\u001b[39m     model_name_or_path,\n\u001b[32m    304\u001b[39m     token,\n\u001b[32m   (...)\u001b[39m\u001b[32m    307\u001b[39m     local_files_only=local_files_only,\n\u001b[32m    308\u001b[39m ):\n\u001b[32m--> \u001b[39m\u001b[32m309\u001b[39m     modules, \u001b[38;5;28mself\u001b[39m.module_kwargs = \u001b[38;5;28;43mself\u001b[39;49m\u001b[43m.\u001b[49m\u001b[43m_load_sbert_model\u001b[49m\u001b[43m(\u001b[49m\n\u001b[32m    310\u001b[39m \u001b[43m        \u001b[49m\u001b[43mmodel_name_or_path\u001b[49m\u001b[43m,\u001b[49m\n\u001b[32m    311\u001b[39m \u001b[43m        \u001b[49m\u001b[43mtoken\u001b[49m\u001b[43m=\u001b[49m\u001b[43mtoken\u001b[49m\u001b[43m,\u001b[49m\n\u001b[32m    312\u001b[39m \u001b[43m        \u001b[49m\u001b[43mcache_folder\u001b[49m\u001b[43m=\u001b[49m\u001b[43mcache_folder\u001b[49m\u001b[43m,\u001b[49m\n\u001b[32m    313\u001b[39m \u001b[43m        \u001b[49m\u001b[43mrevision\u001b[49m\u001b[43m=\u001b[49m\u001b[43mrevision\u001b[49m\u001b[43m,\u001b[49m\n\u001b[32m    314\u001b[39m \u001b[43m        \u001b[49m\u001b[43mtrust_remote_code\u001b[49m\u001b[43m=\u001b[49m\u001b[43mtrust_remote_code\u001b[49m\u001b[43m,\u001b[49m\n\u001b[32m    315\u001b[39m \u001b[43m        \u001b[49m\u001b[43mlocal_files_only\u001b[49m\u001b[43m=\u001b[49m\u001b[43mlocal_files_only\u001b[49m\u001b[43m,\u001b[49m\n\u001b[32m    316\u001b[39m \u001b[43m        \u001b[49m\u001b[43mmodel_kwargs\u001b[49m\u001b[43m=\u001b[49m\u001b[43mmodel_kwargs\u001b[49m\u001b[43m,\u001b[49m\n\u001b[32m    317\u001b[39m \u001b[43m        \u001b[49m\u001b[43mtokenizer_kwargs\u001b[49m\u001b[43m=\u001b[49m\u001b[43mtokenizer_kwargs\u001b[49m\u001b[43m,\u001b[49m\n\u001b[32m    318\u001b[39m \u001b[43m        \u001b[49m\u001b[43mconfig_kwargs\u001b[49m\u001b[43m=\u001b[49m\u001b[43mconfig_kwargs\u001b[49m\u001b[43m,\u001b[49m\n\u001b[32m    319\u001b[39m \u001b[43m    \u001b[49m\u001b[43m)\u001b[49m\n\u001b[32m    320\u001b[39m \u001b[38;5;28;01melse\u001b[39;00m:\n\u001b[32m    321\u001b[39m     modules = \u001b[38;5;28mself\u001b[39m._load_auto_model(\n\u001b[32m    322\u001b[39m         model_name_or_path,\n\u001b[32m    323\u001b[39m         token=token,\n\u001b[32m   (...)\u001b[39m\u001b[32m    330\u001b[39m         config_kwargs=config_kwargs,\n\u001b[32m    331\u001b[39m     )\n",
            "\u001b[36mFile \u001b[39m\u001b[32m~/workspace/dante-code/class/star_track_python/.venv/lib/python3.12/site-packages/sentence_transformers/SentenceTransformer.py:1808\u001b[39m, in \u001b[36mSentenceTransformer._load_sbert_model\u001b[39m\u001b[34m(self, model_name_or_path, token, cache_folder, revision, trust_remote_code, local_files_only, model_kwargs, tokenizer_kwargs, config_kwargs)\u001b[39m\n\u001b[32m   1805\u001b[39m \u001b[38;5;66;03m# Try to initialize the module with a lot of kwargs, but only if the module supports them\u001b[39;00m\n\u001b[32m   1806\u001b[39m \u001b[38;5;66;03m# Otherwise we fall back to the load method\u001b[39;00m\n\u001b[32m   1807\u001b[39m \u001b[38;5;28;01mtry\u001b[39;00m:\n\u001b[32m-> \u001b[39m\u001b[32m1808\u001b[39m     module = \u001b[43mmodule_class\u001b[49m\u001b[43m(\u001b[49m\u001b[43mmodel_name_or_path\u001b[49m\u001b[43m,\u001b[49m\u001b[43m \u001b[49m\u001b[43mcache_dir\u001b[49m\u001b[43m=\u001b[49m\u001b[43mcache_folder\u001b[49m\u001b[43m,\u001b[49m\u001b[43m \u001b[49m\u001b[43mbackend\u001b[49m\u001b[43m=\u001b[49m\u001b[38;5;28;43mself\u001b[39;49m\u001b[43m.\u001b[49m\u001b[43mbackend\u001b[49m\u001b[43m,\u001b[49m\u001b[43m \u001b[49m\u001b[43m*\u001b[49m\u001b[43m*\u001b[49m\u001b[43mkwargs\u001b[49m\u001b[43m)\u001b[49m\n\u001b[32m   1809\u001b[39m \u001b[38;5;28;01mexcept\u001b[39;00m \u001b[38;5;167;01mTypeError\u001b[39;00m:\n\u001b[32m   1810\u001b[39m     module = module_class.load(model_name_or_path)\n",
            "\u001b[36mFile \u001b[39m\u001b[32m~/workspace/dante-code/class/star_track_python/.venv/lib/python3.12/site-packages/sentence_transformers/models/Transformer.py:81\u001b[39m, in \u001b[36mTransformer.__init__\u001b[39m\u001b[34m(self, model_name_or_path, max_seq_length, model_args, tokenizer_args, config_args, cache_dir, do_lower_case, tokenizer_name_or_path, backend)\u001b[39m\n\u001b[32m     78\u001b[39m     config_args = {}\n\u001b[32m     80\u001b[39m config, is_peft_model = \u001b[38;5;28mself\u001b[39m._load_config(model_name_or_path, cache_dir, backend, config_args)\n\u001b[32m---> \u001b[39m\u001b[32m81\u001b[39m \u001b[38;5;28;43mself\u001b[39;49m\u001b[43m.\u001b[49m\u001b[43m_load_model\u001b[49m\u001b[43m(\u001b[49m\u001b[43mmodel_name_or_path\u001b[49m\u001b[43m,\u001b[49m\u001b[43m \u001b[49m\u001b[43mconfig\u001b[49m\u001b[43m,\u001b[49m\u001b[43m \u001b[49m\u001b[43mcache_dir\u001b[49m\u001b[43m,\u001b[49m\u001b[43m \u001b[49m\u001b[43mbackend\u001b[49m\u001b[43m,\u001b[49m\u001b[43m \u001b[49m\u001b[43mis_peft_model\u001b[49m\u001b[43m,\u001b[49m\u001b[43m \u001b[49m\u001b[43m*\u001b[49m\u001b[43m*\u001b[49m\u001b[43mmodel_args\u001b[49m\u001b[43m)\u001b[49m\n\u001b[32m     83\u001b[39m \u001b[38;5;28;01mif\u001b[39;00m max_seq_length \u001b[38;5;129;01mis\u001b[39;00m \u001b[38;5;129;01mnot\u001b[39;00m \u001b[38;5;28;01mNone\u001b[39;00m \u001b[38;5;129;01mand\u001b[39;00m \u001b[33m\"\u001b[39m\u001b[33mmodel_max_length\u001b[39m\u001b[33m\"\u001b[39m \u001b[38;5;129;01mnot\u001b[39;00m \u001b[38;5;129;01min\u001b[39;00m tokenizer_args:\n\u001b[32m     84\u001b[39m     tokenizer_args[\u001b[33m\"\u001b[39m\u001b[33mmodel_max_length\u001b[39m\u001b[33m\"\u001b[39m] = max_seq_length\n",
            "\u001b[36mFile \u001b[39m\u001b[32m~/workspace/dante-code/class/star_track_python/.venv/lib/python3.12/site-packages/sentence_transformers/models/Transformer.py:181\u001b[39m, in \u001b[36mTransformer._load_model\u001b[39m\u001b[34m(self, model_name_or_path, config, cache_dir, backend, is_peft_model, **model_args)\u001b[39m\n\u001b[32m    179\u001b[39m     \u001b[38;5;28mself\u001b[39m._load_mt5_model(model_name_or_path, config, cache_dir, **model_args)\n\u001b[32m    180\u001b[39m \u001b[38;5;28;01melse\u001b[39;00m:\n\u001b[32m--> \u001b[39m\u001b[32m181\u001b[39m     \u001b[38;5;28mself\u001b[39m.auto_model = \u001b[43mAutoModel\u001b[49m\u001b[43m.\u001b[49m\u001b[43mfrom_pretrained\u001b[49m\u001b[43m(\u001b[49m\n\u001b[32m    182\u001b[39m \u001b[43m        \u001b[49m\u001b[43mmodel_name_or_path\u001b[49m\u001b[43m,\u001b[49m\u001b[43m \u001b[49m\u001b[43mconfig\u001b[49m\u001b[43m=\u001b[49m\u001b[43mconfig\u001b[49m\u001b[43m,\u001b[49m\u001b[43m \u001b[49m\u001b[43mcache_dir\u001b[49m\u001b[43m=\u001b[49m\u001b[43mcache_dir\u001b[49m\u001b[43m,\u001b[49m\u001b[43m \u001b[49m\u001b[43m*\u001b[49m\u001b[43m*\u001b[49m\u001b[43mmodel_args\u001b[49m\n\u001b[32m    183\u001b[39m \u001b[43m    \u001b[49m\u001b[43m)\u001b[49m\n\u001b[32m    185\u001b[39m \u001b[38;5;28;01mif\u001b[39;00m is_peft_model:\n\u001b[32m    186\u001b[39m     \u001b[38;5;28mself\u001b[39m._load_peft_model(model_name_or_path, config, cache_dir, **model_args, **adapter_only_kwargs)\n",
            "\u001b[36mFile \u001b[39m\u001b[32m~/workspace/dante-code/class/star_track_python/.venv/lib/python3.12/site-packages/transformers/models/auto/auto_factory.py:571\u001b[39m, in \u001b[36m_BaseAutoModelClass.from_pretrained\u001b[39m\u001b[34m(cls, pretrained_model_name_or_path, *model_args, **kwargs)\u001b[39m\n\u001b[32m    569\u001b[39m     \u001b[38;5;28;01mif\u001b[39;00m model_class.config_class == config.sub_configs.get(\u001b[33m\"\u001b[39m\u001b[33mtext_config\u001b[39m\u001b[33m\"\u001b[39m, \u001b[38;5;28;01mNone\u001b[39;00m):\n\u001b[32m    570\u001b[39m         config = config.get_text_config()\n\u001b[32m--> \u001b[39m\u001b[32m571\u001b[39m     \u001b[38;5;28;01mreturn\u001b[39;00m \u001b[43mmodel_class\u001b[49m\u001b[43m.\u001b[49m\u001b[43mfrom_pretrained\u001b[49m\u001b[43m(\u001b[49m\n\u001b[32m    572\u001b[39m \u001b[43m        \u001b[49m\u001b[43mpretrained_model_name_or_path\u001b[49m\u001b[43m,\u001b[49m\u001b[43m \u001b[49m\u001b[43m*\u001b[49m\u001b[43mmodel_args\u001b[49m\u001b[43m,\u001b[49m\u001b[43m \u001b[49m\u001b[43mconfig\u001b[49m\u001b[43m=\u001b[49m\u001b[43mconfig\u001b[49m\u001b[43m,\u001b[49m\u001b[43m \u001b[49m\u001b[43m*\u001b[49m\u001b[43m*\u001b[49m\u001b[43mhub_kwargs\u001b[49m\u001b[43m,\u001b[49m\u001b[43m \u001b[49m\u001b[43m*\u001b[49m\u001b[43m*\u001b[49m\u001b[43mkwargs\u001b[49m\n\u001b[32m    573\u001b[39m \u001b[43m    \u001b[49m\u001b[43m)\u001b[49m\n\u001b[32m    574\u001b[39m \u001b[38;5;28;01mraise\u001b[39;00m \u001b[38;5;167;01mValueError\u001b[39;00m(\n\u001b[32m    575\u001b[39m     \u001b[33mf\u001b[39m\u001b[33m\"\u001b[39m\u001b[33mUnrecognized configuration class \u001b[39m\u001b[38;5;132;01m{\u001b[39;00mconfig.\u001b[34m__class__\u001b[39m\u001b[38;5;132;01m}\u001b[39;00m\u001b[33m for this kind of AutoModel: \u001b[39m\u001b[38;5;132;01m{\u001b[39;00m\u001b[38;5;28mcls\u001b[39m.\u001b[34m__name__\u001b[39m\u001b[38;5;132;01m}\u001b[39;00m\u001b[33m.\u001b[39m\u001b[38;5;130;01m\\n\u001b[39;00m\u001b[33m\"\u001b[39m\n\u001b[32m    576\u001b[39m     \u001b[33mf\u001b[39m\u001b[33m\"\u001b[39m\u001b[33mModel type should be one of \u001b[39m\u001b[38;5;132;01m{\u001b[39;00m\u001b[33m'\u001b[39m\u001b[33m, \u001b[39m\u001b[33m'\u001b[39m.join(c.\u001b[34m__name__\u001b[39m\u001b[38;5;250m \u001b[39m\u001b[38;5;28;01mfor\u001b[39;00m\u001b[38;5;250m \u001b[39mc\u001b[38;5;250m \u001b[39m\u001b[38;5;129;01min\u001b[39;00m\u001b[38;5;250m \u001b[39m\u001b[38;5;28mcls\u001b[39m._model_mapping.keys())\u001b[38;5;132;01m}\u001b[39;00m\u001b[33m.\u001b[39m\u001b[33m\"\u001b[39m\n\u001b[32m    577\u001b[39m )\n",
            "\u001b[36mFile \u001b[39m\u001b[32m~/workspace/dante-code/class/star_track_python/.venv/lib/python3.12/site-packages/transformers/modeling_utils.py:309\u001b[39m, in \u001b[36mrestore_default_torch_dtype.<locals>._wrapper\u001b[39m\u001b[34m(*args, **kwargs)\u001b[39m\n\u001b[32m    307\u001b[39m old_dtype = torch.get_default_dtype()\n\u001b[32m    308\u001b[39m \u001b[38;5;28;01mtry\u001b[39;00m:\n\u001b[32m--> \u001b[39m\u001b[32m309\u001b[39m     \u001b[38;5;28;01mreturn\u001b[39;00m \u001b[43mfunc\u001b[49m\u001b[43m(\u001b[49m\u001b[43m*\u001b[49m\u001b[43margs\u001b[49m\u001b[43m,\u001b[49m\u001b[43m \u001b[49m\u001b[43m*\u001b[49m\u001b[43m*\u001b[49m\u001b[43mkwargs\u001b[49m\u001b[43m)\u001b[49m\n\u001b[32m    310\u001b[39m \u001b[38;5;28;01mfinally\u001b[39;00m:\n\u001b[32m    311\u001b[39m     torch.set_default_dtype(old_dtype)\n",
            "\u001b[36mFile \u001b[39m\u001b[32m~/workspace/dante-code/class/star_track_python/.venv/lib/python3.12/site-packages/transformers/modeling_utils.py:4422\u001b[39m, in \u001b[36mPreTrainedModel.from_pretrained\u001b[39m\u001b[34m(cls, pretrained_model_name_or_path, config, cache_dir, ignore_mismatched_sizes, force_download, local_files_only, token, revision, use_safetensors, weights_only, *model_args, **kwargs)\u001b[39m\n\u001b[32m   4412\u001b[39m \u001b[38;5;28;01mif\u001b[39;00m (\n\u001b[32m   4413\u001b[39m     gguf_file\n\u001b[32m   4414\u001b[39m     \u001b[38;5;129;01mand\u001b[39;00m device_map \u001b[38;5;129;01mis\u001b[39;00m \u001b[38;5;129;01mnot\u001b[39;00m \u001b[38;5;28;01mNone\u001b[39;00m\n\u001b[32m   4415\u001b[39m     \u001b[38;5;129;01mand\u001b[39;00m ((\u001b[38;5;28misinstance\u001b[39m(device_map, \u001b[38;5;28mdict\u001b[39m) \u001b[38;5;129;01mand\u001b[39;00m \u001b[33m\"\u001b[39m\u001b[33mdisk\u001b[39m\u001b[33m\"\u001b[39m \u001b[38;5;129;01min\u001b[39;00m device_map.values()) \u001b[38;5;129;01mor\u001b[39;00m \u001b[33m\"\u001b[39m\u001b[33mdisk\u001b[39m\u001b[33m\"\u001b[39m \u001b[38;5;129;01min\u001b[39;00m device_map)\n\u001b[32m   4416\u001b[39m ):\n\u001b[32m   4417\u001b[39m     \u001b[38;5;28;01mraise\u001b[39;00m \u001b[38;5;167;01mRuntimeError\u001b[39;00m(\n\u001b[32m   4418\u001b[39m         \u001b[33m\"\u001b[39m\u001b[33mOne or more modules is configured to be mapped to disk. Disk offload is not supported for models \u001b[39m\u001b[33m\"\u001b[39m\n\u001b[32m   4419\u001b[39m         \u001b[33m\"\u001b[39m\u001b[33mloaded from GGUF files.\u001b[39m\u001b[33m\"\u001b[39m\n\u001b[32m   4420\u001b[39m     )\n\u001b[32m-> \u001b[39m\u001b[32m4422\u001b[39m checkpoint_files, sharded_metadata = \u001b[43m_get_resolved_checkpoint_files\u001b[49m\u001b[43m(\u001b[49m\n\u001b[32m   4423\u001b[39m \u001b[43m    \u001b[49m\u001b[43mpretrained_model_name_or_path\u001b[49m\u001b[43m=\u001b[49m\u001b[43mpretrained_model_name_or_path\u001b[49m\u001b[43m,\u001b[49m\n\u001b[32m   4424\u001b[39m \u001b[43m    \u001b[49m\u001b[43msubfolder\u001b[49m\u001b[43m=\u001b[49m\u001b[43msubfolder\u001b[49m\u001b[43m,\u001b[49m\n\u001b[32m   4425\u001b[39m \u001b[43m    \u001b[49m\u001b[43mvariant\u001b[49m\u001b[43m=\u001b[49m\u001b[43mvariant\u001b[49m\u001b[43m,\u001b[49m\n\u001b[32m   4426\u001b[39m \u001b[43m    \u001b[49m\u001b[43mgguf_file\u001b[49m\u001b[43m=\u001b[49m\u001b[43mgguf_file\u001b[49m\u001b[43m,\u001b[49m\n\u001b[32m   4427\u001b[39m \u001b[43m    \u001b[49m\u001b[43mfrom_tf\u001b[49m\u001b[43m=\u001b[49m\u001b[43mfrom_tf\u001b[49m\u001b[43m,\u001b[49m\n\u001b[32m   4428\u001b[39m \u001b[43m    \u001b[49m\u001b[43mfrom_flax\u001b[49m\u001b[43m=\u001b[49m\u001b[43mfrom_flax\u001b[49m\u001b[43m,\u001b[49m\n\u001b[32m   4429\u001b[39m \u001b[43m    \u001b[49m\u001b[43muse_safetensors\u001b[49m\u001b[43m=\u001b[49m\u001b[43muse_safetensors\u001b[49m\u001b[43m,\u001b[49m\n\u001b[32m   4430\u001b[39m \u001b[43m    \u001b[49m\u001b[43mcache_dir\u001b[49m\u001b[43m=\u001b[49m\u001b[43mcache_dir\u001b[49m\u001b[43m,\u001b[49m\n\u001b[32m   4431\u001b[39m \u001b[43m    \u001b[49m\u001b[43mforce_download\u001b[49m\u001b[43m=\u001b[49m\u001b[43mforce_download\u001b[49m\u001b[43m,\u001b[49m\n\u001b[32m   4432\u001b[39m \u001b[43m    \u001b[49m\u001b[43mproxies\u001b[49m\u001b[43m=\u001b[49m\u001b[43mproxies\u001b[49m\u001b[43m,\u001b[49m\n\u001b[32m   4433\u001b[39m \u001b[43m    \u001b[49m\u001b[43mlocal_files_only\u001b[49m\u001b[43m=\u001b[49m\u001b[43mlocal_files_only\u001b[49m\u001b[43m,\u001b[49m\n\u001b[32m   4434\u001b[39m \u001b[43m    \u001b[49m\u001b[43mtoken\u001b[49m\u001b[43m=\u001b[49m\u001b[43mtoken\u001b[49m\u001b[43m,\u001b[49m\n\u001b[32m   4435\u001b[39m \u001b[43m    \u001b[49m\u001b[43muser_agent\u001b[49m\u001b[43m=\u001b[49m\u001b[43muser_agent\u001b[49m\u001b[43m,\u001b[49m\n\u001b[32m   4436\u001b[39m \u001b[43m    \u001b[49m\u001b[43mrevision\u001b[49m\u001b[43m=\u001b[49m\u001b[43mrevision\u001b[49m\u001b[43m,\u001b[49m\n\u001b[32m   4437\u001b[39m \u001b[43m    \u001b[49m\u001b[43mcommit_hash\u001b[49m\u001b[43m=\u001b[49m\u001b[43mcommit_hash\u001b[49m\u001b[43m,\u001b[49m\n\u001b[32m   4438\u001b[39m \u001b[43m    \u001b[49m\u001b[43mtransformers_explicit_filename\u001b[49m\u001b[43m=\u001b[49m\u001b[43mtransformers_explicit_filename\u001b[49m\u001b[43m,\u001b[49m\n\u001b[32m   4439\u001b[39m \u001b[43m\u001b[49m\u001b[43m)\u001b[49m\n\u001b[32m   4441\u001b[39m is_sharded = sharded_metadata \u001b[38;5;129;01mis\u001b[39;00m \u001b[38;5;129;01mnot\u001b[39;00m \u001b[38;5;28;01mNone\u001b[39;00m\n\u001b[32m   4442\u001b[39m is_quantized = hf_quantizer \u001b[38;5;129;01mis\u001b[39;00m \u001b[38;5;129;01mnot\u001b[39;00m \u001b[38;5;28;01mNone\u001b[39;00m\n",
            "\u001b[36mFile \u001b[39m\u001b[32m~/workspace/dante-code/class/star_track_python/.venv/lib/python3.12/site-packages/transformers/modeling_utils.py:1024\u001b[39m, in \u001b[36m_get_resolved_checkpoint_files\u001b[39m\u001b[34m(pretrained_model_name_or_path, subfolder, variant, gguf_file, from_tf, from_flax, use_safetensors, cache_dir, force_download, proxies, local_files_only, token, user_agent, revision, commit_hash, transformers_explicit_filename)\u001b[39m\n\u001b[32m   1009\u001b[39m \u001b[38;5;28;01mtry\u001b[39;00m:\n\u001b[32m   1010\u001b[39m     \u001b[38;5;66;03m# Load from URL or cache if already cached\u001b[39;00m\n\u001b[32m   1011\u001b[39m     cached_file_kwargs = {\n\u001b[32m   1012\u001b[39m         \u001b[33m\"\u001b[39m\u001b[33mcache_dir\u001b[39m\u001b[33m\"\u001b[39m: cache_dir,\n\u001b[32m   1013\u001b[39m         \u001b[33m\"\u001b[39m\u001b[33mforce_download\u001b[39m\u001b[33m\"\u001b[39m: force_download,\n\u001b[32m   (...)\u001b[39m\u001b[32m   1022\u001b[39m         \u001b[33m\"\u001b[39m\u001b[33m_commit_hash\u001b[39m\u001b[33m\"\u001b[39m: commit_hash,\n\u001b[32m   1023\u001b[39m     }\n\u001b[32m-> \u001b[39m\u001b[32m1024\u001b[39m     resolved_archive_file = \u001b[43mcached_file\u001b[49m\u001b[43m(\u001b[49m\u001b[43mpretrained_model_name_or_path\u001b[49m\u001b[43m,\u001b[49m\u001b[43m \u001b[49m\u001b[43mfilename\u001b[49m\u001b[43m,\u001b[49m\u001b[43m \u001b[49m\u001b[43m*\u001b[49m\u001b[43m*\u001b[49m\u001b[43mcached_file_kwargs\u001b[49m\u001b[43m)\u001b[49m\n\u001b[32m   1026\u001b[39m     \u001b[38;5;66;03m# Since we set _raise_exceptions_for_missing_entries=False, we don't get an exception but a None\u001b[39;00m\n\u001b[32m   1027\u001b[39m     \u001b[38;5;66;03m# result when internet is up, the repo and revision exist, but the file does not.\u001b[39;00m\n\u001b[32m   1028\u001b[39m     \u001b[38;5;28;01mif\u001b[39;00m resolved_archive_file \u001b[38;5;129;01mis\u001b[39;00m \u001b[38;5;28;01mNone\u001b[39;00m \u001b[38;5;129;01mand\u001b[39;00m filename == _add_variant(SAFE_WEIGHTS_NAME, variant):\n\u001b[32m   1029\u001b[39m         \u001b[38;5;66;03m# Maybe the checkpoint is sharded, we try to grab the index name in this case.\u001b[39;00m\n",
            "\u001b[36mFile \u001b[39m\u001b[32m~/workspace/dante-code/class/star_track_python/.venv/lib/python3.12/site-packages/transformers/utils/hub.py:312\u001b[39m, in \u001b[36mcached_file\u001b[39m\u001b[34m(path_or_repo_id, filename, **kwargs)\u001b[39m\n\u001b[32m    254\u001b[39m \u001b[38;5;28;01mdef\u001b[39;00m\u001b[38;5;250m \u001b[39m\u001b[34mcached_file\u001b[39m(\n\u001b[32m    255\u001b[39m     path_or_repo_id: Union[\u001b[38;5;28mstr\u001b[39m, os.PathLike],\n\u001b[32m    256\u001b[39m     filename: \u001b[38;5;28mstr\u001b[39m,\n\u001b[32m    257\u001b[39m     **kwargs,\n\u001b[32m    258\u001b[39m ) -> Optional[\u001b[38;5;28mstr\u001b[39m]:\n\u001b[32m    259\u001b[39m \u001b[38;5;250m    \u001b[39m\u001b[33;03m\"\"\"\u001b[39;00m\n\u001b[32m    260\u001b[39m \u001b[33;03m    Tries to locate a file in a local folder and repo, downloads and cache it if necessary.\u001b[39;00m\n\u001b[32m    261\u001b[39m \n\u001b[32m   (...)\u001b[39m\u001b[32m    310\u001b[39m \u001b[33;03m    ```\u001b[39;00m\n\u001b[32m    311\u001b[39m \u001b[33;03m    \"\"\"\u001b[39;00m\n\u001b[32m--> \u001b[39m\u001b[32m312\u001b[39m     file = \u001b[43mcached_files\u001b[49m\u001b[43m(\u001b[49m\u001b[43mpath_or_repo_id\u001b[49m\u001b[43m=\u001b[49m\u001b[43mpath_or_repo_id\u001b[49m\u001b[43m,\u001b[49m\u001b[43m \u001b[49m\u001b[43mfilenames\u001b[49m\u001b[43m=\u001b[49m\u001b[43m[\u001b[49m\u001b[43mfilename\u001b[49m\u001b[43m]\u001b[49m\u001b[43m,\u001b[49m\u001b[43m \u001b[49m\u001b[43m*\u001b[49m\u001b[43m*\u001b[49m\u001b[43mkwargs\u001b[49m\u001b[43m)\u001b[49m\n\u001b[32m    313\u001b[39m     file = file[\u001b[32m0\u001b[39m] \u001b[38;5;28;01mif\u001b[39;00m file \u001b[38;5;129;01mis\u001b[39;00m \u001b[38;5;129;01mnot\u001b[39;00m \u001b[38;5;28;01mNone\u001b[39;00m \u001b[38;5;28;01melse\u001b[39;00m file\n\u001b[32m    314\u001b[39m     \u001b[38;5;28;01mreturn\u001b[39;00m file\n",
            "\u001b[36mFile \u001b[39m\u001b[32m~/workspace/dante-code/class/star_track_python/.venv/lib/python3.12/site-packages/transformers/utils/hub.py:470\u001b[39m, in \u001b[36mcached_files\u001b[39m\u001b[34m(path_or_repo_id, filenames, cache_dir, force_download, resume_download, proxies, token, revision, local_files_only, subfolder, repo_type, user_agent, _raise_exceptions_for_gated_repo, _raise_exceptions_for_missing_entries, _raise_exceptions_for_connection_errors, _commit_hash, **deprecated_kwargs)\u001b[39m\n\u001b[32m    467\u001b[39m \u001b[38;5;28;01mtry\u001b[39;00m:\n\u001b[32m    468\u001b[39m     \u001b[38;5;28;01mif\u001b[39;00m \u001b[38;5;28mlen\u001b[39m(full_filenames) == \u001b[32m1\u001b[39m:\n\u001b[32m    469\u001b[39m         \u001b[38;5;66;03m# This is slightly better for only 1 file\u001b[39;00m\n\u001b[32m--> \u001b[39m\u001b[32m470\u001b[39m         \u001b[43mhf_hub_download\u001b[49m\u001b[43m(\u001b[49m\n\u001b[32m    471\u001b[39m \u001b[43m            \u001b[49m\u001b[43mpath_or_repo_id\u001b[49m\u001b[43m,\u001b[49m\n\u001b[32m    472\u001b[39m \u001b[43m            \u001b[49m\u001b[43mfilenames\u001b[49m\u001b[43m[\u001b[49m\u001b[32;43m0\u001b[39;49m\u001b[43m]\u001b[49m\u001b[43m,\u001b[49m\n\u001b[32m    473\u001b[39m \u001b[43m            \u001b[49m\u001b[43msubfolder\u001b[49m\u001b[43m=\u001b[49m\u001b[38;5;28;43;01mNone\u001b[39;49;00m\u001b[43m \u001b[49m\u001b[38;5;28;43;01mif\u001b[39;49;00m\u001b[43m \u001b[49m\u001b[38;5;28;43mlen\u001b[39;49m\u001b[43m(\u001b[49m\u001b[43msubfolder\u001b[49m\u001b[43m)\u001b[49m\u001b[43m \u001b[49m\u001b[43m==\u001b[49m\u001b[43m \u001b[49m\u001b[32;43m0\u001b[39;49m\u001b[43m \u001b[49m\u001b[38;5;28;43;01melse\u001b[39;49;00m\u001b[43m \u001b[49m\u001b[43msubfolder\u001b[49m\u001b[43m,\u001b[49m\n\u001b[32m    474\u001b[39m \u001b[43m            \u001b[49m\u001b[43mrepo_type\u001b[49m\u001b[43m=\u001b[49m\u001b[43mrepo_type\u001b[49m\u001b[43m,\u001b[49m\n\u001b[32m    475\u001b[39m \u001b[43m            \u001b[49m\u001b[43mrevision\u001b[49m\u001b[43m=\u001b[49m\u001b[43mrevision\u001b[49m\u001b[43m,\u001b[49m\n\u001b[32m    476\u001b[39m \u001b[43m            \u001b[49m\u001b[43mcache_dir\u001b[49m\u001b[43m=\u001b[49m\u001b[43mcache_dir\u001b[49m\u001b[43m,\u001b[49m\n\u001b[32m    477\u001b[39m \u001b[43m            \u001b[49m\u001b[43muser_agent\u001b[49m\u001b[43m=\u001b[49m\u001b[43muser_agent\u001b[49m\u001b[43m,\u001b[49m\n\u001b[32m    478\u001b[39m \u001b[43m            \u001b[49m\u001b[43mforce_download\u001b[49m\u001b[43m=\u001b[49m\u001b[43mforce_download\u001b[49m\u001b[43m,\u001b[49m\n\u001b[32m    479\u001b[39m \u001b[43m            \u001b[49m\u001b[43mproxies\u001b[49m\u001b[43m=\u001b[49m\u001b[43mproxies\u001b[49m\u001b[43m,\u001b[49m\n\u001b[32m    480\u001b[39m \u001b[43m            \u001b[49m\u001b[43mresume_download\u001b[49m\u001b[43m=\u001b[49m\u001b[43mresume_download\u001b[49m\u001b[43m,\u001b[49m\n\u001b[32m    481\u001b[39m \u001b[43m            \u001b[49m\u001b[43mtoken\u001b[49m\u001b[43m=\u001b[49m\u001b[43mtoken\u001b[49m\u001b[43m,\u001b[49m\n\u001b[32m    482\u001b[39m \u001b[43m            \u001b[49m\u001b[43mlocal_files_only\u001b[49m\u001b[43m=\u001b[49m\u001b[43mlocal_files_only\u001b[49m\u001b[43m,\u001b[49m\n\u001b[32m    483\u001b[39m \u001b[43m        \u001b[49m\u001b[43m)\u001b[49m\n\u001b[32m    484\u001b[39m     \u001b[38;5;28;01melse\u001b[39;00m:\n\u001b[32m    485\u001b[39m         snapshot_download(\n\u001b[32m    486\u001b[39m             path_or_repo_id,\n\u001b[32m    487\u001b[39m             allow_patterns=full_filenames,\n\u001b[32m   (...)\u001b[39m\u001b[32m    496\u001b[39m             local_files_only=local_files_only,\n\u001b[32m    497\u001b[39m         )\n",
            "\u001b[36mFile \u001b[39m\u001b[32m~/workspace/dante-code/class/star_track_python/.venv/lib/python3.12/site-packages/huggingface_hub/utils/_validators.py:114\u001b[39m, in \u001b[36mvalidate_hf_hub_args.<locals>._inner_fn\u001b[39m\u001b[34m(*args, **kwargs)\u001b[39m\n\u001b[32m    111\u001b[39m \u001b[38;5;28;01mif\u001b[39;00m check_use_auth_token:\n\u001b[32m    112\u001b[39m     kwargs = smoothly_deprecate_use_auth_token(fn_name=fn.\u001b[34m__name__\u001b[39m, has_token=has_token, kwargs=kwargs)\n\u001b[32m--> \u001b[39m\u001b[32m114\u001b[39m \u001b[38;5;28;01mreturn\u001b[39;00m \u001b[43mfn\u001b[49m\u001b[43m(\u001b[49m\u001b[43m*\u001b[49m\u001b[43margs\u001b[49m\u001b[43m,\u001b[49m\u001b[43m \u001b[49m\u001b[43m*\u001b[49m\u001b[43m*\u001b[49m\u001b[43mkwargs\u001b[49m\u001b[43m)\u001b[49m\n",
            "\u001b[36mFile \u001b[39m\u001b[32m~/workspace/dante-code/class/star_track_python/.venv/lib/python3.12/site-packages/huggingface_hub/file_download.py:1008\u001b[39m, in \u001b[36mhf_hub_download\u001b[39m\u001b[34m(repo_id, filename, subfolder, repo_type, revision, library_name, library_version, cache_dir, local_dir, user_agent, force_download, proxies, etag_timeout, token, local_files_only, headers, endpoint, resume_download, force_filename, local_dir_use_symlinks)\u001b[39m\n\u001b[32m    988\u001b[39m     \u001b[38;5;28;01mreturn\u001b[39;00m _hf_hub_download_to_local_dir(\n\u001b[32m    989\u001b[39m         \u001b[38;5;66;03m# Destination\u001b[39;00m\n\u001b[32m    990\u001b[39m         local_dir=local_dir,\n\u001b[32m   (...)\u001b[39m\u001b[32m   1005\u001b[39m         local_files_only=local_files_only,\n\u001b[32m   1006\u001b[39m     )\n\u001b[32m   1007\u001b[39m \u001b[38;5;28;01melse\u001b[39;00m:\n\u001b[32m-> \u001b[39m\u001b[32m1008\u001b[39m     \u001b[38;5;28;01mreturn\u001b[39;00m \u001b[43m_hf_hub_download_to_cache_dir\u001b[49m\u001b[43m(\u001b[49m\n\u001b[32m   1009\u001b[39m \u001b[43m        \u001b[49m\u001b[38;5;66;43;03m# Destination\u001b[39;49;00m\n\u001b[32m   1010\u001b[39m \u001b[43m        \u001b[49m\u001b[43mcache_dir\u001b[49m\u001b[43m=\u001b[49m\u001b[43mcache_dir\u001b[49m\u001b[43m,\u001b[49m\n\u001b[32m   1011\u001b[39m \u001b[43m        \u001b[49m\u001b[38;5;66;43;03m# File info\u001b[39;49;00m\n\u001b[32m   1012\u001b[39m \u001b[43m        \u001b[49m\u001b[43mrepo_id\u001b[49m\u001b[43m=\u001b[49m\u001b[43mrepo_id\u001b[49m\u001b[43m,\u001b[49m\n\u001b[32m   1013\u001b[39m \u001b[43m        \u001b[49m\u001b[43mfilename\u001b[49m\u001b[43m=\u001b[49m\u001b[43mfilename\u001b[49m\u001b[43m,\u001b[49m\n\u001b[32m   1014\u001b[39m \u001b[43m        \u001b[49m\u001b[43mrepo_type\u001b[49m\u001b[43m=\u001b[49m\u001b[43mrepo_type\u001b[49m\u001b[43m,\u001b[49m\n\u001b[32m   1015\u001b[39m \u001b[43m        \u001b[49m\u001b[43mrevision\u001b[49m\u001b[43m=\u001b[49m\u001b[43mrevision\u001b[49m\u001b[43m,\u001b[49m\n\u001b[32m   1016\u001b[39m \u001b[43m        \u001b[49m\u001b[38;5;66;43;03m# HTTP info\u001b[39;49;00m\n\u001b[32m   1017\u001b[39m \u001b[43m        \u001b[49m\u001b[43mendpoint\u001b[49m\u001b[43m=\u001b[49m\u001b[43mendpoint\u001b[49m\u001b[43m,\u001b[49m\n\u001b[32m   1018\u001b[39m \u001b[43m        \u001b[49m\u001b[43metag_timeout\u001b[49m\u001b[43m=\u001b[49m\u001b[43metag_timeout\u001b[49m\u001b[43m,\u001b[49m\n\u001b[32m   1019\u001b[39m \u001b[43m        \u001b[49m\u001b[43mheaders\u001b[49m\u001b[43m=\u001b[49m\u001b[43mhf_headers\u001b[49m\u001b[43m,\u001b[49m\n\u001b[32m   1020\u001b[39m \u001b[43m        \u001b[49m\u001b[43mproxies\u001b[49m\u001b[43m=\u001b[49m\u001b[43mproxies\u001b[49m\u001b[43m,\u001b[49m\n\u001b[32m   1021\u001b[39m \u001b[43m        \u001b[49m\u001b[43mtoken\u001b[49m\u001b[43m=\u001b[49m\u001b[43mtoken\u001b[49m\u001b[43m,\u001b[49m\n\u001b[32m   1022\u001b[39m \u001b[43m        \u001b[49m\u001b[38;5;66;43;03m# Additional options\u001b[39;49;00m\n\u001b[32m   1023\u001b[39m \u001b[43m        \u001b[49m\u001b[43mlocal_files_only\u001b[49m\u001b[43m=\u001b[49m\u001b[43mlocal_files_only\u001b[49m\u001b[43m,\u001b[49m\n\u001b[32m   1024\u001b[39m \u001b[43m        \u001b[49m\u001b[43mforce_download\u001b[49m\u001b[43m=\u001b[49m\u001b[43mforce_download\u001b[49m\u001b[43m,\u001b[49m\n\u001b[32m   1025\u001b[39m \u001b[43m    \u001b[49m\u001b[43m)\u001b[49m\n",
            "\u001b[36mFile \u001b[39m\u001b[32m~/workspace/dante-code/class/star_track_python/.venv/lib/python3.12/site-packages/huggingface_hub/file_download.py:1161\u001b[39m, in \u001b[36m_hf_hub_download_to_cache_dir\u001b[39m\u001b[34m(cache_dir, repo_id, filename, repo_type, revision, endpoint, etag_timeout, headers, proxies, token, local_files_only, force_download)\u001b[39m\n\u001b[32m   1158\u001b[39m \u001b[38;5;66;03m# Local file doesn't exist or etag isn't a match => retrieve file from remote (or cache)\u001b[39;00m\n\u001b[32m   1160\u001b[39m \u001b[38;5;28;01mwith\u001b[39;00m WeakFileLock(lock_path):\n\u001b[32m-> \u001b[39m\u001b[32m1161\u001b[39m     \u001b[43m_download_to_tmp_and_move\u001b[49m\u001b[43m(\u001b[49m\n\u001b[32m   1162\u001b[39m \u001b[43m        \u001b[49m\u001b[43mincomplete_path\u001b[49m\u001b[43m=\u001b[49m\u001b[43mPath\u001b[49m\u001b[43m(\u001b[49m\u001b[43mblob_path\u001b[49m\u001b[43m \u001b[49m\u001b[43m+\u001b[49m\u001b[43m \u001b[49m\u001b[33;43m\"\u001b[39;49m\u001b[33;43m.incomplete\u001b[39;49m\u001b[33;43m\"\u001b[39;49m\u001b[43m)\u001b[49m\u001b[43m,\u001b[49m\n\u001b[32m   1163\u001b[39m \u001b[43m        \u001b[49m\u001b[43mdestination_path\u001b[49m\u001b[43m=\u001b[49m\u001b[43mPath\u001b[49m\u001b[43m(\u001b[49m\u001b[43mblob_path\u001b[49m\u001b[43m)\u001b[49m\u001b[43m,\u001b[49m\n\u001b[32m   1164\u001b[39m \u001b[43m        \u001b[49m\u001b[43murl_to_download\u001b[49m\u001b[43m=\u001b[49m\u001b[43murl_to_download\u001b[49m\u001b[43m,\u001b[49m\n\u001b[32m   1165\u001b[39m \u001b[43m        \u001b[49m\u001b[43mproxies\u001b[49m\u001b[43m=\u001b[49m\u001b[43mproxies\u001b[49m\u001b[43m,\u001b[49m\n\u001b[32m   1166\u001b[39m \u001b[43m        \u001b[49m\u001b[43mheaders\u001b[49m\u001b[43m=\u001b[49m\u001b[43mheaders\u001b[49m\u001b[43m,\u001b[49m\n\u001b[32m   1167\u001b[39m \u001b[43m        \u001b[49m\u001b[43mexpected_size\u001b[49m\u001b[43m=\u001b[49m\u001b[43mexpected_size\u001b[49m\u001b[43m,\u001b[49m\n\u001b[32m   1168\u001b[39m \u001b[43m        \u001b[49m\u001b[43mfilename\u001b[49m\u001b[43m=\u001b[49m\u001b[43mfilename\u001b[49m\u001b[43m,\u001b[49m\n\u001b[32m   1169\u001b[39m \u001b[43m        \u001b[49m\u001b[43mforce_download\u001b[49m\u001b[43m=\u001b[49m\u001b[43mforce_download\u001b[49m\u001b[43m,\u001b[49m\n\u001b[32m   1170\u001b[39m \u001b[43m        \u001b[49m\u001b[43metag\u001b[49m\u001b[43m=\u001b[49m\u001b[43metag\u001b[49m\u001b[43m,\u001b[49m\n\u001b[32m   1171\u001b[39m \u001b[43m        \u001b[49m\u001b[43mxet_file_data\u001b[49m\u001b[43m=\u001b[49m\u001b[43mxet_file_data\u001b[49m\u001b[43m,\u001b[49m\n\u001b[32m   1172\u001b[39m \u001b[43m    \u001b[49m\u001b[43m)\u001b[49m\n\u001b[32m   1173\u001b[39m     \u001b[38;5;28;01mif\u001b[39;00m \u001b[38;5;129;01mnot\u001b[39;00m os.path.exists(pointer_path):\n\u001b[32m   1174\u001b[39m         _create_symlink(blob_path, pointer_path, new_blob=\u001b[38;5;28;01mTrue\u001b[39;00m)\n",
            "\u001b[36mFile \u001b[39m\u001b[32m~/workspace/dante-code/class/star_track_python/.venv/lib/python3.12/site-packages/huggingface_hub/file_download.py:1725\u001b[39m, in \u001b[36m_download_to_tmp_and_move\u001b[39m\u001b[34m(incomplete_path, destination_path, url_to_download, proxies, headers, expected_size, filename, force_download, etag, xet_file_data)\u001b[39m\n\u001b[32m   1718\u001b[39m         \u001b[38;5;28;01mif\u001b[39;00m xet_file_data \u001b[38;5;129;01mis\u001b[39;00m \u001b[38;5;129;01mnot\u001b[39;00m \u001b[38;5;28;01mNone\u001b[39;00m:\n\u001b[32m   1719\u001b[39m             logger.warning(\n\u001b[32m   1720\u001b[39m                 \u001b[33m\"\u001b[39m\u001b[33mXet Storage is enabled for this repo, but the \u001b[39m\u001b[33m'\u001b[39m\u001b[33mhf_xet\u001b[39m\u001b[33m'\u001b[39m\u001b[33m package is not installed. \u001b[39m\u001b[33m\"\u001b[39m\n\u001b[32m   1721\u001b[39m                 \u001b[33m\"\u001b[39m\u001b[33mFalling back to regular HTTP download. \u001b[39m\u001b[33m\"\u001b[39m\n\u001b[32m   1722\u001b[39m                 \u001b[33m\"\u001b[39m\u001b[33mFor better performance, install the package with: `pip install huggingface_hub[hf_xet]` or `pip install hf_xet`\u001b[39m\u001b[33m\"\u001b[39m\n\u001b[32m   1723\u001b[39m             )\n\u001b[32m-> \u001b[39m\u001b[32m1725\u001b[39m         \u001b[43mhttp_get\u001b[49m\u001b[43m(\u001b[49m\n\u001b[32m   1726\u001b[39m \u001b[43m            \u001b[49m\u001b[43murl_to_download\u001b[49m\u001b[43m,\u001b[49m\n\u001b[32m   1727\u001b[39m \u001b[43m            \u001b[49m\u001b[43mf\u001b[49m\u001b[43m,\u001b[49m\n\u001b[32m   1728\u001b[39m \u001b[43m            \u001b[49m\u001b[43mproxies\u001b[49m\u001b[43m=\u001b[49m\u001b[43mproxies\u001b[49m\u001b[43m,\u001b[49m\n\u001b[32m   1729\u001b[39m \u001b[43m            \u001b[49m\u001b[43mresume_size\u001b[49m\u001b[43m=\u001b[49m\u001b[43mresume_size\u001b[49m\u001b[43m,\u001b[49m\n\u001b[32m   1730\u001b[39m \u001b[43m            \u001b[49m\u001b[43mheaders\u001b[49m\u001b[43m=\u001b[49m\u001b[43mheaders\u001b[49m\u001b[43m,\u001b[49m\n\u001b[32m   1731\u001b[39m \u001b[43m            \u001b[49m\u001b[43mexpected_size\u001b[49m\u001b[43m=\u001b[49m\u001b[43mexpected_size\u001b[49m\u001b[43m,\u001b[49m\n\u001b[32m   1732\u001b[39m \u001b[43m        \u001b[49m\u001b[43m)\u001b[49m\n\u001b[32m   1734\u001b[39m logger.info(\u001b[33mf\u001b[39m\u001b[33m\"\u001b[39m\u001b[33mDownload complete. Moving file to \u001b[39m\u001b[38;5;132;01m{\u001b[39;00mdestination_path\u001b[38;5;132;01m}\u001b[39;00m\u001b[33m\"\u001b[39m)\n\u001b[32m   1735\u001b[39m _chmod_and_move(incomplete_path, destination_path)\n",
            "\u001b[36mFile \u001b[39m\u001b[32m~/workspace/dante-code/class/star_track_python/.venv/lib/python3.12/site-packages/huggingface_hub/file_download.py:494\u001b[39m, in \u001b[36mhttp_get\u001b[39m\u001b[34m(url, temp_file, proxies, resume_size, headers, expected_size, displayed_filename, _nb_retries, _tqdm_bar)\u001b[39m\n\u001b[32m    492\u001b[39m new_resume_size = resume_size\n\u001b[32m    493\u001b[39m \u001b[38;5;28;01mtry\u001b[39;00m:\n\u001b[32m--> \u001b[39m\u001b[32m494\u001b[39m \u001b[43m    \u001b[49m\u001b[38;5;28;43;01mfor\u001b[39;49;00m\u001b[43m \u001b[49m\u001b[43mchunk\u001b[49m\u001b[43m \u001b[49m\u001b[38;5;129;43;01min\u001b[39;49;00m\u001b[43m \u001b[49m\u001b[43mr\u001b[49m\u001b[43m.\u001b[49m\u001b[43miter_content\u001b[49m\u001b[43m(\u001b[49m\u001b[43mchunk_size\u001b[49m\u001b[43m=\u001b[49m\u001b[43mconstants\u001b[49m\u001b[43m.\u001b[49m\u001b[43mDOWNLOAD_CHUNK_SIZE\u001b[49m\u001b[43m)\u001b[49m\u001b[43m:\u001b[49m\n\u001b[32m    495\u001b[39m \u001b[43m        \u001b[49m\u001b[38;5;28;43;01mif\u001b[39;49;00m\u001b[43m \u001b[49m\u001b[43mchunk\u001b[49m\u001b[43m:\u001b[49m\u001b[43m  \u001b[49m\u001b[38;5;66;43;03m# filter out keep-alive new chunks\u001b[39;49;00m\n\u001b[32m    496\u001b[39m \u001b[43m            \u001b[49m\u001b[43mprogress\u001b[49m\u001b[43m.\u001b[49m\u001b[43mupdate\u001b[49m\u001b[43m(\u001b[49m\u001b[38;5;28;43mlen\u001b[39;49m\u001b[43m(\u001b[49m\u001b[43mchunk\u001b[49m\u001b[43m)\u001b[49m\u001b[43m)\u001b[49m\n",
            "\u001b[36mFile \u001b[39m\u001b[32m~/workspace/dante-code/class/star_track_python/.venv/lib/python3.12/site-packages/requests/models.py:820\u001b[39m, in \u001b[36mResponse.iter_content.<locals>.generate\u001b[39m\u001b[34m()\u001b[39m\n\u001b[32m    818\u001b[39m \u001b[38;5;28;01mif\u001b[39;00m \u001b[38;5;28mhasattr\u001b[39m(\u001b[38;5;28mself\u001b[39m.raw, \u001b[33m\"\u001b[39m\u001b[33mstream\u001b[39m\u001b[33m\"\u001b[39m):\n\u001b[32m    819\u001b[39m     \u001b[38;5;28;01mtry\u001b[39;00m:\n\u001b[32m--> \u001b[39m\u001b[32m820\u001b[39m         \u001b[38;5;28;01myield from\u001b[39;00m \u001b[38;5;28mself\u001b[39m.raw.stream(chunk_size, decode_content=\u001b[38;5;28;01mTrue\u001b[39;00m)\n\u001b[32m    821\u001b[39m     \u001b[38;5;28;01mexcept\u001b[39;00m ProtocolError \u001b[38;5;28;01mas\u001b[39;00m e:\n\u001b[32m    822\u001b[39m         \u001b[38;5;28;01mraise\u001b[39;00m ChunkedEncodingError(e)\n",
            "\u001b[36mFile \u001b[39m\u001b[32m~/workspace/dante-code/class/star_track_python/.venv/lib/python3.12/site-packages/urllib3/response.py:1066\u001b[39m, in \u001b[36mHTTPResponse.stream\u001b[39m\u001b[34m(self, amt, decode_content)\u001b[39m\n\u001b[32m   1064\u001b[39m \u001b[38;5;28;01melse\u001b[39;00m:\n\u001b[32m   1065\u001b[39m     \u001b[38;5;28;01mwhile\u001b[39;00m \u001b[38;5;129;01mnot\u001b[39;00m is_fp_closed(\u001b[38;5;28mself\u001b[39m._fp) \u001b[38;5;129;01mor\u001b[39;00m \u001b[38;5;28mlen\u001b[39m(\u001b[38;5;28mself\u001b[39m._decoded_buffer) > \u001b[32m0\u001b[39m:\n\u001b[32m-> \u001b[39m\u001b[32m1066\u001b[39m         data = \u001b[38;5;28;43mself\u001b[39;49m\u001b[43m.\u001b[49m\u001b[43mread\u001b[49m\u001b[43m(\u001b[49m\u001b[43mamt\u001b[49m\u001b[43m=\u001b[49m\u001b[43mamt\u001b[49m\u001b[43m,\u001b[49m\u001b[43m \u001b[49m\u001b[43mdecode_content\u001b[49m\u001b[43m=\u001b[49m\u001b[43mdecode_content\u001b[49m\u001b[43m)\u001b[49m\n\u001b[32m   1068\u001b[39m         \u001b[38;5;28;01mif\u001b[39;00m data:\n\u001b[32m   1069\u001b[39m             \u001b[38;5;28;01myield\u001b[39;00m data\n",
            "\u001b[36mFile \u001b[39m\u001b[32m~/workspace/dante-code/class/star_track_python/.venv/lib/python3.12/site-packages/urllib3/response.py:955\u001b[39m, in \u001b[36mHTTPResponse.read\u001b[39m\u001b[34m(self, amt, decode_content, cache_content)\u001b[39m\n\u001b[32m    952\u001b[39m     \u001b[38;5;28;01mif\u001b[39;00m \u001b[38;5;28mlen\u001b[39m(\u001b[38;5;28mself\u001b[39m._decoded_buffer) >= amt:\n\u001b[32m    953\u001b[39m         \u001b[38;5;28;01mreturn\u001b[39;00m \u001b[38;5;28mself\u001b[39m._decoded_buffer.get(amt)\n\u001b[32m--> \u001b[39m\u001b[32m955\u001b[39m data = \u001b[38;5;28;43mself\u001b[39;49m\u001b[43m.\u001b[49m\u001b[43m_raw_read\u001b[49m\u001b[43m(\u001b[49m\u001b[43mamt\u001b[49m\u001b[43m)\u001b[49m\n\u001b[32m    957\u001b[39m flush_decoder = amt \u001b[38;5;129;01mis\u001b[39;00m \u001b[38;5;28;01mNone\u001b[39;00m \u001b[38;5;129;01mor\u001b[39;00m (amt != \u001b[32m0\u001b[39m \u001b[38;5;129;01mand\u001b[39;00m \u001b[38;5;129;01mnot\u001b[39;00m data)\n\u001b[32m    959\u001b[39m \u001b[38;5;28;01mif\u001b[39;00m \u001b[38;5;129;01mnot\u001b[39;00m data \u001b[38;5;129;01mand\u001b[39;00m \u001b[38;5;28mlen\u001b[39m(\u001b[38;5;28mself\u001b[39m._decoded_buffer) == \u001b[32m0\u001b[39m:\n",
            "\u001b[36mFile \u001b[39m\u001b[32m~/workspace/dante-code/class/star_track_python/.venv/lib/python3.12/site-packages/urllib3/response.py:879\u001b[39m, in \u001b[36mHTTPResponse._raw_read\u001b[39m\u001b[34m(self, amt, read1)\u001b[39m\n\u001b[32m    876\u001b[39m fp_closed = \u001b[38;5;28mgetattr\u001b[39m(\u001b[38;5;28mself\u001b[39m._fp, \u001b[33m\"\u001b[39m\u001b[33mclosed\u001b[39m\u001b[33m\"\u001b[39m, \u001b[38;5;28;01mFalse\u001b[39;00m)\n\u001b[32m    878\u001b[39m \u001b[38;5;28;01mwith\u001b[39;00m \u001b[38;5;28mself\u001b[39m._error_catcher():\n\u001b[32m--> \u001b[39m\u001b[32m879\u001b[39m     data = \u001b[38;5;28;43mself\u001b[39;49m\u001b[43m.\u001b[49m\u001b[43m_fp_read\u001b[49m\u001b[43m(\u001b[49m\u001b[43mamt\u001b[49m\u001b[43m,\u001b[49m\u001b[43m \u001b[49m\u001b[43mread1\u001b[49m\u001b[43m=\u001b[49m\u001b[43mread1\u001b[49m\u001b[43m)\u001b[49m \u001b[38;5;28;01mif\u001b[39;00m \u001b[38;5;129;01mnot\u001b[39;00m fp_closed \u001b[38;5;28;01melse\u001b[39;00m \u001b[33mb\u001b[39m\u001b[33m\"\u001b[39m\u001b[33m\"\u001b[39m\n\u001b[32m    880\u001b[39m     \u001b[38;5;28;01mif\u001b[39;00m amt \u001b[38;5;129;01mis\u001b[39;00m \u001b[38;5;129;01mnot\u001b[39;00m \u001b[38;5;28;01mNone\u001b[39;00m \u001b[38;5;129;01mand\u001b[39;00m amt != \u001b[32m0\u001b[39m \u001b[38;5;129;01mand\u001b[39;00m \u001b[38;5;129;01mnot\u001b[39;00m data:\n\u001b[32m    881\u001b[39m         \u001b[38;5;66;03m# Platform-specific: Buggy versions of Python.\u001b[39;00m\n\u001b[32m    882\u001b[39m         \u001b[38;5;66;03m# Close the connection when no data is returned\u001b[39;00m\n\u001b[32m   (...)\u001b[39m\u001b[32m    887\u001b[39m         \u001b[38;5;66;03m# not properly close the connection in all cases. There is\u001b[39;00m\n\u001b[32m    888\u001b[39m         \u001b[38;5;66;03m# no harm in redundantly calling close.\u001b[39;00m\n\u001b[32m    889\u001b[39m         \u001b[38;5;28mself\u001b[39m._fp.close()\n",
            "\u001b[36mFile \u001b[39m\u001b[32m~/workspace/dante-code/class/star_track_python/.venv/lib/python3.12/site-packages/urllib3/response.py:862\u001b[39m, in \u001b[36mHTTPResponse._fp_read\u001b[39m\u001b[34m(self, amt, read1)\u001b[39m\n\u001b[32m    859\u001b[39m     \u001b[38;5;28;01mreturn\u001b[39;00m \u001b[38;5;28mself\u001b[39m._fp.read1(amt) \u001b[38;5;28;01mif\u001b[39;00m amt \u001b[38;5;129;01mis\u001b[39;00m \u001b[38;5;129;01mnot\u001b[39;00m \u001b[38;5;28;01mNone\u001b[39;00m \u001b[38;5;28;01melse\u001b[39;00m \u001b[38;5;28mself\u001b[39m._fp.read1()\n\u001b[32m    860\u001b[39m \u001b[38;5;28;01melse\u001b[39;00m:\n\u001b[32m    861\u001b[39m     \u001b[38;5;66;03m# StringIO doesn't like amt=None\u001b[39;00m\n\u001b[32m--> \u001b[39m\u001b[32m862\u001b[39m     \u001b[38;5;28;01mreturn\u001b[39;00m \u001b[38;5;28;43mself\u001b[39;49m\u001b[43m.\u001b[49m\u001b[43m_fp\u001b[49m\u001b[43m.\u001b[49m\u001b[43mread\u001b[49m\u001b[43m(\u001b[49m\u001b[43mamt\u001b[49m\u001b[43m)\u001b[49m \u001b[38;5;28;01mif\u001b[39;00m amt \u001b[38;5;129;01mis\u001b[39;00m \u001b[38;5;129;01mnot\u001b[39;00m \u001b[38;5;28;01mNone\u001b[39;00m \u001b[38;5;28;01melse\u001b[39;00m \u001b[38;5;28mself\u001b[39m._fp.read()\n",
            "\u001b[36mFile \u001b[39m\u001b[32m/opt/homebrew/Cellar/python@3.12/3.12.9/Frameworks/Python.framework/Versions/3.12/lib/python3.12/http/client.py:479\u001b[39m, in \u001b[36mHTTPResponse.read\u001b[39m\u001b[34m(self, amt)\u001b[39m\n\u001b[32m    476\u001b[39m \u001b[38;5;28;01mif\u001b[39;00m \u001b[38;5;28mself\u001b[39m.length \u001b[38;5;129;01mis\u001b[39;00m \u001b[38;5;129;01mnot\u001b[39;00m \u001b[38;5;28;01mNone\u001b[39;00m \u001b[38;5;129;01mand\u001b[39;00m amt > \u001b[38;5;28mself\u001b[39m.length:\n\u001b[32m    477\u001b[39m     \u001b[38;5;66;03m# clip the read to the \"end of response\"\u001b[39;00m\n\u001b[32m    478\u001b[39m     amt = \u001b[38;5;28mself\u001b[39m.length\n\u001b[32m--> \u001b[39m\u001b[32m479\u001b[39m s = \u001b[38;5;28;43mself\u001b[39;49m\u001b[43m.\u001b[49m\u001b[43mfp\u001b[49m\u001b[43m.\u001b[49m\u001b[43mread\u001b[49m\u001b[43m(\u001b[49m\u001b[43mamt\u001b[49m\u001b[43m)\u001b[49m\n\u001b[32m    480\u001b[39m \u001b[38;5;28;01mif\u001b[39;00m \u001b[38;5;129;01mnot\u001b[39;00m s \u001b[38;5;129;01mand\u001b[39;00m amt:\n\u001b[32m    481\u001b[39m     \u001b[38;5;66;03m# Ideally, we would raise IncompleteRead if the content-length\u001b[39;00m\n\u001b[32m    482\u001b[39m     \u001b[38;5;66;03m# wasn't satisfied, but it might break compatibility.\u001b[39;00m\n\u001b[32m    483\u001b[39m     \u001b[38;5;28mself\u001b[39m._close_conn()\n",
            "\u001b[36mFile \u001b[39m\u001b[32m/opt/homebrew/Cellar/python@3.12/3.12.9/Frameworks/Python.framework/Versions/3.12/lib/python3.12/socket.py:720\u001b[39m, in \u001b[36mSocketIO.readinto\u001b[39m\u001b[34m(self, b)\u001b[39m\n\u001b[32m    718\u001b[39m \u001b[38;5;28;01mwhile\u001b[39;00m \u001b[38;5;28;01mTrue\u001b[39;00m:\n\u001b[32m    719\u001b[39m     \u001b[38;5;28;01mtry\u001b[39;00m:\n\u001b[32m--> \u001b[39m\u001b[32m720\u001b[39m         \u001b[38;5;28;01mreturn\u001b[39;00m \u001b[38;5;28;43mself\u001b[39;49m\u001b[43m.\u001b[49m\u001b[43m_sock\u001b[49m\u001b[43m.\u001b[49m\u001b[43mrecv_into\u001b[49m\u001b[43m(\u001b[49m\u001b[43mb\u001b[49m\u001b[43m)\u001b[49m\n\u001b[32m    721\u001b[39m     \u001b[38;5;28;01mexcept\u001b[39;00m timeout:\n\u001b[32m    722\u001b[39m         \u001b[38;5;28mself\u001b[39m._timeout_occurred = \u001b[38;5;28;01mTrue\u001b[39;00m\n",
            "\u001b[36mFile \u001b[39m\u001b[32m/opt/homebrew/Cellar/python@3.12/3.12.9/Frameworks/Python.framework/Versions/3.12/lib/python3.12/ssl.py:1251\u001b[39m, in \u001b[36mSSLSocket.recv_into\u001b[39m\u001b[34m(self, buffer, nbytes, flags)\u001b[39m\n\u001b[32m   1247\u001b[39m     \u001b[38;5;28;01mif\u001b[39;00m flags != \u001b[32m0\u001b[39m:\n\u001b[32m   1248\u001b[39m         \u001b[38;5;28;01mraise\u001b[39;00m \u001b[38;5;167;01mValueError\u001b[39;00m(\n\u001b[32m   1249\u001b[39m           \u001b[33m\"\u001b[39m\u001b[33mnon-zero flags not allowed in calls to recv_into() on \u001b[39m\u001b[38;5;132;01m%s\u001b[39;00m\u001b[33m\"\u001b[39m %\n\u001b[32m   1250\u001b[39m           \u001b[38;5;28mself\u001b[39m.\u001b[34m__class__\u001b[39m)\n\u001b[32m-> \u001b[39m\u001b[32m1251\u001b[39m     \u001b[38;5;28;01mreturn\u001b[39;00m \u001b[38;5;28;43mself\u001b[39;49m\u001b[43m.\u001b[49m\u001b[43mread\u001b[49m\u001b[43m(\u001b[49m\u001b[43mnbytes\u001b[49m\u001b[43m,\u001b[49m\u001b[43m \u001b[49m\u001b[43mbuffer\u001b[49m\u001b[43m)\u001b[49m\n\u001b[32m   1252\u001b[39m \u001b[38;5;28;01melse\u001b[39;00m:\n\u001b[32m   1253\u001b[39m     \u001b[38;5;28;01mreturn\u001b[39;00m \u001b[38;5;28msuper\u001b[39m().recv_into(buffer, nbytes, flags)\n",
            "\u001b[36mFile \u001b[39m\u001b[32m/opt/homebrew/Cellar/python@3.12/3.12.9/Frameworks/Python.framework/Versions/3.12/lib/python3.12/ssl.py:1103\u001b[39m, in \u001b[36mSSLSocket.read\u001b[39m\u001b[34m(self, len, buffer)\u001b[39m\n\u001b[32m   1101\u001b[39m \u001b[38;5;28;01mtry\u001b[39;00m:\n\u001b[32m   1102\u001b[39m     \u001b[38;5;28;01mif\u001b[39;00m buffer \u001b[38;5;129;01mis\u001b[39;00m \u001b[38;5;129;01mnot\u001b[39;00m \u001b[38;5;28;01mNone\u001b[39;00m:\n\u001b[32m-> \u001b[39m\u001b[32m1103\u001b[39m         \u001b[38;5;28;01mreturn\u001b[39;00m \u001b[38;5;28;43mself\u001b[39;49m\u001b[43m.\u001b[49m\u001b[43m_sslobj\u001b[49m\u001b[43m.\u001b[49m\u001b[43mread\u001b[49m\u001b[43m(\u001b[49m\u001b[38;5;28;43mlen\u001b[39;49m\u001b[43m,\u001b[49m\u001b[43m \u001b[49m\u001b[43mbuffer\u001b[49m\u001b[43m)\u001b[49m\n\u001b[32m   1104\u001b[39m     \u001b[38;5;28;01melse\u001b[39;00m:\n\u001b[32m   1105\u001b[39m         \u001b[38;5;28;01mreturn\u001b[39;00m \u001b[38;5;28mself\u001b[39m._sslobj.read(\u001b[38;5;28mlen\u001b[39m)\n",
            "\u001b[31mKeyboardInterrupt\u001b[39m: "
          ]
        }
      ],
      "source": [
        "from sentence_transformers import SentenceTransformer\n",
        "\n",
        "\n",
        "sentences = [\"This is an example sentence\", \"Each sentence is converted\"]\n",
        "\n",
        "model = SentenceTransformer('HIT-TMG/KaLM-embedding-multilingual-mini-instruct-v1.5')   # Do NOT set trust_remote_code\n",
        "model.max_seq_length = 512\n",
        "\n",
        "embeddings = model.encode(\n",
        "    sentences, \n",
        "    normalize_embeddings=True,\n",
        "    batch_size=256, \n",
        "    show_progress_bar=True\n",
        "    )\n",
        "print(embeddings)\n"
      ]
    },
    {
      "cell_type": "markdown",
      "metadata": {
        "id": "H8Yv2dUPTx_t"
      },
      "source": [
        "-----\n",
        "\n",
        "## 4\\. 여러 환경을 자유롭게 전환하는 패턴\n",
        "\n",
        "각기 다른 API를 하나의 인터페이스로 통일하면 코드 변경을 최소화하며 서비스를 전환할 수 있습니다."
      ]
    },
    {
      "cell_type": "code",
      "execution_count": null,
      "metadata": {
        "id": "rj9XzmAXTx_t"
      },
      "outputs": [],
      "source": [
        "import os\n",
        "from openai import OpenAI\n",
        "import requests\n",
        "import numpy as np\n",
        "\n",
        "class EmbeddingService:\n",
        "    def __init__(self, provider: str = \"openai\", model: str = None):\n",
        "        self.provider = provider\n",
        "\n",
        "        if provider == \"openai\":\n",
        "            self.client = OpenAI()\n",
        "            self.model = model or \"text-embedding-3-small\"\n",
        "        elif provider == \"openrouter\":\n",
        "            self.client = OpenAI(\n",
        "                base_url=\"https://openrouter.ai/api/v1\",\n",
        "                api_key=os.getenv(\"OPENROUTER_API_KEY\"),\n",
        "            )\n",
        "            self.model = model or \"google/gemma-2-9b-it:free\"\n",
        "        elif provider == \"huggingface\":\n",
        "            self.model = model or \"jhgan/ko-sroberta-multitask\"\n",
        "            self.api_url = f\"https://api-inference.huggingface.co/models/{self.model}\"\n",
        "            self.headers = {\"Authorization\": f\"Bearer {os.getenv('HUGGINGFACE_API_KEY')}\"}\n",
        "        else:\n",
        "            raise ValueError(\"지원하지 않는 provider입니다: openai, openrouter, huggingface\")\n",
        "\n",
        "    def embed(self, text_list: list[str]) -> list[list[float]] | None:\n",
        "        print(f\"--- {self.provider}({self.model}) 모델로 임베딩 수행 ---\")\n",
        "        if self.provider in [\"openai\", \"openrouter\"]:\n",
        "            response = self.client.embeddings.create(model=self.model, input=text_list)\n",
        "            return [obj.embedding for obj in response.data]\n",
        "\n",
        "        elif self.provider == \"huggingface\":\n",
        "            try:\n",
        "                response = requests.post(self.api_url, headers=self.headers, json={\"inputs\": text_list})\n",
        "                response.raise_for_status()\n",
        "                return response.json()\n",
        "            except requests.exceptions.RequestException as e:\n",
        "                print(f\"API 요청 오류: {e}\")\n",
        "                return None\n",
        "\n",
        "# --- 사용 예시 ---\n",
        "# service = EmbeddingService(provider=\"openai\")\n",
        "# service = EmbeddingService(provider=\"openrouter\", model=\"mistralai/mistral-7b-instruct:free\")\n",
        "service = EmbeddingService(provider=\"huggingface\")\n",
        "\n",
        "vectors = service.embed([\"이것은 테스트 문장입니다.\"])\n",
        "if vectors:\n",
        "    print(\"임베딩 성공!\")"
      ]
    },
    {
      "cell_type": "markdown",
      "metadata": {
        "id": "oO4ZLe4kTx_t"
      },
      "source": [
        "이처럼 \\*\\*클래스 기반의 래퍼(Wrapper)\\*\\*를 만들면, `provider` 이름만 바꿔서 일관된 방식으로 모든 서비스를 사용할 수 있습니다.\n",
        "\n",
        "-----\n",
        "\n",
        "## 5\\. 후속 활용 : 벡터 DB에 저장하기\n",
        "\n",
        "생성된 임베딩 벡터는 \\*\\*벡터 데이터베이스(Vector DB)\\*\\*에 저장하여 의미 기반 검색, 추천 시스템, RAG(검색 증강 생성) 파이프라인 등에 활용할 수 있습니다."
      ]
    },
    {
      "cell_type": "markdown",
      "metadata": {},
      "source": [
        "### Supabase를 Vector DB로 활용하기\n",
        "\n",
        "Supabase는 PostgreSQL 기반의 오픈소스 백엔드 서비스로, **pgvector** 확장을 통해 벡터 데이터베이스 기능을 제공합니다. 임베딩 벡터를 저장하고 의미 기반 검색을 수행할 수 있는 강력한 플랫폼입니다.\n",
        "\n",
        "#### 주요 특징:\n",
        "- **pgvector 확장**: 벡터 유사도 검색 지원\n",
        "- **SQL 기반**: 익숙한 SQL 쿼리로 벡터 검색 가능\n",
        "- **실시간 API**: REST API와 실시간 구독 기능\n",
        "- **무료 티어**: 개발 및 학습용으로 충분한 무료 사용량 제공"
      ]
    },
    {
      "cell_type": "markdown",
      "metadata": {},
      "source": [
        "#### 준비 절차\n",
        "\n",
        "##### 1. pgvector 확장 설치 (한 번만 실행, 여러분은 이미 설치했어요 지난 시간에)\n",
        "\n",
        "```sql\n",
        "-- Postgres 15 이상 / Supabase 기본 버전\n",
        "create extension if not exists vector cascade;\n",
        "```\n",
        "\n",
        "`pgvector` 확장이 활성화되면 **vector**, **halfvec**(16-bit 부동소수형), **svec**(sparse) 자료형과 K-NN 인덱스(HNSW, IVFFLAT 등)를 쓸 수 있습니다. ([supabase.com][1])"
      ]
    },
    {
      "cell_type": "markdown",
      "metadata": {},
      "source": [
        "---\n",
        "\n",
        "##### 2. 테이블 생성\n",
        "   \n",
        "지난번에 생성했던 테이블이 있다면 콘솔에서 삭제하시고 진행해주세요\n",
        "\n",
        "```sql\n",
        "create table if not exists public.embeddings (\n",
        "  id          bigserial primary key,\n",
        "  content     text,                       -- 원본 문장 or 문서 요약\n",
        "  embedding   vector(1536),               -- OpenAI text-embedding-3-small / ada-002 크기\n",
        "  created_at  timestamptz default now()\n",
        ");\n",
        "```\n",
        "\n",
        "> 🔎 **vector(차원)** 은 모델 출력 차원과 반드시 일치해야 합니다. (text-embedding-3-small 및 text-embedding-ada-002 ⇒ 1536차원)\n"
      ]
    },
    {
      "cell_type": "markdown",
      "metadata": {},
      "source": [
        "---\n",
        "\n",
        "##### 3. K-NN 인덱스 추가(선택)\n",
        "\n",
        "빈도가 많은 검색·유사도 비교가 필요하다면 다음 중 하나를 추가하세요.\n",
        "\n",
        "```sql\n",
        "-- a. Cosine 유사도 IVFFLAT (빠르지만 삽입 전에 REINDEX 필요)\n",
        "create index if not exists embeddings_embedding_cos_ivfflat\n",
        "  on public.embeddings using ivfflat (embedding vector_cosine_ops)\n",
        "  with (lists = 100);       -- 리스트 수는 데이터 규모에 맞춰 조정\n",
        "\n",
        "-- b. HNSW(삽입·검색 동시성 ↑, 최신 PostgreSQL 필요)\n",
        "-- create index ... using hnsw (embedding vector_l2_ops) with (m = 16, ef_construction = 64);\n",
        "```\n",
        "\n",
        "인덱스를 만들기 전에 `ANALYZE embeddings;`를, IVFFLAT 인덱스 후에는 `REINDEX`를 권장합니다.\n",
        "\n",
        "---"
      ]
    },
    {
      "cell_type": "markdown",
      "metadata": {},
      "source": [
        "##### 4. RLS(행 수준 보안) 설정 (어려운 부분이 여러분은 그냥 쿼리만 실행하세요)\n",
        "\n",
        "Supabase 프로젝트는 기본적으로 **RLS가 켜져** 있습니다. 익명 키(anon key)로 쓰기·읽기를 허용하려면 최소 두 개의 정책이 필요합니다.\n",
        "\n",
        "```sql\n",
        "alter table public.embeddings enable row level security;\n",
        "\n",
        "-- INSERT 허용\n",
        "create policy \"Allow insert for anon\" on public.embeddings\n",
        "  for insert\n",
        "  to anon\n",
        "  using (true)          -- 조건을 걸어야 한다면 여기서 필터\n",
        "\n",
        "-- SELECT 허용\n",
        "create policy \"Allow read for anon\" on public.embeddings\n",
        "  for select\n",
        "  to anon\n",
        "  using (true);\n",
        "```"
      ]
    },
    {
      "cell_type": "markdown",
      "metadata": {},
      "source": [
        "---\n",
        "\n",
        "##### 5. 파이썬 클라이언트 사용 팁\n",
        "\n",
        "```python\n",
        "# 벡터는 list[float] 형태면 자동 캐스팅됩니다.\n",
        "vectors = [[0.01, 0.23, ... , 0.45]]  # 1536-dim list\n",
        "text_list = [\"이것은 테스트 문장입니다.\"]\n",
        "\n",
        "save_embeddings_to_supabase(vectors, text_list)\n",
        "```\n",
        "\n",
        "* **환경 변수**로 `SUPABASE_URL`과 `SUPABASE_ANON_KEY`를 관리해 키 노출을 방지하세요.\n",
        "* 수천 \\~ 수만 건 이상을 넣을 때는 `insert().execute()` 대신 `upsert()` 또는 `copy_from()`(psycopg) 방식을 고려하면 훨씬 빠릅니다.\n",
        "\n",
        "---"
      ]
    },
    {
      "cell_type": "code",
      "execution_count": null,
      "metadata": {},
      "outputs": [],
      "source": [
        "!pip install supabase"
      ]
    },
    {
      "cell_type": "code",
      "execution_count": 19,
      "metadata": {
        "id": "lcD23MRqTx_t"
      },
      "outputs": [
        {
          "data": {
            "text/plain": [
              "True"
            ]
          },
          "execution_count": 19,
          "metadata": {},
          "output_type": "execute_result"
        }
      ],
      "source": [
        "import numpy as np\n",
        "from supabase import create_client, Client\n",
        "from dotenv import load_dotenv\n",
        "\n",
        "load_dotenv()"
      ]
    },
    {
      "cell_type": "code",
      "execution_count": 20,
      "metadata": {},
      "outputs": [],
      "source": [
        "# Supabase 클라이언트 설정\n",
        "url = os.getenv(\"SUPABASE_URL\") # .env 파일에 저장된 환경 변수 사용\n",
        "key = os.getenv(\"SUPABASE_ANON_KEY\") # .env 파일에 저장된 환경 변수 사용"
      ]
    },
    {
      "cell_type": "code",
      "execution_count": 22,
      "metadata": {},
      "outputs": [],
      "source": [
        "supabase: Client = create_client(url, key)"
      ]
    },
    {
      "cell_type": "code",
      "execution_count": 40,
      "metadata": {},
      "outputs": [
        {
          "data": {
            "text/plain": [
              "768"
            ]
          },
          "execution_count": 40,
          "metadata": {},
          "output_type": "execute_result"
        }
      ],
      "source": [
        "len(vectors[0])"
      ]
    },
    {
      "cell_type": "code",
      "execution_count": 39,
      "metadata": {},
      "outputs": [
        {
          "ename": "APIError",
          "evalue": "{'message': 'expected 1536 dimensions, not 768', 'code': '22000', 'hint': None, 'details': None}",
          "output_type": "error",
          "traceback": [
            "\u001b[31m---------------------------------------------------------------------------\u001b[39m",
            "\u001b[31mAPIError\u001b[39m                                  Traceback (most recent call last)",
            "\u001b[36mCell\u001b[39m\u001b[36m \u001b[39m\u001b[32mIn[39]\u001b[39m\u001b[32m, line 6\u001b[39m\n\u001b[32m      1\u001b[39m \u001b[43msupabase\u001b[49m\u001b[43m.\u001b[49m\u001b[43mtable\u001b[49m\u001b[43m(\u001b[49m\u001b[33;43m\"\u001b[39;49m\u001b[33;43membeddings\u001b[39;49m\u001b[33;43m\"\u001b[39;49m\u001b[43m)\u001b[49m\u001b[43m.\u001b[49m\u001b[43minsert\u001b[49m\u001b[43m(\u001b[49m\u001b[43m[\u001b[49m\n\u001b[32m      2\u001b[39m \u001b[43m    \u001b[49m\u001b[43m{\u001b[49m\n\u001b[32m      3\u001b[39m \u001b[43m        \u001b[49m\u001b[33;43m\"\u001b[39;49m\u001b[33;43mcontent\u001b[39;49m\u001b[33;43m\"\u001b[39;49m\u001b[43m:\u001b[49m\u001b[43m \u001b[49m\u001b[43mtext_list\u001b[49m\u001b[43m[\u001b[49m\u001b[32;43m0\u001b[39;49m\u001b[43m]\u001b[49m\u001b[43m,\u001b[49m\n\u001b[32m      4\u001b[39m \u001b[43m        \u001b[49m\u001b[33;43m\"\u001b[39;49m\u001b[33;43membedding\u001b[39;49m\u001b[33;43m\"\u001b[39;49m\u001b[43m:\u001b[49m\u001b[43m \u001b[49m\u001b[43mvectors\u001b[49m\u001b[43m[\u001b[49m\u001b[32;43m0\u001b[39;49m\u001b[43m]\u001b[49m\u001b[43m.\u001b[49m\u001b[43mtolist\u001b[49m\u001b[43m(\u001b[49m\u001b[43m)\u001b[49m\n\u001b[32m      5\u001b[39m \u001b[43m    \u001b[49m\u001b[43m}\u001b[49m\n\u001b[32m----> \u001b[39m\u001b[32m6\u001b[39m \u001b[43m]\u001b[49m\u001b[43m)\u001b[49m\u001b[43m.\u001b[49m\u001b[43mexecute\u001b[49m\u001b[43m(\u001b[49m\u001b[43m)\u001b[49m\n",
            "\u001b[36mFile \u001b[39m\u001b[32m~/workspace/dante-code/class/star_track_python/.venv/lib/python3.12/site-packages/postgrest/_sync/request_builder.py:78\u001b[39m, in \u001b[36mSyncQueryRequestBuilder.execute\u001b[39m\u001b[34m(self)\u001b[39m\n\u001b[32m     76\u001b[39m     \u001b[38;5;28;01melse\u001b[39;00m:\n\u001b[32m     77\u001b[39m         json_obj = APIErrorFromJSON.model_validate_json(r.content)\n\u001b[32m---> \u001b[39m\u001b[32m78\u001b[39m         \u001b[38;5;28;01mraise\u001b[39;00m APIError(\u001b[38;5;28mdict\u001b[39m(json_obj))\n\u001b[32m     79\u001b[39m \u001b[38;5;28;01mexcept\u001b[39;00m ValidationError \u001b[38;5;28;01mas\u001b[39;00m e:\n\u001b[32m     80\u001b[39m     \u001b[38;5;28;01mraise\u001b[39;00m APIError(generate_default_error_message(r))\n",
            "\u001b[31mAPIError\u001b[39m: {'message': 'expected 1536 dimensions, not 768', 'code': '22000', 'hint': None, 'details': None}"
          ]
        }
      ],
      "source": [
        "supabase.table(\"embeddings\").insert([\n",
        "    {\n",
        "        \"content\": text_list[0],\n",
        "        \"embedding\": vectors[0].tolist()\n",
        "    }\n",
        "]).execute()"
      ]
    },
    {
      "cell_type": "code",
      "execution_count": 23,
      "metadata": {},
      "outputs": [],
      "source": [
        "# 임베딩 벡터를 Supabase에 저장하는 예제\n",
        "def save_embeddings_to_supabase(vectors, text_list):\n",
        "    \"\"\"\n",
        "    임베딩 벡터와 텍스트를 Supabase 테이블에 저장\n",
        "    \n",
        "    테이블 구조 예시:\n",
        "    - id: SERIAL PRIMARY KEY\n",
        "    - content: TEXT\n",
        "    - embedding: VECTOR(1536) -- 또는 해당 모델의 차원 수\n",
        "    - created_at: TIMESTAMP\n",
        "    \"\"\"\n",
        "    \n",
        "    data_to_insert = []\n",
        "    for i, (text, vector) in enumerate(zip(text_list, vectors)):\n",
        "        data_to_insert.append({\n",
        "            \"content\": text,\n",
        "            \"embedding\": vector \n",
        "        })\n",
        "    \n",
        "    try:\n",
        "        result = supabase.table(\"embeddings\").insert(data_to_insert).execute()\n",
        "        print(f\"성공적으로 {len(data_to_insert)}개의 임베딩을 저장했습니다.\")\n",
        "        return result\n",
        "    except Exception as e:\n",
        "        print(f\"Supabase 저장 중 오류 발생: {e}\")\n",
        "        return None\n"
      ]
    },
    {
      "cell_type": "code",
      "execution_count": 26,
      "metadata": {},
      "outputs": [
        {
          "data": {
            "text/plain": [
              "['인공지능의 미래는 밝다.', '오늘 점심은 무엇을 먹을까?']"
            ]
          },
          "execution_count": 26,
          "metadata": {},
          "output_type": "execute_result"
        }
      ],
      "source": [
        "text_list"
      ]
    },
    {
      "cell_type": "code",
      "execution_count": 28,
      "metadata": {},
      "outputs": [
        {
          "data": {
            "text/plain": [
              "array([[-0.3747718 ,  0.62013024,  0.13008459, ...,  0.8220279 ,\n",
              "        -0.19499989, -0.29979065],\n",
              "       [ 0.05203374, -0.2672606 ,  0.9618149 , ..., -0.09108355,\n",
              "         0.07064279,  0.25929978]], dtype=float32)"
            ]
          },
          "execution_count": 28,
          "metadata": {},
          "output_type": "execute_result"
        }
      ],
      "source": [
        "vectors"
      ]
    },
    {
      "cell_type": "code",
      "execution_count": 43,
      "metadata": {},
      "outputs": [
        {
          "name": "stdout",
          "output_type": "stream",
          "text": [
            "성공적으로 2개의 임베딩을 저장했습니다.\n"
          ]
        },
        {
          "data": {
            "text/plain": [
              "APIResponse[TypeVar](data=[{'id': 1, 'content': '인공지능의 미래는 밝다.', 'embedding': '[-0.00066290627,0.006121873,-0.022473985,0.0017351238,0.013250499,-0.03001955,-0.0042405664,0.049625814,0.0029058557,0.022412969,-0.00910654,-0.02947041,0.0055117193,-0.047225874,-0.027436566,-0.018792726,-0.03642616,-0.041226033,0.038988803,-0.07004561,-0.026358629,0.025443397,0.015680943,-0.013219991,0.01349456,-0.0072354027,0.026500998,0.0139826825,0.011694607,0.0044719162,0.019514741,-0.024121398,-0.025463736,-0.05544261,0.0408396,0.04742926,0.0052778274,0.01689108,-0.014043698,-0.006762534,0.0025715425,-0.008496387,0.023551922,0.03878542,0.00066163513,0.03001955,-0.057557806,0.016850404,0.020907924,0.051171534,-0.049625814,0.030873764,-0.030182255,0.027375551,-0.0227994,0.07370654,0.0060608573,0.018558834,-0.0037753244,0.04995123,0.01506062,-0.041592125,0.011653931,0.017074127,-0.025626443,-0.025626443,0.009070948,0.030243272,-0.037158344,-0.032012716,-0.005842219,0.004535474,-0.050235964,0.005054104,-0.015253835,-0.028087396,0.0014656393,0.015365697,0.0204198,0.031117825,0.0037244782,0.016219912,-0.0041185357,-0.041246373,-0.0063100033,-0.05552396,-0.038663387,-0.06406611,-0.055361256,0.010148886,-0.019748632,0.06329325,-0.00032366734,0.0067269416,-0.04222262,0.026907766,0.07167269,-0.0051888465,-0.0112166535,0.01834528,-0.039944712,-0.0021342658,0.048527535,0.013840314,0.024853583,-0.058493376,-0.0006028443,-0.0111149615,-0.02881958,0.03392453,-0.032541517,-0.023165492,-0.098438084,0.030365303,-0.04112434,-0.019738464,-0.013992852,0.0047973315,0.03455502,0.0065489803,-0.028392473,0.0070269336,0.022209585,0.020246925,-0.046086922,-0.053408764,-0.01114547,-0.02894161,-0.05503584,-0.034392316,-0.016138557,0.010433624,0.0013614049,0.0338025,0.053490117,-0.021985862,0.010820054,0.03119918,0.017135141,-0.048934303,0.021558754,-0.012803053,-0.0013842856,0.018630018,-0.046086922,0.0220062,0.0066354186,-0.0045710662,0.055849377,0.03302964,-0.021843493,-0.026175583,-0.066344015,-0.030873764,-0.019829987,0.0227994,-0.02869755,0.049585134,-0.042426,0.012640345,-0.049341075,-0.01205053,-0.014135221,-0.01402336,-0.021192662,0.0697202,-0.027843336,0.007479464,-0.034310963,-0.012223407,-0.0066862646,-0.014867405,0.019270679,-0.028026382,-0.026500998,0.031626288,0.0348601,-0.030080564,0.003879559,-0.020277433,-0.036446497,0.023348538,0.018965602,-0.007931994,-0.037178684,-0.012864068,-0.028351797,-0.037931204,0.007998095,0.027172167,-0.019463895,0.06528642,0.044907294,-0.010942085,-0.028900934,-0.02947041,-0.021985862,-0.05552396,0.0150707895,-0.02030794,0.028514504,0.0042481935,0.035551608,-0.011430208,0.030690718,-0.008104871,0.046086922,-0.023938352,-0.0026872174,0.031504255,0.03471773,-0.02857552,0.014725036,-0.037280373,-0.009330262,-0.026012875,0.011979345,0.025667122,-0.032805916,0.050398674,-0.018263927,-0.016270759,-0.0230638,0.023633277,0.0013029318,0.051456273,0.0009775166,-0.023734968,0.054995164,0.005882896,-0.04714452,-0.041978557,-0.0063100033,0.0013219991,-0.020216417,-0.018945264,0.005781204,-0.042670064,-0.01730802,0.035836346,0.018406294,0.0056388346,0.014887744,-0.015528405,0.01468436,0.0062693264,0.006838803,0.0073828567,0.026480658,-0.03050767,0.027884012,0.030304287,0.06935411,0.025606105,-0.005252404,-0.0012565347,-0.004204974,0.025097644,-0.010596331,-0.017755466,-0.027721304,0.022596015,-0.011887822,-0.026521336,0.040554866,0.01349456,0.037158344,0.025972197,0.006299834,-0.06614063,-0.008984509,-0.022636693,0.016860573,0.0059540807,-0.04706317,-0.011023439,-0.018182572,0.023755306,-0.018579172,0.07814032,-0.011562408,0.014735205,0.050398674,-0.018955434,0.014562328,-0.018477479,-0.024670538,-0.043442924,-0.047836028,-0.027884012,0.06081196,-0.035816006,-0.04006674,0.0075964103,0.019799478,0.010082785,0.05161898,0.008079449,-0.020735048,0.0076269177,0.09396363,-0.05320538,-0.057191715,-0.023226507,-0.03368047,0.072038785,-0.022026539,0.018975772,-0.014725036,-0.030873764,-0.024568845,0.05462907,0.033314377,-0.030772071,-0.023734968,-0.04128705,0.011043777,-0.06272377,0.029511087,0.00694558,-0.0077743717,-0.008130294,-0.030975455,-0.038032897,-0.0335381,-0.039131172,0.019321525,-0.026521336,0.042141262,-0.024731552,-0.030894103,0.040697236,-0.00347279,-0.0033761824,-0.042670064,-0.059266236,-0.025240013,-0.0015647893,-0.03185001,-0.0133928675,-0.014308098,-0.021640109,-0.06093399,0.024141738,0.022657031,0.005211727,0.0027533174,-0.04193788,0.014948759,-0.008262495,0.006081196,-0.0053693503,0.021904508,-0.01821308,-0.002251212,0.005343927,0.0012864068,0.027151827,-0.0070421877,-0.025789151,-0.09616018,-0.021843493,-0.010647178,0.035307545,0.015874159,-0.017043618,-0.013474221,-0.01806054,0.03376182,-0.00079383503,-0.030873764,-0.00576595,-0.023287522,-0.070777796,-0.017318187,-0.002758402,-0.017857157,0.036487173,-0.022982446,0.005974419,-0.02135537,-0.00087900227,0.015345359,-0.067605,-0.05328673,0.007911656,-0.019585924,-0.037585452,-0.028351797,0.020785894,0.026053552,-0.02528069,-0.009487886,-0.0058676424,-0.04755129,-0.030568687,-0.033619452,-0.026907766,-0.040819265,0.005425281,-0.036222775,-0.03642616,-0.026582351,0.0031702556,0.009253994,-0.014725036,0.05503584,0.027477242,0.021538416,0.0068489723,0.02513832,-0.05552396,0.029633118,-0.04307683,-0.0036049897,-0.035429575,-0.006554065,0.019667279,0.008938747,0.009126878,0.007032018,0.0128945755,-0.027558597,-0.037931204,0.00962517,0.012060699,0.03012124,-0.010362439,0.08615366,-0.029673794,-0.017491065,0.005354096,-0.010982762,-0.017511403,-0.03691428,0.015925005,0.010565824,-0.018416464,0.030487332,-0.03561262,0.0020554543,-0.051781688,-0.0208164,-0.04218194,-0.020653693,-0.010687854,-0.051781688,0.007865895,-0.010169224,-0.069760874,0.040534526,-0.04283277,0.041612465,0.05043935,-0.0050083427,-0.05462907,0.026399305,-0.033436406,-8.0916834e-05,-0.00018495276,0.0074387873,-0.019423218,-0.020694371,0.038744744,-0.0072099795,0.0016067374,0.02922635,-0.006940495,-0.047836028,-0.009182809,-0.0106065,-0.010413285,0.008221817,-0.045680154,0.0046397084,0.02568746,0.0016232623,-0.01834528,-0.044500522,0.008694686,0.004535474,-0.0013652183,-0.019118141,0.01545722,0.0048151277,0.06902869,-0.037015975,-0.044744585,0.015863989,-0.035816006,0.046981815,-0.008176056,0.064147465,-0.004802416,0.032561854,-0.00013506,-0.015182652,-0.02934838,-0.007982841,0.026358629,-0.010047193,-0.042141262,-0.027233182,0.0103268465,0.03148392,-0.012121715,-0.013413207,-0.003721936,-0.013128468,-0.0033202516,0.010789546,0.02936872,-0.029409396,0.035836346,0.017124973,0.03197204,0.0043803933,0.039904036,0.009925162,0.003945659,0.013382698,-0.020663863,0.022067215,0.024853583,-0.00079510617,-0.04519203,-0.0072252336,0.021843493,-0.015477559,-0.003355844,0.012782714,0.014064036,0.024162076,-0.0023795983,-0.024873922,0.021192662,0.031605948,0.037015975,-0.011298007,0.055605315,0.016606342,0.017663943,-0.006498134,-0.01559959,-0.016189404,-0.007703187,-0.02044014,-0.01978931,-0.021701124,0.061788205,0.029897518,0.03304998,0.031524595,-0.033639792,0.01336236,-0.014013191,0.0030380557,0.009452294,-0.00030968463,0.013728452,0.0053185043,-0.031280532,-0.02582983,0.021924846,0.009065863,-0.010113293,0.027355213,-0.02056217,-0.003025344,0.02804672,-0.063903406,-0.012060699,-0.01663685,0.04218194,-0.014958928,-0.020684201,0.051985074,-0.02582983,-0.020368956,0.0009800589,0.0054557887,0.0010270916,0.0074184486,0.032073732,0.003747359,-0.010189562,-2.6277115e-05,0.013352191,0.01886391,-0.021192662,0.037687145,0.007032018,0.0066201645,-0.027375551,-0.014450467,-0.016830066,0.017267343,-0.0040270127,-0.008948917,0.017216496,0.005943911,0.0015152143,0.005160881,-0.032399148,-0.009665847,-0.030182255,-0.034738068,0.03457536,0.005425281,-0.0028041634,-0.0227994,0.0068337186,-0.00016231035,-0.003988878,-0.025097644,-0.017521573,-0.040819265,0.014847067,0.0681338,0.0034194016,-0.0014147933,-0.004764281,0.016270759,-0.02229094,0.009457378,-0.012457299,0.018365618,-0.020694371,-0.027070474,-0.019036787,0.017724957,0.06435085,-0.016819896,0.009391278,-0.010616669,-0.04307683,-0.019270679,0.011409869,-0.0051481696,-0.013006438,-0.01652499,0.026033213,0.013423376,-0.031361885,-0.01114547,-0.0044236123,-0.027172167,-0.011328516,0.018304603,-0.013433545,0.009706524,-0.021070631,-0.03134155,0.006930326,0.008043856,-0.028616196,-0.007393026,-0.014755543,0.02568746,-0.0027558596,-0.0016436008,0.01727751,-0.0023490908,-0.022941768,0.007443872,0.03225678,0.05031732,0.020989278,0.023897676,0.0003053945,0.0005999842,-0.016260589,-0.00779471,0.019046957,0.022453647,0.015630096,0.009035355,-0.006762534,0.0060862806,0.013972513,0.009650594,0.021070631,-0.0338025,-0.04624963,0.04336157,0.009401447,0.0217418,0.036243115,0.012213238,-0.06313054,-0.032073732,8.9695735e-05,0.0014859778,-0.00024072459,-0.026846752,0.05959165,-0.032866932,0.011165808,-0.0058269654,0.027985703,0.006838803,0.047876704,0.02267737,-0.043280218,-0.009477717,-0.027131489,0.036100745,-0.0074998024,0.040676896,-0.012335269,-0.01898594,-0.008821801,-0.020928262,-0.011409869,0.017480895,0.01702328,0.0074387873,0.020765554,-0.0077387793,-0.038175266,0.010779377,-0.030853424,-0.004113451,-0.026684044,-0.007494718,-0.04555812,-0.004204974,-0.0016016527,-0.025667122,-0.026114566,0.016291097,0.002992294,-0.011257331,0.0051888465,0.0038261705,-0.001088107,-0.025463736,0.04283277,-0.0035668553,0.0085523175,-0.0046092006,-0.015365697,0.014786052,-0.012233576,-0.029104318,0.046453014,-0.017521573,0.06292716,-0.005135458,0.002758402,-0.045964893,0.0033355055,0.025260352,-0.021172324,0.050805442,0.0027024713,0.018518157,-0.045883536,-0.00825741,0.006564234,0.019443557,0.02513832,0.000801462,-0.015335189,0.02621626,-0.014521652,0.018050373,0.012020023,0.019423218,0.004827839,-0.0070574414,-0.025768813,0.0124064535,0.016850404,0.04088028,-0.0048786853,0.021904508,-0.04808009,-0.011053946,0.031931363,-0.003157544,-9.8514356e-05,0.004347343,0.007759118,-0.008496387,0.0026363712,0.0034880438,0.009981093,-0.016189404,-0.005153254,-0.012060699,-0.00040136656,-0.003391436,-0.01506062,0.01296576,0.041734494,-9.493924e-05,0.016047034,0.014796221,0.0019016449,0.033985548,-0.0064472877,0.045151353,0.01048447,0.02843315,0.0038236282,0.0016969892,0.025748475,-0.044175107,0.0008052754,0.026439982,0.03449401,-0.047347907,0.0037295627,0.006233734,-0.025789151,-0.023816323,-0.015558912,-0.021701124,-0.010952254,0.022555338,0.008948917,-0.0013092876,-0.021274017,0.022026539,-0.009096371,-0.028514504,-0.012955591,-0.042548034,0.030548349,0.071387954,-0.0004159848,-0.013423376,-0.012681022,0.016209742,0.023877338,0.009813301,0.0017986814,-0.013311514,0.02239263,-0.0713066,-0.005893065,-0.022494324,0.049422428,-0.02973481,0.028839918,-0.01638262,0.0040931124,0.0038922704,0.0051913885,-0.011298007,-0.01205053,0.034290623,0.012609838,0.05780187,-0.002018591,0.047754675,-0.0012247559,0.005943911,-0.035856683,-0.0053642658,0.018192742,0.027294196,0.000116151605,0.01963677,0.006742195,0.00076332735,0.018670695,0.034371976,-0.0075964103,0.025951859,0.026663706,-0.014216575,-0.022351954,0.035978712,-0.0021139274,-0.021192662,0.035877023,0.0073472643,0.0066201645,-0.005018512,-0.04283277,0.023551922,-0.017318187,-0.022128232,0.019179156,-0.03736173,0.040534526,-0.014979267,0.023287522,0.011430208,-0.02961278,-0.014114883,0.004825297,0.01835545,0.025565429,0.0064777955,0.029694134,0.020521494,0.008862479,0.0023961233,-0.00995567,-7.56336e-05,0.010453962,-0.0002135537,0.009447209,0.031097487,0.012853899,0.032724563,0.0023312946,0.002750775,0.0324805,0.04307683,-0.007937079,-0.05320538,-0.02621626,-0.028351797,0.019270679,-0.026012875,-0.023084138,0.009681101,-0.027070474,0.018904587,0.011450546,-0.0054201963,0.016748711,-0.05027664,-0.03984302,-0.019453725,-0.0047591967,-0.0100319395,0.0064676264,-0.017226664,-0.0044922545,0.0030024634,0.0046829274,0.015182652,0.0073981103,-0.003432113,-0.066018604,-0.008811632,0.0033253361,0.003879559,-0.025951859,-0.0067574494,-0.0032973709,0.013596253,0.04629031,-0.024609521,0.024568845,0.020053709,-0.026399305,0.008120125,0.009925162,-0.0062286495,0.006579488,0.06101534,0.00831334,0.020907924,-0.0043676817,-0.013840314,-0.029022966,-0.016565666,-0.02239263,-0.0246502,-0.026236597,-0.00061047124,0.010433624,-8.246605e-05,0.01574196,-0.028534843,0.0141860675,0.061422113,0.016413128,0.0097370315,0.011023439,0.04193788,0.014552159,0.01692159,-0.019565586,0.03447367,0.01244713,0.008135379,-0.0036126168,0.047510613,0.022494324,0.043971725,0.037951544,0.000913959,-0.016077543,0.010255662,-0.056134116,-0.0017058873,0.0033787247,0.042751417,-0.012081038,0.024324784,0.002692302,0.013545406,-0.010357355,-0.012375945,0.012813222,-0.004029555,-0.023734968,-0.03418893,-0.013911498,-0.034371976,-0.004212601,0.007001511,-0.0024075639,-0.008577741,-0.008262495,0.028311118,0.013250499,0.025443397,0.0025054426,-0.028026382,-0.01440979,0.026643366,-0.0076320027,-0.0032719478,0.008303171,0.041165017,-0.037117667,0.0030634787,-0.004863431,-0.0120098535,0.0011128944,0.032785576,-0.009747201,0.0005151348,-0.0061676344,0.008206564,-0.015579251,-0.019850325,0.054547716,-0.007972672,0.032785576,0.04140908,-0.017775804,-0.025789151,0.015477559,0.011877653,0.026684044,0.020582508,0.010347186,-0.024731552,-0.017928341,0.031524595,0.022433307,0.0059591653,0.0010944627,0.002999921,0.0027939943,-0.07366586,0.014206406,-0.020023203,0.0025283233,0.0124064535,-0.0052625732,-0.01520299,-0.01716565,-0.009147217,-0.0016588547,0.0074896333,0.01074887,-0.020328278,-0.0046829274,0.0024380714,-0.0056693424,0.006462542,-0.0087455325,0.016941927,-0.038663387,-0.0073065874,0.04677843,-0.052107103,0.006538811,-0.00844554,0.017541911,0.041734494,-0.00047350448,0.023043461,-0.0136877755,0.02044014,0.021701124,0.047754675,0.032683887,-0.016748711,0.027599273,-0.006371019,-0.017836818,-0.0208164,-0.0044388664,-0.0069252416,0.0053795194,-0.00017732584,0.018823233,0.009574324,-0.03654819,0.006142211,0.0150707895,-0.0064676264,0.01780631,0.013311514,0.018019864,0.0034778744,-0.04033114,0.021416385,0.034229606,-0.012335269,0.0052574887,-0.0031855095,0.012752207,-0.0004213872,0.008140463,-0.03040598,-0.012243746,0.009198063,-0.0019995237,0.014348775,0.005491381,-0.014165728,0.024080722,0.014633513,0.005051562,-0.032439824,0.03132121,0.006904903,0.0055371425,-0.025117982,0.004993089,0.0029592442,0.002651625,0.014511483,-0.05450704,-0.01388099,-0.033172008,0.015863989,0.00628458,-0.027619611,-0.016708035,-0.033355054,-0.0065693185,0.008740447,0.0016461432,0.0033761824,0.03001955,0.00033717332,-0.0018291891,-0.029816164,-0.014206406,-0.0051913885,0.030283948,-0.015314851,-0.052595224,-0.02646032,0.030609364,-0.022189246,0.035063483,0.008882817,-0.03001955,-0.01572162,0.035571944,-0.017094465,0.031158501,0.016321605,-0.017358866,0.023612937,0.014196237,-0.019433387,-0.0029592442,0.0015063162,0.01349456,0.016179236,0.0033761824,0.023918014,-0.012111546,0.0023707002,-0.045680154,0.026785735,0.035734653,0.0037524437,-0.01899611,-0.0101336315,-0.0037626128,-0.002251212,-0.030060226,0.017724957,-0.023084138,-0.02395869,0.0038541357,0.0062439037,-0.021029955,-0.027192505,-0.0014529278,-0.0067269416,-0.020379124,-0.013718283,-0.019809648,0.0011828078,-0.03640582,-0.020501155,0.004993089,0.023816323,-0.01859951,-0.024060383,-0.008120125,0.006630334,0.0147758825,0.0016906335,-0.030731395,-0.023389215,-0.04795806,-0.018691033,-0.010001431,0.003282117,-0.012742038,0.021965524,0.020399462,-0.019687617,0.014552159,0.012640345,-0.010759039,-0.0020262178,0.027619611,-0.010011601,-0.032846592,0.040270127,0.03457536,-0.007982841,0.007443872,-0.012681022,0.012914915,0.021375708,-0.0049498696,-0.0027711135,-0.029124657,-0.04572083,-0.016270759,-0.01794868,0.025117982,-0.015640266,-0.032053392,0.00041439588,-0.028026382,0.0072506564,-0.010799715,0.015213159,0.0021558756,-0.00084468117,0.028107734,0.013840314,-0.0051710503,-0.010382777,0.010677685,0.004293955,-0.0034270284,0.024223091,0.023734968,-0.021904508,-0.020887585,-0.0034600785,0.018141896,0.002576627,-0.00949297,-0.01717582,-0.009798047,-0.0067574494,-0.008226902,-0.010514977,-0.006981172,-0.05385621,-0.031016132,-0.009848894,0.057069685,-0.02214857,-0.015264005,0.018365618,0.022473985,0.01480639,0.019667279,0.0038414244,0.017328357,-0.0066099954,-0.01692159,-0.0035388898,0.0018406295,0.015416543,0.02318583,-0.0042303973,-0.014908082,-0.019423218,-0.0014402163,0.013748791,-0.025606105,0.0034702476,-0.009182809,0.01874188,0.004121078,-0.00092349265,0.021192662,0.014196237,0.013840314,0.0037270205,-0.022433307,-0.009976009,0.0044109006,0.00969127,-0.024731552,-0.036019392,0.022209585,0.008440455,-0.02345023,0.022046877,-0.020480817,-0.012548822,0.0032592362,0.00093938207,0.0088472245,0.023389215,0.003938032,-0.06146279,0.0039685396,0.015975852,-0.019484233,0.007001511,0.023409553,-0.03290761,0.005923573,0.018975772,-0.014836897,-0.0031372055,-0.0071337107,-0.0063761035,-0.012233576,-0.01349456,0.0013982683,0.0123251,-0.002377056,0.019870663,0.0010506079,0.038866773,-0.002317312,-0.015538574,-0.021640109,0.03589736,-0.03223644,-0.011826808,-0.005051562,-0.031768654,-0.021253677,0.031138163,0.018121557,0.023206169,-0.039232865,0.040920958,-0.06455423,0.003696513,-0.017196158,-0.01048447,-0.014440298,-0.011826808,0.02229094,0.0375041,-0.02857552,-0.0124064535,0.011328516,0.010545485,-0.0023389214,0.0031041557,-0.017226664,-0.0039176936,0.024080722,0.019687617,0.05332741,-0.00950314,0.060323834,0.009528562,-0.006304919,-0.0324805,0.0024050213,0.0034295707,-0.0044236123,0.021253677,0.050113935,0.02277906,-0.026236597,0.01913848,0.035999052,0.016718203,0.014318267,0.023145154,-0.0028448403,-0.020358786,-0.014694529,0.02869755,0.004911735,0.03105681,0.02973481,-0.012121715,-0.01835545,-0.05096815,-0.016077543,0.032541517,-0.032582194,-0.009009932,-0.03534822,0.011053946,0.034677055,0.030751733,-0.014562328,-0.003945659,-0.009615001,0.014267421,-0.008160803,-0.014084375,0.023551922,0.016362282,0.008984509,-0.010962423,0.012253915,0.02711115,0.0025308656,0.053368088,-0.011775961,-0.014297929,-0.01810122,0.009162471,-0.0064269495,-0.015091128,0.027619611,-0.02159943,-0.016148727,0.007937079,0.0002868039,0.013301345,0.02462986,-0.005776119,0.01820291,0.03315167,0.010769208,-0.028677212,0.0014058952,0.007652341,0.0058218804,0.011226824,0.024609521,-0.013321683,-0.0069099874,0.024833245,0.016586004,0.051334243,0.012975929,0.018416464,0.011908161,0.020724878,0.010514977,0.00081989367,0.01178613,0.04177517,-0.009559071,0.022616353,-0.0081557175,-0.02829078,0.018833403,0.0056083268,-0.008608248,0.04384969,0.018192742,-0.0039405744,0.00091523014,0.004484628,0.019585924,0.01676905,-0.0076167486,0.051944394,0.018823233,0.001454199,0.019585924,-0.008394694,-0.0030228018,-0.013616591,-0.014308098,0.011511561,0.0035465169,0.011633592,0.0054557887,-0.0039710817,-0.009914993,-0.028961949,-0.040107418,0.0091421325,-0.028778903,0.014633513,-0.021802817,0.02580949,0.01807071,0.013575913,0.034249946,-0.010001431,-0.010942085,-0.03693462,-0.01348439,0.020124894,0.0016258047,-0.00034734255,-0.033578776,-0.015691113,-0.0048685158,-0.0054710424,0.020368956,0.015497897,-0.03435164,0.018579172,-0.05161898,-0.018884249,0.03770748,-0.0079574175,-0.008018433,-0.0068693105,0.042670064,-0.011501392,0.011308176,-0.00094192434,-0.0061778035,-0.0061523803,0.015233497,-0.023897676,0.029490748,0.0025550176,0.022351954,0.0027024713,0.009284501,0.022738384,0.015233497]', 'created_at': '2025-06-13T02:40:34.170989+00:00'}, {'id': 2, 'content': '오늘 점심은 무엇을 먹을까?', 'embedding': '[0.015573886,-0.034451324,-0.057222232,-0.0287291,0.02312486,-0.016193302,0.03049886,0.08589234,-0.0048152213,-0.033959724,-0.0028094936,0.03521822,-0.019496854,0.020686526,-0.019899966,-0.035926122,-0.02286923,0.027824556,-0.034294013,-0.0011638629,0.025543533,-0.006965971,0.010421919,0.043064155,0.012653782,0.012781599,0.010510406,0.0067201713,-0.01839567,-0.01721583,-0.0046554515,-0.027372284,-0.0058205435,-0.047036283,0.009905739,-0.028512796,0.021709053,-0.03557217,-0.0027677077,0.012860254,-0.03989825,-0.0041392716,0.019457527,0.017471462,0.045620475,-0.013165046,-0.0038172735,0.0058697034,-0.005756635,-0.011837726,-0.008027827,0.0060565113,0.025936812,0.0476262,-0.0049430374,0.05293548,0.0032838876,0.062492184,0.021119133,0.0390527,-0.033822075,-0.027136317,-0.016448934,0.04805881,-0.0111691505,-0.041451707,-0.0025157626,0.025327228,-0.012948742,0.04766553,0.021433758,0.0043088733,-0.030144908,-0.007167527,0.037459914,-0.007875431,-0.008563671,-0.06080108,0.0028414477,0.029987596,0.04231692,-0.031305086,-0.061391,0.06268883,-0.0043531177,-0.07893129,-0.05572777,-0.008598083,0.0033010936,0.03761723,0.0031536135,-0.021315774,0.004677573,-0.052109595,0.026939677,0.02336083,-0.04078313,0.037597563,-0.027136317,0.09234213,0.018779118,-0.06473388,0.0003659347,0.008406359,0.0012621828,-0.025602525,0.04137305,0.016616078,-0.019457527,-0.031895004,-0.012388319,0.030754492,-0.06308211,0.0016124478,0.0012554233,0.039662283,0.022004014,-0.015603382,0.025720509,-0.018926598,-0.00058377493,0.031324748,-0.023695117,-0.0072117713,-0.091162294,-0.0053535234,-0.01760911,0.011552598,-0.049317308,-0.0053191115,0.031226428,0.009345314,0.0060368474,-0.007162611,0.018474326,-0.01996879,0.019732822,-0.0011822978,-0.035473853,-0.0033625436,0.031501725,0.008966783,0.07975718,-0.016016327,0.03521822,-0.011306799,-0.021315774,0.032052316,0.03974094,0.045423836,0.022475949,-0.012378487,-0.017668102,0.014089255,0.0047488553,-0.017658269,0.02784422,-0.0067103393,-0.022298973,0.03301585,0.022161325,0.005011861,-0.025346894,-0.013410847,0.016340783,0.018749623,0.013165046,0.008057323,-0.021905694,-0.070633076,-0.016793054,0.024973277,0.0065136994,0.04471593,-0.0024604576,0.0054174312,0.010008975,-0.04019321,-0.037656557,0.04373273,-0.045935098,0.022239981,-0.03688966,-0.0050094035,-0.023282174,0.0091732545,0.0056927274,-0.017520621,-0.019732822,0.030970797,-0.0072068553,0.03350745,0.0048029316,0.0053240275,-0.017579613,-0.056475002,-0.011041335,0.006125335,-0.0016173638,0.039917916,-0.030518524,0.030341549,-0.026133453,-0.045384508,0.029849948,0.0053731874,0.018661134,0.026743038,0.062649496,-0.008661991,0.0341367,-0.02784422,0.014915142,0.016852045,-0.031206764,0.015239598,0.024973277,-0.02656606,0.0015116698,0.010215446,0.016212966,0.0041269814,0.08502713,0.031462397,0.019978622,-0.016645573,0.026172781,-0.008868463,0.03250459,-0.042710204,0.019949125,-0.01608515,-0.013312526,0.0009678374,0.0063760513,0.03213097,-0.011808231,-0.06968921,0.030046588,-0.049356636,0.008937287,-0.019300213,-0.021866364,0.06308211,-0.0022416958,0.0041933474,-0.007423159,-0.033114173,-0.013961438,0.050772443,0.053092793,0.037420586,-0.035001915,-0.018031886,-0.008445687,-0.040901113,0.0061744954,0.038895387,0.040173545,-0.022849565,-0.013715639,0.019693494,-0.051716313,-0.017048687,0.045620475,-0.018022053,0.019998286,-0.0028561957,-0.020076942,-0.035788476,-0.020076942,-0.09415122,-0.0060171834,-0.048570074,0.0201261,-0.069964506,-0.042002298,-0.0053731874,0.026625052,-0.0028316157,-0.04038985,0.027647581,0.05608172,-0.0040925695,0.025130589,-0.010008975,0.023006877,-0.027667245,0.04605308,0.020175261,0.021276446,-0.014924974,0.046996955,-0.0039844173,0.018897101,-0.04274953,0.026094126,0.015514894,-0.016360447,-0.03010558,0.043300122,-0.009704183,0.011965542,0.0028537377,0.025995804,0.047232922,0.008873379,0.010451415,-0.0065726913,0.0010680009,-0.074644536,-0.041491035,0.053210776,0.0026915097,0.01978198,-0.007324839,0.008401443,0.008263795,0.043378778,0.012132687,0.041255068,-0.01613431,-0.024953613,0.012722607,0.015849182,0.022515276,0.04078313,-0.014600518,-0.08911724,-0.015023294,-0.010844694,-0.01982131,-0.019398533,0.03541486,-0.04919932,-0.023183852,0.020293245,-0.054469272,0.03950497,0.0063858833,-0.0014932348,-0.07397596,-0.024462013,-0.04727225,-0.02149275,-0.0039377157,0.043929372,0.014394046,-0.017432135,-0.007860683,-0.017884405,-0.0027111736,0.029535325,-0.028571788,0.0009340399,0.01652759,-0.0028070356,-0.040822458,-0.009714015,-0.018317014,0.034215357,-0.035631165,0.016458767,0.0016149058,0.035198554,0.05018252,-0.019398533,-0.03694865,-0.06036847,0.020194925,-0.007182275,0.054075994,-0.01687171,-0.034844603,-0.018356342,0.08927455,0.007300259,0.053368088,0.016389942,0.012879918,-0.039308332,-0.042238265,-0.008661991,-0.02705766,0.0297123,0.016694734,0.061705623,-0.069531895,-0.009237163,-0.019359205,0.036535706,-0.0059975195,-0.02001795,-0.0051912954,-0.008873379,-0.005766467,-0.049985882,0.044637274,-0.048019484,-0.030833147,-0.014728334,0.02459966,-0.04518787,-0.010274439,0.006115503,-0.012181846,-0.028847085,-0.0014612809,-0.016557086,-0.006803743,0.0054125153,-0.014010598,0.0022466118,0.04809814,0.011660751,0.012693111,0.027804893,-0.035493515,0.010884022,-0.0085046785,-0.024304701,-0.0057369713,0.009478047,0.006646431,0.0075558913,0.024973277,0.0006980719,0.0007687394,0.012054031,-0.02459966,-0.0024899538,-0.03950497,-0.05631769,0.013450175,0.06375068,-0.02656606,-0.017982725,0.09485912,-0.0015215018,-0.017314149,0.0028414477,0.03256358,-0.053682715,-0.03921001,-0.08408325,0.0028021196,0.021964686,0.0012855339,-0.021315774,-0.007024963,0.014335054,-0.034706954,0.028217837,0.009763175,-0.02955499,0.02391142,0.0025735258,0.0019725447,-0.010107295,0.017638605,-0.0032888036,-0.024894621,0.024068734,0.012899582,0.012899582,0.019123238,-0.0039500054,-0.0088291345,0.029063389,0.015927838,0.0067447512,0.013538662,0.0037779456,0.0075755552,-0.011788567,-0.03388107,-0.023970414,0.018572645,-0.023183852,-0.009148675,0.042670876,-0.02218099,0.024383357,-0.022043342,-0.005791047,0.037400924,0.006321975,0.06784079,0.0053731874,-0.0043113315,-0.046996955,-0.0072265193,0.0012197824,-0.0040999437,-0.0078262715,0.055649113,-0.044204667,-0.046760987,-0.026546396,0.021807373,-0.015308422,0.007118367,-0.022298973,0.060722426,0.03555251,0.0034805275,0.010638223,-0.0016271957,0.026743038,-7.834874e-05,0.014246566,0.039957244,-0.007491983,0.007482151,-0.011424783,0.00021492135,0.018287517,-0.007772195,-0.017323982,-0.023203516,0.025445214,0.008234299,0.013194542,-0.031108445,-0.0063858833,-0.019015085,-0.0011417408,-0.0019135528,-0.025150253,-0.0020905288,-0.018277686,-0.05293548,0.009591115,-0.0018840567,0.01126747,0.020411229,0.014836486,0.012289998,-0.006843071,-0.030518524,0.004591543,0.017638605,0.008406359,-0.009251911,-0.017884405,-0.018513653,-0.016144142,-0.0034411997,0.03576881,0.022338301,0.013990934,-0.0043924456,0.033822075,-0.019850805,0.040173545,0.021453422,-0.042670876,-0.0013482128,0.033389468,0.01893643,-0.01087419,-0.029338684,-0.03276022,-0.0013887698,-0.014079423,-0.017186334,0.0021581238,-0.03714529,-0.0041491035,-0.014502198,0.0043137893,0.016616078,0.039858922,0.008017995,-0.03000726,0.032740556,0.033409134,0.01416791,-0.06064377,0.007821355,-0.020293245,-0.014974134,0.009315819,-0.024992941,-0.008686571,0.03665369,0.03816782,-0.0439687,-0.014325222,0.009645191,0.04880604,0.0038098996,0.022102334,0.017677933,-0.04451929,0.0018656218,-0.042238265,-0.01544607,0.01006305,-0.03252425,0.03128542,0.005451843,-0.037558235,-0.06339673,-0.011287135,0.029279692,-0.023596797,0.03295686,0.0035837635,-0.0027332956,-0.018002389,0.01057923,0.036614362,-0.01264395,0.018700462,-0.0003376677,-0.0022281767,-0.0060270154,0.0011116304,0.035670493,0.022416957,0.052699514,-0.02080451,0.043024827,-0.016026158,0.013843454,-0.02267259,-0.034294013,0.022849565,-0.03295686,-0.059031323,0.014836486,0.019172398,0.027726237,0.007841019,0.04766553,0.017687766,-0.020273581,-0.0045522153,-0.02611379,0.015957333,-0.014295726,-0.014099087,-0.027647581,-0.007703371,-0.0039622956,0.0018975758,-0.021374766,-0.009320735,-0.0019393618,-0.008558755,-0.029928604,0.023262508,-0.04510921,-0.00053891644,-0.027195308,-0.017137174,0.0016947908,0.007550975,-0.011690247,0.016439103,-0.011670583,-0.03089214,0.020194925,-0.018651301,0.03419569,0.018916765,0.012860254,0.009109347,0.010087631,0.0101564545,-0.014462871,0.04137305,0.020765182,0.04019321,0.0014575939,0.0034928175,0.0031536135,-0.008853715,0.011002007,0.038639754,0.017923733,-0.0029495996,0.00043998196,0.021178124,0.012181846,0.0035739315,0.034982253,0.040114556,0.015918005,-0.0039155935,0.024619324,0.018326845,-0.01667507,0.0049602436,-0.023872092,0.034805275,0.029476332,0.028099852,0.009512459,-0.0257795,-0.02990894,-0.02227931,0.018336678,-0.016714398,-0.011336295,0.014462871,-0.00019909798,0.0390527,0.0111494865,0.026821693,0.0035272297,0.009979479,-0.015219934,-0.007526395,-0.02863078,-0.04373273,0.029790957,-0.033291146,0.0060122674,-0.0058697034,0.027726237,-0.015170774,-0.018946262,0.012083527,0.02391142,-0.0043727816,0.0019553388,0.0054715076,0.038541436,0.02277091,-0.011837726,0.0049209152,-0.011395287,-0.0031904837,-0.025228908,-0.0033994135,0.026408749,0.007187191,-0.036575034,0.024088398,-0.01456119,0.013931942,2.0681762e-05,0.013784463,0.011110159,-0.021217454,-0.016242461,-0.014865982,-0.021276446,-0.011464111,0.0023252678,9.8934484e-05,0.03142307,-0.0020118728,-0.05435129,0.0068873153,-0.01564271,0.0006814804,0.02804086,0.006749667,0.033389468,0.0016542338,0.022023678,0.011129823,0.010023722,-0.023655789,-0.005016777,0.02568118,-0.01018595,0.010736543,-0.006926643,0.026782366,-0.0056435675,0.01647843,-0.028099852,-0.033428796,-0.012614454,-0.041176412,0.027765565,0.019123238,0.005260119,0.014875814,0.005614071,-0.032248955,0.015662374,0.021079805,-0.050103866,-0.0042474233,-0.0041491035,0.0075657233,0.019447694,-0.023400158,-0.008868463,0.024678318,0.01785491,0.016153974,-0.04239558,0.0042179273,0.014964302,-0.049553275,-0.0011988893,0.03639806,0.03665369,0.023105197,-0.008671823,-0.028080188,0.012103191,0.01943786,-0.013381351,0.0138237905,-0.013981102,-0.012929078,-0.016783223,0.013666478,-0.039269004,-0.033468124,-0.006464539,0.0045546736,0.007344503,0.033428796,0.010844694,-0.005943443,-0.011995039,0.025327228,-0.006282647,-0.06473388,0.0086570745,0.017913902,-0.007187191,0.016016327,-0.020784846,0.012781599,-0.014865982,0.04455862,0.03551318,-0.006287563,0.0067250873,-0.06689692,-0.011375623,-0.02060787,-0.021866364,-0.058716696,0.020784846,-0.06036847,0.008912707,-0.024874957,0.01470867,-0.025936812,0.0031708197,-0.028807756,0.014344886,0.017933566,0.01854315,0.019359205,0.0057025594,0.03256358,-0.0047832676,-0.0038713496,-0.031521387,-0.010303935,0.018356342,0.066228345,0.066346325,-0.012132687,-9.726382e-06,0.0036206336,0.027037997,-0.009871326,-0.017884405,-0.009910655,-0.0060220994,-0.013430511,-0.017727094,0.009787755,-0.022888893,-0.028099852,0.010549734,-0.0026792197,-0.011365791,0.034706954,0.0045645055,-0.007855767,-0.0018988048,-0.015180606,0.028139181,0.014433375,0.0056484835,-0.019890133,0.023341166,0.0023142067,-0.01505279,0.010795535,0.053682715,0.009714015,0.005427263,0.0034018715,-0.009984395,-0.014354718,0.0031486975,-0.035316538,-0.010382591,0.0019700867,0.008819303,0.033389468,0.007260931,0.018503822,-0.014669342,0.026133453,0.028984733,0.013194542,0.015367414,-0.022947885,-0.011444447,-0.00039696696,-0.011414951,0.009797587,-0.0036304656,0.017766422,0.0034461156,0.015809854,0.013096223,0.017687766,0.009620611,0.017972894,-0.017137174,-0.02001795,-0.014649678,-0.012801263,-0.026094126,-0.0037804036,-0.0047857254,0.00058500393,0.01716667,0.057497527,-0.0643406,-0.0044194832,-8.214136e-06,-0.025209244,0.01593767,0.042670876,-0.00033152272,0.01293891,-0.03163937,0.01913307,0.008037659,-0.011355959,0.018798782,0.007791859,0.016193302,-0.007767279,-0.006494035,-0.016153974,-0.038148154,0.0057271393,0.014010598,-0.015259262,-0.006253151,-0.018818446,0.010903686,-0.04491257,-0.005102807,0.0048840456,-0.0055157514,0.022967549,-0.02440302,0.015878677,-0.009015943,0.062924795,0.011051167,0.00025885808,0.035198554,0.0034166195,-0.007713203,0.01682255,-0.00033367347,0.04274953,-0.026271101,-0.016399775,-0.021178124,0.019152734,0.09179154,0.033291146,-0.02611379,-0.02188603,-0.021650061,0.021709053,0.034097373,-0.051480345,-0.01195571,-0.01824819,-0.013322358,-0.017097846,0.023065869,-0.045935098,0.0062039914,0.023262508,-0.0029766376,0.0012732438,0.023931084,-0.03574915,-0.005461675,-0.025110925,0.009684519,-0.03665369,0.014049926,0.01598683,-0.021256782,-0.006597271,-0.06182361,0.007010215,-0.011306799,0.0037804036,-0.0068627354,0.020981485,-0.009935235,-0.009856579,-0.0053289435,-0.034117036,0.023970414,0.023675453,0.0008326474,0.027824556,0.03921001,-0.03252425,-0.0032543915,0.016163805,-0.011886886,0.03956396,-0.0009494024,0.036339067,-0.0045817113,-0.0037263276,-0.0036575035,0.0005094204,0.04491257,0.021807373,-0.013342022,-0.014885646,0.015711535,-0.0672902,0.0040556993,-0.0022847108,-0.037518907,0.039033037,0.0007023734,-0.0004071062,-0.010421919,-0.024363693,0.00032015448,-0.005633735,-0.013499334,0.0050487313,-0.044401307,-0.040311195,0.020332573,-0.05081177,-0.013292862,0.014767663,-0.02119779,0.010510406,-0.008706235,0.036575034,-0.0036943736,0.024521004,0.01490531,-0.0017673018,-0.0005865402,-0.015278926,-0.0017095387,-0.02090283,-0.005771383,0.019192062,0.03482494,-0.022023678,-0.00047009243,0.019713158,-0.018356342,0.011473943,-0.0036427556,0.019506685,0.0042105536,-0.01819903,-0.009286323,-0.012054031,-0.013764799,-0.018464494,-0.011473943,-0.0040778215,-0.011119991,-0.025228908,0.0321703,-0.017628774,0.040507834,0.0041024014,-0.019260885,0.0040606153,0.056278363,0.020450557,0.026703708,0.0013064268,-0.020942157,-0.014757831,-0.02129611,0.01352883,0.0055845752,0.0045866272,0.02749027,-0.0014244108,0.0072412672,-0.02011627,0.024697982,-0.024442349,-0.005594407,-0.017137174,0.035532843,0.0321703,0.02322318,0.009055271,-0.029692637,-0.03142307,-0.029731965,0.050536472,-0.015947502,-0.008848798,0.0053731874,-0.0131453825,0.00045012118,-0.032091644,0.0034018715,0.010264607,0.008342451,-0.007305175,0.021551741,-0.010451415,-0.023537805,0.020843837,-0.03148206,-0.019270718,0.0012578813,0.017540285,0.006749667,-0.030420205,-0.018828278,-0.028021196,-0.037400924,0.0065530273,0.03128542,-0.049356636,-0.00051986694,-0.0015202728,0.016802887,0.015160942,-0.03832513,-0.04687897,-0.01510195,-0.010952847,-0.009463299,0.027313292,-0.011326463,0.010303935,-0.0028094936,-0.00030986159,0.046760987,-0.010903686,0.027214972,-0.012054031,0.017835246,0.017786086,-0.0141384145,0.005446927,-0.0024813507,-0.025464877,0.0025931897,0.0060810912,-0.029889276,0.014413711,0.007659127,-0.020352237,0.0059090313,0.043654073,0.011060999,0.01864147,-0.010864358,0.0007330984,-0.0045178034,-0.0016861878,0.030321885,0.011100327,0.019880302,-0.047350906,0.0058746194,0.026841357,0.0009795129,0.007973751,-0.027922876,0.020942157,0.007885263,0.0030724995,-0.015927838,0.009070019,0.0030626676,-0.019123238,-0.008770143,-0.012634118,0.014305558,-0.02990894,-0.0059975195,-0.035434525,-0.029397676,0.0033551697,0.047350906,-0.024658654,-0.014177742,-0.03692899,-0.0036476715,-0.03423502,-0.0036501295,-0.01456119,-0.017176501,0.011641087,-0.028925741,0.038698748,-0.020194925,-0.0021163377,0.03899371,-0.016694734,0.0029176457,0.02955499,-0.009114263,-0.016163805,0.0012468203,0.009674687,-0.045620475,0.010421919,-0.047744185,0.009448551,-0.018670965,0.028021196,-0.005102807,0.009409223,0.03871841,-0.028709436,-0.040350523,-0.026290765,-0.0018607058,0.0042720037,0.0118278945,-0.018847942,0.009723847,0.0014711128,-0.011552598,-0.014915142,-0.0028611117,0.02863078,-0.013951606,-0.02050955,0.02424571,0.008027827,0.0020364528,0.011011839,-0.006774247,-0.016065486,-0.005982771,-0.032701228,-0.0053289435,-0.019270718,0.0013518998,-0.008327703,0.01657675,-0.027096989,-0.0057074754,-0.0014416168,0.0020118728,0.034647964,0.0020278497,-0.031108445,0.0034461156,0.0026620138,0.025209244,-0.03181635,-0.007423159,0.033330474,-0.029692637,-0.015357582,0.016448934,-0.04349676,3.825262e-05,0.023950748,-0.015819686,-0.033133835,0.0047291913,-0.0034362837,-0.006843071,-0.043929372,-0.0058991993,0.006749667,-0.0037312435,-0.010254775,-0.044597946,0.01982131,0.012024535,-0.009930319,-0.047390234,-0.033232156,-0.028689772,0.01642927,0.016094983,-0.029731965,0.023518141,0.012309662,0.009527206,-0.0035493516,0.034451324,-0.035336204,0.010913518,0.007147863,0.006828323,-0.039131355,0.010598895,-0.020824173,-0.0044661853,-0.00029173383,-0.016911037,0.0036280076,-0.021237118,0.0072363513,-0.048412763,0.03895438,-0.0040212874,-0.012093359,0.03423502,-0.0009862724,-0.033527117,-0.013047063,0.06449791,-0.034549642,0.03252425,-0.014531694,0.05494121,0.010461247,0.029849948,0.044597946,0.0042154696,0.019388702,-0.0144825345,0.018602142,-0.02473731,0.0124768065,0.013361686,0.023341166,-0.012466975,-0.0018766827,-0.0035813055,0.005097891,-0.047036283,-0.023655789,-0.026094126,-0.0033969556,-0.0045128874,0.027195308,0.0010391193,0.061273016,-0.010284271,0.045974426,0.0073985793,-0.019211726,0.021768045,0.014099087,-0.008371947,-0.0218467,-0.01520027,0.031246092,-0.0030430036,0.0030036757,0.007108535,-0.013401015,0.029948268,-0.026939677,0.028965069,-0.0030233397,0.0066955914,0.029928604,-0.0032838876,-0.014580854,0.0021790168,-0.030734828,-0.008770143,0.012752103,-0.01431539,0.0033404215,-0.031167436,-0.0036771675,-0.03099046,7.714854e-06,-0.023990078,0.025445214,0.011690247,-0.0011650919,-0.005432179,0.0032642237,0.006607103,-0.005269951,0.0061794114,-0.0002010951,-0.024894621,-0.015239598,-0.027647581,-0.0040212874,0.04180566,0.007162611,0.02080451,0.031934332,-0.01554439,-0.007467403,-0.014344886,-0.011139655,0.018071214,0.021256782,-0.018012222,0.0011626339,-0.011178982,0.03226862,-0.0033305895,-0.0053141955,-0.009733679,-0.0055649113,0.019939294,0.023990078,0.017078182,-0.030813484,-0.030754492,0.0016456308,0.0036255496,0.03818748,-0.026762702,-0.03881673,0.0321703,0.044243995,0.0027677077,-0.006159747,-0.037735213,0.02267259,-0.023262508,-0.028198173,-0.0028856916,-0.0027799977,0.0011915154,-0.019939294,-0.019162565,0.00033428796,-0.0035149395,-0.0035001915,-0.021827037,-0.020922493,-0.02047022,-0.0012867629,0.005442011,-0.008406359,0.005092975,-0.024383357,-0.0028045776,0.015455903,0.024953613,0.007462487,0.009571451,0.028493132,0.008145811,0.0047881836,0.015918005,0.033468124,-0.0051421355,0.018218694,-0.018680798,-0.013784463,0.033291146,-0.014394046,0.009861494,-0.0055403314,0.030125244,0.013460007,-0.022593934,0.010608727,-0.029338684,0.029102717,-0.0041613933,-0.0121621825,0.021119133,-0.036634028,0.020981485,0.009645191,-0.0037877776,0.017392807,-0.020922493,-0.03344846,-0.0010686154,0.0010299019,0.016989693,-0.011965542,0.023400158,-0.025799165,-0.050693788,0.0016972488,0.017048687,0.0044686436,-0.0013334649,-0.05222758,0.007526395,-0.025799165,-0.039917916,-0.006479287,-0.01520027,-0.0043187053,-0.008598083,0.009571451,0.01819903,0.023577133,0.0065235314,-0.025051933,-0.011365791,-0.019487021,-0.022121998,0.013371519,0.008067155,0.011296967,0.02611379,-0.010126959,0.013381351,-0.005761551,-0.008047491,0.010687383,0.009143759,-0.007142947,0.01638011,-0.008671823,-0.01254563]', 'created_at': '2025-06-13T02:40:34.170989+00:00'}], count=None)"
            ]
          },
          "execution_count": 43,
          "metadata": {},
          "output_type": "execute_result"
        }
      ],
      "source": [
        "# 사용 예시\n",
        "save_embeddings_to_supabase(vectors, text_list)"
      ]
    },
    {
      "cell_type": "code",
      "execution_count": null,
      "metadata": {},
      "outputs": [],
      "source": []
    }
  ],
  "metadata": {
    "colab": {
      "provenance": []
    },
    "kernelspec": {
      "display_name": ".venv",
      "language": "python",
      "name": "python3"
    },
    "language_info": {
      "codemirror_mode": {
        "name": "ipython",
        "version": 3
      },
      "file_extension": ".py",
      "mimetype": "text/x-python",
      "name": "python",
      "nbconvert_exporter": "python",
      "pygments_lexer": "ipython3",
      "version": "3.12.9"
    }
  },
  "nbformat": 4,
  "nbformat_minor": 0
}
