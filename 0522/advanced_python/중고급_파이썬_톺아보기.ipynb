{
  "cells": [
    {
      "cell_type": "markdown",
      "metadata": {
        "id": "TVMQ2NmX4tU4"
      },
      "source": [
        "\n",
        "\n",
        "-----\n",
        "\n",
        "## 중고급 파이썬 톺아보기\n",
        "\n",
        "-----\n",
        "\n",
        "### 1\\. 파이썬 심화 데이터 구조 및 컬렉션 (Advanced Data Structures & Collections)\n",
        "\n",
        "#### 리스트, 튜플, 딕셔너리, 셋 심층 이해\n",
        "\n",
        "  * **내부 구현 및 성능 분석 (예: 리스트의 `append`와 `insert`):**\n",
        "\n",
        "      * `append`는 일반적으로 $O(1)$ (상수 시간)이지만, 리스트 크기 재할당 시 $O(N)$이 발생할 수 있습니다.\n",
        "      * `insert(0, item)`은 맨 앞에 요소를 삽입하므로 기존 요소들을 한 칸씩 밀어내야 해서 $O(N)$ 입니다.\n",
        "\n",
        "    <!-- end list -->"
      ]
    },
    {
      "cell_type": "code",
      "execution_count": 1,
      "metadata": {
        "id": "_Yz_OdJX4tU5"
      },
      "outputs": [
        {
          "name": "stdout",
          "output_type": "stream",
          "text": [
            "Append 100,000 items: 0.004486 seconds\n",
            "Insert at beginning 1,000 items: 0.000756 seconds\n"
          ]
        }
      ],
      "source": [
        "import time\n",
        "\n",
        "my_list = []\n",
        "start = time.perf_counter()\n",
        "for i in range(100000):\n",
        "    my_list.append(i) # 일반적으로 빠름\n",
        "end = time.perf_counter()\n",
        "print(f\"Append 100,000 items: {end - start:.6f} seconds\")\n",
        "\n",
        "my_list_insert = []\n",
        "start = time.perf_counter()\n",
        "for i in range(1000): # 100,000개는 너무 느려서 1,000개로 줄임\n",
        "    my_list_insert.insert(0, i) # 매우 느림\n",
        "end = time.perf_counter()\n",
        "print(f\"Insert at beginning 1,000 items: {end - start:.6f} seconds\")"
      ]
    },
    {
      "cell_type": "markdown",
      "metadata": {
        "id": "mFu2Vb9u4tU6"
      },
      "source": [
        "* **리스트/딕셔너리 컴프리헨션 심화 활용:**"
      ]
    },
    {
      "cell_type": "code",
      "execution_count": null,
      "metadata": {
        "id": "E3uWvpKb4tU6"
      },
      "outputs": [],
      "source": [
        "# 조건부 컴프리헨션\n",
        "even_squares = [x**2 for x in range(10) if x % 2 == 0]\n",
        "print(f\"Even squares: {even_squares}\") # [0, 4, 16, 36, 64]\n",
        "\n",
        "# 중첩 컴프리헨션\n",
        "matrix = [[1, 2, 3], [4, 5, 6], [7, 8, 9]]\n",
        "flat_list = [num for row in matrix for num in row]\n",
        "print(f\"Flattened matrix: {flat_list}\") # [1, 2, 3, 4, 5, 6, 7, 8, 9]\n",
        "\n",
        "# 딕셔너리 컴프리헨션\n",
        "squares_dict = {x: x**2 for x in range(5)}\n",
        "print(f\"Squares dict: {squares_dict}\") # {0: 0, 1: 1, 2: 4, 3: 9, 4: 16}\n",
        "\n",
        "# 조건부 딕셔너리 컴프리헨션\n",
        "odd_even_status = {x: 'even' if x % 2 == 0 else 'odd' for x in range(5)}\n",
        "print(f\"Odd/Even status: {odd_even_status}\") # {0: 'even', 1: 'odd', 2: 'even', 3: 'odd', 4: 'even'}"
      ]
    },
    {
      "cell_type": "markdown",
      "metadata": {
        "id": "nqeVDeTB4tU6"
      },
      "source": [
        "#### `collections` 모듈\n",
        "\n",
        "  * **`defaultdict`:** 존재하지 않는 키에 접근 시 기본값을 자동으로 생성."
      ]
    },
    {
      "cell_type": "code",
      "execution_count": null,
      "metadata": {
        "id": "D1cQgdWq4tU6"
      },
      "outputs": [],
      "source": [
        "from collections import defaultdict\n",
        "\n",
        "s = [('yellow', 1), ('blue', 2), ('yellow', 3), ('blue', 4), ('red', 1)]\n",
        "d = defaultdict(list) # list를 기본값으로 사용\n",
        "for k, v in s:\n",
        "    d[k].append(v)\n",
        "print(f\"Defaultdict example: {d}\") # defaultdict(<class 'list'>, {'yellow': [1, 3], 'blue': [2, 4], 'red': [1]})"
      ]
    },
    {
      "cell_type": "markdown",
      "metadata": {
        "id": "qik-YPhk4tU6"
      },
      "source": [
        "* **`Counter`:** 해시 가능한 객체의 개수를 세는 데 사용."
      ]
    },
    {
      "cell_type": "code",
      "execution_count": null,
      "metadata": {
        "id": "Y_qCDkxH4tU6"
      },
      "outputs": [],
      "source": [
        "from collections import Counter\n",
        "\n",
        "word = \"hello world\"\n",
        "c = Counter(word)\n",
        "print(f\"Counter example: {c}\") # Counter({'l': 3, 'o': 2, 'h': 1, 'e': 1, ' ': 1, 'w': 1, 'r': 1, 'd': 1})\n",
        "print(f\"Most common 2: {c.most_common(2)}\") # [('l', 3), ('o', 2)]"
      ]
    },
    {
      "cell_type": "markdown",
      "metadata": {
        "id": "MUdsz-As4tU7"
      },
      "source": [
        "* **`OrderedDict`:** 삽입 순서를 기억하는 딕셔너리 (Python 3.7+부터 일반 `dict`도 순서 유지)."
      ]
    },
    {
      "cell_type": "code",
      "execution_count": null,
      "metadata": {
        "id": "a1BwAm5e4tU7"
      },
      "outputs": [],
      "source": [
        "from collections import OrderedDict\n",
        "\n",
        "d = OrderedDict()\n",
        "d['apple'] = 1\n",
        "d['banana'] = 2\n",
        "d['cherry'] = 3\n",
        "print(f\"OrderedDict: {d}\") # OrderedDict([('apple', 1), ('banana', 2), ('cherry', 3)])"
      ]
    },
    {
      "cell_type": "markdown",
      "metadata": {
        "id": "LGM_AcAF4tU7"
      },
      "source": [
        "* **`namedtuple`:** 튜플의 서브클래스를 생성하여 이름으로 필드에 접근 가능하게 함."
      ]
    },
    {
      "cell_type": "code",
      "execution_count": null,
      "metadata": {
        "id": "O7dhMH4U4tU7"
      },
      "outputs": [],
      "source": [
        "from collections import namedtuple\n",
        "\n",
        "Point = namedtuple('Point', ['x', 'y'])\n",
        "p = Point(11, y=22)\n",
        "print(f\"Namedtuple: p.x={p.x}, p.y={p.y}\") # Namedtuple: p.x=11, p.y=22\n",
        "print(f\"Access by index: {p[0]}\") # Access by index: 11"
      ]
    },
    {
      "cell_type": "markdown",
      "metadata": {
        "id": "yEQaUm4b4tU7"
      },
      "source": [
        "* **`deque` (Double-Ended Queue):** 양쪽 끝에서 빠른 추가/삭제가 가능한 큐."
      ]
    },
    {
      "cell_type": "code",
      "execution_count": null,
      "metadata": {
        "id": "qtIJlW9X4tU7"
      },
      "outputs": [],
      "source": [
        "from collections import deque\n",
        "\n",
        "d = deque(['a', 'b', 'c'])\n",
        "d.append('d')\n",
        "d.appendleft('e')\n",
        "print(f\"Deque after append/appendleft: {d}\") # deque(['e', 'a', 'b', 'c', 'd'])\n",
        "d.pop()\n",
        "d.popleft()\n",
        "print(f\"Deque after pop/popleft: {d}\") # deque(['a', 'b', 'c'])"
      ]
    },
    {
      "cell_type": "markdown",
      "metadata": {
        "id": "SzzP70AX4tU7"
      },
      "source": [
        "-----\n",
        "\n",
        "### 2\\. 함수형 프로그래밍 개념 및 고급 함수 (Functional Programming & Advanced Functions)\n",
        "\n",
        "#### 람다 (Lambda) 표현식\n",
        "\n",
        "  * 간결한 익명 함수. 주로 고차 함수의 인자로 사용."
      ]
    },
    {
      "cell_type": "code",
      "execution_count": null,
      "metadata": {
        "id": "3Treufuf4tU7"
      },
      "outputs": [],
      "source": [
        "# 일반 함수\n",
        "def add(x, y):\n",
        "    return x + y\n",
        "print(add(2, 3)) # 5\n",
        "\n",
        "# 람다 함수\n",
        "add_lambda = lambda x, y: x + y\n",
        "print(add_lambda(2, 3)) # 5\n",
        "\n",
        "# sorted 함수와 함께 사용\n",
        "data = [(1, 'b'), (3, 'a'), (2, 'c')]\n",
        "sorted_data = sorted(data, key=lambda item: item[1]) # 두 번째 요소 기준으로 정렬\n",
        "print(f\"Sorted data by lambda: {sorted_data}\") # [(3, 'a'), (1, 'b'), (2, 'c')]"
      ]
    },
    {
      "cell_type": "markdown",
      "metadata": {
        "id": "viVI5wn84tU7"
      },
      "source": [
        "#### 고차 함수 (Higher-Order Functions)\n",
        "\n",
        "  * `map()`, `filter()`, `reduce()`:"
      ]
    },
    {
      "cell_type": "code",
      "execution_count": null,
      "metadata": {
        "id": "rN7C3LrW4tU7"
      },
      "outputs": [],
      "source": [
        "# map: 각 요소에 함수 적용\n",
        "numbers = [1, 2, 3, 4]\n",
        "squared = list(map(lambda x: x**2, numbers))\n",
        "print(f\"Squared numbers (map): {squared}\") # [1, 4, 9, 16]\n",
        "\n",
        "# filter: 조건에 맞는 요소만 필터링\n",
        "even_numbers = list(filter(lambda x: x % 2 == 0, numbers))\n",
        "print(f\"Even numbers (filter): {even_numbers}\") # [2, 4]\n",
        "\n",
        "# reduce: 누적 연산 (functools 모듈 필요)\n",
        "from functools import reduce\n",
        "sum_all = reduce(lambda x, y: x + y, numbers)\n",
        "print(f\"Sum of numbers (reduce): {sum_all}\") # 10"
      ]
    },
    {
      "cell_type": "markdown",
      "metadata": {
        "id": "PLeBwpDu4tU7"
      },
      "source": [
        "* `functools` 모듈 (`partial`): 함수의 인자를 부분적으로 고정하여 새로운 함수 생성."
      ]
    },
    {
      "cell_type": "code",
      "execution_count": null,
      "metadata": {
        "id": "4eLc4S9K4tU7"
      },
      "outputs": [],
      "source": [
        "from functools import partial\n",
        "\n",
        "def multiply(x, y):\n",
        "    return x * y\n",
        "\n",
        "double = partial(multiply, 2) # 첫 번째 인자 x를 2로 고정\n",
        "print(f\"Double 5: {double(5)}\") # 10\n",
        "\n",
        "triple = partial(multiply, y=3) # 두 번째 인자 y를 3으로 고정\n",
        "print(f\"Triple 4: {triple(4)}\") # 12"
      ]
    },
    {
      "cell_type": "markdown",
      "metadata": {
        "id": "XC6m1I2n4tU8"
      },
      "source": [
        "#### 클로저 (Closures)\n",
        "\n",
        "  * 함수가 정의될 때의 환경(외부 함수의 변수)을 기억하는 함수."
      ]
    },
    {
      "cell_type": "code",
      "execution_count": null,
      "metadata": {
        "id": "Fyi32NVB4tU8"
      },
      "outputs": [],
      "source": [
        "def outer_function(msg):\n",
        "    def inner_function():\n",
        "        print(msg) # outer_function의 msg를 기억함\n",
        "    return inner_function\n",
        "\n",
        "hello_func = outer_function(\"Hello\")\n",
        "bye_func = outer_function(\"Bye\")\n",
        "\n",
        "hello_func() # Hello\n",
        "bye_func()   # Bye"
      ]
    },
    {
      "cell_type": "markdown",
      "metadata": {
        "id": "CgwRNj7W4tU8"
      },
      "source": [
        "#### 데코레이터 (Decorators)\n",
        "\n",
        "  * **기본 데코레이터:** 함수를 감싸서 추가 기능을 부여."
      ]
    },
    {
      "cell_type": "code",
      "execution_count": null,
      "metadata": {
        "id": "MX-DDY7h4tU8"
      },
      "outputs": [],
      "source": [
        "def my_decorator(func):\n",
        "    def wrapper(*args, **kwargs):\n",
        "        print(\"Something is happening before the function is called.\")\n",
        "        result = func(*args, **kwargs)\n",
        "        print(\"Something is happening after the function is called.\")\n",
        "        return result\n",
        "    return wrapper\n",
        "\n",
        "@my_decorator\n",
        "def say_hello(name):\n",
        "    print(f\"Hello, {name}!\")\n",
        "    return \"Greeting Done\"\n",
        "\n",
        "print(say_hello(\"Alice\"))\n",
        "# 출력:\n",
        "# Something is happening before the function is called.\n",
        "# Hello, Alice!\n",
        "# Something is happening after the function is called.\n",
        "# Greeting Done"
      ]
    },
    {
      "cell_type": "markdown",
      "metadata": {
        "id": "Tr74shKB4tU8"
      },
      "source": [
        "* **인자를 받는 데코레이터:** 데코레이터 자체에 인자를 전달."
      ]
    },
    {
      "cell_type": "code",
      "execution_count": null,
      "metadata": {
        "id": "iGb5tcRe4tU8"
      },
      "outputs": [],
      "source": [
        "def repeat(num_times):\n",
        "    def decorator_repeat(func):\n",
        "        def wrapper(*args, **kwargs):\n",
        "            for _ in range(num_times):\n",
        "                func(*args, **kwargs)\n",
        "        return wrapper\n",
        "    return decorator_repeat\n",
        "\n",
        "@repeat(num_times=3)\n",
        "def greet(name):\n",
        "    print(f\"Greetings, {name}!\")\n",
        "\n",
        "greet(\"Bob\")\n",
        "# 출력:\n",
        "# Greetings, Bob!\n",
        "# Greetings, Bob!\n",
        "# Greetings, Bob!"
      ]
    },
    {
      "cell_type": "markdown",
      "metadata": {
        "id": "iMr_3Qf_4tU8"
      },
      "source": [
        "* **`@property` (내장 데코레이터):** 메서드를 속성처럼 접근 가능하게 함."
      ]
    },
    {
      "cell_type": "code",
      "execution_count": null,
      "metadata": {
        "id": "zJ_fvLsy4tU8"
      },
      "outputs": [],
      "source": [
        "class Person:\n",
        "    def __init__(self, name):\n",
        "        self._name = name # _name은 내부적으로 사용되는 속성\n",
        "\n",
        "    @property\n",
        "    def name(self):\n",
        "        print(\"Getting name...\")\n",
        "        return self._name\n",
        "\n",
        "    @name.setter\n",
        "    def name(self, new_name):\n",
        "        print(\"Setting name...\")\n",
        "        if not isinstance(new_name, str) or len(new_name) < 2:\n",
        "            raise ValueError(\"Name must be a string of at least 2 characters.\")\n",
        "        self._name = new_name\n",
        "\n",
        "p = Person(\"Charlie\")\n",
        "print(p.name) # Getting name... Charlie (메서드 호출 없이 속성처럼 접근)\n",
        "p.name = \"David\" # Setting name... (setter 호출)\n",
        "print(p.name) # Getting name... David\n",
        "# p.name = \"A\" # ValueError 발생"
      ]
    },
    {
      "cell_type": "markdown",
      "metadata": {
        "id": "-WsRLd9G4tU8"
      },
      "source": [
        "* **`@staticmethod`, `@classmethod`:**\n",
        "\n",
        "      * `@staticmethod`: 클래스나 인스턴스와 독립적인 메서드.\n",
        "      * `@classmethod`: 클래스 자체를 첫 번째 인자 (`cls`)로 받음.\n",
        "\n",
        "    <!-- end list -->"
      ]
    },
    {
      "cell_type": "code",
      "execution_count": null,
      "metadata": {
        "id": "VwwIJP_m4tU8"
      },
      "outputs": [],
      "source": [
        "class MyClass:\n",
        "    def __init__(self, value):\n",
        "        self.value = value\n",
        "\n",
        "    @staticmethod\n",
        "    def static_method(x, y):\n",
        "        return x + y # 클래스/인스턴스와 무관한 동작\n",
        "\n",
        "    @classmethod\n",
        "    def class_method(cls, value):\n",
        "        # cls를 이용하여 클래스 속성 접근 또는 새 인스턴스 생성\n",
        "        print(f\"Calling class method on class: {cls.__name__}\")\n",
        "        return cls(value * 2) # 새 인스턴스 생성\n",
        "\n",
        "    def instance_method(self):\n",
        "        return self.value * 3\n",
        "\n",
        "print(MyClass.static_method(1, 2)) # 3\n",
        "obj = MyClass.class_method(10)\n",
        "print(obj.value) # 20\n",
        "my_obj = MyClass(5)\n",
        "print(my_obj.instance_method()) # 15"
      ]
    },
    {
      "cell_type": "markdown",
      "metadata": {
        "id": "iCjekhgE4tU8"
      },
      "source": [
        "#### 제너레이터 (Generators) 및 이터레이터 (Iterators)\n",
        "\n",
        "  * **제너레이터:** `yield` 키워드를 사용하여 이터레이터를 생성하는 함수. 메모리 효율적."
      ]
    },
    {
      "cell_type": "code",
      "execution_count": null,
      "metadata": {
        "id": "93PdIEdP4tU8"
      },
      "outputs": [],
      "source": [
        "def fibonacci_generator(n):\n",
        "    a, b = 0, 1\n",
        "    for _ in range(n):\n",
        "        yield a # 값 생성 후 함수 실행을 잠시 중단\n",
        "        a, b = b, a + b\n",
        "\n",
        "# 제너레이터 사용\n",
        "fib_gen = fibonacci_generator(10)\n",
        "print(f\"First 10 Fibonacci numbers:\")\n",
        "for num in fib_gen:\n",
        "    print(num, end=\" \") # 0 1 1 2 3 5 8 13 21 34\n",
        "print()\n",
        "\n",
        "# 제너레이터 표현식 (Generator Expressions)\n",
        "gen_exp = (x**2 for x in range(5))\n",
        "print(f\"Generator expression: {list(gen_exp)}\") # [0, 1, 4, 9, 16]"
      ]
    },
    {
      "cell_type": "markdown",
      "metadata": {
        "id": "UZsMm3qR4tU8"
      },
      "source": [
        "* **이터레이터:** `__iter__`와 `__next__` 메서드를 구현하는 객체."
      ]
    },
    {
      "cell_type": "code",
      "execution_count": null,
      "metadata": {
        "id": "4VnZOPy04tU8"
      },
      "outputs": [],
      "source": [
        "class MyIterator:\n",
        "    def __init__(self, max_value):\n",
        "        self.max_value = max_value\n",
        "        self.current = 0\n",
        "\n",
        "    def __iter__(self):\n",
        "        return self\n",
        "\n",
        "    def __next__(self):\n",
        "        if self.current < self.max_value:\n",
        "            val = self.current\n",
        "            self.current += 1\n",
        "            return val\n",
        "        else:\n",
        "            raise StopIteration\n",
        "\n",
        "my_iter = MyIterator(3)\n",
        "print(f\"My custom iterator: {list(my_iter)}\") # [0, 1, 2]"
      ]
    },
    {
      "cell_type": "markdown",
      "metadata": {
        "id": "EZxD20go4tU8"
      },
      "source": [
        "* **`itertools` 모듈:** 효율적인 이터레이터 생성 및 조합."
      ]
    },
    {
      "cell_type": "code",
      "execution_count": null,
      "metadata": {
        "id": "vdu4prwR4tU8"
      },
      "outputs": [],
      "source": [
        "from itertools import count, cycle, repeat, permutations, combinations\n",
        "\n",
        "# count: 무한 숫자 시퀀스\n",
        "# for i in count(10):\n",
        "#     print(i) # 10, 11, 12, ... (무한)\n",
        "#     if i >= 12: break\n",
        "\n",
        "# cycle: 시퀀스를 무한히 반복\n",
        "# counter = 0\n",
        "# for item in cycle(['A', 'B', 'C']):\n",
        "#     print(item) # A, B, C, A, B, C, ... (무한)\n",
        "#     counter += 1\n",
        "#     if counter > 5: break\n",
        "\n",
        "# repeat: 단일 항목을 반복\n",
        "print(f\"Repeat 'abc' 3 times: {list(repeat('abc', 3))}\") # ['abc', 'abc', 'abc']\n",
        "\n",
        "# permutations: 순열\n",
        "print(f\"Permutations of 'ABC' (length 2): {list(permutations('ABC', 2))}\") # [('A', 'B'), ('A', 'C'), ('B', 'A'), ('B', 'C'), ('C', 'A'), ('C', 'B')]\n",
        "\n",
        "# combinations: 조합\n",
        "print(f\"Combinations of 'ABC' (length 2): {list(combinations('ABC', 2))}\") # [('A', 'B'), ('A', 'C'), ('B', 'C')]"
      ]
    },
    {
      "cell_type": "markdown",
      "metadata": {
        "id": "_Wt5XvE54tU8"
      },
      "source": [
        "-----\n",
        "\n",
        "### 3\\. 객체 지향 프로그래밍 심화 (Advanced Object-Oriented Programming)\n",
        "\n",
        "#### 특수 메서드 (Dunder methods)\n",
        "\n",
        "  * `__init__`, `__new__`, `__del__` 등.\n",
        "\n",
        "      * `__init__`: 객체가 초기화될 때 호출.\n",
        "      * `__new__`: 객체가 생성될 때 호출 (인스턴스 생성 전). 싱글톤 패턴 등에 활용.\n",
        "      * `__del__`: 객체가 소멸될 때 호출 (가비지 컬렉션 시).\n",
        "\n",
        "    <!-- end list -->"
      ]
    },
    {
      "cell_type": "code",
      "execution_count": null,
      "metadata": {
        "id": "1G1ndwZr4tU8"
      },
      "outputs": [],
      "source": [
        "class MyObject:\n",
        "    def __new__(cls, *args, **kwargs):\n",
        "        print(\"1. __new__ called: Object creation initiated.\")\n",
        "        # 실제 객체 생성 및 반환\n",
        "        instance = super().__new__(cls)\n",
        "        return instance\n",
        "\n",
        "    def __init__(self, name):\n",
        "        print(f\"2. __init__ called: Initializing object '{name}'.\")\n",
        "        self.name = name\n",
        "\n",
        "    def __del__(self):\n",
        "        print(f\"3. __del__ called: Object '{self.name}' is being destroyed.\")\n",
        "\n",
        "obj1 = MyObject(\"TestObject\")\n",
        "del obj1 # 명시적으로 삭제 (가비지 컬렉터가 호출하는 시점은 다를 수 있음)\n",
        "print(\"Object deleted.\")\n",
        "# 출력:\n",
        "# 1. __new__ called: Object creation initiated.\n",
        "# 2. __init__ called: Initializing object 'TestObject'.\n",
        "# 3. __del__ called: Object 'TestObject' is being destroyed.\n",
        "# Object deleted."
      ]
    },
    {
      "cell_type": "markdown",
      "metadata": {
        "id": "HeoiVZyo4tU9"
      },
      "source": [
        "* **Representation (`__repr__`, `__str__`):**\n",
        "\n",
        "      * `__repr__`: 객체를 개발자가 이해하기 쉬운 \"공식적인\" 문자열 표현으로 반환. `eval(repr(obj))`가 `obj`와 동일한 객체를 생성할 수 있도록 구현하는 것이 이상적.\n",
        "      * `__str__`: 객체를 사용자가 이해하기 쉬운 \"비공식적인\" 문자열 표현으로 반환. `print()` 함수가 호출할 때 사용.\n",
        "\n",
        "    <!-- end list -->"
      ]
    },
    {
      "cell_type": "code",
      "execution_count": null,
      "metadata": {
        "id": "wuqCf7NK4tVA"
      },
      "outputs": [],
      "source": [
        "class Coordinate:\n",
        "    def __init__(self, x, y):\n",
        "        self.x = x\n",
        "        self.y = y\n",
        "\n",
        "    def __repr__(self):\n",
        "        return f\"Coordinate(x={self.x}, y={self.y})\" # 개발자용\n",
        "\n",
        "    def __str__(self):\n",
        "        return f\"({self.x}, {self.y})\" # 사용자용\n",
        "\n",
        "c = Coordinate(10, 20)\n",
        "print(c)        # __str__ 호출: (10, 20)\n",
        "print(repr(c))  # __repr__ 호출: Coordinate(x=10, y=20)"
      ]
    },
    {
      "cell_type": "markdown",
      "metadata": {
        "id": "4VtACVMN4tVA"
      },
      "source": [
        "* **Comparison (`__eq__`, `__lt__`, etc.):** 객체 비교 연산자를 오버로딩."
      ]
    },
    {
      "cell_type": "code",
      "execution_count": null,
      "metadata": {
        "id": "UMlFU7Nu4tVA"
      },
      "outputs": [],
      "source": [
        "class Point:\n",
        "    def __init__(self, x, y):\n",
        "        self.x = x\n",
        "        self.y = y\n",
        "\n",
        "    def __eq__(self, other):\n",
        "        if not isinstance(other, Point):\n",
        "            return NotImplemented\n",
        "        return self.x == other.x and self.y == other.y\n",
        "\n",
        "    def __lt__(self, other):\n",
        "        if not isinstance(other, Point):\n",
        "            return NotImplemented\n",
        "        return (self.x, self.y) < (other.x, other.y) # 튜플 비교\n",
        "\n",
        "p1 = Point(1, 2)\n",
        "p2 = Point(1, 2)\n",
        "p3 = Point(3, 4)\n",
        "\n",
        "print(f\"p1 == p2: {p1 == p2}\") # True\n",
        "print(f\"p1 == p3: {p1 == p3}\") # False\n",
        "print(f\"p1 < p3: {p1 < p3}\")   # True"
      ]
    },
    {
      "cell_type": "markdown",
      "metadata": {
        "id": "QbEBUK1R4tVA"
      },
      "source": [
        "#### 상속 및 다형성 (Inheritance & Polymorphism)\n",
        "\n",
        "  * **다중 상속 및 MRO (Method Resolution Order):**"
      ]
    },
    {
      "cell_type": "code",
      "execution_count": null,
      "metadata": {
        "id": "QDSc4ZVZ4tVA"
      },
      "outputs": [],
      "source": [
        "class A:\n",
        "    def method(self):\n",
        "        print(\"Method from A\")\n",
        "\n",
        "class B(A):\n",
        "    def method(self):\n",
        "        print(\"Method from B\")\n",
        "\n",
        "class C(A):\n",
        "    def method(self):\n",
        "        print(\"Method from C\")\n",
        "\n",
        "class D(B, C): # B를 먼저 상속\n",
        "    pass\n",
        "\n",
        "class E(C, B): # C를 먼저 상속\n",
        "    pass\n",
        "\n",
        "d_obj = D()\n",
        "d_obj.method() # Method from B (D가 B를 먼저 상속받으므로)\n",
        "print(f\"MRO of D: {D.__mro__}\")\n",
        "# (<class '__main__.D'>, <class '__main__.B'>, <class '__main__.C'>, <class '__main__.A'>, <class 'object'>)\n",
        "\n",
        "e_obj = E()\n",
        "e_obj.method() # Method from C\n",
        "print(f\"MRO of E: {E.__mro__}\")\n",
        "# (<class '__main__.E'>, <class '__main__.C'>, <class '__main__.B'>, <class '__main__.A'>, <class 'object'>)"
      ]
    },
    {
      "cell_type": "markdown",
      "metadata": {
        "id": "JjEC-FZE4tVA"
      },
      "source": [
        "* **추상 클래스 (Abstract Base Classes, ABC):** 강제로 특정 메서드를 구현하게 함."
      ]
    },
    {
      "cell_type": "code",
      "execution_count": null,
      "metadata": {
        "id": "eWnqz1A_4tVA"
      },
      "outputs": [],
      "source": [
        "from abc import ABC, abstractmethod\n",
        "\n",
        "class Shape(ABC): # 추상 클래스임을 명시\n",
        "    @abstractmethod\n",
        "    def area(self):\n",
        "        pass # 반드시 구현해야 하는 추상 메서드\n",
        "\n",
        "    @abstractmethod\n",
        "    def perimeter(self):\n",
        "        pass\n",
        "\n",
        "    def describe(self):\n",
        "        return \"This is a geometric shape.\"\n",
        "\n",
        "class Rectangle(Shape):\n",
        "    def __init__(self, width, height):\n",
        "        self.width = width\n",
        "        self.height = height\n",
        "\n",
        "    def area(self):\n",
        "        return self.width * self.height\n",
        "\n",
        "    def perimeter(self):\n",
        "        return 2 * (self.width + self.height)\n",
        "\n",
        "# shape = Shape() # TypeError: Can't instantiate abstract class Shape\n",
        "rect = Rectangle(10, 5)\n",
        "print(f\"Rectangle area: {rect.area()}\") # 50\n",
        "print(f\"Rectangle perimeter: {rect.perimeter()}\") # 30\n",
        "print(f\"Rectangle description: {rect.describe()}\") # This is a geometric shape."
      ]
    },
    {
      "cell_type": "markdown",
      "metadata": {
        "id": "9a_-37dV4tVA"
      },
      "source": [
        "#### 속성 제어 (Attribute Control)\n",
        "\n",
        "  * `__getattr__`, `__setattr__`, `__delattr__`: 속성 접근, 설정, 삭제를 가로챔."
      ]
    },
    {
      "cell_type": "code",
      "execution_count": null,
      "metadata": {
        "id": "pQ6MA52W4tVA"
      },
      "outputs": [],
      "source": [
        "class MagicAttribute:\n",
        "    def __init__(self, value):\n",
        "        self._value = value\n",
        "        self._attributes = {} # 실제 속성 저장용 딕셔너리\n",
        "\n",
        "    def __getattr__(self, name):\n",
        "        # 존재하지 않는 속성에 접근 시 호출\n",
        "        if name in self._attributes:\n",
        "            return self._attributes[name]\n",
        "        raise AttributeError(f\"'{self.__class__.__name__}' object has no attribute '{name}'\")\n",
        "\n",
        "    def __setattr__(self, name, value):\n",
        "        # 모든 속성 설정 시 호출 (주의: 무한 재귀 방지)\n",
        "        if name.startswith('_'): # 내부 속성은 직접 설정\n",
        "            super().__setattr__(name, value)\n",
        "        else: # 그 외 속성은 _attributes 딕셔너리에 저장\n",
        "            print(f\"Setting custom attribute '{name}' to '{value}'\")\n",
        "            self._attributes[name] = value\n",
        "\n",
        "    def __delattr__(self, name):\n",
        "        # 모든 속성 삭제 시 호출\n",
        "        if name in self._attributes:\n",
        "            print(f\"Deleting custom attribute '{name}'\")\n",
        "            del self._attributes[name]\n",
        "        else:\n",
        "            super().__delattr__(name) # 기본 동작 호출\n",
        "\n",
        "obj = MagicAttribute(10)\n",
        "obj.my_prop = \"Hello\" # __setattr__ 호출\n",
        "print(obj.my_prop)    # __getattr__ 호출: Hello\n",
        "print(obj._value)     # _value는 직접 접근 가능 (__setattr__에서 처리)\n",
        "\n",
        "del obj.my_prop       # __delattr__ 호출\n",
        "# print(obj.my_prop)  # AttributeError: 'MagicAttribute' object has no attribute 'my_prop'"
      ]
    },
    {
      "cell_type": "markdown",
      "metadata": {
        "id": "5OzuCPup4tVA"
      },
      "source": [
        "* `__slots__`: 인스턴스 딕셔너리 `__dict__`를 사용하지 않고 미리 정의된 속성만 저장하여 메모리 사용량 절약."
      ]
    },
    {
      "cell_type": "code",
      "execution_count": null,
      "metadata": {
        "id": "ANpUrEQK4tVA"
      },
      "outputs": [],
      "source": [
        "class NoSlots:\n",
        "    def __init__(self, x, y):\n",
        "        self.x = x\n",
        "        self.y = y\n",
        "\n",
        "class WithSlots:\n",
        "    __slots__ = ('x', 'y') # x, y만 저장 가능. __dict__ 생성 안함.\n",
        "    def __init__(self, x, y):\n",
        "        self.x = x\n",
        "        self.y = y\n",
        "\n",
        "import sys\n",
        "\n",
        "ns = NoSlots(1, 2)\n",
        "ws = WithSlots(1, 2)\n",
        "\n",
        "# __dict__는 NoSlots 객체에만 있음\n",
        "print(f\"NoSlots.__dict__ exists: {'__dict__' in dir(ns)}\") # True\n",
        "print(f\"WithSlots.__dict__ exists: {'__dict__' in dir(ws)}\") # False (메모리 절약)\n",
        "\n",
        "# 메모리 사용량 비교 (간단한 예시)\n",
        "print(f\"Size of NoSlots instance: {sys.getsizeof(ns)} bytes\") # 예: 56 bytes\n",
        "print(f\"Size of WithSlots instance: {sys.getsizeof(ws)} bytes\") # 예: 40 bytes (더 작음)\n",
        "\n",
        "# ws.z = 3 # AttributeError: 'WithSlots' object has no attribute 'z' (__slots__에 없으므로)"
      ]
    },
    {
      "cell_type": "markdown",
      "metadata": {
        "id": "Mak6FWhg4tVA"
      },
      "source": [
        "#### 메타클래스 (Metaclasses)\n",
        "\n",
        "  * 클래스를 생성하는 클래스. `type`이 기본 메타클래스."
      ]
    },
    {
      "cell_type": "code",
      "execution_count": null,
      "metadata": {
        "id": "H4DQ4SFX4tVA"
      },
      "outputs": [],
      "source": [
        "# 1. 간단한 메타클래스 예제\n",
        "def my_class_builder(name, bases, attrs):\n",
        "    print(f\"Creating class: {name}\")\n",
        "    print(f\"Bases: {bases}\")\n",
        "    print(f\"Attributes: {attrs}\")\n",
        "    return type(name, bases, attrs)\n",
        "\n",
        "# 클래스를 정의할 때 metaclass 인자를 사용\n",
        "class MyClass(metaclass=my_class_builder):\n",
        "    x = 10\n",
        "    def hello(self):\n",
        "        print(\"Hello from MyClass\")\n",
        "\n",
        "# MyClass() 인스턴스 생성 시\n",
        "# MyClass.hello() 등 호출 시 정상 동작\n",
        "# 출력:\n",
        "# Creating class: MyClass\n",
        "# Bases: (<class 'object'>,)\n",
        "# Attributes: {'__module__': '__main__', '__qualname__': 'MyClass', 'x': 10, 'hello': <function MyClass.hello at ...>}"
      ]
    },
    {
      "cell_type": "code",
      "execution_count": null,
      "metadata": {
        "id": "UZxsZqE04tVA"
      },
      "outputs": [],
      "source": [
        "# 2. 실용적인 메타클래스: 모든 메서드를 대문자로 바꾸기\n",
        "class UpperCaseMethodNames(type):\n",
        "    def __new__(cls, name, bases, attrs):\n",
        "        new_attrs = {}\n",
        "        for attr_name, attr_value in attrs.items():\n",
        "            if callable(attr_value) and not attr_name.startswith('__'): # 매직 메서드는 제외\n",
        "                new_attrs[attr_name.upper()] = attr_value\n",
        "            else:\n",
        "                new_attrs[attr_name] = attr_value\n",
        "        return super().__new__(cls, name, bases, new_attrs)\n",
        "\n",
        "class MyService(metaclass=UpperCaseMethodNames):\n",
        "    def get_data(self):\n",
        "        return \"Some data\"\n",
        "\n",
        "    def process_info(self, info):\n",
        "        return f\"Processing: {info}\"\n",
        "\n",
        "# print(MyService.get_data()) # AttributeError: 'MyService' object has no attribute 'get_data'\n",
        "print(MyService.GET_DATA(MyService())) # GET_DATA가 호출됨 (인스턴스를 생성해야 메서드를 호출)\n",
        "print(MyService().PROCESS_INFO(\"abc\"))\n",
        "# 출력:\n",
        "# Some data\n",
        "# Processing: abc"
      ]
    },
    {
      "cell_type": "markdown",
      "metadata": {
        "id": "n1ES7Qsw4tVB"
      },
      "source": [
        "-----\n",
        "\n",
        "### 4\\. 동시성 및 병렬성 (Concurrency & Parallelism)\n",
        "\n",
        "#### GIL (Global Interpreter Lock) 이해\n",
        "\n",
        "  * CPython 인터프리터에서 한 번에 하나의 스레드만 파이썬 바이트코드를 실행할 수 있도록 하는 Lock.\n",
        "  * CPU 바운드 작업(계산 위주)에서는 멀티스레딩이 병렬성을 제공하지 못하고 오히려 오버헤드 때문에 느려질 수 있음. I/O 바운드 작업(네트워크, 파일 읽기/쓰기)에서는 스레드가 대기하는 동안 다른 스레드가 실행될 수 있어 유용.\n",
        "\n",
        "#### 멀티스레딩 (Multithreading)\n",
        "\n",
        "  * I/O 바운드 작업에 적합. `threading` 모듈."
      ]
    },
    {
      "cell_type": "code",
      "execution_count": null,
      "metadata": {
        "id": "2xSNtvMs4tVB"
      },
      "outputs": [],
      "source": [
        "import threading\n",
        "import time\n",
        "import requests # pip install requests\n",
        "\n",
        "def download_image(url):\n",
        "    print(f\"Starting download: {url.split('/')[-1]}\")\n",
        "    response = requests.get(url)\n",
        "    with open(f\"image_{url.split('/')[-1]}\", \"wb\") as f:\n",
        "        f.write(response.content)\n",
        "    print(f\"Finished download: {url.split('/')[-1]}\")\n",
        "\n",
        "urls = [\n",
        "    \"https://via.placeholder.com/150/FF0000/FFFFFF?text=Image1\",\n",
        "    \"https://via.placeholder.com/150/00FF00/000000?text=Image2\",\n",
        "    \"https://via.placeholder.com/150/0000FF/FFFFFF?text=Image3\",\n",
        "]\n",
        "\n",
        "threads = []\n",
        "start_time = time.time()\n",
        "\n",
        "for url in urls:\n",
        "    thread = threading.Thread(target=download_image, args=(url,))\n",
        "    threads.append(thread)\n",
        "    thread.start()\n",
        "\n",
        "for thread in threads:\n",
        "    thread.join() # 모든 스레드가 완료될 때까지 대기\n",
        "\n",
        "end_time = time.time()\n",
        "print(f\"All images downloaded in {end_time - start_time:.2f} seconds (multithreading)\")\n",
        "# 보통 순차적 다운로드보다 빠름"
      ]
    },
    {
      "cell_type": "markdown",
      "metadata": {
        "id": "tPjYkEbP4tVB"
      },
      "source": [
        "* **스레드 동기화 (Lock):** 경쟁 조건 방지."
      ]
    },
    {
      "cell_type": "code",
      "execution_count": null,
      "metadata": {
        "id": "3WaauSdD4tVB"
      },
      "outputs": [],
      "source": [
        "import threading\n",
        "\n",
        "balance = 0\n",
        "lock = threading.Lock() # 락 객체 생성\n",
        "\n",
        "def deposit(amount):\n",
        "    global balance\n",
        "    for _ in range(100000): # 10만번 반복\n",
        "        lock.acquire() # 락 획득\n",
        "        try:\n",
        "            balance += amount\n",
        "        finally:\n",
        "            lock.release() # 락 해제 (finally로 항상 해제되도록)\n",
        "\n",
        "def withdraw(amount):\n",
        "    global balance\n",
        "    for _ in range(100000):\n",
        "        with lock: # with 문으로 락 자동 획득/해제\n",
        "            balance -= amount\n",
        "\n",
        "t1 = threading.Thread(target=deposit, args=(1,))\n",
        "t2 = threading.Thread(target=withdraw, args=(1,))\n",
        "\n",
        "t1.start()\n",
        "t2.start()\n",
        "\n",
        "t1.join()\n",
        "t2.join()\n",
        "\n",
        "print(f\"Final balance: {balance}\") # 0 (락 덕분에 정확한 결과)"
      ]
    },
    {
      "cell_type": "markdown",
      "metadata": {
        "id": "BBmZF8Uu4tVB"
      },
      "source": [
        "#### 멀티프로세싱 (Multiprocessing)\n",
        "\n",
        "  * CPU 바운드 작업에 적합. `multiprocessing` 모듈. GIL의 영향을 받지 않음."
      ]
    },
    {
      "cell_type": "code",
      "execution_count": null,
      "metadata": {
        "id": "VCvMd_OW4tVB"
      },
      "outputs": [],
      "source": [
        "import multiprocessing\n",
        "import time\n",
        "import os\n",
        "\n",
        "def calculate_sum(start, end):\n",
        "    s = sum(range(start, end))\n",
        "    print(f\"Process {os.getpid()} calculated sum from {start} to {end}\")\n",
        "    return s\n",
        "\n",
        "if __name__ == \"__main__\": # Windows에서 multiprocessing 사용 시 필수\n",
        "    numbers_per_process = 25_000_000\n",
        "    total_sum = 0\n",
        "    processes = []\n",
        "\n",
        "    start_time = time.time()\n",
        "\n",
        "    with multiprocessing.Pool(processes=4) as pool: # 4개의 프로세스 풀\n",
        "        results = pool.starmap(calculate_sum, [\n",
        "            (0, numbers_per_process),\n",
        "            (numbers_per_process, numbers_per_process * 2),\n",
        "            (numbers_per_process * 2, numbers_per_process * 3),\n",
        "            (numbers_per_process * 3, numbers_per_process * 4)\n",
        "        ])\n",
        "        total_sum = sum(results)\n",
        "\n",
        "    end_time = time.time()\n",
        "    print(f\"Total sum: {total_sum}\")\n",
        "    print(f\"Calculated in {end_time - start_time:.2f} seconds (multiprocessing)\")\n",
        "    # 순차적 계산보다 빠름"
      ]
    },
    {
      "cell_type": "markdown",
      "metadata": {
        "id": "7NykOH3r4tVB"
      },
      "source": [
        "* **프로세스 간 통신 (Queue):**"
      ]
    },
    {
      "cell_type": "code",
      "execution_count": null,
      "metadata": {
        "id": "Kd-qQe6U4tVB"
      },
      "outputs": [],
      "source": [
        "import multiprocessing\n",
        "import time\n",
        "\n",
        "def producer(queue):\n",
        "    for i in range(5):\n",
        "        msg = f\"Item {i}\"\n",
        "        print(f\"Producer: Putting {msg}\")\n",
        "        queue.put(msg)\n",
        "        time.sleep(0.1)\n",
        "    queue.put(None) # 종료 신호\n",
        "\n",
        "def consumer(queue):\n",
        "    while True:\n",
        "        msg = queue.get()\n",
        "        if msg is None: # 종료 신호 받으면\n",
        "            break\n",
        "        print(f\"Consumer: Got {msg}\")\n",
        "        time.sleep(0.2)\n",
        "\n",
        "if __name__ == \"__main__\":\n",
        "    q = multiprocessing.Queue()\n",
        "    p1 = multiprocessing.Process(target=producer, args=(q,))\n",
        "    p2 = multiprocessing.Process(target=consumer, args=(q,))\n",
        "\n",
        "    p1.start()\n",
        "    p2.start()\n",
        "\n",
        "    p1.join()\n",
        "    p2.join()\n",
        "    print(\"Producer and Consumer finished.\")"
      ]
    },
    {
      "cell_type": "markdown",
      "metadata": {
        "id": "hVl-OVA04tVB"
      },
      "source": [
        "#### 비동기 프로그래밍 (Asynchronous Programming)\n",
        "\n",
        "  * `asyncio` 모듈, `async`/`await` 키워드. 단일 스레드/단일 프로세스에서 I/O 대기를 효율적으로 처리."
      ]
    },
    {
      "cell_type": "code",
      "execution_count": null,
      "metadata": {
        "id": "oBiRlz9t4tVB"
      },
      "outputs": [],
      "source": [
        "import asyncio\n",
        "import time\n",
        "import aiohttp # pip install aiohttp\n",
        "\n",
        "async def fetch_url(session, url):\n",
        "    start_time = time.time()\n",
        "    async with session.get(url) as response:\n",
        "        await response.text() # 응답 본문을 다 읽을 때까지 기다림\n",
        "        end_time = time.time()\n",
        "        print(f\"Fetched {url.split('/')[-1]} in {end_time - start_time:.2f} seconds\")\n",
        "        return response.status\n",
        "\n",
        "async def main():\n",
        "    urls = [\n",
        "        \"https://httpbin.org/delay/2\", # 2초 지연\n",
        "        \"https://httpbin.org/delay/1\", # 1초 지연\n",
        "        \"https://httpbin.org/delay/3\"  # 3초 지연\n",
        "    ]\n",
        "    async with aiohttp.ClientSession() as session:\n",
        "        tasks = [fetch_url(session, url) for url in urls]\n",
        "        await asyncio.gather(*tasks) # 모든 코루틴이 완료될 때까지 기다림\n",
        "\n",
        "if __name__ == \"__main__\":\n",
        "    start_total = time.time()\n",
        "    asyncio.run(main())\n",
        "    end_total = time.time()\n",
        "    print(f\"All fetches completed in {end_total - start_total:.2f} seconds (asyncio)\")\n",
        "    # 예상 시간: 약 3초 (가장 긴 지연 시간)"
      ]
    },
    {
      "cell_type": "markdown",
      "metadata": {
        "id": "KXfaQDZ44tVB"
      },
      "source": [
        "-----\n",
        "\n",
        "### 5\\. 예외 처리 및 디버깅 심화 (Advanced Exception Handling & Debugging)\n",
        "\n",
        "#### 사용자 정의 예외 (Custom Exceptions)\n",
        "\n",
        "  * `Exception` 클래스를 상속받아 정의."
      ]
    },
    {
      "cell_type": "code",
      "execution_count": null,
      "metadata": {
        "id": "MN3wFAt24tVB"
      },
      "outputs": [],
      "source": [
        "class InvalidInputError(Exception):\n",
        "    \"\"\"사용자 입력이 유효하지 않을 때 발생하는 예외.\"\"\"\n",
        "    def __init__(self, message=\"Invalid input provided\", value=None):\n",
        "        self.message = message\n",
        "        self.value = value\n",
        "        super().__init__(self.message)\n",
        "\n",
        "    def __str__(self):\n",
        "        if self.value is not None:\n",
        "            return f\"{self.message}: '{self.value}'\"\n",
        "        return self.message\n",
        "\n",
        "def process_data(data):\n",
        "    if not isinstance(data, (int, float)):\n",
        "        raise InvalidInputError(\"Data must be a number\", value=data)\n",
        "    if data < 0:\n",
        "        raise ValueError(\"Data cannot be negative\") # 내장 예외도 활용\n",
        "\n",
        "    return data * 2\n",
        "\n",
        "try:\n",
        "    result = process_data(\"abc\")\n",
        "except InvalidInputError as e:\n",
        "    print(f\"Caught custom error: {e}\") # Caught custom error: Data must be a number: 'abc'\n",
        "except ValueError as e:\n",
        "    print(f\"Caught ValueError: {e}\")\n",
        "\n",
        "try:\n",
        "    result = process_data(-5)\n",
        "except InvalidInputError as e:\n",
        "    print(f\"Caught custom error: {e}\")\n",
        "except ValueError as e:\n",
        "    print(f\"Caught ValueError: {e}\") # Caught ValueError: Data cannot be negative"
      ]
    },
    {
      "cell_type": "markdown",
      "metadata": {
        "id": "I3bHPPq34tVB"
      },
      "source": [
        "#### 로깅 (Logging)\n",
        "\n",
        "  * `logging` 모듈을 사용하여 체계적인 로그 관리."
      ]
    },
    {
      "cell_type": "code",
      "execution_count": null,
      "metadata": {
        "id": "X8w27ZZv4tVB"
      },
      "outputs": [],
      "source": [
        "import logging\n",
        "\n",
        "# 로거 설정\n",
        "logging.basicConfig(\n",
        "    level=logging.INFO, # INFO 레벨 이상만 기록\n",
        "    format='%(asctime)s - %(name)s - %(levelname)s - %(message)s',\n",
        "    handlers=[\n",
        "        logging.FileHandler(\"app.log\"), # 파일로 출력\n",
        "        logging.StreamHandler()         # 콘솔로 출력\n",
        "    ]\n",
        ")\n",
        "\n",
        "logger = logging.getLogger(__name__) # 현재 모듈 이름으로 로거 생성\n",
        "\n",
        "def divide(a, b):\n",
        "    logger.debug(f\"Attempting to divide {a} by {b}\") # 디버그 레벨은 콘솔/파일에 안 보임 (INFO 이상이므로)\n",
        "    try:\n",
        "        result = a / b\n",
        "        logger.info(f\"Division successful: {a} / {b} = {result}\")\n",
        "        return result\n",
        "    except ZeroDivisionError:\n",
        "        logger.error(\"Attempted to divide by zero!\")\n",
        "        return None\n",
        "    except TypeError as e:\n",
        "        logger.exception(f\"Type error occurred during division: {e}\") # 예외 정보와 함께 로그\n",
        "        return None\n",
        "\n",
        "divide(10, 2)\n",
        "divide(10, 0)\n",
        "divide(10, \"a\")\n",
        "\n",
        "# app.log 파일과 콘솔에 다음과 같이 기록됨:\n",
        "# 2023-10-27 10:00:00,123 - __main__ - INFO - Division successful: 10 / 2 = 5.0\n",
        "# 2023-10-27 10:00:00,456 - __main__ - ERROR - Attempted to divide by zero!\n",
        "# 2023-10-27 10:00:00,789 - __main__ - ERROR - Type error occurred during division: unsupported operand type(s) for /: 'int' and 'str'\n",
        "# Traceback (most recent call last):\n",
        "#   ...\n",
        "    # TypeError: unsupported operand type(s) for /: 'int' and 'str'"
      ]
    },
    {
      "cell_type": "markdown",
      "metadata": {
        "id": "B8XyFTIt4tVB"
      },
      "source": [
        "#### 디버깅 기법 (`pdb`)\n",
        "\n",
        "  * 파이썬 내장 디버거."
      ]
    },
    {
      "cell_type": "code",
      "execution_count": null,
      "metadata": {
        "id": "EhIQWsGs4tVB"
      },
      "outputs": [],
      "source": [
        "def calculate_average(numbers):\n",
        "    # import pdb; pdb.set_trace() # 여기에 breakpoint 설정\n",
        "    total = 0\n",
        "    count = 0\n",
        "    for num in numbers:\n",
        "        total += num\n",
        "        count += 1\n",
        "    return total / count\n",
        "\n",
        "my_numbers = [10, 20, 30]\n",
        "# result = calculate_average(my_numbers) # pdb.set_trace() 주석 해제 후 실행\n",
        "# print(result)\n",
        "#\n",
        "# pdb 사용법:\n",
        "# (Pdb) n (next line)\n",
        "# (Pdb) s (step into function)\n",
        "# (Pdb) c (continue)\n",
        "# (Pdb) p <variable> (print variable)\n",
        "# (Pdb) l (list code around current line)\n",
        "# (Pdb) q (quit)"
      ]
    },
    {
      "cell_type": "markdown",
      "metadata": {
        "id": "J-tH4GR14tVB"
      },
      "source": [
        "-----\n",
        "\n",
        "### 6\\. 모듈 및 패키지 관리 심화 (Advanced Module & Package Management)\n",
        "\n",
        "#### 모듈 임포트 시스템\n",
        "\n",
        "  * 절대 경로, 상대 경로.\n",
        "\n",
        "    ```\n",
        "    # 프로젝트 구조 예시:\n",
        "    # my_project/\n",
        "    # ├── main.py\n",
        "    # └── my_package/\n",
        "    #     ├── __init__.py\n",
        "    #     ├── module_a.py\n",
        "    #     └── sub_package/\n",
        "    #         ├── __init__.py\n",
        "    #         └── module_b.py\n",
        "    ```\n",
        "\n",
        "      * **`my_package/module_a.py`**"
      ]
    },
    {
      "cell_type": "code",
      "execution_count": null,
      "metadata": {
        "id": "G24O10Sk4tVB"
      },
      "outputs": [],
      "source": [
        "def func_a():\n",
        "            print(\"Function A from module_a\")"
      ]
    },
    {
      "cell_type": "markdown",
      "metadata": {
        "id": "UneMrXwQ4tVC"
      },
      "source": [
        "* **`my_package/sub_package/module_b.py`**"
      ]
    },
    {
      "cell_type": "code",
      "execution_count": null,
      "metadata": {
        "id": "VDvdS9ad4tVC"
      },
      "outputs": [],
      "source": [
        "# 상대 경로 임포트 (my_package.sub_package 내부에서)\n",
        "from ..module_a import func_a # 상위 패키지(my_package)의 module_a 임포트\n",
        "\n",
        "def func_b():\n",
        "    print(\"Function B from module_b\")\n",
        "    func_a()"
      ]
    },
    {
      "cell_type": "markdown",
      "metadata": {
        "id": "hoOPEzqV4tVC"
      },
      "source": [
        "* **`main.py`**"
      ]
    },
    {
      "cell_type": "code",
      "execution_count": null,
      "metadata": {
        "id": "zLqXE1tO4tVC"
      },
      "outputs": [],
      "source": [
        "# 절대 경로 임포트\n",
        "from my_package.module_a import func_a\n",
        "from my_package.sub_package.module_b import func_b\n",
        "\n",
        "func_a()\n",
        "func_b()\n",
        "# 출력:\n",
        "# Function A from module_a\n",
        "# Function B from module_b\n",
        "# Function A from module_a"
      ]
    },
    {
      "cell_type": "markdown",
      "metadata": {
        "id": "s2hyMVC04tVC"
      },
      "source": [
        "#### 가상 환경 (Virtual Environments)\n",
        "\n",
        "  * 프로젝트별 독립적인 파이썬 환경 구축 (`venv`).\n",
        "\n",
        "    ```bash\n",
        "    # 가상 환경 생성\n",
        "    python3 -m venv my_project_env\n",
        "\n",
        "    # 가상 환경 활성화 (Linux/macOS)\n",
        "    source my_project_env/bin/activate\n",
        "\n",
        "    # 가상 환경 활성화 (Windows Command Prompt)\n",
        "    my_project_env\\Scripts\\activate.bat\n",
        "\n",
        "    # 가상 환경 활성화 (Windows PowerShell)\n",
        "    my_project_env\\Scripts\\Activate.ps1\n",
        "\n",
        "    # 라이브러리 설치 (가상 환경에 설치됨)\n",
        "    pip install requests\n",
        "\n",
        "    # 설치된 라이브러리 목록 확인\n",
        "    pip freeze > requirements.txt\n",
        "\n",
        "    # 가상 환경 비활성화\n",
        "    deactivate\n",
        "    ```\n",
        "\n",
        "-----\n",
        "\n",
        "### 7\\. 파이썬 성능 최적화 (Python Performance Optimization)\n",
        "\n",
        "#### 프로파일링 (Profiling)\n",
        "\n",
        "  * `cProfile`을 사용하여 코드의 병목 구간 식별."
      ]
    },
    {
      "cell_type": "code",
      "execution_count": null,
      "metadata": {
        "id": "6eKY5dUt4tVC"
      },
      "outputs": [],
      "source": [
        "import cProfile\n",
        "import time\n",
        "\n",
        "def slow_function_part1():\n",
        "    time.sleep(0.1)\n",
        "    sum(range(10**6)) # CPU 바운드 작업\n",
        "\n",
        "def slow_function_part2():\n",
        "    time.sleep(0.2)\n",
        "    \" \".join([str(i) for i in range(10**5)]) # 문자열 조작\n",
        "\n",
        "def main_function():\n",
        "    slow_function_part1()\n",
        "    slow_function_part2()\n",
        "\n",
        "# 터미널에서 실행:\n",
        "# python -m cProfile your_script_name.py\n",
        "# 또는 코드 내에서:\n",
        "cProfile.run('main_function()')\n",
        "# 출력 예시 (일부):\n",
        "#   ncalls  tottime  percall  cumtime  percall filename:lineno(function)\n",
        "#        1    0.100    0.100    0.100    0.100 your_script_name.py:6(slow_function_part1)\n",
        "#        1    0.200    0.200    0.200    0.200 your_script_name.py:10(slow_function_part2)\n",
        "#        1    0.300    0.300    0.300    0.300 your_script_name.py:14(main_function)\n",
        "# ...\n",
        "# `tottime`은 함수 자체에서 보낸 시간, `cumtime`은 함수 및 호출된 모든 하위 함수에서 보낸 총 시간."
      ]
    },
    {
      "cell_type": "markdown",
      "metadata": {
        "id": "8l4xlBUJ4tVC"
      },
      "source": [
        "#### 메모리 최적화 (`__slots__`)\n",
        "\n",
        "  * `__slots__`는 위에서 설명함 (객체 지향 심화 섹션).\n",
        "\n",
        "#### `numpy`, `Cython`, `Numba` (개념 소개)\n",
        "\n",
        "  * **`numpy`:** 과학 계산을 위한 핵심 라이브러리. 배열 연산이 C로 구현되어 매우 빠름."
      ]
    },
    {
      "cell_type": "code",
      "execution_count": null,
      "metadata": {
        "id": "ajAUqrTo4tVC"
      },
      "outputs": [],
      "source": [
        "import numpy as np\n",
        "import time\n",
        "\n",
        "size = 10**7\n",
        "list_a = list(range(size))\n",
        "list_b = list(range(size))\n",
        "\n",
        "np_a = np.arange(size)\n",
        "np_b = np.arange(size)\n",
        "\n",
        "# 파이썬 리스트 덧셈\n",
        "start = time.perf_counter()\n",
        "result_list = [x + y for x, y in zip(list_a, list_b)]\n",
        "end = time.perf_counter()\n",
        "print(f\"Python list addition: {end - start:.6f} seconds\")\n",
        "\n",
        "# NumPy 배열 덧셈\n",
        "start = time.perf_counter()\n",
        "result_np = np_a + np_b\n",
        "end = time.perf_counter()\n",
        "print(f\"NumPy array addition: {end - start:.6f} seconds\")\n",
        "# NumPy가 훨씬 빠름을 확인할 수 있음."
      ]
    },
    {
      "cell_type": "markdown",
      "metadata": {
        "id": "eTZ2XU5H4tVC"
      },
      "source": [
        "* **`Cython`:** 파이썬 코드를 C로 변환하여 컴파일할 수 있게 해주는 도구."
      ]
    },
    {
      "cell_type": "code",
      "execution_count": null,
      "metadata": {
        "id": "iE0BO5Ak4tVC"
      },
      "outputs": [],
      "source": [
        "# my_module.pyx (Cython 파일)\n",
        "# def fast_fib(int n):\n",
        "#     cdef int a, b, i\n",
        "#     a, b = 0, 1\n",
        "#     for i in range(n):\n",
        "#         a, b = b, a + b\n",
        "#     return a\n",
        "\n",
        "# setup.py (컴파일 스크립트)\n",
        "# from setuptools import setup\n",
        "# from Cython.Build import cythonize\n",
        "# setup(ext_modules = cythonize(\"my_module.pyx\"))\n",
        "\n",
        "# 터미널에서: python setup.py build_ext --inplace\n",
        "# 그런 다음 파이썬에서:\n",
        "# import my_module\n",
        "# print(my_module.fast_fib(100)) # 매우 빠르게 계산됨"
      ]
    },
    {
      "cell_type": "markdown",
      "metadata": {
        "id": "OjWwmfYY4tVC"
      },
      "source": [
        "* **`Numba`:** `@jit` 데코레이터를 사용하여 파이썬 코드를 JIT(Just-In-Time) 컴파일하여 성능 향상."
      ]
    },
    {
      "cell_type": "code",
      "execution_count": null,
      "metadata": {
        "id": "awYe35aM4tVC"
      },
      "outputs": [],
      "source": [
        "from numba import jit\n",
        "import time\n",
        "\n",
        "@jit(nopython=True) # JIT 컴파일 적용, 파이썬 객체 사용 안 함\n",
        "def sum_numba(n):\n",
        "    s = 0\n",
        "    for i in range(n):\n",
        "        s += i\n",
        "    return s\n",
        "\n",
        "def sum_python(n):\n",
        "    s = 0\n",
        "    for i in range(n):\n",
        "        s += i\n",
        "    return s\n",
        "\n",
        "n = 10**7\n",
        "\n",
        "start = time.perf_counter()\n",
        "result_numba = sum_numba(n) # 첫 호출 시 컴파일 시간 포함\n",
        "end = time.perf_counter()\n",
        "print(f\"Numba sum: {result_numba}, Time: {end - start:.6f} seconds\")\n",
        "\n",
        "start = time.perf_counter()\n",
        "result_python = sum_python(n)\n",
        "end = time.perf_counter()\n",
        "print(f\"Python sum: {result_python}, Time: {end - start:.6f} seconds\")\n",
        "# Numba가 훨씬 빠름"
      ]
    },
    {
      "cell_type": "markdown",
      "metadata": {
        "id": "uEPsefYI4tVC"
      },
      "source": [
        "-----\n",
        "\n",
        "### 8\\. 기타 고급 주제 (Miscellaneous Advanced Topics)\n",
        "\n",
        "#### 컨텍스트 관리자 (Context Managers)\n",
        "\n",
        "  * `with` 문과 함께 사용되어 자원(파일, 락 등)을 안전하게 관리.\n",
        "\n",
        "  * `__enter__`, `__exit__` 메서드 구현."
      ]
    },
    {
      "cell_type": "code",
      "execution_count": null,
      "metadata": {
        "id": "1f_Ql4la4tVC"
      },
      "outputs": [],
      "source": [
        "# 1. 파일 처리 (가장 흔한 예시)\n",
        "with open('my_file.txt', 'w') as f:\n",
        "    f.write(\"Hello, context manager!\")\n",
        "# 파일이 자동으로 닫힘\n",
        "\n",
        "# 2. 사용자 정의 컨텍스트 관리자\n",
        "class MyContextManager:\n",
        "    def __init__(self, name):\n",
        "        self.name = name\n",
        "        print(f\"__init__ for {self.name}\")\n",
        "\n",
        "    def __enter__(self):\n",
        "        print(f\"__enter__ for {self.name}: Resource acquired.\")\n",
        "        return self # with as 문에서 반환되는 값\n",
        "\n",
        "    def __exit__(self, exc_type, exc_val, exc_tb):\n",
        "        print(f\"__exit__ for {self.name}: Resource released.\")\n",
        "        if exc_type: # 예외가 발생했으면\n",
        "            print(f\"  Exception occurred: {exc_val}\")\n",
        "            # return True를 하면 예외가 다시 발생하지 않음 (억제)\n",
        "            # return False (또는 아무것도 반환 안 함)이면 예외가 다시 발생\n",
        "        return False # 예외를 억제하지 않음\n",
        "\n",
        "with MyContextManager(\"database_connection\") as db:\n",
        "    print(\"Inside with block.\")\n",
        "    # raise ValueError(\"Something went wrong!\") # 예외 발생 시 __exit__이 처리하는 방식 확인\n",
        "\n",
        "print(\"Outside with block.\")\n",
        "# 출력:\n",
        "# __init__ for database_connection\n",
        "# __enter__ for database_connection: Resource acquired.\n",
        "# Inside with block.\n",
        "# __exit__ for database_connection: Resource released.\n",
        "# Outside with block."
      ]
    },
    {
      "cell_type": "markdown",
      "metadata": {
        "id": "S-Fw_CtY4tVC"
      },
      "source": [
        "* `contextlib` 모듈 (`@contextmanager` 데코레이터): 제너레이터로 컨텍스트 관리자 생성."
      ]
    },
    {
      "cell_type": "code",
      "execution_count": null,
      "metadata": {
        "id": "qh2uXFkK4tVC"
      },
      "outputs": [],
      "source": [
        "from contextlib import contextmanager\n",
        "\n",
        "@contextmanager\n",
        "def managed_resource(name):\n",
        "    print(f\"Entering: {name}\")\n",
        "    yield name # 이 지점에서 with 블록이 실행\n",
        "    print(f\"Exiting: {name}\")\n",
        "\n",
        "with managed_resource(\"lock_resource\") as resource:\n",
        "    print(f\"Working with {resource}\")\n",
        "\n",
        "# 출력:\n",
        "# Entering: lock_resource\n",
        "# Working with lock_resource\n",
        "# Exiting: lock_resource"
      ]
    },
    {
      "cell_type": "markdown",
      "metadata": {
        "id": "5IcbpjfE4tVC"
      },
      "source": [
        "#### 파일 및 I/O 심화\n",
        "\n",
        "  * **바이너리 파일 처리:** 이미지, 오디오 등."
      ]
    },
    {
      "cell_type": "code",
      "execution_count": null,
      "metadata": {
        "id": "8xEqdfGZ4tVC"
      },
      "outputs": [],
      "source": [
        "# 이미지 파일 복사 (바이너리 모드)\n",
        "def copy_binary_file(src_path, dest_path):\n",
        "    with open(src_path, 'rb') as src_f: # 읽기 바이너리 모드\n",
        "        with open(dest_path, 'wb') as dest_f: # 쓰기 바이너리 모드\n",
        "            while True:\n",
        "                chunk = src_f.read(4096) # 4KB씩 읽기\n",
        "                if not chunk:\n",
        "                    break\n",
        "                dest_f.write(chunk)\n",
        "    print(f\"Copied {src_path} to {dest_path}\")\n",
        "\n",
        "# 예시 (실제 이미지 파일로 테스트):\n",
        "# with open('test_image.png', 'wb') as f:\n",
        "#     f.write(b'\\x89PNG\\r\\n\\x1a\\n\\x00\\x00\\x00\\rIHDR...') # 실제 PNG 데이터 대신 더미 데이터\n",
        "# copy_binary_file('test_image.png', 'test_image_copy.png')"
      ]
    },
    {
      "cell_type": "markdown",
      "metadata": {
        "id": "E7OhkXZ74tVC"
      },
      "source": [
        "#### 정규 표현식 (Regular Expressions) 심화\n",
        "\n",
        "  * `re` 모듈의 고급 기능."
      ]
    },
    {
      "cell_type": "code",
      "execution_count": null,
      "metadata": {
        "id": "U22b_fu64tVC"
      },
      "outputs": [],
      "source": [
        "import re\n",
        "\n",
        "text = \"Emails: test@example.com, user123@domain.org, another.one@mail.net\"\n",
        "\n",
        "# 이메일 주소 찾기 (간단한 패턴)\n",
        "emails = re.findall(r'[a-zA-Z0-9._%+-]+@[a-zA-Z0-9.-]+\\.[a-zA-Z]{2,}', text)\n",
        "print(f\"Found emails: {emails}\")\n",
        "\n",
        "# 그룹화 (Group): 특정 부분을 추출\n",
        "text_with_names = \"Name: Alice, Age: 30; Name: Bob, Age: 25\"\n",
        "# (?:...)는 그룹으로 묶되 캡처하지 않음\n",
        "# (?P<name>...)은 이름을 가진 그룹 (name으로 접근 가능)\n",
        "pattern = r\"Name: (?P<name>\\w+), Age: (?P<age>\\d+)\"\n",
        "for match in re.finditer(pattern, text_with_names):\n",
        "    print(f\"Match found: Name={match.group('name')}, Age={match.group('age')}\")\n",
        "\n",
        "# 치환 (sub): 패턴에 맞는 부분을 다른 문자열로 교체\n",
        "new_text = re.sub(r'Age: (\\d+)', 'Age: [REDACTED]', text_with_names)\n",
        "print(f\"Substituted text: {new_text}\")\n",
        "\n",
        "# 컴파일 (compile): 동일한 패턴을 여러 번 사용할 때 성능 향상\n",
        "compiled_pattern = re.compile(r'(\\d{3})-(\\d{4})-(\\d{4})')\n",
        "phone_number = \"My phone is 010-1234-5678.\"\n",
        "match = compiled_pattern.search(phone_number)\n",
        "if match:\n",
        "    print(f\"Phone number: {match.group(0)}\") # 전체 매치\n",
        "    print(f\"Area code: {match.group(1)}\")    # 첫 번째 그룹 (010)"
      ]
    }
  ],
  "metadata": {
    "colab": {
      "provenance": []
    },
    "kernelspec": {
      "display_name": "Python 3 (ipykernel)",
      "language": "python",
      "name": "python3"
    }
  },
  "nbformat": 4,
  "nbformat_minor": 0
}
